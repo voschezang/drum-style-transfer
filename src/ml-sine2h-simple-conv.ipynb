{
 "cells": [
  {
   "cell_type": "code",
   "execution_count": 1,
   "metadata": {},
   "outputs": [],
   "source": [
    "import config\n",
    "import os, numpy as np, pandas, sklearn, scipy.signal as signal\n",
    "import mido\n",
    "import matplotlib.pyplot as plt\n",
    "%matplotlib inline"
   ]
  },
  {
   "cell_type": "code",
   "execution_count": 2,
   "metadata": {},
   "outputs": [
    {
     "name": "stderr",
     "output_type": "stream",
     "text": [
      "/Library/Frameworks/Python.framework/Versions/3.6/lib/python3.6/site-packages/h5py/__init__.py:36: FutureWarning: Conversion of the second argument of issubdtype from `float` to `np.floating` is deprecated. In future, it will be treated as `np.float64 == np.dtype(float).type`.\n",
      "  from ._conv import register_converters as _register_converters\n",
      "Using TensorFlow backend.\n"
     ]
    }
   ],
   "source": [
    "## NN libs\n",
    "from sklearn.decomposition import PCA\n",
    "from sklearn import preprocessing\n",
    "from sklearn.preprocessing import RobustScaler\n",
    "import keras\n",
    "from keras import regularizers\n",
    "from keras.utils import to_categorical\n",
    "from keras.models import Sequential\n",
    "from keras.optimizers import SGD, Adam\n",
    "from keras.layers import Input, Dense, Activation, Conv1D, Conv2D, Dropout, Flatten\n",
    "from keras.layers import Conv2DTranspose, Reshape, MaxPooling2D, UpSampling2D, UpSampling1D, MaxPooling1D\n",
    "from keras.layers import LocallyConnected1D, LocallyConnected2D\n",
    "from keras.layers import Input, LSTM, RepeatVector\n",
    "from keras.models import Model\n",
    "from keras.callbacks import TensorBoard"
   ]
  },
  {
   "cell_type": "code",
   "execution_count": 3,
   "metadata": {},
   "outputs": [
    {
     "name": "stdout",
     "output_type": "stream",
     "text": [
      " Context :: namedtuple(\n",
      "[ max_t = float\n",
      ", dt = float\n",
      ", n_instances = int\n",
      ", note_length = int\n",
      ", bpm = float\n",
      ", tempo = float\n",
      ", ticks_per_beat = int\n",
      "]\n",
      "\n"
     ]
    }
   ],
   "source": [
    "# local libs\n",
    "import config, models, functions\n",
    "from data import data, midi, midi_generators as g\n",
    "from utils import io, models_io, utils"
   ]
  },
  {
   "cell_type": "code",
   "execution_count": 20,
   "metadata": {
    "scrolled": true
   },
   "outputs": [
    {
     "name": "stdout",
     "output_type": "stream",
     "text": [
      "Setting up params\n",
      "\n",
      "max min f 25.0 0.3333333333333333\n",
      " >> Context(max_t=3.0, dt=0.02, n_instances=150, note_length=0.03, bpm=120.0, tempo=500000, ticks_per_beat=480)\n",
      "Setting up params\n",
      "\n",
      "max min f 25.0 0.3333333333333333\n",
      " >> Context(max_t=3.0, dt=0.02, n_instances=150, note_length=0.03, bpm=120.0, tempo=500000, ticks_per_beat=480)\n",
      "Importing midi-data\n",
      "\n",
      "\u001b[92m [INFO] : \u001b[0m\n",
      " |  reading file: ../datasets/examples/01 16th Snare.mid\n",
      "\u001b[92m [INFO] : \u001b[0m\n",
      " |  reading file: ../datasets/examples/01 8th Cym.mid\n",
      "\u001b[92m [INFO] : \u001b[0m\n",
      " |  reading file: ../datasets/examples/01 8th Hat.mid\n",
      "\u001b[92m [INFO] : \u001b[0m\n",
      " |  reading file: ../datasets/examples/02 8th Cym.mid\n",
      "\u001b[92m [INFO] : \u001b[0m\n",
      " |  reading file: ../datasets/examples/114_LetsDance_DavidBowie1.mid\n",
      "\u001b[92m [INFO] : \u001b[0m\n",
      " |  reading file: ../datasets/examples/127_SweetChildOMine_GunsAndRoses1.mid\n",
      "\u001b[92m [INFO] : \u001b[0m\n",
      " |  reading file: ../datasets/examples/92_GiveItAway_TheRedHotChiliPeppers.mid\n",
      "\u001b[92m [INFO] : \u001b[0m\n",
      " |  reading file: ../datasets/examples/94_Creep_Radiohead2.mid\n",
      "\u001b[92m [INFO] : \u001b[0m\n",
      " |  reading file: ../datasets/examples/bossa 1.mid\n",
      "\u001b[92m [INFO] : \u001b[0m\n",
      " |  reading file: ../datasets/examples/bossa 2.mid\n",
      "\u001b[92m [INFO] : \u001b[0m\n",
      " |  reading file: ../datasets/examples/bossa 3.mid\n",
      "\u001b[92m [INFO] : \u001b[0m\n",
      " |  reading file: ../datasets/examples/bossa 4.mid\n",
      "\u001b[92m [INFO] : \u001b[0m\n",
      " |  reading file: ../datasets/examples/G3.mid\n",
      "\u001b[92m [INFO] : \u001b[0m\n",
      " |  reading file: ../datasets/examples/G4.mid\n",
      "\u001b[92m [INFO] : \u001b[0m\n",
      " |  reading file: ../datasets/examples/G5.mid\n",
      "\u001b[92m [INFO] : \u001b[0m\n",
      " |  reading file: ../datasets/examples/G6.mid\n",
      "\u001b[92m [INFO] : \u001b[0m\n",
      " |  reading file: ../datasets/examples/simple-shuffle-120.mid\n",
      "\u001b[92m [INFO] : \u001b[0m\n",
      " |  reading file: ../datasets/examples/simple-straight-120.mid\n",
      "\n",
      "Encoding midi-data\n",
      " [<midi file '../datasets/examples/01 16th Snare.mid' type 0, 1 tracks, 182 messages>, <midi file '../datasets/examples/01 8th Cym.mid' type 0, 1 tracks, 68 messages>, <midi file '../datasets/examples/01 8th Hat.mid' type 0, 1 tracks, 60 messages>, <midi file '../datasets/examples/02 8th Cym.mid' type 0, 1 tracks, 72 messages>, <midi file '../datasets/examples/114_LetsDance_DavidBowie1.mid' type 0, 1 tracks, 76 messages>, <midi file '../datasets/examples/127_SweetChildOMine_GunsAndRoses1.mid' type 0, 1 tracks, 226 messages>, <midi file '../datasets/examples/92_GiveItAway_TheRedHotChiliPeppers.mid' type 0, 1 tracks, 132 messages>, <midi file '../datasets/examples/94_Creep_Radiohead2.mid' type 0, 1 tracks, 126 messages>, <midi file '../datasets/examples/bossa 1.mid' type 0, 1 tracks, 40 messages>, <midi file '../datasets/examples/bossa 2.mid' type 0, 1 tracks, 38 messages>, <midi file '../datasets/examples/bossa 3.mid' type 0, 1 tracks, 34 messages>, <midi file '../datasets/examples/bossa 4.mid' type 0, 1 tracks, 42 messages>, <midi file '../datasets/examples/G3.mid' type 0, 1 tracks, 58 messages>, <midi file '../datasets/examples/G4.mid' type 0, 1 tracks, 111 messages>, <midi file '../datasets/examples/G5.mid' type 0, 1 tracks, 85 messages>, <midi file '../datasets/examples/G6.mid' type 0, 1 tracks, 107 messages>, <midi file '../datasets/examples/simple-shuffle-120.mid' type 0, 1 tracks, 68 messages>, <midi file '../datasets/examples/simple-straight-120.mid' type 0, 1 tracks, 68 messages>]\n",
      "> -> multi-track = False\n",
      "\u001b[91m [DEBUG] > \u001b[0m\n",
      " |>  to_array: msg.time > max_t; t, n\n",
      " |>  2.994791666666667\n",
      " |>  150\n",
      "\u001b[91m [DEBUG] > \u001b[0m\n",
      " |>  to_array: msg.time > max_t; t, n\n",
      " |>  2.9947916666666665\n",
      " |>  150\n",
      "\u001b[91m [DEBUG] > \u001b[0m\n",
      " |>  to_array: msg.time > max_t; t, n\n",
      " |>  2.9947916666666665\n",
      " |>  150\n",
      "\u001b[91m [DEBUG] > \u001b[0m\n",
      " |>  to_array: msg.time > max_t; t, n\n",
      " |>  2.994791666666667\n",
      " |>  150\n",
      "\u001b[91m [DEBUG] > \u001b[0m\n",
      " |>  to_array: msg.time > max_t; t, n\n",
      " |>  2.999999999999999\n",
      " |>  150\n",
      "\u001b[91m [DEBUG] > \u001b[0m\n",
      " |>  to_array: msg.time > max_t; t, n\n",
      " |>  3.0\n",
      " |>  150\n",
      "\u001b[91m [DEBUG] > \u001b[0m\n",
      " |>  to_array: msg.time > max_t; t, n\n",
      " |>  2.9999999999999996\n",
      " |>  150\n",
      "\u001b[91m [DEBUG] > \u001b[0m\n",
      " |>  to_array: msg.time > max_t; t, n\n",
      " |>  3.0000000000000004\n",
      " |>  150\n",
      "\u001b[91m [DEBUG] > \u001b[0m\n",
      " |>  to_array: msg.time > max_t; t, n\n",
      " |>  3.0057662250000003\n",
      " |>  150\n",
      "\u001b[91m [DEBUG] > \u001b[0m\n",
      " |>  to_array: msg.time > max_t; t, n\n",
      " |>  2.9932662375\n",
      " |>  150\n",
      "\u001b[91m [DEBUG] > \u001b[0m\n",
      " |>  to_array: msg.time > max_t; t, n\n",
      " |>  3.6615348\n",
      " |>  150\n",
      "\u001b[91m [DEBUG] > \u001b[0m\n",
      " |>  to_array: msg.time > max_t; t, n\n",
      " |>  2.9961508500000003\n",
      " |>  150\n",
      "\u001b[91m [DEBUG] > \u001b[0m\n",
      " |>  to_array: msg.time > max_t; t, n\n",
      " |>  3.0\n",
      " |>  150\n",
      "\u001b[91m [DEBUG] > \u001b[0m\n",
      " |>  to_array: msg.time > max_t; t, n\n",
      " |>  3.0\n",
      " |>  150\n"
     ]
    }
   ],
   "source": [
    "context = data.init()\n",
    "n = 2\n",
    "multiTrack = False\n",
    "context, x_train, labels = data.import_data(data.init(), n, multiTrack=multiTrack)"
   ]
  },
  {
   "cell_type": "code",
   "execution_count": 54,
   "metadata": {},
   "outputs": [
    {
     "name": "stdout",
     "output_type": "stream",
     "text": [
      "\u001b[91m [DEBUG] > \u001b[0m\n",
      " |>  to_array: msg.time > max_t; t, n\n",
      " |>  2.9937500000000004\n",
      " |>  150\n",
      "\u001b[91m [DEBUG] > \u001b[0m\n",
      " |>  to_array: msg.time > max_t; t, n\n",
      " |>  2.999999999999998\n",
      " |>  150\n",
      "\u001b[91m [DEBUG] > \u001b[0m\n",
      " |>  to_array: msg.time > max_t; t, n\n",
      " |>  2.9916666666666663\n",
      " |>  150\n",
      "\u001b[91m [DEBUG] > \u001b[0m\n",
      " |>  to_array: msg.time > max_t; t, n\n",
      " |>  2.992708333333334\n",
      " |>  150\n",
      "\u001b[91m [DEBUG] > \u001b[0m\n",
      " |>  to_array: msg.time > max_t; t, n\n",
      " |>  2.991666666666668\n",
      " |>  150\n",
      "\u001b[91m [DEBUG] > \u001b[0m\n",
      " |>  to_array: msg.time > max_t; t, n\n",
      " |>  2.9989583333333365\n",
      " |>  150\n",
      "\u001b[91m [DEBUG] > \u001b[0m\n",
      " |>  to_array: msg.time > max_t; t, n\n",
      " |>  3.010416666666675\n",
      " |>  150\n",
      "\u001b[91m [DEBUG] > \u001b[0m\n",
      " |>  to_array: msg.time > max_t; t, n\n",
      " |>  2.993750000000001\n",
      " |>  150\n",
      "\u001b[91m [DEBUG] > \u001b[0m\n",
      " |>  to_array: msg.time > max_t; t, n\n",
      " |>  3.0104166666666647\n",
      " |>  150\n",
      "\u001b[91m [DEBUG] > \u001b[0m\n",
      " |>  to_array: msg.time > max_t; t, n\n",
      " |>  2.9968750000000033\n",
      " |>  150\n",
      "\u001b[91m [DEBUG] > \u001b[0m\n",
      " |>  to_array: msg.time > max_t; t, n\n",
      " |>  3.0020833333333345\n",
      " |>  150\n",
      "\u001b[91m [DEBUG] > \u001b[0m\n",
      " |>  to_array: msg.time > max_t; t, n\n",
      " |>  3.0041666666666664\n",
      " |>  150\n",
      "\u001b[91m [DEBUG] > \u001b[0m\n",
      " |>  to_array: msg.time > max_t; t, n\n",
      " |>  2.9927083333333364\n",
      " |>  150\n",
      "\u001b[91m [DEBUG] > \u001b[0m\n",
      " |>  to_array: msg.time > max_t; t, n\n",
      " |>  3.0333333333333345\n",
      " |>  150\n",
      "\u001b[91m [DEBUG] > \u001b[0m\n",
      " |>  to_array: msg.time > max_t; t, n\n",
      " |>  3.0041666666666673\n",
      " |>  150\n",
      "\u001b[91m [DEBUG] > \u001b[0m\n",
      " |>  to_array: msg.time > max_t; t, n\n",
      " |>  2.9947916666666696\n",
      " |>  150\n",
      "\u001b[91m [DEBUG] > \u001b[0m\n",
      " |>  to_array: msg.time > max_t; t, n\n",
      " |>  2.9906249999999996\n",
      " |>  150\n",
      "\u001b[91m [DEBUG] > \u001b[0m\n",
      " |>  to_array: msg.time > max_t; t, n\n",
      " |>  2.994791666666667\n",
      " |>  150\n",
      "\u001b[91m [DEBUG] > \u001b[0m\n",
      " |>  to_array: msg.time > max_t; t, n\n",
      " |>  3.012500000000001\n",
      " |>  150\n",
      "\u001b[91m [DEBUG] > \u001b[0m\n",
      " |>  to_array: msg.time > max_t; t, n\n",
      " |>  2.9937500000000004\n",
      " |>  150\n",
      "\u001b[91m [DEBUG] > \u001b[0m\n",
      " |>  to_array: msg.time > max_t; t, n\n",
      " |>  3.0135416666666677\n",
      " |>  150\n",
      "\u001b[91m [DEBUG] > \u001b[0m\n",
      " |>  to_array: msg.time > max_t; t, n\n",
      " |>  2.9937500000000017\n",
      " |>  150\n",
      "\u001b[91m [DEBUG] > \u001b[0m\n",
      " |>  to_array: msg.time > max_t; t, n\n",
      " |>  3.0031250000000025\n",
      " |>  150\n",
      "\u001b[91m [DEBUG] > \u001b[0m\n",
      " |>  to_array: msg.time > max_t; t, n\n",
      " |>  2.996875000000003\n",
      " |>  150\n",
      "\u001b[91m [DEBUG] > \u001b[0m\n",
      " |>  to_array: msg.time > max_t; t, n\n",
      " |>  2.994791666666668\n",
      " |>  150\n",
      "\u001b[91m [DEBUG] > \u001b[0m\n",
      " |>  to_array: msg.time > max_t; t, n\n",
      " |>  2.990624999999998\n",
      " |>  150\n",
      "\u001b[91m [DEBUG] > \u001b[0m\n",
      " |>  to_array: msg.time > max_t; t, n\n",
      " |>  2.9916666666666702\n",
      " |>  150\n",
      "\u001b[91m [DEBUG] > \u001b[0m\n",
      " |>  to_array: msg.time > max_t; t, n\n",
      " |>  2.996875000000002\n",
      " |>  150\n",
      "\u001b[91m [DEBUG] > \u001b[0m\n",
      " |>  to_array: msg.time > max_t; t, n\n",
      " |>  2.9927083333333364\n",
      " |>  150\n",
      "\u001b[91m [DEBUG] > \u001b[0m\n",
      " |>  to_array: msg.time > max_t; t, n\n",
      " |>  2.9947916666666687\n",
      " |>  150\n",
      "\u001b[91m [DEBUG] > \u001b[0m\n",
      " |>  to_array: msg.time > max_t; t, n\n",
      " |>  3.0177083333333354\n",
      " |>  150\n",
      "\u001b[91m [DEBUG] > \u001b[0m\n",
      " |>  to_array: msg.time > max_t; t, n\n",
      " |>  3.0104166666666674\n",
      " |>  150\n",
      "\u001b[91m [DEBUG] > \u001b[0m\n",
      " |>  to_array: msg.time > max_t; t, n\n",
      " |>  2.9937500000000017\n",
      " |>  150\n",
      "\u001b[91m [DEBUG] > \u001b[0m\n",
      " |>  to_array: msg.time > max_t; t, n\n",
      " |>  3.004166666666668\n",
      " |>  150\n",
      "\u001b[91m [DEBUG] > \u001b[0m\n",
      " |>  to_array: msg.time > max_t; t, n\n",
      " |>  2.9937499999999986\n",
      " |>  150\n",
      "\u001b[91m [DEBUG] > \u001b[0m\n",
      " |>  to_array: msg.time > max_t; t, n\n",
      " |>  3.0031250000000034\n",
      " |>  150\n",
      "\u001b[91m [DEBUG] > \u001b[0m\n",
      " |>  to_array: msg.time > max_t; t, n\n",
      " |>  3.0000000000000018\n",
      " |>  150\n",
      "\u001b[91m [DEBUG] > \u001b[0m\n",
      " |>  to_array: msg.time > max_t; t, n\n",
      " |>  2.9979166666666694\n",
      " |>  150\n",
      "\u001b[91m [DEBUG] > \u001b[0m\n",
      " |>  to_array: msg.time > max_t; t, n\n",
      " |>  2.9947916666666683\n",
      " |>  150\n",
      "\u001b[91m [DEBUG] > \u001b[0m\n",
      " |>  to_array: msg.time > max_t; t, n\n",
      " |>  2.9937500000000012\n",
      " |>  150\n",
      "\u001b[91m [DEBUG] > \u001b[0m\n",
      " |>  to_array: msg.time > max_t; t, n\n",
      " |>  2.994791666666669\n",
      " |>  150\n",
      "\u001b[91m [DEBUG] > \u001b[0m\n",
      " |>  to_array: msg.time > max_t; t, n\n",
      " |>  2.996874999999999\n",
      " |>  150\n",
      "\u001b[91m [DEBUG] > \u001b[0m\n",
      " |>  to_array: msg.time > max_t; t, n\n",
      " |>  2.9916666666666667\n",
      " |>  150\n",
      "\u001b[91m [DEBUG] > \u001b[0m\n",
      " |>  to_array: msg.time > max_t; t, n\n",
      " |>  3.002083333333333\n",
      " |>  150\n",
      "\u001b[91m [DEBUG] > \u001b[0m\n",
      " |>  to_array: msg.time > max_t; t, n\n",
      " |>  2.9927083333333324\n",
      " |>  150\n",
      "\u001b[91m [DEBUG] > \u001b[0m\n",
      " |>  to_array: msg.time > max_t; t, n\n",
      " |>  2.9968750000000015\n",
      " |>  150\n",
      "\u001b[91m [DEBUG] > \u001b[0m\n",
      " |>  to_array: msg.time > max_t; t, n\n",
      " |>  2.9927083333333355\n",
      " |>  150\n",
      "\u001b[91m [DEBUG] > \u001b[0m\n",
      " |>  to_array: msg.time > max_t; t, n\n",
      " |>  2.9958333333333336\n",
      " |>  150\n",
      "\u001b[91m [DEBUG] > \u001b[0m\n",
      " |>  to_array: msg.time > max_t; t, n\n",
      " |>  2.9968750000000015\n",
      " |>  150\n",
      "\u001b[91m [DEBUG] > \u001b[0m\n",
      " |>  to_array: msg.time > max_t; t, n\n",
      " |>  2.9989583333333325\n",
      " |>  150\n",
      "\u001b[91m [DEBUG] > \u001b[0m\n",
      " |>  to_array: msg.time > max_t; t, n\n",
      " |>  2.990625000000001\n",
      " |>  150\n",
      "\u001b[91m [DEBUG] > \u001b[0m\n",
      " |>  to_array: msg.time > max_t; t, n\n",
      " |>  3.001041666666666\n",
      " |>  150\n",
      "\u001b[91m [DEBUG] > \u001b[0m\n",
      " |>  to_array: msg.time > max_t; t, n\n",
      " |>  3.0031249999999994\n",
      " |>  150\n",
      "\u001b[91m [DEBUG] > \u001b[0m\n",
      " |>  to_array: msg.time > max_t; t, n\n",
      " |>  3.0072916666666645\n",
      " |>  150\n",
      "\u001b[91m [DEBUG] > \u001b[0m\n",
      " |>  to_array: msg.time > max_t; t, n\n",
      " |>  2.996875\n",
      " |>  150\n",
      "\u001b[91m [DEBUG] > \u001b[0m\n",
      " |>  to_array: msg.time > max_t; t, n\n",
      " |>  2.9968749999999993\n",
      " |>  150\n",
      "\u001b[91m [DEBUG] > \u001b[0m\n",
      " |>  to_array: msg.time > max_t; t, n\n",
      " |>  2.992708333333332\n",
      " |>  150\n",
      "\u001b[91m [DEBUG] > \u001b[0m\n",
      " |>  to_array: msg.time > max_t; t, n\n",
      " |>  3.0385416666666663\n",
      " |>  150\n",
      "\u001b[91m [DEBUG] > \u001b[0m\n",
      " |>  to_array: msg.time > max_t; t, n\n",
      " |>  2.994791666666666\n",
      " |>  150\n",
      "\u001b[91m [DEBUG] > \u001b[0m\n",
      " |>  to_array: msg.time > max_t; t, n\n",
      " |>  3.0041666666666678\n",
      " |>  150\n",
      "\u001b[91m [DEBUG] > \u001b[0m\n",
      " |>  to_array: msg.time > max_t; t, n\n",
      " |>  2.992708333333334\n",
      " |>  150\n",
      "\u001b[91m [DEBUG] > \u001b[0m\n",
      " |>  to_array: msg.time > max_t; t, n\n",
      " |>  3.0031250000000016\n",
      " |>  150\n",
      "\u001b[91m [DEBUG] > \u001b[0m\n",
      " |>  to_array: msg.time > max_t; t, n\n",
      " |>  3.000000000000004\n",
      " |>  150\n",
      "\u001b[91m [DEBUG] > \u001b[0m\n",
      " |>  to_array: msg.time > max_t; t, n\n",
      " |>  3.0000000000000036\n",
      " |>  150\n",
      "\u001b[91m [DEBUG] > \u001b[0m\n",
      " |>  to_array: msg.time > max_t; t, n\n",
      " |>  2.9927083333333315\n",
      " |>  150\n",
      "\u001b[91m [DEBUG] > \u001b[0m\n",
      " |>  to_array: msg.time > max_t; t, n\n",
      " |>  3.0020833333333337\n",
      " |>  150\n",
      "\u001b[91m [DEBUG] > \u001b[0m\n",
      " |>  to_array: msg.time > max_t; t, n\n",
      " |>  2.9937500000000035\n",
      " |>  150\n",
      "\u001b[91m [DEBUG] > \u001b[0m\n",
      " |>  to_array: msg.time > max_t; t, n\n",
      " |>  3.0\n",
      " |>  150\n",
      "\u001b[91m [DEBUG] > \u001b[0m\n",
      " |>  to_array: msg.time > max_t; t, n\n",
      " |>  3.0000000000000018\n",
      " |>  150\n",
      "\u001b[91m [DEBUG] > \u001b[0m\n",
      " |>  to_array: msg.time > max_t; t, n\n",
      " |>  2.9989583333333356\n",
      " |>  150\n",
      "\u001b[91m [DEBUG] > \u001b[0m\n",
      " |>  to_array: msg.time > max_t; t, n\n",
      " |>  2.991666666666666\n",
      " |>  150\n",
      "\u001b[91m [DEBUG] > \u001b[0m\n",
      " |>  to_array: msg.time > max_t; t, n\n",
      " |>  3.000000000000001\n",
      " |>  150\n",
      "\u001b[91m [DEBUG] > \u001b[0m\n",
      " |>  to_array: msg.time > max_t; t, n\n",
      " |>  2.9906250000000023\n",
      " |>  150\n",
      "\u001b[91m [DEBUG] > \u001b[0m\n",
      " |>  to_array: msg.time > max_t; t, n\n",
      " |>  3.0041666666666678\n",
      " |>  150\n",
      "\u001b[91m [DEBUG] > \u001b[0m\n",
      " |>  to_array: msg.time > max_t; t, n\n",
      " |>  2.991666666666669\n",
      " |>  150\n",
      "\u001b[91m [DEBUG] > \u001b[0m\n",
      " |>  to_array: msg.time > max_t; t, n\n",
      " |>  3.003125000000002\n",
      " |>  150\n",
      "\u001b[91m [DEBUG] > \u001b[0m\n",
      " |>  to_array: msg.time > max_t; t, n\n",
      " |>  2.9906250000000014\n",
      " |>  150\n",
      "\u001b[91m [DEBUG] > \u001b[0m\n",
      " |>  to_array: msg.time > max_t; t, n\n",
      " |>  3.0010416666666675\n",
      " |>  150\n",
      "\u001b[91m [DEBUG] > \u001b[0m\n",
      " |>  to_array: msg.time > max_t; t, n\n",
      " |>  2.991666666666667\n",
      " |>  150\n",
      "\u001b[91m [DEBUG] > \u001b[0m\n",
      " |>  to_array: msg.time > max_t; t, n\n",
      " |>  3.005208333333336\n",
      " |>  150\n",
      "\u001b[91m [DEBUG] > \u001b[0m\n",
      " |>  to_array: msg.time > max_t; t, n\n",
      " |>  2.995833333333335\n",
      " |>  150\n",
      "\u001b[91m [DEBUG] > \u001b[0m\n",
      " |>  to_array: msg.time > max_t; t, n\n",
      " |>  3.001041666666669\n",
      " |>  150\n",
      "\u001b[91m [DEBUG] > \u001b[0m\n",
      " |>  to_array: msg.time > max_t; t, n\n",
      " |>  2.9927083333333373\n",
      " |>  150\n",
      "\u001b[91m [DEBUG] > \u001b[0m\n",
      " |>  to_array: msg.time > max_t; t, n\n",
      " |>  2.9927083333333346\n",
      " |>  150\n",
      "\u001b[91m [DEBUG] > \u001b[0m\n",
      " |>  to_array: msg.time > max_t; t, n\n",
      " |>  2.998958333333334\n",
      " |>  150\n",
      "\u001b[91m [DEBUG] > \u001b[0m\n",
      " |>  to_array: msg.time > max_t; t, n\n",
      " |>  2.9989583333333343\n",
      " |>  150\n",
      "\u001b[91m [DEBUG] > \u001b[0m\n",
      " |>  to_array: msg.time > max_t; t, n\n",
      " |>  2.994791666666669\n",
      " |>  150\n",
      "\u001b[91m [DEBUG] > \u001b[0m\n",
      " |>  to_array: msg.time > max_t; t, n\n",
      " |>  2.997916666666669\n",
      " |>  150\n",
      "\u001b[91m [DEBUG] > \u001b[0m\n",
      " |>  to_array: msg.time > max_t; t, n\n",
      " |>  3.0000000000000036\n",
      " |>  150\n",
      "\u001b[91m [DEBUG] > \u001b[0m\n",
      " |>  to_array: msg.time > max_t; t, n\n",
      " |>  2.9968749999999993\n",
      " |>  150\n",
      "\u001b[91m [DEBUG] > \u001b[0m\n",
      " |>  to_array: msg.time > max_t; t, n\n",
      " |>  3.0145833333333343\n",
      " |>  150\n"
     ]
    },
    {
     "name": "stdout",
     "output_type": "stream",
     "text": [
      "\u001b[91m [DEBUG] > \u001b[0m\n",
      " |>  to_array: msg.time > max_t; t, n\n",
      " |>  3.0052083333333344\n",
      " |>  150\n",
      "\u001b[91m [DEBUG] > \u001b[0m\n",
      " |>  to_array: msg.time > max_t; t, n\n",
      " |>  2.998958333333337\n",
      " |>  150\n",
      "\u001b[91m [DEBUG] > \u001b[0m\n",
      " |>  to_array: msg.time > max_t; t, n\n",
      " |>  2.992708333333338\n",
      " |>  150\n",
      "\u001b[91m [DEBUG] > \u001b[0m\n",
      " |>  to_array: msg.time > max_t; t, n\n",
      " |>  3.001041666666668\n",
      " |>  150\n",
      "\u001b[91m [DEBUG] > \u001b[0m\n",
      " |>  to_array: msg.time > max_t; t, n\n",
      " |>  2.9906250000000005\n",
      " |>  150\n",
      "\u001b[91m [DEBUG] > \u001b[0m\n",
      " |>  to_array: msg.time > max_t; t, n\n",
      " |>  2.993750000000001\n",
      " |>  150\n",
      "\u001b[91m [DEBUG] > \u001b[0m\n",
      " |>  to_array: msg.time > max_t; t, n\n",
      " |>  2.9916666666666636\n",
      " |>  150\n",
      "\u001b[91m [DEBUG] > \u001b[0m\n",
      " |>  to_array: msg.time > max_t; t, n\n",
      " |>  2.9916666666666667\n",
      " |>  150\n",
      "\u001b[91m [DEBUG] > \u001b[0m\n",
      " |>  to_array: msg.time > max_t; t, n\n",
      " |>  2.994791666666668\n",
      " |>  150\n"
     ]
    }
   ],
   "source": [
    "n = 100\n",
    "min_f = 3\n",
    "max_f = 20\n",
    "# x_train = g.gen_data(context, n, max_f=max_f, min_f=min_f)\n",
    "x_train = g.gen_data_complex(context, n, max_f=max_f, min_f=min_f, multiTrack=multiTrack)\n",
    "y_train = x_train"
   ]
  },
  {
   "cell_type": "code",
   "execution_count": null,
   "metadata": {},
   "outputs": [],
   "source": []
  },
  {
   "cell_type": "code",
   "execution_count": 21,
   "metadata": {},
   "outputs": [
    {
     "data": {
      "text/plain": [
       "(22, 150, 1)"
      ]
     },
     "execution_count": 21,
     "metadata": {},
     "output_type": "execute_result"
    }
   ],
   "source": [
    "x_train.shape"
   ]
  },
  {
   "cell_type": "code",
   "execution_count": 22,
   "metadata": {},
   "outputs": [
    {
     "data": {
      "text/plain": [
       "[<matplotlib.lines.Line2D at 0x1184735f8>]"
      ]
     },
     "execution_count": 22,
     "metadata": {},
     "output_type": "execute_result"
    },
    {
     "data": {
      "image/png": "[encoded data removed]",
      "text/plain": [
       "<matplotlib.figure.Figure at 0x117927c18>"
      ]
     },
     "metadata": {},
     "output_type": "display_data"
    }
   ],
   "source": [
    "plt.plot(x_train[0,:100])"
   ]
  },
  {
   "cell_type": "code",
   "execution_count": 64,
   "metadata": {},
   "outputs": [
    {
     "data": {
      "text/plain": [
       "(275, 150, 1)"
      ]
     },
     "execution_count": 64,
     "metadata": {},
     "output_type": "execute_result"
    }
   ],
   "source": [
    "x_train.shape"
   ]
  },
  {
   "cell_type": "code",
   "execution_count": 149,
   "metadata": {},
   "outputs": [
    {
     "data": {
      "text/plain": [
       "(150, 1)"
      ]
     },
     "execution_count": 149,
     "metadata": {},
     "output_type": "execute_result"
    }
   ],
   "source": [
    "n_samples = x_train[0]\n",
    "input_shape = x_train.shape[1:] # shape of a single sample\n",
    "output_shape = y_train.shape[1:] # shape of a single sample\n",
    "# output_length = y_train.shape[1:][0]\n",
    "hidden_layer_length = 30\n",
    "input_shape"
   ]
  },
  {
   "cell_type": "code",
   "execution_count": 150,
   "metadata": {},
   "outputs": [
    {
     "data": {
      "text/plain": [
       "(150, 1)"
      ]
     },
     "execution_count": 150,
     "metadata": {},
     "output_type": "execute_result"
    }
   ],
   "source": [
    "output_shape"
   ]
  },
  {
   "cell_type": "code",
   "execution_count": 151,
   "metadata": {},
   "outputs": [],
   "source": [
    "num_encoder_tokens = x_train.shape[-1]\n",
    "num_decoder_tokens = y_train.shape[-1]\n",
    "# latent_dim = 1"
   ]
  },
  {
   "cell_type": "code",
   "execution_count": 159,
   "metadata": {},
   "outputs": [
    {
     "name": "stdout",
     "output_type": "stream",
     "text": [
      "w1 300 w2 600\n",
      "_________________________________________________________________\n",
      "Layer (type)                 Output Shape              Param #   \n",
      "=================================================================\n",
      "input_111 (InputLayer)       (None, 150, 1)            0         \n",
      "_________________________________________________________________\n",
      "flatten_41 (Flatten)         (None, 150)               0         \n",
      "_________________________________________________________________\n",
      "dense_335 (Dense)            (None, 1000)              151000    \n",
      "_________________________________________________________________\n",
      "dense_336 (Dense)            (None, 100)               100100    \n",
      "_________________________________________________________________\n",
      "dropout_107 (Dropout)        (None, 100)               0         \n",
      "_________________________________________________________________\n",
      "dense_337 (Dense)            (None, 100)               10100     \n",
      "_________________________________________________________________\n",
      "dense_338 (Dense)            (None, 100)               10100     \n",
      "_________________________________________________________________\n",
      "dense_339 (Dense)            (None, 100)               10100     \n",
      "_________________________________________________________________\n",
      "dropout_108 (Dropout)        (None, 100)               0         \n",
      "_________________________________________________________________\n",
      "dense_340 (Dense)            (None, 100)               10100     \n",
      "_________________________________________________________________\n",
      "dense_341 (Dense)            (None, 30)                3030      \n",
      "=================================================================\n",
      "Total params: 294,530\n",
      "Trainable params: 294,530\n",
      "Non-trainable params: 0\n",
      "_________________________________________________________________\n",
      "dims (None, 5000)\n",
      "_________________________________________________________________\n",
      "Layer (type)                 Output Shape              Param #   \n",
      "=================================================================\n",
      "input_112 (InputLayer)       (None, 30)                0         \n",
      "_________________________________________________________________\n",
      "dense_342 (Dense)            (None, 100)               3100      \n",
      "_________________________________________________________________\n",
      "dense_343 (Dense)            (None, 1000)              101000    \n",
      "_________________________________________________________________\n",
      "dropout_109 (Dropout)        (None, 1000)              0         \n",
      "_________________________________________________________________\n",
      "reshape_44 (Reshape)         (None, 250, 4)            0         \n",
      "_________________________________________________________________\n",
      "up_sampling1d_9 (UpSampling1 (None, 1000, 4)           0         \n",
      "_________________________________________________________________\n",
      "conv1d_84 (Conv1D)           (None, 1000, 10)          90        \n",
      "_________________________________________________________________\n",
      "conv1d_85 (Conv1D)           (None, 1000, 10)          210       \n",
      "_________________________________________________________________\n",
      "max_pooling1d_37 (MaxPooling (None, 500, 10)           0         \n",
      "_________________________________________________________________\n",
      "flatten_42 (Flatten)         (None, 5000)              0         \n",
      "_________________________________________________________________\n",
      "dense_344 (Dense)            (None, 200)               1000200   \n",
      "_________________________________________________________________\n",
      "dense_345 (Dense)            (None, 200)               40200     \n",
      "_________________________________________________________________\n",
      "dense_346 (Dense)            (None, 100)               20100     \n",
      "_________________________________________________________________\n",
      "dropout_110 (Dropout)        (None, 100)               0         \n",
      "_________________________________________________________________\n",
      "dense_347 (Dense)            (None, 100)               10100     \n",
      "_________________________________________________________________\n",
      "dense_348 (Dense)            (None, 150)               15150     \n",
      "_________________________________________________________________\n",
      "dropout_111 (Dropout)        (None, 150)               0         \n",
      "_________________________________________________________________\n",
      "dense_349 (Dense)            (None, 150)               22650     \n",
      "_________________________________________________________________\n",
      "reshape_45 (Reshape)         (None, 150, 1)            0         \n",
      "=================================================================\n",
      "Total params: 1,212,800\n",
      "Trainable params: 1,212,800\n",
      "Non-trainable params: 0\n",
      "_________________________________________________________________\n"
     ]
    }
   ],
   "source": [
    "k_reg = regularizers.l2(0.01)\n",
    "# b_reg = regularizers.l1(0.01)\n",
    "a_reg = regularizers.l1(0.01)\n",
    "\n",
    "def encoder(input_shape, output_length, dropout=0.10):\n",
    "    input_layer = Input(shape=input_shape)\n",
    "    x = input_layer\n",
    "    \n",
    "    w1 = input_shape[0] * 2\n",
    "    w2 = w1 * 2\n",
    "    print('w1', w1,'w2', w2)\n",
    "\n",
    "    # [Conv | Pool]\n",
    "#     x = Conv1D(w1, kernel_size=2, strides=2, activation='relu', padding='same')(x)\n",
    "#     x = Conv1D(w1, kernel_size=2, strides=1, activation='relu', padding='same')(x)\n",
    "#     x = MaxPooling1D(pool_size=2, strides=2)(x)\n",
    "    \n",
    "#     x = Conv1D(w2, kernel_size=2, strides=2, activation='relu')(x)\n",
    "#     x = Conv1D(w2, kernel_size=2, strides=1, activation='relu')(x)\n",
    "#     x = MaxPooling1D(pool_size=2, strides=2)(x)\n",
    "    \n",
    "    # [Dense]\n",
    "    x = Flatten()(x)\n",
    "    x = Dense(1000, activation='relu')(x)\n",
    "    x = Dense(100, activation='relu')(x)\n",
    "    x = Dropout(dropout)(x)\n",
    "    \n",
    "    x = Dense(100, activation='relu')(x)\n",
    "    x = Dense(100, activation='relu')(x)\n",
    "    x = Dense(100, activation='relu')(x)    \n",
    "    x = Dropout(dropout)(x)\n",
    "\n",
    "    x = Dense(100, activation='relu', kernel_regularizer=k_reg, activity_regularizer=a_reg)(x)\n",
    "\n",
    "#     x = Dense(1000, activation='relu')(x)\n",
    "#     x = Dense(1000, activation='relu')(x)\n",
    "#     x = Dropout(dropout)(x)\n",
    "    \n",
    "#     x = Dense(100, activation='relu')(x)\n",
    "#     x = Dense(100, activation='relu')(x)\n",
    "#     x = Dropout(dropout)(x)    \n",
    "    \n",
    "    x = Dense(output_length, activation='sigmoid')(x)\n",
    "#     x = Dense(output_length, activation='relu', activity_regularizer=regularizers.l1(10e-5))(x)\n",
    "    model = Model(inputs=input_layer, outputs=x)\n",
    "    return model\n",
    "\n",
    "\n",
    "def decoder(input_length, output_shape, dropout=0.10):\n",
    "    input_layer = Input(shape=(input_length,))\n",
    "    x = input_layer\n",
    "    shape = output_shape\n",
    "    # shape = (10,100) # increase n dimensions\n",
    "    \n",
    "    x = Dense(100, activation='relu')(x)\n",
    "    x = Dense(1000, activation='relu')(x)\n",
    "    x = Dropout(dropout)(x)\n",
    "    \n",
    "    x = Reshape((250,4))(x) # 250 * 4 = 1000\n",
    "    x = UpSampling1D(4)(x)\n",
    "    x = Conv1D(10, kernel_size=2, strides=1, activation='relu', padding='same')(x)\n",
    "    x = Conv1D(10, kernel_size=2, strides=1, activation='relu', padding='same')(x)\n",
    "    x = MaxPooling1D(pool_size=2, strides=2)(x)\n",
    "    \n",
    "    x = Flatten()(x)\n",
    "    dims = keras.backend.int_shape(x)\n",
    "    print('dims', dims)\n",
    "    \n",
    "#     x = Reshape((1000,1))(x)\n",
    "\n",
    "    x = Dense(200, activation='relu')(x)\n",
    "    x = Dense(200, activation='relu')(x)\n",
    "    x = Dense(100, activation='relu')(x)    \n",
    "    x = Dropout(dropout)(x)\n",
    "\n",
    "    x = Dense(100, activation='relu')(x)        \n",
    "    x = Dense(np.prod(shape), activation='relu')(x)\n",
    "    x = Dropout(dropout)(x)\n",
    "    \n",
    "    x = Dense(np.prod(shape), activation='sigmoid')(x)\n",
    "    x = Reshape(shape)(x)\n",
    "    model = Model(inputs=input_layer, outputs=x)\n",
    "    return model\n",
    "\n",
    "\n",
    "def autoencoder(input_shape, output_shape, hidden_layer_length=10, dropout=0.10, verbose=False):\n",
    "    input_ = Input(shape=input_shape)\n",
    "    encode = encoder(input_shape, hidden_layer_length, dropout)\n",
    "    if verbose:\n",
    "        encode.summary()\n",
    "    decode = decoder(hidden_layer_length, output_shape, dropout)\n",
    "    if verbose:\n",
    "        decode.summary()\n",
    "    model = Model(input_, decode(encode(input_)))\n",
    "    return encode, decode, model\n",
    "\n",
    "dropout = 0.2\n",
    "encoder, decoder, model = autoencoder(input_shape, output_shape, hidden_layer_length, dropout, True)"
   ]
  },
  {
   "cell_type": "code",
   "execution_count": 160,
   "metadata": {},
   "outputs": [],
   "source": [
    "metrics = ['accuracy','mse','binary_crossentropy'] # sparse_categorical_accuracy\n",
    "loss = 'binary_crossentropy'# binary_crossentropy categorical_crossentropy sparse_categorical_crossentropy\n",
    "optimizer = 'adam' # adam adadelta rmsprop nadam\n",
    "# keras.optimizers.RMSprop(lr=0.001, rho=0.9, epsilon=None, decay=0.0)\n",
    "model.compile(optimizer=optimizer, loss=loss, metrics=['mse', 'mae', 'accuracy'])#, metrics=metrics)"
   ]
  },
  {
   "cell_type": "code",
   "execution_count": 161,
   "metadata": {},
   "outputs": [],
   "source": [
    "batch_size = 16\n",
    "# n epochs = n iterations over all the training data\n",
    "epochs = 30"
   ]
  },
  {
   "cell_type": "code",
   "execution_count": 162,
   "metadata": {
    "scrolled": true
   },
   "outputs": [
    {
     "name": "stdout",
     "output_type": "stream",
     "text": [
      "Train on 8 samples, validate on 2 samples\n",
      "Epoch 1/300\n",
      "8/8 [==============================] - 2s 303ms/step - loss: 2.0244 - mean_squared_error: 0.2500 - mean_absolute_error: 0.5000 - acc: 0.5033 - val_loss: 1.7104 - val_mean_squared_error: 0.2495 - val_mean_absolute_error: 0.4995 - val_acc: 0.5767\n",
      "Epoch 2/300\n",
      "8/8 [==============================] - 0s 5ms/step - loss: 1.8208 - mean_squared_error: 0.2495 - mean_absolute_error: 0.4995 - acc: 0.5800 - val_loss: 1.6871 - val_mean_squared_error: 0.2486 - val_mean_absolute_error: 0.4985 - val_acc: 0.6033\n",
      "Epoch 3/300\n",
      "8/8 [==============================] - 0s 8ms/step - loss: 1.7647 - mean_squared_error: 0.2487 - mean_absolute_error: 0.4987 - acc: 0.5733 - val_loss: 1.6657 - val_mean_squared_error: 0.2469 - val_mean_absolute_error: 0.4968 - val_acc: 0.6100\n",
      "Epoch 4/300\n",
      "8/8 [==============================] - 0s 7ms/step - loss: 1.7179 - mean_squared_error: 0.2472 - mean_absolute_error: 0.4970 - acc: 0.6000 - val_loss: 1.6429 - val_mean_squared_error: 0.2442 - val_mean_absolute_error: 0.4938 - val_acc: 0.6300\n",
      "Epoch 5/300\n",
      "8/8 [==============================] - 0s 8ms/step - loss: 1.6803 - mean_squared_error: 0.2447 - mean_absolute_error: 0.4942 - acc: 0.6017 - val_loss: 1.6176 - val_mean_squared_error: 0.2397 - val_mean_absolute_error: 0.4886 - val_acc: 0.6367\n",
      "Epoch 6/300\n",
      "8/8 [==============================] - 0s 10ms/step - loss: 1.6502 - mean_squared_error: 0.2402 - mean_absolute_error: 0.4889 - acc: 0.6192 - val_loss: 1.5881 - val_mean_squared_error: 0.2329 - val_mean_absolute_error: 0.4799 - val_acc: 0.6433\n",
      "Epoch 7/300\n",
      "8/8 [==============================] - 0s 8ms/step - loss: 1.6094 - mean_squared_error: 0.2333 - mean_absolute_error: 0.4793 - acc: 0.6483 - val_loss: 1.5529 - val_mean_squared_error: 0.2235 - val_mean_absolute_error: 0.4659 - val_acc: 0.6500\n",
      "Epoch 8/300\n",
      "8/8 [==============================] - 0s 6ms/step - loss: 1.5701 - mean_squared_error: 0.2250 - mean_absolute_error: 0.4650 - acc: 0.6542 - val_loss: 1.5146 - val_mean_squared_error: 0.2129 - val_mean_absolute_error: 0.4451 - val_acc: 0.6767\n",
      "Epoch 9/300\n",
      "8/8 [==============================] - 0s 7ms/step - loss: 1.5323 - mean_squared_error: 0.2174 - mean_absolute_error: 0.4432 - acc: 0.6667 - val_loss: 1.4791 - val_mean_squared_error: 0.2040 - val_mean_absolute_error: 0.4185 - val_acc: 0.6967\n",
      "Epoch 10/300\n",
      "8/8 [==============================] - 0s 9ms/step - loss: 1.5031 - mean_squared_error: 0.2109 - mean_absolute_error: 0.4174 - acc: 0.6683 - val_loss: 1.4522 - val_mean_squared_error: 0.1983 - val_mean_absolute_error: 0.3919 - val_acc: 0.6967\n",
      "Epoch 11/300\n",
      "8/8 [==============================] - 0s 7ms/step - loss: 1.4833 - mean_squared_error: 0.2080 - mean_absolute_error: 0.3939 - acc: 0.6867 - val_loss: 1.4264 - val_mean_squared_error: 0.1930 - val_mean_absolute_error: 0.3800 - val_acc: 0.7100\n",
      "Epoch 12/300\n",
      "8/8 [==============================] - 0s 6ms/step - loss: 1.4437 - mean_squared_error: 0.1997 - mean_absolute_error: 0.3844 - acc: 0.7075 - val_loss: 1.4004 - val_mean_squared_error: 0.1879 - val_mean_absolute_error: 0.3750 - val_acc: 0.7167\n",
      "Epoch 13/300\n",
      "8/8 [==============================] - 0s 7ms/step - loss: 1.4272 - mean_squared_error: 0.1986 - mean_absolute_error: 0.3692 - acc: 0.7017 - val_loss: 1.3770 - val_mean_squared_error: 0.1839 - val_mean_absolute_error: 0.3792 - val_acc: 0.7433\n",
      "Epoch 14/300\n",
      "8/8 [==============================] - 0s 8ms/step - loss: 1.4009 - mean_squared_error: 0.1942 - mean_absolute_error: 0.3789 - acc: 0.7075 - val_loss: 1.3593 - val_mean_squared_error: 0.1818 - val_mean_absolute_error: 0.3855 - val_acc: 0.7633\n",
      "Epoch 15/300\n",
      "8/8 [==============================] - 0s 7ms/step - loss: 1.3884 - mean_squared_error: 0.1944 - mean_absolute_error: 0.3899 - acc: 0.7192 - val_loss: 1.3452 - val_mean_squared_error: 0.1812 - val_mean_absolute_error: 0.3914 - val_acc: 0.7633\n",
      "Epoch 16/300\n",
      "8/8 [==============================] - 0s 8ms/step - loss: 1.3533 - mean_squared_error: 0.1858 - mean_absolute_error: 0.3849 - acc: 0.7300 - val_loss: 1.3290 - val_mean_squared_error: 0.1797 - val_mean_absolute_error: 0.3919 - val_acc: 0.7633\n",
      "Epoch 17/300\n",
      "8/8 [==============================] - 0s 6ms/step - loss: 1.3564 - mean_squared_error: 0.1927 - mean_absolute_error: 0.4000 - acc: 0.7217 - val_loss: 1.3093 - val_mean_squared_error: 0.1769 - val_mean_absolute_error: 0.3870 - val_acc: 0.7700\n",
      "Epoch 18/300\n",
      "8/8 [==============================] - 0s 8ms/step - loss: 1.3267 - mean_squared_error: 0.1862 - mean_absolute_error: 0.3861 - acc: 0.7258 - val_loss: 1.2866 - val_mean_squared_error: 0.1729 - val_mean_absolute_error: 0.3774 - val_acc: 0.7833\n",
      "Epoch 19/300\n",
      "8/8 [==============================] - 0s 6ms/step - loss: 1.3108 - mean_squared_error: 0.1850 - mean_absolute_error: 0.3862 - acc: 0.7417 - val_loss: 1.2621 - val_mean_squared_error: 0.1683 - val_mean_absolute_error: 0.3628 - val_acc: 0.7833\n",
      "Epoch 20/300\n",
      "8/8 [==============================] - 0s 7ms/step - loss: 1.2874 - mean_squared_error: 0.1806 - mean_absolute_error: 0.3689 - acc: 0.7508 - val_loss: 1.2393 - val_mean_squared_error: 0.1643 - val_mean_absolute_error: 0.3465 - val_acc: 0.7833\n",
      "Epoch 21/300\n",
      "8/8 [==============================] - 0s 6ms/step - loss: 1.2636 - mean_squared_error: 0.1758 - mean_absolute_error: 0.3515 - acc: 0.7492 - val_loss: 1.2210 - val_mean_squared_error: 0.1618 - val_mean_absolute_error: 0.3324 - val_acc: 0.7967\n",
      "Epoch 22/300\n",
      "8/8 [==============================] - 0s 7ms/step - loss: 1.2403 - mean_squared_error: 0.1718 - mean_absolute_error: 0.3311 - acc: 0.7475 - val_loss: 1.2055 - val_mean_squared_error: 0.1603 - val_mean_absolute_error: 0.3247 - val_acc: 0.7967\n",
      "Epoch 23/300\n",
      "8/8 [==============================] - 0s 7ms/step - loss: 1.2311 - mean_squared_error: 0.1732 - mean_absolute_error: 0.3353 - acc: 0.7500 - val_loss: 1.1909 - val_mean_squared_error: 0.1593 - val_mean_absolute_error: 0.3218 - val_acc: 0.7967\n",
      "Epoch 24/300\n",
      "8/8 [==============================] - 0s 7ms/step - loss: 1.2114 - mean_squared_error: 0.1687 - mean_absolute_error: 0.3208 - acc: 0.7642 - val_loss: 1.1768 - val_mean_squared_error: 0.1587 - val_mean_absolute_error: 0.3253 - val_acc: 0.7967\n",
      "Epoch 25/300\n",
      "8/8 [==============================] - 0s 8ms/step - loss: 1.1899 - mean_squared_error: 0.1670 - mean_absolute_error: 0.3279 - acc: 0.7625 - val_loss: 1.1639 - val_mean_squared_error: 0.1586 - val_mean_absolute_error: 0.3306 - val_acc: 0.7900\n",
      "Epoch 26/300\n",
      "8/8 [==============================] - 0s 7ms/step - loss: 1.1869 - mean_squared_error: 0.1711 - mean_absolute_error: 0.3349 - acc: 0.7617 - val_loss: 1.1531 - val_mean_squared_error: 0.1591 - val_mean_absolute_error: 0.3375 - val_acc: 0.7900\n",
      "Epoch 27/300\n",
      "8/8 [==============================] - 0s 7ms/step - loss: 1.1835 - mean_squared_error: 0.1746 - mean_absolute_error: 0.3408 - acc: 0.7542 - val_loss: 1.1450 - val_mean_squared_error: 0.1605 - val_mean_absolute_error: 0.3464 - val_acc: 0.7900\n",
      "Epoch 28/300\n",
      "8/8 [==============================] - 0s 7ms/step - loss: 1.1526 - mean_squared_error: 0.1667 - mean_absolute_error: 0.3385 - acc: 0.7600 - val_loss: 1.1370 - val_mean_squared_error: 0.1618 - val_mean_absolute_error: 0.3525 - val_acc: 0.7833\n",
      "Epoch 29/300\n",
      "8/8 [==============================] - 0s 7ms/step - loss: 1.1477 - mean_squared_error: 0.1693 - mean_absolute_error: 0.3527 - acc: 0.7525 - val_loss: 1.1262 - val_mean_squared_error: 0.1621 - val_mean_absolute_error: 0.3531 - val_acc: 0.7833\n",
      "Epoch 30/300\n",
      "8/8 [==============================] - 0s 7ms/step - loss: 1.1450 - mean_squared_error: 0.1724 - mean_absolute_error: 0.3633 - acc: 0.7617 - val_loss: 1.1123 - val_mean_squared_error: 0.1611 - val_mean_absolute_error: 0.3473 - val_acc: 0.7833\n",
      "Epoch 31/300\n",
      "8/8 [==============================] - 0s 6ms/step - loss: 1.1246 - mean_squared_error: 0.1686 - mean_absolute_error: 0.3488 - acc: 0.7633 - val_loss: 1.0980 - val_mean_squared_error: 0.1597 - val_mean_absolute_error: 0.3382 - val_acc: 0.7767\n",
      "Epoch 32/300\n",
      "8/8 [==============================] - 0s 9ms/step - loss: 1.1003 - mean_squared_error: 0.1651 - mean_absolute_error: 0.3415 - acc: 0.7567 - val_loss: 1.0847 - val_mean_squared_error: 0.1584 - val_mean_absolute_error: 0.3258 - val_acc: 0.7767\n"
     ]
    },
    {
     "name": "stdout",
     "output_type": "stream",
     "text": [
      "Epoch 33/300\n",
      "8/8 [==============================] - 0s 8ms/step - loss: 1.0945 - mean_squared_error: 0.1658 - mean_absolute_error: 0.3266 - acc: 0.7667 - val_loss: 1.0747 - val_mean_squared_error: 0.1580 - val_mean_absolute_error: 0.3167 - val_acc: 0.7767\n",
      "Epoch 34/300\n",
      "8/8 [==============================] - 0s 6ms/step - loss: 1.0683 - mean_squared_error: 0.1608 - mean_absolute_error: 0.3156 - acc: 0.7758 - val_loss: 1.0664 - val_mean_squared_error: 0.1582 - val_mean_absolute_error: 0.3105 - val_acc: 0.7767\n",
      "Epoch 35/300\n",
      "8/8 [==============================] - 0s 6ms/step - loss: 1.0894 - mean_squared_error: 0.1722 - mean_absolute_error: 0.3160 - acc: 0.7567 - val_loss: 1.0569 - val_mean_squared_error: 0.1587 - val_mean_absolute_error: 0.3139 - val_acc: 0.7767\n",
      "Epoch 36/300\n",
      "8/8 [==============================] - 0s 5ms/step - loss: 1.0575 - mean_squared_error: 0.1644 - mean_absolute_error: 0.3151 - acc: 0.7633 - val_loss: 1.0468 - val_mean_squared_error: 0.1593 - val_mean_absolute_error: 0.3208 - val_acc: 0.7767\n",
      "Epoch 37/300\n",
      "8/8 [==============================] - 0s 7ms/step - loss: 1.0541 - mean_squared_error: 0.1669 - mean_absolute_error: 0.3297 - acc: 0.7683 - val_loss: 1.0379 - val_mean_squared_error: 0.1602 - val_mean_absolute_error: 0.3282 - val_acc: 0.7767\n",
      "Epoch 38/300\n",
      "8/8 [==============================] - 0s 5ms/step - loss: 1.0395 - mean_squared_error: 0.1653 - mean_absolute_error: 0.3264 - acc: 0.7600 - val_loss: 1.0303 - val_mean_squared_error: 0.1615 - val_mean_absolute_error: 0.3365 - val_acc: 0.7833\n",
      "Epoch 39/300\n",
      "8/8 [==============================] - 0s 7ms/step - loss: 1.0278 - mean_squared_error: 0.1647 - mean_absolute_error: 0.3445 - acc: 0.7633 - val_loss: 1.0219 - val_mean_squared_error: 0.1621 - val_mean_absolute_error: 0.3389 - val_acc: 0.7833\n",
      "Epoch 40/300\n",
      "8/8 [==============================] - 0s 6ms/step - loss: 1.0127 - mean_squared_error: 0.1619 - mean_absolute_error: 0.3324 - acc: 0.7783 - val_loss: 1.0126 - val_mean_squared_error: 0.1623 - val_mean_absolute_error: 0.3382 - val_acc: 0.7833\n",
      "Epoch 41/300\n",
      "8/8 [==============================] - 0s 7ms/step - loss: 1.0046 - mean_squared_error: 0.1642 - mean_absolute_error: 0.3322 - acc: 0.7700 - val_loss: 1.0033 - val_mean_squared_error: 0.1622 - val_mean_absolute_error: 0.3360 - val_acc: 0.7833\n",
      "Epoch 42/300\n",
      "8/8 [==============================] - 0s 7ms/step - loss: 0.9992 - mean_squared_error: 0.1658 - mean_absolute_error: 0.3239 - acc: 0.7608 - val_loss: 0.9944 - val_mean_squared_error: 0.1624 - val_mean_absolute_error: 0.3359 - val_acc: 0.7767\n",
      "Epoch 43/300\n",
      "8/8 [==============================] - 0s 7ms/step - loss: 0.9827 - mean_squared_error: 0.1628 - mean_absolute_error: 0.3312 - acc: 0.7700 - val_loss: 0.9853 - val_mean_squared_error: 0.1622 - val_mean_absolute_error: 0.3337 - val_acc: 0.7767\n",
      "Epoch 44/300\n",
      "8/8 [==============================] - 0s 7ms/step - loss: 0.9804 - mean_squared_error: 0.1655 - mean_absolute_error: 0.3269 - acc: 0.7617 - val_loss: 0.9767 - val_mean_squared_error: 0.1623 - val_mean_absolute_error: 0.3326 - val_acc: 0.7767\n",
      "Epoch 45/300\n",
      "8/8 [==============================] - 0s 7ms/step - loss: 0.9666 - mean_squared_error: 0.1640 - mean_absolute_error: 0.3241 - acc: 0.7617 - val_loss: 0.9683 - val_mean_squared_error: 0.1624 - val_mean_absolute_error: 0.3323 - val_acc: 0.7767\n",
      "Epoch 46/300\n",
      "8/8 [==============================] - 0s 7ms/step - loss: 0.9503 - mean_squared_error: 0.1617 - mean_absolute_error: 0.3211 - acc: 0.7683 - val_loss: 0.9602 - val_mean_squared_error: 0.1626 - val_mean_absolute_error: 0.3322 - val_acc: 0.7767\n",
      "Epoch 47/300\n",
      "8/8 [==============================] - 0s 7ms/step - loss: 0.9489 - mean_squared_error: 0.1644 - mean_absolute_error: 0.3208 - acc: 0.7675 - val_loss: 0.9525 - val_mean_squared_error: 0.1630 - val_mean_absolute_error: 0.3341 - val_acc: 0.7767\n",
      "Epoch 48/300\n",
      "8/8 [==============================] - 0s 7ms/step - loss: 0.9351 - mean_squared_error: 0.1626 - mean_absolute_error: 0.3267 - acc: 0.7633 - val_loss: 0.9449 - val_mean_squared_error: 0.1633 - val_mean_absolute_error: 0.3345 - val_acc: 0.7700\n",
      "Epoch 49/300\n",
      "8/8 [==============================] - 0s 5ms/step - loss: 0.9348 - mean_squared_error: 0.1644 - mean_absolute_error: 0.3345 - acc: 0.7700 - val_loss: 0.9371 - val_mean_squared_error: 0.1632 - val_mean_absolute_error: 0.3326 - val_acc: 0.7700\n",
      "Epoch 50/300\n",
      "8/8 [==============================] - 0s 5ms/step - loss: 0.9209 - mean_squared_error: 0.1630 - mean_absolute_error: 0.3233 - acc: 0.7642 - val_loss: 0.9292 - val_mean_squared_error: 0.1631 - val_mean_absolute_error: 0.3313 - val_acc: 0.7700\n",
      "Epoch 51/300\n",
      "8/8 [==============================] - 0s 5ms/step - loss: 0.9103 - mean_squared_error: 0.1620 - mean_absolute_error: 0.3228 - acc: 0.7683 - val_loss: 0.9211 - val_mean_squared_error: 0.1629 - val_mean_absolute_error: 0.3300 - val_acc: 0.7767\n",
      "Epoch 52/300\n",
      "8/8 [==============================] - 0s 6ms/step - loss: 0.9034 - mean_squared_error: 0.1628 - mean_absolute_error: 0.3213 - acc: 0.7600 - val_loss: 0.9132 - val_mean_squared_error: 0.1627 - val_mean_absolute_error: 0.3298 - val_acc: 0.7767\n",
      "Epoch 53/300\n",
      "8/8 [==============================] - 0s 7ms/step - loss: 0.8918 - mean_squared_error: 0.1609 - mean_absolute_error: 0.3286 - acc: 0.7642 - val_loss: 0.9055 - val_mean_squared_error: 0.1623 - val_mean_absolute_error: 0.3270 - val_acc: 0.7767\n",
      "Epoch 54/300\n",
      "8/8 [==============================] - 0s 7ms/step - loss: 0.8872 - mean_squared_error: 0.1627 - mean_absolute_error: 0.3230 - acc: 0.7558 - val_loss: 0.8979 - val_mean_squared_error: 0.1620 - val_mean_absolute_error: 0.3245 - val_acc: 0.7767\n",
      "Epoch 55/300\n",
      "8/8 [==============================] - 0s 6ms/step - loss: 0.8789 - mean_squared_error: 0.1623 - mean_absolute_error: 0.3261 - acc: 0.7633 - val_loss: 0.8908 - val_mean_squared_error: 0.1615 - val_mean_absolute_error: 0.3211 - val_acc: 0.7767\n",
      "Epoch 56/300\n",
      "8/8 [==============================] - 0s 6ms/step - loss: 0.8799 - mean_squared_error: 0.1656 - mean_absolute_error: 0.3225 - acc: 0.7700 - val_loss: 0.8833 - val_mean_squared_error: 0.1613 - val_mean_absolute_error: 0.3206 - val_acc: 0.7767\n",
      "Epoch 57/300\n",
      "8/8 [==============================] - 0s 6ms/step - loss: 0.8779 - mean_squared_error: 0.1669 - mean_absolute_error: 0.3278 - acc: 0.7583 - val_loss: 0.8755 - val_mean_squared_error: 0.1612 - val_mean_absolute_error: 0.3222 - val_acc: 0.7833\n",
      "Epoch 58/300\n",
      "8/8 [==============================] - 0s 6ms/step - loss: 0.8563 - mean_squared_error: 0.1619 - mean_absolute_error: 0.3200 - acc: 0.7758 - val_loss: 0.8678 - val_mean_squared_error: 0.1612 - val_mean_absolute_error: 0.3249 - val_acc: 0.7900\n",
      "Epoch 59/300\n",
      "8/8 [==============================] - 0s 6ms/step - loss: 0.8324 - mean_squared_error: 0.1563 - mean_absolute_error: 0.3153 - acc: 0.7608 - val_loss: 0.8606 - val_mean_squared_error: 0.1611 - val_mean_absolute_error: 0.3255 - val_acc: 0.7967\n",
      "Epoch 60/300\n",
      "8/8 [==============================] - 0s 6ms/step - loss: 0.8431 - mean_squared_error: 0.1619 - mean_absolute_error: 0.3254 - acc: 0.7700 - val_loss: 0.8536 - val_mean_squared_error: 0.1609 - val_mean_absolute_error: 0.3252 - val_acc: 0.7967\n",
      "Epoch 61/300\n",
      "8/8 [==============================] - 0s 6ms/step - loss: 0.8234 - mean_squared_error: 0.1575 - mean_absolute_error: 0.3100 - acc: 0.7708 - val_loss: 0.8467 - val_mean_squared_error: 0.1609 - val_mean_absolute_error: 0.3264 - val_acc: 0.8033\n",
      "Epoch 62/300\n",
      "8/8 [==============================] - 0s 6ms/step - loss: 0.8429 - mean_squared_error: 0.1665 - mean_absolute_error: 0.3284 - acc: 0.7617 - val_loss: 0.8400 - val_mean_squared_error: 0.1611 - val_mean_absolute_error: 0.3292 - val_acc: 0.7967\n",
      "Epoch 63/300\n",
      "8/8 [==============================] - 0s 6ms/step - loss: 0.8236 - mean_squared_error: 0.1628 - mean_absolute_error: 0.3246 - acc: 0.7683 - val_loss: 0.8337 - val_mean_squared_error: 0.1614 - val_mean_absolute_error: 0.3319 - val_acc: 0.7967\n",
      "Epoch 64/300\n",
      "8/8 [==============================] - 0s 6ms/step - loss: 0.8103 - mean_squared_error: 0.1603 - mean_absolute_error: 0.3258 - acc: 0.7717 - val_loss: 0.8274 - val_mean_squared_error: 0.1614 - val_mean_absolute_error: 0.3317 - val_acc: 0.7967\n",
      "Epoch 65/300\n"
     ]
    },
    {
     "name": "stdout",
     "output_type": "stream",
     "text": [
      "8/8 [==============================] - 0s 7ms/step - loss: 0.8085 - mean_squared_error: 0.1622 - mean_absolute_error: 0.3260 - acc: 0.7633 - val_loss: 0.8213 - val_mean_squared_error: 0.1612 - val_mean_absolute_error: 0.3302 - val_acc: 0.8100\n",
      "Epoch 66/300\n",
      "8/8 [==============================] - 0s 6ms/step - loss: 0.7907 - mean_squared_error: 0.1581 - mean_absolute_error: 0.3247 - acc: 0.7642 - val_loss: 0.8157 - val_mean_squared_error: 0.1606 - val_mean_absolute_error: 0.3251 - val_acc: 0.8100\n",
      "Epoch 67/300\n",
      "8/8 [==============================] - 0s 6ms/step - loss: 0.8136 - mean_squared_error: 0.1687 - mean_absolute_error: 0.3302 - acc: 0.7667 - val_loss: 0.8102 - val_mean_squared_error: 0.1604 - val_mean_absolute_error: 0.3230 - val_acc: 0.8100\n",
      "Epoch 68/300\n",
      "8/8 [==============================] - 0s 6ms/step - loss: 0.7849 - mean_squared_error: 0.1605 - mean_absolute_error: 0.3167 - acc: 0.7675 - val_loss: 0.8050 - val_mean_squared_error: 0.1604 - val_mean_absolute_error: 0.3220 - val_acc: 0.8100\n",
      "Epoch 69/300\n",
      "8/8 [==============================] - 0s 7ms/step - loss: 0.7744 - mean_squared_error: 0.1587 - mean_absolute_error: 0.3173 - acc: 0.7708 - val_loss: 0.8000 - val_mean_squared_error: 0.1605 - val_mean_absolute_error: 0.3207 - val_acc: 0.8033\n",
      "Epoch 70/300\n",
      "8/8 [==============================] - 0s 6ms/step - loss: 0.7766 - mean_squared_error: 0.1616 - mean_absolute_error: 0.3169 - acc: 0.7650 - val_loss: 0.7946 - val_mean_squared_error: 0.1607 - val_mean_absolute_error: 0.3215 - val_acc: 0.8033\n",
      "Epoch 71/300\n",
      "8/8 [==============================] - 0s 6ms/step - loss: 0.7798 - mean_squared_error: 0.1647 - mean_absolute_error: 0.3183 - acc: 0.7617 - val_loss: 0.7890 - val_mean_squared_error: 0.1614 - val_mean_absolute_error: 0.3262 - val_acc: 0.7967\n",
      "Epoch 72/300\n",
      "8/8 [==============================] - 0s 6ms/step - loss: 0.7649 - mean_squared_error: 0.1617 - mean_absolute_error: 0.3158 - acc: 0.7750 - val_loss: 0.7838 - val_mean_squared_error: 0.1624 - val_mean_absolute_error: 0.3328 - val_acc: 0.7900\n",
      "Epoch 73/300\n",
      "8/8 [==============================] - 0s 6ms/step - loss: 0.7649 - mean_squared_error: 0.1633 - mean_absolute_error: 0.3244 - acc: 0.7658 - val_loss: 0.7794 - val_mean_squared_error: 0.1636 - val_mean_absolute_error: 0.3394 - val_acc: 0.7967\n",
      "Epoch 74/300\n",
      "8/8 [==============================] - 0s 6ms/step - loss: 0.7602 - mean_squared_error: 0.1629 - mean_absolute_error: 0.3383 - acc: 0.7683 - val_loss: 0.7747 - val_mean_squared_error: 0.1639 - val_mean_absolute_error: 0.3405 - val_acc: 0.7900\n",
      "Epoch 75/300\n",
      "8/8 [==============================] - 0s 7ms/step - loss: 0.7567 - mean_squared_error: 0.1647 - mean_absolute_error: 0.3390 - acc: 0.7617 - val_loss: 0.7696 - val_mean_squared_error: 0.1635 - val_mean_absolute_error: 0.3373 - val_acc: 0.7900\n",
      "Epoch 76/300\n",
      "8/8 [==============================] - 0s 6ms/step - loss: 0.7514 - mean_squared_error: 0.1642 - mean_absolute_error: 0.3306 - acc: 0.7667 - val_loss: 0.7648 - val_mean_squared_error: 0.1631 - val_mean_absolute_error: 0.3332 - val_acc: 0.7833\n",
      "Epoch 77/300\n",
      "8/8 [==============================] - 0s 7ms/step - loss: 0.7388 - mean_squared_error: 0.1616 - mean_absolute_error: 0.3231 - acc: 0.7692 - val_loss: 0.7604 - val_mean_squared_error: 0.1626 - val_mean_absolute_error: 0.3290 - val_acc: 0.7833\n",
      "Epoch 78/300\n",
      "8/8 [==============================] - 0s 6ms/step - loss: 0.7368 - mean_squared_error: 0.1626 - mean_absolute_error: 0.3226 - acc: 0.7642 - val_loss: 0.7561 - val_mean_squared_error: 0.1623 - val_mean_absolute_error: 0.3261 - val_acc: 0.7900\n",
      "Epoch 79/300\n",
      "8/8 [==============================] - 0s 6ms/step - loss: 0.7323 - mean_squared_error: 0.1633 - mean_absolute_error: 0.3183 - acc: 0.7617 - val_loss: 0.7514 - val_mean_squared_error: 0.1623 - val_mean_absolute_error: 0.3261 - val_acc: 0.7900\n",
      "Epoch 80/300\n",
      "8/8 [==============================] - 0s 6ms/step - loss: 0.7169 - mean_squared_error: 0.1588 - mean_absolute_error: 0.3148 - acc: 0.7617 - val_loss: 0.7465 - val_mean_squared_error: 0.1624 - val_mean_absolute_error: 0.3270 - val_acc: 0.7900\n",
      "Epoch 81/300\n",
      "8/8 [==============================] - 0s 6ms/step - loss: 0.7231 - mean_squared_error: 0.1633 - mean_absolute_error: 0.3150 - acc: 0.7733 - val_loss: 0.7411 - val_mean_squared_error: 0.1629 - val_mean_absolute_error: 0.3320 - val_acc: 0.7900\n",
      "Epoch 82/300\n",
      "8/8 [==============================] - 0s 6ms/step - loss: 0.7148 - mean_squared_error: 0.1623 - mean_absolute_error: 0.3197 - acc: 0.7617 - val_loss: 0.7366 - val_mean_squared_error: 0.1637 - val_mean_absolute_error: 0.3378 - val_acc: 0.7900\n",
      "Epoch 83/300\n",
      "8/8 [==============================] - 0s 6ms/step - loss: 0.7018 - mean_squared_error: 0.1583 - mean_absolute_error: 0.3278 - acc: 0.7633 - val_loss: 0.7321 - val_mean_squared_error: 0.1637 - val_mean_absolute_error: 0.3383 - val_acc: 0.7900\n",
      "Epoch 84/300\n",
      "8/8 [==============================] - 0s 6ms/step - loss: 0.7070 - mean_squared_error: 0.1622 - mean_absolute_error: 0.3311 - acc: 0.7617 - val_loss: 0.7276 - val_mean_squared_error: 0.1633 - val_mean_absolute_error: 0.3357 - val_acc: 0.7900\n",
      "Epoch 85/300\n",
      "8/8 [==============================] - 0s 6ms/step - loss: 0.7042 - mean_squared_error: 0.1631 - mean_absolute_error: 0.3324 - acc: 0.7575 - val_loss: 0.7233 - val_mean_squared_error: 0.1625 - val_mean_absolute_error: 0.3305 - val_acc: 0.7900\n",
      "Epoch 86/300\n",
      "8/8 [==============================] - 0s 6ms/step - loss: 0.6916 - mean_squared_error: 0.1601 - mean_absolute_error: 0.3231 - acc: 0.7692 - val_loss: 0.7201 - val_mean_squared_error: 0.1617 - val_mean_absolute_error: 0.3243 - val_acc: 0.7900\n",
      "Epoch 87/300\n",
      "8/8 [==============================] - 0s 6ms/step - loss: 0.7002 - mean_squared_error: 0.1644 - mean_absolute_error: 0.3206 - acc: 0.7700 - val_loss: 0.7167 - val_mean_squared_error: 0.1614 - val_mean_absolute_error: 0.3216 - val_acc: 0.7900\n",
      "Epoch 88/300\n",
      "8/8 [==============================] - 0s 6ms/step - loss: 0.6892 - mean_squared_error: 0.1624 - mean_absolute_error: 0.3216 - acc: 0.7708 - val_loss: 0.7131 - val_mean_squared_error: 0.1612 - val_mean_absolute_error: 0.3201 - val_acc: 0.7900\n",
      "Epoch 89/300\n",
      "8/8 [==============================] - 0s 6ms/step - loss: 0.6896 - mean_squared_error: 0.1642 - mean_absolute_error: 0.3165 - acc: 0.7625 - val_loss: 0.7082 - val_mean_squared_error: 0.1614 - val_mean_absolute_error: 0.3227 - val_acc: 0.7833\n",
      "Epoch 90/300\n",
      "8/8 [==============================] - 0s 6ms/step - loss: 0.6815 - mean_squared_error: 0.1616 - mean_absolute_error: 0.3179 - acc: 0.7742 - val_loss: 0.7035 - val_mean_squared_error: 0.1619 - val_mean_absolute_error: 0.3274 - val_acc: 0.7833\n",
      "Epoch 91/300\n",
      "8/8 [==============================] - 0s 6ms/step - loss: 0.6787 - mean_squared_error: 0.1633 - mean_absolute_error: 0.3228 - acc: 0.7625 - val_loss: 0.6993 - val_mean_squared_error: 0.1627 - val_mean_absolute_error: 0.3327 - val_acc: 0.7833\n",
      "Epoch 92/300\n",
      "8/8 [==============================] - 0s 6ms/step - loss: 0.6711 - mean_squared_error: 0.1615 - mean_absolute_error: 0.3243 - acc: 0.7717 - val_loss: 0.6955 - val_mean_squared_error: 0.1633 - val_mean_absolute_error: 0.3364 - val_acc: 0.7767\n",
      "Epoch 93/300\n",
      "8/8 [==============================] - 0s 7ms/step - loss: 0.6574 - mean_squared_error: 0.1578 - mean_absolute_error: 0.3260 - acc: 0.7742 - val_loss: 0.6919 - val_mean_squared_error: 0.1631 - val_mean_absolute_error: 0.3352 - val_acc: 0.7767\n",
      "Epoch 94/300\n",
      "8/8 [==============================] - 0s 6ms/step - loss: 0.6701 - mean_squared_error: 0.1641 - mean_absolute_error: 0.3286 - acc: 0.7692 - val_loss: 0.6884 - val_mean_squared_error: 0.1630 - val_mean_absolute_error: 0.3339 - val_acc: 0.7833\n",
      "Epoch 95/300\n",
      "8/8 [==============================] - 0s 7ms/step - loss: 0.6659 - mean_squared_error: 0.1639 - mean_absolute_error: 0.3294 - acc: 0.7617 - val_loss: 0.6850 - val_mean_squared_error: 0.1626 - val_mean_absolute_error: 0.3318 - val_acc: 0.7900\n",
      "Epoch 96/300\n",
      "8/8 [==============================] - 0s 6ms/step - loss: 0.6500 - mean_squared_error: 0.1596 - mean_absolute_error: 0.3216 - acc: 0.7667 - val_loss: 0.6819 - val_mean_squared_error: 0.1621 - val_mean_absolute_error: 0.3283 - val_acc: 0.7900\n",
      "Epoch 97/300\n",
      "8/8 [==============================] - 0s 6ms/step - loss: 0.6543 - mean_squared_error: 0.1627 - mean_absolute_error: 0.3261 - acc: 0.7717 - val_loss: 0.6794 - val_mean_squared_error: 0.1617 - val_mean_absolute_error: 0.3247 - val_acc: 0.7833\n"
     ]
    },
    {
     "name": "stdout",
     "output_type": "stream",
     "text": [
      "Epoch 98/300\n",
      "8/8 [==============================] - 0s 6ms/step - loss: 0.6459 - mean_squared_error: 0.1598 - mean_absolute_error: 0.3156 - acc: 0.7700 - val_loss: 0.6766 - val_mean_squared_error: 0.1614 - val_mean_absolute_error: 0.3227 - val_acc: 0.7833\n",
      "Epoch 99/300\n",
      "8/8 [==============================] - 0s 6ms/step - loss: 0.6511 - mean_squared_error: 0.1642 - mean_absolute_error: 0.3236 - acc: 0.7625 - val_loss: 0.6734 - val_mean_squared_error: 0.1614 - val_mean_absolute_error: 0.3223 - val_acc: 0.7900\n",
      "Epoch 100/300\n",
      "8/8 [==============================] - 0s 6ms/step - loss: 0.6479 - mean_squared_error: 0.1635 - mean_absolute_error: 0.3222 - acc: 0.7717 - val_loss: 0.6699 - val_mean_squared_error: 0.1615 - val_mean_absolute_error: 0.3236 - val_acc: 0.7833\n",
      "Epoch 101/300\n",
      "8/8 [==============================] - 0s 6ms/step - loss: 0.6460 - mean_squared_error: 0.1639 - mean_absolute_error: 0.3185 - acc: 0.7758 - val_loss: 0.6658 - val_mean_squared_error: 0.1620 - val_mean_absolute_error: 0.3283 - val_acc: 0.7767\n",
      "Epoch 102/300\n",
      "8/8 [==============================] - 0s 7ms/step - loss: 0.6443 - mean_squared_error: 0.1655 - mean_absolute_error: 0.3247 - acc: 0.7642 - val_loss: 0.6624 - val_mean_squared_error: 0.1629 - val_mean_absolute_error: 0.3347 - val_acc: 0.7767\n",
      "Epoch 103/300\n",
      "8/8 [==============================] - 0s 6ms/step - loss: 0.6377 - mean_squared_error: 0.1641 - mean_absolute_error: 0.3300 - acc: 0.7692 - val_loss: 0.6596 - val_mean_squared_error: 0.1637 - val_mean_absolute_error: 0.3389 - val_acc: 0.7767\n",
      "Epoch 104/300\n",
      "8/8 [==============================] - 0s 6ms/step - loss: 0.6295 - mean_squared_error: 0.1612 - mean_absolute_error: 0.3346 - acc: 0.7725 - val_loss: 0.6566 - val_mean_squared_error: 0.1635 - val_mean_absolute_error: 0.3376 - val_acc: 0.7767\n",
      "Epoch 105/300\n",
      "8/8 [==============================] - 0s 7ms/step - loss: 0.6201 - mean_squared_error: 0.1599 - mean_absolute_error: 0.3262 - acc: 0.7575 - val_loss: 0.6536 - val_mean_squared_error: 0.1627 - val_mean_absolute_error: 0.3332 - val_acc: 0.7767\n",
      "Epoch 106/300\n",
      "8/8 [==============================] - 0s 6ms/step - loss: 0.6309 - mean_squared_error: 0.1646 - mean_absolute_error: 0.3300 - acc: 0.7583 - val_loss: 0.6510 - val_mean_squared_error: 0.1620 - val_mean_absolute_error: 0.3284 - val_acc: 0.7767\n",
      "Epoch 107/300\n",
      "8/8 [==============================] - 0s 6ms/step - loss: 0.6198 - mean_squared_error: 0.1622 - mean_absolute_error: 0.3237 - acc: 0.7683 - val_loss: 0.6490 - val_mean_squared_error: 0.1613 - val_mean_absolute_error: 0.3237 - val_acc: 0.7767\n",
      "Epoch 108/300\n",
      "8/8 [==============================] - 0s 6ms/step - loss: 0.6171 - mean_squared_error: 0.1613 - mean_absolute_error: 0.3209 - acc: 0.7658 - val_loss: 0.6473 - val_mean_squared_error: 0.1609 - val_mean_absolute_error: 0.3199 - val_acc: 0.7767\n",
      "Epoch 109/300\n",
      "8/8 [==============================] - 0s 6ms/step - loss: 0.6117 - mean_squared_error: 0.1601 - mean_absolute_error: 0.3114 - acc: 0.7683 - val_loss: 0.6445 - val_mean_squared_error: 0.1609 - val_mean_absolute_error: 0.3200 - val_acc: 0.7767\n",
      "Epoch 110/300\n",
      "8/8 [==============================] - 0s 6ms/step - loss: 0.6186 - mean_squared_error: 0.1636 - mean_absolute_error: 0.3157 - acc: 0.7758 - val_loss: 0.6403 - val_mean_squared_error: 0.1614 - val_mean_absolute_error: 0.3246 - val_acc: 0.7767\n",
      "Epoch 111/300\n",
      "8/8 [==============================] - 0s 6ms/step - loss: 0.6076 - mean_squared_error: 0.1607 - mean_absolute_error: 0.3173 - acc: 0.7700 - val_loss: 0.6368 - val_mean_squared_error: 0.1622 - val_mean_absolute_error: 0.3303 - val_acc: 0.7767\n",
      "Epoch 112/300\n",
      "8/8 [==============================] - 0s 6ms/step - loss: 0.6072 - mean_squared_error: 0.1620 - mean_absolute_error: 0.3264 - acc: 0.7683 - val_loss: 0.6339 - val_mean_squared_error: 0.1628 - val_mean_absolute_error: 0.3339 - val_acc: 0.7767\n",
      "Epoch 113/300\n",
      "8/8 [==============================] - 0s 6ms/step - loss: 0.6001 - mean_squared_error: 0.1607 - mean_absolute_error: 0.3185 - acc: 0.7733 - val_loss: 0.6315 - val_mean_squared_error: 0.1635 - val_mean_absolute_error: 0.3378 - val_acc: 0.7967\n",
      "Epoch 114/300\n",
      "8/8 [==============================] - 0s 6ms/step - loss: 0.6024 - mean_squared_error: 0.1616 - mean_absolute_error: 0.3336 - acc: 0.7733 - val_loss: 0.6291 - val_mean_squared_error: 0.1634 - val_mean_absolute_error: 0.3372 - val_acc: 0.7967\n",
      "Epoch 115/300\n",
      "8/8 [==============================] - 0s 6ms/step - loss: 0.5937 - mean_squared_error: 0.1603 - mean_absolute_error: 0.3247 - acc: 0.7725 - val_loss: 0.6267 - val_mean_squared_error: 0.1630 - val_mean_absolute_error: 0.3343 - val_acc: 0.7967\n",
      "Epoch 116/300\n",
      "8/8 [==============================] - 0s 6ms/step - loss: 0.5872 - mean_squared_error: 0.1580 - mean_absolute_error: 0.3222 - acc: 0.7692 - val_loss: 0.6250 - val_mean_squared_error: 0.1622 - val_mean_absolute_error: 0.3289 - val_acc: 0.7967\n",
      "Epoch 117/300\n",
      "8/8 [==============================] - 0s 6ms/step - loss: 0.5988 - mean_squared_error: 0.1635 - mean_absolute_error: 0.3264 - acc: 0.7683 - val_loss: 0.6239 - val_mean_squared_error: 0.1616 - val_mean_absolute_error: 0.3239 - val_acc: 0.7967\n",
      "Epoch 118/300\n",
      "8/8 [==============================] - 0s 6ms/step - loss: 0.5918 - mean_squared_error: 0.1626 - mean_absolute_error: 0.3169 - acc: 0.7650 - val_loss: 0.6223 - val_mean_squared_error: 0.1615 - val_mean_absolute_error: 0.3221 - val_acc: 0.7900\n",
      "Epoch 119/300\n",
      "8/8 [==============================] - 0s 6ms/step - loss: 0.5790 - mean_squared_error: 0.1576 - mean_absolute_error: 0.3147 - acc: 0.7692 - val_loss: 0.6209 - val_mean_squared_error: 0.1613 - val_mean_absolute_error: 0.3203 - val_acc: 0.7900\n",
      "Epoch 120/300\n",
      "8/8 [==============================] - 0s 6ms/step - loss: 0.5772 - mean_squared_error: 0.1587 - mean_absolute_error: 0.3129 - acc: 0.7617 - val_loss: 0.6189 - val_mean_squared_error: 0.1613 - val_mean_absolute_error: 0.3198 - val_acc: 0.7900\n",
      "Epoch 121/300\n",
      "8/8 [==============================] - 0s 6ms/step - loss: 0.5806 - mean_squared_error: 0.1599 - mean_absolute_error: 0.3143 - acc: 0.7725 - val_loss: 0.6163 - val_mean_squared_error: 0.1614 - val_mean_absolute_error: 0.3213 - val_acc: 0.7900\n",
      "Epoch 122/300\n",
      "8/8 [==============================] - 0s 6ms/step - loss: 0.5838 - mean_squared_error: 0.1623 - mean_absolute_error: 0.3200 - acc: 0.7683 - val_loss: 0.6132 - val_mean_squared_error: 0.1617 - val_mean_absolute_error: 0.3241 - val_acc: 0.7900\n",
      "Epoch 123/300\n",
      "8/8 [==============================] - 0s 6ms/step - loss: 0.5753 - mean_squared_error: 0.1602 - mean_absolute_error: 0.3202 - acc: 0.7617 - val_loss: 0.6107 - val_mean_squared_error: 0.1619 - val_mean_absolute_error: 0.3261 - val_acc: 0.7967\n",
      "Epoch 124/300\n",
      "8/8 [==============================] - 0s 7ms/step - loss: 0.5751 - mean_squared_error: 0.1607 - mean_absolute_error: 0.3261 - acc: 0.7675 - val_loss: 0.6087 - val_mean_squared_error: 0.1618 - val_mean_absolute_error: 0.3257 - val_acc: 0.7967\n",
      "Epoch 125/300\n",
      "8/8 [==============================] - 0s 6ms/step - loss: 0.5814 - mean_squared_error: 0.1628 - mean_absolute_error: 0.3252 - acc: 0.7717 - val_loss: 0.6066 - val_mean_squared_error: 0.1617 - val_mean_absolute_error: 0.3255 - val_acc: 0.8033\n",
      "Epoch 126/300\n",
      "8/8 [==============================] - 0s 7ms/step - loss: 0.5753 - mean_squared_error: 0.1622 - mean_absolute_error: 0.3157 - acc: 0.7625 - val_loss: 0.6040 - val_mean_squared_error: 0.1620 - val_mean_absolute_error: 0.3287 - val_acc: 0.8100\n",
      "Epoch 127/300\n",
      "8/8 [==============================] - 0s 6ms/step - loss: 0.5758 - mean_squared_error: 0.1633 - mean_absolute_error: 0.3224 - acc: 0.7667 - val_loss: 0.6014 - val_mean_squared_error: 0.1626 - val_mean_absolute_error: 0.3330 - val_acc: 0.8033\n",
      "Epoch 128/300\n",
      "8/8 [==============================] - 0s 6ms/step - loss: 0.5683 - mean_squared_error: 0.1612 - mean_absolute_error: 0.3324 - acc: 0.7642 - val_loss: 0.5996 - val_mean_squared_error: 0.1625 - val_mean_absolute_error: 0.3322 - val_acc: 0.8100\n",
      "Epoch 129/300\n",
      "8/8 [==============================] - 0s 6ms/step - loss: 0.5719 - mean_squared_error: 0.1634 - mean_absolute_error: 0.3340 - acc: 0.7633 - val_loss: 0.5982 - val_mean_squared_error: 0.1618 - val_mean_absolute_error: 0.3280 - val_acc: 0.8033\n"
     ]
    },
    {
     "name": "stdout",
     "output_type": "stream",
     "text": [
      "Epoch 130/300\n",
      "8/8 [==============================] - 0s 6ms/step - loss: 0.5655 - mean_squared_error: 0.1611 - mean_absolute_error: 0.3241 - acc: 0.7767 - val_loss: 0.5976 - val_mean_squared_error: 0.1612 - val_mean_absolute_error: 0.3232 - val_acc: 0.7967\n",
      "Epoch 131/300\n",
      "8/8 [==============================] - 0s 6ms/step - loss: 0.5681 - mean_squared_error: 0.1636 - mean_absolute_error: 0.3190 - acc: 0.7717 - val_loss: 0.5961 - val_mean_squared_error: 0.1609 - val_mean_absolute_error: 0.3216 - val_acc: 0.7967\n",
      "Epoch 132/300\n",
      "8/8 [==============================] - 0s 7ms/step - loss: 0.5629 - mean_squared_error: 0.1620 - mean_absolute_error: 0.3193 - acc: 0.7708 - val_loss: 0.5940 - val_mean_squared_error: 0.1608 - val_mean_absolute_error: 0.3217 - val_acc: 0.8033\n",
      "Epoch 133/300\n",
      "8/8 [==============================] - 0s 6ms/step - loss: 0.5630 - mean_squared_error: 0.1621 - mean_absolute_error: 0.3181 - acc: 0.7692 - val_loss: 0.5912 - val_mean_squared_error: 0.1609 - val_mean_absolute_error: 0.3242 - val_acc: 0.8033\n",
      "Epoch 134/300\n",
      "8/8 [==============================] - 0s 6ms/step - loss: 0.5603 - mean_squared_error: 0.1620 - mean_absolute_error: 0.3211 - acc: 0.7617 - val_loss: 0.5884 - val_mean_squared_error: 0.1612 - val_mean_absolute_error: 0.3274 - val_acc: 0.8100\n",
      "Epoch 135/300\n",
      "8/8 [==============================] - 0s 6ms/step - loss: 0.5604 - mean_squared_error: 0.1625 - mean_absolute_error: 0.3237 - acc: 0.7683 - val_loss: 0.5861 - val_mean_squared_error: 0.1617 - val_mean_absolute_error: 0.3309 - val_acc: 0.8100\n",
      "Epoch 136/300\n",
      "8/8 [==============================] - 0s 6ms/step - loss: 0.5565 - mean_squared_error: 0.1618 - mean_absolute_error: 0.3276 - acc: 0.7700 - val_loss: 0.5844 - val_mean_squared_error: 0.1619 - val_mean_absolute_error: 0.3322 - val_acc: 0.8100\n",
      "Epoch 137/300\n",
      "8/8 [==============================] - 0s 6ms/step - loss: 0.5522 - mean_squared_error: 0.1608 - mean_absolute_error: 0.3307 - acc: 0.7750 - val_loss: 0.5832 - val_mean_squared_error: 0.1614 - val_mean_absolute_error: 0.3293 - val_acc: 0.8100\n",
      "Epoch 138/300\n",
      "8/8 [==============================] - 0s 6ms/step - loss: 0.5497 - mean_squared_error: 0.1608 - mean_absolute_error: 0.3250 - acc: 0.7700 - val_loss: 0.5827 - val_mean_squared_error: 0.1608 - val_mean_absolute_error: 0.3249 - val_acc: 0.8100\n",
      "Epoch 139/300\n",
      "8/8 [==============================] - 0s 6ms/step - loss: 0.5510 - mean_squared_error: 0.1612 - mean_absolute_error: 0.3184 - acc: 0.7750 - val_loss: 0.5821 - val_mean_squared_error: 0.1605 - val_mean_absolute_error: 0.3224 - val_acc: 0.8100\n",
      "Epoch 140/300\n",
      "8/8 [==============================] - 0s 7ms/step - loss: 0.5534 - mean_squared_error: 0.1638 - mean_absolute_error: 0.3199 - acc: 0.7583 - val_loss: 0.5809 - val_mean_squared_error: 0.1607 - val_mean_absolute_error: 0.3229 - val_acc: 0.8100\n",
      "Epoch 141/300\n",
      "8/8 [==============================] - 0s 6ms/step - loss: 0.5386 - mean_squared_error: 0.1587 - mean_absolute_error: 0.3102 - acc: 0.7692 - val_loss: 0.5791 - val_mean_squared_error: 0.1611 - val_mean_absolute_error: 0.3258 - val_acc: 0.8167\n",
      "Epoch 142/300\n",
      "8/8 [==============================] - 0s 7ms/step - loss: 0.5476 - mean_squared_error: 0.1623 - mean_absolute_error: 0.3291 - acc: 0.7642 - val_loss: 0.5779 - val_mean_squared_error: 0.1613 - val_mean_absolute_error: 0.3262 - val_acc: 0.8033\n",
      "Epoch 143/300\n",
      "8/8 [==============================] - 0s 6ms/step - loss: 0.5472 - mean_squared_error: 0.1626 - mean_absolute_error: 0.3221 - acc: 0.7617 - val_loss: 0.5766 - val_mean_squared_error: 0.1615 - val_mean_absolute_error: 0.3274 - val_acc: 0.8033\n",
      "Epoch 144/300\n",
      "8/8 [==============================] - 0s 6ms/step - loss: 0.5478 - mean_squared_error: 0.1631 - mean_absolute_error: 0.3156 - acc: 0.7742 - val_loss: 0.5748 - val_mean_squared_error: 0.1625 - val_mean_absolute_error: 0.3328 - val_acc: 0.8033\n",
      "Epoch 145/300\n",
      "8/8 [==============================] - 0s 6ms/step - loss: 0.5419 - mean_squared_error: 0.1615 - mean_absolute_error: 0.3312 - acc: 0.7558 - val_loss: 0.5734 - val_mean_squared_error: 0.1627 - val_mean_absolute_error: 0.3337 - val_acc: 0.8033\n",
      "Epoch 146/300\n",
      "8/8 [==============================] - 0s 7ms/step - loss: 0.5345 - mean_squared_error: 0.1592 - mean_absolute_error: 0.3264 - acc: 0.7617 - val_loss: 0.5725 - val_mean_squared_error: 0.1623 - val_mean_absolute_error: 0.3310 - val_acc: 0.8033\n",
      "Epoch 147/300\n",
      "8/8 [==============================] - 0s 7ms/step - loss: 0.5398 - mean_squared_error: 0.1613 - mean_absolute_error: 0.3336 - acc: 0.7592 - val_loss: 0.5728 - val_mean_squared_error: 0.1614 - val_mean_absolute_error: 0.3241 - val_acc: 0.8033\n",
      "Epoch 148/300\n",
      "8/8 [==============================] - 0s 6ms/step - loss: 0.5428 - mean_squared_error: 0.1633 - mean_absolute_error: 0.3193 - acc: 0.7683 - val_loss: 0.5728 - val_mean_squared_error: 0.1610 - val_mean_absolute_error: 0.3207 - val_acc: 0.8033\n",
      "Epoch 149/300\n",
      "8/8 [==============================] - 0s 6ms/step - loss: 0.5237 - mean_squared_error: 0.1567 - mean_absolute_error: 0.3071 - acc: 0.7733 - val_loss: 0.5722 - val_mean_squared_error: 0.1610 - val_mean_absolute_error: 0.3198 - val_acc: 0.8033\n",
      "Epoch 150/300\n",
      "8/8 [==============================] - 0s 7ms/step - loss: 0.5279 - mean_squared_error: 0.1590 - mean_absolute_error: 0.3112 - acc: 0.7650 - val_loss: 0.5707 - val_mean_squared_error: 0.1612 - val_mean_absolute_error: 0.3211 - val_acc: 0.8033\n",
      "Epoch 151/300\n",
      "8/8 [==============================] - 0s 7ms/step - loss: 0.5274 - mean_squared_error: 0.1593 - mean_absolute_error: 0.3162 - acc: 0.7617 - val_loss: 0.5693 - val_mean_squared_error: 0.1615 - val_mean_absolute_error: 0.3227 - val_acc: 0.7967\n",
      "Epoch 152/300\n",
      "8/8 [==============================] - 0s 6ms/step - loss: 0.5307 - mean_squared_error: 0.1610 - mean_absolute_error: 0.3116 - acc: 0.7608 - val_loss: 0.5671 - val_mean_squared_error: 0.1622 - val_mean_absolute_error: 0.3278 - val_acc: 0.7967\n",
      "Epoch 153/300\n",
      "8/8 [==============================] - 0s 7ms/step - loss: 0.5308 - mean_squared_error: 0.1614 - mean_absolute_error: 0.3232 - acc: 0.7608 - val_loss: 0.5656 - val_mean_squared_error: 0.1629 - val_mean_absolute_error: 0.3318 - val_acc: 0.7967\n",
      "Epoch 154/300\n",
      "8/8 [==============================] - 0s 7ms/step - loss: 0.5302 - mean_squared_error: 0.1610 - mean_absolute_error: 0.3213 - acc: 0.7700 - val_loss: 0.5645 - val_mean_squared_error: 0.1635 - val_mean_absolute_error: 0.3354 - val_acc: 0.8033\n",
      "Epoch 155/300\n",
      "8/8 [==============================] - 0s 8ms/step - loss: 0.5243 - mean_squared_error: 0.1592 - mean_absolute_error: 0.3243 - acc: 0.7733 - val_loss: 0.5637 - val_mean_squared_error: 0.1637 - val_mean_absolute_error: 0.3359 - val_acc: 0.7967\n",
      "Epoch 156/300\n",
      "8/8 [==============================] - 0s 8ms/step - loss: 0.5295 - mean_squared_error: 0.1617 - mean_absolute_error: 0.3310 - acc: 0.7683 - val_loss: 0.5634 - val_mean_squared_error: 0.1633 - val_mean_absolute_error: 0.3329 - val_acc: 0.7967\n",
      "Epoch 157/300\n",
      "8/8 [==============================] - 0s 7ms/step - loss: 0.5298 - mean_squared_error: 0.1624 - mean_absolute_error: 0.3295 - acc: 0.7692 - val_loss: 0.5637 - val_mean_squared_error: 0.1626 - val_mean_absolute_error: 0.3281 - val_acc: 0.7967\n",
      "Epoch 158/300\n",
      "8/8 [==============================] - 0s 6ms/step - loss: 0.5264 - mean_squared_error: 0.1618 - mean_absolute_error: 0.3237 - acc: 0.7633 - val_loss: 0.5647 - val_mean_squared_error: 0.1621 - val_mean_absolute_error: 0.3233 - val_acc: 0.7967\n",
      "Epoch 159/300\n",
      "8/8 [==============================] - 0s 7ms/step - loss: 0.5326 - mean_squared_error: 0.1639 - mean_absolute_error: 0.3228 - acc: 0.7667 - val_loss: 0.5652 - val_mean_squared_error: 0.1620 - val_mean_absolute_error: 0.3209 - val_acc: 0.7900\n",
      "Epoch 160/300\n",
      "8/8 [==============================] - 0s 7ms/step - loss: 0.5220 - mean_squared_error: 0.1612 - mean_absolute_error: 0.3196 - acc: 0.7625 - val_loss: 0.5654 - val_mean_squared_error: 0.1619 - val_mean_absolute_error: 0.3193 - val_acc: 0.7900\n",
      "Epoch 161/300\n",
      "8/8 [==============================] - 0s 6ms/step - loss: 0.5376 - mean_squared_error: 0.1660 - mean_absolute_error: 0.3128 - acc: 0.7608 - val_loss: 0.5621 - val_mean_squared_error: 0.1626 - val_mean_absolute_error: 0.3253 - val_acc: 0.7833\n"
     ]
    },
    {
     "name": "stdout",
     "output_type": "stream",
     "text": [
      "Epoch 162/300\n",
      "8/8 [==============================] - 0s 7ms/step - loss: 0.5289 - mean_squared_error: 0.1631 - mean_absolute_error: 0.3134 - acc: 0.7650 - val_loss: 0.5591 - val_mean_squared_error: 0.1641 - val_mean_absolute_error: 0.3359 - val_acc: 0.7833\n",
      "Epoch 163/300\n",
      "8/8 [==============================] - 0s 7ms/step - loss: 0.5188 - mean_squared_error: 0.1601 - mean_absolute_error: 0.3295 - acc: 0.7708 - val_loss: 0.5581 - val_mean_squared_error: 0.1652 - val_mean_absolute_error: 0.3415 - val_acc: 0.7700\n",
      "Epoch 164/300\n",
      "8/8 [==============================] - 0s 7ms/step - loss: 0.5281 - mean_squared_error: 0.1637 - mean_absolute_error: 0.3332 - acc: 0.7758 - val_loss: 0.5574 - val_mean_squared_error: 0.1657 - val_mean_absolute_error: 0.3443 - val_acc: 0.7700\n",
      "Epoch 165/300\n",
      "8/8 [==============================] - 0s 7ms/step - loss: 0.5252 - mean_squared_error: 0.1634 - mean_absolute_error: 0.3345 - acc: 0.7625 - val_loss: 0.5564 - val_mean_squared_error: 0.1655 - val_mean_absolute_error: 0.3435 - val_acc: 0.7700\n",
      "Epoch 166/300\n",
      "8/8 [==============================] - 0s 7ms/step - loss: 0.5326 - mean_squared_error: 0.1665 - mean_absolute_error: 0.3396 - acc: 0.7608 - val_loss: 0.5555 - val_mean_squared_error: 0.1649 - val_mean_absolute_error: 0.3404 - val_acc: 0.7767\n",
      "Epoch 167/300\n",
      "8/8 [==============================] - 0s 7ms/step - loss: 0.5197 - mean_squared_error: 0.1617 - mean_absolute_error: 0.3360 - acc: 0.7633 - val_loss: 0.5554 - val_mean_squared_error: 0.1635 - val_mean_absolute_error: 0.3327 - val_acc: 0.7767\n",
      "Epoch 168/300\n",
      "8/8 [==============================] - 0s 7ms/step - loss: 0.5136 - mean_squared_error: 0.1598 - mean_absolute_error: 0.3283 - acc: 0.7692 - val_loss: 0.5579 - val_mean_squared_error: 0.1621 - val_mean_absolute_error: 0.3221 - val_acc: 0.7767\n",
      "Epoch 169/300\n",
      "8/8 [==============================] - 0s 7ms/step - loss: 0.5163 - mean_squared_error: 0.1608 - mean_absolute_error: 0.3176 - acc: 0.7708 - val_loss: 0.5616 - val_mean_squared_error: 0.1614 - val_mean_absolute_error: 0.3142 - val_acc: 0.7767\n",
      "Epoch 170/300\n",
      "8/8 [==============================] - 0s 7ms/step - loss: 0.5181 - mean_squared_error: 0.1614 - mean_absolute_error: 0.3055 - acc: 0.7667 - val_loss: 0.5610 - val_mean_squared_error: 0.1613 - val_mean_absolute_error: 0.3138 - val_acc: 0.7767\n",
      "Epoch 171/300\n",
      "8/8 [==============================] - 0s 6ms/step - loss: 0.5074 - mean_squared_error: 0.1588 - mean_absolute_error: 0.3031 - acc: 0.7683 - val_loss: 0.5572 - val_mean_squared_error: 0.1616 - val_mean_absolute_error: 0.3184 - val_acc: 0.7767\n",
      "Epoch 172/300\n",
      "8/8 [==============================] - 0s 7ms/step - loss: 0.5135 - mean_squared_error: 0.1610 - mean_absolute_error: 0.3200 - acc: 0.7750 - val_loss: 0.5540 - val_mean_squared_error: 0.1620 - val_mean_absolute_error: 0.3232 - val_acc: 0.7767\n",
      "Epoch 173/300\n",
      "8/8 [==============================] - 0s 10ms/step - loss: 0.5171 - mean_squared_error: 0.1630 - mean_absolute_error: 0.3206 - acc: 0.7675 - val_loss: 0.5512 - val_mean_squared_error: 0.1627 - val_mean_absolute_error: 0.3293 - val_acc: 0.7833\n",
      "Epoch 174/300\n",
      "8/8 [==============================] - 0s 12ms/step - loss: 0.5121 - mean_squared_error: 0.1613 - mean_absolute_error: 0.3198 - acc: 0.7692 - val_loss: 0.5492 - val_mean_squared_error: 0.1636 - val_mean_absolute_error: 0.3356 - val_acc: 0.7900\n",
      "Epoch 175/300\n",
      "8/8 [==============================] - 0s 7ms/step - loss: 0.5126 - mean_squared_error: 0.1619 - mean_absolute_error: 0.3296 - acc: 0.7708 - val_loss: 0.5481 - val_mean_squared_error: 0.1641 - val_mean_absolute_error: 0.3387 - val_acc: 0.7900\n",
      "Epoch 176/300\n",
      "8/8 [==============================] - 0s 8ms/step - loss: 0.5050 - mean_squared_error: 0.1586 - mean_absolute_error: 0.3296 - acc: 0.7742 - val_loss: 0.5475 - val_mean_squared_error: 0.1637 - val_mean_absolute_error: 0.3368 - val_acc: 0.7900\n",
      "Epoch 177/300\n",
      "8/8 [==============================] - 0s 7ms/step - loss: 0.5120 - mean_squared_error: 0.1623 - mean_absolute_error: 0.3293 - acc: 0.7667 - val_loss: 0.5471 - val_mean_squared_error: 0.1629 - val_mean_absolute_error: 0.3331 - val_acc: 0.7900\n",
      "Epoch 178/300\n",
      "8/8 [==============================] - 0s 7ms/step - loss: 0.5060 - mean_squared_error: 0.1607 - mean_absolute_error: 0.3242 - acc: 0.7658 - val_loss: 0.5474 - val_mean_squared_error: 0.1621 - val_mean_absolute_error: 0.3280 - val_acc: 0.7967\n",
      "Epoch 179/300\n",
      "8/8 [==============================] - 0s 9ms/step - loss: 0.5087 - mean_squared_error: 0.1613 - mean_absolute_error: 0.3251 - acc: 0.7625 - val_loss: 0.5486 - val_mean_squared_error: 0.1613 - val_mean_absolute_error: 0.3223 - val_acc: 0.8100\n",
      "Epoch 180/300\n",
      "8/8 [==============================] - 0s 7ms/step - loss: 0.5070 - mean_squared_error: 0.1612 - mean_absolute_error: 0.3158 - acc: 0.7658 - val_loss: 0.5492 - val_mean_squared_error: 0.1609 - val_mean_absolute_error: 0.3193 - val_acc: 0.8100\n",
      "Epoch 181/300\n",
      "8/8 [==============================] - 0s 6ms/step - loss: 0.5180 - mean_squared_error: 0.1648 - mean_absolute_error: 0.3131 - acc: 0.7658 - val_loss: 0.5471 - val_mean_squared_error: 0.1612 - val_mean_absolute_error: 0.3226 - val_acc: 0.8033\n",
      "Epoch 182/300\n",
      "8/8 [==============================] - 0s 8ms/step - loss: 0.5039 - mean_squared_error: 0.1601 - mean_absolute_error: 0.3194 - acc: 0.7650 - val_loss: 0.5454 - val_mean_squared_error: 0.1616 - val_mean_absolute_error: 0.3259 - val_acc: 0.8033\n",
      "Epoch 183/300\n",
      "8/8 [==============================] - 0s 7ms/step - loss: 0.5006 - mean_squared_error: 0.1588 - mean_absolute_error: 0.3130 - acc: 0.7700 - val_loss: 0.5437 - val_mean_squared_error: 0.1623 - val_mean_absolute_error: 0.3304 - val_acc: 0.8033\n",
      "Epoch 184/300\n",
      "8/8 [==============================] - 0s 9ms/step - loss: 0.5010 - mean_squared_error: 0.1595 - mean_absolute_error: 0.3305 - acc: 0.7625 - val_loss: 0.5433 - val_mean_squared_error: 0.1623 - val_mean_absolute_error: 0.3300 - val_acc: 0.8167\n",
      "Epoch 185/300\n",
      "8/8 [==============================] - 0s 9ms/step - loss: 0.5061 - mean_squared_error: 0.1615 - mean_absolute_error: 0.3218 - acc: 0.7608 - val_loss: 0.5430 - val_mean_squared_error: 0.1623 - val_mean_absolute_error: 0.3299 - val_acc: 0.8233\n",
      "Epoch 186/300\n",
      "8/8 [==============================] - 0s 7ms/step - loss: 0.5067 - mean_squared_error: 0.1623 - mean_absolute_error: 0.3232 - acc: 0.7700 - val_loss: 0.5424 - val_mean_squared_error: 0.1623 - val_mean_absolute_error: 0.3300 - val_acc: 0.8233\n",
      "Epoch 187/300\n",
      "8/8 [==============================] - 0s 7ms/step - loss: 0.5040 - mean_squared_error: 0.1610 - mean_absolute_error: 0.3290 - acc: 0.7717 - val_loss: 0.5425 - val_mean_squared_error: 0.1619 - val_mean_absolute_error: 0.3275 - val_acc: 0.8233\n",
      "Epoch 188/300\n",
      "8/8 [==============================] - 0s 7ms/step - loss: 0.5055 - mean_squared_error: 0.1624 - mean_absolute_error: 0.3251 - acc: 0.7608 - val_loss: 0.5428 - val_mean_squared_error: 0.1616 - val_mean_absolute_error: 0.3248 - val_acc: 0.8167\n",
      "Epoch 189/300\n",
      "8/8 [==============================] - 0s 7ms/step - loss: 0.5051 - mean_squared_error: 0.1619 - mean_absolute_error: 0.3249 - acc: 0.7667 - val_loss: 0.5433 - val_mean_squared_error: 0.1612 - val_mean_absolute_error: 0.3219 - val_acc: 0.8167\n",
      "Epoch 190/300\n",
      "8/8 [==============================] - 0s 9ms/step - loss: 0.4926 - mean_squared_error: 0.1577 - mean_absolute_error: 0.3149 - acc: 0.7750 - val_loss: 0.5439 - val_mean_squared_error: 0.1608 - val_mean_absolute_error: 0.3192 - val_acc: 0.8167\n",
      "Epoch 191/300\n",
      "8/8 [==============================] - 0s 9ms/step - loss: 0.4919 - mean_squared_error: 0.1572 - mean_absolute_error: 0.3122 - acc: 0.7742 - val_loss: 0.5444 - val_mean_squared_error: 0.1606 - val_mean_absolute_error: 0.3174 - val_acc: 0.8100\n",
      "Epoch 192/300\n",
      "8/8 [==============================] - 0s 8ms/step - loss: 0.5016 - mean_squared_error: 0.1607 - mean_absolute_error: 0.3105 - acc: 0.7700 - val_loss: 0.5429 - val_mean_squared_error: 0.1609 - val_mean_absolute_error: 0.3199 - val_acc: 0.8033\n",
      "Epoch 193/300\n",
      "8/8 [==============================] - 0s 8ms/step - loss: 0.4880 - mean_squared_error: 0.1571 - mean_absolute_error: 0.3138 - acc: 0.7742 - val_loss: 0.5418 - val_mean_squared_error: 0.1611 - val_mean_absolute_error: 0.3215 - val_acc: 0.8033\n"
     ]
    },
    {
     "name": "stdout",
     "output_type": "stream",
     "text": [
      "Epoch 194/300\n",
      "8/8 [==============================] - 0s 8ms/step - loss: 0.4983 - mean_squared_error: 0.1606 - mean_absolute_error: 0.3183 - acc: 0.7742 - val_loss: 0.5406 - val_mean_squared_error: 0.1614 - val_mean_absolute_error: 0.3236 - val_acc: 0.8033\n",
      "Epoch 195/300\n",
      "8/8 [==============================] - 0s 8ms/step - loss: 0.4950 - mean_squared_error: 0.1595 - mean_absolute_error: 0.3168 - acc: 0.7633 - val_loss: 0.5394 - val_mean_squared_error: 0.1617 - val_mean_absolute_error: 0.3261 - val_acc: 0.8033\n",
      "Epoch 196/300\n",
      "8/8 [==============================] - 0s 7ms/step - loss: 0.4911 - mean_squared_error: 0.1583 - mean_absolute_error: 0.3182 - acc: 0.7717 - val_loss: 0.5388 - val_mean_squared_error: 0.1619 - val_mean_absolute_error: 0.3273 - val_acc: 0.8033\n",
      "Epoch 197/300\n",
      "8/8 [==============================] - 0s 8ms/step - loss: 0.4848 - mean_squared_error: 0.1558 - mean_absolute_error: 0.3150 - acc: 0.7650 - val_loss: 0.5387 - val_mean_squared_error: 0.1619 - val_mean_absolute_error: 0.3270 - val_acc: 0.7967\n",
      "Epoch 198/300\n",
      "8/8 [==============================] - 0s 7ms/step - loss: 0.4895 - mean_squared_error: 0.1578 - mean_absolute_error: 0.3122 - acc: 0.7750 - val_loss: 0.5383 - val_mean_squared_error: 0.1621 - val_mean_absolute_error: 0.3276 - val_acc: 0.7967\n",
      "Epoch 199/300\n",
      "8/8 [==============================] - 0s 6ms/step - loss: 0.5040 - mean_squared_error: 0.1637 - mean_absolute_error: 0.3214 - acc: 0.7625 - val_loss: 0.5376 - val_mean_squared_error: 0.1626 - val_mean_absolute_error: 0.3300 - val_acc: 0.7967\n",
      "Epoch 200/300\n",
      "8/8 [==============================] - 0s 7ms/step - loss: 0.5020 - mean_squared_error: 0.1626 - mean_absolute_error: 0.3243 - acc: 0.7633 - val_loss: 0.5370 - val_mean_squared_error: 0.1631 - val_mean_absolute_error: 0.3326 - val_acc: 0.7900\n",
      "Epoch 201/300\n",
      "8/8 [==============================] - 0s 7ms/step - loss: 0.5064 - mean_squared_error: 0.1649 - mean_absolute_error: 0.3275 - acc: 0.7667 - val_loss: 0.5364 - val_mean_squared_error: 0.1636 - val_mean_absolute_error: 0.3353 - val_acc: 0.7900\n",
      "Epoch 202/300\n",
      "8/8 [==============================] - 0s 6ms/step - loss: 0.4968 - mean_squared_error: 0.1611 - mean_absolute_error: 0.3268 - acc: 0.7683 - val_loss: 0.5360 - val_mean_squared_error: 0.1637 - val_mean_absolute_error: 0.3359 - val_acc: 0.7900\n",
      "Epoch 203/300\n",
      "8/8 [==============================] - 0s 7ms/step - loss: 0.4862 - mean_squared_error: 0.1576 - mean_absolute_error: 0.3249 - acc: 0.7667 - val_loss: 0.5364 - val_mean_squared_error: 0.1631 - val_mean_absolute_error: 0.3323 - val_acc: 0.7900\n",
      "Epoch 204/300\n",
      "8/8 [==============================] - 0s 6ms/step - loss: 0.5019 - mean_squared_error: 0.1634 - mean_absolute_error: 0.3292 - acc: 0.7600 - val_loss: 0.5372 - val_mean_squared_error: 0.1624 - val_mean_absolute_error: 0.3279 - val_acc: 0.7900\n",
      "Epoch 205/300\n",
      "8/8 [==============================] - 0s 6ms/step - loss: 0.5002 - mean_squared_error: 0.1627 - mean_absolute_error: 0.3275 - acc: 0.7675 - val_loss: 0.5386 - val_mean_squared_error: 0.1618 - val_mean_absolute_error: 0.3231 - val_acc: 0.7900\n",
      "Epoch 206/300\n",
      "8/8 [==============================] - 0s 6ms/step - loss: 0.4975 - mean_squared_error: 0.1620 - mean_absolute_error: 0.3197 - acc: 0.7692 - val_loss: 0.5397 - val_mean_squared_error: 0.1615 - val_mean_absolute_error: 0.3202 - val_acc: 0.7900\n",
      "Epoch 207/300\n",
      "8/8 [==============================] - 0s 6ms/step - loss: 0.5028 - mean_squared_error: 0.1639 - mean_absolute_error: 0.3198 - acc: 0.7758 - val_loss: 0.5394 - val_mean_squared_error: 0.1615 - val_mean_absolute_error: 0.3203 - val_acc: 0.7833\n",
      "Epoch 208/300\n",
      "8/8 [==============================] - 0s 6ms/step - loss: 0.5076 - mean_squared_error: 0.1648 - mean_absolute_error: 0.3173 - acc: 0.7700 - val_loss: 0.5368 - val_mean_squared_error: 0.1621 - val_mean_absolute_error: 0.3252 - val_acc: 0.7833\n",
      "Epoch 209/300\n",
      "8/8 [==============================] - 0s 6ms/step - loss: 0.4990 - mean_squared_error: 0.1628 - mean_absolute_error: 0.3252 - acc: 0.7650 - val_loss: 0.5350 - val_mean_squared_error: 0.1627 - val_mean_absolute_error: 0.3297 - val_acc: 0.7833\n",
      "Epoch 210/300\n",
      "8/8 [==============================] - 0s 7ms/step - loss: 0.4950 - mean_squared_error: 0.1612 - mean_absolute_error: 0.3193 - acc: 0.7658 - val_loss: 0.5336 - val_mean_squared_error: 0.1635 - val_mean_absolute_error: 0.3349 - val_acc: 0.7900\n",
      "Epoch 211/300\n",
      "8/8 [==============================] - 0s 7ms/step - loss: 0.5064 - mean_squared_error: 0.1657 - mean_absolute_error: 0.3412 - acc: 0.7633 - val_loss: 0.5331 - val_mean_squared_error: 0.1637 - val_mean_absolute_error: 0.3362 - val_acc: 0.7833\n",
      "Epoch 212/300\n",
      "8/8 [==============================] - 0s 7ms/step - loss: 0.4935 - mean_squared_error: 0.1609 - mean_absolute_error: 0.3331 - acc: 0.7717 - val_loss: 0.5333 - val_mean_squared_error: 0.1632 - val_mean_absolute_error: 0.3331 - val_acc: 0.7833\n",
      "Epoch 213/300\n",
      "8/8 [==============================] - 0s 9ms/step - loss: 0.4997 - mean_squared_error: 0.1636 - mean_absolute_error: 0.3298 - acc: 0.7683 - val_loss: 0.5340 - val_mean_squared_error: 0.1627 - val_mean_absolute_error: 0.3293 - val_acc: 0.7833\n",
      "Epoch 214/300\n",
      "8/8 [==============================] - 0s 11ms/step - loss: 0.4940 - mean_squared_error: 0.1615 - mean_absolute_error: 0.3257 - acc: 0.7667 - val_loss: 0.5354 - val_mean_squared_error: 0.1620 - val_mean_absolute_error: 0.3247 - val_acc: 0.7767\n",
      "Epoch 215/300\n",
      "8/8 [==============================] - 0s 11ms/step - loss: 0.4961 - mean_squared_error: 0.1624 - mean_absolute_error: 0.3155 - acc: 0.7650 - val_loss: 0.5357 - val_mean_squared_error: 0.1620 - val_mean_absolute_error: 0.3238 - val_acc: 0.7767\n",
      "Epoch 216/300\n",
      "8/8 [==============================] - 0s 10ms/step - loss: 0.4940 - mean_squared_error: 0.1616 - mean_absolute_error: 0.3159 - acc: 0.7717 - val_loss: 0.5351 - val_mean_squared_error: 0.1622 - val_mean_absolute_error: 0.3254 - val_acc: 0.7767\n",
      "Epoch 217/300\n",
      "8/8 [==============================] - 0s 8ms/step - loss: 0.4924 - mean_squared_error: 0.1611 - mean_absolute_error: 0.3233 - acc: 0.7642 - val_loss: 0.5347 - val_mean_squared_error: 0.1624 - val_mean_absolute_error: 0.3262 - val_acc: 0.7767\n",
      "Epoch 218/300\n",
      "8/8 [==============================] - 0s 8ms/step - loss: 0.4927 - mean_squared_error: 0.1613 - mean_absolute_error: 0.3185 - acc: 0.7625 - val_loss: 0.5338 - val_mean_squared_error: 0.1627 - val_mean_absolute_error: 0.3284 - val_acc: 0.7767\n",
      "Epoch 219/300\n",
      "8/8 [==============================] - 0s 8ms/step - loss: 0.4914 - mean_squared_error: 0.1609 - mean_absolute_error: 0.3200 - acc: 0.7725 - val_loss: 0.5329 - val_mean_squared_error: 0.1630 - val_mean_absolute_error: 0.3308 - val_acc: 0.7767\n",
      "Epoch 220/300\n",
      "8/8 [==============================] - 0s 8ms/step - loss: 0.4836 - mean_squared_error: 0.1579 - mean_absolute_error: 0.3236 - acc: 0.7658 - val_loss: 0.5328 - val_mean_squared_error: 0.1628 - val_mean_absolute_error: 0.3301 - val_acc: 0.7767\n",
      "Epoch 221/300\n",
      "8/8 [==============================] - 0s 7ms/step - loss: 0.4855 - mean_squared_error: 0.1593 - mean_absolute_error: 0.3179 - acc: 0.7700 - val_loss: 0.5329 - val_mean_squared_error: 0.1627 - val_mean_absolute_error: 0.3292 - val_acc: 0.7767\n",
      "Epoch 222/300\n",
      "8/8 [==============================] - 0s 8ms/step - loss: 0.4937 - mean_squared_error: 0.1622 - mean_absolute_error: 0.3241 - acc: 0.7675 - val_loss: 0.5330 - val_mean_squared_error: 0.1625 - val_mean_absolute_error: 0.3284 - val_acc: 0.7767\n",
      "Epoch 223/300\n",
      "8/8 [==============================] - 0s 8ms/step - loss: 0.4903 - mean_squared_error: 0.1614 - mean_absolute_error: 0.3212 - acc: 0.7700 - val_loss: 0.5330 - val_mean_squared_error: 0.1623 - val_mean_absolute_error: 0.3276 - val_acc: 0.7767\n",
      "Epoch 224/300\n",
      "8/8 [==============================] - 0s 9ms/step - loss: 0.4831 - mean_squared_error: 0.1585 - mean_absolute_error: 0.3215 - acc: 0.7633 - val_loss: 0.5337 - val_mean_squared_error: 0.1618 - val_mean_absolute_error: 0.3248 - val_acc: 0.7767\n",
      "Epoch 225/300\n",
      "8/8 [==============================] - 0s 8ms/step - loss: 0.4784 - mean_squared_error: 0.1571 - mean_absolute_error: 0.3146 - acc: 0.7717 - val_loss: 0.5347 - val_mean_squared_error: 0.1613 - val_mean_absolute_error: 0.3216 - val_acc: 0.7900\n"
     ]
    },
    {
     "name": "stdout",
     "output_type": "stream",
     "text": [
      "Epoch 226/300\n",
      "8/8 [==============================] - 0s 7ms/step - loss: 0.4919 - mean_squared_error: 0.1616 - mean_absolute_error: 0.3224 - acc: 0.7692 - val_loss: 0.5357 - val_mean_squared_error: 0.1610 - val_mean_absolute_error: 0.3191 - val_acc: 0.7967\n",
      "Epoch 227/300\n",
      "8/8 [==============================] - 0s 7ms/step - loss: 0.4974 - mean_squared_error: 0.1639 - mean_absolute_error: 0.3159 - acc: 0.7683 - val_loss: 0.5345 - val_mean_squared_error: 0.1611 - val_mean_absolute_error: 0.3210 - val_acc: 0.7967\n",
      "Epoch 228/300\n",
      "8/8 [==============================] - 0s 7ms/step - loss: 0.4893 - mean_squared_error: 0.1614 - mean_absolute_error: 0.3170 - acc: 0.7683 - val_loss: 0.5327 - val_mean_squared_error: 0.1614 - val_mean_absolute_error: 0.3244 - val_acc: 0.7967\n",
      "Epoch 229/300\n",
      "8/8 [==============================] - 0s 5ms/step - loss: 0.4859 - mean_squared_error: 0.1595 - mean_absolute_error: 0.3158 - acc: 0.7675 - val_loss: 0.5310 - val_mean_squared_error: 0.1620 - val_mean_absolute_error: 0.3287 - val_acc: 0.8033\n",
      "Epoch 230/300\n",
      "8/8 [==============================] - 0s 7ms/step - loss: 0.5004 - mean_squared_error: 0.1655 - mean_absolute_error: 0.3264 - acc: 0.7608 - val_loss: 0.5296 - val_mean_squared_error: 0.1630 - val_mean_absolute_error: 0.3343 - val_acc: 0.8033\n",
      "Epoch 231/300\n",
      "8/8 [==============================] - 0s 6ms/step - loss: 0.4961 - mean_squared_error: 0.1640 - mean_absolute_error: 0.3310 - acc: 0.7700 - val_loss: 0.5291 - val_mean_squared_error: 0.1637 - val_mean_absolute_error: 0.3382 - val_acc: 0.8033\n",
      "Epoch 232/300\n",
      "8/8 [==============================] - 0s 5ms/step - loss: 0.4906 - mean_squared_error: 0.1618 - mean_absolute_error: 0.3321 - acc: 0.7692 - val_loss: 0.5290 - val_mean_squared_error: 0.1638 - val_mean_absolute_error: 0.3386 - val_acc: 0.8100\n",
      "Epoch 233/300\n",
      "8/8 [==============================] - 0s 6ms/step - loss: 0.4934 - mean_squared_error: 0.1626 - mean_absolute_error: 0.3378 - acc: 0.7708 - val_loss: 0.5295 - val_mean_squared_error: 0.1630 - val_mean_absolute_error: 0.3344 - val_acc: 0.8100\n",
      "Epoch 234/300\n",
      "8/8 [==============================] - 0s 8ms/step - loss: 0.4897 - mean_squared_error: 0.1617 - mean_absolute_error: 0.3281 - acc: 0.7650 - val_loss: 0.5308 - val_mean_squared_error: 0.1621 - val_mean_absolute_error: 0.3288 - val_acc: 0.8100\n",
      "Epoch 235/300\n",
      "8/8 [==============================] - 0s 11ms/step - loss: 0.4785 - mean_squared_error: 0.1576 - mean_absolute_error: 0.3221 - acc: 0.7750 - val_loss: 0.5340 - val_mean_squared_error: 0.1610 - val_mean_absolute_error: 0.3210 - val_acc: 0.8033\n",
      "Epoch 236/300\n",
      "8/8 [==============================] - 0s 7ms/step - loss: 0.4963 - mean_squared_error: 0.1638 - mean_absolute_error: 0.3191 - acc: 0.7692 - val_loss: 0.5364 - val_mean_squared_error: 0.1606 - val_mean_absolute_error: 0.3171 - val_acc: 0.8033\n",
      "Epoch 237/300\n",
      "8/8 [==============================] - 0s 8ms/step - loss: 0.4833 - mean_squared_error: 0.1595 - mean_absolute_error: 0.3116 - acc: 0.7633 - val_loss: 0.5373 - val_mean_squared_error: 0.1606 - val_mean_absolute_error: 0.3159 - val_acc: 0.8033\n",
      "Epoch 238/300\n",
      "8/8 [==============================] - 0s 8ms/step - loss: 0.4878 - mean_squared_error: 0.1614 - mean_absolute_error: 0.3198 - acc: 0.7683 - val_loss: 0.5377 - val_mean_squared_error: 0.1606 - val_mean_absolute_error: 0.3157 - val_acc: 0.8033\n",
      "Epoch 239/300\n",
      "8/8 [==============================] - 0s 7ms/step - loss: 0.4853 - mean_squared_error: 0.1603 - mean_absolute_error: 0.3141 - acc: 0.7625 - val_loss: 0.5366 - val_mean_squared_error: 0.1608 - val_mean_absolute_error: 0.3175 - val_acc: 0.8033\n",
      "Epoch 240/300\n",
      "8/8 [==============================] - 0s 8ms/step - loss: 0.4900 - mean_squared_error: 0.1621 - mean_absolute_error: 0.3116 - acc: 0.7667 - val_loss: 0.5335 - val_mean_squared_error: 0.1615 - val_mean_absolute_error: 0.3234 - val_acc: 0.8033\n",
      "Epoch 241/300\n",
      "8/8 [==============================] - 0s 8ms/step - loss: 0.4816 - mean_squared_error: 0.1595 - mean_absolute_error: 0.3103 - acc: 0.7642 - val_loss: 0.5307 - val_mean_squared_error: 0.1627 - val_mean_absolute_error: 0.3313 - val_acc: 0.8033\n",
      "Epoch 242/300\n",
      "8/8 [==============================] - 0s 8ms/step - loss: 0.4816 - mean_squared_error: 0.1593 - mean_absolute_error: 0.3228 - acc: 0.7733 - val_loss: 0.5296 - val_mean_squared_error: 0.1637 - val_mean_absolute_error: 0.3366 - val_acc: 0.8033\n",
      "Epoch 243/300\n",
      "8/8 [==============================] - 0s 9ms/step - loss: 0.4855 - mean_squared_error: 0.1600 - mean_absolute_error: 0.3328 - acc: 0.7700 - val_loss: 0.5295 - val_mean_squared_error: 0.1638 - val_mean_absolute_error: 0.3371 - val_acc: 0.8100\n",
      "Epoch 244/300\n",
      "8/8 [==============================] - 0s 7ms/step - loss: 0.4842 - mean_squared_error: 0.1600 - mean_absolute_error: 0.3273 - acc: 0.7658 - val_loss: 0.5299 - val_mean_squared_error: 0.1634 - val_mean_absolute_error: 0.3350 - val_acc: 0.8100\n",
      "Epoch 245/300\n",
      "8/8 [==============================] - 0s 9ms/step - loss: 0.4897 - mean_squared_error: 0.1622 - mean_absolute_error: 0.3300 - acc: 0.7683 - val_loss: 0.5307 - val_mean_squared_error: 0.1628 - val_mean_absolute_error: 0.3312 - val_acc: 0.8100\n",
      "Epoch 246/300\n",
      "8/8 [==============================] - 0s 6ms/step - loss: 0.4815 - mean_squared_error: 0.1589 - mean_absolute_error: 0.3252 - acc: 0.7717 - val_loss: 0.5329 - val_mean_squared_error: 0.1619 - val_mean_absolute_error: 0.3252 - val_acc: 0.8167\n",
      "Epoch 247/300\n",
      "8/8 [==============================] - 0s 8ms/step - loss: 0.4816 - mean_squared_error: 0.1594 - mean_absolute_error: 0.3172 - acc: 0.7675 - val_loss: 0.5357 - val_mean_squared_error: 0.1613 - val_mean_absolute_error: 0.3199 - val_acc: 0.8100\n",
      "Epoch 248/300\n",
      "8/8 [==============================] - 0s 9ms/step - loss: 0.4827 - mean_squared_error: 0.1591 - mean_absolute_error: 0.3087 - acc: 0.7742 - val_loss: 0.5366 - val_mean_squared_error: 0.1612 - val_mean_absolute_error: 0.3186 - val_acc: 0.8100\n",
      "Epoch 249/300\n",
      "8/8 [==============================] - 0s 7ms/step - loss: 0.4852 - mean_squared_error: 0.1609 - mean_absolute_error: 0.3096 - acc: 0.7692 - val_loss: 0.5349 - val_mean_squared_error: 0.1615 - val_mean_absolute_error: 0.3216 - val_acc: 0.8033\n",
      "Epoch 250/300\n",
      "8/8 [==============================] - 0s 6ms/step - loss: 0.4831 - mean_squared_error: 0.1598 - mean_absolute_error: 0.3156 - acc: 0.7642 - val_loss: 0.5329 - val_mean_squared_error: 0.1621 - val_mean_absolute_error: 0.3256 - val_acc: 0.8033\n",
      "Epoch 251/300\n",
      "8/8 [==============================] - 0s 9ms/step - loss: 0.4868 - mean_squared_error: 0.1613 - mean_absolute_error: 0.3173 - acc: 0.7692 - val_loss: 0.5310 - val_mean_squared_error: 0.1629 - val_mean_absolute_error: 0.3310 - val_acc: 0.8033\n",
      "Epoch 252/300\n",
      "8/8 [==============================] - 0s 10ms/step - loss: 0.5008 - mean_squared_error: 0.1664 - mean_absolute_error: 0.3325 - acc: 0.7642 - val_loss: 0.5296 - val_mean_squared_error: 0.1638 - val_mean_absolute_error: 0.3361 - val_acc: 0.8100\n",
      "Epoch 253/300\n",
      "8/8 [==============================] - 0s 9ms/step - loss: 0.4833 - mean_squared_error: 0.1600 - mean_absolute_error: 0.3242 - acc: 0.7683 - val_loss: 0.5291 - val_mean_squared_error: 0.1644 - val_mean_absolute_error: 0.3393 - val_acc: 0.8100\n",
      "Epoch 254/300\n",
      "8/8 [==============================] - 0s 8ms/step - loss: 0.4868 - mean_squared_error: 0.1609 - mean_absolute_error: 0.3275 - acc: 0.7750 - val_loss: 0.5289 - val_mean_squared_error: 0.1646 - val_mean_absolute_error: 0.3403 - val_acc: 0.8100\n",
      "Epoch 255/300\n",
      "8/8 [==============================] - 0s 7ms/step - loss: 0.4766 - mean_squared_error: 0.1574 - mean_absolute_error: 0.3289 - acc: 0.7692 - val_loss: 0.5293 - val_mean_squared_error: 0.1638 - val_mean_absolute_error: 0.3363 - val_acc: 0.8033\n",
      "Epoch 256/300\n",
      "8/8 [==============================] - 0s 7ms/step - loss: 0.4790 - mean_squared_error: 0.1582 - mean_absolute_error: 0.3268 - acc: 0.7733 - val_loss: 0.5310 - val_mean_squared_error: 0.1626 - val_mean_absolute_error: 0.3292 - val_acc: 0.8033\n",
      "Epoch 257/300\n",
      "8/8 [==============================] - 0s 7ms/step - loss: 0.4817 - mean_squared_error: 0.1595 - mean_absolute_error: 0.3252 - acc: 0.7742 - val_loss: 0.5348 - val_mean_squared_error: 0.1615 - val_mean_absolute_error: 0.3207 - val_acc: 0.8033\n"
     ]
    },
    {
     "name": "stdout",
     "output_type": "stream",
     "text": [
      "Epoch 258/300\n",
      "8/8 [==============================] - 0s 6ms/step - loss: 0.4767 - mean_squared_error: 0.1582 - mean_absolute_error: 0.3138 - acc: 0.7742 - val_loss: 0.5396 - val_mean_squared_error: 0.1608 - val_mean_absolute_error: 0.3135 - val_acc: 0.8033\n",
      "Epoch 259/300\n",
      "8/8 [==============================] - 0s 9ms/step - loss: 0.4923 - mean_squared_error: 0.1632 - mean_absolute_error: 0.3130 - acc: 0.7683 - val_loss: 0.5408 - val_mean_squared_error: 0.1606 - val_mean_absolute_error: 0.3117 - val_acc: 0.8033\n",
      "Epoch 260/300\n",
      "8/8 [==============================] - 0s 6ms/step - loss: 0.4826 - mean_squared_error: 0.1601 - mean_absolute_error: 0.3108 - acc: 0.7667 - val_loss: 0.5393 - val_mean_squared_error: 0.1606 - val_mean_absolute_error: 0.3129 - val_acc: 0.8033\n",
      "Epoch 261/300\n",
      "8/8 [==============================] - 0s 8ms/step - loss: 0.4852 - mean_squared_error: 0.1614 - mean_absolute_error: 0.3119 - acc: 0.7650 - val_loss: 0.5358 - val_mean_squared_error: 0.1609 - val_mean_absolute_error: 0.3173 - val_acc: 0.8033\n",
      "Epoch 262/300\n",
      "8/8 [==============================] - 0s 6ms/step - loss: 0.4719 - mean_squared_error: 0.1568 - mean_absolute_error: 0.3044 - acc: 0.7700 - val_loss: 0.5321 - val_mean_squared_error: 0.1615 - val_mean_absolute_error: 0.3237 - val_acc: 0.8033\n",
      "Epoch 263/300\n",
      "8/8 [==============================] - 0s 6ms/step - loss: 0.4852 - mean_squared_error: 0.1610 - mean_absolute_error: 0.3190 - acc: 0.7608 - val_loss: 0.5294 - val_mean_squared_error: 0.1624 - val_mean_absolute_error: 0.3303 - val_acc: 0.7967\n",
      "Epoch 264/300\n",
      "8/8 [==============================] - 0s 6ms/step - loss: 0.4816 - mean_squared_error: 0.1599 - mean_absolute_error: 0.3228 - acc: 0.7658 - val_loss: 0.5282 - val_mean_squared_error: 0.1632 - val_mean_absolute_error: 0.3352 - val_acc: 0.7967\n",
      "Epoch 265/300\n",
      "8/8 [==============================] - 0s 7ms/step - loss: 0.4911 - mean_squared_error: 0.1634 - mean_absolute_error: 0.3347 - acc: 0.7683 - val_loss: 0.5279 - val_mean_squared_error: 0.1636 - val_mean_absolute_error: 0.3371 - val_acc: 0.7967\n",
      "Epoch 266/300\n",
      "8/8 [==============================] - 0s 10ms/step - loss: 0.4854 - mean_squared_error: 0.1615 - mean_absolute_error: 0.3306 - acc: 0.7692 - val_loss: 0.5279 - val_mean_squared_error: 0.1634 - val_mean_absolute_error: 0.3363 - val_acc: 0.7967\n",
      "Epoch 267/300\n",
      "8/8 [==============================] - 0s 10ms/step - loss: 0.4854 - mean_squared_error: 0.1614 - mean_absolute_error: 0.3283 - acc: 0.7683 - val_loss: 0.5283 - val_mean_squared_error: 0.1629 - val_mean_absolute_error: 0.3336 - val_acc: 0.7967\n",
      "Epoch 268/300\n",
      "8/8 [==============================] - 0s 8ms/step - loss: 0.4823 - mean_squared_error: 0.1597 - mean_absolute_error: 0.3317 - acc: 0.7742 - val_loss: 0.5300 - val_mean_squared_error: 0.1618 - val_mean_absolute_error: 0.3274 - val_acc: 0.8033\n",
      "Epoch 269/300\n",
      "8/8 [==============================] - 0s 8ms/step - loss: 0.4786 - mean_squared_error: 0.1592 - mean_absolute_error: 0.3220 - acc: 0.7692 - val_loss: 0.5331 - val_mean_squared_error: 0.1608 - val_mean_absolute_error: 0.3203 - val_acc: 0.7967\n",
      "Epoch 270/300\n",
      "8/8 [==============================] - 0s 7ms/step - loss: 0.4804 - mean_squared_error: 0.1599 - mean_absolute_error: 0.3141 - acc: 0.7675 - val_loss: 0.5362 - val_mean_squared_error: 0.1603 - val_mean_absolute_error: 0.3154 - val_acc: 0.7967\n",
      "Epoch 271/300\n",
      "8/8 [==============================] - 0s 7ms/step - loss: 0.4724 - mean_squared_error: 0.1569 - mean_absolute_error: 0.3041 - acc: 0.7667 - val_loss: 0.5376 - val_mean_squared_error: 0.1601 - val_mean_absolute_error: 0.3136 - val_acc: 0.7967\n",
      "Epoch 272/300\n",
      "8/8 [==============================] - 0s 7ms/step - loss: 0.4853 - mean_squared_error: 0.1612 - mean_absolute_error: 0.3113 - acc: 0.7667 - val_loss: 0.5362 - val_mean_squared_error: 0.1603 - val_mean_absolute_error: 0.3156 - val_acc: 0.7967\n",
      "Epoch 273/300\n",
      "8/8 [==============================] - 0s 7ms/step - loss: 0.4891 - mean_squared_error: 0.1624 - mean_absolute_error: 0.3171 - acc: 0.7700 - val_loss: 0.5336 - val_mean_squared_error: 0.1608 - val_mean_absolute_error: 0.3200 - val_acc: 0.7967\n",
      "Epoch 274/300\n",
      "8/8 [==============================] - 0s 8ms/step - loss: 0.4766 - mean_squared_error: 0.1584 - mean_absolute_error: 0.3120 - acc: 0.7667 - val_loss: 0.5311 - val_mean_squared_error: 0.1614 - val_mean_absolute_error: 0.3252 - val_acc: 0.7967\n",
      "Epoch 275/300\n",
      "8/8 [==============================] - 0s 7ms/step - loss: 0.4737 - mean_squared_error: 0.1571 - mean_absolute_error: 0.3198 - acc: 0.7692 - val_loss: 0.5301 - val_mean_squared_error: 0.1618 - val_mean_absolute_error: 0.3277 - val_acc: 0.7967\n",
      "Epoch 276/300\n",
      "8/8 [==============================] - 0s 8ms/step - loss: 0.4861 - mean_squared_error: 0.1617 - mean_absolute_error: 0.3251 - acc: 0.7642 - val_loss: 0.5295 - val_mean_squared_error: 0.1621 - val_mean_absolute_error: 0.3297 - val_acc: 0.8033\n",
      "Epoch 277/300\n",
      "8/8 [==============================] - 0s 6ms/step - loss: 0.4810 - mean_squared_error: 0.1599 - mean_absolute_error: 0.3273 - acc: 0.7708 - val_loss: 0.5297 - val_mean_squared_error: 0.1621 - val_mean_absolute_error: 0.3292 - val_acc: 0.8033\n",
      "Epoch 278/300\n",
      "8/8 [==============================] - 0s 7ms/step - loss: 0.4801 - mean_squared_error: 0.1597 - mean_absolute_error: 0.3228 - acc: 0.7692 - val_loss: 0.5305 - val_mean_squared_error: 0.1618 - val_mean_absolute_error: 0.3276 - val_acc: 0.8033\n",
      "Epoch 279/300\n",
      "8/8 [==============================] - 0s 7ms/step - loss: 0.4783 - mean_squared_error: 0.1592 - mean_absolute_error: 0.3226 - acc: 0.7658 - val_loss: 0.5320 - val_mean_squared_error: 0.1614 - val_mean_absolute_error: 0.3245 - val_acc: 0.8033\n",
      "Epoch 280/300\n",
      "8/8 [==============================] - 0s 6ms/step - loss: 0.4879 - mean_squared_error: 0.1626 - mean_absolute_error: 0.3194 - acc: 0.7683 - val_loss: 0.5327 - val_mean_squared_error: 0.1614 - val_mean_absolute_error: 0.3236 - val_acc: 0.8033\n",
      "Epoch 281/300\n",
      "8/8 [==============================] - 0s 7ms/step - loss: 0.4871 - mean_squared_error: 0.1627 - mean_absolute_error: 0.3227 - acc: 0.7617 - val_loss: 0.5330 - val_mean_squared_error: 0.1614 - val_mean_absolute_error: 0.3236 - val_acc: 0.8033\n",
      "Epoch 282/300\n",
      "8/8 [==============================] - 0s 7ms/step - loss: 0.4754 - mean_squared_error: 0.1579 - mean_absolute_error: 0.3212 - acc: 0.7708 - val_loss: 0.5342 - val_mean_squared_error: 0.1612 - val_mean_absolute_error: 0.3217 - val_acc: 0.8033\n",
      "Epoch 283/300\n",
      "8/8 [==============================] - 0s 7ms/step - loss: 0.4977 - mean_squared_error: 0.1660 - mean_absolute_error: 0.3258 - acc: 0.7608 - val_loss: 0.5341 - val_mean_squared_error: 0.1613 - val_mean_absolute_error: 0.3223 - val_acc: 0.7967\n",
      "Epoch 284/300\n",
      "8/8 [==============================] - 0s 9ms/step - loss: 0.4808 - mean_squared_error: 0.1603 - mean_absolute_error: 0.3167 - acc: 0.7692 - val_loss: 0.5334 - val_mean_squared_error: 0.1615 - val_mean_absolute_error: 0.3239 - val_acc: 0.7967\n",
      "Epoch 285/300\n",
      "8/8 [==============================] - 0s 8ms/step - loss: 0.4853 - mean_squared_error: 0.1618 - mean_absolute_error: 0.3230 - acc: 0.7658 - val_loss: 0.5326 - val_mean_squared_error: 0.1618 - val_mean_absolute_error: 0.3255 - val_acc: 0.7967\n",
      "Epoch 286/300\n",
      "8/8 [==============================] - 0s 8ms/step - loss: 0.4857 - mean_squared_error: 0.1617 - mean_absolute_error: 0.3274 - acc: 0.7692 - val_loss: 0.5325 - val_mean_squared_error: 0.1618 - val_mean_absolute_error: 0.3257 - val_acc: 0.7967\n",
      "Epoch 287/300\n",
      "8/8 [==============================] - 0s 8ms/step - loss: 0.4851 - mean_squared_error: 0.1622 - mean_absolute_error: 0.3228 - acc: 0.7642 - val_loss: 0.5322 - val_mean_squared_error: 0.1618 - val_mean_absolute_error: 0.3262 - val_acc: 0.8033\n",
      "Epoch 288/300\n",
      "8/8 [==============================] - 0s 7ms/step - loss: 0.4711 - mean_squared_error: 0.1568 - mean_absolute_error: 0.3191 - acc: 0.7658 - val_loss: 0.5329 - val_mean_squared_error: 0.1616 - val_mean_absolute_error: 0.3244 - val_acc: 0.8033\n",
      "Epoch 289/300\n",
      "8/8 [==============================] - 0s 7ms/step - loss: 0.4865 - mean_squared_error: 0.1618 - mean_absolute_error: 0.3135 - acc: 0.7725 - val_loss: 0.5321 - val_mean_squared_error: 0.1618 - val_mean_absolute_error: 0.3262 - val_acc: 0.8033\n"
     ]
    },
    {
     "name": "stdout",
     "output_type": "stream",
     "text": [
      "Epoch 290/300\n",
      "8/8 [==============================] - 0s 6ms/step - loss: 0.4817 - mean_squared_error: 0.1607 - mean_absolute_error: 0.3201 - acc: 0.7700 - val_loss: 0.5315 - val_mean_squared_error: 0.1621 - val_mean_absolute_error: 0.3279 - val_acc: 0.8033\n",
      "Epoch 291/300\n",
      "8/8 [==============================] - 0s 6ms/step - loss: 0.4824 - mean_squared_error: 0.1605 - mean_absolute_error: 0.3240 - acc: 0.7717 - val_loss: 0.5313 - val_mean_squared_error: 0.1622 - val_mean_absolute_error: 0.3286 - val_acc: 0.8033\n",
      "Epoch 292/300\n",
      "8/8 [==============================] - 0s 8ms/step - loss: 0.4895 - mean_squared_error: 0.1633 - mean_absolute_error: 0.3260 - acc: 0.7658 - val_loss: 0.5311 - val_mean_squared_error: 0.1623 - val_mean_absolute_error: 0.3292 - val_acc: 0.8033\n",
      "Epoch 293/300\n",
      "8/8 [==============================] - 0s 7ms/step - loss: 0.4785 - mean_squared_error: 0.1594 - mean_absolute_error: 0.3286 - acc: 0.7625 - val_loss: 0.5322 - val_mean_squared_error: 0.1619 - val_mean_absolute_error: 0.3265 - val_acc: 0.8033\n",
      "Epoch 294/300\n",
      "8/8 [==============================] - 0s 6ms/step - loss: 0.4782 - mean_squared_error: 0.1594 - mean_absolute_error: 0.3231 - acc: 0.7675 - val_loss: 0.5342 - val_mean_squared_error: 0.1614 - val_mean_absolute_error: 0.3227 - val_acc: 0.8033\n",
      "Epoch 295/300\n",
      "8/8 [==============================] - 0s 7ms/step - loss: 0.4903 - mean_squared_error: 0.1635 - mean_absolute_error: 0.3208 - acc: 0.7625 - val_loss: 0.5349 - val_mean_squared_error: 0.1613 - val_mean_absolute_error: 0.3217 - val_acc: 0.8100\n",
      "Epoch 296/300\n",
      "8/8 [==============================] - 0s 7ms/step - loss: 0.4822 - mean_squared_error: 0.1610 - mean_absolute_error: 0.3161 - acc: 0.7642 - val_loss: 0.5344 - val_mean_squared_error: 0.1614 - val_mean_absolute_error: 0.3227 - val_acc: 0.8167\n",
      "Epoch 297/300\n",
      "8/8 [==============================] - 0s 7ms/step - loss: 0.4763 - mean_squared_error: 0.1587 - mean_absolute_error: 0.3157 - acc: 0.7717 - val_loss: 0.5338 - val_mean_squared_error: 0.1617 - val_mean_absolute_error: 0.3240 - val_acc: 0.8167\n",
      "Epoch 298/300\n",
      "8/8 [==============================] - 0s 6ms/step - loss: 0.4858 - mean_squared_error: 0.1624 - mean_absolute_error: 0.3249 - acc: 0.7600 - val_loss: 0.5335 - val_mean_squared_error: 0.1618 - val_mean_absolute_error: 0.3249 - val_acc: 0.8167\n",
      "Epoch 299/300\n",
      "8/8 [==============================] - 0s 7ms/step - loss: 0.4853 - mean_squared_error: 0.1617 - mean_absolute_error: 0.3228 - acc: 0.7683 - val_loss: 0.5330 - val_mean_squared_error: 0.1620 - val_mean_absolute_error: 0.3261 - val_acc: 0.8100\n",
      "Epoch 300/300\n",
      "8/8 [==============================] - 0s 7ms/step - loss: 0.4785 - mean_squared_error: 0.1593 - mean_absolute_error: 0.3176 - acc: 0.7683 - val_loss: 0.5324 - val_mean_squared_error: 0.1623 - val_mean_absolute_error: 0.3276 - val_acc: 0.8100\n"
     ]
    }
   ],
   "source": [
    "callbacks = []\n",
    "callbacks = [TensorBoard(log_dir=config.tmp_log_dir)]\n",
    "vs = 1/6\n",
    "m = 100\n",
    "# model.fit(x_train, y_train, epochs=epochs, batch_size=batch_size, callbacks=[TensorBoard(log_dir=config.tmp_log_dir)])\n",
    "history = model.fit(x_train[:m],x_train[:m], epochs=epochs, batch_size=batch_size,\n",
    "          validation_split=vs, callbacks=callbacks)"
   ]
  },
  {
   "cell_type": "code",
   "execution_count": 163,
   "metadata": {},
   "outputs": [
    {
     "data": {
      "text/plain": [
       "[<matplotlib.lines.Line2D at 0x1c8435278>]"
      ]
     },
     "execution_count": 163,
     "metadata": {},
     "output_type": "execute_result"
    },
    {
     "data": {
      "image/png": "[encoded data removed]",
      "text/plain": [
       "<matplotlib.figure.Figure at 0x1c8435f60>"
      ]
     },
     "metadata": {},
     "output_type": "display_data"
    }
   ],
   "source": [
    "plt.plot(history.history['loss'])\n",
    "plt.plot(history.history['val_loss'])"
   ]
  },
  {
   "cell_type": "code",
   "execution_count": 164,
   "metadata": {},
   "outputs": [
    {
     "data": {
      "text/plain": [
       "[<matplotlib.lines.Line2D at 0x1d1d0b390>]"
      ]
     },
     "execution_count": 164,
     "metadata": {},
     "output_type": "execute_result"
    },
    {
     "data": {
      "image/png": "[encoded data removed]",
      "text/plain": [
       "<matplotlib.figure.Figure at 0x1d1d0bba8>"
      ]
     },
     "metadata": {},
     "output_type": "display_data"
    }
   ],
   "source": [
    "plt.plot(history.history['acc'])\n",
    "plt.plot(history.history['val_acc'])"
   ]
  },
  {
   "cell_type": "code",
   "execution_count": null,
   "metadata": {},
   "outputs": [],
   "source": []
  },
  {
   "cell_type": "code",
   "execution_count": 158,
   "metadata": {},
   "outputs": [
    {
     "data": {
      "text/plain": [
       "[<matplotlib.lines.Line2D at 0x1c6d72da0>]"
      ]
     },
     "execution_count": 158,
     "metadata": {},
     "output_type": "execute_result"
    },
    {
     "data": {
      "image/png": "[encoded data removed]",
      "text/plain": [
       "<matplotlib.figure.Figure at 0x1c6f6aac8>"
      ]
     },
     "metadata": {},
     "output_type": "display_data"
    }
   ],
   "source": [
    "plt.plot(x_train[0,:100,:])"
   ]
  },
  {
   "cell_type": "code",
   "execution_count": 106,
   "metadata": {},
   "outputs": [
    {
     "ename": "NameError",
     "evalue": "name 'result' is not defined",
     "output_type": "error",
     "traceback": [
      "\u001b[0;31m---------------------------------------------------------------------------\u001b[0m",
      "\u001b[0;31mNameError\u001b[0m                                 Traceback (most recent call last)",
      "\u001b[0;32m<ipython-input-106-4a99d8abe300>\u001b[0m in \u001b[0;36m<module>\u001b[0;34m()\u001b[0m\n\u001b[0;32m----> 1\u001b[0;31m \u001b[0mresult\u001b[0m\u001b[0;34m.\u001b[0m\u001b[0mshape\u001b[0m\u001b[0;34m\u001b[0m\u001b[0m\n\u001b[0m",
      "\u001b[0;31mNameError\u001b[0m: name 'result' is not defined"
     ]
    }
   ],
   "source": [
    "result.shape"
   ]
  },
  {
   "cell_type": "code",
   "execution_count": null,
   "metadata": {},
   "outputs": [],
   "source": [
    "n1 = 30\n",
    "i = 0\n",
    "plt.subplot(211)\n",
    "plt.plot(np.arange(n1), results[i][:n1])\n",
    "plt.plot([0.5] * n1) # midi.MIDI_NOISE_FLOOR\n",
    "plt.ylim(ymin=0, ymax=1)\n",
    "plt.subplot(212)\n",
    "\n",
    "plt.plot(np.arange(n1), x_train[i, :n1])\n",
    "plt.plot([0.5] * n1) # midi.MIDI_NOISE_FLOOR\n",
    "plt.ylim(ymin=0, ymax=1)"
   ]
  },
  {
   "cell_type": "code",
   "execution_count": null,
   "metadata": {},
   "outputs": [],
   "source": []
  },
  {
   "cell_type": "code",
   "execution_count": null,
   "metadata": {},
   "outputs": [],
   "source": []
  },
  {
   "cell_type": "code",
   "execution_count": null,
   "metadata": {},
   "outputs": [],
   "source": []
  },
  {
   "cell_type": "code",
   "execution_count": 24,
   "metadata": {},
   "outputs": [
    {
     "name": "stdout",
     "output_type": "stream",
     "text": [
      "\u001b[91m [DEBUG] > \u001b[0m\n",
      " |>  decode_track - input was not MultiTrack.\n",
      " |>  Assuming MultiTrack\n",
      "\u001b[92m [INFO] : \u001b[0m\n",
      " |  len, max_t\n",
      " |  0\n",
      " |  3.0\n"
     ]
    }
   ],
   "source": [
    "mid = midi.decode_track(context, result)\n",
    "dn = config.dataset_dir\n",
    "# io.export_midifile(mid, dn + 'song_seq-seq.mid')"
   ]
  },
  {
   "cell_type": "code",
   "execution_count": 102,
   "metadata": {},
   "outputs": [
    {
     "data": {
      "text/plain": [
       "(500, 1)"
      ]
     },
     "execution_count": 102,
     "metadata": {},
     "output_type": "execute_result"
    }
   ],
   "source": [
    "results = []\n",
    "latent_samples = []\n",
    "for seq in x_test[-2:]:\n",
    "    encoded = encode_sequence(np.stack([seq]))\n",
    "    latent_samples.append(encoded)\n",
    "    result = decode_sequence(encoded, encoder_model, decoder_model)\n",
    "    results.append(result)\n",
    "results[0].shape"
   ]
  },
  {
   "cell_type": "code",
   "execution_count": 52,
   "metadata": {},
   "outputs": [
    {
     "data": {
      "text/plain": [
       "2"
      ]
     },
     "execution_count": 52,
     "metadata": {},
     "output_type": "execute_result"
    }
   ],
   "source": [
    "len(encoded)"
   ]
  },
  {
   "cell_type": "code",
   "execution_count": 100,
   "metadata": {},
   "outputs": [
    {
     "data": {
      "text/plain": [
       "(1, 64)"
      ]
     },
     "execution_count": 100,
     "metadata": {},
     "output_type": "execute_result"
    }
   ],
   "source": [
    "encoded[0].shape"
   ]
  },
  {
   "cell_type": "code",
   "execution_count": 62,
   "metadata": {},
   "outputs": [
    {
     "data": {
      "text/plain": [
       "[<matplotlib.lines.Line2D at 0x11d004908>]"
      ]
     },
     "execution_count": 62,
     "metadata": {},
     "output_type": "execute_result"
    },
    {
     "data": {
      "image/png": "[encoded data removed]",
      "text/plain": [
       "<matplotlib.figure.Figure at 0x11cea0128>"
      ]
     },
     "metadata": {},
     "output_type": "display_data"
    }
   ],
   "source": [
    "plt.plot(encoded[0][0,:10])\n",
    "plt.plot(encoded[1][0,:10])"
   ]
  },
  {
   "cell_type": "code",
   "execution_count": 196,
   "metadata": {},
   "outputs": [
    {
     "data": {
      "text/plain": [
       "(2, 2, 1, 64)"
      ]
     },
     "execution_count": 196,
     "metadata": {},
     "output_type": "execute_result"
    }
   ],
   "source": [
    "e = np.array(latent_samples)\n",
    "e.shape"
   ]
  },
  {
   "cell_type": "code",
   "execution_count": 197,
   "metadata": {},
   "outputs": [
    {
     "data": {
      "text/plain": [
       "(2, 2, 1, 64)"
      ]
     },
     "execution_count": 197,
     "metadata": {},
     "output_type": "execute_result"
    }
   ],
   "source": [
    "# reduce dimensionality\n",
    "# e = e.reshape(e.shape[0],2,e.shape[-1])\n",
    "e.shape"
   ]
  },
  {
   "cell_type": "code",
   "execution_count": 200,
   "metadata": {},
   "outputs": [
    {
     "data": {
      "text/plain": [
       "(1, 64)"
      ]
     },
     "execution_count": 200,
     "metadata": {},
     "output_type": "execute_result"
    }
   ],
   "source": [
    "e1.mean(axis=0).shape"
   ]
  },
  {
   "cell_type": "code",
   "execution_count": 201,
   "metadata": {},
   "outputs": [
    {
     "data": {
      "text/plain": [
       "2"
      ]
     },
     "execution_count": 201,
     "metadata": {},
     "output_type": "execute_result"
    },
    {
     "data": {
      "image/png": "[encoded data removed]",
      "text/plain": [
       "<matplotlib.figure.Figure at 0x11f8ecc88>"
      ]
     },
     "metadata": {},
     "output_type": "display_data"
    }
   ],
   "source": [
    "# new = e.transpose().mean(axis=1).transpose()\n",
    "e1 = e[:,0] # state h\n",
    "e2 = e[:,1] # state c\n",
    "new = [e1.mean(axis=0), e2.mean(axis=0)]\n",
    "# new = [[e[:,i].mean(axis=0)] for i in [0,1]]\n",
    "plt.plot(new[0][0][:10])\n",
    "len(new)"
   ]
  },
  {
   "cell_type": "code",
   "execution_count": 202,
   "metadata": {},
   "outputs": [
    {
     "data": {
      "text/plain": [
       "(1, 64)"
      ]
     },
     "execution_count": 202,
     "metadata": {},
     "output_type": "execute_result"
    }
   ],
   "source": [
    "e1.mean(axis=0).shape"
   ]
  },
  {
   "cell_type": "code",
   "execution_count": 203,
   "metadata": {},
   "outputs": [
    {
     "data": {
      "text/plain": [
       "(1, 64)"
      ]
     },
     "execution_count": 203,
     "metadata": {},
     "output_type": "execute_result"
    }
   ],
   "source": [
    "l[0].shape"
   ]
  },
  {
   "cell_type": "code",
   "execution_count": 204,
   "metadata": {},
   "outputs": [
    {
     "data": {
      "text/plain": [
       "2"
      ]
     },
     "execution_count": 204,
     "metadata": {},
     "output_type": "execute_result"
    }
   ],
   "source": [
    "l = latent_samples[0]\n",
    "len(l) # latent_sample :: (x,1,64)"
   ]
  },
  {
   "cell_type": "code",
   "execution_count": 207,
   "metadata": {},
   "outputs": [],
   "source": [
    "# new_ = decode_sequence(latent_samples[0], encoder_model, decoder_model)\n",
    "new_ = decode_sequence(new, encoder_model, decoder_model)"
   ]
  },
  {
   "cell_type": "code",
   "execution_count": 210,
   "metadata": {},
   "outputs": [
    {
     "data": {
      "text/plain": [
       "(500, 1)"
      ]
     },
     "execution_count": 210,
     "metadata": {},
     "output_type": "execute_result"
    }
   ],
   "source": [
    "new_.shape"
   ]
  },
  {
   "cell_type": "code",
   "execution_count": 226,
   "metadata": {},
   "outputs": [
    {
     "data": {
      "text/plain": [
       "[<matplotlib.lines.Line2D at 0x11d2b98d0>]"
      ]
     },
     "execution_count": 226,
     "metadata": {},
     "output_type": "execute_result"
    },
    {
     "data": {
      "image/png": "[encoded data removed]",
      "text/plain": [
       "<matplotlib.figure.Figure at 0x11cff5ac8>"
      ]
     },
     "metadata": {},
     "output_type": "display_data"
    }
   ],
   "source": [
    "plt.plot(new_[:100])"
   ]
  },
  {
   "cell_type": "code",
   "execution_count": 231,
   "metadata": {},
   "outputs": [
    {
     "data": {
      "text/plain": [
       "[<matplotlib.lines.Line2D at 0x107c5d390>]"
      ]
     },
     "execution_count": 231,
     "metadata": {},
     "output_type": "execute_result"
    },
    {
     "data": {
      "image/png": "[encoded data removed]",
      "text/plain": [
       "<matplotlib.figure.Figure at 0x11cc47978>"
      ]
     },
     "metadata": {},
     "output_type": "display_data"
    }
   ],
   "source": [
    "plt.plot(results[0][:100])"
   ]
  },
  {
   "cell_type": "code",
   "execution_count": 223,
   "metadata": {},
   "outputs": [],
   "source": [
    "# results[0]"
   ]
  },
  {
   "cell_type": "code",
   "execution_count": 224,
   "metadata": {},
   "outputs": [
    {
     "name": "stdout",
     "output_type": "stream",
     "text": [
      "\u001b[91m [DEBUG] > \u001b[0m\n",
      " |>  decode_track - input was not MultiTrack.\n",
      " |>  Assuming MultiTrack\n",
      "\u001b[92m [INFO] : \u001b[0m\n",
      " |  len, max_t\n",
      " |  0\n",
      " |  3.0\n"
     ]
    }
   ],
   "source": [
    "mid_new = midi.decode_track(context, results[0])\n",
    "io.export_midifile(mid_new, config.export_dir + 'real_mid_new_lstm.mid')"
   ]
  },
  {
   "cell_type": "code",
   "execution_count": null,
   "metadata": {},
   "outputs": [],
   "source": []
  },
  {
   "cell_type": "code",
   "execution_count": null,
   "metadata": {},
   "outputs": [],
   "source": []
  },
  {
   "cell_type": "code",
   "execution_count": null,
   "metadata": {},
   "outputs": [],
   "source": []
  },
  {
   "cell_type": "code",
   "execution_count": null,
   "metadata": {},
   "outputs": [],
   "source": []
  },
  {
   "cell_type": "code",
   "execution_count": null,
   "metadata": {},
   "outputs": [],
   "source": []
  },
  {
   "cell_type": "markdown",
   "metadata": {},
   "source": [
    "## Alt\n",
    "Without teacher forcing https://blog.keras.io/a-ten-minute-introduction-to-sequence-to-sequence-learning-in-keras.html\n",
    "\n",
    "\n",
    "<i>\"In some niche cases you may not be able to use teacher forcing, because you don't have access to the full target sequences, e.g. if you are doing online training on very long sequences, where buffering complete input-target pairs would be impossible. In that case, you may want to do training by reinjecting the decoder's predictions into the decoder's input, just like we were doing for inference.\n",
    "\n",
    "You can achieve this by building a model that hard-codes the output reinjection loop: \"</i>"
   ]
  },
  {
   "cell_type": "code",
   "execution_count": null,
   "metadata": {},
   "outputs": [],
   "source": [
    "from keras.layers import Lambda\n",
    "from keras import backend as K\n",
    "\n",
    "# The first part is unchanged\n",
    "encoder_inputs = Input(shape=(None, num_encoder_tokens))\n",
    "encoder = LSTM(latent_dim, return_state=True)\n",
    "_, state_h, state_c = encoder(encoder_inputs)\n",
    "states = [state_h, state_c]\n",
    "\n",
    "# Set up the decoder, which will only process one timestep at a time.\n",
    "decoder_inputs = Input(shape=(1, num_decoder_tokens))\n",
    "decoder_lstm = LSTM(latent_dim, return_sequences=True, return_state=True)\n",
    "# output will be a probability distribution over the vectors\n",
    "decoder_dense = Dense(num_decoder_tokens, activation='softmax')\n",
    "\n",
    "all_outputs = []\n",
    "inputs = decoder_inputs\n",
    "max_decoder_seq_length = 100\n",
    "for _ in range(max_decoder_seq_length):\n",
    "    # Run the decoder on one timestep\n",
    "    outputs, state_h, state_c = decoder_lstm(inputs,\n",
    "                                             initial_state=states)\n",
    "    outputs = decoder_dense(outputs)\n",
    "    # Store the current prediction (we will concatenate all predictions later)\n",
    "    all_outputs.append(outputs)\n",
    "    # Reinject the outputs as inputs for the next loop iteration\n",
    "    # as well as update the states\n",
    "    inputs = outputs\n",
    "    states = [state_h, state_c]\n",
    "\n",
    "# Concatenate all predictions\n",
    "decoder_outputs = Lambda(lambda x: K.concatenate(x, axis=1))(all_outputs)\n",
    "\n",
    "# Define and compile model as previously\n",
    "model = Model([encoder_inputs, decoder_inputs], decoder_outputs)\n",
    "model.summary()"
   ]
  },
  {
   "cell_type": "code",
   "execution_count": null,
   "metadata": {},
   "outputs": [],
   "source": [
    "model.compile(optimizer='rmsprop', loss='categorical_crossentropy')\n",
    "\n",
    "# Prepare decoder input data that just contains the start character\n",
    "# Note that we could have made it a constant hard-coded in the model\n",
    "decoder_input_data = np.zeros((x_train.shape[0], 1, num_decoder_tokens))\n",
    "\n",
    "# Train model as previously\n",
    "model.fit([x_train,y_train], z_train, epochs=10, batch_size=batch_size,\n",
    "          validation_split=0.2, callbacks=callbacks)"
   ]
  },
  {
   "cell_type": "code",
   "execution_count": null,
   "metadata": {},
   "outputs": [],
   "source": []
  },
  {
   "cell_type": "code",
   "execution_count": null,
   "metadata": {},
   "outputs": [],
   "source": []
  },
  {
   "cell_type": "code",
   "execution_count": null,
   "metadata": {},
   "outputs": [],
   "source": []
  },
  {
   "cell_type": "code",
   "execution_count": null,
   "metadata": {},
   "outputs": [],
   "source": []
  },
  {
   "cell_type": "code",
   "execution_count": null,
   "metadata": {},
   "outputs": [],
   "source": []
  },
  {
   "cell_type": "code",
   "execution_count": null,
   "metadata": {},
   "outputs": [],
   "source": []
  },
  {
   "cell_type": "code",
   "execution_count": null,
   "metadata": {},
   "outputs": [],
   "source": []
  },
  {
   "cell_type": "code",
   "execution_count": null,
   "metadata": {},
   "outputs": [],
   "source": []
  },
  {
   "cell_type": "code",
   "execution_count": null,
   "metadata": {},
   "outputs": [],
   "source": [
    "x_test.shape"
   ]
  },
  {
   "cell_type": "code",
   "execution_count": null,
   "metadata": {},
   "outputs": [],
   "source": [
    "# x_test, y_test = gen_xy_sin_to_f(3, f=2)"
   ]
  },
  {
   "cell_type": "code",
   "execution_count": null,
   "metadata": {
    "scrolled": true
   },
   "outputs": [],
   "source": [
    "results = model.predict([x_test,x_test])\n",
    "results.shape"
   ]
  },
  {
   "cell_type": "code",
   "execution_count": null,
   "metadata": {},
   "outputs": [],
   "source": [
    "# the 'true' results\n",
    "i = 0\n",
    "selection = int(x_test.shape[1] * 1)\n",
    "full = np.concatenate([x_test[i,-selection:],y_test[i]])\n",
    "n3 = full.shape[0]\n",
    "plt.plot(np.arange(n3) / n3 * dt, full)"
   ]
  },
  {
   "cell_type": "code",
   "execution_count": null,
   "metadata": {},
   "outputs": [],
   "source": [
    "# predicted results\n",
    "i = 0\n",
    "full = np.concatenate([x_test[i,-selection:],results[i]])\n",
    "n3 = full.shape[0]\n",
    "plt.plot(np.arange(n3) / n3 * dt, full)"
   ]
  },
  {
   "cell_type": "code",
   "execution_count": null,
   "metadata": {},
   "outputs": [],
   "source": [
    "i = 2\n",
    "selection = int(x_test.shape[1] * 1)\n",
    "full = np.concatenate([x_test[i,-selection:],results[i]])\n",
    "n3 = full.shape[0]\n",
    "plt.plot(np.arange(n3) / n3 * dt, full)"
   ]
  },
  {
   "cell_type": "code",
   "execution_count": null,
   "metadata": {},
   "outputs": [],
   "source": [
    "i = 0\n",
    "selection = 1\n",
    "full = np.concatenate([x_test[i,-selection:],results[i]])\n",
    "n3 = full.shape[0]\n",
    "plt.plot(np.arange(n3) / n3 * dt, full)"
   ]
  },
  {
   "cell_type": "code",
   "execution_count": null,
   "metadata": {},
   "outputs": [],
   "source": []
  },
  {
   "cell_type": "code",
   "execution_count": null,
   "metadata": {},
   "outputs": [],
   "source": []
  },
  {
   "cell_type": "code",
   "execution_count": null,
   "metadata": {},
   "outputs": [],
   "source": []
  },
  {
   "cell_type": "code",
   "execution_count": null,
   "metadata": {},
   "outputs": [],
   "source": []
  },
  {
   "cell_type": "code",
   "execution_count": null,
   "metadata": {},
   "outputs": [],
   "source": []
  },
  {
   "cell_type": "code",
   "execution_count": null,
   "metadata": {},
   "outputs": [],
   "source": []
  }
 ],
 "metadata": {
  "kernelspec": {
   "display_name": "Python 3",
   "language": "python",
   "name": "python3"
  },
  "language_info": {
   "codemirror_mode": {
    "name": "ipython",
    "version": 3
   },
   "file_extension": ".py",
   "mimetype": "text/x-python",
   "name": "python",
   "nbconvert_exporter": "python",
   "pygments_lexer": "ipython3",
   "version": "3.6.4"
  }
 },
 "nbformat": 4,
 "nbformat_minor": 2
}
