{
 "cells": [
  {
   "cell_type": "code",
   "execution_count": 1,
   "metadata": {},
   "outputs": [],
   "source": [
    "import config\n",
    "import os, numpy as np, pandas, sklearn\n",
    "import mido\n",
    "import matplotlib.pyplot as plt\n",
    "%matplotlib inline"
   ]
  },
  {
   "cell_type": "code",
   "execution_count": 2,
   "metadata": {},
   "outputs": [
    {
     "name": "stderr",
     "output_type": "stream",
     "text": [
      "/Library/Frameworks/Python.framework/Versions/3.6/lib/python3.6/site-packages/h5py/__init__.py:36: FutureWarning: Conversion of the second argument of issubdtype from `float` to `np.floating` is deprecated. In future, it will be treated as `np.float64 == np.dtype(float).type`.\n",
      "  from ._conv import register_converters as _register_converters\n",
      "Using TensorFlow backend.\n"
     ]
    }
   ],
   "source": [
    "## NN libs\n",
    "from sklearn.decomposition import PCA\n",
    "from sklearn import preprocessing\n",
    "from sklearn.preprocessing import RobustScaler\n",
    "import keras\n",
    "from keras import regularizers\n",
    "from keras.utils import to_categorical\n",
    "from keras.models import Sequential\n",
    "from keras.optimizers import SGD, Adam\n",
    "from keras.layers import Input, Dense, Activation, Conv1D, Conv2D, Dropout, Flatten\n",
    "from keras.layers import Conv2DTranspose, Reshape, MaxPooling2D, UpSampling2D, UpSampling1D, MaxPooling1D\n",
    "from keras.layers import LocallyConnected1D, LocallyConnected2D\n",
    "from keras.layers import Input, LSTM, RepeatVector\n",
    "from keras.models import Model\n",
    "from keras.callbacks import TensorBoard"
   ]
  },
  {
   "cell_type": "code",
   "execution_count": 3,
   "metadata": {},
   "outputs": [
    {
     "name": "stdout",
     "output_type": "stream",
     "text": [
      " Context :: namedtuple(\n",
      "[ max_t = float\n",
      ", dt = float\n",
      ", n_instances = int\n",
      ", note_length = int\n",
      ", bpm = float\n",
      ", tempo = float\n",
      ", ticks_per_beat = int\n",
      "]\n",
      "\n"
     ]
    }
   ],
   "source": [
    "# local libs\n",
    "import config, models, functions\n",
    "from data import data, midi, midi_generators as g\n",
    "from utils import io, models_io"
   ]
  },
  {
   "cell_type": "code",
   "execution_count": 4,
   "metadata": {
    "scrolled": true
   },
   "outputs": [
    {
     "name": "stdout",
     "output_type": "stream",
     "text": [
      "Setting up params\n",
      "\n",
      "max min f 25.0 0.1\n",
      " >> Context(max_t=10.0, dt=0.02, n_instances=500, note_length=0.03, bpm=120.0, tempo=500000, ticks_per_beat=480)\n"
     ]
    }
   ],
   "source": [
    "context = data.init()"
   ]
  },
  {
   "cell_type": "code",
   "execution_count": 5,
   "metadata": {},
   "outputs": [],
   "source": [
    "# fn = (config.dataset_dir + '4-floor-120bpm.mid')\n",
    "# mid = io.import_midifile(fn)"
   ]
  },
  {
   "cell_type": "markdown",
   "metadata": {},
   "source": [
    "## Setup a generator\n",
    "\n",
    "1. What is the least amount of 'hidden' nodes needed to learn a straight rythm (e.g. 8th notes with different frequencies)\n",
    "2. Can we create a model of a generic function sin(2 pi f t + phase)\n",
    "    - using x: t -> y: sin(2p t)\n",
    "    - using x: [f, t, phase] -> y: sin(2p f t + phase)\n",
    "    - using x: sin([t1, t2, t3) -> y: [f, t, phase]\n",
    "        - such a model should be able to learn complex patterns, such as sin(f1+p1) + sin(f2+p2) + sin(f3+p3)"
   ]
  },
  {
   "cell_type": "code",
   "execution_count": 32,
   "metadata": {
    "scrolled": true
   },
   "outputs": [
    {
     "name": "stdout",
     "output_type": "stream",
     "text": [
      "\u001b[91m [DEBUG] > \u001b[0m\n",
      " |>  min_f < max_f\n",
      "WARNING type not == 0\n",
      "WARNING type not == 0\n",
      "WARNING type not == 0\n"
     ]
    }
   ],
   "source": [
    "n = 3\n",
    "x_train = g.gen_data(context, n)\n",
    "# x_train = np.zeros([10,100,127])\n",
    "y_train = x_train"
   ]
  },
  {
   "cell_type": "code",
   "execution_count": 33,
   "metadata": {},
   "outputs": [
    {
     "data": {
      "text/plain": [
       "(3, 500, 4)"
      ]
     },
     "execution_count": 33,
     "metadata": {},
     "output_type": "execute_result"
    }
   ],
   "source": [
    "# [sum(x) for x in x_train]\n",
    "x_train.shape"
   ]
  },
  {
   "cell_type": "code",
   "execution_count": 34,
   "metadata": {},
   "outputs": [
    {
     "data": {
      "text/plain": [
       "(3, 500, 4)"
      ]
     },
     "execution_count": 34,
     "metadata": {},
     "output_type": "execute_result"
    }
   ],
   "source": [
    "y_train = x_train\n",
    "n_samples = x_train[0]\n",
    "input_shape = x_train.shape[1:] # shape of a single sample\n",
    "output_shape = y_train.shape[1:]\n",
    "# output_length = y_train.shape[1]\n",
    "# output_length = (y_train[0]).shape[0] # = length of an individual label\n",
    "hidden_layer_length = 1000\n",
    "x_train.shape"
   ]
  },
  {
   "cell_type": "code",
   "execution_count": 35,
   "metadata": {},
   "outputs": [
    {
     "name": "stdout",
     "output_type": "stream",
     "text": [
      "_________________________________________________________________\n",
      "Layer (type)                 Output Shape              Param #   \n",
      "=================================================================\n",
      "input_18 (InputLayer)        (None, 500, 4)            0         \n",
      "_________________________________________________________________\n",
      "max_pooling1d_6 (MaxPooling1 (None, 250, 4)            0         \n",
      "=================================================================\n",
      "Total params: 0\n",
      "Trainable params: 0\n",
      "Non-trainable params: 0\n",
      "_________________________________________________________________\n"
     ]
    }
   ],
   "source": [
    "def resolution_reducer(input_shape, amt=2):\n",
    "    input_layer = Input(shape=input_shape)\n",
    "    x = input_layer\n",
    "    x = MaxPooling1D(pool_size=amt, strides=amt)(x)\n",
    "    model = Model(inputs=input_layer, outputs=x)\n",
    "    return model\n",
    "\n",
    "reducer = resolution_reducer(input_shape,2)\n",
    "reducer.summary()\n",
    "# reducer.compile('adam',loss='mse')"
   ]
  },
  {
   "cell_type": "code",
   "execution_count": 36,
   "metadata": {},
   "outputs": [
    {
     "data": {
      "text/plain": [
       "(None, 250, 4)"
      ]
     },
     "execution_count": 36,
     "metadata": {},
     "output_type": "execute_result"
    }
   ],
   "source": [
    "reducer.output_shape"
   ]
  },
  {
   "cell_type": "code",
   "execution_count": 100,
   "metadata": {
    "scrolled": false
   },
   "outputs": [
    {
     "name": "stdout",
     "output_type": "stream",
     "text": [
      "_________________________________________________________________\n",
      "Layer (type)                 Output Shape              Param #   \n",
      "=================================================================\n",
      "input_51 (InputLayer)        (None, 500, 4)            0         \n",
      "_________________________________________________________________\n",
      "flatten_13 (Flatten)         (None, 2000)              0         \n",
      "_________________________________________________________________\n",
      "dense_31 (Dense)             (None, 1000)              2001000   \n",
      "=================================================================\n",
      "Total params: 2,001,000\n",
      "Trainable params: 2,001,000\n",
      "Non-trainable params: 0\n",
      "_________________________________________________________________\n",
      "_________________________________________________________________\n",
      "Layer (type)                 Output Shape              Param #   \n",
      "=================================================================\n",
      "input_52 (InputLayer)        (None, 1000)              0         \n",
      "_________________________________________________________________\n",
      "dense_32 (Dense)             (None, 2000)              2002000   \n",
      "_________________________________________________________________\n",
      "reshape_13 (Reshape)         (None, 500, 4)            0         \n",
      "=================================================================\n",
      "Total params: 2,002,000\n",
      "Trainable params: 2,002,000\n",
      "Non-trainable params: 0\n",
      "_________________________________________________________________\n"
     ]
    }
   ],
   "source": [
    "# functional syntax: lambda x: lambda y: z\n",
    "def encoder(input_shape, output_length, dropout=0.10):\n",
    "    input_layer = Input(shape=input_shape)\n",
    "    x = input_layer\n",
    "    x = Flatten()(x)\n",
    "#     x = Dense(output_length * 2, activation='relu')(x)    \n",
    "#     x = Dropout(dropout)(x)\n",
    "#     x = Dense(output_length * 2, activation='relu')(x)\n",
    "    x = Dense(output_length, activation='relu')(x)\n",
    "#     x = Dense(output_length, activation='relu', activity_regularizer=regularizers.l1(10e-5))(x)\n",
    "    #     model.add(Dropout(dropout))    \n",
    "    model = Model(inputs=input_layer, outputs=x)\n",
    "    return model\n",
    "\n",
    "\n",
    "def decoder(input_length, output_shape, dropout=0.10):\n",
    "    input_layer = Input(shape=(input_length,))\n",
    "    x = input_layer\n",
    "    shape = output_shape\n",
    "    # shape = (10,100) # increase n dimensions\n",
    "    x = Dense(np.prod(shape), activation='relu')(x) # 4*4*8 = 128\n",
    "    x = Reshape(shape)(x)\n",
    "#     x = UpSampling1D(10)(x)\n",
    "    # make sure the conv layer increases the amount of dimensions\n",
    "#     dims = keras.backend.int_shape(x)[1:]\n",
    "#     n_steps = output_shape[0]\n",
    "#     n_output_timesteps = output_shape[1]\n",
    "#     filters = n_output_timesteps\n",
    "#     conv_amt = 2\n",
    "#     print('__+++==', n_output_timesteps)\n",
    "#     x = Conv1D(filters, kernel_size=4, strides=2, activation='relu')(x) # 50,100\n",
    "\n",
    "    dims = keras.backend.int_shape(x)[1:]\n",
    "#     x = UpSampling1D(dims[0] * 2)(x)\n",
    "#     x = Dense(output_shape[1], activation='relu')(x)\n",
    "    #     x = LocallyConnected1D(output_shape[1], kernel_size=1, activation='relu')(x)\n",
    "    # x = Dense(output_length, activation='softmax')(x)\n",
    "    model = Model(inputs=input_layer, outputs=x)\n",
    "    #     model.add(Dropout(dropout))\n",
    "    return model\n",
    "\n",
    "\n",
    "def autoencoder(input_shape, output_shape, hidden_layer_length=10, dropout=0.10, verbose=False):\n",
    "    input_ = Input(shape=input_shape)\n",
    "#     reducer = resolution_reducer(input_shape,1)\n",
    "#     if verbose:\n",
    "#         reducer.summary()\n",
    "#     input_shape = reducer.output_shape[1:]\n",
    "    encode = encoder(input_shape, hidden_layer_length, dropout)\n",
    "    if verbose:\n",
    "        encode.summary()\n",
    "    decode = decoder(hidden_layer_length, output_shape, dropout)\n",
    "    if verbose:\n",
    "        decode.summary()\n",
    "    model = Model(input_, decode(encode(input_)))\n",
    "    return encode, decode, reducer, model\n",
    "\n",
    "dropout = 0.1\n",
    "encoder, decoder, reducer, auto = autoencoder(input_shape, output_shape, hidden_layer_length, dropout, True)"
   ]
  },
  {
   "cell_type": "code",
   "execution_count": 101,
   "metadata": {},
   "outputs": [],
   "source": [
    "metrics = ['accuracy','mse','mae']\n",
    "loss = 'binary_crossentropy'# binary_crossentropy categorical_crossentropy\n",
    "optimizer = 'adadelta'\n",
    "auto.compile(optimizer=optimizer, loss=loss, metrics=metrics)"
   ]
  },
  {
   "cell_type": "code",
   "execution_count": 102,
   "metadata": {},
   "outputs": [],
   "source": [
    "batch_size = 1\n",
    "# n epochs = n iterations over all the training data\n",
    "epochs = 50"
   ]
  },
  {
   "cell_type": "code",
   "execution_count": 103,
   "metadata": {
    "scrolled": true
   },
   "outputs": [
    {
     "name": "stdout",
     "output_type": "stream",
     "text": [
      "Epoch 1/50\n",
      "3/3 [==============================] - 0s 128ms/step - loss: 2.4461 - acc: 0.7223 - mean_squared_error: 0.2373 - mean_absolute_error: 0.3091\n",
      "Epoch 2/50\n",
      "3/3 [==============================] - 0s 99ms/step - loss: 2.1195 - acc: 0.7583 - mean_squared_error: 0.2249 - mean_absolute_error: 0.2785\n",
      "Epoch 3/50\n",
      "3/3 [==============================] - 0s 101ms/step - loss: 1.8069 - acc: 0.8205 - mean_squared_error: 0.1867 - mean_absolute_error: 0.2250\n",
      "Epoch 4/50\n",
      "3/3 [==============================] - 0s 101ms/step - loss: 1.6382 - acc: 0.8508 - mean_squared_error: 0.1687 - mean_absolute_error: 0.1960\n",
      "Epoch 5/50\n",
      "3/3 [==============================] - 0s 102ms/step - loss: 1.5701 - acc: 0.8627 - mean_squared_error: 0.1596 - mean_absolute_error: 0.1787\n",
      "Epoch 6/50\n",
      "3/3 [==============================] - 0s 108ms/step - loss: 1.5140 - acc: 0.8738 - mean_squared_error: 0.1515 - mean_absolute_error: 0.1630\n",
      "Epoch 7/50\n",
      "3/3 [==============================] - 0s 123ms/step - loss: 1.4865 - acc: 0.8757 - mean_squared_error: 0.1513 - mean_absolute_error: 0.1605\n",
      "Epoch 8/50\n",
      "3/3 [==============================] - 0s 106ms/step - loss: 1.4748 - acc: 0.8793 - mean_squared_error: 0.1486 - mean_absolute_error: 0.1544\n",
      "Epoch 9/50\n",
      "3/3 [==============================] - 0s 101ms/step - loss: 1.4652 - acc: 0.8805 - mean_squared_error: 0.1477 - mean_absolute_error: 0.1508\n",
      "Epoch 10/50\n",
      "3/3 [==============================] - 0s 101ms/step - loss: 1.4582 - acc: 0.8802 - mean_squared_error: 0.1480 - mean_absolute_error: 0.1546\n",
      "Epoch 11/50\n",
      "3/3 [==============================] - 0s 104ms/step - loss: 1.4504 - acc: 0.8807 - mean_squared_error: 0.1474 - mean_absolute_error: 0.1516\n",
      "Epoch 12/50\n",
      "3/3 [==============================] - 0s 106ms/step - loss: 1.4372 - acc: 0.8828 - mean_squared_error: 0.1457 - mean_absolute_error: 0.1503\n",
      "Epoch 13/50\n",
      "3/3 [==============================] - 0s 103ms/step - loss: 1.4304 - acc: 0.8848 - mean_squared_error: 0.1449 - mean_absolute_error: 0.1475\n",
      "Epoch 14/50\n",
      "3/3 [==============================] - 0s 101ms/step - loss: 1.4285 - acc: 0.8848 - mean_squared_error: 0.1448 - mean_absolute_error: 0.1460\n",
      "Epoch 15/50\n",
      "3/3 [==============================] - 0s 100ms/step - loss: 1.4273 - acc: 0.8850 - mean_squared_error: 0.1450 - mean_absolute_error: 0.1454\n",
      "Epoch 16/50\n",
      "3/3 [==============================] - 0s 100ms/step - loss: 1.4243 - acc: 0.8848 - mean_squared_error: 0.1452 - mean_absolute_error: 0.1452\n",
      "Epoch 17/50\n",
      "3/3 [==============================] - 0s 108ms/step - loss: 1.4232 - acc: 0.8857 - mean_squared_error: 0.1453 - mean_absolute_error: 0.1449\n",
      "Epoch 18/50\n",
      "3/3 [==============================] - 0s 97ms/step - loss: 1.4224 - acc: 0.8848 - mean_squared_error: 0.1459 - mean_absolute_error: 0.1454\n",
      "Epoch 19/50\n",
      "3/3 [==============================] - 0s 98ms/step - loss: 1.4220 - acc: 0.8853 - mean_squared_error: 0.1461 - mean_absolute_error: 0.1453\n",
      "Epoch 20/50\n",
      "3/3 [==============================] - 0s 98ms/step - loss: 1.4217 - acc: 0.8857 - mean_squared_error: 0.1462 - mean_absolute_error: 0.1451\n",
      "Epoch 21/50\n",
      "3/3 [==============================] - 0s 100ms/step - loss: 1.4214 - acc: 0.8853 - mean_squared_error: 0.1464 - mean_absolute_error: 0.1451\n",
      "Epoch 22/50\n",
      "3/3 [==============================] - 0s 99ms/step - loss: 1.4212 - acc: 0.8855 - mean_squared_error: 0.1463 - mean_absolute_error: 0.1450\n",
      "Epoch 23/50\n",
      "3/3 [==============================] - 0s 99ms/step - loss: 1.4210 - acc: 0.8855 - mean_squared_error: 0.1464 - mean_absolute_error: 0.1449\n",
      "Epoch 24/50\n",
      "3/3 [==============================] - 0s 105ms/step - loss: 1.4208 - acc: 0.8855 - mean_squared_error: 0.1466 - mean_absolute_error: 0.1448\n",
      "Epoch 25/50\n",
      "3/3 [==============================] - 0s 100ms/step - loss: 1.4206 - acc: 0.8857 - mean_squared_error: 0.1466 - mean_absolute_error: 0.1448\n",
      "Epoch 26/50\n",
      "3/3 [==============================] - 0s 96ms/step - loss: 1.4205 - acc: 0.8853 - mean_squared_error: 0.1468 - mean_absolute_error: 0.1447\n",
      "Epoch 27/50\n",
      "3/3 [==============================] - 0s 97ms/step - loss: 1.4203 - acc: 0.8853 - mean_squared_error: 0.1468 - mean_absolute_error: 0.1447\n",
      "Epoch 28/50\n",
      "3/3 [==============================] - 0s 98ms/step - loss: 1.4202 - acc: 0.8858 - mean_squared_error: 0.1469 - mean_absolute_error: 0.1447\n",
      "Epoch 29/50\n",
      "3/3 [==============================] - 0s 97ms/step - loss: 1.4201 - acc: 0.8857 - mean_squared_error: 0.1469 - mean_absolute_error: 0.1446\n",
      "Epoch 30/50\n",
      "3/3 [==============================] - 0s 102ms/step - loss: 1.4201 - acc: 0.8855 - mean_squared_error: 0.1469 - mean_absolute_error: 0.1446\n",
      "Epoch 31/50\n",
      "3/3 [==============================] - 0s 99ms/step - loss: 1.4200 - acc: 0.8855 - mean_squared_error: 0.1471 - mean_absolute_error: 0.1446\n",
      "Epoch 32/50\n",
      "3/3 [==============================] - 0s 98ms/step - loss: 1.4199 - acc: 0.8855 - mean_squared_error: 0.1471 - mean_absolute_error: 0.1446\n",
      "Epoch 33/50\n",
      "3/3 [==============================] - 0s 97ms/step - loss: 1.4199 - acc: 0.8852 - mean_squared_error: 0.1473 - mean_absolute_error: 0.1447\n",
      "Epoch 34/50\n",
      "3/3 [==============================] - 0s 98ms/step - loss: 1.4199 - acc: 0.8853 - mean_squared_error: 0.1473 - mean_absolute_error: 0.1448\n",
      "Epoch 35/50\n",
      "3/3 [==============================] - 0s 97ms/step - loss: 1.4198 - acc: 0.8855 - mean_squared_error: 0.1474 - mean_absolute_error: 0.1448\n",
      "Epoch 36/50\n",
      "3/3 [==============================] - 0s 97ms/step - loss: 1.4198 - acc: 0.8853 - mean_squared_error: 0.1474 - mean_absolute_error: 0.1448\n",
      "Epoch 37/50\n",
      "3/3 [==============================] - 0s 96ms/step - loss: 1.4198 - acc: 0.8853 - mean_squared_error: 0.1474 - mean_absolute_error: 0.1448\n",
      "Epoch 38/50\n",
      "3/3 [==============================] - 0s 97ms/step - loss: 1.4197 - acc: 0.8853 - mean_squared_error: 0.1474 - mean_absolute_error: 0.1448\n",
      "Epoch 39/50\n",
      "3/3 [==============================] - 0s 98ms/step - loss: 1.4197 - acc: 0.8853 - mean_squared_error: 0.1474 - mean_absolute_error: 0.1448\n",
      "Epoch 40/50\n",
      "3/3 [==============================] - 0s 98ms/step - loss: 1.4197 - acc: 0.8850 - mean_squared_error: 0.1474 - mean_absolute_error: 0.1448\n",
      "Epoch 41/50\n",
      "3/3 [==============================] - 0s 98ms/step - loss: 1.4197 - acc: 0.8850 - mean_squared_error: 0.1474 - mean_absolute_error: 0.1448\n",
      "Epoch 42/50\n",
      "3/3 [==============================] - 0s 98ms/step - loss: 1.4197 - acc: 0.8850 - mean_squared_error: 0.1474 - mean_absolute_error: 0.1448\n",
      "Epoch 43/50\n",
      "3/3 [==============================] - 0s 96ms/step - loss: 1.4197 - acc: 0.8850 - mean_squared_error: 0.1474 - mean_absolute_error: 0.1448\n",
      "Epoch 44/50\n",
      "3/3 [==============================] - 0s 99ms/step - loss: 1.4197 - acc: 0.8850 - mean_squared_error: 0.1474 - mean_absolute_error: 0.1448\n",
      "Epoch 45/50\n",
      "3/3 [==============================] - 0s 97ms/step - loss: 1.4197 - acc: 0.8850 - mean_squared_error: 0.1474 - mean_absolute_error: 0.1448\n",
      "Epoch 46/50\n",
      "3/3 [==============================] - 0s 96ms/step - loss: 1.4197 - acc: 0.8850 - mean_squared_error: 0.1474 - mean_absolute_error: 0.1448\n",
      "Epoch 47/50\n",
      "3/3 [==============================] - 0s 100ms/step - loss: 1.4197 - acc: 0.8850 - mean_squared_error: 0.1474 - mean_absolute_error: 0.1448\n",
      "Epoch 48/50\n",
      "3/3 [==============================] - 0s 107ms/step - loss: 1.4197 - acc: 0.8850 - mean_squared_error: 0.1474 - mean_absolute_error: 0.1448\n",
      "Epoch 49/50\n",
      "3/3 [==============================] - 0s 110ms/step - loss: 1.4197 - acc: 0.8850 - mean_squared_error: 0.1474 - mean_absolute_error: 0.1448\n",
      "Epoch 50/50\n",
      "3/3 [==============================] - 0s 98ms/step - loss: 1.4197 - acc: 0.8850 - mean_squared_error: 0.1474 - mean_absolute_error: 0.1448\n"
     ]
    }
   ],
   "source": [
    "history = auto.fit(x_train, y_train, epochs=epochs, batch_size=batch_size, callbacks=[TensorBoard(log_dir=config.tmp_log_dir)])\n",
    "# model.fit(x_train, y_train, epochs=epochs, batch_size=batch_size,\n",
    "#           validation_split=1/6, callbacks=[TensorBoard(log_dir=config.tmp_log_dir)])"
   ]
  },
  {
   "cell_type": "code",
   "execution_count": 104,
   "metadata": {},
   "outputs": [
    {
     "data": {
      "text/plain": [
       "[<matplotlib.lines.Line2D at 0x151a54630>]"
      ]
     },
     "execution_count": 104,
     "metadata": {},
     "output_type": "execute_result"
    },
    {
     "data": {
      "image/png": "[encoded data removed]",
      "text/plain": [
       "<matplotlib.figure.Figure at 0x151a8f470>"
      ]
     },
     "metadata": {},
     "output_type": "display_data"
    }
   ],
   "source": [
    "plt.plot(history.history['loss'])\n",
    "# plt.plot(history.history['val_loss'])"
   ]
  },
  {
   "cell_type": "code",
   "execution_count": 95,
   "metadata": {},
   "outputs": [
    {
     "name": "stdout",
     "output_type": "stream",
     "text": [
      "WARNING type not == 0\n",
      "WARNING type not == 0\n"
     ]
    }
   ],
   "source": [
    "mid1 = g.render_midi(context, f=2)\n",
    "mid2 = g.render_midi(context, f=3)\n",
    "x_test = np.stack([midi.encode(context, m) for m in [mid1,mid2]])"
   ]
  },
  {
   "cell_type": "code",
   "execution_count": 96,
   "metadata": {
    "scrolled": true
   },
   "outputs": [
    {
     "data": {
      "text/plain": [
       "(2, 1000)"
      ]
     },
     "execution_count": 96,
     "metadata": {},
     "output_type": "execute_result"
    }
   ],
   "source": [
    "latent = encoder.predict(x_test)\n",
    "latent.shape"
   ]
  },
  {
   "cell_type": "code",
   "execution_count": 85,
   "metadata": {},
   "outputs": [
    {
     "data": {
      "text/plain": [
       "(2, 1000)"
      ]
     },
     "execution_count": 85,
     "metadata": {},
     "output_type": "execute_result"
    }
   ],
   "source": [
    "latent.shape"
   ]
  },
  {
   "cell_type": "code",
   "execution_count": 86,
   "metadata": {},
   "outputs": [
    {
     "data": {
      "text/plain": [
       "(1000,)"
      ]
     },
     "execution_count": 86,
     "metadata": {},
     "output_type": "execute_result"
    }
   ],
   "source": [
    "maxx = np.maximum(latent[0],latent[1])\n",
    "maxx.shape"
   ]
  },
  {
   "cell_type": "code",
   "execution_count": 87,
   "metadata": {},
   "outputs": [
    {
     "data": {
      "text/plain": [
       "(1000,)"
      ]
     },
     "execution_count": 87,
     "metadata": {},
     "output_type": "execute_result"
    }
   ],
   "source": [
    "latent[0].shape"
   ]
  },
  {
   "cell_type": "code",
   "execution_count": 105,
   "metadata": {},
   "outputs": [
    {
     "data": {
      "text/plain": [
       "(1, 500, 4)"
      ]
     },
     "execution_count": 105,
     "metadata": {},
     "output_type": "execute_result"
    }
   ],
   "source": [
    "# arrays = decoder.predict(np.stack([latent[1]]))\n",
    "arrays = auto.predict(x_train[:1])\n",
    "arrays.shape"
   ]
  },
  {
   "cell_type": "code",
   "execution_count": 106,
   "metadata": {},
   "outputs": [
    {
     "name": "stdout",
     "output_type": "stream",
     "text": [
      "\u001b[92m [INFO] : \u001b[0m\n",
      " |  len, max_t\n",
      " |  9.78020833333333\n",
      " |  10.0\n"
     ]
    }
   ],
   "source": [
    "mid = midi.decode_track(context, arrays[0])"
   ]
  },
  {
   "cell_type": "code",
   "execution_count": 107,
   "metadata": {},
   "outputs": [],
   "source": [
    "dn = config.export_dir\n",
    "io.export_midifile(mid1, dn + 'mid1.mid')\n",
    "# io.export_midifile(mid2, dn + 'mid2.mid')\n",
    "io.export_midifile(mid, dn + 'mid_generated.mid')"
   ]
  },
  {
   "cell_type": "code",
   "execution_count": 91,
   "metadata": {},
   "outputs": [
    {
     "data": {
      "text/plain": [
       "<midi file None type 1, 1 tracks, 1688 messages>"
      ]
     },
     "execution_count": 91,
     "metadata": {},
     "output_type": "execute_result"
    }
   ],
   "source": [
    "mid"
   ]
  },
  {
   "cell_type": "code",
   "execution_count": 92,
   "metadata": {},
   "outputs": [
    {
     "data": {
      "text/plain": [
       "<midi file None type 1, 1 tracks, 1688 messages>"
      ]
     },
     "execution_count": 92,
     "metadata": {},
     "output_type": "execute_result"
    }
   ],
   "source": [
    "mid"
   ]
  },
  {
   "cell_type": "code",
   "execution_count": null,
   "metadata": {},
   "outputs": [],
   "source": []
  },
  {
   "cell_type": "code",
   "execution_count": null,
   "metadata": {},
   "outputs": [],
   "source": []
  },
  {
   "cell_type": "code",
   "execution_count": null,
   "metadata": {},
   "outputs": [],
   "source": []
  },
  {
   "cell_type": "code",
   "execution_count": null,
   "metadata": {},
   "outputs": [],
   "source": []
  },
  {
   "cell_type": "code",
   "execution_count": null,
   "metadata": {},
   "outputs": [],
   "source": []
  },
  {
   "cell_type": "code",
   "execution_count": null,
   "metadata": {},
   "outputs": [],
   "source": []
  }
 ],
 "metadata": {
  "kernelspec": {
   "display_name": "Python 3",
   "language": "python",
   "name": "python3"
  },
  "language_info": {
   "codemirror_mode": {
    "name": "ipython",
    "version": 3
   },
   "file_extension": ".py",
   "mimetype": "text/x-python",
   "name": "python",
   "nbconvert_exporter": "python",
   "pygments_lexer": "ipython3",
   "version": "3.6.4"
  }
 },
 "nbformat": 4,
 "nbformat_minor": 2
}
