{
 "cells": [
  {
   "cell_type": "code",
   "execution_count": 1,
   "metadata": {},
   "outputs": [
    {
     "name": "stderr",
     "output_type": "stream",
     "text": [
      "/usr/local/lib/python3.6/site-packages/h5py/__init__.py:36: FutureWarning: Conversion of the second argument of issubdtype from `float` to `np.floating` is deprecated. In future, it will be treated as `np.float64 == np.dtype(float).type`.\n",
      "  from ._conv import register_converters as _register_converters\n",
      "Using TensorFlow backend.\n"
     ]
    }
   ],
   "source": [
    "from __future__ import division\n",
    "\n",
    "import collections\n",
    "import numpy as np\n",
    "import matplotlib.pyplot as plt\n",
    "from scipy.stats import norm\n",
    "\n",
    "## NN libs\n",
    "import keras\n",
    "from keras import backend as K\n",
    "from keras import regularizers\n",
    "from keras.utils import to_categorical\n",
    "from keras.optimizers import SGD, Adam\n",
    "from keras.layers import *\n",
    "from keras.preprocessing.image import ImageDataGenerator\n",
    "from keras.models import Model\n",
    "from keras.callbacks import TensorBoard"
   ]
  },
  {
   "cell_type": "code",
   "execution_count": 2,
   "metadata": {},
   "outputs": [],
   "source": [
    "import config\n",
    "import os, numpy as np, pandas, sklearn, scipy.signal as signal\n",
    "import mido\n",
    "import matplotlib.pyplot as plt\n",
    "%matplotlib inline"
   ]
  },
  {
   "cell_type": "code",
   "execution_count": 3,
   "metadata": {},
   "outputs": [],
   "source": [
    "# local libs\n",
    "import config, models, setup\n",
    "import midi\n",
    "from midi import generators as g\n",
    "from utils import io, models_io, utils, plot\n",
    "from capsule.layers import Capsule, Length\n",
    "from capsule.capsulefunctions import squash, softmax, margin_loss"
   ]
  },
  {
   "cell_type": "code",
   "execution_count": 4,
   "metadata": {},
   "outputs": [
    {
     "name": "stdout",
     "output_type": "stream",
     "text": [
      " Context :: namedtuple(\n",
      "[ max_t = float\n",
      ", dt = float\n",
      ", n_timestesp = int\n",
      ", note_length = int\n",
      ", bpm = float\n",
      ", tempo = float\n",
      ", ticks_per_beat = int\n",
      "]\n",
      "\n",
      "Setting up params\n",
      "\n",
      "max min f 10.0 0.5\n",
      " >> Context(max_t=2.0, dt=0.05, n_timesteps=40, note_length=0.03, bpm=120.0, tempo=500000, ticks_per_beat=480)\n",
      " sample length:  40.000000\n",
      " max_f: 10.000000, min_f: 0.500000\n"
     ]
    }
   ],
   "source": [
    "context = setup.init()"
   ]
  },
  {
   "cell_type": "code",
   "execution_count": 5,
   "metadata": {
    "scrolled": true
   },
   "outputs": [
    {
     "name": "stdout",
     "output_type": "stream",
     "text": [
      "\n",
      "Importing midi-data\n",
      "\n",
      "Encoding midi-data\n",
      " 500\n",
      "> -> multi-track = True MidiFile\n",
      "\u001b[92m [INFO] : \u001b[0m\n",
      " |  True\n"
     ]
    }
   ],
   "source": [
    "n = 500 * 1\n",
    "dim4 = True\n",
    "multiTrack = True\n",
    "reduce_dims = midi.ReduceDimsOptions.MIDIFILE # GLOBAL\n",
    "dn = 'drum_midi/'\n",
    "x_train, labels = setup.import_data(context, n, dim4=dim4, reduce_dims=reduce_dims, dirname=dn, multiTrack=multiTrack, r=True)"
   ]
  },
  {
   "cell_type": "code",
   "execution_count": 6,
   "metadata": {},
   "outputs": [],
   "source": [
    "# n = 1000\n",
    "# min_f = 0\n",
    "# max_f = 3\n",
    "# x_train, params = g.gen_data_complex(context, n, max_f=max_f, min_f=min_f,\n",
    "#     n_polyrythms=1,\n",
    "#     n_channels=3,\n",
    "#     d_phase=True,\n",
    "#     return_params=True,\n",
    "#     dim4=dim4,\n",
    "#     multiTrack=multiTrack)"
   ]
  },
  {
   "cell_type": "code",
   "execution_count": 7,
   "metadata": {},
   "outputs": [
    {
     "data": {
      "text/plain": [
       "(500, 40, 9, 1)"
      ]
     },
     "execution_count": 7,
     "metadata": {},
     "output_type": "execute_result"
    }
   ],
   "source": [
    "x_train.shape"
   ]
  },
  {
   "cell_type": "code",
   "execution_count": 8,
   "metadata": {},
   "outputs": [
    {
     "data": {
      "text/plain": [
       "((500, 40, 9, 1), 450)"
      ]
     },
     "execution_count": 8,
     "metadata": {},
     "output_type": "execute_result"
    }
   ],
   "source": [
    "m = int(x_train.shape[0] * 0.9)\n",
    "x_train.shape, m"
   ]
  },
  {
   "cell_type": "code",
   "execution_count": 9,
   "metadata": {},
   "outputs": [],
   "source": [
    "x_test = x_train[m:]\n",
    "x_train = x_train[:m]"
   ]
  },
  {
   "cell_type": "code",
   "execution_count": 10,
   "metadata": {},
   "outputs": [
    {
     "name": "stdout",
     "output_type": "stream",
     "text": [
      "m (40, 9)\n"
     ]
    },
    {
     "data": {
      "image/png": "[encoded data removed]",
      "text/plain": [
       "<matplotlib.figure.Figure at 0x11f38b048>"
      ]
     },
     "metadata": {},
     "output_type": "display_data"
    },
    {
     "name": "stdout",
     "output_type": "stream",
     "text": [
      "m (40, 9)\n"
     ]
    },
    {
     "data": {
      "image/png": "[encoded data removed]",
      "text/plain": [
       "<matplotlib.figure.Figure at 0x11e38f668>"
      ]
     },
     "metadata": {},
     "output_type": "display_data"
    },
    {
     "data": {
      "text/plain": [
       "['../datasets/drum_midi//Cha cha/cha cha 1.mid',\n",
       " '../datasets/drum_midi//Cha cha/cha cha 2.mid',\n",
       " '../datasets/drum_midi//Cha cha/cha cha 3.mid',\n",
       " \"../datasets/drum_midi//50´s Drummer MIDI Files/01 Rock'n'Roll/06 Moonglow 140BPM/05 8th Hat.mid\"]"
      ]
     },
     "execution_count": 10,
     "metadata": {},
     "output_type": "execute_result"
    }
   ],
   "source": [
    "plot.single(x_train[0, :50,:,0])\n",
    "plot.single(x_train[1, :50,:,0])\n",
    "# plot.single(x_train[2, :50,:,0])\n",
    "labels[0:4]"
   ]
  },
  {
   "cell_type": "code",
   "execution_count": 64,
   "metadata": {},
   "outputs": [
    {
     "data": {
      "text/plain": [
       "(40, 9, 1)"
      ]
     },
     "execution_count": 64,
     "metadata": {},
     "output_type": "execute_result"
    }
   ],
   "source": [
    "input_shape = x_train[0].shape\n",
    "timesteps = input_shape[0]\n",
    "notes = input_shape[1]\n",
    "input_shape"
   ]
  },
  {
   "cell_type": "code",
   "execution_count": 152,
   "metadata": {},
   "outputs": [],
   "source": [
    "latent_dim = 20\n",
    "intermediate_dim = 128\n",
    "epsilon_std = 1.0"
   ]
  },
  {
   "cell_type": "code",
   "execution_count": 153,
   "metadata": {},
   "outputs": [],
   "source": [
    "def encoder(input_shape, dropout=0.1):\n",
    "    encoder_input = Input(shape=input_shape)\n",
    "    nodes = np.prod(input_shape)\n",
    "    timesteps, notes, channels = input_shape\n",
    "    \n",
    "    # Convolution\n",
    "    h = encoder_input\n",
    "    k = (2,1)\n",
    "    s = (2,1)\n",
    "    \n",
    "    h = Conv2D(32, kernel_size=k, strides=1, activation='relu', padding='valid')(h)\n",
    "    h = Conv2D(64, kernel_size=k, strides=s, activation='relu', padding='valid')(h)\n",
    "    h = Conv2D(128, kernel_size=k, strides=s, activation='relu', padding='valid')(h)\n",
    "    \n",
    "    # input per note\n",
    "    note_list = Permute([2,1,3], name='input_per_note')(h)\n",
    "    \n",
    "    rnn = SimpleRNN(128, name='rnn_per_note')\n",
    "    reshape = Reshape((128,1))\n",
    "\n",
    "    n_capsules = 10\n",
    "    capsule_dim = 6\n",
    "    n_routings=3\n",
    "    share_weights=True\n",
    "    capsule = Capsule(n_capsules, capsule_dim, n_routings, share_weights)\n",
    "\n",
    "    x = Lambda(lambda layer: capsule(reshape(rnn(layer))) )\n",
    "    h_per_note = TimeDistributed(x, name='TimeDistributed_per_note')(note_list)\n",
    "    shape = K.int_shape(h_per_note)[1:]\n",
    "    h_per_note = Reshape( [notes, np.prod(shape[1:3])] )(h_per_note)\n",
    "    h_per_note = Flatten()(h_per_note)\n",
    "\n",
    "    # 'global' input\n",
    "    h = encoder_input\n",
    "    h = Reshape(input_shape[:-1])(h)\n",
    "    h = Conv1D(32, kernel_size=2, strides=1, activation='relu', padding='valid')(h)\n",
    "    h = Conv1D(64, kernel_size=2, strides=2, activation='relu', padding='valid')(h)\n",
    "    h = Conv1D(128, kernel_size=2, strides=1, activation='relu', padding='valid')(h)\n",
    "    # old layers\n",
    "#     h = Conv2D(1, kernel_size=k, strides=1, activation='relu', padding='valid')(h)\n",
    "#     shape = K.int_shape(h)[1:]\n",
    "#     h = Reshape(shape[0:2])(h) # (reduced_timesteps, notes)\n",
    "#     h = Conv1D(32, kernel_size=2, strides=1, activation='relu', padding='valid')(h)\n",
    "    h = SimpleRNN(128)(h)\n",
    "#     h = LSTM(256)(h)\n",
    "#     h = Bidirectional(LSTM(256)(h))\n",
    "    h_global = h\n",
    "    \n",
    "    h = Reshape((-1,1))(h_global) # h_global h_per_note\n",
    "#     h = Concatenate(axis=1)([h_global, h_per_note])\n",
    "\n",
    "#     h = Reshape((-1,1))(h)\n",
    "    \n",
    "    n_capsules = 10\n",
    "    capsule_dim = 6\n",
    "    n_routings=3\n",
    "    share_weights=True\n",
    "    h = Capsule(n_capsules, capsule_dim, n_routings, share_weights)(h)   \n",
    "    h = Flatten()(h)\n",
    "    \n",
    "    # Z Mean, Variance\n",
    "    z_mean = Dense(latent_dim, name='z_mean')(h) # , activation='relu'\n",
    "    z_log_var = Dense(latent_dim, name='z_log_var')(h) # , activation='relu'\n",
    "        \n",
    "    encoder_output = [z_mean, z_log_var]\n",
    "    encoder_model = Model(encoder_input, encoder_output, name='encoder_model-')\n",
    "    print('Extra params:', [k.count_params() for k in [rnn, reshape, capsule]])\n",
    "\n",
    "    return encoder_model, encoder_input, z_mean, z_log_var"
   ]
  },
  {
   "cell_type": "code",
   "execution_count": 154,
   "metadata": {
    "scrolled": false
   },
   "outputs": [
    {
     "name": "stdout",
     "output_type": "stream",
     "text": [
      "shared weights, shape = (1, 1, 60) 60\n",
      "shared weights, shape = (1, 1, 60) 60\n",
      "Extra params: [32896, 0, 60]\n",
      "__________________________________________________________________________________________________\n",
      "Layer (type)                    Output Shape         Param #     Connected to                     \n",
      "==================================================================================================\n",
      "input_8 (InputLayer)            (None, 40, 9, 1)     0                                            \n",
      "__________________________________________________________________________________________________\n",
      "reshape_49 (Reshape)            (None, 40, 9)        0           input_8[0][0]                    \n",
      "__________________________________________________________________________________________________\n",
      "conv1d_16 (Conv1D)              (None, 39, 32)       608         reshape_49[0][0]                 \n",
      "__________________________________________________________________________________________________\n",
      "conv1d_17 (Conv1D)              (None, 19, 64)       4160        conv1d_16[0][0]                  \n",
      "__________________________________________________________________________________________________\n",
      "conv1d_18 (Conv1D)              (None, 18, 128)      16512       conv1d_17[0][0]                  \n",
      "__________________________________________________________________________________________________\n",
      "simple_rnn_6 (SimpleRNN)        (None, 128)          32896       conv1d_18[0][0]                  \n",
      "__________________________________________________________________________________________________\n",
      "reshape_50 (Reshape)            (None, 128, 1)       0           simple_rnn_6[0][0]               \n",
      "__________________________________________________________________________________________________\n",
      "capsule_12 (Capsule)            (None, 10, 6)        60          reshape_50[0][0]                 \n",
      "__________________________________________________________________________________________________\n",
      "flatten_12 (Flatten)            (None, 60)           0           capsule_12[0][0]                 \n",
      "__________________________________________________________________________________________________\n",
      "z_mean (Dense)                  (None, 20)           1220        flatten_12[0][0]                 \n",
      "__________________________________________________________________________________________________\n",
      "z_log_var (Dense)               (None, 20)           1220        flatten_12[0][0]                 \n",
      "==================================================================================================\n",
      "Total params: 56,676\n",
      "Trainable params: 56,676\n",
      "Non-trainable params: 0\n",
      "__________________________________________________________________________________________________\n"
     ]
    }
   ],
   "source": [
    "encoder_model, encoder_input, z_mean, z_log_var = encoder(input_shape)\n",
    "encoder_model.summary()"
   ]
  },
  {
   "cell_type": "code",
   "execution_count": 155,
   "metadata": {},
   "outputs": [],
   "source": [
    "sample_ = lambda args: models.sample(args, z_mean, z_log_var, latent_dim, epsilon_std)"
   ]
  },
  {
   "cell_type": "code",
   "execution_count": 156,
   "metadata": {},
   "outputs": [],
   "source": [
    "# z = Lambda(sampling)([z_mean, z_log_var])\n",
    "z_input = encoder_model(encoder_input)\n",
    "z_output = Lambda(sample_)(z_input)\n",
    "# z_output = Lambda(sampl_, output_shape=(latent_dim,))(encoder_input)"
   ]
  },
  {
   "cell_type": "code",
   "execution_count": 157,
   "metadata": {},
   "outputs": [],
   "source": [
    "def list_decoders(output_shape):\n",
    "    # decoder_input = z_output\n",
    "    # h = decoder_input\n",
    "    # :output_shape = (timesteps, channels, channels) || (batches, filters, timesteps, channels)\n",
    "    # keras offers just Conv2DTranspose and not Conv1DTranspose\n",
    "    # - use 2D images during upsampling :: (timesteps, notes, channels) => (timesteps, notes, filters)\n",
    "    # - use 1D images to optimize reconstruction :: (timesteps, filters) => (timesteps, notes)\n",
    "    \n",
    "    # image_data_format = 'channels_last'\n",
    "    # goal shape: (timesteps, notes, channels)\n",
    "    # start with the 'reverse': lots of small imgs => few large img\n",
    "    \n",
    "    timesteps, notes, channels = output_shape\n",
    "    filters = 64\n",
    "    output_shape = (14, 14, filters)\n",
    "    output_shape = (timesteps, notes, 1)\n",
    "    \n",
    "    # keras.examples.variational_autoencoder_deconv.py\n",
    "    decoders = []\n",
    "    decoders += [ Dense(128, activation='relu') ]\n",
    "    # add a bypass layer\n",
    "    w = 256\n",
    "    decoders += [ Dense(w, activation='relu') ]\n",
    "    extra_decoders = []\n",
    "    for _ in range(5):\n",
    "        extra_decoders += [ Dense(w, activation='relu', bias_initializer='zeros') ]\n",
    "\n",
    "    extra_ = Lambda(lambda layer: utils.composition(extra_decoders, layer))\n",
    "    decoders += [ Lambda(lambda layer: Add()([layer, extra_(layer)])) ]\n",
    "    \n",
    "    decoders += [ BatchNormalization(momentum=0.1) ]\n",
    "\n",
    "    # Shared conv layer\n",
    "    dim1, dim2, filters = int(timesteps/2), notes*2, 16\n",
    "    print('dim1: %i dim2: %i filters: %i' % (dim1, dim2, filters))\n",
    "    decoders += [ Dense(dim1*dim2, activation='relu') ]\n",
    "    \n",
    "    decoders += [ BatchNormalization(momentum=0.1) ]\n",
    "    \n",
    "    decoders += [ Reshape((dim1,dim2,1,1)) ]\n",
    "    conv = Conv2DTranspose(filters, kernel_size=(2,1), activation='relu', padding='same')\n",
    "    decoders += [ TimeDistributed(conv) ]\n",
    "    decoders += [ Reshape((dim1, dim2, filters)) ]\n",
    "    decoders += [ Reshape((dim1, dim2*filters)) ]\n",
    "    \n",
    "    decoders += [ LSTM(dim2*filters, return_sequences=True) ]\n",
    "    # shape = (dim1, dim2*filters) = (16, 256)\n",
    "    \n",
    "    decoders += [ Reshape((dim1, dim2, filters))]\n",
    "    decoders += [ Conv2DTranspose(filters, kernel_size=(2,1), strides=(2,1), activation='relu', padding='valid') ]  \n",
    "    \n",
    "    decoders += [ BatchNormalization() ]\n",
    "\n",
    "    \n",
    "#     decoders += [ Reshape((-1, 1))]\n",
    "    filters = 1\n",
    "    decoders += [ Conv2D(filters, kernel_size=(2,1), strides=(1,2), activation='sigmoid', padding='same') ]\n",
    "\n",
    "    # Denoising layer\n",
    "    # TODO Bidirectional\n",
    "    decoders += [ Reshape((timesteps, notes*filters)) ]\n",
    "    decoders += [ LSTM(notes, return_sequences=True, activation='sigmoid') ]\n",
    "\n",
    "    decoders += [ Reshape(output_shape) ]\n",
    "\n",
    "#     decoders += [ (lambda layer: dense(layer)) ]\n",
    "    # activation: LeakyReLU(0.2)\n",
    "#     decoders += [ RepeatVector(timesteps) ]\n",
    "\n",
    "#     w = 256\n",
    "#     dense1 = Dense(w, activation='relu')\n",
    "#     dense2 = Dense(w, activation='relu')\n",
    "#     dense3 = Dense(w, activation='relu')\n",
    "#     seq = RepeatVector(timesteps)\n",
    "#     lstm = LSTM(w, return_sequences=True)\n",
    "#     rnn = Lambda(lambda layer:\n",
    "#                   lstm(seq(dense3(layer)), initial_state=[dense1(layer), dense2(layer)])\n",
    "#                  )\n",
    "#     decoders += [ rnn ]\n",
    "#     decoders += [ TimeDistributed(Dense(notes, activation='sigmoid')) ]\n",
    "    \n",
    "#     decoders += [ LSTM(notes, return_sequences='True') ]\n",
    "#     decoders += [ Dense(512, activation='relu') ]\n",
    "#     decoders += [ Dense(np.prod(output_shape), activation='relu') ]\n",
    "#     decoders += [ BatchNormalization() ]\n",
    "\n",
    "#     decoders += [ TimeDistributed(Bidirectional(LSTM(32))) ]\n",
    "#     decoders += [ Flatten() ]\n",
    "#     decoders += [ Dense(np.prod(output_shape), activation='relu') ]\n",
    "\n",
    "#     decoders += [ Reshape(output_shape) ]\n",
    "\n",
    "    # TimeDistributed: apply the same layer to every timestep\n",
    "    # LSTM: 'remember' previous timesteps\n",
    "    # Bidirectional: 'remember' previous and next timesteps\n",
    "#     decoders += [ TimeDistributed(Bidirectional(LSTM(32, return_sequences=True))) ]\n",
    "\n",
    "#     decoders += [ Flatten()]\n",
    "#     decoders += [ Dense(np.prod(output_shape), activation='sigmoid')]\n",
    "#     decoders += [ Reshape(output_shape)]\n",
    "    return decoders"
   ]
  },
  {
   "cell_type": "code",
   "execution_count": 158,
   "metadata": {},
   "outputs": [
    {
     "name": "stdout",
     "output_type": "stream",
     "text": [
      "dim1: 20 dim2: 18 filters: 16\n"
     ]
    }
   ],
   "source": [
    "decoders = list_decoders(input_shape)"
   ]
  },
  {
   "cell_type": "code",
   "execution_count": 159,
   "metadata": {},
   "outputs": [],
   "source": [
    "decoded = utils.composition(decoders, z_output, verbose=False)"
   ]
  },
  {
   "cell_type": "code",
   "execution_count": 160,
   "metadata": {},
   "outputs": [
    {
     "name": "stdout",
     "output_type": "stream",
     "text": [
      "__________________________________________________________________________________________________\n",
      "Layer (type)                    Output Shape         Param #     Connected to                     \n",
      "==================================================================================================\n",
      "input_8 (InputLayer)            (None, 40, 9, 1)     0                                            \n",
      "__________________________________________________________________________________________________\n",
      "encoder_model- (Model)          [(None, 20), (None,  56676       input_8[0][0]                    \n",
      "__________________________________________________________________________________________________\n",
      "lambda_25 (Lambda)              (None, 20)           0           encoder_model-[1][0]             \n",
      "                                                                 encoder_model-[1][1]             \n",
      "__________________________________________________________________________________________________\n",
      "dense_49 (Dense)                (None, 128)          2688        lambda_25[0][0]                  \n",
      "__________________________________________________________________________________________________\n",
      "dense_50 (Dense)                (None, 256)          33024       dense_49[0][0]                   \n",
      "__________________________________________________________________________________________________\n",
      "lambda_27 (Lambda)              (None, 256)          0           dense_50[0][0]                   \n",
      "__________________________________________________________________________________________________\n",
      "batch_normalization_11 (BatchNo (None, 256)          1024        lambda_27[0][0]                  \n",
      "__________________________________________________________________________________________________\n",
      "dense_56 (Dense)                (None, 360)          92520       batch_normalization_11[0][0]     \n",
      "__________________________________________________________________________________________________\n",
      "batch_normalization_12 (BatchNo (None, 360)          1440        dense_56[0][0]                   \n",
      "__________________________________________________________________________________________________\n",
      "reshape_51 (Reshape)            (None, 20, 18, 1, 1) 0           batch_normalization_12[0][0]     \n",
      "__________________________________________________________________________________________________\n",
      "time_distributed_7 (TimeDistrib (None, 20, 18, 1, 16 48          reshape_51[0][0]                 \n",
      "__________________________________________________________________________________________________\n",
      "reshape_52 (Reshape)            (None, 20, 18, 16)   0           time_distributed_7[0][0]         \n",
      "__________________________________________________________________________________________________\n",
      "reshape_53 (Reshape)            (None, 20, 288)      0           reshape_52[0][0]                 \n",
      "__________________________________________________________________________________________________\n",
      "lstm_9 (LSTM)                   (None, 20, 288)      664704      reshape_53[0][0]                 \n",
      "__________________________________________________________________________________________________\n",
      "reshape_54 (Reshape)            (None, 20, 18, 16)   0           lstm_9[0][0]                     \n",
      "__________________________________________________________________________________________________\n",
      "conv2d_transpose_14 (Conv2DTran (None, 40, 18, 16)   528         reshape_54[0][0]                 \n",
      "__________________________________________________________________________________________________\n",
      "batch_normalization_13 (BatchNo (None, 40, 18, 16)   64          conv2d_transpose_14[0][0]        \n",
      "__________________________________________________________________________________________________\n",
      "conv2d_25 (Conv2D)              (None, 40, 9, 1)     33          batch_normalization_13[0][0]     \n",
      "__________________________________________________________________________________________________\n",
      "reshape_55 (Reshape)            (None, 40, 9)        0           conv2d_25[0][0]                  \n",
      "__________________________________________________________________________________________________\n",
      "lstm_10 (LSTM)                  (None, 40, 9)        684         reshape_55[0][0]                 \n",
      "__________________________________________________________________________________________________\n",
      "reshape_56 (Reshape)            (None, 40, 9, 1)     0           lstm_10[0][0]                    \n",
      "==================================================================================================\n",
      "Total params: 853,433\n",
      "Trainable params: 852,169\n",
      "Non-trainable params: 1,264\n",
      "__________________________________________________________________________________________________\n"
     ]
    }
   ],
   "source": [
    "# instantiate VAE model\n",
    "vae_input = encoder_input\n",
    "vae_output = decoded\n",
    "vae = Model(vae_input, vae_output)\n",
    "vae.summary()"
   ]
  },
  {
   "cell_type": "code",
   "execution_count": 161,
   "metadata": {
    "scrolled": true
   },
   "outputs": [
    {
     "name": "stderr",
     "output_type": "stream",
     "text": [
      "/usr/local/lib/python3.6/site-packages/ipykernel_launcher.py:14: UserWarning: Output \"reshape_56\" missing from loss dictionary. We assume this was done on purpose, and we will not be expecting any data to be passed to \"reshape_56\" during training.\n",
      "  \n"
     ]
    }
   ],
   "source": [
    "# Compute VAE loss\n",
    "def vae_loss(beta=1.):\n",
    "#     beta = ((1.0 - tf.pow(hparams.beta_rate, tf.to_float(self.global_step)))\n",
    "#             * hparams.max_beta)\n",
    "#     self.loss = tf.reduce_mean(r_loss) + beta * tf.reduce_mean(kl_cost)\n",
    "    # y_true, y_pred, z_mean, z_log_var, timesteps=150, notes=3, beta=1.\n",
    "    xent_loss = timesteps * notes * keras.metrics.binary_crossentropy(K.flatten(vae_input), K.flatten(vae_output))\n",
    "    kl_loss = - 0.5 * K.sum(1 + z_log_var - K.square(z_mean) - K.exp(z_log_var), axis=-1)\n",
    "    vae_loss = K.mean(xent_loss + beta * kl_loss)\n",
    "    return vae_loss\n",
    "\n",
    "vae_loss = vae_loss(beta=1)\n",
    "vae.add_loss(vae_loss)\n",
    "vae.compile(optimizer='adam')\n",
    "# vae.compile(optimizer=optimizer, loss=loss, metrics=metrics)"
   ]
  },
  {
   "cell_type": "code",
   "execution_count": 162,
   "metadata": {},
   "outputs": [],
   "source": [
    "batch_size = 100\n",
    "epochs = 25\n",
    "params = {'batch_size': batch_size, 'return_y': False}"
   ]
  },
  {
   "cell_type": "code",
   "execution_count": 163,
   "metadata": {},
   "outputs": [],
   "source": [
    "phase_mod = 0.01\n",
    "whitening = False"
   ]
  },
  {
   "cell_type": "code",
   "execution_count": 189,
   "metadata": {
    "scrolled": true
   },
   "outputs": [
    {
     "name": "stdout",
     "output_type": "stream",
     "text": [
      "x: (2500, 40, 9, 1)\n",
      "batch_size = 100\n",
      "\n",
      "[Epoch 0/25] >>>>>>>>>\n",
      " Batch 0/4\n",
      " \\_val_loss [79.0]\n",
      " \\_loss [56.0]\n",
      " Batch 1/4\n",
      " \\_val_loss [79.0]\n",
      " \\_loss [55.0]\n",
      " Batch 2/4\n",
      " \\_val_loss [81.0]\n",
      " \\_loss [56.0]\n",
      " Batch 3/4\n",
      " \\_val_loss [81.0]\n",
      " \\_loss [56.0]\n",
      " Batch 4/4\n",
      " \\_val_loss [80.0]\n",
      " \\_loss [54.0]\n",
      "\n",
      "[Epoch 1/25] >>>>>>>>>\n",
      " Batch 0/4\n",
      " \\_val_loss [80.0]\n",
      " \\_loss [55.0]\n",
      " Batch 1/4\n",
      " \\_val_loss [80.0]\n",
      " \\_loss [55.0]\n",
      " Batch 2/4\n",
      " \\_val_loss [80.0]\n",
      " \\_loss [57.0]\n",
      " Batch 3/4\n",
      " \\_val_loss [80.0]\n",
      " \\_loss [56.0]\n",
      " Batch 4/4\n",
      " \\_val_loss [80.0]\n",
      " \\_loss [55.0]\n",
      "\n",
      "[Epoch 2/25] >>>>>>>>>\n",
      " Batch 0/4\n",
      " \\_val_loss [79.0]\n",
      " \\_loss [55.0]\n",
      " Batch 1/4\n",
      " \\_val_loss [79.0]\n",
      " \\_loss [56.0]\n",
      " Batch 2/4\n",
      " \\_val_loss [80.0]\n",
      " \\_loss [56.0]\n",
      " Batch 3/4\n",
      " \\_val_loss [81.0]\n",
      " \\_loss [55.0]\n",
      " Batch 4/4\n",
      " \\_val_loss [81.0]\n",
      " \\_loss [55.0]\n",
      "\n",
      "[Epoch 3/25] >>>>>>>>>\n",
      " Batch 0/4\n",
      " \\_val_loss [82.0]\n",
      " \\_loss [55.0]\n",
      " Batch 1/4\n",
      " \\_val_loss [81.0]\n",
      " \\_loss [55.0]\n",
      " Batch 2/4\n",
      " \\_val_loss [82.0]\n",
      " \\_loss [55.0]\n",
      " Batch 3/4\n",
      " \\_val_loss [79.0]\n",
      " \\_loss [54.0]\n",
      " Batch 4/4\n",
      " \\_val_loss [78.0]\n",
      " \\_loss [55.0]\n",
      "\n",
      "[Epoch 4/25] >>>>>>>>>\n",
      " Batch 0/4\n",
      " \\_val_loss [79.0]\n",
      " \\_loss [54.0]\n",
      " Batch 1/4\n",
      " \\_val_loss [79.0]\n",
      " \\_loss [55.0]\n",
      " Batch 2/4\n",
      " \\_val_loss [79.0]\n",
      " \\_loss [55.0]\n",
      " Batch 3/4\n",
      " \\_val_loss [79.0]\n",
      " \\_loss [56.0]\n",
      " Batch 4/4\n",
      " \\_val_loss [79.0]\n",
      " \\_loss [54.0]\n",
      "\n",
      "[Epoch 5/25] >>>>>>>>>\n",
      " Batch 0/4\n",
      " \\_val_loss [79.0]\n",
      " \\_loss [55.0]\n",
      " Batch 1/4\n",
      " \\_val_loss [79.0]\n",
      " \\_loss [54.0]\n",
      " Batch 2/4\n",
      " \\_val_loss [80.0]\n",
      " \\_loss [54.0]\n",
      " Batch 3/4\n",
      " \\_val_loss [80.0]\n",
      " \\_loss [56.0]\n",
      " Batch 4/4\n",
      " \\_val_loss [82.0]\n",
      " \\_loss [56.0]\n",
      "\n",
      "[Epoch 6/25] >>>>>>>>>\n",
      " Batch 0/4\n",
      " \\_val_loss [82.0]\n",
      " \\_loss [54.0]\n",
      " Batch 1/4\n",
      " \\_val_loss [80.0]\n",
      " \\_loss [54.0]\n",
      " Batch 2/4\n",
      " \\_val_loss [79.0]\n",
      " \\_loss [57.0]\n",
      " Batch 3/4\n",
      " \\_val_loss [79.0]\n",
      " \\_loss [55.0]\n",
      " Batch 4/4\n",
      " \\_val_loss [79.0]\n",
      " \\_loss [55.0]\n",
      "\n",
      "[Epoch 7/25] >>>>>>>>>\n",
      " Batch 0/4\n",
      " \\_val_loss [80.0]\n",
      " \\_loss [55.0]\n",
      " Batch 1/4\n",
      " \\_val_loss [80.0]\n",
      " \\_loss [55.0]\n",
      " Batch 2/4\n",
      " \\_val_loss [81.0]\n",
      " \\_loss [55.0]\n",
      " Batch 3/4\n",
      " \\_val_loss [81.0]\n",
      " \\_loss [55.0]\n",
      " Batch 4/4\n",
      " \\_val_loss [79.0]\n",
      " \\_loss [55.0]\n",
      "\n",
      "[Epoch 8/25] >>>>>>>>>\n",
      " Batch 0/4\n",
      " \\_val_loss [80.0]\n",
      " \\_loss [54.0]\n",
      " Batch 1/4\n",
      " \\_val_loss [80.0]\n",
      " \\_loss [55.0]\n",
      " Batch 2/4\n",
      " \\_val_loss [79.0]\n",
      " \\_loss [56.0]\n",
      " Batch 3/4\n",
      " \\_val_loss [80.0]\n",
      " \\_loss [55.0]\n",
      " Batch 4/4\n",
      " \\_val_loss [79.0]\n",
      " \\_loss [55.0]\n",
      "\n",
      "[Epoch 9/25] >>>>>>>>>\n",
      " Batch 0/4\n",
      " \\_val_loss [80.0]\n",
      " \\_loss [55.0]\n",
      " Batch 1/4\n",
      " \\_val_loss [81.0]\n",
      " \\_loss [54.0]\n",
      " Batch 2/4\n",
      " \\_val_loss [82.0]\n",
      " \\_loss [55.0]\n",
      " Batch 3/4\n",
      " \\_val_loss [80.0]\n",
      " \\_loss [55.0]\n",
      " Batch 4/4\n",
      " \\_val_loss [81.0]\n",
      " \\_loss [56.0]\n",
      "\n",
      "[Epoch 10/25] >>>>>>>>>\n",
      " Batch 0/4\n",
      " \\_val_loss [80.0]\n",
      " \\_loss [55.0]\n",
      " Batch 1/4\n",
      " \\_val_loss [79.0]\n",
      " \\_loss [56.0]\n",
      " Batch 2/4\n",
      " \\_val_loss [79.0]\n",
      " \\_loss [54.0]\n",
      " Batch 3/4\n",
      " \\_val_loss [80.0]\n",
      " \\_loss [54.0]\n",
      " Batch 4/4\n",
      " \\_val_loss [79.0]\n",
      " \\_loss [54.0]\n",
      "\n",
      "[Epoch 11/25] >>>>>>>>>\n",
      " Batch 0/4\n",
      " \\_val_loss [79.0]\n",
      " \\_loss [55.0]\n",
      " Batch 1/4\n",
      " \\_val_loss [81.0]\n",
      " \\_loss [55.0]\n",
      " Batch 2/4\n",
      " \\_val_loss [80.0]\n",
      " \\_loss [55.0]\n",
      " Batch 3/4\n",
      " \\_val_loss [81.0]\n",
      " \\_loss [54.0]\n",
      " Batch 4/4\n",
      " \\_val_loss [80.0]\n",
      " \\_loss [54.0]\n",
      "\n",
      "[Epoch 12/25] >>>>>>>>>\n",
      " Batch 0/4\n",
      " \\_val_loss [79.0]\n",
      " \\_loss [56.0]\n",
      " Batch 1/4\n",
      " \\_val_loss [81.0]\n",
      " \\_loss [55.0]\n",
      " Batch 2/4\n",
      " \\_val_loss [79.0]\n",
      " \\_loss [55.0]\n",
      " Batch 3/4\n",
      " \\_val_loss [80.0]\n",
      " \\_loss [55.0]\n",
      " Batch 4/4\n",
      " \\_val_loss [81.0]\n",
      " \\_loss [56.0]\n",
      "\n",
      "[Epoch 13/25] >>>>>>>>>\n",
      " Batch 0/4\n",
      " \\_val_loss [81.0]\n",
      " \\_loss [56.0]\n",
      " Batch 1/4\n",
      " \\_val_loss [83.0]\n",
      " \\_loss [55.0]\n",
      " Batch 2/4\n",
      " \\_val_loss [80.0]\n",
      " \\_loss [56.0]\n",
      " Batch 3/4\n",
      " \\_val_loss [80.0]\n",
      " \\_loss [54.0]\n",
      " Batch 4/4\n",
      " \\_val_loss [79.0]\n",
      " \\_loss [55.0]\n",
      "\n",
      "[Epoch 14/25] >>>>>>>>>\n",
      " Batch 0/4\n",
      " \\_val_loss [79.0]\n",
      " \\_loss [55.0]\n",
      " Batch 1/4\n",
      " \\_val_loss [79.0]\n",
      " \\_loss [55.0]\n",
      " Batch 2/4\n",
      " \\_val_loss [79.0]\n",
      " \\_loss [56.0]\n",
      " Batch 3/4\n",
      " \\_val_loss [79.0]\n",
      " \\_loss [57.0]\n",
      " Batch 4/4\n",
      " \\_val_loss [80.0]\n",
      " \\_loss [56.0]\n",
      "\n",
      "[Epoch 15/25] >>>>>>>>>\n",
      " Batch 0/4\n",
      " \\_val_loss [81.0]\n",
      " \\_loss [56.0]\n",
      " Batch 1/4\n",
      " \\_val_loss [80.0]\n",
      " \\_loss [55.0]\n",
      " Batch 2/4\n",
      " \\_val_loss [81.0]\n",
      " \\_loss [55.0]\n",
      " Batch 3/4\n",
      " \\_val_loss [79.0]\n",
      " \\_loss [55.0]\n",
      " Batch 4/4\n",
      " \\_val_loss [79.0]\n",
      " \\_loss [54.0]\n",
      "\n",
      "[Epoch 16/25] >>>>>>>>>\n",
      " Batch 0/4\n",
      " \\_val_loss [80.0]\n",
      " \\_loss [56.0]\n",
      " Batch 1/4\n",
      " \\_val_loss [80.0]\n",
      " \\_loss [57.0]\n",
      " Batch 2/4\n",
      " \\_val_loss [83.0]\n",
      " \\_loss [55.0]\n",
      " Batch 3/4\n",
      " \\_val_loss [82.0]\n",
      " \\_loss [55.0]\n",
      " Batch 4/4\n",
      " \\_val_loss [81.0]\n",
      " \\_loss [56.0]\n",
      "\n",
      "[Epoch 17/25] >>>>>>>>>\n",
      " Batch 0/4\n",
      " \\_val_loss [80.0]\n",
      " \\_loss [55.0]\n",
      " Batch 1/4\n",
      " \\_val_loss [79.0]\n",
      " \\_loss [55.0]\n",
      " Batch 2/4\n",
      " \\_val_loss [78.0]\n",
      " \\_loss [54.0]\n",
      " Batch 3/4\n",
      " \\_val_loss [78.0]\n",
      " \\_loss [57.0]\n",
      " Batch 4/4\n",
      " \\_val_loss [80.0]\n",
      " \\_loss [54.0]\n",
      "\n",
      "[Epoch 18/25] >>>>>>>>>\n",
      " Batch 0/4\n",
      " \\_val_loss [79.0]\n",
      " \\_loss [57.0]\n",
      " Batch 1/4\n",
      " \\_val_loss [79.0]\n",
      " \\_loss [55.0]\n",
      " Batch 2/4\n",
      " \\_val_loss [79.0]\n",
      " \\_loss [56.0]\n",
      " Batch 3/4\n",
      " \\_val_loss [79.0]\n",
      " \\_loss [56.0]\n",
      " Batch 4/4\n",
      " \\_val_loss [80.0]\n",
      " \\_loss [55.0]\n",
      "\n",
      "[Epoch 19/25] >>>>>>>>>\n",
      " Batch 0/4\n",
      " \\_val_loss [80.0]\n",
      " \\_loss [57.0]\n",
      " Batch 1/4\n",
      " \\_val_loss [80.0]\n",
      " \\_loss [55.0]\n",
      " Batch 2/4\n",
      " \\_val_loss [81.0]\n",
      " \\_loss [55.0]\n",
      " Batch 3/4\n",
      " \\_val_loss [80.0]\n",
      " \\_loss [55.0]\n",
      " Batch 4/4\n",
      " \\_val_loss [79.0]\n",
      " \\_loss [55.0]\n",
      "\n",
      "[Epoch 20/25] >>>>>>>>>\n",
      " Batch 0/4\n",
      " \\_val_loss [78.0]\n",
      " \\_loss [56.0]\n",
      " Batch 1/4\n",
      " \\_val_loss [79.0]\n",
      " \\_loss [54.0]\n",
      " Batch 2/4\n",
      " \\_val_loss [80.0]\n",
      " \\_loss [55.0]\n",
      " Batch 3/4\n",
      " \\_val_loss [82.0]\n",
      " \\_loss [54.0]\n",
      " Batch 4/4\n",
      " \\_val_loss [82.0]\n",
      " \\_loss [56.0]\n",
      "\n",
      "[Epoch 21/25] >>>>>>>>>\n",
      " Batch 0/4\n",
      " \\_val_loss [81.0]\n",
      " \\_loss [56.0]\n",
      " Batch 1/4\n",
      " \\_val_loss [79.0]\n",
      " \\_loss [56.0]\n",
      " Batch 2/4\n",
      " \\_val_loss [79.0]\n",
      " \\_loss [54.0]\n",
      " Batch 3/4\n",
      " \\_val_loss [79.0]\n",
      " \\_loss [53.0]\n",
      " Batch 4/4\n",
      " \\_val_loss [81.0]\n",
      " \\_loss [55.0]\n",
      "\n",
      "[Epoch 22/25] >>>>>>>>>\n",
      " Batch 0/4\n",
      " \\_val_loss [80.0]\n",
      " \\_loss [54.0]\n",
      " Batch 1/4\n",
      " \\_val_loss [80.0]\n",
      " \\_loss [54.0]\n",
      " Batch 2/4\n",
      " \\_val_loss [81.0]\n",
      " \\_loss [56.0]\n",
      " Batch 3/4\n",
      " \\_val_loss [80.0]\n",
      " \\_loss [54.0]\n",
      " Batch 4/4\n",
      " \\_val_loss [80.0]\n",
      " \\_loss [56.0]\n",
      "\n",
      "[Epoch 23/25] >>>>>>>>>\n",
      " Batch 0/4\n",
      " \\_val_loss [79.0]\n",
      " \\_loss [56.0]\n",
      " Batch 1/4\n",
      " \\_val_loss [79.0]\n",
      " \\_loss [55.0]\n",
      " Batch 2/4\n",
      " \\_val_loss [79.0]\n",
      " \\_loss [56.0]\n",
      " Batch 3/4\n",
      " \\_val_loss [80.0]\n",
      " \\_loss [54.0]\n",
      " Batch 4/4\n",
      " \\_val_loss [84.0]\n",
      " \\_loss [56.0]\n",
      "\n",
      "[Epoch 24/25] >>>>>>>>>\n",
      " Batch 0/4\n",
      " \\_val_loss [82.0]\n",
      " \\_loss [56.0]\n",
      " Batch 1/4\n",
      " \\_val_loss [80.0]\n",
      " \\_loss [56.0]\n",
      " Batch 2/4\n",
      " \\_val_loss [81.0]\n",
      " \\_loss [55.0]\n",
      " Batch 3/4\n",
      " \\_val_loss [79.0]\n",
      " \\_loss [55.0]\n",
      " Batch 4/4\n",
      " \\_val_loss [79.0]\n",
      " \\_loss [55.0]\n"
     ]
    }
   ],
   "source": [
    "m = 25\n",
    "useDataGenerator = False\n",
    "useDataGenerator = True\n",
    "\n",
    "x = x_train\n",
    "x = np.concatenate([x_train[:m] for _ in range(100)])\n",
    "print('x:', x.shape)\n",
    "\n",
    "print('batch_size =', batch_size)\n",
    "if useDataGenerator:\n",
    "    datagen = models.ImageDataGenerator(x_train, batch_size, phase_mod, whitening)\n",
    "    history = collections.defaultdict(list)\n",
    "    n_batches = datagen.__len__()\n",
    "    for e in range(epochs):\n",
    "        print('\\n[Epoch %i/%i] >>>>>>>>>' % (e, epochs))\n",
    "        for batch_i, (x_batch, y_batch) in enumerate(datagen.flow(x, x, batch_size)):\n",
    "            print(' Batch %i/%i' % (batch_i,n_batches))\n",
    "            x_ = x_batch\n",
    "            # x_ = datagen.shuffle_3rd_dim(x_)\n",
    "            x_ = datagen.shuffle_3rd_dim_soft(x_, rate=0.5, scale=0.1, verbose=0)\n",
    "            h = vae.fit(x_, validation_data=(x_test, None), verbose=0)\n",
    "            for k,v in h.history.items(): \n",
    "                print(' \\\\_%s' % k, [round(v_,) for v_ in v])\n",
    "                history[k].append(v)\n",
    "            if batch_i >= n_batches:\n",
    "                break\n",
    "else:\n",
    "    h = vae.fit(x, epochs=epochs, validation_data=(x_test, None))\n",
    "    history = h.history"
   ]
  },
  {
   "cell_type": "code",
   "execution_count": 190,
   "metadata": {},
   "outputs": [
    {
     "data": {
      "text/plain": [
       "[<matplotlib.lines.Line2D at 0x143c11dd8>]"
      ]
     },
     "execution_count": 190,
     "metadata": {},
     "output_type": "execute_result"
    },
    {
     "data": {
      "image/png": "[encoded data removed]",
      "text/plain": [
       "<matplotlib.figure.Figure at 0x143c11a20>"
      ]
     },
     "metadata": {},
     "output_type": "display_data"
    }
   ],
   "source": [
    "plt.plot(history['loss'])\n",
    "plt.plot(history['val_loss'])"
   ]
  },
  {
   "cell_type": "code",
   "execution_count": 186,
   "metadata": {},
   "outputs": [
    {
     "data": {
      "text/plain": [
       "(2500, 40, 9, 1)"
      ]
     },
     "execution_count": 186,
     "metadata": {},
     "output_type": "execute_result"
    }
   ],
   "source": [
    "x.shape"
   ]
  },
  {
   "cell_type": "code",
   "execution_count": 187,
   "metadata": {},
   "outputs": [
    {
     "name": "stdout",
     "output_type": "stream",
     "text": [
      "m (40, 9)\n"
     ]
    },
    {
     "data": {
      "image/png": "[encoded data removed]",
      "text/plain": [
       "<matplotlib.figure.Figure at 0x143b00a20>"
      ]
     },
     "metadata": {},
     "output_type": "display_data"
    },
    {
     "name": "stdout",
     "output_type": "stream",
     "text": [
      "m (40, 9)\n"
     ]
    },
    {
     "data": {
      "image/png": "[encoded data removed]",
      "text/plain": [
       "<matplotlib.figure.Figure at 0x143c54f60>"
      ]
     },
     "metadata": {},
     "output_type": "display_data"
    },
    {
     "name": "stdout",
     "output_type": "stream",
     "text": [
      "m (40, 9)\n"
     ]
    },
    {
     "data": {
      "image/png": "[encoded data removed]",
      "text/plain": [
       "<matplotlib.figure.Figure at 0x143cae6a0>"
      ]
     },
     "metadata": {},
     "output_type": "display_data"
    },
    {
     "name": "stdout",
     "output_type": "stream",
     "text": [
      "m (40, 9)\n"
     ]
    },
    {
     "data": {
      "image/png": "[encoded data removed]",
      "text/plain": [
       "<matplotlib.figure.Figure at 0x143d02710>"
      ]
     },
     "metadata": {},
     "output_type": "display_data"
    },
    {
     "name": "stdout",
     "output_type": "stream",
     "text": [
      "m (40, 9)\n"
     ]
    },
    {
     "data": {
      "image/png": "[encoded data removed]",
      "text/plain": [
       "<matplotlib.figure.Figure at 0x1441c72e8>"
      ]
     },
     "metadata": {},
     "output_type": "display_data"
    },
    {
     "name": "stdout",
     "output_type": "stream",
     "text": [
      "m (40, 9)\n"
     ]
    },
    {
     "data": {
      "image/png": "[encoded data removed]",
      "text/plain": [
       "<matplotlib.figure.Figure at 0x1449ec5c0>"
      ]
     },
     "metadata": {},
     "output_type": "display_data"
    }
   ],
   "source": [
    "i = 0\n",
    "j = 1\n",
    "k = -1\n",
    "x = vae.predict(x_train[:100])\n",
    "plot.single(x_train[i, :50, :, 0])\n",
    "plot.single(x[i, :50, :, 0])\n",
    "plot.single(x_train[j, :50, :, 0])\n",
    "plot.single(x[j, :50, :, 0])\n",
    "plot.single(x_train[k, :50, :, 0])\n",
    "plot.single(x[k, :50, :, 0])"
   ]
  },
  {
   "cell_type": "code",
   "execution_count": 188,
   "metadata": {},
   "outputs": [
    {
     "name": "stdout",
     "output_type": "stream",
     "text": [
      "m (40, 9)\n"
     ]
    },
    {
     "data": {
      "image/png": "[encoded data removed]",
      "text/plain": [
       "<matplotlib.figure.Figure at 0x13dfb42e8>"
      ]
     },
     "metadata": {},
     "output_type": "display_data"
    },
    {
     "name": "stdout",
     "output_type": "stream",
     "text": [
      "m (40, 9)\n"
     ]
    },
    {
     "data": {
      "image/png": "[encoded data removed]",
      "text/plain": [
       "<matplotlib.figure.Figure at 0x144ce2550>"
      ]
     },
     "metadata": {},
     "output_type": "display_data"
    },
    {
     "name": "stdout",
     "output_type": "stream",
     "text": [
      "m (40, 9)\n"
     ]
    },
    {
     "data": {
      "image/png": "[encoded data removed]",
      "text/plain": [
       "<matplotlib.figure.Figure at 0x144a43f60>"
      ]
     },
     "metadata": {},
     "output_type": "display_data"
    }
   ],
   "source": [
    "x = datagen.shuffle_3rd_dim_soft(x_train[:10], rate=1, intensity=2, scale=1, verbose=1)\n",
    "i = 0\n",
    "plot.single(x_train[i,:,:,0])\n",
    "plot.single(x[i,:,:,0])\n",
    "x_ = vae.predict(x)\n",
    "plot.single(x_[i,:,:,0])"
   ]
  },
  {
   "cell_type": "code",
   "execution_count": 169,
   "metadata": {},
   "outputs": [
    {
     "data": {
      "text/plain": [
       "(10, 40, 9, 1)"
      ]
     },
     "execution_count": 169,
     "metadata": {},
     "output_type": "execute_result"
    }
   ],
   "source": [
    "x.shape"
   ]
  },
  {
   "cell_type": "code",
   "execution_count": 170,
   "metadata": {},
   "outputs": [
    {
     "name": "stdout",
     "output_type": "stream",
     "text": [
      "m (30, 9)\n"
     ]
    },
    {
     "data": {
      "image/png": "[encoded data removed]",
      "text/plain": [
       "<matplotlib.figure.Figure at 0x142175358>"
      ]
     },
     "metadata": {},
     "output_type": "display_data"
    }
   ],
   "source": [
    "# min: these pixels are 'always' active\n",
    "m = x.min(axis=0)\n",
    "plot.multi(m[:30,:,0])"
   ]
  },
  {
   "cell_type": "code",
   "execution_count": 171,
   "metadata": {},
   "outputs": [
    {
     "name": "stdout",
     "output_type": "stream",
     "text": [
      "m (30, 9)\n"
     ]
    },
    {
     "data": {
      "image/png": "[encoded data removed]",
      "text/plain": [
       "<matplotlib.figure.Figure at 0x13d09e278>"
      ]
     },
     "metadata": {},
     "output_type": "display_data"
    }
   ],
   "source": [
    "# mean\n",
    "m = x.mean(axis=0)\n",
    "plot.single(m[:30,:,0])"
   ]
  },
  {
   "cell_type": "markdown",
   "metadata": {},
   "source": [
    "## Encoder + Generator\n",
    "A model to project inputs on the latent space"
   ]
  },
  {
   "cell_type": "code",
   "execution_count": 172,
   "metadata": {},
   "outputs": [],
   "source": [
    "# build a model to project inputs on the latent space\n",
    "encoder = Model(encoder_input, z_mean)"
   ]
  },
  {
   "cell_type": "code",
   "execution_count": 173,
   "metadata": {},
   "outputs": [
    {
     "data": {
      "text/plain": [
       "(50, 40, 9, 1)"
      ]
     },
     "execution_count": 173,
     "metadata": {},
     "output_type": "execute_result"
    }
   ],
   "source": [
    "x_test.shape"
   ]
  },
  {
   "cell_type": "code",
   "execution_count": 174,
   "metadata": {},
   "outputs": [
    {
     "data": {
      "text/plain": [
       "(100, 20)"
      ]
     },
     "execution_count": 174,
     "metadata": {},
     "output_type": "execute_result"
    }
   ],
   "source": [
    "m = 100\n",
    "x_train_encoded = encoder.predict(x_train[:m], batch_size=batch_size)\n",
    "x_train_encoded.shape"
   ]
  },
  {
   "cell_type": "code",
   "execution_count": 175,
   "metadata": {},
   "outputs": [
    {
     "data": {
      "text/plain": [
       "<matplotlib.collections.PathCollection at 0x13d6d77f0>"
      ]
     },
     "execution_count": 175,
     "metadata": {},
     "output_type": "execute_result"
    },
    {
     "data": {
      "image/png": "[encoded data removed]",
      "text/plain": [
       "<matplotlib.figure.Figure at 0x138a91908>"
      ]
     },
     "metadata": {},
     "output_type": "display_data"
    }
   ],
   "source": [
    "# y_test = range(x_train_encoded.shape[0])\n",
    "y_test = np.concatenate([list(range(n)) for _ in range(int(m/n)+1)])[:m] / n\n",
    "plt.figure(figsize=(6, 6))\n",
    "plt.scatter(x_train_encoded[:, 0], x_train_encoded[:, 1], alpha=0.8, s=30) # c=y_test, "
   ]
  },
  {
   "cell_type": "code",
   "execution_count": 176,
   "metadata": {},
   "outputs": [
    {
     "data": {
      "text/plain": [
       "<matplotlib.collections.PathCollection at 0x1364227f0>"
      ]
     },
     "execution_count": 176,
     "metadata": {},
     "output_type": "execute_result"
    },
    {
     "data": {
      "image/png": "[encoded data removed]",
      "text/plain": [
       "<matplotlib.figure.Figure at 0x1363d1e80>"
      ]
     },
     "metadata": {},
     "output_type": "display_data"
    }
   ],
   "source": [
    "# display a 2D plot of the digit classes in the latent space\n",
    "x_test_encoded = encoder.predict(x_test, batch_size=batch_size)\n",
    "plt.figure(figsize=(6, 6))\n",
    "plt.scatter(x_test_encoded[:, 0], x_test_encoded[:, 1], alpha=0.6, s=30) # , c=y_test\n",
    "# plt.colorbar()"
   ]
  },
  {
   "cell_type": "code",
   "execution_count": 177,
   "metadata": {},
   "outputs": [],
   "source": [
    "# build a digit generator that can sample from the learned distribution\n",
    "decoder_input = Input(shape=(latent_dim,))\n",
    "_decoded = utils.composition(decoders, decoder_input, verbose=False)\n",
    "generator = Model(decoder_input, _decoded)"
   ]
  },
  {
   "cell_type": "code",
   "execution_count": 178,
   "metadata": {},
   "outputs": [],
   "source": [
    "# x_decoded[0].reshape(150,3)"
   ]
  },
  {
   "cell_type": "code",
   "execution_count": 179,
   "metadata": {},
   "outputs": [
    {
     "data": {
      "text/plain": [
       "(450, 40, 9, 1)"
      ]
     },
     "execution_count": 179,
     "metadata": {},
     "output_type": "execute_result"
    }
   ],
   "source": [
    "x_train.shape"
   ]
  },
  {
   "cell_type": "code",
   "execution_count": 180,
   "metadata": {},
   "outputs": [
    {
     "name": "stdout",
     "output_type": "stream",
     "text": [
      "(20,) [0. 0. 0. 0. 0. 0. 0. 0. 0. 0. 0. 0. 0. 0. 0. 0. 0. 0. 0. 0.]\n"
     ]
    },
    {
     "data": {
      "image/png": "[encoded data removed]",
      "text/plain": [
       "<matplotlib.figure.Figure at 0x13f07c6a0>"
      ]
     },
     "metadata": {},
     "output_type": "display_data"
    }
   ],
   "source": [
    "min_y = 0.01\n",
    "max_y = 0.5\n",
    "plot.latent(generator, batch_size, latent_dim,\n",
    "       n=8,\n",
    "       m=3,\n",
    "       crop_size=30,\n",
    "       margin_top=1,\n",
    "       margin_left=1,\n",
    "       min_x=0.05,\n",
    "       max_x=0.95,\n",
    "       min_y=min_y,\n",
    "       max_y=max_y)"
   ]
  },
  {
   "cell_type": "code",
   "execution_count": 181,
   "metadata": {},
   "outputs": [
    {
     "name": "stdout",
     "output_type": "stream",
     "text": [
      "(20,) [0. 0. 0. 0. 0. 0. 0. 0. 0. 0. 0. 0. 0. 0. 0. 0. 0. 0. 0. 0.]\n"
     ]
    },
    {
     "data": {
      "image/png": "[encoded data removed]",
      "text/plain": [
       "<matplotlib.figure.Figure at 0x1440e1cc0>"
      ]
     },
     "metadata": {},
     "output_type": "display_data"
    }
   ],
   "source": [
    "min_y2 = max_y\n",
    "plot.latent(generator, batch_size, latent_dim,\n",
    "       n=8,\n",
    "       m=3,\n",
    "       crop_size=30,\n",
    "       margin_top=1,\n",
    "       margin_left=1,\n",
    "       min_x=0.05,\n",
    "       max_x=0.95,\n",
    "       min_y=min_y2,\n",
    "       max_y=0.95)"
   ]
  },
  {
   "cell_type": "code",
   "execution_count": null,
   "metadata": {},
   "outputs": [],
   "source": []
  },
  {
   "cell_type": "code",
   "execution_count": null,
   "metadata": {},
   "outputs": [],
   "source": []
  },
  {
   "cell_type": "code",
   "execution_count": null,
   "metadata": {},
   "outputs": [],
   "source": []
  },
  {
   "cell_type": "code",
   "execution_count": null,
   "metadata": {},
   "outputs": [],
   "source": []
  },
  {
   "cell_type": "code",
   "execution_count": null,
   "metadata": {},
   "outputs": [],
   "source": []
  },
  {
   "cell_type": "code",
   "execution_count": null,
   "metadata": {},
   "outputs": [],
   "source": []
  },
  {
   "cell_type": "code",
   "execution_count": null,
   "metadata": {},
   "outputs": [],
   "source": []
  },
  {
   "cell_type": "code",
   "execution_count": null,
   "metadata": {},
   "outputs": [],
   "source": []
  }
 ],
 "metadata": {
  "kernelspec": {
   "display_name": "Python 3",
   "language": "python",
   "name": "python3"
  },
  "language_info": {
   "codemirror_mode": {
    "name": "ipython",
    "version": 3
   },
   "file_extension": ".py",
   "mimetype": "text/x-python",
   "name": "python",
   "nbconvert_exporter": "python",
   "pygments_lexer": "ipython3",
   "version": "3.6.5"
  }
 },
 "nbformat": 4,
 "nbformat_minor": 2
}
