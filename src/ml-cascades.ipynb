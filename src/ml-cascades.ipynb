{
 "cells": [
  {
   "cell_type": "code",
   "execution_count": 1,
   "metadata": {},
   "outputs": [],
   "source": [
    "import config\n",
    "import os, numpy as np, pandas, sklearn\n",
    "import mido\n",
    "import matplotlib.pyplot as plt\n",
    "%matplotlib inline"
   ]
  },
  {
   "cell_type": "code",
   "execution_count": 2,
   "metadata": {},
   "outputs": [
    {
     "name": "stderr",
     "output_type": "stream",
     "text": [
      "/Library/Frameworks/Python.framework/Versions/3.6/lib/python3.6/site-packages/h5py/__init__.py:36: FutureWarning: Conversion of the second argument of issubdtype from `float` to `np.floating` is deprecated. In future, it will be treated as `np.float64 == np.dtype(float).type`.\n",
      "  from ._conv import register_converters as _register_converters\n",
      "Using TensorFlow backend.\n"
     ]
    }
   ],
   "source": [
    "## NN libs\n",
    "from sklearn.decomposition import PCA\n",
    "from sklearn import preprocessing\n",
    "from sklearn.preprocessing import RobustScaler\n",
    "import keras\n",
    "from keras import regularizers\n",
    "from keras.utils import to_categorical\n",
    "from keras.models import Sequential\n",
    "from keras.optimizers import SGD, Adam\n",
    "from keras.layers import Input, Dense, Activation, Conv1D, Conv2D, Dropout, Flatten\n",
    "from keras.layers import Conv2DTranspose, Reshape, MaxPooling2D, UpSampling2D, UpSampling1D, MaxPooling1D\n",
    "from keras.layers import LocallyConnected1D, LocallyConnected2D\n",
    "from keras.layers import Input, LSTM, RepeatVector\n",
    "from keras.models import Model\n",
    "from keras.callbacks import TensorBoard"
   ]
  },
  {
   "cell_type": "code",
   "execution_count": 3,
   "metadata": {},
   "outputs": [
    {
     "name": "stdout",
     "output_type": "stream",
     "text": [
      " Context :: namedtuple(\n",
      "[ max_t = float\n",
      ", dt = float\n",
      ", n_instances = int\n",
      ", note_length = int\n",
      ", bpm = float\n",
      ", tempo = float\n",
      ", ticks_per_beat = int\n",
      "]\n",
      "\n"
     ]
    }
   ],
   "source": [
    "# local libs\n",
    "import config, models, functions\n",
    "from data import data, midi, midi_generators as g\n",
    "from utils import io, models_io"
   ]
  },
  {
   "cell_type": "code",
   "execution_count": 4,
   "metadata": {
    "scrolled": true
   },
   "outputs": [
    {
     "name": "stdout",
     "output_type": "stream",
     "text": [
      "Setting up params\n",
      "\n",
      " >> Context(max_t=10.0, dt=0.01, n_instances=1000, note_length=0.03, bpm=120.0, tempo=500000, ticks_per_beat=480)\n"
     ]
    }
   ],
   "source": [
    "context = data.init()"
   ]
  },
  {
   "cell_type": "code",
   "execution_count": 5,
   "metadata": {},
   "outputs": [],
   "source": [
    "# fn = (config.dataset_dir + '4-floor-120bpm.mid')\n",
    "# mid = io.import_midifile(fn)"
   ]
  },
  {
   "cell_type": "markdown",
   "metadata": {},
   "source": [
    "## Setup a generator\n",
    "\n",
    "1. What is the least amount of 'hidden' nodes needed to learn a straight rythm (e.g. 8th notes with different frequencies)\n",
    "2. Can we create a model of a generic function sin(2 pi f t + phase)\n",
    "    - using x: t -> y: sin(2p t)\n",
    "    - using x: [f, t, phase] -> y: sin(2p f t + phase)\n",
    "    - using x: sin([t1, t2, t3) -> y: [f, t, phase]\n",
    "        - such a model should be able to learn complex patterns, such as sin(f1+p1) + sin(f2+p2) + sin(f3+p3)"
   ]
  },
  {
   "cell_type": "code",
   "execution_count": 6,
   "metadata": {},
   "outputs": [
    {
     "name": "stdout",
     "output_type": "stream",
     "text": [
      "[DEBUG] >\n",
      " |>  WARNING\n",
      " |>  type not == 0\n",
      "[DEBUG] >\n",
      " |>  WARNING\n",
      " |>  type not == 0\n",
      "[DEBUG] >\n",
      " |>  WARNING\n",
      " |>  type not == 0\n",
      "[DEBUG] >\n",
      " |>  WARNING\n",
      " |>  type not == 0\n",
      "[DEBUG] >\n",
      " |>  WARNING\n",
      " |>  type not == 0\n",
      "[DEBUG] >\n",
      " |>  WARNING\n",
      " |>  type not == 0\n",
      "[DEBUG] >\n",
      " |>  WARNING\n",
      " |>  type not == 0\n",
      "[DEBUG] >\n",
      " |>  WARNING\n",
      " |>  type not == 0\n",
      "[DEBUG] >\n",
      " |>  WARNING\n",
      " |>  type not == 0\n",
      "[DEBUG] >\n",
      " |>  WARNING\n",
      " |>  type not == 0\n",
      "[DEBUG] >\n",
      " |>  WARNING\n",
      " |>  type not == 0\n",
      "[DEBUG] >\n",
      " |>  WARNING\n",
      " |>  type not == 0\n",
      "[DEBUG] >\n",
      " |>  WARNING\n",
      " |>  type not == 0\n",
      "[DEBUG] >\n",
      " |>  WARNING\n",
      " |>  type not == 0\n",
      "[DEBUG] >\n",
      " |>  WARNING\n",
      " |>  type not == 0\n",
      "[DEBUG] >\n",
      " |>  WARNING\n",
      " |>  type not == 0\n",
      "[DEBUG] >\n",
      " |>  WARNING\n",
      " |>  type not == 0\n",
      "[DEBUG] >\n",
      " |>  WARNING\n",
      " |>  type not == 0\n",
      "[DEBUG] >\n",
      " |>  WARNING\n",
      " |>  type not == 0\n",
      "[DEBUG] >\n",
      " |>  WARNING\n",
      " |>  type not == 0\n",
      "[DEBUG] >\n",
      " |>  WARNING\n",
      " |>  type not == 0\n",
      "[DEBUG] >\n",
      " |>  WARNING\n",
      " |>  type not == 0\n",
      "[DEBUG] >\n",
      " |>  WARNING\n",
      " |>  type not == 0\n",
      "[DEBUG] >\n",
      " |>  WARNING\n",
      " |>  type not == 0\n",
      "[DEBUG] >\n",
      " |>  WARNING\n",
      " |>  type not == 0\n",
      "[DEBUG] >\n",
      " |>  WARNING\n",
      " |>  type not == 0\n",
      "[DEBUG] >\n",
      " |>  WARNING\n",
      " |>  type not == 0\n",
      "[DEBUG] >\n",
      " |>  WARNING\n",
      " |>  type not == 0\n",
      "[DEBUG] >\n",
      " |>  WARNING\n",
      " |>  type not == 0\n",
      "[DEBUG] >\n",
      " |>  WARNING\n",
      " |>  type not == 0\n",
      "[DEBUG] >\n",
      " |>  WARNING\n",
      " |>  type not == 0\n",
      "[DEBUG] >\n",
      " |>  WARNING\n",
      " |>  type not == 0\n",
      "[DEBUG] >\n",
      " |>  WARNING\n",
      " |>  type not == 0\n",
      "[DEBUG] >\n",
      " |>  WARNING\n",
      " |>  type not == 0\n",
      "[DEBUG] >\n",
      " |>  WARNING\n",
      " |>  type not == 0\n",
      "[DEBUG] >\n",
      " |>  WARNING\n",
      " |>  type not == 0\n",
      "[DEBUG] >\n",
      " |>  WARNING\n",
      " |>  type not == 0\n",
      "[DEBUG] >\n",
      " |>  WARNING\n",
      " |>  type not == 0\n",
      "[DEBUG] >\n",
      " |>  WARNING\n",
      " |>  type not == 0\n",
      "[DEBUG] >\n",
      " |>  WARNING\n",
      " |>  type not == 0\n",
      "[DEBUG] >\n",
      " |>  WARNING\n",
      " |>  type not == 0\n",
      "[DEBUG] >\n",
      " |>  WARNING\n",
      " |>  type not == 0\n",
      "[DEBUG] >\n",
      " |>  WARNING\n",
      " |>  type not == 0\n",
      "[DEBUG] >\n",
      " |>  WARNING\n",
      " |>  type not == 0\n",
      "[DEBUG] >\n",
      " |>  WARNING\n",
      " |>  type not == 0\n",
      "[DEBUG] >\n",
      " |>  WARNING\n",
      " |>  type not == 0\n",
      "[DEBUG] >\n",
      " |>  WARNING\n",
      " |>  type not == 0\n",
      "[DEBUG] >\n",
      " |>  WARNING\n",
      " |>  type not == 0\n",
      "[DEBUG] >\n",
      " |>  WARNING\n",
      " |>  type not == 0\n",
      "[DEBUG] >\n",
      " |>  WARNING\n",
      " |>  type not == 0\n",
      "[DEBUG] >\n",
      " |>  WARNING\n",
      " |>  type not == 0\n",
      "[DEBUG] >\n",
      " |>  WARNING\n",
      " |>  type not == 0\n",
      "[DEBUG] >\n",
      " |>  WARNING\n",
      " |>  type not == 0\n",
      "[DEBUG] >\n",
      " |>  WARNING\n",
      " |>  type not == 0\n",
      "[DEBUG] >\n",
      " |>  WARNING\n",
      " |>  type not == 0\n",
      "[DEBUG] >\n",
      " |>  WARNING\n",
      " |>  type not == 0\n",
      "[DEBUG] >\n",
      " |>  WARNING\n",
      " |>  type not == 0\n",
      "[DEBUG] >\n",
      " |>  WARNING\n",
      " |>  type not == 0\n",
      "[DEBUG] >\n",
      " |>  WARNING\n",
      " |>  type not == 0\n",
      "[DEBUG] >\n",
      " |>  WARNING\n",
      " |>  type not == 0\n",
      "[DEBUG] >\n",
      " |>  WARNING\n",
      " |>  type not == 0\n",
      "[DEBUG] >\n",
      " |>  WARNING\n",
      " |>  type not == 0\n",
      "[DEBUG] >\n",
      " |>  WARNING\n",
      " |>  type not == 0\n",
      "[DEBUG] >\n",
      " |>  WARNING\n",
      " |>  type not == 0\n",
      "[DEBUG] >\n",
      " |>  WARNING\n",
      " |>  type not == 0\n",
      "[DEBUG] >\n",
      " |>  WARNING\n",
      " |>  type not == 0\n",
      "[DEBUG] >\n",
      " |>  WARNING\n",
      " |>  type not == 0\n",
      "[DEBUG] >\n",
      " |>  WARNING\n",
      " |>  type not == 0\n",
      "[DEBUG] >\n",
      " |>  WARNING\n",
      " |>  type not == 0\n",
      "[DEBUG] >\n",
      " |>  WARNING\n",
      " |>  type not == 0\n",
      "[DEBUG] >\n",
      " |>  WARNING\n",
      " |>  type not == 0\n",
      "[DEBUG] >\n",
      " |>  WARNING\n",
      " |>  type not == 0\n",
      "[DEBUG] >\n",
      " |>  WARNING\n",
      " |>  type not == 0\n",
      "[DEBUG] >\n",
      " |>  WARNING\n",
      " |>  type not == 0\n",
      "[DEBUG] >\n",
      " |>  WARNING\n",
      " |>  type not == 0\n",
      "[DEBUG] >\n",
      " |>  WARNING\n",
      " |>  type not == 0\n",
      "[DEBUG] >\n",
      " |>  WARNING\n",
      " |>  type not == 0\n",
      "[DEBUG] >\n",
      " |>  WARNING\n",
      " |>  type not == 0\n",
      "[DEBUG] >\n",
      " |>  WARNING\n",
      " |>  type not == 0\n",
      "[DEBUG] >\n",
      " |>  WARNING\n",
      " |>  type not == 0\n",
      "[DEBUG] >\n",
      " |>  WARNING\n",
      " |>  type not == 0\n",
      "[DEBUG] >\n",
      " |>  WARNING\n",
      " |>  type not == 0\n",
      "[DEBUG] >\n",
      " |>  WARNING\n",
      " |>  type not == 0\n",
      "[DEBUG] >\n",
      " |>  WARNING\n",
      " |>  type not == 0\n",
      "[DEBUG] >\n",
      " |>  WARNING\n",
      " |>  type not == 0\n",
      "[DEBUG] >\n",
      " |>  WARNING\n",
      " |>  type not == 0\n",
      "[DEBUG] >\n",
      " |>  WARNING\n",
      " |>  type not == 0\n",
      "[DEBUG] >\n",
      " |>  WARNING\n",
      " |>  type not == 0\n",
      "[DEBUG] >\n",
      " |>  WARNING\n",
      " |>  type not == 0\n",
      "[DEBUG] >\n",
      " |>  WARNING\n",
      " |>  type not == 0\n",
      "[DEBUG] >\n",
      " |>  WARNING\n",
      " |>  type not == 0\n",
      "[DEBUG] >\n",
      " |>  WARNING\n",
      " |>  type not == 0\n",
      "[DEBUG] >\n",
      " |>  WARNING\n",
      " |>  type not == 0\n",
      "[DEBUG] >\n",
      " |>  WARNING\n",
      " |>  type not == 0\n",
      "[DEBUG] >\n",
      " |>  WARNING\n",
      " |>  type not == 0\n",
      "[DEBUG] >\n",
      " |>  WARNING\n",
      " |>  type not == 0\n",
      "[DEBUG] >\n",
      " |>  WARNING\n",
      " |>  type not == 0\n",
      "[DEBUG] >\n",
      " |>  WARNING\n",
      " |>  type not == 0\n",
      "[DEBUG] >\n",
      " |>  WARNING\n",
      " |>  type not == 0\n",
      "[DEBUG] >\n",
      " |>  WARNING\n",
      " |>  type not == 0\n"
     ]
    }
   ],
   "source": [
    "n = 100\n",
    "x_train = g.gen_data(context, n)\n",
    "# x_train = np.zeros([10,100,127])\n",
    "y_train = x_train"
   ]
  },
  {
   "cell_type": "code",
   "execution_count": 7,
   "metadata": {},
   "outputs": [
    {
     "data": {
      "text/plain": [
       "(100, 1000, 127)"
      ]
     },
     "execution_count": 7,
     "metadata": {},
     "output_type": "execute_result"
    }
   ],
   "source": [
    "y_train = x_train\n",
    "n_samples = x_train[0]\n",
    "input_shape = x_train.shape[1:] # shape of a single sample\n",
    "output_shape = y_train.shape[1:]\n",
    "# output_length = y_train.shape[1]\n",
    "# output_length = (y_train[0]).shape[0] # = length of an individual label\n",
    "hidden_layer_length = 100\n",
    "x_train.shape"
   ]
  },
  {
   "cell_type": "code",
   "execution_count": 8,
   "metadata": {},
   "outputs": [
    {
     "name": "stdout",
     "output_type": "stream",
     "text": [
      "_________________________________________________________________\n",
      "Layer (type)                 Output Shape              Param #   \n",
      "=================================================================\n",
      "input_1 (InputLayer)         (None, 1000, 127)         0         \n",
      "_________________________________________________________________\n",
      "max_pooling1d_1 (MaxPooling1 (None, 500, 127)          0         \n",
      "=================================================================\n",
      "Total params: 0\n",
      "Trainable params: 0\n",
      "Non-trainable params: 0\n",
      "_________________________________________________________________\n"
     ]
    }
   ],
   "source": [
    "def resolution_reducer(input_shape, amt=2):\n",
    "    input_layer = Input(shape=input_shape)\n",
    "    x = input_layer\n",
    "    x = MaxPooling1D(pool_size=amt, strides=amt)(x)\n",
    "    model = Model(inputs=input_layer, outputs=x)\n",
    "    return model\n",
    "\n",
    "reducer = resolution_reducer(input_shape,2)\n",
    "reducer.summary()\n",
    "# reducer.compile('adam',loss='mse')"
   ]
  },
  {
   "cell_type": "code",
   "execution_count": 9,
   "metadata": {},
   "outputs": [
    {
     "data": {
      "text/plain": [
       "{'input_layers': [['input_1', 0, 0]],\n",
       " 'layers': [{'class_name': 'InputLayer',\n",
       "   'config': {'batch_input_shape': (None, 1000, 127),\n",
       "    'dtype': 'float32',\n",
       "    'name': 'input_1',\n",
       "    'sparse': False},\n",
       "   'inbound_nodes': [],\n",
       "   'name': 'input_1'},\n",
       "  {'class_name': 'MaxPooling1D',\n",
       "   'config': {'name': 'max_pooling1d_1',\n",
       "    'padding': 'valid',\n",
       "    'pool_size': (2,),\n",
       "    'strides': (2,),\n",
       "    'trainable': True},\n",
       "   'inbound_nodes': [[['input_1', 0, 0, {}]]],\n",
       "   'name': 'max_pooling1d_1'}],\n",
       " 'name': 'model_1',\n",
       " 'output_layers': [['max_pooling1d_1', 0, 0]]}"
      ]
     },
     "execution_count": 9,
     "metadata": {},
     "output_type": "execute_result"
    }
   ],
   "source": [
    "reducer.get_config()"
   ]
  },
  {
   "cell_type": "code",
   "execution_count": 10,
   "metadata": {},
   "outputs": [
    {
     "data": {
      "text/plain": [
       "(None, 500, 127)"
      ]
     },
     "execution_count": 10,
     "metadata": {},
     "output_type": "execute_result"
    }
   ],
   "source": [
    "reducer.output_shape"
   ]
  },
  {
   "cell_type": "code",
   "execution_count": 32,
   "metadata": {
    "scrolled": true
   },
   "outputs": [
    {
     "name": "stdout",
     "output_type": "stream",
     "text": [
      "_________________________________________________________________\n",
      "Layer (type)                 Output Shape              Param #   \n",
      "=================================================================\n",
      "input_7 (InputLayer)         (None, 1000, 127)         0         \n",
      "_________________________________________________________________\n",
      "max_pooling1d_3 (MaxPooling1 (None, 500, 127)          0         \n",
      "=================================================================\n",
      "Total params: 0\n",
      "Trainable params: 0\n",
      "Non-trainable params: 0\n",
      "_________________________________________________________________\n",
      "_________________________________________________________________\n",
      "Layer (type)                 Output Shape              Param #   \n",
      "=================================================================\n",
      "input_8 (InputLayer)         (None, 500, 127)          0         \n",
      "_________________________________________________________________\n",
      "flatten_2 (Flatten)          (None, 63500)             0         \n",
      "_________________________________________________________________\n",
      "dense_4 (Dense)              (None, 100)               6350100   \n",
      "=================================================================\n",
      "Total params: 6,350,100\n",
      "Trainable params: 6,350,100\n",
      "Non-trainable params: 0\n",
      "_________________________________________________________________\n",
      "_________________________________________________________________\n",
      "Layer (type)                 Output Shape              Param #   \n",
      "=================================================================\n",
      "input_8 (InputLayer)         (None, 500, 127)          0         \n",
      "_________________________________________________________________\n",
      "flatten_2 (Flatten)          (None, 63500)             0         \n",
      "_________________________________________________________________\n",
      "dense_4 (Dense)              (None, 100)               6350100   \n",
      "=================================================================\n",
      "Total params: 6,350,100\n",
      "Trainable params: 6,350,100\n",
      "Non-trainable params: 0\n",
      "_________________________________________________________________\n"
     ]
    }
   ],
   "source": [
    "# functional syntax: lambda x: lambda y: z\n",
    "def encoder(input_shape, output_length, dropout=0.10):\n",
    "    input_layer = Input(shape=input_shape)\n",
    "    x = input_layer\n",
    "    x = Flatten()(x)\n",
    "#     x = Dense(output_length * 2, activation='relu')(x)\n",
    "#     x = Dense(output_length * 2, activation='relu')(x)\n",
    "    x = Dense(output_length, activation='sigmoid')(x)\n",
    "#     x = Dense(output_length, activation='relu', activity_regularizer=regularizers.l1(10e-5))(x)\n",
    "    #     model.add(Dropout(dropout))    \n",
    "    model = Model(inputs=input_layer, outputs=x)\n",
    "    return model\n",
    "\n",
    "\n",
    "def decoder(input_length, output_shape, dropout=0.10):\n",
    "    input_layer = Input(shape=(input_length,))\n",
    "    x = input_layer\n",
    "    shape = (10,100) # 1 additional dimension\n",
    "    x = Dense(np.prod(shape), activation='relu')(x) # 4*4*8 = 128\n",
    "    x = Reshape(shape)(x)\n",
    "    x = UpSampling1D(10)(x)\n",
    "    x = Conv1D(100, 2, strides=2, activation='relu')(x) # 50,100\n",
    "    x = UpSampling1D(output_shape[0] / 50)(x)\n",
    "    x = Dense(output_shape[1], activation='relu')(x)\n",
    "#     x = Dense(output_shape[1], activation='relu')(x)\n",
    "#     x = Dense(output_shape[1], activation='relu')(x)\n",
    "    #     x = LocallyConnected1D(output_shape[1], kernel_size=1, activation='relu')(x)\n",
    "    # x = Dense(output_length, activation='softmax')(x)\n",
    "    model = Model(inputs=input_layer, outputs=x)\n",
    "    #     model.add(Dropout(dropout))\n",
    "    return model\n",
    "\n",
    "\n",
    "def autoencoder(input_shape, output_shape, hidden_layer_length=10, dropout=0.10, verbose=False):\n",
    "    input_ = Input(shape=input_shape)\n",
    "    reducer = resolution_reducer(input_shape,2)\n",
    "    if verbose:\n",
    "        reducer.summary()\n",
    "    input_shape = reducer.output_shape[1:]\n",
    "    encode = encoder(input_shape, hidden_layer_length, dropout)\n",
    "    if verbose:\n",
    "        encode.summary()\n",
    "    decode = decoder(hidden_layer_length, output_shape, dropout)\n",
    "    if verbose:\n",
    "        encode.summary()\n",
    "    model = Model(input_, decode(encode(reducer(input_))))\n",
    "    return encode, decode, reducer, model\n",
    "\n",
    "\n",
    "dropout = 0.\n",
    "encoder, decoder, reducer, auto = autoencoder(input_shape, output_shape, hidden_layer_length, dropout, True)\n",
    "# summary()"
   ]
  },
  {
   "cell_type": "code",
   "execution_count": 33,
   "metadata": {},
   "outputs": [],
   "source": [
    "# def decoder(input_length, output_shape, dropout=0.10):\n",
    "#     input_layer = Input(shape=(input_length,))\n",
    "#     x = input_layer\n",
    "#     shape = (10,100) # 1 additional dimension\n",
    "#     x = Dense(np.prod(shape), activation='relu')(x) # 4*4*8 = 128\n",
    "#     x = Reshape(shape)(x)\n",
    "#     x = UpSampling1D(10)(x)\n",
    "#     x = Conv1D(100, 2, strides=2, activation='relu')(x) # 50,100\n",
    "#     x = UpSampling1D(output_shape[0] / 50)(x)\n",
    "#     x = Dense(output_shape[1], activation='relu')(x)\n",
    "# #     x = Dense(output_shape[1], activation='relu')(x)\n",
    "# #     x = Dense(output_shape[1], activation='relu')(x)\n",
    "#     #     x = LocallyConnected1D(output_shape[1], kernel_size=1, activation='relu')(x)\n",
    "#     # x = Dense(output_length, activation='softmax')(x)\n",
    "#     model = Model(inputs=input_layer, outputs=x)\n",
    "#     #     model.add(Dropout(dropout))\n",
    "#     return model, model.summary"
   ]
  },
  {
   "cell_type": "code",
   "execution_count": 34,
   "metadata": {},
   "outputs": [],
   "source": [
    "metrics = ['accuracy','mse','categorical_crossentropy']\n",
    "loss = 'binary_crossentropy'# binary_crossentropy categorical_crossentropy\n",
    "optimizer = 'adadelta'\n",
    "auto.compile(optimizer=optimizer, loss=loss, metrics=metrics)"
   ]
  },
  {
   "cell_type": "code",
   "execution_count": 35,
   "metadata": {},
   "outputs": [],
   "source": [
    "batch_size = 16\n",
    "# n epochs = n iterations over all the training data\n",
    "epochs = 15"
   ]
  },
  {
   "cell_type": "code",
   "execution_count": 36,
   "metadata": {
    "scrolled": true
   },
   "outputs": [
    {
     "name": "stdout",
     "output_type": "stream",
     "text": [
      "Epoch 1/15\n",
      "100/100 [==============================] - 3s 33ms/step - loss: 0.0264 - acc: 1.0000 - mean_squared_error: 0.0024 - categorical_crossentropy: 0.0645\n",
      "Epoch 2/15\n",
      "100/100 [==============================] - 3s 28ms/step - loss: 0.0052 - acc: 1.0000 - mean_squared_error: 2.2110e-04 - categorical_crossentropy: 0.0516\n",
      "Epoch 3/15\n",
      "100/100 [==============================] - 3s 28ms/step - loss: 0.0012 - acc: 1.0000 - mean_squared_error: 5.7512e-05 - categorical_crossentropy: nan\n",
      "Epoch 4/15\n",
      "100/100 [==============================] - 3s 26ms/step - loss: 5.0139e-04 - acc: 1.0000 - mean_squared_error: 4.1070e-05 - categorical_crossentropy: nan\n",
      "Epoch 5/15\n",
      "100/100 [==============================] - 3s 28ms/step - loss: 4.2173e-04 - acc: 1.0000 - mean_squared_error: 3.9795e-05 - categorical_crossentropy: nan\n",
      "Epoch 6/15\n",
      "100/100 [==============================] - 3s 27ms/step - loss: 3.9542e-04 - acc: 1.0000 - mean_squared_error: 3.9142e-05 - categorical_crossentropy: nan\n",
      "Epoch 7/15\n",
      "100/100 [==============================] - 3s 27ms/step - loss: 3.9140e-04 - acc: 1.0000 - mean_squared_error: 3.9020e-05 - categorical_crossentropy: nan\n",
      "Epoch 8/15\n",
      "100/100 [==============================] - 3s 26ms/step - loss: 3.9940e-04 - acc: 1.0000 - mean_squared_error: 3.9198e-05 - categorical_crossentropy: nan\n",
      "Epoch 9/15\n",
      "100/100 [==============================] - 3s 27ms/step - loss: 3.8270e-04 - acc: 1.0000 - mean_squared_error: 3.8987e-05 - categorical_crossentropy: nan\n",
      "Epoch 10/15\n",
      "100/100 [==============================] - 3s 29ms/step - loss: 3.8930e-04 - acc: 1.0000 - mean_squared_error: 3.9020e-05 - categorical_crossentropy: nan\n",
      "Epoch 11/15\n",
      "100/100 [==============================] - 3s 31ms/step - loss: 3.8367e-04 - acc: 1.0000 - mean_squared_error: 3.9003e-05 - categorical_crossentropy: nan\n",
      "Epoch 12/15\n",
      "100/100 [==============================] - 3s 28ms/step - loss: 3.8261e-04 - acc: 1.0000 - mean_squared_error: 3.8988e-05 - categorical_crossentropy: nan\n",
      "Epoch 13/15\n",
      "100/100 [==============================] - 3s 27ms/step - loss: 3.8423e-04 - acc: 1.0000 - mean_squared_error: 3.9025e-05 - categorical_crossentropy: nan\n",
      "Epoch 14/15\n",
      "100/100 [==============================] - 3s 27ms/step - loss: 3.8240e-04 - acc: 1.0000 - mean_squared_error: 3.8986e-05 - categorical_crossentropy: nan\n",
      "Epoch 15/15\n",
      "100/100 [==============================] - 3s 29ms/step - loss: 3.8251e-04 - acc: 1.0000 - mean_squared_error: 3.8988e-05 - categorical_crossentropy: nan\n"
     ]
    },
    {
     "data": {
      "text/plain": [
       "<keras.callbacks.History at 0x11b319940>"
      ]
     },
     "execution_count": 36,
     "metadata": {},
     "output_type": "execute_result"
    }
   ],
   "source": [
    "auto.fit(x_train, y_train, epochs=epochs, batch_size=batch_size, callbacks=[TensorBoard(log_dir=config.tmp_log_dir)])\n",
    "# model.fit(x_train, y_train, epochs=epochs, batch_size=batch_size,\n",
    "#           validation_split=1/6, callbacks=[TensorBoard(log_dir=config.tmp_model_dir)])"
   ]
  },
  {
   "cell_type": "code",
   "execution_count": 16,
   "metadata": {},
   "outputs": [
    {
     "name": "stdout",
     "output_type": "stream",
     "text": [
      "[DEBUG] >\n",
      " |>  WARNING\n",
      " |>  type not == 0\n",
      "[DEBUG] >\n",
      " |>  WARNING\n",
      " |>  type not == 0\n"
     ]
    },
    {
     "data": {
      "text/plain": [
       "(1000, 127)"
      ]
     },
     "execution_count": 16,
     "metadata": {},
     "output_type": "execute_result"
    }
   ],
   "source": [
    "mid1 = midi.encode(context, g.render_midi(context, f=2))\n",
    "mid2 = midi.encode(context, g.render_midi(context, f=3))\n",
    "mid1.shape"
   ]
  },
  {
   "cell_type": "code",
   "execution_count": 38,
   "metadata": {
    "scrolled": true
   },
   "outputs": [
    {
     "data": {
      "text/plain": [
       "(2, 100)"
      ]
     },
     "execution_count": 38,
     "metadata": {},
     "output_type": "execute_result"
    }
   ],
   "source": [
    "x_test = np.stack([mid1, mid2])\n",
    "latent = encoder.predict(reducer.predict(x_test))\n",
    "latent.shape"
   ]
  },
  {
   "cell_type": "code",
   "execution_count": 23,
   "metadata": {},
   "outputs": [
    {
     "data": {
      "text/plain": [
       "(2, 100)"
      ]
     },
     "execution_count": 23,
     "metadata": {},
     "output_type": "execute_result"
    }
   ],
   "source": [
    "latent.shape"
   ]
  },
  {
   "cell_type": "code",
   "execution_count": 29,
   "metadata": {},
   "outputs": [
    {
     "data": {
      "text/plain": [
       "(100,)"
      ]
     },
     "execution_count": 29,
     "metadata": {},
     "output_type": "execute_result"
    }
   ],
   "source": [
    "maxx = np.maximum(latent[0],latent[1])\n",
    "maxx.shape"
   ]
  },
  {
   "cell_type": "code",
   "execution_count": 31,
   "metadata": {},
   "outputs": [
    {
     "data": {
      "text/plain": [
       "(100,)"
      ]
     },
     "execution_count": 31,
     "metadata": {},
     "output_type": "execute_result"
    }
   ],
   "source": [
    "latent[0].shape"
   ]
  },
  {
   "cell_type": "code",
   "execution_count": 52,
   "metadata": {},
   "outputs": [
    {
     "data": {
      "text/plain": [
       "(1, 1000, 127)"
      ]
     },
     "execution_count": 52,
     "metadata": {},
     "output_type": "execute_result"
    }
   ],
   "source": [
    "arrays = decoder.predict(np.stack([latent[0]]))\n",
    "arrays.shape"
   ]
  },
  {
   "cell_type": "code",
   "execution_count": 53,
   "metadata": {},
   "outputs": [
    {
     "name": "stdout",
     "output_type": "stream",
     "text": [
      "[INFO] :\n",
      " |  len\n",
      " |  9.313541666666707\n",
      " |  10.0\n"
     ]
    }
   ],
   "source": [
    "mid = midi.decode_track(context, arrays[0])"
   ]
  },
  {
   "cell_type": "code",
   "execution_count": 54,
   "metadata": {},
   "outputs": [],
   "source": [
    "io.export_midifile(mid, config.dataset_dir + 'song_export-cycles-mod.mid')"
   ]
  },
  {
   "cell_type": "code",
   "execution_count": null,
   "metadata": {},
   "outputs": [],
   "source": []
  },
  {
   "cell_type": "code",
   "execution_count": null,
   "metadata": {},
   "outputs": [],
   "source": []
  }
 ],
 "metadata": {
  "kernelspec": {
   "display_name": "Python 3",
   "language": "python",
   "name": "python3"
  },
  "language_info": {
   "codemirror_mode": {
    "name": "ipython",
    "version": 3
   },
   "file_extension": ".py",
   "mimetype": "text/x-python",
   "name": "python",
   "nbconvert_exporter": "python",
   "pygments_lexer": "ipython3",
   "version": "3.6.4"
  }
 },
 "nbformat": 4,
 "nbformat_minor": 2
}
