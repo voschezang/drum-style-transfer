{
 "cells": [
  {
   "cell_type": "code",
   "execution_count": 1,
   "metadata": {},
   "outputs": [],
   "source": [
    "import config\n",
    "import os, numpy as np, pandas, sklearn\n",
    "import mido\n",
    "import matplotlib.pyplot as plt\n",
    "%matplotlib inline"
   ]
  },
  {
   "cell_type": "code",
   "execution_count": 2,
   "metadata": {},
   "outputs": [
    {
     "name": "stderr",
     "output_type": "stream",
     "text": [
      "/Library/Frameworks/Python.framework/Versions/3.6/lib/python3.6/site-packages/h5py/__init__.py:36: FutureWarning: Conversion of the second argument of issubdtype from `float` to `np.floating` is deprecated. In future, it will be treated as `np.float64 == np.dtype(float).type`.\n",
      "  from ._conv import register_converters as _register_converters\n",
      "Using TensorFlow backend.\n"
     ]
    }
   ],
   "source": [
    "## NN libs\n",
    "from sklearn.decomposition import PCA\n",
    "from sklearn import preprocessing\n",
    "from sklearn.preprocessing import RobustScaler\n",
    "import keras\n",
    "from keras import regularizers\n",
    "from keras.utils import to_categorical\n",
    "from keras.models import Sequential\n",
    "from keras.optimizers import SGD, Adam\n",
    "from keras.layers import Input, Dense, Activation, Conv1D, Conv2D, Dropout, Flatten\n",
    "from keras.layers import Conv2DTranspose, Reshape, MaxPooling2D, UpSampling2D, UpSampling1D, MaxPooling1D\n",
    "from keras.layers import LocallyConnected1D, LocallyConnected2D\n",
    "from keras.layers import Input, LSTM, RepeatVector\n",
    "from keras.models import Model\n",
    "from keras.callbacks import TensorBoard"
   ]
  },
  {
   "cell_type": "code",
   "execution_count": 3,
   "metadata": {},
   "outputs": [
    {
     "name": "stdout",
     "output_type": "stream",
     "text": [
      " Context :: namedtuple(\n",
      "[ max_t = float\n",
      ", dt = float\n",
      ", n_instances = int\n",
      ", note_length = int\n",
      ", bpm = float\n",
      ", tempo = float\n",
      ", ticks_per_beat = int\n",
      "]\n",
      "\n"
     ]
    }
   ],
   "source": [
    "# local libs\n",
    "import config, models, functions\n",
    "from data import data, midi\n",
    "from utils import io, models_io"
   ]
  },
  {
   "cell_type": "code",
   "execution_count": 4,
   "metadata": {
    "scrolled": true
   },
   "outputs": [
    {
     "name": "stdout",
     "output_type": "stream",
     "text": [
      "Setting up params\n",
      "\n",
      " >> Context(max_t=10.0, dt=0.01, n_instances=1000, note_length=0.03, bpm=120.0, tempo=500000, ticks_per_beat=480)\n",
      "Importing midi-data\n",
      "\n",
      "[INFO] :\n",
      " |  reading file: ../datasets/examples/01 16th Snare.mid\n",
      "[INFO] :\n",
      " |  reading file: ../datasets/examples/01 8th Cym.mid\n",
      "[INFO] :\n",
      " |  reading file: ../datasets/examples/01 8th Hat.mid\n",
      "[INFO] :\n",
      " |  reading file: ../datasets/examples/02 8th Cym.mid\n",
      "[INFO] :\n",
      " |  reading file: ../datasets/examples/114_LetsDance_DavidBowie1.mid\n",
      "[INFO] :\n",
      " |  reading file: ../datasets/examples/127_SweetChildOMine_GunsAndRoses1.mid\n",
      "[INFO] :\n",
      " |  reading file: ../datasets/examples/92_GiveItAway_TheRedHotChiliPeppers.mid\n",
      "[INFO] :\n",
      " |  reading file: ../datasets/examples/94_Creep_Radiohead2.mid\n",
      "\n",
      "Encoding midi-data\n",
      " [<midi file '../datasets/examples/01 16th Snare.mid' type 0, 1 tracks, 182 messages>, <midi file '../datasets/examples/01 8th Cym.mid' type 0, 1 tracks, 68 messages>, <midi file '../datasets/examples/01 8th Hat.mid' type 0, 1 tracks, 60 messages>, <midi file '../datasets/examples/02 8th Cym.mid' type 0, 1 tracks, 72 messages>, <midi file '../datasets/examples/114_LetsDance_DavidBowie1.mid' type 0, 1 tracks, 76 messages>, <midi file '../datasets/examples/127_SweetChildOMine_GunsAndRoses1.mid' type 0, 1 tracks, 226 messages>, <midi file '../datasets/examples/92_GiveItAway_TheRedHotChiliPeppers.mid' type 0, 1 tracks, 132 messages>, <midi file '../datasets/examples/94_Creep_Radiohead2.mid' type 0, 1 tracks, 126 messages>]\n",
      "[DEBUG] >\n",
      " |>  to_array: msg.time > max_t\n",
      " |>  10.000000000000005\n",
      " |>  1000\n",
      "(8, 1000, 127)\n"
     ]
    }
   ],
   "source": [
    "n: int = 8\n",
    "context, x_train, labels = data.init(n)\n",
    "print(x_train.shape)"
   ]
  },
  {
   "cell_type": "code",
   "execution_count": 14,
   "metadata": {},
   "outputs": [
    {
     "name": "stdout",
     "output_type": "stream",
     "text": [
      "[INFO] :\n",
      " |  reading file: ../datasets/4-floor-120bpm.mid\n"
     ]
    }
   ],
   "source": [
    "fn = (config.dataset_dir + '4-floor-120bpm.mid')\n",
    "mid = io.import_midifile(fn)"
   ]
  },
  {
   "cell_type": "markdown",
   "metadata": {},
   "source": [
    "## Setup a generator"
   ]
  },
  {
   "cell_type": "code",
   "execution_count": 50,
   "metadata": {},
   "outputs": [],
   "source": [
    "n = 100\n",
    "x_train = np.array([[0]] * n)\n",
    "y_train = np.stack([midi.encode(context, mid) for _ in range(n)])"
   ]
  },
  {
   "cell_type": "code",
   "execution_count": 51,
   "metadata": {},
   "outputs": [
    {
     "data": {
      "text/plain": [
       "(100, 1)"
      ]
     },
     "execution_count": 51,
     "metadata": {},
     "output_type": "execute_result"
    }
   ],
   "source": [
    "x_train.shape"
   ]
  },
  {
   "cell_type": "code",
   "execution_count": 53,
   "metadata": {},
   "outputs": [
    {
     "data": {
      "text/plain": [
       "(100, 1)"
      ]
     },
     "execution_count": 53,
     "metadata": {},
     "output_type": "execute_result"
    }
   ],
   "source": [
    "n_samples = x_train[0]\n",
    "input_shape = x_train.shape[1:] # shape of a single sample\n",
    "output_shape = y_train.shape[1:]\n",
    "# output_length = y_train.shape[1]\n",
    "# output_length = (y_train[0]).shape[0] # = length of an individual label\n",
    "hidden_layer_length = input_shape[0]\n",
    "x_train.shape"
   ]
  },
  {
   "cell_type": "code",
   "execution_count": 54,
   "metadata": {},
   "outputs": [],
   "source": [
    "def decoder(input_length, output_shape, dropout=0.10):\n",
    "    input_layer = Input(shape=(input_length,))\n",
    "    x = input_layer\n",
    "    shape = (10,100) # 1 additional dimension\n",
    "    x = Dense(np.prod(shape), activation='relu')(x) # 4*4*8 = 128\n",
    "    x = Reshape(shape)(x)\n",
    "    x = UpSampling1D(10)(x)\n",
    "    x = Conv1D(100, 2, strides=2, activation='relu')(x) # 50,100\n",
    "    x = UpSampling1D(output_shape[0] / 50)(x)\n",
    "    x = Dense(output_shape[1], activation='relu')(x)\n",
    "#     x = Dense(output_shape[1], activation='relu')(x)\n",
    "#     x = Dense(output_shape[1], activation='relu')(x)\n",
    "    #     x = LocallyConnected1D(output_shape[1], kernel_size=1, activation='relu')(x)\n",
    "    # x = Dense(output_length, activation='softmax')(x)\n",
    "    model = Model(inputs=input_layer, outputs=x)\n",
    "    #     model.add(Dropout(dropout))\n",
    "    return model, model.summary"
   ]
  },
  {
   "cell_type": "code",
   "execution_count": 55,
   "metadata": {},
   "outputs": [
    {
     "name": "stdout",
     "output_type": "stream",
     "text": [
      "_________________________________________________________________\n",
      "Layer (type)                 Output Shape              Param #   \n",
      "=================================================================\n",
      "input_5 (InputLayer)         (None, 1)                 0         \n",
      "_________________________________________________________________\n",
      "dense_13 (Dense)             (None, 1000)              2000      \n",
      "_________________________________________________________________\n",
      "reshape_5 (Reshape)          (None, 10, 100)           0         \n",
      "_________________________________________________________________\n",
      "up_sampling1d_9 (UpSampling1 (None, 100, 100)          0         \n",
      "_________________________________________________________________\n",
      "conv1d_5 (Conv1D)            (None, 50, 100)           20100     \n",
      "_________________________________________________________________\n",
      "up_sampling1d_10 (UpSampling (None, 1000, 100)         0         \n",
      "_________________________________________________________________\n",
      "dense_14 (Dense)             (None, 1000, 127)         12827     \n",
      "=================================================================\n",
      "Total params: 34,927\n",
      "Trainable params: 34,927\n",
      "Non-trainable params: 0\n",
      "_________________________________________________________________\n"
     ]
    }
   ],
   "source": [
    "model, summary = decoder(hidden_layer_length, output_shape)\n",
    "summary()"
   ]
  },
  {
   "cell_type": "code",
   "execution_count": 56,
   "metadata": {},
   "outputs": [],
   "source": [
    "metrics = ['accuracy','mse','categorical_crossentropy']\n",
    "loss = 'binary_crossentropy'# binary_crossentropy categorical_crossentropy\n",
    "optimizer = 'adadelta'\n",
    "model.compile(optimizer=optimizer, loss=loss, metrics=metrics)"
   ]
  },
  {
   "cell_type": "code",
   "execution_count": 57,
   "metadata": {},
   "outputs": [],
   "source": [
    "batch_size = 16\n",
    "# n epochs = n iterations over all the training data\n",
    "epochs = 50"
   ]
  },
  {
   "cell_type": "code",
   "execution_count": 58,
   "metadata": {},
   "outputs": [
    {
     "name": "stdout",
     "output_type": "stream",
     "text": [
      "Epoch 1/50\n",
      "100/100 [==============================] - 2s 20ms/step - loss: 0.0010 - acc: 0.9999 - mean_squared_error: 6.2992e-05 - categorical_crossentropy: nan\n",
      "Epoch 2/50\n",
      "100/100 [==============================] - 1s 13ms/step - loss: 0.0010 - acc: 0.9999 - mean_squared_error: 6.2992e-05 - categorical_crossentropy: nan\n",
      "Epoch 3/50\n",
      "100/100 [==============================] - 1s 14ms/step - loss: 0.0010 - acc: 0.9999 - mean_squared_error: 6.2992e-05 - categorical_crossentropy: nan\n",
      "Epoch 4/50\n",
      "100/100 [==============================] - 1s 14ms/step - loss: 0.0010 - acc: 0.9999 - mean_squared_error: 6.2992e-05 - categorical_crossentropy: nan\n",
      "Epoch 5/50\n",
      "100/100 [==============================] - 1s 14ms/step - loss: 0.0010 - acc: 0.9999 - mean_squared_error: 6.2992e-05 - categorical_crossentropy: nan\n",
      "Epoch 6/50\n",
      "100/100 [==============================] - 1s 15ms/step - loss: 0.0010 - acc: 0.9999 - mean_squared_error: 6.2992e-05 - categorical_crossentropy: nan\n",
      "Epoch 7/50\n",
      "100/100 [==============================] - 1s 14ms/step - loss: 0.0010 - acc: 0.9999 - mean_squared_error: 6.2992e-05 - categorical_crossentropy: nan\n",
      "Epoch 8/50\n",
      "100/100 [==============================] - 1s 13ms/step - loss: 0.0010 - acc: 0.9999 - mean_squared_error: 6.2992e-05 - categorical_crossentropy: nan\n",
      "Epoch 9/50\n",
      "100/100 [==============================] - 1s 14ms/step - loss: 0.0010 - acc: 0.9999 - mean_squared_error: 6.2992e-05 - categorical_crossentropy: nan\n",
      "Epoch 10/50\n",
      "100/100 [==============================] - 1s 14ms/step - loss: 0.0010 - acc: 0.9999 - mean_squared_error: 6.2992e-05 - categorical_crossentropy: nan\n",
      "Epoch 11/50\n",
      "100/100 [==============================] - 1s 14ms/step - loss: 0.0010 - acc: 0.9999 - mean_squared_error: 6.2992e-05 - categorical_crossentropy: nan\n",
      "Epoch 12/50\n",
      "100/100 [==============================] - 1s 14ms/step - loss: 0.0010 - acc: 0.9999 - mean_squared_error: 6.2992e-05 - categorical_crossentropy: nan\n",
      "Epoch 13/50\n",
      "100/100 [==============================] - 1s 14ms/step - loss: 0.0010 - acc: 0.9999 - mean_squared_error: 6.2992e-05 - categorical_crossentropy: nan\n",
      "Epoch 14/50\n",
      "100/100 [==============================] - 1s 14ms/step - loss: 0.0010 - acc: 0.9999 - mean_squared_error: 6.2992e-05 - categorical_crossentropy: nan\n",
      "Epoch 15/50\n",
      "100/100 [==============================] - 1s 14ms/step - loss: 0.0010 - acc: 0.9999 - mean_squared_error: 6.2992e-05 - categorical_crossentropy: nan\n",
      "Epoch 16/50\n",
      "100/100 [==============================] - 1s 13ms/step - loss: 0.0010 - acc: 0.9999 - mean_squared_error: 6.2992e-05 - categorical_crossentropy: nan\n",
      "Epoch 17/50\n",
      "100/100 [==============================] - 1s 13ms/step - loss: 0.0010 - acc: 0.9999 - mean_squared_error: 6.2992e-05 - categorical_crossentropy: nan\n",
      "Epoch 18/50\n",
      "100/100 [==============================] - 1s 14ms/step - loss: 0.0010 - acc: 0.9999 - mean_squared_error: 6.2992e-05 - categorical_crossentropy: nan\n",
      "Epoch 19/50\n",
      "100/100 [==============================] - 1s 14ms/step - loss: 0.0010 - acc: 0.9999 - mean_squared_error: 6.2992e-05 - categorical_crossentropy: nan\n",
      "Epoch 20/50\n",
      "100/100 [==============================] - 1s 15ms/step - loss: 0.0010 - acc: 0.9999 - mean_squared_error: 6.2992e-05 - categorical_crossentropy: nan\n",
      "Epoch 21/50\n",
      "100/100 [==============================] - 2s 15ms/step - loss: 0.0010 - acc: 0.9999 - mean_squared_error: 6.2992e-05 - categorical_crossentropy: nan\n",
      "Epoch 22/50\n",
      "100/100 [==============================] - 2s 15ms/step - loss: 0.0010 - acc: 0.9999 - mean_squared_error: 6.2992e-05 - categorical_crossentropy: nan\n",
      "Epoch 23/50\n",
      "100/100 [==============================] - 2s 15ms/step - loss: 0.0010 - acc: 0.9999 - mean_squared_error: 6.2992e-05 - categorical_crossentropy: nan\n",
      "Epoch 24/50\n",
      "100/100 [==============================] - 2s 16ms/step - loss: 0.0010 - acc: 0.9999 - mean_squared_error: 6.2992e-05 - categorical_crossentropy: nan\n",
      "Epoch 25/50\n",
      "100/100 [==============================] - 1s 15ms/step - loss: 0.0010 - acc: 0.9999 - mean_squared_error: 6.2992e-05 - categorical_crossentropy: nan\n",
      "Epoch 26/50\n",
      "100/100 [==============================] - 1s 15ms/step - loss: 0.0010 - acc: 0.9999 - mean_squared_error: 6.2992e-05 - categorical_crossentropy: nan\n",
      "Epoch 27/50\n",
      "100/100 [==============================] - 1s 15ms/step - loss: 0.0010 - acc: 0.9999 - mean_squared_error: 6.2992e-05 - categorical_crossentropy: nan\n",
      "Epoch 28/50\n",
      "100/100 [==============================] - 1s 14ms/step - loss: 0.0010 - acc: 0.9999 - mean_squared_error: 6.2992e-05 - categorical_crossentropy: nan\n",
      "Epoch 29/50\n",
      "100/100 [==============================] - 1s 14ms/step - loss: 0.0010 - acc: 0.9999 - mean_squared_error: 6.2992e-05 - categorical_crossentropy: nan\n",
      "Epoch 30/50\n",
      "100/100 [==============================] - 1s 14ms/step - loss: 0.0010 - acc: 0.9999 - mean_squared_error: 6.2992e-05 - categorical_crossentropy: nan\n",
      "Epoch 31/50\n",
      "100/100 [==============================] - 1s 14ms/step - loss: 0.0010 - acc: 0.9999 - mean_squared_error: 6.2992e-05 - categorical_crossentropy: nan\n",
      "Epoch 32/50\n",
      "100/100 [==============================] - 1s 14ms/step - loss: 0.0010 - acc: 0.9999 - mean_squared_error: 6.2992e-05 - categorical_crossentropy: nan\n",
      "Epoch 33/50\n",
      "100/100 [==============================] - 1s 14ms/step - loss: 0.0010 - acc: 0.9999 - mean_squared_error: 6.2992e-05 - categorical_crossentropy: nan\n",
      "Epoch 34/50\n",
      "100/100 [==============================] - 1s 15ms/step - loss: 0.0010 - acc: 0.9999 - mean_squared_error: 6.2992e-05 - categorical_crossentropy: nan\n",
      "Epoch 35/50\n",
      "100/100 [==============================] - 1s 15ms/step - loss: 0.0010 - acc: 0.9999 - mean_squared_error: 6.2992e-05 - categorical_crossentropy: nan\n",
      "Epoch 36/50\n",
      "100/100 [==============================] - 1s 14ms/step - loss: 0.0010 - acc: 0.9999 - mean_squared_error: 6.2992e-05 - categorical_crossentropy: nan\n",
      "Epoch 37/50\n",
      "100/100 [==============================] - 1s 14ms/step - loss: 0.0010 - acc: 0.9999 - mean_squared_error: 6.2992e-05 - categorical_crossentropy: nan\n",
      "Epoch 38/50\n",
      "100/100 [==============================] - 1s 14ms/step - loss: 0.0010 - acc: 0.9999 - mean_squared_error: 6.2992e-05 - categorical_crossentropy: nan\n",
      "Epoch 39/50\n",
      "100/100 [==============================] - 1s 13ms/step - loss: 0.0010 - acc: 0.9999 - mean_squared_error: 6.2992e-05 - categorical_crossentropy: nan\n",
      "Epoch 40/50\n",
      "100/100 [==============================] - 1s 13ms/step - loss: 0.0010 - acc: 0.9999 - mean_squared_error: 6.2992e-05 - categorical_crossentropy: nan\n",
      "Epoch 41/50\n",
      "100/100 [==============================] - 1s 14ms/step - loss: 0.0010 - acc: 0.9999 - mean_squared_error: 6.2992e-05 - categorical_crossentropy: nan\n",
      "Epoch 42/50\n",
      "100/100 [==============================] - 1s 13ms/step - loss: 0.0010 - acc: 0.9999 - mean_squared_error: 6.2992e-05 - categorical_crossentropy: nan\n",
      "Epoch 43/50\n",
      "100/100 [==============================] - 1s 14ms/step - loss: 0.0010 - acc: 0.9999 - mean_squared_error: 6.2992e-05 - categorical_crossentropy: nan\n",
      "Epoch 44/50\n",
      "100/100 [==============================] - 1s 13ms/step - loss: 0.0010 - acc: 0.9999 - mean_squared_error: 6.2992e-05 - categorical_crossentropy: nan\n",
      "Epoch 45/50\n",
      "100/100 [==============================] - 1s 14ms/step - loss: 0.0010 - acc: 0.9999 - mean_squared_error: 6.2992e-05 - categorical_crossentropy: nan\n",
      "Epoch 46/50\n",
      "100/100 [==============================] - 1s 14ms/step - loss: 0.0010 - acc: 0.9999 - mean_squared_error: 6.2992e-05 - categorical_crossentropy: nan\n",
      "Epoch 47/50\n",
      "100/100 [==============================] - 1s 14ms/step - loss: 0.0010 - acc: 0.9999 - mean_squared_error: 6.2992e-05 - categorical_crossentropy: nan\n",
      "Epoch 48/50\n",
      "100/100 [==============================] - 1s 14ms/step - loss: 0.0010 - acc: 0.9999 - mean_squared_error: 6.2992e-05 - categorical_crossentropy: nan\n",
      "Epoch 49/50\n",
      "100/100 [==============================] - 1s 13ms/step - loss: 0.0010 - acc: 0.9999 - mean_squared_error: 6.2992e-05 - categorical_crossentropy: nan\n",
      "Epoch 50/50\n",
      "100/100 [==============================] - 1s 14ms/step - loss: 0.0010 - acc: 0.9999 - mean_squared_error: 6.2992e-05 - categorical_crossentropy: nan\n"
     ]
    },
    {
     "data": {
      "text/plain": [
       "<keras.callbacks.History at 0x1063aedd8>"
      ]
     },
     "execution_count": 58,
     "metadata": {},
     "output_type": "execute_result"
    }
   ],
   "source": [
    "model.fit(x_train, y_train, epochs=epochs, batch_size=batch_size, callbacks=[TensorBoard(log_dir=config.tmp_log_dir)])\n",
    "# model.fit(x_train, y_train, epochs=epochs, batch_size=batch_size,\n",
    "#           validation_split=1/6, callbacks=[TensorBoard(log_dir=config.tmp_model_dir)])"
   ]
  },
  {
   "cell_type": "code",
   "execution_count": null,
   "metadata": {},
   "outputs": [],
   "source": []
  },
  {
   "cell_type": "code",
   "execution_count": null,
   "metadata": {},
   "outputs": [],
   "source": []
  },
  {
   "cell_type": "code",
   "execution_count": null,
   "metadata": {},
   "outputs": [],
   "source": []
  }
 ],
 "metadata": {
  "kernelspec": {
   "display_name": "Python 3",
   "language": "python",
   "name": "python3"
  },
  "language_info": {
   "codemirror_mode": {
    "name": "ipython",
    "version": 3
   },
   "file_extension": ".py",
   "mimetype": "text/x-python",
   "name": "python",
   "nbconvert_exporter": "python",
   "pygments_lexer": "ipython3",
   "version": "3.6.4"
  }
 },
 "nbformat": 4,
 "nbformat_minor": 2
}
