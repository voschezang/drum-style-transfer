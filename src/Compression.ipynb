{
 "cells": [
  {
   "cell_type": "code",
   "execution_count": 34,
   "metadata": {},
   "outputs": [],
   "source": [
    "import os\n",
    "import bz2"
   ]
  },
  {
   "cell_type": "code",
   "execution_count": 35,
   "metadata": {},
   "outputs": [
    {
     "data": {
      "text/plain": [
       "[(0, '../midis/y_pred0.mid'),\n",
       " (1, '../midis/y_pred399.mid'),\n",
       " (2, '../midis/generated-4.mid'),\n",
       " (3, '../midis/generated-5.mid'),\n",
       " (4, '../midis/y_pred100.mid'),\n",
       " (5, '../midis/generated-2.mid'),\n",
       " (6, '../midis/y_true_11.mid'),\n",
       " (7, '../midis/generated-3.mid'),\n",
       " (8, '../midis/generated-1.mid'),\n",
       " (9, '../midis/generated-0.mid'),\n",
       " (10, '../midis/README.md'),\n",
       " (11, '../midis/y_true_0.mid'),\n",
       " (12, '../midis/y_pred11.mid'),\n",
       " (13, '../midis/y_true_399.mid'),\n",
       " (14, '../midis/id.txt'),\n",
       " (15, '../midis/y_true_100.mid')]"
      ]
     },
     "execution_count": 35,
     "metadata": {},
     "output_type": "execute_result"
    }
   ],
   "source": [
    "dn = '../midis/'\n",
    "files = [ dn + fn for fn in os.listdir(dn) ]\n",
    "list(enumerate(files))"
   ]
  },
  {
   "cell_type": "code",
   "execution_count": 96,
   "metadata": {
    "scrolled": false
   },
   "outputs": [
    {
     "name": "stdout",
     "output_type": "stream",
     "text": [
      "<class '_io.TextIOWrapper'> <_io.TextIOWrapper name='../midis/id.txt' mode='r' encoding='UTF-8'>\n",
      "type: <class 'str'>, len: 2796\n",
      "<class 'bytes'> b'BZh91AY&SY'\n",
      "1497 vs 2796\n",
      "2796 2796\n",
      "False\n",
      "<class 'str'>\n",
      "... betere data: from 3 genres\n",
      "exp\n"
     ]
    }
   ],
   "source": [
    "with open(files[14]) as f:\n",
    "    print(type(f), f)\n",
    "    data = f.read()\n",
    "    print('type: %s, len: %i' % (type(data), len(data)))\n",
    "    data = data.encode('utf-8')\n",
    "    compressed = bz2.compress(data)\n",
    "    print(type(compressed), compressed[:10])\n",
    "    print('%i vs %i' % (len(compressed), len(data)))\n",
    "    decompressed = bz2.decompress(compressed)\n",
    "    print(len(decompressed), len(decompressed.decode()))\n",
    "    print(decompressed.decode() == f.read())\n",
    "    print(type(decompressed.decode()))\n",
    "    print('...',decompressed.decode()[:30])"
   ]
  },
  {
   "cell_type": "code",
   "execution_count": 70,
   "metadata": {},
   "outputs": [
    {
     "data": {
      "text/plain": [
       "(1497, 2796)"
      ]
     },
     "execution_count": 70,
     "metadata": {},
     "output_type": "execute_result"
    }
   ],
   "source": []
  },
  {
   "cell_type": "code",
   "execution_count": null,
   "metadata": {},
   "outputs": [],
   "source": []
  },
  {
   "cell_type": "code",
   "execution_count": null,
   "metadata": {},
   "outputs": [],
   "source": []
  },
  {
   "cell_type": "code",
   "execution_count": null,
   "metadata": {},
   "outputs": [],
   "source": []
  }
 ],
 "metadata": {
  "kernelspec": {
   "display_name": "Python 3",
   "language": "python",
   "name": "python3"
  },
  "language_info": {
   "codemirror_mode": {
    "name": "ipython",
    "version": 3
   },
   "file_extension": ".py",
   "mimetype": "text/x-python",
   "name": "python",
   "nbconvert_exporter": "python",
   "pygments_lexer": "ipython3",
   "version": "3.6.5"
  }
 },
 "nbformat": 4,
 "nbformat_minor": 2
}
