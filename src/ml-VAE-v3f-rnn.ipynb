{
 "cells": [
  {
   "cell_type": "code",
   "execution_count": 15,
   "metadata": {},
   "outputs": [],
   "source": [
    "from __future__ import division\n",
    "\n",
    "import collections\n",
    "import numpy as np\n",
    "import matplotlib.pyplot as plt\n",
    "from scipy.stats import norm\n",
    "\n",
    "## NN libs\n",
    "import keras\n",
    "from keras import backend as K\n",
    "from keras import regularizers\n",
    "from keras.utils import to_categorical\n",
    "from keras.optimizers import SGD, Adam\n",
    "from keras.layers import *\n",
    "from keras.preprocessing.image import ImageDataGenerator\n",
    "from keras.models import Model\n",
    "from keras.callbacks import TensorBoard"
   ]
  },
  {
   "cell_type": "code",
   "execution_count": 16,
   "metadata": {},
   "outputs": [],
   "source": [
    "import config\n",
    "import os, numpy as np, pandas, sklearn, scipy.signal as signal\n",
    "import mido\n",
    "import matplotlib.pyplot as plt\n",
    "%matplotlib inline"
   ]
  },
  {
   "cell_type": "code",
   "execution_count": 17,
   "metadata": {},
   "outputs": [],
   "source": [
    "# local libs\n",
    "import config, models, setup\n",
    "import midi\n",
    "from midi import generators as g\n",
    "from utils import io, models_io, utils, plot"
   ]
  },
  {
   "cell_type": "code",
   "execution_count": 18,
   "metadata": {},
   "outputs": [
    {
     "name": "stdout",
     "output_type": "stream",
     "text": [
      " Context :: namedtuple(\n",
      "[ max_t = float\n",
      ", dt = float\n",
      ", n_timestesp = int\n",
      ", note_length = int\n",
      ", bpm = float\n",
      ", tempo = float\n",
      ", ticks_per_beat = int\n",
      "]\n",
      "\n",
      "Setting up params\n",
      "\n",
      "max min f 10.0 0.5\n",
      " >> Context(max_t=2.0, dt=0.05, n_timesteps=40, note_length=0.03, bpm=120.0, tempo=500000, ticks_per_beat=480)\n",
      " sample length:  40.000000\n",
      " max_f: 10.000000, min_f: 0.500000\n"
     ]
    }
   ],
   "source": [
    "context = setup.init()"
   ]
  },
  {
   "cell_type": "code",
   "execution_count": 19,
   "metadata": {
    "scrolled": true
   },
   "outputs": [
    {
     "name": "stdout",
     "output_type": "stream",
     "text": [
      "\n",
      "Importing midi-data\n",
      "\n",
      "Encoding midi-data\n",
      " 100\n",
      "> -> multi-track = True MidiFile\n",
      "\u001b[92m [INFO] : \u001b[0m\n",
      " |  True\n"
     ]
    }
   ],
   "source": [
    "n = 100 * 1\n",
    "dim4 = True\n",
    "multiTrack = True\n",
    "reduce_dims = midi.ReduceDimsOptions.MIDIFILE # GLOBAL\n",
    "dn = 'drum_midi/'\n",
    "x_train, labels = setup.import_data(context, n, dim4=dim4, reduce_dims=reduce_dims, dirname=dn, multiTrack=multiTrack, r=True)"
   ]
  },
  {
   "cell_type": "code",
   "execution_count": 20,
   "metadata": {},
   "outputs": [],
   "source": [
    "# n = 1000\n",
    "# min_f = 0\n",
    "# max_f = 3\n",
    "# x_train, params = g.gen_data_complex(context, n, max_f=max_f, min_f=min_f,\n",
    "#     n_polyrythms=1,\n",
    "#     n_channels=3,\n",
    "#     d_phase=True,\n",
    "#     return_params=True,\n",
    "#     dim4=dim4,\n",
    "#     multiTrack=multiTrack)"
   ]
  },
  {
   "cell_type": "code",
   "execution_count": 21,
   "metadata": {},
   "outputs": [
    {
     "data": {
      "text/plain": [
       "(100, 40, 10, 1)"
      ]
     },
     "execution_count": 21,
     "metadata": {},
     "output_type": "execute_result"
    }
   ],
   "source": [
    "x_train.shape"
   ]
  },
  {
   "cell_type": "code",
   "execution_count": 120,
   "metadata": {},
   "outputs": [
    {
     "data": {
      "text/plain": [
       "[(90, 40, 10, 1), 81]"
      ]
     },
     "execution_count": 120,
     "metadata": {},
     "output_type": "execute_result"
    }
   ],
   "source": [
    "m = int(x_train.shape[0] * 0.9)\n",
    "[x_train.shape, m]"
   ]
  },
  {
   "cell_type": "code",
   "execution_count": 121,
   "metadata": {},
   "outputs": [],
   "source": [
    "x_test = x_train[m:]\n",
    "x_train = x_train[:m]"
   ]
  },
  {
   "cell_type": "code",
   "execution_count": 122,
   "metadata": {},
   "outputs": [
    {
     "name": "stdout",
     "output_type": "stream",
     "text": [
      "m (40, 10)\n"
     ]
    },
    {
     "data": {
      "image/png": "[encoded data removed]",
      "text/plain": [
       "<matplotlib.figure.Figure at 0x125d3c2e8>"
      ]
     },
     "metadata": {},
     "output_type": "display_data"
    },
    {
     "name": "stdout",
     "output_type": "stream",
     "text": [
      "m (40, 10)\n"
     ]
    },
    {
     "data": {
      "image/png": "[encoded data removed]",
      "text/plain": [
       "<matplotlib.figure.Figure at 0x125e3db70>"
      ]
     },
     "metadata": {},
     "output_type": "display_data"
    },
    {
     "name": "stdout",
     "output_type": "stream",
     "text": [
      "m (40, 10)\n"
     ]
    },
    {
     "data": {
      "image/png": "[encoded data removed]",
      "text/plain": [
       "<matplotlib.figure.Figure at 0x125e3df28>"
      ]
     },
     "metadata": {},
     "output_type": "display_data"
    },
    {
     "data": {
      "text/plain": [
       "[\"../datasets/drum_midi//50´s Drummer MIDI Files/01 Rock'n'Roll/01 Dancin Rick 166BPM/01 8th Hat.mid\",\n",
       " \"../datasets/drum_midi//50´s Drummer MIDI Files/01 Rock'n'Roll/01 Dancin Rick 166BPM/02 8th Ride.mid\",\n",
       " \"../datasets/drum_midi//50´s Drummer MIDI Files/01 Rock'n'Roll/01 Dancin Rick 166BPM/03 16th Snare.mid\",\n",
       " \"../datasets/drum_midi//50´s Drummer MIDI Files/01 Rock'n'Roll/01 Dancin Rick 166BPM/04 8th Ride.mid\"]"
      ]
     },
     "execution_count": 122,
     "metadata": {},
     "output_type": "execute_result"
    }
   ],
   "source": [
    "plot.single(x_train[0, :50,:,0])\n",
    "plot.single(x_train[1, :50,:,0])\n",
    "plot.single(x_train[2, :50,:,0])\n",
    "labels[0:4]"
   ]
  },
  {
   "cell_type": "code",
   "execution_count": 123,
   "metadata": {},
   "outputs": [
    {
     "data": {
      "text/plain": [
       "(40, 10, 1)"
      ]
     },
     "execution_count": 123,
     "metadata": {},
     "output_type": "execute_result"
    }
   ],
   "source": [
    "input_shape = x_train[0].shape\n",
    "timesteps = input_shape[0]\n",
    "notes = input_shape[1]\n",
    "input_shape"
   ]
  },
  {
   "cell_type": "code",
   "execution_count": 124,
   "metadata": {},
   "outputs": [],
   "source": [
    "latent_dim = 2\n",
    "intermediate_dim = 128\n",
    "epsilon_std = 1.0"
   ]
  },
  {
   "cell_type": "code",
   "execution_count": 162,
   "metadata": {},
   "outputs": [],
   "source": [
    "def encoder(input_shape, dropout=0.05):\n",
    "    encoder_input = Input(shape=input_shape)\n",
    "    nodes = np.prod(input_shape)\n",
    "\n",
    "    # Convolution\n",
    "    h = encoder_input\n",
    "    h = Reshape(input_shape[:-1])(h)\n",
    "    h = Conv1D(32, kernel_size=2, strides=1, activation='relu', padding='valid')(h)\n",
    "    h = Conv1D(64, kernel_size=2, strides=2, activation='relu', padding='valid')(h)\n",
    "    h = Conv1D(128, kernel_size=2, strides=1, activation='relu', padding='valid')(h)\n",
    "    \n",
    "    # RNN\n",
    "    shape = K.int_shape(h)[1:]\n",
    "    h = SimpleRNN(128)(h)\n",
    "\n",
    "    # Dense layers\n",
    "#     h = Dropout(dropout)(h) # uncomment when using larger batches\n",
    "#     h = Flatten()(h)\n",
    "#     h = Dropout(dropout)(h) # uncomment when using larger batches\n",
    "    \n",
    "    h = Dense(intermediate_dim*2, activation='relu')(h)\n",
    "    h = Dense(intermediate_dim, activation='relu')(h)\n",
    "   \n",
    "    # Z Mean, Variance\n",
    "    z_mean = Dense(latent_dim, name='z_mean')(h) # , activation='relu'\n",
    "    z_log_var = Dense(latent_dim, name='z_log_var')(h) # , activation='relu'\n",
    "        \n",
    "    encoder_output = [z_mean, z_log_var]\n",
    "    encoder_model = Model(encoder_input, encoder_output, name='encoder_model-')\n",
    "    return encoder_model, encoder_input, z_mean, z_log_var"
   ]
  },
  {
   "cell_type": "code",
   "execution_count": 163,
   "metadata": {},
   "outputs": [
    {
     "name": "stdout",
     "output_type": "stream",
     "text": [
      "__________________________________________________________________________________________________\n",
      "Layer (type)                    Output Shape         Param #     Connected to                     \n",
      "==================================================================================================\n",
      "input_19 (InputLayer)           (None, 40, 10, 1)    0                                            \n",
      "__________________________________________________________________________________________________\n",
      "reshape_34 (Reshape)            (None, 40, 10)       0           input_19[0][0]                   \n",
      "__________________________________________________________________________________________________\n",
      "conv1d_49 (Conv1D)              (None, 39, 32)       672         reshape_34[0][0]                 \n",
      "__________________________________________________________________________________________________\n",
      "conv1d_50 (Conv1D)              (None, 19, 64)       4160        conv1d_49[0][0]                  \n",
      "__________________________________________________________________________________________________\n",
      "conv1d_51 (Conv1D)              (None, 18, 128)      16512       conv1d_50[0][0]                  \n",
      "__________________________________________________________________________________________________\n",
      "simple_rnn_25 (SimpleRNN)       (None, 128)          32896       conv1d_51[0][0]                  \n",
      "__________________________________________________________________________________________________\n",
      "dense_57 (Dense)                (None, 256)          33024       simple_rnn_25[0][0]              \n",
      "__________________________________________________________________________________________________\n",
      "dense_58 (Dense)                (None, 128)          32896       dense_57[0][0]                   \n",
      "__________________________________________________________________________________________________\n",
      "z_mean (Dense)                  (None, 2)            258         dense_58[0][0]                   \n",
      "__________________________________________________________________________________________________\n",
      "z_log_var (Dense)               (None, 2)            258         dense_58[0][0]                   \n",
      "==================================================================================================\n",
      "Total params: 120,676\n",
      "Trainable params: 120,676\n",
      "Non-trainable params: 0\n",
      "__________________________________________________________________________________________________\n"
     ]
    }
   ],
   "source": [
    "encoder_model, encoder_input, z_mean, z_log_var = encoder(input_shape)\n",
    "encoder_model.summary()"
   ]
  },
  {
   "cell_type": "code",
   "execution_count": 164,
   "metadata": {},
   "outputs": [],
   "source": [
    "sample_ = lambda args: models.sample(args, z_mean, z_log_var, latent_dim, epsilon_std)"
   ]
  },
  {
   "cell_type": "code",
   "execution_count": 165,
   "metadata": {},
   "outputs": [],
   "source": [
    "# z = Lambda(sampling)([z_mean, z_log_var])\n",
    "z_input = encoder_model(encoder_input)\n",
    "z_output = Lambda(sample_)(z_input)\n",
    "# z_output = Lambda(sampl_, output_shape=(latent_dim,))(encoder_input)"
   ]
  },
  {
   "cell_type": "code",
   "execution_count": 166,
   "metadata": {},
   "outputs": [],
   "source": [
    "def list_decoders(output_shape, p='same'):\n",
    "    # decoder_input = z_output\n",
    "    # h = decoder_input\n",
    "    # :output_shape = (timesteps, channels, channels) || (batches, filters, timesteps, channels)\n",
    "    # keras offers just Conv2DTranspose and not Conv1DTranspose\n",
    "    # - use 2D images during upsampling :: (timesteps, notes, channels) => (timesteps, notes, filters)\n",
    "    # - use 1D images to optimize reconstruction :: (timesteps, filters) => (timesteps, notes)\n",
    "    \n",
    "    # image_data_format = 'channels_last'\n",
    "    # goal shape: (timesteps, notes, channels)\n",
    "    # start with the 'reverse': lots of small imgs => few large img\n",
    "    \n",
    "    timesteps, notes, channels = output_shape\n",
    "    time_ = int(timesteps/10)\n",
    "    notes_ = notes * 10\n",
    "    intermediate_dim = time_ * notes_ * channels\n",
    "    # at the start of upsampling, the image-structure does not yet have to correspond to the goal structure \n",
    "    # ?TODO use y*y*y starting dims, may conv, and only then correct the structure (?)\n",
    "    output_shape = (timesteps, notes, channels)\n",
    "    nodes = np.prod(output_shape)\n",
    "    \n",
    "    decoders = []\n",
    "    decoders += [ Dense(256, activation='relu') ]\n",
    "    decoders += [ Dense(256, activation='relu') ]\n",
    "    \n",
    "    # RNN\n",
    "    decoders += [ Reshape((8, 32)) ]\n",
    "    decoders += [ SimpleRNN(128, return_sequences='True') ]\n",
    "    # TODO 2nd RNN to generate the 'repeating' state (aka decay matrix)\n",
    "    decoders += [ Flatten() ]\n",
    "    decoders += [ Dense(nodes, activation='relu') ]\n",
    "    decoders += [ Dense(nodes, activation='relu') ]\n",
    "\n",
    "\n",
    "#     # Convolve & Pool\n",
    "#     # Note that the kernel windows do not yet correspond to 'temporal' features, but rather to just spatial features\n",
    "#     k = (2,1) # (2,1) :: (timesteps, notes)\n",
    "#     s = (3,1)\n",
    "\n",
    "#     decoders += [ Reshape((time_, notes_, channels)) ]\n",
    "#     decoders += [ Conv2DTranspose(128, kernel_size=2, strides=3, activation='relu', padding=p) ]\n",
    "#     decoders += [ Conv2DTranspose(64, kernel_size=2, strides=2, activation='relu', padding=p) ]\n",
    "#     decoders += [ Conv2DTranspose(64, kernel_size=k, strides=s, activation='relu', padding=p) ]\n",
    "#     decoders += [ Conv2DTranspose(32, kernel_size=k, strides=s, activation='relu', padding=p) ]\n",
    "    \n",
    "    \n",
    "#     # 'end' of upsampling\n",
    "#     decoders += [ Conv2D(32, kernel_size=(1,2), strides=(1,3), activation='relu', padding=p) ]\n",
    "#     decoders += [ Conv2D(32, kernel_size=(1,2), strides=(1,3), activation='relu', padding=p) ]\n",
    "#     decoders += [ Conv2D(32, kernel_size=(2,1), strides=(2,1), activation='relu', padding=p) ]\n",
    "    \n",
    "#     decoders += [ Conv2D(32, kernel_size=(1,2), strides=(1,3), activation='relu', padding=p) ]    \n",
    "#     decoders += [ Conv2D(3, kernel_size=k, strides=(2,1), activation='relu', padding=p) ]\n",
    "\n",
    "#     # decoder_reshape2 = Reshape(dims[0:2])\n",
    "#     # #     h = Conv1D(16, kernel_size=2, strides=1, activation='relu', padding=p)(h)\n",
    "#     # decoder_conv2 = Conv1D(notes * m, kernel_size=2, strides=2, activation='relu', padding=p)\n",
    "    \n",
    "    \n",
    "#     # Mean (output)\n",
    "#     #     h = Conv2D(1, kernel_size=1, strides=s, activation='sigmoid', padding='same')(h)\n",
    "#     output_shape = (timesteps, notes, channels)\n",
    "    \n",
    "# #     decoders += [ Flatten()]\n",
    "#     decoders += [ Dense(np.prod(output_shape), activation='relu')]\n",
    "    decoders += [ Dense(np.prod(output_shape), activation='sigmoid')]\n",
    "    decoders += [ Reshape(output_shape)]\n",
    "    return decoders"
   ]
  },
  {
   "cell_type": "code",
   "execution_count": 167,
   "metadata": {},
   "outputs": [],
   "source": [
    "decoders = list_decoders(input_shape)"
   ]
  },
  {
   "cell_type": "code",
   "execution_count": 168,
   "metadata": {},
   "outputs": [],
   "source": [
    "decoded = utils.composition(decoders, z_output, verbose=False)"
   ]
  },
  {
   "cell_type": "code",
   "execution_count": 169,
   "metadata": {},
   "outputs": [
    {
     "name": "stdout",
     "output_type": "stream",
     "text": [
      "__________________________________________________________________________________________________\n",
      "Layer (type)                    Output Shape         Param #     Connected to                     \n",
      "==================================================================================================\n",
      "input_19 (InputLayer)           (None, 40, 10, 1)    0                                            \n",
      "__________________________________________________________________________________________________\n",
      "encoder_model- (Model)          [(None, 2), (None, 2 120676      input_19[0][0]                   \n",
      "__________________________________________________________________________________________________\n",
      "lambda_4 (Lambda)               (None, 2)            0           encoder_model-[1][0]             \n",
      "                                                                 encoder_model-[1][1]             \n",
      "__________________________________________________________________________________________________\n",
      "dense_59 (Dense)                (None, 256)          768         lambda_4[0][0]                   \n",
      "__________________________________________________________________________________________________\n",
      "dense_60 (Dense)                (None, 256)          65792       dense_59[0][0]                   \n",
      "__________________________________________________________________________________________________\n",
      "reshape_35 (Reshape)            (None, 8, 32)        0           dense_60[0][0]                   \n",
      "__________________________________________________________________________________________________\n",
      "simple_rnn_26 (SimpleRNN)       (None, 8, 128)       20608       reshape_35[0][0]                 \n",
      "__________________________________________________________________________________________________\n",
      "flatten_8 (Flatten)             (None, 1024)         0           simple_rnn_26[0][0]              \n",
      "__________________________________________________________________________________________________\n",
      "dense_61 (Dense)                (None, 400)          410000      flatten_8[0][0]                  \n",
      "__________________________________________________________________________________________________\n",
      "dense_62 (Dense)                (None, 400)          160400      dense_61[0][0]                   \n",
      "__________________________________________________________________________________________________\n",
      "dense_63 (Dense)                (None, 400)          160400      dense_62[0][0]                   \n",
      "__________________________________________________________________________________________________\n",
      "reshape_36 (Reshape)            (None, 40, 10, 1)    0           dense_63[0][0]                   \n",
      "==================================================================================================\n",
      "Total params: 938,644\n",
      "Trainable params: 938,644\n",
      "Non-trainable params: 0\n",
      "__________________________________________________________________________________________________\n"
     ]
    }
   ],
   "source": [
    "# instantiate VAE model\n",
    "vae_input = encoder_input\n",
    "vae_output = decoded\n",
    "vae = Model(vae_input, vae_output)\n",
    "vae.summary()"
   ]
  },
  {
   "cell_type": "code",
   "execution_count": 170,
   "metadata": {
    "scrolled": true
   },
   "outputs": [
    {
     "name": "stderr",
     "output_type": "stream",
     "text": [
      "/Library/Frameworks/Python.framework/Versions/3.6/lib/python3.6/site-packages/ipykernel_launcher.py:11: UserWarning: Output \"reshape_36\" missing from loss dictionary. We assume this was done on purpose, and we will not be expecting any data to be passed to \"reshape_36\" during training.\n",
      "  # This is added back by InteractiveShellApp.init_path()\n"
     ]
    }
   ],
   "source": [
    "# Compute VAE loss\n",
    "def vae_loss(beta=1.):\n",
    "    # y_true, y_pred, z_mean, z_log_var, timesteps=150, notes=3, beta=1.\n",
    "    xent_loss = timesteps * notes * keras.metrics.binary_crossentropy(K.flatten(vae_input), K.flatten(vae_output))\n",
    "    kl_loss = - 0.5 * K.sum(1 + z_log_var - K.square(z_mean) - K.exp(z_log_var), axis=-1)\n",
    "    vae_loss = K.mean(xent_loss + beta * kl_loss)\n",
    "    return vae_loss\n",
    "\n",
    "vae_loss = vae_loss(beta=1)\n",
    "vae.add_loss(vae_loss)\n",
    "vae.compile(optimizer='rmsprop')\n",
    "# vae.compile(optimizer=optimizer, loss=loss, metrics=metrics)"
   ]
  },
  {
   "cell_type": "code",
   "execution_count": 171,
   "metadata": {},
   "outputs": [],
   "source": [
    "batch_size = 100\n",
    "epochs = 100\n",
    "params = {'batch_size': batch_size, 'return_y': False}"
   ]
  },
  {
   "cell_type": "code",
   "execution_count": 172,
   "metadata": {},
   "outputs": [],
   "source": [
    "phase_mod = 0.01\n",
    "whitening = False"
   ]
  },
  {
   "cell_type": "code",
   "execution_count": 173,
   "metadata": {},
   "outputs": [
    {
     "data": {
      "text/plain": [
       "(81, 40, 10, 1)"
      ]
     },
     "execution_count": 173,
     "metadata": {},
     "output_type": "execute_result"
    }
   ],
   "source": [
    "x_train.shape"
   ]
  },
  {
   "cell_type": "code",
   "execution_count": 174,
   "metadata": {
    "scrolled": true
   },
   "outputs": [
    {
     "name": "stdout",
     "output_type": "stream",
     "text": [
      "batch_size = 100\n",
      "\n",
      "[Epoch 0/100] >>>>>>>>>\n",
      " Batch 0/0\n",
      " \\_loss [278.0]\n",
      "\n",
      "[Epoch 1/100] >>>>>>>>>\n",
      " Batch 0/0\n",
      " \\_loss [262.0]\n",
      "\n",
      "[Epoch 2/100] >>>>>>>>>\n",
      " Batch 0/0\n",
      " \\_loss [141.0]\n",
      "\n",
      "[Epoch 3/100] >>>>>>>>>\n",
      " Batch 0/0\n",
      " \\_loss [133.0]\n",
      "\n",
      "[Epoch 4/100] >>>>>>>>>\n",
      " Batch 0/0\n",
      " \\_loss [82.0]\n",
      "\n",
      "[Epoch 5/100] >>>>>>>>>\n",
      " Batch 0/0\n",
      " \\_loss [83.0]\n",
      "\n",
      "[Epoch 6/100] >>>>>>>>>\n",
      " Batch 0/0\n",
      " \\_loss [81.0]\n",
      "\n",
      "[Epoch 7/100] >>>>>>>>>\n",
      " Batch 0/0\n",
      " \\_loss [77.0]\n",
      "\n",
      "[Epoch 8/100] >>>>>>>>>\n",
      " Batch 0/0\n",
      " \\_loss [63.0]\n",
      "\n",
      "[Epoch 9/100] >>>>>>>>>\n",
      " Batch 0/0\n",
      " \\_loss [61.0]\n",
      "\n",
      "[Epoch 10/100] >>>>>>>>>\n",
      " Batch 0/0\n",
      " \\_loss [60.0]\n",
      "\n",
      "[Epoch 11/100] >>>>>>>>>\n",
      " Batch 0/0\n",
      " \\_loss [62.0]\n",
      "\n",
      "[Epoch 12/100] >>>>>>>>>\n",
      " Batch 0/0\n",
      " \\_loss [61.0]\n",
      "\n",
      "[Epoch 13/100] >>>>>>>>>\n",
      " Batch 0/0\n",
      " \\_loss [59.0]\n",
      "\n",
      "[Epoch 14/100] >>>>>>>>>\n",
      " Batch 0/0\n",
      " \\_loss [59.0]\n",
      "\n",
      "[Epoch 15/100] >>>>>>>>>\n",
      " Batch 0/0\n",
      " \\_loss [62.0]\n",
      "\n",
      "[Epoch 16/100] >>>>>>>>>\n",
      " Batch 0/0\n",
      " \\_loss [60.0]\n",
      "\n",
      "[Epoch 17/100] >>>>>>>>>\n",
      " Batch 0/0\n",
      " \\_loss [59.0]\n",
      "\n",
      "[Epoch 18/100] >>>>>>>>>\n",
      " Batch 0/0\n",
      " \\_loss [60.0]\n",
      "\n",
      "[Epoch 19/100] >>>>>>>>>\n",
      " Batch 0/0\n",
      " \\_loss [62.0]\n",
      "\n",
      "[Epoch 20/100] >>>>>>>>>\n",
      " Batch 0/0\n",
      " \\_loss [61.0]\n",
      "\n",
      "[Epoch 21/100] >>>>>>>>>\n",
      " Batch 0/0\n",
      " \\_loss [62.0]\n",
      "\n",
      "[Epoch 22/100] >>>>>>>>>\n",
      " Batch 0/0\n",
      " \\_loss [62.0]\n",
      "\n",
      "[Epoch 23/100] >>>>>>>>>\n",
      " Batch 0/0\n",
      " \\_loss [63.0]\n",
      "\n",
      "[Epoch 24/100] >>>>>>>>>\n",
      " Batch 0/0\n",
      " \\_loss [63.0]\n",
      "\n",
      "[Epoch 25/100] >>>>>>>>>\n",
      " Batch 0/0\n",
      " \\_loss [62.0]\n",
      "\n",
      "[Epoch 26/100] >>>>>>>>>\n",
      " Batch 0/0\n",
      " \\_loss [61.0]\n",
      "\n",
      "[Epoch 27/100] >>>>>>>>>\n",
      " Batch 0/0\n",
      " \\_loss [60.0]\n",
      "\n",
      "[Epoch 28/100] >>>>>>>>>\n",
      " Batch 0/0\n",
      " \\_loss [59.0]\n",
      "\n",
      "[Epoch 29/100] >>>>>>>>>\n",
      " Batch 0/0\n",
      " \\_loss [57.0]\n",
      "\n",
      "[Epoch 30/100] >>>>>>>>>\n",
      " Batch 0/0\n",
      " \\_loss [59.0]\n",
      "\n",
      "[Epoch 31/100] >>>>>>>>>\n",
      " Batch 0/0\n",
      " \\_loss [59.0]\n",
      "\n",
      "[Epoch 32/100] >>>>>>>>>\n",
      " Batch 0/0\n",
      " \\_loss [59.0]\n",
      "\n",
      "[Epoch 33/100] >>>>>>>>>\n",
      " Batch 0/0\n",
      " \\_loss [58.0]\n",
      "\n",
      "[Epoch 34/100] >>>>>>>>>\n",
      " Batch 0/0\n",
      " \\_loss [60.0]\n",
      "\n",
      "[Epoch 35/100] >>>>>>>>>\n",
      " Batch 0/0\n",
      " \\_loss [58.0]\n",
      "\n",
      "[Epoch 36/100] >>>>>>>>>\n",
      " Batch 0/0\n",
      " \\_loss [58.0]\n",
      "\n",
      "[Epoch 37/100] >>>>>>>>>\n",
      " Batch 0/0\n",
      " \\_loss [59.0]\n",
      "\n",
      "[Epoch 38/100] >>>>>>>>>\n",
      " Batch 0/0\n",
      " \\_loss [59.0]\n",
      "\n",
      "[Epoch 39/100] >>>>>>>>>\n",
      " Batch 0/0\n",
      " \\_loss [60.0]\n",
      "\n",
      "[Epoch 40/100] >>>>>>>>>\n",
      " Batch 0/0\n",
      " \\_loss [59.0]\n",
      "\n",
      "[Epoch 41/100] >>>>>>>>>\n",
      " Batch 0/0\n",
      " \\_loss [60.0]\n",
      "\n",
      "[Epoch 42/100] >>>>>>>>>\n",
      " Batch 0/0\n",
      " \\_loss [59.0]\n",
      "\n",
      "[Epoch 43/100] >>>>>>>>>\n",
      " Batch 0/0\n",
      " \\_loss [62.0]\n",
      "\n",
      "[Epoch 44/100] >>>>>>>>>\n",
      " Batch 0/0\n",
      " \\_loss [65.0]\n",
      "\n",
      "[Epoch 45/100] >>>>>>>>>\n",
      " Batch 0/0\n",
      " \\_loss [64.0]\n",
      "\n",
      "[Epoch 46/100] >>>>>>>>>\n",
      " Batch 0/0\n",
      " \\_loss [60.0]\n",
      "\n",
      "[Epoch 47/100] >>>>>>>>>\n",
      " Batch 0/0\n",
      " \\_loss [59.0]\n",
      "\n",
      "[Epoch 48/100] >>>>>>>>>\n",
      " Batch 0/0\n",
      " \\_loss [59.0]\n",
      "\n",
      "[Epoch 49/100] >>>>>>>>>\n",
      " Batch 0/0\n",
      " \\_loss [60.0]\n",
      "\n",
      "[Epoch 50/100] >>>>>>>>>\n",
      " Batch 0/0\n",
      " \\_loss [58.0]\n",
      "\n",
      "[Epoch 51/100] >>>>>>>>>\n",
      " Batch 0/0\n",
      " \\_loss [58.0]\n",
      "\n",
      "[Epoch 52/100] >>>>>>>>>\n",
      " Batch 0/0\n",
      " \\_loss [59.0]\n",
      "\n",
      "[Epoch 53/100] >>>>>>>>>\n",
      " Batch 0/0\n",
      " \\_loss [60.0]\n",
      "\n",
      "[Epoch 54/100] >>>>>>>>>\n",
      " Batch 0/0\n",
      " \\_loss [57.0]\n",
      "\n",
      "[Epoch 55/100] >>>>>>>>>\n",
      " Batch 0/0\n",
      " \\_loss [59.0]\n",
      "\n",
      "[Epoch 56/100] >>>>>>>>>\n",
      " Batch 0/0\n",
      " \\_loss [57.0]\n",
      "\n",
      "[Epoch 57/100] >>>>>>>>>\n",
      " Batch 0/0\n",
      " \\_loss [58.0]\n",
      "\n",
      "[Epoch 58/100] >>>>>>>>>\n",
      " Batch 0/0\n",
      " \\_loss [60.0]\n",
      "\n",
      "[Epoch 59/100] >>>>>>>>>\n",
      " Batch 0/0\n",
      " \\_loss [59.0]\n",
      "\n",
      "[Epoch 60/100] >>>>>>>>>\n",
      " Batch 0/0\n",
      " \\_loss [59.0]\n",
      "\n",
      "[Epoch 61/100] >>>>>>>>>\n",
      " Batch 0/0\n",
      " \\_loss [63.0]\n",
      "\n",
      "[Epoch 62/100] >>>>>>>>>\n",
      " Batch 0/0\n",
      " \\_loss [61.0]\n",
      "\n",
      "[Epoch 63/100] >>>>>>>>>\n",
      " Batch 0/0\n",
      " \\_loss [58.0]\n",
      "\n",
      "[Epoch 64/100] >>>>>>>>>\n",
      " Batch 0/0\n",
      " \\_loss [57.0]\n",
      "\n",
      "[Epoch 65/100] >>>>>>>>>\n",
      " Batch 0/0\n",
      " \\_loss [58.0]\n",
      "\n",
      "[Epoch 66/100] >>>>>>>>>\n",
      " Batch 0/0\n",
      " \\_loss [56.0]\n",
      "\n",
      "[Epoch 67/100] >>>>>>>>>\n",
      " Batch 0/0\n",
      " \\_loss [57.0]\n",
      "\n",
      "[Epoch 68/100] >>>>>>>>>\n",
      " Batch 0/0\n",
      " \\_loss [57.0]\n",
      "\n",
      "[Epoch 69/100] >>>>>>>>>\n",
      " Batch 0/0\n",
      " \\_loss [56.0]\n",
      "\n",
      "[Epoch 70/100] >>>>>>>>>\n",
      " Batch 0/0\n",
      " \\_loss [58.0]\n",
      "\n",
      "[Epoch 71/100] >>>>>>>>>\n",
      " Batch 0/0\n",
      " \\_loss [55.0]\n",
      "\n",
      "[Epoch 72/100] >>>>>>>>>\n",
      " Batch 0/0\n",
      " \\_loss [52.0]\n",
      "\n",
      "[Epoch 73/100] >>>>>>>>>\n",
      " Batch 0/0\n",
      " \\_loss [54.0]\n",
      "\n",
      "[Epoch 74/100] >>>>>>>>>\n",
      " Batch 0/0\n",
      " \\_loss [55.0]\n",
      "\n",
      "[Epoch 75/100] >>>>>>>>>\n",
      " Batch 0/0\n",
      " \\_loss [58.0]\n",
      "\n",
      "[Epoch 76/100] >>>>>>>>>\n",
      " Batch 0/0\n",
      " \\_loss [57.0]\n",
      "\n",
      "[Epoch 77/100] >>>>>>>>>\n",
      " Batch 0/0\n",
      " \\_loss [55.0]\n",
      "\n",
      "[Epoch 78/100] >>>>>>>>>\n",
      " Batch 0/0\n",
      " \\_loss [51.0]\n",
      "\n",
      "[Epoch 79/100] >>>>>>>>>\n",
      " Batch 0/0\n",
      " \\_loss [48.0]\n",
      "\n",
      "[Epoch 80/100] >>>>>>>>>\n",
      " Batch 0/0\n",
      " \\_loss [51.0]\n",
      "\n",
      "[Epoch 81/100] >>>>>>>>>\n",
      " Batch 0/0\n",
      " \\_loss [49.0]\n",
      "\n",
      "[Epoch 82/100] >>>>>>>>>\n",
      " Batch 0/0\n",
      " \\_loss [48.0]\n",
      "\n",
      "[Epoch 83/100] >>>>>>>>>\n",
      " Batch 0/0\n",
      " \\_loss [51.0]\n",
      "\n",
      "[Epoch 84/100] >>>>>>>>>\n",
      " Batch 0/0\n",
      " \\_loss [54.0]\n",
      "\n",
      "[Epoch 85/100] >>>>>>>>>\n",
      " Batch 0/0\n",
      " \\_loss [51.0]\n",
      "\n",
      "[Epoch 86/100] >>>>>>>>>\n",
      " Batch 0/0\n",
      " \\_loss [48.0]\n",
      "\n",
      "[Epoch 87/100] >>>>>>>>>\n",
      " Batch 0/0\n",
      " \\_loss [50.0]\n",
      "\n",
      "[Epoch 88/100] >>>>>>>>>\n",
      " Batch 0/0\n",
      " \\_loss [52.0]\n",
      "\n",
      "[Epoch 89/100] >>>>>>>>>\n",
      " Batch 0/0\n",
      " \\_loss [46.0]\n",
      "\n",
      "[Epoch 90/100] >>>>>>>>>\n",
      " Batch 0/0\n",
      " \\_loss [47.0]\n",
      "\n",
      "[Epoch 91/100] >>>>>>>>>\n",
      " Batch 0/0\n",
      " \\_loss [47.0]\n",
      "\n",
      "[Epoch 92/100] >>>>>>>>>\n",
      " Batch 0/0\n",
      " \\_loss [49.0]\n",
      "\n",
      "[Epoch 93/100] >>>>>>>>>\n",
      " Batch 0/0\n",
      " \\_loss [48.0]\n",
      "\n",
      "[Epoch 94/100] >>>>>>>>>\n",
      " Batch 0/0\n",
      " \\_loss [48.0]\n",
      "\n",
      "[Epoch 95/100] >>>>>>>>>\n",
      " Batch 0/0\n",
      " \\_loss [46.0]\n",
      "\n",
      "[Epoch 96/100] >>>>>>>>>\n",
      " Batch 0/0\n",
      " \\_loss [51.0]\n",
      "\n",
      "[Epoch 97/100] >>>>>>>>>\n",
      " Batch 0/0\n",
      " \\_loss [52.0]\n",
      "\n",
      "[Epoch 98/100] >>>>>>>>>\n",
      " Batch 0/0\n",
      " \\_loss [48.0]\n",
      "\n",
      "[Epoch 99/100] >>>>>>>>>\n",
      " Batch 0/0\n",
      " \\_loss [48.0]\n"
     ]
    }
   ],
   "source": [
    "m = 10\n",
    "useDataGenerator = False\n",
    "useDataGenerator = True\n",
    "\n",
    "# x = x_train\n",
    "# x = np.stack([x_train[:m] for _ in range(10)])\n",
    "\n",
    "print('batch_size =', batch_size)\n",
    "if useDataGenerator:\n",
    "    datagen = models.ImageDataGenerator(x_train, batch_size, phase_mod, whitening)\n",
    "    history = collections.defaultdict(list)\n",
    "    n_batches = datagen.__len__()\n",
    "    for e in range(epochs):\n",
    "        print('\\n[Epoch %i/%i] >>>>>>>>>' % (e, epochs))\n",
    "        for batch_i, (x_batch, y_batch) in enumerate(datagen.flow(x_train[:m], x_train[:m], batch_size)):\n",
    "            print(' Batch %i/%i' % (batch_i,n_batches))\n",
    "            x = x_batch\n",
    "#             x = datagen.shuffle_3rd_dim(x_batch)\n",
    "            h = vae.fit(x, verbose=0)\n",
    "            for k,v in h.history.items(): \n",
    "                print(' \\\\_%s' % k, [round(v_,) for v_ in v])\n",
    "                history[k].append(v)\n",
    "            if batch_i >= n_batches:\n",
    "                break\n",
    "else:\n",
    "    h = vae.fit(x_train[:m], epochs=epochs, validation_data=(x_test, None))\n",
    "    history = h.history"
   ]
  },
  {
   "cell_type": "code",
   "execution_count": 175,
   "metadata": {},
   "outputs": [
    {
     "data": {
      "text/plain": [
       "[<matplotlib.lines.Line2D at 0x12e903e10>]"
      ]
     },
     "execution_count": 175,
     "metadata": {},
     "output_type": "execute_result"
    },
    {
     "data": {
      "image/png": "[encoded data removed]",
      "text/plain": [
       "<matplotlib.figure.Figure at 0x12e57b710>"
      ]
     },
     "metadata": {},
     "output_type": "display_data"
    }
   ],
   "source": [
    "plt.plot(history['loss'])\n",
    "plt.plot(history['val_loss'])"
   ]
  },
  {
   "cell_type": "code",
   "execution_count": 176,
   "metadata": {},
   "outputs": [
    {
     "name": "stdout",
     "output_type": "stream",
     "text": [
      "m (40, 10)\n"
     ]
    },
    {
     "data": {
      "image/png": "[encoded data removed]",
      "text/plain": [
       "<matplotlib.figure.Figure at 0x12cfff358>"
      ]
     },
     "metadata": {},
     "output_type": "display_data"
    },
    {
     "name": "stdout",
     "output_type": "stream",
     "text": [
      "m (40, 10)\n"
     ]
    },
    {
     "data": {
      "image/png": "[encoded data removed]",
      "text/plain": [
       "<matplotlib.figure.Figure at 0x12c8b24a8>"
      ]
     },
     "metadata": {},
     "output_type": "display_data"
    },
    {
     "name": "stdout",
     "output_type": "stream",
     "text": [
      "m (40, 10)\n"
     ]
    },
    {
     "data": {
      "image/png": "[encoded data removed]",
      "text/plain": [
       "<matplotlib.figure.Figure at 0x12ccb4be0>"
      ]
     },
     "metadata": {},
     "output_type": "display_data"
    },
    {
     "name": "stdout",
     "output_type": "stream",
     "text": [
      "m (40, 10)\n"
     ]
    },
    {
     "data": {
      "image/png": "[encoded data removed]",
      "text/plain": [
       "<matplotlib.figure.Figure at 0x12e2e0128>"
      ]
     },
     "metadata": {},
     "output_type": "display_data"
    },
    {
     "name": "stdout",
     "output_type": "stream",
     "text": [
      "m (40, 10)\n"
     ]
    },
    {
     "data": {
      "image/png": "[encoded data removed]",
      "text/plain": [
       "<matplotlib.figure.Figure at 0x12cca7b70>"
      ]
     },
     "metadata": {},
     "output_type": "display_data"
    },
    {
     "name": "stdout",
     "output_type": "stream",
     "text": [
      "m (40, 10)\n"
     ]
    },
    {
     "data": {
      "image/png": "[encoded data removed]",
      "text/plain": [
       "<matplotlib.figure.Figure at 0x12d4c0eb8>"
      ]
     },
     "metadata": {},
     "output_type": "display_data"
    }
   ],
   "source": [
    "i = 0\n",
    "j = 30\n",
    "k = -1\n",
    "x = vae.predict(x_train[:100])\n",
    "plot.single(x_train[i, :50, :, 0])\n",
    "plot.single(x[i, :50, :, 0])\n",
    "plot.single(x_train[j, :50, :, 0])\n",
    "plot.single(x[j, :50, :, 0])\n",
    "plot.single(x_train[k, :50, :, 0])\n",
    "plot.single(x[k, :50, :, 0])"
   ]
  },
  {
   "cell_type": "code",
   "execution_count": 177,
   "metadata": {},
   "outputs": [
    {
     "data": {
      "text/plain": [
       "(81, 40, 10, 1)"
      ]
     },
     "execution_count": 177,
     "metadata": {},
     "output_type": "execute_result"
    }
   ],
   "source": [
    "x.shape"
   ]
  },
  {
   "cell_type": "code",
   "execution_count": 178,
   "metadata": {},
   "outputs": [
    {
     "name": "stdout",
     "output_type": "stream",
     "text": [
      "m (30, 10)\n"
     ]
    },
    {
     "data": {
      "image/png": "[encoded data removed]",
      "text/plain": [
       "<matplotlib.figure.Figure at 0x12e919908>"
      ]
     },
     "metadata": {},
     "output_type": "display_data"
    }
   ],
   "source": [
    "# min: these pixels are 'always' active\n",
    "m = x.min(axis=0)\n",
    "plot.multi(m[:30,:,0])"
   ]
  },
  {
   "cell_type": "code",
   "execution_count": 179,
   "metadata": {},
   "outputs": [
    {
     "name": "stdout",
     "output_type": "stream",
     "text": [
      "m (30, 10)\n"
     ]
    },
    {
     "data": {
      "image/png": "[encoded data removed]",
      "text/plain": [
       "<matplotlib.figure.Figure at 0x12d6a9d30>"
      ]
     },
     "metadata": {},
     "output_type": "display_data"
    }
   ],
   "source": [
    "# mean\n",
    "m = x.mean(axis=0)\n",
    "plot.single(m[:30,:,0])"
   ]
  },
  {
   "cell_type": "markdown",
   "metadata": {},
   "source": [
    "## Encoder + Generator\n",
    "A model to project inputs on the latent space"
   ]
  },
  {
   "cell_type": "code",
   "execution_count": 180,
   "metadata": {},
   "outputs": [],
   "source": [
    "# build a model to project inputs on the latent space\n",
    "encoder = Model(encoder_input, z_mean)"
   ]
  },
  {
   "cell_type": "code",
   "execution_count": 181,
   "metadata": {},
   "outputs": [
    {
     "data": {
      "text/plain": [
       "(9, 40, 10, 1)"
      ]
     },
     "execution_count": 181,
     "metadata": {},
     "output_type": "execute_result"
    }
   ],
   "source": [
    "x_test.shape"
   ]
  },
  {
   "cell_type": "code",
   "execution_count": 182,
   "metadata": {},
   "outputs": [
    {
     "data": {
      "text/plain": [
       "(81, 2)"
      ]
     },
     "execution_count": 182,
     "metadata": {},
     "output_type": "execute_result"
    }
   ],
   "source": [
    "m = 100\n",
    "x_train_encoded = encoder.predict(x_train[:m], batch_size=batch_size)\n",
    "x_train_encoded.shape"
   ]
  },
  {
   "cell_type": "code",
   "execution_count": 183,
   "metadata": {},
   "outputs": [
    {
     "data": {
      "text/plain": [
       "<matplotlib.collections.PathCollection at 0x12dcf83c8>"
      ]
     },
     "execution_count": 183,
     "metadata": {},
     "output_type": "execute_result"
    },
    {
     "data": {
      "image/png": "[encoded data removed]",
      "text/plain": [
       "<matplotlib.figure.Figure at 0x12dc64710>"
      ]
     },
     "metadata": {},
     "output_type": "display_data"
    }
   ],
   "source": [
    "# y_test = range(x_train_encoded.shape[0])\n",
    "y_test = np.concatenate([list(range(n)) for _ in range(int(m/n)+1)])[:m] / n\n",
    "plt.figure(figsize=(6, 6))\n",
    "plt.scatter(x_train_encoded[:, 0], x_train_encoded[:, 1], alpha=0.8, s=30) # c=y_test, "
   ]
  },
  {
   "cell_type": "code",
   "execution_count": 184,
   "metadata": {},
   "outputs": [
    {
     "data": {
      "text/plain": [
       "<matplotlib.collections.PathCollection at 0x12dd56278>"
      ]
     },
     "execution_count": 184,
     "metadata": {},
     "output_type": "execute_result"
    },
    {
     "data": {
      "image/png": "[encoded data removed]",
      "text/plain": [
       "<matplotlib.figure.Figure at 0x12d6c9780>"
      ]
     },
     "metadata": {},
     "output_type": "display_data"
    }
   ],
   "source": [
    "# display a 2D plot of the digit classes in the latent space\n",
    "x_test_encoded = encoder.predict(x_test, batch_size=batch_size)\n",
    "plt.figure(figsize=(6, 6))\n",
    "plt.scatter(x_test_encoded[:, 0], x_test_encoded[:, 1], alpha=0.6, s=30) # , c=y_test\n",
    "# plt.colorbar()"
   ]
  },
  {
   "cell_type": "code",
   "execution_count": 185,
   "metadata": {},
   "outputs": [],
   "source": [
    "# build a digit generator that can sample from the learned distribution\n",
    "decoder_input = Input(shape=(latent_dim,))\n",
    "_decoded = utils.composition(decoders, decoder_input, verbose=False)\n",
    "generator = Model(decoder_input, _decoded)"
   ]
  },
  {
   "cell_type": "code",
   "execution_count": 186,
   "metadata": {},
   "outputs": [],
   "source": [
    "# x_decoded[0].reshape(150,3)"
   ]
  },
  {
   "cell_type": "code",
   "execution_count": 187,
   "metadata": {},
   "outputs": [
    {
     "data": {
      "text/plain": [
       "(81, 40, 10, 1)"
      ]
     },
     "execution_count": 187,
     "metadata": {},
     "output_type": "execute_result"
    }
   ],
   "source": [
    "x_train.shape"
   ]
  },
  {
   "cell_type": "code",
   "execution_count": 188,
   "metadata": {},
   "outputs": [
    {
     "name": "stdout",
     "output_type": "stream",
     "text": [
      "(2,) [0. 0.]\n"
     ]
    },
    {
     "data": {
      "image/png": "[encoded data removed]",
      "text/plain": [
       "<matplotlib.figure.Figure at 0x12dfe1160>"
      ]
     },
     "metadata": {},
     "output_type": "display_data"
    }
   ],
   "source": [
    "min_y = 0.01\n",
    "max_y = 0.5\n",
    "plot.latent(generator, batch_size,\n",
    "       n=8,\n",
    "       m=3,\n",
    "       crop_size=30,\n",
    "       margin_top=1,\n",
    "       margin_left=1,\n",
    "       min_x=0.05,\n",
    "       max_x=0.95,\n",
    "       min_y=min_y,\n",
    "       max_y=max_y)"
   ]
  },
  {
   "cell_type": "code",
   "execution_count": 189,
   "metadata": {},
   "outputs": [
    {
     "name": "stdout",
     "output_type": "stream",
     "text": [
      "(2,) [0. 0.]\n"
     ]
    },
    {
     "data": {
      "image/png": "[encoded data removed]",
      "text/plain": [
       "<matplotlib.figure.Figure at 0x12dd40630>"
      ]
     },
     "metadata": {},
     "output_type": "display_data"
    }
   ],
   "source": [
    "min_y2 = max_y\n",
    "plot.latent(generator, batch_size,\n",
    "       n=8,\n",
    "       m=3,\n",
    "       crop_size=30,\n",
    "       margin_top=1,\n",
    "       margin_left=1,\n",
    "       min_x=0.05,\n",
    "       max_x=0.95,\n",
    "       min_y=min_y2,\n",
    "       max_y=0.95)"
   ]
  },
  {
   "cell_type": "code",
   "execution_count": null,
   "metadata": {},
   "outputs": [],
   "source": []
  },
  {
   "cell_type": "code",
   "execution_count": null,
   "metadata": {},
   "outputs": [],
   "source": []
  },
  {
   "cell_type": "code",
   "execution_count": null,
   "metadata": {},
   "outputs": [],
   "source": []
  },
  {
   "cell_type": "code",
   "execution_count": null,
   "metadata": {},
   "outputs": [],
   "source": []
  },
  {
   "cell_type": "code",
   "execution_count": null,
   "metadata": {},
   "outputs": [],
   "source": []
  },
  {
   "cell_type": "code",
   "execution_count": null,
   "metadata": {},
   "outputs": [],
   "source": []
  },
  {
   "cell_type": "code",
   "execution_count": null,
   "metadata": {},
   "outputs": [],
   "source": []
  }
 ],
 "metadata": {
  "kernelspec": {
   "display_name": "Python 3",
   "language": "python",
   "name": "python3"
  },
  "language_info": {
   "codemirror_mode": {
    "name": "ipython",
    "version": 3
   },
   "file_extension": ".py",
   "mimetype": "text/x-python",
   "name": "python",
   "nbconvert_exporter": "python",
   "pygments_lexer": "ipython3",
   "version": "3.6.4"
  }
 },
 "nbformat": 4,
 "nbformat_minor": 2
}
