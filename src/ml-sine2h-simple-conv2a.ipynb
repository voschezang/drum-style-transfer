{
 "cells": [
  {
   "cell_type": "code",
   "execution_count": 1,
   "metadata": {},
   "outputs": [],
   "source": [
    "import config\n",
    "import os, numpy as np, pandas, sklearn, scipy.signal as signal\n",
    "import mido\n",
    "import matplotlib.pyplot as plt\n",
    "%matplotlib inline"
   ]
  },
  {
   "cell_type": "code",
   "execution_count": 2,
   "metadata": {},
   "outputs": [
    {
     "name": "stderr",
     "output_type": "stream",
     "text": [
      "/Library/Frameworks/Python.framework/Versions/3.6/lib/python3.6/site-packages/h5py/__init__.py:36: FutureWarning: Conversion of the second argument of issubdtype from `float` to `np.floating` is deprecated. In future, it will be treated as `np.float64 == np.dtype(float).type`.\n",
      "  from ._conv import register_converters as _register_converters\n",
      "Using TensorFlow backend.\n"
     ]
    }
   ],
   "source": [
    "## NN libs\n",
    "from sklearn.decomposition import PCA\n",
    "from sklearn import preprocessing\n",
    "from sklearn.preprocessing import RobustScaler\n",
    "import keras\n",
    "from keras import regularizers\n",
    "from keras.utils import to_categorical\n",
    "from keras.models import Sequential\n",
    "from keras.optimizers import SGD, Adam\n",
    "from keras.layers import Input, Dense, Activation, Conv1D, Conv2D, Dropout, Flatten\n",
    "from keras.layers import Conv2DTranspose, Reshape, MaxPooling2D, UpSampling2D, UpSampling1D, MaxPooling1D\n",
    "from keras.layers import LocallyConnected1D, LocallyConnected2D\n",
    "from keras.layers import Input, LSTM, RepeatVector\n",
    "from keras.models import Model\n",
    "from keras.callbacks import TensorBoard"
   ]
  },
  {
   "cell_type": "code",
   "execution_count": 3,
   "metadata": {},
   "outputs": [
    {
     "name": "stdout",
     "output_type": "stream",
     "text": [
      " Context :: namedtuple(\n",
      "[ max_t = float\n",
      ", dt = float\n",
      ", n_instances = int\n",
      ", note_length = int\n",
      ", bpm = float\n",
      ", tempo = float\n",
      ", ticks_per_beat = int\n",
      "]\n",
      "\n"
     ]
    }
   ],
   "source": [
    "# local libs\n",
    "import config, models, functions\n",
    "from data import data, midi, midi_generators as g\n",
    "from utils import io, models_io, utils"
   ]
  },
  {
   "cell_type": "code",
   "execution_count": 4,
   "metadata": {
    "scrolled": true
   },
   "outputs": [
    {
     "name": "stdout",
     "output_type": "stream",
     "text": [
      "Setting up params\n",
      "\n",
      "max min f 25.0 0.3333333333333333\n",
      " >> Context(max_t=3.0, dt=0.02, n_instances=150, note_length=0.03, bpm=120.0, tempo=500000, ticks_per_beat=480)\n",
      "Setting up params\n",
      "\n",
      "max min f 25.0 0.3333333333333333\n",
      " >> Context(max_t=3.0, dt=0.02, n_instances=150, note_length=0.03, bpm=120.0, tempo=500000, ticks_per_beat=480)\n",
      "Importing midi-data\n",
      "\n",
      "\u001b[92m [INFO] : \u001b[0m\n",
      " |  reading file: ../datasets/examples/01 16th Snare.mid\n",
      "\u001b[92m [INFO] : \u001b[0m\n",
      " |  reading file: ../datasets/examples/01 8th Cym.mid\n",
      "\n",
      "Encoding midi-data\n",
      " [<midi file '../datasets/examples/01 16th Snare.mid' type 0, 1 tracks, 182 messages>, <midi file '../datasets/examples/01 8th Cym.mid' type 0, 1 tracks, 68 messages>]\n",
      "> -> multi-track = False\n",
      "\u001b[91m [DEBUG] > \u001b[0m\n",
      " |>  to_array: msg.time > max_t; t, n\n",
      " |>  2.994791666666667\n",
      " |>  150\n",
      "\u001b[91m [DEBUG] > \u001b[0m\n",
      " |>  to_array: msg.time > max_t; t, n\n",
      " |>  2.9947916666666665\n",
      " |>  150\n"
     ]
    }
   ],
   "source": [
    "context = data.init()\n",
    "n = 2\n",
    "multiTrack = False\n",
    "context, x_train, labels = data.import_data(data.init(), n, multiTrack=multiTrack)"
   ]
  },
  {
   "cell_type": "code",
   "execution_count": 5,
   "metadata": {},
   "outputs": [
    {
     "name": "stdout",
     "output_type": "stream",
     "text": [
      "\u001b[91m [DEBUG] > \u001b[0m\n",
      " |>  to_array: msg.time > max_t; t, n\n",
      " |>  3.0041666666666678\n",
      " |>  150\n",
      "\u001b[91m [DEBUG] > \u001b[0m\n",
      " |>  to_array: msg.time > max_t; t, n\n",
      " |>  2.9968750000000024\n",
      " |>  150\n",
      "\u001b[91m [DEBUG] > \u001b[0m\n",
      " |>  to_array: msg.time > max_t; t, n\n",
      " |>  2.998958333333338\n",
      " |>  150\n",
      "\u001b[91m [DEBUG] > \u001b[0m\n",
      " |>  to_array: msg.time > max_t; t, n\n",
      " |>  2.991666666666667\n",
      " |>  150\n",
      "\u001b[91m [DEBUG] > \u001b[0m\n",
      " |>  to_array: msg.time > max_t; t, n\n",
      " |>  3.0000000000000004\n",
      " |>  150\n",
      "\u001b[91m [DEBUG] > \u001b[0m\n",
      " |>  to_array: msg.time > max_t; t, n\n",
      " |>  2.994791666666665\n",
      " |>  150\n",
      "\u001b[91m [DEBUG] > \u001b[0m\n",
      " |>  to_array: msg.time > max_t; t, n\n",
      " |>  2.9947916666666674\n",
      " |>  150\n",
      "\u001b[91m [DEBUG] > \u001b[0m\n",
      " |>  to_array: msg.time > max_t; t, n\n",
      " |>  3.0229166666666685\n",
      " |>  150\n",
      "\u001b[91m [DEBUG] > \u001b[0m\n",
      " |>  to_array: msg.time > max_t; t, n\n",
      " |>  3.0062499999999996\n",
      " |>  150\n",
      "\u001b[91m [DEBUG] > \u001b[0m\n",
      " |>  to_array: msg.time > max_t; t, n\n",
      " |>  2.9937500000000035\n",
      " |>  150\n",
      "\u001b[91m [DEBUG] > \u001b[0m\n",
      " |>  to_array: msg.time > max_t; t, n\n",
      " |>  2.9906250000000005\n",
      " |>  150\n",
      "\u001b[91m [DEBUG] > \u001b[0m\n",
      " |>  to_array: msg.time > max_t; t, n\n",
      " |>  2.9906250000000023\n",
      " |>  150\n",
      "\u001b[91m [DEBUG] > \u001b[0m\n",
      " |>  to_array: msg.time > max_t; t, n\n",
      " |>  2.9968750000000006\n",
      " |>  150\n",
      "\u001b[91m [DEBUG] > \u001b[0m\n",
      " |>  to_array: msg.time > max_t; t, n\n",
      " |>  2.9937500000000026\n",
      " |>  150\n",
      "\u001b[91m [DEBUG] > \u001b[0m\n",
      " |>  to_array: msg.time > max_t; t, n\n",
      " |>  3.006250000000003\n",
      " |>  150\n",
      "\u001b[91m [DEBUG] > \u001b[0m\n",
      " |>  to_array: msg.time > max_t; t, n\n",
      " |>  2.996874999999996\n",
      " |>  150\n",
      "\u001b[91m [DEBUG] > \u001b[0m\n",
      " |>  to_array: msg.time > max_t; t, n\n",
      " |>  2.9906249999999983\n",
      " |>  150\n",
      "\u001b[91m [DEBUG] > \u001b[0m\n",
      " |>  to_array: msg.time > max_t; t, n\n",
      " |>  2.995833333333335\n",
      " |>  150\n",
      "\u001b[91m [DEBUG] > \u001b[0m\n",
      " |>  to_array: msg.time > max_t; t, n\n",
      " |>  2.991666666666669\n",
      " |>  150\n",
      "\u001b[91m [DEBUG] > \u001b[0m\n",
      " |>  to_array: msg.time > max_t; t, n\n",
      " |>  2.9937500000000004\n",
      " |>  150\n",
      "\u001b[91m [DEBUG] > \u001b[0m\n",
      " |>  to_array: msg.time > max_t; t, n\n",
      " |>  3.0083333333333324\n",
      " |>  150\n",
      "\u001b[91m [DEBUG] > \u001b[0m\n",
      " |>  to_array: msg.time > max_t; t, n\n",
      " |>  2.998958333333336\n",
      " |>  150\n",
      "\u001b[91m [DEBUG] > \u001b[0m\n",
      " |>  to_array: msg.time > max_t; t, n\n",
      " |>  3.0010416666666675\n",
      " |>  150\n",
      "\u001b[91m [DEBUG] > \u001b[0m\n",
      " |>  to_array: msg.time > max_t; t, n\n",
      " |>  3.001041666666668\n",
      " |>  150\n",
      "\u001b[91m [DEBUG] > \u001b[0m\n",
      " |>  to_array: msg.time > max_t; t, n\n",
      " |>  2.9979166666666672\n",
      " |>  150\n",
      "\u001b[91m [DEBUG] > \u001b[0m\n",
      " |>  to_array: msg.time > max_t; t, n\n",
      " |>  2.990625000000002\n",
      " |>  150\n",
      "\u001b[91m [DEBUG] > \u001b[0m\n",
      " |>  to_array: msg.time > max_t; t, n\n",
      " |>  3.0010416666666684\n",
      " |>  150\n",
      "\u001b[91m [DEBUG] > \u001b[0m\n",
      " |>  to_array: msg.time > max_t; t, n\n",
      " |>  2.994791666666671\n",
      " |>  150\n",
      "\u001b[91m [DEBUG] > \u001b[0m\n",
      " |>  to_array: msg.time > max_t; t, n\n",
      " |>  2.9906250000000036\n",
      " |>  150\n",
      "\u001b[91m [DEBUG] > \u001b[0m\n",
      " |>  to_array: msg.time > max_t; t, n\n",
      " |>  2.9906250000000036\n",
      " |>  150\n",
      "\u001b[91m [DEBUG] > \u001b[0m\n",
      " |>  to_array: msg.time > max_t; t, n\n",
      " |>  3.0031249999999994\n",
      " |>  150\n",
      "\u001b[91m [DEBUG] > \u001b[0m\n",
      " |>  to_array: msg.time > max_t; t, n\n",
      " |>  2.990624999999999\n",
      " |>  150\n",
      "\u001b[91m [DEBUG] > \u001b[0m\n",
      " |>  to_array: msg.time > max_t; t, n\n",
      " |>  3.001041666666669\n",
      " |>  150\n",
      "\u001b[91m [DEBUG] > \u001b[0m\n",
      " |>  to_array: msg.time > max_t; t, n\n",
      " |>  2.9937500000000017\n",
      " |>  150\n",
      "\u001b[91m [DEBUG] > \u001b[0m\n",
      " |>  to_array: msg.time > max_t; t, n\n",
      " |>  2.998958333333335\n",
      " |>  150\n",
      "\u001b[91m [DEBUG] > \u001b[0m\n",
      " |>  to_array: msg.time > max_t; t, n\n",
      " |>  2.9958333333333322\n",
      " |>  150\n",
      "\u001b[91m [DEBUG] > \u001b[0m\n",
      " |>  to_array: msg.time > max_t; t, n\n",
      " |>  3.0020833333333328\n",
      " |>  150\n",
      "\u001b[91m [DEBUG] > \u001b[0m\n",
      " |>  to_array: msg.time > max_t; t, n\n",
      " |>  2.9999999999999996\n",
      " |>  150\n",
      "\u001b[91m [DEBUG] > \u001b[0m\n",
      " |>  to_array: msg.time > max_t; t, n\n",
      " |>  3.0020833333333354\n",
      " |>  150\n",
      "\u001b[91m [DEBUG] > \u001b[0m\n",
      " |>  to_array: msg.time > max_t; t, n\n",
      " |>  2.9968749999999997\n",
      " |>  150\n",
      "\u001b[91m [DEBUG] > \u001b[0m\n",
      " |>  to_array: msg.time > max_t; t, n\n",
      " |>  2.991666666666669\n",
      " |>  150\n",
      "\u001b[91m [DEBUG] > \u001b[0m\n",
      " |>  to_array: msg.time > max_t; t, n\n",
      " |>  2.9906250000000005\n",
      " |>  150\n",
      "\u001b[91m [DEBUG] > \u001b[0m\n",
      " |>  to_array: msg.time > max_t; t, n\n",
      " |>  3.015625000000003\n",
      " |>  150\n",
      "\u001b[91m [DEBUG] > \u001b[0m\n",
      " |>  to_array: msg.time > max_t; t, n\n",
      " |>  2.993749999999998\n",
      " |>  150\n",
      "\u001b[91m [DEBUG] > \u001b[0m\n",
      " |>  to_array: msg.time > max_t; t, n\n",
      " |>  3.0020833333333328\n",
      " |>  150\n",
      "\u001b[91m [DEBUG] > \u001b[0m\n",
      " |>  to_array: msg.time > max_t; t, n\n",
      " |>  2.9958333333333362\n",
      " |>  150\n",
      "\u001b[91m [DEBUG] > \u001b[0m\n",
      " |>  to_array: msg.time > max_t; t, n\n",
      " |>  2.9916666666666694\n",
      " |>  150\n",
      "\u001b[91m [DEBUG] > \u001b[0m\n",
      " |>  to_array: msg.time > max_t; t, n\n",
      " |>  2.996875\n",
      " |>  150\n",
      "\u001b[91m [DEBUG] > \u001b[0m\n",
      " |>  to_array: msg.time > max_t; t, n\n",
      " |>  2.9937500000000004\n",
      " |>  150\n",
      "\u001b[91m [DEBUG] > \u001b[0m\n",
      " |>  to_array: msg.time > max_t; t, n\n",
      " |>  3.002083333333333\n",
      " |>  150\n",
      "\u001b[91m [DEBUG] > \u001b[0m\n",
      " |>  to_array: msg.time > max_t; t, n\n",
      " |>  2.993750000000001\n",
      " |>  150\n",
      "\u001b[91m [DEBUG] > \u001b[0m\n",
      " |>  to_array: msg.time > max_t; t, n\n",
      " |>  3.0031250000000003\n",
      " |>  150\n",
      "\u001b[91m [DEBUG] > \u001b[0m\n",
      " |>  to_array: msg.time > max_t; t, n\n",
      " |>  2.9947916666666687\n",
      " |>  150\n",
      "\u001b[91m [DEBUG] > \u001b[0m\n",
      " |>  to_array: msg.time > max_t; t, n\n",
      " |>  2.992708333333333\n",
      " |>  150\n",
      "\u001b[91m [DEBUG] > \u001b[0m\n",
      " |>  to_array: msg.time > max_t; t, n\n",
      " |>  2.9968750000000033\n",
      " |>  150\n",
      "\u001b[91m [DEBUG] > \u001b[0m\n",
      " |>  to_array: msg.time > max_t; t, n\n",
      " |>  3.0000000000000036\n",
      " |>  150\n",
      "\u001b[91m [DEBUG] > \u001b[0m\n",
      " |>  to_array: msg.time > max_t; t, n\n",
      " |>  2.9968749999999997\n",
      " |>  150\n",
      "\u001b[91m [DEBUG] > \u001b[0m\n",
      " |>  to_array: msg.time > max_t; t, n\n",
      " |>  2.994791666666666\n",
      " |>  150\n",
      "\u001b[91m [DEBUG] > \u001b[0m\n",
      " |>  to_array: msg.time > max_t; t, n\n",
      " |>  3.0020833333333328\n",
      " |>  150\n",
      "\u001b[91m [DEBUG] > \u001b[0m\n",
      " |>  to_array: msg.time > max_t; t, n\n",
      " |>  2.992708333333332\n",
      " |>  150\n",
      "\u001b[91m [DEBUG] > \u001b[0m\n",
      " |>  to_array: msg.time > max_t; t, n\n",
      " |>  2.9916666666666676\n",
      " |>  150\n",
      "\u001b[91m [DEBUG] > \u001b[0m\n",
      " |>  to_array: msg.time > max_t; t, n\n",
      " |>  2.9906250000000014\n",
      " |>  150\n",
      "\u001b[91m [DEBUG] > \u001b[0m\n",
      " |>  to_array: msg.time > max_t; t, n\n",
      " |>  2.997916666666667\n",
      " |>  150\n",
      "\u001b[91m [DEBUG] > \u001b[0m\n",
      " |>  to_array: msg.time > max_t; t, n\n",
      " |>  2.9947916666666625\n",
      " |>  150\n",
      "\u001b[91m [DEBUG] > \u001b[0m\n",
      " |>  to_array: msg.time > max_t; t, n\n",
      " |>  2.995833333333335\n",
      " |>  150\n",
      "\u001b[91m [DEBUG] > \u001b[0m\n",
      " |>  to_array: msg.time > max_t; t, n\n",
      " |>  2.9947916666666683\n",
      " |>  150\n",
      "\u001b[91m [DEBUG] > \u001b[0m\n",
      " |>  to_array: msg.time > max_t; t, n\n",
      " |>  2.993749999999999\n",
      " |>  150\n",
      "\u001b[91m [DEBUG] > \u001b[0m\n",
      " |>  to_array: msg.time > max_t; t, n\n",
      " |>  2.995833333333332\n",
      " |>  150\n",
      "\u001b[91m [DEBUG] > \u001b[0m\n",
      " |>  to_array: msg.time > max_t; t, n\n",
      " |>  3.0083333333333324\n",
      " |>  150\n",
      "\u001b[91m [DEBUG] > \u001b[0m\n",
      " |>  to_array: msg.time > max_t; t, n\n",
      " |>  3.013541666666671\n",
      " |>  150\n",
      "\u001b[91m [DEBUG] > \u001b[0m\n",
      " |>  to_array: msg.time > max_t; t, n\n",
      " |>  2.9989583333333343\n",
      " |>  150\n",
      "\u001b[91m [DEBUG] > \u001b[0m\n",
      " |>  to_array: msg.time > max_t; t, n\n",
      " |>  2.9968750000000006\n",
      " |>  150\n",
      "\u001b[91m [DEBUG] > \u001b[0m\n",
      " |>  to_array: msg.time > max_t; t, n\n",
      " |>  3.0083333333333346\n",
      " |>  150\n",
      "\u001b[91m [DEBUG] > \u001b[0m\n",
      " |>  to_array: msg.time > max_t; t, n\n",
      " |>  2.9989583333333325\n",
      " |>  150\n",
      "\u001b[91m [DEBUG] > \u001b[0m\n",
      " |>  to_array: msg.time > max_t; t, n\n",
      " |>  3.001041666666666\n",
      " |>  150\n",
      "\u001b[91m [DEBUG] > \u001b[0m\n",
      " |>  to_array: msg.time > max_t; t, n\n",
      " |>  2.999999999999999\n",
      " |>  150\n",
      "\u001b[91m [DEBUG] > \u001b[0m\n",
      " |>  to_array: msg.time > max_t; t, n\n",
      " |>  3.0072916666666667\n",
      " |>  150\n",
      "\u001b[91m [DEBUG] > \u001b[0m\n",
      " |>  to_array: msg.time > max_t; t, n\n",
      " |>  2.9906250000000023\n",
      " |>  150\n",
      "\u001b[91m [DEBUG] > \u001b[0m\n",
      " |>  to_array: msg.time > max_t; t, n\n",
      " |>  2.9947916666666674\n",
      " |>  150\n",
      "\u001b[91m [DEBUG] > \u001b[0m\n",
      " |>  to_array: msg.time > max_t; t, n\n",
      " |>  2.990624999999997\n",
      " |>  150\n",
      "\u001b[91m [DEBUG] > \u001b[0m\n",
      " |>  to_array: msg.time > max_t; t, n\n",
      " |>  3.0041666666666664\n",
      " |>  150\n",
      "\u001b[91m [DEBUG] > \u001b[0m\n",
      " |>  to_array: msg.time > max_t; t, n\n",
      " |>  2.9979166666666672\n",
      " |>  150\n",
      "\u001b[91m [DEBUG] > \u001b[0m\n",
      " |>  to_array: msg.time > max_t; t, n\n",
      " |>  2.9927083333333364\n",
      " |>  150\n",
      "\u001b[91m [DEBUG] > \u001b[0m\n",
      " |>  to_array: msg.time > max_t; t, n\n",
      " |>  2.9916666666666645\n",
      " |>  150\n",
      "\u001b[91m [DEBUG] > \u001b[0m\n",
      " |>  to_array: msg.time > max_t; t, n\n",
      " |>  3.0020833333333337\n",
      " |>  150\n",
      "\u001b[91m [DEBUG] > \u001b[0m\n",
      " |>  to_array: msg.time > max_t; t, n\n",
      " |>  2.9916666666666676\n",
      " |>  150\n",
      "\u001b[91m [DEBUG] > \u001b[0m\n",
      " |>  to_array: msg.time > max_t; t, n\n",
      " |>  2.9989583333333343\n",
      " |>  150\n",
      "\u001b[91m [DEBUG] > \u001b[0m\n",
      " |>  to_array: msg.time > max_t; t, n\n",
      " |>  3.0093749999999995\n",
      " |>  150\n",
      "\u001b[91m [DEBUG] > \u001b[0m\n",
      " |>  to_array: msg.time > max_t; t, n\n",
      " |>  3.0437500000000033\n",
      " |>  150\n",
      "\u001b[91m [DEBUG] > \u001b[0m\n",
      " |>  to_array: msg.time > max_t; t, n\n",
      " |>  2.9927083333333333\n",
      " |>  150\n",
      "\u001b[91m [DEBUG] > \u001b[0m\n",
      " |>  to_array: msg.time > max_t; t, n\n",
      " |>  3.0416666666666683\n",
      " |>  150\n",
      "\u001b[91m [DEBUG] > \u001b[0m\n",
      " |>  to_array: msg.time > max_t; t, n\n",
      " |>  2.9937499999999986\n",
      " |>  150\n",
      "\u001b[91m [DEBUG] > \u001b[0m\n",
      " |>  to_array: msg.time > max_t; t, n\n",
      " |>  2.998958333333336\n",
      " |>  150\n"
     ]
    },
    {
     "name": "stdout",
     "output_type": "stream",
     "text": [
      "\u001b[91m [DEBUG] > \u001b[0m\n",
      " |>  to_array: msg.time > max_t; t, n\n",
      " |>  3.0062499999999996\n",
      " |>  150\n",
      "\u001b[91m [DEBUG] > \u001b[0m\n",
      " |>  to_array: msg.time > max_t; t, n\n",
      " |>  2.9968749999999975\n",
      " |>  150\n",
      "\u001b[91m [DEBUG] > \u001b[0m\n",
      " |>  to_array: msg.time > max_t; t, n\n",
      " |>  2.9927083333333346\n",
      " |>  150\n",
      "\u001b[91m [DEBUG] > \u001b[0m\n",
      " |>  to_array: msg.time > max_t; t, n\n",
      " |>  2.9927083333333324\n",
      " |>  150\n",
      "\u001b[91m [DEBUG] > \u001b[0m\n",
      " |>  to_array: msg.time > max_t; t, n\n",
      " |>  2.991666666666669\n",
      " |>  150\n",
      "\u001b[91m [DEBUG] > \u001b[0m\n",
      " |>  to_array: msg.time > max_t; t, n\n",
      " |>  2.991666666666667\n",
      " |>  150\n",
      "\u001b[91m [DEBUG] > \u001b[0m\n",
      " |>  to_array: msg.time > max_t; t, n\n",
      " |>  2.997916666666668\n",
      " |>  150\n"
     ]
    }
   ],
   "source": [
    "n = 100\n",
    "min_f = 3\n",
    "max_f = 20\n",
    "# x_train = g.gen_data(context, n, max_f=max_f, min_f=min_f)\n",
    "x_train = g.gen_data_complex(context, n, max_f=max_f, min_f=min_f, multiTrack=multiTrack)\n",
    "y_train = x_train"
   ]
  },
  {
   "cell_type": "code",
   "execution_count": null,
   "metadata": {},
   "outputs": [],
   "source": []
  },
  {
   "cell_type": "code",
   "execution_count": 6,
   "metadata": {},
   "outputs": [
    {
     "data": {
      "text/plain": [
       "(279, 150, 1)"
      ]
     },
     "execution_count": 6,
     "metadata": {},
     "output_type": "execute_result"
    }
   ],
   "source": [
    "x_train.shape"
   ]
  },
  {
   "cell_type": "code",
   "execution_count": 7,
   "metadata": {},
   "outputs": [
    {
     "data": {
      "text/plain": [
       "[<matplotlib.lines.Line2D at 0x117b2a2b0>]"
      ]
     },
     "execution_count": 7,
     "metadata": {},
     "output_type": "execute_result"
    },
    {
     "data": {
      "image/png": "[encoded data removed]",
      "text/plain": [
       "<matplotlib.figure.Figure at 0x11974f198>"
      ]
     },
     "metadata": {},
     "output_type": "display_data"
    }
   ],
   "source": [
    "plt.plot(x_train[0,:100])"
   ]
  },
  {
   "cell_type": "code",
   "execution_count": 11,
   "metadata": {},
   "outputs": [
    {
     "data": {
      "text/plain": [
       "(279, 150, 1)"
      ]
     },
     "execution_count": 11,
     "metadata": {},
     "output_type": "execute_result"
    }
   ],
   "source": [
    "x_train.shape"
   ]
  },
  {
   "cell_type": "code",
   "execution_count": 20,
   "metadata": {},
   "outputs": [
    {
     "data": {
      "text/plain": [
       "(150, 1)"
      ]
     },
     "execution_count": 20,
     "metadata": {},
     "output_type": "execute_result"
    }
   ],
   "source": [
    "n_samples = x_train[0]\n",
    "input_shape = x_train.shape[1:] # shape of a single sample\n",
    "output_shape = y_train.shape[1:] # shape of a single sample\n",
    "# output_length = y_train.shape[1:][0]\n",
    "hidden_layer_length = 150\n",
    "input_shape"
   ]
  },
  {
   "cell_type": "code",
   "execution_count": 21,
   "metadata": {},
   "outputs": [
    {
     "data": {
      "text/plain": [
       "(150, 1)"
      ]
     },
     "execution_count": 21,
     "metadata": {},
     "output_type": "execute_result"
    }
   ],
   "source": [
    "output_shape"
   ]
  },
  {
   "cell_type": "code",
   "execution_count": 22,
   "metadata": {},
   "outputs": [],
   "source": [
    "num_encoder_tokens = x_train.shape[-1]\n",
    "num_decoder_tokens = y_train.shape[-1]\n",
    "# latent_dim = 1"
   ]
  },
  {
   "cell_type": "code",
   "execution_count": 41,
   "metadata": {},
   "outputs": [
    {
     "name": "stdout",
     "output_type": "stream",
     "text": [
      "w1 300 w2 600\n",
      "_________________________________________________________________\n",
      "Layer (type)                 Output Shape              Param #   \n",
      "=================================================================\n",
      "input_23 (InputLayer)        (None, 150, 1)            0         \n",
      "_________________________________________________________________\n",
      "flatten_15 (Flatten)         (None, 150)               0         \n",
      "_________________________________________________________________\n",
      "dense_54 (Dense)             (None, 150)               22650     \n",
      "_________________________________________________________________\n",
      "dense_55 (Dense)             (None, 150)               22650     \n",
      "=================================================================\n",
      "Total params: 45,300\n",
      "Trainable params: 45,300\n",
      "Non-trainable params: 0\n",
      "_________________________________________________________________\n",
      "dims (None, 300)\n",
      "_________________________________________________________________\n",
      "Layer (type)                 Output Shape              Param #   \n",
      "=================================================================\n",
      "input_24 (InputLayer)        (None, 150)               0         \n",
      "_________________________________________________________________\n",
      "dense_56 (Dense)             (None, 150)               22650     \n",
      "_________________________________________________________________\n",
      "reshape_15 (Reshape)         (None, 75, 2)             0         \n",
      "_________________________________________________________________\n",
      "up_sampling1d_8 (UpSampling1 (None, 300, 2)            0         \n",
      "_________________________________________________________________\n",
      "conv1d_10 (Conv1D)           (None, 300, 2)            10        \n",
      "_________________________________________________________________\n",
      "max_pooling1d_8 (MaxPooling1 (None, 150, 2)            0         \n",
      "_________________________________________________________________\n",
      "flatten_16 (Flatten)         (None, 300)               0         \n",
      "_________________________________________________________________\n",
      "dense_57 (Dense)             (None, 150)               45150     \n",
      "_________________________________________________________________\n",
      "dropout_14 (Dropout)         (None, 150)               0         \n",
      "_________________________________________________________________\n",
      "dense_58 (Dense)             (None, 150)               22650     \n",
      "_________________________________________________________________\n",
      "reshape_16 (Reshape)         (None, 150, 1)            0         \n",
      "=================================================================\n",
      "Total params: 90,460\n",
      "Trainable params: 90,460\n",
      "Non-trainable params: 0\n",
      "_________________________________________________________________\n"
     ]
    }
   ],
   "source": [
    "k_reg = regularizers.l2(0.01)\n",
    "# b_reg = regularizers.l1(0.01)\n",
    "a_reg = regularizers.l1(0.01)\n",
    "\n",
    "def encoder(input_shape, output_length, dropout=0.10):\n",
    "    input_layer = Input(shape=input_shape)\n",
    "    x = input_layer\n",
    "    \n",
    "    w1 = input_shape[0] * 2\n",
    "    w2 = w1 * 2\n",
    "    print('w1', w1,'w2', w2)\n",
    "\n",
    "    # [Conv | Pool]\n",
    "#     x = Conv1D(w1, kernel_size=2, strides=2, activation='relu', padding='same')(x)\n",
    "#     x = Conv1D(w1, kernel_size=2, strides=1, activation='relu', padding='same')(x)\n",
    "#     x = MaxPooling1D(pool_size=2, strides=2)(x)\n",
    "    \n",
    "#     x = Conv1D(w2, kernel_size=2, strides=2, activation='relu')(x)\n",
    "#     x = Conv1D(w2, kernel_size=2, strides=1, activation='relu')(x)\n",
    "#     x = MaxPooling1D(pool_size=2, strides=2)(x)\n",
    "    \n",
    "    # [Dense]\n",
    "    x = Flatten()(x)\n",
    "    x = Dense(150, activation='relu')(x)\n",
    "    \n",
    "#     x = Dense(100, activation='relu')(x)\n",
    "#     x = Dense(100, activation='relu')(x)\n",
    "#     x = Dense(100, activation='relu')(x)    \n",
    "#     x = Dropout(dropout)(x)\n",
    "\n",
    "#     x = Dense(100, activation='relu', kernel_regularizer=k_reg, activity_regularizer=a_reg)(x)\n",
    "\n",
    "#     x = Dense(1000, activation='relu')(x)\n",
    "#     x = Dense(1000, activation='relu')(x)\n",
    "#     x = Dropout(dropout)(x)\n",
    "    \n",
    "#     x = Dense(100, activation='relu')(x)\n",
    "#     x = Dense(100, activation='relu')(x)\n",
    "#     x = Dropout(dropout)(x)    \n",
    "    \n",
    "    x = Dense(output_length, activation='relu')(x)\n",
    "#     x = Dense(output_length, activation='relu', activity_regularizer=regularizers.l1(10e-5))(x)\n",
    "    model = Model(inputs=input_layer, outputs=x)\n",
    "    return model\n",
    "\n",
    "\n",
    "def decoder(input_length, output_shape, dropout=0.10):\n",
    "    input_layer = Input(shape=(input_length,))\n",
    "    x = input_layer\n",
    "    shape = output_shape\n",
    "   \n",
    "    x = Dense(150, activation='relu')(x)\n",
    "#     x = Dense(1000, activation='relu')(x)\n",
    "#     x = Dropout(dropout)(x)\n",
    "    \n",
    "    x = Reshape((75,2))(x) # 250 * 4 = 1000\n",
    "    x = UpSampling1D(4)(x)\n",
    "    x = Conv1D(2, kernel_size=2, strides=1, activation='relu', padding='same')(x)\n",
    "#     x = Conv1D(10, kernel_size=2, strides=1, activation='relu', padding='same')(x)\n",
    "    x = MaxPooling1D(pool_size=2, strides=2)(x)\n",
    "    \n",
    "    x = Flatten()(x)\n",
    "    dims = keras.backend.int_shape(x)\n",
    "    print('dims', dims)\n",
    "    \n",
    "    x = Dense(np.prod(shape), activation='relu')(x)\n",
    "    x = Dropout(dropout)(x)\n",
    "    \n",
    "    x = Dense(np.prod(shape), activation='sigmoid')(x)\n",
    "    x = Reshape(shape)(x)\n",
    "    model = Model(inputs=input_layer, outputs=x)\n",
    "    return model\n",
    "\n",
    "\n",
    "def autoencoder(input_shape, output_shape, hidden_layer_length=10, dropout=0.10, verbose=False):\n",
    "    input_ = Input(shape=input_shape)\n",
    "    encode = encoder(input_shape, hidden_layer_length, dropout)\n",
    "    if verbose:\n",
    "        encode.summary()\n",
    "    decode = decoder(hidden_layer_length, output_shape, dropout)\n",
    "    if verbose:\n",
    "        decode.summary()\n",
    "    model = Model(input_, decode(encode(input_)))\n",
    "    return encode, decode, model\n",
    "\n",
    "dropout = 0.2\n",
    "encoder, decoder, model = autoencoder(input_shape, output_shape, hidden_layer_length, dropout, True)"
   ]
  },
  {
   "cell_type": "code",
   "execution_count": 42,
   "metadata": {},
   "outputs": [],
   "source": [
    "metrics = ['accuracy','mse','binary_crossentropy'] # sparse_categorical_accuracy\n",
    "loss = 'binary_crossentropy'# binary_crossentropy categorical_crossentropy sparse_categorical_crossentropy\n",
    "optimizer = 'adam' # adam adadelta rmsprop nadam\n",
    "# keras.optimizers.RMSprop(lr=0.001, rho=0.9, epsilon=None, decay=0.0)\n",
    "model.compile(optimizer=optimizer, loss=loss, metrics=['mse', 'mae', 'accuracy'])#, metrics=metrics)"
   ]
  },
  {
   "cell_type": "code",
   "execution_count": 43,
   "metadata": {},
   "outputs": [],
   "source": [
    "batch_size = 16\n",
    "# n epochs = n iterations over all the training data\n",
    "epochs = 50"
   ]
  },
  {
   "cell_type": "code",
   "execution_count": 44,
   "metadata": {
    "scrolled": true
   },
   "outputs": [
    {
     "name": "stdout",
     "output_type": "stream",
     "text": [
      "Train on 83 samples, validate on 17 samples\n",
      "Epoch 1/50\n",
      "83/83 [==============================] - 0s 4ms/step - loss: 0.6923 - mean_squared_error: 0.2496 - mean_absolute_error: 0.4995 - acc: 0.5357 - val_loss: 0.6899 - val_mean_squared_error: 0.2484 - val_mean_absolute_error: 0.4982 - val_acc: 0.5937\n",
      "Epoch 2/50\n",
      "83/83 [==============================] - 0s 450us/step - loss: 0.6852 - mean_squared_error: 0.2460 - mean_absolute_error: 0.4957 - acc: 0.6327 - val_loss: 0.6830 - val_mean_squared_error: 0.2449 - val_mean_absolute_error: 0.4938 - val_acc: 0.6243\n",
      "Epoch 3/50\n",
      "83/83 [==============================] - 0s 463us/step - loss: 0.6698 - mean_squared_error: 0.2383 - mean_absolute_error: 0.4856 - acc: 0.6618 - val_loss: 0.6753 - val_mean_squared_error: 0.2407 - val_mean_absolute_error: 0.4811 - val_acc: 0.6435\n",
      "Epoch 4/50\n",
      "83/83 [==============================] - 0s 533us/step - loss: 0.6472 - mean_squared_error: 0.2270 - mean_absolute_error: 0.4627 - acc: 0.6866 - val_loss: 0.6803 - val_mean_squared_error: 0.2409 - val_mean_absolute_error: 0.4635 - val_acc: 0.6663\n",
      "Epoch 5/50\n",
      "83/83 [==============================] - 0s 477us/step - loss: 0.6279 - mean_squared_error: 0.2173 - mean_absolute_error: 0.4364 - acc: 0.7036 - val_loss: 0.6705 - val_mean_squared_error: 0.2363 - val_mean_absolute_error: 0.4543 - val_acc: 0.6694\n",
      "Epoch 6/50\n",
      "83/83 [==============================] - 0s 465us/step - loss: 0.6079 - mean_squared_error: 0.2088 - mean_absolute_error: 0.4282 - acc: 0.7054 - val_loss: 0.6503 - val_mean_squared_error: 0.2282 - val_mean_absolute_error: 0.4519 - val_acc: 0.6694\n",
      "Epoch 7/50\n",
      "83/83 [==============================] - 0s 463us/step - loss: 0.5884 - mean_squared_error: 0.2003 - mean_absolute_error: 0.4172 - acc: 0.7068 - val_loss: 0.6395 - val_mean_squared_error: 0.2233 - val_mean_absolute_error: 0.4424 - val_acc: 0.6690\n",
      "Epoch 8/50\n",
      "83/83 [==============================] - 0s 483us/step - loss: 0.5724 - mean_squared_error: 0.1938 - mean_absolute_error: 0.3956 - acc: 0.7076 - val_loss: 0.6276 - val_mean_squared_error: 0.2182 - val_mean_absolute_error: 0.4302 - val_acc: 0.6694\n",
      "Epoch 9/50\n",
      "83/83 [==============================] - 0s 484us/step - loss: 0.5578 - mean_squared_error: 0.1882 - mean_absolute_error: 0.3815 - acc: 0.7078 - val_loss: 0.6132 - val_mean_squared_error: 0.2119 - val_mean_absolute_error: 0.4340 - val_acc: 0.6694\n",
      "Epoch 10/50\n",
      "83/83 [==============================] - 0s 478us/step - loss: 0.5500 - mean_squared_error: 0.1853 - mean_absolute_error: 0.3780 - acc: 0.7082 - val_loss: 0.6047 - val_mean_squared_error: 0.2083 - val_mean_absolute_error: 0.4264 - val_acc: 0.6694\n",
      "Epoch 11/50\n",
      "83/83 [==============================] - 0s 449us/step - loss: 0.5431 - mean_squared_error: 0.1828 - mean_absolute_error: 0.3639 - acc: 0.7096 - val_loss: 0.6021 - val_mean_squared_error: 0.2071 - val_mean_absolute_error: 0.4273 - val_acc: 0.6682\n",
      "Epoch 12/50\n",
      "83/83 [==============================] - 0s 442us/step - loss: 0.5383 - mean_squared_error: 0.1809 - mean_absolute_error: 0.3697 - acc: 0.7141 - val_loss: 0.5998 - val_mean_squared_error: 0.2062 - val_mean_absolute_error: 0.4234 - val_acc: 0.6682\n",
      "Epoch 13/50\n",
      "83/83 [==============================] - 0s 434us/step - loss: 0.5341 - mean_squared_error: 0.1791 - mean_absolute_error: 0.3597 - acc: 0.7173 - val_loss: 0.5986 - val_mean_squared_error: 0.2056 - val_mean_absolute_error: 0.4252 - val_acc: 0.6706\n",
      "Epoch 14/50\n",
      "83/83 [==============================] - 0s 433us/step - loss: 0.5262 - mean_squared_error: 0.1762 - mean_absolute_error: 0.3611 - acc: 0.7206 - val_loss: 0.5941 - val_mean_squared_error: 0.2038 - val_mean_absolute_error: 0.4161 - val_acc: 0.6745\n",
      "Epoch 15/50\n",
      "83/83 [==============================] - 0s 431us/step - loss: 0.5196 - mean_squared_error: 0.1736 - mean_absolute_error: 0.3498 - acc: 0.7269 - val_loss: 0.5955 - val_mean_squared_error: 0.2043 - val_mean_absolute_error: 0.4235 - val_acc: 0.6816\n",
      "Epoch 16/50\n",
      "83/83 [==============================] - 0s 442us/step - loss: 0.5125 - mean_squared_error: 0.1707 - mean_absolute_error: 0.3509 - acc: 0.7370 - val_loss: 0.5938 - val_mean_squared_error: 0.2037 - val_mean_absolute_error: 0.4096 - val_acc: 0.6784\n",
      "Epoch 17/50\n",
      "83/83 [==============================] - 0s 435us/step - loss: 0.5028 - mean_squared_error: 0.1671 - mean_absolute_error: 0.3418 - acc: 0.7435 - val_loss: 0.5952 - val_mean_squared_error: 0.2042 - val_mean_absolute_error: 0.4202 - val_acc: 0.6831\n",
      "Epoch 18/50\n",
      "83/83 [==============================] - 0s 435us/step - loss: 0.4941 - mean_squared_error: 0.1638 - mean_absolute_error: 0.3340 - acc: 0.7487 - val_loss: 0.5948 - val_mean_squared_error: 0.2041 - val_mean_absolute_error: 0.4157 - val_acc: 0.6843\n",
      "Epoch 19/50\n",
      "83/83 [==============================] - 0s 440us/step - loss: 0.4835 - mean_squared_error: 0.1593 - mean_absolute_error: 0.3323 - acc: 0.7615 - val_loss: 0.5899 - val_mean_squared_error: 0.2018 - val_mean_absolute_error: 0.4015 - val_acc: 0.6886\n",
      "Epoch 20/50\n",
      "83/83 [==============================] - 0s 454us/step - loss: 0.4739 - mean_squared_error: 0.1557 - mean_absolute_error: 0.3234 - acc: 0.7665 - val_loss: 0.5901 - val_mean_squared_error: 0.2018 - val_mean_absolute_error: 0.4076 - val_acc: 0.6914\n",
      "Epoch 21/50\n",
      "83/83 [==============================] - 0s 436us/step - loss: 0.4617 - mean_squared_error: 0.1514 - mean_absolute_error: 0.3112 - acc: 0.7721 - val_loss: 0.5871 - val_mean_squared_error: 0.2005 - val_mean_absolute_error: 0.4052 - val_acc: 0.6961\n",
      "Epoch 22/50\n",
      "83/83 [==============================] - 0s 448us/step - loss: 0.4506 - mean_squared_error: 0.1471 - mean_absolute_error: 0.3036 - acc: 0.7855 - val_loss: 0.5861 - val_mean_squared_error: 0.1999 - val_mean_absolute_error: 0.4059 - val_acc: 0.7035\n",
      "Epoch 23/50\n",
      "83/83 [==============================] - 0s 453us/step - loss: 0.4400 - mean_squared_error: 0.1430 - mean_absolute_error: 0.2958 - acc: 0.7896 - val_loss: 0.5831 - val_mean_squared_error: 0.1985 - val_mean_absolute_error: 0.4019 - val_acc: 0.7047\n",
      "Epoch 24/50\n",
      "83/83 [==============================] - 0s 498us/step - loss: 0.4331 - mean_squared_error: 0.1409 - mean_absolute_error: 0.2930 - acc: 0.7945 - val_loss: 0.5831 - val_mean_squared_error: 0.1982 - val_mean_absolute_error: 0.3957 - val_acc: 0.7067\n",
      "Epoch 25/50\n",
      "83/83 [==============================] - 0s 535us/step - loss: 0.4220 - mean_squared_error: 0.1370 - mean_absolute_error: 0.2841 - acc: 0.8014 - val_loss: 0.5811 - val_mean_squared_error: 0.1967 - val_mean_absolute_error: 0.3827 - val_acc: 0.7071\n",
      "Epoch 26/50\n",
      "83/83 [==============================] - 0s 512us/step - loss: 0.4051 - mean_squared_error: 0.1306 - mean_absolute_error: 0.2721 - acc: 0.8120 - val_loss: 0.5784 - val_mean_squared_error: 0.1960 - val_mean_absolute_error: 0.3872 - val_acc: 0.7133\n",
      "Epoch 27/50\n",
      "83/83 [==============================] - 0s 573us/step - loss: 0.3961 - mean_squared_error: 0.1273 - mean_absolute_error: 0.2622 - acc: 0.8184 - val_loss: 0.5770 - val_mean_squared_error: 0.1953 - val_mean_absolute_error: 0.3881 - val_acc: 0.7110\n",
      "Epoch 28/50\n",
      "83/83 [==============================] - 0s 512us/step - loss: 0.3881 - mean_squared_error: 0.1245 - mean_absolute_error: 0.2597 - acc: 0.8203 - val_loss: 0.5872 - val_mean_squared_error: 0.1995 - val_mean_absolute_error: 0.3915 - val_acc: 0.7090\n",
      "Epoch 29/50\n",
      "83/83 [==============================] - 0s 511us/step - loss: 0.3806 - mean_squared_error: 0.1218 - mean_absolute_error: 0.2568 - acc: 0.8243 - val_loss: 0.5848 - val_mean_squared_error: 0.1970 - val_mean_absolute_error: 0.3727 - val_acc: 0.7125\n",
      "Epoch 30/50\n",
      "83/83 [==============================] - 0s 504us/step - loss: 0.3725 - mean_squared_error: 0.1187 - mean_absolute_error: 0.2521 - acc: 0.8320 - val_loss: 0.5790 - val_mean_squared_error: 0.1942 - val_mean_absolute_error: 0.3758 - val_acc: 0.7157\n",
      "Epoch 31/50\n",
      "83/83 [==============================] - 0s 525us/step - loss: 0.3616 - mean_squared_error: 0.1148 - mean_absolute_error: 0.2427 - acc: 0.8324 - val_loss: 0.5768 - val_mean_squared_error: 0.1948 - val_mean_absolute_error: 0.3786 - val_acc: 0.7176\n",
      "Epoch 32/50\n"
     ]
    },
    {
     "name": "stdout",
     "output_type": "stream",
     "text": [
      "83/83 [==============================] - 0s 470us/step - loss: 0.3466 - mean_squared_error: 0.1099 - mean_absolute_error: 0.2326 - acc: 0.8413 - val_loss: 0.5804 - val_mean_squared_error: 0.1953 - val_mean_absolute_error: 0.3742 - val_acc: 0.7118\n",
      "Epoch 33/50\n",
      "83/83 [==============================] - 0s 500us/step - loss: 0.3394 - mean_squared_error: 0.1073 - mean_absolute_error: 0.2252 - acc: 0.8479 - val_loss: 0.5819 - val_mean_squared_error: 0.1968 - val_mean_absolute_error: 0.3807 - val_acc: 0.7075\n",
      "Epoch 34/50\n",
      "83/83 [==============================] - 0s 477us/step - loss: 0.3294 - mean_squared_error: 0.1041 - mean_absolute_error: 0.2197 - acc: 0.8523 - val_loss: 0.5854 - val_mean_squared_error: 0.1974 - val_mean_absolute_error: 0.3797 - val_acc: 0.7059\n",
      "Epoch 35/50\n",
      "83/83 [==============================] - 0s 471us/step - loss: 0.3183 - mean_squared_error: 0.1005 - mean_absolute_error: 0.2137 - acc: 0.8559 - val_loss: 0.5907 - val_mean_squared_error: 0.1978 - val_mean_absolute_error: 0.3672 - val_acc: 0.7094\n",
      "Epoch 36/50\n",
      "83/83 [==============================] - 0s 419us/step - loss: 0.3121 - mean_squared_error: 0.0981 - mean_absolute_error: 0.2072 - acc: 0.8627 - val_loss: 0.5813 - val_mean_squared_error: 0.1955 - val_mean_absolute_error: 0.3705 - val_acc: 0.7110\n",
      "Epoch 37/50\n",
      "83/83 [==============================] - 0s 416us/step - loss: 0.3059 - mean_squared_error: 0.0958 - mean_absolute_error: 0.2046 - acc: 0.8645 - val_loss: 0.5817 - val_mean_squared_error: 0.1939 - val_mean_absolute_error: 0.3613 - val_acc: 0.7188\n",
      "Epoch 38/50\n",
      "83/83 [==============================] - 0s 418us/step - loss: 0.3005 - mean_squared_error: 0.0941 - mean_absolute_error: 0.1989 - acc: 0.8674 - val_loss: 0.5873 - val_mean_squared_error: 0.1983 - val_mean_absolute_error: 0.3753 - val_acc: 0.7063\n",
      "Epoch 39/50\n",
      "83/83 [==============================] - 0s 418us/step - loss: 0.2935 - mean_squared_error: 0.0915 - mean_absolute_error: 0.1980 - acc: 0.8710 - val_loss: 0.5874 - val_mean_squared_error: 0.1944 - val_mean_absolute_error: 0.3552 - val_acc: 0.7173\n",
      "Epoch 40/50\n",
      "83/83 [==============================] - 0s 427us/step - loss: 0.2914 - mean_squared_error: 0.0909 - mean_absolute_error: 0.1958 - acc: 0.8722 - val_loss: 0.5965 - val_mean_squared_error: 0.1969 - val_mean_absolute_error: 0.3520 - val_acc: 0.7188\n",
      "Epoch 41/50\n",
      "83/83 [==============================] - 0s 406us/step - loss: 0.2827 - mean_squared_error: 0.0883 - mean_absolute_error: 0.1870 - acc: 0.8781 - val_loss: 0.5902 - val_mean_squared_error: 0.1968 - val_mean_absolute_error: 0.3624 - val_acc: 0.7122\n",
      "Epoch 42/50\n",
      "83/83 [==============================] - 0s 459us/step - loss: 0.2745 - mean_squared_error: 0.0854 - mean_absolute_error: 0.1838 - acc: 0.8828 - val_loss: 0.5945 - val_mean_squared_error: 0.1964 - val_mean_absolute_error: 0.3544 - val_acc: 0.7161\n",
      "Epoch 43/50\n",
      "83/83 [==============================] - 0s 498us/step - loss: 0.2651 - mean_squared_error: 0.0824 - mean_absolute_error: 0.1754 - acc: 0.8855 - val_loss: 0.5913 - val_mean_squared_error: 0.1984 - val_mean_absolute_error: 0.3648 - val_acc: 0.7075\n",
      "Epoch 44/50\n",
      "83/83 [==============================] - 0s 489us/step - loss: 0.2634 - mean_squared_error: 0.0817 - mean_absolute_error: 0.1746 - acc: 0.8861 - val_loss: 0.5935 - val_mean_squared_error: 0.1969 - val_mean_absolute_error: 0.3562 - val_acc: 0.7227\n",
      "Epoch 45/50\n",
      "83/83 [==============================] - 0s 444us/step - loss: 0.2504 - mean_squared_error: 0.0773 - mean_absolute_error: 0.1676 - acc: 0.8919 - val_loss: 0.5920 - val_mean_squared_error: 0.1975 - val_mean_absolute_error: 0.3587 - val_acc: 0.7094\n",
      "Epoch 46/50\n",
      "83/83 [==============================] - 0s 467us/step - loss: 0.2460 - mean_squared_error: 0.0755 - mean_absolute_error: 0.1642 - acc: 0.8935 - val_loss: 0.5895 - val_mean_squared_error: 0.1967 - val_mean_absolute_error: 0.3595 - val_acc: 0.7090\n",
      "Epoch 47/50\n",
      "83/83 [==============================] - 0s 424us/step - loss: 0.2387 - mean_squared_error: 0.0736 - mean_absolute_error: 0.1596 - acc: 0.8979 - val_loss: 0.6015 - val_mean_squared_error: 0.1974 - val_mean_absolute_error: 0.3498 - val_acc: 0.7133\n",
      "Epoch 48/50\n",
      "83/83 [==============================] - 0s 411us/step - loss: 0.2393 - mean_squared_error: 0.0738 - mean_absolute_error: 0.1585 - acc: 0.8957 - val_loss: 0.6139 - val_mean_squared_error: 0.2002 - val_mean_absolute_error: 0.3492 - val_acc: 0.7098\n",
      "Epoch 49/50\n",
      "83/83 [==============================] - 0s 420us/step - loss: 0.2275 - mean_squared_error: 0.0700 - mean_absolute_error: 0.1511 - acc: 0.9017 - val_loss: 0.6146 - val_mean_squared_error: 0.2022 - val_mean_absolute_error: 0.3603 - val_acc: 0.7098\n",
      "Epoch 50/50\n",
      "83/83 [==============================] - 0s 418us/step - loss: 0.2339 - mean_squared_error: 0.0724 - mean_absolute_error: 0.1547 - acc: 0.8994 - val_loss: 0.6083 - val_mean_squared_error: 0.2006 - val_mean_absolute_error: 0.3596 - val_acc: 0.7082\n"
     ]
    }
   ],
   "source": [
    "callbacks = []\n",
    "callbacks = [TensorBoard(log_dir=config.tmp_log_dir)]\n",
    "vs = 1/6\n",
    "m = 100\n",
    "# model.fit(x_train, y_train, epochs=epochs, batch_size=batch_size, callbacks=[TensorBoard(log_dir=config.tmp_log_dir)])\n",
    "history = model.fit(x_train[:m],x_train[:m], epochs=epochs, batch_size=batch_size,\n",
    "          validation_split=vs, callbacks=callbacks)"
   ]
  },
  {
   "cell_type": "code",
   "execution_count": 45,
   "metadata": {},
   "outputs": [
    {
     "data": {
      "text/plain": [
       "[<matplotlib.lines.Line2D at 0x1234e4588>]"
      ]
     },
     "execution_count": 45,
     "metadata": {},
     "output_type": "execute_result"
    },
    {
     "data": {
      "image/png": "[encoded data removed]",
      "text/plain": [
       "<matplotlib.figure.Figure at 0x11d885d68>"
      ]
     },
     "metadata": {},
     "output_type": "display_data"
    }
   ],
   "source": [
    "plt.plot(history.history['loss'])\n",
    "plt.plot(history.history['val_loss'])"
   ]
  },
  {
   "cell_type": "code",
   "execution_count": 46,
   "metadata": {},
   "outputs": [
    {
     "data": {
      "text/plain": [
       "[<matplotlib.lines.Line2D at 0x11d87a0b8>]"
      ]
     },
     "execution_count": 46,
     "metadata": {},
     "output_type": "execute_result"
    },
    {
     "data": {
      "image/png": "[encoded data removed]",
      "text/plain": [
       "<matplotlib.figure.Figure at 0x121d094e0>"
      ]
     },
     "metadata": {},
     "output_type": "display_data"
    }
   ],
   "source": [
    "plt.plot(history.history['acc'])\n",
    "plt.plot(history.history['val_acc'])"
   ]
  },
  {
   "cell_type": "code",
   "execution_count": null,
   "metadata": {},
   "outputs": [],
   "source": []
  },
  {
   "cell_type": "code",
   "execution_count": 49,
   "metadata": {},
   "outputs": [
    {
     "data": {
      "text/plain": [
       "(10, 150, 1)"
      ]
     },
     "execution_count": 49,
     "metadata": {},
     "output_type": "execute_result"
    }
   ],
   "source": [
    "results = model.predict(x_train[:10])\n",
    "results.shape"
   ]
  },
  {
   "cell_type": "code",
   "execution_count": 50,
   "metadata": {},
   "outputs": [
    {
     "data": {
      "text/plain": [
       "(0, 1)"
      ]
     },
     "execution_count": 50,
     "metadata": {},
     "output_type": "execute_result"
    },
    {
     "data": {
      "image/png": "[encoded data removed]",
      "text/plain": [
       "<matplotlib.figure.Figure at 0x12228b390>"
      ]
     },
     "metadata": {},
     "output_type": "display_data"
    }
   ],
   "source": [
    "n1 = 30\n",
    "i = 0\n",
    "plt.subplot(211)\n",
    "plt.plot(np.arange(n1), results[i][:n1])\n",
    "plt.plot([0.5] * n1) # midi.MIDI_NOISE_FLOOR\n",
    "plt.ylim(ymin=0, ymax=1)\n",
    "plt.subplot(212)\n",
    "\n",
    "plt.plot(np.arange(n1), x_train[i, :n1])\n",
    "plt.plot([0.5] * n1) # midi.MIDI_NOISE_FLOOR\n",
    "plt.ylim(ymin=0, ymax=1)"
   ]
  },
  {
   "cell_type": "code",
   "execution_count": null,
   "metadata": {},
   "outputs": [],
   "source": []
  },
  {
   "cell_type": "code",
   "execution_count": null,
   "metadata": {},
   "outputs": [],
   "source": []
  },
  {
   "cell_type": "code",
   "execution_count": null,
   "metadata": {},
   "outputs": [],
   "source": []
  },
  {
   "cell_type": "code",
   "execution_count": 24,
   "metadata": {},
   "outputs": [
    {
     "name": "stdout",
     "output_type": "stream",
     "text": [
      "\u001b[91m [DEBUG] > \u001b[0m\n",
      " |>  decode_track - input was not MultiTrack.\n",
      " |>  Assuming MultiTrack\n",
      "\u001b[92m [INFO] : \u001b[0m\n",
      " |  len, max_t\n",
      " |  0\n",
      " |  3.0\n"
     ]
    }
   ],
   "source": [
    "mid = midi.decode_track(context, result)\n",
    "dn = config.dataset_dir\n",
    "# io.export_midifile(mid, dn + 'song_seq-seq.mid')"
   ]
  },
  {
   "cell_type": "code",
   "execution_count": 102,
   "metadata": {},
   "outputs": [
    {
     "data": {
      "text/plain": [
       "(500, 1)"
      ]
     },
     "execution_count": 102,
     "metadata": {},
     "output_type": "execute_result"
    }
   ],
   "source": [
    "results = []\n",
    "latent_samples = []\n",
    "for seq in x_test[-2:]:\n",
    "    encoded = encode_sequence(np.stack([seq]))\n",
    "    latent_samples.append(encoded)\n",
    "    result = decode_sequence(encoded, encoder_model, decoder_model)\n",
    "    results.append(result)\n",
    "results[0].shape"
   ]
  },
  {
   "cell_type": "code",
   "execution_count": 52,
   "metadata": {},
   "outputs": [
    {
     "data": {
      "text/plain": [
       "2"
      ]
     },
     "execution_count": 52,
     "metadata": {},
     "output_type": "execute_result"
    }
   ],
   "source": [
    "len(encoded)"
   ]
  },
  {
   "cell_type": "code",
   "execution_count": 100,
   "metadata": {},
   "outputs": [
    {
     "data": {
      "text/plain": [
       "(1, 64)"
      ]
     },
     "execution_count": 100,
     "metadata": {},
     "output_type": "execute_result"
    }
   ],
   "source": [
    "encoded[0].shape"
   ]
  },
  {
   "cell_type": "code",
   "execution_count": 62,
   "metadata": {},
   "outputs": [
    {
     "data": {
      "text/plain": [
       "[<matplotlib.lines.Line2D at 0x11d004908>]"
      ]
     },
     "execution_count": 62,
     "metadata": {},
     "output_type": "execute_result"
    },
    {
     "data": {
      "image/png": "[encoded data removed]",
      "text/plain": [
       "<matplotlib.figure.Figure at 0x11cea0128>"
      ]
     },
     "metadata": {},
     "output_type": "display_data"
    }
   ],
   "source": [
    "plt.plot(encoded[0][0,:10])\n",
    "plt.plot(encoded[1][0,:10])"
   ]
  },
  {
   "cell_type": "code",
   "execution_count": 196,
   "metadata": {},
   "outputs": [
    {
     "data": {
      "text/plain": [
       "(2, 2, 1, 64)"
      ]
     },
     "execution_count": 196,
     "metadata": {},
     "output_type": "execute_result"
    }
   ],
   "source": [
    "e = np.array(latent_samples)\n",
    "e.shape"
   ]
  },
  {
   "cell_type": "code",
   "execution_count": 197,
   "metadata": {},
   "outputs": [
    {
     "data": {
      "text/plain": [
       "(2, 2, 1, 64)"
      ]
     },
     "execution_count": 197,
     "metadata": {},
     "output_type": "execute_result"
    }
   ],
   "source": [
    "# reduce dimensionality\n",
    "# e = e.reshape(e.shape[0],2,e.shape[-1])\n",
    "e.shape"
   ]
  },
  {
   "cell_type": "code",
   "execution_count": 200,
   "metadata": {},
   "outputs": [
    {
     "data": {
      "text/plain": [
       "(1, 64)"
      ]
     },
     "execution_count": 200,
     "metadata": {},
     "output_type": "execute_result"
    }
   ],
   "source": [
    "e1.mean(axis=0).shape"
   ]
  },
  {
   "cell_type": "code",
   "execution_count": 201,
   "metadata": {},
   "outputs": [
    {
     "data": {
      "text/plain": [
       "2"
      ]
     },
     "execution_count": 201,
     "metadata": {},
     "output_type": "execute_result"
    },
    {
     "data": {
      "image/png": "[encoded data removed]",
      "text/plain": [
       "<matplotlib.figure.Figure at 0x11f8ecc88>"
      ]
     },
     "metadata": {},
     "output_type": "display_data"
    }
   ],
   "source": [
    "# new = e.transpose().mean(axis=1).transpose()\n",
    "e1 = e[:,0] # state h\n",
    "e2 = e[:,1] # state c\n",
    "new = [e1.mean(axis=0), e2.mean(axis=0)]\n",
    "# new = [[e[:,i].mean(axis=0)] for i in [0,1]]\n",
    "plt.plot(new[0][0][:10])\n",
    "len(new)"
   ]
  },
  {
   "cell_type": "code",
   "execution_count": 202,
   "metadata": {},
   "outputs": [
    {
     "data": {
      "text/plain": [
       "(1, 64)"
      ]
     },
     "execution_count": 202,
     "metadata": {},
     "output_type": "execute_result"
    }
   ],
   "source": [
    "e1.mean(axis=0).shape"
   ]
  },
  {
   "cell_type": "code",
   "execution_count": 203,
   "metadata": {},
   "outputs": [
    {
     "data": {
      "text/plain": [
       "(1, 64)"
      ]
     },
     "execution_count": 203,
     "metadata": {},
     "output_type": "execute_result"
    }
   ],
   "source": [
    "l[0].shape"
   ]
  },
  {
   "cell_type": "code",
   "execution_count": 204,
   "metadata": {},
   "outputs": [
    {
     "data": {
      "text/plain": [
       "2"
      ]
     },
     "execution_count": 204,
     "metadata": {},
     "output_type": "execute_result"
    }
   ],
   "source": [
    "l = latent_samples[0]\n",
    "len(l) # latent_sample :: (x,1,64)"
   ]
  },
  {
   "cell_type": "code",
   "execution_count": 207,
   "metadata": {},
   "outputs": [],
   "source": [
    "# new_ = decode_sequence(latent_samples[0], encoder_model, decoder_model)\n",
    "new_ = decode_sequence(new, encoder_model, decoder_model)"
   ]
  },
  {
   "cell_type": "code",
   "execution_count": 210,
   "metadata": {},
   "outputs": [
    {
     "data": {
      "text/plain": [
       "(500, 1)"
      ]
     },
     "execution_count": 210,
     "metadata": {},
     "output_type": "execute_result"
    }
   ],
   "source": [
    "new_.shape"
   ]
  },
  {
   "cell_type": "code",
   "execution_count": 226,
   "metadata": {},
   "outputs": [
    {
     "data": {
      "text/plain": [
       "[<matplotlib.lines.Line2D at 0x11d2b98d0>]"
      ]
     },
     "execution_count": 226,
     "metadata": {},
     "output_type": "execute_result"
    },
    {
     "data": {
      "image/png": "[encoded data removed]",
      "text/plain": [
       "<matplotlib.figure.Figure at 0x11cff5ac8>"
      ]
     },
     "metadata": {},
     "output_type": "display_data"
    }
   ],
   "source": [
    "plt.plot(new_[:100])"
   ]
  },
  {
   "cell_type": "code",
   "execution_count": 231,
   "metadata": {},
   "outputs": [
    {
     "data": {
      "text/plain": [
       "[<matplotlib.lines.Line2D at 0x107c5d390>]"
      ]
     },
     "execution_count": 231,
     "metadata": {},
     "output_type": "execute_result"
    },
    {
     "data": {
      "image/png": "[encoded data removed]",
      "text/plain": [
       "<matplotlib.figure.Figure at 0x11cc47978>"
      ]
     },
     "metadata": {},
     "output_type": "display_data"
    }
   ],
   "source": [
    "plt.plot(results[0][:100])"
   ]
  },
  {
   "cell_type": "code",
   "execution_count": 223,
   "metadata": {},
   "outputs": [],
   "source": [
    "# results[0]"
   ]
  },
  {
   "cell_type": "code",
   "execution_count": 224,
   "metadata": {},
   "outputs": [
    {
     "name": "stdout",
     "output_type": "stream",
     "text": [
      "\u001b[91m [DEBUG] > \u001b[0m\n",
      " |>  decode_track - input was not MultiTrack.\n",
      " |>  Assuming MultiTrack\n",
      "\u001b[92m [INFO] : \u001b[0m\n",
      " |  len, max_t\n",
      " |  0\n",
      " |  3.0\n"
     ]
    }
   ],
   "source": [
    "mid_new = midi.decode_track(context, results[0])\n",
    "io.export_midifile(mid_new, config.export_dir + 'real_mid_new_lstm.mid')"
   ]
  },
  {
   "cell_type": "code",
   "execution_count": null,
   "metadata": {},
   "outputs": [],
   "source": []
  },
  {
   "cell_type": "code",
   "execution_count": null,
   "metadata": {},
   "outputs": [],
   "source": []
  },
  {
   "cell_type": "code",
   "execution_count": null,
   "metadata": {},
   "outputs": [],
   "source": []
  },
  {
   "cell_type": "code",
   "execution_count": null,
   "metadata": {},
   "outputs": [],
   "source": []
  },
  {
   "cell_type": "code",
   "execution_count": null,
   "metadata": {},
   "outputs": [],
   "source": []
  },
  {
   "cell_type": "markdown",
   "metadata": {},
   "source": [
    "## Alt\n",
    "Without teacher forcing https://blog.keras.io/a-ten-minute-introduction-to-sequence-to-sequence-learning-in-keras.html\n",
    "\n",
    "\n",
    "<i>\"In some niche cases you may not be able to use teacher forcing, because you don't have access to the full target sequences, e.g. if you are doing online training on very long sequences, where buffering complete input-target pairs would be impossible. In that case, you may want to do training by reinjecting the decoder's predictions into the decoder's input, just like we were doing for inference.\n",
    "\n",
    "You can achieve this by building a model that hard-codes the output reinjection loop: \"</i>"
   ]
  },
  {
   "cell_type": "code",
   "execution_count": null,
   "metadata": {},
   "outputs": [],
   "source": [
    "from keras.layers import Lambda\n",
    "from keras import backend as K\n",
    "\n",
    "# The first part is unchanged\n",
    "encoder_inputs = Input(shape=(None, num_encoder_tokens))\n",
    "encoder = LSTM(latent_dim, return_state=True)\n",
    "_, state_h, state_c = encoder(encoder_inputs)\n",
    "states = [state_h, state_c]\n",
    "\n",
    "# Set up the decoder, which will only process one timestep at a time.\n",
    "decoder_inputs = Input(shape=(1, num_decoder_tokens))\n",
    "decoder_lstm = LSTM(latent_dim, return_sequences=True, return_state=True)\n",
    "# output will be a probability distribution over the vectors\n",
    "decoder_dense = Dense(num_decoder_tokens, activation='softmax')\n",
    "\n",
    "all_outputs = []\n",
    "inputs = decoder_inputs\n",
    "max_decoder_seq_length = 100\n",
    "for _ in range(max_decoder_seq_length):\n",
    "    # Run the decoder on one timestep\n",
    "    outputs, state_h, state_c = decoder_lstm(inputs,\n",
    "                                             initial_state=states)\n",
    "    outputs = decoder_dense(outputs)\n",
    "    # Store the current prediction (we will concatenate all predictions later)\n",
    "    all_outputs.append(outputs)\n",
    "    # Reinject the outputs as inputs for the next loop iteration\n",
    "    # as well as update the states\n",
    "    inputs = outputs\n",
    "    states = [state_h, state_c]\n",
    "\n",
    "# Concatenate all predictions\n",
    "decoder_outputs = Lambda(lambda x: K.concatenate(x, axis=1))(all_outputs)\n",
    "\n",
    "# Define and compile model as previously\n",
    "model = Model([encoder_inputs, decoder_inputs], decoder_outputs)\n",
    "model.summary()"
   ]
  },
  {
   "cell_type": "code",
   "execution_count": null,
   "metadata": {},
   "outputs": [],
   "source": [
    "model.compile(optimizer='rmsprop', loss='categorical_crossentropy')\n",
    "\n",
    "# Prepare decoder input data that just contains the start character\n",
    "# Note that we could have made it a constant hard-coded in the model\n",
    "decoder_input_data = np.zeros((x_train.shape[0], 1, num_decoder_tokens))\n",
    "\n",
    "# Train model as previously\n",
    "model.fit([x_train,y_train], z_train, epochs=10, batch_size=batch_size,\n",
    "          validation_split=0.2, callbacks=callbacks)"
   ]
  },
  {
   "cell_type": "code",
   "execution_count": null,
   "metadata": {},
   "outputs": [],
   "source": []
  },
  {
   "cell_type": "code",
   "execution_count": null,
   "metadata": {},
   "outputs": [],
   "source": []
  },
  {
   "cell_type": "code",
   "execution_count": null,
   "metadata": {},
   "outputs": [],
   "source": []
  },
  {
   "cell_type": "code",
   "execution_count": null,
   "metadata": {},
   "outputs": [],
   "source": []
  },
  {
   "cell_type": "code",
   "execution_count": null,
   "metadata": {},
   "outputs": [],
   "source": []
  },
  {
   "cell_type": "code",
   "execution_count": null,
   "metadata": {},
   "outputs": [],
   "source": []
  },
  {
   "cell_type": "code",
   "execution_count": null,
   "metadata": {},
   "outputs": [],
   "source": []
  },
  {
   "cell_type": "code",
   "execution_count": null,
   "metadata": {},
   "outputs": [],
   "source": []
  },
  {
   "cell_type": "code",
   "execution_count": null,
   "metadata": {},
   "outputs": [],
   "source": [
    "x_test.shape"
   ]
  },
  {
   "cell_type": "code",
   "execution_count": null,
   "metadata": {},
   "outputs": [],
   "source": [
    "# x_test, y_test = gen_xy_sin_to_f(3, f=2)"
   ]
  },
  {
   "cell_type": "code",
   "execution_count": null,
   "metadata": {
    "scrolled": true
   },
   "outputs": [],
   "source": [
    "results = model.predict([x_test,x_test])\n",
    "results.shape"
   ]
  },
  {
   "cell_type": "code",
   "execution_count": null,
   "metadata": {},
   "outputs": [],
   "source": [
    "# the 'true' results\n",
    "i = 0\n",
    "selection = int(x_test.shape[1] * 1)\n",
    "full = np.concatenate([x_test[i,-selection:],y_test[i]])\n",
    "n3 = full.shape[0]\n",
    "plt.plot(np.arange(n3) / n3 * dt, full)"
   ]
  },
  {
   "cell_type": "code",
   "execution_count": null,
   "metadata": {},
   "outputs": [],
   "source": [
    "# predicted results\n",
    "i = 0\n",
    "full = np.concatenate([x_test[i,-selection:],results[i]])\n",
    "n3 = full.shape[0]\n",
    "plt.plot(np.arange(n3) / n3 * dt, full)"
   ]
  },
  {
   "cell_type": "code",
   "execution_count": null,
   "metadata": {},
   "outputs": [],
   "source": [
    "i = 2\n",
    "selection = int(x_test.shape[1] * 1)\n",
    "full = np.concatenate([x_test[i,-selection:],results[i]])\n",
    "n3 = full.shape[0]\n",
    "plt.plot(np.arange(n3) / n3 * dt, full)"
   ]
  },
  {
   "cell_type": "code",
   "execution_count": null,
   "metadata": {},
   "outputs": [],
   "source": [
    "i = 0\n",
    "selection = 1\n",
    "full = np.concatenate([x_test[i,-selection:],results[i]])\n",
    "n3 = full.shape[0]\n",
    "plt.plot(np.arange(n3) / n3 * dt, full)"
   ]
  },
  {
   "cell_type": "code",
   "execution_count": null,
   "metadata": {},
   "outputs": [],
   "source": []
  },
  {
   "cell_type": "code",
   "execution_count": null,
   "metadata": {},
   "outputs": [],
   "source": []
  },
  {
   "cell_type": "code",
   "execution_count": null,
   "metadata": {},
   "outputs": [],
   "source": []
  },
  {
   "cell_type": "code",
   "execution_count": null,
   "metadata": {},
   "outputs": [],
   "source": []
  },
  {
   "cell_type": "code",
   "execution_count": null,
   "metadata": {},
   "outputs": [],
   "source": []
  },
  {
   "cell_type": "code",
   "execution_count": null,
   "metadata": {},
   "outputs": [],
   "source": []
  }
 ],
 "metadata": {
  "kernelspec": {
   "display_name": "Python 3",
   "language": "python",
   "name": "python3"
  },
  "language_info": {
   "codemirror_mode": {
    "name": "ipython",
    "version": 3
   },
   "file_extension": ".py",
   "mimetype": "text/x-python",
   "name": "python",
   "nbconvert_exporter": "python",
   "pygments_lexer": "ipython3",
   "version": "3.6.4"
  }
 },
 "nbformat": 4,
 "nbformat_minor": 2
}
