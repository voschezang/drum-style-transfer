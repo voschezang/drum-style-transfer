{
 "cells": [
  {
   "cell_type": "code",
   "execution_count": 1,
   "metadata": {},
   "outputs": [],
   "source": [
    "import config\n",
    "import os, numpy as np, pandas, sklearn\n",
    "import mido\n",
    "import matplotlib.pyplot as plt\n",
    "%matplotlib inline"
   ]
  },
  {
   "cell_type": "code",
   "execution_count": 2,
   "metadata": {},
   "outputs": [
    {
     "name": "stderr",
     "output_type": "stream",
     "text": [
      "/Library/Frameworks/Python.framework/Versions/3.6/lib/python3.6/site-packages/h5py/__init__.py:36: FutureWarning: Conversion of the second argument of issubdtype from `float` to `np.floating` is deprecated. In future, it will be treated as `np.float64 == np.dtype(float).type`.\n",
      "  from ._conv import register_converters as _register_converters\n",
      "Using TensorFlow backend.\n"
     ]
    }
   ],
   "source": [
    "## NN libs\n",
    "from sklearn.decomposition import PCA\n",
    "from sklearn import preprocessing\n",
    "from sklearn.preprocessing import RobustScaler\n",
    "import keras\n",
    "from keras import regularizers\n",
    "from keras.utils import to_categorical\n",
    "from keras.models import Sequential\n",
    "from keras.optimizers import SGD, Adam\n",
    "from keras.layers import Input, Dense, Activation, Conv1D, Conv2D, Dropout, Flatten\n",
    "from keras.layers import Conv2DTranspose, Reshape, MaxPooling2D, UpSampling2D, UpSampling1D, MaxPooling1D\n",
    "from keras.layers import LocallyConnected1D, LocallyConnected2D\n",
    "from keras.layers import Input, LSTM, RepeatVector\n",
    "from keras.models import Model\n",
    "from keras.callbacks import TensorBoard"
   ]
  },
  {
   "cell_type": "code",
   "execution_count": 3,
   "metadata": {},
   "outputs": [
    {
     "name": "stdout",
     "output_type": "stream",
     "text": [
      " Context :: namedtuple(\n",
      "[ max_t = float\n",
      ", dt = float\n",
      ", n_instances = int\n",
      ", note_length = int\n",
      ", bpm = float\n",
      ", tempo = float\n",
      ", ticks_per_beat = int\n",
      "]\n",
      "\n"
     ]
    }
   ],
   "source": [
    "# local libs\n",
    "import config, models, functions\n",
    "from data import data, midi, midi_generators as g\n",
    "from utils import io, models_io"
   ]
  },
  {
   "cell_type": "code",
   "execution_count": 4,
   "metadata": {
    "scrolled": true
   },
   "outputs": [
    {
     "name": "stdout",
     "output_type": "stream",
     "text": [
      "Setting up params\n",
      "\n",
      "max min f 25.0 0.3333333333333333\n",
      " >> Context(max_t=3.0, dt=0.02, n_instances=150, note_length=0.03, bpm=120.0, tempo=500000, ticks_per_beat=480)\n",
      "Importing midi-data\n",
      "\n",
      "\u001b[92m [INFO] : \u001b[0m\n",
      " |  reading file: ../datasets/examples/01 16th Snare.mid\n",
      "\u001b[92m [INFO] : \u001b[0m\n",
      " |  reading file: ../datasets/examples/01 8th Cym.mid\n",
      "\u001b[92m [INFO] : \u001b[0m\n",
      " |  reading file: ../datasets/examples/01 8th Hat.mid\n",
      "\u001b[92m [INFO] : \u001b[0m\n",
      " |  reading file: ../datasets/examples/02 8th Cym.mid\n",
      "\u001b[92m [INFO] : \u001b[0m\n",
      " |  reading file: ../datasets/examples/114_LetsDance_DavidBowie1.mid\n",
      "\u001b[92m [INFO] : \u001b[0m\n",
      " |  reading file: ../datasets/examples/127_SweetChildOMine_GunsAndRoses1.mid\n",
      "\u001b[92m [INFO] : \u001b[0m\n",
      " |  reading file: ../datasets/examples/92_GiveItAway_TheRedHotChiliPeppers.mid\n",
      "\u001b[92m [INFO] : \u001b[0m\n",
      " |  reading file: ../datasets/examples/94_Creep_Radiohead2.mid\n",
      "\u001b[92m [INFO] : \u001b[0m\n",
      " |  reading file: ../datasets/examples/bossa 1.mid\n",
      "\u001b[92m [INFO] : \u001b[0m\n",
      " |  reading file: ../datasets/examples/bossa 2.mid\n",
      "\u001b[92m [INFO] : \u001b[0m\n",
      " |  reading file: ../datasets/examples/bossa 3.mid\n",
      "\u001b[92m [INFO] : \u001b[0m\n",
      " |  reading file: ../datasets/examples/bossa 4.mid\n",
      "\u001b[92m [INFO] : \u001b[0m\n",
      " |  reading file: ../datasets/examples/G3.mid\n",
      "\u001b[92m [INFO] : \u001b[0m\n",
      " |  reading file: ../datasets/examples/G4.mid\n",
      "\u001b[92m [INFO] : \u001b[0m\n",
      " |  reading file: ../datasets/examples/G5.mid\n",
      "\u001b[92m [INFO] : \u001b[0m\n",
      " |  reading file: ../datasets/examples/G6.mid\n",
      "\u001b[92m [INFO] : \u001b[0m\n",
      " |  reading file: ../datasets/examples/simple-shuffle-120.mid\n",
      "\u001b[92m [INFO] : \u001b[0m\n",
      " |  reading file: ../datasets/examples/simple-straight-120.mid\n",
      "\n",
      "Encoding midi-data\n",
      " [<midi file '../datasets/examples/01 16th Snare.mid' type 0, 1 tracks, 182 messages>, <midi file '../datasets/examples/01 8th Cym.mid' type 0, 1 tracks, 68 messages>, <midi file '../datasets/examples/01 8th Hat.mid' type 0, 1 tracks, 60 messages>, <midi file '../datasets/examples/02 8th Cym.mid' type 0, 1 tracks, 72 messages>, <midi file '../datasets/examples/114_LetsDance_DavidBowie1.mid' type 0, 1 tracks, 76 messages>, <midi file '../datasets/examples/127_SweetChildOMine_GunsAndRoses1.mid' type 0, 1 tracks, 226 messages>, <midi file '../datasets/examples/92_GiveItAway_TheRedHotChiliPeppers.mid' type 0, 1 tracks, 132 messages>, <midi file '../datasets/examples/94_Creep_Radiohead2.mid' type 0, 1 tracks, 126 messages>, <midi file '../datasets/examples/bossa 1.mid' type 0, 1 tracks, 40 messages>, <midi file '../datasets/examples/bossa 2.mid' type 0, 1 tracks, 38 messages>, <midi file '../datasets/examples/bossa 3.mid' type 0, 1 tracks, 34 messages>, <midi file '../datasets/examples/bossa 4.mid' type 0, 1 tracks, 42 messages>, <midi file '../datasets/examples/G3.mid' type 0, 1 tracks, 58 messages>, <midi file '../datasets/examples/G4.mid' type 0, 1 tracks, 111 messages>, <midi file '../datasets/examples/G5.mid' type 0, 1 tracks, 85 messages>, <midi file '../datasets/examples/G6.mid' type 0, 1 tracks, 107 messages>, <midi file '../datasets/examples/simple-shuffle-120.mid' type 0, 1 tracks, 68 messages>, <midi file '../datasets/examples/simple-straight-120.mid' type 0, 1 tracks, 68 messages>]\n",
      "> -> multi-track = False\n",
      "\u001b[91m [DEBUG] > \u001b[0m\n",
      " |>  to_array: msg.time > max_t; t, n\n",
      " |>  2.994791666666667\n",
      " |>  150\n",
      "\u001b[91m [DEBUG] > \u001b[0m\n",
      " |>  to_array: msg.time > max_t; t, n\n",
      " |>  2.9947916666666665\n",
      " |>  150\n",
      "\u001b[91m [DEBUG] > \u001b[0m\n",
      " |>  to_array: msg.time > max_t; t, n\n",
      " |>  2.9947916666666665\n",
      " |>  150\n",
      "\u001b[91m [DEBUG] > \u001b[0m\n",
      " |>  to_array: msg.time > max_t; t, n\n",
      " |>  2.994791666666667\n",
      " |>  150\n",
      "\u001b[91m [DEBUG] > \u001b[0m\n",
      " |>  to_array: msg.time > max_t; t, n\n",
      " |>  2.999999999999999\n",
      " |>  150\n",
      "\u001b[91m [DEBUG] > \u001b[0m\n",
      " |>  to_array: msg.time > max_t; t, n\n",
      " |>  3.0\n",
      " |>  150\n",
      "\u001b[91m [DEBUG] > \u001b[0m\n",
      " |>  to_array: msg.time > max_t; t, n\n",
      " |>  2.9999999999999996\n",
      " |>  150\n",
      "\u001b[91m [DEBUG] > \u001b[0m\n",
      " |>  to_array: msg.time > max_t; t, n\n",
      " |>  3.0000000000000004\n",
      " |>  150\n",
      "\u001b[91m [DEBUG] > \u001b[0m\n",
      " |>  to_array: msg.time > max_t; t, n\n",
      " |>  3.0057662250000003\n",
      " |>  150\n",
      "\u001b[91m [DEBUG] > \u001b[0m\n",
      " |>  to_array: msg.time > max_t; t, n\n",
      " |>  2.9932662375\n",
      " |>  150\n",
      "\u001b[91m [DEBUG] > \u001b[0m\n",
      " |>  to_array: msg.time > max_t; t, n\n",
      " |>  3.6615348\n",
      " |>  150\n",
      "\u001b[91m [DEBUG] > \u001b[0m\n",
      " |>  to_array: msg.time > max_t; t, n\n",
      " |>  2.9961508500000003\n",
      " |>  150\n",
      "\u001b[91m [DEBUG] > \u001b[0m\n",
      " |>  to_array: msg.time > max_t; t, n\n",
      " |>  3.0\n",
      " |>  150\n",
      "\u001b[91m [DEBUG] > \u001b[0m\n",
      " |>  to_array: msg.time > max_t; t, n\n",
      " |>  3.0\n",
      " |>  150\n"
     ]
    }
   ],
   "source": [
    "n = 100\n",
    "multiTrack = False\n",
    "context, x_test, labels = data.import_data(data.init(), n, multiTrack=multiTrack)"
   ]
  },
  {
   "cell_type": "code",
   "execution_count": 6,
   "metadata": {},
   "outputs": [
    {
     "name": "stdout",
     "output_type": "stream",
     "text": [
      "\u001b[91m [DEBUG] > \u001b[0m\n",
      " |>  decode_track - input was not MultiTrack.\n",
      " |>  Assuming MultiTrack\n",
      "\u001b[92m [INFO] : \u001b[0m\n",
      " |  len, max_t\n",
      " |  2.810416666666667\n",
      " |  3.0\n"
     ]
    }
   ],
   "source": [
    "dn = config.export_dir\n",
    "mid_new = midi.decode_track(context, x_test[-2])\n",
    "io.export_midifile(mid_new, dn + 'encode_decoder2.mid')"
   ]
  },
  {
   "cell_type": "code",
   "execution_count": null,
   "metadata": {},
   "outputs": [],
   "source": []
  },
  {
   "cell_type": "code",
   "execution_count": null,
   "metadata": {},
   "outputs": [],
   "source": []
  },
  {
   "cell_type": "code",
   "execution_count": 7,
   "metadata": {
    "scrolled": true
   },
   "outputs": [
    {
     "name": "stdout",
     "output_type": "stream",
     "text": [
      "\u001b[91m [DEBUG] > \u001b[0m\n",
      " |>  to_array: msg.time > max_t; t, n\n",
      " |>  2.9947916666666683\n",
      " |>  150\n",
      "\u001b[91m [DEBUG] > \u001b[0m\n",
      " |>  to_array: msg.time > max_t; t, n\n",
      " |>  2.992708333333333\n",
      " |>  150\n",
      "\u001b[91m [DEBUG] > \u001b[0m\n",
      " |>  to_array: msg.time > max_t; t, n\n",
      " |>  2.991666666666669\n",
      " |>  150\n",
      "\u001b[91m [DEBUG] > \u001b[0m\n",
      " |>  to_array: msg.time > max_t; t, n\n",
      " |>  2.996874999999999\n",
      " |>  150\n",
      "\u001b[91m [DEBUG] > \u001b[0m\n",
      " |>  to_array: msg.time > max_t; t, n\n",
      " |>  2.991666666666668\n",
      " |>  150\n",
      "\u001b[91m [DEBUG] > \u001b[0m\n",
      " |>  to_array: msg.time > max_t; t, n\n",
      " |>  2.990625\n",
      " |>  150\n",
      "\u001b[91m [DEBUG] > \u001b[0m\n",
      " |>  to_array: msg.time > max_t; t, n\n",
      " |>  2.9916666666666667\n",
      " |>  150\n",
      "\u001b[91m [DEBUG] > \u001b[0m\n",
      " |>  to_array: msg.time > max_t; t, n\n",
      " |>  2.9916666666666654\n",
      " |>  150\n",
      "\u001b[91m [DEBUG] > \u001b[0m\n",
      " |>  to_array: msg.time > max_t; t, n\n",
      " |>  2.9937500000000026\n",
      " |>  150\n",
      "\u001b[91m [DEBUG] > \u001b[0m\n",
      " |>  to_array: msg.time > max_t; t, n\n",
      " |>  2.9927083333333346\n",
      " |>  150\n",
      "\u001b[91m [DEBUG] > \u001b[0m\n",
      " |>  to_array: msg.time > max_t; t, n\n",
      " |>  2.997916666666669\n",
      " |>  150\n",
      "\u001b[91m [DEBUG] > \u001b[0m\n",
      " |>  to_array: msg.time > max_t; t, n\n",
      " |>  2.9947916666666683\n",
      " |>  150\n",
      "\u001b[91m [DEBUG] > \u001b[0m\n",
      " |>  to_array: msg.time > max_t; t, n\n",
      " |>  3.0145833333333365\n",
      " |>  150\n",
      "\u001b[91m [DEBUG] > \u001b[0m\n",
      " |>  to_array: msg.time > max_t; t, n\n",
      " |>  2.993749999999999\n",
      " |>  150\n",
      "\u001b[91m [DEBUG] > \u001b[0m\n",
      " |>  to_array: msg.time > max_t; t, n\n",
      " |>  2.995833333333333\n",
      " |>  150\n",
      "\u001b[91m [DEBUG] > \u001b[0m\n",
      " |>  to_array: msg.time > max_t; t, n\n",
      " |>  2.991666666666669\n",
      " |>  150\n",
      "\u001b[91m [DEBUG] > \u001b[0m\n",
      " |>  to_array: msg.time > max_t; t, n\n",
      " |>  2.992708333333335\n",
      " |>  150\n",
      "\u001b[91m [DEBUG] > \u001b[0m\n",
      " |>  to_array: msg.time > max_t; t, n\n",
      " |>  2.992708333333334\n",
      " |>  150\n",
      "\u001b[91m [DEBUG] > \u001b[0m\n",
      " |>  to_array: msg.time > max_t; t, n\n",
      " |>  3.009375000000002\n",
      " |>  150\n",
      "\u001b[91m [DEBUG] > \u001b[0m\n",
      " |>  to_array: msg.time > max_t; t, n\n",
      " |>  2.9999999999999996\n",
      " |>  150\n",
      "\u001b[91m [DEBUG] > \u001b[0m\n",
      " |>  to_array: msg.time > max_t; t, n\n",
      " |>  2.998958333333333\n",
      " |>  150\n",
      "\u001b[91m [DEBUG] > \u001b[0m\n",
      " |>  to_array: msg.time > max_t; t, n\n",
      " |>  2.9916666666666702\n",
      " |>  150\n",
      "\u001b[91m [DEBUG] > \u001b[0m\n",
      " |>  to_array: msg.time > max_t; t, n\n",
      " |>  3.012500000000001\n",
      " |>  150\n",
      "\u001b[91m [DEBUG] > \u001b[0m\n",
      " |>  to_array: msg.time > max_t; t, n\n",
      " |>  2.994791666666667\n",
      " |>  150\n",
      "\u001b[91m [DEBUG] > \u001b[0m\n",
      " |>  to_array: msg.time > max_t; t, n\n",
      " |>  2.9989583333333303\n",
      " |>  150\n",
      "\u001b[91m [DEBUG] > \u001b[0m\n",
      " |>  to_array: msg.time > max_t; t, n\n",
      " |>  2.990625000000002\n",
      " |>  150\n",
      "\u001b[91m [DEBUG] > \u001b[0m\n",
      " |>  to_array: msg.time > max_t; t, n\n",
      " |>  3.0208333333333326\n",
      " |>  150\n",
      "\u001b[91m [DEBUG] > \u001b[0m\n",
      " |>  to_array: msg.time > max_t; t, n\n",
      " |>  2.993750000000002\n",
      " |>  150\n",
      "\u001b[91m [DEBUG] > \u001b[0m\n",
      " |>  to_array: msg.time > max_t; t, n\n",
      " |>  2.9947916666666665\n",
      " |>  150\n",
      "\u001b[91m [DEBUG] > \u001b[0m\n",
      " |>  to_array: msg.time > max_t; t, n\n",
      " |>  2.991666666666668\n",
      " |>  150\n",
      "\u001b[91m [DEBUG] > \u001b[0m\n",
      " |>  to_array: msg.time > max_t; t, n\n",
      " |>  3.008333333333336\n",
      " |>  150\n",
      "\u001b[91m [DEBUG] > \u001b[0m\n",
      " |>  to_array: msg.time > max_t; t, n\n",
      " |>  3.0052083333333335\n",
      " |>  150\n",
      "\u001b[91m [DEBUG] > \u001b[0m\n",
      " |>  to_array: msg.time > max_t; t, n\n",
      " |>  3.0062500000000028\n",
      " |>  150\n",
      "\u001b[91m [DEBUG] > \u001b[0m\n",
      " |>  to_array: msg.time > max_t; t, n\n",
      " |>  3.0239583333333364\n",
      " |>  150\n",
      "\u001b[91m [DEBUG] > \u001b[0m\n",
      " |>  to_array: msg.time > max_t; t, n\n",
      " |>  2.9947916666666687\n",
      " |>  150\n",
      "\u001b[91m [DEBUG] > \u001b[0m\n",
      " |>  to_array: msg.time > max_t; t, n\n",
      " |>  3.0041666666666687\n",
      " |>  150\n",
      "\u001b[91m [DEBUG] > \u001b[0m\n",
      " |>  to_array: msg.time > max_t; t, n\n",
      " |>  3.0\n",
      " |>  150\n",
      "\u001b[91m [DEBUG] > \u001b[0m\n",
      " |>  to_array: msg.time > max_t; t, n\n",
      " |>  3.005208333333335\n",
      " |>  150\n",
      "\u001b[91m [DEBUG] > \u001b[0m\n",
      " |>  to_array: msg.time > max_t; t, n\n",
      " |>  2.996874999999998\n",
      " |>  150\n",
      "\u001b[91m [DEBUG] > \u001b[0m\n",
      " |>  to_array: msg.time > max_t; t, n\n",
      " |>  3.003125000000003\n",
      " |>  150\n",
      "\u001b[91m [DEBUG] > \u001b[0m\n",
      " |>  to_array: msg.time > max_t; t, n\n",
      " |>  2.998958333333335\n",
      " |>  150\n",
      "\u001b[91m [DEBUG] > \u001b[0m\n",
      " |>  to_array: msg.time > max_t; t, n\n",
      " |>  2.9958333333333353\n",
      " |>  150\n",
      "\u001b[91m [DEBUG] > \u001b[0m\n",
      " |>  to_array: msg.time > max_t; t, n\n",
      " |>  2.997916666666667\n",
      " |>  150\n",
      "\u001b[91m [DEBUG] > \u001b[0m\n",
      " |>  to_array: msg.time > max_t; t, n\n",
      " |>  3.006250000000001\n",
      " |>  150\n",
      "\u001b[91m [DEBUG] > \u001b[0m\n",
      " |>  to_array: msg.time > max_t; t, n\n",
      " |>  2.9906250000000036\n",
      " |>  150\n",
      "\u001b[91m [DEBUG] > \u001b[0m\n",
      " |>  to_array: msg.time > max_t; t, n\n",
      " |>  2.997916666666666\n",
      " |>  150\n",
      "\u001b[91m [DEBUG] > \u001b[0m\n",
      " |>  to_array: msg.time > max_t; t, n\n",
      " |>  2.9906250000000014\n",
      " |>  150\n",
      "\u001b[91m [DEBUG] > \u001b[0m\n",
      " |>  to_array: msg.time > max_t; t, n\n",
      " |>  2.9958333333333327\n",
      " |>  150\n",
      "\u001b[91m [DEBUG] > \u001b[0m\n",
      " |>  to_array: msg.time > max_t; t, n\n",
      " |>  3.009375\n",
      " |>  150\n",
      "\u001b[91m [DEBUG] > \u001b[0m\n",
      " |>  to_array: msg.time > max_t; t, n\n",
      " |>  2.992708333333334\n",
      " |>  150\n",
      "\u001b[91m [DEBUG] > \u001b[0m\n",
      " |>  to_array: msg.time > max_t; t, n\n",
      " |>  3.017708333333334\n",
      " |>  150\n",
      "\u001b[91m [DEBUG] > \u001b[0m\n",
      " |>  to_array: msg.time > max_t; t, n\n",
      " |>  3.0010416666666693\n",
      " |>  150\n",
      "\u001b[91m [DEBUG] > \u001b[0m\n",
      " |>  to_array: msg.time > max_t; t, n\n",
      " |>  2.9906250000000036\n",
      " |>  150\n",
      "\u001b[91m [DEBUG] > \u001b[0m\n",
      " |>  to_array: msg.time > max_t; t, n\n",
      " |>  2.9906249999999988\n",
      " |>  150\n",
      "\u001b[91m [DEBUG] > \u001b[0m\n",
      " |>  to_array: msg.time > max_t; t, n\n",
      " |>  3.007291666666668\n",
      " |>  150\n",
      "\u001b[91m [DEBUG] > \u001b[0m\n",
      " |>  to_array: msg.time > max_t; t, n\n",
      " |>  2.9979166666666672\n",
      " |>  150\n",
      "\u001b[91m [DEBUG] > \u001b[0m\n",
      " |>  to_array: msg.time > max_t; t, n\n",
      " |>  2.9968749999999975\n",
      " |>  150\n",
      "\u001b[91m [DEBUG] > \u001b[0m\n",
      " |>  to_array: msg.time > max_t; t, n\n",
      " |>  3.000000000000002\n",
      " |>  150\n",
      "\u001b[91m [DEBUG] > \u001b[0m\n",
      " |>  to_array: msg.time > max_t; t, n\n",
      " |>  2.994791666666668\n",
      " |>  150\n",
      "\u001b[91m [DEBUG] > \u001b[0m\n",
      " |>  to_array: msg.time > max_t; t, n\n",
      " |>  2.9989583333333334\n",
      " |>  150\n",
      "\u001b[91m [DEBUG] > \u001b[0m\n",
      " |>  to_array: msg.time > max_t; t, n\n",
      " |>  2.9906250000000005\n",
      " |>  150\n",
      "\u001b[91m [DEBUG] > \u001b[0m\n",
      " |>  to_array: msg.time > max_t; t, n\n",
      " |>  2.993750000000004\n",
      " |>  150\n",
      "\u001b[91m [DEBUG] > \u001b[0m\n",
      " |>  to_array: msg.time > max_t; t, n\n",
      " |>  3.001041666666671\n",
      " |>  150\n",
      "\u001b[91m [DEBUG] > \u001b[0m\n",
      " |>  to_array: msg.time > max_t; t, n\n",
      " |>  3.00104166666667\n",
      " |>  150\n",
      "\u001b[91m [DEBUG] > \u001b[0m\n",
      " |>  to_array: msg.time > max_t; t, n\n",
      " |>  2.990625000000002\n",
      " |>  150\n",
      "\u001b[91m [DEBUG] > \u001b[0m\n",
      " |>  to_array: msg.time > max_t; t, n\n",
      " |>  3.0010416666666706\n",
      " |>  150\n",
      "\u001b[91m [DEBUG] > \u001b[0m\n",
      " |>  to_array: msg.time > max_t; t, n\n",
      " |>  2.9979166666666686\n",
      " |>  150\n",
      "\u001b[91m [DEBUG] > \u001b[0m\n",
      " |>  to_array: msg.time > max_t; t, n\n",
      " |>  2.991666666666668\n",
      " |>  150\n",
      "\u001b[91m [DEBUG] > \u001b[0m\n",
      " |>  to_array: msg.time > max_t; t, n\n",
      " |>  3.006249999999997\n",
      " |>  150\n",
      "\u001b[91m [DEBUG] > \u001b[0m\n",
      " |>  to_array: msg.time > max_t; t, n\n",
      " |>  2.990625000000003\n",
      " |>  150\n",
      "\u001b[91m [DEBUG] > \u001b[0m\n",
      " |>  to_array: msg.time > max_t; t, n\n",
      " |>  2.997916666666668\n",
      " |>  150\n",
      "\u001b[91m [DEBUG] > \u001b[0m\n",
      " |>  to_array: msg.time > max_t; t, n\n",
      " |>  2.9906250000000005\n",
      " |>  150\n",
      "\u001b[91m [DEBUG] > \u001b[0m\n",
      " |>  to_array: msg.time > max_t; t, n\n",
      " |>  2.9916666666666645\n",
      " |>  150\n",
      "\u001b[91m [DEBUG] > \u001b[0m\n",
      " |>  to_array: msg.time > max_t; t, n\n",
      " |>  2.9906250000000023\n",
      " |>  150\n",
      "\u001b[91m [DEBUG] > \u001b[0m\n",
      " |>  to_array: msg.time > max_t; t, n\n",
      " |>  2.9979166666666663\n",
      " |>  150\n",
      "\u001b[91m [DEBUG] > \u001b[0m\n",
      " |>  to_array: msg.time > max_t; t, n\n",
      " |>  2.994791666666667\n",
      " |>  150\n",
      "\u001b[91m [DEBUG] > \u001b[0m\n",
      " |>  to_array: msg.time > max_t; t, n\n",
      " |>  2.994791666666671\n",
      " |>  150\n",
      "\u001b[91m [DEBUG] > \u001b[0m\n",
      " |>  to_array: msg.time > max_t; t, n\n",
      " |>  3.0114583333333313\n",
      " |>  150\n",
      "\u001b[91m [DEBUG] > \u001b[0m\n",
      " |>  to_array: msg.time > max_t; t, n\n",
      " |>  2.9989583333333343\n",
      " |>  150\n",
      "\u001b[91m [DEBUG] > \u001b[0m\n",
      " |>  to_array: msg.time > max_t; t, n\n",
      " |>  2.9989583333333356\n",
      " |>  150\n",
      "\u001b[91m [DEBUG] > \u001b[0m\n",
      " |>  to_array: msg.time > max_t; t, n\n",
      " |>  3.0020833333333328\n",
      " |>  150\n",
      "\u001b[91m [DEBUG] > \u001b[0m\n",
      " |>  to_array: msg.time > max_t; t, n\n",
      " |>  2.9989583333333343\n",
      " |>  150\n",
      "\u001b[91m [DEBUG] > \u001b[0m\n",
      " |>  to_array: msg.time > max_t; t, n\n",
      " |>  2.9906250000000005\n",
      " |>  150\n",
      "\u001b[91m [DEBUG] > \u001b[0m\n",
      " |>  to_array: msg.time > max_t; t, n\n",
      " |>  2.9958333333333362\n",
      " |>  150\n",
      "\u001b[91m [DEBUG] > \u001b[0m\n",
      " |>  to_array: msg.time > max_t; t, n\n",
      " |>  2.9979166666666677\n",
      " |>  150\n",
      "\u001b[91m [DEBUG] > \u001b[0m\n",
      " |>  to_array: msg.time > max_t; t, n\n",
      " |>  2.991666666666667\n",
      " |>  150\n",
      "\u001b[91m [DEBUG] > \u001b[0m\n",
      " |>  to_array: msg.time > max_t; t, n\n",
      " |>  2.9906250000000014\n",
      " |>  150\n",
      "\u001b[91m [DEBUG] > \u001b[0m\n",
      " |>  to_array: msg.time > max_t; t, n\n",
      " |>  2.9937499999999995\n",
      " |>  150\n",
      "\u001b[91m [DEBUG] > \u001b[0m\n",
      " |>  to_array: msg.time > max_t; t, n\n",
      " |>  2.992708333333331\n",
      " |>  150\n",
      "\u001b[91m [DEBUG] > \u001b[0m\n",
      " |>  to_array: msg.time > max_t; t, n\n",
      " |>  2.9947916666666683\n",
      " |>  150\n",
      "\u001b[91m [DEBUG] > \u001b[0m\n",
      " |>  to_array: msg.time > max_t; t, n\n",
      " |>  2.9989583333333343\n",
      " |>  150\n",
      "\u001b[91m [DEBUG] > \u001b[0m\n",
      " |>  to_array: msg.time > max_t; t, n\n",
      " |>  2.9927083333333364\n",
      " |>  150\n",
      "\u001b[91m [DEBUG] > \u001b[0m\n",
      " |>  to_array: msg.time > max_t; t, n\n",
      " |>  3.0031250000000025\n",
      " |>  150\n",
      "\u001b[91m [DEBUG] > \u001b[0m\n",
      " |>  to_array: msg.time > max_t; t, n\n",
      " |>  2.991666666666666\n",
      " |>  150\n"
     ]
    },
    {
     "name": "stdout",
     "output_type": "stream",
     "text": [
      "\u001b[91m [DEBUG] > \u001b[0m\n",
      " |>  to_array: msg.time > max_t; t, n\n",
      " |>  2.995833333333333\n",
      " |>  150\n",
      "\u001b[91m [DEBUG] > \u001b[0m\n",
      " |>  to_array: msg.time > max_t; t, n\n",
      " |>  2.997916666666665\n",
      " |>  150\n",
      "\u001b[91m [DEBUG] > \u001b[0m\n",
      " |>  to_array: msg.time > max_t; t, n\n",
      " |>  3.01041666666667\n",
      " |>  150\n",
      "\u001b[91m [DEBUG] > \u001b[0m\n",
      " |>  to_array: msg.time > max_t; t, n\n",
      " |>  3.0156249999999987\n",
      " |>  150\n",
      "\u001b[91m [DEBUG] > \u001b[0m\n",
      " |>  to_array: msg.time > max_t; t, n\n",
      " |>  3.001041666666668\n",
      " |>  150\n",
      "\u001b[91m [DEBUG] > \u001b[0m\n",
      " |>  to_array: msg.time > max_t; t, n\n",
      " |>  2.9947916666666727\n",
      " |>  150\n"
     ]
    }
   ],
   "source": [
    "min_f = 3\n",
    "max_f = 20\n",
    "# x_train = g.gen_data(context, n, max_f=max_f, min_f=min_f)\n",
    "x_train = g.gen_data_complex(context, n, max_f=max_f, min_f=min_f, multiTrack=multiTrack)\n",
    "\n",
    "# x_train = np.zeros([10,100,127])\n",
    "# y_train = x_train"
   ]
  },
  {
   "cell_type": "code",
   "execution_count": 8,
   "metadata": {},
   "outputs": [
    {
     "data": {
      "text/plain": [
       "[<matplotlib.lines.Line2D at 0x1197ea898>]"
      ]
     },
     "execution_count": 8,
     "metadata": {},
     "output_type": "execute_result"
    },
    {
     "data": {
      "image/png": "[encoded data removed]",
      "text/plain": [
       "<matplotlib.figure.Figure at 0x1179e1e10>"
      ]
     },
     "metadata": {},
     "output_type": "display_data"
    }
   ],
   "source": [
    "n6 = 30\n",
    "plt.subplot(221)\n",
    "plt.plot(x_train[0,:n6])\n",
    "plt.subplot(222)\n",
    "plt.plot(x_train[1,:n6])\n",
    "plt.subplot(223)\n",
    "plt.plot(x_train[2,:n6])\n",
    "plt.subplot(224)\n",
    "plt.plot(x_train[5,:n6])\n",
    "# plt.plot(x_train[1,:n6,0:2])"
   ]
  },
  {
   "cell_type": "code",
   "execution_count": 9,
   "metadata": {},
   "outputs": [
    {
     "data": {
      "text/plain": [
       "(268, 150, 1)"
      ]
     },
     "execution_count": 9,
     "metadata": {},
     "output_type": "execute_result"
    }
   ],
   "source": [
    "# [sum(x) for x in x_train]\n",
    "x_train.shape"
   ]
  },
  {
   "cell_type": "code",
   "execution_count": 33,
   "metadata": {},
   "outputs": [
    {
     "data": {
      "text/plain": [
       "(268, 150, 1)"
      ]
     },
     "execution_count": 33,
     "metadata": {},
     "output_type": "execute_result"
    }
   ],
   "source": [
    "y_train = x_train\n",
    "n_samples = x_train[0]\n",
    "input_shape = x_train.shape[1:] # shape of a single sample\n",
    "output_shape = y_train.shape[1:]\n",
    "# output_length = y_train.shape[1]\n",
    "# output_length = (y_train[0]).shape[0] # = length of an individual label\n",
    "hidden_layer_length = 100\n",
    "x_train.shape"
   ]
  },
  {
   "cell_type": "code",
   "execution_count": 34,
   "metadata": {
    "scrolled": false
   },
   "outputs": [
    {
     "name": "stdout",
     "output_type": "stream",
     "text": [
      "_________________________________________________________________\n",
      "Layer (type)                 Output Shape              Param #   \n",
      "=================================================================\n",
      "input_8 (InputLayer)         (None, 150, 1)            0         \n",
      "_________________________________________________________________\n",
      "flatten_3 (Flatten)          (None, 150)               0         \n",
      "_________________________________________________________________\n",
      "dense_9 (Dense)              (None, 100)               15100     \n",
      "_________________________________________________________________\n",
      "dense_10 (Dense)             (None, 100)               10100     \n",
      "=================================================================\n",
      "Total params: 25,200\n",
      "Trainable params: 25,200\n",
      "Non-trainable params: 0\n",
      "_________________________________________________________________\n",
      "_________________________________________________________________\n",
      "Layer (type)                 Output Shape              Param #   \n",
      "=================================================================\n",
      "input_9 (InputLayer)         (None, 100)               0         \n",
      "_________________________________________________________________\n",
      "dense_11 (Dense)             (None, 150)               15150     \n",
      "_________________________________________________________________\n",
      "dropout_3 (Dropout)          (None, 150)               0         \n",
      "_________________________________________________________________\n",
      "dense_12 (Dense)             (None, 150)               22650     \n",
      "_________________________________________________________________\n",
      "reshape_3 (Reshape)          (None, 150, 1)            0         \n",
      "=================================================================\n",
      "Total params: 37,800\n",
      "Trainable params: 37,800\n",
      "Non-trainable params: 0\n",
      "_________________________________________________________________\n"
     ]
    }
   ],
   "source": [
    "# functional syntax: lambda x: lambda y: z\n",
    "k_reg = regularizers.l2(0.01)\n",
    "# b_reg = regularizers.l1(0.01)\n",
    "a_reg = regularizers.l1(0.01)\n",
    "\n",
    "def encoder(input_shape, output_length, dropout=0.10):\n",
    "    input_layer = Input(shape=input_shape)\n",
    "    x = input_layer\n",
    "    x = Flatten()(x)\n",
    "#     x = Dense(output_length * 2, activation='relu')(x)    \n",
    "#     x = Dropout(dropout)(x)\n",
    "    x = Dense(output_length, activation='relu')(x)\n",
    "#     x = Dense(output_length, activation='relu', kernel_regularizer=k_reg, activity_regularizer=a_reg)(x)\n",
    "#     x = Dropout(dropout)(x)\n",
    "    x = Dense(output_length, activation='relu')(x)\n",
    "#     x = Dense(output_length, activation='relu', kernel_regularizer=k_reg, activity_regularizer=a_reg)(x)\n",
    "#     x = Dense(output_length, activation='sigmoid')(x)\n",
    "#     x = Dropout(dropout)(x)\n",
    "#     x = Dense(output_length, activation='relu', activity_regularizer=regularizers.l1(10e-5))(x)\n",
    "    #     model.add(Dropout(dropout))    \n",
    "    model = Model(inputs=input_layer, outputs=x)\n",
    "    return model\n",
    "\n",
    "\n",
    "def decoder(input_length, output_shape, dropout=0.10):\n",
    "    input_layer = Input(shape=(input_length,))\n",
    "    x = input_layer\n",
    "    shape = output_shape\n",
    "    # shape = (10,100) # increase n dimensions\n",
    "    \n",
    "    x = Dense(np.prod(shape), activation='relu')(x)\n",
    "#     x = Dense(np.prod(shape), activation='relu')(x)\n",
    "#     x = Dropout(dropout)(x)\n",
    "    x = Dropout(dropout)(x)\n",
    "    x = Dense(np.prod(shape), activation='sigmoid')(x)\n",
    "#     x = Dense(np.prod(shape), activation='sigmoid')(x) # 4*4*8 = 128\n",
    "    x = Reshape(shape)(x)\n",
    "#     x = UpSampling1D(10)(x)\n",
    "    # make sure the conv layer increases the amount of dimensions\n",
    "#     dims = keras.backend.int_shape(x)[1:]\n",
    "#     n_steps = output_shape[0]\n",
    "#     n_output_timesteps = output_shape[1]\n",
    "#     filters = n_output_timesteps\n",
    "#     conv_amt = 2\n",
    "#     print('__+++==', n_output_timesteps)\n",
    "#     x = Conv1D(filters, kernel_size=4, strides=2, activation='relu')(x) # 50,100\n",
    "\n",
    "    dims = keras.backend.int_shape(x)[1:]\n",
    "#     x = UpSampling1D(dims[0] * 2)(x)\n",
    "#     x = Dense(output_shape[1], activation='relu')(x)\n",
    "    #     x = LocallyConnected1D(output_shape[1], kernel_size=1, activation='relu')(x)\n",
    "    # x = Dense(output_length, activation='softmax')(x)\n",
    "    model = Model(inputs=input_layer, outputs=x)\n",
    "    #     model.add(Dropout(dropout))\n",
    "    return model\n",
    "\n",
    "\n",
    "def autoencoder(input_shape, output_shape, hidden_layer_length=10, dropout=0.10, verbose=False):\n",
    "    input_ = Input(shape=input_shape)\n",
    "    encode = encoder(input_shape, hidden_layer_length, dropout)\n",
    "    if verbose:\n",
    "        encode.summary()\n",
    "    decode = decoder(hidden_layer_length, output_shape, dropout)\n",
    "    if verbose:\n",
    "        decode.summary()\n",
    "    model = Model(input_, decode(encode(input_)))\n",
    "    return encode, decode, model\n",
    "\n",
    "dropout = 0.1\n",
    "encoder, decoder, auto = autoencoder(input_shape, output_shape, hidden_layer_length, dropout, True)"
   ]
  },
  {
   "cell_type": "code",
   "execution_count": 35,
   "metadata": {},
   "outputs": [],
   "source": [
    "metrics = ['accuracy','mse','mae']\n",
    "loss = 'binary_crossentropy'# binary_crossentropy categorical_crossentropy\n",
    "optimizer = 'adam' # adam adadelta rmsprop\n",
    "auto.compile(optimizer=optimizer, loss=loss, metrics=metrics)"
   ]
  },
  {
   "cell_type": "code",
   "execution_count": 36,
   "metadata": {},
   "outputs": [],
   "source": [
    "batch_size = 32\n",
    "# n epochs = n iterations over all the training data\n",
    "epochs = 90"
   ]
  },
  {
   "cell_type": "code",
   "execution_count": 37,
   "metadata": {
    "scrolled": true
   },
   "outputs": [
    {
     "name": "stdout",
     "output_type": "stream",
     "text": [
      "Train on 83 samples, validate on 17 samples\n",
      "Epoch 1/90\n",
      "83/83 [==============================] - 0s 2ms/step - loss: 0.6959 - acc: 0.5129 - mean_squared_error: 0.2514 - mean_absolute_error: 0.4994 - val_loss: 0.6860 - val_acc: 0.5757 - val_mean_squared_error: 0.2464 - val_mean_absolute_error: 0.4952\n",
      "Epoch 2/90\n",
      "83/83 [==============================] - 0s 215us/step - loss: 0.6847 - acc: 0.5733 - mean_squared_error: 0.2458 - mean_absolute_error: 0.4942 - val_loss: 0.6781 - val_acc: 0.6176 - val_mean_squared_error: 0.2425 - val_mean_absolute_error: 0.4910\n",
      "Epoch 3/90\n",
      "83/83 [==============================] - 0s 239us/step - loss: 0.6765 - acc: 0.6073 - mean_squared_error: 0.2417 - mean_absolute_error: 0.4895 - val_loss: 0.6696 - val_acc: 0.6529 - val_mean_squared_error: 0.2383 - val_mean_absolute_error: 0.4857\n",
      "Epoch 4/90\n",
      "83/83 [==============================] - 0s 179us/step - loss: 0.6669 - acc: 0.6372 - mean_squared_error: 0.2370 - mean_absolute_error: 0.4833 - val_loss: 0.6597 - val_acc: 0.6800 - val_mean_squared_error: 0.2334 - val_mean_absolute_error: 0.4786\n",
      "Epoch 5/90\n",
      "83/83 [==============================] - 0s 177us/step - loss: 0.6575 - acc: 0.6565 - mean_squared_error: 0.2324 - mean_absolute_error: 0.4750 - val_loss: 0.6490 - val_acc: 0.6961 - val_mean_squared_error: 0.2281 - val_mean_absolute_error: 0.4691\n",
      "Epoch 6/90\n",
      "83/83 [==============================] - 0s 215us/step - loss: 0.6459 - acc: 0.6705 - mean_squared_error: 0.2267 - mean_absolute_error: 0.4637 - val_loss: 0.6401 - val_acc: 0.7098 - val_mean_squared_error: 0.2237 - val_mean_absolute_error: 0.4600\n",
      "Epoch 7/90\n",
      "83/83 [==============================] - 0s 215us/step - loss: 0.6357 - acc: 0.6747 - mean_squared_error: 0.2219 - mean_absolute_error: 0.4538 - val_loss: 0.6332 - val_acc: 0.7114 - val_mean_squared_error: 0.2203 - val_mean_absolute_error: 0.4527\n",
      "Epoch 8/90\n",
      "83/83 [==============================] - 0s 202us/step - loss: 0.6258 - acc: 0.6789 - mean_squared_error: 0.2173 - mean_absolute_error: 0.4450 - val_loss: 0.6272 - val_acc: 0.7145 - val_mean_squared_error: 0.2173 - val_mean_absolute_error: 0.4474\n",
      "Epoch 9/90\n",
      "83/83 [==============================] - 0s 158us/step - loss: 0.6137 - acc: 0.6827 - mean_squared_error: 0.2118 - mean_absolute_error: 0.4372 - val_loss: 0.6209 - val_acc: 0.7176 - val_mean_squared_error: 0.2144 - val_mean_absolute_error: 0.4427\n",
      "Epoch 10/90\n",
      "83/83 [==============================] - 0s 161us/step - loss: 0.6047 - acc: 0.6832 - mean_squared_error: 0.2079 - mean_absolute_error: 0.4309 - val_loss: 0.6148 - val_acc: 0.7173 - val_mean_squared_error: 0.2115 - val_mean_absolute_error: 0.4376\n",
      "Epoch 11/90\n",
      "83/83 [==============================] - 0s 229us/step - loss: 0.5941 - acc: 0.6860 - mean_squared_error: 0.2032 - mean_absolute_error: 0.4233 - val_loss: 0.6081 - val_acc: 0.7180 - val_mean_squared_error: 0.2083 - val_mean_absolute_error: 0.4300\n",
      "Epoch 12/90\n",
      "83/83 [==============================] - 0s 213us/step - loss: 0.5810 - acc: 0.6892 - mean_squared_error: 0.1977 - mean_absolute_error: 0.4114 - val_loss: 0.6021 - val_acc: 0.7204 - val_mean_squared_error: 0.2055 - val_mean_absolute_error: 0.4212\n",
      "Epoch 13/90\n",
      "83/83 [==============================] - 0s 244us/step - loss: 0.5693 - acc: 0.6940 - mean_squared_error: 0.1930 - mean_absolute_error: 0.3996 - val_loss: 0.5967 - val_acc: 0.7208 - val_mean_squared_error: 0.2030 - val_mean_absolute_error: 0.4147\n",
      "Epoch 14/90\n",
      "83/83 [==============================] - 0s 149us/step - loss: 0.5611 - acc: 0.6995 - mean_squared_error: 0.1898 - mean_absolute_error: 0.3912 - val_loss: 0.5907 - val_acc: 0.7220 - val_mean_squared_error: 0.2004 - val_mean_absolute_error: 0.4106\n",
      "Epoch 15/90\n",
      "83/83 [==============================] - 0s 174us/step - loss: 0.5534 - acc: 0.7025 - mean_squared_error: 0.1867 - mean_absolute_error: 0.3852 - val_loss: 0.5854 - val_acc: 0.7259 - val_mean_squared_error: 0.1982 - val_mean_absolute_error: 0.4075\n",
      "Epoch 16/90\n",
      "83/83 [==============================] - 0s 203us/step - loss: 0.5430 - acc: 0.7131 - mean_squared_error: 0.1826 - mean_absolute_error: 0.3777 - val_loss: 0.5814 - val_acc: 0.7275 - val_mean_squared_error: 0.1964 - val_mean_absolute_error: 0.4042\n",
      "Epoch 17/90\n",
      "83/83 [==============================] - 0s 238us/step - loss: 0.5366 - acc: 0.7167 - mean_squared_error: 0.1802 - mean_absolute_error: 0.3725 - val_loss: 0.5780 - val_acc: 0.7263 - val_mean_squared_error: 0.1950 - val_mean_absolute_error: 0.4005\n",
      "Epoch 18/90\n",
      "83/83 [==============================] - 0s 262us/step - loss: 0.5261 - acc: 0.7279 - mean_squared_error: 0.1763 - mean_absolute_error: 0.3643 - val_loss: 0.5750 - val_acc: 0.7267 - val_mean_squared_error: 0.1937 - val_mean_absolute_error: 0.3968\n",
      "Epoch 19/90\n",
      "83/83 [==============================] - 0s 192us/step - loss: 0.5188 - acc: 0.7346 - mean_squared_error: 0.1733 - mean_absolute_error: 0.3584 - val_loss: 0.5730 - val_acc: 0.7275 - val_mean_squared_error: 0.1928 - val_mean_absolute_error: 0.3941\n",
      "Epoch 20/90\n",
      "83/83 [==============================] - 0s 197us/step - loss: 0.5099 - acc: 0.7419 - mean_squared_error: 0.1698 - mean_absolute_error: 0.3529 - val_loss: 0.5716 - val_acc: 0.7310 - val_mean_squared_error: 0.1923 - val_mean_absolute_error: 0.3959\n",
      "Epoch 21/90\n",
      "83/83 [==============================] - 0s 161us/step - loss: 0.5004 - acc: 0.7499 - mean_squared_error: 0.1659 - mean_absolute_error: 0.3484 - val_loss: 0.5707 - val_acc: 0.7286 - val_mean_squared_error: 0.1918 - val_mean_absolute_error: 0.3928\n",
      "Epoch 22/90\n",
      "83/83 [==============================] - 0s 136us/step - loss: 0.4914 - acc: 0.7582 - mean_squared_error: 0.1622 - mean_absolute_error: 0.3415 - val_loss: 0.5708 - val_acc: 0.7290 - val_mean_squared_error: 0.1918 - val_mean_absolute_error: 0.3924\n",
      "Epoch 23/90\n",
      "83/83 [==============================] - 0s 151us/step - loss: 0.4783 - acc: 0.7696 - mean_squared_error: 0.1571 - mean_absolute_error: 0.3338 - val_loss: 0.5716 - val_acc: 0.7286 - val_mean_squared_error: 0.1920 - val_mean_absolute_error: 0.3909\n",
      "Epoch 24/90\n",
      "83/83 [==============================] - 0s 157us/step - loss: 0.4684 - acc: 0.7763 - mean_squared_error: 0.1533 - mean_absolute_error: 0.3264 - val_loss: 0.5716 - val_acc: 0.7290 - val_mean_squared_error: 0.1917 - val_mean_absolute_error: 0.3881\n",
      "Epoch 25/90\n",
      "83/83 [==============================] - 0s 147us/step - loss: 0.4560 - acc: 0.7848 - mean_squared_error: 0.1484 - mean_absolute_error: 0.3173 - val_loss: 0.5708 - val_acc: 0.7302 - val_mean_squared_error: 0.1916 - val_mean_absolute_error: 0.3903\n",
      "Epoch 26/90\n",
      "83/83 [==============================] - 0s 149us/step - loss: 0.4448 - acc: 0.7937 - mean_squared_error: 0.1437 - mean_absolute_error: 0.3123 - val_loss: 0.5696 - val_acc: 0.7306 - val_mean_squared_error: 0.1906 - val_mean_absolute_error: 0.3836\n",
      "Epoch 27/90\n",
      "83/83 [==============================] - 0s 219us/step - loss: 0.4347 - acc: 0.7960 - mean_squared_error: 0.1404 - mean_absolute_error: 0.3006 - val_loss: 0.5680 - val_acc: 0.7298 - val_mean_squared_error: 0.1900 - val_mean_absolute_error: 0.3830\n",
      "Epoch 28/90\n",
      "83/83 [==============================] - 0s 163us/step - loss: 0.4226 - acc: 0.8071 - mean_squared_error: 0.1355 - mean_absolute_error: 0.2963 - val_loss: 0.5652 - val_acc: 0.7294 - val_mean_squared_error: 0.1889 - val_mean_absolute_error: 0.3802\n",
      "Epoch 29/90\n",
      "83/83 [==============================] - 0s 196us/step - loss: 0.4089 - acc: 0.8157 - mean_squared_error: 0.1304 - mean_absolute_error: 0.2844 - val_loss: 0.5628 - val_acc: 0.7345 - val_mean_squared_error: 0.1877 - val_mean_absolute_error: 0.3772\n",
      "Epoch 30/90\n",
      "83/83 [==============================] - 0s 191us/step - loss: 0.4032 - acc: 0.8186 - mean_squared_error: 0.1281 - mean_absolute_error: 0.2806 - val_loss: 0.5603 - val_acc: 0.7404 - val_mean_squared_error: 0.1867 - val_mean_absolute_error: 0.3755\n",
      "Epoch 31/90\n",
      "83/83 [==============================] - 0s 191us/step - loss: 0.3879 - acc: 0.8267 - mean_squared_error: 0.1227 - mean_absolute_error: 0.2706 - val_loss: 0.5569 - val_acc: 0.7404 - val_mean_squared_error: 0.1855 - val_mean_absolute_error: 0.3716\n",
      "Epoch 32/90\n",
      "83/83 [==============================] - 0s 184us/step - loss: 0.3812 - acc: 0.8304 - mean_squared_error: 0.1201 - mean_absolute_error: 0.2666 - val_loss: 0.5544 - val_acc: 0.7416 - val_mean_squared_error: 0.1846 - val_mean_absolute_error: 0.3710\n",
      "Epoch 33/90\n",
      "83/83 [==============================] - 0s 151us/step - loss: 0.3717 - acc: 0.8366 - mean_squared_error: 0.1167 - mean_absolute_error: 0.2596 - val_loss: 0.5528 - val_acc: 0.7412 - val_mean_squared_error: 0.1828 - val_mean_absolute_error: 0.3610\n",
      "Epoch 34/90\n",
      "83/83 [==============================] - 0s 129us/step - loss: 0.3604 - acc: 0.8436 - mean_squared_error: 0.1128 - mean_absolute_error: 0.2512 - val_loss: 0.5514 - val_acc: 0.7404 - val_mean_squared_error: 0.1834 - val_mean_absolute_error: 0.3662\n",
      "Epoch 35/90\n",
      "83/83 [==============================] - 0s 135us/step - loss: 0.3515 - acc: 0.8492 - mean_squared_error: 0.1095 - mean_absolute_error: 0.2456 - val_loss: 0.5490 - val_acc: 0.7498 - val_mean_squared_error: 0.1816 - val_mean_absolute_error: 0.3560\n",
      "Epoch 36/90\n",
      "83/83 [==============================] - 0s 139us/step - loss: 0.3437 - acc: 0.8505 - mean_squared_error: 0.1071 - mean_absolute_error: 0.2387 - val_loss: 0.5494 - val_acc: 0.7384 - val_mean_squared_error: 0.1818 - val_mean_absolute_error: 0.3598\n",
      "Epoch 37/90\n",
      "83/83 [==============================] - 0s 159us/step - loss: 0.3348 - acc: 0.8566 - mean_squared_error: 0.1036 - mean_absolute_error: 0.2337 - val_loss: 0.5454 - val_acc: 0.7471 - val_mean_squared_error: 0.1795 - val_mean_absolute_error: 0.3507\n",
      "Epoch 38/90\n",
      "83/83 [==============================] - 0s 140us/step - loss: 0.3229 - acc: 0.8619 - mean_squared_error: 0.0994 - mean_absolute_error: 0.2251 - val_loss: 0.5429 - val_acc: 0.7482 - val_mean_squared_error: 0.1792 - val_mean_absolute_error: 0.3537\n",
      "Epoch 39/90\n",
      "83/83 [==============================] - 0s 127us/step - loss: 0.3142 - acc: 0.8678 - mean_squared_error: 0.0962 - mean_absolute_error: 0.2224 - val_loss: 0.5446 - val_acc: 0.7490 - val_mean_squared_error: 0.1781 - val_mean_absolute_error: 0.3435\n",
      "Epoch 40/90\n",
      "83/83 [==============================] - 0s 135us/step - loss: 0.3106 - acc: 0.8692 - mean_squared_error: 0.0958 - mean_absolute_error: 0.2160 - val_loss: 0.5422 - val_acc: 0.7443 - val_mean_squared_error: 0.1789 - val_mean_absolute_error: 0.3526\n",
      "Epoch 41/90\n",
      "83/83 [==============================] - 0s 134us/step - loss: 0.3001 - acc: 0.8770 - mean_squared_error: 0.0912 - mean_absolute_error: 0.2126 - val_loss: 0.5461 - val_acc: 0.7541 - val_mean_squared_error: 0.1766 - val_mean_absolute_error: 0.3335\n",
      "Epoch 42/90\n",
      "83/83 [==============================] - 0s 136us/step - loss: 0.2933 - acc: 0.8745 - mean_squared_error: 0.0899 - mean_absolute_error: 0.2033 - val_loss: 0.5423 - val_acc: 0.7376 - val_mean_squared_error: 0.1793 - val_mean_absolute_error: 0.3525\n",
      "Epoch 43/90\n",
      "83/83 [==============================] - 0s 162us/step - loss: 0.2834 - acc: 0.8868 - mean_squared_error: 0.0851 - mean_absolute_error: 0.2025 - val_loss: 0.5438 - val_acc: 0.7565 - val_mean_squared_error: 0.1753 - val_mean_absolute_error: 0.3292\n",
      "Epoch 44/90\n",
      "83/83 [==============================] - 0s 236us/step - loss: 0.2832 - acc: 0.8836 - mean_squared_error: 0.0864 - mean_absolute_error: 0.1955 - val_loss: 0.5408 - val_acc: 0.7478 - val_mean_squared_error: 0.1768 - val_mean_absolute_error: 0.3420\n",
      "Epoch 45/90\n",
      "83/83 [==============================] - 0s 196us/step - loss: 0.2708 - acc: 0.8911 - mean_squared_error: 0.0811 - mean_absolute_error: 0.1925 - val_loss: 0.5399 - val_acc: 0.7498 - val_mean_squared_error: 0.1752 - val_mean_absolute_error: 0.3314\n",
      "Epoch 46/90\n",
      "83/83 [==============================] - 0s 209us/step - loss: 0.2628 - acc: 0.8929 - mean_squared_error: 0.0792 - mean_absolute_error: 0.1851 - val_loss: 0.5401 - val_acc: 0.7482 - val_mean_squared_error: 0.1756 - val_mean_absolute_error: 0.3322\n",
      "Epoch 47/90\n",
      "83/83 [==============================] - 0s 221us/step - loss: 0.2599 - acc: 0.8969 - mean_squared_error: 0.0777 - mean_absolute_error: 0.1845 - val_loss: 0.5405 - val_acc: 0.7494 - val_mean_squared_error: 0.1755 - val_mean_absolute_error: 0.3323\n",
      "Epoch 48/90\n",
      "83/83 [==============================] - 0s 179us/step - loss: 0.2473 - acc: 0.9002 - mean_squared_error: 0.0738 - mean_absolute_error: 0.1744 - val_loss: 0.5399 - val_acc: 0.7502 - val_mean_squared_error: 0.1743 - val_mean_absolute_error: 0.3260\n",
      "Epoch 49/90\n",
      "83/83 [==============================] - 0s 202us/step - loss: 0.2405 - acc: 0.9063 - mean_squared_error: 0.0709 - mean_absolute_error: 0.1714 - val_loss: 0.5380 - val_acc: 0.7529 - val_mean_squared_error: 0.1744 - val_mean_absolute_error: 0.3286\n",
      "Epoch 50/90\n",
      "83/83 [==============================] - 0s 215us/step - loss: 0.2376 - acc: 0.9043 - mean_squared_error: 0.0705 - mean_absolute_error: 0.1698 - val_loss: 0.5421 - val_acc: 0.7561 - val_mean_squared_error: 0.1739 - val_mean_absolute_error: 0.3213\n",
      "Epoch 51/90\n",
      "83/83 [==============================] - 0s 205us/step - loss: 0.2326 - acc: 0.9079 - mean_squared_error: 0.0688 - mean_absolute_error: 0.1658 - val_loss: 0.5388 - val_acc: 0.7514 - val_mean_squared_error: 0.1742 - val_mean_absolute_error: 0.3261\n",
      "Epoch 52/90\n",
      "83/83 [==============================] - 0s 227us/step - loss: 0.2305 - acc: 0.9100 - mean_squared_error: 0.0678 - mean_absolute_error: 0.1650 - val_loss: 0.5409 - val_acc: 0.7592 - val_mean_squared_error: 0.1736 - val_mean_absolute_error: 0.3206\n",
      "Epoch 53/90\n",
      "83/83 [==============================] - 0s 209us/step - loss: 0.2216 - acc: 0.9147 - mean_squared_error: 0.0650 - mean_absolute_error: 0.1582 - val_loss: 0.5427 - val_acc: 0.7561 - val_mean_squared_error: 0.1740 - val_mean_absolute_error: 0.3209\n",
      "Epoch 54/90\n",
      "83/83 [==============================] - 0s 174us/step - loss: 0.2132 - acc: 0.9187 - mean_squared_error: 0.0621 - mean_absolute_error: 0.1541 - val_loss: 0.5407 - val_acc: 0.7537 - val_mean_squared_error: 0.1733 - val_mean_absolute_error: 0.3181\n",
      "Epoch 55/90\n",
      "83/83 [==============================] - 0s 193us/step - loss: 0.2095 - acc: 0.9208 - mean_squared_error: 0.0610 - mean_absolute_error: 0.1507 - val_loss: 0.5414 - val_acc: 0.7569 - val_mean_squared_error: 0.1726 - val_mean_absolute_error: 0.3146\n",
      "Epoch 56/90\n",
      "83/83 [==============================] - 0s 185us/step - loss: 0.2018 - acc: 0.9251 - mean_squared_error: 0.0582 - mean_absolute_error: 0.1464 - val_loss: 0.5439 - val_acc: 0.7576 - val_mean_squared_error: 0.1730 - val_mean_absolute_error: 0.3138\n",
      "Epoch 57/90\n",
      "83/83 [==============================] - 0s 227us/step - loss: 0.2025 - acc: 0.9205 - mean_squared_error: 0.0593 - mean_absolute_error: 0.1449 - val_loss: 0.5418 - val_acc: 0.7580 - val_mean_squared_error: 0.1730 - val_mean_absolute_error: 0.3134\n",
      "Epoch 58/90\n",
      "83/83 [==============================] - 0s 302us/step - loss: 0.1974 - acc: 0.9262 - mean_squared_error: 0.0570 - mean_absolute_error: 0.1423 - val_loss: 0.5439 - val_acc: 0.7616 - val_mean_squared_error: 0.1731 - val_mean_absolute_error: 0.3108\n",
      "Epoch 59/90\n",
      "83/83 [==============================] - 0s 206us/step - loss: 0.1912 - acc: 0.9269 - mean_squared_error: 0.0551 - mean_absolute_error: 0.1385 - val_loss: 0.5440 - val_acc: 0.7627 - val_mean_squared_error: 0.1728 - val_mean_absolute_error: 0.3103\n",
      "Epoch 60/90\n",
      "83/83 [==============================] - 0s 150us/step - loss: 0.1877 - acc: 0.9306 - mean_squared_error: 0.0537 - mean_absolute_error: 0.1376 - val_loss: 0.5433 - val_acc: 0.7627 - val_mean_squared_error: 0.1729 - val_mean_absolute_error: 0.3109\n",
      "Epoch 61/90\n",
      "83/83 [==============================] - 0s 190us/step - loss: 0.1788 - acc: 0.9356 - mean_squared_error: 0.0506 - mean_absolute_error: 0.1303 - val_loss: 0.5440 - val_acc: 0.7604 - val_mean_squared_error: 0.1726 - val_mean_absolute_error: 0.3074\n",
      "Epoch 62/90\n",
      "83/83 [==============================] - 0s 196us/step - loss: 0.1764 - acc: 0.9357 - mean_squared_error: 0.0498 - mean_absolute_error: 0.1290 - val_loss: 0.5431 - val_acc: 0.7616 - val_mean_squared_error: 0.1717 - val_mean_absolute_error: 0.3053\n",
      "Epoch 63/90\n",
      "83/83 [==============================] - 0s 231us/step - loss: 0.1728 - acc: 0.9359 - mean_squared_error: 0.0491 - mean_absolute_error: 0.1251 - val_loss: 0.5438 - val_acc: 0.7588 - val_mean_squared_error: 0.1718 - val_mean_absolute_error: 0.3056\n"
     ]
    },
    {
     "name": "stdout",
     "output_type": "stream",
     "text": [
      "Epoch 64/90\n",
      "83/83 [==============================] - 0s 272us/step - loss: 0.1739 - acc: 0.9364 - mean_squared_error: 0.0494 - mean_absolute_error: 0.1264 - val_loss: 0.5457 - val_acc: 0.7631 - val_mean_squared_error: 0.1707 - val_mean_absolute_error: 0.2999\n",
      "Epoch 65/90\n",
      "83/83 [==============================] - 0s 193us/step - loss: 0.1630 - acc: 0.9407 - mean_squared_error: 0.0464 - mean_absolute_error: 0.1186 - val_loss: 0.5442 - val_acc: 0.7643 - val_mean_squared_error: 0.1719 - val_mean_absolute_error: 0.3044\n",
      "Epoch 66/90\n",
      "83/83 [==============================] - 0s 194us/step - loss: 0.1610 - acc: 0.9422 - mean_squared_error: 0.0453 - mean_absolute_error: 0.1188 - val_loss: 0.5497 - val_acc: 0.7651 - val_mean_squared_error: 0.1712 - val_mean_absolute_error: 0.2975\n",
      "Epoch 67/90\n",
      "83/83 [==============================] - 0s 183us/step - loss: 0.1551 - acc: 0.9463 - mean_squared_error: 0.0435 - mean_absolute_error: 0.1138 - val_loss: 0.5502 - val_acc: 0.7635 - val_mean_squared_error: 0.1719 - val_mean_absolute_error: 0.2999\n",
      "Epoch 68/90\n",
      "83/83 [==============================] - 0s 165us/step - loss: 0.1487 - acc: 0.9500 - mean_squared_error: 0.0408 - mean_absolute_error: 0.1110 - val_loss: 0.5496 - val_acc: 0.7596 - val_mean_squared_error: 0.1719 - val_mean_absolute_error: 0.2997\n",
      "Epoch 69/90\n",
      "83/83 [==============================] - 0s 200us/step - loss: 0.1529 - acc: 0.9440 - mean_squared_error: 0.0430 - mean_absolute_error: 0.1110 - val_loss: 0.5560 - val_acc: 0.7655 - val_mean_squared_error: 0.1721 - val_mean_absolute_error: 0.2945\n",
      "Epoch 70/90\n",
      "83/83 [==============================] - 0s 170us/step - loss: 0.1486 - acc: 0.9483 - mean_squared_error: 0.0412 - mean_absolute_error: 0.1097 - val_loss: 0.5535 - val_acc: 0.7573 - val_mean_squared_error: 0.1734 - val_mean_absolute_error: 0.3008\n",
      "Epoch 71/90\n",
      "83/83 [==============================] - 0s 180us/step - loss: 0.1389 - acc: 0.9553 - mean_squared_error: 0.0375 - mean_absolute_error: 0.1047 - val_loss: 0.5660 - val_acc: 0.7686 - val_mean_squared_error: 0.1716 - val_mean_absolute_error: 0.2890\n",
      "Epoch 72/90\n",
      "83/83 [==============================] - 0s 186us/step - loss: 0.1410 - acc: 0.9510 - mean_squared_error: 0.0394 - mean_absolute_error: 0.1022 - val_loss: 0.5562 - val_acc: 0.7639 - val_mean_squared_error: 0.1727 - val_mean_absolute_error: 0.2973\n",
      "Epoch 73/90\n",
      "83/83 [==============================] - 0s 184us/step - loss: 0.1444 - acc: 0.9508 - mean_squared_error: 0.0398 - mean_absolute_error: 0.1067 - val_loss: 0.5602 - val_acc: 0.7600 - val_mean_squared_error: 0.1736 - val_mean_absolute_error: 0.2950\n",
      "Epoch 74/90\n",
      "83/83 [==============================] - 0s 240us/step - loss: 0.1308 - acc: 0.9571 - mean_squared_error: 0.0355 - mean_absolute_error: 0.0976 - val_loss: 0.5667 - val_acc: 0.7737 - val_mean_squared_error: 0.1715 - val_mean_absolute_error: 0.2863\n",
      "Epoch 75/90\n",
      "83/83 [==============================] - 0s 234us/step - loss: 0.1381 - acc: 0.9509 - mean_squared_error: 0.0386 - mean_absolute_error: 0.1010 - val_loss: 0.5554 - val_acc: 0.7671 - val_mean_squared_error: 0.1719 - val_mean_absolute_error: 0.2951\n",
      "Epoch 76/90\n",
      "83/83 [==============================] - 0s 206us/step - loss: 0.1273 - acc: 0.9599 - mean_squared_error: 0.0341 - mean_absolute_error: 0.0959 - val_loss: 0.5626 - val_acc: 0.7694 - val_mean_squared_error: 0.1716 - val_mean_absolute_error: 0.2886\n",
      "Epoch 77/90\n",
      "83/83 [==============================] - 0s 203us/step - loss: 0.1205 - acc: 0.9611 - mean_squared_error: 0.0323 - mean_absolute_error: 0.0905 - val_loss: 0.5726 - val_acc: 0.7675 - val_mean_squared_error: 0.1718 - val_mean_absolute_error: 0.2852\n",
      "Epoch 78/90\n",
      "83/83 [==============================] - 0s 221us/step - loss: 0.1275 - acc: 0.9568 - mean_squared_error: 0.0347 - mean_absolute_error: 0.0941 - val_loss: 0.5651 - val_acc: 0.7667 - val_mean_squared_error: 0.1725 - val_mean_absolute_error: 0.2911\n",
      "Epoch 79/90\n",
      "83/83 [==============================] - 0s 220us/step - loss: 0.1183 - acc: 0.9614 - mean_squared_error: 0.0318 - mean_absolute_error: 0.0891 - val_loss: 0.5744 - val_acc: 0.7725 - val_mean_squared_error: 0.1709 - val_mean_absolute_error: 0.2805\n",
      "Epoch 80/90\n",
      "83/83 [==============================] - 0s 172us/step - loss: 0.1207 - acc: 0.9587 - mean_squared_error: 0.0329 - mean_absolute_error: 0.0898 - val_loss: 0.5656 - val_acc: 0.7639 - val_mean_squared_error: 0.1724 - val_mean_absolute_error: 0.2895\n",
      "Epoch 81/90\n",
      "83/83 [==============================] - 0s 191us/step - loss: 0.1197 - acc: 0.9606 - mean_squared_error: 0.0324 - mean_absolute_error: 0.0899 - val_loss: 0.5732 - val_acc: 0.7714 - val_mean_squared_error: 0.1715 - val_mean_absolute_error: 0.2820\n",
      "Epoch 82/90\n",
      "83/83 [==============================] - 0s 142us/step - loss: 0.1127 - acc: 0.9634 - mean_squared_error: 0.0304 - mean_absolute_error: 0.0843 - val_loss: 0.5674 - val_acc: 0.7686 - val_mean_squared_error: 0.1713 - val_mean_absolute_error: 0.2840\n",
      "Epoch 83/90\n",
      "83/83 [==============================] - 0s 171us/step - loss: 0.1069 - acc: 0.9676 - mean_squared_error: 0.0276 - mean_absolute_error: 0.0812 - val_loss: 0.5680 - val_acc: 0.7718 - val_mean_squared_error: 0.1708 - val_mean_absolute_error: 0.2835\n",
      "Epoch 84/90\n",
      "83/83 [==============================] - 0s 156us/step - loss: 0.1069 - acc: 0.9668 - mean_squared_error: 0.0281 - mean_absolute_error: 0.0815 - val_loss: 0.5809 - val_acc: 0.7765 - val_mean_squared_error: 0.1706 - val_mean_absolute_error: 0.2764\n",
      "Epoch 85/90\n",
      "83/83 [==============================] - 0s 140us/step - loss: 0.1015 - acc: 0.9692 - mean_squared_error: 0.0266 - mean_absolute_error: 0.0771 - val_loss: 0.5799 - val_acc: 0.7608 - val_mean_squared_error: 0.1733 - val_mean_absolute_error: 0.2834\n",
      "Epoch 86/90\n",
      "83/83 [==============================] - 0s 166us/step - loss: 0.1044 - acc: 0.9671 - mean_squared_error: 0.0276 - mean_absolute_error: 0.0786 - val_loss: 0.5859 - val_acc: 0.7667 - val_mean_squared_error: 0.1724 - val_mean_absolute_error: 0.2783\n",
      "Epoch 87/90\n",
      "83/83 [==============================] - 0s 143us/step - loss: 0.0972 - acc: 0.9691 - mean_squared_error: 0.0253 - mean_absolute_error: 0.0742 - val_loss: 0.5836 - val_acc: 0.7710 - val_mean_squared_error: 0.1718 - val_mean_absolute_error: 0.2777\n",
      "Epoch 88/90\n",
      "83/83 [==============================] - 0s 143us/step - loss: 0.1053 - acc: 0.9663 - mean_squared_error: 0.0282 - mean_absolute_error: 0.0785 - val_loss: 0.5852 - val_acc: 0.7627 - val_mean_squared_error: 0.1739 - val_mean_absolute_error: 0.2820\n",
      "Epoch 89/90\n",
      "83/83 [==============================] - 0s 164us/step - loss: 0.0979 - acc: 0.9688 - mean_squared_error: 0.0255 - mean_absolute_error: 0.0738 - val_loss: 0.5982 - val_acc: 0.7678 - val_mean_squared_error: 0.1735 - val_mean_absolute_error: 0.2759\n",
      "Epoch 90/90\n",
      "83/83 [==============================] - 0s 196us/step - loss: 0.0908 - acc: 0.9729 - mean_squared_error: 0.0232 - mean_absolute_error: 0.0695 - val_loss: 0.5895 - val_acc: 0.7682 - val_mean_squared_error: 0.1727 - val_mean_absolute_error: 0.2778\n"
     ]
    }
   ],
   "source": [
    "m = 100\n",
    "# xx = np.stack([x_train[0] for _ in range(m)])\n",
    "# yy = xx\n",
    "# history = auto.fit(x_train, y_train, epochs=epochs, batch_size=batch_size, callbacks=[TensorBoard(log_dir=config.tmp_log_dir)])\n",
    "history = auto.fit(x_train[:m], y_train[:m], epochs=epochs, batch_size=batch_size,\n",
    "          validation_split=1/6, callbacks=[TensorBoard(log_dir=config.tmp_log_dir)])"
   ]
  },
  {
   "cell_type": "code",
   "execution_count": 38,
   "metadata": {},
   "outputs": [
    {
     "data": {
      "text/plain": [
       "(0, 0.7261932081486806)"
      ]
     },
     "execution_count": 38,
     "metadata": {},
     "output_type": "execute_result"
    },
    {
     "data": {
      "image/png": "[encoded data removed]",
      "text/plain": [
       "<matplotlib.figure.Figure at 0x11e021908>"
      ]
     },
     "metadata": {},
     "output_type": "display_data"
    }
   ],
   "source": [
    "plt.plot(history.history['loss'])\n",
    "plt.plot(history.history['val_loss'])\n",
    "plt.ylim(ymin=0)"
   ]
  },
  {
   "cell_type": "code",
   "execution_count": 39,
   "metadata": {},
   "outputs": [
    {
     "data": {
      "text/plain": [
       "(0, 1)"
      ]
     },
     "execution_count": 39,
     "metadata": {},
     "output_type": "execute_result"
    },
    {
     "data": {
      "image/png": "[encoded data removed]",
      "text/plain": [
       "<matplotlib.figure.Figure at 0x11ba2d2b0>"
      ]
     },
     "metadata": {},
     "output_type": "display_data"
    }
   ],
   "source": [
    "plt.plot(history.history['acc'])\n",
    "plt.plot(history.history['val_acc'])\n",
    "plt.ylim(ymin=0, ymax=1)"
   ]
  },
  {
   "cell_type": "code",
   "execution_count": 40,
   "metadata": {},
   "outputs": [
    {
     "data": {
      "text/plain": [
       "(10, 150, 1)"
      ]
     },
     "execution_count": 40,
     "metadata": {},
     "output_type": "execute_result"
    }
   ],
   "source": [
    "results = auto.predict(x_train[:10])\n",
    "results.shape"
   ]
  },
  {
   "cell_type": "code",
   "execution_count": 41,
   "metadata": {},
   "outputs": [
    {
     "data": {
      "text/plain": [
       "(0, 1)"
      ]
     },
     "execution_count": 41,
     "metadata": {},
     "output_type": "execute_result"
    },
    {
     "data": {
      "image/png": "[encoded data removed]",
      "text/plain": [
       "<matplotlib.figure.Figure at 0x11e067ba8>"
      ]
     },
     "metadata": {},
     "output_type": "display_data"
    }
   ],
   "source": [
    "n1 = 15\n",
    "i = 0\n",
    "plt.subplot(211)\n",
    "plt.plot(np.arange(n1), results[i, :n1])\n",
    "plt.plot([0.5] * n1) # midi.MIDI_NOISE_FLOOR\n",
    "plt.ylim(ymin=0, ymax=1)\n",
    "\n",
    "plt.subplot(212)\n",
    "plt.plot(np.arange(n1), x_train[i, :n1])\n",
    "plt.plot([0.5] * n1) # midi.MIDI_NOISE_FLOOR\n",
    "plt.ylim(ymin=0, ymax=1)"
   ]
  },
  {
   "cell_type": "code",
   "execution_count": 32,
   "metadata": {},
   "outputs": [
    {
     "data": {
      "text/plain": [
       "(0, 1)"
      ]
     },
     "execution_count": 32,
     "metadata": {},
     "output_type": "execute_result"
    },
    {
     "data": {
      "image/png": "[encoded data removed]",
      "text/plain": [
       "<matplotlib.figure.Figure at 0x11d8f7080>"
      ]
     },
     "metadata": {},
     "output_type": "display_data"
    }
   ],
   "source": [
    "n1 = 30\n",
    "i = 1\n",
    "plt.subplot(211)\n",
    "plt.plot(np.arange(n1), results[i, :n1])\n",
    "plt.plot([0.5] * n1) # midi.MIDI_NOISE_FLOOR\n",
    "plt.ylim(ymin=0, ymax=1)\n",
    "plt.subplot(212)\n",
    "\n",
    "plt.plot(np.arange(n1), x_train[i, :n1])\n",
    "plt.plot([0.5] * n1) # midi.MIDI_NOISE_FLOOR\n",
    "plt.ylim(ymin=0, ymax=1)"
   ]
  },
  {
   "cell_type": "code",
   "execution_count": null,
   "metadata": {},
   "outputs": [],
   "source": []
  },
  {
   "cell_type": "code",
   "execution_count": 20,
   "metadata": {},
   "outputs": [
    {
     "name": "stdout",
     "output_type": "stream",
     "text": [
      "\u001b[91m [DEBUG] > \u001b[0m\n",
      " |>  decode_track - input was not MultiTrack.\n",
      " |>  Assuming MultiTrack\n",
      "\u001b[92m [INFO] : \u001b[0m\n",
      " |  len, max_t\n",
      " |  3.003125\n",
      " |  3.0\n",
      "\u001b[91m [DEBUG] > \u001b[0m\n",
      " |>  decode_track - input was not MultiTrack.\n",
      " |>  Assuming MultiTrack\n",
      "\u001b[92m [INFO] : \u001b[0m\n",
      " |  len, max_t\n",
      " |  3.003125\n",
      " |  3.0\n"
     ]
    }
   ],
   "source": [
    "mid_true = midi.decode_track(context, x_train[0])\n",
    "mid_pred = midi.decode_track(context, results[0])\n",
    "dn = config.export_dir\n",
    "io.export_midifile(mid_true, dn + 'real_mid_true.mid')\n",
    "io.export_midifile(mid_pred, dn + 'real_mid_pred.mid')"
   ]
  },
  {
   "cell_type": "code",
   "execution_count": 21,
   "metadata": {},
   "outputs": [
    {
     "data": {
      "text/plain": [
       "<midi file None type 1, 1 tracks, 176 messages>"
      ]
     },
     "execution_count": 21,
     "metadata": {},
     "output_type": "execute_result"
    }
   ],
   "source": [
    "mid_pred"
   ]
  },
  {
   "cell_type": "code",
   "execution_count": 22,
   "metadata": {},
   "outputs": [
    {
     "data": {
      "text/plain": [
       "<midi file None type 1, 1 tracks, 176 messages>"
      ]
     },
     "execution_count": 22,
     "metadata": {},
     "output_type": "execute_result"
    }
   ],
   "source": [
    "mid_true"
   ]
  },
  {
   "cell_type": "code",
   "execution_count": null,
   "metadata": {},
   "outputs": [],
   "source": [
    "labels[-2:]"
   ]
  },
  {
   "cell_type": "code",
   "execution_count": null,
   "metadata": {},
   "outputs": [],
   "source": [
    "encoded = encoder.predict(x_test[-2:])\n",
    "encoded.shape"
   ]
  },
  {
   "cell_type": "code",
   "execution_count": null,
   "metadata": {},
   "outputs": [],
   "source": [
    "plt.plot(encoded[0,:10])\n",
    "plt.plot(encoded[1,:10])"
   ]
  },
  {
   "cell_type": "code",
   "execution_count": null,
   "metadata": {},
   "outputs": [],
   "source": [
    "new = encoded[:2].transpose().mean(axis=1).transpose()\n",
    "# encoded[:2].mean(axis=0)\n",
    "plt.plot(new[:10])"
   ]
  },
  {
   "cell_type": "code",
   "execution_count": null,
   "metadata": {},
   "outputs": [],
   "source": [
    "y_test = decoder.predict(encoded)\n",
    "y_test.shape"
   ]
  },
  {
   "cell_type": "code",
   "execution_count": null,
   "metadata": {},
   "outputs": [],
   "source": [
    "n1 = 30\n",
    "i = 1\n",
    "plt.subplot(211)\n",
    "plt.plot(np.arange(n1), y_test[i, :n1])\n",
    "plt.plot([0.5] * n1) # midi.MIDI_NOISE_FLOOR\n",
    "plt.ylim(ymin=0, ymax=1)\n",
    "plt.subplot(212)\n",
    "\n",
    "plt.plot(np.arange(n1), y_train[i, :n1])\n",
    "plt.plot([0.5] * n1) # midi.MIDI_NOISE_FLOOR\n",
    "plt.ylim(ymin=0, ymax=1)"
   ]
  },
  {
   "cell_type": "code",
   "execution_count": null,
   "metadata": {},
   "outputs": [],
   "source": [
    "new_ = decoder.predict(np.stack([new]))"
   ]
  },
  {
   "cell_type": "code",
   "execution_count": null,
   "metadata": {},
   "outputs": [],
   "source": [
    "mid_new = midi.decode_track(context, new_[0])\n",
    "io.export_midifile(mid_new, dn + 'real_mid_new.mid')"
   ]
  },
  {
   "cell_type": "code",
   "execution_count": null,
   "metadata": {},
   "outputs": [],
   "source": []
  },
  {
   "cell_type": "code",
   "execution_count": null,
   "metadata": {},
   "outputs": [],
   "source": []
  },
  {
   "cell_type": "code",
   "execution_count": null,
   "metadata": {},
   "outputs": [],
   "source": []
  }
 ],
 "metadata": {
  "kernelspec": {
   "display_name": "Python 3",
   "language": "python",
   "name": "python3"
  },
  "language_info": {
   "codemirror_mode": {
    "name": "ipython",
    "version": 3
   },
   "file_extension": ".py",
   "mimetype": "text/x-python",
   "name": "python",
   "nbconvert_exporter": "python",
   "pygments_lexer": "ipython3",
   "version": "3.6.4"
  }
 },
 "nbformat": 4,
 "nbformat_minor": 2
}
