{
 "cells": [
  {
   "cell_type": "code",
   "execution_count": 1,
   "metadata": {},
   "outputs": [],
   "source": [
    "import config\n",
    "import os, numpy as np, pandas, sklearn\n",
    "import mido\n",
    "import matplotlib.pyplot as plt\n",
    "%matplotlib inline"
   ]
  },
  {
   "cell_type": "code",
   "execution_count": 2,
   "metadata": {},
   "outputs": [
    {
     "name": "stderr",
     "output_type": "stream",
     "text": [
      "/Library/Frameworks/Python.framework/Versions/3.6/lib/python3.6/site-packages/h5py/__init__.py:36: FutureWarning: Conversion of the second argument of issubdtype from `float` to `np.floating` is deprecated. In future, it will be treated as `np.float64 == np.dtype(float).type`.\n",
      "  from ._conv import register_converters as _register_converters\n",
      "Using TensorFlow backend.\n"
     ]
    }
   ],
   "source": [
    "## NN libs\n",
    "from sklearn.decomposition import PCA\n",
    "from sklearn import preprocessing\n",
    "from sklearn.preprocessing import RobustScaler\n",
    "import keras\n",
    "from keras import regularizers\n",
    "from keras.utils import to_categorical\n",
    "from keras.models import Sequential\n",
    "from keras.optimizers import SGD, Adam\n",
    "from keras.layers import Input, Dense, Activation, Conv1D, Conv2D, Dropout, Flatten\n",
    "from keras.layers import Conv2DTranspose, Reshape, MaxPooling2D, UpSampling2D, UpSampling1D, MaxPooling1D\n",
    "from keras.layers import LocallyConnected1D, LocallyConnected2D\n",
    "from keras.layers import Input, LSTM, RepeatVector\n",
    "from keras.models import Model\n",
    "from keras.callbacks import TensorBoard"
   ]
  },
  {
   "cell_type": "code",
   "execution_count": 3,
   "metadata": {},
   "outputs": [
    {
     "name": "stdout",
     "output_type": "stream",
     "text": [
      " Context :: namedtuple(\n",
      "[ max_t = float\n",
      ", dt = float\n",
      ", n_instances = int\n",
      ", note_length = int\n",
      ", bpm = float\n",
      ", tempo = float\n",
      ", ticks_per_beat = int\n",
      "]\n",
      "\n"
     ]
    }
   ],
   "source": [
    "# local libs\n",
    "import config, models, functions\n",
    "from data import data, midi, midi_generators as g\n",
    "from utils import io, models_io"
   ]
  },
  {
   "cell_type": "code",
   "execution_count": 4,
   "metadata": {
    "scrolled": true
   },
   "outputs": [
    {
     "name": "stdout",
     "output_type": "stream",
     "text": [
      "Setting up params\n",
      "\n",
      "max min f 25.0 0.1\n",
      " >> Context(max_t=10.0, dt=0.02, n_instances=500, note_length=0.03, bpm=120.0, tempo=500000, ticks_per_beat=480)\n"
     ]
    }
   ],
   "source": [
    "context = data.init()"
   ]
  },
  {
   "cell_type": "code",
   "execution_count": 5,
   "metadata": {},
   "outputs": [],
   "source": [
    "# fn = (config.dataset_dir + '4-floor-120bpm.mid')\n",
    "# mid = io.import_midifile(fn)"
   ]
  },
  {
   "cell_type": "markdown",
   "metadata": {},
   "source": [
    "## Setup a generator\n",
    "\n",
    "1. What is the least amount of 'hidden' nodes needed to learn a straight rythm (e.g. 8th notes with different frequencies)\n",
    "2. Can we create a model of a generic function sin(2 pi f t + phase)\n",
    "    - using x: t -> y: sin(2p t)\n",
    "    - using x: [f, t, phase] -> y: sin(2p f t + phase)\n",
    "    - using x: sin([t1, t2, t3) -> y: [f, t, phase]\n",
    "        - such a model should be able to learn complex patterns, such as sin(f1+p1) + sin(f2+p2) + sin(f3+p3)"
   ]
  },
  {
   "cell_type": "code",
   "execution_count": 33,
   "metadata": {
    "scrolled": true
   },
   "outputs": [
    {
     "name": "stdout",
     "output_type": "stream",
     "text": [
      "WARNING type not == 0\n",
      "\u001b[91m [DEBUG] > \u001b[0m\n",
      " |>  to_array: msg.time > max_t; t, n\n",
      " |>  9.99895833333332\n",
      " |>  500\n",
      "WARNING type not == 0\n",
      "WARNING type not == 0\n",
      "WARNING type not == 0\n",
      "WARNING type not == 0\n",
      "WARNING type not == 0\n",
      "\u001b[91m [DEBUG] > \u001b[0m\n",
      " |>  to_array: msg.time > max_t; t, n\n",
      " |>  10.003124999999999\n",
      " |>  500\n",
      "WARNING type not == 0\n",
      "\u001b[91m [DEBUG] > \u001b[0m\n",
      " |>  to_array: msg.time > max_t; t, n\n",
      " |>  9.992708333333324\n",
      " |>  500\n",
      "WARNING type not == 0\n",
      "WARNING type not == 0\n",
      "WARNING type not == 0\n"
     ]
    }
   ],
   "source": [
    "n = 10\n",
    "max_f = 20\n",
    "min_f = 10\n",
    "x_train = g.gen_data(context, n, max_f=max_f, min_f=min_f)\n",
    "# x_train = np.zeros([10,100,127])\n",
    "y_train = x_train"
   ]
  },
  {
   "cell_type": "code",
   "execution_count": 35,
   "metadata": {},
   "outputs": [
    {
     "data": {
      "text/plain": [
       "[<matplotlib.lines.Line2D at 0x11b447a58>,\n",
       " <matplotlib.lines.Line2D at 0x11b447ba8>,\n",
       " <matplotlib.lines.Line2D at 0x11b447cf8>]"
      ]
     },
     "execution_count": 35,
     "metadata": {},
     "output_type": "execute_result"
    },
    {
     "data": {
      "image/png": "[encoded data removed]",
      "text/plain": [
       "<matplotlib.figure.Figure at 0x11b3ccac8>"
      ]
     },
     "metadata": {},
     "output_type": "display_data"
    }
   ],
   "source": [
    "plt.plot(x_train[0,:10,0:3])"
   ]
  },
  {
   "cell_type": "code",
   "execution_count": 36,
   "metadata": {},
   "outputs": [
    {
     "data": {
      "text/plain": [
       "(10, 500, 5)"
      ]
     },
     "execution_count": 36,
     "metadata": {},
     "output_type": "execute_result"
    }
   ],
   "source": [
    "# [sum(x) for x in x_train]\n",
    "x_train.shape"
   ]
  },
  {
   "cell_type": "code",
   "execution_count": 37,
   "metadata": {},
   "outputs": [
    {
     "data": {
      "text/plain": [
       "(10, 500, 5)"
      ]
     },
     "execution_count": 37,
     "metadata": {},
     "output_type": "execute_result"
    }
   ],
   "source": [
    "y_train = x_train\n",
    "n_samples = x_train[0]\n",
    "input_shape = x_train.shape[1:] # shape of a single sample\n",
    "output_shape = y_train.shape[1:]\n",
    "# output_length = y_train.shape[1]\n",
    "# output_length = (y_train[0]).shape[0] # = length of an individual label\n",
    "hidden_layer_length = 500\n",
    "x_train.shape"
   ]
  },
  {
   "cell_type": "code",
   "execution_count": 97,
   "metadata": {
    "scrolled": false
   },
   "outputs": [
    {
     "name": "stdout",
     "output_type": "stream",
     "text": [
      "_________________________________________________________________\n",
      "Layer (type)                 Output Shape              Param #   \n",
      "=================================================================\n",
      "input_29 (InputLayer)        (None, 500, 5)            0         \n",
      "_________________________________________________________________\n",
      "flatten_10 (Flatten)         (None, 2500)              0         \n",
      "_________________________________________________________________\n",
      "dense_34 (Dense)             (None, 100)               250100    \n",
      "=================================================================\n",
      "Total params: 250,100\n",
      "Trainable params: 250,100\n",
      "Non-trainable params: 0\n",
      "_________________________________________________________________\n",
      "_________________________________________________________________\n",
      "Layer (type)                 Output Shape              Param #   \n",
      "=================================================================\n",
      "input_30 (InputLayer)        (None, 100)               0         \n",
      "_________________________________________________________________\n",
      "dense_35 (Dense)             (None, 2500)              252500    \n",
      "_________________________________________________________________\n",
      "dense_36 (Dense)             (None, 2500)              6252500   \n",
      "_________________________________________________________________\n",
      "reshape_10 (Reshape)         (None, 500, 5)            0         \n",
      "=================================================================\n",
      "Total params: 6,505,000\n",
      "Trainable params: 6,505,000\n",
      "Non-trainable params: 0\n",
      "_________________________________________________________________\n"
     ]
    }
   ],
   "source": [
    "# functional syntax: lambda x: lambda y: z\n",
    "def encoder(input_shape, output_length, dropout=0.10):\n",
    "    input_layer = Input(shape=input_shape)\n",
    "    x = input_layer\n",
    "    x = Flatten()(x)\n",
    "#     x = Dense(output_length * 2, activation='relu')(x)    \n",
    "#     x = Dropout(dropout)(x)\n",
    "#     x = Dense(output_length * 2, activation='relu')(x)\n",
    "    x = Dense(output_length, activation='relu')(x)\n",
    "#     x = Dense(output_length, activation='sigmoid')(x)\n",
    "#     x = Dropout(dropout)(x)\n",
    "#     x = Dense(output_length, activation='relu', activity_regularizer=regularizers.l1(10e-5))(x)\n",
    "    #     model.add(Dropout(dropout))    \n",
    "    model = Model(inputs=input_layer, outputs=x)\n",
    "    return model\n",
    "\n",
    "\n",
    "def decoder(input_length, output_shape, dropout=0.10):\n",
    "    input_layer = Input(shape=(input_length,))\n",
    "    x = input_layer\n",
    "    shape = output_shape\n",
    "    # shape = (10,100) # increase n dimensions\n",
    "    \n",
    "    x = Dense(np.prod(shape), activation='relu')(x)\n",
    "#     x = Dropout(dropout)(x)\n",
    "    x = Dense(np.prod(shape), activation='relu')(x)\n",
    "#     x = Dropout(dropout)(x)\n",
    "#     x = Dense(np.prod(shape), activation='sigmoid')(x) # 4*4*8 = 128\n",
    "    x = Reshape(shape)(x)\n",
    "#     x = UpSampling1D(10)(x)\n",
    "    # make sure the conv layer increases the amount of dimensions\n",
    "#     dims = keras.backend.int_shape(x)[1:]\n",
    "#     n_steps = output_shape[0]\n",
    "#     n_output_timesteps = output_shape[1]\n",
    "#     filters = n_output_timesteps\n",
    "#     conv_amt = 2\n",
    "#     print('__+++==', n_output_timesteps)\n",
    "#     x = Conv1D(filters, kernel_size=4, strides=2, activation='relu')(x) # 50,100\n",
    "\n",
    "    dims = keras.backend.int_shape(x)[1:]\n",
    "#     x = UpSampling1D(dims[0] * 2)(x)\n",
    "#     x = Dense(output_shape[1], activation='relu')(x)\n",
    "    #     x = LocallyConnected1D(output_shape[1], kernel_size=1, activation='relu')(x)\n",
    "    # x = Dense(output_length, activation='softmax')(x)\n",
    "    model = Model(inputs=input_layer, outputs=x)\n",
    "    #     model.add(Dropout(dropout))\n",
    "    return model\n",
    "\n",
    "\n",
    "def autoencoder(input_shape, output_shape, hidden_layer_length=10, dropout=0.10, verbose=False):\n",
    "    input_ = Input(shape=input_shape)\n",
    "    encode = encoder(input_shape, hidden_layer_length, dropout)\n",
    "    if verbose:\n",
    "        encode.summary()\n",
    "    decode = decoder(hidden_layer_length, output_shape, dropout)\n",
    "    if verbose:\n",
    "        decode.summary()\n",
    "    model = Model(input_, decode(encode(input_)))\n",
    "    return encode, decode, model\n",
    "\n",
    "dropout = 0.1\n",
    "encoder, decoder, auto = autoencoder(input_shape, output_shape, hidden_layer_length, dropout, True)"
   ]
  },
  {
   "cell_type": "code",
   "execution_count": 98,
   "metadata": {},
   "outputs": [],
   "source": [
    "metrics = ['accuracy','mse','mae']\n",
    "loss = 'binary_crossentropy'# binary_crossentropy categorical_crossentropy\n",
    "optimizer = 'adam'\n",
    "auto.compile(optimizer=optimizer, loss=loss, metrics=metrics)"
   ]
  },
  {
   "cell_type": "code",
   "execution_count": 99,
   "metadata": {},
   "outputs": [],
   "source": [
    "batch_size = 16\n",
    "# n epochs = n iterations over all the training data\n",
    "epochs = 25"
   ]
  },
  {
   "cell_type": "code",
   "execution_count": 100,
   "metadata": {
    "scrolled": true
   },
   "outputs": [
    {
     "name": "stdout",
     "output_type": "stream",
     "text": [
      "Train on 3 samples, validate on 1 samples\n",
      "Epoch 1/25\n",
      "3/3 [==============================] - 0s 112ms/step - loss: 3.1495 - acc: 0.6704 - mean_squared_error: 0.3077 - mean_absolute_error: 0.3450 - val_loss: 2.5351 - val_acc: 0.6892 - val_mean_squared_error: 0.2384 - val_mean_absolute_error: 0.2848\n",
      "Epoch 2/25\n",
      "3/3 [==============================] - 0s 55ms/step - loss: 2.5351 - acc: 0.6892 - mean_squared_error: 0.2384 - mean_absolute_error: 0.2848 - val_loss: 2.2316 - val_acc: 0.8176 - val_mean_squared_error: 0.1698 - val_mean_absolute_error: 0.2078\n",
      "Epoch 3/25\n",
      "3/3 [==============================] - 0s 62ms/step - loss: 2.2316 - acc: 0.8176 - mean_squared_error: 0.1698 - mean_absolute_error: 0.2078 - val_loss: 2.0476 - val_acc: 0.8412 - val_mean_squared_error: 0.1536 - val_mean_absolute_error: 0.1833\n",
      "Epoch 4/25\n",
      "3/3 [==============================] - 0s 60ms/step - loss: 2.0476 - acc: 0.8412 - mean_squared_error: 0.1536 - mean_absolute_error: 0.1833 - val_loss: 1.9907 - val_acc: 0.7516 - val_mean_squared_error: 0.2229 - val_mean_absolute_error: 0.2492\n",
      "Epoch 5/25\n",
      "3/3 [==============================] - 0s 61ms/step - loss: 1.9907 - acc: 0.7516 - mean_squared_error: 0.2229 - mean_absolute_error: 0.2492 - val_loss: 1.9429 - val_acc: 0.6932 - val_mean_squared_error: 0.3844 - val_mean_absolute_error: 0.3372\n",
      "Epoch 6/25\n",
      "3/3 [==============================] - 0s 61ms/step - loss: 1.9429 - acc: 0.6932 - mean_squared_error: 0.3844 - mean_absolute_error: 0.3372 - val_loss: 1.8830 - val_acc: 0.6820 - val_mean_squared_error: 0.6428 - val_mean_absolute_error: 0.4317\n",
      "Epoch 7/25\n",
      "3/3 [==============================] - 0s 57ms/step - loss: 1.8830 - acc: 0.6820 - mean_squared_error: 0.6428 - mean_absolute_error: 0.4317 - val_loss: 1.8382 - val_acc: 0.6764 - val_mean_squared_error: 0.9773 - val_mean_absolute_error: 0.5234\n",
      "Epoch 8/25\n",
      "3/3 [==============================] - 0s 56ms/step - loss: 1.8382 - acc: 0.6764 - mean_squared_error: 0.9773 - mean_absolute_error: 0.5234 - val_loss: 1.7996 - val_acc: 0.6784 - val_mean_squared_error: 1.3943 - val_mean_absolute_error: 0.6146\n",
      "Epoch 9/25\n",
      "3/3 [==============================] - 0s 56ms/step - loss: 1.7996 - acc: 0.6784 - mean_squared_error: 1.3943 - mean_absolute_error: 0.6146 - val_loss: 1.7650 - val_acc: 0.6768 - val_mean_squared_error: 1.8859 - val_mean_absolute_error: 0.7059\n",
      "Epoch 10/25\n",
      "3/3 [==============================] - 0s 57ms/step - loss: 1.7650 - acc: 0.6768 - mean_squared_error: 1.8859 - mean_absolute_error: 0.7059 - val_loss: 1.7508 - val_acc: 0.6752 - val_mean_squared_error: 2.4352 - val_mean_absolute_error: 0.7949\n",
      "Epoch 11/25\n",
      "3/3 [==============================] - 0s 56ms/step - loss: 1.7508 - acc: 0.6752 - mean_squared_error: 2.4352 - mean_absolute_error: 0.7949 - val_loss: 1.7426 - val_acc: 0.6748 - val_mean_squared_error: 3.0366 - val_mean_absolute_error: 0.8823\n",
      "Epoch 12/25\n",
      "3/3 [==============================] - 0s 54ms/step - loss: 1.7426 - acc: 0.6748 - mean_squared_error: 3.0366 - mean_absolute_error: 0.8823 - val_loss: 1.7322 - val_acc: 0.6728 - val_mean_squared_error: 3.6766 - val_mean_absolute_error: 0.9671\n",
      "Epoch 13/25\n",
      "3/3 [==============================] - 0s 57ms/step - loss: 1.7322 - acc: 0.6728 - mean_squared_error: 3.6766 - mean_absolute_error: 0.9671 - val_loss: 1.7239 - val_acc: 0.6720 - val_mean_squared_error: 4.3404 - val_mean_absolute_error: 1.0472\n",
      "Epoch 14/25\n",
      "3/3 [==============================] - 0s 53ms/step - loss: 1.7239 - acc: 0.6720 - mean_squared_error: 4.3404 - mean_absolute_error: 1.0472 - val_loss: 1.7216 - val_acc: 0.6720 - val_mean_squared_error: 5.0195 - val_mean_absolute_error: 1.1229\n",
      "Epoch 15/25\n",
      "3/3 [==============================] - 0s 56ms/step - loss: 1.7216 - acc: 0.6720 - mean_squared_error: 5.0195 - mean_absolute_error: 1.1229 - val_loss: 1.7167 - val_acc: 0.6708 - val_mean_squared_error: 5.7079 - val_mean_absolute_error: 1.1950\n",
      "Epoch 16/25\n",
      "3/3 [==============================] - 0s 56ms/step - loss: 1.7167 - acc: 0.6708 - mean_squared_error: 5.7079 - mean_absolute_error: 1.1950 - val_loss: 1.6976 - val_acc: 0.6708 - val_mean_squared_error: 6.3964 - val_mean_absolute_error: 1.2627\n",
      "Epoch 17/25\n",
      "3/3 [==============================] - 0s 56ms/step - loss: 1.6976 - acc: 0.6708 - mean_squared_error: 6.3964 - mean_absolute_error: 1.2627 - val_loss: 1.6809 - val_acc: 0.6724 - val_mean_squared_error: 7.0639 - val_mean_absolute_error: 1.3239\n",
      "Epoch 18/25\n",
      "3/3 [==============================] - 0s 55ms/step - loss: 1.6809 - acc: 0.6724 - mean_squared_error: 7.0639 - mean_absolute_error: 1.3239 - val_loss: 1.6766 - val_acc: 0.6728 - val_mean_squared_error: 7.7165 - val_mean_absolute_error: 1.3814\n",
      "Epoch 19/25\n",
      "3/3 [==============================] - 0s 56ms/step - loss: 1.6766 - acc: 0.6728 - mean_squared_error: 7.7165 - mean_absolute_error: 1.3814 - val_loss: 1.6718 - val_acc: 0.6708 - val_mean_squared_error: 8.3615 - val_mean_absolute_error: 1.4372\n",
      "Epoch 20/25\n",
      "3/3 [==============================] - 0s 57ms/step - loss: 1.6718 - acc: 0.6708 - mean_squared_error: 8.3615 - mean_absolute_error: 1.4372 - val_loss: 1.6700 - val_acc: 0.6708 - val_mean_squared_error: 8.9880 - val_mean_absolute_error: 1.4894\n",
      "Epoch 21/25\n",
      "3/3 [==============================] - 0s 56ms/step - loss: 1.6700 - acc: 0.6708 - mean_squared_error: 8.9880 - mean_absolute_error: 1.4894 - val_loss: 1.6652 - val_acc: 0.6708 - val_mean_squared_error: 9.5956 - val_mean_absolute_error: 1.5382\n",
      "Epoch 22/25\n",
      "3/3 [==============================] - 0s 56ms/step - loss: 1.6652 - acc: 0.6708 - mean_squared_error: 9.5956 - mean_absolute_error: 1.5382 - val_loss: 1.6636 - val_acc: 0.6708 - val_mean_squared_error: 10.1808 - val_mean_absolute_error: 1.5837\n",
      "Epoch 23/25\n",
      "3/3 [==============================] - 0s 54ms/step - loss: 1.6636 - acc: 0.6708 - mean_squared_error: 10.1808 - mean_absolute_error: 1.5837 - val_loss: 1.6590 - val_acc: 0.6708 - val_mean_squared_error: 10.7422 - val_mean_absolute_error: 1.6262\n",
      "Epoch 24/25\n",
      "3/3 [==============================] - 0s 58ms/step - loss: 1.6590 - acc: 0.6708 - mean_squared_error: 10.7422 - mean_absolute_error: 1.6262 - val_loss: 1.6571 - val_acc: 0.6708 - val_mean_squared_error: 11.2670 - val_mean_absolute_error: 1.6649\n",
      "Epoch 25/25\n",
      "3/3 [==============================] - 0s 57ms/step - loss: 1.6571 - acc: 0.6708 - mean_squared_error: 11.2670 - mean_absolute_error: 1.6649 - val_loss: 1.6526 - val_acc: 0.6708 - val_mean_squared_error: 11.7654 - val_mean_absolute_error: 1.7010\n"
     ]
    }
   ],
   "source": [
    "m = 4\n",
    "xx = np.stack([x_train[0] for _ in range(m)])\n",
    "yy = xx\n",
    "# history = auto.fit(x_train, y_train, epochs=epochs, batch_size=batch_size, callbacks=[TensorBoard(log_dir=config.tmp_log_dir)])\n",
    "history = auto.fit(xx, yy, epochs=epochs, batch_size=batch_size,\n",
    "          validation_split=1/6, callbacks=[TensorBoard(log_dir=config.tmp_log_dir)])"
   ]
  },
  {
   "cell_type": "code",
   "execution_count": 101,
   "metadata": {},
   "outputs": [
    {
     "data": {
      "text/plain": [
       "(0, 3.224323886632919)"
      ]
     },
     "execution_count": 101,
     "metadata": {},
     "output_type": "execute_result"
    },
    {
     "data": {
      "image/png": "[encoded data removed]",
      "text/plain": [
       "<matplotlib.figure.Figure at 0x149e89198>"
      ]
     },
     "metadata": {},
     "output_type": "display_data"
    }
   ],
   "source": [
    "plt.plot(history.history['loss'])\n",
    "plt.plot(history.history['val_loss'])\n",
    "plt.ylim(ymin=0)"
   ]
  },
  {
   "cell_type": "code",
   "execution_count": 103,
   "metadata": {},
   "outputs": [
    {
     "data": {
      "text/plain": [
       "(0, 1)"
      ]
     },
     "execution_count": 103,
     "metadata": {},
     "output_type": "execute_result"
    },
    {
     "data": {
      "image/png": "[encoded data removed]",
      "text/plain": [
       "<matplotlib.figure.Figure at 0x1498f3710>"
      ]
     },
     "metadata": {},
     "output_type": "display_data"
    }
   ],
   "source": [
    "plt.plot(history.history['acc'])\n",
    "plt.plot(history.history['val_acc'])\n",
    "plt.ylim(ymin=0, ymax=1)"
   ]
  },
  {
   "cell_type": "code",
   "execution_count": null,
   "metadata": {},
   "outputs": [],
   "source": []
  },
  {
   "cell_type": "code",
   "execution_count": 104,
   "metadata": {},
   "outputs": [
    {
     "name": "stdout",
     "output_type": "stream",
     "text": [
      "WARNING type not == 0\n",
      "WARNING type not == 0\n"
     ]
    }
   ],
   "source": [
    "mid1 = g.render_midi(context, f=2)\n",
    "mid2 = g.render_midi(context, f=3)\n",
    "x_test = np.stack([midi.encode(context, m) for m in [mid1,mid2]])"
   ]
  },
  {
   "cell_type": "code",
   "execution_count": 105,
   "metadata": {},
   "outputs": [],
   "source": [
    "# maxx = np.maximum(latent[0],latent[1])\n",
    "# maxx.shape"
   ]
  },
  {
   "cell_type": "code",
   "execution_count": 106,
   "metadata": {},
   "outputs": [
    {
     "data": {
      "text/plain": [
       "(1, 500, 5)"
      ]
     },
     "execution_count": 106,
     "metadata": {},
     "output_type": "execute_result"
    }
   ],
   "source": [
    "# arrays = decoder.predict(np.stack([latent[1]]))\n",
    "arrays = auto.predict(x_train[:1])\n",
    "arrays.shape"
   ]
  },
  {
   "cell_type": "code",
   "execution_count": 107,
   "metadata": {},
   "outputs": [
    {
     "data": {
      "text/plain": [
       "13.888796"
      ]
     },
     "execution_count": 107,
     "metadata": {},
     "output_type": "execute_result"
    }
   ],
   "source": [
    "arrays.max()"
   ]
  },
  {
   "cell_type": "code",
   "execution_count": 108,
   "metadata": {},
   "outputs": [
    {
     "data": {
      "text/plain": [
       "(0, 1)"
      ]
     },
     "execution_count": 108,
     "metadata": {},
     "output_type": "execute_result"
    },
    {
     "data": {
      "image/png": "[encoded data removed]",
      "text/plain": [
       "<matplotlib.figure.Figure at 0x11b19d198>"
      ]
     },
     "metadata": {},
     "output_type": "display_data"
    }
   ],
   "source": [
    "n1 = 30\n",
    "plt.plot(arrays[0, :n1, 0:])\n",
    "plt.plot([0.5] * n1) # midi.MIDI_NOISE_FLOOR\n",
    "plt.ylim(ymin=0, ymax=1)"
   ]
  },
  {
   "cell_type": "code",
   "execution_count": 109,
   "metadata": {},
   "outputs": [
    {
     "data": {
      "text/plain": [
       "(0, 1)"
      ]
     },
     "execution_count": 109,
     "metadata": {},
     "output_type": "execute_result"
    },
    {
     "data": {
      "image/png": "[encoded data removed]",
      "text/plain": [
       "<matplotlib.figure.Figure at 0x149ae5dd8>"
      ]
     },
     "metadata": {},
     "output_type": "display_data"
    }
   ],
   "source": [
    "plt.plot(x_train[0, :n1, 0:])\n",
    "plt.plot([0.5] * n1) # midi.MIDI_NOISE_FLOOR\n",
    "plt.ylim(ymin=0, ymax=1)"
   ]
  },
  {
   "cell_type": "code",
   "execution_count": 110,
   "metadata": {},
   "outputs": [
    {
     "name": "stdout",
     "output_type": "stream",
     "text": [
      "\u001b[92m [INFO] : \u001b[0m\n",
      " |  len, max_t\n",
      " |  10.018749999999983\n",
      " |  10.0\n"
     ]
    }
   ],
   "source": [
    "mid = midi.decode_track(context, arrays[0])"
   ]
  },
  {
   "cell_type": "code",
   "execution_count": 111,
   "metadata": {},
   "outputs": [],
   "source": [
    "dn = config.export_dir\n",
    "io.export_midifile(mid1, dn + 'mid1.mid')\n",
    "# io.export_midifile(mid2, dn + 'mid2.mid')\n",
    "io.export_midifile(mid, dn + 'mid_generated.mid')"
   ]
  },
  {
   "cell_type": "code",
   "execution_count": 112,
   "metadata": {},
   "outputs": [
    {
     "data": {
      "text/plain": [
       "<midi file None type 1, 1 tracks, 594 messages>"
      ]
     },
     "execution_count": 112,
     "metadata": {},
     "output_type": "execute_result"
    }
   ],
   "source": [
    "mid"
   ]
  },
  {
   "cell_type": "code",
   "execution_count": 113,
   "metadata": {},
   "outputs": [
    {
     "data": {
      "text/plain": [
       "<midi file None type 1, 1 tracks, 594 messages>"
      ]
     },
     "execution_count": 113,
     "metadata": {},
     "output_type": "execute_result"
    }
   ],
   "source": [
    "mid"
   ]
  },
  {
   "cell_type": "code",
   "execution_count": null,
   "metadata": {},
   "outputs": [],
   "source": []
  },
  {
   "cell_type": "code",
   "execution_count": null,
   "metadata": {},
   "outputs": [],
   "source": []
  },
  {
   "cell_type": "code",
   "execution_count": null,
   "metadata": {},
   "outputs": [],
   "source": []
  }
 ],
 "metadata": {
  "kernelspec": {
   "display_name": "Python 3",
   "language": "python",
   "name": "python3"
  },
  "language_info": {
   "codemirror_mode": {
    "name": "ipython",
    "version": 3
   },
   "file_extension": ".py",
   "mimetype": "text/x-python",
   "name": "python",
   "nbconvert_exporter": "python",
   "pygments_lexer": "ipython3",
   "version": "3.6.4"
  }
 },
 "nbformat": 4,
 "nbformat_minor": 2
}
