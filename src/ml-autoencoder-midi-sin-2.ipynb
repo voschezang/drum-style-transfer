{
 "cells": [
  {
   "cell_type": "code",
   "execution_count": 1,
   "metadata": {},
   "outputs": [],
   "source": [
    "import config\n",
    "import os, numpy as np, pandas, sklearn\n",
    "import mido\n",
    "import matplotlib.pyplot as plt\n",
    "%matplotlib inline"
   ]
  },
  {
   "cell_type": "code",
   "execution_count": 2,
   "metadata": {},
   "outputs": [
    {
     "name": "stderr",
     "output_type": "stream",
     "text": [
      "/Library/Frameworks/Python.framework/Versions/3.6/lib/python3.6/site-packages/h5py/__init__.py:36: FutureWarning: Conversion of the second argument of issubdtype from `float` to `np.floating` is deprecated. In future, it will be treated as `np.float64 == np.dtype(float).type`.\n",
      "  from ._conv import register_converters as _register_converters\n",
      "Using TensorFlow backend.\n"
     ]
    }
   ],
   "source": [
    "## NN libs\n",
    "from sklearn.decomposition import PCA\n",
    "from sklearn import preprocessing\n",
    "from sklearn.preprocessing import RobustScaler\n",
    "import keras\n",
    "from keras import regularizers\n",
    "from keras.utils import to_categorical\n",
    "from keras.models import Sequential\n",
    "from keras.optimizers import SGD, Adam\n",
    "from keras.layers import Input, Dense, Activation, Conv1D, Conv2D, Dropout, Flatten\n",
    "from keras.layers import Conv2DTranspose, Reshape, MaxPooling2D, UpSampling2D, UpSampling1D, MaxPooling1D\n",
    "from keras.layers import LocallyConnected1D, LocallyConnected2D\n",
    "from keras.layers import Input, LSTM, RepeatVector\n",
    "from keras.models import Model\n",
    "from keras.callbacks import TensorBoard"
   ]
  },
  {
   "cell_type": "code",
   "execution_count": 3,
   "metadata": {},
   "outputs": [
    {
     "name": "stdout",
     "output_type": "stream",
     "text": [
      " Context :: namedtuple(\n",
      "[ max_t = float\n",
      ", dt = float\n",
      ", n_instances = int\n",
      ", note_length = int\n",
      ", bpm = float\n",
      ", tempo = float\n",
      ", ticks_per_beat = int\n",
      "]\n",
      "\n"
     ]
    }
   ],
   "source": [
    "# local libs\n",
    "import config, models, functions\n",
    "from data import data, midi, midi_generators as g\n",
    "from utils import io, models_io"
   ]
  },
  {
   "cell_type": "code",
   "execution_count": 4,
   "metadata": {
    "scrolled": true
   },
   "outputs": [
    {
     "name": "stdout",
     "output_type": "stream",
     "text": [
      "Setting up params\n",
      "\n",
      "max min f 25.0 0.1\n",
      " >> Context(max_t=10.0, dt=0.02, n_instances=500, note_length=0.03, bpm=120.0, tempo=500000, ticks_per_beat=480)\n"
     ]
    }
   ],
   "source": [
    "context = data.init()"
   ]
  },
  {
   "cell_type": "code",
   "execution_count": 5,
   "metadata": {},
   "outputs": [],
   "source": [
    "# fn = (config.dataset_dir + '4-floor-120bpm.mid')\n",
    "# mid = io.import_midifile(fn)"
   ]
  },
  {
   "cell_type": "markdown",
   "metadata": {},
   "source": [
    "## Setup a generator\n",
    "\n",
    "1. What is the least amount of 'hidden' nodes needed to learn a straight rythm (e.g. 8th notes with different frequencies)\n",
    "2. Can we create a model of a generic function sin(2 pi f t + phase)\n",
    "    - using x: t -> y: sin(2p t)\n",
    "    - using x: [f, t, phase] -> y: sin(2p f t + phase)\n",
    "    - using x: sin([t1, t2, t3) -> y: [f, t, phase]\n",
    "        - such a model should be able to learn complex patterns, such as sin(f1+p1) + sin(f2+p2) + sin(f3+p3)"
   ]
  },
  {
   "cell_type": "code",
   "execution_count": 6,
   "metadata": {
    "scrolled": true
   },
   "outputs": [
    {
     "name": "stdout",
     "output_type": "stream",
     "text": [
      "WARNING type not == 0\n",
      "WARNING type not == 0\n",
      "WARNING type not == 0\n",
      "WARNING type not == 0\n",
      "WARNING type not == 0\n",
      "WARNING type not == 0\n",
      "WARNING type not == 0\n",
      "WARNING type not == 0\n",
      "WARNING type not == 0\n",
      "WARNING type not == 0\n",
      "\u001b[91m [DEBUG] > \u001b[0m\n",
      " |>  to_array: msg.time > max_t; t, n\n",
      " |>  10.035416666666666\n",
      " |>  500\n"
     ]
    }
   ],
   "source": [
    "n = 10\n",
    "max_f = 20\n",
    "min_f = 10\n",
    "x_train = g.gen_data(context, n, max_f=max_f, min_f=min_f)\n",
    "# x_train = np.zeros([10,100,127])\n",
    "y_train = x_train"
   ]
  },
  {
   "cell_type": "code",
   "execution_count": 7,
   "metadata": {},
   "outputs": [
    {
     "data": {
      "text/plain": [
       "[<matplotlib.lines.Line2D at 0x117881d68>,\n",
       " <matplotlib.lines.Line2D at 0x117881f60>]"
      ]
     },
     "execution_count": 7,
     "metadata": {},
     "output_type": "execute_result"
    },
    {
     "data": {
      "image/png": "[encoded data removed]",
      "text/plain": [
       "<matplotlib.figure.Figure at 0x11786e278>"
      ]
     },
     "metadata": {},
     "output_type": "display_data"
    }
   ],
   "source": [
    "plt.plot(x_train[0,:10,0:3])"
   ]
  },
  {
   "cell_type": "code",
   "execution_count": 8,
   "metadata": {},
   "outputs": [
    {
     "data": {
      "text/plain": [
       "(10, 500, 2)"
      ]
     },
     "execution_count": 8,
     "metadata": {},
     "output_type": "execute_result"
    }
   ],
   "source": [
    "# [sum(x) for x in x_train]\n",
    "x_train.shape"
   ]
  },
  {
   "cell_type": "code",
   "execution_count": 9,
   "metadata": {},
   "outputs": [
    {
     "data": {
      "text/plain": [
       "(10, 500, 2)"
      ]
     },
     "execution_count": 9,
     "metadata": {},
     "output_type": "execute_result"
    }
   ],
   "source": [
    "y_train = x_train\n",
    "n_samples = x_train[0]\n",
    "input_shape = x_train.shape[1:] # shape of a single sample\n",
    "output_shape = y_train.shape[1:]\n",
    "# output_length = y_train.shape[1]\n",
    "# output_length = (y_train[0]).shape[0] # = length of an individual label\n",
    "hidden_layer_length = 500\n",
    "x_train.shape"
   ]
  },
  {
   "cell_type": "code",
   "execution_count": 41,
   "metadata": {
    "scrolled": false
   },
   "outputs": [
    {
     "name": "stdout",
     "output_type": "stream",
     "text": [
      "_________________________________________________________________\n",
      "Layer (type)                 Output Shape              Param #   \n",
      "=================================================================\n",
      "input_8 (InputLayer)         (None, 500, 2)            0         \n",
      "_________________________________________________________________\n",
      "flatten_3 (Flatten)          (None, 1000)              0         \n",
      "_________________________________________________________________\n",
      "dense_7 (Dense)              (None, 500)               500500    \n",
      "=================================================================\n",
      "Total params: 500,500\n",
      "Trainable params: 500,500\n",
      "Non-trainable params: 0\n",
      "_________________________________________________________________\n",
      "_________________________________________________________________\n",
      "Layer (type)                 Output Shape              Param #   \n",
      "=================================================================\n",
      "input_9 (InputLayer)         (None, 500)               0         \n",
      "_________________________________________________________________\n",
      "dense_8 (Dense)              (None, 1000)              501000    \n",
      "_________________________________________________________________\n",
      "dense_9 (Dense)              (None, 1000)              1001000   \n",
      "_________________________________________________________________\n",
      "reshape_3 (Reshape)          (None, 500, 2)            0         \n",
      "=================================================================\n",
      "Total params: 1,502,000\n",
      "Trainable params: 1,502,000\n",
      "Non-trainable params: 0\n",
      "_________________________________________________________________\n"
     ]
    }
   ],
   "source": [
    "# functional syntax: lambda x: lambda y: z\n",
    "def encoder(input_shape, output_length, dropout=0.10):\n",
    "    input_layer = Input(shape=input_shape)\n",
    "    x = input_layer\n",
    "    x = Flatten()(x)\n",
    "#     x = Dense(output_length * 2, activation='relu')(x)    \n",
    "#     x = Dropout(dropout)(x)\n",
    "#     x = Dense(output_length * 2, activation='relu')(x)\n",
    "    x = Dense(output_length, activation='relu')(x)\n",
    "#     x = Dense(output_length, activation='sigmoid')(x)\n",
    "#     x = Dropout(dropout)(x)\n",
    "#     x = Dense(output_length, activation='relu', activity_regularizer=regularizers.l1(10e-5))(x)\n",
    "    #     model.add(Dropout(dropout))    \n",
    "    model = Model(inputs=input_layer, outputs=x)\n",
    "    return model\n",
    "\n",
    "\n",
    "def decoder(input_length, output_shape, dropout=0.10):\n",
    "    input_layer = Input(shape=(input_length,))\n",
    "    x = input_layer\n",
    "    shape = output_shape\n",
    "    # shape = (10,100) # increase n dimensions\n",
    "    \n",
    "    x = Dense(np.prod(shape), activation='relu')(x)\n",
    "#     x = Dropout(dropout)(x)\n",
    "    x = Dense(np.prod(shape), activation='relu')(x)\n",
    "#     x = Dropout(dropout)(x)\n",
    "#     x = Dense(np.prod(shape), activation='sigmoid')(x) # 4*4*8 = 128\n",
    "    x = Reshape(shape)(x)\n",
    "#     x = UpSampling1D(10)(x)\n",
    "    # make sure the conv layer increases the amount of dimensions\n",
    "#     dims = keras.backend.int_shape(x)[1:]\n",
    "#     n_steps = output_shape[0]\n",
    "#     n_output_timesteps = output_shape[1]\n",
    "#     filters = n_output_timesteps\n",
    "#     conv_amt = 2\n",
    "#     print('__+++==', n_output_timesteps)\n",
    "#     x = Conv1D(filters, kernel_size=4, strides=2, activation='relu')(x) # 50,100\n",
    "\n",
    "    dims = keras.backend.int_shape(x)[1:]\n",
    "#     x = UpSampling1D(dims[0] * 2)(x)\n",
    "#     x = Dense(output_shape[1], activation='relu')(x)\n",
    "    #     x = LocallyConnected1D(output_shape[1], kernel_size=1, activation='relu')(x)\n",
    "    # x = Dense(output_length, activation='softmax')(x)\n",
    "    model = Model(inputs=input_layer, outputs=x)\n",
    "    #     model.add(Dropout(dropout))\n",
    "    return model\n",
    "\n",
    "\n",
    "def autoencoder(input_shape, output_shape, hidden_layer_length=10, dropout=0.10, verbose=False):\n",
    "    input_ = Input(shape=input_shape)\n",
    "    encode = encoder(input_shape, hidden_layer_length, dropout)\n",
    "    if verbose:\n",
    "        encode.summary()\n",
    "    decode = decoder(hidden_layer_length, output_shape, dropout)\n",
    "    if verbose:\n",
    "        decode.summary()\n",
    "    model = Model(input_, decode(encode(input_)))\n",
    "    return encode, decode, model\n",
    "\n",
    "dropout = 0.1\n",
    "encoder, decoder, auto = autoencoder(input_shape, output_shape, hidden_layer_length, dropout, True)"
   ]
  },
  {
   "cell_type": "code",
   "execution_count": 42,
   "metadata": {},
   "outputs": [],
   "source": [
    "metrics = ['accuracy','mse','mae']\n",
    "loss = 'binary_crossentropy'# binary_crossentropy categorical_crossentropy\n",
    "optimizer = 'adam'\n",
    "auto.compile(optimizer=optimizer, loss=loss, metrics=metrics)"
   ]
  },
  {
   "cell_type": "code",
   "execution_count": 43,
   "metadata": {},
   "outputs": [],
   "source": [
    "batch_size = 16\n",
    "# n epochs = n iterations over all the training data\n",
    "epochs = 150"
   ]
  },
  {
   "cell_type": "code",
   "execution_count": 44,
   "metadata": {
    "scrolled": true
   },
   "outputs": [
    {
     "name": "stdout",
     "output_type": "stream",
     "text": [
      "Train on 3 samples, validate on 1 samples\n",
      "Epoch 1/150\n",
      "3/3 [==============================] - 0s 51ms/step - loss: 2.5156 - acc: 0.7250 - mean_squared_error: 0.2433 - mean_absolute_error: 0.3087 - val_loss: 2.3867 - val_acc: 0.7570 - val_mean_squared_error: 0.2236 - val_mean_absolute_error: 0.2809\n",
      "Epoch 2/150\n",
      "3/3 [==============================] - 0s 19ms/step - loss: 2.1058 - acc: 0.7653 - mean_squared_error: 0.1962 - mean_absolute_error: 0.2651 - val_loss: 2.7060 - val_acc: 0.7490 - val_mean_squared_error: 0.2310 - val_mean_absolute_error: 0.2879\n",
      "Epoch 3/150\n",
      "3/3 [==============================] - 0s 21ms/step - loss: 1.9345 - acc: 0.8053 - mean_squared_error: 0.1696 - mean_absolute_error: 0.2323 - val_loss: 2.8377 - val_acc: 0.7280 - val_mean_squared_error: 0.2388 - val_mean_absolute_error: 0.2970\n",
      "Epoch 4/150\n",
      "3/3 [==============================] - 0s 20ms/step - loss: 1.8341 - acc: 0.8303 - mean_squared_error: 0.1599 - mean_absolute_error: 0.2133 - val_loss: 2.9776 - val_acc: 0.7210 - val_mean_squared_error: 0.2464 - val_mean_absolute_error: 0.3048\n",
      "Epoch 5/150\n",
      "3/3 [==============================] - 0s 27ms/step - loss: 1.7582 - acc: 0.8330 - mean_squared_error: 0.1621 - mean_absolute_error: 0.2060 - val_loss: 3.0555 - val_acc: 0.7130 - val_mean_squared_error: 0.2526 - val_mean_absolute_error: 0.3096\n",
      "Epoch 6/150\n",
      "3/3 [==============================] - 0s 21ms/step - loss: 1.7000 - acc: 0.8270 - mean_squared_error: 0.1719 - mean_absolute_error: 0.2067 - val_loss: 3.0792 - val_acc: 0.7050 - val_mean_squared_error: 0.2579 - val_mean_absolute_error: 0.3124\n",
      "Epoch 7/150\n",
      "3/3 [==============================] - 0s 35ms/step - loss: 1.6196 - acc: 0.8247 - mean_squared_error: 0.1878 - mean_absolute_error: 0.2098 - val_loss: 3.1171 - val_acc: 0.7010 - val_mean_squared_error: 0.2626 - val_mean_absolute_error: 0.3142\n",
      "Epoch 8/150\n",
      "3/3 [==============================] - 0s 26ms/step - loss: 1.5753 - acc: 0.8167 - mean_squared_error: 0.2067 - mean_absolute_error: 0.2135 - val_loss: 3.2163 - val_acc: 0.7030 - val_mean_squared_error: 0.2668 - val_mean_absolute_error: 0.3153\n",
      "Epoch 9/150\n",
      "3/3 [==============================] - 0s 24ms/step - loss: 1.5497 - acc: 0.8137 - mean_squared_error: 0.2307 - mean_absolute_error: 0.2193 - val_loss: 3.3342 - val_acc: 0.7040 - val_mean_squared_error: 0.2707 - val_mean_absolute_error: 0.3157\n",
      "Epoch 10/150\n",
      "3/3 [==============================] - 0s 27ms/step - loss: 1.5366 - acc: 0.8103 - mean_squared_error: 0.2585 - mean_absolute_error: 0.2265 - val_loss: 3.3995 - val_acc: 0.7020 - val_mean_squared_error: 0.2744 - val_mean_absolute_error: 0.3158\n",
      "Epoch 11/150\n",
      "3/3 [==============================] - 0s 24ms/step - loss: 1.5273 - acc: 0.8043 - mean_squared_error: 0.2902 - mean_absolute_error: 0.2359 - val_loss: 3.4399 - val_acc: 0.7030 - val_mean_squared_error: 0.2775 - val_mean_absolute_error: 0.3157\n",
      "Epoch 12/150\n",
      "3/3 [==============================] - 0s 18ms/step - loss: 1.5181 - acc: 0.7953 - mean_squared_error: 0.3261 - mean_absolute_error: 0.2477 - val_loss: 3.4501 - val_acc: 0.7050 - val_mean_squared_error: 0.2805 - val_mean_absolute_error: 0.3157\n",
      "Epoch 13/150\n",
      "3/3 [==============================] - 0s 21ms/step - loss: 1.5120 - acc: 0.7877 - mean_squared_error: 0.3653 - mean_absolute_error: 0.2612 - val_loss: 3.4411 - val_acc: 0.7090 - val_mean_squared_error: 0.2835 - val_mean_absolute_error: 0.3154\n",
      "Epoch 14/150\n",
      "3/3 [==============================] - 0s 22ms/step - loss: 1.4997 - acc: 0.7820 - mean_squared_error: 0.3999 - mean_absolute_error: 0.2723 - val_loss: 3.4531 - val_acc: 0.7130 - val_mean_squared_error: 0.2863 - val_mean_absolute_error: 0.3152\n",
      "Epoch 15/150\n",
      "3/3 [==============================] - 0s 17ms/step - loss: 1.4891 - acc: 0.7783 - mean_squared_error: 0.4365 - mean_absolute_error: 0.2835 - val_loss: 3.5038 - val_acc: 0.7150 - val_mean_squared_error: 0.2889 - val_mean_absolute_error: 0.3151\n",
      "Epoch 16/150\n",
      "3/3 [==============================] - 0s 21ms/step - loss: 1.4851 - acc: 0.7770 - mean_squared_error: 0.4726 - mean_absolute_error: 0.2937 - val_loss: 3.5405 - val_acc: 0.7140 - val_mean_squared_error: 0.2915 - val_mean_absolute_error: 0.3149\n",
      "Epoch 17/150\n",
      "3/3 [==============================] - 0s 18ms/step - loss: 1.4843 - acc: 0.7740 - mean_squared_error: 0.5114 - mean_absolute_error: 0.3042 - val_loss: 3.5301 - val_acc: 0.7150 - val_mean_squared_error: 0.2941 - val_mean_absolute_error: 0.3148\n",
      "Epoch 18/150\n",
      "3/3 [==============================] - 0s 23ms/step - loss: 1.4843 - acc: 0.7727 - mean_squared_error: 0.5519 - mean_absolute_error: 0.3152 - val_loss: 3.5444 - val_acc: 0.7130 - val_mean_squared_error: 0.2966 - val_mean_absolute_error: 0.3148\n",
      "Epoch 19/150\n",
      "3/3 [==============================] - 0s 21ms/step - loss: 1.4841 - acc: 0.7707 - mean_squared_error: 0.5932 - mean_absolute_error: 0.3262 - val_loss: 3.5645 - val_acc: 0.7120 - val_mean_squared_error: 0.2991 - val_mean_absolute_error: 0.3148\n",
      "Epoch 20/150\n",
      "3/3 [==============================] - 0s 19ms/step - loss: 1.4837 - acc: 0.7680 - mean_squared_error: 0.6348 - mean_absolute_error: 0.3368 - val_loss: 3.5773 - val_acc: 0.7130 - val_mean_squared_error: 0.3018 - val_mean_absolute_error: 0.3151\n",
      "Epoch 21/150\n",
      "3/3 [==============================] - 0s 22ms/step - loss: 1.4751 - acc: 0.7660 - mean_squared_error: 0.6763 - mean_absolute_error: 0.3468 - val_loss: 3.5667 - val_acc: 0.7140 - val_mean_squared_error: 0.3042 - val_mean_absolute_error: 0.3153\n",
      "Epoch 22/150\n",
      "3/3 [==============================] - 0s 18ms/step - loss: 1.4730 - acc: 0.7643 - mean_squared_error: 0.7139 - mean_absolute_error: 0.3549 - val_loss: 3.5571 - val_acc: 0.7130 - val_mean_squared_error: 0.3068 - val_mean_absolute_error: 0.3156\n",
      "Epoch 23/150\n",
      "3/3 [==============================] - 0s 22ms/step - loss: 1.4726 - acc: 0.7617 - mean_squared_error: 0.7516 - mean_absolute_error: 0.3629 - val_loss: 3.5703 - val_acc: 0.7130 - val_mean_squared_error: 0.3093 - val_mean_absolute_error: 0.3161\n",
      "Epoch 24/150\n",
      "3/3 [==============================] - 0s 23ms/step - loss: 1.4724 - acc: 0.7603 - mean_squared_error: 0.7889 - mean_absolute_error: 0.3710 - val_loss: 3.5956 - val_acc: 0.7110 - val_mean_squared_error: 0.3118 - val_mean_absolute_error: 0.3166\n",
      "Epoch 25/150\n",
      "3/3 [==============================] - 0s 17ms/step - loss: 1.4689 - acc: 0.7593 - mean_squared_error: 0.8259 - mean_absolute_error: 0.3789 - val_loss: 3.6090 - val_acc: 0.7120 - val_mean_squared_error: 0.3140 - val_mean_absolute_error: 0.3171\n",
      "Epoch 26/150\n",
      "3/3 [==============================] - 0s 18ms/step - loss: 1.4674 - acc: 0.7580 - mean_squared_error: 0.8602 - mean_absolute_error: 0.3860 - val_loss: 3.6130 - val_acc: 0.7140 - val_mean_squared_error: 0.3161 - val_mean_absolute_error: 0.3177\n",
      "Epoch 27/150\n",
      "3/3 [==============================] - 0s 16ms/step - loss: 1.4673 - acc: 0.7577 - mean_squared_error: 0.8940 - mean_absolute_error: 0.3929 - val_loss: 3.6269 - val_acc: 0.7130 - val_mean_squared_error: 0.3182 - val_mean_absolute_error: 0.3183\n",
      "Epoch 28/150\n",
      "3/3 [==============================] - 0s 20ms/step - loss: 1.4634 - acc: 0.7567 - mean_squared_error: 0.9273 - mean_absolute_error: 0.4000 - val_loss: 3.6533 - val_acc: 0.7120 - val_mean_squared_error: 0.3203 - val_mean_absolute_error: 0.3191\n",
      "Epoch 29/150\n",
      "3/3 [==============================] - 0s 20ms/step - loss: 1.4583 - acc: 0.7553 - mean_squared_error: 0.9593 - mean_absolute_error: 0.4066 - val_loss: 3.6651 - val_acc: 0.7120 - val_mean_squared_error: 0.3224 - val_mean_absolute_error: 0.3198\n",
      "Epoch 30/150\n",
      "3/3 [==============================] - 0s 25ms/step - loss: 1.4528 - acc: 0.7543 - mean_squared_error: 0.9888 - mean_absolute_error: 0.4124 - val_loss: 3.6682 - val_acc: 0.7090 - val_mean_squared_error: 0.3243 - val_mean_absolute_error: 0.3206\n",
      "Epoch 31/150\n",
      "3/3 [==============================] - 0s 17ms/step - loss: 1.4513 - acc: 0.7537 - mean_squared_error: 1.0165 - mean_absolute_error: 0.4175 - val_loss: 3.6703 - val_acc: 0.7080 - val_mean_squared_error: 0.3260 - val_mean_absolute_error: 0.3213\n",
      "Epoch 32/150\n",
      "3/3 [==============================] - 0s 21ms/step - loss: 1.4510 - acc: 0.7523 - mean_squared_error: 1.0432 - mean_absolute_error: 0.4227 - val_loss: 3.6836 - val_acc: 0.7050 - val_mean_squared_error: 0.3277 - val_mean_absolute_error: 0.3220\n"
     ]
    },
    {
     "name": "stdout",
     "output_type": "stream",
     "text": [
      "Epoch 33/150\n",
      "3/3 [==============================] - 0s 18ms/step - loss: 1.4417 - acc: 0.7503 - mean_squared_error: 1.0684 - mean_absolute_error: 0.4277 - val_loss: 3.6849 - val_acc: 0.7050 - val_mean_squared_error: 0.3293 - val_mean_absolute_error: 0.3228\n",
      "Epoch 34/150\n",
      "3/3 [==============================] - 0s 19ms/step - loss: 1.4403 - acc: 0.7497 - mean_squared_error: 1.0917 - mean_absolute_error: 0.4318 - val_loss: 3.6873 - val_acc: 0.7050 - val_mean_squared_error: 0.3308 - val_mean_absolute_error: 0.3236\n",
      "Epoch 35/150\n",
      "3/3 [==============================] - 0s 21ms/step - loss: 1.4356 - acc: 0.7497 - mean_squared_error: 1.1143 - mean_absolute_error: 0.4360 - val_loss: 3.7021 - val_acc: 0.7050 - val_mean_squared_error: 0.3323 - val_mean_absolute_error: 0.3243\n",
      "Epoch 36/150\n",
      "3/3 [==============================] - 0s 17ms/step - loss: 1.4349 - acc: 0.7480 - mean_squared_error: 1.1353 - mean_absolute_error: 0.4400 - val_loss: 3.7079 - val_acc: 0.7050 - val_mean_squared_error: 0.3337 - val_mean_absolute_error: 0.3250\n",
      "Epoch 37/150\n",
      "3/3 [==============================] - 0s 18ms/step - loss: 1.4346 - acc: 0.7480 - mean_squared_error: 1.1555 - mean_absolute_error: 0.4439 - val_loss: 3.7225 - val_acc: 0.7050 - val_mean_squared_error: 0.3351 - val_mean_absolute_error: 0.3257\n",
      "Epoch 38/150\n",
      "3/3 [==============================] - 0s 21ms/step - loss: 1.4345 - acc: 0.7477 - mean_squared_error: 1.1747 - mean_absolute_error: 0.4475 - val_loss: 3.7426 - val_acc: 0.7050 - val_mean_squared_error: 0.3363 - val_mean_absolute_error: 0.3263\n",
      "Epoch 39/150\n",
      "3/3 [==============================] - 0s 24ms/step - loss: 1.4311 - acc: 0.7473 - mean_squared_error: 1.1929 - mean_absolute_error: 0.4508 - val_loss: 3.7267 - val_acc: 0.7060 - val_mean_squared_error: 0.3372 - val_mean_absolute_error: 0.3266\n",
      "Epoch 40/150\n",
      "3/3 [==============================] - 0s 18ms/step - loss: 1.4255 - acc: 0.7467 - mean_squared_error: 1.2098 - mean_absolute_error: 0.4536 - val_loss: 3.7167 - val_acc: 0.7060 - val_mean_squared_error: 0.3381 - val_mean_absolute_error: 0.3268\n",
      "Epoch 41/150\n",
      "3/3 [==============================] - 0s 20ms/step - loss: 1.4199 - acc: 0.7467 - mean_squared_error: 1.2242 - mean_absolute_error: 0.4560 - val_loss: 3.7254 - val_acc: 0.7050 - val_mean_squared_error: 0.3389 - val_mean_absolute_error: 0.3270\n",
      "Epoch 42/150\n",
      "3/3 [==============================] - 0s 18ms/step - loss: 1.4184 - acc: 0.7480 - mean_squared_error: 1.2388 - mean_absolute_error: 0.4582 - val_loss: 3.7246 - val_acc: 0.7030 - val_mean_squared_error: 0.3397 - val_mean_absolute_error: 0.3272\n",
      "Epoch 43/150\n",
      "3/3 [==============================] - 0s 20ms/step - loss: 1.4182 - acc: 0.7490 - mean_squared_error: 1.2531 - mean_absolute_error: 0.4606 - val_loss: 3.7246 - val_acc: 0.7030 - val_mean_squared_error: 0.3406 - val_mean_absolute_error: 0.3274\n",
      "Epoch 44/150\n",
      "3/3 [==============================] - 0s 20ms/step - loss: 1.4141 - acc: 0.7480 - mean_squared_error: 1.2678 - mean_absolute_error: 0.4635 - val_loss: 3.7145 - val_acc: 0.7020 - val_mean_squared_error: 0.3420 - val_mean_absolute_error: 0.3278\n",
      "Epoch 45/150\n",
      "3/3 [==============================] - 0s 21ms/step - loss: 1.4132 - acc: 0.7483 - mean_squared_error: 1.2820 - mean_absolute_error: 0.4658 - val_loss: 3.7143 - val_acc: 0.7010 - val_mean_squared_error: 0.3432 - val_mean_absolute_error: 0.3282\n",
      "Epoch 46/150\n",
      "3/3 [==============================] - 0s 19ms/step - loss: 1.4131 - acc: 0.7473 - mean_squared_error: 1.2955 - mean_absolute_error: 0.4682 - val_loss: 3.7150 - val_acc: 0.7000 - val_mean_squared_error: 0.3444 - val_mean_absolute_error: 0.3285\n",
      "Epoch 47/150\n",
      "3/3 [==============================] - 0s 17ms/step - loss: 1.4131 - acc: 0.7467 - mean_squared_error: 1.3086 - mean_absolute_error: 0.4705 - val_loss: 3.7181 - val_acc: 0.7000 - val_mean_squared_error: 0.3456 - val_mean_absolute_error: 0.3289\n",
      "Epoch 48/150\n",
      "3/3 [==============================] - 0s 19ms/step - loss: 1.4131 - acc: 0.7467 - mean_squared_error: 1.3215 - mean_absolute_error: 0.4726 - val_loss: 3.7407 - val_acc: 0.7000 - val_mean_squared_error: 0.3467 - val_mean_absolute_error: 0.3293\n",
      "Epoch 49/150\n",
      "3/3 [==============================] - 0s 25ms/step - loss: 1.4130 - acc: 0.7467 - mean_squared_error: 1.3342 - mean_absolute_error: 0.4748 - val_loss: 3.7411 - val_acc: 0.7010 - val_mean_squared_error: 0.3478 - val_mean_absolute_error: 0.3296\n",
      "Epoch 50/150\n",
      "3/3 [==============================] - 0s 25ms/step - loss: 1.4129 - acc: 0.7453 - mean_squared_error: 1.3465 - mean_absolute_error: 0.4770 - val_loss: 3.7288 - val_acc: 0.7020 - val_mean_squared_error: 0.3488 - val_mean_absolute_error: 0.3300\n",
      "Epoch 51/150\n",
      "3/3 [==============================] - 0s 24ms/step - loss: 1.4129 - acc: 0.7453 - mean_squared_error: 1.3583 - mean_absolute_error: 0.4790 - val_loss: 3.7189 - val_acc: 0.7020 - val_mean_squared_error: 0.3497 - val_mean_absolute_error: 0.3303\n",
      "Epoch 52/150\n",
      "3/3 [==============================] - 0s 26ms/step - loss: 1.4128 - acc: 0.7450 - mean_squared_error: 1.3694 - mean_absolute_error: 0.4808 - val_loss: 3.7161 - val_acc: 0.7030 - val_mean_squared_error: 0.3505 - val_mean_absolute_error: 0.3305\n",
      "Epoch 53/150\n",
      "3/3 [==============================] - 0s 23ms/step - loss: 1.4097 - acc: 0.7443 - mean_squared_error: 1.3799 - mean_absolute_error: 0.4824 - val_loss: 3.6886 - val_acc: 0.7020 - val_mean_squared_error: 0.3508 - val_mean_absolute_error: 0.3305\n",
      "Epoch 54/150\n",
      "3/3 [==============================] - 0s 22ms/step - loss: 1.4074 - acc: 0.7450 - mean_squared_error: 1.3798 - mean_absolute_error: 0.4824 - val_loss: 3.7043 - val_acc: 0.7000 - val_mean_squared_error: 0.3509 - val_mean_absolute_error: 0.3303\n",
      "Epoch 55/150\n",
      "3/3 [==============================] - 0s 21ms/step - loss: 1.4035 - acc: 0.7457 - mean_squared_error: 1.3852 - mean_absolute_error: 0.4831 - val_loss: 3.7290 - val_acc: 0.7040 - val_mean_squared_error: 0.3523 - val_mean_absolute_error: 0.3304\n",
      "Epoch 56/150\n",
      "3/3 [==============================] - 0s 19ms/step - loss: 1.3973 - acc: 0.7463 - mean_squared_error: 1.3938 - mean_absolute_error: 0.4832 - val_loss: 3.7527 - val_acc: 0.7010 - val_mean_squared_error: 0.3548 - val_mean_absolute_error: 0.3316\n",
      "Epoch 57/150\n",
      "3/3 [==============================] - 0s 22ms/step - loss: 1.3970 - acc: 0.7467 - mean_squared_error: 1.4069 - mean_absolute_error: 0.4841 - val_loss: 3.7525 - val_acc: 0.6980 - val_mean_squared_error: 0.3579 - val_mean_absolute_error: 0.3332\n",
      "Epoch 58/150\n",
      "3/3 [==============================] - 0s 24ms/step - loss: 1.3968 - acc: 0.7463 - mean_squared_error: 1.4231 - mean_absolute_error: 0.4856 - val_loss: 3.7439 - val_acc: 0.6980 - val_mean_squared_error: 0.3614 - val_mean_absolute_error: 0.3349\n",
      "Epoch 59/150\n",
      "3/3 [==============================] - 0s 22ms/step - loss: 1.3924 - acc: 0.7447 - mean_squared_error: 1.4409 - mean_absolute_error: 0.4873 - val_loss: 3.7429 - val_acc: 0.6980 - val_mean_squared_error: 0.3652 - val_mean_absolute_error: 0.3366\n",
      "Epoch 60/150\n",
      "3/3 [==============================] - 0s 20ms/step - loss: 1.3916 - acc: 0.7457 - mean_squared_error: 1.4590 - mean_absolute_error: 0.4886 - val_loss: 3.7343 - val_acc: 0.7010 - val_mean_squared_error: 0.3693 - val_mean_absolute_error: 0.3385\n",
      "Epoch 61/150\n",
      "3/3 [==============================] - 0s 17ms/step - loss: 1.3915 - acc: 0.7457 - mean_squared_error: 1.4783 - mean_absolute_error: 0.4906 - val_loss: 3.7474 - val_acc: 0.6980 - val_mean_squared_error: 0.3732 - val_mean_absolute_error: 0.3401\n",
      "Epoch 62/150\n",
      "3/3 [==============================] - 0s 21ms/step - loss: 1.3915 - acc: 0.7450 - mean_squared_error: 1.5000 - mean_absolute_error: 0.4931 - val_loss: 3.7603 - val_acc: 0.6990 - val_mean_squared_error: 0.3772 - val_mean_absolute_error: 0.3417\n",
      "Epoch 63/150\n",
      "3/3 [==============================] - 0s 18ms/step - loss: 1.3915 - acc: 0.7440 - mean_squared_error: 1.5229 - mean_absolute_error: 0.4956 - val_loss: 3.7497 - val_acc: 0.6970 - val_mean_squared_error: 0.3808 - val_mean_absolute_error: 0.3430\n",
      "Epoch 64/150\n",
      "3/3 [==============================] - 0s 19ms/step - loss: 1.3915 - acc: 0.7437 - mean_squared_error: 1.5460 - mean_absolute_error: 0.4981 - val_loss: 3.7518 - val_acc: 0.6950 - val_mean_squared_error: 0.3841 - val_mean_absolute_error: 0.3441\n"
     ]
    },
    {
     "name": "stdout",
     "output_type": "stream",
     "text": [
      "Epoch 65/150\n",
      "3/3 [==============================] - 0s 28ms/step - loss: 1.3914 - acc: 0.7447 - mean_squared_error: 1.5681 - mean_absolute_error: 0.5004 - val_loss: 3.7654 - val_acc: 0.6970 - val_mean_squared_error: 0.3872 - val_mean_absolute_error: 0.3452\n",
      "Epoch 66/150\n",
      "3/3 [==============================] - 0s 22ms/step - loss: 1.3914 - acc: 0.7453 - mean_squared_error: 1.5891 - mean_absolute_error: 0.5027 - val_loss: 3.7671 - val_acc: 0.6950 - val_mean_squared_error: 0.3901 - val_mean_absolute_error: 0.3463\n",
      "Epoch 67/150\n",
      "3/3 [==============================] - 0s 19ms/step - loss: 1.3876 - acc: 0.7453 - mean_squared_error: 1.6101 - mean_absolute_error: 0.5051 - val_loss: 3.7688 - val_acc: 0.6960 - val_mean_squared_error: 0.3923 - val_mean_absolute_error: 0.3471\n",
      "Epoch 68/150\n",
      "3/3 [==============================] - 0s 16ms/step - loss: 1.3817 - acc: 0.7453 - mean_squared_error: 1.6206 - mean_absolute_error: 0.5053 - val_loss: 3.7814 - val_acc: 0.6950 - val_mean_squared_error: 0.3946 - val_mean_absolute_error: 0.3481\n",
      "Epoch 69/150\n",
      "3/3 [==============================] - 0s 18ms/step - loss: 1.3771 - acc: 0.7450 - mean_squared_error: 1.6333 - mean_absolute_error: 0.5063 - val_loss: 3.7852 - val_acc: 0.6940 - val_mean_squared_error: 0.3972 - val_mean_absolute_error: 0.3493\n",
      "Epoch 70/150\n",
      "3/3 [==============================] - 0s 16ms/step - loss: 1.3753 - acc: 0.7450 - mean_squared_error: 1.6473 - mean_absolute_error: 0.5074 - val_loss: 3.7976 - val_acc: 0.6950 - val_mean_squared_error: 0.3996 - val_mean_absolute_error: 0.3501\n",
      "Epoch 71/150\n",
      "3/3 [==============================] - 0s 19ms/step - loss: 1.3711 - acc: 0.7447 - mean_squared_error: 1.6630 - mean_absolute_error: 0.5092 - val_loss: 3.8243 - val_acc: 0.6950 - val_mean_squared_error: 0.4019 - val_mean_absolute_error: 0.3510\n",
      "Epoch 72/150\n",
      "3/3 [==============================] - 0s 17ms/step - loss: 1.3699 - acc: 0.7467 - mean_squared_error: 1.6782 - mean_absolute_error: 0.5104 - val_loss: 3.8256 - val_acc: 0.6960 - val_mean_squared_error: 0.4042 - val_mean_absolute_error: 0.3520\n",
      "Epoch 73/150\n",
      "3/3 [==============================] - 0s 19ms/step - loss: 1.3698 - acc: 0.7463 - mean_squared_error: 1.6950 - mean_absolute_error: 0.5122 - val_loss: 3.8165 - val_acc: 0.6950 - val_mean_squared_error: 0.4067 - val_mean_absolute_error: 0.3531\n",
      "Epoch 74/150\n",
      "3/3 [==============================] - 0s 20ms/step - loss: 1.3657 - acc: 0.7463 - mean_squared_error: 1.7132 - mean_absolute_error: 0.5144 - val_loss: 3.8179 - val_acc: 0.6960 - val_mean_squared_error: 0.4088 - val_mean_absolute_error: 0.3541\n",
      "Epoch 75/150\n",
      "3/3 [==============================] - 0s 18ms/step - loss: 1.3646 - acc: 0.7463 - mean_squared_error: 1.7316 - mean_absolute_error: 0.5164 - val_loss: 3.8312 - val_acc: 0.6960 - val_mean_squared_error: 0.4109 - val_mean_absolute_error: 0.3551\n",
      "Epoch 76/150\n",
      "3/3 [==============================] - 0s 17ms/step - loss: 1.3645 - acc: 0.7453 - mean_squared_error: 1.7505 - mean_absolute_error: 0.5186 - val_loss: 3.8325 - val_acc: 0.6950 - val_mean_squared_error: 0.4127 - val_mean_absolute_error: 0.3559\n",
      "Epoch 77/150\n",
      "3/3 [==============================] - 0s 18ms/step - loss: 1.3647 - acc: 0.7443 - mean_squared_error: 1.7697 - mean_absolute_error: 0.5209 - val_loss: 3.8338 - val_acc: 0.6960 - val_mean_squared_error: 0.4144 - val_mean_absolute_error: 0.3568\n",
      "Epoch 78/150\n",
      "3/3 [==============================] - 0s 20ms/step - loss: 1.3646 - acc: 0.7447 - mean_squared_error: 1.7890 - mean_absolute_error: 0.5231 - val_loss: 3.8351 - val_acc: 0.6930 - val_mean_squared_error: 0.4160 - val_mean_absolute_error: 0.3576\n",
      "Epoch 79/150\n",
      "3/3 [==============================] - 0s 18ms/step - loss: 1.3606 - acc: 0.7447 - mean_squared_error: 1.8073 - mean_absolute_error: 0.5249 - val_loss: 3.8373 - val_acc: 0.6920 - val_mean_squared_error: 0.4174 - val_mean_absolute_error: 0.3585\n",
      "Epoch 80/150\n",
      "3/3 [==============================] - 0s 20ms/step - loss: 1.3592 - acc: 0.7447 - mean_squared_error: 1.8245 - mean_absolute_error: 0.5264 - val_loss: 3.8398 - val_acc: 0.6920 - val_mean_squared_error: 0.4187 - val_mean_absolute_error: 0.3594\n",
      "Epoch 81/150\n",
      "3/3 [==============================] - 0s 19ms/step - loss: 1.3592 - acc: 0.7443 - mean_squared_error: 1.8420 - mean_absolute_error: 0.5288 - val_loss: 3.8435 - val_acc: 0.6910 - val_mean_squared_error: 0.4201 - val_mean_absolute_error: 0.3605\n",
      "Epoch 82/150\n",
      "3/3 [==============================] - 0s 19ms/step - loss: 1.3592 - acc: 0.7437 - mean_squared_error: 1.8598 - mean_absolute_error: 0.5313 - val_loss: 3.8585 - val_acc: 0.6890 - val_mean_squared_error: 0.4215 - val_mean_absolute_error: 0.3615\n",
      "Epoch 83/150\n",
      "3/3 [==============================] - 0s 14ms/step - loss: 1.3591 - acc: 0.7433 - mean_squared_error: 1.8775 - mean_absolute_error: 0.5336 - val_loss: 3.8617 - val_acc: 0.6880 - val_mean_squared_error: 0.4227 - val_mean_absolute_error: 0.3624\n",
      "Epoch 84/150\n",
      "3/3 [==============================] - 0s 21ms/step - loss: 1.3591 - acc: 0.7433 - mean_squared_error: 1.8941 - mean_absolute_error: 0.5358 - val_loss: 3.8548 - val_acc: 0.6880 - val_mean_squared_error: 0.4239 - val_mean_absolute_error: 0.3632\n",
      "Epoch 85/150\n",
      "3/3 [==============================] - 0s 19ms/step - loss: 1.3591 - acc: 0.7427 - mean_squared_error: 1.9104 - mean_absolute_error: 0.5378 - val_loss: 3.8810 - val_acc: 0.6850 - val_mean_squared_error: 0.4251 - val_mean_absolute_error: 0.3639\n",
      "Epoch 86/150\n",
      "3/3 [==============================] - 0s 16ms/step - loss: 1.3591 - acc: 0.7423 - mean_squared_error: 1.9263 - mean_absolute_error: 0.5398 - val_loss: 3.8747 - val_acc: 0.6840 - val_mean_squared_error: 0.4263 - val_mean_absolute_error: 0.3645\n",
      "Epoch 87/150\n",
      "3/3 [==============================] - 0s 19ms/step - loss: 1.3591 - acc: 0.7423 - mean_squared_error: 1.9413 - mean_absolute_error: 0.5417 - val_loss: 3.8867 - val_acc: 0.6820 - val_mean_squared_error: 0.4274 - val_mean_absolute_error: 0.3650\n",
      "Epoch 88/150\n",
      "3/3 [==============================] - 0s 17ms/step - loss: 1.3591 - acc: 0.7423 - mean_squared_error: 1.9555 - mean_absolute_error: 0.5434 - val_loss: 3.9131 - val_acc: 0.6810 - val_mean_squared_error: 0.4284 - val_mean_absolute_error: 0.3654\n",
      "Epoch 89/150\n",
      "3/3 [==============================] - 0s 19ms/step - loss: 1.3591 - acc: 0.7427 - mean_squared_error: 1.9686 - mean_absolute_error: 0.5448 - val_loss: 3.9231 - val_acc: 0.6810 - val_mean_squared_error: 0.4294 - val_mean_absolute_error: 0.3658\n",
      "Epoch 90/150\n",
      "3/3 [==============================] - 0s 18ms/step - loss: 1.3591 - acc: 0.7433 - mean_squared_error: 1.9808 - mean_absolute_error: 0.5460 - val_loss: 3.9263 - val_acc: 0.6810 - val_mean_squared_error: 0.4303 - val_mean_absolute_error: 0.3662\n",
      "Epoch 91/150\n",
      "3/3 [==============================] - 0s 21ms/step - loss: 1.3591 - acc: 0.7433 - mean_squared_error: 1.9923 - mean_absolute_error: 0.5473 - val_loss: 3.9355 - val_acc: 0.6800 - val_mean_squared_error: 0.4312 - val_mean_absolute_error: 0.3666\n",
      "Epoch 92/150\n",
      "3/3 [==============================] - 0s 18ms/step - loss: 1.3591 - acc: 0.7433 - mean_squared_error: 2.0040 - mean_absolute_error: 0.5488 - val_loss: 3.9380 - val_acc: 0.6800 - val_mean_squared_error: 0.4321 - val_mean_absolute_error: 0.3671\n",
      "Epoch 93/150\n",
      "3/3 [==============================] - 0s 19ms/step - loss: 1.3556 - acc: 0.7427 - mean_squared_error: 2.0146 - mean_absolute_error: 0.5502 - val_loss: 3.9186 - val_acc: 0.6810 - val_mean_squared_error: 0.4312 - val_mean_absolute_error: 0.3666\n",
      "Epoch 94/150\n",
      "3/3 [==============================] - 0s 19ms/step - loss: 1.3537 - acc: 0.7427 - mean_squared_error: 2.0214 - mean_absolute_error: 0.5505 - val_loss: 3.9285 - val_acc: 0.6800 - val_mean_squared_error: 0.4308 - val_mean_absolute_error: 0.3663\n",
      "Epoch 95/150\n",
      "3/3 [==============================] - 0s 20ms/step - loss: 1.3538 - acc: 0.7427 - mean_squared_error: 2.0329 - mean_absolute_error: 0.5523 - val_loss: 3.9208 - val_acc: 0.6820 - val_mean_squared_error: 0.4308 - val_mean_absolute_error: 0.3661\n",
      "Epoch 96/150\n",
      "3/3 [==============================] - 0s 20ms/step - loss: 1.3499 - acc: 0.7427 - mean_squared_error: 2.0491 - mean_absolute_error: 0.5547 - val_loss: 3.9045 - val_acc: 0.6830 - val_mean_squared_error: 0.4311 - val_mean_absolute_error: 0.3663\n"
     ]
    },
    {
     "name": "stdout",
     "output_type": "stream",
     "text": [
      "Epoch 97/150\n",
      "3/3 [==============================] - 0s 17ms/step - loss: 1.3484 - acc: 0.7420 - mean_squared_error: 2.0689 - mean_absolute_error: 0.5571 - val_loss: 3.8914 - val_acc: 0.6810 - val_mean_squared_error: 0.4317 - val_mean_absolute_error: 0.3667\n",
      "Epoch 98/150\n",
      "3/3 [==============================] - 0s 21ms/step - loss: 1.3442 - acc: 0.7413 - mean_squared_error: 2.0904 - mean_absolute_error: 0.5601 - val_loss: 3.8905 - val_acc: 0.6830 - val_mean_squared_error: 0.4330 - val_mean_absolute_error: 0.3673\n",
      "Epoch 99/150\n",
      "3/3 [==============================] - 0s 19ms/step - loss: 1.3430 - acc: 0.7417 - mean_squared_error: 2.1128 - mean_absolute_error: 0.5624 - val_loss: 3.8929 - val_acc: 0.6830 - val_mean_squared_error: 0.4344 - val_mean_absolute_error: 0.3679\n",
      "Epoch 100/150\n",
      "3/3 [==============================] - 0s 18ms/step - loss: 1.3429 - acc: 0.7417 - mean_squared_error: 2.1365 - mean_absolute_error: 0.5653 - val_loss: 3.9074 - val_acc: 0.6840 - val_mean_squared_error: 0.4359 - val_mean_absolute_error: 0.3685\n",
      "Epoch 101/150\n",
      "3/3 [==============================] - 0s 18ms/step - loss: 1.3430 - acc: 0.7417 - mean_squared_error: 2.1606 - mean_absolute_error: 0.5681 - val_loss: 3.9324 - val_acc: 0.6830 - val_mean_squared_error: 0.4376 - val_mean_absolute_error: 0.3694\n",
      "Epoch 102/150\n",
      "3/3 [==============================] - 0s 17ms/step - loss: 1.3430 - acc: 0.7427 - mean_squared_error: 2.1834 - mean_absolute_error: 0.5707 - val_loss: 3.9474 - val_acc: 0.6830 - val_mean_squared_error: 0.4395 - val_mean_absolute_error: 0.3704\n",
      "Epoch 103/150\n",
      "3/3 [==============================] - 0s 19ms/step - loss: 1.3429 - acc: 0.7427 - mean_squared_error: 2.2067 - mean_absolute_error: 0.5734 - val_loss: 3.9686 - val_acc: 0.6820 - val_mean_squared_error: 0.4412 - val_mean_absolute_error: 0.3713\n",
      "Epoch 104/150\n",
      "3/3 [==============================] - 0s 19ms/step - loss: 1.3430 - acc: 0.7423 - mean_squared_error: 2.2282 - mean_absolute_error: 0.5757 - val_loss: 3.9712 - val_acc: 0.6810 - val_mean_squared_error: 0.4430 - val_mean_absolute_error: 0.3721\n",
      "Epoch 105/150\n",
      "3/3 [==============================] - 0s 18ms/step - loss: 1.3430 - acc: 0.7427 - mean_squared_error: 2.2491 - mean_absolute_error: 0.5779 - val_loss: 3.9840 - val_acc: 0.6810 - val_mean_squared_error: 0.4447 - val_mean_absolute_error: 0.3728\n",
      "Epoch 106/150\n",
      "3/3 [==============================] - 0s 17ms/step - loss: 1.3430 - acc: 0.7420 - mean_squared_error: 2.2693 - mean_absolute_error: 0.5802 - val_loss: 3.9949 - val_acc: 0.6810 - val_mean_squared_error: 0.4461 - val_mean_absolute_error: 0.3734\n",
      "Epoch 107/150\n",
      "3/3 [==============================] - 0s 18ms/step - loss: 1.3405 - acc: 0.7410 - mean_squared_error: 2.2881 - mean_absolute_error: 0.5822 - val_loss: 3.9868 - val_acc: 0.6800 - val_mean_squared_error: 0.4468 - val_mean_absolute_error: 0.3740\n",
      "Epoch 108/150\n",
      "3/3 [==============================] - 0s 19ms/step - loss: 1.3377 - acc: 0.7423 - mean_squared_error: 2.2850 - mean_absolute_error: 0.5822 - val_loss: 4.0092 - val_acc: 0.6770 - val_mean_squared_error: 0.4476 - val_mean_absolute_error: 0.3745\n",
      "Epoch 109/150\n",
      "3/3 [==============================] - 0s 18ms/step - loss: 1.3326 - acc: 0.7443 - mean_squared_error: 2.2939 - mean_absolute_error: 0.5830 - val_loss: 4.0130 - val_acc: 0.6760 - val_mean_squared_error: 0.4489 - val_mean_absolute_error: 0.3748\n",
      "Epoch 110/150\n",
      "3/3 [==============================] - 0s 17ms/step - loss: 1.3327 - acc: 0.7440 - mean_squared_error: 2.3128 - mean_absolute_error: 0.5848 - val_loss: 4.0381 - val_acc: 0.6750 - val_mean_squared_error: 0.4501 - val_mean_absolute_error: 0.3749\n",
      "Epoch 111/150\n",
      "3/3 [==============================] - 0s 18ms/step - loss: 1.3329 - acc: 0.7443 - mean_squared_error: 2.3383 - mean_absolute_error: 0.5868 - val_loss: 4.0393 - val_acc: 0.6750 - val_mean_squared_error: 0.4512 - val_mean_absolute_error: 0.3750\n",
      "Epoch 112/150\n",
      "3/3 [==============================] - 0s 16ms/step - loss: 1.3337 - acc: 0.7457 - mean_squared_error: 2.3717 - mean_absolute_error: 0.5898 - val_loss: 4.0396 - val_acc: 0.6760 - val_mean_squared_error: 0.4514 - val_mean_absolute_error: 0.3751\n",
      "Epoch 113/150\n",
      "3/3 [==============================] - 0s 17ms/step - loss: 1.3338 - acc: 0.7450 - mean_squared_error: 2.4115 - mean_absolute_error: 0.5945 - val_loss: 4.0414 - val_acc: 0.6760 - val_mean_squared_error: 0.4512 - val_mean_absolute_error: 0.3752\n",
      "Epoch 114/150\n",
      "3/3 [==============================] - 0s 18ms/step - loss: 1.3327 - acc: 0.7437 - mean_squared_error: 2.4522 - mean_absolute_error: 0.5994 - val_loss: 4.0551 - val_acc: 0.6750 - val_mean_squared_error: 0.4507 - val_mean_absolute_error: 0.3751\n",
      "Epoch 115/150\n",
      "3/3 [==============================] - 0s 19ms/step - loss: 1.3325 - acc: 0.7427 - mean_squared_error: 2.4908 - mean_absolute_error: 0.6040 - val_loss: 4.0539 - val_acc: 0.6740 - val_mean_squared_error: 0.4503 - val_mean_absolute_error: 0.3751\n",
      "Epoch 116/150\n",
      "3/3 [==============================] - 0s 19ms/step - loss: 1.3324 - acc: 0.7427 - mean_squared_error: 2.5305 - mean_absolute_error: 0.6086 - val_loss: 4.0551 - val_acc: 0.6760 - val_mean_squared_error: 0.4494 - val_mean_absolute_error: 0.3744\n",
      "Epoch 117/150\n",
      "3/3 [==============================] - 0s 18ms/step - loss: 1.3323 - acc: 0.7430 - mean_squared_error: 2.5650 - mean_absolute_error: 0.6126 - val_loss: 4.0463 - val_acc: 0.6750 - val_mean_squared_error: 0.4489 - val_mean_absolute_error: 0.3739\n",
      "Epoch 118/150\n",
      "3/3 [==============================] - 0s 18ms/step - loss: 1.3322 - acc: 0.7427 - mean_squared_error: 2.6011 - mean_absolute_error: 0.6166 - val_loss: 4.0344 - val_acc: 0.6750 - val_mean_squared_error: 0.4487 - val_mean_absolute_error: 0.3737\n",
      "Epoch 119/150\n",
      "3/3 [==============================] - 0s 18ms/step - loss: 1.3284 - acc: 0.7423 - mean_squared_error: 2.6380 - mean_absolute_error: 0.6209 - val_loss: 4.0362 - val_acc: 0.6750 - val_mean_squared_error: 0.4487 - val_mean_absolute_error: 0.3736\n",
      "Epoch 120/150\n",
      "3/3 [==============================] - 0s 19ms/step - loss: 1.3268 - acc: 0.7413 - mean_squared_error: 2.6750 - mean_absolute_error: 0.6253 - val_loss: 4.0368 - val_acc: 0.6750 - val_mean_squared_error: 0.4489 - val_mean_absolute_error: 0.3739\n",
      "Epoch 121/150\n",
      "3/3 [==============================] - 0s 18ms/step - loss: 1.3268 - acc: 0.7397 - mean_squared_error: 2.7128 - mean_absolute_error: 0.6305 - val_loss: 4.0458 - val_acc: 0.6750 - val_mean_squared_error: 0.4492 - val_mean_absolute_error: 0.3743\n",
      "Epoch 122/150\n",
      "3/3 [==============================] - 0s 17ms/step - loss: 1.3220 - acc: 0.7397 - mean_squared_error: 2.7534 - mean_absolute_error: 0.6353 - val_loss: 4.0598 - val_acc: 0.6740 - val_mean_squared_error: 0.4490 - val_mean_absolute_error: 0.3746\n",
      "Epoch 123/150\n",
      "3/3 [==============================] - 0s 17ms/step - loss: 1.3174 - acc: 0.7403 - mean_squared_error: 2.7914 - mean_absolute_error: 0.6393 - val_loss: 4.0422 - val_acc: 0.6730 - val_mean_squared_error: 0.4490 - val_mean_absolute_error: 0.3749\n",
      "Epoch 124/150\n",
      "3/3 [==============================] - 0s 17ms/step - loss: 1.3112 - acc: 0.7417 - mean_squared_error: 2.8234 - mean_absolute_error: 0.6418 - val_loss: 4.0842 - val_acc: 0.6740 - val_mean_squared_error: 0.4491 - val_mean_absolute_error: 0.3753\n",
      "Epoch 125/150\n",
      "3/3 [==============================] - 0s 18ms/step - loss: 1.3071 - acc: 0.7413 - mean_squared_error: 2.8553 - mean_absolute_error: 0.6446 - val_loss: 4.1000 - val_acc: 0.6740 - val_mean_squared_error: 0.4492 - val_mean_absolute_error: 0.3757\n",
      "Epoch 126/150\n",
      "3/3 [==============================] - 0s 18ms/step - loss: 1.3054 - acc: 0.7413 - mean_squared_error: 2.8772 - mean_absolute_error: 0.6472 - val_loss: 4.1003 - val_acc: 0.6720 - val_mean_squared_error: 0.4500 - val_mean_absolute_error: 0.3761\n",
      "Epoch 127/150\n",
      "3/3 [==============================] - 0s 18ms/step - loss: 1.3057 - acc: 0.7403 - mean_squared_error: 2.9047 - mean_absolute_error: 0.6508 - val_loss: 4.0914 - val_acc: 0.6730 - val_mean_squared_error: 0.4513 - val_mean_absolute_error: 0.3765\n",
      "Epoch 128/150\n",
      "3/3 [==============================] - 0s 18ms/step - loss: 1.3058 - acc: 0.7407 - mean_squared_error: 2.9368 - mean_absolute_error: 0.6544 - val_loss: 4.1026 - val_acc: 0.6700 - val_mean_squared_error: 0.4527 - val_mean_absolute_error: 0.3771\n"
     ]
    },
    {
     "name": "stdout",
     "output_type": "stream",
     "text": [
      "Epoch 129/150\n",
      "3/3 [==============================] - 0s 16ms/step - loss: 1.3058 - acc: 0.7410 - mean_squared_error: 2.9665 - mean_absolute_error: 0.6573 - val_loss: 4.0802 - val_acc: 0.6700 - val_mean_squared_error: 0.4544 - val_mean_absolute_error: 0.3779\n",
      "Epoch 130/150\n",
      "3/3 [==============================] - 0s 17ms/step - loss: 1.3058 - acc: 0.7407 - mean_squared_error: 2.9978 - mean_absolute_error: 0.6601 - val_loss: 4.0650 - val_acc: 0.6690 - val_mean_squared_error: 0.4558 - val_mean_absolute_error: 0.3783\n",
      "Epoch 131/150\n",
      "3/3 [==============================] - 0s 17ms/step - loss: 1.3057 - acc: 0.7403 - mean_squared_error: 3.0260 - mean_absolute_error: 0.6623 - val_loss: 4.0643 - val_acc: 0.6680 - val_mean_squared_error: 0.4574 - val_mean_absolute_error: 0.3787\n",
      "Epoch 132/150\n",
      "3/3 [==============================] - 0s 16ms/step - loss: 1.3024 - acc: 0.7400 - mean_squared_error: 3.0551 - mean_absolute_error: 0.6645 - val_loss: 4.0406 - val_acc: 0.6690 - val_mean_squared_error: 0.4605 - val_mean_absolute_error: 0.3803\n",
      "Epoch 133/150\n",
      "3/3 [==============================] - 0s 16ms/step - loss: 1.3000 - acc: 0.7407 - mean_squared_error: 3.0803 - mean_absolute_error: 0.6674 - val_loss: 4.0464 - val_acc: 0.6670 - val_mean_squared_error: 0.4655 - val_mean_absolute_error: 0.3825\n",
      "Epoch 134/150\n",
      "3/3 [==============================] - 0s 18ms/step - loss: 1.3002 - acc: 0.7413 - mean_squared_error: 3.1152 - mean_absolute_error: 0.6710 - val_loss: 4.0466 - val_acc: 0.6660 - val_mean_squared_error: 0.4714 - val_mean_absolute_error: 0.3849\n",
      "Epoch 135/150\n",
      "3/3 [==============================] - 0s 19ms/step - loss: 1.2953 - acc: 0.7407 - mean_squared_error: 3.1593 - mean_absolute_error: 0.6751 - val_loss: 4.0593 - val_acc: 0.6660 - val_mean_squared_error: 0.4778 - val_mean_absolute_error: 0.3876\n",
      "Epoch 136/150\n",
      "3/3 [==============================] - 0s 20ms/step - loss: 1.2949 - acc: 0.7403 - mean_squared_error: 3.2051 - mean_absolute_error: 0.6790 - val_loss: 4.0648 - val_acc: 0.6660 - val_mean_squared_error: 0.4843 - val_mean_absolute_error: 0.3901\n",
      "Epoch 137/150\n",
      "3/3 [==============================] - 0s 19ms/step - loss: 1.2948 - acc: 0.7393 - mean_squared_error: 3.2583 - mean_absolute_error: 0.6844 - val_loss: 4.1008 - val_acc: 0.6670 - val_mean_squared_error: 0.4907 - val_mean_absolute_error: 0.3923\n",
      "Epoch 138/150\n",
      "3/3 [==============================] - 0s 20ms/step - loss: 1.2947 - acc: 0.7397 - mean_squared_error: 3.3150 - mean_absolute_error: 0.6905 - val_loss: 4.1283 - val_acc: 0.6670 - val_mean_squared_error: 0.4970 - val_mean_absolute_error: 0.3945\n",
      "Epoch 139/150\n",
      "3/3 [==============================] - 0s 17ms/step - loss: 1.2910 - acc: 0.7393 - mean_squared_error: 3.3721 - mean_absolute_error: 0.6963 - val_loss: 4.1475 - val_acc: 0.6660 - val_mean_squared_error: 0.5021 - val_mean_absolute_error: 0.3960\n",
      "Epoch 140/150\n",
      "3/3 [==============================] - 0s 17ms/step - loss: 1.2893 - acc: 0.7400 - mean_squared_error: 3.4255 - mean_absolute_error: 0.7011 - val_loss: 4.1160 - val_acc: 0.6660 - val_mean_squared_error: 0.5076 - val_mean_absolute_error: 0.3975\n",
      "Epoch 141/150\n",
      "3/3 [==============================] - 0s 19ms/step - loss: 1.2853 - acc: 0.7400 - mean_squared_error: 3.4799 - mean_absolute_error: 0.7061 - val_loss: 4.1404 - val_acc: 0.6630 - val_mean_squared_error: 0.5133 - val_mean_absolute_error: 0.3994\n",
      "Epoch 142/150\n",
      "3/3 [==============================] - 0s 17ms/step - loss: 1.2839 - acc: 0.7403 - mean_squared_error: 3.5361 - mean_absolute_error: 0.7107 - val_loss: 4.1798 - val_acc: 0.6580 - val_mean_squared_error: 0.5193 - val_mean_absolute_error: 0.4016\n",
      "Epoch 143/150\n",
      "3/3 [==============================] - 0s 19ms/step - loss: 1.2789 - acc: 0.7413 - mean_squared_error: 3.5942 - mean_absolute_error: 0.7155 - val_loss: 4.1697 - val_acc: 0.6590 - val_mean_squared_error: 0.5252 - val_mean_absolute_error: 0.4039\n",
      "Epoch 144/150\n",
      "3/3 [==============================] - 0s 18ms/step - loss: 1.2786 - acc: 0.7417 - mean_squared_error: 3.6546 - mean_absolute_error: 0.7205 - val_loss: 4.1751 - val_acc: 0.6580 - val_mean_squared_error: 0.5310 - val_mean_absolute_error: 0.4062\n",
      "Epoch 145/150\n",
      "3/3 [==============================] - 0s 17ms/step - loss: 1.2787 - acc: 0.7410 - mean_squared_error: 3.7125 - mean_absolute_error: 0.7258 - val_loss: 4.2019 - val_acc: 0.6580 - val_mean_squared_error: 0.5367 - val_mean_absolute_error: 0.4085\n",
      "Epoch 146/150\n",
      "3/3 [==============================] - 0s 19ms/step - loss: 1.2786 - acc: 0.7400 - mean_squared_error: 3.7665 - mean_absolute_error: 0.7309 - val_loss: 4.2338 - val_acc: 0.6590 - val_mean_squared_error: 0.5427 - val_mean_absolute_error: 0.4110\n",
      "Epoch 147/150\n",
      "3/3 [==============================] - 0s 18ms/step - loss: 1.2786 - acc: 0.7403 - mean_squared_error: 3.8181 - mean_absolute_error: 0.7358 - val_loss: 4.2617 - val_acc: 0.6580 - val_mean_squared_error: 0.5478 - val_mean_absolute_error: 0.4128\n",
      "Epoch 148/150\n",
      "3/3 [==============================] - 0s 17ms/step - loss: 1.2786 - acc: 0.7397 - mean_squared_error: 3.8685 - mean_absolute_error: 0.7402 - val_loss: 4.2818 - val_acc: 0.6590 - val_mean_squared_error: 0.5526 - val_mean_absolute_error: 0.4147\n",
      "Epoch 149/150\n",
      "3/3 [==============================] - 0s 16ms/step - loss: 1.2786 - acc: 0.7393 - mean_squared_error: 3.9183 - mean_absolute_error: 0.7447 - val_loss: 4.3144 - val_acc: 0.6550 - val_mean_squared_error: 0.5573 - val_mean_absolute_error: 0.4165\n",
      "Epoch 150/150\n",
      "3/3 [==============================] - 0s 18ms/step - loss: 1.2747 - acc: 0.7387 - mean_squared_error: 3.9666 - mean_absolute_error: 0.7492 - val_loss: 4.3212 - val_acc: 0.6550 - val_mean_squared_error: 0.5623 - val_mean_absolute_error: 0.4184\n"
     ]
    }
   ],
   "source": [
    "m = 4\n",
    "# xx = np.stack([x_train[0] for _ in range(m)])\n",
    "# yy = xx\n",
    "# history = auto.fit(x_train, y_train, epochs=epochs, batch_size=batch_size, callbacks=[TensorBoard(log_dir=config.tmp_log_dir)])\n",
    "history = auto.fit(x_train[:m], y_train[:m], epochs=epochs, batch_size=batch_size,\n",
    "          validation_split=1/6, callbacks=[TensorBoard(log_dir=config.tmp_log_dir)])"
   ]
  },
  {
   "cell_type": "code",
   "execution_count": 45,
   "metadata": {},
   "outputs": [
    {
     "data": {
      "text/plain": [
       "(0, 4.473561650514602)"
      ]
     },
     "execution_count": 45,
     "metadata": {},
     "output_type": "execute_result"
    },
    {
     "data": {
      "image/png": "[encoded data removed]",
      "text/plain": [
       "<matplotlib.figure.Figure at 0x12010e470>"
      ]
     },
     "metadata": {},
     "output_type": "display_data"
    }
   ],
   "source": [
    "plt.plot(history.history['loss'])\n",
    "plt.plot(history.history['val_loss'])\n",
    "plt.ylim(ymin=0)"
   ]
  },
  {
   "cell_type": "code",
   "execution_count": 46,
   "metadata": {},
   "outputs": [
    {
     "data": {
      "text/plain": [
       "(0, 1)"
      ]
     },
     "execution_count": 46,
     "metadata": {},
     "output_type": "execute_result"
    },
    {
     "data": {
      "image/png": "[encoded data removed]",
      "text/plain": [
       "<matplotlib.figure.Figure at 0x1200f0eb8>"
      ]
     },
     "metadata": {},
     "output_type": "display_data"
    }
   ],
   "source": [
    "plt.plot(history.history['acc'])\n",
    "plt.plot(history.history['val_acc'])\n",
    "plt.ylim(ymin=0, ymax=1)"
   ]
  },
  {
   "cell_type": "code",
   "execution_count": null,
   "metadata": {},
   "outputs": [],
   "source": []
  },
  {
   "cell_type": "code",
   "execution_count": 32,
   "metadata": {},
   "outputs": [
    {
     "name": "stdout",
     "output_type": "stream",
     "text": [
      "WARNING type not == 0\n",
      "WARNING type not == 0\n"
     ]
    }
   ],
   "source": [
    "mid1 = g.render_midi(context, f=2)\n",
    "mid2 = g.render_midi(context, f=3)\n",
    "x_test = np.stack([midi.encode(context, m) for m in [mid1,mid2]])"
   ]
  },
  {
   "cell_type": "code",
   "execution_count": 33,
   "metadata": {},
   "outputs": [],
   "source": [
    "# maxx = np.maximum(latent[0],latent[1])\n",
    "# maxx.shape"
   ]
  },
  {
   "cell_type": "code",
   "execution_count": 34,
   "metadata": {},
   "outputs": [
    {
     "data": {
      "text/plain": [
       "(1, 500, 2)"
      ]
     },
     "execution_count": 34,
     "metadata": {},
     "output_type": "execute_result"
    }
   ],
   "source": [
    "# arrays = decoder.predict(np.stack([latent[1]]))\n",
    "arrays = auto.predict(x_train[:1])\n",
    "arrays.shape"
   ]
  },
  {
   "cell_type": "code",
   "execution_count": 35,
   "metadata": {},
   "outputs": [
    {
     "data": {
      "text/plain": [
       "6.9216356"
      ]
     },
     "execution_count": 35,
     "metadata": {},
     "output_type": "execute_result"
    }
   ],
   "source": [
    "arrays.max()"
   ]
  },
  {
   "cell_type": "code",
   "execution_count": 47,
   "metadata": {},
   "outputs": [
    {
     "data": {
      "text/plain": [
       "(0, 1)"
      ]
     },
     "execution_count": 47,
     "metadata": {},
     "output_type": "execute_result"
    },
    {
     "data": {
      "image/png": "[encoded data removed]",
      "text/plain": [
       "<matplotlib.figure.Figure at 0x11a765438>"
      ]
     },
     "metadata": {},
     "output_type": "display_data"
    }
   ],
   "source": [
    "n1 = 30\n",
    "plt.plot(arrays[0, :n1, 0:].clip(0,1), linewidth=2)\n",
    "plt.plot([0.5] * n1) # midi.MIDI_NOISE_FLOOR\n",
    "plt.ylim(ymin=0, ymax=1)"
   ]
  },
  {
   "cell_type": "code",
   "execution_count": 48,
   "metadata": {},
   "outputs": [
    {
     "data": {
      "text/plain": [
       "(0, 1)"
      ]
     },
     "execution_count": 48,
     "metadata": {},
     "output_type": "execute_result"
    },
    {
     "data": {
      "image/png": "[encoded data removed]",
      "text/plain": [
       "<matplotlib.figure.Figure at 0x12020b2b0>"
      ]
     },
     "metadata": {},
     "output_type": "display_data"
    }
   ],
   "source": [
    "plt.plot(x_train[0, :n1, 0:])\n",
    "plt.plot([0.5] * n1) # midi.MIDI_NOISE_FLOOR\n",
    "plt.ylim(ymin=0, ymax=1)"
   ]
  },
  {
   "cell_type": "code",
   "execution_count": 38,
   "metadata": {},
   "outputs": [
    {
     "name": "stdout",
     "output_type": "stream",
     "text": [
      "\u001b[92m [INFO] : \u001b[0m\n",
      " |  len, max_t\n",
      " |  9.943749999999989\n",
      " |  10.0\n"
     ]
    }
   ],
   "source": [
    "mid = midi.decode_track(context, arrays[0])"
   ]
  },
  {
   "cell_type": "code",
   "execution_count": 39,
   "metadata": {},
   "outputs": [],
   "source": [
    "dn = config.export_dir\n",
    "io.export_midifile(mid1, dn + 'mid1.mid')\n",
    "# io.export_midifile(mid2, dn + 'mid2.mid')\n",
    "io.export_midifile(mid, dn + 'mid_generated.mid')"
   ]
  },
  {
   "cell_type": "code",
   "execution_count": 40,
   "metadata": {},
   "outputs": [
    {
     "data": {
      "text/plain": [
       "<midi file None type 1, 1 tracks, 370 messages>"
      ]
     },
     "execution_count": 40,
     "metadata": {},
     "output_type": "execute_result"
    }
   ],
   "source": [
    "mid"
   ]
  },
  {
   "cell_type": "code",
   "execution_count": 25,
   "metadata": {},
   "outputs": [
    {
     "data": {
      "text/plain": [
       "<midi file None type 1, 1 tracks, 374 messages>"
      ]
     },
     "execution_count": 25,
     "metadata": {},
     "output_type": "execute_result"
    }
   ],
   "source": [
    "mid"
   ]
  },
  {
   "cell_type": "code",
   "execution_count": null,
   "metadata": {},
   "outputs": [],
   "source": []
  },
  {
   "cell_type": "code",
   "execution_count": null,
   "metadata": {},
   "outputs": [],
   "source": []
  },
  {
   "cell_type": "code",
   "execution_count": null,
   "metadata": {},
   "outputs": [],
   "source": []
  }
 ],
 "metadata": {
  "kernelspec": {
   "display_name": "Python 3",
   "language": "python",
   "name": "python3"
  },
  "language_info": {
   "codemirror_mode": {
    "name": "ipython",
    "version": 3
   },
   "file_extension": ".py",
   "mimetype": "text/x-python",
   "name": "python",
   "nbconvert_exporter": "python",
   "pygments_lexer": "ipython3",
   "version": "3.6.4"
  }
 },
 "nbformat": 4,
 "nbformat_minor": 2
}
