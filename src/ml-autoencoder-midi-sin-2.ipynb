{
 "cells": [
  {
   "cell_type": "code",
   "execution_count": 1,
   "metadata": {},
   "outputs": [],
   "source": [
    "import config\n",
    "import os, numpy as np, pandas, sklearn\n",
    "import mido\n",
    "import matplotlib.pyplot as plt\n",
    "%matplotlib inline"
   ]
  },
  {
   "cell_type": "code",
   "execution_count": 2,
   "metadata": {},
   "outputs": [
    {
     "name": "stderr",
     "output_type": "stream",
     "text": [
      "/Library/Frameworks/Python.framework/Versions/3.6/lib/python3.6/site-packages/h5py/__init__.py:36: FutureWarning: Conversion of the second argument of issubdtype from `float` to `np.floating` is deprecated. In future, it will be treated as `np.float64 == np.dtype(float).type`.\n",
      "  from ._conv import register_converters as _register_converters\n",
      "Using TensorFlow backend.\n"
     ]
    }
   ],
   "source": [
    "## NN libs\n",
    "from sklearn.decomposition import PCA\n",
    "from sklearn import preprocessing\n",
    "from sklearn.preprocessing import RobustScaler\n",
    "import keras\n",
    "from keras import regularizers\n",
    "from keras.utils import to_categorical\n",
    "from keras.models import Sequential\n",
    "from keras.optimizers import SGD, Adam\n",
    "from keras.layers import Input, Dense, Activation, Conv1D, Conv2D, Dropout, Flatten\n",
    "from keras.layers import Conv2DTranspose, Reshape, MaxPooling2D, UpSampling2D, UpSampling1D, MaxPooling1D\n",
    "from keras.layers import LocallyConnected1D, LocallyConnected2D\n",
    "from keras.layers import Input, LSTM, RepeatVector\n",
    "from keras.models import Model\n",
    "from keras.callbacks import TensorBoard"
   ]
  },
  {
   "cell_type": "code",
   "execution_count": 3,
   "metadata": {},
   "outputs": [
    {
     "name": "stdout",
     "output_type": "stream",
     "text": [
      " Context :: namedtuple(\n",
      "[ max_t = float\n",
      ", dt = float\n",
      ", n_instances = int\n",
      ", note_length = int\n",
      ", bpm = float\n",
      ", tempo = float\n",
      ", ticks_per_beat = int\n",
      "]\n",
      "\n"
     ]
    }
   ],
   "source": [
    "# local libs\n",
    "import config, models, functions\n",
    "from data import data, midi, midi_generators as g\n",
    "from utils import io, models_io"
   ]
  },
  {
   "cell_type": "code",
   "execution_count": 4,
   "metadata": {
    "scrolled": true
   },
   "outputs": [
    {
     "name": "stdout",
     "output_type": "stream",
     "text": [
      "Setting up params\n",
      "\n",
      "max min f 25.0 0.1\n",
      " >> Context(max_t=10.0, dt=0.02, n_instances=500, note_length=0.03, bpm=120.0, tempo=500000, ticks_per_beat=480)\n"
     ]
    }
   ],
   "source": [
    "context = data.init()"
   ]
  },
  {
   "cell_type": "code",
   "execution_count": 5,
   "metadata": {},
   "outputs": [],
   "source": [
    "# fn = (config.dataset_dir + '4-floor-120bpm.mid')\n",
    "# mid = io.import_midifile(fn)"
   ]
  },
  {
   "cell_type": "markdown",
   "metadata": {},
   "source": [
    "## Setup a generator\n",
    "\n",
    "1. What is the least amount of 'hidden' nodes needed to learn a straight rythm (e.g. 8th notes with different frequencies)\n",
    "2. Can we create a model of a generic function sin(2 pi f t + phase)\n",
    "    - using x: t -> y: sin(2p t)\n",
    "    - using x: [f, t, phase] -> y: sin(2p f t + phase)\n",
    "    - using x: sin([t1, t2, t3) -> y: [f, t, phase]\n",
    "        - such a model should be able to learn complex patterns, such as sin(f1+p1) + sin(f2+p2) + sin(f3+p3)"
   ]
  },
  {
   "cell_type": "code",
   "execution_count": 6,
   "metadata": {
    "scrolled": true
   },
   "outputs": [
    {
     "name": "stdout",
     "output_type": "stream",
     "text": [
      "WARNING type not == 0\n",
      "\u001b[91m [DEBUG] > \u001b[0m\n",
      " |>  to_array: msg.time > max_t; t, n\n",
      " |>  10.006249999999977\n",
      " |>  500\n",
      "WARNING type not == 0\n",
      "WARNING type not == 0\n",
      "\u001b[91m [DEBUG] > \u001b[0m\n",
      " |>  to_array: msg.time > max_t; t, n\n",
      " |>  9.999999999999998\n",
      " |>  500\n",
      "WARNING type not == 0\n",
      "WARNING type not == 0\n",
      "WARNING type not == 0\n",
      "\u001b[91m [DEBUG] > \u001b[0m\n",
      " |>  to_array: msg.time > max_t; t, n\n",
      " |>  10.00624999999996\n",
      " |>  500\n",
      "WARNING type not == 0\n",
      "WARNING type not == 0\n",
      "\u001b[91m [DEBUG] > \u001b[0m\n",
      " |>  to_array: msg.time > max_t; t, n\n",
      " |>  9.996875000000012\n",
      " |>  500\n",
      "WARNING type not == 0\n",
      "WARNING type not == 0\n",
      "\u001b[91m [DEBUG] > \u001b[0m\n",
      " |>  to_array: msg.time > max_t; t, n\n",
      " |>  10.016666666666653\n",
      " |>  500\n",
      "WARNING type not == 0\n",
      "WARNING type not == 0\n",
      "WARNING type not == 0\n",
      "WARNING type not == 0\n",
      "WARNING type not == 0\n",
      "WARNING type not == 0\n",
      "WARNING type not == 0\n",
      "WARNING type not == 0\n",
      "WARNING type not == 0\n",
      "WARNING type not == 0\n",
      "WARNING type not == 0\n",
      "\u001b[91m [DEBUG] > \u001b[0m\n",
      " |>  to_array: msg.time > max_t; t, n\n",
      " |>  9.999999999999982\n",
      " |>  500\n",
      "WARNING type not == 0\n",
      "\u001b[91m [DEBUG] > \u001b[0m\n",
      " |>  to_array: msg.time > max_t; t, n\n",
      " |>  10.019791666666658\n",
      " |>  500\n",
      "WARNING type not == 0\n",
      "WARNING type not == 0\n",
      "WARNING type not == 0\n",
      "\u001b[91m [DEBUG] > \u001b[0m\n",
      " |>  to_array: msg.time > max_t; t, n\n",
      " |>  9.998958333333322\n",
      " |>  500\n",
      "WARNING type not == 0\n",
      "\u001b[91m [DEBUG] > \u001b[0m\n",
      " |>  to_array: msg.time > max_t; t, n\n",
      " |>  10.000000000000004\n",
      " |>  500\n",
      "WARNING type not == 0\n",
      "WARNING type not == 0\n",
      "WARNING type not == 0\n",
      "WARNING type not == 0\n",
      "WARNING type not == 0\n",
      "WARNING type not == 0\n",
      "\u001b[91m [DEBUG] > \u001b[0m\n",
      " |>  to_array: msg.time > max_t; t, n\n",
      " |>  10.000000000000004\n",
      " |>  500\n",
      "WARNING type not == 0\n",
      "WARNING type not == 0\n",
      "\u001b[91m [DEBUG] > \u001b[0m\n",
      " |>  to_array: msg.time > max_t; t, n\n",
      " |>  9.996874999999976\n",
      " |>  500\n",
      "\u001b[91m [DEBUG] > \u001b[0m\n",
      " |>  old current\n",
      " |>  0.09518875554867044\n",
      " |>  0.09518875554867046\n",
      "WARNING type not == 0\n",
      "WARNING type not == 0\n",
      "WARNING type not == 0\n",
      "WARNING type not == 0\n",
      "WARNING type not == 0\n",
      "\u001b[91m [DEBUG] > \u001b[0m\n",
      " |>  to_array: msg.time > max_t; t, n\n",
      " |>  10.002083333333305\n",
      " |>  500\n",
      "WARNING type not == 0\n",
      "WARNING type not == 0\n",
      "WARNING type not == 0\n",
      "WARNING type not == 0\n",
      "WARNING type not == 0\n",
      "WARNING type not == 0\n",
      "WARNING type not == 0\n",
      "\u001b[91m [DEBUG] > \u001b[0m\n",
      " |>  to_array: msg.time > max_t; t, n\n",
      " |>  10.001041666666643\n",
      " |>  500\n",
      "WARNING type not == 0\n",
      "WARNING type not == 0\n",
      "WARNING type not == 0\n",
      "\u001b[91m [DEBUG] > \u001b[0m\n",
      " |>  to_array: msg.time > max_t; t, n\n",
      " |>  9.995833333333328\n",
      " |>  500\n",
      "WARNING type not == 0\n",
      "WARNING type not == 0\n",
      "WARNING type not == 0\n",
      "WARNING type not == 0\n",
      "WARNING type not == 0\n",
      "WARNING type not == 0\n",
      "WARNING type not == 0\n",
      "WARNING type not == 0\n",
      "\u001b[91m [DEBUG] > \u001b[0m\n",
      " |>  to_array: msg.time > max_t; t, n\n",
      " |>  9.996874999999985\n",
      " |>  500\n",
      "WARNING type not == 0\n",
      "\u001b[91m [DEBUG] > \u001b[0m\n",
      " |>  to_array: msg.time > max_t; t, n\n",
      " |>  10.01979166666667\n",
      " |>  500\n",
      "WARNING type not == 0\n",
      "WARNING type not == 0\n",
      "WARNING type not == 0\n",
      "WARNING type not == 0\n",
      "WARNING type not == 0\n",
      "WARNING type not == 0\n",
      "\u001b[91m [DEBUG] > \u001b[0m\n",
      " |>  to_array: msg.time > max_t; t, n\n",
      " |>  10.012500000000003\n",
      " |>  500\n",
      "WARNING type not == 0\n",
      "WARNING type not == 0\n",
      "WARNING type not == 0\n",
      "\u001b[91m [DEBUG] > \u001b[0m\n",
      " |>  to_array: msg.time > max_t; t, n\n",
      " |>  10.003124999999981\n",
      " |>  500\n",
      "WARNING type not == 0\n",
      "\u001b[91m [DEBUG] > \u001b[0m\n",
      " |>  to_array: msg.time > max_t; t, n\n",
      " |>  10.009374999999995\n",
      " |>  500\n",
      "WARNING type not == 0\n",
      "WARNING type not == 0\n",
      "WARNING type not == 0\n",
      "WARNING type not == 0\n",
      "WARNING type not == 0\n",
      "WARNING type not == 0\n",
      "\u001b[91m [DEBUG] > \u001b[0m\n",
      " |>  to_array: msg.time > max_t; t, n\n",
      " |>  9.990624999999993\n",
      " |>  500\n",
      "WARNING type not == 0\n",
      "\u001b[91m [DEBUG] > \u001b[0m\n",
      " |>  to_array: msg.time > max_t; t, n\n",
      " |>  10.009374999999972\n",
      " |>  500\n",
      "WARNING type not == 0\n",
      "WARNING type not == 0\n",
      "\u001b[91m [DEBUG] > \u001b[0m\n",
      " |>  to_array: msg.time > max_t; t, n\n",
      " |>  10.006249999999971\n",
      " |>  500\n",
      "WARNING type not == 0\n",
      "WARNING type not == 0\n",
      "WARNING type not == 0\n",
      "\u001b[91m [DEBUG] > \u001b[0m\n",
      " |>  to_array: msg.time > max_t; t, n\n",
      " |>  10.020833333333323\n",
      " |>  500\n",
      "WARNING type not == 0\n",
      "WARNING type not == 0\n",
      "WARNING type not == 0\n",
      "WARNING type not == 0\n",
      "WARNING type not == 0\n",
      "WARNING type not == 0\n",
      "WARNING type not == 0\n",
      "\u001b[91m [DEBUG] > \u001b[0m\n",
      " |>  to_array: msg.time > max_t; t, n\n",
      " |>  9.992708333333333\n",
      " |>  500\n",
      "WARNING type not == 0\n",
      "WARNING type not == 0\n",
      "WARNING type not == 0\n",
      "\u001b[91m [DEBUG] > \u001b[0m\n",
      " |>  to_array: msg.time > max_t; t, n\n",
      " |>  9.991666666666665\n",
      " |>  500\n",
      "WARNING type not == 0\n",
      "WARNING type not == 0\n",
      "\u001b[91m [DEBUG] > \u001b[0m\n",
      " |>  to_array: msg.time > max_t; t, n\n",
      " |>  9.992708333333315\n",
      " |>  500\n",
      "WARNING type not == 0\n",
      "WARNING type not == 0\n",
      "\u001b[91m [DEBUG] > \u001b[0m\n",
      " |>  to_array: msg.time > max_t; t, n\n",
      " |>  10.002083333333323\n",
      " |>  500\n",
      "WARNING type not == 0\n",
      "WARNING type not == 0\n",
      "WARNING type not == 0\n",
      "WARNING type not == 0\n",
      "WARNING type not == 0\n",
      "WARNING type not == 0\n",
      "\u001b[91m [DEBUG] > \u001b[0m\n",
      " |>  to_array: msg.time > max_t; t, n\n",
      " |>  10.02499999999997\n",
      " |>  500\n"
     ]
    }
   ],
   "source": [
    "n = 100\n",
    "max_f = 12\n",
    "min_f = 10\n",
    "x_train = g.gen_data(context, n, max_f=max_f, min_f=min_f)\n",
    "# x_train = np.zeros([10,100,127])\n",
    "y_train = x_train"
   ]
  },
  {
   "cell_type": "code",
   "execution_count": 7,
   "metadata": {},
   "outputs": [
    {
     "data": {
      "text/plain": [
       "[<matplotlib.lines.Line2D at 0x117739b38>,\n",
       " <matplotlib.lines.Line2D at 0x117739d30>,\n",
       " <matplotlib.lines.Line2D at 0x117739e80>]"
      ]
     },
     "execution_count": 7,
     "metadata": {},
     "output_type": "execute_result"
    },
    {
     "data": {
      "image/png": "[encoded data removed]",
      "text/plain": [
       "<matplotlib.figure.Figure at 0x117637668>"
      ]
     },
     "metadata": {},
     "output_type": "display_data"
    }
   ],
   "source": [
    "plt.plot(x_train[0,:10,0:3])"
   ]
  },
  {
   "cell_type": "code",
   "execution_count": 8,
   "metadata": {},
   "outputs": [
    {
     "data": {
      "text/plain": [
       "(100, 500, 5)"
      ]
     },
     "execution_count": 8,
     "metadata": {},
     "output_type": "execute_result"
    }
   ],
   "source": [
    "# [sum(x) for x in x_train]\n",
    "x_train.shape"
   ]
  },
  {
   "cell_type": "code",
   "execution_count": 9,
   "metadata": {},
   "outputs": [
    {
     "data": {
      "text/plain": [
       "(100, 500, 5)"
      ]
     },
     "execution_count": 9,
     "metadata": {},
     "output_type": "execute_result"
    }
   ],
   "source": [
    "y_train = x_train\n",
    "n_samples = x_train[0]\n",
    "input_shape = x_train.shape[1:] # shape of a single sample\n",
    "output_shape = y_train.shape[1:]\n",
    "# output_length = y_train.shape[1]\n",
    "# output_length = (y_train[0]).shape[0] # = length of an individual label\n",
    "hidden_layer_length = 100\n",
    "x_train.shape"
   ]
  },
  {
   "cell_type": "code",
   "execution_count": 10,
   "metadata": {
    "scrolled": false
   },
   "outputs": [
    {
     "name": "stdout",
     "output_type": "stream",
     "text": [
      "_________________________________________________________________\n",
      "Layer (type)                 Output Shape              Param #   \n",
      "=================================================================\n",
      "input_2 (InputLayer)         (None, 500, 5)            0         \n",
      "_________________________________________________________________\n",
      "flatten_1 (Flatten)          (None, 2500)              0         \n",
      "_________________________________________________________________\n",
      "dense_1 (Dense)              (None, 200)               500200    \n",
      "_________________________________________________________________\n",
      "dropout_1 (Dropout)          (None, 200)               0         \n",
      "_________________________________________________________________\n",
      "dense_2 (Dense)              (None, 200)               40200     \n",
      "_________________________________________________________________\n",
      "dense_3 (Dense)              (None, 100)               20100     \n",
      "_________________________________________________________________\n",
      "dense_4 (Dense)              (None, 100)               10100     \n",
      "_________________________________________________________________\n",
      "dropout_2 (Dropout)          (None, 100)               0         \n",
      "=================================================================\n",
      "Total params: 570,600\n",
      "Trainable params: 570,600\n",
      "Non-trainable params: 0\n",
      "_________________________________________________________________\n",
      "_________________________________________________________________\n",
      "Layer (type)                 Output Shape              Param #   \n",
      "=================================================================\n",
      "input_3 (InputLayer)         (None, 100)               0         \n",
      "_________________________________________________________________\n",
      "dense_5 (Dense)              (None, 2500)              252500    \n",
      "_________________________________________________________________\n",
      "dropout_3 (Dropout)          (None, 2500)              0         \n",
      "_________________________________________________________________\n",
      "dense_6 (Dense)              (None, 2500)              6252500   \n",
      "_________________________________________________________________\n",
      "dropout_4 (Dropout)          (None, 2500)              0         \n",
      "_________________________________________________________________\n",
      "dense_7 (Dense)              (None, 2500)              6252500   \n",
      "_________________________________________________________________\n",
      "reshape_1 (Reshape)          (None, 500, 5)            0         \n",
      "=================================================================\n",
      "Total params: 12,757,500\n",
      "Trainable params: 12,757,500\n",
      "Non-trainable params: 0\n",
      "_________________________________________________________________\n"
     ]
    }
   ],
   "source": [
    "# functional syntax: lambda x: lambda y: z\n",
    "def encoder(input_shape, output_length, dropout=0.10):\n",
    "    input_layer = Input(shape=input_shape)\n",
    "    x = input_layer\n",
    "    x = Flatten()(x)\n",
    "    x = Dense(output_length * 2, activation='relu')(x)    \n",
    "    x = Dropout(dropout)(x)\n",
    "    x = Dense(output_length * 2, activation='relu')(x)\n",
    "    x = Dense(output_length, activation='relu')(x)\n",
    "    x = Dense(output_length, activation='sigmoid')(x)\n",
    "    x = Dropout(dropout)(x)\n",
    "#     x = Dense(output_length, activation='relu', activity_regularizer=regularizers.l1(10e-5))(x)\n",
    "    #     model.add(Dropout(dropout))    \n",
    "    model = Model(inputs=input_layer, outputs=x)\n",
    "    return model\n",
    "\n",
    "\n",
    "def decoder(input_length, output_shape, dropout=0.10):\n",
    "    input_layer = Input(shape=(input_length,))\n",
    "    x = input_layer\n",
    "    shape = output_shape\n",
    "    # shape = (10,100) # increase n dimensions\n",
    "    \n",
    "    x = Dense(np.prod(shape), activation='relu')(x)\n",
    "    x = Dropout(dropout)(x)\n",
    "    x = Dense(np.prod(shape), activation='relu')(x)\n",
    "    x = Dropout(dropout)(x)\n",
    "    x = Dense(np.prod(shape), activation='sigmoid')(x) # 4*4*8 = 128\n",
    "    x = Reshape(shape)(x)\n",
    "#     x = UpSampling1D(10)(x)\n",
    "    # make sure the conv layer increases the amount of dimensions\n",
    "#     dims = keras.backend.int_shape(x)[1:]\n",
    "#     n_steps = output_shape[0]\n",
    "#     n_output_timesteps = output_shape[1]\n",
    "#     filters = n_output_timesteps\n",
    "#     conv_amt = 2\n",
    "#     print('__+++==', n_output_timesteps)\n",
    "#     x = Conv1D(filters, kernel_size=4, strides=2, activation='relu')(x) # 50,100\n",
    "\n",
    "    dims = keras.backend.int_shape(x)[1:]\n",
    "#     x = UpSampling1D(dims[0] * 2)(x)\n",
    "#     x = Dense(output_shape[1], activation='relu')(x)\n",
    "    #     x = LocallyConnected1D(output_shape[1], kernel_size=1, activation='relu')(x)\n",
    "    # x = Dense(output_length, activation='softmax')(x)\n",
    "    model = Model(inputs=input_layer, outputs=x)\n",
    "    #     model.add(Dropout(dropout))\n",
    "    return model\n",
    "\n",
    "\n",
    "def autoencoder(input_shape, output_shape, hidden_layer_length=10, dropout=0.10, verbose=False):\n",
    "    input_ = Input(shape=input_shape)\n",
    "    encode = encoder(input_shape, hidden_layer_length, dropout)\n",
    "    if verbose:\n",
    "        encode.summary()\n",
    "    decode = decoder(hidden_layer_length, output_shape, dropout)\n",
    "    if verbose:\n",
    "        decode.summary()\n",
    "    model = Model(input_, decode(encode(input_)))\n",
    "    return encode, decode, model\n",
    "\n",
    "dropout = 0.1\n",
    "encoder, decoder, auto = autoencoder(input_shape, output_shape, hidden_layer_length, dropout, True)"
   ]
  },
  {
   "cell_type": "code",
   "execution_count": 11,
   "metadata": {},
   "outputs": [],
   "source": [
    "metrics = ['accuracy','mse','mae']\n",
    "loss = 'binary_crossentropy'# binary_crossentropy categorical_crossentropy\n",
    "optimizer = 'adadelta'\n",
    "auto.compile(optimizer=optimizer, loss=loss, metrics=metrics)"
   ]
  },
  {
   "cell_type": "code",
   "execution_count": 12,
   "metadata": {},
   "outputs": [],
   "source": [
    "batch_size = 16\n",
    "# n epochs = n iterations over all the training data\n",
    "epochs = 50"
   ]
  },
  {
   "cell_type": "code",
   "execution_count": 13,
   "metadata": {
    "scrolled": true
   },
   "outputs": [
    {
     "name": "stdout",
     "output_type": "stream",
     "text": [
      "Train on 83 samples, validate on 17 samples\n",
      "Epoch 1/50\n",
      "83/83 [==============================] - 3s 33ms/step - loss: 0.6935 - acc: 0.5064 - mean_squared_error: 0.2502 - mean_absolute_error: 0.4998 - val_loss: 0.6906 - val_acc: 0.5386 - val_mean_squared_error: 0.2487 - val_mean_absolute_error: 0.4985\n",
      "Epoch 2/50\n",
      "83/83 [==============================] - 2s 28ms/step - loss: 0.6894 - acc: 0.5468 - mean_squared_error: 0.2481 - mean_absolute_error: 0.4977 - val_loss: 0.6866 - val_acc: 0.5745 - val_mean_squared_error: 0.2468 - val_mean_absolute_error: 0.4964\n",
      "Epoch 3/50\n",
      "83/83 [==============================] - 2s 27ms/step - loss: 0.6849 - acc: 0.5843 - mean_squared_error: 0.2459 - mean_absolute_error: 0.4953 - val_loss: 0.6817 - val_acc: 0.6086 - val_mean_squared_error: 0.2443 - val_mean_absolute_error: 0.4937\n",
      "Epoch 4/50\n",
      "83/83 [==============================] - 2s 27ms/step - loss: 0.6792 - acc: 0.6166 - mean_squared_error: 0.2431 - mean_absolute_error: 0.4922 - val_loss: 0.6750 - val_acc: 0.6392 - val_mean_squared_error: 0.2409 - val_mean_absolute_error: 0.4899\n",
      "Epoch 5/50\n",
      "83/83 [==============================] - 2s 26ms/step - loss: 0.6708 - acc: 0.6464 - mean_squared_error: 0.2389 - mean_absolute_error: 0.4874 - val_loss: 0.6647 - val_acc: 0.6700 - val_mean_squared_error: 0.2359 - val_mean_absolute_error: 0.4837\n",
      "Epoch 6/50\n",
      "83/83 [==============================] - 2s 29ms/step - loss: 0.6576 - acc: 0.6776 - mean_squared_error: 0.2324 - mean_absolute_error: 0.4792 - val_loss: 0.6489 - val_acc: 0.6976 - val_mean_squared_error: 0.2281 - val_mean_absolute_error: 0.4734\n",
      "Epoch 7/50\n",
      "83/83 [==============================] - 2s 30ms/step - loss: 0.6385 - acc: 0.7050 - mean_squared_error: 0.2230 - mean_absolute_error: 0.4662 - val_loss: 0.6257 - val_acc: 0.7213 - val_mean_squared_error: 0.2169 - val_mean_absolute_error: 0.4559\n",
      "Epoch 8/50\n",
      "83/83 [==============================] - 2s 29ms/step - loss: 0.6118 - acc: 0.7290 - mean_squared_error: 0.2103 - mean_absolute_error: 0.4448 - val_loss: 0.5978 - val_acc: 0.7374 - val_mean_squared_error: 0.2037 - val_mean_absolute_error: 0.4282\n",
      "Epoch 9/50\n",
      "83/83 [==============================] - 2s 27ms/step - loss: 0.5836 - acc: 0.7442 - mean_squared_error: 0.1972 - mean_absolute_error: 0.4147 - val_loss: 0.5817 - val_acc: 0.7425 - val_mean_squared_error: 0.1961 - val_mean_absolute_error: 0.4016\n",
      "Epoch 10/50\n",
      "83/83 [==============================] - 2s 30ms/step - loss: 0.5687 - acc: 0.7502 - mean_squared_error: 0.1903 - mean_absolute_error: 0.3900 - val_loss: 0.5759 - val_acc: 0.7447 - val_mean_squared_error: 0.1933 - val_mean_absolute_error: 0.3900\n",
      "Epoch 11/50\n",
      "83/83 [==============================] - 2s 27ms/step - loss: 0.5629 - acc: 0.7515 - mean_squared_error: 0.1878 - mean_absolute_error: 0.3802 - val_loss: 0.5740 - val_acc: 0.7449 - val_mean_squared_error: 0.1924 - val_mean_absolute_error: 0.3848\n",
      "Epoch 12/50\n",
      "83/83 [==============================] - 2s 29ms/step - loss: 0.5610 - acc: 0.7518 - mean_squared_error: 0.1870 - mean_absolute_error: 0.3780 - val_loss: 0.5743 - val_acc: 0.7449 - val_mean_squared_error: 0.1924 - val_mean_absolute_error: 0.3796\n",
      "Epoch 13/50\n",
      "83/83 [==============================] - 3s 34ms/step - loss: 0.5599 - acc: 0.7520 - mean_squared_error: 0.1865 - mean_absolute_error: 0.3734 - val_loss: 0.5740 - val_acc: 0.7449 - val_mean_squared_error: 0.1923 - val_mean_absolute_error: 0.3787\n",
      "Epoch 14/50\n",
      "83/83 [==============================] - 2s 27ms/step - loss: 0.5598 - acc: 0.7519 - mean_squared_error: 0.1865 - mean_absolute_error: 0.3729 - val_loss: 0.5722 - val_acc: 0.7449 - val_mean_squared_error: 0.1916 - val_mean_absolute_error: 0.3781\n",
      "Epoch 15/50\n",
      "83/83 [==============================] - 2s 27ms/step - loss: 0.5592 - acc: 0.7520 - mean_squared_error: 0.1862 - mean_absolute_error: 0.3723 - val_loss: 0.5709 - val_acc: 0.7449 - val_mean_squared_error: 0.1910 - val_mean_absolute_error: 0.3764\n",
      "Epoch 16/50\n",
      "83/83 [==============================] - 2s 27ms/step - loss: 0.5590 - acc: 0.7520 - mean_squared_error: 0.1862 - mean_absolute_error: 0.3724 - val_loss: 0.5708 - val_acc: 0.7449 - val_mean_squared_error: 0.1910 - val_mean_absolute_error: 0.3751\n",
      "Epoch 17/50\n",
      "83/83 [==============================] - 2s 26ms/step - loss: 0.5591 - acc: 0.7520 - mean_squared_error: 0.1862 - mean_absolute_error: 0.3715 - val_loss: 0.5707 - val_acc: 0.7449 - val_mean_squared_error: 0.1910 - val_mean_absolute_error: 0.3772\n",
      "Epoch 18/50\n",
      "83/83 [==============================] - 2s 27ms/step - loss: 0.5586 - acc: 0.7520 - mean_squared_error: 0.1860 - mean_absolute_error: 0.3714 - val_loss: 0.5716 - val_acc: 0.7449 - val_mean_squared_error: 0.1913 - val_mean_absolute_error: 0.3776\n",
      "Epoch 19/50\n",
      "83/83 [==============================] - 2s 27ms/step - loss: 0.5588 - acc: 0.7520 - mean_squared_error: 0.1861 - mean_absolute_error: 0.3727 - val_loss: 0.5719 - val_acc: 0.7449 - val_mean_squared_error: 0.1914 - val_mean_absolute_error: 0.3748\n",
      "Epoch 20/50\n",
      "83/83 [==============================] - 2s 28ms/step - loss: 0.5584 - acc: 0.7520 - mean_squared_error: 0.1859 - mean_absolute_error: 0.3711 - val_loss: 0.5707 - val_acc: 0.7449 - val_mean_squared_error: 0.1910 - val_mean_absolute_error: 0.3776\n",
      "Epoch 21/50\n",
      "83/83 [==============================] - 2s 28ms/step - loss: 0.5587 - acc: 0.7520 - mean_squared_error: 0.1860 - mean_absolute_error: 0.3720 - val_loss: 0.5719 - val_acc: 0.7449 - val_mean_squared_error: 0.1914 - val_mean_absolute_error: 0.3756\n",
      "Epoch 22/50\n",
      "83/83 [==============================] - 2s 29ms/step - loss: 0.5585 - acc: 0.7520 - mean_squared_error: 0.1860 - mean_absolute_error: 0.3706 - val_loss: 0.5725 - val_acc: 0.7449 - val_mean_squared_error: 0.1916 - val_mean_absolute_error: 0.3759\n",
      "Epoch 23/50\n",
      "83/83 [==============================] - 2s 29ms/step - loss: 0.5582 - acc: 0.7520 - mean_squared_error: 0.1858 - mean_absolute_error: 0.3706 - val_loss: 0.5723 - val_acc: 0.7449 - val_mean_squared_error: 0.1915 - val_mean_absolute_error: 0.3757\n",
      "Epoch 24/50\n",
      "83/83 [==============================] - 2s 28ms/step - loss: 0.5581 - acc: 0.7520 - mean_squared_error: 0.1858 - mean_absolute_error: 0.3701 - val_loss: 0.5725 - val_acc: 0.7449 - val_mean_squared_error: 0.1916 - val_mean_absolute_error: 0.3759\n",
      "Epoch 25/50\n",
      "83/83 [==============================] - 2s 26ms/step - loss: 0.5581 - acc: 0.7520 - mean_squared_error: 0.1858 - mean_absolute_error: 0.3698 - val_loss: 0.5718 - val_acc: 0.7449 - val_mean_squared_error: 0.1914 - val_mean_absolute_error: 0.3753\n",
      "Epoch 26/50\n",
      "83/83 [==============================] - 2s 26ms/step - loss: 0.5579 - acc: 0.7520 - mean_squared_error: 0.1857 - mean_absolute_error: 0.3702 - val_loss: 0.5717 - val_acc: 0.7449 - val_mean_squared_error: 0.1913 - val_mean_absolute_error: 0.3777\n",
      "Epoch 27/50\n",
      "83/83 [==============================] - 2s 26ms/step - loss: 0.5576 - acc: 0.7520 - mean_squared_error: 0.1856 - mean_absolute_error: 0.3715 - val_loss: 0.5727 - val_acc: 0.7449 - val_mean_squared_error: 0.1916 - val_mean_absolute_error: 0.3749\n",
      "Epoch 28/50\n",
      "83/83 [==============================] - 2s 25ms/step - loss: 0.5574 - acc: 0.7520 - mean_squared_error: 0.1856 - mean_absolute_error: 0.3703 - val_loss: 0.5733 - val_acc: 0.7449 - val_mean_squared_error: 0.1919 - val_mean_absolute_error: 0.3750\n",
      "Epoch 29/50\n",
      "83/83 [==============================] - 2s 26ms/step - loss: 0.5574 - acc: 0.7520 - mean_squared_error: 0.1856 - mean_absolute_error: 0.3687 - val_loss: 0.5729 - val_acc: 0.7449 - val_mean_squared_error: 0.1918 - val_mean_absolute_error: 0.3781\n",
      "Epoch 30/50\n",
      "83/83 [==============================] - 2s 25ms/step - loss: 0.5579 - acc: 0.7520 - mean_squared_error: 0.1857 - mean_absolute_error: 0.3715 - val_loss: 0.5720 - val_acc: 0.7449 - val_mean_squared_error: 0.1915 - val_mean_absolute_error: 0.3786\n",
      "Epoch 31/50\n",
      "83/83 [==============================] - 2s 25ms/step - loss: 0.5569 - acc: 0.7520 - mean_squared_error: 0.1854 - mean_absolute_error: 0.3718 - val_loss: 0.5721 - val_acc: 0.7449 - val_mean_squared_error: 0.1914 - val_mean_absolute_error: 0.3754\n",
      "Epoch 32/50\n",
      "83/83 [==============================] - 2s 26ms/step - loss: 0.5577 - acc: 0.7520 - mean_squared_error: 0.1857 - mean_absolute_error: 0.3711 - val_loss: 0.5720 - val_acc: 0.7449 - val_mean_squared_error: 0.1914 - val_mean_absolute_error: 0.3772\n"
     ]
    },
    {
     "name": "stdout",
     "output_type": "stream",
     "text": [
      "Epoch 33/50\n",
      "83/83 [==============================] - 2s 26ms/step - loss: 0.5574 - acc: 0.7520 - mean_squared_error: 0.1856 - mean_absolute_error: 0.3702 - val_loss: 0.5731 - val_acc: 0.7449 - val_mean_squared_error: 0.1918 - val_mean_absolute_error: 0.3767\n",
      "Epoch 34/50\n",
      "83/83 [==============================] - 2s 26ms/step - loss: 0.5573 - acc: 0.7521 - mean_squared_error: 0.1855 - mean_absolute_error: 0.3704 - val_loss: 0.5734 - val_acc: 0.7449 - val_mean_squared_error: 0.1920 - val_mean_absolute_error: 0.3784\n",
      "Epoch 35/50\n",
      "83/83 [==============================] - 2s 26ms/step - loss: 0.5573 - acc: 0.7520 - mean_squared_error: 0.1856 - mean_absolute_error: 0.3720 - val_loss: 0.5747 - val_acc: 0.7449 - val_mean_squared_error: 0.1923 - val_mean_absolute_error: 0.3741\n",
      "Epoch 36/50\n",
      "83/83 [==============================] - 2s 30ms/step - loss: 0.5567 - acc: 0.7520 - mean_squared_error: 0.1853 - mean_absolute_error: 0.3685 - val_loss: 0.5742 - val_acc: 0.7449 - val_mean_squared_error: 0.1922 - val_mean_absolute_error: 0.3754\n",
      "Epoch 37/50\n",
      "83/83 [==============================] - 2s 27ms/step - loss: 0.5566 - acc: 0.7520 - mean_squared_error: 0.1853 - mean_absolute_error: 0.3694 - val_loss: 0.5737 - val_acc: 0.7449 - val_mean_squared_error: 0.1921 - val_mean_absolute_error: 0.3777\n",
      "Epoch 38/50\n",
      "83/83 [==============================] - 2s 28ms/step - loss: 0.5570 - acc: 0.7520 - mean_squared_error: 0.1854 - mean_absolute_error: 0.3710 - val_loss: 0.5746 - val_acc: 0.7449 - val_mean_squared_error: 0.1923 - val_mean_absolute_error: 0.3754\n",
      "Epoch 39/50\n",
      "83/83 [==============================] - 2s 28ms/step - loss: 0.5567 - acc: 0.7521 - mean_squared_error: 0.1853 - mean_absolute_error: 0.3699 - val_loss: 0.5745 - val_acc: 0.7449 - val_mean_squared_error: 0.1923 - val_mean_absolute_error: 0.3757\n",
      "Epoch 40/50\n",
      "83/83 [==============================] - 2s 27ms/step - loss: 0.5564 - acc: 0.7520 - mean_squared_error: 0.1852 - mean_absolute_error: 0.3685 - val_loss: 0.5736 - val_acc: 0.7449 - val_mean_squared_error: 0.1921 - val_mean_absolute_error: 0.3796\n",
      "Epoch 41/50\n",
      "83/83 [==============================] - 2s 25ms/step - loss: 0.5562 - acc: 0.7520 - mean_squared_error: 0.1852 - mean_absolute_error: 0.3713 - val_loss: 0.5729 - val_acc: 0.7449 - val_mean_squared_error: 0.1918 - val_mean_absolute_error: 0.3786\n",
      "Epoch 42/50\n",
      "83/83 [==============================] - 2s 25ms/step - loss: 0.5561 - acc: 0.7521 - mean_squared_error: 0.1851 - mean_absolute_error: 0.3711 - val_loss: 0.5735 - val_acc: 0.7449 - val_mean_squared_error: 0.1920 - val_mean_absolute_error: 0.3756\n",
      "Epoch 43/50\n",
      "83/83 [==============================] - 2s 25ms/step - loss: 0.5561 - acc: 0.7520 - mean_squared_error: 0.1851 - mean_absolute_error: 0.3689 - val_loss: 0.5738 - val_acc: 0.7449 - val_mean_squared_error: 0.1921 - val_mean_absolute_error: 0.3782\n",
      "Epoch 44/50\n",
      "83/83 [==============================] - 2s 26ms/step - loss: 0.5559 - acc: 0.7520 - mean_squared_error: 0.1850 - mean_absolute_error: 0.3699 - val_loss: 0.5735 - val_acc: 0.7449 - val_mean_squared_error: 0.1920 - val_mean_absolute_error: 0.3797\n",
      "Epoch 45/50\n",
      "83/83 [==============================] - 2s 28ms/step - loss: 0.5560 - acc: 0.7521 - mean_squared_error: 0.1851 - mean_absolute_error: 0.3717 - val_loss: 0.5748 - val_acc: 0.7449 - val_mean_squared_error: 0.1924 - val_mean_absolute_error: 0.3750\n",
      "Epoch 46/50\n",
      "83/83 [==============================] - 3s 30ms/step - loss: 0.5556 - acc: 0.7520 - mean_squared_error: 0.1849 - mean_absolute_error: 0.3680 - val_loss: 0.5736 - val_acc: 0.7449 - val_mean_squared_error: 0.1921 - val_mean_absolute_error: 0.3781\n",
      "Epoch 47/50\n",
      "83/83 [==============================] - 2s 28ms/step - loss: 0.5559 - acc: 0.7521 - mean_squared_error: 0.1850 - mean_absolute_error: 0.3707 - val_loss: 0.5738 - val_acc: 0.7449 - val_mean_squared_error: 0.1920 - val_mean_absolute_error: 0.3739\n",
      "Epoch 48/50\n",
      "83/83 [==============================] - 2s 29ms/step - loss: 0.5556 - acc: 0.7520 - mean_squared_error: 0.1849 - mean_absolute_error: 0.3676 - val_loss: 0.5736 - val_acc: 0.7449 - val_mean_squared_error: 0.1920 - val_mean_absolute_error: 0.3751\n",
      "Epoch 49/50\n",
      "83/83 [==============================] - 2s 29ms/step - loss: 0.5559 - acc: 0.7520 - mean_squared_error: 0.1851 - mean_absolute_error: 0.3685 - val_loss: 0.5737 - val_acc: 0.7449 - val_mean_squared_error: 0.1921 - val_mean_absolute_error: 0.3762\n",
      "Epoch 50/50\n",
      "83/83 [==============================] - 2s 28ms/step - loss: 0.5557 - acc: 0.7520 - mean_squared_error: 0.1850 - mean_absolute_error: 0.3691 - val_loss: 0.5735 - val_acc: 0.7449 - val_mean_squared_error: 0.1920 - val_mean_absolute_error: 0.3765\n"
     ]
    }
   ],
   "source": [
    "# history = auto.fit(x_train, y_train, epochs=epochs, batch_size=batch_size, callbacks=[TensorBoard(log_dir=config.tmp_log_dir)])\n",
    "history = auto.fit(x_train, y_train, epochs=epochs, batch_size=batch_size,\n",
    "          validation_split=1/6, callbacks=[TensorBoard(log_dir=config.tmp_log_dir)])"
   ]
  },
  {
   "cell_type": "code",
   "execution_count": 14,
   "metadata": {},
   "outputs": [
    {
     "data": {
      "text/plain": [
       "(0, 0.7003713174038623)"
      ]
     },
     "execution_count": 14,
     "metadata": {},
     "output_type": "execute_result"
    },
    {
     "data": {
      "image/png": "[encoded data removed]",
      "text/plain": [
       "<matplotlib.figure.Figure at 0x11b15eb70>"
      ]
     },
     "metadata": {},
     "output_type": "display_data"
    }
   ],
   "source": [
    "plt.plot(history.history['loss'])\n",
    "plt.plot(history.history['val_loss'])\n",
    "plt.ylim(ymin=0)"
   ]
  },
  {
   "cell_type": "code",
   "execution_count": 15,
   "metadata": {
    "scrolled": true
   },
   "outputs": [
    {
     "data": {
      "text/plain": [
       "dict_keys(['val_loss', 'val_acc', 'val_mean_squared_error', 'val_mean_absolute_error', 'loss', 'acc', 'mean_squared_error', 'mean_absolute_error'])"
      ]
     },
     "execution_count": 15,
     "metadata": {},
     "output_type": "execute_result"
    }
   ],
   "source": [
    "history.history.keys()"
   ]
  },
  {
   "cell_type": "code",
   "execution_count": 16,
   "metadata": {},
   "outputs": [
    {
     "data": {
      "text/plain": [
       "(0, 1)"
      ]
     },
     "execution_count": 16,
     "metadata": {},
     "output_type": "execute_result"
    },
    {
     "data": {
      "image/png": "[encoded data removed]",
      "text/plain": [
       "<matplotlib.figure.Figure at 0x11b120f28>"
      ]
     },
     "metadata": {},
     "output_type": "display_data"
    }
   ],
   "source": [
    "plt.plot(history.history['acc'])\n",
    "plt.plot(history.history['val_acc'])\n",
    "plt.ylim(ymin=0, ymax=1)"
   ]
  },
  {
   "cell_type": "code",
   "execution_count": null,
   "metadata": {},
   "outputs": [],
   "source": []
  },
  {
   "cell_type": "code",
   "execution_count": 17,
   "metadata": {},
   "outputs": [
    {
     "name": "stdout",
     "output_type": "stream",
     "text": [
      "WARNING type not == 0\n",
      "WARNING type not == 0\n"
     ]
    }
   ],
   "source": [
    "mid1 = g.render_midi(context, f=2)\n",
    "mid2 = g.render_midi(context, f=3)\n",
    "x_test = np.stack([midi.encode(context, m) for m in [mid1,mid2]])"
   ]
  },
  {
   "cell_type": "code",
   "execution_count": 18,
   "metadata": {},
   "outputs": [],
   "source": [
    "# maxx = np.maximum(latent[0],latent[1])\n",
    "# maxx.shape"
   ]
  },
  {
   "cell_type": "code",
   "execution_count": 19,
   "metadata": {},
   "outputs": [
    {
     "data": {
      "text/plain": [
       "(1, 500, 5)"
      ]
     },
     "execution_count": 19,
     "metadata": {},
     "output_type": "execute_result"
    }
   ],
   "source": [
    "# arrays = decoder.predict(np.stack([latent[1]]))\n",
    "arrays = auto.predict(x_train[:1])\n",
    "arrays.shape"
   ]
  },
  {
   "cell_type": "code",
   "execution_count": 20,
   "metadata": {},
   "outputs": [
    {
     "data": {
      "text/plain": [
       "0.90600616"
      ]
     },
     "execution_count": 20,
     "metadata": {},
     "output_type": "execute_result"
    }
   ],
   "source": [
    "arrays.max()"
   ]
  },
  {
   "cell_type": "code",
   "execution_count": 30,
   "metadata": {},
   "outputs": [
    {
     "data": {
      "text/plain": [
       "(0, 1)"
      ]
     },
     "execution_count": 30,
     "metadata": {},
     "output_type": "execute_result"
    },
    {
     "data": {
      "image/png": "[encoded data removed]",
      "text/plain": [
       "<matplotlib.figure.Figure at 0x11b234780>"
      ]
     },
     "metadata": {},
     "output_type": "display_data"
    }
   ],
   "source": [
    "n1 = 30\n",
    "plt.plot(arrays[0, :n1, 0:])\n",
    "plt.plot([0.5] * n1) # midi.MIDI_NOISE_FLOOR\n",
    "plt.ylim(ymin=0, ymax=1)"
   ]
  },
  {
   "cell_type": "code",
   "execution_count": 32,
   "metadata": {},
   "outputs": [
    {
     "data": {
      "text/plain": [
       "(0, 1)"
      ]
     },
     "execution_count": 32,
     "metadata": {},
     "output_type": "execute_result"
    },
    {
     "data": {
      "image/png": "[encoded data removed]",
      "text/plain": [
       "<matplotlib.figure.Figure at 0x11b27e550>"
      ]
     },
     "metadata": {},
     "output_type": "display_data"
    }
   ],
   "source": [
    "plt.plot(x_train[0, :n1, 0:])\n",
    "plt.plot([0.5] * n1) # midi.MIDI_NOISE_FLOOR\n",
    "plt.ylim(ymin=0, ymax=1)"
   ]
  },
  {
   "cell_type": "code",
   "execution_count": 23,
   "metadata": {},
   "outputs": [
    {
     "name": "stdout",
     "output_type": "stream",
     "text": [
      "\u001b[92m [INFO] : \u001b[0m\n",
      " |  len, max_t\n",
      " |  0\n",
      " |  10.0\n"
     ]
    }
   ],
   "source": [
    "mid = midi.decode_track(context, arrays[0])"
   ]
  },
  {
   "cell_type": "code",
   "execution_count": 24,
   "metadata": {},
   "outputs": [],
   "source": [
    "dn = config.export_dir\n",
    "io.export_midifile(mid1, dn + 'mid1.mid')\n",
    "# io.export_midifile(mid2, dn + 'mid2.mid')\n",
    "io.export_midifile(mid, dn + 'mid_generated.mid')"
   ]
  },
  {
   "cell_type": "code",
   "execution_count": 25,
   "metadata": {},
   "outputs": [
    {
     "data": {
      "text/plain": [
       "<midi file None type 1, 1 tracks, 0 messages>"
      ]
     },
     "execution_count": 25,
     "metadata": {},
     "output_type": "execute_result"
    }
   ],
   "source": [
    "mid"
   ]
  },
  {
   "cell_type": "code",
   "execution_count": 26,
   "metadata": {},
   "outputs": [
    {
     "data": {
      "text/plain": [
       "<midi file None type 1, 1 tracks, 0 messages>"
      ]
     },
     "execution_count": 26,
     "metadata": {},
     "output_type": "execute_result"
    }
   ],
   "source": [
    "mid"
   ]
  },
  {
   "cell_type": "code",
   "execution_count": null,
   "metadata": {},
   "outputs": [],
   "source": []
  },
  {
   "cell_type": "code",
   "execution_count": null,
   "metadata": {},
   "outputs": [],
   "source": []
  },
  {
   "cell_type": "code",
   "execution_count": null,
   "metadata": {},
   "outputs": [],
   "source": []
  }
 ],
 "metadata": {
  "kernelspec": {
   "display_name": "Python 3",
   "language": "python",
   "name": "python3"
  },
  "language_info": {
   "codemirror_mode": {
    "name": "ipython",
    "version": 3
   },
   "file_extension": ".py",
   "mimetype": "text/x-python",
   "name": "python",
   "nbconvert_exporter": "python",
   "pygments_lexer": "ipython3",
   "version": "3.6.4"
  }
 },
 "nbformat": 4,
 "nbformat_minor": 2
}
