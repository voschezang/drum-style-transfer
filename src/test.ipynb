{
 "cells": [
  {
   "cell_type": "code",
   "execution_count": 24,
   "metadata": {},
   "outputs": [],
   "source": [
    "import mido, rtmidi, rtmidi_, os"
   ]
  },
  {
   "cell_type": "code",
   "execution_count": 4,
   "metadata": {},
   "outputs": [],
   "source": [
    "import config"
   ]
  },
  {
   "cell_type": "code",
   "execution_count": 5,
   "metadata": {},
   "outputs": [],
   "source": [
    "mid = mido.MidiFile(config.dataset_dir + 'mary.mid')"
   ]
  },
  {
   "cell_type": "code",
   "execution_count": 21,
   "metadata": {
    "scrolled": true
   },
   "outputs": [
    {
     "name": "stdout",
     "output_type": "stream",
     "text": [
      "<meta message time_signature numerator=4 denominator=4 clocks_per_click=24 notated_32nd_notes_per_beat=8 time=0>\n",
      "<meta message key_signature key='C' time=0>\n",
      "control_change channel=0 control=91 value=58 time=0\n",
      "control_change channel=0 control=10 value=69 time=0\n"
     ]
    }
   ],
   "source": [
    "messages = []\n",
    "# for msg in mid.play(): # play with rests\n",
    "for msg in mid:\n",
    "    messages.append(msg)\n",
    "    \n",
    "for msg in messages[:4]:\n",
    "    print(msg)"
   ]
  },
  {
   "cell_type": "code",
   "execution_count": 23,
   "metadata": {
    "scrolled": true
   },
   "outputs": [
    {
     "data": {
      "text/plain": [
       "<message control_change channel=0 control=10 value=69 time=0>"
      ]
     },
     "execution_count": 23,
     "metadata": {},
     "output_type": "execute_result"
    }
   ],
   "source": [
    "msg"
   ]
  },
  {
   "cell_type": "code",
   "execution_count": 53,
   "metadata": {},
   "outputs": [
    {
     "data": {
      "text/plain": [
       "'../datasets/lmd_matched/A/A/A/TRAAAZF12903CCCF6B/dfea6fd75926c571a87db789280d059d.mid'"
      ]
     },
     "execution_count": 53,
     "metadata": {},
     "output_type": "execute_result"
    }
   ],
   "source": [
    "dirname = config.dataset_dir + 'lmd_matched/A/A/A/'\n",
    "folder = dirname + os.listdir(dirname)[-1]\n",
    "filename = folder + '/' + os.listdir(folder)[-1]\n",
    "mid = mido.MidiFile(filename)\n",
    "filename"
   ]
  },
  {
   "cell_type": "code",
   "execution_count": 54,
   "metadata": {},
   "outputs": [
    {
     "data": {
      "text/plain": [
       "<midi file '../datasets/lmd_matched/A/A/A/TRAAAZF12903CCCF6B/dfea6fd75926c571a87db789280d059d.mid' type 1, 14 tracks, 11010 messages>"
      ]
     },
     "execution_count": 54,
     "metadata": {},
     "output_type": "execute_result"
    }
   ],
   "source": [
    "mid"
   ]
  },
  {
   "cell_type": "code",
   "execution_count": 55,
   "metadata": {},
   "outputs": [
    {
     "data": {
      "text/plain": [
       "'../datasets/lmd_matched/A/A/A/TRAAAZF12903CCCF6B/dfea6fd75926c571a87db789280d059d.mid'"
      ]
     },
     "execution_count": 55,
     "metadata": {},
     "output_type": "execute_result"
    }
   ],
   "source": [
    "filename"
   ]
  },
  {
   "cell_type": "code",
   "execution_count": 60,
   "metadata": {},
   "outputs": [],
   "source": [
    "for x in os.walk(config.dataset_dir + 'lmd_matched/'):\n",
    "    x = x"
   ]
  },
  {
   "cell_type": "code",
   "execution_count": 68,
   "metadata": {},
   "outputs": [
    {
     "data": {
      "text/plain": [
       "'../datasets/lmd_matched/Z/Z/Z/TRZZZYV128F92E996D / - 1b966417a9aa703873c5fa1cfe18da32.mid'"
      ]
     },
     "execution_count": 68,
     "metadata": {},
     "output_type": "execute_result"
    }
   ],
   "source": [
    "fn, _, filelist = x\n",
    "fn + ' / - ' + filelist[0]"
   ]
  },
  {
   "cell_type": "code",
   "execution_count": null,
   "metadata": {},
   "outputs": [],
   "source": []
  },
  {
   "cell_type": "code",
   "execution_count": null,
   "metadata": {},
   "outputs": [],
   "source": []
  },
  {
   "cell_type": "code",
   "execution_count": null,
   "metadata": {},
   "outputs": [],
   "source": []
  },
  {
   "cell_type": "code",
   "execution_count": null,
   "metadata": {},
   "outputs": [],
   "source": []
  },
  {
   "cell_type": "code",
   "execution_count": null,
   "metadata": {},
   "outputs": [],
   "source": []
  },
  {
   "cell_type": "code",
   "execution_count": 73,
   "metadata": {},
   "outputs": [],
   "source": [
    "dirname = config.dataset_dir + 'examples/'\n",
    "filenames = os.listdir(dirname)[:2]\n",
    "midis = []\n",
    "for fn in filenames:\n",
    "    mid = mido.MidiFile(dirname + fn)\n",
    "    midis.append(mid)"
   ]
  },
  {
   "cell_type": "code",
   "execution_count": 79,
   "metadata": {},
   "outputs": [
    {
     "name": "stdout",
     "output_type": "stream",
     "text": [
      "<meta message track_name name='01 16th Snare\\x00' time=0>\n",
      "<meta message time_signature numerator=4 denominator=4 clocks_per_click=36 notated_32nd_notes_per_beat=8 time=0>\n",
      "<meta message time_signature numerator=4 denominator=4 clocks_per_click=36 notated_32nd_notes_per_beat=8 time=0>\n",
      "note_on channel=0 note=36 velocity=104 time=0\n",
      "note_on channel=0 note=38 velocity=57 time=0\n",
      "note_off channel=0 note=38 velocity=64 time=0.08333333333333333\n",
      "note_off channel=0 note=36 velocity=64 time=0.020833333333333332\n",
      "note_on channel=0 note=38 velocity=73 time=0.010416666666666666\n",
      "note_off channel=0 note=38 velocity=64 time=0.08333333333333333\n",
      "note_on channel=0 note=38 velocity=107 time=0.041666666666666664\n",
      "note_off channel=0 note=38 velocity=64 time=0.109375\n",
      "note_on channel=0 note=38 velocity=104 time=0.020833333333333332\n",
      "note_off channel=0 note=38 velocity=64 time=0.09895833333333333\n",
      "note_on channel=0 note=38 velocity=64 time=0.020833333333333332\n",
      "note_on channel=0 note=36 velocity=103 time=0.005208333333333333\n",
      "note_on channel=0 note=44 velocity=105 time=0\n",
      "note_off channel=0 note=38 velocity=64 time=0.08854166666666666\n",
      "note_off channel=0 note=36 velocity=64 time=0.020833333333333332\n",
      "note_off channel=0 note=44 velocity=64 time=0.005208333333333333\n",
      "note_on channel=0 note=38 velocity=107 time=0.13020833333333331\n",
      "note_off channel=0 note=38 velocity=64 time=0.109375\n",
      "note_on channel=0 note=38 velocity=27 time=0.03125\n",
      "note_off channel=0 note=38 velocity=64 time=0.08333333333333333\n",
      "note_on channel=0 note=36 velocity=104 time=0.03645833333333333\n",
      "note_on channel=0 note=38 velocity=54 time=0\n",
      "note_off channel=0 note=36 velocity=64 time=0.078125\n",
      "note_off channel=0 note=38 velocity=64 time=0\n",
      "note_on channel=0 note=38 velocity=98 time=0.041666666666666664\n",
      "note_off channel=0 note=38 velocity=64 time=0.09375\n",
      "note_on channel=0 note=38 velocity=107 time=0.026041666666666664\n",
      "note_off channel=0 note=38 velocity=64 time=0.09895833333333333\n",
      "note_on channel=0 note=38 velocity=104 time=0.03125\n",
      "note_off channel=0 note=38 velocity=64 time=0.08333333333333333\n",
      "note_on channel=0 note=36 velocity=104 time=0.03645833333333333\n",
      "note_on channel=0 note=38 velocity=50 time=0\n",
      "note_on channel=0 note=44 velocity=107 time=0\n",
      "note_off channel=0 note=38 velocity=64 time=0.078125\n",
      "note_off channel=0 note=36 velocity=64 time=0.03125\n",
      "note_off channel=0 note=44 velocity=64 time=0\n",
      "note_on channel=0 note=38 velocity=74 time=0.005208333333333333\n",
      "note_off channel=0 note=38 velocity=64 time=0.08854166666666666\n",
      "note_on channel=0 note=38 velocity=107 time=0.03645833333333333\n",
      "note_on channel=0 note=36 velocity=99 time=0.010416666666666666\n",
      "note_off channel=0 note=38 velocity=64 time=0.08854166666666666\n",
      "note_off channel=0 note=36 velocity=64 time=0.026041666666666664\n",
      "note_on channel=0 note=38 velocity=34 time=0\n",
      "note_off channel=0 note=38 velocity=64 time=0.08854166666666666\n",
      "note_on channel=0 note=36 velocity=104 time=0.05208333333333333\n",
      "note_on channel=0 note=38 velocity=60 time=0\n",
      "note_off channel=0 note=36 velocity=64 time=0.09895833333333333\n",
      "note_off channel=0 note=38 velocity=64 time=0.005208333333333333\n",
      "note_on channel=0 note=38 velocity=74 time=0.026041666666666664\n",
      "note_off channel=0 note=38 velocity=64 time=0.10416666666666666\n",
      "note_on channel=0 note=38 velocity=107 time=0.015625\n",
      "note_off channel=0 note=38 velocity=64 time=0.08333333333333333\n",
      "note_on channel=0 note=38 velocity=104 time=0.046875\n",
      "note_off channel=0 note=38 velocity=64 time=0.09895833333333333\n",
      "note_on channel=0 note=36 velocity=104 time=0.020833333333333332\n",
      "note_on channel=0 note=44 velocity=107 time=0\n",
      "note_on channel=0 note=38 velocity=76 time=0.005208333333333333\n",
      "note_off channel=0 note=36 velocity=64 time=0.078125\n",
      "note_off channel=0 note=44 velocity=64 time=0\n",
      "note_off channel=0 note=38 velocity=64 time=0.020833333333333332\n",
      "note_on channel=0 note=38 velocity=107 time=0.14583333333333331\n",
      "note_off channel=0 note=38 velocity=64 time=0.08854166666666666\n",
      "note_on channel=0 note=38 velocity=34 time=0.03125\n",
      "note_off channel=0 note=38 velocity=64 time=0.08854166666666666\n",
      "note_on channel=0 note=36 velocity=103 time=0.041666666666666664\n",
      "note_on channel=0 note=38 velocity=57 time=0.005208333333333333\n",
      "note_off channel=0 note=36 velocity=64 time=0.09375\n",
      "note_off channel=0 note=38 velocity=64 time=0\n",
      "note_on channel=0 note=38 velocity=98 time=0.03125\n",
      "note_off channel=0 note=38 velocity=64 time=0.08854166666666666\n",
      "note_on channel=0 note=38 velocity=107 time=0.026041666666666664\n",
      "note_off channel=0 note=38 velocity=64 time=0.09375\n",
      "note_on channel=0 note=38 velocity=104 time=0.03125\n",
      "note_off channel=0 note=38 velocity=64 time=0.078125\n",
      "note_on channel=0 note=44 velocity=106 time=0.041666666666666664\n",
      "note_on channel=0 note=36 velocity=104 time=0.005208333333333333\n",
      "note_on channel=0 note=38 velocity=68 time=0\n",
      "note_off channel=0 note=38 velocity=64 time=0.10416666666666666\n",
      "note_off channel=0 note=44 velocity=64 time=0\n",
      "note_off channel=0 note=36 velocity=64 time=0.010416666666666666\n",
      "note_on channel=0 note=38 velocity=69 time=0.010416666666666666\n",
      "note_off channel=0 note=38 velocity=64 time=0.078125\n",
      "note_on channel=0 note=36 velocity=99 time=0.05208333333333333\n",
      "note_on channel=0 note=38 velocity=107 time=0\n",
      "note_off channel=0 note=36 velocity=64 time=0.08333333333333333\n",
      "note_off channel=0 note=38 velocity=64 time=0.005208333333333333\n",
      "note_on channel=0 note=38 velocity=34 time=0.041666666666666664\n",
      "note_off channel=0 note=38 velocity=64 time=0.078125\n",
      "note_on channel=0 note=36 velocity=104 time=0.046875\n",
      "note_on channel=0 note=38 velocity=60 time=0\n",
      "note_off channel=0 note=38 velocity=64 time=0.09375\n",
      "note_off channel=0 note=36 velocity=64 time=0.010416666666666666\n",
      "note_on channel=0 note=38 velocity=80 time=0.026041666666666664\n",
      "note_off channel=0 note=38 velocity=64 time=0.08333333333333333\n",
      "note_on channel=0 note=38 velocity=107 time=0.03125\n",
      "note_off channel=0 note=38 velocity=64 time=0.08333333333333333\n",
      "note_on channel=0 note=38 velocity=101 time=0.041666666666666664\n",
      "note_off channel=0 note=38 velocity=64 time=0.11458333333333333\n",
      "note_on channel=0 note=36 velocity=103 time=0.010416666666666666\n",
      "note_on channel=0 note=38 velocity=79 time=0\n",
      "note_on channel=0 note=44 velocity=106 time=0\n",
      "note_off channel=0 note=38 velocity=64 time=0.10416666666666666\n",
      "note_off channel=0 note=36 velocity=64 time=0.005208333333333333\n",
      "note_off channel=0 note=44 velocity=64 time=0\n",
      "note_on channel=0 note=38 velocity=107 time=0.140625\n",
      "note_off channel=0 note=38 velocity=64 time=0.08333333333333333\n",
      "note_on channel=0 note=38 velocity=33 time=0.03645833333333333\n",
      "note_off channel=0 note=38 velocity=64 time=0.08333333333333333\n",
      "note_on channel=0 note=38 velocity=54 time=0.05208333333333333\n",
      "note_on channel=0 note=36 velocity=104 time=0.005208333333333333\n",
      "note_off channel=0 note=36 velocity=64 time=0.078125\n",
      "note_off channel=0 note=38 velocity=64 time=0.015625\n",
      "note_on channel=0 note=38 velocity=92 time=0.020833333333333332\n",
      "note_off channel=0 note=38 velocity=64 time=0.10416666666666666\n",
      "note_on channel=0 note=38 velocity=107 time=0.020833333333333332\n",
      "note_off channel=0 note=38 velocity=64 time=0.09895833333333333\n",
      "note_on channel=0 note=38 velocity=101 time=0.026041666666666664\n",
      "note_off channel=0 note=38 velocity=64 time=0.09895833333333333\n",
      "note_on channel=0 note=36 velocity=104 time=0.020833333333333332\n",
      "note_on channel=0 note=38 velocity=107 time=0\n",
      "note_on channel=0 note=44 velocity=107 time=0\n",
      "note_off channel=0 note=38 velocity=64 time=0.09375\n",
      "note_off channel=0 note=36 velocity=64 time=0.015625\n",
      "note_off channel=0 note=44 velocity=64 time=0\n",
      "note_on channel=0 note=38 velocity=80 time=0.020833333333333332\n",
      "note_off channel=0 note=38 velocity=64 time=0.08333333333333333\n",
      "note_on channel=0 note=36 velocity=99 time=0.041666666666666664\n",
      "note_on channel=0 note=38 velocity=107 time=0.005208333333333333\n",
      "note_off channel=0 note=38 velocity=64 time=0.10416666666666666\n",
      "note_off channel=0 note=36 velocity=64 time=0.005208333333333333\n",
      "note_on channel=0 note=38 velocity=6 time=0.015625\n",
      "note_off channel=0 note=38 velocity=64 time=0.08854166666666666\n",
      "note_on channel=0 note=36 velocity=104 time=0.03645833333333333\n",
      "note_on channel=0 note=38 velocity=60 time=0.005208333333333333\n",
      "note_off channel=0 note=36 velocity=64 time=0.09375\n",
      "note_off channel=0 note=38 velocity=64 time=0.015625\n",
      "note_on channel=0 note=38 velocity=69 time=0.015625\n",
      "note_off channel=0 note=38 velocity=64 time=0.10416666666666666\n",
      "note_on channel=0 note=38 velocity=107 time=0.005208333333333333\n",
      "note_off channel=0 note=38 velocity=64 time=0.11458333333333333\n",
      "note_on channel=0 note=38 velocity=103 time=0.005208333333333333\n",
      "note_off channel=0 note=38 velocity=64 time=0.11458333333333333\n",
      "note_on channel=0 note=36 velocity=104 time=0.015625\n",
      "note_on channel=0 note=38 velocity=61 time=0\n",
      "note_on channel=0 note=44 velocity=107 time=0.005208333333333333\n",
      "note_off channel=0 note=36 velocity=64 time=0.07291666666666666\n",
      "note_off channel=0 note=44 velocity=64 time=0.010416666666666666\n",
      "note_off channel=0 note=38 velocity=64 time=0.005208333333333333\n",
      "note_on channel=0 note=38 velocity=27 time=0.041666666666666664\n",
      "note_off channel=0 note=38 velocity=64 time=0.11458333333333333\n",
      "note_on channel=0 note=38 velocity=107 time=0\n",
      "note_off channel=0 note=38 velocity=64 time=0.07291666666666666\n",
      "note_on channel=0 note=38 velocity=54 time=0.041666666666666664\n",
      "note_off channel=0 note=38 velocity=64 time=0.11458333333333333\n",
      "note_on channel=0 note=36 velocity=103 time=0.020833333333333332\n",
      "note_on channel=0 note=38 velocity=44 time=0.005208333333333333\n",
      "note_off channel=0 note=38 velocity=64 time=0.08854166666666666\n",
      "note_off channel=0 note=36 velocity=64 time=0.005208333333333333\n",
      "note_on channel=0 note=38 velocity=97 time=0.03645833333333333\n",
      "note_off channel=0 note=38 velocity=64 time=0.11458333333333333\n",
      "note_on channel=0 note=38 velocity=107 time=0.005208333333333333\n",
      "note_off channel=0 note=38 velocity=64 time=0.109375\n",
      "note_on channel=0 note=38 velocity=103 time=0.010416666666666666\n",
      "note_off channel=0 note=38 velocity=64 time=0.10416666666666666\n",
      "note_on channel=0 note=44 velocity=105 time=0.015625\n",
      "note_on channel=0 note=36 velocity=104 time=0.010416666666666666\n",
      "note_on channel=0 note=38 velocity=89 time=0.005208333333333333\n",
      "note_off channel=0 note=38 velocity=64 time=0.078125\n",
      "note_off channel=0 note=44 velocity=64 time=0.015625\n",
      "note_off channel=0 note=36 velocity=64 time=0.010416666666666666\n",
      "note_on channel=0 note=38 velocity=55 time=0.020833333333333332\n",
      "note_off channel=0 note=38 velocity=64 time=0.08333333333333333\n",
      "note_on channel=0 note=36 velocity=99 time=0.03645833333333333\n",
      "note_on channel=0 note=38 velocity=107 time=0\n",
      "note_off channel=0 note=36 velocity=64 time=0.08333333333333333\n",
      "note_off channel=0 note=38 velocity=64 time=0.010416666666666666\n",
      "note_on channel=0 note=38 velocity=42 time=0.041666666666666664\n",
      "note_off channel=0 note=38 velocity=64 time=0.109375\n",
      "<meta message end_of_track time=0>\n"
     ]
    }
   ],
   "source": [
    "for msg in midis[0]:\n",
    "    print(msg)"
   ]
  },
  {
   "cell_type": "code",
   "execution_count": 80,
   "metadata": {},
   "outputs": [
    {
     "data": {
      "text/plain": [
       "<meta message end_of_track time=0>"
      ]
     },
     "execution_count": 80,
     "metadata": {},
     "output_type": "execute_result"
    }
   ],
   "source": [
    "msg"
   ]
  },
  {
   "cell_type": "code",
   "execution_count": null,
   "metadata": {},
   "outputs": [],
   "source": []
  }
 ],
 "metadata": {
  "kernelspec": {
   "display_name": "Python 3",
   "language": "python",
   "name": "python3"
  },
  "language_info": {
   "codemirror_mode": {
    "name": "ipython",
    "version": 3
   },
   "file_extension": ".py",
   "mimetype": "text/x-python",
   "name": "python",
   "nbconvert_exporter": "python",
   "pygments_lexer": "ipython3",
   "version": "3.6.4"
  }
 },
 "nbformat": 4,
 "nbformat_minor": 2
}
