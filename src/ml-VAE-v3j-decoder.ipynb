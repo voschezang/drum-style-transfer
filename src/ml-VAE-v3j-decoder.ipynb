{
 "cells": [
  {
   "cell_type": "code",
   "execution_count": 1,
   "metadata": {},
   "outputs": [
    {
     "name": "stderr",
     "output_type": "stream",
     "text": [
      "/usr/local/lib/python3.6/site-packages/h5py/__init__.py:36: FutureWarning: Conversion of the second argument of issubdtype from `float` to `np.floating` is deprecated. In future, it will be treated as `np.float64 == np.dtype(float).type`.\n",
      "  from ._conv import register_converters as _register_converters\n",
      "Using TensorFlow backend.\n"
     ]
    }
   ],
   "source": [
    "from __future__ import division\n",
    "\n",
    "import collections\n",
    "import numpy as np\n",
    "import matplotlib.pyplot as plt\n",
    "from scipy.stats import norm\n",
    "\n",
    "## NN libs\n",
    "import keras\n",
    "from keras import backend as K\n",
    "from keras import regularizers\n",
    "from keras.utils import to_categorical\n",
    "from keras.optimizers import SGD, Adam\n",
    "from keras.layers import *\n",
    "from keras.preprocessing.image import ImageDataGenerator\n",
    "from keras.models import Model\n",
    "from keras.callbacks import TensorBoard"
   ]
  },
  {
   "cell_type": "code",
   "execution_count": 2,
   "metadata": {},
   "outputs": [],
   "source": [
    "import config\n",
    "import os, numpy as np, pandas, sklearn, scipy.signal as signal\n",
    "import mido\n",
    "import matplotlib.pyplot as plt\n",
    "%matplotlib inline"
   ]
  },
  {
   "cell_type": "code",
   "execution_count": 3,
   "metadata": {},
   "outputs": [],
   "source": [
    "# local libs\n",
    "import config, models, setup\n",
    "import midi\n",
    "from midi import generators as g\n",
    "from utils import io, models_io, utils, plot\n",
    "from capsule.layers import Capsule, Length\n",
    "from capsule.capsulefunctions import squash, softmax, margin_loss"
   ]
  },
  {
   "cell_type": "code",
   "execution_count": 4,
   "metadata": {},
   "outputs": [
    {
     "name": "stdout",
     "output_type": "stream",
     "text": [
      " Context :: namedtuple(\n",
      "[ max_t = float\n",
      ", dt = float\n",
      ", n_timestesp = int\n",
      ", note_length = int\n",
      ", bpm = float\n",
      ", tempo = float\n",
      ", ticks_per_beat = int\n",
      "]\n",
      "\n",
      "Setting up params\n",
      "\n",
      "max min f 10.0 0.5\n",
      " >> Context(max_t=2.0, dt=0.05, n_timesteps=40, note_length=0.03, bpm=120.0, tempo=500000, ticks_per_beat=480)\n",
      " sample length:  40.000000\n",
      " max_f: 10.000000, min_f: 0.500000\n"
     ]
    }
   ],
   "source": [
    "context = setup.init()"
   ]
  },
  {
   "cell_type": "code",
   "execution_count": 5,
   "metadata": {
    "scrolled": true
   },
   "outputs": [
    {
     "name": "stdout",
     "output_type": "stream",
     "text": [
      "\n",
      "Importing midi-data\n",
      "\n",
      "Encoding midi-data\n",
      " 10\n",
      "> -> multi-track = True MidiFile\n",
      "\u001b[92m [INFO] : \u001b[0m\n",
      " |  True\n"
     ]
    }
   ],
   "source": [
    "n = 10 * 1\n",
    "dim4 = True\n",
    "multiTrack = True\n",
    "reduce_dims = midi.ReduceDimsOptions.MIDIFILE # GLOBAL\n",
    "dn = 'drum_midi/'\n",
    "x_train, labels = setup.import_data(context, n, dim4=dim4, reduce_dims=reduce_dims, dirname=dn, multiTrack=multiTrack, r=True)"
   ]
  },
  {
   "cell_type": "code",
   "execution_count": 6,
   "metadata": {},
   "outputs": [],
   "source": [
    "# n = 1000\n",
    "# min_f = 0\n",
    "# max_f = 3\n",
    "# x_train, params = g.gen_data_complex(context, n, max_f=max_f, min_f=min_f,\n",
    "#     n_polyrythms=1,\n",
    "#     n_channels=3,\n",
    "#     d_phase=True,\n",
    "#     return_params=True,\n",
    "#     dim4=dim4,\n",
    "#     multiTrack=multiTrack)"
   ]
  },
  {
   "cell_type": "code",
   "execution_count": 7,
   "metadata": {},
   "outputs": [
    {
     "data": {
      "text/plain": [
       "(10, 40, 7, 1)"
      ]
     },
     "execution_count": 7,
     "metadata": {},
     "output_type": "execute_result"
    }
   ],
   "source": [
    "x_train.shape"
   ]
  },
  {
   "cell_type": "code",
   "execution_count": 8,
   "metadata": {},
   "outputs": [
    {
     "data": {
      "text/plain": [
       "((10, 40, 7, 1), 9)"
      ]
     },
     "execution_count": 8,
     "metadata": {},
     "output_type": "execute_result"
    }
   ],
   "source": [
    "m = int(x_train.shape[0] * 0.9)\n",
    "x_train.shape, m"
   ]
  },
  {
   "cell_type": "code",
   "execution_count": 9,
   "metadata": {},
   "outputs": [],
   "source": [
    "x_test = x_train[m:]\n",
    "x_train = x_train[:m]"
   ]
  },
  {
   "cell_type": "code",
   "execution_count": 10,
   "metadata": {},
   "outputs": [
    {
     "name": "stdout",
     "output_type": "stream",
     "text": [
      "m (40, 7)\n"
     ]
    },
    {
     "data": {
      "image/png": "[encoded data removed]",
      "text/plain": [
       "<matplotlib.figure.Figure at 0x117281f60>"
      ]
     },
     "metadata": {},
     "output_type": "display_data"
    },
    {
     "name": "stdout",
     "output_type": "stream",
     "text": [
      "m (40, 7)\n"
     ]
    },
    {
     "data": {
      "image/png": "[encoded data removed]",
      "text/plain": [
       "<matplotlib.figure.Figure at 0x117339e80>"
      ]
     },
     "metadata": {},
     "output_type": "display_data"
    },
    {
     "data": {
      "text/plain": [
       "['../datasets/drum_midi//Cha cha/cha cha 1.mid',\n",
       " '../datasets/drum_midi//Cha cha/cha cha 2.mid',\n",
       " '../datasets/drum_midi//Cha cha/cha cha 3.mid',\n",
       " \"../datasets/drum_midi//50´s Drummer MIDI Files/01 Rock'n'Roll/06 Moonglow 140BPM/05 8th Hat.mid\"]"
      ]
     },
     "execution_count": 10,
     "metadata": {},
     "output_type": "execute_result"
    }
   ],
   "source": [
    "plot.single(x_train[0, :50,:,0])\n",
    "plot.single(x_train[1, :50,:,0])\n",
    "# plot.single(x_train[2, :50,:,0])\n",
    "labels[0:4]"
   ]
  },
  {
   "cell_type": "code",
   "execution_count": 11,
   "metadata": {},
   "outputs": [
    {
     "data": {
      "text/plain": [
       "(40, 7, 1)"
      ]
     },
     "execution_count": 11,
     "metadata": {},
     "output_type": "execute_result"
    }
   ],
   "source": [
    "input_shape = x_train[0].shape\n",
    "timesteps = input_shape[0]\n",
    "notes = input_shape[1]\n",
    "input_shape"
   ]
  },
  {
   "cell_type": "code",
   "execution_count": 12,
   "metadata": {},
   "outputs": [],
   "source": [
    "latent_dim = 2\n",
    "intermediate_dim = 128\n",
    "epsilon_std = 1.0"
   ]
  },
  {
   "cell_type": "code",
   "execution_count": 13,
   "metadata": {},
   "outputs": [],
   "source": [
    "def encoder(input_shape, dropout=0.1):\n",
    "    encoder_input = Input(shape=input_shape)\n",
    "    nodes = np.prod(input_shape)\n",
    "    timesteps, notes, channels = input_shape\n",
    "    \n",
    "    # Convolution\n",
    "    h = encoder_input\n",
    "    k = (2,1)\n",
    "    s = (2,1)\n",
    "    \n",
    "    h = Conv2D(32, kernel_size=k, strides=1, activation='relu', padding='valid')(h)\n",
    "    h = Conv2D(64, kernel_size=k, strides=s, activation='relu', padding='valid')(h)\n",
    "    h = Conv2D(128, kernel_size=k, strides=s, activation='relu', padding='valid')(h)\n",
    "\n",
    "    # input per note\n",
    "    note_list = Permute([2,1,3], name='input_per_note')(h)\n",
    "    \n",
    "    rnn = SimpleRNN(128, name='rnn_per_note')\n",
    "    reshape = Reshape((128,1))\n",
    "\n",
    "    n_capsules = 10\n",
    "    capsule_dim = 6\n",
    "    n_routings=3\n",
    "    share_weights=True\n",
    "    capsule = Capsule(n_capsules, capsule_dim, n_routings, share_weights)\n",
    "\n",
    "    x = Lambda(lambda layer: capsule(reshape(rnn(layer))) )\n",
    "    h_per_note = TimeDistributed(x, name='TimeDistributed_per_note')(note_list)\n",
    "    shape = K.int_shape(h_per_note)[1:]\n",
    "    h_per_note = Reshape( [notes, np.prod(shape[1:3])] )(h_per_note)\n",
    "    h_per_note = Flatten()(h_per_note)\n",
    "\n",
    "    # 'global' input\n",
    "    h = encoder_input\n",
    "    h = Reshape(input_shape[:-1])(h)\n",
    "    h = Conv1D(32, kernel_size=2, strides=1, activation='relu', padding='valid')(h)\n",
    "    h = Conv1D(64, kernel_size=2, strides=2, activation='relu', padding='valid')(h)\n",
    "    h = Conv1D(128, kernel_size=2, strides=1, activation='relu', padding='valid')(h)\n",
    "    # old layers\n",
    "#     h = Conv2D(1, kernel_size=k, strides=1, activation='relu', padding='valid')(h)\n",
    "#     shape = K.int_shape(h)[1:]\n",
    "#     h = Reshape(shape[0:2])(h) # (reduced_timesteps, notes)\n",
    "#     h = Conv1D(32, kernel_size=2, strides=1, activation='relu', padding='valid')(h)\n",
    "    h_global = SimpleRNN(128)(h)\n",
    "    \n",
    "    h = Reshape((-1,1))(h_global) # h_global h_per_note\n",
    "#     h = Concatenate(axis=1)([h_global, h_per_note])\n",
    "\n",
    "    h = Reshape((-1,1))(h)\n",
    "    \n",
    "    n_capsules = 10\n",
    "    capsule_dim = 6\n",
    "    n_routings=3\n",
    "    share_weights=True\n",
    "    h = Capsule(n_capsules, capsule_dim, n_routings, share_weights)(h)   \n",
    "    h = Flatten()(h)\n",
    "    \n",
    "    # Z Mean, Variance\n",
    "    z_mean = Dense(latent_dim, name='z_mean')(h) # , activation='relu'\n",
    "    z_log_var = Dense(latent_dim, name='z_log_var')(h) # , activation='relu'\n",
    "        \n",
    "    encoder_output = [z_mean, z_log_var]\n",
    "    encoder_model = Model(encoder_input, encoder_output, name='encoder_model-')\n",
    "    print('Extra params:', [k.count_params() for k in [rnn, reshape, capsule]])\n",
    "\n",
    "    return encoder_model, encoder_input, z_mean, z_log_var"
   ]
  },
  {
   "cell_type": "code",
   "execution_count": 14,
   "metadata": {
    "scrolled": false
   },
   "outputs": [
    {
     "name": "stdout",
     "output_type": "stream",
     "text": [
      "shared weights, shape = (1, 1, 60) 60\n",
      "shared weights, shape = (1, 1, 60) 60\n",
      "Extra params: [32896, 0, 60]\n",
      "__________________________________________________________________________________________________\n",
      "Layer (type)                    Output Shape         Param #     Connected to                     \n",
      "==================================================================================================\n",
      "input_1 (InputLayer)            (None, 40, 7, 1)     0                                            \n",
      "__________________________________________________________________________________________________\n",
      "reshape_3 (Reshape)             (None, 40, 7)        0           input_1[0][0]                    \n",
      "__________________________________________________________________________________________________\n",
      "conv1d_1 (Conv1D)               (None, 39, 32)       480         reshape_3[0][0]                  \n",
      "__________________________________________________________________________________________________\n",
      "conv1d_2 (Conv1D)               (None, 19, 64)       4160        conv1d_1[0][0]                   \n",
      "__________________________________________________________________________________________________\n",
      "conv1d_3 (Conv1D)               (None, 18, 128)      16512       conv1d_2[0][0]                   \n",
      "__________________________________________________________________________________________________\n",
      "simple_rnn_1 (SimpleRNN)        (None, 128)          32896       conv1d_3[0][0]                   \n",
      "__________________________________________________________________________________________________\n",
      "reshape_4 (Reshape)             (None, 128, 1)       0           simple_rnn_1[0][0]               \n",
      "__________________________________________________________________________________________________\n",
      "reshape_5 (Reshape)             (None, 128, 1)       0           reshape_4[0][0]                  \n",
      "__________________________________________________________________________________________________\n",
      "capsule_2 (Capsule)             (None, 10, 6)        60          reshape_5[0][0]                  \n",
      "__________________________________________________________________________________________________\n",
      "flatten_2 (Flatten)             (None, 60)           0           capsule_2[0][0]                  \n",
      "__________________________________________________________________________________________________\n",
      "z_mean (Dense)                  (None, 2)            122         flatten_2[0][0]                  \n",
      "__________________________________________________________________________________________________\n",
      "z_log_var (Dense)               (None, 2)            122         flatten_2[0][0]                  \n",
      "==================================================================================================\n",
      "Total params: 54,352\n",
      "Trainable params: 54,352\n",
      "Non-trainable params: 0\n",
      "__________________________________________________________________________________________________\n"
     ]
    }
   ],
   "source": [
    "encoder_model, encoder_input, z_mean, z_log_var = encoder(input_shape)\n",
    "encoder_model.summary()"
   ]
  },
  {
   "cell_type": "code",
   "execution_count": 15,
   "metadata": {},
   "outputs": [],
   "source": [
    "sample_ = lambda args: models.sample(args, z_mean, z_log_var, latent_dim, epsilon_std)"
   ]
  },
  {
   "cell_type": "code",
   "execution_count": 16,
   "metadata": {},
   "outputs": [],
   "source": [
    "# z = Lambda(sampling)([z_mean, z_log_var])\n",
    "z_input = encoder_model(encoder_input)\n",
    "z_output = Lambda(sample_)(z_input)\n",
    "# z_output = Lambda(sampl_, output_shape=(latent_dim,))(encoder_input)"
   ]
  },
  {
   "cell_type": "code",
   "execution_count": 17,
   "metadata": {},
   "outputs": [],
   "source": [
    "def list_decoders(output_shape):\n",
    "    # decoder_input = z_output\n",
    "    # h = decoder_input\n",
    "    # :output_shape = (timesteps, channels, channels) || (batches, filters, timesteps, channels)\n",
    "    # keras offers just Conv2DTranspose and not Conv1DTranspose\n",
    "    # - use 2D images during upsampling :: (timesteps, notes, channels) => (timesteps, notes, filters)\n",
    "    # - use 1D images to optimize reconstruction :: (timesteps, filters) => (timesteps, notes)\n",
    "    \n",
    "    # image_data_format = 'channels_last'\n",
    "    # goal shape: (timesteps, notes, channels)\n",
    "    # start with the 'reverse': lots of small imgs => few large img\n",
    "    \n",
    "    timesteps, notes, channels = output_shape\n",
    "    m = 4 # multiplier for dims\n",
    "    time_ = int(timesteps/10)\n",
    "    notes_ = notes * 10\n",
    "    intermediate_dim = time_ * notes_ * channels\n",
    "    filters = 64\n",
    "    output_shape = (14, 14, filters)\n",
    "    output_shape = (timesteps, notes, filters)\n",
    "\n",
    "    # at the start of upsampling, the image-structure does not yet have to correspond to the goal structure \n",
    "    # ?TODO use y*y*y starting dims, may conv, and only then correct the structure (?)\n",
    "    nodes = np.prod(output_shape)\n",
    "    \n",
    "    # keras.examples.variational_autoencoder_deconv.py\n",
    "    decoders = []\n",
    "    decoders += [ Dense(128, activation='relu') ]\n",
    "    decoders += [ Dense(np.prod(output_shape), activation='relu') ]\n",
    "\n",
    "    # Convolution\n",
    "    k = (3,1) # (2,1) :: (timesteps, notes)\n",
    "    # (14, 14, filters)\n",
    "    decoders += [ Reshape(output_shape) ]\n",
    "    decoders += [ Conv2DTranspose(filters, kernel_size=k, strides=1, activation='relu', padding='same') ]\n",
    "    decoders += [ Conv2DTranspose(filters, kernel_size=k, strides=1, activation='relu', padding='same') ]\n",
    "    # (29, 29, filters)\n",
    "    k = (3,1) # (2,1) :: (timesteps, notes)\n",
    "    s = (2,1)\n",
    "    decoders += [ Conv2DTranspose(filters, kernel_size=k, strides=s, activation='relu', padding='valid') ]\n",
    "    decoders += [ Conv2D(1, kernel_size=k, strides=s, activation='sigmoid', padding='valid') ]\n",
    "    #     h = Dropout(dropout)(h) # uncomment when using larger batches\n",
    "\n",
    "#     decoders += [ Flatten()]\n",
    "#     decoders += [ Dense(np.prod(output_shape), activation='sigmoid')]\n",
    "#     decoders += [ Reshape(output_shape)]\n",
    "    return decoders"
   ]
  },
  {
   "cell_type": "code",
   "execution_count": 18,
   "metadata": {},
   "outputs": [],
   "source": [
    "decoders = list_decoders(input_shape)"
   ]
  },
  {
   "cell_type": "code",
   "execution_count": 19,
   "metadata": {},
   "outputs": [],
   "source": [
    "decoded = utils.composition(decoders, z_output, verbose=False)"
   ]
  },
  {
   "cell_type": "code",
   "execution_count": 20,
   "metadata": {},
   "outputs": [
    {
     "name": "stdout",
     "output_type": "stream",
     "text": [
      "__________________________________________________________________________________________________\n",
      "Layer (type)                    Output Shape         Param #     Connected to                     \n",
      "==================================================================================================\n",
      "input_1 (InputLayer)            (None, 40, 7, 1)     0                                            \n",
      "__________________________________________________________________________________________________\n",
      "encoder_model- (Model)          [(None, 2), (None, 2 54352       input_1[0][0]                    \n",
      "__________________________________________________________________________________________________\n",
      "lambda_3 (Lambda)               (None, 2)            0           encoder_model-[1][0]             \n",
      "                                                                 encoder_model-[1][1]             \n",
      "__________________________________________________________________________________________________\n",
      "dense_1 (Dense)                 (None, 128)          384         lambda_3[0][0]                   \n",
      "__________________________________________________________________________________________________\n",
      "dense_2 (Dense)                 (None, 17920)        2311680     dense_1[0][0]                    \n",
      "__________________________________________________________________________________________________\n",
      "reshape_6 (Reshape)             (None, 40, 7, 64)    0           dense_2[0][0]                    \n",
      "__________________________________________________________________________________________________\n",
      "conv2d_transpose_1 (Conv2DTrans (None, 40, 7, 64)    12352       reshape_6[0][0]                  \n",
      "__________________________________________________________________________________________________\n",
      "conv2d_transpose_2 (Conv2DTrans (None, 40, 7, 64)    12352       conv2d_transpose_1[0][0]         \n",
      "__________________________________________________________________________________________________\n",
      "conv2d_transpose_3 (Conv2DTrans (None, 81, 7, 64)    12352       conv2d_transpose_2[0][0]         \n",
      "__________________________________________________________________________________________________\n",
      "conv2d_4 (Conv2D)               (None, 40, 7, 1)     193         conv2d_transpose_3[0][0]         \n",
      "==================================================================================================\n",
      "Total params: 2,403,665\n",
      "Trainable params: 2,403,665\n",
      "Non-trainable params: 0\n",
      "__________________________________________________________________________________________________\n"
     ]
    }
   ],
   "source": [
    "# instantiate VAE model\n",
    "vae_input = encoder_input\n",
    "vae_output = decoded\n",
    "vae = Model(vae_input, vae_output)\n",
    "vae.summary()"
   ]
  },
  {
   "cell_type": "code",
   "execution_count": 21,
   "metadata": {
    "scrolled": true
   },
   "outputs": [
    {
     "name": "stderr",
     "output_type": "stream",
     "text": [
      "/usr/local/lib/python3.6/site-packages/ipykernel_launcher.py:11: UserWarning: Output \"conv2d_4\" missing from loss dictionary. We assume this was done on purpose, and we will not be expecting any data to be passed to \"conv2d_4\" during training.\n",
      "  # This is added back by InteractiveShellApp.init_path()\n"
     ]
    }
   ],
   "source": [
    "# Compute VAE loss\n",
    "def vae_loss(beta=1.):\n",
    "    # y_true, y_pred, z_mean, z_log_var, timesteps=150, notes=3, beta=1.\n",
    "    xent_loss = timesteps * notes * keras.metrics.binary_crossentropy(K.flatten(vae_input), K.flatten(vae_output))\n",
    "    kl_loss = - 0.5 * K.sum(1 + z_log_var - K.square(z_mean) - K.exp(z_log_var), axis=-1)\n",
    "    vae_loss = K.mean(xent_loss + beta * kl_loss)\n",
    "    return vae_loss\n",
    "\n",
    "vae_loss = vae_loss(beta=1)\n",
    "vae.add_loss(vae_loss)\n",
    "vae.compile(optimizer='rmsprop')\n",
    "# vae.compile(optimizer=optimizer, loss=loss, metrics=metrics)"
   ]
  },
  {
   "cell_type": "code",
   "execution_count": 22,
   "metadata": {},
   "outputs": [],
   "source": [
    "batch_size = 250\n",
    "epochs = 500\n",
    "params = {'batch_size': batch_size, 'return_y': False}"
   ]
  },
  {
   "cell_type": "code",
   "execution_count": 23,
   "metadata": {},
   "outputs": [],
   "source": [
    "phase_mod = 0.01\n",
    "whitening = False"
   ]
  },
  {
   "cell_type": "code",
   "execution_count": 24,
   "metadata": {
    "scrolled": true
   },
   "outputs": [
    {
     "name": "stdout",
     "output_type": "stream",
     "text": [
      "batch_size = 250\n",
      "Train on 10 samples, validate on 1 samples\n",
      "Epoch 1/500\n",
      "10/10 [==============================] - 2s 210ms/step - loss: 194.3351 - val_loss: 187.7115\n",
      "Epoch 2/500\n",
      "10/10 [==============================] - 0s 8ms/step - loss: 187.2415 - val_loss: 157.1443\n",
      "Epoch 3/500\n",
      "10/10 [==============================] - 0s 8ms/step - loss: 165.4412 - val_loss: 133.0346\n",
      "Epoch 4/500\n",
      "10/10 [==============================] - 0s 9ms/step - loss: 114.0924 - val_loss: 76.2447\n",
      "Epoch 5/500\n",
      "10/10 [==============================] - 0s 9ms/step - loss: 77.6816 - val_loss: 77.6604\n",
      "Epoch 6/500\n",
      "10/10 [==============================] - 0s 9ms/step - loss: 72.7419 - val_loss: 49.0397\n",
      "Epoch 7/500\n",
      "10/10 [==============================] - 0s 9ms/step - loss: 70.8319 - val_loss: 48.4766\n",
      "Epoch 8/500\n",
      "10/10 [==============================] - 0s 8ms/step - loss: 77.8905 - val_loss: 46.9512\n",
      "Epoch 9/500\n",
      "10/10 [==============================] - 0s 7ms/step - loss: 60.5855 - val_loss: 37.7126\n",
      "Epoch 10/500\n",
      "10/10 [==============================] - 0s 8ms/step - loss: 64.0986 - val_loss: 37.1549\n",
      "Epoch 11/500\n",
      "10/10 [==============================] - 0s 9ms/step - loss: 56.5398 - val_loss: 41.3052\n",
      "Epoch 12/500\n",
      "10/10 [==============================] - 0s 8ms/step - loss: 54.1529 - val_loss: 34.5110\n",
      "Epoch 13/500\n",
      "10/10 [==============================] - 0s 6ms/step - loss: 56.1452 - val_loss: 46.4135\n",
      "Epoch 14/500\n",
      "10/10 [==============================] - 0s 5ms/step - loss: 56.1746 - val_loss: 43.1095\n",
      "Epoch 15/500\n",
      "10/10 [==============================] - 0s 6ms/step - loss: 54.6254 - val_loss: 34.9577\n",
      "Epoch 16/500\n",
      "10/10 [==============================] - 0s 6ms/step - loss: 51.9733 - val_loss: 34.4834\n",
      "Epoch 17/500\n",
      "10/10 [==============================] - 0s 6ms/step - loss: 50.9298 - val_loss: 34.6742\n",
      "Epoch 18/500\n",
      "10/10 [==============================] - 0s 6ms/step - loss: 50.5592 - val_loss: 38.8307\n",
      "Epoch 19/500\n",
      "10/10 [==============================] - 0s 5ms/step - loss: 57.8608 - val_loss: 48.5565\n",
      "Epoch 20/500\n",
      "10/10 [==============================] - 0s 5ms/step - loss: 65.8561 - val_loss: 32.9921\n",
      "Epoch 21/500\n",
      "10/10 [==============================] - 0s 8ms/step - loss: 50.2897 - val_loss: 42.8900\n",
      "Epoch 22/500\n",
      "10/10 [==============================] - 0s 9ms/step - loss: 49.9838 - val_loss: 41.4316\n",
      "Epoch 23/500\n",
      "10/10 [==============================] - 0s 7ms/step - loss: 51.0003 - val_loss: 45.0112\n",
      "Epoch 24/500\n",
      "10/10 [==============================] - 0s 6ms/step - loss: 49.0499 - val_loss: 41.3068\n",
      "Epoch 25/500\n",
      "10/10 [==============================] - 0s 5ms/step - loss: 48.3648 - val_loss: 36.5049\n",
      "Epoch 26/500\n",
      "10/10 [==============================] - 0s 5ms/step - loss: 48.1373 - val_loss: 31.5551\n",
      "Epoch 27/500\n",
      "10/10 [==============================] - 0s 6ms/step - loss: 51.5605 - val_loss: 54.7552\n",
      "Epoch 28/500\n",
      "10/10 [==============================] - 0s 9ms/step - loss: 49.7489 - val_loss: 39.3363\n",
      "Epoch 29/500\n",
      "10/10 [==============================] - 0s 8ms/step - loss: 49.8750 - val_loss: 38.4081\n",
      "Epoch 30/500\n",
      "10/10 [==============================] - 0s 8ms/step - loss: 51.2082 - val_loss: 36.3713\n",
      "Epoch 31/500\n",
      "10/10 [==============================] - 0s 8ms/step - loss: 47.2286 - val_loss: 34.4454\n",
      "Epoch 32/500\n",
      "10/10 [==============================] - 0s 8ms/step - loss: 48.2570 - val_loss: 36.2393\n",
      "Epoch 33/500\n",
      "10/10 [==============================] - 0s 7ms/step - loss: 47.7272 - val_loss: 33.5672\n",
      "Epoch 34/500\n",
      "10/10 [==============================] - 0s 7ms/step - loss: 48.0260 - val_loss: 40.0277\n",
      "Epoch 35/500\n",
      "10/10 [==============================] - 0s 7ms/step - loss: 47.8505 - val_loss: 34.3313\n",
      "Epoch 36/500\n",
      "10/10 [==============================] - 0s 7ms/step - loss: 52.6148 - val_loss: 43.6593\n",
      "Epoch 37/500\n",
      "10/10 [==============================] - 0s 8ms/step - loss: 53.0951 - val_loss: 39.4051\n",
      "Epoch 38/500\n",
      "10/10 [==============================] - 0s 8ms/step - loss: 48.6486 - val_loss: 33.1897\n",
      "Epoch 39/500\n",
      "10/10 [==============================] - 0s 7ms/step - loss: 47.0848 - val_loss: 40.2376\n",
      "Epoch 40/500\n",
      "10/10 [==============================] - 0s 7ms/step - loss: 46.8717 - val_loss: 36.1929\n",
      "Epoch 41/500\n",
      "10/10 [==============================] - 0s 8ms/step - loss: 45.1915 - val_loss: 39.4500\n",
      "Epoch 42/500\n",
      "10/10 [==============================] - 0s 6ms/step - loss: 44.8871 - val_loss: 33.1308\n",
      "Epoch 43/500\n",
      "10/10 [==============================] - 0s 6ms/step - loss: 47.4126 - val_loss: 35.3497\n",
      "Epoch 44/500\n",
      "10/10 [==============================] - 0s 6ms/step - loss: 47.5086 - val_loss: 35.0621\n",
      "Epoch 45/500\n",
      "10/10 [==============================] - 0s 8ms/step - loss: 50.2333 - val_loss: 35.8212\n",
      "Epoch 46/500\n",
      "10/10 [==============================] - 0s 8ms/step - loss: 48.7465 - val_loss: 37.0096\n",
      "Epoch 47/500\n",
      "10/10 [==============================] - 0s 7ms/step - loss: 46.1524 - val_loss: 32.8841\n",
      "Epoch 48/500\n",
      "10/10 [==============================] - 0s 6ms/step - loss: 47.0691 - val_loss: 33.1759\n",
      "Epoch 49/500\n",
      "10/10 [==============================] - 0s 6ms/step - loss: 46.6781 - val_loss: 41.8539\n",
      "Epoch 50/500\n",
      "10/10 [==============================] - 0s 7ms/step - loss: 48.7601 - val_loss: 36.9308\n",
      "Epoch 51/500\n",
      "10/10 [==============================] - 0s 9ms/step - loss: 52.8893 - val_loss: 37.2626\n",
      "Epoch 52/500\n",
      "10/10 [==============================] - 0s 10ms/step - loss: 52.5646 - val_loss: 34.3221\n",
      "Epoch 53/500\n",
      "10/10 [==============================] - 0s 11ms/step - loss: 46.2229 - val_loss: 36.2660\n",
      "Epoch 54/500\n",
      "10/10 [==============================] - 0s 8ms/step - loss: 45.8202 - val_loss: 32.1094\n",
      "Epoch 55/500\n",
      "10/10 [==============================] - 0s 6ms/step - loss: 46.9805 - val_loss: 34.7962\n",
      "Epoch 56/500\n",
      "10/10 [==============================] - 0s 6ms/step - loss: 44.8412 - val_loss: 34.3352\n",
      "Epoch 57/500\n",
      "10/10 [==============================] - 0s 7ms/step - loss: 46.1891 - val_loss: 33.2208\n",
      "Epoch 58/500\n",
      "10/10 [==============================] - 0s 6ms/step - loss: 45.7639 - val_loss: 34.4998\n",
      "Epoch 59/500\n",
      "10/10 [==============================] - 0s 6ms/step - loss: 45.2998 - val_loss: 35.3885\n",
      "Epoch 60/500\n",
      "10/10 [==============================] - 0s 5ms/step - loss: 46.7050 - val_loss: 32.9051\n",
      "Epoch 61/500\n",
      "10/10 [==============================] - 0s 6ms/step - loss: 46.5463 - val_loss: 36.7367\n",
      "Epoch 62/500\n",
      "10/10 [==============================] - 0s 6ms/step - loss: 45.3958 - val_loss: 36.0081\n",
      "Epoch 63/500\n",
      "10/10 [==============================] - 0s 6ms/step - loss: 45.2406 - val_loss: 33.7415\n",
      "Epoch 64/500\n",
      "10/10 [==============================] - 0s 6ms/step - loss: 46.7267 - val_loss: 34.6555\n",
      "Epoch 65/500\n",
      "10/10 [==============================] - 0s 6ms/step - loss: 45.3429 - val_loss: 34.3139\n",
      "Epoch 66/500\n",
      "10/10 [==============================] - 0s 6ms/step - loss: 44.1971 - val_loss: 31.7991\n",
      "Epoch 67/500\n",
      "10/10 [==============================] - 0s 6ms/step - loss: 44.9369 - val_loss: 39.8422\n",
      "Epoch 68/500\n",
      "10/10 [==============================] - 0s 6ms/step - loss: 46.2258 - val_loss: 37.0582\n",
      "Epoch 69/500\n",
      "10/10 [==============================] - 0s 6ms/step - loss: 45.8843 - val_loss: 37.1358\n",
      "Epoch 70/500\n",
      "10/10 [==============================] - 0s 6ms/step - loss: 45.8830 - val_loss: 40.6942\n",
      "Epoch 71/500\n",
      "10/10 [==============================] - 0s 7ms/step - loss: 45.6165 - val_loss: 30.0415\n",
      "Epoch 72/500\n",
      "10/10 [==============================] - 0s 6ms/step - loss: 46.4826 - val_loss: 36.5133\n",
      "Epoch 73/500\n",
      "10/10 [==============================] - 0s 7ms/step - loss: 44.0889 - val_loss: 38.6226\n",
      "Epoch 74/500\n",
      "10/10 [==============================] - 0s 7ms/step - loss: 43.8404 - val_loss: 32.3446\n",
      "Epoch 75/500\n",
      "10/10 [==============================] - 0s 9ms/step - loss: 45.7044 - val_loss: 33.1776\n",
      "Epoch 76/500\n",
      "10/10 [==============================] - 0s 7ms/step - loss: 46.0486 - val_loss: 42.0461\n",
      "Epoch 77/500\n",
      "10/10 [==============================] - 0s 13ms/step - loss: 47.3746 - val_loss: 42.0641\n",
      "Epoch 78/500\n",
      "10/10 [==============================] - 0s 9ms/step - loss: 48.4531 - val_loss: 36.4117\n",
      "Epoch 79/500\n",
      "10/10 [==============================] - 0s 9ms/step - loss: 50.0049 - val_loss: 39.9214\n",
      "Epoch 80/500\n",
      "10/10 [==============================] - 0s 6ms/step - loss: 48.0867 - val_loss: 38.1053\n"
     ]
    },
    {
     "name": "stdout",
     "output_type": "stream",
     "text": [
      "Epoch 81/500\n",
      "10/10 [==============================] - 0s 6ms/step - loss: 44.4125 - val_loss: 42.6393\n",
      "Epoch 82/500\n",
      "10/10 [==============================] - 0s 8ms/step - loss: 44.8288 - val_loss: 28.4000\n",
      "Epoch 83/500\n",
      "10/10 [==============================] - 0s 11ms/step - loss: 46.1396 - val_loss: 39.5235\n",
      "Epoch 84/500\n",
      "10/10 [==============================] - 0s 10ms/step - loss: 44.3703 - val_loss: 36.8504\n",
      "Epoch 85/500\n",
      "10/10 [==============================] - 0s 9ms/step - loss: 45.2093 - val_loss: 33.4358\n",
      "Epoch 86/500\n",
      "10/10 [==============================] - 0s 16ms/step - loss: 46.0112 - val_loss: 30.5929\n",
      "Epoch 87/500\n",
      "10/10 [==============================] - 0s 9ms/step - loss: 43.4459 - val_loss: 36.2061\n",
      "Epoch 88/500\n",
      "10/10 [==============================] - 0s 6ms/step - loss: 42.7471 - val_loss: 41.7369\n",
      "Epoch 89/500\n",
      "10/10 [==============================] - 0s 7ms/step - loss: 45.7196 - val_loss: 35.0834\n",
      "Epoch 90/500\n",
      "10/10 [==============================] - 0s 9ms/step - loss: 43.0573 - val_loss: 32.1203\n",
      "Epoch 91/500\n",
      "10/10 [==============================] - 0s 10ms/step - loss: 42.9148 - val_loss: 34.8071\n",
      "Epoch 92/500\n",
      "10/10 [==============================] - 0s 7ms/step - loss: 42.1663 - val_loss: 30.2251\n",
      "Epoch 93/500\n",
      "10/10 [==============================] - 0s 7ms/step - loss: 41.9125 - val_loss: 33.9091\n",
      "Epoch 94/500\n",
      "10/10 [==============================] - 0s 6ms/step - loss: 42.9370 - val_loss: 30.9964\n",
      "Epoch 95/500\n",
      "10/10 [==============================] - 0s 7ms/step - loss: 43.3336 - val_loss: 31.1801\n",
      "Epoch 96/500\n",
      "10/10 [==============================] - 0s 8ms/step - loss: 45.2758 - val_loss: 27.0302\n",
      "Epoch 97/500\n",
      "10/10 [==============================] - 0s 10ms/step - loss: 42.7617 - val_loss: 32.3225\n",
      "Epoch 98/500\n",
      "10/10 [==============================] - 0s 9ms/step - loss: 43.2295 - val_loss: 25.2728\n",
      "Epoch 99/500\n",
      "10/10 [==============================] - 0s 9ms/step - loss: 39.5555 - val_loss: 24.5768\n",
      "Epoch 100/500\n",
      "10/10 [==============================] - 0s 9ms/step - loss: 41.1701 - val_loss: 25.2749\n",
      "Epoch 101/500\n",
      "10/10 [==============================] - 0s 9ms/step - loss: 43.1257 - val_loss: 30.3921\n",
      "Epoch 102/500\n",
      "10/10 [==============================] - 0s 9ms/step - loss: 39.0624 - val_loss: 28.1298\n",
      "Epoch 103/500\n",
      "10/10 [==============================] - 0s 9ms/step - loss: 37.5876 - val_loss: 25.6425\n",
      "Epoch 104/500\n",
      "10/10 [==============================] - 0s 9ms/step - loss: 40.2108 - val_loss: 34.2404\n",
      "Epoch 105/500\n",
      "10/10 [==============================] - 0s 9ms/step - loss: 40.1305 - val_loss: 25.6053\n",
      "Epoch 106/500\n",
      "10/10 [==============================] - 0s 8ms/step - loss: 40.4080 - val_loss: 30.5760\n",
      "Epoch 107/500\n",
      "10/10 [==============================] - 0s 7ms/step - loss: 38.4549 - val_loss: 25.8181\n",
      "Epoch 108/500\n",
      "10/10 [==============================] - 0s 7ms/step - loss: 38.9653 - val_loss: 28.7271\n",
      "Epoch 109/500\n",
      "10/10 [==============================] - 0s 8ms/step - loss: 37.3938 - val_loss: 29.8301\n",
      "Epoch 110/500\n",
      "10/10 [==============================] - 0s 9ms/step - loss: 37.3588 - val_loss: 28.8264\n",
      "Epoch 111/500\n",
      "10/10 [==============================] - 0s 11ms/step - loss: 40.3996 - val_loss: 23.9306\n",
      "Epoch 112/500\n",
      "10/10 [==============================] - 0s 8ms/step - loss: 39.0257 - val_loss: 29.3044\n",
      "Epoch 113/500\n",
      "10/10 [==============================] - 0s 7ms/step - loss: 40.8940 - val_loss: 25.1922\n",
      "Epoch 114/500\n",
      "10/10 [==============================] - 0s 7ms/step - loss: 38.0351 - val_loss: 27.1837\n",
      "Epoch 115/500\n",
      "10/10 [==============================] - 0s 7ms/step - loss: 37.6797 - val_loss: 26.6858\n",
      "Epoch 116/500\n",
      "10/10 [==============================] - 0s 6ms/step - loss: 37.7795 - val_loss: 26.2270\n",
      "Epoch 117/500\n",
      "10/10 [==============================] - 0s 7ms/step - loss: 38.3454 - val_loss: 28.8246\n",
      "Epoch 118/500\n",
      "10/10 [==============================] - 0s 7ms/step - loss: 39.3113 - val_loss: 25.5241\n",
      "Epoch 119/500\n",
      "10/10 [==============================] - 0s 8ms/step - loss: 38.5724 - val_loss: 31.2684\n",
      "Epoch 120/500\n",
      "10/10 [==============================] - 0s 8ms/step - loss: 42.1942 - val_loss: 25.8419\n",
      "Epoch 121/500\n",
      "10/10 [==============================] - 0s 7ms/step - loss: 41.7162 - val_loss: 29.3345\n",
      "Epoch 122/500\n",
      "10/10 [==============================] - 0s 8ms/step - loss: 38.9860 - val_loss: 27.0506\n",
      "Epoch 123/500\n",
      "10/10 [==============================] - 0s 11ms/step - loss: 41.4904 - val_loss: 35.9727\n",
      "Epoch 124/500\n",
      "10/10 [==============================] - 0s 13ms/step - loss: 40.0817 - val_loss: 29.0365\n",
      "Epoch 125/500\n",
      "10/10 [==============================] - 0s 12ms/step - loss: 37.0967 - val_loss: 25.3882\n",
      "Epoch 126/500\n",
      "10/10 [==============================] - 0s 11ms/step - loss: 38.9456 - val_loss: 25.3171\n",
      "Epoch 127/500\n",
      "10/10 [==============================] - 0s 11ms/step - loss: 39.9257 - val_loss: 26.2824\n",
      "Epoch 128/500\n",
      "10/10 [==============================] - 0s 12ms/step - loss: 37.8023 - val_loss: 26.2075\n",
      "Epoch 129/500\n",
      "10/10 [==============================] - 0s 12ms/step - loss: 38.4510 - val_loss: 27.2511\n",
      "Epoch 130/500\n",
      "10/10 [==============================] - 0s 11ms/step - loss: 36.8893 - val_loss: 107.9228\n",
      "Epoch 131/500\n",
      "10/10 [==============================] - 0s 12ms/step - loss: 53.5247 - val_loss: 36.4472\n",
      "Epoch 132/500\n",
      "10/10 [==============================] - 0s 14ms/step - loss: 39.8427 - val_loss: 25.1898\n",
      "Epoch 133/500\n",
      "10/10 [==============================] - 0s 16ms/step - loss: 41.0680 - val_loss: 23.8873\n",
      "Epoch 134/500\n",
      "10/10 [==============================] - 0s 11ms/step - loss: 38.1976 - val_loss: 23.3113\n",
      "Epoch 135/500\n",
      "10/10 [==============================] - 0s 14ms/step - loss: 39.9188 - val_loss: 25.8224\n",
      "Epoch 136/500\n",
      "10/10 [==============================] - 0s 13ms/step - loss: 37.6605 - val_loss: 29.1535\n",
      "Epoch 137/500\n",
      "10/10 [==============================] - 0s 9ms/step - loss: 38.2751 - val_loss: 26.7852\n",
      "Epoch 138/500\n",
      "10/10 [==============================] - 0s 9ms/step - loss: 38.4104 - val_loss: 30.9923\n",
      "Epoch 139/500\n",
      "10/10 [==============================] - 0s 11ms/step - loss: 37.9240 - val_loss: 24.2253\n",
      "Epoch 140/500\n",
      "10/10 [==============================] - 0s 10ms/step - loss: 41.3813 - val_loss: 24.5289\n",
      "Epoch 141/500\n",
      "10/10 [==============================] - 0s 10ms/step - loss: 39.2246 - val_loss: 23.9803\n",
      "Epoch 142/500\n",
      "10/10 [==============================] - 0s 9ms/step - loss: 39.5855 - val_loss: 24.6823\n",
      "Epoch 143/500\n",
      "10/10 [==============================] - 0s 8ms/step - loss: 39.3720 - val_loss: 28.8249\n",
      "Epoch 144/500\n",
      "10/10 [==============================] - 0s 9ms/step - loss: 39.5462 - val_loss: 27.3662\n",
      "Epoch 145/500\n",
      "10/10 [==============================] - 0s 12ms/step - loss: 36.9929 - val_loss: 24.7867\n",
      "Epoch 146/500\n",
      "10/10 [==============================] - 0s 8ms/step - loss: 38.6495 - val_loss: 26.9512\n",
      "Epoch 147/500\n",
      "10/10 [==============================] - 0s 7ms/step - loss: 37.8655 - val_loss: 25.3926\n",
      "Epoch 148/500\n",
      "10/10 [==============================] - 0s 9ms/step - loss: 38.1217 - val_loss: 29.5921\n",
      "Epoch 149/500\n",
      "10/10 [==============================] - 0s 9ms/step - loss: 38.9473 - val_loss: 25.1165\n",
      "Epoch 150/500\n",
      "10/10 [==============================] - 0s 12ms/step - loss: 38.0408 - val_loss: 29.6271\n",
      "Epoch 151/500\n",
      "10/10 [==============================] - 0s 10ms/step - loss: 37.5858 - val_loss: 26.8941\n",
      "Epoch 152/500\n",
      "10/10 [==============================] - 0s 12ms/step - loss: 38.2332 - val_loss: 28.8036\n",
      "Epoch 153/500\n",
      "10/10 [==============================] - 0s 15ms/step - loss: 36.2887 - val_loss: 23.2744\n",
      "Epoch 154/500\n",
      "10/10 [==============================] - 0s 13ms/step - loss: 46.4513 - val_loss: 27.3638\n",
      "Epoch 155/500\n",
      "10/10 [==============================] - 0s 15ms/step - loss: 38.6640 - val_loss: 30.8728\n",
      "Epoch 156/500\n",
      "10/10 [==============================] - 0s 13ms/step - loss: 38.6159 - val_loss: 22.8433\n",
      "Epoch 157/500\n",
      "10/10 [==============================] - 0s 10ms/step - loss: 43.6565 - val_loss: 26.3459\n",
      "Epoch 158/500\n",
      "10/10 [==============================] - 0s 10ms/step - loss: 38.6148 - val_loss: 29.4911\n",
      "Epoch 159/500\n",
      "10/10 [==============================] - 0s 11ms/step - loss: 38.5781 - val_loss: 27.5836\n",
      "Epoch 160/500\n",
      "10/10 [==============================] - 0s 12ms/step - loss: 38.6093 - val_loss: 28.7134\n"
     ]
    },
    {
     "name": "stdout",
     "output_type": "stream",
     "text": [
      "Epoch 161/500\n",
      "10/10 [==============================] - 0s 11ms/step - loss: 38.0715 - val_loss: 29.6691\n",
      "Epoch 162/500\n",
      "10/10 [==============================] - 0s 9ms/step - loss: 38.8595 - val_loss: 24.9730\n",
      "Epoch 163/500\n",
      "10/10 [==============================] - 0s 9ms/step - loss: 37.3811 - val_loss: 25.9394\n",
      "Epoch 164/500\n",
      "10/10 [==============================] - 0s 8ms/step - loss: 37.7635 - val_loss: 26.5870\n",
      "Epoch 165/500\n",
      "10/10 [==============================] - 0s 9ms/step - loss: 37.8077 - val_loss: 24.2828\n",
      "Epoch 166/500\n",
      "10/10 [==============================] - 0s 9ms/step - loss: 36.0655 - val_loss: 22.6635\n",
      "Epoch 167/500\n",
      "10/10 [==============================] - 0s 11ms/step - loss: 36.9106 - val_loss: 28.1282\n",
      "Epoch 168/500\n",
      "10/10 [==============================] - 0s 11ms/step - loss: 37.3715 - val_loss: 26.7676\n",
      "Epoch 169/500\n",
      "10/10 [==============================] - 0s 9ms/step - loss: 36.5335 - val_loss: 25.2256\n",
      "Epoch 170/500\n",
      "10/10 [==============================] - 0s 11ms/step - loss: 37.4174 - val_loss: 30.5590\n",
      "Epoch 171/500\n",
      "10/10 [==============================] - 0s 11ms/step - loss: 40.2798 - val_loss: 23.4028\n",
      "Epoch 172/500\n",
      "10/10 [==============================] - 0s 11ms/step - loss: 37.7059 - val_loss: 24.8929\n",
      "Epoch 173/500\n",
      "10/10 [==============================] - 0s 9ms/step - loss: 39.0204 - val_loss: 22.6529\n",
      "Epoch 174/500\n",
      "10/10 [==============================] - 0s 9ms/step - loss: 37.1326 - val_loss: 25.1632\n",
      "Epoch 175/500\n",
      "10/10 [==============================] - 0s 9ms/step - loss: 39.1407 - val_loss: 25.7268\n",
      "Epoch 176/500\n",
      "10/10 [==============================] - 0s 11ms/step - loss: 36.2852 - val_loss: 35.8636\n",
      "Epoch 177/500\n",
      "10/10 [==============================] - 0s 10ms/step - loss: 38.0108 - val_loss: 25.2055\n",
      "Epoch 178/500\n",
      "10/10 [==============================] - 0s 10ms/step - loss: 38.2798 - val_loss: 23.9017\n",
      "Epoch 179/500\n",
      "10/10 [==============================] - 0s 10ms/step - loss: 36.1327 - val_loss: 26.5364\n",
      "Epoch 180/500\n",
      "10/10 [==============================] - 0s 10ms/step - loss: 38.7551 - val_loss: 24.5385\n",
      "Epoch 181/500\n",
      "10/10 [==============================] - 0s 11ms/step - loss: 35.8383 - val_loss: 23.1438\n",
      "Epoch 182/500\n",
      "10/10 [==============================] - 0s 10ms/step - loss: 37.4224 - val_loss: 27.2686\n",
      "Epoch 183/500\n",
      "10/10 [==============================] - 0s 9ms/step - loss: 39.0838 - val_loss: 23.2069\n",
      "Epoch 184/500\n",
      "10/10 [==============================] - 0s 8ms/step - loss: 37.1029 - val_loss: 24.1027\n",
      "Epoch 185/500\n",
      "10/10 [==============================] - 0s 9ms/step - loss: 36.4669 - val_loss: 26.9704\n",
      "Epoch 186/500\n",
      "10/10 [==============================] - 0s 9ms/step - loss: 42.4269 - val_loss: 30.2329\n",
      "Epoch 187/500\n",
      "10/10 [==============================] - 0s 9ms/step - loss: 39.6621 - val_loss: 24.3826\n",
      "Epoch 188/500\n",
      "10/10 [==============================] - 0s 8ms/step - loss: 39.2438 - val_loss: 30.6316\n",
      "Epoch 189/500\n",
      "10/10 [==============================] - 0s 10ms/step - loss: 37.8287 - val_loss: 27.3432\n",
      "Epoch 190/500\n",
      "10/10 [==============================] - 0s 10ms/step - loss: 40.3906 - val_loss: 29.0570\n",
      "Epoch 191/500\n",
      "10/10 [==============================] - 0s 8ms/step - loss: 36.0531 - val_loss: 25.1196\n",
      "Epoch 192/500\n",
      "10/10 [==============================] - 0s 9ms/step - loss: 44.4132 - val_loss: 34.8983\n",
      "Epoch 193/500\n",
      "10/10 [==============================] - 0s 10ms/step - loss: 38.8583 - val_loss: 29.6187\n",
      "Epoch 194/500\n",
      "10/10 [==============================] - 0s 8ms/step - loss: 38.1127 - val_loss: 29.9855\n",
      "Epoch 195/500\n",
      "10/10 [==============================] - 0s 9ms/step - loss: 36.5584 - val_loss: 24.4514\n",
      "Epoch 196/500\n",
      "10/10 [==============================] - 0s 9ms/step - loss: 37.8688 - val_loss: 27.0025\n",
      "Epoch 197/500\n",
      "10/10 [==============================] - 0s 8ms/step - loss: 35.5367 - val_loss: 24.3240\n",
      "Epoch 198/500\n",
      "10/10 [==============================] - 0s 10ms/step - loss: 36.2306 - val_loss: 24.4737\n",
      "Epoch 199/500\n",
      "10/10 [==============================] - 0s 9ms/step - loss: 37.0306 - val_loss: 26.5778\n",
      "Epoch 200/500\n",
      "10/10 [==============================] - 0s 10ms/step - loss: 40.5409 - val_loss: 29.2031\n",
      "Epoch 201/500\n",
      "10/10 [==============================] - 0s 10ms/step - loss: 37.2343 - val_loss: 27.2418\n",
      "Epoch 202/500\n",
      "10/10 [==============================] - 0s 9ms/step - loss: 36.4585 - val_loss: 30.2915\n",
      "Epoch 203/500\n",
      "10/10 [==============================] - 0s 8ms/step - loss: 35.9407 - val_loss: 24.5767\n",
      "Epoch 204/500\n",
      "10/10 [==============================] - 0s 9ms/step - loss: 35.9252 - val_loss: 27.3998\n",
      "Epoch 205/500\n",
      "10/10 [==============================] - 0s 8ms/step - loss: 36.5691 - val_loss: 58.8950\n",
      "Epoch 206/500\n",
      "10/10 [==============================] - 0s 8ms/step - loss: 38.8490 - val_loss: 27.1777\n",
      "Epoch 207/500\n",
      "10/10 [==============================] - 0s 10ms/step - loss: 38.6216 - val_loss: 26.0952\n",
      "Epoch 208/500\n",
      "10/10 [==============================] - 0s 9ms/step - loss: 35.7410 - val_loss: 31.9647\n",
      "Epoch 209/500\n",
      "10/10 [==============================] - 0s 9ms/step - loss: 37.0299 - val_loss: 24.8623\n",
      "Epoch 210/500\n",
      "10/10 [==============================] - 0s 11ms/step - loss: 38.5419 - val_loss: 28.1433\n",
      "Epoch 211/500\n"
     ]
    },
    {
     "ename": "KeyboardInterrupt",
     "evalue": "",
     "output_type": "error",
     "traceback": [
      "\u001b[0;31m---------------------------------------------------------------------------\u001b[0m",
      "\u001b[0;31mKeyboardInterrupt\u001b[0m                         Traceback (most recent call last)",
      "\u001b[0;32m<ipython-input-24-1a04b1936348>\u001b[0m in \u001b[0;36m<module>\u001b[0;34m()\u001b[0m\n\u001b[1;32m     25\u001b[0m                 \u001b[0;32mbreak\u001b[0m\u001b[0;34m\u001b[0m\u001b[0m\n\u001b[1;32m     26\u001b[0m \u001b[0;32melse\u001b[0m\u001b[0;34m:\u001b[0m\u001b[0;34m\u001b[0m\u001b[0m\n\u001b[0;32m---> 27\u001b[0;31m     \u001b[0mh\u001b[0m \u001b[0;34m=\u001b[0m \u001b[0mvae\u001b[0m\u001b[0;34m.\u001b[0m\u001b[0mfit\u001b[0m\u001b[0;34m(\u001b[0m\u001b[0mx\u001b[0m\u001b[0;34m[\u001b[0m\u001b[0;34m:\u001b[0m\u001b[0mm\u001b[0m\u001b[0;34m]\u001b[0m\u001b[0;34m,\u001b[0m \u001b[0mepochs\u001b[0m\u001b[0;34m=\u001b[0m\u001b[0mepochs\u001b[0m\u001b[0;34m,\u001b[0m \u001b[0mvalidation_data\u001b[0m\u001b[0;34m=\u001b[0m\u001b[0;34m(\u001b[0m\u001b[0mx_test\u001b[0m\u001b[0;34m,\u001b[0m \u001b[0;32mNone\u001b[0m\u001b[0;34m)\u001b[0m\u001b[0;34m)\u001b[0m\u001b[0;34m\u001b[0m\u001b[0m\n\u001b[0m\u001b[1;32m     28\u001b[0m     \u001b[0mhistory\u001b[0m \u001b[0;34m=\u001b[0m \u001b[0mh\u001b[0m\u001b[0;34m.\u001b[0m\u001b[0mhistory\u001b[0m\u001b[0;34m\u001b[0m\u001b[0m\n",
      "\u001b[0;32m/usr/local/lib/python3.6/site-packages/keras/engine/training.py\u001b[0m in \u001b[0;36mfit\u001b[0;34m(self, x, y, batch_size, epochs, verbose, callbacks, validation_split, validation_data, shuffle, class_weight, sample_weight, initial_epoch, steps_per_epoch, validation_steps, **kwargs)\u001b[0m\n\u001b[1;32m   1703\u001b[0m                               \u001b[0minitial_epoch\u001b[0m\u001b[0;34m=\u001b[0m\u001b[0minitial_epoch\u001b[0m\u001b[0;34m,\u001b[0m\u001b[0;34m\u001b[0m\u001b[0m\n\u001b[1;32m   1704\u001b[0m                               \u001b[0msteps_per_epoch\u001b[0m\u001b[0;34m=\u001b[0m\u001b[0msteps_per_epoch\u001b[0m\u001b[0;34m,\u001b[0m\u001b[0;34m\u001b[0m\u001b[0m\n\u001b[0;32m-> 1705\u001b[0;31m                               validation_steps=validation_steps)\n\u001b[0m\u001b[1;32m   1706\u001b[0m \u001b[0;34m\u001b[0m\u001b[0m\n\u001b[1;32m   1707\u001b[0m     def evaluate(self, x=None, y=None,\n",
      "\u001b[0;32m/usr/local/lib/python3.6/site-packages/keras/engine/training.py\u001b[0m in \u001b[0;36m_fit_loop\u001b[0;34m(self, f, ins, out_labels, batch_size, epochs, verbose, callbacks, val_f, val_ins, shuffle, callback_metrics, initial_epoch, steps_per_epoch, validation_steps)\u001b[0m\n\u001b[1;32m   1233\u001b[0m                         \u001b[0mins_batch\u001b[0m\u001b[0;34m[\u001b[0m\u001b[0mi\u001b[0m\u001b[0;34m]\u001b[0m \u001b[0;34m=\u001b[0m \u001b[0mins_batch\u001b[0m\u001b[0;34m[\u001b[0m\u001b[0mi\u001b[0m\u001b[0;34m]\u001b[0m\u001b[0;34m.\u001b[0m\u001b[0mtoarray\u001b[0m\u001b[0;34m(\u001b[0m\u001b[0;34m)\u001b[0m\u001b[0;34m\u001b[0m\u001b[0m\n\u001b[1;32m   1234\u001b[0m \u001b[0;34m\u001b[0m\u001b[0m\n\u001b[0;32m-> 1235\u001b[0;31m                     \u001b[0mouts\u001b[0m \u001b[0;34m=\u001b[0m \u001b[0mf\u001b[0m\u001b[0;34m(\u001b[0m\u001b[0mins_batch\u001b[0m\u001b[0;34m)\u001b[0m\u001b[0;34m\u001b[0m\u001b[0m\n\u001b[0m\u001b[1;32m   1236\u001b[0m                     \u001b[0;32mif\u001b[0m \u001b[0;32mnot\u001b[0m \u001b[0misinstance\u001b[0m\u001b[0;34m(\u001b[0m\u001b[0mouts\u001b[0m\u001b[0;34m,\u001b[0m \u001b[0mlist\u001b[0m\u001b[0;34m)\u001b[0m\u001b[0;34m:\u001b[0m\u001b[0;34m\u001b[0m\u001b[0m\n\u001b[1;32m   1237\u001b[0m                         \u001b[0mouts\u001b[0m \u001b[0;34m=\u001b[0m \u001b[0;34m[\u001b[0m\u001b[0mouts\u001b[0m\u001b[0;34m]\u001b[0m\u001b[0;34m\u001b[0m\u001b[0m\n",
      "\u001b[0;32m/usr/local/lib/python3.6/site-packages/keras/backend/tensorflow_backend.py\u001b[0m in \u001b[0;36m__call__\u001b[0;34m(self, inputs)\u001b[0m\n\u001b[1;32m   2476\u001b[0m         \u001b[0msession\u001b[0m \u001b[0;34m=\u001b[0m \u001b[0mget_session\u001b[0m\u001b[0;34m(\u001b[0m\u001b[0;34m)\u001b[0m\u001b[0;34m\u001b[0m\u001b[0m\n\u001b[1;32m   2477\u001b[0m         updated = session.run(fetches=fetches, feed_dict=feed_dict,\n\u001b[0;32m-> 2478\u001b[0;31m                               **self.session_kwargs)\n\u001b[0m\u001b[1;32m   2479\u001b[0m         \u001b[0;32mreturn\u001b[0m \u001b[0mupdated\u001b[0m\u001b[0;34m[\u001b[0m\u001b[0;34m:\u001b[0m\u001b[0mlen\u001b[0m\u001b[0;34m(\u001b[0m\u001b[0mself\u001b[0m\u001b[0;34m.\u001b[0m\u001b[0moutputs\u001b[0m\u001b[0;34m)\u001b[0m\u001b[0;34m]\u001b[0m\u001b[0;34m\u001b[0m\u001b[0m\n\u001b[1;32m   2480\u001b[0m \u001b[0;34m\u001b[0m\u001b[0m\n",
      "\u001b[0;32m/usr/local/lib/python3.6/site-packages/tensorflow/python/client/session.py\u001b[0m in \u001b[0;36mrun\u001b[0;34m(self, fetches, feed_dict, options, run_metadata)\u001b[0m\n\u001b[1;32m    893\u001b[0m     \u001b[0;32mtry\u001b[0m\u001b[0;34m:\u001b[0m\u001b[0;34m\u001b[0m\u001b[0m\n\u001b[1;32m    894\u001b[0m       result = self._run(None, fetches, feed_dict, options_ptr,\n\u001b[0;32m--> 895\u001b[0;31m                          run_metadata_ptr)\n\u001b[0m\u001b[1;32m    896\u001b[0m       \u001b[0;32mif\u001b[0m \u001b[0mrun_metadata\u001b[0m\u001b[0;34m:\u001b[0m\u001b[0;34m\u001b[0m\u001b[0m\n\u001b[1;32m    897\u001b[0m         \u001b[0mproto_data\u001b[0m \u001b[0;34m=\u001b[0m \u001b[0mtf_session\u001b[0m\u001b[0;34m.\u001b[0m\u001b[0mTF_GetBuffer\u001b[0m\u001b[0;34m(\u001b[0m\u001b[0mrun_metadata_ptr\u001b[0m\u001b[0;34m)\u001b[0m\u001b[0;34m\u001b[0m\u001b[0m\n",
      "\u001b[0;32m/usr/local/lib/python3.6/site-packages/tensorflow/python/client/session.py\u001b[0m in \u001b[0;36m_run\u001b[0;34m(self, handle, fetches, feed_dict, options, run_metadata)\u001b[0m\n\u001b[1;32m   1126\u001b[0m     \u001b[0;32mif\u001b[0m \u001b[0mfinal_fetches\u001b[0m \u001b[0;32mor\u001b[0m \u001b[0mfinal_targets\u001b[0m \u001b[0;32mor\u001b[0m \u001b[0;34m(\u001b[0m\u001b[0mhandle\u001b[0m \u001b[0;32mand\u001b[0m \u001b[0mfeed_dict_tensor\u001b[0m\u001b[0;34m)\u001b[0m\u001b[0;34m:\u001b[0m\u001b[0;34m\u001b[0m\u001b[0m\n\u001b[1;32m   1127\u001b[0m       results = self._do_run(handle, final_targets, final_fetches,\n\u001b[0;32m-> 1128\u001b[0;31m                              feed_dict_tensor, options, run_metadata)\n\u001b[0m\u001b[1;32m   1129\u001b[0m     \u001b[0;32melse\u001b[0m\u001b[0;34m:\u001b[0m\u001b[0;34m\u001b[0m\u001b[0m\n\u001b[1;32m   1130\u001b[0m       \u001b[0mresults\u001b[0m \u001b[0;34m=\u001b[0m \u001b[0;34m[\u001b[0m\u001b[0;34m]\u001b[0m\u001b[0;34m\u001b[0m\u001b[0m\n",
      "\u001b[0;32m/usr/local/lib/python3.6/site-packages/tensorflow/python/client/session.py\u001b[0m in \u001b[0;36m_do_run\u001b[0;34m(self, handle, target_list, fetch_list, feed_dict, options, run_metadata)\u001b[0m\n\u001b[1;32m   1342\u001b[0m     \u001b[0;32mif\u001b[0m \u001b[0mhandle\u001b[0m \u001b[0;32mis\u001b[0m \u001b[0;32mNone\u001b[0m\u001b[0;34m:\u001b[0m\u001b[0;34m\u001b[0m\u001b[0m\n\u001b[1;32m   1343\u001b[0m       return self._do_call(_run_fn, self._session, feeds, fetches, targets,\n\u001b[0;32m-> 1344\u001b[0;31m                            options, run_metadata)\n\u001b[0m\u001b[1;32m   1345\u001b[0m     \u001b[0;32melse\u001b[0m\u001b[0;34m:\u001b[0m\u001b[0;34m\u001b[0m\u001b[0m\n\u001b[1;32m   1346\u001b[0m       \u001b[0;32mreturn\u001b[0m \u001b[0mself\u001b[0m\u001b[0;34m.\u001b[0m\u001b[0m_do_call\u001b[0m\u001b[0;34m(\u001b[0m\u001b[0m_prun_fn\u001b[0m\u001b[0;34m,\u001b[0m \u001b[0mself\u001b[0m\u001b[0;34m.\u001b[0m\u001b[0m_session\u001b[0m\u001b[0;34m,\u001b[0m \u001b[0mhandle\u001b[0m\u001b[0;34m,\u001b[0m \u001b[0mfeeds\u001b[0m\u001b[0;34m,\u001b[0m \u001b[0mfetches\u001b[0m\u001b[0;34m)\u001b[0m\u001b[0;34m\u001b[0m\u001b[0m\n",
      "\u001b[0;32m/usr/local/lib/python3.6/site-packages/tensorflow/python/client/session.py\u001b[0m in \u001b[0;36m_do_call\u001b[0;34m(self, fn, *args)\u001b[0m\n\u001b[1;32m   1348\u001b[0m   \u001b[0;32mdef\u001b[0m \u001b[0m_do_call\u001b[0m\u001b[0;34m(\u001b[0m\u001b[0mself\u001b[0m\u001b[0;34m,\u001b[0m \u001b[0mfn\u001b[0m\u001b[0;34m,\u001b[0m \u001b[0;34m*\u001b[0m\u001b[0margs\u001b[0m\u001b[0;34m)\u001b[0m\u001b[0;34m:\u001b[0m\u001b[0;34m\u001b[0m\u001b[0m\n\u001b[1;32m   1349\u001b[0m     \u001b[0;32mtry\u001b[0m\u001b[0;34m:\u001b[0m\u001b[0;34m\u001b[0m\u001b[0m\n\u001b[0;32m-> 1350\u001b[0;31m       \u001b[0;32mreturn\u001b[0m \u001b[0mfn\u001b[0m\u001b[0;34m(\u001b[0m\u001b[0;34m*\u001b[0m\u001b[0margs\u001b[0m\u001b[0;34m)\u001b[0m\u001b[0;34m\u001b[0m\u001b[0m\n\u001b[0m\u001b[1;32m   1351\u001b[0m     \u001b[0;32mexcept\u001b[0m \u001b[0merrors\u001b[0m\u001b[0;34m.\u001b[0m\u001b[0mOpError\u001b[0m \u001b[0;32mas\u001b[0m \u001b[0me\u001b[0m\u001b[0;34m:\u001b[0m\u001b[0;34m\u001b[0m\u001b[0m\n\u001b[1;32m   1352\u001b[0m       \u001b[0mmessage\u001b[0m \u001b[0;34m=\u001b[0m \u001b[0mcompat\u001b[0m\u001b[0;34m.\u001b[0m\u001b[0mas_text\u001b[0m\u001b[0;34m(\u001b[0m\u001b[0me\u001b[0m\u001b[0;34m.\u001b[0m\u001b[0mmessage\u001b[0m\u001b[0;34m)\u001b[0m\u001b[0;34m\u001b[0m\u001b[0m\n",
      "\u001b[0;32m/usr/local/lib/python3.6/site-packages/tensorflow/python/client/session.py\u001b[0m in \u001b[0;36m_run_fn\u001b[0;34m(session, feed_dict, fetch_list, target_list, options, run_metadata)\u001b[0m\n\u001b[1;32m   1327\u001b[0m           return tf_session.TF_Run(session, options,\n\u001b[1;32m   1328\u001b[0m                                    \u001b[0mfeed_dict\u001b[0m\u001b[0;34m,\u001b[0m \u001b[0mfetch_list\u001b[0m\u001b[0;34m,\u001b[0m \u001b[0mtarget_list\u001b[0m\u001b[0;34m,\u001b[0m\u001b[0;34m\u001b[0m\u001b[0m\n\u001b[0;32m-> 1329\u001b[0;31m                                    status, run_metadata)\n\u001b[0m\u001b[1;32m   1330\u001b[0m \u001b[0;34m\u001b[0m\u001b[0m\n\u001b[1;32m   1331\u001b[0m     \u001b[0;32mdef\u001b[0m \u001b[0m_prun_fn\u001b[0m\u001b[0;34m(\u001b[0m\u001b[0msession\u001b[0m\u001b[0;34m,\u001b[0m \u001b[0mhandle\u001b[0m\u001b[0;34m,\u001b[0m \u001b[0mfeed_dict\u001b[0m\u001b[0;34m,\u001b[0m \u001b[0mfetch_list\u001b[0m\u001b[0;34m)\u001b[0m\u001b[0;34m:\u001b[0m\u001b[0;34m\u001b[0m\u001b[0m\n",
      "\u001b[0;31mKeyboardInterrupt\u001b[0m: "
     ]
    }
   ],
   "source": [
    "m = 10\n",
    "useDataGenerator = False\n",
    "# useDataGenerator = True\n",
    "\n",
    "x = x_train\n",
    "x = np.concatenate([x_train[:m] for _ in range(1000)])\n",
    "\n",
    "print('batch_size =', batch_size)\n",
    "if useDataGenerator:\n",
    "    datagen = models.ImageDataGenerator(x_train, batch_size, phase_mod, whitening)\n",
    "    history = collections.defaultdict(list)\n",
    "    n_batches = datagen.__len__()\n",
    "    for e in range(epochs):\n",
    "        print('\\n[Epoch %i/%i] >>>>>>>>>' % (e, epochs))\n",
    "        for batch_i, (x_batch, y_batch) in enumerate(datagen.flow(x[:m], x[:m], batch_size)):\n",
    "            print(' Batch %i/%i' % (batch_i,n_batches))\n",
    "            x_ = x_batch\n",
    "            # x_ = datagen.shuffle_3rd_dim(x_)\n",
    "            x_ = datagen.shuffle_3rd_dim_soft(x_, mutation_rate=0.1, scale=0.1, verbose=0)\n",
    "            h = vae.fit(x_, validation_data=(x_test, None), verbose=0)\n",
    "            for k,v in h.history.items(): \n",
    "                print(' \\\\_%s' % k, [round(v_,) for v_ in v])\n",
    "                history[k].append(v)\n",
    "            if batch_i >= n_batches:\n",
    "                break\n",
    "else:\n",
    "    h = vae.fit(x[:m], epochs=epochs, validation_data=(x_test, None))\n",
    "    history = h.history"
   ]
  },
  {
   "cell_type": "code",
   "execution_count": 25,
   "metadata": {},
   "outputs": [
    {
     "ename": "NameError",
     "evalue": "name 'history' is not defined",
     "output_type": "error",
     "traceback": [
      "\u001b[0;31m---------------------------------------------------------------------------\u001b[0m",
      "\u001b[0;31mNameError\u001b[0m                                 Traceback (most recent call last)",
      "\u001b[0;32m<ipython-input-25-e38c3c53bd52>\u001b[0m in \u001b[0;36m<module>\u001b[0;34m()\u001b[0m\n\u001b[0;32m----> 1\u001b[0;31m \u001b[0mplt\u001b[0m\u001b[0;34m.\u001b[0m\u001b[0mplot\u001b[0m\u001b[0;34m(\u001b[0m\u001b[0mhistory\u001b[0m\u001b[0;34m[\u001b[0m\u001b[0;34m'loss'\u001b[0m\u001b[0;34m]\u001b[0m\u001b[0;34m)\u001b[0m\u001b[0;34m\u001b[0m\u001b[0m\n\u001b[0m\u001b[1;32m      2\u001b[0m \u001b[0mplt\u001b[0m\u001b[0;34m.\u001b[0m\u001b[0mplot\u001b[0m\u001b[0;34m(\u001b[0m\u001b[0mhistory\u001b[0m\u001b[0;34m[\u001b[0m\u001b[0;34m'val_loss'\u001b[0m\u001b[0;34m]\u001b[0m\u001b[0;34m)\u001b[0m\u001b[0;34m\u001b[0m\u001b[0m\n",
      "\u001b[0;31mNameError\u001b[0m: name 'history' is not defined"
     ]
    }
   ],
   "source": [
    "plt.plot(history['loss'])\n",
    "plt.plot(history['val_loss'])"
   ]
  },
  {
   "cell_type": "code",
   "execution_count": 26,
   "metadata": {},
   "outputs": [
    {
     "name": "stdout",
     "output_type": "stream",
     "text": [
      "m (40, 7)\n"
     ]
    },
    {
     "data": {
      "image/png": "[encoded data removed]",
      "text/plain": [
       "<matplotlib.figure.Figure at 0x11abd3cf8>"
      ]
     },
     "metadata": {},
     "output_type": "display_data"
    },
    {
     "name": "stdout",
     "output_type": "stream",
     "text": [
      "m (40, 7)\n"
     ]
    },
    {
     "data": {
      "image/png": "[encoded data removed]",
      "text/plain": [
       "<matplotlib.figure.Figure at 0x104a99748>"
      ]
     },
     "metadata": {},
     "output_type": "display_data"
    },
    {
     "name": "stdout",
     "output_type": "stream",
     "text": [
      "m (40, 7)\n"
     ]
    },
    {
     "data": {
      "image/png": "[encoded data removed]",
      "text/plain": [
       "<matplotlib.figure.Figure at 0x11ab8f358>"
      ]
     },
     "metadata": {},
     "output_type": "display_data"
    },
    {
     "name": "stdout",
     "output_type": "stream",
     "text": [
      "m (40, 7)\n"
     ]
    },
    {
     "data": {
      "image/png": "[encoded data removed]",
      "text/plain": [
       "<matplotlib.figure.Figure at 0x10593b518>"
      ]
     },
     "metadata": {},
     "output_type": "display_data"
    },
    {
     "name": "stdout",
     "output_type": "stream",
     "text": [
      "m (40, 7)\n"
     ]
    },
    {
     "data": {
      "image/png": "[encoded data removed]",
      "text/plain": [
       "<matplotlib.figure.Figure at 0x117312be0>"
      ]
     },
     "metadata": {},
     "output_type": "display_data"
    },
    {
     "name": "stdout",
     "output_type": "stream",
     "text": [
      "m (40, 7)\n"
     ]
    },
    {
     "data": {
      "image/png": "[encoded data removed]",
      "text/plain": [
       "<matplotlib.figure.Figure at 0x11bf5f6d8>"
      ]
     },
     "metadata": {},
     "output_type": "display_data"
    }
   ],
   "source": [
    "i = 0\n",
    "j = -1\n",
    "k = -1\n",
    "x = vae.predict(x_train[:100])\n",
    "plot.single(x_train[i, :50, :, 0])\n",
    "plot.single(x[i, :50, :, 0])\n",
    "plot.single(x_train[j, :50, :, 0])\n",
    "plot.single(x[j, :50, :, 0])\n",
    "plot.single(x_train[k, :50, :, 0])\n",
    "plot.single(x[k, :50, :, 0])"
   ]
  },
  {
   "cell_type": "code",
   "execution_count": 27,
   "metadata": {},
   "outputs": [
    {
     "ename": "NameError",
     "evalue": "name 'datagen' is not defined",
     "output_type": "error",
     "traceback": [
      "\u001b[0;31m---------------------------------------------------------------------------\u001b[0m",
      "\u001b[0;31mNameError\u001b[0m                                 Traceback (most recent call last)",
      "\u001b[0;32m<ipython-input-27-0d52b52218a0>\u001b[0m in \u001b[0;36m<module>\u001b[0;34m()\u001b[0m\n\u001b[0;32m----> 1\u001b[0;31m \u001b[0mx\u001b[0m \u001b[0;34m=\u001b[0m \u001b[0mdatagen\u001b[0m\u001b[0;34m.\u001b[0m\u001b[0mshuffle_3rd_dim_soft\u001b[0m\u001b[0;34m(\u001b[0m\u001b[0mx_train\u001b[0m\u001b[0;34m[\u001b[0m\u001b[0;34m:\u001b[0m\u001b[0;36m10\u001b[0m\u001b[0;34m]\u001b[0m\u001b[0;34m,\u001b[0m \u001b[0mmutation_rate\u001b[0m\u001b[0;34m=\u001b[0m\u001b[0;36m0.5\u001b[0m\u001b[0;34m,\u001b[0m \u001b[0mscale\u001b[0m\u001b[0;34m=\u001b[0m\u001b[0;36m0.5\u001b[0m\u001b[0;34m,\u001b[0m \u001b[0mverbose\u001b[0m\u001b[0;34m=\u001b[0m\u001b[0;36m0\u001b[0m\u001b[0;34m)\u001b[0m\u001b[0;34m\u001b[0m\u001b[0m\n\u001b[0m\u001b[1;32m      2\u001b[0m \u001b[0mplot\u001b[0m\u001b[0;34m.\u001b[0m\u001b[0msingle\u001b[0m\u001b[0;34m(\u001b[0m\u001b[0mx_train\u001b[0m\u001b[0;34m[\u001b[0m\u001b[0;36m0\u001b[0m\u001b[0;34m,\u001b[0m\u001b[0;34m:\u001b[0m\u001b[0;34m,\u001b[0m\u001b[0;34m:\u001b[0m\u001b[0;34m,\u001b[0m\u001b[0;36m0\u001b[0m\u001b[0;34m]\u001b[0m\u001b[0;34m)\u001b[0m\u001b[0;34m\u001b[0m\u001b[0m\n\u001b[1;32m      3\u001b[0m \u001b[0mplot\u001b[0m\u001b[0;34m.\u001b[0m\u001b[0msingle\u001b[0m\u001b[0;34m(\u001b[0m\u001b[0mx\u001b[0m\u001b[0;34m[\u001b[0m\u001b[0;36m0\u001b[0m\u001b[0;34m,\u001b[0m\u001b[0;34m:\u001b[0m\u001b[0;34m,\u001b[0m\u001b[0;34m:\u001b[0m\u001b[0;34m,\u001b[0m\u001b[0;36m0\u001b[0m\u001b[0;34m]\u001b[0m\u001b[0;34m)\u001b[0m\u001b[0;34m\u001b[0m\u001b[0m\n\u001b[1;32m      4\u001b[0m \u001b[0mx_\u001b[0m \u001b[0;34m=\u001b[0m \u001b[0mvae\u001b[0m\u001b[0;34m.\u001b[0m\u001b[0mpredict\u001b[0m\u001b[0;34m(\u001b[0m\u001b[0mx\u001b[0m\u001b[0;34m)\u001b[0m\u001b[0;34m\u001b[0m\u001b[0m\n\u001b[1;32m      5\u001b[0m \u001b[0mplot\u001b[0m\u001b[0;34m.\u001b[0m\u001b[0msingle\u001b[0m\u001b[0;34m(\u001b[0m\u001b[0mx_\u001b[0m\u001b[0;34m[\u001b[0m\u001b[0;36m0\u001b[0m\u001b[0;34m,\u001b[0m\u001b[0;34m:\u001b[0m\u001b[0;34m,\u001b[0m\u001b[0;34m:\u001b[0m\u001b[0;34m,\u001b[0m\u001b[0;36m0\u001b[0m\u001b[0;34m]\u001b[0m\u001b[0;34m)\u001b[0m\u001b[0;34m\u001b[0m\u001b[0m\n",
      "\u001b[0;31mNameError\u001b[0m: name 'datagen' is not defined"
     ]
    }
   ],
   "source": [
    "x = datagen.shuffle_3rd_dim_soft(x_train[:10], mutation_rate=0.5, scale=0.5, verbose=0)\n",
    "plot.single(x_train[0,:,:,0])\n",
    "plot.single(x[0,:,:,0])\n",
    "x_ = vae.predict(x)\n",
    "plot.single(x_[0,:,:,0])"
   ]
  },
  {
   "cell_type": "code",
   "execution_count": 28,
   "metadata": {},
   "outputs": [
    {
     "data": {
      "text/plain": [
       "(9, 40, 7, 1)"
      ]
     },
     "execution_count": 28,
     "metadata": {},
     "output_type": "execute_result"
    }
   ],
   "source": [
    "x.shape"
   ]
  },
  {
   "cell_type": "code",
   "execution_count": 29,
   "metadata": {},
   "outputs": [
    {
     "name": "stdout",
     "output_type": "stream",
     "text": [
      "m (30, 7)\n"
     ]
    },
    {
     "data": {
      "image/png": "[encoded data removed]",
      "text/plain": [
       "<matplotlib.figure.Figure at 0x11abd3b38>"
      ]
     },
     "metadata": {},
     "output_type": "display_data"
    }
   ],
   "source": [
    "# min: these pixels are 'always' active\n",
    "m = x.min(axis=0)\n",
    "plot.multi(m[:30,:,0])"
   ]
  },
  {
   "cell_type": "code",
   "execution_count": 30,
   "metadata": {},
   "outputs": [
    {
     "name": "stdout",
     "output_type": "stream",
     "text": [
      "m (30, 7)\n"
     ]
    },
    {
     "data": {
      "image/png": "[encoded data removed]",
      "text/plain": [
       "<matplotlib.figure.Figure at 0x11c01a4a8>"
      ]
     },
     "metadata": {},
     "output_type": "display_data"
    }
   ],
   "source": [
    "# mean\n",
    "m = x.mean(axis=0)\n",
    "plot.single(m[:30,:,0])"
   ]
  },
  {
   "cell_type": "markdown",
   "metadata": {},
   "source": [
    "## Encoder + Generator\n",
    "A model to project inputs on the latent space"
   ]
  },
  {
   "cell_type": "code",
   "execution_count": 31,
   "metadata": {},
   "outputs": [],
   "source": [
    "# build a model to project inputs on the latent space\n",
    "encoder = Model(encoder_input, z_mean)"
   ]
  },
  {
   "cell_type": "code",
   "execution_count": 32,
   "metadata": {},
   "outputs": [
    {
     "data": {
      "text/plain": [
       "(1, 40, 7, 1)"
      ]
     },
     "execution_count": 32,
     "metadata": {},
     "output_type": "execute_result"
    }
   ],
   "source": [
    "x_test.shape"
   ]
  },
  {
   "cell_type": "code",
   "execution_count": 33,
   "metadata": {},
   "outputs": [
    {
     "data": {
      "text/plain": [
       "(9, 2)"
      ]
     },
     "execution_count": 33,
     "metadata": {},
     "output_type": "execute_result"
    }
   ],
   "source": [
    "m = 100\n",
    "x_train_encoded = encoder.predict(x_train[:m], batch_size=batch_size)\n",
    "x_train_encoded.shape"
   ]
  },
  {
   "cell_type": "code",
   "execution_count": 34,
   "metadata": {},
   "outputs": [
    {
     "data": {
      "text/plain": [
       "<matplotlib.collections.PathCollection at 0x11c2ce470>"
      ]
     },
     "execution_count": 34,
     "metadata": {},
     "output_type": "execute_result"
    },
    {
     "data": {
      "image/png": "[encoded data removed]",
      "text/plain": [
       "<matplotlib.figure.Figure at 0x11c285f28>"
      ]
     },
     "metadata": {},
     "output_type": "display_data"
    }
   ],
   "source": [
    "# y_test = range(x_train_encoded.shape[0])\n",
    "y_test = np.concatenate([list(range(n)) for _ in range(int(m/n)+1)])[:m] / n\n",
    "plt.figure(figsize=(6, 6))\n",
    "plt.scatter(x_train_encoded[:, 0], x_train_encoded[:, 1], alpha=0.8, s=30) # c=y_test, "
   ]
  },
  {
   "cell_type": "code",
   "execution_count": 35,
   "metadata": {},
   "outputs": [
    {
     "data": {
      "text/plain": [
       "<matplotlib.collections.PathCollection at 0x11c219b38>"
      ]
     },
     "execution_count": 35,
     "metadata": {},
     "output_type": "execute_result"
    },
    {
     "data": {
      "image/png": "[encoded data removed]",
      "text/plain": [
       "<matplotlib.figure.Figure at 0x11bff2e80>"
      ]
     },
     "metadata": {},
     "output_type": "display_data"
    }
   ],
   "source": [
    "# display a 2D plot of the digit classes in the latent space\n",
    "x_test_encoded = encoder.predict(x_test, batch_size=batch_size)\n",
    "plt.figure(figsize=(6, 6))\n",
    "plt.scatter(x_test_encoded[:, 0], x_test_encoded[:, 1], alpha=0.6, s=30) # , c=y_test\n",
    "# plt.colorbar()"
   ]
  },
  {
   "cell_type": "code",
   "execution_count": 36,
   "metadata": {},
   "outputs": [],
   "source": [
    "# build a digit generator that can sample from the learned distribution\n",
    "decoder_input = Input(shape=(latent_dim,))\n",
    "_decoded = utils.composition(decoders, decoder_input, verbose=False)\n",
    "generator = Model(decoder_input, _decoded)"
   ]
  },
  {
   "cell_type": "code",
   "execution_count": 37,
   "metadata": {},
   "outputs": [],
   "source": [
    "# x_decoded[0].reshape(150,3)"
   ]
  },
  {
   "cell_type": "code",
   "execution_count": 38,
   "metadata": {},
   "outputs": [
    {
     "data": {
      "text/plain": [
       "(9, 40, 7, 1)"
      ]
     },
     "execution_count": 38,
     "metadata": {},
     "output_type": "execute_result"
    }
   ],
   "source": [
    "x_train.shape"
   ]
  },
  {
   "cell_type": "code",
   "execution_count": 39,
   "metadata": {},
   "outputs": [
    {
     "name": "stdout",
     "output_type": "stream",
     "text": [
      "(2,) [0. 0.]\n"
     ]
    },
    {
     "data": {
      "image/png": "[encoded data removed]",
      "text/plain": [
       "<matplotlib.figure.Figure at 0x11c4cbfd0>"
      ]
     },
     "metadata": {},
     "output_type": "display_data"
    }
   ],
   "source": [
    "min_y = 0.01\n",
    "max_y = 0.5\n",
    "plot.latent(generator, batch_size,\n",
    "       n=8,\n",
    "       m=3,\n",
    "       crop_size=30,\n",
    "       margin_top=1,\n",
    "       margin_left=1,\n",
    "       min_x=0.05,\n",
    "       max_x=0.95,\n",
    "       min_y=min_y,\n",
    "       max_y=max_y)"
   ]
  },
  {
   "cell_type": "code",
   "execution_count": 40,
   "metadata": {},
   "outputs": [
    {
     "name": "stdout",
     "output_type": "stream",
     "text": [
      "(2,) [0. 0.]\n"
     ]
    },
    {
     "data": {
      "image/png": "[encoded data removed]",
      "text/plain": [
       "<matplotlib.figure.Figure at 0x11c4eb8d0>"
      ]
     },
     "metadata": {},
     "output_type": "display_data"
    }
   ],
   "source": [
    "min_y2 = max_y\n",
    "plot.latent(generator, batch_size,\n",
    "       n=8,\n",
    "       m=3,\n",
    "       crop_size=30,\n",
    "       margin_top=1,\n",
    "       margin_left=1,\n",
    "       min_x=0.05,\n",
    "       max_x=0.95,\n",
    "       min_y=min_y2,\n",
    "       max_y=0.95)"
   ]
  },
  {
   "cell_type": "code",
   "execution_count": null,
   "metadata": {},
   "outputs": [],
   "source": []
  },
  {
   "cell_type": "code",
   "execution_count": null,
   "metadata": {},
   "outputs": [],
   "source": []
  },
  {
   "cell_type": "code",
   "execution_count": null,
   "metadata": {},
   "outputs": [],
   "source": []
  },
  {
   "cell_type": "code",
   "execution_count": null,
   "metadata": {},
   "outputs": [],
   "source": []
  },
  {
   "cell_type": "code",
   "execution_count": null,
   "metadata": {},
   "outputs": [],
   "source": []
  },
  {
   "cell_type": "code",
   "execution_count": null,
   "metadata": {},
   "outputs": [],
   "source": []
  },
  {
   "cell_type": "code",
   "execution_count": null,
   "metadata": {},
   "outputs": [],
   "source": []
  }
 ],
 "metadata": {
  "kernelspec": {
   "display_name": "Python 3",
   "language": "python",
   "name": "python3"
  },
  "language_info": {
   "codemirror_mode": {
    "name": "ipython",
    "version": 3
   },
   "file_extension": ".py",
   "mimetype": "text/x-python",
   "name": "python",
   "nbconvert_exporter": "python",
   "pygments_lexer": "ipython3",
   "version": "3.6.5"
  }
 },
 "nbformat": 4,
 "nbformat_minor": 2
}
