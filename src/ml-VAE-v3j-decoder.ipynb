{
 "cells": [
  {
   "cell_type": "code",
   "execution_count": 1,
   "metadata": {},
   "outputs": [
    {
     "name": "stderr",
     "output_type": "stream",
     "text": [
      "/Library/Frameworks/Python.framework/Versions/3.6/lib/python3.6/site-packages/h5py/__init__.py:36: FutureWarning: Conversion of the second argument of issubdtype from `float` to `np.floating` is deprecated. In future, it will be treated as `np.float64 == np.dtype(float).type`.\n",
      "  from ._conv import register_converters as _register_converters\n",
      "Using TensorFlow backend.\n"
     ]
    }
   ],
   "source": [
    "from __future__ import division\n",
    "\n",
    "import collections\n",
    "import numpy as np\n",
    "import matplotlib.pyplot as plt\n",
    "from scipy.stats import norm\n",
    "\n",
    "## NN libs\n",
    "import keras\n",
    "from keras import backend as K\n",
    "from keras import regularizers\n",
    "from keras.utils import to_categorical\n",
    "from keras.optimizers import SGD, Adam\n",
    "from keras.layers import *\n",
    "from keras.preprocessing.image import ImageDataGenerator\n",
    "from keras.models import Model\n",
    "from keras.callbacks import TensorBoard"
   ]
  },
  {
   "cell_type": "code",
   "execution_count": 2,
   "metadata": {},
   "outputs": [],
   "source": [
    "import config\n",
    "import os, numpy as np, pandas, sklearn, scipy.signal as signal\n",
    "import mido\n",
    "import matplotlib.pyplot as plt\n",
    "%matplotlib inline"
   ]
  },
  {
   "cell_type": "code",
   "execution_count": 3,
   "metadata": {},
   "outputs": [],
   "source": [
    "# local libs\n",
    "import config, models, setup\n",
    "import midi\n",
    "from midi import generators as g\n",
    "from utils import io, models_io, utils, plot\n",
    "from capsule.layers import Capsule, Length\n",
    "from capsule.capsulefunctions import squash, softmax, margin_loss"
   ]
  },
  {
   "cell_type": "code",
   "execution_count": 4,
   "metadata": {},
   "outputs": [
    {
     "name": "stdout",
     "output_type": "stream",
     "text": [
      " Context :: namedtuple(\n",
      "[ max_t = float\n",
      ", dt = float\n",
      ", n_timestesp = int\n",
      ", note_length = int\n",
      ", bpm = float\n",
      ", tempo = float\n",
      ", ticks_per_beat = int\n",
      "]\n",
      "\n",
      "Setting up params\n",
      "\n",
      "max min f 10.0 0.5\n",
      " >> Context(max_t=2.0, dt=0.05, n_timesteps=40, note_length=0.03, bpm=120.0, tempo=500000, ticks_per_beat=480)\n",
      " sample length:  40.000000\n",
      " max_f: 10.000000, min_f: 0.500000\n"
     ]
    }
   ],
   "source": [
    "context = setup.init()"
   ]
  },
  {
   "cell_type": "code",
   "execution_count": 5,
   "metadata": {
    "scrolled": true
   },
   "outputs": [
    {
     "name": "stdout",
     "output_type": "stream",
     "text": [
      "\n",
      "Importing midi-data\n",
      "\n",
      "Encoding midi-data\n",
      " 10\n",
      "> -> multi-track = True MidiFile\n",
      "\u001b[92m [INFO] : \u001b[0m\n",
      " |  True\n"
     ]
    }
   ],
   "source": [
    "n = 10 * 1\n",
    "dim4 = True\n",
    "multiTrack = True\n",
    "reduce_dims = midi.ReduceDimsOptions.MIDIFILE # GLOBAL\n",
    "dn = 'drum_midi/'\n",
    "x_train, labels = setup.import_data(context, n, dim4=dim4, reduce_dims=reduce_dims, dirname=dn, multiTrack=multiTrack, r=True)"
   ]
  },
  {
   "cell_type": "code",
   "execution_count": 6,
   "metadata": {},
   "outputs": [],
   "source": [
    "# n = 1000\n",
    "# min_f = 0\n",
    "# max_f = 3\n",
    "# x_train, params = g.gen_data_complex(context, n, max_f=max_f, min_f=min_f,\n",
    "#     n_polyrythms=1,\n",
    "#     n_channels=3,\n",
    "#     d_phase=True,\n",
    "#     return_params=True,\n",
    "#     dim4=dim4,\n",
    "#     multiTrack=multiTrack)"
   ]
  },
  {
   "cell_type": "code",
   "execution_count": 7,
   "metadata": {},
   "outputs": [
    {
     "data": {
      "text/plain": [
       "(10, 40, 10, 1)"
      ]
     },
     "execution_count": 7,
     "metadata": {},
     "output_type": "execute_result"
    }
   ],
   "source": [
    "x_train.shape"
   ]
  },
  {
   "cell_type": "code",
   "execution_count": 8,
   "metadata": {},
   "outputs": [
    {
     "data": {
      "text/plain": [
       "((10, 40, 10, 1), 9)"
      ]
     },
     "execution_count": 8,
     "metadata": {},
     "output_type": "execute_result"
    }
   ],
   "source": [
    "m = int(x_train.shape[0] * 0.9)\n",
    "x_train.shape, m"
   ]
  },
  {
   "cell_type": "code",
   "execution_count": 9,
   "metadata": {},
   "outputs": [],
   "source": [
    "x_test = x_train[m:]\n",
    "x_train = x_train[:m]"
   ]
  },
  {
   "cell_type": "code",
   "execution_count": 10,
   "metadata": {},
   "outputs": [
    {
     "name": "stdout",
     "output_type": "stream",
     "text": [
      "m (40, 10)\n"
     ]
    },
    {
     "data": {
      "image/png": "[encoded data removed]",
      "text/plain": [
       "<matplotlib.figure.Figure at 0x1171a9e80>"
      ]
     },
     "metadata": {},
     "output_type": "display_data"
    },
    {
     "name": "stdout",
     "output_type": "stream",
     "text": [
      "m (40, 10)\n"
     ]
    },
    {
     "data": {
      "image/png": "[encoded data removed]",
      "text/plain": [
       "<matplotlib.figure.Figure at 0x1171a9d30>"
      ]
     },
     "metadata": {},
     "output_type": "display_data"
    },
    {
     "data": {
      "text/plain": [
       "[\"../datasets/drum_midi//50´s Drummer MIDI Files/01 Rock'n'Roll/01 Dancin Rick 166BPM/01 8th Hat.mid\",\n",
       " \"../datasets/drum_midi//50´s Drummer MIDI Files/01 Rock'n'Roll/01 Dancin Rick 166BPM/02 8th Ride.mid\",\n",
       " \"../datasets/drum_midi//50´s Drummer MIDI Files/01 Rock'n'Roll/01 Dancin Rick 166BPM/03 16th Snare.mid\",\n",
       " \"../datasets/drum_midi//50´s Drummer MIDI Files/01 Rock'n'Roll/01 Dancin Rick 166BPM/04 8th Ride.mid\"]"
      ]
     },
     "execution_count": 10,
     "metadata": {},
     "output_type": "execute_result"
    }
   ],
   "source": [
    "plot.single(x_train[0, :50,:,0])\n",
    "plot.single(x_train[1, :50,:,0])\n",
    "# plot.single(x_train[2, :50,:,0])\n",
    "labels[0:4]"
   ]
  },
  {
   "cell_type": "code",
   "execution_count": 11,
   "metadata": {},
   "outputs": [
    {
     "data": {
      "text/plain": [
       "(40, 10, 1)"
      ]
     },
     "execution_count": 11,
     "metadata": {},
     "output_type": "execute_result"
    }
   ],
   "source": [
    "input_shape = x_train[0].shape\n",
    "timesteps = input_shape[0]\n",
    "notes = input_shape[1]\n",
    "input_shape"
   ]
  },
  {
   "cell_type": "code",
   "execution_count": 20,
   "metadata": {},
   "outputs": [],
   "source": [
    "latent_dim = 2\n",
    "intermediate_dim = 128\n",
    "epsilon_std = 1.0"
   ]
  },
  {
   "cell_type": "code",
   "execution_count": 159,
   "metadata": {},
   "outputs": [],
   "source": [
    "def encoder(input_shape, dropout=0.1):\n",
    "    encoder_input = Input(shape=input_shape)\n",
    "    nodes = np.prod(input_shape)\n",
    "    timesteps, notes, channels = input_shape\n",
    "    \n",
    "    # Convolution\n",
    "    h = encoder_input\n",
    "    k = (2,1)\n",
    "    s = (2,1)\n",
    "    \n",
    "    h = Conv2D(32, kernel_size=k, strides=1, activation='relu', padding='valid')(h)\n",
    "    h = Conv2D(64, kernel_size=k, strides=s, activation='relu', padding='valid')(h)\n",
    "    h = Conv2D(128, kernel_size=k, strides=s, activation='relu', padding='valid')(h)\n",
    "\n",
    "    # input per note\n",
    "    note_list = Permute([2,1,3], name='input_per_note')(h)\n",
    "    \n",
    "    rnn = SimpleRNN(128, name='rnn_per_note')\n",
    "    reshape = Reshape((128,1))\n",
    "\n",
    "    n_capsules = 10\n",
    "    capsule_dim = 6\n",
    "    n_routings=3\n",
    "    share_weights=True\n",
    "    capsule = Capsule(n_capsules, capsule_dim, n_routings, share_weights)\n",
    "\n",
    "    x = Lambda(lambda layer: capsule(reshape(rnn(layer))) )\n",
    "    h_per_note = TimeDistributed(x, name='TimeDistributed_per_note')(note_list)\n",
    "    shape = K.int_shape(h_per_note)[1:]\n",
    "    h_per_note = Reshape( [notes, np.prod(shape[1:3])] )(h_per_note)\n",
    "    h_per_note = Flatten()(h_per_note)\n",
    "\n",
    "    # 'global' input\n",
    "    h = encoder_input\n",
    "    h = Reshape(input_shape[:-1])(h)\n",
    "    h = Conv1D(32, kernel_size=2, strides=1, activation='relu', padding='valid')(h)\n",
    "    h = Conv1D(64, kernel_size=2, strides=2, activation='relu', padding='valid')(h)\n",
    "    h = Conv1D(128, kernel_size=2, strides=1, activation='relu', padding='valid')(h)\n",
    "    # old layers\n",
    "#     h = Conv2D(1, kernel_size=k, strides=1, activation='relu', padding='valid')(h)\n",
    "#     shape = K.int_shape(h)[1:]\n",
    "#     h = Reshape(shape[0:2])(h) # (reduced_timesteps, notes)\n",
    "#     h = Conv1D(32, kernel_size=2, strides=1, activation='relu', padding='valid')(h)\n",
    "    h_global = SimpleRNN(128)(h)\n",
    "    \n",
    "    h = Reshape((-1,1))(h_global) # h_global h_per_note\n",
    "#     h = Concatenate(axis=1)([h_global, h_per_note])\n",
    "\n",
    "    h = Reshape((-1,1))(h)\n",
    "    \n",
    "    n_capsules = 10\n",
    "    capsule_dim = 6\n",
    "    n_routings=3\n",
    "    share_weights=True\n",
    "    h = Capsule(n_capsules, capsule_dim, n_routings, share_weights)(h)   \n",
    "    h = Flatten()(h)\n",
    "    \n",
    "    # Z Mean, Variance\n",
    "    z_mean = Dense(latent_dim, name='z_mean')(h) # , activation='relu'\n",
    "    z_log_var = Dense(latent_dim, name='z_log_var')(h) # , activation='relu'\n",
    "        \n",
    "    encoder_output = [z_mean, z_log_var]\n",
    "    encoder_model = Model(encoder_input, encoder_output, name='encoder_model-')\n",
    "    print('Extra params:', [k.count_params() for k in [rnn, reshape, capsule]])\n",
    "\n",
    "    return encoder_model, encoder_input, z_mean, z_log_var"
   ]
  },
  {
   "cell_type": "code",
   "execution_count": 160,
   "metadata": {
    "scrolled": false
   },
   "outputs": [
    {
     "name": "stdout",
     "output_type": "stream",
     "text": [
      "shared weights, shape = (1, 1, 60) 60\n",
      "shared weights, shape = (1, 1, 60) 60\n",
      "Extra params: [32896, 0, 60]\n",
      "__________________________________________________________________________________________________\n",
      "Layer (type)                    Output Shape         Param #     Connected to                     \n",
      "==================================================================================================\n",
      "input_23 (InputLayer)           (None, 40, 10, 1)    0                                            \n",
      "__________________________________________________________________________________________________\n",
      "reshape_70 (Reshape)            (None, 40, 10)       0           input_23[0][0]                   \n",
      "__________________________________________________________________________________________________\n",
      "conv1d_46 (Conv1D)              (None, 39, 32)       672         reshape_70[0][0]                 \n",
      "__________________________________________________________________________________________________\n",
      "conv1d_47 (Conv1D)              (None, 19, 64)       4160        conv1d_46[0][0]                  \n",
      "__________________________________________________________________________________________________\n",
      "conv1d_48 (Conv1D)              (None, 18, 128)      16512       conv1d_47[0][0]                  \n",
      "__________________________________________________________________________________________________\n",
      "simple_rnn_10 (SimpleRNN)       (None, 128)          32896       conv1d_48[0][0]                  \n",
      "__________________________________________________________________________________________________\n",
      "reshape_71 (Reshape)            (None, 128, 1)       0           simple_rnn_10[0][0]              \n",
      "__________________________________________________________________________________________________\n",
      "reshape_72 (Reshape)            (None, 128, 1)       0           reshape_71[0][0]                 \n",
      "__________________________________________________________________________________________________\n",
      "capsule_22 (Capsule)            (None, 10, 6)        60          reshape_72[0][0]                 \n",
      "__________________________________________________________________________________________________\n",
      "flatten_24 (Flatten)            (None, 60)           0           capsule_22[0][0]                 \n",
      "__________________________________________________________________________________________________\n",
      "z_mean (Dense)                  (None, 2)            122         flatten_24[0][0]                 \n",
      "__________________________________________________________________________________________________\n",
      "z_log_var (Dense)               (None, 2)            122         flatten_24[0][0]                 \n",
      "==================================================================================================\n",
      "Total params: 54,544\n",
      "Trainable params: 54,544\n",
      "Non-trainable params: 0\n",
      "__________________________________________________________________________________________________\n"
     ]
    }
   ],
   "source": [
    "encoder_model, encoder_input, z_mean, z_log_var = encoder(input_shape)\n",
    "encoder_model.summary()"
   ]
  },
  {
   "cell_type": "code",
   "execution_count": 161,
   "metadata": {},
   "outputs": [],
   "source": [
    "sample_ = lambda args: models.sample(args, z_mean, z_log_var, latent_dim, epsilon_std)"
   ]
  },
  {
   "cell_type": "code",
   "execution_count": 162,
   "metadata": {},
   "outputs": [],
   "source": [
    "# z = Lambda(sampling)([z_mean, z_log_var])\n",
    "z_input = encoder_model(encoder_input)\n",
    "z_output = Lambda(sample_)(z_input)\n",
    "# z_output = Lambda(sampl_, output_shape=(latent_dim,))(encoder_input)"
   ]
  },
  {
   "cell_type": "code",
   "execution_count": 163,
   "metadata": {},
   "outputs": [],
   "source": [
    "def list_decoders(output_shape):\n",
    "    # decoder_input = z_output\n",
    "    # h = decoder_input\n",
    "    # :output_shape = (timesteps, channels, channels) || (batches, filters, timesteps, channels)\n",
    "    # keras offers just Conv2DTranspose and not Conv1DTranspose\n",
    "    # - use 2D images during upsampling :: (timesteps, notes, channels) => (timesteps, notes, filters)\n",
    "    # - use 1D images to optimize reconstruction :: (timesteps, filters) => (timesteps, notes)\n",
    "    \n",
    "    # image_data_format = 'channels_last'\n",
    "    # goal shape: (timesteps, notes, channels)\n",
    "    # start with the 'reverse': lots of small imgs => few large img\n",
    "    \n",
    "    timesteps, notes, channels = output_shape\n",
    "    m = 4 # multiplier for dims\n",
    "    time_ = int(timesteps/10)\n",
    "    notes_ = notes * 10\n",
    "    intermediate_dim = time_ * notes_ * channels\n",
    "    filters = 64\n",
    "    output_shape = (14, 14, filters)\n",
    "    output_shape = (timesteps, notes, filters)\n",
    "\n",
    "    # at the start of upsampling, the image-structure does not yet have to correspond to the goal structure \n",
    "    # ?TODO use y*y*y starting dims, may conv, and only then correct the structure (?)\n",
    "    nodes = np.prod(output_shape)\n",
    "    \n",
    "    # keras.examples.variational_autoencoder_deconv.py\n",
    "    decoders = []\n",
    "    decoders += [ Dense(128, activation='relu') ]\n",
    "    decoders += [ Dense(np.prod(output_shape), activation='relu') ]\n",
    "\n",
    "    # Convolution\n",
    "    k = (3,1) # (2,1) :: (timesteps, notes)\n",
    "    # (14, 14, filters)\n",
    "    decoders += [ Reshape(output_shape) ]\n",
    "    decoders += [ Conv2DTranspose(filters, kernel_size=k, strides=1, activation='relu', padding='same') ]\n",
    "    decoders += [ Conv2DTranspose(filters, kernel_size=k, strides=1, activation='relu', padding='same') ]\n",
    "    # (29, 29, filters)\n",
    "    k = (3,1) # (2,1) :: (timesteps, notes)\n",
    "    s = (2,1)\n",
    "    decoders += [ Conv2DTranspose(filters, kernel_size=k, strides=s, activation='relu', padding='valid') ]\n",
    "    decoders += [ Conv2D(1, kernel_size=k, strides=s, activation='sigmoid', padding='valid') ]\n",
    "    #     h = Dropout(dropout)(h) # uncomment when using larger batches\n",
    "\n",
    "#     decoders += [ Flatten()]\n",
    "#     decoders += [ Dense(np.prod(output_shape), activation='sigmoid')]\n",
    "#     decoders += [ Reshape(output_shape)]\n",
    "    return decoders"
   ]
  },
  {
   "cell_type": "code",
   "execution_count": 164,
   "metadata": {},
   "outputs": [],
   "source": [
    "decoders = list_decoders(input_shape)"
   ]
  },
  {
   "cell_type": "code",
   "execution_count": 165,
   "metadata": {},
   "outputs": [],
   "source": [
    "decoded = utils.composition(decoders, z_output, verbose=False)"
   ]
  },
  {
   "cell_type": "code",
   "execution_count": 166,
   "metadata": {},
   "outputs": [
    {
     "name": "stdout",
     "output_type": "stream",
     "text": [
      "__________________________________________________________________________________________________\n",
      "Layer (type)                    Output Shape         Param #     Connected to                     \n",
      "==================================================================================================\n",
      "input_23 (InputLayer)           (None, 40, 10, 1)    0                                            \n",
      "__________________________________________________________________________________________________\n",
      "encoder_model- (Model)          [(None, 2), (None, 2 54544       input_23[0][0]                   \n",
      "__________________________________________________________________________________________________\n",
      "lambda_18 (Lambda)              (None, 2)            0           encoder_model-[1][0]             \n",
      "                                                                 encoder_model-[1][1]             \n",
      "__________________________________________________________________________________________________\n",
      "dense_14 (Dense)                (None, 128)          384         lambda_18[0][0]                  \n",
      "__________________________________________________________________________________________________\n",
      "dense_15 (Dense)                (None, 25600)        3302400     dense_14[0][0]                   \n",
      "__________________________________________________________________________________________________\n",
      "reshape_73 (Reshape)            (None, 40, 10, 64)   0           dense_15[0][0]                   \n",
      "__________________________________________________________________________________________________\n",
      "conv2d_transpose_13 (Conv2DTran (None, 40, 10, 64)   12352       reshape_73[0][0]                 \n",
      "__________________________________________________________________________________________________\n",
      "conv2d_transpose_14 (Conv2DTran (None, 40, 10, 64)   12352       conv2d_transpose_13[0][0]        \n",
      "__________________________________________________________________________________________________\n",
      "conv2d_transpose_15 (Conv2DTran (None, 81, 10, 64)   12352       conv2d_transpose_14[0][0]        \n",
      "__________________________________________________________________________________________________\n",
      "conv2d_41 (Conv2D)              (None, 40, 10, 1)    193         conv2d_transpose_15[0][0]        \n",
      "==================================================================================================\n",
      "Total params: 3,394,577\n",
      "Trainable params: 3,394,577\n",
      "Non-trainable params: 0\n",
      "__________________________________________________________________________________________________\n"
     ]
    }
   ],
   "source": [
    "# instantiate VAE model\n",
    "vae_input = encoder_input\n",
    "vae_output = decoded\n",
    "vae = Model(vae_input, vae_output)\n",
    "vae.summary()"
   ]
  },
  {
   "cell_type": "code",
   "execution_count": 167,
   "metadata": {
    "scrolled": true
   },
   "outputs": [
    {
     "name": "stderr",
     "output_type": "stream",
     "text": [
      "/Library/Frameworks/Python.framework/Versions/3.6/lib/python3.6/site-packages/ipykernel_launcher.py:11: UserWarning: Output \"conv2d_41\" missing from loss dictionary. We assume this was done on purpose, and we will not be expecting any data to be passed to \"conv2d_41\" during training.\n",
      "  # This is added back by InteractiveShellApp.init_path()\n"
     ]
    }
   ],
   "source": [
    "# Compute VAE loss\n",
    "def vae_loss(beta=1.):\n",
    "    # y_true, y_pred, z_mean, z_log_var, timesteps=150, notes=3, beta=1.\n",
    "    xent_loss = timesteps * notes * keras.metrics.binary_crossentropy(K.flatten(vae_input), K.flatten(vae_output))\n",
    "    kl_loss = - 0.5 * K.sum(1 + z_log_var - K.square(z_mean) - K.exp(z_log_var), axis=-1)\n",
    "    vae_loss = K.mean(xent_loss + beta * kl_loss)\n",
    "    return vae_loss\n",
    "\n",
    "vae_loss = vae_loss(beta=1)\n",
    "vae.add_loss(vae_loss)\n",
    "vae.compile(optimizer='rmsprop')\n",
    "# vae.compile(optimizer=optimizer, loss=loss, metrics=metrics)"
   ]
  },
  {
   "cell_type": "code",
   "execution_count": 168,
   "metadata": {},
   "outputs": [],
   "source": [
    "batch_size = 250\n",
    "epochs = 500\n",
    "params = {'batch_size': batch_size, 'return_y': False}"
   ]
  },
  {
   "cell_type": "code",
   "execution_count": 169,
   "metadata": {},
   "outputs": [],
   "source": [
    "phase_mod = 0.01\n",
    "whitening = False"
   ]
  },
  {
   "cell_type": "code",
   "execution_count": 170,
   "metadata": {
    "scrolled": true
   },
   "outputs": [
    {
     "name": "stdout",
     "output_type": "stream",
     "text": [
      "batch_size = 250\n",
      "Train on 10 samples, validate on 1 samples\n",
      "Epoch 1/500\n",
      "10/10 [==============================] - 4s 392ms/step - loss: 276.4857 - val_loss: 253.9174\n",
      "Epoch 2/500\n",
      "10/10 [==============================] - 0s 14ms/step - loss: 256.8421 - val_loss: 146.9468\n",
      "Epoch 3/500\n",
      "10/10 [==============================] - 0s 16ms/step - loss: 168.9059 - val_loss: 71.3815\n",
      "Epoch 4/500\n",
      "10/10 [==============================] - 0s 15ms/step - loss: 92.4452 - val_loss: 75.9005\n",
      "Epoch 5/500\n",
      "10/10 [==============================] - 0s 15ms/step - loss: 85.9864 - val_loss: 59.3080\n",
      "Epoch 6/500\n",
      "10/10 [==============================] - 0s 15ms/step - loss: 70.5370 - val_loss: 81.6619\n",
      "Epoch 7/500\n",
      "10/10 [==============================] - 0s 15ms/step - loss: 75.6503 - val_loss: 125.7302\n",
      "Epoch 8/500\n",
      "10/10 [==============================] - 0s 15ms/step - loss: 60.5064 - val_loss: 63.2535\n",
      "Epoch 9/500\n",
      "10/10 [==============================] - 0s 15ms/step - loss: 76.9737 - val_loss: 62.3587\n",
      "Epoch 10/500\n",
      "10/10 [==============================] - 0s 15ms/step - loss: 62.5969 - val_loss: 53.2267\n",
      "Epoch 11/500\n",
      "10/10 [==============================] - 0s 13ms/step - loss: 57.8089 - val_loss: 64.7649\n",
      "Epoch 12/500\n",
      "10/10 [==============================] - 0s 13ms/step - loss: 53.7114 - val_loss: 68.3453\n",
      "Epoch 13/500\n",
      "10/10 [==============================] - 0s 13ms/step - loss: 55.9907 - val_loss: 67.7648\n",
      "Epoch 14/500\n",
      "10/10 [==============================] - 0s 16ms/step - loss: 49.7196 - val_loss: 65.6959\n",
      "Epoch 15/500\n",
      "10/10 [==============================] - 0s 16ms/step - loss: 50.3916 - val_loss: 59.4304\n",
      "Epoch 16/500\n",
      "10/10 [==============================] - 0s 15ms/step - loss: 48.6951 - val_loss: 65.3624\n",
      "Epoch 17/500\n",
      "10/10 [==============================] - 0s 13ms/step - loss: 51.7816 - val_loss: 66.0285\n",
      "Epoch 18/500\n",
      "10/10 [==============================] - 0s 14ms/step - loss: 48.8203 - val_loss: 73.4941\n",
      "Epoch 19/500\n",
      "10/10 [==============================] - 0s 14ms/step - loss: 50.5950 - val_loss: 67.4035\n",
      "Epoch 20/500\n",
      "10/10 [==============================] - 0s 16ms/step - loss: 46.4902 - val_loss: 71.9355\n",
      "Epoch 21/500\n",
      "10/10 [==============================] - 0s 16ms/step - loss: 50.5732 - val_loss: 67.2773\n",
      "Epoch 22/500\n",
      "10/10 [==============================] - 0s 13ms/step - loss: 54.4963 - val_loss: 56.2927\n",
      "Epoch 23/500\n",
      "10/10 [==============================] - 0s 14ms/step - loss: 46.0655 - val_loss: 69.9947\n",
      "Epoch 24/500\n",
      "10/10 [==============================] - 0s 19ms/step - loss: 46.9602 - val_loss: 95.4074\n",
      "Epoch 25/500\n",
      "10/10 [==============================] - 0s 18ms/step - loss: 48.3352 - val_loss: 87.4821\n",
      "Epoch 26/500\n",
      "10/10 [==============================] - 0s 13ms/step - loss: 47.3348 - val_loss: 78.5483\n",
      "Epoch 27/500\n",
      "10/10 [==============================] - 0s 13ms/step - loss: 47.9990 - val_loss: 73.9015\n",
      "Epoch 28/500\n",
      "10/10 [==============================] - 0s 13ms/step - loss: 54.7792 - val_loss: 76.2082\n",
      "Epoch 29/500\n",
      "10/10 [==============================] - 0s 14ms/step - loss: 48.3782 - val_loss: 66.4264\n",
      "Epoch 30/500\n",
      "10/10 [==============================] - 0s 14ms/step - loss: 45.9857 - val_loss: 74.9445\n",
      "Epoch 31/500\n",
      "10/10 [==============================] - 0s 15ms/step - loss: 49.4695 - val_loss: 94.9904\n",
      "Epoch 32/500\n",
      "10/10 [==============================] - 0s 14ms/step - loss: 47.6059 - val_loss: 76.0455\n",
      "Epoch 33/500\n",
      "10/10 [==============================] - 0s 13ms/step - loss: 49.4088 - val_loss: 90.5254\n",
      "Epoch 34/500\n",
      "10/10 [==============================] - 0s 15ms/step - loss: 45.7967 - val_loss: 70.0956\n",
      "Epoch 35/500\n",
      "10/10 [==============================] - 0s 16ms/step - loss: 45.0458 - val_loss: 70.6783\n",
      "Epoch 36/500\n",
      "10/10 [==============================] - 0s 16ms/step - loss: 47.5116 - val_loss: 74.0438\n",
      "Epoch 37/500\n",
      "10/10 [==============================] - 0s 14ms/step - loss: 44.7818 - val_loss: 56.1846\n",
      "Epoch 38/500\n",
      "10/10 [==============================] - 0s 14ms/step - loss: 46.4838 - val_loss: 81.2565\n",
      "Epoch 39/500\n",
      "10/10 [==============================] - 0s 14ms/step - loss: 46.1447 - val_loss: 63.7525\n",
      "Epoch 40/500\n",
      "10/10 [==============================] - 0s 14ms/step - loss: 60.6071 - val_loss: 70.7918\n",
      "Epoch 41/500\n",
      "10/10 [==============================] - 0s 13ms/step - loss: 46.3673 - val_loss: 67.5421\n",
      "Epoch 42/500\n",
      "10/10 [==============================] - 0s 13ms/step - loss: 45.2736 - val_loss: 78.2941\n",
      "Epoch 43/500\n",
      "10/10 [==============================] - 0s 12ms/step - loss: 45.9642 - val_loss: 82.0791\n",
      "Epoch 44/500\n",
      "10/10 [==============================] - 0s 21ms/step - loss: 42.7586 - val_loss: 70.3076\n",
      "Epoch 45/500\n",
      "10/10 [==============================] - 0s 15ms/step - loss: 52.6485 - val_loss: 71.8653\n",
      "Epoch 46/500\n",
      "10/10 [==============================] - 0s 15ms/step - loss: 44.4016 - val_loss: 59.8252\n",
      "Epoch 47/500\n",
      "10/10 [==============================] - 0s 17ms/step - loss: 42.8485 - val_loss: 60.5766\n",
      "Epoch 48/500\n",
      "10/10 [==============================] - 0s 17ms/step - loss: 46.9906 - val_loss: 75.3627\n",
      "Epoch 49/500\n",
      "10/10 [==============================] - 0s 19ms/step - loss: 42.4047 - val_loss: 60.9927\n",
      "Epoch 50/500\n",
      "10/10 [==============================] - 0s 14ms/step - loss: 43.5726 - val_loss: 54.4443\n",
      "Epoch 51/500\n",
      "10/10 [==============================] - 0s 15ms/step - loss: 47.6447 - val_loss: 55.4168\n",
      "Epoch 52/500\n",
      "10/10 [==============================] - 0s 17ms/step - loss: 42.3580 - val_loss: 54.8979\n",
      "Epoch 53/500\n",
      "10/10 [==============================] - 0s 16ms/step - loss: 43.3401 - val_loss: 69.7454\n",
      "Epoch 54/500\n",
      "10/10 [==============================] - 0s 18ms/step - loss: 54.4699 - val_loss: 56.3782\n",
      "Epoch 55/500\n",
      "10/10 [==============================] - 0s 16ms/step - loss: 44.6707 - val_loss: 60.9018\n",
      "Epoch 56/500\n",
      "10/10 [==============================] - 0s 17ms/step - loss: 47.7543 - val_loss: 79.2960\n",
      "Epoch 57/500\n",
      "10/10 [==============================] - 0s 16ms/step - loss: 47.2082 - val_loss: 61.7461\n",
      "Epoch 58/500\n",
      "10/10 [==============================] - 0s 17ms/step - loss: 45.3712 - val_loss: 91.6764\n",
      "Epoch 59/500\n",
      "10/10 [==============================] - 0s 18ms/step - loss: 43.6709 - val_loss: 73.5246\n",
      "Epoch 60/500\n",
      "10/10 [==============================] - 0s 19ms/step - loss: 42.3084 - val_loss: 67.9736\n",
      "Epoch 61/500\n",
      "10/10 [==============================] - 0s 14ms/step - loss: 42.8070 - val_loss: 60.1965\n",
      "Epoch 62/500\n",
      "10/10 [==============================] - 0s 15ms/step - loss: 43.8634 - val_loss: 56.9109\n",
      "Epoch 63/500\n",
      "10/10 [==============================] - 0s 14ms/step - loss: 43.5304 - val_loss: 63.5172\n",
      "Epoch 64/500\n",
      "10/10 [==============================] - 0s 14ms/step - loss: 40.8754 - val_loss: 57.7020\n",
      "Epoch 65/500\n",
      "10/10 [==============================] - 0s 14ms/step - loss: 43.5611 - val_loss: 74.4434\n",
      "Epoch 66/500\n",
      "10/10 [==============================] - 0s 15ms/step - loss: 43.8728 - val_loss: 72.2031\n",
      "Epoch 67/500\n",
      "10/10 [==============================] - 0s 14ms/step - loss: 50.8408 - val_loss: 58.5559\n",
      "Epoch 68/500\n",
      "10/10 [==============================] - 0s 14ms/step - loss: 44.1133 - val_loss: 75.7075\n",
      "Epoch 69/500\n",
      "10/10 [==============================] - 0s 14ms/step - loss: 49.6385 - val_loss: 59.3057\n",
      "Epoch 70/500\n",
      "10/10 [==============================] - 0s 15ms/step - loss: 46.3281 - val_loss: 64.6321\n",
      "Epoch 71/500\n",
      "10/10 [==============================] - 0s 15ms/step - loss: 45.0224 - val_loss: 57.6187\n",
      "Epoch 72/500\n",
      "10/10 [==============================] - 0s 18ms/step - loss: 43.5181 - val_loss: 72.8240\n",
      "Epoch 73/500\n",
      "10/10 [==============================] - 0s 17ms/step - loss: 44.3349 - val_loss: 60.3109\n",
      "Epoch 74/500\n",
      "10/10 [==============================] - 0s 15ms/step - loss: 43.3811 - val_loss: 67.3791\n",
      "Epoch 75/500\n",
      "10/10 [==============================] - 0s 14ms/step - loss: 42.8266 - val_loss: 78.9453\n",
      "Epoch 76/500\n",
      "10/10 [==============================] - 0s 18ms/step - loss: 41.6201 - val_loss: 82.5734\n",
      "Epoch 77/500\n",
      "10/10 [==============================] - 0s 17ms/step - loss: 40.7165 - val_loss: 91.4088\n",
      "Epoch 78/500\n",
      "10/10 [==============================] - 0s 14ms/step - loss: 48.8723 - val_loss: 68.1078\n",
      "Epoch 79/500\n",
      "10/10 [==============================] - 0s 18ms/step - loss: 44.8273 - val_loss: 66.4975\n"
     ]
    },
    {
     "name": "stdout",
     "output_type": "stream",
     "text": [
      "Epoch 80/500\n",
      "10/10 [==============================] - 0s 17ms/step - loss: 43.5908 - val_loss: 85.3949\n",
      "Epoch 81/500\n",
      "10/10 [==============================] - 0s 13ms/step - loss: 45.4146 - val_loss: 83.9843\n",
      "Epoch 82/500\n",
      "10/10 [==============================] - 0s 14ms/step - loss: 42.1207 - val_loss: 77.0451\n",
      "Epoch 83/500\n",
      "10/10 [==============================] - 0s 15ms/step - loss: 41.6005 - val_loss: 76.6848\n",
      "Epoch 84/500\n",
      "10/10 [==============================] - 0s 15ms/step - loss: 50.8158 - val_loss: 78.2363\n",
      "Epoch 85/500\n",
      "10/10 [==============================] - 0s 13ms/step - loss: 43.8260 - val_loss: 70.0656\n",
      "Epoch 86/500\n",
      "10/10 [==============================] - 0s 12ms/step - loss: 43.1415 - val_loss: 55.1556\n",
      "Epoch 87/500\n",
      "10/10 [==============================] - 0s 12ms/step - loss: 42.1136 - val_loss: 72.4220\n",
      "Epoch 88/500\n",
      "10/10 [==============================] - 0s 12ms/step - loss: 42.2899 - val_loss: 56.9639\n",
      "Epoch 89/500\n",
      "10/10 [==============================] - 0s 12ms/step - loss: 41.9211 - val_loss: 108.1448\n",
      "Epoch 90/500\n",
      "10/10 [==============================] - 0s 12ms/step - loss: 42.2139 - val_loss: 54.3209\n",
      "Epoch 91/500\n",
      "10/10 [==============================] - 0s 12ms/step - loss: 41.8072 - val_loss: 119.7547\n",
      "Epoch 92/500\n",
      "10/10 [==============================] - 0s 12ms/step - loss: 45.2148 - val_loss: 76.9091\n",
      "Epoch 93/500\n",
      "10/10 [==============================] - 0s 12ms/step - loss: 41.3814 - val_loss: 77.9442\n",
      "Epoch 94/500\n",
      "10/10 [==============================] - 0s 12ms/step - loss: 42.0247 - val_loss: 83.4887\n",
      "Epoch 95/500\n",
      "10/10 [==============================] - 0s 12ms/step - loss: 42.8492 - val_loss: 88.2284\n",
      "Epoch 96/500\n",
      "10/10 [==============================] - 0s 13ms/step - loss: 46.8980 - val_loss: 72.5212\n",
      "Epoch 97/500\n",
      "10/10 [==============================] - 0s 13ms/step - loss: 42.8220 - val_loss: 64.9242\n",
      "Epoch 98/500\n",
      "10/10 [==============================] - 0s 13ms/step - loss: 45.2599 - val_loss: 62.3710\n",
      "Epoch 99/500\n",
      "10/10 [==============================] - 0s 11ms/step - loss: 46.5932 - val_loss: 61.2256\n",
      "Epoch 100/500\n",
      "10/10 [==============================] - 0s 16ms/step - loss: 41.7154 - val_loss: 78.8091\n",
      "Epoch 101/500\n",
      "10/10 [==============================] - 0s 16ms/step - loss: 41.4120 - val_loss: 84.5220\n",
      "Epoch 102/500\n",
      "10/10 [==============================] - 0s 13ms/step - loss: 40.3279 - val_loss: 77.8178\n",
      "Epoch 103/500\n",
      "10/10 [==============================] - 0s 13ms/step - loss: 41.5824 - val_loss: 60.9737\n",
      "Epoch 104/500\n",
      "10/10 [==============================] - 0s 13ms/step - loss: 44.1762 - val_loss: 62.2461\n",
      "Epoch 105/500\n",
      "10/10 [==============================] - 0s 13ms/step - loss: 44.5385 - val_loss: 80.6700\n",
      "Epoch 106/500\n",
      "10/10 [==============================] - 0s 14ms/step - loss: 44.2912 - val_loss: 63.3482\n",
      "Epoch 107/500\n",
      "10/10 [==============================] - 0s 13ms/step - loss: 44.5462 - val_loss: 69.1196\n",
      "Epoch 108/500\n",
      "10/10 [==============================] - 0s 14ms/step - loss: 42.5534 - val_loss: 64.6378\n",
      "Epoch 109/500\n",
      "10/10 [==============================] - 0s 13ms/step - loss: 44.7885 - val_loss: 75.9546\n",
      "Epoch 110/500\n",
      "10/10 [==============================] - 0s 13ms/step - loss: 42.4880 - val_loss: 61.6163\n",
      "Epoch 111/500\n",
      "10/10 [==============================] - 0s 20ms/step - loss: 43.2451 - val_loss: 58.8319\n",
      "Epoch 112/500\n",
      "10/10 [==============================] - 0s 21ms/step - loss: 43.6172 - val_loss: 62.6762\n",
      "Epoch 113/500\n",
      "10/10 [==============================] - 0s 16ms/step - loss: 42.5512 - val_loss: 60.7583\n",
      "Epoch 114/500\n",
      "10/10 [==============================] - 0s 14ms/step - loss: 45.7083 - val_loss: 86.4384\n",
      "Epoch 115/500\n",
      "10/10 [==============================] - 0s 14ms/step - loss: 42.4525 - val_loss: 76.0050\n",
      "Epoch 116/500\n",
      "10/10 [==============================] - 0s 15ms/step - loss: 41.0405 - val_loss: 75.3007\n",
      "Epoch 117/500\n",
      "10/10 [==============================] - 0s 14ms/step - loss: 41.7783 - val_loss: 65.9713\n",
      "Epoch 118/500\n",
      "10/10 [==============================] - 0s 14ms/step - loss: 40.1576 - val_loss: 65.1970\n",
      "Epoch 119/500\n",
      "10/10 [==============================] - 0s 13ms/step - loss: 43.4259 - val_loss: 88.6283\n",
      "Epoch 120/500\n",
      "10/10 [==============================] - 0s 15ms/step - loss: 43.8985 - val_loss: 89.9986\n",
      "Epoch 121/500\n",
      "10/10 [==============================] - 0s 20ms/step - loss: 42.2708 - val_loss: 81.4812\n",
      "Epoch 122/500\n",
      "10/10 [==============================] - 0s 12ms/step - loss: 42.8212 - val_loss: 87.3372\n",
      "Epoch 123/500\n",
      "10/10 [==============================] - 0s 19ms/step - loss: 44.5607 - val_loss: 81.9600\n",
      "Epoch 124/500\n",
      "10/10 [==============================] - 0s 17ms/step - loss: 44.2124 - val_loss: 69.2345\n",
      "Epoch 125/500\n",
      "10/10 [==============================] - 0s 17ms/step - loss: 54.1269 - val_loss: 68.3173\n",
      "Epoch 126/500\n",
      "10/10 [==============================] - 0s 18ms/step - loss: 41.7581 - val_loss: 61.2875\n",
      "Epoch 127/500\n",
      "10/10 [==============================] - 0s 19ms/step - loss: 41.0355 - val_loss: 76.2654\n",
      "Epoch 128/500\n",
      "10/10 [==============================] - 0s 17ms/step - loss: 43.0376 - val_loss: 98.7415\n",
      "Epoch 129/500\n",
      "10/10 [==============================] - 0s 15ms/step - loss: 43.4454 - val_loss: 85.1783\n",
      "Epoch 130/500\n",
      "10/10 [==============================] - 0s 19ms/step - loss: 41.9316 - val_loss: 59.0442\n",
      "Epoch 131/500\n",
      "10/10 [==============================] - 0s 14ms/step - loss: 48.3300 - val_loss: 77.8148\n",
      "Epoch 132/500\n",
      "10/10 [==============================] - 0s 14ms/step - loss: 42.7514 - val_loss: 57.7497\n",
      "Epoch 133/500\n",
      "10/10 [==============================] - 0s 14ms/step - loss: 42.6118 - val_loss: 84.1616\n",
      "Epoch 134/500\n",
      "10/10 [==============================] - 0s 14ms/step - loss: 40.4095 - val_loss: 64.1306\n",
      "Epoch 135/500\n",
      "10/10 [==============================] - 0s 14ms/step - loss: 41.4725 - val_loss: 75.9365\n",
      "Epoch 136/500\n",
      "10/10 [==============================] - 0s 16ms/step - loss: 41.9448 - val_loss: 65.5617\n",
      "Epoch 137/500\n",
      "10/10 [==============================] - 0s 21ms/step - loss: 49.5064 - val_loss: 58.2456\n",
      "Epoch 138/500\n",
      "10/10 [==============================] - 0s 15ms/step - loss: 46.6756 - val_loss: 75.3272\n",
      "Epoch 139/500\n",
      "10/10 [==============================] - 0s 19ms/step - loss: 41.0949 - val_loss: 72.5012\n",
      "Epoch 140/500\n",
      "10/10 [==============================] - 0s 17ms/step - loss: 43.1165 - val_loss: 60.0779\n",
      "Epoch 141/500\n",
      "10/10 [==============================] - 0s 15ms/step - loss: 43.5302 - val_loss: 71.8366\n",
      "Epoch 142/500\n",
      "10/10 [==============================] - 0s 17ms/step - loss: 43.8895 - val_loss: 61.8507\n",
      "Epoch 143/500\n",
      "10/10 [==============================] - 0s 17ms/step - loss: 42.3294 - val_loss: 62.9139\n",
      "Epoch 144/500\n",
      "10/10 [==============================] - 0s 16ms/step - loss: 46.2307 - val_loss: 72.1175\n",
      "Epoch 145/500\n",
      "10/10 [==============================] - 0s 16ms/step - loss: 40.3616 - val_loss: 87.9122\n",
      "Epoch 146/500\n",
      "10/10 [==============================] - 0s 14ms/step - loss: 45.1669 - val_loss: 58.3755\n",
      "Epoch 147/500\n",
      "10/10 [==============================] - 0s 17ms/step - loss: 41.1610 - val_loss: 67.4413\n",
      "Epoch 148/500\n",
      "10/10 [==============================] - 0s 17ms/step - loss: 42.0299 - val_loss: 68.5658\n",
      "Epoch 149/500\n",
      "10/10 [==============================] - 0s 14ms/step - loss: 41.6156 - val_loss: 60.0923\n",
      "Epoch 150/500\n",
      "10/10 [==============================] - 0s 15ms/step - loss: 46.3415 - val_loss: 78.2981\n",
      "Epoch 151/500\n",
      "10/10 [==============================] - 0s 16ms/step - loss: 42.9535 - val_loss: 73.7946\n",
      "Epoch 152/500\n",
      "10/10 [==============================] - 0s 14ms/step - loss: 41.9113 - val_loss: 62.9041\n",
      "Epoch 153/500\n",
      "10/10 [==============================] - 0s 14ms/step - loss: 41.8063 - val_loss: 70.6319\n",
      "Epoch 154/500\n",
      "10/10 [==============================] - 0s 14ms/step - loss: 41.0922 - val_loss: 82.8651\n",
      "Epoch 155/500\n",
      "10/10 [==============================] - 0s 14ms/step - loss: 40.2335 - val_loss: 60.1296\n",
      "Epoch 156/500\n",
      "10/10 [==============================] - 0s 14ms/step - loss: 44.9317 - val_loss: 62.6877\n",
      "Epoch 157/500\n",
      "10/10 [==============================] - 0s 14ms/step - loss: 42.8490 - val_loss: 63.4609\n",
      "Epoch 158/500\n",
      "10/10 [==============================] - 0s 14ms/step - loss: 42.5517 - val_loss: 82.4955\n"
     ]
    },
    {
     "name": "stdout",
     "output_type": "stream",
     "text": [
      "Epoch 159/500\n",
      "10/10 [==============================] - 0s 13ms/step - loss: 39.8677 - val_loss: 64.8404\n",
      "Epoch 160/500\n",
      "10/10 [==============================] - 0s 12ms/step - loss: 41.8634 - val_loss: 90.8856\n",
      "Epoch 161/500\n",
      "10/10 [==============================] - 0s 14ms/step - loss: 41.5267 - val_loss: 85.4833\n",
      "Epoch 162/500\n",
      "10/10 [==============================] - 0s 13ms/step - loss: 40.8917 - val_loss: 72.7640\n",
      "Epoch 163/500\n",
      "10/10 [==============================] - 0s 13ms/step - loss: 47.6588 - val_loss: 78.6437\n",
      "Epoch 164/500\n",
      "10/10 [==============================] - 0s 12ms/step - loss: 40.5542 - val_loss: 75.0338\n",
      "Epoch 165/500\n",
      "10/10 [==============================] - 0s 14ms/step - loss: 42.7129 - val_loss: 83.2322\n",
      "Epoch 166/500\n",
      "10/10 [==============================] - 0s 13ms/step - loss: 42.3642 - val_loss: 70.2148\n",
      "Epoch 167/500\n",
      "10/10 [==============================] - 0s 13ms/step - loss: 40.8538 - val_loss: 81.8850\n",
      "Epoch 168/500\n",
      "10/10 [==============================] - 0s 12ms/step - loss: 41.6042 - val_loss: 78.6323\n",
      "Epoch 169/500\n",
      "10/10 [==============================] - 0s 15ms/step - loss: 41.5366 - val_loss: 85.3308\n",
      "Epoch 170/500\n",
      "10/10 [==============================] - 0s 14ms/step - loss: 42.9095 - val_loss: 74.3688\n",
      "Epoch 171/500\n",
      "10/10 [==============================] - 0s 14ms/step - loss: 41.5497 - val_loss: 75.8911\n",
      "Epoch 172/500\n",
      "10/10 [==============================] - 0s 14ms/step - loss: 41.3725 - val_loss: 61.2625\n",
      "Epoch 173/500\n",
      "10/10 [==============================] - 0s 13ms/step - loss: 40.6862 - val_loss: 70.3219\n",
      "Epoch 174/500\n",
      "10/10 [==============================] - 0s 13ms/step - loss: 41.6299 - val_loss: 72.1559\n",
      "Epoch 175/500\n",
      "10/10 [==============================] - 0s 16ms/step - loss: 42.8417 - val_loss: 94.9521\n",
      "Epoch 176/500\n",
      "10/10 [==============================] - 0s 13ms/step - loss: 45.1226 - val_loss: 70.8457\n",
      "Epoch 177/500\n",
      "10/10 [==============================] - 0s 13ms/step - loss: 49.0814 - val_loss: 84.9379\n",
      "Epoch 178/500\n",
      "10/10 [==============================] - 0s 13ms/step - loss: 40.7345 - val_loss: 85.7778\n",
      "Epoch 179/500\n",
      "10/10 [==============================] - 0s 14ms/step - loss: 45.5193 - val_loss: 71.3064\n",
      "Epoch 180/500\n",
      "10/10 [==============================] - 0s 14ms/step - loss: 39.0445 - val_loss: 70.5808\n",
      "Epoch 181/500\n",
      "10/10 [==============================] - 0s 13ms/step - loss: 44.6593 - val_loss: 58.5312\n",
      "Epoch 182/500\n",
      "10/10 [==============================] - 0s 13ms/step - loss: 40.4689 - val_loss: 77.8527\n",
      "Epoch 183/500\n",
      "10/10 [==============================] - 0s 17ms/step - loss: 41.6120 - val_loss: 70.4083\n",
      "Epoch 184/500\n",
      "10/10 [==============================] - 0s 16ms/step - loss: 41.4593 - val_loss: 104.1026\n",
      "Epoch 185/500\n",
      "10/10 [==============================] - 0s 14ms/step - loss: 43.2661 - val_loss: 89.6826\n",
      "Epoch 186/500\n",
      "10/10 [==============================] - 0s 13ms/step - loss: 40.5304 - val_loss: 84.8810\n",
      "Epoch 187/500\n",
      "10/10 [==============================] - 0s 13ms/step - loss: 42.8386 - val_loss: 77.6772\n",
      "Epoch 188/500\n",
      "10/10 [==============================] - 0s 13ms/step - loss: 40.6138 - val_loss: 80.4112\n",
      "Epoch 189/500\n",
      "10/10 [==============================] - 0s 13ms/step - loss: 42.4080 - val_loss: 62.3609\n",
      "Epoch 190/500\n",
      "10/10 [==============================] - 0s 13ms/step - loss: 38.7815 - val_loss: 80.8879\n",
      "Epoch 191/500\n",
      "10/10 [==============================] - 0s 13ms/step - loss: 44.7046 - val_loss: 86.4414\n",
      "Epoch 192/500\n",
      "10/10 [==============================] - 0s 13ms/step - loss: 40.0115 - val_loss: 81.7873\n",
      "Epoch 193/500\n",
      "10/10 [==============================] - 0s 14ms/step - loss: 46.6025 - val_loss: 69.0312\n",
      "Epoch 194/500\n",
      "10/10 [==============================] - 0s 13ms/step - loss: 40.6584 - val_loss: 73.0508\n",
      "Epoch 195/500\n",
      "10/10 [==============================] - 0s 13ms/step - loss: 39.7506 - val_loss: 69.8576\n",
      "Epoch 196/500\n",
      "10/10 [==============================] - 0s 14ms/step - loss: 40.2055 - val_loss: 82.8662\n",
      "Epoch 197/500\n",
      "10/10 [==============================] - 0s 14ms/step - loss: 41.1560 - val_loss: 65.6689\n",
      "Epoch 198/500\n",
      "10/10 [==============================] - 0s 13ms/step - loss: 41.7457 - val_loss: 71.1001\n",
      "Epoch 199/500\n",
      "10/10 [==============================] - 0s 13ms/step - loss: 45.9896 - val_loss: 76.6823\n",
      "Epoch 200/500\n",
      "10/10 [==============================] - 0s 13ms/step - loss: 42.3520 - val_loss: 75.6198\n",
      "Epoch 201/500\n",
      "10/10 [==============================] - 0s 14ms/step - loss: 41.2754 - val_loss: 83.3265\n",
      "Epoch 202/500\n",
      "10/10 [==============================] - 0s 17ms/step - loss: 40.3493 - val_loss: 60.3672\n",
      "Epoch 203/500\n",
      "10/10 [==============================] - 0s 17ms/step - loss: 44.3665 - val_loss: 84.3060\n",
      "Epoch 204/500\n",
      "10/10 [==============================] - 0s 16ms/step - loss: 39.0998 - val_loss: 63.5272\n",
      "Epoch 205/500\n",
      "10/10 [==============================] - 0s 18ms/step - loss: 41.6068 - val_loss: 87.4248\n",
      "Epoch 206/500\n",
      "10/10 [==============================] - 0s 16ms/step - loss: 39.8017 - val_loss: 72.1801\n",
      "Epoch 207/500\n",
      "10/10 [==============================] - 0s 14ms/step - loss: 42.4197 - val_loss: 89.3869\n",
      "Epoch 208/500\n",
      "10/10 [==============================] - 0s 17ms/step - loss: 43.0198 - val_loss: 63.0119\n",
      "Epoch 209/500\n",
      "10/10 [==============================] - 0s 18ms/step - loss: 41.4647 - val_loss: 86.9461\n",
      "Epoch 210/500\n",
      "10/10 [==============================] - 0s 14ms/step - loss: 41.4591 - val_loss: 88.2406\n",
      "Epoch 211/500\n",
      "10/10 [==============================] - 0s 13ms/step - loss: 39.8873 - val_loss: 114.2594\n",
      "Epoch 212/500\n",
      "10/10 [==============================] - 0s 14ms/step - loss: 39.1567 - val_loss: 85.7533\n",
      "Epoch 213/500\n",
      "10/10 [==============================] - 0s 15ms/step - loss: 39.1109 - val_loss: 123.3205\n",
      "Epoch 214/500\n",
      "10/10 [==============================] - 0s 13ms/step - loss: 39.7703 - val_loss: 72.1503\n",
      "Epoch 215/500\n",
      "10/10 [==============================] - 0s 14ms/step - loss: 41.3411 - val_loss: 80.9520\n",
      "Epoch 216/500\n",
      "10/10 [==============================] - 0s 14ms/step - loss: 40.2987 - val_loss: 83.8579\n",
      "Epoch 217/500\n",
      "10/10 [==============================] - 0s 17ms/step - loss: 39.4700 - val_loss: 85.2406\n",
      "Epoch 218/500\n",
      "10/10 [==============================] - 0s 16ms/step - loss: 41.9437 - val_loss: 80.5048\n",
      "Epoch 219/500\n",
      "10/10 [==============================] - 0s 15ms/step - loss: 39.3688 - val_loss: 92.1047\n",
      "Epoch 220/500\n",
      "10/10 [==============================] - 0s 14ms/step - loss: 40.0837 - val_loss: 76.8486\n",
      "Epoch 221/500\n",
      "10/10 [==============================] - 0s 14ms/step - loss: 42.1968 - val_loss: 70.9854\n",
      "Epoch 222/500\n",
      "10/10 [==============================] - 0s 15ms/step - loss: 46.5481 - val_loss: 89.9665\n",
      "Epoch 223/500\n",
      "10/10 [==============================] - 0s 14ms/step - loss: 42.7284 - val_loss: 73.7841\n",
      "Epoch 224/500\n",
      "10/10 [==============================] - 0s 14ms/step - loss: 39.8823 - val_loss: 92.0595\n",
      "Epoch 225/500\n",
      "10/10 [==============================] - 0s 15ms/step - loss: 43.2776 - val_loss: 69.0684\n",
      "Epoch 226/500\n",
      "10/10 [==============================] - 0s 14ms/step - loss: 41.1692 - val_loss: 139.2699\n",
      "Epoch 227/500\n",
      "10/10 [==============================] - 0s 14ms/step - loss: 43.0211 - val_loss: 63.0720\n",
      "Epoch 228/500\n",
      "10/10 [==============================] - 0s 18ms/step - loss: 43.6247 - val_loss: 86.9914\n",
      "Epoch 229/500\n",
      "10/10 [==============================] - 0s 17ms/step - loss: 60.9024 - val_loss: 71.8814\n",
      "Epoch 230/500\n",
      "10/10 [==============================] - 0s 15ms/step - loss: 43.1283 - val_loss: 72.7538\n",
      "Epoch 231/500\n",
      "10/10 [==============================] - 0s 14ms/step - loss: 40.9219 - val_loss: 78.7020\n",
      "Epoch 232/500\n",
      "10/10 [==============================] - 0s 15ms/step - loss: 40.1187 - val_loss: 81.5785\n",
      "Epoch 233/500\n",
      "10/10 [==============================] - 0s 15ms/step - loss: 41.2755 - val_loss: 85.7481\n",
      "Epoch 234/500\n",
      "10/10 [==============================] - 0s 17ms/step - loss: 43.9419 - val_loss: 90.4974\n",
      "Epoch 235/500\n",
      "10/10 [==============================] - 0s 14ms/step - loss: 40.1471 - val_loss: 84.4344\n",
      "Epoch 236/500\n",
      "10/10 [==============================] - 0s 14ms/step - loss: 39.7094 - val_loss: 78.1368\n",
      "Epoch 237/500\n",
      "10/10 [==============================] - 0s 13ms/step - loss: 43.8528 - val_loss: 84.7695\n"
     ]
    },
    {
     "name": "stdout",
     "output_type": "stream",
     "text": [
      "Epoch 238/500\n",
      "10/10 [==============================] - 0s 13ms/step - loss: 39.0345 - val_loss: 81.5553\n",
      "Epoch 239/500\n",
      "10/10 [==============================] - 0s 13ms/step - loss: 38.8857 - val_loss: 86.6029\n",
      "Epoch 240/500\n",
      "10/10 [==============================] - 0s 13ms/step - loss: 41.7447 - val_loss: 77.0449\n",
      "Epoch 241/500\n",
      "10/10 [==============================] - 0s 12ms/step - loss: 44.7313 - val_loss: 81.6854\n",
      "Epoch 242/500\n",
      "10/10 [==============================] - 0s 12ms/step - loss: 40.6988 - val_loss: 95.2085\n",
      "Epoch 243/500\n",
      "10/10 [==============================] - 0s 11ms/step - loss: 43.6078 - val_loss: 94.3937\n",
      "Epoch 244/500\n",
      "10/10 [==============================] - 0s 13ms/step - loss: 42.1653 - val_loss: 63.0593\n",
      "Epoch 245/500\n",
      "10/10 [==============================] - 0s 12ms/step - loss: 39.2641 - val_loss: 82.8035\n",
      "Epoch 246/500\n",
      "10/10 [==============================] - 0s 16ms/step - loss: 37.6164 - val_loss: 87.3904\n",
      "Epoch 247/500\n",
      "10/10 [==============================] - 0s 16ms/step - loss: 39.7665 - val_loss: 70.7105\n",
      "Epoch 248/500\n",
      "10/10 [==============================] - 0s 13ms/step - loss: 38.8759 - val_loss: 63.4467\n",
      "Epoch 249/500\n",
      "10/10 [==============================] - 0s 12ms/step - loss: 41.4006 - val_loss: 80.0224\n",
      "Epoch 250/500\n",
      "10/10 [==============================] - 0s 12ms/step - loss: 41.2927 - val_loss: 83.9772\n",
      "Epoch 251/500\n",
      "10/10 [==============================] - 0s 14ms/step - loss: 39.2870 - val_loss: 89.3283\n",
      "Epoch 252/500\n",
      "10/10 [==============================] - 0s 13ms/step - loss: 46.0273 - val_loss: 91.8565\n",
      "Epoch 253/500\n",
      "10/10 [==============================] - 0s 13ms/step - loss: 40.0419 - val_loss: 83.7940\n",
      "Epoch 254/500\n",
      "10/10 [==============================] - 0s 13ms/step - loss: 43.4776 - val_loss: 71.8570\n",
      "Epoch 255/500\n",
      "10/10 [==============================] - 0s 13ms/step - loss: 41.3261 - val_loss: 84.8444\n",
      "Epoch 256/500\n",
      "10/10 [==============================] - 0s 12ms/step - loss: 43.7189 - val_loss: 61.4561\n",
      "Epoch 257/500\n",
      "10/10 [==============================] - 0s 16ms/step - loss: 43.5294 - val_loss: 62.5900\n",
      "Epoch 258/500\n",
      "10/10 [==============================] - 0s 16ms/step - loss: 38.4811 - val_loss: 77.9941\n",
      "Epoch 259/500\n",
      "10/10 [==============================] - 0s 14ms/step - loss: 43.5933 - val_loss: 69.9169\n",
      "Epoch 260/500\n",
      "10/10 [==============================] - 0s 13ms/step - loss: 38.4820 - val_loss: 85.6016\n",
      "Epoch 261/500\n",
      "10/10 [==============================] - 0s 13ms/step - loss: 47.1910 - val_loss: 78.9880\n",
      "Epoch 262/500\n",
      "10/10 [==============================] - 0s 13ms/step - loss: 40.3290 - val_loss: 61.7213\n",
      "Epoch 263/500\n",
      "10/10 [==============================] - 0s 12ms/step - loss: 41.2349 - val_loss: 75.4805\n",
      "Epoch 264/500\n",
      "10/10 [==============================] - 0s 15ms/step - loss: 39.3228 - val_loss: 75.5804\n",
      "Epoch 265/500\n",
      "10/10 [==============================] - 0s 17ms/step - loss: 37.3496 - val_loss: 88.5502\n",
      "Epoch 266/500\n",
      "10/10 [==============================] - 0s 13ms/step - loss: 43.7719 - val_loss: 74.4457\n",
      "Epoch 267/500\n",
      "10/10 [==============================] - 0s 13ms/step - loss: 42.0139 - val_loss: 88.3789\n",
      "Epoch 268/500\n",
      "10/10 [==============================] - 0s 13ms/step - loss: 37.5419 - val_loss: 63.5658\n",
      "Epoch 269/500\n",
      "10/10 [==============================] - 0s 12ms/step - loss: 42.5974 - val_loss: 79.3323\n",
      "Epoch 270/500\n",
      "10/10 [==============================] - 0s 14ms/step - loss: 40.9045 - val_loss: 85.0455\n",
      "Epoch 271/500\n",
      "10/10 [==============================] - 0s 12ms/step - loss: 41.1482 - val_loss: 78.0694\n",
      "Epoch 272/500\n",
      "10/10 [==============================] - 0s 15ms/step - loss: 42.2334 - val_loss: 81.4560\n",
      "Epoch 273/500\n",
      "10/10 [==============================] - 0s 17ms/step - loss: 41.4181 - val_loss: 69.3510\n",
      "Epoch 274/500\n",
      "10/10 [==============================] - 0s 14ms/step - loss: 39.9088 - val_loss: 107.8437\n",
      "Epoch 275/500\n",
      "10/10 [==============================] - 0s 14ms/step - loss: 38.9037 - val_loss: 81.4957\n",
      "Epoch 276/500\n",
      "10/10 [==============================] - 0s 12ms/step - loss: 37.4642 - val_loss: 78.6741\n",
      "Epoch 277/500\n",
      "10/10 [==============================] - 0s 15ms/step - loss: 41.9747 - val_loss: 91.3532\n",
      "Epoch 278/500\n",
      "10/10 [==============================] - 0s 15ms/step - loss: 47.9973 - val_loss: 95.9377\n",
      "Epoch 279/500\n",
      "10/10 [==============================] - 0s 12ms/step - loss: 39.3938 - val_loss: 85.1446\n",
      "Epoch 280/500\n",
      "10/10 [==============================] - 0s 12ms/step - loss: 41.8294 - val_loss: 68.7578\n",
      "Epoch 281/500\n",
      "10/10 [==============================] - 0s 18ms/step - loss: 38.0557 - val_loss: 74.1901\n",
      "Epoch 282/500\n",
      "10/10 [==============================] - 0s 19ms/step - loss: 38.9769 - val_loss: 74.5731\n",
      "Epoch 283/500\n",
      "10/10 [==============================] - 0s 16ms/step - loss: 38.2249 - val_loss: 87.2800\n",
      "Epoch 284/500\n",
      "10/10 [==============================] - 0s 18ms/step - loss: 44.4155 - val_loss: 87.0423\n",
      "Epoch 285/500\n",
      "10/10 [==============================] - 0s 17ms/step - loss: 40.7233 - val_loss: 84.7730\n",
      "Epoch 286/500\n",
      "10/10 [==============================] - 0s 17ms/step - loss: 41.6884 - val_loss: 81.8962\n",
      "Epoch 287/500\n",
      "10/10 [==============================] - 0s 17ms/step - loss: 39.7669 - val_loss: 89.0076\n",
      "Epoch 288/500\n",
      "10/10 [==============================] - 0s 17ms/step - loss: 39.2909 - val_loss: 85.9179\n",
      "Epoch 289/500\n",
      "10/10 [==============================] - 0s 17ms/step - loss: 38.2997 - val_loss: 83.2748\n",
      "Epoch 290/500\n",
      "10/10 [==============================] - 0s 17ms/step - loss: 47.3892 - val_loss: 88.8709\n",
      "Epoch 291/500\n",
      "10/10 [==============================] - 0s 15ms/step - loss: 43.7898 - val_loss: 85.8610\n",
      "Epoch 292/500\n",
      "10/10 [==============================] - 0s 18ms/step - loss: 43.1228 - val_loss: 77.8386\n",
      "Epoch 293/500\n",
      "10/10 [==============================] - 0s 18ms/step - loss: 40.5131 - val_loss: 87.6344\n",
      "Epoch 294/500\n",
      "10/10 [==============================] - 0s 15ms/step - loss: 41.4510 - val_loss: 84.8808\n",
      "Epoch 295/500\n",
      "10/10 [==============================] - 0s 14ms/step - loss: 37.1248 - val_loss: 82.3220\n",
      "Epoch 296/500\n",
      "10/10 [==============================] - 0s 18ms/step - loss: 44.5724 - val_loss: 79.1912\n",
      "Epoch 297/500\n",
      "10/10 [==============================] - 0s 14ms/step - loss: 42.7380 - val_loss: 83.9282\n",
      "Epoch 298/500\n",
      "10/10 [==============================] - 0s 14ms/step - loss: 39.6514 - val_loss: 85.9731\n",
      "Epoch 299/500\n",
      "10/10 [==============================] - 0s 15ms/step - loss: 40.1512 - val_loss: 84.3985\n",
      "Epoch 300/500\n",
      "10/10 [==============================] - 0s 16ms/step - loss: 40.8913 - val_loss: 85.0138\n",
      "Epoch 301/500\n",
      "10/10 [==============================] - 0s 15ms/step - loss: 39.0451 - val_loss: 81.6767\n",
      "Epoch 302/500\n",
      "10/10 [==============================] - 0s 22ms/step - loss: 39.0775 - val_loss: 167.6931\n",
      "Epoch 303/500\n",
      "10/10 [==============================] - 0s 20ms/step - loss: 40.5432 - val_loss: 98.2804\n",
      "Epoch 304/500\n",
      "10/10 [==============================] - 0s 12ms/step - loss: 48.0011 - val_loss: 69.0139\n",
      "Epoch 305/500\n",
      "10/10 [==============================] - 0s 13ms/step - loss: 40.9886 - val_loss: 88.0861\n",
      "Epoch 306/500\n",
      "10/10 [==============================] - 0s 20ms/step - loss: 38.7172 - val_loss: 90.5917\n",
      "Epoch 307/500\n",
      "10/10 [==============================] - 0s 17ms/step - loss: 43.2366 - val_loss: 81.3486\n",
      "Epoch 308/500\n",
      "10/10 [==============================] - 0s 17ms/step - loss: 41.8138 - val_loss: 84.2175\n",
      "Epoch 309/500\n",
      "10/10 [==============================] - 0s 16ms/step - loss: 40.7835 - val_loss: 75.0218\n",
      "Epoch 310/500\n",
      "10/10 [==============================] - 0s 13ms/step - loss: 42.6832 - val_loss: 67.1029\n",
      "Epoch 311/500\n",
      "10/10 [==============================] - 0s 15ms/step - loss: 37.4725 - val_loss: 70.2081\n",
      "Epoch 312/500\n",
      "10/10 [==============================] - 0s 16ms/step - loss: 38.8488 - val_loss: 85.3039\n",
      "Epoch 313/500\n",
      "10/10 [==============================] - 0s 18ms/step - loss: 37.8595 - val_loss: 81.5359\n",
      "Epoch 314/500\n",
      "10/10 [==============================] - 0s 17ms/step - loss: 38.9526 - val_loss: 69.1124\n",
      "Epoch 315/500\n",
      "10/10 [==============================] - 0s 15ms/step - loss: 36.6686 - val_loss: 81.6298\n",
      "Epoch 316/500\n",
      "10/10 [==============================] - 0s 13ms/step - loss: 37.4422 - val_loss: 87.5616\n"
     ]
    },
    {
     "name": "stdout",
     "output_type": "stream",
     "text": [
      "Epoch 317/500\n",
      "10/10 [==============================] - 0s 14ms/step - loss: 37.5342 - val_loss: 83.5729\n",
      "Epoch 318/500\n",
      "10/10 [==============================] - 0s 15ms/step - loss: 39.2541 - val_loss: 88.3190\n",
      "Epoch 319/500\n",
      "10/10 [==============================] - 0s 22ms/step - loss: 37.7955 - val_loss: 80.9232\n",
      "Epoch 320/500\n",
      "10/10 [==============================] - 0s 23ms/step - loss: 40.2445 - val_loss: 120.8154\n",
      "Epoch 321/500\n",
      "10/10 [==============================] - 0s 18ms/step - loss: 101.5146 - val_loss: 71.7888\n",
      "Epoch 322/500\n",
      "10/10 [==============================] - 0s 17ms/step - loss: 45.7143 - val_loss: 71.9305\n",
      "Epoch 323/500\n",
      "10/10 [==============================] - 0s 17ms/step - loss: 37.7187 - val_loss: 66.2049\n",
      "Epoch 324/500\n",
      "10/10 [==============================] - 0s 15ms/step - loss: 38.9497 - val_loss: 70.4277\n",
      "Epoch 325/500\n",
      "10/10 [==============================] - 0s 14ms/step - loss: 39.2572 - val_loss: 75.1536\n",
      "Epoch 326/500\n",
      "10/10 [==============================] - 0s 13ms/step - loss: 37.8773 - val_loss: 71.2882\n",
      "Epoch 327/500\n",
      "10/10 [==============================] - 0s 14ms/step - loss: 46.2258 - val_loss: 69.6225\n",
      "Epoch 328/500\n",
      "10/10 [==============================] - 0s 12ms/step - loss: 39.0867 - val_loss: 88.4399\n",
      "Epoch 329/500\n",
      "10/10 [==============================] - 0s 13ms/step - loss: 37.0683 - val_loss: 86.4867\n",
      "Epoch 330/500\n",
      "10/10 [==============================] - 0s 13ms/step - loss: 37.7507 - val_loss: 85.5545\n",
      "Epoch 331/500\n",
      "10/10 [==============================] - 0s 12ms/step - loss: 43.0172 - val_loss: 70.2036\n",
      "Epoch 332/500\n",
      "10/10 [==============================] - 0s 14ms/step - loss: 37.4474 - val_loss: 82.1553\n",
      "Epoch 333/500\n",
      "10/10 [==============================] - 0s 14ms/step - loss: 37.6654 - val_loss: 68.5064\n",
      "Epoch 334/500\n",
      "10/10 [==============================] - 0s 13ms/step - loss: 42.1964 - val_loss: 77.7857\n",
      "Epoch 335/500\n",
      "10/10 [==============================] - 0s 13ms/step - loss: 38.3957 - val_loss: 82.2752\n",
      "Epoch 336/500\n",
      "10/10 [==============================] - 0s 13ms/step - loss: 44.7428 - val_loss: 72.5779\n",
      "Epoch 337/500\n",
      "10/10 [==============================] - 0s 12ms/step - loss: 38.7130 - val_loss: 81.2081\n",
      "Epoch 338/500\n",
      "10/10 [==============================] - 0s 13ms/step - loss: 37.9831 - val_loss: 83.0489\n",
      "Epoch 339/500\n",
      "10/10 [==============================] - 0s 12ms/step - loss: 39.7463 - val_loss: 93.9648\n",
      "Epoch 340/500\n",
      "10/10 [==============================] - 0s 13ms/step - loss: 36.4707 - val_loss: 70.1692\n",
      "Epoch 341/500\n",
      "10/10 [==============================] - 0s 12ms/step - loss: 34.9793 - val_loss: 113.4443\n",
      "Epoch 342/500\n",
      "10/10 [==============================] - 0s 13ms/step - loss: 36.8609 - val_loss: 79.7655\n",
      "Epoch 343/500\n",
      "10/10 [==============================] - 0s 13ms/step - loss: 39.2209 - val_loss: 83.7232\n",
      "Epoch 344/500\n",
      "10/10 [==============================] - 0s 13ms/step - loss: 42.6554 - val_loss: 71.8811\n",
      "Epoch 345/500\n",
      "10/10 [==============================] - 0s 13ms/step - loss: 36.8565 - val_loss: 99.3876\n",
      "Epoch 346/500\n",
      "10/10 [==============================] - 0s 13ms/step - loss: 38.3321 - val_loss: 84.5424\n",
      "Epoch 347/500\n",
      "10/10 [==============================] - 0s 13ms/step - loss: 41.9017 - val_loss: 90.4834\n",
      "Epoch 348/500\n",
      "10/10 [==============================] - 0s 14ms/step - loss: 41.2922 - val_loss: 71.6336\n",
      "Epoch 349/500\n",
      "10/10 [==============================] - 0s 13ms/step - loss: 38.0351 - val_loss: 76.4077\n",
      "Epoch 350/500\n",
      "10/10 [==============================] - 0s 13ms/step - loss: 39.1521 - val_loss: 73.7910\n",
      "Epoch 351/500\n",
      "10/10 [==============================] - 0s 13ms/step - loss: 40.3274 - val_loss: 86.0485\n",
      "Epoch 352/500\n",
      "10/10 [==============================] - 0s 13ms/step - loss: 40.8358 - val_loss: 86.1882\n",
      "Epoch 353/500\n",
      "10/10 [==============================] - 0s 13ms/step - loss: 37.7469 - val_loss: 73.7566\n",
      "Epoch 354/500\n",
      "10/10 [==============================] - 0s 13ms/step - loss: 35.7897 - val_loss: 82.0440\n",
      "Epoch 355/500\n",
      "10/10 [==============================] - 0s 13ms/step - loss: 38.8339 - val_loss: 81.8646\n",
      "Epoch 356/500\n",
      "10/10 [==============================] - 0s 13ms/step - loss: 41.6541 - val_loss: 83.0906\n",
      "Epoch 357/500\n",
      "10/10 [==============================] - 0s 13ms/step - loss: 38.1622 - val_loss: 86.1431\n",
      "Epoch 358/500\n",
      "10/10 [==============================] - 0s 13ms/step - loss: 42.7970 - val_loss: 86.2626\n",
      "Epoch 359/500\n",
      "10/10 [==============================] - 0s 13ms/step - loss: 45.3447 - val_loss: 81.1355\n",
      "Epoch 360/500\n",
      "10/10 [==============================] - 0s 13ms/step - loss: 38.2133 - val_loss: 85.5766\n",
      "Epoch 361/500\n",
      "10/10 [==============================] - 0s 14ms/step - loss: 47.9120 - val_loss: 83.3473\n",
      "Epoch 362/500\n",
      "10/10 [==============================] - 0s 14ms/step - loss: 40.1665 - val_loss: 77.2040\n",
      "Epoch 363/500\n",
      "10/10 [==============================] - 0s 17ms/step - loss: 37.6917 - val_loss: 77.8424\n",
      "Epoch 364/500\n",
      "10/10 [==============================] - 0s 20ms/step - loss: 39.2414 - val_loss: 95.8122\n",
      "Epoch 365/500\n",
      "10/10 [==============================] - 0s 13ms/step - loss: 40.0691 - val_loss: 82.7604\n",
      "Epoch 366/500\n",
      "10/10 [==============================] - 0s 14ms/step - loss: 37.9295 - val_loss: 86.4764\n",
      "Epoch 367/500\n",
      "10/10 [==============================] - 0s 19ms/step - loss: 35.8656 - val_loss: 86.5689\n",
      "Epoch 368/500\n",
      "10/10 [==============================] - 0s 19ms/step - loss: 34.0160 - val_loss: 81.8375\n",
      "Epoch 369/500\n",
      "10/10 [==============================] - 0s 15ms/step - loss: 39.3358 - val_loss: 110.0544\n",
      "Epoch 370/500\n",
      "10/10 [==============================] - 0s 15ms/step - loss: 35.9900 - val_loss: 72.0305\n",
      "Epoch 371/500\n",
      "10/10 [==============================] - 0s 15ms/step - loss: 37.8650 - val_loss: 79.4526\n",
      "Epoch 372/500\n",
      "10/10 [==============================] - 0s 15ms/step - loss: 36.3372 - val_loss: 74.6349\n",
      "Epoch 373/500\n",
      "10/10 [==============================] - 0s 15ms/step - loss: 37.4331 - val_loss: 97.6439\n",
      "Epoch 374/500\n",
      "10/10 [==============================] - 0s 17ms/step - loss: 42.6088 - val_loss: 84.7894\n",
      "Epoch 375/500\n",
      "10/10 [==============================] - 0s 16ms/step - loss: 39.2596 - val_loss: 81.0245\n",
      "Epoch 376/500\n",
      "10/10 [==============================] - 0s 16ms/step - loss: 37.1534 - val_loss: 106.4449\n",
      "Epoch 377/500\n",
      "10/10 [==============================] - 0s 18ms/step - loss: 35.4592 - val_loss: 77.8361\n",
      "Epoch 378/500\n",
      "10/10 [==============================] - 0s 15ms/step - loss: 46.3836 - val_loss: 91.3757\n",
      "Epoch 379/500\n",
      "10/10 [==============================] - 0s 17ms/step - loss: 37.1664 - val_loss: 74.9289\n",
      "Epoch 380/500\n",
      "10/10 [==============================] - 0s 16ms/step - loss: 44.3387 - val_loss: 76.4999\n",
      "Epoch 381/500\n",
      "10/10 [==============================] - 0s 18ms/step - loss: 35.7946 - val_loss: 71.5399\n",
      "Epoch 382/500\n",
      "10/10 [==============================] - 0s 16ms/step - loss: 36.9859 - val_loss: 84.6426\n",
      "Epoch 383/500\n",
      "10/10 [==============================] - 0s 15ms/step - loss: 43.7151 - val_loss: 87.6360\n",
      "Epoch 384/500\n",
      "10/10 [==============================] - 0s 14ms/step - loss: 41.8923 - val_loss: 80.8536\n",
      "Epoch 385/500\n",
      "10/10 [==============================] - 0s 14ms/step - loss: 36.3653 - val_loss: 80.8809\n",
      "Epoch 386/500\n",
      "10/10 [==============================] - 0s 15ms/step - loss: 41.4910 - val_loss: 87.6931\n",
      "Epoch 387/500\n",
      "10/10 [==============================] - 0s 16ms/step - loss: 37.6603 - val_loss: 78.6842\n",
      "Epoch 388/500\n",
      "10/10 [==============================] - 0s 19ms/step - loss: 38.0205 - val_loss: 86.8254\n",
      "Epoch 389/500\n",
      "10/10 [==============================] - 0s 16ms/step - loss: 39.1637 - val_loss: 75.7628\n",
      "Epoch 390/500\n",
      "10/10 [==============================] - 0s 16ms/step - loss: 35.4288 - val_loss: 81.9268\n",
      "Epoch 391/500\n",
      "10/10 [==============================] - 0s 17ms/step - loss: 37.4149 - val_loss: 82.7949\n",
      "Epoch 392/500\n",
      "10/10 [==============================] - 0s 18ms/step - loss: 36.6184 - val_loss: 89.7680\n",
      "Epoch 393/500\n",
      "10/10 [==============================] - 0s 19ms/step - loss: 37.9550 - val_loss: 84.6431\n",
      "Epoch 394/500\n",
      "10/10 [==============================] - 0s 15ms/step - loss: 39.7586 - val_loss: 85.4389\n",
      "Epoch 395/500\n",
      "10/10 [==============================] - 0s 15ms/step - loss: 40.3979 - val_loss: 84.4754\n"
     ]
    },
    {
     "name": "stdout",
     "output_type": "stream",
     "text": [
      "Epoch 396/500\n",
      "10/10 [==============================] - 0s 14ms/step - loss: 36.6731 - val_loss: 92.5618\n",
      "Epoch 397/500\n",
      "10/10 [==============================] - 0s 13ms/step - loss: 36.1590 - val_loss: 89.2440\n",
      "Epoch 398/500\n",
      "10/10 [==============================] - 0s 13ms/step - loss: 37.1040 - val_loss: 85.1875\n",
      "Epoch 399/500\n",
      "10/10 [==============================] - 0s 17ms/step - loss: 38.0155 - val_loss: 87.4243\n",
      "Epoch 400/500\n",
      "10/10 [==============================] - 0s 16ms/step - loss: 38.2786 - val_loss: 81.4381\n",
      "Epoch 401/500\n",
      "10/10 [==============================] - 0s 16ms/step - loss: 32.6709 - val_loss: 88.8976\n",
      "Epoch 402/500\n",
      "10/10 [==============================] - 0s 17ms/step - loss: 38.8159 - val_loss: 86.2759\n",
      "Epoch 403/500\n",
      "10/10 [==============================] - 0s 17ms/step - loss: 36.1735 - val_loss: 88.4197\n",
      "Epoch 404/500\n",
      "10/10 [==============================] - 0s 17ms/step - loss: 35.0558 - val_loss: 84.9326\n",
      "Epoch 405/500\n",
      "10/10 [==============================] - 0s 13ms/step - loss: 37.0511 - val_loss: 92.2681\n",
      "Epoch 406/500\n",
      "10/10 [==============================] - 0s 13ms/step - loss: 36.0455 - val_loss: 81.6299\n",
      "Epoch 407/500\n",
      "10/10 [==============================] - 0s 13ms/step - loss: 37.2369 - val_loss: 87.1013\n",
      "Epoch 408/500\n",
      "10/10 [==============================] - 0s 13ms/step - loss: 35.7321 - val_loss: 91.1961\n",
      "Epoch 409/500\n",
      "10/10 [==============================] - 0s 12ms/step - loss: 36.2736 - val_loss: 85.2145\n",
      "Epoch 410/500\n",
      "10/10 [==============================] - 0s 13ms/step - loss: 34.4544 - val_loss: 89.0717\n",
      "Epoch 411/500\n",
      "10/10 [==============================] - 0s 13ms/step - loss: 37.1821 - val_loss: 88.0243\n",
      "Epoch 412/500\n",
      "10/10 [==============================] - 0s 14ms/step - loss: 34.2341 - val_loss: 87.7331\n",
      "Epoch 413/500\n",
      "10/10 [==============================] - 0s 14ms/step - loss: 40.9801 - val_loss: 84.8498\n",
      "Epoch 414/500\n",
      "10/10 [==============================] - 0s 13ms/step - loss: 33.2903 - val_loss: 99.9113\n",
      "Epoch 415/500\n",
      "10/10 [==============================] - 0s 13ms/step - loss: 38.4135 - val_loss: 79.2975\n",
      "Epoch 416/500\n",
      "10/10 [==============================] - 0s 15ms/step - loss: 35.0645 - val_loss: 89.6270\n",
      "Epoch 417/500\n",
      "10/10 [==============================] - 0s 13ms/step - loss: 35.3719 - val_loss: 88.0767\n",
      "Epoch 418/500\n",
      "10/10 [==============================] - 0s 14ms/step - loss: 36.7434 - val_loss: 81.6016\n",
      "Epoch 419/500\n",
      "10/10 [==============================] - 0s 14ms/step - loss: 42.3042 - val_loss: 93.1521\n",
      "Epoch 420/500\n",
      "10/10 [==============================] - 0s 18ms/step - loss: 42.4384 - val_loss: 82.1417\n",
      "Epoch 421/500\n",
      "10/10 [==============================] - 0s 18ms/step - loss: 46.6873 - val_loss: 112.5966\n",
      "Epoch 422/500\n",
      "10/10 [==============================] - 0s 18ms/step - loss: 40.1012 - val_loss: 84.7585\n",
      "Epoch 423/500\n",
      "10/10 [==============================] - 0s 13ms/step - loss: 35.4756 - val_loss: 99.8508\n",
      "Epoch 424/500\n",
      "10/10 [==============================] - 0s 15ms/step - loss: 36.6423 - val_loss: 79.9107\n",
      "Epoch 425/500\n",
      "10/10 [==============================] - 0s 14ms/step - loss: 33.5976 - val_loss: 84.8671\n",
      "Epoch 426/500\n",
      "10/10 [==============================] - 0s 14ms/step - loss: 37.6847 - val_loss: 82.8737\n",
      "Epoch 427/500\n",
      "10/10 [==============================] - 0s 18ms/step - loss: 33.4488 - val_loss: 84.3723\n",
      "Epoch 428/500\n",
      "10/10 [==============================] - 0s 14ms/step - loss: 33.4075 - val_loss: 88.2246\n",
      "Epoch 429/500\n",
      "10/10 [==============================] - 0s 14ms/step - loss: 35.1098 - val_loss: 86.6218\n",
      "Epoch 430/500\n",
      "10/10 [==============================] - 0s 16ms/step - loss: 32.3936 - val_loss: 90.2307\n",
      "Epoch 431/500\n",
      "10/10 [==============================] - 0s 18ms/step - loss: 42.2864 - val_loss: 87.0796\n",
      "Epoch 432/500\n",
      "10/10 [==============================] - 0s 14ms/step - loss: 43.4989 - val_loss: 79.8753\n",
      "Epoch 433/500\n",
      "10/10 [==============================] - 0s 15ms/step - loss: 33.6150 - val_loss: 83.2022\n",
      "Epoch 434/500\n",
      "10/10 [==============================] - 0s 14ms/step - loss: 38.0497 - val_loss: 88.3830\n",
      "Epoch 435/500\n",
      "10/10 [==============================] - 0s 15ms/step - loss: 35.7851 - val_loss: 87.9227\n",
      "Epoch 436/500\n",
      "10/10 [==============================] - 0s 14ms/step - loss: 38.0674 - val_loss: 88.6111\n",
      "Epoch 437/500\n",
      "10/10 [==============================] - 0s 14ms/step - loss: 35.3070 - val_loss: 83.1947\n",
      "Epoch 438/500\n",
      "10/10 [==============================] - 0s 13ms/step - loss: 35.1521 - val_loss: 84.3545\n",
      "Epoch 439/500\n",
      "10/10 [==============================] - 0s 14ms/step - loss: 35.0751 - val_loss: 86.8896\n",
      "Epoch 440/500\n",
      "10/10 [==============================] - 0s 17ms/step - loss: 35.7906 - val_loss: 168.4646\n",
      "Epoch 441/500\n",
      "10/10 [==============================] - 0s 17ms/step - loss: 37.4291 - val_loss: 84.1300\n",
      "Epoch 442/500\n",
      "10/10 [==============================] - 0s 18ms/step - loss: 33.3726 - val_loss: 112.1226\n",
      "Epoch 443/500\n",
      "10/10 [==============================] - 0s 18ms/step - loss: 32.9015 - val_loss: 100.3191\n",
      "Epoch 444/500\n",
      "10/10 [==============================] - 0s 18ms/step - loss: 35.5259 - val_loss: 154.4064\n",
      "Epoch 445/500\n",
      "10/10 [==============================] - 0s 16ms/step - loss: 34.5006 - val_loss: 86.7041\n",
      "Epoch 446/500\n",
      "10/10 [==============================] - 0s 15ms/step - loss: 33.7392 - val_loss: 86.0797\n",
      "Epoch 447/500\n",
      "10/10 [==============================] - 0s 15ms/step - loss: 30.9952 - val_loss: 90.2230\n",
      "Epoch 448/500\n",
      "10/10 [==============================] - 0s 15ms/step - loss: 31.5731 - val_loss: 143.8824\n",
      "Epoch 449/500\n",
      "10/10 [==============================] - 0s 14ms/step - loss: 32.5341 - val_loss: 86.9787\n",
      "Epoch 450/500\n",
      "10/10 [==============================] - 0s 14ms/step - loss: 44.7732 - val_loss: 189.1880\n",
      "Epoch 451/500\n",
      "10/10 [==============================] - 0s 14ms/step - loss: 37.7845 - val_loss: 148.3834\n",
      "Epoch 452/500\n",
      "10/10 [==============================] - 0s 14ms/step - loss: 34.7014 - val_loss: 183.9039\n",
      "Epoch 453/500\n",
      "10/10 [==============================] - 0s 14ms/step - loss: 33.6370 - val_loss: 86.3864\n",
      "Epoch 454/500\n",
      "10/10 [==============================] - 0s 15ms/step - loss: 50.5142 - val_loss: 87.6531\n",
      "Epoch 455/500\n",
      "10/10 [==============================] - 0s 14ms/step - loss: 38.4409 - val_loss: 84.2571\n",
      "Epoch 456/500\n",
      "10/10 [==============================] - 0s 14ms/step - loss: 35.8654 - val_loss: 85.6823\n",
      "Epoch 457/500\n",
      "10/10 [==============================] - 0s 15ms/step - loss: 44.3628 - val_loss: 120.4310\n",
      "Epoch 458/500\n",
      "10/10 [==============================] - 0s 15ms/step - loss: 34.2238 - val_loss: 86.4171\n",
      "Epoch 459/500\n",
      "10/10 [==============================] - 0s 14ms/step - loss: 34.4048 - val_loss: 83.2405\n",
      "Epoch 460/500\n",
      "10/10 [==============================] - 0s 14ms/step - loss: 43.4296 - val_loss: 84.7631\n",
      "Epoch 461/500\n",
      "10/10 [==============================] - 0s 14ms/step - loss: 35.2569 - val_loss: 82.9222\n",
      "Epoch 462/500\n",
      "10/10 [==============================] - 0s 14ms/step - loss: 37.8964 - val_loss: 87.2222\n",
      "Epoch 463/500\n",
      "10/10 [==============================] - 0s 16ms/step - loss: 33.5795 - val_loss: 87.1081\n",
      "Epoch 464/500\n",
      "10/10 [==============================] - 0s 14ms/step - loss: 34.5561 - val_loss: 89.9600\n",
      "Epoch 465/500\n",
      "10/10 [==============================] - 0s 14ms/step - loss: 33.8079 - val_loss: 85.3295\n",
      "Epoch 466/500\n",
      "10/10 [==============================] - 0s 14ms/step - loss: 33.3803 - val_loss: 82.2066\n",
      "Epoch 467/500\n",
      "10/10 [==============================] - 0s 14ms/step - loss: 44.7538 - val_loss: 84.8762\n",
      "Epoch 468/500\n",
      "10/10 [==============================] - 0s 14ms/step - loss: 34.9277 - val_loss: 84.4348\n",
      "Epoch 469/500\n",
      "10/10 [==============================] - 0s 14ms/step - loss: 36.7084 - val_loss: 83.8819\n",
      "Epoch 470/500\n",
      "10/10 [==============================] - 0s 14ms/step - loss: 32.8392 - val_loss: 83.7942\n",
      "Epoch 471/500\n",
      "10/10 [==============================] - 0s 14ms/step - loss: 35.0845 - val_loss: 83.4261\n",
      "Epoch 472/500\n",
      "10/10 [==============================] - 0s 14ms/step - loss: 32.1932 - val_loss: 84.4425\n",
      "Epoch 473/500\n",
      "10/10 [==============================] - 0s 15ms/step - loss: 33.2489 - val_loss: 86.1789\n",
      "Epoch 474/500\n",
      "10/10 [==============================] - 0s 20ms/step - loss: 38.0361 - val_loss: 83.6654\n"
     ]
    },
    {
     "name": "stdout",
     "output_type": "stream",
     "text": [
      "Epoch 475/500\n",
      "10/10 [==============================] - 0s 16ms/step - loss: 38.1025 - val_loss: 85.4880\n",
      "Epoch 476/500\n",
      "10/10 [==============================] - 0s 13ms/step - loss: 40.0508 - val_loss: 85.7290\n",
      "Epoch 477/500\n",
      "10/10 [==============================] - 0s 14ms/step - loss: 34.6941 - val_loss: 94.4034\n",
      "Epoch 478/500\n",
      "10/10 [==============================] - 0s 15ms/step - loss: 32.8274 - val_loss: 88.9793\n",
      "Epoch 479/500\n",
      "10/10 [==============================] - 0s 14ms/step - loss: 34.6650 - val_loss: 87.0837\n",
      "Epoch 480/500\n",
      "10/10 [==============================] - 0s 13ms/step - loss: 34.0098 - val_loss: 90.8185\n",
      "Epoch 481/500\n",
      "10/10 [==============================] - 0s 13ms/step - loss: 32.4802 - val_loss: 87.5822\n",
      "Epoch 482/500\n",
      "10/10 [==============================] - 0s 14ms/step - loss: 37.9915 - val_loss: 97.3084\n",
      "Epoch 483/500\n",
      "10/10 [==============================] - 0s 13ms/step - loss: 37.4418 - val_loss: 82.5874\n",
      "Epoch 484/500\n",
      "10/10 [==============================] - 0s 13ms/step - loss: 39.4736 - val_loss: 87.0906\n",
      "Epoch 485/500\n",
      "10/10 [==============================] - 0s 16ms/step - loss: 36.3445 - val_loss: 83.8498\n",
      "Epoch 486/500\n",
      "10/10 [==============================] - 0s 13ms/step - loss: 39.0769 - val_loss: 83.6519\n",
      "Epoch 487/500\n",
      "10/10 [==============================] - 0s 13ms/step - loss: 33.1288 - val_loss: 86.4519\n",
      "Epoch 488/500\n",
      "10/10 [==============================] - 0s 16ms/step - loss: 31.7610 - val_loss: 85.4005\n",
      "Epoch 489/500\n",
      "10/10 [==============================] - 0s 14ms/step - loss: 31.1849 - val_loss: 85.9456\n",
      "Epoch 490/500\n",
      "10/10 [==============================] - 0s 14ms/step - loss: 34.1152 - val_loss: 90.0953\n",
      "Epoch 491/500\n",
      "10/10 [==============================] - 0s 15ms/step - loss: 30.9216 - val_loss: 90.6296\n",
      "Epoch 492/500\n",
      "10/10 [==============================] - 0s 14ms/step - loss: 31.7950 - val_loss: 88.6346\n",
      "Epoch 493/500\n",
      "10/10 [==============================] - 0s 16ms/step - loss: 39.1107 - val_loss: 84.8225\n",
      "Epoch 494/500\n",
      "10/10 [==============================] - 0s 13ms/step - loss: 32.0478 - val_loss: 84.2168\n",
      "Epoch 495/500\n",
      "10/10 [==============================] - 0s 14ms/step - loss: 30.9397 - val_loss: 91.3945\n",
      "Epoch 496/500\n",
      "10/10 [==============================] - 0s 14ms/step - loss: 32.1736 - val_loss: 85.2427\n",
      "Epoch 497/500\n",
      "10/10 [==============================] - 0s 16ms/step - loss: 34.3656 - val_loss: 84.0305\n",
      "Epoch 498/500\n",
      "10/10 [==============================] - 0s 15ms/step - loss: 32.2598 - val_loss: 88.8311\n",
      "Epoch 499/500\n",
      "10/10 [==============================] - 0s 13ms/step - loss: 32.8995 - val_loss: 87.0266\n",
      "Epoch 500/500\n",
      "10/10 [==============================] - 0s 13ms/step - loss: 31.2214 - val_loss: 142.2254\n"
     ]
    }
   ],
   "source": [
    "m = 10\n",
    "useDataGenerator = False\n",
    "# useDataGenerator = True\n",
    "\n",
    "x = x_train\n",
    "x = np.concatenate([x_train[:m] for _ in range(1000)])\n",
    "\n",
    "print('batch_size =', batch_size)\n",
    "if useDataGenerator:\n",
    "    datagen = models.ImageDataGenerator(x_train, batch_size, phase_mod, whitening)\n",
    "    history = collections.defaultdict(list)\n",
    "    n_batches = datagen.__len__()\n",
    "    for e in range(epochs):\n",
    "        print('\\n[Epoch %i/%i] >>>>>>>>>' % (e, epochs))\n",
    "        for batch_i, (x_batch, y_batch) in enumerate(datagen.flow(x[:m], x[:m], batch_size)):\n",
    "            print(' Batch %i/%i' % (batch_i,n_batches))\n",
    "            x_ = x_batch\n",
    "            # x_ = datagen.shuffle_3rd_dim(x_)\n",
    "            x_ = datagen.shuffle_3rd_dim_soft(x_, mutation_rate=0.1, scale=0.1, verbose=0)\n",
    "            h = vae.fit(x_, validation_data=(x_test, None), verbose=0)\n",
    "            for k,v in h.history.items(): \n",
    "                print(' \\\\_%s' % k, [round(v_,) for v_ in v])\n",
    "                history[k].append(v)\n",
    "            if batch_i >= n_batches:\n",
    "                break\n",
    "else:\n",
    "    h = vae.fit(x[:m], epochs=epochs, validation_data=(x_test, None))\n",
    "    history = h.history"
   ]
  },
  {
   "cell_type": "code",
   "execution_count": 171,
   "metadata": {},
   "outputs": [
    {
     "data": {
      "text/plain": [
       "[<matplotlib.lines.Line2D at 0x13f006be0>]"
      ]
     },
     "execution_count": 171,
     "metadata": {},
     "output_type": "execute_result"
    },
    {
     "data": {
      "image/png": "[encoded data removed]",
      "text/plain": [
       "<matplotlib.figure.Figure at 0x13f006240>"
      ]
     },
     "metadata": {},
     "output_type": "display_data"
    }
   ],
   "source": [
    "plt.plot(history['loss'])\n",
    "plt.plot(history['val_loss'])"
   ]
  },
  {
   "cell_type": "code",
   "execution_count": 172,
   "metadata": {},
   "outputs": [
    {
     "name": "stdout",
     "output_type": "stream",
     "text": [
      "m (40, 10)\n"
     ]
    },
    {
     "data": {
      "image/png": "[encoded data removed]",
      "text/plain": [
       "<matplotlib.figure.Figure at 0x14b7760b8>"
      ]
     },
     "metadata": {},
     "output_type": "display_data"
    },
    {
     "name": "stdout",
     "output_type": "stream",
     "text": [
      "m (40, 10)\n"
     ]
    },
    {
     "data": {
      "image/png": "[encoded data removed]",
      "text/plain": [
       "<matplotlib.figure.Figure at 0x13eff3518>"
      ]
     },
     "metadata": {},
     "output_type": "display_data"
    },
    {
     "name": "stdout",
     "output_type": "stream",
     "text": [
      "m (40, 10)\n"
     ]
    },
    {
     "data": {
      "image/png": "[encoded data removed]",
      "text/plain": [
       "<matplotlib.figure.Figure at 0x14a797400>"
      ]
     },
     "metadata": {},
     "output_type": "display_data"
    },
    {
     "name": "stdout",
     "output_type": "stream",
     "text": [
      "m (40, 10)\n"
     ]
    },
    {
     "data": {
      "image/png": "[encoded data removed]",
      "text/plain": [
       "<matplotlib.figure.Figure at 0x14b747080>"
      ]
     },
     "metadata": {},
     "output_type": "display_data"
    },
    {
     "name": "stdout",
     "output_type": "stream",
     "text": [
      "m (40, 10)\n"
     ]
    },
    {
     "data": {
      "image/png": "[encoded data removed]",
      "text/plain": [
       "<matplotlib.figure.Figure at 0x14a54b4e0>"
      ]
     },
     "metadata": {},
     "output_type": "display_data"
    },
    {
     "name": "stdout",
     "output_type": "stream",
     "text": [
      "m (40, 10)\n"
     ]
    },
    {
     "data": {
      "image/png": "[encoded data removed]",
      "text/plain": [
       "<matplotlib.figure.Figure at 0x14b71e978>"
      ]
     },
     "metadata": {},
     "output_type": "display_data"
    }
   ],
   "source": [
    "i = 0\n",
    "j = -1\n",
    "k = -1\n",
    "x = vae.predict(x_train[:100])\n",
    "plot.single(x_train[i, :50, :, 0])\n",
    "plot.single(x[i, :50, :, 0])\n",
    "plot.single(x_train[j, :50, :, 0])\n",
    "plot.single(x[j, :50, :, 0])\n",
    "plot.single(x_train[k, :50, :, 0])\n",
    "plot.single(x[k, :50, :, 0])"
   ]
  },
  {
   "cell_type": "code",
   "execution_count": 173,
   "metadata": {},
   "outputs": [
    {
     "name": "stdout",
     "output_type": "stream",
     "text": [
      "m (40, 10)\n"
     ]
    },
    {
     "data": {
      "image/png": "[encoded data removed]",
      "text/plain": [
       "<matplotlib.figure.Figure at 0x14b76f4e0>"
      ]
     },
     "metadata": {},
     "output_type": "display_data"
    },
    {
     "name": "stdout",
     "output_type": "stream",
     "text": [
      "m (40, 10)\n"
     ]
    },
    {
     "data": {
      "image/png": "[encoded data removed]",
      "text/plain": [
       "<matplotlib.figure.Figure at 0x14b76f358>"
      ]
     },
     "metadata": {},
     "output_type": "display_data"
    },
    {
     "name": "stdout",
     "output_type": "stream",
     "text": [
      "m (40, 10)\n"
     ]
    },
    {
     "data": {
      "image/png": "[encoded data removed]",
      "text/plain": [
       "<matplotlib.figure.Figure at 0x14a6377f0>"
      ]
     },
     "metadata": {},
     "output_type": "display_data"
    }
   ],
   "source": [
    "x = datagen.shuffle_3rd_dim_soft(x_train[:10], mutation_rate=0.5, scale=0.5, verbose=0)\n",
    "plot.single(x_train[0,:,:,0])\n",
    "plot.single(x[0,:,:,0])\n",
    "x_ = vae.predict(x)\n",
    "plot.single(x_[0,:,:,0])"
   ]
  },
  {
   "cell_type": "code",
   "execution_count": 174,
   "metadata": {},
   "outputs": [
    {
     "data": {
      "text/plain": [
       "(9, 40, 10, 1)"
      ]
     },
     "execution_count": 174,
     "metadata": {},
     "output_type": "execute_result"
    }
   ],
   "source": [
    "x.shape"
   ]
  },
  {
   "cell_type": "code",
   "execution_count": 175,
   "metadata": {},
   "outputs": [
    {
     "name": "stdout",
     "output_type": "stream",
     "text": [
      "m (30, 10)\n"
     ]
    },
    {
     "data": {
      "image/png": "[encoded data removed]",
      "text/plain": [
       "<matplotlib.figure.Figure at 0x13eb10dd8>"
      ]
     },
     "metadata": {},
     "output_type": "display_data"
    }
   ],
   "source": [
    "# min: these pixels are 'always' active\n",
    "m = x.min(axis=0)\n",
    "plot.multi(m[:30,:,0])"
   ]
  },
  {
   "cell_type": "code",
   "execution_count": 176,
   "metadata": {},
   "outputs": [
    {
     "name": "stdout",
     "output_type": "stream",
     "text": [
      "m (30, 10)\n"
     ]
    },
    {
     "data": {
      "image/png": "[encoded data removed]",
      "text/plain": [
       "<matplotlib.figure.Figure at 0x14ab50860>"
      ]
     },
     "metadata": {},
     "output_type": "display_data"
    }
   ],
   "source": [
    "# mean\n",
    "m = x.mean(axis=0)\n",
    "plot.single(m[:30,:,0])"
   ]
  },
  {
   "cell_type": "markdown",
   "metadata": {},
   "source": [
    "## Encoder + Generator\n",
    "A model to project inputs on the latent space"
   ]
  },
  {
   "cell_type": "code",
   "execution_count": 177,
   "metadata": {},
   "outputs": [],
   "source": [
    "# build a model to project inputs on the latent space\n",
    "encoder = Model(encoder_input, z_mean)"
   ]
  },
  {
   "cell_type": "code",
   "execution_count": 178,
   "metadata": {},
   "outputs": [
    {
     "data": {
      "text/plain": [
       "(1, 40, 10, 1)"
      ]
     },
     "execution_count": 178,
     "metadata": {},
     "output_type": "execute_result"
    }
   ],
   "source": [
    "x_test.shape"
   ]
  },
  {
   "cell_type": "code",
   "execution_count": 179,
   "metadata": {},
   "outputs": [
    {
     "data": {
      "text/plain": [
       "(9, 2)"
      ]
     },
     "execution_count": 179,
     "metadata": {},
     "output_type": "execute_result"
    }
   ],
   "source": [
    "m = 100\n",
    "x_train_encoded = encoder.predict(x_train[:m], batch_size=batch_size)\n",
    "x_train_encoded.shape"
   ]
  },
  {
   "cell_type": "code",
   "execution_count": 180,
   "metadata": {},
   "outputs": [
    {
     "data": {
      "text/plain": [
       "<matplotlib.collections.PathCollection at 0x14ac70b70>"
      ]
     },
     "execution_count": 180,
     "metadata": {},
     "output_type": "execute_result"
    },
    {
     "data": {
      "image/png": "[encoded data removed]",
      "text/plain": [
       "<matplotlib.figure.Figure at 0x14ab594a8>"
      ]
     },
     "metadata": {},
     "output_type": "display_data"
    }
   ],
   "source": [
    "# y_test = range(x_train_encoded.shape[0])\n",
    "y_test = np.concatenate([list(range(n)) for _ in range(int(m/n)+1)])[:m] / n\n",
    "plt.figure(figsize=(6, 6))\n",
    "plt.scatter(x_train_encoded[:, 0], x_train_encoded[:, 1], alpha=0.8, s=30) # c=y_test, "
   ]
  },
  {
   "cell_type": "code",
   "execution_count": 181,
   "metadata": {},
   "outputs": [
    {
     "data": {
      "text/plain": [
       "<matplotlib.collections.PathCollection at 0x14ad192b0>"
      ]
     },
     "execution_count": 181,
     "metadata": {},
     "output_type": "execute_result"
    },
    {
     "data": {
      "image/png": "[encoded data removed]",
      "text/plain": [
       "<matplotlib.figure.Figure at 0x14ab6e860>"
      ]
     },
     "metadata": {},
     "output_type": "display_data"
    }
   ],
   "source": [
    "# display a 2D plot of the digit classes in the latent space\n",
    "x_test_encoded = encoder.predict(x_test, batch_size=batch_size)\n",
    "plt.figure(figsize=(6, 6))\n",
    "plt.scatter(x_test_encoded[:, 0], x_test_encoded[:, 1], alpha=0.6, s=30) # , c=y_test\n",
    "# plt.colorbar()"
   ]
  },
  {
   "cell_type": "code",
   "execution_count": 182,
   "metadata": {},
   "outputs": [],
   "source": [
    "# build a digit generator that can sample from the learned distribution\n",
    "decoder_input = Input(shape=(latent_dim,))\n",
    "_decoded = utils.composition(decoders, decoder_input, verbose=False)\n",
    "generator = Model(decoder_input, _decoded)"
   ]
  },
  {
   "cell_type": "code",
   "execution_count": 183,
   "metadata": {},
   "outputs": [],
   "source": [
    "# x_decoded[0].reshape(150,3)"
   ]
  },
  {
   "cell_type": "code",
   "execution_count": 184,
   "metadata": {},
   "outputs": [
    {
     "data": {
      "text/plain": [
       "(9, 40, 10, 1)"
      ]
     },
     "execution_count": 184,
     "metadata": {},
     "output_type": "execute_result"
    }
   ],
   "source": [
    "x_train.shape"
   ]
  },
  {
   "cell_type": "code",
   "execution_count": 185,
   "metadata": {},
   "outputs": [
    {
     "name": "stdout",
     "output_type": "stream",
     "text": [
      "(2,) [0. 0.]\n"
     ]
    },
    {
     "data": {
      "image/png": "[encoded data removed]",
      "text/plain": [
       "<matplotlib.figure.Figure at 0x14a680550>"
      ]
     },
     "metadata": {},
     "output_type": "display_data"
    }
   ],
   "source": [
    "min_y = 0.01\n",
    "max_y = 0.5\n",
    "plot.latent(generator, batch_size,\n",
    "       n=8,\n",
    "       m=3,\n",
    "       crop_size=30,\n",
    "       margin_top=1,\n",
    "       margin_left=1,\n",
    "       min_x=0.05,\n",
    "       max_x=0.95,\n",
    "       min_y=min_y,\n",
    "       max_y=max_y)"
   ]
  },
  {
   "cell_type": "code",
   "execution_count": 186,
   "metadata": {},
   "outputs": [
    {
     "name": "stdout",
     "output_type": "stream",
     "text": [
      "(2,) [0. 0.]\n"
     ]
    },
    {
     "data": {
      "image/png": "[encoded data removed]",
      "text/plain": [
       "<matplotlib.figure.Figure at 0x14b06cda0>"
      ]
     },
     "metadata": {},
     "output_type": "display_data"
    }
   ],
   "source": [
    "min_y2 = max_y\n",
    "plot.latent(generator, batch_size,\n",
    "       n=8,\n",
    "       m=3,\n",
    "       crop_size=30,\n",
    "       margin_top=1,\n",
    "       margin_left=1,\n",
    "       min_x=0.05,\n",
    "       max_x=0.95,\n",
    "       min_y=min_y2,\n",
    "       max_y=0.95)"
   ]
  },
  {
   "cell_type": "code",
   "execution_count": null,
   "metadata": {},
   "outputs": [],
   "source": []
  },
  {
   "cell_type": "code",
   "execution_count": null,
   "metadata": {},
   "outputs": [],
   "source": []
  },
  {
   "cell_type": "code",
   "execution_count": null,
   "metadata": {},
   "outputs": [],
   "source": []
  },
  {
   "cell_type": "code",
   "execution_count": null,
   "metadata": {},
   "outputs": [],
   "source": []
  },
  {
   "cell_type": "code",
   "execution_count": null,
   "metadata": {},
   "outputs": [],
   "source": []
  },
  {
   "cell_type": "code",
   "execution_count": null,
   "metadata": {},
   "outputs": [],
   "source": []
  },
  {
   "cell_type": "code",
   "execution_count": null,
   "metadata": {},
   "outputs": [],
   "source": []
  }
 ],
 "metadata": {
  "kernelspec": {
   "display_name": "Python 3",
   "language": "python",
   "name": "python3"
  },
  "language_info": {
   "codemirror_mode": {
    "name": "ipython",
    "version": 3
   },
   "file_extension": ".py",
   "mimetype": "text/x-python",
   "name": "python",
   "nbconvert_exporter": "python",
   "pygments_lexer": "ipython3",
   "version": "3.6.5"
  }
 },
 "nbformat": 4,
 "nbformat_minor": 2
}
