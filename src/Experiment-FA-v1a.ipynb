{
 "cells": [
  {
   "cell_type": "markdown",
   "metadata": {},
   "source": [
    "## Frequency Analysis\n",
    "\n",
    "Generating a complex pattern (distribution) from a single value can be done with dense layers, conv layer and recurrent layers. Autoencoders and Variational Autoencoders can easily be trained to decode a small latent-space vector into a complex image or waveform.\n",
    "\n",
    "This document investigates what kinds of networks are best suited to extract the required information needed to re-generate an input waveform.\n",
    "\n",
    "Ideally, we want a network that performs a component analysis of an input sample, and outputs the frequencies of the sinewaves that it consists of."
   ]
  },
  {
   "cell_type": "code",
   "execution_count": 40,
   "metadata": {},
   "outputs": [],
   "source": [
    "from __future__ import division\n",
    "\n",
    "import keras\n",
    "from keras import backend as K\n",
    "from keras.layers import Layer\n",
    "from keras import activations\n",
    "from keras import utils\n",
    "from keras.datasets import cifar10\n",
    "from keras.models import Model\n",
    "from keras.layers import *\n",
    "from keras.preprocessing.image import ImageDataGenerator\n",
    "from keras.callbacks import TensorBoard"
   ]
  },
  {
   "cell_type": "code",
   "execution_count": 2,
   "metadata": {},
   "outputs": [
    {
     "name": "stdout",
     "output_type": "stream",
     "text": [
      " Context :: namedtuple(\n",
      "[ max_t = float\n",
      ", dt = float\n",
      ", n_instances = int\n",
      ", note_length = int\n",
      ", bpm = float\n",
      ", tempo = float\n",
      ", ticks_per_beat = int\n",
      "]\n",
      "\n"
     ]
    }
   ],
   "source": [
    "import matplotlib.pyplot as plt\n",
    "%matplotlib inline\n",
    "# local libs\n",
    "import config, models, functions\n",
    "from data import data, midi, midi_generators as g\n",
    "from utils import io, models_io, utils, plot\n",
    "from capsule.layers import Capsule, Length\n",
    "from capsule.capsulefunctions import squash, softmax, margin_loss"
   ]
  },
  {
   "cell_type": "code",
   "execution_count": 3,
   "metadata": {
    "scrolled": true
   },
   "outputs": [
    {
     "name": "stdout",
     "output_type": "stream",
     "text": [
      "Setting up params\n",
      "\n",
      "max min f 25.0 0.5\n",
      " >> Context(max_t=2.0, dt=0.02, n_instances=100, note_length=0.03, bpm=120.0, tempo=500000, ticks_per_beat=480)\n",
      "Setting up params\n",
      "\n",
      "max min f 25.0 0.5\n",
      " >> Context(max_t=2.0, dt=0.02, n_instances=100, note_length=0.03, bpm=120.0, tempo=500000, ticks_per_beat=480)\n",
      "Importing midi-data\n",
      "\n",
      "\u001b[92m [INFO] : \u001b[0m\n",
      " |  reading file: ../datasets/examples/01 16th Snare.mid\n",
      "\u001b[92m [INFO] : \u001b[0m\n",
      " |  reading file: ../datasets/examples/01 8th Cym.mid\n",
      "\n",
      "Encoding midi-data\n",
      " [<midi file '../datasets/examples/01 16th Snare.mid' type 0, 1 tracks, 182 messages>, <midi file '../datasets/examples/01 8th Cym.mid' type 0, 1 tracks, 68 messages>]\n",
      "> -> multi-track = True\n",
      "\u001b[91m [DEBUG] > \u001b[0m\n",
      " |>  to_array: msg.time > max_t; t, n\n",
      " |>  1.9947916666666667\n",
      " |>  100\n",
      "\u001b[91m [DEBUG] > \u001b[0m\n",
      " |>  to_array: msg.time > max_t; t, n\n",
      " |>  1.9947916666666667\n",
      " |>  100\n",
      "\u001b[92m [INFO] : \u001b[0m\n",
      " |  reduced dims:\n",
      " |  (2, 100, 2)\n"
     ]
    }
   ],
   "source": [
    "context = data.init()\n",
    "n = 2\n",
    "dim4 = True\n",
    "multiTrack = True\n",
    "context, x_train, labels = data.import_data(data.init(), n, dim4=dim4, multiTrack=multiTrack)"
   ]
  },
  {
   "cell_type": "code",
   "execution_count": 85,
   "metadata": {
    "scrolled": true
   },
   "outputs": [
    {
     "name": "stdout",
     "output_type": "stream",
     "text": [
      "\u001b[91m [DEBUG] > \u001b[0m\n",
      " |>  to_array: msg.time > max_t; t, n\n",
      " |>  2.03333333333\n",
      " |>  100\n",
      "\u001b[91m [DEBUG] > \u001b[0m\n",
      " |>  to_array: msg.time > max_t; t, n\n",
      " |>  2.03854166667\n",
      " |>  100\n",
      "\u001b[91m [DEBUG] > \u001b[0m\n",
      " |>  to_array: msg.time > max_t; t, n\n",
      " |>  2.021875\n",
      " |>  100\n",
      "\u001b[91m [DEBUG] > \u001b[0m\n",
      " |>  to_array: msg.time > max_t; t, n\n",
      " |>  1.99270833333\n",
      " |>  100\n",
      "\u001b[91m [DEBUG] > \u001b[0m\n",
      " |>  to_array: msg.time > max_t; t, n\n",
      " |>  1.99479166667\n",
      " |>  100\n",
      "\u001b[91m [DEBUG] > \u001b[0m\n",
      " |>  to_array: msg.time > max_t; t, n\n",
      " |>  1.996875\n",
      " |>  100\n",
      "\u001b[91m [DEBUG] > \u001b[0m\n",
      " |>  to_array: msg.time > max_t; t, n\n",
      " |>  1.996875\n",
      " |>  100\n",
      "\u001b[91m [DEBUG] > \u001b[0m\n",
      " |>  to_array: msg.time > max_t; t, n\n",
      " |>  2.00208333333\n",
      " |>  100\n",
      "\u001b[91m [DEBUG] > \u001b[0m\n",
      " |>  to_array: msg.time > max_t; t, n\n",
      " |>  2.00625\n",
      " |>  100\n",
      "\u001b[91m [DEBUG] > \u001b[0m\n",
      " |>  to_array: msg.time > max_t; t, n\n",
      " |>  1.99583333333\n",
      " |>  100\n",
      "\u001b[91m [DEBUG] > \u001b[0m\n",
      " |>  to_array: msg.time > max_t; t, n\n",
      " |>  2.06979166667\n",
      " |>  100\n",
      "\u001b[91m [DEBUG] > \u001b[0m\n",
      " |>  to_array: msg.time > max_t; t, n\n",
      " |>  2.003125\n",
      " |>  100\n",
      "\u001b[91m [DEBUG] > \u001b[0m\n",
      " |>  to_array: msg.time > max_t; t, n\n",
      " |>  2.015625\n",
      " |>  100\n",
      "\u001b[91m [DEBUG] > \u001b[0m\n",
      " |>  to_array: msg.time > max_t; t, n\n",
      " |>  2.00520833333\n",
      " |>  100\n",
      "\u001b[91m [DEBUG] > \u001b[0m\n",
      " |>  to_array: msg.time > max_t; t, n\n",
      " |>  2.00416666667\n",
      " |>  100\n",
      "\u001b[91m [DEBUG] > \u001b[0m\n",
      " |>  to_array: msg.time > max_t; t, n\n",
      " |>  2.00833333333\n",
      " |>  100\n",
      "\u001b[91m [DEBUG] > \u001b[0m\n",
      " |>  to_array: msg.time > max_t; t, n\n",
      " |>  2.05416666667\n",
      " |>  100\n",
      "\u001b[91m [DEBUG] > \u001b[0m\n",
      " |>  to_array: msg.time > max_t; t, n\n",
      " |>  2.02604166667\n",
      " |>  100\n",
      "\u001b[91m [DEBUG] > \u001b[0m\n",
      " |>  to_array: msg.time > max_t; t, n\n",
      " |>  2.01666666667\n",
      " |>  100\n",
      "\u001b[91m [DEBUG] > \u001b[0m\n",
      " |>  to_array: msg.time > max_t; t, n\n",
      " |>  2.00833333333\n",
      " |>  100\n",
      "\u001b[91m [DEBUG] > \u001b[0m\n",
      " |>  to_array: msg.time > max_t; t, n\n",
      " |>  2.04791666667\n",
      " |>  100\n",
      "\u001b[91m [DEBUG] > \u001b[0m\n",
      " |>  to_array: msg.time > max_t; t, n\n",
      " |>  2.05\n",
      " |>  100\n",
      "\u001b[91m [DEBUG] > \u001b[0m\n",
      " |>  to_array: msg.time > max_t; t, n\n",
      " |>  2.0\n",
      " |>  100\n",
      "\u001b[91m [DEBUG] > \u001b[0m\n",
      " |>  to_array: msg.time > max_t; t, n\n",
      " |>  2.00208333333\n",
      " |>  100\n",
      "\u001b[91m [DEBUG] > \u001b[0m\n",
      " |>  to_array: msg.time > max_t; t, n\n",
      " |>  2.00729166667\n",
      " |>  100\n",
      "\u001b[91m [DEBUG] > \u001b[0m\n",
      " |>  to_array: msg.time > max_t; t, n\n",
      " |>  1.99479166667\n",
      " |>  100\n",
      "\u001b[91m [DEBUG] > \u001b[0m\n",
      " |>  to_array: msg.time > max_t; t, n\n",
      " |>  2.03541666667\n",
      " |>  100\n",
      "\u001b[91m [DEBUG] > \u001b[0m\n",
      " |>  to_array: msg.time > max_t; t, n\n",
      " |>  1.996875\n",
      " |>  100\n",
      "\u001b[91m [DEBUG] > \u001b[0m\n",
      " |>  to_array: msg.time > max_t; t, n\n",
      " |>  2.11979166667\n",
      " |>  100\n",
      "\u001b[91m [DEBUG] > \u001b[0m\n",
      " |>  to_array: msg.time > max_t; t, n\n",
      " |>  2.06145833333\n",
      " |>  100\n",
      "\u001b[91m [DEBUG] > \u001b[0m\n",
      " |>  to_array: msg.time > max_t; t, n\n",
      " |>  1.99583333333\n",
      " |>  100\n",
      "\u001b[91m [DEBUG] > \u001b[0m\n",
      " |>  to_array: msg.time > max_t; t, n\n",
      " |>  2.01666666667\n",
      " |>  100\n",
      "\u001b[91m [DEBUG] > \u001b[0m\n",
      " |>  to_array: msg.time > max_t; t, n\n",
      " |>  2.00625\n",
      " |>  100\n",
      "\u001b[91m [DEBUG] > \u001b[0m\n",
      " |>  to_array: msg.time > max_t; t, n\n",
      " |>  2.03333333333\n",
      " |>  100\n",
      "\u001b[91m [DEBUG] > \u001b[0m\n",
      " |>  to_array: msg.time > max_t; t, n\n",
      " |>  2.06041666667\n",
      " |>  100\n",
      "\u001b[91m [DEBUG] > \u001b[0m\n",
      " |>  to_array: msg.time > max_t; t, n\n",
      " |>  2.26770833333\n",
      " |>  100\n",
      "\u001b[91m [DEBUG] > \u001b[0m\n",
      " |>  to_array: msg.time > max_t; t, n\n",
      " |>  2.02604166667\n",
      " |>  100\n",
      "\u001b[91m [DEBUG] > \u001b[0m\n",
      " |>  to_array: msg.time > max_t; t, n\n",
      " |>  2.06041666667\n",
      " |>  100\n",
      "\u001b[91m [DEBUG] > \u001b[0m\n",
      " |>  to_array: msg.time > max_t; t, n\n",
      " |>  2.09479166667\n",
      " |>  100\n",
      "\u001b[91m [DEBUG] > \u001b[0m\n",
      " |>  to_array: msg.time > max_t; t, n\n",
      " |>  2.00416666667\n",
      " |>  100\n",
      "\u001b[91m [DEBUG] > \u001b[0m\n",
      " |>  to_array: msg.time > max_t; t, n\n",
      " |>  2.20416666667\n",
      " |>  100\n",
      "\u001b[91m [DEBUG] > \u001b[0m\n",
      " |>  to_array: msg.time > max_t; t, n\n",
      " |>  2.00729166667\n",
      " |>  100\n",
      "\u001b[91m [DEBUG] > \u001b[0m\n",
      " |>  to_array: msg.time > max_t; t, n\n",
      " |>  1.99791666667\n",
      " |>  100\n",
      "\u001b[91m [DEBUG] > \u001b[0m\n",
      " |>  to_array: msg.time > max_t; t, n\n",
      " |>  2.0375\n",
      " |>  100\n",
      "\u001b[91m [DEBUG] > \u001b[0m\n",
      " |>  to_array: msg.time > max_t; t, n\n",
      " |>  1.996875\n",
      " |>  100\n",
      "\u001b[91m [DEBUG] > \u001b[0m\n",
      " |>  to_array: msg.time > max_t; t, n\n",
      " |>  2.015625\n",
      " |>  100\n",
      "\u001b[91m [DEBUG] > \u001b[0m\n",
      " |>  to_array: msg.time > max_t; t, n\n",
      " |>  2.00520833333\n",
      " |>  100\n",
      "\u001b[91m [DEBUG] > \u001b[0m\n",
      " |>  to_array: msg.time > max_t; t, n\n",
      " |>  2.00729166667\n",
      " |>  100\n",
      "\u001b[91m [DEBUG] > \u001b[0m\n",
      " |>  to_array: msg.time > max_t; t, n\n",
      " |>  2.00833333333\n",
      " |>  100\n",
      "\u001b[91m [DEBUG] > \u001b[0m\n",
      " |>  to_array: msg.time > max_t; t, n\n",
      " |>  2.00416666667\n",
      " |>  100\n",
      "\u001b[91m [DEBUG] > \u001b[0m\n",
      " |>  to_array: msg.time > max_t; t, n\n",
      " |>  2.00833333333\n",
      " |>  100\n",
      "\u001b[91m [DEBUG] > \u001b[0m\n",
      " |>  to_array: msg.time > max_t; t, n\n",
      " |>  2.05104166667\n",
      " |>  100\n",
      "\u001b[91m [DEBUG] > \u001b[0m\n",
      " |>  to_array: msg.time > max_t; t, n\n",
      " |>  2.03958333333\n",
      " |>  100\n",
      "\u001b[91m [DEBUG] > \u001b[0m\n",
      " |>  to_array: msg.time > max_t; t, n\n",
      " |>  2.04166666667\n",
      " |>  100\n",
      "\u001b[91m [DEBUG] > \u001b[0m\n",
      " |>  to_array: msg.time > max_t; t, n\n",
      " |>  2.03333333333\n",
      " |>  100\n",
      "\u001b[91m [DEBUG] > \u001b[0m\n",
      " |>  to_array: msg.time > max_t; t, n\n",
      " |>  2.00520833333\n",
      " |>  100\n",
      "\u001b[91m [DEBUG] > \u001b[0m\n",
      " |>  to_array: msg.time > max_t; t, n\n",
      " |>  2.0\n",
      " |>  100\n",
      "\u001b[91m [DEBUG] > \u001b[0m\n",
      " |>  to_array: msg.time > max_t; t, n\n",
      " |>  2.08333333333\n",
      " |>  100\n",
      "\u001b[91m [DEBUG] > \u001b[0m\n",
      " |>  to_array: msg.time > max_t; t, n\n",
      " |>  2.06458333333\n",
      " |>  100\n",
      "\u001b[91m [DEBUG] > \u001b[0m\n",
      " |>  to_array: msg.time > max_t; t, n\n",
      " |>  2.015625\n",
      " |>  100\n",
      "\u001b[91m [DEBUG] > \u001b[0m\n",
      " |>  to_array: msg.time > max_t; t, n\n",
      " |>  2.11458333333\n",
      " |>  100\n",
      "\u001b[91m [DEBUG] > \u001b[0m\n",
      " |>  to_array: msg.time > max_t; t, n\n",
      " |>  2.025\n",
      " |>  100\n",
      "\u001b[91m [DEBUG] > \u001b[0m\n",
      " |>  to_array: msg.time > max_t; t, n\n",
      " |>  2.021875\n",
      " |>  100\n",
      "\u001b[91m [DEBUG] > \u001b[0m\n",
      " |>  to_array: msg.time > max_t; t, n\n",
      " |>  2.16875\n",
      " |>  100\n",
      "\u001b[91m [DEBUG] > \u001b[0m\n",
      " |>  to_array: msg.time > max_t; t, n\n",
      " |>  2.01354166667\n",
      " |>  100\n",
      "\u001b[91m [DEBUG] > \u001b[0m\n",
      " |>  to_array: msg.time > max_t; t, n\n",
      " |>  2.00625\n",
      " |>  100\n",
      "\u001b[91m [DEBUG] > \u001b[0m\n",
      " |>  to_array: msg.time > max_t; t, n\n",
      " |>  1.99166666667\n",
      " |>  100\n",
      "\u001b[91m [DEBUG] > \u001b[0m\n",
      " |>  to_array: msg.time > max_t; t, n\n",
      " |>  2.20416666667\n",
      " |>  100\n",
      "\u001b[91m [DEBUG] > \u001b[0m\n",
      " |>  to_array: msg.time > max_t; t, n\n",
      " |>  1.99895833333\n",
      " |>  100\n",
      "\u001b[91m [DEBUG] > \u001b[0m\n",
      " |>  to_array: msg.time > max_t; t, n\n",
      " |>  2.02395833333\n",
      " |>  100\n",
      "\u001b[91m [DEBUG] > \u001b[0m\n",
      " |>  to_array: msg.time > max_t; t, n\n",
      " |>  2.18125\n",
      " |>  100\n",
      "\u001b[91m [DEBUG] > \u001b[0m\n",
      " |>  to_array: msg.time > max_t; t, n\n",
      " |>  2.009375\n",
      " |>  100\n",
      "\u001b[91m [DEBUG] > \u001b[0m\n",
      " |>  to_array: msg.time > max_t; t, n\n",
      " |>  2.04270833333\n",
      " |>  100\n",
      "\u001b[91m [DEBUG] > \u001b[0m\n",
      " |>  to_array: msg.time > max_t; t, n\n",
      " |>  2.040625\n",
      " |>  100\n",
      "\u001b[91m [DEBUG] > \u001b[0m\n",
      " |>  to_array: msg.time > max_t; t, n\n",
      " |>  2.01666666667\n",
      " |>  100\n",
      "\u001b[91m [DEBUG] > \u001b[0m\n",
      " |>  to_array: msg.time > max_t; t, n\n",
      " |>  1.99895833333\n",
      " |>  100\n",
      "\u001b[91m [DEBUG] > \u001b[0m\n",
      " |>  to_array: msg.time > max_t; t, n\n",
      " |>  2.09270833333\n",
      " |>  100\n",
      "\u001b[91m [DEBUG] > \u001b[0m\n",
      " |>  to_array: msg.time > max_t; t, n\n",
      " |>  2.05\n",
      " |>  100\n",
      "\u001b[91m [DEBUG] > \u001b[0m\n",
      " |>  to_array: msg.time > max_t; t, n\n",
      " |>  2.00833333333\n",
      " |>  100\n",
      "\u001b[91m [DEBUG] > \u001b[0m\n",
      " |>  to_array: msg.time > max_t; t, n\n",
      " |>  2.00104166667\n",
      " |>  100\n",
      "\u001b[91m [DEBUG] > \u001b[0m\n",
      " |>  to_array: msg.time > max_t; t, n\n",
      " |>  2.01666666667\n",
      " |>  100\n",
      "\u001b[91m [DEBUG] > \u001b[0m\n",
      " |>  to_array: msg.time > max_t; t, n\n",
      " |>  2.046875\n",
      " |>  100\n",
      "\u001b[91m [DEBUG] > \u001b[0m\n",
      " |>  to_array: msg.time > max_t; t, n\n",
      " |>  2.00833333333\n",
      " |>  100\n",
      "\u001b[91m [DEBUG] > \u001b[0m\n",
      " |>  to_array: msg.time > max_t; t, n\n",
      " |>  2.02083333333\n",
      " |>  100\n",
      "\u001b[91m [DEBUG] > \u001b[0m\n",
      " |>  to_array: msg.time > max_t; t, n\n",
      " |>  2.02291666667\n",
      " |>  100\n",
      "\u001b[91m [DEBUG] > \u001b[0m\n",
      " |>  to_array: msg.time > max_t; t, n\n",
      " |>  2.02083333333\n",
      " |>  100\n",
      "\u001b[91m [DEBUG] > \u001b[0m\n",
      " |>  to_array: msg.time > max_t; t, n\n",
      " |>  2.00625\n",
      " |>  100\n",
      "\u001b[91m [DEBUG] > \u001b[0m\n",
      " |>  to_array: msg.time > max_t; t, n\n",
      " |>  2.00416666667\n",
      " |>  100\n",
      "\u001b[91m [DEBUG] > \u001b[0m\n",
      " |>  to_array: msg.time > max_t; t, n\n",
      " |>  2.00625\n",
      " |>  100\n",
      "\u001b[91m [DEBUG] > \u001b[0m\n",
      " |>  to_array: msg.time > max_t; t, n\n",
      " |>  2.00208333333\n",
      " |>  100\n",
      "\u001b[91m [DEBUG] > \u001b[0m\n",
      " |>  to_array: msg.time > max_t; t, n\n",
      " |>  2.028125\n",
      " |>  100\n",
      "\u001b[91m [DEBUG] > \u001b[0m\n",
      " |>  to_array: msg.time > max_t; t, n\n",
      " |>  2.084375\n",
      " |>  100\n",
      "\u001b[91m [DEBUG] > \u001b[0m\n",
      " |>  to_array: msg.time > max_t; t, n\n",
      " |>  2.0375\n",
      " |>  100\n",
      "\u001b[91m [DEBUG] > \u001b[0m\n",
      " |>  to_array: msg.time > max_t; t, n\n",
      " |>  2.28229166667\n",
      " |>  100\n",
      "\u001b[91m [DEBUG] > \u001b[0m\n",
      " |>  to_array: msg.time > max_t; t, n\n",
      " |>  2.00416666667\n",
      " |>  100\n",
      "\u001b[91m [DEBUG] > \u001b[0m\n",
      " |>  to_array: msg.time > max_t; t, n\n",
      " |>  1.996875\n",
      " |>  100\n",
      "\u001b[91m [DEBUG] > \u001b[0m\n",
      " |>  to_array: msg.time > max_t; t, n\n",
      " |>  2.003125\n",
      " |>  100\n",
      "\u001b[91m [DEBUG] > \u001b[0m\n",
      " |>  to_array: msg.time > max_t; t, n\n",
      " |>  1.996875\n",
      " |>  100\n",
      "\u001b[91m [DEBUG] > \u001b[0m\n",
      " |>  to_array: msg.time > max_t; t, n\n",
      " |>  2.009375\n",
      " |>  100\n",
      "\u001b[91m [DEBUG] > \u001b[0m\n",
      " |>  to_array: msg.time > max_t; t, n\n",
      " |>  2.06979166667\n",
      " |>  100\n",
      "\u001b[92m [INFO] : \u001b[0m\n",
      " |  reduced dims:\n",
      " |  (100, 100, 1)\n"
     ]
    }
   ],
   "source": [
    "n = 100\n",
    "min_f = 3\n",
    "max_f = 15\n",
    "x_train, params = g.gen_data_complex(context, n, max_f=max_f, min_f=min_f,\n",
    "    n_polyrythms=1,\n",
    "    n_channels=1,\n",
    "    d_phase=True,\n",
    "    return_params=True,\n",
    "    dim4=dim4,\n",
    "    multiTrack=multiTrack)"
   ]
  },
  {
   "cell_type": "code",
   "execution_count": 86,
   "metadata": {},
   "outputs": [
    {
     "data": {
      "text/plain": [
       "(100, 1, 1)"
      ]
     },
     "execution_count": 86,
     "metadata": {},
     "output_type": "execute_result"
    }
   ],
   "source": [
    "params.shape # n, n_channels, n_polyrythms"
   ]
  },
  {
   "cell_type": "code",
   "execution_count": 87,
   "metadata": {},
   "outputs": [
    {
     "data": {
      "text/plain": [
       "(100,)"
      ]
     },
     "execution_count": 87,
     "metadata": {},
     "output_type": "execute_result"
    }
   ],
   "source": [
    "range_ = (max_f - min_f)\n",
    "y_train = (params[:,0,0] - min_f) / range_\n",
    "y_train.shape"
   ]
  },
  {
   "cell_type": "code",
   "execution_count": 88,
   "metadata": {},
   "outputs": [
    {
     "data": {
      "text/plain": [
       "(100, 100, 1, 1)"
      ]
     },
     "execution_count": 88,
     "metadata": {},
     "output_type": "execute_result"
    }
   ],
   "source": [
    "x_train.shape"
   ]
  },
  {
   "cell_type": "code",
   "execution_count": 89,
   "metadata": {},
   "outputs": [],
   "source": [
    "m = 80\n",
    "x_test = x_train[m:]\n",
    "x_train = x_train[:m]\n",
    "y_test = y_train[m:]\n",
    "y_train = y_train[:m]"
   ]
  },
  {
   "cell_type": "code",
   "execution_count": null,
   "metadata": {},
   "outputs": [],
   "source": []
  },
  {
   "cell_type": "code",
   "execution_count": 90,
   "metadata": {},
   "outputs": [
    {
     "name": "stdout",
     "output_type": "stream",
     "text": [
      "m (30, 1)\n"
     ]
    },
    {
     "data": {
      "image/png": "[encoded data removed]",
      "text/plain": [
       "<matplotlib.figure.Figure at 0x1a20ac3048>"
      ]
     },
     "metadata": {},
     "output_type": "display_data"
    },
    {
     "name": "stdout",
     "output_type": "stream",
     "text": [
      "m (30, 1)\n"
     ]
    },
    {
     "data": {
      "image/png": "[encoded data removed]",
      "text/plain": [
       "<matplotlib.figure.Figure at 0x1a207e9978>"
      ]
     },
     "metadata": {},
     "output_type": "display_data"
    },
    {
     "name": "stdout",
     "output_type": "stream",
     "text": [
      "[ 0.4980536   0.61814153]\n"
     ]
    }
   ],
   "source": [
    "i = 0\n",
    "plot.single(x_train[i,:30,0])\n",
    "plot.single(x_train[i+1,:30,0])\n",
    "print(y_train[i:i+2])"
   ]
  },
  {
   "cell_type": "markdown",
   "metadata": {},
   "source": [
    "Make sure all frequencies fall inside the window"
   ]
  },
  {
   "cell_type": "code",
   "execution_count": 91,
   "metadata": {},
   "outputs": [
    {
     "name": "stdout",
     "output_type": "stream",
     "text": [
      "m (30, 1)\n"
     ]
    },
    {
     "data": {
      "image/png": "[encoded data removed]",
      "text/plain": [
       "<matplotlib.figure.Figure at 0x1a2123dcf8>"
      ]
     },
     "metadata": {},
     "output_type": "display_data"
    },
    {
     "name": "stdout",
     "output_type": "stream",
     "text": [
      "m (30, 1)\n"
     ]
    },
    {
     "data": {
      "image/png": "[encoded data removed]",
      "text/plain": [
       "<matplotlib.figure.Figure at 0x1a212124a8>"
      ]
     },
     "metadata": {},
     "output_type": "display_data"
    },
    {
     "name": "stdout",
     "output_type": "stream",
     "text": [
      "0.97672623719 0.00468381691798\n"
     ]
    }
   ],
   "source": [
    "i = y_train.argmax()\n",
    "j = y_train.argmin()\n",
    "plot.single(x_train[i,:30,0])\n",
    "plot.single(x_train[j,:30,0])\n",
    "print(y_train[i], y_train[j])"
   ]
  },
  {
   "cell_type": "code",
   "execution_count": 92,
   "metadata": {},
   "outputs": [
    {
     "data": {
      "text/plain": [
       "(100, 1, 1)"
      ]
     },
     "execution_count": 92,
     "metadata": {},
     "output_type": "execute_result"
    }
   ],
   "source": [
    "input_shape = x_train[0].shape\n",
    "input_shape"
   ]
  },
  {
   "cell_type": "code",
   "execution_count": 118,
   "metadata": {},
   "outputs": [
    {
     "name": "stdout",
     "output_type": "stream",
     "text": [
      "_________________________________________________________________\n",
      "Layer (type)                 Output Shape              Param #   \n",
      "=================================================================\n",
      "input_13 (InputLayer)        (None, 100, 1, 1)         0         \n",
      "_________________________________________________________________\n",
      "reshape_10 (Reshape)         (None, 100, 1)            0         \n",
      "_________________________________________________________________\n",
      "lstm_8 (LSTM)                (None, 2)                 32        \n",
      "_________________________________________________________________\n",
      "dense_13 (Dense)             (None, 1)                 3         \n",
      "=================================================================\n",
      "Total params: 35\n",
      "Trainable params: 35\n",
      "Non-trainable params: 0\n",
      "_________________________________________________________________\n"
     ]
    }
   ],
   "source": [
    "timesteps, notes, channels = input_shape\n",
    "\n",
    "encoder_input = Input(shape=(timesteps, notes, channels))\n",
    "x = encoder_input\n",
    "\n",
    "x = Reshape((timesteps, notes))(x)\n",
    "x = LSTM(2)(x)\n",
    "# x = Dense(10)(x)\n",
    "x = Dense(1)(x)\n",
    "\n",
    "encoder_output = x\n",
    "\n",
    "model = Model(encoder_input, encoder_output, name='encoder-')\n",
    "model.summary()"
   ]
  },
  {
   "cell_type": "code",
   "execution_count": 119,
   "metadata": {},
   "outputs": [],
   "source": [
    "loss = 'mse' # mse mae binary_crossentropy rmsprop adadelta\n",
    "model.compile(loss=loss, optimizer='rmsprop', metrics=['accuracy','mae','binary_crossentropy'])"
   ]
  },
  {
   "cell_type": "code",
   "execution_count": 120,
   "metadata": {},
   "outputs": [],
   "source": [
    "phase_mod = 0.1\n",
    "whitening = False\n",
    "\n",
    "datagen = ImageDataGenerator(\n",
    "        featurewise_center=False,  # set input mean to 0 over the dataset\n",
    "        samplewise_center=False,  # set each sample mean to 0\n",
    "        featurewise_std_normalization=False,  # divide inputs by dataset std\n",
    "        samplewise_std_normalization=False,  # divide each input by its std\n",
    "#         zca_epsilon=10,\n",
    "        zca_whitening=whitening,\n",
    "        rotation_range=0,  # randomly rotate images in 0 to 180 degrees\n",
    "        width_shift_range=0.,  # note-channel mod, but not shuffled\n",
    "        height_shift_range=phase_mod,  # start_t, phase\n",
    "        horizontal_flip=False,  # reverse\n",
    "        vertical_flip=False)\n",
    "\n",
    "datagen.fit(x_train)"
   ]
  },
  {
   "cell_type": "code",
   "execution_count": 121,
   "metadata": {},
   "outputs": [],
   "source": [
    "batch_size = 32\n",
    "epochs = 50"
   ]
  },
  {
   "cell_type": "code",
   "execution_count": 122,
   "metadata": {
    "scrolled": true
   },
   "outputs": [
    {
     "name": "stdout",
     "output_type": "stream",
     "text": [
      "Not using data augmentation.\n",
      "Train on 80 samples, validate on 20 samples\n",
      "Epoch 1/50\n",
      "80/80 [==============================] - 1s 9ms/step - loss: 0.9822 - acc: 0.0000e+00 - mean_absolute_error: 0.9045 - binary_crossentropy: 8.7056 - val_loss: 1.2701 - val_acc: 0.0000e+00 - val_mean_absolute_error: 1.0435 - val_binary_crossentropy: 10.5126\n",
      "Epoch 2/50\n",
      "80/80 [==============================] - 1s 8ms/step - loss: 0.9298 - acc: 0.0000e+00 - mean_absolute_error: 0.8752 - binary_crossentropy: 8.7056 - val_loss: 1.2269 - val_acc: 0.0000e+00 - val_mean_absolute_error: 1.0233 - val_binary_crossentropy: 10.5126\n",
      "Epoch 3/50\n",
      "80/80 [==============================] - 1s 8ms/step - loss: 0.8966 - acc: 0.0000e+00 - mean_absolute_error: 0.8564 - binary_crossentropy: 8.7056 - val_loss: 1.1929 - val_acc: 0.0000e+00 - val_mean_absolute_error: 1.0072 - val_binary_crossentropy: 10.4964\n",
      "Epoch 4/50\n",
      "80/80 [==============================] - 1s 8ms/step - loss: 0.8692 - acc: 0.0000e+00 - mean_absolute_error: 0.8413 - binary_crossentropy: 8.6787 - val_loss: 1.1615 - val_acc: 0.0000e+00 - val_mean_absolute_error: 0.9921 - val_binary_crossentropy: 10.4955\n",
      "Epoch 5/50\n",
      "80/80 [==============================] - 1s 9ms/step - loss: 0.8440 - acc: 0.0000e+00 - mean_absolute_error: 0.8270 - binary_crossentropy: 8.6744 - val_loss: 1.1323 - val_acc: 0.0000e+00 - val_mean_absolute_error: 0.9779 - val_binary_crossentropy: 10.4953\n",
      "Epoch 6/50\n",
      "80/80 [==============================] - 1s 7ms/step - loss: 0.8207 - acc: 0.0000e+00 - mean_absolute_error: 0.8133 - binary_crossentropy: 8.6733 - val_loss: 1.1049 - val_acc: 0.0000e+00 - val_mean_absolute_error: 0.9650 - val_binary_crossentropy: 10.4953\n",
      "Epoch 7/50\n",
      "80/80 [==============================] - 1s 7ms/step - loss: 0.7986 - acc: 0.0000e+00 - mean_absolute_error: 0.8006 - binary_crossentropy: 8.6243 - val_loss: 1.0785 - val_acc: 0.0000e+00 - val_mean_absolute_error: 0.9528 - val_binary_crossentropy: 10.4954\n",
      "Epoch 8/50\n",
      "80/80 [==============================] - 1s 7ms/step - loss: 0.7777 - acc: 0.0000e+00 - mean_absolute_error: 0.7880 - binary_crossentropy: 8.6192 - val_loss: 1.0542 - val_acc: 0.0000e+00 - val_mean_absolute_error: 0.9413 - val_binary_crossentropy: 10.4956\n",
      "Epoch 9/50\n",
      "80/80 [==============================] - 1s 8ms/step - loss: 0.7584 - acc: 0.0000e+00 - mean_absolute_error: 0.7762 - binary_crossentropy: 8.5827 - val_loss: 1.0315 - val_acc: 0.0000e+00 - val_mean_absolute_error: 0.9305 - val_binary_crossentropy: 10.4958\n",
      "Epoch 10/50\n",
      "80/80 [==============================] - 1s 7ms/step - loss: 0.7403 - acc: 0.0000e+00 - mean_absolute_error: 0.7649 - binary_crossentropy: 8.5783 - val_loss: 1.0094 - val_acc: 0.0000e+00 - val_mean_absolute_error: 0.9198 - val_binary_crossentropy: 10.4960\n",
      "Epoch 11/50\n",
      "80/80 [==============================] - 1s 7ms/step - loss: 0.7226 - acc: 0.0000e+00 - mean_absolute_error: 0.7540 - binary_crossentropy: 8.5765 - val_loss: 0.9880 - val_acc: 0.0000e+00 - val_mean_absolute_error: 0.9094 - val_binary_crossentropy: 10.4963\n",
      "Epoch 12/50\n",
      "80/80 [==============================] - 1s 7ms/step - loss: 0.7055 - acc: 0.0000e+00 - mean_absolute_error: 0.7433 - binary_crossentropy: 8.5382 - val_loss: 0.9668 - val_acc: 0.0000e+00 - val_mean_absolute_error: 0.8989 - val_binary_crossentropy: 10.4965\n",
      "Epoch 13/50\n",
      "80/80 [==============================] - 1s 7ms/step - loss: 0.6889 - acc: 0.0000e+00 - mean_absolute_error: 0.7324 - binary_crossentropy: 8.4490 - val_loss: 0.9472 - val_acc: 0.0000e+00 - val_mean_absolute_error: 0.8891 - val_binary_crossentropy: 10.4968\n",
      "Epoch 14/50\n",
      "80/80 [==============================] - 1s 7ms/step - loss: 0.6730 - acc: 0.0000e+00 - mean_absolute_error: 0.7225 - binary_crossentropy: 8.4337 - val_loss: 0.9264 - val_acc: 0.0000e+00 - val_mean_absolute_error: 0.8786 - val_binary_crossentropy: 10.4970\n",
      "Epoch 15/50\n",
      "80/80 [==============================] - 1s 7ms/step - loss: 0.6569 - acc: 0.0000e+00 - mean_absolute_error: 0.7118 - binary_crossentropy: 8.4290 - val_loss: 0.9076 - val_acc: 0.0000e+00 - val_mean_absolute_error: 0.8690 - val_binary_crossentropy: 10.4973\n",
      "Epoch 16/50\n",
      "80/80 [==============================] - 1s 7ms/step - loss: 0.6419 - acc: 0.0000e+00 - mean_absolute_error: 0.7019 - binary_crossentropy: 8.4242 - val_loss: 0.8883 - val_acc: 0.0000e+00 - val_mean_absolute_error: 0.8590 - val_binary_crossentropy: 10.4976\n",
      "Epoch 17/50\n",
      "80/80 [==============================] - 1s 7ms/step - loss: 0.6267 - acc: 0.0000e+00 - mean_absolute_error: 0.6919 - binary_crossentropy: 8.4202 - val_loss: 0.8698 - val_acc: 0.0000e+00 - val_mean_absolute_error: 0.8493 - val_binary_crossentropy: 10.3208\n",
      "Epoch 18/50\n",
      "80/80 [==============================] - 1s 7ms/step - loss: 0.6122 - acc: 0.0000e+00 - mean_absolute_error: 0.6827 - binary_crossentropy: 8.2304 - val_loss: 0.8515 - val_acc: 0.0000e+00 - val_mean_absolute_error: 0.8397 - val_binary_crossentropy: 10.3071\n",
      "Epoch 19/50\n",
      "80/80 [==============================] - 1s 7ms/step - loss: 0.5979 - acc: 0.0000e+00 - mean_absolute_error: 0.6732 - binary_crossentropy: 8.0901 - val_loss: 0.8336 - val_acc: 0.0000e+00 - val_mean_absolute_error: 0.8301 - val_binary_crossentropy: 10.3002\n",
      "Epoch 20/50\n",
      "80/80 [==============================] - 1s 7ms/step - loss: 0.5840 - acc: 0.0000e+00 - mean_absolute_error: 0.6639 - binary_crossentropy: 8.0636 - val_loss: 0.8167 - val_acc: 0.0000e+00 - val_mean_absolute_error: 0.8209 - val_binary_crossentropy: 10.2960\n",
      "Epoch 21/50\n",
      "80/80 [==============================] - 1s 7ms/step - loss: 0.5708 - acc: 0.0000e+00 - mean_absolute_error: 0.6552 - binary_crossentropy: 8.0541 - val_loss: 0.7994 - val_acc: 0.0000e+00 - val_mean_absolute_error: 0.8115 - val_binary_crossentropy: 10.2927\n",
      "Epoch 22/50\n",
      "80/80 [==============================] - 1s 7ms/step - loss: 0.5575 - acc: 0.0000e+00 - mean_absolute_error: 0.6462 - binary_crossentropy: 8.0432 - val_loss: 0.7830 - val_acc: 0.0000e+00 - val_mean_absolute_error: 0.8024 - val_binary_crossentropy: 10.2903\n",
      "Epoch 23/50\n",
      "80/80 [==============================] - 1s 7ms/step - loss: 0.5449 - acc: 0.0000e+00 - mean_absolute_error: 0.6375 - binary_crossentropy: 8.0151 - val_loss: 0.7676 - val_acc: 0.0000e+00 - val_mean_absolute_error: 0.7938 - val_binary_crossentropy: 10.2885\n",
      "Epoch 24/50\n",
      "80/80 [==============================] - 1s 7ms/step - loss: 0.5329 - acc: 0.0000e+00 - mean_absolute_error: 0.6295 - binary_crossentropy: 8.0038 - val_loss: 0.7522 - val_acc: 0.0000e+00 - val_mean_absolute_error: 0.7850 - val_binary_crossentropy: 10.0538\n",
      "Epoch 25/50\n",
      "80/80 [==============================] - 1s 7ms/step - loss: 0.5209 - acc: 0.0000e+00 - mean_absolute_error: 0.6213 - binary_crossentropy: 7.8833 - val_loss: 0.7366 - val_acc: 0.0000e+00 - val_mean_absolute_error: 0.7761 - val_binary_crossentropy: 10.0356\n",
      "Epoch 26/50\n",
      "80/80 [==============================] - 1s 7ms/step - loss: 0.5089 - acc: 0.0000e+00 - mean_absolute_error: 0.6132 - binary_crossentropy: 7.7153 - val_loss: 0.7206 - val_acc: 0.0000e+00 - val_mean_absolute_error: 0.7668 - val_binary_crossentropy: 10.0251\n",
      "Epoch 27/50\n",
      "80/80 [==============================] - 1s 7ms/step - loss: 0.4969 - acc: 0.0000e+00 - mean_absolute_error: 0.6047 - binary_crossentropy: 7.6893 - val_loss: 0.7064 - val_acc: 0.0000e+00 - val_mean_absolute_error: 0.7585 - val_binary_crossentropy: 10.0185\n",
      "Epoch 28/50\n",
      "80/80 [==============================] - 1s 7ms/step - loss: 0.4859 - acc: 0.0000e+00 - mean_absolute_error: 0.5968 - binary_crossentropy: 7.5801 - val_loss: 0.6922 - val_acc: 0.0000e+00 - val_mean_absolute_error: 0.7500 - val_binary_crossentropy: 10.0133\n",
      "Epoch 29/50\n",
      "80/80 [==============================] - 1s 7ms/step - loss: 0.4752 - acc: 0.0000e+00 - mean_absolute_error: 0.5892 - binary_crossentropy: 7.5594 - val_loss: 0.6788 - val_acc: 0.0000e+00 - val_mean_absolute_error: 0.7420 - val_binary_crossentropy: 10.0092\n",
      "Epoch 30/50\n",
      "80/80 [==============================] - 1s 7ms/step - loss: 0.4649 - acc: 0.0000e+00 - mean_absolute_error: 0.5816 - binary_crossentropy: 7.5477 - val_loss: 0.6653 - val_acc: 0.0000e+00 - val_mean_absolute_error: 0.7338 - val_binary_crossentropy: 9.9048\n",
      "Epoch 31/50\n"
     ]
    },
    {
     "name": "stdout",
     "output_type": "stream",
     "text": [
      "80/80 [==============================] - 1s 7ms/step - loss: 0.4547 - acc: 0.0000e+00 - mean_absolute_error: 0.5743 - binary_crossentropy: 7.5404 - val_loss: 0.6522 - val_acc: 0.0000e+00 - val_mean_absolute_error: 0.7257 - val_binary_crossentropy: 9.8933\n",
      "Epoch 32/50\n",
      "80/80 [==============================] - 1s 7ms/step - loss: 0.4447 - acc: 0.0000e+00 - mean_absolute_error: 0.5667 - binary_crossentropy: 7.4332 - val_loss: 0.6394 - val_acc: 0.0000e+00 - val_mean_absolute_error: 0.7177 - val_binary_crossentropy: 9.8866\n",
      "Epoch 33/50\n",
      "80/80 [==============================] - 1s 7ms/step - loss: 0.4351 - acc: 0.0000e+00 - mean_absolute_error: 0.5594 - binary_crossentropy: 7.3647 - val_loss: 0.6270 - val_acc: 0.0000e+00 - val_mean_absolute_error: 0.7099 - val_binary_crossentropy: 9.8817\n",
      "Epoch 34/50\n",
      "80/80 [==============================] - 1s 7ms/step - loss: 0.4256 - acc: 0.0000e+00 - mean_absolute_error: 0.5522 - binary_crossentropy: 7.1991 - val_loss: 0.6144 - val_acc: 0.0000e+00 - val_mean_absolute_error: 0.7019 - val_binary_crossentropy: 9.8777\n",
      "Epoch 35/50\n",
      "80/80 [==============================] - 1s 7ms/step - loss: 0.4162 - acc: 0.0000e+00 - mean_absolute_error: 0.5450 - binary_crossentropy: 6.9578 - val_loss: 0.6022 - val_acc: 0.0000e+00 - val_mean_absolute_error: 0.6941 - val_binary_crossentropy: 9.4832\n",
      "Epoch 36/50\n",
      "80/80 [==============================] - 1s 7ms/step - loss: 0.4071 - acc: 0.0000e+00 - mean_absolute_error: 0.5375 - binary_crossentropy: 6.8893 - val_loss: 0.5906 - val_acc: 0.0000e+00 - val_mean_absolute_error: 0.6865 - val_binary_crossentropy: 9.2808\n",
      "Epoch 37/50\n",
      "80/80 [==============================] - 1s 7ms/step - loss: 0.3983 - acc: 0.0000e+00 - mean_absolute_error: 0.5307 - binary_crossentropy: 6.4810 - val_loss: 0.5785 - val_acc: 0.0000e+00 - val_mean_absolute_error: 0.6793 - val_binary_crossentropy: 9.0159\n",
      "Epoch 38/50\n",
      "80/80 [==============================] - 1s 7ms/step - loss: 0.3894 - acc: 0.0000e+00 - mean_absolute_error: 0.5236 - binary_crossentropy: 5.7222 - val_loss: 0.5676 - val_acc: 0.0000e+00 - val_mean_absolute_error: 0.6727 - val_binary_crossentropy: 8.9803\n",
      "Epoch 39/50\n",
      "80/80 [==============================] - 1s 7ms/step - loss: 0.3812 - acc: 0.0000e+00 - mean_absolute_error: 0.5176 - binary_crossentropy: 5.4555 - val_loss: 0.5566 - val_acc: 0.0000e+00 - val_mean_absolute_error: 0.6660 - val_binary_crossentropy: 8.9565\n",
      "Epoch 40/50\n",
      "80/80 [==============================] - 1s 7ms/step - loss: 0.3730 - acc: 0.0000e+00 - mean_absolute_error: 0.5112 - binary_crossentropy: 5.2476 - val_loss: 0.5450 - val_acc: 0.0000e+00 - val_mean_absolute_error: 0.6588 - val_binary_crossentropy: 8.4011\n",
      "Epoch 41/50\n",
      "80/80 [==============================] - 1s 7ms/step - loss: 0.3647 - acc: 0.0000e+00 - mean_absolute_error: 0.5045 - binary_crossentropy: 4.6459 - val_loss: 0.5353 - val_acc: 0.0000e+00 - val_mean_absolute_error: 0.6528 - val_binary_crossentropy: 8.3282\n",
      "Epoch 42/50\n",
      "80/80 [==============================] - 1s 7ms/step - loss: 0.3575 - acc: 0.0000e+00 - mean_absolute_error: 0.4987 - binary_crossentropy: 4.5517 - val_loss: 0.5259 - val_acc: 0.0000e+00 - val_mean_absolute_error: 0.6468 - val_binary_crossentropy: 7.9580\n",
      "Epoch 43/50\n",
      "80/80 [==============================] - 1s 7ms/step - loss: 0.3505 - acc: 0.0000e+00 - mean_absolute_error: 0.4928 - binary_crossentropy: 4.3871 - val_loss: 0.5161 - val_acc: 0.0000e+00 - val_mean_absolute_error: 0.6405 - val_binary_crossentropy: 5.5919\n",
      "Epoch 44/50\n",
      "80/80 [==============================] - 1s 7ms/step - loss: 0.3431 - acc: 0.0000e+00 - mean_absolute_error: 0.4871 - binary_crossentropy: 3.9917 - val_loss: 0.5059 - val_acc: 0.0000e+00 - val_mean_absolute_error: 0.6340 - val_binary_crossentropy: 4.9111\n",
      "Epoch 45/50\n",
      "80/80 [==============================] - 1s 7ms/step - loss: 0.3359 - acc: 0.0000e+00 - mean_absolute_error: 0.4808 - binary_crossentropy: 3.5866 - val_loss: 0.4972 - val_acc: 0.0000e+00 - val_mean_absolute_error: 0.6283 - val_binary_crossentropy: 4.7279\n",
      "Epoch 46/50\n",
      "80/80 [==============================] - 1s 7ms/step - loss: 0.3294 - acc: 0.0000e+00 - mean_absolute_error: 0.4755 - binary_crossentropy: 3.2876 - val_loss: 0.4878 - val_acc: 0.0000e+00 - val_mean_absolute_error: 0.6220 - val_binary_crossentropy: 4.6090\n",
      "Epoch 47/50\n",
      "80/80 [==============================] - 1s 7ms/step - loss: 0.3227 - acc: 0.0000e+00 - mean_absolute_error: 0.4695 - binary_crossentropy: 2.9268 - val_loss: 0.4792 - val_acc: 0.0000e+00 - val_mean_absolute_error: 0.6163 - val_binary_crossentropy: 3.6082\n",
      "Epoch 48/50\n",
      "80/80 [==============================] - 1s 7ms/step - loss: 0.3163 - acc: 0.0000e+00 - mean_absolute_error: 0.4646 - binary_crossentropy: 2.4416 - val_loss: 0.4705 - val_acc: 0.0000e+00 - val_mean_absolute_error: 0.6104 - val_binary_crossentropy: 3.3884\n",
      "Epoch 49/50\n",
      "80/80 [==============================] - 1s 7ms/step - loss: 0.3100 - acc: 0.0000e+00 - mean_absolute_error: 0.4592 - binary_crossentropy: 2.3485 - val_loss: 0.4618 - val_acc: 0.0000e+00 - val_mean_absolute_error: 0.6045 - val_binary_crossentropy: 2.8367\n",
      "Epoch 50/50\n",
      "80/80 [==============================] - 1s 7ms/step - loss: 0.3036 - acc: 0.0000e+00 - mean_absolute_error: 0.4539 - binary_crossentropy: 2.2737 - val_loss: 0.4533 - val_acc: 0.0000e+00 - val_mean_absolute_error: 0.5986 - val_binary_crossentropy: 2.0985\n"
     ]
    }
   ],
   "source": [
    "data_augmentation = False\n",
    "# data_augmentation = True\n",
    "\n",
    "callbacks = []\n",
    "callbacks = [TensorBoard(log_dir=config.tmp_log_dir)]\n",
    "\n",
    "if not data_augmentation:\n",
    "    print('Not using data augmentation.')\n",
    "#     history = ae.fit(x_train, epochs=epochs, validation_data=(x_test, None))\n",
    "    history = model.fit(\n",
    "        x_train,\n",
    "        y_train,\n",
    "        batch_size=batch_size,\n",
    "        epochs=epochs,\n",
    "        validation_data=(x_test, y_test),\n",
    "        callbacks=callbacks,\n",
    "        shuffle=True)\n",
    "else:\n",
    "    print('Using real-time data augmentation.')    \n",
    "    history = model.fit_generator(\n",
    "        datagen.flow(x_train, y_train, batch_size=batch_size),\n",
    "        epochs=epochs,\n",
    "        validation_data=(x_test, y_test),\n",
    "        callbacks=callbacks,\n",
    "        workers=4)"
   ]
  },
  {
   "cell_type": "code",
   "execution_count": 123,
   "metadata": {},
   "outputs": [
    {
     "data": {
      "text/plain": [
       "[<matplotlib.lines.Line2D at 0x1a2157e7b8>]"
      ]
     },
     "execution_count": 123,
     "metadata": {},
     "output_type": "execute_result"
    },
    {
     "data": {
      "image/png": "[encoded data removed]",
      "text/plain": [
       "<matplotlib.figure.Figure at 0x1a22efa4e0>"
      ]
     },
     "metadata": {},
     "output_type": "display_data"
    }
   ],
   "source": [
    "plt.plot(history.history['loss'])\n",
    "plt.plot(history.history['val_loss'])"
   ]
  },
  {
   "cell_type": "code",
   "execution_count": 124,
   "metadata": {},
   "outputs": [
    {
     "data": {
      "text/plain": [
       "[<matplotlib.lines.Line2D at 0x1a23c09400>]"
      ]
     },
     "execution_count": 124,
     "metadata": {},
     "output_type": "execute_result"
    },
    {
     "data": {
      "image/png": "[encoded data removed]",
      "text/plain": [
       "<matplotlib.figure.Figure at 0x1a23c095f8>"
      ]
     },
     "metadata": {},
     "output_type": "display_data"
    }
   ],
   "source": [
    "plt.plot(history.history['acc'])\n",
    "plt.plot(history.history['val_acc'])"
   ]
  },
  {
   "cell_type": "code",
   "execution_count": 125,
   "metadata": {},
   "outputs": [
    {
     "data": {
      "text/plain": [
       "[<matplotlib.lines.Line2D at 0x1a2337e588>]"
      ]
     },
     "execution_count": 125,
     "metadata": {},
     "output_type": "execute_result"
    },
    {
     "data": {
      "image/png": "[encoded data removed]",
      "text/plain": [
       "<matplotlib.figure.Figure at 0x1a2337ef60>"
      ]
     },
     "metadata": {},
     "output_type": "display_data"
    }
   ],
   "source": [
    "plt.plot(history.history['mean_absolute_error'])\n",
    "plt.plot(history.history['val_mean_absolute_error'])"
   ]
  },
  {
   "cell_type": "code",
   "execution_count": 126,
   "metadata": {},
   "outputs": [
    {
     "data": {
      "text/plain": [
       "array([ 0.0486531], dtype=float32)"
      ]
     },
     "execution_count": 126,
     "metadata": {},
     "output_type": "execute_result"
    }
   ],
   "source": [
    "i = 2\n",
    "model.predict(x_train)[i]"
   ]
  },
  {
   "cell_type": "code",
   "execution_count": 127,
   "metadata": {},
   "outputs": [
    {
     "data": {
      "text/plain": [
       "0.85260315597359926"
      ]
     },
     "execution_count": 127,
     "metadata": {},
     "output_type": "execute_result"
    }
   ],
   "source": [
    "y_train[i]"
   ]
  },
  {
   "cell_type": "code",
   "execution_count": null,
   "metadata": {},
   "outputs": [],
   "source": []
  },
  {
   "cell_type": "code",
   "execution_count": null,
   "metadata": {},
   "outputs": [],
   "source": []
  },
  {
   "cell_type": "code",
   "execution_count": null,
   "metadata": {},
   "outputs": [],
   "source": []
  },
  {
   "cell_type": "code",
   "execution_count": null,
   "metadata": {},
   "outputs": [],
   "source": []
  },
  {
   "cell_type": "code",
   "execution_count": null,
   "metadata": {},
   "outputs": [],
   "source": []
  }
 ],
 "metadata": {
  "kernelspec": {
   "display_name": "Python 3",
   "language": "python",
   "name": "python3"
  },
  "language_info": {
   "codemirror_mode": {
    "name": "ipython",
    "version": 3
   },
   "file_extension": ".py",
   "mimetype": "text/x-python",
   "name": "python",
   "nbconvert_exporter": "python",
   "pygments_lexer": "ipython3",
   "version": "3.6.5"
  }
 },
 "nbformat": 4,
 "nbformat_minor": 2
}
