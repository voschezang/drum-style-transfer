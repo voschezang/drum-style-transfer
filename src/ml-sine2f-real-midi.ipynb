{
 "cells": [
  {
   "cell_type": "code",
   "execution_count": 61,
   "metadata": {},
   "outputs": [],
   "source": [
    "import config\n",
    "import os, numpy as np, pandas, sklearn, scipy.signal as signal\n",
    "import mido\n",
    "import matplotlib.pyplot as plt\n",
    "%matplotlib inline"
   ]
  },
  {
   "cell_type": "code",
   "execution_count": 62,
   "metadata": {},
   "outputs": [],
   "source": [
    "## NN libs\n",
    "from sklearn.decomposition import PCA\n",
    "from sklearn import preprocessing\n",
    "from sklearn.preprocessing import RobustScaler\n",
    "import keras\n",
    "from keras import regularizers\n",
    "from keras.utils import to_categorical\n",
    "from keras.models import Sequential\n",
    "from keras.optimizers import SGD, Adam\n",
    "from keras.layers import Input, Dense, Activation, Conv1D, Conv2D, Dropout, Flatten\n",
    "from keras.layers import Conv2DTranspose, Reshape, MaxPooling2D, UpSampling2D, UpSampling1D, MaxPooling1D\n",
    "from keras.layers import LocallyConnected1D, LocallyConnected2D\n",
    "from keras.layers import Input, LSTM, RepeatVector\n",
    "from keras.models import Model\n",
    "from keras.callbacks import TensorBoard"
   ]
  },
  {
   "cell_type": "code",
   "execution_count": 63,
   "metadata": {},
   "outputs": [],
   "source": [
    "# local libs\n",
    "import config, models, functions\n",
    "from data import data, midi, midi_generators as g\n",
    "from utils import io, models_io, utils"
   ]
  },
  {
   "cell_type": "code",
   "execution_count": 65,
   "metadata": {
    "scrolled": true
   },
   "outputs": [
    {
     "name": "stdout",
     "output_type": "stream",
     "text": [
      "Setting up params\n",
      "\n",
      "max min f 25.0 0.1\n",
      " >> Context(max_t=10.0, dt=0.02, n_instances=500, note_length=0.03, bpm=120.0, tempo=500000, ticks_per_beat=480)\n",
      "Setting up params\n",
      "\n",
      "max min f 25.0 0.1\n",
      " >> Context(max_t=10.0, dt=0.02, n_instances=500, note_length=0.03, bpm=120.0, tempo=500000, ticks_per_beat=480)\n",
      "Importing midi-data\n",
      "\n",
      "\u001b[92m [INFO] : \u001b[0m\n",
      " |  reading file: ../datasets/examples/01 16th Snare.mid\n",
      "\u001b[92m [INFO] : \u001b[0m\n",
      " |  reading file: ../datasets/examples/01 8th Cym.mid\n",
      "\u001b[92m [INFO] : \u001b[0m\n",
      " |  reading file: ../datasets/examples/01 8th Hat.mid\n",
      "\u001b[92m [INFO] : \u001b[0m\n",
      " |  reading file: ../datasets/examples/02 8th Cym.mid\n",
      "\u001b[92m [INFO] : \u001b[0m\n",
      " |  reading file: ../datasets/examples/114_LetsDance_DavidBowie1.mid\n",
      "\u001b[92m [INFO] : \u001b[0m\n",
      " |  reading file: ../datasets/examples/127_SweetChildOMine_GunsAndRoses1.mid\n",
      "\u001b[92m [INFO] : \u001b[0m\n",
      " |  reading file: ../datasets/examples/92_GiveItAway_TheRedHotChiliPeppers.mid\n",
      "\u001b[92m [INFO] : \u001b[0m\n",
      " |  reading file: ../datasets/examples/94_Creep_Radiohead2.mid\n",
      "\u001b[92m [INFO] : \u001b[0m\n",
      " |  reading file: ../datasets/examples/bossa 1.mid\n",
      "\u001b[92m [INFO] : \u001b[0m\n",
      " |  reading file: ../datasets/examples/bossa 2.mid\n",
      "\u001b[92m [INFO] : \u001b[0m\n",
      " |  reading file: ../datasets/examples/bossa 3.mid\n",
      "\u001b[92m [INFO] : \u001b[0m\n",
      " |  reading file: ../datasets/examples/bossa 4.mid\n",
      "\u001b[92m [INFO] : \u001b[0m\n",
      " |  reading file: ../datasets/examples/G3.mid\n",
      "\u001b[92m [INFO] : \u001b[0m\n",
      " |  reading file: ../datasets/examples/G4.mid\n",
      "\u001b[92m [INFO] : \u001b[0m\n",
      " |  reading file: ../datasets/examples/G5.mid\n",
      "\u001b[92m [INFO] : \u001b[0m\n",
      " |  reading file: ../datasets/examples/G6.mid\n",
      "\n",
      "Encoding midi-data\n",
      " [<midi file '../datasets/examples/01 16th Snare.mid' type 0, 1 tracks, 182 messages>, <midi file '../datasets/examples/01 8th Cym.mid' type 0, 1 tracks, 68 messages>, <midi file '../datasets/examples/01 8th Hat.mid' type 0, 1 tracks, 60 messages>, <midi file '../datasets/examples/02 8th Cym.mid' type 0, 1 tracks, 72 messages>, <midi file '../datasets/examples/114_LetsDance_DavidBowie1.mid' type 0, 1 tracks, 76 messages>, <midi file '../datasets/examples/127_SweetChildOMine_GunsAndRoses1.mid' type 0, 1 tracks, 226 messages>, <midi file '../datasets/examples/92_GiveItAway_TheRedHotChiliPeppers.mid' type 0, 1 tracks, 132 messages>, <midi file '../datasets/examples/94_Creep_Radiohead2.mid' type 0, 1 tracks, 126 messages>, <midi file '../datasets/examples/bossa 1.mid' type 0, 1 tracks, 40 messages>, <midi file '../datasets/examples/bossa 2.mid' type 0, 1 tracks, 38 messages>, <midi file '../datasets/examples/bossa 3.mid' type 0, 1 tracks, 34 messages>, <midi file '../datasets/examples/bossa 4.mid' type 0, 1 tracks, 42 messages>, <midi file '../datasets/examples/G3.mid' type 0, 1 tracks, 58 messages>, <midi file '../datasets/examples/G4.mid' type 0, 1 tracks, 111 messages>, <midi file '../datasets/examples/G5.mid' type 0, 1 tracks, 85 messages>, <midi file '../datasets/examples/G6.mid' type 0, 1 tracks, 107 messages>]\n",
      "\u001b[91m [DEBUG] > \u001b[0m\n",
      " |>  to_array: msg.time > max_t; t, n\n",
      " |>  10.000000000000005\n",
      " |>  500\n"
     ]
    }
   ],
   "source": [
    "context = data.init()\n",
    "context, x_train, labels = data.import_data(data.init(), n)"
   ]
  },
  {
   "cell_type": "code",
   "execution_count": 66,
   "metadata": {},
   "outputs": [
    {
     "data": {
      "text/plain": [
       "(16, 500, 4)"
      ]
     },
     "execution_count": 66,
     "metadata": {},
     "output_type": "execute_result"
    }
   ],
   "source": [
    "x_train.shape"
   ]
  },
  {
   "cell_type": "code",
   "execution_count": 67,
   "metadata": {
    "scrolled": true
   },
   "outputs": [
    {
     "name": "stdout",
     "output_type": "stream",
     "text": [
      "(16, 499, 4) (16, 499, 4) (16, 499, 4)\n"
     ]
    }
   ],
   "source": [
    "x_test = x_train\n",
    "\n",
    "y_train = x_train[:,:-1,:]\n",
    "z_train = x_train[:,1:,:]\n",
    "x_train = y_train\n",
    "\n",
    "encoder_input_data = y_train # english sentences\n",
    "decoder_input_data = y_train # french sentences (copy)\n",
    "decoder_target_data = z_train # french sentences, next timestep\n",
    "\n",
    "print(x_train.shape, y_train.shape, z_train.shape)"
   ]
  },
  {
   "cell_type": "code",
   "execution_count": 72,
   "metadata": {},
   "outputs": [
    {
     "data": {
      "text/plain": [
       "[<matplotlib.lines.Line2D at 0x1225b5048>]"
      ]
     },
     "execution_count": 72,
     "metadata": {},
     "output_type": "execute_result"
    },
    {
     "data": {
      "image/png": "[encoded data removed]",
      "text/plain": [
       "<matplotlib.figure.Figure at 0x1224a36a0>"
      ]
     },
     "metadata": {},
     "output_type": "display_data"
    }
   ],
   "source": [
    "plt.plot(x_train[0,:100,3])"
   ]
  },
  {
   "cell_type": "code",
   "execution_count": 73,
   "metadata": {},
   "outputs": [
    {
     "data": {
      "text/plain": [
       "(499, 4)"
      ]
     },
     "execution_count": 73,
     "metadata": {},
     "output_type": "execute_result"
    }
   ],
   "source": [
    "n_samples = x_train[0]\n",
    "input_shape = x_train.shape[1:] # shape of a single sample\n",
    "output_shape = y_train.shape[1:] # shape of a single sample\n",
    "# output_length = y_train.shape[1:][0]\n",
    "hidden_layer_length = 10\n",
    "input_shape"
   ]
  },
  {
   "cell_type": "code",
   "execution_count": 74,
   "metadata": {},
   "outputs": [
    {
     "data": {
      "text/plain": [
       "(499, 4)"
      ]
     },
     "execution_count": 74,
     "metadata": {},
     "output_type": "execute_result"
    }
   ],
   "source": [
    "output_shape"
   ]
  },
  {
   "cell_type": "code",
   "execution_count": 75,
   "metadata": {},
   "outputs": [],
   "source": [
    "num_encoder_tokens = x_train.shape[-1]\n",
    "num_decoder_tokens = y_train.shape[-1]\n",
    "latent_dim = 64"
   ]
  },
  {
   "cell_type": "code",
   "execution_count": 76,
   "metadata": {},
   "outputs": [
    {
     "name": "stdout",
     "output_type": "stream",
     "text": [
      "__________________________________________________________________________________________________\n",
      "Layer (type)                    Output Shape         Param #     Connected to                     \n",
      "==================================================================================================\n",
      "input_11 (InputLayer)           (None, None, 4)      0                                            \n",
      "__________________________________________________________________________________________________\n",
      "input_12 (InputLayer)           (None, None, 4)      0                                            \n",
      "__________________________________________________________________________________________________\n",
      "lstm_5 (LSTM)                   [(None, 64), (None,  17664       input_11[0][0]                   \n",
      "__________________________________________________________________________________________________\n",
      "lstm_6 (LSTM)                   [(None, None, 64), ( 17664       input_12[0][0]                   \n",
      "                                                                 lstm_5[0][1]                     \n",
      "                                                                 lstm_5[0][2]                     \n",
      "__________________________________________________________________________________________________\n",
      "dense_3 (Dense)                 (None, None, 4)      260         lstm_6[0][0]                     \n",
      "==================================================================================================\n",
      "Total params: 35,588\n",
      "Trainable params: 35,588\n",
      "Non-trainable params: 0\n",
      "__________________________________________________________________________________________________\n"
     ]
    }
   ],
   "source": [
    "# Define an input sequence and process it.\n",
    "encoder_inputs = Input(shape=(None, num_encoder_tokens))\n",
    "encoder = LSTM(latent_dim, return_state=True)\n",
    "_, state_h, state_c = encoder(encoder_inputs)\n",
    "# We discard `encoder_outputs` and only keep the states.\n",
    "encoder_states = [state_h, state_c]\n",
    "\n",
    "# Set up the decoder, using `encoder_states` as initial state.\n",
    "decoder_inputs = Input(shape=(None, num_decoder_tokens))\n",
    "# We set up our decoder to return full output sequences,\n",
    "# and to return internal states as well. We don't use the\n",
    "# return states in the training model, but we will use them in inference.\n",
    "decoder_lstm = LSTM(latent_dim, return_sequences=True, return_state=True)\n",
    "decoder_outputs, _, _ = decoder_lstm(decoder_inputs, initial_state=encoder_states)\n",
    "decoder_dense = Dense(num_decoder_tokens, activation='sigmoid')\n",
    "decoder_outputs = decoder_dense(decoder_outputs)\n",
    "\n",
    "# Define the model that will turn\n",
    "# `encoder_input_data` & `decoder_input_data` into `decoder_target_data`\n",
    "model = Model([encoder_inputs, decoder_inputs], decoder_outputs)\n",
    "model.summary()"
   ]
  },
  {
   "cell_type": "code",
   "execution_count": 77,
   "metadata": {},
   "outputs": [],
   "source": [
    "# encoder.summary()\n",
    "# decoder.summary()"
   ]
  },
  {
   "cell_type": "code",
   "execution_count": 79,
   "metadata": {},
   "outputs": [],
   "source": [
    "metrics = ['accuracy','mse','binary_crossentropy'] # sparse_categorical_accuracy\n",
    "loss = 'binary_crossentropy'# binary_crossentropy categorical_crossentropy sparse_categorical_crossentropy\n",
    "optimizer = 'rmsprop' # adam adadelta rmsprop nadam\n",
    "# keras.optimizers.RMSprop(lr=0.001, rho=0.9, epsilon=None, decay=0.0)\n",
    "model.compile(optimizer=optimizer, loss=loss, metrics=['mse', 'mae'])#, metrics=metrics)"
   ]
  },
  {
   "cell_type": "code",
   "execution_count": 83,
   "metadata": {},
   "outputs": [],
   "source": [
    "batch_size = 4\n",
    "# n epochs = n iterations over all the training data\n",
    "epochs = 6"
   ]
  },
  {
   "cell_type": "code",
   "execution_count": 108,
   "metadata": {
    "scrolled": true
   },
   "outputs": [
    {
     "name": "stdout",
     "output_type": "stream",
     "text": [
      "Train on 13 samples, validate on 3 samples\n",
      "Epoch 1/6\n",
      "13/13 [==============================] - 2s 181ms/step - loss: 0.0873 - mean_squared_error: 0.0148 - mean_absolute_error: 0.0642 - val_loss: 0.0905 - val_mean_squared_error: 0.0161 - val_mean_absolute_error: 0.0556\n",
      "Epoch 2/6\n",
      "13/13 [==============================] - 3s 213ms/step - loss: 0.0752 - mean_squared_error: 0.0136 - mean_absolute_error: 0.0504 - val_loss: 0.0841 - val_mean_squared_error: 0.0154 - val_mean_absolute_error: 0.0465\n",
      "Epoch 3/6\n",
      "13/13 [==============================] - 3s 221ms/step - loss: 0.0689 - mean_squared_error: 0.0130 - mean_absolute_error: 0.0427 - val_loss: 0.0811 - val_mean_squared_error: 0.0151 - val_mean_absolute_error: 0.0417\n",
      "Epoch 4/6\n",
      "13/13 [==============================] - 3s 213ms/step - loss: 0.0652 - mean_squared_error: 0.0127 - mean_absolute_error: 0.0384 - val_loss: 0.0791 - val_mean_squared_error: 0.0149 - val_mean_absolute_error: 0.0381\n",
      "Epoch 5/6\n",
      "13/13 [==============================] - 2s 185ms/step - loss: 0.0626 - mean_squared_error: 0.0125 - mean_absolute_error: 0.0352 - val_loss: 0.0779 - val_mean_squared_error: 0.0147 - val_mean_absolute_error: 0.0355\n",
      "Epoch 6/6\n",
      "13/13 [==============================] - 3s 200ms/step - loss: 0.0607 - mean_squared_error: 0.0124 - mean_absolute_error: 0.0329 - val_loss: 0.0773 - val_mean_squared_error: 0.0146 - val_mean_absolute_error: 0.0340\n"
     ]
    }
   ],
   "source": [
    "callbacks = []\n",
    "callbacks = [TensorBoard(log_dir=config.tmp_log_dir)]\n",
    "vs = 1/6\n",
    "# model.fit(x_train, y_train, epochs=epochs, batch_size=batch_size, callbacks=[TensorBoard(log_dir=config.tmp_log_dir)])\n",
    "history = model.fit([x_train,y_train], z_train, epochs=epochs, batch_size=batch_size,\n",
    "          validation_split=vs, callbacks=callbacks)"
   ]
  },
  {
   "cell_type": "code",
   "execution_count": 109,
   "metadata": {},
   "outputs": [
    {
     "data": {
      "text/plain": [
       "[<matplotlib.lines.Line2D at 0x12aa42e48>]"
      ]
     },
     "execution_count": 109,
     "metadata": {},
     "output_type": "execute_result"
    },
    {
     "data": {
      "image/png": "[encoded data removed]",
      "text/plain": [
       "<matplotlib.figure.Figure at 0x126965f28>"
      ]
     },
     "metadata": {},
     "output_type": "display_data"
    }
   ],
   "source": [
    "plt.plot(history.history['loss'])\n",
    "plt.plot(history.history['val_loss'])"
   ]
  },
  {
   "cell_type": "markdown",
   "metadata": {},
   "source": [
    "# Inferencing\n",
    "\n",
    "model.predict() requires 2 inputs: english sentences + french sentences"
   ]
  },
  {
   "cell_type": "code",
   "execution_count": 110,
   "metadata": {},
   "outputs": [],
   "source": [
    "encoder_model = Model(encoder_inputs, encoder_states)\n",
    "\n",
    "decoder_state_input_h = Input(shape=(latent_dim,))\n",
    "decoder_state_input_c = Input(shape=(latent_dim,))\n",
    "decoder_states_inputs = [decoder_state_input_h, decoder_state_input_c]\n",
    "decoder_outputs, state_h, state_c = decoder_lstm(decoder_inputs, initial_state=decoder_states_inputs)\n",
    "decoder_states = [state_h, state_c]\n",
    "decoder_outputs = decoder_dense(decoder_outputs)\n",
    "decoder_model = Model(\n",
    "    [decoder_inputs] + decoder_states_inputs,\n",
    "    [decoder_outputs] + decoder_states)"
   ]
  },
  {
   "cell_type": "code",
   "execution_count": 111,
   "metadata": {},
   "outputs": [
    {
     "name": "stdout",
     "output_type": "stream",
     "text": [
      "_________________________________________________________________\n",
      "Layer (type)                 Output Shape              Param #   \n",
      "=================================================================\n",
      "input_11 (InputLayer)        (None, None, 4)           0         \n",
      "_________________________________________________________________\n",
      "lstm_5 (LSTM)                [(None, 64), (None, 64),  17664     \n",
      "=================================================================\n",
      "Total params: 17,664\n",
      "Trainable params: 17,664\n",
      "Non-trainable params: 0\n",
      "_________________________________________________________________\n",
      "__________________________________________________________________________________________________\n",
      "Layer (type)                    Output Shape         Param #     Connected to                     \n",
      "==================================================================================================\n",
      "input_12 (InputLayer)           (None, None, 4)      0                                            \n",
      "__________________________________________________________________________________________________\n",
      "input_15 (InputLayer)           (None, 64)           0                                            \n",
      "__________________________________________________________________________________________________\n",
      "input_16 (InputLayer)           (None, 64)           0                                            \n",
      "__________________________________________________________________________________________________\n",
      "lstm_6 (LSTM)                   [(None, None, 64), ( 17664       input_12[0][0]                   \n",
      "                                                                 input_15[0][0]                   \n",
      "                                                                 input_16[0][0]                   \n",
      "__________________________________________________________________________________________________\n",
      "dense_3 (Dense)                 (None, None, 4)      260         lstm_6[2][0]                     \n",
      "==================================================================================================\n",
      "Total params: 17,924\n",
      "Trainable params: 17,924\n",
      "Non-trainable params: 0\n",
      "__________________________________________________________________________________________________\n"
     ]
    }
   ],
   "source": [
    "encoder_model.summary()\n",
    "decoder_model.summary()"
   ]
  },
  {
   "cell_type": "code",
   "execution_count": 119,
   "metadata": {},
   "outputs": [],
   "source": [
    "def decode_sequence(input_seq, encoder_model, decoder_model):\n",
    "    max_decoder_seq_length = 500\n",
    "    \n",
    "    # Encode the input as state vectors.\n",
    "    states_value = encoder_model.predict(input_seq)\n",
    "\n",
    "    # Generate empty target sequence of length 1.\n",
    "    target_seq = np.zeros((1, 1, num_decoder_tokens))\n",
    "\n",
    "    # Sampling loop for a batch of sequences\n",
    "    # (to simplify, here we assume a batch of size 1).\n",
    "    stop_condition = False\n",
    "    decoded_sentence = []\n",
    "    while not stop_condition:\n",
    "        output_tokens, h, c = decoder_model.predict([target_seq] + states_value)\n",
    "        print(output_tokens.shape)\n",
    "\n",
    "        output_ = output_tokens[0, -1, :] # identity in case of 1 batch?\n",
    "        # Sample a token\n",
    "        sampled_token_index = np.argmax(output_tokens[0, -1, :])\n",
    "        # sampled_char = sampled_token_index # reverse_target_char_index[sampled_token_index]\n",
    "        decoded_sentence.append(output_)\n",
    "\n",
    "        # Exit condition: either hit max length\n",
    "        # or find stop character.\n",
    "        if len(decoded_sentence) >= max_decoder_seq_length:\n",
    "            stop_condition = True\n",
    "\n",
    "        # Update the target sequence (of length 1).\n",
    "        target_seq = np.zeros((1, 1, num_decoder_tokens))\n",
    "        # target_seq[0, 0, :] = output_\n",
    "        target_seq[0, 0, :] = output_\n",
    "\n",
    "\n",
    "        # Update states\n",
    "        states_value = [h, c]\n",
    "\n",
    "    return np.stack(decoded_sentence)"
   ]
  },
  {
   "cell_type": "code",
   "execution_count": 120,
   "metadata": {
    "scrolled": true
   },
   "outputs": [
    {
     "name": "stdout",
     "output_type": "stream",
     "text": [
      "(1, 1, 4)\n",
      "(1, 1, 4)\n",
      "(1, 1, 4)\n",
      "(1, 1, 4)\n",
      "(1, 1, 4)\n",
      "(1, 1, 4)\n",
      "(1, 1, 4)\n",
      "(1, 1, 4)\n",
      "(1, 1, 4)\n",
      "(1, 1, 4)\n",
      "(1, 1, 4)\n",
      "(1, 1, 4)\n",
      "(1, 1, 4)\n",
      "(1, 1, 4)\n",
      "(1, 1, 4)\n",
      "(1, 1, 4)\n",
      "(1, 1, 4)\n",
      "(1, 1, 4)\n",
      "(1, 1, 4)\n",
      "(1, 1, 4)\n",
      "(1, 1, 4)\n",
      "(1, 1, 4)\n",
      "(1, 1, 4)\n",
      "(1, 1, 4)\n",
      "(1, 1, 4)\n",
      "(1, 1, 4)\n",
      "(1, 1, 4)\n",
      "(1, 1, 4)\n",
      "(1, 1, 4)\n",
      "(1, 1, 4)\n",
      "(1, 1, 4)\n",
      "(1, 1, 4)\n",
      "(1, 1, 4)\n",
      "(1, 1, 4)\n",
      "(1, 1, 4)\n",
      "(1, 1, 4)\n",
      "(1, 1, 4)\n",
      "(1, 1, 4)\n",
      "(1, 1, 4)\n",
      "(1, 1, 4)\n",
      "(1, 1, 4)\n",
      "(1, 1, 4)\n",
      "(1, 1, 4)\n",
      "(1, 1, 4)\n",
      "(1, 1, 4)\n",
      "(1, 1, 4)\n",
      "(1, 1, 4)\n",
      "(1, 1, 4)\n",
      "(1, 1, 4)\n",
      "(1, 1, 4)\n",
      "(1, 1, 4)\n",
      "(1, 1, 4)\n",
      "(1, 1, 4)\n",
      "(1, 1, 4)\n",
      "(1, 1, 4)\n",
      "(1, 1, 4)\n",
      "(1, 1, 4)\n",
      "(1, 1, 4)\n",
      "(1, 1, 4)\n",
      "(1, 1, 4)\n",
      "(1, 1, 4)\n",
      "(1, 1, 4)\n",
      "(1, 1, 4)\n",
      "(1, 1, 4)\n",
      "(1, 1, 4)\n",
      "(1, 1, 4)\n",
      "(1, 1, 4)\n",
      "(1, 1, 4)\n",
      "(1, 1, 4)\n",
      "(1, 1, 4)\n",
      "(1, 1, 4)\n",
      "(1, 1, 4)\n",
      "(1, 1, 4)\n",
      "(1, 1, 4)\n",
      "(1, 1, 4)\n",
      "(1, 1, 4)\n",
      "(1, 1, 4)\n",
      "(1, 1, 4)\n",
      "(1, 1, 4)\n",
      "(1, 1, 4)\n",
      "(1, 1, 4)\n",
      "(1, 1, 4)\n",
      "(1, 1, 4)\n",
      "(1, 1, 4)\n",
      "(1, 1, 4)\n",
      "(1, 1, 4)\n",
      "(1, 1, 4)\n",
      "(1, 1, 4)\n",
      "(1, 1, 4)\n",
      "(1, 1, 4)\n",
      "(1, 1, 4)\n",
      "(1, 1, 4)\n",
      "(1, 1, 4)\n",
      "(1, 1, 4)\n",
      "(1, 1, 4)\n",
      "(1, 1, 4)\n",
      "(1, 1, 4)\n",
      "(1, 1, 4)\n",
      "(1, 1, 4)\n",
      "(1, 1, 4)\n",
      "(1, 1, 4)\n",
      "(1, 1, 4)\n",
      "(1, 1, 4)\n",
      "(1, 1, 4)\n",
      "(1, 1, 4)\n",
      "(1, 1, 4)\n",
      "(1, 1, 4)\n",
      "(1, 1, 4)\n",
      "(1, 1, 4)\n",
      "(1, 1, 4)\n",
      "(1, 1, 4)\n",
      "(1, 1, 4)\n",
      "(1, 1, 4)\n",
      "(1, 1, 4)\n",
      "(1, 1, 4)\n",
      "(1, 1, 4)\n",
      "(1, 1, 4)\n",
      "(1, 1, 4)\n",
      "(1, 1, 4)\n",
      "(1, 1, 4)\n",
      "(1, 1, 4)\n",
      "(1, 1, 4)\n",
      "(1, 1, 4)\n",
      "(1, 1, 4)\n",
      "(1, 1, 4)\n",
      "(1, 1, 4)\n",
      "(1, 1, 4)\n",
      "(1, 1, 4)\n",
      "(1, 1, 4)\n",
      "(1, 1, 4)\n",
      "(1, 1, 4)\n",
      "(1, 1, 4)\n",
      "(1, 1, 4)\n",
      "(1, 1, 4)\n",
      "(1, 1, 4)\n",
      "(1, 1, 4)\n",
      "(1, 1, 4)\n",
      "(1, 1, 4)\n",
      "(1, 1, 4)\n",
      "(1, 1, 4)\n",
      "(1, 1, 4)\n",
      "(1, 1, 4)\n",
      "(1, 1, 4)\n",
      "(1, 1, 4)\n",
      "(1, 1, 4)\n",
      "(1, 1, 4)\n",
      "(1, 1, 4)\n",
      "(1, 1, 4)\n",
      "(1, 1, 4)\n",
      "(1, 1, 4)\n",
      "(1, 1, 4)\n",
      "(1, 1, 4)\n",
      "(1, 1, 4)\n",
      "(1, 1, 4)\n",
      "(1, 1, 4)\n",
      "(1, 1, 4)\n",
      "(1, 1, 4)\n",
      "(1, 1, 4)\n",
      "(1, 1, 4)\n",
      "(1, 1, 4)\n",
      "(1, 1, 4)\n",
      "(1, 1, 4)\n",
      "(1, 1, 4)\n",
      "(1, 1, 4)\n",
      "(1, 1, 4)\n",
      "(1, 1, 4)\n",
      "(1, 1, 4)\n",
      "(1, 1, 4)\n",
      "(1, 1, 4)\n",
      "(1, 1, 4)\n",
      "(1, 1, 4)\n",
      "(1, 1, 4)\n",
      "(1, 1, 4)\n",
      "(1, 1, 4)\n",
      "(1, 1, 4)\n",
      "(1, 1, 4)\n",
      "(1, 1, 4)\n",
      "(1, 1, 4)\n",
      "(1, 1, 4)\n",
      "(1, 1, 4)\n",
      "(1, 1, 4)\n",
      "(1, 1, 4)\n",
      "(1, 1, 4)\n",
      "(1, 1, 4)\n",
      "(1, 1, 4)\n",
      "(1, 1, 4)\n",
      "(1, 1, 4)\n",
      "(1, 1, 4)\n",
      "(1, 1, 4)\n",
      "(1, 1, 4)\n",
      "(1, 1, 4)\n",
      "(1, 1, 4)\n",
      "(1, 1, 4)\n",
      "(1, 1, 4)\n",
      "(1, 1, 4)\n",
      "(1, 1, 4)\n",
      "(1, 1, 4)\n",
      "(1, 1, 4)\n",
      "(1, 1, 4)\n",
      "(1, 1, 4)\n",
      "(1, 1, 4)\n",
      "(1, 1, 4)\n",
      "(1, 1, 4)\n",
      "(1, 1, 4)\n",
      "(1, 1, 4)\n",
      "(1, 1, 4)\n",
      "(1, 1, 4)\n",
      "(1, 1, 4)\n",
      "(1, 1, 4)\n",
      "(1, 1, 4)\n",
      "(1, 1, 4)\n",
      "(1, 1, 4)\n",
      "(1, 1, 4)\n",
      "(1, 1, 4)\n",
      "(1, 1, 4)\n",
      "(1, 1, 4)\n",
      "(1, 1, 4)\n",
      "(1, 1, 4)\n",
      "(1, 1, 4)\n",
      "(1, 1, 4)\n",
      "(1, 1, 4)\n",
      "(1, 1, 4)\n",
      "(1, 1, 4)\n",
      "(1, 1, 4)\n",
      "(1, 1, 4)\n",
      "(1, 1, 4)\n",
      "(1, 1, 4)\n",
      "(1, 1, 4)\n",
      "(1, 1, 4)\n",
      "(1, 1, 4)\n",
      "(1, 1, 4)\n",
      "(1, 1, 4)\n",
      "(1, 1, 4)\n",
      "(1, 1, 4)\n",
      "(1, 1, 4)\n",
      "(1, 1, 4)\n",
      "(1, 1, 4)\n",
      "(1, 1, 4)\n",
      "(1, 1, 4)\n",
      "(1, 1, 4)\n",
      "(1, 1, 4)\n",
      "(1, 1, 4)\n",
      "(1, 1, 4)\n",
      "(1, 1, 4)\n",
      "(1, 1, 4)\n",
      "(1, 1, 4)\n",
      "(1, 1, 4)\n",
      "(1, 1, 4)\n",
      "(1, 1, 4)\n",
      "(1, 1, 4)\n",
      "(1, 1, 4)\n",
      "(1, 1, 4)\n",
      "(1, 1, 4)\n",
      "(1, 1, 4)\n",
      "(1, 1, 4)\n",
      "(1, 1, 4)\n",
      "(1, 1, 4)\n",
      "(1, 1, 4)\n",
      "(1, 1, 4)\n",
      "(1, 1, 4)\n",
      "(1, 1, 4)\n",
      "(1, 1, 4)\n",
      "(1, 1, 4)\n",
      "(1, 1, 4)\n",
      "(1, 1, 4)\n",
      "(1, 1, 4)\n",
      "(1, 1, 4)\n",
      "(1, 1, 4)\n",
      "(1, 1, 4)\n",
      "(1, 1, 4)\n",
      "(1, 1, 4)\n",
      "(1, 1, 4)\n",
      "(1, 1, 4)\n",
      "(1, 1, 4)\n",
      "(1, 1, 4)\n",
      "(1, 1, 4)\n",
      "(1, 1, 4)\n",
      "(1, 1, 4)\n",
      "(1, 1, 4)\n",
      "(1, 1, 4)\n",
      "(1, 1, 4)\n",
      "(1, 1, 4)\n",
      "(1, 1, 4)\n",
      "(1, 1, 4)\n",
      "(1, 1, 4)\n",
      "(1, 1, 4)\n",
      "(1, 1, 4)\n",
      "(1, 1, 4)\n",
      "(1, 1, 4)\n",
      "(1, 1, 4)\n",
      "(1, 1, 4)\n",
      "(1, 1, 4)\n",
      "(1, 1, 4)\n",
      "(1, 1, 4)\n",
      "(1, 1, 4)\n",
      "(1, 1, 4)\n",
      "(1, 1, 4)\n",
      "(1, 1, 4)\n",
      "(1, 1, 4)\n",
      "(1, 1, 4)\n",
      "(1, 1, 4)\n",
      "(1, 1, 4)\n",
      "(1, 1, 4)\n",
      "(1, 1, 4)\n",
      "(1, 1, 4)\n",
      "(1, 1, 4)\n",
      "(1, 1, 4)\n",
      "(1, 1, 4)\n",
      "(1, 1, 4)\n",
      "(1, 1, 4)\n",
      "(1, 1, 4)\n",
      "(1, 1, 4)\n",
      "(1, 1, 4)\n",
      "(1, 1, 4)\n",
      "(1, 1, 4)\n",
      "(1, 1, 4)\n",
      "(1, 1, 4)\n",
      "(1, 1, 4)\n",
      "(1, 1, 4)\n",
      "(1, 1, 4)\n",
      "(1, 1, 4)\n",
      "(1, 1, 4)\n",
      "(1, 1, 4)\n",
      "(1, 1, 4)\n",
      "(1, 1, 4)\n",
      "(1, 1, 4)\n",
      "(1, 1, 4)\n",
      "(1, 1, 4)\n",
      "(1, 1, 4)\n",
      "(1, 1, 4)\n",
      "(1, 1, 4)\n",
      "(1, 1, 4)\n",
      "(1, 1, 4)\n",
      "(1, 1, 4)\n",
      "(1, 1, 4)\n",
      "(1, 1, 4)\n",
      "(1, 1, 4)\n",
      "(1, 1, 4)\n",
      "(1, 1, 4)\n",
      "(1, 1, 4)\n",
      "(1, 1, 4)\n",
      "(1, 1, 4)\n",
      "(1, 1, 4)\n",
      "(1, 1, 4)\n",
      "(1, 1, 4)\n",
      "(1, 1, 4)\n",
      "(1, 1, 4)\n",
      "(1, 1, 4)\n",
      "(1, 1, 4)\n",
      "(1, 1, 4)\n",
      "(1, 1, 4)\n",
      "(1, 1, 4)\n",
      "(1, 1, 4)\n",
      "(1, 1, 4)\n",
      "(1, 1, 4)\n",
      "(1, 1, 4)\n",
      "(1, 1, 4)\n",
      "(1, 1, 4)\n",
      "(1, 1, 4)\n",
      "(1, 1, 4)\n",
      "(1, 1, 4)\n",
      "(1, 1, 4)\n",
      "(1, 1, 4)\n",
      "(1, 1, 4)\n",
      "(1, 1, 4)\n",
      "(1, 1, 4)\n",
      "(1, 1, 4)\n",
      "(1, 1, 4)\n",
      "(1, 1, 4)\n",
      "(1, 1, 4)\n",
      "(1, 1, 4)\n",
      "(1, 1, 4)\n",
      "(1, 1, 4)\n",
      "(1, 1, 4)\n",
      "(1, 1, 4)\n",
      "(1, 1, 4)\n",
      "(1, 1, 4)\n",
      "(1, 1, 4)\n",
      "(1, 1, 4)\n",
      "(1, 1, 4)\n",
      "(1, 1, 4)\n",
      "(1, 1, 4)\n",
      "(1, 1, 4)\n",
      "(1, 1, 4)\n",
      "(1, 1, 4)\n",
      "(1, 1, 4)\n",
      "(1, 1, 4)\n",
      "(1, 1, 4)\n",
      "(1, 1, 4)\n",
      "(1, 1, 4)\n",
      "(1, 1, 4)\n",
      "(1, 1, 4)\n",
      "(1, 1, 4)\n",
      "(1, 1, 4)\n",
      "(1, 1, 4)\n",
      "(1, 1, 4)\n",
      "(1, 1, 4)\n",
      "(1, 1, 4)\n",
      "(1, 1, 4)\n",
      "(1, 1, 4)\n",
      "(1, 1, 4)\n",
      "(1, 1, 4)\n",
      "(1, 1, 4)\n",
      "(1, 1, 4)\n",
      "(1, 1, 4)\n",
      "(1, 1, 4)\n",
      "(1, 1, 4)\n",
      "(1, 1, 4)\n",
      "(1, 1, 4)\n",
      "(1, 1, 4)\n",
      "(1, 1, 4)\n",
      "(1, 1, 4)\n",
      "(1, 1, 4)\n",
      "(1, 1, 4)\n",
      "(1, 1, 4)\n",
      "(1, 1, 4)\n",
      "(1, 1, 4)\n",
      "(1, 1, 4)\n",
      "(1, 1, 4)\n",
      "(1, 1, 4)\n",
      "(1, 1, 4)\n",
      "(1, 1, 4)\n",
      "(1, 1, 4)\n",
      "(1, 1, 4)\n",
      "(1, 1, 4)\n",
      "(1, 1, 4)\n",
      "(1, 1, 4)\n",
      "(1, 1, 4)\n",
      "(1, 1, 4)\n",
      "(1, 1, 4)\n",
      "(1, 1, 4)\n",
      "(1, 1, 4)\n",
      "(1, 1, 4)\n",
      "(1, 1, 4)\n",
      "(1, 1, 4)\n",
      "(1, 1, 4)\n",
      "(1, 1, 4)\n",
      "(1, 1, 4)\n",
      "(1, 1, 4)\n",
      "(1, 1, 4)\n",
      "(1, 1, 4)\n",
      "(1, 1, 4)\n",
      "(1, 1, 4)\n",
      "(1, 1, 4)\n",
      "(1, 1, 4)\n",
      "(1, 1, 4)\n",
      "(1, 1, 4)\n",
      "(1, 1, 4)\n",
      "(1, 1, 4)\n",
      "(1, 1, 4)\n",
      "(1, 1, 4)\n",
      "(1, 1, 4)\n",
      "(1, 1, 4)\n",
      "(1, 1, 4)\n",
      "(1, 1, 4)\n",
      "(1, 1, 4)\n",
      "(1, 1, 4)\n",
      "(1, 1, 4)\n",
      "(1, 1, 4)\n",
      "(1, 1, 4)\n",
      "(1, 1, 4)\n",
      "(1, 1, 4)\n",
      "(1, 1, 4)\n",
      "(1, 1, 4)\n",
      "(1, 1, 4)\n",
      "(1, 1, 4)\n",
      "(1, 1, 4)\n",
      "(1, 1, 4)\n",
      "(1, 1, 4)\n",
      "(1, 1, 4)\n",
      "(1, 1, 4)\n",
      "(1, 1, 4)\n",
      "(1, 1, 4)\n",
      "(1, 1, 4)\n",
      "(1, 1, 4)\n",
      "(1, 1, 4)\n",
      "(1, 1, 4)\n",
      "(1, 1, 4)\n",
      "(1, 1, 4)\n",
      "(1, 1, 4)\n",
      "(1, 1, 4)\n",
      "(1, 1, 4)\n",
      "(1, 1, 4)\n",
      "(1, 1, 4)\n",
      "(1, 1, 4)\n",
      "(1, 1, 4)\n",
      "(1, 1, 4)\n",
      "(1, 1, 4)\n",
      "(1, 1, 4)\n",
      "(1, 1, 4)\n",
      "(1, 1, 4)\n",
      "(1, 1, 4)\n",
      "(1, 1, 4)\n",
      "(1, 1, 4)\n",
      "(1, 1, 4)\n",
      "(1, 1, 4)\n",
      "(1, 1, 4)\n",
      "(1, 1, 4)\n",
      "(1, 1, 4)\n",
      "(1, 1, 4)\n"
     ]
    },
    {
     "data": {
      "text/plain": [
       "(500, 4)"
      ]
     },
     "execution_count": 120,
     "metadata": {},
     "output_type": "execute_result"
    }
   ],
   "source": [
    "result = decode_sequence(x_train[:1], encoder_model, decoder_model)\n",
    "result.shape"
   ]
  },
  {
   "cell_type": "code",
   "execution_count": 117,
   "metadata": {},
   "outputs": [
    {
     "data": {
      "text/plain": [
       "[<matplotlib.lines.Line2D at 0x1277d4be0>,\n",
       " <matplotlib.lines.Line2D at 0x1277d4d30>,\n",
       " <matplotlib.lines.Line2D at 0x1277d4e80>,\n",
       " <matplotlib.lines.Line2D at 0x1277d4fd0>]"
      ]
     },
     "execution_count": 117,
     "metadata": {},
     "output_type": "execute_result"
    },
    {
     "data": {
      "image/png": "[encoded data removed]",
      "text/plain": [
       "<matplotlib.figure.Figure at 0x13443ba58>"
      ]
     },
     "metadata": {},
     "output_type": "display_data"
    }
   ],
   "source": [
    "plt.plot(result)"
   ]
  },
  {
   "cell_type": "code",
   "execution_count": 115,
   "metadata": {},
   "outputs": [
    {
     "data": {
      "text/plain": [
       "[<matplotlib.lines.Line2D at 0x1276f4358>,\n",
       " <matplotlib.lines.Line2D at 0x1276f44a8>,\n",
       " <matplotlib.lines.Line2D at 0x1276f45f8>,\n",
       " <matplotlib.lines.Line2D at 0x1276f4748>]"
      ]
     },
     "execution_count": 115,
     "metadata": {},
     "output_type": "execute_result"
    },
    {
     "data": {
      "image/png": "[encoded data removed]",
      "text/plain": [
       "<matplotlib.figure.Figure at 0x12725f470>"
      ]
     },
     "metadata": {},
     "output_type": "display_data"
    }
   ],
   "source": [
    "plt.plot(x_train[0,:100,:])"
   ]
  },
  {
   "cell_type": "code",
   "execution_count": 116,
   "metadata": {},
   "outputs": [
    {
     "data": {
      "text/plain": [
       "(500, 4)"
      ]
     },
     "execution_count": 116,
     "metadata": {},
     "output_type": "execute_result"
    }
   ],
   "source": [
    "result.shape"
   ]
  },
  {
   "cell_type": "code",
   "execution_count": 100,
   "metadata": {},
   "outputs": [
    {
     "name": "stdout",
     "output_type": "stream",
     "text": [
      "\u001b[92m [INFO] : \u001b[0m\n",
      " |  len, max_t\n",
      " |  10.424999999999955\n",
      " |  10.0\n"
     ]
    }
   ],
   "source": [
    "mid = midi.decode_track(context, result)\n",
    "dn = config.dataset_dir\n",
    "# io.export_midifile(mid, dn + 'song_seq-seq.mid')"
   ]
  },
  {
   "cell_type": "code",
   "execution_count": null,
   "metadata": {},
   "outputs": [],
   "source": []
  },
  {
   "cell_type": "code",
   "execution_count": null,
   "metadata": {},
   "outputs": [],
   "source": []
  },
  {
   "cell_type": "code",
   "execution_count": null,
   "metadata": {},
   "outputs": [],
   "source": []
  },
  {
   "cell_type": "code",
   "execution_count": null,
   "metadata": {},
   "outputs": [],
   "source": []
  },
  {
   "cell_type": "code",
   "execution_count": null,
   "metadata": {},
   "outputs": [],
   "source": []
  },
  {
   "cell_type": "code",
   "execution_count": null,
   "metadata": {},
   "outputs": [],
   "source": []
  },
  {
   "cell_type": "code",
   "execution_count": null,
   "metadata": {},
   "outputs": [],
   "source": []
  },
  {
   "cell_type": "markdown",
   "metadata": {},
   "source": [
    "## Alt\n",
    "Without teacher forcing"
   ]
  },
  {
   "cell_type": "code",
   "execution_count": null,
   "metadata": {},
   "outputs": [],
   "source": [
    "from keras.layers import Lambda\n",
    "from keras import backend as K\n",
    "\n",
    "# The first part is unchanged\n",
    "encoder_inputs = Input(shape=(None, num_encoder_tokens))\n",
    "encoder = LSTM(latent_dim, return_state=True)\n",
    "_, state_h, state_c = encoder(encoder_inputs)\n",
    "states = [state_h, state_c]\n",
    "\n",
    "# Set up the decoder, which will only process one timestep at a time.\n",
    "decoder_inputs = Input(shape=(1, num_decoder_tokens))\n",
    "decoder_lstm = LSTM(latent_dim, return_sequences=True, return_state=True)\n",
    "# output will be a probability distribution over the vectors\n",
    "decoder_dense = Dense(num_decoder_tokens, activation='softmax')\n",
    "\n",
    "all_outputs = []\n",
    "inputs = decoder_inputs\n",
    "max_decoder_seq_length = 100\n",
    "for _ in range(max_decoder_seq_length):\n",
    "    # Run the decoder on one timestep\n",
    "    outputs, state_h, state_c = decoder_lstm(inputs,\n",
    "                                             initial_state=states)\n",
    "    outputs = decoder_dense(outputs)\n",
    "    # Store the current prediction (we will concatenate all predictions later)\n",
    "    all_outputs.append(outputs)\n",
    "    # Reinject the outputs as inputs for the next loop iteration\n",
    "    # as well as update the states\n",
    "    inputs = outputs\n",
    "    states = [state_h, state_c]\n",
    "\n",
    "# Concatenate all predictions\n",
    "decoder_outputs = Lambda(lambda x: K.concatenate(x, axis=1))(all_outputs)\n",
    "\n",
    "# Define and compile model as previously\n",
    "model = Model([encoder_inputs, decoder_inputs], decoder_outputs)\n",
    "model.summary()"
   ]
  },
  {
   "cell_type": "code",
   "execution_count": null,
   "metadata": {},
   "outputs": [],
   "source": [
    "model.compile(optimizer='rmsprop', loss='categorical_crossentropy')\n",
    "\n",
    "# Prepare decoder input data that just contains the start character\n",
    "# Note that we could have made it a constant hard-coded in the model\n",
    "decoder_input_data = np.zeros((x_train.shape[0], 1, num_decoder_tokens))\n",
    "\n",
    "# Train model as previously\n",
    "model.fit([x_train,y_train], z_train, epochs=10, batch_size=batch_size,\n",
    "          validation_split=0.2, callbacks=callbacks)"
   ]
  },
  {
   "cell_type": "code",
   "execution_count": null,
   "metadata": {},
   "outputs": [],
   "source": []
  },
  {
   "cell_type": "code",
   "execution_count": null,
   "metadata": {},
   "outputs": [],
   "source": []
  },
  {
   "cell_type": "code",
   "execution_count": null,
   "metadata": {},
   "outputs": [],
   "source": []
  },
  {
   "cell_type": "code",
   "execution_count": null,
   "metadata": {},
   "outputs": [],
   "source": []
  },
  {
   "cell_type": "code",
   "execution_count": null,
   "metadata": {},
   "outputs": [],
   "source": []
  },
  {
   "cell_type": "code",
   "execution_count": null,
   "metadata": {},
   "outputs": [],
   "source": []
  },
  {
   "cell_type": "code",
   "execution_count": null,
   "metadata": {},
   "outputs": [],
   "source": []
  },
  {
   "cell_type": "code",
   "execution_count": null,
   "metadata": {},
   "outputs": [],
   "source": []
  },
  {
   "cell_type": "code",
   "execution_count": null,
   "metadata": {},
   "outputs": [],
   "source": [
    "x_test.shape"
   ]
  },
  {
   "cell_type": "code",
   "execution_count": null,
   "metadata": {},
   "outputs": [],
   "source": [
    "# x_test, y_test = gen_xy_sin_to_f(3, f=2)"
   ]
  },
  {
   "cell_type": "code",
   "execution_count": null,
   "metadata": {
    "scrolled": true
   },
   "outputs": [],
   "source": [
    "results = model.predict([x_test,x_test])\n",
    "results.shape"
   ]
  },
  {
   "cell_type": "code",
   "execution_count": null,
   "metadata": {},
   "outputs": [],
   "source": [
    "# the 'true' results\n",
    "i = 0\n",
    "selection = int(x_test.shape[1] * 1)\n",
    "full = np.concatenate([x_test[i,-selection:],y_test[i]])\n",
    "n3 = full.shape[0]\n",
    "plt.plot(np.arange(n3) / n3 * dt, full)"
   ]
  },
  {
   "cell_type": "code",
   "execution_count": null,
   "metadata": {},
   "outputs": [],
   "source": [
    "# predicted results\n",
    "i = 0\n",
    "full = np.concatenate([x_test[i,-selection:],results[i]])\n",
    "n3 = full.shape[0]\n",
    "plt.plot(np.arange(n3) / n3 * dt, full)"
   ]
  },
  {
   "cell_type": "code",
   "execution_count": null,
   "metadata": {},
   "outputs": [],
   "source": [
    "i = 2\n",
    "selection = int(x_test.shape[1] * 1)\n",
    "full = np.concatenate([x_test[i,-selection:],results[i]])\n",
    "n3 = full.shape[0]\n",
    "plt.plot(np.arange(n3) / n3 * dt, full)"
   ]
  },
  {
   "cell_type": "code",
   "execution_count": null,
   "metadata": {},
   "outputs": [],
   "source": [
    "i = 0\n",
    "selection = 1\n",
    "full = np.concatenate([x_test[i,-selection:],results[i]])\n",
    "n3 = full.shape[0]\n",
    "plt.plot(np.arange(n3) / n3 * dt, full)"
   ]
  },
  {
   "cell_type": "code",
   "execution_count": null,
   "metadata": {},
   "outputs": [],
   "source": []
  },
  {
   "cell_type": "code",
   "execution_count": null,
   "metadata": {},
   "outputs": [],
   "source": []
  },
  {
   "cell_type": "code",
   "execution_count": null,
   "metadata": {},
   "outputs": [],
   "source": []
  },
  {
   "cell_type": "code",
   "execution_count": null,
   "metadata": {},
   "outputs": [],
   "source": []
  },
  {
   "cell_type": "code",
   "execution_count": null,
   "metadata": {},
   "outputs": [],
   "source": []
  },
  {
   "cell_type": "code",
   "execution_count": null,
   "metadata": {},
   "outputs": [],
   "source": []
  }
 ],
 "metadata": {
  "kernelspec": {
   "display_name": "Python 3",
   "language": "python",
   "name": "python3"
  },
  "language_info": {
   "codemirror_mode": {
    "name": "ipython",
    "version": 3
   },
   "file_extension": ".py",
   "mimetype": "text/x-python",
   "name": "python",
   "nbconvert_exporter": "python",
   "pygments_lexer": "ipython3",
   "version": "3.6.4"
  }
 },
 "nbformat": 4,
 "nbformat_minor": 2
}
