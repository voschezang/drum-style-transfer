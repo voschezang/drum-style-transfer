{
 "cells": [
  {
   "cell_type": "code",
   "execution_count": 1,
   "metadata": {},
   "outputs": [
    {
     "name": "stderr",
     "output_type": "stream",
     "text": [
      "/Library/Frameworks/Python.framework/Versions/3.6/lib/python3.6/site-packages/h5py/__init__.py:36: FutureWarning: Conversion of the second argument of issubdtype from `float` to `np.floating` is deprecated. In future, it will be treated as `np.float64 == np.dtype(float).type`.\n",
      "  from ._conv import register_converters as _register_converters\n",
      "Using TensorFlow backend.\n"
     ]
    }
   ],
   "source": [
    "from __future__ import division\n",
    "\n",
    "import collections\n",
    "import numpy as np\n",
    "import matplotlib.pyplot as plt\n",
    "from scipy.stats import norm\n",
    "\n",
    "## NN libs\n",
    "import keras\n",
    "from keras import backend as K\n",
    "from keras import regularizers\n",
    "from keras.utils import to_categorical\n",
    "from keras.optimizers import SGD, Adam\n",
    "from keras.layers import Input, Dense, Activation, Reshape, Dropout, Flatten, Lambda\n",
    "from keras.layers import Conv2DTranspose, Conv1D, Conv2D, MaxPooling1D, MaxPooling2D, UpSampling2D, UpSampling1D \n",
    "from keras.layers import LocallyConnected1D, LocallyConnected2D, LSTM, RepeatVector\n",
    "from keras.preprocessing.image import ImageDataGenerator\n",
    "from keras.models import Model\n",
    "from keras.callbacks import TensorBoard"
   ]
  },
  {
   "cell_type": "code",
   "execution_count": 2,
   "metadata": {},
   "outputs": [],
   "source": [
    "import config\n",
    "import os, numpy as np, pandas, sklearn, scipy.signal as signal\n",
    "import mido\n",
    "import matplotlib.pyplot as plt\n",
    "%matplotlib inline"
   ]
  },
  {
   "cell_type": "code",
   "execution_count": 3,
   "metadata": {},
   "outputs": [
    {
     "name": "stdout",
     "output_type": "stream",
     "text": [
      " Context :: namedtuple(\n",
      "[ max_t = float\n",
      ", dt = float\n",
      ", n_instances = int\n",
      ", note_length = int\n",
      ", bpm = float\n",
      ", tempo = float\n",
      ", ticks_per_beat = int\n",
      "]\n",
      "\n"
     ]
    }
   ],
   "source": [
    "# local libs\n",
    "import config, models, functions\n",
    "from data import data, midi, midi_generators as g\n",
    "from utils import io, models_io, utils, plot"
   ]
  },
  {
   "cell_type": "code",
   "execution_count": 4,
   "metadata": {
    "scrolled": true
   },
   "outputs": [
    {
     "name": "stdout",
     "output_type": "stream",
     "text": [
      "Setting up params\n",
      "\n",
      "max min f 25.0 0.5\n",
      " >> Context(max_t=2.0, dt=0.02, n_instances=100, note_length=0.03, bpm=120.0, tempo=500000, ticks_per_beat=480)\n",
      "Importing midi-data\n",
      "\n",
      "\u001b[92m [INFO] : \u001b[0m\n",
      " |  reading file: ../datasets/examples/01 16th Snare.mid\n",
      "\u001b[92m [INFO] : \u001b[0m\n",
      " |  reading file: ../datasets/examples/01 8th Cym.mid\n",
      "\n",
      "Encoding midi-data\n",
      " [<midi file '../datasets/examples/01 16th Snare.mid' type 0, 1 tracks, 182 messages>, <midi file '../datasets/examples/01 8th Cym.mid' type 0, 1 tracks, 68 messages>]\n",
      "> -> multi-track = True\n",
      "\u001b[92m [INFO] : \u001b[0m\n",
      " |  reduced dims:\n",
      " |  (2, 100, 2)\n"
     ]
    }
   ],
   "source": [
    "n = 2\n",
    "dim4 = True\n",
    "multiTrack = True\n",
    "context, x_train, labels = data.import_data(data.init(), n, dim4=dim4, multiTrack=multiTrack)"
   ]
  },
  {
   "cell_type": "code",
   "execution_count": 5,
   "metadata": {},
   "outputs": [
    {
     "name": "stdout",
     "output_type": "stream",
     "text": [
      "\u001b[92m [INFO] : \u001b[0m\n",
      " |  reduced dims:\n",
      " |  (1000, 100, 3)\n"
     ]
    }
   ],
   "source": [
    "n = 1000\n",
    "min_f = 0\n",
    "max_f = 3\n",
    "x_train, params = g.gen_data_complex(context, n, max_f=max_f, min_f=min_f,\n",
    "    n_polyrythms=1,\n",
    "    n_channels=3,\n",
    "    d_phase=True,\n",
    "    return_params=True,\n",
    "    dim4=dim4,\n",
    "    multiTrack=multiTrack)"
   ]
  },
  {
   "cell_type": "code",
   "execution_count": 6,
   "metadata": {},
   "outputs": [
    {
     "data": {
      "text/plain": [
       "(1000, 100, 3, 1)"
      ]
     },
     "execution_count": 6,
     "metadata": {},
     "output_type": "execute_result"
    }
   ],
   "source": [
    "x_train.shape"
   ]
  },
  {
   "cell_type": "code",
   "execution_count": 7,
   "metadata": {},
   "outputs": [
    {
     "data": {
      "text/plain": [
       "[(1000, 100, 3, 1), 900]"
      ]
     },
     "execution_count": 7,
     "metadata": {},
     "output_type": "execute_result"
    }
   ],
   "source": [
    "m = int(x_train.shape[0] * 0.9)\n",
    "[x_train.shape, m]"
   ]
  },
  {
   "cell_type": "code",
   "execution_count": 8,
   "metadata": {},
   "outputs": [],
   "source": [
    "x_test = x_train[m:]\n",
    "x_train = x_train[:m]"
   ]
  },
  {
   "cell_type": "code",
   "execution_count": 9,
   "metadata": {},
   "outputs": [
    {
     "name": "stdout",
     "output_type": "stream",
     "text": [
      "m (50, 3)\n"
     ]
    },
    {
     "data": {
      "image/png": "[encoded data removed]",
      "text/plain": [
       "<matplotlib.figure.Figure at 0x11985f400>"
      ]
     },
     "metadata": {},
     "output_type": "display_data"
    },
    {
     "name": "stdout",
     "output_type": "stream",
     "text": [
      "m (50, 3)\n"
     ]
    },
    {
     "data": {
      "image/png": "[encoded data removed]",
      "text/plain": [
       "<matplotlib.figure.Figure at 0x11985f9b0>"
      ]
     },
     "metadata": {},
     "output_type": "display_data"
    },
    {
     "name": "stdout",
     "output_type": "stream",
     "text": [
      "m (50, 3)\n"
     ]
    },
    {
     "data": {
      "image/png": "[encoded data removed]",
      "text/plain": [
       "<matplotlib.figure.Figure at 0x1179e8550>"
      ]
     },
     "metadata": {},
     "output_type": "display_data"
    }
   ],
   "source": [
    "plot.single(x_train[0, :50,:,0])\n",
    "plot.single(x_train[1, :50,:,0])\n",
    "plot.single(x_train[2, :50,:,0])"
   ]
  },
  {
   "cell_type": "code",
   "execution_count": 10,
   "metadata": {},
   "outputs": [
    {
     "data": {
      "text/plain": [
       "(100, 3, 1)"
      ]
     },
     "execution_count": 10,
     "metadata": {},
     "output_type": "execute_result"
    }
   ],
   "source": [
    "input_shape = x_train[0].shape\n",
    "timesteps = input_shape[0]\n",
    "notes = input_shape[1]\n",
    "input_shape"
   ]
  },
  {
   "cell_type": "code",
   "execution_count": 11,
   "metadata": {},
   "outputs": [],
   "source": [
    "latent_dim = 2\n",
    "intermediate_dim = 128\n",
    "epsilon_std = 1.0"
   ]
  },
  {
   "cell_type": "code",
   "execution_count": 38,
   "metadata": {},
   "outputs": [],
   "source": [
    "def encoder(input_size, dropout=0.05):\n",
    "    encoder_input = Input(shape=input_size)\n",
    "    \n",
    "    # Convolve & Pool\n",
    "    h = encoder_input\n",
    "    h = Reshape(input_shape[:-1])(h)\n",
    "    h = Conv1D(32, kernel_size=2, strides=2, activation='relu', padding='same')(h)\n",
    "    h = Conv1D(32, kernel_size=2, strides=1, activation='elu', padding='same')(h)\n",
    "    h = Conv1D(64, kernel_size=2, strides=2, activation='relu', padding='same')(h)\n",
    "#     h = Conv1D(64, kernel_size=2, strides=1, activation='relu', padding='same')(h)\n",
    "#     #     x = AveragePooling2D((2, 2))(x)\n",
    "#     h = Conv1D(128, kernel_size=2, strides=2, activation='relu', padding='same')(h)\n",
    "\n",
    "    # Dense layers\n",
    "    h = Dropout(dropout)(h) # uncomment when using larger batches\n",
    "    h = Flatten()(h)\n",
    "    h = Dropout(dropout)(h) # uncomment when using larger batches\n",
    "\n",
    "    h = Dense(intermediate_dim, activation='relu')(h)\n",
    "   \n",
    "    # Z Mean, Variance\n",
    "    z_mean = Dense(latent_dim, name='z_mean')(h) # , activation='relu'\n",
    "    z_log_var = Dense(latent_dim, name='z_log_var')(h) # , activation='relu'\n",
    "        \n",
    "    encoder_output = [z_mean, z_log_var]\n",
    "    encoder_model = Model(encoder_input, encoder_output, name='encoder_model-')\n",
    "    return encoder_model, encoder_input, z_mean, z_log_var"
   ]
  },
  {
   "cell_type": "code",
   "execution_count": 39,
   "metadata": {},
   "outputs": [
    {
     "name": "stdout",
     "output_type": "stream",
     "text": [
      "__________________________________________________________________________________________________\n",
      "Layer (type)                    Output Shape         Param #     Connected to                     \n",
      "==================================================================================================\n",
      "input_3 (InputLayer)            (None, 100, 3, 1)    0                                            \n",
      "__________________________________________________________________________________________________\n",
      "reshape_3 (Reshape)             (None, 100, 3)       0           input_3[0][0]                    \n",
      "__________________________________________________________________________________________________\n",
      "conv1d_4 (Conv1D)               (None, 50, 32)       224         reshape_3[0][0]                  \n",
      "__________________________________________________________________________________________________\n",
      "conv1d_5 (Conv1D)               (None, 50, 32)       2080        conv1d_4[0][0]                   \n",
      "__________________________________________________________________________________________________\n",
      "conv1d_6 (Conv1D)               (None, 25, 64)       4160        conv1d_5[0][0]                   \n",
      "__________________________________________________________________________________________________\n",
      "dropout_3 (Dropout)             (None, 25, 64)       0           conv1d_6[0][0]                   \n",
      "__________________________________________________________________________________________________\n",
      "flatten_2 (Flatten)             (None, 1600)         0           dropout_3[0][0]                  \n",
      "__________________________________________________________________________________________________\n",
      "dropout_4 (Dropout)             (None, 1600)         0           flatten_2[0][0]                  \n",
      "__________________________________________________________________________________________________\n",
      "dense_5 (Dense)                 (None, 128)          204928      dropout_4[0][0]                  \n",
      "__________________________________________________________________________________________________\n",
      "z_mean (Dense)                  (None, 2)            258         dense_5[0][0]                    \n",
      "__________________________________________________________________________________________________\n",
      "z_log_var (Dense)               (None, 2)            258         dense_5[0][0]                    \n",
      "==================================================================================================\n",
      "Total params: 211,908\n",
      "Trainable params: 211,908\n",
      "Non-trainable params: 0\n",
      "__________________________________________________________________________________________________\n"
     ]
    }
   ],
   "source": [
    "encoder_model, encoder_input, z_mean, z_log_var = encoder(input_shape)\n",
    "encoder_model.summary()"
   ]
  },
  {
   "cell_type": "code",
   "execution_count": 40,
   "metadata": {},
   "outputs": [],
   "source": [
    "sample_ = lambda args: models.sample(args, z_mean, z_log_var, latent_dim, epsilon_std)"
   ]
  },
  {
   "cell_type": "code",
   "execution_count": 41,
   "metadata": {},
   "outputs": [],
   "source": [
    "# z = Lambda(sampling)([z_mean, z_log_var])\n",
    "z_input = encoder_model(encoder_input)\n",
    "z_output = Lambda(sample_)(z_input)"
   ]
  },
  {
   "cell_type": "code",
   "execution_count": 42,
   "metadata": {},
   "outputs": [],
   "source": [
    "def list_decoders(output_size, p='valid'):\n",
    "    # decoder_input = z_output\n",
    "    # h = decoder_input\n",
    "    # :output_shape = (timesteps, channels, channels) || (batches, filters, timesteps, channels)\n",
    "    # keras offers just Conv2DTranspose and not Conv1DTranspose\n",
    "    # - use 2D images during upsampling :: (timesteps, notes, channels) => (timesteps, notes, filters)\n",
    "    # - use 1D images to optimize reconstruction :: (timesteps, filters) => (timesteps, notes)\n",
    "    \n",
    "    # image_data_format = 'channels_last'\n",
    "    # goal shape: (timesteps, notes, channels)\n",
    "    # start with the 'reverse': lots of small imgs => few large img\n",
    "    \n",
    "    timesteps, notes, channels = output_size\n",
    "    m = 4 # multiplier for dims\n",
    "    \n",
    "    # at the start of upsampling, the image-structure does not yet have to correspond to the goal structure \n",
    "    # ?TODO use y*y*y starting dims, may conv, and only then correct the structure (?)\n",
    "    output_shape = (timesteps, notes, channels)\n",
    "    \n",
    "    # we instantiate these layers separately so as to reuse them later\n",
    "    decoders = []\n",
    "#     decoders += [ Dense(intermediate_dim, activation='relu') ]\n",
    "    decoders += [ Dense(np.prod(output_shape), activation='relu') ]\n",
    "    decoders += [ Dense(np.prod(output_shape), activation='relu') ]\n",
    "\n",
    "#     decoders += [ Reshape(output_shape[-3:]) ]\n",
    "    \n",
    "    # Convolve & Pool\n",
    "    \n",
    "    # Note that the kernel windows do not yet correspond to 'temporal' features, but rather to just spatial features\n",
    "    k = (3,2) # (2,1) :: (timesteps, notes)\n",
    "    s = (1,3)\n",
    "    timesteps_ = int(timesteps / 2)\n",
    "    \n",
    "#     decoders += [ Conv2DTranspose(timesteps_, kernel_size=k, strides=3, activation='relu', padding=p) ]\n",
    "#     decoders += [ Conv2DTranspose(32, kernel_size=k, strides=3, activation='relu', padding=p) ]\n",
    "#     # decoder += [Conv2DTranspose(32, kernel_size=k, strides=3, activation='relu', padding=p)]\n",
    "#     decoders += [ Conv2DTranspose(16, kernel_size=k, strides=(3,1), activation='relu', padding=p)]\n",
    "#     decoders += [ Conv2DTranspose(16, kernel_size=k, strides=3, activation='relu', padding=p)]\n",
    "    \n",
    "    # 'end' of upsampling\n",
    "#     decoders += [ Conv2D(1, kernel_size=(1,2), strides=1, activation='relu', padding=p) ]\n",
    "    # shape = ()\n",
    "    # decoder_reshape2 = Reshape(dims[0:2])\n",
    "    # #     h = Conv1D(16, kernel_size=2, strides=1, activation='relu', padding=p)(h)\n",
    "    # decoder_conv2 = Conv1D(notes * m, kernel_size=2, strides=2, activation='relu', padding=p)\n",
    "    \n",
    "    \n",
    "    # Mean (output)\n",
    "    #     h = Conv2D(1, kernel_size=1, strides=s, activation='sigmoid', padding='same')(h)\n",
    "    output_shape = (timesteps, notes, channels)\n",
    "    \n",
    "#     decoders += [ Flatten()] # note that [].append != [] = []\n",
    "    decoders += [ Dense(np.prod(output_shape), activation='sigmoid')]\n",
    "    decoders += [ Reshape(output_shape)]\n",
    "    return decoders"
   ]
  },
  {
   "cell_type": "code",
   "execution_count": 43,
   "metadata": {},
   "outputs": [],
   "source": [
    "decoders = list_decoders(input_shape)"
   ]
  },
  {
   "cell_type": "code",
   "execution_count": 44,
   "metadata": {},
   "outputs": [],
   "source": [
    "decoded = utils.composition(decoders, z_output, verbose=False)"
   ]
  },
  {
   "cell_type": "code",
   "execution_count": 45,
   "metadata": {},
   "outputs": [
    {
     "name": "stdout",
     "output_type": "stream",
     "text": [
      "__________________________________________________________________________________________________\n",
      "Layer (type)                    Output Shape         Param #     Connected to                     \n",
      "==================================================================================================\n",
      "input_3 (InputLayer)            (None, 100, 3, 1)    0                                            \n",
      "__________________________________________________________________________________________________\n",
      "encoder_model- (Model)          [(None, 2), (None, 2 211908      input_3[0][0]                    \n",
      "__________________________________________________________________________________________________\n",
      "lambda_2 (Lambda)               (None, 2)            0           encoder_model-[1][0]             \n",
      "                                                                 encoder_model-[1][1]             \n",
      "__________________________________________________________________________________________________\n",
      "dense_6 (Dense)                 (None, 300)          900         lambda_2[0][0]                   \n",
      "__________________________________________________________________________________________________\n",
      "dense_7 (Dense)                 (None, 300)          90300       dense_6[0][0]                    \n",
      "__________________________________________________________________________________________________\n",
      "dense_8 (Dense)                 (None, 300)          90300       dense_7[0][0]                    \n",
      "__________________________________________________________________________________________________\n",
      "reshape_4 (Reshape)             (None, 100, 3, 1)    0           dense_8[0][0]                    \n",
      "==================================================================================================\n",
      "Total params: 393,408\n",
      "Trainable params: 393,408\n",
      "Non-trainable params: 0\n",
      "__________________________________________________________________________________________________\n"
     ]
    }
   ],
   "source": [
    "# instantiate VAE model\n",
    "vae_input = encoder_input\n",
    "vae_output = decoded\n",
    "vae = Model(vae_input, vae_output)\n",
    "vae.summary()"
   ]
  },
  {
   "cell_type": "code",
   "execution_count": 46,
   "metadata": {
    "scrolled": true
   },
   "outputs": [
    {
     "name": "stderr",
     "output_type": "stream",
     "text": [
      "/Library/Frameworks/Python.framework/Versions/3.6/lib/python3.6/site-packages/ipykernel_launcher.py:11: UserWarning: Output \"reshape_4\" missing from loss dictionary. We assume this was done on purpose, and we will not be expecting any data to be passed to \"reshape_4\" during training.\n",
      "  # This is added back by InteractiveShellApp.init_path()\n"
     ]
    }
   ],
   "source": [
    "# Compute VAE loss\n",
    "def vae_loss(beta=1.):\n",
    "    # y_true, y_pred, z_mean, z_log_var, timesteps=150, notes=3, beta=1.\n",
    "    xent_loss = timesteps * notes * keras.metrics.binary_crossentropy(K.flatten(vae_input), K.flatten(vae_output))\n",
    "    kl_loss = - 0.5 * K.sum(1 + z_log_var - K.square(z_mean) - K.exp(z_log_var), axis=-1)\n",
    "    vae_loss = K.mean(xent_loss + beta * kl_loss)\n",
    "    return vae_loss\n",
    "\n",
    "vae_loss = vae_loss(beta=0.2)\n",
    "vae.add_loss(vae_loss)\n",
    "vae.compile(optimizer='rmsprop')\n",
    "# vae.compile(optimizer=optimizer, loss=loss, metrics=metrics)"
   ]
  },
  {
   "cell_type": "code",
   "execution_count": 47,
   "metadata": {},
   "outputs": [],
   "source": [
    "batch_size = 100\n",
    "epochs = 10\n",
    "params = {'batch_size': batch_size, 'return_y': False}"
   ]
  },
  {
   "cell_type": "code",
   "execution_count": 48,
   "metadata": {},
   "outputs": [],
   "source": [
    "phase_mod = 0.01\n",
    "whitening = False\n",
    "\n",
    "# datagen = ImageDataGenerator(\n",
    "#         featurewise_center=False,  # set input mean to 0 over the dataset\n",
    "#         samplewise_center=False,  # set each sample mean to 0\n",
    "#         featurewise_std_normalization=False,  # divide inputs by dataset std\n",
    "#         samplewise_std_normalization=False,  # divide each input by its std\n",
    "# #         zca_epsilon=10,\n",
    "#         zca_whitening=whitening,\n",
    "#         rotation_range=0,  # randomly rotate images in 0 to 180 degrees\n",
    "#         width_shift_range=0.,  # note-channel mod, but not shuffled\n",
    "#         height_shift_range=phase_mod,  # start_t, phase\n",
    "#         horizontal_flip=False,  # reverse\n",
    "#         vertical_flip=False)\n",
    "\n",
    "# # datagen.fit(x_train)"
   ]
  },
  {
   "cell_type": "code",
   "execution_count": 49,
   "metadata": {},
   "outputs": [
    {
     "data": {
      "text/plain": [
       "(900, 100, 3, 1)"
      ]
     },
     "execution_count": 49,
     "metadata": {},
     "output_type": "execute_result"
    }
   ],
   "source": [
    "x_train.shape"
   ]
  },
  {
   "cell_type": "code",
   "execution_count": 50,
   "metadata": {
    "scrolled": true
   },
   "outputs": [
    {
     "name": "stdout",
     "output_type": "stream",
     "text": [
      "batch_size = 100\n",
      "\n",
      "[Epoch 0/10] >>>>>>>>>>>>\n",
      "\n",
      " Batch 0/9\n",
      "Epoch 1/1\n",
      "2/2 [==============================] - 1s 480ms/step - loss: 208.2321\n",
      " Batch 1/9\n",
      "Epoch 1/1\n",
      "2/2 [==============================] - 0s 3ms/step - loss: 205.6280\n",
      " Batch 2/9\n",
      "Epoch 1/1\n",
      "2/2 [==============================] - 0s 3ms/step - loss: 201.1191\n",
      " Batch 3/9\n",
      "Epoch 1/1\n",
      "2/2 [==============================] - 0s 3ms/step - loss: 180.6799\n",
      " Batch 4/9\n",
      "Epoch 1/1\n",
      "2/2 [==============================] - 0s 3ms/step - loss: 146.8274\n",
      " Batch 5/9\n",
      "Epoch 1/1\n",
      "2/2 [==============================] - 0s 4ms/step - loss: 161.6598\n",
      " Batch 6/9\n",
      "Epoch 1/1\n",
      "2/2 [==============================] - 0s 7ms/step - loss: 108.2715\n",
      " Batch 7/9\n",
      "Epoch 1/1\n",
      "2/2 [==============================] - 0s 6ms/step - loss: 103.8904\n",
      " Batch 8/9\n",
      "Epoch 1/1\n",
      "2/2 [==============================] - 0s 7ms/step - loss: 69.9546\n",
      " Batch 9/9\n",
      "Epoch 1/1\n",
      "2/2 [==============================] - 0s 4ms/step - loss: 86.5475\n",
      "\n",
      "[Epoch 1/10] >>>>>>>>>>>>\n",
      "\n",
      " Batch 0/9\n",
      "Epoch 1/1\n",
      "2/2 [==============================] - 0s 3ms/step - loss: 82.8158\n",
      " Batch 1/9\n",
      "Epoch 1/1\n",
      "2/2 [==============================] - 0s 8ms/step - loss: 55.0364\n",
      " Batch 2/9\n",
      "Epoch 1/1\n",
      "2/2 [==============================] - 0s 6ms/step - loss: 51.5061\n",
      " Batch 3/9\n",
      "Epoch 1/1\n",
      "2/2 [==============================] - 0s 5ms/step - loss: 51.3642\n",
      " Batch 4/9\n",
      "Epoch 1/1\n",
      "2/2 [==============================] - 0s 5ms/step - loss: 54.5829\n",
      " Batch 5/9\n",
      "Epoch 1/1\n",
      "2/2 [==============================] - 0s 3ms/step - loss: 48.5426\n",
      " Batch 6/9\n",
      "Epoch 1/1\n",
      "2/2 [==============================] - 0s 6ms/step - loss: 56.2013\n",
      " Batch 7/9\n",
      "Epoch 1/1\n",
      "2/2 [==============================] - 0s 6ms/step - loss: 64.3871\n",
      " Batch 8/9\n",
      "Epoch 1/1\n",
      "2/2 [==============================] - 0s 5ms/step - loss: 50.2394\n",
      " Batch 9/9\n",
      "Epoch 1/1\n",
      "2/2 [==============================] - 0s 6ms/step - loss: 59.5758\n",
      "\n",
      "[Epoch 2/10] >>>>>>>>>>>>\n",
      "\n",
      " Batch 0/9\n",
      "Epoch 1/1\n",
      "2/2 [==============================] - 0s 4ms/step - loss: 52.2048\n",
      " Batch 1/9\n",
      "Epoch 1/1\n",
      "2/2 [==============================] - 0s 6ms/step - loss: 56.2678\n",
      " Batch 2/9\n",
      "Epoch 1/1\n",
      "2/2 [==============================] - 0s 5ms/step - loss: 51.5758\n",
      " Batch 3/9\n",
      "Epoch 1/1\n",
      "2/2 [==============================] - 0s 3ms/step - loss: 49.9417\n",
      " Batch 4/9\n",
      "Epoch 1/1\n",
      "2/2 [==============================] - 0s 5ms/step - loss: 49.2977\n",
      " Batch 5/9\n",
      "Epoch 1/1\n",
      "2/2 [==============================] - 0s 6ms/step - loss: 50.1286\n",
      " Batch 6/9\n",
      "Epoch 1/1\n",
      "2/2 [==============================] - 0s 6ms/step - loss: 52.0993\n",
      " Batch 7/9\n",
      "Epoch 1/1\n",
      "2/2 [==============================] - 0s 4ms/step - loss: 56.8272\n",
      " Batch 8/9\n",
      "Epoch 1/1\n",
      "2/2 [==============================] - 0s 5ms/step - loss: 49.2846\n",
      " Batch 9/9\n",
      "Epoch 1/1\n",
      "2/2 [==============================] - 0s 5ms/step - loss: 54.2769\n",
      "\n",
      "[Epoch 3/10] >>>>>>>>>>>>\n",
      "\n",
      " Batch 0/9\n",
      "Epoch 1/1\n",
      "2/2 [==============================] - 0s 6ms/step - loss: 56.0180\n",
      " Batch 1/9\n",
      "Epoch 1/1\n",
      "2/2 [==============================] - 0s 5ms/step - loss: 50.3634\n",
      " Batch 2/9\n",
      "Epoch 1/1\n",
      "2/2 [==============================] - 0s 4ms/step - loss: 51.6704\n",
      " Batch 3/9\n",
      "Epoch 1/1\n",
      "2/2 [==============================] - 0s 6ms/step - loss: 52.7344\n",
      " Batch 4/9\n",
      "Epoch 1/1\n",
      "2/2 [==============================] - 0s 6ms/step - loss: 57.0462\n",
      " Batch 5/9\n",
      "Epoch 1/1\n",
      "2/2 [==============================] - 0s 6ms/step - loss: 45.2623\n",
      " Batch 6/9\n",
      "Epoch 1/1\n",
      "2/2 [==============================] - 0s 5ms/step - loss: 48.5411\n",
      " Batch 7/9\n",
      "Epoch 1/1\n",
      "2/2 [==============================] - 0s 6ms/step - loss: 49.7343\n",
      " Batch 8/9\n",
      "Epoch 1/1\n",
      "2/2 [==============================] - 0s 6ms/step - loss: 58.6998\n",
      " Batch 9/9\n",
      "Epoch 1/1\n",
      "2/2 [==============================] - 0s 4ms/step - loss: 44.7035\n",
      "\n",
      "[Epoch 4/10] >>>>>>>>>>>>\n",
      "\n",
      " Batch 0/9\n",
      "Epoch 1/1\n",
      "2/2 [==============================] - 0s 4ms/step - loss: 49.2894\n",
      " Batch 1/9\n",
      "Epoch 1/1\n",
      "2/2 [==============================] - 0s 5ms/step - loss: 49.9331\n",
      " Batch 2/9\n",
      "Epoch 1/1\n",
      "2/2 [==============================] - 0s 3ms/step - loss: 48.1700\n",
      " Batch 3/9\n",
      "Epoch 1/1\n",
      "2/2 [==============================] - 0s 5ms/step - loss: 46.1099\n",
      " Batch 4/9\n",
      "Epoch 1/1\n",
      "2/2 [==============================] - 0s 6ms/step - loss: 50.6637\n",
      " Batch 5/9\n",
      "Epoch 1/1\n",
      "2/2 [==============================] - 0s 4ms/step - loss: 43.3995\n",
      " Batch 6/9\n",
      "Epoch 1/1\n",
      "2/2 [==============================] - 0s 4ms/step - loss: 51.9029\n",
      " Batch 7/9\n",
      "Epoch 1/1\n",
      "2/2 [==============================] - 0s 3ms/step - loss: 56.4423\n",
      " Batch 8/9\n",
      "Epoch 1/1\n",
      "2/2 [==============================] - 0s 5ms/step - loss: 50.0895\n",
      " Batch 9/9\n",
      "Epoch 1/1\n",
      "2/2 [==============================] - 0s 4ms/step - loss: 47.2305\n",
      "\n",
      "[Epoch 5/10] >>>>>>>>>>>>\n",
      "\n",
      " Batch 0/9\n",
      "Epoch 1/1\n",
      "2/2 [==============================] - 0s 4ms/step - loss: 49.3250\n",
      " Batch 1/9\n",
      "Epoch 1/1\n",
      "2/2 [==============================] - 0s 4ms/step - loss: 49.2933\n",
      " Batch 2/9\n",
      "Epoch 1/1\n",
      "2/2 [==============================] - 0s 5ms/step - loss: 45.4888\n",
      " Batch 3/9\n",
      "Epoch 1/1\n",
      "2/2 [==============================] - 0s 5ms/step - loss: 45.7403\n",
      " Batch 4/9\n",
      "Epoch 1/1\n",
      "2/2 [==============================] - 0s 5ms/step - loss: 40.3797\n",
      " Batch 5/9\n",
      "Epoch 1/1\n",
      "2/2 [==============================] - 0s 6ms/step - loss: 39.7524\n",
      " Batch 6/9\n",
      "Epoch 1/1\n",
      "2/2 [==============================] - 0s 6ms/step - loss: 51.8223\n",
      " Batch 7/9\n",
      "Epoch 1/1\n",
      "2/2 [==============================] - 0s 4ms/step - loss: 48.7027\n",
      " Batch 8/9\n",
      "Epoch 1/1\n",
      "2/2 [==============================] - 0s 3ms/step - loss: 49.4108\n",
      " Batch 9/9\n",
      "Epoch 1/1\n",
      "2/2 [==============================] - 0s 3ms/step - loss: 46.3252\n",
      "\n",
      "[Epoch 6/10] >>>>>>>>>>>>\n",
      "\n",
      " Batch 0/9\n",
      "Epoch 1/1\n",
      "2/2 [==============================] - 0s 4ms/step - loss: 38.8970\n",
      " Batch 1/9\n",
      "Epoch 1/1\n",
      "2/2 [==============================] - 0s 3ms/step - loss: 40.3262\n",
      " Batch 2/9\n",
      "Epoch 1/1\n",
      "2/2 [==============================] - 0s 3ms/step - loss: 36.9972\n",
      " Batch 3/9\n",
      "Epoch 1/1\n",
      "2/2 [==============================] - 0s 4ms/step - loss: 42.7700\n",
      " Batch 4/9\n",
      "Epoch 1/1\n",
      "2/2 [==============================] - 0s 5ms/step - loss: 57.1167\n",
      " Batch 5/9\n",
      "Epoch 1/1\n",
      "2/2 [==============================] - 0s 4ms/step - loss: 50.2254\n",
      " Batch 6/9\n",
      "Epoch 1/1\n",
      "2/2 [==============================] - 0s 3ms/step - loss: 41.3656\n",
      " Batch 7/9\n",
      "Epoch 1/1\n",
      "2/2 [==============================] - 0s 3ms/step - loss: 39.7863\n",
      " Batch 8/9\n",
      "Epoch 1/1\n",
      "2/2 [==============================] - 0s 4ms/step - loss: 36.5167\n",
      " Batch 9/9\n",
      "Epoch 1/1\n",
      "2/2 [==============================] - 0s 4ms/step - loss: 33.6135\n",
      "\n",
      "[Epoch 7/10] >>>>>>>>>>>>\n",
      "\n",
      " Batch 0/9\n",
      "Epoch 1/1\n",
      "2/2 [==============================] - 0s 4ms/step - loss: 44.4296\n",
      " Batch 1/9\n",
      "Epoch 1/1\n",
      "2/2 [==============================] - 0s 4ms/step - loss: 54.9905\n",
      " Batch 2/9\n",
      "Epoch 1/1\n",
      "2/2 [==============================] - 0s 4ms/step - loss: 46.4648\n",
      " Batch 3/9\n",
      "Epoch 1/1\n",
      "2/2 [==============================] - 0s 4ms/step - loss: 40.3597\n",
      " Batch 4/9\n",
      "Epoch 1/1\n",
      "2/2 [==============================] - 0s 4ms/step - loss: 53.5063\n",
      " Batch 5/9\n",
      "Epoch 1/1\n",
      "2/2 [==============================] - 0s 4ms/step - loss: 35.1122\n",
      " Batch 6/9\n",
      "Epoch 1/1\n",
      "2/2 [==============================] - 0s 4ms/step - loss: 38.0059\n",
      " Batch 7/9\n",
      "Epoch 1/1\n",
      "2/2 [==============================] - 0s 6ms/step - loss: 36.5132\n",
      " Batch 8/9\n",
      "Epoch 1/1\n",
      "2/2 [==============================] - 0s 6ms/step - loss: 33.0187\n",
      " Batch 9/9\n",
      "Epoch 1/1\n",
      "2/2 [==============================] - 0s 7ms/step - loss: 46.7218\n",
      "\n",
      "[Epoch 8/10] >>>>>>>>>>>>\n",
      "\n",
      " Batch 0/9\n",
      "Epoch 1/1\n",
      "2/2 [==============================] - 0s 6ms/step - loss: 43.2155\n",
      " Batch 1/9\n",
      "Epoch 1/1\n",
      "2/2 [==============================] - 0s 7ms/step - loss: 53.5613\n",
      " Batch 2/9\n",
      "Epoch 1/1\n",
      "2/2 [==============================] - 0s 5ms/step - loss: 39.0525\n",
      " Batch 3/9\n",
      "Epoch 1/1\n",
      "2/2 [==============================] - 0s 4ms/step - loss: 48.1700\n",
      " Batch 4/9\n",
      "Epoch 1/1\n",
      "2/2 [==============================] - 0s 5ms/step - loss: 41.8012\n",
      " Batch 5/9\n",
      "Epoch 1/1\n",
      "2/2 [==============================] - 0s 6ms/step - loss: 42.8979\n",
      " Batch 6/9\n",
      "Epoch 1/1\n",
      "2/2 [==============================] - 0s 6ms/step - loss: 39.0447\n",
      " Batch 7/9\n",
      "Epoch 1/1\n",
      "2/2 [==============================] - 0s 5ms/step - loss: 31.9481\n",
      " Batch 8/9\n",
      "Epoch 1/1\n",
      "2/2 [==============================] - 0s 5ms/step - loss: 38.2170\n",
      " Batch 9/9\n",
      "Epoch 1/1\n",
      "2/2 [==============================] - 0s 4ms/step - loss: 37.0159\n"
     ]
    },
    {
     "name": "stdout",
     "output_type": "stream",
     "text": [
      "\n",
      "[Epoch 9/10] >>>>>>>>>>>>\n",
      "\n",
      " Batch 0/9\n",
      "Epoch 1/1\n",
      "2/2 [==============================] - 0s 6ms/step - loss: 45.0043\n",
      " Batch 1/9\n",
      "Epoch 1/1\n",
      "2/2 [==============================] - 0s 4ms/step - loss: 41.1807\n",
      " Batch 2/9\n",
      "Epoch 1/1\n",
      "2/2 [==============================] - 0s 3ms/step - loss: 35.2827\n",
      " Batch 3/9\n",
      "Epoch 1/1\n",
      "2/2 [==============================] - 0s 5ms/step - loss: 30.3975\n",
      " Batch 4/9\n",
      "Epoch 1/1\n",
      "2/2 [==============================] - 0s 5ms/step - loss: 34.5964\n",
      " Batch 5/9\n",
      "Epoch 1/1\n",
      "2/2 [==============================] - 0s 6ms/step - loss: 57.2705\n",
      " Batch 6/9\n",
      "Epoch 1/1\n",
      "2/2 [==============================] - 0s 5ms/step - loss: 36.1855\n",
      " Batch 7/9\n",
      "Epoch 1/1\n",
      "2/2 [==============================] - 0s 5ms/step - loss: 32.0542\n",
      " Batch 8/9\n",
      "Epoch 1/1\n",
      "2/2 [==============================] - 0s 5ms/step - loss: 33.4657\n",
      " Batch 9/9\n",
      "Epoch 1/1\n",
      "2/2 [==============================] - 0s 8ms/step - loss: 38.8525\n"
     ]
    }
   ],
   "source": [
    "m = 2\n",
    "useDataGenerator = False\n",
    "useDataGenerator = True\n",
    "\n",
    "print('batch_size =', batch_size)\n",
    "if useDataGenerator:\n",
    "    datagen = models.ImageDataGenerator(x_train, batch_size, phase_mod, whitening)\n",
    "    history = collections.defaultdict(list)\n",
    "    n_batches = datagen.__len__()\n",
    "    for e in range(epochs):\n",
    "        print('\\n[Epoch %i/%i] >>>>>>>>>>>>\\n' % (e, epochs))\n",
    "        for batch_i, (x_batch, y_batch) in enumerate(datagen.flow(x_train[:m], x_train[:m], batch_size)):\n",
    "            print(' Batch %i/%i' % (batch_i,n_batches))\n",
    "            x = x_batch\n",
    "#             x = datagen.shuffle_3rd_dim(x_batch)\n",
    "            h = vae.fit(x, verbose=1)\n",
    "            for k,v in h.history.items(): \n",
    "                history[k].append(v)\n",
    "            if batch_i >= n_batches:\n",
    "                break\n",
    "else:\n",
    "    h = vae.fit(x_train[:m], epochs=epochs, validation_data=(x_test, None))\n",
    "    history = h.history"
   ]
  },
  {
   "cell_type": "code",
   "execution_count": 51,
   "metadata": {},
   "outputs": [
    {
     "data": {
      "text/plain": [
       "[<matplotlib.lines.Line2D at 0x1199e4048>]"
      ]
     },
     "execution_count": 51,
     "metadata": {},
     "output_type": "execute_result"
    },
    {
     "data": {
      "image/png": "[encoded data removed]",
      "text/plain": [
       "<matplotlib.figure.Figure at 0x11a1a0c88>"
      ]
     },
     "metadata": {},
     "output_type": "display_data"
    }
   ],
   "source": [
    "plt.plot(history['loss'])\n",
    "plt.plot(history['val_loss'])"
   ]
  },
  {
   "cell_type": "code",
   "execution_count": 52,
   "metadata": {},
   "outputs": [
    {
     "name": "stdout",
     "output_type": "stream",
     "text": [
      "m (50, 3)\n"
     ]
    },
    {
     "data": {
      "image/png": "[encoded data removed]",
      "text/plain": [
       "<matplotlib.figure.Figure at 0x11ea70b70>"
      ]
     },
     "metadata": {},
     "output_type": "display_data"
    },
    {
     "name": "stdout",
     "output_type": "stream",
     "text": [
      "m (50, 3)\n"
     ]
    },
    {
     "data": {
      "image/png": "[encoded data removed]",
      "text/plain": [
       "<matplotlib.figure.Figure at 0x118e78dd8>"
      ]
     },
     "metadata": {},
     "output_type": "display_data"
    },
    {
     "name": "stdout",
     "output_type": "stream",
     "text": [
      "m (50, 3)\n"
     ]
    },
    {
     "data": {
      "image/png": "[encoded data removed]",
      "text/plain": [
       "<matplotlib.figure.Figure at 0x118e5d780>"
      ]
     },
     "metadata": {},
     "output_type": "display_data"
    },
    {
     "name": "stdout",
     "output_type": "stream",
     "text": [
      "m (50, 3)\n"
     ]
    },
    {
     "data": {
      "image/png": "[encoded data removed]",
      "text/plain": [
       "<matplotlib.figure.Figure at 0x11e6b1828>"
      ]
     },
     "metadata": {},
     "output_type": "display_data"
    },
    {
     "name": "stdout",
     "output_type": "stream",
     "text": [
      "m (50, 3)\n"
     ]
    },
    {
     "data": {
      "image/png": "[encoded data removed]",
      "text/plain": [
       "<matplotlib.figure.Figure at 0x11e6aaa58>"
      ]
     },
     "metadata": {},
     "output_type": "display_data"
    },
    {
     "name": "stdout",
     "output_type": "stream",
     "text": [
      "m (50, 3)\n"
     ]
    },
    {
     "data": {
      "image/png": "[encoded data removed]",
      "text/plain": [
       "<matplotlib.figure.Figure at 0x11e699c88>"
      ]
     },
     "metadata": {},
     "output_type": "display_data"
    }
   ],
   "source": [
    "i = 0\n",
    "j = 1\n",
    "k = -1\n",
    "x = vae.predict(x_train[:10])\n",
    "plot.single(x_train[i, :50, :, 0])\n",
    "plot.single(x[i, :50, :, 0])\n",
    "plot.single(x_train[j, :50, :, 0])\n",
    "plot.single(x[j, :50, :, 0])\n",
    "plot.single(x_train[k, :50, :, 0])\n",
    "plot.single(x[k, :50, :, 0])"
   ]
  },
  {
   "cell_type": "code",
   "execution_count": 53,
   "metadata": {},
   "outputs": [
    {
     "data": {
      "text/plain": [
       "(10, 100, 3, 1)"
      ]
     },
     "execution_count": 53,
     "metadata": {},
     "output_type": "execute_result"
    }
   ],
   "source": [
    "x.shape"
   ]
  },
  {
   "cell_type": "code",
   "execution_count": 54,
   "metadata": {},
   "outputs": [
    {
     "name": "stdout",
     "output_type": "stream",
     "text": [
      "m (30, 3)\n"
     ]
    },
    {
     "data": {
      "image/png": "[encoded data removed]",
      "text/plain": [
       "<matplotlib.figure.Figure at 0x11ea4e400>"
      ]
     },
     "metadata": {},
     "output_type": "display_data"
    }
   ],
   "source": [
    "# interpolate - mean\n",
    "m = x.mean(axis=0)\n",
    "plot.single(m[:30,:,0])"
   ]
  },
  {
   "cell_type": "code",
   "execution_count": 55,
   "metadata": {},
   "outputs": [
    {
     "name": "stdout",
     "output_type": "stream",
     "text": [
      "m (30, 3)\n"
     ]
    },
    {
     "data": {
      "image/png": "[encoded data removed]",
      "text/plain": [
       "<matplotlib.figure.Figure at 0x11e3a6160>"
      ]
     },
     "metadata": {},
     "output_type": "display_data"
    }
   ],
   "source": [
    "# interpolate - min: these pixels are 'always' active\n",
    "m = x.min(axis=0)\n",
    "plot.multi(m[:30,:,0])"
   ]
  },
  {
   "cell_type": "code",
   "execution_count": 56,
   "metadata": {},
   "outputs": [],
   "source": [
    "# build a model to project inputs on the latent space\n",
    "encoder = Model(encoder_input, z_mean)"
   ]
  },
  {
   "cell_type": "code",
   "execution_count": 57,
   "metadata": {},
   "outputs": [
    {
     "data": {
      "text/plain": [
       "(100, 100, 3, 1)"
      ]
     },
     "execution_count": 57,
     "metadata": {},
     "output_type": "execute_result"
    }
   ],
   "source": [
    "x_test.shape"
   ]
  },
  {
   "cell_type": "code",
   "execution_count": 32,
   "metadata": {},
   "outputs": [
    {
     "data": {
      "text/plain": [
       "(100, 2)"
      ]
     },
     "execution_count": 32,
     "metadata": {},
     "output_type": "execute_result"
    }
   ],
   "source": [
    "m = 100\n",
    "x_train_encoded = encoder.predict(x_train[:m], batch_size=batch_size)\n",
    "x_train_encoded.shape"
   ]
  },
  {
   "cell_type": "code",
   "execution_count": 33,
   "metadata": {},
   "outputs": [
    {
     "data": {
      "text/plain": [
       "<matplotlib.collections.PathCollection at 0x118ebbda0>"
      ]
     },
     "execution_count": 33,
     "metadata": {},
     "output_type": "execute_result"
    },
    {
     "data": {
      "image/png": "[encoded data removed]",
      "text/plain": [
       "<matplotlib.figure.Figure at 0x118e73278>"
      ]
     },
     "metadata": {},
     "output_type": "display_data"
    }
   ],
   "source": [
    "# y_test = range(x_train_encoded.shape[0])\n",
    "y_test = np.concatenate([list(range(n)) for _ in range(int(m/n)+1)])[:m] / n\n",
    "plt.figure(figsize=(6, 6))\n",
    "plt.scatter(x_train_encoded[:, 0], x_train_encoded[:, 1], c=y_test, alpha=0.6, s=30)"
   ]
  },
  {
   "cell_type": "code",
   "execution_count": 34,
   "metadata": {},
   "outputs": [
    {
     "data": {
      "image/png": "[encoded data removed]",
      "text/plain": [
       "<matplotlib.figure.Figure at 0x118f28940>"
      ]
     },
     "metadata": {},
     "output_type": "display_data"
    }
   ],
   "source": [
    "# display a 2D plot of the digit classes in the latent space\n",
    "x_test_encoded = encoder.predict(x_test, batch_size=batch_size)\n",
    "plt.figure(figsize=(6, 6))\n",
    "plt.scatter(x_test_encoded[:, 0], x_test_encoded[:, 1], c=y_test)\n",
    "plt.colorbar()\n",
    "plt.show()"
   ]
  },
  {
   "cell_type": "code",
   "execution_count": 35,
   "metadata": {},
   "outputs": [],
   "source": [
    "# build a digit generator that can sample from the learned distribution\n",
    "decoder_input = Input(shape=(latent_dim,))\n",
    "_decoded = utils.composition(decoders, decoder_input, verbose=False)\n",
    "generator = Model(decoder_input, _decoded)"
   ]
  },
  {
   "cell_type": "code",
   "execution_count": 36,
   "metadata": {},
   "outputs": [],
   "source": [
    "# x_decoded[0].reshape(150,3)"
   ]
  },
  {
   "cell_type": "code",
   "execution_count": 37,
   "metadata": {},
   "outputs": [
    {
     "ename": "NameError",
     "evalue": "name 'x_decoded' is not defined",
     "output_type": "error",
     "traceback": [
      "\u001b[0;31m---------------------------------------------------------------------------\u001b[0m",
      "\u001b[0;31mNameError\u001b[0m                                 Traceback (most recent call last)",
      "\u001b[0;32m<ipython-input-37-6b8351fd5124>\u001b[0m in \u001b[0;36m<module>\u001b[0;34m()\u001b[0m\n\u001b[1;32m      1\u001b[0m \u001b[0;31m# display a 2D manifold of the digits\u001b[0m\u001b[0;34m\u001b[0m\u001b[0;34m\u001b[0m\u001b[0m\n\u001b[1;32m      2\u001b[0m \u001b[0mn\u001b[0m \u001b[0;34m=\u001b[0m \u001b[0;36m3\u001b[0m  \u001b[0;31m# figure with 15x15 digits\u001b[0m\u001b[0;34m\u001b[0m\u001b[0m\n\u001b[0;32m----> 3\u001b[0;31m \u001b[0mdigit_size1\u001b[0m \u001b[0;34m=\u001b[0m \u001b[0mx_decoded\u001b[0m\u001b[0;34m.\u001b[0m\u001b[0mshape\u001b[0m\u001b[0;34m[\u001b[0m\u001b[0;34m-\u001b[0m\u001b[0;36m2\u001b[0m\u001b[0;34m]\u001b[0m\u001b[0;34m\u001b[0m\u001b[0m\n\u001b[0m\u001b[1;32m      4\u001b[0m \u001b[0mdigit_size2\u001b[0m \u001b[0;34m=\u001b[0m \u001b[0mx_decoded\u001b[0m\u001b[0;34m.\u001b[0m\u001b[0mshape\u001b[0m\u001b[0;34m[\u001b[0m\u001b[0;34m-\u001b[0m\u001b[0;36m1\u001b[0m\u001b[0;34m]\u001b[0m\u001b[0;34m\u001b[0m\u001b[0m\n\u001b[1;32m      5\u001b[0m \u001b[0mfigure\u001b[0m \u001b[0;34m=\u001b[0m \u001b[0mnp\u001b[0m\u001b[0;34m.\u001b[0m\u001b[0mzeros\u001b[0m\u001b[0;34m(\u001b[0m\u001b[0;34m(\u001b[0m\u001b[0mdigit_size1\u001b[0m \u001b[0;34m*\u001b[0m \u001b[0mn\u001b[0m\u001b[0;34m,\u001b[0m \u001b[0mdigit_size1\u001b[0m \u001b[0;34m*\u001b[0m \u001b[0mn\u001b[0m\u001b[0;34m)\u001b[0m\u001b[0;34m)\u001b[0m\u001b[0;34m\u001b[0m\u001b[0m\n",
      "\u001b[0;31mNameError\u001b[0m: name 'x_decoded' is not defined"
     ]
    }
   ],
   "source": [
    "# display a 2D manifold of the digits\n",
    "n = 3  # figure with 15x15 digits\n",
    "digit_size1 = x_decoded.shape[-2]\n",
    "digit_size2 = x_decoded.shape[-1]\n",
    "figure = np.zeros((digit_size1 * n, digit_size1 * n))\n",
    "# linearly spaced coordinates on the unit square were transformed through the inverse CDF (ppf) of the Gaussian\n",
    "# to produce values of the latent variables z, since the prior of the latent space is Gaussian\n",
    "grid_x = norm.ppf(np.linspace(0.05, 0.95, n))\n",
    "grid_y = norm.ppf(np.linspace(0.05, 0.95, n))\n",
    "\n",
    "for i, yi in enumerate(grid_x):\n",
    "    for j, xi in enumerate(grid_y):\n",
    "        z_sample = np.array([[xi, yi]])\n",
    "        z_sample = np.tile(z_sample, batch_size).reshape(batch_size, 2)\n",
    "        x_decoded = generator.predict(z_sample, batch_size=batch_size)\n",
    "        digit = x_decoded[0].reshape(digit_size1, digit_size2)\n",
    "        figure[i * digit_size1: (i + 1) * digit_size1,\n",
    "               j * digit_size2: (j + 1) * digit_size2] = digit\n",
    "\n",
    "plt.figure(figsize=(10, 10))\n",
    "plt.imshow(figure, cmap='Greys_r')\n",
    "plt.show()"
   ]
  },
  {
   "cell_type": "code",
   "execution_count": null,
   "metadata": {},
   "outputs": [],
   "source": []
  },
  {
   "cell_type": "code",
   "execution_count": null,
   "metadata": {},
   "outputs": [],
   "source": []
  },
  {
   "cell_type": "code",
   "execution_count": null,
   "metadata": {},
   "outputs": [],
   "source": []
  },
  {
   "cell_type": "code",
   "execution_count": null,
   "metadata": {},
   "outputs": [],
   "source": []
  }
 ],
 "metadata": {
  "kernelspec": {
   "display_name": "Python 3",
   "language": "python",
   "name": "python3"
  },
  "language_info": {
   "codemirror_mode": {
    "name": "ipython",
    "version": 3
   },
   "file_extension": ".py",
   "mimetype": "text/x-python",
   "name": "python",
   "nbconvert_exporter": "python",
   "pygments_lexer": "ipython3",
   "version": "3.6.4"
  }
 },
 "nbformat": 4,
 "nbformat_minor": 2
}
