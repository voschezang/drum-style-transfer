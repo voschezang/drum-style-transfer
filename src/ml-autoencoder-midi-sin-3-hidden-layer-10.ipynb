{
 "cells": [
  {
   "cell_type": "code",
   "execution_count": 1,
   "metadata": {},
   "outputs": [],
   "source": [
    "import config\n",
    "import os, numpy as np, pandas, sklearn\n",
    "import mido\n",
    "import matplotlib.pyplot as plt\n",
    "%matplotlib inline"
   ]
  },
  {
   "cell_type": "code",
   "execution_count": 2,
   "metadata": {},
   "outputs": [
    {
     "name": "stderr",
     "output_type": "stream",
     "text": [
      "/Library/Frameworks/Python.framework/Versions/3.6/lib/python3.6/site-packages/h5py/__init__.py:36: FutureWarning: Conversion of the second argument of issubdtype from `float` to `np.floating` is deprecated. In future, it will be treated as `np.float64 == np.dtype(float).type`.\n",
      "  from ._conv import register_converters as _register_converters\n",
      "Using TensorFlow backend.\n"
     ]
    }
   ],
   "source": [
    "## NN libs\n",
    "from sklearn.decomposition import PCA\n",
    "from sklearn import preprocessing\n",
    "from sklearn.preprocessing import RobustScaler\n",
    "import keras\n",
    "from keras import regularizers\n",
    "from keras.utils import to_categorical\n",
    "from keras.models import Sequential\n",
    "from keras.optimizers import SGD, Adam\n",
    "from keras.layers import Input, Dense, Activation, Conv1D, Conv2D, Dropout, Flatten\n",
    "from keras.layers import Conv2DTranspose, Reshape, MaxPooling2D, UpSampling2D, UpSampling1D, MaxPooling1D\n",
    "from keras.layers import LocallyConnected1D, LocallyConnected2D\n",
    "from keras.layers import Input, LSTM, RepeatVector\n",
    "from keras.models import Model\n",
    "from keras.callbacks import TensorBoard"
   ]
  },
  {
   "cell_type": "code",
   "execution_count": 3,
   "metadata": {},
   "outputs": [
    {
     "name": "stdout",
     "output_type": "stream",
     "text": [
      " Context :: namedtuple(\n",
      "[ max_t = float\n",
      ", dt = float\n",
      ", n_instances = int\n",
      ", note_length = int\n",
      ", bpm = float\n",
      ", tempo = float\n",
      ", ticks_per_beat = int\n",
      "]\n",
      "\n"
     ]
    }
   ],
   "source": [
    "# local libs\n",
    "import config, models, functions\n",
    "from data import data, midi, midi_generators as g\n",
    "from utils import io, models_io"
   ]
  },
  {
   "cell_type": "code",
   "execution_count": 4,
   "metadata": {
    "scrolled": true
   },
   "outputs": [
    {
     "name": "stdout",
     "output_type": "stream",
     "text": [
      "Setting up params\n",
      "\n",
      "max min f 25.0 0.1\n",
      " >> Context(max_t=10.0, dt=0.02, n_instances=500, note_length=0.03, bpm=120.0, tempo=500000, ticks_per_beat=480)\n"
     ]
    }
   ],
   "source": [
    "context = data.init()"
   ]
  },
  {
   "cell_type": "code",
   "execution_count": 5,
   "metadata": {},
   "outputs": [],
   "source": [
    "# fn = (config.dataset_dir + '4-floor-120bpm.mid')\n",
    "# mid = io.import_midifile(fn)"
   ]
  },
  {
   "cell_type": "markdown",
   "metadata": {},
   "source": [
    "## Setup a generator\n",
    "\n",
    "1. What is the least amount of 'hidden' nodes needed to learn a straight rythm (e.g. 8th notes with different frequencies)\n",
    "2. Can we create a model of a generic function sin(2 pi f t + phase)\n",
    "    - using x: t -> y: sin(2p t)\n",
    "    - using x: [f, t, phase] -> y: sin(2p f t + phase)\n",
    "    - using x: sin([t1, t2, t3) -> y: [f, t, phase]\n",
    "        - such a model should be able to learn complex patterns, such as sin(f1+p1) + sin(f2+p2) + sin(f3+p3)"
   ]
  },
  {
   "cell_type": "code",
   "execution_count": 169,
   "metadata": {
    "scrolled": true
   },
   "outputs": [
    {
     "name": "stdout",
     "output_type": "stream",
     "text": [
      "render sin, f =  12.470345010534913\n",
      "WARNING type not == 0\n",
      "render sin, f =  4.169403415148148\n",
      "WARNING type not == 0\n",
      "render sin, f =  9.758080643355019\n",
      "WARNING type not == 0\n",
      "render sin, f =  14.862618412517357\n",
      "WARNING type not == 0\n",
      "render sin, f =  4.689992319095513\n",
      "WARNING type not == 0\n",
      "render sin, f =  13.876506207224613\n",
      "WARNING type not == 0\n",
      "render sin, f =  14.404645941445109\n",
      "WARNING type not == 0\n",
      "render sin, f =  9.283938930319595\n",
      "WARNING type not == 0\n",
      "render sin, f =  19.1280502199457\n",
      "WARNING type not == 0\n",
      "render sin, f =  12.345282459689638\n",
      "WARNING type not == 0\n",
      "\u001b[91m [DEBUG] > \u001b[0m\n",
      " |>  to_array: msg.time > max_t; t, n\n",
      " |>  9.994791666666638\n",
      " |>  500\n",
      "render sin, f =  7.906222922302494\n",
      "WARNING type not == 0\n",
      "render sin, f =  9.013815544930576\n",
      "WARNING type not == 0\n",
      "render sin, f =  13.070753125038252\n",
      "WARNING type not == 0\n",
      "render sin, f =  6.472368665429241\n",
      "WARNING type not == 0\n",
      "render sin, f =  12.214455265786937\n",
      "WARNING type not == 0\n",
      "render sin, f =  17.46810281701691\n",
      "WARNING type not == 0\n",
      "\u001b[91m [DEBUG] > \u001b[0m\n",
      " |>  to_array: msg.time > max_t; t, n\n",
      " |>  9.992708333333283\n",
      " |>  500\n",
      "render sin, f =  8.373364455591942\n",
      "WARNING type not == 0\n",
      "render sin, f =  18.63207732724572\n",
      "WARNING type not == 0\n",
      "render sin, f =  8.243516199249177\n",
      "WARNING type not == 0\n",
      "render sin, f =  17.433344079093416\n",
      "WARNING type not == 0\n",
      "render sin, f =  15.739253367618213\n",
      "WARNING type not == 0\n",
      "\u001b[91m [DEBUG] > \u001b[0m\n",
      " |>  to_array: msg.time > max_t; t, n\n",
      " |>  9.997916666666644\n",
      " |>  500\n",
      "render sin, f =  5.871443368081852\n",
      "WARNING type not == 0\n",
      "render sin, f =  11.54750196510992\n",
      "WARNING type not == 0\n",
      "render sin, f =  10.781273988911405\n",
      "WARNING type not == 0\n",
      "render sin, f =  3.7680997278871384\n",
      "WARNING type not == 0\n",
      "render sin, f =  8.919844408957335\n",
      "WARNING type not == 0\n",
      "render sin, f =  6.5714219239246034\n",
      "WARNING type not == 0\n",
      "render sin, f =  16.090768531828772\n",
      "WARNING type not == 0\n",
      "render sin, f =  17.889212331564472\n",
      "WARNING type not == 0\n",
      "render sin, f =  10.029102656141998\n",
      "WARNING type not == 0\n",
      "\u001b[91m [DEBUG] > \u001b[0m\n",
      " |>  to_array: msg.time > max_t; t, n\n",
      " |>  10.009374999999983\n",
      " |>  500\n",
      "render sin, f =  7.067597966309251\n",
      "WARNING type not == 0\n",
      "render sin, f =  16.995852264203993\n",
      "WARNING type not == 0\n",
      "render sin, f =  16.514827974814427\n",
      "WARNING type not == 0\n",
      "render sin, f =  6.1619286852694195\n",
      "WARNING type not == 0\n",
      "render sin, f =  7.203765015517807\n",
      "WARNING type not == 0\n",
      "render sin, f =  17.48826723535885\n",
      "WARNING type not == 0\n",
      "render sin, f =  18.75880489221378\n",
      "WARNING type not == 0\n",
      "render sin, f =  16.548448863800083\n",
      "WARNING type not == 0\n",
      "render sin, f =  13.796160314931903\n",
      "WARNING type not == 0\n",
      "render sin, f =  11.949579923830955\n",
      "WARNING type not == 0\n",
      "render sin, f =  8.756441038608997\n",
      "WARNING type not == 0\n",
      "render sin, f =  4.721498002033076\n",
      "WARNING type not == 0\n",
      "render sin, f =  14.957926063214643\n",
      "WARNING type not == 0\n",
      "render sin, f =  7.01669143685589\n",
      "WARNING type not == 0\n",
      "render sin, f =  7.054268448446809\n",
      "WARNING type not == 0\n",
      "render sin, f =  4.928830110352182\n",
      "WARNING type not == 0\n",
      "\u001b[91m [DEBUG] > \u001b[0m\n",
      " |>  to_array: msg.time > max_t; t, n\n",
      " |>  10.00625\n",
      " |>  500\n",
      "render sin, f =  8.757677287766096\n",
      "WARNING type not == 0\n",
      "render sin, f =  10.66764227076536\n",
      "WARNING type not == 0\n",
      "\u001b[91m [DEBUG] > \u001b[0m\n",
      " |>  to_array: msg.time > max_t; t, n\n",
      " |>  9.997916666666667\n",
      " |>  500\n",
      "render sin, f =  10.410717460842934\n",
      "\u001b[91m [DEBUG] > \u001b[0m\n",
      " |>  old current\n",
      " |>  0.10809744894826719\n",
      " |>  0.1080974489482672\n",
      "WARNING type not == 0\n",
      "render sin, f =  12.559510472932764\n",
      "WARNING type not == 0\n",
      "render sin, f =  14.197373243149485\n",
      "WARNING type not == 0\n",
      "render sin, f =  12.09099552067548\n",
      "WARNING type not == 0\n",
      "render sin, f =  12.419205057651276\n",
      "WARNING type not == 0\n",
      "render sin, f =  14.589637529656438\n",
      "WARNING type not == 0\n",
      "render sin, f =  10.374979707203394\n",
      "WARNING type not == 0\n",
      "render sin, f =  8.790754791658172\n",
      "WARNING type not == 0\n",
      "render sin, f =  10.838200208964171\n",
      "WARNING type not == 0\n",
      "render sin, f =  13.818439752975715\n",
      "WARNING type not == 0\n",
      "render sin, f =  18.78591589691953\n",
      "WARNING type not == 0\n",
      "render sin, f =  12.763230420990453\n",
      "WARNING type not == 0\n",
      "render sin, f =  19.76768074125571\n",
      "WARNING type not == 0\n",
      "render sin, f =  12.911039434628794\n",
      "WARNING type not == 0\n",
      "render sin, f =  16.286586963352374\n",
      "WARNING type not == 0\n",
      "\u001b[91m [DEBUG] > \u001b[0m\n",
      " |>  to_array: msg.time > max_t; t, n\n",
      " |>  10.00624999999998\n",
      " |>  500\n",
      "render sin, f =  15.89325293043067\n",
      "WARNING type not == 0\n",
      "render sin, f =  5.456540953955091\n",
      "WARNING type not == 0\n",
      "\u001b[91m [DEBUG] > \u001b[0m\n",
      " |>  to_array: msg.time > max_t; t, n\n",
      " |>  9.99687499999999\n",
      " |>  500\n",
      "render sin, f =  6.904139961836947\n",
      "WARNING type not == 0\n",
      "render sin, f =  9.517001509851276\n",
      "WARNING type not == 0\n",
      "render sin, f =  11.237369149365648\n",
      "WARNING type not == 0\n",
      "render sin, f =  10.784436635451291\n",
      "WARNING type not == 0\n",
      "render sin, f =  14.740019146316625\n",
      "WARNING type not == 0\n",
      "render sin, f =  18.086180778494786\n",
      "WARNING type not == 0\n",
      "\u001b[91m [DEBUG] > \u001b[0m\n",
      " |>  to_array: msg.time > max_t; t, n\n",
      " |>  9.998958333333297\n",
      " |>  500\n",
      "render sin, f =  5.842481960701443\n",
      "WARNING type not == 0\n",
      "render sin, f =  11.36159762995667\n",
      "WARNING type not == 0\n",
      "render sin, f =  17.44856857562818\n",
      "WARNING type not == 0\n",
      "render sin, f =  6.66647195756139\n",
      "\u001b[91m [DEBUG] > \u001b[0m\n",
      " |>  old current\n",
      " |>  0.2191135834537737\n",
      " |>  0.21911358345377374\n",
      "WARNING type not == 0\n",
      "render sin, f =  7.762784432769886\n",
      "WARNING type not == 0\n",
      "render sin, f =  4.041256692476003\n",
      "WARNING type not == 0\n",
      "render sin, f =  8.705658453642583\n",
      "WARNING type not == 0\n",
      "render sin, f =  14.729453495089505\n",
      "WARNING type not == 0\n",
      "render sin, f =  5.070577896254681\n",
      "WARNING type not == 0\n",
      "render sin, f =  5.170615768357827\n",
      "WARNING type not == 0\n",
      "render sin, f =  12.02591809968046\n",
      "WARNING type not == 0\n",
      "render sin, f =  7.644897646484352\n",
      "WARNING type not == 0\n",
      "render sin, f =  8.278928804744726\n",
      "WARNING type not == 0\n",
      "\u001b[91m [DEBUG] > \u001b[0m\n",
      " |>  to_array: msg.time > max_t; t, n\n",
      " |>  9.99270833333332\n",
      " |>  500\n",
      "render sin, f =  5.104975850574627\n",
      "WARNING type not == 0\n",
      "render sin, f =  14.773576934393853\n",
      "WARNING type not == 0\n",
      "render sin, f =  4.354718145951508\n",
      "WARNING type not == 0\n",
      "\u001b[91m [DEBUG] > \u001b[0m\n",
      " |>  to_array: msg.time > max_t; t, n\n",
      " |>  9.993749999999988\n",
      " |>  500\n",
      "render sin, f =  6.002715411289689\n",
      "WARNING type not == 0\n",
      "render sin, f =  12.278305281790363\n",
      "WARNING type not == 0\n",
      "render sin, f =  9.892215290772143\n",
      "WARNING type not == 0\n",
      "\u001b[91m [DEBUG] > \u001b[0m\n",
      " |>  to_array: msg.time > max_t; t, n\n",
      " |>  10.004166666666661\n",
      " |>  500\n",
      "render sin, f =  13.067755912412307\n",
      "WARNING type not == 0\n",
      "render sin, f =  13.181776448787978\n",
      "WARNING type not == 0\n",
      "render sin, f =  7.949308765342909\n",
      "WARNING type not == 0\n",
      "render sin, f =  16.16076983159831\n",
      "WARNING type not == 0\n",
      "render sin, f =  9.795818107269076\n",
      "WARNING type not == 0\n",
      "render sin, f =  4.105393329820128\n",
      "WARNING type not == 0\n",
      "\u001b[91m [DEBUG] > \u001b[0m\n",
      " |>  to_array: msg.time > max_t; t, n\n",
      " |>  9.99895833333333\n",
      " |>  500\n",
      "render sin, f =  13.039590275412007\n",
      "WARNING type not == 0\n",
      "render sin, f =  9.87863890560431\n",
      "WARNING type not == 0\n",
      "render sin, f =  17.722989473973605\n",
      "WARNING type not == 0\n",
      "render sin, f =  10.98391248258222\n",
      "WARNING type not == 0\n"
     ]
    }
   ],
   "source": [
    "n = 100\n",
    "min_f = 3\n",
    "max_f = 20\n",
    "x_train = g.gen_data(context, n, max_f=max_f, min_f=min_f)\n",
    "# x_train = np.zeros([10,100,127])\n",
    "y_train = x_train"
   ]
  },
  {
   "cell_type": "code",
   "execution_count": 170,
   "metadata": {},
   "outputs": [
    {
     "data": {
      "text/plain": [
       "[<matplotlib.lines.Line2D at 0x11f682a58>,\n",
       " <matplotlib.lines.Line2D at 0x11f682b00>]"
      ]
     },
     "execution_count": 170,
     "metadata": {},
     "output_type": "execute_result"
    },
    {
     "data": {
      "image/png": "[encoded data removed]",
      "text/plain": [
       "<matplotlib.figure.Figure at 0x11d39ccc0>"
      ]
     },
     "metadata": {},
     "output_type": "display_data"
    }
   ],
   "source": [
    "plt.plot(x_train[0,:10,0:2])\n",
    "plt.plot(x_train[1,:10,0:2])"
   ]
  },
  {
   "cell_type": "code",
   "execution_count": 171,
   "metadata": {},
   "outputs": [
    {
     "data": {
      "text/plain": [
       "(100, 500, 2)"
      ]
     },
     "execution_count": 171,
     "metadata": {},
     "output_type": "execute_result"
    }
   ],
   "source": [
    "# [sum(x) for x in x_train]\n",
    "x_train.shape"
   ]
  },
  {
   "cell_type": "code",
   "execution_count": 224,
   "metadata": {},
   "outputs": [
    {
     "data": {
      "text/plain": [
       "(100, 500, 2)"
      ]
     },
     "execution_count": 224,
     "metadata": {},
     "output_type": "execute_result"
    }
   ],
   "source": [
    "y_train = x_train\n",
    "n_samples = x_train[0]\n",
    "input_shape = x_train.shape[1:] # shape of a single sample\n",
    "output_shape = y_train.shape[1:]\n",
    "# output_length = y_train.shape[1]\n",
    "# output_length = (y_train[0]).shape[0] # = length of an individual label\n",
    "hidden_layer_length = 10\n",
    "x_train.shape"
   ]
  },
  {
   "cell_type": "code",
   "execution_count": 268,
   "metadata": {
    "scrolled": false
   },
   "outputs": [
    {
     "name": "stdout",
     "output_type": "stream",
     "text": [
      "_________________________________________________________________\n",
      "Layer (type)                 Output Shape              Param #   \n",
      "=================================================================\n",
      "input_44 (InputLayer)        (None, 500, 2)            0         \n",
      "_________________________________________________________________\n",
      "flatten_15 (Flatten)         (None, 1000)              0         \n",
      "_________________________________________________________________\n",
      "dense_48 (Dense)             (None, 10)                10010     \n",
      "_________________________________________________________________\n",
      "dropout_11 (Dropout)         (None, 10)                0         \n",
      "_________________________________________________________________\n",
      "dense_49 (Dense)             (None, 10)                110       \n",
      "=================================================================\n",
      "Total params: 10,120\n",
      "Trainable params: 10,120\n",
      "Non-trainable params: 0\n",
      "_________________________________________________________________\n",
      "_________________________________________________________________\n",
      "Layer (type)                 Output Shape              Param #   \n",
      "=================================================================\n",
      "input_45 (InputLayer)        (None, 10)                0         \n",
      "_________________________________________________________________\n",
      "dense_50 (Dense)             (None, 1000)              11000     \n",
      "_________________________________________________________________\n",
      "dropout_12 (Dropout)         (None, 1000)              0         \n",
      "_________________________________________________________________\n",
      "dense_51 (Dense)             (None, 1000)              1001000   \n",
      "_________________________________________________________________\n",
      "reshape_15 (Reshape)         (None, 500, 2)            0         \n",
      "=================================================================\n",
      "Total params: 1,012,000\n",
      "Trainable params: 1,012,000\n",
      "Non-trainable params: 0\n",
      "_________________________________________________________________\n"
     ]
    }
   ],
   "source": [
    "# functional syntax: lambda x: lambda y: z\n",
    "def encoder(input_shape, output_length, dropout=0.10):\n",
    "    input_layer = Input(shape=input_shape)\n",
    "    x = input_layer\n",
    "    x = Flatten()(x)\n",
    "#     x = Dense(output_length * 2, activation='relu')(x)    \n",
    "#     x = Dropout(dropout)(x)\n",
    "#     x = Dense(output_length, activation='relu')(x)\n",
    "    x = Dense(output_length, activation='relu')(x)\n",
    "    x = Dropout(dropout)(x)\n",
    "    x = Dense(output_length, activation='relu')(x)\n",
    "#     x = Dense(output_length, activation='sigmoid')(x)\n",
    "#     x = Dropout(dropout)(x)\n",
    "#     x = Dense(output_length, activation='relu', activity_regularizer=regularizers.l1(10e-5))(x)\n",
    "    #     model.add(Dropout(dropout))    \n",
    "    model = Model(inputs=input_layer, outputs=x)\n",
    "    return model\n",
    "\n",
    "\n",
    "def decoder(input_length, output_shape, dropout=0.10):\n",
    "    input_layer = Input(shape=(input_length,))\n",
    "    x = input_layer\n",
    "    shape = output_shape\n",
    "    # shape = (10,100) # increase n dimensions\n",
    "    \n",
    "    x = Dense(np.prod(shape), activation='relu')(x)\n",
    "#     x = Dense(np.prod(shape), activation='relu')(x)\n",
    "#     x = Dropout(dropout)(x)\n",
    "    x = Dropout(dropout)(x)\n",
    "    x = Dense(np.prod(shape), activation='sigmoid')(x)\n",
    "#     x = Dense(np.prod(shape), activation='sigmoid')(x) # 4*4*8 = 128\n",
    "    x = Reshape(shape)(x)\n",
    "#     x = UpSampling1D(10)(x)\n",
    "    # make sure the conv layer increases the amount of dimensions\n",
    "#     dims = keras.backend.int_shape(x)[1:]\n",
    "#     n_steps = output_shape[0]\n",
    "#     n_output_timesteps = output_shape[1]\n",
    "#     filters = n_output_timesteps\n",
    "#     conv_amt = 2\n",
    "#     print('__+++==', n_output_timesteps)\n",
    "#     x = Conv1D(filters, kernel_size=4, strides=2, activation='relu')(x) # 50,100\n",
    "\n",
    "    dims = keras.backend.int_shape(x)[1:]\n",
    "#     x = UpSampling1D(dims[0] * 2)(x)\n",
    "#     x = Dense(output_shape[1], activation='relu')(x)\n",
    "    #     x = LocallyConnected1D(output_shape[1], kernel_size=1, activation='relu')(x)\n",
    "    # x = Dense(output_length, activation='softmax')(x)\n",
    "    model = Model(inputs=input_layer, outputs=x)\n",
    "    #     model.add(Dropout(dropout))\n",
    "    return model\n",
    "\n",
    "\n",
    "def autoencoder(input_shape, output_shape, hidden_layer_length=10, dropout=0.10, verbose=False):\n",
    "    input_ = Input(shape=input_shape)\n",
    "    encode = encoder(input_shape, hidden_layer_length, dropout)\n",
    "    if verbose:\n",
    "        encode.summary()\n",
    "    decode = decoder(hidden_layer_length, output_shape, dropout)\n",
    "    if verbose:\n",
    "        decode.summary()\n",
    "    model = Model(input_, decode(encode(input_)))\n",
    "    return encode, decode, model\n",
    "\n",
    "dropout = 0.1\n",
    "encoder, decoder, auto = autoencoder(input_shape, output_shape, hidden_layer_length, dropout, True)"
   ]
  },
  {
   "cell_type": "code",
   "execution_count": 269,
   "metadata": {},
   "outputs": [],
   "source": [
    "metrics = ['accuracy','mse','mae']\n",
    "loss = 'binary_crossentropy'# binary_crossentropy categorical_crossentropy\n",
    "optimizer = 'adam'\n",
    "auto.compile(optimizer=optimizer, loss=loss, metrics=metrics)"
   ]
  },
  {
   "cell_type": "code",
   "execution_count": 270,
   "metadata": {},
   "outputs": [],
   "source": [
    "batch_size = 15\n",
    "# n epochs = n iterations over all the training data\n",
    "epochs = 150"
   ]
  },
  {
   "cell_type": "code",
   "execution_count": 271,
   "metadata": {
    "scrolled": true
   },
   "outputs": [
    {
     "name": "stdout",
     "output_type": "stream",
     "text": [
      "Train on 25 samples, validate on 5 samples\n",
      "Epoch 1/150\n",
      "25/25 [==============================] - 0s 13ms/step - loss: 0.6921 - acc: 0.5452 - mean_squared_error: 0.2495 - mean_absolute_error: 0.4994 - val_loss: 0.6861 - val_acc: 0.6510 - val_mean_squared_error: 0.2465 - val_mean_absolute_error: 0.4963\n",
      "Epoch 2/150\n",
      "25/25 [==============================] - 0s 3ms/step - loss: 0.6832 - acc: 0.6914 - mean_squared_error: 0.2450 - mean_absolute_error: 0.4948 - val_loss: 0.6712 - val_acc: 0.7368 - val_mean_squared_error: 0.2391 - val_mean_absolute_error: 0.4879\n",
      "Epoch 3/150\n",
      "25/25 [==============================] - 0s 4ms/step - loss: 0.6653 - acc: 0.7538 - mean_squared_error: 0.2361 - mean_absolute_error: 0.4849 - val_loss: 0.6469 - val_acc: 0.7564 - val_mean_squared_error: 0.2271 - val_mean_absolute_error: 0.4719\n",
      "Epoch 4/150\n",
      "25/25 [==============================] - 0s 3ms/step - loss: 0.6333 - acc: 0.7712 - mean_squared_error: 0.2204 - mean_absolute_error: 0.4647 - val_loss: 0.6190 - val_acc: 0.7596 - val_mean_squared_error: 0.2135 - val_mean_absolute_error: 0.4457\n",
      "Epoch 5/150\n",
      "25/25 [==============================] - 0s 3ms/step - loss: 0.5934 - acc: 0.7742 - mean_squared_error: 0.2014 - mean_absolute_error: 0.4292 - val_loss: 0.6057 - val_acc: 0.7604 - val_mean_squared_error: 0.2057 - val_mean_absolute_error: 0.4121\n",
      "Epoch 6/150\n",
      "25/25 [==============================] - ETA: 0s - loss: 0.5680 - acc: 0.7867 - mean_squared_error: 0.1895 - mean_absolute_error: 0.39 - 0s 5ms/step - loss: 0.5730 - acc: 0.7741 - mean_squared_error: 0.1911 - mean_absolute_error: 0.3905 - val_loss: 0.6196 - val_acc: 0.7620 - val_mean_squared_error: 0.2059 - val_mean_absolute_error: 0.3832\n",
      "Epoch 7/150\n",
      "25/25 [==============================] - 0s 4ms/step - loss: 0.5709 - acc: 0.7754 - mean_squared_error: 0.1872 - mean_absolute_error: 0.3629 - val_loss: 0.6369 - val_acc: 0.7620 - val_mean_squared_error: 0.2075 - val_mean_absolute_error: 0.3713\n",
      "Epoch 8/150\n",
      "25/25 [==============================] - 0s 3ms/step - loss: 0.5561 - acc: 0.7753 - mean_squared_error: 0.1812 - mean_absolute_error: 0.3392 - val_loss: 0.6415 - val_acc: 0.7622 - val_mean_squared_error: 0.2080 - val_mean_absolute_error: 0.3723\n",
      "Epoch 9/150\n",
      "25/25 [==============================] - 0s 3ms/step - loss: 0.5557 - acc: 0.7750 - mean_squared_error: 0.1811 - mean_absolute_error: 0.3427 - val_loss: 0.6352 - val_acc: 0.7624 - val_mean_squared_error: 0.2081 - val_mean_absolute_error: 0.3823\n",
      "Epoch 10/150\n",
      "25/25 [==============================] - 0s 3ms/step - loss: 0.5432 - acc: 0.7758 - mean_squared_error: 0.1777 - mean_absolute_error: 0.3464 - val_loss: 0.6282 - val_acc: 0.7614 - val_mean_squared_error: 0.2082 - val_mean_absolute_error: 0.3934\n",
      "Epoch 11/150\n",
      "25/25 [==============================] - 0s 3ms/step - loss: 0.5292 - acc: 0.7760 - mean_squared_error: 0.1738 - mean_absolute_error: 0.3559 - val_loss: 0.6238 - val_acc: 0.7584 - val_mean_squared_error: 0.2087 - val_mean_absolute_error: 0.4033\n",
      "Epoch 12/150\n",
      "25/25 [==============================] - 0s 2ms/step - loss: 0.5301 - acc: 0.7763 - mean_squared_error: 0.1745 - mean_absolute_error: 0.3667 - val_loss: 0.6211 - val_acc: 0.7590 - val_mean_squared_error: 0.2087 - val_mean_absolute_error: 0.4081\n",
      "Epoch 13/150\n",
      "25/25 [==============================] - 0s 3ms/step - loss: 0.5248 - acc: 0.7754 - mean_squared_error: 0.1726 - mean_absolute_error: 0.3675 - val_loss: 0.6194 - val_acc: 0.7598 - val_mean_squared_error: 0.2082 - val_mean_absolute_error: 0.4090\n",
      "Epoch 14/150\n",
      "25/25 [==============================] - 0s 3ms/step - loss: 0.5172 - acc: 0.7773 - mean_squared_error: 0.1695 - mean_absolute_error: 0.3640 - val_loss: 0.6187 - val_acc: 0.7604 - val_mean_squared_error: 0.2073 - val_mean_absolute_error: 0.4060\n",
      "Epoch 15/150\n",
      "25/25 [==============================] - 0s 3ms/step - loss: 0.5078 - acc: 0.7768 - mean_squared_error: 0.1659 - mean_absolute_error: 0.3539 - val_loss: 0.6186 - val_acc: 0.7614 - val_mean_squared_error: 0.2060 - val_mean_absolute_error: 0.3998\n",
      "Epoch 16/150\n",
      "25/25 [==============================] - 0s 3ms/step - loss: 0.4960 - acc: 0.7784 - mean_squared_error: 0.1617 - mean_absolute_error: 0.3401 - val_loss: 0.6194 - val_acc: 0.7620 - val_mean_squared_error: 0.2048 - val_mean_absolute_error: 0.3925\n",
      "Epoch 17/150\n",
      "25/25 [==============================] - 0s 3ms/step - loss: 0.4967 - acc: 0.7772 - mean_squared_error: 0.1620 - mean_absolute_error: 0.3318 - val_loss: 0.6204 - val_acc: 0.7620 - val_mean_squared_error: 0.2038 - val_mean_absolute_error: 0.3860\n",
      "Epoch 18/150\n",
      "25/25 [==============================] - 0s 3ms/step - loss: 0.4867 - acc: 0.7773 - mean_squared_error: 0.1591 - mean_absolute_error: 0.3148 - val_loss: 0.6185 - val_acc: 0.7622 - val_mean_squared_error: 0.2032 - val_mean_absolute_error: 0.3848\n",
      "Epoch 19/150\n",
      "25/25 [==============================] - 0s 3ms/step - loss: 0.4845 - acc: 0.7782 - mean_squared_error: 0.1585 - mean_absolute_error: 0.3156 - val_loss: 0.6148 - val_acc: 0.7620 - val_mean_squared_error: 0.2027 - val_mean_absolute_error: 0.3871\n",
      "Epoch 20/150\n",
      "25/25 [==============================] - 0s 2ms/step - loss: 0.4749 - acc: 0.7792 - mean_squared_error: 0.1547 - mean_absolute_error: 0.3179 - val_loss: 0.6106 - val_acc: 0.7620 - val_mean_squared_error: 0.2022 - val_mean_absolute_error: 0.3905\n",
      "Epoch 21/150\n",
      "25/25 [==============================] - 0s 3ms/step - loss: 0.4739 - acc: 0.7779 - mean_squared_error: 0.1546 - mean_absolute_error: 0.3188 - val_loss: 0.6087 - val_acc: 0.7610 - val_mean_squared_error: 0.2021 - val_mean_absolute_error: 0.3927\n",
      "Epoch 22/150\n",
      "25/25 [==============================] - 0s 3ms/step - loss: 0.4652 - acc: 0.7795 - mean_squared_error: 0.1517 - mean_absolute_error: 0.3119 - val_loss: 0.6084 - val_acc: 0.7604 - val_mean_squared_error: 0.2021 - val_mean_absolute_error: 0.3939\n",
      "Epoch 23/150\n",
      "25/25 [==============================] - 0s 2ms/step - loss: 0.4627 - acc: 0.7795 - mean_squared_error: 0.1511 - mean_absolute_error: 0.3110 - val_loss: 0.6087 - val_acc: 0.7602 - val_mean_squared_error: 0.2021 - val_mean_absolute_error: 0.3932\n",
      "Epoch 24/150\n",
      "25/25 [==============================] - 0s 3ms/step - loss: 0.4618 - acc: 0.7811 - mean_squared_error: 0.1507 - mean_absolute_error: 0.3109 - val_loss: 0.6088 - val_acc: 0.7606 - val_mean_squared_error: 0.2015 - val_mean_absolute_error: 0.3902\n",
      "Epoch 25/150\n",
      "25/25 [==============================] - 0s 3ms/step - loss: 0.4531 - acc: 0.7824 - mean_squared_error: 0.1483 - mean_absolute_error: 0.2994 - val_loss: 0.6094 - val_acc: 0.7610 - val_mean_squared_error: 0.2012 - val_mean_absolute_error: 0.3877\n",
      "Epoch 26/150\n",
      "25/25 [==============================] - 0s 2ms/step - loss: 0.4565 - acc: 0.7827 - mean_squared_error: 0.1497 - mean_absolute_error: 0.2993 - val_loss: 0.6109 - val_acc: 0.7602 - val_mean_squared_error: 0.2013 - val_mean_absolute_error: 0.3868\n",
      "Epoch 27/150\n",
      "25/25 [==============================] - 0s 3ms/step - loss: 0.4479 - acc: 0.7834 - mean_squared_error: 0.1468 - mean_absolute_error: 0.2943 - val_loss: 0.6138 - val_acc: 0.7568 - val_mean_squared_error: 0.2021 - val_mean_absolute_error: 0.3870\n",
      "Epoch 28/150\n",
      "25/25 [==============================] - 0s 3ms/step - loss: 0.4497 - acc: 0.7836 - mean_squared_error: 0.1474 - mean_absolute_error: 0.2987 - val_loss: 0.6169 - val_acc: 0.7570 - val_mean_squared_error: 0.2029 - val_mean_absolute_error: 0.3871\n",
      "Epoch 29/150\n",
      "25/25 [==============================] - 0s 3ms/step - loss: 0.4455 - acc: 0.7876 - mean_squared_error: 0.1457 - mean_absolute_error: 0.2962 - val_loss: 0.6165 - val_acc: 0.7570 - val_mean_squared_error: 0.2028 - val_mean_absolute_error: 0.3874\n",
      "Epoch 30/150\n",
      "25/25 [==============================] - 0s 2ms/step - loss: 0.4371 - acc: 0.7876 - mean_squared_error: 0.1434 - mean_absolute_error: 0.2884 - val_loss: 0.6146 - val_acc: 0.7582 - val_mean_squared_error: 0.2024 - val_mean_absolute_error: 0.3884\n",
      "Epoch 31/150\n",
      "25/25 [==============================] - 0s 3ms/step - loss: 0.4420 - acc: 0.7886 - mean_squared_error: 0.1449 - mean_absolute_error: 0.2958 - val_loss: 0.6126 - val_acc: 0.7586 - val_mean_squared_error: 0.2020 - val_mean_absolute_error: 0.3891\n",
      "Epoch 32/150\n"
     ]
    },
    {
     "name": "stdout",
     "output_type": "stream",
     "text": [
      "25/25 [==============================] - 0s 3ms/step - loss: 0.4363 - acc: 0.7908 - mean_squared_error: 0.1427 - mean_absolute_error: 0.2931 - val_loss: 0.6119 - val_acc: 0.7582 - val_mean_squared_error: 0.2017 - val_mean_absolute_error: 0.3889\n",
      "Epoch 33/150\n",
      "25/25 [==============================] - 0s 2ms/step - loss: 0.4425 - acc: 0.7902 - mean_squared_error: 0.1451 - mean_absolute_error: 0.2986 - val_loss: 0.6126 - val_acc: 0.7580 - val_mean_squared_error: 0.2016 - val_mean_absolute_error: 0.3876\n",
      "Epoch 34/150\n",
      "25/25 [==============================] - 0s 3ms/step - loss: 0.4372 - acc: 0.7901 - mean_squared_error: 0.1431 - mean_absolute_error: 0.2981 - val_loss: 0.6145 - val_acc: 0.7580 - val_mean_squared_error: 0.2016 - val_mean_absolute_error: 0.3852\n",
      "Epoch 35/150\n",
      "25/25 [==============================] - 0s 2ms/step - loss: 0.4242 - acc: 0.7960 - mean_squared_error: 0.1387 - mean_absolute_error: 0.2811 - val_loss: 0.6163 - val_acc: 0.7576 - val_mean_squared_error: 0.2015 - val_mean_absolute_error: 0.3832\n",
      "Epoch 36/150\n",
      "25/25 [==============================] - 0s 3ms/step - loss: 0.4214 - acc: 0.7976 - mean_squared_error: 0.1381 - mean_absolute_error: 0.2796 - val_loss: 0.6181 - val_acc: 0.7564 - val_mean_squared_error: 0.2016 - val_mean_absolute_error: 0.3819\n",
      "Epoch 37/150\n",
      "25/25 [==============================] - 0s 3ms/step - loss: 0.4279 - acc: 0.7931 - mean_squared_error: 0.1400 - mean_absolute_error: 0.2852 - val_loss: 0.6198 - val_acc: 0.7562 - val_mean_squared_error: 0.2017 - val_mean_absolute_error: 0.3812\n",
      "Epoch 38/150\n",
      "25/25 [==============================] - 0s 2ms/step - loss: 0.4177 - acc: 0.7991 - mean_squared_error: 0.1367 - mean_absolute_error: 0.2787 - val_loss: 0.6211 - val_acc: 0.7546 - val_mean_squared_error: 0.2019 - val_mean_absolute_error: 0.3813\n",
      "Epoch 39/150\n",
      "25/25 [==============================] - 0s 3ms/step - loss: 0.4195 - acc: 0.7972 - mean_squared_error: 0.1376 - mean_absolute_error: 0.2792 - val_loss: 0.6224 - val_acc: 0.7536 - val_mean_squared_error: 0.2023 - val_mean_absolute_error: 0.3822\n",
      "Epoch 40/150\n",
      "25/25 [==============================] - 0s 2ms/step - loss: 0.4182 - acc: 0.7998 - mean_squared_error: 0.1366 - mean_absolute_error: 0.2823 - val_loss: 0.6231 - val_acc: 0.7534 - val_mean_squared_error: 0.2024 - val_mean_absolute_error: 0.3824\n",
      "Epoch 41/150\n",
      "25/25 [==============================] - 0s 3ms/step - loss: 0.4203 - acc: 0.7965 - mean_squared_error: 0.1377 - mean_absolute_error: 0.2827 - val_loss: 0.6244 - val_acc: 0.7534 - val_mean_squared_error: 0.2024 - val_mean_absolute_error: 0.3815\n",
      "Epoch 42/150\n",
      "25/25 [==============================] - 0s 3ms/step - loss: 0.4118 - acc: 0.8008 - mean_squared_error: 0.1351 - mean_absolute_error: 0.2767 - val_loss: 0.6273 - val_acc: 0.7516 - val_mean_squared_error: 0.2028 - val_mean_absolute_error: 0.3802\n",
      "Epoch 43/150\n",
      "25/25 [==============================] - 0s 3ms/step - loss: 0.4086 - acc: 0.8000 - mean_squared_error: 0.1343 - mean_absolute_error: 0.2716 - val_loss: 0.6270 - val_acc: 0.7524 - val_mean_squared_error: 0.2026 - val_mean_absolute_error: 0.3795\n",
      "Epoch 44/150\n",
      "25/25 [==============================] - 0s 3ms/step - loss: 0.3980 - acc: 0.8052 - mean_squared_error: 0.1308 - mean_absolute_error: 0.2662 - val_loss: 0.6273 - val_acc: 0.7526 - val_mean_squared_error: 0.2028 - val_mean_absolute_error: 0.3800\n",
      "Epoch 45/150\n",
      "25/25 [==============================] - 0s 2ms/step - loss: 0.4110 - acc: 0.8015 - mean_squared_error: 0.1350 - mean_absolute_error: 0.2769 - val_loss: 0.6290 - val_acc: 0.7520 - val_mean_squared_error: 0.2032 - val_mean_absolute_error: 0.3805\n",
      "Epoch 46/150\n",
      "25/25 [==============================] - 0s 3ms/step - loss: 0.4003 - acc: 0.8026 - mean_squared_error: 0.1316 - mean_absolute_error: 0.2682 - val_loss: 0.6318 - val_acc: 0.7508 - val_mean_squared_error: 0.2038 - val_mean_absolute_error: 0.3810\n",
      "Epoch 47/150\n",
      "25/25 [==============================] - 0s 3ms/step - loss: 0.3883 - acc: 0.8071 - mean_squared_error: 0.1276 - mean_absolute_error: 0.2615 - val_loss: 0.6348 - val_acc: 0.7492 - val_mean_squared_error: 0.2043 - val_mean_absolute_error: 0.3811\n",
      "Epoch 48/150\n",
      "25/25 [==============================] - 0s 3ms/step - loss: 0.3883 - acc: 0.8082 - mean_squared_error: 0.1274 - mean_absolute_error: 0.2628 - val_loss: 0.6368 - val_acc: 0.7478 - val_mean_squared_error: 0.2046 - val_mean_absolute_error: 0.3809\n",
      "Epoch 49/150\n",
      "25/25 [==============================] - 0s 3ms/step - loss: 0.3931 - acc: 0.8042 - mean_squared_error: 0.1297 - mean_absolute_error: 0.2637 - val_loss: 0.6388 - val_acc: 0.7462 - val_mean_squared_error: 0.2050 - val_mean_absolute_error: 0.3807\n",
      "Epoch 50/150\n",
      "25/25 [==============================] - 0s 2ms/step - loss: 0.3820 - acc: 0.8103 - mean_squared_error: 0.1253 - mean_absolute_error: 0.2588 - val_loss: 0.6394 - val_acc: 0.7458 - val_mean_squared_error: 0.2051 - val_mean_absolute_error: 0.3809\n",
      "Epoch 51/150\n",
      "25/25 [==============================] - 0s 2ms/step - loss: 0.3816 - acc: 0.8111 - mean_squared_error: 0.1251 - mean_absolute_error: 0.2589 - val_loss: 0.6410 - val_acc: 0.7462 - val_mean_squared_error: 0.2052 - val_mean_absolute_error: 0.3805\n",
      "Epoch 52/150\n",
      "25/25 [==============================] - 0s 3ms/step - loss: 0.3775 - acc: 0.8127 - mean_squared_error: 0.1239 - mean_absolute_error: 0.2562 - val_loss: 0.6426 - val_acc: 0.7452 - val_mean_squared_error: 0.2053 - val_mean_absolute_error: 0.3801\n",
      "Epoch 53/150\n",
      "25/25 [==============================] - 0s 2ms/step - loss: 0.3752 - acc: 0.8136 - mean_squared_error: 0.1231 - mean_absolute_error: 0.2535 - val_loss: 0.6433 - val_acc: 0.7462 - val_mean_squared_error: 0.2056 - val_mean_absolute_error: 0.3810\n",
      "Epoch 54/150\n",
      "25/25 [==============================] - 0s 3ms/step - loss: 0.3692 - acc: 0.8186 - mean_squared_error: 0.1209 - mean_absolute_error: 0.2497 - val_loss: 0.6432 - val_acc: 0.7438 - val_mean_squared_error: 0.2057 - val_mean_absolute_error: 0.3818\n",
      "Epoch 55/150\n",
      "25/25 [==============================] - 0s 2ms/step - loss: 0.3649 - acc: 0.8210 - mean_squared_error: 0.1192 - mean_absolute_error: 0.2511 - val_loss: 0.6442 - val_acc: 0.7426 - val_mean_squared_error: 0.2058 - val_mean_absolute_error: 0.3816\n",
      "Epoch 56/150\n",
      "25/25 [==============================] - 0s 3ms/step - loss: 0.3589 - acc: 0.8246 - mean_squared_error: 0.1175 - mean_absolute_error: 0.2475 - val_loss: 0.6482 - val_acc: 0.7424 - val_mean_squared_error: 0.2061 - val_mean_absolute_error: 0.3803\n",
      "Epoch 57/150\n",
      "25/25 [==============================] - 0s 3ms/step - loss: 0.3714 - acc: 0.8158 - mean_squared_error: 0.1221 - mean_absolute_error: 0.2528 - val_loss: 0.6512 - val_acc: 0.7412 - val_mean_squared_error: 0.2061 - val_mean_absolute_error: 0.3788\n",
      "Epoch 58/150\n",
      "25/25 [==============================] - 0s 2ms/step - loss: 0.3645 - acc: 0.8191 - mean_squared_error: 0.1202 - mean_absolute_error: 0.2485 - val_loss: 0.6487 - val_acc: 0.7404 - val_mean_squared_error: 0.2056 - val_mean_absolute_error: 0.3785\n",
      "Epoch 59/150\n",
      "25/25 [==============================] - 0s 3ms/step - loss: 0.3555 - acc: 0.8214 - mean_squared_error: 0.1171 - mean_absolute_error: 0.2385 - val_loss: 0.6497 - val_acc: 0.7396 - val_mean_squared_error: 0.2055 - val_mean_absolute_error: 0.3780\n",
      "Epoch 60/150\n",
      "25/25 [==============================] - 0s 3ms/step - loss: 0.3811 - acc: 0.8096 - mean_squared_error: 0.1260 - mean_absolute_error: 0.2557 - val_loss: 0.6528 - val_acc: 0.7376 - val_mean_squared_error: 0.2058 - val_mean_absolute_error: 0.3775\n",
      "Epoch 61/150\n",
      "25/25 [==============================] - 0s 3ms/step - loss: 0.3693 - acc: 0.8122 - mean_squared_error: 0.1226 - mean_absolute_error: 0.2490 - val_loss: 0.6552 - val_acc: 0.7346 - val_mean_squared_error: 0.2062 - val_mean_absolute_error: 0.3776\n",
      "Epoch 62/150\n",
      "25/25 [==============================] - 0s 3ms/step - loss: 0.3640 - acc: 0.8176 - mean_squared_error: 0.1199 - mean_absolute_error: 0.2501 - val_loss: 0.6594 - val_acc: 0.7330 - val_mean_squared_error: 0.2066 - val_mean_absolute_error: 0.3769\n",
      "Epoch 63/150\n",
      "25/25 [==============================] - 0s 3ms/step - loss: 0.3428 - acc: 0.8297 - mean_squared_error: 0.1126 - mean_absolute_error: 0.2339 - val_loss: 0.6597 - val_acc: 0.7348 - val_mean_squared_error: 0.2064 - val_mean_absolute_error: 0.3761\n"
     ]
    },
    {
     "name": "stdout",
     "output_type": "stream",
     "text": [
      "Epoch 64/150\n",
      "25/25 [==============================] - 0s 3ms/step - loss: 0.3502 - acc: 0.8254 - mean_squared_error: 0.1155 - mean_absolute_error: 0.2366 - val_loss: 0.6603 - val_acc: 0.7374 - val_mean_squared_error: 0.2060 - val_mean_absolute_error: 0.3748\n",
      "Epoch 65/150\n",
      "25/25 [==============================] - 0s 2ms/step - loss: 0.3246 - acc: 0.8360 - mean_squared_error: 0.1065 - mean_absolute_error: 0.2235 - val_loss: 0.6568 - val_acc: 0.7368 - val_mean_squared_error: 0.2054 - val_mean_absolute_error: 0.3741\n",
      "Epoch 66/150\n",
      "25/25 [==============================] - 0s 3ms/step - loss: 0.3438 - acc: 0.8296 - mean_squared_error: 0.1130 - mean_absolute_error: 0.2353 - val_loss: 0.6539 - val_acc: 0.7360 - val_mean_squared_error: 0.2051 - val_mean_absolute_error: 0.3739\n",
      "Epoch 67/150\n",
      "25/25 [==============================] - 0s 3ms/step - loss: 0.3205 - acc: 0.8388 - mean_squared_error: 0.1055 - mean_absolute_error: 0.2191 - val_loss: 0.6576 - val_acc: 0.7366 - val_mean_squared_error: 0.2055 - val_mean_absolute_error: 0.3736\n",
      "Epoch 68/150\n",
      "25/25 [==============================] - 0s 3ms/step - loss: 0.3383 - acc: 0.8299 - mean_squared_error: 0.1113 - mean_absolute_error: 0.2320 - val_loss: 0.6661 - val_acc: 0.7360 - val_mean_squared_error: 0.2068 - val_mean_absolute_error: 0.3740\n",
      "Epoch 69/150\n",
      "25/25 [==============================] - 0s 3ms/step - loss: 0.3355 - acc: 0.8335 - mean_squared_error: 0.1097 - mean_absolute_error: 0.2322 - val_loss: 0.6712 - val_acc: 0.7358 - val_mean_squared_error: 0.2073 - val_mean_absolute_error: 0.3736\n",
      "Epoch 70/150\n",
      "25/25 [==============================] - 0s 3ms/step - loss: 0.3348 - acc: 0.8321 - mean_squared_error: 0.1106 - mean_absolute_error: 0.2299 - val_loss: 0.6720 - val_acc: 0.7338 - val_mean_squared_error: 0.2074 - val_mean_absolute_error: 0.3735\n",
      "Epoch 71/150\n",
      "25/25 [==============================] - 0s 3ms/step - loss: 0.3062 - acc: 0.8491 - mean_squared_error: 0.1005 - mean_absolute_error: 0.2113 - val_loss: 0.6720 - val_acc: 0.7342 - val_mean_squared_error: 0.2072 - val_mean_absolute_error: 0.3724\n",
      "Epoch 72/150\n",
      "25/25 [==============================] - 0s 3ms/step - loss: 0.3337 - acc: 0.8368 - mean_squared_error: 0.1092 - mean_absolute_error: 0.2325 - val_loss: 0.6752 - val_acc: 0.7336 - val_mean_squared_error: 0.2070 - val_mean_absolute_error: 0.3698\n",
      "Epoch 73/150\n",
      "25/25 [==============================] - 0s 2ms/step - loss: 0.3054 - acc: 0.8495 - mean_squared_error: 0.1000 - mean_absolute_error: 0.2095 - val_loss: 0.6801 - val_acc: 0.7356 - val_mean_squared_error: 0.2072 - val_mean_absolute_error: 0.3680\n",
      "Epoch 74/150\n",
      "25/25 [==============================] - 0s 2ms/step - loss: 0.3306 - acc: 0.8330 - mean_squared_error: 0.1093 - mean_absolute_error: 0.2236 - val_loss: 0.6833 - val_acc: 0.7358 - val_mean_squared_error: 0.2074 - val_mean_absolute_error: 0.3672\n",
      "Epoch 75/150\n",
      "25/25 [==============================] - 0s 2ms/step - loss: 0.3316 - acc: 0.8407 - mean_squared_error: 0.1085 - mean_absolute_error: 0.2242 - val_loss: 0.6803 - val_acc: 0.7348 - val_mean_squared_error: 0.2072 - val_mean_absolute_error: 0.3679\n",
      "Epoch 76/150\n",
      "25/25 [==============================] - 0s 3ms/step - loss: 0.3094 - acc: 0.8486 - mean_squared_error: 0.1009 - mean_absolute_error: 0.2135 - val_loss: 0.6753 - val_acc: 0.7374 - val_mean_squared_error: 0.2065 - val_mean_absolute_error: 0.3674\n",
      "Epoch 77/150\n",
      "25/25 [==============================] - 0s 3ms/step - loss: 0.3169 - acc: 0.8500 - mean_squared_error: 0.1032 - mean_absolute_error: 0.2160 - val_loss: 0.6692 - val_acc: 0.7360 - val_mean_squared_error: 0.2059 - val_mean_absolute_error: 0.3676\n",
      "Epoch 78/150\n",
      "25/25 [==============================] - 0s 3ms/step - loss: 0.3006 - acc: 0.8580 - mean_squared_error: 0.0975 - mean_absolute_error: 0.2052 - val_loss: 0.6665 - val_acc: 0.7364 - val_mean_squared_error: 0.2055 - val_mean_absolute_error: 0.3669\n",
      "Epoch 79/150\n",
      "25/25 [==============================] - 0s 3ms/step - loss: 0.3218 - acc: 0.8416 - mean_squared_error: 0.1060 - mean_absolute_error: 0.2170 - val_loss: 0.6658 - val_acc: 0.7368 - val_mean_squared_error: 0.2054 - val_mean_absolute_error: 0.3667\n",
      "Epoch 80/150\n",
      "25/25 [==============================] - 0s 3ms/step - loss: 0.3129 - acc: 0.8494 - mean_squared_error: 0.1021 - mean_absolute_error: 0.2152 - val_loss: 0.6734 - val_acc: 0.7358 - val_mean_squared_error: 0.2062 - val_mean_absolute_error: 0.3659\n",
      "Epoch 81/150\n",
      "25/25 [==============================] - 0s 2ms/step - loss: 0.2828 - acc: 0.8616 - mean_squared_error: 0.0923 - mean_absolute_error: 0.1941 - val_loss: 0.6747 - val_acc: 0.7348 - val_mean_squared_error: 0.2066 - val_mean_absolute_error: 0.3664\n",
      "Epoch 82/150\n",
      "25/25 [==============================] - 0s 3ms/step - loss: 0.2887 - acc: 0.8629 - mean_squared_error: 0.0937 - mean_absolute_error: 0.2007 - val_loss: 0.6703 - val_acc: 0.7336 - val_mean_squared_error: 0.2062 - val_mean_absolute_error: 0.3668\n",
      "Epoch 83/150\n",
      "25/25 [==============================] - 0s 3ms/step - loss: 0.2992 - acc: 0.8538 - mean_squared_error: 0.0974 - mean_absolute_error: 0.2076 - val_loss: 0.6670 - val_acc: 0.7352 - val_mean_squared_error: 0.2059 - val_mean_absolute_error: 0.3674\n",
      "Epoch 84/150\n",
      "25/25 [==============================] - 0s 3ms/step - loss: 0.2792 - acc: 0.8658 - mean_squared_error: 0.0904 - mean_absolute_error: 0.1928 - val_loss: 0.6652 - val_acc: 0.7350 - val_mean_squared_error: 0.2055 - val_mean_absolute_error: 0.3670\n",
      "Epoch 85/150\n",
      "25/25 [==============================] - 0s 3ms/step - loss: 0.2720 - acc: 0.8674 - mean_squared_error: 0.0881 - mean_absolute_error: 0.1920 - val_loss: 0.6719 - val_acc: 0.7346 - val_mean_squared_error: 0.2059 - val_mean_absolute_error: 0.3648\n",
      "Epoch 86/150\n",
      "25/25 [==============================] - 0s 3ms/step - loss: 0.2907 - acc: 0.8603 - mean_squared_error: 0.0937 - mean_absolute_error: 0.1956 - val_loss: 0.6832 - val_acc: 0.7348 - val_mean_squared_error: 0.2068 - val_mean_absolute_error: 0.3626\n",
      "Epoch 87/150\n",
      "25/25 [==============================] - 0s 2ms/step - loss: 0.2982 - acc: 0.8507 - mean_squared_error: 0.0977 - mean_absolute_error: 0.2042 - val_loss: 0.6917 - val_acc: 0.7312 - val_mean_squared_error: 0.2073 - val_mean_absolute_error: 0.3608\n",
      "Epoch 88/150\n",
      "25/25 [==============================] - 0s 3ms/step - loss: 0.2734 - acc: 0.8702 - mean_squared_error: 0.0880 - mean_absolute_error: 0.1921 - val_loss: 0.6966 - val_acc: 0.7304 - val_mean_squared_error: 0.2076 - val_mean_absolute_error: 0.3599\n",
      "Epoch 89/150\n",
      "25/25 [==============================] - 0s 2ms/step - loss: 0.2541 - acc: 0.8769 - mean_squared_error: 0.0822 - mean_absolute_error: 0.1762 - val_loss: 0.7010 - val_acc: 0.7300 - val_mean_squared_error: 0.2081 - val_mean_absolute_error: 0.3598\n",
      "Epoch 90/150\n",
      "25/25 [==============================] - 0s 3ms/step - loss: 0.2615 - acc: 0.8724 - mean_squared_error: 0.0849 - mean_absolute_error: 0.1821 - val_loss: 0.7058 - val_acc: 0.7316 - val_mean_squared_error: 0.2085 - val_mean_absolute_error: 0.3600\n",
      "Epoch 91/150\n",
      "25/25 [==============================] - 0s 3ms/step - loss: 0.2573 - acc: 0.8794 - mean_squared_error: 0.0824 - mean_absolute_error: 0.1808 - val_loss: 0.7088 - val_acc: 0.7322 - val_mean_squared_error: 0.2088 - val_mean_absolute_error: 0.3598\n",
      "Epoch 92/150\n",
      "25/25 [==============================] - 0s 3ms/step - loss: 0.2398 - acc: 0.8850 - mean_squared_error: 0.0764 - mean_absolute_error: 0.1716 - val_loss: 0.7088 - val_acc: 0.7316 - val_mean_squared_error: 0.2089 - val_mean_absolute_error: 0.3592\n",
      "Epoch 93/150\n",
      "25/25 [==============================] - 0s 3ms/step - loss: 0.2471 - acc: 0.8834 - mean_squared_error: 0.0791 - mean_absolute_error: 0.1731 - val_loss: 0.7091 - val_acc: 0.7304 - val_mean_squared_error: 0.2090 - val_mean_absolute_error: 0.3587\n",
      "Epoch 94/150\n",
      "25/25 [==============================] - 0s 2ms/step - loss: 0.3032 - acc: 0.8431 - mean_squared_error: 0.1000 - mean_absolute_error: 0.2080 - val_loss: 0.7139 - val_acc: 0.7272 - val_mean_squared_error: 0.2096 - val_mean_absolute_error: 0.3586\n",
      "Epoch 95/150\n",
      "25/25 [==============================] - 0s 2ms/step - loss: 0.2647 - acc: 0.8616 - mean_squared_error: 0.0867 - mean_absolute_error: 0.1848 - val_loss: 0.7228 - val_acc: 0.7252 - val_mean_squared_error: 0.2106 - val_mean_absolute_error: 0.3581\n"
     ]
    },
    {
     "name": "stdout",
     "output_type": "stream",
     "text": [
      "Epoch 96/150\n",
      "25/25 [==============================] - 0s 3ms/step - loss: 0.2348 - acc: 0.8896 - mean_squared_error: 0.0748 - mean_absolute_error: 0.1680 - val_loss: 0.7321 - val_acc: 0.7224 - val_mean_squared_error: 0.2116 - val_mean_absolute_error: 0.3571\n",
      "Epoch 97/150\n",
      "25/25 [==============================] - 0s 3ms/step - loss: 0.2518 - acc: 0.8778 - mean_squared_error: 0.0812 - mean_absolute_error: 0.1742 - val_loss: 0.7419 - val_acc: 0.7244 - val_mean_squared_error: 0.2123 - val_mean_absolute_error: 0.3553\n",
      "Epoch 98/150\n",
      "25/25 [==============================] - 0s 2ms/step - loss: 0.2267 - acc: 0.8884 - mean_squared_error: 0.0725 - mean_absolute_error: 0.1614 - val_loss: 0.7467 - val_acc: 0.7272 - val_mean_squared_error: 0.2125 - val_mean_absolute_error: 0.3538\n",
      "Epoch 99/150\n",
      "25/25 [==============================] - 0s 3ms/step - loss: 0.2372 - acc: 0.8817 - mean_squared_error: 0.0761 - mean_absolute_error: 0.1635 - val_loss: 0.7436 - val_acc: 0.7232 - val_mean_squared_error: 0.2122 - val_mean_absolute_error: 0.3529\n",
      "Epoch 100/150\n",
      "25/25 [==============================] - 0s 3ms/step - loss: 0.2273 - acc: 0.8874 - mean_squared_error: 0.0731 - mean_absolute_error: 0.1601 - val_loss: 0.7380 - val_acc: 0.7238 - val_mean_squared_error: 0.2120 - val_mean_absolute_error: 0.3533\n",
      "Epoch 101/150\n",
      "25/25 [==============================] - 0s 2ms/step - loss: 0.2692 - acc: 0.8703 - mean_squared_error: 0.0869 - mean_absolute_error: 0.1808 - val_loss: 0.7411 - val_acc: 0.7222 - val_mean_squared_error: 0.2127 - val_mean_absolute_error: 0.3538\n",
      "Epoch 102/150\n",
      "25/25 [==============================] - 0s 2ms/step - loss: 0.2379 - acc: 0.8884 - mean_squared_error: 0.0757 - mean_absolute_error: 0.1640 - val_loss: 0.7437 - val_acc: 0.7214 - val_mean_squared_error: 0.2131 - val_mean_absolute_error: 0.3540\n",
      "Epoch 103/150\n",
      "25/25 [==============================] - 0s 3ms/step - loss: 0.2473 - acc: 0.8816 - mean_squared_error: 0.0794 - mean_absolute_error: 0.1715 - val_loss: 0.7487 - val_acc: 0.7190 - val_mean_squared_error: 0.2139 - val_mean_absolute_error: 0.3544\n",
      "Epoch 104/150\n",
      "25/25 [==============================] - 0s 3ms/step - loss: 0.2197 - acc: 0.8947 - mean_squared_error: 0.0697 - mean_absolute_error: 0.1569 - val_loss: 0.7466 - val_acc: 0.7188 - val_mean_squared_error: 0.2139 - val_mean_absolute_error: 0.3554\n",
      "Epoch 105/150\n",
      "25/25 [==============================] - 0s 3ms/step - loss: 0.2376 - acc: 0.8908 - mean_squared_error: 0.0743 - mean_absolute_error: 0.1603 - val_loss: 0.7440 - val_acc: 0.7192 - val_mean_squared_error: 0.2136 - val_mean_absolute_error: 0.3552\n",
      "Epoch 106/150\n",
      "25/25 [==============================] - 0s 3ms/step - loss: 0.2067 - acc: 0.9016 - mean_squared_error: 0.0654 - mean_absolute_error: 0.1467 - val_loss: 0.7442 - val_acc: 0.7206 - val_mean_squared_error: 0.2134 - val_mean_absolute_error: 0.3541\n",
      "Epoch 107/150\n",
      "25/25 [==============================] - 0s 3ms/step - loss: 0.2637 - acc: 0.8734 - mean_squared_error: 0.0845 - mean_absolute_error: 0.1717 - val_loss: 0.7416 - val_acc: 0.7196 - val_mean_squared_error: 0.2131 - val_mean_absolute_error: 0.3541\n",
      "Epoch 108/150\n",
      "25/25 [==============================] - 0s 2ms/step - loss: 0.2256 - acc: 0.8918 - mean_squared_error: 0.0718 - mean_absolute_error: 0.1581 - val_loss: 0.7401 - val_acc: 0.7156 - val_mean_squared_error: 0.2130 - val_mean_absolute_error: 0.3547\n",
      "Epoch 109/150\n",
      "25/25 [==============================] - ETA: 0s - loss: 0.2238 - acc: 0.8985 - mean_squared_error: 0.0701 - mean_absolute_error: 0.15 - 0s 2ms/step - loss: 0.2213 - acc: 0.8976 - mean_squared_error: 0.0699 - mean_absolute_error: 0.1551 - val_loss: 0.7423 - val_acc: 0.7138 - val_mean_squared_error: 0.2132 - val_mean_absolute_error: 0.3548\n",
      "Epoch 110/150\n",
      "25/25 [==============================] - 0s 3ms/step - loss: 0.2190 - acc: 0.8968 - mean_squared_error: 0.0691 - mean_absolute_error: 0.1538 - val_loss: 0.7464 - val_acc: 0.7152 - val_mean_squared_error: 0.2136 - val_mean_absolute_error: 0.3548\n",
      "Epoch 111/150\n",
      "25/25 [==============================] - 0s 2ms/step - loss: 0.1984 - acc: 0.9071 - mean_squared_error: 0.0622 - mean_absolute_error: 0.1416 - val_loss: 0.7488 - val_acc: 0.7118 - val_mean_squared_error: 0.2139 - val_mean_absolute_error: 0.3550\n",
      "Epoch 112/150\n",
      "25/25 [==============================] - 0s 3ms/step - loss: 0.2188 - acc: 0.8938 - mean_squared_error: 0.0702 - mean_absolute_error: 0.1520 - val_loss: 0.7550 - val_acc: 0.7120 - val_mean_squared_error: 0.2144 - val_mean_absolute_error: 0.3547\n",
      "Epoch 113/150\n",
      "25/25 [==============================] - 0s 3ms/step - loss: 0.2313 - acc: 0.8848 - mean_squared_error: 0.0740 - mean_absolute_error: 0.1590 - val_loss: 0.7607 - val_acc: 0.7118 - val_mean_squared_error: 0.2147 - val_mean_absolute_error: 0.3538\n",
      "Epoch 114/150\n",
      "25/25 [==============================] - 0s 2ms/step - loss: 0.2152 - acc: 0.8958 - mean_squared_error: 0.0684 - mean_absolute_error: 0.1477 - val_loss: 0.7609 - val_acc: 0.7126 - val_mean_squared_error: 0.2152 - val_mean_absolute_error: 0.3540\n",
      "Epoch 115/150\n",
      "25/25 [==============================] - 0s 3ms/step - loss: 0.1981 - acc: 0.9045 - mean_squared_error: 0.0626 - mean_absolute_error: 0.1417 - val_loss: 0.7585 - val_acc: 0.7164 - val_mean_squared_error: 0.2158 - val_mean_absolute_error: 0.3550\n",
      "Epoch 116/150\n",
      "25/25 [==============================] - 0s 2ms/step - loss: 0.1812 - acc: 0.9102 - mean_squared_error: 0.0572 - mean_absolute_error: 0.1309 - val_loss: 0.7578 - val_acc: 0.7120 - val_mean_squared_error: 0.2166 - val_mean_absolute_error: 0.3558\n",
      "Epoch 117/150\n",
      "25/25 [==============================] - 0s 2ms/step - loss: 0.2451 - acc: 0.8819 - mean_squared_error: 0.0782 - mean_absolute_error: 0.1637 - val_loss: 0.7590 - val_acc: 0.7118 - val_mean_squared_error: 0.2172 - val_mean_absolute_error: 0.3567\n",
      "Epoch 118/150\n",
      "25/25 [==============================] - 0s 2ms/step - loss: 0.1994 - acc: 0.9043 - mean_squared_error: 0.0629 - mean_absolute_error: 0.1434 - val_loss: 0.7595 - val_acc: 0.7148 - val_mean_squared_error: 0.2173 - val_mean_absolute_error: 0.3572\n",
      "Epoch 119/150\n",
      "25/25 [==============================] - 0s 3ms/step - loss: 0.2134 - acc: 0.9029 - mean_squared_error: 0.0665 - mean_absolute_error: 0.1467 - val_loss: 0.7567 - val_acc: 0.7146 - val_mean_squared_error: 0.2167 - val_mean_absolute_error: 0.3568\n",
      "Epoch 120/150\n",
      "25/25 [==============================] - 0s 2ms/step - loss: 0.1898 - acc: 0.9093 - mean_squared_error: 0.0597 - mean_absolute_error: 0.1365 - val_loss: 0.7455 - val_acc: 0.7114 - val_mean_squared_error: 0.2160 - val_mean_absolute_error: 0.3573\n",
      "Epoch 121/150\n",
      "25/25 [==============================] - 0s 3ms/step - loss: 0.2058 - acc: 0.9093 - mean_squared_error: 0.0637 - mean_absolute_error: 0.1428 - val_loss: 0.7447 - val_acc: 0.7126 - val_mean_squared_error: 0.2162 - val_mean_absolute_error: 0.3578\n",
      "Epoch 122/150\n",
      "25/25 [==============================] - 0s 3ms/step - loss: 0.2043 - acc: 0.9009 - mean_squared_error: 0.0651 - mean_absolute_error: 0.1435 - val_loss: 0.7537 - val_acc: 0.7106 - val_mean_squared_error: 0.2171 - val_mean_absolute_error: 0.3581\n",
      "Epoch 123/150\n",
      "25/25 [==============================] - 0s 3ms/step - loss: 0.2244 - acc: 0.8974 - mean_squared_error: 0.0702 - mean_absolute_error: 0.1488 - val_loss: 0.7656 - val_acc: 0.7110 - val_mean_squared_error: 0.2179 - val_mean_absolute_error: 0.3577\n",
      "Epoch 124/150\n",
      "25/25 [==============================] - 0s 3ms/step - loss: 0.1739 - acc: 0.9223 - mean_squared_error: 0.0532 - mean_absolute_error: 0.1264 - val_loss: 0.7750 - val_acc: 0.7110 - val_mean_squared_error: 0.2185 - val_mean_absolute_error: 0.3563\n",
      "Epoch 125/150\n",
      "25/25 [==============================] - 0s 2ms/step - loss: 0.1757 - acc: 0.9207 - mean_squared_error: 0.0542 - mean_absolute_error: 0.1260 - val_loss: 0.7799 - val_acc: 0.7122 - val_mean_squared_error: 0.2185 - val_mean_absolute_error: 0.3544\n",
      "Epoch 126/150\n",
      "25/25 [==============================] - 0s 2ms/step - loss: 0.1811 - acc: 0.9145 - mean_squared_error: 0.0565 - mean_absolute_error: 0.1271 - val_loss: 0.7805 - val_acc: 0.7164 - val_mean_squared_error: 0.2181 - val_mean_absolute_error: 0.3529\n",
      "Epoch 127/150\n"
     ]
    },
    {
     "name": "stdout",
     "output_type": "stream",
     "text": [
      "25/25 [==============================] - 0s 3ms/step - loss: 0.1850 - acc: 0.9088 - mean_squared_error: 0.0585 - mean_absolute_error: 0.1275 - val_loss: 0.7798 - val_acc: 0.7176 - val_mean_squared_error: 0.2175 - val_mean_absolute_error: 0.3512\n",
      "Epoch 128/150\n",
      "25/25 [==============================] - 0s 3ms/step - loss: 0.1660 - acc: 0.9203 - mean_squared_error: 0.0519 - mean_absolute_error: 0.1183 - val_loss: 0.7794 - val_acc: 0.7158 - val_mean_squared_error: 0.2171 - val_mean_absolute_error: 0.3502\n",
      "Epoch 129/150\n",
      "25/25 [==============================] - 0s 2ms/step - loss: 0.1742 - acc: 0.9245 - mean_squared_error: 0.0533 - mean_absolute_error: 0.1182 - val_loss: 0.7847 - val_acc: 0.7138 - val_mean_squared_error: 0.2171 - val_mean_absolute_error: 0.3488\n",
      "Epoch 130/150\n",
      "25/25 [==============================] - 0s 3ms/step - loss: 0.2415 - acc: 0.8913 - mean_squared_error: 0.0762 - mean_absolute_error: 0.1548 - val_loss: 0.7921 - val_acc: 0.7096 - val_mean_squared_error: 0.2182 - val_mean_absolute_error: 0.3492\n",
      "Epoch 131/150\n",
      "25/25 [==============================] - 0s 3ms/step - loss: 0.1770 - acc: 0.9224 - mean_squared_error: 0.0545 - mean_absolute_error: 0.1259 - val_loss: 0.8014 - val_acc: 0.7048 - val_mean_squared_error: 0.2195 - val_mean_absolute_error: 0.3496\n",
      "Epoch 132/150\n",
      "25/25 [==============================] - 0s 2ms/step - loss: 0.1998 - acc: 0.9076 - mean_squared_error: 0.0627 - mean_absolute_error: 0.1315 - val_loss: 0.8147 - val_acc: 0.7002 - val_mean_squared_error: 0.2213 - val_mean_absolute_error: 0.3503\n",
      "Epoch 133/150\n",
      "25/25 [==============================] - 0s 2ms/step - loss: 0.1583 - acc: 0.9266 - mean_squared_error: 0.0484 - mean_absolute_error: 0.1129 - val_loss: 0.8277 - val_acc: 0.6992 - val_mean_squared_error: 0.2226 - val_mean_absolute_error: 0.3506\n",
      "Epoch 134/150\n",
      "25/25 [==============================] - 0s 2ms/step - loss: 0.1659 - acc: 0.9227 - mean_squared_error: 0.0509 - mean_absolute_error: 0.1168 - val_loss: 0.8306 - val_acc: 0.7006 - val_mean_squared_error: 0.2222 - val_mean_absolute_error: 0.3503\n",
      "Epoch 135/150\n",
      "25/25 [==============================] - 0s 2ms/step - loss: 0.1590 - acc: 0.9313 - mean_squared_error: 0.0479 - mean_absolute_error: 0.1152 - val_loss: 0.8283 - val_acc: 0.7086 - val_mean_squared_error: 0.2210 - val_mean_absolute_error: 0.3496\n",
      "Epoch 136/150\n",
      "25/25 [==============================] - 0s 2ms/step - loss: 0.1932 - acc: 0.9190 - mean_squared_error: 0.0588 - mean_absolute_error: 0.1314 - val_loss: 0.8173 - val_acc: 0.7110 - val_mean_squared_error: 0.2194 - val_mean_absolute_error: 0.3498\n",
      "Epoch 137/150\n",
      "25/25 [==============================] - 0s 3ms/step - loss: 0.1936 - acc: 0.9132 - mean_squared_error: 0.0599 - mean_absolute_error: 0.1295 - val_loss: 0.7994 - val_acc: 0.7096 - val_mean_squared_error: 0.2179 - val_mean_absolute_error: 0.3518\n",
      "Epoch 138/150\n",
      "25/25 [==============================] - 0s 3ms/step - loss: 0.1429 - acc: 0.9387 - mean_squared_error: 0.0427 - mean_absolute_error: 0.1062 - val_loss: 0.7843 - val_acc: 0.7088 - val_mean_squared_error: 0.2168 - val_mean_absolute_error: 0.3540\n",
      "Epoch 139/150\n",
      "25/25 [==============================] - 0s 2ms/step - loss: 0.1438 - acc: 0.9427 - mean_squared_error: 0.0424 - mean_absolute_error: 0.1052 - val_loss: 0.7743 - val_acc: 0.7074 - val_mean_squared_error: 0.2170 - val_mean_absolute_error: 0.3547\n",
      "Epoch 140/150\n",
      "25/25 [==============================] - 0s 3ms/step - loss: 0.1512 - acc: 0.9361 - mean_squared_error: 0.0454 - mean_absolute_error: 0.1114 - val_loss: 0.7735 - val_acc: 0.7046 - val_mean_squared_error: 0.2177 - val_mean_absolute_error: 0.3551\n",
      "Epoch 141/150\n",
      "25/25 [==============================] - 0s 2ms/step - loss: 0.2060 - acc: 0.9132 - mean_squared_error: 0.0633 - mean_absolute_error: 0.1288 - val_loss: 0.7756 - val_acc: 0.7004 - val_mean_squared_error: 0.2196 - val_mean_absolute_error: 0.3575\n",
      "Epoch 142/150\n",
      "25/25 [==============================] - 0s 2ms/step - loss: 0.1395 - acc: 0.9408 - mean_squared_error: 0.0419 - mean_absolute_error: 0.1007 - val_loss: 0.7803 - val_acc: 0.6910 - val_mean_squared_error: 0.2218 - val_mean_absolute_error: 0.3595\n",
      "Epoch 143/150\n",
      "25/25 [==============================] - 0s 2ms/step - loss: 0.1208 - acc: 0.9552 - mean_squared_error: 0.0346 - mean_absolute_error: 0.0923 - val_loss: 0.7837 - val_acc: 0.6914 - val_mean_squared_error: 0.2226 - val_mean_absolute_error: 0.3591\n",
      "Epoch 144/150\n",
      "25/25 [==============================] - 0s 3ms/step - loss: 0.1627 - acc: 0.9284 - mean_squared_error: 0.0502 - mean_absolute_error: 0.1179 - val_loss: 0.7870 - val_acc: 0.6982 - val_mean_squared_error: 0.2214 - val_mean_absolute_error: 0.3563\n",
      "Epoch 145/150\n",
      "25/25 [==============================] - 0s 2ms/step - loss: 0.1504 - acc: 0.9333 - mean_squared_error: 0.0459 - mean_absolute_error: 0.1081 - val_loss: 0.7912 - val_acc: 0.6992 - val_mean_squared_error: 0.2203 - val_mean_absolute_error: 0.3531\n",
      "Epoch 146/150\n",
      "25/25 [==============================] - 0s 3ms/step - loss: 0.1668 - acc: 0.9224 - mean_squared_error: 0.0506 - mean_absolute_error: 0.1124 - val_loss: 0.7936 - val_acc: 0.7028 - val_mean_squared_error: 0.2201 - val_mean_absolute_error: 0.3509\n",
      "Epoch 147/150\n",
      "25/25 [==============================] - 0s 2ms/step - loss: 0.1649 - acc: 0.9273 - mean_squared_error: 0.0505 - mean_absolute_error: 0.1104 - val_loss: 0.7917 - val_acc: 0.7052 - val_mean_squared_error: 0.2201 - val_mean_absolute_error: 0.3501\n",
      "Epoch 148/150\n",
      "25/25 [==============================] - 0s 2ms/step - loss: 0.1304 - acc: 0.9382 - mean_squared_error: 0.0398 - mean_absolute_error: 0.0948 - val_loss: 0.7898 - val_acc: 0.7022 - val_mean_squared_error: 0.2212 - val_mean_absolute_error: 0.3514\n",
      "Epoch 149/150\n",
      "25/25 [==============================] - 0s 3ms/step - loss: 0.1599 - acc: 0.9304 - mean_squared_error: 0.0484 - mean_absolute_error: 0.1073 - val_loss: 0.7891 - val_acc: 0.7018 - val_mean_squared_error: 0.2219 - val_mean_absolute_error: 0.3531\n",
      "Epoch 150/150\n",
      "25/25 [==============================] - 0s 3ms/step - loss: 0.1171 - acc: 0.9537 - mean_squared_error: 0.0340 - mean_absolute_error: 0.0860 - val_loss: 0.7903 - val_acc: 0.7010 - val_mean_squared_error: 0.2223 - val_mean_absolute_error: 0.3538\n"
     ]
    }
   ],
   "source": [
    "m = 30\n",
    "# xx = np.stack([x_train[0] for _ in range(m)])\n",
    "# yy = xx\n",
    "# history = auto.fit(x_train, y_train, epochs=epochs, batch_size=batch_size, callbacks=[TensorBoard(log_dir=config.tmp_log_dir)])\n",
    "history = auto.fit(x_train[:m], y_train[:m], epochs=epochs, batch_size=batch_size,\n",
    "          validation_split=1/6, callbacks=[TensorBoard(log_dir=config.tmp_log_dir)])"
   ]
  },
  {
   "cell_type": "code",
   "execution_count": 272,
   "metadata": {},
   "outputs": [
    {
     "data": {
      "text/plain": [
       "(0, 0.8662481091916561)"
      ]
     },
     "execution_count": 272,
     "metadata": {},
     "output_type": "execute_result"
    },
    {
     "data": {
      "image/png": "[encoded data removed]",
      "text/plain": [
       "<matplotlib.figure.Figure at 0x138b229e8>"
      ]
     },
     "metadata": {},
     "output_type": "display_data"
    }
   ],
   "source": [
    "plt.plot(history.history['loss'])\n",
    "plt.plot(history.history['val_loss'])\n",
    "plt.ylim(ymin=0)"
   ]
  },
  {
   "cell_type": "code",
   "execution_count": 273,
   "metadata": {},
   "outputs": [
    {
     "data": {
      "text/plain": [
       "(0, 1)"
      ]
     },
     "execution_count": 273,
     "metadata": {},
     "output_type": "execute_result"
    },
    {
     "data": {
      "image/png": "[encoded data removed]",
      "text/plain": [
       "<matplotlib.figure.Figure at 0x1388399b0>"
      ]
     },
     "metadata": {},
     "output_type": "display_data"
    }
   ],
   "source": [
    "plt.plot(history.history['acc'])\n",
    "plt.plot(history.history['val_acc'])\n",
    "plt.ylim(ymin=0, ymax=1)"
   ]
  },
  {
   "cell_type": "code",
   "execution_count": null,
   "metadata": {},
   "outputs": [],
   "source": []
  },
  {
   "cell_type": "code",
   "execution_count": 274,
   "metadata": {},
   "outputs": [
    {
     "name": "stdout",
     "output_type": "stream",
     "text": [
      "render sin, f =  2\n",
      "render sin, f =  3\n",
      "WARNING type not == 0\n",
      "WARNING type not == 0\n"
     ]
    }
   ],
   "source": [
    "mid1 = g.render_midi(context, f=2)\n",
    "mid2 = g.render_midi(context, f=3)\n",
    "x_test = np.stack([midi.encode(context, m) for m in [mid1,mid2]])"
   ]
  },
  {
   "cell_type": "code",
   "execution_count": 275,
   "metadata": {},
   "outputs": [],
   "source": [
    "# maxx = np.maximum(latent[0],latent[1])\n",
    "# maxx.shape"
   ]
  },
  {
   "cell_type": "code",
   "execution_count": 276,
   "metadata": {},
   "outputs": [
    {
     "data": {
      "text/plain": [
       "(10, 500, 2)"
      ]
     },
     "execution_count": 276,
     "metadata": {},
     "output_type": "execute_result"
    }
   ],
   "source": [
    "# arrays = decoder.predict(np.stack([latent[1]]))\n",
    "results = auto.predict(x_train[:10])\n",
    "results.shape"
   ]
  },
  {
   "cell_type": "code",
   "execution_count": 277,
   "metadata": {},
   "outputs": [
    {
     "data": {
      "text/plain": [
       "(0, 1)"
      ]
     },
     "execution_count": 277,
     "metadata": {},
     "output_type": "execute_result"
    },
    {
     "data": {
      "image/png": "[encoded data removed]",
      "text/plain": [
       "<matplotlib.figure.Figure at 0x135b78898>"
      ]
     },
     "metadata": {},
     "output_type": "display_data"
    }
   ],
   "source": [
    "n1 = 15\n",
    "i = 0\n",
    "plt.subplot(211)\n",
    "plt.plot(np.arange(n1), results[i, :n1, 0:])\n",
    "plt.plot([0.5] * n1) # midi.MIDI_NOISE_FLOOR\n",
    "plt.ylim(ymin=0, ymax=1)\n",
    "\n",
    "plt.subplot(212)\n",
    "plt.plot(np.arange(n1), x_train[i, :n1, 0:])\n",
    "plt.plot([0.5] * n1) # midi.MIDI_NOISE_FLOOR\n",
    "plt.ylim(ymin=0, ymax=1)"
   ]
  },
  {
   "cell_type": "code",
   "execution_count": 278,
   "metadata": {},
   "outputs": [
    {
     "data": {
      "text/plain": [
       "(0, 1)"
      ]
     },
     "execution_count": 278,
     "metadata": {},
     "output_type": "execute_result"
    },
    {
     "data": {
      "image/png": "[encoded data removed]",
      "text/plain": [
       "<matplotlib.figure.Figure at 0x135b78358>"
      ]
     },
     "metadata": {},
     "output_type": "display_data"
    }
   ],
   "source": [
    "n1 = 30\n",
    "i = 1\n",
    "plt.subplot(211)\n",
    "plt.plot(np.arange(n1), results[i, :n1, 0:])\n",
    "plt.plot([0.5] * n1) # midi.MIDI_NOISE_FLOOR\n",
    "plt.ylim(ymin=0, ymax=1)\n",
    "plt.subplot(212)\n",
    "\n",
    "plt.plot(np.arange(n1), x_train[i, :n1, 0:])\n",
    "plt.plot([0.5] * n1) # midi.MIDI_NOISE_FLOOR\n",
    "plt.ylim(ymin=0, ymax=1)"
   ]
  },
  {
   "cell_type": "code",
   "execution_count": 279,
   "metadata": {},
   "outputs": [
    {
     "name": "stdout",
     "output_type": "stream",
     "text": [
      "\u001b[92m [INFO] : \u001b[0m\n",
      " |  len, max_t\n",
      " |  10.01562499999999\n",
      " |  10.0\n",
      "\u001b[92m [INFO] : \u001b[0m\n",
      " |  len, max_t\n",
      " |  9.990624999999987\n",
      " |  10.0\n"
     ]
    }
   ],
   "source": [
    "mid_true = midi.decode_track(context, x_train[0])\n",
    "mid_pred = midi.decode_track(context, arrays[0])"
   ]
  },
  {
   "cell_type": "code",
   "execution_count": 280,
   "metadata": {},
   "outputs": [],
   "source": [
    "dn = config.export_dir\n",
    "io.export_midifile(mid_true, dn + 'mid_true.mid')\n",
    "io.export_midifile(mid_pred, dn + 'mid_pred.mid')"
   ]
  },
  {
   "cell_type": "code",
   "execution_count": 281,
   "metadata": {},
   "outputs": [
    {
     "data": {
      "text/plain": [
       "<midi file None type 1, 1 tracks, 480 messages>"
      ]
     },
     "execution_count": 281,
     "metadata": {},
     "output_type": "execute_result"
    }
   ],
   "source": [
    "mid"
   ]
  },
  {
   "cell_type": "code",
   "execution_count": 282,
   "metadata": {},
   "outputs": [
    {
     "data": {
      "text/plain": [
       "<midi file None type 1, 1 tracks, 480 messages>"
      ]
     },
     "execution_count": 282,
     "metadata": {},
     "output_type": "execute_result"
    }
   ],
   "source": [
    "mid"
   ]
  },
  {
   "cell_type": "code",
   "execution_count": null,
   "metadata": {},
   "outputs": [],
   "source": []
  },
  {
   "cell_type": "code",
   "execution_count": null,
   "metadata": {},
   "outputs": [],
   "source": []
  },
  {
   "cell_type": "code",
   "execution_count": null,
   "metadata": {},
   "outputs": [],
   "source": []
  },
  {
   "cell_type": "code",
   "execution_count": null,
   "metadata": {},
   "outputs": [],
   "source": []
  }
 ],
 "metadata": {
  "kernelspec": {
   "display_name": "Python 3",
   "language": "python",
   "name": "python3"
  },
  "language_info": {
   "codemirror_mode": {
    "name": "ipython",
    "version": 3
   },
   "file_extension": ".py",
   "mimetype": "text/x-python",
   "name": "python",
   "nbconvert_exporter": "python",
   "pygments_lexer": "ipython3",
   "version": "3.6.4"
  }
 },
 "nbformat": 4,
 "nbformat_minor": 2
}
