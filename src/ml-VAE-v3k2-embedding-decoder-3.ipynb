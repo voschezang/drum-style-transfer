{
 "cells": [
  {
   "cell_type": "code",
   "execution_count": 1,
   "metadata": {},
   "outputs": [
    {
     "name": "stderr",
     "output_type": "stream",
     "text": [
      "/usr/local/lib/python3.6/site-packages/h5py/__init__.py:36: FutureWarning: Conversion of the second argument of issubdtype from `float` to `np.floating` is deprecated. In future, it will be treated as `np.float64 == np.dtype(float).type`.\n",
      "  from ._conv import register_converters as _register_converters\n",
      "Using TensorFlow backend.\n"
     ]
    }
   ],
   "source": [
    "from __future__ import division\n",
    "\n",
    "import collections\n",
    "import numpy as np\n",
    "import matplotlib.pyplot as plt\n",
    "from scipy.stats import norm\n",
    "\n",
    "## NN libs\n",
    "import keras\n",
    "from keras import backend as K\n",
    "from keras import regularizers\n",
    "from keras.utils import to_categorical\n",
    "from keras.optimizers import SGD, Adam\n",
    "from keras.layers import *\n",
    "from keras.preprocessing.image import ImageDataGenerator\n",
    "from keras.models import Model\n",
    "from keras.callbacks import TensorBoard"
   ]
  },
  {
   "cell_type": "code",
   "execution_count": 2,
   "metadata": {},
   "outputs": [],
   "source": [
    "import config\n",
    "import os, numpy as np, pandas, sklearn, scipy.signal as signal\n",
    "import mido\n",
    "import matplotlib.pyplot as plt\n",
    "%matplotlib inline"
   ]
  },
  {
   "cell_type": "code",
   "execution_count": 3,
   "metadata": {},
   "outputs": [],
   "source": [
    "# local libs\n",
    "import config, models, setup\n",
    "import midi\n",
    "from midi import generators as g\n",
    "from utils import io, models_io, utils, plot\n",
    "from capsule.layers import Capsule, Length\n",
    "from capsule.capsulefunctions import squash, softmax, margin_loss"
   ]
  },
  {
   "cell_type": "code",
   "execution_count": 4,
   "metadata": {},
   "outputs": [
    {
     "name": "stdout",
     "output_type": "stream",
     "text": [
      " Context :: namedtuple(\n",
      "[ max_t = float\n",
      ", dt = float\n",
      ", n_timestesp = int\n",
      ", note_length = int\n",
      ", bpm = float\n",
      ", tempo = float\n",
      ", ticks_per_beat = int\n",
      "]\n",
      "\n",
      "Setting up params\n",
      "\n",
      "max min f 10.0 0.5\n",
      " >> Context(max_t=2.0, dt=0.05, n_timesteps=40, note_length=0.03, bpm=120.0, tempo=500000, ticks_per_beat=480)\n",
      " sample length:  40.000000\n",
      " max_f: 10.000000, min_f: 0.500000\n"
     ]
    }
   ],
   "source": [
    "context = setup.init()"
   ]
  },
  {
   "cell_type": "code",
   "execution_count": 5,
   "metadata": {
    "scrolled": true
   },
   "outputs": [
    {
     "name": "stdout",
     "output_type": "stream",
     "text": [
      "\n",
      "Importing midi-data\n",
      "\n",
      "Encoding midi-data\n",
      " 500\n",
      "> -> multi-track = True MidiFile\n",
      "\u001b[92m [INFO] : \u001b[0m\n",
      " |  True\n"
     ]
    }
   ],
   "source": [
    "n = 500 * 1\n",
    "dim4 = True\n",
    "multiTrack = True\n",
    "reduce_dims = midi.ReduceDimsOptions.MIDIFILE # GLOBAL\n",
    "dn = 'drum_midi/'\n",
    "x_train, labels = setup.import_data(context, n, dim4=dim4, reduce_dims=reduce_dims, dirname=dn, multiTrack=multiTrack, r=True)"
   ]
  },
  {
   "cell_type": "code",
   "execution_count": 92,
   "metadata": {},
   "outputs": [],
   "source": [
    "# n = 1000\n",
    "# min_f = 0\n",
    "# max_f = 3\n",
    "# x_train, params = g.gen_data_complex(context, n, max_f=max_f, min_f=min_f,\n",
    "#     n_polyrythms=1,\n",
    "#     n_channels=3,\n",
    "#     d_phase=True,\n",
    "#     return_params=True,\n",
    "#     dim4=dim4,\n",
    "#     multiTrack=multiTrack)"
   ]
  },
  {
   "cell_type": "code",
   "execution_count": 93,
   "metadata": {},
   "outputs": [
    {
     "data": {
      "text/plain": [
       "(405, 40, 9, 1)"
      ]
     },
     "execution_count": 93,
     "metadata": {},
     "output_type": "execute_result"
    }
   ],
   "source": [
    "x_train.shape"
   ]
  },
  {
   "cell_type": "code",
   "execution_count": 94,
   "metadata": {},
   "outputs": [
    {
     "data": {
      "text/plain": [
       "((405, 40, 9, 1), 364)"
      ]
     },
     "execution_count": 94,
     "metadata": {},
     "output_type": "execute_result"
    }
   ],
   "source": [
    "m = int(x_train.shape[0] * 0.9)\n",
    "x_train.shape, m"
   ]
  },
  {
   "cell_type": "code",
   "execution_count": 95,
   "metadata": {},
   "outputs": [],
   "source": [
    "x_test = x_train[m:]\n",
    "x_train = x_train[:m]"
   ]
  },
  {
   "cell_type": "code",
   "execution_count": 96,
   "metadata": {},
   "outputs": [
    {
     "name": "stdout",
     "output_type": "stream",
     "text": [
      "m (40, 9)\n"
     ]
    },
    {
     "data": {
      "image/png": "[encoded data removed]",
      "text/plain": [
       "<matplotlib.figure.Figure at 0x12b230ac8>"
      ]
     },
     "metadata": {},
     "output_type": "display_data"
    },
    {
     "name": "stdout",
     "output_type": "stream",
     "text": [
      "m (40, 9)\n"
     ]
    },
    {
     "data": {
      "image/png": "[encoded data removed]",
      "text/plain": [
       "<matplotlib.figure.Figure at 0x12b27bb70>"
      ]
     },
     "metadata": {},
     "output_type": "display_data"
    },
    {
     "data": {
      "text/plain": [
       "['../datasets/drum_midi//Cha cha/cha cha 1.mid',\n",
       " '../datasets/drum_midi//Cha cha/cha cha 2.mid',\n",
       " '../datasets/drum_midi//Cha cha/cha cha 3.mid',\n",
       " \"../datasets/drum_midi//50´s Drummer MIDI Files/01 Rock'n'Roll/06 Moonglow 140BPM/05 8th Hat.mid\"]"
      ]
     },
     "execution_count": 96,
     "metadata": {},
     "output_type": "execute_result"
    }
   ],
   "source": [
    "plot.single(x_train[0, :50,:,0])\n",
    "plot.single(x_train[1, :50,:,0])\n",
    "# plot.single(x_train[2, :50,:,0])\n",
    "labels[0:4]"
   ]
  },
  {
   "cell_type": "code",
   "execution_count": 97,
   "metadata": {},
   "outputs": [
    {
     "data": {
      "text/plain": [
       "(40, 9, 1)"
      ]
     },
     "execution_count": 97,
     "metadata": {},
     "output_type": "execute_result"
    }
   ],
   "source": [
    "input_shape = x_train[0].shape\n",
    "timesteps = input_shape[0]\n",
    "notes = input_shape[1]\n",
    "input_shape"
   ]
  },
  {
   "cell_type": "code",
   "execution_count": 98,
   "metadata": {},
   "outputs": [],
   "source": [
    "latent_dim = 100\n",
    "intermediate_dim = 128\n",
    "epsilon_std = 1.0"
   ]
  },
  {
   "cell_type": "code",
   "execution_count": 118,
   "metadata": {},
   "outputs": [],
   "source": [
    "def encoder(input_shape, dropout=0.1):\n",
    "    encoder_input = Input(shape=input_shape)\n",
    "    nodes = np.prod(input_shape)\n",
    "    timesteps, notes, channels = input_shape\n",
    "    \n",
    "    # Convolution\n",
    "    h = encoder_input\n",
    "    k = (2,1)\n",
    "    s = (2,1)\n",
    "    \n",
    "    h = Conv2D(32, kernel_size=k, strides=1, activation='relu', padding='valid')(h)\n",
    "    h = Conv2D(64, kernel_size=k, strides=s, activation='relu', padding='valid')(h)\n",
    "    h = Conv2D(128, kernel_size=k, strides=s, activation='relu', padding='valid')(h)\n",
    "    \n",
    "    # input per note\n",
    "    note_list = Permute([2,1,3], name='input_per_note')(h)\n",
    "    \n",
    "    rnn = SimpleRNN(128, name='rnn_per_note')\n",
    "    reshape = Reshape((128,1))\n",
    "\n",
    "    n_capsules = 10\n",
    "    capsule_dim = 6\n",
    "    n_routings=3\n",
    "    share_weights=True\n",
    "    capsule = Capsule(n_capsules, capsule_dim, n_routings, share_weights)\n",
    "\n",
    "    x = Lambda(lambda layer: capsule(reshape(rnn(layer))) )\n",
    "    h_per_note = TimeDistributed(x, name='TimeDistributed_per_note')(note_list)\n",
    "    shape = K.int_shape(h_per_note)[1:]\n",
    "    h_per_note = Reshape( [notes, np.prod(shape[1:3])] )(h_per_note)\n",
    "    h_per_note = Flatten()(h_per_note)\n",
    "\n",
    "    # 'global' input\n",
    "    h = encoder_input\n",
    "    h = Reshape(input_shape[:-1])(h)\n",
    "    h = Conv1D(32, kernel_size=2, strides=1, activation='relu', padding='valid')(h)\n",
    "    h = Conv1D(64, kernel_size=2, strides=2, activation='relu', padding='valid')(h)\n",
    "    h = Conv1D(128, kernel_size=2, strides=1, activation='relu', padding='valid')(h)\n",
    "    # old layers\n",
    "#     h = Conv2D(1, kernel_size=k, strides=1, activation='relu', padding='valid')(h)\n",
    "#     shape = K.int_shape(h)[1:]\n",
    "#     h = Reshape(shape[0:2])(h) # (reduced_timesteps, notes)\n",
    "#     h = Conv1D(32, kernel_size=2, strides=1, activation='relu', padding='valid')(h)\n",
    "    h = SimpleRNN(128)(h)\n",
    "#     h = LSTM(256)(h)\n",
    "#     h = Bidirectional(LSTM(256)(h))\n",
    "    h_global = h\n",
    "    \n",
    "    h = Reshape((-1,1))(h_global) # h_global h_per_note\n",
    "#     h = Concatenate(axis=1)([h_global, h_per_note])\n",
    "\n",
    "#     h = Reshape((-1,1))(h)\n",
    "    \n",
    "    n_capsules = 10\n",
    "    capsule_dim = 6\n",
    "    n_routings=3\n",
    "    share_weights=True\n",
    "    h = Capsule(n_capsules, capsule_dim, n_routings, share_weights)(h)   \n",
    "    h = Flatten()(h)\n",
    "    \n",
    "    # Z Mean, Variance\n",
    "    z_mean = Dense(latent_dim, name='z_mean')(h) # , activation='relu'\n",
    "    z_log_var = Dense(latent_dim, name='z_log_var')(h) # , activation='relu'\n",
    "        \n",
    "    encoder_output = [z_mean, z_log_var]\n",
    "    encoder_model = Model(encoder_input, encoder_output, name='encoder_model-')\n",
    "    print('Extra params:', [k.count_params() for k in [rnn, reshape, capsule]])\n",
    "\n",
    "    return encoder_model, encoder_input, z_mean, z_log_var"
   ]
  },
  {
   "cell_type": "code",
   "execution_count": 119,
   "metadata": {
    "scrolled": false
   },
   "outputs": [
    {
     "name": "stdout",
     "output_type": "stream",
     "text": [
      "shared weights, shape = (1, 1, 60) 60\n",
      "shared weights, shape = (1, 1, 60) 60\n",
      "Extra params: [32896, 0, 60]\n",
      "__________________________________________________________________________________________________\n",
      "Layer (type)                    Output Shape         Param #     Connected to                     \n",
      "==================================================================================================\n",
      "input_5 (InputLayer)            (None, 40, 9, 1)     0                                            \n",
      "__________________________________________________________________________________________________\n",
      "reshape_60 (Reshape)            (None, 40, 9)        0           input_5[0][0]                    \n",
      "__________________________________________________________________________________________________\n",
      "conv1d_10 (Conv1D)              (None, 39, 32)       608         reshape_60[0][0]                 \n",
      "__________________________________________________________________________________________________\n",
      "conv1d_11 (Conv1D)              (None, 19, 64)       4160        conv1d_10[0][0]                  \n",
      "__________________________________________________________________________________________________\n",
      "conv1d_12 (Conv1D)              (None, 18, 128)      16512       conv1d_11[0][0]                  \n",
      "__________________________________________________________________________________________________\n",
      "simple_rnn_4 (SimpleRNN)        (None, 128)          32896       conv1d_12[0][0]                  \n",
      "__________________________________________________________________________________________________\n",
      "reshape_61 (Reshape)            (None, 128, 1)       0           simple_rnn_4[0][0]               \n",
      "__________________________________________________________________________________________________\n",
      "capsule_8 (Capsule)             (None, 10, 6)        60          reshape_61[0][0]                 \n",
      "__________________________________________________________________________________________________\n",
      "flatten_8 (Flatten)             (None, 60)           0           capsule_8[0][0]                  \n",
      "__________________________________________________________________________________________________\n",
      "z_mean (Dense)                  (None, 100)          6100        flatten_8[0][0]                  \n",
      "__________________________________________________________________________________________________\n",
      "z_log_var (Dense)               (None, 100)          6100        flatten_8[0][0]                  \n",
      "==================================================================================================\n",
      "Total params: 66,436\n",
      "Trainable params: 66,436\n",
      "Non-trainable params: 0\n",
      "__________________________________________________________________________________________________\n"
     ]
    }
   ],
   "source": [
    "encoder_model, encoder_input, z_mean, z_log_var = encoder(input_shape)\n",
    "encoder_model.summary()"
   ]
  },
  {
   "cell_type": "code",
   "execution_count": 120,
   "metadata": {},
   "outputs": [],
   "source": [
    "sample_ = lambda args: models.sample(args, z_mean, z_log_var, latent_dim, epsilon_std)"
   ]
  },
  {
   "cell_type": "code",
   "execution_count": 121,
   "metadata": {},
   "outputs": [],
   "source": [
    "# z = Lambda(sampling)([z_mean, z_log_var])\n",
    "z_input = encoder_model(encoder_input)\n",
    "z_output = Lambda(sample_)(z_input)\n",
    "# z_output = Lambda(sampl_, output_shape=(latent_dim,))(encoder_input)"
   ]
  },
  {
   "cell_type": "code",
   "execution_count": 122,
   "metadata": {},
   "outputs": [],
   "source": [
    "def list_decoders(output_shape):\n",
    "    # decoder_input = z_output\n",
    "    # h = decoder_input\n",
    "    # :output_shape = (timesteps, channels, channels) || (batches, filters, timesteps, channels)\n",
    "    # keras offers just Conv2DTranspose and not Conv1DTranspose\n",
    "    # - use 2D images during upsampling :: (timesteps, notes, channels) => (timesteps, notes, filters)\n",
    "    # - use 1D images to optimize reconstruction :: (timesteps, filters) => (timesteps, notes)\n",
    "    \n",
    "    # image_data_format = 'channels_last'\n",
    "    # goal shape: (timesteps, notes, channels)\n",
    "    # start with the 'reverse': lots of small imgs => few large img\n",
    "    \n",
    "    timesteps, notes, channels = output_shape\n",
    "    filters = 64\n",
    "    output_shape = (14, 14, filters)\n",
    "    output_shape = (timesteps, notes, 1)\n",
    "    \n",
    "    # keras.examples.variational_autoencoder_deconv.py\n",
    "    decoders = []\n",
    "    decoders += [ Dense(256) ]\n",
    "    decoders += [ LeakyReLU(alpha=0.3) ]\n",
    "    \n",
    "    # add a bypass layer\n",
    "    w = 256\n",
    "    decoders += [ Dense(w, activation='relu') ]\n",
    "    extra_decoders = []\n",
    "    for _ in range(3):\n",
    "        extra_decoders += [ Dense(w, activation='elu', bias_initializer='zeros') ]\n",
    "\n",
    "    extra_d = Lambda(lambda layer: utils.composition(extra_decoders, layer))\n",
    "    decoders += [ Lambda(lambda layer: Add()([layer, extra_d(layer)])) ]\n",
    "    \n",
    "    decoders += [ BatchNormalization(momentum=0.5) ]\n",
    "\n",
    "    \n",
    "    # Shared Layers (Conductor)\n",
    "    \n",
    "    # +1 is used to produce an extra input for the first embedding-decoder    \n",
    "    dim1, dim2, filters = 4+1, int(timesteps/4), notes*4\n",
    "    m = 10\n",
    "    print('dim1: %i dim2: %i filters: %i' % (dim1, dim2, filters))\n",
    "    decoders += [ Dense(dim1*dim2*m, activation='tanh', name='conductor-dense') ] # stddev = 0.001 in musicVAE\n",
    "    decoders += [ BatchNormalization(momentum=0.3) ]\n",
    "    \n",
    "#     decoders += [ Reshape((dim1, dim2, 1)) ]\n",
    "    decoders += [ Reshape((dim1, dim2, m)) ]\n",
    "\n",
    "    # TODO CudnnLSTM to run on gpu\n",
    "    conductor_lstm = LSTM(filters, return_sequences=True, name='conductor-lstm') # dropout = ..\n",
    "    decoders += [ TimeDistributed(conductor_lstm) ]\n",
    "#     decoders += [ conductor_lstm ]\n",
    "    \n",
    "#     decoders += [ BatchNormalization(momentum=0.3) ]\n",
    "    # Shape = (None, 5, 36)\n",
    "    \n",
    "    # Shared Decoders\n",
    "    \n",
    "    # The first 2 embeddings are fed into embedding_decoder1 (TODO + gen. initial state?)\n",
    "    # The next decoders get the i-th embedding + the (i-1)-th embedding\n",
    "    \n",
    "#     decoders += [ Reshape((dim1, dim2, filters)) ]\n",
    "    decoders += [ Reshape((dim1, dim2*filters), name='embeddings') ]\n",
    "    w = 100 # filters\n",
    "#     decoders += [ TimeDistributed(Dense(w, activation='tanh'))]\n",
    "    \n",
    "    dim1 -= 1\n",
    "    embedding_selectors = []\n",
    "    for i in range(dim1):\n",
    "        # Keep 2 embeddings per layer\n",
    "        # Note that the second index is right-oriented (css style)\n",
    "        j = dim1 - i - 1\n",
    "        print(dim1, i, j)        \n",
    "        # shape = (2, dim2*filters)\n",
    "        embedding_selectors += [ Cropping1D((i,j)) ]\n",
    "    print(len(embedding_selectors))\n",
    "    print('dim1: %i' % dim1, [(i,i+2) for i in range(dim1-1)])\n",
    "    \n",
    "    # reshape: [x1,x2] -> [ concat[x1,x1] ] :: (2,x) -> (1, 2*x)\n",
    "    # reshape_e = Reshape((1, 2*dim2*filters))\n",
    "    reshape_e = Reshape((1, 2*dim2, filters))\n",
    "\n",
    "    \n",
    "    # \\layer -> map (\\f -> f layer) [f1, f2, f3]\n",
    "    split_embeddings = Lambda(lambda layer: list(map(lambda f: reshape_e(f(layer)), embedding_selectors)))\n",
    "    decoders += [ split_embeddings ]\n",
    "    decoders += [ Concatenate(axis=1) ]\n",
    "    \n",
    "    decoders += [ BatchNormalization(axis=1, momentum=0.3) ] # TODO\n",
    "\n",
    "    \n",
    "    # For every embedding tuple (previous, current)\n",
    "    #  put the samples respectively in the RNN\n",
    "    #  then keep the second half of the sequences\n",
    "    # input_shape = dim1 x (1,2*dim2*filters)\n",
    "    # TODO CudnnLSTM to run on gpu\n",
    "    lstm1 = LSTM(100, return_sequences=True)\n",
    "    crop = Cropping1D((dim2,0))\n",
    "    # lstm2(100, return_sequences=True)\n",
    "    embedding_decoder = Lambda(lambda layer: crop(lstm1((layer))))\n",
    "    decoders += [ TimeDistributed(embedding_decoder) ]\n",
    "    # TODO ? instead of weird embedding-splitting, reuse the initial state of the previous lstm\n",
    "\n",
    "    decoders += [ Reshape((dim1*dim2, 100)) ]\n",
    "    decoders += [ TimeDistributed(Dense(notes, activation='sigmoid')) ]\n",
    "    decoders += [ Reshape((timesteps, notes, 1)) ]\n",
    "\n",
    "\n",
    "    \n",
    "    return decoders, (split_embeddings,)"
   ]
  },
  {
   "cell_type": "code",
   "execution_count": 123,
   "metadata": {},
   "outputs": [
    {
     "name": "stdout",
     "output_type": "stream",
     "text": [
      "dim1: 5 dim2: 10 filters: 36\n",
      "4 0 3\n",
      "4 1 2\n",
      "4 2 1\n",
      "4 3 0\n",
      "4\n",
      "dim1: 4 [(0, 2), (1, 3), (2, 4)]\n"
     ]
    }
   ],
   "source": [
    "decoders, layers = list_decoders(input_shape)"
   ]
  },
  {
   "cell_type": "code",
   "execution_count": 124,
   "metadata": {},
   "outputs": [],
   "source": [
    "decoded = utils.composition(decoders, z_output, verbose=False)\n",
    "layer1, = layers"
   ]
  },
  {
   "cell_type": "code",
   "execution_count": 125,
   "metadata": {},
   "outputs": [
    {
     "data": {
      "text/plain": [
       "[<tf.Tensor 'lambda_52/reshape_63/Reshape:0' shape=(?, 1, 20, 36) dtype=float32>,\n",
       " <tf.Tensor 'lambda_52/reshape_63_1/Reshape:0' shape=(?, 1, 20, 36) dtype=float32>,\n",
       " <tf.Tensor 'lambda_52/reshape_63_2/Reshape:0' shape=(?, 1, 20, 36) dtype=float32>,\n",
       " <tf.Tensor 'lambda_52/reshape_63_3/Reshape:0' shape=(?, 1, 20, 36) dtype=float32>]"
      ]
     },
     "execution_count": 125,
     "metadata": {},
     "output_type": "execute_result"
    }
   ],
   "source": [
    "layer1.output"
   ]
  },
  {
   "cell_type": "code",
   "execution_count": 126,
   "metadata": {},
   "outputs": [
    {
     "name": "stdout",
     "output_type": "stream",
     "text": [
      "__________________________________________________________________________________________________\n",
      "Layer (type)                    Output Shape         Param #     Connected to                     \n",
      "==================================================================================================\n",
      "input_5 (InputLayer)            (None, 40, 9, 1)     0                                            \n",
      "__________________________________________________________________________________________________\n",
      "encoder_model- (Model)          [(None, 100), (None, 66436       input_5[0][0]                    \n",
      "__________________________________________________________________________________________________\n",
      "lambda_49 (Lambda)              (None, 100)          0           encoder_model-[1][0]             \n",
      "                                                                 encoder_model-[1][1]             \n",
      "__________________________________________________________________________________________________\n",
      "dense_61 (Dense)                (None, 256)          25856       lambda_49[0][0]                  \n",
      "__________________________________________________________________________________________________\n",
      "leaky_re_lu_11 (LeakyReLU)      (None, 256)          0           dense_61[0][0]                   \n",
      "__________________________________________________________________________________________________\n",
      "dense_62 (Dense)                (None, 256)          65792       leaky_re_lu_11[0][0]             \n",
      "__________________________________________________________________________________________________\n",
      "lambda_51 (Lambda)              (None, 256)          0           dense_62[0][0]                   \n",
      "__________________________________________________________________________________________________\n",
      "batch_normalization_31 (BatchNo (None, 256)          1024        lambda_51[0][0]                  \n",
      "__________________________________________________________________________________________________\n",
      "conductor-dense (Dense)         (None, 500)          128500      batch_normalization_31[0][0]     \n",
      "__________________________________________________________________________________________________\n",
      "batch_normalization_32 (BatchNo (None, 500)          2000        conductor-dense[0][0]            \n",
      "__________________________________________________________________________________________________\n",
      "reshape_62 (Reshape)            (None, 5, 10, 10)    0           batch_normalization_32[0][0]     \n",
      "__________________________________________________________________________________________________\n",
      "time_distributed_28 (TimeDistri (None, 5, 10, 36)    6768        reshape_62[0][0]                 \n",
      "__________________________________________________________________________________________________\n",
      "embeddings (Reshape)            (None, 5, 360)       0           time_distributed_28[0][0]        \n",
      "__________________________________________________________________________________________________\n",
      "lambda_52 (Lambda)              [(None, 1, 20, 36),  0           embeddings[0][0]                 \n",
      "__________________________________________________________________________________________________\n",
      "concatenate_11 (Concatenate)    (None, 4, 20, 36)    0           lambda_52[0][0]                  \n",
      "                                                                 lambda_52[0][1]                  \n",
      "                                                                 lambda_52[0][2]                  \n",
      "                                                                 lambda_52[0][3]                  \n",
      "__________________________________________________________________________________________________\n",
      "batch_normalization_33 (BatchNo (None, 4, 20, 36)    16          concatenate_11[0][0]             \n",
      "__________________________________________________________________________________________________\n",
      "time_distributed_29 (TimeDistri (None, 4, 10, 100)   0           batch_normalization_33[0][0]     \n",
      "__________________________________________________________________________________________________\n",
      "reshape_64 (Reshape)            (None, 40, 100)      0           time_distributed_29[0][0]        \n",
      "__________________________________________________________________________________________________\n",
      "time_distributed_30 (TimeDistri (None, 40, 9)        909         reshape_64[0][0]                 \n",
      "__________________________________________________________________________________________________\n",
      "reshape_65 (Reshape)            (None, 40, 9, 1)     0           time_distributed_30[0][0]        \n",
      "==================================================================================================\n",
      "Total params: 297,301\n",
      "Trainable params: 295,781\n",
      "Non-trainable params: 1,520\n",
      "__________________________________________________________________________________________________\n"
     ]
    }
   ],
   "source": [
    "# instantiate VAE model\n",
    "vae_input = encoder_input\n",
    "vae_output = decoded\n",
    "vae = Model(vae_input, vae_output)\n",
    "vae.summary()"
   ]
  },
  {
   "cell_type": "code",
   "execution_count": 127,
   "metadata": {
    "scrolled": true
   },
   "outputs": [
    {
     "name": "stderr",
     "output_type": "stream",
     "text": [
      "/usr/local/lib/python3.6/site-packages/ipykernel_launcher.py:15: UserWarning: Output \"reshape_65\" missing from loss dictionary. We assume this was done on purpose, and we will not be expecting any data to be passed to \"reshape_65\" during training.\n",
      "  from ipykernel import kernelapp as app\n"
     ]
    }
   ],
   "source": [
    "# Compute VAE loss\n",
    "def vae_loss(beta=1.):\n",
    "#     beta = ((1.0 - tf.pow(hparams.beta_rate, tf.to_float(self.global_step)))\n",
    "#             * hparams.max_beta)\n",
    "#     self.loss = tf.reduce_mean(r_loss) + beta * tf.reduce_mean(kl_cost)\n",
    "    # y_true, y_pred, z_mean, z_log_var, timesteps=150, notes=3, beta=1.\n",
    "    xent_loss = timesteps * notes * keras.metrics.binary_crossentropy(K.flatten(vae_input), K.flatten(vae_output))\n",
    "    kl_loss = - 0.5 * K.sum(1 + z_log_var - K.square(z_mean) - K.exp(z_log_var), axis=-1)\n",
    "    # kl_loss = max(kl_loss, free_bits)\n",
    "    vae_loss = K.mean(xent_loss + beta * kl_loss)\n",
    "    return vae_loss\n",
    "\n",
    "vae_loss = vae_loss(beta=0.5)\n",
    "vae.add_loss(vae_loss)\n",
    "vae.compile(optimizer='adam')\n",
    "# vae.compile(optimizer=optimizer, loss=loss, metrics=metrics)"
   ]
  },
  {
   "cell_type": "code",
   "execution_count": 128,
   "metadata": {},
   "outputs": [
    {
     "data": {
      "text/plain": [
       "(None, 100)"
      ]
     },
     "execution_count": 128,
     "metadata": {},
     "output_type": "execute_result"
    }
   ],
   "source": [
    "K.int_shape(z_mean)"
   ]
  },
  {
   "cell_type": "code",
   "execution_count": 129,
   "metadata": {},
   "outputs": [],
   "source": [
    "batch_size = 100\n",
    "epochs = 50\n",
    "params = {'batch_size': batch_size, 'return_y': False}"
   ]
  },
  {
   "cell_type": "code",
   "execution_count": 130,
   "metadata": {},
   "outputs": [],
   "source": [
    "phase_mod = 0.01\n",
    "whitening = False"
   ]
  },
  {
   "cell_type": "code",
   "execution_count": 131,
   "metadata": {
    "scrolled": true
   },
   "outputs": [
    {
     "name": "stdout",
     "output_type": "stream",
     "text": [
      "x: (1000, 40, 9, 1)\n",
      "batch_size = 100\n",
      "\n",
      "[Epoch 0/50] >>>>>>>>>\n",
      " Batch 0/3\n",
      " \\_val_loss [245.0]\n",
      " \\_loss [250.0]\n",
      " Batch 1/3\n",
      " \\_val_loss [234.0]\n",
      " \\_loss [241.0]\n",
      " Batch 2/3\n",
      " \\_val_loss [225.0]\n",
      " \\_loss [230.0]\n",
      " Batch 3/3\n",
      " \\_val_loss [212.0]\n",
      " \\_loss [220.0]\n",
      "\n",
      "[Epoch 1/50] >>>>>>>>>\n",
      " Batch 0/3\n",
      " \\_val_loss [203.0]\n",
      " \\_loss [208.0]\n",
      " Batch 1/3\n",
      " \\_val_loss [189.0]\n",
      " \\_loss [195.0]\n",
      " Batch 2/3\n",
      " \\_val_loss [176.0]\n",
      " \\_loss [180.0]\n",
      " Batch 3/3\n",
      " \\_val_loss [162.0]\n",
      " \\_loss [166.0]\n",
      "\n",
      "[Epoch 2/50] >>>>>>>>>\n",
      " Batch 0/3\n",
      " \\_val_loss [149.0]\n",
      " \\_loss [150.0]\n",
      " Batch 1/3\n",
      " \\_val_loss [135.0]\n",
      " \\_loss [136.0]\n",
      " Batch 2/3\n",
      " \\_val_loss [125.0]\n",
      " \\_loss [124.0]\n",
      " Batch 3/3\n",
      " \\_val_loss [121.0]\n",
      " \\_loss [113.0]\n",
      "\n",
      "[Epoch 3/50] >>>>>>>>>\n",
      " Batch 0/3\n",
      " \\_val_loss [115.0]\n",
      " \\_loss [106.0]\n",
      " Batch 1/3\n",
      " \\_val_loss [110.0]\n",
      " \\_loss [100.0]\n",
      " Batch 2/3\n",
      " \\_val_loss [108.0]\n",
      " \\_loss [94.0]\n",
      " Batch 3/3\n",
      " \\_val_loss [105.0]\n",
      " \\_loss [89.0]\n",
      "\n",
      "[Epoch 4/50] >>>>>>>>>\n",
      " Batch 0/3\n",
      " \\_val_loss [105.0]\n",
      " \\_loss [87.0]\n",
      " Batch 1/3\n",
      " \\_val_loss [103.0]\n",
      " \\_loss [85.0]\n",
      " Batch 2/3\n",
      " \\_val_loss [102.0]\n",
      " \\_loss [81.0]\n",
      " Batch 3/3\n",
      " \\_val_loss [101.0]\n",
      " \\_loss [80.0]\n",
      "\n",
      "[Epoch 5/50] >>>>>>>>>\n",
      " Batch 0/3\n",
      " \\_val_loss [101.0]\n",
      " \\_loss [78.0]\n",
      " Batch 1/3\n",
      " \\_val_loss [100.0]\n",
      " \\_loss [79.0]\n",
      " Batch 2/3\n",
      " \\_val_loss [100.0]\n",
      " \\_loss [78.0]\n",
      " Batch 3/3\n",
      " \\_val_loss [100.0]\n",
      " \\_loss [75.0]\n",
      "\n",
      "[Epoch 6/50] >>>>>>>>>\n",
      " Batch 0/3\n",
      " \\_val_loss [100.0]\n",
      " \\_loss [74.0]\n",
      " Batch 1/3\n",
      " \\_val_loss [99.0]\n",
      " \\_loss [76.0]\n",
      " Batch 2/3\n",
      " \\_val_loss [99.0]\n",
      " \\_loss [73.0]\n",
      " Batch 3/3\n",
      " \\_val_loss [99.0]\n",
      " \\_loss [74.0]\n",
      "\n",
      "[Epoch 7/50] >>>>>>>>>\n",
      " Batch 0/3\n",
      " \\_val_loss [99.0]\n",
      " \\_loss [73.0]\n",
      " Batch 1/3\n",
      " \\_val_loss [99.0]\n",
      " \\_loss [73.0]\n",
      " Batch 2/3\n",
      " \\_val_loss [99.0]\n",
      " \\_loss [72.0]\n",
      " Batch 3/3\n",
      " \\_val_loss [99.0]\n",
      " \\_loss [72.0]\n",
      "\n",
      "[Epoch 8/50] >>>>>>>>>\n",
      " Batch 0/3\n",
      " \\_val_loss [99.0]\n",
      " \\_loss [70.0]\n",
      " Batch 1/3\n",
      " \\_val_loss [99.0]\n",
      " \\_loss [72.0]\n",
      " Batch 2/3\n",
      " \\_val_loss [98.0]\n",
      " \\_loss [72.0]\n",
      " Batch 3/3\n",
      " \\_val_loss [99.0]\n",
      " \\_loss [71.0]\n",
      "\n",
      "[Epoch 9/50] >>>>>>>>>\n",
      " Batch 0/3\n",
      " \\_val_loss [99.0]\n",
      " \\_loss [71.0]\n",
      " Batch 1/3\n",
      " \\_val_loss [99.0]\n",
      " \\_loss [71.0]\n",
      " Batch 2/3\n",
      " \\_val_loss [99.0]\n",
      " \\_loss [72.0]\n",
      " Batch 3/3\n",
      " \\_val_loss [99.0]\n",
      " \\_loss [71.0]\n",
      "\n",
      "[Epoch 10/50] >>>>>>>>>\n",
      " Batch 0/3\n",
      " \\_val_loss [99.0]\n",
      " \\_loss [70.0]\n",
      " Batch 1/3\n",
      " \\_val_loss [99.0]\n",
      " \\_loss [69.0]\n",
      " Batch 2/3\n",
      " \\_val_loss [99.0]\n",
      " \\_loss [70.0]\n",
      " Batch 3/3\n",
      " \\_val_loss [99.0]\n",
      " \\_loss [70.0]\n",
      "\n",
      "[Epoch 11/50] >>>>>>>>>\n",
      " Batch 0/3\n",
      " \\_val_loss [99.0]\n",
      " \\_loss [72.0]\n",
      " Batch 1/3\n",
      " \\_val_loss [99.0]\n",
      " \\_loss [69.0]\n",
      " Batch 2/3\n",
      " \\_val_loss [99.0]\n",
      " \\_loss [71.0]\n",
      " Batch 3/3\n",
      " \\_val_loss [99.0]\n",
      " \\_loss [68.0]\n",
      "\n",
      "[Epoch 12/50] >>>>>>>>>\n",
      " Batch 0/3\n",
      " \\_val_loss [98.0]\n",
      " \\_loss [69.0]\n",
      " Batch 1/3\n",
      " \\_val_loss [98.0]\n",
      " \\_loss [70.0]\n",
      " Batch 2/3\n",
      " \\_val_loss [98.0]\n",
      " \\_loss [71.0]\n",
      " Batch 3/3\n",
      " \\_val_loss [98.0]\n",
      " \\_loss [71.0]\n",
      "\n",
      "[Epoch 13/50] >>>>>>>>>\n",
      " Batch 0/3\n",
      " \\_val_loss [98.0]\n",
      " \\_loss [69.0]\n",
      " Batch 1/3\n",
      " \\_val_loss [97.0]\n",
      " \\_loss [71.0]\n",
      " Batch 2/3\n",
      " \\_val_loss [97.0]\n",
      " \\_loss [69.0]\n",
      " Batch 3/3\n",
      " \\_val_loss [98.0]\n",
      " \\_loss [70.0]\n",
      "\n",
      "[Epoch 14/50] >>>>>>>>>\n",
      " Batch 0/3\n",
      " \\_val_loss [98.0]\n",
      " \\_loss [69.0]\n",
      " Batch 1/3\n",
      " \\_val_loss [98.0]\n",
      " \\_loss [68.0]\n",
      " Batch 2/3\n",
      " \\_val_loss [98.0]\n",
      " \\_loss [70.0]\n",
      " Batch 3/3\n",
      " \\_val_loss [97.0]\n",
      " \\_loss [68.0]\n",
      "\n",
      "[Epoch 15/50] >>>>>>>>>\n",
      " Batch 0/3\n",
      " \\_val_loss [97.0]\n",
      " \\_loss [68.0]\n",
      " Batch 1/3\n",
      " \\_val_loss [97.0]\n",
      " \\_loss [69.0]\n",
      " Batch 2/3\n",
      " \\_val_loss [98.0]\n",
      " \\_loss [66.0]\n",
      " Batch 3/3\n",
      " \\_val_loss [98.0]\n",
      " \\_loss [69.0]\n",
      "\n",
      "[Epoch 16/50] >>>>>>>>>\n",
      " Batch 0/3\n",
      " \\_val_loss [98.0]\n",
      " \\_loss [68.0]\n",
      " Batch 1/3\n",
      " \\_val_loss [98.0]\n",
      " \\_loss [68.0]\n",
      " Batch 2/3\n",
      " \\_val_loss [97.0]\n",
      " \\_loss [67.0]\n",
      " Batch 3/3\n",
      " \\_val_loss [97.0]\n",
      " \\_loss [67.0]\n",
      "\n",
      "[Epoch 17/50] >>>>>>>>>\n",
      " Batch 0/3\n",
      " \\_val_loss [97.0]\n",
      " \\_loss [68.0]\n",
      " Batch 1/3\n",
      " \\_val_loss [96.0]\n",
      " \\_loss [69.0]\n",
      " Batch 2/3\n",
      " \\_val_loss [97.0]\n",
      " \\_loss [67.0]\n",
      " Batch 3/3\n",
      " \\_val_loss [97.0]\n",
      " \\_loss [68.0]\n",
      "\n",
      "[Epoch 18/50] >>>>>>>>>\n",
      " Batch 0/3\n",
      " \\_val_loss [97.0]\n",
      " \\_loss [69.0]\n",
      " Batch 1/3\n",
      " \\_val_loss [97.0]\n",
      " \\_loss [67.0]\n",
      " Batch 2/3\n",
      " \\_val_loss [97.0]\n",
      " \\_loss [68.0]\n",
      " Batch 3/3\n",
      " \\_val_loss [97.0]\n",
      " \\_loss [66.0]\n",
      "\n",
      "[Epoch 19/50] >>>>>>>>>\n",
      " Batch 0/3\n",
      " \\_val_loss [97.0]\n",
      " \\_loss [66.0]\n",
      " Batch 1/3\n",
      " \\_val_loss [97.0]\n",
      " \\_loss [68.0]\n",
      " Batch 2/3\n",
      " \\_val_loss [97.0]\n",
      " \\_loss [67.0]\n",
      " Batch 3/3\n",
      " \\_val_loss [97.0]\n",
      " \\_loss [67.0]\n",
      "\n",
      "[Epoch 20/50] >>>>>>>>>\n",
      " Batch 0/3\n",
      " \\_val_loss [97.0]\n",
      " \\_loss [67.0]\n",
      " Batch 1/3\n",
      " \\_val_loss [97.0]\n",
      " \\_loss [69.0]\n",
      " Batch 2/3\n",
      " \\_val_loss [97.0]\n",
      " \\_loss [65.0]\n",
      " Batch 3/3\n",
      " \\_val_loss [97.0]\n",
      " \\_loss [67.0]\n",
      "\n",
      "[Epoch 21/50] >>>>>>>>>\n",
      " Batch 0/3\n",
      " \\_val_loss [97.0]\n",
      " \\_loss [67.0]\n",
      " Batch 1/3\n",
      " \\_val_loss [97.0]\n",
      " \\_loss [66.0]\n",
      " Batch 2/3\n",
      " \\_val_loss [97.0]\n",
      " \\_loss [65.0]\n",
      " Batch 3/3\n",
      " \\_val_loss [97.0]\n",
      " \\_loss [66.0]\n",
      "\n",
      "[Epoch 22/50] >>>>>>>>>\n",
      " Batch 0/3\n",
      " \\_val_loss [97.0]\n",
      " \\_loss [67.0]\n",
      " Batch 1/3\n",
      " \\_val_loss [97.0]\n",
      " \\_loss [65.0]\n",
      " Batch 2/3\n",
      " \\_val_loss [97.0]\n",
      " \\_loss [67.0]\n",
      " Batch 3/3\n",
      " \\_val_loss [97.0]\n",
      " \\_loss [65.0]\n",
      "\n",
      "[Epoch 23/50] >>>>>>>>>\n",
      " Batch 0/3\n",
      " \\_val_loss [97.0]\n",
      " \\_loss [67.0]\n",
      " Batch 1/3\n",
      " \\_val_loss [97.0]\n",
      " \\_loss [65.0]\n",
      " Batch 2/3\n",
      " \\_val_loss [97.0]\n",
      " \\_loss [66.0]\n",
      " Batch 3/3\n",
      " \\_val_loss [97.0]\n",
      " \\_loss [64.0]\n",
      "\n",
      "[Epoch 24/50] >>>>>>>>>\n",
      " Batch 0/3\n",
      " \\_val_loss [97.0]\n",
      " \\_loss [65.0]\n",
      " Batch 1/3\n",
      " \\_val_loss [97.0]\n",
      " \\_loss [65.0]\n",
      " Batch 2/3\n",
      " \\_val_loss [98.0]\n",
      " \\_loss [65.0]\n",
      " Batch 3/3\n",
      " \\_val_loss [97.0]\n",
      " \\_loss [64.0]\n",
      "\n",
      "[Epoch 25/50] >>>>>>>>>\n",
      " Batch 0/3\n",
      " \\_val_loss [98.0]\n",
      " \\_loss [66.0]\n",
      " Batch 1/3\n",
      " \\_val_loss [97.0]\n",
      " \\_loss [64.0]\n",
      " Batch 2/3\n",
      " \\_val_loss [97.0]\n",
      " \\_loss [65.0]\n",
      " Batch 3/3\n",
      " \\_val_loss [97.0]\n",
      " \\_loss [64.0]\n",
      "\n",
      "[Epoch 26/50] >>>>>>>>>\n",
      " Batch 0/3\n",
      " \\_val_loss [97.0]\n",
      " \\_loss [65.0]\n",
      " Batch 1/3\n",
      " \\_val_loss [97.0]\n",
      " \\_loss [63.0]\n",
      " Batch 2/3\n",
      " \\_val_loss [97.0]\n",
      " \\_loss [64.0]\n",
      " Batch 3/3\n",
      " \\_val_loss [98.0]\n",
      " \\_loss [65.0]\n",
      "\n",
      "[Epoch 27/50] >>>>>>>>>\n",
      " Batch 0/3\n",
      " \\_val_loss [98.0]\n",
      " \\_loss [63.0]\n",
      " Batch 1/3\n",
      " \\_val_loss [98.0]\n",
      " \\_loss [63.0]\n",
      " Batch 2/3\n",
      " \\_val_loss [98.0]\n",
      " \\_loss [65.0]\n",
      " Batch 3/3\n",
      " \\_val_loss [98.0]\n",
      " \\_loss [63.0]\n",
      "\n",
      "[Epoch 28/50] >>>>>>>>>\n",
      " Batch 0/3\n",
      " \\_val_loss [99.0]\n",
      " \\_loss [63.0]\n",
      " Batch 1/3\n",
      " \\_val_loss [98.0]\n",
      " \\_loss [64.0]\n",
      " Batch 2/3\n",
      " \\_val_loss [97.0]\n",
      " \\_loss [63.0]\n",
      " Batch 3/3\n",
      " \\_val_loss [98.0]\n",
      " \\_loss [63.0]\n",
      "\n",
      "[Epoch 29/50] >>>>>>>>>\n",
      " Batch 0/3\n",
      " \\_val_loss [98.0]\n",
      " \\_loss [64.0]\n",
      " Batch 1/3\n",
      " \\_val_loss [97.0]\n",
      " \\_loss [62.0]\n",
      " Batch 2/3\n",
      " \\_val_loss [98.0]\n",
      " \\_loss [62.0]\n",
      " Batch 3/3\n",
      " \\_val_loss [99.0]\n",
      " \\_loss [62.0]\n",
      "\n",
      "[Epoch 30/50] >>>>>>>>>\n",
      " Batch 0/3\n",
      " \\_val_loss [98.0]\n",
      " \\_loss [62.0]\n",
      " Batch 1/3\n",
      " \\_val_loss [98.0]\n",
      " \\_loss [61.0]\n",
      " Batch 2/3\n",
      " \\_val_loss [99.0]\n",
      " \\_loss [61.0]\n",
      " Batch 3/3\n",
      " \\_val_loss [98.0]\n",
      " \\_loss [61.0]\n",
      "\n",
      "[Epoch 31/50] >>>>>>>>>\n",
      " Batch 0/3\n",
      " \\_val_loss [98.0]\n",
      " \\_loss [61.0]\n",
      " Batch 1/3\n",
      " \\_val_loss [98.0]\n",
      " \\_loss [61.0]\n",
      " Batch 2/3\n",
      " \\_val_loss [98.0]\n",
      " \\_loss [61.0]\n",
      " Batch 3/3\n",
      " \\_val_loss [99.0]\n",
      " \\_loss [62.0]\n",
      "\n",
      "[Epoch 32/50] >>>>>>>>>\n",
      " Batch 0/3\n",
      " \\_val_loss [99.0]\n",
      " \\_loss [58.0]\n",
      " Batch 1/3\n",
      " \\_val_loss [100.0]\n",
      " \\_loss [60.0]\n",
      " Batch 2/3\n",
      " \\_val_loss [99.0]\n",
      " \\_loss [60.0]\n",
      " Batch 3/3\n",
      " \\_val_loss [100.0]\n",
      " \\_loss [60.0]\n",
      "\n",
      "[Epoch 33/50] >>>>>>>>>\n",
      " Batch 0/3\n",
      " \\_val_loss [99.0]\n",
      " \\_loss [58.0]\n",
      " Batch 1/3\n",
      " \\_val_loss [99.0]\n",
      " \\_loss [59.0]\n",
      " Batch 2/3\n",
      " \\_val_loss [99.0]\n",
      " \\_loss [60.0]\n",
      " Batch 3/3\n",
      " \\_val_loss [100.0]\n",
      " \\_loss [59.0]\n",
      "\n",
      "[Epoch 34/50] >>>>>>>>>\n",
      " Batch 0/3\n",
      " \\_val_loss [99.0]\n",
      " \\_loss [58.0]\n",
      " Batch 1/3\n",
      " \\_val_loss [99.0]\n",
      " \\_loss [58.0]\n",
      " Batch 2/3\n",
      " \\_val_loss [101.0]\n",
      " \\_loss [58.0]\n",
      " Batch 3/3\n",
      " \\_val_loss [100.0]\n",
      " \\_loss [56.0]\n",
      "\n",
      "[Epoch 35/50] >>>>>>>>>\n",
      " Batch 0/3\n",
      " \\_val_loss [101.0]\n",
      " \\_loss [56.0]\n",
      " Batch 1/3\n",
      " \\_val_loss [102.0]\n",
      " \\_loss [59.0]\n",
      " Batch 2/3\n",
      " \\_val_loss [99.0]\n",
      " \\_loss [56.0]\n",
      " Batch 3/3\n",
      " \\_val_loss [101.0]\n",
      " \\_loss [59.0]\n",
      "\n",
      "[Epoch 36/50] >>>>>>>>>\n",
      " Batch 0/3\n",
      " \\_val_loss [101.0]\n",
      " \\_loss [56.0]\n",
      " Batch 1/3\n",
      " \\_val_loss [101.0]\n",
      " \\_loss [57.0]\n",
      " Batch 2/3\n",
      " \\_val_loss [101.0]\n",
      " \\_loss [57.0]\n",
      " Batch 3/3\n",
      " \\_val_loss [101.0]\n",
      " \\_loss [57.0]\n",
      "\n",
      "[Epoch 37/50] >>>>>>>>>\n",
      " Batch 0/3\n",
      " \\_val_loss [104.0]\n",
      " \\_loss [57.0]\n",
      " Batch 1/3\n",
      " \\_val_loss [102.0]\n",
      " \\_loss [56.0]\n",
      " Batch 2/3\n",
      " \\_val_loss [103.0]\n",
      " \\_loss [55.0]\n",
      " Batch 3/3\n",
      " \\_val_loss [102.0]\n",
      " \\_loss [56.0]\n",
      "\n",
      "[Epoch 38/50] >>>>>>>>>\n",
      " Batch 0/3\n",
      " \\_val_loss [102.0]\n",
      " \\_loss [56.0]\n",
      " Batch 1/3\n",
      " \\_val_loss [103.0]\n",
      " \\_loss [55.0]\n",
      " Batch 2/3\n",
      " \\_val_loss [102.0]\n",
      " \\_loss [53.0]\n",
      " Batch 3/3\n",
      " \\_val_loss [101.0]\n",
      " \\_loss [55.0]\n",
      "\n",
      "[Epoch 39/50] >>>>>>>>>\n",
      " Batch 0/3\n",
      " \\_val_loss [105.0]\n",
      " \\_loss [53.0]\n",
      " Batch 1/3\n",
      " \\_val_loss [106.0]\n",
      " \\_loss [54.0]\n",
      " Batch 2/3\n"
     ]
    },
    {
     "name": "stdout",
     "output_type": "stream",
     "text": [
      " \\_val_loss [103.0]\n",
      " \\_loss [56.0]\n",
      " Batch 3/3\n",
      " \\_val_loss [103.0]\n",
      " \\_loss [53.0]\n",
      "\n",
      "[Epoch 40/50] >>>>>>>>>\n",
      " Batch 0/3\n",
      " \\_val_loss [102.0]\n",
      " \\_loss [54.0]\n",
      " Batch 1/3\n",
      " \\_val_loss [105.0]\n",
      " \\_loss [54.0]\n",
      " Batch 2/3\n",
      " \\_val_loss [106.0]\n",
      " \\_loss [54.0]\n",
      " Batch 3/3\n",
      " \\_val_loss [103.0]\n",
      " \\_loss [54.0]\n",
      "\n",
      "[Epoch 41/50] >>>>>>>>>\n",
      " Batch 0/3\n",
      " \\_val_loss [106.0]\n",
      " \\_loss [53.0]\n",
      " Batch 1/3\n",
      " \\_val_loss [103.0]\n",
      " \\_loss [54.0]\n",
      " Batch 2/3\n",
      " \\_val_loss [104.0]\n",
      " \\_loss [54.0]\n",
      " Batch 3/3\n",
      " \\_val_loss [106.0]\n",
      " \\_loss [52.0]\n",
      "\n",
      "[Epoch 42/50] >>>>>>>>>\n",
      " Batch 0/3\n",
      " \\_val_loss [104.0]\n",
      " \\_loss [53.0]\n",
      " Batch 1/3\n",
      " \\_val_loss [103.0]\n",
      " \\_loss [52.0]\n",
      " Batch 2/3\n",
      " \\_val_loss [103.0]\n",
      " \\_loss [51.0]\n",
      " Batch 3/3\n",
      " \\_val_loss [104.0]\n",
      " \\_loss [51.0]\n",
      "\n",
      "[Epoch 43/50] >>>>>>>>>\n",
      " Batch 0/3\n",
      " \\_val_loss [102.0]\n",
      " \\_loss [53.0]\n",
      " Batch 1/3\n",
      " \\_val_loss [103.0]\n",
      " \\_loss [51.0]\n",
      " Batch 2/3\n",
      " \\_val_loss [106.0]\n",
      " \\_loss [50.0]\n",
      " Batch 3/3\n",
      " \\_val_loss [105.0]\n",
      " \\_loss [51.0]\n",
      "\n",
      "[Epoch 44/50] >>>>>>>>>\n",
      " Batch 0/3\n",
      " \\_val_loss [104.0]\n",
      " \\_loss [51.0]\n",
      " Batch 1/3\n",
      " \\_val_loss [102.0]\n",
      " \\_loss [52.0]\n",
      " Batch 2/3\n",
      " \\_val_loss [107.0]\n",
      " \\_loss [49.0]\n",
      " Batch 3/3\n",
      " \\_val_loss [103.0]\n",
      " \\_loss [52.0]\n",
      "\n",
      "[Epoch 45/50] >>>>>>>>>\n",
      " Batch 0/3\n",
      " \\_val_loss [104.0]\n",
      " \\_loss [51.0]\n",
      " Batch 1/3\n",
      " \\_val_loss [103.0]\n",
      " \\_loss [50.0]\n",
      " Batch 2/3\n",
      " \\_val_loss [103.0]\n",
      " \\_loss [52.0]\n",
      " Batch 3/3\n",
      " \\_val_loss [104.0]\n",
      " \\_loss [51.0]\n",
      "\n",
      "[Epoch 46/50] >>>>>>>>>\n",
      " Batch 0/3\n",
      " \\_val_loss [104.0]\n",
      " \\_loss [50.0]\n",
      " Batch 1/3\n",
      " \\_val_loss [104.0]\n",
      " \\_loss [51.0]\n",
      " Batch 2/3\n",
      " \\_val_loss [106.0]\n",
      " \\_loss [49.0]\n",
      " Batch 3/3\n",
      " \\_val_loss [105.0]\n",
      " \\_loss [50.0]\n",
      "\n",
      "[Epoch 47/50] >>>>>>>>>\n",
      " Batch 0/3\n",
      " \\_val_loss [107.0]\n",
      " \\_loss [48.0]\n",
      " Batch 1/3\n",
      " \\_val_loss [108.0]\n",
      " \\_loss [51.0]\n",
      " Batch 2/3\n",
      " \\_val_loss [105.0]\n",
      " \\_loss [50.0]\n",
      " Batch 3/3\n",
      " \\_val_loss [105.0]\n",
      " \\_loss [49.0]\n",
      "\n",
      "[Epoch 48/50] >>>>>>>>>\n",
      " Batch 0/3\n",
      " \\_val_loss [107.0]\n",
      " \\_loss [50.0]\n",
      " Batch 1/3\n",
      " \\_val_loss [108.0]\n",
      " \\_loss [51.0]\n",
      " Batch 2/3\n",
      " \\_val_loss [106.0]\n",
      " \\_loss [48.0]\n",
      " Batch 3/3\n",
      " \\_val_loss [105.0]\n",
      " \\_loss [48.0]\n",
      "\n",
      "[Epoch 49/50] >>>>>>>>>\n",
      " Batch 0/3\n",
      " \\_val_loss [108.0]\n",
      " \\_loss [48.0]\n",
      " Batch 1/3\n",
      " \\_val_loss [109.0]\n",
      " \\_loss [48.0]\n",
      " Batch 2/3\n",
      " \\_val_loss [108.0]\n",
      " \\_loss [50.0]\n",
      " Batch 3/3\n",
      " \\_val_loss [107.0]\n",
      " \\_loss [49.0]\n"
     ]
    }
   ],
   "source": [
    "m = 10\n",
    "useDataGenerator = False\n",
    "useDataGenerator = True\n",
    "\n",
    "x = x_train\n",
    "x = np.concatenate([x_train[:m] for _ in range(100)])\n",
    "print('x:', x.shape)\n",
    "\n",
    "print('batch_size =', batch_size)\n",
    "if useDataGenerator:\n",
    "    datagen = models.ImageDataGenerator(x_train, batch_size, phase_mod, whitening)\n",
    "    history = collections.defaultdict(list)\n",
    "    n_batches = datagen.__len__()\n",
    "    for e in range(epochs):\n",
    "        print('\\n[Epoch %i/%i] >>>>>>>>>' % (e, epochs))\n",
    "        for batch_i, (x_batch, y_batch) in enumerate(datagen.flow(x, x, batch_size)):\n",
    "            print(' Batch %i/%i' % (batch_i,n_batches))\n",
    "            x_ = x_batch\n",
    "            # x_ = datagen.shuffle_3rd_dim(x_)\n",
    "            x_ = datagen.shuffle_3rd_dim_soft(x_, rate=0.5, scale=0.1, verbose=0)\n",
    "            h = vae.fit(x_, validation_data=(x_test, None), verbose=0)\n",
    "            for k,v in h.history.items(): \n",
    "                print(' \\\\_%s' % k, [round(v_,) for v_ in v])\n",
    "                history[k].append(v)\n",
    "            if batch_i >= n_batches:\n",
    "                break\n",
    "else:\n",
    "    h = vae.fit(x, epochs=epochs, validation_data=(x_test, None))\n",
    "    history = h.history"
   ]
  },
  {
   "cell_type": "code",
   "execution_count": 132,
   "metadata": {},
   "outputs": [
    {
     "data": {
      "text/plain": [
       "[<matplotlib.lines.Line2D at 0x12fecbfd0>]"
      ]
     },
     "execution_count": 132,
     "metadata": {},
     "output_type": "execute_result"
    },
    {
     "data": {
      "image/png": "[encoded data removed]",
      "text/plain": [
       "<matplotlib.figure.Figure at 0x12fecbc50>"
      ]
     },
     "metadata": {},
     "output_type": "display_data"
    }
   ],
   "source": [
    "plt.plot(history['loss'])\n",
    "plt.plot(history['val_loss'])"
   ]
  },
  {
   "cell_type": "code",
   "execution_count": 133,
   "metadata": {},
   "outputs": [
    {
     "data": {
      "text/plain": [
       "(1000, 40, 9, 1)"
      ]
     },
     "execution_count": 133,
     "metadata": {},
     "output_type": "execute_result"
    }
   ],
   "source": [
    "x.shape"
   ]
  },
  {
   "cell_type": "code",
   "execution_count": 143,
   "metadata": {},
   "outputs": [
    {
     "name": "stdout",
     "output_type": "stream",
     "text": [
      "m (40, 9)\n"
     ]
    },
    {
     "data": {
      "image/png": "[encoded data removed]",
      "text/plain": [
       "<matplotlib.figure.Figure at 0x12becfc50>"
      ]
     },
     "metadata": {},
     "output_type": "display_data"
    },
    {
     "name": "stdout",
     "output_type": "stream",
     "text": [
      "m (40, 9)\n"
     ]
    },
    {
     "data": {
      "image/png": "[encoded data removed]",
      "text/plain": [
       "<matplotlib.figure.Figure at 0x135255860>"
      ]
     },
     "metadata": {},
     "output_type": "display_data"
    },
    {
     "name": "stdout",
     "output_type": "stream",
     "text": [
      "m (40, 9)\n"
     ]
    },
    {
     "data": {
      "image/png": "[encoded data removed]",
      "text/plain": [
       "<matplotlib.figure.Figure at 0x12beb9518>"
      ]
     },
     "metadata": {},
     "output_type": "display_data"
    },
    {
     "name": "stdout",
     "output_type": "stream",
     "text": [
      "m (40, 9)\n"
     ]
    },
    {
     "data": {
      "image/png": "[encoded data removed]",
      "text/plain": [
       "<matplotlib.figure.Figure at 0x134fc6908>"
      ]
     },
     "metadata": {},
     "output_type": "display_data"
    },
    {
     "name": "stdout",
     "output_type": "stream",
     "text": [
      "m (40, 9)\n"
     ]
    },
    {
     "data": {
      "image/png": "[encoded data removed]",
      "text/plain": [
       "<matplotlib.figure.Figure at 0x1358800f0>"
      ]
     },
     "metadata": {},
     "output_type": "display_data"
    },
    {
     "name": "stdout",
     "output_type": "stream",
     "text": [
      "m (40, 9)\n"
     ]
    },
    {
     "data": {
      "image/png": "[encoded data removed]",
      "text/plain": [
       "<matplotlib.figure.Figure at 0x135255978>"
      ]
     },
     "metadata": {},
     "output_type": "display_data"
    }
   ],
   "source": [
    "i = 0\n",
    "j = 1\n",
    "k = -1\n",
    "x = vae.predict(x_train[:100])\n",
    "plot.single(x_train[i, :50, :, 0])\n",
    "plot.single(x[i, :50, :, 0])\n",
    "plot.single(x_train[j, :50, :, 0])\n",
    "plot.single(x[j, :50, :, 0])\n",
    "plot.single(x_train[k, :50, :, 0])\n",
    "plot.single(x[k, :50, :, 0])"
   ]
  },
  {
   "cell_type": "code",
   "execution_count": 144,
   "metadata": {},
   "outputs": [
    {
     "name": "stdout",
     "output_type": "stream",
     "text": [
      "m (40, 9)\n"
     ]
    },
    {
     "data": {
      "image/png": "[encoded data removed]",
      "text/plain": [
       "<matplotlib.figure.Figure at 0x1358e07f0>"
      ]
     },
     "metadata": {},
     "output_type": "display_data"
    },
    {
     "name": "stdout",
     "output_type": "stream",
     "text": [
      "m (40, 9)\n"
     ]
    },
    {
     "data": {
      "image/png": "[encoded data removed]",
      "text/plain": [
       "<matplotlib.figure.Figure at 0x135e52e10>"
      ]
     },
     "metadata": {},
     "output_type": "display_data"
    },
    {
     "name": "stdout",
     "output_type": "stream",
     "text": [
      "m (40, 9)\n"
     ]
    },
    {
     "data": {
      "image/png": "[encoded data removed]",
      "text/plain": [
       "<matplotlib.figure.Figure at 0x135ea24a8>"
      ]
     },
     "metadata": {},
     "output_type": "display_data"
    }
   ],
   "source": [
    "x = datagen.shuffle_3rd_dim_soft(x_train[:10], rate=1, intensity=2, scale=1, verbose=1)\n",
    "i = 0\n",
    "plot.single(x_train[i,:,:,0])\n",
    "plot.single(x[i,:,:,0])\n",
    "x_ = vae.predict(x)\n",
    "plot.single(x_[i,:,:,0])"
   ]
  },
  {
   "cell_type": "code",
   "execution_count": 136,
   "metadata": {},
   "outputs": [
    {
     "data": {
      "text/plain": [
       "(10, 40, 9, 1)"
      ]
     },
     "execution_count": 136,
     "metadata": {},
     "output_type": "execute_result"
    }
   ],
   "source": [
    "x.shape"
   ]
  },
  {
   "cell_type": "code",
   "execution_count": 137,
   "metadata": {},
   "outputs": [
    {
     "name": "stdout",
     "output_type": "stream",
     "text": [
      "m (30, 9)\n"
     ]
    },
    {
     "data": {
      "image/png": "[encoded data removed]",
      "text/plain": [
       "<matplotlib.figure.Figure at 0x133a77208>"
      ]
     },
     "metadata": {},
     "output_type": "display_data"
    }
   ],
   "source": [
    "# min: these pixels are 'always' active\n",
    "m = x.min(axis=0)\n",
    "plot.multi(m[:30,:,0])"
   ]
  },
  {
   "cell_type": "code",
   "execution_count": 138,
   "metadata": {},
   "outputs": [
    {
     "name": "stdout",
     "output_type": "stream",
     "text": [
      "m (30, 9)\n"
     ]
    },
    {
     "data": {
      "image/png": "[encoded data removed]",
      "text/plain": [
       "<matplotlib.figure.Figure at 0x135275748>"
      ]
     },
     "metadata": {},
     "output_type": "display_data"
    }
   ],
   "source": [
    "# mean\n",
    "m = x.mean(axis=0)\n",
    "plot.single(m[:30,:,0])"
   ]
  },
  {
   "cell_type": "markdown",
   "metadata": {},
   "source": [
    "## Encoder + Generator\n",
    "A model to project inputs on the latent space"
   ]
  },
  {
   "cell_type": "code",
   "execution_count": 139,
   "metadata": {},
   "outputs": [],
   "source": [
    "# build a model to project inputs on the latent space\n",
    "encoder = Model(encoder_input, z_mean)"
   ]
  },
  {
   "cell_type": "code",
   "execution_count": 140,
   "metadata": {},
   "outputs": [
    {
     "data": {
      "text/plain": [
       "(41, 40, 9, 1)"
      ]
     },
     "execution_count": 140,
     "metadata": {},
     "output_type": "execute_result"
    }
   ],
   "source": [
    "x_test.shape"
   ]
  },
  {
   "cell_type": "code",
   "execution_count": 141,
   "metadata": {},
   "outputs": [
    {
     "data": {
      "text/plain": [
       "(100, 100)"
      ]
     },
     "execution_count": 141,
     "metadata": {},
     "output_type": "execute_result"
    }
   ],
   "source": [
    "m = 100\n",
    "x_train_encoded = encoder.predict(x_train[:m], batch_size=batch_size)\n",
    "x_train_encoded.shape"
   ]
  },
  {
   "cell_type": "code",
   "execution_count": 142,
   "metadata": {},
   "outputs": [
    {
     "data": {
      "text/plain": [
       "<matplotlib.collections.PathCollection at 0x12bd707f0>"
      ]
     },
     "execution_count": 142,
     "metadata": {},
     "output_type": "execute_result"
    },
    {
     "data": {
      "image/png": "[encoded data removed]",
      "text/plain": [
       "<matplotlib.figure.Figure at 0x1358acfd0>"
      ]
     },
     "metadata": {},
     "output_type": "display_data"
    }
   ],
   "source": [
    "# y_test = range(x_train_encoded.shape[0])\n",
    "y_test = np.concatenate([list(range(n)) for _ in range(int(m/n)+1)])[:m] / n\n",
    "plt.figure(figsize=(6, 6))\n",
    "plt.scatter(x_train_encoded[:, 0], x_train_encoded[:, 1], alpha=0.8, s=30) # c=y_test, "
   ]
  },
  {
   "cell_type": "code",
   "execution_count": 38,
   "metadata": {},
   "outputs": [
    {
     "data": {
      "text/plain": [
       "<matplotlib.collections.PathCollection at 0x11f3dc240>"
      ]
     },
     "execution_count": 38,
     "metadata": {},
     "output_type": "execute_result"
    },
    {
     "data": {
      "image/png": "[encoded data removed]",
      "text/plain": [
       "<matplotlib.figure.Figure at 0x11fd4d2b0>"
      ]
     },
     "metadata": {},
     "output_type": "display_data"
    }
   ],
   "source": [
    "# display a 2D plot of the digit classes in the latent space\n",
    "x_test_encoded = encoder.predict(x_test, batch_size=batch_size)\n",
    "plt.figure(figsize=(6, 6))\n",
    "plt.scatter(x_test_encoded[:, 0], x_test_encoded[:, 1], alpha=0.6, s=30) # , c=y_test\n",
    "# plt.colorbar()"
   ]
  },
  {
   "cell_type": "code",
   "execution_count": 39,
   "metadata": {},
   "outputs": [],
   "source": [
    "# build a digit generator that can sample from the learned distribution\n",
    "decoder_input = Input(shape=(latent_dim,))\n",
    "_decoded = utils.composition(decoders, decoder_input, verbose=False)\n",
    "generator = Model(decoder_input, _decoded)"
   ]
  },
  {
   "cell_type": "code",
   "execution_count": 40,
   "metadata": {},
   "outputs": [],
   "source": [
    "# x_decoded[0].reshape(150,3)"
   ]
  },
  {
   "cell_type": "code",
   "execution_count": 41,
   "metadata": {},
   "outputs": [
    {
     "data": {
      "text/plain": [
       "(450, 40, 9, 1)"
      ]
     },
     "execution_count": 41,
     "metadata": {},
     "output_type": "execute_result"
    }
   ],
   "source": [
    "x_train.shape"
   ]
  },
  {
   "cell_type": "code",
   "execution_count": 42,
   "metadata": {},
   "outputs": [
    {
     "name": "stdout",
     "output_type": "stream",
     "text": [
      "(100,) [0. 0. 0. 0. 0. 0. 0. 0. 0. 0. 0. 0. 0. 0. 0. 0. 0. 0. 0. 0. 0. 0. 0. 0.\n",
      " 0. 0. 0. 0. 0. 0. 0. 0. 0. 0. 0. 0. 0. 0. 0. 0. 0. 0. 0. 0. 0. 0. 0. 0.\n",
      " 0. 0. 0. 0. 0. 0. 0. 0. 0. 0. 0. 0. 0. 0. 0. 0. 0. 0. 0. 0. 0. 0. 0. 0.\n",
      " 0. 0. 0. 0. 0. 0. 0. 0. 0. 0. 0. 0. 0. 0. 0. 0. 0. 0. 0. 0. 0. 0. 0. 0.\n",
      " 0. 0. 0. 0.]\n"
     ]
    },
    {
     "data": {
      "image/png": "[encoded data removed]",
      "text/plain": [
       "<matplotlib.figure.Figure at 0x11f3e9e80>"
      ]
     },
     "metadata": {},
     "output_type": "display_data"
    }
   ],
   "source": [
    "min_y = 0.01\n",
    "max_y = 0.5\n",
    "plot.latent(generator, batch_size, latent_dim,\n",
    "       n=8,\n",
    "       m=3,\n",
    "       crop_size=30,\n",
    "       margin_top=1,\n",
    "       margin_left=1,\n",
    "       min_x=0.05,\n",
    "       max_x=0.95,\n",
    "       min_y=min_y,\n",
    "       max_y=max_y)"
   ]
  },
  {
   "cell_type": "code",
   "execution_count": 43,
   "metadata": {},
   "outputs": [
    {
     "name": "stdout",
     "output_type": "stream",
     "text": [
      "(100,) [0. 0. 0. 0. 0. 0. 0. 0. 0. 0. 0. 0. 0. 0. 0. 0. 0. 0. 0. 0. 0. 0. 0. 0.\n",
      " 0. 0. 0. 0. 0. 0. 0. 0. 0. 0. 0. 0. 0. 0. 0. 0. 0. 0. 0. 0. 0. 0. 0. 0.\n",
      " 0. 0. 0. 0. 0. 0. 0. 0. 0. 0. 0. 0. 0. 0. 0. 0. 0. 0. 0. 0. 0. 0. 0. 0.\n",
      " 0. 0. 0. 0. 0. 0. 0. 0. 0. 0. 0. 0. 0. 0. 0. 0. 0. 0. 0. 0. 0. 0. 0. 0.\n",
      " 0. 0. 0. 0.]\n"
     ]
    },
    {
     "data": {
      "image/png": "[encoded data removed]",
      "text/plain": [
       "<matplotlib.figure.Figure at 0x11b6247f0>"
      ]
     },
     "metadata": {},
     "output_type": "display_data"
    }
   ],
   "source": [
    "min_y2 = max_y\n",
    "plot.latent(generator, batch_size, latent_dim,\n",
    "       n=8,\n",
    "       m=3,\n",
    "       crop_size=30,\n",
    "       margin_top=1,\n",
    "       margin_left=1,\n",
    "       min_x=0.05,\n",
    "       max_x=0.95,\n",
    "       min_y=min_y2,\n",
    "       max_y=0.95)"
   ]
  },
  {
   "cell_type": "code",
   "execution_count": null,
   "metadata": {},
   "outputs": [],
   "source": []
  },
  {
   "cell_type": "code",
   "execution_count": null,
   "metadata": {},
   "outputs": [],
   "source": []
  },
  {
   "cell_type": "code",
   "execution_count": null,
   "metadata": {},
   "outputs": [],
   "source": []
  },
  {
   "cell_type": "code",
   "execution_count": null,
   "metadata": {},
   "outputs": [],
   "source": []
  },
  {
   "cell_type": "code",
   "execution_count": null,
   "metadata": {},
   "outputs": [],
   "source": []
  },
  {
   "cell_type": "code",
   "execution_count": null,
   "metadata": {},
   "outputs": [],
   "source": []
  },
  {
   "cell_type": "code",
   "execution_count": null,
   "metadata": {},
   "outputs": [],
   "source": []
  },
  {
   "cell_type": "code",
   "execution_count": null,
   "metadata": {},
   "outputs": [],
   "source": []
  }
 ],
 "metadata": {
  "kernelspec": {
   "display_name": "Python 3",
   "language": "python",
   "name": "python3"
  },
  "language_info": {
   "codemirror_mode": {
    "name": "ipython",
    "version": 3
   },
   "file_extension": ".py",
   "mimetype": "text/x-python",
   "name": "python",
   "nbconvert_exporter": "python",
   "pygments_lexer": "ipython3",
   "version": "3.6.5"
  }
 },
 "nbformat": 4,
 "nbformat_minor": 2
}
