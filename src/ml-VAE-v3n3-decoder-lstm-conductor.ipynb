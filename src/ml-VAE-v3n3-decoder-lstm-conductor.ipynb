{
 "cells": [
  {
   "cell_type": "code",
   "execution_count": 1,
   "metadata": {},
   "outputs": [
    {
     "name": "stderr",
     "output_type": "stream",
     "text": [
      "/Library/Frameworks/Python.framework/Versions/3.6/lib/python3.6/site-packages/h5py/__init__.py:36: FutureWarning: Conversion of the second argument of issubdtype from `float` to `np.floating` is deprecated. In future, it will be treated as `np.float64 == np.dtype(float).type`.\n",
      "  from ._conv import register_converters as _register_converters\n",
      "Using TensorFlow backend.\n"
     ]
    }
   ],
   "source": [
    "from __future__ import division\n",
    "\n",
    "import collections\n",
    "import numpy as np\n",
    "import matplotlib.pyplot as plt\n",
    "from scipy.stats import norm\n",
    "\n",
    "## NN libs\n",
    "import keras\n",
    "from keras import backend as K\n",
    "from keras import regularizers\n",
    "from keras.utils import to_categorical\n",
    "from keras.optimizers import SGD, Adam\n",
    "from keras.layers import *\n",
    "from keras.preprocessing.image import ImageDataGenerator\n",
    "from keras.models import Model\n",
    "from keras.callbacks import TensorBoard"
   ]
  },
  {
   "cell_type": "code",
   "execution_count": 2,
   "metadata": {},
   "outputs": [],
   "source": [
    "import config\n",
    "import os, numpy as np, pandas, sklearn, scipy.signal as signal\n",
    "import mido\n",
    "import matplotlib.pyplot as plt\n",
    "%matplotlib inline"
   ]
  },
  {
   "cell_type": "code",
   "execution_count": 3,
   "metadata": {},
   "outputs": [],
   "source": [
    "# local libs\n",
    "import config, models, setup\n",
    "import midi\n",
    "import midi.decode\n",
    "from midi import generators as g\n",
    "from utils import io, models_io, utils, plot\n",
    "from capsule.layers import Capsule, Length\n",
    "from capsule.capsulefunctions import squash, softmax, margin_loss"
   ]
  },
  {
   "cell_type": "code",
   "execution_count": 4,
   "metadata": {},
   "outputs": [
    {
     "name": "stdout",
     "output_type": "stream",
     "text": [
      " Context :: namedtuple(\n",
      "[ max_t = float\n",
      ", dt = float\n",
      ", n_timestesp = int\n",
      ", note_length = int\n",
      ", bpm = float\n",
      ", tempo = float\n",
      ", ticks_per_beat = int\n",
      "]\n",
      "\n",
      "Setting up params\n",
      "\n",
      "max min f 10.0 0.5\n",
      " >> Context(max_t=2.0, dt=0.05, n_timesteps=40, note_length=0.03, bpm=120.0, tempo=500000, ticks_per_beat=480)\n",
      " sample length:  40.000000\n",
      " max_f: 10.000000, min_f: 0.500000\n"
     ]
    }
   ],
   "source": [
    "context = setup.init()"
   ]
  },
  {
   "cell_type": "code",
   "execution_count": 5,
   "metadata": {},
   "outputs": [
    {
     "data": {
      "text/plain": [
       "'note_on'"
      ]
     },
     "execution_count": 5,
     "metadata": {},
     "output_type": "execute_result"
    }
   ],
   "source": [
    "mido.Message(type='note_on').type"
   ]
  },
  {
   "cell_type": "code",
   "execution_count": 6,
   "metadata": {
    "scrolled": true
   },
   "outputs": [
    {
     "name": "stdout",
     "output_type": "stream",
     "text": [
      "\n",
      "Importing midi-data\n",
      "\n",
      "Encoding midi-data\n",
      " 500\n",
      "> -> multi-track = True MidiFile\n",
      "\u001b[92m [INFO] : \u001b[0m\n",
      " |  True\n"
     ]
    }
   ],
   "source": [
    "n = 500 * 1\n",
    "dim4 = True\n",
    "multiTrack = True\n",
    "reduce_dims = midi.ReduceDimsOptions.MIDIFILE # GLOBAL\n",
    "dn = 'drum_midi/'\n",
    "v = None\n",
    "x_train, labels = setup.import_data(context, n, dim4=dim4, reduce_dims=reduce_dims, \n",
    "    dirname=dn, multiTrack=multiTrack, velocity=v, r=True)"
   ]
  },
  {
   "cell_type": "code",
   "execution_count": 7,
   "metadata": {},
   "outputs": [
    {
     "data": {
      "text/plain": [
       "[(0,\n",
       "  \"../datasets/drum_midi//50´s Drummer MIDI Files/01 Rock'n'Roll/01 Dancin Rick 166BPM/01 8th Hat.mid\"),\n",
       " (1,\n",
       "  \"../datasets/drum_midi//50´s Drummer MIDI Files/01 Rock'n'Roll/01 Dancin Rick 166BPM/02 8th Ride.mid\"),\n",
       " (2,\n",
       "  \"../datasets/drum_midi//50´s Drummer MIDI Files/01 Rock'n'Roll/01 Dancin Rick 166BPM/03 16th Snare.mid\"),\n",
       " (3,\n",
       "  \"../datasets/drum_midi//50´s Drummer MIDI Files/01 Rock'n'Roll/01 Dancin Rick 166BPM/04 8th Ride.mid\"),\n",
       " (4,\n",
       "  \"../datasets/drum_midi//50´s Drummer MIDI Files/01 Rock'n'Roll/01 Dancin Rick 166BPM/05 16th Ride.mid\"),\n",
       " (5,\n",
       "  \"../datasets/drum_midi//50´s Drummer MIDI Files/01 Rock'n'Roll/01 Dancin Rick 166BPM/06 16th Ride.mid\"),\n",
       " (6,\n",
       "  \"../datasets/drum_midi//50´s Drummer MIDI Files/01 Rock'n'Roll/01 Dancin Rick 166BPM/07 16th Ride.mid\"),\n",
       " (7,\n",
       "  \"../datasets/drum_midi//50´s Drummer MIDI Files/01 Rock'n'Roll/02 Gogo 191BPM/01 8th Hat.mid\"),\n",
       " (8,\n",
       "  \"../datasets/drum_midi//50´s Drummer MIDI Files/01 Rock'n'Roll/02 Gogo 191BPM/02 8th Snare.mid\"),\n",
       " (9,\n",
       "  \"../datasets/drum_midi//50´s Drummer MIDI Files/01 Rock'n'Roll/02 Gogo 191BPM/03 4th Snare .mid\"),\n",
       " (10,\n",
       "  \"../datasets/drum_midi//50´s Drummer MIDI Files/01 Rock'n'Roll/02 Gogo 191BPM/04 8th Ride.mid\"),\n",
       " (11,\n",
       "  \"../datasets/drum_midi//50´s Drummer MIDI Files/01 Rock'n'Roll/02 Gogo 191BPM/05 8th Snare.mid\"),\n",
       " (12,\n",
       "  \"../datasets/drum_midi//50´s Drummer MIDI Files/01 Rock'n'Roll/02 Gogo 191BPM/06 8th Toms.mid\"),\n",
       " (13,\n",
       "  \"../datasets/drum_midi//50´s Drummer MIDI Files/01 Rock'n'Roll/02 Gogo 191BPM/07 8th Toms.mid\"),\n",
       " (14,\n",
       "  \"../datasets/drum_midi//50´s Drummer MIDI Files/01 Rock'n'Roll/03 Lips n Hips 152BPM/01 8th Perc.mid\"),\n",
       " (15,\n",
       "  \"../datasets/drum_midi//50´s Drummer MIDI Files/01 Rock'n'Roll/03 Lips n Hips 152BPM/02 8th Ride.mid\"),\n",
       " (16,\n",
       "  \"../datasets/drum_midi//50´s Drummer MIDI Files/01 Rock'n'Roll/03 Lips n Hips 152BPM/03 8th Ride .mid\"),\n",
       " (17,\n",
       "  \"../datasets/drum_midi//50´s Drummer MIDI Files/01 Rock'n'Roll/03 Lips n Hips 152BPM/04 8th Snare.mid\"),\n",
       " (18,\n",
       "  \"../datasets/drum_midi//50´s Drummer MIDI Files/01 Rock'n'Roll/03 Lips n Hips 152BPM/05 8th Snare.mid\"),\n",
       " (19,\n",
       "  \"../datasets/drum_midi//50´s Drummer MIDI Files/01 Rock'n'Roll/03 Lips n Hips 152BPM/06 8th Hat.mid\"),\n",
       " (20,\n",
       "  \"../datasets/drum_midi//50´s Drummer MIDI Files/01 Rock'n'Roll/03 Lips n Hips 152BPM/07 8th Snare.mid\"),\n",
       " (21,\n",
       "  \"../datasets/drum_midi//50´s Drummer MIDI Files/01 Rock'n'Roll/04 Maybelline 233BPM/01 8th Snare.mid\"),\n",
       " (22,\n",
       "  \"../datasets/drum_midi//50´s Drummer MIDI Files/01 Rock'n'Roll/04 Maybelline 233BPM/02 8th Cym.mid\"),\n",
       " (23,\n",
       "  \"../datasets/drum_midi//50´s Drummer MIDI Files/01 Rock'n'Roll/04 Maybelline 233BPM/03 8th Ride.mid\"),\n",
       " (24,\n",
       "  \"../datasets/drum_midi//50´s Drummer MIDI Files/01 Rock'n'Roll/04 Maybelline 233BPM/04 16th Snare.mid\"),\n",
       " (25,\n",
       "  \"../datasets/drum_midi//50´s Drummer MIDI Files/01 Rock'n'Roll/04 Maybelline 233BPM/05 16th Hat.mid\"),\n",
       " (26,\n",
       "  \"../datasets/drum_midi//50´s Drummer MIDI Files/01 Rock'n'Roll/04 Maybelline 233BPM/06 16th Toms.mid\"),\n",
       " (27,\n",
       "  \"../datasets/drum_midi//50´s Drummer MIDI Files/01 Rock'n'Roll/04 Maybelline 233BPM/07 16th Ride.mid\"),\n",
       " (28,\n",
       "  \"../datasets/drum_midi//50´s Drummer MIDI Files/01 Rock'n'Roll/05 Straight Line 136BPM/01 8th Hat.mid\"),\n",
       " (29,\n",
       "  \"../datasets/drum_midi//50´s Drummer MIDI Files/01 Rock'n'Roll/05 Straight Line 136BPM/02 8th Ride.mid\"),\n",
       " (30,\n",
       "  \"../datasets/drum_midi//50´s Drummer MIDI Files/01 Rock'n'Roll/05 Straight Line 136BPM/03 8th Ride.mid\"),\n",
       " (31,\n",
       "  \"../datasets/drum_midi//50´s Drummer MIDI Files/01 Rock'n'Roll/05 Straight Line 136BPM/04 8th Perc.mid\"),\n",
       " (32,\n",
       "  \"../datasets/drum_midi//50´s Drummer MIDI Files/01 Rock'n'Roll/05 Straight Line 136BPM/05 8th Ride.mid\"),\n",
       " (33,\n",
       "  \"../datasets/drum_midi//50´s Drummer MIDI Files/01 Rock'n'Roll/05 Straight Line 136BPM/06 8th hat.mid\"),\n",
       " (34,\n",
       "  \"../datasets/drum_midi//50´s Drummer MIDI Files/01 Rock'n'Roll/05 Straight Line 136BPM/07 8th Toms.mid\"),\n",
       " (35,\n",
       "  \"../datasets/drum_midi//50´s Drummer MIDI Files/01 Rock'n'Roll/06 Moonglow 140BPM/01 8th Hat.mid\"),\n",
       " (36,\n",
       "  \"../datasets/drum_midi//50´s Drummer MIDI Files/01 Rock'n'Roll/06 Moonglow 140BPM/02 8th Hat.mid\"),\n",
       " (37,\n",
       "  \"../datasets/drum_midi//50´s Drummer MIDI Files/01 Rock'n'Roll/06 Moonglow 140BPM/03 8th Ride.mid\"),\n",
       " (38,\n",
       "  \"../datasets/drum_midi//50´s Drummer MIDI Files/01 Rock'n'Roll/06 Moonglow 140BPM/04 8th Perc.mid\"),\n",
       " (39,\n",
       "  \"../datasets/drum_midi//50´s Drummer MIDI Files/01 Rock'n'Roll/06 Moonglow 140BPM/05 8th Hat.mid\"),\n",
       " (40,\n",
       "  \"../datasets/drum_midi//50´s Drummer MIDI Files/01 Rock'n'Roll/06 Moonglow 140BPM/06 8th Perc.mid\"),\n",
       " (41,\n",
       "  \"../datasets/drum_midi//50´s Drummer MIDI Files/01 Rock'n'Roll/06 Moonglow 140BPM/07 8th Perc.mid\"),\n",
       " (42,\n",
       "  \"../datasets/drum_midi//50´s Drummer MIDI Files/01 Rock'n'Roll/07 Thwag 170BPM/01 8th Ride.mid\"),\n",
       " (43,\n",
       "  \"../datasets/drum_midi//50´s Drummer MIDI Files/01 Rock'n'Roll/07 Thwag 170BPM/02 8th Hat.mid\"),\n",
       " (44,\n",
       "  \"../datasets/drum_midi//50´s Drummer MIDI Files/01 Rock'n'Roll/07 Thwag 170BPM/03 8th Hat.mid\"),\n",
       " (45,\n",
       "  \"../datasets/drum_midi//50´s Drummer MIDI Files/01 Rock'n'Roll/07 Thwag 170BPM/04 8th Ride.mid\"),\n",
       " (46,\n",
       "  \"../datasets/drum_midi//50´s Drummer MIDI Files/01 Rock'n'Roll/07 Thwag 170BPM/05 8th Cym.mid\"),\n",
       " (47,\n",
       "  \"../datasets/drum_midi//50´s Drummer MIDI Files/01 Rock'n'Roll/07 Thwag 170BPM/06 8th Cym.mid\"),\n",
       " (48,\n",
       "  \"../datasets/drum_midi//50´s Drummer MIDI Files/01 Rock'n'Roll/07 Thwag 170BPM/07 8th Cym.mid\"),\n",
       " (49,\n",
       "  \"../datasets/drum_midi//50´s Drummer MIDI Files/01 Rock'n'Roll/08 Doowoop 140bpm/01 16th Snare.mid\"),\n",
       " (50,\n",
       "  \"../datasets/drum_midi//50´s Drummer MIDI Files/01 Rock'n'Roll/08 Doowoop 140bpm/02 16th Snare.mid\"),\n",
       " (51,\n",
       "  \"../datasets/drum_midi//50´s Drummer MIDI Files/01 Rock'n'Roll/08 Doowoop 140bpm/03 16th Snare.mid\"),\n",
       " (52,\n",
       "  \"../datasets/drum_midi//50´s Drummer MIDI Files/01 Rock'n'Roll/08 Doowoop 140bpm/04 16th Snare.mid\"),\n",
       " (53,\n",
       "  \"../datasets/drum_midi//50´s Drummer MIDI Files/01 Rock'n'Roll/08 Doowoop 140bpm/05 16th Snare.mid\"),\n",
       " (54,\n",
       "  \"../datasets/drum_midi//50´s Drummer MIDI Files/01 Rock'n'Roll/08 Doowoop 140bpm/06 16th Perc.mid\"),\n",
       " (55,\n",
       "  \"../datasets/drum_midi//50´s Drummer MIDI Files/01 Rock'n'Roll/08 Doowoop 140bpm/07 16th Perc.mid\"),\n",
       " (56,\n",
       "  \"../datasets/drum_midi//50´s Drummer MIDI Files/01 Rock'n'Roll/09 Diddeley 185bpm/01 4th Ride.mid\"),\n",
       " (57,\n",
       "  \"../datasets/drum_midi//50´s Drummer MIDI Files/01 Rock'n'Roll/09 Diddeley 185bpm/02 4th Ride.mid\"),\n",
       " (58,\n",
       "  \"../datasets/drum_midi//50´s Drummer MIDI Files/01 Rock'n'Roll/09 Diddeley 185bpm/03 4th Ride.mid\"),\n",
       " (59,\n",
       "  \"../datasets/drum_midi//50´s Drummer MIDI Files/01 Rock'n'Roll/09 Diddeley 185bpm/04 4th Hat.mid\"),\n",
       " (60,\n",
       "  \"../datasets/drum_midi//50´s Drummer MIDI Files/01 Rock'n'Roll/09 Diddeley 185bpm/05 8th Multi.mid\"),\n",
       " (61,\n",
       "  \"../datasets/drum_midi//50´s Drummer MIDI Files/01 Rock'n'Roll/09 Diddeley 185bpm/06 8th Multi.mid\"),\n",
       " (62,\n",
       "  \"../datasets/drum_midi//50´s Drummer MIDI Files/01 Rock'n'Roll/09 Diddeley 185bpm/07 8th Multi.mid\"),\n",
       " (63,\n",
       "  \"../datasets/drum_midi//50´s Drummer MIDI Files/01 Rock'n'Roll/10 Ottis 172bpm/01 8th Hat.mid\"),\n",
       " (64,\n",
       "  \"../datasets/drum_midi//50´s Drummer MIDI Files/01 Rock'n'Roll/10 Ottis 172bpm/02 8th Ride.mid\"),\n",
       " (65,\n",
       "  \"../datasets/drum_midi//50´s Drummer MIDI Files/01 Rock'n'Roll/10 Ottis 172bpm/03 8th Cym.mid\"),\n",
       " (66,\n",
       "  \"../datasets/drum_midi//50´s Drummer MIDI Files/01 Rock'n'Roll/10 Ottis 172bpm/04 8th Toms.mid\"),\n",
       " (67,\n",
       "  \"../datasets/drum_midi//50´s Drummer MIDI Files/01 Rock'n'Roll/10 Ottis 172bpm/05 8th Toms.mid\"),\n",
       " (68,\n",
       "  \"../datasets/drum_midi//50´s Drummer MIDI Files/01 Rock'n'Roll/10 Ottis 172bpm/06 8th Multi.mid\"),\n",
       " (69,\n",
       "  \"../datasets/drum_midi//50´s Drummer MIDI Files/01 Rock'n'Roll/10 Ottis 172bpm/07 8th Multi.mid\"),\n",
       " (70,\n",
       "  '../datasets/drum_midi//50´s Drummer MIDI Files/02 Blues/01 Booze 92BPM/01 8th Hat.mid'),\n",
       " (71,\n",
       "  '../datasets/drum_midi//50´s Drummer MIDI Files/02 Blues/01 Booze 92BPM/02 8th Snare.mid'),\n",
       " (72,\n",
       "  '../datasets/drum_midi//50´s Drummer MIDI Files/02 Blues/01 Booze 92BPM/03 8th Perc.mid'),\n",
       " (73,\n",
       "  '../datasets/drum_midi//50´s Drummer MIDI Files/02 Blues/01 Booze 92BPM/04 8th Ride.mid'),\n",
       " (74,\n",
       "  '../datasets/drum_midi//50´s Drummer MIDI Files/02 Blues/01 Booze 92BPM/05 8th Hat.mid'),\n",
       " (75,\n",
       "  '../datasets/drum_midi//50´s Drummer MIDI Files/02 Blues/01 Booze 92BPM/06 8th Toms.mid'),\n",
       " (76,\n",
       "  '../datasets/drum_midi//50´s Drummer MIDI Files/02 Blues/01 Booze 92BPM/07 8th Hat.mid'),\n",
       " (77,\n",
       "  '../datasets/drum_midi//50´s Drummer MIDI Files/02 Blues/02 Nappy Brown 160BPM/01 8th Hat.mid'),\n",
       " (78,\n",
       "  '../datasets/drum_midi//50´s Drummer MIDI Files/02 Blues/02 Nappy Brown 160BPM/02 8th Ride.mid'),\n",
       " (79,\n",
       "  '../datasets/drum_midi//50´s Drummer MIDI Files/02 Blues/02 Nappy Brown 160BPM/03 8th Perc.mid'),\n",
       " (80,\n",
       "  '../datasets/drum_midi//50´s Drummer MIDI Files/02 Blues/02 Nappy Brown 160BPM/04 8th Perc.mid'),\n",
       " (81,\n",
       "  '../datasets/drum_midi//50´s Drummer MIDI Files/02 Blues/02 Nappy Brown 160BPM/05 8th Cym.mid'),\n",
       " (82,\n",
       "  '../datasets/drum_midi//50´s Drummer MIDI Files/02 Blues/02 Nappy Brown 160BPM/06 8th Perc.mid'),\n",
       " (83,\n",
       "  '../datasets/drum_midi//50´s Drummer MIDI Files/02 Blues/02 Nappy Brown 160BPM/07 8th Hat.mid'),\n",
       " (84,\n",
       "  '../datasets/drum_midi//50´s Drummer MIDI Files/02 Blues/03 Noton Bull 192BPM 12-8 Brushes/01 4th Multi.mid'),\n",
       " (85,\n",
       "  '../datasets/drum_midi//50´s Drummer MIDI Files/02 Blues/03 Noton Bull 192BPM 12-8 Brushes/02 4th Multi.mid'),\n",
       " (86,\n",
       "  '../datasets/drum_midi//50´s Drummer MIDI Files/02 Blues/03 Noton Bull 192BPM 12-8 Brushes/03 4th Snare.mid'),\n",
       " (87,\n",
       "  '../datasets/drum_midi//50´s Drummer MIDI Files/02 Blues/03 Noton Bull 192BPM 12-8 Brushes/04 4th Perc.mid'),\n",
       " (88,\n",
       "  '../datasets/drum_midi//50´s Drummer MIDI Files/02 Blues/03 Noton Bull 192BPM 12-8 Brushes/04 4th Snare.mid'),\n",
       " (89,\n",
       "  '../datasets/drum_midi//50´s Drummer MIDI Files/02 Blues/03 Noton Bull 192BPM 12-8 Brushes/06 4th Multi.mid'),\n",
       " (90,\n",
       "  '../datasets/drum_midi//50´s Drummer MIDI Files/02 Blues/03 Noton Bull 192BPM 12-8 Brushes/07 4th Mulit.mid'),\n",
       " (91,\n",
       "  '../datasets/drum_midi//50´s Drummer MIDI Files/02 Blues/04 Mickeys 212BPM 12-8/01 8th Hat.mid'),\n",
       " (92,\n",
       "  '../datasets/drum_midi//50´s Drummer MIDI Files/02 Blues/04 Mickeys 212BPM 12-8/02 8th Hat.mid'),\n",
       " (93,\n",
       "  '../datasets/drum_midi//50´s Drummer MIDI Files/02 Blues/04 Mickeys 212BPM 12-8/03 8th Cym.mid'),\n",
       " (94,\n",
       "  '../datasets/drum_midi//50´s Drummer MIDI Files/02 Blues/04 Mickeys 212BPM 12-8/04 8th Toms.mid'),\n",
       " (95,\n",
       "  '../datasets/drum_midi//50´s Drummer MIDI Files/02 Blues/04 Mickeys 212BPM 12-8/05 8th Ride.mid'),\n",
       " (96,\n",
       "  '../datasets/drum_midi//50´s Drummer MIDI Files/02 Blues/04 Mickeys 212BPM 12-8/06 8th Multi.mid'),\n",
       " (97,\n",
       "  '../datasets/drum_midi//50´s Drummer MIDI Files/02 Blues/04 Mickeys 212BPM 12-8/07 8th perc.mid'),\n",
       " (98,\n",
       "  '../datasets/drum_midi//50´s Drummer MIDI Files/02 Blues/05 Cadillac 128BPM/01 8th Hat.mid'),\n",
       " (99,\n",
       "  '../datasets/drum_midi//50´s Drummer MIDI Files/02 Blues/05 Cadillac 128BPM/02 8th Hat.mid'),\n",
       " (100,\n",
       "  '../datasets/drum_midi//50´s Drummer MIDI Files/02 Blues/05 Cadillac 128BPM/03 8th Ride.mid'),\n",
       " (101,\n",
       "  '../datasets/drum_midi//50´s Drummer MIDI Files/02 Blues/05 Cadillac 128BPM/04 8th Perc.mid'),\n",
       " (102,\n",
       "  '../datasets/drum_midi//50´s Drummer MIDI Files/02 Blues/05 Cadillac 128BPM/05 8th Perc.mid'),\n",
       " (103,\n",
       "  '../datasets/drum_midi//50´s Drummer MIDI Files/02 Blues/05 Cadillac 128BPM/06 8th Perc.mid'),\n",
       " (104,\n",
       "  '../datasets/drum_midi//50´s Drummer MIDI Files/02 Blues/05 Cadillac 128BPM/07 8th Perc.mid'),\n",
       " (105,\n",
       "  '../datasets/drum_midi//50´s Drummer MIDI Files/02 Blues/06 Vidar Vega 70BPM/01 8th Hat.mid'),\n",
       " (106,\n",
       "  '../datasets/drum_midi//50´s Drummer MIDI Files/02 Blues/06 Vidar Vega 70BPM/02 8th Hat.mid'),\n",
       " (107,\n",
       "  '../datasets/drum_midi//50´s Drummer MIDI Files/02 Blues/06 Vidar Vega 70BPM/03 8th Hat.mid'),\n",
       " (108,\n",
       "  '../datasets/drum_midi//50´s Drummer MIDI Files/02 Blues/06 Vidar Vega 70BPM/04 8th Hat.mid'),\n",
       " (109,\n",
       "  '../datasets/drum_midi//50´s Drummer MIDI Files/02 Blues/06 Vidar Vega 70BPM/05 8th Toms.mid'),\n",
       " (110,\n",
       "  '../datasets/drum_midi//50´s Drummer MIDI Files/02 Blues/06 Vidar Vega 70BPM/06 8th Toms.mid'),\n",
       " (111,\n",
       "  '../datasets/drum_midi//50´s Drummer MIDI Files/02 Blues/06 Vidar Vega 70BPM/07 8th Ride.mid'),\n",
       " (112,\n",
       "  '../datasets/drum_midi//50´s Drummer MIDI Files/02 Blues/07 Straight 88BPM/01 8th Hat.mid'),\n",
       " (113,\n",
       "  '../datasets/drum_midi//50´s Drummer MIDI Files/02 Blues/07 Straight 88BPM/02 8th Ride.mid'),\n",
       " (114,\n",
       "  '../datasets/drum_midi//50´s Drummer MIDI Files/02 Blues/07 Straight 88BPM/03 16th Hat.mid'),\n",
       " (115,\n",
       "  '../datasets/drum_midi//50´s Drummer MIDI Files/02 Blues/07 Straight 88BPM/04 16th Perc.mid'),\n",
       " (116,\n",
       "  '../datasets/drum_midi//50´s Drummer MIDI Files/02 Blues/07 Straight 88BPM/05 8th Hat.mid'),\n",
       " (117,\n",
       "  '../datasets/drum_midi//50´s Drummer MIDI Files/02 Blues/07 Straight 88BPM/06 16th Hat.mid'),\n",
       " (118,\n",
       "  '../datasets/drum_midi//50´s Drummer MIDI Files/02 Blues/07 Straight 88BPM/07 16th Ride.mid'),\n",
       " (119,\n",
       "  '../datasets/drum_midi//50´s Drummer MIDI Files/02 Blues/08 Sams 127BPM/01 8th Hat.mid'),\n",
       " (120,\n",
       "  '../datasets/drum_midi//50´s Drummer MIDI Files/02 Blues/08 Sams 127BPM/02 8th Hat.mid'),\n",
       " (121,\n",
       "  '../datasets/drum_midi//50´s Drummer MIDI Files/02 Blues/08 Sams 127BPM/03 8th Ride.mid'),\n",
       " (122,\n",
       "  '../datasets/drum_midi//50´s Drummer MIDI Files/02 Blues/08 Sams 127BPM/04 8th Hat.mid'),\n",
       " (123,\n",
       "  '../datasets/drum_midi//50´s Drummer MIDI Files/02 Blues/08 Sams 127BPM/05 8th Perc.mid'),\n",
       " (124,\n",
       "  '../datasets/drum_midi//50´s Drummer MIDI Files/02 Blues/08 Sams 127BPM/06 8th Perc.mid'),\n",
       " (125,\n",
       "  '../datasets/drum_midi//50´s Drummer MIDI Files/02 Blues/08 Sams 127BPM/07 8th Perc.mid'),\n",
       " (126,\n",
       "  '../datasets/drum_midi//50´s Drummer MIDI Files/02 Blues/09 Leroyes 130BPM/01 8th Hat.mid'),\n",
       " (127,\n",
       "  '../datasets/drum_midi//50´s Drummer MIDI Files/02 Blues/09 Leroyes 130BPM/02 8th Hat.mid'),\n",
       " (128,\n",
       "  '../datasets/drum_midi//50´s Drummer MIDI Files/02 Blues/09 Leroyes 130BPM/03 8th Ride.mid'),\n",
       " (129,\n",
       "  '../datasets/drum_midi//50´s Drummer MIDI Files/02 Blues/09 Leroyes 130BPM/04 8th Ride.mid'),\n",
       " (130,\n",
       "  '../datasets/drum_midi//50´s Drummer MIDI Files/02 Blues/09 Leroyes 130BPM/05 8th Perc.mid'),\n",
       " (131,\n",
       "  '../datasets/drum_midi//50´s Drummer MIDI Files/02 Blues/09 Leroyes 130BPM/06 8th Perc.mid'),\n",
       " (132,\n",
       "  '../datasets/drum_midi//50´s Drummer MIDI Files/02 Blues/09 Leroyes 130BPM/07 8th Ride.mid'),\n",
       " (133,\n",
       "  '../datasets/drum_midi//50´s Drummer MIDI Files/02 Blues/10 Bogeart 122BPM/01 4th Hat.mid'),\n",
       " (134,\n",
       "  '../datasets/drum_midi//50´s Drummer MIDI Files/02 Blues/10 Bogeart 122BPM/02 8th Hat.mid'),\n",
       " (135,\n",
       "  '../datasets/drum_midi//50´s Drummer MIDI Files/02 Blues/10 Bogeart 122BPM/03 8th Ride.mid'),\n",
       " (136,\n",
       "  '../datasets/drum_midi//50´s Drummer MIDI Files/02 Blues/10 Bogeart 122BPM/04 8th Cym.mid'),\n",
       " (137,\n",
       "  '../datasets/drum_midi//50´s Drummer MIDI Files/02 Blues/10 Bogeart 122BPM/05 8th Perc.mid'),\n",
       " (138,\n",
       "  '../datasets/drum_midi//50´s Drummer MIDI Files/02 Blues/10 Bogeart 122BPM/06 8th Perc.mid'),\n",
       " (139,\n",
       "  '../datasets/drum_midi//50´s Drummer MIDI Files/02 Blues/10 Bogeart 122BPM/07 8th Toms.mid'),\n",
       " (140,\n",
       "  '../datasets/drum_midi//50´s Drummer MIDI Files/03 Traditional Pop/01 Fly High 115BPM/01 8th Hat.mid'),\n",
       " (141,\n",
       "  '../datasets/drum_midi//50´s Drummer MIDI Files/03 Traditional Pop/01 Fly High 115BPM/02 8th Hat.mid'),\n",
       " (142,\n",
       "  '../datasets/drum_midi//50´s Drummer MIDI Files/03 Traditional Pop/01 Fly High 115BPM/03 8th Hat.mid'),\n",
       " (143,\n",
       "  '../datasets/drum_midi//50´s Drummer MIDI Files/03 Traditional Pop/01 Fly High 115BPM/04 8th Hat.mid'),\n",
       " (144,\n",
       "  '../datasets/drum_midi//50´s Drummer MIDI Files/03 Traditional Pop/01 Fly High 115BPM/05 8th Ride.mid'),\n",
       " (145,\n",
       "  '../datasets/drum_midi//50´s Drummer MIDI Files/03 Traditional Pop/01 Fly High 115BPM/06 8th Ride.mid'),\n",
       " (146,\n",
       "  '../datasets/drum_midi//50´s Drummer MIDI Files/03 Traditional Pop/01 Fly High 115BPM/07 8th Multi.mid'),\n",
       " (147,\n",
       "  '../datasets/drum_midi//50´s Drummer MIDI Files/03 Traditional Pop/02 Frankies Girl 116BPM/01 8th Perc.mid'),\n",
       " (148,\n",
       "  '../datasets/drum_midi//50´s Drummer MIDI Files/03 Traditional Pop/02 Frankies Girl 116BPM/02 8th Hat.mid'),\n",
       " (149,\n",
       "  '../datasets/drum_midi//50´s Drummer MIDI Files/03 Traditional Pop/02 Frankies Girl 116BPM/03 8th Hat.mid'),\n",
       " (150,\n",
       "  '../datasets/drum_midi//50´s Drummer MIDI Files/03 Traditional Pop/02 Frankies Girl 116BPM/04 8th Ride.mid'),\n",
       " (151,\n",
       "  '../datasets/drum_midi//50´s Drummer MIDI Files/03 Traditional Pop/02 Frankies Girl 116BPM/05 8th Ride.mid'),\n",
       " (152,\n",
       "  '../datasets/drum_midi//50´s Drummer MIDI Files/03 Traditional Pop/02 Frankies Girl 116BPM/06 8th Ride.mid'),\n",
       " (153,\n",
       "  '../datasets/drum_midi//50´s Drummer MIDI Files/03 Traditional Pop/02 Frankies Girl 116BPM/07 8th Multi.mid'),\n",
       " (154,\n",
       "  '../datasets/drum_midi//50´s Drummer MIDI Files/03 Traditional Pop/03 King Quiza 102BPM/01 8th Perc.mid'),\n",
       " (155,\n",
       "  '../datasets/drum_midi//50´s Drummer MIDI Files/03 Traditional Pop/03 King Quiza 102BPM/02 8th Hat.mid'),\n",
       " (156,\n",
       "  '../datasets/drum_midi//50´s Drummer MIDI Files/03 Traditional Pop/03 King Quiza 102BPM/03 8th Ride.mid'),\n",
       " (157,\n",
       "  '../datasets/drum_midi//50´s Drummer MIDI Files/03 Traditional Pop/03 King Quiza 102BPM/04 16th Ride.mid'),\n",
       " (158,\n",
       "  '../datasets/drum_midi//50´s Drummer MIDI Files/03 Traditional Pop/03 King Quiza 102BPM/05 16th Snare.mid'),\n",
       " (159,\n",
       "  '../datasets/drum_midi//50´s Drummer MIDI Files/03 Traditional Pop/03 King Quiza 102BPM/06 16th Toms.mid'),\n",
       " (160,\n",
       "  '../datasets/drum_midi//50´s Drummer MIDI Files/03 Traditional Pop/03 King Quiza 102BPM/07 16th Multi.mid'),\n",
       " (161,\n",
       "  '../datasets/drum_midi//50´s Drummer MIDI Files/03 Traditional Pop/04 Love 155BPM/01 8th Hat.mid'),\n",
       " (162,\n",
       "  '../datasets/drum_midi//50´s Drummer MIDI Files/03 Traditional Pop/04 Love 155BPM/02 8th Hat.mid'),\n",
       " (163,\n",
       "  '../datasets/drum_midi//50´s Drummer MIDI Files/03 Traditional Pop/04 Love 155BPM/03 8th Ride.mid'),\n",
       " (164,\n",
       "  '../datasets/drum_midi//50´s Drummer MIDI Files/03 Traditional Pop/04 Love 155BPM/04 8th Ride.mid'),\n",
       " (165,\n",
       "  '../datasets/drum_midi//50´s Drummer MIDI Files/03 Traditional Pop/04 Love 155BPM/05 8th Ride.mid'),\n",
       " (166,\n",
       "  '../datasets/drum_midi//50´s Drummer MIDI Files/03 Traditional Pop/04 Love 155BPM/06 8th Hat.mid'),\n",
       " (167,\n",
       "  '../datasets/drum_midi//50´s Drummer MIDI Files/03 Traditional Pop/04 Love 155BPM/07 8th Perc.mid'),\n",
       " (168,\n",
       "  '../datasets/drum_midi//50´s Drummer MIDI Files/03 Traditional Pop/05 Your Eyes 80BPM/01 8th Ride.mid'),\n",
       " (169,\n",
       "  '../datasets/drum_midi//50´s Drummer MIDI Files/03 Traditional Pop/05 Your Eyes 80BPM/02 8th Ride.mid'),\n",
       " (170,\n",
       "  '../datasets/drum_midi//50´s Drummer MIDI Files/03 Traditional Pop/05 Your Eyes 80BPM/03 16th Ride.mid'),\n",
       " (171,\n",
       "  '../datasets/drum_midi//50´s Drummer MIDI Files/03 Traditional Pop/05 Your Eyes 80BPM/04 16th Toms.mid'),\n",
       " (172,\n",
       "  '../datasets/drum_midi//50´s Drummer MIDI Files/03 Traditional Pop/05 Your Eyes 80BPM/05 16th Hat.mid'),\n",
       " (173,\n",
       "  '../datasets/drum_midi//50´s Drummer MIDI Files/03 Traditional Pop/05 Your Eyes 80BPM/06 8th Snare.mid'),\n",
       " (174,\n",
       "  '../datasets/drum_midi//50´s Drummer MIDI Files/03 Traditional Pop/05 Your Eyes 80BPM/07 8th hat.mid'),\n",
       " (175,\n",
       "  '../datasets/drum_midi//50´s Drummer MIDI Files/03 Traditional Pop/06 Bopop 130MPM/01 8th Hat.mid'),\n",
       " (176,\n",
       "  '../datasets/drum_midi//50´s Drummer MIDI Files/03 Traditional Pop/06 Bopop 130MPM/02 8th Ride.mid'),\n",
       " (177,\n",
       "  '../datasets/drum_midi//50´s Drummer MIDI Files/03 Traditional Pop/06 Bopop 130MPM/03 8th Ride.mid'),\n",
       " (178,\n",
       "  '../datasets/drum_midi//50´s Drummer MIDI Files/03 Traditional Pop/06 Bopop 130MPM/04 8th Toms.mid'),\n",
       " (179,\n",
       "  '../datasets/drum_midi//50´s Drummer MIDI Files/03 Traditional Pop/06 Bopop 130MPM/05 8th Hat.mid'),\n",
       " (180,\n",
       "  '../datasets/drum_midi//50´s Drummer MIDI Files/03 Traditional Pop/06 Bopop 130MPM/06 8th Hat.mid'),\n",
       " (181,\n",
       "  '../datasets/drum_midi//50´s Drummer MIDI Files/03 Traditional Pop/06 Bopop 130MPM/07 8th Hat.mid'),\n",
       " (182,\n",
       "  '../datasets/drum_midi//50´s Drummer MIDI Files/03 Traditional Pop/07 Lester Lee 133BPM/01 8th Hat.mid'),\n",
       " (183,\n",
       "  '../datasets/drum_midi//50´s Drummer MIDI Files/03 Traditional Pop/07 Lester Lee 133BPM/02 8th Ride.mid'),\n",
       " (184,\n",
       "  '../datasets/drum_midi//50´s Drummer MIDI Files/03 Traditional Pop/07 Lester Lee 133BPM/03 8th Hat.mid'),\n",
       " (185,\n",
       "  '../datasets/drum_midi//50´s Drummer MIDI Files/03 Traditional Pop/07 Lester Lee 133BPM/04 8th Perc.mid'),\n",
       " (186,\n",
       "  '../datasets/drum_midi//50´s Drummer MIDI Files/03 Traditional Pop/07 Lester Lee 133BPM/05 8th Perc.mid'),\n",
       " (187,\n",
       "  '../datasets/drum_midi//50´s Drummer MIDI Files/03 Traditional Pop/07 Lester Lee 133BPM/06 8th Toms.mid'),\n",
       " (188,\n",
       "  '../datasets/drum_midi//50´s Drummer MIDI Files/03 Traditional Pop/07 Lester Lee 133BPM/07 8th Ride.mid'),\n",
       " (189,\n",
       "  '../datasets/drum_midi//50´s Drummer MIDI Files/03 Traditional Pop/08 Cecil Cee 101BPM/01 8th Ride.mid'),\n",
       " (190,\n",
       "  '../datasets/drum_midi//50´s Drummer MIDI Files/03 Traditional Pop/08 Cecil Cee 101BPM/02 8th Ride.mid'),\n",
       " (191,\n",
       "  '../datasets/drum_midi//50´s Drummer MIDI Files/03 Traditional Pop/08 Cecil Cee 101BPM/03 16th Hat.mid'),\n",
       " (192,\n",
       "  '../datasets/drum_midi//50´s Drummer MIDI Files/03 Traditional Pop/08 Cecil Cee 101BPM/04 16th Hat.mid'),\n",
       " (193,\n",
       "  '../datasets/drum_midi//50´s Drummer MIDI Files/03 Traditional Pop/08 Cecil Cee 101BPM/05 16th Hat.mid'),\n",
       " (194,\n",
       "  '../datasets/drum_midi//50´s Drummer MIDI Files/03 Traditional Pop/08 Cecil Cee 101BPM/06 16th Perc.mid'),\n",
       " (195,\n",
       "  '../datasets/drum_midi//50´s Drummer MIDI Files/03 Traditional Pop/08 Cecil Cee 101BPM/07 16th Toms.mid'),\n",
       " (196,\n",
       "  '../datasets/drum_midi//50´s Drummer MIDI Files/03 Traditional Pop/09 Distel 155BPM/01 8th Ride.mid'),\n",
       " (197,\n",
       "  '../datasets/drum_midi//50´s Drummer MIDI Files/03 Traditional Pop/09 Distel 155BPM/02 8th Ride.mid'),\n",
       " (198,\n",
       "  '../datasets/drum_midi//50´s Drummer MIDI Files/03 Traditional Pop/09 Distel 155BPM/03 8th Hat.mid'),\n",
       " (199,\n",
       "  '../datasets/drum_midi//50´s Drummer MIDI Files/03 Traditional Pop/09 Distel 155BPM/04 8th Tom.mid'),\n",
       " (200,\n",
       "  '../datasets/drum_midi//50´s Drummer MIDI Files/03 Traditional Pop/09 Distel 155BPM/05 8th Tom.mid'),\n",
       " (201,\n",
       "  '../datasets/drum_midi//50´s Drummer MIDI Files/03 Traditional Pop/09 Distel 155BPM/06 8th Perc.mid'),\n",
       " (202,\n",
       "  '../datasets/drum_midi//50´s Drummer MIDI Files/03 Traditional Pop/09 Distel 155BPM/07 8th Perc.mid'),\n",
       " (203,\n",
       "  '../datasets/drum_midi//50´s Drummer MIDI Files/03 Traditional Pop/10 Frewild 152BPM/01 4th Hat.mid'),\n",
       " (204,\n",
       "  '../datasets/drum_midi//50´s Drummer MIDI Files/03 Traditional Pop/10 Frewild 152BPM/03 16th Hat.mid'),\n",
       " (205,\n",
       "  '../datasets/drum_midi//50´s Drummer MIDI Files/03 Traditional Pop/10 Frewild 152BPM/03 4th Hat.mid'),\n",
       " (206,\n",
       "  '../datasets/drum_midi//50´s Drummer MIDI Files/03 Traditional Pop/10 Frewild 152BPM/04 16th Ride.mid'),\n",
       " (207,\n",
       "  '../datasets/drum_midi//50´s Drummer MIDI Files/03 Traditional Pop/10 Frewild 152BPM/05 16th Toms.mid'),\n",
       " (208,\n",
       "  '../datasets/drum_midi//50´s Drummer MIDI Files/03 Traditional Pop/10 Frewild 152BPM/06 16th Perc.mid'),\n",
       " (209,\n",
       "  '../datasets/drum_midi//50´s Drummer MIDI Files/03 Traditional Pop/10 Frewild 152BPM/07 16th Multi.mid'),\n",
       " (210,\n",
       "  '../datasets/drum_midi//50´s Drummer MIDI Files/04 Country/01 Calvin 148BPM/01 8th Snare.mid'),\n",
       " (211,\n",
       "  '../datasets/drum_midi//50´s Drummer MIDI Files/04 Country/01 Calvin 148BPM/02 8th Snare.mid'),\n",
       " (212,\n",
       "  '../datasets/drum_midi//50´s Drummer MIDI Files/04 Country/01 Calvin 148BPM/03 8th Snare.mid'),\n",
       " (213,\n",
       "  '../datasets/drum_midi//50´s Drummer MIDI Files/04 Country/01 Calvin 148BPM/04 8th Hat.mid'),\n",
       " (214,\n",
       "  '../datasets/drum_midi//50´s Drummer MIDI Files/04 Country/01 Calvin 148BPM/05 8th Hat.mid'),\n",
       " (215,\n",
       "  '../datasets/drum_midi//50´s Drummer MIDI Files/04 Country/01 Calvin 148BPM/06 8th Toms.mid'),\n",
       " (216,\n",
       "  '../datasets/drum_midi//50´s Drummer MIDI Files/04 Country/01 Calvin 148BPM/07 8th Multi.mid'),\n",
       " (217,\n",
       "  '../datasets/drum_midi//50´s Drummer MIDI Files/04 Country/02 Marching 94BPM/01 8th Snare.mid'),\n",
       " (218,\n",
       "  '../datasets/drum_midi//50´s Drummer MIDI Files/04 Country/02 Marching 94BPM/02 8th Snare.mid'),\n",
       " (219,\n",
       "  '../datasets/drum_midi//50´s Drummer MIDI Files/04 Country/02 Marching 94BPM/03 8th Perc.mid'),\n",
       " (220,\n",
       "  '../datasets/drum_midi//50´s Drummer MIDI Files/04 Country/02 Marching 94BPM/04 8th Toms.mid'),\n",
       " (221,\n",
       "  '../datasets/drum_midi//50´s Drummer MIDI Files/04 Country/02 Marching 94BPM/05 8th Snare.mid'),\n",
       " (222,\n",
       "  '../datasets/drum_midi//50´s Drummer MIDI Files/04 Country/02 Marching 94BPM/06 8th Multi.mid'),\n",
       " (223,\n",
       "  '../datasets/drum_midi//50´s Drummer MIDI Files/04 Country/02 Marching 94BPM/07 8th Multi.mid'),\n",
       " (224,\n",
       "  '../datasets/drum_midi//50´s Drummer MIDI Files/04 Country/03 Straight 72BPM Brushes/01 8th Snare.mid'),\n",
       " (225,\n",
       "  '../datasets/drum_midi//50´s Drummer MIDI Files/04 Country/03 Straight 72BPM Brushes/02 8th Hat.mid'),\n",
       " (226,\n",
       "  '../datasets/drum_midi//50´s Drummer MIDI Files/04 Country/03 Straight 72BPM Brushes/03 8th Snare.mid'),\n",
       " (227,\n",
       "  '../datasets/drum_midi//50´s Drummer MIDI Files/04 Country/03 Straight 72BPM Brushes/04 8th Snare.mid'),\n",
       " (228,\n",
       "  '../datasets/drum_midi//50´s Drummer MIDI Files/04 Country/03 Straight 72BPM Brushes/05 8th Multi.mid'),\n",
       " (229,\n",
       "  '../datasets/drum_midi//50´s Drummer MIDI Files/04 Country/03 Straight 72BPM Brushes/06 8th Multi.mid'),\n",
       " (230,\n",
       "  '../datasets/drum_midi//50´s Drummer MIDI Files/04 Country/03 Straight 72BPM Brushes/07 8th Snare.mid'),\n",
       " (231,\n",
       "  '../datasets/drum_midi//50´s Drummer MIDI Files/04 Country/04 Snarey 208BPM 3-4/01 8th Snare.mid'),\n",
       " (232,\n",
       "  '../datasets/drum_midi//50´s Drummer MIDI Files/04 Country/04 Snarey 208BPM 3-4/02 8th Snare.mid'),\n",
       " (233,\n",
       "  '../datasets/drum_midi//50´s Drummer MIDI Files/04 Country/04 Snarey 208BPM 3-4/03 8th Snare.mid'),\n",
       " (234,\n",
       "  '../datasets/drum_midi//50´s Drummer MIDI Files/04 Country/04 Snarey 208BPM 3-4/04 8th Snare.mid'),\n",
       " (235,\n",
       "  '../datasets/drum_midi//50´s Drummer MIDI Files/04 Country/04 Snarey 208BPM 3-4/05 8th Snare.mid'),\n",
       " (236,\n",
       "  '../datasets/drum_midi//50´s Drummer MIDI Files/04 Country/04 Snarey 208BPM 3-4/06 8th Snare.mid'),\n",
       " (237,\n",
       "  '../datasets/drum_midi//50´s Drummer MIDI Files/04 Country/04 Snarey 208BPM 3-4/07 8th Perc.mid'),\n",
       " (238,\n",
       "  '../datasets/drum_midi//50´s Drummer MIDI Files/04 Country/05 Brewer 160BPM/01 8th Perc.mid'),\n",
       " (239,\n",
       "  '../datasets/drum_midi//50´s Drummer MIDI Files/04 Country/05 Brewer 160BPM/02 8th Hat.mid'),\n",
       " (240,\n",
       "  '../datasets/drum_midi//50´s Drummer MIDI Files/04 Country/05 Brewer 160BPM/03 8th Ride.mid'),\n",
       " (241,\n",
       "  '../datasets/drum_midi//50´s Drummer MIDI Files/04 Country/05 Brewer 160BPM/04 8th Snare.mid'),\n",
       " (242,\n",
       "  '../datasets/drum_midi//50´s Drummer MIDI Files/04 Country/05 Brewer 160BPM/05 8th Toms.mid'),\n",
       " (243,\n",
       "  '../datasets/drum_midi//50´s Drummer MIDI Files/04 Country/05 Brewer 160BPM/06 8th Perc.mid'),\n",
       " (244,\n",
       "  '../datasets/drum_midi//50´s Drummer MIDI Files/04 Country/05 Brewer 160BPM/07 8th Perc.mid'),\n",
       " (245,\n",
       "  '../datasets/drum_midi//50´s Drummer MIDI Files/04 Country/06 Booker 170BPM/01 8th Hat.mid'),\n",
       " (246,\n",
       "  '../datasets/drum_midi//50´s Drummer MIDI Files/04 Country/06 Booker 170BPM/02 8th Hat.mid'),\n",
       " (247,\n",
       "  '../datasets/drum_midi//50´s Drummer MIDI Files/04 Country/06 Booker 170BPM/03 8th Hat.mid'),\n",
       " (248,\n",
       "  '../datasets/drum_midi//50´s Drummer MIDI Files/04 Country/06 Booker 170BPM/04 8th Ride.mid'),\n",
       " (249,\n",
       "  '../datasets/drum_midi//50´s Drummer MIDI Files/04 Country/06 Booker 170BPM/05 8th Perc.mid'),\n",
       " (250,\n",
       "  '../datasets/drum_midi//50´s Drummer MIDI Files/04 Country/06 Booker 170BPM/06 8th Hat.mid'),\n",
       " (251,\n",
       "  '../datasets/drum_midi//50´s Drummer MIDI Files/04 Country/06 Booker 170BPM/07 8th Hat.mid'),\n",
       " (252,\n",
       "  '../datasets/drum_midi//50´s Drummer MIDI Files/04 Country/07 Trainy 100BPM/01 16th Snare.mid'),\n",
       " (253,\n",
       "  '../datasets/drum_midi//50´s Drummer MIDI Files/04 Country/07 Trainy 100BPM/02 16th Snare.mid'),\n",
       " (254,\n",
       "  '../datasets/drum_midi//50´s Drummer MIDI Files/04 Country/07 Trainy 100BPM/03 16th Toms.mid'),\n",
       " (255,\n",
       "  '../datasets/drum_midi//50´s Drummer MIDI Files/04 Country/07 Trainy 100BPM/04 16th Toms.mid'),\n",
       " (256,\n",
       "  '../datasets/drum_midi//50´s Drummer MIDI Files/04 Country/07 Trainy 100BPM/05 16th Perc.mid'),\n",
       " (257,\n",
       "  '../datasets/drum_midi//50´s Drummer MIDI Files/04 Country/07 Trainy 100BPM/06 16th Perc.mid'),\n",
       " (258,\n",
       "  '../datasets/drum_midi//50´s Drummer MIDI Files/04 Country/07 Trainy 100BPM/07 16th Perc.mid'),\n",
       " (259,\n",
       "  '../datasets/drum_midi//50´s Drummer MIDI Files/04 Country/08 Eddie Ed 111BPM/01 8th Hat.mid'),\n",
       " (260,\n",
       "  '../datasets/drum_midi//50´s Drummer MIDI Files/04 Country/08 Eddie Ed 111BPM/02 8th Hat.mid'),\n",
       " (261,\n",
       "  '../datasets/drum_midi//50´s Drummer MIDI Files/04 Country/08 Eddie Ed 111BPM/03 8th Hat.mid'),\n",
       " (262,\n",
       "  '../datasets/drum_midi//50´s Drummer MIDI Files/04 Country/08 Eddie Ed 111BPM/04 4th Cym.mid'),\n",
       " (263,\n",
       "  '../datasets/drum_midi//50´s Drummer MIDI Files/04 Country/08 Eddie Ed 111BPM/05 8th Tom.mid'),\n",
       " (264,\n",
       "  '../datasets/drum_midi//50´s Drummer MIDI Files/04 Country/08 Eddie Ed 111BPM/06 8th Perc.mid'),\n",
       " (265,\n",
       "  '../datasets/drum_midi//50´s Drummer MIDI Files/04 Country/08 Eddie Ed 111BPM/07 8th Perc.mid'),\n",
       " (266,\n",
       "  '../datasets/drum_midi//50´s Drummer MIDI Files/04 Country/09 Broonze 122BPM/01 8th Hat.mid'),\n",
       " (267,\n",
       "  '../datasets/drum_midi//50´s Drummer MIDI Files/04 Country/09 Broonze 122BPM/02 8th Hat.mid'),\n",
       " (268,\n",
       "  '../datasets/drum_midi//50´s Drummer MIDI Files/04 Country/09 Broonze 122BPM/03 8th Ride.mid'),\n",
       " (269,\n",
       "  '../datasets/drum_midi//50´s Drummer MIDI Files/04 Country/09 Broonze 122BPM/04 8th Hat.mid'),\n",
       " (270,\n",
       "  '../datasets/drum_midi//50´s Drummer MIDI Files/04 Country/09 Broonze 122BPM/05 8th Cym.mid'),\n",
       " (271,\n",
       "  '../datasets/drum_midi//50´s Drummer MIDI Files/04 Country/09 Broonze 122BPM/06 8th Perc.mid'),\n",
       " (272,\n",
       "  '../datasets/drum_midi//50´s Drummer MIDI Files/04 Country/09 Broonze 122BPM/07 8th Tom.mid'),\n",
       " (273,\n",
       "  '../datasets/drum_midi//50´s Drummer MIDI Files/04 Country/10 Rough Rider 183BPM/01 8th Perc.mid'),\n",
       " (274,\n",
       "  '../datasets/drum_midi//50´s Drummer MIDI Files/04 Country/10 Rough Rider 183BPM/02 8th Perc.mid'),\n",
       " (275,\n",
       "  '../datasets/drum_midi//50´s Drummer MIDI Files/04 Country/10 Rough Rider 183BPM/03 8th Hat.mid'),\n",
       " (276,\n",
       "  '../datasets/drum_midi//50´s Drummer MIDI Files/04 Country/10 Rough Rider 183BPM/04 8th Ride.mid'),\n",
       " (277,\n",
       "  '../datasets/drum_midi//50´s Drummer MIDI Files/04 Country/10 Rough Rider 183BPM/05 8th Toms.mid'),\n",
       " (278,\n",
       "  '../datasets/drum_midi//50´s Drummer MIDI Files/04 Country/10 Rough Rider 183BPM/06 8th Multi.mid'),\n",
       " (279,\n",
       "  '../datasets/drum_midi//50´s Drummer MIDI Files/04 Country/10 Rough Rider 183BPM/07 8th Hat.mid'),\n",
       " (280,\n",
       "  '../datasets/drum_midi//50´s Drummer MIDI Files/05 Jazz/01 Amel 85BPM Brushes/01 8th Snare.mid'),\n",
       " (281,\n",
       "  '../datasets/drum_midi//50´s Drummer MIDI Files/05 Jazz/01 Amel 85BPM Brushes/02 8th Snare.mid'),\n",
       " (282,\n",
       "  '../datasets/drum_midi//50´s Drummer MIDI Files/05 Jazz/01 Amel 85BPM Brushes/03 8th HiHat.mid'),\n",
       " (283,\n",
       "  '../datasets/drum_midi//50´s Drummer MIDI Files/05 Jazz/01 Amel 85BPM Brushes/04 8th Snare.mid'),\n",
       " (284,\n",
       "  '../datasets/drum_midi//50´s Drummer MIDI Files/05 Jazz/01 Amel 85BPM Brushes/05 8th Ride.mid'),\n",
       " (285,\n",
       "  '../datasets/drum_midi//50´s Drummer MIDI Files/05 Jazz/01 Amel 85BPM Brushes/06 8th Hat.mid'),\n",
       " (286,\n",
       "  '../datasets/drum_midi//50´s Drummer MIDI Files/05 Jazz/01 Amel 85BPM Brushes/07 16th Ride.mid'),\n",
       " (287,\n",
       "  '../datasets/drum_midi//50´s Drummer MIDI Files/05 Jazz/02 Another You 170BPM/01 8th Ride.mid'),\n",
       " (288,\n",
       "  '../datasets/drum_midi//50´s Drummer MIDI Files/05 Jazz/02 Another You 170BPM/02 8th Ride.mid'),\n",
       " (289,\n",
       "  '../datasets/drum_midi//50´s Drummer MIDI Files/05 Jazz/02 Another You 170BPM/03 8th Ride.mid'),\n",
       " (290,\n",
       "  '../datasets/drum_midi//50´s Drummer MIDI Files/05 Jazz/02 Another You 170BPM/04 8th Snare.mid'),\n",
       " (291,\n",
       "  '../datasets/drum_midi//50´s Drummer MIDI Files/05 Jazz/02 Another You 170BPM/05 8th Multi.mid'),\n",
       " (292,\n",
       "  '../datasets/drum_midi//50´s Drummer MIDI Files/05 Jazz/02 Another You 170BPM/06 8th Multi.mid'),\n",
       " (293,\n",
       "  '../datasets/drum_midi//50´s Drummer MIDI Files/05 Jazz/02 Another You 170BPM/07 8th Multi.mid'),\n",
       " (294,\n",
       "  '../datasets/drum_midi//50´s Drummer MIDI Files/05 Jazz/03 Cool 137BPM Brushes/01 8th Toms.mid'),\n",
       " (295,\n",
       "  '../datasets/drum_midi//50´s Drummer MIDI Files/05 Jazz/03 Cool 137BPM Brushes/02 8th Snare.mid'),\n",
       " (296,\n",
       "  '../datasets/drum_midi//50´s Drummer MIDI Files/05 Jazz/03 Cool 137BPM Brushes/03 8th Multi.mid'),\n",
       " (297,\n",
       "  '../datasets/drum_midi//50´s Drummer MIDI Files/05 Jazz/03 Cool 137BPM Brushes/04 8th Toms.mid'),\n",
       " (298,\n",
       "  '../datasets/drum_midi//50´s Drummer MIDI Files/05 Jazz/03 Cool 137BPM Brushes/05 16th Snare.mid'),\n",
       " (299,\n",
       "  '../datasets/drum_midi//50´s Drummer MIDI Files/05 Jazz/03 Cool 137BPM Brushes/06 16th Toms.mid'),\n",
       " (300,\n",
       "  '../datasets/drum_midi//50´s Drummer MIDI Files/05 Jazz/03 Cool 137BPM Brushes/07 16th Ride.mid'),\n",
       " (301,\n",
       "  '../datasets/drum_midi//50´s Drummer MIDI Files/05 Jazz/04 Silent Tear 234BPM/01 8th Snare.mid'),\n",
       " (302,\n",
       "  '../datasets/drum_midi//50´s Drummer MIDI Files/05 Jazz/04 Silent Tear 234BPM/02 8th Ride.mid'),\n",
       " (303,\n",
       "  '../datasets/drum_midi//50´s Drummer MIDI Files/05 Jazz/04 Silent Tear 234BPM/03 8th Ride.mid'),\n",
       " (304,\n",
       "  '../datasets/drum_midi//50´s Drummer MIDI Files/05 Jazz/04 Silent Tear 234BPM/04 8th Snare.mid'),\n",
       " (305,\n",
       "  '../datasets/drum_midi//50´s Drummer MIDI Files/05 Jazz/04 Silent Tear 234BPM/05 8th Multi.mid'),\n",
       " (306,\n",
       "  '../datasets/drum_midi//50´s Drummer MIDI Files/05 Jazz/04 Silent Tear 234BPM/06 8th Multi.mid'),\n",
       " (307,\n",
       "  '../datasets/drum_midi//50´s Drummer MIDI Files/05 Jazz/04 Silent Tear 234BPM/07 8th ride.mid'),\n",
       " (308,\n",
       "  '../datasets/drum_midi//50´s Drummer MIDI Files/05 Jazz/05 TNT 116BPM/01 8th Ride.mid'),\n",
       " (309,\n",
       "  '../datasets/drum_midi//50´s Drummer MIDI Files/05 Jazz/05 TNT 116BPM/02 8th Snare.mid'),\n",
       " (310,\n",
       "  '../datasets/drum_midi//50´s Drummer MIDI Files/05 Jazz/05 TNT 116BPM/03 8th HiHat.mid'),\n",
       " (311,\n",
       "  '../datasets/drum_midi//50´s Drummer MIDI Files/05 Jazz/05 TNT 116BPM/04 8th Ride.mid'),\n",
       " (312,\n",
       "  '../datasets/drum_midi//50´s Drummer MIDI Files/05 Jazz/05 TNT 116BPM/05 8th Ride.mid'),\n",
       " (313,\n",
       "  '../datasets/drum_midi//50´s Drummer MIDI Files/05 Jazz/05 TNT 116BPM/06 8th Ride.mid'),\n",
       " (314,\n",
       "  '../datasets/drum_midi//50´s Drummer MIDI Files/05 Jazz/05 TNT 116BPM/07 8th Toms.mid'),\n",
       " (315,\n",
       "  '../datasets/drum_midi//50´s Drummer MIDI Files/05 Jazz/06 Nucleus 172BPM Brushes/01 8th Snare.mid'),\n",
       " (316,\n",
       "  '../datasets/drum_midi//50´s Drummer MIDI Files/05 Jazz/06 Nucleus 172BPM Brushes/02 8th Toms.mid'),\n",
       " (317,\n",
       "  '../datasets/drum_midi//50´s Drummer MIDI Files/05 Jazz/06 Nucleus 172BPM Brushes/03 8th Snare.mid'),\n",
       " (318,\n",
       "  '../datasets/drum_midi//50´s Drummer MIDI Files/05 Jazz/06 Nucleus 172BPM Brushes/04 8th Hat.mid'),\n",
       " (319,\n",
       "  '../datasets/drum_midi//50´s Drummer MIDI Files/05 Jazz/06 Nucleus 172BPM Brushes/05 8th Hat.mid'),\n",
       " (320,\n",
       "  '../datasets/drum_midi//50´s Drummer MIDI Files/05 Jazz/06 Nucleus 172BPM Brushes/06 8th Multi.mid'),\n",
       " (321,\n",
       "  '../datasets/drum_midi//50´s Drummer MIDI Files/05 Jazz/06 Nucleus 172BPM Brushes/07 8th Multi.mid'),\n",
       " (322,\n",
       "  '../datasets/drum_midi//50´s Drummer MIDI Files/05 Jazz/07 Kooper 234BPM/01 4th Multi.mid'),\n",
       " (323,\n",
       "  '../datasets/drum_midi//50´s Drummer MIDI Files/05 Jazz/07 Kooper 234BPM/02 4th Multi.mid'),\n",
       " (324,\n",
       "  '../datasets/drum_midi//50´s Drummer MIDI Files/05 Jazz/07 Kooper 234BPM/03 8th Hat.mid'),\n",
       " (325,\n",
       "  '../datasets/drum_midi//50´s Drummer MIDI Files/05 Jazz/07 Kooper 234BPM/04 8th Perc.mid'),\n",
       " (326,\n",
       "  '../datasets/drum_midi//50´s Drummer MIDI Files/05 Jazz/07 Kooper 234BPM/05 16th Toms.mid'),\n",
       " (327,\n",
       "  '../datasets/drum_midi//50´s Drummer MIDI Files/05 Jazz/07 Kooper 234BPM/06 16th Toms.mid'),\n",
       " (328,\n",
       "  '../datasets/drum_midi//50´s Drummer MIDI Files/05 Jazz/07 Kooper 234BPM/07 16th Toms.mid'),\n",
       " (329,\n",
       "  '../datasets/drum_midi//50´s Drummer MIDI Files/05 Jazz/08 Neodop 226BPM 3-4/01 16th Ride.mid'),\n",
       " (330,\n",
       "  '../datasets/drum_midi//50´s Drummer MIDI Files/05 Jazz/08 Neodop 226BPM 3-4/02 16th Ride.mid'),\n",
       " (331,\n",
       "  '../datasets/drum_midi//50´s Drummer MIDI Files/05 Jazz/08 Neodop 226BPM 3-4/03 8th Hat.mid'),\n",
       " (332,\n",
       "  '../datasets/drum_midi//50´s Drummer MIDI Files/05 Jazz/08 Neodop 226BPM 3-4/04 8th Ride.mid'),\n",
       " (333,\n",
       "  '../datasets/drum_midi//50´s Drummer MIDI Files/05 Jazz/08 Neodop 226BPM 3-4/05 8th Multi.mid'),\n",
       " (334,\n",
       "  '../datasets/drum_midi//50´s Drummer MIDI Files/05 Jazz/08 Neodop 226BPM 3-4/06 8th Multi.mid'),\n",
       " (335,\n",
       "  '../datasets/drum_midi//50´s Drummer MIDI Files/05 Jazz/08 Neodop 226BPM 3-4/07 8th Multi.mid'),\n",
       " (336,\n",
       "  '../datasets/drum_midi//50´s Drummer MIDI Files/05 Jazz/09 West Coast 152BPM Brushes/01 8th Snare.mid'),\n",
       " (337,\n",
       "  '../datasets/drum_midi//50´s Drummer MIDI Files/05 Jazz/09 West Coast 152BPM Brushes/02 8th Snare.mid'),\n",
       " (338,\n",
       "  '../datasets/drum_midi//50´s Drummer MIDI Files/05 Jazz/09 West Coast 152BPM Brushes/03 8th Snare.mid'),\n",
       " (339,\n",
       "  '../datasets/drum_midi//50´s Drummer MIDI Files/05 Jazz/09 West Coast 152BPM Brushes/04 8th Hat.mid'),\n",
       " (340,\n",
       "  '../datasets/drum_midi//50´s Drummer MIDI Files/05 Jazz/09 West Coast 152BPM Brushes/05 8th Multi.mid'),\n",
       " (341,\n",
       "  '../datasets/drum_midi//50´s Drummer MIDI Files/05 Jazz/09 West Coast 152BPM Brushes/06 8th Multi.mid'),\n",
       " (342,\n",
       "  '../datasets/drum_midi//50´s Drummer MIDI Files/05 Jazz/09 West Coast 152BPM Brushes/07 8th Multi.mid'),\n",
       " (343,\n",
       "  '../datasets/drum_midi//50´s Drummer MIDI Files/05 Jazz/10 Scalis 190BPM 3-4/01 8th Snare.mid'),\n",
       " (344,\n",
       "  '../datasets/drum_midi//50´s Drummer MIDI Files/05 Jazz/10 Scalis 190BPM 3-4/02 8th hat.mid'),\n",
       " (345,\n",
       "  '../datasets/drum_midi//50´s Drummer MIDI Files/05 Jazz/10 Scalis 190BPM 3-4/03 8th Toms.mid'),\n",
       " (346,\n",
       "  '../datasets/drum_midi//50´s Drummer MIDI Files/05 Jazz/10 Scalis 190BPM 3-4/04 8th Toms.mid'),\n",
       " (347,\n",
       "  '../datasets/drum_midi//50´s Drummer MIDI Files/05 Jazz/10 Scalis 190BPM 3-4/05 8th Multi.mid'),\n",
       " (348,\n",
       "  '../datasets/drum_midi//50´s Drummer MIDI Files/05 Jazz/10 Scalis 190BPM 3-4/06 8th Snare.mid'),\n",
       " (349,\n",
       "  '../datasets/drum_midi//50´s Drummer MIDI Files/05 Jazz/10 Scalis 190BPM 3-4/07 8th Snare.mid'),\n",
       " (350,\n",
       "  '../datasets/drum_midi//50´s Drummer MIDI Files/06 Soul - Funk/01 Soul Groove 107BPM/01 16th Hat.mid'),\n",
       " (351,\n",
       "  '../datasets/drum_midi//50´s Drummer MIDI Files/06 Soul - Funk/01 Soul Groove 107BPM/02 16th Hat.mid'),\n",
       " (352,\n",
       "  '../datasets/drum_midi//50´s Drummer MIDI Files/06 Soul - Funk/01 Soul Groove 107BPM/03 8th Hat.mid'),\n",
       " (353,\n",
       "  '../datasets/drum_midi//50´s Drummer MIDI Files/06 Soul - Funk/01 Soul Groove 107BPM/04 16th Hat.mid'),\n",
       " (354,\n",
       "  '../datasets/drum_midi//50´s Drummer MIDI Files/06 Soul - Funk/01 Soul Groove 107BPM/05 16th Hat.mid'),\n",
       " (355,\n",
       "  '../datasets/drum_midi//50´s Drummer MIDI Files/06 Soul - Funk/01 Soul Groove 107BPM/06 8th Hat.mid'),\n",
       " (356,\n",
       "  '../datasets/drum_midi//50´s Drummer MIDI Files/06 Soul - Funk/01 Soul Groove 107BPM/07 16th Hat.mid'),\n",
       " (357,\n",
       "  '../datasets/drum_midi//50´s Drummer MIDI Files/06 Soul - Funk/02 Boogaloo 120BPM/01 16th Multi.mid'),\n",
       " (358,\n",
       "  '../datasets/drum_midi//50´s Drummer MIDI Files/06 Soul - Funk/02 Boogaloo 120BPM/02 4th Multi.mid'),\n",
       " (359,\n",
       "  '../datasets/drum_midi//50´s Drummer MIDI Files/06 Soul - Funk/02 Boogaloo 120BPM/03 16th Hat.mid'),\n",
       " (360,\n",
       "  '../datasets/drum_midi//50´s Drummer MIDI Files/06 Soul - Funk/02 Boogaloo 120BPM/04 4th Multi.mid'),\n",
       " (361,\n",
       "  '../datasets/drum_midi//50´s Drummer MIDI Files/06 Soul - Funk/02 Boogaloo 120BPM/05 8th Multi.mid'),\n",
       " (362,\n",
       "  '../datasets/drum_midi//50´s Drummer MIDI Files/06 Soul - Funk/02 Boogaloo 120BPM/06 16th Hat.mid'),\n",
       " (363,\n",
       "  '../datasets/drum_midi//50´s Drummer MIDI Files/06 Soul - Funk/02 Boogaloo 120BPM/07 8th Hat.mid'),\n",
       " (364,\n",
       "  '../datasets/drum_midi//50´s Drummer MIDI Files/06 Soul - Funk/03 Cadence Soul 105BPM/01 4th Hat.mid'),\n",
       " (365,\n",
       "  '../datasets/drum_midi//50´s Drummer MIDI Files/06 Soul - Funk/03 Cadence Soul 105BPM/02 4th Hat.mid'),\n",
       " (366,\n",
       "  '../datasets/drum_midi//50´s Drummer MIDI Files/06 Soul - Funk/03 Cadence Soul 105BPM/03 8th Hat.mid'),\n",
       " (367,\n",
       "  '../datasets/drum_midi//50´s Drummer MIDI Files/06 Soul - Funk/03 Cadence Soul 105BPM/04 4th Hat.mid'),\n",
       " (368,\n",
       "  '../datasets/drum_midi//50´s Drummer MIDI Files/06 Soul - Funk/03 Cadence Soul 105BPM/05 4th Hat.mid'),\n",
       " (369,\n",
       "  '../datasets/drum_midi//50´s Drummer MIDI Files/06 Soul - Funk/03 Cadence Soul 105BPM/06 8th Cym.mid'),\n",
       " (370,\n",
       "  '../datasets/drum_midi//50´s Drummer MIDI Files/06 Soul - Funk/03 Cadence Soul 105BPM/07 8th Hat.mid'),\n",
       " (371,\n",
       "  '../datasets/drum_midi//50´s Drummer MIDI Files/06 Soul - Funk/04 GoGo Soul 100BPM/01 16th Toms.mid'),\n",
       " (372,\n",
       "  '../datasets/drum_midi//50´s Drummer MIDI Files/06 Soul - Funk/04 GoGo Soul 100BPM/02 16th Toms.mid'),\n",
       " (373,\n",
       "  '../datasets/drum_midi//50´s Drummer MIDI Files/06 Soul - Funk/04 GoGo Soul 100BPM/03 8th Hat.mid'),\n",
       " (374,\n",
       "  '../datasets/drum_midi//50´s Drummer MIDI Files/06 Soul - Funk/04 GoGo Soul 100BPM/04 8th Hat.mid'),\n",
       " (375,\n",
       "  '../datasets/drum_midi//50´s Drummer MIDI Files/06 Soul - Funk/04 GoGo Soul 100BPM/05 8th Hat.mid'),\n",
       " (376,\n",
       "  '../datasets/drum_midi//50´s Drummer MIDI Files/06 Soul - Funk/04 GoGo Soul 100BPM/06 8th Hat.mid'),\n",
       " (377,\n",
       "  '../datasets/drum_midi//50´s Drummer MIDI Files/06 Soul - Funk/04 GoGo Soul 100BPM/07 8th Hat.mid'),\n",
       " (378,\n",
       "  '../datasets/drum_midi//50´s Drummer MIDI Files/06 Soul - Funk/05 Hip Hop 95BPM/01 16th Hat.mid'),\n",
       " (379,\n",
       "  '../datasets/drum_midi//50´s Drummer MIDI Files/06 Soul - Funk/05 Hip Hop 95BPM/02 16th Hat.mid'),\n",
       " (380,\n",
       "  '../datasets/drum_midi//50´s Drummer MIDI Files/06 Soul - Funk/05 Hip Hop 95BPM/03 16th Hat.mid'),\n",
       " (381,\n",
       "  '../datasets/drum_midi//50´s Drummer MIDI Files/06 Soul - Funk/05 Hip Hop 95BPM/04 8th Hat.mid'),\n",
       " (382,\n",
       "  '../datasets/drum_midi//50´s Drummer MIDI Files/06 Soul - Funk/05 Hip Hop 95BPM/05 16th Hat.mid'),\n",
       " (383,\n",
       "  '../datasets/drum_midi//50´s Drummer MIDI Files/06 Soul - Funk/05 Hip Hop 95BPM/06 16th Hat.mid'),\n",
       " (384,\n",
       "  '../datasets/drum_midi//50´s Drummer MIDI Files/06 Soul - Funk/05 Hip Hop 95BPM/07 16th Hat.mid'),\n",
       " (385,\n",
       "  '../datasets/drum_midi//50´s Drummer MIDI Files/06 Soul - Funk/06 JB Groove 115BPM/01 4th Hat.mid'),\n",
       " (386,\n",
       "  '../datasets/drum_midi//50´s Drummer MIDI Files/06 Soul - Funk/06 JB Groove 115BPM/02 16th Hat.mid'),\n",
       " (387,\n",
       "  '../datasets/drum_midi//50´s Drummer MIDI Files/06 Soul - Funk/06 JB Groove 115BPM/03 4th Hat.mid'),\n",
       " (388,\n",
       "  '../datasets/drum_midi//50´s Drummer MIDI Files/06 Soul - Funk/06 JB Groove 115BPM/04 4th Hat.mid'),\n",
       " (389,\n",
       "  '../datasets/drum_midi//50´s Drummer MIDI Files/06 Soul - Funk/06 JB Groove 115BPM/05 4th Hat.mid'),\n",
       " (390,\n",
       "  '../datasets/drum_midi//50´s Drummer MIDI Files/06 Soul - Funk/06 JB Groove 115BPM/06 8th Cym.mid'),\n",
       " (391,\n",
       "  '../datasets/drum_midi//50´s Drummer MIDI Files/06 Soul - Funk/06 JB Groove 115BPM/07 8th Cym.mid'),\n",
       " (392,\n",
       "  '../datasets/drum_midi//50´s Drummer MIDI Files/06 Soul - Funk/07 Ride Swing 95Bpm/01 8th Cym.mid'),\n",
       " (393,\n",
       "  '../datasets/drum_midi//50´s Drummer MIDI Files/06 Soul - Funk/07 Ride Swing 95Bpm/02 8th Cym.mid'),\n",
       " (394,\n",
       "  '../datasets/drum_midi//50´s Drummer MIDI Files/06 Soul - Funk/07 Ride Swing 95Bpm/03 8th Cym.mid'),\n",
       " (395,\n",
       "  '../datasets/drum_midi//50´s Drummer MIDI Files/06 Soul - Funk/07 Ride Swing 95Bpm/04 8th Cym.mid'),\n",
       " (396,\n",
       "  '../datasets/drum_midi//50´s Drummer MIDI Files/06 Soul - Funk/07 Ride Swing 95Bpm/05 8th Hat.mid'),\n",
       " (397,\n",
       "  '../datasets/drum_midi//50´s Drummer MIDI Files/06 Soul - Funk/07 Ride Swing 95Bpm/06 8th Hat.mid'),\n",
       " (398,\n",
       "  '../datasets/drum_midi//50´s Drummer MIDI Files/06 Soul - Funk/07 Ride Swing 95Bpm/07 8th Hat.mid'),\n",
       " (399,\n",
       "  '../datasets/drum_midi//50´s Drummer MIDI Files/06 Soul - Funk/08 Rim Soul 90BPM/01 4th Hat.mid'),\n",
       " (400,\n",
       "  '../datasets/drum_midi//50´s Drummer MIDI Files/06 Soul - Funk/08 Rim Soul 90BPM/02 4th Hat.mid'),\n",
       " (401,\n",
       "  '../datasets/drum_midi//50´s Drummer MIDI Files/06 Soul - Funk/08 Rim Soul 90BPM/03 4th Hat.mid'),\n",
       " (402,\n",
       "  '../datasets/drum_midi//50´s Drummer MIDI Files/06 Soul - Funk/08 Rim Soul 90BPM/04 16th Hat.mid'),\n",
       " (403,\n",
       "  '../datasets/drum_midi//50´s Drummer MIDI Files/06 Soul - Funk/08 Rim Soul 90BPM/05 16th Hat.mid'),\n",
       " (404,\n",
       "  '../datasets/drum_midi//50´s Drummer MIDI Files/06 Soul - Funk/08 Rim Soul 90BPM/06 16th Hat.mid'),\n",
       " (405,\n",
       "  '../datasets/drum_midi//50´s Drummer MIDI Files/06 Soul - Funk/08 Rim Soul 90BPM/07 16th Hat.mid'),\n",
       " (406,\n",
       "  '../datasets/drum_midi//50´s Drummer MIDI Files/06 Soul - Funk/09 Smooth Soul 81BPM/01 16th Hat.mid'),\n",
       " (407,\n",
       "  '../datasets/drum_midi//50´s Drummer MIDI Files/06 Soul - Funk/09 Smooth Soul 81BPM/02 16th Hat.mid'),\n",
       " (408,\n",
       "  '../datasets/drum_midi//50´s Drummer MIDI Files/06 Soul - Funk/09 Smooth Soul 81BPM/03 16th Hat.mid'),\n",
       " (409,\n",
       "  '../datasets/drum_midi//50´s Drummer MIDI Files/06 Soul - Funk/09 Smooth Soul 81BPM/04 16th Hat.mid'),\n",
       " (410,\n",
       "  '../datasets/drum_midi//50´s Drummer MIDI Files/06 Soul - Funk/09 Smooth Soul 81BPM/05 16th Hat.mid'),\n",
       " (411,\n",
       "  '../datasets/drum_midi//50´s Drummer MIDI Files/06 Soul - Funk/09 Smooth Soul 81BPM/06 16th Hat.mid'),\n",
       " (412,\n",
       "  '../datasets/drum_midi//50´s Drummer MIDI Files/06 Soul - Funk/09 Smooth Soul 81BPM/07 16th Hat.mid'),\n",
       " (413,\n",
       "  '../datasets/drum_midi//50´s Drummer MIDI Files/06 Soul - Funk/10 Syncopated Ride 128BPM/01 16th Cym.mid'),\n",
       " (414,\n",
       "  '../datasets/drum_midi//50´s Drummer MIDI Files/06 Soul - Funk/10 Syncopated Ride 128BPM/02 16th Cym.mid'),\n",
       " (415,\n",
       "  '../datasets/drum_midi//50´s Drummer MIDI Files/06 Soul - Funk/10 Syncopated Ride 128BPM/03 16th Cym.mid'),\n",
       " (416,\n",
       "  '../datasets/drum_midi//50´s Drummer MIDI Files/06 Soul - Funk/10 Syncopated Ride 128BPM/04 16th Hat.mid'),\n",
       " (417,\n",
       "  '../datasets/drum_midi//50´s Drummer MIDI Files/06 Soul - Funk/10 Syncopated Ride 128BPM/05 16th Hat.mid'),\n",
       " (418,\n",
       "  '../datasets/drum_midi//50´s Drummer MIDI Files/06 Soul - Funk/10 Syncopated Ride 128BPM/06 16th Cym.mid'),\n",
       " (419,\n",
       "  '../datasets/drum_midi//50´s Drummer MIDI Files/06 Soul - Funk/10 Syncopated Ride 128BPM/07 16th Hat.mid'),\n",
       " (420,\n",
       "  '../datasets/drum_midi//50´s Drummer MIDI Files/07 Indie/01 Rock Shuffle 130BPM/01 8th Toms.mid'),\n",
       " (421,\n",
       "  '../datasets/drum_midi//50´s Drummer MIDI Files/07 Indie/01 Rock Shuffle 130BPM/02 8th Hat.mid'),\n",
       " (422,\n",
       "  '../datasets/drum_midi//50´s Drummer MIDI Files/07 Indie/01 Rock Shuffle 130BPM/03 8th Cym.mid'),\n",
       " (423,\n",
       "  '../datasets/drum_midi//50´s Drummer MIDI Files/07 Indie/01 Rock Shuffle 130BPM/04 4th Cym.mid'),\n",
       " (424,\n",
       "  '../datasets/drum_midi//50´s Drummer MIDI Files/07 Indie/01 Rock Shuffle 130BPM/05 12th Hat.mid'),\n",
       " (425,\n",
       "  '../datasets/drum_midi//50´s Drummer MIDI Files/07 Indie/01 Rock Shuffle 130BPM/06 4th Hat.mid'),\n",
       " (426,\n",
       "  '../datasets/drum_midi//50´s Drummer MIDI Files/07 Indie/01 Rock Shuffle 130BPM/07 12th Toms.mid'),\n",
       " (427,\n",
       "  '../datasets/drum_midi//50´s Drummer MIDI Files/07 Indie/02 Rock Tribal 125BPM/01 4th Toms.mid'),\n",
       " (428,\n",
       "  '../datasets/drum_midi//50´s Drummer MIDI Files/07 Indie/02 Rock Tribal 125BPM/02 16th Hat.mid'),\n",
       " (429,\n",
       "  '../datasets/drum_midi//50´s Drummer MIDI Files/07 Indie/02 Rock Tribal 125BPM/03 4th Toms.mid'),\n",
       " (430,\n",
       "  '../datasets/drum_midi//50´s Drummer MIDI Files/07 Indie/02 Rock Tribal 125BPM/04 8th Cym.mid'),\n",
       " (431,\n",
       "  '../datasets/drum_midi//50´s Drummer MIDI Files/07 Indie/02 Rock Tribal 125BPM/05 2th Toms.mid'),\n",
       " (432,\n",
       "  '../datasets/drum_midi//50´s Drummer MIDI Files/07 Indie/02 Rock Tribal 125BPM/06 16th Hat.mid'),\n",
       " (433,\n",
       "  '../datasets/drum_midi//50´s Drummer MIDI Files/07 Indie/02 Rock Tribal 125BPM/07 16th Cym.mid'),\n",
       " (434,\n",
       "  '../datasets/drum_midi//50´s Drummer MIDI Files/07 Indie/03 Moon 137BPM/01 8th Cym.mid'),\n",
       " (435,\n",
       "  '../datasets/drum_midi//50´s Drummer MIDI Files/07 Indie/03 Moon 137BPM/02 8th Hat.mid'),\n",
       " (436,\n",
       "  '../datasets/drum_midi//50´s Drummer MIDI Files/07 Indie/03 Moon 137BPM/03 8th Cym.mid'),\n",
       " (437,\n",
       "  '../datasets/drum_midi//50´s Drummer MIDI Files/07 Indie/03 Moon 137BPM/04 2th Toms.mid'),\n",
       " (438,\n",
       "  '../datasets/drum_midi//50´s Drummer MIDI Files/07 Indie/03 Moon 137BPM/05 4th Cym.mid'),\n",
       " (439,\n",
       "  '../datasets/drum_midi//50´s Drummer MIDI Files/07 Indie/03 Moon 137BPM/06 16th Hat.mid'),\n",
       " (440,\n",
       "  '../datasets/drum_midi//50´s Drummer MIDI Files/07 Indie/03 Moon 137BPM/07 8th Toms.mid'),\n",
       " (441,\n",
       "  '../datasets/drum_midi//50´s Drummer MIDI Files/07 Indie/04 Titanic 97BPM/01 8th Hat.mid'),\n",
       " (442,\n",
       "  '../datasets/drum_midi//50´s Drummer MIDI Files/07 Indie/04 Titanic 97BPM/02 16th Hat.mid'),\n",
       " (443,\n",
       "  '../datasets/drum_midi//50´s Drummer MIDI Files/07 Indie/04 Titanic 97BPM/03 4th Cym.mid'),\n",
       " (444,\n",
       "  '../datasets/drum_midi//50´s Drummer MIDI Files/07 Indie/04 Titanic 97BPM/04 8th Cym.mid'),\n",
       " (445,\n",
       "  '../datasets/drum_midi//50´s Drummer MIDI Files/07 Indie/04 Titanic 97BPM/05 8th Hat.mid'),\n",
       " (446,\n",
       "  '../datasets/drum_midi//50´s Drummer MIDI Files/07 Indie/04 Titanic 97BPM/06 8th Toms.mid'),\n",
       " (447,\n",
       "  '../datasets/drum_midi//50´s Drummer MIDI Files/07 Indie/04 Titanic 97BPM/07 16th Cym.mid'),\n",
       " (448,\n",
       "  '../datasets/drum_midi//50´s Drummer MIDI Files/07 Indie/05 Halftime 71BPM/01 16th Hat.mid'),\n",
       " (449,\n",
       "  '../datasets/drum_midi//50´s Drummer MIDI Files/07 Indie/05 Halftime 71BPM/02 16th Cym.mid'),\n",
       " (450,\n",
       "  '../datasets/drum_midi//50´s Drummer MIDI Files/07 Indie/05 Halftime 71BPM/03 16th Perc.mid'),\n",
       " (451,\n",
       "  '../datasets/drum_midi//50´s Drummer MIDI Files/07 Indie/05 Halftime 71BPM/04 16th Cym.mid'),\n",
       " (452,\n",
       "  '../datasets/drum_midi//50´s Drummer MIDI Files/07 Indie/05 Halftime 71BPM/05 16th Toms.mid'),\n",
       " (453,\n",
       "  '../datasets/drum_midi//50´s Drummer MIDI Files/07 Indie/05 Halftime 71BPM/06 16th Ride.mid'),\n",
       " (454,\n",
       "  '../datasets/drum_midi//50´s Drummer MIDI Files/07 Indie/05 Halftime 71BPM/07 8th Toms.mid'),\n",
       " (455,\n",
       "  '../datasets/drum_midi//50´s Drummer MIDI Files/07 Indie/06 Swing Funk 102BPM/01 8th Hat.mid'),\n",
       " (456,\n",
       "  '../datasets/drum_midi//50´s Drummer MIDI Files/07 Indie/06 Swing Funk 102BPM/02 8th Cym.mid'),\n",
       " (457,\n",
       "  '../datasets/drum_midi//50´s Drummer MIDI Files/07 Indie/06 Swing Funk 102BPM/03 8th Hat.mid'),\n",
       " (458,\n",
       "  '../datasets/drum_midi//50´s Drummer MIDI Files/07 Indie/06 Swing Funk 102BPM/04 8th Cym.mid'),\n",
       " (459,\n",
       "  '../datasets/drum_midi//50´s Drummer MIDI Files/07 Indie/06 Swing Funk 102BPM/05 8th Hat.mid'),\n",
       " (460,\n",
       "  '../datasets/drum_midi//50´s Drummer MIDI Files/07 Indie/06 Swing Funk 102BPM/06 8th Cym.mid'),\n",
       " (461,\n",
       "  '../datasets/drum_midi//50´s Drummer MIDI Files/07 Indie/06 Swing Funk 102BPM/07 8th Cym.mid'),\n",
       " (462,\n",
       "  '../datasets/drum_midi//50´s Drummer MIDI Files/07 Indie/07 Rock Keeler 133BPM/01 8th Hat.mid'),\n",
       " (463,\n",
       "  '../datasets/drum_midi//50´s Drummer MIDI Files/07 Indie/07 Rock Keeler 133BPM/02 4th Hat.mid'),\n",
       " (464,\n",
       "  '../datasets/drum_midi//50´s Drummer MIDI Files/07 Indie/07 Rock Keeler 133BPM/03 8th Toms.mid'),\n",
       " (465,\n",
       "  '../datasets/drum_midi//50´s Drummer MIDI Files/07 Indie/07 Rock Keeler 133BPM/04 8th Perc.mid'),\n",
       " (466,\n",
       "  '../datasets/drum_midi//50´s Drummer MIDI Files/07 Indie/07 Rock Keeler 133BPM/05 8th Hat.mid'),\n",
       " (467,\n",
       "  '../datasets/drum_midi//50´s Drummer MIDI Files/07 Indie/07 Rock Keeler 133BPM/06 8th Cym.mid'),\n",
       " (468,\n",
       "  '../datasets/drum_midi//50´s Drummer MIDI Files/07 Indie/07 Rock Keeler 133BPM/07 4th Cym.mid'),\n",
       " (469,\n",
       "  '../datasets/drum_midi//50´s Drummer MIDI Files/07 Indie/08 Bouncer 162BPM/01 8th Cym.mid'),\n",
       " (470,\n",
       "  '../datasets/drum_midi//50´s Drummer MIDI Files/07 Indie/08 Bouncer 162BPM/02 8th Hat.mid'),\n",
       " (471,\n",
       "  '../datasets/drum_midi//50´s Drummer MIDI Files/07 Indie/08 Bouncer 162BPM/03 4th Hat.mid'),\n",
       " (472,\n",
       "  '../datasets/drum_midi//50´s Drummer MIDI Files/07 Indie/08 Bouncer 162BPM/04 8th Cym.mid'),\n",
       " (473,\n",
       "  '../datasets/drum_midi//50´s Drummer MIDI Files/07 Indie/08 Bouncer 162BPM/05 8th Hat.mid'),\n",
       " (474,\n",
       "  '../datasets/drum_midi//50´s Drummer MIDI Files/07 Indie/08 Bouncer 162BPM/06 8th Hat.mid'),\n",
       " (475,\n",
       "  '../datasets/drum_midi//50´s Drummer MIDI Files/07 Indie/08 Bouncer 162BPM/07 8th Cym.mid'),\n",
       " (476,\n",
       "  '../datasets/drum_midi//50´s Drummer MIDI Files/07 Indie/09 Slow Shuffle 80BPM/01 4th Toms.mid'),\n",
       " (477,\n",
       "  '../datasets/drum_midi//50´s Drummer MIDI Files/07 Indie/09 Slow Shuffle 80BPM/02 16th Hat.mid'),\n",
       " (478,\n",
       "  '../datasets/drum_midi//50´s Drummer MIDI Files/07 Indie/09 Slow Shuffle 80BPM/03 16th Hat.mid'),\n",
       " (479,\n",
       "  '../datasets/drum_midi//50´s Drummer MIDI Files/07 Indie/09 Slow Shuffle 80BPM/04 16th Cym.mid'),\n",
       " (480,\n",
       "  '../datasets/drum_midi//50´s Drummer MIDI Files/07 Indie/09 Slow Shuffle 80BPM/05 8th Toms.mid'),\n",
       " (481,\n",
       "  '../datasets/drum_midi//50´s Drummer MIDI Files/07 Indie/09 Slow Shuffle 80BPM/06 8th Toms.mid'),\n",
       " (482,\n",
       "  '../datasets/drum_midi//50´s Drummer MIDI Files/07 Indie/09 Slow Shuffle 80BPM/07 16th Cym.mid'),\n",
       " (483,\n",
       "  '../datasets/drum_midi//50´s Drummer MIDI Files/07 Indie/10 Chilled 120BPM/01 8th Cym.mid'),\n",
       " (484,\n",
       "  '../datasets/drum_midi//50´s Drummer MIDI Files/07 Indie/10 Chilled 120BPM/02 8th Hat.mid'),\n",
       " (485,\n",
       "  '../datasets/drum_midi//50´s Drummer MIDI Files/07 Indie/10 Chilled 120BPM/03 8th Cym.mid'),\n",
       " (486,\n",
       "  '../datasets/drum_midi//50´s Drummer MIDI Files/07 Indie/10 Chilled 120BPM/04 8th Hat.mid'),\n",
       " (487,\n",
       "  '../datasets/drum_midi//50´s Drummer MIDI Files/07 Indie/10 Chilled 120BPM/05 16th Hat.mid'),\n",
       " (488,\n",
       "  '../datasets/drum_midi//50´s Drummer MIDI Files/07 Indie/10 Chilled 120BPM/06 8th Toms.mid'),\n",
       " (489,\n",
       "  '../datasets/drum_midi//50´s Drummer MIDI Files/07 Indie/10 Chilled 120BPM/07 8th Toms.mid'),\n",
       " (490,\n",
       "  '../datasets/drum_midi//50´s Drummer MIDI Files/07 Indie/11 Disco Dancer 135BPM/01 4th Hat .mid'),\n",
       " (491,\n",
       "  '../datasets/drum_midi//50´s Drummer MIDI Files/07 Indie/11 Disco Dancer 135BPM/02 8th Hat.mid'),\n",
       " (492,\n",
       "  '../datasets/drum_midi//50´s Drummer MIDI Files/07 Indie/11 Disco Dancer 135BPM/03 8th Hat.mid'),\n",
       " (493,\n",
       "  '../datasets/drum_midi//50´s Drummer MIDI Files/07 Indie/11 Disco Dancer 135BPM/04 16th Hat.mid'),\n",
       " (494,\n",
       "  '../datasets/drum_midi//50´s Drummer MIDI Files/07 Indie/11 Disco Dancer 135BPM/05 8th Cym.mid'),\n",
       " (495,\n",
       "  '../datasets/drum_midi//50´s Drummer MIDI Files/07 Indie/11 Disco Dancer 135BPM/06 4th Cym.mid'),\n",
       " (496,\n",
       "  '../datasets/drum_midi//50´s Drummer MIDI Files/07 Indie/11 Disco Dancer 135BPM/07 4th Perc.mid'),\n",
       " (497,\n",
       "  '../datasets/drum_midi//50´s Drummer MIDI Files/07 Indie/12 Sticks Up 155BPM/01 8th Perc.mid'),\n",
       " (498,\n",
       "  '../datasets/drum_midi//50´s Drummer MIDI Files/07 Indie/12 Sticks Up 155BPM/02 8th Hat.mid'),\n",
       " (499,\n",
       "  '../datasets/drum_midi//50´s Drummer MIDI Files/07 Indie/12 Sticks Up 155BPM/03 16th Hat.mid')]"
      ]
     },
     "execution_count": 7,
     "metadata": {},
     "output_type": "execute_result"
    }
   ],
   "source": [
    "[(i,k) for i,k in enumerate(labels)]"
   ]
  },
  {
   "cell_type": "code",
   "execution_count": 8,
   "metadata": {},
   "outputs": [
    {
     "data": {
      "text/plain": [
       "(500, 40, 7, 1)"
      ]
     },
     "execution_count": 8,
     "metadata": {},
     "output_type": "execute_result"
    }
   ],
   "source": [
    "x_train.shape"
   ]
  },
  {
   "cell_type": "code",
   "execution_count": 9,
   "metadata": {},
   "outputs": [
    {
     "data": {
      "text/plain": [
       "((500, 40, 7, 1), 450)"
      ]
     },
     "execution_count": 9,
     "metadata": {},
     "output_type": "execute_result"
    }
   ],
   "source": [
    "m = int(x_train.shape[0] * 0.9)\n",
    "x_train.shape, m"
   ]
  },
  {
   "cell_type": "code",
   "execution_count": 10,
   "metadata": {},
   "outputs": [],
   "source": [
    "x_test = x_train[m:]\n",
    "x_train = x_train[:m]"
   ]
  },
  {
   "cell_type": "code",
   "execution_count": 11,
   "metadata": {},
   "outputs": [
    {
     "name": "stdout",
     "output_type": "stream",
     "text": [
      "m (40, 7)\n"
     ]
    },
    {
     "data": {
      "image/png": "[encoded data removed]",
      "text/plain": [
       "<matplotlib.figure.Figure at 0x1194177b8>"
      ]
     },
     "metadata": {},
     "output_type": "display_data"
    },
    {
     "name": "stdout",
     "output_type": "stream",
     "text": [
      "m (40, 7)\n"
     ]
    },
    {
     "data": {
      "image/png": "[encoded data removed]",
      "text/plain": [
       "<matplotlib.figure.Figure at 0x105a21da0>"
      ]
     },
     "metadata": {},
     "output_type": "display_data"
    },
    {
     "data": {
      "text/plain": [
       "array([\"../datasets/drum_midi//50´s Drummer MIDI Files/01 Rock'n'Roll/01 Dancin Rick 166BPM/01 8th Hat.mid\",\n",
       "       '../datasets/drum_midi//50´s Drummer MIDI Files/06 Soul - Funk/08 Rim Soul 90BPM/01 4th Hat.mid'],\n",
       "      dtype='<U106')"
      ]
     },
     "execution_count": 11,
     "metadata": {},
     "output_type": "execute_result"
    }
   ],
   "source": [
    "i = 0\n",
    "j = 399\n",
    "plot.single(x_train[i, :50,:,0])\n",
    "plot.single(x_train[j, :50,:,0])\n",
    "# plot.single(x_train[2, :50,:,0])\n",
    "np.array(labels)[[i,j]]"
   ]
  },
  {
   "cell_type": "code",
   "execution_count": 123,
   "metadata": {},
   "outputs": [
    {
     "data": {
      "text/plain": [
       "(40, 7, 1)"
      ]
     },
     "execution_count": 123,
     "metadata": {},
     "output_type": "execute_result"
    }
   ],
   "source": [
    "input_shape = x_train[0].shape\n",
    "timesteps = input_shape[0]\n",
    "notes = input_shape[1]\n",
    "input_shape"
   ]
  },
  {
   "cell_type": "code",
   "execution_count": 124,
   "metadata": {},
   "outputs": [],
   "source": [
    "latent_dim = 5\n",
    "epsilon_std = 1.0"
   ]
  },
  {
   "cell_type": "code",
   "execution_count": 125,
   "metadata": {},
   "outputs": [],
   "source": [
    "def encoder(input_shape, dropout=0.1):\n",
    "    encoder_input = Input(shape=input_shape)\n",
    "    nodes = np.prod(input_shape)\n",
    "    timesteps, notes, channels = input_shape\n",
    "    \n",
    "    # Convolution\n",
    "    h = encoder_input\n",
    "    k = (2,1)\n",
    "    s = (2,1)\n",
    "    \n",
    "    h = Reshape((timesteps, notes))(h)\n",
    "    h = Conv1D(64, kernel_size=2, strides=1, activation='relu', padding='valid')(h)\n",
    "    \n",
    "    h = Bidirectional(LSTM(128))(h)\n",
    "\n",
    "    # Z Mean, Variance\n",
    "    z_mean = Dense(latent_dim, name='z_mean')(h) # , activation='relu'\n",
    "    z_log_var = Dense(latent_dim, name='z_log_var')(h) # , activation='relu'\n",
    "        \n",
    "    encoder_output = [z_mean, z_log_var]\n",
    "    encoder_model = Model(encoder_input, encoder_output, name='encoder_model-')\n",
    "#     print('Extra params:', [k.count_params() for k in [rnn, reshape, capsule]])\n",
    "\n",
    "    return encoder_model, encoder_input, z_mean, z_log_var"
   ]
  },
  {
   "cell_type": "code",
   "execution_count": 126,
   "metadata": {
    "scrolled": false
   },
   "outputs": [
    {
     "name": "stdout",
     "output_type": "stream",
     "text": [
      "__________________________________________________________________________________________________\n",
      "Layer (type)                    Output Shape         Param #     Connected to                     \n",
      "==================================================================================================\n",
      "input_7 (InputLayer)            (None, 40, 7, 1)     0                                            \n",
      "__________________________________________________________________________________________________\n",
      "reshape_21 (Reshape)            (None, 40, 7)        0           input_7[0][0]                    \n",
      "__________________________________________________________________________________________________\n",
      "conv1d_6 (Conv1D)               (None, 39, 64)       960         reshape_21[0][0]                 \n",
      "__________________________________________________________________________________________________\n",
      "bidirectional_6 (Bidirectional) (None, 256)          197632      conv1d_6[0][0]                   \n",
      "__________________________________________________________________________________________________\n",
      "z_mean (Dense)                  (None, 5)            1285        bidirectional_6[0][0]            \n",
      "__________________________________________________________________________________________________\n",
      "z_log_var (Dense)               (None, 5)            1285        bidirectional_6[0][0]            \n",
      "==================================================================================================\n",
      "Total params: 201,162\n",
      "Trainable params: 201,162\n",
      "Non-trainable params: 0\n",
      "__________________________________________________________________________________________________\n"
     ]
    }
   ],
   "source": [
    "encoder_model, encoder_input, z_mean, z_log_var = encoder(input_shape)\n",
    "encoder_model.summary()"
   ]
  },
  {
   "cell_type": "code",
   "execution_count": 127,
   "metadata": {},
   "outputs": [],
   "source": [
    "sample_ = lambda args: models.sample(args, z_mean, z_log_var, latent_dim, epsilon_std)"
   ]
  },
  {
   "cell_type": "code",
   "execution_count": 128,
   "metadata": {},
   "outputs": [],
   "source": [
    "# z = Lambda(sampling)([z_mean, z_log_var])\n",
    "z_input = encoder_model(encoder_input)\n",
    "z_output = Lambda(sample_)(z_input)\n",
    "# z_output = Lambda(sampl_, output_shape=(latent_dim,))(encoder_input)"
   ]
  },
  {
   "cell_type": "code",
   "execution_count": 164,
   "metadata": {},
   "outputs": [],
   "source": [
    "def list_decoders(output_shape):\n",
    "    # decoder_input = z_output\n",
    "    # h = decoder_input\n",
    "    # :output_shape = (timesteps, channels, channels) || (batches, filters, timesteps, channels)\n",
    "    # keras offers just Conv2DTranspose and not Conv1DTranspose\n",
    "    # - use 2D images during upsampling :: (timesteps, notes, channels) => (timesteps, notes, filters)\n",
    "    # - use 1D images to optimize reconstruction :: (timesteps, filters) => (timesteps, notes)\n",
    "    \n",
    "    # image_data_format = 'channels_last'\n",
    "    # goal shape: (timesteps, notes, channels)\n",
    "    # start with the 'reverse': lots of small imgs => few large img\n",
    "    \n",
    "    timesteps, notes, channels = output_shape\n",
    "\n",
    "    # keras.examples.variational_autoencoder_deconv.py\n",
    "    decoders = []\n",
    "    decoders += [ Dense(256) ]\n",
    "    decoders += [ LeakyReLU(alpha=0.3) ]\n",
    "    \n",
    "    # add a bypass layer\n",
    "    w = 256\n",
    "    decoders += [ Dense(w, activation='relu') ]\n",
    "    extra_decoders = []\n",
    "    for _ in range(3):\n",
    "        extra_decoders += [ Dense(w, activation='elu', bias_initializer='zeros') ]\n",
    "\n",
    "    extra_d = Lambda(lambda layer: utils.composition(extra_decoders, layer))\n",
    "    decoders += [ Lambda(lambda layer: Add()([layer, extra_d(layer)])) ]\n",
    "    \n",
    "    decoders += [ BatchNormalization(momentum=0.9) ]\n",
    "    n = 5\n",
    "#     n += 1\n",
    "    decoders += [ RepeatVector(n) ]\n",
    "    decoders += [ Bidirectional(LSTM(128, return_sequences=True)) ]\n",
    "#     decoders += [ BatchNormalization(momentum=0.9, axis=1) ]\n",
    "\n",
    "    \n",
    "    # Embedding decoder\n",
    "    \n",
    "    embedding_len = int(timesteps / n)\n",
    "    filters = 250\n",
    "    decoders += [ TimeDistributed(Dense(filters, activation='relu')) ]\n",
    "#     decoders += [ Reshape((timesteps, int(filters*n/timesteps),)) ]\n",
    "    decoders += [ TimeDistributed(Dense(notes * embedding_len, activation='sigmoid')) ]\n",
    "    decoders += [ Reshape((timesteps, notes, 1)) ]\n",
    "    \n",
    "#     n = 4\n",
    "#     dim1, dim2, filters = n, int(timesteps/n), 250\n",
    "#     decoders += [ Reshape((n, int(w/n))) ]\n",
    "#     decoders += [ TimeDistributed(Dense(filters, activation='relu')) ]\n",
    "#     print(n*w/timesteps, timesteps, filters, n, timesteps*n*w/timesteps)\n",
    "# #     decoders += [ Reshape((timesteps, int(n*filters/timesteps) )) ]\n",
    "# #     decoders += [ Reshape((int(timesteps * filters*n/timesteps),)) ]\n",
    "#     decoders += [ Reshape((timesteps, int(filters*n/timesteps),)) ]\n",
    "# #     decoders += [ Reshape((40, 256)) ]\n",
    "\n",
    "#     decoders += [ TimeDistributed(Dense(notes, activation='sigmoid')) ]\n",
    "#     decoders += [ Reshape((timesteps, notes, 1)) ]\n",
    "\n",
    "    return decoders"
   ]
  },
  {
   "cell_type": "code",
   "execution_count": 165,
   "metadata": {},
   "outputs": [],
   "source": [
    "decoders = list_decoders(input_shape)"
   ]
  },
  {
   "cell_type": "code",
   "execution_count": 166,
   "metadata": {},
   "outputs": [],
   "source": [
    "decoded = utils.composition(decoders, z_output, verbose=False)\n",
    "# layer1, = layers"
   ]
  },
  {
   "cell_type": "code",
   "execution_count": 167,
   "metadata": {},
   "outputs": [],
   "source": [
    "# layer1.output"
   ]
  },
  {
   "cell_type": "code",
   "execution_count": 168,
   "metadata": {},
   "outputs": [
    {
     "name": "stdout",
     "output_type": "stream",
     "text": [
      "__________________________________________________________________________________________________\n",
      "Layer (type)                    Output Shape         Param #     Connected to                     \n",
      "==================================================================================================\n",
      "input_7 (InputLayer)            (None, 40, 7, 1)     0                                            \n",
      "__________________________________________________________________________________________________\n",
      "encoder_model- (Model)          [(None, 5), (None, 5 201162      input_7[0][0]                    \n",
      "__________________________________________________________________________________________________\n",
      "lambda_17 (Lambda)              (None, 5)            0           encoder_model-[1][0]             \n",
      "                                                                 encoder_model-[1][1]             \n",
      "__________________________________________________________________________________________________\n",
      "dense_81 (Dense)                (None, 256)          1536        lambda_17[0][0]                  \n",
      "__________________________________________________________________________________________________\n",
      "leaky_re_lu_14 (LeakyReLU)      (None, 256)          0           dense_81[0][0]                   \n",
      "__________________________________________________________________________________________________\n",
      "dense_82 (Dense)                (None, 256)          65792       leaky_re_lu_14[0][0]             \n",
      "__________________________________________________________________________________________________\n",
      "lambda_35 (Lambda)              (None, 256)          0           dense_82[0][0]                   \n",
      "__________________________________________________________________________________________________\n",
      "batch_normalization_14 (BatchNo (None, 256)          1024        lambda_35[0][0]                  \n",
      "__________________________________________________________________________________________________\n",
      "repeat_vector_9 (RepeatVector)  (None, 5, 256)       0           batch_normalization_14[0][0]     \n",
      "__________________________________________________________________________________________________\n",
      "bidirectional_15 (Bidirectional (None, 5, 256)       394240      repeat_vector_9[0][0]            \n",
      "__________________________________________________________________________________________________\n",
      "time_distributed_16 (TimeDistri (None, 5, 250)       64250       bidirectional_15[0][0]           \n",
      "__________________________________________________________________________________________________\n",
      "time_distributed_17 (TimeDistri (None, 5, 56)        14056       time_distributed_16[0][0]        \n",
      "__________________________________________________________________________________________________\n",
      "reshape_26 (Reshape)            (None, 40, 7, 1)     0           time_distributed_17[0][0]        \n",
      "==================================================================================================\n",
      "Total params: 742,060\n",
      "Trainable params: 741,548\n",
      "Non-trainable params: 512\n",
      "__________________________________________________________________________________________________\n"
     ]
    }
   ],
   "source": [
    "# instantiate VAE model\n",
    "vae_input = encoder_input\n",
    "vae_output = decoded\n",
    "vae = Model(vae_input, vae_output)\n",
    "vae.summary()"
   ]
  },
  {
   "cell_type": "code",
   "execution_count": 169,
   "metadata": {
    "scrolled": true
   },
   "outputs": [
    {
     "name": "stderr",
     "output_type": "stream",
     "text": [
      "/Library/Frameworks/Python.framework/Versions/3.6/lib/python3.6/site-packages/ipykernel_launcher.py:16: UserWarning: Output \"reshape_26\" missing from loss dictionary. We assume this was done on purpose, and we will not be expecting any data to be passed to \"reshape_26\" during training.\n",
      "  app.launch_new_instance()\n"
     ]
    }
   ],
   "source": [
    "# Compute VAE loss\n",
    "def vae_loss(beta=1.):\n",
    "#     beta = ((1.0 - tf.pow(hparams.beta_rate, tf.to_float(self.global_step)))\n",
    "#             * hparams.max_beta)\n",
    "#     self.loss = tf.reduce_mean(r_loss) + beta * tf.reduce_mean(kl_cost)\n",
    "    # y_true, y_pred, z_mean, z_log_var, timesteps=150, notes=3, beta=1.\n",
    "    xent_loss = timesteps * notes * keras.metrics.binary_crossentropy(K.flatten(vae_input), K.flatten(vae_output))\n",
    "    kl_loss = - 0.5 * K.sum(1 + z_log_var - K.square(z_mean) - K.exp(z_log_var), axis=-1)\n",
    "    # kl_loss = max(kl_loss, free_bits)\n",
    "    mse = K.mean(keras.losses.mean_absolute_error(vae_input, vae_output))\n",
    "    vae_loss = K.mean(xent_loss + beta * kl_loss + 0.2 * mse)\n",
    "    return vae_loss\n",
    "\n",
    "vae_loss = vae_loss(beta=0.5)\n",
    "vae.add_loss(vae_loss)\n",
    "vae.compile(optimizer='adam')\n",
    "# vae.compile(optimizer=optimizer, loss=loss, metrics=metrics)"
   ]
  },
  {
   "cell_type": "code",
   "execution_count": 170,
   "metadata": {},
   "outputs": [
    {
     "data": {
      "text/plain": [
       "(None, 5)"
      ]
     },
     "execution_count": 170,
     "metadata": {},
     "output_type": "execute_result"
    }
   ],
   "source": [
    "K.int_shape(z_mean)"
   ]
  },
  {
   "cell_type": "code",
   "execution_count": 171,
   "metadata": {},
   "outputs": [],
   "source": [
    "batch_size = 50\n",
    "epochs = 150\n",
    "params = {'batch_size': batch_size, 'return_y': False}"
   ]
  },
  {
   "cell_type": "code",
   "execution_count": 172,
   "metadata": {},
   "outputs": [],
   "source": [
    "phase_mod = 0.01\n",
    "whitening = False"
   ]
  },
  {
   "cell_type": "code",
   "execution_count": 173,
   "metadata": {
    "scrolled": true
   },
   "outputs": [
    {
     "name": "stdout",
     "output_type": "stream",
     "text": [
      "x: (80, 40, 7, 1)\n",
      "batch_size: 50\n",
      "update-iterations: 240\n",
      "Train on 80 samples, validate on 50 samples\n",
      "Epoch 1/150\n",
      "80/80 [==============================] - 15s 183ms/step - loss: 189.2230 - val_loss: 172.0675\n",
      "Epoch 2/150\n",
      "80/80 [==============================] - 0s 6ms/step - loss: 164.6892 - val_loss: 148.8042\n",
      "Epoch 3/150\n",
      "80/80 [==============================] - 0s 6ms/step - loss: 136.4159 - val_loss: 112.2174\n",
      "Epoch 4/150\n",
      "80/80 [==============================] - 0s 6ms/step - loss: 103.1368 - val_loss: 82.6318\n",
      "Epoch 5/150\n",
      "80/80 [==============================] - 0s 6ms/step - loss: 71.9854 - val_loss: 68.1976\n",
      "Epoch 6/150\n",
      "80/80 [==============================] - 0s 6ms/step - loss: 56.7427 - val_loss: 68.7528\n",
      "Epoch 7/150\n",
      "80/80 [==============================] - 0s 6ms/step - loss: 50.7524 - val_loss: 69.9627\n",
      "Epoch 8/150\n",
      "80/80 [==============================] - 0s 6ms/step - loss: 49.6546 - val_loss: 66.9791\n",
      "Epoch 9/150\n",
      "80/80 [==============================] - 0s 6ms/step - loss: 47.7983 - val_loss: 61.4168\n",
      "Epoch 10/150\n",
      "80/80 [==============================] - 0s 5ms/step - loss: 45.1919 - val_loss: 58.3010\n",
      "Epoch 11/150\n",
      "80/80 [==============================] - 0s 6ms/step - loss: 43.6744 - val_loss: 56.8525\n",
      "Epoch 12/150\n",
      "80/80 [==============================] - 0s 5ms/step - loss: 43.0567 - val_loss: 57.2769\n",
      "Epoch 13/150\n",
      "80/80 [==============================] - 0s 5ms/step - loss: 42.2494 - val_loss: 56.5733\n",
      "Epoch 14/150\n",
      "80/80 [==============================] - 0s 5ms/step - loss: 41.9864 - val_loss: 56.7855\n",
      "Epoch 15/150\n",
      "80/80 [==============================] - 0s 5ms/step - loss: 41.8100 - val_loss: 56.0029\n",
      "Epoch 16/150\n",
      "80/80 [==============================] - 0s 5ms/step - loss: 41.3212 - val_loss: 56.2313\n",
      "Epoch 17/150\n",
      "80/80 [==============================] - 0s 6ms/step - loss: 41.1927 - val_loss: 55.9534\n",
      "Epoch 18/150\n",
      "80/80 [==============================] - 0s 6ms/step - loss: 40.8241 - val_loss: 55.4248\n",
      "Epoch 19/150\n",
      "80/80 [==============================] - 0s 6ms/step - loss: 40.7035 - val_loss: 55.3893\n",
      "Epoch 20/150\n",
      "80/80 [==============================] - 0s 6ms/step - loss: 40.4657 - val_loss: 55.1635\n",
      "Epoch 21/150\n",
      "80/80 [==============================] - 0s 6ms/step - loss: 40.2152 - val_loss: 54.6899\n",
      "Epoch 22/150\n",
      "80/80 [==============================] - 0s 6ms/step - loss: 40.2836 - val_loss: 54.6732\n",
      "Epoch 23/150\n",
      "80/80 [==============================] - 0s 5ms/step - loss: 39.8412 - val_loss: 54.5122\n",
      "Epoch 24/150\n",
      "80/80 [==============================] - 0s 6ms/step - loss: 39.8837 - val_loss: 54.6600\n",
      "Epoch 25/150\n",
      "80/80 [==============================] - 0s 6ms/step - loss: 39.7882 - val_loss: 54.5332\n",
      "Epoch 26/150\n",
      "80/80 [==============================] - 1s 7ms/step - loss: 39.5564 - val_loss: 54.2827\n",
      "Epoch 27/150\n",
      "80/80 [==============================] - 0s 5ms/step - loss: 39.6507 - val_loss: 54.2159\n",
      "Epoch 28/150\n",
      "80/80 [==============================] - 0s 6ms/step - loss: 39.0996 - val_loss: 54.2748\n",
      "Epoch 29/150\n",
      "80/80 [==============================] - 0s 6ms/step - loss: 39.0643 - val_loss: 54.0416\n",
      "Epoch 30/150\n",
      "80/80 [==============================] - 0s 6ms/step - loss: 38.9420 - val_loss: 54.0416\n",
      "Epoch 31/150\n",
      "80/80 [==============================] - 0s 6ms/step - loss: 38.5694 - val_loss: 53.9808\n",
      "Epoch 32/150\n",
      "80/80 [==============================] - 0s 5ms/step - loss: 38.7839 - val_loss: 53.8912\n",
      "Epoch 33/150\n",
      "80/80 [==============================] - 0s 6ms/step - loss: 38.2944 - val_loss: 53.9417\n",
      "Epoch 34/150\n",
      "80/80 [==============================] - 0s 6ms/step - loss: 38.3058 - val_loss: 53.4361\n",
      "Epoch 35/150\n",
      "80/80 [==============================] - 0s 6ms/step - loss: 37.9573 - val_loss: 53.6397\n",
      "Epoch 36/150\n",
      "80/80 [==============================] - 0s 5ms/step - loss: 37.5309 - val_loss: 53.0695\n",
      "Epoch 37/150\n",
      "80/80 [==============================] - 0s 6ms/step - loss: 36.9181 - val_loss: 52.8876\n",
      "Epoch 38/150\n",
      "80/80 [==============================] - 0s 6ms/step - loss: 36.4409 - val_loss: 52.5810\n",
      "Epoch 39/150\n",
      "80/80 [==============================] - 0s 6ms/step - loss: 35.4136 - val_loss: 52.9669\n",
      "Epoch 40/150\n",
      "80/80 [==============================] - 1s 7ms/step - loss: 35.3483 - val_loss: 53.5902\n",
      "Epoch 41/150\n",
      "80/80 [==============================] - 1s 7ms/step - loss: 34.5570 - val_loss: 53.7082\n",
      "Epoch 42/150\n",
      "80/80 [==============================] - 0s 6ms/step - loss: 34.0454 - val_loss: 53.7511\n",
      "Epoch 43/150\n",
      "80/80 [==============================] - 0s 6ms/step - loss: 33.9888 - val_loss: 52.9515\n",
      "Epoch 44/150\n",
      "80/80 [==============================] - 1s 7ms/step - loss: 33.2543 - val_loss: 53.5438\n",
      "Epoch 45/150\n",
      "80/80 [==============================] - 1s 6ms/step - loss: 32.9935 - val_loss: 53.6661\n",
      "Epoch 46/150\n",
      "80/80 [==============================] - 1s 7ms/step - loss: 32.9293 - val_loss: 54.0120\n",
      "Epoch 47/150\n",
      "80/80 [==============================] - 1s 6ms/step - loss: 32.3306 - val_loss: 54.1260\n",
      "Epoch 48/150\n",
      "80/80 [==============================] - 0s 6ms/step - loss: 32.1297 - val_loss: 55.0761\n",
      "Epoch 49/150\n",
      "80/80 [==============================] - 1s 6ms/step - loss: 31.6444 - val_loss: 53.3930\n",
      "Epoch 50/150\n",
      "80/80 [==============================] - 1s 8ms/step - loss: 30.9076 - val_loss: 53.5230\n",
      "Epoch 51/150\n",
      "80/80 [==============================] - 0s 6ms/step - loss: 31.3358 - val_loss: 54.6458\n",
      "Epoch 52/150\n",
      "80/80 [==============================] - 1s 7ms/step - loss: 30.9752 - val_loss: 54.0245\n",
      "Epoch 53/150\n",
      "80/80 [==============================] - 1s 7ms/step - loss: 30.1917 - val_loss: 53.8751\n",
      "Epoch 54/150\n",
      "80/80 [==============================] - 0s 6ms/step - loss: 29.7939 - val_loss: 53.4734\n",
      "Epoch 55/150\n",
      "80/80 [==============================] - 0s 6ms/step - loss: 29.0209 - val_loss: 53.3459\n",
      "Epoch 56/150\n",
      "80/80 [==============================] - 0s 6ms/step - loss: 28.6378 - val_loss: 54.2163\n",
      "Epoch 57/150\n",
      "80/80 [==============================] - 1s 6ms/step - loss: 28.1250 - val_loss: 55.5575\n",
      "Epoch 58/150\n",
      "80/80 [==============================] - 1s 6ms/step - loss: 27.7708 - val_loss: 53.3151\n",
      "Epoch 59/150\n",
      "80/80 [==============================] - 1s 7ms/step - loss: 27.7048 - val_loss: 56.1867\n",
      "Epoch 60/150\n",
      "80/80 [==============================] - 1s 12ms/step - loss: 27.2840 - val_loss: 54.3879\n",
      "Epoch 61/150\n",
      "80/80 [==============================] - 1s 12ms/step - loss: 26.7207 - val_loss: 54.4714\n",
      "Epoch 62/150\n",
      "80/80 [==============================] - 1s 8ms/step - loss: 26.0675 - val_loss: 53.5193\n",
      "Epoch 63/150\n",
      "80/80 [==============================] - 1s 8ms/step - loss: 25.7170 - val_loss: 53.9961\n",
      "Epoch 64/150\n",
      "80/80 [==============================] - 1s 8ms/step - loss: 25.3660 - val_loss: 53.5609\n",
      "Epoch 65/150\n",
      "80/80 [==============================] - 1s 7ms/step - loss: 24.9769 - val_loss: 53.7794\n",
      "Epoch 66/150\n",
      "80/80 [==============================] - 1s 7ms/step - loss: 24.6625 - val_loss: 54.7403\n",
      "Epoch 67/150\n",
      "80/80 [==============================] - 1s 8ms/step - loss: 24.8436 - val_loss: 55.1614\n",
      "Epoch 68/150\n",
      "80/80 [==============================] - 1s 7ms/step - loss: 24.4454 - val_loss: 54.6800\n",
      "Epoch 69/150\n",
      "80/80 [==============================] - 1s 8ms/step - loss: 24.2296 - val_loss: 62.1743\n",
      "Epoch 70/150\n",
      "80/80 [==============================] - 1s 7ms/step - loss: 24.0586 - val_loss: 61.8231\n",
      "Epoch 71/150\n",
      "80/80 [==============================] - 1s 8ms/step - loss: 23.6101 - val_loss: 58.6111\n",
      "Epoch 72/150\n",
      "80/80 [==============================] - 1s 11ms/step - loss: 23.2533 - val_loss: 57.8311\n",
      "Epoch 73/150\n",
      "80/80 [==============================] - 1s 12ms/step - loss: 22.9677 - val_loss: 59.6074\n",
      "Epoch 74/150\n",
      "80/80 [==============================] - 1s 11ms/step - loss: 22.2777 - val_loss: 58.6799\n",
      "Epoch 75/150\n",
      "80/80 [==============================] - 1s 8ms/step - loss: 22.2921 - val_loss: 56.2165\n",
      "Epoch 76/150\n",
      "80/80 [==============================] - 1s 8ms/step - loss: 21.7454 - val_loss: 57.3047\n",
      "Epoch 77/150\n",
      "80/80 [==============================] - 1s 9ms/step - loss: 21.4401 - val_loss: 59.1131\n",
      "Epoch 78/150\n",
      "80/80 [==============================] - 1s 8ms/step - loss: 21.3157 - val_loss: 58.7002\n",
      "Epoch 79/150\n",
      "80/80 [==============================] - 1s 7ms/step - loss: 21.4008 - val_loss: 58.6107\n",
      "Epoch 80/150\n"
     ]
    },
    {
     "name": "stdout",
     "output_type": "stream",
     "text": [
      "80/80 [==============================] - 1s 7ms/step - loss: 20.7084 - val_loss: 63.7029\n",
      "Epoch 81/150\n",
      "80/80 [==============================] - 1s 6ms/step - loss: 20.5739 - val_loss: 58.8047\n",
      "Epoch 82/150\n",
      "80/80 [==============================] - 1s 7ms/step - loss: 21.3103 - val_loss: 56.5382\n",
      "Epoch 83/150\n",
      "80/80 [==============================] - 0s 6ms/step - loss: 20.8849 - val_loss: 57.6085\n",
      "Epoch 84/150\n",
      "80/80 [==============================] - 0s 6ms/step - loss: 20.8496 - val_loss: 59.3847\n",
      "Epoch 85/150\n",
      "80/80 [==============================] - 0s 5ms/step - loss: 20.4130 - val_loss: 59.4446\n",
      "Epoch 86/150\n",
      "80/80 [==============================] - 1s 7ms/step - loss: 20.9625 - val_loss: 65.2169\n",
      "Epoch 87/150\n",
      "80/80 [==============================] - 0s 6ms/step - loss: 19.8802 - val_loss: 67.7850\n",
      "Epoch 88/150\n",
      "80/80 [==============================] - 1s 6ms/step - loss: 20.3810 - val_loss: 64.4802\n",
      "Epoch 89/150\n",
      "80/80 [==============================] - 0s 6ms/step - loss: 20.1015 - val_loss: 62.0670\n",
      "Epoch 90/150\n",
      "80/80 [==============================] - 0s 5ms/step - loss: 19.8000 - val_loss: 64.6674\n",
      "Epoch 91/150\n",
      "80/80 [==============================] - 0s 6ms/step - loss: 19.2815 - val_loss: 64.5894\n",
      "Epoch 92/150\n",
      "80/80 [==============================] - 0s 6ms/step - loss: 19.7723 - val_loss: 59.8274\n",
      "Epoch 93/150\n",
      "80/80 [==============================] - 0s 6ms/step - loss: 19.6793 - val_loss: 58.3478\n",
      "Epoch 94/150\n",
      "80/80 [==============================] - 1s 7ms/step - loss: 19.2936 - val_loss: 65.3550\n",
      "Epoch 95/150\n",
      "80/80 [==============================] - 0s 6ms/step - loss: 19.7102 - val_loss: 71.0449\n",
      "Epoch 96/150\n",
      "80/80 [==============================] - 0s 6ms/step - loss: 19.9270 - val_loss: 66.1370\n",
      "Epoch 97/150\n",
      "80/80 [==============================] - 1s 7ms/step - loss: 19.2501 - val_loss: 64.2860\n",
      "Epoch 98/150\n",
      "80/80 [==============================] - 1s 7ms/step - loss: 19.9768 - val_loss: 71.1296\n",
      "Epoch 99/150\n",
      "80/80 [==============================] - 0s 6ms/step - loss: 19.3829 - val_loss: 65.1586\n",
      "Epoch 100/150\n",
      "80/80 [==============================] - 0s 6ms/step - loss: 18.7959 - val_loss: 62.9529\n",
      "Epoch 101/150\n",
      "80/80 [==============================] - 1s 6ms/step - loss: 18.6555 - val_loss: 63.2227\n",
      "Epoch 102/150\n",
      "80/80 [==============================] - 0s 6ms/step - loss: 18.8304 - val_loss: 64.0939\n",
      "Epoch 103/150\n",
      "80/80 [==============================] - 0s 6ms/step - loss: 18.6569 - val_loss: 62.7444\n",
      "Epoch 104/150\n",
      "80/80 [==============================] - 0s 6ms/step - loss: 18.7903 - val_loss: 69.0852\n",
      "Epoch 105/150\n",
      "80/80 [==============================] - 0s 6ms/step - loss: 18.7392 - val_loss: 67.8554\n",
      "Epoch 106/150\n",
      "80/80 [==============================] - 0s 6ms/step - loss: 18.6989 - val_loss: 65.6366\n",
      "Epoch 107/150\n",
      "80/80 [==============================] - 0s 6ms/step - loss: 18.0497 - val_loss: 64.3159\n",
      "Epoch 108/150\n",
      "80/80 [==============================] - 1s 7ms/step - loss: 18.0433 - val_loss: 66.3543\n",
      "Epoch 109/150\n",
      "80/80 [==============================] - 0s 6ms/step - loss: 18.5946 - val_loss: 65.3863\n",
      "Epoch 110/150\n",
      "80/80 [==============================] - 1s 8ms/step - loss: 18.1365 - val_loss: 64.2821\n",
      "Epoch 111/150\n",
      "80/80 [==============================] - 1s 6ms/step - loss: 18.0345 - val_loss: 64.1312\n",
      "Epoch 112/150\n",
      "80/80 [==============================] - 0s 6ms/step - loss: 18.2701 - val_loss: 65.1340\n",
      "Epoch 113/150\n",
      "80/80 [==============================] - 0s 6ms/step - loss: 18.0178 - val_loss: 68.7945\n",
      "Epoch 114/150\n",
      "80/80 [==============================] - 1s 7ms/step - loss: 18.0344 - val_loss: 70.3627\n",
      "Epoch 115/150\n",
      "80/80 [==============================] - 1s 6ms/step - loss: 17.5930 - val_loss: 72.3265\n",
      "Epoch 116/150\n",
      "80/80 [==============================] - 1s 7ms/step - loss: 17.5102 - val_loss: 72.4720\n",
      "Epoch 117/150\n",
      "80/80 [==============================] - 1s 7ms/step - loss: 18.0359 - val_loss: 68.9756\n",
      "Epoch 118/150\n",
      "80/80 [==============================] - 0s 6ms/step - loss: 17.4775 - val_loss: 70.9420\n",
      "Epoch 119/150\n",
      "80/80 [==============================] - 0s 6ms/step - loss: 17.5210 - val_loss: 71.8234\n",
      "Epoch 120/150\n",
      "80/80 [==============================] - 1s 6ms/step - loss: 17.5044 - val_loss: 72.5519\n",
      "Epoch 121/150\n",
      "80/80 [==============================] - 1s 7ms/step - loss: 17.7036 - val_loss: 71.9147\n",
      "Epoch 122/150\n",
      "80/80 [==============================] - 1s 6ms/step - loss: 17.2926 - val_loss: 74.2683\n",
      "Epoch 123/150\n",
      "80/80 [==============================] - 1s 7ms/step - loss: 17.2937 - val_loss: 72.8711\n",
      "Epoch 124/150\n",
      "80/80 [==============================] - 1s 6ms/step - loss: 17.5105 - val_loss: 72.1728\n",
      "Epoch 125/150\n",
      "80/80 [==============================] - 1s 7ms/step - loss: 17.0870 - val_loss: 70.6916\n",
      "Epoch 126/150\n",
      "80/80 [==============================] - 1s 6ms/step - loss: 17.5047 - val_loss: 71.6159\n",
      "Epoch 127/150\n",
      "80/80 [==============================] - 1s 6ms/step - loss: 17.3139 - val_loss: 73.3633\n",
      "Epoch 128/150\n",
      "80/80 [==============================] - 0s 6ms/step - loss: 17.1622 - val_loss: 73.0138\n",
      "Epoch 129/150\n",
      "80/80 [==============================] - 1s 7ms/step - loss: 17.3662 - val_loss: 67.4033\n",
      "Epoch 130/150\n",
      "80/80 [==============================] - 1s 7ms/step - loss: 17.2927 - val_loss: 67.3444\n",
      "Epoch 131/150\n",
      "80/80 [==============================] - 1s 6ms/step - loss: 17.2770 - val_loss: 69.4958\n",
      "Epoch 132/150\n",
      "80/80 [==============================] - 1s 9ms/step - loss: 17.1183 - val_loss: 69.5401\n",
      "Epoch 133/150\n",
      "80/80 [==============================] - 0s 5ms/step - loss: 17.3435 - val_loss: 72.0888\n",
      "Epoch 134/150\n",
      "80/80 [==============================] - 0s 6ms/step - loss: 17.6061 - val_loss: 75.3636\n",
      "Epoch 135/150\n",
      "80/80 [==============================] - 0s 6ms/step - loss: 17.5845 - val_loss: 73.2440\n",
      "Epoch 136/150\n",
      "80/80 [==============================] - 1s 6ms/step - loss: 17.5064 - val_loss: 70.5535\n",
      "Epoch 137/150\n",
      "80/80 [==============================] - 0s 5ms/step - loss: 17.7815 - val_loss: 72.5801\n",
      "Epoch 138/150\n",
      "80/80 [==============================] - 0s 6ms/step - loss: 17.1049 - val_loss: 72.8722\n",
      "Epoch 139/150\n",
      "80/80 [==============================] - 0s 6ms/step - loss: 17.1784 - val_loss: 73.5953\n",
      "Epoch 140/150\n",
      "80/80 [==============================] - 0s 5ms/step - loss: 17.2690 - val_loss: 75.3693\n",
      "Epoch 141/150\n",
      "80/80 [==============================] - 0s 6ms/step - loss: 17.2294 - val_loss: 75.7460\n",
      "Epoch 142/150\n",
      "80/80 [==============================] - 0s 6ms/step - loss: 17.8637 - val_loss: 72.2294\n",
      "Epoch 143/150\n",
      "80/80 [==============================] - 1s 8ms/step - loss: 17.1096 - val_loss: 74.8705\n",
      "Epoch 144/150\n",
      "80/80 [==============================] - 1s 8ms/step - loss: 17.2214 - val_loss: 78.7345\n",
      "Epoch 145/150\n",
      "80/80 [==============================] - 1s 8ms/step - loss: 18.1700 - val_loss: 74.1150\n",
      "Epoch 146/150\n",
      "80/80 [==============================] - 1s 7ms/step - loss: 17.0644 - val_loss: 70.2947\n",
      "Epoch 147/150\n",
      "80/80 [==============================] - 1s 7ms/step - loss: 17.0757 - val_loss: 71.3478\n",
      "Epoch 148/150\n",
      "80/80 [==============================] - 1s 7ms/step - loss: 16.8436 - val_loss: 71.9444\n",
      "Epoch 149/150\n",
      "80/80 [==============================] - 1s 7ms/step - loss: 17.1849 - val_loss: 71.9220\n",
      "Epoch 150/150\n",
      "80/80 [==============================] - 1s 6ms/step - loss: 16.8158 - val_loss: 73.2198\n"
     ]
    }
   ],
   "source": [
    "m = 10\n",
    "useDataGenerator = False\n",
    "# useDataGenerator = True\n",
    "\n",
    "x = x_train[:m]\n",
    "x = x_train\n",
    "i = [0,1, 7,8, 14,15, 399,400]\n",
    "x = x_train[i]\n",
    "x = np.concatenate([x for _ in range(10)])\n",
    "print('x:', x.shape)\n",
    "\n",
    "print('batch_size: %i' % batch_size)\n",
    "print('update-iterations:', round(epochs * x.shape[0] / batch_size))\n",
    "if useDataGenerator:\n",
    "    datagen = models.ImageDataGenerator(x_train, batch_size, phase_mod, whitening)\n",
    "    history = collections.defaultdict(list)\n",
    "    n_batches = datagen.__len__()\n",
    "    for e in range(epochs):\n",
    "        print('\\n[Epoch %i/%i] >>>>>>>>>' % (e, epochs))\n",
    "        for batch_i, (x_batch, y_batch) in enumerate(datagen.flow(x, x, batch_size)):\n",
    "            print(' Batch %i/%i' % (batch_i,n_batches))\n",
    "            x_ = x_batch\n",
    "            # x_ = datagen.shuffle_3rd_dim(x_)\n",
    "            # x_ = datagen.shuffle_3rd_dim_soft(x_, rate=0.5, scale=0.1, verbose=0)\n",
    "            h = vae.fit(x_, validation_data=(x_test, None), verbose=0)\n",
    "            for k,v in h.history.items(): \n",
    "                print(' \\\\_%s' % k, [round(v_,) for v_ in v])\n",
    "                history[k].append(v)\n",
    "            if batch_i >= n_batches:\n",
    "                break\n",
    "else:\n",
    "    h = vae.fit(x, epochs=epochs, validation_data=(x_test, None))\n",
    "    history = h.history"
   ]
  },
  {
   "cell_type": "code",
   "execution_count": 174,
   "metadata": {},
   "outputs": [
    {
     "data": {
      "text/plain": [
       "[<matplotlib.lines.Line2D at 0x148065a20>]"
      ]
     },
     "execution_count": 174,
     "metadata": {},
     "output_type": "execute_result"
    },
    {
     "data": {
      "image/png": "[encoded data removed]",
      "text/plain": [
       "<matplotlib.figure.Figure at 0x148065cc0>"
      ]
     },
     "metadata": {},
     "output_type": "display_data"
    }
   ],
   "source": [
    "plt.plot(history['loss'])\n",
    "plt.plot(history['val_loss'])"
   ]
  },
  {
   "cell_type": "code",
   "execution_count": 178,
   "metadata": {},
   "outputs": [
    {
     "data": {
      "text/plain": [
       "(80, 40, 7, 1)"
      ]
     },
     "execution_count": 178,
     "metadata": {},
     "output_type": "execute_result"
    }
   ],
   "source": [
    "x.shape"
   ]
  },
  {
   "cell_type": "code",
   "execution_count": 181,
   "metadata": {},
   "outputs": [
    {
     "name": "stdout",
     "output_type": "stream",
     "text": [
      "m (40, 7, 1)\n"
     ]
    },
    {
     "data": {
      "image/png": "[encoded data removed]",
      "text/plain": [
       "<matplotlib.figure.Figure at 0x151ca8f60>"
      ]
     },
     "metadata": {},
     "output_type": "display_data"
    },
    {
     "name": "stdout",
     "output_type": "stream",
     "text": [
      "m (40, 7, 1)\n"
     ]
    },
    {
     "data": {
      "image/png": "[encoded data removed]",
      "text/plain": [
       "<matplotlib.figure.Figure at 0x151ca8ef0>"
      ]
     },
     "metadata": {},
     "output_type": "display_data"
    },
    {
     "name": "stdout",
     "output_type": "stream",
     "text": [
      "m (40, 7, 1)\n"
     ]
    },
    {
     "data": {
      "image/png": "[encoded data removed]",
      "text/plain": [
       "<matplotlib.figure.Figure at 0x14e552cf8>"
      ]
     },
     "metadata": {},
     "output_type": "display_data"
    },
    {
     "name": "stdout",
     "output_type": "stream",
     "text": [
      "m (40, 7, 1)\n"
     ]
    },
    {
     "data": {
      "image/png": "[encoded data removed]",
      "text/plain": [
       "<matplotlib.figure.Figure at 0x14e2ba710>"
      ]
     },
     "metadata": {},
     "output_type": "display_data"
    }
   ],
   "source": [
    "i = 0\n",
    "j = 30\n",
    "y = vae.predict(x_train[:500])\n",
    "plot.single(x_train[i])\n",
    "plot.single(y[i])\n",
    "plot.single(x_train[j])\n",
    "plot.single(y[j])"
   ]
  },
  {
   "cell_type": "code",
   "execution_count": 180,
   "metadata": {},
   "outputs": [],
   "source": [
    "# x = datagen.shuffle_3rd_dim_soft(x_train[:10], rate=1, intensity=2, scale=1, verbose=1)\n",
    "# i = 0\n",
    "# plot.single(x_train[i,:,:,0])\n",
    "# plot.single(x[i,:,:,0])\n",
    "# x_ = vae.predict(x)\n",
    "# plot.single(x_[i,:,:,0])"
   ]
  },
  {
   "cell_type": "code",
   "execution_count": 120,
   "metadata": {},
   "outputs": [
    {
     "data": {
      "text/plain": [
       "(80, 40, 7, 1)"
      ]
     },
     "execution_count": 120,
     "metadata": {},
     "output_type": "execute_result"
    }
   ],
   "source": [
    "x.shape"
   ]
  },
  {
   "cell_type": "code",
   "execution_count": 121,
   "metadata": {},
   "outputs": [
    {
     "name": "stdout",
     "output_type": "stream",
     "text": [
      "m (30, 7)\n"
     ]
    },
    {
     "data": {
      "image/png": "[encoded data removed]",
      "text/plain": [
       "<matplotlib.figure.Figure at 0x13e249630>"
      ]
     },
     "metadata": {},
     "output_type": "display_data"
    }
   ],
   "source": [
    "# min: these pixels are 'always' active\n",
    "m = x.min(axis=0)\n",
    "plot.multi(m[:30,:,0])"
   ]
  },
  {
   "cell_type": "code",
   "execution_count": 122,
   "metadata": {},
   "outputs": [
    {
     "name": "stdout",
     "output_type": "stream",
     "text": [
      "m (30, 7)\n"
     ]
    },
    {
     "data": {
      "image/png": "[encoded data removed]",
      "text/plain": [
       "<matplotlib.figure.Figure at 0x13e436ac8>"
      ]
     },
     "metadata": {},
     "output_type": "display_data"
    }
   ],
   "source": [
    "# mean\n",
    "m = x.mean(axis=0)\n",
    "plot.single(m[:30,:,0])"
   ]
  },
  {
   "cell_type": "markdown",
   "metadata": {},
   "source": [
    "## Encoder + Decoder (generator)\n",
    "A model to project inputs on the latent space"
   ]
  },
  {
   "cell_type": "code",
   "execution_count": 51,
   "metadata": {},
   "outputs": [],
   "source": [
    "# build a model to project inputs on the latent space\n",
    "encoder = Model(encoder_input, z_mean)"
   ]
  },
  {
   "cell_type": "code",
   "execution_count": 52,
   "metadata": {},
   "outputs": [],
   "source": [
    "decoder_input = Input((latent_dim,))\n",
    "decoded = utils.composition(decoders, decoder_input)\n",
    "decoder = Model(decoder_input, decoded)"
   ]
  },
  {
   "cell_type": "code",
   "execution_count": 53,
   "metadata": {},
   "outputs": [
    {
     "data": {
      "text/plain": [
       "(50, 40, 7, 1)"
      ]
     },
     "execution_count": 53,
     "metadata": {},
     "output_type": "execute_result"
    }
   ],
   "source": [
    "x_test.shape"
   ]
  },
  {
   "cell_type": "code",
   "execution_count": 38,
   "metadata": {},
   "outputs": [
    {
     "data": {
      "text/plain": [
       "(100, 20)"
      ]
     },
     "execution_count": 38,
     "metadata": {},
     "output_type": "execute_result"
    }
   ],
   "source": [
    "m = 100\n",
    "x_train_encoded = encoder.predict(x_train[:m], batch_size=batch_size)\n",
    "x_train_encoded.shape"
   ]
  },
  {
   "cell_type": "code",
   "execution_count": 99,
   "metadata": {},
   "outputs": [
    {
     "name": "stdout",
     "output_type": "stream",
     "text": [
      "(21, 40, 7, 1) [-0.30397463 -1.1812726   0.07667129 -0.02656678 -0.08841574]\n",
      "m (40, 7, 1)\n"
     ]
    },
    {
     "data": {
      "image/png": "[encoded data removed]",
      "text/plain": [
       "<matplotlib.figure.Figure at 0x1288ec358>"
      ]
     },
     "metadata": {},
     "output_type": "display_data"
    },
    {
     "name": "stdout",
     "output_type": "stream",
     "text": [
      "m (40, 7, 1)\n"
     ]
    },
    {
     "data": {
      "image/png": "[encoded data removed]",
      "text/plain": [
       "<matplotlib.figure.Figure at 0x1288ec1d0>"
      ]
     },
     "metadata": {},
     "output_type": "display_data"
    },
    {
     "name": "stdout",
     "output_type": "stream",
     "text": [
      "m (40, 7, 1)\n"
     ]
    },
    {
     "data": {
      "image/png": "[encoded data removed]",
      "text/plain": [
       "<matplotlib.figure.Figure at 0x128b7eef0>"
      ]
     },
     "metadata": {},
     "output_type": "display_data"
    },
    {
     "name": "stdout",
     "output_type": "stream",
     "text": [
      "m (40, 7, 1)\n"
     ]
    },
    {
     "data": {
      "image/png": "[encoded data removed]",
      "text/plain": [
       "<matplotlib.figure.Figure at 0x128bb1588>"
      ]
     },
     "metadata": {},
     "output_type": "display_data"
    },
    {
     "name": "stdout",
     "output_type": "stream",
     "text": [
      "m (40, 7, 1)\n"
     ]
    },
    {
     "data": {
      "image/png": "[encoded data removed]",
      "text/plain": [
       "<matplotlib.figure.Figure at 0x128ba2128>"
      ]
     },
     "metadata": {},
     "output_type": "display_data"
    }
   ],
   "source": [
    "i = 0\n",
    "amt = 1\n",
    "z = encoder.predict(x_train[i:i+1])\n",
    "zs = [ z[0].copy() for _ in range(latent_dim) ]\n",
    "for i,z_ in enumerate(zs):\n",
    "    z_[i] = z_[i] + amt\n",
    "generated = decoder.predict(np.concatenate([z[:1], zs]))\n",
    "print(generated.shape, z[0,:5])\n",
    "plot.single(generated[0])\n",
    "plot.single(generated[1])\n",
    "plot.single(generated[2])\n",
    "plot.single(generated[3])\n",
    "plot.single(generated[4])"
   ]
  },
  {
   "cell_type": "code",
   "execution_count": 39,
   "metadata": {},
   "outputs": [
    {
     "data": {
      "text/plain": [
       "<matplotlib.collections.PathCollection at 0x11dbe99b0>"
      ]
     },
     "execution_count": 39,
     "metadata": {},
     "output_type": "execute_result"
    },
    {
     "data": {
      "image/png": "[encoded data removed]",
      "text/plain": [
       "<matplotlib.figure.Figure at 0x11da8dc18>"
      ]
     },
     "metadata": {},
     "output_type": "display_data"
    }
   ],
   "source": [
    "# y_test = range(x_train_encoded.shape[0])\n",
    "y_test = np.concatenate([list(range(n)) for _ in range(int(m/n)+1)])[:m] / n\n",
    "plt.figure(figsize=(6, 6))\n",
    "plt.scatter(x_train_encoded[:, 0], x_train_encoded[:, 1], alpha=0.5, s=30) # c=y_test, "
   ]
  },
  {
   "cell_type": "code",
   "execution_count": 40,
   "metadata": {},
   "outputs": [
    {
     "data": {
      "text/plain": [
       "<matplotlib.collections.PathCollection at 0x11dc90b70>"
      ]
     },
     "execution_count": 40,
     "metadata": {},
     "output_type": "execute_result"
    },
    {
     "data": {
      "image/png": "[encoded data removed]",
      "text/plain": [
       "<matplotlib.figure.Figure at 0x11d9e9898>"
      ]
     },
     "metadata": {},
     "output_type": "display_data"
    }
   ],
   "source": [
    "# display a 2D plot of the digit classes in the latent space\n",
    "x_test_encoded = encoder.predict(x_test, batch_size=batch_size)\n",
    "plt.figure(figsize=(6, 6))\n",
    "plt.scatter(x_test_encoded[:, 0], x_test_encoded[:, 1], alpha=0.5, s=30) # , c=y_test\n",
    "# plt.colorbar()"
   ]
  },
  {
   "cell_type": "code",
   "execution_count": 41,
   "metadata": {},
   "outputs": [],
   "source": [
    "# build a digit generator that can sample from the learned distribution\n",
    "decoder_input = Input(shape=(latent_dim,))\n",
    "_decoded = utils.composition(decoders, decoder_input, verbose=False)\n",
    "generator = Model(decoder_input, _decoded)"
   ]
  },
  {
   "cell_type": "code",
   "execution_count": 42,
   "metadata": {},
   "outputs": [],
   "source": [
    "# x_decoded[0].reshape(150,3)"
   ]
  },
  {
   "cell_type": "code",
   "execution_count": 43,
   "metadata": {},
   "outputs": [
    {
     "data": {
      "text/plain": [
       "(450, 40, 7, 1)"
      ]
     },
     "execution_count": 43,
     "metadata": {},
     "output_type": "execute_result"
    }
   ],
   "source": [
    "x_train.shape"
   ]
  },
  {
   "cell_type": "code",
   "execution_count": 44,
   "metadata": {},
   "outputs": [
    {
     "name": "stdout",
     "output_type": "stream",
     "text": [
      "(20,) [0.5 0.5 0.5 0.5 0.5 0.5 0.5 0.5 0.5 0.5 0.5 0.5 0.5 0.5 0.5 0.5 0.5 0.5\n",
      " 0.5 0.5]\n"
     ]
    },
    {
     "data": {
      "image/png": "[encoded data removed]",
      "text/plain": [
       "<matplotlib.figure.Figure at 0x11e0de0b8>"
      ]
     },
     "metadata": {},
     "output_type": "display_data"
    }
   ],
   "source": [
    "min_y = 0.01\n",
    "max_y = 0.5\n",
    "plot.latent(generator, batch_size, latent_dim,\n",
    "       x_encoded=0.5,\n",
    "       n=8,\n",
    "       m=3,\n",
    "       crop_size=30,\n",
    "       margin_top=1,\n",
    "       margin_left=1,\n",
    "       min_x=0.05,\n",
    "       max_x=0.95,\n",
    "       min_y=min_y,\n",
    "       max_y=max_y)"
   ]
  },
  {
   "cell_type": "code",
   "execution_count": 45,
   "metadata": {},
   "outputs": [
    {
     "name": "stdout",
     "output_type": "stream",
     "text": [
      "(20,) [0.5 0.5 0.5 0.5 0.5 0.5 0.5 0.5 0.5 0.5 0.5 0.5 0.5 0.5 0.5 0.5 0.5 0.5\n",
      " 0.5 0.5]\n"
     ]
    },
    {
     "data": {
      "image/png": "[encoded data removed]",
      "text/plain": [
       "<matplotlib.figure.Figure at 0x11f42f0b8>"
      ]
     },
     "metadata": {},
     "output_type": "display_data"
    }
   ],
   "source": [
    "min_y2 = max_y\n",
    "plot.latent(generator, batch_size, latent_dim,\n",
    "       x_encoded=0.5,            \n",
    "       n=6,\n",
    "       m=2,\n",
    "       crop_size=30,\n",
    "       margin_top=1,\n",
    "       margin_left=1,\n",
    "       min_x=0.05,\n",
    "       max_x=0.95,\n",
    "       min_y=min_y2,\n",
    "       max_y=0.95)"
   ]
  },
  {
   "cell_type": "code",
   "execution_count": 46,
   "metadata": {
    "scrolled": true
   },
   "outputs": [
    {
     "name": "stdout",
     "output_type": "stream",
     "text": [
      "\u001b[92m [INFO] : \u001b[0m\n",
      " |  len, max_t\n",
      " |  1.9802083333333331\n",
      " |  2.0\n",
      "\u001b[91m [DEBUG] > \u001b[0m\n",
      " |>  old current\n",
      " |>  0.49999999999999994\n",
      " |>  0.5\n",
      "\u001b[92m [INFO] : \u001b[0m\n",
      " |  len, max_t\n",
      " |  1.7802083333333334\n",
      " |  2.0\n",
      "\u001b[92m [INFO] : \u001b[0m\n",
      " |  len, max_t\n",
      " |  1.8802083333333333\n",
      " |  2.0\n",
      "\u001b[91m [DEBUG] > \u001b[0m\n",
      " |>  old current\n",
      " |>  0.49999999999999994\n",
      " |>  0.5\n",
      "\u001b[92m [INFO] : \u001b[0m\n",
      " |  len, max_t\n",
      " |  1.8802083333333333\n",
      " |  2.0\n",
      "\u001b[92m [INFO] : \u001b[0m\n",
      " |  len, max_t\n",
      " |  1.8802083333333335\n",
      " |  2.0\n",
      "\u001b[91m [DEBUG] > \u001b[0m\n",
      " |>  old current\n",
      " |>  0.49999999999999994\n",
      " |>  0.5\n",
      "\u001b[92m [INFO] : \u001b[0m\n",
      " |  len, max_t\n",
      " |  1.8802083333333333\n",
      " |  2.0\n",
      "\u001b[92m [INFO] : \u001b[0m\n",
      " |  len, max_t\n",
      " |  1.9302083333333337\n",
      " |  2.0\n",
      "\u001b[92m [INFO] : \u001b[0m\n",
      " |  len, max_t\n",
      " |  1.7802083333333334\n",
      " |  2.0\n"
     ]
    }
   ],
   "source": [
    "a = [0,11,100,399]\n",
    "# utils.clear_dir(config.export_dir)\n",
    "for i in a:\n",
    "    s = midi.MultiTrack.from_array(x_train[i])\n",
    "    mid = midi.decode.track(context, s, transpose=0)\n",
    "    io.export_midifile(mid, config.export_dir + 'y_true_' + str(i))\n",
    "    \n",
    "    s = midi.MultiTrack.from_array(y[i])\n",
    "    mid = midi.decode.track(context, s, transpose=0)\n",
    "    io.export_midifile(mid, config.export_dir + 'y_pred' + str(i))    "
   ]
  },
  {
   "cell_type": "code",
   "execution_count": null,
   "metadata": {},
   "outputs": [],
   "source": []
  },
  {
   "cell_type": "code",
   "execution_count": null,
   "metadata": {},
   "outputs": [],
   "source": []
  },
  {
   "cell_type": "code",
   "execution_count": null,
   "metadata": {},
   "outputs": [],
   "source": []
  },
  {
   "cell_type": "code",
   "execution_count": null,
   "metadata": {},
   "outputs": [],
   "source": []
  },
  {
   "cell_type": "code",
   "execution_count": null,
   "metadata": {},
   "outputs": [],
   "source": []
  },
  {
   "cell_type": "code",
   "execution_count": null,
   "metadata": {},
   "outputs": [],
   "source": []
  }
 ],
 "metadata": {
  "kernelspec": {
   "display_name": "Python 3",
   "language": "python",
   "name": "python3"
  },
  "language_info": {
   "codemirror_mode": {
    "name": "ipython",
    "version": 3
   },
   "file_extension": ".py",
   "mimetype": "text/x-python",
   "name": "python",
   "nbconvert_exporter": "python",
   "pygments_lexer": "ipython3",
   "version": "3.6.4"
  }
 },
 "nbformat": 4,
 "nbformat_minor": 2
}
