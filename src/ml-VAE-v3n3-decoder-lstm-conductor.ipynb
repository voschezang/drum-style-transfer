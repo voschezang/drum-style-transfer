{
 "cells": [
  {
   "cell_type": "code",
   "execution_count": 1,
   "metadata": {},
   "outputs": [
    {
     "name": "stderr",
     "output_type": "stream",
     "text": [
      "/Library/Frameworks/Python.framework/Versions/3.6/lib/python3.6/site-packages/h5py/__init__.py:36: FutureWarning: Conversion of the second argument of issubdtype from `float` to `np.floating` is deprecated. In future, it will be treated as `np.float64 == np.dtype(float).type`.\n",
      "  from ._conv import register_converters as _register_converters\n",
      "Using TensorFlow backend.\n"
     ]
    }
   ],
   "source": [
    "from __future__ import division\n",
    "\n",
    "import collections\n",
    "import numpy as np\n",
    "import matplotlib.pyplot as plt\n",
    "from scipy.stats import norm\n",
    "\n",
    "## NN libs\n",
    "import keras\n",
    "from keras import backend as K\n",
    "from keras import regularizers\n",
    "from keras.utils import to_categorical\n",
    "from keras.optimizers import SGD, Adam\n",
    "from keras.layers import *\n",
    "from keras.preprocessing.image import ImageDataGenerator\n",
    "from keras.models import Model\n",
    "from keras.callbacks import TensorBoard"
   ]
  },
  {
   "cell_type": "code",
   "execution_count": 2,
   "metadata": {},
   "outputs": [],
   "source": [
    "import config\n",
    "import os, numpy as np, pandas, sklearn, scipy.signal as signal\n",
    "import mido\n",
    "import matplotlib.pyplot as plt\n",
    "%matplotlib inline"
   ]
  },
  {
   "cell_type": "code",
   "execution_count": 3,
   "metadata": {},
   "outputs": [],
   "source": [
    "# local libs\n",
    "import config, models, setup\n",
    "import midi\n",
    "import midi.decode\n",
    "from midi import generators as g\n",
    "from utils import io, models_io, utils, plot\n",
    "from capsule.layers import Capsule, Length\n",
    "from capsule.capsulefunctions import squash, softmax, margin_loss"
   ]
  },
  {
   "cell_type": "code",
   "execution_count": 4,
   "metadata": {},
   "outputs": [
    {
     "name": "stdout",
     "output_type": "stream",
     "text": [
      " Context :: namedtuple(\n",
      "[ max_t = float\n",
      ", dt = float\n",
      ", n_timestesp = int\n",
      ", note_length = int\n",
      ", bpm = float\n",
      ", tempo = float\n",
      ", ticks_per_beat = int\n",
      "]\n",
      "\n",
      "Setting up params\n",
      "\n",
      "max min f 10.0 0.5\n",
      " >> Context(max_t=2.0, dt=0.05, n_timesteps=40, note_length=0.03, bpm=120.0, tempo=500000, ticks_per_beat=480)\n",
      " sample length:  40.000000\n",
      " max_f: 10.000000, min_f: 0.500000\n"
     ]
    }
   ],
   "source": [
    "context = setup.init()"
   ]
  },
  {
   "cell_type": "code",
   "execution_count": 5,
   "metadata": {},
   "outputs": [
    {
     "data": {
      "text/plain": [
       "'note_on'"
      ]
     },
     "execution_count": 5,
     "metadata": {},
     "output_type": "execute_result"
    }
   ],
   "source": [
    "mido.Message(type='note_on').type"
   ]
  },
  {
   "cell_type": "code",
   "execution_count": 6,
   "metadata": {
    "scrolled": true
   },
   "outputs": [
    {
     "name": "stdout",
     "output_type": "stream",
     "text": [
      "\n",
      "Importing midi-data\n",
      "\n",
      "Encoding midi-data\n",
      " 500\n",
      "> -> multi-track = True MidiFile\n",
      "\u001b[92m [INFO] : \u001b[0m\n",
      " |  True\n"
     ]
    }
   ],
   "source": [
    "n = 500 * 1\n",
    "dim4 = True\n",
    "multiTrack = True\n",
    "reduce_dims = midi.ReduceDimsOptions.MIDIFILE # GLOBAL\n",
    "dn = 'drum_midi/'\n",
    "v = None\n",
    "x_train, labels = setup.import_data(context, n, dim4=dim4, reduce_dims=reduce_dims, \n",
    "    dirname=dn, multiTrack=multiTrack, velocity=v, r=True)"
   ]
  },
  {
   "cell_type": "code",
   "execution_count": 7,
   "metadata": {},
   "outputs": [
    {
     "data": {
      "text/plain": [
       "[(0,\n",
       "  \"../datasets/drum_midi//50´s Drummer MIDI Files/01 Rock'n'Roll/01 Dancin Rick 166BPM/01 8th Hat.mid\"),\n",
       " (1,\n",
       "  \"../datasets/drum_midi//50´s Drummer MIDI Files/01 Rock'n'Roll/01 Dancin Rick 166BPM/02 8th Ride.mid\"),\n",
       " (2,\n",
       "  \"../datasets/drum_midi//50´s Drummer MIDI Files/01 Rock'n'Roll/01 Dancin Rick 166BPM/03 16th Snare.mid\"),\n",
       " (3,\n",
       "  \"../datasets/drum_midi//50´s Drummer MIDI Files/01 Rock'n'Roll/01 Dancin Rick 166BPM/04 8th Ride.mid\"),\n",
       " (4,\n",
       "  \"../datasets/drum_midi//50´s Drummer MIDI Files/01 Rock'n'Roll/01 Dancin Rick 166BPM/05 16th Ride.mid\"),\n",
       " (5,\n",
       "  \"../datasets/drum_midi//50´s Drummer MIDI Files/01 Rock'n'Roll/01 Dancin Rick 166BPM/06 16th Ride.mid\"),\n",
       " (6,\n",
       "  \"../datasets/drum_midi//50´s Drummer MIDI Files/01 Rock'n'Roll/01 Dancin Rick 166BPM/07 16th Ride.mid\"),\n",
       " (7,\n",
       "  \"../datasets/drum_midi//50´s Drummer MIDI Files/01 Rock'n'Roll/02 Gogo 191BPM/01 8th Hat.mid\"),\n",
       " (8,\n",
       "  \"../datasets/drum_midi//50´s Drummer MIDI Files/01 Rock'n'Roll/02 Gogo 191BPM/02 8th Snare.mid\"),\n",
       " (9,\n",
       "  \"../datasets/drum_midi//50´s Drummer MIDI Files/01 Rock'n'Roll/02 Gogo 191BPM/03 4th Snare .mid\"),\n",
       " (10,\n",
       "  \"../datasets/drum_midi//50´s Drummer MIDI Files/01 Rock'n'Roll/02 Gogo 191BPM/04 8th Ride.mid\"),\n",
       " (11,\n",
       "  \"../datasets/drum_midi//50´s Drummer MIDI Files/01 Rock'n'Roll/02 Gogo 191BPM/05 8th Snare.mid\"),\n",
       " (12,\n",
       "  \"../datasets/drum_midi//50´s Drummer MIDI Files/01 Rock'n'Roll/02 Gogo 191BPM/06 8th Toms.mid\"),\n",
       " (13,\n",
       "  \"../datasets/drum_midi//50´s Drummer MIDI Files/01 Rock'n'Roll/02 Gogo 191BPM/07 8th Toms.mid\"),\n",
       " (14,\n",
       "  \"../datasets/drum_midi//50´s Drummer MIDI Files/01 Rock'n'Roll/03 Lips n Hips 152BPM/01 8th Perc.mid\"),\n",
       " (15,\n",
       "  \"../datasets/drum_midi//50´s Drummer MIDI Files/01 Rock'n'Roll/03 Lips n Hips 152BPM/02 8th Ride.mid\"),\n",
       " (16,\n",
       "  \"../datasets/drum_midi//50´s Drummer MIDI Files/01 Rock'n'Roll/03 Lips n Hips 152BPM/03 8th Ride .mid\"),\n",
       " (17,\n",
       "  \"../datasets/drum_midi//50´s Drummer MIDI Files/01 Rock'n'Roll/03 Lips n Hips 152BPM/04 8th Snare.mid\"),\n",
       " (18,\n",
       "  \"../datasets/drum_midi//50´s Drummer MIDI Files/01 Rock'n'Roll/03 Lips n Hips 152BPM/05 8th Snare.mid\"),\n",
       " (19,\n",
       "  \"../datasets/drum_midi//50´s Drummer MIDI Files/01 Rock'n'Roll/03 Lips n Hips 152BPM/06 8th Hat.mid\"),\n",
       " (20,\n",
       "  \"../datasets/drum_midi//50´s Drummer MIDI Files/01 Rock'n'Roll/03 Lips n Hips 152BPM/07 8th Snare.mid\"),\n",
       " (21,\n",
       "  \"../datasets/drum_midi//50´s Drummer MIDI Files/01 Rock'n'Roll/04 Maybelline 233BPM/01 8th Snare.mid\"),\n",
       " (22,\n",
       "  \"../datasets/drum_midi//50´s Drummer MIDI Files/01 Rock'n'Roll/04 Maybelline 233BPM/02 8th Cym.mid\"),\n",
       " (23,\n",
       "  \"../datasets/drum_midi//50´s Drummer MIDI Files/01 Rock'n'Roll/04 Maybelline 233BPM/03 8th Ride.mid\"),\n",
       " (24,\n",
       "  \"../datasets/drum_midi//50´s Drummer MIDI Files/01 Rock'n'Roll/04 Maybelline 233BPM/04 16th Snare.mid\"),\n",
       " (25,\n",
       "  \"../datasets/drum_midi//50´s Drummer MIDI Files/01 Rock'n'Roll/04 Maybelline 233BPM/05 16th Hat.mid\"),\n",
       " (26,\n",
       "  \"../datasets/drum_midi//50´s Drummer MIDI Files/01 Rock'n'Roll/04 Maybelline 233BPM/06 16th Toms.mid\"),\n",
       " (27,\n",
       "  \"../datasets/drum_midi//50´s Drummer MIDI Files/01 Rock'n'Roll/04 Maybelline 233BPM/07 16th Ride.mid\"),\n",
       " (28,\n",
       "  \"../datasets/drum_midi//50´s Drummer MIDI Files/01 Rock'n'Roll/05 Straight Line 136BPM/01 8th Hat.mid\"),\n",
       " (29,\n",
       "  \"../datasets/drum_midi//50´s Drummer MIDI Files/01 Rock'n'Roll/05 Straight Line 136BPM/02 8th Ride.mid\"),\n",
       " (30,\n",
       "  \"../datasets/drum_midi//50´s Drummer MIDI Files/01 Rock'n'Roll/05 Straight Line 136BPM/03 8th Ride.mid\"),\n",
       " (31,\n",
       "  \"../datasets/drum_midi//50´s Drummer MIDI Files/01 Rock'n'Roll/05 Straight Line 136BPM/04 8th Perc.mid\"),\n",
       " (32,\n",
       "  \"../datasets/drum_midi//50´s Drummer MIDI Files/01 Rock'n'Roll/05 Straight Line 136BPM/05 8th Ride.mid\"),\n",
       " (33,\n",
       "  \"../datasets/drum_midi//50´s Drummer MIDI Files/01 Rock'n'Roll/05 Straight Line 136BPM/06 8th hat.mid\"),\n",
       " (34,\n",
       "  \"../datasets/drum_midi//50´s Drummer MIDI Files/01 Rock'n'Roll/05 Straight Line 136BPM/07 8th Toms.mid\"),\n",
       " (35,\n",
       "  \"../datasets/drum_midi//50´s Drummer MIDI Files/01 Rock'n'Roll/06 Moonglow 140BPM/01 8th Hat.mid\"),\n",
       " (36,\n",
       "  \"../datasets/drum_midi//50´s Drummer MIDI Files/01 Rock'n'Roll/06 Moonglow 140BPM/02 8th Hat.mid\"),\n",
       " (37,\n",
       "  \"../datasets/drum_midi//50´s Drummer MIDI Files/01 Rock'n'Roll/06 Moonglow 140BPM/03 8th Ride.mid\"),\n",
       " (38,\n",
       "  \"../datasets/drum_midi//50´s Drummer MIDI Files/01 Rock'n'Roll/06 Moonglow 140BPM/04 8th Perc.mid\"),\n",
       " (39,\n",
       "  \"../datasets/drum_midi//50´s Drummer MIDI Files/01 Rock'n'Roll/06 Moonglow 140BPM/05 8th Hat.mid\"),\n",
       " (40,\n",
       "  \"../datasets/drum_midi//50´s Drummer MIDI Files/01 Rock'n'Roll/06 Moonglow 140BPM/06 8th Perc.mid\"),\n",
       " (41,\n",
       "  \"../datasets/drum_midi//50´s Drummer MIDI Files/01 Rock'n'Roll/06 Moonglow 140BPM/07 8th Perc.mid\"),\n",
       " (42,\n",
       "  \"../datasets/drum_midi//50´s Drummer MIDI Files/01 Rock'n'Roll/07 Thwag 170BPM/01 8th Ride.mid\"),\n",
       " (43,\n",
       "  \"../datasets/drum_midi//50´s Drummer MIDI Files/01 Rock'n'Roll/07 Thwag 170BPM/02 8th Hat.mid\"),\n",
       " (44,\n",
       "  \"../datasets/drum_midi//50´s Drummer MIDI Files/01 Rock'n'Roll/07 Thwag 170BPM/03 8th Hat.mid\"),\n",
       " (45,\n",
       "  \"../datasets/drum_midi//50´s Drummer MIDI Files/01 Rock'n'Roll/07 Thwag 170BPM/04 8th Ride.mid\"),\n",
       " (46,\n",
       "  \"../datasets/drum_midi//50´s Drummer MIDI Files/01 Rock'n'Roll/07 Thwag 170BPM/05 8th Cym.mid\"),\n",
       " (47,\n",
       "  \"../datasets/drum_midi//50´s Drummer MIDI Files/01 Rock'n'Roll/07 Thwag 170BPM/06 8th Cym.mid\"),\n",
       " (48,\n",
       "  \"../datasets/drum_midi//50´s Drummer MIDI Files/01 Rock'n'Roll/07 Thwag 170BPM/07 8th Cym.mid\"),\n",
       " (49,\n",
       "  \"../datasets/drum_midi//50´s Drummer MIDI Files/01 Rock'n'Roll/08 Doowoop 140bpm/01 16th Snare.mid\"),\n",
       " (50,\n",
       "  \"../datasets/drum_midi//50´s Drummer MIDI Files/01 Rock'n'Roll/08 Doowoop 140bpm/02 16th Snare.mid\"),\n",
       " (51,\n",
       "  \"../datasets/drum_midi//50´s Drummer MIDI Files/01 Rock'n'Roll/08 Doowoop 140bpm/03 16th Snare.mid\"),\n",
       " (52,\n",
       "  \"../datasets/drum_midi//50´s Drummer MIDI Files/01 Rock'n'Roll/08 Doowoop 140bpm/04 16th Snare.mid\"),\n",
       " (53,\n",
       "  \"../datasets/drum_midi//50´s Drummer MIDI Files/01 Rock'n'Roll/08 Doowoop 140bpm/05 16th Snare.mid\"),\n",
       " (54,\n",
       "  \"../datasets/drum_midi//50´s Drummer MIDI Files/01 Rock'n'Roll/08 Doowoop 140bpm/06 16th Perc.mid\"),\n",
       " (55,\n",
       "  \"../datasets/drum_midi//50´s Drummer MIDI Files/01 Rock'n'Roll/08 Doowoop 140bpm/07 16th Perc.mid\"),\n",
       " (56,\n",
       "  \"../datasets/drum_midi//50´s Drummer MIDI Files/01 Rock'n'Roll/09 Diddeley 185bpm/01 4th Ride.mid\"),\n",
       " (57,\n",
       "  \"../datasets/drum_midi//50´s Drummer MIDI Files/01 Rock'n'Roll/09 Diddeley 185bpm/02 4th Ride.mid\"),\n",
       " (58,\n",
       "  \"../datasets/drum_midi//50´s Drummer MIDI Files/01 Rock'n'Roll/09 Diddeley 185bpm/03 4th Ride.mid\"),\n",
       " (59,\n",
       "  \"../datasets/drum_midi//50´s Drummer MIDI Files/01 Rock'n'Roll/09 Diddeley 185bpm/04 4th Hat.mid\"),\n",
       " (60,\n",
       "  \"../datasets/drum_midi//50´s Drummer MIDI Files/01 Rock'n'Roll/09 Diddeley 185bpm/05 8th Multi.mid\"),\n",
       " (61,\n",
       "  \"../datasets/drum_midi//50´s Drummer MIDI Files/01 Rock'n'Roll/09 Diddeley 185bpm/06 8th Multi.mid\"),\n",
       " (62,\n",
       "  \"../datasets/drum_midi//50´s Drummer MIDI Files/01 Rock'n'Roll/09 Diddeley 185bpm/07 8th Multi.mid\"),\n",
       " (63,\n",
       "  \"../datasets/drum_midi//50´s Drummer MIDI Files/01 Rock'n'Roll/10 Ottis 172bpm/01 8th Hat.mid\"),\n",
       " (64,\n",
       "  \"../datasets/drum_midi//50´s Drummer MIDI Files/01 Rock'n'Roll/10 Ottis 172bpm/02 8th Ride.mid\"),\n",
       " (65,\n",
       "  \"../datasets/drum_midi//50´s Drummer MIDI Files/01 Rock'n'Roll/10 Ottis 172bpm/03 8th Cym.mid\"),\n",
       " (66,\n",
       "  \"../datasets/drum_midi//50´s Drummer MIDI Files/01 Rock'n'Roll/10 Ottis 172bpm/04 8th Toms.mid\"),\n",
       " (67,\n",
       "  \"../datasets/drum_midi//50´s Drummer MIDI Files/01 Rock'n'Roll/10 Ottis 172bpm/05 8th Toms.mid\"),\n",
       " (68,\n",
       "  \"../datasets/drum_midi//50´s Drummer MIDI Files/01 Rock'n'Roll/10 Ottis 172bpm/06 8th Multi.mid\"),\n",
       " (69,\n",
       "  \"../datasets/drum_midi//50´s Drummer MIDI Files/01 Rock'n'Roll/10 Ottis 172bpm/07 8th Multi.mid\"),\n",
       " (70,\n",
       "  '../datasets/drum_midi//50´s Drummer MIDI Files/02 Blues/01 Booze 92BPM/01 8th Hat.mid'),\n",
       " (71,\n",
       "  '../datasets/drum_midi//50´s Drummer MIDI Files/02 Blues/01 Booze 92BPM/02 8th Snare.mid'),\n",
       " (72,\n",
       "  '../datasets/drum_midi//50´s Drummer MIDI Files/02 Blues/01 Booze 92BPM/03 8th Perc.mid'),\n",
       " (73,\n",
       "  '../datasets/drum_midi//50´s Drummer MIDI Files/02 Blues/01 Booze 92BPM/04 8th Ride.mid'),\n",
       " (74,\n",
       "  '../datasets/drum_midi//50´s Drummer MIDI Files/02 Blues/01 Booze 92BPM/05 8th Hat.mid'),\n",
       " (75,\n",
       "  '../datasets/drum_midi//50´s Drummer MIDI Files/02 Blues/01 Booze 92BPM/06 8th Toms.mid'),\n",
       " (76,\n",
       "  '../datasets/drum_midi//50´s Drummer MIDI Files/02 Blues/01 Booze 92BPM/07 8th Hat.mid'),\n",
       " (77,\n",
       "  '../datasets/drum_midi//50´s Drummer MIDI Files/02 Blues/02 Nappy Brown 160BPM/01 8th Hat.mid'),\n",
       " (78,\n",
       "  '../datasets/drum_midi//50´s Drummer MIDI Files/02 Blues/02 Nappy Brown 160BPM/02 8th Ride.mid'),\n",
       " (79,\n",
       "  '../datasets/drum_midi//50´s Drummer MIDI Files/02 Blues/02 Nappy Brown 160BPM/03 8th Perc.mid'),\n",
       " (80,\n",
       "  '../datasets/drum_midi//50´s Drummer MIDI Files/02 Blues/02 Nappy Brown 160BPM/04 8th Perc.mid'),\n",
       " (81,\n",
       "  '../datasets/drum_midi//50´s Drummer MIDI Files/02 Blues/02 Nappy Brown 160BPM/05 8th Cym.mid'),\n",
       " (82,\n",
       "  '../datasets/drum_midi//50´s Drummer MIDI Files/02 Blues/02 Nappy Brown 160BPM/06 8th Perc.mid'),\n",
       " (83,\n",
       "  '../datasets/drum_midi//50´s Drummer MIDI Files/02 Blues/02 Nappy Brown 160BPM/07 8th Hat.mid'),\n",
       " (84,\n",
       "  '../datasets/drum_midi//50´s Drummer MIDI Files/02 Blues/03 Noton Bull 192BPM 12-8 Brushes/01 4th Multi.mid'),\n",
       " (85,\n",
       "  '../datasets/drum_midi//50´s Drummer MIDI Files/02 Blues/03 Noton Bull 192BPM 12-8 Brushes/02 4th Multi.mid'),\n",
       " (86,\n",
       "  '../datasets/drum_midi//50´s Drummer MIDI Files/02 Blues/03 Noton Bull 192BPM 12-8 Brushes/03 4th Snare.mid'),\n",
       " (87,\n",
       "  '../datasets/drum_midi//50´s Drummer MIDI Files/02 Blues/03 Noton Bull 192BPM 12-8 Brushes/04 4th Perc.mid'),\n",
       " (88,\n",
       "  '../datasets/drum_midi//50´s Drummer MIDI Files/02 Blues/03 Noton Bull 192BPM 12-8 Brushes/04 4th Snare.mid'),\n",
       " (89,\n",
       "  '../datasets/drum_midi//50´s Drummer MIDI Files/02 Blues/03 Noton Bull 192BPM 12-8 Brushes/06 4th Multi.mid'),\n",
       " (90,\n",
       "  '../datasets/drum_midi//50´s Drummer MIDI Files/02 Blues/03 Noton Bull 192BPM 12-8 Brushes/07 4th Mulit.mid'),\n",
       " (91,\n",
       "  '../datasets/drum_midi//50´s Drummer MIDI Files/02 Blues/04 Mickeys 212BPM 12-8/01 8th Hat.mid'),\n",
       " (92,\n",
       "  '../datasets/drum_midi//50´s Drummer MIDI Files/02 Blues/04 Mickeys 212BPM 12-8/02 8th Hat.mid'),\n",
       " (93,\n",
       "  '../datasets/drum_midi//50´s Drummer MIDI Files/02 Blues/04 Mickeys 212BPM 12-8/03 8th Cym.mid'),\n",
       " (94,\n",
       "  '../datasets/drum_midi//50´s Drummer MIDI Files/02 Blues/04 Mickeys 212BPM 12-8/04 8th Toms.mid'),\n",
       " (95,\n",
       "  '../datasets/drum_midi//50´s Drummer MIDI Files/02 Blues/04 Mickeys 212BPM 12-8/05 8th Ride.mid'),\n",
       " (96,\n",
       "  '../datasets/drum_midi//50´s Drummer MIDI Files/02 Blues/04 Mickeys 212BPM 12-8/06 8th Multi.mid'),\n",
       " (97,\n",
       "  '../datasets/drum_midi//50´s Drummer MIDI Files/02 Blues/04 Mickeys 212BPM 12-8/07 8th perc.mid'),\n",
       " (98,\n",
       "  '../datasets/drum_midi//50´s Drummer MIDI Files/02 Blues/05 Cadillac 128BPM/01 8th Hat.mid'),\n",
       " (99,\n",
       "  '../datasets/drum_midi//50´s Drummer MIDI Files/02 Blues/05 Cadillac 128BPM/02 8th Hat.mid'),\n",
       " (100,\n",
       "  '../datasets/drum_midi//50´s Drummer MIDI Files/02 Blues/05 Cadillac 128BPM/03 8th Ride.mid'),\n",
       " (101,\n",
       "  '../datasets/drum_midi//50´s Drummer MIDI Files/02 Blues/05 Cadillac 128BPM/04 8th Perc.mid'),\n",
       " (102,\n",
       "  '../datasets/drum_midi//50´s Drummer MIDI Files/02 Blues/05 Cadillac 128BPM/05 8th Perc.mid'),\n",
       " (103,\n",
       "  '../datasets/drum_midi//50´s Drummer MIDI Files/02 Blues/05 Cadillac 128BPM/06 8th Perc.mid'),\n",
       " (104,\n",
       "  '../datasets/drum_midi//50´s Drummer MIDI Files/02 Blues/05 Cadillac 128BPM/07 8th Perc.mid'),\n",
       " (105,\n",
       "  '../datasets/drum_midi//50´s Drummer MIDI Files/02 Blues/06 Vidar Vega 70BPM/01 8th Hat.mid'),\n",
       " (106,\n",
       "  '../datasets/drum_midi//50´s Drummer MIDI Files/02 Blues/06 Vidar Vega 70BPM/02 8th Hat.mid'),\n",
       " (107,\n",
       "  '../datasets/drum_midi//50´s Drummer MIDI Files/02 Blues/06 Vidar Vega 70BPM/03 8th Hat.mid'),\n",
       " (108,\n",
       "  '../datasets/drum_midi//50´s Drummer MIDI Files/02 Blues/06 Vidar Vega 70BPM/04 8th Hat.mid'),\n",
       " (109,\n",
       "  '../datasets/drum_midi//50´s Drummer MIDI Files/02 Blues/06 Vidar Vega 70BPM/05 8th Toms.mid'),\n",
       " (110,\n",
       "  '../datasets/drum_midi//50´s Drummer MIDI Files/02 Blues/06 Vidar Vega 70BPM/06 8th Toms.mid'),\n",
       " (111,\n",
       "  '../datasets/drum_midi//50´s Drummer MIDI Files/02 Blues/06 Vidar Vega 70BPM/07 8th Ride.mid'),\n",
       " (112,\n",
       "  '../datasets/drum_midi//50´s Drummer MIDI Files/02 Blues/07 Straight 88BPM/01 8th Hat.mid'),\n",
       " (113,\n",
       "  '../datasets/drum_midi//50´s Drummer MIDI Files/02 Blues/07 Straight 88BPM/02 8th Ride.mid'),\n",
       " (114,\n",
       "  '../datasets/drum_midi//50´s Drummer MIDI Files/02 Blues/07 Straight 88BPM/03 16th Hat.mid'),\n",
       " (115,\n",
       "  '../datasets/drum_midi//50´s Drummer MIDI Files/02 Blues/07 Straight 88BPM/04 16th Perc.mid'),\n",
       " (116,\n",
       "  '../datasets/drum_midi//50´s Drummer MIDI Files/02 Blues/07 Straight 88BPM/05 8th Hat.mid'),\n",
       " (117,\n",
       "  '../datasets/drum_midi//50´s Drummer MIDI Files/02 Blues/07 Straight 88BPM/06 16th Hat.mid'),\n",
       " (118,\n",
       "  '../datasets/drum_midi//50´s Drummer MIDI Files/02 Blues/07 Straight 88BPM/07 16th Ride.mid'),\n",
       " (119,\n",
       "  '../datasets/drum_midi//50´s Drummer MIDI Files/02 Blues/08 Sams 127BPM/01 8th Hat.mid'),\n",
       " (120,\n",
       "  '../datasets/drum_midi//50´s Drummer MIDI Files/02 Blues/08 Sams 127BPM/02 8th Hat.mid'),\n",
       " (121,\n",
       "  '../datasets/drum_midi//50´s Drummer MIDI Files/02 Blues/08 Sams 127BPM/03 8th Ride.mid'),\n",
       " (122,\n",
       "  '../datasets/drum_midi//50´s Drummer MIDI Files/02 Blues/08 Sams 127BPM/04 8th Hat.mid'),\n",
       " (123,\n",
       "  '../datasets/drum_midi//50´s Drummer MIDI Files/02 Blues/08 Sams 127BPM/05 8th Perc.mid'),\n",
       " (124,\n",
       "  '../datasets/drum_midi//50´s Drummer MIDI Files/02 Blues/08 Sams 127BPM/06 8th Perc.mid'),\n",
       " (125,\n",
       "  '../datasets/drum_midi//50´s Drummer MIDI Files/02 Blues/08 Sams 127BPM/07 8th Perc.mid'),\n",
       " (126,\n",
       "  '../datasets/drum_midi//50´s Drummer MIDI Files/02 Blues/09 Leroyes 130BPM/01 8th Hat.mid'),\n",
       " (127,\n",
       "  '../datasets/drum_midi//50´s Drummer MIDI Files/02 Blues/09 Leroyes 130BPM/02 8th Hat.mid'),\n",
       " (128,\n",
       "  '../datasets/drum_midi//50´s Drummer MIDI Files/02 Blues/09 Leroyes 130BPM/03 8th Ride.mid'),\n",
       " (129,\n",
       "  '../datasets/drum_midi//50´s Drummer MIDI Files/02 Blues/09 Leroyes 130BPM/04 8th Ride.mid'),\n",
       " (130,\n",
       "  '../datasets/drum_midi//50´s Drummer MIDI Files/02 Blues/09 Leroyes 130BPM/05 8th Perc.mid'),\n",
       " (131,\n",
       "  '../datasets/drum_midi//50´s Drummer MIDI Files/02 Blues/09 Leroyes 130BPM/06 8th Perc.mid'),\n",
       " (132,\n",
       "  '../datasets/drum_midi//50´s Drummer MIDI Files/02 Blues/09 Leroyes 130BPM/07 8th Ride.mid'),\n",
       " (133,\n",
       "  '../datasets/drum_midi//50´s Drummer MIDI Files/02 Blues/10 Bogeart 122BPM/01 4th Hat.mid'),\n",
       " (134,\n",
       "  '../datasets/drum_midi//50´s Drummer MIDI Files/02 Blues/10 Bogeart 122BPM/02 8th Hat.mid'),\n",
       " (135,\n",
       "  '../datasets/drum_midi//50´s Drummer MIDI Files/02 Blues/10 Bogeart 122BPM/03 8th Ride.mid'),\n",
       " (136,\n",
       "  '../datasets/drum_midi//50´s Drummer MIDI Files/02 Blues/10 Bogeart 122BPM/04 8th Cym.mid'),\n",
       " (137,\n",
       "  '../datasets/drum_midi//50´s Drummer MIDI Files/02 Blues/10 Bogeart 122BPM/05 8th Perc.mid'),\n",
       " (138,\n",
       "  '../datasets/drum_midi//50´s Drummer MIDI Files/02 Blues/10 Bogeart 122BPM/06 8th Perc.mid'),\n",
       " (139,\n",
       "  '../datasets/drum_midi//50´s Drummer MIDI Files/02 Blues/10 Bogeart 122BPM/07 8th Toms.mid'),\n",
       " (140,\n",
       "  '../datasets/drum_midi//50´s Drummer MIDI Files/03 Traditional Pop/01 Fly High 115BPM/01 8th Hat.mid'),\n",
       " (141,\n",
       "  '../datasets/drum_midi//50´s Drummer MIDI Files/03 Traditional Pop/01 Fly High 115BPM/02 8th Hat.mid'),\n",
       " (142,\n",
       "  '../datasets/drum_midi//50´s Drummer MIDI Files/03 Traditional Pop/01 Fly High 115BPM/03 8th Hat.mid'),\n",
       " (143,\n",
       "  '../datasets/drum_midi//50´s Drummer MIDI Files/03 Traditional Pop/01 Fly High 115BPM/04 8th Hat.mid'),\n",
       " (144,\n",
       "  '../datasets/drum_midi//50´s Drummer MIDI Files/03 Traditional Pop/01 Fly High 115BPM/05 8th Ride.mid'),\n",
       " (145,\n",
       "  '../datasets/drum_midi//50´s Drummer MIDI Files/03 Traditional Pop/01 Fly High 115BPM/06 8th Ride.mid'),\n",
       " (146,\n",
       "  '../datasets/drum_midi//50´s Drummer MIDI Files/03 Traditional Pop/01 Fly High 115BPM/07 8th Multi.mid'),\n",
       " (147,\n",
       "  '../datasets/drum_midi//50´s Drummer MIDI Files/03 Traditional Pop/02 Frankies Girl 116BPM/01 8th Perc.mid'),\n",
       " (148,\n",
       "  '../datasets/drum_midi//50´s Drummer MIDI Files/03 Traditional Pop/02 Frankies Girl 116BPM/02 8th Hat.mid'),\n",
       " (149,\n",
       "  '../datasets/drum_midi//50´s Drummer MIDI Files/03 Traditional Pop/02 Frankies Girl 116BPM/03 8th Hat.mid'),\n",
       " (150,\n",
       "  '../datasets/drum_midi//50´s Drummer MIDI Files/03 Traditional Pop/02 Frankies Girl 116BPM/04 8th Ride.mid'),\n",
       " (151,\n",
       "  '../datasets/drum_midi//50´s Drummer MIDI Files/03 Traditional Pop/02 Frankies Girl 116BPM/05 8th Ride.mid'),\n",
       " (152,\n",
       "  '../datasets/drum_midi//50´s Drummer MIDI Files/03 Traditional Pop/02 Frankies Girl 116BPM/06 8th Ride.mid'),\n",
       " (153,\n",
       "  '../datasets/drum_midi//50´s Drummer MIDI Files/03 Traditional Pop/02 Frankies Girl 116BPM/07 8th Multi.mid'),\n",
       " (154,\n",
       "  '../datasets/drum_midi//50´s Drummer MIDI Files/03 Traditional Pop/03 King Quiza 102BPM/01 8th Perc.mid'),\n",
       " (155,\n",
       "  '../datasets/drum_midi//50´s Drummer MIDI Files/03 Traditional Pop/03 King Quiza 102BPM/02 8th Hat.mid'),\n",
       " (156,\n",
       "  '../datasets/drum_midi//50´s Drummer MIDI Files/03 Traditional Pop/03 King Quiza 102BPM/03 8th Ride.mid'),\n",
       " (157,\n",
       "  '../datasets/drum_midi//50´s Drummer MIDI Files/03 Traditional Pop/03 King Quiza 102BPM/04 16th Ride.mid'),\n",
       " (158,\n",
       "  '../datasets/drum_midi//50´s Drummer MIDI Files/03 Traditional Pop/03 King Quiza 102BPM/05 16th Snare.mid'),\n",
       " (159,\n",
       "  '../datasets/drum_midi//50´s Drummer MIDI Files/03 Traditional Pop/03 King Quiza 102BPM/06 16th Toms.mid'),\n",
       " (160,\n",
       "  '../datasets/drum_midi//50´s Drummer MIDI Files/03 Traditional Pop/03 King Quiza 102BPM/07 16th Multi.mid'),\n",
       " (161,\n",
       "  '../datasets/drum_midi//50´s Drummer MIDI Files/03 Traditional Pop/04 Love 155BPM/01 8th Hat.mid'),\n",
       " (162,\n",
       "  '../datasets/drum_midi//50´s Drummer MIDI Files/03 Traditional Pop/04 Love 155BPM/02 8th Hat.mid'),\n",
       " (163,\n",
       "  '../datasets/drum_midi//50´s Drummer MIDI Files/03 Traditional Pop/04 Love 155BPM/03 8th Ride.mid'),\n",
       " (164,\n",
       "  '../datasets/drum_midi//50´s Drummer MIDI Files/03 Traditional Pop/04 Love 155BPM/04 8th Ride.mid'),\n",
       " (165,\n",
       "  '../datasets/drum_midi//50´s Drummer MIDI Files/03 Traditional Pop/04 Love 155BPM/05 8th Ride.mid'),\n",
       " (166,\n",
       "  '../datasets/drum_midi//50´s Drummer MIDI Files/03 Traditional Pop/04 Love 155BPM/06 8th Hat.mid'),\n",
       " (167,\n",
       "  '../datasets/drum_midi//50´s Drummer MIDI Files/03 Traditional Pop/04 Love 155BPM/07 8th Perc.mid'),\n",
       " (168,\n",
       "  '../datasets/drum_midi//50´s Drummer MIDI Files/03 Traditional Pop/05 Your Eyes 80BPM/01 8th Ride.mid'),\n",
       " (169,\n",
       "  '../datasets/drum_midi//50´s Drummer MIDI Files/03 Traditional Pop/05 Your Eyes 80BPM/02 8th Ride.mid'),\n",
       " (170,\n",
       "  '../datasets/drum_midi//50´s Drummer MIDI Files/03 Traditional Pop/05 Your Eyes 80BPM/03 16th Ride.mid'),\n",
       " (171,\n",
       "  '../datasets/drum_midi//50´s Drummer MIDI Files/03 Traditional Pop/05 Your Eyes 80BPM/04 16th Toms.mid'),\n",
       " (172,\n",
       "  '../datasets/drum_midi//50´s Drummer MIDI Files/03 Traditional Pop/05 Your Eyes 80BPM/05 16th Hat.mid'),\n",
       " (173,\n",
       "  '../datasets/drum_midi//50´s Drummer MIDI Files/03 Traditional Pop/05 Your Eyes 80BPM/06 8th Snare.mid'),\n",
       " (174,\n",
       "  '../datasets/drum_midi//50´s Drummer MIDI Files/03 Traditional Pop/05 Your Eyes 80BPM/07 8th hat.mid'),\n",
       " (175,\n",
       "  '../datasets/drum_midi//50´s Drummer MIDI Files/03 Traditional Pop/06 Bopop 130MPM/01 8th Hat.mid'),\n",
       " (176,\n",
       "  '../datasets/drum_midi//50´s Drummer MIDI Files/03 Traditional Pop/06 Bopop 130MPM/02 8th Ride.mid'),\n",
       " (177,\n",
       "  '../datasets/drum_midi//50´s Drummer MIDI Files/03 Traditional Pop/06 Bopop 130MPM/03 8th Ride.mid'),\n",
       " (178,\n",
       "  '../datasets/drum_midi//50´s Drummer MIDI Files/03 Traditional Pop/06 Bopop 130MPM/04 8th Toms.mid'),\n",
       " (179,\n",
       "  '../datasets/drum_midi//50´s Drummer MIDI Files/03 Traditional Pop/06 Bopop 130MPM/05 8th Hat.mid'),\n",
       " (180,\n",
       "  '../datasets/drum_midi//50´s Drummer MIDI Files/03 Traditional Pop/06 Bopop 130MPM/06 8th Hat.mid'),\n",
       " (181,\n",
       "  '../datasets/drum_midi//50´s Drummer MIDI Files/03 Traditional Pop/06 Bopop 130MPM/07 8th Hat.mid'),\n",
       " (182,\n",
       "  '../datasets/drum_midi//50´s Drummer MIDI Files/03 Traditional Pop/07 Lester Lee 133BPM/01 8th Hat.mid'),\n",
       " (183,\n",
       "  '../datasets/drum_midi//50´s Drummer MIDI Files/03 Traditional Pop/07 Lester Lee 133BPM/02 8th Ride.mid'),\n",
       " (184,\n",
       "  '../datasets/drum_midi//50´s Drummer MIDI Files/03 Traditional Pop/07 Lester Lee 133BPM/03 8th Hat.mid'),\n",
       " (185,\n",
       "  '../datasets/drum_midi//50´s Drummer MIDI Files/03 Traditional Pop/07 Lester Lee 133BPM/04 8th Perc.mid'),\n",
       " (186,\n",
       "  '../datasets/drum_midi//50´s Drummer MIDI Files/03 Traditional Pop/07 Lester Lee 133BPM/05 8th Perc.mid'),\n",
       " (187,\n",
       "  '../datasets/drum_midi//50´s Drummer MIDI Files/03 Traditional Pop/07 Lester Lee 133BPM/06 8th Toms.mid'),\n",
       " (188,\n",
       "  '../datasets/drum_midi//50´s Drummer MIDI Files/03 Traditional Pop/07 Lester Lee 133BPM/07 8th Ride.mid'),\n",
       " (189,\n",
       "  '../datasets/drum_midi//50´s Drummer MIDI Files/03 Traditional Pop/08 Cecil Cee 101BPM/01 8th Ride.mid'),\n",
       " (190,\n",
       "  '../datasets/drum_midi//50´s Drummer MIDI Files/03 Traditional Pop/08 Cecil Cee 101BPM/02 8th Ride.mid'),\n",
       " (191,\n",
       "  '../datasets/drum_midi//50´s Drummer MIDI Files/03 Traditional Pop/08 Cecil Cee 101BPM/03 16th Hat.mid'),\n",
       " (192,\n",
       "  '../datasets/drum_midi//50´s Drummer MIDI Files/03 Traditional Pop/08 Cecil Cee 101BPM/04 16th Hat.mid'),\n",
       " (193,\n",
       "  '../datasets/drum_midi//50´s Drummer MIDI Files/03 Traditional Pop/08 Cecil Cee 101BPM/05 16th Hat.mid'),\n",
       " (194,\n",
       "  '../datasets/drum_midi//50´s Drummer MIDI Files/03 Traditional Pop/08 Cecil Cee 101BPM/06 16th Perc.mid'),\n",
       " (195,\n",
       "  '../datasets/drum_midi//50´s Drummer MIDI Files/03 Traditional Pop/08 Cecil Cee 101BPM/07 16th Toms.mid'),\n",
       " (196,\n",
       "  '../datasets/drum_midi//50´s Drummer MIDI Files/03 Traditional Pop/09 Distel 155BPM/01 8th Ride.mid'),\n",
       " (197,\n",
       "  '../datasets/drum_midi//50´s Drummer MIDI Files/03 Traditional Pop/09 Distel 155BPM/02 8th Ride.mid'),\n",
       " (198,\n",
       "  '../datasets/drum_midi//50´s Drummer MIDI Files/03 Traditional Pop/09 Distel 155BPM/03 8th Hat.mid'),\n",
       " (199,\n",
       "  '../datasets/drum_midi//50´s Drummer MIDI Files/03 Traditional Pop/09 Distel 155BPM/04 8th Tom.mid'),\n",
       " (200,\n",
       "  '../datasets/drum_midi//50´s Drummer MIDI Files/03 Traditional Pop/09 Distel 155BPM/05 8th Tom.mid'),\n",
       " (201,\n",
       "  '../datasets/drum_midi//50´s Drummer MIDI Files/03 Traditional Pop/09 Distel 155BPM/06 8th Perc.mid'),\n",
       " (202,\n",
       "  '../datasets/drum_midi//50´s Drummer MIDI Files/03 Traditional Pop/09 Distel 155BPM/07 8th Perc.mid'),\n",
       " (203,\n",
       "  '../datasets/drum_midi//50´s Drummer MIDI Files/03 Traditional Pop/10 Frewild 152BPM/01 4th Hat.mid'),\n",
       " (204,\n",
       "  '../datasets/drum_midi//50´s Drummer MIDI Files/03 Traditional Pop/10 Frewild 152BPM/03 16th Hat.mid'),\n",
       " (205,\n",
       "  '../datasets/drum_midi//50´s Drummer MIDI Files/03 Traditional Pop/10 Frewild 152BPM/03 4th Hat.mid'),\n",
       " (206,\n",
       "  '../datasets/drum_midi//50´s Drummer MIDI Files/03 Traditional Pop/10 Frewild 152BPM/04 16th Ride.mid'),\n",
       " (207,\n",
       "  '../datasets/drum_midi//50´s Drummer MIDI Files/03 Traditional Pop/10 Frewild 152BPM/05 16th Toms.mid'),\n",
       " (208,\n",
       "  '../datasets/drum_midi//50´s Drummer MIDI Files/03 Traditional Pop/10 Frewild 152BPM/06 16th Perc.mid'),\n",
       " (209,\n",
       "  '../datasets/drum_midi//50´s Drummer MIDI Files/03 Traditional Pop/10 Frewild 152BPM/07 16th Multi.mid'),\n",
       " (210,\n",
       "  '../datasets/drum_midi//50´s Drummer MIDI Files/04 Country/01 Calvin 148BPM/01 8th Snare.mid'),\n",
       " (211,\n",
       "  '../datasets/drum_midi//50´s Drummer MIDI Files/04 Country/01 Calvin 148BPM/02 8th Snare.mid'),\n",
       " (212,\n",
       "  '../datasets/drum_midi//50´s Drummer MIDI Files/04 Country/01 Calvin 148BPM/03 8th Snare.mid'),\n",
       " (213,\n",
       "  '../datasets/drum_midi//50´s Drummer MIDI Files/04 Country/01 Calvin 148BPM/04 8th Hat.mid'),\n",
       " (214,\n",
       "  '../datasets/drum_midi//50´s Drummer MIDI Files/04 Country/01 Calvin 148BPM/05 8th Hat.mid'),\n",
       " (215,\n",
       "  '../datasets/drum_midi//50´s Drummer MIDI Files/04 Country/01 Calvin 148BPM/06 8th Toms.mid'),\n",
       " (216,\n",
       "  '../datasets/drum_midi//50´s Drummer MIDI Files/04 Country/01 Calvin 148BPM/07 8th Multi.mid'),\n",
       " (217,\n",
       "  '../datasets/drum_midi//50´s Drummer MIDI Files/04 Country/02 Marching 94BPM/01 8th Snare.mid'),\n",
       " (218,\n",
       "  '../datasets/drum_midi//50´s Drummer MIDI Files/04 Country/02 Marching 94BPM/02 8th Snare.mid'),\n",
       " (219,\n",
       "  '../datasets/drum_midi//50´s Drummer MIDI Files/04 Country/02 Marching 94BPM/03 8th Perc.mid'),\n",
       " (220,\n",
       "  '../datasets/drum_midi//50´s Drummer MIDI Files/04 Country/02 Marching 94BPM/04 8th Toms.mid'),\n",
       " (221,\n",
       "  '../datasets/drum_midi//50´s Drummer MIDI Files/04 Country/02 Marching 94BPM/05 8th Snare.mid'),\n",
       " (222,\n",
       "  '../datasets/drum_midi//50´s Drummer MIDI Files/04 Country/02 Marching 94BPM/06 8th Multi.mid'),\n",
       " (223,\n",
       "  '../datasets/drum_midi//50´s Drummer MIDI Files/04 Country/02 Marching 94BPM/07 8th Multi.mid'),\n",
       " (224,\n",
       "  '../datasets/drum_midi//50´s Drummer MIDI Files/04 Country/03 Straight 72BPM Brushes/01 8th Snare.mid'),\n",
       " (225,\n",
       "  '../datasets/drum_midi//50´s Drummer MIDI Files/04 Country/03 Straight 72BPM Brushes/02 8th Hat.mid'),\n",
       " (226,\n",
       "  '../datasets/drum_midi//50´s Drummer MIDI Files/04 Country/03 Straight 72BPM Brushes/03 8th Snare.mid'),\n",
       " (227,\n",
       "  '../datasets/drum_midi//50´s Drummer MIDI Files/04 Country/03 Straight 72BPM Brushes/04 8th Snare.mid'),\n",
       " (228,\n",
       "  '../datasets/drum_midi//50´s Drummer MIDI Files/04 Country/03 Straight 72BPM Brushes/05 8th Multi.mid'),\n",
       " (229,\n",
       "  '../datasets/drum_midi//50´s Drummer MIDI Files/04 Country/03 Straight 72BPM Brushes/06 8th Multi.mid'),\n",
       " (230,\n",
       "  '../datasets/drum_midi//50´s Drummer MIDI Files/04 Country/03 Straight 72BPM Brushes/07 8th Snare.mid'),\n",
       " (231,\n",
       "  '../datasets/drum_midi//50´s Drummer MIDI Files/04 Country/04 Snarey 208BPM 3-4/01 8th Snare.mid'),\n",
       " (232,\n",
       "  '../datasets/drum_midi//50´s Drummer MIDI Files/04 Country/04 Snarey 208BPM 3-4/02 8th Snare.mid'),\n",
       " (233,\n",
       "  '../datasets/drum_midi//50´s Drummer MIDI Files/04 Country/04 Snarey 208BPM 3-4/03 8th Snare.mid'),\n",
       " (234,\n",
       "  '../datasets/drum_midi//50´s Drummer MIDI Files/04 Country/04 Snarey 208BPM 3-4/04 8th Snare.mid'),\n",
       " (235,\n",
       "  '../datasets/drum_midi//50´s Drummer MIDI Files/04 Country/04 Snarey 208BPM 3-4/05 8th Snare.mid'),\n",
       " (236,\n",
       "  '../datasets/drum_midi//50´s Drummer MIDI Files/04 Country/04 Snarey 208BPM 3-4/06 8th Snare.mid'),\n",
       " (237,\n",
       "  '../datasets/drum_midi//50´s Drummer MIDI Files/04 Country/04 Snarey 208BPM 3-4/07 8th Perc.mid'),\n",
       " (238,\n",
       "  '../datasets/drum_midi//50´s Drummer MIDI Files/04 Country/05 Brewer 160BPM/01 8th Perc.mid'),\n",
       " (239,\n",
       "  '../datasets/drum_midi//50´s Drummer MIDI Files/04 Country/05 Brewer 160BPM/02 8th Hat.mid'),\n",
       " (240,\n",
       "  '../datasets/drum_midi//50´s Drummer MIDI Files/04 Country/05 Brewer 160BPM/03 8th Ride.mid'),\n",
       " (241,\n",
       "  '../datasets/drum_midi//50´s Drummer MIDI Files/04 Country/05 Brewer 160BPM/04 8th Snare.mid'),\n",
       " (242,\n",
       "  '../datasets/drum_midi//50´s Drummer MIDI Files/04 Country/05 Brewer 160BPM/05 8th Toms.mid'),\n",
       " (243,\n",
       "  '../datasets/drum_midi//50´s Drummer MIDI Files/04 Country/05 Brewer 160BPM/06 8th Perc.mid'),\n",
       " (244,\n",
       "  '../datasets/drum_midi//50´s Drummer MIDI Files/04 Country/05 Brewer 160BPM/07 8th Perc.mid'),\n",
       " (245,\n",
       "  '../datasets/drum_midi//50´s Drummer MIDI Files/04 Country/06 Booker 170BPM/01 8th Hat.mid'),\n",
       " (246,\n",
       "  '../datasets/drum_midi//50´s Drummer MIDI Files/04 Country/06 Booker 170BPM/02 8th Hat.mid'),\n",
       " (247,\n",
       "  '../datasets/drum_midi//50´s Drummer MIDI Files/04 Country/06 Booker 170BPM/03 8th Hat.mid'),\n",
       " (248,\n",
       "  '../datasets/drum_midi//50´s Drummer MIDI Files/04 Country/06 Booker 170BPM/04 8th Ride.mid'),\n",
       " (249,\n",
       "  '../datasets/drum_midi//50´s Drummer MIDI Files/04 Country/06 Booker 170BPM/05 8th Perc.mid'),\n",
       " (250,\n",
       "  '../datasets/drum_midi//50´s Drummer MIDI Files/04 Country/06 Booker 170BPM/06 8th Hat.mid'),\n",
       " (251,\n",
       "  '../datasets/drum_midi//50´s Drummer MIDI Files/04 Country/06 Booker 170BPM/07 8th Hat.mid'),\n",
       " (252,\n",
       "  '../datasets/drum_midi//50´s Drummer MIDI Files/04 Country/07 Trainy 100BPM/01 16th Snare.mid'),\n",
       " (253,\n",
       "  '../datasets/drum_midi//50´s Drummer MIDI Files/04 Country/07 Trainy 100BPM/02 16th Snare.mid'),\n",
       " (254,\n",
       "  '../datasets/drum_midi//50´s Drummer MIDI Files/04 Country/07 Trainy 100BPM/03 16th Toms.mid'),\n",
       " (255,\n",
       "  '../datasets/drum_midi//50´s Drummer MIDI Files/04 Country/07 Trainy 100BPM/04 16th Toms.mid'),\n",
       " (256,\n",
       "  '../datasets/drum_midi//50´s Drummer MIDI Files/04 Country/07 Trainy 100BPM/05 16th Perc.mid'),\n",
       " (257,\n",
       "  '../datasets/drum_midi//50´s Drummer MIDI Files/04 Country/07 Trainy 100BPM/06 16th Perc.mid'),\n",
       " (258,\n",
       "  '../datasets/drum_midi//50´s Drummer MIDI Files/04 Country/07 Trainy 100BPM/07 16th Perc.mid'),\n",
       " (259,\n",
       "  '../datasets/drum_midi//50´s Drummer MIDI Files/04 Country/08 Eddie Ed 111BPM/01 8th Hat.mid'),\n",
       " (260,\n",
       "  '../datasets/drum_midi//50´s Drummer MIDI Files/04 Country/08 Eddie Ed 111BPM/02 8th Hat.mid'),\n",
       " (261,\n",
       "  '../datasets/drum_midi//50´s Drummer MIDI Files/04 Country/08 Eddie Ed 111BPM/03 8th Hat.mid'),\n",
       " (262,\n",
       "  '../datasets/drum_midi//50´s Drummer MIDI Files/04 Country/08 Eddie Ed 111BPM/04 4th Cym.mid'),\n",
       " (263,\n",
       "  '../datasets/drum_midi//50´s Drummer MIDI Files/04 Country/08 Eddie Ed 111BPM/05 8th Tom.mid'),\n",
       " (264,\n",
       "  '../datasets/drum_midi//50´s Drummer MIDI Files/04 Country/08 Eddie Ed 111BPM/06 8th Perc.mid'),\n",
       " (265,\n",
       "  '../datasets/drum_midi//50´s Drummer MIDI Files/04 Country/08 Eddie Ed 111BPM/07 8th Perc.mid'),\n",
       " (266,\n",
       "  '../datasets/drum_midi//50´s Drummer MIDI Files/04 Country/09 Broonze 122BPM/01 8th Hat.mid'),\n",
       " (267,\n",
       "  '../datasets/drum_midi//50´s Drummer MIDI Files/04 Country/09 Broonze 122BPM/02 8th Hat.mid'),\n",
       " (268,\n",
       "  '../datasets/drum_midi//50´s Drummer MIDI Files/04 Country/09 Broonze 122BPM/03 8th Ride.mid'),\n",
       " (269,\n",
       "  '../datasets/drum_midi//50´s Drummer MIDI Files/04 Country/09 Broonze 122BPM/04 8th Hat.mid'),\n",
       " (270,\n",
       "  '../datasets/drum_midi//50´s Drummer MIDI Files/04 Country/09 Broonze 122BPM/05 8th Cym.mid'),\n",
       " (271,\n",
       "  '../datasets/drum_midi//50´s Drummer MIDI Files/04 Country/09 Broonze 122BPM/06 8th Perc.mid'),\n",
       " (272,\n",
       "  '../datasets/drum_midi//50´s Drummer MIDI Files/04 Country/09 Broonze 122BPM/07 8th Tom.mid'),\n",
       " (273,\n",
       "  '../datasets/drum_midi//50´s Drummer MIDI Files/04 Country/10 Rough Rider 183BPM/01 8th Perc.mid'),\n",
       " (274,\n",
       "  '../datasets/drum_midi//50´s Drummer MIDI Files/04 Country/10 Rough Rider 183BPM/02 8th Perc.mid'),\n",
       " (275,\n",
       "  '../datasets/drum_midi//50´s Drummer MIDI Files/04 Country/10 Rough Rider 183BPM/03 8th Hat.mid'),\n",
       " (276,\n",
       "  '../datasets/drum_midi//50´s Drummer MIDI Files/04 Country/10 Rough Rider 183BPM/04 8th Ride.mid'),\n",
       " (277,\n",
       "  '../datasets/drum_midi//50´s Drummer MIDI Files/04 Country/10 Rough Rider 183BPM/05 8th Toms.mid'),\n",
       " (278,\n",
       "  '../datasets/drum_midi//50´s Drummer MIDI Files/04 Country/10 Rough Rider 183BPM/06 8th Multi.mid'),\n",
       " (279,\n",
       "  '../datasets/drum_midi//50´s Drummer MIDI Files/04 Country/10 Rough Rider 183BPM/07 8th Hat.mid'),\n",
       " (280,\n",
       "  '../datasets/drum_midi//50´s Drummer MIDI Files/05 Jazz/01 Amel 85BPM Brushes/01 8th Snare.mid'),\n",
       " (281,\n",
       "  '../datasets/drum_midi//50´s Drummer MIDI Files/05 Jazz/01 Amel 85BPM Brushes/02 8th Snare.mid'),\n",
       " (282,\n",
       "  '../datasets/drum_midi//50´s Drummer MIDI Files/05 Jazz/01 Amel 85BPM Brushes/03 8th HiHat.mid'),\n",
       " (283,\n",
       "  '../datasets/drum_midi//50´s Drummer MIDI Files/05 Jazz/01 Amel 85BPM Brushes/04 8th Snare.mid'),\n",
       " (284,\n",
       "  '../datasets/drum_midi//50´s Drummer MIDI Files/05 Jazz/01 Amel 85BPM Brushes/05 8th Ride.mid'),\n",
       " (285,\n",
       "  '../datasets/drum_midi//50´s Drummer MIDI Files/05 Jazz/01 Amel 85BPM Brushes/06 8th Hat.mid'),\n",
       " (286,\n",
       "  '../datasets/drum_midi//50´s Drummer MIDI Files/05 Jazz/01 Amel 85BPM Brushes/07 16th Ride.mid'),\n",
       " (287,\n",
       "  '../datasets/drum_midi//50´s Drummer MIDI Files/05 Jazz/02 Another You 170BPM/01 8th Ride.mid'),\n",
       " (288,\n",
       "  '../datasets/drum_midi//50´s Drummer MIDI Files/05 Jazz/02 Another You 170BPM/02 8th Ride.mid'),\n",
       " (289,\n",
       "  '../datasets/drum_midi//50´s Drummer MIDI Files/05 Jazz/02 Another You 170BPM/03 8th Ride.mid'),\n",
       " (290,\n",
       "  '../datasets/drum_midi//50´s Drummer MIDI Files/05 Jazz/02 Another You 170BPM/04 8th Snare.mid'),\n",
       " (291,\n",
       "  '../datasets/drum_midi//50´s Drummer MIDI Files/05 Jazz/02 Another You 170BPM/05 8th Multi.mid'),\n",
       " (292,\n",
       "  '../datasets/drum_midi//50´s Drummer MIDI Files/05 Jazz/02 Another You 170BPM/06 8th Multi.mid'),\n",
       " (293,\n",
       "  '../datasets/drum_midi//50´s Drummer MIDI Files/05 Jazz/02 Another You 170BPM/07 8th Multi.mid'),\n",
       " (294,\n",
       "  '../datasets/drum_midi//50´s Drummer MIDI Files/05 Jazz/03 Cool 137BPM Brushes/01 8th Toms.mid'),\n",
       " (295,\n",
       "  '../datasets/drum_midi//50´s Drummer MIDI Files/05 Jazz/03 Cool 137BPM Brushes/02 8th Snare.mid'),\n",
       " (296,\n",
       "  '../datasets/drum_midi//50´s Drummer MIDI Files/05 Jazz/03 Cool 137BPM Brushes/03 8th Multi.mid'),\n",
       " (297,\n",
       "  '../datasets/drum_midi//50´s Drummer MIDI Files/05 Jazz/03 Cool 137BPM Brushes/04 8th Toms.mid'),\n",
       " (298,\n",
       "  '../datasets/drum_midi//50´s Drummer MIDI Files/05 Jazz/03 Cool 137BPM Brushes/05 16th Snare.mid'),\n",
       " (299,\n",
       "  '../datasets/drum_midi//50´s Drummer MIDI Files/05 Jazz/03 Cool 137BPM Brushes/06 16th Toms.mid'),\n",
       " (300,\n",
       "  '../datasets/drum_midi//50´s Drummer MIDI Files/05 Jazz/03 Cool 137BPM Brushes/07 16th Ride.mid'),\n",
       " (301,\n",
       "  '../datasets/drum_midi//50´s Drummer MIDI Files/05 Jazz/04 Silent Tear 234BPM/01 8th Snare.mid'),\n",
       " (302,\n",
       "  '../datasets/drum_midi//50´s Drummer MIDI Files/05 Jazz/04 Silent Tear 234BPM/02 8th Ride.mid'),\n",
       " (303,\n",
       "  '../datasets/drum_midi//50´s Drummer MIDI Files/05 Jazz/04 Silent Tear 234BPM/03 8th Ride.mid'),\n",
       " (304,\n",
       "  '../datasets/drum_midi//50´s Drummer MIDI Files/05 Jazz/04 Silent Tear 234BPM/04 8th Snare.mid'),\n",
       " (305,\n",
       "  '../datasets/drum_midi//50´s Drummer MIDI Files/05 Jazz/04 Silent Tear 234BPM/05 8th Multi.mid'),\n",
       " (306,\n",
       "  '../datasets/drum_midi//50´s Drummer MIDI Files/05 Jazz/04 Silent Tear 234BPM/06 8th Multi.mid'),\n",
       " (307,\n",
       "  '../datasets/drum_midi//50´s Drummer MIDI Files/05 Jazz/04 Silent Tear 234BPM/07 8th ride.mid'),\n",
       " (308,\n",
       "  '../datasets/drum_midi//50´s Drummer MIDI Files/05 Jazz/05 TNT 116BPM/01 8th Ride.mid'),\n",
       " (309,\n",
       "  '../datasets/drum_midi//50´s Drummer MIDI Files/05 Jazz/05 TNT 116BPM/02 8th Snare.mid'),\n",
       " (310,\n",
       "  '../datasets/drum_midi//50´s Drummer MIDI Files/05 Jazz/05 TNT 116BPM/03 8th HiHat.mid'),\n",
       " (311,\n",
       "  '../datasets/drum_midi//50´s Drummer MIDI Files/05 Jazz/05 TNT 116BPM/04 8th Ride.mid'),\n",
       " (312,\n",
       "  '../datasets/drum_midi//50´s Drummer MIDI Files/05 Jazz/05 TNT 116BPM/05 8th Ride.mid'),\n",
       " (313,\n",
       "  '../datasets/drum_midi//50´s Drummer MIDI Files/05 Jazz/05 TNT 116BPM/06 8th Ride.mid'),\n",
       " (314,\n",
       "  '../datasets/drum_midi//50´s Drummer MIDI Files/05 Jazz/05 TNT 116BPM/07 8th Toms.mid'),\n",
       " (315,\n",
       "  '../datasets/drum_midi//50´s Drummer MIDI Files/05 Jazz/06 Nucleus 172BPM Brushes/01 8th Snare.mid'),\n",
       " (316,\n",
       "  '../datasets/drum_midi//50´s Drummer MIDI Files/05 Jazz/06 Nucleus 172BPM Brushes/02 8th Toms.mid'),\n",
       " (317,\n",
       "  '../datasets/drum_midi//50´s Drummer MIDI Files/05 Jazz/06 Nucleus 172BPM Brushes/03 8th Snare.mid'),\n",
       " (318,\n",
       "  '../datasets/drum_midi//50´s Drummer MIDI Files/05 Jazz/06 Nucleus 172BPM Brushes/04 8th Hat.mid'),\n",
       " (319,\n",
       "  '../datasets/drum_midi//50´s Drummer MIDI Files/05 Jazz/06 Nucleus 172BPM Brushes/05 8th Hat.mid'),\n",
       " (320,\n",
       "  '../datasets/drum_midi//50´s Drummer MIDI Files/05 Jazz/06 Nucleus 172BPM Brushes/06 8th Multi.mid'),\n",
       " (321,\n",
       "  '../datasets/drum_midi//50´s Drummer MIDI Files/05 Jazz/06 Nucleus 172BPM Brushes/07 8th Multi.mid'),\n",
       " (322,\n",
       "  '../datasets/drum_midi//50´s Drummer MIDI Files/05 Jazz/07 Kooper 234BPM/01 4th Multi.mid'),\n",
       " (323,\n",
       "  '../datasets/drum_midi//50´s Drummer MIDI Files/05 Jazz/07 Kooper 234BPM/02 4th Multi.mid'),\n",
       " (324,\n",
       "  '../datasets/drum_midi//50´s Drummer MIDI Files/05 Jazz/07 Kooper 234BPM/03 8th Hat.mid'),\n",
       " (325,\n",
       "  '../datasets/drum_midi//50´s Drummer MIDI Files/05 Jazz/07 Kooper 234BPM/04 8th Perc.mid'),\n",
       " (326,\n",
       "  '../datasets/drum_midi//50´s Drummer MIDI Files/05 Jazz/07 Kooper 234BPM/05 16th Toms.mid'),\n",
       " (327,\n",
       "  '../datasets/drum_midi//50´s Drummer MIDI Files/05 Jazz/07 Kooper 234BPM/06 16th Toms.mid'),\n",
       " (328,\n",
       "  '../datasets/drum_midi//50´s Drummer MIDI Files/05 Jazz/07 Kooper 234BPM/07 16th Toms.mid'),\n",
       " (329,\n",
       "  '../datasets/drum_midi//50´s Drummer MIDI Files/05 Jazz/08 Neodop 226BPM 3-4/01 16th Ride.mid'),\n",
       " (330,\n",
       "  '../datasets/drum_midi//50´s Drummer MIDI Files/05 Jazz/08 Neodop 226BPM 3-4/02 16th Ride.mid'),\n",
       " (331,\n",
       "  '../datasets/drum_midi//50´s Drummer MIDI Files/05 Jazz/08 Neodop 226BPM 3-4/03 8th Hat.mid'),\n",
       " (332,\n",
       "  '../datasets/drum_midi//50´s Drummer MIDI Files/05 Jazz/08 Neodop 226BPM 3-4/04 8th Ride.mid'),\n",
       " (333,\n",
       "  '../datasets/drum_midi//50´s Drummer MIDI Files/05 Jazz/08 Neodop 226BPM 3-4/05 8th Multi.mid'),\n",
       " (334,\n",
       "  '../datasets/drum_midi//50´s Drummer MIDI Files/05 Jazz/08 Neodop 226BPM 3-4/06 8th Multi.mid'),\n",
       " (335,\n",
       "  '../datasets/drum_midi//50´s Drummer MIDI Files/05 Jazz/08 Neodop 226BPM 3-4/07 8th Multi.mid'),\n",
       " (336,\n",
       "  '../datasets/drum_midi//50´s Drummer MIDI Files/05 Jazz/09 West Coast 152BPM Brushes/01 8th Snare.mid'),\n",
       " (337,\n",
       "  '../datasets/drum_midi//50´s Drummer MIDI Files/05 Jazz/09 West Coast 152BPM Brushes/02 8th Snare.mid'),\n",
       " (338,\n",
       "  '../datasets/drum_midi//50´s Drummer MIDI Files/05 Jazz/09 West Coast 152BPM Brushes/03 8th Snare.mid'),\n",
       " (339,\n",
       "  '../datasets/drum_midi//50´s Drummer MIDI Files/05 Jazz/09 West Coast 152BPM Brushes/04 8th Hat.mid'),\n",
       " (340,\n",
       "  '../datasets/drum_midi//50´s Drummer MIDI Files/05 Jazz/09 West Coast 152BPM Brushes/05 8th Multi.mid'),\n",
       " (341,\n",
       "  '../datasets/drum_midi//50´s Drummer MIDI Files/05 Jazz/09 West Coast 152BPM Brushes/06 8th Multi.mid'),\n",
       " (342,\n",
       "  '../datasets/drum_midi//50´s Drummer MIDI Files/05 Jazz/09 West Coast 152BPM Brushes/07 8th Multi.mid'),\n",
       " (343,\n",
       "  '../datasets/drum_midi//50´s Drummer MIDI Files/05 Jazz/10 Scalis 190BPM 3-4/01 8th Snare.mid'),\n",
       " (344,\n",
       "  '../datasets/drum_midi//50´s Drummer MIDI Files/05 Jazz/10 Scalis 190BPM 3-4/02 8th hat.mid'),\n",
       " (345,\n",
       "  '../datasets/drum_midi//50´s Drummer MIDI Files/05 Jazz/10 Scalis 190BPM 3-4/03 8th Toms.mid'),\n",
       " (346,\n",
       "  '../datasets/drum_midi//50´s Drummer MIDI Files/05 Jazz/10 Scalis 190BPM 3-4/04 8th Toms.mid'),\n",
       " (347,\n",
       "  '../datasets/drum_midi//50´s Drummer MIDI Files/05 Jazz/10 Scalis 190BPM 3-4/05 8th Multi.mid'),\n",
       " (348,\n",
       "  '../datasets/drum_midi//50´s Drummer MIDI Files/05 Jazz/10 Scalis 190BPM 3-4/06 8th Snare.mid'),\n",
       " (349,\n",
       "  '../datasets/drum_midi//50´s Drummer MIDI Files/05 Jazz/10 Scalis 190BPM 3-4/07 8th Snare.mid'),\n",
       " (350,\n",
       "  '../datasets/drum_midi//50´s Drummer MIDI Files/06 Soul - Funk/01 Soul Groove 107BPM/01 16th Hat.mid'),\n",
       " (351,\n",
       "  '../datasets/drum_midi//50´s Drummer MIDI Files/06 Soul - Funk/01 Soul Groove 107BPM/02 16th Hat.mid'),\n",
       " (352,\n",
       "  '../datasets/drum_midi//50´s Drummer MIDI Files/06 Soul - Funk/01 Soul Groove 107BPM/03 8th Hat.mid'),\n",
       " (353,\n",
       "  '../datasets/drum_midi//50´s Drummer MIDI Files/06 Soul - Funk/01 Soul Groove 107BPM/04 16th Hat.mid'),\n",
       " (354,\n",
       "  '../datasets/drum_midi//50´s Drummer MIDI Files/06 Soul - Funk/01 Soul Groove 107BPM/05 16th Hat.mid'),\n",
       " (355,\n",
       "  '../datasets/drum_midi//50´s Drummer MIDI Files/06 Soul - Funk/01 Soul Groove 107BPM/06 8th Hat.mid'),\n",
       " (356,\n",
       "  '../datasets/drum_midi//50´s Drummer MIDI Files/06 Soul - Funk/01 Soul Groove 107BPM/07 16th Hat.mid'),\n",
       " (357,\n",
       "  '../datasets/drum_midi//50´s Drummer MIDI Files/06 Soul - Funk/02 Boogaloo 120BPM/01 16th Multi.mid'),\n",
       " (358,\n",
       "  '../datasets/drum_midi//50´s Drummer MIDI Files/06 Soul - Funk/02 Boogaloo 120BPM/02 4th Multi.mid'),\n",
       " (359,\n",
       "  '../datasets/drum_midi//50´s Drummer MIDI Files/06 Soul - Funk/02 Boogaloo 120BPM/03 16th Hat.mid'),\n",
       " (360,\n",
       "  '../datasets/drum_midi//50´s Drummer MIDI Files/06 Soul - Funk/02 Boogaloo 120BPM/04 4th Multi.mid'),\n",
       " (361,\n",
       "  '../datasets/drum_midi//50´s Drummer MIDI Files/06 Soul - Funk/02 Boogaloo 120BPM/05 8th Multi.mid'),\n",
       " (362,\n",
       "  '../datasets/drum_midi//50´s Drummer MIDI Files/06 Soul - Funk/02 Boogaloo 120BPM/06 16th Hat.mid'),\n",
       " (363,\n",
       "  '../datasets/drum_midi//50´s Drummer MIDI Files/06 Soul - Funk/02 Boogaloo 120BPM/07 8th Hat.mid'),\n",
       " (364,\n",
       "  '../datasets/drum_midi//50´s Drummer MIDI Files/06 Soul - Funk/03 Cadence Soul 105BPM/01 4th Hat.mid'),\n",
       " (365,\n",
       "  '../datasets/drum_midi//50´s Drummer MIDI Files/06 Soul - Funk/03 Cadence Soul 105BPM/02 4th Hat.mid'),\n",
       " (366,\n",
       "  '../datasets/drum_midi//50´s Drummer MIDI Files/06 Soul - Funk/03 Cadence Soul 105BPM/03 8th Hat.mid'),\n",
       " (367,\n",
       "  '../datasets/drum_midi//50´s Drummer MIDI Files/06 Soul - Funk/03 Cadence Soul 105BPM/04 4th Hat.mid'),\n",
       " (368,\n",
       "  '../datasets/drum_midi//50´s Drummer MIDI Files/06 Soul - Funk/03 Cadence Soul 105BPM/05 4th Hat.mid'),\n",
       " (369,\n",
       "  '../datasets/drum_midi//50´s Drummer MIDI Files/06 Soul - Funk/03 Cadence Soul 105BPM/06 8th Cym.mid'),\n",
       " (370,\n",
       "  '../datasets/drum_midi//50´s Drummer MIDI Files/06 Soul - Funk/03 Cadence Soul 105BPM/07 8th Hat.mid'),\n",
       " (371,\n",
       "  '../datasets/drum_midi//50´s Drummer MIDI Files/06 Soul - Funk/04 GoGo Soul 100BPM/01 16th Toms.mid'),\n",
       " (372,\n",
       "  '../datasets/drum_midi//50´s Drummer MIDI Files/06 Soul - Funk/04 GoGo Soul 100BPM/02 16th Toms.mid'),\n",
       " (373,\n",
       "  '../datasets/drum_midi//50´s Drummer MIDI Files/06 Soul - Funk/04 GoGo Soul 100BPM/03 8th Hat.mid'),\n",
       " (374,\n",
       "  '../datasets/drum_midi//50´s Drummer MIDI Files/06 Soul - Funk/04 GoGo Soul 100BPM/04 8th Hat.mid'),\n",
       " (375,\n",
       "  '../datasets/drum_midi//50´s Drummer MIDI Files/06 Soul - Funk/04 GoGo Soul 100BPM/05 8th Hat.mid'),\n",
       " (376,\n",
       "  '../datasets/drum_midi//50´s Drummer MIDI Files/06 Soul - Funk/04 GoGo Soul 100BPM/06 8th Hat.mid'),\n",
       " (377,\n",
       "  '../datasets/drum_midi//50´s Drummer MIDI Files/06 Soul - Funk/04 GoGo Soul 100BPM/07 8th Hat.mid'),\n",
       " (378,\n",
       "  '../datasets/drum_midi//50´s Drummer MIDI Files/06 Soul - Funk/05 Hip Hop 95BPM/01 16th Hat.mid'),\n",
       " (379,\n",
       "  '../datasets/drum_midi//50´s Drummer MIDI Files/06 Soul - Funk/05 Hip Hop 95BPM/02 16th Hat.mid'),\n",
       " (380,\n",
       "  '../datasets/drum_midi//50´s Drummer MIDI Files/06 Soul - Funk/05 Hip Hop 95BPM/03 16th Hat.mid'),\n",
       " (381,\n",
       "  '../datasets/drum_midi//50´s Drummer MIDI Files/06 Soul - Funk/05 Hip Hop 95BPM/04 8th Hat.mid'),\n",
       " (382,\n",
       "  '../datasets/drum_midi//50´s Drummer MIDI Files/06 Soul - Funk/05 Hip Hop 95BPM/05 16th Hat.mid'),\n",
       " (383,\n",
       "  '../datasets/drum_midi//50´s Drummer MIDI Files/06 Soul - Funk/05 Hip Hop 95BPM/06 16th Hat.mid'),\n",
       " (384,\n",
       "  '../datasets/drum_midi//50´s Drummer MIDI Files/06 Soul - Funk/05 Hip Hop 95BPM/07 16th Hat.mid'),\n",
       " (385,\n",
       "  '../datasets/drum_midi//50´s Drummer MIDI Files/06 Soul - Funk/06 JB Groove 115BPM/01 4th Hat.mid'),\n",
       " (386,\n",
       "  '../datasets/drum_midi//50´s Drummer MIDI Files/06 Soul - Funk/06 JB Groove 115BPM/02 16th Hat.mid'),\n",
       " (387,\n",
       "  '../datasets/drum_midi//50´s Drummer MIDI Files/06 Soul - Funk/06 JB Groove 115BPM/03 4th Hat.mid'),\n",
       " (388,\n",
       "  '../datasets/drum_midi//50´s Drummer MIDI Files/06 Soul - Funk/06 JB Groove 115BPM/04 4th Hat.mid'),\n",
       " (389,\n",
       "  '../datasets/drum_midi//50´s Drummer MIDI Files/06 Soul - Funk/06 JB Groove 115BPM/05 4th Hat.mid'),\n",
       " (390,\n",
       "  '../datasets/drum_midi//50´s Drummer MIDI Files/06 Soul - Funk/06 JB Groove 115BPM/06 8th Cym.mid'),\n",
       " (391,\n",
       "  '../datasets/drum_midi//50´s Drummer MIDI Files/06 Soul - Funk/06 JB Groove 115BPM/07 8th Cym.mid'),\n",
       " (392,\n",
       "  '../datasets/drum_midi//50´s Drummer MIDI Files/06 Soul - Funk/07 Ride Swing 95Bpm/01 8th Cym.mid'),\n",
       " (393,\n",
       "  '../datasets/drum_midi//50´s Drummer MIDI Files/06 Soul - Funk/07 Ride Swing 95Bpm/02 8th Cym.mid'),\n",
       " (394,\n",
       "  '../datasets/drum_midi//50´s Drummer MIDI Files/06 Soul - Funk/07 Ride Swing 95Bpm/03 8th Cym.mid'),\n",
       " (395,\n",
       "  '../datasets/drum_midi//50´s Drummer MIDI Files/06 Soul - Funk/07 Ride Swing 95Bpm/04 8th Cym.mid'),\n",
       " (396,\n",
       "  '../datasets/drum_midi//50´s Drummer MIDI Files/06 Soul - Funk/07 Ride Swing 95Bpm/05 8th Hat.mid'),\n",
       " (397,\n",
       "  '../datasets/drum_midi//50´s Drummer MIDI Files/06 Soul - Funk/07 Ride Swing 95Bpm/06 8th Hat.mid'),\n",
       " (398,\n",
       "  '../datasets/drum_midi//50´s Drummer MIDI Files/06 Soul - Funk/07 Ride Swing 95Bpm/07 8th Hat.mid'),\n",
       " (399,\n",
       "  '../datasets/drum_midi//50´s Drummer MIDI Files/06 Soul - Funk/08 Rim Soul 90BPM/01 4th Hat.mid'),\n",
       " (400,\n",
       "  '../datasets/drum_midi//50´s Drummer MIDI Files/06 Soul - Funk/08 Rim Soul 90BPM/02 4th Hat.mid'),\n",
       " (401,\n",
       "  '../datasets/drum_midi//50´s Drummer MIDI Files/06 Soul - Funk/08 Rim Soul 90BPM/03 4th Hat.mid'),\n",
       " (402,\n",
       "  '../datasets/drum_midi//50´s Drummer MIDI Files/06 Soul - Funk/08 Rim Soul 90BPM/04 16th Hat.mid'),\n",
       " (403,\n",
       "  '../datasets/drum_midi//50´s Drummer MIDI Files/06 Soul - Funk/08 Rim Soul 90BPM/05 16th Hat.mid'),\n",
       " (404,\n",
       "  '../datasets/drum_midi//50´s Drummer MIDI Files/06 Soul - Funk/08 Rim Soul 90BPM/06 16th Hat.mid'),\n",
       " (405,\n",
       "  '../datasets/drum_midi//50´s Drummer MIDI Files/06 Soul - Funk/08 Rim Soul 90BPM/07 16th Hat.mid'),\n",
       " (406,\n",
       "  '../datasets/drum_midi//50´s Drummer MIDI Files/06 Soul - Funk/09 Smooth Soul 81BPM/01 16th Hat.mid'),\n",
       " (407,\n",
       "  '../datasets/drum_midi//50´s Drummer MIDI Files/06 Soul - Funk/09 Smooth Soul 81BPM/02 16th Hat.mid'),\n",
       " (408,\n",
       "  '../datasets/drum_midi//50´s Drummer MIDI Files/06 Soul - Funk/09 Smooth Soul 81BPM/03 16th Hat.mid'),\n",
       " (409,\n",
       "  '../datasets/drum_midi//50´s Drummer MIDI Files/06 Soul - Funk/09 Smooth Soul 81BPM/04 16th Hat.mid'),\n",
       " (410,\n",
       "  '../datasets/drum_midi//50´s Drummer MIDI Files/06 Soul - Funk/09 Smooth Soul 81BPM/05 16th Hat.mid'),\n",
       " (411,\n",
       "  '../datasets/drum_midi//50´s Drummer MIDI Files/06 Soul - Funk/09 Smooth Soul 81BPM/06 16th Hat.mid'),\n",
       " (412,\n",
       "  '../datasets/drum_midi//50´s Drummer MIDI Files/06 Soul - Funk/09 Smooth Soul 81BPM/07 16th Hat.mid'),\n",
       " (413,\n",
       "  '../datasets/drum_midi//50´s Drummer MIDI Files/06 Soul - Funk/10 Syncopated Ride 128BPM/01 16th Cym.mid'),\n",
       " (414,\n",
       "  '../datasets/drum_midi//50´s Drummer MIDI Files/06 Soul - Funk/10 Syncopated Ride 128BPM/02 16th Cym.mid'),\n",
       " (415,\n",
       "  '../datasets/drum_midi//50´s Drummer MIDI Files/06 Soul - Funk/10 Syncopated Ride 128BPM/03 16th Cym.mid'),\n",
       " (416,\n",
       "  '../datasets/drum_midi//50´s Drummer MIDI Files/06 Soul - Funk/10 Syncopated Ride 128BPM/04 16th Hat.mid'),\n",
       " (417,\n",
       "  '../datasets/drum_midi//50´s Drummer MIDI Files/06 Soul - Funk/10 Syncopated Ride 128BPM/05 16th Hat.mid'),\n",
       " (418,\n",
       "  '../datasets/drum_midi//50´s Drummer MIDI Files/06 Soul - Funk/10 Syncopated Ride 128BPM/06 16th Cym.mid'),\n",
       " (419,\n",
       "  '../datasets/drum_midi//50´s Drummer MIDI Files/06 Soul - Funk/10 Syncopated Ride 128BPM/07 16th Hat.mid'),\n",
       " (420,\n",
       "  '../datasets/drum_midi//50´s Drummer MIDI Files/07 Indie/01 Rock Shuffle 130BPM/01 8th Toms.mid'),\n",
       " (421,\n",
       "  '../datasets/drum_midi//50´s Drummer MIDI Files/07 Indie/01 Rock Shuffle 130BPM/02 8th Hat.mid'),\n",
       " (422,\n",
       "  '../datasets/drum_midi//50´s Drummer MIDI Files/07 Indie/01 Rock Shuffle 130BPM/03 8th Cym.mid'),\n",
       " (423,\n",
       "  '../datasets/drum_midi//50´s Drummer MIDI Files/07 Indie/01 Rock Shuffle 130BPM/04 4th Cym.mid'),\n",
       " (424,\n",
       "  '../datasets/drum_midi//50´s Drummer MIDI Files/07 Indie/01 Rock Shuffle 130BPM/05 12th Hat.mid'),\n",
       " (425,\n",
       "  '../datasets/drum_midi//50´s Drummer MIDI Files/07 Indie/01 Rock Shuffle 130BPM/06 4th Hat.mid'),\n",
       " (426,\n",
       "  '../datasets/drum_midi//50´s Drummer MIDI Files/07 Indie/01 Rock Shuffle 130BPM/07 12th Toms.mid'),\n",
       " (427,\n",
       "  '../datasets/drum_midi//50´s Drummer MIDI Files/07 Indie/02 Rock Tribal 125BPM/01 4th Toms.mid'),\n",
       " (428,\n",
       "  '../datasets/drum_midi//50´s Drummer MIDI Files/07 Indie/02 Rock Tribal 125BPM/02 16th Hat.mid'),\n",
       " (429,\n",
       "  '../datasets/drum_midi//50´s Drummer MIDI Files/07 Indie/02 Rock Tribal 125BPM/03 4th Toms.mid'),\n",
       " (430,\n",
       "  '../datasets/drum_midi//50´s Drummer MIDI Files/07 Indie/02 Rock Tribal 125BPM/04 8th Cym.mid'),\n",
       " (431,\n",
       "  '../datasets/drum_midi//50´s Drummer MIDI Files/07 Indie/02 Rock Tribal 125BPM/05 2th Toms.mid'),\n",
       " (432,\n",
       "  '../datasets/drum_midi//50´s Drummer MIDI Files/07 Indie/02 Rock Tribal 125BPM/06 16th Hat.mid'),\n",
       " (433,\n",
       "  '../datasets/drum_midi//50´s Drummer MIDI Files/07 Indie/02 Rock Tribal 125BPM/07 16th Cym.mid'),\n",
       " (434,\n",
       "  '../datasets/drum_midi//50´s Drummer MIDI Files/07 Indie/03 Moon 137BPM/01 8th Cym.mid'),\n",
       " (435,\n",
       "  '../datasets/drum_midi//50´s Drummer MIDI Files/07 Indie/03 Moon 137BPM/02 8th Hat.mid'),\n",
       " (436,\n",
       "  '../datasets/drum_midi//50´s Drummer MIDI Files/07 Indie/03 Moon 137BPM/03 8th Cym.mid'),\n",
       " (437,\n",
       "  '../datasets/drum_midi//50´s Drummer MIDI Files/07 Indie/03 Moon 137BPM/04 2th Toms.mid'),\n",
       " (438,\n",
       "  '../datasets/drum_midi//50´s Drummer MIDI Files/07 Indie/03 Moon 137BPM/05 4th Cym.mid'),\n",
       " (439,\n",
       "  '../datasets/drum_midi//50´s Drummer MIDI Files/07 Indie/03 Moon 137BPM/06 16th Hat.mid'),\n",
       " (440,\n",
       "  '../datasets/drum_midi//50´s Drummer MIDI Files/07 Indie/03 Moon 137BPM/07 8th Toms.mid'),\n",
       " (441,\n",
       "  '../datasets/drum_midi//50´s Drummer MIDI Files/07 Indie/04 Titanic 97BPM/01 8th Hat.mid'),\n",
       " (442,\n",
       "  '../datasets/drum_midi//50´s Drummer MIDI Files/07 Indie/04 Titanic 97BPM/02 16th Hat.mid'),\n",
       " (443,\n",
       "  '../datasets/drum_midi//50´s Drummer MIDI Files/07 Indie/04 Titanic 97BPM/03 4th Cym.mid'),\n",
       " (444,\n",
       "  '../datasets/drum_midi//50´s Drummer MIDI Files/07 Indie/04 Titanic 97BPM/04 8th Cym.mid'),\n",
       " (445,\n",
       "  '../datasets/drum_midi//50´s Drummer MIDI Files/07 Indie/04 Titanic 97BPM/05 8th Hat.mid'),\n",
       " (446,\n",
       "  '../datasets/drum_midi//50´s Drummer MIDI Files/07 Indie/04 Titanic 97BPM/06 8th Toms.mid'),\n",
       " (447,\n",
       "  '../datasets/drum_midi//50´s Drummer MIDI Files/07 Indie/04 Titanic 97BPM/07 16th Cym.mid'),\n",
       " (448,\n",
       "  '../datasets/drum_midi//50´s Drummer MIDI Files/07 Indie/05 Halftime 71BPM/01 16th Hat.mid'),\n",
       " (449,\n",
       "  '../datasets/drum_midi//50´s Drummer MIDI Files/07 Indie/05 Halftime 71BPM/02 16th Cym.mid'),\n",
       " (450,\n",
       "  '../datasets/drum_midi//50´s Drummer MIDI Files/07 Indie/05 Halftime 71BPM/03 16th Perc.mid'),\n",
       " (451,\n",
       "  '../datasets/drum_midi//50´s Drummer MIDI Files/07 Indie/05 Halftime 71BPM/04 16th Cym.mid'),\n",
       " (452,\n",
       "  '../datasets/drum_midi//50´s Drummer MIDI Files/07 Indie/05 Halftime 71BPM/05 16th Toms.mid'),\n",
       " (453,\n",
       "  '../datasets/drum_midi//50´s Drummer MIDI Files/07 Indie/05 Halftime 71BPM/06 16th Ride.mid'),\n",
       " (454,\n",
       "  '../datasets/drum_midi//50´s Drummer MIDI Files/07 Indie/05 Halftime 71BPM/07 8th Toms.mid'),\n",
       " (455,\n",
       "  '../datasets/drum_midi//50´s Drummer MIDI Files/07 Indie/06 Swing Funk 102BPM/01 8th Hat.mid'),\n",
       " (456,\n",
       "  '../datasets/drum_midi//50´s Drummer MIDI Files/07 Indie/06 Swing Funk 102BPM/02 8th Cym.mid'),\n",
       " (457,\n",
       "  '../datasets/drum_midi//50´s Drummer MIDI Files/07 Indie/06 Swing Funk 102BPM/03 8th Hat.mid'),\n",
       " (458,\n",
       "  '../datasets/drum_midi//50´s Drummer MIDI Files/07 Indie/06 Swing Funk 102BPM/04 8th Cym.mid'),\n",
       " (459,\n",
       "  '../datasets/drum_midi//50´s Drummer MIDI Files/07 Indie/06 Swing Funk 102BPM/05 8th Hat.mid'),\n",
       " (460,\n",
       "  '../datasets/drum_midi//50´s Drummer MIDI Files/07 Indie/06 Swing Funk 102BPM/06 8th Cym.mid'),\n",
       " (461,\n",
       "  '../datasets/drum_midi//50´s Drummer MIDI Files/07 Indie/06 Swing Funk 102BPM/07 8th Cym.mid'),\n",
       " (462,\n",
       "  '../datasets/drum_midi//50´s Drummer MIDI Files/07 Indie/07 Rock Keeler 133BPM/01 8th Hat.mid'),\n",
       " (463,\n",
       "  '../datasets/drum_midi//50´s Drummer MIDI Files/07 Indie/07 Rock Keeler 133BPM/02 4th Hat.mid'),\n",
       " (464,\n",
       "  '../datasets/drum_midi//50´s Drummer MIDI Files/07 Indie/07 Rock Keeler 133BPM/03 8th Toms.mid'),\n",
       " (465,\n",
       "  '../datasets/drum_midi//50´s Drummer MIDI Files/07 Indie/07 Rock Keeler 133BPM/04 8th Perc.mid'),\n",
       " (466,\n",
       "  '../datasets/drum_midi//50´s Drummer MIDI Files/07 Indie/07 Rock Keeler 133BPM/05 8th Hat.mid'),\n",
       " (467,\n",
       "  '../datasets/drum_midi//50´s Drummer MIDI Files/07 Indie/07 Rock Keeler 133BPM/06 8th Cym.mid'),\n",
       " (468,\n",
       "  '../datasets/drum_midi//50´s Drummer MIDI Files/07 Indie/07 Rock Keeler 133BPM/07 4th Cym.mid'),\n",
       " (469,\n",
       "  '../datasets/drum_midi//50´s Drummer MIDI Files/07 Indie/08 Bouncer 162BPM/01 8th Cym.mid'),\n",
       " (470,\n",
       "  '../datasets/drum_midi//50´s Drummer MIDI Files/07 Indie/08 Bouncer 162BPM/02 8th Hat.mid'),\n",
       " (471,\n",
       "  '../datasets/drum_midi//50´s Drummer MIDI Files/07 Indie/08 Bouncer 162BPM/03 4th Hat.mid'),\n",
       " (472,\n",
       "  '../datasets/drum_midi//50´s Drummer MIDI Files/07 Indie/08 Bouncer 162BPM/04 8th Cym.mid'),\n",
       " (473,\n",
       "  '../datasets/drum_midi//50´s Drummer MIDI Files/07 Indie/08 Bouncer 162BPM/05 8th Hat.mid'),\n",
       " (474,\n",
       "  '../datasets/drum_midi//50´s Drummer MIDI Files/07 Indie/08 Bouncer 162BPM/06 8th Hat.mid'),\n",
       " (475,\n",
       "  '../datasets/drum_midi//50´s Drummer MIDI Files/07 Indie/08 Bouncer 162BPM/07 8th Cym.mid'),\n",
       " (476,\n",
       "  '../datasets/drum_midi//50´s Drummer MIDI Files/07 Indie/09 Slow Shuffle 80BPM/01 4th Toms.mid'),\n",
       " (477,\n",
       "  '../datasets/drum_midi//50´s Drummer MIDI Files/07 Indie/09 Slow Shuffle 80BPM/02 16th Hat.mid'),\n",
       " (478,\n",
       "  '../datasets/drum_midi//50´s Drummer MIDI Files/07 Indie/09 Slow Shuffle 80BPM/03 16th Hat.mid'),\n",
       " (479,\n",
       "  '../datasets/drum_midi//50´s Drummer MIDI Files/07 Indie/09 Slow Shuffle 80BPM/04 16th Cym.mid'),\n",
       " (480,\n",
       "  '../datasets/drum_midi//50´s Drummer MIDI Files/07 Indie/09 Slow Shuffle 80BPM/05 8th Toms.mid'),\n",
       " (481,\n",
       "  '../datasets/drum_midi//50´s Drummer MIDI Files/07 Indie/09 Slow Shuffle 80BPM/06 8th Toms.mid'),\n",
       " (482,\n",
       "  '../datasets/drum_midi//50´s Drummer MIDI Files/07 Indie/09 Slow Shuffle 80BPM/07 16th Cym.mid'),\n",
       " (483,\n",
       "  '../datasets/drum_midi//50´s Drummer MIDI Files/07 Indie/10 Chilled 120BPM/01 8th Cym.mid'),\n",
       " (484,\n",
       "  '../datasets/drum_midi//50´s Drummer MIDI Files/07 Indie/10 Chilled 120BPM/02 8th Hat.mid'),\n",
       " (485,\n",
       "  '../datasets/drum_midi//50´s Drummer MIDI Files/07 Indie/10 Chilled 120BPM/03 8th Cym.mid'),\n",
       " (486,\n",
       "  '../datasets/drum_midi//50´s Drummer MIDI Files/07 Indie/10 Chilled 120BPM/04 8th Hat.mid'),\n",
       " (487,\n",
       "  '../datasets/drum_midi//50´s Drummer MIDI Files/07 Indie/10 Chilled 120BPM/05 16th Hat.mid'),\n",
       " (488,\n",
       "  '../datasets/drum_midi//50´s Drummer MIDI Files/07 Indie/10 Chilled 120BPM/06 8th Toms.mid'),\n",
       " (489,\n",
       "  '../datasets/drum_midi//50´s Drummer MIDI Files/07 Indie/10 Chilled 120BPM/07 8th Toms.mid'),\n",
       " (490,\n",
       "  '../datasets/drum_midi//50´s Drummer MIDI Files/07 Indie/11 Disco Dancer 135BPM/01 4th Hat .mid'),\n",
       " (491,\n",
       "  '../datasets/drum_midi//50´s Drummer MIDI Files/07 Indie/11 Disco Dancer 135BPM/02 8th Hat.mid'),\n",
       " (492,\n",
       "  '../datasets/drum_midi//50´s Drummer MIDI Files/07 Indie/11 Disco Dancer 135BPM/03 8th Hat.mid'),\n",
       " (493,\n",
       "  '../datasets/drum_midi//50´s Drummer MIDI Files/07 Indie/11 Disco Dancer 135BPM/04 16th Hat.mid'),\n",
       " (494,\n",
       "  '../datasets/drum_midi//50´s Drummer MIDI Files/07 Indie/11 Disco Dancer 135BPM/05 8th Cym.mid'),\n",
       " (495,\n",
       "  '../datasets/drum_midi//50´s Drummer MIDI Files/07 Indie/11 Disco Dancer 135BPM/06 4th Cym.mid'),\n",
       " (496,\n",
       "  '../datasets/drum_midi//50´s Drummer MIDI Files/07 Indie/11 Disco Dancer 135BPM/07 4th Perc.mid'),\n",
       " (497,\n",
       "  '../datasets/drum_midi//50´s Drummer MIDI Files/07 Indie/12 Sticks Up 155BPM/01 8th Perc.mid'),\n",
       " (498,\n",
       "  '../datasets/drum_midi//50´s Drummer MIDI Files/07 Indie/12 Sticks Up 155BPM/02 8th Hat.mid'),\n",
       " (499,\n",
       "  '../datasets/drum_midi//50´s Drummer MIDI Files/07 Indie/12 Sticks Up 155BPM/03 16th Hat.mid')]"
      ]
     },
     "execution_count": 7,
     "metadata": {},
     "output_type": "execute_result"
    }
   ],
   "source": [
    "[(i,k) for i,k in enumerate(labels)]"
   ]
  },
  {
   "cell_type": "code",
   "execution_count": 8,
   "metadata": {},
   "outputs": [
    {
     "data": {
      "text/plain": [
       "(500, 40, 7, 1)"
      ]
     },
     "execution_count": 8,
     "metadata": {},
     "output_type": "execute_result"
    }
   ],
   "source": [
    "x_train.shape"
   ]
  },
  {
   "cell_type": "code",
   "execution_count": 9,
   "metadata": {},
   "outputs": [
    {
     "data": {
      "text/plain": [
       "((500, 40, 7, 1), 450)"
      ]
     },
     "execution_count": 9,
     "metadata": {},
     "output_type": "execute_result"
    }
   ],
   "source": [
    "m = int(x_train.shape[0] * 0.9)\n",
    "x_train.shape, m"
   ]
  },
  {
   "cell_type": "code",
   "execution_count": 10,
   "metadata": {},
   "outputs": [],
   "source": [
    "x_test = x_train[m:]\n",
    "x_train = x_train[:m]"
   ]
  },
  {
   "cell_type": "code",
   "execution_count": 11,
   "metadata": {},
   "outputs": [
    {
     "name": "stdout",
     "output_type": "stream",
     "text": [
      "m (40, 7)\n"
     ]
    },
    {
     "data": {
      "image/png": "[encoded data removed]",
      "text/plain": [
       "<matplotlib.figure.Figure at 0x1194255f8>"
      ]
     },
     "metadata": {},
     "output_type": "display_data"
    },
    {
     "name": "stdout",
     "output_type": "stream",
     "text": [
      "m (40, 7)\n"
     ]
    },
    {
     "data": {
      "image/png": "[encoded data removed]",
      "text/plain": [
       "<matplotlib.figure.Figure at 0x117ac9240>"
      ]
     },
     "metadata": {},
     "output_type": "display_data"
    },
    {
     "data": {
      "text/plain": [
       "array([\"../datasets/drum_midi//50´s Drummer MIDI Files/01 Rock'n'Roll/01 Dancin Rick 166BPM/01 8th Hat.mid\",\n",
       "       '../datasets/drum_midi//50´s Drummer MIDI Files/06 Soul - Funk/08 Rim Soul 90BPM/01 4th Hat.mid'],\n",
       "      dtype='<U106')"
      ]
     },
     "execution_count": 11,
     "metadata": {},
     "output_type": "execute_result"
    }
   ],
   "source": [
    "i = 0\n",
    "j = 399\n",
    "plot.single(x_train[i, :50,:,0])\n",
    "plot.single(x_train[j, :50,:,0])\n",
    "# plot.single(x_train[2, :50,:,0])\n",
    "np.array(labels)[[i,j]]"
   ]
  },
  {
   "cell_type": "code",
   "execution_count": 12,
   "metadata": {},
   "outputs": [
    {
     "data": {
      "text/plain": [
       "(40, 7, 1)"
      ]
     },
     "execution_count": 12,
     "metadata": {},
     "output_type": "execute_result"
    }
   ],
   "source": [
    "input_shape = x_train[0].shape\n",
    "timesteps = input_shape[0]\n",
    "notes = input_shape[1]\n",
    "input_shape"
   ]
  },
  {
   "cell_type": "code",
   "execution_count": 13,
   "metadata": {},
   "outputs": [],
   "source": [
    "latent_dim = 5\n",
    "epsilon_std = 1.0"
   ]
  },
  {
   "cell_type": "code",
   "execution_count": 14,
   "metadata": {},
   "outputs": [],
   "source": [
    "def encoder(input_shape, dropout=0.1):\n",
    "    encoder_input = Input(shape=input_shape)\n",
    "    nodes = np.prod(input_shape)\n",
    "    timesteps, notes, channels = input_shape\n",
    "    \n",
    "    # Convolution\n",
    "    h = encoder_input\n",
    "    k = (2,1)\n",
    "    s = (2,1)\n",
    "    \n",
    "    h = Reshape((timesteps, notes))(h)\n",
    "    h = Conv1D(64, kernel_size=2, strides=1, activation='relu', padding='valid')(h)\n",
    "    \n",
    "    h = Bidirectional(LSTM(128))(h)\n",
    "\n",
    "    # Z Mean, Variance\n",
    "    z_mean = Dense(latent_dim, name='z_mean')(h) # , activation='relu'\n",
    "    z_log_var = Dense(latent_dim, name='z_log_var')(h) # , activation='relu'\n",
    "        \n",
    "    encoder_output = [z_mean, z_log_var]\n",
    "    encoder_model = Model(encoder_input, encoder_output, name='encoder_model-')\n",
    "#     print('Extra params:', [k.count_params() for k in [rnn, reshape, capsule]])\n",
    "\n",
    "    return encoder_model, encoder_input, z_mean, z_log_var"
   ]
  },
  {
   "cell_type": "code",
   "execution_count": 15,
   "metadata": {
    "scrolled": false
   },
   "outputs": [
    {
     "name": "stdout",
     "output_type": "stream",
     "text": [
      "__________________________________________________________________________________________________\n",
      "Layer (type)                    Output Shape         Param #     Connected to                     \n",
      "==================================================================================================\n",
      "input_1 (InputLayer)            (None, 40, 7, 1)     0                                            \n",
      "__________________________________________________________________________________________________\n",
      "reshape_1 (Reshape)             (None, 40, 7)        0           input_1[0][0]                    \n",
      "__________________________________________________________________________________________________\n",
      "conv1d_1 (Conv1D)               (None, 39, 64)       960         reshape_1[0][0]                  \n",
      "__________________________________________________________________________________________________\n",
      "bidirectional_1 (Bidirectional) (None, 256)          197632      conv1d_1[0][0]                   \n",
      "__________________________________________________________________________________________________\n",
      "z_mean (Dense)                  (None, 5)            1285        bidirectional_1[0][0]            \n",
      "__________________________________________________________________________________________________\n",
      "z_log_var (Dense)               (None, 5)            1285        bidirectional_1[0][0]            \n",
      "==================================================================================================\n",
      "Total params: 201,162\n",
      "Trainable params: 201,162\n",
      "Non-trainable params: 0\n",
      "__________________________________________________________________________________________________\n"
     ]
    }
   ],
   "source": [
    "encoder_model, encoder_input, z_mean, z_log_var = encoder(input_shape)\n",
    "encoder_model.summary()"
   ]
  },
  {
   "cell_type": "code",
   "execution_count": 16,
   "metadata": {},
   "outputs": [],
   "source": [
    "sample_ = lambda args: models.sample(args, z_mean, z_log_var, latent_dim, epsilon_std)"
   ]
  },
  {
   "cell_type": "code",
   "execution_count": 17,
   "metadata": {},
   "outputs": [],
   "source": [
    "# z = Lambda(sampling)([z_mean, z_log_var])\n",
    "z_input = encoder_model(encoder_input)\n",
    "z_output = Lambda(sample_)(z_input)\n",
    "# z_output = Lambda(sampl_, output_shape=(latent_dim,))(encoder_input)"
   ]
  },
  {
   "cell_type": "code",
   "execution_count": 18,
   "metadata": {},
   "outputs": [],
   "source": [
    "def list_decoders(output_shape):\n",
    "    # decoder_input = z_output\n",
    "    # h = decoder_input\n",
    "    # :output_shape = (timesteps, channels, channels) || (batches, filters, timesteps, channels)\n",
    "    # keras offers just Conv2DTranspose and not Conv1DTranspose\n",
    "    # - use 2D images during upsampling :: (timesteps, notes, channels) => (timesteps, notes, filters)\n",
    "    # - use 1D images to optimize reconstruction :: (timesteps, filters) => (timesteps, notes)\n",
    "    \n",
    "    # image_data_format = 'channels_last'\n",
    "    # goal shape: (timesteps, notes, channels)\n",
    "    # start with the 'reverse': lots of small imgs => few large img\n",
    "    \n",
    "    timesteps, notes, channels = output_shape\n",
    "\n",
    "    # keras.examples.variational_autoencoder_deconv.py\n",
    "    decoders = []\n",
    "    decoders += [ Dense(256) ]\n",
    "    decoders += [ LeakyReLU(alpha=0.3) ]\n",
    "    \n",
    "    # add a bypass layer\n",
    "    w = 256\n",
    "    decoders += [ Dense(w, activation='relu') ]\n",
    "    extra_decoders = []\n",
    "    for _ in range(3):\n",
    "        extra_decoders += [ Dense(w, activation='elu', bias_initializer='zeros') ]\n",
    "\n",
    "    extra_d = Lambda(lambda layer: utils.composition(extra_decoders, layer))\n",
    "    decoders += [ Lambda(lambda layer: Add()([layer, extra_d(layer)])) ]\n",
    "    \n",
    "    decoders += [ BatchNormalization(momentum=0.9) ]\n",
    "    n = 5\n",
    "#     n += 1\n",
    "    decoders += [ RepeatVector(n) ]\n",
    "    decoders += [ Bidirectional(LSTM(128, return_sequences=True)) ]\n",
    "#     decoders += [ BatchNormalization(momentum=0.9, axis=1) ]\n",
    "\n",
    "    \n",
    "    # Embedding decoder\n",
    "    \n",
    "    embedding_len = int(timesteps / n)\n",
    "    filters = 250\n",
    "    decoders += [ TimeDistributed(Dense(filters, activation='relu')) ]\n",
    "#     decoders += [ Reshape((timesteps, int(filters*n/timesteps),)) ]\n",
    "    decoders += [ TimeDistributed(Dense(notes * embedding_len, activation='sigmoid')) ]\n",
    "    decoders += [ Reshape((timesteps, notes, 1)) ]\n",
    "    \n",
    "#     n = 4\n",
    "#     dim1, dim2, filters = n, int(timesteps/n), 250\n",
    "#     decoders += [ Reshape((n, int(w/n))) ]\n",
    "#     decoders += [ TimeDistributed(Dense(filters, activation='relu')) ]\n",
    "#     print(n*w/timesteps, timesteps, filters, n, timesteps*n*w/timesteps)\n",
    "# #     decoders += [ Reshape((timesteps, int(n*filters/timesteps) )) ]\n",
    "# #     decoders += [ Reshape((int(timesteps * filters*n/timesteps),)) ]\n",
    "#     decoders += [ Reshape((timesteps, int(filters*n/timesteps),)) ]\n",
    "# #     decoders += [ Reshape((40, 256)) ]\n",
    "\n",
    "#     decoders += [ TimeDistributed(Dense(notes, activation='sigmoid')) ]\n",
    "#     decoders += [ Reshape((timesteps, notes, 1)) ]\n",
    "\n",
    "    return decoders"
   ]
  },
  {
   "cell_type": "code",
   "execution_count": 19,
   "metadata": {},
   "outputs": [],
   "source": [
    "decoders = list_decoders(input_shape)"
   ]
  },
  {
   "cell_type": "code",
   "execution_count": 20,
   "metadata": {},
   "outputs": [],
   "source": [
    "decoded = utils.composition(decoders, z_output, verbose=False)\n",
    "# layer1, = layers"
   ]
  },
  {
   "cell_type": "code",
   "execution_count": 21,
   "metadata": {},
   "outputs": [],
   "source": [
    "# layer1.output"
   ]
  },
  {
   "cell_type": "code",
   "execution_count": 22,
   "metadata": {},
   "outputs": [
    {
     "name": "stdout",
     "output_type": "stream",
     "text": [
      "__________________________________________________________________________________________________\n",
      "Layer (type)                    Output Shape         Param #     Connected to                     \n",
      "==================================================================================================\n",
      "input_1 (InputLayer)            (None, 40, 7, 1)     0                                            \n",
      "__________________________________________________________________________________________________\n",
      "encoder_model- (Model)          [(None, 5), (None, 5 201162      input_1[0][0]                    \n",
      "__________________________________________________________________________________________________\n",
      "lambda_2 (Lambda)               (None, 5)            0           encoder_model-[1][0]             \n",
      "                                                                 encoder_model-[1][1]             \n",
      "__________________________________________________________________________________________________\n",
      "dense_1 (Dense)                 (None, 256)          1536        lambda_2[0][0]                   \n",
      "__________________________________________________________________________________________________\n",
      "leaky_re_lu_1 (LeakyReLU)       (None, 256)          0           dense_1[0][0]                    \n",
      "__________________________________________________________________________________________________\n",
      "dense_2 (Dense)                 (None, 256)          65792       leaky_re_lu_1[0][0]              \n",
      "__________________________________________________________________________________________________\n",
      "lambda_4 (Lambda)               (None, 256)          0           dense_2[0][0]                    \n",
      "__________________________________________________________________________________________________\n",
      "batch_normalization_1 (BatchNor (None, 256)          1024        lambda_4[0][0]                   \n",
      "__________________________________________________________________________________________________\n",
      "repeat_vector_1 (RepeatVector)  (None, 5, 256)       0           batch_normalization_1[0][0]      \n",
      "__________________________________________________________________________________________________\n",
      "bidirectional_2 (Bidirectional) (None, 5, 256)       394240      repeat_vector_1[0][0]            \n",
      "__________________________________________________________________________________________________\n",
      "time_distributed_1 (TimeDistrib (None, 5, 250)       64250       bidirectional_2[0][0]            \n",
      "__________________________________________________________________________________________________\n",
      "time_distributed_2 (TimeDistrib (None, 5, 56)        14056       time_distributed_1[0][0]         \n",
      "__________________________________________________________________________________________________\n",
      "reshape_2 (Reshape)             (None, 40, 7, 1)     0           time_distributed_2[0][0]         \n",
      "==================================================================================================\n",
      "Total params: 742,060\n",
      "Trainable params: 741,548\n",
      "Non-trainable params: 512\n",
      "__________________________________________________________________________________________________\n"
     ]
    }
   ],
   "source": [
    "# instantiate VAE model\n",
    "vae_input = encoder_input\n",
    "vae_output = decoded\n",
    "vae = Model(vae_input, vae_output)\n",
    "vae.summary()"
   ]
  },
  {
   "cell_type": "code",
   "execution_count": 23,
   "metadata": {
    "scrolled": true
   },
   "outputs": [
    {
     "name": "stderr",
     "output_type": "stream",
     "text": [
      "/Library/Frameworks/Python.framework/Versions/3.6/lib/python3.6/site-packages/ipykernel_launcher.py:16: UserWarning: Output \"reshape_2\" missing from loss dictionary. We assume this was done on purpose, and we will not be expecting any data to be passed to \"reshape_2\" during training.\n",
      "  app.launch_new_instance()\n"
     ]
    }
   ],
   "source": [
    "# Compute VAE loss\n",
    "def vae_loss(beta=1.):\n",
    "#     beta = ((1.0 - tf.pow(hparams.beta_rate, tf.to_float(self.global_step)))\n",
    "#             * hparams.max_beta)\n",
    "#     self.loss = tf.reduce_mean(r_loss) + beta * tf.reduce_mean(kl_cost)\n",
    "    # y_true, y_pred, z_mean, z_log_var, timesteps=150, notes=3, beta=1.\n",
    "    xent_loss = timesteps * notes * keras.metrics.binary_crossentropy(K.flatten(vae_input), K.flatten(vae_output))\n",
    "    kl_loss = - 0.5 * K.sum(1 + z_log_var - K.square(z_mean) - K.exp(z_log_var), axis=-1)\n",
    "    # kl_loss = max(kl_loss, free_bits)\n",
    "    mse = K.mean(keras.losses.mean_absolute_error(vae_input, vae_output))\n",
    "    vae_loss = K.mean(xent_loss + beta * kl_loss + 0.2 * mse)\n",
    "    return vae_loss\n",
    "\n",
    "vae_loss = vae_loss(beta=0.5)\n",
    "vae.add_loss(vae_loss)\n",
    "vae.compile(optimizer='adam')\n",
    "# vae.compile(optimizer=optimizer, loss=loss, metrics=metrics)"
   ]
  },
  {
   "cell_type": "code",
   "execution_count": 24,
   "metadata": {},
   "outputs": [
    {
     "data": {
      "text/plain": [
       "(None, 5)"
      ]
     },
     "execution_count": 24,
     "metadata": {},
     "output_type": "execute_result"
    }
   ],
   "source": [
    "K.int_shape(z_mean)"
   ]
  },
  {
   "cell_type": "code",
   "execution_count": 25,
   "metadata": {},
   "outputs": [],
   "source": [
    "batch_size = 50\n",
    "epochs = 150\n",
    "params = {'batch_size': batch_size, 'return_y': False}"
   ]
  },
  {
   "cell_type": "code",
   "execution_count": 26,
   "metadata": {},
   "outputs": [],
   "source": [
    "phase_mod = 0.01\n",
    "whitening = False"
   ]
  },
  {
   "cell_type": "code",
   "execution_count": 27,
   "metadata": {
    "scrolled": true
   },
   "outputs": [
    {
     "name": "stdout",
     "output_type": "stream",
     "text": [
      "x: (80, 40, 7, 1)\n",
      "batch_size: 50\n",
      "update-iterations: 240\n",
      "Train on 80 samples, validate on 50 samples\n",
      "Epoch 1/150\n",
      "80/80 [==============================] - 7s 92ms/step - loss: 190.4599 - val_loss: 174.5447\n",
      "Epoch 2/150\n",
      "80/80 [==============================] - 0s 5ms/step - loss: 165.8141 - val_loss: 146.6122\n",
      "Epoch 3/150\n",
      "80/80 [==============================] - 0s 5ms/step - loss: 138.0951 - val_loss: 114.4858\n",
      "Epoch 4/150\n",
      "80/80 [==============================] - 0s 6ms/step - loss: 107.0865 - val_loss: 85.2069\n",
      "Epoch 5/150\n",
      "80/80 [==============================] - 0s 6ms/step - loss: 73.9736 - val_loss: 68.7835\n",
      "Epoch 6/150\n",
      "80/80 [==============================] - 0s 5ms/step - loss: 55.4559 - val_loss: 65.6231\n",
      "Epoch 7/150\n",
      "80/80 [==============================] - 0s 5ms/step - loss: 50.6665 - val_loss: 68.0469\n",
      "Epoch 8/150\n",
      "80/80 [==============================] - 0s 6ms/step - loss: 50.0358 - val_loss: 66.9057\n",
      "Epoch 9/150\n",
      "80/80 [==============================] - 0s 6ms/step - loss: 47.3438 - val_loss: 63.3327\n",
      "Epoch 10/150\n",
      "80/80 [==============================] - 0s 5ms/step - loss: 44.9667 - val_loss: 59.3563\n",
      "Epoch 11/150\n",
      "80/80 [==============================] - 0s 5ms/step - loss: 43.4873 - val_loss: 57.6230\n",
      "Epoch 12/150\n",
      "80/80 [==============================] - 0s 5ms/step - loss: 43.1336 - val_loss: 56.2590\n",
      "Epoch 13/150\n",
      "80/80 [==============================] - 0s 5ms/step - loss: 42.8983 - val_loss: 55.6784\n",
      "Epoch 14/150\n",
      "80/80 [==============================] - 0s 5ms/step - loss: 42.0925 - val_loss: 55.4526\n",
      "Epoch 15/150\n",
      "80/80 [==============================] - 0s 5ms/step - loss: 41.7738 - val_loss: 55.6479\n",
      "Epoch 16/150\n",
      "80/80 [==============================] - 0s 5ms/step - loss: 41.5467 - val_loss: 56.2877\n",
      "Epoch 17/150\n",
      "80/80 [==============================] - 0s 5ms/step - loss: 41.3362 - val_loss: 56.2397\n",
      "Epoch 18/150\n",
      "80/80 [==============================] - 0s 5ms/step - loss: 41.0008 - val_loss: 55.5902\n",
      "Epoch 19/150\n",
      "80/80 [==============================] - 0s 5ms/step - loss: 40.6124 - val_loss: 55.0150\n",
      "Epoch 20/150\n",
      "80/80 [==============================] - 0s 5ms/step - loss: 40.3453 - val_loss: 54.6271\n",
      "Epoch 21/150\n",
      "80/80 [==============================] - 0s 5ms/step - loss: 40.2646 - val_loss: 54.1086\n",
      "Epoch 22/150\n",
      "80/80 [==============================] - 0s 5ms/step - loss: 40.0692 - val_loss: 53.9718\n",
      "Epoch 23/150\n",
      "80/80 [==============================] - 0s 5ms/step - loss: 39.9666 - val_loss: 53.9007\n",
      "Epoch 24/150\n",
      "80/80 [==============================] - 0s 5ms/step - loss: 39.7547 - val_loss: 54.2323\n",
      "Epoch 25/150\n",
      "80/80 [==============================] - 0s 5ms/step - loss: 39.7881 - val_loss: 54.1672\n",
      "Epoch 26/150\n",
      "80/80 [==============================] - 0s 5ms/step - loss: 39.4230 - val_loss: 54.0576\n",
      "Epoch 27/150\n",
      "80/80 [==============================] - 0s 5ms/step - loss: 39.3180 - val_loss: 53.5929\n",
      "Epoch 28/150\n",
      "80/80 [==============================] - 0s 5ms/step - loss: 39.1861 - val_loss: 53.6761\n",
      "Epoch 29/150\n",
      "80/80 [==============================] - 0s 5ms/step - loss: 39.0113 - val_loss: 53.8161\n",
      "Epoch 30/150\n",
      "80/80 [==============================] - 0s 5ms/step - loss: 38.9679 - val_loss: 53.1546\n",
      "Epoch 31/150\n",
      "80/80 [==============================] - 0s 5ms/step - loss: 38.7417 - val_loss: 53.4014\n",
      "Epoch 32/150\n",
      "80/80 [==============================] - 0s 5ms/step - loss: 38.4959 - val_loss: 53.8650\n",
      "Epoch 33/150\n",
      "80/80 [==============================] - 0s 5ms/step - loss: 38.4043 - val_loss: 53.2750\n",
      "Epoch 34/150\n",
      "80/80 [==============================] - 0s 5ms/step - loss: 38.5055 - val_loss: 53.4905\n",
      "Epoch 35/150\n",
      "80/80 [==============================] - 0s 5ms/step - loss: 38.1475 - val_loss: 53.5413\n",
      "Epoch 36/150\n",
      "80/80 [==============================] - 0s 5ms/step - loss: 38.1544 - val_loss: 53.4190\n",
      "Epoch 37/150\n",
      "80/80 [==============================] - 0s 5ms/step - loss: 37.8274 - val_loss: 53.1153\n",
      "Epoch 38/150\n",
      "80/80 [==============================] - 0s 5ms/step - loss: 38.0804 - val_loss: 53.3509\n",
      "Epoch 39/150\n",
      "80/80 [==============================] - 0s 5ms/step - loss: 37.9172 - val_loss: 53.5573\n",
      "Epoch 40/150\n",
      "80/80 [==============================] - 0s 6ms/step - loss: 37.7907 - val_loss: 53.4263\n",
      "Epoch 41/150\n",
      "80/80 [==============================] - 0s 5ms/step - loss: 37.4998 - val_loss: 53.2899\n",
      "Epoch 42/150\n",
      "80/80 [==============================] - 0s 5ms/step - loss: 37.2193 - val_loss: 53.4295\n",
      "Epoch 43/150\n",
      "80/80 [==============================] - 0s 5ms/step - loss: 37.3993 - val_loss: 53.2230\n",
      "Epoch 44/150\n",
      "80/80 [==============================] - 0s 5ms/step - loss: 37.1644 - val_loss: 53.1627\n",
      "Epoch 45/150\n",
      "80/80 [==============================] - 0s 5ms/step - loss: 37.3136 - val_loss: 53.1821\n",
      "Epoch 46/150\n",
      "80/80 [==============================] - 0s 5ms/step - loss: 36.8619 - val_loss: 53.3544\n",
      "Epoch 47/150\n",
      "80/80 [==============================] - 0s 5ms/step - loss: 36.7554 - val_loss: 52.7172\n",
      "Epoch 48/150\n",
      "80/80 [==============================] - 0s 5ms/step - loss: 36.4573 - val_loss: 52.8545\n",
      "Epoch 49/150\n",
      "80/80 [==============================] - 0s 5ms/step - loss: 36.2440 - val_loss: 52.7569\n",
      "Epoch 50/150\n",
      "80/80 [==============================] - 0s 5ms/step - loss: 35.9414 - val_loss: 53.0306\n",
      "Epoch 51/150\n",
      "80/80 [==============================] - 0s 5ms/step - loss: 35.8790 - val_loss: 52.6020\n",
      "Epoch 52/150\n",
      "80/80 [==============================] - 0s 5ms/step - loss: 35.3170 - val_loss: 52.7049\n",
      "Epoch 53/150\n",
      "80/80 [==============================] - 0s 5ms/step - loss: 35.0103 - val_loss: 52.6492\n",
      "Epoch 54/150\n",
      "80/80 [==============================] - 0s 5ms/step - loss: 35.1192 - val_loss: 52.6105\n",
      "Epoch 55/150\n",
      "80/80 [==============================] - 0s 5ms/step - loss: 34.4842 - val_loss: 51.9545\n",
      "Epoch 56/150\n",
      "80/80 [==============================] - 0s 5ms/step - loss: 33.9843 - val_loss: 53.1325\n",
      "Epoch 57/150\n",
      "80/80 [==============================] - 0s 5ms/step - loss: 33.9783 - val_loss: 52.2289\n",
      "Epoch 58/150\n",
      "80/80 [==============================] - 0s 5ms/step - loss: 32.9710 - val_loss: 51.7304\n",
      "Epoch 59/150\n",
      "80/80 [==============================] - 0s 5ms/step - loss: 32.2572 - val_loss: 51.4043\n",
      "Epoch 60/150\n",
      "80/80 [==============================] - 0s 5ms/step - loss: 31.5884 - val_loss: 51.8414\n",
      "Epoch 61/150\n",
      "80/80 [==============================] - 0s 5ms/step - loss: 30.9723 - val_loss: 52.1005\n",
      "Epoch 62/150\n",
      "80/80 [==============================] - 0s 5ms/step - loss: 30.2899 - val_loss: 51.4768\n",
      "Epoch 63/150\n",
      "80/80 [==============================] - 0s 5ms/step - loss: 29.8300 - val_loss: 51.2170\n",
      "Epoch 64/150\n",
      "80/80 [==============================] - 0s 5ms/step - loss: 29.4953 - val_loss: 51.6386\n",
      "Epoch 65/150\n",
      "80/80 [==============================] - 0s 5ms/step - loss: 29.2626 - val_loss: 51.8926\n",
      "Epoch 66/150\n",
      "80/80 [==============================] - 0s 5ms/step - loss: 28.8055 - val_loss: 51.4168\n",
      "Epoch 67/150\n",
      "80/80 [==============================] - 0s 5ms/step - loss: 28.6074 - val_loss: 51.8024\n",
      "Epoch 68/150\n",
      "80/80 [==============================] - 0s 5ms/step - loss: 28.3993 - val_loss: 52.0589\n",
      "Epoch 69/150\n",
      "80/80 [==============================] - 0s 5ms/step - loss: 28.1415 - val_loss: 51.7835\n",
      "Epoch 70/150\n",
      "80/80 [==============================] - 0s 5ms/step - loss: 27.8064 - val_loss: 52.9575\n",
      "Epoch 71/150\n",
      "80/80 [==============================] - 0s 5ms/step - loss: 27.9514 - val_loss: 53.2050\n",
      "Epoch 72/150\n",
      "80/80 [==============================] - 0s 5ms/step - loss: 27.5479 - val_loss: 52.3084\n",
      "Epoch 73/150\n",
      "80/80 [==============================] - 0s 5ms/step - loss: 27.2332 - val_loss: 53.1893\n",
      "Epoch 74/150\n",
      "80/80 [==============================] - 0s 5ms/step - loss: 26.6271 - val_loss: 53.0526\n",
      "Epoch 75/150\n",
      "80/80 [==============================] - 0s 6ms/step - loss: 26.5253 - val_loss: 52.9949\n",
      "Epoch 76/150\n",
      "80/80 [==============================] - 0s 5ms/step - loss: 26.3851 - val_loss: 53.1647\n",
      "Epoch 77/150\n",
      "80/80 [==============================] - 0s 5ms/step - loss: 25.9279 - val_loss: 53.0280\n",
      "Epoch 78/150\n",
      "80/80 [==============================] - 0s 5ms/step - loss: 25.7124 - val_loss: 52.5695\n",
      "Epoch 79/150\n",
      "80/80 [==============================] - 0s 5ms/step - loss: 25.1892 - val_loss: 52.3784\n",
      "Epoch 80/150\n",
      "80/80 [==============================] - 0s 6ms/step - loss: 24.8660 - val_loss: 52.6753\n",
      "Epoch 81/150\n",
      "80/80 [==============================] - 0s 5ms/step - loss: 24.6368 - val_loss: 52.1989\n",
      "Epoch 82/150\n",
      "80/80 [==============================] - 0s 5ms/step - loss: 24.7358 - val_loss: 52.6425\n",
      "Epoch 83/150\n",
      "80/80 [==============================] - 0s 5ms/step - loss: 24.2291 - val_loss: 54.2174\n",
      "Epoch 84/150\n",
      "80/80 [==============================] - 0s 5ms/step - loss: 23.8907 - val_loss: 53.3355\n",
      "Epoch 85/150\n",
      "80/80 [==============================] - 0s 5ms/step - loss: 23.3810 - val_loss: 54.1322\n",
      "Epoch 86/150\n",
      "80/80 [==============================] - 0s 5ms/step - loss: 23.3043 - val_loss: 55.1241\n",
      "Epoch 87/150\n",
      "80/80 [==============================] - 0s 5ms/step - loss: 22.9994 - val_loss: 55.4538\n",
      "Epoch 88/150\n",
      "80/80 [==============================] - 0s 5ms/step - loss: 22.9962 - val_loss: 54.5563\n",
      "Epoch 89/150\n",
      "80/80 [==============================] - 0s 5ms/step - loss: 22.3896 - val_loss: 54.7220\n",
      "Epoch 90/150\n",
      "80/80 [==============================] - 0s 5ms/step - loss: 22.2338 - val_loss: 56.1799\n",
      "Epoch 91/150\n",
      "80/80 [==============================] - 0s 5ms/step - loss: 22.2792 - val_loss: 55.9029\n",
      "Epoch 92/150\n",
      "80/80 [==============================] - 0s 5ms/step - loss: 21.7205 - val_loss: 56.6384\n",
      "Epoch 93/150\n",
      "80/80 [==============================] - 0s 5ms/step - loss: 21.8061 - val_loss: 55.8694\n",
      "Epoch 94/150\n",
      "80/80 [==============================] - 0s 5ms/step - loss: 21.2627 - val_loss: 57.0191\n",
      "Epoch 95/150\n",
      "80/80 [==============================] - 0s 5ms/step - loss: 21.6528 - val_loss: 56.8135\n",
      "Epoch 96/150\n",
      "80/80 [==============================] - 0s 5ms/step - loss: 21.5345 - val_loss: 56.9689\n",
      "Epoch 97/150\n",
      "80/80 [==============================] - 0s 5ms/step - loss: 21.2348 - val_loss: 57.6330\n",
      "Epoch 98/150\n",
      "80/80 [==============================] - 0s 5ms/step - loss: 21.0623 - val_loss: 57.9135\n",
      "Epoch 99/150\n",
      "80/80 [==============================] - 0s 5ms/step - loss: 22.0133 - val_loss: 57.6181\n",
      "Epoch 100/150\n",
      "80/80 [==============================] - 0s 5ms/step - loss: 20.7023 - val_loss: 60.5645\n",
      "Epoch 101/150\n",
      "80/80 [==============================] - 0s 5ms/step - loss: 21.5736 - val_loss: 58.6094\n",
      "Epoch 102/150\n",
      "80/80 [==============================] - 0s 5ms/step - loss: 20.6869 - val_loss: 58.2693\n",
      "Epoch 103/150\n",
      "80/80 [==============================] - 0s 5ms/step - loss: 20.8362 - val_loss: 58.6195\n",
      "Epoch 104/150\n",
      "80/80 [==============================] - 0s 5ms/step - loss: 20.4905 - val_loss: 59.8838\n",
      "Epoch 105/150\n",
      "80/80 [==============================] - 0s 5ms/step - loss: 20.3622 - val_loss: 58.2723\n",
      "Epoch 106/150\n",
      "80/80 [==============================] - 0s 5ms/step - loss: 20.7029 - val_loss: 59.6722\n",
      "Epoch 107/150\n",
      "80/80 [==============================] - 0s 5ms/step - loss: 19.9879 - val_loss: 59.6889\n",
      "Epoch 108/150\n",
      "80/80 [==============================] - 0s 5ms/step - loss: 20.5946 - val_loss: 60.1355\n",
      "Epoch 109/150\n",
      "80/80 [==============================] - 0s 5ms/step - loss: 19.8549 - val_loss: 61.5781\n",
      "Epoch 110/150\n",
      "80/80 [==============================] - 0s 5ms/step - loss: 19.9859 - val_loss: 60.3484\n",
      "Epoch 111/150\n",
      "80/80 [==============================] - 0s 5ms/step - loss: 19.7686 - val_loss: 60.8481\n",
      "Epoch 112/150\n",
      "80/80 [==============================] - 0s 5ms/step - loss: 19.7768 - val_loss: 62.4738\n",
      "Epoch 113/150\n",
      "80/80 [==============================] - 0s 5ms/step - loss: 19.4098 - val_loss: 62.1273\n",
      "Epoch 114/150\n",
      "80/80 [==============================] - 0s 5ms/step - loss: 19.4199 - val_loss: 61.7103\n",
      "Epoch 115/150\n",
      "80/80 [==============================] - 0s 5ms/step - loss: 19.3470 - val_loss: 62.7402\n",
      "Epoch 116/150\n",
      "80/80 [==============================] - 0s 5ms/step - loss: 19.5079 - val_loss: 62.8854\n",
      "Epoch 117/150\n",
      "80/80 [==============================] - 0s 5ms/step - loss: 19.2076 - val_loss: 65.3134\n",
      "Epoch 118/150\n",
      "80/80 [==============================] - 0s 5ms/step - loss: 18.9290 - val_loss: 63.1937\n",
      "Epoch 119/150\n",
      "80/80 [==============================] - 0s 5ms/step - loss: 19.0323 - val_loss: 63.2277\n",
      "Epoch 120/150\n",
      "80/80 [==============================] - 0s 5ms/step - loss: 18.8727 - val_loss: 66.4340\n",
      "Epoch 121/150\n",
      "80/80 [==============================] - 0s 5ms/step - loss: 19.1749 - val_loss: 62.9172\n",
      "Epoch 122/150\n",
      "80/80 [==============================] - 0s 5ms/step - loss: 19.0381 - val_loss: 63.0459\n",
      "Epoch 123/150\n",
      "80/80 [==============================] - 0s 5ms/step - loss: 19.9500 - val_loss: 63.1911\n",
      "Epoch 124/150\n",
      "80/80 [==============================] - 0s 5ms/step - loss: 19.3709 - val_loss: 63.5615\n",
      "Epoch 125/150\n",
      "80/80 [==============================] - 0s 5ms/step - loss: 18.4255 - val_loss: 63.6099\n",
      "Epoch 126/150\n",
      "80/80 [==============================] - 0s 5ms/step - loss: 18.6459 - val_loss: 64.9957\n",
      "Epoch 127/150\n",
      "80/80 [==============================] - 0s 5ms/step - loss: 18.5018 - val_loss: 63.1560\n",
      "Epoch 128/150\n",
      "80/80 [==============================] - 0s 5ms/step - loss: 19.4500 - val_loss: 63.1678\n",
      "Epoch 129/150\n",
      "80/80 [==============================] - 0s 5ms/step - loss: 19.3049 - val_loss: 64.1547\n",
      "Epoch 130/150\n",
      "80/80 [==============================] - 0s 5ms/step - loss: 19.6313 - val_loss: 63.8397\n",
      "Epoch 131/150\n",
      "80/80 [==============================] - 0s 5ms/step - loss: 19.5273 - val_loss: 65.6641\n",
      "Epoch 132/150\n",
      "80/80 [==============================] - 0s 5ms/step - loss: 18.6577 - val_loss: 70.5976\n",
      "Epoch 133/150\n",
      "80/80 [==============================] - 0s 5ms/step - loss: 19.0436 - val_loss: 73.3576\n",
      "Epoch 134/150\n",
      "80/80 [==============================] - 0s 5ms/step - loss: 18.8038 - val_loss: 67.2253\n",
      "Epoch 135/150\n",
      "80/80 [==============================] - 0s 5ms/step - loss: 18.4184 - val_loss: 63.8206\n",
      "Epoch 136/150\n",
      "80/80 [==============================] - 0s 6ms/step - loss: 18.4290 - val_loss: 66.2964\n",
      "Epoch 137/150\n",
      "80/80 [==============================] - 0s 5ms/step - loss: 19.2773 - val_loss: 65.0755\n",
      "Epoch 138/150\n",
      "80/80 [==============================] - 0s 5ms/step - loss: 18.2502 - val_loss: 64.7505\n",
      "Epoch 139/150\n",
      "80/80 [==============================] - 0s 5ms/step - loss: 18.1083 - val_loss: 65.3659\n",
      "Epoch 140/150\n",
      "80/80 [==============================] - 0s 5ms/step - loss: 17.8350 - val_loss: 65.4209\n",
      "Epoch 141/150\n",
      "80/80 [==============================] - 0s 5ms/step - loss: 18.2702 - val_loss: 66.7082\n",
      "Epoch 142/150\n",
      "80/80 [==============================] - 0s 5ms/step - loss: 17.3890 - val_loss: 69.1579\n",
      "Epoch 143/150\n",
      "80/80 [==============================] - 0s 6ms/step - loss: 17.3479 - val_loss: 70.6307\n",
      "Epoch 144/150\n",
      "80/80 [==============================] - 0s 5ms/step - loss: 17.6246 - val_loss: 70.4540\n",
      "Epoch 145/150\n",
      "80/80 [==============================] - 0s 6ms/step - loss: 17.4273 - val_loss: 70.4881\n",
      "Epoch 146/150\n",
      "80/80 [==============================] - 0s 6ms/step - loss: 17.3895 - val_loss: 70.0620\n",
      "Epoch 147/150\n",
      "80/80 [==============================] - 0s 6ms/step - loss: 17.5499 - val_loss: 69.9149\n",
      "Epoch 148/150\n",
      "80/80 [==============================] - 0s 6ms/step - loss: 17.2797 - val_loss: 69.8961\n",
      "Epoch 149/150\n",
      "80/80 [==============================] - 0s 6ms/step - loss: 17.1724 - val_loss: 72.2169\n",
      "Epoch 150/150\n",
      "80/80 [==============================] - 0s 6ms/step - loss: 17.1048 - val_loss: 70.6652\n"
     ]
    }
   ],
   "source": [
    "m = 10\n",
    "useDataGenerator = False\n",
    "# useDataGenerator = True\n",
    "\n",
    "x = x_train[:m]\n",
    "x = x_train\n",
    "i = [0,1, 7,8, 14,15, 399,400]\n",
    "x = x_train[i]\n",
    "x = np.concatenate([x for _ in range(10)])\n",
    "print('x:', x.shape)\n",
    "\n",
    "print('batch_size: %i' % batch_size)\n",
    "print('update-iterations:', round(epochs * x.shape[0] / batch_size))\n",
    "if useDataGenerator:\n",
    "    datagen = models.ImageDataGenerator(x_train, batch_size, phase_mod, whitening)\n",
    "    history = collections.defaultdict(list)\n",
    "    n_batches = datagen.__len__()\n",
    "    for e in range(epochs):\n",
    "        print('\\n[Epoch %i/%i] >>>>>>>>>' % (e, epochs))\n",
    "        for batch_i, (x_batch, y_batch) in enumerate(datagen.flow(x, x, batch_size)):\n",
    "            print(' Batch %i/%i' % (batch_i,n_batches))\n",
    "            x_ = x_batch\n",
    "            # x_ = datagen.shuffle_3rd_dim(x_)\n",
    "            # x_ = datagen.shuffle_3rd_dim_soft(x_, rate=0.5, scale=0.1, verbose=0)\n",
    "            h = vae.fit(x_, validation_data=(x_test, None), verbose=0)\n",
    "            for k,v in h.history.items(): \n",
    "                print(' \\\\_%s' % k, [round(v_,) for v_ in v])\n",
    "                history[k].append(v)\n",
    "            if batch_i >= n_batches:\n",
    "                break\n",
    "else:\n",
    "    h = vae.fit(x, epochs=epochs, validation_data=(x_test, None))\n",
    "    history = h.history"
   ]
  },
  {
   "cell_type": "code",
   "execution_count": 28,
   "metadata": {},
   "outputs": [
    {
     "data": {
      "text/plain": [
       "[<matplotlib.lines.Line2D at 0x119e74f28>]"
      ]
     },
     "execution_count": 28,
     "metadata": {},
     "output_type": "execute_result"
    },
    {
     "data": {
      "image/png": "[encoded data removed]",
      "text/plain": [
       "<matplotlib.figure.Figure at 0x119e74710>"
      ]
     },
     "metadata": {},
     "output_type": "display_data"
    }
   ],
   "source": [
    "plt.plot(history['loss'])\n",
    "plt.plot(history['val_loss'])"
   ]
  },
  {
   "cell_type": "code",
   "execution_count": 1,
   "metadata": {},
   "outputs": [
    {
     "ename": "NameError",
     "evalue": "name 'plt' is not defined",
     "output_type": "error",
     "traceback": [
      "\u001b[0;31m---------------------------------------------------------------------------\u001b[0m",
      "\u001b[0;31mNameError\u001b[0m                                 Traceback (most recent call last)",
      "\u001b[0;32m<ipython-input-1-8982099701ae>\u001b[0m in \u001b[0;36m<module>\u001b[0;34m()\u001b[0m\n\u001b[1;32m      1\u001b[0m \u001b[0mstart\u001b[0m \u001b[0;34m=\u001b[0m \u001b[0;36m10\u001b[0m\u001b[0;34m\u001b[0m\u001b[0m\n\u001b[0;32m----> 2\u001b[0;31m \u001b[0mplt\u001b[0m\u001b[0;34m.\u001b[0m\u001b[0mplot\u001b[0m\u001b[0;34m(\u001b[0m\u001b[0mhistory\u001b[0m\u001b[0;34m[\u001b[0m\u001b[0;34m'loss'\u001b[0m\u001b[0;34m]\u001b[0m\u001b[0;34m[\u001b[0m\u001b[0mstart\u001b[0m\u001b[0;34m:\u001b[0m\u001b[0;34m]\u001b[0m\u001b[0;34m)\u001b[0m\u001b[0;34m\u001b[0m\u001b[0m\n\u001b[0m\u001b[1;32m      3\u001b[0m \u001b[0mplt\u001b[0m\u001b[0;34m.\u001b[0m\u001b[0mplot\u001b[0m\u001b[0;34m(\u001b[0m\u001b[0mhistory\u001b[0m\u001b[0;34m[\u001b[0m\u001b[0;34m'val_loss'\u001b[0m\u001b[0;34m]\u001b[0m\u001b[0;34m[\u001b[0m\u001b[0mstart\u001b[0m\u001b[0;34m:\u001b[0m\u001b[0;34m]\u001b[0m\u001b[0;34m)\u001b[0m\u001b[0;34m\u001b[0m\u001b[0m\n",
      "\u001b[0;31mNameError\u001b[0m: name 'plt' is not defined"
     ]
    }
   ],
   "source": [
    "start = 10\n",
    "plt.plot(history['loss'][start:])\n",
    "plt.plot(history['val_loss'][start:])"
   ]
  },
  {
   "cell_type": "code",
   "execution_count": 29,
   "metadata": {},
   "outputs": [
    {
     "data": {
      "text/plain": [
       "(80, 40, 7, 1)"
      ]
     },
     "execution_count": 29,
     "metadata": {},
     "output_type": "execute_result"
    }
   ],
   "source": [
    "x.shape"
   ]
  },
  {
   "cell_type": "code",
   "execution_count": 30,
   "metadata": {},
   "outputs": [
    {
     "name": "stdout",
     "output_type": "stream",
     "text": [
      "m (40, 7, 1)\n"
     ]
    },
    {
     "data": {
      "image/png": "[encoded data removed]",
      "text/plain": [
       "<matplotlib.figure.Figure at 0x11f80d7b8>"
      ]
     },
     "metadata": {},
     "output_type": "display_data"
    },
    {
     "name": "stdout",
     "output_type": "stream",
     "text": [
      "m (40, 7, 1)\n"
     ]
    },
    {
     "data": {
      "image/png": "[encoded data removed]",
      "text/plain": [
       "<matplotlib.figure.Figure at 0x119f50588>"
      ]
     },
     "metadata": {},
     "output_type": "display_data"
    },
    {
     "name": "stdout",
     "output_type": "stream",
     "text": [
      "m (40, 7, 1)\n"
     ]
    },
    {
     "data": {
      "image/png": "[encoded data removed]",
      "text/plain": [
       "<matplotlib.figure.Figure at 0x119121fd0>"
      ]
     },
     "metadata": {},
     "output_type": "display_data"
    },
    {
     "name": "stdout",
     "output_type": "stream",
     "text": [
      "m (40, 7, 1)\n"
     ]
    },
    {
     "data": {
      "image/png": "[encoded data removed]",
      "text/plain": [
       "<matplotlib.figure.Figure at 0x121f11710>"
      ]
     },
     "metadata": {},
     "output_type": "display_data"
    }
   ],
   "source": [
    "i = 0\n",
    "j = 30\n",
    "y = vae.predict(x_train[:500])\n",
    "plot.single(x_train[i])\n",
    "plot.single(y[i])\n",
    "plot.single(x_train[j])\n",
    "plot.single(y[j])"
   ]
  },
  {
   "cell_type": "code",
   "execution_count": 31,
   "metadata": {},
   "outputs": [],
   "source": [
    "# x = datagen.shuffle_3rd_dim_soft(x_train[:10], rate=1, intensity=2, scale=1, verbose=1)\n",
    "# i = 0\n",
    "# plot.single(x_train[i,:,:,0])\n",
    "# plot.single(x[i,:,:,0])\n",
    "# x_ = vae.predict(x)\n",
    "# plot.single(x_[i,:,:,0])"
   ]
  },
  {
   "cell_type": "code",
   "execution_count": 32,
   "metadata": {},
   "outputs": [
    {
     "data": {
      "text/plain": [
       "(80, 40, 7, 1)"
      ]
     },
     "execution_count": 32,
     "metadata": {},
     "output_type": "execute_result"
    }
   ],
   "source": [
    "x.shape"
   ]
  },
  {
   "cell_type": "code",
   "execution_count": 33,
   "metadata": {},
   "outputs": [
    {
     "name": "stdout",
     "output_type": "stream",
     "text": [
      "m (30, 7)\n"
     ]
    },
    {
     "data": {
      "image/png": "[encoded data removed]",
      "text/plain": [
       "<matplotlib.figure.Figure at 0x11f81cb38>"
      ]
     },
     "metadata": {},
     "output_type": "display_data"
    }
   ],
   "source": [
    "# min: these pixels are 'always' active\n",
    "m = x.min(axis=0)\n",
    "plot.multi(m[:30,:,0])"
   ]
  },
  {
   "cell_type": "code",
   "execution_count": 34,
   "metadata": {},
   "outputs": [
    {
     "name": "stdout",
     "output_type": "stream",
     "text": [
      "m (30, 7)\n"
     ]
    },
    {
     "data": {
      "image/png": "[encoded data removed]",
      "text/plain": [
       "<matplotlib.figure.Figure at 0x11f916a58>"
      ]
     },
     "metadata": {},
     "output_type": "display_data"
    }
   ],
   "source": [
    "# mean\n",
    "m = x.mean(axis=0)\n",
    "plot.single(m[:30,:,0])"
   ]
  },
  {
   "cell_type": "markdown",
   "metadata": {},
   "source": [
    "## Encoder + Decoder (generator)\n",
    "A model to project inputs on the latent space"
   ]
  },
  {
   "cell_type": "code",
   "execution_count": 35,
   "metadata": {},
   "outputs": [],
   "source": [
    "# build a model to project inputs on the latent space\n",
    "encoder = Model(encoder_input, z_mean)"
   ]
  },
  {
   "cell_type": "code",
   "execution_count": 36,
   "metadata": {},
   "outputs": [],
   "source": [
    "decoder_input = Input((latent_dim,))\n",
    "decoded = utils.composition(decoders, decoder_input)\n",
    "decoder = Model(decoder_input, decoded)"
   ]
  },
  {
   "cell_type": "code",
   "execution_count": 37,
   "metadata": {},
   "outputs": [
    {
     "data": {
      "text/plain": [
       "(50, 40, 7, 1)"
      ]
     },
     "execution_count": 37,
     "metadata": {},
     "output_type": "execute_result"
    }
   ],
   "source": [
    "x_test.shape"
   ]
  },
  {
   "cell_type": "code",
   "execution_count": 38,
   "metadata": {},
   "outputs": [
    {
     "data": {
      "text/plain": [
       "(100, 5)"
      ]
     },
     "execution_count": 38,
     "metadata": {},
     "output_type": "execute_result"
    }
   ],
   "source": [
    "m = 100\n",
    "x_train_encoded = encoder.predict(x_train[:m], batch_size=batch_size)\n",
    "x_train_encoded.shape"
   ]
  },
  {
   "cell_type": "code",
   "execution_count": 39,
   "metadata": {},
   "outputs": [
    {
     "name": "stdout",
     "output_type": "stream",
     "text": [
      "(6, 40, 7, 1) [-0.1384436   0.5979648  -0.70403993 -0.6063098  -0.3157602 ]\n",
      "m (40, 7, 1)\n"
     ]
    },
    {
     "data": {
      "image/png": "[encoded data removed]",
      "text/plain": [
       "<matplotlib.figure.Figure at 0x12065ccc0>"
      ]
     },
     "metadata": {},
     "output_type": "display_data"
    },
    {
     "name": "stdout",
     "output_type": "stream",
     "text": [
      "m (40, 7, 1)\n"
     ]
    },
    {
     "data": {
      "image/png": "[encoded data removed]",
      "text/plain": [
       "<matplotlib.figure.Figure at 0x12065cd68>"
      ]
     },
     "metadata": {},
     "output_type": "display_data"
    },
    {
     "name": "stdout",
     "output_type": "stream",
     "text": [
      "m (40, 7, 1)\n"
     ]
    },
    {
     "data": {
      "image/png": "[encoded data removed]",
      "text/plain": [
       "<matplotlib.figure.Figure at 0x12090b518>"
      ]
     },
     "metadata": {},
     "output_type": "display_data"
    },
    {
     "name": "stdout",
     "output_type": "stream",
     "text": [
      "m (40, 7, 1)\n"
     ]
    },
    {
     "data": {
      "image/png": "[encoded data removed]",
      "text/plain": [
       "<matplotlib.figure.Figure at 0x120832278>"
      ]
     },
     "metadata": {},
     "output_type": "display_data"
    },
    {
     "name": "stdout",
     "output_type": "stream",
     "text": [
      "m (40, 7, 1)\n"
     ]
    },
    {
     "data": {
      "image/png": "[encoded data removed]",
      "text/plain": [
       "<matplotlib.figure.Figure at 0x1208394e0>"
      ]
     },
     "metadata": {},
     "output_type": "display_data"
    }
   ],
   "source": [
    "i = 0\n",
    "amt = 1\n",
    "z = encoder.predict(x_train[i:i+1])\n",
    "zs = [ z[0].copy() for _ in range(latent_dim) ]\n",
    "for i,z_ in enumerate(zs):\n",
    "    z_[i] = z_[i] + amt\n",
    "generated = decoder.predict(np.concatenate([z[:1], zs]))\n",
    "print(generated.shape, z[0,:5])\n",
    "plot.single(generated[0])\n",
    "plot.single(generated[1])\n",
    "plot.single(generated[2])\n",
    "plot.single(generated[3])\n",
    "plot.single(generated[4])"
   ]
  },
  {
   "cell_type": "code",
   "execution_count": 40,
   "metadata": {},
   "outputs": [
    {
     "data": {
      "text/plain": [
       "<matplotlib.collections.PathCollection at 0x120891b38>"
      ]
     },
     "execution_count": 40,
     "metadata": {},
     "output_type": "execute_result"
    },
    {
     "data": {
      "image/png": "[encoded data removed]",
      "text/plain": [
       "<matplotlib.figure.Figure at 0x120639470>"
      ]
     },
     "metadata": {},
     "output_type": "display_data"
    }
   ],
   "source": [
    "# y_test = range(x_train_encoded.shape[0])\n",
    "y_test = np.concatenate([list(range(n)) for _ in range(int(m/n)+1)])[:m] / n\n",
    "plt.figure(figsize=(6, 6))\n",
    "plt.scatter(x_train_encoded[:, 0], x_train_encoded[:, 1], alpha=0.5, s=30) # c=y_test, "
   ]
  },
  {
   "cell_type": "code",
   "execution_count": 41,
   "metadata": {},
   "outputs": [
    {
     "data": {
      "text/plain": [
       "<matplotlib.collections.PathCollection at 0x1209337f0>"
      ]
     },
     "execution_count": 41,
     "metadata": {},
     "output_type": "execute_result"
    },
    {
     "data": {
      "image/png": "[encoded data removed]",
      "text/plain": [
       "<matplotlib.figure.Figure at 0x1207cd9e8>"
      ]
     },
     "metadata": {},
     "output_type": "display_data"
    }
   ],
   "source": [
    "# display a 2D plot of the digit classes in the latent space\n",
    "x_test_encoded = encoder.predict(x_test, batch_size=batch_size)\n",
    "plt.figure(figsize=(6, 6))\n",
    "plt.scatter(x_test_encoded[:, 0], x_test_encoded[:, 1], alpha=0.5, s=30) # , c=y_test\n",
    "# plt.colorbar()"
   ]
  },
  {
   "cell_type": "code",
   "execution_count": 42,
   "metadata": {},
   "outputs": [],
   "source": [
    "# build a digit generator that can sample from the learned distribution\n",
    "decoder_input = Input(shape=(latent_dim,))\n",
    "_decoded = utils.composition(decoders, decoder_input, verbose=False)\n",
    "generator = Model(decoder_input, _decoded)"
   ]
  },
  {
   "cell_type": "code",
   "execution_count": 43,
   "metadata": {},
   "outputs": [],
   "source": [
    "# x_decoded[0].reshape(150,3)"
   ]
  },
  {
   "cell_type": "code",
   "execution_count": 44,
   "metadata": {},
   "outputs": [
    {
     "data": {
      "text/plain": [
       "(450, 40, 7, 1)"
      ]
     },
     "execution_count": 44,
     "metadata": {},
     "output_type": "execute_result"
    }
   ],
   "source": [
    "x_train.shape"
   ]
  },
  {
   "cell_type": "code",
   "execution_count": 45,
   "metadata": {},
   "outputs": [
    {
     "name": "stdout",
     "output_type": "stream",
     "text": [
      "(5,) [0.5 0.5 0.5 0.5 0.5]\n"
     ]
    },
    {
     "data": {
      "image/png": "[encoded data removed]",
      "text/plain": [
       "<matplotlib.figure.Figure at 0x12059ebe0>"
      ]
     },
     "metadata": {},
     "output_type": "display_data"
    }
   ],
   "source": [
    "min_y = 0.01\n",
    "max_y = 0.5\n",
    "plot.latent(generator, batch_size, latent_dim,\n",
    "       x_encoded=0.5,\n",
    "       n=8,\n",
    "       m=3,\n",
    "       crop_size=30,\n",
    "       margin_top=1,\n",
    "       margin_left=1,\n",
    "       min_x=0.05,\n",
    "       max_x=0.95,\n",
    "       min_y=min_y,\n",
    "       max_y=max_y)"
   ]
  },
  {
   "cell_type": "code",
   "execution_count": 46,
   "metadata": {},
   "outputs": [
    {
     "name": "stdout",
     "output_type": "stream",
     "text": [
      "(5,) [0.5 0.5 0.5 0.5 0.5]\n"
     ]
    },
    {
     "data": {
      "image/png": "[encoded data removed]",
      "text/plain": [
       "<matplotlib.figure.Figure at 0x12151d5c0>"
      ]
     },
     "metadata": {},
     "output_type": "display_data"
    }
   ],
   "source": [
    "min_y2 = max_y\n",
    "plot.latent(generator, batch_size, latent_dim,\n",
    "       x_encoded=0.5,            \n",
    "       n=6,\n",
    "       m=2,\n",
    "       crop_size=30,\n",
    "       margin_top=1,\n",
    "       margin_left=1,\n",
    "       min_x=0.05,\n",
    "       max_x=0.95,\n",
    "       min_y=min_y2,\n",
    "       max_y=0.95)"
   ]
  },
  {
   "cell_type": "code",
   "execution_count": 47,
   "metadata": {
    "scrolled": true
   },
   "outputs": [
    {
     "name": "stdout",
     "output_type": "stream",
     "text": [
      "\u001b[92m [INFO] : \u001b[0m\n",
      " |  len, max_t\n",
      " |  1.9802083333333331\n",
      " |  2.0\n",
      "\u001b[92m [INFO] : \u001b[0m\n",
      " |  len, max_t\n",
      " |  1.9802083333333331\n",
      " |  2.0\n",
      "\u001b[92m [INFO] : \u001b[0m\n",
      " |  len, max_t\n",
      " |  1.8802083333333333\n",
      " |  2.0\n",
      "\u001b[92m [INFO] : \u001b[0m\n",
      " |  len, max_t\n",
      " |  1.9802083333333336\n",
      " |  2.0\n",
      "\u001b[92m [INFO] : \u001b[0m\n",
      " |  len, max_t\n",
      " |  1.8802083333333335\n",
      " |  2.0\n",
      "\u001b[92m [INFO] : \u001b[0m\n",
      " |  len, max_t\n",
      " |  1.9802083333333333\n",
      " |  2.0\n",
      "\u001b[92m [INFO] : \u001b[0m\n",
      " |  len, max_t\n",
      " |  1.9302083333333337\n",
      " |  2.0\n",
      "\u001b[92m [INFO] : \u001b[0m\n",
      " |  len, max_t\n",
      " |  1.930208333333334\n",
      " |  2.0\n"
     ]
    }
   ],
   "source": [
    "a = [0,11,100,399]\n",
    "# utils.clear_dir(config.export_dir)\n",
    "for i in a:\n",
    "    s = midi.MultiTrack.from_array(x_train[i])\n",
    "    mid = midi.decode.track(context, s, transpose=0)\n",
    "    io.export_midifile(mid, config.export_dir + 'y_true_' + str(i))\n",
    "    \n",
    "    s = midi.MultiTrack.from_array(y[i])\n",
    "    mid = midi.decode.track(context, s, transpose=0)\n",
    "    io.export_midifile(mid, config.export_dir + 'y_pred' + str(i))    "
   ]
  },
  {
   "cell_type": "code",
   "execution_count": null,
   "metadata": {},
   "outputs": [],
   "source": []
  },
  {
   "cell_type": "code",
   "execution_count": null,
   "metadata": {},
   "outputs": [],
   "source": []
  },
  {
   "cell_type": "code",
   "execution_count": null,
   "metadata": {},
   "outputs": [],
   "source": []
  },
  {
   "cell_type": "code",
   "execution_count": null,
   "metadata": {},
   "outputs": [],
   "source": []
  },
  {
   "cell_type": "code",
   "execution_count": null,
   "metadata": {},
   "outputs": [],
   "source": []
  },
  {
   "cell_type": "code",
   "execution_count": null,
   "metadata": {},
   "outputs": [],
   "source": []
  }
 ],
 "metadata": {
  "kernelspec": {
   "display_name": "Python 3",
   "language": "python",
   "name": "python3"
  },
  "language_info": {
   "codemirror_mode": {
    "name": "ipython",
    "version": 3
   },
   "file_extension": ".py",
   "mimetype": "text/x-python",
   "name": "python",
   "nbconvert_exporter": "python",
   "pygments_lexer": "ipython3",
   "version": "3.6.4"
  }
 },
 "nbformat": 4,
 "nbformat_minor": 2
}
