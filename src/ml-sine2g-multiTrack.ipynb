{
 "cells": [
  {
   "cell_type": "code",
   "execution_count": 1,
   "metadata": {},
   "outputs": [],
   "source": [
    "import config\n",
    "import os, numpy as np, pandas, sklearn, scipy.signal as signal\n",
    "import mido\n",
    "import matplotlib.pyplot as plt\n",
    "%matplotlib inline"
   ]
  },
  {
   "cell_type": "code",
   "execution_count": 2,
   "metadata": {},
   "outputs": [
    {
     "name": "stderr",
     "output_type": "stream",
     "text": [
      "/Library/Frameworks/Python.framework/Versions/3.6/lib/python3.6/site-packages/h5py/__init__.py:36: FutureWarning: Conversion of the second argument of issubdtype from `float` to `np.floating` is deprecated. In future, it will be treated as `np.float64 == np.dtype(float).type`.\n",
      "  from ._conv import register_converters as _register_converters\n",
      "Using TensorFlow backend.\n"
     ]
    }
   ],
   "source": [
    "## NN libs\n",
    "from sklearn.decomposition import PCA\n",
    "from sklearn import preprocessing\n",
    "from sklearn.preprocessing import RobustScaler\n",
    "import keras\n",
    "from keras import regularizers\n",
    "from keras.utils import to_categorical\n",
    "from keras.models import Sequential\n",
    "from keras.optimizers import SGD, Adam\n",
    "from keras.layers import Input, Dense, Activation, Conv1D, Conv2D, Dropout, Flatten\n",
    "from keras.layers import Conv2DTranspose, Reshape, MaxPooling2D, UpSampling2D, UpSampling1D, MaxPooling1D\n",
    "from keras.layers import LocallyConnected1D, LocallyConnected2D\n",
    "from keras.layers import Input, LSTM, RepeatVector\n",
    "from keras.models import Model\n",
    "from keras.callbacks import TensorBoard"
   ]
  },
  {
   "cell_type": "code",
   "execution_count": 3,
   "metadata": {},
   "outputs": [
    {
     "name": "stdout",
     "output_type": "stream",
     "text": [
      " Context :: namedtuple(\n",
      "[ max_t = float\n",
      ", dt = float\n",
      ", n_instances = int\n",
      ", note_length = int\n",
      ", bpm = float\n",
      ", tempo = float\n",
      ", ticks_per_beat = int\n",
      "]\n",
      "\n"
     ]
    }
   ],
   "source": [
    "# local libs\n",
    "import config, models, functions\n",
    "from data import data, midi, midi_generators as g\n",
    "from utils import io, models_io, utils"
   ]
  },
  {
   "cell_type": "code",
   "execution_count": 4,
   "metadata": {
    "scrolled": true
   },
   "outputs": [
    {
     "name": "stdout",
     "output_type": "stream",
     "text": [
      "Setting up params\n",
      "\n",
      "max min f 25.0 0.3333333333333333\n",
      " >> Context(max_t=3.0, dt=0.02, n_instances=150, note_length=0.03, bpm=120.0, tempo=500000, ticks_per_beat=480)\n",
      "Setting up params\n",
      "\n",
      "max min f 25.0 0.3333333333333333\n",
      " >> Context(max_t=3.0, dt=0.02, n_instances=150, note_length=0.03, bpm=120.0, tempo=500000, ticks_per_beat=480)\n",
      "Importing midi-data\n",
      "\n",
      "\u001b[92m [INFO] : \u001b[0m\n",
      " |  reading file: ../datasets/examples/01 16th Snare.mid\n",
      "\u001b[92m [INFO] : \u001b[0m\n",
      " |  reading file: ../datasets/examples/01 8th Cym.mid\n",
      "\u001b[92m [INFO] : \u001b[0m\n",
      " |  reading file: ../datasets/examples/01 8th Hat.mid\n",
      "\u001b[92m [INFO] : \u001b[0m\n",
      " |  reading file: ../datasets/examples/02 8th Cym.mid\n",
      "\u001b[92m [INFO] : \u001b[0m\n",
      " |  reading file: ../datasets/examples/114_LetsDance_DavidBowie1.mid\n",
      "\u001b[92m [INFO] : \u001b[0m\n",
      " |  reading file: ../datasets/examples/127_SweetChildOMine_GunsAndRoses1.mid\n",
      "\u001b[92m [INFO] : \u001b[0m\n",
      " |  reading file: ../datasets/examples/92_GiveItAway_TheRedHotChiliPeppers.mid\n",
      "\u001b[92m [INFO] : \u001b[0m\n",
      " |  reading file: ../datasets/examples/94_Creep_Radiohead2.mid\n",
      "\u001b[92m [INFO] : \u001b[0m\n",
      " |  reading file: ../datasets/examples/bossa 1.mid\n",
      "\u001b[92m [INFO] : \u001b[0m\n",
      " |  reading file: ../datasets/examples/bossa 2.mid\n",
      "\u001b[92m [INFO] : \u001b[0m\n",
      " |  reading file: ../datasets/examples/bossa 3.mid\n",
      "\u001b[92m [INFO] : \u001b[0m\n",
      " |  reading file: ../datasets/examples/bossa 4.mid\n",
      "\u001b[92m [INFO] : \u001b[0m\n",
      " |  reading file: ../datasets/examples/G3.mid\n",
      "\u001b[92m [INFO] : \u001b[0m\n",
      " |  reading file: ../datasets/examples/G4.mid\n",
      "\u001b[92m [INFO] : \u001b[0m\n",
      " |  reading file: ../datasets/examples/G5.mid\n",
      "\u001b[92m [INFO] : \u001b[0m\n",
      " |  reading file: ../datasets/examples/G6.mid\n",
      "\u001b[92m [INFO] : \u001b[0m\n",
      " |  reading file: ../datasets/examples/simple-shuffle-120.mid\n",
      "\u001b[92m [INFO] : \u001b[0m\n",
      " |  reading file: ../datasets/examples/simple-straight-120.mid\n",
      "\n",
      "Encoding midi-data\n",
      " [<midi file '../datasets/examples/01 16th Snare.mid' type 0, 1 tracks, 182 messages>, <midi file '../datasets/examples/01 8th Cym.mid' type 0, 1 tracks, 68 messages>, <midi file '../datasets/examples/01 8th Hat.mid' type 0, 1 tracks, 60 messages>, <midi file '../datasets/examples/02 8th Cym.mid' type 0, 1 tracks, 72 messages>, <midi file '../datasets/examples/114_LetsDance_DavidBowie1.mid' type 0, 1 tracks, 76 messages>, <midi file '../datasets/examples/127_SweetChildOMine_GunsAndRoses1.mid' type 0, 1 tracks, 226 messages>, <midi file '../datasets/examples/92_GiveItAway_TheRedHotChiliPeppers.mid' type 0, 1 tracks, 132 messages>, <midi file '../datasets/examples/94_Creep_Radiohead2.mid' type 0, 1 tracks, 126 messages>, <midi file '../datasets/examples/bossa 1.mid' type 0, 1 tracks, 40 messages>, <midi file '../datasets/examples/bossa 2.mid' type 0, 1 tracks, 38 messages>, <midi file '../datasets/examples/bossa 3.mid' type 0, 1 tracks, 34 messages>, <midi file '../datasets/examples/bossa 4.mid' type 0, 1 tracks, 42 messages>, <midi file '../datasets/examples/G3.mid' type 0, 1 tracks, 58 messages>, <midi file '../datasets/examples/G4.mid' type 0, 1 tracks, 111 messages>, <midi file '../datasets/examples/G5.mid' type 0, 1 tracks, 85 messages>, <midi file '../datasets/examples/G6.mid' type 0, 1 tracks, 107 messages>, <midi file '../datasets/examples/simple-shuffle-120.mid' type 0, 1 tracks, 68 messages>, <midi file '../datasets/examples/simple-straight-120.mid' type 0, 1 tracks, 68 messages>]\n",
      "> -> multi-track = False\n",
      "\u001b[91m [DEBUG] > \u001b[0m\n",
      " |>  to_array: msg.time > max_t; t, n\n",
      " |>  2.994791666666667\n",
      " |>  150\n",
      "\u001b[91m [DEBUG] > \u001b[0m\n",
      " |>  to_array: msg.time > max_t; t, n\n",
      " |>  2.9947916666666665\n",
      " |>  150\n",
      "\u001b[91m [DEBUG] > \u001b[0m\n",
      " |>  to_array: msg.time > max_t; t, n\n",
      " |>  2.9947916666666665\n",
      " |>  150\n",
      "\u001b[91m [DEBUG] > \u001b[0m\n",
      " |>  to_array: msg.time > max_t; t, n\n",
      " |>  2.994791666666667\n",
      " |>  150\n",
      "\u001b[91m [DEBUG] > \u001b[0m\n",
      " |>  to_array: msg.time > max_t; t, n\n",
      " |>  2.999999999999999\n",
      " |>  150\n",
      "\u001b[91m [DEBUG] > \u001b[0m\n",
      " |>  to_array: msg.time > max_t; t, n\n",
      " |>  3.0\n",
      " |>  150\n",
      "\u001b[91m [DEBUG] > \u001b[0m\n",
      " |>  to_array: msg.time > max_t; t, n\n",
      " |>  2.9999999999999996\n",
      " |>  150\n",
      "\u001b[91m [DEBUG] > \u001b[0m\n",
      " |>  to_array: msg.time > max_t; t, n\n",
      " |>  3.0000000000000004\n",
      " |>  150\n",
      "\u001b[91m [DEBUG] > \u001b[0m\n",
      " |>  to_array: msg.time > max_t; t, n\n",
      " |>  3.0057662250000003\n",
      " |>  150\n",
      "\u001b[91m [DEBUG] > \u001b[0m\n",
      " |>  to_array: msg.time > max_t; t, n\n",
      " |>  2.9932662375\n",
      " |>  150\n",
      "\u001b[91m [DEBUG] > \u001b[0m\n",
      " |>  to_array: msg.time > max_t; t, n\n",
      " |>  3.6615348\n",
      " |>  150\n",
      "\u001b[91m [DEBUG] > \u001b[0m\n",
      " |>  to_array: msg.time > max_t; t, n\n",
      " |>  2.9961508500000003\n",
      " |>  150\n",
      "\u001b[91m [DEBUG] > \u001b[0m\n",
      " |>  to_array: msg.time > max_t; t, n\n",
      " |>  3.0\n",
      " |>  150\n",
      "\u001b[91m [DEBUG] > \u001b[0m\n",
      " |>  to_array: msg.time > max_t; t, n\n",
      " |>  3.0\n",
      " |>  150\n"
     ]
    }
   ],
   "source": [
    "context = data.init()\n",
    "n = 100\n",
    "multiTrack = False\n",
    "context, x_train, labels = data.import_data(data.init(), n, multiTrack=multiTrack)"
   ]
  },
  {
   "cell_type": "code",
   "execution_count": 5,
   "metadata": {},
   "outputs": [
    {
     "data": {
      "text/plain": [
       "(22, 150, 1)"
      ]
     },
     "execution_count": 5,
     "metadata": {},
     "output_type": "execute_result"
    }
   ],
   "source": [
    "x_train.shape"
   ]
  },
  {
   "cell_type": "code",
   "execution_count": 6,
   "metadata": {
    "scrolled": true
   },
   "outputs": [
    {
     "name": "stdout",
     "output_type": "stream",
     "text": [
      "(22, 149, 1) (22, 149, 1) (22, 149, 1)\n"
     ]
    }
   ],
   "source": [
    "x_test = x_train\n",
    "\n",
    "y_train = x_train[:,:-1,:]\n",
    "z_train = x_train[:,1:,:]\n",
    "x_train = y_train\n",
    "\n",
    "encoder_input_data = y_train # english sentences\n",
    "decoder_input_data = y_train # french sentences (copy)\n",
    "decoder_target_data = z_train # french sentences, next timestep\n",
    "\n",
    "print(x_train.shape, y_train.shape, z_train.shape)"
   ]
  },
  {
   "cell_type": "code",
   "execution_count": 7,
   "metadata": {},
   "outputs": [
    {
     "data": {
      "text/plain": [
       "[<matplotlib.lines.Line2D at 0x117962f98>]"
      ]
     },
     "execution_count": 7,
     "metadata": {},
     "output_type": "execute_result"
    },
    {
     "data": {
      "image/png": "[encoded data removed]",
      "text/plain": [
       "<matplotlib.figure.Figure at 0x117829828>"
      ]
     },
     "metadata": {},
     "output_type": "display_data"
    }
   ],
   "source": [
    "plt.plot(x_train[0,:100])"
   ]
  },
  {
   "cell_type": "code",
   "execution_count": 8,
   "metadata": {},
   "outputs": [
    {
     "data": {
      "text/plain": [
       "(149, 1)"
      ]
     },
     "execution_count": 8,
     "metadata": {},
     "output_type": "execute_result"
    }
   ],
   "source": [
    "n_samples = x_train[0]\n",
    "input_shape = x_train.shape[1:] # shape of a single sample\n",
    "output_shape = y_train.shape[1:] # shape of a single sample\n",
    "# output_length = y_train.shape[1:][0]\n",
    "hidden_layer_length = 10\n",
    "input_shape"
   ]
  },
  {
   "cell_type": "code",
   "execution_count": 9,
   "metadata": {},
   "outputs": [
    {
     "data": {
      "text/plain": [
       "(149, 1)"
      ]
     },
     "execution_count": 9,
     "metadata": {},
     "output_type": "execute_result"
    }
   ],
   "source": [
    "output_shape"
   ]
  },
  {
   "cell_type": "code",
   "execution_count": 10,
   "metadata": {},
   "outputs": [],
   "source": [
    "num_encoder_tokens = x_train.shape[-1]\n",
    "num_decoder_tokens = y_train.shape[-1]\n",
    "latent_dim = 64"
   ]
  },
  {
   "cell_type": "code",
   "execution_count": 11,
   "metadata": {},
   "outputs": [
    {
     "name": "stdout",
     "output_type": "stream",
     "text": [
      "__________________________________________________________________________________________________\n",
      "Layer (type)                    Output Shape         Param #     Connected to                     \n",
      "==================================================================================================\n",
      "input_1 (InputLayer)            (None, None, 1)      0                                            \n",
      "__________________________________________________________________________________________________\n",
      "input_2 (InputLayer)            (None, None, 1)      0                                            \n",
      "__________________________________________________________________________________________________\n",
      "lstm_1 (LSTM)                   [(None, 64), (None,  16896       input_1[0][0]                    \n",
      "__________________________________________________________________________________________________\n",
      "lstm_2 (LSTM)                   [(None, None, 64), ( 16896       input_2[0][0]                    \n",
      "                                                                 lstm_1[0][1]                     \n",
      "                                                                 lstm_1[0][2]                     \n",
      "__________________________________________________________________________________________________\n",
      "dense_1 (Dense)                 (None, None, 1)      65          lstm_2[0][0]                     \n",
      "==================================================================================================\n",
      "Total params: 33,857\n",
      "Trainable params: 33,857\n",
      "Non-trainable params: 0\n",
      "__________________________________________________________________________________________________\n"
     ]
    }
   ],
   "source": [
    "# Define an input sequence and process it.\n",
    "encoder_inputs = Input(shape=(None, num_encoder_tokens))\n",
    "encoder = LSTM(latent_dim, return_state=True)\n",
    "_, state_h, state_c = encoder(encoder_inputs)\n",
    "# We discard `encoder_outputs` and only keep the states.\n",
    "encoder_states = [state_h, state_c]\n",
    "\n",
    "# Set up the decoder, using `encoder_states` as initial state.\n",
    "decoder_inputs = Input(shape=(None, num_decoder_tokens))\n",
    "# We set up our decoder to return full output sequences,\n",
    "# and to return internal states as well. We don't use the\n",
    "# return states in the training model, but we will use them in inference.\n",
    "decoder_lstm = LSTM(latent_dim, return_sequences=True, return_state=True)\n",
    "decoder_outputs, _, _ = decoder_lstm(decoder_inputs, initial_state=encoder_states)\n",
    "decoder_dense = Dense(num_decoder_tokens, activation='sigmoid')\n",
    "decoder_outputs = decoder_dense(decoder_outputs)\n",
    "\n",
    "# Define the model that will turn\n",
    "# `encoder_input_data` & `decoder_input_data` into `decoder_target_data`\n",
    "model = Model([encoder_inputs, decoder_inputs], decoder_outputs)\n",
    "model.summary()"
   ]
  },
  {
   "cell_type": "code",
   "execution_count": 12,
   "metadata": {},
   "outputs": [],
   "source": [
    "# encoder.summary()\n",
    "# decoder.summary()"
   ]
  },
  {
   "cell_type": "code",
   "execution_count": 13,
   "metadata": {},
   "outputs": [],
   "source": [
    "metrics = ['accuracy','mse','binary_crossentropy'] # sparse_categorical_accuracy\n",
    "loss = 'binary_crossentropy'# binary_crossentropy categorical_crossentropy sparse_categorical_crossentropy\n",
    "optimizer = 'rmsprop' # adam adadelta rmsprop nadam\n",
    "# keras.optimizers.RMSprop(lr=0.001, rho=0.9, epsilon=None, decay=0.0)\n",
    "model.compile(optimizer=optimizer, loss=loss, metrics=['mse', 'mae'])#, metrics=metrics)"
   ]
  },
  {
   "cell_type": "code",
   "execution_count": 14,
   "metadata": {},
   "outputs": [],
   "source": [
    "batch_size = 4\n",
    "# n epochs = n iterations over all the training data\n",
    "epochs = 6"
   ]
  },
  {
   "cell_type": "code",
   "execution_count": 15,
   "metadata": {
    "scrolled": true
   },
   "outputs": [
    {
     "name": "stdout",
     "output_type": "stream",
     "text": [
      "Train on 18 samples, validate on 4 samples\n",
      "Epoch 1/6\n",
      "18/18 [==============================] - 1s 80ms/step - loss: 0.6359 - mean_squared_error: 0.2216 - mean_absolute_error: 0.4694 - val_loss: 0.3292 - val_mean_squared_error: 0.0860 - val_mean_absolute_error: 0.2540\n",
      "Epoch 2/6\n",
      "18/18 [==============================] - 1s 49ms/step - loss: 0.2644 - mean_squared_error: 0.0661 - mean_absolute_error: 0.1357 - val_loss: 0.2243 - val_mean_squared_error: 0.0542 - val_mean_absolute_error: 0.0877\n",
      "Epoch 3/6\n",
      "18/18 [==============================] - 1s 52ms/step - loss: 0.2457 - mean_squared_error: 0.0604 - mean_absolute_error: 0.1136 - val_loss: 0.2215 - val_mean_squared_error: 0.0540 - val_mean_absolute_error: 0.0917\n",
      "Epoch 4/6\n",
      "18/18 [==============================] - 1s 52ms/step - loss: 0.2391 - mean_squared_error: 0.0597 - mean_absolute_error: 0.1069 - val_loss: 0.2214 - val_mean_squared_error: 0.0542 - val_mean_absolute_error: 0.1274\n",
      "Epoch 5/6\n",
      "18/18 [==============================] - 1s 50ms/step - loss: 0.2368 - mean_squared_error: 0.0595 - mean_absolute_error: 0.1206 - val_loss: 0.2173 - val_mean_squared_error: 0.0537 - val_mean_absolute_error: 0.1091\n",
      "Epoch 6/6\n",
      "18/18 [==============================] - 1s 49ms/step - loss: 0.2350 - mean_squared_error: 0.0593 - mean_absolute_error: 0.1178 - val_loss: 0.2171 - val_mean_squared_error: 0.0536 - val_mean_absolute_error: 0.1108\n"
     ]
    }
   ],
   "source": [
    "callbacks = []\n",
    "callbacks = [TensorBoard(log_dir=config.tmp_log_dir)]\n",
    "vs = 1/6\n",
    "m = 100\n",
    "# model.fit(x_train, y_train, epochs=epochs, batch_size=batch_size, callbacks=[TensorBoard(log_dir=config.tmp_log_dir)])\n",
    "history = model.fit([x_train[:m],y_train[:m]], z_train[:m], epochs=epochs, batch_size=batch_size,\n",
    "          validation_split=vs, callbacks=callbacks)"
   ]
  },
  {
   "cell_type": "code",
   "execution_count": 16,
   "metadata": {},
   "outputs": [
    {
     "data": {
      "text/plain": [
       "[<matplotlib.lines.Line2D at 0x117918588>]"
      ]
     },
     "execution_count": 16,
     "metadata": {},
     "output_type": "execute_result"
    },
    {
     "data": {
      "image/png": "[encoded data removed]",
      "text/plain": [
       "<matplotlib.figure.Figure at 0x117918a58>"
      ]
     },
     "metadata": {},
     "output_type": "display_data"
    }
   ],
   "source": [
    "plt.plot(history.history['loss'])\n",
    "plt.plot(history.history['val_loss'])"
   ]
  },
  {
   "cell_type": "markdown",
   "metadata": {},
   "source": [
    "# Inferencing\n",
    "\n",
    "model.predict() requires 2 inputs: english sentences + french sentences"
   ]
  },
  {
   "cell_type": "code",
   "execution_count": 17,
   "metadata": {},
   "outputs": [],
   "source": [
    "encoder_model = Model(encoder_inputs, encoder_states)\n",
    "\n",
    "decoder_state_input_h = Input(shape=(latent_dim,))\n",
    "decoder_state_input_c = Input(shape=(latent_dim,))\n",
    "decoder_states_inputs = [decoder_state_input_h, decoder_state_input_c]\n",
    "decoder_outputs, state_h, state_c = decoder_lstm(decoder_inputs, initial_state=decoder_states_inputs)\n",
    "decoder_states = [state_h, state_c]\n",
    "decoder_outputs = decoder_dense(decoder_outputs)\n",
    "decoder_model = Model(\n",
    "    [decoder_inputs] + decoder_states_inputs,\n",
    "    [decoder_outputs] + decoder_states)"
   ]
  },
  {
   "cell_type": "code",
   "execution_count": 18,
   "metadata": {},
   "outputs": [
    {
     "name": "stdout",
     "output_type": "stream",
     "text": [
      "_________________________________________________________________\n",
      "Layer (type)                 Output Shape              Param #   \n",
      "=================================================================\n",
      "input_1 (InputLayer)         (None, None, 1)           0         \n",
      "_________________________________________________________________\n",
      "lstm_1 (LSTM)                [(None, 64), (None, 64),  16896     \n",
      "=================================================================\n",
      "Total params: 16,896\n",
      "Trainable params: 16,896\n",
      "Non-trainable params: 0\n",
      "_________________________________________________________________\n",
      "__________________________________________________________________________________________________\n",
      "Layer (type)                    Output Shape         Param #     Connected to                     \n",
      "==================================================================================================\n",
      "input_2 (InputLayer)            (None, None, 1)      0                                            \n",
      "__________________________________________________________________________________________________\n",
      "input_3 (InputLayer)            (None, 64)           0                                            \n",
      "__________________________________________________________________________________________________\n",
      "input_4 (InputLayer)            (None, 64)           0                                            \n",
      "__________________________________________________________________________________________________\n",
      "lstm_2 (LSTM)                   [(None, None, 64), ( 16896       input_2[0][0]                    \n",
      "                                                                 input_3[0][0]                    \n",
      "                                                                 input_4[0][0]                    \n",
      "__________________________________________________________________________________________________\n",
      "dense_1 (Dense)                 (None, None, 1)      65          lstm_2[1][0]                     \n",
      "==================================================================================================\n",
      "Total params: 16,961\n",
      "Trainable params: 16,961\n",
      "Non-trainable params: 0\n",
      "__________________________________________________________________________________________________\n"
     ]
    }
   ],
   "source": [
    "encoder_model.summary()\n",
    "decoder_model.summary()"
   ]
  },
  {
   "cell_type": "code",
   "execution_count": 19,
   "metadata": {},
   "outputs": [],
   "source": [
    "def decode_sequence(input_seq, encoder_model, decoder_model):\n",
    "    max_decoder_seq_length = 500\n",
    "    \n",
    "    # Encode the input as state vectors.\n",
    "    states_value = encoder_model.predict(input_seq)\n",
    "\n",
    "    # Generate empty target sequence of length 1.\n",
    "    target_seq = np.zeros((1, 1, num_decoder_tokens))\n",
    "\n",
    "    # Sampling loop for a batch of sequences\n",
    "    # (to simplify, here we assume a batch of size 1).\n",
    "    stop_condition = False\n",
    "    decoded_sentence = []\n",
    "    while not stop_condition:\n",
    "        output_tokens, h, c = decoder_model.predict([target_seq] + states_value)\n",
    "#         print(output_tokens.shape)\n",
    "\n",
    "        output_ = output_tokens[0, -1, :] # identity in case of 1 batch?\n",
    "        # Sample a token\n",
    "        sampled_token_index = np.argmax(output_tokens[0, -1, :])\n",
    "        # sampled_char = sampled_token_index # reverse_target_char_index[sampled_token_index]\n",
    "        decoded_sentence.append(output_)\n",
    "\n",
    "        # Exit condition: either hit max length\n",
    "        # or find stop character.\n",
    "        if len(decoded_sentence) >= max_decoder_seq_length:\n",
    "            stop_condition = True\n",
    "\n",
    "        # Update the target sequence (of length 1).\n",
    "        target_seq = np.zeros((1, 1, num_decoder_tokens))\n",
    "        # target_seq[0, 0, :] = output_\n",
    "        target_seq[0, 0, :] = output_\n",
    "\n",
    "\n",
    "        # Update states\n",
    "        states_value = [h, c]\n",
    "\n",
    "    return np.stack(decoded_sentence)"
   ]
  },
  {
   "cell_type": "code",
   "execution_count": 20,
   "metadata": {
    "scrolled": true
   },
   "outputs": [
    {
     "name": "stdout",
     "output_type": "stream",
     "text": [
      "(1, 1, 1)\n",
      "(1, 1, 1)\n",
      "(1, 1, 1)\n",
      "(1, 1, 1)\n",
      "(1, 1, 1)\n",
      "(1, 1, 1)\n",
      "(1, 1, 1)\n",
      "(1, 1, 1)\n",
      "(1, 1, 1)\n",
      "(1, 1, 1)\n",
      "(1, 1, 1)\n",
      "(1, 1, 1)\n",
      "(1, 1, 1)\n",
      "(1, 1, 1)\n",
      "(1, 1, 1)\n",
      "(1, 1, 1)\n",
      "(1, 1, 1)\n",
      "(1, 1, 1)\n",
      "(1, 1, 1)\n",
      "(1, 1, 1)\n",
      "(1, 1, 1)\n",
      "(1, 1, 1)\n",
      "(1, 1, 1)\n",
      "(1, 1, 1)\n",
      "(1, 1, 1)\n",
      "(1, 1, 1)\n",
      "(1, 1, 1)\n",
      "(1, 1, 1)\n",
      "(1, 1, 1)\n",
      "(1, 1, 1)\n",
      "(1, 1, 1)\n",
      "(1, 1, 1)\n",
      "(1, 1, 1)\n",
      "(1, 1, 1)\n",
      "(1, 1, 1)\n",
      "(1, 1, 1)\n",
      "(1, 1, 1)\n",
      "(1, 1, 1)\n",
      "(1, 1, 1)\n",
      "(1, 1, 1)\n",
      "(1, 1, 1)\n",
      "(1, 1, 1)\n",
      "(1, 1, 1)\n",
      "(1, 1, 1)\n",
      "(1, 1, 1)\n",
      "(1, 1, 1)\n",
      "(1, 1, 1)\n",
      "(1, 1, 1)\n",
      "(1, 1, 1)\n",
      "(1, 1, 1)\n",
      "(1, 1, 1)\n",
      "(1, 1, 1)\n",
      "(1, 1, 1)\n",
      "(1, 1, 1)\n",
      "(1, 1, 1)\n",
      "(1, 1, 1)\n",
      "(1, 1, 1)\n",
      "(1, 1, 1)\n",
      "(1, 1, 1)\n",
      "(1, 1, 1)\n",
      "(1, 1, 1)\n",
      "(1, 1, 1)\n",
      "(1, 1, 1)\n",
      "(1, 1, 1)\n",
      "(1, 1, 1)\n",
      "(1, 1, 1)\n",
      "(1, 1, 1)\n",
      "(1, 1, 1)\n",
      "(1, 1, 1)\n",
      "(1, 1, 1)\n",
      "(1, 1, 1)\n",
      "(1, 1, 1)\n",
      "(1, 1, 1)\n",
      "(1, 1, 1)\n",
      "(1, 1, 1)\n",
      "(1, 1, 1)\n",
      "(1, 1, 1)\n",
      "(1, 1, 1)\n",
      "(1, 1, 1)\n",
      "(1, 1, 1)\n",
      "(1, 1, 1)\n",
      "(1, 1, 1)\n",
      "(1, 1, 1)\n",
      "(1, 1, 1)\n",
      "(1, 1, 1)\n",
      "(1, 1, 1)\n",
      "(1, 1, 1)\n",
      "(1, 1, 1)\n",
      "(1, 1, 1)\n",
      "(1, 1, 1)\n",
      "(1, 1, 1)\n",
      "(1, 1, 1)\n",
      "(1, 1, 1)\n",
      "(1, 1, 1)\n",
      "(1, 1, 1)\n",
      "(1, 1, 1)\n",
      "(1, 1, 1)\n",
      "(1, 1, 1)\n",
      "(1, 1, 1)\n",
      "(1, 1, 1)\n",
      "(1, 1, 1)\n",
      "(1, 1, 1)\n",
      "(1, 1, 1)\n",
      "(1, 1, 1)\n",
      "(1, 1, 1)\n",
      "(1, 1, 1)\n",
      "(1, 1, 1)\n",
      "(1, 1, 1)\n",
      "(1, 1, 1)\n",
      "(1, 1, 1)\n",
      "(1, 1, 1)\n",
      "(1, 1, 1)\n",
      "(1, 1, 1)\n",
      "(1, 1, 1)\n",
      "(1, 1, 1)\n",
      "(1, 1, 1)\n",
      "(1, 1, 1)\n",
      "(1, 1, 1)\n",
      "(1, 1, 1)\n",
      "(1, 1, 1)\n",
      "(1, 1, 1)\n",
      "(1, 1, 1)\n",
      "(1, 1, 1)\n",
      "(1, 1, 1)\n",
      "(1, 1, 1)\n",
      "(1, 1, 1)\n",
      "(1, 1, 1)\n",
      "(1, 1, 1)\n",
      "(1, 1, 1)\n",
      "(1, 1, 1)\n",
      "(1, 1, 1)\n",
      "(1, 1, 1)\n",
      "(1, 1, 1)\n",
      "(1, 1, 1)\n",
      "(1, 1, 1)\n",
      "(1, 1, 1)\n",
      "(1, 1, 1)\n",
      "(1, 1, 1)\n",
      "(1, 1, 1)\n",
      "(1, 1, 1)\n",
      "(1, 1, 1)\n",
      "(1, 1, 1)\n",
      "(1, 1, 1)\n",
      "(1, 1, 1)\n",
      "(1, 1, 1)\n",
      "(1, 1, 1)\n",
      "(1, 1, 1)\n",
      "(1, 1, 1)\n",
      "(1, 1, 1)\n",
      "(1, 1, 1)\n",
      "(1, 1, 1)\n",
      "(1, 1, 1)\n",
      "(1, 1, 1)\n",
      "(1, 1, 1)\n",
      "(1, 1, 1)\n",
      "(1, 1, 1)\n",
      "(1, 1, 1)\n",
      "(1, 1, 1)\n",
      "(1, 1, 1)\n",
      "(1, 1, 1)\n",
      "(1, 1, 1)\n",
      "(1, 1, 1)\n",
      "(1, 1, 1)\n",
      "(1, 1, 1)\n",
      "(1, 1, 1)\n",
      "(1, 1, 1)\n",
      "(1, 1, 1)\n",
      "(1, 1, 1)\n",
      "(1, 1, 1)\n",
      "(1, 1, 1)\n",
      "(1, 1, 1)\n",
      "(1, 1, 1)\n",
      "(1, 1, 1)\n",
      "(1, 1, 1)\n",
      "(1, 1, 1)\n",
      "(1, 1, 1)\n",
      "(1, 1, 1)\n",
      "(1, 1, 1)\n",
      "(1, 1, 1)\n",
      "(1, 1, 1)\n",
      "(1, 1, 1)\n",
      "(1, 1, 1)\n",
      "(1, 1, 1)\n",
      "(1, 1, 1)\n",
      "(1, 1, 1)\n",
      "(1, 1, 1)\n",
      "(1, 1, 1)\n",
      "(1, 1, 1)\n",
      "(1, 1, 1)\n",
      "(1, 1, 1)\n",
      "(1, 1, 1)\n",
      "(1, 1, 1)\n",
      "(1, 1, 1)\n",
      "(1, 1, 1)\n",
      "(1, 1, 1)\n",
      "(1, 1, 1)\n",
      "(1, 1, 1)\n",
      "(1, 1, 1)\n",
      "(1, 1, 1)\n",
      "(1, 1, 1)\n",
      "(1, 1, 1)\n",
      "(1, 1, 1)\n",
      "(1, 1, 1)\n",
      "(1, 1, 1)\n",
      "(1, 1, 1)\n",
      "(1, 1, 1)\n",
      "(1, 1, 1)\n",
      "(1, 1, 1)\n",
      "(1, 1, 1)\n",
      "(1, 1, 1)\n",
      "(1, 1, 1)\n",
      "(1, 1, 1)\n",
      "(1, 1, 1)\n",
      "(1, 1, 1)\n",
      "(1, 1, 1)\n",
      "(1, 1, 1)\n",
      "(1, 1, 1)\n",
      "(1, 1, 1)\n",
      "(1, 1, 1)\n",
      "(1, 1, 1)\n",
      "(1, 1, 1)\n",
      "(1, 1, 1)\n",
      "(1, 1, 1)\n",
      "(1, 1, 1)\n",
      "(1, 1, 1)\n",
      "(1, 1, 1)\n",
      "(1, 1, 1)\n",
      "(1, 1, 1)\n",
      "(1, 1, 1)\n",
      "(1, 1, 1)\n",
      "(1, 1, 1)\n",
      "(1, 1, 1)\n",
      "(1, 1, 1)\n",
      "(1, 1, 1)\n",
      "(1, 1, 1)\n",
      "(1, 1, 1)\n",
      "(1, 1, 1)\n",
      "(1, 1, 1)\n",
      "(1, 1, 1)\n",
      "(1, 1, 1)\n",
      "(1, 1, 1)\n",
      "(1, 1, 1)\n",
      "(1, 1, 1)\n",
      "(1, 1, 1)\n",
      "(1, 1, 1)\n",
      "(1, 1, 1)\n",
      "(1, 1, 1)\n",
      "(1, 1, 1)\n",
      "(1, 1, 1)\n",
      "(1, 1, 1)\n",
      "(1, 1, 1)\n",
      "(1, 1, 1)\n",
      "(1, 1, 1)\n",
      "(1, 1, 1)\n",
      "(1, 1, 1)\n",
      "(1, 1, 1)\n",
      "(1, 1, 1)\n",
      "(1, 1, 1)\n",
      "(1, 1, 1)\n",
      "(1, 1, 1)\n",
      "(1, 1, 1)\n",
      "(1, 1, 1)\n",
      "(1, 1, 1)\n",
      "(1, 1, 1)\n",
      "(1, 1, 1)\n",
      "(1, 1, 1)\n",
      "(1, 1, 1)\n",
      "(1, 1, 1)\n",
      "(1, 1, 1)\n",
      "(1, 1, 1)\n",
      "(1, 1, 1)\n",
      "(1, 1, 1)\n",
      "(1, 1, 1)\n",
      "(1, 1, 1)\n",
      "(1, 1, 1)\n",
      "(1, 1, 1)\n",
      "(1, 1, 1)\n",
      "(1, 1, 1)\n",
      "(1, 1, 1)\n",
      "(1, 1, 1)\n",
      "(1, 1, 1)\n",
      "(1, 1, 1)\n",
      "(1, 1, 1)\n",
      "(1, 1, 1)\n",
      "(1, 1, 1)\n",
      "(1, 1, 1)\n",
      "(1, 1, 1)\n",
      "(1, 1, 1)\n",
      "(1, 1, 1)\n",
      "(1, 1, 1)\n",
      "(1, 1, 1)\n",
      "(1, 1, 1)\n",
      "(1, 1, 1)\n",
      "(1, 1, 1)\n",
      "(1, 1, 1)\n",
      "(1, 1, 1)\n",
      "(1, 1, 1)\n",
      "(1, 1, 1)\n",
      "(1, 1, 1)\n",
      "(1, 1, 1)\n",
      "(1, 1, 1)\n",
      "(1, 1, 1)\n",
      "(1, 1, 1)\n",
      "(1, 1, 1)\n",
      "(1, 1, 1)\n",
      "(1, 1, 1)\n",
      "(1, 1, 1)\n",
      "(1, 1, 1)\n",
      "(1, 1, 1)\n",
      "(1, 1, 1)\n",
      "(1, 1, 1)\n",
      "(1, 1, 1)\n",
      "(1, 1, 1)\n",
      "(1, 1, 1)\n",
      "(1, 1, 1)\n",
      "(1, 1, 1)\n",
      "(1, 1, 1)\n",
      "(1, 1, 1)\n",
      "(1, 1, 1)\n",
      "(1, 1, 1)\n",
      "(1, 1, 1)\n",
      "(1, 1, 1)\n",
      "(1, 1, 1)\n",
      "(1, 1, 1)\n",
      "(1, 1, 1)\n",
      "(1, 1, 1)\n",
      "(1, 1, 1)\n",
      "(1, 1, 1)\n",
      "(1, 1, 1)\n",
      "(1, 1, 1)\n",
      "(1, 1, 1)\n",
      "(1, 1, 1)\n",
      "(1, 1, 1)\n",
      "(1, 1, 1)\n",
      "(1, 1, 1)\n",
      "(1, 1, 1)\n",
      "(1, 1, 1)\n",
      "(1, 1, 1)\n",
      "(1, 1, 1)\n",
      "(1, 1, 1)\n",
      "(1, 1, 1)\n",
      "(1, 1, 1)\n",
      "(1, 1, 1)\n",
      "(1, 1, 1)\n",
      "(1, 1, 1)\n",
      "(1, 1, 1)\n",
      "(1, 1, 1)\n",
      "(1, 1, 1)\n",
      "(1, 1, 1)\n",
      "(1, 1, 1)\n",
      "(1, 1, 1)\n",
      "(1, 1, 1)\n",
      "(1, 1, 1)\n",
      "(1, 1, 1)\n",
      "(1, 1, 1)\n",
      "(1, 1, 1)\n",
      "(1, 1, 1)\n",
      "(1, 1, 1)\n",
      "(1, 1, 1)\n",
      "(1, 1, 1)\n",
      "(1, 1, 1)\n",
      "(1, 1, 1)\n",
      "(1, 1, 1)\n",
      "(1, 1, 1)\n",
      "(1, 1, 1)\n",
      "(1, 1, 1)\n",
      "(1, 1, 1)\n",
      "(1, 1, 1)\n",
      "(1, 1, 1)\n",
      "(1, 1, 1)\n",
      "(1, 1, 1)\n",
      "(1, 1, 1)\n",
      "(1, 1, 1)\n",
      "(1, 1, 1)\n",
      "(1, 1, 1)\n",
      "(1, 1, 1)\n",
      "(1, 1, 1)\n",
      "(1, 1, 1)\n",
      "(1, 1, 1)\n",
      "(1, 1, 1)\n",
      "(1, 1, 1)\n",
      "(1, 1, 1)\n",
      "(1, 1, 1)\n",
      "(1, 1, 1)\n",
      "(1, 1, 1)\n",
      "(1, 1, 1)\n",
      "(1, 1, 1)\n",
      "(1, 1, 1)\n",
      "(1, 1, 1)\n",
      "(1, 1, 1)\n",
      "(1, 1, 1)\n",
      "(1, 1, 1)\n",
      "(1, 1, 1)\n",
      "(1, 1, 1)\n",
      "(1, 1, 1)\n",
      "(1, 1, 1)\n",
      "(1, 1, 1)\n",
      "(1, 1, 1)\n",
      "(1, 1, 1)\n",
      "(1, 1, 1)\n",
      "(1, 1, 1)\n",
      "(1, 1, 1)\n",
      "(1, 1, 1)\n",
      "(1, 1, 1)\n",
      "(1, 1, 1)\n",
      "(1, 1, 1)\n",
      "(1, 1, 1)\n",
      "(1, 1, 1)\n",
      "(1, 1, 1)\n",
      "(1, 1, 1)\n",
      "(1, 1, 1)\n",
      "(1, 1, 1)\n",
      "(1, 1, 1)\n",
      "(1, 1, 1)\n",
      "(1, 1, 1)\n",
      "(1, 1, 1)\n",
      "(1, 1, 1)\n",
      "(1, 1, 1)\n",
      "(1, 1, 1)\n",
      "(1, 1, 1)\n",
      "(1, 1, 1)\n",
      "(1, 1, 1)\n",
      "(1, 1, 1)\n",
      "(1, 1, 1)\n",
      "(1, 1, 1)\n",
      "(1, 1, 1)\n",
      "(1, 1, 1)\n",
      "(1, 1, 1)\n",
      "(1, 1, 1)\n",
      "(1, 1, 1)\n",
      "(1, 1, 1)\n",
      "(1, 1, 1)\n",
      "(1, 1, 1)\n",
      "(1, 1, 1)\n",
      "(1, 1, 1)\n",
      "(1, 1, 1)\n",
      "(1, 1, 1)\n",
      "(1, 1, 1)\n",
      "(1, 1, 1)\n",
      "(1, 1, 1)\n",
      "(1, 1, 1)\n",
      "(1, 1, 1)\n",
      "(1, 1, 1)\n",
      "(1, 1, 1)\n",
      "(1, 1, 1)\n",
      "(1, 1, 1)\n",
      "(1, 1, 1)\n",
      "(1, 1, 1)\n",
      "(1, 1, 1)\n",
      "(1, 1, 1)\n",
      "(1, 1, 1)\n",
      "(1, 1, 1)\n",
      "(1, 1, 1)\n",
      "(1, 1, 1)\n",
      "(1, 1, 1)\n",
      "(1, 1, 1)\n",
      "(1, 1, 1)\n",
      "(1, 1, 1)\n",
      "(1, 1, 1)\n",
      "(1, 1, 1)\n",
      "(1, 1, 1)\n",
      "(1, 1, 1)\n",
      "(1, 1, 1)\n",
      "(1, 1, 1)\n",
      "(1, 1, 1)\n",
      "(1, 1, 1)\n",
      "(1, 1, 1)\n",
      "(1, 1, 1)\n",
      "(1, 1, 1)\n",
      "(1, 1, 1)\n",
      "(1, 1, 1)\n",
      "(1, 1, 1)\n",
      "(1, 1, 1)\n",
      "(1, 1, 1)\n",
      "(1, 1, 1)\n",
      "(1, 1, 1)\n",
      "(1, 1, 1)\n",
      "(1, 1, 1)\n",
      "(1, 1, 1)\n",
      "(1, 1, 1)\n",
      "(1, 1, 1)\n",
      "(1, 1, 1)\n",
      "(1, 1, 1)\n",
      "(1, 1, 1)\n",
      "(1, 1, 1)\n",
      "(1, 1, 1)\n",
      "(1, 1, 1)\n",
      "(1, 1, 1)\n",
      "(1, 1, 1)\n",
      "(1, 1, 1)\n",
      "(1, 1, 1)\n",
      "(1, 1, 1)\n",
      "(1, 1, 1)\n",
      "(1, 1, 1)\n",
      "(1, 1, 1)\n",
      "(1, 1, 1)\n",
      "(1, 1, 1)\n",
      "(1, 1, 1)\n",
      "(1, 1, 1)\n",
      "(1, 1, 1)\n"
     ]
    },
    {
     "data": {
      "text/plain": [
       "(500, 1)"
      ]
     },
     "execution_count": 20,
     "metadata": {},
     "output_type": "execute_result"
    }
   ],
   "source": [
    "result = decode_sequence(x_train[:1], encoder_model, decoder_model)\n",
    "result.shape"
   ]
  },
  {
   "cell_type": "code",
   "execution_count": 21,
   "metadata": {},
   "outputs": [
    {
     "data": {
      "text/plain": [
       "[<matplotlib.lines.Line2D at 0x11e6b3588>]"
      ]
     },
     "execution_count": 21,
     "metadata": {},
     "output_type": "execute_result"
    },
    {
     "data": {
      "image/png": "[encoded data removed]",
      "text/plain": [
       "<matplotlib.figure.Figure at 0x11780bac8>"
      ]
     },
     "metadata": {},
     "output_type": "display_data"
    }
   ],
   "source": [
    "plt.plot(result)"
   ]
  },
  {
   "cell_type": "code",
   "execution_count": 22,
   "metadata": {},
   "outputs": [
    {
     "data": {
      "text/plain": [
       "[<matplotlib.lines.Line2D at 0x11e3257b8>]"
      ]
     },
     "execution_count": 22,
     "metadata": {},
     "output_type": "execute_result"
    },
    {
     "data": {
      "image/png": "[encoded data removed]",
      "text/plain": [
       "<matplotlib.figure.Figure at 0x11e6a3be0>"
      ]
     },
     "metadata": {},
     "output_type": "display_data"
    }
   ],
   "source": [
    "plt.plot(x_train[0,:100,:])"
   ]
  },
  {
   "cell_type": "code",
   "execution_count": 23,
   "metadata": {},
   "outputs": [
    {
     "data": {
      "text/plain": [
       "(500, 1)"
      ]
     },
     "execution_count": 23,
     "metadata": {},
     "output_type": "execute_result"
    }
   ],
   "source": [
    "result.shape"
   ]
  },
  {
   "cell_type": "code",
   "execution_count": 24,
   "metadata": {},
   "outputs": [
    {
     "name": "stdout",
     "output_type": "stream",
     "text": [
      "\u001b[91m [DEBUG] > \u001b[0m\n",
      " |>  decode_track - input was not MultiTrack.\n",
      " |>  Assuming MultiTrack\n",
      "\u001b[92m [INFO] : \u001b[0m\n",
      " |  len, max_t\n",
      " |  0\n",
      " |  3.0\n"
     ]
    }
   ],
   "source": [
    "mid = midi.decode_track(context, result)\n",
    "dn = config.dataset_dir\n",
    "# io.export_midifile(mid, dn + 'song_seq-seq.mid')"
   ]
  },
  {
   "cell_type": "code",
   "execution_count": null,
   "metadata": {},
   "outputs": [],
   "source": []
  },
  {
   "cell_type": "code",
   "execution_count": null,
   "metadata": {},
   "outputs": [],
   "source": []
  },
  {
   "cell_type": "code",
   "execution_count": null,
   "metadata": {},
   "outputs": [],
   "source": []
  },
  {
   "cell_type": "code",
   "execution_count": null,
   "metadata": {},
   "outputs": [],
   "source": []
  },
  {
   "cell_type": "code",
   "execution_count": null,
   "metadata": {},
   "outputs": [],
   "source": []
  },
  {
   "cell_type": "code",
   "execution_count": null,
   "metadata": {},
   "outputs": [],
   "source": []
  },
  {
   "cell_type": "code",
   "execution_count": null,
   "metadata": {},
   "outputs": [],
   "source": []
  },
  {
   "cell_type": "markdown",
   "metadata": {},
   "source": [
    "## Alt\n",
    "Without teacher forcing https://blog.keras.io/a-ten-minute-introduction-to-sequence-to-sequence-learning-in-keras.html\n",
    "\n",
    "\n",
    "<i>\"In some niche cases you may not be able to use teacher forcing, because you don't have access to the full target sequences, e.g. if you are doing online training on very long sequences, where buffering complete input-target pairs would be impossible. In that case, you may want to do training by reinjecting the decoder's predictions into the decoder's input, just like we were doing for inference.\n",
    "\n",
    "You can achieve this by building a model that hard-codes the output reinjection loop: \"</i>"
   ]
  },
  {
   "cell_type": "code",
   "execution_count": null,
   "metadata": {},
   "outputs": [],
   "source": [
    "from keras.layers import Lambda\n",
    "from keras import backend as K\n",
    "\n",
    "# The first part is unchanged\n",
    "encoder_inputs = Input(shape=(None, num_encoder_tokens))\n",
    "encoder = LSTM(latent_dim, return_state=True)\n",
    "_, state_h, state_c = encoder(encoder_inputs)\n",
    "states = [state_h, state_c]\n",
    "\n",
    "# Set up the decoder, which will only process one timestep at a time.\n",
    "decoder_inputs = Input(shape=(1, num_decoder_tokens))\n",
    "decoder_lstm = LSTM(latent_dim, return_sequences=True, return_state=True)\n",
    "# output will be a probability distribution over the vectors\n",
    "decoder_dense = Dense(num_decoder_tokens, activation='softmax')\n",
    "\n",
    "all_outputs = []\n",
    "inputs = decoder_inputs\n",
    "max_decoder_seq_length = 100\n",
    "for _ in range(max_decoder_seq_length):\n",
    "    # Run the decoder on one timestep\n",
    "    outputs, state_h, state_c = decoder_lstm(inputs,\n",
    "                                             initial_state=states)\n",
    "    outputs = decoder_dense(outputs)\n",
    "    # Store the current prediction (we will concatenate all predictions later)\n",
    "    all_outputs.append(outputs)\n",
    "    # Reinject the outputs as inputs for the next loop iteration\n",
    "    # as well as update the states\n",
    "    inputs = outputs\n",
    "    states = [state_h, state_c]\n",
    "\n",
    "# Concatenate all predictions\n",
    "decoder_outputs = Lambda(lambda x: K.concatenate(x, axis=1))(all_outputs)\n",
    "\n",
    "# Define and compile model as previously\n",
    "model = Model([encoder_inputs, decoder_inputs], decoder_outputs)\n",
    "model.summary()"
   ]
  },
  {
   "cell_type": "code",
   "execution_count": null,
   "metadata": {},
   "outputs": [],
   "source": [
    "model.compile(optimizer='rmsprop', loss='categorical_crossentropy')\n",
    "\n",
    "# Prepare decoder input data that just contains the start character\n",
    "# Note that we could have made it a constant hard-coded in the model\n",
    "decoder_input_data = np.zeros((x_train.shape[0], 1, num_decoder_tokens))\n",
    "\n",
    "# Train model as previously\n",
    "model.fit([x_train,y_train], z_train, epochs=10, batch_size=batch_size,\n",
    "          validation_split=0.2, callbacks=callbacks)"
   ]
  },
  {
   "cell_type": "code",
   "execution_count": null,
   "metadata": {},
   "outputs": [],
   "source": []
  },
  {
   "cell_type": "code",
   "execution_count": null,
   "metadata": {},
   "outputs": [],
   "source": []
  },
  {
   "cell_type": "code",
   "execution_count": null,
   "metadata": {},
   "outputs": [],
   "source": []
  },
  {
   "cell_type": "code",
   "execution_count": null,
   "metadata": {},
   "outputs": [],
   "source": []
  },
  {
   "cell_type": "code",
   "execution_count": null,
   "metadata": {},
   "outputs": [],
   "source": []
  },
  {
   "cell_type": "code",
   "execution_count": null,
   "metadata": {},
   "outputs": [],
   "source": []
  },
  {
   "cell_type": "code",
   "execution_count": null,
   "metadata": {},
   "outputs": [],
   "source": []
  },
  {
   "cell_type": "code",
   "execution_count": null,
   "metadata": {},
   "outputs": [],
   "source": []
  },
  {
   "cell_type": "code",
   "execution_count": null,
   "metadata": {},
   "outputs": [],
   "source": [
    "x_test.shape"
   ]
  },
  {
   "cell_type": "code",
   "execution_count": null,
   "metadata": {},
   "outputs": [],
   "source": [
    "# x_test, y_test = gen_xy_sin_to_f(3, f=2)"
   ]
  },
  {
   "cell_type": "code",
   "execution_count": null,
   "metadata": {
    "scrolled": true
   },
   "outputs": [],
   "source": [
    "results = model.predict([x_test,x_test])\n",
    "results.shape"
   ]
  },
  {
   "cell_type": "code",
   "execution_count": null,
   "metadata": {},
   "outputs": [],
   "source": [
    "# the 'true' results\n",
    "i = 0\n",
    "selection = int(x_test.shape[1] * 1)\n",
    "full = np.concatenate([x_test[i,-selection:],y_test[i]])\n",
    "n3 = full.shape[0]\n",
    "plt.plot(np.arange(n3) / n3 * dt, full)"
   ]
  },
  {
   "cell_type": "code",
   "execution_count": null,
   "metadata": {},
   "outputs": [],
   "source": [
    "# predicted results\n",
    "i = 0\n",
    "full = np.concatenate([x_test[i,-selection:],results[i]])\n",
    "n3 = full.shape[0]\n",
    "plt.plot(np.arange(n3) / n3 * dt, full)"
   ]
  },
  {
   "cell_type": "code",
   "execution_count": null,
   "metadata": {},
   "outputs": [],
   "source": [
    "i = 2\n",
    "selection = int(x_test.shape[1] * 1)\n",
    "full = np.concatenate([x_test[i,-selection:],results[i]])\n",
    "n3 = full.shape[0]\n",
    "plt.plot(np.arange(n3) / n3 * dt, full)"
   ]
  },
  {
   "cell_type": "code",
   "execution_count": null,
   "metadata": {},
   "outputs": [],
   "source": [
    "i = 0\n",
    "selection = 1\n",
    "full = np.concatenate([x_test[i,-selection:],results[i]])\n",
    "n3 = full.shape[0]\n",
    "plt.plot(np.arange(n3) / n3 * dt, full)"
   ]
  },
  {
   "cell_type": "code",
   "execution_count": null,
   "metadata": {},
   "outputs": [],
   "source": []
  },
  {
   "cell_type": "code",
   "execution_count": null,
   "metadata": {},
   "outputs": [],
   "source": []
  },
  {
   "cell_type": "code",
   "execution_count": null,
   "metadata": {},
   "outputs": [],
   "source": []
  },
  {
   "cell_type": "code",
   "execution_count": null,
   "metadata": {},
   "outputs": [],
   "source": []
  },
  {
   "cell_type": "code",
   "execution_count": null,
   "metadata": {},
   "outputs": [],
   "source": []
  },
  {
   "cell_type": "code",
   "execution_count": null,
   "metadata": {},
   "outputs": [],
   "source": []
  }
 ],
 "metadata": {
  "kernelspec": {
   "display_name": "Python 3",
   "language": "python",
   "name": "python3"
  },
  "language_info": {
   "codemirror_mode": {
    "name": "ipython",
    "version": 3
   },
   "file_extension": ".py",
   "mimetype": "text/x-python",
   "name": "python",
   "nbconvert_exporter": "python",
   "pygments_lexer": "ipython3",
   "version": "3.6.4"
  }
 },
 "nbformat": 4,
 "nbformat_minor": 2
}
