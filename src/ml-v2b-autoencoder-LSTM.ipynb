{
 "cells": [
  {
   "cell_type": "code",
   "execution_count": 2,
   "metadata": {},
   "outputs": [],
   "source": [
    "import os, numpy as np, pandas, sklearn\n",
    "import mido, rtmidi, rtmidi_\n",
    "np.random.seed(333)\n",
    "import matplotlib.pyplot as plt\n",
    "%matplotlib inline"
   ]
  },
  {
   "cell_type": "code",
   "execution_count": 28,
   "metadata": {},
   "outputs": [],
   "source": [
    "## NN libs\n",
    "from sklearn.decomposition import PCA\n",
    "from sklearn import preprocessing\n",
    "from sklearn.preprocessing import RobustScaler\n",
    "import keras\n",
    "from keras import regularizers\n",
    "from keras.utils import to_categorical\n",
    "from keras.models import Sequential\n",
    "from keras.optimizers import SGD, Adam\n",
    "from keras.layers import Input, Dense, Activation, Conv1D, Conv2D, Dropout, Flatten\n",
    "from keras.layers import Conv2DTranspose, Reshape, MaxPooling2D, UpSampling2D, UpSampling1D, MaxPooling1D\n",
    "from keras.layers import LocallyConnected1D, LocallyConnected2D\n",
    "from keras.layers import Input, LSTM, RepeatVector\n",
    "from keras.models import Model\n",
    "from keras.callbacks import TensorBoard"
   ]
  },
  {
   "cell_type": "code",
   "execution_count": 6,
   "metadata": {},
   "outputs": [],
   "source": [
    "# local libs\n",
    "import config\n",
    "from data import data, midi\n",
    "from utils import io"
   ]
  },
  {
   "cell_type": "code",
   "execution_count": 7,
   "metadata": {
    "scrolled": true
   },
   "outputs": [
    {
     "name": "stdout",
     "output_type": "stream",
     "text": [
      "Setting up params\n",
      "\n",
      " >> Context(max_t=10.0, dt=0.01, n_instances=1000, note_length=0.03, bpm=120.0, tempo=500000, ticks_per_beat=480)\n",
      "Importing midi-data\n",
      "\n",
      "[INFO] :\n",
      " |  reading file: ../datasets/examples/01 16th Snare copy.mid\n",
      "[INFO] :\n",
      " |  reading file: ../datasets/examples/01 16th Snare.mid\n",
      "[INFO] :\n",
      " |  reading file: ../datasets/examples/01 8th Cym copy.mid\n",
      "[INFO] :\n",
      " |  reading file: ../datasets/examples/01 8th Cym.mid\n",
      "[INFO] :\n",
      " |  reading file: ../datasets/examples/01 8th Hat copy.mid\n",
      "[INFO] :\n",
      " |  reading file: ../datasets/examples/01 8th Hat.mid\n",
      "[INFO] :\n",
      " |  reading file: ../datasets/examples/02 8th Cym copy.mid\n",
      "[INFO] :\n",
      " |  reading file: ../datasets/examples/02 8th Cym.mid\n",
      "\n",
      "Encoding midi-data\n",
      " [<midi file '../datasets/examples/01 16th Snare copy.mid' type 0, 1 tracks, 182 messages>, <midi file '../datasets/examples/01 16th Snare.mid' type 0, 1 tracks, 182 messages>, <midi file '../datasets/examples/01 8th Cym copy.mid' type 0, 1 tracks, 68 messages>, <midi file '../datasets/examples/01 8th Cym.mid' type 0, 1 tracks, 68 messages>, <midi file '../datasets/examples/01 8th Hat copy.mid' type 0, 1 tracks, 60 messages>, <midi file '../datasets/examples/01 8th Hat.mid' type 0, 1 tracks, 60 messages>, <midi file '../datasets/examples/02 8th Cym copy.mid' type 0, 1 tracks, 72 messages>, <midi file '../datasets/examples/02 8th Cym.mid' type 0, 1 tracks, 72 messages>]\n",
      "(8, 1000, 127)\n"
     ]
    }
   ],
   "source": [
    "n: int = 8\n",
    "context, x_train, labels = data.init(n)\n",
    "print(x_train.shape)"
   ]
  },
  {
   "cell_type": "code",
   "execution_count": null,
   "metadata": {},
   "outputs": [],
   "source": []
  },
  {
   "cell_type": "markdown",
   "metadata": {},
   "source": [
    "# Autoencoder\n",
    "Input -> hidden layer -> output (=input)\n",
    "Hidden layer has few dimension. Latent space of this layer should produce automatic categorization."
   ]
  },
  {
   "cell_type": "code",
   "execution_count": 89,
   "metadata": {},
   "outputs": [
    {
     "data": {
      "text/plain": [
       "(8, 1000, 127)"
      ]
     },
     "execution_count": 89,
     "metadata": {},
     "output_type": "execute_result"
    }
   ],
   "source": [
    "y_train = x_train\n",
    "n_samples = x_train[0]\n",
    "input_shape = x_train.shape[1:] # shape of a single sample\n",
    "output_shape = y_train.shape[1:]\n",
    "# output_length = y_train.shape[1]\n",
    "# output_length = (y_train[0]).shape[0] # = length of an individual label\n",
    "hidden_layer_length = 100\n",
    "x_train.shape"
   ]
  },
  {
   "cell_type": "code",
   "execution_count": 9,
   "metadata": {},
   "outputs": [
    {
     "data": {
      "text/plain": [
       "(8, 1000, 127)"
      ]
     },
     "execution_count": 9,
     "metadata": {},
     "output_type": "execute_result"
    }
   ],
   "source": [
    "y_train.shape"
   ]
  },
  {
   "cell_type": "code",
   "execution_count": 10,
   "metadata": {},
   "outputs": [
    {
     "data": {
      "text/plain": [
       "(1000, 127)"
      ]
     },
     "execution_count": 10,
     "metadata": {},
     "output_type": "execute_result"
    }
   ],
   "source": [
    "output_shape"
   ]
  },
  {
   "cell_type": "code",
   "execution_count": 57,
   "metadata": {},
   "outputs": [
    {
     "data": {
      "text/plain": [
       "(8, 1000, 127)"
      ]
     },
     "execution_count": 57,
     "metadata": {},
     "output_type": "execute_result"
    }
   ],
   "source": [
    "y_train = x_train\n",
    "n_samples = x_train[0]\n",
    "input_shape = x_train.shape[1:] # shape of a single sample\n",
    "output_shape = y_train.shape[1:]\n",
    "# output_length = y_train.shape[1]\n",
    "# output_length = (y_train[0]).shape[0] # = length of an individual label\n",
    "hidden_layer_length = 100\n",
    "timesteps = input_shape[0]\n",
    "input_length = input_shape[1]\n",
    "x_train.shape"
   ]
  },
  {
   "cell_type": "code",
   "execution_count": 83,
   "metadata": {},
   "outputs": [
    {
     "name": "stdout",
     "output_type": "stream",
     "text": [
      "_________________________________________________________________\n",
      "Layer (type)                 Output Shape              Param #   \n",
      "=================================================================\n",
      "input_12 (InputLayer)        (None, 1000, 127)         0         \n",
      "_________________________________________________________________\n",
      "dense_11 (Dense)             (None, 1000, 127)         16256     \n",
      "_________________________________________________________________\n",
      "lstm_23 (LSTM)               (None, 100)               91200     \n",
      "=================================================================\n",
      "Total params: 107,456\n",
      "Trainable params: 107,456\n",
      "Non-trainable params: 0\n",
      "_________________________________________________________________\n",
      "_________________________________________________________________\n",
      "Layer (type)                 Output Shape              Param #   \n",
      "=================================================================\n",
      "input_12 (InputLayer)        (None, 1000, 127)         0         \n",
      "_________________________________________________________________\n",
      "dense_11 (Dense)             (None, 1000, 127)         16256     \n",
      "_________________________________________________________________\n",
      "lstm_23 (LSTM)               (None, 100)               91200     \n",
      "_________________________________________________________________\n",
      "repeat_vector_12 (RepeatVect (None, 1000, 100)         0         \n",
      "_________________________________________________________________\n",
      "lstm_24 (LSTM)               (None, 1000, 127)         115824    \n",
      "=================================================================\n",
      "Total params: 223,280\n",
      "Trainable params: 223,280\n",
      "Non-trainable params: 0\n",
      "_________________________________________________________________\n"
     ]
    }
   ],
   "source": [
    "inputs = Input(shape=(timesteps, input_length))\n",
    "x = inputs\n",
    "x = Dense(127, activation='relu')(x)\n",
    "encoded = LSTM(hidden_layer_length)(x)\n",
    "\n",
    "decoded = RepeatVector(timesteps)(encoded)\n",
    "decoded = LSTM(input_length, return_sequences=True)(decoded)\n",
    "\n",
    "sequence_autoencoder = Model(inputs, decoded)\n",
    "encoder = Model(inputs, encoded)\n",
    "encoder.summary()\n",
    "sequence_autoencoder.summary()"
   ]
  },
  {
   "cell_type": "code",
   "execution_count": 84,
   "metadata": {},
   "outputs": [],
   "source": [
    "metrics = ['accuracy','mse','categorical_crossentropy']\n",
    "loss = 'binary_crossentropy'\n",
    "optimizer = 'adadelta'\n",
    "# learning_rate = 0.001\n",
    "# optimizer = optimizer = Adam(lr=learning_rate)\n",
    "sequence_autoencoder.compile(optimizer=optimizer, loss=loss, metrics=metrics)\n",
    "encoder.compile(optimizer='adadelta', loss=loss, metrics=metrics)"
   ]
  },
  {
   "cell_type": "code",
   "execution_count": 85,
   "metadata": {},
   "outputs": [],
   "source": [
    "batch_size = 3\n",
    "# n epochs = n iterations over all the training data\n",
    "epochs = 15"
   ]
  },
  {
   "cell_type": "code",
   "execution_count": 86,
   "metadata": {
    "scrolled": true
   },
   "outputs": [
    {
     "name": "stdout",
     "output_type": "stream",
     "text": [
      "Train on 6 samples, validate on 2 samples\n",
      "Epoch 1/15\n",
      "6/6 [==============================] - 4s 745ms/step - loss: 0.4607 - acc: 0.9703 - mean_squared_error: 0.0324 - categorical_crossentropy: 25.2266 - val_loss: 0.8344 - val_acc: 0.9370 - val_mean_squared_error: 0.0676 - val_categorical_crossentropy: 102.4830\n",
      "Epoch 2/15\n",
      "6/6 [==============================] - 4s 587ms/step - loss: 0.3417 - acc: 0.9703 - mean_squared_error: 0.0311 - categorical_crossentropy: 35.4599 - val_loss: 0.7088 - val_acc: 0.9370 - val_mean_squared_error: 0.0642 - val_categorical_crossentropy: 86.8321\n",
      "Epoch 3/15\n",
      "6/6 [==============================] - 3s 576ms/step - loss: 0.2939 - acc: 0.9703 - mean_squared_error: 0.0293 - categorical_crossentropy: 39.1916 - val_loss: 0.5064 - val_acc: 0.9370 - val_mean_squared_error: 0.0594 - val_categorical_crossentropy: 61.2680\n",
      "Epoch 4/15\n",
      "6/6 [==============================] - 3s 580ms/step - loss: 0.1772 - acc: 0.9703 - mean_squared_error: 0.0264 - categorical_crossentropy: 43.6035 - val_loss: 0.4839 - val_acc: 0.9370 - val_mean_squared_error: 0.0584 - val_categorical_crossentropy: 58.3875\n",
      "Epoch 5/15\n",
      "6/6 [==============================] - 3s 573ms/step - loss: 0.1310 - acc: 0.9703 - mean_squared_error: 0.0253 - categorical_crossentropy: 47.5859 - val_loss: 0.4801 - val_acc: 0.9370 - val_mean_squared_error: 0.0578 - val_categorical_crossentropy: 57.1201\n",
      "Epoch 6/15\n",
      "6/6 [==============================] - 3s 535ms/step - loss: 0.1283 - acc: 0.9703 - mean_squared_error: 0.0249 - categorical_crossentropy: 48.5726 - val_loss: 0.4767 - val_acc: 0.9370 - val_mean_squared_error: 0.0573 - val_categorical_crossentropy: 55.7393\n",
      "Epoch 7/15\n",
      "6/6 [==============================] - 3s 497ms/step - loss: 0.1258 - acc: 0.9703 - mean_squared_error: 0.0245 - categorical_crossentropy: 48.3471 - val_loss: 0.4734 - val_acc: 0.9370 - val_mean_squared_error: 0.0568 - val_categorical_crossentropy: 53.9496\n",
      "Epoch 8/15\n",
      "6/6 [==============================] - 3s 554ms/step - loss: 0.1236 - acc: 0.9703 - mean_squared_error: 0.0242 - categorical_crossentropy: 47.8981 - val_loss: 0.4703 - val_acc: 0.9370 - val_mean_squared_error: 0.0562 - val_categorical_crossentropy: 51.5717\n",
      "Epoch 9/15\n",
      "6/6 [==============================] - 3s 500ms/step - loss: 0.1215 - acc: 0.9703 - mean_squared_error: 0.0238 - categorical_crossentropy: 47.6562 - val_loss: 0.4674 - val_acc: 0.9370 - val_mean_squared_error: 0.0557 - val_categorical_crossentropy: 48.6286\n",
      "Epoch 10/15\n",
      "6/6 [==============================] - 3s 545ms/step - loss: 0.1196 - acc: 0.9703 - mean_squared_error: 0.0235 - categorical_crossentropy: 47.1677 - val_loss: 0.4647 - val_acc: 0.9370 - val_mean_squared_error: 0.0552 - val_categorical_crossentropy: 80.1027\n",
      "Epoch 11/15\n",
      "6/6 [==============================] - 3s 468ms/step - loss: 0.1177 - acc: 0.9703 - mean_squared_error: 0.0232 - categorical_crossentropy: 52.6970 - val_loss: 0.4619 - val_acc: 0.9370 - val_mean_squared_error: 0.0547 - val_categorical_crossentropy: 84.5377\n",
      "Epoch 12/15\n",
      "6/6 [==============================] - 3s 504ms/step - loss: 0.1160 - acc: 0.9703 - mean_squared_error: 0.0228 - categorical_crossentropy: 53.3087 - val_loss: 0.4592 - val_acc: 0.9370 - val_mean_squared_error: 0.0542 - val_categorical_crossentropy: 86.7648\n",
      "Epoch 13/15\n",
      "6/6 [==============================] - 3s 514ms/step - loss: 0.1143 - acc: 0.9703 - mean_squared_error: 0.0225 - categorical_crossentropy: 53.5263 - val_loss: 0.4565 - val_acc: 0.9370 - val_mean_squared_error: 0.0537 - val_categorical_crossentropy: 88.2477\n",
      "Epoch 14/15\n",
      "6/6 [==============================] - 3s 504ms/step - loss: 0.1125 - acc: 0.9703 - mean_squared_error: 0.0222 - categorical_crossentropy: 53.8353 - val_loss: 0.4539 - val_acc: 0.9370 - val_mean_squared_error: 0.0532 - val_categorical_crossentropy: 89.1874\n",
      "Epoch 15/15\n",
      "6/6 [==============================] - 3s 451ms/step - loss: 0.1109 - acc: 0.9703 - mean_squared_error: 0.0219 - categorical_crossentropy: 53.9416 - val_loss: 0.4513 - val_acc: 0.9370 - val_mean_squared_error: 0.0528 - val_categorical_crossentropy: 89.9259\n"
     ]
    },
    {
     "data": {
      "text/plain": [
       "<keras.callbacks.History at 0x14bd45128>"
      ]
     },
     "execution_count": 86,
     "metadata": {},
     "output_type": "execute_result"
    }
   ],
   "source": [
    "sequence_autoencoder.fit(x_train, y_train, epochs=epochs, batch_size=batch_size, validation_split=1/6, callbacks=[TensorBoard(log_dir=config.tmp_log_dir)])\n",
    "# model.fit(x_train, y_train, epochs=epochs, batch_size=batch_size, callbacks=[TensorBoard(log_dir=config.tmp_model_dir)])\n",
    "# model.fit(x_train, y_train, epochs=epochs, batch_size=batch_size,\n",
    "#           validation_split=1/6, callbacks=[TensorBoard(log_dir=config.tmp_model_dir)])"
   ]
  },
  {
   "cell_type": "code",
   "execution_count": 90,
   "metadata": {},
   "outputs": [],
   "source": [
    "encode = encoder"
   ]
  },
  {
   "cell_type": "code",
   "execution_count": 91,
   "metadata": {},
   "outputs": [
    {
     "data": {
      "text/plain": [
       "(8, 100)"
      ]
     },
     "execution_count": 91,
     "metadata": {},
     "output_type": "execute_result"
    }
   ],
   "source": [
    "result = encode.predict(x_train)\n",
    "n = result.shape[0]\n",
    "result.shape"
   ]
  },
  {
   "cell_type": "code",
   "execution_count": 92,
   "metadata": {},
   "outputs": [
    {
     "name": "stderr",
     "output_type": "stream",
     "text": [
      "/Library/Frameworks/Python.framework/Versions/3.6/lib/python3.6/site-packages/sklearn/utils/validation.py:475: DataConversionWarning: Data with input dtype int64 was converted to float64.\n",
      "  warnings.warn(msg, DataConversionWarning)\n"
     ]
    },
    {
     "data": {
      "text/plain": [
       "array([[0. , 0. , 0. ],\n",
       "       [0.5, 0.5, 0.5],\n",
       "       [1. , 1. , 1. ]])"
      ]
     },
     "execution_count": 92,
     "metadata": {},
     "output_type": "execute_result"
    }
   ],
   "source": [
    "# scale/normalize data, based on features\n",
    "# axis determines whether the data is scaled based on the 'global' features\n",
    "# axis = 0: max per feature (between instances)\n",
    "# axis = 1: max per instance (ignore features)\n",
    "# e.g. np.arange(9).reshape(3,3).max(axis=0)\n",
    "\n",
    "a = preprocessing.minmax_scale(np.arange(9).reshape(3,3), axis=0)\n",
    "a"
   ]
  },
  {
   "cell_type": "code",
   "execution_count": 93,
   "metadata": {},
   "outputs": [
    {
     "data": {
      "text/plain": [
       "0.5"
      ]
     },
     "execution_count": 93,
     "metadata": {},
     "output_type": "execute_result"
    }
   ],
   "source": [
    "a[:,1].mean()"
   ]
  },
  {
   "cell_type": "code",
   "execution_count": 94,
   "metadata": {},
   "outputs": [
    {
     "data": {
      "text/plain": [
       "[<matplotlib.lines.Line2D at 0x14fab6780>]"
      ]
     },
     "execution_count": 94,
     "metadata": {},
     "output_type": "execute_result"
    },
    {
     "data": {
      "image/png": "[encoded data removed]",
      "text/plain": [
       "<matplotlib.figure.Figure at 0x145c0c208>"
      ]
     },
     "metadata": {},
     "output_type": "display_data"
    }
   ],
   "source": [
    "plt.plot(result[:,0])"
   ]
  },
  {
   "cell_type": "code",
   "execution_count": 95,
   "metadata": {},
   "outputs": [
    {
     "data": {
      "text/plain": [
       "array([-0.01546944, -0.17647123, -0.17647117, -0.26357594, -0.26357594,\n",
       "       -0.51592374, -0.51592374, -0.51592374], dtype=float32)"
      ]
     },
     "execution_count": 95,
     "metadata": {},
     "output_type": "execute_result"
    }
   ],
   "source": [
    "normalized = preprocessing.normalize(result, axis=0)\n",
    "# normalized = preprocessing.minmax_scale(result, axis=0)\n",
    "# normalized = preprocessing.robust_scale(result, axis=0, quantile_range=(25, 75))\n",
    "normalized[:,2]"
   ]
  },
  {
   "cell_type": "code",
   "execution_count": 96,
   "metadata": {},
   "outputs": [
    {
     "data": {
      "text/plain": [
       "-0.11813114"
      ]
     },
     "execution_count": 96,
     "metadata": {},
     "output_type": "execute_result"
    }
   ],
   "source": [
    "result[:,2].mean()"
   ]
  },
  {
   "cell_type": "code",
   "execution_count": 97,
   "metadata": {},
   "outputs": [
    {
     "data": {
      "text/plain": [
       "0.00053154706"
      ]
     },
     "execution_count": 97,
     "metadata": {},
     "output_type": "execute_result"
    }
   ],
   "source": [
    "normalized[0,:].mean()"
   ]
  },
  {
   "cell_type": "code",
   "execution_count": 98,
   "metadata": {},
   "outputs": [
    {
     "data": {
      "text/plain": [
       "(8, 100)"
      ]
     },
     "execution_count": 98,
     "metadata": {},
     "output_type": "execute_result"
    }
   ],
   "source": [
    "data = normalized\n",
    "data.shape"
   ]
  },
  {
   "cell_type": "code",
   "execution_count": 99,
   "metadata": {},
   "outputs": [
    {
     "data": {
      "text/plain": [
       "array([-0.01546944, -0.17647123, -0.17647117, -0.26357594, -0.26357594,\n",
       "       -0.51592374, -0.51592374, -0.51592374], dtype=float32)"
      ]
     },
     "execution_count": 99,
     "metadata": {},
     "output_type": "execute_result"
    }
   ],
   "source": [
    "data[:,2]"
   ]
  },
  {
   "cell_type": "code",
   "execution_count": 100,
   "metadata": {},
   "outputs": [
    {
     "data": {
      "text/plain": [
       "array([-0.06837254,  0.09789184], dtype=float32)"
      ]
     },
     "execution_count": 100,
     "metadata": {},
     "output_type": "execute_result"
    }
   ],
   "source": [
    "data[:2, 0]"
   ]
  },
  {
   "cell_type": "code",
   "execution_count": 101,
   "metadata": {},
   "outputs": [
    {
     "data": {
      "text/plain": [
       "<matplotlib.collections.PathCollection at 0x14faab860>"
      ]
     },
     "execution_count": 101,
     "metadata": {},
     "output_type": "execute_result"
    },
    {
     "data": {
      "image/png": "[encoded data removed]",
      "text/plain": [
       "<matplotlib.figure.Figure at 0x142caab00>"
      ]
     },
     "metadata": {},
     "output_type": "display_data"
    }
   ],
   "source": [
    "# plt.scatter(latent[:,0], latent[:,1], c=y_test[:num], alpha=0.1)\n",
    "# plt.scatter(result[:,0],result[:,1])\n",
    "plt.scatter(data[:3, 0], data[:3, 1], data='o', c=[0.4]*3)\n",
    "plt.scatter(data[4:, 0], data[4:, 1], data='^', c=[0.5]*3)"
   ]
  },
  {
   "cell_type": "code",
   "execution_count": 102,
   "metadata": {},
   "outputs": [
    {
     "data": {
      "image/png": "[encoded data removed]",
      "text/plain": [
       "<matplotlib.figure.Figure at 0x1461b7c50>"
      ]
     },
     "metadata": {},
     "output_type": "display_data"
    }
   ],
   "source": [
    "x_dim = 0\n",
    "y_dim = 1\n",
    "c_dim = 2\n",
    "plt.subplots_adjust(bottom = 0.1)\n",
    "plt.scatter(\n",
    "    data[:, x_dim], data[:, y_dim], marker='o', c=data[:, c_dim], alpha=0.9, s=[50 for _ in range(n)],\n",
    "    cmap=plt.get_cmap('Spectral'))\n",
    "\n",
    "for label, x, y in zip(labels, data[:, x_dim], data[:, y_dim]):\n",
    "    plt.annotate(\n",
    "        label,\n",
    "        xy=(x, y), xytext=(-20, 20),\n",
    "        textcoords='offset points', ha='right', va='bottom',\n",
    "        bbox=dict(boxstyle='round,pad=0.5', fc='yellow', alpha=0.5),\n",
    "        arrowprops=dict(arrowstyle = '->', connectionstyle='arc3,rad=0'))\n",
    "\n",
    "plt.show()"
   ]
  },
  {
   "cell_type": "code",
   "execution_count": 110,
   "metadata": {},
   "outputs": [
    {
     "ename": "NameError",
     "evalue": "name 'decode' is not defined",
     "output_type": "error",
     "traceback": [
      "\u001b[0;31m---------------------------------------------------------------------------\u001b[0m",
      "\u001b[0;31mNameError\u001b[0m                                 Traceback (most recent call last)",
      "\u001b[0;32m<ipython-input-110-124e547c665a>\u001b[0m in \u001b[0;36m<module>\u001b[0;34m()\u001b[0m\n\u001b[1;32m      1\u001b[0m \u001b[0moriginals\u001b[0m \u001b[0;34m=\u001b[0m \u001b[0mresult\u001b[0m\u001b[0;34m[\u001b[0m\u001b[0;36m0\u001b[0m\u001b[0;34m:\u001b[0m\u001b[0;36m2\u001b[0m\u001b[0;34m,\u001b[0m\u001b[0;34m]\u001b[0m\u001b[0;34m\u001b[0m\u001b[0m\n\u001b[1;32m      2\u001b[0m \u001b[0mnew\u001b[0m \u001b[0;34m=\u001b[0m \u001b[0moriginals\u001b[0m\u001b[0;34m.\u001b[0m\u001b[0mmean\u001b[0m\u001b[0;34m(\u001b[0m\u001b[0maxis\u001b[0m\u001b[0;34m=\u001b[0m\u001b[0;36m0\u001b[0m\u001b[0;34m)\u001b[0m\u001b[0;34m\u001b[0m\u001b[0m\n\u001b[0;32m----> 3\u001b[0;31m \u001b[0marr\u001b[0m \u001b[0;34m=\u001b[0m \u001b[0mdecode\u001b[0m\u001b[0;34m.\u001b[0m\u001b[0mpredict\u001b[0m\u001b[0;34m(\u001b[0m\u001b[0mnew\u001b[0m\u001b[0;34m)\u001b[0m\u001b[0;34m\u001b[0m\u001b[0m\n\u001b[0m",
      "\u001b[0;31mNameError\u001b[0m: name 'decode' is not defined"
     ]
    }
   ],
   "source": [
    "originals = result[0:2,]\n",
    "new = originals.mean(axis=0)\n",
    "arr = decode.predict(new)"
   ]
  },
  {
   "cell_type": "code",
   "execution_count": null,
   "metadata": {},
   "outputs": [],
   "source": [
    "midis = [midi.decode_track(context, track) for track in arr]"
   ]
  },
  {
   "cell_type": "code",
   "execution_count": null,
   "metadata": {},
   "outputs": [],
   "source": []
  },
  {
   "cell_type": "code",
   "execution_count": null,
   "metadata": {},
   "outputs": [],
   "source": []
  },
  {
   "cell_type": "code",
   "execution_count": null,
   "metadata": {},
   "outputs": [],
   "source": []
  },
  {
   "cell_type": "code",
   "execution_count": null,
   "metadata": {},
   "outputs": [],
   "source": []
  }
 ],
 "metadata": {
  "kernelspec": {
   "display_name": "Python 3",
   "language": "python",
   "name": "python3"
  },
  "language_info": {
   "codemirror_mode": {
    "name": "ipython",
    "version": 3
   },
   "file_extension": ".py",
   "mimetype": "text/x-python",
   "name": "python",
   "nbconvert_exporter": "python",
   "pygments_lexer": "ipython3",
   "version": "3.6.4"
  }
 },
 "nbformat": 4,
 "nbformat_minor": 2
}
