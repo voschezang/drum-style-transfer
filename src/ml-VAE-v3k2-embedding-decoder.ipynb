{
 "cells": [
  {
   "cell_type": "code",
   "execution_count": 1,
   "metadata": {},
   "outputs": [
    {
     "name": "stderr",
     "output_type": "stream",
     "text": [
      "/usr/local/lib/python3.6/site-packages/h5py/__init__.py:36: FutureWarning: Conversion of the second argument of issubdtype from `float` to `np.floating` is deprecated. In future, it will be treated as `np.float64 == np.dtype(float).type`.\n",
      "  from ._conv import register_converters as _register_converters\n",
      "Using TensorFlow backend.\n"
     ]
    }
   ],
   "source": [
    "from __future__ import division\n",
    "\n",
    "import collections\n",
    "import numpy as np\n",
    "import matplotlib.pyplot as plt\n",
    "from scipy.stats import norm\n",
    "\n",
    "## NN libs\n",
    "import keras\n",
    "from keras import backend as K\n",
    "from keras import regularizers\n",
    "from keras.utils import to_categorical\n",
    "from keras.optimizers import SGD, Adam\n",
    "from keras.layers import *\n",
    "from keras.preprocessing.image import ImageDataGenerator\n",
    "from keras.models import Model\n",
    "from keras.callbacks import TensorBoard"
   ]
  },
  {
   "cell_type": "code",
   "execution_count": 2,
   "metadata": {},
   "outputs": [],
   "source": [
    "import config\n",
    "import os, numpy as np, pandas, sklearn, scipy.signal as signal\n",
    "import mido\n",
    "import matplotlib.pyplot as plt\n",
    "%matplotlib inline"
   ]
  },
  {
   "cell_type": "code",
   "execution_count": 3,
   "metadata": {},
   "outputs": [],
   "source": [
    "# local libs\n",
    "import config, models, setup\n",
    "import midi\n",
    "from midi import generators as g\n",
    "from utils import io, models_io, utils, plot\n",
    "from capsule.layers import Capsule, Length\n",
    "from capsule.capsulefunctions import squash, softmax, margin_loss"
   ]
  },
  {
   "cell_type": "code",
   "execution_count": 4,
   "metadata": {},
   "outputs": [
    {
     "name": "stdout",
     "output_type": "stream",
     "text": [
      " Context :: namedtuple(\n",
      "[ max_t = float\n",
      ", dt = float\n",
      ", n_timestesp = int\n",
      ", note_length = int\n",
      ", bpm = float\n",
      ", tempo = float\n",
      ", ticks_per_beat = int\n",
      "]\n",
      "\n",
      "Setting up params\n",
      "\n",
      "max min f 10.0 0.5\n",
      " >> Context(max_t=2.0, dt=0.05, n_timesteps=40, note_length=0.03, bpm=120.0, tempo=500000, ticks_per_beat=480)\n",
      " sample length:  40.000000\n",
      " max_f: 10.000000, min_f: 0.500000\n"
     ]
    }
   ],
   "source": [
    "context = setup.init()"
   ]
  },
  {
   "cell_type": "code",
   "execution_count": 5,
   "metadata": {
    "scrolled": true
   },
   "outputs": [
    {
     "name": "stdout",
     "output_type": "stream",
     "text": [
      "\n",
      "Importing midi-data\n",
      "\n",
      "Encoding midi-data\n",
      " 500\n",
      "> -> multi-track = True MidiFile\n",
      "\u001b[92m [INFO] : \u001b[0m\n",
      " |  True\n"
     ]
    }
   ],
   "source": [
    "n = 500 * 1\n",
    "dim4 = True\n",
    "multiTrack = True\n",
    "reduce_dims = midi.ReduceDimsOptions.MIDIFILE # GLOBAL\n",
    "dn = 'drum_midi/'\n",
    "x_train, labels = setup.import_data(context, n, dim4=dim4, reduce_dims=reduce_dims, dirname=dn, multiTrack=multiTrack, r=True)"
   ]
  },
  {
   "cell_type": "code",
   "execution_count": 6,
   "metadata": {},
   "outputs": [],
   "source": [
    "# n = 1000\n",
    "# min_f = 0\n",
    "# max_f = 3\n",
    "# x_train, params = g.gen_data_complex(context, n, max_f=max_f, min_f=min_f,\n",
    "#     n_polyrythms=1,\n",
    "#     n_channels=3,\n",
    "#     d_phase=True,\n",
    "#     return_params=True,\n",
    "#     dim4=dim4,\n",
    "#     multiTrack=multiTrack)"
   ]
  },
  {
   "cell_type": "code",
   "execution_count": 7,
   "metadata": {},
   "outputs": [
    {
     "data": {
      "text/plain": [
       "(500, 40, 9, 1)"
      ]
     },
     "execution_count": 7,
     "metadata": {},
     "output_type": "execute_result"
    }
   ],
   "source": [
    "x_train.shape"
   ]
  },
  {
   "cell_type": "code",
   "execution_count": 8,
   "metadata": {},
   "outputs": [
    {
     "data": {
      "text/plain": [
       "((500, 40, 9, 1), 450)"
      ]
     },
     "execution_count": 8,
     "metadata": {},
     "output_type": "execute_result"
    }
   ],
   "source": [
    "m = int(x_train.shape[0] * 0.9)\n",
    "x_train.shape, m"
   ]
  },
  {
   "cell_type": "code",
   "execution_count": 9,
   "metadata": {},
   "outputs": [],
   "source": [
    "x_test = x_train[m:]\n",
    "x_train = x_train[:m]"
   ]
  },
  {
   "cell_type": "code",
   "execution_count": 10,
   "metadata": {},
   "outputs": [
    {
     "name": "stdout",
     "output_type": "stream",
     "text": [
      "m (40, 9)\n"
     ]
    },
    {
     "data": {
      "image/png": "[encoded data removed]",
      "text/plain": [
       "<matplotlib.figure.Figure at 0x115fb7470>"
      ]
     },
     "metadata": {},
     "output_type": "display_data"
    },
    {
     "name": "stdout",
     "output_type": "stream",
     "text": [
      "m (40, 9)\n"
     ]
    },
    {
     "data": {
      "image/png": "[encoded data removed]",
      "text/plain": [
       "<matplotlib.figure.Figure at 0x116019940>"
      ]
     },
     "metadata": {},
     "output_type": "display_data"
    },
    {
     "data": {
      "text/plain": [
       "['../datasets/drum_midi//Cha cha/cha cha 1.mid',\n",
       " '../datasets/drum_midi//Cha cha/cha cha 2.mid',\n",
       " '../datasets/drum_midi//Cha cha/cha cha 3.mid',\n",
       " \"../datasets/drum_midi//50´s Drummer MIDI Files/01 Rock'n'Roll/06 Moonglow 140BPM/05 8th Hat.mid\"]"
      ]
     },
     "execution_count": 10,
     "metadata": {},
     "output_type": "execute_result"
    }
   ],
   "source": [
    "plot.single(x_train[0, :50,:,0])\n",
    "plot.single(x_train[1, :50,:,0])\n",
    "# plot.single(x_train[2, :50,:,0])\n",
    "labels[0:4]"
   ]
  },
  {
   "cell_type": "code",
   "execution_count": 11,
   "metadata": {},
   "outputs": [
    {
     "data": {
      "text/plain": [
       "(40, 9, 1)"
      ]
     },
     "execution_count": 11,
     "metadata": {},
     "output_type": "execute_result"
    }
   ],
   "source": [
    "input_shape = x_train[0].shape\n",
    "timesteps = input_shape[0]\n",
    "notes = input_shape[1]\n",
    "input_shape"
   ]
  },
  {
   "cell_type": "code",
   "execution_count": 12,
   "metadata": {},
   "outputs": [],
   "source": [
    "latent_dim = 100\n",
    "intermediate_dim = 128\n",
    "epsilon_std = 1.0"
   ]
  },
  {
   "cell_type": "code",
   "execution_count": 13,
   "metadata": {},
   "outputs": [],
   "source": [
    "def encoder(input_shape, dropout=0.1):\n",
    "    encoder_input = Input(shape=input_shape)\n",
    "    nodes = np.prod(input_shape)\n",
    "    timesteps, notes, channels = input_shape\n",
    "    \n",
    "    # Convolution\n",
    "    h = encoder_input\n",
    "    k = (2,1)\n",
    "    s = (2,1)\n",
    "    \n",
    "    h = Conv2D(32, kernel_size=k, strides=1, activation='relu', padding='valid')(h)\n",
    "    h = Conv2D(64, kernel_size=k, strides=s, activation='relu', padding='valid')(h)\n",
    "    h = Conv2D(128, kernel_size=k, strides=s, activation='relu', padding='valid')(h)\n",
    "    \n",
    "    # input per note\n",
    "    note_list = Permute([2,1,3], name='input_per_note')(h)\n",
    "    \n",
    "    rnn = SimpleRNN(128, name='rnn_per_note')\n",
    "    reshape = Reshape((128,1))\n",
    "\n",
    "    n_capsules = 10\n",
    "    capsule_dim = 6\n",
    "    n_routings=3\n",
    "    share_weights=True\n",
    "    capsule = Capsule(n_capsules, capsule_dim, n_routings, share_weights)\n",
    "\n",
    "    x = Lambda(lambda layer: capsule(reshape(rnn(layer))) )\n",
    "    h_per_note = TimeDistributed(x, name='TimeDistributed_per_note')(note_list)\n",
    "    shape = K.int_shape(h_per_note)[1:]\n",
    "    h_per_note = Reshape( [notes, np.prod(shape[1:3])] )(h_per_note)\n",
    "    h_per_note = Flatten()(h_per_note)\n",
    "\n",
    "    # 'global' input\n",
    "    h = encoder_input\n",
    "    h = Reshape(input_shape[:-1])(h)\n",
    "    h = Conv1D(32, kernel_size=2, strides=1, activation='relu', padding='valid')(h)\n",
    "    h = Conv1D(64, kernel_size=2, strides=2, activation='relu', padding='valid')(h)\n",
    "    h = Conv1D(128, kernel_size=2, strides=1, activation='relu', padding='valid')(h)\n",
    "    # old layers\n",
    "#     h = Conv2D(1, kernel_size=k, strides=1, activation='relu', padding='valid')(h)\n",
    "#     shape = K.int_shape(h)[1:]\n",
    "#     h = Reshape(shape[0:2])(h) # (reduced_timesteps, notes)\n",
    "#     h = Conv1D(32, kernel_size=2, strides=1, activation='relu', padding='valid')(h)\n",
    "    h = SimpleRNN(128)(h)\n",
    "#     h = LSTM(256)(h)\n",
    "#     h = Bidirectional(LSTM(256)(h))\n",
    "    h_global = h\n",
    "    \n",
    "    h = Reshape((-1,1))(h_global) # h_global h_per_note\n",
    "#     h = Concatenate(axis=1)([h_global, h_per_note])\n",
    "\n",
    "#     h = Reshape((-1,1))(h)\n",
    "    \n",
    "    n_capsules = 10\n",
    "    capsule_dim = 6\n",
    "    n_routings=3\n",
    "    share_weights=True\n",
    "    h = Capsule(n_capsules, capsule_dim, n_routings, share_weights)(h)   \n",
    "    h = Flatten()(h)\n",
    "    \n",
    "    # Z Mean, Variance\n",
    "    z_mean = Dense(latent_dim, name='z_mean')(h) # , activation='relu'\n",
    "    z_log_var = Dense(latent_dim, name='z_log_var')(h) # , activation='relu'\n",
    "        \n",
    "    encoder_output = [z_mean, z_log_var]\n",
    "    encoder_model = Model(encoder_input, encoder_output, name='encoder_model-')\n",
    "    print('Extra params:', [k.count_params() for k in [rnn, reshape, capsule]])\n",
    "\n",
    "    return encoder_model, encoder_input, z_mean, z_log_var"
   ]
  },
  {
   "cell_type": "code",
   "execution_count": 14,
   "metadata": {
    "scrolled": false
   },
   "outputs": [
    {
     "name": "stdout",
     "output_type": "stream",
     "text": [
      "shared weights, shape = (1, 1, 60) 60\n",
      "shared weights, shape = (1, 1, 60) 60\n",
      "Extra params: [32896, 0, 60]\n",
      "__________________________________________________________________________________________________\n",
      "Layer (type)                    Output Shape         Param #     Connected to                     \n",
      "==================================================================================================\n",
      "input_1 (InputLayer)            (None, 40, 9, 1)     0                                            \n",
      "__________________________________________________________________________________________________\n",
      "reshape_3 (Reshape)             (None, 40, 9)        0           input_1[0][0]                    \n",
      "__________________________________________________________________________________________________\n",
      "conv1d_1 (Conv1D)               (None, 39, 32)       608         reshape_3[0][0]                  \n",
      "__________________________________________________________________________________________________\n",
      "conv1d_2 (Conv1D)               (None, 19, 64)       4160        conv1d_1[0][0]                   \n",
      "__________________________________________________________________________________________________\n",
      "conv1d_3 (Conv1D)               (None, 18, 128)      16512       conv1d_2[0][0]                   \n",
      "__________________________________________________________________________________________________\n",
      "simple_rnn_1 (SimpleRNN)        (None, 128)          32896       conv1d_3[0][0]                   \n",
      "__________________________________________________________________________________________________\n",
      "reshape_4 (Reshape)             (None, 128, 1)       0           simple_rnn_1[0][0]               \n",
      "__________________________________________________________________________________________________\n",
      "capsule_2 (Capsule)             (None, 10, 6)        60          reshape_4[0][0]                  \n",
      "__________________________________________________________________________________________________\n",
      "flatten_2 (Flatten)             (None, 60)           0           capsule_2[0][0]                  \n",
      "__________________________________________________________________________________________________\n",
      "z_mean (Dense)                  (None, 100)          6100        flatten_2[0][0]                  \n",
      "__________________________________________________________________________________________________\n",
      "z_log_var (Dense)               (None, 100)          6100        flatten_2[0][0]                  \n",
      "==================================================================================================\n",
      "Total params: 66,436\n",
      "Trainable params: 66,436\n",
      "Non-trainable params: 0\n",
      "__________________________________________________________________________________________________\n"
     ]
    }
   ],
   "source": [
    "encoder_model, encoder_input, z_mean, z_log_var = encoder(input_shape)\n",
    "encoder_model.summary()"
   ]
  },
  {
   "cell_type": "code",
   "execution_count": 15,
   "metadata": {},
   "outputs": [],
   "source": [
    "sample_ = lambda args: models.sample(args, z_mean, z_log_var, latent_dim, epsilon_std)"
   ]
  },
  {
   "cell_type": "code",
   "execution_count": 16,
   "metadata": {},
   "outputs": [],
   "source": [
    "# z = Lambda(sampling)([z_mean, z_log_var])\n",
    "z_input = encoder_model(encoder_input)\n",
    "z_output = Lambda(sample_)(z_input)\n",
    "# z_output = Lambda(sampl_, output_shape=(latent_dim,))(encoder_input)"
   ]
  },
  {
   "cell_type": "code",
   "execution_count": 17,
   "metadata": {},
   "outputs": [],
   "source": [
    "def list_decoders(output_shape):\n",
    "    # decoder_input = z_output\n",
    "    # h = decoder_input\n",
    "    # :output_shape = (timesteps, channels, channels) || (batches, filters, timesteps, channels)\n",
    "    # keras offers just Conv2DTranspose and not Conv1DTranspose\n",
    "    # - use 2D images during upsampling :: (timesteps, notes, channels) => (timesteps, notes, filters)\n",
    "    # - use 1D images to optimize reconstruction :: (timesteps, filters) => (timesteps, notes)\n",
    "    \n",
    "    # image_data_format = 'channels_last'\n",
    "    # goal shape: (timesteps, notes, channels)\n",
    "    # start with the 'reverse': lots of small imgs => few large img\n",
    "    \n",
    "    timesteps, notes, channels = output_shape\n",
    "    filters = 64\n",
    "    output_shape = (14, 14, filters)\n",
    "    output_shape = (timesteps, notes, 1)\n",
    "    \n",
    "    # keras.examples.variational_autoencoder_deconv.py\n",
    "    decoders = []\n",
    "    decoders += [ Dense(256) ]\n",
    "    decoders += [ LeakyReLU(alpha=0.3) ]\n",
    "    \n",
    "    # add a bypass layer\n",
    "    w = 256\n",
    "    decoders += [ Dense(w, activation='relu') ]\n",
    "    extra_decoders = []\n",
    "    for _ in range(3):\n",
    "        extra_decoders += [ Dense(w, activation='elu', bias_initializer='zeros') ]\n",
    "\n",
    "    extra_d = Lambda(lambda layer: utils.composition(extra_decoders, layer))\n",
    "    decoders += [ Lambda(lambda layer: Add()([layer, extra_d(layer)])) ]\n",
    "    \n",
    "    decoders += [ BatchNormalization(momentum=0.5) ]\n",
    "\n",
    "    \n",
    "    # Shared Layers (Conductor)\n",
    "    \n",
    "    # +1 is used to produce an extra input for the first embedding-decoder    \n",
    "    dim1, dim2, filters = 4+1, int(timesteps/4), notes*4\n",
    "    print('dim1: %i dim2: %i filters: %i' % (dim1, dim2, filters))\n",
    "    decoders += [ Dense(dim1*dim2, activation='tanh', name='conductor') ] # stddev = 0.001 in musicVAE\n",
    "    decoders += [ BatchNormalization(momentum=0.3) ]\n",
    "    \n",
    "    decoders += [ Reshape((dim1, dim2, 1)) ]\n",
    "    # TODO CudnnLSTM to run on gpu\n",
    "    conductor_lstm = LSTM(filters, return_sequences=True) # dropout = ..\n",
    "    # multiple small lstm's over a single enourmous one\n",
    "    decoders += [ TimeDistributed(conductor_lstm) ]\n",
    "    \n",
    "#     decoders += [ BatchNormalization(momentum=0.3) ]\n",
    "\n",
    "    \n",
    "    # Shared Decoders\n",
    "    \n",
    "    # The first 2 embeddings are fed into embedding_decoder1 (TODO + gen. initial state?)\n",
    "    # The next decoders get the i-th embedding + the (i-1)-th embedding\n",
    "    \n",
    "#     decoders += [ Reshape((dim1, dim2, filters)) ]\n",
    "    decoders += [ Reshape((dim1, dim2*filters), name='embeddings') ]\n",
    "    w = 100 # filters\n",
    "#     decoders += [ TimeDistributed(Dense(w, activation='tanh'))]\n",
    "    \n",
    "    dim1 -= 1\n",
    "    embedding_selectors = []\n",
    "    for i in range(dim1):\n",
    "        # Keep 2 embeddings per layer\n",
    "        # Note that the second index is right-oriented (css style)\n",
    "        j = dim1 - i - 1\n",
    "        print(dim1, i, j)        \n",
    "        # shape = (2, dim2*filters)\n",
    "        embedding_selectors += [ Cropping1D((i,j)) ]\n",
    "    print(len(embedding_selectors))\n",
    "    print('dim1: %i' % dim1, [(i,i+2) for i in range(dim1-1)])\n",
    "    \n",
    "    # reshape: [x1,x2] -> [ concat[x1,x1] ] :: (2,x) -> (1, 2*x)\n",
    "    # reshape_e = Reshape((1, 2*dim2*filters))\n",
    "    reshape_e = Reshape((1, 2*dim2, filters))\n",
    "\n",
    "    \n",
    "    # \\layer -> map (\\f -> f layer) [f1, f2, f3]\n",
    "    split_embeddings = Lambda(lambda layer: list(map(lambda f: reshape_e(f(layer)), embedding_selectors)))\n",
    "    decoders += [ split_embeddings ]\n",
    "    decoders += [ Concatenate(axis=1) ]\n",
    "    \n",
    "    decoders += [ BatchNormalization(axis=1, momentum=0.3) ] # TODO\n",
    "\n",
    "    \n",
    "    # For every embedding tuple (previous, current)\n",
    "    #  put the samples respectively in the RNN\n",
    "    #  then keep the second half of the sequences\n",
    "    # input_shape = dim1 x (1,2*dim2*filters)\n",
    "    # TODO CudnnLSTM to run on gpu\n",
    "    lstm1 = LSTM(100, return_sequences=True)\n",
    "    crop = Cropping1D((dim2,0))\n",
    "    # lstm2(100, return_sequences=True)\n",
    "    embedding_decoder = Lambda(lambda layer: crop(lstm1((layer))))\n",
    "    decoders += [ TimeDistributed(embedding_decoder) ]\n",
    "    # TODO ? instead of weird embedding-splitting, reuse the initial state of the previous lstm\n",
    "\n",
    "    decoders += [ Reshape((dim1*dim2, 100)) ]\n",
    "    decoders += [ TimeDistributed(Dense(notes, activation='sigmoid')) ]\n",
    "    decoders += [ Reshape((timesteps, notes, 1)) ]\n",
    "\n",
    "\n",
    "    \n",
    "    return decoders, (split_embeddings,)"
   ]
  },
  {
   "cell_type": "code",
   "execution_count": 18,
   "metadata": {},
   "outputs": [
    {
     "name": "stdout",
     "output_type": "stream",
     "text": [
      "dim1: 5 dim2: 10 filters: 36\n",
      "4 0 3\n",
      "4 1 2\n",
      "4 2 1\n",
      "4 3 0\n",
      "4\n",
      "dim1: 4 [(0, 2), (1, 3), (2, 4)]\n"
     ]
    }
   ],
   "source": [
    "decoders, layers = list_decoders(input_shape)"
   ]
  },
  {
   "cell_type": "code",
   "execution_count": 19,
   "metadata": {},
   "outputs": [],
   "source": [
    "decoded = utils.composition(decoders, z_output, verbose=False)\n",
    "layer1, = layers"
   ]
  },
  {
   "cell_type": "code",
   "execution_count": 20,
   "metadata": {},
   "outputs": [
    {
     "data": {
      "text/plain": [
       "[<tf.Tensor 'lambda_6/reshape_6/Reshape:0' shape=(?, 1, 20, 36) dtype=float32>,\n",
       " <tf.Tensor 'lambda_6/reshape_6_1/Reshape:0' shape=(?, 1, 20, 36) dtype=float32>,\n",
       " <tf.Tensor 'lambda_6/reshape_6_2/Reshape:0' shape=(?, 1, 20, 36) dtype=float32>,\n",
       " <tf.Tensor 'lambda_6/reshape_6_3/Reshape:0' shape=(?, 1, 20, 36) dtype=float32>]"
      ]
     },
     "execution_count": 20,
     "metadata": {},
     "output_type": "execute_result"
    }
   ],
   "source": [
    "layer1.output"
   ]
  },
  {
   "cell_type": "code",
   "execution_count": 21,
   "metadata": {},
   "outputs": [
    {
     "name": "stdout",
     "output_type": "stream",
     "text": [
      "__________________________________________________________________________________________________\n",
      "Layer (type)                    Output Shape         Param #     Connected to                     \n",
      "==================================================================================================\n",
      "input_1 (InputLayer)            (None, 40, 9, 1)     0                                            \n",
      "__________________________________________________________________________________________________\n",
      "encoder_model- (Model)          [(None, 100), (None, 66436       input_1[0][0]                    \n",
      "__________________________________________________________________________________________________\n",
      "lambda_3 (Lambda)               (None, 100)          0           encoder_model-[1][0]             \n",
      "                                                                 encoder_model-[1][1]             \n",
      "__________________________________________________________________________________________________\n",
      "dense_1 (Dense)                 (None, 256)          25856       lambda_3[0][0]                   \n",
      "__________________________________________________________________________________________________\n",
      "leaky_re_lu_1 (LeakyReLU)       (None, 256)          0           dense_1[0][0]                    \n",
      "__________________________________________________________________________________________________\n",
      "dense_2 (Dense)                 (None, 256)          65792       leaky_re_lu_1[0][0]              \n",
      "__________________________________________________________________________________________________\n",
      "lambda_5 (Lambda)               (None, 256)          0           dense_2[0][0]                    \n",
      "__________________________________________________________________________________________________\n",
      "batch_normalization_1 (BatchNor (None, 256)          1024        lambda_5[0][0]                   \n",
      "__________________________________________________________________________________________________\n",
      "conductor (Dense)               (None, 50)           12850       batch_normalization_1[0][0]      \n",
      "__________________________________________________________________________________________________\n",
      "batch_normalization_2 (BatchNor (None, 50)           200         conductor[0][0]                  \n",
      "__________________________________________________________________________________________________\n",
      "reshape_5 (Reshape)             (None, 5, 10, 1)     0           batch_normalization_2[0][0]      \n",
      "__________________________________________________________________________________________________\n",
      "time_distributed_1 (TimeDistrib (None, 5, 10, 36)    5472        reshape_5[0][0]                  \n",
      "__________________________________________________________________________________________________\n",
      "embeddings (Reshape)            (None, 5, 360)       0           time_distributed_1[0][0]         \n",
      "__________________________________________________________________________________________________\n",
      "lambda_6 (Lambda)               [(None, 1, 20, 36),  0           embeddings[0][0]                 \n",
      "__________________________________________________________________________________________________\n",
      "concatenate_1 (Concatenate)     (None, 4, 20, 36)    0           lambda_6[0][0]                   \n",
      "                                                                 lambda_6[0][1]                   \n",
      "                                                                 lambda_6[0][2]                   \n",
      "                                                                 lambda_6[0][3]                   \n",
      "__________________________________________________________________________________________________\n",
      "batch_normalization_3 (BatchNor (None, 4, 20, 36)    16          concatenate_1[0][0]              \n",
      "__________________________________________________________________________________________________\n",
      "time_distributed_2 (TimeDistrib (None, 4, 10, 100)   0           batch_normalization_3[0][0]      \n",
      "__________________________________________________________________________________________________\n",
      "reshape_7 (Reshape)             (None, 40, 100)      0           time_distributed_2[0][0]         \n",
      "__________________________________________________________________________________________________\n",
      "time_distributed_3 (TimeDistrib (None, 40, 9)        909         reshape_7[0][0]                  \n",
      "__________________________________________________________________________________________________\n",
      "reshape_8 (Reshape)             (None, 40, 9, 1)     0           time_distributed_3[0][0]         \n",
      "==================================================================================================\n",
      "Total params: 178,555\n",
      "Trainable params: 177,935\n",
      "Non-trainable params: 620\n",
      "__________________________________________________________________________________________________\n"
     ]
    }
   ],
   "source": [
    "# instantiate VAE model\n",
    "vae_input = encoder_input\n",
    "vae_output = decoded\n",
    "vae = Model(vae_input, vae_output)\n",
    "vae.summary()"
   ]
  },
  {
   "cell_type": "code",
   "execution_count": 22,
   "metadata": {
    "scrolled": true
   },
   "outputs": [
    {
     "name": "stderr",
     "output_type": "stream",
     "text": [
      "/usr/local/lib/python3.6/site-packages/ipykernel_launcher.py:15: UserWarning: Output \"reshape_8\" missing from loss dictionary. We assume this was done on purpose, and we will not be expecting any data to be passed to \"reshape_8\" during training.\n",
      "  from ipykernel import kernelapp as app\n"
     ]
    }
   ],
   "source": [
    "# Compute VAE loss\n",
    "def vae_loss(beta=1.):\n",
    "#     beta = ((1.0 - tf.pow(hparams.beta_rate, tf.to_float(self.global_step)))\n",
    "#             * hparams.max_beta)\n",
    "#     self.loss = tf.reduce_mean(r_loss) + beta * tf.reduce_mean(kl_cost)\n",
    "    # y_true, y_pred, z_mean, z_log_var, timesteps=150, notes=3, beta=1.\n",
    "    xent_loss = timesteps * notes * keras.metrics.binary_crossentropy(K.flatten(vae_input), K.flatten(vae_output))\n",
    "    kl_loss = - 0.5 * K.sum(1 + z_log_var - K.square(z_mean) - K.exp(z_log_var), axis=-1)\n",
    "    # kl_loss = max(kl_loss, free_bits)\n",
    "    vae_loss = K.mean(xent_loss + beta * kl_loss)\n",
    "    return vae_loss\n",
    "\n",
    "vae_loss = vae_loss(beta=0.5)\n",
    "vae.add_loss(vae_loss)\n",
    "vae.compile(optimizer='adam')\n",
    "# vae.compile(optimizer=optimizer, loss=loss, metrics=metrics)"
   ]
  },
  {
   "cell_type": "code",
   "execution_count": 23,
   "metadata": {},
   "outputs": [
    {
     "data": {
      "text/plain": [
       "(None, 100)"
      ]
     },
     "execution_count": 23,
     "metadata": {},
     "output_type": "execute_result"
    }
   ],
   "source": [
    "K.int_shape(z_mean)"
   ]
  },
  {
   "cell_type": "code",
   "execution_count": 24,
   "metadata": {},
   "outputs": [],
   "source": [
    "batch_size = 100 # 512\n",
    "epochs = 100 # 100k / n_batches\n",
    "params = {'batch_size': batch_size, 'return_y': False}"
   ]
  },
  {
   "cell_type": "code",
   "execution_count": 25,
   "metadata": {},
   "outputs": [],
   "source": [
    "phase_mod = 0.01\n",
    "whitening = False"
   ]
  },
  {
   "cell_type": "code",
   "execution_count": 26,
   "metadata": {
    "scrolled": true
   },
   "outputs": [
    {
     "name": "stdout",
     "output_type": "stream",
     "text": [
      "x: (1000, 40, 9, 1)\n",
      "batch_size = 100\n",
      "\n",
      "[Epoch 0/100] >>>>>>>>>\n",
      " Batch 0/4\n",
      " \\_val_loss [239.0]\n",
      " \\_loss [248.0]\n",
      " Batch 1/4\n",
      " \\_val_loss [228.0]\n",
      " \\_loss [236.0]\n",
      " Batch 2/4\n",
      " \\_val_loss [214.0]\n",
      " \\_loss [223.0]\n",
      " Batch 3/4\n",
      " \\_val_loss [199.0]\n",
      " \\_loss [209.0]\n",
      " Batch 4/4\n",
      " \\_val_loss [185.0]\n",
      " \\_loss [194.0]\n",
      "\n",
      "[Epoch 1/100] >>>>>>>>>\n",
      " Batch 0/4\n",
      " \\_val_loss [169.0]\n",
      " \\_loss [178.0]\n",
      " Batch 1/4\n",
      " \\_val_loss [154.0]\n",
      " \\_loss [162.0]\n",
      " Batch 2/4\n",
      " \\_val_loss [141.0]\n",
      " \\_loss [147.0]\n",
      " Batch 3/4\n",
      " \\_val_loss [131.0]\n",
      " \\_loss [135.0]\n",
      " Batch 4/4\n",
      " \\_val_loss [123.0]\n",
      " \\_loss [124.0]\n",
      "\n",
      "[Epoch 2/100] >>>>>>>>>\n",
      " Batch 0/4\n",
      " \\_val_loss [115.0]\n",
      " \\_loss [115.0]\n",
      " Batch 1/4\n",
      " \\_val_loss [110.0]\n",
      " \\_loss [109.0]\n",
      " Batch 2/4\n",
      " \\_val_loss [105.0]\n",
      " \\_loss [104.0]\n",
      " Batch 3/4\n",
      " \\_val_loss [102.0]\n",
      " \\_loss [98.0]\n",
      " Batch 4/4\n",
      " \\_val_loss [99.0]\n",
      " \\_loss [94.0]\n",
      "\n",
      "[Epoch 3/100] >>>>>>>>>\n",
      " Batch 0/4\n",
      " \\_val_loss [97.0]\n",
      " \\_loss [91.0]\n",
      " Batch 1/4\n",
      " \\_val_loss [95.0]\n",
      " \\_loss [87.0]\n",
      " Batch 2/4\n",
      " \\_val_loss [94.0]\n",
      " \\_loss [86.0]\n",
      " Batch 3/4\n",
      " \\_val_loss [92.0]\n",
      " \\_loss [84.0]\n",
      " Batch 4/4\n",
      " \\_val_loss [91.0]\n",
      " \\_loss [83.0]\n",
      "\n",
      "[Epoch 4/100] >>>>>>>>>\n",
      " Batch 0/4\n",
      " \\_val_loss [90.0]\n",
      " \\_loss [82.0]\n",
      " Batch 1/4\n",
      " \\_val_loss [89.0]\n",
      " \\_loss [80.0]\n",
      " Batch 2/4\n",
      " \\_val_loss [88.0]\n",
      " \\_loss [79.0]\n",
      " Batch 3/4\n",
      " \\_val_loss [88.0]\n",
      " \\_loss [79.0]\n",
      " Batch 4/4\n",
      " \\_val_loss [87.0]\n",
      " \\_loss [78.0]\n",
      "\n",
      "[Epoch 5/100] >>>>>>>>>\n",
      " Batch 0/4\n",
      " \\_val_loss [87.0]\n",
      " \\_loss [78.0]\n",
      " Batch 1/4\n",
      " \\_val_loss [87.0]\n",
      " \\_loss [75.0]\n",
      " Batch 2/4\n",
      " \\_val_loss [86.0]\n",
      " \\_loss [76.0]\n",
      " Batch 3/4\n",
      " \\_val_loss [86.0]\n",
      " \\_loss [76.0]\n",
      " Batch 4/4\n",
      " \\_val_loss [86.0]\n",
      " \\_loss [74.0]\n",
      "\n",
      "[Epoch 6/100] >>>>>>>>>\n",
      " Batch 0/4\n",
      " \\_val_loss [85.0]\n",
      " \\_loss [73.0]\n",
      " Batch 1/4\n",
      " \\_val_loss [85.0]\n",
      " \\_loss [75.0]\n",
      " Batch 2/4\n",
      " \\_val_loss [85.0]\n",
      " \\_loss [72.0]\n",
      " Batch 3/4\n",
      " \\_val_loss [84.0]\n",
      " \\_loss [75.0]\n",
      " Batch 4/4\n",
      " \\_val_loss [84.0]\n",
      " \\_loss [74.0]\n",
      "\n",
      "[Epoch 7/100] >>>>>>>>>\n",
      " Batch 0/4\n",
      " \\_val_loss [84.0]\n",
      " \\_loss [72.0]\n",
      " Batch 1/4\n",
      " \\_val_loss [83.0]\n",
      " \\_loss [74.0]\n",
      " Batch 2/4\n",
      " \\_val_loss [83.0]\n",
      " \\_loss [71.0]\n",
      " Batch 3/4\n",
      " \\_val_loss [83.0]\n",
      " \\_loss [73.0]\n",
      " Batch 4/4\n",
      " \\_val_loss [83.0]\n",
      " \\_loss [71.0]\n",
      "\n",
      "[Epoch 8/100] >>>>>>>>>\n",
      " Batch 0/4\n",
      " \\_val_loss [83.0]\n",
      " \\_loss [71.0]\n",
      " Batch 1/4\n",
      " \\_val_loss [83.0]\n",
      " \\_loss [72.0]\n",
      " Batch 2/4\n",
      " \\_val_loss [83.0]\n",
      " \\_loss [71.0]\n",
      " Batch 3/4\n",
      " \\_val_loss [83.0]\n",
      " \\_loss [70.0]\n",
      " Batch 4/4\n",
      " \\_val_loss [83.0]\n",
      " \\_loss [72.0]\n",
      "\n",
      "[Epoch 9/100] >>>>>>>>>\n",
      " Batch 0/4\n",
      " \\_val_loss [82.0]\n",
      " \\_loss [71.0]\n",
      " Batch 1/4\n",
      " \\_val_loss [82.0]\n",
      " \\_loss [71.0]\n",
      " Batch 2/4\n",
      " \\_val_loss [82.0]\n",
      " \\_loss [73.0]\n",
      " Batch 3/4\n",
      " \\_val_loss [82.0]\n",
      " \\_loss [70.0]\n",
      " Batch 4/4\n",
      " \\_val_loss [82.0]\n",
      " \\_loss [70.0]\n",
      "\n",
      "[Epoch 10/100] >>>>>>>>>\n",
      " Batch 0/4\n",
      " \\_val_loss [82.0]\n",
      " \\_loss [71.0]\n",
      " Batch 1/4\n",
      " \\_val_loss [82.0]\n",
      " \\_loss [70.0]\n",
      " Batch 2/4\n",
      " \\_val_loss [81.0]\n",
      " \\_loss [71.0]\n",
      " Batch 3/4\n",
      " \\_val_loss [81.0]\n",
      " \\_loss [71.0]\n",
      " Batch 4/4\n",
      " \\_val_loss [81.0]\n",
      " \\_loss [70.0]\n",
      "\n",
      "[Epoch 11/100] >>>>>>>>>\n",
      " Batch 0/4\n",
      " \\_val_loss [81.0]\n",
      " \\_loss [70.0]\n",
      " Batch 1/4\n",
      " \\_val_loss [81.0]\n",
      " \\_loss [70.0]\n",
      " Batch 2/4\n",
      " \\_val_loss [81.0]\n",
      " \\_loss [69.0]\n",
      " Batch 3/4\n",
      " \\_val_loss [81.0]\n",
      " \\_loss [70.0]\n",
      " Batch 4/4\n",
      " \\_val_loss [81.0]\n",
      " \\_loss [71.0]\n",
      "\n",
      "[Epoch 12/100] >>>>>>>>>\n",
      " Batch 0/4\n",
      " \\_val_loss [81.0]\n",
      " \\_loss [69.0]\n",
      " Batch 1/4\n",
      " \\_val_loss [81.0]\n",
      " \\_loss [70.0]\n",
      " Batch 2/4\n",
      " \\_val_loss [81.0]\n",
      " \\_loss [71.0]\n",
      " Batch 3/4\n",
      " \\_val_loss [80.0]\n",
      " \\_loss [69.0]\n",
      " Batch 4/4\n",
      " \\_val_loss [80.0]\n",
      " \\_loss [71.0]\n",
      "\n",
      "[Epoch 13/100] >>>>>>>>>\n",
      " Batch 0/4\n",
      " \\_val_loss [80.0]\n",
      " \\_loss [70.0]\n",
      " Batch 1/4\n",
      " \\_val_loss [80.0]\n",
      " \\_loss [70.0]\n",
      " Batch 2/4\n",
      " \\_val_loss [80.0]\n",
      " \\_loss [67.0]\n",
      " Batch 3/4\n",
      " \\_val_loss [81.0]\n",
      " \\_loss [69.0]\n",
      " Batch 4/4\n",
      " \\_val_loss [81.0]\n",
      " \\_loss [69.0]\n",
      "\n",
      "[Epoch 14/100] >>>>>>>>>\n",
      " Batch 0/4\n",
      " \\_val_loss [80.0]\n",
      " \\_loss [69.0]\n",
      " Batch 1/4\n",
      " \\_val_loss [80.0]\n",
      " \\_loss [69.0]\n",
      " Batch 2/4\n",
      " \\_val_loss [81.0]\n",
      " \\_loss [69.0]\n",
      " Batch 3/4\n",
      " \\_val_loss [80.0]\n",
      " \\_loss [69.0]\n",
      " Batch 4/4\n",
      " \\_val_loss [80.0]\n",
      " \\_loss [70.0]\n",
      "\n",
      "[Epoch 15/100] >>>>>>>>>\n",
      " Batch 0/4\n",
      " \\_val_loss [80.0]\n",
      " \\_loss [68.0]\n",
      " Batch 1/4\n",
      " \\_val_loss [80.0]\n",
      " \\_loss [70.0]\n",
      " Batch 2/4\n",
      " \\_val_loss [80.0]\n",
      " \\_loss [68.0]\n",
      " Batch 3/4\n",
      " \\_val_loss [80.0]\n",
      " \\_loss [69.0]\n",
      " Batch 4/4\n",
      " \\_val_loss [79.0]\n",
      " \\_loss [68.0]\n",
      "\n",
      "[Epoch 16/100] >>>>>>>>>\n",
      " Batch 0/4\n",
      " \\_val_loss [79.0]\n",
      " \\_loss [68.0]\n",
      " Batch 1/4\n",
      " \\_val_loss [80.0]\n",
      " \\_loss [67.0]\n",
      " Batch 2/4\n",
      " \\_val_loss [79.0]\n",
      " \\_loss [68.0]\n",
      " Batch 3/4\n",
      " \\_val_loss [79.0]\n",
      " \\_loss [68.0]\n",
      " Batch 4/4\n",
      " \\_val_loss [79.0]\n",
      " \\_loss [68.0]\n",
      "\n",
      "[Epoch 17/100] >>>>>>>>>\n",
      " Batch 0/4\n",
      " \\_val_loss [80.0]\n",
      " \\_loss [68.0]\n",
      " Batch 1/4\n",
      " \\_val_loss [79.0]\n",
      " \\_loss [69.0]\n",
      " Batch 2/4\n",
      " \\_val_loss [79.0]\n",
      " \\_loss [65.0]\n",
      " Batch 3/4\n",
      " \\_val_loss [79.0]\n",
      " \\_loss [67.0]\n",
      " Batch 4/4\n",
      " \\_val_loss [80.0]\n",
      " \\_loss [68.0]\n",
      "\n",
      "[Epoch 18/100] >>>>>>>>>\n",
      " Batch 0/4\n",
      " \\_val_loss [79.0]\n",
      " \\_loss [66.0]\n",
      " Batch 1/4\n",
      " \\_val_loss [79.0]\n",
      " \\_loss [68.0]\n",
      " Batch 2/4\n",
      " \\_val_loss [80.0]\n",
      " \\_loss [65.0]\n",
      " Batch 3/4\n",
      " \\_val_loss [79.0]\n",
      " \\_loss [67.0]\n",
      " Batch 4/4\n",
      " \\_val_loss [79.0]\n",
      " \\_loss [67.0]\n",
      "\n",
      "[Epoch 19/100] >>>>>>>>>\n",
      " Batch 0/4\n",
      " \\_val_loss [79.0]\n",
      " \\_loss [66.0]\n",
      " Batch 1/4\n",
      " \\_val_loss [79.0]\n",
      " \\_loss [67.0]\n",
      " Batch 2/4\n",
      " \\_val_loss [79.0]\n",
      " \\_loss [66.0]\n",
      " Batch 3/4\n",
      " \\_val_loss [79.0]\n",
      " \\_loss [66.0]\n",
      " Batch 4/4\n",
      " \\_val_loss [79.0]\n",
      " \\_loss [65.0]\n",
      "\n",
      "[Epoch 20/100] >>>>>>>>>\n",
      " Batch 0/4\n",
      " \\_val_loss [79.0]\n",
      " \\_loss [65.0]\n",
      " Batch 1/4\n",
      " \\_val_loss [79.0]\n",
      " \\_loss [65.0]\n",
      " Batch 2/4\n",
      " \\_val_loss [80.0]\n",
      " \\_loss [63.0]\n",
      " Batch 3/4\n",
      " \\_val_loss [80.0]\n",
      " \\_loss [63.0]\n",
      " Batch 4/4\n",
      " \\_val_loss [80.0]\n",
      " \\_loss [65.0]\n",
      "\n",
      "[Epoch 21/100] >>>>>>>>>\n",
      " Batch 0/4\n",
      " \\_val_loss [80.0]\n",
      " \\_loss [65.0]\n",
      " Batch 1/4\n",
      " \\_val_loss [80.0]\n",
      " \\_loss [65.0]\n",
      " Batch 2/4\n",
      " \\_val_loss [79.0]\n",
      " \\_loss [64.0]\n",
      " Batch 3/4\n",
      " \\_val_loss [80.0]\n",
      " \\_loss [65.0]\n",
      " Batch 4/4\n",
      " \\_val_loss [79.0]\n",
      " \\_loss [63.0]\n",
      "\n",
      "[Epoch 22/100] >>>>>>>>>\n",
      " Batch 0/4\n",
      " \\_val_loss [79.0]\n",
      " \\_loss [66.0]\n",
      " Batch 1/4\n",
      " \\_val_loss [80.0]\n",
      " \\_loss [65.0]\n",
      " Batch 2/4\n",
      " \\_val_loss [79.0]\n",
      " \\_loss [64.0]\n",
      " Batch 3/4\n",
      " \\_val_loss [79.0]\n",
      " \\_loss [66.0]\n",
      " Batch 4/4\n",
      " \\_val_loss [79.0]\n",
      " \\_loss [64.0]\n",
      "\n",
      "[Epoch 23/100] >>>>>>>>>\n",
      " Batch 0/4\n",
      " \\_val_loss [80.0]\n",
      " \\_loss [65.0]\n",
      " Batch 1/4\n",
      " \\_val_loss [80.0]\n",
      " \\_loss [65.0]\n",
      " Batch 2/4\n",
      " \\_val_loss [82.0]\n",
      " \\_loss [64.0]\n",
      " Batch 3/4\n",
      " \\_val_loss [79.0]\n",
      " \\_loss [65.0]\n",
      " Batch 4/4\n",
      " \\_val_loss [78.0]\n",
      " \\_loss [64.0]\n",
      "\n",
      "[Epoch 24/100] >>>>>>>>>\n",
      " Batch 0/4\n",
      " \\_val_loss [79.0]\n",
      " \\_loss [64.0]\n",
      " Batch 1/4\n",
      " \\_val_loss [79.0]\n",
      " \\_loss [63.0]\n",
      " Batch 2/4\n",
      " \\_val_loss [80.0]\n",
      " \\_loss [63.0]\n",
      " Batch 3/4\n",
      " \\_val_loss [79.0]\n",
      " \\_loss [63.0]\n",
      " Batch 4/4\n",
      " \\_val_loss [79.0]\n",
      " \\_loss [63.0]\n",
      "\n",
      "[Epoch 25/100] >>>>>>>>>\n",
      " Batch 0/4\n",
      " \\_val_loss [80.0]\n",
      " \\_loss [63.0]\n",
      " Batch 1/4\n",
      " \\_val_loss [80.0]\n",
      " \\_loss [62.0]\n",
      " Batch 2/4\n",
      " \\_val_loss [79.0]\n",
      " \\_loss [64.0]\n",
      " Batch 3/4\n",
      " \\_val_loss [78.0]\n",
      " \\_loss [64.0]\n",
      " Batch 4/4\n",
      " \\_val_loss [79.0]\n",
      " \\_loss [63.0]\n",
      "\n",
      "[Epoch 26/100] >>>>>>>>>\n",
      " Batch 0/4\n",
      " \\_val_loss [79.0]\n",
      " \\_loss [64.0]\n",
      " Batch 1/4\n",
      " \\_val_loss [79.0]\n",
      " \\_loss [64.0]\n",
      " Batch 2/4\n",
      " \\_val_loss [79.0]\n",
      " \\_loss [61.0]\n",
      " Batch 3/4\n",
      " \\_val_loss [79.0]\n",
      " \\_loss [62.0]\n",
      " Batch 4/4\n",
      " \\_val_loss [79.0]\n",
      " \\_loss [62.0]\n",
      "\n",
      "[Epoch 27/100] >>>>>>>>>\n",
      " Batch 0/4\n",
      " \\_val_loss [79.0]\n",
      " \\_loss [63.0]\n",
      " Batch 1/4\n",
      " \\_val_loss [79.0]\n",
      " \\_loss [63.0]\n",
      " Batch 2/4\n",
      " \\_val_loss [78.0]\n",
      " \\_loss [62.0]\n",
      " Batch 3/4\n",
      " \\_val_loss [80.0]\n",
      " \\_loss [63.0]\n",
      " Batch 4/4\n",
      " \\_val_loss [81.0]\n",
      " \\_loss [62.0]\n",
      "\n",
      "[Epoch 28/100] >>>>>>>>>\n",
      " Batch 0/4\n",
      " \\_val_loss [80.0]\n",
      " \\_loss [62.0]\n",
      " Batch 1/4\n",
      " \\_val_loss [79.0]\n",
      " \\_loss [64.0]\n",
      " Batch 2/4\n",
      " \\_val_loss [79.0]\n",
      " \\_loss [61.0]\n",
      " Batch 3/4\n",
      " \\_val_loss [80.0]\n",
      " \\_loss [61.0]\n",
      " Batch 4/4\n",
      " \\_val_loss [80.0]\n",
      " \\_loss [62.0]\n",
      "\n",
      "[Epoch 29/100] >>>>>>>>>\n",
      " Batch 0/4\n",
      " \\_val_loss [80.0]\n",
      " \\_loss [62.0]\n",
      " Batch 1/4\n",
      " \\_val_loss [80.0]\n",
      " \\_loss [60.0]\n",
      " Batch 2/4\n",
      " \\_val_loss [80.0]\n",
      " \\_loss [62.0]\n",
      " Batch 3/4\n",
      " \\_val_loss [79.0]\n",
      " \\_loss [62.0]\n",
      " Batch 4/4\n",
      " \\_val_loss [79.0]\n",
      " \\_loss [60.0]\n",
      "\n",
      "[Epoch 30/100] >>>>>>>>>\n",
      " Batch 0/4\n",
      " \\_val_loss [79.0]\n",
      " \\_loss [60.0]\n",
      " Batch 1/4\n",
      " \\_val_loss [79.0]\n",
      " \\_loss [60.0]\n",
      " Batch 2/4\n",
      " \\_val_loss [79.0]\n",
      " \\_loss [63.0]\n",
      " Batch 3/4\n",
      " \\_val_loss [79.0]\n",
      " \\_loss [62.0]\n",
      " Batch 4/4\n",
      " \\_val_loss [79.0]\n",
      " \\_loss [61.0]\n",
      "\n",
      "[Epoch 31/100] >>>>>>>>>\n",
      " Batch 0/4\n",
      " \\_val_loss [80.0]\n",
      " \\_loss [60.0]\n",
      " Batch 1/4\n",
      " \\_val_loss [79.0]\n",
      " \\_loss [61.0]\n",
      " Batch 2/4\n",
      " \\_val_loss [79.0]\n",
      " \\_loss [60.0]\n",
      " Batch 3/4\n",
      " \\_val_loss [78.0]\n",
      " \\_loss [61.0]\n",
      " Batch 4/4\n",
      " \\_val_loss [78.0]\n",
      " \\_loss [60.0]\n",
      "\n",
      "[Epoch 32/100] >>>>>>>>>\n",
      " Batch 0/4\n",
      " \\_val_loss [79.0]\n",
      " \\_loss [61.0]\n",
      " Batch 1/4\n",
      " \\_val_loss [78.0]\n",
      " \\_loss [60.0]\n",
      " Batch 2/4\n"
     ]
    },
    {
     "name": "stdout",
     "output_type": "stream",
     "text": [
      " \\_val_loss [79.0]\n",
      " \\_loss [59.0]\n",
      " Batch 3/4\n",
      " \\_val_loss [80.0]\n",
      " \\_loss [60.0]\n",
      " Batch 4/4\n",
      " \\_val_loss [80.0]\n",
      " \\_loss [59.0]\n",
      "\n",
      "[Epoch 33/100] >>>>>>>>>\n",
      " Batch 0/4\n",
      " \\_val_loss [79.0]\n",
      " \\_loss [58.0]\n",
      " Batch 1/4\n",
      " \\_val_loss [80.0]\n",
      " \\_loss [59.0]\n",
      " Batch 2/4\n",
      " \\_val_loss [80.0]\n",
      " \\_loss [60.0]\n",
      " Batch 3/4\n",
      " \\_val_loss [80.0]\n",
      " \\_loss [60.0]\n",
      " Batch 4/4\n",
      " \\_val_loss [81.0]\n",
      " \\_loss [62.0]\n",
      "\n",
      "[Epoch 34/100] >>>>>>>>>\n",
      " Batch 0/4\n",
      " \\_val_loss [79.0]\n",
      " \\_loss [59.0]\n",
      " Batch 1/4\n",
      " \\_val_loss [80.0]\n",
      " \\_loss [59.0]\n",
      " Batch 2/4\n",
      " \\_val_loss [79.0]\n",
      " \\_loss [60.0]\n",
      " Batch 3/4\n",
      " \\_val_loss [79.0]\n",
      " \\_loss [60.0]\n",
      " Batch 4/4\n",
      " \\_val_loss [79.0]\n",
      " \\_loss [60.0]\n",
      "\n",
      "[Epoch 35/100] >>>>>>>>>\n",
      " Batch 0/4\n",
      " \\_val_loss [79.0]\n",
      " \\_loss [59.0]\n",
      " Batch 1/4\n",
      " \\_val_loss [83.0]\n",
      " \\_loss [59.0]\n",
      " Batch 2/4\n",
      " \\_val_loss [80.0]\n",
      " \\_loss [59.0]\n",
      " Batch 3/4\n",
      " \\_val_loss [80.0]\n",
      " \\_loss [57.0]\n",
      " Batch 4/4\n",
      " \\_val_loss [80.0]\n",
      " \\_loss [60.0]\n",
      "\n",
      "[Epoch 36/100] >>>>>>>>>\n",
      " Batch 0/4\n",
      " \\_val_loss [79.0]\n",
      " \\_loss [57.0]\n",
      " Batch 1/4\n",
      " \\_val_loss [79.0]\n",
      " \\_loss [57.0]\n",
      " Batch 2/4\n",
      " \\_val_loss [79.0]\n",
      " \\_loss [59.0]\n",
      " Batch 3/4\n",
      " \\_val_loss [79.0]\n",
      " \\_loss [56.0]\n",
      " Batch 4/4\n",
      " \\_val_loss [79.0]\n",
      " \\_loss [59.0]\n",
      "\n",
      "[Epoch 37/100] >>>>>>>>>\n",
      " Batch 0/4\n",
      " \\_val_loss [81.0]\n",
      " \\_loss [57.0]\n",
      " Batch 1/4\n",
      " \\_val_loss [79.0]\n",
      " \\_loss [58.0]\n",
      " Batch 2/4\n",
      " \\_val_loss [78.0]\n",
      " \\_loss [57.0]\n",
      " Batch 3/4\n",
      " \\_val_loss [79.0]\n",
      " \\_loss [57.0]\n",
      " Batch 4/4\n",
      " \\_val_loss [79.0]\n",
      " \\_loss [56.0]\n",
      "\n",
      "[Epoch 38/100] >>>>>>>>>\n",
      " Batch 0/4\n",
      " \\_val_loss [78.0]\n",
      " \\_loss [55.0]\n",
      " Batch 1/4\n",
      " \\_val_loss [81.0]\n",
      " \\_loss [56.0]\n",
      " Batch 2/4\n",
      " \\_val_loss [80.0]\n",
      " \\_loss [56.0]\n",
      " Batch 3/4\n",
      " \\_val_loss [81.0]\n",
      " \\_loss [57.0]\n",
      " Batch 4/4\n",
      " \\_val_loss [79.0]\n",
      " \\_loss [56.0]\n",
      "\n",
      "[Epoch 39/100] >>>>>>>>>\n",
      " Batch 0/4\n",
      " \\_val_loss [79.0]\n",
      " \\_loss [56.0]\n",
      " Batch 1/4\n",
      " \\_val_loss [81.0]\n",
      " \\_loss [56.0]\n",
      " Batch 2/4\n",
      " \\_val_loss [82.0]\n",
      " \\_loss [57.0]\n",
      " Batch 3/4\n",
      " \\_val_loss [80.0]\n",
      " \\_loss [56.0]\n",
      " Batch 4/4\n",
      " \\_val_loss [81.0]\n",
      " \\_loss [57.0]\n",
      "\n",
      "[Epoch 40/100] >>>>>>>>>\n",
      " Batch 0/4\n",
      " \\_val_loss [79.0]\n",
      " \\_loss [56.0]\n",
      " Batch 1/4\n",
      " \\_val_loss [81.0]\n",
      " \\_loss [57.0]\n",
      " Batch 2/4\n",
      " \\_val_loss [83.0]\n",
      " \\_loss [56.0]\n",
      " Batch 3/4\n",
      " \\_val_loss [80.0]\n",
      " \\_loss [55.0]\n",
      " Batch 4/4\n",
      " \\_val_loss [81.0]\n",
      " \\_loss [55.0]\n",
      "\n",
      "[Epoch 41/100] >>>>>>>>>\n",
      " Batch 0/4\n",
      " \\_val_loss [80.0]\n",
      " \\_loss [56.0]\n",
      " Batch 1/4\n",
      " \\_val_loss [79.0]\n",
      " \\_loss [55.0]\n",
      " Batch 2/4\n",
      " \\_val_loss [79.0]\n",
      " \\_loss [55.0]\n",
      " Batch 3/4\n",
      " \\_val_loss [79.0]\n",
      " \\_loss [55.0]\n",
      " Batch 4/4\n",
      " \\_val_loss [79.0]\n",
      " \\_loss [56.0]\n",
      "\n",
      "[Epoch 42/100] >>>>>>>>>\n",
      " Batch 0/4\n",
      " \\_val_loss [79.0]\n",
      " \\_loss [55.0]\n",
      " Batch 1/4\n",
      " \\_val_loss [80.0]\n",
      " \\_loss [55.0]\n",
      " Batch 2/4\n",
      " \\_val_loss [80.0]\n",
      " \\_loss [54.0]\n",
      " Batch 3/4\n",
      " \\_val_loss [80.0]\n",
      " \\_loss [55.0]\n",
      " Batch 4/4\n",
      " \\_val_loss [82.0]\n",
      " \\_loss [56.0]\n",
      "\n",
      "[Epoch 43/100] >>>>>>>>>\n",
      " Batch 0/4\n",
      " \\_val_loss [80.0]\n",
      " \\_loss [55.0]\n",
      " Batch 1/4\n",
      " \\_val_loss [80.0]\n",
      " \\_loss [55.0]\n",
      " Batch 2/4\n",
      " \\_val_loss [80.0]\n",
      " \\_loss [54.0]\n",
      " Batch 3/4\n",
      " \\_val_loss [81.0]\n",
      " \\_loss [55.0]\n",
      " Batch 4/4\n",
      " \\_val_loss [81.0]\n",
      " \\_loss [56.0]\n",
      "\n",
      "[Epoch 44/100] >>>>>>>>>\n",
      " Batch 0/4\n",
      " \\_val_loss [80.0]\n",
      " \\_loss [54.0]\n",
      " Batch 1/4\n",
      " \\_val_loss [79.0]\n",
      " \\_loss [54.0]\n",
      " Batch 2/4\n",
      " \\_val_loss [80.0]\n",
      " \\_loss [53.0]\n",
      " Batch 3/4\n",
      " \\_val_loss [81.0]\n",
      " \\_loss [56.0]\n",
      " Batch 4/4\n",
      " \\_val_loss [82.0]\n",
      " \\_loss [56.0]\n",
      "\n",
      "[Epoch 45/100] >>>>>>>>>\n",
      " Batch 0/4\n",
      " \\_val_loss [79.0]\n",
      " \\_loss [53.0]\n",
      " Batch 1/4\n",
      " \\_val_loss [80.0]\n",
      " \\_loss [53.0]\n",
      " Batch 2/4\n",
      " \\_val_loss [83.0]\n",
      " \\_loss [53.0]\n",
      " Batch 3/4\n",
      " \\_val_loss [79.0]\n",
      " \\_loss [55.0]\n",
      " Batch 4/4\n",
      " \\_val_loss [80.0]\n",
      " \\_loss [53.0]\n",
      "\n",
      "[Epoch 46/100] >>>>>>>>>\n",
      " Batch 0/4\n",
      " \\_val_loss [81.0]\n",
      " \\_loss [53.0]\n",
      " Batch 1/4\n",
      " \\_val_loss [81.0]\n",
      " \\_loss [53.0]\n",
      " Batch 2/4\n",
      " \\_val_loss [81.0]\n",
      " \\_loss [54.0]\n",
      " Batch 3/4\n",
      " \\_val_loss [81.0]\n",
      " \\_loss [54.0]\n",
      " Batch 4/4\n",
      " \\_val_loss [81.0]\n",
      " \\_loss [53.0]\n",
      "\n",
      "[Epoch 47/100] >>>>>>>>>\n",
      " Batch 0/4\n",
      " \\_val_loss [82.0]\n",
      " \\_loss [55.0]\n",
      " Batch 1/4\n",
      " \\_val_loss [82.0]\n",
      " \\_loss [53.0]\n",
      " Batch 2/4\n",
      " \\_val_loss [82.0]\n",
      " \\_loss [52.0]\n",
      " Batch 3/4\n",
      " \\_val_loss [80.0]\n",
      " \\_loss [51.0]\n",
      " Batch 4/4\n",
      " \\_val_loss [81.0]\n",
      " \\_loss [56.0]\n",
      "\n",
      "[Epoch 48/100] >>>>>>>>>\n",
      " Batch 0/4\n",
      " \\_val_loss [80.0]\n",
      " \\_loss [53.0]\n",
      " Batch 1/4\n",
      " \\_val_loss [81.0]\n",
      " \\_loss [52.0]\n",
      " Batch 2/4\n",
      " \\_val_loss [81.0]\n",
      " \\_loss [53.0]\n",
      " Batch 3/4\n",
      " \\_val_loss [81.0]\n",
      " \\_loss [53.0]\n",
      " Batch 4/4\n",
      " \\_val_loss [80.0]\n",
      " \\_loss [52.0]\n",
      "\n",
      "[Epoch 49/100] >>>>>>>>>\n",
      " Batch 0/4\n",
      " \\_val_loss [84.0]\n",
      " \\_loss [53.0]\n",
      " Batch 1/4\n",
      " \\_val_loss [82.0]\n",
      " \\_loss [53.0]\n",
      " Batch 2/4\n",
      " \\_val_loss [82.0]\n",
      " \\_loss [52.0]\n",
      " Batch 3/4\n",
      " \\_val_loss [81.0]\n",
      " \\_loss [52.0]\n",
      " Batch 4/4\n",
      " \\_val_loss [81.0]\n",
      " \\_loss [50.0]\n",
      "\n",
      "[Epoch 50/100] >>>>>>>>>\n",
      " Batch 0/4\n",
      " \\_val_loss [82.0]\n",
      " \\_loss [53.0]\n",
      " Batch 1/4\n",
      " \\_val_loss [84.0]\n",
      " \\_loss [54.0]\n",
      " Batch 2/4\n",
      " \\_val_loss [81.0]\n",
      " \\_loss [53.0]\n",
      " Batch 3/4\n",
      " \\_val_loss [82.0]\n",
      " \\_loss [51.0]\n",
      " Batch 4/4\n",
      " \\_val_loss [85.0]\n",
      " \\_loss [53.0]\n",
      "\n",
      "[Epoch 51/100] >>>>>>>>>\n",
      " Batch 0/4\n",
      " \\_val_loss [81.0]\n",
      " \\_loss [51.0]\n",
      " Batch 1/4\n",
      " \\_val_loss [86.0]\n",
      " \\_loss [53.0]\n",
      " Batch 2/4\n",
      " \\_val_loss [82.0]\n",
      " \\_loss [51.0]\n",
      " Batch 3/4\n",
      " \\_val_loss [81.0]\n",
      " \\_loss [52.0]\n",
      " Batch 4/4\n",
      " \\_val_loss [84.0]\n",
      " \\_loss [54.0]\n",
      "\n",
      "[Epoch 52/100] >>>>>>>>>\n",
      " Batch 0/4\n",
      " \\_val_loss [86.0]\n",
      " \\_loss [50.0]\n",
      " Batch 1/4\n",
      " \\_val_loss [83.0]\n",
      " \\_loss [53.0]\n",
      " Batch 2/4\n",
      " \\_val_loss [80.0]\n",
      " \\_loss [53.0]\n",
      " Batch 3/4\n",
      " \\_val_loss [84.0]\n",
      " \\_loss [52.0]\n",
      " Batch 4/4\n",
      " \\_val_loss [83.0]\n",
      " \\_loss [51.0]\n",
      "\n",
      "[Epoch 53/100] >>>>>>>>>\n",
      " Batch 0/4\n",
      " \\_val_loss [83.0]\n",
      " \\_loss [53.0]\n",
      " Batch 1/4\n",
      " \\_val_loss [84.0]\n",
      " \\_loss [52.0]\n",
      " Batch 2/4\n",
      " \\_val_loss [82.0]\n",
      " \\_loss [53.0]\n",
      " Batch 3/4\n",
      " \\_val_loss [84.0]\n",
      " \\_loss [52.0]\n",
      " Batch 4/4\n",
      " \\_val_loss [85.0]\n",
      " \\_loss [51.0]\n",
      "\n",
      "[Epoch 54/100] >>>>>>>>>\n",
      " Batch 0/4\n",
      " \\_val_loss [85.0]\n",
      " \\_loss [51.0]\n",
      " Batch 1/4\n",
      " \\_val_loss [83.0]\n",
      " \\_loss [49.0]\n",
      " Batch 2/4\n",
      " \\_val_loss [82.0]\n",
      " \\_loss [51.0]\n",
      " Batch 3/4\n",
      " \\_val_loss [82.0]\n",
      " \\_loss [53.0]\n",
      " Batch 4/4\n",
      " \\_val_loss [84.0]\n",
      " \\_loss [52.0]\n",
      "\n",
      "[Epoch 55/100] >>>>>>>>>\n",
      " Batch 0/4\n",
      " \\_val_loss [83.0]\n",
      " \\_loss [49.0]\n",
      " Batch 1/4\n",
      " \\_val_loss [84.0]\n",
      " \\_loss [50.0]\n",
      " Batch 2/4\n",
      " \\_val_loss [85.0]\n",
      " \\_loss [51.0]\n",
      " Batch 3/4\n",
      " \\_val_loss [83.0]\n",
      " \\_loss [51.0]\n",
      " Batch 4/4\n",
      " \\_val_loss [83.0]\n",
      " \\_loss [50.0]\n",
      "\n",
      "[Epoch 56/100] >>>>>>>>>\n",
      " Batch 0/4\n",
      " \\_val_loss [82.0]\n",
      " \\_loss [51.0]\n",
      " Batch 1/4\n",
      " \\_val_loss [82.0]\n",
      " \\_loss [49.0]\n",
      " Batch 2/4\n",
      " \\_val_loss [83.0]\n",
      " \\_loss [54.0]\n",
      " Batch 3/4\n",
      " \\_val_loss [83.0]\n",
      " \\_loss [50.0]\n",
      " Batch 4/4\n",
      " \\_val_loss [81.0]\n",
      " \\_loss [49.0]\n",
      "\n",
      "[Epoch 57/100] >>>>>>>>>\n",
      " Batch 0/4\n",
      " \\_val_loss [84.0]\n",
      " \\_loss [50.0]\n",
      " Batch 1/4\n",
      " \\_val_loss [83.0]\n",
      " \\_loss [50.0]\n",
      " Batch 2/4\n",
      " \\_val_loss [87.0]\n",
      " \\_loss [50.0]\n",
      " Batch 3/4\n",
      " \\_val_loss [83.0]\n",
      " \\_loss [51.0]\n",
      " Batch 4/4\n",
      " \\_val_loss [84.0]\n",
      " \\_loss [49.0]\n",
      "\n",
      "[Epoch 58/100] >>>>>>>>>\n",
      " Batch 0/4\n",
      " \\_val_loss [82.0]\n",
      " \\_loss [52.0]\n",
      " Batch 1/4\n",
      " \\_val_loss [83.0]\n",
      " \\_loss [50.0]\n",
      " Batch 2/4\n",
      " \\_val_loss [88.0]\n",
      " \\_loss [51.0]\n",
      " Batch 3/4\n",
      " \\_val_loss [83.0]\n",
      " \\_loss [54.0]\n",
      " Batch 4/4\n",
      " \\_val_loss [84.0]\n",
      " \\_loss [50.0]\n",
      "\n",
      "[Epoch 59/100] >>>>>>>>>\n",
      " Batch 0/4\n",
      " \\_val_loss [82.0]\n",
      " \\_loss [52.0]\n",
      " Batch 1/4\n",
      " \\_val_loss [83.0]\n",
      " \\_loss [49.0]\n",
      " Batch 2/4\n",
      " \\_val_loss [84.0]\n",
      " \\_loss [50.0]\n",
      " Batch 3/4\n",
      " \\_val_loss [86.0]\n",
      " \\_loss [50.0]\n",
      " Batch 4/4\n",
      " \\_val_loss [87.0]\n",
      " \\_loss [48.0]\n",
      "\n",
      "[Epoch 60/100] >>>>>>>>>\n",
      " Batch 0/4\n",
      " \\_val_loss [82.0]\n",
      " \\_loss [49.0]\n",
      " Batch 1/4\n",
      " \\_val_loss [84.0]\n",
      " \\_loss [49.0]\n",
      " Batch 2/4\n",
      " \\_val_loss [83.0]\n",
      " \\_loss [48.0]\n",
      " Batch 3/4\n",
      " \\_val_loss [86.0]\n",
      " \\_loss [50.0]\n",
      " Batch 4/4\n",
      " \\_val_loss [84.0]\n",
      " \\_loss [50.0]\n",
      "\n",
      "[Epoch 61/100] >>>>>>>>>\n",
      " Batch 0/4\n",
      " \\_val_loss [83.0]\n",
      " \\_loss [49.0]\n",
      " Batch 1/4\n",
      " \\_val_loss [86.0]\n",
      " \\_loss [51.0]\n",
      " Batch 2/4\n",
      " \\_val_loss [88.0]\n",
      " \\_loss [51.0]\n",
      " Batch 3/4\n",
      " \\_val_loss [89.0]\n",
      " \\_loss [49.0]\n",
      " Batch 4/4\n",
      " \\_val_loss [84.0]\n",
      " \\_loss [49.0]\n",
      "\n",
      "[Epoch 62/100] >>>>>>>>>\n",
      " Batch 0/4\n",
      " \\_val_loss [89.0]\n",
      " \\_loss [51.0]\n",
      " Batch 1/4\n",
      " \\_val_loss [86.0]\n",
      " \\_loss [48.0]\n",
      " Batch 2/4\n",
      " \\_val_loss [84.0]\n",
      " \\_loss [50.0]\n",
      " Batch 3/4\n",
      " \\_val_loss [86.0]\n",
      " \\_loss [49.0]\n",
      " Batch 4/4\n",
      " \\_val_loss [84.0]\n",
      " \\_loss [49.0]\n",
      "\n",
      "[Epoch 63/100] >>>>>>>>>\n",
      " Batch 0/4\n",
      " \\_val_loss [84.0]\n",
      " \\_loss [50.0]\n",
      " Batch 1/4\n",
      " \\_val_loss [86.0]\n",
      " \\_loss [52.0]\n",
      " Batch 2/4\n",
      " \\_val_loss [85.0]\n",
      " \\_loss [48.0]\n",
      " Batch 3/4\n",
      " \\_val_loss [84.0]\n",
      " \\_loss [49.0]\n",
      " Batch 4/4\n",
      " \\_val_loss [88.0]\n",
      " \\_loss [49.0]\n",
      "\n",
      "[Epoch 64/100] >>>>>>>>>\n",
      " Batch 0/4\n",
      " \\_val_loss [85.0]\n",
      " \\_loss [49.0]\n",
      " Batch 1/4\n",
      " \\_val_loss [87.0]\n",
      " \\_loss [50.0]\n",
      " Batch 2/4\n",
      " \\_val_loss [86.0]\n",
      " \\_loss [48.0]\n",
      " Batch 3/4\n",
      " \\_val_loss [84.0]\n",
      " \\_loss [49.0]\n",
      " Batch 4/4\n",
      " \\_val_loss [86.0]\n",
      " \\_loss [50.0]\n",
      "\n",
      "[Epoch 65/100] >>>>>>>>>\n",
      " Batch 0/4\n"
     ]
    },
    {
     "name": "stdout",
     "output_type": "stream",
     "text": [
      " \\_val_loss [85.0]\n",
      " \\_loss [50.0]\n",
      " Batch 1/4\n",
      " \\_val_loss [85.0]\n",
      " \\_loss [49.0]\n",
      " Batch 2/4\n",
      " \\_val_loss [85.0]\n",
      " \\_loss [49.0]\n",
      " Batch 3/4\n",
      " \\_val_loss [87.0]\n",
      " \\_loss [49.0]\n",
      " Batch 4/4\n",
      " \\_val_loss [86.0]\n",
      " \\_loss [51.0]\n",
      "\n",
      "[Epoch 66/100] >>>>>>>>>\n",
      " Batch 0/4\n",
      " \\_val_loss [86.0]\n",
      " \\_loss [48.0]\n",
      " Batch 1/4\n",
      " \\_val_loss [89.0]\n",
      " \\_loss [48.0]\n",
      " Batch 2/4\n",
      " \\_val_loss [85.0]\n",
      " \\_loss [50.0]\n",
      " Batch 3/4\n",
      " \\_val_loss [85.0]\n",
      " \\_loss [49.0]\n",
      " Batch 4/4\n",
      " \\_val_loss [87.0]\n",
      " \\_loss [49.0]\n",
      "\n",
      "[Epoch 67/100] >>>>>>>>>\n",
      " Batch 0/4\n",
      " \\_val_loss [86.0]\n",
      " \\_loss [50.0]\n",
      " Batch 1/4\n",
      " \\_val_loss [85.0]\n",
      " \\_loss [49.0]\n",
      " Batch 2/4\n",
      " \\_val_loss [85.0]\n",
      " \\_loss [50.0]\n",
      " Batch 3/4\n",
      " \\_val_loss [86.0]\n",
      " \\_loss [47.0]\n",
      " Batch 4/4\n",
      " \\_val_loss [86.0]\n",
      " \\_loss [49.0]\n",
      "\n",
      "[Epoch 68/100] >>>>>>>>>\n",
      " Batch 0/4\n",
      " \\_val_loss [86.0]\n",
      " \\_loss [52.0]\n",
      " Batch 1/4\n",
      " \\_val_loss [85.0]\n",
      " \\_loss [48.0]\n",
      " Batch 2/4\n",
      " \\_val_loss [86.0]\n",
      " \\_loss [49.0]\n",
      " Batch 3/4\n",
      " \\_val_loss [89.0]\n",
      " \\_loss [47.0]\n",
      " Batch 4/4\n",
      " \\_val_loss [85.0]\n",
      " \\_loss [49.0]\n",
      "\n",
      "[Epoch 69/100] >>>>>>>>>\n",
      " Batch 0/4\n",
      " \\_val_loss [87.0]\n",
      " \\_loss [50.0]\n",
      " Batch 1/4\n",
      " \\_val_loss [85.0]\n",
      " \\_loss [48.0]\n",
      " Batch 2/4\n",
      " \\_val_loss [85.0]\n",
      " \\_loss [48.0]\n",
      " Batch 3/4\n",
      " \\_val_loss [86.0]\n",
      " \\_loss [48.0]\n",
      " Batch 4/4\n",
      " \\_val_loss [88.0]\n",
      " \\_loss [47.0]\n",
      "\n",
      "[Epoch 70/100] >>>>>>>>>\n",
      " Batch 0/4\n",
      " \\_val_loss [85.0]\n",
      " \\_loss [49.0]\n",
      " Batch 1/4\n",
      " \\_val_loss [85.0]\n",
      " \\_loss [49.0]\n",
      " Batch 2/4\n",
      " \\_val_loss [84.0]\n",
      " \\_loss [51.0]\n",
      " Batch 3/4\n",
      " \\_val_loss [85.0]\n",
      " \\_loss [48.0]\n",
      " Batch 4/4\n",
      " \\_val_loss [85.0]\n",
      " \\_loss [47.0]\n",
      "\n",
      "[Epoch 71/100] >>>>>>>>>\n",
      " Batch 0/4\n",
      " \\_val_loss [85.0]\n",
      " \\_loss [46.0]\n",
      " Batch 1/4\n",
      " \\_val_loss [89.0]\n",
      " \\_loss [49.0]\n",
      " Batch 2/4\n",
      " \\_val_loss [86.0]\n",
      " \\_loss [49.0]\n",
      " Batch 3/4\n",
      " \\_val_loss [85.0]\n",
      " \\_loss [48.0]\n",
      " Batch 4/4\n",
      " \\_val_loss [86.0]\n",
      " \\_loss [49.0]\n",
      "\n",
      "[Epoch 72/100] >>>>>>>>>\n",
      " Batch 0/4\n",
      " \\_val_loss [87.0]\n",
      " \\_loss [48.0]\n",
      " Batch 1/4\n",
      " \\_val_loss [85.0]\n",
      " \\_loss [48.0]\n",
      " Batch 2/4\n",
      " \\_val_loss [85.0]\n",
      " \\_loss [47.0]\n",
      " Batch 3/4\n",
      " \\_val_loss [85.0]\n",
      " \\_loss [46.0]\n",
      " Batch 4/4\n",
      " \\_val_loss [89.0]\n",
      " \\_loss [48.0]\n",
      "\n",
      "[Epoch 73/100] >>>>>>>>>\n",
      " Batch 0/4\n",
      " \\_val_loss [86.0]\n",
      " \\_loss [48.0]\n",
      " Batch 1/4\n",
      " \\_val_loss [85.0]\n",
      " \\_loss [47.0]\n",
      " Batch 2/4\n"
     ]
    },
    {
     "ename": "KeyboardInterrupt",
     "evalue": "",
     "output_type": "error",
     "traceback": [
      "\u001b[0;31m---------------------------------------------------------------------------\u001b[0m",
      "\u001b[0;31mKeyboardInterrupt\u001b[0m                         Traceback (most recent call last)",
      "\u001b[0;32m<ipython-input-26-9262b974fcbf>\u001b[0m in \u001b[0;36m<module>\u001b[0;34m()\u001b[0m\n\u001b[1;32m     19\u001b[0m             \u001b[0;31m# x_ = datagen.shuffle_3rd_dim(x_)\u001b[0m\u001b[0;34m\u001b[0m\u001b[0;34m\u001b[0m\u001b[0m\n\u001b[1;32m     20\u001b[0m             \u001b[0mx_\u001b[0m \u001b[0;34m=\u001b[0m \u001b[0mdatagen\u001b[0m\u001b[0;34m.\u001b[0m\u001b[0mshuffle_3rd_dim_soft\u001b[0m\u001b[0;34m(\u001b[0m\u001b[0mx_\u001b[0m\u001b[0;34m,\u001b[0m \u001b[0mrate\u001b[0m\u001b[0;34m=\u001b[0m\u001b[0;36m0.5\u001b[0m\u001b[0;34m,\u001b[0m \u001b[0mscale\u001b[0m\u001b[0;34m=\u001b[0m\u001b[0;36m0.1\u001b[0m\u001b[0;34m,\u001b[0m \u001b[0mverbose\u001b[0m\u001b[0;34m=\u001b[0m\u001b[0;36m0\u001b[0m\u001b[0;34m)\u001b[0m\u001b[0;34m\u001b[0m\u001b[0m\n\u001b[0;32m---> 21\u001b[0;31m             \u001b[0mh\u001b[0m \u001b[0;34m=\u001b[0m \u001b[0mvae\u001b[0m\u001b[0;34m.\u001b[0m\u001b[0mfit\u001b[0m\u001b[0;34m(\u001b[0m\u001b[0mx_\u001b[0m\u001b[0;34m,\u001b[0m \u001b[0mvalidation_data\u001b[0m\u001b[0;34m=\u001b[0m\u001b[0;34m(\u001b[0m\u001b[0mx_test\u001b[0m\u001b[0;34m,\u001b[0m \u001b[0;32mNone\u001b[0m\u001b[0;34m)\u001b[0m\u001b[0;34m,\u001b[0m \u001b[0mverbose\u001b[0m\u001b[0;34m=\u001b[0m\u001b[0;36m0\u001b[0m\u001b[0;34m)\u001b[0m\u001b[0;34m\u001b[0m\u001b[0m\n\u001b[0m\u001b[1;32m     22\u001b[0m             \u001b[0;32mfor\u001b[0m \u001b[0mk\u001b[0m\u001b[0;34m,\u001b[0m\u001b[0mv\u001b[0m \u001b[0;32min\u001b[0m \u001b[0mh\u001b[0m\u001b[0;34m.\u001b[0m\u001b[0mhistory\u001b[0m\u001b[0;34m.\u001b[0m\u001b[0mitems\u001b[0m\u001b[0;34m(\u001b[0m\u001b[0;34m)\u001b[0m\u001b[0;34m:\u001b[0m\u001b[0;34m\u001b[0m\u001b[0m\n\u001b[1;32m     23\u001b[0m                 \u001b[0mprint\u001b[0m\u001b[0;34m(\u001b[0m\u001b[0;34m' \\\\_%s'\u001b[0m \u001b[0;34m%\u001b[0m \u001b[0mk\u001b[0m\u001b[0;34m,\u001b[0m \u001b[0;34m[\u001b[0m\u001b[0mround\u001b[0m\u001b[0;34m(\u001b[0m\u001b[0mv_\u001b[0m\u001b[0;34m,\u001b[0m\u001b[0;34m)\u001b[0m \u001b[0;32mfor\u001b[0m \u001b[0mv_\u001b[0m \u001b[0;32min\u001b[0m \u001b[0mv\u001b[0m\u001b[0;34m]\u001b[0m\u001b[0;34m)\u001b[0m\u001b[0;34m\u001b[0m\u001b[0m\n",
      "\u001b[0;32m/usr/local/lib/python3.6/site-packages/keras/engine/training.py\u001b[0m in \u001b[0;36mfit\u001b[0;34m(self, x, y, batch_size, epochs, verbose, callbacks, validation_split, validation_data, shuffle, class_weight, sample_weight, initial_epoch, steps_per_epoch, validation_steps, **kwargs)\u001b[0m\n\u001b[1;32m   1703\u001b[0m                               \u001b[0minitial_epoch\u001b[0m\u001b[0;34m=\u001b[0m\u001b[0minitial_epoch\u001b[0m\u001b[0;34m,\u001b[0m\u001b[0;34m\u001b[0m\u001b[0m\n\u001b[1;32m   1704\u001b[0m                               \u001b[0msteps_per_epoch\u001b[0m\u001b[0;34m=\u001b[0m\u001b[0msteps_per_epoch\u001b[0m\u001b[0;34m,\u001b[0m\u001b[0;34m\u001b[0m\u001b[0m\n\u001b[0;32m-> 1705\u001b[0;31m                               validation_steps=validation_steps)\n\u001b[0m\u001b[1;32m   1706\u001b[0m \u001b[0;34m\u001b[0m\u001b[0m\n\u001b[1;32m   1707\u001b[0m     def evaluate(self, x=None, y=None,\n",
      "\u001b[0;32m/usr/local/lib/python3.6/site-packages/keras/engine/training.py\u001b[0m in \u001b[0;36m_fit_loop\u001b[0;34m(self, f, ins, out_labels, batch_size, epochs, verbose, callbacks, val_f, val_ins, shuffle, callback_metrics, initial_epoch, steps_per_epoch, validation_steps)\u001b[0m\n\u001b[1;32m   1233\u001b[0m                         \u001b[0mins_batch\u001b[0m\u001b[0;34m[\u001b[0m\u001b[0mi\u001b[0m\u001b[0;34m]\u001b[0m \u001b[0;34m=\u001b[0m \u001b[0mins_batch\u001b[0m\u001b[0;34m[\u001b[0m\u001b[0mi\u001b[0m\u001b[0;34m]\u001b[0m\u001b[0;34m.\u001b[0m\u001b[0mtoarray\u001b[0m\u001b[0;34m(\u001b[0m\u001b[0;34m)\u001b[0m\u001b[0;34m\u001b[0m\u001b[0m\n\u001b[1;32m   1234\u001b[0m \u001b[0;34m\u001b[0m\u001b[0m\n\u001b[0;32m-> 1235\u001b[0;31m                     \u001b[0mouts\u001b[0m \u001b[0;34m=\u001b[0m \u001b[0mf\u001b[0m\u001b[0;34m(\u001b[0m\u001b[0mins_batch\u001b[0m\u001b[0;34m)\u001b[0m\u001b[0;34m\u001b[0m\u001b[0m\n\u001b[0m\u001b[1;32m   1236\u001b[0m                     \u001b[0;32mif\u001b[0m \u001b[0;32mnot\u001b[0m \u001b[0misinstance\u001b[0m\u001b[0;34m(\u001b[0m\u001b[0mouts\u001b[0m\u001b[0;34m,\u001b[0m \u001b[0mlist\u001b[0m\u001b[0;34m)\u001b[0m\u001b[0;34m:\u001b[0m\u001b[0;34m\u001b[0m\u001b[0m\n\u001b[1;32m   1237\u001b[0m                         \u001b[0mouts\u001b[0m \u001b[0;34m=\u001b[0m \u001b[0;34m[\u001b[0m\u001b[0mouts\u001b[0m\u001b[0;34m]\u001b[0m\u001b[0;34m\u001b[0m\u001b[0m\n",
      "\u001b[0;32m/usr/local/lib/python3.6/site-packages/keras/backend/tensorflow_backend.py\u001b[0m in \u001b[0;36m__call__\u001b[0;34m(self, inputs)\u001b[0m\n\u001b[1;32m   2476\u001b[0m         \u001b[0msession\u001b[0m \u001b[0;34m=\u001b[0m \u001b[0mget_session\u001b[0m\u001b[0;34m(\u001b[0m\u001b[0;34m)\u001b[0m\u001b[0;34m\u001b[0m\u001b[0m\n\u001b[1;32m   2477\u001b[0m         updated = session.run(fetches=fetches, feed_dict=feed_dict,\n\u001b[0;32m-> 2478\u001b[0;31m                               **self.session_kwargs)\n\u001b[0m\u001b[1;32m   2479\u001b[0m         \u001b[0;32mreturn\u001b[0m \u001b[0mupdated\u001b[0m\u001b[0;34m[\u001b[0m\u001b[0;34m:\u001b[0m\u001b[0mlen\u001b[0m\u001b[0;34m(\u001b[0m\u001b[0mself\u001b[0m\u001b[0;34m.\u001b[0m\u001b[0moutputs\u001b[0m\u001b[0;34m)\u001b[0m\u001b[0;34m]\u001b[0m\u001b[0;34m\u001b[0m\u001b[0m\n\u001b[1;32m   2480\u001b[0m \u001b[0;34m\u001b[0m\u001b[0m\n",
      "\u001b[0;32m/usr/local/lib/python3.6/site-packages/tensorflow/python/client/session.py\u001b[0m in \u001b[0;36mrun\u001b[0;34m(self, fetches, feed_dict, options, run_metadata)\u001b[0m\n\u001b[1;32m    893\u001b[0m     \u001b[0;32mtry\u001b[0m\u001b[0;34m:\u001b[0m\u001b[0;34m\u001b[0m\u001b[0m\n\u001b[1;32m    894\u001b[0m       result = self._run(None, fetches, feed_dict, options_ptr,\n\u001b[0;32m--> 895\u001b[0;31m                          run_metadata_ptr)\n\u001b[0m\u001b[1;32m    896\u001b[0m       \u001b[0;32mif\u001b[0m \u001b[0mrun_metadata\u001b[0m\u001b[0;34m:\u001b[0m\u001b[0;34m\u001b[0m\u001b[0m\n\u001b[1;32m    897\u001b[0m         \u001b[0mproto_data\u001b[0m \u001b[0;34m=\u001b[0m \u001b[0mtf_session\u001b[0m\u001b[0;34m.\u001b[0m\u001b[0mTF_GetBuffer\u001b[0m\u001b[0;34m(\u001b[0m\u001b[0mrun_metadata_ptr\u001b[0m\u001b[0;34m)\u001b[0m\u001b[0;34m\u001b[0m\u001b[0m\n",
      "\u001b[0;32m/usr/local/lib/python3.6/site-packages/tensorflow/python/client/session.py\u001b[0m in \u001b[0;36m_run\u001b[0;34m(self, handle, fetches, feed_dict, options, run_metadata)\u001b[0m\n\u001b[1;32m   1126\u001b[0m     \u001b[0;32mif\u001b[0m \u001b[0mfinal_fetches\u001b[0m \u001b[0;32mor\u001b[0m \u001b[0mfinal_targets\u001b[0m \u001b[0;32mor\u001b[0m \u001b[0;34m(\u001b[0m\u001b[0mhandle\u001b[0m \u001b[0;32mand\u001b[0m \u001b[0mfeed_dict_tensor\u001b[0m\u001b[0;34m)\u001b[0m\u001b[0;34m:\u001b[0m\u001b[0;34m\u001b[0m\u001b[0m\n\u001b[1;32m   1127\u001b[0m       results = self._do_run(handle, final_targets, final_fetches,\n\u001b[0;32m-> 1128\u001b[0;31m                              feed_dict_tensor, options, run_metadata)\n\u001b[0m\u001b[1;32m   1129\u001b[0m     \u001b[0;32melse\u001b[0m\u001b[0;34m:\u001b[0m\u001b[0;34m\u001b[0m\u001b[0m\n\u001b[1;32m   1130\u001b[0m       \u001b[0mresults\u001b[0m \u001b[0;34m=\u001b[0m \u001b[0;34m[\u001b[0m\u001b[0;34m]\u001b[0m\u001b[0;34m\u001b[0m\u001b[0m\n",
      "\u001b[0;32m/usr/local/lib/python3.6/site-packages/tensorflow/python/client/session.py\u001b[0m in \u001b[0;36m_do_run\u001b[0;34m(self, handle, target_list, fetch_list, feed_dict, options, run_metadata)\u001b[0m\n\u001b[1;32m   1342\u001b[0m     \u001b[0;32mif\u001b[0m \u001b[0mhandle\u001b[0m \u001b[0;32mis\u001b[0m \u001b[0;32mNone\u001b[0m\u001b[0;34m:\u001b[0m\u001b[0;34m\u001b[0m\u001b[0m\n\u001b[1;32m   1343\u001b[0m       return self._do_call(_run_fn, self._session, feeds, fetches, targets,\n\u001b[0;32m-> 1344\u001b[0;31m                            options, run_metadata)\n\u001b[0m\u001b[1;32m   1345\u001b[0m     \u001b[0;32melse\u001b[0m\u001b[0;34m:\u001b[0m\u001b[0;34m\u001b[0m\u001b[0m\n\u001b[1;32m   1346\u001b[0m       \u001b[0;32mreturn\u001b[0m \u001b[0mself\u001b[0m\u001b[0;34m.\u001b[0m\u001b[0m_do_call\u001b[0m\u001b[0;34m(\u001b[0m\u001b[0m_prun_fn\u001b[0m\u001b[0;34m,\u001b[0m \u001b[0mself\u001b[0m\u001b[0;34m.\u001b[0m\u001b[0m_session\u001b[0m\u001b[0;34m,\u001b[0m \u001b[0mhandle\u001b[0m\u001b[0;34m,\u001b[0m \u001b[0mfeeds\u001b[0m\u001b[0;34m,\u001b[0m \u001b[0mfetches\u001b[0m\u001b[0;34m)\u001b[0m\u001b[0;34m\u001b[0m\u001b[0m\n",
      "\u001b[0;32m/usr/local/lib/python3.6/site-packages/tensorflow/python/client/session.py\u001b[0m in \u001b[0;36m_do_call\u001b[0;34m(self, fn, *args)\u001b[0m\n\u001b[1;32m   1348\u001b[0m   \u001b[0;32mdef\u001b[0m \u001b[0m_do_call\u001b[0m\u001b[0;34m(\u001b[0m\u001b[0mself\u001b[0m\u001b[0;34m,\u001b[0m \u001b[0mfn\u001b[0m\u001b[0;34m,\u001b[0m \u001b[0;34m*\u001b[0m\u001b[0margs\u001b[0m\u001b[0;34m)\u001b[0m\u001b[0;34m:\u001b[0m\u001b[0;34m\u001b[0m\u001b[0m\n\u001b[1;32m   1349\u001b[0m     \u001b[0;32mtry\u001b[0m\u001b[0;34m:\u001b[0m\u001b[0;34m\u001b[0m\u001b[0m\n\u001b[0;32m-> 1350\u001b[0;31m       \u001b[0;32mreturn\u001b[0m \u001b[0mfn\u001b[0m\u001b[0;34m(\u001b[0m\u001b[0;34m*\u001b[0m\u001b[0margs\u001b[0m\u001b[0;34m)\u001b[0m\u001b[0;34m\u001b[0m\u001b[0m\n\u001b[0m\u001b[1;32m   1351\u001b[0m     \u001b[0;32mexcept\u001b[0m \u001b[0merrors\u001b[0m\u001b[0;34m.\u001b[0m\u001b[0mOpError\u001b[0m \u001b[0;32mas\u001b[0m \u001b[0me\u001b[0m\u001b[0;34m:\u001b[0m\u001b[0;34m\u001b[0m\u001b[0m\n\u001b[1;32m   1352\u001b[0m       \u001b[0mmessage\u001b[0m \u001b[0;34m=\u001b[0m \u001b[0mcompat\u001b[0m\u001b[0;34m.\u001b[0m\u001b[0mas_text\u001b[0m\u001b[0;34m(\u001b[0m\u001b[0me\u001b[0m\u001b[0;34m.\u001b[0m\u001b[0mmessage\u001b[0m\u001b[0;34m)\u001b[0m\u001b[0;34m\u001b[0m\u001b[0m\n",
      "\u001b[0;32m/usr/local/lib/python3.6/site-packages/tensorflow/python/client/session.py\u001b[0m in \u001b[0;36m_run_fn\u001b[0;34m(session, feed_dict, fetch_list, target_list, options, run_metadata)\u001b[0m\n\u001b[1;32m   1327\u001b[0m           return tf_session.TF_Run(session, options,\n\u001b[1;32m   1328\u001b[0m                                    \u001b[0mfeed_dict\u001b[0m\u001b[0;34m,\u001b[0m \u001b[0mfetch_list\u001b[0m\u001b[0;34m,\u001b[0m \u001b[0mtarget_list\u001b[0m\u001b[0;34m,\u001b[0m\u001b[0;34m\u001b[0m\u001b[0m\n\u001b[0;32m-> 1329\u001b[0;31m                                    status, run_metadata)\n\u001b[0m\u001b[1;32m   1330\u001b[0m \u001b[0;34m\u001b[0m\u001b[0m\n\u001b[1;32m   1331\u001b[0m     \u001b[0;32mdef\u001b[0m \u001b[0m_prun_fn\u001b[0m\u001b[0;34m(\u001b[0m\u001b[0msession\u001b[0m\u001b[0;34m,\u001b[0m \u001b[0mhandle\u001b[0m\u001b[0;34m,\u001b[0m \u001b[0mfeed_dict\u001b[0m\u001b[0;34m,\u001b[0m \u001b[0mfetch_list\u001b[0m\u001b[0;34m)\u001b[0m\u001b[0;34m:\u001b[0m\u001b[0;34m\u001b[0m\u001b[0m\n",
      "\u001b[0;31mKeyboardInterrupt\u001b[0m: "
     ]
    }
   ],
   "source": [
    "m = 10\n",
    "useDataGenerator = False\n",
    "useDataGenerator = True\n",
    "\n",
    "x = x_train\n",
    "x = np.concatenate([x_train[:m] for _ in range(100)])\n",
    "print('x:', x.shape)\n",
    "\n",
    "print('batch_size =', batch_size)\n",
    "if useDataGenerator:\n",
    "    datagen = models.ImageDataGenerator(x_train, batch_size, phase_mod, whitening)\n",
    "    history = collections.defaultdict(list)\n",
    "    n_batches = datagen.__len__()\n",
    "    for e in range(epochs):\n",
    "        print('\\n[Epoch %i/%i] >>>>>>>>>' % (e, epochs))\n",
    "        for batch_i, (x_batch, y_batch) in enumerate(datagen.flow(x, x, batch_size)):\n",
    "            print(' Batch %i/%i' % (batch_i,n_batches))\n",
    "            x_ = x_batch\n",
    "            # x_ = datagen.shuffle_3rd_dim(x_)\n",
    "            x_ = datagen.shuffle_3rd_dim_soft(x_, rate=0.5, scale=0.1, verbose=0)\n",
    "            h = vae.fit(x_, validation_data=(x_test, None), verbose=0)\n",
    "            for k,v in h.history.items(): \n",
    "                print(' \\\\_%s' % k, [round(v_,) for v_ in v])\n",
    "                history[k].append(v)\n",
    "            if batch_i >= n_batches:\n",
    "                break\n",
    "else:\n",
    "    h = vae.fit(x, epochs=epochs, validation_data=(x_test, None))\n",
    "    history = h.history"
   ]
  },
  {
   "cell_type": "code",
   "execution_count": 27,
   "metadata": {},
   "outputs": [
    {
     "data": {
      "text/plain": [
       "[<matplotlib.lines.Line2D at 0x11b9f6b38>]"
      ]
     },
     "execution_count": 27,
     "metadata": {},
     "output_type": "execute_result"
    },
    {
     "data": {
      "image/png": "[encoded data removed]",
      "text/plain": [
       "<matplotlib.figure.Figure at 0x11ba63c18>"
      ]
     },
     "metadata": {},
     "output_type": "display_data"
    }
   ],
   "source": [
    "plt.plot(history['loss'])\n",
    "plt.plot(history['val_loss'])"
   ]
  },
  {
   "cell_type": "code",
   "execution_count": 28,
   "metadata": {},
   "outputs": [
    {
     "data": {
      "text/plain": [
       "(1000, 40, 9, 1)"
      ]
     },
     "execution_count": 28,
     "metadata": {},
     "output_type": "execute_result"
    }
   ],
   "source": [
    "x.shape"
   ]
  },
  {
   "cell_type": "code",
   "execution_count": 29,
   "metadata": {},
   "outputs": [
    {
     "name": "stdout",
     "output_type": "stream",
     "text": [
      "m (40, 9)\n"
     ]
    },
    {
     "data": {
      "image/png": "[encoded data removed]",
      "text/plain": [
       "<matplotlib.figure.Figure at 0x11ba2bc50>"
      ]
     },
     "metadata": {},
     "output_type": "display_data"
    },
    {
     "name": "stdout",
     "output_type": "stream",
     "text": [
      "m (40, 9)\n"
     ]
    },
    {
     "data": {
      "image/png": "[encoded data removed]",
      "text/plain": [
       "<matplotlib.figure.Figure at 0x116f2a908>"
      ]
     },
     "metadata": {},
     "output_type": "display_data"
    },
    {
     "name": "stdout",
     "output_type": "stream",
     "text": [
      "m (40, 9)\n"
     ]
    },
    {
     "data": {
      "image/png": "[encoded data removed]",
      "text/plain": [
       "<matplotlib.figure.Figure at 0x11bd512e8>"
      ]
     },
     "metadata": {},
     "output_type": "display_data"
    },
    {
     "name": "stdout",
     "output_type": "stream",
     "text": [
      "m (40, 9)\n"
     ]
    },
    {
     "data": {
      "image/png": "[encoded data removed]",
      "text/plain": [
       "<matplotlib.figure.Figure at 0x11bd964a8>"
      ]
     },
     "metadata": {},
     "output_type": "display_data"
    },
    {
     "name": "stdout",
     "output_type": "stream",
     "text": [
      "m (40, 9)\n"
     ]
    },
    {
     "data": {
      "image/png": "[encoded data removed]",
      "text/plain": [
       "<matplotlib.figure.Figure at 0x11c32c6a0>"
      ]
     },
     "metadata": {},
     "output_type": "display_data"
    },
    {
     "name": "stdout",
     "output_type": "stream",
     "text": [
      "m (40, 9)\n"
     ]
    },
    {
     "data": {
      "image/png": "[encoded data removed]",
      "text/plain": [
       "<matplotlib.figure.Figure at 0x11c3a9b38>"
      ]
     },
     "metadata": {},
     "output_type": "display_data"
    }
   ],
   "source": [
    "i = 0\n",
    "j = 1\n",
    "k = -1\n",
    "x = vae.predict(x_train[:100])\n",
    "plot.single(x_train[i, :50, :, 0])\n",
    "plot.single(x[i, :50, :, 0])\n",
    "plot.single(x_train[j, :50, :, 0])\n",
    "plot.single(x[j, :50, :, 0])\n",
    "plot.single(x_train[k, :50, :, 0])\n",
    "plot.single(x[k, :50, :, 0])"
   ]
  },
  {
   "cell_type": "code",
   "execution_count": 30,
   "metadata": {},
   "outputs": [
    {
     "name": "stdout",
     "output_type": "stream",
     "text": [
      "m (40, 9)\n"
     ]
    },
    {
     "data": {
      "image/png": "[encoded data removed]",
      "text/plain": [
       "<matplotlib.figure.Figure at 0x11bb81d68>"
      ]
     },
     "metadata": {},
     "output_type": "display_data"
    },
    {
     "name": "stdout",
     "output_type": "stream",
     "text": [
      "m (40, 9)\n"
     ]
    },
    {
     "data": {
      "image/png": "[encoded data removed]",
      "text/plain": [
       "<matplotlib.figure.Figure at 0x11bd19e48>"
      ]
     },
     "metadata": {},
     "output_type": "display_data"
    },
    {
     "name": "stdout",
     "output_type": "stream",
     "text": [
      "m (40, 9)\n"
     ]
    },
    {
     "data": {
      "image/png": "[encoded data removed]",
      "text/plain": [
       "<matplotlib.figure.Figure at 0x11bb9e2b0>"
      ]
     },
     "metadata": {},
     "output_type": "display_data"
    }
   ],
   "source": [
    "x = datagen.shuffle_3rd_dim_soft(x_train[:10], rate=1, intensity=2, scale=1, verbose=1)\n",
    "i = 0\n",
    "plot.single(x_train[i,:,:,0])\n",
    "plot.single(x[i,:,:,0])\n",
    "x_ = vae.predict(x)\n",
    "plot.single(x_[i,:,:,0])"
   ]
  },
  {
   "cell_type": "code",
   "execution_count": 31,
   "metadata": {},
   "outputs": [
    {
     "data": {
      "text/plain": [
       "(10, 40, 9, 1)"
      ]
     },
     "execution_count": 31,
     "metadata": {},
     "output_type": "execute_result"
    }
   ],
   "source": [
    "x.shape"
   ]
  },
  {
   "cell_type": "code",
   "execution_count": 32,
   "metadata": {},
   "outputs": [
    {
     "name": "stdout",
     "output_type": "stream",
     "text": [
      "m (30, 9)\n"
     ]
    },
    {
     "data": {
      "image/png": "[encoded data removed]",
      "text/plain": [
       "<matplotlib.figure.Figure at 0x11ba21ef0>"
      ]
     },
     "metadata": {},
     "output_type": "display_data"
    }
   ],
   "source": [
    "# min: these pixels are 'always' active\n",
    "m = x.min(axis=0)\n",
    "plot.multi(m[:30,:,0])"
   ]
  },
  {
   "cell_type": "code",
   "execution_count": 33,
   "metadata": {},
   "outputs": [
    {
     "name": "stdout",
     "output_type": "stream",
     "text": [
      "m (30, 9)\n"
     ]
    },
    {
     "data": {
      "image/png": "[encoded data removed]",
      "text/plain": [
       "<matplotlib.figure.Figure at 0x11ba6a7b8>"
      ]
     },
     "metadata": {},
     "output_type": "display_data"
    }
   ],
   "source": [
    "# mean\n",
    "m = x.mean(axis=0)\n",
    "plot.single(m[:30,:,0])"
   ]
  },
  {
   "cell_type": "markdown",
   "metadata": {},
   "source": [
    "## Encoder + Generator\n",
    "A model to project inputs on the latent space"
   ]
  },
  {
   "cell_type": "code",
   "execution_count": 34,
   "metadata": {},
   "outputs": [],
   "source": [
    "# build a model to project inputs on the latent space\n",
    "encoder = Model(encoder_input, z_mean)"
   ]
  },
  {
   "cell_type": "code",
   "execution_count": 35,
   "metadata": {},
   "outputs": [
    {
     "data": {
      "text/plain": [
       "(50, 40, 9, 1)"
      ]
     },
     "execution_count": 35,
     "metadata": {},
     "output_type": "execute_result"
    }
   ],
   "source": [
    "x_test.shape"
   ]
  },
  {
   "cell_type": "code",
   "execution_count": 36,
   "metadata": {},
   "outputs": [
    {
     "data": {
      "text/plain": [
       "(100, 100)"
      ]
     },
     "execution_count": 36,
     "metadata": {},
     "output_type": "execute_result"
    }
   ],
   "source": [
    "m = 100\n",
    "x_train_encoded = encoder.predict(x_train[:m], batch_size=batch_size)\n",
    "x_train_encoded.shape"
   ]
  },
  {
   "cell_type": "code",
   "execution_count": 44,
   "metadata": {},
   "outputs": [
    {
     "data": {
      "text/plain": [
       "<matplotlib.collections.PathCollection at 0x11b9c29e8>"
      ]
     },
     "execution_count": 44,
     "metadata": {},
     "output_type": "execute_result"
    },
    {
     "data": {
      "image/png": "[encoded data removed]",
      "text/plain": [
       "<matplotlib.figure.Figure at 0x11c44bb38>"
      ]
     },
     "metadata": {},
     "output_type": "display_data"
    }
   ],
   "source": [
    "# y_test = range(x_train_encoded.shape[0])\n",
    "y_test = np.concatenate([list(range(n)) for _ in range(int(m/n)+1)])[:m] / n\n",
    "plt.figure(figsize=(6, 6))\n",
    "plt.scatter(x_train_encoded[:, 0], x_train_encoded[:, 1], alpha=0.3, s=30) # c=y_test, "
   ]
  },
  {
   "cell_type": "code",
   "execution_count": 38,
   "metadata": {},
   "outputs": [
    {
     "data": {
      "text/plain": [
       "<matplotlib.collections.PathCollection at 0x11c12fe48>"
      ]
     },
     "execution_count": 38,
     "metadata": {},
     "output_type": "execute_result"
    },
    {
     "data": {
      "image/png": "[encoded data removed]",
      "text/plain": [
       "<matplotlib.figure.Figure at 0x11bf692b0>"
      ]
     },
     "metadata": {},
     "output_type": "display_data"
    }
   ],
   "source": [
    "# display a 2D plot of the digit classes in the latent space\n",
    "x_test_encoded = encoder.predict(x_test, batch_size=batch_size)\n",
    "plt.figure(figsize=(6, 6))\n",
    "plt.scatter(x_test_encoded[:, 0], x_test_encoded[:, 1], alpha=0.6, s=30) # , c=y_test\n",
    "# plt.colorbar()"
   ]
  },
  {
   "cell_type": "code",
   "execution_count": 39,
   "metadata": {},
   "outputs": [],
   "source": [
    "# build a digit generator that can sample from the learned distribution\n",
    "decoder_input = Input(shape=(latent_dim,))\n",
    "_decoded = utils.composition(decoders, decoder_input, verbose=False)\n",
    "generator = Model(decoder_input, _decoded)"
   ]
  },
  {
   "cell_type": "code",
   "execution_count": 40,
   "metadata": {},
   "outputs": [],
   "source": [
    "# x_decoded[0].reshape(150,3)"
   ]
  },
  {
   "cell_type": "code",
   "execution_count": 41,
   "metadata": {},
   "outputs": [
    {
     "data": {
      "text/plain": [
       "(450, 40, 9, 1)"
      ]
     },
     "execution_count": 41,
     "metadata": {},
     "output_type": "execute_result"
    }
   ],
   "source": [
    "x_train.shape"
   ]
  },
  {
   "cell_type": "code",
   "execution_count": 42,
   "metadata": {},
   "outputs": [
    {
     "name": "stdout",
     "output_type": "stream",
     "text": [
      "(100,) [0. 0. 0. 0. 0. 0. 0. 0. 0. 0. 0. 0. 0. 0. 0. 0. 0. 0. 0. 0. 0. 0. 0. 0.\n",
      " 0. 0. 0. 0. 0. 0. 0. 0. 0. 0. 0. 0. 0. 0. 0. 0. 0. 0. 0. 0. 0. 0. 0. 0.\n",
      " 0. 0. 0. 0. 0. 0. 0. 0. 0. 0. 0. 0. 0. 0. 0. 0. 0. 0. 0. 0. 0. 0. 0. 0.\n",
      " 0. 0. 0. 0. 0. 0. 0. 0. 0. 0. 0. 0. 0. 0. 0. 0. 0. 0. 0. 0. 0. 0. 0. 0.\n",
      " 0. 0. 0. 0.]\n"
     ]
    },
    {
     "data": {
      "image/png": "[encoded data removed]",
      "text/plain": [
       "<matplotlib.figure.Figure at 0x11c14cd68>"
      ]
     },
     "metadata": {},
     "output_type": "display_data"
    }
   ],
   "source": [
    "min_y = 0.01\n",
    "max_y = 0.5\n",
    "plot.latent(generator, batch_size, latent_dim,\n",
    "       n=8,\n",
    "       m=3,\n",
    "       crop_size=30,\n",
    "       margin_top=1,\n",
    "       margin_left=1,\n",
    "       min_x=0.05,\n",
    "       max_x=0.95,\n",
    "       min_y=min_y,\n",
    "       max_y=max_y)"
   ]
  },
  {
   "cell_type": "code",
   "execution_count": 43,
   "metadata": {},
   "outputs": [
    {
     "name": "stdout",
     "output_type": "stream",
     "text": [
      "(100,) [0. 0. 0. 0. 0. 0. 0. 0. 0. 0. 0. 0. 0. 0. 0. 0. 0. 0. 0. 0. 0. 0. 0. 0.\n",
      " 0. 0. 0. 0. 0. 0. 0. 0. 0. 0. 0. 0. 0. 0. 0. 0. 0. 0. 0. 0. 0. 0. 0. 0.\n",
      " 0. 0. 0. 0. 0. 0. 0. 0. 0. 0. 0. 0. 0. 0. 0. 0. 0. 0. 0. 0. 0. 0. 0. 0.\n",
      " 0. 0. 0. 0. 0. 0. 0. 0. 0. 0. 0. 0. 0. 0. 0. 0. 0. 0. 0. 0. 0. 0. 0. 0.\n",
      " 0. 0. 0. 0.]\n"
     ]
    },
    {
     "data": {
      "image/png": "[encoded data removed]",
      "text/plain": [
       "<matplotlib.figure.Figure at 0x11ba65f98>"
      ]
     },
     "metadata": {},
     "output_type": "display_data"
    }
   ],
   "source": [
    "min_y2 = max_y\n",
    "plot.latent(generator, batch_size, latent_dim,\n",
    "       n=8,\n",
    "       m=3,\n",
    "       crop_size=30,\n",
    "       margin_top=1,\n",
    "       margin_left=1,\n",
    "       min_x=0.05,\n",
    "       max_x=0.95,\n",
    "       min_y=min_y2,\n",
    "       max_y=0.95)"
   ]
  },
  {
   "cell_type": "code",
   "execution_count": null,
   "metadata": {},
   "outputs": [],
   "source": []
  },
  {
   "cell_type": "code",
   "execution_count": null,
   "metadata": {},
   "outputs": [],
   "source": []
  },
  {
   "cell_type": "code",
   "execution_count": null,
   "metadata": {},
   "outputs": [],
   "source": []
  },
  {
   "cell_type": "code",
   "execution_count": null,
   "metadata": {},
   "outputs": [],
   "source": []
  },
  {
   "cell_type": "code",
   "execution_count": null,
   "metadata": {},
   "outputs": [],
   "source": []
  },
  {
   "cell_type": "code",
   "execution_count": null,
   "metadata": {},
   "outputs": [],
   "source": []
  },
  {
   "cell_type": "code",
   "execution_count": null,
   "metadata": {},
   "outputs": [],
   "source": []
  },
  {
   "cell_type": "code",
   "execution_count": null,
   "metadata": {},
   "outputs": [],
   "source": []
  }
 ],
 "metadata": {
  "kernelspec": {
   "display_name": "Python 3",
   "language": "python",
   "name": "python3"
  },
  "language_info": {
   "codemirror_mode": {
    "name": "ipython",
    "version": 3
   },
   "file_extension": ".py",
   "mimetype": "text/x-python",
   "name": "python",
   "nbconvert_exporter": "python",
   "pygments_lexer": "ipython3",
   "version": "3.6.5"
  }
 },
 "nbformat": 4,
 "nbformat_minor": 2
}
