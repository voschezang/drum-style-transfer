{
 "cells": [
  {
   "cell_type": "code",
   "execution_count": 1,
   "metadata": {},
   "outputs": [
    {
     "name": "stderr",
     "output_type": "stream",
     "text": [
      "/Library/Frameworks/Python.framework/Versions/3.6/lib/python3.6/site-packages/h5py/__init__.py:36: FutureWarning: Conversion of the second argument of issubdtype from `float` to `np.floating` is deprecated. In future, it will be treated as `np.float64 == np.dtype(float).type`.\n",
      "  from ._conv import register_converters as _register_converters\n",
      "Using TensorFlow backend.\n"
     ]
    }
   ],
   "source": [
    "from __future__ import division\n",
    "\n",
    "import collections\n",
    "import numpy as np\n",
    "import matplotlib.pyplot as plt\n",
    "from scipy.stats import norm\n",
    "\n",
    "## NN libs\n",
    "import keras\n",
    "from keras import backend as K\n",
    "from keras import regularizers\n",
    "from keras.utils import to_categorical\n",
    "from keras.optimizers import SGD, Adam\n",
    "from keras.layers import Input, Dense, Activation, Reshape, Dropout, Flatten, Lambda\n",
    "from keras.layers import Conv2DTranspose, Conv1D, Conv2D, MaxPooling1D, MaxPooling2D, UpSampling2D, UpSampling1D \n",
    "from keras.layers import LocallyConnected1D, LocallyConnected2D, LSTM, RepeatVector\n",
    "from keras.preprocessing.image import ImageDataGenerator\n",
    "from keras.models import Model\n",
    "from keras.callbacks import TensorBoard"
   ]
  },
  {
   "cell_type": "code",
   "execution_count": 2,
   "metadata": {},
   "outputs": [],
   "source": [
    "import config\n",
    "import os, numpy as np, pandas, sklearn, scipy.signal as signal\n",
    "import mido\n",
    "import matplotlib.pyplot as plt\n",
    "%matplotlib inline"
   ]
  },
  {
   "cell_type": "code",
   "execution_count": 3,
   "metadata": {},
   "outputs": [
    {
     "name": "stdout",
     "output_type": "stream",
     "text": [
      " Context :: namedtuple(\n",
      "[ max_t = float\n",
      ", dt = float\n",
      ", n_instances = int\n",
      ", note_length = int\n",
      ", bpm = float\n",
      ", tempo = float\n",
      ", ticks_per_beat = int\n",
      "]\n",
      "\n"
     ]
    }
   ],
   "source": [
    "# local libs\n",
    "import config, models, functions\n",
    "from data import data, midi, midi_generators as g\n",
    "from utils import io, models_io, utils, plot"
   ]
  },
  {
   "cell_type": "code",
   "execution_count": 4,
   "metadata": {},
   "outputs": [
    {
     "name": "stdout",
     "output_type": "stream",
     "text": [
      "\u001b[92m [INFO] : \u001b[0m\n",
      " |  ../datasets/examples/\n",
      " |  19\n"
     ]
    }
   ],
   "source": [
    "dirname = config.dataset_dir + 'examples/'\n",
    "config.info(dirname, len(os.listdir(dirname)))"
   ]
  },
  {
   "cell_type": "code",
   "execution_count": 5,
   "metadata": {
    "scrolled": true
   },
   "outputs": [
    {
     "name": "stdout",
     "output_type": "stream",
     "text": [
      "Setting up params\n",
      "\n",
      "max min f 25.0 0.5\n",
      " >> Context(max_t=2.0, dt=0.02, n_instances=100, note_length=0.03, bpm=120.0, tempo=500000, ticks_per_beat=480)\n",
      " sample length:  100.000000\n",
      " max_f: 25.000000, min_f: 0.500000\n",
      "Importing midi-data\n",
      "\n",
      "\n",
      "Encoding midi-data\n",
      " 100\n",
      "> -> multi-track = True\n",
      "\u001b[92m [INFO] : \u001b[0m\n",
      " |  reduced dims:\n",
      " |  (100, 100, 18)\n"
     ]
    }
   ],
   "source": [
    "n = 100 * 1\n",
    "dim4 = True\n",
    "multiTrack = True\n",
    "dn = 'drum_midi/'\n",
    "context, x_train, labels = data.import_data(data.init(), n, dim4=dim4, dirname=dn, multiTrack=multiTrack, r=True)"
   ]
  },
  {
   "cell_type": "code",
   "execution_count": 12,
   "metadata": {},
   "outputs": [],
   "source": [
    "# n = 1000\n",
    "# min_f = 0\n",
    "# max_f = 3\n",
    "# x_train, params = g.gen_data_complex(context, n, max_f=max_f, min_f=min_f,\n",
    "#     n_polyrythms=1,\n",
    "#     n_channels=3,\n",
    "#     d_phase=True,\n",
    "#     return_params=True,\n",
    "#     dim4=dim4,\n",
    "#     multiTrack=multiTrack)"
   ]
  },
  {
   "cell_type": "code",
   "execution_count": 13,
   "metadata": {},
   "outputs": [
    {
     "data": {
      "text/plain": [
       "(90, 100, 18, 1)"
      ]
     },
     "execution_count": 13,
     "metadata": {},
     "output_type": "execute_result"
    }
   ],
   "source": [
    "x_train.shape"
   ]
  },
  {
   "cell_type": "code",
   "execution_count": 14,
   "metadata": {},
   "outputs": [
    {
     "data": {
      "text/plain": [
       "[(90, 100, 18, 1), 81]"
      ]
     },
     "execution_count": 14,
     "metadata": {},
     "output_type": "execute_result"
    }
   ],
   "source": [
    "m = int(x_train.shape[0] * 0.9)\n",
    "[x_train.shape, m]"
   ]
  },
  {
   "cell_type": "code",
   "execution_count": 15,
   "metadata": {},
   "outputs": [],
   "source": [
    "x_test = x_train[m:]\n",
    "x_train = x_train[:m]"
   ]
  },
  {
   "cell_type": "code",
   "execution_count": 16,
   "metadata": {},
   "outputs": [
    {
     "name": "stdout",
     "output_type": "stream",
     "text": [
      "m (50, 18)\n"
     ]
    },
    {
     "data": {
      "image/png": "[encoded data removed]",
      "text/plain": [
       "<matplotlib.figure.Figure at 0x117b070f0>"
      ]
     },
     "metadata": {},
     "output_type": "display_data"
    },
    {
     "name": "stdout",
     "output_type": "stream",
     "text": [
      "m (50, 18)\n"
     ]
    },
    {
     "data": {
      "image/png": "[encoded data removed]",
      "text/plain": [
       "<matplotlib.figure.Figure at 0x117b077f0>"
      ]
     },
     "metadata": {},
     "output_type": "display_data"
    },
    {
     "name": "stdout",
     "output_type": "stream",
     "text": [
      "m (50, 18)\n"
     ]
    },
    {
     "data": {
      "image/png": "[encoded data removed]",
      "text/plain": [
       "<matplotlib.figure.Figure at 0x117bbb588>"
      ]
     },
     "metadata": {},
     "output_type": "display_data"
    },
    {
     "data": {
      "text/plain": [
       "\"../datasets/drum_midi//50´s Drummer MIDI Files/01 Rock'n'Roll/01 Dancin Rick 166BPM/01 8th Hat.mid\""
      ]
     },
     "execution_count": 16,
     "metadata": {},
     "output_type": "execute_result"
    }
   ],
   "source": [
    "plot.single(x_train[0, :50,:,0])\n",
    "plot.single(x_train[1, :50,:,0])\n",
    "plot.single(x_train[2, :50,:,0])\n",
    "labels[0]"
   ]
  },
  {
   "cell_type": "code",
   "execution_count": 17,
   "metadata": {},
   "outputs": [
    {
     "data": {
      "text/plain": [
       "(100, 18, 1)"
      ]
     },
     "execution_count": 17,
     "metadata": {},
     "output_type": "execute_result"
    }
   ],
   "source": [
    "input_shape = x_train[0].shape\n",
    "timesteps = input_shape[0]\n",
    "notes = input_shape[1]\n",
    "input_shape"
   ]
  },
  {
   "cell_type": "code",
   "execution_count": 18,
   "metadata": {},
   "outputs": [],
   "source": [
    "latent_dim = 2\n",
    "intermediate_dim = 128\n",
    "epsilon_std = 1.0"
   ]
  },
  {
   "cell_type": "code",
   "execution_count": 123,
   "metadata": {},
   "outputs": [],
   "source": [
    "def encoder(input_size, dropout=0.05):\n",
    "    encoder_input = Input(shape=input_size)\n",
    "    \n",
    "    # Convolve & Pool\n",
    "    h = encoder_input\n",
    "    h = Reshape(input_shape[:-1])(h)\n",
    "    h = Conv1D(32, kernel_size=2, strides=2, activation='relu', padding='valid')(h)\n",
    "    h = Conv1D(64, kernel_size=2, strides=1, activation='relu', padding='valid')(h)\n",
    "    h = Conv1D(64, kernel_size=2, strides=2, activation='relu', padding='valid')(h)\n",
    "    shape = K.int_shape(h)[1:]\n",
    "    h = Reshape(list(shape) + [1])(h)\n",
    "    h = Conv2D(128, kernel_size=(2,2), strides=1, activation='relu', padding='valid')(h)\n",
    "    h = MaxPooling2D((2, 1))(h)\n",
    "\n",
    "    h = Conv2D(64, kernel_size=(2,2), strides=2, activation='relu', padding='valid')(h)\n",
    "#     print(shape, list(shape))\n",
    "\n",
    "    # Dense layers\n",
    "#     h = Dropout(dropout)(h) # uncomment when using larger batches\n",
    "    h = Flatten()(h)\n",
    "    h = Dropout(dropout)(h) # uncomment when using larger batches\n",
    "\n",
    "    h = Dense(intermediate_dim, activation='relu')(h)\n",
    "   \n",
    "    # Z Mean, Variance\n",
    "    z_mean = Dense(latent_dim, name='z_mean')(h) # , activation='relu'\n",
    "    z_log_var = Dense(latent_dim, name='z_log_var')(h) # , activation='relu'\n",
    "        \n",
    "    encoder_output = [z_mean, z_log_var]\n",
    "    encoder_model = Model(encoder_input, encoder_output, name='encoder_model-')\n",
    "    return encoder_model, encoder_input, z_mean, z_log_var"
   ]
  },
  {
   "cell_type": "code",
   "execution_count": 124,
   "metadata": {},
   "outputs": [
    {
     "name": "stdout",
     "output_type": "stream",
     "text": [
      "__________________________________________________________________________________________________\n",
      "Layer (type)                    Output Shape         Param #     Connected to                     \n",
      "==================================================================================================\n",
      "input_8 (InputLayer)            (None, 100, 18, 1)   0                                            \n",
      "__________________________________________________________________________________________________\n",
      "reshape_15 (Reshape)            (None, 100, 18)      0           input_8[0][0]                    \n",
      "__________________________________________________________________________________________________\n",
      "conv1d_13 (Conv1D)              (None, 50, 32)       1184        reshape_15[0][0]                 \n",
      "__________________________________________________________________________________________________\n",
      "conv1d_14 (Conv1D)              (None, 49, 64)       4160        conv1d_13[0][0]                  \n",
      "__________________________________________________________________________________________________\n",
      "conv1d_15 (Conv1D)              (None, 24, 64)       8256        conv1d_14[0][0]                  \n",
      "__________________________________________________________________________________________________\n",
      "reshape_16 (Reshape)            (None, 24, 64, 1)    0           conv1d_15[0][0]                  \n",
      "__________________________________________________________________________________________________\n",
      "conv2d_9 (Conv2D)               (None, 23, 63, 128)  640         reshape_16[0][0]                 \n",
      "__________________________________________________________________________________________________\n",
      "max_pooling2d_5 (MaxPooling2D)  (None, 11, 63, 128)  0           conv2d_9[0][0]                   \n",
      "__________________________________________________________________________________________________\n",
      "conv2d_10 (Conv2D)              (None, 5, 31, 64)    32832       max_pooling2d_5[0][0]            \n",
      "__________________________________________________________________________________________________\n",
      "flatten_5 (Flatten)             (None, 9920)         0           conv2d_10[0][0]                  \n",
      "__________________________________________________________________________________________________\n",
      "dropout_5 (Dropout)             (None, 9920)         0           flatten_5[0][0]                  \n",
      "__________________________________________________________________________________________________\n",
      "dense_35 (Dense)                (None, 128)          1269888     dropout_5[0][0]                  \n",
      "__________________________________________________________________________________________________\n",
      "z_mean (Dense)                  (None, 2)            258         dense_35[0][0]                   \n",
      "__________________________________________________________________________________________________\n",
      "z_log_var (Dense)               (None, 2)            258         dense_35[0][0]                   \n",
      "==================================================================================================\n",
      "Total params: 1,317,476\n",
      "Trainable params: 1,317,476\n",
      "Non-trainable params: 0\n",
      "__________________________________________________________________________________________________\n"
     ]
    }
   ],
   "source": [
    "encoder_model, encoder_input, z_mean, z_log_var = encoder(input_shape)\n",
    "encoder_model.summary()"
   ]
  },
  {
   "cell_type": "code",
   "execution_count": 125,
   "metadata": {},
   "outputs": [],
   "source": [
    "sample_ = lambda args: models.sample(args, z_mean, z_log_var, latent_dim, epsilon_std)"
   ]
  },
  {
   "cell_type": "code",
   "execution_count": 126,
   "metadata": {},
   "outputs": [],
   "source": [
    "# z = Lambda(sampling)([z_mean, z_log_var])\n",
    "z_input = encoder_model(encoder_input)\n",
    "z_output = Lambda(sample_)(z_input)\n",
    "# z_output = Lambda(sampl_, output_shape=(latent_dim,))(encoder_input)"
   ]
  },
  {
   "cell_type": "code",
   "execution_count": 127,
   "metadata": {},
   "outputs": [],
   "source": [
    "def list_decoders(output_size, p='valid'):\n",
    "    # decoder_input = z_output\n",
    "    # h = decoder_input\n",
    "    # :output_shape = (timesteps, channels, channels) || (batches, filters, timesteps, channels)\n",
    "    # keras offers just Conv2DTranspose and not Conv1DTranspose\n",
    "    # - use 2D images during upsampling :: (timesteps, notes, channels) => (timesteps, notes, filters)\n",
    "    # - use 1D images to optimize reconstruction :: (timesteps, filters) => (timesteps, notes)\n",
    "    \n",
    "    # image_data_format = 'channels_last'\n",
    "    # goal shape: (timesteps, notes, channels)\n",
    "    # start with the 'reverse': lots of small imgs => few large img\n",
    "    \n",
    "    timesteps, notes, channels = output_size\n",
    "    m = 4 # multiplier for dims\n",
    "    \n",
    "    # at the start of upsampling, the image-structure does not yet have to correspond to the goal structure \n",
    "    # ?TODO use y*y*y starting dims, may conv, and only then correct the structure (?)\n",
    "    output_shape = (timesteps, notes, channels)\n",
    "    \n",
    "    # we instantiate these layers separately so as to reuse them later\n",
    "    decoders = []\n",
    "#     decoders += [ Dense(intermediate_dim, activation='relu') ]\n",
    "    decoders += [ Dense(intermediate_dim, activation='relu') ]\n",
    "    decoders += [ Dense(intermediate_dim * 2, activation='relu') ]\n",
    "    decoders += [ Dense(intermediate_dim * 1, activation='relu') ]\n",
    "    \n",
    "    decoders += [ Dense(np.prod(output_shape), activation='relu') ]\n",
    "#     decoders += [ Reshape(output_shape[-3:]) ]\n",
    "    \n",
    "    # Convolve & Pool\n",
    "    \n",
    "    # Note that the kernel windows do not yet correspond to 'temporal' features, but rather to just spatial features\n",
    "    k = (3,2) # (2,1) :: (timesteps, notes)\n",
    "    s = (1,3)\n",
    "    timesteps_ = int(timesteps / 2)\n",
    "    \n",
    "#     decoders += [ Conv2DTranspose(timesteps_, kernel_size=k, strides=3, activation='relu', padding=p) ]\n",
    "#     decoders += [ Conv2DTranspose(32, kernel_size=k, strides=3, activation='relu', padding=p) ]\n",
    "#     # decoder += [Conv2DTranspose(32, kernel_size=k, strides=3, activation='relu', padding=p)]\n",
    "#     decoders += [ Conv2DTranspose(16, kernel_size=k, strides=(3,1), activation='relu', padding=p)]\n",
    "#     decoders += [ Conv2DTranspose(16, kernel_size=k, strides=3, activation='relu', padding=p)]\n",
    "    \n",
    "    # 'end' of upsampling\n",
    "#     decoders += [ Conv2D(1, kernel_size=(1,2), strides=1, activation='relu', padding=p) ]\n",
    "    # shape = ()\n",
    "    # decoder_reshape2 = Reshape(dims[0:2])\n",
    "    # #     h = Conv1D(16, kernel_size=2, strides=1, activation='relu', padding=p)(h)\n",
    "    # decoder_conv2 = Conv1D(notes * m, kernel_size=2, strides=2, activation='relu', padding=p)\n",
    "    \n",
    "    \n",
    "    # Mean (output)\n",
    "    #     h = Conv2D(1, kernel_size=1, strides=s, activation='sigmoid', padding='same')(h)\n",
    "    output_shape = (timesteps, notes, channels)\n",
    "    \n",
    "#     decoders += [ Flatten()] # note that [].append != [] = []\n",
    "    decoders += [ Dense(np.prod(output_shape), activation='sigmoid')]\n",
    "    decoders += [ Reshape(output_shape)]\n",
    "    return decoders"
   ]
  },
  {
   "cell_type": "code",
   "execution_count": 128,
   "metadata": {},
   "outputs": [],
   "source": [
    "decoders = list_decoders(input_shape)"
   ]
  },
  {
   "cell_type": "code",
   "execution_count": 129,
   "metadata": {},
   "outputs": [],
   "source": [
    "decoded = utils.composition(decoders, z_output, verbose=False)"
   ]
  },
  {
   "cell_type": "code",
   "execution_count": 130,
   "metadata": {},
   "outputs": [
    {
     "name": "stdout",
     "output_type": "stream",
     "text": [
      "__________________________________________________________________________________________________\n",
      "Layer (type)                    Output Shape         Param #     Connected to                     \n",
      "==================================================================================================\n",
      "input_8 (InputLayer)            (None, 100, 18, 1)   0                                            \n",
      "__________________________________________________________________________________________________\n",
      "encoder_model- (Model)          [(None, 2), (None, 2 1317476     input_8[0][0]                    \n",
      "__________________________________________________________________________________________________\n",
      "lambda_4 (Lambda)               (None, 2)            0           encoder_model-[1][0]             \n",
      "                                                                 encoder_model-[1][1]             \n",
      "__________________________________________________________________________________________________\n",
      "dense_36 (Dense)                (None, 128)          384         lambda_4[0][0]                   \n",
      "__________________________________________________________________________________________________\n",
      "dense_37 (Dense)                (None, 256)          33024       dense_36[0][0]                   \n",
      "__________________________________________________________________________________________________\n",
      "dense_38 (Dense)                (None, 128)          32896       dense_37[0][0]                   \n",
      "__________________________________________________________________________________________________\n",
      "dense_39 (Dense)                (None, 1800)         232200      dense_38[0][0]                   \n",
      "__________________________________________________________________________________________________\n",
      "dense_40 (Dense)                (None, 1800)         3241800     dense_39[0][0]                   \n",
      "__________________________________________________________________________________________________\n",
      "reshape_17 (Reshape)            (None, 100, 18, 1)   0           dense_40[0][0]                   \n",
      "==================================================================================================\n",
      "Total params: 4,857,780\n",
      "Trainable params: 4,857,780\n",
      "Non-trainable params: 0\n",
      "__________________________________________________________________________________________________\n"
     ]
    }
   ],
   "source": [
    "# instantiate VAE model\n",
    "vae_input = encoder_input\n",
    "vae_output = decoded\n",
    "vae = Model(vae_input, vae_output)\n",
    "vae.summary()"
   ]
  },
  {
   "cell_type": "code",
   "execution_count": 131,
   "metadata": {
    "scrolled": true
   },
   "outputs": [
    {
     "name": "stderr",
     "output_type": "stream",
     "text": [
      "/Library/Frameworks/Python.framework/Versions/3.6/lib/python3.6/site-packages/ipykernel_launcher.py:11: UserWarning: Output \"reshape_17\" missing from loss dictionary. We assume this was done on purpose, and we will not be expecting any data to be passed to \"reshape_17\" during training.\n",
      "  # This is added back by InteractiveShellApp.init_path()\n"
     ]
    }
   ],
   "source": [
    "# Compute VAE loss\n",
    "def vae_loss(beta=1.):\n",
    "    # y_true, y_pred, z_mean, z_log_var, timesteps=150, notes=3, beta=1.\n",
    "    xent_loss = timesteps * notes * keras.metrics.binary_crossentropy(K.flatten(vae_input), K.flatten(vae_output))\n",
    "    kl_loss = - 0.5 * K.sum(1 + z_log_var - K.square(z_mean) - K.exp(z_log_var), axis=-1)\n",
    "    vae_loss = K.mean(xent_loss + beta * kl_loss)\n",
    "    return vae_loss\n",
    "\n",
    "vae_loss = vae_loss(beta=1)\n",
    "vae.add_loss(vae_loss)\n",
    "vae.compile(optimizer='rmsprop')\n",
    "# vae.compile(optimizer=optimizer, loss=loss, metrics=metrics)"
   ]
  },
  {
   "cell_type": "code",
   "execution_count": 140,
   "metadata": {},
   "outputs": [],
   "source": [
    "batch_size = 200\n",
    "epochs = 50\n",
    "params = {'batch_size': batch_size, 'return_y': False}"
   ]
  },
  {
   "cell_type": "code",
   "execution_count": 141,
   "metadata": {},
   "outputs": [],
   "source": [
    "phase_mod = 0.01\n",
    "whitening = False\n",
    "\n",
    "# datagen = ImageDataGenerator(\n",
    "#         featurewise_center=False,  # set input mean to 0 over the dataset\n",
    "#         samplewise_center=False,  # set each sample mean to 0\n",
    "#         featurewise_std_normalization=False,  # divide inputs by dataset std\n",
    "#         samplewise_std_normalization=False,  # divide each input by its std\n",
    "# #         zca_epsilon=10,\n",
    "#         zca_whitening=whitening,\n",
    "#         rotation_range=0,  # randomly rotate images in 0 to 180 degrees\n",
    "#         width_shift_range=0.,  # note-channel mod, but not shuffled\n",
    "#         height_shift_range=phase_mod,  # start_t, phase\n",
    "#         horizontal_flip=False,  # reverse\n",
    "#         vertical_flip=False)\n",
    "\n",
    "# # datagen.fit(x_train)"
   ]
  },
  {
   "cell_type": "code",
   "execution_count": 142,
   "metadata": {},
   "outputs": [
    {
     "data": {
      "text/plain": [
       "(81, 100, 18, 1)"
      ]
     },
     "execution_count": 142,
     "metadata": {},
     "output_type": "execute_result"
    }
   ],
   "source": [
    "x_train.shape"
   ]
  },
  {
   "cell_type": "code",
   "execution_count": 143,
   "metadata": {
    "scrolled": true
   },
   "outputs": [
    {
     "name": "stdout",
     "output_type": "stream",
     "text": [
      "batch_size = 200\n",
      "\n",
      "[Epoch 0/50] >>>>>>>>>>>>\n",
      " Batch 0/0\n",
      "Epoch 1/1\n",
      "81/81 [==============================] - 1s 11ms/step - loss: 81.5189\n",
      "\n",
      "[Epoch 1/50] >>>>>>>>>>>>\n",
      " Batch 0/0\n",
      "Epoch 1/1\n",
      "81/81 [==============================] - 1s 11ms/step - loss: 82.1054\n",
      "\n",
      "[Epoch 2/50] >>>>>>>>>>>>\n",
      " Batch 0/0\n",
      "Epoch 1/1\n",
      "81/81 [==============================] - 1s 12ms/step - loss: 80.5919\n",
      "\n",
      "[Epoch 3/50] >>>>>>>>>>>>\n",
      " Batch 0/0\n",
      "Epoch 1/1\n",
      "81/81 [==============================] - 1s 12ms/step - loss: 78.7756\n",
      "\n",
      "[Epoch 4/50] >>>>>>>>>>>>\n",
      " Batch 0/0\n",
      "Epoch 1/1\n",
      "81/81 [==============================] - 1s 13ms/step - loss: 82.3343\n",
      "\n",
      "[Epoch 5/50] >>>>>>>>>>>>\n",
      " Batch 0/0\n",
      "Epoch 1/1\n",
      "81/81 [==============================] - 1s 13ms/step - loss: 77.6196\n",
      "\n",
      "[Epoch 6/50] >>>>>>>>>>>>\n",
      " Batch 0/0\n",
      "Epoch 1/1\n",
      "81/81 [==============================] - 1s 11ms/step - loss: 78.6359\n",
      "\n",
      "[Epoch 7/50] >>>>>>>>>>>>\n",
      " Batch 0/0\n",
      "Epoch 1/1\n",
      "81/81 [==============================] - 1s 12ms/step - loss: 79.6469\n",
      "\n",
      "[Epoch 8/50] >>>>>>>>>>>>\n",
      " Batch 0/0\n",
      "Epoch 1/1\n",
      "81/81 [==============================] - 1s 10ms/step - loss: 77.6631\n",
      "\n",
      "[Epoch 9/50] >>>>>>>>>>>>\n",
      " Batch 0/0\n",
      "Epoch 1/1\n",
      "81/81 [==============================] - 1s 11ms/step - loss: 77.8886\n",
      "\n",
      "[Epoch 10/50] >>>>>>>>>>>>\n",
      " Batch 0/0\n",
      "Epoch 1/1\n",
      "81/81 [==============================] - 1s 12ms/step - loss: 75.6009\n",
      "\n",
      "[Epoch 11/50] >>>>>>>>>>>>\n",
      " Batch 0/0\n",
      "Epoch 1/1\n",
      "81/81 [==============================] - 1s 11ms/step - loss: 77.0125\n",
      "\n",
      "[Epoch 12/50] >>>>>>>>>>>>\n",
      " Batch 0/0\n",
      "Epoch 1/1\n",
      "81/81 [==============================] - 1s 12ms/step - loss: 75.3583\n",
      "\n",
      "[Epoch 13/50] >>>>>>>>>>>>\n",
      " Batch 0/0\n",
      "Epoch 1/1\n",
      "81/81 [==============================] - 1s 13ms/step - loss: 76.4993\n",
      "\n",
      "[Epoch 14/50] >>>>>>>>>>>>\n",
      " Batch 0/0\n",
      "Epoch 1/1\n",
      "81/81 [==============================] - 1s 12ms/step - loss: 74.4294\n",
      "\n",
      "[Epoch 15/50] >>>>>>>>>>>>\n",
      " Batch 0/0\n",
      "Epoch 1/1\n",
      "81/81 [==============================] - 1s 12ms/step - loss: 75.2678\n",
      "\n",
      "[Epoch 16/50] >>>>>>>>>>>>\n",
      " Batch 0/0\n",
      "Epoch 1/1\n",
      "81/81 [==============================] - 1s 12ms/step - loss: 75.4918\n",
      "\n",
      "[Epoch 17/50] >>>>>>>>>>>>\n",
      " Batch 0/0\n",
      "Epoch 1/1\n",
      "81/81 [==============================] - 1s 12ms/step - loss: 72.7146\n",
      "\n",
      "[Epoch 18/50] >>>>>>>>>>>>\n",
      " Batch 0/0\n",
      "Epoch 1/1\n",
      "81/81 [==============================] - 1s 10ms/step - loss: 73.9652\n",
      "\n",
      "[Epoch 19/50] >>>>>>>>>>>>\n",
      " Batch 0/0\n",
      "Epoch 1/1\n",
      "81/81 [==============================] - 1s 10ms/step - loss: 78.1157\n",
      "\n",
      "[Epoch 20/50] >>>>>>>>>>>>\n",
      " Batch 0/0\n",
      "Epoch 1/1\n",
      "81/81 [==============================] - 1s 10ms/step - loss: 74.8043\n",
      "\n",
      "[Epoch 21/50] >>>>>>>>>>>>\n",
      " Batch 0/0\n",
      "Epoch 1/1\n",
      "81/81 [==============================] - 1s 11ms/step - loss: 74.1002\n",
      "\n",
      "[Epoch 22/50] >>>>>>>>>>>>\n",
      " Batch 0/0\n",
      "Epoch 1/1\n",
      "81/81 [==============================] - 1s 11ms/step - loss: 75.3503\n",
      "\n",
      "[Epoch 23/50] >>>>>>>>>>>>\n",
      " Batch 0/0\n",
      "Epoch 1/1\n",
      "81/81 [==============================] - 1s 12ms/step - loss: 74.6203\n",
      "\n",
      "[Epoch 24/50] >>>>>>>>>>>>\n",
      " Batch 0/0\n",
      "Epoch 1/1\n",
      "81/81 [==============================] - 1s 11ms/step - loss: 74.7317\n",
      "\n",
      "[Epoch 25/50] >>>>>>>>>>>>\n",
      " Batch 0/0\n",
      "Epoch 1/1\n",
      "81/81 [==============================] - 1s 11ms/step - loss: 73.6852\n",
      "\n",
      "[Epoch 26/50] >>>>>>>>>>>>\n",
      " Batch 0/0\n",
      "Epoch 1/1\n",
      "81/81 [==============================] - 1s 11ms/step - loss: 72.4743\n",
      "\n",
      "[Epoch 27/50] >>>>>>>>>>>>\n",
      " Batch 0/0\n",
      "Epoch 1/1\n",
      "81/81 [==============================] - 1s 13ms/step - loss: 72.9184\n",
      "\n",
      "[Epoch 28/50] >>>>>>>>>>>>\n",
      " Batch 0/0\n",
      "Epoch 1/1\n",
      "81/81 [==============================] - 1s 12ms/step - loss: 75.9577\n",
      "\n",
      "[Epoch 29/50] >>>>>>>>>>>>\n",
      " Batch 0/0\n",
      "Epoch 1/1\n",
      "81/81 [==============================] - 1s 11ms/step - loss: 72.7628\n",
      "\n",
      "[Epoch 30/50] >>>>>>>>>>>>\n",
      " Batch 0/0\n",
      "Epoch 1/1\n",
      "81/81 [==============================] - 1s 12ms/step - loss: 75.2276\n",
      "\n",
      "[Epoch 31/50] >>>>>>>>>>>>\n",
      " Batch 0/0\n",
      "Epoch 1/1\n",
      "81/81 [==============================] - 1s 11ms/step - loss: 75.4518\n",
      "\n",
      "[Epoch 32/50] >>>>>>>>>>>>\n",
      " Batch 0/0\n",
      "Epoch 1/1\n",
      "81/81 [==============================] - 1s 11ms/step - loss: 73.0569\n",
      "\n",
      "[Epoch 33/50] >>>>>>>>>>>>\n",
      " Batch 0/0\n",
      "Epoch 1/1\n",
      "81/81 [==============================] - 1s 11ms/step - loss: 74.8486\n",
      "\n",
      "[Epoch 34/50] >>>>>>>>>>>>\n",
      " Batch 0/0\n",
      "Epoch 1/1\n",
      "81/81 [==============================] - 1s 11ms/step - loss: 77.1122\n",
      "\n",
      "[Epoch 35/50] >>>>>>>>>>>>\n",
      " Batch 0/0\n",
      "Epoch 1/1\n",
      "81/81 [==============================] - 1s 12ms/step - loss: 72.5588\n",
      "\n",
      "[Epoch 36/50] >>>>>>>>>>>>\n",
      " Batch 0/0\n",
      "Epoch 1/1\n",
      "81/81 [==============================] - 1s 11ms/step - loss: 72.8997\n",
      "\n",
      "[Epoch 37/50] >>>>>>>>>>>>\n",
      " Batch 0/0\n",
      "Epoch 1/1\n",
      "81/81 [==============================] - 1s 11ms/step - loss: 72.8534\n",
      "\n",
      "[Epoch 38/50] >>>>>>>>>>>>\n",
      " Batch 0/0\n",
      "Epoch 1/1\n",
      "81/81 [==============================] - 1s 11ms/step - loss: 82.0700\n",
      "\n",
      "[Epoch 39/50] >>>>>>>>>>>>\n",
      " Batch 0/0\n",
      "Epoch 1/1\n",
      "81/81 [==============================] - 1s 12ms/step - loss: 74.3888\n",
      "\n",
      "[Epoch 40/50] >>>>>>>>>>>>\n",
      " Batch 0/0\n",
      "Epoch 1/1\n",
      "81/81 [==============================] - 1s 11ms/step - loss: 71.8876\n",
      "\n",
      "[Epoch 41/50] >>>>>>>>>>>>\n",
      " Batch 0/0\n",
      "Epoch 1/1\n",
      "81/81 [==============================] - 1s 11ms/step - loss: 74.6365\n",
      "\n",
      "[Epoch 42/50] >>>>>>>>>>>>\n",
      " Batch 0/0\n",
      "Epoch 1/1\n",
      "81/81 [==============================] - 1s 13ms/step - loss: 72.8404\n",
      "\n",
      "[Epoch 43/50] >>>>>>>>>>>>\n",
      " Batch 0/0\n",
      "Epoch 1/1\n",
      "81/81 [==============================] - 1s 12ms/step - loss: 76.5643\n",
      "\n",
      "[Epoch 44/50] >>>>>>>>>>>>\n",
      " Batch 0/0\n",
      "Epoch 1/1\n",
      "81/81 [==============================] - 1s 11ms/step - loss: 81.5778\n",
      "\n",
      "[Epoch 45/50] >>>>>>>>>>>>\n",
      " Batch 0/0\n",
      "Epoch 1/1\n",
      "81/81 [==============================] - 1s 13ms/step - loss: 74.6326\n",
      "\n",
      "[Epoch 46/50] >>>>>>>>>>>>\n",
      " Batch 0/0\n",
      "Epoch 1/1\n",
      "81/81 [==============================] - 1s 12ms/step - loss: 72.6425\n",
      "\n",
      "[Epoch 47/50] >>>>>>>>>>>>\n",
      " Batch 0/0\n",
      "Epoch 1/1\n",
      "81/81 [==============================] - 1s 12ms/step - loss: 74.3868\n",
      "\n",
      "[Epoch 48/50] >>>>>>>>>>>>\n",
      " Batch 0/0\n",
      "Epoch 1/1\n",
      "81/81 [==============================] - 1s 11ms/step - loss: 82.3983\n",
      "\n",
      "[Epoch 49/50] >>>>>>>>>>>>\n",
      " Batch 0/0\n",
      "Epoch 1/1\n",
      "81/81 [==============================] - 1s 11ms/step - loss: 72.2086\n"
     ]
    }
   ],
   "source": [
    "m = 1000\n",
    "useDataGenerator = False\n",
    "useDataGenerator = True\n",
    "\n",
    "print('batch_size =', batch_size)\n",
    "if useDataGenerator:\n",
    "    datagen = models.ImageDataGenerator(x_train, batch_size, phase_mod, whitening)\n",
    "    history = collections.defaultdict(list)\n",
    "    n_batches = datagen.__len__()\n",
    "    for e in range(epochs):\n",
    "        print('\\n[Epoch %i/%i] >>>>>>>>>>>>' % (e, epochs))\n",
    "        for batch_i, (x_batch, y_batch) in enumerate(datagen.flow(x_train[:m], x_train[:m], batch_size)):\n",
    "            print(' Batch %i/%i' % (batch_i,n_batches))\n",
    "            x = x_batch\n",
    "#             x = datagen.shuffle_3rd_dim(x_batch)\n",
    "            h = vae.fit(x, verbose=0)\n",
    "            for k,v in h.history.items(): \n",
    "                history[k].append(v)\n",
    "            if batch_i >= n_batches:\n",
    "                break\n",
    "else:\n",
    "    h = vae.fit(x_train[:m], epochs=epochs, validation_data=(x_test, None))\n",
    "    history = h.history"
   ]
  },
  {
   "cell_type": "code",
   "execution_count": 144,
   "metadata": {},
   "outputs": [
    {
     "data": {
      "text/plain": [
       "[<matplotlib.lines.Line2D at 0x129815518>]"
      ]
     },
     "execution_count": 144,
     "metadata": {},
     "output_type": "execute_result"
    },
    {
     "data": {
      "image/png": "[encoded data removed]",
      "text/plain": [
       "<matplotlib.figure.Figure at 0x1304b5828>"
      ]
     },
     "metadata": {},
     "output_type": "display_data"
    }
   ],
   "source": [
    "plt.plot(history['loss'])\n",
    "plt.plot(history['val_loss'])"
   ]
  },
  {
   "cell_type": "code",
   "execution_count": 169,
   "metadata": {},
   "outputs": [
    {
     "name": "stdout",
     "output_type": "stream",
     "text": [
      "m (50, 18)\n"
     ]
    },
    {
     "data": {
      "image/png": "[encoded data removed]",
      "text/plain": [
       "<matplotlib.figure.Figure at 0x136763390>"
      ]
     },
     "metadata": {},
     "output_type": "display_data"
    },
    {
     "name": "stdout",
     "output_type": "stream",
     "text": [
      "m (50, 18)\n"
     ]
    },
    {
     "data": {
      "image/png": "[encoded data removed]",
      "text/plain": [
       "<matplotlib.figure.Figure at 0x136763400>"
      ]
     },
     "metadata": {},
     "output_type": "display_data"
    },
    {
     "name": "stdout",
     "output_type": "stream",
     "text": [
      "m (50, 18)\n"
     ]
    },
    {
     "data": {
      "image/png": "[encoded data removed]",
      "text/plain": [
       "<matplotlib.figure.Figure at 0x137047470>"
      ]
     },
     "metadata": {},
     "output_type": "display_data"
    },
    {
     "name": "stdout",
     "output_type": "stream",
     "text": [
      "m (50, 18)\n"
     ]
    },
    {
     "data": {
      "image/png": "[encoded data removed]",
      "text/plain": [
       "<matplotlib.figure.Figure at 0x137047390>"
      ]
     },
     "metadata": {},
     "output_type": "display_data"
    },
    {
     "name": "stdout",
     "output_type": "stream",
     "text": [
      "m (50, 18)\n"
     ]
    },
    {
     "data": {
      "image/png": "[encoded data removed]",
      "text/plain": [
       "<matplotlib.figure.Figure at 0x1394e0518>"
      ]
     },
     "metadata": {},
     "output_type": "display_data"
    },
    {
     "name": "stdout",
     "output_type": "stream",
     "text": [
      "m (50, 18)\n"
     ]
    },
    {
     "data": {
      "image/png": "[encoded data removed]",
      "text/plain": [
       "<matplotlib.figure.Figure at 0x1395a6208>"
      ]
     },
     "metadata": {},
     "output_type": "display_data"
    }
   ],
   "source": [
    "i = 0\n",
    "j = 30\n",
    "k = -1\n",
    "x = vae.predict(x_train[:100])\n",
    "plot.single(x_train[i, :50, :, 0])\n",
    "plot.single(x[i, :50, :, 0])\n",
    "plot.single(x_train[j, :50, :, 0])\n",
    "plot.single(x[j, :50, :, 0])\n",
    "plot.single(x_train[k, :50, :, 0])\n",
    "plot.single(x[k, :50, :, 0])"
   ]
  },
  {
   "cell_type": "code",
   "execution_count": 146,
   "metadata": {},
   "outputs": [
    {
     "data": {
      "text/plain": [
       "(10, 100, 18, 1)"
      ]
     },
     "execution_count": 146,
     "metadata": {},
     "output_type": "execute_result"
    }
   ],
   "source": [
    "x.shape"
   ]
  },
  {
   "cell_type": "code",
   "execution_count": 147,
   "metadata": {},
   "outputs": [
    {
     "name": "stdout",
     "output_type": "stream",
     "text": [
      "m (30, 18)\n"
     ]
    },
    {
     "data": {
      "image/png": "[encoded data removed]",
      "text/plain": [
       "<matplotlib.figure.Figure at 0x1300fd978>"
      ]
     },
     "metadata": {},
     "output_type": "display_data"
    }
   ],
   "source": [
    "# min: these pixels are 'always' active\n",
    "m = x.min(axis=0)\n",
    "plot.multi(m[:30,:,0])"
   ]
  },
  {
   "cell_type": "code",
   "execution_count": 148,
   "metadata": {},
   "outputs": [
    {
     "name": "stdout",
     "output_type": "stream",
     "text": [
      "m (30, 18)\n"
     ]
    },
    {
     "data": {
      "image/png": "[encoded data removed]",
      "text/plain": [
       "<matplotlib.figure.Figure at 0x13044b828>"
      ]
     },
     "metadata": {},
     "output_type": "display_data"
    }
   ],
   "source": [
    "# mean\n",
    "m = x.mean(axis=0)\n",
    "plot.single(m[:30,:,0])"
   ]
  },
  {
   "cell_type": "markdown",
   "metadata": {},
   "source": [
    "## Encoder + Generator\n",
    "A model to project inputs on the latent space"
   ]
  },
  {
   "cell_type": "code",
   "execution_count": 149,
   "metadata": {},
   "outputs": [],
   "source": [
    "# build a model to project inputs on the latent space\n",
    "encoder = Model(encoder_input, z_mean)"
   ]
  },
  {
   "cell_type": "code",
   "execution_count": 150,
   "metadata": {},
   "outputs": [
    {
     "data": {
      "text/plain": [
       "(9, 100, 18, 1)"
      ]
     },
     "execution_count": 150,
     "metadata": {},
     "output_type": "execute_result"
    }
   ],
   "source": [
    "x_test.shape"
   ]
  },
  {
   "cell_type": "code",
   "execution_count": 151,
   "metadata": {},
   "outputs": [
    {
     "data": {
      "text/plain": [
       "(81, 2)"
      ]
     },
     "execution_count": 151,
     "metadata": {},
     "output_type": "execute_result"
    }
   ],
   "source": [
    "m = 100\n",
    "x_train_encoded = encoder.predict(x_train[:m], batch_size=batch_size)\n",
    "x_train_encoded.shape"
   ]
  },
  {
   "cell_type": "code",
   "execution_count": 152,
   "metadata": {},
   "outputs": [
    {
     "data": {
      "text/plain": [
       "<matplotlib.collections.PathCollection at 0x12feba198>"
      ]
     },
     "execution_count": 152,
     "metadata": {},
     "output_type": "execute_result"
    },
    {
     "data": {
      "image/png": "[encoded data removed]",
      "text/plain": [
       "<matplotlib.figure.Figure at 0x130035518>"
      ]
     },
     "metadata": {},
     "output_type": "display_data"
    }
   ],
   "source": [
    "# y_test = range(x_train_encoded.shape[0])\n",
    "y_test = np.concatenate([list(range(n)) for _ in range(int(m/n)+1)])[:m] / n\n",
    "plt.figure(figsize=(6, 6))\n",
    "plt.scatter(x_train_encoded[:, 0], x_train_encoded[:, 1], alpha=0.8, s=30) # c=y_test, "
   ]
  },
  {
   "cell_type": "code",
   "execution_count": 153,
   "metadata": {},
   "outputs": [
    {
     "data": {
      "text/plain": [
       "<matplotlib.collections.PathCollection at 0x12dabbe48>"
      ]
     },
     "execution_count": 153,
     "metadata": {},
     "output_type": "execute_result"
    },
    {
     "data": {
      "image/png": "[encoded data removed]",
      "text/plain": [
       "<matplotlib.figure.Figure at 0x1300eea58>"
      ]
     },
     "metadata": {},
     "output_type": "display_data"
    }
   ],
   "source": [
    "# display a 2D plot of the digit classes in the latent space\n",
    "x_test_encoded = encoder.predict(x_test, batch_size=batch_size)\n",
    "plt.figure(figsize=(6, 6))\n",
    "plt.scatter(x_test_encoded[:, 0], x_test_encoded[:, 1], alpha=0.6, s=30) # , c=y_test\n",
    "# plt.colorbar()"
   ]
  },
  {
   "cell_type": "code",
   "execution_count": 154,
   "metadata": {},
   "outputs": [],
   "source": [
    "# build a digit generator that can sample from the learned distribution\n",
    "decoder_input = Input(shape=(latent_dim,))\n",
    "_decoded = utils.composition(decoders, decoder_input, verbose=False)\n",
    "generator = Model(decoder_input, _decoded)"
   ]
  },
  {
   "cell_type": "code",
   "execution_count": 155,
   "metadata": {},
   "outputs": [],
   "source": [
    "# x_decoded[0].reshape(150,3)"
   ]
  },
  {
   "cell_type": "code",
   "execution_count": 156,
   "metadata": {},
   "outputs": [
    {
     "data": {
      "text/plain": [
       "(81, 100, 18, 1)"
      ]
     },
     "execution_count": 156,
     "metadata": {},
     "output_type": "execute_result"
    }
   ],
   "source": [
    "x_train.shape"
   ]
  },
  {
   "cell_type": "code",
   "execution_count": 157,
   "metadata": {},
   "outputs": [
    {
     "name": "stdout",
     "output_type": "stream",
     "text": [
      "(2,) [0. 0.]\n"
     ]
    },
    {
     "data": {
      "image/png": "[encoded data removed]",
      "text/plain": [
       "<matplotlib.figure.Figure at 0x130208b38>"
      ]
     },
     "metadata": {},
     "output_type": "display_data"
    }
   ],
   "source": [
    "min_y = 0.01\n",
    "max_y = 0.5\n",
    "plot.latent(generator, batch_size,\n",
    "       n=8,\n",
    "       m=6,\n",
    "       crop_size=30,\n",
    "       margin_top=1,\n",
    "       margin_left=1,\n",
    "       min_x=0.05,\n",
    "       max_x=0.95,\n",
    "       min_y=min_y,\n",
    "       max_y=max_y)"
   ]
  },
  {
   "cell_type": "code",
   "execution_count": 158,
   "metadata": {},
   "outputs": [
    {
     "name": "stdout",
     "output_type": "stream",
     "text": [
      "(2,) [0. 0.]\n"
     ]
    },
    {
     "data": {
      "image/png": "[encoded data removed]",
      "text/plain": [
       "<matplotlib.figure.Figure at 0x12dfb05f8>"
      ]
     },
     "metadata": {},
     "output_type": "display_data"
    }
   ],
   "source": [
    "min_y2 = max_y\n",
    "plot.latent(generator, batch_size,\n",
    "       n=8,\n",
    "       m=6,\n",
    "       crop_size=30,\n",
    "       margin_top=1,\n",
    "       margin_left=1,\n",
    "       min_x=0.05,\n",
    "       max_x=0.95,\n",
    "       min_y=min_y2,\n",
    "       max_y=0.95)"
   ]
  },
  {
   "cell_type": "code",
   "execution_count": null,
   "metadata": {},
   "outputs": [],
   "source": []
  },
  {
   "cell_type": "code",
   "execution_count": null,
   "metadata": {},
   "outputs": [],
   "source": []
  },
  {
   "cell_type": "code",
   "execution_count": null,
   "metadata": {},
   "outputs": [],
   "source": []
  },
  {
   "cell_type": "code",
   "execution_count": null,
   "metadata": {},
   "outputs": [],
   "source": []
  },
  {
   "cell_type": "code",
   "execution_count": null,
   "metadata": {},
   "outputs": [],
   "source": []
  },
  {
   "cell_type": "code",
   "execution_count": null,
   "metadata": {},
   "outputs": [],
   "source": []
  },
  {
   "cell_type": "code",
   "execution_count": null,
   "metadata": {},
   "outputs": [],
   "source": []
  }
 ],
 "metadata": {
  "kernelspec": {
   "display_name": "Python 3",
   "language": "python",
   "name": "python3"
  },
  "language_info": {
   "codemirror_mode": {
    "name": "ipython",
    "version": 3
   },
   "file_extension": ".py",
   "mimetype": "text/x-python",
   "name": "python",
   "nbconvert_exporter": "python",
   "pygments_lexer": "ipython3",
   "version": "3.6.4"
  }
 },
 "nbformat": 4,
 "nbformat_minor": 2
}
