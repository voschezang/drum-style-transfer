{
 "cells": [
  {
   "cell_type": "code",
   "execution_count": 1,
   "metadata": {},
   "outputs": [
    {
     "name": "stderr",
     "output_type": "stream",
     "text": [
      "/usr/local/lib/python3.6/site-packages/h5py/__init__.py:36: FutureWarning: Conversion of the second argument of issubdtype from `float` to `np.floating` is deprecated. In future, it will be treated as `np.float64 == np.dtype(float).type`.\n",
      "  from ._conv import register_converters as _register_converters\n",
      "Using TensorFlow backend.\n"
     ]
    }
   ],
   "source": [
    "from __future__ import division\n",
    "\n",
    "import collections\n",
    "import numpy as np\n",
    "import matplotlib.pyplot as plt\n",
    "%matplotlib inline\n",
    "from scipy.stats import norm\n",
    "\n",
    "## NN libs\n",
    "import keras\n",
    "from keras import backend as K\n",
    "from keras import regularizers\n",
    "from keras.utils import to_categorical\n",
    "from keras.optimizers import SGD, Adam\n",
    "from keras.layers import Input, Dense, Activation, Reshape, Dropout, Flatten, Lambda\n",
    "from keras.layers import Conv2DTranspose, Conv1D, Conv2D, MaxPooling1D, MaxPooling2D, UpSampling2D, UpSampling1D \n",
    "from keras.layers import LocallyConnected1D, LocallyConnected2D, LSTM, RepeatVector\n",
    "from keras.preprocessing.image import ImageDataGenerator\n",
    "from keras.models import Model\n",
    "from keras.callbacks import TensorBoard"
   ]
  },
  {
   "cell_type": "code",
   "execution_count": 2,
   "metadata": {},
   "outputs": [
    {
     "name": "stdout",
     "output_type": "stream",
     "text": [
      " Context :: namedtuple(\n",
      "[ max_t = float\n",
      ", dt = float\n",
      ", n_instances = int\n",
      ", note_length = int\n",
      ", bpm = float\n",
      ", tempo = float\n",
      ", ticks_per_beat = int\n",
      "]\n",
      "\n"
     ]
    }
   ],
   "source": [
    "import config, models, functions\n",
    "from data import data, midi, midi_generators as g\n",
    "from utils import io, models_io, utils, plot\n",
    "from capsule.layers import Capsule, Length\n",
    "from capsule.capsulefunctions import squash, softmax, margin_loss"
   ]
  },
  {
   "cell_type": "code",
   "execution_count": 3,
   "metadata": {},
   "outputs": [],
   "source": [
    "# local libs\n",
    "import config, models, functions\n",
    "from data import data, midi, midi_generators as g\n",
    "from utils import io, models_io, utils, plot"
   ]
  },
  {
   "cell_type": "code",
   "execution_count": 4,
   "metadata": {
    "scrolled": true
   },
   "outputs": [
    {
     "name": "stdout",
     "output_type": "stream",
     "text": [
      "Setting up params\n",
      "\n",
      "max min f 25.0 0.5\n",
      " >> Context(max_t=2.0, dt=0.02, n_instances=100, note_length=0.03, bpm=120.0, tempo=500000, ticks_per_beat=480)\n",
      "Importing midi-data\n",
      "\n",
      "\u001b[92m [INFO] : \u001b[0m\n",
      " |  reading file: ../datasets/examples/simple-straight-120.mid\n",
      "\u001b[92m [INFO] : \u001b[0m\n",
      " |  reading file: ../datasets/examples/simple-shuffle-120.mid\n",
      "\n",
      "Encoding midi-data\n",
      " [<midi file '../datasets/examples/simple-straight-120.mid' type 0, 1 tracks, 68 messages>, <midi file '../datasets/examples/simple-shuffle-120.mid' type 0, 1 tracks, 68 messages>]\n",
      "> -> multi-track = True\n",
      "\u001b[92m [INFO] : \u001b[0m\n",
      " |  reduced dims:\n",
      " |  (2, 100, 1)\n"
     ]
    }
   ],
   "source": [
    "n = 2\n",
    "dim4 = True\n",
    "multiTrack = True\n",
    "context, x_train, labels = data.import_data(data.init(), n, dim4=dim4, multiTrack=multiTrack)"
   ]
  },
  {
   "cell_type": "code",
   "execution_count": null,
   "metadata": {},
   "outputs": [],
   "source": [
    "n = 1000\n",
    "min_f = -4 # normalized to 0\n",
    "max_f = 4\n",
    "x_train, params = g.gen_data_complex(context, n, max_f=max_f, min_f=min_f,\n",
    "    n_polyrythms=2,\n",
    "    n_channels=4,\n",
    "    d_phase=False,\n",
    "    return_params=True,\n",
    "    dim4=dim4,\n",
    "    multiTrack=multiTrack)"
   ]
  },
  {
   "cell_type": "code",
   "execution_count": null,
   "metadata": {},
   "outputs": [],
   "source": [
    "x_train.shape"
   ]
  },
  {
   "cell_type": "code",
   "execution_count": null,
   "metadata": {},
   "outputs": [],
   "source": [
    "m = int(x_train.shape[0] * 0.9)\n",
    "[x_train.shape, m]"
   ]
  },
  {
   "cell_type": "code",
   "execution_count": null,
   "metadata": {},
   "outputs": [],
   "source": [
    "x_test = x_train[m:]\n",
    "x_train = x_train[:m]"
   ]
  },
  {
   "cell_type": "code",
   "execution_count": null,
   "metadata": {},
   "outputs": [],
   "source": [
    "plot.single(x_train[0, :50,:,0])\n",
    "plot.single(x_train[1, :50,:,0])\n",
    "plot.single(x_train[2, :50,:,0])"
   ]
  },
  {
   "cell_type": "code",
   "execution_count": null,
   "metadata": {},
   "outputs": [],
   "source": [
    "input_shape = x_train[0].shape\n",
    "timesteps = input_shape[0]\n",
    "notes = input_shape[1]\n",
    "input_shape"
   ]
  },
  {
   "cell_type": "code",
   "execution_count": null,
   "metadata": {},
   "outputs": [],
   "source": [
    "latent_dim = 2\n",
    "intermediate_dim = 128\n",
    "epsilon_std = 1.0"
   ]
  },
  {
   "cell_type": "code",
   "execution_count": 19,
   "metadata": {},
   "outputs": [],
   "source": [
    "def encoder(input_size, dropout=0.1):\n",
    "    encoder_input = Input(shape=input_size)\n",
    "    \n",
    "    # Convolve & Pool\n",
    "    h = encoder_input\n",
    "    h = Reshape(input_shape[:-1])(h)\n",
    "    h = Conv1D(32, kernel_size=2, strides=2, activation='relu', padding='same')(h)\n",
    "    h = Conv1D(32, kernel_size=2, strides=1, activation='relu', padding='same')(h)\n",
    "    h = Conv1D(64, kernel_size=2, strides=2, activation='relu', padding='same')(h)\n",
    "    h = Conv1D(64, kernel_size=2, strides=1, activation='relu', padding='same')(h)\n",
    "    #     x = AveragePooling2D((2, 2))(x)\n",
    "    h = Conv1D(128, kernel_size=2, strides=2, activation='relu', padding='same')(h)\n",
    "\n",
    "    # Dense layers\n",
    "    h = Dropout(dropout)(h) # uncomment when using larger batches\n",
    "    h = Flatten()(h)\n",
    "    h = Dense(intermediate_dim, activation='relu')(h)\n",
    "    # h = Dense(intermediate_dim, activation='relu', kernel_regularizer=k_reg, activity_regularizer=a_reg)(h)\n",
    "    \n",
    "#     x = Reshape((-1, 1, 1))(x)\n",
    "\n",
    "    h = Reshape((-1, intermediate_dim))(h)\n",
    "    n_capsules = 10\n",
    "    capsule_dim = 10\n",
    "    n_routings = 3\n",
    "    share_weights = True\n",
    "    h = Capsule(n_capsules, capsule_dim, n_routings, share_weights)(h)\n",
    "\n",
    "    # h = Lambda(lambda z: K.sqrt(K.sum(K.square(z), 2)))(h)\n",
    "    h = Reshape((n_capsules * capsule_dim,))(h)\n",
    "    \n",
    "    # Z Mean, Variance - no activation? TODO\n",
    "    z_mean = Dense(latent_dim, name='z_mean')(h) # , activation='relu'\n",
    "    z_log_var = Dense(latent_dim, name='z_log_var')(h) # , activation='relu'\n",
    "\n",
    "    encoder_output = [z_mean, z_log_var]\n",
    "    encoder_model = Model(encoder_input, encoder_output, name='encoder_model-')\n",
    "    return encoder_model, encoder_input, z_mean, z_log_var"
   ]
  },
  {
   "cell_type": "code",
   "execution_count": 20,
   "metadata": {},
   "outputs": [
    {
     "name": "stdout",
     "output_type": "stream",
     "text": [
      "shared weights, shape = (1, 128, 100) 12800\n",
      "__________________________________________________________________________________________________\n",
      "Layer (type)                    Output Shape         Param #     Connected to                     \n",
      "==================================================================================================\n",
      "input_1 (InputLayer)            (None, 100, 2, 1)    0                                            \n",
      "__________________________________________________________________________________________________\n",
      "reshape_1 (Reshape)             (None, 100, 2)       0           input_1[0][0]                    \n",
      "__________________________________________________________________________________________________\n",
      "conv1d_1 (Conv1D)               (None, 50, 32)       160         reshape_1[0][0]                  \n",
      "__________________________________________________________________________________________________\n",
      "conv1d_2 (Conv1D)               (None, 50, 32)       2080        conv1d_1[0][0]                   \n",
      "__________________________________________________________________________________________________\n",
      "conv1d_3 (Conv1D)               (None, 25, 64)       4160        conv1d_2[0][0]                   \n",
      "__________________________________________________________________________________________________\n",
      "conv1d_4 (Conv1D)               (None, 25, 64)       8256        conv1d_3[0][0]                   \n",
      "__________________________________________________________________________________________________\n",
      "conv1d_5 (Conv1D)               (None, 13, 128)      16512       conv1d_4[0][0]                   \n",
      "__________________________________________________________________________________________________\n",
      "dropout_1 (Dropout)             (None, 13, 128)      0           conv1d_5[0][0]                   \n",
      "__________________________________________________________________________________________________\n",
      "flatten_1 (Flatten)             (None, 1664)         0           dropout_1[0][0]                  \n",
      "__________________________________________________________________________________________________\n",
      "dense_1 (Dense)                 (None, 128)          213120      flatten_1[0][0]                  \n",
      "__________________________________________________________________________________________________\n",
      "reshape_2 (Reshape)             (None, 1, 128)       0           dense_1[0][0]                    \n",
      "__________________________________________________________________________________________________\n",
      "capsule_1 (Capsule)             (None, 10, 10)       12800       reshape_2[0][0]                  \n",
      "__________________________________________________________________________________________________\n",
      "reshape_3 (Reshape)             (None, 100)          0           capsule_1[0][0]                  \n",
      "__________________________________________________________________________________________________\n",
      "z_mean (Dense)                  (None, 2)            202         reshape_3[0][0]                  \n",
      "__________________________________________________________________________________________________\n",
      "z_log_var (Dense)               (None, 2)            202         reshape_3[0][0]                  \n",
      "==================================================================================================\n",
      "Total params: 257,492\n",
      "Trainable params: 257,492\n",
      "Non-trainable params: 0\n",
      "__________________________________________________________________________________________________\n"
     ]
    }
   ],
   "source": [
    "encoder_model, encoder_input, z_mean, z_log_var = encoder(input_shape)\n",
    "encoder_model.summary()"
   ]
  },
  {
   "cell_type": "code",
   "execution_count": 21,
   "metadata": {},
   "outputs": [],
   "source": [
    "sample_ = lambda args: models.sample(args, z_mean, z_log_var, latent_dim, epsilon_std)"
   ]
  },
  {
   "cell_type": "code",
   "execution_count": 22,
   "metadata": {},
   "outputs": [],
   "source": [
    "# z = Lambda(sampling)([z_mean, z_log_var])\n",
    "z_input = encoder_model(encoder_input)\n",
    "z_output = Lambda(sample_)(z_input)"
   ]
  },
  {
   "cell_type": "code",
   "execution_count": 23,
   "metadata": {},
   "outputs": [],
   "source": [
    "def list_decoders(output_shape, p='valid'):\n",
    "    # decoder_input = z_output\n",
    "    # h = decoder_input\n",
    "    # :output_shape = (timesteps, channels, channels) || (batches, filters, timesteps, channels)\n",
    "    # keras offers just Conv2DTranspose and not Conv1DTranspose\n",
    "    # - use 2D images during upsampling :: (timesteps, notes, channels) => (timesteps, notes, filters)\n",
    "    # - use 1D images to optimize reconstruction :: (timesteps, filters) => (timesteps, notes)\n",
    "    \n",
    "    # image_data_format = 'channels_last'\n",
    "    # goal shape: (timesteps, notes, channels)\n",
    "    # start with the 'reverse': lots of small imgs => few large img\n",
    "    \n",
    "    timesteps, notes, channels = output_shape\n",
    "    m = 4 # multiplier for dims\n",
    "    \n",
    "    # at the start of upsampling, the image-structure does not yet have to correspond to the goal structure \n",
    "    # ?TODO use y*y*y starting dims, may conv, and only then correct the structure (?)\n",
    "    output_shape = (timesteps, notes, channels)\n",
    "    \n",
    "    # we instantiate these layers separately so as to reuse them later\n",
    "    decoders = []\n",
    "    decoders += [ Dense(intermediate_dim, activation='relu') ]\n",
    "    decoders += [ Dense(intermediate_dim * 2, activation='relu') ]\n",
    "    decoders += [ Dense(np.prod(output_shape), activation='relu') ]\n",
    "#     decoders += [ Reshape(output_shape[-3:]) ]\n",
    "    \n",
    "    # Convolution\n",
    "    # Note that the kernel windows do not yet correspond to 'temporal' features, but rather to just spatial features\n",
    "    k = (3,2) # (2,1) :: (timesteps, notes)\n",
    "    s = (1,3)\n",
    "    timesteps_ = int(timesteps / 2)\n",
    "    \n",
    "#     decoders += [ Conv2DTranspose(timesteps_, kernel_size=k, strides=3, activation='relu', padding=p) ]\n",
    "#     decoders += [ Conv2DTranspose(32, kernel_size=k, strides=3, activation='relu', padding=p) ]\n",
    "#    # decoder += [Conv2DTranspose(32, kernel_size=k, strides=3, activation='relu', padding=p)]\n",
    "#     decoders += [ Conv2DTranspose(16, kernel_size=k, strides=(3,1), activation='relu', padding=p)]\n",
    "#     decoders += [ Conv2DTranspose(16, kernel_size=k, strides=3, activation='relu', padding=p)]\n",
    "    \n",
    "    # 'end' of upsampling\n",
    "#     decoders += [ Conv2D(1, kernel_size=(1,2), strides=1, activation='relu', padding=p) ]\n",
    "    # shape = ()\n",
    "    # decoder_reshape2 = Reshape(dims[0:2])\n",
    "    # #     h = Conv1D(16, kernel_size=2, strides=1, activation='relu', padding=p)(h)\n",
    "    # decoder_conv2 = Conv1D(notes * m, kernel_size=2, strides=2, activation='relu', padding=p)\n",
    "    \n",
    "    \n",
    "    # Mean (output)\n",
    "    # h = Conv2D(1, kernel_size=1, strides=s, activation='sigmoid', padding='same')(h)\n",
    "    output_shape = (timesteps, notes, channels)\n",
    "    \n",
    "#     decoders += [ Flatten()]\n",
    "    decoders += [ Dense(np.prod(output_shape), activation='sigmoid')]\n",
    "    decoders += [ Reshape(output_shape)]\n",
    "    return decoders"
   ]
  },
  {
   "cell_type": "code",
   "execution_count": 24,
   "metadata": {},
   "outputs": [],
   "source": [
    "decoders = list_decoders(input_shape)"
   ]
  },
  {
   "cell_type": "code",
   "execution_count": 25,
   "metadata": {},
   "outputs": [],
   "source": [
    "decoded = utils.composition(decoders, z_output, verbose=False)"
   ]
  },
  {
   "cell_type": "code",
   "execution_count": 26,
   "metadata": {},
   "outputs": [
    {
     "name": "stdout",
     "output_type": "stream",
     "text": [
      "__________________________________________________________________________________________________\n",
      "Layer (type)                    Output Shape         Param #     Connected to                     \n",
      "==================================================================================================\n",
      "input_1 (InputLayer)            (None, 100, 2, 1)    0                                            \n",
      "__________________________________________________________________________________________________\n",
      "encoder_model- (Model)          [(None, 2), (None, 2 257492      input_1[0][0]                    \n",
      "__________________________________________________________________________________________________\n",
      "lambda_2 (Lambda)               (None, 2)            0           encoder_model-[1][0]             \n",
      "                                                                 encoder_model-[1][1]             \n",
      "__________________________________________________________________________________________________\n",
      "dense_2 (Dense)                 (None, 128)          384         lambda_2[0][0]                   \n",
      "__________________________________________________________________________________________________\n",
      "dense_3 (Dense)                 (None, 384)          49536       dense_2[0][0]                    \n",
      "__________________________________________________________________________________________________\n",
      "dense_4 (Dense)                 (None, 200)          77000       dense_3[0][0]                    \n",
      "__________________________________________________________________________________________________\n",
      "dense_5 (Dense)                 (None, 200)          40200       dense_4[0][0]                    \n",
      "__________________________________________________________________________________________________\n",
      "reshape_4 (Reshape)             (None, 100, 2, 1)    0           dense_5[0][0]                    \n",
      "==================================================================================================\n",
      "Total params: 424,612\n",
      "Trainable params: 424,612\n",
      "Non-trainable params: 0\n",
      "__________________________________________________________________________________________________\n"
     ]
    }
   ],
   "source": [
    "# instantiate VAE model\n",
    "vae_input = encoder_input\n",
    "vae_output = decoded\n",
    "vae = Model(vae_input, vae_output)\n",
    "vae.summary()"
   ]
  },
  {
   "cell_type": "code",
   "execution_count": 27,
   "metadata": {
    "scrolled": true
   },
   "outputs": [
    {
     "name": "stderr",
     "output_type": "stream",
     "text": [
      "/usr/local/lib/python3.6/site-packages/ipykernel_launcher.py:11: UserWarning: Output \"reshape_4\" missing from loss dictionary. We assume this was done on purpose, and we will not be expecting any data to be passed to \"reshape_4\" during training.\n",
      "  # This is added back by InteractiveShellApp.init_path()\n"
     ]
    }
   ],
   "source": [
    "# Compute VAE loss\n",
    "def vae_loss(beta=1.):\n",
    "    # y_true, y_pred, z_mean, z_log_var, timesteps=150, notes=3, beta=1.\n",
    "    xent_loss = timesteps * notes * keras.metrics.binary_crossentropy(K.flatten(vae_input), K.flatten(vae_output))\n",
    "    kl_loss = - 0.5 * K.sum(1 + z_log_var - K.square(z_mean) - K.exp(z_log_var), axis=-1)\n",
    "    vae_loss = K.mean(xent_loss + kl_loss)\n",
    "    return vae_loss\n",
    "\n",
    "vae_loss = vae_loss()\n",
    "vae.add_loss(vae_loss)\n",
    "vae.compile(optimizer='rmsprop')\n",
    "# vae.compile(optimizer=optimizer, loss=loss, metrics=metrics)"
   ]
  },
  {
   "cell_type": "code",
   "execution_count": 28,
   "metadata": {},
   "outputs": [],
   "source": [
    "# train the VAE on MNIST digits\n",
    "# (x_train, _), (x_test, y_test) = mnist.load_data()"
   ]
  },
  {
   "cell_type": "code",
   "execution_count": 29,
   "metadata": {},
   "outputs": [
    {
     "data": {
      "text/plain": [
       "(900, 100, 2, 1)"
      ]
     },
     "execution_count": 29,
     "metadata": {},
     "output_type": "execute_result"
    }
   ],
   "source": [
    "x_train.shape"
   ]
  },
  {
   "cell_type": "code",
   "execution_count": 30,
   "metadata": {},
   "outputs": [
    {
     "name": "stdout",
     "output_type": "stream",
     "text": [
      "x_train.shape: (900, 100, 2, 1)\n"
     ]
    }
   ],
   "source": [
    "print('x_train.shape:', x_train.shape)"
   ]
  },
  {
   "cell_type": "code",
   "execution_count": 31,
   "metadata": {},
   "outputs": [],
   "source": [
    "batch_size = 100\n",
    "epochs = 50\n",
    "params = {'batch_size': batch_size, 'return_y': False}"
   ]
  },
  {
   "cell_type": "code",
   "execution_count": 32,
   "metadata": {},
   "outputs": [],
   "source": [
    "# phase_mod = 0.1\n",
    "# whitening = False\n",
    "\n",
    "# datagen = ImageDataGenerator(\n",
    "#         featurewise_center=False,  # set input mean to 0 over the dataset\n",
    "#         samplewise_center=False,  # set each sample mean to 0\n",
    "#         featurewise_std_normalization=False,  # divide inputs by dataset std\n",
    "#         samplewise_std_normalization=False,  # divide each input by its std\n",
    "# #         zca_epsilon=10,\n",
    "#         zca_whitening=whitening,\n",
    "#         rotation_range=0,  # randomly rotate images in 0 to 180 degrees\n",
    "#         width_shift_range=0.,  # note-channel mod, but not shuffled\n",
    "#         height_shift_range=phase_mod,  # start_t, phase\n",
    "#         horizontal_flip=False,  # reverse\n",
    "#         vertical_flip=False)\n",
    "\n",
    "# # datagen.fit(x_train)"
   ]
  },
  {
   "cell_type": "code",
   "execution_count": 33,
   "metadata": {},
   "outputs": [
    {
     "data": {
      "text/plain": [
       "(900, 100, 2, 1)"
      ]
     },
     "execution_count": 33,
     "metadata": {},
     "output_type": "execute_result"
    }
   ],
   "source": [
    "x_train.shape"
   ]
  },
  {
   "cell_type": "code",
   "execution_count": 34,
   "metadata": {
    "scrolled": true
   },
   "outputs": [
    {
     "name": "stdout",
     "output_type": "stream",
     "text": [
      "batch_size = 100\n",
      "Train on 900 samples, validate on 100 samples\n",
      "Epoch 1/50\n",
      "900/900 [==============================] - 1s 1ms/step - loss: 88.2226 - val_loss: 77.2640\n",
      "Epoch 2/50\n",
      "900/900 [==============================] - 1s 743us/step - loss: 75.5850 - val_loss: 74.3666\n",
      "Epoch 3/50\n",
      "900/900 [==============================] - 1s 645us/step - loss: 73.0963 - val_loss: 72.9151\n",
      "Epoch 4/50\n",
      "900/900 [==============================] - 1s 723us/step - loss: 72.6136 - val_loss: 73.4020\n",
      "Epoch 5/50\n",
      "900/900 [==============================] - 1s 795us/step - loss: 72.6104 - val_loss: 73.1016\n",
      "Epoch 6/50\n",
      "900/900 [==============================] - 1s 817us/step - loss: 72.5476 - val_loss: 72.8893\n",
      "Epoch 7/50\n",
      "900/900 [==============================] - 1s 626us/step - loss: 72.4868 - val_loss: 73.9433\n",
      "Epoch 8/50\n",
      "900/900 [==============================] - 1s 706us/step - loss: 72.4759 - val_loss: 72.3851\n",
      "Epoch 9/50\n",
      "900/900 [==============================] - 1s 651us/step - loss: 72.4626 - val_loss: 73.0978\n",
      "Epoch 10/50\n",
      "900/900 [==============================] - 1s 644us/step - loss: 72.4688 - val_loss: 72.6863\n",
      "Epoch 11/50\n",
      "900/900 [==============================] - 1s 821us/step - loss: 72.4466 - val_loss: 72.6534\n",
      "Epoch 12/50\n",
      "900/900 [==============================] - 1s 775us/step - loss: 72.4768 - val_loss: 72.4264\n",
      "Epoch 13/50\n",
      "900/900 [==============================] - 1s 719us/step - loss: 72.4147 - val_loss: 72.9570\n",
      "Epoch 14/50\n",
      "900/900 [==============================] - 1s 610us/step - loss: 72.4108 - val_loss: 72.6626\n",
      "Epoch 15/50\n",
      "900/900 [==============================] - 1s 788us/step - loss: 72.3792 - val_loss: 72.5131\n",
      "Epoch 16/50\n",
      "900/900 [==============================] - 1s 782us/step - loss: 72.3744 - val_loss: 72.2953\n",
      "Epoch 17/50\n",
      "900/900 [==============================] - 1s 689us/step - loss: 72.3695 - val_loss: 72.3462\n",
      "Epoch 18/50\n",
      "900/900 [==============================] - 1s 615us/step - loss: 72.3527 - val_loss: 72.2629\n",
      "Epoch 19/50\n",
      "900/900 [==============================] - 1s 650us/step - loss: 72.3754 - val_loss: 72.1907\n",
      "Epoch 20/50\n",
      "900/900 [==============================] - 1s 623us/step - loss: 72.3223 - val_loss: 72.8074\n",
      "Epoch 21/50\n",
      "900/900 [==============================] - 1s 652us/step - loss: 72.3295 - val_loss: 72.3146\n",
      "Epoch 22/50\n",
      "900/900 [==============================] - 1s 633us/step - loss: 72.3196 - val_loss: 72.5102\n",
      "Epoch 23/50\n",
      "900/900 [==============================] - 1s 708us/step - loss: 72.2769 - val_loss: 72.4160\n",
      "Epoch 24/50\n",
      "900/900 [==============================] - 1s 681us/step - loss: 72.3411 - val_loss: 72.7497\n",
      "Epoch 25/50\n",
      "900/900 [==============================] - 1s 656us/step - loss: 72.2622 - val_loss: 72.2849\n",
      "Epoch 26/50\n",
      "900/900 [==============================] - 1s 647us/step - loss: 72.3042 - val_loss: 72.7532\n",
      "Epoch 27/50\n",
      "900/900 [==============================] - 1s 675us/step - loss: 72.2882 - val_loss: 72.3761\n",
      "Epoch 28/50\n",
      "900/900 [==============================] - 1s 606us/step - loss: 72.2717 - val_loss: 72.5472\n",
      "Epoch 29/50\n",
      "900/900 [==============================] - 1s 705us/step - loss: 72.2733 - val_loss: 72.0778\n",
      "Epoch 30/50\n",
      "900/900 [==============================] - 1s 706us/step - loss: 72.2404 - val_loss: 72.3161\n",
      "Epoch 31/50\n",
      "900/900 [==============================] - 1s 793us/step - loss: 72.1960 - val_loss: 72.2109\n",
      "Epoch 32/50\n",
      "900/900 [==============================] - 1s 635us/step - loss: 72.1795 - val_loss: 72.7400\n",
      "Epoch 33/50\n",
      "900/900 [==============================] - 1s 637us/step - loss: 72.1023 - val_loss: 72.1643\n",
      "Epoch 34/50\n",
      "900/900 [==============================] - 1s 649us/step - loss: 71.9387 - val_loss: 71.9694\n",
      "Epoch 35/50\n",
      "900/900 [==============================] - 1s 678us/step - loss: 71.7301 - val_loss: 71.9238\n",
      "Epoch 36/50\n",
      "900/900 [==============================] - 1s 646us/step - loss: 71.6585 - val_loss: 71.8294\n",
      "Epoch 37/50\n",
      "900/900 [==============================] - 1s 628us/step - loss: 71.5836 - val_loss: 71.8878\n",
      "Epoch 38/50\n",
      "900/900 [==============================] - 1s 729us/step - loss: 71.5615 - val_loss: 71.7933\n",
      "Epoch 39/50\n",
      "900/900 [==============================] - 1s 714us/step - loss: 71.4766 - val_loss: 72.1377\n",
      "Epoch 40/50\n",
      "900/900 [==============================] - 1s 618us/step - loss: 71.4814 - val_loss: 72.0642\n",
      "Epoch 41/50\n",
      "900/900 [==============================] - 1s 634us/step - loss: 71.6590 - val_loss: 72.0840\n",
      "Epoch 42/50\n",
      "900/900 [==============================] - 1s 667us/step - loss: 71.6025 - val_loss: 72.2457\n",
      "Epoch 43/50\n",
      "900/900 [==============================] - 1s 633us/step - loss: 71.3295 - val_loss: 71.7385\n",
      "Epoch 44/50\n",
      "900/900 [==============================] - 1s 653us/step - loss: 71.3128 - val_loss: 71.8607\n",
      "Epoch 45/50\n",
      "900/900 [==============================] - 1s 630us/step - loss: 71.4097 - val_loss: 72.1380\n",
      "Epoch 46/50\n",
      "900/900 [==============================] - 1s 689us/step - loss: 71.3544 - val_loss: 71.9497\n",
      "Epoch 47/50\n",
      "900/900 [==============================] - 1s 703us/step - loss: 71.4763 - val_loss: 71.6017\n",
      "Epoch 48/50\n",
      "900/900 [==============================] - 1s 655us/step - loss: 71.1881 - val_loss: 71.8057\n",
      "Epoch 49/50\n",
      "900/900 [==============================] - 1s 675us/step - loss: 71.2556 - val_loss: 71.7729\n",
      "Epoch 50/50\n",
      "900/900 [==============================] - 1s 599us/step - loss: 71.1510 - val_loss: 71.5365\n"
     ]
    }
   ],
   "source": [
    "useDataGenerator = False\n",
    "# useDataGenerator = True\n",
    "\n",
    "print('batch_size =', batch_size)\n",
    "if useDataGenerator:\n",
    "    datagen = models.ImageDataGenerator(x_train, batch_size)\n",
    "    history = collections.defaultdict(list)\n",
    "    n_batches = datagen.__len__()\n",
    "    for e in range(epochs):\n",
    "        print('[Epoch %i]' % e)\n",
    "        for batch_i, (x_batch, y_batch) in enumerate(datagen.flow(x_train, x_train, batch_size)):\n",
    "            print(' Batch %i/%i' % (batch_i,n_batches))\n",
    "            x = datagen.shuffle_3rd_dim(x_batch)\n",
    "            h = vae.fit(x, verbose=1)\n",
    "            for k,v in h.history.items(): \n",
    "                history[k].append(v)\n",
    "            if batch_i >= n_batches:\n",
    "                break\n",
    "#     history = vae.fit_generator(\n",
    "#         X, epochs=epochs, steps_per_epoch=X.__len__(),\n",
    "#         use_multiprocessing=True, workers=2,\n",
    "#         validation_data=(x_test, None))\n",
    "else:\n",
    "    h = vae.fit(x_train, epochs=epochs, validation_data=(x_test, None))\n",
    "    history = h.history"
   ]
  },
  {
   "cell_type": "code",
   "execution_count": 35,
   "metadata": {},
   "outputs": [
    {
     "data": {
      "text/plain": [
       "[<matplotlib.lines.Line2D at 0x1233c2dd8>]"
      ]
     },
     "execution_count": 35,
     "metadata": {},
     "output_type": "execute_result"
    },
    {
     "data": {
      "image/png": "[encoded data removed]",
      "text/plain": [
       "<matplotlib.figure.Figure at 0x1233c2cc0>"
      ]
     },
     "metadata": {},
     "output_type": "display_data"
    }
   ],
   "source": [
    "plt.plot(history['loss'])\n",
    "plt.plot(history['val_loss'])"
   ]
  },
  {
   "cell_type": "code",
   "execution_count": 36,
   "metadata": {},
   "outputs": [
    {
     "name": "stdout",
     "output_type": "stream",
     "text": [
      "m (50, 2)\n"
     ]
    },
    {
     "data": {
      "image/png": "[encoded data removed]",
      "text/plain": [
       "<matplotlib.figure.Figure at 0x1254fb940>"
      ]
     },
     "metadata": {},
     "output_type": "display_data"
    },
    {
     "name": "stdout",
     "output_type": "stream",
     "text": [
      "m (50, 2)\n"
     ]
    },
    {
     "data": {
      "image/png": "[encoded data removed]",
      "text/plain": [
       "<matplotlib.figure.Figure at 0x1254e8438>"
      ]
     },
     "metadata": {},
     "output_type": "display_data"
    }
   ],
   "source": [
    "i = 0\n",
    "x = vae.predict(x_train[:10])\n",
    "plot.single(x_train[i, :50, :, 0])\n",
    "plot.single(x[i, :50, :, 0])"
   ]
  },
  {
   "cell_type": "code",
   "execution_count": 37,
   "metadata": {},
   "outputs": [
    {
     "data": {
      "text/plain": [
       "(10, 100, 2, 1)"
      ]
     },
     "execution_count": 37,
     "metadata": {},
     "output_type": "execute_result"
    }
   ],
   "source": [
    "x.shape"
   ]
  },
  {
   "cell_type": "code",
   "execution_count": 38,
   "metadata": {},
   "outputs": [
    {
     "name": "stdout",
     "output_type": "stream",
     "text": [
      "m (30, 2)\n"
     ]
    },
    {
     "data": {
      "image/png": "[encoded data removed]",
      "text/plain": [
       "<matplotlib.figure.Figure at 0x1106b76a0>"
      ]
     },
     "metadata": {},
     "output_type": "display_data"
    }
   ],
   "source": [
    "# interpolate - mean\n",
    "m = x.mean(axis=0)\n",
    "plot.single(m[:30,:,0])"
   ]
  },
  {
   "cell_type": "code",
   "execution_count": 39,
   "metadata": {},
   "outputs": [
    {
     "name": "stdout",
     "output_type": "stream",
     "text": [
      "m (30, 2)\n"
     ]
    },
    {
     "data": {
      "image/png": "[encoded data removed]",
      "text/plain": [
       "<matplotlib.figure.Figure at 0x1106bf588>"
      ]
     },
     "metadata": {},
     "output_type": "display_data"
    }
   ],
   "source": [
    "# interpolate - min: these pixels are 'always' active\n",
    "m = x.min(axis=0)\n",
    "plot.multi(m[:30,:,0])"
   ]
  },
  {
   "cell_type": "code",
   "execution_count": 40,
   "metadata": {},
   "outputs": [],
   "source": [
    "# build a model to project inputs on the latent space\n",
    "encoder = Model(encoder_input, z_mean)"
   ]
  },
  {
   "cell_type": "code",
   "execution_count": 41,
   "metadata": {},
   "outputs": [
    {
     "data": {
      "text/plain": [
       "(100, 100, 2, 1)"
      ]
     },
     "execution_count": 41,
     "metadata": {},
     "output_type": "execute_result"
    }
   ],
   "source": [
    "x_test.shape"
   ]
  },
  {
   "cell_type": "code",
   "execution_count": 42,
   "metadata": {},
   "outputs": [
    {
     "data": {
      "text/plain": [
       "(100, 2)"
      ]
     },
     "execution_count": 42,
     "metadata": {},
     "output_type": "execute_result"
    }
   ],
   "source": [
    "m = 100\n",
    "x_train_encoded = encoder.predict(x_train[:m], batch_size=batch_size)\n",
    "x_train_encoded.shape"
   ]
  },
  {
   "cell_type": "code",
   "execution_count": 46,
   "metadata": {},
   "outputs": [
    {
     "data": {
      "text/plain": [
       "<matplotlib.collections.PathCollection at 0x1236bad30>"
      ]
     },
     "execution_count": 46,
     "metadata": {},
     "output_type": "execute_result"
    },
    {
     "data": {
      "image/png": "[encoded data removed]",
      "text/plain": [
       "<matplotlib.figure.Figure at 0x123592940>"
      ]
     },
     "metadata": {},
     "output_type": "display_data"
    }
   ],
   "source": [
    "# y_test = range(x_train_encoded.shape[0])\n",
    "y_test = np.concatenate([list(range(n)) for _ in range(int(m/n)+1)])[:m] / n\n",
    "plt.figure(figsize=(6, 6))\n",
    "plt.scatter(x_train_encoded[:, 0], x_train_encoded[:, 1], c=y_test, alpha=0.6, s=30)"
   ]
  },
  {
   "cell_type": "code",
   "execution_count": 44,
   "metadata": {},
   "outputs": [
    {
     "data": {
      "image/png": "[encoded data removed]",
      "text/plain": [
       "<matplotlib.figure.Figure at 0x12542cb70>"
      ]
     },
     "metadata": {},
     "output_type": "display_data"
    }
   ],
   "source": [
    "# display a 2D plot of the digit classes in the latent space\n",
    "x_test_encoded = encoder.predict(x_test, batch_size=batch_size)\n",
    "plt.figure(figsize=(6, 6))\n",
    "plt.scatter(x_test_encoded[:, 0], x_test_encoded[:, 1], c=y_test)\n",
    "plt.colorbar()\n",
    "plt.show()"
   ]
  },
  {
   "cell_type": "code",
   "execution_count": null,
   "metadata": {},
   "outputs": [],
   "source": [
    "# build a digit generator that can sample from the learned distribution\n",
    "decoder_input = Input(shape=(latent_dim,))\n",
    "_decoded = utils.composition(decoders, decoder_input, verbose=False)\n",
    "generator = Model(decoder_input, _decoded)"
   ]
  },
  {
   "cell_type": "code",
   "execution_count": null,
   "metadata": {},
   "outputs": [],
   "source": [
    "# x_decoded[0].reshape(150,3)"
   ]
  },
  {
   "cell_type": "code",
   "execution_count": null,
   "metadata": {},
   "outputs": [],
   "source": [
    "# display a 2D manifold of the digits\n",
    "n = 3  # figure with 15x15 digits\n",
    "digit_size1 = x_decoded.shape[-2]\n",
    "digit_size2 = x_decoded.shape[-1]\n",
    "figure = np.zeros((digit_size1 * n, digit_size1 * n))\n",
    "# linearly spaced coordinates on the unit square were transformed through the inverse CDF (ppf) of the Gaussian\n",
    "# to produce values of the latent variables z, since the prior of the latent space is Gaussian\n",
    "grid_x = norm.ppf(np.linspace(0.05, 0.95, n))\n",
    "grid_y = norm.ppf(np.linspace(0.05, 0.95, n))\n",
    "\n",
    "for i, yi in enumerate(grid_x):\n",
    "    for j, xi in enumerate(grid_y):\n",
    "        z_sample = np.array([[xi, yi]])\n",
    "        z_sample = np.tile(z_sample, batch_size).reshape(batch_size, 2)\n",
    "        x_decoded = generator.predict(z_sample, batch_size=batch_size)\n",
    "        digit = x_decoded[0].reshape(digit_size1, digit_size2)\n",
    "        figure[i * digit_size1: (i + 1) * digit_size1,\n",
    "               j * digit_size2: (j + 1) * digit_size2] = digit\n",
    "\n",
    "plt.figure(figsize=(10, 10))\n",
    "plt.imshow(figure, cmap='Greys_r')\n",
    "plt.show()"
   ]
  },
  {
   "cell_type": "code",
   "execution_count": null,
   "metadata": {},
   "outputs": [],
   "source": []
  },
  {
   "cell_type": "code",
   "execution_count": null,
   "metadata": {},
   "outputs": [],
   "source": []
  },
  {
   "cell_type": "code",
   "execution_count": null,
   "metadata": {},
   "outputs": [],
   "source": []
  },
  {
   "cell_type": "code",
   "execution_count": null,
   "metadata": {},
   "outputs": [],
   "source": []
  },
  {
   "cell_type": "code",
   "execution_count": null,
   "metadata": {},
   "outputs": [],
   "source": []
  },
  {
   "cell_type": "code",
   "execution_count": null,
   "metadata": {},
   "outputs": [],
   "source": []
  }
 ],
 "metadata": {
  "kernelspec": {
   "display_name": "Python 3",
   "language": "python",
   "name": "python3"
  },
  "language_info": {
   "codemirror_mode": {
    "name": "ipython",
    "version": 3
   },
   "file_extension": ".py",
   "mimetype": "text/x-python",
   "name": "python",
   "nbconvert_exporter": "python",
   "pygments_lexer": "ipython3",
   "version": "3.6.5"
  }
 },
 "nbformat": 4,
 "nbformat_minor": 2
}
