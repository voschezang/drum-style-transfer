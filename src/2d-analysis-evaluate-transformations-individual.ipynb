{
 "cells": [
  {
   "cell_type": "code",
   "execution_count": 1,
   "metadata": {},
   "outputs": [
    {
     "name": "stderr",
     "output_type": "stream",
     "text": [
      "/usr/local/lib/python3.6/site-packages/h5py/__init__.py:36: FutureWarning: Conversion of the second argument of issubdtype from `float` to `np.floating` is deprecated. In future, it will be treated as `np.float64 == np.dtype(float).type`.\n",
      "  from ._conv import register_converters as _register_converters\n",
      "Using Theano backend.\n"
     ]
    }
   ],
   "source": [
    "from __future__ import division\n",
    "\n",
    "import collections\n",
    "import numpy as np\n",
    "import matplotlib.pyplot as plt\n",
    "from scipy.stats import norm\n",
    "from sklearn.decomposition import PCA\n",
    "\n",
    "## NN libs\n",
    "import keras\n",
    "from keras import backend as K\n",
    "from keras import regularizers\n",
    "from keras.utils import to_categorical\n",
    "from keras.optimizers import SGD, Adam\n",
    "from keras.layers import *\n",
    "from keras.preprocessing.image import ImageDataGenerator\n",
    "from keras.models import Model\n",
    "from keras.callbacks import TensorBoard"
   ]
  },
  {
   "cell_type": "code",
   "execution_count": 2,
   "metadata": {},
   "outputs": [],
   "source": [
    "import config\n",
    "import os, numpy as np, pandas, sklearn, scipy.signal as signal\n",
    "import mido\n",
    "import matplotlib.pyplot as plt\n",
    "%matplotlib inline"
   ]
  },
  {
   "cell_type": "code",
   "execution_count": 3,
   "metadata": {},
   "outputs": [],
   "source": [
    "# local libs\n",
    "import config, models, setup, compression, ncd_evaluation\n",
    "import midi\n",
    "import midi.decode\n",
    "from midi import generators as g\n",
    "from utils import io, models_io, utils, plot, string\n",
    "from capsule.layers import Capsule, Length\n",
    "from capsule.capsulefunctions import squash, softmax, margin_loss"
   ]
  },
  {
   "cell_type": "code",
   "execution_count": 4,
   "metadata": {},
   "outputs": [
    {
     "name": "stdout",
     "output_type": "stream",
     "text": [
      " Context :: namedtuple(\n",
      "[ max_t = float\n",
      ", dt = float\n",
      ", n_timestesp = int\n",
      ", note_length = int\n",
      ", bpm = float\n",
      ", tempo = float\n",
      ", ticks_per_beat = int\n",
      "]\n",
      "\n",
      "Setting up params\n",
      "\n",
      "max min f 20.0 0.25\n",
      " >> Context(max_t=4.0, dt=0.025, n_timesteps=160, note_length=0.03, bpm=120.0, tempo=500000, ticks_per_beat=480)\n",
      " sample length:  160.000000\n",
      " max_f: 20.000000, min_f: 0.250000\n"
     ]
    }
   ],
   "source": [
    "context = setup.init(max_bars=4)"
   ]
  },
  {
   "cell_type": "code",
   "execution_count": 5,
   "metadata": {
    "scrolled": true
   },
   "outputs": [
    {
     "name": "stdout",
     "output_type": "stream",
     "text": [
      "\n",
      "Importing midi-data\n",
      "walk_and_search(../datasets/drum_midi/)\n",
      "path ../datasets/drum_midi/\n",
      "path ../datasets/drum_midi/50´s Drummer MIDI Files\n",
      "path ../datasets/drum_midi/50´s Drummer MIDI Files/01 Rock'n'Roll\n",
      "path ../datasets/drum_midi/50´s Drummer MIDI Files/01 Rock'n'Roll/01 Dancin Rick 166BPM\n",
      "  01 8th Hat.mid\n",
      "  02 8th Ride.mid\n",
      "  03 16th Snare.mid\n",
      "  04 8th Ride.mid\n",
      "  05 16th Ride.mid\n",
      "  06 16th Ride.mid\n",
      "  07 16th Ride.mid\n",
      "path ../datasets/drum_midi/50´s Drummer MIDI Files/01 Rock'n'Roll/02 Gogo 191BPM\n",
      "  01 8th Hat.mid\n",
      "  02 8th Snare.mid\n",
      "  03 4th Snare .mid\n",
      "  04 8th Ride.mid\n",
      "  05 8th Snare.mid\n",
      "  06 8th Toms.mid\n",
      "  07 8th Toms.mid\n",
      "path ../datasets/drum_midi/50´s Drummer MIDI Files/01 Rock'n'Roll/03 Lips n Hips 152BPM\n",
      "  01 8th Perc.mid\n",
      "  02 8th Ride.mid\n",
      "  03 8th Ride .mid\n",
      "  04 8th Snare.mid\n",
      "  05 8th Snare.mid\n",
      "  06 8th Hat.mid\n",
      "  07 8th Snare.mid\n",
      "path ../datasets/drum_midi/50´s Drummer MIDI Files/01 Rock'n'Roll/04 Maybelline 233BPM\n",
      "  01 8th Snare.mid\n",
      "  02 8th Cym.mid\n",
      "  03 8th Ride.mid\n",
      "  04 16th Snare.mid\n",
      "  05 16th Hat.mid\n",
      "  06 16th Toms.mid\n",
      "  07 16th Ride.mid\n",
      "path ../datasets/drum_midi/50´s Drummer MIDI Files/01 Rock'n'Roll/05 Straight Line 136BPM\n",
      "  01 8th Hat.mid\n",
      "  02 8th Ride.mid\n",
      "  03 8th Ride.mid\n",
      "  04 8th Perc.mid\n",
      "  05 8th Ride.mid\n",
      "  06 8th hat.mid\n",
      "  07 8th Toms.mid\n",
      "path ../datasets/drum_midi/50´s Drummer MIDI Files/01 Rock'n'Roll/06 Moonglow 140BPM\n",
      "  01 8th Hat.mid\n",
      "  02 8th Hat.mid\n",
      "  03 8th Ride.mid\n",
      "  04 8th Perc.mid\n",
      "  05 8th Hat.mid\n",
      "  06 8th Perc.mid\n",
      "  07 8th Perc.mid\n",
      "path ../datasets/drum_midi/50´s Drummer MIDI Files/01 Rock'n'Roll/07 Thwag 170BPM\n",
      "  01 8th Ride.mid\n",
      "  02 8th Hat.mid\n",
      "  03 8th Hat.mid\n",
      "  04 8th Ride.mid\n",
      "  05 8th Cym.mid\n",
      "  06 8th Cym.mid\n",
      "  07 8th Cym.mid\n",
      "path ../datasets/drum_midi/50´s Drummer MIDI Files/01 Rock'n'Roll/08 Doowoop 140bpm\n",
      "  01 16th Snare.mid\n",
      "  02 16th Snare.mid\n",
      "  03 16th Snare.mid\n",
      "  04 16th Snare.mid\n",
      "  05 16th Snare.mid\n",
      "  06 16th Perc.mid\n",
      "  07 16th Perc.mid\n",
      "path ../datasets/drum_midi/50´s Drummer MIDI Files/01 Rock'n'Roll/09 Diddeley 185bpm\n",
      "  01 4th Ride.mid\n",
      "  02 4th Ride.mid\n",
      "  03 4th Ride.mid\n",
      "  04 4th Hat.mid\n",
      "  05 8th Multi.mid\n",
      "  06 8th Multi.mid\n",
      "  07 8th Multi.mid\n",
      "path ../datasets/drum_midi/50´s Drummer MIDI Files/01 Rock'n'Roll/10 Ottis 172bpm\n",
      "  01 8th Hat.mid\n",
      "  02 8th Ride.mid\n",
      "  03 8th Cym.mid\n",
      "  04 8th Toms.mid\n",
      "  05 8th Toms.mid\n",
      "  06 8th Multi.mid\n",
      "  07 8th Multi.mid\n",
      "path ../datasets/drum_midi/50´s Drummer MIDI Files/02 Blues\n",
      "path ../datasets/drum_midi/50´s Drummer MIDI Files/02 Blues/01 Booze 92BPM\n",
      "  01 8th Hat.mid\n",
      "  02 8th Snare.mid\n",
      "  03 8th Perc.mid\n",
      "  04 8th Ride.mid\n",
      "  05 8th Hat.mid\n",
      "  06 8th Toms.mid\n",
      "  07 8th Hat.mid\n",
      "path ../datasets/drum_midi/50´s Drummer MIDI Files/02 Blues/02 Nappy Brown 160BPM\n",
      "  01 8th Hat.mid\n",
      "  02 8th Ride.mid\n",
      "  03 8th Perc.mid\n",
      "  04 8th Perc.mid\n",
      "  05 8th Cym.mid\n",
      "  06 8th Perc.mid\n",
      "  07 8th Hat.mid\n",
      "path ../datasets/drum_midi/50´s Drummer MIDI Files/02 Blues/03 Noton Bull 192BPM 12-8 Brushes\n",
      "  01 4th Multi.mid\n",
      "  02 4th Multi.mid\n",
      "  03 4th Snare.mid\n",
      "  04 4th Perc.mid\n",
      "  04 4th Snare.mid\n",
      "  06 4th Multi.mid\n",
      "  07 4th Mulit.mid\n",
      "path ../datasets/drum_midi/50´s Drummer MIDI Files/02 Blues/04 Mickeys 212BPM 12-8\n",
      "  01 8th Hat.mid\n",
      "  02 8th Hat.mid\n",
      "  03 8th Cym.mid\n",
      "  04 8th Toms.mid\n",
      "  05 8th Ride.mid\n",
      "  06 8th Multi.mid\n",
      "  07 8th perc.mid\n",
      "path ../datasets/drum_midi/50´s Drummer MIDI Files/02 Blues/05 Cadillac 128BPM\n",
      "  01 8th Hat.mid\n",
      "  02 8th Hat.mid\n",
      "  03 8th Ride.mid\n",
      "  04 8th Perc.mid\n",
      "  05 8th Perc.mid\n",
      "  06 8th Perc.mid\n",
      "  07 8th Perc.mid\n",
      "path ../datasets/drum_midi/50´s Drummer MIDI Files/02 Blues/06 Vidar Vega 70BPM\n",
      "  01 8th Hat.mid\n",
      "  02 8th Hat.mid\n",
      "  03 8th Hat.mid\n",
      "  04 8th Hat.mid\n",
      "  05 8th Toms.mid\n",
      "  06 8th Toms.mid\n",
      "  07 8th Ride.mid\n",
      "path ../datasets/drum_midi/50´s Drummer MIDI Files/02 Blues/07 Straight 88BPM\n",
      "  01 8th Hat.mid\n",
      "  02 8th Ride.mid\n",
      "  03 16th Hat.mid\n",
      "  04 16th Perc.mid\n",
      "  05 8th Hat.mid\n",
      "  06 16th Hat.mid\n",
      "  07 16th Ride.mid\n",
      "path ../datasets/drum_midi/50´s Drummer MIDI Files/02 Blues/08 Sams 127BPM\n",
      "  01 8th Hat.mid\n",
      "  02 8th Hat.mid\n",
      "  03 8th Ride.mid\n",
      "  04 8th Hat.mid\n",
      "  05 8th Perc.mid\n",
      "  06 8th Perc.mid\n",
      "  07 8th Perc.mid\n",
      "path ../datasets/drum_midi/50´s Drummer MIDI Files/02 Blues/09 Leroyes 130BPM\n",
      "  01 8th Hat.mid\n",
      "  02 8th Hat.mid\n",
      "  03 8th Ride.mid\n",
      "  04 8th Ride.mid\n",
      "  05 8th Perc.mid\n",
      "  06 8th Perc.mid\n",
      "  07 8th Ride.mid\n",
      "path ../datasets/drum_midi/50´s Drummer MIDI Files/02 Blues/10 Bogeart 122BPM\n",
      "  01 4th Hat.mid\n",
      "  02 8th Hat.mid\n",
      "  03 8th Ride.mid\n",
      "  04 8th Cym.mid\n",
      "  05 8th Perc.mid\n",
      "  06 8th Perc.mid\n",
      "  07 8th Toms.mid\n",
      "path ../datasets/drum_midi/50´s Drummer MIDI Files/03 Traditional Pop\n",
      "path ../datasets/drum_midi/50´s Drummer MIDI Files/03 Traditional Pop/01 Fly High 115BPM\n",
      "  01 8th Hat.mid\n",
      "  02 8th Hat.mid\n",
      "  03 8th Hat.mid\n",
      "  04 8th Hat.mid\n",
      "  05 8th Ride.mid\n",
      "  06 8th Ride.mid\n",
      "  07 8th Multi.mid\n",
      "path ../datasets/drum_midi/50´s Drummer MIDI Files/03 Traditional Pop/02 Frankies Girl 116BPM\n",
      "  01 8th Perc.mid\n",
      "  02 8th Hat.mid\n",
      "  03 8th Hat.mid\n",
      "  04 8th Ride.mid\n",
      "  05 8th Ride.mid\n",
      "  06 8th Ride.mid\n",
      "  07 8th Multi.mid\n",
      "path ../datasets/drum_midi/50´s Drummer MIDI Files/03 Traditional Pop/03 King Quiza 102BPM\n",
      "  01 8th Perc.mid\n",
      "  02 8th Hat.mid\n",
      "  03 8th Ride.mid\n",
      "  04 16th Ride.mid\n",
      "  05 16th Snare.mid\n",
      "  06 16th Toms.mid\n",
      "  07 16th Multi.mid\n",
      "path ../datasets/drum_midi/50´s Drummer MIDI Files/03 Traditional Pop/04 Love 155BPM\n",
      "  01 8th Hat.mid\n",
      "  02 8th Hat.mid\n",
      "  03 8th Ride.mid\n",
      "  04 8th Ride.mid\n",
      "  05 8th Ride.mid\n",
      "  06 8th Hat.mid\n",
      "  07 8th Perc.mid\n",
      "path ../datasets/drum_midi/50´s Drummer MIDI Files/03 Traditional Pop/05 Your Eyes 80BPM\n",
      "  01 8th Ride.mid\n",
      "  02 8th Ride.mid\n",
      "  03 16th Ride.mid\n",
      "  04 16th Toms.mid\n",
      "  05 16th Hat.mid\n",
      "  06 8th Snare.mid\n",
      "  07 8th hat.mid\n",
      "path ../datasets/drum_midi/50´s Drummer MIDI Files/03 Traditional Pop/06 Bopop 130MPM\n",
      "  01 8th Hat.mid\n",
      "  02 8th Ride.mid\n",
      "  03 8th Ride.mid\n",
      "  04 8th Toms.mid\n",
      "  05 8th Hat.mid\n",
      "  06 8th Hat.mid\n",
      "  07 8th Hat.mid\n",
      "path ../datasets/drum_midi/50´s Drummer MIDI Files/03 Traditional Pop/07 Lester Lee 133BPM\n",
      "  01 8th Hat.mid\n",
      "  02 8th Ride.mid\n",
      "  03 8th Hat.mid\n",
      "  04 8th Perc.mid\n",
      "  05 8th Perc.mid\n",
      "  06 8th Toms.mid\n",
      "  07 8th Ride.mid\n",
      "path ../datasets/drum_midi/50´s Drummer MIDI Files/03 Traditional Pop/08 Cecil Cee 101BPM\n",
      "  01 8th Ride.mid\n",
      "  02 8th Ride.mid\n",
      "  03 16th Hat.mid\n",
      "  04 16th Hat.mid\n",
      "  05 16th Hat.mid\n",
      "  06 16th Perc.mid\n",
      "  07 16th Toms.mid\n",
      "path ../datasets/drum_midi/50´s Drummer MIDI Files/03 Traditional Pop/09 Distel 155BPM\n",
      "  01 8th Ride.mid\n",
      "  02 8th Ride.mid\n",
      "  03 8th Hat.mid\n",
      "  04 8th Tom.mid\n",
      "  05 8th Tom.mid\n",
      "  06 8th Perc.mid\n",
      "  07 8th Perc.mid\n",
      "path ../datasets/drum_midi/50´s Drummer MIDI Files/03 Traditional Pop/10 Frewild 152BPM\n",
      "  01 4th Hat.mid\n",
      "  03 16th Hat.mid\n",
      "  03 4th Hat.mid\n",
      "  04 16th Ride.mid\n",
      "  05 16th Toms.mid\n",
      "  06 16th Perc.mid\n",
      "  07 16th Multi.mid\n",
      "path ../datasets/drum_midi/50´s Drummer MIDI Files/04 Country\n",
      "path ../datasets/drum_midi/50´s Drummer MIDI Files/04 Country/01 Calvin 148BPM\n",
      "  01 8th Snare.mid\n",
      "  02 8th Snare.mid\n",
      "  03 8th Snare.mid\n",
      "  04 8th Hat.mid\n",
      "  05 8th Hat.mid\n",
      "  06 8th Toms.mid\n",
      "  07 8th Multi.mid\n",
      "path ../datasets/drum_midi/50´s Drummer MIDI Files/04 Country/02 Marching 94BPM\n",
      "  01 8th Snare.mid\n",
      "  02 8th Snare.mid\n",
      "  03 8th Perc.mid\n",
      "  04 8th Toms.mid\n",
      "  05 8th Snare.mid\n",
      "  06 8th Multi.mid\n",
      "  07 8th Multi.mid\n",
      "path ../datasets/drum_midi/50´s Drummer MIDI Files/04 Country/03 Straight 72BPM Brushes\n",
      "  01 8th Snare.mid\n",
      "  02 8th Hat.mid\n",
      "  03 8th Snare.mid\n",
      "  04 8th Snare.mid\n",
      "  05 8th Multi.mid\n",
      "  06 8th Multi.mid\n",
      "  07 8th Snare.mid\n",
      "path ../datasets/drum_midi/50´s Drummer MIDI Files/04 Country/04 Snarey 208BPM 3-4\n",
      "  01 8th Snare.mid\n",
      "  02 8th Snare.mid\n",
      "  03 8th Snare.mid\n",
      "  04 8th Snare.mid\n",
      "  05 8th Snare.mid\n",
      "  06 8th Snare.mid\n",
      "  07 8th Perc.mid\n",
      "path ../datasets/drum_midi/50´s Drummer MIDI Files/04 Country/05 Brewer 160BPM\n",
      "  01 8th Perc.mid\n",
      "  02 8th Hat.mid\n",
      "  03 8th Ride.mid\n",
      "  04 8th Snare.mid\n",
      "  05 8th Toms.mid\n",
      "  06 8th Perc.mid\n",
      "  07 8th Perc.mid\n",
      "path ../datasets/drum_midi/50´s Drummer MIDI Files/04 Country/06 Booker 170BPM\n",
      "  01 8th Hat.mid\n",
      "  02 8th Hat.mid\n",
      "  03 8th Hat.mid\n",
      "  04 8th Ride.mid\n",
      "  05 8th Perc.mid\n",
      "  06 8th Hat.mid\n",
      "  07 8th Hat.mid\n",
      "path ../datasets/drum_midi/50´s Drummer MIDI Files/04 Country/07 Trainy 100BPM\n",
      "  01 16th Snare.mid\n",
      "  02 16th Snare.mid\n",
      "  03 16th Toms.mid\n",
      "  04 16th Toms.mid\n",
      "  05 16th Perc.mid\n",
      "  06 16th Perc.mid\n",
      "  07 16th Perc.mid\n",
      "path ../datasets/drum_midi/50´s Drummer MIDI Files/04 Country/08 Eddie Ed 111BPM\n",
      "  01 8th Hat.mid\n",
      "  02 8th Hat.mid\n",
      "  03 8th Hat.mid\n",
      "  04 4th Cym.mid\n",
      "  05 8th Tom.mid\n",
      "  06 8th Perc.mid\n",
      "  07 8th Perc.mid\n",
      "path ../datasets/drum_midi/50´s Drummer MIDI Files/04 Country/09 Broonze 122BPM\n",
      "  01 8th Hat.mid\n",
      "  02 8th Hat.mid\n",
      "  03 8th Ride.mid\n",
      "  04 8th Hat.mid\n",
      "  05 8th Cym.mid\n",
      "  06 8th Perc.mid\n",
      "  07 8th Tom.mid\n",
      "path ../datasets/drum_midi/50´s Drummer MIDI Files/04 Country/10 Rough Rider 183BPM\n",
      "  01 8th Perc.mid\n",
      "  02 8th Perc.mid\n",
      "  03 8th Hat.mid\n",
      "  04 8th Ride.mid\n",
      "  05 8th Toms.mid\n",
      "  06 8th Multi.mid\n",
      "  07 8th Hat.mid\n",
      "path ../datasets/drum_midi/50´s Drummer MIDI Files/05 Jazz\n",
      "path ../datasets/drum_midi/50´s Drummer MIDI Files/05 Jazz/01 Amel 85BPM Brushes\n",
      "  01 8th Snare.mid\n",
      "  02 8th Snare.mid\n",
      "  03 8th HiHat.mid\n",
      "  04 8th Snare.mid\n",
      "  05 8th Ride.mid\n",
      "  06 8th Hat.mid\n",
      "  07 16th Ride.mid\n",
      "path ../datasets/drum_midi/50´s Drummer MIDI Files/05 Jazz/02 Another You 170BPM\n",
      "  01 8th Ride.mid\n",
      "  02 8th Ride.mid\n",
      "  03 8th Ride.mid\n",
      "  04 8th Snare.mid\n",
      "  05 8th Multi.mid\n",
      "  06 8th Multi.mid\n",
      "  07 8th Multi.mid\n",
      "path ../datasets/drum_midi/50´s Drummer MIDI Files/05 Jazz/03 Cool 137BPM Brushes\n",
      "  01 8th Toms.mid\n",
      "  02 8th Snare.mid\n",
      "  03 8th Multi.mid\n",
      "  04 8th Toms.mid\n",
      "  05 16th Snare.mid\n",
      "  06 16th Toms.mid\n",
      "  07 16th Ride.mid\n",
      "path ../datasets/drum_midi/50´s Drummer MIDI Files/05 Jazz/04 Silent Tear 234BPM\n",
      "  01 8th Snare.mid\n",
      "  02 8th Ride.mid\n",
      "  03 8th Ride.mid\n",
      "  04 8th Snare.mid\n",
      "  05 8th Multi.mid\n",
      "  06 8th Multi.mid\n",
      "  07 8th ride.mid\n",
      "path ../datasets/drum_midi/50´s Drummer MIDI Files/05 Jazz/05 TNT 116BPM\n",
      "  01 8th Ride.mid\n",
      "  02 8th Snare.mid\n",
      "  03 8th HiHat.mid\n",
      "  04 8th Ride.mid\n",
      "  05 8th Ride.mid\n",
      "  06 8th Ride.mid\n",
      "  07 8th Toms.mid\n",
      "path ../datasets/drum_midi/50´s Drummer MIDI Files/05 Jazz/06 Nucleus 172BPM Brushes\n",
      "  01 8th Snare.mid\n",
      "  02 8th Toms.mid\n",
      "  03 8th Snare.mid\n",
      "  04 8th Hat.mid\n",
      "  05 8th Hat.mid\n",
      "  06 8th Multi.mid\n",
      "  07 8th Multi.mid\n",
      "path ../datasets/drum_midi/50´s Drummer MIDI Files/05 Jazz/07 Kooper 234BPM\n",
      "  01 4th Multi.mid\n",
      "  02 4th Multi.mid\n",
      "  03 8th Hat.mid\n",
      "  04 8th Perc.mid\n",
      "  05 16th Toms.mid\n",
      "  06 16th Toms.mid\n",
      "  07 16th Toms.mid\n",
      "path ../datasets/drum_midi/50´s Drummer MIDI Files/05 Jazz/08 Neodop 226BPM 3-4\n",
      "  01 16th Ride.mid\n",
      "  02 16th Ride.mid\n",
      "  03 8th Hat.mid\n",
      "  04 8th Ride.mid\n",
      "  05 8th Multi.mid\n",
      "  06 8th Multi.mid\n",
      "  07 8th Multi.mid\n",
      "path ../datasets/drum_midi/50´s Drummer MIDI Files/05 Jazz/09 West Coast 152BPM Brushes\n",
      "  01 8th Snare.mid\n",
      "  02 8th Snare.mid\n",
      "  03 8th Snare.mid\n",
      "  04 8th Hat.mid\n",
      "  05 8th Multi.mid\n",
      "  06 8th Multi.mid\n",
      "  07 8th Multi.mid\n",
      "path ../datasets/drum_midi/50´s Drummer MIDI Files/05 Jazz/10 Scalis 190BPM 3-4\n",
      "  01 8th Snare.mid\n",
      "  02 8th hat.mid\n",
      "  03 8th Toms.mid\n",
      "  04 8th Toms.mid\n",
      "  05 8th Multi.mid\n",
      "  06 8th Snare.mid\n",
      "  07 8th Snare.mid\n",
      "path ../datasets/drum_midi/50´s Drummer MIDI Files/06 Soul - Funk\n",
      "path ../datasets/drum_midi/50´s Drummer MIDI Files/06 Soul - Funk/01 Soul Groove 107BPM\n",
      "  01 16th Hat.mid\n",
      "  02 16th Hat.mid\n",
      "  03 8th Hat.mid\n",
      "  04 16th Hat.mid\n",
      "  05 16th Hat.mid\n",
      "  06 8th Hat.mid\n",
      "  07 16th Hat.mid\n",
      "path ../datasets/drum_midi/50´s Drummer MIDI Files/06 Soul - Funk/02 Boogaloo 120BPM\n",
      "  01 16th Multi.mid\n",
      "  02 4th Multi.mid\n",
      "  03 16th Hat.mid\n",
      "  04 4th Multi.mid\n",
      "  05 8th Multi.mid\n",
      "  06 16th Hat.mid\n",
      "  07 8th Hat.mid\n",
      "path ../datasets/drum_midi/50´s Drummer MIDI Files/06 Soul - Funk/03 Cadence Soul 105BPM\n",
      "  01 4th Hat.mid\n",
      "  02 4th Hat.mid\n",
      "  03 8th Hat.mid\n",
      "  04 4th Hat.mid\n",
      "  05 4th Hat.mid\n",
      "  06 8th Cym.mid\n",
      "  07 8th Hat.mid\n",
      "path ../datasets/drum_midi/50´s Drummer MIDI Files/06 Soul - Funk/04 GoGo Soul 100BPM\n",
      "  01 16th Toms.mid\n",
      "  02 16th Toms.mid\n",
      "  03 8th Hat.mid\n",
      "  04 8th Hat.mid\n",
      "  05 8th Hat.mid\n",
      "  06 8th Hat.mid\n",
      "  07 8th Hat.mid\n",
      "path ../datasets/drum_midi/50´s Drummer MIDI Files/06 Soul - Funk/05 Hip Hop 95BPM\n",
      "  01 16th Hat.mid\n",
      "  02 16th Hat.mid\n",
      "  03 16th Hat.mid\n",
      "  04 8th Hat.mid\n",
      "  05 16th Hat.mid\n",
      "  06 16th Hat.mid\n",
      "  07 16th Hat.mid\n",
      "path ../datasets/drum_midi/50´s Drummer MIDI Files/06 Soul - Funk/06 JB Groove 115BPM\n",
      "  01 4th Hat.mid\n",
      "  02 16th Hat.mid\n",
      "  03 4th Hat.mid\n",
      "  04 4th Hat.mid\n",
      "  05 4th Hat.mid\n",
      "  06 8th Cym.mid\n",
      "  07 8th Cym.mid\n",
      "path ../datasets/drum_midi/50´s Drummer MIDI Files/06 Soul - Funk/07 Ride Swing 95Bpm\n",
      "  01 8th Cym.mid\n",
      "  02 8th Cym.mid\n",
      "  03 8th Cym.mid\n",
      "  04 8th Cym.mid\n",
      "  05 8th Hat.mid\n",
      "  06 8th Hat.mid\n",
      "  07 8th Hat.mid\n",
      "path ../datasets/drum_midi/50´s Drummer MIDI Files/06 Soul - Funk/08 Rim Soul 90BPM\n",
      "  01 4th Hat.mid\n",
      "  02 4th Hat.mid\n",
      "  03 4th Hat.mid\n",
      "  04 16th Hat.mid\n",
      "  05 16th Hat.mid\n",
      "  06 16th Hat.mid\n",
      "  07 16th Hat.mid\n",
      "path ../datasets/drum_midi/50´s Drummer MIDI Files/06 Soul - Funk/09 Smooth Soul 81BPM\n",
      "  01 16th Hat.mid\n",
      "  02 16th Hat.mid\n",
      "  03 16th Hat.mid\n",
      "  04 16th Hat.mid\n",
      "  05 16th Hat.mid\n",
      "  06 16th Hat.mid\n",
      "  07 16th Hat.mid\n",
      "path ../datasets/drum_midi/50´s Drummer MIDI Files/06 Soul - Funk/10 Syncopated Ride 128BPM\n",
      "  01 16th Cym.mid\n",
      "  02 16th Cym.mid\n",
      "  03 16th Cym.mid\n",
      "  04 16th Hat.mid\n",
      "  05 16th Hat.mid\n",
      "  06 16th Cym.mid\n",
      "  07 16th Hat.mid\n",
      "path ../datasets/drum_midi/50´s Drummer MIDI Files/07 Indie\n",
      "path ../datasets/drum_midi/50´s Drummer MIDI Files/07 Indie/01 Rock Shuffle 130BPM\n",
      "  01 8th Toms.mid\n",
      "  02 8th Hat.mid\n",
      "  03 8th Cym.mid\n",
      "  04 4th Cym.mid\n",
      "  05 12th Hat.mid\n",
      "  06 4th Hat.mid\n",
      "  07 12th Toms.mid\n",
      "path ../datasets/drum_midi/50´s Drummer MIDI Files/07 Indie/02 Rock Tribal 125BPM\n",
      "  01 4th Toms.mid\n",
      "  02 16th Hat.mid\n",
      "  03 4th Toms.mid\n",
      "  04 8th Cym.mid\n",
      "  05 2th Toms.mid\n",
      "  06 16th Hat.mid\n",
      "  07 16th Cym.mid\n",
      "path ../datasets/drum_midi/50´s Drummer MIDI Files/07 Indie/03 Moon 137BPM\n",
      "  01 8th Cym.mid\n",
      "  02 8th Hat.mid\n",
      "  03 8th Cym.mid\n",
      "  04 2th Toms.mid\n",
      "  05 4th Cym.mid\n",
      "  06 16th Hat.mid\n",
      "  07 8th Toms.mid\n",
      "path ../datasets/drum_midi/50´s Drummer MIDI Files/07 Indie/04 Titanic 97BPM\n",
      "  01 8th Hat.mid\n",
      "  02 16th Hat.mid\n",
      "  03 4th Cym.mid\n",
      "  04 8th Cym.mid\n",
      "  05 8th Hat.mid\n",
      "  06 8th Toms.mid\n",
      "  07 16th Cym.mid\n",
      "path ../datasets/drum_midi/50´s Drummer MIDI Files/07 Indie/05 Halftime 71BPM\n",
      "  01 16th Hat.mid\n",
      "  02 16th Cym.mid\n",
      "  03 16th Perc.mid\n",
      "  04 16th Cym.mid\n",
      "  05 16th Toms.mid\n",
      "  06 16th Ride.mid\n",
      "  07 8th Toms.mid\n",
      "path ../datasets/drum_midi/50´s Drummer MIDI Files/07 Indie/06 Swing Funk 102BPM\n",
      "  01 8th Hat.mid\n",
      "  02 8th Cym.mid\n",
      "  03 8th Hat.mid\n",
      "  04 8th Cym.mid\n",
      "  05 8th Hat.mid\n",
      "  06 8th Cym.mid\n",
      "  07 8th Cym.mid\n",
      "path ../datasets/drum_midi/50´s Drummer MIDI Files/07 Indie/07 Rock Keeler 133BPM\n",
      "  01 8th Hat.mid\n",
      "  02 4th Hat.mid\n",
      "  03 8th Toms.mid\n",
      "  04 8th Perc.mid\n",
      "  05 8th Hat.mid\n",
      "  06 8th Cym.mid\n",
      "  07 4th Cym.mid\n",
      "path ../datasets/drum_midi/50´s Drummer MIDI Files/07 Indie/08 Bouncer 162BPM\n",
      "  01 8th Cym.mid\n",
      "  02 8th Hat.mid\n",
      "  03 4th Hat.mid\n",
      "  04 8th Cym.mid\n",
      "  05 8th Hat.mid\n",
      "  06 8th Hat.mid\n",
      "  07 8th Cym.mid\n",
      "path ../datasets/drum_midi/50´s Drummer MIDI Files/07 Indie/09 Slow Shuffle 80BPM\n",
      "  01 4th Toms.mid\n",
      "  02 16th Hat.mid\n",
      "  03 16th Hat.mid\n",
      "  04 16th Cym.mid\n",
      "  05 8th Toms.mid\n",
      "  06 8th Toms.mid\n",
      "  07 16th Cym.mid\n",
      "path ../datasets/drum_midi/50´s Drummer MIDI Files/07 Indie/10 Chilled 120BPM\n",
      "  01 8th Cym.mid\n",
      "  02 8th Hat.mid\n",
      "  03 8th Cym.mid\n",
      "  04 8th Hat.mid\n",
      "  05 16th Hat.mid\n",
      "  06 8th Toms.mid\n",
      "  07 8th Toms.mid\n",
      "path ../datasets/drum_midi/50´s Drummer MIDI Files/07 Indie/11 Disco Dancer 135BPM\n",
      "  01 4th Hat .mid\n",
      "  02 8th Hat.mid\n",
      "  03 8th Hat.mid\n",
      "  04 16th Hat.mid\n",
      "  05 8th Cym.mid\n",
      "  06 4th Cym.mid\n",
      "  07 4th Perc.mid\n",
      "path ../datasets/drum_midi/50´s Drummer MIDI Files/07 Indie/12 Sticks Up 155BPM\n",
      "  01 8th Perc.mid\n",
      "  02 8th Hat.mid\n",
      "  03 16th Hat.mid\n",
      "  04 8th Cym.mid\n",
      "  05 8th Perc.mid\n",
      "  06 8th Perc.mid\n",
      "  07 8th Cym.mid\n",
      "path ../datasets/drum_midi/50´s Drummer MIDI Files/07 Indie/13 Mid Groover 111BPM\n",
      "  01 4th Hat.mid\n",
      "  02 8th Hat.mid\n",
      "  03 8th Cym.mid\n",
      "  04 4th Cym.mid\n",
      "  05 8th Toms.mid\n",
      "  06 16th Cym.mid\n",
      "  07 8th Hat.mid\n",
      "path ../datasets/drum_midi/50´s Drummer MIDI Files/07 Indie/14 Disco Smooth 97BPM\n",
      "  01 16th Hat.mid\n",
      "  02 16th Cym.mid\n",
      "  03 16th Hat.mid\n",
      "  04 16th Toms.mid\n",
      "  05 16th Cym.mid\n",
      "  06 2th Snare.mid\n",
      "  07 16th Hat.mid\n",
      "path ../datasets/drum_midi/50´s Drummer MIDI Files/07 Indie/15 Tribal Shuffle 123BPM\n",
      "  01 12th Hat.mid\n",
      "  02 4th Hat.mid\n",
      "  03 8th Toms.mid\n",
      "  04 8th Cym.mid\n",
      "  05 6th Hat.mid\n",
      "  06 6th Hat.mid\n",
      "  07 8th Cym.mid\n",
      "path ../datasets/drum_midi/50´s Drummer MIDI Files/07 Indie/16 Medium Flow 120BPM\n",
      "  01 16th Hat.mid\n",
      "  02 16th Cym.mid\n",
      "  03 8th Hat.mid\n",
      "  04 16th Perc.mid\n",
      "  05 16th Perc.mid\n",
      "  06 16th Hat.mid\n",
      "  07 16th Cym.mid\n",
      "path ../datasets/drum_midi/50´s Drummer MIDI Files/07 Indie/17 Relaxed 88BPM\n",
      "  01 16th Hat.mid\n",
      "  02 16th Hat.mid\n",
      "  03 4th Hat.mid\n",
      "  04 16th Hat.mid\n",
      "  05 16th Cym.mid\n",
      "  06 16th Toms.mid\n",
      "  07 16th Cym.mid\n",
      "path ../datasets/drum_midi/50´s Drummer MIDI Files/07 Indie/18 Disco Weirdo 146BPM\n",
      "  01 4th Hat.mid\n",
      "  02 8th Hat.mid\n",
      "  03 8th Cym.mid\n",
      "  04 16th Toms.mid\n",
      "  05 16th Toms.mid\n",
      "  06 8th Hat.mid\n",
      "  07 8th Cym.mid\n"
     ]
    },
    {
     "name": "stdout",
     "output_type": "stream",
     "text": [
      "path ../datasets/drum_midi/50´s Drummer MIDI Files/07 Indie/19 Distant Floor 119BPM\n",
      "  01 4th Multi.mid\n",
      "  02 16th Multi.mid\n",
      "  03 4th Multi.mid\n",
      "  04 4th Multi.mid\n",
      "  05 8th Multi.mid\n",
      "  06 4th Multi.mid\n",
      "  07 16th Multi.mid\n",
      "path ../datasets/drum_midi/50´s Drummer MIDI Files/07 Indie/20 So Simple 102BPM\n",
      "  01 8th Hat.mid\n",
      "  02 8th Perc.mid\n",
      "  03 8th Perc.mid\n",
      "  04 8th Perc.mid\n",
      "  05 16th Hat.mid\n",
      "  06 16th Hat.mid\n",
      "  07 8th Cym.mid\n",
      "path ../datasets/drum_midi/60´s Drummer MIDI Files\n",
      "path ../datasets/drum_midi/60´s Drummer MIDI Files/Early Kit\n",
      "path ../datasets/drum_midi/60´s Drummer MIDI Files/Early Kit/01 Rock n Roll\n",
      "path ../datasets/drum_midi/60´s Drummer MIDI Files/Early Kit/01 Rock n Roll/01 Shuffle 186BPM\n",
      "  01 8th Snare Perc.mid\n",
      "  02 8th Snare Perc.mid\n",
      "  03 8th Snare Perc.mid\n",
      "  04 8th Snare Perc.mid\n",
      "  05 8th Snare Perc.mid\n",
      "  06 8th Snare Perc.mid\n",
      "  07 8th Perc.mid\n",
      "  08 8th Perc.mid\n",
      "  09 8th Toms.mid\n",
      "  10 8th Cym.mid\n",
      "  11 8th Cym.mid\n",
      "  12 8th Cym.mid\n",
      "  13 4th Cym.mid\n",
      "  14 8th Hat Both.mid\n",
      "  15 8th Hat Both.mid\n",
      "path ../datasets/drum_midi/60´s Drummer MIDI Files/Early Kit/01 Rock n Roll/02 Straight 150BPM\n",
      "  01 8th Cym.mid\n",
      "  02 8th Cym.mid\n",
      "  03 8th Cym Toms.mid\n",
      "  04 8th Cym Toms.mid\n",
      "  05 8th Hat Open.mid\n",
      "  06 8th Hat Open.mid\n",
      "  07 8th Toms.mid\n",
      "  08 8th Perc.mid\n",
      "  09 8th Perc.mid\n",
      "  10 4th Hat Closed.mid\n",
      "  11 16th Toms.mid\n",
      "  12 16th Toms.mid\n",
      "  13 16th Snare.mid\n",
      "  14 8th Snare.mid\n",
      "  15 8th Snare.mid\n",
      "path ../datasets/drum_midi/60´s Drummer MIDI Files/Early Kit/01 Rock n Roll/03 Chucky 140BPM\n",
      "  01 8th Hat Open.mid\n",
      "  02 8th Hat Open.mid\n",
      "  03 8th Hat Open Perc.mid\n",
      "  04 8th Hat Open Perc.mid\n",
      "  05 8th Hat Open Toms.mid\n",
      "  06 8th Hat Open.mid\n",
      "  07 8th Hat Closed Perc.mid\n",
      "  08 8th Hat Closed Perc.mid\n",
      "  09 8th Hat Closed Perc.mid\n",
      "  10 8th Hat Closed.mid\n",
      "  11 8th Hat Closed.mid\n",
      "  12 8th Toms.mid\n",
      "  13 16th Toms.mid\n",
      "  14 8th Cym.mid\n",
      "  15 8th Ride.mid\n",
      "path ../datasets/drum_midi/60´s Drummer MIDI Files/Early Kit/01 Rock n Roll/04 Deddley 150BPM\n",
      "  01 8th Hat Open.mid\n",
      "  02 8th Hat Open.mid\n",
      "  03 8th Hat Closed.mid\n",
      "  04 8th Hat Closed.mid\n",
      "  05 8th Hat Closed.mid\n",
      "  06 8th Hat Closed.mid\n",
      "  07 8th Hat Closed.mid\n",
      "  08 8th Hat Closed.mid\n",
      "  09 8th Hat Closed.mid\n",
      "  10 8th Cym.mid\n",
      "  11 8th Cym.mid\n",
      "  12 8th Snare.mid\n",
      "  13 8th Snare.mid\n",
      "  14 8th Snare.mid\n",
      "  15 8th Toms.mid\n",
      "path ../datasets/drum_midi/60´s Drummer MIDI Files/Early Kit/01 Rock n Roll/05 Diamond 164BPM\n",
      "  01 8th Hat Closed Perc.mid\n",
      "  02 8th Hat Closed Perc.mid\n",
      "  03 8th Hat Closed Perc.mid\n",
      "  04 8th Hat Open.mid\n",
      "  05 8th Perc.mid\n",
      "  06 8th Ride.mid\n",
      "  07 8th Ride.mid\n",
      "  08 8th Ride Toms.mid\n",
      "  09 8th Toms.mid\n",
      "  10 8th Toms.mid\n",
      "  11 4th Hat Closed.mid\n",
      "  12 4th Hat Closed.mid\n",
      "  13 8th Hat Closed Perc.mid\n",
      "  14 8th Cym Perc.mid\n",
      "  15 8th Perc.mid\n",
      "path ../datasets/drum_midi/60´s Drummer MIDI Files/Early Kit/01 Rock n Roll/06 Swingin 132BPM Triplets\n",
      "  01 4th Hat Closed.mid\n",
      "  02 4th Hat Closed.mid\n",
      "  03 8th Perc.mid\n",
      "  04 8th Perc.mid\n",
      "  05 8th Hat Closed.mid\n",
      "  06 8th Hat Closed Perc.mid\n",
      "  07 8th Perc.mid\n",
      "  08 8th Perc.mid\n",
      "  09 4th Ride.mid\n",
      "  10 8th Ride.mid\n",
      "  11 8th Ride Perc.mid\n",
      "  12 8th Ride Perc.mid\n",
      "  13 8th Snare Hat.mid\n",
      "  14 8th Snare Hat.mid\n",
      "  15 8th Toms.mid\n",
      "path ../datasets/drum_midi/60´s Drummer MIDI Files/Early Kit/01 Rock n Roll/07 Domino 167BPM\n",
      "  01 8th Hat Closed.mid\n",
      "  02 8th Hat Both.mid\n",
      "  03 8th Hat Open.mid\n",
      "  04 16th Hat Closed.mid\n",
      "  05 16th Hat Both.mid\n",
      "  06 8th Hat Closed Side.mid\n",
      "  07 8th Ride.mid\n",
      "  08 16th Ride.mid\n",
      "  09 16th Ride.mid\n",
      "  10 8th Ride.mid\n",
      "  11 8th Hat Closed.mid\n",
      "  12 8th Hat Open.mid\n",
      "  13 8th Ride.mid\n",
      "  14 8th Toms.mid\n",
      "  15 8th Toms.mid\n",
      "path ../datasets/drum_midi/60´s Drummer MIDI Files/Early Kit/01 Rock n Roll/08 Offkick 182BPM\n",
      "  01 2th Snare.mid\n",
      "  02 8th Snare.mid\n",
      "  03 8th Snare.mid\n",
      "  04 8th Hat Closed.mid\n",
      "  05 8th Hat Closed.mid\n",
      "  06 8th Hat Both.mid\n",
      "  07 16th Hat Closed.mid\n",
      "  08 8th Hat Closed.mid\n",
      "  09 8th Hat Both.mid\n",
      "  10 8th Ride.mid\n",
      "  11 8th Ride.mid\n",
      "  12 16th Ride.mid\n",
      "  13 16th Ride.mid\n",
      "  14 8th Toms.mid\n",
      "  15 16th Perc Side.mid\n",
      "path ../datasets/drum_midi/60´s Drummer MIDI Files/Early Kit/01 Rock n Roll/09 Rumblin 192BPM Triplets\n",
      "  01 8th Ride.mid\n",
      "  02 8th Ride.mid\n",
      "  03 8th Ride.mid\n",
      "  04 8th Ride.mid\n",
      "  05 8th Ride Toms.mid\n",
      "  06 8th Hat Closed.mid\n",
      "  07 8th Hat Closed.mid\n",
      "  08 8th Hat Open.mid\n",
      "  09 Hat Open.mid\n",
      "  10 8th Hat Both.mid\n",
      "  11 8th Snare Perc.mid\n",
      "  12 8th Toms Hat.mid\n",
      "  13 8th Ride Multi.mid\n",
      "  14 8th Ride Multi.mid\n",
      "  15 8th Perc Multi.mid\n",
      "path ../datasets/drum_midi/60´s Drummer MIDI Files/Early Kit/01 Rock n Roll/10 Uptime 112BPM\n",
      "  01 16th Snare Perc.mid\n",
      "  02 16th Snare Perc.mid\n",
      "  03 8th Hat Closed Perc.mid\n",
      "  04 8th Hat Closed Perc.mid\n",
      "  05 8th Hat Both Perc.mid\n",
      "  06 8th Hat Open Perc.mid\n",
      "  07 8th Ride Perc.mid\n",
      "  08 8th Ride Perc.mid\n",
      "  09 8th Cym Perc.mid\n",
      "  10 8th Ride Perc.mid\n",
      "  11 16th Toms Perc.mid\n",
      "  12 16th Toms Perc.mid\n",
      "  13 16th Toms Perc.mid\n",
      "  14 2th Hat Closed.mid\n",
      "  15 4th Snare .mid\n",
      "path ../datasets/drum_midi/60´s Drummer MIDI Files/Early Kit/02 Blues Rock\n",
      "path ../datasets/drum_midi/60´s Drummer MIDI Files/Early Kit/02 Blues Rock/01 Clutch 90BPM Triplets\n",
      "  01 4th Hat Closed.mid\n",
      "  02 8th Hat Closed.mid\n",
      "  03 8th Hat Closed.mid\n",
      "  04 8th Hat Both.mid\n",
      "  05 8th Hat Both.mid\n",
      "  06 8th Hat Open.mid\n",
      "  07 8th Hat Open.mid\n",
      "  08 8th Ride Side.mid\n",
      "  09 8th Ride.mid\n",
      "  10 8th Ride.mid\n",
      "  11 4th Cym.mid\n",
      "  12 8th Ride.mid\n",
      "  13 4th Toms.mid\n",
      "  14 8th Toms.mid\n",
      "  15 8th Toms.mid\n",
      "path ../datasets/drum_midi/60´s Drummer MIDI Files/Early Kit/02 Blues Rock/02 Sixeight 58BPM\n",
      "  01 8th Hat Closed.mid\n",
      "  02 8th Hat Both.mid\n",
      "  03 8th Hat Closed.mid\n",
      "  04 8th Hat Both.mid\n",
      "  05 8th Hat Both.mid\n",
      "  06 8th Hat Both.mid\n",
      "  07 8th Hat Closed Multi.mid\n",
      "  08 8th Hat Both Multi.mid\n",
      "  09 8th Hat Open.mid\n",
      "  10 8th Ride Perc.mid\n",
      "  11 8th Ride Perc.mid\n",
      "  12 8th Ride Ghost.mid\n",
      "  13 8th Ride Perc.mid\n",
      "  14 8th Ride Perc.mid\n",
      "  15 8th Cym Perc.mid\n",
      "path ../datasets/drum_midi/60´s Drummer MIDI Files/Early Kit/02 Blues Rock/03 Fire 148BPM\n",
      "  01 8th Hat Closed Perc.mid\n",
      "  02 8th Hat Closed Perc.mid\n",
      "  03 8th Hat Closed Perc.mid\n",
      "  04 8th Hat Closed Perc.mid\n",
      "  05 8th Hat Closed Perc.mid\n",
      "  06 8th Hat Closed Perc.mid\n",
      "  07 8th Hat Both Perc.mid\n",
      "  08 8th Hat Both.mid\n",
      "  09 8th Hat Open Perc.mid\n",
      "  10 8th Ride.mid\n",
      "  11 8th Ride.mid\n",
      "  12 8th Ride.mid\n",
      "  13 8th Ride.mid\n",
      "  14 8th Toms Perc.mid\n",
      "  15 2th Snare Perc.mid\n",
      "path ../datasets/drum_midi/60´s Drummer MIDI Files/Early Kit/02 Blues Rock/04 Whiteroom 112BPM\n",
      "  01 8th Hat Closed.mid\n",
      "  02 8th Hat Closed.mid\n",
      "  03 8th Hat Closed.mid\n",
      "  04 8th Hat Closed.mid\n",
      "  05 8th Hat Closed.mid\n",
      "  06 8th Hat Both.mid\n",
      "  07 8th Hat Closed.mid\n",
      "  08 8th Hat Both.mid\n",
      "  09 8th Hat Closed.mid\n",
      "  10 8th Ride.mid\n",
      "  11 8th Ride.mid\n",
      "  12 8th Ride.mid\n",
      "  13 8th Ride.mid\n",
      "  14 8th Toms.mid\n",
      "  15 8th Toms.mid\n",
      "path ../datasets/drum_midi/60´s Drummer MIDI Files/Early Kit/02 Blues Rock/05 Bluesshuffle 116BPM\n",
      "  01 4th Hat Closed.mid\n",
      "  02 4th Hat Closed.mid\n",
      "  03 4th Hat Closed.mid\n",
      "  04 4th Hat Closed.mid\n",
      "  05 8th Snare.mid\n",
      "  06 4th Hat Open.mid\n",
      "  07 4th Hat Open.mid\n",
      "  08 4th Ride.mid\n",
      "  09 4th Ride.mid\n",
      "  10 4th Ride.mid\n",
      "  11 8th Snare Ride.mid\n",
      "  12 4th Ride Ghost.mid\n",
      "  13 4th Ride Ghost.mid\n",
      "  14 16th Snare.mid\n",
      "  15 8th Tom Ghost.mid\n",
      "path ../datasets/drum_midi/60´s Drummer MIDI Files/Early Kit/02 Blues Rock/06 Straight 130BPM\n",
      "  01 8th Hat Closed.mid\n",
      "  02 8th Hat Both.mid\n",
      "  03 8th Hat Both.mid\n",
      "  04 8th Hat Closed.mid\n",
      "  05 8th Hat Both.mid\n",
      "  06 8th Hat Closed.mid\n",
      "  07 8th Hat Open.mid\n",
      "  08 8th Hat Closed Side.mid\n",
      "  09 8th Ride.mid\n",
      "  10 8th Ride.mid\n",
      "  11 8th Ride.mid\n",
      "  12 8th Ride.mid\n",
      "  13 8th Ride.mid\n",
      "  14 16th Ride Side.mid\n",
      "  15 16th Ride Multi.mid\n",
      "path ../datasets/drum_midi/60´s Drummer MIDI Files/Early Kit/02 Blues Rock/07 Ballad 77BPM\n",
      "  01 8th Hat Closed Multi.mid\n",
      "  02 8th Hat Closed Multi.mid\n",
      "  03 8th Hat Closed Cym.mid\n",
      "  04 8th Hat Both.mid\n",
      "  05 8th Hat Both Cym.mid\n",
      "  06 8th Hat Both.mid\n",
      "  07 8th Ride Perc.mid\n",
      "  08 8th Ride Hat.mid\n",
      "  09 8th Ride Perc.mid\n",
      "  10 16th Ride.mid\n",
      "  11 8th Ride.mid\n",
      "  12 16th Toms.mid\n",
      "  13 16th Toms Cym.mid\n",
      "  14 8th Ride Multi.mid\n",
      "  15 8th Ride Multi.mid\n",
      "path ../datasets/drum_midi/60´s Drummer MIDI Files/Early Kit/02 Blues Rock/08 Shuffle 119BPM Triplets\n",
      "  01 4th Snare.mid\n",
      "  02 4th Snare.mid\n",
      "  03 8th Snare.mid\n",
      "  04 4th Hat Closed.mid\n",
      "  05 4th Hat Closed Ghost.mid\n",
      "  06 4th Hat Both.mid\n",
      "  07 8th Hat Closed.mid\n",
      "  08 8th Hat Closed.mid\n",
      "  09 8th Hat Both.mid\n",
      "  10 4th Ride.mid\n",
      "  11 8th Ride Side.mid\n",
      "  12 8th Ride.mid\n",
      "  13 8th Ride.mid\n",
      "  14 8th Ride.mid\n",
      "  15 8th Ride.mid\n",
      "path ../datasets/drum_midi/60´s Drummer MIDI Files/Early Kit/02 Blues Rock/09 Bluesballad 97BPM\n",
      "  01 8th Hat Closed.mid\n",
      "  02 8th Hat Closed.mid\n",
      "  03 8th Hat Closed.mid\n",
      "  04 8th Hat Closed.mid\n",
      "  05 8th Hat Closed.mid\n",
      "  06 8th Hat Closed.mid\n",
      "  07 8th Hat Closed.mid\n",
      "  08 8th Hat Closed Perc.mid\n",
      "  09 8th Hat Closed Perc.mid\n",
      "  10 8th Hat Closed Perc.mid\n",
      "  11 8th Cym.mid\n",
      "  12 8th Cym.mid\n",
      "  13 8th Cym.mid\n",
      "  14 8th Cym.mid\n",
      "  15 8th Cym.mid\n",
      "path ../datasets/drum_midi/60´s Drummer MIDI Files/Early Kit/02 Blues Rock/10 Uptime 150BPM\n",
      "  01 2th Hat Closed.mid\n",
      "  02 4th Hat Closed.mid\n",
      "  03 8th Hat Closed Side.mid\n",
      "  04 8th Hat Closed.mid\n",
      "  05 8th Hat Both.mid\n",
      "  06 8th Hat Open.mid\n",
      "  07 4th Cym.mid\n",
      "  08 8th Ride Side.mid\n",
      "  09 8th Ride.mid\n",
      "  10 8th Ride.mid\n",
      "  11 8th Hat Closed Perc.mid\n",
      "  12 8th Hat Open Perc.mid\n",
      "  13 8th Ride Perc.mid\n",
      "  14 8th Toms.mid\n",
      "  15 8th Toms Multi.mid\n",
      "path ../datasets/drum_midi/60´s Drummer MIDI Files/Early Kit/03 Jazz\n",
      "path ../datasets/drum_midi/60´s Drummer MIDI Files/Early Kit/03 Jazz/01 Swing 150BPM Triplets\n",
      "  01 8th Ride.mid\n",
      "  02 8th Ride.mid\n",
      "  03 8th Ride.mid\n",
      "  04 8th Ride.mid\n",
      "  05 8th Ride.mid\n",
      "  06 8th Cym.mid\n",
      "  07 8th Cym.mid\n",
      "  08 8th Cym.mid\n",
      "  09 8th Cym.mid\n",
      "  10 8th Cym.mid\n",
      "  11 8th Ride.mid\n",
      "  12 8th Hat Both.mid\n",
      "  13 8th Hat Both.mid\n",
      "  14 8th Hat Both.mid\n",
      "  15 8th Hat Both.mid\n",
      "path ../datasets/drum_midi/60´s Drummer MIDI Files/Early Kit/03 Jazz/02 Boogaloo 170BPM Triplets\n",
      "  01 8th Ride.mid\n",
      "  02 8th Ride.mid\n",
      "  03 8th Ride.mid\n",
      "  04 8th Hat Closed.mid\n",
      "  05 8th Hat Closed.mid\n",
      "  06 8th Hat Closed.mid\n",
      "  07 8th Ride Side.mid\n",
      "  08 8th Ride Side.mid\n",
      "  09 8th Ride Side.mid\n",
      "  10 8th Ride Multi.mid\n",
      "  11 8th Ride Multi.mid\n",
      "  12 8th Ride Multi.mid\n",
      "  13 8th Snare Side.mid\n",
      "  14 8th Side.mid\n",
      "  15 8th Hat Both Side.mid\n",
      "path ../datasets/drum_midi/60´s Drummer MIDI Files/Early Kit/03 Jazz/03 Gipsy 218BPM Triplets\n",
      "  01 8th Toms.mid\n",
      "  02 8th Toms.mid\n",
      "  03 8th Toms.mid\n",
      "  04 8th Toms.mid\n",
      "  05 8th Hat Both.mid\n",
      "  06 8th Hat Both.mid\n",
      "  07 8th Hat Open.mid\n",
      "  08 8th Hat Both Multi.mid\n",
      "  09 8th Ride Multi.mid\n",
      "  10 8th Ride.mid\n",
      "  11 8th Ride.mid\n",
      "  12 8th Ride .mid\n",
      "  13 8th Ride.mid\n",
      "  14 8th Ride Cym.mid\n",
      "  15 8th Perc.mid\n",
      "path ../datasets/drum_midi/60´s Drummer MIDI Files/Early Kit/03 Jazz/04 Waltz 140BPM 3-4\n",
      "  01 4th Ride Multi.mid\n",
      "  02 8th Ride Multi.mid\n",
      "  03 8th Ride.mid\n",
      "  04 8th Ride.mid\n",
      "  05 8th Ride.mid\n",
      "  06 8th Ride Multi.mid\n",
      "  07 8th Ride Multi.mid\n",
      "  08 8th Ride.mid\n",
      "  09 8th Ride Multi.mid\n",
      "  10 4th Ride Multi.mid\n",
      "  11 8th Ride.mid\n",
      "  12 8th Ride Ghost.mid\n",
      "  13 8th Ride Ghost.mid\n",
      "  14 8th Ride Ghost.mid\n",
      "  15 8th Ride Multi.mid\n",
      "path ../datasets/drum_midi/60´s Drummer MIDI Files/Early Kit/03 Jazz/05 Ballad 90BPM Triplets\n",
      "  01 8th Hat Both.mid\n",
      "  02 8th Hat Both.mid\n",
      "  03 8th Ride.mid\n",
      "  04 8th Ride.mid\n",
      "  05 8th Ride.mid\n",
      "  06 8th Ride.mid\n",
      "  07 8th Ride.mid\n",
      "  08 8th Ride.mid\n",
      "  09 8th Ride.mid\n",
      "  10 8th Ride.mid\n",
      "  11 8th Ride.mid\n",
      "  12 8th Ride.mid\n",
      "  13 8th Ride Multi.mid\n",
      "  14 8th Ride Multi.mid\n",
      "  15 8th Ride Multi.mid\n",
      "path ../datasets/drum_midi/60´s Drummer MIDI Files/Early Kit/03 Jazz/06 Baker 134BPM\n",
      "  01 4th Ride.mid\n",
      "  02 4th Ride.mid\n",
      "  03 4th Ride.mid\n",
      "  04 4th Ride.mid\n",
      "  05 4th Ride.mid\n",
      "  06 4th Ride Side.mid\n",
      "  07 4th Ride Side.mid\n",
      "  08 4th Ride Side.mid\n",
      "  09 4th Ride.mid\n",
      "  10 4th Ride.mid\n",
      "  11 4th Ride.mid\n",
      "  12 4th Ride.mid\n",
      "  13 4th Ride Toms.mid\n",
      "  14 4th Ride Toms.mid\n",
      "  15 4th Ride Toms.mid\n",
      "path ../datasets/drum_midi/60´s Drummer MIDI Files/Early Kit/03 Jazz/07 Benson 125BPM 3-4\n",
      "  01 4th Ride.mid\n",
      "  02 4th Ride.mid\n",
      "  03 4th Ride.mid\n",
      "  04 4th Ride.mid\n",
      "  05 4th Ride Side.mid\n",
      "  06 4th Ride Side.mid\n",
      "  07 4th Ride.mid\n",
      "  08 4th Ride.mid\n",
      "  09 4th Ride.mid\n",
      "  10 4th Ride.mid\n",
      "  11 4th Ride.mid\n",
      "  12 4th Ride.mid\n",
      "  13 4th Ride Toms.mid\n",
      "  14 4th Ride Toms.mid\n",
      "  15 4th Ride.mid\n",
      "path ../datasets/drum_midi/60´s Drummer MIDI Files/Early Kit/03 Jazz/08 Bogan 222BPM\n",
      "  01 8th Toms.mid\n",
      "  02 8th Toms.mid\n",
      "  03 8th Toms Hat.mid\n",
      "  04 8th Toms Hat.mid\n",
      "  05 8th Toms Hat.mid\n",
      "  06 8th Toms Hat.mid\n",
      "  07 8th Toms Hat.mid\n",
      "  08 8th Toms Hat.mid\n",
      "  09 8th Toms Hat.mid\n",
      "  10 8th Hat Both.mid\n",
      "  11 8th Hat Both.mid\n",
      "  12 8th Ride Hat.mid\n",
      "  13 8th Ride Hat.mid\n",
      "  14 8th Ride Hat.mid\n",
      "  15 8th Cym Hat.mid\n",
      "path ../datasets/drum_midi/60´s Drummer MIDI Files/Early Kit/03 Jazz/09 Booze 134BPM Triplets\n",
      "  01 8th Ride.mid\n",
      "  02 8th Ride Side.mid\n",
      "  03 8th Ride Toms.mid\n",
      "  04 8th Ride Multi.mid\n",
      "  05 8th Ride Multi.mid\n",
      "  06 8th Ride Multi.mid\n",
      "  07 8th Ride Multi.mid\n",
      "  08 8th Ride.mid\n",
      "  09 8th Ride.mid\n",
      "  10 8th Ride.mid\n",
      "  11 8th Ride Multi.mid\n",
      "  12 8th Ride Multi.mid\n",
      "  13 8th Ride Side.mid\n",
      "  14 8th Ride Toms.mid\n",
      "  15 8th Ride Multi.mid\n",
      "path ../datasets/drum_midi/60´s Drummer MIDI Files/Early Kit/03 Jazz/10 Brown 115BPM\n",
      "  01 8th Ride.mid\n",
      "  02 8th Ride.mid\n",
      "  03 8th Ride.mid\n",
      "  04 8th Ride.mid\n",
      "  05 8th Ride Side.mid\n",
      "  06 8th Ride.mid\n",
      "  07 8th Ride Side.mid\n",
      "  08 8th Ride Side.mid\n",
      "  09 8th Ride Side.mid\n",
      "  10 8th Ride Side.mid\n",
      "  11 8th Ride.mid\n",
      "  12 8th Ride.mid\n",
      "  13 8th Ride Toms.mid\n",
      "  14 8th Ride.mid\n",
      "  15 8th Ride.mid\n"
     ]
    },
    {
     "name": "stdout",
     "output_type": "stream",
     "text": [
      "\n",
      "Encoding midi-data\n",
      " 1000\n",
      "> -> multi-track = True none\n",
      "\u001b[92m [INFO] : \u001b[0m\n",
      " |  True\n"
     ]
    }
   ],
   "source": [
    "n = 500 * 2\n",
    "dim4 = True\n",
    "multiTrack = True\n",
    "reduce_dims = midi.ReduceDimsOptions.NONE # GLOBAL\n",
    "dn = 'drum_midi/'\n",
    "v = None # float | None\n",
    "x_train, labels = setup.import_data(context, n, dim4=dim4, reduce_dims=reduce_dims, \n",
    "    dirname=dn, multiTrack=multiTrack, velocity=v, r=True)\n",
    "n = 500"
   ]
  },
  {
   "cell_type": "code",
   "execution_count": 6,
   "metadata": {},
   "outputs": [],
   "source": [
    "genres = [string.extract_labels_from_filename(k) for k in labels]\n",
    "# genre_dict = setup.build_label_dict(genres)"
   ]
  },
  {
   "cell_type": "code",
   "execution_count": 7,
   "metadata": {},
   "outputs": [],
   "source": [
    "# [(i,k) for i,k in enumerate(labels[:n])]"
   ]
  },
  {
   "cell_type": "code",
   "execution_count": 8,
   "metadata": {},
   "outputs": [
    {
     "data": {
      "text/plain": [
       "[\"01 Rock'n'Roll\", '01 Dancin Rick 166BPM']"
      ]
     },
     "execution_count": 8,
     "metadata": {},
     "output_type": "execute_result"
    }
   ],
   "source": [
    "genres[0][-2:]"
   ]
  },
  {
   "cell_type": "code",
   "execution_count": 9,
   "metadata": {},
   "outputs": [],
   "source": [
    "unique_genres = set(genre[-1] for genre in genres)"
   ]
  },
  {
   "cell_type": "code",
   "execution_count": 10,
   "metadata": {},
   "outputs": [],
   "source": [
    "# genres = [string.extract_labels_from_filename(k) for k in labels]\n",
    "genre_dict = setup.build_label_dict(genres)\n",
    "labels_ = [label.split('/') for label in labels]\n",
    "label_dict = setup.build_label_dict(labels_)"
   ]
  },
  {
   "cell_type": "code",
   "execution_count": 11,
   "metadata": {},
   "outputs": [
    {
     "data": {
      "text/plain": [
       "(160, 10, 1)"
      ]
     },
     "execution_count": 11,
     "metadata": {},
     "output_type": "execute_result"
    }
   ],
   "source": [
    "input_shape = x_train[0].shape\n",
    "timesteps = input_shape[0]\n",
    "notes = input_shape[1]\n",
    "input_shape"
   ]
  },
  {
   "cell_type": "code",
   "execution_count": 12,
   "metadata": {},
   "outputs": [],
   "source": [
    "latent_dim = 10\n",
    "epsilon_std = 1.0\n",
    "batch_size = 128\n",
    "epochs = 500\n",
    "\n",
    "name = 'non-functional_model.h5'\n",
    "fn = config.model_dir + name"
   ]
  },
  {
   "cell_type": "code",
   "execution_count": 13,
   "metadata": {},
   "outputs": [
    {
     "name": "stderr",
     "output_type": "stream",
     "text": [
      "/usr/local/lib/python3.6/site-packages/keras/layers/core.py:642: UserWarning: `output_shape` argument not specified for layer lambda_2 and cannot be automatically inferred with the Theano backend. Defaulting to output shape `[(None, 10), (None, 10)]` (same as input shape). If the expected output shape is different, specify it via the `output_shape` argument.\n",
      "  .format(self.name, input_shape))\n",
      "/Users/mark/src/pattern-recognition/src/models.py:147: UserWarning: Output \"decoder_model-\" missing from loss dictionary. We assume this was done on purpose, and we will not be expecting any data to be passed to \"decoder_model-\" during training.\n",
      "  vae.compile(optimizer='adam')\n"
     ]
    }
   ],
   "source": [
    "vae, encoder, generator = models.build(input_shape, latent_dim)\n",
    "vae.load_weights(fn)"
   ]
  },
  {
   "cell_type": "code",
   "execution_count": 14,
   "metadata": {},
   "outputs": [
    {
     "data": {
      "image/png": "[encoded data removed]",
      "text/plain": [
       "<matplotlib.figure.Figure at 0x116ca7470>"
      ]
     },
     "metadata": {},
     "output_type": "display_data"
    },
    {
     "data": {
      "image/png": "[encoded data removed]",
      "text/plain": [
       "<matplotlib.figure.Figure at 0x116ceb2b0>"
      ]
     },
     "metadata": {},
     "output_type": "display_data"
    },
    {
     "data": {
      "image/png": "[encoded data removed]",
      "text/plain": [
       "<matplotlib.figure.Figure at 0x11862f588>"
      ]
     },
     "metadata": {},
     "output_type": "display_data"
    },
    {
     "data": {
      "image/png": "[encoded data removed]",
      "text/plain": [
       "<matplotlib.figure.Figure at 0x1186bb4a8>"
      ]
     },
     "metadata": {},
     "output_type": "display_data"
    },
    {
     "data": {
      "text/plain": [
       "<module 'matplotlib.pyplot' from '/usr/local/lib/python3.6/site-packages/matplotlib/pyplot.py'>"
      ]
     },
     "execution_count": 14,
     "metadata": {},
     "output_type": "execute_result"
    }
   ],
   "source": [
    "i,j = 0, 10\n",
    "m = 50\n",
    "y = vae.predict(x_train[:500])\n",
    "plot.single(x_train[i,:m])\n",
    "plot.single(y[i,:m])\n",
    "plot.single(x_train[j,:m])\n",
    "plot.single(y[j,:m])"
   ]
  },
  {
   "cell_type": "markdown",
   "metadata": {},
   "source": [
    "## Style transfer"
   ]
  },
  {
   "cell_type": "code",
   "execution_count": 15,
   "metadata": {},
   "outputs": [],
   "source": [
    "m = 500\n",
    "x_train_encoded = encoder.predict(x_train[:m], batch_size=batch_size)\n",
    "x_train_encoded.shape\n",
    "gd = genre_dict"
   ]
  },
  {
   "cell_type": "code",
   "execution_count": 16,
   "metadata": {},
   "outputs": [],
   "source": [
    "one_to_one = False\n",
    "one_to_one = True\n",
    "\n",
    "dn = config.plots_dir\n",
    "if one_to_one:\n",
    "    transformations = io.load(dn + 'transformations-one-to-one.pkl')\n",
    "    min_transformations = io.load(dn + 'min_transformations-one-to-one.pkl')    \n",
    "    labelled_result = io.load(dn + 'ncd_evaluation-one-to-one_AB.pkl')\n",
    "    labelled_result_min = io.load(dn + 'ncd_evaluation-one-to-one_AB_min.pkl')\n",
    "    genre_dict = label_dict\n",
    "else:\n",
    "    best_dims = io.load(dn + 'transformations-best_dims.pkl')\n",
    "    transformations = io.load(dn + 'transformations.pkl')\n",
    "    min_transformations = io.load(dn + 'min_transformations.pkl')\n",
    "    labelled_result = io.load(dn + 'ncd_evaluation_AB.pkl')\n",
    "    labelled_result_min = io.load(dn + 'ncd_evaluation_AB_min.pkl')\n",
    "    genre_dict = gd"
   ]
  },
  {
   "cell_type": "code",
   "execution_count": 17,
   "metadata": {},
   "outputs": [],
   "source": [
    "def sample_dict(d, i=0):\n",
    "    k = list(d.keys())[i]\n",
    "    return k, d[k]"
   ]
  },
  {
   "cell_type": "code",
   "execution_count": 18,
   "metadata": {},
   "outputs": [],
   "source": [
    "# utils.reload(utils)\n",
    "labelled_result = utils.clean_dict(labelled_result, r=2, verbose=1)"
   ]
  },
  {
   "cell_type": "code",
   "execution_count": 19,
   "metadata": {},
   "outputs": [
    {
     "data": {
      "text/plain": [
       "'02 Boogaloo 120BPM/02 4th Multi.mid'"
      ]
     },
     "execution_count": 19,
     "metadata": {},
     "output_type": "execute_result"
    }
   ],
   "source": [
    "# utils.reload(utils)\n",
    "sample = utils.get(labelled_result, i=10)[0]\n",
    "sample"
   ]
  },
  {
   "cell_type": "code",
   "execution_count": 20,
   "metadata": {},
   "outputs": [],
   "source": [
    "# labelled_result[sample]"
   ]
  },
  {
   "cell_type": "code",
   "execution_count": 21,
   "metadata": {},
   "outputs": [
    {
     "data": {
      "text/plain": [
       "('02 Boogaloo 120BPM/02 4th Multi.mid', '08 Doowoop 140bpm/01 16th Snare.mid')"
      ]
     },
     "execution_count": 21,
     "metadata": {},
     "output_type": "execute_result"
    }
   ],
   "source": [
    "genre_a = utils.get(labelled_result[sample])[0]\n",
    "genre_b,_, scores = utils.get(labelled_result[sample][genre_a])\n",
    "scores_min = utils.get(labelled_result[sample][genre_a])[2]\n",
    "xlabels = np.round(list(scores.keys()), 2)\n",
    "genre_a, genre_b"
   ]
  },
  {
   "cell_type": "code",
   "execution_count": 51,
   "metadata": {
    "scrolled": true
   },
   "outputs": [],
   "source": [
    "# # for k,v in scores.items():\n",
    "# #     print('%s: \\t%f' % (k,v))\n",
    "# print(xlabels)\n",
    "# plot.custom({sample: list(scores.values())}, options={'x_labels': xlabels},\n",
    "#             type_='bar', y_scale_margin=0.01,figsize=(10,3), show=True)"
   ]
  },
  {
   "cell_type": "code",
   "execution_count": 52,
   "metadata": {},
   "outputs": [],
   "source": [
    "# plot.custom({sample: list(scores_min.values())}, options={'x_labels': xlabels},\n",
    "#             type_='bar', y_scale_margin=0.01,figsize=(10,3), show=True)"
   ]
  },
  {
   "cell_type": "code",
   "execution_count": 24,
   "metadata": {},
   "outputs": [
    {
     "data": {
      "text/plain": [
       "([358], '02 Boogaloo 120BPM/02 4th Multi.mid')"
      ]
     },
     "execution_count": 24,
     "metadata": {},
     "output_type": "execute_result"
    }
   ],
   "source": [
    "genre_dict[sample], sample"
   ]
  },
  {
   "cell_type": "code",
   "execution_count": 25,
   "metadata": {},
   "outputs": [
    {
     "name": "stdout",
     "output_type": "stream",
     "text": [
      "Original\n"
     ]
    },
    {
     "data": {
      "image/png": "[encoded data removed]",
      "text/plain": [
       "<matplotlib.figure.Figure at 0x114218e48>"
      ]
     },
     "metadata": {},
     "output_type": "display_data"
    },
    {
     "name": "stdout",
     "output_type": "stream",
     "text": [
      "Identity (transformation)\n"
     ]
    },
    {
     "data": {
      "image/png": "[encoded data removed]",
      "text/plain": [
       "<matplotlib.figure.Figure at 0x11a7fcbe0>"
      ]
     },
     "metadata": {},
     "output_type": "display_data"
    }
   ],
   "source": [
    "utils.reload(plot, midi.pitches)\n",
    "z_sample = x_train_encoded[genre_dict[genre_a][0]]\n",
    "print('Original')\n",
    "plot.single(x_train[genre_dict[sample][0]][:40])\n",
    "print('Identity (transformation)')\n",
    "plot.single(generator.predict(np.array([z_sample]))[0,:40]);"
   ]
  },
  {
   "cell_type": "code",
   "execution_count": 26,
   "metadata": {},
   "outputs": [],
   "source": [
    "transformation = transformations[genre_a][genre_b]\n",
    "min_transformation = min_transformations[genre_a][genre_b]\n",
    "z_transformed = []\n",
    "z_transformed_min = []\n",
    "d = {}\n",
    "for a in [0, 0.125, 0.2, 0.21, 0.22, 0.24]:\n",
    "    z_ = models.apply_transformation(z_sample, transformation, a)\n",
    "    z_transformed.append(z_)\n",
    "    z_ = models.apply_transformation(z_sample, min_transformation, a)\n",
    "    z_transformed_min.append(z_)\n",
    "\n",
    "x_generated = generator.predict(np.array(z_transformed))\n",
    "x_generated_min = generator.predict(np.array(z_transformed_min))"
   ]
  },
  {
   "cell_type": "code",
   "execution_count": 27,
   "metadata": {},
   "outputs": [
    {
     "name": "stdout",
     "output_type": "stream",
     "text": [
      "02 Boogaloo 120BPM/02 4th Multi.mid \n",
      "  02 Boogaloo 120BPM/02 4th Multi.mid \t-> 08 Doowoop 140bpm/01 16th Snare.mid \n"
     ]
    },
    {
     "data": {
      "image/png": "[encoded data removed]",
      "text/plain": [
       "<matplotlib.figure.Figure at 0x118839198>"
      ]
     },
     "metadata": {},
     "output_type": "display_data"
    }
   ],
   "source": [
    "print('%s \\n  %s \\t-> %s '%(sample, genre_a, genre_b))\n",
    "# latent_space = models.gen_latent(generator, latent_dim=latent_dim, n=3, m=2, plot_result=True)\n",
    "plot.multi(x_generated, crop_size=100)"
   ]
  },
  {
   "cell_type": "code",
   "execution_count": 28,
   "metadata": {},
   "outputs": [
    {
     "data": {
      "image/png": "[encoded data removed]",
      "text/plain": [
       "<matplotlib.figure.Figure at 0x11b240ba8>"
      ]
     },
     "metadata": {},
     "output_type": "display_data"
    }
   ],
   "source": [
    "plot.multi(x_generated_min, crop_size=100)"
   ]
  },
  {
   "cell_type": "code",
   "execution_count": null,
   "metadata": {},
   "outputs": [],
   "source": []
  },
  {
   "cell_type": "code",
   "execution_count": 29,
   "metadata": {
    "scrolled": true
   },
   "outputs": [
    {
     "name": "stdout",
     "output_type": "stream",
     "text": [
      "\u001b[92m [INFO] : \u001b[0m\n",
      " |  len, max_t\n",
      " |  3.9052083333333334\n",
      " |  4.0\n",
      "\u001b[92m [INFO] : \u001b[0m\n",
      " |  len, max_t\n",
      " |  3.9052083333333334\n",
      " |  4.0\n",
      "\u001b[92m [INFO] : \u001b[0m\n",
      " |  len, max_t\n",
      " |  3.9052083333333334\n",
      " |  4.0\n",
      "\u001b[92m [INFO] : \u001b[0m\n",
      " |  len, max_t\n",
      " |  3.9052083333333334\n",
      " |  4.0\n",
      "\u001b[92m [INFO] : \u001b[0m\n",
      " |  len, max_t\n",
      " |  3.9052083333333334\n",
      " |  4.0\n",
      "\u001b[92m [INFO] : \u001b[0m\n",
      " |  len, max_t\n",
      " |  3.9052083333333334\n",
      " |  4.0\n",
      "\u001b[92m [INFO] : \u001b[0m\n",
      " |  len, max_t\n",
      " |  3.9052083333333334\n",
      " |  4.0\n",
      "\u001b[92m [INFO] : \u001b[0m\n",
      " |  len, max_t\n",
      " |  3.9052083333333334\n",
      " |  4.0\n",
      "\u001b[92m [INFO] : \u001b[0m\n",
      " |  len, max_t\n",
      " |  3.9052083333333334\n",
      " |  4.0\n",
      "\u001b[92m [INFO] : \u001b[0m\n",
      " |  len, max_t\n",
      " |  3.9052083333333334\n",
      " |  4.0\n",
      "\u001b[92m [INFO] : \u001b[0m\n",
      " |  len, max_t\n",
      " |  3.9052083333333334\n",
      " |  4.0\n",
      "\u001b[92m [INFO] : \u001b[0m\n",
      " |  len, max_t\n",
      " |  3.9052083333333334\n",
      " |  4.0\n"
     ]
    }
   ],
   "source": [
    "# utils.reload(midi, midi.decode)\n",
    "for i in range(x_generated.shape[0]):\n",
    "    x_ = x_generated[i]\n",
    "    mid = midi.decode.track(context, x_)\n",
    "    io.export_midifile(mid, config.export_dir + ('x-generated-%i'%i))\n",
    "    x_ = x_generated_min[i]\n",
    "    mid = midi.decode.track(context, x_)    \n",
    "    io.export_midifile(mid, config.export_dir + ('x-generated_min-%i'%i))    "
   ]
  },
  {
   "cell_type": "code",
   "execution_count": 30,
   "metadata": {},
   "outputs": [],
   "source": [
    "def summarize(data):\n",
    "    \"\"\"data :: {samples: {genre a: {genre b: grid}}}\n",
    "    grid = {parameter: outcome}\n",
    "    \n",
    "    return :: {parameter: [value] }\n",
    "    \"\"\"\n",
    "    summary = collections.defaultdict(list)\n",
    "    for original in data.keys():\n",
    "        for genre_a in data[original].keys():\n",
    "            for genre_b, grid in data[original][genre_a].items():\n",
    "                for k,v in grid.items():\n",
    "                    summary[k].append(v)\n",
    "    return summary\n",
    "\n",
    "def evaluate(data, verbose=0):\n",
    "    \"\"\"\n",
    "    data :: {parameter: [value] }\n",
    "    return :: {statistic: {parameter: value}}\n",
    "    \"\"\"\n",
    "    result = utils.summary_multi(data, mode=list)\n",
    "    std = []\n",
    "    for k,v in data.items():\n",
    "        std.append(np.std(v))\n",
    "    \n",
    "    result['std'] = std\n",
    "    if verbose: \n",
    "        print(result['mean'])\n",
    "    return result"
   ]
  },
  {
   "cell_type": "code",
   "execution_count": 31,
   "metadata": {
    "scrolled": true
   },
   "outputs": [],
   "source": [
    "result = summarize(labelled_result)\n",
    "result_min = summarize(labelled_result_min)\n",
    "xlabels = np.round(list(result.keys()), 3)\n",
    "summary = evaluate(result)\n",
    "summary_min = evaluate(result_min)\n",
    "summary_ = summary.copy() # {'Mean': summary['mean'], 'Median': summary['median']}\n",
    "summary_min_ = summary_min.copy()\n",
    "summary_.pop('std')\n",
    "summary_min_.pop('std');"
   ]
  },
  {
   "cell_type": "code",
   "execution_count": 32,
   "metadata": {},
   "outputs": [
    {
     "data": {
      "text/plain": [
       "'../results/ncd_result_min-summary.csv'"
      ]
     },
     "execution_count": 32,
     "metadata": {},
     "output_type": "execute_result"
    }
   ],
   "source": [
    "io.save_dict(config.results_dir, 'ncd_result-summary', summary)\n",
    "io.save_dict(config.results_dir, 'ncd_result_min-summary', summary_min)"
   ]
  },
  {
   "cell_type": "code",
   "execution_count": 33,
   "metadata": {},
   "outputs": [
    {
     "data": {
      "text/plain": [
       "array([0.  , 0.05, 0.1 , 0.15, 0.2 , 0.25, 0.3 , 0.35, 0.4 , 0.45, 0.5 ,\n",
       "       0.55, 0.6 , 0.65, 0.7 , 0.75, 0.8 , 0.85, 0.9 , 0.95, 1.  ])"
      ]
     },
     "execution_count": 33,
     "metadata": {},
     "output_type": "execute_result"
    }
   ],
   "source": [
    "xlabels"
   ]
  },
  {
   "cell_type": "code",
   "execution_count": 92,
   "metadata": {},
   "outputs": [
    {
     "data": {
      "image/png": "[encoded data removed]",
      "text/plain": [
       "<matplotlib.figure.Figure at 0x11bfc1710>"
      ]
     },
     "metadata": {},
     "output_type": "display_data"
    }
   ],
   "source": [
    "options = {'x_labels': xlabels, 'x_label':'Transformation intensity', 'y_label': 'ncd', 'legend':True}\n",
    "plot.custom(summary_, 'NCD', options,\n",
    "            type_='line', min_y_scale=None, max_y_scale=None, y_scale_margin=0.0001,figsize=(9,3), show=True)"
   ]
  },
  {
   "cell_type": "code",
   "execution_count": 93,
   "metadata": {},
   "outputs": [
    {
     "data": {
      "image/png": "[encoded data removed]",
      "text/plain": [
       "<matplotlib.figure.Figure at 0x11bfe2240>"
      ]
     },
     "metadata": {},
     "output_type": "display_data"
    }
   ],
   "source": [
    "plot.custom(summary_, 'NCD', options,\n",
    "            type_='line', min_y_scale=None, max_y_scale=None, y_scale_margin=0.0001,figsize=(9,3), show=True)"
   ]
  },
  {
   "cell_type": "code",
   "execution_count": 56,
   "metadata": {
    "scrolled": true
   },
   "outputs": [
    {
     "data": {
      "text/plain": [
       "[0.8959936347886465,\n",
       " 0.8964423481327146,\n",
       " 0.8953725129805147,\n",
       " 0.8950777716186213,\n",
       " 0.8938402216387309,\n",
       " 0.8917668320743983,\n",
       " 0.8918977860859879,\n",
       " 0.8912597189771212,\n",
       " 0.8897382182543614,\n",
       " 0.8882630825434946,\n",
       " 0.8876484690516832,\n",
       " 0.8870146529833498,\n",
       " 0.8857965952152654,\n",
       " 0.8842347789606577,\n",
       " 0.8846637500118799,\n",
       " 0.8801049564549668,\n",
       " 0.8739672171117052,\n",
       " 0.8682151570056819,\n",
       " 0.8584858418527886,\n",
       " 0.8384155111340355,\n",
       " 0.34366520173563087]"
      ]
     },
     "execution_count": 56,
     "metadata": {},
     "output_type": "execute_result"
    }
   ],
   "source": [
    "summary['mean']"
   ]
  },
  {
   "cell_type": "code",
   "execution_count": 69,
   "metadata": {},
   "outputs": [
    {
     "data": {
      "image/png": "[encoded data removed]",
      "text/plain": [
       "<matplotlib.figure.Figure at 0x11c7f97b8>"
      ]
     },
     "metadata": {},
     "output_type": "display_data"
    }
   ],
   "source": [
    "# utils.reload(plot)\n",
    "options = {'x_labels': xlabels}\n",
    "# custom(summary, 'NCD', options, relative=True, show=True)\n",
    "plot.custom({'Mean':summary['mean']}, 'NCD', options, type_='bar', min_y_scale=0, max_y_scale=1, \n",
    "            y_scale_margin=0.01,figsize=(10,3), show=True)"
   ]
  },
  {
   "cell_type": "code",
   "execution_count": 68,
   "metadata": {},
   "outputs": [
    {
     "data": {
      "image/png": "[encoded data removed]",
      "text/plain": [
       "<matplotlib.figure.Figure at 0x11c6d6978>"
      ]
     },
     "metadata": {},
     "output_type": "display_data"
    }
   ],
   "source": [
    "plot.custom({'Mean':summary_min['mean']}, 'NCD min', options, type_='bar', min_y_scale=0, max_y_scale=1, \n",
    "            y_scale_margin=0.01, figsize=(10,3), show=True)"
   ]
  },
  {
   "cell_type": "code",
   "execution_count": 73,
   "metadata": {},
   "outputs": [
    {
     "data": {
      "image/png": "[encoded data removed]",
      "text/plain": [
       "<matplotlib.figure.Figure at 0x11cb9c780>"
      ]
     },
     "metadata": {},
     "output_type": "display_data"
    }
   ],
   "source": [
    "# utils.reload(plot)\n",
    "options = {'x_labels': xlabels,}\n",
    "# custom(summary, 'NCD', options, relative=True, show=True)\n",
    "std = {'Mean': summary['std'], 'Median': summary['std']}\n",
    "plot.custom({'Mean':summary['mean']}, 'NCD', options, type_='bar',std=std,figsize=(10,3), min_y_scale=None, max_y_scale=None, y_scale_margin=0.03, show=True)"
   ]
  },
  {
   "cell_type": "code",
   "execution_count": 86,
   "metadata": {},
   "outputs": [
    {
     "data": {
      "image/png": "[encoded data removed]",
      "text/plain": [
       "<matplotlib.figure.Figure at 0x11c858e80>"
      ]
     },
     "metadata": {},
     "output_type": "display_data"
    }
   ],
   "source": [
    "std_min = {'Mean': summary_min['std'], 'Median': summary_min['std']}\n",
    "plot.custom({'Mean':summary_min['mean']}, 'NCD min', options,dn='../', type_='bar',std=std_min,figsize=(10,3), min_y_scale=None, max_y_scale=None, y_scale_margin=0.03, show=True)"
   ]
  },
  {
   "cell_type": "code",
   "execution_count": 85,
   "metadata": {},
   "outputs": [
    {
     "data": {
      "image/png": "[encoded data removed]",
      "text/plain": [
       "<matplotlib.figure.Figure at 0x11c845358>"
      ]
     },
     "metadata": {},
     "output_type": "display_data"
    }
   ],
   "source": [
    "# utils.reload(plot)\n",
    "plot.custom({'Median':summary['median']}, 'NCD median', options, type_='bar', figsize=(10,3),std=std, show=True)"
   ]
  },
  {
   "cell_type": "code",
   "execution_count": 79,
   "metadata": {},
   "outputs": [
    {
     "data": {
      "image/png": "[encoded data removed]",
      "text/plain": [
       "<matplotlib.figure.Figure at 0x11aaefda0>"
      ]
     },
     "metadata": {},
     "output_type": "display_data"
    }
   ],
   "source": [
    "plot.custom({'Median':summary_min['median']}, 'NCD-min median', options, type_='bar',figsize=(10,3), std=std_min, show=True)"
   ]
  },
  {
   "cell_type": "code",
   "execution_count": 43,
   "metadata": {},
   "outputs": [
    {
     "data": {
      "text/plain": [
       "dict_keys([0.0, 0.05, 0.1, 0.15000000000000002, 0.2, 0.25, 0.30000000000000004, 0.35000000000000003, 0.4, 0.45, 0.5, 0.55, 0.6000000000000001, 0.65, 0.7000000000000001, 0.75, 0.8, 0.8500000000000001, 0.9, 0.9500000000000001, 1.0])"
      ]
     },
     "execution_count": 43,
     "metadata": {},
     "output_type": "execute_result"
    }
   ],
   "source": [
    "result.keys()"
   ]
  },
  {
   "cell_type": "code",
   "execution_count": 44,
   "metadata": {},
   "outputs": [],
   "source": [
    "import scipy.stats"
   ]
  },
  {
   "cell_type": "code",
   "execution_count": 45,
   "metadata": {},
   "outputs": [],
   "source": [
    "# assume all distributions are related, do not shuffle\n",
    "# i.e. param1[0] is related to param2[0]\n",
    "def evaluate(data, base_k=0, f=scipy.stats.ttest_rel, p=0.05,win_c=lambda x,y: x>y):\n",
    "    result = {}\n",
    "    base_v = data[base_k]\n",
    "    for k,v in data.items():\n",
    "        if len(v) < 1:\n",
    "            raise(ValueError('Warning: len(v) == %i for k: %s'%(len(v), str(k))))\n",
    "        if not k == base_k:\n",
    "            score = scipy.stats.ttest_rel(base_v, v)\n",
    "            won = win_c(np.mean(base_v), np.mean(v))\n",
    "            significant = score.pvalue < p\n",
    "            result['%s/%s' % (base_k,k)] = (won, significant)\n",
    "            print('%s vs %s: \\t' % (base_k, k), won, significant, round(score.pvalue,4))"
   ]
  },
  {
   "cell_type": "code",
   "execution_count": 46,
   "metadata": {
    "scrolled": true
   },
   "outputs": [
    {
     "name": "stdout",
     "output_type": "stream",
     "text": [
      "0 vs 0.05: \t False False 0.788\n",
      "0 vs 0.1: \t True False 0.7056\n",
      "0 vs 0.15000000000000002: \t True False 0.5498\n",
      "0 vs 0.2: \t True False 0.2511\n",
      "0 vs 0.25: \t True True 0.0296\n",
      "0 vs 0.30000000000000004: \t True False 0.0765\n",
      "0 vs 0.35000000000000003: \t True True 0.0289\n",
      "0 vs 0.4: \t True True 0.0087\n",
      "0 vs 0.45: \t True True 0.0003\n",
      "0 vs 0.5: \t True True 0.0008\n",
      "0 vs 0.55: \t True True 0.0012\n",
      "0 vs 0.6000000000000001: \t True True 0.0002\n",
      "0 vs 0.65: \t True True 0.0\n",
      "0 vs 0.7000000000000001: \t True True 0.0001\n",
      "0 vs 0.75: \t True True 0.0\n",
      "0 vs 0.8: \t True True 0.0\n",
      "0 vs 0.8500000000000001: \t True True 0.0\n",
      "0 vs 0.9: \t True True 0.0\n",
      "0 vs 0.9500000000000001: \t True True 0.0\n",
      "0 vs 1.0: \t True True 0.0\n"
     ]
    }
   ],
   "source": [
    "evaluate(result)"
   ]
  },
  {
   "cell_type": "code",
   "execution_count": 47,
   "metadata": {},
   "outputs": [
    {
     "name": "stdout",
     "output_type": "stream",
     "text": [
      "0 vs 0.05: \t False False 0.4874\n",
      "0 vs 0.1: \t False False 0.6919\n",
      "0 vs 0.15000000000000002: \t False False 0.0906\n",
      "0 vs 0.2: \t True False 0.6938\n",
      "0 vs 0.25: \t False False 0.1045\n",
      "0 vs 0.30000000000000004: \t False False 0.165\n",
      "0 vs 0.35000000000000003: \t False False 0.5271\n",
      "0 vs 0.4: \t False False 0.0838\n",
      "0 vs 0.45: \t True False 0.9846\n",
      "0 vs 0.5: \t False False 0.9181\n",
      "0 vs 0.55: \t True False 0.6666\n",
      "0 vs 0.6000000000000001: \t True False 0.2891\n",
      "0 vs 0.65: \t False False 0.7413\n",
      "0 vs 0.7000000000000001: \t False False 0.3501\n",
      "0 vs 0.75: \t False False 0.185\n",
      "0 vs 0.8: \t False False 0.7011\n",
      "0 vs 0.8500000000000001: \t False False 0.1896\n",
      "0 vs 0.9: \t False False 0.3068\n",
      "0 vs 0.9500000000000001: \t False False 0.1725\n",
      "0 vs 1.0: \t False False 0.0651\n"
     ]
    }
   ],
   "source": [
    "evaluate(result_min)"
   ]
  },
  {
   "cell_type": "code",
   "execution_count": 48,
   "metadata": {
    "scrolled": true
   },
   "outputs": [
    {
     "name": "stdout",
     "output_type": "stream",
     "text": [
      "0 vs 0.05: \t False False 0.4874\n",
      "0 vs 0.1: \t False False 0.6919\n",
      "0 vs 0.15000000000000002: \t False False 0.0906\n",
      "0 vs 0.2: \t True False 0.6938\n",
      "0 vs 0.25: \t False False 0.1045\n",
      "0 vs 0.30000000000000004: \t False False 0.165\n",
      "0 vs 0.35000000000000003: \t False False 0.5271\n",
      "0 vs 0.4: \t False False 0.0838\n",
      "0 vs 0.45: \t True False 0.9846\n",
      "0 vs 0.5: \t False False 0.9181\n",
      "0 vs 0.55: \t True False 0.6666\n",
      "0 vs 0.6000000000000001: \t True False 0.2891\n",
      "0 vs 0.65: \t False False 0.7413\n",
      "0 vs 0.7000000000000001: \t False False 0.3501\n",
      "0 vs 0.75: \t False False 0.185\n",
      "0 vs 0.8: \t False False 0.7011\n",
      "0 vs 0.8500000000000001: \t False False 0.1896\n",
      "0 vs 0.9: \t False False 0.3068\n",
      "0 vs 0.9500000000000001: \t False False 0.1725\n",
      "0 vs 1.0: \t False False 0.0651\n"
     ]
    }
   ],
   "source": [
    "evaluate(result_min, base_k=0, f=scipy.stats.ttest_ind)"
   ]
  },
  {
   "cell_type": "code",
   "execution_count": null,
   "metadata": {},
   "outputs": [],
   "source": []
  },
  {
   "cell_type": "code",
   "execution_count": null,
   "metadata": {},
   "outputs": [],
   "source": []
  },
  {
   "cell_type": "code",
   "execution_count": null,
   "metadata": {},
   "outputs": [],
   "source": []
  },
  {
   "cell_type": "code",
   "execution_count": null,
   "metadata": {},
   "outputs": [],
   "source": []
  },
  {
   "cell_type": "code",
   "execution_count": null,
   "metadata": {},
   "outputs": [],
   "source": []
  },
  {
   "cell_type": "code",
   "execution_count": null,
   "metadata": {},
   "outputs": [],
   "source": []
  },
  {
   "cell_type": "code",
   "execution_count": null,
   "metadata": {},
   "outputs": [],
   "source": []
  }
 ],
 "metadata": {
  "kernelspec": {
   "display_name": "Python 3",
   "language": "python",
   "name": "python3"
  },
  "language_info": {
   "codemirror_mode": {
    "name": "ipython",
    "version": 3
   },
   "file_extension": ".py",
   "mimetype": "text/x-python",
   "name": "python",
   "nbconvert_exporter": "python",
   "pygments_lexer": "ipython3",
   "version": "3.6.5"
  }
 },
 "nbformat": 4,
 "nbformat_minor": 2
}
