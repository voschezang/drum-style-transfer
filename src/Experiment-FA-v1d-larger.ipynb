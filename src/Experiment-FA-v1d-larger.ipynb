{
 "cells": [
  {
   "cell_type": "markdown",
   "metadata": {},
   "source": [
    "## Frequency Analysis\n",
    "\n",
    "Generating a complex pattern (distribution) from a single value can be done with dense layers, conv layer and recurrent layers. Autoencoders and Variational Autoencoders can easily be trained to decode a small latent-space vector into a complex image or waveform.\n",
    "\n",
    "This document investigates what kinds of networks are best suited to extract the required information needed to re-generate an input waveform.\n",
    "\n",
    "Ideally, we want a network that performs a component analysis of an input sample, and outputs the frequencies of the sinewaves that it consists of."
   ]
  },
  {
   "cell_type": "code",
   "execution_count": 1,
   "metadata": {},
   "outputs": [
    {
     "name": "stderr",
     "output_type": "stream",
     "text": [
      "/Library/Frameworks/Python.framework/Versions/3.6/lib/python3.6/site-packages/h5py/__init__.py:36: FutureWarning: Conversion of the second argument of issubdtype from `float` to `np.floating` is deprecated. In future, it will be treated as `np.float64 == np.dtype(float).type`.\n",
      "  from ._conv import register_converters as _register_converters\n",
      "Using TensorFlow backend.\n"
     ]
    }
   ],
   "source": [
    "from __future__ import division\n",
    "\n",
    "import keras\n",
    "from keras import backend as K\n",
    "from keras.layers import Layer\n",
    "from keras import activations\n",
    "from keras import utils\n",
    "from keras.datasets import cifar10\n",
    "from keras.models import Model\n",
    "from keras.layers import *\n",
    "from keras.preprocessing.image import ImageDataGenerator\n",
    "from keras.callbacks import TensorBoard"
   ]
  },
  {
   "cell_type": "code",
   "execution_count": 2,
   "metadata": {},
   "outputs": [],
   "source": [
    "import config\n",
    "import os, numpy as np, pandas, sklearn, scipy.signal as signal\n",
    "import mido\n",
    "import matplotlib.pyplot as plt\n",
    "%matplotlib inline\n",
    "# local libs\n",
    "import config, models, setup\n",
    "import midi\n",
    "from midi import generators as g\n",
    "from utils import io, models_io, utils, plot\n",
    "from capsule.layers import Capsule, Length\n",
    "from capsule.capsulefunctions import squash, softmax, margin_loss"
   ]
  },
  {
   "cell_type": "code",
   "execution_count": 3,
   "metadata": {},
   "outputs": [
    {
     "name": "stdout",
     "output_type": "stream",
     "text": [
      " Context :: namedtuple(\n",
      "[ max_t = float\n",
      ", dt = float\n",
      ", n_timestesp = int\n",
      ", note_length = int\n",
      ", bpm = float\n",
      ", tempo = float\n",
      ", ticks_per_beat = int\n",
      "]\n",
      "\n",
      "Setting up params\n",
      "\n",
      "max min f 10.0 0.5\n",
      " >> Context(max_t=2.0, dt=0.05, n_timesteps=40, note_length=0.03, bpm=120.0, tempo=500000, ticks_per_beat=480)\n",
      " sample length:  40.000000\n",
      " max_f: 10.000000, min_f: 0.500000\n"
     ]
    }
   ],
   "source": [
    "context = setup.init()"
   ]
  },
  {
   "cell_type": "code",
   "execution_count": 4,
   "metadata": {},
   "outputs": [
    {
     "name": "stdout",
     "output_type": "stream",
     "text": [
      "\n",
      "Importing midi-data\n",
      "\n",
      "Encoding midi-data\n",
      " 10\n",
      "> -> multi-track = True global\n",
      "\u001b[92m [INFO] : \u001b[0m\n",
      " |  True\n",
      "\u001b[92m [INFO] : \u001b[0m\n",
      " |  reduced mt list dims:\n",
      " |  (10, 40, 13)\n"
     ]
    }
   ],
   "source": [
    "n = 10 * 1\n",
    "dim4 = True\n",
    "multiTrack = True\n",
    "x_train, labels = setup.import_data(context, n, dim4=dim4, multiTrack=multiTrack)"
   ]
  },
  {
   "cell_type": "code",
   "execution_count": 5,
   "metadata": {
    "scrolled": true
   },
   "outputs": [
    {
     "name": "stdout",
     "output_type": "stream",
     "text": [
      "\u001b[92m [INFO] : \u001b[0m\n",
      " |  True\n",
      "\u001b[92m [INFO] : \u001b[0m\n",
      " |  reduced mt list dims:\n",
      " |  (1000, 40, 1)\n"
     ]
    }
   ],
   "source": [
    "n = 1000\n",
    "min_f = 0\n",
    "max_f = 4\n",
    "x_train, params = g.gen_data_complex(context, n, max_f=max_f, min_f=min_f,\n",
    "    n_polyrythms=1,\n",
    "    n_channels=1,\n",
    "    d_phase=False,\n",
    "    dim4=dim4,\n",
    "    multiTrack=multiTrack)"
   ]
  },
  {
   "cell_type": "code",
   "execution_count": 6,
   "metadata": {},
   "outputs": [
    {
     "data": {
      "text/plain": [
       "(1000, 1, 1)"
      ]
     },
     "execution_count": 6,
     "metadata": {},
     "output_type": "execute_result"
    }
   ],
   "source": [
    "params.shape # n, n_channels, n_polyrythms"
   ]
  },
  {
   "cell_type": "code",
   "execution_count": 7,
   "metadata": {},
   "outputs": [
    {
     "data": {
      "text/plain": [
       "(1000, 40, 1, 1)"
      ]
     },
     "execution_count": 7,
     "metadata": {},
     "output_type": "execute_result"
    }
   ],
   "source": [
    "x_train.shape"
   ]
  },
  {
   "cell_type": "code",
   "execution_count": 8,
   "metadata": {},
   "outputs": [],
   "source": [
    "# train test split\n",
    "m = int(x_train.shape[0] * 0.9)"
   ]
  },
  {
   "cell_type": "code",
   "execution_count": 9,
   "metadata": {},
   "outputs": [
    {
     "data": {
      "text/plain": [
       "(array([1., 1., 0., 0., 0., 1., 1., 2., 1., 3.]),\n",
       " array([0.48761451, 0.83502664, 1.18243877, 1.5298509 , 1.87726304,\n",
       "        2.22467517, 2.5720873 , 2.91949943, 3.26691156, 3.61432369,\n",
       "        3.96173582]),\n",
       " <a list of 10 Patch objects>)"
      ]
     },
     "execution_count": 9,
     "metadata": {},
     "output_type": "execute_result"
    },
    {
     "data": {
      "image/png": "[encoded data removed]",
      "text/plain": [
       "<matplotlib.figure.Figure at 0x1157f4c50>"
      ]
     },
     "metadata": {},
     "output_type": "display_data"
    }
   ],
   "source": [
    "plt.hist(params[:10,0,0])"
   ]
  },
  {
   "cell_type": "code",
   "execution_count": 10,
   "metadata": {},
   "outputs": [
    {
     "data": {
      "text/plain": [
       "[<matplotlib.lines.Line2D at 0x117d7e3c8>]"
      ]
     },
     "execution_count": 10,
     "metadata": {},
     "output_type": "execute_result"
    },
    {
     "data": {
      "image/png": "[encoded data removed]",
      "text/plain": [
       "<matplotlib.figure.Figure at 0x1157f4b70>"
      ]
     },
     "metadata": {},
     "output_type": "display_data"
    }
   ],
   "source": [
    "plt.plot(params[:10,0,0])"
   ]
  },
  {
   "cell_type": "code",
   "execution_count": 11,
   "metadata": {},
   "outputs": [
    {
     "data": {
      "text/plain": [
       "(1000,)"
      ]
     },
     "execution_count": 11,
     "metadata": {},
     "output_type": "execute_result"
    }
   ],
   "source": [
    "# range_ = (max_f - min_f)\n",
    "range_ = max_f + 1 # extra margin = 1\n",
    "y_train = params[:,0,0] / range_\n",
    "y_train.shape"
   ]
  },
  {
   "cell_type": "code",
   "execution_count": 12,
   "metadata": {},
   "outputs": [
    {
     "data": {
      "text/plain": [
       "(1000, 40, 1, 1)"
      ]
     },
     "execution_count": 12,
     "metadata": {},
     "output_type": "execute_result"
    }
   ],
   "source": [
    "x_train.shape"
   ]
  },
  {
   "cell_type": "code",
   "execution_count": 13,
   "metadata": {},
   "outputs": [],
   "source": [
    "x_test = x_train[m:]\n",
    "x_train = x_train[:m]\n",
    "y_test = y_train[m:]\n",
    "y_train = y_train[:m]"
   ]
  },
  {
   "cell_type": "code",
   "execution_count": 14,
   "metadata": {},
   "outputs": [
    {
     "data": {
      "text/plain": [
       "[<matplotlib.lines.Line2D at 0x117ee0b38>]"
      ]
     },
     "execution_count": 14,
     "metadata": {},
     "output_type": "execute_result"
    },
    {
     "data": {
      "image/png": "[encoded data removed]",
      "text/plain": [
       "<matplotlib.figure.Figure at 0x117314160>"
      ]
     },
     "metadata": {},
     "output_type": "display_data"
    }
   ],
   "source": [
    "plt.plot(y_train[:50])"
   ]
  },
  {
   "cell_type": "code",
   "execution_count": 15,
   "metadata": {},
   "outputs": [
    {
     "name": "stdout",
     "output_type": "stream",
     "text": [
      "m (30, 1)\n"
     ]
    },
    {
     "data": {
      "image/png": "[encoded data removed]",
      "text/plain": [
       "<matplotlib.figure.Figure at 0x1173160b8>"
      ]
     },
     "metadata": {},
     "output_type": "display_data"
    },
    {
     "name": "stdout",
     "output_type": "stream",
     "text": [
      "m (30, 1)\n"
     ]
    },
    {
     "data": {
      "image/png": "[encoded data removed]",
      "text/plain": [
       "<matplotlib.figure.Figure at 0x1171dff28>"
      ]
     },
     "metadata": {},
     "output_type": "display_data"
    },
    {
     "name": "stdout",
     "output_type": "stream",
     "text": [
      "[0.0975229 0.2030567]\n"
     ]
    }
   ],
   "source": [
    "i = 0\n",
    "plot.single(x_train[i,:30,0])\n",
    "plot.single(x_train[i+1,:30,0])\n",
    "print(y_train[i:i+2])"
   ]
  },
  {
   "cell_type": "markdown",
   "metadata": {},
   "source": [
    "Make sure all frequencies fall inside the window"
   ]
  },
  {
   "cell_type": "code",
   "execution_count": 16,
   "metadata": {},
   "outputs": [
    {
     "name": "stdout",
     "output_type": "stream",
     "text": [
      "m (30, 1)\n"
     ]
    },
    {
     "data": {
      "image/png": "[encoded data removed]",
      "text/plain": [
       "<matplotlib.figure.Figure at 0x117db9dd8>"
      ]
     },
     "metadata": {},
     "output_type": "display_data"
    },
    {
     "name": "stdout",
     "output_type": "stream",
     "text": [
      "m (30, 1)\n"
     ]
    },
    {
     "data": {
      "image/png": "[encoded data removed]",
      "text/plain": [
       "<matplotlib.figure.Figure at 0x1171e8470>"
      ]
     },
     "metadata": {},
     "output_type": "display_data"
    },
    {
     "name": "stdout",
     "output_type": "stream",
     "text": [
      "0.7998534611385836 0.0\n"
     ]
    }
   ],
   "source": [
    "i = y_train.argmax()\n",
    "j = y_train.argmin()\n",
    "plot.single(x_train[i,:30,0])\n",
    "plot.single(x_train[j,:30,0])\n",
    "print(y_train[i], y_train[j])"
   ]
  },
  {
   "cell_type": "code",
   "execution_count": 17,
   "metadata": {},
   "outputs": [
    {
     "data": {
      "text/plain": [
       "(40, 1, 1)"
      ]
     },
     "execution_count": 17,
     "metadata": {},
     "output_type": "execute_result"
    }
   ],
   "source": [
    "input_shape = x_train[0].shape\n",
    "input_shape"
   ]
  },
  {
   "cell_type": "code",
   "execution_count": 180,
   "metadata": {},
   "outputs": [
    {
     "name": "stdout",
     "output_type": "stream",
     "text": [
      "_________________________________________________________________\n",
      "Layer (type)                 Output Shape              Param #   \n",
      "=================================================================\n",
      "input_15 (InputLayer)        (None, 40, 1, 1)          0         \n",
      "_________________________________________________________________\n",
      "reshape_22 (Reshape)         (None, 40, 1)             0         \n",
      "_________________________________________________________________\n",
      "simple_rnn_16 (SimpleRNN)    (None, 4)                 24        \n",
      "_________________________________________________________________\n",
      "dense_55 (Dense)             (None, 4)                 20        \n",
      "_________________________________________________________________\n",
      "dense_56 (Dense)             (None, 1)                 5         \n",
      "=================================================================\n",
      "Total params: 49\n",
      "Trainable params: 49\n",
      "Non-trainable params: 0\n",
      "_________________________________________________________________\n"
     ]
    }
   ],
   "source": [
    "timesteps, notes, channels = input_shape\n",
    "\n",
    "encoder_input = Input(shape=(timesteps, notes, channels))\n",
    "x = encoder_input\n",
    "\n",
    "x = Reshape((timesteps, notes))(x)\n",
    "# x = Reshape((timesteps, notes,1,1))(x)\n",
    "# x = SimpleRNN(1)(x)\n",
    "x = SimpleRNN(4, unroll=True)(x)\n",
    "# x = ConvLSTM2D(3, kernel_size=(1,1))(x)\n",
    "# x = Flatten()(x)\n",
    "x = Dense(4, activation='relu')(x)\n",
    "x = Dense(1, activation='sigmoid')(x)\n",
    "\n",
    "encoder_output = x\n",
    "\n",
    "encoder_model = Model(encoder_input, encoder_output, name='encoder-')\n",
    "encoder_model.summary()"
   ]
  },
  {
   "cell_type": "code",
   "execution_count": 181,
   "metadata": {},
   "outputs": [],
   "source": [
    "loss = 'mse' # mse mae binary_crossentropy rmsprop adadelta\n",
    "encoder_model.compile(loss=loss, optimizer='rmsprop', metrics=['accuracy','mae','binary_crossentropy'])"
   ]
  },
  {
   "cell_type": "code",
   "execution_count": 182,
   "metadata": {},
   "outputs": [],
   "source": [
    "phase_mod = 0.1\n",
    "whitening = False\n",
    "\n",
    "datagen = ImageDataGenerator(\n",
    "        featurewise_center=False,  # set input mean to 0 over the dataset\n",
    "        samplewise_center=False,  # set each sample mean to 0\n",
    "        featurewise_std_normalization=False,  # divide inputs by dataset std\n",
    "        samplewise_std_normalization=False,  # divide each input by its std\n",
    "#         zca_epsilon=10,\n",
    "        zca_whitening=whitening,\n",
    "        rotation_range=0,  # randomly rotate images in 0 to 180 degrees\n",
    "        width_shift_range=0.,  # note-channel mod, but not shuffled\n",
    "        height_shift_range=phase_mod,  # start_t, phase\n",
    "        horizontal_flip=False,  # reverse\n",
    "        vertical_flip=False)\n",
    "\n",
    "datagen.fit(x_train)"
   ]
  },
  {
   "cell_type": "code",
   "execution_count": 183,
   "metadata": {},
   "outputs": [],
   "source": [
    "batch_size = 100\n",
    "epochs = 500"
   ]
  },
  {
   "cell_type": "code",
   "execution_count": 184,
   "metadata": {
    "scrolled": true
   },
   "outputs": [
    {
     "name": "stdout",
     "output_type": "stream",
     "text": [
      "Not using data augmentation.\n",
      "Train on 900 samples, validate on 100 samples\n",
      "Epoch 1/500\n",
      "900/900 [==============================] - 1s 2ms/step - loss: 0.0467 - acc: 0.0022 - mean_absolute_error: 0.1817 - binary_crossentropy: 0.6661 - val_loss: 0.0256 - val_acc: 0.0000e+00 - val_mean_absolute_error: 0.1407 - val_binary_crossentropy: 0.6039\n",
      "Epoch 2/500\n",
      "900/900 [==============================] - 0s 38us/step - loss: 0.0187 - acc: 0.0022 - mean_absolute_error: 0.1187 - binary_crossentropy: 0.6044 - val_loss: 0.0130 - val_acc: 0.0000e+00 - val_mean_absolute_error: 0.0937 - val_binary_crossentropy: 0.5730\n",
      "Epoch 3/500\n",
      "900/900 [==============================] - 0s 47us/step - loss: 0.0114 - acc: 0.0022 - mean_absolute_error: 0.0870 - binary_crossentropy: 0.5866 - val_loss: 0.0106 - val_acc: 0.0000e+00 - val_mean_absolute_error: 0.0804 - val_binary_crossentropy: 0.5668\n",
      "Epoch 4/500\n",
      "900/900 [==============================] - 0s 50us/step - loss: 0.0093 - acc: 0.0022 - mean_absolute_error: 0.0787 - binary_crossentropy: 0.5817 - val_loss: 0.0096 - val_acc: 0.0000e+00 - val_mean_absolute_error: 0.0779 - val_binary_crossentropy: 0.5645\n",
      "Epoch 5/500\n",
      "900/900 [==============================] - 0s 72us/step - loss: 0.0084 - acc: 0.0022 - mean_absolute_error: 0.0755 - binary_crossentropy: 0.5797 - val_loss: 0.0087 - val_acc: 0.0000e+00 - val_mean_absolute_error: 0.0763 - val_binary_crossentropy: 0.5626\n",
      "Epoch 6/500\n",
      "900/900 [==============================] - 0s 43us/step - loss: 0.0079 - acc: 0.0022 - mean_absolute_error: 0.0741 - binary_crossentropy: 0.5788 - val_loss: 0.0088 - val_acc: 0.0000e+00 - val_mean_absolute_error: 0.0778 - val_binary_crossentropy: 0.5637\n",
      "Epoch 7/500\n",
      "900/900 [==============================] - 0s 36us/step - loss: 0.0076 - acc: 0.0022 - mean_absolute_error: 0.0722 - binary_crossentropy: 0.5784 - val_loss: 0.0080 - val_acc: 0.0000e+00 - val_mean_absolute_error: 0.0749 - val_binary_crossentropy: 0.5617\n",
      "Epoch 8/500\n",
      "900/900 [==============================] - 0s 34us/step - loss: 0.0073 - acc: 0.0022 - mean_absolute_error: 0.0708 - binary_crossentropy: 0.5780 - val_loss: 0.0076 - val_acc: 0.0000e+00 - val_mean_absolute_error: 0.0733 - val_binary_crossentropy: 0.5610\n",
      "Epoch 9/500\n",
      "900/900 [==============================] - 0s 35us/step - loss: 0.0068 - acc: 0.0022 - mean_absolute_error: 0.0681 - binary_crossentropy: 0.5770 - val_loss: 0.0071 - val_acc: 0.0000e+00 - val_mean_absolute_error: 0.0712 - val_binary_crossentropy: 0.5600\n",
      "Epoch 10/500\n",
      "900/900 [==============================] - 0s 36us/step - loss: 0.0065 - acc: 0.0022 - mean_absolute_error: 0.0664 - binary_crossentropy: 0.5765 - val_loss: 0.0070 - val_acc: 0.0000e+00 - val_mean_absolute_error: 0.0717 - val_binary_crossentropy: 0.5595\n",
      "Epoch 11/500\n",
      "900/900 [==============================] - 0s 35us/step - loss: 0.0064 - acc: 0.0022 - mean_absolute_error: 0.0655 - binary_crossentropy: 0.5763 - val_loss: 0.0066 - val_acc: 0.0000e+00 - val_mean_absolute_error: 0.0677 - val_binary_crossentropy: 0.5594\n",
      "Epoch 12/500\n",
      "900/900 [==============================] - 0s 35us/step - loss: 0.0059 - acc: 0.0022 - mean_absolute_error: 0.0630 - binary_crossentropy: 0.5754 - val_loss: 0.0067 - val_acc: 0.0000e+00 - val_mean_absolute_error: 0.0693 - val_binary_crossentropy: 0.5600\n",
      "Epoch 13/500\n",
      "900/900 [==============================] - 0s 37us/step - loss: 0.0058 - acc: 0.0022 - mean_absolute_error: 0.0622 - binary_crossentropy: 0.5751 - val_loss: 0.0063 - val_acc: 0.0000e+00 - val_mean_absolute_error: 0.0671 - val_binary_crossentropy: 0.5591\n",
      "Epoch 14/500\n",
      "900/900 [==============================] - 0s 35us/step - loss: 0.0055 - acc: 0.0022 - mean_absolute_error: 0.0601 - binary_crossentropy: 0.5744 - val_loss: 0.0059 - val_acc: 0.0000e+00 - val_mean_absolute_error: 0.0640 - val_binary_crossentropy: 0.5580\n",
      "Epoch 15/500\n",
      "900/900 [==============================] - 0s 40us/step - loss: 0.0051 - acc: 0.0022 - mean_absolute_error: 0.0577 - binary_crossentropy: 0.5739 - val_loss: 0.0056 - val_acc: 0.0000e+00 - val_mean_absolute_error: 0.0632 - val_binary_crossentropy: 0.5572\n",
      "Epoch 16/500\n",
      "900/900 [==============================] - 0s 37us/step - loss: 0.0049 - acc: 0.0022 - mean_absolute_error: 0.0565 - binary_crossentropy: 0.5733 - val_loss: 0.0054 - val_acc: 0.0000e+00 - val_mean_absolute_error: 0.0627 - val_binary_crossentropy: 0.5570\n",
      "Epoch 17/500\n",
      "900/900 [==============================] - 0s 41us/step - loss: 0.0048 - acc: 0.0022 - mean_absolute_error: 0.0561 - binary_crossentropy: 0.5730 - val_loss: 0.0053 - val_acc: 0.0000e+00 - val_mean_absolute_error: 0.0624 - val_binary_crossentropy: 0.5567\n",
      "Epoch 18/500\n",
      "900/900 [==============================] - 0s 38us/step - loss: 0.0046 - acc: 0.0022 - mean_absolute_error: 0.0550 - binary_crossentropy: 0.5727 - val_loss: 0.0052 - val_acc: 0.0000e+00 - val_mean_absolute_error: 0.0614 - val_binary_crossentropy: 0.5568\n",
      "Epoch 19/500\n",
      "900/900 [==============================] - 0s 42us/step - loss: 0.0044 - acc: 0.0022 - mean_absolute_error: 0.0540 - binary_crossentropy: 0.5722 - val_loss: 0.0052 - val_acc: 0.0000e+00 - val_mean_absolute_error: 0.0623 - val_binary_crossentropy: 0.5563\n",
      "Epoch 20/500\n",
      "900/900 [==============================] - 0s 38us/step - loss: 0.0043 - acc: 0.0022 - mean_absolute_error: 0.0533 - binary_crossentropy: 0.5720 - val_loss: 0.0049 - val_acc: 0.0000e+00 - val_mean_absolute_error: 0.0604 - val_binary_crossentropy: 0.5561\n",
      "Epoch 21/500\n",
      "900/900 [==============================] - 0s 36us/step - loss: 0.0043 - acc: 0.0022 - mean_absolute_error: 0.0536 - binary_crossentropy: 0.5720 - val_loss: 0.0051 - val_acc: 0.0000e+00 - val_mean_absolute_error: 0.0619 - val_binary_crossentropy: 0.5560\n",
      "Epoch 22/500\n",
      "900/900 [==============================] - 0s 36us/step - loss: 0.0040 - acc: 0.0022 - mean_absolute_error: 0.0523 - binary_crossentropy: 0.5715 - val_loss: 0.0047 - val_acc: 0.0000e+00 - val_mean_absolute_error: 0.0596 - val_binary_crossentropy: 0.5554\n",
      "Epoch 23/500\n",
      "900/900 [==============================] - 0s 37us/step - loss: 0.0039 - acc: 0.0022 - mean_absolute_error: 0.0508 - binary_crossentropy: 0.5712 - val_loss: 0.0046 - val_acc: 0.0000e+00 - val_mean_absolute_error: 0.0586 - val_binary_crossentropy: 0.5551\n",
      "Epoch 24/500\n",
      "900/900 [==============================] - 0s 41us/step - loss: 0.0039 - acc: 0.0022 - mean_absolute_error: 0.0509 - binary_crossentropy: 0.5711 - val_loss: 0.0045 - val_acc: 0.0000e+00 - val_mean_absolute_error: 0.0585 - val_binary_crossentropy: 0.5548\n",
      "Epoch 25/500\n",
      "900/900 [==============================] - 0s 40us/step - loss: 0.0039 - acc: 0.0022 - mean_absolute_error: 0.0509 - binary_crossentropy: 0.5710 - val_loss: 0.0044 - val_acc: 0.0000e+00 - val_mean_absolute_error: 0.0572 - val_binary_crossentropy: 0.5548\n",
      "Epoch 26/500\n",
      "900/900 [==============================] - 0s 41us/step - loss: 0.0039 - acc: 0.0022 - mean_absolute_error: 0.0504 - binary_crossentropy: 0.5710 - val_loss: 0.0046 - val_acc: 0.0000e+00 - val_mean_absolute_error: 0.0573 - val_binary_crossentropy: 0.5554\n",
      "Epoch 27/500\n",
      "900/900 [==============================] - 0s 39us/step - loss: 0.0037 - acc: 0.0022 - mean_absolute_error: 0.0497 - binary_crossentropy: 0.5706 - val_loss: 0.0042 - val_acc: 0.0000e+00 - val_mean_absolute_error: 0.0565 - val_binary_crossentropy: 0.5542\n",
      "Epoch 28/500\n",
      "900/900 [==============================] - 0s 48us/step - loss: 0.0037 - acc: 0.0022 - mean_absolute_error: 0.0491 - binary_crossentropy: 0.5706 - val_loss: 0.0043 - val_acc: 0.0000e+00 - val_mean_absolute_error: 0.0568 - val_binary_crossentropy: 0.5541\n",
      "Epoch 29/500\n",
      "900/900 [==============================] - 0s 42us/step - loss: 0.0035 - acc: 0.0022 - mean_absolute_error: 0.0484 - binary_crossentropy: 0.5701 - val_loss: 0.0041 - val_acc: 0.0000e+00 - val_mean_absolute_error: 0.0556 - val_binary_crossentropy: 0.5539\n",
      "Epoch 30/500\n",
      "900/900 [==============================] - 0s 41us/step - loss: 0.0036 - acc: 0.0022 - mean_absolute_error: 0.0490 - binary_crossentropy: 0.5703 - val_loss: 0.0042 - val_acc: 0.0000e+00 - val_mean_absolute_error: 0.0555 - val_binary_crossentropy: 0.5541\n",
      "Epoch 31/500\n"
     ]
    },
    {
     "name": "stdout",
     "output_type": "stream",
     "text": [
      "900/900 [==============================] - 0s 39us/step - loss: 0.0035 - acc: 0.0022 - mean_absolute_error: 0.0483 - binary_crossentropy: 0.5701 - val_loss: 0.0040 - val_acc: 0.0000e+00 - val_mean_absolute_error: 0.0549 - val_binary_crossentropy: 0.5536\n",
      "Epoch 32/500\n",
      "900/900 [==============================] - 0s 37us/step - loss: 0.0034 - acc: 0.0022 - mean_absolute_error: 0.0477 - binary_crossentropy: 0.5697 - val_loss: 0.0041 - val_acc: 0.0000e+00 - val_mean_absolute_error: 0.0545 - val_binary_crossentropy: 0.5540\n",
      "Epoch 33/500\n",
      "900/900 [==============================] - 0s 40us/step - loss: 0.0035 - acc: 0.0022 - mean_absolute_error: 0.0482 - binary_crossentropy: 0.5700 - val_loss: 0.0038 - val_acc: 0.0000e+00 - val_mean_absolute_error: 0.0537 - val_binary_crossentropy: 0.5530\n",
      "Epoch 34/500\n",
      "900/900 [==============================] - 0s 38us/step - loss: 0.0033 - acc: 0.0022 - mean_absolute_error: 0.0468 - binary_crossentropy: 0.5695 - val_loss: 0.0038 - val_acc: 0.0000e+00 - val_mean_absolute_error: 0.0532 - val_binary_crossentropy: 0.5529\n",
      "Epoch 35/500\n",
      "900/900 [==============================] - 0s 42us/step - loss: 0.0035 - acc: 0.0022 - mean_absolute_error: 0.0483 - binary_crossentropy: 0.5698 - val_loss: 0.0042 - val_acc: 0.0000e+00 - val_mean_absolute_error: 0.0554 - val_binary_crossentropy: 0.5533\n",
      "Epoch 36/500\n",
      "900/900 [==============================] - 0s 38us/step - loss: 0.0034 - acc: 0.0022 - mean_absolute_error: 0.0470 - binary_crossentropy: 0.5694 - val_loss: 0.0037 - val_acc: 0.0000e+00 - val_mean_absolute_error: 0.0527 - val_binary_crossentropy: 0.5527\n",
      "Epoch 37/500\n",
      "900/900 [==============================] - 0s 34us/step - loss: 0.0032 - acc: 0.0022 - mean_absolute_error: 0.0458 - binary_crossentropy: 0.5691 - val_loss: 0.0037 - val_acc: 0.0000e+00 - val_mean_absolute_error: 0.0523 - val_binary_crossentropy: 0.5524\n",
      "Epoch 38/500\n",
      "900/900 [==============================] - 0s 37us/step - loss: 0.0034 - acc: 0.0022 - mean_absolute_error: 0.0468 - binary_crossentropy: 0.5695 - val_loss: 0.0039 - val_acc: 0.0000e+00 - val_mean_absolute_error: 0.0537 - val_binary_crossentropy: 0.5526\n",
      "Epoch 39/500\n",
      "900/900 [==============================] - 0s 36us/step - loss: 0.0032 - acc: 0.0022 - mean_absolute_error: 0.0461 - binary_crossentropy: 0.5691 - val_loss: 0.0036 - val_acc: 0.0000e+00 - val_mean_absolute_error: 0.0513 - val_binary_crossentropy: 0.5521\n",
      "Epoch 40/500\n",
      "900/900 [==============================] - 0s 35us/step - loss: 0.0030 - acc: 0.0022 - mean_absolute_error: 0.0446 - binary_crossentropy: 0.5686 - val_loss: 0.0042 - val_acc: 0.0000e+00 - val_mean_absolute_error: 0.0553 - val_binary_crossentropy: 0.5529\n",
      "Epoch 41/500\n",
      "900/900 [==============================] - 0s 36us/step - loss: 0.0031 - acc: 0.0022 - mean_absolute_error: 0.0456 - binary_crossentropy: 0.5688 - val_loss: 0.0035 - val_acc: 0.0000e+00 - val_mean_absolute_error: 0.0506 - val_binary_crossentropy: 0.5518\n",
      "Epoch 42/500\n",
      "900/900 [==============================] - 0s 36us/step - loss: 0.0032 - acc: 0.0022 - mean_absolute_error: 0.0455 - binary_crossentropy: 0.5688 - val_loss: 0.0035 - val_acc: 0.0000e+00 - val_mean_absolute_error: 0.0506 - val_binary_crossentropy: 0.5519\n",
      "Epoch 43/500\n",
      "900/900 [==============================] - 0s 35us/step - loss: 0.0031 - acc: 0.0022 - mean_absolute_error: 0.0449 - binary_crossentropy: 0.5686 - val_loss: 0.0037 - val_acc: 0.0000e+00 - val_mean_absolute_error: 0.0516 - val_binary_crossentropy: 0.5519\n",
      "Epoch 44/500\n",
      "900/900 [==============================] - 0s 36us/step - loss: 0.0032 - acc: 0.0022 - mean_absolute_error: 0.0461 - binary_crossentropy: 0.5688 - val_loss: 0.0034 - val_acc: 0.0000e+00 - val_mean_absolute_error: 0.0499 - val_binary_crossentropy: 0.5514\n",
      "Epoch 45/500\n",
      "900/900 [==============================] - 0s 34us/step - loss: 0.0029 - acc: 0.0022 - mean_absolute_error: 0.0438 - binary_crossentropy: 0.5681 - val_loss: 0.0037 - val_acc: 0.0000e+00 - val_mean_absolute_error: 0.0520 - val_binary_crossentropy: 0.5517\n",
      "Epoch 46/500\n",
      "900/900 [==============================] - 0s 44us/step - loss: 0.0029 - acc: 0.0022 - mean_absolute_error: 0.0436 - binary_crossentropy: 0.5679 - val_loss: 0.0033 - val_acc: 0.0000e+00 - val_mean_absolute_error: 0.0492 - val_binary_crossentropy: 0.5514\n",
      "Epoch 47/500\n",
      "900/900 [==============================] - 0s 38us/step - loss: 0.0030 - acc: 0.0022 - mean_absolute_error: 0.0441 - binary_crossentropy: 0.5682 - val_loss: 0.0032 - val_acc: 0.0000e+00 - val_mean_absolute_error: 0.0482 - val_binary_crossentropy: 0.5508\n",
      "Epoch 48/500\n",
      "900/900 [==============================] - 0s 40us/step - loss: 0.0030 - acc: 0.0022 - mean_absolute_error: 0.0443 - binary_crossentropy: 0.5682 - val_loss: 0.0032 - val_acc: 0.0000e+00 - val_mean_absolute_error: 0.0479 - val_binary_crossentropy: 0.5508\n",
      "Epoch 49/500\n",
      "900/900 [==============================] - 0s 36us/step - loss: 0.0027 - acc: 0.0022 - mean_absolute_error: 0.0416 - binary_crossentropy: 0.5674 - val_loss: 0.0035 - val_acc: 0.0000e+00 - val_mean_absolute_error: 0.0505 - val_binary_crossentropy: 0.5510\n",
      "Epoch 50/500\n",
      "900/900 [==============================] - 0s 37us/step - loss: 0.0028 - acc: 0.0022 - mean_absolute_error: 0.0428 - binary_crossentropy: 0.5675 - val_loss: 0.0031 - val_acc: 0.0000e+00 - val_mean_absolute_error: 0.0473 - val_binary_crossentropy: 0.5505\n",
      "Epoch 51/500\n",
      "900/900 [==============================] - 0s 35us/step - loss: 0.0026 - acc: 0.0022 - mean_absolute_error: 0.0414 - binary_crossentropy: 0.5672 - val_loss: 0.0036 - val_acc: 0.0000e+00 - val_mean_absolute_error: 0.0502 - val_binary_crossentropy: 0.5521\n",
      "Epoch 52/500\n",
      "900/900 [==============================] - 0s 36us/step - loss: 0.0028 - acc: 0.0022 - mean_absolute_error: 0.0435 - binary_crossentropy: 0.5677 - val_loss: 0.0032 - val_acc: 0.0000e+00 - val_mean_absolute_error: 0.0485 - val_binary_crossentropy: 0.5505\n",
      "Epoch 53/500\n",
      "900/900 [==============================] - 0s 37us/step - loss: 0.0027 - acc: 0.0022 - mean_absolute_error: 0.0425 - binary_crossentropy: 0.5674 - val_loss: 0.0031 - val_acc: 0.0000e+00 - val_mean_absolute_error: 0.0474 - val_binary_crossentropy: 0.5504\n",
      "Epoch 54/500\n",
      "900/900 [==============================] - 0s 41us/step - loss: 0.0026 - acc: 0.0022 - mean_absolute_error: 0.0416 - binary_crossentropy: 0.5671 - val_loss: 0.0029 - val_acc: 0.0000e+00 - val_mean_absolute_error: 0.0462 - val_binary_crossentropy: 0.5500\n",
      "Epoch 55/500\n",
      "900/900 [==============================] - 0s 37us/step - loss: 0.0028 - acc: 0.0022 - mean_absolute_error: 0.0430 - binary_crossentropy: 0.5674 - val_loss: 0.0033 - val_acc: 0.0000e+00 - val_mean_absolute_error: 0.0484 - val_binary_crossentropy: 0.5510\n",
      "Epoch 56/500\n",
      "900/900 [==============================] - 0s 42us/step - loss: 0.0026 - acc: 0.0022 - mean_absolute_error: 0.0413 - binary_crossentropy: 0.5670 - val_loss: 0.0028 - val_acc: 0.0000e+00 - val_mean_absolute_error: 0.0449 - val_binary_crossentropy: 0.5495\n",
      "Epoch 57/500\n",
      "900/900 [==============================] - 0s 36us/step - loss: 0.0026 - acc: 0.0022 - mean_absolute_error: 0.0419 - binary_crossentropy: 0.5670 - val_loss: 0.0028 - val_acc: 0.0000e+00 - val_mean_absolute_error: 0.0446 - val_binary_crossentropy: 0.5494\n",
      "Epoch 58/500\n",
      "900/900 [==============================] - 0s 35us/step - loss: 0.0024 - acc: 0.0022 - mean_absolute_error: 0.0400 - binary_crossentropy: 0.5666 - val_loss: 0.0034 - val_acc: 0.0000e+00 - val_mean_absolute_error: 0.0486 - val_binary_crossentropy: 0.5510\n",
      "Epoch 59/500\n",
      "900/900 [==============================] - 0s 37us/step - loss: 0.0025 - acc: 0.0022 - mean_absolute_error: 0.0412 - binary_crossentropy: 0.5668 - val_loss: 0.0028 - val_acc: 0.0000e+00 - val_mean_absolute_error: 0.0451 - val_binary_crossentropy: 0.5494\n",
      "Epoch 60/500\n",
      "900/900 [==============================] - 0s 35us/step - loss: 0.0023 - acc: 0.0022 - mean_absolute_error: 0.0389 - binary_crossentropy: 0.5662 - val_loss: 0.0038 - val_acc: 0.0000e+00 - val_mean_absolute_error: 0.0515 - val_binary_crossentropy: 0.5509\n",
      "Epoch 61/500\n",
      "900/900 [==============================] - 0s 34us/step - loss: 0.0027 - acc: 0.0022 - mean_absolute_error: 0.0416 - binary_crossentropy: 0.5671 - val_loss: 0.0026 - val_acc: 0.0000e+00 - val_mean_absolute_error: 0.0437 - val_binary_crossentropy: 0.5488\n"
     ]
    },
    {
     "name": "stdout",
     "output_type": "stream",
     "text": [
      "Epoch 62/500\n",
      "900/900 [==============================] - 0s 40us/step - loss: 0.0025 - acc: 0.0022 - mean_absolute_error: 0.0411 - binary_crossentropy: 0.5667 - val_loss: 0.0027 - val_acc: 0.0000e+00 - val_mean_absolute_error: 0.0448 - val_binary_crossentropy: 0.5492\n",
      "Epoch 63/500\n",
      "900/900 [==============================] - 0s 42us/step - loss: 0.0023 - acc: 0.0022 - mean_absolute_error: 0.0393 - binary_crossentropy: 0.5662 - val_loss: 0.0030 - val_acc: 0.0000e+00 - val_mean_absolute_error: 0.0462 - val_binary_crossentropy: 0.5499\n",
      "Epoch 64/500\n",
      "900/900 [==============================] - 0s 36us/step - loss: 0.0022 - acc: 0.0022 - mean_absolute_error: 0.0386 - binary_crossentropy: 0.5659 - val_loss: 0.0026 - val_acc: 0.0000e+00 - val_mean_absolute_error: 0.0431 - val_binary_crossentropy: 0.5485\n",
      "Epoch 65/500\n",
      "900/900 [==============================] - 0s 37us/step - loss: 0.0024 - acc: 0.0022 - mean_absolute_error: 0.0394 - binary_crossentropy: 0.5662 - val_loss: 0.0025 - val_acc: 0.0000e+00 - val_mean_absolute_error: 0.0425 - val_binary_crossentropy: 0.5483\n",
      "Epoch 66/500\n",
      "900/900 [==============================] - 0s 47us/step - loss: 0.0023 - acc: 0.0022 - mean_absolute_error: 0.0393 - binary_crossentropy: 0.5661 - val_loss: 0.0027 - val_acc: 0.0000e+00 - val_mean_absolute_error: 0.0440 - val_binary_crossentropy: 0.5490\n",
      "Epoch 67/500\n",
      "900/900 [==============================] - 0s 51us/step - loss: 0.0021 - acc: 0.0022 - mean_absolute_error: 0.0371 - binary_crossentropy: 0.5655 - val_loss: 0.0026 - val_acc: 0.0000e+00 - val_mean_absolute_error: 0.0429 - val_binary_crossentropy: 0.5483\n",
      "Epoch 68/500\n",
      "900/900 [==============================] - 0s 45us/step - loss: 0.0023 - acc: 0.0022 - mean_absolute_error: 0.0388 - binary_crossentropy: 0.5659 - val_loss: 0.0024 - val_acc: 0.0000e+00 - val_mean_absolute_error: 0.0414 - val_binary_crossentropy: 0.5480\n",
      "Epoch 69/500\n",
      "900/900 [==============================] - 0s 39us/step - loss: 0.0022 - acc: 0.0022 - mean_absolute_error: 0.0383 - binary_crossentropy: 0.5658 - val_loss: 0.0026 - val_acc: 0.0000e+00 - val_mean_absolute_error: 0.0428 - val_binary_crossentropy: 0.5482\n",
      "Epoch 70/500\n",
      "900/900 [==============================] - 0s 39us/step - loss: 0.0021 - acc: 0.0022 - mean_absolute_error: 0.0374 - binary_crossentropy: 0.5655 - val_loss: 0.0027 - val_acc: 0.0000e+00 - val_mean_absolute_error: 0.0436 - val_binary_crossentropy: 0.5488\n",
      "Epoch 71/500\n",
      "900/900 [==============================] - 0s 39us/step - loss: 0.0023 - acc: 0.0022 - mean_absolute_error: 0.0397 - binary_crossentropy: 0.5660 - val_loss: 0.0024 - val_acc: 0.0000e+00 - val_mean_absolute_error: 0.0411 - val_binary_crossentropy: 0.5477\n",
      "Epoch 72/500\n",
      "900/900 [==============================] - 0s 40us/step - loss: 0.0020 - acc: 0.0022 - mean_absolute_error: 0.0360 - binary_crossentropy: 0.5651 - val_loss: 0.0030 - val_acc: 0.0000e+00 - val_mean_absolute_error: 0.0458 - val_binary_crossentropy: 0.5497\n",
      "Epoch 73/500\n",
      "900/900 [==============================] - 0s 38us/step - loss: 0.0020 - acc: 0.0022 - mean_absolute_error: 0.0360 - binary_crossentropy: 0.5651 - val_loss: 0.0025 - val_acc: 0.0000e+00 - val_mean_absolute_error: 0.0421 - val_binary_crossentropy: 0.5483\n",
      "Epoch 74/500\n",
      "900/900 [==============================] - 0s 39us/step - loss: 0.0022 - acc: 0.0022 - mean_absolute_error: 0.0381 - binary_crossentropy: 0.5656 - val_loss: 0.0033 - val_acc: 0.0000e+00 - val_mean_absolute_error: 0.0471 - val_binary_crossentropy: 0.5495\n",
      "Epoch 75/500\n",
      "900/900 [==============================] - 0s 42us/step - loss: 0.0021 - acc: 0.0022 - mean_absolute_error: 0.0376 - binary_crossentropy: 0.5654 - val_loss: 0.0022 - val_acc: 0.0000e+00 - val_mean_absolute_error: 0.0393 - val_binary_crossentropy: 0.5472\n",
      "Epoch 76/500\n",
      "900/900 [==============================] - 0s 43us/step - loss: 0.0023 - acc: 0.0022 - mean_absolute_error: 0.0390 - binary_crossentropy: 0.5658 - val_loss: 0.0021 - val_acc: 0.0000e+00 - val_mean_absolute_error: 0.0394 - val_binary_crossentropy: 0.5472\n",
      "Epoch 77/500\n",
      "900/900 [==============================] - 0s 37us/step - loss: 0.0020 - acc: 0.0022 - mean_absolute_error: 0.0358 - binary_crossentropy: 0.5650 - val_loss: 0.0022 - val_acc: 0.0000e+00 - val_mean_absolute_error: 0.0396 - val_binary_crossentropy: 0.5473\n",
      "Epoch 78/500\n",
      "900/900 [==============================] - 0s 46us/step - loss: 0.0021 - acc: 0.0022 - mean_absolute_error: 0.0374 - binary_crossentropy: 0.5654 - val_loss: 0.0022 - val_acc: 0.0000e+00 - val_mean_absolute_error: 0.0389 - val_binary_crossentropy: 0.5471\n",
      "Epoch 79/500\n",
      "900/900 [==============================] - 0s 43us/step - loss: 0.0021 - acc: 0.0022 - mean_absolute_error: 0.0370 - binary_crossentropy: 0.5652 - val_loss: 0.0021 - val_acc: 0.0000e+00 - val_mean_absolute_error: 0.0389 - val_binary_crossentropy: 0.5471\n",
      "Epoch 80/500\n",
      "900/900 [==============================] - 0s 49us/step - loss: 0.0020 - acc: 0.0022 - mean_absolute_error: 0.0362 - binary_crossentropy: 0.5650 - val_loss: 0.0025 - val_acc: 0.0000e+00 - val_mean_absolute_error: 0.0418 - val_binary_crossentropy: 0.5482\n",
      "Epoch 81/500\n",
      "900/900 [==============================] - 0s 46us/step - loss: 0.0024 - acc: 0.0022 - mean_absolute_error: 0.0403 - binary_crossentropy: 0.5660 - val_loss: 0.0020 - val_acc: 0.0000e+00 - val_mean_absolute_error: 0.0380 - val_binary_crossentropy: 0.5469\n",
      "Epoch 82/500\n",
      "900/900 [==============================] - 0s 53us/step - loss: 0.0018 - acc: 0.0022 - mean_absolute_error: 0.0345 - binary_crossentropy: 0.5645 - val_loss: 0.0020 - val_acc: 0.0000e+00 - val_mean_absolute_error: 0.0377 - val_binary_crossentropy: 0.5467\n",
      "Epoch 83/500\n",
      "900/900 [==============================] - 0s 36us/step - loss: 0.0021 - acc: 0.0022 - mean_absolute_error: 0.0375 - binary_crossentropy: 0.5652 - val_loss: 0.0020 - val_acc: 0.0000e+00 - val_mean_absolute_error: 0.0373 - val_binary_crossentropy: 0.5467\n",
      "Epoch 84/500\n",
      "900/900 [==============================] - 0s 50us/step - loss: 0.0017 - acc: 0.0022 - mean_absolute_error: 0.0336 - binary_crossentropy: 0.5643 - val_loss: 0.0021 - val_acc: 0.0000e+00 - val_mean_absolute_error: 0.0386 - val_binary_crossentropy: 0.5469\n",
      "Epoch 85/500\n",
      "900/900 [==============================] - 0s 33us/step - loss: 0.0022 - acc: 0.0022 - mean_absolute_error: 0.0388 - binary_crossentropy: 0.5655 - val_loss: 0.0021 - val_acc: 0.0000e+00 - val_mean_absolute_error: 0.0376 - val_binary_crossentropy: 0.5467\n",
      "Epoch 86/500\n",
      "900/900 [==============================] - 0s 44us/step - loss: 0.0017 - acc: 0.0022 - mean_absolute_error: 0.0335 - binary_crossentropy: 0.5643 - val_loss: 0.0024 - val_acc: 0.0000e+00 - val_mean_absolute_error: 0.0406 - val_binary_crossentropy: 0.5474\n",
      "Epoch 87/500\n",
      "900/900 [==============================] - 0s 43us/step - loss: 0.0019 - acc: 0.0022 - mean_absolute_error: 0.0361 - binary_crossentropy: 0.5648 - val_loss: 0.0019 - val_acc: 0.0000e+00 - val_mean_absolute_error: 0.0363 - val_binary_crossentropy: 0.5464\n",
      "Epoch 88/500\n",
      "900/900 [==============================] - 0s 48us/step - loss: 0.0019 - acc: 0.0022 - mean_absolute_error: 0.0351 - binary_crossentropy: 0.5646 - val_loss: 0.0019 - val_acc: 0.0000e+00 - val_mean_absolute_error: 0.0362 - val_binary_crossentropy: 0.5463\n",
      "Epoch 89/500\n",
      "900/900 [==============================] - 0s 42us/step - loss: 0.0019 - acc: 0.0022 - mean_absolute_error: 0.0349 - binary_crossentropy: 0.5646 - val_loss: 0.0025 - val_acc: 0.0000e+00 - val_mean_absolute_error: 0.0405 - val_binary_crossentropy: 0.5474\n",
      "Epoch 90/500\n",
      "900/900 [==============================] - 0s 46us/step - loss: 0.0021 - acc: 0.0022 - mean_absolute_error: 0.0370 - binary_crossentropy: 0.5650 - val_loss: 0.0018 - val_acc: 0.0000e+00 - val_mean_absolute_error: 0.0361 - val_binary_crossentropy: 0.5463\n",
      "Epoch 91/500\n",
      "900/900 [==============================] - 0s 41us/step - loss: 0.0019 - acc: 0.0022 - mean_absolute_error: 0.0358 - binary_crossentropy: 0.5647 - val_loss: 0.0018 - val_acc: 0.0000e+00 - val_mean_absolute_error: 0.0356 - val_binary_crossentropy: 0.5461\n",
      "Epoch 92/500\n",
      "900/900 [==============================] - 0s 41us/step - loss: 0.0018 - acc: 0.0022 - mean_absolute_error: 0.0344 - binary_crossentropy: 0.5643 - val_loss: 0.0019 - val_acc: 0.0000e+00 - val_mean_absolute_error: 0.0356 - val_binary_crossentropy: 0.5461\n"
     ]
    },
    {
     "name": "stdout",
     "output_type": "stream",
     "text": [
      "Epoch 93/500\n",
      "900/900 [==============================] - 0s 42us/step - loss: 0.0019 - acc: 0.0022 - mean_absolute_error: 0.0355 - binary_crossentropy: 0.5647 - val_loss: 0.0018 - val_acc: 0.0000e+00 - val_mean_absolute_error: 0.0354 - val_binary_crossentropy: 0.5461\n",
      "Epoch 94/500\n",
      "900/900 [==============================] - 0s 40us/step - loss: 0.0020 - acc: 0.0022 - mean_absolute_error: 0.0362 - binary_crossentropy: 0.5648 - val_loss: 0.0023 - val_acc: 0.0000e+00 - val_mean_absolute_error: 0.0393 - val_binary_crossentropy: 0.5470\n",
      "Epoch 95/500\n",
      "900/900 [==============================] - 0s 45us/step - loss: 0.0016 - acc: 0.0022 - mean_absolute_error: 0.0330 - binary_crossentropy: 0.5640 - val_loss: 0.0018 - val_acc: 0.0000e+00 - val_mean_absolute_error: 0.0356 - val_binary_crossentropy: 0.5460\n",
      "Epoch 96/500\n",
      "900/900 [==============================] - 0s 37us/step - loss: 0.0020 - acc: 0.0022 - mean_absolute_error: 0.0360 - binary_crossentropy: 0.5647 - val_loss: 0.0018 - val_acc: 0.0000e+00 - val_mean_absolute_error: 0.0348 - val_binary_crossentropy: 0.5459\n",
      "Epoch 97/500\n",
      "900/900 [==============================] - 0s 50us/step - loss: 0.0018 - acc: 0.0022 - mean_absolute_error: 0.0351 - binary_crossentropy: 0.5644 - val_loss: 0.0018 - val_acc: 0.0000e+00 - val_mean_absolute_error: 0.0349 - val_binary_crossentropy: 0.5459\n",
      "Epoch 98/500\n",
      "900/900 [==============================] - 0s 41us/step - loss: 0.0018 - acc: 0.0022 - mean_absolute_error: 0.0349 - binary_crossentropy: 0.5644 - val_loss: 0.0020 - val_acc: 0.0000e+00 - val_mean_absolute_error: 0.0366 - val_binary_crossentropy: 0.5463\n",
      "Epoch 99/500\n",
      "900/900 [==============================] - 0s 53us/step - loss: 0.0016 - acc: 0.0022 - mean_absolute_error: 0.0320 - binary_crossentropy: 0.5638 - val_loss: 0.0020 - val_acc: 0.0000e+00 - val_mean_absolute_error: 0.0373 - val_binary_crossentropy: 0.5465\n",
      "Epoch 100/500\n",
      "900/900 [==============================] - 0s 44us/step - loss: 0.0021 - acc: 0.0022 - mean_absolute_error: 0.0372 - binary_crossentropy: 0.5649 - val_loss: 0.0022 - val_acc: 0.0000e+00 - val_mean_absolute_error: 0.0378 - val_binary_crossentropy: 0.5466\n",
      "Epoch 101/500\n",
      "900/900 [==============================] - 0s 39us/step - loss: 0.0019 - acc: 0.0022 - mean_absolute_error: 0.0355 - binary_crossentropy: 0.5645 - val_loss: 0.0018 - val_acc: 0.0000e+00 - val_mean_absolute_error: 0.0353 - val_binary_crossentropy: 0.5460\n",
      "Epoch 102/500\n",
      "900/900 [==============================] - 0s 37us/step - loss: 0.0017 - acc: 0.0022 - mean_absolute_error: 0.0340 - binary_crossentropy: 0.5642 - val_loss: 0.0017 - val_acc: 0.0000e+00 - val_mean_absolute_error: 0.0339 - val_binary_crossentropy: 0.5457\n",
      "Epoch 103/500\n",
      "900/900 [==============================] - 0s 42us/step - loss: 0.0019 - acc: 0.0022 - mean_absolute_error: 0.0358 - binary_crossentropy: 0.5645 - val_loss: 0.0018 - val_acc: 0.0000e+00 - val_mean_absolute_error: 0.0357 - val_binary_crossentropy: 0.5461\n",
      "Epoch 104/500\n",
      "900/900 [==============================] - 0s 41us/step - loss: 0.0016 - acc: 0.0022 - mean_absolute_error: 0.0327 - binary_crossentropy: 0.5639 - val_loss: 0.0017 - val_acc: 0.0000e+00 - val_mean_absolute_error: 0.0337 - val_binary_crossentropy: 0.5456\n",
      "Epoch 105/500\n",
      "900/900 [==============================] - 0s 44us/step - loss: 0.0020 - acc: 0.0022 - mean_absolute_error: 0.0367 - binary_crossentropy: 0.5648 - val_loss: 0.0019 - val_acc: 0.0000e+00 - val_mean_absolute_error: 0.0357 - val_binary_crossentropy: 0.5461\n",
      "Epoch 106/500\n",
      "900/900 [==============================] - 0s 43us/step - loss: 0.0017 - acc: 0.0022 - mean_absolute_error: 0.0336 - binary_crossentropy: 0.5641 - val_loss: 0.0018 - val_acc: 0.0000e+00 - val_mean_absolute_error: 0.0360 - val_binary_crossentropy: 0.5462\n",
      "Epoch 107/500\n",
      "900/900 [==============================] - 0s 40us/step - loss: 0.0020 - acc: 0.0022 - mean_absolute_error: 0.0359 - binary_crossentropy: 0.5646 - val_loss: 0.0017 - val_acc: 0.0000e+00 - val_mean_absolute_error: 0.0337 - val_binary_crossentropy: 0.5456\n",
      "Epoch 108/500\n",
      "900/900 [==============================] - 0s 49us/step - loss: 0.0017 - acc: 0.0022 - mean_absolute_error: 0.0334 - binary_crossentropy: 0.5641 - val_loss: 0.0017 - val_acc: 0.0000e+00 - val_mean_absolute_error: 0.0335 - val_binary_crossentropy: 0.5456\n",
      "Epoch 109/500\n",
      "900/900 [==============================] - 0s 36us/step - loss: 0.0021 - acc: 0.0022 - mean_absolute_error: 0.0365 - binary_crossentropy: 0.5648 - val_loss: 0.0017 - val_acc: 0.0000e+00 - val_mean_absolute_error: 0.0339 - val_binary_crossentropy: 0.5457\n",
      "Epoch 110/500\n",
      "900/900 [==============================] - 0s 43us/step - loss: 0.0015 - acc: 0.0022 - mean_absolute_error: 0.0312 - binary_crossentropy: 0.5636 - val_loss: 0.0018 - val_acc: 0.0000e+00 - val_mean_absolute_error: 0.0345 - val_binary_crossentropy: 0.5458\n",
      "Epoch 111/500\n",
      "900/900 [==============================] - 0s 38us/step - loss: 0.0020 - acc: 0.0022 - mean_absolute_error: 0.0361 - binary_crossentropy: 0.5646 - val_loss: 0.0023 - val_acc: 0.0000e+00 - val_mean_absolute_error: 0.0384 - val_binary_crossentropy: 0.5468\n",
      "Epoch 112/500\n",
      "900/900 [==============================] - 0s 37us/step - loss: 0.0018 - acc: 0.0022 - mean_absolute_error: 0.0351 - binary_crossentropy: 0.5643 - val_loss: 0.0019 - val_acc: 0.0000e+00 - val_mean_absolute_error: 0.0366 - val_binary_crossentropy: 0.5462\n",
      "Epoch 113/500\n",
      "900/900 [==============================] - 0s 45us/step - loss: 0.0016 - acc: 0.0022 - mean_absolute_error: 0.0328 - binary_crossentropy: 0.5638 - val_loss: 0.0023 - val_acc: 0.0000e+00 - val_mean_absolute_error: 0.0388 - val_binary_crossentropy: 0.5468\n",
      "Epoch 114/500\n",
      "900/900 [==============================] - 0s 38us/step - loss: 0.0019 - acc: 0.0022 - mean_absolute_error: 0.0355 - binary_crossentropy: 0.5644 - val_loss: 0.0016 - val_acc: 0.0000e+00 - val_mean_absolute_error: 0.0329 - val_binary_crossentropy: 0.5454\n",
      "Epoch 115/500\n",
      "900/900 [==============================] - 0s 36us/step - loss: 0.0019 - acc: 0.0022 - mean_absolute_error: 0.0357 - binary_crossentropy: 0.5645 - val_loss: 0.0018 - val_acc: 0.0000e+00 - val_mean_absolute_error: 0.0346 - val_binary_crossentropy: 0.5458\n",
      "Epoch 116/500\n",
      "900/900 [==============================] - 0s 36us/step - loss: 0.0015 - acc: 0.0022 - mean_absolute_error: 0.0318 - binary_crossentropy: 0.5636 - val_loss: 0.0021 - val_acc: 0.0000e+00 - val_mean_absolute_error: 0.0391 - val_binary_crossentropy: 0.5468\n",
      "Epoch 117/500\n",
      "900/900 [==============================] - 0s 37us/step - loss: 0.0019 - acc: 0.0022 - mean_absolute_error: 0.0354 - binary_crossentropy: 0.5644 - val_loss: 0.0016 - val_acc: 0.0000e+00 - val_mean_absolute_error: 0.0325 - val_binary_crossentropy: 0.5453\n",
      "Epoch 118/500\n",
      "900/900 [==============================] - 0s 37us/step - loss: 0.0018 - acc: 0.0022 - mean_absolute_error: 0.0345 - binary_crossentropy: 0.5641 - val_loss: 0.0016 - val_acc: 0.0000e+00 - val_mean_absolute_error: 0.0339 - val_binary_crossentropy: 0.5456\n",
      "Epoch 119/500\n",
      "900/900 [==============================] - 0s 33us/step - loss: 0.0018 - acc: 0.0022 - mean_absolute_error: 0.0348 - binary_crossentropy: 0.5643 - val_loss: 0.0015 - val_acc: 0.0000e+00 - val_mean_absolute_error: 0.0323 - val_binary_crossentropy: 0.5453\n",
      "Epoch 120/500\n",
      "900/900 [==============================] - 0s 43us/step - loss: 0.0015 - acc: 0.0022 - mean_absolute_error: 0.0316 - binary_crossentropy: 0.5637 - val_loss: 0.0017 - val_acc: 0.0000e+00 - val_mean_absolute_error: 0.0335 - val_binary_crossentropy: 0.5455\n",
      "Epoch 121/500\n",
      "900/900 [==============================] - 0s 34us/step - loss: 0.0018 - acc: 0.0022 - mean_absolute_error: 0.0348 - binary_crossentropy: 0.5642 - val_loss: 0.0021 - val_acc: 0.0000e+00 - val_mean_absolute_error: 0.0385 - val_binary_crossentropy: 0.5467\n",
      "Epoch 122/500\n",
      "900/900 [==============================] - 0s 31us/step - loss: 0.0018 - acc: 0.0022 - mean_absolute_error: 0.0339 - binary_crossentropy: 0.5641 - val_loss: 0.0017 - val_acc: 0.0000e+00 - val_mean_absolute_error: 0.0336 - val_binary_crossentropy: 0.5455\n",
      "Epoch 123/500\n",
      "900/900 [==============================] - 0s 37us/step - loss: 0.0016 - acc: 0.0022 - mean_absolute_error: 0.0328 - binary_crossentropy: 0.5638 - val_loss: 0.0016 - val_acc: 0.0000e+00 - val_mean_absolute_error: 0.0322 - val_binary_crossentropy: 0.5452\n"
     ]
    },
    {
     "name": "stdout",
     "output_type": "stream",
     "text": [
      "Epoch 124/500\n",
      "900/900 [==============================] - 0s 40us/step - loss: 0.0019 - acc: 0.0022 - mean_absolute_error: 0.0351 - binary_crossentropy: 0.5644 - val_loss: 0.0015 - val_acc: 0.0000e+00 - val_mean_absolute_error: 0.0316 - val_binary_crossentropy: 0.5451\n",
      "Epoch 125/500\n",
      "900/900 [==============================] - 0s 40us/step - loss: 0.0015 - acc: 0.0022 - mean_absolute_error: 0.0320 - binary_crossentropy: 0.5636 - val_loss: 0.0027 - val_acc: 0.0000e+00 - val_mean_absolute_error: 0.0413 - val_binary_crossentropy: 0.5475\n",
      "Epoch 126/500\n",
      "900/900 [==============================] - 0s 36us/step - loss: 0.0018 - acc: 0.0022 - mean_absolute_error: 0.0343 - binary_crossentropy: 0.5642 - val_loss: 0.0024 - val_acc: 0.0000e+00 - val_mean_absolute_error: 0.0390 - val_binary_crossentropy: 0.5470\n",
      "Epoch 127/500\n",
      "900/900 [==============================] - 0s 43us/step - loss: 0.0018 - acc: 0.0022 - mean_absolute_error: 0.0345 - binary_crossentropy: 0.5642 - val_loss: 0.0017 - val_acc: 0.0000e+00 - val_mean_absolute_error: 0.0332 - val_binary_crossentropy: 0.5454\n",
      "Epoch 128/500\n",
      "900/900 [==============================] - 0s 41us/step - loss: 0.0017 - acc: 0.0022 - mean_absolute_error: 0.0339 - binary_crossentropy: 0.5639 - val_loss: 0.0016 - val_acc: 0.0000e+00 - val_mean_absolute_error: 0.0334 - val_binary_crossentropy: 0.5454\n",
      "Epoch 129/500\n",
      "900/900 [==============================] - 0s 37us/step - loss: 0.0014 - acc: 0.0022 - mean_absolute_error: 0.0303 - binary_crossentropy: 0.5633 - val_loss: 0.0031 - val_acc: 0.0000e+00 - val_mean_absolute_error: 0.0480 - val_binary_crossentropy: 0.5490\n",
      "Epoch 130/500\n",
      "900/900 [==============================] - 0s 34us/step - loss: 0.0019 - acc: 0.0022 - mean_absolute_error: 0.0353 - binary_crossentropy: 0.5644 - val_loss: 0.0016 - val_acc: 0.0000e+00 - val_mean_absolute_error: 0.0328 - val_binary_crossentropy: 0.5452\n",
      "Epoch 131/500\n",
      "900/900 [==============================] - 0s 36us/step - loss: 0.0018 - acc: 0.0022 - mean_absolute_error: 0.0351 - binary_crossentropy: 0.5641 - val_loss: 0.0016 - val_acc: 0.0000e+00 - val_mean_absolute_error: 0.0335 - val_binary_crossentropy: 0.5454\n",
      "Epoch 132/500\n",
      "900/900 [==============================] - 0s 36us/step - loss: 0.0015 - acc: 0.0022 - mean_absolute_error: 0.0315 - binary_crossentropy: 0.5634 - val_loss: 0.0024 - val_acc: 0.0000e+00 - val_mean_absolute_error: 0.0392 - val_binary_crossentropy: 0.5469\n",
      "Epoch 133/500\n",
      "900/900 [==============================] - 0s 38us/step - loss: 0.0018 - acc: 0.0022 - mean_absolute_error: 0.0343 - binary_crossentropy: 0.5641 - val_loss: 0.0017 - val_acc: 0.0000e+00 - val_mean_absolute_error: 0.0334 - val_binary_crossentropy: 0.5454\n",
      "Epoch 134/500\n",
      "900/900 [==============================] - 0s 36us/step - loss: 0.0016 - acc: 0.0022 - mean_absolute_error: 0.0325 - binary_crossentropy: 0.5637 - val_loss: 0.0030 - val_acc: 0.0000e+00 - val_mean_absolute_error: 0.0469 - val_binary_crossentropy: 0.5487\n",
      "Epoch 135/500\n",
      "900/900 [==============================] - 0s 37us/step - loss: 0.0016 - acc: 0.0022 - mean_absolute_error: 0.0319 - binary_crossentropy: 0.5636 - val_loss: 0.0016 - val_acc: 0.0000e+00 - val_mean_absolute_error: 0.0326 - val_binary_crossentropy: 0.5452\n",
      "Epoch 136/500\n",
      "900/900 [==============================] - 0s 36us/step - loss: 0.0019 - acc: 0.0022 - mean_absolute_error: 0.0362 - binary_crossentropy: 0.5644 - val_loss: 0.0017 - val_acc: 0.0000e+00 - val_mean_absolute_error: 0.0346 - val_binary_crossentropy: 0.5456\n",
      "Epoch 137/500\n",
      "900/900 [==============================] - 0s 40us/step - loss: 0.0016 - acc: 0.0022 - mean_absolute_error: 0.0324 - binary_crossentropy: 0.5636 - val_loss: 0.0021 - val_acc: 0.0000e+00 - val_mean_absolute_error: 0.0363 - val_binary_crossentropy: 0.5461\n",
      "Epoch 138/500\n",
      "900/900 [==============================] - 0s 42us/step - loss: 0.0016 - acc: 0.0022 - mean_absolute_error: 0.0328 - binary_crossentropy: 0.5637 - val_loss: 0.0014 - val_acc: 0.0000e+00 - val_mean_absolute_error: 0.0311 - val_binary_crossentropy: 0.5448\n",
      "Epoch 139/500\n",
      "900/900 [==============================] - 0s 40us/step - loss: 0.0018 - acc: 0.0022 - mean_absolute_error: 0.0354 - binary_crossentropy: 0.5642 - val_loss: 0.0019 - val_acc: 0.0000e+00 - val_mean_absolute_error: 0.0350 - val_binary_crossentropy: 0.5458\n",
      "Epoch 140/500\n",
      "900/900 [==============================] - 0s 38us/step - loss: 0.0015 - acc: 0.0022 - mean_absolute_error: 0.0311 - binary_crossentropy: 0.5633 - val_loss: 0.0017 - val_acc: 0.0000e+00 - val_mean_absolute_error: 0.0336 - val_binary_crossentropy: 0.5454\n",
      "Epoch 141/500\n",
      "900/900 [==============================] - 0s 39us/step - loss: 0.0016 - acc: 0.0022 - mean_absolute_error: 0.0325 - binary_crossentropy: 0.5636 - val_loss: 0.0018 - val_acc: 0.0000e+00 - val_mean_absolute_error: 0.0351 - val_binary_crossentropy: 0.5458\n",
      "Epoch 142/500\n",
      "900/900 [==============================] - 0s 46us/step - loss: 0.0015 - acc: 0.0022 - mean_absolute_error: 0.0326 - binary_crossentropy: 0.5635 - val_loss: 0.0014 - val_acc: 0.0000e+00 - val_mean_absolute_error: 0.0302 - val_binary_crossentropy: 0.5447\n",
      "Epoch 143/500\n",
      "900/900 [==============================] - 0s 43us/step - loss: 0.0018 - acc: 0.0022 - mean_absolute_error: 0.0347 - binary_crossentropy: 0.5641 - val_loss: 0.0014 - val_acc: 0.0000e+00 - val_mean_absolute_error: 0.0306 - val_binary_crossentropy: 0.5448\n",
      "Epoch 144/500\n",
      "900/900 [==============================] - 0s 46us/step - loss: 0.0015 - acc: 0.0022 - mean_absolute_error: 0.0316 - binary_crossentropy: 0.5635 - val_loss: 0.0014 - val_acc: 0.0000e+00 - val_mean_absolute_error: 0.0305 - val_binary_crossentropy: 0.5447\n",
      "Epoch 145/500\n",
      "900/900 [==============================] - 0s 40us/step - loss: 0.0016 - acc: 0.0022 - mean_absolute_error: 0.0329 - binary_crossentropy: 0.5637 - val_loss: 0.0027 - val_acc: 0.0000e+00 - val_mean_absolute_error: 0.0416 - val_binary_crossentropy: 0.5475\n",
      "Epoch 146/500\n",
      "900/900 [==============================] - 0s 41us/step - loss: 0.0015 - acc: 0.0022 - mean_absolute_error: 0.0317 - binary_crossentropy: 0.5634 - val_loss: 0.0017 - val_acc: 0.0000e+00 - val_mean_absolute_error: 0.0340 - val_binary_crossentropy: 0.5455\n",
      "Epoch 147/500\n",
      "900/900 [==============================] - 0s 42us/step - loss: 0.0017 - acc: 0.0022 - mean_absolute_error: 0.0346 - binary_crossentropy: 0.5640 - val_loss: 0.0017 - val_acc: 0.0000e+00 - val_mean_absolute_error: 0.0345 - val_binary_crossentropy: 0.5456\n",
      "Epoch 148/500\n",
      "900/900 [==============================] - 0s 41us/step - loss: 0.0017 - acc: 0.0022 - mean_absolute_error: 0.0337 - binary_crossentropy: 0.5639 - val_loss: 0.0013 - val_acc: 0.0000e+00 - val_mean_absolute_error: 0.0297 - val_binary_crossentropy: 0.5446\n",
      "Epoch 149/500\n",
      "900/900 [==============================] - 0s 40us/step - loss: 0.0016 - acc: 0.0022 - mean_absolute_error: 0.0325 - binary_crossentropy: 0.5637 - val_loss: 0.0019 - val_acc: 0.0000e+00 - val_mean_absolute_error: 0.0350 - val_binary_crossentropy: 0.5457\n",
      "Epoch 150/500\n",
      "900/900 [==============================] - 0s 41us/step - loss: 0.0015 - acc: 0.0022 - mean_absolute_error: 0.0318 - binary_crossentropy: 0.5635 - val_loss: 0.0018 - val_acc: 0.0000e+00 - val_mean_absolute_error: 0.0356 - val_binary_crossentropy: 0.5459\n",
      "Epoch 151/500\n",
      "900/900 [==============================] - 0s 43us/step - loss: 0.0016 - acc: 0.0022 - mean_absolute_error: 0.0326 - binary_crossentropy: 0.5636 - val_loss: 0.0017 - val_acc: 0.0000e+00 - val_mean_absolute_error: 0.0331 - val_binary_crossentropy: 0.5453\n",
      "Epoch 152/500\n",
      "900/900 [==============================] - 0s 48us/step - loss: 0.0017 - acc: 0.0022 - mean_absolute_error: 0.0338 - binary_crossentropy: 0.5640 - val_loss: 0.0014 - val_acc: 0.0000e+00 - val_mean_absolute_error: 0.0304 - val_binary_crossentropy: 0.5447\n",
      "Epoch 153/500\n",
      "900/900 [==============================] - 0s 42us/step - loss: 0.0015 - acc: 0.0022 - mean_absolute_error: 0.0312 - binary_crossentropy: 0.5634 - val_loss: 0.0021 - val_acc: 0.0000e+00 - val_mean_absolute_error: 0.0367 - val_binary_crossentropy: 0.5462\n",
      "Epoch 154/500\n"
     ]
    },
    {
     "name": "stdout",
     "output_type": "stream",
     "text": [
      "900/900 [==============================] - 0s 51us/step - loss: 0.0015 - acc: 0.0022 - mean_absolute_error: 0.0318 - binary_crossentropy: 0.5634 - val_loss: 0.0013 - val_acc: 0.0000e+00 - val_mean_absolute_error: 0.0297 - val_binary_crossentropy: 0.5445\n",
      "Epoch 155/500\n",
      "900/900 [==============================] - 0s 43us/step - loss: 0.0016 - acc: 0.0022 - mean_absolute_error: 0.0326 - binary_crossentropy: 0.5637 - val_loss: 0.0018 - val_acc: 0.0000e+00 - val_mean_absolute_error: 0.0338 - val_binary_crossentropy: 0.5455\n",
      "Epoch 156/500\n",
      "900/900 [==============================] - 0s 43us/step - loss: 0.0016 - acc: 0.0022 - mean_absolute_error: 0.0329 - binary_crossentropy: 0.5637 - val_loss: 0.0013 - val_acc: 0.0000e+00 - val_mean_absolute_error: 0.0302 - val_binary_crossentropy: 0.5446\n",
      "Epoch 157/500\n",
      "900/900 [==============================] - 0s 43us/step - loss: 0.0014 - acc: 0.0022 - mean_absolute_error: 0.0305 - binary_crossentropy: 0.5631 - val_loss: 0.0017 - val_acc: 0.0000e+00 - val_mean_absolute_error: 0.0346 - val_binary_crossentropy: 0.5456\n",
      "Epoch 158/500\n",
      "900/900 [==============================] - 0s 47us/step - loss: 0.0015 - acc: 0.0022 - mean_absolute_error: 0.0315 - binary_crossentropy: 0.5634 - val_loss: 0.0013 - val_acc: 0.0000e+00 - val_mean_absolute_error: 0.0298 - val_binary_crossentropy: 0.5445\n",
      "Epoch 159/500\n",
      "900/900 [==============================] - 0s 42us/step - loss: 0.0017 - acc: 0.0022 - mean_absolute_error: 0.0343 - binary_crossentropy: 0.5639 - val_loss: 0.0014 - val_acc: 0.0000e+00 - val_mean_absolute_error: 0.0304 - val_binary_crossentropy: 0.5447\n",
      "Epoch 160/500\n",
      "900/900 [==============================] - 0s 42us/step - loss: 0.0016 - acc: 0.0022 - mean_absolute_error: 0.0329 - binary_crossentropy: 0.5636 - val_loss: 0.0014 - val_acc: 0.0000e+00 - val_mean_absolute_error: 0.0314 - val_binary_crossentropy: 0.5448\n",
      "Epoch 161/500\n",
      "900/900 [==============================] - 0s 41us/step - loss: 0.0015 - acc: 0.0022 - mean_absolute_error: 0.0322 - binary_crossentropy: 0.5634 - val_loss: 0.0022 - val_acc: 0.0000e+00 - val_mean_absolute_error: 0.0381 - val_binary_crossentropy: 0.5465\n",
      "Epoch 162/500\n",
      "900/900 [==============================] - 0s 42us/step - loss: 0.0015 - acc: 0.0022 - mean_absolute_error: 0.0320 - binary_crossentropy: 0.5634 - val_loss: 0.0022 - val_acc: 0.0000e+00 - val_mean_absolute_error: 0.0392 - val_binary_crossentropy: 0.5466\n",
      "Epoch 163/500\n",
      "900/900 [==============================] - 0s 45us/step - loss: 0.0016 - acc: 0.0022 - mean_absolute_error: 0.0334 - binary_crossentropy: 0.5637 - val_loss: 0.0014 - val_acc: 0.0000e+00 - val_mean_absolute_error: 0.0299 - val_binary_crossentropy: 0.5446\n",
      "Epoch 164/500\n",
      "900/900 [==============================] - 0s 43us/step - loss: 0.0015 - acc: 0.0022 - mean_absolute_error: 0.0320 - binary_crossentropy: 0.5635 - val_loss: 0.0014 - val_acc: 0.0000e+00 - val_mean_absolute_error: 0.0306 - val_binary_crossentropy: 0.5447\n",
      "Epoch 165/500\n",
      "900/900 [==============================] - 0s 45us/step - loss: 0.0016 - acc: 0.0022 - mean_absolute_error: 0.0331 - binary_crossentropy: 0.5637 - val_loss: 0.0019 - val_acc: 0.0000e+00 - val_mean_absolute_error: 0.0370 - val_binary_crossentropy: 0.5461\n",
      "Epoch 166/500\n",
      "900/900 [==============================] - 0s 48us/step - loss: 0.0015 - acc: 0.0022 - mean_absolute_error: 0.0319 - binary_crossentropy: 0.5634 - val_loss: 0.0012 - val_acc: 0.0000e+00 - val_mean_absolute_error: 0.0286 - val_binary_crossentropy: 0.5443\n",
      "Epoch 167/500\n",
      "900/900 [==============================] - 0s 45us/step - loss: 0.0018 - acc: 0.0022 - mean_absolute_error: 0.0350 - binary_crossentropy: 0.5642 - val_loss: 0.0014 - val_acc: 0.0000e+00 - val_mean_absolute_error: 0.0305 - val_binary_crossentropy: 0.5447\n",
      "Epoch 168/500\n",
      "900/900 [==============================] - 0s 47us/step - loss: 0.0012 - acc: 0.0022 - mean_absolute_error: 0.0280 - binary_crossentropy: 0.5627 - val_loss: 0.0012 - val_acc: 0.0000e+00 - val_mean_absolute_error: 0.0289 - val_binary_crossentropy: 0.5444\n",
      "Epoch 169/500\n",
      "900/900 [==============================] - 0s 35us/step - loss: 0.0018 - acc: 0.0022 - mean_absolute_error: 0.0350 - binary_crossentropy: 0.5642 - val_loss: 0.0013 - val_acc: 0.0000e+00 - val_mean_absolute_error: 0.0287 - val_binary_crossentropy: 0.5443\n",
      "Epoch 170/500\n",
      "900/900 [==============================] - 0s 45us/step - loss: 0.0014 - acc: 0.0022 - mean_absolute_error: 0.0310 - binary_crossentropy: 0.5633 - val_loss: 0.0017 - val_acc: 0.0000e+00 - val_mean_absolute_error: 0.0329 - val_binary_crossentropy: 0.5452\n",
      "Epoch 171/500\n",
      "900/900 [==============================] - 0s 45us/step - loss: 0.0016 - acc: 0.0022 - mean_absolute_error: 0.0330 - binary_crossentropy: 0.5637 - val_loss: 0.0033 - val_acc: 0.0000e+00 - val_mean_absolute_error: 0.0507 - val_binary_crossentropy: 0.5493\n",
      "Epoch 172/500\n",
      "900/900 [==============================] - 0s 45us/step - loss: 0.0014 - acc: 0.0022 - mean_absolute_error: 0.0300 - binary_crossentropy: 0.5631 - val_loss: 0.0012 - val_acc: 0.0000e+00 - val_mean_absolute_error: 0.0282 - val_binary_crossentropy: 0.5442\n",
      "Epoch 173/500\n",
      "900/900 [==============================] - 0s 42us/step - loss: 0.0015 - acc: 0.0022 - mean_absolute_error: 0.0317 - binary_crossentropy: 0.5635 - val_loss: 0.0014 - val_acc: 0.0000e+00 - val_mean_absolute_error: 0.0302 - val_binary_crossentropy: 0.5446\n",
      "Epoch 174/500\n",
      "900/900 [==============================] - 0s 39us/step - loss: 0.0015 - acc: 0.0022 - mean_absolute_error: 0.0319 - binary_crossentropy: 0.5634 - val_loss: 0.0014 - val_acc: 0.0000e+00 - val_mean_absolute_error: 0.0304 - val_binary_crossentropy: 0.5446\n",
      "Epoch 175/500\n",
      "900/900 [==============================] - 0s 41us/step - loss: 0.0016 - acc: 0.0022 - mean_absolute_error: 0.0328 - binary_crossentropy: 0.5635 - val_loss: 0.0012 - val_acc: 0.0000e+00 - val_mean_absolute_error: 0.0280 - val_binary_crossentropy: 0.5442\n",
      "Epoch 176/500\n",
      "900/900 [==============================] - 0s 41us/step - loss: 0.0016 - acc: 0.0022 - mean_absolute_error: 0.0325 - binary_crossentropy: 0.5635 - val_loss: 0.0016 - val_acc: 0.0000e+00 - val_mean_absolute_error: 0.0330 - val_binary_crossentropy: 0.5452\n",
      "Epoch 177/500\n",
      "900/900 [==============================] - 0s 35us/step - loss: 0.0014 - acc: 0.0022 - mean_absolute_error: 0.0311 - binary_crossentropy: 0.5632 - val_loss: 0.0013 - val_acc: 0.0000e+00 - val_mean_absolute_error: 0.0288 - val_binary_crossentropy: 0.5443\n",
      "Epoch 178/500\n",
      "900/900 [==============================] - 0s 41us/step - loss: 0.0015 - acc: 0.0022 - mean_absolute_error: 0.0320 - binary_crossentropy: 0.5634 - val_loss: 0.0013 - val_acc: 0.0000e+00 - val_mean_absolute_error: 0.0302 - val_binary_crossentropy: 0.5445\n",
      "Epoch 179/500\n",
      "900/900 [==============================] - 0s 44us/step - loss: 0.0015 - acc: 0.0022 - mean_absolute_error: 0.0317 - binary_crossentropy: 0.5633 - val_loss: 0.0013 - val_acc: 0.0000e+00 - val_mean_absolute_error: 0.0301 - val_binary_crossentropy: 0.5445\n",
      "Epoch 180/500\n",
      "900/900 [==============================] - 0s 41us/step - loss: 0.0016 - acc: 0.0022 - mean_absolute_error: 0.0326 - binary_crossentropy: 0.5635 - val_loss: 0.0012 - val_acc: 0.0000e+00 - val_mean_absolute_error: 0.0282 - val_binary_crossentropy: 0.5442\n",
      "Epoch 181/500\n",
      "900/900 [==============================] - 0s 45us/step - loss: 0.0015 - acc: 0.0022 - mean_absolute_error: 0.0313 - binary_crossentropy: 0.5633 - val_loss: 0.0017 - val_acc: 0.0000e+00 - val_mean_absolute_error: 0.0328 - val_binary_crossentropy: 0.5452\n",
      "Epoch 182/500\n",
      "900/900 [==============================] - 0s 42us/step - loss: 0.0012 - acc: 0.0022 - mean_absolute_error: 0.0285 - binary_crossentropy: 0.5627 - val_loss: 0.0013 - val_acc: 0.0000e+00 - val_mean_absolute_error: 0.0288 - val_binary_crossentropy: 0.5443\n",
      "Epoch 183/500\n",
      "900/900 [==============================] - 0s 46us/step - loss: 0.0019 - acc: 0.0022 - mean_absolute_error: 0.0359 - binary_crossentropy: 0.5642 - val_loss: 0.0012 - val_acc: 0.0000e+00 - val_mean_absolute_error: 0.0283 - val_binary_crossentropy: 0.5442\n",
      "Epoch 184/500\n",
      "900/900 [==============================] - 0s 44us/step - loss: 0.0012 - acc: 0.0022 - mean_absolute_error: 0.0283 - binary_crossentropy: 0.5627 - val_loss: 0.0012 - val_acc: 0.0000e+00 - val_mean_absolute_error: 0.0277 - val_binary_crossentropy: 0.5441\n"
     ]
    },
    {
     "name": "stdout",
     "output_type": "stream",
     "text": [
      "Epoch 185/500\n",
      "900/900 [==============================] - 0s 42us/step - loss: 0.0015 - acc: 0.0022 - mean_absolute_error: 0.0316 - binary_crossentropy: 0.5634 - val_loss: 0.0012 - val_acc: 0.0000e+00 - val_mean_absolute_error: 0.0276 - val_binary_crossentropy: 0.5441\n",
      "Epoch 186/500\n",
      "900/900 [==============================] - 0s 40us/step - loss: 0.0019 - acc: 0.0022 - mean_absolute_error: 0.0351 - binary_crossentropy: 0.5642 - val_loss: 0.0012 - val_acc: 0.0000e+00 - val_mean_absolute_error: 0.0290 - val_binary_crossentropy: 0.5443\n",
      "Epoch 187/500\n",
      "900/900 [==============================] - 0s 36us/step - loss: 0.0012 - acc: 0.0022 - mean_absolute_error: 0.0275 - binary_crossentropy: 0.5626 - val_loss: 0.0012 - val_acc: 0.0000e+00 - val_mean_absolute_error: 0.0277 - val_binary_crossentropy: 0.5441\n",
      "Epoch 188/500\n",
      "900/900 [==============================] - 0s 36us/step - loss: 0.0015 - acc: 0.0022 - mean_absolute_error: 0.0320 - binary_crossentropy: 0.5634 - val_loss: 0.0012 - val_acc: 0.0000e+00 - val_mean_absolute_error: 0.0278 - val_binary_crossentropy: 0.5441\n",
      "Epoch 189/500\n",
      "900/900 [==============================] - 0s 37us/step - loss: 0.0016 - acc: 0.0022 - mean_absolute_error: 0.0319 - binary_crossentropy: 0.5634 - val_loss: 0.0017 - val_acc: 0.0000e+00 - val_mean_absolute_error: 0.0325 - val_binary_crossentropy: 0.5451\n",
      "Epoch 190/500\n",
      "900/900 [==============================] - 0s 35us/step - loss: 0.0014 - acc: 0.0022 - mean_absolute_error: 0.0313 - binary_crossentropy: 0.5632 - val_loss: 0.0012 - val_acc: 0.0000e+00 - val_mean_absolute_error: 0.0278 - val_binary_crossentropy: 0.5441\n",
      "Epoch 191/500\n",
      "900/900 [==============================] - 0s 39us/step - loss: 0.0014 - acc: 0.0022 - mean_absolute_error: 0.0303 - binary_crossentropy: 0.5632 - val_loss: 0.0037 - val_acc: 0.0000e+00 - val_mean_absolute_error: 0.0540 - val_binary_crossentropy: 0.5501\n",
      "Epoch 192/500\n",
      "900/900 [==============================] - 0s 41us/step - loss: 0.0015 - acc: 0.0022 - mean_absolute_error: 0.0303 - binary_crossentropy: 0.5632 - val_loss: 0.0012 - val_acc: 0.0000e+00 - val_mean_absolute_error: 0.0280 - val_binary_crossentropy: 0.5441\n",
      "Epoch 193/500\n",
      "900/900 [==============================] - 0s 37us/step - loss: 0.0016 - acc: 0.0022 - mean_absolute_error: 0.0328 - binary_crossentropy: 0.5636 - val_loss: 0.0018 - val_acc: 0.0000e+00 - val_mean_absolute_error: 0.0346 - val_binary_crossentropy: 0.5455\n",
      "Epoch 194/500\n",
      "900/900 [==============================] - 0s 36us/step - loss: 0.0014 - acc: 0.0022 - mean_absolute_error: 0.0303 - binary_crossentropy: 0.5630 - val_loss: 0.0017 - val_acc: 0.0000e+00 - val_mean_absolute_error: 0.0334 - val_binary_crossentropy: 0.5452\n",
      "Epoch 195/500\n",
      "900/900 [==============================] - 0s 34us/step - loss: 0.0015 - acc: 0.0022 - mean_absolute_error: 0.0311 - binary_crossentropy: 0.5632 - val_loss: 0.0011 - val_acc: 0.0000e+00 - val_mean_absolute_error: 0.0273 - val_binary_crossentropy: 0.5440\n",
      "Epoch 196/500\n",
      "900/900 [==============================] - 0s 34us/step - loss: 0.0016 - acc: 0.0022 - mean_absolute_error: 0.0331 - binary_crossentropy: 0.5635 - val_loss: 0.0015 - val_acc: 0.0000e+00 - val_mean_absolute_error: 0.0316 - val_binary_crossentropy: 0.5449\n",
      "Epoch 197/500\n",
      "900/900 [==============================] - 0s 38us/step - loss: 0.0014 - acc: 0.0022 - mean_absolute_error: 0.0307 - binary_crossentropy: 0.5632 - val_loss: 0.0012 - val_acc: 0.0000e+00 - val_mean_absolute_error: 0.0273 - val_binary_crossentropy: 0.5440\n",
      "Epoch 198/500\n",
      "900/900 [==============================] - 0s 36us/step - loss: 0.0012 - acc: 0.0022 - mean_absolute_error: 0.0280 - binary_crossentropy: 0.5626 - val_loss: 0.0034 - val_acc: 0.0000e+00 - val_mean_absolute_error: 0.0480 - val_binary_crossentropy: 0.5489\n",
      "Epoch 199/500\n",
      "900/900 [==============================] - 0s 36us/step - loss: 0.0017 - acc: 0.0022 - mean_absolute_error: 0.0326 - binary_crossentropy: 0.5637 - val_loss: 0.0015 - val_acc: 0.0000e+00 - val_mean_absolute_error: 0.0305 - val_binary_crossentropy: 0.5446\n",
      "Epoch 200/500\n",
      "900/900 [==============================] - 0s 36us/step - loss: 0.0016 - acc: 0.0022 - mean_absolute_error: 0.0329 - binary_crossentropy: 0.5635 - val_loss: 0.0020 - val_acc: 0.0000e+00 - val_mean_absolute_error: 0.0373 - val_binary_crossentropy: 0.5460\n",
      "Epoch 201/500\n",
      "900/900 [==============================] - 0s 38us/step - loss: 0.0015 - acc: 0.0022 - mean_absolute_error: 0.0318 - binary_crossentropy: 0.5633 - val_loss: 0.0014 - val_acc: 0.0000e+00 - val_mean_absolute_error: 0.0304 - val_binary_crossentropy: 0.5445\n",
      "Epoch 202/500\n",
      "900/900 [==============================] - 0s 34us/step - loss: 0.0014 - acc: 0.0022 - mean_absolute_error: 0.0307 - binary_crossentropy: 0.5631 - val_loss: 0.0012 - val_acc: 0.0000e+00 - val_mean_absolute_error: 0.0277 - val_binary_crossentropy: 0.5440\n",
      "Epoch 203/500\n",
      "900/900 [==============================] - 0s 37us/step - loss: 0.0015 - acc: 0.0022 - mean_absolute_error: 0.0310 - binary_crossentropy: 0.5632 - val_loss: 0.0014 - val_acc: 0.0000e+00 - val_mean_absolute_error: 0.0310 - val_binary_crossentropy: 0.5447\n",
      "Epoch 204/500\n",
      "900/900 [==============================] - 0s 42us/step - loss: 0.0012 - acc: 0.0022 - mean_absolute_error: 0.0280 - binary_crossentropy: 0.5626 - val_loss: 0.0012 - val_acc: 0.0000e+00 - val_mean_absolute_error: 0.0285 - val_binary_crossentropy: 0.5442\n",
      "Epoch 205/500\n",
      "900/900 [==============================] - 0s 42us/step - loss: 0.0017 - acc: 0.0022 - mean_absolute_error: 0.0341 - binary_crossentropy: 0.5637 - val_loss: 0.0014 - val_acc: 0.0000e+00 - val_mean_absolute_error: 0.0294 - val_binary_crossentropy: 0.5444\n",
      "Epoch 206/500\n",
      "900/900 [==============================] - 0s 44us/step - loss: 0.0014 - acc: 0.0022 - mean_absolute_error: 0.0313 - binary_crossentropy: 0.5631 - val_loss: 0.0016 - val_acc: 0.0000e+00 - val_mean_absolute_error: 0.0332 - val_binary_crossentropy: 0.5451\n",
      "Epoch 207/500\n",
      "900/900 [==============================] - 0s 43us/step - loss: 0.0013 - acc: 0.0022 - mean_absolute_error: 0.0301 - binary_crossentropy: 0.5629 - val_loss: 0.0016 - val_acc: 0.0000e+00 - val_mean_absolute_error: 0.0324 - val_binary_crossentropy: 0.5449\n",
      "Epoch 208/500\n",
      "900/900 [==============================] - 0s 42us/step - loss: 0.0016 - acc: 0.0022 - mean_absolute_error: 0.0323 - binary_crossentropy: 0.5634 - val_loss: 0.0015 - val_acc: 0.0000e+00 - val_mean_absolute_error: 0.0316 - val_binary_crossentropy: 0.5447\n",
      "Epoch 209/500\n",
      "900/900 [==============================] - 0s 40us/step - loss: 0.0012 - acc: 0.0022 - mean_absolute_error: 0.0287 - binary_crossentropy: 0.5627 - val_loss: 0.0012 - val_acc: 0.0000e+00 - val_mean_absolute_error: 0.0276 - val_binary_crossentropy: 0.5440\n",
      "Epoch 210/500\n",
      "900/900 [==============================] - 0s 44us/step - loss: 0.0018 - acc: 0.0022 - mean_absolute_error: 0.0332 - binary_crossentropy: 0.5638 - val_loss: 0.0011 - val_acc: 0.0000e+00 - val_mean_absolute_error: 0.0280 - val_binary_crossentropy: 0.5440\n",
      "Epoch 211/500\n",
      "900/900 [==============================] - 0s 46us/step - loss: 0.0014 - acc: 0.0022 - mean_absolute_error: 0.0303 - binary_crossentropy: 0.5630 - val_loss: 0.0015 - val_acc: 0.0000e+00 - val_mean_absolute_error: 0.0309 - val_binary_crossentropy: 0.5446\n",
      "Epoch 212/500\n",
      "900/900 [==============================] - 0s 37us/step - loss: 0.0017 - acc: 0.0022 - mean_absolute_error: 0.0343 - binary_crossentropy: 0.5637 - val_loss: 0.0013 - val_acc: 0.0000e+00 - val_mean_absolute_error: 0.0300 - val_binary_crossentropy: 0.5444\n",
      "Epoch 213/500\n",
      "900/900 [==============================] - 0s 41us/step - loss: 0.0013 - acc: 0.0022 - mean_absolute_error: 0.0295 - binary_crossentropy: 0.5628 - val_loss: 0.0014 - val_acc: 0.0000e+00 - val_mean_absolute_error: 0.0299 - val_binary_crossentropy: 0.5444\n",
      "Epoch 214/500\n",
      "900/900 [==============================] - 0s 38us/step - loss: 0.0012 - acc: 0.0022 - mean_absolute_error: 0.0289 - binary_crossentropy: 0.5627 - val_loss: 0.0012 - val_acc: 0.0000e+00 - val_mean_absolute_error: 0.0286 - val_binary_crossentropy: 0.5442\n",
      "Epoch 215/500\n"
     ]
    },
    {
     "name": "stdout",
     "output_type": "stream",
     "text": [
      "900/900 [==============================] - 0s 37us/step - loss: 0.0016 - acc: 0.0022 - mean_absolute_error: 0.0326 - binary_crossentropy: 0.5634 - val_loss: 0.0011 - val_acc: 0.0000e+00 - val_mean_absolute_error: 0.0269 - val_binary_crossentropy: 0.5439\n",
      "Epoch 216/500\n",
      "900/900 [==============================] - 0s 36us/step - loss: 0.0013 - acc: 0.0022 - mean_absolute_error: 0.0292 - binary_crossentropy: 0.5629 - val_loss: 0.0020 - val_acc: 0.0000e+00 - val_mean_absolute_error: 0.0367 - val_binary_crossentropy: 0.5458\n",
      "Epoch 217/500\n",
      "900/900 [==============================] - 0s 33us/step - loss: 0.0016 - acc: 0.0022 - mean_absolute_error: 0.0337 - binary_crossentropy: 0.5636 - val_loss: 0.0013 - val_acc: 0.0000e+00 - val_mean_absolute_error: 0.0292 - val_binary_crossentropy: 0.5443\n",
      "Epoch 218/500\n",
      "900/900 [==============================] - 0s 35us/step - loss: 0.0012 - acc: 0.0022 - mean_absolute_error: 0.0288 - binary_crossentropy: 0.5627 - val_loss: 0.0016 - val_acc: 0.0000e+00 - val_mean_absolute_error: 0.0326 - val_binary_crossentropy: 0.5450\n",
      "Epoch 219/500\n",
      "900/900 [==============================] - 0s 36us/step - loss: 0.0015 - acc: 0.0022 - mean_absolute_error: 0.0316 - binary_crossentropy: 0.5632 - val_loss: 0.0019 - val_acc: 0.0000e+00 - val_mean_absolute_error: 0.0359 - val_binary_crossentropy: 0.5458\n",
      "Epoch 220/500\n",
      "900/900 [==============================] - 0s 40us/step - loss: 0.0016 - acc: 0.0022 - mean_absolute_error: 0.0324 - binary_crossentropy: 0.5635 - val_loss: 0.0011 - val_acc: 0.0000e+00 - val_mean_absolute_error: 0.0265 - val_binary_crossentropy: 0.5438\n",
      "Epoch 221/500\n",
      "900/900 [==============================] - 0s 41us/step - loss: 0.0015 - acc: 0.0022 - mean_absolute_error: 0.0317 - binary_crossentropy: 0.5632 - val_loss: 0.0013 - val_acc: 0.0000e+00 - val_mean_absolute_error: 0.0302 - val_binary_crossentropy: 0.5444\n",
      "Epoch 222/500\n",
      "900/900 [==============================] - 0s 39us/step - loss: 0.0014 - acc: 0.0022 - mean_absolute_error: 0.0309 - binary_crossentropy: 0.5631 - val_loss: 0.0017 - val_acc: 0.0000e+00 - val_mean_absolute_error: 0.0335 - val_binary_crossentropy: 0.5452\n",
      "Epoch 223/500\n",
      "900/900 [==============================] - 0s 43us/step - loss: 0.0014 - acc: 0.0022 - mean_absolute_error: 0.0311 - binary_crossentropy: 0.5631 - val_loss: 0.0015 - val_acc: 0.0000e+00 - val_mean_absolute_error: 0.0322 - val_binary_crossentropy: 0.5448\n",
      "Epoch 224/500\n",
      "900/900 [==============================] - 0s 38us/step - loss: 0.0015 - acc: 0.0022 - mean_absolute_error: 0.0324 - binary_crossentropy: 0.5633 - val_loss: 0.0015 - val_acc: 0.0000e+00 - val_mean_absolute_error: 0.0311 - val_binary_crossentropy: 0.5447\n",
      "Epoch 225/500\n",
      "900/900 [==============================] - 0s 37us/step - loss: 0.0015 - acc: 0.0022 - mean_absolute_error: 0.0316 - binary_crossentropy: 0.5632 - val_loss: 0.0014 - val_acc: 0.0000e+00 - val_mean_absolute_error: 0.0314 - val_binary_crossentropy: 0.5447\n",
      "Epoch 226/500\n",
      "900/900 [==============================] - 0s 42us/step - loss: 0.0012 - acc: 0.0022 - mean_absolute_error: 0.0289 - binary_crossentropy: 0.5627 - val_loss: 0.0015 - val_acc: 0.0000e+00 - val_mean_absolute_error: 0.0310 - val_binary_crossentropy: 0.5446\n",
      "Epoch 227/500\n",
      "900/900 [==============================] - 0s 47us/step - loss: 0.0016 - acc: 0.0022 - mean_absolute_error: 0.0320 - binary_crossentropy: 0.5634 - val_loss: 0.0022 - val_acc: 0.0000e+00 - val_mean_absolute_error: 0.0396 - val_binary_crossentropy: 0.5464\n",
      "Epoch 228/500\n",
      "900/900 [==============================] - 0s 40us/step - loss: 0.0015 - acc: 0.0022 - mean_absolute_error: 0.0321 - binary_crossentropy: 0.5633 - val_loss: 0.0015 - val_acc: 0.0000e+00 - val_mean_absolute_error: 0.0318 - val_binary_crossentropy: 0.5447\n",
      "Epoch 229/500\n",
      "900/900 [==============================] - 0s 48us/step - loss: 0.0014 - acc: 0.0022 - mean_absolute_error: 0.0304 - binary_crossentropy: 0.5630 - val_loss: 0.0011 - val_acc: 0.0000e+00 - val_mean_absolute_error: 0.0264 - val_binary_crossentropy: 0.5438\n",
      "Epoch 230/500\n",
      "900/900 [==============================] - 0s 42us/step - loss: 0.0016 - acc: 0.0022 - mean_absolute_error: 0.0327 - binary_crossentropy: 0.5635 - val_loss: 0.0015 - val_acc: 0.0000e+00 - val_mean_absolute_error: 0.0323 - val_binary_crossentropy: 0.5448\n",
      "Epoch 231/500\n",
      "900/900 [==============================] - 0s 46us/step - loss: 0.0012 - acc: 0.0022 - mean_absolute_error: 0.0275 - binary_crossentropy: 0.5625 - val_loss: 0.0012 - val_acc: 0.0000e+00 - val_mean_absolute_error: 0.0270 - val_binary_crossentropy: 0.5439\n",
      "Epoch 232/500\n",
      "900/900 [==============================] - 0s 39us/step - loss: 0.0015 - acc: 0.0022 - mean_absolute_error: 0.0321 - binary_crossentropy: 0.5633 - val_loss: 0.0012 - val_acc: 0.0000e+00 - val_mean_absolute_error: 0.0282 - val_binary_crossentropy: 0.5440\n",
      "Epoch 233/500\n",
      "900/900 [==============================] - 0s 36us/step - loss: 0.0013 - acc: 0.0022 - mean_absolute_error: 0.0298 - binary_crossentropy: 0.5629 - val_loss: 0.0017 - val_acc: 0.0000e+00 - val_mean_absolute_error: 0.0335 - val_binary_crossentropy: 0.5450\n",
      "Epoch 234/500\n",
      "900/900 [==============================] - 0s 43us/step - loss: 0.0016 - acc: 0.0022 - mean_absolute_error: 0.0326 - binary_crossentropy: 0.5634 - val_loss: 0.0011 - val_acc: 0.0000e+00 - val_mean_absolute_error: 0.0264 - val_binary_crossentropy: 0.5437\n",
      "Epoch 235/500\n",
      "900/900 [==============================] - 0s 42us/step - loss: 0.0015 - acc: 0.0022 - mean_absolute_error: 0.0306 - binary_crossentropy: 0.5632 - val_loss: 0.0018 - val_acc: 0.0000e+00 - val_mean_absolute_error: 0.0345 - val_binary_crossentropy: 0.5453\n",
      "Epoch 236/500\n",
      "900/900 [==============================] - 0s 37us/step - loss: 0.0012 - acc: 0.0022 - mean_absolute_error: 0.0284 - binary_crossentropy: 0.5626 - val_loss: 0.0014 - val_acc: 0.0000e+00 - val_mean_absolute_error: 0.0300 - val_binary_crossentropy: 0.5444\n",
      "Epoch 237/500\n",
      "900/900 [==============================] - 0s 37us/step - loss: 0.0016 - acc: 0.0022 - mean_absolute_error: 0.0326 - binary_crossentropy: 0.5634 - val_loss: 0.0011 - val_acc: 0.0000e+00 - val_mean_absolute_error: 0.0267 - val_binary_crossentropy: 0.5438\n",
      "Epoch 238/500\n",
      "900/900 [==============================] - 0s 42us/step - loss: 0.0015 - acc: 0.0022 - mean_absolute_error: 0.0315 - binary_crossentropy: 0.5632 - val_loss: 0.0012 - val_acc: 0.0000e+00 - val_mean_absolute_error: 0.0271 - val_binary_crossentropy: 0.5439\n",
      "Epoch 239/500\n",
      "900/900 [==============================] - 0s 34us/step - loss: 0.0014 - acc: 0.0022 - mean_absolute_error: 0.0306 - binary_crossentropy: 0.5630 - val_loss: 0.0012 - val_acc: 0.0000e+00 - val_mean_absolute_error: 0.0281 - val_binary_crossentropy: 0.5441\n",
      "Epoch 240/500\n",
      "900/900 [==============================] - 0s 42us/step - loss: 0.0011 - acc: 0.0022 - mean_absolute_error: 0.0273 - binary_crossentropy: 0.5624 - val_loss: 0.0017 - val_acc: 0.0000e+00 - val_mean_absolute_error: 0.0336 - val_binary_crossentropy: 0.5450\n",
      "Epoch 241/500\n",
      "900/900 [==============================] - 0s 36us/step - loss: 0.0017 - acc: 0.0022 - mean_absolute_error: 0.0339 - binary_crossentropy: 0.5637 - val_loss: 0.0011 - val_acc: 0.0000e+00 - val_mean_absolute_error: 0.0262 - val_binary_crossentropy: 0.5437\n",
      "Epoch 242/500\n",
      "900/900 [==============================] - 0s 36us/step - loss: 0.0014 - acc: 0.0022 - mean_absolute_error: 0.0302 - binary_crossentropy: 0.5629 - val_loss: 0.0012 - val_acc: 0.0000e+00 - val_mean_absolute_error: 0.0271 - val_binary_crossentropy: 0.5439\n",
      "Epoch 243/500\n",
      "900/900 [==============================] - 0s 36us/step - loss: 0.0012 - acc: 0.0022 - mean_absolute_error: 0.0290 - binary_crossentropy: 0.5626 - val_loss: 0.0019 - val_acc: 0.0000e+00 - val_mean_absolute_error: 0.0366 - val_binary_crossentropy: 0.5457\n",
      "Epoch 244/500\n",
      "900/900 [==============================] - 0s 36us/step - loss: 0.0017 - acc: 0.0022 - mean_absolute_error: 0.0340 - binary_crossentropy: 0.5638 - val_loss: 0.0011 - val_acc: 0.0000e+00 - val_mean_absolute_error: 0.0262 - val_binary_crossentropy: 0.5438\n",
      "Epoch 245/500\n",
      "900/900 [==============================] - 0s 34us/step - loss: 0.0013 - acc: 0.0022 - mean_absolute_error: 0.0299 - binary_crossentropy: 0.5627 - val_loss: 0.0021 - val_acc: 0.0000e+00 - val_mean_absolute_error: 0.0390 - val_binary_crossentropy: 0.5462\n"
     ]
    },
    {
     "name": "stdout",
     "output_type": "stream",
     "text": [
      "Epoch 246/500\n",
      "900/900 [==============================] - 0s 36us/step - loss: 0.0016 - acc: 0.0022 - mean_absolute_error: 0.0326 - binary_crossentropy: 0.5634 - val_loss: 0.0015 - val_acc: 0.0000e+00 - val_mean_absolute_error: 0.0315 - val_binary_crossentropy: 0.5447\n",
      "Epoch 247/500\n",
      "900/900 [==============================] - 0s 38us/step - loss: 0.0012 - acc: 0.0022 - mean_absolute_error: 0.0283 - binary_crossentropy: 0.5626 - val_loss: 0.0019 - val_acc: 0.0000e+00 - val_mean_absolute_error: 0.0370 - val_binary_crossentropy: 0.5458\n",
      "Epoch 248/500\n",
      "900/900 [==============================] - 0s 44us/step - loss: 0.0013 - acc: 0.0022 - mean_absolute_error: 0.0299 - binary_crossentropy: 0.5628 - val_loss: 0.0012 - val_acc: 0.0000e+00 - val_mean_absolute_error: 0.0271 - val_binary_crossentropy: 0.5438\n",
      "Epoch 249/500\n",
      "900/900 [==============================] - 0s 46us/step - loss: 0.0016 - acc: 0.0022 - mean_absolute_error: 0.0322 - binary_crossentropy: 0.5634 - val_loss: 0.0013 - val_acc: 0.0000e+00 - val_mean_absolute_error: 0.0301 - val_binary_crossentropy: 0.5443\n",
      "Epoch 250/500\n",
      "900/900 [==============================] - 0s 39us/step - loss: 0.0013 - acc: 0.0022 - mean_absolute_error: 0.0301 - binary_crossentropy: 0.5629 - val_loss: 0.0017 - val_acc: 0.0000e+00 - val_mean_absolute_error: 0.0336 - val_binary_crossentropy: 0.5450\n",
      "Epoch 251/500\n",
      "900/900 [==============================] - 0s 41us/step - loss: 0.0014 - acc: 0.0022 - mean_absolute_error: 0.0303 - binary_crossentropy: 0.5630 - val_loss: 0.0017 - val_acc: 0.0000e+00 - val_mean_absolute_error: 0.0343 - val_binary_crossentropy: 0.5452\n",
      "Epoch 252/500\n",
      "900/900 [==============================] - 0s 44us/step - loss: 0.0012 - acc: 0.0022 - mean_absolute_error: 0.0279 - binary_crossentropy: 0.5625 - val_loss: 0.0013 - val_acc: 0.0000e+00 - val_mean_absolute_error: 0.0283 - val_binary_crossentropy: 0.5440\n",
      "Epoch 253/500\n",
      "900/900 [==============================] - 0s 40us/step - loss: 0.0016 - acc: 0.0022 - mean_absolute_error: 0.0323 - binary_crossentropy: 0.5633 - val_loss: 0.0010 - val_acc: 0.0000e+00 - val_mean_absolute_error: 0.0258 - val_binary_crossentropy: 0.5436\n",
      "Epoch 254/500\n",
      "900/900 [==============================] - 0s 41us/step - loss: 0.0015 - acc: 0.0022 - mean_absolute_error: 0.0311 - binary_crossentropy: 0.5631 - val_loss: 0.0015 - val_acc: 0.0000e+00 - val_mean_absolute_error: 0.0319 - val_binary_crossentropy: 0.5447\n",
      "Epoch 255/500\n",
      "900/900 [==============================] - 0s 42us/step - loss: 0.0012 - acc: 0.0022 - mean_absolute_error: 0.0281 - binary_crossentropy: 0.5625 - val_loss: 0.0015 - val_acc: 0.0000e+00 - val_mean_absolute_error: 0.0320 - val_binary_crossentropy: 0.5449\n",
      "Epoch 256/500\n",
      "900/900 [==============================] - 0s 40us/step - loss: 0.0015 - acc: 0.0022 - mean_absolute_error: 0.0321 - binary_crossentropy: 0.5633 - val_loss: 0.0013 - val_acc: 0.0000e+00 - val_mean_absolute_error: 0.0285 - val_binary_crossentropy: 0.5441\n",
      "Epoch 257/500\n",
      "900/900 [==============================] - 0s 40us/step - loss: 0.0016 - acc: 0.0022 - mean_absolute_error: 0.0330 - binary_crossentropy: 0.5633 - val_loss: 0.0012 - val_acc: 0.0000e+00 - val_mean_absolute_error: 0.0289 - val_binary_crossentropy: 0.5441\n",
      "Epoch 258/500\n",
      "900/900 [==============================] - 0s 43us/step - loss: 0.0014 - acc: 0.0022 - mean_absolute_error: 0.0310 - binary_crossentropy: 0.5630 - val_loss: 0.0011 - val_acc: 0.0000e+00 - val_mean_absolute_error: 0.0263 - val_binary_crossentropy: 0.5438\n",
      "Epoch 259/500\n",
      "900/900 [==============================] - 0s 39us/step - loss: 0.0013 - acc: 0.0022 - mean_absolute_error: 0.0289 - binary_crossentropy: 0.5627 - val_loss: 0.0017 - val_acc: 0.0000e+00 - val_mean_absolute_error: 0.0348 - val_binary_crossentropy: 0.5452\n",
      "Epoch 260/500\n",
      "900/900 [==============================] - 0s 37us/step - loss: 0.0015 - acc: 0.0022 - mean_absolute_error: 0.0325 - binary_crossentropy: 0.5633 - val_loss: 0.0014 - val_acc: 0.0000e+00 - val_mean_absolute_error: 0.0297 - val_binary_crossentropy: 0.5443\n",
      "Epoch 261/500\n",
      "900/900 [==============================] - 0s 37us/step - loss: 0.0011 - acc: 0.0022 - mean_absolute_error: 0.0269 - binary_crossentropy: 0.5623 - val_loss: 0.0011 - val_acc: 0.0000e+00 - val_mean_absolute_error: 0.0266 - val_binary_crossentropy: 0.5438\n",
      "Epoch 262/500\n",
      "900/900 [==============================] - 0s 36us/step - loss: 0.0016 - acc: 0.0022 - mean_absolute_error: 0.0329 - binary_crossentropy: 0.5635 - val_loss: 0.0010 - val_acc: 0.0000e+00 - val_mean_absolute_error: 0.0253 - val_binary_crossentropy: 0.5436\n",
      "Epoch 263/500\n",
      "900/900 [==============================] - 0s 36us/step - loss: 0.0013 - acc: 0.0022 - mean_absolute_error: 0.0288 - binary_crossentropy: 0.5627 - val_loss: 0.0027 - val_acc: 0.0000e+00 - val_mean_absolute_error: 0.0454 - val_binary_crossentropy: 0.5476\n",
      "Epoch 264/500\n",
      "900/900 [==============================] - 0s 34us/step - loss: 0.0013 - acc: 0.0022 - mean_absolute_error: 0.0283 - binary_crossentropy: 0.5627 - val_loss: 0.0012 - val_acc: 0.0000e+00 - val_mean_absolute_error: 0.0269 - val_binary_crossentropy: 0.5438\n",
      "Epoch 265/500\n",
      "900/900 [==============================] - 0s 37us/step - loss: 0.0018 - acc: 0.0022 - mean_absolute_error: 0.0338 - binary_crossentropy: 0.5638 - val_loss: 0.0010 - val_acc: 0.0000e+00 - val_mean_absolute_error: 0.0259 - val_binary_crossentropy: 0.5436\n",
      "Epoch 266/500\n",
      "900/900 [==============================] - 0s 36us/step - loss: 0.0013 - acc: 0.0022 - mean_absolute_error: 0.0292 - binary_crossentropy: 0.5627 - val_loss: 0.0016 - val_acc: 0.0000e+00 - val_mean_absolute_error: 0.0328 - val_binary_crossentropy: 0.5448\n",
      "Epoch 267/500\n",
      "900/900 [==============================] - 0s 36us/step - loss: 0.0014 - acc: 0.0022 - mean_absolute_error: 0.0306 - binary_crossentropy: 0.5629 - val_loss: 0.0011 - val_acc: 0.0000e+00 - val_mean_absolute_error: 0.0272 - val_binary_crossentropy: 0.5437\n",
      "Epoch 268/500\n",
      "900/900 [==============================] - 0s 36us/step - loss: 0.0011 - acc: 0.0022 - mean_absolute_error: 0.0264 - binary_crossentropy: 0.5622 - val_loss: 0.0020 - val_acc: 0.0000e+00 - val_mean_absolute_error: 0.0376 - val_binary_crossentropy: 0.5459\n",
      "Epoch 269/500\n",
      "900/900 [==============================] - 0s 39us/step - loss: 0.0017 - acc: 0.0022 - mean_absolute_error: 0.0334 - binary_crossentropy: 0.5636 - val_loss: 0.0017 - val_acc: 0.0000e+00 - val_mean_absolute_error: 0.0340 - val_binary_crossentropy: 0.5450\n",
      "Epoch 270/500\n",
      "900/900 [==============================] - 0s 42us/step - loss: 0.0013 - acc: 0.0022 - mean_absolute_error: 0.0299 - binary_crossentropy: 0.5627 - val_loss: 0.0013 - val_acc: 0.0000e+00 - val_mean_absolute_error: 0.0300 - val_binary_crossentropy: 0.5442\n",
      "Epoch 271/500\n",
      "900/900 [==============================] - 0s 38us/step - loss: 0.0015 - acc: 0.0022 - mean_absolute_error: 0.0318 - binary_crossentropy: 0.5631 - val_loss: 0.0014 - val_acc: 0.0000e+00 - val_mean_absolute_error: 0.0304 - val_binary_crossentropy: 0.5444\n",
      "Epoch 272/500\n",
      "900/900 [==============================] - 0s 41us/step - loss: 0.0014 - acc: 0.0022 - mean_absolute_error: 0.0305 - binary_crossentropy: 0.5630 - val_loss: 9.9101e-04 - val_acc: 0.0000e+00 - val_mean_absolute_error: 0.0251 - val_binary_crossentropy: 0.5435\n",
      "Epoch 273/500\n",
      "900/900 [==============================] - 0s 39us/step - loss: 0.0010 - acc: 0.0022 - mean_absolute_error: 0.0253 - binary_crossentropy: 0.5621 - val_loss: 0.0011 - val_acc: 0.0000e+00 - val_mean_absolute_error: 0.0264 - val_binary_crossentropy: 0.5437\n",
      "Epoch 274/500\n",
      "900/900 [==============================] - 0s 40us/step - loss: 0.0017 - acc: 0.0022 - mean_absolute_error: 0.0340 - binary_crossentropy: 0.5637 - val_loss: 0.0018 - val_acc: 0.0000e+00 - val_mean_absolute_error: 0.0354 - val_binary_crossentropy: 0.5454\n",
      "Epoch 275/500\n",
      "900/900 [==============================] - 0s 39us/step - loss: 0.0014 - acc: 0.0022 - mean_absolute_error: 0.0302 - binary_crossentropy: 0.5629 - val_loss: 0.0010 - val_acc: 0.0000e+00 - val_mean_absolute_error: 0.0248 - val_binary_crossentropy: 0.5435\n",
      "Epoch 276/500\n"
     ]
    },
    {
     "name": "stdout",
     "output_type": "stream",
     "text": [
      "900/900 [==============================] - 0s 43us/step - loss: 0.0015 - acc: 0.0022 - mean_absolute_error: 0.0316 - binary_crossentropy: 0.5632 - val_loss: 0.0010 - val_acc: 0.0000e+00 - val_mean_absolute_error: 0.0256 - val_binary_crossentropy: 0.5435\n",
      "Epoch 277/500\n",
      "900/900 [==============================] - 0s 39us/step - loss: 0.0010 - acc: 0.0022 - mean_absolute_error: 0.0255 - binary_crossentropy: 0.5621 - val_loss: 0.0014 - val_acc: 0.0000e+00 - val_mean_absolute_error: 0.0306 - val_binary_crossentropy: 0.5444\n",
      "Epoch 278/500\n",
      "900/900 [==============================] - 0s 35us/step - loss: 0.0018 - acc: 0.0022 - mean_absolute_error: 0.0340 - binary_crossentropy: 0.5638 - val_loss: 0.0011 - val_acc: 0.0000e+00 - val_mean_absolute_error: 0.0251 - val_binary_crossentropy: 0.5436\n",
      "Epoch 279/500\n",
      "900/900 [==============================] - 0s 39us/step - loss: 0.0011 - acc: 0.0022 - mean_absolute_error: 0.0262 - binary_crossentropy: 0.5622 - val_loss: 0.0018 - val_acc: 0.0000e+00 - val_mean_absolute_error: 0.0344 - val_binary_crossentropy: 0.5450\n",
      "Epoch 280/500\n",
      "900/900 [==============================] - 0s 36us/step - loss: 0.0015 - acc: 0.0022 - mean_absolute_error: 0.0317 - binary_crossentropy: 0.5631 - val_loss: 0.0014 - val_acc: 0.0000e+00 - val_mean_absolute_error: 0.0307 - val_binary_crossentropy: 0.5445\n",
      "Epoch 281/500\n",
      "900/900 [==============================] - 0s 42us/step - loss: 0.0013 - acc: 0.0022 - mean_absolute_error: 0.0290 - binary_crossentropy: 0.5627 - val_loss: 0.0011 - val_acc: 0.0000e+00 - val_mean_absolute_error: 0.0269 - val_binary_crossentropy: 0.5436\n",
      "Epoch 282/500\n",
      "900/900 [==============================] - 0s 35us/step - loss: 0.0014 - acc: 0.0022 - mean_absolute_error: 0.0304 - binary_crossentropy: 0.5629 - val_loss: 0.0010 - val_acc: 0.0000e+00 - val_mean_absolute_error: 0.0249 - val_binary_crossentropy: 0.5435\n",
      "Epoch 283/500\n",
      "900/900 [==============================] - 0s 34us/step - loss: 0.0015 - acc: 0.0022 - mean_absolute_error: 0.0315 - binary_crossentropy: 0.5633 - val_loss: 0.0010 - val_acc: 0.0000e+00 - val_mean_absolute_error: 0.0268 - val_binary_crossentropy: 0.5436\n",
      "Epoch 284/500\n",
      "900/900 [==============================] - 0s 44us/step - loss: 0.0011 - acc: 0.0022 - mean_absolute_error: 0.0261 - binary_crossentropy: 0.5622 - val_loss: 0.0013 - val_acc: 0.0000e+00 - val_mean_absolute_error: 0.0293 - val_binary_crossentropy: 0.5441\n",
      "Epoch 285/500\n",
      "900/900 [==============================] - 0s 38us/step - loss: 0.0016 - acc: 0.0022 - mean_absolute_error: 0.0330 - binary_crossentropy: 0.5633 - val_loss: 0.0011 - val_acc: 0.0000e+00 - val_mean_absolute_error: 0.0281 - val_binary_crossentropy: 0.5438\n",
      "Epoch 286/500\n",
      "900/900 [==============================] - 0s 43us/step - loss: 0.0013 - acc: 0.0022 - mean_absolute_error: 0.0304 - binary_crossentropy: 0.5628 - val_loss: 0.0018 - val_acc: 0.0000e+00 - val_mean_absolute_error: 0.0349 - val_binary_crossentropy: 0.5453\n",
      "Epoch 287/500\n",
      "900/900 [==============================] - 0s 43us/step - loss: 0.0012 - acc: 0.0022 - mean_absolute_error: 0.0280 - binary_crossentropy: 0.5625 - val_loss: 0.0013 - val_acc: 0.0000e+00 - val_mean_absolute_error: 0.0290 - val_binary_crossentropy: 0.5441\n",
      "Epoch 288/500\n",
      "900/900 [==============================] - 0s 44us/step - loss: 0.0017 - acc: 0.0022 - mean_absolute_error: 0.0332 - binary_crossentropy: 0.5636 - val_loss: 9.7822e-04 - val_acc: 0.0000e+00 - val_mean_absolute_error: 0.0252 - val_binary_crossentropy: 0.5435\n",
      "Epoch 289/500\n",
      "900/900 [==============================] - 0s 45us/step - loss: 0.0013 - acc: 0.0022 - mean_absolute_error: 0.0296 - binary_crossentropy: 0.5628 - val_loss: 0.0022 - val_acc: 0.0000e+00 - val_mean_absolute_error: 0.0401 - val_binary_crossentropy: 0.5462\n",
      "Epoch 290/500\n",
      "900/900 [==============================] - 0s 43us/step - loss: 0.0012 - acc: 0.0022 - mean_absolute_error: 0.0284 - binary_crossentropy: 0.5626 - val_loss: 9.7086e-04 - val_acc: 0.0000e+00 - val_mean_absolute_error: 0.0252 - val_binary_crossentropy: 0.5434\n",
      "Epoch 291/500\n",
      "900/900 [==============================] - 0s 45us/step - loss: 0.0014 - acc: 0.0022 - mean_absolute_error: 0.0310 - binary_crossentropy: 0.5630 - val_loss: 0.0014 - val_acc: 0.0000e+00 - val_mean_absolute_error: 0.0308 - val_binary_crossentropy: 0.5444\n",
      "Epoch 292/500\n",
      "900/900 [==============================] - 0s 44us/step - loss: 0.0013 - acc: 0.0022 - mean_absolute_error: 0.0292 - binary_crossentropy: 0.5626 - val_loss: 0.0013 - val_acc: 0.0000e+00 - val_mean_absolute_error: 0.0299 - val_binary_crossentropy: 0.5442\n",
      "Epoch 293/500\n",
      "900/900 [==============================] - 0s 42us/step - loss: 0.0014 - acc: 0.0022 - mean_absolute_error: 0.0310 - binary_crossentropy: 0.5630 - val_loss: 0.0010 - val_acc: 0.0000e+00 - val_mean_absolute_error: 0.0245 - val_binary_crossentropy: 0.5434\n",
      "Epoch 294/500\n",
      "900/900 [==============================] - 0s 35us/step - loss: 0.0013 - acc: 0.0022 - mean_absolute_error: 0.0294 - binary_crossentropy: 0.5626 - val_loss: 0.0016 - val_acc: 0.0000e+00 - val_mean_absolute_error: 0.0333 - val_binary_crossentropy: 0.5450\n",
      "Epoch 295/500\n",
      "900/900 [==============================] - 0s 35us/step - loss: 0.0014 - acc: 0.0022 - mean_absolute_error: 0.0306 - binary_crossentropy: 0.5630 - val_loss: 0.0015 - val_acc: 0.0000e+00 - val_mean_absolute_error: 0.0318 - val_binary_crossentropy: 0.5445\n",
      "Epoch 296/500\n",
      "900/900 [==============================] - 0s 35us/step - loss: 0.0015 - acc: 0.0022 - mean_absolute_error: 0.0314 - binary_crossentropy: 0.5631 - val_loss: 9.8399e-04 - val_acc: 0.0000e+00 - val_mean_absolute_error: 0.0245 - val_binary_crossentropy: 0.5434\n",
      "Epoch 297/500\n",
      "900/900 [==============================] - 0s 34us/step - loss: 0.0013 - acc: 0.0022 - mean_absolute_error: 0.0286 - binary_crossentropy: 0.5626 - val_loss: 0.0030 - val_acc: 0.0000e+00 - val_mean_absolute_error: 0.0485 - val_binary_crossentropy: 0.5483\n",
      "Epoch 298/500\n",
      "900/900 [==============================] - 0s 35us/step - loss: 0.0014 - acc: 0.0022 - mean_absolute_error: 0.0294 - binary_crossentropy: 0.5628 - val_loss: 9.4413e-04 - val_acc: 0.0000e+00 - val_mean_absolute_error: 0.0242 - val_binary_crossentropy: 0.5433\n",
      "Epoch 299/500\n",
      "900/900 [==============================] - 0s 34us/step - loss: 0.0015 - acc: 0.0022 - mean_absolute_error: 0.0316 - binary_crossentropy: 0.5633 - val_loss: 0.0010 - val_acc: 0.0000e+00 - val_mean_absolute_error: 0.0266 - val_binary_crossentropy: 0.5436\n",
      "Epoch 300/500\n",
      "900/900 [==============================] - 0s 36us/step - loss: 0.0010 - acc: 0.0022 - mean_absolute_error: 0.0256 - binary_crossentropy: 0.5620 - val_loss: 0.0013 - val_acc: 0.0000e+00 - val_mean_absolute_error: 0.0308 - val_binary_crossentropy: 0.5443\n",
      "Epoch 301/500\n",
      "900/900 [==============================] - 0s 35us/step - loss: 0.0017 - acc: 0.0022 - mean_absolute_error: 0.0343 - binary_crossentropy: 0.5636 - val_loss: 0.0012 - val_acc: 0.0000e+00 - val_mean_absolute_error: 0.0273 - val_binary_crossentropy: 0.5439\n",
      "Epoch 302/500\n",
      "900/900 [==============================] - 0s 37us/step - loss: 0.0011 - acc: 0.0022 - mean_absolute_error: 0.0259 - binary_crossentropy: 0.5622 - val_loss: 0.0011 - val_acc: 0.0000e+00 - val_mean_absolute_error: 0.0262 - val_binary_crossentropy: 0.5437\n",
      "Epoch 303/500\n",
      "900/900 [==============================] - 0s 40us/step - loss: 0.0011 - acc: 0.0022 - mean_absolute_error: 0.0262 - binary_crossentropy: 0.5622 - val_loss: 0.0037 - val_acc: 0.0000e+00 - val_mean_absolute_error: 0.0542 - val_binary_crossentropy: 0.5499\n",
      "Epoch 304/500\n",
      "900/900 [==============================] - 0s 39us/step - loss: 0.0016 - acc: 0.0022 - mean_absolute_error: 0.0320 - binary_crossentropy: 0.5635 - val_loss: 9.4655e-04 - val_acc: 0.0000e+00 - val_mean_absolute_error: 0.0240 - val_binary_crossentropy: 0.5433\n",
      "Epoch 305/500\n",
      "900/900 [==============================] - 0s 48us/step - loss: 0.0014 - acc: 0.0022 - mean_absolute_error: 0.0302 - binary_crossentropy: 0.5629 - val_loss: 0.0014 - val_acc: 0.0000e+00 - val_mean_absolute_error: 0.0302 - val_binary_crossentropy: 0.5442\n",
      "Epoch 306/500\n"
     ]
    },
    {
     "name": "stdout",
     "output_type": "stream",
     "text": [
      "900/900 [==============================] - 0s 38us/step - loss: 0.0012 - acc: 0.0022 - mean_absolute_error: 0.0279 - binary_crossentropy: 0.5624 - val_loss: 0.0010 - val_acc: 0.0000e+00 - val_mean_absolute_error: 0.0246 - val_binary_crossentropy: 0.5434\n",
      "Epoch 307/500\n",
      "900/900 [==============================] - 0s 40us/step - loss: 0.0015 - acc: 0.0022 - mean_absolute_error: 0.0311 - binary_crossentropy: 0.5631 - val_loss: 0.0015 - val_acc: 0.0000e+00 - val_mean_absolute_error: 0.0307 - val_binary_crossentropy: 0.5445\n",
      "Epoch 308/500\n",
      "900/900 [==============================] - 0s 48us/step - loss: 0.0012 - acc: 0.0022 - mean_absolute_error: 0.0275 - binary_crossentropy: 0.5623 - val_loss: 0.0016 - val_acc: 0.0000e+00 - val_mean_absolute_error: 0.0323 - val_binary_crossentropy: 0.5446\n",
      "Epoch 309/500\n",
      "900/900 [==============================] - 0s 42us/step - loss: 0.0014 - acc: 0.0022 - mean_absolute_error: 0.0305 - binary_crossentropy: 0.5628 - val_loss: 0.0011 - val_acc: 0.0000e+00 - val_mean_absolute_error: 0.0266 - val_binary_crossentropy: 0.5436\n",
      "Epoch 310/500\n",
      "900/900 [==============================] - 0s 43us/step - loss: 0.0015 - acc: 0.0022 - mean_absolute_error: 0.0319 - binary_crossentropy: 0.5631 - val_loss: 0.0013 - val_acc: 0.0000e+00 - val_mean_absolute_error: 0.0296 - val_binary_crossentropy: 0.5441\n",
      "Epoch 311/500\n",
      "900/900 [==============================] - 0s 36us/step - loss: 0.0012 - acc: 0.0022 - mean_absolute_error: 0.0286 - binary_crossentropy: 0.5625 - val_loss: 9.2127e-04 - val_acc: 0.0000e+00 - val_mean_absolute_error: 0.0243 - val_binary_crossentropy: 0.5433\n",
      "Epoch 312/500\n",
      "900/900 [==============================] - 0s 43us/step - loss: 0.0015 - acc: 0.0022 - mean_absolute_error: 0.0320 - binary_crossentropy: 0.5631 - val_loss: 0.0016 - val_acc: 0.0000e+00 - val_mean_absolute_error: 0.0330 - val_binary_crossentropy: 0.5448\n",
      "Epoch 313/500\n",
      "900/900 [==============================] - 0s 47us/step - loss: 0.0012 - acc: 0.0022 - mean_absolute_error: 0.0284 - binary_crossentropy: 0.5625 - val_loss: 0.0019 - val_acc: 0.0000e+00 - val_mean_absolute_error: 0.0360 - val_binary_crossentropy: 0.5454\n",
      "Epoch 314/500\n",
      "900/900 [==============================] - 0s 35us/step - loss: 0.0012 - acc: 0.0022 - mean_absolute_error: 0.0282 - binary_crossentropy: 0.5625 - val_loss: 9.5793e-04 - val_acc: 0.0000e+00 - val_mean_absolute_error: 0.0241 - val_binary_crossentropy: 0.5433\n",
      "Epoch 315/500\n",
      "900/900 [==============================] - 0s 35us/step - loss: 0.0015 - acc: 0.0022 - mean_absolute_error: 0.0326 - binary_crossentropy: 0.5631 - val_loss: 0.0011 - val_acc: 0.0000e+00 - val_mean_absolute_error: 0.0273 - val_binary_crossentropy: 0.5437\n",
      "Epoch 316/500\n",
      "900/900 [==============================] - 0s 39us/step - loss: 0.0012 - acc: 0.0022 - mean_absolute_error: 0.0283 - binary_crossentropy: 0.5624 - val_loss: 0.0012 - val_acc: 0.0000e+00 - val_mean_absolute_error: 0.0279 - val_binary_crossentropy: 0.5439\n",
      "Epoch 317/500\n",
      "900/900 [==============================] - 0s 37us/step - loss: 0.0015 - acc: 0.0022 - mean_absolute_error: 0.0324 - binary_crossentropy: 0.5631 - val_loss: 9.6759e-04 - val_acc: 0.0000e+00 - val_mean_absolute_error: 0.0252 - val_binary_crossentropy: 0.5434\n",
      "Epoch 318/500\n",
      "900/900 [==============================] - 0s 40us/step - loss: 0.0013 - acc: 0.0022 - mean_absolute_error: 0.0293 - binary_crossentropy: 0.5627 - val_loss: 0.0020 - val_acc: 0.0000e+00 - val_mean_absolute_error: 0.0381 - val_binary_crossentropy: 0.5457\n",
      "Epoch 319/500\n",
      "900/900 [==============================] - 0s 47us/step - loss: 0.0011 - acc: 0.0022 - mean_absolute_error: 0.0266 - binary_crossentropy: 0.5622 - val_loss: 9.0893e-04 - val_acc: 0.0000e+00 - val_mean_absolute_error: 0.0239 - val_binary_crossentropy: 0.5432\n",
      "Epoch 320/500\n",
      "900/900 [==============================] - 0s 41us/step - loss: 0.0015 - acc: 0.0022 - mean_absolute_error: 0.0310 - binary_crossentropy: 0.5630 - val_loss: 0.0011 - val_acc: 0.0000e+00 - val_mean_absolute_error: 0.0254 - val_binary_crossentropy: 0.5435\n",
      "Epoch 321/500\n",
      "900/900 [==============================] - 0s 40us/step - loss: 0.0010 - acc: 0.0022 - mean_absolute_error: 0.0255 - binary_crossentropy: 0.5620 - val_loss: 9.8519e-04 - val_acc: 0.0000e+00 - val_mean_absolute_error: 0.0255 - val_binary_crossentropy: 0.5434\n",
      "Epoch 322/500\n",
      "900/900 [==============================] - 0s 37us/step - loss: 0.0017 - acc: 0.0022 - mean_absolute_error: 0.0331 - binary_crossentropy: 0.5636 - val_loss: 0.0013 - val_acc: 0.0000e+00 - val_mean_absolute_error: 0.0283 - val_binary_crossentropy: 0.5439\n",
      "Epoch 323/500\n",
      "900/900 [==============================] - 0s 41us/step - loss: 0.0013 - acc: 0.0022 - mean_absolute_error: 0.0292 - binary_crossentropy: 0.5626 - val_loss: 9.1107e-04 - val_acc: 0.0000e+00 - val_mean_absolute_error: 0.0242 - val_binary_crossentropy: 0.5432\n",
      "Epoch 324/500\n",
      "900/900 [==============================] - 0s 44us/step - loss: 0.0010 - acc: 0.0022 - mean_absolute_error: 0.0260 - binary_crossentropy: 0.5620 - val_loss: 0.0028 - val_acc: 0.0000e+00 - val_mean_absolute_error: 0.0470 - val_binary_crossentropy: 0.5479\n",
      "Epoch 325/500\n",
      "900/900 [==============================] - 0s 41us/step - loss: 0.0016 - acc: 0.0022 - mean_absolute_error: 0.0329 - binary_crossentropy: 0.5633 - val_loss: 0.0011 - val_acc: 0.0000e+00 - val_mean_absolute_error: 0.0254 - val_binary_crossentropy: 0.5435\n",
      "Epoch 326/500\n",
      "900/900 [==============================] - 0s 39us/step - loss: 9.9142e-04 - acc: 0.0022 - mean_absolute_error: 0.0253 - binary_crossentropy: 0.5619 - val_loss: 0.0014 - val_acc: 0.0000e+00 - val_mean_absolute_error: 0.0308 - val_binary_crossentropy: 0.5443\n",
      "Epoch 327/500\n",
      "900/900 [==============================] - 0s 39us/step - loss: 0.0016 - acc: 0.0022 - mean_absolute_error: 0.0325 - binary_crossentropy: 0.5634 - val_loss: 9.1291e-04 - val_acc: 0.0000e+00 - val_mean_absolute_error: 0.0243 - val_binary_crossentropy: 0.5432\n",
      "Epoch 328/500\n",
      "900/900 [==============================] - 0s 36us/step - loss: 0.0015 - acc: 0.0022 - mean_absolute_error: 0.0306 - binary_crossentropy: 0.5631 - val_loss: 9.3084e-04 - val_acc: 0.0000e+00 - val_mean_absolute_error: 0.0245 - val_binary_crossentropy: 0.5433\n",
      "Epoch 329/500\n",
      "900/900 [==============================] - 0s 40us/step - loss: 0.0010 - acc: 0.0022 - mean_absolute_error: 0.0251 - binary_crossentropy: 0.5620 - val_loss: 9.4824e-04 - val_acc: 0.0000e+00 - val_mean_absolute_error: 0.0240 - val_binary_crossentropy: 0.5433\n",
      "Epoch 330/500\n",
      "900/900 [==============================] - 0s 43us/step - loss: 0.0016 - acc: 0.0022 - mean_absolute_error: 0.0327 - binary_crossentropy: 0.5634 - val_loss: 0.0013 - val_acc: 0.0000e+00 - val_mean_absolute_error: 0.0303 - val_binary_crossentropy: 0.5441\n",
      "Epoch 331/500\n",
      "900/900 [==============================] - 0s 36us/step - loss: 0.0012 - acc: 0.0022 - mean_absolute_error: 0.0275 - binary_crossentropy: 0.5623 - val_loss: 0.0017 - val_acc: 0.0000e+00 - val_mean_absolute_error: 0.0351 - val_binary_crossentropy: 0.5451\n",
      "Epoch 332/500\n",
      "900/900 [==============================] - 0s 33us/step - loss: 0.0013 - acc: 0.0022 - mean_absolute_error: 0.0295 - binary_crossentropy: 0.5626 - val_loss: 0.0016 - val_acc: 0.0000e+00 - val_mean_absolute_error: 0.0319 - val_binary_crossentropy: 0.5447\n",
      "Epoch 333/500\n",
      "900/900 [==============================] - 0s 35us/step - loss: 0.0013 - acc: 0.0022 - mean_absolute_error: 0.0297 - binary_crossentropy: 0.5627 - val_loss: 0.0014 - val_acc: 0.0000e+00 - val_mean_absolute_error: 0.0314 - val_binary_crossentropy: 0.5445\n",
      "Epoch 334/500\n",
      "900/900 [==============================] - 0s 34us/step - loss: 0.0012 - acc: 0.0022 - mean_absolute_error: 0.0286 - binary_crossentropy: 0.5625 - val_loss: 0.0017 - val_acc: 0.0000e+00 - val_mean_absolute_error: 0.0347 - val_binary_crossentropy: 0.5450\n",
      "Epoch 335/500\n",
      "900/900 [==============================] - 0s 35us/step - loss: 0.0014 - acc: 0.0022 - mean_absolute_error: 0.0301 - binary_crossentropy: 0.5628 - val_loss: 9.0531e-04 - val_acc: 0.0000e+00 - val_mean_absolute_error: 0.0236 - val_binary_crossentropy: 0.5432\n",
      "Epoch 336/500\n"
     ]
    },
    {
     "name": "stdout",
     "output_type": "stream",
     "text": [
      "900/900 [==============================] - 0s 36us/step - loss: 0.0015 - acc: 0.0022 - mean_absolute_error: 0.0314 - binary_crossentropy: 0.5631 - val_loss: 9.6610e-04 - val_acc: 0.0000e+00 - val_mean_absolute_error: 0.0241 - val_binary_crossentropy: 0.5433\n",
      "Epoch 337/500\n",
      "900/900 [==============================] - 0s 35us/step - loss: 0.0011 - acc: 0.0022 - mean_absolute_error: 0.0265 - binary_crossentropy: 0.5622 - val_loss: 0.0012 - val_acc: 0.0000e+00 - val_mean_absolute_error: 0.0289 - val_binary_crossentropy: 0.5439\n",
      "Epoch 338/500\n",
      "900/900 [==============================] - 0s 35us/step - loss: 0.0016 - acc: 0.0022 - mean_absolute_error: 0.0332 - binary_crossentropy: 0.5632 - val_loss: 9.9607e-04 - val_acc: 0.0000e+00 - val_mean_absolute_error: 0.0247 - val_binary_crossentropy: 0.5433\n",
      "Epoch 339/500\n",
      "900/900 [==============================] - 0s 38us/step - loss: 0.0014 - acc: 0.0022 - mean_absolute_error: 0.0296 - binary_crossentropy: 0.5628 - val_loss: 0.0012 - val_acc: 0.0000e+00 - val_mean_absolute_error: 0.0285 - val_binary_crossentropy: 0.5438\n",
      "Epoch 340/500\n",
      "900/900 [==============================] - 0s 38us/step - loss: 0.0011 - acc: 0.0022 - mean_absolute_error: 0.0271 - binary_crossentropy: 0.5623 - val_loss: 0.0024 - val_acc: 0.0000e+00 - val_mean_absolute_error: 0.0431 - val_binary_crossentropy: 0.5468\n",
      "Epoch 341/500\n",
      "900/900 [==============================] - 0s 36us/step - loss: 0.0014 - acc: 0.0022 - mean_absolute_error: 0.0299 - binary_crossentropy: 0.5628 - val_loss: 9.4479e-04 - val_acc: 0.0000e+00 - val_mean_absolute_error: 0.0237 - val_binary_crossentropy: 0.5433\n",
      "Epoch 342/500\n",
      "900/900 [==============================] - 0s 36us/step - loss: 0.0014 - acc: 0.0022 - mean_absolute_error: 0.0304 - binary_crossentropy: 0.5629 - val_loss: 0.0010 - val_acc: 0.0000e+00 - val_mean_absolute_error: 0.0263 - val_binary_crossentropy: 0.5436\n",
      "Epoch 343/500\n",
      "900/900 [==============================] - 0s 36us/step - loss: 0.0013 - acc: 0.0022 - mean_absolute_error: 0.0292 - binary_crossentropy: 0.5626 - val_loss: 0.0013 - val_acc: 0.0000e+00 - val_mean_absolute_error: 0.0288 - val_binary_crossentropy: 0.5440\n",
      "Epoch 344/500\n",
      "900/900 [==============================] - 0s 35us/step - loss: 0.0012 - acc: 0.0022 - mean_absolute_error: 0.0284 - binary_crossentropy: 0.5624 - val_loss: 0.0023 - val_acc: 0.0000e+00 - val_mean_absolute_error: 0.0420 - val_binary_crossentropy: 0.5466\n",
      "Epoch 345/500\n",
      "900/900 [==============================] - 0s 40us/step - loss: 0.0014 - acc: 0.0022 - mean_absolute_error: 0.0317 - binary_crossentropy: 0.5630 - val_loss: 0.0011 - val_acc: 0.0000e+00 - val_mean_absolute_error: 0.0263 - val_binary_crossentropy: 0.5436\n",
      "Epoch 346/500\n",
      "900/900 [==============================] - 0s 37us/step - loss: 0.0014 - acc: 0.0022 - mean_absolute_error: 0.0308 - binary_crossentropy: 0.5629 - val_loss: 0.0022 - val_acc: 0.0000e+00 - val_mean_absolute_error: 0.0404 - val_binary_crossentropy: 0.5462\n",
      "Epoch 347/500\n",
      "900/900 [==============================] - 0s 44us/step - loss: 0.0012 - acc: 0.0022 - mean_absolute_error: 0.0284 - binary_crossentropy: 0.5625 - val_loss: 9.2324e-04 - val_acc: 0.0000e+00 - val_mean_absolute_error: 0.0235 - val_binary_crossentropy: 0.5432\n",
      "Epoch 348/500\n",
      "900/900 [==============================] - 0s 35us/step - loss: 0.0014 - acc: 0.0022 - mean_absolute_error: 0.0302 - binary_crossentropy: 0.5627 - val_loss: 9.9181e-04 - val_acc: 0.0000e+00 - val_mean_absolute_error: 0.0254 - val_binary_crossentropy: 0.5434\n",
      "Epoch 349/500\n",
      "900/900 [==============================] - 0s 35us/step - loss: 0.0011 - acc: 0.0022 - mean_absolute_error: 0.0274 - binary_crossentropy: 0.5623 - val_loss: 0.0014 - val_acc: 0.0000e+00 - val_mean_absolute_error: 0.0304 - val_binary_crossentropy: 0.5442\n",
      "Epoch 350/500\n",
      "900/900 [==============================] - 0s 36us/step - loss: 0.0014 - acc: 0.0022 - mean_absolute_error: 0.0301 - binary_crossentropy: 0.5628 - val_loss: 9.6891e-04 - val_acc: 0.0000e+00 - val_mean_absolute_error: 0.0254 - val_binary_crossentropy: 0.5433\n",
      "Epoch 351/500\n",
      "900/900 [==============================] - 0s 35us/step - loss: 0.0013 - acc: 0.0022 - mean_absolute_error: 0.0303 - binary_crossentropy: 0.5627 - val_loss: 0.0014 - val_acc: 0.0000e+00 - val_mean_absolute_error: 0.0299 - val_binary_crossentropy: 0.5441\n",
      "Epoch 352/500\n",
      "900/900 [==============================] - 0s 37us/step - loss: 0.0014 - acc: 0.0022 - mean_absolute_error: 0.0307 - binary_crossentropy: 0.5628 - val_loss: 9.6119e-04 - val_acc: 0.0000e+00 - val_mean_absolute_error: 0.0251 - val_binary_crossentropy: 0.5433\n",
      "Epoch 353/500\n",
      "900/900 [==============================] - 0s 36us/step - loss: 0.0013 - acc: 0.0022 - mean_absolute_error: 0.0304 - binary_crossentropy: 0.5628 - val_loss: 0.0017 - val_acc: 0.0000e+00 - val_mean_absolute_error: 0.0337 - val_binary_crossentropy: 0.5449\n",
      "Epoch 354/500\n",
      "900/900 [==============================] - 0s 36us/step - loss: 0.0013 - acc: 0.0022 - mean_absolute_error: 0.0292 - binary_crossentropy: 0.5626 - val_loss: 8.9517e-04 - val_acc: 0.0000e+00 - val_mean_absolute_error: 0.0237 - val_binary_crossentropy: 0.5432\n",
      "Epoch 355/500\n",
      "900/900 [==============================] - 0s 39us/step - loss: 0.0014 - acc: 0.0022 - mean_absolute_error: 0.0304 - binary_crossentropy: 0.5628 - val_loss: 0.0011 - val_acc: 0.0000e+00 - val_mean_absolute_error: 0.0259 - val_binary_crossentropy: 0.5436\n",
      "Epoch 356/500\n",
      "900/900 [==============================] - 0s 45us/step - loss: 0.0011 - acc: 0.0022 - mean_absolute_error: 0.0273 - binary_crossentropy: 0.5622 - val_loss: 0.0011 - val_acc: 0.0000e+00 - val_mean_absolute_error: 0.0267 - val_binary_crossentropy: 0.5435\n",
      "Epoch 357/500\n",
      "900/900 [==============================] - 0s 42us/step - loss: 0.0013 - acc: 0.0022 - mean_absolute_error: 0.0297 - binary_crossentropy: 0.5627 - val_loss: 0.0011 - val_acc: 0.0000e+00 - val_mean_absolute_error: 0.0258 - val_binary_crossentropy: 0.5435\n",
      "Epoch 358/500\n",
      "900/900 [==============================] - 0s 41us/step - loss: 0.0013 - acc: 0.0022 - mean_absolute_error: 0.0291 - binary_crossentropy: 0.5626 - val_loss: 9.1693e-04 - val_acc: 0.0000e+00 - val_mean_absolute_error: 0.0244 - val_binary_crossentropy: 0.5432\n",
      "Epoch 359/500\n",
      "900/900 [==============================] - 0s 46us/step - loss: 0.0014 - acc: 0.0022 - mean_absolute_error: 0.0305 - binary_crossentropy: 0.5628 - val_loss: 0.0014 - val_acc: 0.0000e+00 - val_mean_absolute_error: 0.0306 - val_binary_crossentropy: 0.5443\n",
      "Epoch 360/500\n",
      "900/900 [==============================] - 0s 41us/step - loss: 0.0011 - acc: 0.0022 - mean_absolute_error: 0.0271 - binary_crossentropy: 0.5623 - val_loss: 9.8981e-04 - val_acc: 0.0000e+00 - val_mean_absolute_error: 0.0258 - val_binary_crossentropy: 0.5434\n",
      "Epoch 361/500\n",
      "900/900 [==============================] - 0s 42us/step - loss: 0.0014 - acc: 0.0022 - mean_absolute_error: 0.0308 - binary_crossentropy: 0.5629 - val_loss: 0.0011 - val_acc: 0.0000e+00 - val_mean_absolute_error: 0.0254 - val_binary_crossentropy: 0.5434\n",
      "Epoch 362/500\n",
      "900/900 [==============================] - 0s 44us/step - loss: 0.0013 - acc: 0.0022 - mean_absolute_error: 0.0298 - binary_crossentropy: 0.5627 - val_loss: 0.0020 - val_acc: 0.0000e+00 - val_mean_absolute_error: 0.0389 - val_binary_crossentropy: 0.5458\n",
      "Epoch 363/500\n",
      "900/900 [==============================] - 0s 38us/step - loss: 0.0013 - acc: 0.0022 - mean_absolute_error: 0.0294 - binary_crossentropy: 0.5626 - val_loss: 0.0017 - val_acc: 0.0000e+00 - val_mean_absolute_error: 0.0340 - val_binary_crossentropy: 0.5450\n",
      "Epoch 364/500\n",
      "900/900 [==============================] - 0s 37us/step - loss: 0.0013 - acc: 0.0022 - mean_absolute_error: 0.0296 - binary_crossentropy: 0.5626 - val_loss: 0.0011 - val_acc: 0.0000e+00 - val_mean_absolute_error: 0.0269 - val_binary_crossentropy: 0.5436\n",
      "Epoch 365/500\n",
      "900/900 [==============================] - 0s 41us/step - loss: 0.0015 - acc: 0.0022 - mean_absolute_error: 0.0314 - binary_crossentropy: 0.5631 - val_loss: 9.3946e-04 - val_acc: 0.0000e+00 - val_mean_absolute_error: 0.0236 - val_binary_crossentropy: 0.5432\n",
      "Epoch 366/500\n"
     ]
    },
    {
     "name": "stdout",
     "output_type": "stream",
     "text": [
      "900/900 [==============================] - 0s 36us/step - loss: 0.0011 - acc: 0.0022 - mean_absolute_error: 0.0269 - binary_crossentropy: 0.5622 - val_loss: 0.0014 - val_acc: 0.0000e+00 - val_mean_absolute_error: 0.0308 - val_binary_crossentropy: 0.5443\n",
      "Epoch 367/500\n",
      "900/900 [==============================] - 0s 39us/step - loss: 0.0015 - acc: 0.0022 - mean_absolute_error: 0.0321 - binary_crossentropy: 0.5630 - val_loss: 0.0011 - val_acc: 0.0000e+00 - val_mean_absolute_error: 0.0256 - val_binary_crossentropy: 0.5435\n",
      "Epoch 368/500\n",
      "900/900 [==============================] - 0s 35us/step - loss: 0.0010 - acc: 0.0022 - mean_absolute_error: 0.0257 - binary_crossentropy: 0.5620 - val_loss: 0.0016 - val_acc: 0.0000e+00 - val_mean_absolute_error: 0.0336 - val_binary_crossentropy: 0.5447\n",
      "Epoch 369/500\n",
      "900/900 [==============================] - 0s 37us/step - loss: 0.0016 - acc: 0.0022 - mean_absolute_error: 0.0331 - binary_crossentropy: 0.5633 - val_loss: 0.0013 - val_acc: 0.0000e+00 - val_mean_absolute_error: 0.0286 - val_binary_crossentropy: 0.5439\n",
      "Epoch 370/500\n",
      "900/900 [==============================] - 0s 36us/step - loss: 0.0013 - acc: 0.0022 - mean_absolute_error: 0.0293 - binary_crossentropy: 0.5626 - val_loss: 0.0024 - val_acc: 0.0000e+00 - val_mean_absolute_error: 0.0423 - val_binary_crossentropy: 0.5466\n",
      "Epoch 371/500\n",
      "900/900 [==============================] - 0s 37us/step - loss: 0.0013 - acc: 0.0022 - mean_absolute_error: 0.0287 - binary_crossentropy: 0.5626 - val_loss: 8.6921e-04 - val_acc: 0.0000e+00 - val_mean_absolute_error: 0.0230 - val_binary_crossentropy: 0.5431\n",
      "Epoch 372/500\n",
      "900/900 [==============================] - 0s 37us/step - loss: 0.0013 - acc: 0.0022 - mean_absolute_error: 0.0293 - binary_crossentropy: 0.5627 - val_loss: 0.0013 - val_acc: 0.0000e+00 - val_mean_absolute_error: 0.0285 - val_binary_crossentropy: 0.5439\n",
      "Epoch 373/500\n",
      "900/900 [==============================] - 0s 44us/step - loss: 0.0013 - acc: 0.0022 - mean_absolute_error: 0.0293 - binary_crossentropy: 0.5625 - val_loss: 0.0012 - val_acc: 0.0000e+00 - val_mean_absolute_error: 0.0284 - val_binary_crossentropy: 0.5438\n",
      "Epoch 374/500\n",
      "900/900 [==============================] - 0s 38us/step - loss: 0.0015 - acc: 0.0022 - mean_absolute_error: 0.0321 - binary_crossentropy: 0.5630 - val_loss: 0.0011 - val_acc: 0.0000e+00 - val_mean_absolute_error: 0.0254 - val_binary_crossentropy: 0.5434\n",
      "Epoch 375/500\n",
      "900/900 [==============================] - 0s 41us/step - loss: 0.0012 - acc: 0.0022 - mean_absolute_error: 0.0283 - binary_crossentropy: 0.5624 - val_loss: 0.0010 - val_acc: 0.0000e+00 - val_mean_absolute_error: 0.0263 - val_binary_crossentropy: 0.5435\n",
      "Epoch 376/500\n",
      "900/900 [==============================] - 0s 36us/step - loss: 0.0010 - acc: 0.0022 - mean_absolute_error: 0.0253 - binary_crossentropy: 0.5620 - val_loss: 8.7824e-04 - val_acc: 0.0000e+00 - val_mean_absolute_error: 0.0230 - val_binary_crossentropy: 0.5431\n",
      "Epoch 377/500\n",
      "900/900 [==============================] - 0s 34us/step - loss: 0.0014 - acc: 0.0022 - mean_absolute_error: 0.0303 - binary_crossentropy: 0.5630 - val_loss: 0.0010 - val_acc: 0.0000e+00 - val_mean_absolute_error: 0.0249 - val_binary_crossentropy: 0.5434\n",
      "Epoch 378/500\n",
      "900/900 [==============================] - 0s 36us/step - loss: 0.0010 - acc: 0.0022 - mean_absolute_error: 0.0255 - binary_crossentropy: 0.5620 - val_loss: 0.0011 - val_acc: 0.0000e+00 - val_mean_absolute_error: 0.0264 - val_binary_crossentropy: 0.5435\n",
      "Epoch 379/500\n",
      "900/900 [==============================] - 0s 35us/step - loss: 0.0017 - acc: 0.0022 - mean_absolute_error: 0.0333 - binary_crossentropy: 0.5634 - val_loss: 9.0611e-04 - val_acc: 0.0000e+00 - val_mean_absolute_error: 0.0243 - val_binary_crossentropy: 0.5432\n",
      "Epoch 380/500\n",
      "900/900 [==============================] - 0s 34us/step - loss: 0.0011 - acc: 0.0022 - mean_absolute_error: 0.0264 - binary_crossentropy: 0.5621 - val_loss: 0.0019 - val_acc: 0.0000e+00 - val_mean_absolute_error: 0.0354 - val_binary_crossentropy: 0.5452\n",
      "Epoch 381/500\n",
      "900/900 [==============================] - 0s 38us/step - loss: 0.0013 - acc: 0.0022 - mean_absolute_error: 0.0298 - binary_crossentropy: 0.5627 - val_loss: 0.0014 - val_acc: 0.0000e+00 - val_mean_absolute_error: 0.0304 - val_binary_crossentropy: 0.5441\n",
      "Epoch 382/500\n",
      "900/900 [==============================] - 0s 38us/step - loss: 0.0013 - acc: 0.0022 - mean_absolute_error: 0.0297 - binary_crossentropy: 0.5626 - val_loss: 9.3760e-04 - val_acc: 0.0000e+00 - val_mean_absolute_error: 0.0246 - val_binary_crossentropy: 0.5433\n",
      "Epoch 383/500\n",
      "900/900 [==============================] - 0s 36us/step - loss: 0.0012 - acc: 0.0022 - mean_absolute_error: 0.0283 - binary_crossentropy: 0.5624 - val_loss: 0.0013 - val_acc: 0.0000e+00 - val_mean_absolute_error: 0.0285 - val_binary_crossentropy: 0.5439\n",
      "Epoch 384/500\n",
      "900/900 [==============================] - 0s 42us/step - loss: 0.0014 - acc: 0.0022 - mean_absolute_error: 0.0305 - binary_crossentropy: 0.5627 - val_loss: 0.0011 - val_acc: 0.0000e+00 - val_mean_absolute_error: 0.0276 - val_binary_crossentropy: 0.5437\n",
      "Epoch 385/500\n",
      "900/900 [==============================] - 0s 39us/step - loss: 0.0014 - acc: 0.0022 - mean_absolute_error: 0.0307 - binary_crossentropy: 0.5629 - val_loss: 0.0020 - val_acc: 0.0000e+00 - val_mean_absolute_error: 0.0363 - val_binary_crossentropy: 0.5454\n",
      "Epoch 386/500\n",
      "900/900 [==============================] - 0s 35us/step - loss: 0.0011 - acc: 0.0022 - mean_absolute_error: 0.0266 - binary_crossentropy: 0.5622 - val_loss: 0.0012 - val_acc: 0.0000e+00 - val_mean_absolute_error: 0.0280 - val_binary_crossentropy: 0.5438\n",
      "Epoch 387/500\n",
      "900/900 [==============================] - 0s 45us/step - loss: 0.0015 - acc: 0.0022 - mean_absolute_error: 0.0320 - binary_crossentropy: 0.5630 - val_loss: 0.0013 - val_acc: 0.0000e+00 - val_mean_absolute_error: 0.0299 - val_binary_crossentropy: 0.5440\n",
      "Epoch 388/500\n",
      "900/900 [==============================] - 0s 37us/step - loss: 0.0012 - acc: 0.0022 - mean_absolute_error: 0.0285 - binary_crossentropy: 0.5624 - val_loss: 0.0012 - val_acc: 0.0000e+00 - val_mean_absolute_error: 0.0283 - val_binary_crossentropy: 0.5438\n",
      "Epoch 389/500\n",
      "900/900 [==============================] - 0s 37us/step - loss: 0.0013 - acc: 0.0022 - mean_absolute_error: 0.0290 - binary_crossentropy: 0.5625 - val_loss: 0.0013 - val_acc: 0.0000e+00 - val_mean_absolute_error: 0.0295 - val_binary_crossentropy: 0.5441\n",
      "Epoch 390/500\n",
      "900/900 [==============================] - 0s 38us/step - loss: 0.0015 - acc: 0.0022 - mean_absolute_error: 0.0315 - binary_crossentropy: 0.5630 - val_loss: 8.7059e-04 - val_acc: 0.0000e+00 - val_mean_absolute_error: 0.0227 - val_binary_crossentropy: 0.5431\n",
      "Epoch 391/500\n",
      "900/900 [==============================] - 0s 42us/step - loss: 0.0011 - acc: 0.0022 - mean_absolute_error: 0.0264 - binary_crossentropy: 0.5621 - val_loss: 0.0022 - val_acc: 0.0000e+00 - val_mean_absolute_error: 0.0393 - val_binary_crossentropy: 0.5460\n",
      "Epoch 392/500\n",
      "900/900 [==============================] - 0s 42us/step - loss: 0.0014 - acc: 0.0022 - mean_absolute_error: 0.0299 - binary_crossentropy: 0.5628 - val_loss: 9.6894e-04 - val_acc: 0.0000e+00 - val_mean_absolute_error: 0.0253 - val_binary_crossentropy: 0.5433\n",
      "Epoch 393/500\n",
      "900/900 [==============================] - 0s 39us/step - loss: 0.0014 - acc: 0.0022 - mean_absolute_error: 0.0304 - binary_crossentropy: 0.5629 - val_loss: 8.6336e-04 - val_acc: 0.0000e+00 - val_mean_absolute_error: 0.0227 - val_binary_crossentropy: 0.5431\n",
      "Epoch 394/500\n",
      "900/900 [==============================] - 0s 38us/step - loss: 9.4088e-04 - acc: 0.0022 - mean_absolute_error: 0.0241 - binary_crossentropy: 0.5618 - val_loss: 0.0013 - val_acc: 0.0000e+00 - val_mean_absolute_error: 0.0289 - val_binary_crossentropy: 0.5439\n",
      "Epoch 395/500\n",
      "900/900 [==============================] - 0s 42us/step - loss: 0.0015 - acc: 0.0022 - mean_absolute_error: 0.0314 - binary_crossentropy: 0.5631 - val_loss: 8.5341e-04 - val_acc: 0.0000e+00 - val_mean_absolute_error: 0.0227 - val_binary_crossentropy: 0.5430\n",
      "Epoch 396/500\n"
     ]
    },
    {
     "name": "stdout",
     "output_type": "stream",
     "text": [
      "900/900 [==============================] - 0s 41us/step - loss: 0.0015 - acc: 0.0022 - mean_absolute_error: 0.0310 - binary_crossentropy: 0.5630 - val_loss: 0.0012 - val_acc: 0.0000e+00 - val_mean_absolute_error: 0.0271 - val_binary_crossentropy: 0.5438\n",
      "Epoch 397/500\n",
      "900/900 [==============================] - 0s 39us/step - loss: 0.0010 - acc: 0.0022 - mean_absolute_error: 0.0255 - binary_crossentropy: 0.5620 - val_loss: 8.6400e-04 - val_acc: 0.0000e+00 - val_mean_absolute_error: 0.0227 - val_binary_crossentropy: 0.5430\n",
      "Epoch 398/500\n",
      "900/900 [==============================] - 0s 40us/step - loss: 0.0015 - acc: 0.0022 - mean_absolute_error: 0.0316 - binary_crossentropy: 0.5632 - val_loss: 9.4831e-04 - val_acc: 0.0000e+00 - val_mean_absolute_error: 0.0237 - val_binary_crossentropy: 0.5433\n",
      "Epoch 399/500\n",
      "900/900 [==============================] - 0s 38us/step - loss: 0.0011 - acc: 0.0022 - mean_absolute_error: 0.0264 - binary_crossentropy: 0.5622 - val_loss: 0.0020 - val_acc: 0.0000e+00 - val_mean_absolute_error: 0.0370 - val_binary_crossentropy: 0.5455\n",
      "Epoch 400/500\n",
      "900/900 [==============================] - 0s 36us/step - loss: 0.0013 - acc: 0.0022 - mean_absolute_error: 0.0296 - binary_crossentropy: 0.5626 - val_loss: 0.0011 - val_acc: 0.0000e+00 - val_mean_absolute_error: 0.0271 - val_binary_crossentropy: 0.5436\n",
      "Epoch 401/500\n",
      "900/900 [==============================] - 0s 40us/step - loss: 0.0012 - acc: 0.0022 - mean_absolute_error: 0.0277 - binary_crossentropy: 0.5623 - val_loss: 0.0023 - val_acc: 0.0000e+00 - val_mean_absolute_error: 0.0424 - val_binary_crossentropy: 0.5466\n",
      "Epoch 402/500\n",
      "900/900 [==============================] - 0s 34us/step - loss: 0.0013 - acc: 0.0022 - mean_absolute_error: 0.0288 - binary_crossentropy: 0.5626 - val_loss: 9.0368e-04 - val_acc: 0.0000e+00 - val_mean_absolute_error: 0.0231 - val_binary_crossentropy: 0.5431\n",
      "Epoch 403/500\n",
      "900/900 [==============================] - 0s 42us/step - loss: 0.0014 - acc: 0.0022 - mean_absolute_error: 0.0306 - binary_crossentropy: 0.5629 - val_loss: 0.0010 - val_acc: 0.0000e+00 - val_mean_absolute_error: 0.0265 - val_binary_crossentropy: 0.5435\n",
      "Epoch 404/500\n",
      "900/900 [==============================] - 0s 37us/step - loss: 0.0011 - acc: 0.0022 - mean_absolute_error: 0.0268 - binary_crossentropy: 0.5622 - val_loss: 0.0020 - val_acc: 0.0000e+00 - val_mean_absolute_error: 0.0392 - val_binary_crossentropy: 0.5458\n",
      "Epoch 405/500\n",
      "900/900 [==============================] - 0s 45us/step - loss: 0.0011 - acc: 0.0022 - mean_absolute_error: 0.0264 - binary_crossentropy: 0.5622 - val_loss: 8.5736e-04 - val_acc: 0.0000e+00 - val_mean_absolute_error: 0.0226 - val_binary_crossentropy: 0.5430\n",
      "Epoch 406/500\n",
      "900/900 [==============================] - 0s 42us/step - loss: 0.0015 - acc: 0.0022 - mean_absolute_error: 0.0309 - binary_crossentropy: 0.5631 - val_loss: 9.2218e-04 - val_acc: 0.0000e+00 - val_mean_absolute_error: 0.0232 - val_binary_crossentropy: 0.5432\n",
      "Epoch 407/500\n",
      "900/900 [==============================] - 0s 44us/step - loss: 9.6374e-04 - acc: 0.0022 - mean_absolute_error: 0.0244 - binary_crossentropy: 0.5618 - val_loss: 0.0018 - val_acc: 0.0000e+00 - val_mean_absolute_error: 0.0363 - val_binary_crossentropy: 0.5453\n",
      "Epoch 408/500\n",
      "900/900 [==============================] - 0s 44us/step - loss: 0.0016 - acc: 0.0022 - mean_absolute_error: 0.0322 - binary_crossentropy: 0.5633 - val_loss: 9.7427e-04 - val_acc: 0.0000e+00 - val_mean_absolute_error: 0.0242 - val_binary_crossentropy: 0.5432\n",
      "Epoch 409/500\n",
      "900/900 [==============================] - 0s 43us/step - loss: 0.0011 - acc: 0.0022 - mean_absolute_error: 0.0263 - binary_crossentropy: 0.5620 - val_loss: 0.0013 - val_acc: 0.0000e+00 - val_mean_absolute_error: 0.0297 - val_binary_crossentropy: 0.5440\n",
      "Epoch 410/500\n",
      "900/900 [==============================] - 0s 42us/step - loss: 0.0014 - acc: 0.0022 - mean_absolute_error: 0.0310 - binary_crossentropy: 0.5629 - val_loss: 0.0010 - val_acc: 0.0000e+00 - val_mean_absolute_error: 0.0249 - val_binary_crossentropy: 0.5434\n",
      "Epoch 411/500\n",
      "900/900 [==============================] - 0s 42us/step - loss: 0.0014 - acc: 0.0022 - mean_absolute_error: 0.0310 - binary_crossentropy: 0.5629 - val_loss: 0.0013 - val_acc: 0.0000e+00 - val_mean_absolute_error: 0.0310 - val_binary_crossentropy: 0.5442\n",
      "Epoch 412/500\n",
      "900/900 [==============================] - 0s 42us/step - loss: 0.0011 - acc: 0.0022 - mean_absolute_error: 0.0264 - binary_crossentropy: 0.5622 - val_loss: 0.0010 - val_acc: 0.0000e+00 - val_mean_absolute_error: 0.0252 - val_binary_crossentropy: 0.5434\n",
      "Epoch 413/500\n",
      "900/900 [==============================] - 0s 37us/step - loss: 0.0014 - acc: 0.0022 - mean_absolute_error: 0.0307 - binary_crossentropy: 0.5628 - val_loss: 0.0010 - val_acc: 0.0000e+00 - val_mean_absolute_error: 0.0262 - val_binary_crossentropy: 0.5435\n",
      "Epoch 414/500\n",
      "900/900 [==============================] - 0s 43us/step - loss: 0.0013 - acc: 0.0022 - mean_absolute_error: 0.0294 - binary_crossentropy: 0.5625 - val_loss: 0.0013 - val_acc: 0.0000e+00 - val_mean_absolute_error: 0.0294 - val_binary_crossentropy: 0.5440\n",
      "Epoch 415/500\n",
      "900/900 [==============================] - 0s 36us/step - loss: 0.0013 - acc: 0.0022 - mean_absolute_error: 0.0287 - binary_crossentropy: 0.5626 - val_loss: 9.5940e-04 - val_acc: 0.0000e+00 - val_mean_absolute_error: 0.0252 - val_binary_crossentropy: 0.5433\n",
      "Epoch 416/500\n",
      "900/900 [==============================] - 0s 35us/step - loss: 0.0013 - acc: 0.0022 - mean_absolute_error: 0.0296 - binary_crossentropy: 0.5626 - val_loss: 0.0012 - val_acc: 0.0000e+00 - val_mean_absolute_error: 0.0281 - val_binary_crossentropy: 0.5438\n",
      "Epoch 417/500\n",
      "900/900 [==============================] - 0s 34us/step - loss: 0.0011 - acc: 0.0022 - mean_absolute_error: 0.0267 - binary_crossentropy: 0.5621 - val_loss: 0.0014 - val_acc: 0.0000e+00 - val_mean_absolute_error: 0.0318 - val_binary_crossentropy: 0.5443\n",
      "Epoch 418/500\n",
      "900/900 [==============================] - 0s 33us/step - loss: 0.0015 - acc: 0.0022 - mean_absolute_error: 0.0321 - binary_crossentropy: 0.5629 - val_loss: 0.0010 - val_acc: 0.0000e+00 - val_mean_absolute_error: 0.0248 - val_binary_crossentropy: 0.5434\n",
      "Epoch 419/500\n",
      "900/900 [==============================] - 0s 36us/step - loss: 9.7454e-04 - acc: 0.0022 - mean_absolute_error: 0.0247 - binary_crossentropy: 0.5619 - val_loss: 0.0011 - val_acc: 0.0000e+00 - val_mean_absolute_error: 0.0269 - val_binary_crossentropy: 0.5436\n",
      "Epoch 420/500\n",
      "900/900 [==============================] - 0s 33us/step - loss: 0.0014 - acc: 0.0022 - mean_absolute_error: 0.0306 - binary_crossentropy: 0.5629 - val_loss: 8.3708e-04 - val_acc: 0.0000e+00 - val_mean_absolute_error: 0.0225 - val_binary_crossentropy: 0.5430\n",
      "Epoch 421/500\n",
      "900/900 [==============================] - 0s 35us/step - loss: 0.0011 - acc: 0.0022 - mean_absolute_error: 0.0263 - binary_crossentropy: 0.5621 - val_loss: 0.0023 - val_acc: 0.0000e+00 - val_mean_absolute_error: 0.0416 - val_binary_crossentropy: 0.5464\n",
      "Epoch 422/500\n",
      "900/900 [==============================] - 0s 38us/step - loss: 0.0015 - acc: 0.0022 - mean_absolute_error: 0.0322 - binary_crossentropy: 0.5631 - val_loss: 0.0011 - val_acc: 0.0000e+00 - val_mean_absolute_error: 0.0259 - val_binary_crossentropy: 0.5435\n",
      "Epoch 423/500\n",
      "900/900 [==============================] - 0s 39us/step - loss: 0.0011 - acc: 0.0022 - mean_absolute_error: 0.0264 - binary_crossentropy: 0.5621 - val_loss: 0.0022 - val_acc: 0.0000e+00 - val_mean_absolute_error: 0.0387 - val_binary_crossentropy: 0.5459\n",
      "Epoch 424/500\n",
      "900/900 [==============================] - 0s 37us/step - loss: 0.0013 - acc: 0.0022 - mean_absolute_error: 0.0285 - binary_crossentropy: 0.5625 - val_loss: 8.4162e-04 - val_acc: 0.0000e+00 - val_mean_absolute_error: 0.0224 - val_binary_crossentropy: 0.5430\n",
      "Epoch 425/500\n",
      "900/900 [==============================] - 0s 37us/step - loss: 0.0014 - acc: 0.0022 - mean_absolute_error: 0.0302 - binary_crossentropy: 0.5628 - val_loss: 0.0016 - val_acc: 0.0000e+00 - val_mean_absolute_error: 0.0325 - val_binary_crossentropy: 0.5447\n",
      "Epoch 426/500\n"
     ]
    },
    {
     "name": "stdout",
     "output_type": "stream",
     "text": [
      "900/900 [==============================] - 0s 36us/step - loss: 0.0011 - acc: 0.0022 - mean_absolute_error: 0.0259 - binary_crossentropy: 0.5621 - val_loss: 0.0017 - val_acc: 0.0000e+00 - val_mean_absolute_error: 0.0337 - val_binary_crossentropy: 0.5447\n",
      "Epoch 427/500\n",
      "900/900 [==============================] - 0s 34us/step - loss: 0.0015 - acc: 0.0022 - mean_absolute_error: 0.0317 - binary_crossentropy: 0.5629 - val_loss: 8.9469e-04 - val_acc: 0.0000e+00 - val_mean_absolute_error: 0.0240 - val_binary_crossentropy: 0.5431\n",
      "Epoch 428/500\n",
      "900/900 [==============================] - 0s 35us/step - loss: 0.0011 - acc: 0.0022 - mean_absolute_error: 0.0258 - binary_crossentropy: 0.5621 - val_loss: 0.0028 - val_acc: 0.0000e+00 - val_mean_absolute_error: 0.0468 - val_binary_crossentropy: 0.5476\n",
      "Epoch 429/500\n",
      "900/900 [==============================] - 0s 39us/step - loss: 0.0012 - acc: 0.0022 - mean_absolute_error: 0.0268 - binary_crossentropy: 0.5623 - val_loss: 9.6251e-04 - val_acc: 0.0000e+00 - val_mean_absolute_error: 0.0240 - val_binary_crossentropy: 0.5432\n",
      "Epoch 430/500\n",
      "900/900 [==============================] - 0s 38us/step - loss: 0.0016 - acc: 0.0022 - mean_absolute_error: 0.0319 - binary_crossentropy: 0.5632 - val_loss: 9.2120e-04 - val_acc: 0.0000e+00 - val_mean_absolute_error: 0.0233 - val_binary_crossentropy: 0.5431\n",
      "Epoch 431/500\n",
      "900/900 [==============================] - 0s 44us/step - loss: 0.0012 - acc: 0.0022 - mean_absolute_error: 0.0281 - binary_crossentropy: 0.5625 - val_loss: 0.0011 - val_acc: 0.0000e+00 - val_mean_absolute_error: 0.0267 - val_binary_crossentropy: 0.5437\n",
      "Epoch 432/500\n",
      "900/900 [==============================] - 0s 37us/step - loss: 9.6565e-04 - acc: 0.0022 - mean_absolute_error: 0.0245 - binary_crossentropy: 0.5618 - val_loss: 0.0011 - val_acc: 0.0000e+00 - val_mean_absolute_error: 0.0269 - val_binary_crossentropy: 0.5436\n",
      "Epoch 433/500\n",
      "900/900 [==============================] - 0s 36us/step - loss: 0.0015 - acc: 0.0022 - mean_absolute_error: 0.0321 - binary_crossentropy: 0.5631 - val_loss: 0.0012 - val_acc: 0.0000e+00 - val_mean_absolute_error: 0.0281 - val_binary_crossentropy: 0.5438\n",
      "Epoch 434/500\n",
      "900/900 [==============================] - 0s 34us/step - loss: 0.0011 - acc: 0.0022 - mean_absolute_error: 0.0261 - binary_crossentropy: 0.5621 - val_loss: 0.0014 - val_acc: 0.0000e+00 - val_mean_absolute_error: 0.0304 - val_binary_crossentropy: 0.5441\n",
      "Epoch 435/500\n",
      "900/900 [==============================] - 0s 34us/step - loss: 0.0014 - acc: 0.0022 - mean_absolute_error: 0.0316 - binary_crossentropy: 0.5628 - val_loss: 8.9914e-04 - val_acc: 0.0000e+00 - val_mean_absolute_error: 0.0239 - val_binary_crossentropy: 0.5432\n",
      "Epoch 436/500\n",
      "900/900 [==============================] - 0s 34us/step - loss: 0.0013 - acc: 0.0022 - mean_absolute_error: 0.0288 - binary_crossentropy: 0.5625 - val_loss: 0.0016 - val_acc: 0.0000e+00 - val_mean_absolute_error: 0.0338 - val_binary_crossentropy: 0.5449\n",
      "Epoch 437/500\n",
      "900/900 [==============================] - 0s 34us/step - loss: 0.0011 - acc: 0.0022 - mean_absolute_error: 0.0263 - binary_crossentropy: 0.5622 - val_loss: 0.0011 - val_acc: 0.0000e+00 - val_mean_absolute_error: 0.0256 - val_binary_crossentropy: 0.5434\n",
      "Epoch 438/500\n",
      "900/900 [==============================] - 0s 38us/step - loss: 0.0016 - acc: 0.0022 - mean_absolute_error: 0.0330 - binary_crossentropy: 0.5632 - val_loss: 9.8641e-04 - val_acc: 0.0000e+00 - val_mean_absolute_error: 0.0255 - val_binary_crossentropy: 0.5434\n",
      "Epoch 439/500\n",
      "900/900 [==============================] - 0s 35us/step - loss: 0.0010 - acc: 0.0022 - mean_absolute_error: 0.0256 - binary_crossentropy: 0.5620 - val_loss: 0.0021 - val_acc: 0.0000e+00 - val_mean_absolute_error: 0.0380 - val_binary_crossentropy: 0.5457\n",
      "Epoch 440/500\n",
      "900/900 [==============================] - 0s 37us/step - loss: 0.0013 - acc: 0.0022 - mean_absolute_error: 0.0289 - binary_crossentropy: 0.5626 - val_loss: 8.4712e-04 - val_acc: 0.0000e+00 - val_mean_absolute_error: 0.0229 - val_binary_crossentropy: 0.5430\n",
      "Epoch 441/500\n",
      "900/900 [==============================] - 0s 37us/step - loss: 0.0013 - acc: 0.0022 - mean_absolute_error: 0.0302 - binary_crossentropy: 0.5627 - val_loss: 8.6244e-04 - val_acc: 0.0000e+00 - val_mean_absolute_error: 0.0223 - val_binary_crossentropy: 0.5430\n",
      "Epoch 442/500\n",
      "900/900 [==============================] - 0s 36us/step - loss: 0.0011 - acc: 0.0022 - mean_absolute_error: 0.0273 - binary_crossentropy: 0.5622 - val_loss: 0.0012 - val_acc: 0.0000e+00 - val_mean_absolute_error: 0.0288 - val_binary_crossentropy: 0.5438\n",
      "Epoch 443/500\n",
      "900/900 [==============================] - 0s 34us/step - loss: 0.0014 - acc: 0.0022 - mean_absolute_error: 0.0304 - binary_crossentropy: 0.5627 - val_loss: 9.0071e-04 - val_acc: 0.0000e+00 - val_mean_absolute_error: 0.0230 - val_binary_crossentropy: 0.5431\n",
      "Epoch 444/500\n",
      "900/900 [==============================] - 0s 41us/step - loss: 0.0014 - acc: 0.0022 - mean_absolute_error: 0.0300 - binary_crossentropy: 0.5627 - val_loss: 8.7449e-04 - val_acc: 0.0000e+00 - val_mean_absolute_error: 0.0235 - val_binary_crossentropy: 0.5431\n",
      "Epoch 445/500\n",
      "900/900 [==============================] - 0s 35us/step - loss: 9.7265e-04 - acc: 0.0022 - mean_absolute_error: 0.0245 - binary_crossentropy: 0.5619 - val_loss: 8.7187e-04 - val_acc: 0.0000e+00 - val_mean_absolute_error: 0.0234 - val_binary_crossentropy: 0.5431\n",
      "Epoch 446/500\n",
      "900/900 [==============================] - 0s 36us/step - loss: 0.0016 - acc: 0.0022 - mean_absolute_error: 0.0318 - binary_crossentropy: 0.5633 - val_loss: 8.6444e-04 - val_acc: 0.0000e+00 - val_mean_absolute_error: 0.0233 - val_binary_crossentropy: 0.5431\n",
      "Epoch 447/500\n",
      "900/900 [==============================] - 0s 40us/step - loss: 0.0011 - acc: 0.0022 - mean_absolute_error: 0.0262 - binary_crossentropy: 0.5620 - val_loss: 0.0011 - val_acc: 0.0000e+00 - val_mean_absolute_error: 0.0263 - val_binary_crossentropy: 0.5435\n",
      "Epoch 448/500\n",
      "900/900 [==============================] - 0s 41us/step - loss: 0.0013 - acc: 0.0022 - mean_absolute_error: 0.0290 - binary_crossentropy: 0.5626 - val_loss: 0.0024 - val_acc: 0.0000e+00 - val_mean_absolute_error: 0.0427 - val_binary_crossentropy: 0.5466\n",
      "Epoch 449/500\n",
      "900/900 [==============================] - 0s 34us/step - loss: 0.0013 - acc: 0.0022 - mean_absolute_error: 0.0291 - binary_crossentropy: 0.5625 - val_loss: 0.0012 - val_acc: 0.0000e+00 - val_mean_absolute_error: 0.0275 - val_binary_crossentropy: 0.5437\n",
      "Epoch 450/500\n",
      "900/900 [==============================] - 0s 38us/step - loss: 9.7639e-04 - acc: 0.0022 - mean_absolute_error: 0.0243 - binary_crossentropy: 0.5618 - val_loss: 9.1130e-04 - val_acc: 0.0000e+00 - val_mean_absolute_error: 0.0244 - val_binary_crossentropy: 0.5432\n",
      "Epoch 451/500\n",
      "900/900 [==============================] - 0s 38us/step - loss: 0.0015 - acc: 0.0022 - mean_absolute_error: 0.0310 - binary_crossentropy: 0.5630 - val_loss: 8.2414e-04 - val_acc: 0.0000e+00 - val_mean_absolute_error: 0.0225 - val_binary_crossentropy: 0.5430\n",
      "Epoch 452/500\n",
      "900/900 [==============================] - 0s 35us/step - loss: 0.0012 - acc: 0.0022 - mean_absolute_error: 0.0274 - binary_crossentropy: 0.5624 - val_loss: 0.0020 - val_acc: 0.0000e+00 - val_mean_absolute_error: 0.0393 - val_binary_crossentropy: 0.5458\n",
      "Epoch 453/500\n",
      "900/900 [==============================] - 0s 37us/step - loss: 0.0013 - acc: 0.0022 - mean_absolute_error: 0.0302 - binary_crossentropy: 0.5627 - val_loss: 0.0014 - val_acc: 0.0000e+00 - val_mean_absolute_error: 0.0299 - val_binary_crossentropy: 0.5441\n",
      "Epoch 454/500\n",
      "900/900 [==============================] - 0s 34us/step - loss: 0.0012 - acc: 0.0022 - mean_absolute_error: 0.0283 - binary_crossentropy: 0.5623 - val_loss: 0.0012 - val_acc: 0.0000e+00 - val_mean_absolute_error: 0.0288 - val_binary_crossentropy: 0.5440\n",
      "Epoch 455/500\n",
      "900/900 [==============================] - 0s 34us/step - loss: 0.0013 - acc: 0.0022 - mean_absolute_error: 0.0303 - binary_crossentropy: 0.5627 - val_loss: 9.8085e-04 - val_acc: 0.0000e+00 - val_mean_absolute_error: 0.0244 - val_binary_crossentropy: 0.5433\n",
      "Epoch 456/500\n"
     ]
    },
    {
     "name": "stdout",
     "output_type": "stream",
     "text": [
      "900/900 [==============================] - 0s 36us/step - loss: 9.8352e-04 - acc: 0.0022 - mean_absolute_error: 0.0249 - binary_crossentropy: 0.5619 - val_loss: 0.0019 - val_acc: 0.0000e+00 - val_mean_absolute_error: 0.0373 - val_binary_crossentropy: 0.5455\n",
      "Epoch 457/500\n",
      "900/900 [==============================] - 0s 36us/step - loss: 0.0014 - acc: 0.0022 - mean_absolute_error: 0.0302 - binary_crossentropy: 0.5630 - val_loss: 8.1629e-04 - val_acc: 0.0000e+00 - val_mean_absolute_error: 0.0223 - val_binary_crossentropy: 0.5429\n",
      "Epoch 458/500\n",
      "900/900 [==============================] - 0s 40us/step - loss: 0.0012 - acc: 0.0022 - mean_absolute_error: 0.0279 - binary_crossentropy: 0.5624 - val_loss: 0.0013 - val_acc: 0.0000e+00 - val_mean_absolute_error: 0.0298 - val_binary_crossentropy: 0.5440\n",
      "Epoch 459/500\n",
      "900/900 [==============================] - 0s 39us/step - loss: 0.0011 - acc: 0.0022 - mean_absolute_error: 0.0270 - binary_crossentropy: 0.5622 - val_loss: 0.0017 - val_acc: 0.0000e+00 - val_mean_absolute_error: 0.0356 - val_binary_crossentropy: 0.5451\n",
      "Epoch 460/500\n",
      "900/900 [==============================] - 0s 37us/step - loss: 0.0014 - acc: 0.0022 - mean_absolute_error: 0.0304 - binary_crossentropy: 0.5628 - val_loss: 0.0011 - val_acc: 0.0000e+00 - val_mean_absolute_error: 0.0266 - val_binary_crossentropy: 0.5436\n",
      "Epoch 461/500\n",
      "900/900 [==============================] - 0s 35us/step - loss: 0.0013 - acc: 0.0022 - mean_absolute_error: 0.0295 - binary_crossentropy: 0.5626 - val_loss: 0.0012 - val_acc: 0.0000e+00 - val_mean_absolute_error: 0.0285 - val_binary_crossentropy: 0.5439\n",
      "Epoch 462/500\n",
      "900/900 [==============================] - 0s 34us/step - loss: 0.0012 - acc: 0.0022 - mean_absolute_error: 0.0287 - binary_crossentropy: 0.5625 - val_loss: 0.0011 - val_acc: 0.0000e+00 - val_mean_absolute_error: 0.0263 - val_binary_crossentropy: 0.5435\n",
      "Epoch 463/500\n",
      "900/900 [==============================] - 0s 35us/step - loss: 0.0014 - acc: 0.0022 - mean_absolute_error: 0.0310 - binary_crossentropy: 0.5628 - val_loss: 0.0018 - val_acc: 0.0000e+00 - val_mean_absolute_error: 0.0358 - val_binary_crossentropy: 0.5452\n",
      "Epoch 464/500\n",
      "900/900 [==============================] - 0s 37us/step - loss: 0.0011 - acc: 0.0022 - mean_absolute_error: 0.0273 - binary_crossentropy: 0.5623 - val_loss: 0.0019 - val_acc: 0.0000e+00 - val_mean_absolute_error: 0.0354 - val_binary_crossentropy: 0.5452\n",
      "Epoch 465/500\n",
      "900/900 [==============================] - 0s 35us/step - loss: 0.0013 - acc: 0.0022 - mean_absolute_error: 0.0293 - binary_crossentropy: 0.5626 - val_loss: 0.0015 - val_acc: 0.0000e+00 - val_mean_absolute_error: 0.0326 - val_binary_crossentropy: 0.5445\n",
      "Epoch 466/500\n",
      "900/900 [==============================] - 0s 36us/step - loss: 0.0012 - acc: 0.0022 - mean_absolute_error: 0.0276 - binary_crossentropy: 0.5623 - val_loss: 9.4694e-04 - val_acc: 0.0000e+00 - val_mean_absolute_error: 0.0238 - val_binary_crossentropy: 0.5432\n",
      "Epoch 467/500\n",
      "900/900 [==============================] - 0s 36us/step - loss: 0.0014 - acc: 0.0022 - mean_absolute_error: 0.0303 - binary_crossentropy: 0.5628 - val_loss: 8.2301e-04 - val_acc: 0.0000e+00 - val_mean_absolute_error: 0.0225 - val_binary_crossentropy: 0.5430\n",
      "Epoch 468/500\n",
      "900/900 [==============================] - 0s 35us/step - loss: 0.0010 - acc: 0.0022 - mean_absolute_error: 0.0254 - binary_crossentropy: 0.5620 - val_loss: 0.0016 - val_acc: 0.0000e+00 - val_mean_absolute_error: 0.0326 - val_binary_crossentropy: 0.5446\n",
      "Epoch 469/500\n",
      "900/900 [==============================] - 0s 36us/step - loss: 0.0013 - acc: 0.0022 - mean_absolute_error: 0.0300 - binary_crossentropy: 0.5626 - val_loss: 0.0012 - val_acc: 0.0000e+00 - val_mean_absolute_error: 0.0294 - val_binary_crossentropy: 0.5440\n",
      "Epoch 470/500\n",
      "900/900 [==============================] - 0s 37us/step - loss: 0.0011 - acc: 0.0022 - mean_absolute_error: 0.0276 - binary_crossentropy: 0.5622 - val_loss: 0.0011 - val_acc: 0.0000e+00 - val_mean_absolute_error: 0.0258 - val_binary_crossentropy: 0.5434\n",
      "Epoch 471/500\n",
      "900/900 [==============================] - 0s 39us/step - loss: 0.0012 - acc: 0.0022 - mean_absolute_error: 0.0290 - binary_crossentropy: 0.5624 - val_loss: 9.4611e-04 - val_acc: 0.0000e+00 - val_mean_absolute_error: 0.0250 - val_binary_crossentropy: 0.5433\n",
      "Epoch 472/500\n",
      "900/900 [==============================] - 0s 36us/step - loss: 0.0013 - acc: 0.0022 - mean_absolute_error: 0.0294 - binary_crossentropy: 0.5625 - val_loss: 0.0011 - val_acc: 0.0000e+00 - val_mean_absolute_error: 0.0262 - val_binary_crossentropy: 0.5435\n",
      "Epoch 473/500\n",
      "900/900 [==============================] - 0s 36us/step - loss: 9.5862e-04 - acc: 0.0022 - mean_absolute_error: 0.0244 - binary_crossentropy: 0.5618 - val_loss: 0.0015 - val_acc: 0.0000e+00 - val_mean_absolute_error: 0.0313 - val_binary_crossentropy: 0.5443\n",
      "Epoch 474/500\n",
      "900/900 [==============================] - 0s 38us/step - loss: 0.0015 - acc: 0.0022 - mean_absolute_error: 0.0324 - binary_crossentropy: 0.5630 - val_loss: 0.0013 - val_acc: 0.0000e+00 - val_mean_absolute_error: 0.0294 - val_binary_crossentropy: 0.5441\n",
      "Epoch 475/500\n",
      "900/900 [==============================] - 0s 43us/step - loss: 0.0011 - acc: 0.0022 - mean_absolute_error: 0.0262 - binary_crossentropy: 0.5622 - val_loss: 8.8485e-04 - val_acc: 0.0000e+00 - val_mean_absolute_error: 0.0226 - val_binary_crossentropy: 0.5430\n",
      "Epoch 476/500\n",
      "900/900 [==============================] - 0s 38us/step - loss: 0.0014 - acc: 0.0022 - mean_absolute_error: 0.0304 - binary_crossentropy: 0.5628 - val_loss: 0.0010 - val_acc: 0.0000e+00 - val_mean_absolute_error: 0.0267 - val_binary_crossentropy: 0.5434\n",
      "Epoch 477/500\n",
      "900/900 [==============================] - 0s 36us/step - loss: 0.0012 - acc: 0.0022 - mean_absolute_error: 0.0278 - binary_crossentropy: 0.5623 - val_loss: 8.1117e-04 - val_acc: 0.0000e+00 - val_mean_absolute_error: 0.0220 - val_binary_crossentropy: 0.5429\n",
      "Epoch 478/500\n",
      "900/900 [==============================] - 0s 36us/step - loss: 0.0014 - acc: 0.0022 - mean_absolute_error: 0.0299 - binary_crossentropy: 0.5629 - val_loss: 0.0011 - val_acc: 0.0000e+00 - val_mean_absolute_error: 0.0258 - val_binary_crossentropy: 0.5436\n",
      "Epoch 479/500\n",
      "900/900 [==============================] - 0s 35us/step - loss: 9.8065e-04 - acc: 0.0022 - mean_absolute_error: 0.0244 - binary_crossentropy: 0.5619 - val_loss: 0.0011 - val_acc: 0.0000e+00 - val_mean_absolute_error: 0.0269 - val_binary_crossentropy: 0.5436\n",
      "Epoch 480/500\n",
      "900/900 [==============================] - 0s 35us/step - loss: 0.0014 - acc: 0.0022 - mean_absolute_error: 0.0310 - binary_crossentropy: 0.5628 - val_loss: 8.1380e-04 - val_acc: 0.0000e+00 - val_mean_absolute_error: 0.0222 - val_binary_crossentropy: 0.5429\n",
      "Epoch 481/500\n",
      "900/900 [==============================] - 0s 43us/step - loss: 9.1127e-04 - acc: 0.0022 - mean_absolute_error: 0.0235 - binary_crossentropy: 0.5617 - val_loss: 0.0015 - val_acc: 0.0000e+00 - val_mean_absolute_error: 0.0317 - val_binary_crossentropy: 0.5443\n",
      "Epoch 482/500\n",
      "900/900 [==============================] - 0s 36us/step - loss: 0.0014 - acc: 0.0022 - mean_absolute_error: 0.0310 - binary_crossentropy: 0.5629 - val_loss: 0.0018 - val_acc: 0.0000e+00 - val_mean_absolute_error: 0.0370 - val_binary_crossentropy: 0.5453\n",
      "Epoch 483/500\n",
      "900/900 [==============================] - 0s 34us/step - loss: 0.0013 - acc: 0.0022 - mean_absolute_error: 0.0290 - binary_crossentropy: 0.5626 - val_loss: 9.7925e-04 - val_acc: 0.0000e+00 - val_mean_absolute_error: 0.0257 - val_binary_crossentropy: 0.5433\n",
      "Epoch 484/500\n",
      "900/900 [==============================] - 0s 35us/step - loss: 0.0011 - acc: 0.0022 - mean_absolute_error: 0.0270 - binary_crossentropy: 0.5621 - val_loss: 0.0019 - val_acc: 0.0000e+00 - val_mean_absolute_error: 0.0357 - val_binary_crossentropy: 0.5452\n",
      "Epoch 485/500\n",
      "900/900 [==============================] - 0s 38us/step - loss: 0.0013 - acc: 0.0022 - mean_absolute_error: 0.0296 - binary_crossentropy: 0.5626 - val_loss: 0.0013 - val_acc: 0.0000e+00 - val_mean_absolute_error: 0.0298 - val_binary_crossentropy: 0.5441\n",
      "Epoch 486/500\n"
     ]
    },
    {
     "name": "stdout",
     "output_type": "stream",
     "text": [
      "900/900 [==============================] - 0s 36us/step - loss: 0.0011 - acc: 0.0022 - mean_absolute_error: 0.0266 - binary_crossentropy: 0.5621 - val_loss: 0.0012 - val_acc: 0.0000e+00 - val_mean_absolute_error: 0.0294 - val_binary_crossentropy: 0.5439\n",
      "Epoch 487/500\n",
      "900/900 [==============================] - 0s 44us/step - loss: 0.0014 - acc: 0.0022 - mean_absolute_error: 0.0317 - binary_crossentropy: 0.5629 - val_loss: 0.0012 - val_acc: 0.0000e+00 - val_mean_absolute_error: 0.0269 - val_binary_crossentropy: 0.5437\n",
      "Epoch 488/500\n",
      "900/900 [==============================] - 0s 45us/step - loss: 0.0012 - acc: 0.0022 - mean_absolute_error: 0.0276 - binary_crossentropy: 0.5623 - val_loss: 0.0011 - val_acc: 0.0000e+00 - val_mean_absolute_error: 0.0283 - val_binary_crossentropy: 0.5437\n",
      "Epoch 489/500\n",
      "900/900 [==============================] - 0s 51us/step - loss: 0.0013 - acc: 0.0022 - mean_absolute_error: 0.0299 - binary_crossentropy: 0.5626 - val_loss: 9.8756e-04 - val_acc: 0.0000e+00 - val_mean_absolute_error: 0.0244 - val_binary_crossentropy: 0.5433\n",
      "Epoch 490/500\n",
      "900/900 [==============================] - 0s 41us/step - loss: 0.0010 - acc: 0.0022 - mean_absolute_error: 0.0258 - binary_crossentropy: 0.5620 - val_loss: 9.5153e-04 - val_acc: 0.0000e+00 - val_mean_absolute_error: 0.0249 - val_binary_crossentropy: 0.5433\n",
      "Epoch 491/500\n",
      "900/900 [==============================] - 0s 41us/step - loss: 0.0014 - acc: 0.0022 - mean_absolute_error: 0.0314 - binary_crossentropy: 0.5629 - val_loss: 8.0718e-04 - val_acc: 0.0000e+00 - val_mean_absolute_error: 0.0222 - val_binary_crossentropy: 0.5429\n",
      "Epoch 492/500\n",
      "900/900 [==============================] - 0s 39us/step - loss: 0.0012 - acc: 0.0022 - mean_absolute_error: 0.0279 - binary_crossentropy: 0.5623 - val_loss: 0.0015 - val_acc: 0.0000e+00 - val_mean_absolute_error: 0.0319 - val_binary_crossentropy: 0.5445\n",
      "Epoch 493/500\n",
      "900/900 [==============================] - 0s 42us/step - loss: 0.0012 - acc: 0.0022 - mean_absolute_error: 0.0275 - binary_crossentropy: 0.5624 - val_loss: 0.0014 - val_acc: 0.0000e+00 - val_mean_absolute_error: 0.0301 - val_binary_crossentropy: 0.5441\n",
      "Epoch 494/500\n",
      "900/900 [==============================] - 0s 43us/step - loss: 0.0011 - acc: 0.0022 - mean_absolute_error: 0.0271 - binary_crossentropy: 0.5622 - val_loss: 8.1477e-04 - val_acc: 0.0000e+00 - val_mean_absolute_error: 0.0219 - val_binary_crossentropy: 0.5429\n",
      "Epoch 495/500\n",
      "900/900 [==============================] - 0s 39us/step - loss: 0.0014 - acc: 0.0022 - mean_absolute_error: 0.0290 - binary_crossentropy: 0.5627 - val_loss: 0.0012 - val_acc: 0.0000e+00 - val_mean_absolute_error: 0.0290 - val_binary_crossentropy: 0.5439\n",
      "Epoch 496/500\n",
      "900/900 [==============================] - 0s 35us/step - loss: 0.0011 - acc: 0.0022 - mean_absolute_error: 0.0270 - binary_crossentropy: 0.5622 - val_loss: 0.0010 - val_acc: 0.0000e+00 - val_mean_absolute_error: 0.0256 - val_binary_crossentropy: 0.5434\n",
      "Epoch 497/500\n",
      "900/900 [==============================] - 0s 36us/step - loss: 0.0013 - acc: 0.0022 - mean_absolute_error: 0.0299 - binary_crossentropy: 0.5627 - val_loss: 0.0010 - val_acc: 0.0000e+00 - val_mean_absolute_error: 0.0264 - val_binary_crossentropy: 0.5435\n",
      "Epoch 498/500\n",
      "900/900 [==============================] - 0s 38us/step - loss: 0.0012 - acc: 0.0022 - mean_absolute_error: 0.0286 - binary_crossentropy: 0.5625 - val_loss: 0.0013 - val_acc: 0.0000e+00 - val_mean_absolute_error: 0.0299 - val_binary_crossentropy: 0.5440\n",
      "Epoch 499/500\n",
      "900/900 [==============================] - 0s 36us/step - loss: 0.0011 - acc: 0.0022 - mean_absolute_error: 0.0276 - binary_crossentropy: 0.5622 - val_loss: 0.0015 - val_acc: 0.0000e+00 - val_mean_absolute_error: 0.0334 - val_binary_crossentropy: 0.5447\n",
      "Epoch 500/500\n",
      "900/900 [==============================] - 0s 39us/step - loss: 0.0012 - acc: 0.0022 - mean_absolute_error: 0.0283 - binary_crossentropy: 0.5625 - val_loss: 0.0016 - val_acc: 0.0000e+00 - val_mean_absolute_error: 0.0324 - val_binary_crossentropy: 0.5447\n"
     ]
    }
   ],
   "source": [
    "data_augmentation = False\n",
    "# data_augmentation = True\n",
    "\n",
    "callbacks = []\n",
    "# callbacks = [TensorBoard(log_dir=config.tmp_log_dir)]\n",
    "\n",
    "if not data_augmentation:\n",
    "    print('Not using data augmentation.')\n",
    "#     history = ae.fit(x_train, epochs=epochs, validation_data=(x_test, None))\n",
    "    history = encoder_model.fit(\n",
    "        x_train,\n",
    "        y_train,\n",
    "        batch_size=batch_size,\n",
    "        epochs=epochs,\n",
    "        validation_data=(x_test, y_test),\n",
    "        callbacks=callbacks,\n",
    "        shuffle=True)\n",
    "else:\n",
    "    print('Using real-time data augmentation.')    \n",
    "    history = encoder_model.fit_generator(\n",
    "        datagen.flow(x_train, y_train, batch_size=batch_size),\n",
    "        epochs=epochs,\n",
    "        validation_data=(x_test, y_test),\n",
    "        callbacks=callbacks,\n",
    "        workers=4)"
   ]
  },
  {
   "cell_type": "code",
   "execution_count": 185,
   "metadata": {},
   "outputs": [
    {
     "data": {
      "text/plain": [
       "[<matplotlib.lines.Line2D at 0x12594fba8>]"
      ]
     },
     "execution_count": 185,
     "metadata": {},
     "output_type": "execute_result"
    },
    {
     "data": {
      "image/png": "[encoded data removed]",
      "text/plain": [
       "<matplotlib.figure.Figure at 0x12594f828>"
      ]
     },
     "metadata": {},
     "output_type": "display_data"
    }
   ],
   "source": [
    "plt.plot(history.history['loss'])\n",
    "plt.plot(history.history['val_loss'])"
   ]
  },
  {
   "cell_type": "code",
   "execution_count": 186,
   "metadata": {},
   "outputs": [
    {
     "data": {
      "text/plain": [
       "[<matplotlib.lines.Line2D at 0x11db010f0>]"
      ]
     },
     "execution_count": 186,
     "metadata": {},
     "output_type": "execute_result"
    },
    {
     "data": {
      "image/png": "[encoded data removed]",
      "text/plain": [
       "<matplotlib.figure.Figure at 0x12a5fe828>"
      ]
     },
     "metadata": {},
     "output_type": "display_data"
    }
   ],
   "source": [
    "plt.plot(history.history['acc'])\n",
    "plt.plot(history.history['val_acc'])"
   ]
  },
  {
   "cell_type": "code",
   "execution_count": 187,
   "metadata": {},
   "outputs": [
    {
     "data": {
      "text/plain": [
       "[<matplotlib.lines.Line2D at 0x12a71ae10>]"
      ]
     },
     "execution_count": 187,
     "metadata": {},
     "output_type": "execute_result"
    },
    {
     "data": {
      "image/png": "[encoded data removed]",
      "text/plain": [
       "<matplotlib.figure.Figure at 0x12a71acf8>"
      ]
     },
     "metadata": {},
     "output_type": "display_data"
    }
   ],
   "source": [
    "plt.plot(history.history['mean_absolute_error'])\n",
    "plt.plot(history.history['val_mean_absolute_error'])"
   ]
  },
  {
   "cell_type": "code",
   "execution_count": 188,
   "metadata": {},
   "outputs": [
    {
     "data": {
      "text/plain": [
       "0.20305669507618945"
      ]
     },
     "execution_count": 188,
     "metadata": {},
     "output_type": "execute_result"
    }
   ],
   "source": [
    "i = 1\n",
    "y_train[i]"
   ]
  },
  {
   "cell_type": "code",
   "execution_count": 189,
   "metadata": {},
   "outputs": [
    {
     "data": {
      "text/plain": [
       "array([0.22678709], dtype=float32)"
      ]
     },
     "execution_count": 189,
     "metadata": {},
     "output_type": "execute_result"
    }
   ],
   "source": [
    "encoder_model.predict(x_train[:10])[i]"
   ]
  },
  {
   "cell_type": "code",
   "execution_count": 190,
   "metadata": {},
   "outputs": [
    {
     "data": {
      "text/plain": [
       "array([0.        , 0.63992967])"
      ]
     },
     "execution_count": 190,
     "metadata": {},
     "output_type": "execute_result"
    }
   ],
   "source": [
    "i = y_train.argmin()\n",
    "y_train[i:i+2]"
   ]
  },
  {
   "cell_type": "code",
   "execution_count": 191,
   "metadata": {},
   "outputs": [
    {
     "data": {
      "text/plain": [
       "array([[0.08307985],\n",
       "       [0.6423924 ]], dtype=float32)"
      ]
     },
     "execution_count": 191,
     "metadata": {},
     "output_type": "execute_result"
    }
   ],
   "source": [
    "encoder_model.predict([x_train[i:i+2]])"
   ]
  },
  {
   "cell_type": "code",
   "execution_count": null,
   "metadata": {},
   "outputs": [],
   "source": []
  },
  {
   "cell_type": "code",
   "execution_count": null,
   "metadata": {},
   "outputs": [],
   "source": []
  },
  {
   "cell_type": "markdown",
   "metadata": {},
   "source": [
    "## Decoder\n",
    "mapping: f -> sin(f)"
   ]
  },
  {
   "cell_type": "code",
   "execution_count": 192,
   "metadata": {},
   "outputs": [],
   "source": [
    "from keras.utils.generic_utils import get_custom_objects"
   ]
  },
  {
   "cell_type": "code",
   "execution_count": 193,
   "metadata": {},
   "outputs": [],
   "source": [
    "# saw = Lambda(lambda x: x % 1) # No gradient defined for operation 'mod' (op type: FloorMod)\n",
    "def saw(x):\n",
    "     # No gradient defined for operation 'mod' (op type: FloorMod)\n",
    "    # return x % 1\n",
    "    \n",
    "#     return K.tf.where(x < 1, x, K.zeros_like(x))\n",
    "    return K.tf.where(x < 1, x, x - 1)\n",
    "\n",
    "def sawDescending(x):\n",
    "     # No gradient defined for operation 'mod' (op type: FloorMod)\n",
    "    # return x % 1\n",
    "#     return K.tf.where(x > 0, x, K.ones_like(x))\n",
    "    return K.tf.where(x > 0, x, x + 1)\n",
    "\n",
    "get_custom_objects().update({'saw': Activation(saw), 'sawDescending': Activation(sawDescending)})\n",
    "\n",
    "# make sure to import this function when loading this model in another module"
   ]
  },
  {
   "cell_type": "code",
   "execution_count": 194,
   "metadata": {},
   "outputs": [],
   "source": [
    "# # saw = Lambda(lambda x: x % 1) # No gradient defined for operation 'mod' (op type: FloorMod)\n",
    "# def saw(x):\n",
    "#      # No gradient defined for operation 'mod' (op type: FloorMod)\n",
    "#     # return x % 1\n",
    "#     return K.tf.where(x < 1, x, x - 1)\n",
    "\n",
    "# def sawDescending(x):\n",
    "#      # No gradient defined for operation 'mod' (op type: FloorMod)\n",
    "#     # return x % 1\n",
    "#     return K.tf.where(x < 0, K.ones_like(x), x)\n",
    "\n",
    "# get_custom_objects().update({'saw': Activation(saw), 'sawDescending': Activation(sawDescending)})\n",
    "\n",
    "# # make sure to import this function when loading this model in another module"
   ]
  },
  {
   "cell_type": "code",
   "execution_count": 213,
   "metadata": {},
   "outputs": [
    {
     "name": "stdout",
     "output_type": "stream",
     "text": [
      "_________________________________________________________________\n",
      "Layer (type)                 Output Shape              Param #   \n",
      "=================================================================\n",
      "input_17 (InputLayer)        (None, 1)                 0         \n",
      "_________________________________________________________________\n",
      "dense_63 (Dense)             (None, 2)                 4         \n",
      "_________________________________________________________________\n",
      "dense_64 (Dense)             (None, 2)                 6         \n",
      "_________________________________________________________________\n",
      "dense_65 (Dense)             (None, 256)               768       \n",
      "_________________________________________________________________\n",
      "reshape_25 (Reshape)         (None, 8, 32)             0         \n",
      "_________________________________________________________________\n",
      "simple_rnn_18 (SimpleRNN)    (None, 8, 2)              70        \n",
      "_________________________________________________________________\n",
      "flatten_8 (Flatten)          (None, 16)                0         \n",
      "_________________________________________________________________\n",
      "dense_66 (Dense)             (None, 40)                680       \n",
      "_________________________________________________________________\n",
      "activation_14 (Activation)   (None, 40)                0         \n",
      "_________________________________________________________________\n",
      "reshape_26 (Reshape)         (None, 40, 1, 1)          0         \n",
      "=================================================================\n",
      "Total params: 1,528\n",
      "Trainable params: 1,528\n",
      "Non-trainable params: 0\n",
      "_________________________________________________________________\n"
     ]
    }
   ],
   "source": [
    "decoder_input = Input(shape=(notes,))\n",
    "x = decoder_input\n",
    "\n",
    "unroll = False\n",
    "\n",
    "ratio = 0.1\n",
    "sub_t = int(timesteps * ratio)\n",
    "super_t = int(timesteps/ sub_t)\n",
    "\n",
    "# a = ELU(alpha=0.5)\n",
    "# ThresholdedReLU\n",
    "# PReLU\n",
    "# ELU\n",
    "# LeakyRelu\n",
    "\n",
    "# x1 = starting value\n",
    "# x2 :: [decay1, decay2, decay3]\n",
    "# end of sequence = decay3 * (decay2 * (decay1 * x1))\n",
    "# full sequence = [decay1 * x1, decay2(decay1 * x1), etc... ]\n",
    "\n",
    "# x1 might have abias of zero\n",
    "# TODO x1 ** 0.5\n",
    "# x2 might disregard its input\n",
    "# TODO check if x2 can have an offset bias\n",
    "\n",
    "# decay is non-linear?\n",
    "# decay = 1/f\n",
    "\n",
    "width = 2\n",
    "dims = notes * channels * width\n",
    "dim1, dim2 = timesteps, 16\n",
    "\n",
    "\n",
    "x1 = x\n",
    "x1 = Dense(dims, activation='relu')(x1) # phase (linear)\n",
    "x1 = RepeatVector(1)(x1)\n",
    "\n",
    "x2 = x\n",
    "x2 = Dense(dims, activation='relu')(x2) # e.g decay: 0.5 * decay, 0.5 * decay * decay\n",
    "x2 = Dense(dims, activation='relu')(x2)\n",
    "# x2 = RepeatVector(timesteps)(x2)\n",
    "x2 = Dense(dim1*dim2)(x2)\n",
    "x2 = Reshape([dim1, dim2])(x2)\n",
    "x = SimpleRNN(dims, activation='sawDescending', return_sequences=True, unroll=unroll)(x2)\n",
    "\n",
    "# # SimpleRNN returns 2 states, LSTM returns 3 states\n",
    "# _, state = SimpleRNN(dims, return_state=True)(x1)\n",
    "# rnn = SimpleRNN(dims, activation='sawDescending', return_sequences=True, unroll=unroll)\n",
    "# # rnn = SimpleRNN(notes, return_sequences=True)\n",
    "# # x = rnn(x2, initial_state=x1) # shape error\n",
    "# x = rnn(x2, initial_state=state)\n",
    "\n",
    "# Final layer(s)\n",
    "filters = 6\n",
    "kernel_size = (1,2) # (2,1)\n",
    "\n",
    "# Conv Transpose\n",
    "# x = Reshape((timesteps, notes, width))(x)\n",
    "# x = Conv2DTranspose(filters, kernel_size, strides=(1,1), activation='relu', padding='same')(x)\n",
    "# x = Conv2D(1, kernel_size, strides=(1,1), activation='sigmoid', padding='same')(x)\n",
    "\n",
    "# x = Conv1D(1, kernel_size=1, strides=1, activation='sigmoid', padding='same')(x)\n",
    "x = Flatten()(x)\n",
    "x = Dense(np.prod(input_shape), activation='relu')(x)\n",
    "x = Activation('sigmoid')(x)\n",
    "x = Reshape(input_shape)(x)\n",
    "\n",
    "decoder_output = x\n",
    "\n",
    "decoder_model = Model(decoder_input, decoder_output, name='decoder-')\n",
    "decoder_model.summary()"
   ]
  },
  {
   "cell_type": "code",
   "execution_count": 214,
   "metadata": {},
   "outputs": [
    {
     "name": "stdout",
     "output_type": "stream",
     "text": [
      "_________________________________________________________________\n",
      "Layer (type)                 Output Shape              Param #   \n",
      "=================================================================\n",
      "input_17 (InputLayer)        (None, 1)                 0         \n",
      "_________________________________________________________________\n",
      "decoder- (Model)             (None, 40, 1, 1)          1528      \n",
      "_________________________________________________________________\n",
      "encoder- (Model)             (None, 1)                 49        \n",
      "=================================================================\n",
      "Total params: 1,577\n",
      "Trainable params: 1,528\n",
      "Non-trainable params: 49\n",
      "_________________________________________________________________\n"
     ]
    }
   ],
   "source": [
    "ae = Model(decoder_input, encoder_model(decoder_model(decoder_input)))\n",
    "ae.summary()"
   ]
  },
  {
   "cell_type": "code",
   "execution_count": 215,
   "metadata": {},
   "outputs": [],
   "source": [
    "encoder_model.trainable = False"
   ]
  },
  {
   "cell_type": "code",
   "execution_count": 216,
   "metadata": {},
   "outputs": [],
   "source": [
    "loss = 'mse' # mse mae binary_crossentropy rmsprop adadelta hinge\n",
    "ae.compile(loss=loss, optimizer='rmsprop', metrics=['accuracy','mae','mse'])"
   ]
  },
  {
   "cell_type": "code",
   "execution_count": 217,
   "metadata": {},
   "outputs": [],
   "source": [
    "batch_size = 100\n",
    "epochs = 60"
   ]
  },
  {
   "cell_type": "code",
   "execution_count": 218,
   "metadata": {
    "scrolled": true
   },
   "outputs": [
    {
     "name": "stdout",
     "output_type": "stream",
     "text": [
      "Train on 899 samples, validate on 100 samples\n",
      "Epoch 1/60\n",
      "899/899 [==============================] - 2s 3ms/step - loss: 0.2858 - acc: 0.0000e+00 - mean_absolute_error: 0.4852 - mean_squared_error: 0.2858 - val_loss: 0.3079 - val_acc: 0.0000e+00 - val_mean_absolute_error: 0.5041 - val_mean_squared_error: 0.3079\n",
      "Epoch 2/60\n",
      "899/899 [==============================] - 0s 116us/step - loss: 0.2858 - acc: 0.0000e+00 - mean_absolute_error: 0.4852 - mean_squared_error: 0.2858 - val_loss: 0.3079 - val_acc: 0.0000e+00 - val_mean_absolute_error: 0.5041 - val_mean_squared_error: 0.3079\n",
      "Epoch 3/60\n",
      "899/899 [==============================] - 0s 82us/step - loss: 0.2858 - acc: 0.0000e+00 - mean_absolute_error: 0.4852 - mean_squared_error: 0.2858 - val_loss: 0.3079 - val_acc: 0.0000e+00 - val_mean_absolute_error: 0.5041 - val_mean_squared_error: 0.3079\n",
      "Epoch 4/60\n",
      "899/899 [==============================] - 0s 76us/step - loss: 0.2858 - acc: 0.0000e+00 - mean_absolute_error: 0.4852 - mean_squared_error: 0.2858 - val_loss: 0.3079 - val_acc: 0.0000e+00 - val_mean_absolute_error: 0.5041 - val_mean_squared_error: 0.3079\n",
      "Epoch 5/60\n",
      "899/899 [==============================] - 0s 64us/step - loss: 0.2858 - acc: 0.0000e+00 - mean_absolute_error: 0.4852 - mean_squared_error: 0.2858 - val_loss: 0.3079 - val_acc: 0.0000e+00 - val_mean_absolute_error: 0.5041 - val_mean_squared_error: 0.3079\n",
      "Epoch 6/60\n",
      "899/899 [==============================] - 0s 68us/step - loss: 0.2858 - acc: 0.0000e+00 - mean_absolute_error: 0.4852 - mean_squared_error: 0.2858 - val_loss: 0.3079 - val_acc: 0.0000e+00 - val_mean_absolute_error: 0.5041 - val_mean_squared_error: 0.3079\n",
      "Epoch 7/60\n",
      "899/899 [==============================] - 0s 74us/step - loss: 0.2858 - acc: 0.0000e+00 - mean_absolute_error: 0.4852 - mean_squared_error: 0.2858 - val_loss: 0.3079 - val_acc: 0.0000e+00 - val_mean_absolute_error: 0.5041 - val_mean_squared_error: 0.3079\n",
      "Epoch 8/60\n",
      "899/899 [==============================] - 0s 82us/step - loss: 0.2858 - acc: 0.0000e+00 - mean_absolute_error: 0.4852 - mean_squared_error: 0.2858 - val_loss: 0.3079 - val_acc: 0.0000e+00 - val_mean_absolute_error: 0.5041 - val_mean_squared_error: 0.3079\n",
      "Epoch 9/60\n",
      "899/899 [==============================] - 0s 79us/step - loss: 0.2858 - acc: 0.0000e+00 - mean_absolute_error: 0.4852 - mean_squared_error: 0.2858 - val_loss: 0.3079 - val_acc: 0.0000e+00 - val_mean_absolute_error: 0.5041 - val_mean_squared_error: 0.3079\n",
      "Epoch 10/60\n",
      "899/899 [==============================] - 0s 70us/step - loss: 0.2858 - acc: 0.0000e+00 - mean_absolute_error: 0.4852 - mean_squared_error: 0.2858 - val_loss: 0.3079 - val_acc: 0.0000e+00 - val_mean_absolute_error: 0.5041 - val_mean_squared_error: 0.3079\n",
      "Epoch 11/60\n",
      "899/899 [==============================] - 0s 70us/step - loss: 0.2858 - acc: 0.0000e+00 - mean_absolute_error: 0.4852 - mean_squared_error: 0.2858 - val_loss: 0.3079 - val_acc: 0.0000e+00 - val_mean_absolute_error: 0.5041 - val_mean_squared_error: 0.3079\n",
      "Epoch 12/60\n",
      "899/899 [==============================] - 0s 66us/step - loss: 0.2858 - acc: 0.0000e+00 - mean_absolute_error: 0.4852 - mean_squared_error: 0.2858 - val_loss: 0.3079 - val_acc: 0.0000e+00 - val_mean_absolute_error: 0.5041 - val_mean_squared_error: 0.3079\n",
      "Epoch 13/60\n",
      "899/899 [==============================] - 0s 70us/step - loss: 0.2858 - acc: 0.0000e+00 - mean_absolute_error: 0.4852 - mean_squared_error: 0.2858 - val_loss: 0.3079 - val_acc: 0.0000e+00 - val_mean_absolute_error: 0.5041 - val_mean_squared_error: 0.3079\n",
      "Epoch 14/60\n",
      "899/899 [==============================] - 0s 71us/step - loss: 0.2858 - acc: 0.0000e+00 - mean_absolute_error: 0.4852 - mean_squared_error: 0.2858 - val_loss: 0.3079 - val_acc: 0.0000e+00 - val_mean_absolute_error: 0.5041 - val_mean_squared_error: 0.3079\n",
      "Epoch 15/60\n",
      "899/899 [==============================] - 0s 69us/step - loss: 0.2858 - acc: 0.0000e+00 - mean_absolute_error: 0.4852 - mean_squared_error: 0.2858 - val_loss: 0.3079 - val_acc: 0.0000e+00 - val_mean_absolute_error: 0.5041 - val_mean_squared_error: 0.3079\n",
      "Epoch 16/60\n",
      "899/899 [==============================] - 0s 72us/step - loss: 0.2858 - acc: 0.0000e+00 - mean_absolute_error: 0.4852 - mean_squared_error: 0.2858 - val_loss: 0.3079 - val_acc: 0.0000e+00 - val_mean_absolute_error: 0.5041 - val_mean_squared_error: 0.3079\n",
      "Epoch 17/60\n",
      "899/899 [==============================] - 0s 75us/step - loss: 0.2858 - acc: 0.0000e+00 - mean_absolute_error: 0.4852 - mean_squared_error: 0.2858 - val_loss: 0.3079 - val_acc: 0.0000e+00 - val_mean_absolute_error: 0.5041 - val_mean_squared_error: 0.3079\n",
      "Epoch 18/60\n",
      "899/899 [==============================] - 0s 71us/step - loss: 0.2858 - acc: 0.0000e+00 - mean_absolute_error: 0.4852 - mean_squared_error: 0.2858 - val_loss: 0.3079 - val_acc: 0.0000e+00 - val_mean_absolute_error: 0.5041 - val_mean_squared_error: 0.3079\n",
      "Epoch 19/60\n",
      "899/899 [==============================] - 0s 87us/step - loss: 0.2858 - acc: 0.0000e+00 - mean_absolute_error: 0.4852 - mean_squared_error: 0.2858 - val_loss: 0.3079 - val_acc: 0.0000e+00 - val_mean_absolute_error: 0.5041 - val_mean_squared_error: 0.3079\n",
      "Epoch 20/60\n",
      "899/899 [==============================] - 0s 92us/step - loss: 0.2858 - acc: 0.0000e+00 - mean_absolute_error: 0.4852 - mean_squared_error: 0.2858 - val_loss: 0.3079 - val_acc: 0.0000e+00 - val_mean_absolute_error: 0.5041 - val_mean_squared_error: 0.3079\n",
      "Epoch 21/60\n",
      "899/899 [==============================] - 0s 103us/step - loss: 0.2858 - acc: 0.0000e+00 - mean_absolute_error: 0.4852 - mean_squared_error: 0.2858 - val_loss: 0.3079 - val_acc: 0.0000e+00 - val_mean_absolute_error: 0.5041 - val_mean_squared_error: 0.3079\n",
      "Epoch 22/60\n",
      "899/899 [==============================] - 0s 77us/step - loss: 0.2858 - acc: 0.0000e+00 - mean_absolute_error: 0.4852 - mean_squared_error: 0.2858 - val_loss: 0.3079 - val_acc: 0.0000e+00 - val_mean_absolute_error: 0.5041 - val_mean_squared_error: 0.3079\n",
      "Epoch 23/60\n",
      "899/899 [==============================] - 0s 75us/step - loss: 0.2858 - acc: 0.0000e+00 - mean_absolute_error: 0.4852 - mean_squared_error: 0.2858 - val_loss: 0.3079 - val_acc: 0.0000e+00 - val_mean_absolute_error: 0.5041 - val_mean_squared_error: 0.3079\n",
      "Epoch 24/60\n",
      "899/899 [==============================] - 0s 88us/step - loss: 0.2858 - acc: 0.0000e+00 - mean_absolute_error: 0.4852 - mean_squared_error: 0.2858 - val_loss: 0.3079 - val_acc: 0.0000e+00 - val_mean_absolute_error: 0.5041 - val_mean_squared_error: 0.3079\n",
      "Epoch 25/60\n",
      "899/899 [==============================] - 0s 89us/step - loss: 0.2858 - acc: 0.0000e+00 - mean_absolute_error: 0.4852 - mean_squared_error: 0.2858 - val_loss: 0.3079 - val_acc: 0.0000e+00 - val_mean_absolute_error: 0.5041 - val_mean_squared_error: 0.3079\n",
      "Epoch 26/60\n",
      "899/899 [==============================] - 0s 77us/step - loss: 0.2858 - acc: 0.0000e+00 - mean_absolute_error: 0.4852 - mean_squared_error: 0.2858 - val_loss: 0.3079 - val_acc: 0.0000e+00 - val_mean_absolute_error: 0.5041 - val_mean_squared_error: 0.3079\n",
      "Epoch 27/60\n",
      "899/899 [==============================] - 0s 89us/step - loss: 0.2858 - acc: 0.0000e+00 - mean_absolute_error: 0.4852 - mean_squared_error: 0.2858 - val_loss: 0.3079 - val_acc: 0.0000e+00 - val_mean_absolute_error: 0.5041 - val_mean_squared_error: 0.3079\n",
      "Epoch 28/60\n",
      "899/899 [==============================] - 0s 85us/step - loss: 0.2858 - acc: 0.0000e+00 - mean_absolute_error: 0.4852 - mean_squared_error: 0.2858 - val_loss: 0.3079 - val_acc: 0.0000e+00 - val_mean_absolute_error: 0.5041 - val_mean_squared_error: 0.3079\n",
      "Epoch 29/60\n",
      "899/899 [==============================] - 0s 79us/step - loss: 0.2858 - acc: 0.0000e+00 - mean_absolute_error: 0.4852 - mean_squared_error: 0.2858 - val_loss: 0.3079 - val_acc: 0.0000e+00 - val_mean_absolute_error: 0.5041 - val_mean_squared_error: 0.3079\n",
      "Epoch 30/60\n",
      "899/899 [==============================] - 0s 85us/step - loss: 0.2858 - acc: 0.0000e+00 - mean_absolute_error: 0.4852 - mean_squared_error: 0.2858 - val_loss: 0.3079 - val_acc: 0.0000e+00 - val_mean_absolute_error: 0.5041 - val_mean_squared_error: 0.3079\n",
      "Epoch 31/60\n"
     ]
    },
    {
     "name": "stdout",
     "output_type": "stream",
     "text": [
      "899/899 [==============================] - 0s 76us/step - loss: 0.2858 - acc: 0.0000e+00 - mean_absolute_error: 0.4852 - mean_squared_error: 0.2858 - val_loss: 0.3079 - val_acc: 0.0000e+00 - val_mean_absolute_error: 0.5041 - val_mean_squared_error: 0.3079\n",
      "Epoch 32/60\n",
      "899/899 [==============================] - 0s 90us/step - loss: 0.2858 - acc: 0.0000e+00 - mean_absolute_error: 0.4852 - mean_squared_error: 0.2858 - val_loss: 0.3079 - val_acc: 0.0000e+00 - val_mean_absolute_error: 0.5041 - val_mean_squared_error: 0.3079\n",
      "Epoch 33/60\n",
      "899/899 [==============================] - 0s 79us/step - loss: 0.2858 - acc: 0.0000e+00 - mean_absolute_error: 0.4852 - mean_squared_error: 0.2858 - val_loss: 0.3079 - val_acc: 0.0000e+00 - val_mean_absolute_error: 0.5041 - val_mean_squared_error: 0.3079\n",
      "Epoch 34/60\n",
      "899/899 [==============================] - 0s 81us/step - loss: 0.2858 - acc: 0.0000e+00 - mean_absolute_error: 0.4852 - mean_squared_error: 0.2858 - val_loss: 0.3079 - val_acc: 0.0000e+00 - val_mean_absolute_error: 0.5041 - val_mean_squared_error: 0.3079\n",
      "Epoch 35/60\n",
      "899/899 [==============================] - 0s 73us/step - loss: 0.2858 - acc: 0.0000e+00 - mean_absolute_error: 0.4852 - mean_squared_error: 0.2858 - val_loss: 0.3079 - val_acc: 0.0000e+00 - val_mean_absolute_error: 0.5041 - val_mean_squared_error: 0.3079\n",
      "Epoch 36/60\n",
      "899/899 [==============================] - 0s 71us/step - loss: 0.2858 - acc: 0.0000e+00 - mean_absolute_error: 0.4852 - mean_squared_error: 0.2858 - val_loss: 0.3079 - val_acc: 0.0000e+00 - val_mean_absolute_error: 0.5041 - val_mean_squared_error: 0.3079\n",
      "Epoch 37/60\n",
      "899/899 [==============================] - 0s 81us/step - loss: 0.2858 - acc: 0.0000e+00 - mean_absolute_error: 0.4852 - mean_squared_error: 0.2858 - val_loss: 0.3079 - val_acc: 0.0000e+00 - val_mean_absolute_error: 0.5041 - val_mean_squared_error: 0.3079\n",
      "Epoch 38/60\n",
      "899/899 [==============================] - 0s 95us/step - loss: 0.2858 - acc: 0.0000e+00 - mean_absolute_error: 0.4852 - mean_squared_error: 0.2858 - val_loss: 0.3079 - val_acc: 0.0000e+00 - val_mean_absolute_error: 0.5041 - val_mean_squared_error: 0.3079\n",
      "Epoch 39/60\n",
      "899/899 [==============================] - 0s 83us/step - loss: 0.2858 - acc: 0.0000e+00 - mean_absolute_error: 0.4852 - mean_squared_error: 0.2858 - val_loss: 0.3079 - val_acc: 0.0000e+00 - val_mean_absolute_error: 0.5041 - val_mean_squared_error: 0.3079\n",
      "Epoch 40/60\n",
      "899/899 [==============================] - 0s 90us/step - loss: 0.2858 - acc: 0.0000e+00 - mean_absolute_error: 0.4852 - mean_squared_error: 0.2858 - val_loss: 0.3079 - val_acc: 0.0000e+00 - val_mean_absolute_error: 0.5041 - val_mean_squared_error: 0.3079\n",
      "Epoch 41/60\n",
      "899/899 [==============================] - 0s 75us/step - loss: 0.2858 - acc: 0.0000e+00 - mean_absolute_error: 0.4852 - mean_squared_error: 0.2858 - val_loss: 0.3079 - val_acc: 0.0000e+00 - val_mean_absolute_error: 0.5041 - val_mean_squared_error: 0.3079\n",
      "Epoch 42/60\n",
      "899/899 [==============================] - 0s 69us/step - loss: 0.2858 - acc: 0.0000e+00 - mean_absolute_error: 0.4852 - mean_squared_error: 0.2858 - val_loss: 0.3079 - val_acc: 0.0000e+00 - val_mean_absolute_error: 0.5041 - val_mean_squared_error: 0.3079\n",
      "Epoch 43/60\n",
      "899/899 [==============================] - 0s 75us/step - loss: 0.2858 - acc: 0.0000e+00 - mean_absolute_error: 0.4852 - mean_squared_error: 0.2858 - val_loss: 0.3079 - val_acc: 0.0000e+00 - val_mean_absolute_error: 0.5041 - val_mean_squared_error: 0.3079\n",
      "Epoch 44/60\n",
      "899/899 [==============================] - 0s 73us/step - loss: 0.2858 - acc: 0.0000e+00 - mean_absolute_error: 0.4852 - mean_squared_error: 0.2858 - val_loss: 0.3079 - val_acc: 0.0000e+00 - val_mean_absolute_error: 0.5041 - val_mean_squared_error: 0.3079\n",
      "Epoch 45/60\n",
      "899/899 [==============================] - 0s 76us/step - loss: 0.2858 - acc: 0.0000e+00 - mean_absolute_error: 0.4852 - mean_squared_error: 0.2858 - val_loss: 0.3079 - val_acc: 0.0000e+00 - val_mean_absolute_error: 0.5041 - val_mean_squared_error: 0.3079\n",
      "Epoch 46/60\n",
      "899/899 [==============================] - 0s 73us/step - loss: 0.2858 - acc: 0.0000e+00 - mean_absolute_error: 0.4852 - mean_squared_error: 0.2858 - val_loss: 0.3079 - val_acc: 0.0000e+00 - val_mean_absolute_error: 0.5041 - val_mean_squared_error: 0.3079\n",
      "Epoch 47/60\n",
      "899/899 [==============================] - 0s 77us/step - loss: 0.2858 - acc: 0.0000e+00 - mean_absolute_error: 0.4852 - mean_squared_error: 0.2858 - val_loss: 0.3079 - val_acc: 0.0000e+00 - val_mean_absolute_error: 0.5041 - val_mean_squared_error: 0.3079\n",
      "Epoch 48/60\n",
      "899/899 [==============================] - 0s 112us/step - loss: 0.2858 - acc: 0.0000e+00 - mean_absolute_error: 0.4852 - mean_squared_error: 0.2858 - val_loss: 0.3079 - val_acc: 0.0000e+00 - val_mean_absolute_error: 0.5041 - val_mean_squared_error: 0.3079\n",
      "Epoch 49/60\n",
      "899/899 [==============================] - 0s 97us/step - loss: 0.2858 - acc: 0.0000e+00 - mean_absolute_error: 0.4852 - mean_squared_error: 0.2858 - val_loss: 0.3079 - val_acc: 0.0000e+00 - val_mean_absolute_error: 0.5041 - val_mean_squared_error: 0.3079\n",
      "Epoch 50/60\n",
      "899/899 [==============================] - 0s 89us/step - loss: 0.2858 - acc: 0.0000e+00 - mean_absolute_error: 0.4852 - mean_squared_error: 0.2858 - val_loss: 0.3079 - val_acc: 0.0000e+00 - val_mean_absolute_error: 0.5041 - val_mean_squared_error: 0.3079\n",
      "Epoch 51/60\n",
      "899/899 [==============================] - 0s 99us/step - loss: 0.2858 - acc: 0.0000e+00 - mean_absolute_error: 0.4852 - mean_squared_error: 0.2858 - val_loss: 0.3079 - val_acc: 0.0000e+00 - val_mean_absolute_error: 0.5041 - val_mean_squared_error: 0.3079\n",
      "Epoch 52/60\n",
      "899/899 [==============================] - 0s 93us/step - loss: 0.2858 - acc: 0.0000e+00 - mean_absolute_error: 0.4852 - mean_squared_error: 0.2858 - val_loss: 0.3079 - val_acc: 0.0000e+00 - val_mean_absolute_error: 0.5041 - val_mean_squared_error: 0.3079\n",
      "Epoch 53/60\n",
      "899/899 [==============================] - 0s 130us/step - loss: 0.2858 - acc: 0.0000e+00 - mean_absolute_error: 0.4852 - mean_squared_error: 0.2858 - val_loss: 0.3079 - val_acc: 0.0000e+00 - val_mean_absolute_error: 0.5041 - val_mean_squared_error: 0.3079\n",
      "Epoch 54/60\n",
      "899/899 [==============================] - 0s 100us/step - loss: 0.2858 - acc: 0.0000e+00 - mean_absolute_error: 0.4852 - mean_squared_error: 0.2858 - val_loss: 0.3079 - val_acc: 0.0000e+00 - val_mean_absolute_error: 0.5041 - val_mean_squared_error: 0.3079\n",
      "Epoch 55/60\n",
      "899/899 [==============================] - 0s 98us/step - loss: 0.2858 - acc: 0.0000e+00 - mean_absolute_error: 0.4852 - mean_squared_error: 0.2858 - val_loss: 0.3079 - val_acc: 0.0000e+00 - val_mean_absolute_error: 0.5041 - val_mean_squared_error: 0.3079\n",
      "Epoch 56/60\n",
      "899/899 [==============================] - 0s 86us/step - loss: 0.2858 - acc: 0.0000e+00 - mean_absolute_error: 0.4852 - mean_squared_error: 0.2858 - val_loss: 0.3079 - val_acc: 0.0000e+00 - val_mean_absolute_error: 0.5041 - val_mean_squared_error: 0.3079\n",
      "Epoch 57/60\n",
      "899/899 [==============================] - 0s 81us/step - loss: 0.2858 - acc: 0.0000e+00 - mean_absolute_error: 0.4852 - mean_squared_error: 0.2858 - val_loss: 0.3079 - val_acc: 0.0000e+00 - val_mean_absolute_error: 0.5041 - val_mean_squared_error: 0.3079\n",
      "Epoch 58/60\n",
      "899/899 [==============================] - 0s 83us/step - loss: 0.2858 - acc: 0.0000e+00 - mean_absolute_error: 0.4852 - mean_squared_error: 0.2858 - val_loss: 0.3079 - val_acc: 0.0000e+00 - val_mean_absolute_error: 0.5041 - val_mean_squared_error: 0.3079\n",
      "Epoch 59/60\n",
      "899/899 [==============================] - 0s 83us/step - loss: 0.2858 - acc: 0.0000e+00 - mean_absolute_error: 0.4852 - mean_squared_error: 0.2858 - val_loss: 0.3079 - val_acc: 0.0000e+00 - val_mean_absolute_error: 0.5041 - val_mean_squared_error: 0.3079\n",
      "Epoch 60/60\n",
      "899/899 [==============================] - 0s 87us/step - loss: 0.2858 - acc: 0.0000e+00 - mean_absolute_error: 0.4852 - mean_squared_error: 0.2858 - val_loss: 0.3079 - val_acc: 0.0000e+00 - val_mean_absolute_error: 0.5041 - val_mean_squared_error: 0.3079\n"
     ]
    }
   ],
   "source": [
    "j = -1\n",
    "history = ae.fit(y_train[:j], y_train[:j], \n",
    "    epochs=epochs, batch_size=batch_size, \n",
    "    validation_data=(y_test, y_test))"
   ]
  },
  {
   "cell_type": "code",
   "execution_count": 219,
   "metadata": {
    "scrolled": true
   },
   "outputs": [],
   "source": [
    "# y_train[:j]"
   ]
  },
  {
   "cell_type": "code",
   "execution_count": 220,
   "metadata": {},
   "outputs": [
    {
     "data": {
      "text/plain": [
       "[<matplotlib.lines.Line2D at 0x12cb1c518>]"
      ]
     },
     "execution_count": 220,
     "metadata": {},
     "output_type": "execute_result"
    },
    {
     "data": {
      "image/png": "[encoded data removed]",
      "text/plain": [
       "<matplotlib.figure.Figure at 0x12cb1cdd8>"
      ]
     },
     "metadata": {},
     "output_type": "display_data"
    }
   ],
   "source": [
    "plt.plot(history.history['loss'])\n",
    "plt.plot(history.history['val_loss'])"
   ]
  },
  {
   "cell_type": "code",
   "execution_count": 221,
   "metadata": {},
   "outputs": [
    {
     "data": {
      "text/plain": [
       "[<matplotlib.lines.Line2D at 0x12ca8e940>]"
      ]
     },
     "execution_count": 221,
     "metadata": {},
     "output_type": "execute_result"
    },
    {
     "data": {
      "image/png": "[encoded data removed]",
      "text/plain": [
       "<matplotlib.figure.Figure at 0x12ca8e748>"
      ]
     },
     "metadata": {},
     "output_type": "display_data"
    }
   ],
   "source": [
    "plt.plot(history.history['acc'])\n",
    "plt.plot(history.history['val_acc'])"
   ]
  },
  {
   "cell_type": "code",
   "execution_count": 222,
   "metadata": {},
   "outputs": [
    {
     "data": {
      "text/plain": [
       "[<matplotlib.lines.Line2D at 0x12c6b09b0>]"
      ]
     },
     "execution_count": 222,
     "metadata": {},
     "output_type": "execute_result"
    },
    {
     "data": {
      "image/png": "[encoded data removed]",
      "text/plain": [
       "<matplotlib.figure.Figure at 0x12c7b8cf8>"
      ]
     },
     "metadata": {},
     "output_type": "display_data"
    }
   ],
   "source": [
    "plt.plot(history.history['mean_absolute_error'])\n",
    "plt.plot(history.history['val_mean_absolute_error'])"
   ]
  },
  {
   "cell_type": "code",
   "execution_count": 223,
   "metadata": {},
   "outputs": [
    {
     "data": {
      "text/plain": [
       "array([0.0975229 , 0.2030567 , 0.66029896, 0.73499663, 0.79234716,\n",
       "       0.50312202, 0.57496451, 0.59133544, 0.64157082, 0.77727858])"
      ]
     },
     "execution_count": 223,
     "metadata": {},
     "output_type": "execute_result"
    }
   ],
   "source": [
    "y_train[:10]"
   ]
  },
  {
   "cell_type": "code",
   "execution_count": 224,
   "metadata": {},
   "outputs": [
    {
     "data": {
      "text/plain": [
       "array([[0.88848144],\n",
       "       [0.88848144],\n",
       "       [0.88848144],\n",
       "       [0.88848144]], dtype=float32)"
      ]
     },
     "execution_count": 224,
     "metadata": {},
     "output_type": "execute_result"
    }
   ],
   "source": [
    "f = [0.1, 0.429, 0.856, 1.4]\n",
    "y = ae.predict(f)\n",
    "y"
   ]
  },
  {
   "cell_type": "code",
   "execution_count": 225,
   "metadata": {},
   "outputs": [
    {
     "data": {
      "text/plain": [
       "0.7998534611385836"
      ]
     },
     "execution_count": 225,
     "metadata": {},
     "output_type": "execute_result"
    }
   ],
   "source": [
    "y_train[y_train.argmax()]"
   ]
  },
  {
   "cell_type": "code",
   "execution_count": 226,
   "metadata": {},
   "outputs": [
    {
     "data": {
      "text/plain": [
       "0.0"
      ]
     },
     "execution_count": 226,
     "metadata": {},
     "output_type": "execute_result"
    }
   ],
   "source": [
    "y_train[y_train.argmin()]"
   ]
  },
  {
   "cell_type": "code",
   "execution_count": 227,
   "metadata": {},
   "outputs": [
    {
     "name": "stdout",
     "output_type": "stream",
     "text": [
      "m (40, 1)\n"
     ]
    },
    {
     "data": {
      "image/png": "[encoded data removed]",
      "text/plain": [
       "<matplotlib.figure.Figure at 0x12c5b1c18>"
      ]
     },
     "metadata": {},
     "output_type": "display_data"
    },
    {
     "name": "stdout",
     "output_type": "stream",
     "text": [
      "m (40, 1)\n"
     ]
    },
    {
     "data": {
      "image/png": "[encoded data removed]",
      "text/plain": [
       "<matplotlib.figure.Figure at 0x12c574630>"
      ]
     },
     "metadata": {},
     "output_type": "display_data"
    },
    {
     "data": {
      "text/plain": [
       "array([0.0975229, 0.2030567])"
      ]
     },
     "execution_count": 227,
     "metadata": {},
     "output_type": "execute_result"
    }
   ],
   "source": [
    "f = y_train[:10]\n",
    "y = decoder_model.predict(f)\n",
    "plot.single(x_train[0,:50,0])\n",
    "plot.single(y[0,:50,0])\n",
    "# plot.single(x_train[1,:50,0])\n",
    "f[:2]"
   ]
  },
  {
   "cell_type": "code",
   "execution_count": 228,
   "metadata": {},
   "outputs": [
    {
     "name": "stdout",
     "output_type": "stream",
     "text": [
      "m (40, 1)\n"
     ]
    },
    {
     "data": {
      "image/png": "[encoded data removed]",
      "text/plain": [
       "<matplotlib.figure.Figure at 0x12cc1e780>"
      ]
     },
     "metadata": {},
     "output_type": "display_data"
    },
    {
     "name": "stdout",
     "output_type": "stream",
     "text": [
      "m (40, 1)\n"
     ]
    },
    {
     "data": {
      "image/png": "[encoded data removed]",
      "text/plain": [
       "<matplotlib.figure.Figure at 0x12c5d2b00>"
      ]
     },
     "metadata": {},
     "output_type": "display_data"
    },
    {
     "name": "stdout",
     "output_type": "stream",
     "text": [
      "m (40, 1)\n"
     ]
    },
    {
     "data": {
      "image/png": "[encoded data removed]",
      "text/plain": [
       "<matplotlib.figure.Figure at 0x12cb72518>"
      ]
     },
     "metadata": {},
     "output_type": "display_data"
    },
    {
     "name": "stdout",
     "output_type": "stream",
     "text": [
      "m (40, 1)\n"
     ]
    },
    {
     "data": {
      "image/png": "[encoded data removed]",
      "text/plain": [
       "<matplotlib.figure.Figure at 0x12c57e7b8>"
      ]
     },
     "metadata": {},
     "output_type": "display_data"
    }
   ],
   "source": [
    "f = [0, 0.3, 0.6, 1.2]\n",
    "y = decoder_model.predict(f)\n",
    "plot.single(y[0,:50,0])\n",
    "plot.single(y[1,:50,0])\n",
    "plot.single(y[2,:50,0])\n",
    "plot.single(y[3,:50,0])"
   ]
  },
  {
   "cell_type": "code",
   "execution_count": null,
   "metadata": {},
   "outputs": [],
   "source": []
  },
  {
   "cell_type": "code",
   "execution_count": null,
   "metadata": {},
   "outputs": [],
   "source": []
  },
  {
   "cell_type": "code",
   "execution_count": 229,
   "metadata": {},
   "outputs": [
    {
     "name": "stdout",
     "output_type": "stream",
     "text": [
      "m (40, 1)\n"
     ]
    },
    {
     "data": {
      "image/png": "[encoded data removed]",
      "text/plain": [
       "<matplotlib.figure.Figure at 0x12cc2ae10>"
      ]
     },
     "metadata": {},
     "output_type": "display_data"
    },
    {
     "name": "stdout",
     "output_type": "stream",
     "text": [
      "m (40, 1)\n"
     ]
    },
    {
     "data": {
      "image/png": "[encoded data removed]",
      "text/plain": [
       "<matplotlib.figure.Figure at 0x12c9f0dd8>"
      ]
     },
     "metadata": {},
     "output_type": "display_data"
    },
    {
     "name": "stdout",
     "output_type": "stream",
     "text": [
      "m (40, 1)\n"
     ]
    },
    {
     "data": {
      "image/png": "[encoded data removed]",
      "text/plain": [
       "<matplotlib.figure.Figure at 0x12cc108d0>"
      ]
     },
     "metadata": {},
     "output_type": "display_data"
    },
    {
     "name": "stdout",
     "output_type": "stream",
     "text": [
      "m (40, 1)\n"
     ]
    },
    {
     "data": {
      "image/png": "[encoded data removed]",
      "text/plain": [
       "<matplotlib.figure.Figure at 0x12c8edb70>"
      ]
     },
     "metadata": {},
     "output_type": "display_data"
    }
   ],
   "source": [
    "# goal examples\n",
    "plot.single(x_train[0,:50,0])\n",
    "plot.single(x_train[1,:50,0])\n",
    "plot.single(x_train[2,:50,0])\n",
    "plot.single(x_train[3,:50,0])"
   ]
  },
  {
   "cell_type": "code",
   "execution_count": 230,
   "metadata": {},
   "outputs": [
    {
     "data": {
      "text/plain": [
       "array([0.0975229 , 0.2030567 , 0.66029896, 0.73499663, 0.79234716])"
      ]
     },
     "execution_count": 230,
     "metadata": {},
     "output_type": "execute_result"
    }
   ],
   "source": [
    "y_train[:5]"
   ]
  },
  {
   "cell_type": "code",
   "execution_count": null,
   "metadata": {},
   "outputs": [],
   "source": []
  },
  {
   "cell_type": "code",
   "execution_count": null,
   "metadata": {},
   "outputs": [],
   "source": []
  },
  {
   "cell_type": "code",
   "execution_count": null,
   "metadata": {},
   "outputs": [],
   "source": []
  },
  {
   "cell_type": "code",
   "execution_count": null,
   "metadata": {},
   "outputs": [],
   "source": []
  },
  {
   "cell_type": "code",
   "execution_count": null,
   "metadata": {},
   "outputs": [],
   "source": []
  },
  {
   "cell_type": "code",
   "execution_count": null,
   "metadata": {},
   "outputs": [],
   "source": []
  },
  {
   "cell_type": "code",
   "execution_count": null,
   "metadata": {},
   "outputs": [],
   "source": []
  }
 ],
 "metadata": {
  "kernelspec": {
   "display_name": "Python 3",
   "language": "python",
   "name": "python3"
  },
  "language_info": {
   "codemirror_mode": {
    "name": "ipython",
    "version": 3
   },
   "file_extension": ".py",
   "mimetype": "text/x-python",
   "name": "python",
   "nbconvert_exporter": "python",
   "pygments_lexer": "ipython3",
   "version": "3.6.4"
  }
 },
 "nbformat": 4,
 "nbformat_minor": 2
}
