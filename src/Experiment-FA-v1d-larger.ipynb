{
 "cells": [
  {
   "cell_type": "markdown",
   "metadata": {},
   "source": [
    "## Frequency Analysis\n",
    "\n",
    "Generating a complex pattern (distribution) from a single value can be done with dense layers, conv layer and recurrent layers. Autoencoders and Variational Autoencoders can easily be trained to decode a small latent-space vector into a complex image or waveform.\n",
    "\n",
    "This document investigates what kinds of networks are best suited to extract the required information needed to re-generate an input waveform.\n",
    "\n",
    "Ideally, we want a network that performs a component analysis of an input sample, and outputs the frequencies of the sinewaves that it consists of."
   ]
  },
  {
   "cell_type": "code",
   "execution_count": 1,
   "metadata": {},
   "outputs": [
    {
     "name": "stderr",
     "output_type": "stream",
     "text": [
      "/Library/Frameworks/Python.framework/Versions/3.6/lib/python3.6/site-packages/h5py/__init__.py:36: FutureWarning: Conversion of the second argument of issubdtype from `float` to `np.floating` is deprecated. In future, it will be treated as `np.float64 == np.dtype(float).type`.\n",
      "  from ._conv import register_converters as _register_converters\n",
      "Using TensorFlow backend.\n"
     ]
    }
   ],
   "source": [
    "from __future__ import division\n",
    "\n",
    "import keras\n",
    "from keras import backend as K\n",
    "from keras.layers import Layer\n",
    "from keras import activations\n",
    "from keras import utils\n",
    "from keras.datasets import cifar10\n",
    "from keras.models import Model\n",
    "from keras.layers import *\n",
    "from keras.preprocessing.image import ImageDataGenerator\n",
    "from keras.callbacks import TensorBoard"
   ]
  },
  {
   "cell_type": "code",
   "execution_count": 2,
   "metadata": {},
   "outputs": [],
   "source": [
    "import config\n",
    "import os, numpy as np, pandas, sklearn, scipy.signal as signal\n",
    "import mido\n",
    "import matplotlib.pyplot as plt\n",
    "%matplotlib inline\n",
    "# local libs\n",
    "import config, models, setup\n",
    "import midi\n",
    "from midi import generators as g\n",
    "from utils import io, models_io, utils, plot\n",
    "from capsule.layers import Capsule, Length\n",
    "from capsule.capsulefunctions import squash, softmax, margin_loss"
   ]
  },
  {
   "cell_type": "code",
   "execution_count": 3,
   "metadata": {},
   "outputs": [
    {
     "name": "stdout",
     "output_type": "stream",
     "text": [
      " Context :: namedtuple(\n",
      "[ max_t = float\n",
      ", dt = float\n",
      ", n_timestesp = int\n",
      ", note_length = int\n",
      ", bpm = float\n",
      ", tempo = float\n",
      ", ticks_per_beat = int\n",
      "]\n",
      "\n",
      "Setting up params\n",
      "\n",
      "max min f 10.0 0.5\n",
      " >> Context(max_t=2.0, dt=0.05, n_timesteps=40, note_length=0.03, bpm=120.0, tempo=500000, ticks_per_beat=480)\n",
      " sample length:  40.000000\n",
      " max_f: 10.000000, min_f: 0.500000\n"
     ]
    }
   ],
   "source": [
    "context = setup.init()"
   ]
  },
  {
   "cell_type": "code",
   "execution_count": 4,
   "metadata": {},
   "outputs": [
    {
     "name": "stdout",
     "output_type": "stream",
     "text": [
      "\n",
      "Importing midi-data\n",
      "\n",
      "Encoding midi-data\n",
      " 10\n",
      "> -> multi-track = True global\n",
      "\u001b[92m [INFO] : \u001b[0m\n",
      " |  True\n",
      "\u001b[92m [INFO] : \u001b[0m\n",
      " |  reduced mt list dims:\n",
      " |  (10, 40, 13)\n"
     ]
    }
   ],
   "source": [
    "n = 10 * 1\n",
    "dim4 = True\n",
    "multiTrack = True\n",
    "x_train, labels = setup.import_data(context, n, dim4=dim4, multiTrack=multiTrack)"
   ]
  },
  {
   "cell_type": "code",
   "execution_count": 5,
   "metadata": {
    "scrolled": true
   },
   "outputs": [
    {
     "name": "stdout",
     "output_type": "stream",
     "text": [
      "\u001b[92m [INFO] : \u001b[0m\n",
      " |  True\n",
      "\u001b[92m [INFO] : \u001b[0m\n",
      " |  reduced mt list dims:\n",
      " |  (1000, 40, 1)\n"
     ]
    }
   ],
   "source": [
    "n = 1000\n",
    "min_f = 0\n",
    "max_f = 4\n",
    "x_train, params = g.gen_data_complex(context, n, max_f=max_f, min_f=min_f,\n",
    "    n_polyrythms=1,\n",
    "    n_channels=1,\n",
    "    d_phase=False,\n",
    "    dim4=dim4,\n",
    "    multiTrack=multiTrack)"
   ]
  },
  {
   "cell_type": "code",
   "execution_count": 6,
   "metadata": {},
   "outputs": [
    {
     "data": {
      "text/plain": [
       "(1000, 1, 1)"
      ]
     },
     "execution_count": 6,
     "metadata": {},
     "output_type": "execute_result"
    }
   ],
   "source": [
    "params.shape # n, n_channels, n_polyrythms"
   ]
  },
  {
   "cell_type": "code",
   "execution_count": 7,
   "metadata": {},
   "outputs": [
    {
     "data": {
      "text/plain": [
       "(1000, 40, 1, 1)"
      ]
     },
     "execution_count": 7,
     "metadata": {},
     "output_type": "execute_result"
    }
   ],
   "source": [
    "x_train.shape"
   ]
  },
  {
   "cell_type": "code",
   "execution_count": 8,
   "metadata": {},
   "outputs": [],
   "source": [
    "# train test split\n",
    "m = int(x_train.shape[0] * 0.9)"
   ]
  },
  {
   "cell_type": "code",
   "execution_count": 9,
   "metadata": {},
   "outputs": [
    {
     "data": {
      "text/plain": [
       "(array([1., 1., 1., 1., 0., 2., 0., 2., 1., 1.]),\n",
       " array([0.73687502, 1.04142369, 1.34597236, 1.65052102, 1.95506969,\n",
       "        2.25961836, 2.56416702, 2.86871569, 3.17326436, 3.47781302,\n",
       "        3.78236169]),\n",
       " <a list of 10 Patch objects>)"
      ]
     },
     "execution_count": 9,
     "metadata": {},
     "output_type": "execute_result"
    },
    {
     "data": {
      "image/png": "[encoded data removed]",
      "text/plain": [
       "<matplotlib.figure.Figure at 0x115811198>"
      ]
     },
     "metadata": {},
     "output_type": "display_data"
    }
   ],
   "source": [
    "plt.hist(params[:10,0,0])"
   ]
  },
  {
   "cell_type": "code",
   "execution_count": 10,
   "metadata": {},
   "outputs": [
    {
     "data": {
      "text/plain": [
       "[<matplotlib.lines.Line2D at 0x11867f400>]"
      ]
     },
     "execution_count": 10,
     "metadata": {},
     "output_type": "execute_result"
    },
    {
     "data": {
      "image/png": "[encoded data removed]",
      "text/plain": [
       "<matplotlib.figure.Figure at 0x11798a978>"
      ]
     },
     "metadata": {},
     "output_type": "display_data"
    }
   ],
   "source": [
    "plt.plot(params[:10,0,0])"
   ]
  },
  {
   "cell_type": "code",
   "execution_count": 11,
   "metadata": {},
   "outputs": [
    {
     "data": {
      "text/plain": [
       "(1000,)"
      ]
     },
     "execution_count": 11,
     "metadata": {},
     "output_type": "execute_result"
    }
   ],
   "source": [
    "# range_ = (max_f - min_f)\n",
    "range_ = max_f + 1 # extra margin = 1\n",
    "y_train = params[:,0,0] / range_\n",
    "y_train.shape"
   ]
  },
  {
   "cell_type": "code",
   "execution_count": 12,
   "metadata": {},
   "outputs": [
    {
     "data": {
      "text/plain": [
       "(1000, 40, 1, 1)"
      ]
     },
     "execution_count": 12,
     "metadata": {},
     "output_type": "execute_result"
    }
   ],
   "source": [
    "x_train.shape"
   ]
  },
  {
   "cell_type": "code",
   "execution_count": 13,
   "metadata": {},
   "outputs": [],
   "source": [
    "x_test = x_train[m:]\n",
    "x_train = x_train[:m]\n",
    "y_test = y_train[m:]\n",
    "y_train = y_train[:m]"
   ]
  },
  {
   "cell_type": "code",
   "execution_count": 14,
   "metadata": {},
   "outputs": [
    {
     "data": {
      "text/plain": [
       "[<matplotlib.lines.Line2D at 0x1187269b0>]"
      ]
     },
     "execution_count": 14,
     "metadata": {},
     "output_type": "execute_result"
    },
    {
     "data": {
      "image/png": "[encoded data removed]",
      "text/plain": [
       "<matplotlib.figure.Figure at 0x1185e3ac8>"
      ]
     },
     "metadata": {},
     "output_type": "display_data"
    }
   ],
   "source": [
    "plt.plot(y_train[:50])"
   ]
  },
  {
   "cell_type": "code",
   "execution_count": 15,
   "metadata": {},
   "outputs": [
    {
     "name": "stdout",
     "output_type": "stream",
     "text": [
      "m (30, 1)\n"
     ]
    },
    {
     "data": {
      "image/png": "[encoded data removed]",
      "text/plain": [
       "<matplotlib.figure.Figure at 0x1179bd860>"
      ]
     },
     "metadata": {},
     "output_type": "display_data"
    },
    {
     "name": "stdout",
     "output_type": "stream",
     "text": [
      "m (30, 1)\n"
     ]
    },
    {
     "data": {
      "image/png": "[encoded data removed]",
      "text/plain": [
       "<matplotlib.figure.Figure at 0x11857a668>"
      ]
     },
     "metadata": {},
     "output_type": "display_data"
    },
    {
     "name": "stdout",
     "output_type": "stream",
     "text": [
      "[0.60969224 0.45999421]\n"
     ]
    }
   ],
   "source": [
    "i = 0\n",
    "plot.single(x_train[i,:30,0])\n",
    "plot.single(x_train[i+1,:30,0])\n",
    "print(y_train[i:i+2])"
   ]
  },
  {
   "cell_type": "markdown",
   "metadata": {},
   "source": [
    "Make sure all frequencies fall inside the window"
   ]
  },
  {
   "cell_type": "code",
   "execution_count": 16,
   "metadata": {},
   "outputs": [
    {
     "name": "stdout",
     "output_type": "stream",
     "text": [
      "m (30, 1)\n"
     ]
    },
    {
     "data": {
      "image/png": "[encoded data removed]",
      "text/plain": [
       "<matplotlib.figure.Figure at 0x1179fe2b0>"
      ]
     },
     "metadata": {},
     "output_type": "display_data"
    },
    {
     "name": "stdout",
     "output_type": "stream",
     "text": [
      "m (30, 1)\n"
     ]
    },
    {
     "data": {
      "image/png": "[encoded data removed]",
      "text/plain": [
       "<matplotlib.figure.Figure at 0x117a31518>"
      ]
     },
     "metadata": {},
     "output_type": "display_data"
    },
    {
     "name": "stdout",
     "output_type": "stream",
     "text": [
      "0.7999618268937279 0.0\n"
     ]
    }
   ],
   "source": [
    "i = y_train.argmax()\n",
    "j = y_train.argmin()\n",
    "plot.single(x_train[i,:30,0])\n",
    "plot.single(x_train[j,:30,0])\n",
    "print(y_train[i], y_train[j])"
   ]
  },
  {
   "cell_type": "code",
   "execution_count": 17,
   "metadata": {},
   "outputs": [
    {
     "data": {
      "text/plain": [
       "(40, 1, 1)"
      ]
     },
     "execution_count": 17,
     "metadata": {},
     "output_type": "execute_result"
    }
   ],
   "source": [
    "input_shape = x_train[0].shape\n",
    "input_shape"
   ]
  },
  {
   "cell_type": "code",
   "execution_count": 18,
   "metadata": {},
   "outputs": [
    {
     "name": "stdout",
     "output_type": "stream",
     "text": [
      "_________________________________________________________________\n",
      "Layer (type)                 Output Shape              Param #   \n",
      "=================================================================\n",
      "input_1 (InputLayer)         (None, 40, 1, 1)          0         \n",
      "_________________________________________________________________\n",
      "reshape_1 (Reshape)          (None, 40, 1)             0         \n",
      "_________________________________________________________________\n",
      "simple_rnn_1 (SimpleRNN)     (None, 4)                 24        \n",
      "_________________________________________________________________\n",
      "dense_1 (Dense)              (None, 4)                 20        \n",
      "_________________________________________________________________\n",
      "dense_2 (Dense)              (None, 1)                 5         \n",
      "=================================================================\n",
      "Total params: 49\n",
      "Trainable params: 49\n",
      "Non-trainable params: 0\n",
      "_________________________________________________________________\n"
     ]
    }
   ],
   "source": [
    "timesteps, notes, channels = input_shape\n",
    "\n",
    "encoder_input = Input(shape=(timesteps, notes, channels))\n",
    "x = encoder_input\n",
    "\n",
    "x = Reshape((timesteps, notes))(x)\n",
    "# x = Reshape((timesteps, notes,1,1))(x)\n",
    "# x = SimpleRNN(1)(x)\n",
    "x = SimpleRNN(4, unroll=True)(x)\n",
    "# x = ConvLSTM2D(3, kernel_size=(1,1))(x)\n",
    "# x = Flatten()(x)\n",
    "x = Dense(4, activation='relu')(x)\n",
    "x = Dense(1, activation='sigmoid')(x)\n",
    "\n",
    "encoder_output = x\n",
    "\n",
    "encoder_model = Model(encoder_input, encoder_output, name='encoder-')\n",
    "encoder_model.summary()"
   ]
  },
  {
   "cell_type": "code",
   "execution_count": 19,
   "metadata": {},
   "outputs": [],
   "source": [
    "loss = 'mse' # mse mae binary_crossentropy rmsprop adadelta\n",
    "encoder_model.compile(loss=loss, optimizer='rmsprop', metrics=['accuracy','mae','binary_crossentropy'])"
   ]
  },
  {
   "cell_type": "code",
   "execution_count": 20,
   "metadata": {},
   "outputs": [],
   "source": [
    "phase_mod = 0.1\n",
    "whitening = False\n",
    "\n",
    "datagen = ImageDataGenerator(\n",
    "        featurewise_center=False,  # set input mean to 0 over the dataset\n",
    "        samplewise_center=False,  # set each sample mean to 0\n",
    "        featurewise_std_normalization=False,  # divide inputs by dataset std\n",
    "        samplewise_std_normalization=False,  # divide each input by its std\n",
    "#         zca_epsilon=10,\n",
    "        zca_whitening=whitening,\n",
    "        rotation_range=0,  # randomly rotate images in 0 to 180 degrees\n",
    "        width_shift_range=0.,  # note-channel mod, but not shuffled\n",
    "        height_shift_range=phase_mod,  # start_t, phase\n",
    "        horizontal_flip=False,  # reverse\n",
    "        vertical_flip=False)\n",
    "\n",
    "datagen.fit(x_train)"
   ]
  },
  {
   "cell_type": "code",
   "execution_count": 21,
   "metadata": {},
   "outputs": [],
   "source": [
    "batch_size = 100\n",
    "epochs = 500"
   ]
  },
  {
   "cell_type": "code",
   "execution_count": 22,
   "metadata": {
    "scrolled": true
   },
   "outputs": [
    {
     "name": "stdout",
     "output_type": "stream",
     "text": [
      "Not using data augmentation.\n",
      "Train on 900 samples, validate on 100 samples\n",
      "Epoch 1/500\n",
      "900/900 [==============================] - 1s 983us/step - loss: 0.0540 - acc: 0.0033 - mean_absolute_error: 0.1982 - binary_crossentropy: 0.6771 - val_loss: 0.0481 - val_acc: 0.0000e+00 - val_mean_absolute_error: 0.1907 - val_binary_crossentropy: 0.6642\n",
      "Epoch 2/500\n",
      "900/900 [==============================] - 0s 48us/step - loss: 0.0465 - acc: 0.0033 - mean_absolute_error: 0.1857 - binary_crossentropy: 0.6618 - val_loss: 0.0455 - val_acc: 0.0000e+00 - val_mean_absolute_error: 0.1852 - val_binary_crossentropy: 0.6588\n",
      "Epoch 3/500\n",
      "900/900 [==============================] - 0s 46us/step - loss: 0.0440 - acc: 0.0033 - mean_absolute_error: 0.1800 - binary_crossentropy: 0.6565 - val_loss: 0.0422 - val_acc: 0.0000e+00 - val_mean_absolute_error: 0.1782 - val_binary_crossentropy: 0.6520\n",
      "Epoch 4/500\n",
      "900/900 [==============================] - 0s 47us/step - loss: 0.0401 - acc: 0.0033 - mean_absolute_error: 0.1717 - binary_crossentropy: 0.6484 - val_loss: 0.0362 - val_acc: 0.0000e+00 - val_mean_absolute_error: 0.1647 - val_binary_crossentropy: 0.6395\n",
      "Epoch 5/500\n",
      "900/900 [==============================] - 0s 50us/step - loss: 0.0337 - acc: 0.0033 - mean_absolute_error: 0.1573 - binary_crossentropy: 0.6349 - val_loss: 0.0283 - val_acc: 0.0000e+00 - val_mean_absolute_error: 0.1446 - val_binary_crossentropy: 0.6226\n",
      "Epoch 6/500\n",
      "900/900 [==============================] - 0s 42us/step - loss: 0.0248 - acc: 0.0033 - mean_absolute_error: 0.1338 - binary_crossentropy: 0.6160 - val_loss: 0.0195 - val_acc: 0.0000e+00 - val_mean_absolute_error: 0.1186 - val_binary_crossentropy: 0.6038\n",
      "Epoch 7/500\n",
      "900/900 [==============================] - 0s 42us/step - loss: 0.0186 - acc: 0.0033 - mean_absolute_error: 0.1157 - binary_crossentropy: 0.6024 - val_loss: 0.0190 - val_acc: 0.0000e+00 - val_mean_absolute_error: 0.1175 - val_binary_crossentropy: 0.6017\n",
      "Epoch 8/500\n",
      "900/900 [==============================] - 0s 39us/step - loss: 0.0168 - acc: 0.0033 - mean_absolute_error: 0.1101 - binary_crossentropy: 0.5978 - val_loss: 0.0125 - val_acc: 0.0000e+00 - val_mean_absolute_error: 0.0893 - val_binary_crossentropy: 0.5878\n",
      "Epoch 9/500\n",
      "900/900 [==============================] - 0s 34us/step - loss: 0.0142 - acc: 0.0033 - mean_absolute_error: 0.1009 - binary_crossentropy: 0.5919 - val_loss: 0.0136 - val_acc: 0.0000e+00 - val_mean_absolute_error: 0.0999 - val_binary_crossentropy: 0.5895\n",
      "Epoch 10/500\n",
      "900/900 [==============================] - 0s 34us/step - loss: 0.0130 - acc: 0.0033 - mean_absolute_error: 0.0963 - binary_crossentropy: 0.5889 - val_loss: 0.0126 - val_acc: 0.0000e+00 - val_mean_absolute_error: 0.0943 - val_binary_crossentropy: 0.5868\n",
      "Epoch 11/500\n",
      "900/900 [==============================] - 0s 35us/step - loss: 0.0124 - acc: 0.0033 - mean_absolute_error: 0.0947 - binary_crossentropy: 0.5874 - val_loss: 0.0103 - val_acc: 0.0000e+00 - val_mean_absolute_error: 0.0827 - val_binary_crossentropy: 0.5818\n",
      "Epoch 12/500\n",
      "900/900 [==============================] - 0s 36us/step - loss: 0.0112 - acc: 0.0033 - mean_absolute_error: 0.0884 - binary_crossentropy: 0.5844 - val_loss: 0.0121 - val_acc: 0.0000e+00 - val_mean_absolute_error: 0.0924 - val_binary_crossentropy: 0.5848\n",
      "Epoch 13/500\n",
      "900/900 [==============================] - 0s 36us/step - loss: 0.0116 - acc: 0.0033 - mean_absolute_error: 0.0911 - binary_crossentropy: 0.5851 - val_loss: 0.0088 - val_acc: 0.0000e+00 - val_mean_absolute_error: 0.0754 - val_binary_crossentropy: 0.5778\n",
      "Epoch 14/500\n",
      "900/900 [==============================] - 0s 37us/step - loss: 0.0108 - acc: 0.0033 - mean_absolute_error: 0.0875 - binary_crossentropy: 0.5832 - val_loss: 0.0086 - val_acc: 0.0000e+00 - val_mean_absolute_error: 0.0767 - val_binary_crossentropy: 0.5774\n",
      "Epoch 15/500\n",
      "900/900 [==============================] - 0s 36us/step - loss: 0.0101 - acc: 0.0033 - mean_absolute_error: 0.0844 - binary_crossentropy: 0.5814 - val_loss: 0.0116 - val_acc: 0.0000e+00 - val_mean_absolute_error: 0.0901 - val_binary_crossentropy: 0.5832\n",
      "Epoch 16/500\n",
      "900/900 [==============================] - 0s 35us/step - loss: 0.0096 - acc: 0.0033 - mean_absolute_error: 0.0815 - binary_crossentropy: 0.5803 - val_loss: 0.0102 - val_acc: 0.0000e+00 - val_mean_absolute_error: 0.0841 - val_binary_crossentropy: 0.5799\n",
      "Epoch 17/500\n",
      "900/900 [==============================] - 0s 34us/step - loss: 0.0099 - acc: 0.0033 - mean_absolute_error: 0.0843 - binary_crossentropy: 0.5806 - val_loss: 0.0083 - val_acc: 0.0000e+00 - val_mean_absolute_error: 0.0758 - val_binary_crossentropy: 0.5764\n",
      "Epoch 18/500\n",
      "900/900 [==============================] - 0s 34us/step - loss: 0.0088 - acc: 0.0033 - mean_absolute_error: 0.0787 - binary_crossentropy: 0.5781 - val_loss: 0.0103 - val_acc: 0.0000e+00 - val_mean_absolute_error: 0.0841 - val_binary_crossentropy: 0.5798\n",
      "Epoch 19/500\n",
      "900/900 [==============================] - 0s 36us/step - loss: 0.0086 - acc: 0.0033 - mean_absolute_error: 0.0773 - binary_crossentropy: 0.5775 - val_loss: 0.0099 - val_acc: 0.0000e+00 - val_mean_absolute_error: 0.0819 - val_binary_crossentropy: 0.5786\n",
      "Epoch 20/500\n",
      "900/900 [==============================] - 0s 33us/step - loss: 0.0092 - acc: 0.0033 - mean_absolute_error: 0.0818 - binary_crossentropy: 0.5786 - val_loss: 0.0064 - val_acc: 0.0000e+00 - val_mean_absolute_error: 0.0655 - val_binary_crossentropy: 0.5716\n",
      "Epoch 21/500\n",
      "900/900 [==============================] - 0s 37us/step - loss: 0.0082 - acc: 0.0033 - mean_absolute_error: 0.0756 - binary_crossentropy: 0.5763 - val_loss: 0.0088 - val_acc: 0.0000e+00 - val_mean_absolute_error: 0.0776 - val_binary_crossentropy: 0.5762\n",
      "Epoch 22/500\n",
      "900/900 [==============================] - 0s 36us/step - loss: 0.0078 - acc: 0.0033 - mean_absolute_error: 0.0735 - binary_crossentropy: 0.5754 - val_loss: 0.0102 - val_acc: 0.0000e+00 - val_mean_absolute_error: 0.0832 - val_binary_crossentropy: 0.5790\n",
      "Epoch 23/500\n",
      "900/900 [==============================] - 0s 34us/step - loss: 0.0081 - acc: 0.0033 - mean_absolute_error: 0.0758 - binary_crossentropy: 0.5760 - val_loss: 0.0059 - val_acc: 0.0000e+00 - val_mean_absolute_error: 0.0631 - val_binary_crossentropy: 0.5702\n",
      "Epoch 24/500\n",
      "900/900 [==============================] - 0s 34us/step - loss: 0.0073 - acc: 0.0033 - mean_absolute_error: 0.0716 - binary_crossentropy: 0.5741 - val_loss: 0.0058 - val_acc: 0.0000e+00 - val_mean_absolute_error: 0.0607 - val_binary_crossentropy: 0.5697\n",
      "Epoch 25/500\n",
      "900/900 [==============================] - 0s 36us/step - loss: 0.0069 - acc: 0.0033 - mean_absolute_error: 0.0687 - binary_crossentropy: 0.5731 - val_loss: 0.0073 - val_acc: 0.0000e+00 - val_mean_absolute_error: 0.0712 - val_binary_crossentropy: 0.5732\n",
      "Epoch 26/500\n",
      "900/900 [==============================] - 0s 39us/step - loss: 0.0077 - acc: 0.0033 - mean_absolute_error: 0.0743 - binary_crossentropy: 0.5747 - val_loss: 0.0070 - val_acc: 0.0000e+00 - val_mean_absolute_error: 0.0688 - val_binary_crossentropy: 0.5719\n",
      "Epoch 27/500\n",
      "900/900 [==============================] - 0s 43us/step - loss: 0.0067 - acc: 0.0033 - mean_absolute_error: 0.0684 - binary_crossentropy: 0.5725 - val_loss: 0.0052 - val_acc: 0.0000e+00 - val_mean_absolute_error: 0.0594 - val_binary_crossentropy: 0.5682\n",
      "Epoch 28/500\n",
      "900/900 [==============================] - 0s 44us/step - loss: 0.0067 - acc: 0.0033 - mean_absolute_error: 0.0688 - binary_crossentropy: 0.5725 - val_loss: 0.0049 - val_acc: 0.0000e+00 - val_mean_absolute_error: 0.0565 - val_binary_crossentropy: 0.5675\n",
      "Epoch 29/500\n",
      "900/900 [==============================] - 0s 32us/step - loss: 0.0065 - acc: 0.0033 - mean_absolute_error: 0.0674 - binary_crossentropy: 0.5719 - val_loss: 0.0049 - val_acc: 0.0000e+00 - val_mean_absolute_error: 0.0581 - val_binary_crossentropy: 0.5675\n",
      "Epoch 30/500\n",
      "900/900 [==============================] - 0s 36us/step - loss: 0.0064 - acc: 0.0033 - mean_absolute_error: 0.0677 - binary_crossentropy: 0.5718 - val_loss: 0.0064 - val_acc: 0.0000e+00 - val_mean_absolute_error: 0.0657 - val_binary_crossentropy: 0.5704\n",
      "Epoch 31/500\n"
     ]
    },
    {
     "name": "stdout",
     "output_type": "stream",
     "text": [
      "900/900 [==============================] - 0s 34us/step - loss: 0.0059 - acc: 0.0033 - mean_absolute_error: 0.0649 - binary_crossentropy: 0.5706 - val_loss: 0.0044 - val_acc: 0.0000e+00 - val_mean_absolute_error: 0.0538 - val_binary_crossentropy: 0.5663\n",
      "Epoch 32/500\n",
      "900/900 [==============================] - 0s 35us/step - loss: 0.0061 - acc: 0.0033 - mean_absolute_error: 0.0651 - binary_crossentropy: 0.5708 - val_loss: 0.0046 - val_acc: 0.0000e+00 - val_mean_absolute_error: 0.0538 - val_binary_crossentropy: 0.5664\n",
      "Epoch 33/500\n",
      "900/900 [==============================] - 0s 34us/step - loss: 0.0056 - acc: 0.0033 - mean_absolute_error: 0.0629 - binary_crossentropy: 0.5698 - val_loss: 0.0059 - val_acc: 0.0000e+00 - val_mean_absolute_error: 0.0652 - val_binary_crossentropy: 0.5696\n",
      "Epoch 34/500\n",
      "900/900 [==============================] - 0s 32us/step - loss: 0.0056 - acc: 0.0033 - mean_absolute_error: 0.0630 - binary_crossentropy: 0.5697 - val_loss: 0.0043 - val_acc: 0.0000e+00 - val_mean_absolute_error: 0.0527 - val_binary_crossentropy: 0.5658\n",
      "Epoch 35/500\n",
      "900/900 [==============================] - 0s 35us/step - loss: 0.0055 - acc: 0.0033 - mean_absolute_error: 0.0620 - binary_crossentropy: 0.5694 - val_loss: 0.0046 - val_acc: 0.0000e+00 - val_mean_absolute_error: 0.0556 - val_binary_crossentropy: 0.5665\n",
      "Epoch 36/500\n",
      "900/900 [==============================] - 0s 38us/step - loss: 0.0049 - acc: 0.0033 - mean_absolute_error: 0.0587 - binary_crossentropy: 0.5680 - val_loss: 0.0043 - val_acc: 0.0000e+00 - val_mean_absolute_error: 0.0530 - val_binary_crossentropy: 0.5656\n",
      "Epoch 37/500\n",
      "900/900 [==============================] - 0s 36us/step - loss: 0.0051 - acc: 0.0033 - mean_absolute_error: 0.0590 - binary_crossentropy: 0.5685 - val_loss: 0.0039 - val_acc: 0.0000e+00 - val_mean_absolute_error: 0.0502 - val_binary_crossentropy: 0.5646\n",
      "Epoch 38/500\n",
      "900/900 [==============================] - 0s 37us/step - loss: 0.0053 - acc: 0.0033 - mean_absolute_error: 0.0608 - binary_crossentropy: 0.5689 - val_loss: 0.0051 - val_acc: 0.0000e+00 - val_mean_absolute_error: 0.0610 - val_binary_crossentropy: 0.5676\n",
      "Epoch 39/500\n",
      "900/900 [==============================] - 0s 35us/step - loss: 0.0043 - acc: 0.0033 - mean_absolute_error: 0.0548 - binary_crossentropy: 0.5667 - val_loss: 0.0069 - val_acc: 0.0000e+00 - val_mean_absolute_error: 0.0722 - val_binary_crossentropy: 0.5716\n",
      "Epoch 40/500\n",
      "900/900 [==============================] - 0s 35us/step - loss: 0.0051 - acc: 0.0033 - mean_absolute_error: 0.0602 - binary_crossentropy: 0.5685 - val_loss: 0.0049 - val_acc: 0.0000e+00 - val_mean_absolute_error: 0.0571 - val_binary_crossentropy: 0.5666\n",
      "Epoch 41/500\n",
      "900/900 [==============================] - 0s 40us/step - loss: 0.0042 - acc: 0.0033 - mean_absolute_error: 0.0535 - binary_crossentropy: 0.5664 - val_loss: 0.0033 - val_acc: 0.0000e+00 - val_mean_absolute_error: 0.0477 - val_binary_crossentropy: 0.5633\n",
      "Epoch 42/500\n",
      "900/900 [==============================] - 0s 33us/step - loss: 0.0046 - acc: 0.0033 - mean_absolute_error: 0.0566 - binary_crossentropy: 0.5672 - val_loss: 0.0061 - val_acc: 0.0000e+00 - val_mean_absolute_error: 0.0633 - val_binary_crossentropy: 0.5690\n",
      "Epoch 43/500\n",
      "900/900 [==============================] - 0s 33us/step - loss: 0.0041 - acc: 0.0033 - mean_absolute_error: 0.0530 - binary_crossentropy: 0.5660 - val_loss: 0.0034 - val_acc: 0.0000e+00 - val_mean_absolute_error: 0.0490 - val_binary_crossentropy: 0.5634\n",
      "Epoch 44/500\n",
      "900/900 [==============================] - 0s 34us/step - loss: 0.0047 - acc: 0.0033 - mean_absolute_error: 0.0555 - binary_crossentropy: 0.5671 - val_loss: 0.0039 - val_acc: 0.0000e+00 - val_mean_absolute_error: 0.0509 - val_binary_crossentropy: 0.5643\n",
      "Epoch 45/500\n",
      "900/900 [==============================] - 0s 37us/step - loss: 0.0035 - acc: 0.0033 - mean_absolute_error: 0.0490 - binary_crossentropy: 0.5646 - val_loss: 0.0055 - val_acc: 0.0000e+00 - val_mean_absolute_error: 0.0645 - val_binary_crossentropy: 0.5682\n",
      "Epoch 46/500\n",
      "900/900 [==============================] - 0s 38us/step - loss: 0.0042 - acc: 0.0033 - mean_absolute_error: 0.0547 - binary_crossentropy: 0.5661 - val_loss: 0.0064 - val_acc: 0.0000e+00 - val_mean_absolute_error: 0.0645 - val_binary_crossentropy: 0.5694\n",
      "Epoch 47/500\n",
      "900/900 [==============================] - 0s 36us/step - loss: 0.0039 - acc: 0.0033 - mean_absolute_error: 0.0507 - binary_crossentropy: 0.5651 - val_loss: 0.0032 - val_acc: 0.0000e+00 - val_mean_absolute_error: 0.0475 - val_binary_crossentropy: 0.5628\n",
      "Epoch 48/500\n",
      "900/900 [==============================] - 0s 36us/step - loss: 0.0039 - acc: 0.0033 - mean_absolute_error: 0.0516 - binary_crossentropy: 0.5654 - val_loss: 0.0032 - val_acc: 0.0000e+00 - val_mean_absolute_error: 0.0457 - val_binary_crossentropy: 0.5624\n",
      "Epoch 49/500\n",
      "900/900 [==============================] - 0s 34us/step - loss: 0.0041 - acc: 0.0033 - mean_absolute_error: 0.0535 - binary_crossentropy: 0.5657 - val_loss: 0.0034 - val_acc: 0.0000e+00 - val_mean_absolute_error: 0.0477 - val_binary_crossentropy: 0.5632\n",
      "Epoch 50/500\n",
      "900/900 [==============================] - 0s 40us/step - loss: 0.0039 - acc: 0.0033 - mean_absolute_error: 0.0517 - binary_crossentropy: 0.5651 - val_loss: 0.0030 - val_acc: 0.0000e+00 - val_mean_absolute_error: 0.0447 - val_binary_crossentropy: 0.5621\n",
      "Epoch 51/500\n",
      "900/900 [==============================] - 0s 35us/step - loss: 0.0032 - acc: 0.0033 - mean_absolute_error: 0.0475 - binary_crossentropy: 0.5637 - val_loss: 0.0044 - val_acc: 0.0000e+00 - val_mean_absolute_error: 0.0541 - val_binary_crossentropy: 0.5650\n",
      "Epoch 52/500\n",
      "900/900 [==============================] - 0s 34us/step - loss: 0.0040 - acc: 0.0033 - mean_absolute_error: 0.0527 - binary_crossentropy: 0.5654 - val_loss: 0.0032 - val_acc: 0.0000e+00 - val_mean_absolute_error: 0.0468 - val_binary_crossentropy: 0.5626\n",
      "Epoch 53/500\n",
      "900/900 [==============================] - 0s 36us/step - loss: 0.0041 - acc: 0.0033 - mean_absolute_error: 0.0535 - binary_crossentropy: 0.5656 - val_loss: 0.0030 - val_acc: 0.0000e+00 - val_mean_absolute_error: 0.0447 - val_binary_crossentropy: 0.5620\n",
      "Epoch 54/500\n",
      "900/900 [==============================] - 0s 35us/step - loss: 0.0035 - acc: 0.0033 - mean_absolute_error: 0.0489 - binary_crossentropy: 0.5640 - val_loss: 0.0027 - val_acc: 0.0000e+00 - val_mean_absolute_error: 0.0436 - val_binary_crossentropy: 0.5614\n",
      "Epoch 55/500\n",
      "900/900 [==============================] - 0s 36us/step - loss: 0.0034 - acc: 0.0033 - mean_absolute_error: 0.0489 - binary_crossentropy: 0.5640 - val_loss: 0.0032 - val_acc: 0.0000e+00 - val_mean_absolute_error: 0.0462 - val_binary_crossentropy: 0.5623\n",
      "Epoch 56/500\n",
      "900/900 [==============================] - 0s 39us/step - loss: 0.0036 - acc: 0.0033 - mean_absolute_error: 0.0500 - binary_crossentropy: 0.5644 - val_loss: 0.0028 - val_acc: 0.0000e+00 - val_mean_absolute_error: 0.0439 - val_binary_crossentropy: 0.5616\n",
      "Epoch 57/500\n",
      "900/900 [==============================] - 0s 40us/step - loss: 0.0027 - acc: 0.0033 - mean_absolute_error: 0.0439 - binary_crossentropy: 0.5624 - val_loss: 0.0028 - val_acc: 0.0000e+00 - val_mean_absolute_error: 0.0432 - val_binary_crossentropy: 0.5613\n",
      "Epoch 58/500\n",
      "900/900 [==============================] - 0s 39us/step - loss: 0.0045 - acc: 0.0033 - mean_absolute_error: 0.0548 - binary_crossentropy: 0.5662 - val_loss: 0.0026 - val_acc: 0.0000e+00 - val_mean_absolute_error: 0.0428 - val_binary_crossentropy: 0.5610\n",
      "Epoch 59/500\n",
      "900/900 [==============================] - 0s 38us/step - loss: 0.0031 - acc: 0.0033 - mean_absolute_error: 0.0464 - binary_crossentropy: 0.5631 - val_loss: 0.0026 - val_acc: 0.0000e+00 - val_mean_absolute_error: 0.0418 - val_binary_crossentropy: 0.5609\n",
      "Epoch 60/500\n",
      "900/900 [==============================] - 0s 40us/step - loss: 0.0038 - acc: 0.0033 - mean_absolute_error: 0.0508 - binary_crossentropy: 0.5648 - val_loss: 0.0026 - val_acc: 0.0000e+00 - val_mean_absolute_error: 0.0421 - val_binary_crossentropy: 0.5611\n",
      "Epoch 61/500\n",
      "900/900 [==============================] - 0s 39us/step - loss: 0.0034 - acc: 0.0033 - mean_absolute_error: 0.0484 - binary_crossentropy: 0.5638 - val_loss: 0.0027 - val_acc: 0.0000e+00 - val_mean_absolute_error: 0.0429 - val_binary_crossentropy: 0.5611\n"
     ]
    },
    {
     "name": "stdout",
     "output_type": "stream",
     "text": [
      "Epoch 62/500\n",
      "900/900 [==============================] - 0s 40us/step - loss: 0.0034 - acc: 0.0033 - mean_absolute_error: 0.0486 - binary_crossentropy: 0.5637 - val_loss: 0.0027 - val_acc: 0.0000e+00 - val_mean_absolute_error: 0.0425 - val_binary_crossentropy: 0.5612\n",
      "Epoch 63/500\n",
      "900/900 [==============================] - 0s 37us/step - loss: 0.0033 - acc: 0.0033 - mean_absolute_error: 0.0478 - binary_crossentropy: 0.5635 - val_loss: 0.0045 - val_acc: 0.0000e+00 - val_mean_absolute_error: 0.0572 - val_binary_crossentropy: 0.5653\n",
      "Epoch 64/500\n",
      "900/900 [==============================] - 0s 40us/step - loss: 0.0035 - acc: 0.0033 - mean_absolute_error: 0.0494 - binary_crossentropy: 0.5641 - val_loss: 0.0026 - val_acc: 0.0000e+00 - val_mean_absolute_error: 0.0419 - val_binary_crossentropy: 0.5610\n",
      "Epoch 65/500\n",
      "900/900 [==============================] - 0s 40us/step - loss: 0.0026 - acc: 0.0033 - mean_absolute_error: 0.0428 - binary_crossentropy: 0.5619 - val_loss: 0.0024 - val_acc: 0.0000e+00 - val_mean_absolute_error: 0.0416 - val_binary_crossentropy: 0.5604\n",
      "Epoch 66/500\n",
      "900/900 [==============================] - 0s 41us/step - loss: 0.0037 - acc: 0.0033 - mean_absolute_error: 0.0499 - binary_crossentropy: 0.5643 - val_loss: 0.0025 - val_acc: 0.0000e+00 - val_mean_absolute_error: 0.0411 - val_binary_crossentropy: 0.5605\n",
      "Epoch 67/500\n",
      "900/900 [==============================] - 0s 35us/step - loss: 0.0028 - acc: 0.0033 - mean_absolute_error: 0.0447 - binary_crossentropy: 0.5624 - val_loss: 0.0030 - val_acc: 0.0000e+00 - val_mean_absolute_error: 0.0442 - val_binary_crossentropy: 0.5615\n",
      "Epoch 68/500\n",
      "900/900 [==============================] - 0s 37us/step - loss: 0.0033 - acc: 0.0033 - mean_absolute_error: 0.0470 - binary_crossentropy: 0.5633 - val_loss: 0.0024 - val_acc: 0.0000e+00 - val_mean_absolute_error: 0.0407 - val_binary_crossentropy: 0.5604\n",
      "Epoch 69/500\n",
      "900/900 [==============================] - 0s 31us/step - loss: 0.0030 - acc: 0.0033 - mean_absolute_error: 0.0453 - binary_crossentropy: 0.5626 - val_loss: 0.0026 - val_acc: 0.0000e+00 - val_mean_absolute_error: 0.0413 - val_binary_crossentropy: 0.5607\n",
      "Epoch 70/500\n",
      "900/900 [==============================] - 0s 35us/step - loss: 0.0027 - acc: 0.0033 - mean_absolute_error: 0.0438 - binary_crossentropy: 0.5621 - val_loss: 0.0029 - val_acc: 0.0000e+00 - val_mean_absolute_error: 0.0435 - val_binary_crossentropy: 0.5612\n",
      "Epoch 71/500\n",
      "900/900 [==============================] - 0s 34us/step - loss: 0.0028 - acc: 0.0033 - mean_absolute_error: 0.0438 - binary_crossentropy: 0.5623 - val_loss: 0.0023 - val_acc: 0.0000e+00 - val_mean_absolute_error: 0.0408 - val_binary_crossentropy: 0.5600\n",
      "Epoch 72/500\n",
      "900/900 [==============================] - 0s 35us/step - loss: 0.0035 - acc: 0.0033 - mean_absolute_error: 0.0495 - binary_crossentropy: 0.5638 - val_loss: 0.0032 - val_acc: 0.0000e+00 - val_mean_absolute_error: 0.0460 - val_binary_crossentropy: 0.5620\n",
      "Epoch 73/500\n",
      "900/900 [==============================] - 0s 35us/step - loss: 0.0026 - acc: 0.0033 - mean_absolute_error: 0.0427 - binary_crossentropy: 0.5617 - val_loss: 0.0024 - val_acc: 0.0000e+00 - val_mean_absolute_error: 0.0402 - val_binary_crossentropy: 0.5602\n",
      "Epoch 74/500\n",
      "900/900 [==============================] - 0s 35us/step - loss: 0.0031 - acc: 0.0033 - mean_absolute_error: 0.0466 - binary_crossentropy: 0.5629 - val_loss: 0.0026 - val_acc: 0.0000e+00 - val_mean_absolute_error: 0.0434 - val_binary_crossentropy: 0.5608\n",
      "Epoch 75/500\n",
      "900/900 [==============================] - 0s 38us/step - loss: 0.0032 - acc: 0.0033 - mean_absolute_error: 0.0473 - binary_crossentropy: 0.5630 - val_loss: 0.0027 - val_acc: 0.0000e+00 - val_mean_absolute_error: 0.0422 - val_binary_crossentropy: 0.5608\n",
      "Epoch 76/500\n",
      "900/900 [==============================] - 0s 37us/step - loss: 0.0024 - acc: 0.0033 - mean_absolute_error: 0.0409 - binary_crossentropy: 0.5613 - val_loss: 0.0023 - val_acc: 0.0000e+00 - val_mean_absolute_error: 0.0393 - val_binary_crossentropy: 0.5598\n",
      "Epoch 77/500\n",
      "900/900 [==============================] - 0s 34us/step - loss: 0.0034 - acc: 0.0033 - mean_absolute_error: 0.0482 - binary_crossentropy: 0.5634 - val_loss: 0.0022 - val_acc: 0.0000e+00 - val_mean_absolute_error: 0.0396 - val_binary_crossentropy: 0.5597\n",
      "Epoch 78/500\n",
      "900/900 [==============================] - 0s 37us/step - loss: 0.0030 - acc: 0.0033 - mean_absolute_error: 0.0457 - binary_crossentropy: 0.5627 - val_loss: 0.0027 - val_acc: 0.0000e+00 - val_mean_absolute_error: 0.0423 - val_binary_crossentropy: 0.5608\n",
      "Epoch 79/500\n",
      "900/900 [==============================] - 0s 33us/step - loss: 0.0022 - acc: 0.0033 - mean_absolute_error: 0.0395 - binary_crossentropy: 0.5608 - val_loss: 0.0022 - val_acc: 0.0000e+00 - val_mean_absolute_error: 0.0391 - val_binary_crossentropy: 0.5595\n",
      "Epoch 80/500\n",
      "900/900 [==============================] - 0s 38us/step - loss: 0.0031 - acc: 0.0033 - mean_absolute_error: 0.0465 - binary_crossentropy: 0.5628 - val_loss: 0.0025 - val_acc: 0.0000e+00 - val_mean_absolute_error: 0.0404 - val_binary_crossentropy: 0.5602\n",
      "Epoch 81/500\n",
      "900/900 [==============================] - 0s 34us/step - loss: 0.0027 - acc: 0.0033 - mean_absolute_error: 0.0432 - binary_crossentropy: 0.5618 - val_loss: 0.0030 - val_acc: 0.0000e+00 - val_mean_absolute_error: 0.0464 - val_binary_crossentropy: 0.5616\n",
      "Epoch 82/500\n",
      "900/900 [==============================] - 0s 39us/step - loss: 0.0029 - acc: 0.0033 - mean_absolute_error: 0.0453 - binary_crossentropy: 0.5624 - val_loss: 0.0025 - val_acc: 0.0000e+00 - val_mean_absolute_error: 0.0405 - val_binary_crossentropy: 0.5602\n",
      "Epoch 83/500\n",
      "900/900 [==============================] - 0s 34us/step - loss: 0.0026 - acc: 0.0033 - mean_absolute_error: 0.0430 - binary_crossentropy: 0.5617 - val_loss: 0.0037 - val_acc: 0.0000e+00 - val_mean_absolute_error: 0.0521 - val_binary_crossentropy: 0.5632\n",
      "Epoch 84/500\n",
      "900/900 [==============================] - 0s 37us/step - loss: 0.0027 - acc: 0.0033 - mean_absolute_error: 0.0434 - binary_crossentropy: 0.5619 - val_loss: 0.0032 - val_acc: 0.0000e+00 - val_mean_absolute_error: 0.0458 - val_binary_crossentropy: 0.5616\n",
      "Epoch 85/500\n",
      "900/900 [==============================] - 0s 40us/step - loss: 0.0026 - acc: 0.0033 - mean_absolute_error: 0.0422 - binary_crossentropy: 0.5616 - val_loss: 0.0022 - val_acc: 0.0000e+00 - val_mean_absolute_error: 0.0394 - val_binary_crossentropy: 0.5595\n",
      "Epoch 86/500\n",
      "900/900 [==============================] - 0s 33us/step - loss: 0.0032 - acc: 0.0033 - mean_absolute_error: 0.0475 - binary_crossentropy: 0.5628 - val_loss: 0.0021 - val_acc: 0.0000e+00 - val_mean_absolute_error: 0.0387 - val_binary_crossentropy: 0.5593\n",
      "Epoch 87/500\n",
      "900/900 [==============================] - 0s 34us/step - loss: 0.0021 - acc: 0.0033 - mean_absolute_error: 0.0386 - binary_crossentropy: 0.5606 - val_loss: 0.0038 - val_acc: 0.0000e+00 - val_mean_absolute_error: 0.0502 - val_binary_crossentropy: 0.5629\n",
      "Epoch 88/500\n",
      "900/900 [==============================] - 0s 34us/step - loss: 0.0031 - acc: 0.0033 - mean_absolute_error: 0.0466 - binary_crossentropy: 0.5627 - val_loss: 0.0020 - val_acc: 0.0000e+00 - val_mean_absolute_error: 0.0385 - val_binary_crossentropy: 0.5592\n",
      "Epoch 89/500\n",
      "900/900 [==============================] - 0s 35us/step - loss: 0.0022 - acc: 0.0033 - mean_absolute_error: 0.0399 - binary_crossentropy: 0.5608 - val_loss: 0.0036 - val_acc: 0.0000e+00 - val_mean_absolute_error: 0.0487 - val_binary_crossentropy: 0.5625\n",
      "Epoch 90/500\n",
      "900/900 [==============================] - 0s 35us/step - loss: 0.0027 - acc: 0.0033 - mean_absolute_error: 0.0434 - binary_crossentropy: 0.5617 - val_loss: 0.0031 - val_acc: 0.0000e+00 - val_mean_absolute_error: 0.0472 - val_binary_crossentropy: 0.5617\n",
      "Epoch 91/500\n",
      "900/900 [==============================] - 0s 35us/step - loss: 0.0028 - acc: 0.0033 - mean_absolute_error: 0.0447 - binary_crossentropy: 0.5621 - val_loss: 0.0027 - val_acc: 0.0000e+00 - val_mean_absolute_error: 0.0419 - val_binary_crossentropy: 0.5605\n",
      "Epoch 92/500\n",
      "900/900 [==============================] - 0s 34us/step - loss: 0.0024 - acc: 0.0033 - mean_absolute_error: 0.0408 - binary_crossentropy: 0.5610 - val_loss: 0.0029 - val_acc: 0.0000e+00 - val_mean_absolute_error: 0.0455 - val_binary_crossentropy: 0.5611\n"
     ]
    },
    {
     "name": "stdout",
     "output_type": "stream",
     "text": [
      "Epoch 93/500\n",
      "900/900 [==============================] - 0s 38us/step - loss: 0.0027 - acc: 0.0033 - mean_absolute_error: 0.0442 - binary_crossentropy: 0.5618 - val_loss: 0.0020 - val_acc: 0.0000e+00 - val_mean_absolute_error: 0.0376 - val_binary_crossentropy: 0.5591\n",
      "Epoch 94/500\n",
      "900/900 [==============================] - 0s 34us/step - loss: 0.0022 - acc: 0.0033 - mean_absolute_error: 0.0394 - binary_crossentropy: 0.5607 - val_loss: 0.0026 - val_acc: 0.0000e+00 - val_mean_absolute_error: 0.0435 - val_binary_crossentropy: 0.5605\n",
      "Epoch 95/500\n",
      "900/900 [==============================] - 0s 38us/step - loss: 0.0027 - acc: 0.0033 - mean_absolute_error: 0.0438 - binary_crossentropy: 0.5618 - val_loss: 0.0021 - val_acc: 0.0000e+00 - val_mean_absolute_error: 0.0374 - val_binary_crossentropy: 0.5593\n",
      "Epoch 96/500\n",
      "900/900 [==============================] - 0s 38us/step - loss: 0.0024 - acc: 0.0033 - mean_absolute_error: 0.0410 - binary_crossentropy: 0.5611 - val_loss: 0.0022 - val_acc: 0.0000e+00 - val_mean_absolute_error: 0.0380 - val_binary_crossentropy: 0.5595\n",
      "Epoch 97/500\n",
      "900/900 [==============================] - 0s 35us/step - loss: 0.0023 - acc: 0.0033 - mean_absolute_error: 0.0396 - binary_crossentropy: 0.5609 - val_loss: 0.0049 - val_acc: 0.0000e+00 - val_mean_absolute_error: 0.0572 - val_binary_crossentropy: 0.5653\n",
      "Epoch 98/500\n",
      "900/900 [==============================] - 0s 34us/step - loss: 0.0025 - acc: 0.0033 - mean_absolute_error: 0.0410 - binary_crossentropy: 0.5613 - val_loss: 0.0024 - val_acc: 0.0000e+00 - val_mean_absolute_error: 0.0399 - val_binary_crossentropy: 0.5599\n",
      "Epoch 99/500\n",
      "900/900 [==============================] - 0s 34us/step - loss: 0.0023 - acc: 0.0033 - mean_absolute_error: 0.0405 - binary_crossentropy: 0.5609 - val_loss: 0.0048 - val_acc: 0.0000e+00 - val_mean_absolute_error: 0.0590 - val_binary_crossentropy: 0.5655\n",
      "Epoch 100/500\n",
      "900/900 [==============================] - 0s 35us/step - loss: 0.0026 - acc: 0.0033 - mean_absolute_error: 0.0423 - binary_crossentropy: 0.5614 - val_loss: 0.0025 - val_acc: 0.0000e+00 - val_mean_absolute_error: 0.0405 - val_binary_crossentropy: 0.5600\n",
      "Epoch 101/500\n",
      "900/900 [==============================] - 0s 37us/step - loss: 0.0026 - acc: 0.0033 - mean_absolute_error: 0.0423 - binary_crossentropy: 0.5615 - val_loss: 0.0019 - val_acc: 0.0000e+00 - val_mean_absolute_error: 0.0373 - val_binary_crossentropy: 0.5588\n",
      "Epoch 102/500\n",
      "900/900 [==============================] - 0s 36us/step - loss: 0.0022 - acc: 0.0033 - mean_absolute_error: 0.0387 - binary_crossentropy: 0.5605 - val_loss: 0.0022 - val_acc: 0.0000e+00 - val_mean_absolute_error: 0.0378 - val_binary_crossentropy: 0.5593\n",
      "Epoch 103/500\n",
      "900/900 [==============================] - 0s 38us/step - loss: 0.0024 - acc: 0.0033 - mean_absolute_error: 0.0409 - binary_crossentropy: 0.5610 - val_loss: 0.0027 - val_acc: 0.0000e+00 - val_mean_absolute_error: 0.0443 - val_binary_crossentropy: 0.5607\n",
      "Epoch 104/500\n",
      "900/900 [==============================] - 0s 35us/step - loss: 0.0028 - acc: 0.0033 - mean_absolute_error: 0.0439 - binary_crossentropy: 0.5620 - val_loss: 0.0031 - val_acc: 0.0000e+00 - val_mean_absolute_error: 0.0474 - val_binary_crossentropy: 0.5616\n",
      "Epoch 105/500\n",
      "900/900 [==============================] - 0s 35us/step - loss: 0.0019 - acc: 0.0033 - mean_absolute_error: 0.0363 - binary_crossentropy: 0.5599 - val_loss: 0.0023 - val_acc: 0.0000e+00 - val_mean_absolute_error: 0.0409 - val_binary_crossentropy: 0.5598\n",
      "Epoch 106/500\n",
      "900/900 [==============================] - 0s 33us/step - loss: 0.0026 - acc: 0.0033 - mean_absolute_error: 0.0426 - binary_crossentropy: 0.5615 - val_loss: 0.0022 - val_acc: 0.0000e+00 - val_mean_absolute_error: 0.0383 - val_binary_crossentropy: 0.5594\n",
      "Epoch 107/500\n",
      "900/900 [==============================] - 0s 37us/step - loss: 0.0019 - acc: 0.0033 - mean_absolute_error: 0.0357 - binary_crossentropy: 0.5598 - val_loss: 0.0042 - val_acc: 0.0000e+00 - val_mean_absolute_error: 0.0555 - val_binary_crossentropy: 0.5641\n",
      "Epoch 108/500\n",
      "900/900 [==============================] - 0s 39us/step - loss: 0.0023 - acc: 0.0033 - mean_absolute_error: 0.0393 - binary_crossentropy: 0.5608 - val_loss: 0.0018 - val_acc: 0.0000e+00 - val_mean_absolute_error: 0.0360 - val_binary_crossentropy: 0.5584\n",
      "Epoch 109/500\n",
      "900/900 [==============================] - 0s 36us/step - loss: 0.0023 - acc: 0.0033 - mean_absolute_error: 0.0390 - binary_crossentropy: 0.5607 - val_loss: 0.0043 - val_acc: 0.0000e+00 - val_mean_absolute_error: 0.0534 - val_binary_crossentropy: 0.5638\n",
      "Epoch 110/500\n",
      "900/900 [==============================] - 0s 35us/step - loss: 0.0023 - acc: 0.0033 - mean_absolute_error: 0.0392 - binary_crossentropy: 0.5607 - val_loss: 0.0021 - val_acc: 0.0000e+00 - val_mean_absolute_error: 0.0372 - val_binary_crossentropy: 0.5591\n",
      "Epoch 111/500\n",
      "900/900 [==============================] - 0s 38us/step - loss: 0.0023 - acc: 0.0033 - mean_absolute_error: 0.0399 - binary_crossentropy: 0.5607 - val_loss: 0.0026 - val_acc: 0.0000e+00 - val_mean_absolute_error: 0.0432 - val_binary_crossentropy: 0.5604\n",
      "Epoch 112/500\n",
      "900/900 [==============================] - 0s 34us/step - loss: 0.0026 - acc: 0.0033 - mean_absolute_error: 0.0429 - binary_crossentropy: 0.5613 - val_loss: 0.0019 - val_acc: 0.0000e+00 - val_mean_absolute_error: 0.0359 - val_binary_crossentropy: 0.5587\n",
      "Epoch 113/500\n",
      "900/900 [==============================] - 0s 33us/step - loss: 0.0022 - acc: 0.0033 - mean_absolute_error: 0.0388 - binary_crossentropy: 0.5605 - val_loss: 0.0026 - val_acc: 0.0000e+00 - val_mean_absolute_error: 0.0435 - val_binary_crossentropy: 0.5604\n",
      "Epoch 114/500\n",
      "900/900 [==============================] - 0s 40us/step - loss: 0.0021 - acc: 0.0033 - mean_absolute_error: 0.0374 - binary_crossentropy: 0.5602 - val_loss: 0.0020 - val_acc: 0.0000e+00 - val_mean_absolute_error: 0.0363 - val_binary_crossentropy: 0.5589\n",
      "Epoch 115/500\n",
      "900/900 [==============================] - 0s 33us/step - loss: 0.0026 - acc: 0.0033 - mean_absolute_error: 0.0425 - binary_crossentropy: 0.5613 - val_loss: 0.0018 - val_acc: 0.0000e+00 - val_mean_absolute_error: 0.0356 - val_binary_crossentropy: 0.5584\n",
      "Epoch 116/500\n",
      "900/900 [==============================] - 0s 37us/step - loss: 0.0021 - acc: 0.0033 - mean_absolute_error: 0.0379 - binary_crossentropy: 0.5602 - val_loss: 0.0021 - val_acc: 0.0000e+00 - val_mean_absolute_error: 0.0368 - val_binary_crossentropy: 0.5589\n",
      "Epoch 117/500\n",
      "900/900 [==============================] - 0s 35us/step - loss: 0.0021 - acc: 0.0033 - mean_absolute_error: 0.0383 - binary_crossentropy: 0.5602 - val_loss: 0.0024 - val_acc: 0.0000e+00 - val_mean_absolute_error: 0.0416 - val_binary_crossentropy: 0.5599\n",
      "Epoch 118/500\n",
      "900/900 [==============================] - 0s 35us/step - loss: 0.0022 - acc: 0.0033 - mean_absolute_error: 0.0387 - binary_crossentropy: 0.5604 - val_loss: 0.0023 - val_acc: 0.0000e+00 - val_mean_absolute_error: 0.0387 - val_binary_crossentropy: 0.5595\n",
      "Epoch 119/500\n",
      "900/900 [==============================] - 0s 37us/step - loss: 0.0025 - acc: 0.0033 - mean_absolute_error: 0.0409 - binary_crossentropy: 0.5609 - val_loss: 0.0027 - val_acc: 0.0000e+00 - val_mean_absolute_error: 0.0440 - val_binary_crossentropy: 0.5605\n",
      "Epoch 120/500\n",
      "900/900 [==============================] - 0s 36us/step - loss: 0.0019 - acc: 0.0033 - mean_absolute_error: 0.0362 - binary_crossentropy: 0.5598 - val_loss: 0.0030 - val_acc: 0.0000e+00 - val_mean_absolute_error: 0.0445 - val_binary_crossentropy: 0.5609\n",
      "Epoch 121/500\n",
      "900/900 [==============================] - 0s 34us/step - loss: 0.0024 - acc: 0.0033 - mean_absolute_error: 0.0408 - binary_crossentropy: 0.5608 - val_loss: 0.0020 - val_acc: 0.0000e+00 - val_mean_absolute_error: 0.0377 - val_binary_crossentropy: 0.5588\n",
      "Epoch 122/500\n",
      "900/900 [==============================] - 0s 40us/step - loss: 0.0022 - acc: 0.0033 - mean_absolute_error: 0.0399 - binary_crossentropy: 0.5605 - val_loss: 0.0024 - val_acc: 0.0000e+00 - val_mean_absolute_error: 0.0393 - val_binary_crossentropy: 0.5596\n",
      "Epoch 123/500\n",
      "900/900 [==============================] - 0s 36us/step - loss: 0.0018 - acc: 0.0033 - mean_absolute_error: 0.0349 - binary_crossentropy: 0.5596 - val_loss: 0.0024 - val_acc: 0.0000e+00 - val_mean_absolute_error: 0.0414 - val_binary_crossentropy: 0.5598\n"
     ]
    },
    {
     "name": "stdout",
     "output_type": "stream",
     "text": [
      "Epoch 124/500\n",
      "900/900 [==============================] - 0s 34us/step - loss: 0.0025 - acc: 0.0033 - mean_absolute_error: 0.0417 - binary_crossentropy: 0.5612 - val_loss: 0.0017 - val_acc: 0.0000e+00 - val_mean_absolute_error: 0.0345 - val_binary_crossentropy: 0.5582\n",
      "Epoch 125/500\n",
      "900/900 [==============================] - 0s 38us/step - loss: 0.0019 - acc: 0.0033 - mean_absolute_error: 0.0367 - binary_crossentropy: 0.5598 - val_loss: 0.0021 - val_acc: 0.0000e+00 - val_mean_absolute_error: 0.0367 - val_binary_crossentropy: 0.5589\n",
      "Epoch 126/500\n",
      "900/900 [==============================] - 0s 39us/step - loss: 0.0022 - acc: 0.0033 - mean_absolute_error: 0.0394 - binary_crossentropy: 0.5605 - val_loss: 0.0017 - val_acc: 0.0000e+00 - val_mean_absolute_error: 0.0342 - val_binary_crossentropy: 0.5581\n",
      "Epoch 127/500\n",
      "900/900 [==============================] - 0s 34us/step - loss: 0.0023 - acc: 0.0033 - mean_absolute_error: 0.0391 - binary_crossentropy: 0.5605 - val_loss: 0.0018 - val_acc: 0.0000e+00 - val_mean_absolute_error: 0.0349 - val_binary_crossentropy: 0.5584\n",
      "Epoch 128/500\n",
      "900/900 [==============================] - 0s 33us/step - loss: 0.0020 - acc: 0.0033 - mean_absolute_error: 0.0365 - binary_crossentropy: 0.5599 - val_loss: 0.0021 - val_acc: 0.0000e+00 - val_mean_absolute_error: 0.0388 - val_binary_crossentropy: 0.5591\n",
      "Epoch 129/500\n",
      "900/900 [==============================] - 0s 32us/step - loss: 0.0020 - acc: 0.0033 - mean_absolute_error: 0.0359 - binary_crossentropy: 0.5598 - val_loss: 0.0016 - val_acc: 0.0000e+00 - val_mean_absolute_error: 0.0338 - val_binary_crossentropy: 0.5580\n",
      "Epoch 130/500\n",
      "900/900 [==============================] - 0s 36us/step - loss: 0.0025 - acc: 0.0033 - mean_absolute_error: 0.0406 - binary_crossentropy: 0.5610 - val_loss: 0.0017 - val_acc: 0.0000e+00 - val_mean_absolute_error: 0.0349 - val_binary_crossentropy: 0.5583\n",
      "Epoch 131/500\n",
      "900/900 [==============================] - 0s 34us/step - loss: 0.0016 - acc: 0.0033 - mean_absolute_error: 0.0321 - binary_crossentropy: 0.5590 - val_loss: 0.0020 - val_acc: 0.0000e+00 - val_mean_absolute_error: 0.0383 - val_binary_crossentropy: 0.5590\n",
      "Epoch 132/500\n",
      "900/900 [==============================] - 0s 35us/step - loss: 0.0022 - acc: 0.0033 - mean_absolute_error: 0.0390 - binary_crossentropy: 0.5603 - val_loss: 0.0016 - val_acc: 0.0000e+00 - val_mean_absolute_error: 0.0331 - val_binary_crossentropy: 0.5579\n",
      "Epoch 133/500\n",
      "900/900 [==============================] - 0s 37us/step - loss: 0.0021 - acc: 0.0033 - mean_absolute_error: 0.0368 - binary_crossentropy: 0.5600 - val_loss: 0.0023 - val_acc: 0.0000e+00 - val_mean_absolute_error: 0.0408 - val_binary_crossentropy: 0.5595\n",
      "Epoch 134/500\n",
      "900/900 [==============================] - 0s 37us/step - loss: 0.0022 - acc: 0.0033 - mean_absolute_error: 0.0392 - binary_crossentropy: 0.5603 - val_loss: 0.0025 - val_acc: 0.0000e+00 - val_mean_absolute_error: 0.0408 - val_binary_crossentropy: 0.5598\n",
      "Epoch 135/500\n",
      "900/900 [==============================] - 0s 36us/step - loss: 0.0021 - acc: 0.0033 - mean_absolute_error: 0.0375 - binary_crossentropy: 0.5600 - val_loss: 0.0017 - val_acc: 0.0000e+00 - val_mean_absolute_error: 0.0347 - val_binary_crossentropy: 0.5582\n",
      "Epoch 136/500\n",
      "900/900 [==============================] - 0s 41us/step - loss: 0.0023 - acc: 0.0033 - mean_absolute_error: 0.0394 - binary_crossentropy: 0.5606 - val_loss: 0.0020 - val_acc: 0.0000e+00 - val_mean_absolute_error: 0.0358 - val_binary_crossentropy: 0.5587\n",
      "Epoch 137/500\n",
      "900/900 [==============================] - 0s 39us/step - loss: 0.0016 - acc: 0.0033 - mean_absolute_error: 0.0323 - binary_crossentropy: 0.5589 - val_loss: 0.0024 - val_acc: 0.0000e+00 - val_mean_absolute_error: 0.0414 - val_binary_crossentropy: 0.5599\n",
      "Epoch 138/500\n",
      "900/900 [==============================] - 0s 37us/step - loss: 0.0024 - acc: 0.0033 - mean_absolute_error: 0.0411 - binary_crossentropy: 0.5609 - val_loss: 0.0019 - val_acc: 0.0000e+00 - val_mean_absolute_error: 0.0356 - val_binary_crossentropy: 0.5586\n",
      "Epoch 139/500\n",
      "900/900 [==============================] - 0s 39us/step - loss: 0.0015 - acc: 0.0033 - mean_absolute_error: 0.0311 - binary_crossentropy: 0.5588 - val_loss: 0.0020 - val_acc: 0.0000e+00 - val_mean_absolute_error: 0.0377 - val_binary_crossentropy: 0.5589\n",
      "Epoch 140/500\n",
      "900/900 [==============================] - 0s 39us/step - loss: 0.0026 - acc: 0.0033 - mean_absolute_error: 0.0411 - binary_crossentropy: 0.5611 - val_loss: 0.0021 - val_acc: 0.0000e+00 - val_mean_absolute_error: 0.0370 - val_binary_crossentropy: 0.5589\n",
      "Epoch 141/500\n",
      "900/900 [==============================] - 0s 38us/step - loss: 0.0018 - acc: 0.0033 - mean_absolute_error: 0.0338 - binary_crossentropy: 0.5593 - val_loss: 0.0025 - val_acc: 0.0000e+00 - val_mean_absolute_error: 0.0417 - val_binary_crossentropy: 0.5599\n",
      "Epoch 142/500\n",
      "900/900 [==============================] - 0s 41us/step - loss: 0.0016 - acc: 0.0033 - mean_absolute_error: 0.0327 - binary_crossentropy: 0.5590 - val_loss: 0.0018 - val_acc: 0.0000e+00 - val_mean_absolute_error: 0.0345 - val_binary_crossentropy: 0.5582\n",
      "Epoch 143/500\n",
      "900/900 [==============================] - 0s 42us/step - loss: 0.0026 - acc: 0.0033 - mean_absolute_error: 0.0413 - binary_crossentropy: 0.5611 - val_loss: 0.0016 - val_acc: 0.0000e+00 - val_mean_absolute_error: 0.0323 - val_binary_crossentropy: 0.5577\n",
      "Epoch 144/500\n",
      "900/900 [==============================] - 0s 49us/step - loss: 0.0014 - acc: 0.0033 - mean_absolute_error: 0.0300 - binary_crossentropy: 0.5585 - val_loss: 0.0015 - val_acc: 0.0000e+00 - val_mean_absolute_error: 0.0318 - val_binary_crossentropy: 0.5575\n",
      "Epoch 145/500\n",
      "900/900 [==============================] - 0s 38us/step - loss: 0.0024 - acc: 0.0033 - mean_absolute_error: 0.0402 - binary_crossentropy: 0.5607 - val_loss: 0.0015 - val_acc: 0.0000e+00 - val_mean_absolute_error: 0.0320 - val_binary_crossentropy: 0.5576\n",
      "Epoch 146/500\n",
      "900/900 [==============================] - 0s 37us/step - loss: 0.0020 - acc: 0.0033 - mean_absolute_error: 0.0364 - binary_crossentropy: 0.5598 - val_loss: 0.0021 - val_acc: 0.0000e+00 - val_mean_absolute_error: 0.0370 - val_binary_crossentropy: 0.5588\n",
      "Epoch 147/500\n",
      "900/900 [==============================] - 0s 48us/step - loss: 0.0016 - acc: 0.0033 - mean_absolute_error: 0.0322 - binary_crossentropy: 0.5588 - val_loss: 0.0019 - val_acc: 0.0000e+00 - val_mean_absolute_error: 0.0361 - val_binary_crossentropy: 0.5584\n",
      "Epoch 148/500\n",
      "900/900 [==============================] - 0s 38us/step - loss: 0.0022 - acc: 0.0033 - mean_absolute_error: 0.0373 - binary_crossentropy: 0.5602 - val_loss: 0.0016 - val_acc: 0.0000e+00 - val_mean_absolute_error: 0.0324 - val_binary_crossentropy: 0.5578\n",
      "Epoch 149/500\n",
      "900/900 [==============================] - 0s 36us/step - loss: 0.0022 - acc: 0.0033 - mean_absolute_error: 0.0381 - binary_crossentropy: 0.5601 - val_loss: 0.0024 - val_acc: 0.0000e+00 - val_mean_absolute_error: 0.0419 - val_binary_crossentropy: 0.5597\n",
      "Epoch 150/500\n",
      "900/900 [==============================] - 0s 39us/step - loss: 0.0016 - acc: 0.0033 - mean_absolute_error: 0.0320 - binary_crossentropy: 0.5589 - val_loss: 0.0016 - val_acc: 0.0000e+00 - val_mean_absolute_error: 0.0331 - val_binary_crossentropy: 0.5578\n",
      "Epoch 151/500\n",
      "900/900 [==============================] - 0s 35us/step - loss: 0.0023 - acc: 0.0033 - mean_absolute_error: 0.0389 - binary_crossentropy: 0.5605 - val_loss: 0.0015 - val_acc: 0.0000e+00 - val_mean_absolute_error: 0.0321 - val_binary_crossentropy: 0.5576\n",
      "Epoch 152/500\n",
      "900/900 [==============================] - 0s 45us/step - loss: 0.0019 - acc: 0.0033 - mean_absolute_error: 0.0349 - binary_crossentropy: 0.5595 - val_loss: 0.0030 - val_acc: 0.0000e+00 - val_mean_absolute_error: 0.0457 - val_binary_crossentropy: 0.5609\n",
      "Epoch 153/500\n",
      "900/900 [==============================] - 0s 37us/step - loss: 0.0019 - acc: 0.0033 - mean_absolute_error: 0.0349 - binary_crossentropy: 0.5595 - val_loss: 0.0015 - val_acc: 0.0000e+00 - val_mean_absolute_error: 0.0319 - val_binary_crossentropy: 0.5576\n",
      "Epoch 154/500\n"
     ]
    },
    {
     "name": "stdout",
     "output_type": "stream",
     "text": [
      "900/900 [==============================] - 0s 40us/step - loss: 0.0020 - acc: 0.0033 - mean_absolute_error: 0.0369 - binary_crossentropy: 0.5598 - val_loss: 0.0015 - val_acc: 0.0000e+00 - val_mean_absolute_error: 0.0317 - val_binary_crossentropy: 0.5575\n",
      "Epoch 155/500\n",
      "900/900 [==============================] - 0s 38us/step - loss: 0.0021 - acc: 0.0033 - mean_absolute_error: 0.0355 - binary_crossentropy: 0.5598 - val_loss: 0.0029 - val_acc: 0.0000e+00 - val_mean_absolute_error: 0.0440 - val_binary_crossentropy: 0.5606\n",
      "Epoch 156/500\n",
      "900/900 [==============================] - 0s 44us/step - loss: 0.0016 - acc: 0.0033 - mean_absolute_error: 0.0320 - binary_crossentropy: 0.5589 - val_loss: 0.0019 - val_acc: 0.0000e+00 - val_mean_absolute_error: 0.0354 - val_binary_crossentropy: 0.5584\n",
      "Epoch 157/500\n",
      "900/900 [==============================] - 0s 33us/step - loss: 0.0019 - acc: 0.0033 - mean_absolute_error: 0.0358 - binary_crossentropy: 0.5596 - val_loss: 0.0014 - val_acc: 0.0000e+00 - val_mean_absolute_error: 0.0311 - val_binary_crossentropy: 0.5574\n",
      "Epoch 158/500\n",
      "900/900 [==============================] - 0s 39us/step - loss: 0.0020 - acc: 0.0033 - mean_absolute_error: 0.0360 - binary_crossentropy: 0.5597 - val_loss: 0.0016 - val_acc: 0.0000e+00 - val_mean_absolute_error: 0.0321 - val_binary_crossentropy: 0.5576\n",
      "Epoch 159/500\n",
      "900/900 [==============================] - 0s 35us/step - loss: 0.0021 - acc: 0.0033 - mean_absolute_error: 0.0384 - binary_crossentropy: 0.5599 - val_loss: 0.0016 - val_acc: 0.0000e+00 - val_mean_absolute_error: 0.0339 - val_binary_crossentropy: 0.5578\n",
      "Epoch 160/500\n",
      "900/900 [==============================] - 0s 33us/step - loss: 0.0018 - acc: 0.0033 - mean_absolute_error: 0.0349 - binary_crossentropy: 0.5594 - val_loss: 0.0027 - val_acc: 0.0000e+00 - val_mean_absolute_error: 0.0422 - val_binary_crossentropy: 0.5602\n",
      "Epoch 161/500\n",
      "900/900 [==============================] - 0s 34us/step - loss: 0.0018 - acc: 0.0033 - mean_absolute_error: 0.0344 - binary_crossentropy: 0.5593 - val_loss: 0.0021 - val_acc: 0.0000e+00 - val_mean_absolute_error: 0.0384 - val_binary_crossentropy: 0.5589\n",
      "Epoch 162/500\n",
      "900/900 [==============================] - 0s 37us/step - loss: 0.0021 - acc: 0.0033 - mean_absolute_error: 0.0378 - binary_crossentropy: 0.5600 - val_loss: 0.0016 - val_acc: 0.0000e+00 - val_mean_absolute_error: 0.0317 - val_binary_crossentropy: 0.5576\n",
      "Epoch 163/500\n",
      "900/900 [==============================] - 0s 38us/step - loss: 0.0018 - acc: 0.0033 - mean_absolute_error: 0.0333 - binary_crossentropy: 0.5591 - val_loss: 0.0025 - val_acc: 0.0000e+00 - val_mean_absolute_error: 0.0424 - val_binary_crossentropy: 0.5599\n",
      "Epoch 164/500\n",
      "900/900 [==============================] - 0s 31us/step - loss: 0.0019 - acc: 0.0033 - mean_absolute_error: 0.0356 - binary_crossentropy: 0.5594 - val_loss: 0.0021 - val_acc: 0.0000e+00 - val_mean_absolute_error: 0.0368 - val_binary_crossentropy: 0.5586\n",
      "Epoch 165/500\n",
      "900/900 [==============================] - 0s 37us/step - loss: 0.0021 - acc: 0.0033 - mean_absolute_error: 0.0376 - binary_crossentropy: 0.5599 - val_loss: 0.0017 - val_acc: 0.0000e+00 - val_mean_absolute_error: 0.0340 - val_binary_crossentropy: 0.5579\n",
      "Epoch 166/500\n",
      "900/900 [==============================] - 0s 34us/step - loss: 0.0022 - acc: 0.0033 - mean_absolute_error: 0.0388 - binary_crossentropy: 0.5602 - val_loss: 0.0030 - val_acc: 0.0000e+00 - val_mean_absolute_error: 0.0446 - val_binary_crossentropy: 0.5607\n",
      "Epoch 167/500\n",
      "900/900 [==============================] - 0s 36us/step - loss: 0.0018 - acc: 0.0033 - mean_absolute_error: 0.0343 - binary_crossentropy: 0.5592 - val_loss: 0.0015 - val_acc: 0.0000e+00 - val_mean_absolute_error: 0.0315 - val_binary_crossentropy: 0.5574\n",
      "Epoch 168/500\n",
      "900/900 [==============================] - 0s 35us/step - loss: 0.0018 - acc: 0.0033 - mean_absolute_error: 0.0342 - binary_crossentropy: 0.5593 - val_loss: 0.0020 - val_acc: 0.0000e+00 - val_mean_absolute_error: 0.0360 - val_binary_crossentropy: 0.5585\n",
      "Epoch 169/500\n",
      "900/900 [==============================] - 0s 35us/step - loss: 0.0019 - acc: 0.0033 - mean_absolute_error: 0.0356 - binary_crossentropy: 0.5594 - val_loss: 0.0018 - val_acc: 0.0000e+00 - val_mean_absolute_error: 0.0357 - val_binary_crossentropy: 0.5583\n",
      "Epoch 170/500\n",
      "900/900 [==============================] - 0s 32us/step - loss: 0.0022 - acc: 0.0033 - mean_absolute_error: 0.0391 - binary_crossentropy: 0.5602 - val_loss: 0.0016 - val_acc: 0.0000e+00 - val_mean_absolute_error: 0.0328 - val_binary_crossentropy: 0.5578\n",
      "Epoch 171/500\n",
      "900/900 [==============================] - 0s 35us/step - loss: 0.0014 - acc: 0.0033 - mean_absolute_error: 0.0298 - binary_crossentropy: 0.5584 - val_loss: 0.0035 - val_acc: 0.0000e+00 - val_mean_absolute_error: 0.0495 - val_binary_crossentropy: 0.5620\n",
      "Epoch 172/500\n",
      "900/900 [==============================] - 0s 32us/step - loss: 0.0020 - acc: 0.0033 - mean_absolute_error: 0.0357 - binary_crossentropy: 0.5597 - val_loss: 0.0016 - val_acc: 0.0000e+00 - val_mean_absolute_error: 0.0316 - val_binary_crossentropy: 0.5575\n",
      "Epoch 173/500\n",
      "900/900 [==============================] - 0s 33us/step - loss: 0.0020 - acc: 0.0033 - mean_absolute_error: 0.0366 - binary_crossentropy: 0.5597 - val_loss: 0.0014 - val_acc: 0.0000e+00 - val_mean_absolute_error: 0.0309 - val_binary_crossentropy: 0.5573\n",
      "Epoch 174/500\n",
      "900/900 [==============================] - 0s 35us/step - loss: 0.0019 - acc: 0.0033 - mean_absolute_error: 0.0352 - binary_crossentropy: 0.5594 - val_loss: 0.0030 - val_acc: 0.0000e+00 - val_mean_absolute_error: 0.0457 - val_binary_crossentropy: 0.5609\n",
      "Epoch 175/500\n",
      "900/900 [==============================] - 0s 33us/step - loss: 0.0015 - acc: 0.0033 - mean_absolute_error: 0.0303 - binary_crossentropy: 0.5586 - val_loss: 0.0015 - val_acc: 0.0000e+00 - val_mean_absolute_error: 0.0320 - val_binary_crossentropy: 0.5575\n",
      "Epoch 176/500\n",
      "900/900 [==============================] - 0s 36us/step - loss: 0.0022 - acc: 0.0033 - mean_absolute_error: 0.0371 - binary_crossentropy: 0.5602 - val_loss: 0.0014 - val_acc: 0.0000e+00 - val_mean_absolute_error: 0.0303 - val_binary_crossentropy: 0.5572\n",
      "Epoch 177/500\n",
      "900/900 [==============================] - 0s 37us/step - loss: 0.0016 - acc: 0.0033 - mean_absolute_error: 0.0315 - binary_crossentropy: 0.5586 - val_loss: 0.0026 - val_acc: 0.0000e+00 - val_mean_absolute_error: 0.0426 - val_binary_crossentropy: 0.5600\n",
      "Epoch 178/500\n",
      "900/900 [==============================] - 0s 38us/step - loss: 0.0022 - acc: 0.0033 - mean_absolute_error: 0.0389 - binary_crossentropy: 0.5601 - val_loss: 0.0015 - val_acc: 0.0000e+00 - val_mean_absolute_error: 0.0314 - val_binary_crossentropy: 0.5574\n",
      "Epoch 179/500\n",
      "900/900 [==============================] - 0s 34us/step - loss: 0.0018 - acc: 0.0033 - mean_absolute_error: 0.0350 - binary_crossentropy: 0.5593 - val_loss: 0.0015 - val_acc: 0.0000e+00 - val_mean_absolute_error: 0.0319 - val_binary_crossentropy: 0.5574\n",
      "Epoch 180/500\n",
      "900/900 [==============================] - 0s 35us/step - loss: 0.0015 - acc: 0.0033 - mean_absolute_error: 0.0317 - binary_crossentropy: 0.5586 - val_loss: 0.0016 - val_acc: 0.0000e+00 - val_mean_absolute_error: 0.0316 - val_binary_crossentropy: 0.5575\n",
      "Epoch 181/500\n",
      "900/900 [==============================] - 0s 41us/step - loss: 0.0024 - acc: 0.0033 - mean_absolute_error: 0.0396 - binary_crossentropy: 0.5605 - val_loss: 0.0014 - val_acc: 0.0000e+00 - val_mean_absolute_error: 0.0309 - val_binary_crossentropy: 0.5573\n",
      "Epoch 182/500\n",
      "900/900 [==============================] - 0s 36us/step - loss: 0.0013 - acc: 0.0033 - mean_absolute_error: 0.0289 - binary_crossentropy: 0.5582 - val_loss: 0.0021 - val_acc: 0.0000e+00 - val_mean_absolute_error: 0.0367 - val_binary_crossentropy: 0.5585\n",
      "Epoch 183/500\n",
      "900/900 [==============================] - 0s 34us/step - loss: 0.0023 - acc: 0.0033 - mean_absolute_error: 0.0398 - binary_crossentropy: 0.5604 - val_loss: 0.0014 - val_acc: 0.0000e+00 - val_mean_absolute_error: 0.0302 - val_binary_crossentropy: 0.5572\n",
      "Epoch 184/500\n",
      "900/900 [==============================] - 0s 58us/step - loss: 0.0016 - acc: 0.0033 - mean_absolute_error: 0.0312 - binary_crossentropy: 0.5587 - val_loss: 0.0030 - val_acc: 0.0000e+00 - val_mean_absolute_error: 0.0461 - val_binary_crossentropy: 0.5609\n"
     ]
    },
    {
     "name": "stdout",
     "output_type": "stream",
     "text": [
      "Epoch 185/500\n",
      "900/900 [==============================] - 0s 46us/step - loss: 0.0020 - acc: 0.0033 - mean_absolute_error: 0.0360 - binary_crossentropy: 0.5596 - val_loss: 0.0014 - val_acc: 0.0000e+00 - val_mean_absolute_error: 0.0303 - val_binary_crossentropy: 0.5572\n",
      "Epoch 186/500\n",
      "900/900 [==============================] - 0s 120us/step - loss: 0.0020 - acc: 0.0033 - mean_absolute_error: 0.0362 - binary_crossentropy: 0.5596 - val_loss: 0.0014 - val_acc: 0.0000e+00 - val_mean_absolute_error: 0.0316 - val_binary_crossentropy: 0.5573\n",
      "Epoch 187/500\n",
      "900/900 [==============================] - 0s 89us/step - loss: 0.0017 - acc: 0.0033 - mean_absolute_error: 0.0331 - binary_crossentropy: 0.5589 - val_loss: 0.0028 - val_acc: 0.0000e+00 - val_mean_absolute_error: 0.0432 - val_binary_crossentropy: 0.5603\n",
      "Epoch 188/500\n",
      "900/900 [==============================] - 0s 47us/step - loss: 0.0019 - acc: 0.0033 - mean_absolute_error: 0.0359 - binary_crossentropy: 0.5595 - val_loss: 0.0015 - val_acc: 0.0000e+00 - val_mean_absolute_error: 0.0312 - val_binary_crossentropy: 0.5574\n",
      "Epoch 189/500\n",
      "900/900 [==============================] - 0s 41us/step - loss: 0.0019 - acc: 0.0033 - mean_absolute_error: 0.0334 - binary_crossentropy: 0.5593 - val_loss: 0.0035 - val_acc: 0.0000e+00 - val_mean_absolute_error: 0.0495 - val_binary_crossentropy: 0.5619\n",
      "Epoch 190/500\n",
      "900/900 [==============================] - 0s 46us/step - loss: 0.0018 - acc: 0.0033 - mean_absolute_error: 0.0332 - binary_crossentropy: 0.5592 - val_loss: 0.0014 - val_acc: 0.0000e+00 - val_mean_absolute_error: 0.0298 - val_binary_crossentropy: 0.5571\n",
      "Epoch 191/500\n",
      "900/900 [==============================] - 0s 37us/step - loss: 0.0020 - acc: 0.0033 - mean_absolute_error: 0.0355 - binary_crossentropy: 0.5595 - val_loss: 0.0014 - val_acc: 0.0000e+00 - val_mean_absolute_error: 0.0303 - val_binary_crossentropy: 0.5571\n",
      "Epoch 192/500\n",
      "900/900 [==============================] - 0s 39us/step - loss: 0.0019 - acc: 0.0033 - mean_absolute_error: 0.0352 - binary_crossentropy: 0.5594 - val_loss: 0.0015 - val_acc: 0.0000e+00 - val_mean_absolute_error: 0.0313 - val_binary_crossentropy: 0.5574\n",
      "Epoch 193/500\n",
      "900/900 [==============================] - 0s 41us/step - loss: 0.0019 - acc: 0.0033 - mean_absolute_error: 0.0352 - binary_crossentropy: 0.5595 - val_loss: 0.0015 - val_acc: 0.0000e+00 - val_mean_absolute_error: 0.0324 - val_binary_crossentropy: 0.5575\n",
      "Epoch 194/500\n",
      "900/900 [==============================] - 0s 46us/step - loss: 0.0016 - acc: 0.0033 - mean_absolute_error: 0.0326 - binary_crossentropy: 0.5587 - val_loss: 0.0031 - val_acc: 0.0000e+00 - val_mean_absolute_error: 0.0451 - val_binary_crossentropy: 0.5607\n",
      "Epoch 195/500\n",
      "900/900 [==============================] - 0s 40us/step - loss: 0.0019 - acc: 0.0033 - mean_absolute_error: 0.0355 - binary_crossentropy: 0.5594 - val_loss: 0.0014 - val_acc: 0.0000e+00 - val_mean_absolute_error: 0.0303 - val_binary_crossentropy: 0.5572\n",
      "Epoch 196/500\n",
      "900/900 [==============================] - 0s 40us/step - loss: 0.0019 - acc: 0.0033 - mean_absolute_error: 0.0352 - binary_crossentropy: 0.5593 - val_loss: 0.0018 - val_acc: 0.0000e+00 - val_mean_absolute_error: 0.0357 - val_binary_crossentropy: 0.5581\n",
      "Epoch 197/500\n",
      "900/900 [==============================] - 0s 45us/step - loss: 0.0022 - acc: 0.0033 - mean_absolute_error: 0.0380 - binary_crossentropy: 0.5600 - val_loss: 0.0017 - val_acc: 0.0000e+00 - val_mean_absolute_error: 0.0323 - val_binary_crossentropy: 0.5577\n",
      "Epoch 198/500\n",
      "900/900 [==============================] - 0s 40us/step - loss: 0.0014 - acc: 0.0033 - mean_absolute_error: 0.0290 - binary_crossentropy: 0.5582 - val_loss: 0.0036 - val_acc: 0.0000e+00 - val_mean_absolute_error: 0.0503 - val_binary_crossentropy: 0.5622\n",
      "Epoch 199/500\n",
      "900/900 [==============================] - 0s 38us/step - loss: 0.0022 - acc: 0.0033 - mean_absolute_error: 0.0391 - binary_crossentropy: 0.5601 - val_loss: 0.0024 - val_acc: 0.0000e+00 - val_mean_absolute_error: 0.0392 - val_binary_crossentropy: 0.5592\n",
      "Epoch 200/500\n",
      "900/900 [==============================] - 0s 42us/step - loss: 0.0016 - acc: 0.0033 - mean_absolute_error: 0.0323 - binary_crossentropy: 0.5587 - val_loss: 0.0015 - val_acc: 0.0000e+00 - val_mean_absolute_error: 0.0313 - val_binary_crossentropy: 0.5574\n",
      "Epoch 201/500\n",
      "900/900 [==============================] - 0s 41us/step - loss: 0.0018 - acc: 0.0033 - mean_absolute_error: 0.0348 - binary_crossentropy: 0.5591 - val_loss: 0.0036 - val_acc: 0.0000e+00 - val_mean_absolute_error: 0.0507 - val_binary_crossentropy: 0.5623\n",
      "Epoch 202/500\n",
      "900/900 [==============================] - 0s 39us/step - loss: 0.0019 - acc: 0.0033 - mean_absolute_error: 0.0351 - binary_crossentropy: 0.5594 - val_loss: 0.0026 - val_acc: 0.0000e+00 - val_mean_absolute_error: 0.0413 - val_binary_crossentropy: 0.5597\n",
      "Epoch 203/500\n",
      "900/900 [==============================] - 0s 40us/step - loss: 0.0016 - acc: 0.0033 - mean_absolute_error: 0.0325 - binary_crossentropy: 0.5588 - val_loss: 0.0015 - val_acc: 0.0000e+00 - val_mean_absolute_error: 0.0308 - val_binary_crossentropy: 0.5572\n",
      "Epoch 204/500\n",
      "900/900 [==============================] - 0s 46us/step - loss: 0.0022 - acc: 0.0033 - mean_absolute_error: 0.0387 - binary_crossentropy: 0.5601 - val_loss: 0.0014 - val_acc: 0.0000e+00 - val_mean_absolute_error: 0.0307 - val_binary_crossentropy: 0.5572\n",
      "Epoch 205/500\n",
      "900/900 [==============================] - 0s 40us/step - loss: 0.0016 - acc: 0.0033 - mean_absolute_error: 0.0318 - binary_crossentropy: 0.5586 - val_loss: 0.0020 - val_acc: 0.0000e+00 - val_mean_absolute_error: 0.0363 - val_binary_crossentropy: 0.5584\n",
      "Epoch 206/500\n",
      "900/900 [==============================] - 0s 46us/step - loss: 0.0019 - acc: 0.0033 - mean_absolute_error: 0.0367 - binary_crossentropy: 0.5595 - val_loss: 0.0030 - val_acc: 0.0000e+00 - val_mean_absolute_error: 0.0456 - val_binary_crossentropy: 0.5608\n",
      "Epoch 207/500\n",
      "900/900 [==============================] - 0s 36us/step - loss: 0.0017 - acc: 0.0033 - mean_absolute_error: 0.0328 - binary_crossentropy: 0.5590 - val_loss: 0.0014 - val_acc: 0.0000e+00 - val_mean_absolute_error: 0.0311 - val_binary_crossentropy: 0.5573\n",
      "Epoch 208/500\n",
      "900/900 [==============================] - 0s 39us/step - loss: 0.0019 - acc: 0.0033 - mean_absolute_error: 0.0359 - binary_crossentropy: 0.5596 - val_loss: 0.0014 - val_acc: 0.0000e+00 - val_mean_absolute_error: 0.0297 - val_binary_crossentropy: 0.5571\n",
      "Epoch 209/500\n",
      "900/900 [==============================] - 0s 39us/step - loss: 0.0018 - acc: 0.0033 - mean_absolute_error: 0.0343 - binary_crossentropy: 0.5592 - val_loss: 0.0017 - val_acc: 0.0000e+00 - val_mean_absolute_error: 0.0336 - val_binary_crossentropy: 0.5578\n",
      "Epoch 210/500\n",
      "900/900 [==============================] - 0s 38us/step - loss: 0.0016 - acc: 0.0033 - mean_absolute_error: 0.0328 - binary_crossentropy: 0.5587 - val_loss: 0.0019 - val_acc: 0.0000e+00 - val_mean_absolute_error: 0.0370 - val_binary_crossentropy: 0.5585\n",
      "Epoch 211/500\n",
      "900/900 [==============================] - 0s 38us/step - loss: 0.0019 - acc: 0.0033 - mean_absolute_error: 0.0351 - binary_crossentropy: 0.5594 - val_loss: 0.0014 - val_acc: 0.0000e+00 - val_mean_absolute_error: 0.0296 - val_binary_crossentropy: 0.5571\n",
      "Epoch 212/500\n",
      "900/900 [==============================] - 0s 47us/step - loss: 0.0019 - acc: 0.0033 - mean_absolute_error: 0.0343 - binary_crossentropy: 0.5592 - val_loss: 0.0023 - val_acc: 0.0000e+00 - val_mean_absolute_error: 0.0406 - val_binary_crossentropy: 0.5592\n",
      "Epoch 213/500\n",
      "900/900 [==============================] - 0s 38us/step - loss: 0.0017 - acc: 0.0033 - mean_absolute_error: 0.0336 - binary_crossentropy: 0.5589 - val_loss: 0.0031 - val_acc: 0.0000e+00 - val_mean_absolute_error: 0.0452 - val_binary_crossentropy: 0.5607\n",
      "Epoch 214/500\n",
      "900/900 [==============================] - 0s 39us/step - loss: 0.0016 - acc: 0.0033 - mean_absolute_error: 0.0327 - binary_crossentropy: 0.5588 - val_loss: 0.0029 - val_acc: 0.0000e+00 - val_mean_absolute_error: 0.0449 - val_binary_crossentropy: 0.5605\n",
      "Epoch 215/500\n"
     ]
    },
    {
     "name": "stdout",
     "output_type": "stream",
     "text": [
      "900/900 [==============================] - 0s 47us/step - loss: 0.0020 - acc: 0.0033 - mean_absolute_error: 0.0375 - binary_crossentropy: 0.5597 - val_loss: 0.0015 - val_acc: 0.0000e+00 - val_mean_absolute_error: 0.0311 - val_binary_crossentropy: 0.5573\n",
      "Epoch 216/500\n",
      "900/900 [==============================] - 0s 76us/step - loss: 0.0013 - acc: 0.0033 - mean_absolute_error: 0.0277 - binary_crossentropy: 0.5579 - val_loss: 0.0037 - val_acc: 0.0000e+00 - val_mean_absolute_error: 0.0494 - val_binary_crossentropy: 0.5619\n",
      "Epoch 217/500\n",
      "900/900 [==============================] - 0s 51us/step - loss: 0.0021 - acc: 0.0033 - mean_absolute_error: 0.0364 - binary_crossentropy: 0.5599 - val_loss: 0.0014 - val_acc: 0.0000e+00 - val_mean_absolute_error: 0.0306 - val_binary_crossentropy: 0.5571\n",
      "Epoch 218/500\n",
      "900/900 [==============================] - 0s 53us/step - loss: 0.0019 - acc: 0.0033 - mean_absolute_error: 0.0361 - binary_crossentropy: 0.5594 - val_loss: 0.0021 - val_acc: 0.0000e+00 - val_mean_absolute_error: 0.0367 - val_binary_crossentropy: 0.5585\n",
      "Epoch 219/500\n",
      "900/900 [==============================] - 0s 49us/step - loss: 0.0019 - acc: 0.0033 - mean_absolute_error: 0.0361 - binary_crossentropy: 0.5594 - val_loss: 0.0015 - val_acc: 0.0000e+00 - val_mean_absolute_error: 0.0323 - val_binary_crossentropy: 0.5574\n",
      "Epoch 220/500\n",
      "900/900 [==============================] - 0s 41us/step - loss: 0.0014 - acc: 0.0033 - mean_absolute_error: 0.0301 - binary_crossentropy: 0.5582 - val_loss: 0.0016 - val_acc: 0.0000e+00 - val_mean_absolute_error: 0.0323 - val_binary_crossentropy: 0.5575\n",
      "Epoch 221/500\n",
      "900/900 [==============================] - 0s 48us/step - loss: 0.0021 - acc: 0.0033 - mean_absolute_error: 0.0356 - binary_crossentropy: 0.5597 - val_loss: 0.0014 - val_acc: 0.0000e+00 - val_mean_absolute_error: 0.0300 - val_binary_crossentropy: 0.5571\n",
      "Epoch 222/500\n",
      "900/900 [==============================] - 0s 47us/step - loss: 0.0015 - acc: 0.0033 - mean_absolute_error: 0.0309 - binary_crossentropy: 0.5585 - val_loss: 0.0023 - val_acc: 0.0000e+00 - val_mean_absolute_error: 0.0388 - val_binary_crossentropy: 0.5592\n",
      "Epoch 223/500\n",
      "900/900 [==============================] - 0s 50us/step - loss: 0.0020 - acc: 0.0033 - mean_absolute_error: 0.0361 - binary_crossentropy: 0.5595 - val_loss: 0.0019 - val_acc: 0.0000e+00 - val_mean_absolute_error: 0.0372 - val_binary_crossentropy: 0.5583\n",
      "Epoch 224/500\n",
      "900/900 [==============================] - 0s 55us/step - loss: 0.0015 - acc: 0.0033 - mean_absolute_error: 0.0310 - binary_crossentropy: 0.5584 - val_loss: 0.0015 - val_acc: 0.0000e+00 - val_mean_absolute_error: 0.0307 - val_binary_crossentropy: 0.5572\n",
      "Epoch 225/500\n",
      "900/900 [==============================] - 0s 60us/step - loss: 0.0020 - acc: 0.0033 - mean_absolute_error: 0.0370 - binary_crossentropy: 0.5597 - val_loss: 0.0021 - val_acc: 0.0000e+00 - val_mean_absolute_error: 0.0385 - val_binary_crossentropy: 0.5588\n",
      "Epoch 226/500\n",
      "900/900 [==============================] - 0s 36us/step - loss: 0.0017 - acc: 0.0033 - mean_absolute_error: 0.0339 - binary_crossentropy: 0.5589 - val_loss: 0.0017 - val_acc: 0.0000e+00 - val_mean_absolute_error: 0.0333 - val_binary_crossentropy: 0.5577\n",
      "Epoch 227/500\n",
      "900/900 [==============================] - 0s 43us/step - loss: 0.0018 - acc: 0.0033 - mean_absolute_error: 0.0351 - binary_crossentropy: 0.5591 - val_loss: 0.0025 - val_acc: 0.0000e+00 - val_mean_absolute_error: 0.0420 - val_binary_crossentropy: 0.5597\n",
      "Epoch 228/500\n",
      "900/900 [==============================] - 0s 43us/step - loss: 0.0016 - acc: 0.0033 - mean_absolute_error: 0.0321 - binary_crossentropy: 0.5587 - val_loss: 0.0013 - val_acc: 0.0000e+00 - val_mean_absolute_error: 0.0287 - val_binary_crossentropy: 0.5568\n",
      "Epoch 229/500\n",
      "900/900 [==============================] - 0s 47us/step - loss: 0.0021 - acc: 0.0033 - mean_absolute_error: 0.0367 - binary_crossentropy: 0.5598 - val_loss: 0.0014 - val_acc: 0.0000e+00 - val_mean_absolute_error: 0.0297 - val_binary_crossentropy: 0.5570\n",
      "Epoch 230/500\n",
      "900/900 [==============================] - 0s 48us/step - loss: 0.0014 - acc: 0.0033 - mean_absolute_error: 0.0287 - binary_crossentropy: 0.5581 - val_loss: 0.0037 - val_acc: 0.0000e+00 - val_mean_absolute_error: 0.0500 - val_binary_crossentropy: 0.5621\n",
      "Epoch 231/500\n",
      "900/900 [==============================] - 0s 42us/step - loss: 0.0020 - acc: 0.0033 - mean_absolute_error: 0.0360 - binary_crossentropy: 0.5596 - val_loss: 0.0013 - val_acc: 0.0000e+00 - val_mean_absolute_error: 0.0290 - val_binary_crossentropy: 0.5569\n",
      "Epoch 232/500\n",
      "900/900 [==============================] - 0s 41us/step - loss: 0.0014 - acc: 0.0033 - mean_absolute_error: 0.0293 - binary_crossentropy: 0.5582 - val_loss: 0.0041 - val_acc: 0.0000e+00 - val_mean_absolute_error: 0.0528 - val_binary_crossentropy: 0.5630\n",
      "Epoch 233/500\n",
      "900/900 [==============================] - 0s 40us/step - loss: 0.0021 - acc: 0.0033 - mean_absolute_error: 0.0360 - binary_crossentropy: 0.5598 - val_loss: 0.0013 - val_acc: 0.0000e+00 - val_mean_absolute_error: 0.0290 - val_binary_crossentropy: 0.5569\n",
      "Epoch 234/500\n",
      "900/900 [==============================] - 0s 37us/step - loss: 0.0012 - acc: 0.0033 - mean_absolute_error: 0.0271 - binary_crossentropy: 0.5577 - val_loss: 0.0014 - val_acc: 0.0000e+00 - val_mean_absolute_error: 0.0296 - val_binary_crossentropy: 0.5569\n",
      "Epoch 235/500\n",
      "900/900 [==============================] - 0s 37us/step - loss: 0.0022 - acc: 0.0033 - mean_absolute_error: 0.0381 - binary_crossentropy: 0.5601 - val_loss: 0.0015 - val_acc: 0.0000e+00 - val_mean_absolute_error: 0.0321 - val_binary_crossentropy: 0.5573\n",
      "Epoch 236/500\n",
      "900/900 [==============================] - 0s 38us/step - loss: 0.0019 - acc: 0.0033 - mean_absolute_error: 0.0359 - binary_crossentropy: 0.5594 - val_loss: 0.0018 - val_acc: 0.0000e+00 - val_mean_absolute_error: 0.0346 - val_binary_crossentropy: 0.5580\n",
      "Epoch 237/500\n",
      "900/900 [==============================] - 0s 51us/step - loss: 0.0016 - acc: 0.0033 - mean_absolute_error: 0.0331 - binary_crossentropy: 0.5586 - val_loss: 0.0016 - val_acc: 0.0000e+00 - val_mean_absolute_error: 0.0334 - val_binary_crossentropy: 0.5576\n",
      "Epoch 238/500\n",
      "900/900 [==============================] - 0s 44us/step - loss: 0.0017 - acc: 0.0033 - mean_absolute_error: 0.0331 - binary_crossentropy: 0.5588 - val_loss: 0.0015 - val_acc: 0.0000e+00 - val_mean_absolute_error: 0.0305 - val_binary_crossentropy: 0.5572\n",
      "Epoch 239/500\n",
      "900/900 [==============================] - 0s 42us/step - loss: 0.0015 - acc: 0.0033 - mean_absolute_error: 0.0310 - binary_crossentropy: 0.5585 - val_loss: 0.0045 - val_acc: 0.0000e+00 - val_mean_absolute_error: 0.0572 - val_binary_crossentropy: 0.5641\n",
      "Epoch 240/500\n",
      "900/900 [==============================] - 0s 49us/step - loss: 0.0019 - acc: 0.0033 - mean_absolute_error: 0.0347 - binary_crossentropy: 0.5593 - val_loss: 0.0021 - val_acc: 0.0000e+00 - val_mean_absolute_error: 0.0370 - val_binary_crossentropy: 0.5585\n",
      "Epoch 241/500\n",
      "900/900 [==============================] - 0s 45us/step - loss: 0.0020 - acc: 0.0033 - mean_absolute_error: 0.0364 - binary_crossentropy: 0.5594 - val_loss: 0.0014 - val_acc: 0.0000e+00 - val_mean_absolute_error: 0.0307 - val_binary_crossentropy: 0.5570\n",
      "Epoch 242/500\n",
      "900/900 [==============================] - 0s 52us/step - loss: 0.0017 - acc: 0.0033 - mean_absolute_error: 0.0322 - binary_crossentropy: 0.5588 - val_loss: 0.0029 - val_acc: 0.0000e+00 - val_mean_absolute_error: 0.0438 - val_binary_crossentropy: 0.5604\n",
      "Epoch 243/500\n",
      "900/900 [==============================] - 0s 52us/step - loss: 0.0017 - acc: 0.0033 - mean_absolute_error: 0.0333 - binary_crossentropy: 0.5588 - val_loss: 0.0015 - val_acc: 0.0000e+00 - val_mean_absolute_error: 0.0324 - val_binary_crossentropy: 0.5574\n",
      "Epoch 244/500\n",
      "900/900 [==============================] - 0s 44us/step - loss: 0.0018 - acc: 0.0033 - mean_absolute_error: 0.0354 - binary_crossentropy: 0.5591 - val_loss: 0.0018 - val_acc: 0.0000e+00 - val_mean_absolute_error: 0.0343 - val_binary_crossentropy: 0.5579\n",
      "Epoch 245/500\n",
      "900/900 [==============================] - 0s 47us/step - loss: 0.0018 - acc: 0.0033 - mean_absolute_error: 0.0350 - binary_crossentropy: 0.5590 - val_loss: 0.0014 - val_acc: 0.0000e+00 - val_mean_absolute_error: 0.0308 - val_binary_crossentropy: 0.5571\n"
     ]
    },
    {
     "name": "stdout",
     "output_type": "stream",
     "text": [
      "Epoch 246/500\n",
      "900/900 [==============================] - 0s 42us/step - loss: 0.0018 - acc: 0.0033 - mean_absolute_error: 0.0345 - binary_crossentropy: 0.5590 - val_loss: 0.0018 - val_acc: 0.0000e+00 - val_mean_absolute_error: 0.0337 - val_binary_crossentropy: 0.5578\n",
      "Epoch 247/500\n",
      "900/900 [==============================] - 0s 38us/step - loss: 0.0018 - acc: 0.0033 - mean_absolute_error: 0.0350 - binary_crossentropy: 0.5591 - val_loss: 0.0014 - val_acc: 0.0000e+00 - val_mean_absolute_error: 0.0315 - val_binary_crossentropy: 0.5572\n",
      "Epoch 248/500\n",
      "900/900 [==============================] - 0s 35us/step - loss: 0.0013 - acc: 0.0033 - mean_absolute_error: 0.0288 - binary_crossentropy: 0.5580 - val_loss: 0.0014 - val_acc: 0.0000e+00 - val_mean_absolute_error: 0.0300 - val_binary_crossentropy: 0.5570\n",
      "Epoch 249/500\n",
      "900/900 [==============================] - 0s 35us/step - loss: 0.0021 - acc: 0.0033 - mean_absolute_error: 0.0377 - binary_crossentropy: 0.5599 - val_loss: 0.0013 - val_acc: 0.0000e+00 - val_mean_absolute_error: 0.0294 - val_binary_crossentropy: 0.5568\n",
      "Epoch 250/500\n",
      "900/900 [==============================] - 0s 37us/step - loss: 0.0015 - acc: 0.0033 - mean_absolute_error: 0.0306 - binary_crossentropy: 0.5584 - val_loss: 0.0042 - val_acc: 0.0000e+00 - val_mean_absolute_error: 0.0533 - val_binary_crossentropy: 0.5631\n",
      "Epoch 251/500\n",
      "900/900 [==============================] - 0s 33us/step - loss: 0.0018 - acc: 0.0033 - mean_absolute_error: 0.0334 - binary_crossentropy: 0.5590 - val_loss: 0.0013 - val_acc: 0.0000e+00 - val_mean_absolute_error: 0.0291 - val_binary_crossentropy: 0.5568\n",
      "Epoch 252/500\n",
      "900/900 [==============================] - 0s 33us/step - loss: 0.0020 - acc: 0.0033 - mean_absolute_error: 0.0368 - binary_crossentropy: 0.5597 - val_loss: 0.0013 - val_acc: 0.0000e+00 - val_mean_absolute_error: 0.0290 - val_binary_crossentropy: 0.5569\n",
      "Epoch 253/500\n",
      "900/900 [==============================] - 0s 34us/step - loss: 0.0015 - acc: 0.0033 - mean_absolute_error: 0.0307 - binary_crossentropy: 0.5583 - val_loss: 0.0021 - val_acc: 0.0000e+00 - val_mean_absolute_error: 0.0390 - val_binary_crossentropy: 0.5588\n",
      "Epoch 254/500\n",
      "900/900 [==============================] - 0s 33us/step - loss: 0.0017 - acc: 0.0033 - mean_absolute_error: 0.0340 - binary_crossentropy: 0.5588 - val_loss: 0.0019 - val_acc: 0.0000e+00 - val_mean_absolute_error: 0.0351 - val_binary_crossentropy: 0.5580\n",
      "Epoch 255/500\n",
      "900/900 [==============================] - 0s 43us/step - loss: 0.0019 - acc: 0.0033 - mean_absolute_error: 0.0350 - binary_crossentropy: 0.5593 - val_loss: 0.0016 - val_acc: 0.0000e+00 - val_mean_absolute_error: 0.0325 - val_binary_crossentropy: 0.5575\n",
      "Epoch 256/500\n",
      "900/900 [==============================] - 0s 32us/step - loss: 0.0018 - acc: 0.0033 - mean_absolute_error: 0.0354 - binary_crossentropy: 0.5591 - val_loss: 0.0028 - val_acc: 0.0000e+00 - val_mean_absolute_error: 0.0446 - val_binary_crossentropy: 0.5603\n",
      "Epoch 257/500\n",
      "900/900 [==============================] - 0s 34us/step - loss: 0.0018 - acc: 0.0033 - mean_absolute_error: 0.0344 - binary_crossentropy: 0.5589 - val_loss: 0.0014 - val_acc: 0.0000e+00 - val_mean_absolute_error: 0.0293 - val_binary_crossentropy: 0.5569\n",
      "Epoch 258/500\n",
      "900/900 [==============================] - 0s 35us/step - loss: 0.0017 - acc: 0.0033 - mean_absolute_error: 0.0336 - binary_crossentropy: 0.5589 - val_loss: 0.0014 - val_acc: 0.0000e+00 - val_mean_absolute_error: 0.0312 - val_binary_crossentropy: 0.5571\n",
      "Epoch 259/500\n",
      "900/900 [==============================] - 0s 34us/step - loss: 0.0018 - acc: 0.0033 - mean_absolute_error: 0.0350 - binary_crossentropy: 0.5591 - val_loss: 0.0014 - val_acc: 0.0000e+00 - val_mean_absolute_error: 0.0293 - val_binary_crossentropy: 0.5570\n",
      "Epoch 260/500\n",
      "900/900 [==============================] - 0s 38us/step - loss: 0.0013 - acc: 0.0033 - mean_absolute_error: 0.0291 - binary_crossentropy: 0.5580 - val_loss: 0.0023 - val_acc: 0.0000e+00 - val_mean_absolute_error: 0.0405 - val_binary_crossentropy: 0.5592\n",
      "Epoch 261/500\n",
      "900/900 [==============================] - 0s 34us/step - loss: 0.0020 - acc: 0.0033 - mean_absolute_error: 0.0363 - binary_crossentropy: 0.5594 - val_loss: 0.0013 - val_acc: 0.0000e+00 - val_mean_absolute_error: 0.0285 - val_binary_crossentropy: 0.5568\n",
      "Epoch 262/500\n",
      "900/900 [==============================] - 0s 38us/step - loss: 0.0017 - acc: 0.0033 - mean_absolute_error: 0.0336 - binary_crossentropy: 0.5588 - val_loss: 0.0017 - val_acc: 0.0000e+00 - val_mean_absolute_error: 0.0328 - val_binary_crossentropy: 0.5576\n",
      "Epoch 263/500\n",
      "900/900 [==============================] - 0s 34us/step - loss: 0.0015 - acc: 0.0033 - mean_absolute_error: 0.0307 - binary_crossentropy: 0.5582 - val_loss: 0.0022 - val_acc: 0.0000e+00 - val_mean_absolute_error: 0.0396 - val_binary_crossentropy: 0.5589\n",
      "Epoch 264/500\n",
      "900/900 [==============================] - 0s 38us/step - loss: 0.0019 - acc: 0.0033 - mean_absolute_error: 0.0349 - binary_crossentropy: 0.5593 - val_loss: 0.0012 - val_acc: 0.0000e+00 - val_mean_absolute_error: 0.0284 - val_binary_crossentropy: 0.5567\n",
      "Epoch 265/500\n",
      "900/900 [==============================] - 0s 36us/step - loss: 0.0017 - acc: 0.0033 - mean_absolute_error: 0.0331 - binary_crossentropy: 0.5588 - val_loss: 0.0018 - val_acc: 0.0000e+00 - val_mean_absolute_error: 0.0344 - val_binary_crossentropy: 0.5580\n",
      "Epoch 266/500\n",
      "900/900 [==============================] - 0s 38us/step - loss: 0.0018 - acc: 0.0033 - mean_absolute_error: 0.0345 - binary_crossentropy: 0.5590 - val_loss: 0.0018 - val_acc: 0.0000e+00 - val_mean_absolute_error: 0.0367 - val_binary_crossentropy: 0.5581\n",
      "Epoch 267/500\n",
      "900/900 [==============================] - 0s 33us/step - loss: 0.0017 - acc: 0.0033 - mean_absolute_error: 0.0342 - binary_crossentropy: 0.5589 - val_loss: 0.0017 - val_acc: 0.0000e+00 - val_mean_absolute_error: 0.0331 - val_binary_crossentropy: 0.5577\n",
      "Epoch 268/500\n",
      "900/900 [==============================] - 0s 33us/step - loss: 0.0017 - acc: 0.0033 - mean_absolute_error: 0.0331 - binary_crossentropy: 0.5587 - val_loss: 0.0014 - val_acc: 0.0000e+00 - val_mean_absolute_error: 0.0304 - val_binary_crossentropy: 0.5570\n",
      "Epoch 269/500\n",
      "900/900 [==============================] - 0s 39us/step - loss: 0.0017 - acc: 0.0033 - mean_absolute_error: 0.0330 - binary_crossentropy: 0.5589 - val_loss: 0.0015 - val_acc: 0.0000e+00 - val_mean_absolute_error: 0.0307 - val_binary_crossentropy: 0.5572\n",
      "Epoch 270/500\n",
      "900/900 [==============================] - 0s 38us/step - loss: 0.0019 - acc: 0.0033 - mean_absolute_error: 0.0358 - binary_crossentropy: 0.5593 - val_loss: 0.0013 - val_acc: 0.0000e+00 - val_mean_absolute_error: 0.0285 - val_binary_crossentropy: 0.5567\n",
      "Epoch 271/500\n",
      "900/900 [==============================] - 0s 40us/step - loss: 0.0012 - acc: 0.0033 - mean_absolute_error: 0.0275 - binary_crossentropy: 0.5578 - val_loss: 0.0033 - val_acc: 0.0000e+00 - val_mean_absolute_error: 0.0481 - val_binary_crossentropy: 0.5615\n",
      "Epoch 272/500\n",
      "900/900 [==============================] - 0s 39us/step - loss: 0.0020 - acc: 0.0033 - mean_absolute_error: 0.0361 - binary_crossentropy: 0.5596 - val_loss: 0.0014 - val_acc: 0.0000e+00 - val_mean_absolute_error: 0.0296 - val_binary_crossentropy: 0.5569\n",
      "Epoch 273/500\n",
      "900/900 [==============================] - 0s 37us/step - loss: 0.0013 - acc: 0.0033 - mean_absolute_error: 0.0288 - binary_crossentropy: 0.5580 - val_loss: 0.0013 - val_acc: 0.0000e+00 - val_mean_absolute_error: 0.0296 - val_binary_crossentropy: 0.5568\n",
      "Epoch 274/500\n",
      "900/900 [==============================] - 0s 39us/step - loss: 0.0020 - acc: 0.0033 - mean_absolute_error: 0.0357 - binary_crossentropy: 0.5595 - val_loss: 0.0012 - val_acc: 0.0000e+00 - val_mean_absolute_error: 0.0283 - val_binary_crossentropy: 0.5567\n",
      "Epoch 275/500\n",
      "900/900 [==============================] - 0s 41us/step - loss: 0.0019 - acc: 0.0033 - mean_absolute_error: 0.0350 - binary_crossentropy: 0.5592 - val_loss: 0.0013 - val_acc: 0.0000e+00 - val_mean_absolute_error: 0.0292 - val_binary_crossentropy: 0.5569\n",
      "Epoch 276/500\n"
     ]
    },
    {
     "name": "stdout",
     "output_type": "stream",
     "text": [
      "900/900 [==============================] - 0s 38us/step - loss: 0.0012 - acc: 0.0033 - mean_absolute_error: 0.0274 - binary_crossentropy: 0.5577 - val_loss: 0.0014 - val_acc: 0.0000e+00 - val_mean_absolute_error: 0.0304 - val_binary_crossentropy: 0.5570\n",
      "Epoch 277/500\n",
      "900/900 [==============================] - 0s 39us/step - loss: 0.0022 - acc: 0.0033 - mean_absolute_error: 0.0383 - binary_crossentropy: 0.5599 - val_loss: 0.0016 - val_acc: 0.0000e+00 - val_mean_absolute_error: 0.0339 - val_binary_crossentropy: 0.5576\n",
      "Epoch 278/500\n",
      "900/900 [==============================] - 0s 42us/step - loss: 0.0014 - acc: 0.0033 - mean_absolute_error: 0.0296 - binary_crossentropy: 0.5580 - val_loss: 0.0026 - val_acc: 0.0000e+00 - val_mean_absolute_error: 0.0409 - val_binary_crossentropy: 0.5594\n",
      "Epoch 279/500\n",
      "900/900 [==============================] - 0s 46us/step - loss: 0.0022 - acc: 0.0033 - mean_absolute_error: 0.0391 - binary_crossentropy: 0.5599 - val_loss: 0.0017 - val_acc: 0.0000e+00 - val_mean_absolute_error: 0.0343 - val_binary_crossentropy: 0.5577\n",
      "Epoch 280/500\n",
      "900/900 [==============================] - 0s 42us/step - loss: 0.0014 - acc: 0.0033 - mean_absolute_error: 0.0299 - binary_crossentropy: 0.5581 - val_loss: 0.0013 - val_acc: 0.0000e+00 - val_mean_absolute_error: 0.0286 - val_binary_crossentropy: 0.5568\n",
      "Epoch 281/500\n",
      "900/900 [==============================] - 0s 38us/step - loss: 0.0020 - acc: 0.0033 - mean_absolute_error: 0.0358 - binary_crossentropy: 0.5596 - val_loss: 0.0013 - val_acc: 0.0000e+00 - val_mean_absolute_error: 0.0304 - val_binary_crossentropy: 0.5569\n",
      "Epoch 282/500\n",
      "900/900 [==============================] - 0s 38us/step - loss: 0.0012 - acc: 0.0033 - mean_absolute_error: 0.0279 - binary_crossentropy: 0.5578 - val_loss: 0.0021 - val_acc: 0.0000e+00 - val_mean_absolute_error: 0.0372 - val_binary_crossentropy: 0.5584\n",
      "Epoch 283/500\n",
      "900/900 [==============================] - 0s 40us/step - loss: 0.0019 - acc: 0.0033 - mean_absolute_error: 0.0353 - binary_crossentropy: 0.5592 - val_loss: 0.0013 - val_acc: 0.0000e+00 - val_mean_absolute_error: 0.0294 - val_binary_crossentropy: 0.5568\n",
      "Epoch 284/500\n",
      "900/900 [==============================] - 0s 31us/step - loss: 0.0017 - acc: 0.0033 - mean_absolute_error: 0.0336 - binary_crossentropy: 0.5586 - val_loss: 0.0028 - val_acc: 0.0000e+00 - val_mean_absolute_error: 0.0431 - val_binary_crossentropy: 0.5601\n",
      "Epoch 285/500\n",
      "900/900 [==============================] - 0s 33us/step - loss: 0.0018 - acc: 0.0033 - mean_absolute_error: 0.0348 - binary_crossentropy: 0.5590 - val_loss: 0.0014 - val_acc: 0.0000e+00 - val_mean_absolute_error: 0.0306 - val_binary_crossentropy: 0.5570\n",
      "Epoch 286/500\n",
      "900/900 [==============================] - 0s 36us/step - loss: 0.0017 - acc: 0.0033 - mean_absolute_error: 0.0335 - binary_crossentropy: 0.5587 - val_loss: 0.0017 - val_acc: 0.0000e+00 - val_mean_absolute_error: 0.0333 - val_binary_crossentropy: 0.5576\n",
      "Epoch 287/500\n",
      "900/900 [==============================] - 0s 38us/step - loss: 0.0017 - acc: 0.0033 - mean_absolute_error: 0.0341 - binary_crossentropy: 0.5588 - val_loss: 0.0013 - val_acc: 0.0000e+00 - val_mean_absolute_error: 0.0290 - val_binary_crossentropy: 0.5567\n",
      "Epoch 288/500\n",
      "900/900 [==============================] - 0s 37us/step - loss: 0.0019 - acc: 0.0033 - mean_absolute_error: 0.0349 - binary_crossentropy: 0.5592 - val_loss: 0.0015 - val_acc: 0.0000e+00 - val_mean_absolute_error: 0.0303 - val_binary_crossentropy: 0.5571\n",
      "Epoch 289/500\n",
      "900/900 [==============================] - 0s 37us/step - loss: 0.0013 - acc: 0.0033 - mean_absolute_error: 0.0277 - binary_crossentropy: 0.5578 - val_loss: 0.0031 - val_acc: 0.0000e+00 - val_mean_absolute_error: 0.0452 - val_binary_crossentropy: 0.5606\n",
      "Epoch 290/500\n",
      "900/900 [==============================] - 0s 35us/step - loss: 0.0019 - acc: 0.0033 - mean_absolute_error: 0.0342 - binary_crossentropy: 0.5592 - val_loss: 0.0013 - val_acc: 0.0000e+00 - val_mean_absolute_error: 0.0282 - val_binary_crossentropy: 0.5566\n",
      "Epoch 291/500\n",
      "900/900 [==============================] - 0s 35us/step - loss: 0.0019 - acc: 0.0033 - mean_absolute_error: 0.0351 - binary_crossentropy: 0.5593 - val_loss: 0.0015 - val_acc: 0.0000e+00 - val_mean_absolute_error: 0.0306 - val_binary_crossentropy: 0.5571\n",
      "Epoch 292/500\n",
      "900/900 [==============================] - 0s 35us/step - loss: 0.0014 - acc: 0.0033 - mean_absolute_error: 0.0297 - binary_crossentropy: 0.5581 - val_loss: 0.0043 - val_acc: 0.0000e+00 - val_mean_absolute_error: 0.0564 - val_binary_crossentropy: 0.5638\n",
      "Epoch 293/500\n",
      "900/900 [==============================] - 0s 35us/step - loss: 0.0019 - acc: 0.0033 - mean_absolute_error: 0.0338 - binary_crossentropy: 0.5592 - val_loss: 0.0012 - val_acc: 0.0000e+00 - val_mean_absolute_error: 0.0278 - val_binary_crossentropy: 0.5566\n",
      "Epoch 294/500\n",
      "900/900 [==============================] - 0s 38us/step - loss: 0.0019 - acc: 0.0033 - mean_absolute_error: 0.0357 - binary_crossentropy: 0.5592 - val_loss: 0.0017 - val_acc: 0.0000e+00 - val_mean_absolute_error: 0.0334 - val_binary_crossentropy: 0.5577\n",
      "Epoch 295/500\n",
      "900/900 [==============================] - 0s 38us/step - loss: 0.0018 - acc: 0.0033 - mean_absolute_error: 0.0348 - binary_crossentropy: 0.5589 - val_loss: 0.0031 - val_acc: 0.0000e+00 - val_mean_absolute_error: 0.0464 - val_binary_crossentropy: 0.5609\n",
      "Epoch 296/500\n",
      "900/900 [==============================] - 0s 37us/step - loss: 0.0015 - acc: 0.0033 - mean_absolute_error: 0.0315 - binary_crossentropy: 0.5584 - val_loss: 0.0017 - val_acc: 0.0000e+00 - val_mean_absolute_error: 0.0327 - val_binary_crossentropy: 0.5575\n",
      "Epoch 297/500\n",
      "900/900 [==============================] - 0s 42us/step - loss: 0.0020 - acc: 0.0033 - mean_absolute_error: 0.0372 - binary_crossentropy: 0.5595 - val_loss: 0.0013 - val_acc: 0.0000e+00 - val_mean_absolute_error: 0.0299 - val_binary_crossentropy: 0.5569\n",
      "Epoch 298/500\n",
      "900/900 [==============================] - 0s 43us/step - loss: 0.0014 - acc: 0.0033 - mean_absolute_error: 0.0289 - binary_crossentropy: 0.5580 - val_loss: 0.0031 - val_acc: 0.0000e+00 - val_mean_absolute_error: 0.0467 - val_binary_crossentropy: 0.5610\n",
      "Epoch 299/500\n",
      "900/900 [==============================] - 0s 32us/step - loss: 0.0017 - acc: 0.0033 - mean_absolute_error: 0.0320 - binary_crossentropy: 0.5588 - val_loss: 0.0012 - val_acc: 0.0000e+00 - val_mean_absolute_error: 0.0278 - val_binary_crossentropy: 0.5566\n",
      "Epoch 300/500\n",
      "900/900 [==============================] - 0s 35us/step - loss: 0.0020 - acc: 0.0033 - mean_absolute_error: 0.0357 - binary_crossentropy: 0.5593 - val_loss: 0.0018 - val_acc: 0.0000e+00 - val_mean_absolute_error: 0.0339 - val_binary_crossentropy: 0.5577\n",
      "Epoch 301/500\n",
      "900/900 [==============================] - 0s 36us/step - loss: 0.0017 - acc: 0.0033 - mean_absolute_error: 0.0335 - binary_crossentropy: 0.5586 - val_loss: 0.0013 - val_acc: 0.0000e+00 - val_mean_absolute_error: 0.0299 - val_binary_crossentropy: 0.5569\n",
      "Epoch 302/500\n",
      "900/900 [==============================] - 0s 35us/step - loss: 0.0015 - acc: 0.0033 - mean_absolute_error: 0.0314 - binary_crossentropy: 0.5583 - val_loss: 0.0027 - val_acc: 0.0000e+00 - val_mean_absolute_error: 0.0420 - val_binary_crossentropy: 0.5597\n",
      "Epoch 303/500\n",
      "900/900 [==============================] - 0s 34us/step - loss: 0.0020 - acc: 0.0033 - mean_absolute_error: 0.0370 - binary_crossentropy: 0.5594 - val_loss: 0.0015 - val_acc: 0.0000e+00 - val_mean_absolute_error: 0.0327 - val_binary_crossentropy: 0.5574\n",
      "Epoch 304/500\n",
      "900/900 [==============================] - 0s 36us/step - loss: 0.0012 - acc: 0.0033 - mean_absolute_error: 0.0265 - binary_crossentropy: 0.5576 - val_loss: 0.0019 - val_acc: 0.0000e+00 - val_mean_absolute_error: 0.0359 - val_binary_crossentropy: 0.5581\n",
      "Epoch 305/500\n",
      "900/900 [==============================] - 0s 39us/step - loss: 0.0023 - acc: 0.0033 - mean_absolute_error: 0.0401 - binary_crossentropy: 0.5603 - val_loss: 0.0014 - val_acc: 0.0000e+00 - val_mean_absolute_error: 0.0299 - val_binary_crossentropy: 0.5570\n",
      "Epoch 306/500\n",
      "900/900 [==============================] - 0s 34us/step - loss: 0.0012 - acc: 0.0033 - mean_absolute_error: 0.0272 - binary_crossentropy: 0.5576 - val_loss: 0.0015 - val_acc: 0.0000e+00 - val_mean_absolute_error: 0.0324 - val_binary_crossentropy: 0.5573\n"
     ]
    },
    {
     "name": "stdout",
     "output_type": "stream",
     "text": [
      "Epoch 307/500\n",
      "900/900 [==============================] - 0s 34us/step - loss: 0.0018 - acc: 0.0033 - mean_absolute_error: 0.0333 - binary_crossentropy: 0.5589 - val_loss: 0.0014 - val_acc: 0.0000e+00 - val_mean_absolute_error: 0.0302 - val_binary_crossentropy: 0.5570\n",
      "Epoch 308/500\n",
      "900/900 [==============================] - 0s 39us/step - loss: 0.0018 - acc: 0.0033 - mean_absolute_error: 0.0335 - binary_crossentropy: 0.5589 - val_loss: 0.0013 - val_acc: 0.0000e+00 - val_mean_absolute_error: 0.0296 - val_binary_crossentropy: 0.5568\n",
      "Epoch 309/500\n",
      "900/900 [==============================] - 0s 33us/step - loss: 0.0017 - acc: 0.0033 - mean_absolute_error: 0.0343 - binary_crossentropy: 0.5587 - val_loss: 0.0017 - val_acc: 0.0000e+00 - val_mean_absolute_error: 0.0335 - val_binary_crossentropy: 0.5576\n",
      "Epoch 310/500\n",
      "900/900 [==============================] - 0s 34us/step - loss: 0.0016 - acc: 0.0033 - mean_absolute_error: 0.0331 - binary_crossentropy: 0.5586 - val_loss: 0.0013 - val_acc: 0.0000e+00 - val_mean_absolute_error: 0.0294 - val_binary_crossentropy: 0.5567\n",
      "Epoch 311/500\n",
      "900/900 [==============================] - 0s 39us/step - loss: 0.0016 - acc: 0.0033 - mean_absolute_error: 0.0327 - binary_crossentropy: 0.5585 - val_loss: 0.0013 - val_acc: 0.0000e+00 - val_mean_absolute_error: 0.0281 - val_binary_crossentropy: 0.5566\n",
      "Epoch 312/500\n",
      "900/900 [==============================] - 0s 35us/step - loss: 0.0018 - acc: 0.0033 - mean_absolute_error: 0.0335 - binary_crossentropy: 0.5589 - val_loss: 0.0025 - val_acc: 0.0000e+00 - val_mean_absolute_error: 0.0399 - val_binary_crossentropy: 0.5592\n",
      "Epoch 313/500\n",
      "900/900 [==============================] - 0s 43us/step - loss: 0.0015 - acc: 0.0033 - mean_absolute_error: 0.0313 - binary_crossentropy: 0.5583 - val_loss: 0.0013 - val_acc: 0.0000e+00 - val_mean_absolute_error: 0.0293 - val_binary_crossentropy: 0.5568\n",
      "Epoch 314/500\n",
      "900/900 [==============================] - 0s 34us/step - loss: 0.0017 - acc: 0.0033 - mean_absolute_error: 0.0330 - binary_crossentropy: 0.5586 - val_loss: 0.0023 - val_acc: 0.0000e+00 - val_mean_absolute_error: 0.0405 - val_binary_crossentropy: 0.5592\n",
      "Epoch 315/500\n",
      "900/900 [==============================] - 0s 33us/step - loss: 0.0018 - acc: 0.0033 - mean_absolute_error: 0.0354 - binary_crossentropy: 0.5590 - val_loss: 0.0018 - val_acc: 0.0000e+00 - val_mean_absolute_error: 0.0346 - val_binary_crossentropy: 0.5578\n",
      "Epoch 316/500\n",
      "900/900 [==============================] - 0s 34us/step - loss: 0.0015 - acc: 0.0033 - mean_absolute_error: 0.0311 - binary_crossentropy: 0.5583 - val_loss: 0.0012 - val_acc: 0.0000e+00 - val_mean_absolute_error: 0.0275 - val_binary_crossentropy: 0.5565\n",
      "Epoch 317/500\n",
      "900/900 [==============================] - 0s 37us/step - loss: 0.0017 - acc: 0.0033 - mean_absolute_error: 0.0323 - binary_crossentropy: 0.5588 - val_loss: 0.0014 - val_acc: 0.0000e+00 - val_mean_absolute_error: 0.0300 - val_binary_crossentropy: 0.5569\n",
      "Epoch 318/500\n",
      "900/900 [==============================] - 0s 34us/step - loss: 0.0019 - acc: 0.0033 - mean_absolute_error: 0.0356 - binary_crossentropy: 0.5591 - val_loss: 0.0017 - val_acc: 0.0000e+00 - val_mean_absolute_error: 0.0347 - val_binary_crossentropy: 0.5577\n",
      "Epoch 319/500\n",
      "900/900 [==============================] - 0s 35us/step - loss: 0.0013 - acc: 0.0033 - mean_absolute_error: 0.0293 - binary_crossentropy: 0.5579 - val_loss: 0.0020 - val_acc: 0.0000e+00 - val_mean_absolute_error: 0.0358 - val_binary_crossentropy: 0.5581\n",
      "Epoch 320/500\n",
      "900/900 [==============================] - 0s 35us/step - loss: 0.0018 - acc: 0.0033 - mean_absolute_error: 0.0345 - binary_crossentropy: 0.5589 - val_loss: 0.0012 - val_acc: 0.0000e+00 - val_mean_absolute_error: 0.0285 - val_binary_crossentropy: 0.5566\n",
      "Epoch 321/500\n",
      "900/900 [==============================] - 0s 35us/step - loss: 0.0018 - acc: 0.0033 - mean_absolute_error: 0.0347 - binary_crossentropy: 0.5589 - val_loss: 0.0018 - val_acc: 0.0000e+00 - val_mean_absolute_error: 0.0348 - val_binary_crossentropy: 0.5578\n",
      "Epoch 322/500\n",
      "900/900 [==============================] - 0s 36us/step - loss: 0.0015 - acc: 0.0033 - mean_absolute_error: 0.0316 - binary_crossentropy: 0.5584 - val_loss: 0.0012 - val_acc: 0.0000e+00 - val_mean_absolute_error: 0.0275 - val_binary_crossentropy: 0.5565\n",
      "Epoch 323/500\n",
      "900/900 [==============================] - 0s 39us/step - loss: 0.0019 - acc: 0.0033 - mean_absolute_error: 0.0338 - binary_crossentropy: 0.5592 - val_loss: 0.0012 - val_acc: 0.0000e+00 - val_mean_absolute_error: 0.0280 - val_binary_crossentropy: 0.5566\n",
      "Epoch 324/500\n",
      "900/900 [==============================] - 0s 39us/step - loss: 0.0016 - acc: 0.0033 - mean_absolute_error: 0.0316 - binary_crossentropy: 0.5584 - val_loss: 0.0015 - val_acc: 0.0000e+00 - val_mean_absolute_error: 0.0311 - val_binary_crossentropy: 0.5571\n",
      "Epoch 325/500\n",
      "900/900 [==============================] - 0s 39us/step - loss: 0.0016 - acc: 0.0033 - mean_absolute_error: 0.0308 - binary_crossentropy: 0.5584 - val_loss: 0.0033 - val_acc: 0.0000e+00 - val_mean_absolute_error: 0.0479 - val_binary_crossentropy: 0.5613\n",
      "Epoch 326/500\n",
      "900/900 [==============================] - 0s 43us/step - loss: 0.0016 - acc: 0.0033 - mean_absolute_error: 0.0316 - binary_crossentropy: 0.5585 - val_loss: 0.0012 - val_acc: 0.0000e+00 - val_mean_absolute_error: 0.0278 - val_binary_crossentropy: 0.5565\n",
      "Epoch 327/500\n",
      "900/900 [==============================] - 0s 43us/step - loss: 0.0018 - acc: 0.0033 - mean_absolute_error: 0.0338 - binary_crossentropy: 0.5588 - val_loss: 0.0014 - val_acc: 0.0000e+00 - val_mean_absolute_error: 0.0308 - val_binary_crossentropy: 0.5570\n",
      "Epoch 328/500\n",
      "900/900 [==============================] - 0s 39us/step - loss: 0.0019 - acc: 0.0033 - mean_absolute_error: 0.0357 - binary_crossentropy: 0.5590 - val_loss: 0.0016 - val_acc: 0.0000e+00 - val_mean_absolute_error: 0.0315 - val_binary_crossentropy: 0.5573\n",
      "Epoch 329/500\n",
      "900/900 [==============================] - 0s 41us/step - loss: 0.0012 - acc: 0.0033 - mean_absolute_error: 0.0277 - binary_crossentropy: 0.5577 - val_loss: 0.0024 - val_acc: 0.0000e+00 - val_mean_absolute_error: 0.0393 - val_binary_crossentropy: 0.5590\n",
      "Epoch 330/500\n",
      "900/900 [==============================] - 0s 39us/step - loss: 0.0020 - acc: 0.0033 - mean_absolute_error: 0.0373 - binary_crossentropy: 0.5595 - val_loss: 0.0014 - val_acc: 0.0000e+00 - val_mean_absolute_error: 0.0306 - val_binary_crossentropy: 0.5569\n",
      "Epoch 331/500\n",
      "900/900 [==============================] - 0s 41us/step - loss: 0.0016 - acc: 0.0033 - mean_absolute_error: 0.0330 - binary_crossentropy: 0.5587 - val_loss: 0.0013 - val_acc: 0.0000e+00 - val_mean_absolute_error: 0.0290 - val_binary_crossentropy: 0.5567\n",
      "Epoch 332/500\n",
      "900/900 [==============================] - 0s 40us/step - loss: 0.0016 - acc: 0.0033 - mean_absolute_error: 0.0330 - binary_crossentropy: 0.5586 - val_loss: 0.0018 - val_acc: 0.0000e+00 - val_mean_absolute_error: 0.0357 - val_binary_crossentropy: 0.5579\n",
      "Epoch 333/500\n",
      "900/900 [==============================] - 0s 38us/step - loss: 0.0016 - acc: 0.0033 - mean_absolute_error: 0.0330 - binary_crossentropy: 0.5586 - val_loss: 0.0015 - val_acc: 0.0000e+00 - val_mean_absolute_error: 0.0309 - val_binary_crossentropy: 0.5570\n",
      "Epoch 334/500\n",
      "900/900 [==============================] - 0s 39us/step - loss: 0.0018 - acc: 0.0033 - mean_absolute_error: 0.0352 - binary_crossentropy: 0.5589 - val_loss: 0.0016 - val_acc: 0.0000e+00 - val_mean_absolute_error: 0.0334 - val_binary_crossentropy: 0.5574\n",
      "Epoch 335/500\n",
      "900/900 [==============================] - 0s 36us/step - loss: 0.0012 - acc: 0.0033 - mean_absolute_error: 0.0273 - binary_crossentropy: 0.5576 - val_loss: 0.0028 - val_acc: 0.0000e+00 - val_mean_absolute_error: 0.0444 - val_binary_crossentropy: 0.5603\n",
      "Epoch 336/500\n",
      "900/900 [==============================] - 0s 37us/step - loss: 0.0020 - acc: 0.0033 - mean_absolute_error: 0.0374 - binary_crossentropy: 0.5595 - val_loss: 0.0015 - val_acc: 0.0000e+00 - val_mean_absolute_error: 0.0303 - val_binary_crossentropy: 0.5571\n",
      "Epoch 337/500\n"
     ]
    },
    {
     "name": "stdout",
     "output_type": "stream",
     "text": [
      "900/900 [==============================] - 0s 36us/step - loss: 0.0015 - acc: 0.0033 - mean_absolute_error: 0.0310 - binary_crossentropy: 0.5582 - val_loss: 0.0019 - val_acc: 0.0000e+00 - val_mean_absolute_error: 0.0368 - val_binary_crossentropy: 0.5582\n",
      "Epoch 338/500\n",
      "900/900 [==============================] - 0s 37us/step - loss: 0.0019 - acc: 0.0033 - mean_absolute_error: 0.0362 - binary_crossentropy: 0.5591 - val_loss: 0.0022 - val_acc: 0.0000e+00 - val_mean_absolute_error: 0.0375 - val_binary_crossentropy: 0.5585\n",
      "Epoch 339/500\n",
      "900/900 [==============================] - 0s 35us/step - loss: 0.0012 - acc: 0.0033 - mean_absolute_error: 0.0275 - binary_crossentropy: 0.5577 - val_loss: 0.0012 - val_acc: 0.0000e+00 - val_mean_absolute_error: 0.0282 - val_binary_crossentropy: 0.5565\n",
      "Epoch 340/500\n",
      "900/900 [==============================] - 0s 36us/step - loss: 0.0021 - acc: 0.0033 - mean_absolute_error: 0.0357 - binary_crossentropy: 0.5596 - val_loss: 0.0013 - val_acc: 0.0000e+00 - val_mean_absolute_error: 0.0282 - val_binary_crossentropy: 0.5566\n",
      "Epoch 341/500\n",
      "900/900 [==============================] - 0s 36us/step - loss: 0.0011 - acc: 0.0033 - mean_absolute_error: 0.0250 - binary_crossentropy: 0.5573 - val_loss: 0.0013 - val_acc: 0.0000e+00 - val_mean_absolute_error: 0.0287 - val_binary_crossentropy: 0.5567\n",
      "Epoch 342/500\n",
      "900/900 [==============================] - 0s 35us/step - loss: 0.0021 - acc: 0.0033 - mean_absolute_error: 0.0372 - binary_crossentropy: 0.5597 - val_loss: 0.0016 - val_acc: 0.0000e+00 - val_mean_absolute_error: 0.0326 - val_binary_crossentropy: 0.5574\n",
      "Epoch 343/500\n",
      "900/900 [==============================] - 0s 38us/step - loss: 0.0016 - acc: 0.0033 - mean_absolute_error: 0.0323 - binary_crossentropy: 0.5584 - val_loss: 0.0012 - val_acc: 0.0000e+00 - val_mean_absolute_error: 0.0277 - val_binary_crossentropy: 0.5565\n",
      "Epoch 344/500\n",
      "900/900 [==============================] - 0s 36us/step - loss: 0.0019 - acc: 0.0033 - mean_absolute_error: 0.0365 - binary_crossentropy: 0.5592 - val_loss: 0.0014 - val_acc: 0.0000e+00 - val_mean_absolute_error: 0.0302 - val_binary_crossentropy: 0.5570\n",
      "Epoch 345/500\n",
      "900/900 [==============================] - 0s 36us/step - loss: 0.0011 - acc: 0.0033 - mean_absolute_error: 0.0253 - binary_crossentropy: 0.5573 - val_loss: 0.0017 - val_acc: 0.0000e+00 - val_mean_absolute_error: 0.0331 - val_binary_crossentropy: 0.5574\n",
      "Epoch 346/500\n",
      "900/900 [==============================] - 0s 41us/step - loss: 0.0020 - acc: 0.0033 - mean_absolute_error: 0.0365 - binary_crossentropy: 0.5594 - val_loss: 0.0015 - val_acc: 0.0000e+00 - val_mean_absolute_error: 0.0330 - val_binary_crossentropy: 0.5573\n",
      "Epoch 347/500\n",
      "900/900 [==============================] - 0s 38us/step - loss: 0.0018 - acc: 0.0033 - mean_absolute_error: 0.0353 - binary_crossentropy: 0.5591 - val_loss: 0.0015 - val_acc: 0.0000e+00 - val_mean_absolute_error: 0.0310 - val_binary_crossentropy: 0.5570\n",
      "Epoch 348/500\n",
      "900/900 [==============================] - 0s 36us/step - loss: 0.0012 - acc: 0.0033 - mean_absolute_error: 0.0277 - binary_crossentropy: 0.5577 - val_loss: 0.0015 - val_acc: 0.0000e+00 - val_mean_absolute_error: 0.0326 - val_binary_crossentropy: 0.5573\n",
      "Epoch 349/500\n",
      "900/900 [==============================] - 0s 39us/step - loss: 0.0018 - acc: 0.0033 - mean_absolute_error: 0.0345 - binary_crossentropy: 0.5589 - val_loss: 0.0013 - val_acc: 0.0000e+00 - val_mean_absolute_error: 0.0291 - val_binary_crossentropy: 0.5567\n",
      "Epoch 350/500\n",
      "900/900 [==============================] - 0s 32us/step - loss: 0.0019 - acc: 0.0033 - mean_absolute_error: 0.0357 - binary_crossentropy: 0.5591 - val_loss: 0.0012 - val_acc: 0.0000e+00 - val_mean_absolute_error: 0.0288 - val_binary_crossentropy: 0.5566\n",
      "Epoch 351/500\n",
      "900/900 [==============================] - 0s 36us/step - loss: 0.0015 - acc: 0.0033 - mean_absolute_error: 0.0316 - binary_crossentropy: 0.5583 - val_loss: 0.0020 - val_acc: 0.0000e+00 - val_mean_absolute_error: 0.0363 - val_binary_crossentropy: 0.5583\n",
      "Epoch 352/500\n",
      "900/900 [==============================] - 0s 38us/step - loss: 0.0016 - acc: 0.0033 - mean_absolute_error: 0.0326 - binary_crossentropy: 0.5585 - val_loss: 0.0012 - val_acc: 0.0000e+00 - val_mean_absolute_error: 0.0287 - val_binary_crossentropy: 0.5566\n",
      "Epoch 353/500\n",
      "900/900 [==============================] - 0s 36us/step - loss: 0.0019 - acc: 0.0033 - mean_absolute_error: 0.0357 - binary_crossentropy: 0.5591 - val_loss: 0.0016 - val_acc: 0.0000e+00 - val_mean_absolute_error: 0.0327 - val_binary_crossentropy: 0.5574\n",
      "Epoch 354/500\n",
      "900/900 [==============================] - 0s 35us/step - loss: 0.0013 - acc: 0.0033 - mean_absolute_error: 0.0286 - binary_crossentropy: 0.5578 - val_loss: 0.0020 - val_acc: 0.0000e+00 - val_mean_absolute_error: 0.0374 - val_binary_crossentropy: 0.5585\n",
      "Epoch 355/500\n",
      "900/900 [==============================] - 0s 35us/step - loss: 0.0017 - acc: 0.0033 - mean_absolute_error: 0.0341 - binary_crossentropy: 0.5588 - val_loss: 0.0017 - val_acc: 0.0000e+00 - val_mean_absolute_error: 0.0338 - val_binary_crossentropy: 0.5576\n",
      "Epoch 356/500\n",
      "900/900 [==============================] - 0s 37us/step - loss: 0.0018 - acc: 0.0033 - mean_absolute_error: 0.0352 - binary_crossentropy: 0.5590 - val_loss: 0.0014 - val_acc: 0.0000e+00 - val_mean_absolute_error: 0.0314 - val_binary_crossentropy: 0.5570\n",
      "Epoch 357/500\n",
      "900/900 [==============================] - 0s 37us/step - loss: 0.0013 - acc: 0.0033 - mean_absolute_error: 0.0289 - binary_crossentropy: 0.5579 - val_loss: 0.0012 - val_acc: 0.0000e+00 - val_mean_absolute_error: 0.0273 - val_binary_crossentropy: 0.5564\n",
      "Epoch 358/500\n",
      "900/900 [==============================] - 0s 34us/step - loss: 0.0019 - acc: 0.0033 - mean_absolute_error: 0.0353 - binary_crossentropy: 0.5591 - val_loss: 0.0014 - val_acc: 0.0000e+00 - val_mean_absolute_error: 0.0306 - val_binary_crossentropy: 0.5570\n",
      "Epoch 359/500\n",
      "900/900 [==============================] - 0s 36us/step - loss: 0.0016 - acc: 0.0033 - mean_absolute_error: 0.0310 - binary_crossentropy: 0.5585 - val_loss: 0.0037 - val_acc: 0.0000e+00 - val_mean_absolute_error: 0.0499 - val_binary_crossentropy: 0.5620\n",
      "Epoch 360/500\n",
      "900/900 [==============================] - 0s 36us/step - loss: 0.0014 - acc: 0.0033 - mean_absolute_error: 0.0293 - binary_crossentropy: 0.5581 - val_loss: 0.0012 - val_acc: 0.0000e+00 - val_mean_absolute_error: 0.0271 - val_binary_crossentropy: 0.5564\n",
      "Epoch 361/500\n",
      "900/900 [==============================] - 0s 35us/step - loss: 0.0014 - acc: 0.0033 - mean_absolute_error: 0.0283 - binary_crossentropy: 0.5580 - val_loss: 0.0044 - val_acc: 0.0000e+00 - val_mean_absolute_error: 0.0545 - val_binary_crossentropy: 0.5635\n",
      "Epoch 362/500\n",
      "900/900 [==============================] - 0s 38us/step - loss: 0.0018 - acc: 0.0033 - mean_absolute_error: 0.0323 - binary_crossentropy: 0.5588 - val_loss: 0.0018 - val_acc: 0.0000e+00 - val_mean_absolute_error: 0.0346 - val_binary_crossentropy: 0.5577\n",
      "Epoch 363/500\n",
      "900/900 [==============================] - 0s 32us/step - loss: 0.0018 - acc: 0.0033 - mean_absolute_error: 0.0343 - binary_crossentropy: 0.5588 - val_loss: 0.0012 - val_acc: 0.0000e+00 - val_mean_absolute_error: 0.0278 - val_binary_crossentropy: 0.5564\n",
      "Epoch 364/500\n",
      "900/900 [==============================] - 0s 37us/step - loss: 0.0019 - acc: 0.0033 - mean_absolute_error: 0.0336 - binary_crossentropy: 0.5591 - val_loss: 0.0017 - val_acc: 0.0000e+00 - val_mean_absolute_error: 0.0335 - val_binary_crossentropy: 0.5576\n",
      "Epoch 365/500\n",
      "900/900 [==============================] - 0s 40us/step - loss: 0.0012 - acc: 0.0033 - mean_absolute_error: 0.0276 - binary_crossentropy: 0.5576 - val_loss: 0.0020 - val_acc: 0.0000e+00 - val_mean_absolute_error: 0.0361 - val_binary_crossentropy: 0.5580\n",
      "Epoch 366/500\n",
      "900/900 [==============================] - 0s 36us/step - loss: 0.0018 - acc: 0.0033 - mean_absolute_error: 0.0344 - binary_crossentropy: 0.5590 - val_loss: 0.0013 - val_acc: 0.0000e+00 - val_mean_absolute_error: 0.0294 - val_binary_crossentropy: 0.5567\n",
      "Epoch 367/500\n",
      "900/900 [==============================] - 0s 35us/step - loss: 0.0015 - acc: 0.0033 - mean_absolute_error: 0.0322 - binary_crossentropy: 0.5583 - val_loss: 0.0025 - val_acc: 0.0000e+00 - val_mean_absolute_error: 0.0407 - val_binary_crossentropy: 0.5593\n"
     ]
    },
    {
     "name": "stdout",
     "output_type": "stream",
     "text": [
      "Epoch 368/500\n",
      "900/900 [==============================] - 0s 37us/step - loss: 0.0016 - acc: 0.0033 - mean_absolute_error: 0.0332 - binary_crossentropy: 0.5585 - val_loss: 0.0017 - val_acc: 0.0000e+00 - val_mean_absolute_error: 0.0349 - val_binary_crossentropy: 0.5577\n",
      "Epoch 369/500\n",
      "900/900 [==============================] - 0s 33us/step - loss: 0.0018 - acc: 0.0033 - mean_absolute_error: 0.0348 - binary_crossentropy: 0.5589 - val_loss: 0.0024 - val_acc: 0.0000e+00 - val_mean_absolute_error: 0.0394 - val_binary_crossentropy: 0.5590\n",
      "Epoch 370/500\n",
      "900/900 [==============================] - 0s 36us/step - loss: 0.0016 - acc: 0.0033 - mean_absolute_error: 0.0316 - binary_crossentropy: 0.5584 - val_loss: 0.0012 - val_acc: 0.0000e+00 - val_mean_absolute_error: 0.0280 - val_binary_crossentropy: 0.5565\n",
      "Epoch 371/500\n",
      "900/900 [==============================] - 0s 41us/step - loss: 0.0019 - acc: 0.0033 - mean_absolute_error: 0.0364 - binary_crossentropy: 0.5593 - val_loss: 0.0014 - val_acc: 0.0000e+00 - val_mean_absolute_error: 0.0299 - val_binary_crossentropy: 0.5569\n",
      "Epoch 372/500\n",
      "900/900 [==============================] - 0s 41us/step - loss: 0.0016 - acc: 0.0033 - mean_absolute_error: 0.0318 - binary_crossentropy: 0.5584 - val_loss: 0.0023 - val_acc: 0.0000e+00 - val_mean_absolute_error: 0.0403 - val_binary_crossentropy: 0.5591\n",
      "Epoch 373/500\n",
      "900/900 [==============================] - 0s 41us/step - loss: 0.0014 - acc: 0.0033 - mean_absolute_error: 0.0296 - binary_crossentropy: 0.5579 - val_loss: 0.0012 - val_acc: 0.0000e+00 - val_mean_absolute_error: 0.0280 - val_binary_crossentropy: 0.5565\n",
      "Epoch 374/500\n",
      "900/900 [==============================] - 0s 36us/step - loss: 0.0016 - acc: 0.0033 - mean_absolute_error: 0.0316 - binary_crossentropy: 0.5585 - val_loss: 0.0033 - val_acc: 0.0000e+00 - val_mean_absolute_error: 0.0470 - val_binary_crossentropy: 0.5610\n",
      "Epoch 375/500\n",
      "900/900 [==============================] - 0s 36us/step - loss: 0.0016 - acc: 0.0033 - mean_absolute_error: 0.0310 - binary_crossentropy: 0.5585 - val_loss: 0.0012 - val_acc: 0.0000e+00 - val_mean_absolute_error: 0.0271 - val_binary_crossentropy: 0.5563\n",
      "Epoch 376/500\n",
      "900/900 [==============================] - 0s 37us/step - loss: 0.0020 - acc: 0.0033 - mean_absolute_error: 0.0362 - binary_crossentropy: 0.5595 - val_loss: 0.0014 - val_acc: 0.0000e+00 - val_mean_absolute_error: 0.0299 - val_binary_crossentropy: 0.5570\n",
      "Epoch 377/500\n",
      "900/900 [==============================] - 0s 39us/step - loss: 0.0011 - acc: 0.0033 - mean_absolute_error: 0.0257 - binary_crossentropy: 0.5573 - val_loss: 0.0016 - val_acc: 0.0000e+00 - val_mean_absolute_error: 0.0340 - val_binary_crossentropy: 0.5576\n",
      "Epoch 378/500\n",
      "900/900 [==============================] - 0s 36us/step - loss: 0.0021 - acc: 0.0033 - mean_absolute_error: 0.0368 - binary_crossentropy: 0.5597 - val_loss: 0.0017 - val_acc: 0.0000e+00 - val_mean_absolute_error: 0.0338 - val_binary_crossentropy: 0.5576\n",
      "Epoch 379/500\n",
      "900/900 [==============================] - 0s 37us/step - loss: 0.0015 - acc: 0.0033 - mean_absolute_error: 0.0314 - binary_crossentropy: 0.5583 - val_loss: 0.0012 - val_acc: 0.0000e+00 - val_mean_absolute_error: 0.0276 - val_binary_crossentropy: 0.5564\n",
      "Epoch 380/500\n",
      "900/900 [==============================] - 0s 40us/step - loss: 0.0013 - acc: 0.0033 - mean_absolute_error: 0.0284 - binary_crossentropy: 0.5577 - val_loss: 0.0028 - val_acc: 0.0000e+00 - val_mean_absolute_error: 0.0431 - val_binary_crossentropy: 0.5599\n",
      "Epoch 381/500\n",
      "900/900 [==============================] - 0s 35us/step - loss: 0.0019 - acc: 0.0033 - mean_absolute_error: 0.0352 - binary_crossentropy: 0.5590 - val_loss: 0.0012 - val_acc: 0.0000e+00 - val_mean_absolute_error: 0.0284 - val_binary_crossentropy: 0.5565\n",
      "Epoch 382/500\n",
      "900/900 [==============================] - 0s 37us/step - loss: 0.0018 - acc: 0.0033 - mean_absolute_error: 0.0353 - binary_crossentropy: 0.5590 - val_loss: 0.0014 - val_acc: 0.0000e+00 - val_mean_absolute_error: 0.0306 - val_binary_crossentropy: 0.5569\n",
      "Epoch 383/500\n",
      "900/900 [==============================] - 0s 41us/step - loss: 0.0013 - acc: 0.0033 - mean_absolute_error: 0.0294 - binary_crossentropy: 0.5578 - val_loss: 0.0017 - val_acc: 0.0000e+00 - val_mean_absolute_error: 0.0339 - val_binary_crossentropy: 0.5576\n",
      "Epoch 384/500\n",
      "900/900 [==============================] - 0s 35us/step - loss: 0.0019 - acc: 0.0033 - mean_absolute_error: 0.0362 - binary_crossentropy: 0.5592 - val_loss: 0.0021 - val_acc: 0.0000e+00 - val_mean_absolute_error: 0.0372 - val_binary_crossentropy: 0.5584\n",
      "Epoch 385/500\n",
      "900/900 [==============================] - 0s 34us/step - loss: 0.0016 - acc: 0.0033 - mean_absolute_error: 0.0323 - binary_crossentropy: 0.5584 - val_loss: 0.0016 - val_acc: 0.0000e+00 - val_mean_absolute_error: 0.0336 - val_binary_crossentropy: 0.5575\n",
      "Epoch 386/500\n",
      "900/900 [==============================] - 0s 33us/step - loss: 0.0016 - acc: 0.0033 - mean_absolute_error: 0.0334 - binary_crossentropy: 0.5586 - val_loss: 0.0020 - val_acc: 0.0000e+00 - val_mean_absolute_error: 0.0360 - val_binary_crossentropy: 0.5581\n",
      "Epoch 387/500\n",
      "900/900 [==============================] - 0s 35us/step - loss: 0.0015 - acc: 0.0033 - mean_absolute_error: 0.0320 - binary_crossentropy: 0.5582 - val_loss: 0.0022 - val_acc: 0.0000e+00 - val_mean_absolute_error: 0.0398 - val_binary_crossentropy: 0.5589\n",
      "Epoch 388/500\n",
      "900/900 [==============================] - 0s 35us/step - loss: 0.0016 - acc: 0.0033 - mean_absolute_error: 0.0336 - binary_crossentropy: 0.5586 - val_loss: 0.0011 - val_acc: 0.0000e+00 - val_mean_absolute_error: 0.0271 - val_binary_crossentropy: 0.5563\n",
      "Epoch 389/500\n",
      "900/900 [==============================] - 0s 35us/step - loss: 0.0011 - acc: 0.0033 - mean_absolute_error: 0.0260 - binary_crossentropy: 0.5574 - val_loss: 0.0036 - val_acc: 0.0000e+00 - val_mean_absolute_error: 0.0493 - val_binary_crossentropy: 0.5616\n",
      "Epoch 390/500\n",
      "900/900 [==============================] - 0s 39us/step - loss: 0.0022 - acc: 0.0033 - mean_absolute_error: 0.0388 - binary_crossentropy: 0.5599 - val_loss: 0.0012 - val_acc: 0.0000e+00 - val_mean_absolute_error: 0.0281 - val_binary_crossentropy: 0.5564\n",
      "Epoch 391/500\n",
      "900/900 [==============================] - 0s 40us/step - loss: 0.0013 - acc: 0.0033 - mean_absolute_error: 0.0290 - binary_crossentropy: 0.5577 - val_loss: 0.0022 - val_acc: 0.0000e+00 - val_mean_absolute_error: 0.0392 - val_binary_crossentropy: 0.5589\n",
      "Epoch 392/500\n",
      "900/900 [==============================] - 0s 33us/step - loss: 0.0018 - acc: 0.0033 - mean_absolute_error: 0.0344 - binary_crossentropy: 0.5588 - val_loss: 0.0013 - val_acc: 0.0000e+00 - val_mean_absolute_error: 0.0284 - val_binary_crossentropy: 0.5565\n",
      "Epoch 393/500\n",
      "900/900 [==============================] - 0s 36us/step - loss: 0.0015 - acc: 0.0033 - mean_absolute_error: 0.0305 - binary_crossentropy: 0.5583 - val_loss: 0.0022 - val_acc: 0.0000e+00 - val_mean_absolute_error: 0.0381 - val_binary_crossentropy: 0.5587\n",
      "Epoch 394/500\n",
      "900/900 [==============================] - 0s 38us/step - loss: 0.0016 - acc: 0.0033 - mean_absolute_error: 0.0325 - binary_crossentropy: 0.5584 - val_loss: 0.0028 - val_acc: 0.0000e+00 - val_mean_absolute_error: 0.0446 - val_binary_crossentropy: 0.5603\n",
      "Epoch 395/500\n",
      "900/900 [==============================] - 0s 35us/step - loss: 0.0014 - acc: 0.0033 - mean_absolute_error: 0.0303 - binary_crossentropy: 0.5581 - val_loss: 0.0028 - val_acc: 0.0000e+00 - val_mean_absolute_error: 0.0432 - val_binary_crossentropy: 0.5599\n",
      "Epoch 396/500\n",
      "900/900 [==============================] - 0s 35us/step - loss: 0.0019 - acc: 0.0033 - mean_absolute_error: 0.0362 - binary_crossentropy: 0.5592 - val_loss: 0.0014 - val_acc: 0.0000e+00 - val_mean_absolute_error: 0.0308 - val_binary_crossentropy: 0.5569\n",
      "Epoch 397/500\n",
      "900/900 [==============================] - 0s 38us/step - loss: 0.0019 - acc: 0.0033 - mean_absolute_error: 0.0360 - binary_crossentropy: 0.5592 - val_loss: 0.0014 - val_acc: 0.0000e+00 - val_mean_absolute_error: 0.0299 - val_binary_crossentropy: 0.5568\n",
      "Epoch 398/500\n"
     ]
    },
    {
     "name": "stdout",
     "output_type": "stream",
     "text": [
      "900/900 [==============================] - 0s 36us/step - loss: 0.0012 - acc: 0.0033 - mean_absolute_error: 0.0272 - binary_crossentropy: 0.5575 - val_loss: 0.0020 - val_acc: 0.0000e+00 - val_mean_absolute_error: 0.0378 - val_binary_crossentropy: 0.5583\n",
      "Epoch 399/500\n",
      "900/900 [==============================] - 0s 39us/step - loss: 0.0017 - acc: 0.0033 - mean_absolute_error: 0.0322 - binary_crossentropy: 0.5587 - val_loss: 0.0011 - val_acc: 0.0000e+00 - val_mean_absolute_error: 0.0266 - val_binary_crossentropy: 0.5563\n",
      "Epoch 400/500\n",
      "900/900 [==============================] - 0s 41us/step - loss: 0.0019 - acc: 0.0033 - mean_absolute_error: 0.0351 - binary_crossentropy: 0.5591 - val_loss: 0.0015 - val_acc: 0.0000e+00 - val_mean_absolute_error: 0.0305 - val_binary_crossentropy: 0.5570\n",
      "Epoch 401/500\n",
      "900/900 [==============================] - 0s 35us/step - loss: 0.0014 - acc: 0.0033 - mean_absolute_error: 0.0303 - binary_crossentropy: 0.5581 - val_loss: 0.0012 - val_acc: 0.0000e+00 - val_mean_absolute_error: 0.0292 - val_binary_crossentropy: 0.5566\n",
      "Epoch 402/500\n",
      "900/900 [==============================] - 0s 38us/step - loss: 0.0016 - acc: 0.0033 - mean_absolute_error: 0.0331 - binary_crossentropy: 0.5585 - val_loss: 0.0017 - val_acc: 0.0000e+00 - val_mean_absolute_error: 0.0329 - val_binary_crossentropy: 0.5574\n",
      "Epoch 403/500\n",
      "900/900 [==============================] - 0s 37us/step - loss: 0.0017 - acc: 0.0033 - mean_absolute_error: 0.0336 - binary_crossentropy: 0.5587 - val_loss: 0.0015 - val_acc: 0.0000e+00 - val_mean_absolute_error: 0.0328 - val_binary_crossentropy: 0.5573\n",
      "Epoch 404/500\n",
      "900/900 [==============================] - 0s 38us/step - loss: 0.0017 - acc: 0.0033 - mean_absolute_error: 0.0341 - binary_crossentropy: 0.5587 - val_loss: 0.0022 - val_acc: 0.0000e+00 - val_mean_absolute_error: 0.0376 - val_binary_crossentropy: 0.5586\n",
      "Epoch 405/500\n",
      "900/900 [==============================] - 0s 34us/step - loss: 0.0014 - acc: 0.0033 - mean_absolute_error: 0.0308 - binary_crossentropy: 0.5581 - val_loss: 0.0025 - val_acc: 0.0000e+00 - val_mean_absolute_error: 0.0414 - val_binary_crossentropy: 0.5595\n",
      "Epoch 406/500\n",
      "900/900 [==============================] - 0s 37us/step - loss: 0.0019 - acc: 0.0033 - mean_absolute_error: 0.0351 - binary_crossentropy: 0.5592 - val_loss: 0.0013 - val_acc: 0.0000e+00 - val_mean_absolute_error: 0.0283 - val_binary_crossentropy: 0.5566\n",
      "Epoch 407/500\n",
      "900/900 [==============================] - 0s 35us/step - loss: 0.0017 - acc: 0.0033 - mean_absolute_error: 0.0328 - binary_crossentropy: 0.5587 - val_loss: 0.0029 - val_acc: 0.0000e+00 - val_mean_absolute_error: 0.0448 - val_binary_crossentropy: 0.5603\n",
      "Epoch 408/500\n",
      "900/900 [==============================] - 0s 36us/step - loss: 0.0014 - acc: 0.0033 - mean_absolute_error: 0.0292 - binary_crossentropy: 0.5580 - val_loss: 0.0014 - val_acc: 0.0000e+00 - val_mean_absolute_error: 0.0316 - val_binary_crossentropy: 0.5571\n",
      "Epoch 409/500\n",
      "900/900 [==============================] - 0s 35us/step - loss: 0.0017 - acc: 0.0033 - mean_absolute_error: 0.0332 - binary_crossentropy: 0.5587 - val_loss: 0.0013 - val_acc: 0.0000e+00 - val_mean_absolute_error: 0.0289 - val_binary_crossentropy: 0.5566\n",
      "Epoch 410/500\n",
      "900/900 [==============================] - 0s 34us/step - loss: 0.0016 - acc: 0.0033 - mean_absolute_error: 0.0330 - binary_crossentropy: 0.5586 - val_loss: 0.0012 - val_acc: 0.0000e+00 - val_mean_absolute_error: 0.0295 - val_binary_crossentropy: 0.5566\n",
      "Epoch 411/500\n",
      "900/900 [==============================] - 0s 36us/step - loss: 0.0014 - acc: 0.0033 - mean_absolute_error: 0.0299 - binary_crossentropy: 0.5580 - val_loss: 0.0032 - val_acc: 0.0000e+00 - val_mean_absolute_error: 0.0463 - val_binary_crossentropy: 0.5607\n",
      "Epoch 412/500\n",
      "900/900 [==============================] - 0s 35us/step - loss: 0.0016 - acc: 0.0033 - mean_absolute_error: 0.0320 - binary_crossentropy: 0.5585 - val_loss: 0.0011 - val_acc: 0.0000e+00 - val_mean_absolute_error: 0.0267 - val_binary_crossentropy: 0.5563\n",
      "Epoch 413/500\n",
      "900/900 [==============================] - 0s 33us/step - loss: 0.0018 - acc: 0.0033 - mean_absolute_error: 0.0333 - binary_crossentropy: 0.5588 - val_loss: 0.0012 - val_acc: 0.0000e+00 - val_mean_absolute_error: 0.0287 - val_binary_crossentropy: 0.5565\n",
      "Epoch 414/500\n",
      "900/900 [==============================] - ETA: 0s - loss: 0.0014 - acc: 0.0000e+00 - mean_absolute_error: 0.0307 - binary_crossentropy: 0.565 - 0s 37us/step - loss: 0.0013 - acc: 0.0033 - mean_absolute_error: 0.0292 - binary_crossentropy: 0.5579 - val_loss: 0.0030 - val_acc: 0.0000e+00 - val_mean_absolute_error: 0.0445 - val_binary_crossentropy: 0.5602\n",
      "Epoch 415/500\n",
      "900/900 [==============================] - 0s 40us/step - loss: 0.0018 - acc: 0.0033 - mean_absolute_error: 0.0330 - binary_crossentropy: 0.5588 - val_loss: 0.0013 - val_acc: 0.0000e+00 - val_mean_absolute_error: 0.0300 - val_binary_crossentropy: 0.5569\n",
      "Epoch 416/500\n",
      "900/900 [==============================] - 0s 47us/step - loss: 0.0017 - acc: 0.0033 - mean_absolute_error: 0.0332 - binary_crossentropy: 0.5586 - val_loss: 0.0014 - val_acc: 0.0000e+00 - val_mean_absolute_error: 0.0295 - val_binary_crossentropy: 0.5567\n",
      "Epoch 417/500\n",
      "900/900 [==============================] - 0s 41us/step - loss: 0.0016 - acc: 0.0033 - mean_absolute_error: 0.0332 - binary_crossentropy: 0.5584 - val_loss: 0.0011 - val_acc: 0.0000e+00 - val_mean_absolute_error: 0.0274 - val_binary_crossentropy: 0.5563\n",
      "Epoch 418/500\n",
      "900/900 [==============================] - 0s 43us/step - loss: 0.0018 - acc: 0.0033 - mean_absolute_error: 0.0347 - binary_crossentropy: 0.5590 - val_loss: 0.0012 - val_acc: 0.0000e+00 - val_mean_absolute_error: 0.0277 - val_binary_crossentropy: 0.5564\n",
      "Epoch 419/500\n",
      "900/900 [==============================] - 0s 44us/step - loss: 0.0011 - acc: 0.0033 - mean_absolute_error: 0.0264 - binary_crossentropy: 0.5574 - val_loss: 0.0025 - val_acc: 0.0000e+00 - val_mean_absolute_error: 0.0417 - val_binary_crossentropy: 0.5595\n",
      "Epoch 420/500\n",
      "900/900 [==============================] - 0s 40us/step - loss: 0.0019 - acc: 0.0033 - mean_absolute_error: 0.0343 - binary_crossentropy: 0.5591 - val_loss: 0.0013 - val_acc: 0.0000e+00 - val_mean_absolute_error: 0.0290 - val_binary_crossentropy: 0.5566\n",
      "Epoch 421/500\n",
      "900/900 [==============================] - 0s 39us/step - loss: 0.0016 - acc: 0.0033 - mean_absolute_error: 0.0326 - binary_crossentropy: 0.5585 - val_loss: 0.0021 - val_acc: 0.0000e+00 - val_mean_absolute_error: 0.0381 - val_binary_crossentropy: 0.5585\n",
      "Epoch 422/500\n",
      "900/900 [==============================] - 0s 43us/step - loss: 0.0014 - acc: 0.0033 - mean_absolute_error: 0.0305 - binary_crossentropy: 0.5579 - val_loss: 0.0014 - val_acc: 0.0000e+00 - val_mean_absolute_error: 0.0306 - val_binary_crossentropy: 0.5569\n",
      "Epoch 423/500\n",
      "900/900 [==============================] - 0s 46us/step - loss: 0.0019 - acc: 0.0033 - mean_absolute_error: 0.0354 - binary_crossentropy: 0.5590 - val_loss: 0.0012 - val_acc: 0.0000e+00 - val_mean_absolute_error: 0.0282 - val_binary_crossentropy: 0.5564\n",
      "Epoch 424/500\n",
      "900/900 [==============================] - 0s 43us/step - loss: 0.0015 - acc: 0.0033 - mean_absolute_error: 0.0310 - binary_crossentropy: 0.5583 - val_loss: 0.0019 - val_acc: 0.0000e+00 - val_mean_absolute_error: 0.0355 - val_binary_crossentropy: 0.5579\n",
      "Epoch 425/500\n",
      "900/900 [==============================] - 0s 34us/step - loss: 0.0013 - acc: 0.0033 - mean_absolute_error: 0.0282 - binary_crossentropy: 0.5578 - val_loss: 0.0011 - val_acc: 0.0000e+00 - val_mean_absolute_error: 0.0265 - val_binary_crossentropy: 0.5562\n",
      "Epoch 426/500\n",
      "900/900 [==============================] - 0s 34us/step - loss: 0.0011 - acc: 0.0033 - mean_absolute_error: 0.0257 - binary_crossentropy: 0.5572 - val_loss: 0.0049 - val_acc: 0.0000e+00 - val_mean_absolute_error: 0.0581 - val_binary_crossentropy: 0.5643\n",
      "Epoch 427/500\n",
      "900/900 [==============================] - 0s 37us/step - loss: 0.0018 - acc: 0.0033 - mean_absolute_error: 0.0321 - binary_crossentropy: 0.5587 - val_loss: 0.0013 - val_acc: 0.0000e+00 - val_mean_absolute_error: 0.0302 - val_binary_crossentropy: 0.5568\n",
      "Epoch 428/500\n"
     ]
    },
    {
     "name": "stdout",
     "output_type": "stream",
     "text": [
      "900/900 [==============================] - 0s 35us/step - loss: 0.0018 - acc: 0.0033 - mean_absolute_error: 0.0345 - binary_crossentropy: 0.5588 - val_loss: 0.0014 - val_acc: 0.0000e+00 - val_mean_absolute_error: 0.0301 - val_binary_crossentropy: 0.5568\n",
      "Epoch 429/500\n",
      "900/900 [==============================] - 0s 39us/step - loss: 0.0015 - acc: 0.0033 - mean_absolute_error: 0.0311 - binary_crossentropy: 0.5582 - val_loss: 0.0013 - val_acc: 0.0000e+00 - val_mean_absolute_error: 0.0298 - val_binary_crossentropy: 0.5567\n",
      "Epoch 430/500\n",
      "900/900 [==============================] - 0s 33us/step - loss: 0.0019 - acc: 0.0033 - mean_absolute_error: 0.0360 - binary_crossentropy: 0.5591 - val_loss: 0.0014 - val_acc: 0.0000e+00 - val_mean_absolute_error: 0.0294 - val_binary_crossentropy: 0.5567\n",
      "Epoch 431/500\n",
      "900/900 [==============================] - 0s 40us/step - loss: 0.0016 - acc: 0.0033 - mean_absolute_error: 0.0317 - binary_crossentropy: 0.5584 - val_loss: 0.0024 - val_acc: 0.0000e+00 - val_mean_absolute_error: 0.0411 - val_binary_crossentropy: 0.5593\n",
      "Epoch 432/500\n",
      "900/900 [==============================] - 0s 36us/step - loss: 0.0012 - acc: 0.0033 - mean_absolute_error: 0.0275 - binary_crossentropy: 0.5576 - val_loss: 0.0012 - val_acc: 0.0000e+00 - val_mean_absolute_error: 0.0273 - val_binary_crossentropy: 0.5563\n",
      "Epoch 433/500\n",
      "900/900 [==============================] - 0s 41us/step - loss: 0.0020 - acc: 0.0033 - mean_absolute_error: 0.0366 - binary_crossentropy: 0.5594 - val_loss: 0.0012 - val_acc: 0.0000e+00 - val_mean_absolute_error: 0.0283 - val_binary_crossentropy: 0.5565\n",
      "Epoch 434/500\n",
      "900/900 [==============================] - 0s 40us/step - loss: 0.0014 - acc: 0.0033 - mean_absolute_error: 0.0305 - binary_crossentropy: 0.5580 - val_loss: 0.0014 - val_acc: 0.0000e+00 - val_mean_absolute_error: 0.0296 - val_binary_crossentropy: 0.5567\n",
      "Epoch 435/500\n",
      "900/900 [==============================] - 0s 40us/step - loss: 0.0018 - acc: 0.0033 - mean_absolute_error: 0.0339 - binary_crossentropy: 0.5587 - val_loss: 0.0014 - val_acc: 0.0000e+00 - val_mean_absolute_error: 0.0314 - val_binary_crossentropy: 0.5569\n",
      "Epoch 436/500\n",
      "900/900 [==============================] - 0s 39us/step - loss: 0.0015 - acc: 0.0033 - mean_absolute_error: 0.0316 - binary_crossentropy: 0.5583 - val_loss: 0.0022 - val_acc: 0.0000e+00 - val_mean_absolute_error: 0.0376 - val_binary_crossentropy: 0.5585\n",
      "Epoch 437/500\n",
      "900/900 [==============================] - 0s 40us/step - loss: 0.0013 - acc: 0.0033 - mean_absolute_error: 0.0294 - binary_crossentropy: 0.5578 - val_loss: 0.0019 - val_acc: 0.0000e+00 - val_mean_absolute_error: 0.0361 - val_binary_crossentropy: 0.5580\n",
      "Epoch 438/500\n",
      "900/900 [==============================] - 0s 39us/step - loss: 0.0022 - acc: 0.0033 - mean_absolute_error: 0.0389 - binary_crossentropy: 0.5599 - val_loss: 0.0018 - val_acc: 0.0000e+00 - val_mean_absolute_error: 0.0337 - val_binary_crossentropy: 0.5577\n",
      "Epoch 439/500\n",
      "900/900 [==============================] - 0s 38us/step - loss: 0.0011 - acc: 0.0033 - mean_absolute_error: 0.0260 - binary_crossentropy: 0.5573 - val_loss: 0.0012 - val_acc: 0.0000e+00 - val_mean_absolute_error: 0.0270 - val_binary_crossentropy: 0.5563\n",
      "Epoch 440/500\n",
      "900/900 [==============================] - 0s 40us/step - loss: 0.0019 - acc: 0.0033 - mean_absolute_error: 0.0339 - binary_crossentropy: 0.5589 - val_loss: 0.0014 - val_acc: 0.0000e+00 - val_mean_absolute_error: 0.0302 - val_binary_crossentropy: 0.5569\n",
      "Epoch 441/500\n",
      "900/900 [==============================] - 0s 37us/step - loss: 0.0016 - acc: 0.0033 - mean_absolute_error: 0.0327 - binary_crossentropy: 0.5584 - val_loss: 0.0014 - val_acc: 0.0000e+00 - val_mean_absolute_error: 0.0313 - val_binary_crossentropy: 0.5569\n",
      "Epoch 442/500\n",
      "900/900 [==============================] - 0s 38us/step - loss: 0.0015 - acc: 0.0033 - mean_absolute_error: 0.0311 - binary_crossentropy: 0.5581 - val_loss: 0.0017 - val_acc: 0.0000e+00 - val_mean_absolute_error: 0.0335 - val_binary_crossentropy: 0.5575\n",
      "Epoch 443/500\n",
      "900/900 [==============================] - 0s 38us/step - loss: 0.0015 - acc: 0.0033 - mean_absolute_error: 0.0317 - binary_crossentropy: 0.5582 - val_loss: 0.0027 - val_acc: 0.0000e+00 - val_mean_absolute_error: 0.0436 - val_binary_crossentropy: 0.5600\n",
      "Epoch 444/500\n",
      "900/900 [==============================] - 0s 41us/step - loss: 0.0017 - acc: 0.0033 - mean_absolute_error: 0.0331 - binary_crossentropy: 0.5587 - val_loss: 0.0011 - val_acc: 0.0000e+00 - val_mean_absolute_error: 0.0265 - val_binary_crossentropy: 0.5562\n",
      "Epoch 445/500\n",
      "900/900 [==============================] - 0s 36us/step - loss: 0.0017 - acc: 0.0033 - mean_absolute_error: 0.0327 - binary_crossentropy: 0.5586 - val_loss: 0.0013 - val_acc: 0.0000e+00 - val_mean_absolute_error: 0.0313 - val_binary_crossentropy: 0.5568\n",
      "Epoch 446/500\n",
      "900/900 [==============================] - 0s 35us/step - loss: 0.0011 - acc: 0.0033 - mean_absolute_error: 0.0262 - binary_crossentropy: 0.5573 - val_loss: 0.0012 - val_acc: 0.0000e+00 - val_mean_absolute_error: 0.0269 - val_binary_crossentropy: 0.5563\n",
      "Epoch 447/500\n",
      "900/900 [==============================] - 0s 40us/step - loss: 0.0019 - acc: 0.0033 - mean_absolute_error: 0.0338 - binary_crossentropy: 0.5591 - val_loss: 0.0020 - val_acc: 0.0000e+00 - val_mean_absolute_error: 0.0388 - val_binary_crossentropy: 0.5583\n",
      "Epoch 448/500\n",
      "900/900 [==============================] - 0s 35us/step - loss: 0.0013 - acc: 0.0033 - mean_absolute_error: 0.0281 - binary_crossentropy: 0.5577 - val_loss: 0.0021 - val_acc: 0.0000e+00 - val_mean_absolute_error: 0.0370 - val_binary_crossentropy: 0.5582\n",
      "Epoch 449/500\n",
      "900/900 [==============================] - 0s 35us/step - loss: 0.0018 - acc: 0.0033 - mean_absolute_error: 0.0346 - binary_crossentropy: 0.5588 - val_loss: 0.0012 - val_acc: 0.0000e+00 - val_mean_absolute_error: 0.0288 - val_binary_crossentropy: 0.5566\n",
      "Epoch 450/500\n",
      "900/900 [==============================] - 0s 34us/step - loss: 0.0017 - acc: 0.0033 - mean_absolute_error: 0.0339 - binary_crossentropy: 0.5586 - val_loss: 0.0017 - val_acc: 0.0000e+00 - val_mean_absolute_error: 0.0334 - val_binary_crossentropy: 0.5575\n",
      "Epoch 451/500\n",
      "900/900 [==============================] - 0s 42us/step - loss: 0.0014 - acc: 0.0033 - mean_absolute_error: 0.0298 - binary_crossentropy: 0.5579 - val_loss: 0.0039 - val_acc: 0.0000e+00 - val_mean_absolute_error: 0.0535 - val_binary_crossentropy: 0.5627\n",
      "Epoch 452/500\n",
      "900/900 [==============================] - 0s 33us/step - loss: 0.0015 - acc: 0.0033 - mean_absolute_error: 0.0301 - binary_crossentropy: 0.5581 - val_loss: 0.0036 - val_acc: 0.0000e+00 - val_mean_absolute_error: 0.0494 - val_binary_crossentropy: 0.5617\n",
      "Epoch 453/500\n",
      "900/900 [==============================] - 0s 34us/step - loss: 0.0016 - acc: 0.0033 - mean_absolute_error: 0.0315 - binary_crossentropy: 0.5583 - val_loss: 0.0011 - val_acc: 0.0000e+00 - val_mean_absolute_error: 0.0264 - val_binary_crossentropy: 0.5562\n",
      "Epoch 454/500\n",
      "900/900 [==============================] - 0s 39us/step - loss: 0.0019 - acc: 0.0033 - mean_absolute_error: 0.0336 - binary_crossentropy: 0.5592 - val_loss: 0.0033 - val_acc: 0.0000e+00 - val_mean_absolute_error: 0.0486 - val_binary_crossentropy: 0.5613\n",
      "Epoch 455/500\n",
      "900/900 [==============================] - 0s 35us/step - loss: 0.0013 - acc: 0.0033 - mean_absolute_error: 0.0282 - binary_crossentropy: 0.5578 - val_loss: 0.0012 - val_acc: 0.0000e+00 - val_mean_absolute_error: 0.0274 - val_binary_crossentropy: 0.5563\n",
      "Epoch 456/500\n",
      "900/900 [==============================] - 0s 36us/step - loss: 0.0017 - acc: 0.0033 - mean_absolute_error: 0.0326 - binary_crossentropy: 0.5587 - val_loss: 0.0016 - val_acc: 0.0000e+00 - val_mean_absolute_error: 0.0318 - val_binary_crossentropy: 0.5571\n",
      "Epoch 457/500\n",
      "900/900 [==============================] - 0s 38us/step - loss: 0.0017 - acc: 0.0033 - mean_absolute_error: 0.0334 - binary_crossentropy: 0.5585 - val_loss: 0.0016 - val_acc: 0.0000e+00 - val_mean_absolute_error: 0.0332 - val_binary_crossentropy: 0.5573\n",
      "Epoch 458/500\n",
      "900/900 [==============================] - 0s 38us/step - loss: 0.0014 - acc: 0.0033 - mean_absolute_error: 0.0298 - binary_crossentropy: 0.5580 - val_loss: 0.0011 - val_acc: 0.0000e+00 - val_mean_absolute_error: 0.0263 - val_binary_crossentropy: 0.5561\n"
     ]
    },
    {
     "name": "stdout",
     "output_type": "stream",
     "text": [
      "Epoch 459/500\n",
      "900/900 [==============================] - 0s 47us/step - loss: 0.0020 - acc: 0.0033 - mean_absolute_error: 0.0349 - binary_crossentropy: 0.5593 - val_loss: 0.0011 - val_acc: 0.0000e+00 - val_mean_absolute_error: 0.0263 - val_binary_crossentropy: 0.5561\n",
      "Epoch 460/500\n",
      "900/900 [==============================] - 0s 38us/step - loss: 0.0010 - acc: 0.0033 - mean_absolute_error: 0.0249 - binary_crossentropy: 0.5571 - val_loss: 0.0011 - val_acc: 0.0000e+00 - val_mean_absolute_error: 0.0262 - val_binary_crossentropy: 0.5561\n",
      "Epoch 461/500\n",
      "900/900 [==============================] - 0s 39us/step - loss: 0.0021 - acc: 0.0033 - mean_absolute_error: 0.0348 - binary_crossentropy: 0.5594 - val_loss: 0.0011 - val_acc: 0.0000e+00 - val_mean_absolute_error: 0.0269 - val_binary_crossentropy: 0.5562\n",
      "Epoch 462/500\n",
      "900/900 [==============================] - 0s 41us/step - loss: 0.0012 - acc: 0.0033 - mean_absolute_error: 0.0269 - binary_crossentropy: 0.5575 - val_loss: 0.0028 - val_acc: 0.0000e+00 - val_mean_absolute_error: 0.0434 - val_binary_crossentropy: 0.5598\n",
      "Epoch 463/500\n",
      "900/900 [==============================] - 0s 39us/step - loss: 0.0018 - acc: 0.0033 - mean_absolute_error: 0.0339 - binary_crossentropy: 0.5588 - val_loss: 0.0011 - val_acc: 0.0000e+00 - val_mean_absolute_error: 0.0264 - val_binary_crossentropy: 0.5561\n",
      "Epoch 464/500\n",
      "900/900 [==============================] - 0s 39us/step - loss: 0.0016 - acc: 0.0033 - mean_absolute_error: 0.0319 - binary_crossentropy: 0.5584 - val_loss: 0.0012 - val_acc: 0.0000e+00 - val_mean_absolute_error: 0.0276 - val_binary_crossentropy: 0.5564\n",
      "Epoch 465/500\n",
      "900/900 [==============================] - 0s 39us/step - loss: 0.0016 - acc: 0.0033 - mean_absolute_error: 0.0322 - binary_crossentropy: 0.5584 - val_loss: 0.0018 - val_acc: 0.0000e+00 - val_mean_absolute_error: 0.0357 - val_binary_crossentropy: 0.5578\n",
      "Epoch 466/500\n",
      "900/900 [==============================] - 0s 41us/step - loss: 0.0015 - acc: 0.0033 - mean_absolute_error: 0.0308 - binary_crossentropy: 0.5581 - val_loss: 0.0011 - val_acc: 0.0000e+00 - val_mean_absolute_error: 0.0265 - val_binary_crossentropy: 0.5562\n",
      "Epoch 467/500\n",
      "900/900 [==============================] - 0s 39us/step - loss: 0.0019 - acc: 0.0033 - mean_absolute_error: 0.0351 - binary_crossentropy: 0.5591 - val_loss: 0.0025 - val_acc: 0.0000e+00 - val_mean_absolute_error: 0.0405 - val_binary_crossentropy: 0.5592\n",
      "Epoch 468/500\n",
      "900/900 [==============================] - 0s 35us/step - loss: 0.0012 - acc: 0.0033 - mean_absolute_error: 0.0273 - binary_crossentropy: 0.5575 - val_loss: 0.0016 - val_acc: 0.0000e+00 - val_mean_absolute_error: 0.0329 - val_binary_crossentropy: 0.5574\n",
      "Epoch 469/500\n",
      "900/900 [==============================] - 0s 37us/step - loss: 0.0014 - acc: 0.0033 - mean_absolute_error: 0.0291 - binary_crossentropy: 0.5579 - val_loss: 0.0011 - val_acc: 0.0000e+00 - val_mean_absolute_error: 0.0261 - val_binary_crossentropy: 0.5561\n",
      "Epoch 470/500\n",
      "900/900 [==============================] - 0s 35us/step - loss: 0.0019 - acc: 0.0033 - mean_absolute_error: 0.0349 - binary_crossentropy: 0.5591 - val_loss: 0.0011 - val_acc: 0.0000e+00 - val_mean_absolute_error: 0.0259 - val_binary_crossentropy: 0.5561\n",
      "Epoch 471/500\n",
      "900/900 [==============================] - 0s 34us/step - loss: 0.0012 - acc: 0.0033 - mean_absolute_error: 0.0269 - binary_crossentropy: 0.5574 - val_loss: 0.0031 - val_acc: 0.0000e+00 - val_mean_absolute_error: 0.0466 - val_binary_crossentropy: 0.5607\n",
      "Epoch 472/500\n",
      "900/900 [==============================] - 0s 42us/step - loss: 0.0019 - acc: 0.0033 - mean_absolute_error: 0.0360 - binary_crossentropy: 0.5591 - val_loss: 0.0014 - val_acc: 0.0000e+00 - val_mean_absolute_error: 0.0297 - val_binary_crossentropy: 0.5566\n",
      "Epoch 473/500\n",
      "900/900 [==============================] - 0s 34us/step - loss: 0.0016 - acc: 0.0033 - mean_absolute_error: 0.0323 - binary_crossentropy: 0.5584 - val_loss: 0.0011 - val_acc: 0.0000e+00 - val_mean_absolute_error: 0.0267 - val_binary_crossentropy: 0.5561\n",
      "Epoch 474/500\n",
      "900/900 [==============================] - 0s 35us/step - loss: 0.0016 - acc: 0.0033 - mean_absolute_error: 0.0328 - binary_crossentropy: 0.5585 - val_loss: 0.0012 - val_acc: 0.0000e+00 - val_mean_absolute_error: 0.0286 - val_binary_crossentropy: 0.5564\n",
      "Epoch 475/500\n",
      "900/900 [==============================] - 0s 34us/step - loss: 0.0015 - acc: 0.0033 - mean_absolute_error: 0.0309 - binary_crossentropy: 0.5580 - val_loss: 0.0011 - val_acc: 0.0000e+00 - val_mean_absolute_error: 0.0268 - val_binary_crossentropy: 0.5562\n",
      "Epoch 476/500\n",
      "900/900 [==============================] - 0s 36us/step - loss: 0.0017 - acc: 0.0033 - mean_absolute_error: 0.0323 - binary_crossentropy: 0.5585 - val_loss: 0.0011 - val_acc: 0.0000e+00 - val_mean_absolute_error: 0.0262 - val_binary_crossentropy: 0.5561\n",
      "Epoch 477/500\n",
      "900/900 [==============================] - 0s 34us/step - loss: 0.0010 - acc: 0.0033 - mean_absolute_error: 0.0244 - binary_crossentropy: 0.5570 - val_loss: 0.0019 - val_acc: 0.0000e+00 - val_mean_absolute_error: 0.0358 - val_binary_crossentropy: 0.5579\n",
      "Epoch 478/500\n",
      "900/900 [==============================] - 0s 35us/step - loss: 0.0021 - acc: 0.0033 - mean_absolute_error: 0.0360 - binary_crossentropy: 0.5596 - val_loss: 0.0011 - val_acc: 0.0000e+00 - val_mean_absolute_error: 0.0261 - val_binary_crossentropy: 0.5561\n",
      "Epoch 479/500\n",
      "900/900 [==============================] - 0s 38us/step - loss: 0.0016 - acc: 0.0033 - mean_absolute_error: 0.0328 - binary_crossentropy: 0.5584 - val_loss: 0.0013 - val_acc: 0.0000e+00 - val_mean_absolute_error: 0.0285 - val_binary_crossentropy: 0.5565\n",
      "Epoch 480/500\n",
      "900/900 [==============================] - 0s 34us/step - loss: 0.0014 - acc: 0.0033 - mean_absolute_error: 0.0306 - binary_crossentropy: 0.5580 - val_loss: 0.0018 - val_acc: 0.0000e+00 - val_mean_absolute_error: 0.0354 - val_binary_crossentropy: 0.5578\n",
      "Epoch 481/500\n",
      "900/900 [==============================] - 0s 34us/step - loss: 0.0015 - acc: 0.0033 - mean_absolute_error: 0.0323 - binary_crossentropy: 0.5582 - val_loss: 0.0024 - val_acc: 0.0000e+00 - val_mean_absolute_error: 0.0403 - val_binary_crossentropy: 0.5590\n",
      "Epoch 482/500\n",
      "900/900 [==============================] - 0s 37us/step - loss: 0.0017 - acc: 0.0033 - mean_absolute_error: 0.0337 - binary_crossentropy: 0.5586 - val_loss: 0.0014 - val_acc: 0.0000e+00 - val_mean_absolute_error: 0.0315 - val_binary_crossentropy: 0.5570\n",
      "Epoch 483/500\n",
      "900/900 [==============================] - 0s 36us/step - loss: 0.0014 - acc: 0.0033 - mean_absolute_error: 0.0304 - binary_crossentropy: 0.5580 - val_loss: 0.0012 - val_acc: 0.0000e+00 - val_mean_absolute_error: 0.0273 - val_binary_crossentropy: 0.5563\n",
      "Epoch 484/500\n",
      "900/900 [==============================] - 0s 39us/step - loss: 0.0019 - acc: 0.0033 - mean_absolute_error: 0.0351 - binary_crossentropy: 0.5591 - val_loss: 0.0011 - val_acc: 0.0000e+00 - val_mean_absolute_error: 0.0265 - val_binary_crossentropy: 0.5562\n",
      "Epoch 485/500\n",
      "900/900 [==============================] - 0s 37us/step - loss: 0.0011 - acc: 0.0033 - mean_absolute_error: 0.0257 - binary_crossentropy: 0.5572 - val_loss: 0.0017 - val_acc: 0.0000e+00 - val_mean_absolute_error: 0.0330 - val_binary_crossentropy: 0.5573\n",
      "Epoch 486/500\n",
      "900/900 [==============================] - 0s 35us/step - loss: 0.0017 - acc: 0.0033 - mean_absolute_error: 0.0338 - binary_crossentropy: 0.5586 - val_loss: 0.0011 - val_acc: 0.0000e+00 - val_mean_absolute_error: 0.0260 - val_binary_crossentropy: 0.5561\n",
      "Epoch 487/500\n",
      "900/900 [==============================] - 0s 36us/step - loss: 0.0015 - acc: 0.0033 - mean_absolute_error: 0.0302 - binary_crossentropy: 0.5581 - val_loss: 0.0022 - val_acc: 0.0000e+00 - val_mean_absolute_error: 0.0380 - val_binary_crossentropy: 0.5585\n",
      "Epoch 488/500\n",
      "900/900 [==============================] - 0s 37us/step - loss: 0.0015 - acc: 0.0033 - mean_absolute_error: 0.0314 - binary_crossentropy: 0.5581 - val_loss: 0.0019 - val_acc: 0.0000e+00 - val_mean_absolute_error: 0.0355 - val_binary_crossentropy: 0.5579\n",
      "Epoch 489/500\n"
     ]
    },
    {
     "name": "stdout",
     "output_type": "stream",
     "text": [
      "900/900 [==============================] - 0s 34us/step - loss: 0.0018 - acc: 0.0033 - mean_absolute_error: 0.0351 - binary_crossentropy: 0.5589 - val_loss: 0.0012 - val_acc: 0.0000e+00 - val_mean_absolute_error: 0.0295 - val_binary_crossentropy: 0.5565\n",
      "Epoch 490/500\n",
      "900/900 [==============================] - 0s 34us/step - loss: 0.0011 - acc: 0.0033 - mean_absolute_error: 0.0259 - binary_crossentropy: 0.5572 - val_loss: 0.0027 - val_acc: 0.0000e+00 - val_mean_absolute_error: 0.0428 - val_binary_crossentropy: 0.5597\n",
      "Epoch 491/500\n",
      "900/900 [==============================] - 0s 34us/step - loss: 0.0016 - acc: 0.0033 - mean_absolute_error: 0.0314 - binary_crossentropy: 0.5583 - val_loss: 0.0017 - val_acc: 0.0000e+00 - val_mean_absolute_error: 0.0339 - val_binary_crossentropy: 0.5576\n",
      "Epoch 492/500\n",
      "900/900 [==============================] - 0s 32us/step - loss: 0.0017 - acc: 0.0033 - mean_absolute_error: 0.0345 - binary_crossentropy: 0.5587 - val_loss: 0.0014 - val_acc: 0.0000e+00 - val_mean_absolute_error: 0.0293 - val_binary_crossentropy: 0.5567\n",
      "Epoch 493/500\n",
      "900/900 [==============================] - 0s 35us/step - loss: 0.0018 - acc: 0.0033 - mean_absolute_error: 0.0349 - binary_crossentropy: 0.5589 - val_loss: 0.0014 - val_acc: 0.0000e+00 - val_mean_absolute_error: 0.0304 - val_binary_crossentropy: 0.5568\n",
      "Epoch 494/500\n",
      "900/900 [==============================] - 0s 34us/step - loss: 0.0012 - acc: 0.0033 - mean_absolute_error: 0.0270 - binary_crossentropy: 0.5574 - val_loss: 0.0013 - val_acc: 0.0000e+00 - val_mean_absolute_error: 0.0282 - val_binary_crossentropy: 0.5564\n",
      "Epoch 495/500\n",
      "900/900 [==============================] - 0s 37us/step - loss: 0.0019 - acc: 0.0033 - mean_absolute_error: 0.0345 - binary_crossentropy: 0.5590 - val_loss: 0.0011 - val_acc: 0.0000e+00 - val_mean_absolute_error: 0.0262 - val_binary_crossentropy: 0.5561\n",
      "Epoch 496/500\n",
      "900/900 [==============================] - 0s 38us/step - loss: 0.0011 - acc: 0.0033 - mean_absolute_error: 0.0253 - binary_crossentropy: 0.5572 - val_loss: 0.0021 - val_acc: 0.0000e+00 - val_mean_absolute_error: 0.0379 - val_binary_crossentropy: 0.5586\n",
      "Epoch 497/500\n",
      "900/900 [==============================] - 0s 35us/step - loss: 0.0020 - acc: 0.0033 - mean_absolute_error: 0.0366 - binary_crossentropy: 0.5593 - val_loss: 0.0012 - val_acc: 0.0000e+00 - val_mean_absolute_error: 0.0280 - val_binary_crossentropy: 0.5564\n",
      "Epoch 498/500\n",
      "900/900 [==============================] - 0s 34us/step - loss: 0.0015 - acc: 0.0033 - mean_absolute_error: 0.0312 - binary_crossentropy: 0.5581 - val_loss: 0.0012 - val_acc: 0.0000e+00 - val_mean_absolute_error: 0.0285 - val_binary_crossentropy: 0.5565\n",
      "Epoch 499/500\n",
      "900/900 [==============================] - 0s 40us/step - loss: 0.0015 - acc: 0.0033 - mean_absolute_error: 0.0313 - binary_crossentropy: 0.5582 - val_loss: 0.0011 - val_acc: 0.0000e+00 - val_mean_absolute_error: 0.0260 - val_binary_crossentropy: 0.5561\n",
      "Epoch 500/500\n",
      "900/900 [==============================] - 0s 34us/step - loss: 0.0016 - acc: 0.0033 - mean_absolute_error: 0.0325 - binary_crossentropy: 0.5585 - val_loss: 0.0023 - val_acc: 0.0000e+00 - val_mean_absolute_error: 0.0390 - val_binary_crossentropy: 0.5587\n"
     ]
    }
   ],
   "source": [
    "data_augmentation = False\n",
    "# data_augmentation = True\n",
    "\n",
    "callbacks = []\n",
    "# callbacks = [TensorBoard(log_dir=config.tmp_log_dir)]\n",
    "\n",
    "if not data_augmentation:\n",
    "    print('Not using data augmentation.')\n",
    "#     history = ae.fit(x_train, epochs=epochs, validation_data=(x_test, None))\n",
    "    history = encoder_model.fit(\n",
    "        x_train,\n",
    "        y_train,\n",
    "        batch_size=batch_size,\n",
    "        epochs=epochs,\n",
    "        validation_data=(x_test, y_test),\n",
    "        callbacks=callbacks,\n",
    "        shuffle=True)\n",
    "else:\n",
    "    print('Using real-time data augmentation.')    \n",
    "    history = encoder_model.fit_generator(\n",
    "        datagen.flow(x_train, y_train, batch_size=batch_size),\n",
    "        epochs=epochs,\n",
    "        validation_data=(x_test, y_test),\n",
    "        callbacks=callbacks,\n",
    "        workers=4)"
   ]
  },
  {
   "cell_type": "code",
   "execution_count": 23,
   "metadata": {},
   "outputs": [
    {
     "data": {
      "text/plain": [
       "[<matplotlib.lines.Line2D at 0x118713278>]"
      ]
     },
     "execution_count": 23,
     "metadata": {},
     "output_type": "execute_result"
    },
    {
     "data": {
      "image/png": "[encoded data removed]",
      "text/plain": [
       "<matplotlib.figure.Figure at 0x118713cf8>"
      ]
     },
     "metadata": {},
     "output_type": "display_data"
    }
   ],
   "source": [
    "plt.plot(history.history['loss'])\n",
    "plt.plot(history.history['val_loss'])"
   ]
  },
  {
   "cell_type": "code",
   "execution_count": 24,
   "metadata": {},
   "outputs": [
    {
     "data": {
      "text/plain": [
       "[<matplotlib.lines.Line2D at 0x1187130f0>]"
      ]
     },
     "execution_count": 24,
     "metadata": {},
     "output_type": "execute_result"
    },
    {
     "data": {
      "image/png": "[encoded data removed]",
      "text/plain": [
       "<matplotlib.figure.Figure at 0x118713748>"
      ]
     },
     "metadata": {},
     "output_type": "display_data"
    }
   ],
   "source": [
    "plt.plot(history.history['acc'])\n",
    "plt.plot(history.history['val_acc'])"
   ]
  },
  {
   "cell_type": "code",
   "execution_count": 25,
   "metadata": {},
   "outputs": [
    {
     "data": {
      "text/plain": [
       "[<matplotlib.lines.Line2D at 0x117a88e10>]"
      ]
     },
     "execution_count": 25,
     "metadata": {},
     "output_type": "execute_result"
    },
    {
     "data": {
      "image/png": "[encoded data removed]",
      "text/plain": [
       "<matplotlib.figure.Figure at 0x117a88518>"
      ]
     },
     "metadata": {},
     "output_type": "display_data"
    }
   ],
   "source": [
    "plt.plot(history.history['mean_absolute_error'])\n",
    "plt.plot(history.history['val_mean_absolute_error'])"
   ]
  },
  {
   "cell_type": "code",
   "execution_count": 26,
   "metadata": {},
   "outputs": [
    {
     "data": {
      "text/plain": [
       "0.45999421394531187"
      ]
     },
     "execution_count": 26,
     "metadata": {},
     "output_type": "execute_result"
    }
   ],
   "source": [
    "i = 1\n",
    "y_train[i]"
   ]
  },
  {
   "cell_type": "code",
   "execution_count": 27,
   "metadata": {},
   "outputs": [
    {
     "data": {
      "text/plain": [
       "array([0.49524474], dtype=float32)"
      ]
     },
     "execution_count": 27,
     "metadata": {},
     "output_type": "execute_result"
    }
   ],
   "source": [
    "encoder_model.predict(x_train[:10])[i]"
   ]
  },
  {
   "cell_type": "code",
   "execution_count": 28,
   "metadata": {},
   "outputs": [
    {
     "data": {
      "text/plain": [
       "array([0.        , 0.73939037])"
      ]
     },
     "execution_count": 28,
     "metadata": {},
     "output_type": "execute_result"
    }
   ],
   "source": [
    "i = y_train.argmin()\n",
    "y_train[i:i+2]"
   ]
  },
  {
   "cell_type": "code",
   "execution_count": 29,
   "metadata": {},
   "outputs": [
    {
     "data": {
      "text/plain": [
       "array([[0.0873381 ],\n",
       "       [0.74160343]], dtype=float32)"
      ]
     },
     "execution_count": 29,
     "metadata": {},
     "output_type": "execute_result"
    }
   ],
   "source": [
    "encoder_model.predict([x_train[i:i+2]])"
   ]
  },
  {
   "cell_type": "code",
   "execution_count": null,
   "metadata": {},
   "outputs": [],
   "source": []
  },
  {
   "cell_type": "code",
   "execution_count": null,
   "metadata": {},
   "outputs": [],
   "source": []
  },
  {
   "cell_type": "markdown",
   "metadata": {},
   "source": [
    "## Decoder\n",
    "mapping: f -> sin(f)"
   ]
  },
  {
   "cell_type": "code",
   "execution_count": 39,
   "metadata": {},
   "outputs": [],
   "source": [
    "from keras.utils.generic_utils import get_custom_objects"
   ]
  },
  {
   "cell_type": "code",
   "execution_count": 40,
   "metadata": {},
   "outputs": [],
   "source": [
    "# saw = Lambda(lambda x: x % 1) # No gradient defined for operation 'mod' (op type: FloorMod)\n",
    "def saw(x):\n",
    "     # No gradient defined for operation 'mod' (op type: FloorMod)\n",
    "    # return x % 1\n",
    "    \n",
    "#     return K.tf.where(x < 1, x, K.zeros_like(x))\n",
    "    return K.tf.where(x < 1, x, x - 1)\n",
    "\n",
    "def sawDescending(x):\n",
    "     # No gradient defined for operation 'mod' (op type: FloorMod)\n",
    "    # return x % 1\n",
    "#     return K.tf.where(x > 0, x, K.ones_like(x))\n",
    "    return K.tf.where(x > 0, x, x + 1)\n",
    "\n",
    "get_custom_objects().update({'saw': Activation(saw), 'sawDescending': Activation(sawDescending)})\n",
    "\n",
    "# make sure to import this function when loading this model in another module"
   ]
  },
  {
   "cell_type": "code",
   "execution_count": 41,
   "metadata": {},
   "outputs": [],
   "source": [
    "# # saw = Lambda(lambda x: x % 1) # No gradient defined for operation 'mod' (op type: FloorMod)\n",
    "# def saw(x):\n",
    "#      # No gradient defined for operation 'mod' (op type: FloorMod)\n",
    "#     # return x % 1\n",
    "#     return K.tf.where(x < 1, x, x - 1)\n",
    "\n",
    "# def sawDescending(x):\n",
    "#      # No gradient defined for operation 'mod' (op type: FloorMod)\n",
    "#     # return x % 1\n",
    "#     return K.tf.where(x < 0, K.ones_like(x), x)\n",
    "\n",
    "# get_custom_objects().update({'saw': Activation(saw), 'sawDescending': Activation(sawDescending)})\n",
    "\n",
    "# # make sure to import this function when loading this model in another module"
   ]
  },
  {
   "cell_type": "code",
   "execution_count": 152,
   "metadata": {},
   "outputs": [
    {
     "data": {
      "text/plain": [
       "(40, 1)"
      ]
     },
     "execution_count": 152,
     "metadata": {},
     "output_type": "execute_result"
    }
   ],
   "source": [
    "timesteps, notes"
   ]
  },
  {
   "cell_type": "code",
   "execution_count": 354,
   "metadata": {},
   "outputs": [
    {
     "name": "stdout",
     "output_type": "stream",
     "text": [
      "__________________________________________________________________________________________________\n",
      "Layer (type)                    Output Shape         Param #     Connected to                     \n",
      "==================================================================================================\n",
      "input_50 (InputLayer)           (None, 1)            0                                            \n",
      "__________________________________________________________________________________________________\n",
      "dense_149 (Dense)               (None, 16)           32          input_50[0][0]                   \n",
      "__________________________________________________________________________________________________\n",
      "dense_150 (Dense)               (None, 16)           272         dense_149[0][0]                  \n",
      "__________________________________________________________________________________________________\n",
      "reshape_92 (Reshape)            (None, 16, 1)        0           dense_150[0][0]                  \n",
      "__________________________________________________________________________________________________\n",
      "locally_connected1d_40 (Locally (None, 16, 1)        32          reshape_92[0][0]                 \n",
      "__________________________________________________________________________________________________\n",
      "dense_148 (Dense)               (None, 16)           32          input_50[0][0]                   \n",
      "__________________________________________________________________________________________________\n",
      "reshape_93 (Reshape)            (None, 16)           0           locally_connected1d_40[0][0]     \n",
      "__________________________________________________________________________________________________\n",
      "add_39 (Add)                    (None, 16)           0           dense_148[0][0]                  \n",
      "                                                                 reshape_93[0][0]                 \n",
      "__________________________________________________________________________________________________\n",
      "repeat_vector_85 (RepeatVector) (None, 1, 16)        0           add_39[0][0]                     \n",
      "__________________________________________________________________________________________________\n",
      "repeat_vector_86 (RepeatVector) (None, 39, 16)       0           dense_150[0][0]                  \n",
      "__________________________________________________________________________________________________\n",
      "concatenate_30 (Concatenate)    (None, 40, 16)       0           repeat_vector_85[0][0]           \n",
      "                                                                 repeat_vector_86[0][0]           \n",
      "__________________________________________________________________________________________________\n",
      "simple_rnn_29 (SimpleRNN)       (None, 40, 2)        38          concatenate_30[0][0]             \n",
      "__________________________________________________________________________________________________\n",
      "locally_connected1d_41 (Locally (None, 40, 3)        360         simple_rnn_29[0][0]              \n",
      "__________________________________________________________________________________________________\n",
      "locally_connected1d_42 (Locally (None, 40, 1)        160         locally_connected1d_41[0][0]     \n",
      "__________________________________________________________________________________________________\n",
      "reshape_94 (Reshape)            (None, 40)           0           locally_connected1d_42[0][0]     \n",
      "__________________________________________________________________________________________________\n",
      "activation_28 (Activation)      (None, 40)           0           reshape_94[0][0]                 \n",
      "__________________________________________________________________________________________________\n",
      "reshape_95 (Reshape)            (None, 40, 1, 1)     0           activation_28[0][0]              \n",
      "==================================================================================================\n",
      "Total params: 926\n",
      "Trainable params: 926\n",
      "Non-trainable params: 0\n",
      "__________________________________________________________________________________________________\n"
     ]
    }
   ],
   "source": [
    "decoder_input = Input(shape=(notes,))\n",
    "x = decoder_input\n",
    "\n",
    "unroll = False\n",
    "\n",
    "ratio = 0.1\n",
    "sub_t = int(timesteps * ratio)\n",
    "super_t = int(timesteps/ sub_t)\n",
    "\n",
    "# a = ELU(alpha=0.5)\n",
    "# ThresholdedReLU\n",
    "# PReLU\n",
    "# ELU\n",
    "# LeakyRelu\n",
    "\n",
    "# x1 = starting value\n",
    "# x2 :: [decay1, decay2, decay3]\n",
    "# end of sequence = decay3 * (decay2 * (decay1 * x1))\n",
    "# full sequence = [decay1 * x1, decay2(decay1 * x1), etc... ]\n",
    "\n",
    "# x1 might have abias of zero\n",
    "# TODO x1 ** 0.5\n",
    "# x2 might disregard its input\n",
    "# TODO check if x2 can have an offset bias\n",
    "\n",
    "# decay is non-linear?\n",
    "# decay = 1/f\n",
    "\n",
    "width = 2\n",
    "dims = notes * channels * width\n",
    "dim1, dim2 = timesteps, 16\n",
    "\n",
    "x1, x2 = x, x\n",
    "x1 = Dense(dim2, activation='relu')(x1) # phase (linear)\n",
    "x2 = Dense(dim2, activation='relu')(x2) # e.g decay: 0.5 * decay, 0.5 * decay * decay\n",
    "x2 = Dense(dim2, activation='relu')(x2)\n",
    "\n",
    "# x2_to_x1 = Dense(dim2)(x2)\n",
    "x2_to_x1 = x2\n",
    "# x2_to_x1 = Dense(1)(x2_to_x1)\n",
    "x2_to_x1 = Reshape([dim2, 1])(x2_to_x1)\n",
    "x2_to_x1 = LocallyConnected1D(1, kernel_size=1, strides=1, activation='relu')(x2_to_x1)\n",
    "x2_to_x1 = Reshape([16])(x2_to_x1)\n",
    "\n",
    "x1 = Add()([x1, x2_to_x1])\n",
    "x1 = RepeatVector(1)(x1)\n",
    "\n",
    "x2 = RepeatVector(timesteps - 1)(x2)\n",
    "x = Concatenate(axis=1)([x1, x2])\n",
    "x = SimpleRNN(dims, return_sequences=True, unroll=unroll)(x)\n",
    "\n",
    "x = LocallyConnected1D(3, kernel_size=1, strides=1, activation='relu')(x)\n",
    "x = LocallyConnected1D(1, kernel_size=1, strides=1, activation='relu')(x)\n",
    "\n",
    "# x = Flatten()(x)\n",
    "# x = Dense(np.prod(input_shape), activation='relu')(x)\n",
    "# x = Dense(np.prod(input_shape), activation='sigmoid')(x)\n",
    "x = Reshape((np.prod(input_shape),))(x)\n",
    "x = Activation('sigmoid')(x)\n",
    "x = Reshape(input_shape)(x)\n",
    "\n",
    "decoder_output = x\n",
    "\n",
    "decoder_model = Model(decoder_input, decoder_output, name='decoder-')\n",
    "decoder_model.summary()"
   ]
  },
  {
   "cell_type": "code",
   "execution_count": 355,
   "metadata": {},
   "outputs": [
    {
     "name": "stdout",
     "output_type": "stream",
     "text": [
      "_________________________________________________________________\n",
      "Layer (type)                 Output Shape              Param #   \n",
      "=================================================================\n",
      "input_50 (InputLayer)        (None, 1)                 0         \n",
      "_________________________________________________________________\n",
      "decoder- (Model)             (None, 40, 1, 1)          926       \n",
      "_________________________________________________________________\n",
      "encoder- (Model)             (None, 1)                 49        \n",
      "=================================================================\n",
      "Total params: 975\n",
      "Trainable params: 926\n",
      "Non-trainable params: 49\n",
      "_________________________________________________________________\n"
     ]
    }
   ],
   "source": [
    "ae = Model(decoder_input, encoder_model(decoder_model(decoder_input)))\n",
    "ae.summary()"
   ]
  },
  {
   "cell_type": "code",
   "execution_count": 356,
   "metadata": {},
   "outputs": [],
   "source": [
    "encoder_model.trainable = False"
   ]
  },
  {
   "cell_type": "code",
   "execution_count": 357,
   "metadata": {},
   "outputs": [],
   "source": [
    "loss = 'mse' # mse mae binary_crossentropy rmsprop adadelta hinge\n",
    "ae.compile(loss=loss, optimizer='rmsprop', metrics=['accuracy','mae','mse'])"
   ]
  },
  {
   "cell_type": "code",
   "execution_count": 358,
   "metadata": {},
   "outputs": [],
   "source": [
    "batch_size = 100\n",
    "epochs = 60"
   ]
  },
  {
   "cell_type": "code",
   "execution_count": 359,
   "metadata": {
    "scrolled": true
   },
   "outputs": [],
   "source": [
    "j = 5\n",
    "history = ae.fit(y_train[:j], y_train[:j], \n",
    "    epochs=epochs, batch_size=batch_size, \n",
    "    validation_data=(y_test, y_test))"
   ]
  },
  {
   "cell_type": "code",
   "execution_count": 360,
   "metadata": {},
   "outputs": [],
   "source": [
    "decoder_model.compile(loss='binary_crossentropy', optimizer='rmsprop', metrics=['accuracy','mae','mse'])"
   ]
  },
  {
   "cell_type": "code",
   "execution_count": 372,
   "metadata": {
    "scrolled": true
   },
   "outputs": [],
   "source": [
    "# j = -1\n",
    "# history = decoder_model.fit(y_train[:j], x_train[:j], \n",
    "#     epochs=epochs, batch_size=batch_size, \n",
    "#     validation_data=(y_test, x_test))"
   ]
  },
  {
   "cell_type": "code",
   "execution_count": 363,
   "metadata": {},
   "outputs": [
    {
     "data": {
      "text/plain": [
       "[<matplotlib.lines.Line2D at 0x15e369ac8>]"
      ]
     },
     "execution_count": 363,
     "metadata": {},
     "output_type": "execute_result"
    },
    {
     "data": {
      "image/png": "[encoded data removed]",
      "text/plain": [
       "<matplotlib.figure.Figure at 0x15e37d160>"
      ]
     },
     "metadata": {},
     "output_type": "display_data"
    }
   ],
   "source": [
    "plt.plot(history.history['loss'])\n",
    "plt.plot(history.history['val_loss'])"
   ]
  },
  {
   "cell_type": "code",
   "execution_count": 364,
   "metadata": {},
   "outputs": [
    {
     "data": {
      "text/plain": [
       "[<matplotlib.lines.Line2D at 0x15f561c18>]"
      ]
     },
     "execution_count": 364,
     "metadata": {},
     "output_type": "execute_result"
    },
    {
     "data": {
      "image/png": "[encoded data removed]",
      "text/plain": [
       "<matplotlib.figure.Figure at 0x15f561b70>"
      ]
     },
     "metadata": {},
     "output_type": "display_data"
    }
   ],
   "source": [
    "plt.plot(history.history['acc'])\n",
    "plt.plot(history.history['val_acc'])"
   ]
  },
  {
   "cell_type": "code",
   "execution_count": 365,
   "metadata": {},
   "outputs": [
    {
     "data": {
      "text/plain": [
       "[<matplotlib.lines.Line2D at 0x15f7c7208>]"
      ]
     },
     "execution_count": 365,
     "metadata": {},
     "output_type": "execute_result"
    },
    {
     "data": {
      "image/png": "[encoded data removed]",
      "text/plain": [
       "<matplotlib.figure.Figure at 0x15f7c7518>"
      ]
     },
     "metadata": {},
     "output_type": "display_data"
    }
   ],
   "source": [
    "plt.plot(history.history['mean_absolute_error'])\n",
    "plt.plot(history.history['val_mean_absolute_error'])"
   ]
  },
  {
   "cell_type": "code",
   "execution_count": 366,
   "metadata": {},
   "outputs": [
    {
     "data": {
      "text/plain": [
       "array([0.60969224, 0.45999421, 0.75647234, 0.4772443 , 0.147375  ,\n",
       "       0.216071  , 0.62131938, 0.33297022, 0.32635377, 0.64138552])"
      ]
     },
     "execution_count": 366,
     "metadata": {},
     "output_type": "execute_result"
    }
   ],
   "source": [
    "y_train[:10]"
   ]
  },
  {
   "cell_type": "code",
   "execution_count": 367,
   "metadata": {
    "scrolled": true
   },
   "outputs": [
    {
     "data": {
      "text/plain": [
       "array([[0.9341733],\n",
       "       [0.9341733],\n",
       "       [0.9341733],\n",
       "       [0.9341733]], dtype=float32)"
      ]
     },
     "execution_count": 367,
     "metadata": {},
     "output_type": "execute_result"
    }
   ],
   "source": [
    "f = [0.1, 0.429, 0.856, 1.4]\n",
    "y = ae.predict(f)\n",
    "y"
   ]
  },
  {
   "cell_type": "code",
   "execution_count": 368,
   "metadata": {},
   "outputs": [
    {
     "data": {
      "text/plain": [
       "0.7999618268937279"
      ]
     },
     "execution_count": 368,
     "metadata": {},
     "output_type": "execute_result"
    }
   ],
   "source": [
    "y_train[y_train.argmax()]"
   ]
  },
  {
   "cell_type": "code",
   "execution_count": 369,
   "metadata": {},
   "outputs": [
    {
     "data": {
      "text/plain": [
       "0.0"
      ]
     },
     "execution_count": 369,
     "metadata": {},
     "output_type": "execute_result"
    }
   ],
   "source": [
    "y_train[y_train.argmin()]"
   ]
  },
  {
   "cell_type": "code",
   "execution_count": 370,
   "metadata": {},
   "outputs": [
    {
     "name": "stdout",
     "output_type": "stream",
     "text": [
      "m (40, 1)\n"
     ]
    },
    {
     "data": {
      "image/png": "[encoded data removed]",
      "text/plain": [
       "<matplotlib.figure.Figure at 0x160327518>"
      ]
     },
     "metadata": {},
     "output_type": "display_data"
    },
    {
     "name": "stdout",
     "output_type": "stream",
     "text": [
      "m (40, 1)\n"
     ]
    },
    {
     "data": {
      "image/png": "[encoded data removed]",
      "text/plain": [
       "<matplotlib.figure.Figure at 0x15f698f28>"
      ]
     },
     "metadata": {},
     "output_type": "display_data"
    },
    {
     "data": {
      "text/plain": [
       "array([0.60969224, 0.45999421, 0.75647234, 0.4772443 , 0.147375  ])"
      ]
     },
     "execution_count": 370,
     "metadata": {},
     "output_type": "execute_result"
    }
   ],
   "source": [
    "f = y_train[:10]\n",
    "y = decoder_model.predict(f)\n",
    "plot.single(x_train[0,:50,0])\n",
    "plot.single(y[0,:50,0])\n",
    "# plot.single(x_train[1,:50,0])\n",
    "f[:5]"
   ]
  },
  {
   "cell_type": "code",
   "execution_count": 371,
   "metadata": {},
   "outputs": [
    {
     "name": "stdout",
     "output_type": "stream",
     "text": [
      "m (40, 1)\n"
     ]
    },
    {
     "data": {
      "image/png": "[encoded data removed]",
      "text/plain": [
       "<matplotlib.figure.Figure at 0x160327978>"
      ]
     },
     "metadata": {},
     "output_type": "display_data"
    },
    {
     "name": "stdout",
     "output_type": "stream",
     "text": [
      "m (40, 1)\n"
     ]
    },
    {
     "data": {
      "image/png": "[encoded data removed]",
      "text/plain": [
       "<matplotlib.figure.Figure at 0x1604c79e8>"
      ]
     },
     "metadata": {},
     "output_type": "display_data"
    },
    {
     "name": "stdout",
     "output_type": "stream",
     "text": [
      "m (40, 1)\n"
     ]
    },
    {
     "data": {
      "image/png": "[encoded data removed]",
      "text/plain": [
       "<matplotlib.figure.Figure at 0x15f691c50>"
      ]
     },
     "metadata": {},
     "output_type": "display_data"
    },
    {
     "name": "stdout",
     "output_type": "stream",
     "text": [
      "m (40, 1)\n"
     ]
    },
    {
     "data": {
      "image/png": "[encoded data removed]",
      "text/plain": [
       "<matplotlib.figure.Figure at 0x15fa80b00>"
      ]
     },
     "metadata": {},
     "output_type": "display_data"
    }
   ],
   "source": [
    "f = [0, 0.3, 0.6, 1.2]\n",
    "y = decoder_model.predict(f)\n",
    "plot.single(y[0,:50,0])\n",
    "plot.single(y[1,:50,0])\n",
    "plot.single(y[2,:50,0])\n",
    "plot.single(y[3,:50,0])"
   ]
  },
  {
   "cell_type": "code",
   "execution_count": null,
   "metadata": {},
   "outputs": [],
   "source": []
  },
  {
   "cell_type": "code",
   "execution_count": null,
   "metadata": {},
   "outputs": [],
   "source": []
  },
  {
   "cell_type": "code",
   "execution_count": 352,
   "metadata": {},
   "outputs": [
    {
     "name": "stdout",
     "output_type": "stream",
     "text": [
      "m (40, 1)\n"
     ]
    },
    {
     "data": {
      "image/png": "[encoded data removed]",
      "text/plain": [
       "<matplotlib.figure.Figure at 0x1559387b8>"
      ]
     },
     "metadata": {},
     "output_type": "display_data"
    },
    {
     "name": "stdout",
     "output_type": "stream",
     "text": [
      "m (40, 1)\n"
     ]
    },
    {
     "data": {
      "image/png": "[encoded data removed]",
      "text/plain": [
       "<matplotlib.figure.Figure at 0x15a6d3898>"
      ]
     },
     "metadata": {},
     "output_type": "display_data"
    },
    {
     "name": "stdout",
     "output_type": "stream",
     "text": [
      "m (40, 1)\n"
     ]
    },
    {
     "data": {
      "image/png": "[encoded data removed]",
      "text/plain": [
       "<matplotlib.figure.Figure at 0x15a8ef4a8>"
      ]
     },
     "metadata": {},
     "output_type": "display_data"
    },
    {
     "name": "stdout",
     "output_type": "stream",
     "text": [
      "m (40, 1)\n"
     ]
    },
    {
     "data": {
      "image/png": "[encoded data removed]",
      "text/plain": [
       "<matplotlib.figure.Figure at 0x15a32a278>"
      ]
     },
     "metadata": {},
     "output_type": "display_data"
    }
   ],
   "source": [
    "# goal examples\n",
    "plot.single(x_train[0,:50,0])\n",
    "plot.single(x_train[1,:50,0])\n",
    "plot.single(x_train[2,:50,0])\n",
    "plot.single(x_train[3,:50,0])"
   ]
  },
  {
   "cell_type": "code",
   "execution_count": 353,
   "metadata": {},
   "outputs": [
    {
     "data": {
      "text/plain": [
       "array([0.60969224, 0.45999421, 0.75647234, 0.4772443 , 0.147375  ])"
      ]
     },
     "execution_count": 353,
     "metadata": {},
     "output_type": "execute_result"
    }
   ],
   "source": [
    "y_train[:5]"
   ]
  },
  {
   "cell_type": "code",
   "execution_count": null,
   "metadata": {},
   "outputs": [],
   "source": []
  },
  {
   "cell_type": "code",
   "execution_count": null,
   "metadata": {},
   "outputs": [],
   "source": []
  },
  {
   "cell_type": "code",
   "execution_count": null,
   "metadata": {},
   "outputs": [],
   "source": []
  },
  {
   "cell_type": "code",
   "execution_count": null,
   "metadata": {},
   "outputs": [],
   "source": []
  },
  {
   "cell_type": "code",
   "execution_count": null,
   "metadata": {},
   "outputs": [],
   "source": []
  },
  {
   "cell_type": "code",
   "execution_count": null,
   "metadata": {},
   "outputs": [],
   "source": []
  },
  {
   "cell_type": "code",
   "execution_count": null,
   "metadata": {},
   "outputs": [],
   "source": []
  }
 ],
 "metadata": {
  "kernelspec": {
   "display_name": "Python 3",
   "language": "python",
   "name": "python3"
  },
  "language_info": {
   "codemirror_mode": {
    "name": "ipython",
    "version": 3
   },
   "file_extension": ".py",
   "mimetype": "text/x-python",
   "name": "python",
   "nbconvert_exporter": "python",
   "pygments_lexer": "ipython3",
   "version": "3.6.4"
  }
 },
 "nbformat": 4,
 "nbformat_minor": 2
}
