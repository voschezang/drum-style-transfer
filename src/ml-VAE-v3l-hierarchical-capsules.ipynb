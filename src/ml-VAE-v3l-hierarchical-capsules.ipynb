{
 "cells": [
  {
   "cell_type": "code",
   "execution_count": 1,
   "metadata": {},
   "outputs": [
    {
     "name": "stderr",
     "output_type": "stream",
     "text": [
      "/Library/Frameworks/Python.framework/Versions/3.6/lib/python3.6/site-packages/h5py/__init__.py:36: FutureWarning: Conversion of the second argument of issubdtype from `float` to `np.floating` is deprecated. In future, it will be treated as `np.float64 == np.dtype(float).type`.\n",
      "  from ._conv import register_converters as _register_converters\n",
      "Using TensorFlow backend.\n"
     ]
    }
   ],
   "source": [
    "from __future__ import division\n",
    "\n",
    "import collections\n",
    "import numpy as np\n",
    "import matplotlib.pyplot as plt\n",
    "from scipy.stats import norm\n",
    "\n",
    "## NN libs\n",
    "import keras\n",
    "from keras import backend as K\n",
    "from keras import regularizers\n",
    "from keras.utils import to_categorical\n",
    "from keras.optimizers import SGD, Adam\n",
    "from keras.layers import *\n",
    "from keras.preprocessing.image import ImageDataGenerator\n",
    "from keras.models import Model\n",
    "from keras.callbacks import TensorBoard"
   ]
  },
  {
   "cell_type": "code",
   "execution_count": 2,
   "metadata": {},
   "outputs": [],
   "source": [
    "import config\n",
    "import os, numpy as np, pandas, sklearn, scipy.signal as signal\n",
    "import mido\n",
    "import matplotlib.pyplot as plt\n",
    "%matplotlib inline"
   ]
  },
  {
   "cell_type": "code",
   "execution_count": 3,
   "metadata": {},
   "outputs": [],
   "source": [
    "# local libs\n",
    "import config, models, setup\n",
    "import midi\n",
    "from midi import generators as g\n",
    "from utils import io, models_io, utils, plot\n",
    "from capsule.layers import Capsule, Length\n",
    "from capsule.capsulefunctions import squash, softmax, margin_loss"
   ]
  },
  {
   "cell_type": "code",
   "execution_count": 4,
   "metadata": {},
   "outputs": [
    {
     "name": "stdout",
     "output_type": "stream",
     "text": [
      " Context :: namedtuple(\n",
      "[ max_t = float\n",
      ", dt = float\n",
      ", n_timestesp = int\n",
      ", note_length = int\n",
      ", bpm = float\n",
      ", tempo = float\n",
      ", ticks_per_beat = int\n",
      "]\n",
      "\n",
      "Setting up params\n",
      "\n",
      "max min f 10.0 0.5\n",
      " >> Context(max_t=2.0, dt=0.05, n_timesteps=40, note_length=0.03, bpm=120.0, tempo=500000, ticks_per_beat=480)\n",
      " sample length:  40.000000\n",
      " max_f: 10.000000, min_f: 0.500000\n"
     ]
    }
   ],
   "source": [
    "context = setup.init()"
   ]
  },
  {
   "cell_type": "code",
   "execution_count": 5,
   "metadata": {
    "scrolled": true
   },
   "outputs": [
    {
     "name": "stdout",
     "output_type": "stream",
     "text": [
      "\n",
      "Importing midi-data\n",
      "\n",
      "Encoding midi-data\n",
      " 500\n",
      "> -> multi-track = True MidiFile\n",
      "\u001b[92m [INFO] : \u001b[0m\n",
      " |  True\n"
     ]
    }
   ],
   "source": [
    "n = 500 * 1\n",
    "dim4 = True\n",
    "multiTrack = True\n",
    "reduce_dims = midi.ReduceDimsOptions.MIDIFILE # GLOBAL\n",
    "dn = 'drum_midi/'\n",
    "x_train, labels = setup.import_data(context, n, dim4=dim4, reduce_dims=reduce_dims, dirname=dn, multiTrack=multiTrack, r=True)"
   ]
  },
  {
   "cell_type": "code",
   "execution_count": 6,
   "metadata": {},
   "outputs": [],
   "source": [
    "# n = 1000\n",
    "# min_f = 0\n",
    "# max_f = 3\n",
    "# x_train, params = g.gen_data_complex(context, n, max_f=max_f, min_f=min_f,\n",
    "#     n_polyrythms=1,\n",
    "#     n_channels=3,\n",
    "#     d_phase=True,\n",
    "#     return_params=True,\n",
    "#     dim4=dim4,\n",
    "#     multiTrack=multiTrack)"
   ]
  },
  {
   "cell_type": "code",
   "execution_count": 7,
   "metadata": {},
   "outputs": [
    {
     "data": {
      "text/plain": [
       "(500, 40, 9, 1)"
      ]
     },
     "execution_count": 7,
     "metadata": {},
     "output_type": "execute_result"
    }
   ],
   "source": [
    "x_train.shape"
   ]
  },
  {
   "cell_type": "code",
   "execution_count": 8,
   "metadata": {},
   "outputs": [
    {
     "data": {
      "text/plain": [
       "((500, 40, 9, 1), 450)"
      ]
     },
     "execution_count": 8,
     "metadata": {},
     "output_type": "execute_result"
    }
   ],
   "source": [
    "m = int(x_train.shape[0] * 0.9)\n",
    "x_train.shape, m"
   ]
  },
  {
   "cell_type": "code",
   "execution_count": 9,
   "metadata": {},
   "outputs": [],
   "source": [
    "x_test = x_train[m:]\n",
    "x_train = x_train[:m]"
   ]
  },
  {
   "cell_type": "code",
   "execution_count": 10,
   "metadata": {},
   "outputs": [
    {
     "name": "stdout",
     "output_type": "stream",
     "text": [
      "m (40, 9)\n"
     ]
    },
    {
     "data": {
      "image/png": "[encoded data removed]",
      "text/plain": [
       "<matplotlib.figure.Figure at 0x1172a2860>"
      ]
     },
     "metadata": {},
     "output_type": "display_data"
    },
    {
     "name": "stdout",
     "output_type": "stream",
     "text": [
      "m (40, 9)\n"
     ]
    },
    {
     "data": {
      "image/png": "[encoded data removed]",
      "text/plain": [
       "<matplotlib.figure.Figure at 0x118963dd8>"
      ]
     },
     "metadata": {},
     "output_type": "display_data"
    },
    {
     "data": {
      "text/plain": [
       "[\"../datasets/drum_midi//50´s Drummer MIDI Files/01 Rock'n'Roll/01 Dancin Rick 166BPM/01 8th Hat.mid\",\n",
       " \"../datasets/drum_midi//50´s Drummer MIDI Files/01 Rock'n'Roll/01 Dancin Rick 166BPM/02 8th Ride.mid\",\n",
       " \"../datasets/drum_midi//50´s Drummer MIDI Files/01 Rock'n'Roll/01 Dancin Rick 166BPM/03 16th Snare.mid\",\n",
       " \"../datasets/drum_midi//50´s Drummer MIDI Files/01 Rock'n'Roll/01 Dancin Rick 166BPM/04 8th Ride.mid\"]"
      ]
     },
     "execution_count": 10,
     "metadata": {},
     "output_type": "execute_result"
    }
   ],
   "source": [
    "plot.single(x_train[0, :50,:,0])\n",
    "plot.single(x_train[1, :50,:,0])\n",
    "# plot.single(x_train[2, :50,:,0])\n",
    "labels[0:4]"
   ]
  },
  {
   "cell_type": "code",
   "execution_count": 256,
   "metadata": {},
   "outputs": [
    {
     "data": {
      "text/plain": [
       "(40, 9, 1)"
      ]
     },
     "execution_count": 256,
     "metadata": {},
     "output_type": "execute_result"
    }
   ],
   "source": [
    "input_shape = x_train[0].shape\n",
    "timesteps = input_shape[0]\n",
    "notes = input_shape[1]\n",
    "input_shape"
   ]
  },
  {
   "cell_type": "code",
   "execution_count": 257,
   "metadata": {},
   "outputs": [],
   "source": [
    "latent_dim = 2\n",
    "intermediate_dim = 128\n",
    "epsilon_std = 1.0"
   ]
  },
  {
   "cell_type": "code",
   "execution_count": 258,
   "metadata": {},
   "outputs": [],
   "source": [
    "def encoder(input_shape, dropout=0.1):\n",
    "    encoder_input = Input(shape=input_shape)\n",
    "    nodes = np.prod(input_shape)\n",
    "    timesteps, notes, channels = input_shape\n",
    "    \n",
    "    # Convolution\n",
    "    h = encoder_input\n",
    "    k = (2,1)\n",
    "    s = (2,1)\n",
    "    filters = 32\n",
    "    h = Conv2D(32, kernel_size=k, strides=1, activation='relu', padding='valid')(h)\n",
    "    h = Conv2D(64, kernel_size=k, strides=1, activation='relu', padding='same')(h)\n",
    "    h = Conv2D(filters, kernel_size=k, strides=1, activation='relu', padding='same')(h)\n",
    "    reduced_timesteps = 39\n",
    "    h = Reshape((reduced_timesteps, notes * filters))(h)\n",
    "\n",
    "#     dim1, dim2 = 4, int(timesteps/4)\n",
    "    dim1, dim2 = 3, 13\n",
    "    h = Reshape((dim1, dim2, notes*filters))(h)\n",
    "\n",
    "    n_capsules = 10\n",
    "    capsule_dim = 6\n",
    "    n_routings=3\n",
    "    share_weights=True\n",
    "    capsule = Capsule(n_capsules, capsule_dim, n_routings, share_weights)\n",
    "\n",
    "    x = Lambda(lambda layer: Flatten()(capsule(layer)))\n",
    "    h = TimeDistributed(x)(h)\n",
    "    \n",
    "    # RNN\n",
    "    w = 96\n",
    "    h = Bidirectional(LSTM(w))(h)\n",
    "    h = Reshape((w*2, 1))(h)\n",
    "    \n",
    "    n_capsules = 10\n",
    "    capsule_dim = 6\n",
    "    n_routings=3\n",
    "    share_weights=True\n",
    "    h = Capsule(n_capsules, capsule_dim, n_routings, share_weights)(h)\n",
    "    h = Flatten()(h)\n",
    "    \n",
    "    # Z Mean, Variance\n",
    "    z_mean = Dense(latent_dim, name='z_mean')(h) # , activation='relu'\n",
    "    z_log_var = Dense(latent_dim, name='z_log_var')(h) # , activation='relu'\n",
    "        \n",
    "    encoder_output = [z_mean, z_log_var]\n",
    "    encoder_model = Model(encoder_input, encoder_output, name='encoder_model-')\n",
    "#     print('Extra params:', [k.count_params() for k in [rnn, reshape, capsule]])\n",
    "\n",
    "    return encoder_model, encoder_input, z_mean, z_log_var"
   ]
  },
  {
   "cell_type": "code",
   "execution_count": 259,
   "metadata": {
    "scrolled": false
   },
   "outputs": [
    {
     "name": "stdout",
     "output_type": "stream",
     "text": [
      "shared weights, shape = (1, 288, 60) 17280\n",
      "shared weights, shape = (1, 1, 60) 60\n",
      "__________________________________________________________________________________________________\n",
      "Layer (type)                    Output Shape         Param #     Connected to                     \n",
      "==================================================================================================\n",
      "input_15 (InputLayer)           (None, 40, 9, 1)     0                                            \n",
      "__________________________________________________________________________________________________\n",
      "conv2d_40 (Conv2D)              (None, 39, 9, 32)    96          input_15[0][0]                   \n",
      "__________________________________________________________________________________________________\n",
      "conv2d_41 (Conv2D)              (None, 39, 9, 64)    4160        conv2d_40[0][0]                  \n",
      "__________________________________________________________________________________________________\n",
      "conv2d_42 (Conv2D)              (None, 39, 9, 32)    4128        conv2d_41[0][0]                  \n",
      "__________________________________________________________________________________________________\n",
      "reshape_106 (Reshape)           (None, 39, 288)      0           conv2d_42[0][0]                  \n",
      "__________________________________________________________________________________________________\n",
      "reshape_107 (Reshape)           (None, 3, 13, 288)   0           reshape_106[0][0]                \n",
      "__________________________________________________________________________________________________\n",
      "time_distributed_33 (TimeDistri (None, 3, 60)        0           reshape_107[0][0]                \n",
      "__________________________________________________________________________________________________\n",
      "bidirectional_12 (Bidirectional (None, 192)          120576      time_distributed_33[0][0]        \n",
      "__________________________________________________________________________________________________\n",
      "reshape_108 (Reshape)           (None, 192, 1)       0           bidirectional_12[0][0]           \n",
      "__________________________________________________________________________________________________\n",
      "capsule_17 (Capsule)            (None, 10, 6)        60          reshape_108[0][0]                \n",
      "__________________________________________________________________________________________________\n",
      "flatten_53 (Flatten)            (None, 60)           0           capsule_17[0][0]                 \n",
      "__________________________________________________________________________________________________\n",
      "z_mean (Dense)                  (None, 2)            122         flatten_53[0][0]                 \n",
      "__________________________________________________________________________________________________\n",
      "z_log_var (Dense)               (None, 2)            122         flatten_53[0][0]                 \n",
      "==================================================================================================\n",
      "Total params: 129,264\n",
      "Trainable params: 129,264\n",
      "Non-trainable params: 0\n",
      "__________________________________________________________________________________________________\n"
     ]
    }
   ],
   "source": [
    "encoder_model, encoder_input, z_mean, z_log_var = encoder(input_shape)\n",
    "encoder_model.summary()"
   ]
  },
  {
   "cell_type": "code",
   "execution_count": 260,
   "metadata": {},
   "outputs": [],
   "source": [
    "sample_ = lambda args: models.sample(args, z_mean, z_log_var, latent_dim, epsilon_std)"
   ]
  },
  {
   "cell_type": "code",
   "execution_count": 261,
   "metadata": {},
   "outputs": [],
   "source": [
    "# z = Lambda(sampling)([z_mean, z_log_var])\n",
    "z_input = encoder_model(encoder_input)\n",
    "z_output = Lambda(sample_)(z_input)\n",
    "# z_output = Lambda(sampl_, output_shape=(latent_dim,))(encoder_input)"
   ]
  },
  {
   "cell_type": "code",
   "execution_count": 262,
   "metadata": {},
   "outputs": [],
   "source": [
    "## Test reshape order\n",
    "# input_a = np.arange(12).reshape([1,2,3,2])\n",
    "# a = Input(shape=(2,3,2))\n",
    "# x = Reshape([6,2])\n",
    "# model = Model(a, x(a))\n",
    "# print(model.predict(input_a))"
   ]
  },
  {
   "cell_type": "code",
   "execution_count": 263,
   "metadata": {},
   "outputs": [],
   "source": [
    "def list_decoders(output_shape):\n",
    "    # decoder_input = z_output\n",
    "    # h = decoder_input\n",
    "    # :output_shape = (timesteps, channels, channels) || (batches, filters, timesteps, channels)\n",
    "    # keras offers just Conv2DTranspose and not Conv1DTranspose\n",
    "    # - use 2D images during upsampling :: (timesteps, notes, channels) => (timesteps, notes, filters)\n",
    "    # - use 1D images to optimize reconstruction :: (timesteps, filters) => (timesteps, notes)\n",
    "    \n",
    "    # image_data_format = 'channels_last'\n",
    "    # goal shape: (timesteps, notes, channels)\n",
    "    # start with the 'reverse': lots of small imgs => few large img\n",
    "    \n",
    "    timesteps, notes, channels = output_shape\n",
    "    w = 256\n",
    "    output_shape = (timesteps, notes, 1)\n",
    "    \n",
    "    decoders = []\n",
    "    decoders += [ Dense(w) ]\n",
    "    decoders += [ LeakyReLU(alpha=0.3) ]\n",
    "    extra_decoders = []\n",
    "    for _ in range(3):\n",
    "        extra_decoders += [ Dense(w, activation='elu', bias_initializer='zeros') ]\n",
    "\n",
    "    extra_d = Lambda(lambda layer: utils.composition(extra_decoders, layer))\n",
    "    decoders += [ Lambda(lambda layer: Add()([layer, extra_d(layer)])) ]\n",
    "    decoders += [ BatchNormalization(momentum=0.3) ]\n",
    "\n",
    "    \n",
    "    # Shared Layers (Conductor)\n",
    "    \n",
    "    # +1 is used to produce an extra input for the first embedding-decoder    \n",
    "    n = 4\n",
    "    dim1, dim2, filters  = n, int(w/n), notes*4\n",
    "    decoders += [ Dense(dim1*dim2, activation='elu', name='conductor') ] # stddev = 0.001 in musicVAE\n",
    "    decoders += [ BatchNormalization(momentum=0.3) ]\n",
    "    decoders += [ Reshape((dim1, dim2)) ]\n",
    "    decoders += [ Reshape((dim1*dim2,)) ]\n",
    "    decoders += [ RepeatVector(n) ]\n",
    "#     # TODO CudnnLSTM to run on gpu\n",
    "    decoders += [ LSTM(128, return_sequences=True) ]\n",
    "    \n",
    "#     decoders += [ BatchNormalization(momentum=0.5) ] # TODO\n",
    "    print('dim1: %i dim2: %i filters: %i' % (dim1, dim2, filters))\n",
    "\n",
    "    \n",
    "    # Shared Decoders\n",
    "    \n",
    "    dim1, dim2, filters = n, int(timesteps/n), notes*4\n",
    "    shape = (dim2, notes)\n",
    "    dense1 = Dense(256, activation='relu')\n",
    "    dense2 = Dense(dim2*notes, activation='sigmoid')\n",
    "    reshape_d = Reshape((dim2, notes))\n",
    "    shared = Lambda(lambda layer: reshape_d(dense2(dense1(layer))))\n",
    "    decoders += [ TimeDistributed(shared) ]\n",
    "    \n",
    "    decoders += [ Reshape((timesteps, notes, channels))]\n",
    "    \n",
    "    \n",
    "    \n",
    "#     embedding_selectors = []\n",
    "#     for i in range(dim1):\n",
    "#         # Keep 2 embeddings per layer\n",
    "#         # Note that the second index is right-oriented (css style)\n",
    "#         j = dim1 - i - 1\n",
    "#         print(dim1, i, j)        \n",
    "#         # shape = (2, dim2*filters)\n",
    "# #         embedding_selectors += [ Cropping1D((i,j)) ]\n",
    "#         embedding_selectors += [ Cropping2D([(i,j),(0,0)]) ]\n",
    "        \n",
    "#     print(len(embedding_selectors))\n",
    "#     print('dim1: %i' % dim1, [(i,i+2) for i in range(dim1-1)])\n",
    "    \n",
    "#     # reshape: [x1,x2] -> [ concat[x1,x1] ] :: (2,x) -> (1, 2*x)\n",
    "#     # reshape_e = Reshape((1, 2*dim2*filters))\n",
    "#     reshape_e = Reshape((dim2, notes))\n",
    "    \n",
    "#     # \\layer -> map (\\f -> f layer) [f1, f2, f3]\n",
    "#     split_embeddings = Lambda(lambda layer: list(map(lambda f: reshape_e(f(layer)), embedding_selectors)))\n",
    "#     decoders += [ split_embeddings ]\n",
    "#     decoders += [ Concatenate(axis=1) ]\n",
    "    \n",
    "#     decoders += [ Reshape((timesteps, notes, channels))]\n",
    "\n",
    "    \n",
    "    \n",
    "#     # \\layer -> map (\\f -> f layer) [f1, f2, f3]\n",
    "#     split_embeddings = Lambda(lambda layer: list(map(lambda f: reshape_e(f(layer)), embedding_selectors)))\n",
    "#     decoders += [ split_embeddings ]\n",
    "#     decoders += [ Concatenate(axis=1) ]\n",
    "    \n",
    "# #     decoders += [ BatchNormalization(axis=1, momentum=0.5) ] # TODO\n",
    "\n",
    "    \n",
    "#     # For every embedding tuple (previous, current)\n",
    "#     #  put the samples respectively in the RNN\n",
    "#     #  then keep the second half of the sequences\n",
    "#     # input_shape = dim1 x (1,2*dim2*filters)\n",
    "#     # TODO CudnnLSTM to run on gpu\n",
    "#     lstm1 = LSTM(100, return_sequences=True)\n",
    "#     crop = Cropping1D((dim2,0))\n",
    "#     # lstm2(100, return_sequences=True)\n",
    "#     embedding_decoder = Lambda(lambda layer: crop(lstm1((layer))))\n",
    "#     decoders += [ TimeDistributed(embedding_decoder) ]\n",
    "#     # TODO ? instead of weird embedding-splitting, reuse the initial state of the previous lstm\n",
    "\n",
    "#     decoders += [ Reshape((dim1*dim2, 100)) ]\n",
    "#     decoders += [ TimeDistributed(Dense(notes, activation='sigmoid')) ]\n",
    "#     decoders += [ Reshape((timesteps, notes, 1)) ]\n",
    "\n",
    "\n",
    "    \n",
    "    return decoders, 1#(split_embeddings,)"
   ]
  },
  {
   "cell_type": "code",
   "execution_count": 264,
   "metadata": {},
   "outputs": [
    {
     "name": "stdout",
     "output_type": "stream",
     "text": [
      "dim1: 4 dim2: 64 filters: 36\n"
     ]
    }
   ],
   "source": [
    "decoders, layers = list_decoders(input_shape)"
   ]
  },
  {
   "cell_type": "code",
   "execution_count": 265,
   "metadata": {},
   "outputs": [
    {
     "name": "stdout",
     "output_type": "stream",
     "text": [
      "<keras.layers.core.Dense object at 0x168a720b8>\n",
      "<keras.layers.advanced_activations.LeakyReLU object at 0x168a72518>\n",
      "<keras.layers.core.Lambda object at 0x168a72b00>\n",
      "<keras.layers.normalization.BatchNormalization object at 0x168a72b38>\n",
      "<keras.layers.core.Dense object at 0x168a72a20>\n",
      "<keras.layers.normalization.BatchNormalization object at 0x168a72c88>\n",
      "<keras.layers.core.Reshape object at 0x168a72eb8>\n",
      "<keras.layers.core.Reshape object at 0x168a72e80>\n",
      "<keras.layers.core.RepeatVector object at 0x168a72d68>\n",
      "<keras.layers.recurrent.LSTM object at 0x168a72cf8>\n",
      "<keras.layers.wrappers.TimeDistributed object at 0x15e4b3588>\n",
      "<keras.layers.core.Reshape object at 0x15e4b30f0>\n"
     ]
    }
   ],
   "source": [
    "decoded = utils.composition(decoders, z_output, verbose=True)\n",
    "# layer1, = layers"
   ]
  },
  {
   "cell_type": "code",
   "execution_count": 266,
   "metadata": {},
   "outputs": [],
   "source": [
    "# layer1.output"
   ]
  },
  {
   "cell_type": "code",
   "execution_count": 267,
   "metadata": {},
   "outputs": [
    {
     "name": "stdout",
     "output_type": "stream",
     "text": [
      "__________________________________________________________________________________________________\n",
      "Layer (type)                    Output Shape         Param #     Connected to                     \n",
      "==================================================================================================\n",
      "input_15 (InputLayer)           (None, 40, 9, 1)     0                                            \n",
      "__________________________________________________________________________________________________\n",
      "encoder_model- (Model)          [(None, 2), (None, 2 129264      input_15[0][0]                   \n",
      "__________________________________________________________________________________________________\n",
      "lambda_109 (Lambda)             (None, 2)            0           encoder_model-[1][0]             \n",
      "                                                                 encoder_model-[1][1]             \n",
      "__________________________________________________________________________________________________\n",
      "dense_165 (Dense)               (None, 256)          768         lambda_109[0][0]                 \n",
      "__________________________________________________________________________________________________\n",
      "leaky_re_lu_31 (LeakyReLU)      (None, 256)          0           dense_165[0][0]                  \n",
      "__________________________________________________________________________________________________\n",
      "lambda_111 (Lambda)             (None, 256)          0           leaky_re_lu_31[0][0]             \n",
      "__________________________________________________________________________________________________\n",
      "batch_normalization_61 (BatchNo (None, 256)          1024        lambda_111[0][0]                 \n",
      "__________________________________________________________________________________________________\n",
      "conductor (Dense)               (None, 256)          65792       batch_normalization_61[0][0]     \n",
      "__________________________________________________________________________________________________\n",
      "batch_normalization_62 (BatchNo (None, 256)          1024        conductor[0][0]                  \n",
      "__________________________________________________________________________________________________\n",
      "reshape_109 (Reshape)           (None, 4, 64)        0           batch_normalization_62[0][0]     \n",
      "__________________________________________________________________________________________________\n",
      "reshape_110 (Reshape)           (None, 256)          0           reshape_109[0][0]                \n",
      "__________________________________________________________________________________________________\n",
      "repeat_vector_6 (RepeatVector)  (None, 4, 256)       0           reshape_110[0][0]                \n",
      "__________________________________________________________________________________________________\n",
      "lstm_18 (LSTM)                  (None, 4, 128)       197120      repeat_vector_6[0][0]            \n",
      "__________________________________________________________________________________________________\n",
      "time_distributed_34 (TimeDistri (None, 4, 10, 9)     0           lstm_18[0][0]                    \n",
      "__________________________________________________________________________________________________\n",
      "reshape_112 (Reshape)           (None, 40, 9, 1)     0           time_distributed_34[0][0]        \n",
      "==================================================================================================\n",
      "Total params: 394,992\n",
      "Trainable params: 393,968\n",
      "Non-trainable params: 1,024\n",
      "__________________________________________________________________________________________________\n"
     ]
    }
   ],
   "source": [
    "# instantiate VAE model\n",
    "vae_input = encoder_input\n",
    "vae_output = decoded\n",
    "vae = Model(vae_input, vae_output)\n",
    "vae.summary()"
   ]
  },
  {
   "cell_type": "code",
   "execution_count": 268,
   "metadata": {
    "scrolled": true
   },
   "outputs": [
    {
     "name": "stderr",
     "output_type": "stream",
     "text": [
      "/Library/Frameworks/Python.framework/Versions/3.6/lib/python3.6/site-packages/ipykernel_launcher.py:15: UserWarning: Output \"reshape_112\" missing from loss dictionary. We assume this was done on purpose, and we will not be expecting any data to be passed to \"reshape_112\" during training.\n",
      "  from ipykernel import kernelapp as app\n"
     ]
    }
   ],
   "source": [
    "# Compute VAE loss\n",
    "def vae_loss(beta=1.):\n",
    "#     beta = ((1.0 - tf.pow(hparams.beta_rate, tf.to_float(self.global_step)))\n",
    "#             * hparams.max_beta)\n",
    "#     self.loss = tf.reduce_mean(r_loss) + beta * tf.reduce_mean(kl_cost)\n",
    "    # y_true, y_pred, z_mean, z_log_var, timesteps=150, notes=3, beta=1.\n",
    "    xent_loss = timesteps * notes * keras.metrics.binary_crossentropy(K.flatten(vae_input), K.flatten(vae_output))\n",
    "    kl_loss = - 0.5 * K.sum(1 + z_log_var - K.square(z_mean) - K.exp(z_log_var), axis=-1)\n",
    "    # kl_loss = max(kl_loss, free_bits)\n",
    "    vae_loss = K.mean(xent_loss + beta * kl_loss)\n",
    "    return vae_loss\n",
    "\n",
    "vae_loss = vae_loss(beta=1)\n",
    "vae.add_loss(vae_loss)\n",
    "vae.compile(optimizer='adam')\n",
    "# vae.compile(optimizer=optimizer, loss=loss, metrics=metrics)"
   ]
  },
  {
   "cell_type": "code",
   "execution_count": 269,
   "metadata": {},
   "outputs": [
    {
     "data": {
      "text/plain": [
       "(None, 2)"
      ]
     },
     "execution_count": 269,
     "metadata": {},
     "output_type": "execute_result"
    }
   ],
   "source": [
    "K.int_shape(z_mean)"
   ]
  },
  {
   "cell_type": "code",
   "execution_count": 270,
   "metadata": {},
   "outputs": [],
   "source": [
    "batch_size = 100\n",
    "epochs = 100\n",
    "params = {'batch_size': batch_size, 'return_y': False}"
   ]
  },
  {
   "cell_type": "code",
   "execution_count": 271,
   "metadata": {},
   "outputs": [],
   "source": [
    "phase_mod = 0.01\n",
    "whitening = False"
   ]
  },
  {
   "cell_type": "code",
   "execution_count": 272,
   "metadata": {
    "scrolled": true
   },
   "outputs": [
    {
     "name": "stdout",
     "output_type": "stream",
     "text": [
      "x: (200, 40, 9, 1)\n",
      "batch_size = 100\n",
      "Train on 200 samples, validate on 50 samples\n",
      "Epoch 1/100\n",
      "200/200 [==============================] - 13s 67ms/step - loss: 241.2536 - val_loss: 231.5634\n",
      "Epoch 2/100\n",
      "200/200 [==============================] - 1s 4ms/step - loss: 227.4355 - val_loss: 222.8300\n",
      "Epoch 3/100\n",
      "200/200 [==============================] - 1s 4ms/step - loss: 221.2824 - val_loss: 217.7545\n",
      "Epoch 4/100\n",
      "200/200 [==============================] - 1s 4ms/step - loss: 216.8447 - val_loss: 218.0875\n",
      "Epoch 5/100\n",
      "200/200 [==============================] - 1s 4ms/step - loss: 214.3175 - val_loss: 216.9679\n",
      "Epoch 6/100\n",
      "200/200 [==============================] - 1s 4ms/step - loss: 212.3367 - val_loss: 217.3720\n",
      "Epoch 7/100\n",
      "200/200 [==============================] - 1s 4ms/step - loss: 211.2522 - val_loss: 215.2805\n",
      "Epoch 8/100\n",
      "200/200 [==============================] - 1s 4ms/step - loss: 209.4204 - val_loss: 212.8274\n",
      "Epoch 9/100\n",
      "200/200 [==============================] - 1s 5ms/step - loss: 207.7198 - val_loss: 210.9250\n",
      "Epoch 10/100\n",
      "200/200 [==============================] - 1s 4ms/step - loss: 206.4343 - val_loss: 208.7280\n",
      "Epoch 11/100\n",
      "200/200 [==============================] - 1s 4ms/step - loss: 205.0177 - val_loss: 207.0219\n",
      "Epoch 12/100\n",
      "200/200 [==============================] - 1s 5ms/step - loss: 203.6814 - val_loss: 206.7057\n",
      "Epoch 13/100\n",
      "200/200 [==============================] - 1s 4ms/step - loss: 202.2917 - val_loss: 204.5962\n",
      "Epoch 14/100\n",
      "200/200 [==============================] - 1s 4ms/step - loss: 200.6207 - val_loss: 203.4363\n",
      "Epoch 15/100\n",
      "200/200 [==============================] - 1s 5ms/step - loss: 200.4109 - val_loss: 202.5249\n",
      "Epoch 16/100\n",
      "200/200 [==============================] - 1s 4ms/step - loss: 199.9530 - val_loss: 203.7565\n",
      "Epoch 17/100\n",
      "200/200 [==============================] - 1s 5ms/step - loss: 198.8835 - val_loss: 207.8137\n",
      "Epoch 18/100\n",
      "200/200 [==============================] - 1s 5ms/step - loss: 198.0021 - val_loss: 202.3118\n",
      "Epoch 19/100\n",
      "200/200 [==============================] - 1s 4ms/step - loss: 197.2042 - val_loss: 202.9012\n",
      "Epoch 20/100\n",
      "200/200 [==============================] - 1s 4ms/step - loss: 197.0680 - val_loss: 202.6905\n",
      "Epoch 21/100\n",
      "200/200 [==============================] - 1s 5ms/step - loss: 196.9397 - val_loss: 201.0426\n",
      "Epoch 22/100\n",
      "200/200 [==============================] - 1s 4ms/step - loss: 196.4458 - val_loss: 200.0637\n",
      "Epoch 23/100\n",
      "200/200 [==============================] - 1s 4ms/step - loss: 195.9261 - val_loss: 200.2488\n",
      "Epoch 24/100\n",
      "200/200 [==============================] - 1s 5ms/step - loss: 196.3612 - val_loss: 200.0340\n",
      "Epoch 25/100\n",
      "200/200 [==============================] - 1s 4ms/step - loss: 195.6249 - val_loss: 200.5273\n",
      "Epoch 26/100\n",
      "200/200 [==============================] - 1s 4ms/step - loss: 195.1234 - val_loss: 199.3718\n",
      "Epoch 27/100\n",
      "200/200 [==============================] - 1s 4ms/step - loss: 194.7969 - val_loss: 198.6001\n",
      "Epoch 28/100\n",
      "200/200 [==============================] - 1s 5ms/step - loss: 194.7872 - val_loss: 198.8653\n",
      "Epoch 29/100\n",
      "200/200 [==============================] - 1s 5ms/step - loss: 194.9693 - val_loss: 203.9122\n",
      "Epoch 30/100\n",
      "200/200 [==============================] - 1s 5ms/step - loss: 194.4098 - val_loss: 200.7420\n",
      "Epoch 31/100\n",
      "200/200 [==============================] - 1s 5ms/step - loss: 194.3411 - val_loss: 199.5295\n",
      "Epoch 32/100\n",
      "200/200 [==============================] - 1s 4ms/step - loss: 194.1452 - val_loss: 200.0027\n",
      "Epoch 33/100\n",
      "200/200 [==============================] - 1s 4ms/step - loss: 193.2052 - val_loss: 200.0094\n",
      "Epoch 34/100\n",
      "200/200 [==============================] - 1s 4ms/step - loss: 192.4921 - val_loss: 197.7546\n",
      "Epoch 35/100\n",
      "200/200 [==============================] - 1s 5ms/step - loss: 192.3394 - val_loss: 200.4225\n",
      "Epoch 36/100\n",
      "200/200 [==============================] - 1s 5ms/step - loss: 192.7045 - val_loss: 199.7774\n",
      "Epoch 37/100\n",
      "200/200 [==============================] - 1s 5ms/step - loss: 192.3602 - val_loss: 198.0236\n",
      "Epoch 38/100\n",
      "200/200 [==============================] - 1s 4ms/step - loss: 192.0765 - val_loss: 197.8036\n",
      "Epoch 39/100\n",
      "200/200 [==============================] - 1s 4ms/step - loss: 191.6246 - val_loss: 197.3893\n",
      "Epoch 40/100\n",
      "200/200 [==============================] - 1s 4ms/step - loss: 191.3319 - val_loss: 197.1241\n",
      "Epoch 41/100\n",
      "200/200 [==============================] - 1s 4ms/step - loss: 191.4432 - val_loss: 198.4560\n",
      "Epoch 42/100\n",
      "200/200 [==============================] - 1s 4ms/step - loss: 190.8481 - val_loss: 197.8010\n",
      "Epoch 43/100\n",
      "200/200 [==============================] - 1s 4ms/step - loss: 190.7123 - val_loss: 197.8989\n",
      "Epoch 44/100\n",
      "200/200 [==============================] - 1s 4ms/step - loss: 190.5311 - val_loss: 196.8489\n",
      "Epoch 45/100\n",
      "200/200 [==============================] - 1s 4ms/step - loss: 190.0251 - val_loss: 197.2195\n",
      "Epoch 46/100\n",
      "200/200 [==============================] - 1s 4ms/step - loss: 189.9037 - val_loss: 196.3024\n",
      "Epoch 47/100\n",
      "200/200 [==============================] - 1s 4ms/step - loss: 189.3956 - val_loss: 195.9941\n",
      "Epoch 48/100\n",
      "200/200 [==============================] - 1s 4ms/step - loss: 189.1777 - val_loss: 195.5171\n",
      "Epoch 49/100\n",
      "200/200 [==============================] - 1s 4ms/step - loss: 188.7986 - val_loss: 195.0990\n",
      "Epoch 50/100\n",
      "200/200 [==============================] - 1s 4ms/step - loss: 188.6521 - val_loss: 194.9801\n",
      "Epoch 51/100\n",
      "200/200 [==============================] - 1s 4ms/step - loss: 188.5680 - val_loss: 195.0538\n",
      "Epoch 52/100\n",
      "200/200 [==============================] - 1s 4ms/step - loss: 188.3508 - val_loss: 194.8427\n",
      "Epoch 53/100\n",
      "200/200 [==============================] - 1s 4ms/step - loss: 188.1528 - val_loss: 194.8658\n",
      "Epoch 54/100\n",
      "200/200 [==============================] - 1s 4ms/step - loss: 187.9862 - val_loss: 194.6958\n",
      "Epoch 55/100\n",
      "200/200 [==============================] - 1s 4ms/step - loss: 188.0473 - val_loss: 194.5828\n",
      "Epoch 56/100\n",
      "200/200 [==============================] - 1s 4ms/step - loss: 187.8570 - val_loss: 194.4447\n",
      "Epoch 57/100\n",
      "200/200 [==============================] - 1s 4ms/step - loss: 187.7661 - val_loss: 195.3851\n",
      "Epoch 58/100\n",
      "200/200 [==============================] - 1s 4ms/step - loss: 187.9590 - val_loss: 194.4481\n",
      "Epoch 59/100\n",
      "200/200 [==============================] - 1s 4ms/step - loss: 187.7492 - val_loss: 194.3869\n",
      "Epoch 60/100\n",
      "200/200 [==============================] - 1s 4ms/step - loss: 187.6175 - val_loss: 194.2815\n",
      "Epoch 61/100\n",
      "200/200 [==============================] - 1s 4ms/step - loss: 187.5278 - val_loss: 194.2255\n",
      "Epoch 62/100\n",
      "200/200 [==============================] - 1s 4ms/step - loss: 187.4295 - val_loss: 194.2471\n",
      "Epoch 63/100\n",
      "200/200 [==============================] - 1s 4ms/step - loss: 187.4073 - val_loss: 194.1714\n",
      "Epoch 64/100\n",
      "200/200 [==============================] - 1s 4ms/step - loss: 187.6220 - val_loss: 194.9972\n",
      "Epoch 65/100\n",
      "200/200 [==============================] - 1s 4ms/step - loss: 187.3548 - val_loss: 194.0075\n",
      "Epoch 66/100\n",
      "200/200 [==============================] - 1s 4ms/step - loss: 187.3755 - val_loss: 194.6610\n",
      "Epoch 67/100\n",
      "200/200 [==============================] - 1s 4ms/step - loss: 187.2296 - val_loss: 194.0795\n",
      "Epoch 68/100\n",
      "200/200 [==============================] - 1s 4ms/step - loss: 187.2871 - val_loss: 194.2153\n",
      "Epoch 69/100\n",
      "200/200 [==============================] - 1s 4ms/step - loss: 187.2121 - val_loss: 194.0346\n",
      "Epoch 70/100\n",
      "200/200 [==============================] - 1s 4ms/step - loss: 187.1385 - val_loss: 194.0337\n",
      "Epoch 71/100\n",
      "200/200 [==============================] - 1s 4ms/step - loss: 187.0595 - val_loss: 193.8956\n",
      "Epoch 72/100\n",
      "200/200 [==============================] - 1s 4ms/step - loss: 187.0324 - val_loss: 194.2582\n",
      "Epoch 73/100\n",
      "200/200 [==============================] - 1s 5ms/step - loss: 187.0492 - val_loss: 194.2526\n",
      "Epoch 74/100\n",
      "200/200 [==============================] - 1s 4ms/step - loss: 186.9017 - val_loss: 193.8460\n",
      "Epoch 75/100\n",
      "200/200 [==============================] - 1s 4ms/step - loss: 186.9532 - val_loss: 193.7642\n",
      "Epoch 76/100\n",
      "200/200 [==============================] - 1s 4ms/step - loss: 186.8812 - val_loss: 193.7929\n",
      "Epoch 77/100\n"
     ]
    },
    {
     "name": "stdout",
     "output_type": "stream",
     "text": [
      "200/200 [==============================] - 1s 4ms/step - loss: 186.8276 - val_loss: 193.7474\n",
      "Epoch 78/100\n",
      "200/200 [==============================] - 1s 4ms/step - loss: 186.8069 - val_loss: 194.0194\n",
      "Epoch 79/100\n",
      "200/200 [==============================] - 1s 4ms/step - loss: 186.7724 - val_loss: 193.7797\n",
      "Epoch 80/100\n",
      "200/200 [==============================] - 1s 4ms/step - loss: 186.6992 - val_loss: 193.7563\n",
      "Epoch 81/100\n",
      "200/200 [==============================] - 1s 4ms/step - loss: 186.6568 - val_loss: 193.6394\n",
      "Epoch 82/100\n",
      "200/200 [==============================] - 1s 4ms/step - loss: 186.6457 - val_loss: 193.6760\n",
      "Epoch 83/100\n",
      "200/200 [==============================] - 1s 4ms/step - loss: 186.7014 - val_loss: 193.6286\n",
      "Epoch 84/100\n",
      "200/200 [==============================] - 1s 4ms/step - loss: 186.6333 - val_loss: 193.6722\n",
      "Epoch 85/100\n",
      "200/200 [==============================] - 1s 4ms/step - loss: 186.5839 - val_loss: 193.6603\n",
      "Epoch 86/100\n",
      "200/200 [==============================] - 1s 4ms/step - loss: 186.5954 - val_loss: 193.6571\n",
      "Epoch 87/100\n",
      "200/200 [==============================] - 1s 4ms/step - loss: 186.5718 - val_loss: 193.6396\n",
      "Epoch 88/100\n",
      "200/200 [==============================] - 1s 4ms/step - loss: 186.5375 - val_loss: 193.8467\n",
      "Epoch 89/100\n",
      "200/200 [==============================] - 1s 4ms/step - loss: 186.5394 - val_loss: 193.5463\n",
      "Epoch 90/100\n",
      "200/200 [==============================] - 1s 4ms/step - loss: 186.5020 - val_loss: 193.5557\n",
      "Epoch 91/100\n",
      "200/200 [==============================] - 1s 4ms/step - loss: 186.5331 - val_loss: 193.5754\n",
      "Epoch 92/100\n",
      "200/200 [==============================] - 1s 4ms/step - loss: 186.4609 - val_loss: 193.5845\n",
      "Epoch 93/100\n",
      "200/200 [==============================] - 1s 4ms/step - loss: 186.4640 - val_loss: 193.5729\n",
      "Epoch 94/100\n",
      "200/200 [==============================] - 1s 4ms/step - loss: 186.4533 - val_loss: 193.6738\n",
      "Epoch 95/100\n",
      "200/200 [==============================] - 1s 4ms/step - loss: 186.4739 - val_loss: 193.5855\n",
      "Epoch 96/100\n",
      "200/200 [==============================] - 1s 4ms/step - loss: 186.4614 - val_loss: 193.5478\n",
      "Epoch 97/100\n",
      "200/200 [==============================] - 1s 4ms/step - loss: 186.4170 - val_loss: 193.5127\n",
      "Epoch 98/100\n",
      "200/200 [==============================] - 1s 4ms/step - loss: 186.4587 - val_loss: 193.5279\n",
      "Epoch 99/100\n",
      "200/200 [==============================] - 1s 5ms/step - loss: 186.4184 - val_loss: 193.5578\n",
      "Epoch 100/100\n",
      "200/200 [==============================] - 1s 4ms/step - loss: 186.4300 - val_loss: 193.5703\n"
     ]
    }
   ],
   "source": [
    "m = 2\n",
    "useDataGenerator = False\n",
    "# useDataGenerator = True\n",
    "\n",
    "x = x_train\n",
    "x = np.concatenate([x_train[:m] for _ in range(100)])\n",
    "print('x:', x.shape)\n",
    "\n",
    "print('batch_size =', batch_size)\n",
    "if useDataGenerator:\n",
    "    datagen = models.ImageDataGenerator(x_train, batch_size, phase_mod, whitening)\n",
    "    history = collections.defaultdict(list)\n",
    "    n_batches = datagen.__len__()\n",
    "    for e in range(epochs):\n",
    "        print('\\n[Epoch %i/%i] >>>>>>>>>' % (e, epochs))\n",
    "        for batch_i, (x_batch, y_batch) in enumerate(datagen.flow(x, x, batch_size)):\n",
    "            print(' Batch %i/%i' % (batch_i,n_batches))\n",
    "            x_ = x_batch\n",
    "            # x_ = datagen.shuffle_3rd_dim(x_)\n",
    "            x_ = datagen.shuffle_3rd_dim_soft(x_, rate=0.5, scale=0.1, verbose=0)\n",
    "            h = vae.fit(x_, validation_data=(x_test, None), verbose=0)\n",
    "            for k,v in h.history.items(): \n",
    "                print(' \\\\_%s' % k, [round(v_,) for v_ in v])\n",
    "                history[k].append(v)\n",
    "            if batch_i >= n_batches:\n",
    "                break\n",
    "else:\n",
    "    h = vae.fit(x, epochs=epochs, validation_data=(x_test, None))\n",
    "    history = h.history"
   ]
  },
  {
   "cell_type": "code",
   "execution_count": 273,
   "metadata": {},
   "outputs": [
    {
     "data": {
      "text/plain": [
       "[<matplotlib.lines.Line2D at 0x158fcfcf8>]"
      ]
     },
     "execution_count": 273,
     "metadata": {},
     "output_type": "execute_result"
    },
    {
     "data": {
      "image/png": "[encoded data removed]",
      "text/plain": [
       "<matplotlib.figure.Figure at 0x159581f98>"
      ]
     },
     "metadata": {},
     "output_type": "display_data"
    }
   ],
   "source": [
    "plt.plot(history['loss'])\n",
    "plt.plot(history['val_loss'])"
   ]
  },
  {
   "cell_type": "code",
   "execution_count": 274,
   "metadata": {},
   "outputs": [
    {
     "name": "stdout",
     "output_type": "stream",
     "text": [
      "m (40, 9)\n"
     ]
    },
    {
     "data": {
      "image/png": "[encoded data removed]",
      "text/plain": [
       "<matplotlib.figure.Figure at 0x16fa01780>"
      ]
     },
     "metadata": {},
     "output_type": "display_data"
    },
    {
     "name": "stdout",
     "output_type": "stream",
     "text": [
      "m (40, 9)\n"
     ]
    },
    {
     "data": {
      "image/png": "[encoded data removed]",
      "text/plain": [
       "<matplotlib.figure.Figure at 0x16fae9cf8>"
      ]
     },
     "metadata": {},
     "output_type": "display_data"
    },
    {
     "name": "stdout",
     "output_type": "stream",
     "text": [
      "m (40, 9)\n"
     ]
    },
    {
     "data": {
      "image/png": "[encoded data removed]",
      "text/plain": [
       "<matplotlib.figure.Figure at 0x16fb12518>"
      ]
     },
     "metadata": {},
     "output_type": "display_data"
    },
    {
     "name": "stdout",
     "output_type": "stream",
     "text": [
      "m (40, 9)\n"
     ]
    },
    {
     "data": {
      "image/png": "[encoded data removed]",
      "text/plain": [
       "<matplotlib.figure.Figure at 0x16fb908d0>"
      ]
     },
     "metadata": {},
     "output_type": "display_data"
    },
    {
     "name": "stdout",
     "output_type": "stream",
     "text": [
      "m (40, 9)\n"
     ]
    },
    {
     "data": {
      "image/png": "[encoded data removed]",
      "text/plain": [
       "<matplotlib.figure.Figure at 0x16fc66550>"
      ]
     },
     "metadata": {},
     "output_type": "display_data"
    },
    {
     "name": "stdout",
     "output_type": "stream",
     "text": [
      "m (40, 9)\n"
     ]
    },
    {
     "data": {
      "image/png": "[encoded data removed]",
      "text/plain": [
       "<matplotlib.figure.Figure at 0x1598f8748>"
      ]
     },
     "metadata": {},
     "output_type": "display_data"
    }
   ],
   "source": [
    "i = 0\n",
    "j = 1\n",
    "k = -1\n",
    "x = vae.predict(x_train[:100])\n",
    "plot.single(x_train[i, :50, :, 0])\n",
    "plot.single(x[i, :50, :, 0])\n",
    "plot.single(x_train[j, :50, :, 0])\n",
    "plot.single(x[j, :50, :, 0])\n",
    "plot.single(x_train[k, :50, :, 0])\n",
    "plot.single(x[k, :50, :, 0])"
   ]
  },
  {
   "cell_type": "code",
   "execution_count": 275,
   "metadata": {},
   "outputs": [
    {
     "ename": "NameError",
     "evalue": "name 'datagen' is not defined",
     "output_type": "error",
     "traceback": [
      "\u001b[0;31m---------------------------------------------------------------------------\u001b[0m",
      "\u001b[0;31mNameError\u001b[0m                                 Traceback (most recent call last)",
      "\u001b[0;32m<ipython-input-275-ea3238176e94>\u001b[0m in \u001b[0;36m<module>\u001b[0;34m()\u001b[0m\n\u001b[0;32m----> 1\u001b[0;31m \u001b[0mx\u001b[0m \u001b[0;34m=\u001b[0m \u001b[0mdatagen\u001b[0m\u001b[0;34m.\u001b[0m\u001b[0mshuffle_3rd_dim_soft\u001b[0m\u001b[0;34m(\u001b[0m\u001b[0mx_train\u001b[0m\u001b[0;34m[\u001b[0m\u001b[0;34m:\u001b[0m\u001b[0;36m10\u001b[0m\u001b[0;34m]\u001b[0m\u001b[0;34m,\u001b[0m \u001b[0mrate\u001b[0m\u001b[0;34m=\u001b[0m\u001b[0;36m1\u001b[0m\u001b[0;34m,\u001b[0m \u001b[0mintensity\u001b[0m\u001b[0;34m=\u001b[0m\u001b[0;36m2\u001b[0m\u001b[0;34m,\u001b[0m \u001b[0mscale\u001b[0m\u001b[0;34m=\u001b[0m\u001b[0;36m1\u001b[0m\u001b[0;34m,\u001b[0m \u001b[0mverbose\u001b[0m\u001b[0;34m=\u001b[0m\u001b[0;36m1\u001b[0m\u001b[0;34m)\u001b[0m\u001b[0;34m\u001b[0m\u001b[0m\n\u001b[0m\u001b[1;32m      2\u001b[0m \u001b[0mi\u001b[0m \u001b[0;34m=\u001b[0m \u001b[0;36m0\u001b[0m\u001b[0;34m\u001b[0m\u001b[0m\n\u001b[1;32m      3\u001b[0m \u001b[0mplot\u001b[0m\u001b[0;34m.\u001b[0m\u001b[0msingle\u001b[0m\u001b[0;34m(\u001b[0m\u001b[0mx_train\u001b[0m\u001b[0;34m[\u001b[0m\u001b[0mi\u001b[0m\u001b[0;34m,\u001b[0m\u001b[0;34m:\u001b[0m\u001b[0;34m,\u001b[0m\u001b[0;34m:\u001b[0m\u001b[0;34m,\u001b[0m\u001b[0;36m0\u001b[0m\u001b[0;34m]\u001b[0m\u001b[0;34m)\u001b[0m\u001b[0;34m\u001b[0m\u001b[0m\n\u001b[1;32m      4\u001b[0m \u001b[0mplot\u001b[0m\u001b[0;34m.\u001b[0m\u001b[0msingle\u001b[0m\u001b[0;34m(\u001b[0m\u001b[0mx\u001b[0m\u001b[0;34m[\u001b[0m\u001b[0mi\u001b[0m\u001b[0;34m,\u001b[0m\u001b[0;34m:\u001b[0m\u001b[0;34m,\u001b[0m\u001b[0;34m:\u001b[0m\u001b[0;34m,\u001b[0m\u001b[0;36m0\u001b[0m\u001b[0;34m]\u001b[0m\u001b[0;34m)\u001b[0m\u001b[0;34m\u001b[0m\u001b[0m\n\u001b[1;32m      5\u001b[0m \u001b[0mx_\u001b[0m \u001b[0;34m=\u001b[0m \u001b[0mvae\u001b[0m\u001b[0;34m.\u001b[0m\u001b[0mpredict\u001b[0m\u001b[0;34m(\u001b[0m\u001b[0mx\u001b[0m\u001b[0;34m)\u001b[0m\u001b[0;34m\u001b[0m\u001b[0m\n",
      "\u001b[0;31mNameError\u001b[0m: name 'datagen' is not defined"
     ]
    }
   ],
   "source": [
    "x = datagen.shuffle_3rd_dim_soft(x_train[:10], rate=1, intensity=2, scale=1, verbose=1)\n",
    "i = 0\n",
    "plot.single(x_train[i,:,:,0])\n",
    "plot.single(x[i,:,:,0])\n",
    "x_ = vae.predict(x)\n",
    "plot.single(x_[i,:,:,0])"
   ]
  },
  {
   "cell_type": "code",
   "execution_count": null,
   "metadata": {},
   "outputs": [],
   "source": [
    "x.shape"
   ]
  },
  {
   "cell_type": "code",
   "execution_count": 214,
   "metadata": {},
   "outputs": [
    {
     "name": "stdout",
     "output_type": "stream",
     "text": [
      "m (30, 9)\n"
     ]
    },
    {
     "data": {
      "image/png": "[encoded data removed]",
      "text/plain": [
       "<matplotlib.figure.Figure at 0x15e2cf860>"
      ]
     },
     "metadata": {},
     "output_type": "display_data"
    }
   ],
   "source": [
    "# min: these pixels are 'always' active\n",
    "m = x.min(axis=0)\n",
    "plot.multi(m[:30,:,0])"
   ]
  },
  {
   "cell_type": "code",
   "execution_count": 215,
   "metadata": {},
   "outputs": [
    {
     "name": "stdout",
     "output_type": "stream",
     "text": [
      "m (30, 9)\n"
     ]
    },
    {
     "data": {
      "image/png": "[encoded data removed]",
      "text/plain": [
       "<matplotlib.figure.Figure at 0x15817f7f0>"
      ]
     },
     "metadata": {},
     "output_type": "display_data"
    }
   ],
   "source": [
    "# mean\n",
    "m = x.mean(axis=0)\n",
    "plot.single(m[:30,:,0])"
   ]
  },
  {
   "cell_type": "markdown",
   "metadata": {},
   "source": [
    "## Encoder + Generator\n",
    "A model to project inputs on the latent space"
   ]
  },
  {
   "cell_type": "code",
   "execution_count": 216,
   "metadata": {},
   "outputs": [],
   "source": [
    "# build a model to project inputs on the latent space\n",
    "encoder = Model(encoder_input, z_mean)"
   ]
  },
  {
   "cell_type": "code",
   "execution_count": 217,
   "metadata": {},
   "outputs": [
    {
     "data": {
      "text/plain": [
       "(50, 40, 9, 1)"
      ]
     },
     "execution_count": 217,
     "metadata": {},
     "output_type": "execute_result"
    }
   ],
   "source": [
    "x_test.shape"
   ]
  },
  {
   "cell_type": "code",
   "execution_count": 218,
   "metadata": {},
   "outputs": [
    {
     "data": {
      "text/plain": [
       "(100, 2)"
      ]
     },
     "execution_count": 218,
     "metadata": {},
     "output_type": "execute_result"
    }
   ],
   "source": [
    "m = 100\n",
    "x_train_encoded = encoder.predict(x_train[:m], batch_size=batch_size)\n",
    "x_train_encoded.shape"
   ]
  },
  {
   "cell_type": "code",
   "execution_count": 219,
   "metadata": {},
   "outputs": [
    {
     "data": {
      "text/plain": [
       "<matplotlib.collections.PathCollection at 0x158278978>"
      ]
     },
     "execution_count": 219,
     "metadata": {},
     "output_type": "execute_result"
    },
    {
     "data": {
      "image/png": "[encoded data removed]",
      "text/plain": [
       "<matplotlib.figure.Figure at 0x15823c198>"
      ]
     },
     "metadata": {},
     "output_type": "display_data"
    }
   ],
   "source": [
    "# y_test = range(x_train_encoded.shape[0])\n",
    "y_test = np.concatenate([list(range(n)) for _ in range(int(m/n)+1)])[:m] / n\n",
    "plt.figure(figsize=(6, 6))\n",
    "plt.scatter(x_train_encoded[:, 0], x_train_encoded[:, 1], alpha=0.8, s=30) # c=y_test, "
   ]
  },
  {
   "cell_type": "code",
   "execution_count": 220,
   "metadata": {},
   "outputs": [
    {
     "data": {
      "text/plain": [
       "<matplotlib.collections.PathCollection at 0x1583a4da0>"
      ]
     },
     "execution_count": 220,
     "metadata": {},
     "output_type": "execute_result"
    },
    {
     "data": {
      "image/png": "[encoded data removed]",
      "text/plain": [
       "<matplotlib.figure.Figure at 0x158270898>"
      ]
     },
     "metadata": {},
     "output_type": "display_data"
    }
   ],
   "source": [
    "# display a 2D plot of the digit classes in the latent space\n",
    "x_test_encoded = encoder.predict(x_test, batch_size=batch_size)\n",
    "plt.figure(figsize=(6, 6))\n",
    "plt.scatter(x_test_encoded[:, 0], x_test_encoded[:, 1], alpha=0.6, s=30) # , c=y_test\n",
    "# plt.colorbar()"
   ]
  },
  {
   "cell_type": "code",
   "execution_count": 104,
   "metadata": {},
   "outputs": [],
   "source": [
    "# build a digit generator that can sample from the learned distribution\n",
    "decoder_input = Input(shape=(latent_dim,))\n",
    "_decoded = utils.composition(decoders, decoder_input, verbose=False)\n",
    "generator = Model(decoder_input, _decoded)"
   ]
  },
  {
   "cell_type": "code",
   "execution_count": 105,
   "metadata": {},
   "outputs": [],
   "source": [
    "# x_decoded[0].reshape(150,3)"
   ]
  },
  {
   "cell_type": "code",
   "execution_count": 106,
   "metadata": {},
   "outputs": [
    {
     "data": {
      "text/plain": [
       "(450, 40, 9, 1)"
      ]
     },
     "execution_count": 106,
     "metadata": {},
     "output_type": "execute_result"
    }
   ],
   "source": [
    "x_train.shape"
   ]
  },
  {
   "cell_type": "code",
   "execution_count": 107,
   "metadata": {},
   "outputs": [
    {
     "name": "stdout",
     "output_type": "stream",
     "text": [
      "(2,) [0. 0.]\n"
     ]
    },
    {
     "data": {
      "image/png": "[encoded data removed]",
      "text/plain": [
       "<matplotlib.figure.Figure at 0x132ef71d0>"
      ]
     },
     "metadata": {},
     "output_type": "display_data"
    }
   ],
   "source": [
    "min_y = 0.01\n",
    "max_y = 0.5\n",
    "plot.latent(generator, batch_size, latent_dim,\n",
    "       n=8,\n",
    "       m=3,\n",
    "       crop_size=30,\n",
    "       margin_top=1,\n",
    "       margin_left=1,\n",
    "       min_x=0.05,\n",
    "       max_x=0.95,\n",
    "       min_y=min_y,\n",
    "       max_y=max_y)"
   ]
  },
  {
   "cell_type": "code",
   "execution_count": 108,
   "metadata": {},
   "outputs": [
    {
     "name": "stdout",
     "output_type": "stream",
     "text": [
      "(2,) [0. 0.]\n"
     ]
    },
    {
     "data": {
      "image/png": "[encoded data removed]",
      "text/plain": [
       "<matplotlib.figure.Figure at 0x12b93ae48>"
      ]
     },
     "metadata": {},
     "output_type": "display_data"
    }
   ],
   "source": [
    "min_y2 = max_y\n",
    "plot.latent(generator, batch_size, latent_dim,\n",
    "       n=8,\n",
    "       m=3,\n",
    "       crop_size=30,\n",
    "       margin_top=1,\n",
    "       margin_left=1,\n",
    "       min_x=0.05,\n",
    "       max_x=0.95,\n",
    "       min_y=min_y2,\n",
    "       max_y=0.95)"
   ]
  },
  {
   "cell_type": "code",
   "execution_count": null,
   "metadata": {},
   "outputs": [],
   "source": []
  },
  {
   "cell_type": "code",
   "execution_count": null,
   "metadata": {},
   "outputs": [],
   "source": []
  },
  {
   "cell_type": "code",
   "execution_count": null,
   "metadata": {},
   "outputs": [],
   "source": []
  },
  {
   "cell_type": "code",
   "execution_count": null,
   "metadata": {},
   "outputs": [],
   "source": []
  },
  {
   "cell_type": "code",
   "execution_count": null,
   "metadata": {},
   "outputs": [],
   "source": []
  },
  {
   "cell_type": "code",
   "execution_count": null,
   "metadata": {},
   "outputs": [],
   "source": []
  },
  {
   "cell_type": "code",
   "execution_count": null,
   "metadata": {},
   "outputs": [],
   "source": []
  },
  {
   "cell_type": "code",
   "execution_count": null,
   "metadata": {},
   "outputs": [],
   "source": []
  }
 ],
 "metadata": {
  "kernelspec": {
   "display_name": "Python 3",
   "language": "python",
   "name": "python3"
  },
  "language_info": {
   "codemirror_mode": {
    "name": "ipython",
    "version": 3
   },
   "file_extension": ".py",
   "mimetype": "text/x-python",
   "name": "python",
   "nbconvert_exporter": "python",
   "pygments_lexer": "ipython3",
   "version": "3.6.4"
  }
 },
 "nbformat": 4,
 "nbformat_minor": 2
}
