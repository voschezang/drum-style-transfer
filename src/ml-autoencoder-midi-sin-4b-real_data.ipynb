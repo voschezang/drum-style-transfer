{
 "cells": [
  {
   "cell_type": "code",
   "execution_count": 1,
   "metadata": {},
   "outputs": [],
   "source": [
    "import config\n",
    "import os, numpy as np, pandas, sklearn\n",
    "import mido\n",
    "import matplotlib.pyplot as plt\n",
    "%matplotlib inline"
   ]
  },
  {
   "cell_type": "code",
   "execution_count": 2,
   "metadata": {},
   "outputs": [
    {
     "name": "stderr",
     "output_type": "stream",
     "text": [
      "/Library/Frameworks/Python.framework/Versions/3.6/lib/python3.6/site-packages/h5py/__init__.py:36: FutureWarning: Conversion of the second argument of issubdtype from `float` to `np.floating` is deprecated. In future, it will be treated as `np.float64 == np.dtype(float).type`.\n",
      "  from ._conv import register_converters as _register_converters\n",
      "Using TensorFlow backend.\n"
     ]
    }
   ],
   "source": [
    "## NN libs\n",
    "from sklearn.decomposition import PCA\n",
    "from sklearn import preprocessing\n",
    "from sklearn.preprocessing import RobustScaler\n",
    "import keras\n",
    "from keras import regularizers\n",
    "from keras.utils import to_categorical\n",
    "from keras.models import Sequential\n",
    "from keras.optimizers import SGD, Adam\n",
    "from keras.layers import Input, Dense, Activation, Conv1D, Conv2D, Dropout, Flatten\n",
    "from keras.layers import Conv2DTranspose, Reshape, MaxPooling2D, UpSampling2D, UpSampling1D, MaxPooling1D\n",
    "from keras.layers import LocallyConnected1D, LocallyConnected2D\n",
    "from keras.layers import Input, LSTM, RepeatVector\n",
    "from keras.models import Model\n",
    "from keras.callbacks import TensorBoard"
   ]
  },
  {
   "cell_type": "code",
   "execution_count": 3,
   "metadata": {},
   "outputs": [
    {
     "name": "stdout",
     "output_type": "stream",
     "text": [
      " Context :: namedtuple(\n",
      "[ max_t = float\n",
      ", dt = float\n",
      ", n_instances = int\n",
      ", note_length = int\n",
      ", bpm = float\n",
      ", tempo = float\n",
      ", ticks_per_beat = int\n",
      "]\n",
      "\n"
     ]
    }
   ],
   "source": [
    "# local libs\n",
    "import config, models, functions\n",
    "from data import data, midi, midi_generators as g\n",
    "from utils import io, models_io"
   ]
  },
  {
   "cell_type": "code",
   "execution_count": 5,
   "metadata": {
    "scrolled": true
   },
   "outputs": [
    {
     "name": "stdout",
     "output_type": "stream",
     "text": [
      "Setting up params\n",
      "\n",
      "max min f 25.0 0.1\n",
      " >> Context(max_t=10.0, dt=0.02, n_instances=500, note_length=0.03, bpm=120.0, tempo=500000, ticks_per_beat=480)\n",
      "Importing midi-data\n",
      "\n",
      "\u001b[92m [INFO] : \u001b[0m\n",
      " |  reading file: ../datasets/examples/01 16th Snare.mid\n",
      "\u001b[92m [INFO] : \u001b[0m\n",
      " |  reading file: ../datasets/examples/01 8th Cym.mid\n",
      "\u001b[92m [INFO] : \u001b[0m\n",
      " |  reading file: ../datasets/examples/01 8th Hat.mid\n",
      "\u001b[92m [INFO] : \u001b[0m\n",
      " |  reading file: ../datasets/examples/02 8th Cym.mid\n",
      "\u001b[92m [INFO] : \u001b[0m\n",
      " |  reading file: ../datasets/examples/114_LetsDance_DavidBowie1.mid\n",
      "\u001b[92m [INFO] : \u001b[0m\n",
      " |  reading file: ../datasets/examples/127_SweetChildOMine_GunsAndRoses1.mid\n",
      "\u001b[92m [INFO] : \u001b[0m\n",
      " |  reading file: ../datasets/examples/92_GiveItAway_TheRedHotChiliPeppers.mid\n",
      "\u001b[92m [INFO] : \u001b[0m\n",
      " |  reading file: ../datasets/examples/94_Creep_Radiohead2.mid\n",
      "\u001b[92m [INFO] : \u001b[0m\n",
      " |  reading file: ../datasets/examples/bossa 1.mid\n",
      "\u001b[92m [INFO] : \u001b[0m\n",
      " |  reading file: ../datasets/examples/bossa 2.mid\n",
      "\u001b[92m [INFO] : \u001b[0m\n",
      " |  reading file: ../datasets/examples/bossa 3.mid\n",
      "\u001b[92m [INFO] : \u001b[0m\n",
      " |  reading file: ../datasets/examples/bossa 4.mid\n",
      "\u001b[92m [INFO] : \u001b[0m\n",
      " |  reading file: ../datasets/examples/G3.mid\n",
      "\u001b[92m [INFO] : \u001b[0m\n",
      " |  reading file: ../datasets/examples/G4.mid\n",
      "\u001b[92m [INFO] : \u001b[0m\n",
      " |  reading file: ../datasets/examples/G5.mid\n",
      "\u001b[92m [INFO] : \u001b[0m\n",
      " |  reading file: ../datasets/examples/G6.mid\n",
      "\n",
      "Encoding midi-data\n",
      " [<midi file '../datasets/examples/01 16th Snare.mid' type 0, 1 tracks, 182 messages>, <midi file '../datasets/examples/01 8th Cym.mid' type 0, 1 tracks, 68 messages>, <midi file '../datasets/examples/01 8th Hat.mid' type 0, 1 tracks, 60 messages>, <midi file '../datasets/examples/02 8th Cym.mid' type 0, 1 tracks, 72 messages>, <midi file '../datasets/examples/114_LetsDance_DavidBowie1.mid' type 0, 1 tracks, 76 messages>, <midi file '../datasets/examples/127_SweetChildOMine_GunsAndRoses1.mid' type 0, 1 tracks, 226 messages>, <midi file '../datasets/examples/92_GiveItAway_TheRedHotChiliPeppers.mid' type 0, 1 tracks, 132 messages>, <midi file '../datasets/examples/94_Creep_Radiohead2.mid' type 0, 1 tracks, 126 messages>, <midi file '../datasets/examples/bossa 1.mid' type 0, 1 tracks, 40 messages>, <midi file '../datasets/examples/bossa 2.mid' type 0, 1 tracks, 38 messages>, <midi file '../datasets/examples/bossa 3.mid' type 0, 1 tracks, 34 messages>, <midi file '../datasets/examples/bossa 4.mid' type 0, 1 tracks, 42 messages>, <midi file '../datasets/examples/G3.mid' type 0, 1 tracks, 58 messages>, <midi file '../datasets/examples/G4.mid' type 0, 1 tracks, 111 messages>, <midi file '../datasets/examples/G5.mid' type 0, 1 tracks, 85 messages>, <midi file '../datasets/examples/G6.mid' type 0, 1 tracks, 107 messages>]\n",
      "\u001b[91m [DEBUG] > \u001b[0m\n",
      " |>  to_array: msg.time > max_t; t, n\n",
      " |>  10.000000000000005\n",
      " |>  500\n"
     ]
    }
   ],
   "source": [
    "n = 100\n",
    "context = data.init()\n",
    "context, x_test, labels = data.import_data(context, n)"
   ]
  },
  {
   "cell_type": "code",
   "execution_count": 7,
   "metadata": {
    "scrolled": true
   },
   "outputs": [],
   "source": [
    "min_f = 3\n",
    "max_f = 20\n",
    "# x_train = g.gen_data(context, n, max_f=max_f, min_f=min_f)\n",
    "# x_train = g.gen_data_complex(context, n, max_f=max_f, min_f=min_f)\n",
    "x_train = x_test\n",
    "\n",
    "# x_train = np.zeros([10,100,127])\n",
    "y_train = x_train"
   ]
  },
  {
   "cell_type": "code",
   "execution_count": 8,
   "metadata": {},
   "outputs": [
    {
     "data": {
      "text/plain": [
       "[<matplotlib.lines.Line2D at 0x1171e6748>,\n",
       " <matplotlib.lines.Line2D at 0x1171e6940>]"
      ]
     },
     "execution_count": 8,
     "metadata": {},
     "output_type": "execute_result"
    },
    {
     "data": {
      "image/png": "[encoded data removed]",
      "text/plain": [
       "<matplotlib.figure.Figure at 0x1171847b8>"
      ]
     },
     "metadata": {},
     "output_type": "display_data"
    }
   ],
   "source": [
    "n6 = 30\n",
    "plt.plot(x_train[0,:n6,0:])\n",
    "# plt.plot(x_train[1,:n6,0:2])"
   ]
  },
  {
   "cell_type": "code",
   "execution_count": 9,
   "metadata": {},
   "outputs": [
    {
     "data": {
      "text/plain": [
       "(16, 500, 2)"
      ]
     },
     "execution_count": 9,
     "metadata": {},
     "output_type": "execute_result"
    }
   ],
   "source": [
    "# [sum(x) for x in x_train]\n",
    "x_train.shape"
   ]
  },
  {
   "cell_type": "code",
   "execution_count": 10,
   "metadata": {},
   "outputs": [
    {
     "data": {
      "text/plain": [
       "(16, 500, 2)"
      ]
     },
     "execution_count": 10,
     "metadata": {},
     "output_type": "execute_result"
    }
   ],
   "source": [
    "y_train = x_train\n",
    "n_samples = x_train[0]\n",
    "input_shape = x_train.shape[1:] # shape of a single sample\n",
    "output_shape = y_train.shape[1:]\n",
    "# output_length = y_train.shape[1]\n",
    "# output_length = (y_train[0]).shape[0] # = length of an individual label\n",
    "hidden_layer_length = 10\n",
    "x_train.shape"
   ]
  },
  {
   "cell_type": "code",
   "execution_count": 11,
   "metadata": {
    "scrolled": false
   },
   "outputs": [
    {
     "name": "stdout",
     "output_type": "stream",
     "text": [
      "_________________________________________________________________\n",
      "Layer (type)                 Output Shape              Param #   \n",
      "=================================================================\n",
      "input_2 (InputLayer)         (None, 500, 2)            0         \n",
      "_________________________________________________________________\n",
      "flatten_1 (Flatten)          (None, 1000)              0         \n",
      "_________________________________________________________________\n",
      "dense_1 (Dense)              (None, 10)                10010     \n",
      "_________________________________________________________________\n",
      "dropout_1 (Dropout)          (None, 10)                0         \n",
      "_________________________________________________________________\n",
      "dense_2 (Dense)              (None, 10)                110       \n",
      "=================================================================\n",
      "Total params: 10,120\n",
      "Trainable params: 10,120\n",
      "Non-trainable params: 0\n",
      "_________________________________________________________________\n",
      "_________________________________________________________________\n",
      "Layer (type)                 Output Shape              Param #   \n",
      "=================================================================\n",
      "input_3 (InputLayer)         (None, 10)                0         \n",
      "_________________________________________________________________\n",
      "dense_3 (Dense)              (None, 1000)              11000     \n",
      "_________________________________________________________________\n",
      "dropout_2 (Dropout)          (None, 1000)              0         \n",
      "_________________________________________________________________\n",
      "dense_4 (Dense)              (None, 1000)              1001000   \n",
      "_________________________________________________________________\n",
      "reshape_1 (Reshape)          (None, 500, 2)            0         \n",
      "=================================================================\n",
      "Total params: 1,012,000\n",
      "Trainable params: 1,012,000\n",
      "Non-trainable params: 0\n",
      "_________________________________________________________________\n"
     ]
    }
   ],
   "source": [
    "# functional syntax: lambda x: lambda y: z\n",
    "def encoder(input_shape, output_length, dropout=0.10):\n",
    "    input_layer = Input(shape=input_shape)\n",
    "    x = input_layer\n",
    "    x = Flatten()(x)\n",
    "#     x = Dense(output_length * 2, activation='relu')(x)    \n",
    "#     x = Dropout(dropout)(x)\n",
    "#     x = Dense(output_length, activation='relu')(x)\n",
    "    x = Dense(output_length, activation='relu')(x)\n",
    "    x = Dropout(dropout)(x)\n",
    "    x = Dense(output_length, activation='relu')(x)\n",
    "#     x = Dense(output_length, activation='sigmoid')(x)\n",
    "#     x = Dropout(dropout)(x)\n",
    "#     x = Dense(output_length, activation='relu', activity_regularizer=regularizers.l1(10e-5))(x)\n",
    "    #     model.add(Dropout(dropout))    \n",
    "    model = Model(inputs=input_layer, outputs=x)\n",
    "    return model\n",
    "\n",
    "\n",
    "def decoder(input_length, output_shape, dropout=0.10):\n",
    "    input_layer = Input(shape=(input_length,))\n",
    "    x = input_layer\n",
    "    shape = output_shape\n",
    "    # shape = (10,100) # increase n dimensions\n",
    "    \n",
    "    x = Dense(np.prod(shape), activation='relu')(x)\n",
    "#     x = Dense(np.prod(shape), activation='relu')(x)\n",
    "#     x = Dropout(dropout)(x)\n",
    "    x = Dropout(dropout)(x)\n",
    "    x = Dense(np.prod(shape), activation='sigmoid')(x)\n",
    "#     x = Dense(np.prod(shape), activation='sigmoid')(x) # 4*4*8 = 128\n",
    "    x = Reshape(shape)(x)\n",
    "#     x = UpSampling1D(10)(x)\n",
    "    # make sure the conv layer increases the amount of dimensions\n",
    "#     dims = keras.backend.int_shape(x)[1:]\n",
    "#     n_steps = output_shape[0]\n",
    "#     n_output_timesteps = output_shape[1]\n",
    "#     filters = n_output_timesteps\n",
    "#     conv_amt = 2\n",
    "#     print('__+++==', n_output_timesteps)\n",
    "#     x = Conv1D(filters, kernel_size=4, strides=2, activation='relu')(x) # 50,100\n",
    "\n",
    "    dims = keras.backend.int_shape(x)[1:]\n",
    "#     x = UpSampling1D(dims[0] * 2)(x)\n",
    "#     x = Dense(output_shape[1], activation='relu')(x)\n",
    "    #     x = LocallyConnected1D(output_shape[1], kernel_size=1, activation='relu')(x)\n",
    "    # x = Dense(output_length, activation='softmax')(x)\n",
    "    model = Model(inputs=input_layer, outputs=x)\n",
    "    #     model.add(Dropout(dropout))\n",
    "    return model\n",
    "\n",
    "\n",
    "def autoencoder(input_shape, output_shape, hidden_layer_length=10, dropout=0.10, verbose=False):\n",
    "    input_ = Input(shape=input_shape)\n",
    "    encode = encoder(input_shape, hidden_layer_length, dropout)\n",
    "    if verbose:\n",
    "        encode.summary()\n",
    "    decode = decoder(hidden_layer_length, output_shape, dropout)\n",
    "    if verbose:\n",
    "        decode.summary()\n",
    "    model = Model(input_, decode(encode(input_)))\n",
    "    return encode, decode, model\n",
    "\n",
    "dropout = 0.1\n",
    "encoder, decoder, auto = autoencoder(input_shape, output_shape, hidden_layer_length, dropout, True)"
   ]
  },
  {
   "cell_type": "code",
   "execution_count": 12,
   "metadata": {},
   "outputs": [],
   "source": [
    "metrics = ['accuracy','mse','mae']\n",
    "loss = 'binary_crossentropy'# binary_crossentropy categorical_crossentropy\n",
    "optimizer = 'adam'\n",
    "auto.compile(optimizer=optimizer, loss=loss, metrics=metrics)"
   ]
  },
  {
   "cell_type": "code",
   "execution_count": 13,
   "metadata": {},
   "outputs": [],
   "source": [
    "batch_size = 15\n",
    "# n epochs = n iterations over all the training data\n",
    "epochs = 150"
   ]
  },
  {
   "cell_type": "code",
   "execution_count": 14,
   "metadata": {
    "scrolled": true
   },
   "outputs": [
    {
     "name": "stdout",
     "output_type": "stream",
     "text": [
      "Train on 13 samples, validate on 3 samples\n",
      "Epoch 1/150\n",
      "13/13 [==============================] - 0s 12ms/step - loss: 0.6932 - acc: 0.5038 - mean_squared_error: 0.2500 - mean_absolute_error: 0.5000 - val_loss: 0.6910 - val_acc: 0.6637 - val_mean_squared_error: 0.2489 - val_mean_absolute_error: 0.4989\n",
      "Epoch 2/150\n",
      "13/13 [==============================] - 0s 2ms/step - loss: 0.6907 - acc: 0.7054 - mean_squared_error: 0.2488 - mean_absolute_error: 0.4988 - val_loss: 0.6884 - val_acc: 0.8043 - val_mean_squared_error: 0.2476 - val_mean_absolute_error: 0.4976\n",
      "Epoch 3/150\n",
      "13/13 [==============================] - 0s 4ms/step - loss: 0.6875 - acc: 0.8463 - mean_squared_error: 0.2472 - mean_absolute_error: 0.4971 - val_loss: 0.6852 - val_acc: 0.9023 - val_mean_squared_error: 0.2460 - val_mean_absolute_error: 0.4960\n",
      "Epoch 4/150\n",
      "13/13 [==============================] - 0s 4ms/step - loss: 0.6836 - acc: 0.9315 - mean_squared_error: 0.2452 - mean_absolute_error: 0.4952 - val_loss: 0.6813 - val_acc: 0.9410 - val_mean_squared_error: 0.2441 - val_mean_absolute_error: 0.4940\n",
      "Epoch 5/150\n",
      "13/13 [==============================] - 0s 4ms/step - loss: 0.6787 - acc: 0.9675 - mean_squared_error: 0.2428 - mean_absolute_error: 0.4927 - val_loss: 0.6766 - val_acc: 0.9577 - val_mean_squared_error: 0.2417 - val_mean_absolute_error: 0.4916\n",
      "Epoch 6/150\n",
      "13/13 [==============================] - 0s 4ms/step - loss: 0.6719 - acc: 0.9775 - mean_squared_error: 0.2394 - mean_absolute_error: 0.4892 - val_loss: 0.6709 - val_acc: 0.9610 - val_mean_squared_error: 0.2389 - val_mean_absolute_error: 0.4887\n",
      "Epoch 7/150\n",
      "13/13 [==============================] - 0s 3ms/step - loss: 0.6637 - acc: 0.9805 - mean_squared_error: 0.2353 - mean_absolute_error: 0.4850 - val_loss: 0.6641 - val_acc: 0.9607 - val_mean_squared_error: 0.2355 - val_mean_absolute_error: 0.4852\n",
      "Epoch 8/150\n",
      "13/13 [==============================] - 0s 4ms/step - loss: 0.6529 - acc: 0.9811 - mean_squared_error: 0.2299 - mean_absolute_error: 0.4793 - val_loss: 0.6561 - val_acc: 0.9610 - val_mean_squared_error: 0.2315 - val_mean_absolute_error: 0.4811\n",
      "Epoch 9/150\n",
      "13/13 [==============================] - 0s 3ms/step - loss: 0.6433 - acc: 0.9815 - mean_squared_error: 0.2251 - mean_absolute_error: 0.4743 - val_loss: 0.6467 - val_acc: 0.9603 - val_mean_squared_error: 0.2268 - val_mean_absolute_error: 0.4761\n",
      "Epoch 10/150\n",
      "13/13 [==============================] - 0s 3ms/step - loss: 0.6299 - acc: 0.9810 - mean_squared_error: 0.2184 - mean_absolute_error: 0.4670 - val_loss: 0.6359 - val_acc: 0.9603 - val_mean_squared_error: 0.2214 - val_mean_absolute_error: 0.4703\n",
      "Epoch 11/150\n",
      "13/13 [==============================] - 0s 3ms/step - loss: 0.6127 - acc: 0.9814 - mean_squared_error: 0.2100 - mean_absolute_error: 0.4575 - val_loss: 0.6234 - val_acc: 0.9600 - val_mean_squared_error: 0.2152 - val_mean_absolute_error: 0.4636\n",
      "Epoch 12/150\n",
      "13/13 [==============================] - 0s 3ms/step - loss: 0.5910 - acc: 0.9812 - mean_squared_error: 0.1993 - mean_absolute_error: 0.4453 - val_loss: 0.6092 - val_acc: 0.9597 - val_mean_squared_error: 0.2082 - val_mean_absolute_error: 0.4558\n",
      "Epoch 13/150\n",
      "13/13 [==============================] - 0s 3ms/step - loss: 0.5696 - acc: 0.9814 - mean_squared_error: 0.1888 - mean_absolute_error: 0.4331 - val_loss: 0.5934 - val_acc: 0.9597 - val_mean_squared_error: 0.2004 - val_mean_absolute_error: 0.4470\n",
      "Epoch 14/150\n",
      "13/13 [==============================] - 0s 4ms/step - loss: 0.5489 - acc: 0.9813 - mean_squared_error: 0.1788 - mean_absolute_error: 0.4211 - val_loss: 0.5759 - val_acc: 0.9597 - val_mean_squared_error: 0.1918 - val_mean_absolute_error: 0.4370\n",
      "Epoch 15/150\n",
      "13/13 [==============================] - 0s 3ms/step - loss: 0.5276 - acc: 0.9812 - mean_squared_error: 0.1688 - mean_absolute_error: 0.4076 - val_loss: 0.5568 - val_acc: 0.9590 - val_mean_squared_error: 0.1825 - val_mean_absolute_error: 0.4258\n",
      "Epoch 16/150\n",
      "13/13 [==============================] - 0s 4ms/step - loss: 0.4909 - acc: 0.9814 - mean_squared_error: 0.1518 - mean_absolute_error: 0.3842 - val_loss: 0.5357 - val_acc: 0.9587 - val_mean_squared_error: 0.1723 - val_mean_absolute_error: 0.4132\n",
      "Epoch 17/150\n",
      "13/13 [==============================] - 0s 4ms/step - loss: 0.4577 - acc: 0.9812 - mean_squared_error: 0.1369 - mean_absolute_error: 0.3623 - val_loss: 0.5130 - val_acc: 0.9583 - val_mean_squared_error: 0.1614 - val_mean_absolute_error: 0.3992\n",
      "Epoch 18/150\n",
      "13/13 [==============================] - 0s 3ms/step - loss: 0.4460 - acc: 0.9818 - mean_squared_error: 0.1313 - mean_absolute_error: 0.3553 - val_loss: 0.4888 - val_acc: 0.9580 - val_mean_squared_error: 0.1500 - val_mean_absolute_error: 0.3839\n",
      "Epoch 19/150\n",
      "13/13 [==============================] - 0s 3ms/step - loss: 0.4034 - acc: 0.9817 - mean_squared_error: 0.1141 - mean_absolute_error: 0.3238 - val_loss: 0.4632 - val_acc: 0.9577 - val_mean_squared_error: 0.1382 - val_mean_absolute_error: 0.3671\n",
      "Epoch 20/150\n",
      "13/13 [==============================] - 0s 4ms/step - loss: 0.3746 - acc: 0.9813 - mean_squared_error: 0.1027 - mean_absolute_error: 0.3020 - val_loss: 0.4364 - val_acc: 0.9573 - val_mean_squared_error: 0.1262 - val_mean_absolute_error: 0.3490\n",
      "Epoch 21/150\n",
      "13/13 [==============================] - 0s 3ms/step - loss: 0.3437 - acc: 0.9805 - mean_squared_error: 0.0901 - mean_absolute_error: 0.2803 - val_loss: 0.4090 - val_acc: 0.9563 - val_mean_squared_error: 0.1143 - val_mean_absolute_error: 0.3298\n",
      "Epoch 22/150\n",
      "13/13 [==============================] - 0s 4ms/step - loss: 0.3425 - acc: 0.9799 - mean_squared_error: 0.0881 - mean_absolute_error: 0.2825 - val_loss: 0.3814 - val_acc: 0.9563 - val_mean_squared_error: 0.1027 - val_mean_absolute_error: 0.3096\n",
      "Epoch 23/150\n",
      "13/13 [==============================] - 0s 3ms/step - loss: 0.3021 - acc: 0.9800 - mean_squared_error: 0.0750 - mean_absolute_error: 0.2478 - val_loss: 0.3543 - val_acc: 0.9570 - val_mean_squared_error: 0.0918 - val_mean_absolute_error: 0.2890\n",
      "Epoch 24/150\n",
      "13/13 [==============================] - 0s 3ms/step - loss: 0.2481 - acc: 0.9800 - mean_squared_error: 0.0572 - mean_absolute_error: 0.2010 - val_loss: 0.3279 - val_acc: 0.9570 - val_mean_squared_error: 0.0818 - val_mean_absolute_error: 0.2682\n",
      "Epoch 25/150\n",
      "13/13 [==============================] - 0s 4ms/step - loss: 0.2294 - acc: 0.9801 - mean_squared_error: 0.0512 - mean_absolute_error: 0.1883 - val_loss: 0.3026 - val_acc: 0.9570 - val_mean_squared_error: 0.0727 - val_mean_absolute_error: 0.2474\n",
      "Epoch 26/150\n",
      "13/13 [==============================] - 0s 4ms/step - loss: 0.2125 - acc: 0.9800 - mean_squared_error: 0.0463 - mean_absolute_error: 0.1692 - val_loss: 0.2787 - val_acc: 0.9570 - val_mean_squared_error: 0.0648 - val_mean_absolute_error: 0.2270\n",
      "Epoch 27/150\n",
      "13/13 [==============================] - 0s 4ms/step - loss: 0.1899 - acc: 0.9801 - mean_squared_error: 0.0391 - mean_absolute_error: 0.1501 - val_loss: 0.2567 - val_acc: 0.9570 - val_mean_squared_error: 0.0580 - val_mean_absolute_error: 0.2074\n",
      "Epoch 28/150\n",
      "13/13 [==============================] - 0s 3ms/step - loss: 0.1752 - acc: 0.9800 - mean_squared_error: 0.0350 - mean_absolute_error: 0.1365 - val_loss: 0.2368 - val_acc: 0.9570 - val_mean_squared_error: 0.0523 - val_mean_absolute_error: 0.1888\n",
      "Epoch 29/150\n",
      "13/13 [==============================] - 0s 3ms/step - loss: 0.1539 - acc: 0.9805 - mean_squared_error: 0.0322 - mean_absolute_error: 0.1177 - val_loss: 0.2192 - val_acc: 0.9577 - val_mean_squared_error: 0.0478 - val_mean_absolute_error: 0.1717\n",
      "Epoch 30/150\n",
      "13/13 [==============================] - 0s 3ms/step - loss: 0.1534 - acc: 0.9808 - mean_squared_error: 0.0309 - mean_absolute_error: 0.1126 - val_loss: 0.2039 - val_acc: 0.9573 - val_mean_squared_error: 0.0442 - val_mean_absolute_error: 0.1561\n",
      "Epoch 31/150\n",
      "13/13 [==============================] - 0s 3ms/step - loss: 0.1365 - acc: 0.9808 - mean_squared_error: 0.0257 - mean_absolute_error: 0.1001 - val_loss: 0.1908 - val_acc: 0.9580 - val_mean_squared_error: 0.0414 - val_mean_absolute_error: 0.1421\n",
      "Epoch 32/150\n",
      "13/13 [==============================] - 0s 3ms/step - loss: 0.1342 - acc: 0.9817 - mean_squared_error: 0.0272 - mean_absolute_error: 0.0941 - val_loss: 0.1799 - val_acc: 0.9590 - val_mean_squared_error: 0.0394 - val_mean_absolute_error: 0.1297\n"
     ]
    },
    {
     "name": "stdout",
     "output_type": "stream",
     "text": [
      "Epoch 33/150\n",
      "13/13 [==============================] - 0s 4ms/step - loss: 0.1156 - acc: 0.9812 - mean_squared_error: 0.0215 - mean_absolute_error: 0.0818 - val_loss: 0.1709 - val_acc: 0.9593 - val_mean_squared_error: 0.0379 - val_mean_absolute_error: 0.1189\n",
      "Epoch 34/150\n",
      "13/13 [==============================] - 0s 3ms/step - loss: 0.1042 - acc: 0.9818 - mean_squared_error: 0.0201 - mean_absolute_error: 0.0708 - val_loss: 0.1636 - val_acc: 0.9593 - val_mean_squared_error: 0.0368 - val_mean_absolute_error: 0.1094\n",
      "Epoch 35/150\n",
      "13/13 [==============================] - 0s 3ms/step - loss: 0.0978 - acc: 0.9813 - mean_squared_error: 0.0187 - mean_absolute_error: 0.0625 - val_loss: 0.1579 - val_acc: 0.9613 - val_mean_squared_error: 0.0361 - val_mean_absolute_error: 0.1014\n",
      "Epoch 36/150\n",
      "13/13 [==============================] - 0s 3ms/step - loss: 0.0917 - acc: 0.9833 - mean_squared_error: 0.0181 - mean_absolute_error: 0.0602 - val_loss: 0.1536 - val_acc: 0.9613 - val_mean_squared_error: 0.0356 - val_mean_absolute_error: 0.0947\n",
      "Epoch 37/150\n",
      "13/13 [==============================] - 0s 3ms/step - loss: 0.0889 - acc: 0.9832 - mean_squared_error: 0.0179 - mean_absolute_error: 0.0542 - val_loss: 0.1505 - val_acc: 0.9620 - val_mean_squared_error: 0.0354 - val_mean_absolute_error: 0.0892\n",
      "Epoch 38/150\n",
      "13/13 [==============================] - 0s 4ms/step - loss: 0.0856 - acc: 0.9828 - mean_squared_error: 0.0175 - mean_absolute_error: 0.0544 - val_loss: 0.1484 - val_acc: 0.9617 - val_mean_squared_error: 0.0353 - val_mean_absolute_error: 0.0847\n",
      "Epoch 39/150\n",
      "13/13 [==============================] - 0s 3ms/step - loss: 0.0803 - acc: 0.9829 - mean_squared_error: 0.0171 - mean_absolute_error: 0.0491 - val_loss: 0.1470 - val_acc: 0.9623 - val_mean_squared_error: 0.0353 - val_mean_absolute_error: 0.0810\n",
      "Epoch 40/150\n",
      "13/13 [==============================] - 0s 4ms/step - loss: 0.0809 - acc: 0.9841 - mean_squared_error: 0.0175 - mean_absolute_error: 0.0496 - val_loss: 0.1462 - val_acc: 0.9623 - val_mean_squared_error: 0.0354 - val_mean_absolute_error: 0.0781\n",
      "Epoch 41/150\n",
      "13/13 [==============================] - 0s 4ms/step - loss: 0.0798 - acc: 0.9837 - mean_squared_error: 0.0174 - mean_absolute_error: 0.0495 - val_loss: 0.1459 - val_acc: 0.9623 - val_mean_squared_error: 0.0355 - val_mean_absolute_error: 0.0757\n",
      "Epoch 42/150\n",
      "13/13 [==============================] - 0s 3ms/step - loss: 0.0738 - acc: 0.9808 - mean_squared_error: 0.0171 - mean_absolute_error: 0.0462 - val_loss: 0.1458 - val_acc: 0.9623 - val_mean_squared_error: 0.0356 - val_mean_absolute_error: 0.0738\n",
      "Epoch 43/150\n",
      "13/13 [==============================] - 0s 3ms/step - loss: 0.0687 - acc: 0.9828 - mean_squared_error: 0.0163 - mean_absolute_error: 0.0411 - val_loss: 0.1458 - val_acc: 0.9630 - val_mean_squared_error: 0.0356 - val_mean_absolute_error: 0.0722\n",
      "Epoch 44/150\n",
      "13/13 [==============================] - 0s 3ms/step - loss: 0.0715 - acc: 0.9835 - mean_squared_error: 0.0170 - mean_absolute_error: 0.0442 - val_loss: 0.1460 - val_acc: 0.9637 - val_mean_squared_error: 0.0356 - val_mean_absolute_error: 0.0709\n",
      "Epoch 45/150\n",
      "13/13 [==============================] - 0s 3ms/step - loss: 0.0644 - acc: 0.9829 - mean_squared_error: 0.0163 - mean_absolute_error: 0.0394 - val_loss: 0.1462 - val_acc: 0.9640 - val_mean_squared_error: 0.0356 - val_mean_absolute_error: 0.0699\n",
      "Epoch 46/150\n",
      "13/13 [==============================] - 0s 3ms/step - loss: 0.0643 - acc: 0.9825 - mean_squared_error: 0.0166 - mean_absolute_error: 0.0397 - val_loss: 0.1464 - val_acc: 0.9643 - val_mean_squared_error: 0.0356 - val_mean_absolute_error: 0.0690\n",
      "Epoch 47/150\n",
      "13/13 [==============================] - 0s 3ms/step - loss: 0.0680 - acc: 0.9828 - mean_squared_error: 0.0173 - mean_absolute_error: 0.0462 - val_loss: 0.1468 - val_acc: 0.9650 - val_mean_squared_error: 0.0356 - val_mean_absolute_error: 0.0683\n",
      "Epoch 48/150\n",
      "13/13 [==============================] - 0s 4ms/step - loss: 0.0675 - acc: 0.9832 - mean_squared_error: 0.0174 - mean_absolute_error: 0.0457 - val_loss: 0.1472 - val_acc: 0.9650 - val_mean_squared_error: 0.0356 - val_mean_absolute_error: 0.0678\n",
      "Epoch 49/150\n",
      "13/13 [==============================] - 0s 3ms/step - loss: 0.0619 - acc: 0.9828 - mean_squared_error: 0.0169 - mean_absolute_error: 0.0412 - val_loss: 0.1476 - val_acc: 0.9647 - val_mean_squared_error: 0.0356 - val_mean_absolute_error: 0.0672\n",
      "Epoch 50/150\n",
      "13/13 [==============================] - 0s 3ms/step - loss: 0.0604 - acc: 0.9832 - mean_squared_error: 0.0167 - mean_absolute_error: 0.0396 - val_loss: 0.1480 - val_acc: 0.9640 - val_mean_squared_error: 0.0355 - val_mean_absolute_error: 0.0668\n",
      "Epoch 51/150\n",
      "13/13 [==============================] - 0s 4ms/step - loss: 0.0597 - acc: 0.9828 - mean_squared_error: 0.0169 - mean_absolute_error: 0.0395 - val_loss: 0.1482 - val_acc: 0.9640 - val_mean_squared_error: 0.0355 - val_mean_absolute_error: 0.0663\n",
      "Epoch 52/150\n",
      "13/13 [==============================] - 0s 4ms/step - loss: 0.0607 - acc: 0.9820 - mean_squared_error: 0.0172 - mean_absolute_error: 0.0412 - val_loss: 0.1485 - val_acc: 0.9640 - val_mean_squared_error: 0.0354 - val_mean_absolute_error: 0.0659\n",
      "Epoch 53/150\n",
      "13/13 [==============================] - 0s 3ms/step - loss: 0.0593 - acc: 0.9832 - mean_squared_error: 0.0166 - mean_absolute_error: 0.0409 - val_loss: 0.1485 - val_acc: 0.9637 - val_mean_squared_error: 0.0352 - val_mean_absolute_error: 0.0654\n",
      "Epoch 54/150\n",
      "13/13 [==============================] - 0s 3ms/step - loss: 0.0583 - acc: 0.9832 - mean_squared_error: 0.0167 - mean_absolute_error: 0.0388 - val_loss: 0.1484 - val_acc: 0.9647 - val_mean_squared_error: 0.0350 - val_mean_absolute_error: 0.0648\n",
      "Epoch 55/150\n",
      "13/13 [==============================] - 0s 3ms/step - loss: 0.0550 - acc: 0.9825 - mean_squared_error: 0.0162 - mean_absolute_error: 0.0373 - val_loss: 0.1482 - val_acc: 0.9647 - val_mean_squared_error: 0.0347 - val_mean_absolute_error: 0.0642\n",
      "Epoch 56/150\n",
      "13/13 [==============================] - 0s 3ms/step - loss: 0.0611 - acc: 0.9832 - mean_squared_error: 0.0170 - mean_absolute_error: 0.0421 - val_loss: 0.1480 - val_acc: 0.9653 - val_mean_squared_error: 0.0345 - val_mean_absolute_error: 0.0636\n",
      "Epoch 57/150\n",
      "13/13 [==============================] - 0s 3ms/step - loss: 0.0555 - acc: 0.9833 - mean_squared_error: 0.0160 - mean_absolute_error: 0.0372 - val_loss: 0.1478 - val_acc: 0.9653 - val_mean_squared_error: 0.0342 - val_mean_absolute_error: 0.0630\n",
      "Epoch 58/150\n",
      "13/13 [==============================] - 0s 3ms/step - loss: 0.0546 - acc: 0.9828 - mean_squared_error: 0.0160 - mean_absolute_error: 0.0362 - val_loss: 0.1477 - val_acc: 0.9657 - val_mean_squared_error: 0.0340 - val_mean_absolute_error: 0.0624\n",
      "Epoch 59/150\n",
      "13/13 [==============================] - 0s 4ms/step - loss: 0.0576 - acc: 0.9836 - mean_squared_error: 0.0164 - mean_absolute_error: 0.0385 - val_loss: 0.1475 - val_acc: 0.9657 - val_mean_squared_error: 0.0338 - val_mean_absolute_error: 0.0619\n",
      "Epoch 60/150\n",
      "13/13 [==============================] - 0s 4ms/step - loss: 0.0549 - acc: 0.9844 - mean_squared_error: 0.0159 - mean_absolute_error: 0.0361 - val_loss: 0.1474 - val_acc: 0.9657 - val_mean_squared_error: 0.0335 - val_mean_absolute_error: 0.0614\n",
      "Epoch 61/150\n",
      "13/13 [==============================] - 0s 3ms/step - loss: 0.0538 - acc: 0.9838 - mean_squared_error: 0.0156 - mean_absolute_error: 0.0349 - val_loss: 0.1472 - val_acc: 0.9657 - val_mean_squared_error: 0.0333 - val_mean_absolute_error: 0.0609\n",
      "Epoch 62/150\n",
      "13/13 [==============================] - 0s 3ms/step - loss: 0.0549 - acc: 0.9840 - mean_squared_error: 0.0158 - mean_absolute_error: 0.0357 - val_loss: 0.1471 - val_acc: 0.9657 - val_mean_squared_error: 0.0331 - val_mean_absolute_error: 0.0605\n",
      "Epoch 63/150\n",
      "13/13 [==============================] - 0s 4ms/step - loss: 0.0535 - acc: 0.9834 - mean_squared_error: 0.0157 - mean_absolute_error: 0.0349 - val_loss: 0.1469 - val_acc: 0.9657 - val_mean_squared_error: 0.0329 - val_mean_absolute_error: 0.0601\n",
      "Epoch 64/150\n",
      "13/13 [==============================] - 0s 3ms/step - loss: 0.0539 - acc: 0.9834 - mean_squared_error: 0.0155 - mean_absolute_error: 0.0356 - val_loss: 0.1469 - val_acc: 0.9667 - val_mean_squared_error: 0.0327 - val_mean_absolute_error: 0.0598\n"
     ]
    },
    {
     "name": "stdout",
     "output_type": "stream",
     "text": [
      "Epoch 65/150\n",
      "13/13 [==============================] - 0s 4ms/step - loss: 0.0537 - acc: 0.9838 - mean_squared_error: 0.0155 - mean_absolute_error: 0.0357 - val_loss: 0.1469 - val_acc: 0.9667 - val_mean_squared_error: 0.0326 - val_mean_absolute_error: 0.0595\n",
      "Epoch 66/150\n",
      "13/13 [==============================] - 0s 4ms/step - loss: 0.0521 - acc: 0.9834 - mean_squared_error: 0.0153 - mean_absolute_error: 0.0351 - val_loss: 0.1468 - val_acc: 0.9667 - val_mean_squared_error: 0.0324 - val_mean_absolute_error: 0.0591\n",
      "Epoch 67/150\n",
      "13/13 [==============================] - 0s 3ms/step - loss: 0.0538 - acc: 0.9819 - mean_squared_error: 0.0159 - mean_absolute_error: 0.0346 - val_loss: 0.1469 - val_acc: 0.9667 - val_mean_squared_error: 0.0323 - val_mean_absolute_error: 0.0587\n",
      "Epoch 68/150\n",
      "13/13 [==============================] - 0s 3ms/step - loss: 0.0532 - acc: 0.9821 - mean_squared_error: 0.0157 - mean_absolute_error: 0.0350 - val_loss: 0.1467 - val_acc: 0.9667 - val_mean_squared_error: 0.0321 - val_mean_absolute_error: 0.0583\n",
      "Epoch 69/150\n",
      "13/13 [==============================] - 0s 2ms/step - loss: 0.0512 - acc: 0.9834 - mean_squared_error: 0.0151 - mean_absolute_error: 0.0335 - val_loss: 0.1465 - val_acc: 0.9667 - val_mean_squared_error: 0.0319 - val_mean_absolute_error: 0.0578\n",
      "Epoch 70/150\n",
      "13/13 [==============================] - 0s 3ms/step - loss: 0.0527 - acc: 0.9825 - mean_squared_error: 0.0155 - mean_absolute_error: 0.0338 - val_loss: 0.1462 - val_acc: 0.9667 - val_mean_squared_error: 0.0317 - val_mean_absolute_error: 0.0573\n",
      "Epoch 71/150\n",
      "13/13 [==============================] - 0s 3ms/step - loss: 0.0534 - acc: 0.9843 - mean_squared_error: 0.0152 - mean_absolute_error: 0.0351 - val_loss: 0.1459 - val_acc: 0.9667 - val_mean_squared_error: 0.0314 - val_mean_absolute_error: 0.0569\n",
      "Epoch 72/150\n",
      "13/13 [==============================] - 0s 3ms/step - loss: 0.0506 - acc: 0.9841 - mean_squared_error: 0.0147 - mean_absolute_error: 0.0322 - val_loss: 0.1456 - val_acc: 0.9667 - val_mean_squared_error: 0.0312 - val_mean_absolute_error: 0.0565\n",
      "Epoch 73/150\n",
      "13/13 [==============================] - 0s 3ms/step - loss: 0.0511 - acc: 0.9838 - mean_squared_error: 0.0147 - mean_absolute_error: 0.0326 - val_loss: 0.1453 - val_acc: 0.9667 - val_mean_squared_error: 0.0310 - val_mean_absolute_error: 0.0561\n",
      "Epoch 74/150\n",
      "13/13 [==============================] - 0s 4ms/step - loss: 0.0494 - acc: 0.9845 - mean_squared_error: 0.0144 - mean_absolute_error: 0.0321 - val_loss: 0.1451 - val_acc: 0.9667 - val_mean_squared_error: 0.0308 - val_mean_absolute_error: 0.0558\n",
      "Epoch 75/150\n",
      "13/13 [==============================] - 0s 3ms/step - loss: 0.0499 - acc: 0.9845 - mean_squared_error: 0.0145 - mean_absolute_error: 0.0316 - val_loss: 0.1449 - val_acc: 0.9667 - val_mean_squared_error: 0.0306 - val_mean_absolute_error: 0.0555\n",
      "Epoch 76/150\n",
      "13/13 [==============================] - 0s 3ms/step - loss: 0.0478 - acc: 0.9846 - mean_squared_error: 0.0141 - mean_absolute_error: 0.0314 - val_loss: 0.1446 - val_acc: 0.9667 - val_mean_squared_error: 0.0304 - val_mean_absolute_error: 0.0552\n",
      "Epoch 77/150\n",
      "13/13 [==============================] - 0s 3ms/step - loss: 0.0517 - acc: 0.9839 - mean_squared_error: 0.0149 - mean_absolute_error: 0.0331 - val_loss: 0.1445 - val_acc: 0.9667 - val_mean_squared_error: 0.0303 - val_mean_absolute_error: 0.0550\n",
      "Epoch 78/150\n",
      "13/13 [==============================] - 0s 3ms/step - loss: 0.0495 - acc: 0.9846 - mean_squared_error: 0.0144 - mean_absolute_error: 0.0326 - val_loss: 0.1444 - val_acc: 0.9667 - val_mean_squared_error: 0.0302 - val_mean_absolute_error: 0.0548\n",
      "Epoch 79/150\n",
      "13/13 [==============================] - 0s 3ms/step - loss: 0.0483 - acc: 0.9850 - mean_squared_error: 0.0141 - mean_absolute_error: 0.0313 - val_loss: 0.1444 - val_acc: 0.9667 - val_mean_squared_error: 0.0301 - val_mean_absolute_error: 0.0545\n",
      "Epoch 80/150\n",
      "13/13 [==============================] - 0s 3ms/step - loss: 0.0491 - acc: 0.9838 - mean_squared_error: 0.0143 - mean_absolute_error: 0.0325 - val_loss: 0.1443 - val_acc: 0.9670 - val_mean_squared_error: 0.0299 - val_mean_absolute_error: 0.0543\n",
      "Epoch 81/150\n",
      "13/13 [==============================] - 0s 3ms/step - loss: 0.0507 - acc: 0.9845 - mean_squared_error: 0.0145 - mean_absolute_error: 0.0334 - val_loss: 0.1442 - val_acc: 0.9677 - val_mean_squared_error: 0.0298 - val_mean_absolute_error: 0.0540\n",
      "Epoch 82/150\n",
      "13/13 [==============================] - 0s 4ms/step - loss: 0.0484 - acc: 0.9848 - mean_squared_error: 0.0140 - mean_absolute_error: 0.0324 - val_loss: 0.1442 - val_acc: 0.9677 - val_mean_squared_error: 0.0297 - val_mean_absolute_error: 0.0538\n",
      "Epoch 83/150\n",
      "13/13 [==============================] - 0s 3ms/step - loss: 0.0487 - acc: 0.9839 - mean_squared_error: 0.0144 - mean_absolute_error: 0.0319 - val_loss: 0.1440 - val_acc: 0.9683 - val_mean_squared_error: 0.0295 - val_mean_absolute_error: 0.0535\n",
      "Epoch 84/150\n",
      "13/13 [==============================] - 0s 3ms/step - loss: 0.0490 - acc: 0.9844 - mean_squared_error: 0.0141 - mean_absolute_error: 0.0331 - val_loss: 0.1439 - val_acc: 0.9687 - val_mean_squared_error: 0.0294 - val_mean_absolute_error: 0.0532\n",
      "Epoch 85/150\n",
      "13/13 [==============================] - 0s 4ms/step - loss: 0.0537 - acc: 0.9838 - mean_squared_error: 0.0153 - mean_absolute_error: 0.0362 - val_loss: 0.1440 - val_acc: 0.9687 - val_mean_squared_error: 0.0293 - val_mean_absolute_error: 0.0530\n",
      "Epoch 86/150\n",
      "13/13 [==============================] - 0s 3ms/step - loss: 0.0462 - acc: 0.9848 - mean_squared_error: 0.0137 - mean_absolute_error: 0.0307 - val_loss: 0.1439 - val_acc: 0.9687 - val_mean_squared_error: 0.0292 - val_mean_absolute_error: 0.0527\n",
      "Epoch 87/150\n",
      "13/13 [==============================] - 0s 3ms/step - loss: 0.0467 - acc: 0.9835 - mean_squared_error: 0.0140 - mean_absolute_error: 0.0316 - val_loss: 0.1439 - val_acc: 0.9680 - val_mean_squared_error: 0.0291 - val_mean_absolute_error: 0.0523\n",
      "Epoch 88/150\n",
      "13/13 [==============================] - 0s 3ms/step - loss: 0.0463 - acc: 0.9847 - mean_squared_error: 0.0136 - mean_absolute_error: 0.0311 - val_loss: 0.1436 - val_acc: 0.9680 - val_mean_squared_error: 0.0289 - val_mean_absolute_error: 0.0519\n",
      "Epoch 89/150\n",
      "13/13 [==============================] - 0s 2ms/step - loss: 0.0469 - acc: 0.9838 - mean_squared_error: 0.0140 - mean_absolute_error: 0.0311 - val_loss: 0.1434 - val_acc: 0.9680 - val_mean_squared_error: 0.0287 - val_mean_absolute_error: 0.0514\n",
      "Epoch 90/150\n",
      "13/13 [==============================] - 0s 3ms/step - loss: 0.0449 - acc: 0.9844 - mean_squared_error: 0.0134 - mean_absolute_error: 0.0299 - val_loss: 0.1429 - val_acc: 0.9680 - val_mean_squared_error: 0.0284 - val_mean_absolute_error: 0.0508\n",
      "Epoch 91/150\n",
      "13/13 [==============================] - 0s 3ms/step - loss: 0.0479 - acc: 0.9829 - mean_squared_error: 0.0142 - mean_absolute_error: 0.0312 - val_loss: 0.1426 - val_acc: 0.9680 - val_mean_squared_error: 0.0282 - val_mean_absolute_error: 0.0503\n",
      "Epoch 92/150\n",
      "13/13 [==============================] - 0s 4ms/step - loss: 0.0456 - acc: 0.9856 - mean_squared_error: 0.0132 - mean_absolute_error: 0.0318 - val_loss: 0.1422 - val_acc: 0.9680 - val_mean_squared_error: 0.0280 - val_mean_absolute_error: 0.0497\n",
      "Epoch 93/150\n",
      "13/13 [==============================] - 0s 3ms/step - loss: 0.0452 - acc: 0.9846 - mean_squared_error: 0.0133 - mean_absolute_error: 0.0305 - val_loss: 0.1417 - val_acc: 0.9683 - val_mean_squared_error: 0.0277 - val_mean_absolute_error: 0.0490\n",
      "Epoch 94/150\n",
      "13/13 [==============================] - 0s 4ms/step - loss: 0.0464 - acc: 0.9845 - mean_squared_error: 0.0135 - mean_absolute_error: 0.0307 - val_loss: 0.1413 - val_acc: 0.9687 - val_mean_squared_error: 0.0274 - val_mean_absolute_error: 0.0483\n",
      "Epoch 95/150\n",
      "13/13 [==============================] - 0s 3ms/step - loss: 0.0465 - acc: 0.9852 - mean_squared_error: 0.0134 - mean_absolute_error: 0.0309 - val_loss: 0.1409 - val_acc: 0.9687 - val_mean_squared_error: 0.0272 - val_mean_absolute_error: 0.0477\n",
      "Epoch 96/150\n",
      "13/13 [==============================] - 0s 3ms/step - loss: 0.0447 - acc: 0.9854 - mean_squared_error: 0.0129 - mean_absolute_error: 0.0298 - val_loss: 0.1405 - val_acc: 0.9687 - val_mean_squared_error: 0.0269 - val_mean_absolute_error: 0.0471\n"
     ]
    },
    {
     "name": "stdout",
     "output_type": "stream",
     "text": [
      "Epoch 97/150\n",
      "13/13 [==============================] - 0s 4ms/step - loss: 0.0442 - acc: 0.9848 - mean_squared_error: 0.0128 - mean_absolute_error: 0.0296 - val_loss: 0.1401 - val_acc: 0.9687 - val_mean_squared_error: 0.0267 - val_mean_absolute_error: 0.0464\n",
      "Epoch 98/150\n",
      "13/13 [==============================] - 0s 4ms/step - loss: 0.0427 - acc: 0.9848 - mean_squared_error: 0.0126 - mean_absolute_error: 0.0285 - val_loss: 0.1396 - val_acc: 0.9697 - val_mean_squared_error: 0.0264 - val_mean_absolute_error: 0.0458\n",
      "Epoch 99/150\n",
      "13/13 [==============================] - 0s 3ms/step - loss: 0.0435 - acc: 0.9850 - mean_squared_error: 0.0130 - mean_absolute_error: 0.0286 - val_loss: 0.1393 - val_acc: 0.9697 - val_mean_squared_error: 0.0262 - val_mean_absolute_error: 0.0452\n",
      "Epoch 100/150\n",
      "13/13 [==============================] - 0s 4ms/step - loss: 0.0425 - acc: 0.9844 - mean_squared_error: 0.0126 - mean_absolute_error: 0.0292 - val_loss: 0.1390 - val_acc: 0.9697 - val_mean_squared_error: 0.0260 - val_mean_absolute_error: 0.0446\n",
      "Epoch 101/150\n",
      "13/13 [==============================] - 0s 3ms/step - loss: 0.0413 - acc: 0.9862 - mean_squared_error: 0.0120 - mean_absolute_error: 0.0269 - val_loss: 0.1388 - val_acc: 0.9700 - val_mean_squared_error: 0.0258 - val_mean_absolute_error: 0.0441\n",
      "Epoch 102/150\n",
      "13/13 [==============================] - 0s 4ms/step - loss: 0.0419 - acc: 0.9855 - mean_squared_error: 0.0123 - mean_absolute_error: 0.0276 - val_loss: 0.1386 - val_acc: 0.9710 - val_mean_squared_error: 0.0256 - val_mean_absolute_error: 0.0436\n",
      "Epoch 103/150\n",
      "13/13 [==============================] - 0s 4ms/step - loss: 0.0405 - acc: 0.9871 - mean_squared_error: 0.0118 - mean_absolute_error: 0.0261 - val_loss: 0.1384 - val_acc: 0.9713 - val_mean_squared_error: 0.0255 - val_mean_absolute_error: 0.0431\n",
      "Epoch 104/150\n",
      "13/13 [==============================] - 0s 3ms/step - loss: 0.0420 - acc: 0.9856 - mean_squared_error: 0.0122 - mean_absolute_error: 0.0276 - val_loss: 0.1383 - val_acc: 0.9713 - val_mean_squared_error: 0.0254 - val_mean_absolute_error: 0.0428\n",
      "Epoch 105/150\n",
      "13/13 [==============================] - 0s 4ms/step - loss: 0.0421 - acc: 0.9859 - mean_squared_error: 0.0121 - mean_absolute_error: 0.0276 - val_loss: 0.1383 - val_acc: 0.9713 - val_mean_squared_error: 0.0253 - val_mean_absolute_error: 0.0424\n",
      "Epoch 106/150\n",
      "13/13 [==============================] - 0s 4ms/step - loss: 0.0412 - acc: 0.9855 - mean_squared_error: 0.0119 - mean_absolute_error: 0.0276 - val_loss: 0.1382 - val_acc: 0.9710 - val_mean_squared_error: 0.0251 - val_mean_absolute_error: 0.0420\n",
      "Epoch 107/150\n",
      "13/13 [==============================] - 0s 3ms/step - loss: 0.0428 - acc: 0.9864 - mean_squared_error: 0.0121 - mean_absolute_error: 0.0282 - val_loss: 0.1383 - val_acc: 0.9707 - val_mean_squared_error: 0.0251 - val_mean_absolute_error: 0.0417\n",
      "Epoch 108/150\n",
      "13/13 [==============================] - 0s 4ms/step - loss: 0.0425 - acc: 0.9853 - mean_squared_error: 0.0127 - mean_absolute_error: 0.0269 - val_loss: 0.1384 - val_acc: 0.9710 - val_mean_squared_error: 0.0250 - val_mean_absolute_error: 0.0416\n",
      "Epoch 109/150\n",
      "13/13 [==============================] - 0s 3ms/step - loss: 0.0398 - acc: 0.9875 - mean_squared_error: 0.0115 - mean_absolute_error: 0.0264 - val_loss: 0.1386 - val_acc: 0.9713 - val_mean_squared_error: 0.0250 - val_mean_absolute_error: 0.0413\n",
      "Epoch 110/150\n",
      "13/13 [==============================] - 0s 3ms/step - loss: 0.0380 - acc: 0.9867 - mean_squared_error: 0.0111 - mean_absolute_error: 0.0260 - val_loss: 0.1386 - val_acc: 0.9717 - val_mean_squared_error: 0.0249 - val_mean_absolute_error: 0.0410\n",
      "Epoch 111/150\n",
      "13/13 [==============================] - 0s 3ms/step - loss: 0.0390 - acc: 0.9863 - mean_squared_error: 0.0115 - mean_absolute_error: 0.0266 - val_loss: 0.1386 - val_acc: 0.9720 - val_mean_squared_error: 0.0248 - val_mean_absolute_error: 0.0406\n",
      "Epoch 112/150\n",
      "13/13 [==============================] - 0s 3ms/step - loss: 0.0405 - acc: 0.9863 - mean_squared_error: 0.0118 - mean_absolute_error: 0.0277 - val_loss: 0.1386 - val_acc: 0.9720 - val_mean_squared_error: 0.0247 - val_mean_absolute_error: 0.0401\n",
      "Epoch 113/150\n",
      "13/13 [==============================] - 0s 4ms/step - loss: 0.0370 - acc: 0.9872 - mean_squared_error: 0.0107 - mean_absolute_error: 0.0262 - val_loss: 0.1387 - val_acc: 0.9723 - val_mean_squared_error: 0.0246 - val_mean_absolute_error: 0.0397\n",
      "Epoch 114/150\n",
      "13/13 [==============================] - 0s 3ms/step - loss: 0.0375 - acc: 0.9872 - mean_squared_error: 0.0109 - mean_absolute_error: 0.0260 - val_loss: 0.1387 - val_acc: 0.9723 - val_mean_squared_error: 0.0245 - val_mean_absolute_error: 0.0391\n",
      "Epoch 115/150\n",
      "13/13 [==============================] - 0s 3ms/step - loss: 0.0387 - acc: 0.9848 - mean_squared_error: 0.0113 - mean_absolute_error: 0.0269 - val_loss: 0.1388 - val_acc: 0.9723 - val_mean_squared_error: 0.0244 - val_mean_absolute_error: 0.0386\n",
      "Epoch 116/150\n",
      "13/13 [==============================] - 0s 2ms/step - loss: 0.0371 - acc: 0.9865 - mean_squared_error: 0.0109 - mean_absolute_error: 0.0255 - val_loss: 0.1389 - val_acc: 0.9720 - val_mean_squared_error: 0.0244 - val_mean_absolute_error: 0.0381\n",
      "Epoch 117/150\n",
      "13/13 [==============================] - 0s 3ms/step - loss: 0.0425 - acc: 0.9853 - mean_squared_error: 0.0124 - mean_absolute_error: 0.0265 - val_loss: 0.1391 - val_acc: 0.9720 - val_mean_squared_error: 0.0243 - val_mean_absolute_error: 0.0377\n",
      "Epoch 118/150\n",
      "13/13 [==============================] - 0s 2ms/step - loss: 0.0354 - acc: 0.9872 - mean_squared_error: 0.0103 - mean_absolute_error: 0.0242 - val_loss: 0.1393 - val_acc: 0.9720 - val_mean_squared_error: 0.0243 - val_mean_absolute_error: 0.0374\n",
      "Epoch 119/150\n",
      "13/13 [==============================] - 0s 2ms/step - loss: 0.0397 - acc: 0.9868 - mean_squared_error: 0.0116 - mean_absolute_error: 0.0259 - val_loss: 0.1395 - val_acc: 0.9717 - val_mean_squared_error: 0.0243 - val_mean_absolute_error: 0.0371\n",
      "Epoch 120/150\n",
      "13/13 [==============================] - 0s 2ms/step - loss: 0.0379 - acc: 0.9866 - mean_squared_error: 0.0110 - mean_absolute_error: 0.0246 - val_loss: 0.1397 - val_acc: 0.9723 - val_mean_squared_error: 0.0242 - val_mean_absolute_error: 0.0369\n",
      "Epoch 121/150\n",
      "13/13 [==============================] - 0s 2ms/step - loss: 0.0357 - acc: 0.9872 - mean_squared_error: 0.0104 - mean_absolute_error: 0.0241 - val_loss: 0.1399 - val_acc: 0.9723 - val_mean_squared_error: 0.0242 - val_mean_absolute_error: 0.0366\n",
      "Epoch 122/150\n",
      "13/13 [==============================] - 0s 2ms/step - loss: 0.0388 - acc: 0.9861 - mean_squared_error: 0.0113 - mean_absolute_error: 0.0245 - val_loss: 0.1401 - val_acc: 0.9727 - val_mean_squared_error: 0.0242 - val_mean_absolute_error: 0.0364\n",
      "Epoch 123/150\n",
      "13/13 [==============================] - 0s 3ms/step - loss: 0.0362 - acc: 0.9871 - mean_squared_error: 0.0106 - mean_absolute_error: 0.0236 - val_loss: 0.1404 - val_acc: 0.9727 - val_mean_squared_error: 0.0241 - val_mean_absolute_error: 0.0362\n",
      "Epoch 124/150\n",
      "13/13 [==============================] - 0s 3ms/step - loss: 0.0362 - acc: 0.9860 - mean_squared_error: 0.0107 - mean_absolute_error: 0.0229 - val_loss: 0.1406 - val_acc: 0.9727 - val_mean_squared_error: 0.0241 - val_mean_absolute_error: 0.0361\n",
      "Epoch 125/150\n",
      "13/13 [==============================] - 0s 2ms/step - loss: 0.0335 - acc: 0.9872 - mean_squared_error: 0.0098 - mean_absolute_error: 0.0226 - val_loss: 0.1408 - val_acc: 0.9727 - val_mean_squared_error: 0.0241 - val_mean_absolute_error: 0.0359\n",
      "Epoch 126/150\n",
      "13/13 [==============================] - 0s 3ms/step - loss: 0.0372 - acc: 0.9858 - mean_squared_error: 0.0110 - mean_absolute_error: 0.0238 - val_loss: 0.1411 - val_acc: 0.9727 - val_mean_squared_error: 0.0241 - val_mean_absolute_error: 0.0357\n",
      "Epoch 127/150\n",
      "13/13 [==============================] - 0s 4ms/step - loss: 0.0339 - acc: 0.9871 - mean_squared_error: 0.0100 - mean_absolute_error: 0.0229 - val_loss: 0.1414 - val_acc: 0.9727 - val_mean_squared_error: 0.0241 - val_mean_absolute_error: 0.0355\n",
      "Epoch 128/150\n",
      "13/13 [==============================] - 0s 7ms/step - loss: 0.0356 - acc: 0.9868 - mean_squared_error: 0.0104 - mean_absolute_error: 0.0235 - val_loss: 0.1417 - val_acc: 0.9727 - val_mean_squared_error: 0.0241 - val_mean_absolute_error: 0.0353\n"
     ]
    },
    {
     "name": "stdout",
     "output_type": "stream",
     "text": [
      "Epoch 129/150\n",
      "13/13 [==============================] - 0s 4ms/step - loss: 0.0371 - acc: 0.9865 - mean_squared_error: 0.0110 - mean_absolute_error: 0.0240 - val_loss: 0.1421 - val_acc: 0.9723 - val_mean_squared_error: 0.0240 - val_mean_absolute_error: 0.0351\n",
      "Epoch 130/150\n",
      "13/13 [==============================] - 0s 4ms/step - loss: 0.0334 - acc: 0.9868 - mean_squared_error: 0.0098 - mean_absolute_error: 0.0228 - val_loss: 0.1424 - val_acc: 0.9727 - val_mean_squared_error: 0.0240 - val_mean_absolute_error: 0.0348\n",
      "Epoch 131/150\n",
      "13/13 [==============================] - 0s 3ms/step - loss: 0.0324 - acc: 0.9877 - mean_squared_error: 0.0093 - mean_absolute_error: 0.0226 - val_loss: 0.1428 - val_acc: 0.9730 - val_mean_squared_error: 0.0240 - val_mean_absolute_error: 0.0346\n",
      "Epoch 132/150\n",
      "13/13 [==============================] - 0s 2ms/step - loss: 0.0329 - acc: 0.9878 - mean_squared_error: 0.0097 - mean_absolute_error: 0.0224 - val_loss: 0.1433 - val_acc: 0.9727 - val_mean_squared_error: 0.0240 - val_mean_absolute_error: 0.0343\n",
      "Epoch 133/150\n",
      "13/13 [==============================] - 0s 3ms/step - loss: 0.0325 - acc: 0.9874 - mean_squared_error: 0.0094 - mean_absolute_error: 0.0222 - val_loss: 0.1438 - val_acc: 0.9730 - val_mean_squared_error: 0.0240 - val_mean_absolute_error: 0.0341\n",
      "Epoch 134/150\n",
      "13/13 [==============================] - 0s 3ms/step - loss: 0.0347 - acc: 0.9868 - mean_squared_error: 0.0102 - mean_absolute_error: 0.0223 - val_loss: 0.1442 - val_acc: 0.9730 - val_mean_squared_error: 0.0240 - val_mean_absolute_error: 0.0340\n",
      "Epoch 135/150\n",
      "13/13 [==============================] - 0s 2ms/step - loss: 0.0322 - acc: 0.9871 - mean_squared_error: 0.0096 - mean_absolute_error: 0.0216 - val_loss: 0.1447 - val_acc: 0.9723 - val_mean_squared_error: 0.0240 - val_mean_absolute_error: 0.0338\n",
      "Epoch 136/150\n",
      "13/13 [==============================] - 0s 3ms/step - loss: 0.0336 - acc: 0.9867 - mean_squared_error: 0.0100 - mean_absolute_error: 0.0225 - val_loss: 0.1451 - val_acc: 0.9727 - val_mean_squared_error: 0.0240 - val_mean_absolute_error: 0.0337\n",
      "Epoch 137/150\n",
      "13/13 [==============================] - 0s 3ms/step - loss: 0.0313 - acc: 0.9882 - mean_squared_error: 0.0091 - mean_absolute_error: 0.0215 - val_loss: 0.1455 - val_acc: 0.9727 - val_mean_squared_error: 0.0240 - val_mean_absolute_error: 0.0335\n",
      "Epoch 138/150\n",
      "13/13 [==============================] - 0s 3ms/step - loss: 0.0316 - acc: 0.9874 - mean_squared_error: 0.0093 - mean_absolute_error: 0.0213 - val_loss: 0.1460 - val_acc: 0.9723 - val_mean_squared_error: 0.0240 - val_mean_absolute_error: 0.0334\n",
      "Epoch 139/150\n",
      "13/13 [==============================] - 0s 3ms/step - loss: 0.0373 - acc: 0.9865 - mean_squared_error: 0.0110 - mean_absolute_error: 0.0218 - val_loss: 0.1463 - val_acc: 0.9720 - val_mean_squared_error: 0.0240 - val_mean_absolute_error: 0.0333\n",
      "Epoch 140/150\n",
      "13/13 [==============================] - 0s 3ms/step - loss: 0.0317 - acc: 0.9875 - mean_squared_error: 0.0095 - mean_absolute_error: 0.0209 - val_loss: 0.1467 - val_acc: 0.9707 - val_mean_squared_error: 0.0240 - val_mean_absolute_error: 0.0332\n",
      "Epoch 141/150\n",
      "13/13 [==============================] - 0s 3ms/step - loss: 0.0314 - acc: 0.9871 - mean_squared_error: 0.0094 - mean_absolute_error: 0.0210 - val_loss: 0.1471 - val_acc: 0.9723 - val_mean_squared_error: 0.0240 - val_mean_absolute_error: 0.0331\n",
      "Epoch 142/150\n",
      "13/13 [==============================] - 0s 4ms/step - loss: 0.0340 - acc: 0.9868 - mean_squared_error: 0.0100 - mean_absolute_error: 0.0213 - val_loss: 0.1474 - val_acc: 0.9723 - val_mean_squared_error: 0.0239 - val_mean_absolute_error: 0.0330\n",
      "Epoch 143/150\n",
      "13/13 [==============================] - 0s 4ms/step - loss: 0.0326 - acc: 0.9875 - mean_squared_error: 0.0096 - mean_absolute_error: 0.0223 - val_loss: 0.1478 - val_acc: 0.9727 - val_mean_squared_error: 0.0240 - val_mean_absolute_error: 0.0329\n",
      "Epoch 144/150\n",
      "13/13 [==============================] - 0s 3ms/step - loss: 0.0303 - acc: 0.9875 - mean_squared_error: 0.0090 - mean_absolute_error: 0.0207 - val_loss: 0.1483 - val_acc: 0.9727 - val_mean_squared_error: 0.0240 - val_mean_absolute_error: 0.0327\n",
      "Epoch 145/150\n",
      "13/13 [==============================] - 0s 3ms/step - loss: 0.0308 - acc: 0.9882 - mean_squared_error: 0.0091 - mean_absolute_error: 0.0213 - val_loss: 0.1490 - val_acc: 0.9730 - val_mean_squared_error: 0.0240 - val_mean_absolute_error: 0.0326\n",
      "Epoch 146/150\n",
      "13/13 [==============================] - 0s 4ms/step - loss: 0.0305 - acc: 0.9879 - mean_squared_error: 0.0090 - mean_absolute_error: 0.0206 - val_loss: 0.1498 - val_acc: 0.9730 - val_mean_squared_error: 0.0240 - val_mean_absolute_error: 0.0324\n",
      "Epoch 147/150\n",
      "13/13 [==============================] - 0s 3ms/step - loss: 0.0304 - acc: 0.9882 - mean_squared_error: 0.0089 - mean_absolute_error: 0.0208 - val_loss: 0.1505 - val_acc: 0.9730 - val_mean_squared_error: 0.0240 - val_mean_absolute_error: 0.0323\n",
      "Epoch 148/150\n",
      "13/13 [==============================] - 0s 2ms/step - loss: 0.0287 - acc: 0.9888 - mean_squared_error: 0.0085 - mean_absolute_error: 0.0193 - val_loss: 0.1512 - val_acc: 0.9730 - val_mean_squared_error: 0.0240 - val_mean_absolute_error: 0.0321\n",
      "Epoch 149/150\n",
      "13/13 [==============================] - 0s 3ms/step - loss: 0.0323 - acc: 0.9869 - mean_squared_error: 0.0097 - mean_absolute_error: 0.0196 - val_loss: 0.1518 - val_acc: 0.9727 - val_mean_squared_error: 0.0241 - val_mean_absolute_error: 0.0320\n",
      "Epoch 150/150\n",
      "13/13 [==============================] - 0s 3ms/step - loss: 0.0295 - acc: 0.9880 - mean_squared_error: 0.0089 - mean_absolute_error: 0.0195 - val_loss: 0.1524 - val_acc: 0.9727 - val_mean_squared_error: 0.0241 - val_mean_absolute_error: 0.0320\n"
     ]
    }
   ],
   "source": [
    "m = 30\n",
    "# xx = np.stack([x_train[0] for _ in range(m)])\n",
    "# yy = xx\n",
    "# history = auto.fit(x_train, y_train, epochs=epochs, batch_size=batch_size, callbacks=[TensorBoard(log_dir=config.tmp_log_dir)])\n",
    "history = auto.fit(x_train[:m], y_train[:m], epochs=epochs, batch_size=batch_size,\n",
    "          validation_split=1/6, callbacks=[TensorBoard(log_dir=config.tmp_log_dir)])"
   ]
  },
  {
   "cell_type": "code",
   "execution_count": 15,
   "metadata": {},
   "outputs": [
    {
     "data": {
      "text/plain": [
       "(0, 0.7263871361501515)"
      ]
     },
     "execution_count": 15,
     "metadata": {},
     "output_type": "execute_result"
    },
    {
     "data": {
      "image/png": "[encoded data removed]",
      "text/plain": [
       "<matplotlib.figure.Figure at 0x1171b01d0>"
      ]
     },
     "metadata": {},
     "output_type": "display_data"
    }
   ],
   "source": [
    "plt.plot(history.history['loss'])\n",
    "plt.plot(history.history['val_loss'])\n",
    "plt.ylim(ymin=0)"
   ]
  },
  {
   "cell_type": "code",
   "execution_count": 16,
   "metadata": {},
   "outputs": [
    {
     "data": {
      "text/plain": [
       "(0, 1)"
      ]
     },
     "execution_count": 16,
     "metadata": {},
     "output_type": "execute_result"
    },
    {
     "data": {
      "image/png": "[encoded data removed]",
      "text/plain": [
       "<matplotlib.figure.Figure at 0x11aa56b38>"
      ]
     },
     "metadata": {},
     "output_type": "display_data"
    }
   ],
   "source": [
    "plt.plot(history.history['acc'])\n",
    "plt.plot(history.history['val_acc'])\n",
    "plt.ylim(ymin=0, ymax=1)"
   ]
  },
  {
   "cell_type": "code",
   "execution_count": 17,
   "metadata": {},
   "outputs": [
    {
     "data": {
      "text/plain": [
       "(10, 500, 2)"
      ]
     },
     "execution_count": 17,
     "metadata": {},
     "output_type": "execute_result"
    }
   ],
   "source": [
    "results = auto.predict(x_train[:10])\n",
    "results.shape"
   ]
  },
  {
   "cell_type": "code",
   "execution_count": 18,
   "metadata": {},
   "outputs": [
    {
     "data": {
      "text/plain": [
       "(0, 1)"
      ]
     },
     "execution_count": 18,
     "metadata": {},
     "output_type": "execute_result"
    },
    {
     "data": {
      "image/png": "[encoded data removed]",
      "text/plain": [
       "<matplotlib.figure.Figure at 0x11ab52f28>"
      ]
     },
     "metadata": {},
     "output_type": "display_data"
    }
   ],
   "source": [
    "n1 = 15\n",
    "i = 0\n",
    "plt.subplot(211)\n",
    "plt.plot(np.arange(n1), results[i, :n1, 0:])\n",
    "plt.plot([0.5] * n1) # midi.MIDI_NOISE_FLOOR\n",
    "plt.ylim(ymin=0, ymax=1)\n",
    "\n",
    "plt.subplot(212)\n",
    "plt.plot(np.arange(n1), x_train[i, :n1, 0:])\n",
    "plt.plot([0.5] * n1) # midi.MIDI_NOISE_FLOOR\n",
    "plt.ylim(ymin=0, ymax=1)"
   ]
  },
  {
   "cell_type": "code",
   "execution_count": 19,
   "metadata": {},
   "outputs": [
    {
     "data": {
      "text/plain": [
       "(0, 1)"
      ]
     },
     "execution_count": 19,
     "metadata": {},
     "output_type": "execute_result"
    },
    {
     "data": {
      "image/png": "[encoded data removed]",
      "text/plain": [
       "<matplotlib.figure.Figure at 0x11cccf198>"
      ]
     },
     "metadata": {},
     "output_type": "display_data"
    }
   ],
   "source": [
    "n1 = 30\n",
    "i = 1\n",
    "plt.subplot(211)\n",
    "plt.plot(np.arange(n1), results[i, :n1, 0:])\n",
    "plt.plot([0.5] * n1) # midi.MIDI_NOISE_FLOOR\n",
    "plt.ylim(ymin=0, ymax=1)\n",
    "plt.subplot(212)\n",
    "\n",
    "plt.plot(np.arange(n1), x_train[i, :n1, 0:])\n",
    "plt.plot([0.5] * n1) # midi.MIDI_NOISE_FLOOR\n",
    "plt.ylim(ymin=0, ymax=1)"
   ]
  },
  {
   "cell_type": "code",
   "execution_count": 20,
   "metadata": {},
   "outputs": [
    {
     "name": "stdout",
     "output_type": "stream",
     "text": [
      "\u001b[92m [INFO] : \u001b[0m\n",
      " |  len, max_t\n",
      " |  7.910416666666669\n",
      " |  10.0\n",
      "\u001b[92m [INFO] : \u001b[0m\n",
      " |  len, max_t\n",
      " |  7.54375\n",
      " |  10.0\n"
     ]
    }
   ],
   "source": []
  },
  {
   "cell_type": "code",
   "execution_count": 24,
   "metadata": {},
   "outputs": [
    {
     "name": "stdout",
     "output_type": "stream",
     "text": [
      "\u001b[92m [INFO] : \u001b[0m\n",
      " |  len, max_t\n",
      " |  7.910416666666669\n",
      " |  10.0\n",
      "\u001b[92m [INFO] : \u001b[0m\n",
      " |  len, max_t\n",
      " |  7.54375\n",
      " |  10.0\n"
     ]
    }
   ],
   "source": [
    "mid_true = midi.decode_track(context, x_train[0])\n",
    "mid_pred = midi.decode_track(context, results[0])\n",
    "dn = config.export_dir\n",
    "io.export_midifile(mid_true, dn + 'real_mid_true.mid')\n",
    "io.export_midifile(mid_pred, dn + 'real_mid_pred.mid')"
   ]
  },
  {
   "cell_type": "code",
   "execution_count": 22,
   "metadata": {},
   "outputs": [
    {
     "data": {
      "text/plain": [
       "<midi file None type 1, 1 tracks, 60 messages>"
      ]
     },
     "execution_count": 22,
     "metadata": {},
     "output_type": "execute_result"
    }
   ],
   "source": [
    "mid_pred"
   ]
  },
  {
   "cell_type": "code",
   "execution_count": 23,
   "metadata": {},
   "outputs": [
    {
     "data": {
      "text/plain": [
       "<midi file None type 1, 1 tracks, 132 messages>"
      ]
     },
     "execution_count": 23,
     "metadata": {},
     "output_type": "execute_result"
    }
   ],
   "source": [
    "mid_true"
   ]
  },
  {
   "cell_type": "code",
   "execution_count": null,
   "metadata": {},
   "outputs": [],
   "source": []
  },
  {
   "cell_type": "code",
   "execution_count": null,
   "metadata": {},
   "outputs": [],
   "source": []
  }
 ],
 "metadata": {
  "kernelspec": {
   "display_name": "Python 3",
   "language": "python",
   "name": "python3"
  },
  "language_info": {
   "codemirror_mode": {
    "name": "ipython",
    "version": 3
   },
   "file_extension": ".py",
   "mimetype": "text/x-python",
   "name": "python",
   "nbconvert_exporter": "python",
   "pygments_lexer": "ipython3",
   "version": "3.6.4"
  }
 },
 "nbformat": 4,
 "nbformat_minor": 2
}
