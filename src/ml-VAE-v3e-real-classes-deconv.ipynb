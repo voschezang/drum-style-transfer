{
 "cells": [
  {
   "cell_type": "code",
   "execution_count": 1,
   "metadata": {},
   "outputs": [
    {
     "name": "stderr",
     "output_type": "stream",
     "text": [
      "/Library/Frameworks/Python.framework/Versions/3.6/lib/python3.6/site-packages/h5py/__init__.py:36: FutureWarning: Conversion of the second argument of issubdtype from `float` to `np.floating` is deprecated. In future, it will be treated as `np.float64 == np.dtype(float).type`.\n",
      "  from ._conv import register_converters as _register_converters\n",
      "Using TensorFlow backend.\n"
     ]
    }
   ],
   "source": [
    "from __future__ import division\n",
    "\n",
    "import collections\n",
    "import numpy as np\n",
    "import matplotlib.pyplot as plt\n",
    "from scipy.stats import norm\n",
    "\n",
    "## NN libs\n",
    "import keras\n",
    "from keras import backend as K\n",
    "from keras import regularizers\n",
    "from keras.utils import to_categorical\n",
    "from keras.optimizers import SGD, Adam\n",
    "from keras.layers import Input, Dense, Activation, Reshape, Dropout, Flatten, Lambda\n",
    "from keras.layers import Conv2DTranspose, Conv1D, Conv2D, MaxPooling1D, MaxPooling2D, UpSampling2D, UpSampling1D \n",
    "from keras.layers import LocallyConnected1D, LocallyConnected2D, LSTM, RepeatVector\n",
    "from keras.preprocessing.image import ImageDataGenerator\n",
    "from keras.models import Model\n",
    "from keras.callbacks import TensorBoard"
   ]
  },
  {
   "cell_type": "code",
   "execution_count": 2,
   "metadata": {},
   "outputs": [],
   "source": [
    "import config\n",
    "import os, numpy as np, pandas, sklearn, scipy.signal as signal\n",
    "import mido\n",
    "import matplotlib.pyplot as plt\n",
    "%matplotlib inline"
   ]
  },
  {
   "cell_type": "code",
   "execution_count": 3,
   "metadata": {},
   "outputs": [],
   "source": [
    "# local libs\n",
    "import config, models, setup\n",
    "import midi\n",
    "from midi import generators as g\n",
    "from utils import io, models_io, utils, plot"
   ]
  },
  {
   "cell_type": "code",
   "execution_count": 4,
   "metadata": {},
   "outputs": [
    {
     "name": "stdout",
     "output_type": "stream",
     "text": [
      " Context :: namedtuple(\n",
      "[ max_t = float\n",
      ", dt = float\n",
      ", n_timestesp = int\n",
      ", note_length = int\n",
      ", bpm = float\n",
      ", tempo = float\n",
      ", ticks_per_beat = int\n",
      "]\n",
      "\n",
      "Setting up params\n",
      "\n",
      "max min f 10.0 0.5\n",
      " >> Context(max_t=2.0, dt=0.05, n_timesteps=40, note_length=0.03, bpm=120.0, tempo=500000, ticks_per_beat=480)\n",
      " sample length:  40.000000\n",
      " max_f: 10.000000, min_f: 0.500000\n"
     ]
    }
   ],
   "source": [
    "context = setup.init()"
   ]
  },
  {
   "cell_type": "code",
   "execution_count": 5,
   "metadata": {
    "scrolled": true
   },
   "outputs": [
    {
     "name": "stdout",
     "output_type": "stream",
     "text": [
      "\n",
      "Importing midi-data\n",
      "\n",
      "Encoding midi-data\n",
      " 100\n",
      "> -> multi-track = True MidiFile\n",
      "\u001b[92m [INFO] : \u001b[0m\n",
      " |  True\n"
     ]
    }
   ],
   "source": [
    "n = 100 * 1\n",
    "dim4 = True\n",
    "multiTrack = True\n",
    "reduce_dims = midi.ReduceDimsOptions.MIDIFILE # GLOBAL\n",
    "dn = 'drum_midi/'\n",
    "x_train, labels = setup.import_data(context, n, dim4=dim4, reduce_dims=reduce_dims, dirname=dn, multiTrack=multiTrack, r=True)"
   ]
  },
  {
   "cell_type": "code",
   "execution_count": 6,
   "metadata": {},
   "outputs": [],
   "source": [
    "# n = 1000\n",
    "# min_f = 0\n",
    "# max_f = 3\n",
    "# x_train, params = g.gen_data_complex(context, n, max_f=max_f, min_f=min_f,\n",
    "#     n_polyrythms=1,\n",
    "#     n_channels=3,\n",
    "#     d_phase=True,\n",
    "#     return_params=True,\n",
    "#     dim4=dim4,\n",
    "#     multiTrack=multiTrack)"
   ]
  },
  {
   "cell_type": "code",
   "execution_count": 7,
   "metadata": {},
   "outputs": [
    {
     "data": {
      "text/plain": [
       "(100, 40, 10, 1)"
      ]
     },
     "execution_count": 7,
     "metadata": {},
     "output_type": "execute_result"
    }
   ],
   "source": [
    "x_train.shape"
   ]
  },
  {
   "cell_type": "code",
   "execution_count": 8,
   "metadata": {},
   "outputs": [
    {
     "data": {
      "text/plain": [
       "[(100, 40, 10, 1), 90]"
      ]
     },
     "execution_count": 8,
     "metadata": {},
     "output_type": "execute_result"
    }
   ],
   "source": [
    "m = int(x_train.shape[0] * 0.9)\n",
    "[x_train.shape, m]"
   ]
  },
  {
   "cell_type": "code",
   "execution_count": 9,
   "metadata": {},
   "outputs": [],
   "source": [
    "x_test = x_train[m:]\n",
    "x_train = x_train[:m]"
   ]
  },
  {
   "cell_type": "code",
   "execution_count": 10,
   "metadata": {},
   "outputs": [
    {
     "name": "stdout",
     "output_type": "stream",
     "text": [
      "m (40, 10)\n"
     ]
    },
    {
     "data": {
      "image/png": "[encoded data removed]",
      "text/plain": [
       "<matplotlib.figure.Figure at 0x117e6cd68>"
      ]
     },
     "metadata": {},
     "output_type": "display_data"
    },
    {
     "name": "stdout",
     "output_type": "stream",
     "text": [
      "m (40, 10)\n"
     ]
    },
    {
     "data": {
      "image/png": "[encoded data removed]",
      "text/plain": [
       "<matplotlib.figure.Figure at 0x117e6ccc0>"
      ]
     },
     "metadata": {},
     "output_type": "display_data"
    },
    {
     "name": "stdout",
     "output_type": "stream",
     "text": [
      "m (40, 10)\n"
     ]
    },
    {
     "data": {
      "image/png": "[encoded data removed]",
      "text/plain": [
       "<matplotlib.figure.Figure at 0x117c3d550>"
      ]
     },
     "metadata": {},
     "output_type": "display_data"
    },
    {
     "data": {
      "text/plain": [
       "[\"../datasets/drum_midi//50´s Drummer MIDI Files/01 Rock'n'Roll/01 Dancin Rick 166BPM/01 8th Hat.mid\",\n",
       " \"../datasets/drum_midi//50´s Drummer MIDI Files/01 Rock'n'Roll/01 Dancin Rick 166BPM/02 8th Ride.mid\",\n",
       " \"../datasets/drum_midi//50´s Drummer MIDI Files/01 Rock'n'Roll/01 Dancin Rick 166BPM/03 16th Snare.mid\",\n",
       " \"../datasets/drum_midi//50´s Drummer MIDI Files/01 Rock'n'Roll/01 Dancin Rick 166BPM/04 8th Ride.mid\"]"
      ]
     },
     "execution_count": 10,
     "metadata": {},
     "output_type": "execute_result"
    }
   ],
   "source": [
    "plot.single(x_train[0, :50,:,0])\n",
    "plot.single(x_train[1, :50,:,0])\n",
    "plot.single(x_train[2, :50,:,0])\n",
    "labels[0:4]"
   ]
  },
  {
   "cell_type": "code",
   "execution_count": 11,
   "metadata": {},
   "outputs": [
    {
     "data": {
      "text/plain": [
       "(40, 10, 1)"
      ]
     },
     "execution_count": 11,
     "metadata": {},
     "output_type": "execute_result"
    }
   ],
   "source": [
    "input_shape = x_train[0].shape\n",
    "timesteps = input_shape[0]\n",
    "notes = input_shape[1]\n",
    "input_shape"
   ]
  },
  {
   "cell_type": "code",
   "execution_count": 12,
   "metadata": {},
   "outputs": [],
   "source": [
    "latent_dim = 2\n",
    "intermediate_dim = 128\n",
    "epsilon_std = 1.0"
   ]
  },
  {
   "cell_type": "code",
   "execution_count": 13,
   "metadata": {},
   "outputs": [],
   "source": [
    "def encoder(input_shape, dropout=0.05):\n",
    "    encoder_input = Input(shape=input_shape)\n",
    "    nodes = np.prod(input_shape)\n",
    "\n",
    "    # Convolve & Pool\n",
    "    h = encoder_input\n",
    "    h = Reshape(input_shape[:-1])(h)\n",
    "    h = Conv1D(32, kernel_size=2, strides=2, activation='relu', padding='valid')(h)\n",
    "    h = Conv1D(64, kernel_size=2, strides=1, activation='relu', padding='valid')(h)\n",
    "    h = Conv1D(64, kernel_size=2, strides=2, activation='relu', padding='valid')(h)\n",
    "    shape = K.int_shape(h)[1:]\n",
    "    h = Reshape(list(shape) + [1])(h)\n",
    "    h = Conv2D(128, kernel_size=(2,2), strides=1, activation='relu', padding='valid')(h)\n",
    "    h = MaxPooling2D((2, 1))(h)\n",
    "\n",
    "    h = Conv2D(64, kernel_size=(2,2), strides=2, activation='relu', padding='valid')(h)\n",
    "#     print(shape, list(shape))\n",
    "\n",
    "    # Dense layers\n",
    "#     h = Dropout(dropout)(h) # uncomment when using larger batches\n",
    "    h = Flatten()(h)\n",
    "    h = Dropout(dropout)(h) # uncomment when using larger batches\n",
    "    \n",
    "    h = Dense(int(nodes / 2), activation='relu')(h)\n",
    "    h = Dense(intermediate_dim, activation='relu')(h)\n",
    "   \n",
    "    # Z Mean, Variance\n",
    "    z_mean = Dense(latent_dim, name='z_mean')(h) # , activation='relu'\n",
    "    z_log_var = Dense(latent_dim, name='z_log_var')(h) # , activation='relu'\n",
    "        \n",
    "    encoder_output = [z_mean, z_log_var]\n",
    "    encoder_model = Model(encoder_input, encoder_output, name='encoder_model-')\n",
    "    return encoder_model, encoder_input, z_mean, z_log_var"
   ]
  },
  {
   "cell_type": "code",
   "execution_count": 14,
   "metadata": {},
   "outputs": [
    {
     "name": "stdout",
     "output_type": "stream",
     "text": [
      "__________________________________________________________________________________________________\n",
      "Layer (type)                    Output Shape         Param #     Connected to                     \n",
      "==================================================================================================\n",
      "input_1 (InputLayer)            (None, 40, 10, 1)    0                                            \n",
      "__________________________________________________________________________________________________\n",
      "reshape_1 (Reshape)             (None, 40, 10)       0           input_1[0][0]                    \n",
      "__________________________________________________________________________________________________\n",
      "conv1d_1 (Conv1D)               (None, 20, 32)       672         reshape_1[0][0]                  \n",
      "__________________________________________________________________________________________________\n",
      "conv1d_2 (Conv1D)               (None, 19, 64)       4160        conv1d_1[0][0]                   \n",
      "__________________________________________________________________________________________________\n",
      "conv1d_3 (Conv1D)               (None, 9, 64)        8256        conv1d_2[0][0]                   \n",
      "__________________________________________________________________________________________________\n",
      "reshape_2 (Reshape)             (None, 9, 64, 1)     0           conv1d_3[0][0]                   \n",
      "__________________________________________________________________________________________________\n",
      "conv2d_1 (Conv2D)               (None, 8, 63, 128)   640         reshape_2[0][0]                  \n",
      "__________________________________________________________________________________________________\n",
      "max_pooling2d_1 (MaxPooling2D)  (None, 4, 63, 128)   0           conv2d_1[0][0]                   \n",
      "__________________________________________________________________________________________________\n",
      "conv2d_2 (Conv2D)               (None, 2, 31, 64)    32832       max_pooling2d_1[0][0]            \n",
      "__________________________________________________________________________________________________\n",
      "flatten_1 (Flatten)             (None, 3968)         0           conv2d_2[0][0]                   \n",
      "__________________________________________________________________________________________________\n",
      "dropout_1 (Dropout)             (None, 3968)         0           flatten_1[0][0]                  \n",
      "__________________________________________________________________________________________________\n",
      "dense_1 (Dense)                 (None, 200)          793800      dropout_1[0][0]                  \n",
      "__________________________________________________________________________________________________\n",
      "dense_2 (Dense)                 (None, 128)          25728       dense_1[0][0]                    \n",
      "__________________________________________________________________________________________________\n",
      "z_mean (Dense)                  (None, 2)            258         dense_2[0][0]                    \n",
      "__________________________________________________________________________________________________\n",
      "z_log_var (Dense)               (None, 2)            258         dense_2[0][0]                    \n",
      "==================================================================================================\n",
      "Total params: 866,604\n",
      "Trainable params: 866,604\n",
      "Non-trainable params: 0\n",
      "__________________________________________________________________________________________________\n"
     ]
    }
   ],
   "source": [
    "encoder_model, encoder_input, z_mean, z_log_var = encoder(input_shape)\n",
    "encoder_model.summary()"
   ]
  },
  {
   "cell_type": "code",
   "execution_count": 15,
   "metadata": {},
   "outputs": [],
   "source": [
    "sample_ = lambda args: models.sample(args, z_mean, z_log_var, latent_dim, epsilon_std)"
   ]
  },
  {
   "cell_type": "code",
   "execution_count": 16,
   "metadata": {},
   "outputs": [],
   "source": [
    "# z = Lambda(sampling)([z_mean, z_log_var])\n",
    "z_input = encoder_model(encoder_input)\n",
    "z_output = Lambda(sample_)(z_input)\n",
    "# z_output = Lambda(sampl_, output_shape=(latent_dim,))(encoder_input)"
   ]
  },
  {
   "cell_type": "code",
   "execution_count": 17,
   "metadata": {},
   "outputs": [],
   "source": [
    "def list_decoders(output_shape, p='same'):\n",
    "    # decoder_input = z_output\n",
    "    # h = decoder_input\n",
    "    # :output_shape = (timesteps, channels, channels) || (batches, filters, timesteps, channels)\n",
    "    # keras offers just Conv2DTranspose and not Conv1DTranspose\n",
    "    # - use 2D images during upsampling :: (timesteps, notes, channels) => (timesteps, notes, filters)\n",
    "    # - use 1D images to optimize reconstruction :: (timesteps, filters) => (timesteps, notes)\n",
    "    \n",
    "    # image_data_format = 'channels_last'\n",
    "    # goal shape: (timesteps, notes, channels)\n",
    "    # start with the 'reverse': lots of small imgs => few large img\n",
    "    \n",
    "    timesteps, notes, channels = output_shape\n",
    "    m = 4 # multiplier for dims\n",
    "    time_ = int(timesteps/10)\n",
    "    notes_ = notes * 10\n",
    "    intermediate_dim = time_ * notes_ * channels\n",
    "    # at the start of upsampling, the image-structure does not yet have to correspond to the goal structure \n",
    "    # ?TODO use y*y*y starting dims, may conv, and only then correct the structure (?)\n",
    "    output_shape = (timesteps, notes, channels)\n",
    "    nodes = np.prod(output_shape)\n",
    "    \n",
    "    decoders = []\n",
    "    decoders += [ Dense(256, activation='relu') ]\n",
    "    decoders += [ Dense(intermediate_dim, activation='relu') ]\n",
    "\n",
    "    # Convolve & Pool\n",
    "    # Note that the kernel windows do not yet correspond to 'temporal' features, but rather to just spatial features\n",
    "    k = (2,1) # (2,1) :: (timesteps, notes)\n",
    "    s = (3,1)\n",
    "\n",
    "    decoders += [ Reshape((time_, notes_, channels)) ]\n",
    "    decoders += [ Conv2DTranspose(128, kernel_size=2, strides=3, activation='relu', padding=p) ]\n",
    "    decoders += [ Conv2DTranspose(64, kernel_size=2, strides=2, activation='relu', padding=p) ]\n",
    "    decoders += [ Conv2DTranspose(64, kernel_size=k, strides=s, activation='relu', padding=p) ]\n",
    "    decoders += [ Conv2DTranspose(32, kernel_size=k, strides=s, activation='relu', padding=p) ]\n",
    "    \n",
    "    \n",
    "    # 'end' of upsampling\n",
    "    decoders += [ Conv2D(32, kernel_size=(1,2), strides=(1,3), activation='relu', padding=p) ]\n",
    "    decoders += [ Conv2D(32, kernel_size=(1,2), strides=(1,3), activation='relu', padding=p) ]\n",
    "    decoders += [ Conv2D(32, kernel_size=(2,1), strides=(2,1), activation='relu', padding=p) ]\n",
    "    \n",
    "    decoders += [ Conv2D(32, kernel_size=(1,2), strides=(1,3), activation='relu', padding=p) ]    \n",
    "    decoders += [ Conv2D(3, kernel_size=k, strides=(2,1), activation='relu', padding=p) ]\n",
    "\n",
    "    # decoder_reshape2 = Reshape(dims[0:2])\n",
    "    # #     h = Conv1D(16, kernel_size=2, strides=1, activation='relu', padding=p)(h)\n",
    "    # decoder_conv2 = Conv1D(notes * m, kernel_size=2, strides=2, activation='relu', padding=p)\n",
    "    \n",
    "    \n",
    "    # Mean (output)\n",
    "    #     h = Conv2D(1, kernel_size=1, strides=s, activation='sigmoid', padding='same')(h)\n",
    "#     output_shape = (timesteps, notes, channels)\n",
    "    \n",
    "    decoders += [ Flatten()]\n",
    "    decoders += [ Dense(np.prod(output_shape), activation='relu')]\n",
    "    decoders += [ Dense(np.prod(output_shape), activation='sigmoid')]\n",
    "    decoders += [ Reshape(output_shape)]\n",
    "    return decoders"
   ]
  },
  {
   "cell_type": "code",
   "execution_count": 18,
   "metadata": {},
   "outputs": [],
   "source": [
    "decoders = list_decoders(input_shape)"
   ]
  },
  {
   "cell_type": "code",
   "execution_count": 19,
   "metadata": {},
   "outputs": [],
   "source": [
    "decoded = utils.composition(decoders, z_output, verbose=False)"
   ]
  },
  {
   "cell_type": "code",
   "execution_count": 20,
   "metadata": {},
   "outputs": [
    {
     "name": "stdout",
     "output_type": "stream",
     "text": [
      "__________________________________________________________________________________________________\n",
      "Layer (type)                    Output Shape         Param #     Connected to                     \n",
      "==================================================================================================\n",
      "input_1 (InputLayer)            (None, 40, 10, 1)    0                                            \n",
      "__________________________________________________________________________________________________\n",
      "encoder_model- (Model)          [(None, 2), (None, 2 866604      input_1[0][0]                    \n",
      "__________________________________________________________________________________________________\n",
      "lambda_1 (Lambda)               (None, 2)            0           encoder_model-[1][0]             \n",
      "                                                                 encoder_model-[1][1]             \n",
      "__________________________________________________________________________________________________\n",
      "dense_3 (Dense)                 (None, 256)          768         lambda_1[0][0]                   \n",
      "__________________________________________________________________________________________________\n",
      "dense_4 (Dense)                 (None, 400)          102800      dense_3[0][0]                    \n",
      "__________________________________________________________________________________________________\n",
      "reshape_3 (Reshape)             (None, 4, 100, 1)    0           dense_4[0][0]                    \n",
      "__________________________________________________________________________________________________\n",
      "conv2d_transpose_1 (Conv2DTrans (None, 12, 300, 128) 640         reshape_3[0][0]                  \n",
      "__________________________________________________________________________________________________\n",
      "conv2d_transpose_2 (Conv2DTrans (None, 24, 600, 64)  32832       conv2d_transpose_1[0][0]         \n",
      "__________________________________________________________________________________________________\n",
      "conv2d_transpose_3 (Conv2DTrans (None, 72, 600, 64)  8256        conv2d_transpose_2[0][0]         \n",
      "__________________________________________________________________________________________________\n",
      "conv2d_transpose_4 (Conv2DTrans (None, 216, 600, 32) 4128        conv2d_transpose_3[0][0]         \n",
      "__________________________________________________________________________________________________\n",
      "conv2d_3 (Conv2D)               (None, 216, 200, 32) 2080        conv2d_transpose_4[0][0]         \n",
      "__________________________________________________________________________________________________\n",
      "conv2d_4 (Conv2D)               (None, 216, 67, 32)  2080        conv2d_3[0][0]                   \n",
      "__________________________________________________________________________________________________\n",
      "conv2d_5 (Conv2D)               (None, 108, 67, 32)  2080        conv2d_4[0][0]                   \n",
      "__________________________________________________________________________________________________\n",
      "conv2d_6 (Conv2D)               (None, 108, 23, 32)  2080        conv2d_5[0][0]                   \n",
      "__________________________________________________________________________________________________\n",
      "conv2d_7 (Conv2D)               (None, 54, 23, 3)    195         conv2d_6[0][0]                   \n",
      "__________________________________________________________________________________________________\n",
      "flatten_2 (Flatten)             (None, 3726)         0           conv2d_7[0][0]                   \n",
      "__________________________________________________________________________________________________\n",
      "dense_5 (Dense)                 (None, 400)          1490800     flatten_2[0][0]                  \n",
      "__________________________________________________________________________________________________\n",
      "dense_6 (Dense)                 (None, 400)          160400      dense_5[0][0]                    \n",
      "__________________________________________________________________________________________________\n",
      "reshape_4 (Reshape)             (None, 40, 10, 1)    0           dense_6[0][0]                    \n",
      "==================================================================================================\n",
      "Total params: 2,675,743\n",
      "Trainable params: 2,675,743\n",
      "Non-trainable params: 0\n",
      "__________________________________________________________________________________________________\n"
     ]
    }
   ],
   "source": [
    "# instantiate VAE model\n",
    "vae_input = encoder_input\n",
    "vae_output = decoded\n",
    "vae = Model(vae_input, vae_output)\n",
    "vae.summary()"
   ]
  },
  {
   "cell_type": "code",
   "execution_count": 21,
   "metadata": {
    "scrolled": true
   },
   "outputs": [
    {
     "name": "stderr",
     "output_type": "stream",
     "text": [
      "/Library/Frameworks/Python.framework/Versions/3.6/lib/python3.6/site-packages/ipykernel_launcher.py:11: UserWarning: Output \"reshape_4\" missing from loss dictionary. We assume this was done on purpose, and we will not be expecting any data to be passed to \"reshape_4\" during training.\n",
      "  # This is added back by InteractiveShellApp.init_path()\n"
     ]
    }
   ],
   "source": [
    "# Compute VAE loss\n",
    "def vae_loss(beta=1.):\n",
    "    # y_true, y_pred, z_mean, z_log_var, timesteps=150, notes=3, beta=1.\n",
    "    xent_loss = timesteps * notes * keras.metrics.binary_crossentropy(K.flatten(vae_input), K.flatten(vae_output))\n",
    "    kl_loss = - 0.5 * K.sum(1 + z_log_var - K.square(z_mean) - K.exp(z_log_var), axis=-1)\n",
    "    vae_loss = K.mean(xent_loss + beta * kl_loss)\n",
    "    return vae_loss\n",
    "\n",
    "vae_loss = vae_loss(beta=1)\n",
    "vae.add_loss(vae_loss)\n",
    "vae.compile(optimizer='adam')\n",
    "# vae.compile(optimizer=optimizer, loss=loss, metrics=metrics)"
   ]
  },
  {
   "cell_type": "code",
   "execution_count": 22,
   "metadata": {},
   "outputs": [],
   "source": [
    "batch_size = 100\n",
    "epochs = 100\n",
    "params = {'batch_size': batch_size, 'return_y': False}"
   ]
  },
  {
   "cell_type": "code",
   "execution_count": 23,
   "metadata": {},
   "outputs": [],
   "source": [
    "phase_mod = 0.01\n",
    "whitening = False"
   ]
  },
  {
   "cell_type": "code",
   "execution_count": 24,
   "metadata": {},
   "outputs": [
    {
     "data": {
      "text/plain": [
       "(90, 40, 10, 1)"
      ]
     },
     "execution_count": 24,
     "metadata": {},
     "output_type": "execute_result"
    }
   ],
   "source": [
    "x_train.shape"
   ]
  },
  {
   "cell_type": "code",
   "execution_count": 25,
   "metadata": {
    "scrolled": true
   },
   "outputs": [
    {
     "name": "stdout",
     "output_type": "stream",
     "text": [
      "batch_size = 100\n",
      "\n",
      "[Epoch 0/100] >>>>>>>>>\n",
      " Batch 0/0\n",
      " \\_loss [277.0]\n",
      "\n",
      "[Epoch 1/100] >>>>>>>>>\n",
      " Batch 0/0\n",
      " \\_loss [277.0]\n",
      "\n",
      "[Epoch 2/100] >>>>>>>>>\n",
      " Batch 0/0\n",
      " \\_loss [275.0]\n",
      "\n",
      "[Epoch 3/100] >>>>>>>>>\n",
      " Batch 0/0\n",
      " \\_loss [270.0]\n",
      "\n",
      "[Epoch 4/100] >>>>>>>>>\n",
      " Batch 0/0\n",
      " \\_loss [261.0]\n",
      "\n",
      "[Epoch 5/100] >>>>>>>>>\n",
      " Batch 0/0\n",
      " \\_loss [244.0]\n",
      "\n",
      "[Epoch 6/100] >>>>>>>>>\n",
      " Batch 0/0\n",
      " \\_loss [219.0]\n",
      "\n",
      "[Epoch 7/100] >>>>>>>>>\n",
      " Batch 0/0\n",
      " \\_loss [185.0]\n",
      "\n",
      "[Epoch 8/100] >>>>>>>>>\n",
      " Batch 0/0\n",
      " \\_loss [146.0]\n",
      "\n",
      "[Epoch 9/100] >>>>>>>>>\n",
      " Batch 0/0\n",
      " \\_loss [110.0]\n",
      "\n",
      "[Epoch 10/100] >>>>>>>>>\n",
      " Batch 0/0\n",
      " \\_loss [86.0]\n",
      "\n",
      "[Epoch 11/100] >>>>>>>>>\n",
      " Batch 0/0\n",
      " \\_loss [78.0]\n",
      "\n",
      "[Epoch 12/100] >>>>>>>>>\n",
      " Batch 0/0\n",
      " \\_loss [83.0]\n",
      "\n",
      "[Epoch 13/100] >>>>>>>>>\n",
      " Batch 0/0\n",
      " \\_loss [86.0]\n",
      "\n",
      "[Epoch 14/100] >>>>>>>>>\n",
      " Batch 0/0\n",
      " \\_loss [88.0]\n",
      "\n",
      "[Epoch 15/100] >>>>>>>>>\n",
      " Batch 0/0\n",
      " \\_loss [82.0]\n",
      "\n",
      "[Epoch 16/100] >>>>>>>>>\n",
      " Batch 0/0\n",
      " \\_loss [81.0]\n",
      "\n",
      "[Epoch 17/100] >>>>>>>>>\n",
      " Batch 0/0\n",
      " \\_loss [74.0]\n",
      "\n",
      "[Epoch 18/100] >>>>>>>>>\n",
      " Batch 0/0\n",
      " \\_loss [70.0]\n",
      "\n",
      "[Epoch 19/100] >>>>>>>>>\n",
      " Batch 0/0\n",
      " \\_loss [65.0]\n",
      "\n",
      "[Epoch 20/100] >>>>>>>>>\n",
      " Batch 0/0\n",
      " \\_loss [65.0]\n",
      "\n",
      "[Epoch 21/100] >>>>>>>>>\n",
      " Batch 0/0\n",
      " \\_loss [63.0]\n",
      "\n",
      "[Epoch 22/100] >>>>>>>>>\n",
      " Batch 0/0\n",
      " \\_loss [65.0]\n",
      "\n",
      "[Epoch 23/100] >>>>>>>>>\n",
      " Batch 0/0\n",
      " \\_loss [64.0]\n",
      "\n",
      "[Epoch 24/100] >>>>>>>>>\n",
      " Batch 0/0\n",
      " \\_loss [64.0]\n",
      "\n",
      "[Epoch 25/100] >>>>>>>>>\n",
      " Batch 0/0\n",
      " \\_loss [65.0]\n",
      "\n",
      "[Epoch 26/100] >>>>>>>>>\n",
      " Batch 0/0\n",
      " \\_loss [64.0]\n",
      "\n",
      "[Epoch 27/100] >>>>>>>>>\n",
      " Batch 0/0\n",
      " \\_loss [62.0]\n",
      "\n",
      "[Epoch 28/100] >>>>>>>>>\n",
      " Batch 0/0\n",
      " \\_loss [61.0]\n",
      "\n",
      "[Epoch 29/100] >>>>>>>>>\n",
      " Batch 0/0\n",
      " \\_loss [60.0]\n",
      "\n",
      "[Epoch 30/100] >>>>>>>>>\n",
      " Batch 0/0\n",
      " \\_loss [60.0]\n",
      "\n",
      "[Epoch 31/100] >>>>>>>>>\n",
      " Batch 0/0\n",
      " \\_loss [58.0]\n",
      "\n",
      "[Epoch 32/100] >>>>>>>>>\n",
      " Batch 0/0\n",
      " \\_loss [58.0]\n",
      "\n",
      "[Epoch 33/100] >>>>>>>>>\n",
      " Batch 0/0\n",
      " \\_loss [59.0]\n",
      "\n",
      "[Epoch 34/100] >>>>>>>>>\n",
      " Batch 0/0\n",
      " \\_loss [58.0]\n",
      "\n",
      "[Epoch 35/100] >>>>>>>>>\n",
      " Batch 0/0\n",
      " \\_loss [59.0]\n",
      "\n",
      "[Epoch 36/100] >>>>>>>>>\n",
      " Batch 0/0\n",
      " \\_loss [59.0]\n",
      "\n",
      "[Epoch 37/100] >>>>>>>>>\n",
      " Batch 0/0\n",
      " \\_loss [59.0]\n",
      "\n",
      "[Epoch 38/100] >>>>>>>>>\n",
      " Batch 0/0\n",
      " \\_loss [58.0]\n",
      "\n",
      "[Epoch 39/100] >>>>>>>>>\n",
      " Batch 0/0\n",
      " \\_loss [59.0]\n",
      "\n",
      "[Epoch 40/100] >>>>>>>>>\n",
      " Batch 0/0\n",
      " \\_loss [57.0]\n",
      "\n",
      "[Epoch 41/100] >>>>>>>>>\n",
      " Batch 0/0\n",
      " \\_loss [58.0]\n",
      "\n",
      "[Epoch 42/100] >>>>>>>>>\n",
      " Batch 0/0\n",
      " \\_loss [57.0]\n",
      "\n",
      "[Epoch 43/100] >>>>>>>>>\n",
      " Batch 0/0\n",
      " \\_loss [58.0]\n",
      "\n",
      "[Epoch 44/100] >>>>>>>>>\n",
      " Batch 0/0\n",
      " \\_loss [58.0]\n",
      "\n",
      "[Epoch 45/100] >>>>>>>>>\n",
      " Batch 0/0\n",
      " \\_loss [57.0]\n",
      "\n",
      "[Epoch 46/100] >>>>>>>>>\n",
      " Batch 0/0\n",
      " \\_loss [59.0]\n",
      "\n",
      "[Epoch 47/100] >>>>>>>>>\n",
      " Batch 0/0\n",
      " \\_loss [56.0]\n",
      "\n",
      "[Epoch 48/100] >>>>>>>>>\n",
      " Batch 0/0\n",
      " \\_loss [59.0]\n",
      "\n",
      "[Epoch 49/100] >>>>>>>>>\n",
      " Batch 0/0\n",
      " \\_loss [56.0]\n",
      "\n",
      "[Epoch 50/100] >>>>>>>>>\n",
      " Batch 0/0\n",
      " \\_loss [57.0]\n",
      "\n",
      "[Epoch 51/100] >>>>>>>>>\n",
      " Batch 0/0\n",
      " \\_loss [58.0]\n",
      "\n",
      "[Epoch 52/100] >>>>>>>>>\n",
      " Batch 0/0\n",
      " \\_loss [59.0]\n",
      "\n",
      "[Epoch 53/100] >>>>>>>>>\n",
      " Batch 0/0\n",
      " \\_loss [57.0]\n",
      "\n",
      "[Epoch 54/100] >>>>>>>>>\n",
      " Batch 0/0\n",
      " \\_loss [58.0]\n",
      "\n",
      "[Epoch 55/100] >>>>>>>>>\n",
      " Batch 0/0\n",
      " \\_loss [57.0]\n",
      "\n",
      "[Epoch 56/100] >>>>>>>>>\n",
      " Batch 0/0\n",
      " \\_loss [57.0]\n",
      "\n",
      "[Epoch 57/100] >>>>>>>>>\n",
      " Batch 0/0\n",
      " \\_loss [57.0]\n",
      "\n",
      "[Epoch 58/100] >>>>>>>>>\n",
      " Batch 0/0\n",
      " \\_loss [56.0]\n",
      "\n",
      "[Epoch 59/100] >>>>>>>>>\n",
      " Batch 0/0\n",
      " \\_loss [56.0]\n",
      "\n",
      "[Epoch 60/100] >>>>>>>>>\n",
      " Batch 0/0\n",
      " \\_loss [57.0]\n",
      "\n",
      "[Epoch 61/100] >>>>>>>>>\n",
      " Batch 0/0\n",
      " \\_loss [57.0]\n",
      "\n",
      "[Epoch 62/100] >>>>>>>>>\n",
      " Batch 0/0\n",
      " \\_loss [56.0]\n",
      "\n",
      "[Epoch 63/100] >>>>>>>>>\n",
      " Batch 0/0\n",
      " \\_loss [56.0]\n",
      "\n",
      "[Epoch 64/100] >>>>>>>>>\n",
      " Batch 0/0\n",
      " \\_loss [58.0]\n",
      "\n",
      "[Epoch 65/100] >>>>>>>>>\n",
      " Batch 0/0\n",
      " \\_loss [59.0]\n",
      "\n",
      "[Epoch 66/100] >>>>>>>>>\n",
      " Batch 0/0\n",
      " \\_loss [58.0]\n",
      "\n",
      "[Epoch 67/100] >>>>>>>>>\n",
      " Batch 0/0\n",
      " \\_loss [59.0]\n",
      "\n",
      "[Epoch 68/100] >>>>>>>>>\n",
      " Batch 0/0\n",
      " \\_loss [57.0]\n",
      "\n",
      "[Epoch 69/100] >>>>>>>>>\n",
      " Batch 0/0\n",
      " \\_loss [56.0]\n",
      "\n",
      "[Epoch 70/100] >>>>>>>>>\n",
      " Batch 0/0\n",
      " \\_loss [56.0]\n",
      "\n",
      "[Epoch 71/100] >>>>>>>>>\n",
      " Batch 0/0\n",
      " \\_loss [57.0]\n",
      "\n",
      "[Epoch 72/100] >>>>>>>>>\n",
      " Batch 0/0\n",
      " \\_loss [58.0]\n",
      "\n",
      "[Epoch 73/100] >>>>>>>>>\n",
      " Batch 0/0\n",
      " \\_loss [58.0]\n",
      "\n",
      "[Epoch 74/100] >>>>>>>>>\n",
      " Batch 0/0\n",
      " \\_loss [58.0]\n",
      "\n",
      "[Epoch 75/100] >>>>>>>>>\n",
      " Batch 0/0\n",
      " \\_loss [57.0]\n",
      "\n",
      "[Epoch 76/100] >>>>>>>>>\n",
      " Batch 0/0\n",
      " \\_loss [56.0]\n",
      "\n",
      "[Epoch 77/100] >>>>>>>>>\n",
      " Batch 0/0\n",
      " \\_loss [57.0]\n",
      "\n",
      "[Epoch 78/100] >>>>>>>>>\n",
      " Batch 0/0\n",
      " \\_loss [56.0]\n",
      "\n",
      "[Epoch 79/100] >>>>>>>>>\n",
      " Batch 0/0\n",
      " \\_loss [58.0]\n",
      "\n",
      "[Epoch 80/100] >>>>>>>>>\n",
      " Batch 0/0\n",
      " \\_loss [57.0]\n",
      "\n",
      "[Epoch 81/100] >>>>>>>>>\n",
      " Batch 0/0\n",
      " \\_loss [58.0]\n",
      "\n",
      "[Epoch 82/100] >>>>>>>>>\n",
      " Batch 0/0\n",
      " \\_loss [57.0]\n",
      "\n",
      "[Epoch 83/100] >>>>>>>>>\n",
      " Batch 0/0\n",
      " \\_loss [57.0]\n",
      "\n",
      "[Epoch 84/100] >>>>>>>>>\n",
      " Batch 0/0\n",
      " \\_loss [58.0]\n",
      "\n",
      "[Epoch 85/100] >>>>>>>>>\n",
      " Batch 0/0\n",
      " \\_loss [57.0]\n",
      "\n",
      "[Epoch 86/100] >>>>>>>>>\n",
      " Batch 0/0\n",
      " \\_loss [55.0]\n",
      "\n",
      "[Epoch 87/100] >>>>>>>>>\n",
      " Batch 0/0\n",
      " \\_loss [57.0]\n",
      "\n",
      "[Epoch 88/100] >>>>>>>>>\n",
      " Batch 0/0\n",
      " \\_loss [56.0]\n",
      "\n",
      "[Epoch 89/100] >>>>>>>>>\n",
      " Batch 0/0\n",
      " \\_loss [56.0]\n",
      "\n",
      "[Epoch 90/100] >>>>>>>>>\n",
      " Batch 0/0\n",
      " \\_loss [58.0]\n",
      "\n",
      "[Epoch 91/100] >>>>>>>>>\n",
      " Batch 0/0\n",
      " \\_loss [57.0]\n",
      "\n",
      "[Epoch 92/100] >>>>>>>>>\n",
      " Batch 0/0\n",
      " \\_loss [56.0]\n",
      "\n",
      "[Epoch 93/100] >>>>>>>>>\n",
      " Batch 0/0\n",
      " \\_loss [58.0]\n",
      "\n",
      "[Epoch 94/100] >>>>>>>>>\n",
      " Batch 0/0\n",
      " \\_loss [56.0]\n",
      "\n",
      "[Epoch 95/100] >>>>>>>>>\n",
      " Batch 0/0\n",
      " \\_loss [56.0]\n",
      "\n",
      "[Epoch 96/100] >>>>>>>>>\n",
      " Batch 0/0\n",
      " \\_loss [57.0]\n",
      "\n",
      "[Epoch 97/100] >>>>>>>>>\n",
      " Batch 0/0\n",
      " \\_loss [57.0]\n",
      "\n",
      "[Epoch 98/100] >>>>>>>>>\n",
      " Batch 0/0\n",
      " \\_loss [56.0]\n",
      "\n",
      "[Epoch 99/100] >>>>>>>>>\n",
      " Batch 0/0\n",
      " \\_loss [57.0]\n"
     ]
    }
   ],
   "source": [
    "m = 10\n",
    "useDataGenerator = False\n",
    "useDataGenerator = True\n",
    "\n",
    "# x = x_train\n",
    "# x = np.stack([x_train[:m] for _ in range(10)])\n",
    "\n",
    "print('batch_size =', batch_size)\n",
    "if useDataGenerator:\n",
    "    datagen = models.ImageDataGenerator(x_train, batch_size, phase_mod, whitening)\n",
    "    history = collections.defaultdict(list)\n",
    "    n_batches = datagen.__len__()\n",
    "    for e in range(epochs):\n",
    "        print('\\n[Epoch %i/%i] >>>>>>>>>' % (e, epochs))\n",
    "        for batch_i, (x_batch, y_batch) in enumerate(datagen.flow(x_train[:m], x_train[:m], batch_size)):\n",
    "            print(' Batch %i/%i' % (batch_i,n_batches))\n",
    "            x = x_batch\n",
    "#             x = datagen.shuffle_3rd_dim(x_batch)\n",
    "            h = vae.fit(x, verbose=0)\n",
    "            for k,v in h.history.items(): \n",
    "                print(' \\\\_%s' % k, [round(v_,) for v_ in v])\n",
    "                history[k].append(v)\n",
    "            if batch_i >= n_batches:\n",
    "                break\n",
    "else:\n",
    "    h = vae.fit(x_train[:m], epochs=epochs, validation_data=(x_test, None))\n",
    "    history = h.history"
   ]
  },
  {
   "cell_type": "code",
   "execution_count": 26,
   "metadata": {},
   "outputs": [
    {
     "data": {
      "text/plain": [
       "[<matplotlib.lines.Line2D at 0x11822dfd0>]"
      ]
     },
     "execution_count": 26,
     "metadata": {},
     "output_type": "execute_result"
    },
    {
     "data": {
      "image/png": "[encoded data removed]",
      "text/plain": [
       "<matplotlib.figure.Figure at 0x11822d978>"
      ]
     },
     "metadata": {},
     "output_type": "display_data"
    }
   ],
   "source": [
    "plt.plot(history['loss'])\n",
    "plt.plot(history['val_loss'])"
   ]
  },
  {
   "cell_type": "code",
   "execution_count": 27,
   "metadata": {},
   "outputs": [
    {
     "name": "stdout",
     "output_type": "stream",
     "text": [
      "m (40, 10)\n"
     ]
    },
    {
     "data": {
      "image/png": "[encoded data removed]",
      "text/plain": [
       "<matplotlib.figure.Figure at 0x11b2f4390>"
      ]
     },
     "metadata": {},
     "output_type": "display_data"
    },
    {
     "name": "stdout",
     "output_type": "stream",
     "text": [
      "m (40, 10)\n"
     ]
    },
    {
     "data": {
      "image/png": "[encoded data removed]",
      "text/plain": [
       "<matplotlib.figure.Figure at 0x11a5adac8>"
      ]
     },
     "metadata": {},
     "output_type": "display_data"
    },
    {
     "name": "stdout",
     "output_type": "stream",
     "text": [
      "m (40, 10)\n"
     ]
    },
    {
     "data": {
      "image/png": "[encoded data removed]",
      "text/plain": [
       "<matplotlib.figure.Figure at 0x11a63f320>"
      ]
     },
     "metadata": {},
     "output_type": "display_data"
    },
    {
     "name": "stdout",
     "output_type": "stream",
     "text": [
      "m (40, 10)\n"
     ]
    },
    {
     "data": {
      "image/png": "[encoded data removed]",
      "text/plain": [
       "<matplotlib.figure.Figure at 0x11a63f438>"
      ]
     },
     "metadata": {},
     "output_type": "display_data"
    },
    {
     "name": "stdout",
     "output_type": "stream",
     "text": [
      "m (40, 10)\n"
     ]
    },
    {
     "data": {
      "image/png": "[encoded data removed]",
      "text/plain": [
       "<matplotlib.figure.Figure at 0x1181c9080>"
      ]
     },
     "metadata": {},
     "output_type": "display_data"
    },
    {
     "name": "stdout",
     "output_type": "stream",
     "text": [
      "m (40, 10)\n"
     ]
    },
    {
     "data": {
      "image/png": "[encoded data removed]",
      "text/plain": [
       "<matplotlib.figure.Figure at 0x11a8ab860>"
      ]
     },
     "metadata": {},
     "output_type": "display_data"
    }
   ],
   "source": [
    "i = 0\n",
    "j = 30\n",
    "k = -1\n",
    "x = vae.predict(x_train[:100])\n",
    "plot.single(x_train[i, :50, :, 0])\n",
    "plot.single(x[i, :50, :, 0])\n",
    "plot.single(x_train[j, :50, :, 0])\n",
    "plot.single(x[j, :50, :, 0])\n",
    "plot.single(x_train[k, :50, :, 0])\n",
    "plot.single(x[k, :50, :, 0])"
   ]
  },
  {
   "cell_type": "code",
   "execution_count": 28,
   "metadata": {},
   "outputs": [
    {
     "data": {
      "text/plain": [
       "(90, 40, 10, 1)"
      ]
     },
     "execution_count": 28,
     "metadata": {},
     "output_type": "execute_result"
    }
   ],
   "source": [
    "x.shape"
   ]
  },
  {
   "cell_type": "code",
   "execution_count": 29,
   "metadata": {},
   "outputs": [
    {
     "name": "stdout",
     "output_type": "stream",
     "text": [
      "m (30, 10)\n"
     ]
    },
    {
     "data": {
      "image/png": "[encoded data removed]",
      "text/plain": [
       "<matplotlib.figure.Figure at 0x11a8dc550>"
      ]
     },
     "metadata": {},
     "output_type": "display_data"
    }
   ],
   "source": [
    "# min: these pixels are 'always' active\n",
    "m = x.min(axis=0)\n",
    "plot.multi(m[:30,:,0])"
   ]
  },
  {
   "cell_type": "code",
   "execution_count": 30,
   "metadata": {},
   "outputs": [
    {
     "name": "stdout",
     "output_type": "stream",
     "text": [
      "m (30, 10)\n"
     ]
    },
    {
     "data": {
      "image/png": "[encoded data removed]",
      "text/plain": [
       "<matplotlib.figure.Figure at 0x11a765358>"
      ]
     },
     "metadata": {},
     "output_type": "display_data"
    }
   ],
   "source": [
    "# mean\n",
    "m = x.mean(axis=0)\n",
    "plot.single(m[:30,:,0])"
   ]
  },
  {
   "cell_type": "markdown",
   "metadata": {},
   "source": [
    "## Encoder + Generator\n",
    "A model to project inputs on the latent space"
   ]
  },
  {
   "cell_type": "code",
   "execution_count": 31,
   "metadata": {},
   "outputs": [],
   "source": [
    "# build a model to project inputs on the latent space\n",
    "encoder = Model(encoder_input, z_mean)"
   ]
  },
  {
   "cell_type": "code",
   "execution_count": 32,
   "metadata": {},
   "outputs": [
    {
     "data": {
      "text/plain": [
       "(10, 40, 10, 1)"
      ]
     },
     "execution_count": 32,
     "metadata": {},
     "output_type": "execute_result"
    }
   ],
   "source": [
    "x_test.shape"
   ]
  },
  {
   "cell_type": "code",
   "execution_count": 33,
   "metadata": {},
   "outputs": [
    {
     "data": {
      "text/plain": [
       "(90, 2)"
      ]
     },
     "execution_count": 33,
     "metadata": {},
     "output_type": "execute_result"
    }
   ],
   "source": [
    "m = 100\n",
    "x_train_encoded = encoder.predict(x_train[:m], batch_size=batch_size)\n",
    "x_train_encoded.shape"
   ]
  },
  {
   "cell_type": "code",
   "execution_count": 34,
   "metadata": {},
   "outputs": [
    {
     "data": {
      "text/plain": [
       "<matplotlib.collections.PathCollection at 0x11a439d68>"
      ]
     },
     "execution_count": 34,
     "metadata": {},
     "output_type": "execute_result"
    },
    {
     "data": {
      "image/png": "[encoded data removed]",
      "text/plain": [
       "<matplotlib.figure.Figure at 0x11a4fbd68>"
      ]
     },
     "metadata": {},
     "output_type": "display_data"
    }
   ],
   "source": [
    "# y_test = range(x_train_encoded.shape[0])\n",
    "y_test = np.concatenate([list(range(n)) for _ in range(int(m/n)+1)])[:m] / n\n",
    "plt.figure(figsize=(6, 6))\n",
    "plt.scatter(x_train_encoded[:, 0], x_train_encoded[:, 1], alpha=0.8, s=30) # c=y_test, "
   ]
  },
  {
   "cell_type": "code",
   "execution_count": 35,
   "metadata": {},
   "outputs": [
    {
     "data": {
      "text/plain": [
       "<matplotlib.collections.PathCollection at 0x11a3b0cc0>"
      ]
     },
     "execution_count": 35,
     "metadata": {},
     "output_type": "execute_result"
    },
    {
     "data": {
      "image/png": "[encoded data removed]",
      "text/plain": [
       "<matplotlib.figure.Figure at 0x11a4198d0>"
      ]
     },
     "metadata": {},
     "output_type": "display_data"
    }
   ],
   "source": [
    "# display a 2D plot of the digit classes in the latent space\n",
    "x_test_encoded = encoder.predict(x_test, batch_size=batch_size)\n",
    "plt.figure(figsize=(6, 6))\n",
    "plt.scatter(x_test_encoded[:, 0], x_test_encoded[:, 1], alpha=0.6, s=30) # , c=y_test\n",
    "# plt.colorbar()"
   ]
  },
  {
   "cell_type": "code",
   "execution_count": 36,
   "metadata": {},
   "outputs": [],
   "source": [
    "# build a digit generator that can sample from the learned distribution\n",
    "decoder_input = Input(shape=(latent_dim,))\n",
    "_decoded = utils.composition(decoders, decoder_input, verbose=False)\n",
    "generator = Model(decoder_input, _decoded)"
   ]
  },
  {
   "cell_type": "code",
   "execution_count": 37,
   "metadata": {},
   "outputs": [],
   "source": [
    "# x_decoded[0].reshape(150,3)"
   ]
  },
  {
   "cell_type": "code",
   "execution_count": 38,
   "metadata": {},
   "outputs": [
    {
     "data": {
      "text/plain": [
       "(90, 40, 10, 1)"
      ]
     },
     "execution_count": 38,
     "metadata": {},
     "output_type": "execute_result"
    }
   ],
   "source": [
    "x_train.shape"
   ]
  },
  {
   "cell_type": "code",
   "execution_count": 39,
   "metadata": {},
   "outputs": [
    {
     "name": "stdout",
     "output_type": "stream",
     "text": [
      "(2,) [0. 0.]\n"
     ]
    },
    {
     "data": {
      "image/png": "[encoded data removed]",
      "text/plain": [
       "<matplotlib.figure.Figure at 0x11a2117b8>"
      ]
     },
     "metadata": {},
     "output_type": "display_data"
    }
   ],
   "source": [
    "min_y = 0.01\n",
    "max_y = 0.5\n",
    "plot.latent(generator, batch_size,\n",
    "       n=8,\n",
    "       m=3,\n",
    "       crop_size=30,\n",
    "       margin_top=1,\n",
    "       margin_left=1,\n",
    "       min_x=0.05,\n",
    "       max_x=0.95,\n",
    "       min_y=min_y,\n",
    "       max_y=max_y)"
   ]
  },
  {
   "cell_type": "code",
   "execution_count": 40,
   "metadata": {},
   "outputs": [
    {
     "name": "stdout",
     "output_type": "stream",
     "text": [
      "(2,) [0. 0.]\n"
     ]
    },
    {
     "data": {
      "image/png": "[encoded data removed]",
      "text/plain": [
       "<matplotlib.figure.Figure at 0x11a1861d0>"
      ]
     },
     "metadata": {},
     "output_type": "display_data"
    }
   ],
   "source": [
    "min_y2 = max_y\n",
    "plot.latent(generator, batch_size,\n",
    "       n=8,\n",
    "       m=3,\n",
    "       crop_size=30,\n",
    "       margin_top=1,\n",
    "       margin_left=1,\n",
    "       min_x=0.05,\n",
    "       max_x=0.95,\n",
    "       min_y=min_y2,\n",
    "       max_y=0.95)"
   ]
  },
  {
   "cell_type": "code",
   "execution_count": null,
   "metadata": {},
   "outputs": [],
   "source": []
  },
  {
   "cell_type": "code",
   "execution_count": null,
   "metadata": {},
   "outputs": [],
   "source": []
  },
  {
   "cell_type": "code",
   "execution_count": null,
   "metadata": {},
   "outputs": [],
   "source": []
  },
  {
   "cell_type": "code",
   "execution_count": null,
   "metadata": {},
   "outputs": [],
   "source": []
  },
  {
   "cell_type": "code",
   "execution_count": null,
   "metadata": {},
   "outputs": [],
   "source": []
  },
  {
   "cell_type": "code",
   "execution_count": null,
   "metadata": {},
   "outputs": [],
   "source": []
  },
  {
   "cell_type": "code",
   "execution_count": null,
   "metadata": {},
   "outputs": [],
   "source": []
  }
 ],
 "metadata": {
  "kernelspec": {
   "display_name": "Python 3",
   "language": "python",
   "name": "python3"
  },
  "language_info": {
   "codemirror_mode": {
    "name": "ipython",
    "version": 3
   },
   "file_extension": ".py",
   "mimetype": "text/x-python",
   "name": "python",
   "nbconvert_exporter": "python",
   "pygments_lexer": "ipython3",
   "version": "3.6.4"
  }
 },
 "nbformat": 4,
 "nbformat_minor": 2
}
