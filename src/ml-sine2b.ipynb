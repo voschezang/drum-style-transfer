{
 "cells": [
  {
   "cell_type": "code",
   "execution_count": 1,
   "metadata": {},
   "outputs": [],
   "source": [
    "import config\n",
    "import os, numpy as np, pandas, sklearn\n",
    "import mido\n",
    "import matplotlib.pyplot as plt\n",
    "%matplotlib inline"
   ]
  },
  {
   "cell_type": "code",
   "execution_count": 2,
   "metadata": {},
   "outputs": [
    {
     "name": "stderr",
     "output_type": "stream",
     "text": [
      "/Library/Frameworks/Python.framework/Versions/3.6/lib/python3.6/site-packages/h5py/__init__.py:36: FutureWarning: Conversion of the second argument of issubdtype from `float` to `np.floating` is deprecated. In future, it will be treated as `np.float64 == np.dtype(float).type`.\n",
      "  from ._conv import register_converters as _register_converters\n",
      "Using TensorFlow backend.\n"
     ]
    }
   ],
   "source": [
    "## NN libs\n",
    "from sklearn.decomposition import PCA\n",
    "from sklearn import preprocessing\n",
    "from sklearn.preprocessing import RobustScaler\n",
    "import keras\n",
    "from keras import regularizers\n",
    "from keras.utils import to_categorical\n",
    "from keras.models import Sequential\n",
    "from keras.optimizers import SGD, Adam\n",
    "from keras.layers import Input, Dense, Activation, Conv1D, Conv2D, Dropout, Flatten\n",
    "from keras.layers import Conv2DTranspose, Reshape, MaxPooling2D, UpSampling2D, UpSampling1D, MaxPooling1D\n",
    "from keras.layers import LocallyConnected1D, LocallyConnected2D\n",
    "from keras.layers import Input, LSTM, RepeatVector\n",
    "from keras.models import Model\n",
    "from keras.callbacks import TensorBoard"
   ]
  },
  {
   "cell_type": "code",
   "execution_count": 3,
   "metadata": {},
   "outputs": [
    {
     "name": "stdout",
     "output_type": "stream",
     "text": [
      " Context :: namedtuple(\n",
      "[ max_t = float\n",
      ", dt = float\n",
      ", n_instances = int\n",
      ", note_length = int\n",
      ", bpm = float\n",
      ", tempo = float\n",
      ", ticks_per_beat = int\n",
      "]\n",
      "\n"
     ]
    }
   ],
   "source": [
    "# local libs\n",
    "import config, models, functions\n",
    "from data import data, midi, midi_generators as g\n",
    "from utils import io, models_io"
   ]
  },
  {
   "cell_type": "code",
   "execution_count": 4,
   "metadata": {
    "scrolled": true
   },
   "outputs": [
    {
     "name": "stdout",
     "output_type": "stream",
     "text": [
      "Setting up params\n",
      "\n",
      " >> Context(max_t=3.0, dt=0.1, n_instances=30, note_length=0.03, bpm=120.0, tempo=500000, ticks_per_beat=480)\n"
     ]
    }
   ],
   "source": [
    "context = data.init()"
   ]
  },
  {
   "cell_type": "code",
   "execution_count": 5,
   "metadata": {},
   "outputs": [],
   "source": [
    "# fn = (config.dataset_dir + '4-floor-120bpm.mid')\n",
    "# mid = io.import_midifile(fn)"
   ]
  },
  {
   "cell_type": "markdown",
   "metadata": {},
   "source": [
    "## Setup a generator\n",
    "\n",
    "1. What is the least amount of 'hidden' nodes needed to learn a straight rythm (e.g. 8th notes with different frequencies)\n",
    "2. Can we create a model of a generic function sin(2 pi f t + phase)\n",
    "    - using x: t -> y: sin(2p t)\n",
    "    - using x: [f, t, phase] -> y: sin(2p f t + phase)\n",
    "    - using x: sin([t1, t2, t3) -> y: [f, t, phase]\n",
    "        - such a model should be able to learn complex patterns, such as sin(f1+p1) + sin(f2+p2) + sin(f3+p3)"
   ]
  },
  {
   "cell_type": "markdown",
   "metadata": {},
   "source": [
    "Here - decoder: x -> sin(x)"
   ]
  },
  {
   "cell_type": "code",
   "execution_count": 217,
   "metadata": {},
   "outputs": [],
   "source": [
    "def gen_xy(n=100):\n",
    "    x = np.random.random([n,1,1]) # e.g. sin(y) + cos(x)\n",
    "    return x, np.sin(x * np.pi * 2)\n",
    "\n",
    "def gen_xy2(n=10):\n",
    "    x_train = np.random.random((n,1))\n",
    "    y = x_train > 0.5\n",
    "    y_train = []\n",
    "    for yy in y:\n",
    "        if yy:\n",
    "            y_train.append([1,0])\n",
    "        else:\n",
    "            y_train.append([0,1])\n",
    "    return x_train, np.stack(y_train)\n",
    "    \n",
    "def gen_xy3(n=100):\n",
    "    # x -> sin(x)\n",
    "    xs = np.random.random((n,1))\n",
    "    x_train = xs.reshape(n,1)\n",
    "    range_ = 4 * np.pi # 0.5, * np.pi\n",
    "    f = 1\n",
    "    y_train = np.sin(x_train * range_ * f)\n",
    "    return x_train, y_train\n",
    "\n",
    "def gen_xy_sin_to_f(n_samples=100, n_x=100):\n",
    "    # x_train = array (unique_samples, x_over_t, sin_x_over_t)\n",
    "    f = 2 # random\n",
    "    dt = 0.01\n",
    "    d_phase = n_x * dt * f\n",
    "    phases = np.random.random(n_samples)\n",
    "    x_train = []\n",
    "    y_train = []\n",
    "    for phase in phases:\n",
    "        # beginning of cycle\n",
    "        x_train.append(sin_(n_x, f, phase))\n",
    "        # continu-ed of cycle\n",
    "        y_train.append(sin_(n_x, f, phase + d_phase))\n",
    "    x_train = np.stack(x_train)\n",
    "    x_train = x_train.reshape(n_samples, n_x, 1)\n",
    "    y_train = np.stack(y_train)\n",
    "    y_train = y_train.reshape(n_samples, n_x, 1)\n",
    "    return x_train, x_train * 0.9 + 0.1\n",
    "    \n",
    "def sin_(n, f, phase=0, dt=0.01):\n",
    "    ts = np.arange(n) * dt\n",
    "    return np.sin(2*np.pi * f * ts + phase)\n",
    "\n",
    "def sin_2(n, f, phase=0, dt=0.1):\n",
    "    ts = np.arange(n) * dt\n",
    "    results =  []\n",
    "    for t in ts:\n",
    "        t = np.sin(2*np.pi * f * t + phase)\n",
    "        results.append([t])\n",
    "    return np.stack(results)"
   ]
  },
  {
   "cell_type": "code",
   "execution_count": 218,
   "metadata": {},
   "outputs": [
    {
     "name": "stdout",
     "output_type": "stream",
     "text": [
      "(100, 100, 1) (100, 100, 1)\n"
     ]
    }
   ],
   "source": [
    "n = 100\n",
    "x_train, y_train = gen_xy_sin_to_f(n)\n",
    "# x_train, y_train = gen_xy3(n)\n",
    "\n",
    "x_test, y_test = gen_xy_sin_to_f(3)\n",
    "print(x_train.shape, y_train.shape)"
   ]
  },
  {
   "cell_type": "code",
   "execution_count": 219,
   "metadata": {},
   "outputs": [
    {
     "data": {
      "text/plain": [
       "[<matplotlib.lines.Line2D at 0x131609588>]"
      ]
     },
     "execution_count": 219,
     "metadata": {},
     "output_type": "execute_result"
    },
    {
     "data": {
      "image/png": "[encoded data removed]",
      "text/plain": [
       "<matplotlib.figure.Figure at 0x12f2cc2b0>"
      ]
     },
     "metadata": {},
     "output_type": "display_data"
    }
   ],
   "source": [
    "n3 = y_train.shape[1]\n",
    "plt.plot(np.arange(n3), y_train[0])"
   ]
  },
  {
   "cell_type": "code",
   "execution_count": 220,
   "metadata": {},
   "outputs": [],
   "source": [
    "# x_train = np.random.random((10,3))\n",
    "# y_train = np.random.random((10,1))"
   ]
  },
  {
   "cell_type": "code",
   "execution_count": 223,
   "metadata": {},
   "outputs": [
    {
     "data": {
      "text/plain": [
       "(100, 1)"
      ]
     },
     "execution_count": 223,
     "metadata": {},
     "output_type": "execute_result"
    }
   ],
   "source": [
    "n_samples = x_train[0]\n",
    "input_shape = x_train.shape[1:] # shape of a single sample\n",
    "output_shape = y_train.shape[1:] # shape of a single sample\n",
    "# output_length = y_train.shape[1:][0]\n",
    "hidden_layer_length = 10\n",
    "input_shape"
   ]
  },
  {
   "cell_type": "code",
   "execution_count": 226,
   "metadata": {},
   "outputs": [
    {
     "data": {
      "text/plain": [
       "(100, 1)"
      ]
     },
     "execution_count": 226,
     "metadata": {},
     "output_type": "execute_result"
    }
   ],
   "source": [
    "output_shape"
   ]
  },
  {
   "cell_type": "code",
   "execution_count": 228,
   "metadata": {
    "scrolled": false
   },
   "outputs": [
    {
     "name": "stdout",
     "output_type": "stream",
     "text": [
      "dims x = (None, 16)\n",
      "_________________________________________________________________\n",
      "Layer (type)                 Output Shape              Param #   \n",
      "=================================================================\n",
      "input_22 (InputLayer)        (None, None, 1)           0         \n",
      "_________________________________________________________________\n",
      "lstm_18 (LSTM)               [(None, 16), (None, 16),  1152      \n",
      "_________________________________________________________________\n",
      "dense_53 (Dense)             (None, 100)               1700      \n",
      "_________________________________________________________________\n",
      "dense_54 (Dense)             (None, 100)               10100     \n",
      "_________________________________________________________________\n",
      "dense_55 (Dense)             (None, 100)               10100     \n",
      "_________________________________________________________________\n",
      "dense_56 (Dense)             (None, 100)               10100     \n",
      "_________________________________________________________________\n",
      "reshape_11 (Reshape)         (None, 100, 1)            0         \n",
      "=================================================================\n",
      "Total params: 33,152\n",
      "Trainable params: 33,152\n",
      "Non-trainable params: 0\n",
      "_________________________________________________________________\n"
     ]
    }
   ],
   "source": [
    "def encoder(input_shape, output_shape):\n",
    "#     input_layer = Input(shape=input_shape)\n",
    "    # input shape = (None, None, 1)\n",
    "    # thus: unfixed n samples, unfixed n timesteps, 1 float value\n",
    "    input_layer = Input(shape=(None,1))\n",
    "    x = input_layer\n",
    "    \n",
    "    hidden_size = 16\n",
    "    xs = LSTM(hidden_size, return_state=True)(x)\n",
    "    x = xs[0]\n",
    "    print('dims x =', keras.backend.int_shape(x))\n",
    "    x = Dense(100, activation='relu')(x)\n",
    "    x = Dense(100, activation='sigmoid')(x)\n",
    "    x = Dense(100, activation='tanh')(x)\n",
    "    \n",
    "    x = Dense(np.prod(output_shape), activation='sigmoid')(x)\n",
    "    x = Reshape(output_shape)(x)\n",
    "#     x = Dense(output_length, activation='sigmoid')(x)\n",
    "    model = Model(inputs=input_layer, outputs=x)\n",
    "    return model\n",
    "\n",
    "encoder = encoder(input_shape, output_shape)\n",
    "encoder.summary()"
   ]
  },
  {
   "cell_type": "code",
   "execution_count": 229,
   "metadata": {},
   "outputs": [],
   "source": [
    "metrics = ['accuracy','mse','binary_crossentropy'] # sparse_categorical_accuracy\n",
    "loss = 'binary_crossentropy'# binary_crossentropy categorical_crossentropy sparse_categorical_crossentropy\n",
    "optimizer = 'adam'\n",
    "encoder.compile(optimizer=optimizer, loss=loss, metrics=['mse'])#, metrics=metrics)"
   ]
  },
  {
   "cell_type": "code",
   "execution_count": 230,
   "metadata": {},
   "outputs": [],
   "source": [
    "batch_size = 16\n",
    "# n epochs = n iterations over all the training data\n",
    "epochs = 50"
   ]
  },
  {
   "cell_type": "code",
   "execution_count": 231,
   "metadata": {
    "scrolled": true
   },
   "outputs": [
    {
     "name": "stdout",
     "output_type": "stream",
     "text": [
      "Train on 83 samples, validate on 17 samples\n",
      "Epoch 1/50\n",
      "83/83 [==============================] - 1s 8ms/step - loss: 0.6032 - mean_squared_error: 0.5262 - val_loss: 0.5541 - val_mean_squared_error: 0.4558\n",
      "Epoch 2/50\n",
      "83/83 [==============================] - 0s 4ms/step - loss: 0.5268 - mean_squared_error: 0.4203 - val_loss: 0.4838 - val_mean_squared_error: 0.3625\n",
      "Epoch 3/50\n",
      "83/83 [==============================] - 0s 4ms/step - loss: 0.4577 - mean_squared_error: 0.3331 - val_loss: 0.4249 - val_mean_squared_error: 0.2895\n",
      "Epoch 4/50\n",
      "83/83 [==============================] - 0s 5ms/step - loss: 0.4027 - mean_squared_error: 0.2678 - val_loss: 0.3836 - val_mean_squared_error: 0.2403\n",
      "Epoch 5/50\n",
      "83/83 [==============================] - 0s 4ms/step - loss: 0.3664 - mean_squared_error: 0.2261 - val_loss: 0.3594 - val_mean_squared_error: 0.2118\n",
      "Epoch 6/50\n",
      "83/83 [==============================] - 0s 4ms/step - loss: 0.3451 - mean_squared_error: 0.2026 - val_loss: 0.3464 - val_mean_squared_error: 0.1965\n",
      "Epoch 7/50\n",
      "83/83 [==============================] - 0s 4ms/step - loss: 0.3340 - mean_squared_error: 0.1902 - val_loss: 0.3394 - val_mean_squared_error: 0.1884\n",
      "Epoch 8/50\n",
      "83/83 [==============================] - 0s 4ms/step - loss: 0.3274 - mean_squared_error: 0.1831 - val_loss: 0.3348 - val_mean_squared_error: 0.1829\n",
      "Epoch 9/50\n",
      "83/83 [==============================] - 0s 4ms/step - loss: 0.3243 - mean_squared_error: 0.1789 - val_loss: 0.3320 - val_mean_squared_error: 0.1796\n",
      "Epoch 10/50\n",
      "83/83 [==============================] - 0s 4ms/step - loss: 0.3219 - mean_squared_error: 0.1765 - val_loss: 0.3310 - val_mean_squared_error: 0.1786\n",
      "Epoch 11/50\n",
      "83/83 [==============================] - 0s 5ms/step - loss: 0.3204 - mean_squared_error: 0.1752 - val_loss: 0.3304 - val_mean_squared_error: 0.1779\n",
      "Epoch 12/50\n",
      "83/83 [==============================] - 0s 5ms/step - loss: 0.3199 - mean_squared_error: 0.1748 - val_loss: 0.3300 - val_mean_squared_error: 0.1776\n",
      "Epoch 13/50\n",
      "83/83 [==============================] - 0s 5ms/step - loss: 0.3183 - mean_squared_error: 0.1735 - val_loss: 0.3276 - val_mean_squared_error: 0.1753\n",
      "Epoch 14/50\n",
      "83/83 [==============================] - 0s 5ms/step - loss: 0.3181 - mean_squared_error: 0.1726 - val_loss: 0.3253 - val_mean_squared_error: 0.1737\n",
      "Epoch 15/50\n",
      "83/83 [==============================] - 0s 5ms/step - loss: 0.3157 - mean_squared_error: 0.1714 - val_loss: 0.3236 - val_mean_squared_error: 0.1731\n",
      "Epoch 16/50\n",
      "83/83 [==============================] - 0s 5ms/step - loss: 0.3128 - mean_squared_error: 0.1701 - val_loss: 0.3195 - val_mean_squared_error: 0.1710\n",
      "Epoch 17/50\n",
      "83/83 [==============================] - 0s 5ms/step - loss: 0.3100 - mean_squared_error: 0.1686 - val_loss: 0.3133 - val_mean_squared_error: 0.1691\n",
      "Epoch 18/50\n",
      "83/83 [==============================] - 0s 5ms/step - loss: 0.3031 - mean_squared_error: 0.1665 - val_loss: 0.3055 - val_mean_squared_error: 0.1666\n",
      "Epoch 19/50\n",
      "83/83 [==============================] - 0s 5ms/step - loss: 0.2966 - mean_squared_error: 0.1645 - val_loss: 0.2975 - val_mean_squared_error: 0.1644\n",
      "Epoch 20/50\n",
      "83/83 [==============================] - 0s 5ms/step - loss: 0.2903 - mean_squared_error: 0.1628 - val_loss: 0.2913 - val_mean_squared_error: 0.1628\n",
      "Epoch 21/50\n",
      "83/83 [==============================] - 0s 5ms/step - loss: 0.2868 - mean_squared_error: 0.1615 - val_loss: 0.2880 - val_mean_squared_error: 0.1617\n",
      "Epoch 22/50\n",
      "83/83 [==============================] - 0s 5ms/step - loss: 0.2853 - mean_squared_error: 0.1606 - val_loss: 0.2854 - val_mean_squared_error: 0.1606\n",
      "Epoch 23/50\n",
      "83/83 [==============================] - 0s 5ms/step - loss: 0.2810 - mean_squared_error: 0.1593 - val_loss: 0.2809 - val_mean_squared_error: 0.1592\n",
      "Epoch 24/50\n",
      "83/83 [==============================] - 0s 5ms/step - loss: 0.2773 - mean_squared_error: 0.1583 - val_loss: 0.2767 - val_mean_squared_error: 0.1580\n",
      "Epoch 25/50\n",
      "83/83 [==============================] - 0s 5ms/step - loss: 0.2741 - mean_squared_error: 0.1575 - val_loss: 0.2750 - val_mean_squared_error: 0.1574\n",
      "Epoch 26/50\n",
      "83/83 [==============================] - 0s 5ms/step - loss: 0.2721 - mean_squared_error: 0.1569 - val_loss: 0.2716 - val_mean_squared_error: 0.1567\n",
      "Epoch 27/50\n",
      "83/83 [==============================] - 0s 5ms/step - loss: 0.2697 - mean_squared_error: 0.1563 - val_loss: 0.2692 - val_mean_squared_error: 0.1563\n",
      "Epoch 28/50\n",
      "83/83 [==============================] - 0s 5ms/step - loss: 0.2669 - mean_squared_error: 0.1558 - val_loss: 0.2689 - val_mean_squared_error: 0.1561\n",
      "Epoch 29/50\n",
      "83/83 [==============================] - 0s 5ms/step - loss: 0.2655 - mean_squared_error: 0.1555 - val_loss: 0.2662 - val_mean_squared_error: 0.1557\n",
      "Epoch 30/50\n",
      "83/83 [==============================] - 0s 5ms/step - loss: 0.2638 - mean_squared_error: 0.1552 - val_loss: 0.2634 - val_mean_squared_error: 0.1553\n",
      "Epoch 31/50\n",
      "83/83 [==============================] - 0s 6ms/step - loss: 0.2625 - mean_squared_error: 0.1549 - val_loss: 0.2629 - val_mean_squared_error: 0.1551\n",
      "Epoch 32/50\n",
      "83/83 [==============================] - 0s 6ms/step - loss: 0.2615 - mean_squared_error: 0.1548 - val_loss: 0.2613 - val_mean_squared_error: 0.1549\n",
      "Epoch 33/50\n",
      "83/83 [==============================] - 0s 5ms/step - loss: 0.2599 - mean_squared_error: 0.1545 - val_loss: 0.2599 - val_mean_squared_error: 0.1546\n",
      "Epoch 34/50\n",
      "83/83 [==============================] - 0s 6ms/step - loss: 0.2587 - mean_squared_error: 0.1543 - val_loss: 0.2588 - val_mean_squared_error: 0.1545\n",
      "Epoch 35/50\n",
      "83/83 [==============================] - 0s 5ms/step - loss: 0.2580 - mean_squared_error: 0.1542 - val_loss: 0.2589 - val_mean_squared_error: 0.1543\n",
      "Epoch 36/50\n",
      "83/83 [==============================] - 0s 5ms/step - loss: 0.2584 - mean_squared_error: 0.1541 - val_loss: 0.2584 - val_mean_squared_error: 0.1542\n",
      "Epoch 37/50\n",
      "83/83 [==============================] - 0s 5ms/step - loss: 0.2574 - mean_squared_error: 0.1540 - val_loss: 0.2583 - val_mean_squared_error: 0.1542\n",
      "Epoch 38/50\n",
      "83/83 [==============================] - 0s 5ms/step - loss: 0.2573 - mean_squared_error: 0.1539 - val_loss: 0.2572 - val_mean_squared_error: 0.1540\n",
      "Epoch 39/50\n",
      "83/83 [==============================] - 0s 5ms/step - loss: 0.2571 - mean_squared_error: 0.1538 - val_loss: 0.2576 - val_mean_squared_error: 0.1539\n",
      "Epoch 40/50\n",
      "83/83 [==============================] - 0s 5ms/step - loss: 0.2569 - mean_squared_error: 0.1537 - val_loss: 0.2602 - val_mean_squared_error: 0.1539\n",
      "Epoch 41/50\n",
      "83/83 [==============================] - 0s 5ms/step - loss: 0.2592 - mean_squared_error: 0.1537 - val_loss: 0.2569 - val_mean_squared_error: 0.1537\n",
      "Epoch 42/50\n",
      "83/83 [==============================] - 0s 5ms/step - loss: 0.2567 - mean_squared_error: 0.1535 - val_loss: 0.2580 - val_mean_squared_error: 0.1537\n",
      "Epoch 43/50\n",
      "83/83 [==============================] - 0s 5ms/step - loss: 0.2559 - mean_squared_error: 0.1534 - val_loss: 0.2559 - val_mean_squared_error: 0.1536\n",
      "Epoch 44/50\n",
      "83/83 [==============================] - 0s 5ms/step - loss: 0.2550 - mean_squared_error: 0.1533 - val_loss: 0.2560 - val_mean_squared_error: 0.1535\n",
      "Epoch 45/50\n",
      "83/83 [==============================] - 0s 5ms/step - loss: 0.2549 - mean_squared_error: 0.1532 - val_loss: 0.2553 - val_mean_squared_error: 0.1534\n",
      "Epoch 46/50\n",
      "83/83 [==============================] - 0s 5ms/step - loss: 0.2540 - mean_squared_error: 0.1532 - val_loss: 0.2546 - val_mean_squared_error: 0.1533\n",
      "Epoch 47/50\n",
      "83/83 [==============================] - 0s 5ms/step - loss: 0.2537 - mean_squared_error: 0.1531 - val_loss: 0.2542 - val_mean_squared_error: 0.1533\n",
      "Epoch 48/50\n",
      "83/83 [==============================] - 0s 5ms/step - loss: 0.2533 - mean_squared_error: 0.1530 - val_loss: 0.2545 - val_mean_squared_error: 0.1532\n",
      "Epoch 49/50\n",
      "83/83 [==============================] - 0s 5ms/step - loss: 0.2531 - mean_squared_error: 0.1530 - val_loss: 0.2539 - val_mean_squared_error: 0.1532\n",
      "Epoch 50/50\n",
      "83/83 [==============================] - 0s 5ms/step - loss: 0.2530 - mean_squared_error: 0.1529 - val_loss: 0.2544 - val_mean_squared_error: 0.1531\n"
     ]
    },
    {
     "data": {
      "text/plain": [
       "<keras.callbacks.History at 0x131d2cd68>"
      ]
     },
     "execution_count": 231,
     "metadata": {},
     "output_type": "execute_result"
    }
   ],
   "source": [
    "# decoder.fit(x_train, y_train, epochs=epochs, batch_size=batch_size, callbacks=[TensorBoard(log_dir=config.tmp_log_dir)])\n",
    "encoder.fit(x_train, y_train, epochs=epochs, batch_size=batch_size,\n",
    "          validation_split=1/6, callbacks=[TensorBoard(log_dir=config.tmp_log_dir)])"
   ]
  },
  {
   "cell_type": "code",
   "execution_count": 232,
   "metadata": {},
   "outputs": [
    {
     "data": {
      "text/plain": [
       "(3, 100, 1)"
      ]
     },
     "execution_count": 232,
     "metadata": {},
     "output_type": "execute_result"
    }
   ],
   "source": [
    "x_test.shape"
   ]
  },
  {
   "cell_type": "code",
   "execution_count": 233,
   "metadata": {
    "scrolled": true
   },
   "outputs": [
    {
     "data": {
      "text/plain": [
       "array([[6.2125069e-01],\n",
       "       [6.9495982e-01],\n",
       "       [7.7638847e-01],\n",
       "       [8.5002208e-01],\n",
       "       [9.0991545e-01],\n",
       "       [9.4883174e-01],\n",
       "       [9.7531551e-01],\n",
       "       [9.8406464e-01],\n",
       "       [9.8080564e-01],\n",
       "       [9.7880530e-01],\n",
       "       [9.6234024e-01],\n",
       "       [9.3346423e-01],\n",
       "       [8.7582672e-01],\n",
       "       [8.1316000e-01],\n",
       "       [7.2679764e-01],\n",
       "       [6.4344656e-01],\n",
       "       [5.5094987e-01],\n",
       "       [4.4584584e-01],\n",
       "       [3.3431467e-01],\n",
       "       [2.2496858e-01],\n",
       "       [1.1767550e-01],\n",
       "       [5.5744767e-02],\n",
       "       [8.5113999e-03],\n",
       "       [1.1956749e-03],\n",
       "       [2.4167141e-03],\n",
       "       [1.4823243e-03],\n",
       "       [7.0546981e-04],\n",
       "       [9.3397702e-04],\n",
       "       [1.6102148e-03],\n",
       "       [1.3470299e-03],\n",
       "       [5.7778903e-04],\n",
       "       [1.1593800e-03],\n",
       "       [1.3687648e-03],\n",
       "       [1.4840036e-03],\n",
       "       [2.4706435e-03],\n",
       "       [9.5667114e-04],\n",
       "       [1.4909946e-03],\n",
       "       [2.4079508e-03],\n",
       "       [1.2055368e-03],\n",
       "       [9.9196832e-04],\n",
       "       [1.6143988e-03],\n",
       "       [1.2771307e-03],\n",
       "       [2.5010447e-03],\n",
       "       [3.0192768e-03],\n",
       "       [5.2572798e-02],\n",
       "       [1.9876663e-02],\n",
       "       [1.7638288e-01],\n",
       "       [2.9034936e-01],\n",
       "       [4.1569480e-01],\n",
       "       [5.1429772e-01],\n",
       "       [6.1415607e-01],\n",
       "       [6.9362366e-01],\n",
       "       [7.7534026e-01],\n",
       "       [8.4845632e-01],\n",
       "       [9.1120440e-01],\n",
       "       [9.5404691e-01],\n",
       "       [9.6692055e-01],\n",
       "       [9.7979558e-01],\n",
       "       [9.7924334e-01],\n",
       "       [9.7093630e-01],\n",
       "       [9.6245891e-01],\n",
       "       [9.2805558e-01],\n",
       "       [8.7411273e-01],\n",
       "       [8.0192798e-01],\n",
       "       [7.2534025e-01],\n",
       "       [6.4543897e-01],\n",
       "       [5.5618316e-01],\n",
       "       [4.5472133e-01],\n",
       "       [3.2744747e-01],\n",
       "       [2.2901346e-01],\n",
       "       [1.2784012e-01],\n",
       "       [5.3464960e-02],\n",
       "       [7.7923024e-03],\n",
       "       [3.1442272e-03],\n",
       "       [3.4043964e-03],\n",
       "       [1.5456834e-03],\n",
       "       [2.0319102e-03],\n",
       "       [1.1290896e-03],\n",
       "       [9.9750340e-04],\n",
       "       [9.9085574e-04],\n",
       "       [1.4682254e-03],\n",
       "       [1.3480162e-03],\n",
       "       [1.1190147e-03],\n",
       "       [1.8498448e-03],\n",
       "       [1.1044439e-03],\n",
       "       [1.4861942e-03],\n",
       "       [1.7298096e-03],\n",
       "       [1.9629484e-03],\n",
       "       [1.3999222e-03],\n",
       "       [8.6115295e-04],\n",
       "       [1.0669901e-03],\n",
       "       [7.3853659e-04],\n",
       "       [2.8016435e-03],\n",
       "       [3.6191654e-03],\n",
       "       [5.5538435e-02],\n",
       "       [8.0251731e-02],\n",
       "       [1.7870763e-01],\n",
       "       [2.9371241e-01],\n",
       "       [4.2152530e-01],\n",
       "       [5.1737380e-01]], dtype=float32)"
      ]
     },
     "execution_count": 233,
     "metadata": {},
     "output_type": "execute_result"
    }
   ],
   "source": [
    "results = encoder.predict(x_test)\n",
    "results[0]"
   ]
  },
  {
   "cell_type": "code",
   "execution_count": 234,
   "metadata": {},
   "outputs": [
    {
     "data": {
      "text/plain": [
       "(3, 100, 1)"
      ]
     },
     "execution_count": 234,
     "metadata": {},
     "output_type": "execute_result"
    }
   ],
   "source": [
    "results.shape"
   ]
  },
  {
   "cell_type": "code",
   "execution_count": 246,
   "metadata": {
    "scrolled": false
   },
   "outputs": [
    {
     "data": {
      "text/plain": [
       "array([0.6212507], dtype=float32)"
      ]
     },
     "execution_count": 246,
     "metadata": {},
     "output_type": "execute_result"
    }
   ],
   "source": [
    "results[0,0]"
   ]
  },
  {
   "cell_type": "code",
   "execution_count": 238,
   "metadata": {},
   "outputs": [
    {
     "ename": "ValueError",
     "evalue": "Error when checking : expected input_22 to have 3 dimensions, but got array with shape (100, 1)",
     "output_type": "error",
     "traceback": [
      "\u001b[0;31m---------------------------------------------------------------------------\u001b[0m",
      "\u001b[0;31mValueError\u001b[0m                                Traceback (most recent call last)",
      "\u001b[0;32m<ipython-input-238-0de9e3fa52f8>\u001b[0m in \u001b[0;36m<module>\u001b[0;34m()\u001b[0m\n\u001b[1;32m      2\u001b[0m \u001b[0mxs\u001b[0m \u001b[0;34m=\u001b[0m \u001b[0mnp\u001b[0m\u001b[0;34m.\u001b[0m\u001b[0marange\u001b[0m\u001b[0;34m(\u001b[0m\u001b[0mn2\u001b[0m\u001b[0;34m)\u001b[0m\u001b[0;34m/\u001b[0m\u001b[0;36m100.0\u001b[0m \u001b[0;34m*\u001b[0m \u001b[0;36m3\u001b[0m\u001b[0;34m\u001b[0m\u001b[0m\n\u001b[1;32m      3\u001b[0m \u001b[0my_true\u001b[0m \u001b[0;34m=\u001b[0m \u001b[0mnp\u001b[0m\u001b[0;34m.\u001b[0m\u001b[0msin\u001b[0m\u001b[0;34m(\u001b[0m\u001b[0mxs\u001b[0m \u001b[0;34m*\u001b[0m \u001b[0;36m2\u001b[0m\u001b[0;34m*\u001b[0m\u001b[0mnp\u001b[0m\u001b[0;34m.\u001b[0m\u001b[0mpi\u001b[0m\u001b[0;34m)\u001b[0m\u001b[0;34m\u001b[0m\u001b[0m\n\u001b[0;32m----> 4\u001b[0;31m \u001b[0my_pred\u001b[0m \u001b[0;34m=\u001b[0m \u001b[0mencoder\u001b[0m\u001b[0;34m.\u001b[0m\u001b[0mpredict\u001b[0m\u001b[0;34m(\u001b[0m\u001b[0mxs\u001b[0m\u001b[0;34m.\u001b[0m\u001b[0mreshape\u001b[0m\u001b[0;34m(\u001b[0m\u001b[0mn2\u001b[0m\u001b[0;34m,\u001b[0m\u001b[0;36m1\u001b[0m\u001b[0;34m)\u001b[0m\u001b[0;34m)\u001b[0m\u001b[0;34m.\u001b[0m\u001b[0mreshape\u001b[0m\u001b[0;34m(\u001b[0m\u001b[0mn2\u001b[0m\u001b[0;34m)\u001b[0m\u001b[0;34m\u001b[0m\u001b[0m\n\u001b[0m",
      "\u001b[0;32m/Library/Frameworks/Python.framework/Versions/3.6/lib/python3.6/site-packages/keras/engine/training.py\u001b[0m in \u001b[0;36mpredict\u001b[0;34m(self, x, batch_size, verbose, steps)\u001b[0m\n\u001b[1;32m   1815\u001b[0m         x = _standardize_input_data(x, self._feed_input_names,\n\u001b[1;32m   1816\u001b[0m                                     \u001b[0mself\u001b[0m\u001b[0;34m.\u001b[0m\u001b[0m_feed_input_shapes\u001b[0m\u001b[0;34m,\u001b[0m\u001b[0;34m\u001b[0m\u001b[0m\n\u001b[0;32m-> 1817\u001b[0;31m                                     check_batch_axis=False)\n\u001b[0m\u001b[1;32m   1818\u001b[0m         \u001b[0;32mif\u001b[0m \u001b[0mself\u001b[0m\u001b[0;34m.\u001b[0m\u001b[0mstateful\u001b[0m\u001b[0;34m:\u001b[0m\u001b[0;34m\u001b[0m\u001b[0m\n\u001b[1;32m   1819\u001b[0m             \u001b[0;32mif\u001b[0m \u001b[0mx\u001b[0m\u001b[0;34m[\u001b[0m\u001b[0;36m0\u001b[0m\u001b[0;34m]\u001b[0m\u001b[0;34m.\u001b[0m\u001b[0mshape\u001b[0m\u001b[0;34m[\u001b[0m\u001b[0;36m0\u001b[0m\u001b[0;34m]\u001b[0m \u001b[0;34m>\u001b[0m \u001b[0mbatch_size\u001b[0m \u001b[0;32mand\u001b[0m \u001b[0mx\u001b[0m\u001b[0;34m[\u001b[0m\u001b[0;36m0\u001b[0m\u001b[0;34m]\u001b[0m\u001b[0;34m.\u001b[0m\u001b[0mshape\u001b[0m\u001b[0;34m[\u001b[0m\u001b[0;36m0\u001b[0m\u001b[0;34m]\u001b[0m \u001b[0;34m%\u001b[0m \u001b[0mbatch_size\u001b[0m \u001b[0;34m!=\u001b[0m \u001b[0;36m0\u001b[0m\u001b[0;34m:\u001b[0m\u001b[0;34m\u001b[0m\u001b[0m\n",
      "\u001b[0;32m/Library/Frameworks/Python.framework/Versions/3.6/lib/python3.6/site-packages/keras/engine/training.py\u001b[0m in \u001b[0;36m_standardize_input_data\u001b[0;34m(data, names, shapes, check_batch_axis, exception_prefix)\u001b[0m\n\u001b[1;32m    111\u001b[0m                         \u001b[0;34m': expected '\u001b[0m \u001b[0;34m+\u001b[0m \u001b[0mnames\u001b[0m\u001b[0;34m[\u001b[0m\u001b[0mi\u001b[0m\u001b[0;34m]\u001b[0m \u001b[0;34m+\u001b[0m \u001b[0;34m' to have '\u001b[0m \u001b[0;34m+\u001b[0m\u001b[0;34m\u001b[0m\u001b[0m\n\u001b[1;32m    112\u001b[0m                         \u001b[0mstr\u001b[0m\u001b[0;34m(\u001b[0m\u001b[0mlen\u001b[0m\u001b[0;34m(\u001b[0m\u001b[0mshape\u001b[0m\u001b[0;34m)\u001b[0m\u001b[0;34m)\u001b[0m \u001b[0;34m+\u001b[0m \u001b[0;34m' dimensions, but got array '\u001b[0m\u001b[0;34m\u001b[0m\u001b[0m\n\u001b[0;32m--> 113\u001b[0;31m                         'with shape ' + str(data_shape))\n\u001b[0m\u001b[1;32m    114\u001b[0m                 \u001b[0;32mif\u001b[0m \u001b[0;32mnot\u001b[0m \u001b[0mcheck_batch_axis\u001b[0m\u001b[0;34m:\u001b[0m\u001b[0;34m\u001b[0m\u001b[0m\n\u001b[1;32m    115\u001b[0m                     \u001b[0mdata_shape\u001b[0m \u001b[0;34m=\u001b[0m \u001b[0mdata_shape\u001b[0m\u001b[0;34m[\u001b[0m\u001b[0;36m1\u001b[0m\u001b[0;34m:\u001b[0m\u001b[0;34m]\u001b[0m\u001b[0;34m\u001b[0m\u001b[0m\n",
      "\u001b[0;31mValueError\u001b[0m: Error when checking : expected input_22 to have 3 dimensions, but got array with shape (100, 1)"
     ]
    }
   ],
   "source": [
    "n2 = 100\n",
    "xs = np.arange(n2)/100.0 * 3\n",
    "y_true = np.sin(xs * 2*np.pi)\n",
    "y_pred = encoder.predict(xs.reshape(n2,1)).reshape(n2)"
   ]
  },
  {
   "cell_type": "code",
   "execution_count": 239,
   "metadata": {},
   "outputs": [
    {
     "data": {
      "text/plain": [
       "[<matplotlib.lines.Line2D at 0x1335a3f28>]"
      ]
     },
     "execution_count": 239,
     "metadata": {},
     "output_type": "execute_result"
    },
    {
     "data": {
      "image/png": "[encoded data removed]",
      "text/plain": [
       "<matplotlib.figure.Figure at 0x1335450f0>"
      ]
     },
     "metadata": {},
     "output_type": "display_data"
    }
   ],
   "source": [
    "plt.plot(y_true)"
   ]
  },
  {
   "cell_type": "code",
   "execution_count": 240,
   "metadata": {},
   "outputs": [
    {
     "data": {
      "text/plain": [
       "[<matplotlib.lines.Line2D at 0x133520c18>]"
      ]
     },
     "execution_count": 240,
     "metadata": {},
     "output_type": "execute_result"
    },
    {
     "data": {
      "image/png": "[encoded data removed]",
      "text/plain": [
       "<matplotlib.figure.Figure at 0x131d2c128>"
      ]
     },
     "metadata": {},
     "output_type": "display_data"
    }
   ],
   "source": [
    "plt.plot(y_pred)"
   ]
  },
  {
   "cell_type": "code",
   "execution_count": null,
   "metadata": {},
   "outputs": [],
   "source": []
  },
  {
   "cell_type": "code",
   "execution_count": null,
   "metadata": {},
   "outputs": [],
   "source": []
  },
  {
   "cell_type": "code",
   "execution_count": null,
   "metadata": {},
   "outputs": [],
   "source": []
  }
 ],
 "metadata": {
  "kernelspec": {
   "display_name": "Python 3",
   "language": "python",
   "name": "python3"
  },
  "language_info": {
   "codemirror_mode": {
    "name": "ipython",
    "version": 3
   },
   "file_extension": ".py",
   "mimetype": "text/x-python",
   "name": "python",
   "nbconvert_exporter": "python",
   "pygments_lexer": "ipython3",
   "version": "3.6.4"
  }
 },
 "nbformat": 4,
 "nbformat_minor": 2
}
