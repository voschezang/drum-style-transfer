{
 "cells": [
  {
   "cell_type": "code",
   "execution_count": 275,
   "metadata": {},
   "outputs": [],
   "source": [
    "import keras\n",
    "from keras import backend as K\n",
    "from keras.layers import Layer\n",
    "from keras import activations\n",
    "from keras import utils\n",
    "from keras.datasets import cifar10\n",
    "from keras.models import Model\n",
    "from keras.layers import *\n",
    "from keras.preprocessing.image import ImageDataGenerator\n",
    "from keras.callbacks import TensorBoard"
   ]
  },
  {
   "cell_type": "code",
   "execution_count": 2,
   "metadata": {},
   "outputs": [
    {
     "name": "stdout",
     "output_type": "stream",
     "text": [
      " Context :: namedtuple(\n",
      "[ max_t = float\n",
      ", dt = float\n",
      ", n_instances = int\n",
      ", note_length = int\n",
      ", bpm = float\n",
      ", tempo = float\n",
      ", ticks_per_beat = int\n",
      "]\n",
      "\n"
     ]
    }
   ],
   "source": [
    "import matplotlib.pyplot as plt\n",
    "%matplotlib inline\n",
    "# local libs\n",
    "import config, models, functions\n",
    "from data import data, midi, midi_generators as g\n",
    "from utils import io, models_io, utils, plot\n",
    "from capsule.layers import Capsule, Length\n",
    "from capsule.capsulefunctions import squash, softmax, margin_loss"
   ]
  },
  {
   "cell_type": "code",
   "execution_count": 3,
   "metadata": {
    "scrolled": true
   },
   "outputs": [
    {
     "name": "stdout",
     "output_type": "stream",
     "text": [
      "Setting up params\n",
      "\n",
      "max min f 25.0 0.5\n",
      " >> Context(max_t=2.0, dt=0.02, n_instances=100, note_length=0.03, bpm=120.0, tempo=500000, ticks_per_beat=480)\n",
      "Setting up params\n",
      "\n",
      "max min f 25.0 0.5\n",
      " >> Context(max_t=2.0, dt=0.02, n_instances=100, note_length=0.03, bpm=120.0, tempo=500000, ticks_per_beat=480)\n",
      "Importing midi-data\n",
      "\n",
      "\u001b[92m [INFO] : \u001b[0m\n",
      " |  reading file: ../datasets/examples/01 16th Snare.mid\n",
      "\u001b[92m [INFO] : \u001b[0m\n",
      " |  reading file: ../datasets/examples/01 8th Cym.mid\n",
      "\n",
      "Encoding midi-data\n",
      " [<midi file '../datasets/examples/01 16th Snare.mid' type 0, 1 tracks, 182 messages>, <midi file '../datasets/examples/01 8th Cym.mid' type 0, 1 tracks, 68 messages>]\n",
      "> -> multi-track = True\n",
      "\u001b[91m [DEBUG] > \u001b[0m\n",
      " |>  to_array: msg.time > max_t; t, n\n",
      " |>  1.9947916666666667\n",
      " |>  100\n",
      "\u001b[91m [DEBUG] > \u001b[0m\n",
      " |>  to_array: msg.time > max_t; t, n\n",
      " |>  1.9947916666666667\n",
      " |>  100\n",
      "\u001b[92m [INFO] : \u001b[0m\n",
      " |  reduced dims:\n",
      " |  (2, 100, 2)\n"
     ]
    }
   ],
   "source": [
    "context = data.init()\n",
    "n = 2\n",
    "multiTrack = True\n",
    "context, x_train, labels = data.import_data(data.init(), n, multiTrack=multiTrack)"
   ]
  },
  {
   "cell_type": "code",
   "execution_count": 156,
   "metadata": {
    "scrolled": true
   },
   "outputs": [
    {
     "name": "stdout",
     "output_type": "stream",
     "text": [
      "\u001b[91m [DEBUG] > \u001b[0m\n",
      " |>  to_array: msg.time > max_t; t, n\n",
      " |>  2.002083333333333\n",
      " |>  100\n",
      "\u001b[91m [DEBUG] > \u001b[0m\n",
      " |>  to_array: msg.time > max_t; t, n\n",
      " |>  1.9999999999999998\n",
      " |>  100\n",
      "\u001b[91m [DEBUG] > \u001b[0m\n",
      " |>  to_array: msg.time > max_t; t, n\n",
      " |>  2.001041666666667\n",
      " |>  100\n",
      "\u001b[91m [DEBUG] > \u001b[0m\n",
      " |>  to_array: msg.time > max_t; t, n\n",
      " |>  1.9968749999999997\n",
      " |>  100\n",
      "\u001b[91m [DEBUG] > \u001b[0m\n",
      " |>  to_array: msg.time > max_t; t, n\n",
      " |>  2.0093750000000004\n",
      " |>  100\n",
      "\u001b[91m [DEBUG] > \u001b[0m\n",
      " |>  to_array: msg.time > max_t; t, n\n",
      " |>  1.9989583333333334\n",
      " |>  100\n",
      "\u001b[91m [DEBUG] > \u001b[0m\n",
      " |>  to_array: msg.time > max_t; t, n\n",
      " |>  1.9999999999999998\n",
      " |>  100\n",
      "\u001b[91m [DEBUG] > \u001b[0m\n",
      " |>  to_array: msg.time > max_t; t, n\n",
      " |>  2.008333333333333\n",
      " |>  100\n",
      "\u001b[91m [DEBUG] > \u001b[0m\n",
      " |>  to_array: msg.time > max_t; t, n\n",
      " |>  2.0031250000000003\n",
      " |>  100\n",
      "\u001b[91m [DEBUG] > \u001b[0m\n",
      " |>  to_array: msg.time > max_t; t, n\n",
      " |>  1.9947916666666663\n",
      " |>  100\n",
      "\u001b[92m [INFO] : \u001b[0m\n",
      " |  reduced dims:\n",
      " |  (10, 100, 3)\n"
     ]
    }
   ],
   "source": [
    "n = 10\n",
    "min_f = 3\n",
    "max_f = 15\n",
    "# x_train = g.gen_data(context, n, max_f=max_f, min_f=min_f)\n",
    "# x_train = g.gen_data_complex(context, n, max_f=max_f, min_f=min_f, multiTrack=multiTrack)\n",
    "x_train = g.gen_data_complex(context, n, max_f=max_f, min_f=min_f, \n",
    "    n_polyrythms=1,\n",
    "    n_channels=3,\n",
    "    multiTrack=multiTrack)"
   ]
  },
  {
   "cell_type": "code",
   "execution_count": 157,
   "metadata": {},
   "outputs": [],
   "source": [
    "n = 3\n",
    "total = 1000 * 1\n",
    "x_train_ = x_train\n",
    "x_train = np.concatenate([x_train_[:n] for _ in range(int(total/n))])\n",
    "x_test = np.concatenate([x_train_[n:n+n] for _ in range(int(total/n))])"
   ]
  },
  {
   "cell_type": "markdown",
   "metadata": {},
   "source": [
    "<strong>Usage of keras.image.ImageDataGenerator requires 3 dims</strong>"
   ]
  },
  {
   "cell_type": "code",
   "execution_count": 158,
   "metadata": {},
   "outputs": [
    {
     "data": {
      "text/plain": [
       "(999, 100, 3, 1)"
      ]
     },
     "execution_count": 158,
     "metadata": {},
     "output_type": "execute_result"
    }
   ],
   "source": [
    "x_train = x_train.reshape(list(x_train.shape) + [1])\n",
    "x_test = x_test.reshape(list(x_test.shape) + [1])\n",
    "x_train.shape"
   ]
  },
  {
   "cell_type": "code",
   "execution_count": 159,
   "metadata": {},
   "outputs": [],
   "source": [
    "y_train = x_train\n",
    "y_test = x_test"
   ]
  },
  {
   "cell_type": "code",
   "execution_count": 160,
   "metadata": {},
   "outputs": [],
   "source": [
    "# y_train = np.concatenate([list(range(n)) for _ in range(int(total/n)+1)])[:total]\n",
    "# y_train = keras.utils.to_categorical(y_train)\n",
    "# y_test = y_train[-500:]\n",
    "# y_train.shape"
   ]
  },
  {
   "cell_type": "code",
   "execution_count": 161,
   "metadata": {},
   "outputs": [],
   "source": [
    "num_classes = n\n",
    "m = 9000"
   ]
  },
  {
   "cell_type": "code",
   "execution_count": 162,
   "metadata": {},
   "outputs": [],
   "source": [
    "# (x_train, y_train), (x_test, y_test) = cifar10.load_data()\n",
    "# x_train = x_train[:m].astype('float32')\n",
    "# x_test = x_test[:1000].astype('float32')\n",
    "# y_train = y_train[:m]\n",
    "# y_test = y_train[:1000]\n",
    "# x_train /= 255\n",
    "# x_test /= 255\n",
    "# y_train = keras.utils.to_categorical(y_train, num_classes)\n",
    "# y_test = keras.utils.to_categorical(y_test, num_classes)"
   ]
  },
  {
   "cell_type": "code",
   "execution_count": 163,
   "metadata": {},
   "outputs": [
    {
     "name": "stdout",
     "output_type": "stream",
     "text": [
      "m (30, 3)\n"
     ]
    },
    {
     "data": {
      "image/png": "[encoded data removed]",
      "text/plain": [
       "<matplotlib.figure.Figure at 0x12e6e0e80>"
      ]
     },
     "metadata": {},
     "output_type": "display_data"
    }
   ],
   "source": [
    "# plt.imshow(x_train[0,:,:,0])\n",
    "plot.multi(x_train[0,:30,:,0])"
   ]
  },
  {
   "cell_type": "code",
   "execution_count": 164,
   "metadata": {},
   "outputs": [],
   "source": [
    "input_shape = x_train[0].shape"
   ]
  },
  {
   "cell_type": "code",
   "execution_count": 255,
   "metadata": {},
   "outputs": [
    {
     "name": "stdout",
     "output_type": "stream",
     "text": [
      "shared weights, shape = (1, 128, 60) 7680\n",
      "_________________________________________________________________\n",
      "Layer (type)                 Output Shape              Param #   \n",
      "=================================================================\n",
      "input_31 (InputLayer)        (None, None, None, 1)     0         \n",
      "_________________________________________________________________\n",
      "reshape_53 (Reshape)         (None, None, 1)           0         \n",
      "_________________________________________________________________\n",
      "conv1d_29 (Conv1D)           (None, None, 64)          256       \n",
      "_________________________________________________________________\n",
      "conv1d_30 (Conv1D)           (None, None, 64)          12352     \n",
      "_________________________________________________________________\n",
      "average_pooling1d_7 (Average (None, None, 64)          0         \n",
      "_________________________________________________________________\n",
      "conv1d_31 (Conv1D)           (None, None, 128)         24704     \n",
      "_________________________________________________________________\n",
      "conv1d_32 (Conv1D)           (None, None, 128)         49280     \n",
      "_________________________________________________________________\n",
      "reshape_54 (Reshape)         (None, None, 1, 1)        0         \n",
      "_________________________________________________________________\n",
      "reshape_55 (Reshape)         (None, None, 128)         0         \n",
      "_________________________________________________________________\n",
      "capsule_7 (Capsule)          (None, 10, 6)             7680      \n",
      "=================================================================\n",
      "Total params: 94,272\n",
      "Trainable params: 94,272\n",
      "Non-trainable params: 0\n",
      "_________________________________________________________________\n"
     ]
    }
   ],
   "source": [
    "timesteps, notes, channels = input_shape\n",
    "\n",
    "encoder_input = Input(shape=(None, None, channels))\n",
    "x = encoder_input\n",
    "\n",
    "# 1D\n",
    "x = Reshape((-1, 1))(x)\n",
    "x = Conv1D(64, 3, activation='relu', padding='valid')(x)\n",
    "x = Conv1D(64, 3, activation='relu', padding='valid')(x)\n",
    "x = AveragePooling1D(2)(x)\n",
    "x = Conv1D(128, 3, activation='relu', padding='valid')(x)\n",
    "x = Conv1D(128, 3, activation='relu', padding='valid')(x)\n",
    "x = Reshape((-1, 1, 1))(x)\n",
    "\n",
    "x = Reshape((-1, 128))(x)\n",
    "n_capsules = 10\n",
    "capsule_dim = 6\n",
    "n_routings=3\n",
    "share_weights=True\n",
    "capsule = Capsule(n_capsules, capsule_dim, n_routings, share_weights)(x)\n",
    "x = capsule\n",
    "\n",
    "# Layer 4: This is an auxiliary layer to replace each capsule with its length. Just to match the true label's shape.\n",
    "# If using tensorflow, this will not be necessary.\n",
    "# x = Length(name='capsnet')(capsule)\n",
    "# x = Lambda(lambda z: K.sqrt(K.sum(K.square(z), 2)))(capsule)\n",
    "# x = Lambda(lambda z: K.sqrt(K.sum(K.square(z), -1)))(capsule)\n",
    "\n",
    "# x = Flatten()(capsule)\n",
    "# x = Dense(np.prod(input_shape), activation='sigmoid')(x)\n",
    "# x = Reshape(input_shape)(x)\n",
    "\n",
    "\n",
    "encoder_output = x\n",
    "\n",
    "encoder_model = Model(encoder_input, encoder_output, name='encoder-')\n",
    "encoder_model.summary() # output.shape = (None, 10)?"
   ]
  },
  {
   "cell_type": "code",
   "execution_count": 256,
   "metadata": {},
   "outputs": [],
   "source": [
    "# encoder_model.compile(loss='mse', optimizer='adam')\n",
    "# x = encoder_model.predict(x_train[:10])\n",
    "# x.shape # == (10, 100, 3, 1)"
   ]
  },
  {
   "cell_type": "code",
   "execution_count": 257,
   "metadata": {},
   "outputs": [],
   "source": [
    "# encoder_model.fit(x_train[:10], x_train[:10])"
   ]
  },
  {
   "cell_type": "code",
   "execution_count": 258,
   "metadata": {},
   "outputs": [],
   "source": [
    "# encoder_model.compile(loss='mse', optimizer='adam')\n",
    "# x = encoder_model.predict(x_train[:10])\n",
    "# x.shape # == (10, 100, 3, 1)"
   ]
  },
  {
   "cell_type": "code",
   "execution_count": 259,
   "metadata": {},
   "outputs": [],
   "source": [
    "def list_decoders(input_shape, output_shape, intermediate_dim=150, conv=True):\n",
    "    # cols, rows, color-channels (rgb)\n",
    "    timesteps, notes, channels = output_shape\n",
    "\n",
    "    # we instantiate these layers separately so as to reuse them later\n",
    "    decoders = []\n",
    "    # first process the capsule features independently\n",
    "    decoders += [ Dense(64, activation='relu') ]\n",
    "    decoders += [ Dense(128, activation='relu') ]\n",
    "    # decoders += [ LSTM(32, return_sequences=True) ]\n",
    "\n",
    "    if len(input_shape) > 1:\n",
    "        decoders += [ Flatten() ]\n",
    "    \n",
    "    decoders += [ Dense(100, activation='relu') ]\n",
    "    decoders += [ Reshape((-1,1))]\n",
    "    decoders += [ LSTM(32, return_sequences=True) ]\n",
    "    decoders += [ Dense(64, activation='relu') ]\n",
    "    # deconv?\n",
    "    if conv:\n",
    "        decoders += [ Conv1D(128, 3, strides=1, activation='relu', padding='same') ]\n",
    "        # TODO prevent blurring of output\n",
    "        decoders += [ Conv1D(3, 2, strides=1, activation='sigmoid', padding='same') ]\n",
    "    else:\n",
    "        decoders += [ Dense(notes, activation='sigmoid') ]\n",
    "\n",
    "    # output_shape = (timesteps, notes, channels)\n",
    "#     decoders += [ Dense(np.prod(output_shape), activation='sigmoid')]\n",
    "    decoders += [ Reshape(output_shape)]\n",
    "    return decoders"
   ]
  },
  {
   "cell_type": "code",
   "execution_count": 260,
   "metadata": {},
   "outputs": [
    {
     "name": "stdout",
     "output_type": "stream",
     "text": [
      "<keras.layers.core.Dense object at 0x146e09ac8>\n",
      "<keras.layers.core.Dense object at 0x146e09c50>\n",
      "<keras.layers.core.Flatten object at 0x146e09d30>\n",
      "<keras.layers.core.Dense object at 0x146e09f60>\n",
      "<keras.layers.core.Reshape object at 0x146e100b8>\n",
      "<keras.layers.recurrent.LSTM object at 0x146e10588>\n",
      "<keras.layers.core.Dense object at 0x146e10550>\n",
      "<keras.layers.convolutional.Conv1D object at 0x146e10748>\n",
      "<keras.layers.convolutional.Conv1D object at 0x146e10898>\n",
      "<keras.layers.core.Reshape object at 0x146e10a20>\n",
      "_________________________________________________________________\n",
      "Layer (type)                 Output Shape              Param #   \n",
      "=================================================================\n",
      "input_32 (InputLayer)        (None, 10, 6)             0         \n",
      "_________________________________________________________________\n",
      "dense_100 (Dense)            (None, 10, 64)            448       \n",
      "_________________________________________________________________\n",
      "dense_101 (Dense)            (None, 10, 128)           8320      \n",
      "_________________________________________________________________\n",
      "flatten_28 (Flatten)         (None, 1280)              0         \n",
      "_________________________________________________________________\n",
      "dense_102 (Dense)            (None, 100)               128100    \n",
      "_________________________________________________________________\n",
      "reshape_56 (Reshape)         (None, 100, 1)            0         \n",
      "_________________________________________________________________\n",
      "lstm_21 (LSTM)               (None, 100, 32)           4352      \n",
      "_________________________________________________________________\n",
      "dense_103 (Dense)            (None, 100, 64)           2112      \n",
      "_________________________________________________________________\n",
      "conv1d_33 (Conv1D)           (None, 100, 128)          24704     \n",
      "_________________________________________________________________\n",
      "conv1d_34 (Conv1D)           (None, 100, 3)            1155      \n",
      "_________________________________________________________________\n",
      "reshape_57 (Reshape)         (None, 100, 3, 1)         0         \n",
      "=================================================================\n",
      "Total params: 169,191\n",
      "Trainable params: 169,191\n",
      "Non-trainable params: 0\n",
      "_________________________________________________________________\n"
     ]
    }
   ],
   "source": [
    "encoder_output_shape = (n_capsules, capsule_dim) # (n_capsules, capsule_dim,)\n",
    "# encoder_output_shape = (n_capsules,) # (n_capsules, capsule_dim,)\n",
    "# encoder_output_shape = (160,)\n",
    "decoder_input_shape = encoder_output_shape\n",
    "decoder_input = Input(shape=decoder_input_shape)\n",
    "# decoder_input = encoder_model(encoder_input)\n",
    "# decoder_input = encoder_output\n",
    "\n",
    "decoder_pipeline = list_decoders(decoder_input_shape, output_shape=input_shape)\n",
    "decoded = utils.composition(decoder_pipeline, decoder_input, verbose=True)\n",
    "\n",
    "decoder_model = Model(decoder_input, decoded, name='decoder-')\n",
    "decoder_model.summary()"
   ]
  },
  {
   "cell_type": "code",
   "execution_count": 261,
   "metadata": {},
   "outputs": [
    {
     "name": "stdout",
     "output_type": "stream",
     "text": [
      "_________________________________________________________________\n",
      "Layer (type)                 Output Shape              Param #   \n",
      "=================================================================\n",
      "input_31 (InputLayer)        (None, None, None, 1)     0         \n",
      "_________________________________________________________________\n",
      "encoder- (Model)             (None, 10, 6)             94272     \n",
      "_________________________________________________________________\n",
      "decoder- (Model)             (None, 100, 3, 1)         169191    \n",
      "=================================================================\n",
      "Total params: 263,463\n",
      "Trainable params: 263,463\n",
      "Non-trainable params: 0\n",
      "_________________________________________________________________\n"
     ]
    }
   ],
   "source": [
    "ae_input = encoder_input\n",
    "# ae_output = decoded\n",
    "ae_output = decoder_model(encoder_model(encoder_input))\n",
    "# ae = Model(encoder_input, decoder_model(encoder_model(encoder_input)))\n",
    "# ae_output = decoded.\n",
    "# ae_encoder_output = encoder_model(encoder_input)\n",
    "# ae_decoder_output = decoder_model(ae_encoder_output)\n",
    "# ae_output = [ae_encoder_output, ae_decoder_output]\n",
    "\n",
    "ae = Model(ae_input, ae_output, name='AE')\n",
    "ae.summary()"
   ]
  },
  {
   "cell_type": "code",
   "execution_count": 262,
   "metadata": {},
   "outputs": [],
   "source": [
    "# def loss(alpha=1., beta=1.):\n",
    "#     encoder_loss = margin_loss(encoder_input, encoder_output)\n",
    "#     xent_loss = timesteps * notes * keras.metrics.binary_crossentropy(K.flatten(ae_input), K.flatten(ae_output))\n",
    "#     # xent_loss = timesteps * notes * keras.metrics.binary_crossentropy(K.flatten(y1), K.flatten(y2))\n",
    "#     # return = K.mean(alpha * encoder_loss + beta * xent_loss)\n",
    "#     loss = K.mean(encoder_loss + xent_loss)\n",
    "#     return xent_loss"
   ]
  },
  {
   "cell_type": "code",
   "execution_count": 263,
   "metadata": {},
   "outputs": [],
   "source": [
    "def loss(y_true, y_pred, alpha=1., beta=1.):\n",
    "#     y_true, y_pred = K.flatten(y_true), K.flatten(y_pred)\n",
    "    # xent_loss = timesteps * notes * keras.metrics.binary_crossentropy(K.flatten(ae_input), K.flatten(ae_output))\n",
    "    xent_loss = timesteps * notes * keras.metrics.binary_crossentropy(y_true, y_pred)\n",
    "    mse_loss = K.mean_squared_error(y_true, y_pred)\n",
    "    # return = K.mean(alpha * encoder_loss + beta * xent_loss)\n",
    "    loss = K.mean(encoder_loss + beta * mse_loss)\n",
    "    return loss"
   ]
  },
  {
   "cell_type": "code",
   "execution_count": 264,
   "metadata": {},
   "outputs": [],
   "source": [
    "# loss_ = loss()\n",
    "# ae.add_loss(loss_)\n",
    "# ae.compile(optimizer='adam')"
   ]
  },
  {
   "cell_type": "code",
   "execution_count": 265,
   "metadata": {},
   "outputs": [],
   "source": [
    "# ae = encoder_model"
   ]
  },
  {
   "cell_type": "code",
   "execution_count": 266,
   "metadata": {},
   "outputs": [],
   "source": [
    "# loss = [margin_loss, 'binary_crossentropy']\n",
    "loss = 'binary_crossentropy' # mse mae binary_crossentropy rmsprop adadelta\n",
    "ae.compile(loss=loss, optimizer='rmsprop', metrics=['accuracy','mae','binary_crossentropy'])"
   ]
  },
  {
   "cell_type": "code",
   "execution_count": 267,
   "metadata": {},
   "outputs": [],
   "source": [
    "# loss_ = lambda y_true, y_pred = loss(ae_input, ae_output)\n",
    "# loss_ = loss\n",
    "# loss_ = 'binary_crossentropy'\n",
    "\n",
    "# ae.compile(loss=loss, optimizer='adam', metrics=['accuracy'])"
   ]
  },
  {
   "cell_type": "code",
   "execution_count": 268,
   "metadata": {},
   "outputs": [],
   "source": [
    "phase_mod = 0.1\n",
    "whitening = False\n",
    "\n",
    "datagen = ImageDataGenerator(\n",
    "        featurewise_center=False,  # set input mean to 0 over the dataset\n",
    "        samplewise_center=False,  # set each sample mean to 0\n",
    "        featurewise_std_normalization=False,  # divide inputs by dataset std\n",
    "        samplewise_std_normalization=False,  # divide each input by its std\n",
    "#         zca_epsilon=10,\n",
    "        zca_whitening=whitening,\n",
    "        rotation_range=0,  # randomly rotate images in 0 to 180 degrees\n",
    "        width_shift_range=0.,  # note-channel mod, but not shuffled\n",
    "        height_shift_range=phase_mod,  # start_t, phase\n",
    "        horizontal_flip=False,  # reverse\n",
    "        vertical_flip=False)\n",
    "\n",
    "datagen.fit(x_train)"
   ]
  },
  {
   "cell_type": "code",
   "execution_count": 269,
   "metadata": {},
   "outputs": [],
   "source": [
    "batch_size = 128\n",
    "epochs = 30"
   ]
  },
  {
   "cell_type": "code",
   "execution_count": 270,
   "metadata": {},
   "outputs": [
    {
     "data": {
      "text/plain": [
       "(999, 100, 3, 1)"
      ]
     },
     "execution_count": 270,
     "metadata": {},
     "output_type": "execute_result"
    }
   ],
   "source": [
    "y_train.shape"
   ]
  },
  {
   "cell_type": "code",
   "execution_count": 271,
   "metadata": {
    "scrolled": true
   },
   "outputs": [
    {
     "name": "stdout",
     "output_type": "stream",
     "text": [
      "Using real-time data augmentation.\n",
      "Epoch 1/30\n",
      "8/8 [==============================] - 11s 1s/step - loss: 0.6306 - acc: 0.4374 - mean_absolute_error: 0.3120 - binary_crossentropy: 0.6306 - val_loss: 0.7321 - val_acc: 0.2856 - val_mean_absolute_error: 0.3122 - val_binary_crossentropy: 0.7321\n",
      "Epoch 2/30\n",
      "8/8 [==============================] - 5s 683ms/step - loss: 0.5878 - acc: 0.4380 - mean_absolute_error: 0.2758 - binary_crossentropy: 0.5878 - val_loss: 0.7422 - val_acc: 0.2856 - val_mean_absolute_error: 0.3133 - val_binary_crossentropy: 0.7422\n",
      "Epoch 3/30\n",
      "8/8 [==============================] - 7s 885ms/step - loss: 0.5807 - acc: 0.4389 - mean_absolute_error: 0.2708 - binary_crossentropy: 0.5807 - val_loss: 0.7495 - val_acc: 0.2856 - val_mean_absolute_error: 0.3136 - val_binary_crossentropy: 0.7495\n",
      "Epoch 4/30\n",
      "8/8 [==============================] - 6s 746ms/step - loss: 0.5751 - acc: 0.4401 - mean_absolute_error: 0.2669 - binary_crossentropy: 0.5751 - val_loss: 0.7656 - val_acc: 0.2856 - val_mean_absolute_error: 0.3158 - val_binary_crossentropy: 0.7656\n",
      "Epoch 5/30\n",
      "8/8 [==============================] - 5s 673ms/step - loss: 0.5705 - acc: 0.4440 - mean_absolute_error: 0.2627 - binary_crossentropy: 0.5705 - val_loss: 0.7655 - val_acc: 0.2856 - val_mean_absolute_error: 0.3145 - val_binary_crossentropy: 0.7655\n",
      "Epoch 6/30\n",
      "8/8 [==============================] - 6s 748ms/step - loss: 0.5678 - acc: 0.4446 - mean_absolute_error: 0.2605 - binary_crossentropy: 0.5678 - val_loss: 0.7702 - val_acc: 0.2856 - val_mean_absolute_error: 0.3161 - val_binary_crossentropy: 0.7702\n",
      "Epoch 7/30\n",
      "8/8 [==============================] - 6s 704ms/step - loss: 0.5658 - acc: 0.4484 - mean_absolute_error: 0.2592 - binary_crossentropy: 0.5658 - val_loss: 0.7794 - val_acc: 0.2856 - val_mean_absolute_error: 0.3160 - val_binary_crossentropy: 0.7794\n",
      "Epoch 8/30\n",
      "8/8 [==============================] - 5s 684ms/step - loss: 0.5653 - acc: 0.4484 - mean_absolute_error: 0.2585 - binary_crossentropy: 0.5653 - val_loss: 0.7823 - val_acc: 0.2889 - val_mean_absolute_error: 0.3172 - val_binary_crossentropy: 0.7822\n",
      "Epoch 9/30\n",
      "8/8 [==============================] - 5s 680ms/step - loss: 0.5641 - acc: 0.4468 - mean_absolute_error: 0.2579 - binary_crossentropy: 0.5641 - val_loss: 0.7935 - val_acc: 0.2889 - val_mean_absolute_error: 0.3188 - val_binary_crossentropy: 0.7935\n",
      "Epoch 10/30\n",
      "8/8 [==============================] - 6s 706ms/step - loss: 0.5621 - acc: 0.4469 - mean_absolute_error: 0.2566 - binary_crossentropy: 0.5621 - val_loss: 0.7927 - val_acc: 0.2856 - val_mean_absolute_error: 0.3172 - val_binary_crossentropy: 0.7927\n",
      "Epoch 11/30\n",
      "8/8 [==============================] - 6s 745ms/step - loss: 0.5604 - acc: 0.4455 - mean_absolute_error: 0.2553 - binary_crossentropy: 0.5604 - val_loss: 0.7649 - val_acc: 0.2900 - val_mean_absolute_error: 0.3130 - val_binary_crossentropy: 0.7649\n",
      "Epoch 12/30\n",
      "8/8 [==============================] - 5s 673ms/step - loss: 0.5551 - acc: 0.4455 - mean_absolute_error: 0.2519 - binary_crossentropy: 0.5551 - val_loss: 0.7422 - val_acc: 0.2833 - val_mean_absolute_error: 0.3121 - val_binary_crossentropy: 0.7422\n",
      "Epoch 13/30\n",
      "8/8 [==============================] - 6s 723ms/step - loss: 0.5475 - acc: 0.4469 - mean_absolute_error: 0.2474 - binary_crossentropy: 0.5475 - val_loss: 0.7922 - val_acc: 0.2900 - val_mean_absolute_error: 0.3172 - val_binary_crossentropy: 0.7922\n",
      "Epoch 14/30\n",
      "8/8 [==============================] - 5s 646ms/step - loss: 0.5389 - acc: 0.4495 - mean_absolute_error: 0.2400 - binary_crossentropy: 0.5389 - val_loss: 0.8146 - val_acc: 0.2844 - val_mean_absolute_error: 0.3203 - val_binary_crossentropy: 0.8146\n",
      "Epoch 15/30\n",
      "8/8 [==============================] - 6s 723ms/step - loss: 0.5230 - acc: 0.4519 - mean_absolute_error: 0.2292 - binary_crossentropy: 0.5230 - val_loss: 0.8475 - val_acc: 0.2867 - val_mean_absolute_error: 0.3251 - val_binary_crossentropy: 0.8475\n",
      "Epoch 16/30\n",
      "8/8 [==============================] - 6s 699ms/step - loss: 0.5183 - acc: 0.4561 - mean_absolute_error: 0.2234 - binary_crossentropy: 0.5183 - val_loss: 0.8847 - val_acc: 0.2889 - val_mean_absolute_error: 0.3277 - val_binary_crossentropy: 0.8847\n",
      "Epoch 17/30\n",
      "8/8 [==============================] - 6s 708ms/step - loss: 0.5146 - acc: 0.4598 - mean_absolute_error: 0.2199 - binary_crossentropy: 0.5146 - val_loss: 0.8463 - val_acc: 0.2878 - val_mean_absolute_error: 0.3233 - val_binary_crossentropy: 0.8463\n",
      "Epoch 18/30\n",
      "8/8 [==============================] - 6s 709ms/step - loss: 0.4941 - acc: 0.4731 - mean_absolute_error: 0.2067 - binary_crossentropy: 0.4941 - val_loss: 0.9228 - val_acc: 0.2922 - val_mean_absolute_error: 0.3310 - val_binary_crossentropy: 0.9228\n",
      "Epoch 19/30\n",
      "8/8 [==============================] - 6s 692ms/step - loss: 0.4826 - acc: 0.4825 - mean_absolute_error: 0.1974 - binary_crossentropy: 0.4826 - val_loss: 0.9621 - val_acc: 0.2856 - val_mean_absolute_error: 0.3306 - val_binary_crossentropy: 0.9621\n",
      "Epoch 20/30\n",
      "8/8 [==============================] - 6s 702ms/step - loss: 0.4736 - acc: 0.4922 - mean_absolute_error: 0.1911 - binary_crossentropy: 0.4736 - val_loss: 1.0150 - val_acc: 0.2878 - val_mean_absolute_error: 0.3338 - val_binary_crossentropy: 1.0150\n",
      "Epoch 21/30\n",
      "8/8 [==============================] - 5s 654ms/step - loss: 0.4674 - acc: 0.4992 - mean_absolute_error: 0.1869 - binary_crossentropy: 0.4674 - val_loss: 0.9818 - val_acc: 0.2878 - val_mean_absolute_error: 0.3298 - val_binary_crossentropy: 0.9818\n",
      "Epoch 22/30\n",
      "8/8 [==============================] - 6s 688ms/step - loss: 0.5276 - acc: 0.4781 - mean_absolute_error: 0.2185 - binary_crossentropy: 0.5276 - val_loss: 0.8600 - val_acc: 0.2900 - val_mean_absolute_error: 0.3270 - val_binary_crossentropy: 0.8600\n",
      "Epoch 23/30\n",
      "8/8 [==============================] - 5s 661ms/step - loss: 0.4727 - acc: 0.4989 - mean_absolute_error: 0.1918 - binary_crossentropy: 0.4727 - val_loss: 0.9190 - val_acc: 0.3033 - val_mean_absolute_error: 0.3379 - val_binary_crossentropy: 0.9190\n",
      "Epoch 24/30\n",
      "8/8 [==============================] - 5s 683ms/step - loss: 0.4550 - acc: 0.5084 - mean_absolute_error: 0.1790 - binary_crossentropy: 0.4550 - val_loss: 0.9957 - val_acc: 0.2911 - val_mean_absolute_error: 0.3358 - val_binary_crossentropy: 0.9957\n",
      "Epoch 25/30\n",
      "8/8 [==============================] - 6s 708ms/step - loss: 0.4480 - acc: 0.5151 - mean_absolute_error: 0.1747 - binary_crossentropy: 0.4480 - val_loss: 1.0886 - val_acc: 0.2933 - val_mean_absolute_error: 0.3409 - val_binary_crossentropy: 1.0886\n",
      "Epoch 26/30\n",
      "8/8 [==============================] - 5s 643ms/step - loss: 0.4433 - acc: 0.5156 - mean_absolute_error: 0.1704 - binary_crossentropy: 0.4433 - val_loss: 1.1132 - val_acc: 0.2878 - val_mean_absolute_error: 0.3438 - val_binary_crossentropy: 1.1132\n",
      "Epoch 27/30\n",
      "8/8 [==============================] - 5s 655ms/step - loss: 0.4400 - acc: 0.5225 - mean_absolute_error: 0.1687 - binary_crossentropy: 0.4400 - val_loss: 1.0630 - val_acc: 0.2867 - val_mean_absolute_error: 0.3420 - val_binary_crossentropy: 1.0630\n",
      "Epoch 28/30\n",
      "8/8 [==============================] - 6s 688ms/step - loss: 0.4358 - acc: 0.5224 - mean_absolute_error: 0.1657 - binary_crossentropy: 0.4358 - val_loss: 1.0668 - val_acc: 0.2789 - val_mean_absolute_error: 0.3547 - val_binary_crossentropy: 1.0668\n",
      "Epoch 29/30\n",
      "8/8 [==============================] - 5s 683ms/step - loss: 0.4856 - acc: 0.5088 - mean_absolute_error: 0.1875 - binary_crossentropy: 0.4856 - val_loss: 1.0158 - val_acc: 0.2933 - val_mean_absolute_error: 0.3431 - val_binary_crossentropy: 1.0158\n",
      "Epoch 30/30\n",
      "8/8 [==============================] - 5s 658ms/step - loss: 0.4269 - acc: 0.5290 - mean_absolute_error: 0.1609 - binary_crossentropy: 0.4269 - val_loss: 1.1435 - val_acc: 0.2867 - val_mean_absolute_error: 0.3544 - val_binary_crossentropy: 1.1435\n"
     ]
    }
   ],
   "source": [
    "data_augmentation = False\n",
    "data_augmentation = True\n",
    "\n",
    "callbacks = []\n",
    "callbacks = [TensorBoard(log_dir=config.tmp_log_dir)]\n",
    "\n",
    "if not data_augmentation:\n",
    "    print('Not using data augmentation.')\n",
    "#     history = ae.fit(x_train, epochs=epochs, validation_data=(x_test, None))\n",
    "    history = ae.fit(\n",
    "        x_train,\n",
    "        y_train,\n",
    "        batch_size=batch_size,\n",
    "        epochs=epochs,\n",
    "        validation_data=(x_test, y_test),\n",
    "        callbacks=callbacks,\n",
    "        shuffle=True)\n",
    "else:\n",
    "    print('Using real-time data augmentation.')    \n",
    "    history = ae.fit_generator(\n",
    "        datagen.flow(x_train, y_train, batch_size=batch_size),\n",
    "        epochs=epochs,\n",
    "        validation_data=(x_test, y_test),\n",
    "        callbacks=callbacks,\n",
    "        workers=4)"
   ]
  },
  {
   "cell_type": "code",
   "execution_count": 276,
   "metadata": {},
   "outputs": [
    {
     "data": {
      "text/plain": [
       "[<matplotlib.lines.Line2D at 0x14a952208>]"
      ]
     },
     "execution_count": 276,
     "metadata": {},
     "output_type": "execute_result"
    },
    {
     "data": {
      "image/png": "[encoded data removed]",
      "text/plain": [
       "<matplotlib.figure.Figure at 0x14a952588>"
      ]
     },
     "metadata": {},
     "output_type": "display_data"
    }
   ],
   "source": [
    "plt.plot(history.history['loss'])\n",
    "plt.plot(history.history['val_loss'])"
   ]
  },
  {
   "cell_type": "code",
   "execution_count": 277,
   "metadata": {},
   "outputs": [
    {
     "data": {
      "text/plain": [
       "[<matplotlib.lines.Line2D at 0x14b08e908>]"
      ]
     },
     "execution_count": 277,
     "metadata": {},
     "output_type": "execute_result"
    },
    {
     "data": {
      "image/png": "[encoded data removed]",
      "text/plain": [
       "<matplotlib.figure.Figure at 0x14b08ee48>"
      ]
     },
     "metadata": {},
     "output_type": "display_data"
    }
   ],
   "source": [
    "plt.plot(history.history['acc'])\n",
    "plt.plot(history.history['val_acc'])"
   ]
  },
  {
   "cell_type": "code",
   "execution_count": 278,
   "metadata": {},
   "outputs": [
    {
     "data": {
      "text/plain": [
       "[<matplotlib.lines.Line2D at 0x14b522518>]"
      ]
     },
     "execution_count": 278,
     "metadata": {},
     "output_type": "execute_result"
    },
    {
     "data": {
      "image/png": "[encoded data removed]",
      "text/plain": [
       "<matplotlib.figure.Figure at 0x14b5225f8>"
      ]
     },
     "metadata": {},
     "output_type": "display_data"
    }
   ],
   "source": [
    "plt.plot(history.history['mean_absolute_error'])\n",
    "plt.plot(history.history['val_mean_absolute_error'])"
   ]
  },
  {
   "cell_type": "code",
   "execution_count": 279,
   "metadata": {},
   "outputs": [],
   "source": [
    "# i = 1\n",
    "# x = datagen.random_transform(x_train[i])\n",
    "# plot.multi(x[:30,:,0])\n",
    "# plot.multi(x_train[i,:30,:,0])"
   ]
  },
  {
   "cell_type": "code",
   "execution_count": 280,
   "metadata": {},
   "outputs": [],
   "source": [
    "# i = 1\n",
    "# x = datagen.standardize(x_train[i:i+batch_size])\n",
    "# x.shape\n",
    "# x = x[0]\n",
    "# plot.multi(x[:30,:,0])\n",
    "# plot.multi(x_train[i,:30,:,0])"
   ]
  },
  {
   "cell_type": "code",
   "execution_count": 281,
   "metadata": {},
   "outputs": [
    {
     "name": "stdout",
     "output_type": "stream",
     "text": [
      "m (30, 3)\n"
     ]
    },
    {
     "data": {
      "image/png": "[encoded data removed]",
      "text/plain": [
       "<matplotlib.figure.Figure at 0x14b222438>"
      ]
     },
     "metadata": {},
     "output_type": "display_data"
    },
    {
     "name": "stdout",
     "output_type": "stream",
     "text": [
      "m (30, 3)\n"
     ]
    },
    {
     "data": {
      "image/png": "[encoded data removed]",
      "text/plain": [
       "<matplotlib.figure.Figure at 0x14b3a2a58>"
      ]
     },
     "metadata": {},
     "output_type": "display_data"
    }
   ],
   "source": [
    "i = 1\n",
    "x = ae.predict(x_train[:10])\n",
    "plot.multi(x_train[i,:30,:,0])\n",
    "plot.multi(x[i,:30,:,0])"
   ]
  },
  {
   "cell_type": "code",
   "execution_count": 282,
   "metadata": {},
   "outputs": [
    {
     "name": "stdout",
     "output_type": "stream",
     "text": [
      "m (30, 3)\n"
     ]
    },
    {
     "data": {
      "image/png": "[encoded data removed]",
      "text/plain": [
       "<matplotlib.figure.Figure at 0x14b324470>"
      ]
     },
     "metadata": {},
     "output_type": "display_data"
    }
   ],
   "source": [
    "x2 = x[i,:,:,0]\n",
    "threshold = midi.MIDI_NOISE_FLOOR\n",
    "idx = x2[:,:] > threshold\n",
    "x2[idx] = 1\n",
    "plot.multi(x2[:30])"
   ]
  },
  {
   "cell_type": "code",
   "execution_count": null,
   "metadata": {},
   "outputs": [],
   "source": []
  },
  {
   "cell_type": "code",
   "execution_count": null,
   "metadata": {},
   "outputs": [],
   "source": []
  },
  {
   "cell_type": "code",
   "execution_count": null,
   "metadata": {},
   "outputs": [],
   "source": []
  },
  {
   "cell_type": "code",
   "execution_count": null,
   "metadata": {},
   "outputs": [],
   "source": []
  }
 ],
 "metadata": {
  "kernelspec": {
   "display_name": "Python 3",
   "language": "python",
   "name": "python3"
  },
  "language_info": {
   "codemirror_mode": {
    "name": "ipython",
    "version": 3
   },
   "file_extension": ".py",
   "mimetype": "text/x-python",
   "name": "python",
   "nbconvert_exporter": "python",
   "pygments_lexer": "ipython3",
   "version": "3.6.4"
  }
 },
 "nbformat": 4,
 "nbformat_minor": 2
}
