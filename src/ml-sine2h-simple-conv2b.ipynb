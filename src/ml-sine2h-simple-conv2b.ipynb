{
 "cells": [
  {
   "cell_type": "code",
   "execution_count": 1,
   "metadata": {},
   "outputs": [],
   "source": [
    "import config\n",
    "import os, numpy as np, pandas, sklearn, scipy.signal as signal\n",
    "import mido\n",
    "import matplotlib.pyplot as plt\n",
    "%matplotlib inline"
   ]
  },
  {
   "cell_type": "code",
   "execution_count": 2,
   "metadata": {},
   "outputs": [
    {
     "name": "stderr",
     "output_type": "stream",
     "text": [
      "/Library/Frameworks/Python.framework/Versions/3.6/lib/python3.6/site-packages/h5py/__init__.py:36: FutureWarning: Conversion of the second argument of issubdtype from `float` to `np.floating` is deprecated. In future, it will be treated as `np.float64 == np.dtype(float).type`.\n",
      "  from ._conv import register_converters as _register_converters\n",
      "Using TensorFlow backend.\n"
     ]
    }
   ],
   "source": [
    "## NN libs\n",
    "from sklearn.decomposition import PCA\n",
    "from sklearn import preprocessing\n",
    "from sklearn.preprocessing import RobustScaler\n",
    "import keras\n",
    "from keras import regularizers\n",
    "from keras.utils import to_categorical\n",
    "from keras.models import Sequential\n",
    "from keras.optimizers import SGD, Adam\n",
    "from keras.layers import Input, Dense, Activation, Conv1D, Conv2D, Dropout, Flatten\n",
    "from keras.layers import Conv2DTranspose, Reshape, MaxPooling2D, UpSampling2D, UpSampling1D, MaxPooling1D\n",
    "from keras.layers import LocallyConnected1D, LocallyConnected2D\n",
    "from keras.layers import Input, LSTM, RepeatVector\n",
    "from keras.models import Model\n",
    "from keras.callbacks import TensorBoard"
   ]
  },
  {
   "cell_type": "code",
   "execution_count": 3,
   "metadata": {},
   "outputs": [
    {
     "name": "stdout",
     "output_type": "stream",
     "text": [
      " Context :: namedtuple(\n",
      "[ max_t = float\n",
      ", dt = float\n",
      ", n_instances = int\n",
      ", note_length = int\n",
      ", bpm = float\n",
      ", tempo = float\n",
      ", ticks_per_beat = int\n",
      "]\n",
      "\n"
     ]
    }
   ],
   "source": [
    "# local libs\n",
    "import config, models, functions\n",
    "from data import data, midi, midi_generators as g\n",
    "from utils import io, models_io, utils"
   ]
  },
  {
   "cell_type": "code",
   "execution_count": 4,
   "metadata": {
    "scrolled": true
   },
   "outputs": [
    {
     "name": "stdout",
     "output_type": "stream",
     "text": [
      "Setting up params\n",
      "\n",
      "max min f 25.0 0.3333333333333333\n",
      " >> Context(max_t=3.0, dt=0.02, n_instances=150, note_length=0.03, bpm=120.0, tempo=500000, ticks_per_beat=480)\n",
      "Setting up params\n",
      "\n",
      "max min f 25.0 0.3333333333333333\n",
      " >> Context(max_t=3.0, dt=0.02, n_instances=150, note_length=0.03, bpm=120.0, tempo=500000, ticks_per_beat=480)\n",
      "Importing midi-data\n",
      "\n",
      "\u001b[92m [INFO] : \u001b[0m\n",
      " |  reading file: ../datasets/examples/01 16th Snare.mid\n",
      "\u001b[92m [INFO] : \u001b[0m\n",
      " |  reading file: ../datasets/examples/01 8th Cym.mid\n",
      "\n",
      "Encoding midi-data\n",
      " [<midi file '../datasets/examples/01 16th Snare.mid' type 0, 1 tracks, 182 messages>, <midi file '../datasets/examples/01 8th Cym.mid' type 0, 1 tracks, 68 messages>]\n",
      "> -> multi-track = False\n",
      "\u001b[91m [DEBUG] > \u001b[0m\n",
      " |>  to_array: msg.time > max_t; t, n\n",
      " |>  2.994791666666667\n",
      " |>  150\n",
      "\u001b[91m [DEBUG] > \u001b[0m\n",
      " |>  to_array: msg.time > max_t; t, n\n",
      " |>  2.9947916666666665\n",
      " |>  150\n"
     ]
    }
   ],
   "source": [
    "context = data.init()\n",
    "n = 2\n",
    "multiTrack = False\n",
    "context, x_train, labels = data.import_data(data.init(), n, multiTrack=multiTrack)"
   ]
  },
  {
   "cell_type": "code",
   "execution_count": 5,
   "metadata": {},
   "outputs": [
    {
     "name": "stdout",
     "output_type": "stream",
     "text": [
      "\u001b[91m [DEBUG] > \u001b[0m\n",
      " |>  to_array: msg.time > max_t; t, n\n",
      " |>  2.9958333333333345\n",
      " |>  150\n",
      "\u001b[91m [DEBUG] > \u001b[0m\n",
      " |>  to_array: msg.time > max_t; t, n\n",
      " |>  3.0000000000000036\n",
      " |>  150\n",
      "\u001b[91m [DEBUG] > \u001b[0m\n",
      " |>  to_array: msg.time > max_t; t, n\n",
      " |>  2.998958333333336\n",
      " |>  150\n",
      "\u001b[91m [DEBUG] > \u001b[0m\n",
      " |>  to_array: msg.time > max_t; t, n\n",
      " |>  3.0041666666666687\n",
      " |>  150\n",
      "\u001b[91m [DEBUG] > \u001b[0m\n",
      " |>  to_array: msg.time > max_t; t, n\n",
      " |>  2.992708333333334\n",
      " |>  150\n",
      "\u001b[91m [DEBUG] > \u001b[0m\n",
      " |>  to_array: msg.time > max_t; t, n\n",
      " |>  2.990625\n",
      " |>  150\n",
      "\u001b[91m [DEBUG] > \u001b[0m\n",
      " |>  to_array: msg.time > max_t; t, n\n",
      " |>  2.9937500000000012\n",
      " |>  150\n",
      "\u001b[91m [DEBUG] > \u001b[0m\n",
      " |>  to_array: msg.time > max_t; t, n\n",
      " |>  3.0052083333333326\n",
      " |>  150\n",
      "\u001b[91m [DEBUG] > \u001b[0m\n",
      " |>  to_array: msg.time > max_t; t, n\n",
      " |>  3.004166666666668\n",
      " |>  150\n",
      "\u001b[91m [DEBUG] > \u001b[0m\n",
      " |>  to_array: msg.time > max_t; t, n\n",
      " |>  2.9937500000000004\n",
      " |>  150\n",
      "\u001b[91m [DEBUG] > \u001b[0m\n",
      " |>  to_array: msg.time > max_t; t, n\n",
      " |>  2.990624999999999\n",
      " |>  150\n",
      "\u001b[91m [DEBUG] > \u001b[0m\n",
      " |>  to_array: msg.time > max_t; t, n\n",
      " |>  3.011458333333335\n",
      " |>  150\n",
      "\u001b[91m [DEBUG] > \u001b[0m\n",
      " |>  to_array: msg.time > max_t; t, n\n",
      " |>  3.015625000000001\n",
      " |>  150\n",
      "\u001b[91m [DEBUG] > \u001b[0m\n",
      " |>  to_array: msg.time > max_t; t, n\n",
      " |>  2.997916666666669\n",
      " |>  150\n",
      "\u001b[91m [DEBUG] > \u001b[0m\n",
      " |>  to_array: msg.time > max_t; t, n\n",
      " |>  2.993750000000003\n",
      " |>  150\n",
      "\u001b[91m [DEBUG] > \u001b[0m\n",
      " |>  to_array: msg.time > max_t; t, n\n",
      " |>  2.993749999999999\n",
      " |>  150\n",
      "\u001b[91m [DEBUG] > \u001b[0m\n",
      " |>  to_array: msg.time > max_t; t, n\n",
      " |>  3.017708333333336\n",
      " |>  150\n",
      "\u001b[91m [DEBUG] > \u001b[0m\n",
      " |>  to_array: msg.time > max_t; t, n\n",
      " |>  3.000000000000003\n",
      " |>  150\n",
      "\u001b[91m [DEBUG] > \u001b[0m\n",
      " |>  to_array: msg.time > max_t; t, n\n",
      " |>  2.9906250000000036\n",
      " |>  150\n",
      "\u001b[91m [DEBUG] > \u001b[0m\n",
      " |>  to_array: msg.time > max_t; t, n\n",
      " |>  2.9927083333333355\n",
      " |>  150\n",
      "\u001b[91m [DEBUG] > \u001b[0m\n",
      " |>  to_array: msg.time > max_t; t, n\n",
      " |>  2.9989583333333343\n",
      " |>  150\n",
      "\u001b[91m [DEBUG] > \u001b[0m\n",
      " |>  to_array: msg.time > max_t; t, n\n",
      " |>  3.007291666666669\n",
      " |>  150\n",
      "\u001b[91m [DEBUG] > \u001b[0m\n",
      " |>  to_array: msg.time > max_t; t, n\n",
      " |>  2.995833333333335\n",
      " |>  150\n",
      "\u001b[91m [DEBUG] > \u001b[0m\n",
      " |>  to_array: msg.time > max_t; t, n\n",
      " |>  2.9968749999999997\n",
      " |>  150\n",
      "\u001b[91m [DEBUG] > \u001b[0m\n",
      " |>  to_array: msg.time > max_t; t, n\n",
      " |>  3.0000000000000018\n",
      " |>  150\n",
      "\u001b[91m [DEBUG] > \u001b[0m\n",
      " |>  to_array: msg.time > max_t; t, n\n",
      " |>  3.004166666666666\n",
      " |>  150\n",
      "\u001b[91m [DEBUG] > \u001b[0m\n",
      " |>  to_array: msg.time > max_t; t, n\n",
      " |>  2.9927083333333333\n",
      " |>  150\n",
      "\u001b[91m [DEBUG] > \u001b[0m\n",
      " |>  to_array: msg.time > max_t; t, n\n",
      " |>  2.9989583333333325\n",
      " |>  150\n",
      "\u001b[91m [DEBUG] > \u001b[0m\n",
      " |>  to_array: msg.time > max_t; t, n\n",
      " |>  2.9958333333333327\n",
      " |>  150\n",
      "\u001b[91m [DEBUG] > \u001b[0m\n",
      " |>  to_array: msg.time > max_t; t, n\n",
      " |>  3.0031250000000025\n",
      " |>  150\n",
      "\u001b[91m [DEBUG] > \u001b[0m\n",
      " |>  to_array: msg.time > max_t; t, n\n",
      " |>  2.9937500000000026\n",
      " |>  150\n",
      "\u001b[91m [DEBUG] > \u001b[0m\n",
      " |>  to_array: msg.time > max_t; t, n\n",
      " |>  2.991666666666667\n",
      " |>  150\n",
      "\u001b[91m [DEBUG] > \u001b[0m\n",
      " |>  to_array: msg.time > max_t; t, n\n",
      " |>  3.004166666666668\n",
      " |>  150\n",
      "\u001b[91m [DEBUG] > \u001b[0m\n",
      " |>  to_array: msg.time > max_t; t, n\n",
      " |>  2.9916666666666694\n",
      " |>  150\n",
      "\u001b[91m [DEBUG] > \u001b[0m\n",
      " |>  to_array: msg.time > max_t; t, n\n",
      " |>  2.9979166666666703\n",
      " |>  150\n",
      "\u001b[91m [DEBUG] > \u001b[0m\n",
      " |>  to_array: msg.time > max_t; t, n\n",
      " |>  3.0135416666666686\n",
      " |>  150\n",
      "\u001b[91m [DEBUG] > \u001b[0m\n",
      " |>  to_array: msg.time > max_t; t, n\n",
      " |>  3.003124999999998\n",
      " |>  150\n",
      "\u001b[91m [DEBUG] > \u001b[0m\n",
      " |>  to_array: msg.time > max_t; t, n\n",
      " |>  2.993750000000001\n",
      " |>  150\n",
      "\u001b[91m [DEBUG] > \u001b[0m\n",
      " |>  to_array: msg.time > max_t; t, n\n",
      " |>  3.0020833333333354\n",
      " |>  150\n",
      "\u001b[91m [DEBUG] > \u001b[0m\n",
      " |>  to_array: msg.time > max_t; t, n\n",
      " |>  2.990625000000004\n",
      " |>  150\n",
      "\u001b[91m [DEBUG] > \u001b[0m\n",
      " |>  to_array: msg.time > max_t; t, n\n",
      " |>  3.0010416666666693\n",
      " |>  150\n",
      "\u001b[91m [DEBUG] > \u001b[0m\n",
      " |>  to_array: msg.time > max_t; t, n\n",
      " |>  2.991666666666667\n",
      " |>  150\n",
      "\u001b[91m [DEBUG] > \u001b[0m\n",
      " |>  to_array: msg.time > max_t; t, n\n",
      " |>  3.0093750000000026\n",
      " |>  150\n",
      "\u001b[91m [DEBUG] > \u001b[0m\n",
      " |>  to_array: msg.time > max_t; t, n\n",
      " |>  3.001041666666667\n",
      " |>  150\n",
      "\u001b[91m [DEBUG] > \u001b[0m\n",
      " |>  to_array: msg.time > max_t; t, n\n",
      " |>  3.012499999999999\n",
      " |>  150\n",
      "\u001b[91m [DEBUG] > \u001b[0m\n",
      " |>  to_array: msg.time > max_t; t, n\n",
      " |>  3.0031250000000034\n",
      " |>  150\n",
      "\u001b[91m [DEBUG] > \u001b[0m\n",
      " |>  to_array: msg.time > max_t; t, n\n",
      " |>  2.9958333333333327\n",
      " |>  150\n",
      "\u001b[91m [DEBUG] > \u001b[0m\n",
      " |>  to_array: msg.time > max_t; t, n\n",
      " |>  2.9958333333333345\n",
      " |>  150\n",
      "\u001b[91m [DEBUG] > \u001b[0m\n",
      " |>  to_array: msg.time > max_t; t, n\n",
      " |>  3.005208333333337\n",
      " |>  150\n",
      "\u001b[91m [DEBUG] > \u001b[0m\n",
      " |>  to_array: msg.time > max_t; t, n\n",
      " |>  3.0083333333333386\n",
      " |>  150\n",
      "\u001b[91m [DEBUG] > \u001b[0m\n",
      " |>  to_array: msg.time > max_t; t, n\n",
      " |>  2.994791666666668\n",
      " |>  150\n",
      "\u001b[91m [DEBUG] > \u001b[0m\n",
      " |>  to_array: msg.time > max_t; t, n\n",
      " |>  3.0010416666666666\n",
      " |>  150\n",
      "\u001b[91m [DEBUG] > \u001b[0m\n",
      " |>  to_array: msg.time > max_t; t, n\n",
      " |>  2.9968750000000024\n",
      " |>  150\n",
      "\u001b[91m [DEBUG] > \u001b[0m\n",
      " |>  to_array: msg.time > max_t; t, n\n",
      " |>  2.9958333333333367\n",
      " |>  150\n",
      "\u001b[91m [DEBUG] > \u001b[0m\n",
      " |>  to_array: msg.time > max_t; t, n\n",
      " |>  3.002083333333334\n",
      " |>  150\n",
      "\u001b[91m [DEBUG] > \u001b[0m\n",
      " |>  to_array: msg.time > max_t; t, n\n",
      " |>  2.9927083333333333\n",
      " |>  150\n",
      "\u001b[91m [DEBUG] > \u001b[0m\n",
      " |>  to_array: msg.time > max_t; t, n\n",
      " |>  2.996875000000003\n",
      " |>  150\n",
      "\u001b[91m [DEBUG] > \u001b[0m\n",
      " |>  to_array: msg.time > max_t; t, n\n",
      " |>  3.0010416666666657\n",
      " |>  150\n",
      "\u001b[91m [DEBUG] > \u001b[0m\n",
      " |>  to_array: msg.time > max_t; t, n\n",
      " |>  3.0124999999999997\n",
      " |>  150\n",
      "\u001b[91m [DEBUG] > \u001b[0m\n",
      " |>  to_array: msg.time > max_t; t, n\n",
      " |>  2.9999999999999996\n",
      " |>  150\n",
      "\u001b[91m [DEBUG] > \u001b[0m\n",
      " |>  to_array: msg.time > max_t; t, n\n",
      " |>  2.9958333333333327\n",
      " |>  150\n",
      "\u001b[91m [DEBUG] > \u001b[0m\n",
      " |>  to_array: msg.time > max_t; t, n\n",
      " |>  3.0031250000000003\n",
      " |>  150\n",
      "\u001b[91m [DEBUG] > \u001b[0m\n",
      " |>  to_array: msg.time > max_t; t, n\n",
      " |>  3.008333333333333\n",
      " |>  150\n",
      "\u001b[91m [DEBUG] > \u001b[0m\n",
      " |>  to_array: msg.time > max_t; t, n\n",
      " |>  2.9916666666666654\n",
      " |>  150\n",
      "\u001b[91m [DEBUG] > \u001b[0m\n",
      " |>  to_array: msg.time > max_t; t, n\n",
      " |>  3.0114583333333336\n",
      " |>  150\n",
      "\u001b[91m [DEBUG] > \u001b[0m\n",
      " |>  to_array: msg.time > max_t; t, n\n",
      " |>  3.001041666666668\n",
      " |>  150\n",
      "\u001b[91m [DEBUG] > \u001b[0m\n",
      " |>  to_array: msg.time > max_t; t, n\n",
      " |>  2.993750000000004\n",
      " |>  150\n",
      "\u001b[91m [DEBUG] > \u001b[0m\n",
      " |>  to_array: msg.time > max_t; t, n\n",
      " |>  2.9958333333333322\n",
      " |>  150\n",
      "\u001b[91m [DEBUG] > \u001b[0m\n",
      " |>  to_array: msg.time > max_t; t, n\n",
      " |>  2.9968750000000033\n",
      " |>  150\n",
      "\u001b[91m [DEBUG] > \u001b[0m\n",
      " |>  to_array: msg.time > max_t; t, n\n",
      " |>  3.0072916666666663\n",
      " |>  150\n",
      "\u001b[91m [DEBUG] > \u001b[0m\n",
      " |>  to_array: msg.time > max_t; t, n\n",
      " |>  2.992708333333333\n",
      " |>  150\n",
      "\u001b[91m [DEBUG] > \u001b[0m\n",
      " |>  to_array: msg.time > max_t; t, n\n",
      " |>  3.008333333333332\n",
      " |>  150\n",
      "\u001b[91m [DEBUG] > \u001b[0m\n",
      " |>  to_array: msg.time > max_t; t, n\n",
      " |>  3.016666666666665\n",
      " |>  150\n",
      "\u001b[91m [DEBUG] > \u001b[0m\n",
      " |>  to_array: msg.time > max_t; t, n\n",
      " |>  2.9979166666666663\n",
      " |>  150\n",
      "\u001b[91m [DEBUG] > \u001b[0m\n",
      " |>  to_array: msg.time > max_t; t, n\n",
      " |>  2.9906250000000014\n",
      " |>  150\n",
      "\u001b[91m [DEBUG] > \u001b[0m\n",
      " |>  to_array: msg.time > max_t; t, n\n",
      " |>  2.9937500000000017\n",
      " |>  150\n",
      "\u001b[91m [DEBUG] > \u001b[0m\n",
      " |>  to_array: msg.time > max_t; t, n\n",
      " |>  2.997916666666669\n",
      " |>  150\n",
      "\u001b[91m [DEBUG] > \u001b[0m\n",
      " |>  to_array: msg.time > max_t; t, n\n",
      " |>  3.012500000000001\n",
      " |>  150\n",
      "\u001b[91m [DEBUG] > \u001b[0m\n",
      " |>  to_array: msg.time > max_t; t, n\n",
      " |>  3.0062500000000014\n",
      " |>  150\n",
      "\u001b[91m [DEBUG] > \u001b[0m\n",
      " |>  to_array: msg.time > max_t; t, n\n",
      " |>  3.0156250000000013\n",
      " |>  150\n",
      "\u001b[91m [DEBUG] > \u001b[0m\n",
      " |>  to_array: msg.time > max_t; t, n\n",
      " |>  2.994791666666669\n",
      " |>  150\n",
      "\u001b[91m [DEBUG] > \u001b[0m\n",
      " |>  to_array: msg.time > max_t; t, n\n",
      " |>  2.99375\n",
      " |>  150\n",
      "\u001b[91m [DEBUG] > \u001b[0m\n",
      " |>  to_array: msg.time > max_t; t, n\n",
      " |>  2.9916666666666676\n",
      " |>  150\n",
      "\u001b[91m [DEBUG] > \u001b[0m\n",
      " |>  to_array: msg.time > max_t; t, n\n",
      " |>  3.004166666666665\n",
      " |>  150\n",
      "\u001b[91m [DEBUG] > \u001b[0m\n",
      " |>  to_array: msg.time > max_t; t, n\n",
      " |>  3.0177083333333337\n",
      " |>  150\n",
      "\u001b[91m [DEBUG] > \u001b[0m\n",
      " |>  to_array: msg.time > max_t; t, n\n",
      " |>  3.018750000000001\n",
      " |>  150\n",
      "\u001b[91m [DEBUG] > \u001b[0m\n",
      " |>  to_array: msg.time > max_t; t, n\n",
      " |>  2.994791666666667\n",
      " |>  150\n",
      "\u001b[91m [DEBUG] > \u001b[0m\n",
      " |>  to_array: msg.time > max_t; t, n\n",
      " |>  2.9916666666666676\n",
      " |>  150\n",
      "\u001b[91m [DEBUG] > \u001b[0m\n",
      " |>  to_array: msg.time > max_t; t, n\n",
      " |>  2.995833333333338\n",
      " |>  150\n",
      "\u001b[91m [DEBUG] > \u001b[0m\n",
      " |>  to_array: msg.time > max_t; t, n\n",
      " |>  2.991666666666666\n",
      " |>  150\n",
      "\u001b[91m [DEBUG] > \u001b[0m\n",
      " |>  to_array: msg.time > max_t; t, n\n",
      " |>  2.9906249999999988\n",
      " |>  150\n"
     ]
    },
    {
     "name": "stdout",
     "output_type": "stream",
     "text": [
      "\u001b[91m [DEBUG] > \u001b[0m\n",
      " |>  to_array: msg.time > max_t; t, n\n",
      " |>  3.011458333333333\n",
      " |>  150\n",
      "\u001b[91m [DEBUG] > \u001b[0m\n",
      " |>  to_array: msg.time > max_t; t, n\n",
      " |>  2.9937500000000012\n",
      " |>  150\n",
      "\u001b[91m [DEBUG] > \u001b[0m\n",
      " |>  to_array: msg.time > max_t; t, n\n",
      " |>  3.0229166666666685\n",
      " |>  150\n",
      "\u001b[91m [DEBUG] > \u001b[0m\n",
      " |>  to_array: msg.time > max_t; t, n\n",
      " |>  2.9937500000000026\n",
      " |>  150\n",
      "\u001b[91m [DEBUG] > \u001b[0m\n",
      " |>  to_array: msg.time > max_t; t, n\n",
      " |>  2.995833333333332\n",
      " |>  150\n",
      "\u001b[91m [DEBUG] > \u001b[0m\n",
      " |>  to_array: msg.time > max_t; t, n\n",
      " |>  2.997916666666669\n",
      " |>  150\n",
      "\u001b[91m [DEBUG] > \u001b[0m\n",
      " |>  to_array: msg.time > max_t; t, n\n",
      " |>  2.991666666666669\n",
      " |>  150\n",
      "\u001b[91m [DEBUG] > \u001b[0m\n",
      " |>  to_array: msg.time > max_t; t, n\n",
      " |>  2.9979166666666672\n",
      " |>  150\n",
      "\u001b[91m [DEBUG] > \u001b[0m\n",
      " |>  to_array: msg.time > max_t; t, n\n",
      " |>  3.0197916666666687\n",
      " |>  150\n"
     ]
    }
   ],
   "source": [
    "n = 100\n",
    "min_f = 3\n",
    "max_f = 20\n",
    "# x_train = g.gen_data(context, n, max_f=max_f, min_f=min_f)\n",
    "x_train = g.gen_data_complex(context, n, max_f=max_f, min_f=min_f, multiTrack=multiTrack)\n",
    "y_train = x_train"
   ]
  },
  {
   "cell_type": "code",
   "execution_count": null,
   "metadata": {},
   "outputs": [],
   "source": []
  },
  {
   "cell_type": "code",
   "execution_count": 6,
   "metadata": {},
   "outputs": [
    {
     "data": {
      "text/plain": [
       "(273, 150, 1)"
      ]
     },
     "execution_count": 6,
     "metadata": {},
     "output_type": "execute_result"
    }
   ],
   "source": [
    "x_train.shape"
   ]
  },
  {
   "cell_type": "code",
   "execution_count": 7,
   "metadata": {},
   "outputs": [
    {
     "data": {
      "text/plain": [
       "[<matplotlib.lines.Line2D at 0x117a21278>]"
      ]
     },
     "execution_count": 7,
     "metadata": {},
     "output_type": "execute_result"
    },
    {
     "data": {
      "image/png": "[encoded data removed]",
      "text/plain": [
       "<matplotlib.figure.Figure at 0x119667208>"
      ]
     },
     "metadata": {},
     "output_type": "display_data"
    }
   ],
   "source": [
    "plt.plot(x_train[0,:100])"
   ]
  },
  {
   "cell_type": "code",
   "execution_count": 8,
   "metadata": {},
   "outputs": [
    {
     "data": {
      "text/plain": [
       "(273, 150, 1)"
      ]
     },
     "execution_count": 8,
     "metadata": {},
     "output_type": "execute_result"
    }
   ],
   "source": [
    "x_train.shape"
   ]
  },
  {
   "cell_type": "code",
   "execution_count": 57,
   "metadata": {},
   "outputs": [
    {
     "data": {
      "text/plain": [
       "(150, 1)"
      ]
     },
     "execution_count": 57,
     "metadata": {},
     "output_type": "execute_result"
    }
   ],
   "source": [
    "n_samples = x_train[0]\n",
    "input_shape = x_train.shape[1:] # shape of a single sample\n",
    "output_shape = y_train.shape[1:] # shape of a single sample\n",
    "# output_length = y_train.shape[1:][0]\n",
    "hidden_layer_length = 50\n",
    "input_shape"
   ]
  },
  {
   "cell_type": "code",
   "execution_count": 58,
   "metadata": {},
   "outputs": [
    {
     "data": {
      "text/plain": [
       "(150, 1)"
      ]
     },
     "execution_count": 58,
     "metadata": {},
     "output_type": "execute_result"
    }
   ],
   "source": [
    "output_shape"
   ]
  },
  {
   "cell_type": "code",
   "execution_count": 59,
   "metadata": {},
   "outputs": [],
   "source": [
    "num_encoder_tokens = x_train.shape[-1]\n",
    "num_decoder_tokens = y_train.shape[-1]\n",
    "# latent_dim = 1"
   ]
  },
  {
   "cell_type": "code",
   "execution_count": 60,
   "metadata": {},
   "outputs": [
    {
     "name": "stdout",
     "output_type": "stream",
     "text": [
      "w1 300 w2 600\n",
      "_________________________________________________________________\n",
      "Layer (type)                 Output Shape              Param #   \n",
      "=================================================================\n",
      "input_23 (InputLayer)        (None, 150, 1)            0         \n",
      "_________________________________________________________________\n",
      "conv1d_14 (Conv1D)           (None, 75, 300)           900       \n",
      "_________________________________________________________________\n",
      "conv1d_15 (Conv1D)           (None, 75, 300)           180300    \n",
      "_________________________________________________________________\n",
      "max_pooling1d_11 (MaxPooling (None, 37, 300)           0         \n",
      "_________________________________________________________________\n",
      "flatten_15 (Flatten)         (None, 11100)             0         \n",
      "_________________________________________________________________\n",
      "dense_36 (Dense)             (None, 150)               1665150   \n",
      "_________________________________________________________________\n",
      "dense_37 (Dense)             (None, 30)                4530      \n",
      "=================================================================\n",
      "Total params: 1,850,880\n",
      "Trainable params: 1,850,880\n",
      "Non-trainable params: 0\n",
      "_________________________________________________________________\n",
      "dims (None, 300)\n",
      "_________________________________________________________________\n",
      "Layer (type)                 Output Shape              Param #   \n",
      "=================================================================\n",
      "input_24 (InputLayer)        (None, 30)                0         \n",
      "_________________________________________________________________\n",
      "dense_38 (Dense)             (None, 150)               4650      \n",
      "_________________________________________________________________\n",
      "reshape_15 (Reshape)         (None, 75, 2)             0         \n",
      "_________________________________________________________________\n",
      "up_sampling1d_8 (UpSampling1 (None, 300, 2)            0         \n",
      "_________________________________________________________________\n",
      "conv1d_16 (Conv1D)           (None, 300, 2)            10        \n",
      "_________________________________________________________________\n",
      "max_pooling1d_12 (MaxPooling (None, 150, 2)            0         \n",
      "_________________________________________________________________\n",
      "flatten_16 (Flatten)         (None, 300)               0         \n",
      "_________________________________________________________________\n",
      "dense_39 (Dense)             (None, 150)               45150     \n",
      "_________________________________________________________________\n",
      "dropout_8 (Dropout)          (None, 150)               0         \n",
      "_________________________________________________________________\n",
      "dense_40 (Dense)             (None, 150)               22650     \n",
      "_________________________________________________________________\n",
      "reshape_16 (Reshape)         (None, 150, 1)            0         \n",
      "=================================================================\n",
      "Total params: 72,460\n",
      "Trainable params: 72,460\n",
      "Non-trainable params: 0\n",
      "_________________________________________________________________\n"
     ]
    }
   ],
   "source": [
    "k_reg = regularizers.l2(0.01)\n",
    "# b_reg = regularizers.l1(0.01)\n",
    "a_reg = regularizers.l1(0.01)\n",
    "\n",
    "def encoder(input_shape, output_length, dropout=0.10):\n",
    "    input_layer = Input(shape=input_shape)\n",
    "    x = input_layer\n",
    "    \n",
    "    w1 = input_shape[0] * 2\n",
    "    w2 = w1 * 2\n",
    "    print('w1', w1,'w2', w2)\n",
    "\n",
    "    # [Conv | Pool]\n",
    "    x = Conv1D(w1, kernel_size=2, strides=2, activation='relu', padding='same')(x)\n",
    "    x = Conv1D(w1, kernel_size=2, strides=1, activation='relu', padding='same')(x)\n",
    "    x = MaxPooling1D(pool_size=2, strides=2)(x) # TODO padding='same'\n",
    "    \n",
    "#     x = Conv1D(w2, kernel_size=2, strides=2, activation='relu')(x)\n",
    "#     x = Conv1D(w2, kernel_size=2, strides=1, activation='relu')(x)\n",
    "#     x = MaxPooling1D(pool_size=2, strides=2)(x)\n",
    "    \n",
    "    # [Dense]\n",
    "    x = Flatten()(x)\n",
    "    x = Dense(150, activation='relu')(x)\n",
    "    \n",
    "#     x = Dense(100, activation='relu')(x)\n",
    "#     x = Dense(100, activation='relu')(x)\n",
    "#     x = Dense(100, activation='relu')(x)    \n",
    "#     x = Dropout(dropout)(x)\n",
    "\n",
    "#     x = Dense(100, activation='relu', kernel_regularizer=k_reg, activity_regularizer=a_reg)(x)\n",
    "\n",
    "#     x = Dense(1000, activation='relu')(x)\n",
    "#     x = Dense(1000, activation='relu')(x)\n",
    "#     x = Dropout(dropout)(x)\n",
    "    \n",
    "#     x = Dense(100, activation='relu')(x)\n",
    "#     x = Dense(100, activation='relu')(x)\n",
    "#     x = Dropout(dropout)(x)    \n",
    "    \n",
    "    x = Dense(output_length, activation='relu')(x) # softmax\n",
    "#     x = Dense(output_length, activation='relu', activity_regularizer=regularizers.l1(10e-5))(x)\n",
    "    model = Model(inputs=input_layer, outputs=x)\n",
    "    return model\n",
    "\n",
    "\n",
    "def decoder(input_length, output_shape, dropout=0.10):\n",
    "    input_layer = Input(shape=(input_length,))\n",
    "    x = input_layer\n",
    "    shape = output_shape\n",
    "   \n",
    "    x = Dense(150, activation='relu')(x)\n",
    "#     x = Dense(1000, activation='relu')(x)\n",
    "#     x = Dropout(dropout)(x)\n",
    "    \n",
    "    x = Reshape((75,2))(x) # 250 * 4 = 1000\n",
    "    x = UpSampling1D(4)(x)\n",
    "    x = Conv1D(2, kernel_size=2, strides=1, activation='relu', padding='same')(x)\n",
    "#     x = Conv1D(10, kernel_size=2, strides=1, activation='relu', padding='same')(x)\n",
    "    x = MaxPooling1D(pool_size=2, strides=2)(x)\n",
    "    \n",
    "    x = Flatten()(x)\n",
    "    dims = keras.backend.int_shape(x)\n",
    "    print('dims', dims)\n",
    "    \n",
    "    x = Dense(np.prod(shape), activation='relu')(x)\n",
    "    x = Dropout(dropout)(x)\n",
    "    \n",
    "    x = Dense(np.prod(shape), activation='sigmoid')(x)\n",
    "    x = Reshape(shape)(x)\n",
    "    model = Model(inputs=input_layer, outputs=x)\n",
    "    return model\n",
    "\n",
    "\n",
    "def autoencoder(input_shape, output_shape, hidden_layer_length=10, dropout=0.10, verbose=False):\n",
    "    input_ = Input(shape=input_shape)\n",
    "    encode = encoder(input_shape, hidden_layer_length, dropout)\n",
    "    if verbose:\n",
    "        encode.summary()\n",
    "    decode = decoder(hidden_layer_length, output_shape, dropout)\n",
    "    if verbose:\n",
    "        decode.summary()\n",
    "    model = Model(input_, decode(encode(input_)))\n",
    "    return encode, decode, model\n",
    "\n",
    "dropout = 0.2\n",
    "encoder, decoder, model = autoencoder(input_shape, output_shape, hidden_layer_length, dropout, True)"
   ]
  },
  {
   "cell_type": "code",
   "execution_count": 61,
   "metadata": {},
   "outputs": [],
   "source": [
    "metrics = ['accuracy','mse','binary_crossentropy'] # sparse_categorical_accuracy\n",
    "loss = 'binary_crossentropy'# binary_crossentropy categorical_crossentropy sparse_categorical_crossentropy\n",
    "optimizer = 'adam' # adam adadelta rmsprop nadam\n",
    "# keras.optimizers.RMSprop(lr=0.001, rho=0.9, epsilon=None, decay=0.0)\n",
    "model.compile(optimizer=optimizer, loss=loss, metrics=['mse', 'mae', 'accuracy'])#, metrics=metrics)"
   ]
  },
  {
   "cell_type": "code",
   "execution_count": 62,
   "metadata": {},
   "outputs": [],
   "source": [
    "batch_size = 16\n",
    "# n epochs = n iterations over all the training data\n",
    "epochs = 50"
   ]
  },
  {
   "cell_type": "code",
   "execution_count": 63,
   "metadata": {
    "scrolled": true
   },
   "outputs": [
    {
     "name": "stdout",
     "output_type": "stream",
     "text": [
      "Train on 83 samples, validate on 17 samples\n",
      "Epoch 1/50\n",
      "83/83 [==============================] - 1s 10ms/step - loss: 0.6919 - mean_squared_error: 0.2494 - mean_absolute_error: 0.4992 - acc: 0.5438 - val_loss: 0.6834 - val_mean_squared_error: 0.2451 - val_mean_absolute_error: 0.4938 - val_acc: 0.5894\n",
      "Epoch 2/50\n",
      "83/83 [==============================] - 0s 6ms/step - loss: 0.6816 - mean_squared_error: 0.2441 - mean_absolute_error: 0.4873 - acc: 0.5812 - val_loss: 0.6610 - val_mean_squared_error: 0.2340 - val_mean_absolute_error: 0.4775 - val_acc: 0.6588\n",
      "Epoch 3/50\n",
      "83/83 [==============================] - 0s 6ms/step - loss: 0.6610 - mean_squared_error: 0.2342 - mean_absolute_error: 0.4739 - acc: 0.6207 - val_loss: 0.6312 - val_mean_squared_error: 0.2194 - val_mean_absolute_error: 0.4490 - val_acc: 0.7078\n",
      "Epoch 4/50\n",
      "83/83 [==============================] - 0s 6ms/step - loss: 0.6366 - mean_squared_error: 0.2226 - mean_absolute_error: 0.4492 - acc: 0.6459 - val_loss: 0.6091 - val_mean_squared_error: 0.2086 - val_mean_absolute_error: 0.4211 - val_acc: 0.7161\n",
      "Epoch 5/50\n",
      "83/83 [==============================] - 0s 6ms/step - loss: 0.6212 - mean_squared_error: 0.2153 - mean_absolute_error: 0.4281 - acc: 0.6534 - val_loss: 0.5979 - val_mean_squared_error: 0.2038 - val_mean_absolute_error: 0.4228 - val_acc: 0.7220\n",
      "Epoch 6/50\n",
      "83/83 [==============================] - 0s 5ms/step - loss: 0.6103 - mean_squared_error: 0.2108 - mean_absolute_error: 0.4280 - acc: 0.6575 - val_loss: 0.5853 - val_mean_squared_error: 0.1970 - val_mean_absolute_error: 0.3842 - val_acc: 0.7220\n",
      "Epoch 7/50\n",
      "83/83 [==============================] - 0s 5ms/step - loss: 0.6037 - mean_squared_error: 0.2075 - mean_absolute_error: 0.4102 - acc: 0.6593 - val_loss: 0.5827 - val_mean_squared_error: 0.1975 - val_mean_absolute_error: 0.4127 - val_acc: 0.7216\n",
      "Epoch 8/50\n",
      "83/83 [==============================] - 0s 5ms/step - loss: 0.6028 - mean_squared_error: 0.2080 - mean_absolute_error: 0.4204 - acc: 0.6609 - val_loss: 0.5819 - val_mean_squared_error: 0.1944 - val_mean_absolute_error: 0.3664 - val_acc: 0.7220\n",
      "Epoch 9/50\n",
      "83/83 [==============================] - 0s 5ms/step - loss: 0.6002 - mean_squared_error: 0.2064 - mean_absolute_error: 0.4084 - acc: 0.6612 - val_loss: 0.5789 - val_mean_squared_error: 0.1960 - val_mean_absolute_error: 0.4072 - val_acc: 0.7224\n",
      "Epoch 10/50\n",
      "83/83 [==============================] - 0s 5ms/step - loss: 0.5967 - mean_squared_error: 0.2055 - mean_absolute_error: 0.4145 - acc: 0.6628 - val_loss: 0.5800 - val_mean_squared_error: 0.1950 - val_mean_absolute_error: 0.3728 - val_acc: 0.7227\n",
      "Epoch 11/50\n",
      "83/83 [==============================] - 0s 5ms/step - loss: 0.5954 - mean_squared_error: 0.2048 - mean_absolute_error: 0.4089 - acc: 0.6644 - val_loss: 0.5736 - val_mean_squared_error: 0.1937 - val_mean_absolute_error: 0.3949 - val_acc: 0.7220\n",
      "Epoch 12/50\n",
      "83/83 [==============================] - 1s 6ms/step - loss: 0.5935 - mean_squared_error: 0.2043 - mean_absolute_error: 0.4097 - acc: 0.6718 - val_loss: 0.5741 - val_mean_squared_error: 0.1930 - val_mean_absolute_error: 0.3775 - val_acc: 0.7227\n",
      "Epoch 13/50\n",
      "83/83 [==============================] - 0s 6ms/step - loss: 0.5935 - mean_squared_error: 0.2043 - mean_absolute_error: 0.4092 - acc: 0.6755 - val_loss: 0.5723 - val_mean_squared_error: 0.1928 - val_mean_absolute_error: 0.3861 - val_acc: 0.7227\n",
      "Epoch 14/50\n",
      "83/83 [==============================] - 0s 6ms/step - loss: 0.5922 - mean_squared_error: 0.2035 - mean_absolute_error: 0.4077 - acc: 0.6773 - val_loss: 0.5721 - val_mean_squared_error: 0.1926 - val_mean_absolute_error: 0.3814 - val_acc: 0.7227\n",
      "Epoch 15/50\n",
      "83/83 [==============================] - 0s 5ms/step - loss: 0.5893 - mean_squared_error: 0.2024 - mean_absolute_error: 0.4074 - acc: 0.6843 - val_loss: 0.5736 - val_mean_squared_error: 0.1933 - val_mean_absolute_error: 0.3813 - val_acc: 0.7180\n",
      "Epoch 16/50\n",
      "83/83 [==============================] - 0s 5ms/step - loss: 0.5880 - mean_squared_error: 0.2016 - mean_absolute_error: 0.4027 - acc: 0.6836 - val_loss: 0.5741 - val_mean_squared_error: 0.1940 - val_mean_absolute_error: 0.3884 - val_acc: 0.7169\n",
      "Epoch 17/50\n",
      "83/83 [==============================] - 0s 5ms/step - loss: 0.5817 - mean_squared_error: 0.1991 - mean_absolute_error: 0.4000 - acc: 0.6898 - val_loss: 0.5738 - val_mean_squared_error: 0.1936 - val_mean_absolute_error: 0.3839 - val_acc: 0.7141\n",
      "Epoch 18/50\n",
      "83/83 [==============================] - 1s 8ms/step - loss: 0.5812 - mean_squared_error: 0.1987 - mean_absolute_error: 0.3951 - acc: 0.6929 - val_loss: 0.5720 - val_mean_squared_error: 0.1929 - val_mean_absolute_error: 0.3858 - val_acc: 0.7196\n",
      "Epoch 19/50\n",
      "83/83 [==============================] - 0s 6ms/step - loss: 0.5792 - mean_squared_error: 0.1980 - mean_absolute_error: 0.3995 - acc: 0.6939 - val_loss: 0.5719 - val_mean_squared_error: 0.1930 - val_mean_absolute_error: 0.3847 - val_acc: 0.7220\n",
      "Epoch 20/50\n",
      "83/83 [==============================] - 1s 6ms/step - loss: 0.5739 - mean_squared_error: 0.1957 - mean_absolute_error: 0.3959 - acc: 0.6979 - val_loss: 0.5757 - val_mean_squared_error: 0.1932 - val_mean_absolute_error: 0.3677 - val_acc: 0.7220\n",
      "Epoch 21/50\n",
      "83/83 [==============================] - 0s 6ms/step - loss: 0.5708 - mean_squared_error: 0.1945 - mean_absolute_error: 0.3888 - acc: 0.6993 - val_loss: 0.5710 - val_mean_squared_error: 0.1923 - val_mean_absolute_error: 0.3813 - val_acc: 0.7220\n",
      "Epoch 22/50\n",
      "83/83 [==============================] - 0s 6ms/step - loss: 0.5673 - mean_squared_error: 0.1930 - mean_absolute_error: 0.3885 - acc: 0.7022 - val_loss: 0.5708 - val_mean_squared_error: 0.1925 - val_mean_absolute_error: 0.3835 - val_acc: 0.7224\n",
      "Epoch 23/50\n",
      "83/83 [==============================] - 1s 6ms/step - loss: 0.5623 - mean_squared_error: 0.1912 - mean_absolute_error: 0.3838 - acc: 0.7049 - val_loss: 0.5713 - val_mean_squared_error: 0.1926 - val_mean_absolute_error: 0.3825 - val_acc: 0.7235\n",
      "Epoch 24/50\n",
      "83/83 [==============================] - 1s 6ms/step - loss: 0.5587 - mean_squared_error: 0.1898 - mean_absolute_error: 0.3787 - acc: 0.7078 - val_loss: 0.5707 - val_mean_squared_error: 0.1921 - val_mean_absolute_error: 0.3821 - val_acc: 0.7247\n",
      "Epoch 25/50\n",
      "83/83 [==============================] - 1s 7ms/step - loss: 0.5537 - mean_squared_error: 0.1882 - mean_absolute_error: 0.3812 - acc: 0.7086 - val_loss: 0.5711 - val_mean_squared_error: 0.1919 - val_mean_absolute_error: 0.3741 - val_acc: 0.7255\n",
      "Epoch 26/50\n",
      "83/83 [==============================] - 1s 6ms/step - loss: 0.5502 - mean_squared_error: 0.1867 - mean_absolute_error: 0.3746 - acc: 0.7108 - val_loss: 0.5694 - val_mean_squared_error: 0.1914 - val_mean_absolute_error: 0.3746 - val_acc: 0.7267\n",
      "Epoch 27/50\n",
      "83/83 [==============================] - 1s 6ms/step - loss: 0.5455 - mean_squared_error: 0.1847 - mean_absolute_error: 0.3724 - acc: 0.7178 - val_loss: 0.5663 - val_mean_squared_error: 0.1902 - val_mean_absolute_error: 0.3782 - val_acc: 0.7278\n",
      "Epoch 28/50\n",
      "83/83 [==============================] - 1s 6ms/step - loss: 0.5429 - mean_squared_error: 0.1836 - mean_absolute_error: 0.3672 - acc: 0.7201 - val_loss: 0.5671 - val_mean_squared_error: 0.1909 - val_mean_absolute_error: 0.3831 - val_acc: 0.7255\n",
      "Epoch 29/50\n",
      "83/83 [==============================] - 1s 7ms/step - loss: 0.5336 - mean_squared_error: 0.1802 - mean_absolute_error: 0.3648 - acc: 0.7266 - val_loss: 0.5645 - val_mean_squared_error: 0.1890 - val_mean_absolute_error: 0.3705 - val_acc: 0.7325\n",
      "Epoch 30/50\n",
      "83/83 [==============================] - 1s 7ms/step - loss: 0.5302 - mean_squared_error: 0.1789 - mean_absolute_error: 0.3596 - acc: 0.7283 - val_loss: 0.5650 - val_mean_squared_error: 0.1896 - val_mean_absolute_error: 0.3732 - val_acc: 0.7294\n",
      "Epoch 31/50\n",
      "83/83 [==============================] - 1s 6ms/step - loss: 0.5243 - mean_squared_error: 0.1767 - mean_absolute_error: 0.3542 - acc: 0.7290 - val_loss: 0.5650 - val_mean_squared_error: 0.1882 - val_mean_absolute_error: 0.3657 - val_acc: 0.7314\n",
      "Epoch 32/50\n",
      "83/83 [==============================] - 1s 6ms/step - loss: 0.5151 - mean_squared_error: 0.1731 - mean_absolute_error: 0.3460 - acc: 0.7384 - val_loss: 0.5625 - val_mean_squared_error: 0.1885 - val_mean_absolute_error: 0.3735 - val_acc: 0.7318\n"
     ]
    },
    {
     "name": "stdout",
     "output_type": "stream",
     "text": [
      "Epoch 33/50\n",
      "83/83 [==============================] - 0s 5ms/step - loss: 0.5105 - mean_squared_error: 0.1706 - mean_absolute_error: 0.3480 - acc: 0.7413 - val_loss: 0.5630 - val_mean_squared_error: 0.1870 - val_mean_absolute_error: 0.3595 - val_acc: 0.7353\n",
      "Epoch 34/50\n",
      "83/83 [==============================] - 0s 5ms/step - loss: 0.4995 - mean_squared_error: 0.1668 - mean_absolute_error: 0.3314 - acc: 0.7500 - val_loss: 0.5634 - val_mean_squared_error: 0.1886 - val_mean_absolute_error: 0.3666 - val_acc: 0.7251\n",
      "Epoch 35/50\n",
      "83/83 [==============================] - 0s 5ms/step - loss: 0.4966 - mean_squared_error: 0.1658 - mean_absolute_error: 0.3356 - acc: 0.7524 - val_loss: 0.5600 - val_mean_squared_error: 0.1876 - val_mean_absolute_error: 0.3696 - val_acc: 0.7263\n",
      "Epoch 36/50\n",
      "83/83 [==============================] - 0s 5ms/step - loss: 0.4879 - mean_squared_error: 0.1623 - mean_absolute_error: 0.3256 - acc: 0.7566 - val_loss: 0.5697 - val_mean_squared_error: 0.1911 - val_mean_absolute_error: 0.3677 - val_acc: 0.7227\n",
      "Epoch 37/50\n",
      "83/83 [==============================] - 0s 5ms/step - loss: 0.4832 - mean_squared_error: 0.1607 - mean_absolute_error: 0.3228 - acc: 0.7598 - val_loss: 0.5635 - val_mean_squared_error: 0.1883 - val_mean_absolute_error: 0.3632 - val_acc: 0.7255\n",
      "Epoch 38/50\n",
      "83/83 [==============================] - 0s 5ms/step - loss: 0.4727 - mean_squared_error: 0.1568 - mean_absolute_error: 0.3176 - acc: 0.7640 - val_loss: 0.5718 - val_mean_squared_error: 0.1917 - val_mean_absolute_error: 0.3677 - val_acc: 0.7129\n",
      "Epoch 39/50\n",
      "83/83 [==============================] - 0s 5ms/step - loss: 0.4698 - mean_squared_error: 0.1558 - mean_absolute_error: 0.3136 - acc: 0.7692 - val_loss: 0.5695 - val_mean_squared_error: 0.1885 - val_mean_absolute_error: 0.3507 - val_acc: 0.7243\n",
      "Epoch 40/50\n",
      "83/83 [==============================] - 0s 5ms/step - loss: 0.4638 - mean_squared_error: 0.1534 - mean_absolute_error: 0.3078 - acc: 0.7733 - val_loss: 0.5627 - val_mean_squared_error: 0.1872 - val_mean_absolute_error: 0.3554 - val_acc: 0.7333\n",
      "Epoch 41/50\n",
      "83/83 [==============================] - 0s 5ms/step - loss: 0.4566 - mean_squared_error: 0.1504 - mean_absolute_error: 0.3057 - acc: 0.7772 - val_loss: 0.5667 - val_mean_squared_error: 0.1896 - val_mean_absolute_error: 0.3632 - val_acc: 0.7212\n",
      "Epoch 42/50\n",
      "83/83 [==============================] - 1s 7ms/step - loss: 0.4476 - mean_squared_error: 0.1474 - mean_absolute_error: 0.2917 - acc: 0.7810 - val_loss: 0.5742 - val_mean_squared_error: 0.1910 - val_mean_absolute_error: 0.3569 - val_acc: 0.7141\n",
      "Epoch 43/50\n",
      "83/83 [==============================] - 0s 5ms/step - loss: 0.4386 - mean_squared_error: 0.1444 - mean_absolute_error: 0.2929 - acc: 0.7839 - val_loss: 0.5671 - val_mean_squared_error: 0.1867 - val_mean_absolute_error: 0.3460 - val_acc: 0.7267\n",
      "Epoch 44/50\n",
      "83/83 [==============================] - 0s 6ms/step - loss: 0.4372 - mean_squared_error: 0.1438 - mean_absolute_error: 0.2931 - acc: 0.7855 - val_loss: 0.5742 - val_mean_squared_error: 0.1893 - val_mean_absolute_error: 0.3470 - val_acc: 0.7251\n",
      "Epoch 45/50\n",
      "83/83 [==============================] - 0s 6ms/step - loss: 0.4244 - mean_squared_error: 0.1389 - mean_absolute_error: 0.2831 - acc: 0.7938 - val_loss: 0.5805 - val_mean_squared_error: 0.1954 - val_mean_absolute_error: 0.3611 - val_acc: 0.7071\n",
      "Epoch 46/50\n",
      "83/83 [==============================] - 0s 5ms/step - loss: 0.4200 - mean_squared_error: 0.1376 - mean_absolute_error: 0.2725 - acc: 0.7969 - val_loss: 0.5972 - val_mean_squared_error: 0.1933 - val_mean_absolute_error: 0.3385 - val_acc: 0.7224\n",
      "Epoch 47/50\n",
      "83/83 [==============================] - 0s 5ms/step - loss: 0.4029 - mean_squared_error: 0.1312 - mean_absolute_error: 0.2643 - acc: 0.8094 - val_loss: 0.5841 - val_mean_squared_error: 0.1934 - val_mean_absolute_error: 0.3463 - val_acc: 0.7204\n",
      "Epoch 48/50\n",
      "83/83 [==============================] - 0s 5ms/step - loss: 0.3971 - mean_squared_error: 0.1290 - mean_absolute_error: 0.2603 - acc: 0.8114 - val_loss: 0.5874 - val_mean_squared_error: 0.1934 - val_mean_absolute_error: 0.3495 - val_acc: 0.7208\n",
      "Epoch 49/50\n",
      "83/83 [==============================] - 0s 5ms/step - loss: 0.3940 - mean_squared_error: 0.1280 - mean_absolute_error: 0.2575 - acc: 0.8137 - val_loss: 0.5866 - val_mean_squared_error: 0.1903 - val_mean_absolute_error: 0.3372 - val_acc: 0.7290\n",
      "Epoch 50/50\n",
      "83/83 [==============================] - 0s 6ms/step - loss: 0.3793 - mean_squared_error: 0.1231 - mean_absolute_error: 0.2482 - acc: 0.8181 - val_loss: 0.6008 - val_mean_squared_error: 0.1951 - val_mean_absolute_error: 0.3377 - val_acc: 0.7180\n"
     ]
    }
   ],
   "source": [
    "callbacks = []\n",
    "callbacks = [TensorBoard(log_dir=config.tmp_log_dir)]\n",
    "vs = 1/6\n",
    "m = 100\n",
    "# model.fit(x_train, y_train, epochs=epochs, batch_size=batch_size, callbacks=[TensorBoard(log_dir=config.tmp_log_dir)])\n",
    "history = model.fit(x_train[:m],x_train[:m], epochs=epochs, batch_size=batch_size,\n",
    "          validation_split=vs, callbacks=callbacks)"
   ]
  },
  {
   "cell_type": "code",
   "execution_count": 64,
   "metadata": {},
   "outputs": [
    {
     "data": {
      "text/plain": [
       "[<matplotlib.lines.Line2D at 0x123e05128>]"
      ]
     },
     "execution_count": 64,
     "metadata": {},
     "output_type": "execute_result"
    },
    {
     "data": {
      "image/png": "[encoded data removed]",
      "text/plain": [
       "<matplotlib.figure.Figure at 0x123cfa9e8>"
      ]
     },
     "metadata": {},
     "output_type": "display_data"
    }
   ],
   "source": [
    "plt.plot(history.history['loss'])\n",
    "plt.plot(history.history['val_loss'])"
   ]
  },
  {
   "cell_type": "code",
   "execution_count": 65,
   "metadata": {},
   "outputs": [
    {
     "data": {
      "text/plain": [
       "[<matplotlib.lines.Line2D at 0x1280708d0>]"
      ]
     },
     "execution_count": 65,
     "metadata": {},
     "output_type": "execute_result"
    },
    {
     "data": {
      "image/png": "[encoded data removed]",
      "text/plain": [
       "<matplotlib.figure.Figure at 0x1280707f0>"
      ]
     },
     "metadata": {},
     "output_type": "display_data"
    }
   ],
   "source": [
    "plt.plot(history.history['acc'])\n",
    "plt.plot(history.history['val_acc'])"
   ]
  },
  {
   "cell_type": "code",
   "execution_count": 66,
   "metadata": {},
   "outputs": [
    {
     "data": {
      "text/plain": [
       "[<matplotlib.lines.Line2D at 0x1280bb898>]"
      ]
     },
     "execution_count": 66,
     "metadata": {},
     "output_type": "execute_result"
    },
    {
     "data": {
      "image/png": "[encoded data removed]",
      "text/plain": [
       "<matplotlib.figure.Figure at 0x1280bb860>"
      ]
     },
     "metadata": {},
     "output_type": "display_data"
    }
   ],
   "source": [
    "plt.plot(history.history['mean_absolute_error'])\n",
    "plt.plot(history.history['val_mean_absolute_error'])"
   ]
  },
  {
   "cell_type": "code",
   "execution_count": 67,
   "metadata": {},
   "outputs": [
    {
     "data": {
      "text/plain": [
       "(10, 150, 1)"
      ]
     },
     "execution_count": 67,
     "metadata": {},
     "output_type": "execute_result"
    }
   ],
   "source": [
    "results = model.predict(x_train[:10])\n",
    "results.shape"
   ]
  },
  {
   "cell_type": "code",
   "execution_count": 68,
   "metadata": {},
   "outputs": [
    {
     "data": {
      "text/plain": [
       "(0, 1)"
      ]
     },
     "execution_count": 68,
     "metadata": {},
     "output_type": "execute_result"
    },
    {
     "data": {
      "image/png": "[encoded data removed]",
      "text/plain": [
       "<matplotlib.figure.Figure at 0x128053e10>"
      ]
     },
     "metadata": {},
     "output_type": "display_data"
    }
   ],
   "source": [
    "n1 = 30\n",
    "i = 0\n",
    "plt.subplot(211)\n",
    "plt.plot(np.arange(n1), results[i][:n1])\n",
    "plt.plot([0.5] * n1) # midi.MIDI_NOISE_FLOOR\n",
    "plt.ylim(ymin=0, ymax=1)\n",
    "plt.subplot(212)\n",
    "\n",
    "plt.plot(np.arange(n1), x_train[i, :n1])\n",
    "plt.plot([0.5] * n1) # midi.MIDI_NOISE_FLOOR\n",
    "plt.ylim(ymin=0, ymax=1)"
   ]
  },
  {
   "cell_type": "code",
   "execution_count": null,
   "metadata": {},
   "outputs": [],
   "source": []
  },
  {
   "cell_type": "code",
   "execution_count": null,
   "metadata": {},
   "outputs": [],
   "source": []
  },
  {
   "cell_type": "code",
   "execution_count": null,
   "metadata": {},
   "outputs": [],
   "source": []
  },
  {
   "cell_type": "code",
   "execution_count": 20,
   "metadata": {},
   "outputs": [
    {
     "ename": "NameError",
     "evalue": "name 'result' is not defined",
     "output_type": "error",
     "traceback": [
      "\u001b[0;31m---------------------------------------------------------------------------\u001b[0m",
      "\u001b[0;31mNameError\u001b[0m                                 Traceback (most recent call last)",
      "\u001b[0;32m<ipython-input-20-63e89fd5a540>\u001b[0m in \u001b[0;36m<module>\u001b[0;34m()\u001b[0m\n\u001b[0;32m----> 1\u001b[0;31m \u001b[0mmid\u001b[0m \u001b[0;34m=\u001b[0m \u001b[0mmidi\u001b[0m\u001b[0;34m.\u001b[0m\u001b[0mdecode_track\u001b[0m\u001b[0;34m(\u001b[0m\u001b[0mcontext\u001b[0m\u001b[0;34m,\u001b[0m \u001b[0mresult\u001b[0m\u001b[0;34m)\u001b[0m\u001b[0;34m\u001b[0m\u001b[0m\n\u001b[0m\u001b[1;32m      2\u001b[0m \u001b[0mdn\u001b[0m \u001b[0;34m=\u001b[0m \u001b[0mconfig\u001b[0m\u001b[0;34m.\u001b[0m\u001b[0mdataset_dir\u001b[0m\u001b[0;34m\u001b[0m\u001b[0m\n\u001b[1;32m      3\u001b[0m \u001b[0;31m# io.export_midifile(mid, dn + 'song_seq-seq.mid')\u001b[0m\u001b[0;34m\u001b[0m\u001b[0;34m\u001b[0m\u001b[0m\n",
      "\u001b[0;31mNameError\u001b[0m: name 'result' is not defined"
     ]
    }
   ],
   "source": [
    "mid = midi.decode_track(context, result)\n",
    "dn = config.dataset_dir\n",
    "# io.export_midifile(mid, dn + 'song_seq-seq.mid')"
   ]
  },
  {
   "cell_type": "code",
   "execution_count": null,
   "metadata": {},
   "outputs": [],
   "source": [
    "results = []\n",
    "latent_samples = []\n",
    "for seq in x_test[-2:]:\n",
    "    encoded = encode_sequence(np.stack([seq]))\n",
    "    latent_samples.append(encoded)\n",
    "    result = decode_sequence(encoded, encoder_model, decoder_model)\n",
    "    results.append(result)\n",
    "results[0].shape"
   ]
  },
  {
   "cell_type": "code",
   "execution_count": null,
   "metadata": {},
   "outputs": [],
   "source": [
    "len(encoded)"
   ]
  },
  {
   "cell_type": "code",
   "execution_count": null,
   "metadata": {},
   "outputs": [],
   "source": [
    "encoded[0].shape"
   ]
  },
  {
   "cell_type": "code",
   "execution_count": null,
   "metadata": {},
   "outputs": [],
   "source": [
    "plt.plot(encoded[0][0,:10])\n",
    "plt.plot(encoded[1][0,:10])"
   ]
  },
  {
   "cell_type": "code",
   "execution_count": null,
   "metadata": {},
   "outputs": [],
   "source": [
    "e = np.array(latent_samples)\n",
    "e.shape"
   ]
  },
  {
   "cell_type": "code",
   "execution_count": null,
   "metadata": {},
   "outputs": [],
   "source": [
    "# reduce dimensionality\n",
    "# e = e.reshape(e.shape[0],2,e.shape[-1])\n",
    "e.shape"
   ]
  },
  {
   "cell_type": "code",
   "execution_count": null,
   "metadata": {},
   "outputs": [],
   "source": [
    "e1.mean(axis=0).shape"
   ]
  },
  {
   "cell_type": "code",
   "execution_count": null,
   "metadata": {},
   "outputs": [],
   "source": [
    "# new = e.transpose().mean(axis=1).transpose()\n",
    "e1 = e[:,0] # state h\n",
    "e2 = e[:,1] # state c\n",
    "new = [e1.mean(axis=0), e2.mean(axis=0)]\n",
    "# new = [[e[:,i].mean(axis=0)] for i in [0,1]]\n",
    "plt.plot(new[0][0][:10])\n",
    "len(new)"
   ]
  },
  {
   "cell_type": "code",
   "execution_count": null,
   "metadata": {},
   "outputs": [],
   "source": [
    "e1.mean(axis=0).shape"
   ]
  },
  {
   "cell_type": "code",
   "execution_count": null,
   "metadata": {},
   "outputs": [],
   "source": [
    "l[0].shape"
   ]
  },
  {
   "cell_type": "code",
   "execution_count": null,
   "metadata": {},
   "outputs": [],
   "source": [
    "l = latent_samples[0]\n",
    "len(l) # latent_sample :: (x,1,64)"
   ]
  },
  {
   "cell_type": "code",
   "execution_count": null,
   "metadata": {},
   "outputs": [],
   "source": [
    "# new_ = decode_sequence(latent_samples[0], encoder_model, decoder_model)\n",
    "new_ = decode_sequence(new, encoder_model, decoder_model)"
   ]
  },
  {
   "cell_type": "code",
   "execution_count": null,
   "metadata": {},
   "outputs": [],
   "source": [
    "new_.shape"
   ]
  },
  {
   "cell_type": "code",
   "execution_count": null,
   "metadata": {},
   "outputs": [],
   "source": [
    "plt.plot(new_[:100])"
   ]
  },
  {
   "cell_type": "code",
   "execution_count": null,
   "metadata": {},
   "outputs": [],
   "source": [
    "plt.plot(results[0][:100])"
   ]
  },
  {
   "cell_type": "code",
   "execution_count": null,
   "metadata": {},
   "outputs": [],
   "source": [
    "# results[0]"
   ]
  },
  {
   "cell_type": "code",
   "execution_count": null,
   "metadata": {},
   "outputs": [],
   "source": [
    "mid_new = midi.decode_track(context, results[0])\n",
    "io.export_midifile(mid_new, config.export_dir + 'real_mid_new_lstm.mid')"
   ]
  },
  {
   "cell_type": "code",
   "execution_count": null,
   "metadata": {},
   "outputs": [],
   "source": []
  },
  {
   "cell_type": "code",
   "execution_count": null,
   "metadata": {},
   "outputs": [],
   "source": []
  },
  {
   "cell_type": "code",
   "execution_count": null,
   "metadata": {},
   "outputs": [],
   "source": []
  },
  {
   "cell_type": "code",
   "execution_count": null,
   "metadata": {},
   "outputs": [],
   "source": []
  },
  {
   "cell_type": "code",
   "execution_count": null,
   "metadata": {},
   "outputs": [],
   "source": []
  },
  {
   "cell_type": "markdown",
   "metadata": {},
   "source": [
    "## Alt\n",
    "Without teacher forcing https://blog.keras.io/a-ten-minute-introduction-to-sequence-to-sequence-learning-in-keras.html\n",
    "\n",
    "\n",
    "<i>\"In some niche cases you may not be able to use teacher forcing, because you don't have access to the full target sequences, e.g. if you are doing online training on very long sequences, where buffering complete input-target pairs would be impossible. In that case, you may want to do training by reinjecting the decoder's predictions into the decoder's input, just like we were doing for inference.\n",
    "\n",
    "You can achieve this by building a model that hard-codes the output reinjection loop: \"</i>"
   ]
  },
  {
   "cell_type": "code",
   "execution_count": null,
   "metadata": {},
   "outputs": [],
   "source": [
    "from keras.layers import Lambda\n",
    "from keras import backend as K\n",
    "\n",
    "# The first part is unchanged\n",
    "encoder_inputs = Input(shape=(None, num_encoder_tokens))\n",
    "encoder = LSTM(latent_dim, return_state=True)\n",
    "_, state_h, state_c = encoder(encoder_inputs)\n",
    "states = [state_h, state_c]\n",
    "\n",
    "# Set up the decoder, which will only process one timestep at a time.\n",
    "decoder_inputs = Input(shape=(1, num_decoder_tokens))\n",
    "decoder_lstm = LSTM(latent_dim, return_sequences=True, return_state=True)\n",
    "# output will be a probability distribution over the vectors\n",
    "decoder_dense = Dense(num_decoder_tokens, activation='softmax')\n",
    "\n",
    "all_outputs = []\n",
    "inputs = decoder_inputs\n",
    "max_decoder_seq_length = 100\n",
    "for _ in range(max_decoder_seq_length):\n",
    "    # Run the decoder on one timestep\n",
    "    outputs, state_h, state_c = decoder_lstm(inputs,\n",
    "                                             initial_state=states)\n",
    "    outputs = decoder_dense(outputs)\n",
    "    # Store the current prediction (we will concatenate all predictions later)\n",
    "    all_outputs.append(outputs)\n",
    "    # Reinject the outputs as inputs for the next loop iteration\n",
    "    # as well as update the states\n",
    "    inputs = outputs\n",
    "    states = [state_h, state_c]\n",
    "\n",
    "# Concatenate all predictions\n",
    "decoder_outputs = Lambda(lambda x: K.concatenate(x, axis=1))(all_outputs)\n",
    "\n",
    "# Define and compile model as previously\n",
    "model = Model([encoder_inputs, decoder_inputs], decoder_outputs)\n",
    "model.summary()"
   ]
  },
  {
   "cell_type": "code",
   "execution_count": null,
   "metadata": {},
   "outputs": [],
   "source": [
    "model.compile(optimizer='rmsprop', loss='categorical_crossentropy')\n",
    "\n",
    "# Prepare decoder input data that just contains the start character\n",
    "# Note that we could have made it a constant hard-coded in the model\n",
    "decoder_input_data = np.zeros((x_train.shape[0], 1, num_decoder_tokens))\n",
    "\n",
    "# Train model as previously\n",
    "model.fit([x_train,y_train], z_train, epochs=10, batch_size=batch_size,\n",
    "          validation_split=0.2, callbacks=callbacks)"
   ]
  },
  {
   "cell_type": "code",
   "execution_count": null,
   "metadata": {},
   "outputs": [],
   "source": []
  },
  {
   "cell_type": "code",
   "execution_count": null,
   "metadata": {},
   "outputs": [],
   "source": []
  },
  {
   "cell_type": "code",
   "execution_count": null,
   "metadata": {},
   "outputs": [],
   "source": []
  },
  {
   "cell_type": "code",
   "execution_count": null,
   "metadata": {},
   "outputs": [],
   "source": []
  },
  {
   "cell_type": "code",
   "execution_count": null,
   "metadata": {},
   "outputs": [],
   "source": []
  },
  {
   "cell_type": "code",
   "execution_count": null,
   "metadata": {},
   "outputs": [],
   "source": []
  },
  {
   "cell_type": "code",
   "execution_count": null,
   "metadata": {},
   "outputs": [],
   "source": []
  },
  {
   "cell_type": "code",
   "execution_count": null,
   "metadata": {},
   "outputs": [],
   "source": []
  },
  {
   "cell_type": "code",
   "execution_count": null,
   "metadata": {},
   "outputs": [],
   "source": [
    "x_test.shape"
   ]
  },
  {
   "cell_type": "code",
   "execution_count": null,
   "metadata": {},
   "outputs": [],
   "source": [
    "# x_test, y_test = gen_xy_sin_to_f(3, f=2)"
   ]
  },
  {
   "cell_type": "code",
   "execution_count": null,
   "metadata": {
    "scrolled": true
   },
   "outputs": [],
   "source": [
    "results = model.predict([x_test,x_test])\n",
    "results.shape"
   ]
  },
  {
   "cell_type": "code",
   "execution_count": null,
   "metadata": {},
   "outputs": [],
   "source": [
    "# the 'true' results\n",
    "i = 0\n",
    "selection = int(x_test.shape[1] * 1)\n",
    "full = np.concatenate([x_test[i,-selection:],y_test[i]])\n",
    "n3 = full.shape[0]\n",
    "plt.plot(np.arange(n3) / n3 * dt, full)"
   ]
  },
  {
   "cell_type": "code",
   "execution_count": null,
   "metadata": {},
   "outputs": [],
   "source": [
    "# predicted results\n",
    "i = 0\n",
    "full = np.concatenate([x_test[i,-selection:],results[i]])\n",
    "n3 = full.shape[0]\n",
    "plt.plot(np.arange(n3) / n3 * dt, full)"
   ]
  },
  {
   "cell_type": "code",
   "execution_count": null,
   "metadata": {},
   "outputs": [],
   "source": [
    "i = 2\n",
    "selection = int(x_test.shape[1] * 1)\n",
    "full = np.concatenate([x_test[i,-selection:],results[i]])\n",
    "n3 = full.shape[0]\n",
    "plt.plot(np.arange(n3) / n3 * dt, full)"
   ]
  },
  {
   "cell_type": "code",
   "execution_count": null,
   "metadata": {},
   "outputs": [],
   "source": [
    "i = 0\n",
    "selection = 1\n",
    "full = np.concatenate([x_test[i,-selection:],results[i]])\n",
    "n3 = full.shape[0]\n",
    "plt.plot(np.arange(n3) / n3 * dt, full)"
   ]
  },
  {
   "cell_type": "code",
   "execution_count": null,
   "metadata": {},
   "outputs": [],
   "source": []
  },
  {
   "cell_type": "code",
   "execution_count": null,
   "metadata": {},
   "outputs": [],
   "source": []
  },
  {
   "cell_type": "code",
   "execution_count": null,
   "metadata": {},
   "outputs": [],
   "source": []
  },
  {
   "cell_type": "code",
   "execution_count": null,
   "metadata": {},
   "outputs": [],
   "source": []
  },
  {
   "cell_type": "code",
   "execution_count": null,
   "metadata": {},
   "outputs": [],
   "source": []
  },
  {
   "cell_type": "code",
   "execution_count": null,
   "metadata": {},
   "outputs": [],
   "source": []
  }
 ],
 "metadata": {
  "kernelspec": {
   "display_name": "Python 3",
   "language": "python",
   "name": "python3"
  },
  "language_info": {
   "codemirror_mode": {
    "name": "ipython",
    "version": 3
   },
   "file_extension": ".py",
   "mimetype": "text/x-python",
   "name": "python",
   "nbconvert_exporter": "python",
   "pygments_lexer": "ipython3",
   "version": "3.6.5"
  }
 },
 "nbformat": 4,
 "nbformat_minor": 2
}
