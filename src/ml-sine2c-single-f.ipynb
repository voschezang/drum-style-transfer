{
 "cells": [
  {
   "cell_type": "code",
   "execution_count": 1,
   "metadata": {},
   "outputs": [],
   "source": [
    "import config\n",
    "import os, numpy as np, pandas, sklearn\n",
    "import mido\n",
    "import matplotlib.pyplot as plt\n",
    "%matplotlib inline"
   ]
  },
  {
   "cell_type": "code",
   "execution_count": 2,
   "metadata": {},
   "outputs": [
    {
     "name": "stderr",
     "output_type": "stream",
     "text": [
      "/Library/Frameworks/Python.framework/Versions/3.6/lib/python3.6/site-packages/h5py/__init__.py:36: FutureWarning: Conversion of the second argument of issubdtype from `float` to `np.floating` is deprecated. In future, it will be treated as `np.float64 == np.dtype(float).type`.\n",
      "  from ._conv import register_converters as _register_converters\n",
      "Using TensorFlow backend.\n"
     ]
    }
   ],
   "source": [
    "## NN libs\n",
    "from sklearn.decomposition import PCA\n",
    "from sklearn import preprocessing\n",
    "from sklearn.preprocessing import RobustScaler\n",
    "import keras\n",
    "from keras import regularizers\n",
    "from keras.utils import to_categorical\n",
    "from keras.models import Sequential\n",
    "from keras.optimizers import SGD, Adam\n",
    "from keras.layers import Input, Dense, Activation, Conv1D, Conv2D, Dropout, Flatten\n",
    "from keras.layers import Conv2DTranspose, Reshape, MaxPooling2D, UpSampling2D, UpSampling1D, MaxPooling1D\n",
    "from keras.layers import LocallyConnected1D, LocallyConnected2D\n",
    "from keras.layers import Input, LSTM, RepeatVector\n",
    "from keras.models import Model\n",
    "from keras.callbacks import TensorBoard"
   ]
  },
  {
   "cell_type": "code",
   "execution_count": 3,
   "metadata": {},
   "outputs": [
    {
     "name": "stdout",
     "output_type": "stream",
     "text": [
      " Context :: namedtuple(\n",
      "[ max_t = float\n",
      ", dt = float\n",
      ", n_instances = int\n",
      ", note_length = int\n",
      ", bpm = float\n",
      ", tempo = float\n",
      ", ticks_per_beat = int\n",
      "]\n",
      "\n"
     ]
    }
   ],
   "source": [
    "# local libs\n",
    "import config, models, functions\n",
    "from data import data, midi, midi_generators as g\n",
    "from utils import io, models_io"
   ]
  },
  {
   "cell_type": "code",
   "execution_count": 4,
   "metadata": {
    "scrolled": true
   },
   "outputs": [
    {
     "name": "stdout",
     "output_type": "stream",
     "text": [
      "Setting up params\n",
      "\n",
      " >> Context(max_t=3.0, dt=0.1, n_instances=30, note_length=0.03, bpm=120.0, tempo=500000, ticks_per_beat=480)\n"
     ]
    }
   ],
   "source": [
    "context = data.init()"
   ]
  },
  {
   "cell_type": "code",
   "execution_count": 5,
   "metadata": {},
   "outputs": [],
   "source": [
    "# fn = (config.dataset_dir + '4-floor-120bpm.mid')\n",
    "# mid = io.import_midifile(fn)"
   ]
  },
  {
   "cell_type": "markdown",
   "metadata": {},
   "source": [
    "## Setup a generator\n",
    "\n",
    "1. What is the least amount of 'hidden' nodes needed to learn a straight rythm (e.g. 8th notes with different frequencies)\n",
    "2. Can we create a model of a generic function sin(2 pi f t + phase)\n",
    "    - using x: t -> y: sin(2p t)\n",
    "    - using x: [f, t, phase] -> y: sin(2p f t + phase)\n",
    "    - using x: sin([t1, t2, t3) -> y: [f, t, phase]\n",
    "        - such a model should be able to learn complex patterns, such as sin(f1+p1) + sin(f2+p2) + sin(f3+p3)"
   ]
  },
  {
   "cell_type": "markdown",
   "metadata": {},
   "source": [
    "Here - decoder: x -> sin(x)"
   ]
  },
  {
   "cell_type": "code",
   "execution_count": 85,
   "metadata": {},
   "outputs": [],
   "source": [
    "def gen_xy(n=100):\n",
    "    x = np.random.random([n,1,1]) # e.g. sin(y) + cos(x)\n",
    "    return x, np.sin(x * np.pi * 2)\n",
    "\n",
    "def gen_xy2(n=10):\n",
    "    x_train = np.random.random((n,1))\n",
    "    y = x_train > 0.5\n",
    "    y_train = []\n",
    "    for yy in y:\n",
    "        if yy:\n",
    "            y_train.append([1,0])\n",
    "        else:\n",
    "            y_train.append([0,1])\n",
    "    return x_train, np.stack(y_train)\n",
    "    \n",
    "def gen_xy3(n=100):\n",
    "    # x -> sin(x)\n",
    "    xs = np.random.random((n,1))\n",
    "    x_train = xs.reshape(n,1)\n",
    "    range_ = 4 * np.pi # 0.5, * np.pi\n",
    "    f = 1\n",
    "    y_train = np.sin(x_train * range_ * f)\n",
    "    return x_train, y_train\n",
    "\n",
    "def gen_xy_sin_to_f(n_samples=100, n_t=100, f=2):\n",
    "    # x_train = array (unique_samples, x_over_t, x)\n",
    "    # y_train = array (unique_samples, x_over_t, sin(x))\n",
    "    dt = 0.01\n",
    "    phases = np.random.random(n_samples) * 2*np.pi\n",
    "    timesteps = np.arange(n_t) * dt\n",
    "    x_train = []\n",
    "    y_train = []    \n",
    "    for phase in phases:\n",
    "        x_train.append(phase + timesteps)\n",
    "\n",
    "    \n",
    "    for phase in phases:\n",
    "        y_train.append(sin_(n_t, f, phase))\n",
    "    \n",
    "    x_train = np.stack(x_train)\n",
    "    x_train = x_train.reshape(n_samples, n_t, 1) \n",
    "    y_train = np.stack(y_train)\n",
    "    y_train = y_train.reshape(n_samples, n_t, 1)\n",
    "    return x_train, y_train\n",
    "    \n",
    "def sin_(n, f, phase=0, dt=0.01):\n",
    "    ts = np.arange(n) * dt\n",
    "    return np.sin(2*np.pi * f * ts + phase)\n",
    "\n",
    "def sin_2(n, f, phase=0, dt=0.1):\n",
    "    ts = np.arange(n) * dt\n",
    "    results =  []\n",
    "    for t in ts:\n",
    "        t = np.sin(2*np.pi * f * t + phase)\n",
    "        results.append([t])\n",
    "    return np.stack(results)"
   ]
  },
  {
   "cell_type": "code",
   "execution_count": 86,
   "metadata": {},
   "outputs": [
    {
     "name": "stdout",
     "output_type": "stream",
     "text": [
      "(100, 100, 1) (100, 100, 1)\n"
     ]
    }
   ],
   "source": [
    "n = 100\n",
    "x_train, y_train = gen_xy_sin_to_f(n)\n",
    "# x_train, y_train = gen_xy3(n)\n",
    "\n",
    "x_test, y_test = gen_xy_sin_to_f(3)\n",
    "print(x_train.shape, y_train.shape)"
   ]
  },
  {
   "cell_type": "code",
   "execution_count": 27,
   "metadata": {},
   "outputs": [
    {
     "data": {
      "text/plain": [
       "[<matplotlib.lines.Line2D at 0x117e86f60>]"
      ]
     },
     "execution_count": 27,
     "metadata": {},
     "output_type": "execute_result"
    },
    {
     "data": {
      "image/png": "[encoded data removed]",
      "text/plain": [
       "<matplotlib.figure.Figure at 0x117def748>"
      ]
     },
     "metadata": {},
     "output_type": "display_data"
    }
   ],
   "source": [
    "plt.plot(x_train[0], y_train[0])"
   ]
  },
  {
   "cell_type": "code",
   "execution_count": 28,
   "metadata": {},
   "outputs": [],
   "source": [
    "# x_train = np.random.random((10,3))\n",
    "# y_train = np.random.random((10,1))"
   ]
  },
  {
   "cell_type": "code",
   "execution_count": 29,
   "metadata": {},
   "outputs": [
    {
     "data": {
      "text/plain": [
       "(100, 1)"
      ]
     },
     "execution_count": 29,
     "metadata": {},
     "output_type": "execute_result"
    }
   ],
   "source": [
    "n_samples = x_train[0]\n",
    "input_shape = x_train.shape[1:] # shape of a single sample\n",
    "output_shape = y_train.shape[1:] # shape of a single sample\n",
    "# output_length = y_train.shape[1:][0]\n",
    "hidden_layer_length = 10\n",
    "input_shape"
   ]
  },
  {
   "cell_type": "code",
   "execution_count": 30,
   "metadata": {},
   "outputs": [
    {
     "data": {
      "text/plain": [
       "(100, 1)"
      ]
     },
     "execution_count": 30,
     "metadata": {},
     "output_type": "execute_result"
    }
   ],
   "source": [
    "output_shape"
   ]
  },
  {
   "cell_type": "code",
   "execution_count": 135,
   "metadata": {
    "scrolled": false
   },
   "outputs": [
    {
     "name": "stdout",
     "output_type": "stream",
     "text": [
      "dims x = (None, 32)\n",
      "_________________________________________________________________\n",
      "Layer (type)                 Output Shape              Param #   \n",
      "=================================================================\n",
      "input_5 (InputLayer)         (None, None, 1)           0         \n",
      "_________________________________________________________________\n",
      "lstm_5 (LSTM)                [(None, 32), (None, 32),  4352      \n",
      "_________________________________________________________________\n",
      "dense_15 (Dense)             (None, 100)               3300      \n",
      "_________________________________________________________________\n",
      "dense_16 (Dense)             (None, 100)               10100     \n",
      "_________________________________________________________________\n",
      "dense_17 (Dense)             (None, 100)               10100     \n",
      "_________________________________________________________________\n",
      "dense_18 (Dense)             (None, 100)               10100     \n",
      "_________________________________________________________________\n",
      "dense_19 (Dense)             (None, 100)               10100     \n",
      "_________________________________________________________________\n",
      "reshape_5 (Reshape)          (None, 100, 1)            0         \n",
      "=================================================================\n",
      "Total params: 48,052\n",
      "Trainable params: 48,052\n",
      "Non-trainable params: 0\n",
      "_________________________________________________________________\n"
     ]
    }
   ],
   "source": [
    "def encoder(input_shape, output_shape):\n",
    "#     input_layer = Input(shape=input_shape)\n",
    "    # input shape = (None, None, 1)\n",
    "    # thus: unfixed n samples, unfixed n timesteps, 1 float value\n",
    "    input_layer = Input(shape=(None,1))\n",
    "    x = input_layer\n",
    "    \n",
    "    hidden_size = 32\n",
    "    xs = LSTM(hidden_size, return_state=True)(x)\n",
    "    x = xs[0]\n",
    "    print('dims x =', keras.backend.int_shape(x))\n",
    "    x = Dense(100, activation='relu')(x)\n",
    "    x = Dense(100, activation='sigmoid')(x)\n",
    "    x = Dense(100, activation='tanh')(x)\n",
    "    x = Dense(100, activation='relu')(x)    \n",
    "    \n",
    "    x = Dense(np.prod(output_shape), activation='sigmoid')(x)\n",
    "    x = Reshape(output_shape)(x)\n",
    "    model = Model(inputs=input_layer, outputs=x)\n",
    "    return model\n",
    "\n",
    "encoder = encoder(input_shape, output_shape)\n",
    "encoder.summary()"
   ]
  },
  {
   "cell_type": "code",
   "execution_count": 136,
   "metadata": {},
   "outputs": [],
   "source": [
    "metrics = ['accuracy','mse','binary_crossentropy'] # sparse_categorical_accuracy\n",
    "loss = 'binary_crossentropy'# binary_crossentropy categorical_crossentropy sparse_categorical_crossentropy\n",
    "optimizer = 'adam'\n",
    "encoder.compile(optimizer=optimizer, loss=loss, metrics=['mse'])#, metrics=metrics)"
   ]
  },
  {
   "cell_type": "code",
   "execution_count": 137,
   "metadata": {},
   "outputs": [],
   "source": [
    "batch_size = 16\n",
    "# n epochs = n iterations over all the training data\n",
    "epochs = 50"
   ]
  },
  {
   "cell_type": "code",
   "execution_count": 138,
   "metadata": {
    "scrolled": true
   },
   "outputs": [
    {
     "name": "stdout",
     "output_type": "stream",
     "text": [
      "Train on 83 samples, validate on 17 samples\n",
      "Epoch 1/50\n",
      "83/83 [==============================] - 1s 9ms/step - loss: 0.6307 - mean_squared_error: 0.7195 - val_loss: 0.5447 - val_mean_squared_error: 0.6801\n",
      "Epoch 2/50\n",
      "83/83 [==============================] - 0s 5ms/step - loss: 0.4883 - mean_squared_error: 0.6556 - val_loss: 0.3838 - val_mean_squared_error: 0.6164\n",
      "Epoch 3/50\n",
      "83/83 [==============================] - 0s 5ms/step - loss: 0.3294 - mean_squared_error: 0.5960 - val_loss: 0.2023 - val_mean_squared_error: 0.5605\n",
      "Epoch 4/50\n",
      "83/83 [==============================] - 0s 5ms/step - loss: 0.1596 - mean_squared_error: 0.5466 - val_loss: 0.0230 - val_mean_squared_error: 0.5217\n",
      "Epoch 5/50\n",
      "83/83 [==============================] - 0s 5ms/step - loss: 9.8984e-04 - mean_squared_error: 0.5142 - val_loss: -0.1355 - val_mean_squared_error: 0.5002\n",
      "Epoch 6/50\n",
      "83/83 [==============================] - 0s 5ms/step - loss: -0.1518 - mean_squared_error: 0.4973 - val_loss: -0.3068 - val_mean_squared_error: 0.4899\n",
      "Epoch 7/50\n",
      "83/83 [==============================] - 0s 5ms/step - loss: -0.3209 - mean_squared_error: 0.4905 - val_loss: -0.5301 - val_mean_squared_error: 0.4837\n",
      "Epoch 8/50\n",
      "83/83 [==============================] - 0s 5ms/step - loss: -0.4897 - mean_squared_error: 0.4883 - val_loss: -0.7735 - val_mean_squared_error: 0.4802\n",
      "Epoch 9/50\n",
      "83/83 [==============================] - 0s 5ms/step - loss: -0.6705 - mean_squared_error: 0.4874 - val_loss: -0.9740 - val_mean_squared_error: 0.4795\n",
      "Epoch 10/50\n",
      "83/83 [==============================] - 0s 5ms/step - loss: -0.8126 - mean_squared_error: 0.4872 - val_loss: -1.1368 - val_mean_squared_error: 0.4784\n",
      "Epoch 11/50\n",
      "83/83 [==============================] - 0s 5ms/step - loss: -0.9184 - mean_squared_error: 0.4871 - val_loss: -1.1681 - val_mean_squared_error: 0.4819\n",
      "Epoch 12/50\n",
      "83/83 [==============================] - 0s 5ms/step - loss: -0.9510 - mean_squared_error: 0.4897 - val_loss: -1.1727 - val_mean_squared_error: 0.4844\n",
      "Epoch 13/50\n",
      "83/83 [==============================] - 0s 5ms/step - loss: -0.9818 - mean_squared_error: 0.4882 - val_loss: -1.1815 - val_mean_squared_error: 0.4818\n",
      "Epoch 14/50\n",
      "83/83 [==============================] - 0s 5ms/step - loss: -0.9867 - mean_squared_error: 0.4877 - val_loss: -1.2479 - val_mean_squared_error: 0.4769\n",
      "Epoch 15/50\n",
      "83/83 [==============================] - 0s 5ms/step - loss: -0.9913 - mean_squared_error: 0.4885 - val_loss: -1.2964 - val_mean_squared_error: 0.4727\n",
      "Epoch 16/50\n",
      "83/83 [==============================] - 0s 5ms/step - loss: -1.0020 - mean_squared_error: 0.4874 - val_loss: -1.3076 - val_mean_squared_error: 0.4738\n",
      "Epoch 17/50\n",
      "83/83 [==============================] - 0s 5ms/step - loss: -1.0083 - mean_squared_error: 0.4872 - val_loss: -1.2984 - val_mean_squared_error: 0.4781\n",
      "Epoch 18/50\n",
      "83/83 [==============================] - 0s 5ms/step - loss: -1.0064 - mean_squared_error: 0.4878 - val_loss: -1.3101 - val_mean_squared_error: 0.4798\n",
      "Epoch 19/50\n",
      "83/83 [==============================] - 0s 4ms/step - loss: -1.0090 - mean_squared_error: 0.4873 - val_loss: -1.3237 - val_mean_squared_error: 0.4776\n",
      "Epoch 20/50\n",
      "83/83 [==============================] - 0s 5ms/step - loss: -1.0157 - mean_squared_error: 0.4862 - val_loss: -1.3411 - val_mean_squared_error: 0.4753\n",
      "Epoch 21/50\n",
      "83/83 [==============================] - 0s 5ms/step - loss: -1.0124 - mean_squared_error: 0.4869 - val_loss: -1.3488 - val_mean_squared_error: 0.4743\n",
      "Epoch 22/50\n",
      "83/83 [==============================] - 0s 4ms/step - loss: -1.0140 - mean_squared_error: 0.4866 - val_loss: -1.3435 - val_mean_squared_error: 0.4759\n",
      "Epoch 23/50\n",
      "83/83 [==============================] - 0s 5ms/step - loss: -1.0033 - mean_squared_error: 0.4891 - val_loss: -1.2964 - val_mean_squared_error: 0.4841\n",
      "Epoch 24/50\n",
      "83/83 [==============================] - 0s 5ms/step - loss: -1.0149 - mean_squared_error: 0.4865 - val_loss: -1.3130 - val_mean_squared_error: 0.4802\n",
      "Epoch 25/50\n",
      "83/83 [==============================] - 0s 4ms/step - loss: -1.0167 - mean_squared_error: 0.4859 - val_loss: -1.3227 - val_mean_squared_error: 0.4771\n",
      "Epoch 26/50\n",
      "83/83 [==============================] - 0s 5ms/step - loss: -1.0113 - mean_squared_error: 0.4878 - val_loss: -1.3521 - val_mean_squared_error: 0.4725\n",
      "Epoch 27/50\n",
      "83/83 [==============================] - 0s 5ms/step - loss: -1.0137 - mean_squared_error: 0.4869 - val_loss: -1.3395 - val_mean_squared_error: 0.4783\n",
      "Epoch 28/50\n",
      "83/83 [==============================] - 0s 5ms/step - loss: -1.0109 - mean_squared_error: 0.4876 - val_loss: -1.3324 - val_mean_squared_error: 0.4806\n",
      "Epoch 29/50\n",
      "83/83 [==============================] - 0s 4ms/step - loss: -1.0158 - mean_squared_error: 0.4863 - val_loss: -1.3700 - val_mean_squared_error: 0.4740\n",
      "Epoch 30/50\n",
      "83/83 [==============================] - 0s 4ms/step - loss: -1.0144 - mean_squared_error: 0.4870 - val_loss: -1.3843 - val_mean_squared_error: 0.4710\n",
      "Epoch 31/50\n",
      "83/83 [==============================] - 0s 5ms/step - loss: -1.0122 - mean_squared_error: 0.4868 - val_loss: -1.4099 - val_mean_squared_error: 0.4678\n",
      "Epoch 32/50\n",
      "83/83 [==============================] - 0s 5ms/step - loss: -1.0229 - mean_squared_error: 0.4843 - val_loss: -1.3932 - val_mean_squared_error: 0.4722\n",
      "Epoch 33/50\n",
      "83/83 [==============================] - 0s 4ms/step - loss: -1.0361 - mean_squared_error: 0.4814 - val_loss: -1.3930 - val_mean_squared_error: 0.4720\n",
      "Epoch 34/50\n",
      "83/83 [==============================] - 0s 5ms/step - loss: -1.0455 - mean_squared_error: 0.4784 - val_loss: -1.4181 - val_mean_squared_error: 0.4694\n",
      "Epoch 35/50\n",
      "83/83 [==============================] - 0s 4ms/step - loss: -1.0473 - mean_squared_error: 0.4811 - val_loss: -1.4177 - val_mean_squared_error: 0.4757\n",
      "Epoch 36/50\n",
      "83/83 [==============================] - 0s 5ms/step - loss: -1.0409 - mean_squared_error: 0.4841 - val_loss: -1.4372 - val_mean_squared_error: 0.4756\n",
      "Epoch 37/50\n",
      "83/83 [==============================] - 0s 4ms/step - loss: -1.0578 - mean_squared_error: 0.4822 - val_loss: -1.4767 - val_mean_squared_error: 0.4702\n",
      "Epoch 38/50\n",
      "83/83 [==============================] - 0s 5ms/step - loss: -1.0785 - mean_squared_error: 0.4779 - val_loss: -1.5155 - val_mean_squared_error: 0.4692\n",
      "Epoch 39/50\n",
      "83/83 [==============================] - 0s 5ms/step - loss: -1.1210 - mean_squared_error: 0.4744 - val_loss: -1.5394 - val_mean_squared_error: 0.4634\n",
      "Epoch 40/50\n",
      "83/83 [==============================] - 0s 4ms/step - loss: -1.1550 - mean_squared_error: 0.4650 - val_loss: -1.5182 - val_mean_squared_error: 0.4790\n",
      "Epoch 41/50\n",
      "83/83 [==============================] - 0s 5ms/step - loss: -1.1662 - mean_squared_error: 0.4798 - val_loss: -1.5125 - val_mean_squared_error: 0.4882\n",
      "Epoch 42/50\n",
      "83/83 [==============================] - 0s 5ms/step - loss: -1.1817 - mean_squared_error: 0.4802 - val_loss: -1.6172 - val_mean_squared_error: 0.4824\n",
      "Epoch 43/50\n",
      "83/83 [==============================] - 0s 4ms/step - loss: -1.2404 - mean_squared_error: 0.4784 - val_loss: -1.7240 - val_mean_squared_error: 0.4756\n",
      "Epoch 44/50\n",
      "83/83 [==============================] - 0s 5ms/step - loss: -1.2645 - mean_squared_error: 0.4841 - val_loss: -1.8308 - val_mean_squared_error: 0.4669\n",
      "Epoch 45/50\n",
      "83/83 [==============================] - 0s 4ms/step - loss: -1.3407 - mean_squared_error: 0.4741 - val_loss: -1.9289 - val_mean_squared_error: 0.4635\n",
      "Epoch 46/50\n",
      "83/83 [==============================] - 0s 4ms/step - loss: -1.4353 - mean_squared_error: 0.4670 - val_loss: -2.0667 - val_mean_squared_error: 0.4528\n",
      "Epoch 47/50\n",
      "83/83 [==============================] - 0s 5ms/step - loss: -1.5353 - mean_squared_error: 0.4578 - val_loss: -2.1809 - val_mean_squared_error: 0.4443\n",
      "Epoch 48/50\n",
      "83/83 [==============================] - 0s 4ms/step - loss: -1.6458 - mean_squared_error: 0.4514 - val_loss: -2.2904 - val_mean_squared_error: 0.4297\n",
      "Epoch 49/50\n",
      "83/83 [==============================] - 0s 4ms/step - loss: -1.7366 - mean_squared_error: 0.4417 - val_loss: -2.3552 - val_mean_squared_error: 0.4211\n",
      "Epoch 50/50\n",
      "83/83 [==============================] - 0s 5ms/step - loss: -1.8152 - mean_squared_error: 0.4353 - val_loss: -2.4659 - val_mean_squared_error: 0.4053\n"
     ]
    },
    {
     "data": {
      "text/plain": [
       "<keras.callbacks.History at 0x12e47f518>"
      ]
     },
     "execution_count": 138,
     "metadata": {},
     "output_type": "execute_result"
    }
   ],
   "source": [
    "# decoder.fit(x_train, y_train, epochs=epochs, batch_size=batch_size, callbacks=[TensorBoard(log_dir=config.tmp_log_dir)])\n",
    "encoder.fit(x_train, y_train, epochs=epochs, batch_size=batch_size,\n",
    "          validation_split=1/6, callbacks=[TensorBoard(log_dir=config.tmp_log_dir)])"
   ]
  },
  {
   "cell_type": "code",
   "execution_count": 139,
   "metadata": {},
   "outputs": [
    {
     "data": {
      "text/plain": [
       "(3, 100, 1)"
      ]
     },
     "execution_count": 139,
     "metadata": {},
     "output_type": "execute_result"
    }
   ],
   "source": [
    "x_test.shape"
   ]
  },
  {
   "cell_type": "code",
   "execution_count": 140,
   "metadata": {},
   "outputs": [],
   "source": [
    "# x_test, y_test = gen_xy_sin_to_f(3, f=2)"
   ]
  },
  {
   "cell_type": "code",
   "execution_count": 141,
   "metadata": {
    "scrolled": true
   },
   "outputs": [
    {
     "data": {
      "text/plain": [
       "(3, 100, 1)"
      ]
     },
     "execution_count": 141,
     "metadata": {},
     "output_type": "execute_result"
    }
   ],
   "source": [
    "results = encoder.predict(x_test)\n",
    "results.shape"
   ]
  },
  {
   "cell_type": "code",
   "execution_count": 142,
   "metadata": {},
   "outputs": [
    {
     "data": {
      "text/plain": [
       "[<matplotlib.lines.Line2D at 0x1295297f0>]"
      ]
     },
     "execution_count": 142,
     "metadata": {},
     "output_type": "execute_result"
    },
    {
     "data": {
      "image/png": "[encoded data removed]",
      "text/plain": [
       "<matplotlib.figure.Figure at 0x1295c8ba8>"
      ]
     },
     "metadata": {},
     "output_type": "display_data"
    }
   ],
   "source": [
    "i = 0\n",
    "plt.plot(x_test[i,:,0], results[i,:,0])"
   ]
  },
  {
   "cell_type": "code",
   "execution_count": 143,
   "metadata": {},
   "outputs": [
    {
     "data": {
      "text/plain": [
       "[<matplotlib.lines.Line2D at 0x129500b38>]"
      ]
     },
     "execution_count": 143,
     "metadata": {},
     "output_type": "execute_result"
    },
    {
     "data": {
      "image/png": "[encoded data removed]",
      "text/plain": [
       "<matplotlib.figure.Figure at 0x12956c4e0>"
      ]
     },
     "metadata": {},
     "output_type": "display_data"
    }
   ],
   "source": [
    "plt.plot(x_test[i,:,0], y_test[i,:,0])"
   ]
  },
  {
   "cell_type": "code",
   "execution_count": 144,
   "metadata": {},
   "outputs": [
    {
     "data": {
      "text/plain": [
       "[<matplotlib.lines.Line2D at 0x132f460f0>]"
      ]
     },
     "execution_count": 144,
     "metadata": {},
     "output_type": "execute_result"
    },
    {
     "data": {
      "image/png": "[encoded data removed]",
      "text/plain": [
       "<matplotlib.figure.Figure at 0x129540828>"
      ]
     },
     "metadata": {},
     "output_type": "display_data"
    }
   ],
   "source": [
    "i = 2\n",
    "plt.plot(x_test[i,:,0], results[i,:,0])"
   ]
  },
  {
   "cell_type": "code",
   "execution_count": 145,
   "metadata": {},
   "outputs": [
    {
     "data": {
      "text/plain": [
       "[<matplotlib.lines.Line2D at 0x1294372e8>]"
      ]
     },
     "execution_count": 145,
     "metadata": {},
     "output_type": "execute_result"
    },
    {
     "data": {
      "image/png": "[encoded data removed]",
      "text/plain": [
       "<matplotlib.figure.Figure at 0x1294b3668>"
      ]
     },
     "metadata": {},
     "output_type": "display_data"
    }
   ],
   "source": [
    "plt.plot(x_test[i,:,0], y_test[i,:,0])"
   ]
  },
  {
   "cell_type": "code",
   "execution_count": null,
   "metadata": {},
   "outputs": [],
   "source": []
  },
  {
   "cell_type": "code",
   "execution_count": null,
   "metadata": {},
   "outputs": [],
   "source": []
  },
  {
   "cell_type": "code",
   "execution_count": null,
   "metadata": {},
   "outputs": [],
   "source": []
  },
  {
   "cell_type": "code",
   "execution_count": null,
   "metadata": {},
   "outputs": [],
   "source": []
  }
 ],
 "metadata": {
  "kernelspec": {
   "display_name": "Python 3",
   "language": "python",
   "name": "python3"
  },
  "language_info": {
   "codemirror_mode": {
    "name": "ipython",
    "version": 3
   },
   "file_extension": ".py",
   "mimetype": "text/x-python",
   "name": "python",
   "nbconvert_exporter": "python",
   "pygments_lexer": "ipython3",
   "version": "3.6.4"
  }
 },
 "nbformat": 4,
 "nbformat_minor": 2
}
