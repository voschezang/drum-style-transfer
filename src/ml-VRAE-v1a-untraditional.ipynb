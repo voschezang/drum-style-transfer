{
 "cells": [
  {
   "cell_type": "code",
   "execution_count": 1,
   "metadata": {},
   "outputs": [
    {
     "name": "stderr",
     "output_type": "stream",
     "text": [
      "/Library/Frameworks/Python.framework/Versions/3.6/lib/python3.6/site-packages/h5py/__init__.py:36: FutureWarning: Conversion of the second argument of issubdtype from `float` to `np.floating` is deprecated. In future, it will be treated as `np.float64 == np.dtype(float).type`.\n",
      "  from ._conv import register_converters as _register_converters\n",
      "Using TensorFlow backend.\n"
     ]
    }
   ],
   "source": [
    "from __future__ import division\n",
    "\n",
    "import collections\n",
    "import numpy as np\n",
    "import matplotlib.pyplot as plt\n",
    "from scipy.stats import norm\n",
    "\n",
    "## NN libs\n",
    "import keras\n",
    "from keras import backend as K\n",
    "from keras import regularizers\n",
    "from keras.utils import to_categorical\n",
    "from keras.optimizers import SGD, Adam\n",
    "from keras.layers import *\n",
    "from keras.preprocessing.image import ImageDataGenerator\n",
    "from keras.models import Model\n",
    "from keras.callbacks import TensorBoard\n",
    "\n",
    "import layers.extra\n",
    "import losses.extra"
   ]
  },
  {
   "cell_type": "code",
   "execution_count": 2,
   "metadata": {},
   "outputs": [],
   "source": [
    "import config\n",
    "import os, numpy as np, pandas, sklearn, scipy.signal as signal\n",
    "import mido\n",
    "import matplotlib.pyplot as plt\n",
    "%matplotlib inline"
   ]
  },
  {
   "cell_type": "code",
   "execution_count": 3,
   "metadata": {},
   "outputs": [],
   "source": [
    "# local libs\n",
    "import config, models, setup\n",
    "import midi\n",
    "from midi import generators as g\n",
    "from utils import io, models_io, utils, plot\n",
    "from capsule.layers import Capsule, Length\n",
    "from capsule.capsulefunctions import squash, softmax, margin_loss"
   ]
  },
  {
   "cell_type": "code",
   "execution_count": 4,
   "metadata": {},
   "outputs": [
    {
     "name": "stdout",
     "output_type": "stream",
     "text": [
      " Context :: namedtuple(\n",
      "[ max_t = float\n",
      ", dt = float\n",
      ", n_timestesp = int\n",
      ", note_length = int\n",
      ", bpm = float\n",
      ", tempo = float\n",
      ", ticks_per_beat = int\n",
      "]\n",
      "\n",
      "Setting up params\n",
      "\n",
      "max min f 10.0 0.5\n",
      " >> Context(max_t=2.0, dt=0.05, n_timesteps=40, note_length=0.03, bpm=120.0, tempo=500000, ticks_per_beat=480)\n",
      " sample length:  40.000000\n",
      " max_f: 10.000000, min_f: 0.500000\n"
     ]
    }
   ],
   "source": [
    "context = setup.init()"
   ]
  },
  {
   "cell_type": "code",
   "execution_count": 5,
   "metadata": {
    "scrolled": true
   },
   "outputs": [
    {
     "name": "stdout",
     "output_type": "stream",
     "text": [
      "\n",
      "Importing midi-data\n",
      "\n",
      "Encoding midi-data\n",
      " 500\n",
      "> -> multi-track = True MidiFile\n",
      "\u001b[92m [INFO] : \u001b[0m\n",
      " |  True\n"
     ]
    }
   ],
   "source": [
    "n = 500 * 1\n",
    "dim4 = True\n",
    "multiTrack = True\n",
    "reduce_dims = midi.ReduceDimsOptions.MIDIFILE # GLOBAL\n",
    "dn = 'drum_midi/'\n",
    "x_train, labels = setup.import_data(context, n, dim4=dim4, reduce_dims=reduce_dims, dirname=dn, multiTrack=multiTrack, r=True)"
   ]
  },
  {
   "cell_type": "code",
   "execution_count": 6,
   "metadata": {},
   "outputs": [],
   "source": [
    "# n = 1000\n",
    "# min_f = 0\n",
    "# max_f = 3\n",
    "# x_train, params = g.gen_data_complex(context, n, max_f=max_f, min_f=min_f,\n",
    "#     n_polyrythms=1,\n",
    "#     n_channels=3,\n",
    "#     d_phase=True,\n",
    "#     return_params=True,\n",
    "#     dim4=dim4,\n",
    "#     multiTrack=multiTrack)"
   ]
  },
  {
   "cell_type": "code",
   "execution_count": 7,
   "metadata": {},
   "outputs": [
    {
     "data": {
      "text/plain": [
       "(500, 40, 9, 1)"
      ]
     },
     "execution_count": 7,
     "metadata": {},
     "output_type": "execute_result"
    }
   ],
   "source": [
    "x_train.shape"
   ]
  },
  {
   "cell_type": "code",
   "execution_count": 8,
   "metadata": {},
   "outputs": [
    {
     "data": {
      "text/plain": [
       "((500, 40, 9, 1), 450)"
      ]
     },
     "execution_count": 8,
     "metadata": {},
     "output_type": "execute_result"
    }
   ],
   "source": [
    "m = int(x_train.shape[0] * 0.9)\n",
    "x_train.shape, m"
   ]
  },
  {
   "cell_type": "code",
   "execution_count": 9,
   "metadata": {},
   "outputs": [],
   "source": [
    "x_test = x_train[m:]\n",
    "x_train = x_train[:m]"
   ]
  },
  {
   "cell_type": "code",
   "execution_count": 10,
   "metadata": {},
   "outputs": [
    {
     "name": "stdout",
     "output_type": "stream",
     "text": [
      "m (40, 9)\n"
     ]
    },
    {
     "data": {
      "image/png": "[encoded data removed]",
      "text/plain": [
       "<matplotlib.figure.Figure at 0x118625470>"
      ]
     },
     "metadata": {},
     "output_type": "display_data"
    },
    {
     "name": "stdout",
     "output_type": "stream",
     "text": [
      "m (40, 9)\n"
     ]
    },
    {
     "data": {
      "image/png": "[encoded data removed]",
      "text/plain": [
       "<matplotlib.figure.Figure at 0x117add7f0>"
      ]
     },
     "metadata": {},
     "output_type": "display_data"
    },
    {
     "data": {
      "text/plain": [
       "[\"../datasets/drum_midi//50´s Drummer MIDI Files/01 Rock'n'Roll/01 Dancin Rick 166BPM/01 8th Hat.mid\",\n",
       " \"../datasets/drum_midi//50´s Drummer MIDI Files/01 Rock'n'Roll/01 Dancin Rick 166BPM/02 8th Ride.mid\",\n",
       " \"../datasets/drum_midi//50´s Drummer MIDI Files/01 Rock'n'Roll/01 Dancin Rick 166BPM/03 16th Snare.mid\",\n",
       " \"../datasets/drum_midi//50´s Drummer MIDI Files/01 Rock'n'Roll/01 Dancin Rick 166BPM/04 8th Ride.mid\"]"
      ]
     },
     "execution_count": 10,
     "metadata": {},
     "output_type": "execute_result"
    }
   ],
   "source": [
    "plot.single(x_train[0, :50,:,0])\n",
    "plot.single(x_train[1, :50,:,0])\n",
    "# plot.single(x_train[2, :50,:,0])\n",
    "labels[0:4]"
   ]
  },
  {
   "cell_type": "code",
   "execution_count": 11,
   "metadata": {},
   "outputs": [
    {
     "data": {
      "text/plain": [
       "(40, 9, 1)"
      ]
     },
     "execution_count": 11,
     "metadata": {},
     "output_type": "execute_result"
    }
   ],
   "source": [
    "input_shape = x_train[0].shape\n",
    "timesteps = input_shape[0]\n",
    "notes = input_shape[1]\n",
    "input_shape"
   ]
  },
  {
   "cell_type": "code",
   "execution_count": 12,
   "metadata": {},
   "outputs": [],
   "source": [
    "latent_dim = 2\n",
    "intermediate_dim = 128\n",
    "epsilon_std = 1.0"
   ]
  },
  {
   "cell_type": "code",
   "execution_count": 13,
   "metadata": {},
   "outputs": [],
   "source": [
    "def sub_encoder(input_shape=(10,3,1), latent_dim=2):\n",
    "    sub_encoder_input = Input(shape=input_shape, name='sub_encoder_input')\n",
    "    h = sub_encoder_input\n",
    "    \n",
    "    timesteps, notes, channels = input_shape\n",
    "    \n",
    "    # Convolution\n",
    "    k = (2,1)\n",
    "    s = (2,1)\n",
    "#     h = Conv2D(32, kernel_size=k, strides=1, activation='relu', padding='valid')(h)\n",
    "    h = Conv2D(64, kernel_size=k, strides=s, activation='relu', padding='valid')(h)\n",
    "    h = Conv2D(128, kernel_size=k, strides=s, activation='relu', padding='valid')(h)\n",
    "\n",
    "#     # input per note\n",
    "#     note_list = Permute([2,1,3], name='input_per_note')(h)\n",
    "    \n",
    "#     rnn = SimpleRNN(128, name='rnn_per_note')\n",
    "#     reshape = Reshape((128,1))\n",
    "\n",
    "#     n_capsules = 10\n",
    "#     capsule_dim = 6\n",
    "#     n_routings=3\n",
    "#     share_weights=True\n",
    "#     capsule = Capsule(n_capsules, capsule_dim, n_routings, share_weights)\n",
    "\n",
    "#     x = Lambda(lambda layer: capsule(reshape(rnn(layer))) )\n",
    "#     h_per_note = TimeDistributed(x, name='TimeDistributed_per_note')(note_list)\n",
    "#     shape = K.int_shape(h_per_note)[1:]\n",
    "#     h_per_note = Reshape( [notes, np.prod(shape[1:3])] )(h_per_note)\n",
    "#     h_per_note = Flatten()(h_per_note)\n",
    "\n",
    "#     # 'global' input\n",
    "#     h = encoder_input\n",
    "#     h = Reshape(input_shape[:-1])(h)\n",
    "#     h = Conv1D(32, kernel_size=2, strides=1, activation='relu', padding='valid')(h)\n",
    "#     h = Conv1D(64, kernel_size=2, strides=2, activation='relu', padding='valid')(h)\n",
    "#     h = Conv1D(128, kernel_size=2, strides=1, activation='relu', padding='valid')(h)\n",
    "#     # old layers\n",
    "# #     h = Conv2D(1, kernel_size=k, strides=1, activation='relu', padding='valid')(h)\n",
    "# #     shape = K.int_shape(h)[1:]\n",
    "# #     h = Reshape(shape[0:2])(h) # (reduced_timesteps, notes)\n",
    "# #     h = Conv1D(32, kernel_size=2, strides=1, activation='relu', padding='valid')(h)\n",
    "#     h = SimpleRNN(128)(h)\n",
    "# #     h = LSTM(256)(h)\n",
    "# #     h = Bidirectional(LSTM(256)(h))\n",
    "#     h_global = h\n",
    "    \n",
    "#     h = Reshape((-1,1))(h_global) # h_global h_per_note\n",
    "# #     h = Concatenate(axis=1)([h_global, h_per_note])\n",
    "\n",
    "# #     h = Reshape((-1,1))(h)\n",
    "    \n",
    "#     n_capsules = 10\n",
    "#     capsule_dim = 6\n",
    "#     n_routings=3\n",
    "#     share_weights=True\n",
    "#     h = Capsule(n_capsules, capsule_dim, n_routings, share_weights)(h)   \n",
    "    h = Flatten()(h)\n",
    "    h = Dense(100)(h)\n",
    "    \n",
    "    # Z Mean, Variance\n",
    "    z_mean = Dense(latent_dim, name='z_mean')(h) # , activation='relu'\n",
    "    z_log_var = Dense(latent_dim, name='z_log_var')(h) # , activation='relu'\n",
    "    z_mean = Reshape((1, latent_dim))(z_mean)\n",
    "    z_log_var = Reshape((1, latent_dim))(z_log_var)\n",
    "    h = Concatenate(axis=1)([z_mean, z_log_var])\n",
    "    sub_encoder_output = h\n",
    "    sub_encoder_model = Model(sub_encoder_input, sub_encoder_output, name='sub_encoder_model-')\n",
    "    \n",
    "    reshaped_mean = Reshape((latent_dim,))(z_mean)\n",
    "    sub_encoder_mean = Model(sub_encoder_input, reshaped_mean, name='sub_encoder_mean')\n",
    "#     print('Extra params:', [k.count_params() for k in [rnn, reshape, capsule]])\n",
    "    return sub_encoder_model, sub_encoder_mean\n",
    "\n",
    "# class Resample(keras.layers.Layer):\n",
    "#     def __new__(self, input_shape, length):\n",
    "#         timesteps, notes, channels = input_shape\n",
    "#         n = int(timesteps/length)\n",
    "#         # TODO crop input if incompatible dims\n",
    "#         # crop((0, timesteps % length))\n",
    "#         return Reshape((n, length, notes, channels))\n",
    "\n",
    "def encoder(encoder_input, sub_encoder):\n",
    "    \"\"\" An existing sub_model can be used to return for example just the mean of the \n",
    "    latent-coordinates\n",
    "    \"\"\"\n",
    "    h = layers.extra.Resample(input_shape, length)(encoder_input)\n",
    "    h = TimeDistributed(sub_encoder)(h)\n",
    "    encoder_output = h\n",
    "    return Model(encoder_input, encoder_output, name='encoder_model-'), encoder_output\n",
    "\n",
    "def new_encoder(input_shape, latent_dim=2, length=10):\n",
    "    \"\"\" Create an encoder that encodes a batch of images into a batch of the mean + variance\n",
    "    of the corresponding latent-coordinates\n",
    "    \"\"\"\n",
    "    encoder_input = Input(shape=input_shape, name='encoder_input-')\n",
    "    timesteps, notes, channels = input_shape\n",
    "    sub_shape = (length, notes, channels)\n",
    "    sub_encoder_model, sub_encoder_mean = sub_encoder(sub_shape, latent_dim) \n",
    "    # output_shape  = ([mean], [var])\n",
    "    model, encoder_output = encoder(encoder_input, sub_encoder_model)\n",
    "    # output_shape = (batch_size, latent_samples, 2, latent_dim)\n",
    "    m = (model, sub_encoder_model, sub_encoder_mean)\n",
    "    return m, encoder_input, encoder_output"
   ]
  },
  {
   "cell_type": "code",
   "execution_count": 14,
   "metadata": {
    "scrolled": false
   },
   "outputs": [
    {
     "name": "stdout",
     "output_type": "stream",
     "text": [
      "__________________________________________________________________________________________________\n",
      "Layer (type)                    Output Shape         Param #     Connected to                     \n",
      "==================================================================================================\n",
      "sub_encoder_input (InputLayer)  (None, 10, 9, 1)     0                                            \n",
      "__________________________________________________________________________________________________\n",
      "conv2d_1 (Conv2D)               (None, 5, 9, 64)     192         sub_encoder_input[0][0]          \n",
      "__________________________________________________________________________________________________\n",
      "conv2d_2 (Conv2D)               (None, 2, 9, 128)    16512       conv2d_1[0][0]                   \n",
      "__________________________________________________________________________________________________\n",
      "flatten_1 (Flatten)             (None, 2304)         0           conv2d_2[0][0]                   \n",
      "__________________________________________________________________________________________________\n",
      "dense_1 (Dense)                 (None, 100)          230500      flatten_1[0][0]                  \n",
      "__________________________________________________________________________________________________\n",
      "z_mean (Dense)                  (None, 3)            303         dense_1[0][0]                    \n",
      "__________________________________________________________________________________________________\n",
      "z_log_var (Dense)               (None, 3)            303         dense_1[0][0]                    \n",
      "__________________________________________________________________________________________________\n",
      "reshape_1 (Reshape)             (None, 1, 3)         0           z_mean[0][0]                     \n",
      "__________________________________________________________________________________________________\n",
      "reshape_2 (Reshape)             (None, 1, 3)         0           z_log_var[0][0]                  \n",
      "__________________________________________________________________________________________________\n",
      "concatenate_1 (Concatenate)     (None, 2, 3)         0           reshape_1[0][0]                  \n",
      "                                                                 reshape_2[0][0]                  \n",
      "==================================================================================================\n",
      "Total params: 247,810\n",
      "Trainable params: 247,810\n",
      "Non-trainable params: 0\n",
      "__________________________________________________________________________________________________\n",
      "_________________________________________________________________\n",
      "Layer (type)                 Output Shape              Param #   \n",
      "=================================================================\n",
      "encoder_input- (InputLayer)  (None, 40, 9, 1)          0         \n",
      "_________________________________________________________________\n",
      "reshape_4 (Reshape)          (None, 4, 10, 9, 1)       0         \n",
      "_________________________________________________________________\n",
      "time_distributed_1 (TimeDist (None, 4, 2, 3)           247810    \n",
      "=================================================================\n",
      "Total params: 247,810\n",
      "Trainable params: 247,810\n",
      "Non-trainable params: 0\n",
      "_________________________________________________________________\n"
     ]
    }
   ],
   "source": [
    "latent_samples = 4\n",
    "length = int(timesteps/latent_samples)\n",
    "models_, encoder_input, encoder_output = new_encoder(input_shape, latent_dim, length)\n",
    "encoder_model, sub_encoder_model, sub_encoder_mean = models_\n",
    "sub_encoder_model.summary()\n",
    "encoder_model.summary()"
   ]
  },
  {
   "cell_type": "code",
   "execution_count": 15,
   "metadata": {},
   "outputs": [],
   "source": [
    "def sample(z_mean, z_log_var, latent_dim=2, epsilon_std=1.):\n",
    "    epsilon = K.random_normal(\n",
    "        shape=(K.shape(z_mean)[0], latent_dim), mean=0., stddev=epsilon_std)\n",
    "    return z_mean + K.exp(z_log_var) * epsilon\n",
    "\n",
    "   \n",
    "def sampleSequence(latent_dim=2., epsilon_std=1.):\n",
    "    # iterate batch_samples, in this case this is equal to iterating the latent_samples \n",
    "    # map_fn(fn, values) -> [values.shape[0]] + fn(values[0]).shape\n",
    "    return lambda layers: K.map_fn(lambda args: sample(args[:,0], args[:,1], latent_dim, epsilon_std), layers)"
   ]
  },
  {
   "cell_type": "code",
   "execution_count": 16,
   "metadata": {},
   "outputs": [],
   "source": [
    "# sample_ = lambda layers: K.map_fn(lambda args: sample(args, latent_dim, epsilon_std), layers)\n",
    "# sample_ = lambda args: sample(args, latent_dim, epsilon_std)"
   ]
  },
  {
   "cell_type": "code",
   "execution_count": 17,
   "metadata": {},
   "outputs": [],
   "source": [
    "z_input = encoder_model(encoder_input)\n",
    "sample_ = sampleSequence(latent_dim, epsilon_std)\n",
    "z_output = Lambda(sample_, name='sample_z-')(z_input)"
   ]
  },
  {
   "cell_type": "code",
   "execution_count": 18,
   "metadata": {},
   "outputs": [
    {
     "data": {
      "text/plain": [
       "(None, 4, 2, 3)"
      ]
     },
     "execution_count": 18,
     "metadata": {},
     "output_type": "execute_result"
    }
   ],
   "source": [
    "K.int_shape(encoder_output)"
   ]
  },
  {
   "cell_type": "code",
   "execution_count": 19,
   "metadata": {},
   "outputs": [
    {
     "data": {
      "text/plain": [
       "(None, 4, 3)"
      ]
     },
     "execution_count": 19,
     "metadata": {},
     "output_type": "execute_result"
    }
   ],
   "source": [
    "K.int_shape(z_output)"
   ]
  },
  {
   "cell_type": "code",
   "execution_count": 20,
   "metadata": {},
   "outputs": [
    {
     "data": {
      "text/plain": [
       "<tf.Tensor 'Shape:0' shape=(4,) dtype=int32>"
      ]
     },
     "execution_count": 20,
     "metadata": {},
     "output_type": "execute_result"
    }
   ],
   "source": [
    "K.shape(z_input)"
   ]
  },
  {
   "cell_type": "code",
   "execution_count": 21,
   "metadata": {},
   "outputs": [],
   "source": [
    "def list_sub_decoders(output_shape):\n",
    "    # decoder_input = z_output\n",
    "    # h = decoder_input\n",
    "    # :output_shape = (timesteps, channels, channels) || (batches, filters, timesteps, channels)\n",
    "    # keras offers just Conv2DTranspose and not Conv1DTranspose\n",
    "    # - use 2D images during upsampling :: (timesteps, notes, channels) => (timesteps, notes, filters)\n",
    "    # - use 1D images to optimize reconstruction :: (timesteps, filters) => (timesteps, notes)\n",
    "    \n",
    "    # image_data_format = 'channels_last'\n",
    "    # goal shape: (timesteps, notes, channels)\n",
    "    # start with the 'reverse': lots of small imgs => few large img\n",
    "    \n",
    "    timesteps, notes, channels = output_shape\n",
    "    filters = 64\n",
    "#     output_shape = (14, 14, filters)\n",
    "#     output_shape = (timesteps, notes, 1)\n",
    "    \n",
    "    # keras.examples.variational_autoencoder_deconv.py\n",
    "    decoders = []\n",
    "    decoders += [ Dense(100) ]\n",
    "    decoders += [ LeakyReLU(alpha=0.3) ]\n",
    "    \n",
    "#     # add a bypass layer\n",
    "#     w = 256\n",
    "#     decoders += [ Dense(w, activation='relu') ]\n",
    "#     extra_decoders = []\n",
    "#     for _ in range(3):\n",
    "#         extra_decoders += [ Dense(w, activation='elu', bias_initializer='zeros') ]\n",
    "\n",
    "#     extra_d = Lambda(lambda layer: utils.composition(extra_decoders, layer))\n",
    "#     decoders += [ Lambda(lambda layer: Add()([layer, extra_d(layer)])) ]\n",
    "    \n",
    "#     decoders += [ BatchNormalization(momentum=0.5) ]\n",
    "\n",
    "#     # Shared Layers (Conductor)\n",
    "    \n",
    "#     # +1 is used to produce an extra input for the first embedding-decoder    \n",
    "#     dim1, dim2, filters = 4+1, int(timesteps/4), notes*4\n",
    "#     print('dim1: %i dim2: %i filters: %i' % (dim1, dim2, filters))\n",
    "#     decoders += [ Dense(dim1*dim2, activation='tanh', name='conductor') ] # stddev = 0.001 in musicVAE\n",
    "#     decoders += [ BatchNormalization(momentum=0.3) ]\n",
    "    \n",
    "#     decoders += [ Reshape((dim1, dim2, 1)) ]\n",
    "#     # TODO CudnnLSTM to run on gpu\n",
    "#     conductor_lstm = LSTM(filters, return_sequences=True) # dropout = ..\n",
    "#     decoders += [ TimeDistributed(conductor_lstm) ]\n",
    "    \n",
    "    \n",
    "#     # Shared Decoders\n",
    "    \n",
    "#     # The first 2 embeddings are fed into embedding_decoder1 (TODO + gen. initial state?)\n",
    "#     # The next decoders get the i-th embedding + the (i-1)-th embedding\n",
    "    \n",
    "# #     decoders += [ Reshape((dim1, dim2, filters)) ]\n",
    "#     decoders += [ Reshape((dim1, dim2*filters), name='embeddings') ]\n",
    "#     w = 100 # filters\n",
    "# #     decoders += [ TimeDistributed(Dense(w, activation='tanh'))]\n",
    "    \n",
    "#     dim1 -= 1\n",
    "#     embedding_selectors = []\n",
    "#     for i in range(dim1):\n",
    "#         # Keep 2 embeddings per layer\n",
    "#         # Note that the second index is right-oriented (css style)\n",
    "#         j = dim1 - i - 1\n",
    "#         print(dim1, i, j)        \n",
    "#         # shape = (2, dim2*filters)\n",
    "#         embedding_selectors += [ Cropping1D((i,j)) ]\n",
    "#     print(len(embedding_selectors))\n",
    "#     print('dim1: %i' % dim1, [(i,i+2) for i in range(dim1-1)])\n",
    "    \n",
    "#     # reshape: [x1,x2] -> [ concat[x1,x1] ] :: (2,x) -> (1, 2*x)\n",
    "#     # reshape_e = Reshape((1, 2*dim2*filters))\n",
    "#     reshape_e = Reshape((1, 2*dim2, filters))\n",
    "\n",
    "    \n",
    "#     # \\layer -> map (\\f -> f layer) [f1, f2, f3]\n",
    "#     split_embeddings = Lambda(lambda layer: list(map(lambda f: reshape_e(f(layer)), embedding_selectors)))\n",
    "#     decoders += [ split_embeddings ]\n",
    "#     decoders += [ Concatenate(axis=1) ]\n",
    "    \n",
    "#     # For every embedding tuple (previous, current)\n",
    "#     #  put the samples respectively in the RNN\n",
    "#     #  then keep the second half of the sequences\n",
    "#     # input_shape = dim1 x (1,2*dim2*filters)\n",
    "#     # TODO CudnnLSTM to run on gpu\n",
    "#     lstm1 = LSTM(100, return_sequences=True)\n",
    "#     crop = Cropping1D((dim2,0))\n",
    "#     # lstm2(100, return_sequences=True)\n",
    "#     embedding_decoder = Lambda(lambda layer: crop(lstm1((layer))))\n",
    "#     decoders += [ TimeDistributed(embedding_decoder) ]\n",
    "#     # TODO ? instead of weird embedding-splitting, reuse the initial state of the previous lstm\n",
    "\n",
    "#     decoders += [ Reshape((dim1*dim2, 100)) ]\n",
    "#     decoders += [ TimeDistributed(Dense(notes, activation='sigmoid')) ]\n",
    "#     decoders += [ Reshape((timesteps, notes, 1)) ]\n",
    "\n",
    "    decoders += [ Dense(np.prod(output_shape), activation='sigmoid') ]\n",
    "    decoders += [ Reshape(output_shape) ]\n",
    "    return decoders\n",
    "\n",
    "    \n",
    "def list_decoders(output_shape, latent_length=8):\n",
    "    timesteps, notes, channels = output_shape\n",
    "    shape = (latent_length, notes, channels)\n",
    "    \n",
    "    decoders = []\n",
    "    sub = Lambda(lambda layer: utils.composition(list_sub_decoders(shape), layer, verbose=False))\n",
    "    sub = Dense(9, activation='relu', name='fl')\n",
    "    decoders += [ TimeDistributed(sub) ]\n",
    "    decoders += [ Flatten() ]\n",
    "    decoders += [ Dense(np.prod(output_shape), activation='sigmoid') ]\n",
    "    decoders += [ Reshape(output_shape) ]\n",
    "    \n",
    "    return decoders"
   ]
  },
  {
   "cell_type": "code",
   "execution_count": 22,
   "metadata": {},
   "outputs": [],
   "source": [
    "decoders = list_decoders(input_shape)"
   ]
  },
  {
   "cell_type": "code",
   "execution_count": 23,
   "metadata": {},
   "outputs": [],
   "source": [
    "decoded = utils.composition(decoders, z_output, verbose=False)\n",
    "# layer1, = layers"
   ]
  },
  {
   "cell_type": "code",
   "execution_count": 24,
   "metadata": {},
   "outputs": [
    {
     "data": {
      "text/plain": [
       "(None, 4, 3)"
      ]
     },
     "execution_count": 24,
     "metadata": {},
     "output_type": "execute_result"
    }
   ],
   "source": [
    "K.int_shape(z_output)"
   ]
  },
  {
   "cell_type": "code",
   "execution_count": 25,
   "metadata": {},
   "outputs": [
    {
     "data": {
      "text/plain": [
       "<tf.Tensor 'Shape_1:0' shape=(3,) dtype=int32>"
      ]
     },
     "execution_count": 25,
     "metadata": {},
     "output_type": "execute_result"
    }
   ],
   "source": [
    "K.shape(z_output)"
   ]
  },
  {
   "cell_type": "code",
   "execution_count": 26,
   "metadata": {},
   "outputs": [
    {
     "name": "stdout",
     "output_type": "stream",
     "text": [
      "_________________________________________________________________\n",
      "Layer (type)                 Output Shape              Param #   \n",
      "=================================================================\n",
      "encoder_input- (InputLayer)  (None, 40, 9, 1)          0         \n",
      "_________________________________________________________________\n",
      "encoder_model- (Model)       (None, 4, 2, 3)           247810    \n",
      "_________________________________________________________________\n",
      "sample_z- (Lambda)           (None, 4, 3)              0         \n",
      "_________________________________________________________________\n",
      "time_distributed_2 (TimeDist (None, 4, 9)              36        \n",
      "_________________________________________________________________\n",
      "flatten_2 (Flatten)          (None, 36)                0         \n",
      "_________________________________________________________________\n",
      "dense_2 (Dense)              (None, 360)               13320     \n",
      "_________________________________________________________________\n",
      "reshape_5 (Reshape)          (None, 40, 9, 1)          0         \n",
      "=================================================================\n",
      "Total params: 261,166\n",
      "Trainable params: 261,166\n",
      "Non-trainable params: 0\n",
      "_________________________________________________________________\n"
     ]
    }
   ],
   "source": [
    "# instantiate VAE model\n",
    "vae_input = encoder_input\n",
    "vae_output = decoded\n",
    "vae = Model(vae_input, vae_output)\n",
    "vae.summary()"
   ]
  },
  {
   "cell_type": "code",
   "execution_count": 27,
   "metadata": {
    "scrolled": true
   },
   "outputs": [
    {
     "name": "stderr",
     "output_type": "stream",
     "text": [
      "/Library/Frameworks/Python.framework/Versions/3.6/lib/python3.6/site-packages/ipykernel_launcher.py:32: UserWarning: Output \"reshape_5\" missing from loss dictionary. We assume this was done on purpose, and we will not be expecting any data to be passed to \"reshape_5\" during training.\n"
     ]
    }
   ],
   "source": [
    "def vae_loss(beta=1.):\n",
    "#     beta = ((1.0 - tf.pow(hparams.beta_rate, tf.to_float(self.global_step)))\n",
    "#             * hparams.max_beta)\n",
    "#     self.loss = tf.reduce_mean(r_loss) + beta * tf.reduce_mean(kl_cost)\n",
    "    # y_true, y_pred, z_mean, z_log_var, timesteps=150, notes=3, beta=1.\n",
    "    xent_loss = timesteps * notes * keras.metrics.binary_crossentropy(K.flatten(vae_input), K.flatten(vae_output))\n",
    "    # kl_loss = - 0.5 * K.sum(1 + z_log_var - K.square(z_mean) - K.exp(z_log_var), axis=-1)\n",
    "\n",
    "    # :encoder_output :: (batch_size, latent_samples, 2, latent_dim)\n",
    "    mean_list = encoder_output[:,:,0]\n",
    "    var_list = encoder_output[:,:,1]\n",
    "    reduced_mean = K.max(mean_list, axis=1)\n",
    "    reduced_var = K.max(var_list, axis=1)\n",
    "#     print(K.int_shape(encoder_output))\n",
    "#     print(K.int_shape(mean_list))\n",
    "#     print(K.int_shape(reduced_mean))\n",
    "    kl_loss_ = losses.extra.kl_loss(reduced_mean, reduced_var)\n",
    "\n",
    "    \n",
    "    # TODO minimize the amount of movement in the latent space\n",
    "    # interpolation_loss =\n",
    "    \n",
    "    # max(kl_per_sample) gives the best score, but the mean should give a smooth gradient\n",
    "    # kl_loss = sum(a * mean(foreach(kl_) + b * max(foreach(kl_))\n",
    "    \n",
    "    # kl_loss = max(kl_loss, free_bits)\n",
    "    vae_loss = K.mean(xent_loss + beta * kl_loss_)\n",
    "    return vae_loss\n",
    "\n",
    "vae_loss = vae_loss(beta=1)\n",
    "vae.add_loss(vae_loss)\n",
    "vae.compile(optimizer='adam')\n",
    "# vae.compile(optimizer=optimizer, loss=loss, metrics=metrics)"
   ]
  },
  {
   "cell_type": "code",
   "execution_count": 28,
   "metadata": {},
   "outputs": [],
   "source": [
    "batch_size = 100\n",
    "epochs = 25\n",
    "params = {'batch_size': batch_size, 'return_y': False}"
   ]
  },
  {
   "cell_type": "code",
   "execution_count": 29,
   "metadata": {},
   "outputs": [],
   "source": [
    "phase_mod = 0.01\n",
    "whitening = False"
   ]
  },
  {
   "cell_type": "code",
   "execution_count": 30,
   "metadata": {
    "scrolled": true
   },
   "outputs": [
    {
     "name": "stdout",
     "output_type": "stream",
     "text": [
      "x: (10000, 40, 9, 1)\n",
      "batch_size = 100\n",
      "\n",
      "[Epoch 0/25] >>>>>>>>>\n",
      " Batch 0/4\n",
      " \\_val_loss [244.0]\n",
      " \\_loss [249.0]\n",
      " Batch 1/4\n",
      " \\_val_loss [234.0]\n",
      " \\_loss [241.0]\n",
      " Batch 2/4\n",
      " \\_val_loss [218.0]\n",
      " \\_loss [230.0]\n",
      " Batch 3/4\n",
      " \\_val_loss [208.0]\n",
      " \\_loss [209.0]\n",
      " Batch 4/4\n",
      " \\_val_loss [184.0]\n",
      " \\_loss [189.0]\n",
      "\n",
      "[Epoch 1/25] >>>>>>>>>\n",
      " Batch 0/4\n",
      " \\_val_loss [166.0]\n",
      " \\_loss [166.0]\n",
      " Batch 1/4\n",
      " \\_val_loss [154.0]\n",
      " \\_loss [149.0]\n",
      " Batch 2/4\n",
      " \\_val_loss [145.0]\n",
      " \\_loss [131.0]\n",
      " Batch 3/4\n",
      " \\_val_loss [140.0]\n",
      " \\_loss [121.0]\n",
      " Batch 4/4\n",
      " \\_val_loss [132.0]\n",
      " \\_loss [110.0]\n",
      "\n",
      "[Epoch 2/25] >>>>>>>>>\n",
      " Batch 0/4\n",
      " \\_val_loss [120.0]\n",
      " \\_loss [106.0]\n",
      " Batch 1/4\n",
      " \\_val_loss [117.0]\n",
      " \\_loss [96.0]\n",
      " Batch 2/4\n",
      " \\_val_loss [126.0]\n",
      " \\_loss [93.0]\n",
      " Batch 3/4\n",
      " \\_val_loss [122.0]\n",
      " \\_loss [89.0]\n",
      " Batch 4/4\n",
      " \\_val_loss [115.0]\n",
      " \\_loss [87.0]\n",
      "\n",
      "[Epoch 3/25] >>>>>>>>>\n",
      " Batch 0/4\n",
      " \\_val_loss [112.0]\n",
      " \\_loss [85.0]\n",
      " Batch 1/4\n",
      " \\_val_loss [109.0]\n",
      " \\_loss [82.0]\n",
      " Batch 2/4\n",
      " \\_val_loss [113.0]\n",
      " \\_loss [81.0]\n",
      " Batch 3/4\n",
      " \\_val_loss [114.0]\n",
      " \\_loss [82.0]\n",
      " Batch 4/4\n",
      " \\_val_loss [109.0]\n",
      " \\_loss [76.0]\n",
      "\n",
      "[Epoch 4/25] >>>>>>>>>\n",
      " Batch 0/4\n",
      " \\_val_loss [101.0]\n",
      " \\_loss [77.0]\n",
      " Batch 1/4\n",
      " \\_val_loss [103.0]\n",
      " \\_loss [73.0]\n",
      " Batch 2/4\n",
      " \\_val_loss [113.0]\n",
      " \\_loss [76.0]\n",
      " Batch 3/4\n",
      " \\_val_loss [105.0]\n",
      " \\_loss [69.0]\n",
      " Batch 4/4\n",
      " \\_val_loss [95.0]\n",
      " \\_loss [71.0]\n",
      "\n",
      "[Epoch 5/25] >>>>>>>>>\n",
      " Batch 0/4\n",
      " \\_val_loss [97.0]\n",
      " \\_loss [70.0]\n",
      " Batch 1/4\n",
      " \\_val_loss [103.0]\n",
      " \\_loss [72.0]\n",
      " Batch 2/4\n",
      " \\_val_loss [102.0]\n",
      " \\_loss [71.0]\n",
      " Batch 3/4\n",
      " \\_val_loss [93.0]\n",
      " \\_loss [67.0]\n",
      " Batch 4/4\n",
      " \\_val_loss [93.0]\n",
      " \\_loss [68.0]\n",
      "\n",
      "[Epoch 6/25] >>>>>>>>>\n",
      " Batch 0/4\n",
      " \\_val_loss [103.0]\n",
      " \\_loss [68.0]\n",
      " Batch 1/4\n",
      " \\_val_loss [103.0]\n",
      " \\_loss [68.0]\n",
      " Batch 2/4\n",
      " \\_val_loss [96.0]\n",
      " \\_loss [66.0]\n",
      " Batch 3/4\n",
      " \\_val_loss [93.0]\n",
      " \\_loss [67.0]\n",
      " Batch 4/4\n",
      " \\_val_loss [98.0]\n",
      " \\_loss [65.0]\n",
      "\n",
      "[Epoch 7/25] >>>>>>>>>\n",
      " Batch 0/4\n",
      " \\_val_loss [99.0]\n",
      " \\_loss [63.0]\n",
      " Batch 1/4\n",
      " \\_val_loss [100.0]\n",
      " \\_loss [69.0]\n",
      " Batch 2/4\n",
      " \\_val_loss [101.0]\n",
      " \\_loss [69.0]\n",
      " Batch 3/4\n",
      " \\_val_loss [101.0]\n",
      " \\_loss [66.0]\n",
      " Batch 4/4\n",
      " \\_val_loss [97.0]\n",
      " \\_loss [66.0]\n",
      "\n",
      "[Epoch 8/25] >>>>>>>>>\n",
      " Batch 0/4\n",
      " \\_val_loss [97.0]\n",
      " \\_loss [63.0]\n",
      " Batch 1/4\n",
      " \\_val_loss [96.0]\n",
      " \\_loss [63.0]\n",
      " Batch 2/4\n",
      " \\_val_loss [97.0]\n",
      " \\_loss [64.0]\n",
      " Batch 3/4\n",
      " \\_val_loss [92.0]\n",
      " \\_loss [61.0]\n",
      " Batch 4/4\n",
      " \\_val_loss [94.0]\n",
      " \\_loss [64.0]\n",
      "\n",
      "[Epoch 9/25] >>>>>>>>>\n",
      " Batch 0/4\n",
      " \\_val_loss [100.0]\n",
      " \\_loss [63.0]\n",
      " Batch 1/4\n",
      " \\_val_loss [95.0]\n",
      " \\_loss [66.0]\n",
      " Batch 2/4\n",
      " \\_val_loss [88.0]\n",
      " \\_loss [63.0]\n",
      " Batch 3/4\n",
      " \\_val_loss [92.0]\n",
      " \\_loss [66.0]\n",
      " Batch 4/4\n",
      " \\_val_loss [101.0]\n",
      " \\_loss [63.0]\n",
      "\n",
      "[Epoch 10/25] >>>>>>>>>\n",
      " Batch 0/4\n",
      " \\_val_loss [99.0]\n",
      " \\_loss [64.0]\n",
      " Batch 1/4\n",
      " \\_val_loss [87.0]\n",
      " \\_loss [62.0]\n",
      " Batch 2/4\n",
      " \\_val_loss [89.0]\n",
      " \\_loss [64.0]\n",
      " Batch 3/4\n",
      " \\_val_loss [100.0]\n",
      " \\_loss [60.0]\n",
      " Batch 4/4\n",
      " \\_val_loss [103.0]\n",
      " \\_loss [61.0]\n",
      "\n",
      "[Epoch 11/25] >>>>>>>>>\n",
      " Batch 0/4\n",
      " \\_val_loss [93.0]\n",
      " \\_loss [65.0]\n",
      " Batch 1/4\n",
      " \\_val_loss [90.0]\n",
      " \\_loss [61.0]\n",
      " Batch 2/4\n",
      " \\_val_loss [90.0]\n",
      " \\_loss [59.0]\n",
      " Batch 3/4\n",
      " \\_val_loss [95.0]\n",
      " \\_loss [63.0]\n",
      " Batch 4/4\n",
      " \\_val_loss [94.0]\n",
      " \\_loss [60.0]\n",
      "\n",
      "[Epoch 12/25] >>>>>>>>>\n",
      " Batch 0/4\n",
      " \\_val_loss [88.0]\n",
      " \\_loss [60.0]\n",
      " Batch 1/4\n",
      " \\_val_loss [87.0]\n",
      " \\_loss [63.0]\n",
      " Batch 2/4\n",
      " \\_val_loss [93.0]\n",
      " \\_loss [64.0]\n",
      " Batch 3/4\n",
      " \\_val_loss [93.0]\n",
      " \\_loss [60.0]\n",
      " Batch 4/4\n",
      " \\_val_loss [90.0]\n",
      " \\_loss [63.0]\n",
      "\n",
      "[Epoch 13/25] >>>>>>>>>\n",
      " Batch 0/4\n",
      " \\_val_loss [90.0]\n",
      " \\_loss [58.0]\n",
      " Batch 1/4\n",
      " \\_val_loss [95.0]\n",
      " \\_loss [63.0]\n",
      " Batch 2/4\n",
      " \\_val_loss [95.0]\n",
      " \\_loss [60.0]\n",
      " Batch 3/4\n",
      " \\_val_loss [94.0]\n",
      " \\_loss [61.0]\n",
      " Batch 4/4\n",
      " \\_val_loss [91.0]\n",
      " \\_loss [60.0]\n",
      "\n",
      "[Epoch 14/25] >>>>>>>>>\n",
      " Batch 0/4\n",
      " \\_val_loss [93.0]\n",
      " \\_loss [59.0]\n",
      " Batch 1/4\n",
      " \\_val_loss [94.0]\n",
      " \\_loss [58.0]\n",
      " Batch 2/4\n",
      " \\_val_loss [96.0]\n",
      " \\_loss [59.0]\n",
      " Batch 3/4\n",
      " \\_val_loss [96.0]\n",
      " \\_loss [58.0]\n",
      " Batch 4/4\n",
      " \\_val_loss [94.0]\n",
      " \\_loss [60.0]\n",
      "\n",
      "[Epoch 15/25] >>>>>>>>>\n",
      " Batch 0/4\n",
      " \\_val_loss [89.0]\n",
      " \\_loss [63.0]\n",
      " Batch 1/4\n",
      " \\_val_loss [91.0]\n",
      " \\_loss [58.0]\n",
      " Batch 2/4\n",
      " \\_val_loss [94.0]\n",
      " \\_loss [57.0]\n",
      " Batch 3/4\n",
      " \\_val_loss [91.0]\n",
      " \\_loss [59.0]\n",
      " Batch 4/4\n",
      " \\_val_loss [92.0]\n",
      " \\_loss [60.0]\n",
      "\n",
      "[Epoch 16/25] >>>>>>>>>\n",
      " Batch 0/4\n",
      " \\_val_loss [99.0]\n",
      " \\_loss [55.0]\n",
      " Batch 1/4\n",
      " \\_val_loss [100.0]\n",
      " \\_loss [58.0]\n",
      " Batch 2/4\n",
      " \\_val_loss [94.0]\n",
      " \\_loss [58.0]\n",
      " Batch 3/4\n",
      " \\_val_loss [92.0]\n",
      " \\_loss [56.0]\n",
      " Batch 4/4\n",
      " \\_val_loss [91.0]\n",
      " \\_loss [56.0]\n",
      "\n",
      "[Epoch 17/25] >>>>>>>>>\n",
      " Batch 0/4\n",
      " \\_val_loss [97.0]\n",
      " \\_loss [57.0]\n",
      " Batch 1/4\n",
      " \\_val_loss [98.0]\n",
      " \\_loss [60.0]\n",
      " Batch 2/4\n",
      " \\_val_loss [94.0]\n",
      " \\_loss [59.0]\n",
      " Batch 3/4\n",
      " \\_val_loss [90.0]\n",
      " \\_loss [59.0]\n",
      " Batch 4/4\n",
      " \\_val_loss [91.0]\n",
      " \\_loss [56.0]\n",
      "\n",
      "[Epoch 18/25] >>>>>>>>>\n",
      " Batch 0/4\n",
      " \\_val_loss [92.0]\n",
      " \\_loss [57.0]\n",
      " Batch 1/4\n",
      " \\_val_loss [96.0]\n",
      " \\_loss [57.0]\n",
      " Batch 2/4\n",
      " \\_val_loss [94.0]\n",
      " \\_loss [59.0]\n",
      " Batch 3/4\n",
      " \\_val_loss [93.0]\n",
      " \\_loss [56.0]\n",
      " Batch 4/4\n",
      " \\_val_loss [92.0]\n",
      " \\_loss [57.0]\n",
      "\n",
      "[Epoch 19/25] >>>>>>>>>\n",
      " Batch 0/4\n",
      " \\_val_loss [95.0]\n",
      " \\_loss [58.0]\n",
      " Batch 1/4\n",
      " \\_val_loss [96.0]\n",
      " \\_loss [56.0]\n",
      " Batch 2/4\n",
      " \\_val_loss [94.0]\n",
      " \\_loss [57.0]\n",
      " Batch 3/4\n",
      " \\_val_loss [90.0]\n",
      " \\_loss [55.0]\n",
      " Batch 4/4\n",
      " \\_val_loss [95.0]\n",
      " \\_loss [56.0]\n",
      "\n",
      "[Epoch 20/25] >>>>>>>>>\n",
      " Batch 0/4\n",
      " \\_val_loss [96.0]\n",
      " \\_loss [55.0]\n",
      " Batch 1/4\n",
      " \\_val_loss [92.0]\n",
      " \\_loss [60.0]\n",
      " Batch 2/4\n",
      " \\_val_loss [87.0]\n",
      " \\_loss [55.0]\n",
      " Batch 3/4\n",
      " \\_val_loss [92.0]\n",
      " \\_loss [54.0]\n",
      " Batch 4/4\n",
      " \\_val_loss [96.0]\n",
      " \\_loss [54.0]\n",
      "\n",
      "[Epoch 21/25] >>>>>>>>>\n",
      " Batch 0/4\n",
      " \\_val_loss [95.0]\n",
      " \\_loss [52.0]\n",
      " Batch 1/4\n",
      " \\_val_loss [91.0]\n",
      " \\_loss [52.0]\n",
      " Batch 2/4\n",
      " \\_val_loss [87.0]\n",
      " \\_loss [55.0]\n",
      " Batch 3/4\n",
      " \\_val_loss [93.0]\n",
      " \\_loss [59.0]\n",
      " Batch 4/4\n",
      " \\_val_loss [93.0]\n",
      " \\_loss [57.0]\n",
      "\n",
      "[Epoch 22/25] >>>>>>>>>\n",
      " Batch 0/4\n",
      " \\_val_loss [91.0]\n",
      " \\_loss [56.0]\n",
      " Batch 1/4\n",
      " \\_val_loss [88.0]\n",
      " \\_loss [54.0]\n",
      " Batch 2/4\n",
      " \\_val_loss [94.0]\n",
      " \\_loss [55.0]\n",
      " Batch 3/4\n",
      " \\_val_loss [97.0]\n",
      " \\_loss [55.0]\n",
      " Batch 4/4\n",
      " \\_val_loss [90.0]\n",
      " \\_loss [53.0]\n",
      "\n",
      "[Epoch 23/25] >>>>>>>>>\n",
      " Batch 0/4\n",
      " \\_val_loss [90.0]\n",
      " \\_loss [54.0]\n",
      " Batch 1/4\n",
      " \\_val_loss [96.0]\n",
      " \\_loss [55.0]\n",
      " Batch 2/4\n",
      " \\_val_loss [100.0]\n",
      " \\_loss [53.0]\n",
      " Batch 3/4\n",
      " \\_val_loss [93.0]\n",
      " \\_loss [51.0]\n",
      " Batch 4/4\n",
      " \\_val_loss [88.0]\n",
      " \\_loss [53.0]\n",
      "\n",
      "[Epoch 24/25] >>>>>>>>>\n",
      " Batch 0/4\n",
      " \\_val_loss [88.0]\n",
      " \\_loss [51.0]\n",
      " Batch 1/4\n",
      " \\_val_loss [95.0]\n",
      " \\_loss [57.0]\n",
      " Batch 2/4\n",
      " \\_val_loss [96.0]\n",
      " \\_loss [53.0]\n",
      " Batch 3/4\n",
      " \\_val_loss [94.0]\n",
      " \\_loss [50.0]\n",
      " Batch 4/4\n",
      " \\_val_loss [94.0]\n",
      " \\_loss [49.0]\n"
     ]
    }
   ],
   "source": [
    "m = 100\n",
    "useDataGenerator = False\n",
    "useDataGenerator = True\n",
    "\n",
    "x = x_train\n",
    "x = np.concatenate([x_train[:m] for _ in range(100)])\n",
    "print('x:', x.shape)\n",
    "\n",
    "print('batch_size =', batch_size)\n",
    "if useDataGenerator:\n",
    "    datagen = models.ImageDataGenerator(x_train, batch_size, phase_mod, whitening)\n",
    "    history = collections.defaultdict(list)\n",
    "    n_batches = datagen.__len__()\n",
    "    for e in range(epochs):\n",
    "        print('\\n[Epoch %i/%i] >>>>>>>>>' % (e, epochs))\n",
    "        for batch_i, (x_batch, y_batch) in enumerate(datagen.flow(x, x, batch_size)):\n",
    "            print(' Batch %i/%i' % (batch_i,n_batches))\n",
    "            x_ = x_batch\n",
    "            # x_ = datagen.shuffle_3rd_dim(x_)\n",
    "#             x_ = datagen.shuffle_3rd_dim_soft(x_, rate=0.5, scale=0.1, verbose=0)\n",
    "            h = vae.fit(x_, validation_data=(x_test, None), verbose=0)\n",
    "            for k,v in h.history.items(): \n",
    "                print(' \\\\_%s' % k, [round(v_,) for v_ in v])\n",
    "                history[k].append(v)\n",
    "            if batch_i >= n_batches:\n",
    "                break\n",
    "else:\n",
    "    h = vae.fit(x, epochs=epochs, validation_data=(x_test, None))\n",
    "    history = h.history"
   ]
  },
  {
   "cell_type": "code",
   "execution_count": 31,
   "metadata": {},
   "outputs": [
    {
     "data": {
      "text/plain": [
       "[<matplotlib.lines.Line2D at 0x117f72f60>]"
      ]
     },
     "execution_count": 31,
     "metadata": {},
     "output_type": "execute_result"
    },
    {
     "data": {
      "image/png": "[encoded data removed]",
      "text/plain": [
       "<matplotlib.figure.Figure at 0x103276278>"
      ]
     },
     "metadata": {},
     "output_type": "display_data"
    }
   ],
   "source": [
    "plt.plot(history['loss'])\n",
    "plt.plot(history['val_loss'])"
   ]
  },
  {
   "cell_type": "code",
   "execution_count": 52,
   "metadata": {},
   "outputs": [
    {
     "data": {
      "text/plain": [
       "(10, 40, 9, 1)"
      ]
     },
     "execution_count": 52,
     "metadata": {},
     "output_type": "execute_result"
    }
   ],
   "source": [
    "x.shape"
   ]
  },
  {
   "cell_type": "code",
   "execution_count": 33,
   "metadata": {},
   "outputs": [
    {
     "name": "stdout",
     "output_type": "stream",
     "text": [
      "m (40, 9)\n"
     ]
    },
    {
     "data": {
      "image/png": "[encoded data removed]",
      "text/plain": [
       "<matplotlib.figure.Figure at 0x11a0ed390>"
      ]
     },
     "metadata": {},
     "output_type": "display_data"
    },
    {
     "name": "stdout",
     "output_type": "stream",
     "text": [
      "m (40, 9)\n"
     ]
    },
    {
     "data": {
      "image/png": "[encoded data removed]",
      "text/plain": [
       "<matplotlib.figure.Figure at 0x11a641e10>"
      ]
     },
     "metadata": {},
     "output_type": "display_data"
    },
    {
     "name": "stdout",
     "output_type": "stream",
     "text": [
      "m (40, 9)\n"
     ]
    },
    {
     "data": {
      "image/png": "[encoded data removed]",
      "text/plain": [
       "<matplotlib.figure.Figure at 0x11a0cdf60>"
      ]
     },
     "metadata": {},
     "output_type": "display_data"
    },
    {
     "name": "stdout",
     "output_type": "stream",
     "text": [
      "m (40, 9)\n"
     ]
    },
    {
     "data": {
      "image/png": "[encoded data removed]",
      "text/plain": [
       "<matplotlib.figure.Figure at 0x11a154550>"
      ]
     },
     "metadata": {},
     "output_type": "display_data"
    },
    {
     "name": "stdout",
     "output_type": "stream",
     "text": [
      "m (40, 9)\n"
     ]
    },
    {
     "data": {
      "image/png": "[encoded data removed]",
      "text/plain": [
       "<matplotlib.figure.Figure at 0x117b49710>"
      ]
     },
     "metadata": {},
     "output_type": "display_data"
    },
    {
     "name": "stdout",
     "output_type": "stream",
     "text": [
      "m (40, 9)\n"
     ]
    },
    {
     "data": {
      "image/png": "[encoded data removed]",
      "text/plain": [
       "<matplotlib.figure.Figure at 0x11a2c44e0>"
      ]
     },
     "metadata": {},
     "output_type": "display_data"
    }
   ],
   "source": [
    "i = 0\n",
    "j = 1\n",
    "k = -1\n",
    "x = vae.predict(x_train[:100])\n",
    "plot.single(x_train[i, :50, :, 0])\n",
    "plot.single(x[i, :50, :, 0])\n",
    "plot.single(x_train[j, :50, :, 0])\n",
    "plot.single(x[j, :50, :, 0])\n",
    "plot.single(x_train[k, :50, :, 0])\n",
    "plot.single(x[k, :50, :, 0])"
   ]
  },
  {
   "cell_type": "code",
   "execution_count": 53,
   "metadata": {},
   "outputs": [
    {
     "name": "stdout",
     "output_type": "stream",
     "text": [
      "m (40, 9)\n"
     ]
    },
    {
     "data": {
      "image/png": "[encoded data removed]",
      "text/plain": [
       "<matplotlib.figure.Figure at 0x11ce87f60>"
      ]
     },
     "metadata": {},
     "output_type": "display_data"
    },
    {
     "name": "stdout",
     "output_type": "stream",
     "text": [
      "m (40, 9)\n"
     ]
    },
    {
     "data": {
      "image/png": "[encoded data removed]",
      "text/plain": [
       "<matplotlib.figure.Figure at 0x11d0e2ef0>"
      ]
     },
     "metadata": {},
     "output_type": "display_data"
    },
    {
     "name": "stdout",
     "output_type": "stream",
     "text": [
      "m (40, 9)\n"
     ]
    },
    {
     "data": {
      "image/png": "[encoded data removed]",
      "text/plain": [
       "<matplotlib.figure.Figure at 0x11d10d5c0>"
      ]
     },
     "metadata": {},
     "output_type": "display_data"
    }
   ],
   "source": [
    "x = datagen.shuffle_3rd_dim_soft(x_train[:10], rate=1, intensity=2, scale=1, verbose=1)\n",
    "i = 0\n",
    "plot.single(x_train[i,:,:,0])\n",
    "plot.single(x[i,:,:,0])\n",
    "x_ = vae.predict(x)\n",
    "plot.single(x_[i,:,:,0])"
   ]
  },
  {
   "cell_type": "code",
   "execution_count": 54,
   "metadata": {},
   "outputs": [
    {
     "data": {
      "text/plain": [
       "(10, 40, 9, 1)"
      ]
     },
     "execution_count": 54,
     "metadata": {},
     "output_type": "execute_result"
    }
   ],
   "source": [
    "x.shape"
   ]
  },
  {
   "cell_type": "code",
   "execution_count": 55,
   "metadata": {},
   "outputs": [
    {
     "name": "stdout",
     "output_type": "stream",
     "text": [
      "m (30, 9)\n"
     ]
    },
    {
     "data": {
      "image/png": "[encoded data removed]",
      "text/plain": [
       "<matplotlib.figure.Figure at 0x11cf26470>"
      ]
     },
     "metadata": {},
     "output_type": "display_data"
    }
   ],
   "source": [
    "# min: these pixels are 'always' active\n",
    "m = x.min(axis=0)\n",
    "plot.multi(m[:30,:,0])"
   ]
  },
  {
   "cell_type": "code",
   "execution_count": 37,
   "metadata": {},
   "outputs": [
    {
     "name": "stdout",
     "output_type": "stream",
     "text": [
      "m (30, 9)\n"
     ]
    },
    {
     "data": {
      "image/png": "[encoded data removed]",
      "text/plain": [
       "<matplotlib.figure.Figure at 0x11bc5f518>"
      ]
     },
     "metadata": {},
     "output_type": "display_data"
    }
   ],
   "source": [
    "# mean\n",
    "m = x.mean(axis=0)\n",
    "plot.single(m[:30,:,0])"
   ]
  },
  {
   "cell_type": "markdown",
   "metadata": {},
   "source": [
    "## Encoder + Generator\n",
    "A model to project inputs on the latent space"
   ]
  },
  {
   "cell_type": "code",
   "execution_count": 38,
   "metadata": {},
   "outputs": [],
   "source": [
    "# build a model to project inputs on the latent space\n",
    "# encoder = Model(encoder_input, z_mean)\n",
    "encoder, _ = encoder(encoder_input, sub_encoder_mean)"
   ]
  },
  {
   "cell_type": "code",
   "execution_count": 39,
   "metadata": {},
   "outputs": [
    {
     "data": {
      "text/plain": [
       "(50, 40, 9, 1)"
      ]
     },
     "execution_count": 39,
     "metadata": {},
     "output_type": "execute_result"
    }
   ],
   "source": [
    "x_test.shape"
   ]
  },
  {
   "cell_type": "code",
   "execution_count": 40,
   "metadata": {},
   "outputs": [
    {
     "data": {
      "text/plain": [
       "(100, 4, 3)"
      ]
     },
     "execution_count": 40,
     "metadata": {},
     "output_type": "execute_result"
    }
   ],
   "source": [
    "m = 100\n",
    "x_train_encoded = encoder.predict(x_train[:m], batch_size=batch_size)\n",
    "x_train_encoded.shape"
   ]
  },
  {
   "cell_type": "code",
   "execution_count": 41,
   "metadata": {},
   "outputs": [
    {
     "data": {
      "text/plain": [
       "[<matplotlib.lines.Line2D at 0x11bd0ca58>]"
      ]
     },
     "execution_count": 41,
     "metadata": {},
     "output_type": "execute_result"
    },
    {
     "data": {
      "image/png": "[encoded data removed]",
      "text/plain": [
       "<matplotlib.figure.Figure at 0x11a3b44e0>"
      ]
     },
     "metadata": {},
     "output_type": "display_data"
    }
   ],
   "source": [
    "# shape = (samples, latent_samples, mean, latent_dim)\n",
    "plt.plot(x_train_encoded[0,:,0])\n",
    "plt.plot(x_train_encoded[0,:,1])"
   ]
  },
  {
   "cell_type": "code",
   "execution_count": 42,
   "metadata": {},
   "outputs": [
    {
     "data": {
      "text/plain": [
       "<matplotlib.collections.PathCollection at 0x11c178da0>"
      ]
     },
     "execution_count": 42,
     "metadata": {},
     "output_type": "execute_result"
    },
    {
     "data": {
      "image/png": "[encoded data removed]",
      "text/plain": [
       "<matplotlib.figure.Figure at 0x11bc9d630>"
      ]
     },
     "metadata": {},
     "output_type": "display_data"
    }
   ],
   "source": [
    "# y_test = range(x_train_encoded.shape[0])\n",
    "y_test = np.concatenate([list(range(n)) for _ in range(int(m/n)+1)])[:m] / n\n",
    "plt.figure(figsize=(6, 6))\n",
    "plt.scatter(x_train_encoded[:,0,0], x_train_encoded[:,0,1], alpha=0.8, s=30) # c=y_test, "
   ]
  },
  {
   "cell_type": "code",
   "execution_count": 43,
   "metadata": {},
   "outputs": [
    {
     "data": {
      "text/plain": [
       "<matplotlib.collections.PathCollection at 0x11bdc3828>"
      ]
     },
     "execution_count": 43,
     "metadata": {},
     "output_type": "execute_result"
    },
    {
     "data": {
      "image/png": "[encoded data removed]",
      "text/plain": [
       "<matplotlib.figure.Figure at 0x11bd15320>"
      ]
     },
     "metadata": {},
     "output_type": "display_data"
    }
   ],
   "source": [
    "x_test_encoded = encoder.predict(x_test, batch_size=batch_size)\n",
    "plt.figure(figsize=(6, 6))\n",
    "plt.scatter(x_test_encoded[:,:,0], x_test_encoded[:,:,1], alpha=0.6, s=30) # , c=y_test\n",
    "# plt.colorbar()"
   ]
  },
  {
   "cell_type": "code",
   "execution_count": 44,
   "metadata": {},
   "outputs": [],
   "source": [
    "# build a digit generator that can sample from the learned distribution\n",
    "decoder_input = Input(shape=(latent_samples,latent_dim,))\n",
    "_decoded = utils.composition(decoders, decoder_input, verbose=False)\n",
    "generator = Model(decoder_input, _decoded)"
   ]
  },
  {
   "cell_type": "code",
   "execution_count": 45,
   "metadata": {},
   "outputs": [
    {
     "name": "stdout",
     "output_type": "stream",
     "text": [
      "m (40, 9)\n"
     ]
    },
    {
     "data": {
      "image/png": "[encoded data removed]",
      "text/plain": [
       "<matplotlib.figure.Figure at 0x11be76ef0>"
      ]
     },
     "metadata": {},
     "output_type": "display_data"
    },
    {
     "name": "stdout",
     "output_type": "stream",
     "text": [
      "m (40, 9)\n"
     ]
    },
    {
     "data": {
      "image/png": "[encoded data removed]",
      "text/plain": [
       "<matplotlib.figure.Figure at 0x11bd939e8>"
      ]
     },
     "metadata": {},
     "output_type": "display_data"
    },
    {
     "name": "stdout",
     "output_type": "stream",
     "text": [
      "m (40, 9)\n"
     ]
    },
    {
     "data": {
      "image/png": "[encoded data removed]",
      "text/plain": [
       "<matplotlib.figure.Figure at 0x11cbac7b8>"
      ]
     },
     "metadata": {},
     "output_type": "display_data"
    }
   ],
   "source": [
    "a = 0.8\n",
    "x2 = (x_train[0] * a + x_train[1] * (1-a)).reshape(1, timesteps, notes,1)\n",
    "result = generator.predict((encoder.predict(x2)))\n",
    "plot.single(x_train[0,:,:,0])\n",
    "plot.single(x_train[1,:,:,0])\n",
    "plot.single(result[0,:,:,0])"
   ]
  },
  {
   "cell_type": "code",
   "execution_count": 46,
   "metadata": {},
   "outputs": [
    {
     "name": "stdout",
     "output_type": "stream",
     "text": [
      "m (40, 9)\n"
     ]
    },
    {
     "data": {
      "image/png": "[encoded data removed]",
      "text/plain": [
       "<matplotlib.figure.Figure at 0x11cbdd470>"
      ]
     },
     "metadata": {},
     "output_type": "display_data"
    },
    {
     "name": "stdout",
     "output_type": "stream",
     "text": [
      "m (40, 9)\n"
     ]
    },
    {
     "data": {
      "image/png": "[encoded data removed]",
      "text/plain": [
       "<matplotlib.figure.Figure at 0x11cc8c470>"
      ]
     },
     "metadata": {},
     "output_type": "display_data"
    },
    {
     "name": "stdout",
     "output_type": "stream",
     "text": [
      "m (40, 9)\n"
     ]
    },
    {
     "data": {
      "image/png": "[encoded data removed]",
      "text/plain": [
       "<matplotlib.figure.Figure at 0x11ce606a0>"
      ]
     },
     "metadata": {},
     "output_type": "display_data"
    },
    {
     "name": "stdout",
     "output_type": "stream",
     "text": [
      "m (40, 9)\n"
     ]
    },
    {
     "data": {
      "image/png": "[encoded data removed]",
      "text/plain": [
       "<matplotlib.figure.Figure at 0x11ce30e10>"
      ]
     },
     "metadata": {},
     "output_type": "display_data"
    }
   ],
   "source": [
    "f1 = lambda x: x.mean(axis=0).reshape(1, latent_samples, latent_dim)\n",
    "f2 = lambda x: x.mean(axis=0).reshape(timesteps, notes)\n",
    "ls = encoder.predict(x_train[:2])\n",
    "# z = ls.mean(axis=0).reshape(1, latent_samples, latent_dim)\n",
    "result = generator.predict(f1(ls))\n",
    "plot.single(x_train[0,:,:,0])\n",
    "plot.single(x_train[1,:,:,0])\n",
    "plot.single(f2(x_train[:2]))\n",
    "plot.single(result[0,:,:,0])"
   ]
  },
  {
   "cell_type": "code",
   "execution_count": null,
   "metadata": {},
   "outputs": [],
   "source": []
  },
  {
   "cell_type": "code",
   "execution_count": 47,
   "metadata": {},
   "outputs": [],
   "source": [
    "# x_decoded[0].reshape(150,3)"
   ]
  },
  {
   "cell_type": "code",
   "execution_count": 48,
   "metadata": {},
   "outputs": [
    {
     "data": {
      "text/plain": [
       "(450, 40, 9, 1)"
      ]
     },
     "execution_count": 48,
     "metadata": {},
     "output_type": "execute_result"
    }
   ],
   "source": [
    "x_train.shape"
   ]
  },
  {
   "cell_type": "code",
   "execution_count": 49,
   "metadata": {},
   "outputs": [],
   "source": [
    "def latent(generator,\n",
    "           batch_size=2,\n",
    "           latent_dim=2,\n",
    "           x_encoded=0.,\n",
    "           latent_indices=(0, 1),\n",
    "           n=10,\n",
    "           m=4,\n",
    "           crop_size=30,\n",
    "           margin_top=1,\n",
    "           margin_left=1,\n",
    "           min_x=0.05,\n",
    "           max_x=0.95,\n",
    "           min_y=0.05,\n",
    "           max_y=0.95):\n",
    "    \"\"\" Original: keras.keras.examples.variational_autoencoder\n",
    "    :x_encoded :: float | [ float ]\n",
    "    \"\"\"\n",
    "    if not isinstance(x_encoded, np.ndarray):\n",
    "        x_encoded = np.repeat(x_encoded, latent_dim)\n",
    "    print(x_encoded.shape, x_encoded)\n",
    "    x_decoded = generator.predict(x_encoded.reshape([1, latent_dim]))\n",
    "\n",
    "    # display a 2D manifold of output samples\n",
    "    size1 = x_decoded.shape[2]\n",
    "    size2 = crop_size  # crop x_train.shape[1]\n",
    "    margin_y, margin_x = n * margin_top * 3, m * margin_left * 3\n",
    "    figure = np.zeros((size1 * n + margin_y, size2 * m + margin_x))\n",
    "    # linearly spaced coordinates on the unit square were transformed through\n",
    "    # the inverse CDF (ppf) of the Gaussian to produce values of the latent\n",
    "    # variables z, since the prior of the latent space is Gaussian\n",
    "    grid_x = norm.ppf(np.linspace(min_x, max_x, n))\n",
    "    grid_y = norm.ppf(np.linspace(min_y, max_y, m))\n",
    "    for i, yi in enumerate(grid_x):\n",
    "        for j, xi in enumerate(grid_y):\n",
    "            z_sample = x_encoded.copy()\n",
    "            z_sample[np.array(latent_indices)] = (xi, yi)\n",
    "            # z_sample = np.array([[yi, xi]])\n",
    "            # TODO check whether batch_size influences the generator output\n",
    "            z_sample = np.tile(z_sample, batch_size).reshape(\n",
    "                batch_size, latent_dim)\n",
    "            x_decoded = generator.predict(z_sample, batch_size=batch_size)\n",
    "            sample = x_decoded[0, :size2].reshape((size2, size1)).transpose()\n",
    "            sample.reshape(size1, size2)\n",
    "            # coordinates of the current sample\n",
    "            a = i * size1 + i * margin_top * 3\n",
    "            b = (i + 1) * size1 + i * margin_top * 3\n",
    "            c = j * size2 + j * margin_left * 3\n",
    "            d = (j + 1) * size2 + j * margin_left * 3\n",
    "            # table separators (partially overlapping)\n",
    "            figure[a, :] = 0\n",
    "            figure[a + 1, 1:-1] = 0.3\n",
    "            figure[a + 2, :] = 0\n",
    "            figure[:, c] = 0\n",
    "            figure[1:, c + 1] = 0.3\n",
    "            figure[:, c + 2] = 0\n",
    "            a, b, c, d = a + 3, b + 3, c + 3, d + 3\n",
    "            figure[a:b, c:d] = sample\n",
    "\n",
    "    plt.figure(figsize=(10, 10))\n",
    "    plt.imshow(figure, cmap='gray_r')\n",
    "    plt.show()"
   ]
  },
  {
   "cell_type": "code",
   "execution_count": 50,
   "metadata": {},
   "outputs": [
    {
     "name": "stdout",
     "output_type": "stream",
     "text": [
      "(3,) [0. 0. 0.]\n"
     ]
    },
    {
     "ename": "ValueError",
     "evalue": "Error when checking : expected input_1 to have 3 dimensions, but got array with shape (1, 3)",
     "output_type": "error",
     "traceback": [
      "\u001b[0;31m---------------------------------------------------------------------------\u001b[0m",
      "\u001b[0;31mValueError\u001b[0m                                Traceback (most recent call last)",
      "\u001b[0;32m<ipython-input-50-94fb08e6f2e5>\u001b[0m in \u001b[0;36m<module>\u001b[0;34m()\u001b[0m\n\u001b[1;32m     10\u001b[0m        \u001b[0mmax_x\u001b[0m\u001b[0;34m=\u001b[0m\u001b[0;36m0.95\u001b[0m\u001b[0;34m,\u001b[0m\u001b[0;34m\u001b[0m\u001b[0m\n\u001b[1;32m     11\u001b[0m        \u001b[0mmin_y\u001b[0m\u001b[0;34m=\u001b[0m\u001b[0mmin_y\u001b[0m\u001b[0;34m,\u001b[0m\u001b[0;34m\u001b[0m\u001b[0m\n\u001b[0;32m---> 12\u001b[0;31m        max_y=max_y)\n\u001b[0m",
      "\u001b[0;32m~/src/pattern-recognition/src/utils/plot.py\u001b[0m in \u001b[0;36mlatent\u001b[0;34m(generator, batch_size, latent_dim, x_encoded, latent_indices, n, m, crop_size, margin_top, margin_left, min_x, max_x, min_y, max_y)\u001b[0m\n\u001b[1;32m     46\u001b[0m         \u001b[0mx_encoded\u001b[0m \u001b[0;34m=\u001b[0m \u001b[0mnp\u001b[0m\u001b[0;34m.\u001b[0m\u001b[0mrepeat\u001b[0m\u001b[0;34m(\u001b[0m\u001b[0mx_encoded\u001b[0m\u001b[0;34m,\u001b[0m \u001b[0mlatent_dim\u001b[0m\u001b[0;34m)\u001b[0m\u001b[0;34m\u001b[0m\u001b[0m\n\u001b[1;32m     47\u001b[0m     \u001b[0mprint\u001b[0m\u001b[0;34m(\u001b[0m\u001b[0mx_encoded\u001b[0m\u001b[0;34m.\u001b[0m\u001b[0mshape\u001b[0m\u001b[0;34m,\u001b[0m \u001b[0mx_encoded\u001b[0m\u001b[0;34m)\u001b[0m\u001b[0;34m\u001b[0m\u001b[0m\n\u001b[0;32m---> 48\u001b[0;31m     \u001b[0mx_decoded\u001b[0m \u001b[0;34m=\u001b[0m \u001b[0mgenerator\u001b[0m\u001b[0;34m.\u001b[0m\u001b[0mpredict\u001b[0m\u001b[0;34m(\u001b[0m\u001b[0mx_encoded\u001b[0m\u001b[0;34m.\u001b[0m\u001b[0mreshape\u001b[0m\u001b[0;34m(\u001b[0m\u001b[0;34m[\u001b[0m\u001b[0;36m1\u001b[0m\u001b[0;34m,\u001b[0m \u001b[0mlatent_dim\u001b[0m\u001b[0;34m]\u001b[0m\u001b[0;34m)\u001b[0m\u001b[0;34m)\u001b[0m\u001b[0;34m\u001b[0m\u001b[0m\n\u001b[0m\u001b[1;32m     49\u001b[0m \u001b[0;34m\u001b[0m\u001b[0m\n\u001b[1;32m     50\u001b[0m     \u001b[0;31m# display a 2D manifold of output samples\u001b[0m\u001b[0;34m\u001b[0m\u001b[0;34m\u001b[0m\u001b[0m\n",
      "\u001b[0;32m/Library/Frameworks/Python.framework/Versions/3.6/lib/python3.6/site-packages/keras/engine/training.py\u001b[0m in \u001b[0;36mpredict\u001b[0;34m(self, x, batch_size, verbose, steps)\u001b[0m\n\u001b[1;32m   1815\u001b[0m         x = _standardize_input_data(x, self._feed_input_names,\n\u001b[1;32m   1816\u001b[0m                                     \u001b[0mself\u001b[0m\u001b[0;34m.\u001b[0m\u001b[0m_feed_input_shapes\u001b[0m\u001b[0;34m,\u001b[0m\u001b[0;34m\u001b[0m\u001b[0m\n\u001b[0;32m-> 1817\u001b[0;31m                                     check_batch_axis=False)\n\u001b[0m\u001b[1;32m   1818\u001b[0m         \u001b[0;32mif\u001b[0m \u001b[0mself\u001b[0m\u001b[0;34m.\u001b[0m\u001b[0mstateful\u001b[0m\u001b[0;34m:\u001b[0m\u001b[0;34m\u001b[0m\u001b[0m\n\u001b[1;32m   1819\u001b[0m             \u001b[0;32mif\u001b[0m \u001b[0mx\u001b[0m\u001b[0;34m[\u001b[0m\u001b[0;36m0\u001b[0m\u001b[0;34m]\u001b[0m\u001b[0;34m.\u001b[0m\u001b[0mshape\u001b[0m\u001b[0;34m[\u001b[0m\u001b[0;36m0\u001b[0m\u001b[0;34m]\u001b[0m \u001b[0;34m>\u001b[0m \u001b[0mbatch_size\u001b[0m \u001b[0;32mand\u001b[0m \u001b[0mx\u001b[0m\u001b[0;34m[\u001b[0m\u001b[0;36m0\u001b[0m\u001b[0;34m]\u001b[0m\u001b[0;34m.\u001b[0m\u001b[0mshape\u001b[0m\u001b[0;34m[\u001b[0m\u001b[0;36m0\u001b[0m\u001b[0;34m]\u001b[0m \u001b[0;34m%\u001b[0m \u001b[0mbatch_size\u001b[0m \u001b[0;34m!=\u001b[0m \u001b[0;36m0\u001b[0m\u001b[0;34m:\u001b[0m\u001b[0;34m\u001b[0m\u001b[0m\n",
      "\u001b[0;32m/Library/Frameworks/Python.framework/Versions/3.6/lib/python3.6/site-packages/keras/engine/training.py\u001b[0m in \u001b[0;36m_standardize_input_data\u001b[0;34m(data, names, shapes, check_batch_axis, exception_prefix)\u001b[0m\n\u001b[1;32m    111\u001b[0m                         \u001b[0;34m': expected '\u001b[0m \u001b[0;34m+\u001b[0m \u001b[0mnames\u001b[0m\u001b[0;34m[\u001b[0m\u001b[0mi\u001b[0m\u001b[0;34m]\u001b[0m \u001b[0;34m+\u001b[0m \u001b[0;34m' to have '\u001b[0m \u001b[0;34m+\u001b[0m\u001b[0;34m\u001b[0m\u001b[0m\n\u001b[1;32m    112\u001b[0m                         \u001b[0mstr\u001b[0m\u001b[0;34m(\u001b[0m\u001b[0mlen\u001b[0m\u001b[0;34m(\u001b[0m\u001b[0mshape\u001b[0m\u001b[0;34m)\u001b[0m\u001b[0;34m)\u001b[0m \u001b[0;34m+\u001b[0m \u001b[0;34m' dimensions, but got array '\u001b[0m\u001b[0;34m\u001b[0m\u001b[0m\n\u001b[0;32m--> 113\u001b[0;31m                         'with shape ' + str(data_shape))\n\u001b[0m\u001b[1;32m    114\u001b[0m                 \u001b[0;32mif\u001b[0m \u001b[0;32mnot\u001b[0m \u001b[0mcheck_batch_axis\u001b[0m\u001b[0;34m:\u001b[0m\u001b[0;34m\u001b[0m\u001b[0m\n\u001b[1;32m    115\u001b[0m                     \u001b[0mdata_shape\u001b[0m \u001b[0;34m=\u001b[0m \u001b[0mdata_shape\u001b[0m\u001b[0;34m[\u001b[0m\u001b[0;36m1\u001b[0m\u001b[0;34m:\u001b[0m\u001b[0;34m]\u001b[0m\u001b[0;34m\u001b[0m\u001b[0m\n",
      "\u001b[0;31mValueError\u001b[0m: Error when checking : expected input_1 to have 3 dimensions, but got array with shape (1, 3)"
     ]
    }
   ],
   "source": [
    "min_y = 0.01\n",
    "max_y = 0.5\n",
    "plot.latent(generator, batch_size, latent_dim,\n",
    "       n=8,\n",
    "       m=3,\n",
    "       crop_size=30,\n",
    "       margin_top=1,\n",
    "       margin_left=1,\n",
    "       min_x=0.05,\n",
    "       max_x=0.95,\n",
    "       min_y=min_y,\n",
    "       max_y=max_y)"
   ]
  },
  {
   "cell_type": "code",
   "execution_count": null,
   "metadata": {},
   "outputs": [],
   "source": [
    "min_y2 = max_y\n",
    "plot.latent(generator, batch_size, latent_dim,\n",
    "       n=8,\n",
    "       m=3,\n",
    "       crop_size=30,\n",
    "       margin_top=1,\n",
    "       margin_left=1,\n",
    "       min_x=0.05,\n",
    "       max_x=0.95,\n",
    "       min_y=min_y2,\n",
    "       max_y=0.95)"
   ]
  },
  {
   "cell_type": "code",
   "execution_count": null,
   "metadata": {},
   "outputs": [],
   "source": []
  },
  {
   "cell_type": "code",
   "execution_count": null,
   "metadata": {},
   "outputs": [],
   "source": []
  },
  {
   "cell_type": "code",
   "execution_count": null,
   "metadata": {},
   "outputs": [],
   "source": []
  },
  {
   "cell_type": "code",
   "execution_count": null,
   "metadata": {},
   "outputs": [],
   "source": []
  },
  {
   "cell_type": "code",
   "execution_count": null,
   "metadata": {},
   "outputs": [],
   "source": []
  },
  {
   "cell_type": "code",
   "execution_count": null,
   "metadata": {},
   "outputs": [],
   "source": []
  },
  {
   "cell_type": "code",
   "execution_count": null,
   "metadata": {},
   "outputs": [],
   "source": []
  },
  {
   "cell_type": "code",
   "execution_count": null,
   "metadata": {},
   "outputs": [],
   "source": []
  }
 ],
 "metadata": {
  "kernelspec": {
   "display_name": "Python 3",
   "language": "python",
   "name": "python3"
  },
  "language_info": {
   "codemirror_mode": {
    "name": "ipython",
    "version": 3
   },
   "file_extension": ".py",
   "mimetype": "text/x-python",
   "name": "python",
   "nbconvert_exporter": "python",
   "pygments_lexer": "ipython3",
   "version": "3.6.4"
  }
 },
 "nbformat": 4,
 "nbformat_minor": 2
}
