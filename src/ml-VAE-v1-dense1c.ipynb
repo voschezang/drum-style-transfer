{
 "cells": [
  {
   "cell_type": "code",
   "execution_count": 1,
   "metadata": {},
   "outputs": [],
   "source": [
    "import config\n",
    "import os, numpy as np, pandas, sklearn, scipy.signal as signal\n",
    "import mido\n",
    "import matplotlib.pyplot as plt\n",
    "%matplotlib inline"
   ]
  },
  {
   "cell_type": "code",
   "execution_count": 2,
   "metadata": {},
   "outputs": [
    {
     "name": "stderr",
     "output_type": "stream",
     "text": [
      "/Library/Frameworks/Python.framework/Versions/3.6/lib/python3.6/site-packages/h5py/__init__.py:36: FutureWarning: Conversion of the second argument of issubdtype from `float` to `np.floating` is deprecated. In future, it will be treated as `np.float64 == np.dtype(float).type`.\n",
      "  from ._conv import register_converters as _register_converters\n",
      "Using TensorFlow backend.\n"
     ]
    }
   ],
   "source": [
    "## NN libs\n",
    "from sklearn.decomposition import PCA\n",
    "from sklearn import preprocessing\n",
    "from sklearn.preprocessing import RobustScaler\n",
    "import keras\n",
    "from keras import regularizers\n",
    "from keras import backend as K, metrics\n",
    "from keras.utils import to_categorical, plot_model\n",
    "from keras.layers import Input, Dense, Activation, Conv1D, Conv2D, Dropout, Flatten, Lambda\n",
    "from keras.layers import Conv2DTranspose, Reshape, MaxPooling2D, UpSampling2D, UpSampling1D, MaxPooling1D\n",
    "from keras.layers import LocallyConnected1D, LocallyConnected2D\n",
    "from keras.layers import Input, LSTM, RepeatVector\n",
    "from keras.models import Model\n",
    "from keras.callbacks import TensorBoard"
   ]
  },
  {
   "cell_type": "code",
   "execution_count": 3,
   "metadata": {},
   "outputs": [
    {
     "name": "stdout",
     "output_type": "stream",
     "text": [
      " Context :: namedtuple(\n",
      "[ max_t = float\n",
      ", dt = float\n",
      ", n_instances = int\n",
      ", note_length = int\n",
      ", bpm = float\n",
      ", tempo = float\n",
      ", ticks_per_beat = int\n",
      "]\n",
      "\n"
     ]
    }
   ],
   "source": [
    "# local libs\n",
    "import config, models, functions\n",
    "from data import data, midi, midi_generators as g\n",
    "from utils import io, models_io, utils"
   ]
  },
  {
   "cell_type": "code",
   "execution_count": 4,
   "metadata": {
    "scrolled": true
   },
   "outputs": [
    {
     "name": "stdout",
     "output_type": "stream",
     "text": [
      "Setting up params\n",
      "\n",
      "max min f 25.0 0.3333333333333333\n",
      " >> Context(max_t=3.0, dt=0.02, n_instances=150, note_length=0.03, bpm=120.0, tempo=500000, ticks_per_beat=480)\n",
      "Setting up params\n",
      "\n",
      "max min f 25.0 0.3333333333333333\n",
      " >> Context(max_t=3.0, dt=0.02, n_instances=150, note_length=0.03, bpm=120.0, tempo=500000, ticks_per_beat=480)\n",
      "Importing midi-data\n",
      "\n",
      "\u001b[92m [INFO] : \u001b[0m\n",
      " |  reading file: ../datasets/examples/01 16th Snare.mid\n",
      "\u001b[92m [INFO] : \u001b[0m\n",
      " |  reading file: ../datasets/examples/01 8th Cym.mid\n",
      "\n",
      "Encoding midi-data\n",
      " [<midi file '../datasets/examples/01 16th Snare.mid' type 0, 1 tracks, 182 messages>, <midi file '../datasets/examples/01 8th Cym.mid' type 0, 1 tracks, 68 messages>]\n",
      "> -> multi-track = False\n",
      "\u001b[91m [DEBUG] > \u001b[0m\n",
      " |>  to_array: msg.time > max_t; t, n\n",
      " |>  2.994791666666667\n",
      " |>  150\n",
      "\u001b[91m [DEBUG] > \u001b[0m\n",
      " |>  to_array: msg.time > max_t; t, n\n",
      " |>  2.9947916666666665\n",
      " |>  150\n"
     ]
    }
   ],
   "source": [
    "context = data.init()\n",
    "n = 2\n",
    "multiTrack = False\n",
    "context, x_train, labels = data.import_data(data.init(), n, multiTrack=multiTrack)"
   ]
  },
  {
   "cell_type": "code",
   "execution_count": 5,
   "metadata": {},
   "outputs": [
    {
     "name": "stdout",
     "output_type": "stream",
     "text": [
      "\u001b[91m [DEBUG] > \u001b[0m\n",
      " |>  to_array: msg.time > max_t; t, n\n",
      " |>  3.0020833333333368\n",
      " |>  150\n",
      "\u001b[91m [DEBUG] > \u001b[0m\n",
      " |>  to_array: msg.time > max_t; t, n\n",
      " |>  3.0000000000000027\n",
      " |>  150\n",
      "\u001b[91m [DEBUG] > \u001b[0m\n",
      " |>  to_array: msg.time > max_t; t, n\n",
      " |>  2.9958333333333367\n",
      " |>  150\n",
      "\u001b[91m [DEBUG] > \u001b[0m\n",
      " |>  to_array: msg.time > max_t; t, n\n",
      " |>  3.016666666666665\n",
      " |>  150\n",
      "\u001b[91m [DEBUG] > \u001b[0m\n",
      " |>  to_array: msg.time > max_t; t, n\n",
      " |>  2.9906250000000036\n",
      " |>  150\n",
      "\u001b[91m [DEBUG] > \u001b[0m\n",
      " |>  to_array: msg.time > max_t; t, n\n",
      " |>  2.995833333333332\n",
      " |>  150\n",
      "\u001b[91m [DEBUG] > \u001b[0m\n",
      " |>  to_array: msg.time > max_t; t, n\n",
      " |>  3.0083333333333355\n",
      " |>  150\n",
      "\u001b[91m [DEBUG] > \u001b[0m\n",
      " |>  to_array: msg.time > max_t; t, n\n",
      " |>  3.0010416666666657\n",
      " |>  150\n",
      "\u001b[91m [DEBUG] > \u001b[0m\n",
      " |>  to_array: msg.time > max_t; t, n\n",
      " |>  3.010416666666667\n",
      " |>  150\n",
      "\u001b[91m [DEBUG] > \u001b[0m\n",
      " |>  to_array: msg.time > max_t; t, n\n",
      " |>  2.990625000000001\n",
      " |>  150\n",
      "\u001b[91m [DEBUG] > \u001b[0m\n",
      " |>  to_array: msg.time > max_t; t, n\n",
      " |>  2.9979166666666672\n",
      " |>  150\n",
      "\u001b[91m [DEBUG] > \u001b[0m\n",
      " |>  to_array: msg.time > max_t; t, n\n",
      " |>  2.9968750000000024\n",
      " |>  150\n",
      "\u001b[91m [DEBUG] > \u001b[0m\n",
      " |>  to_array: msg.time > max_t; t, n\n",
      " |>  2.992708333333335\n",
      " |>  150\n",
      "\u001b[91m [DEBUG] > \u001b[0m\n",
      " |>  to_array: msg.time > max_t; t, n\n",
      " |>  3.001041666666669\n",
      " |>  150\n",
      "\u001b[91m [DEBUG] > \u001b[0m\n",
      " |>  to_array: msg.time > max_t; t, n\n",
      " |>  2.9989583333333347\n",
      " |>  150\n",
      "\u001b[91m [DEBUG] > \u001b[0m\n",
      " |>  to_array: msg.time > max_t; t, n\n",
      " |>  2.9916666666666702\n",
      " |>  150\n",
      "\u001b[91m [DEBUG] > \u001b[0m\n",
      " |>  to_array: msg.time > max_t; t, n\n",
      " |>  2.991666666666671\n",
      " |>  150\n",
      "\u001b[91m [DEBUG] > \u001b[0m\n",
      " |>  to_array: msg.time > max_t; t, n\n",
      " |>  2.992708333333333\n",
      " |>  150\n",
      "\u001b[91m [DEBUG] > \u001b[0m\n",
      " |>  to_array: msg.time > max_t; t, n\n",
      " |>  2.995833333333336\n",
      " |>  150\n",
      "\u001b[91m [DEBUG] > \u001b[0m\n",
      " |>  to_array: msg.time > max_t; t, n\n",
      " |>  2.9916666666666694\n",
      " |>  150\n",
      "\u001b[91m [DEBUG] > \u001b[0m\n",
      " |>  to_array: msg.time > max_t; t, n\n",
      " |>  2.997916666666669\n",
      " |>  150\n",
      "\u001b[91m [DEBUG] > \u001b[0m\n",
      " |>  to_array: msg.time > max_t; t, n\n",
      " |>  2.997916666666669\n",
      " |>  150\n",
      "\u001b[91m [DEBUG] > \u001b[0m\n",
      " |>  to_array: msg.time > max_t; t, n\n",
      " |>  2.9906250000000023\n",
      " |>  150\n",
      "\u001b[91m [DEBUG] > \u001b[0m\n",
      " |>  to_array: msg.time > max_t; t, n\n",
      " |>  2.9958333333333336\n",
      " |>  150\n",
      "\u001b[91m [DEBUG] > \u001b[0m\n",
      " |>  to_array: msg.time > max_t; t, n\n",
      " |>  2.9968749999999993\n",
      " |>  150\n",
      "\u001b[91m [DEBUG] > \u001b[0m\n",
      " |>  to_array: msg.time > max_t; t, n\n",
      " |>  2.995833333333333\n",
      " |>  150\n",
      "\u001b[91m [DEBUG] > \u001b[0m\n",
      " |>  to_array: msg.time > max_t; t, n\n",
      " |>  3.005208333333336\n",
      " |>  150\n",
      "\u001b[91m [DEBUG] > \u001b[0m\n",
      " |>  to_array: msg.time > max_t; t, n\n",
      " |>  2.9989583333333356\n",
      " |>  150\n",
      "\u001b[91m [DEBUG] > \u001b[0m\n",
      " |>  to_array: msg.time > max_t; t, n\n",
      " |>  3.0010416666666693\n",
      " |>  150\n",
      "\u001b[91m [DEBUG] > \u001b[0m\n",
      " |>  to_array: msg.time > max_t; t, n\n",
      " |>  2.9906249999999965\n",
      " |>  150\n",
      "\u001b[91m [DEBUG] > \u001b[0m\n",
      " |>  to_array: msg.time > max_t; t, n\n",
      " |>  2.9989583333333334\n",
      " |>  150\n",
      "\u001b[91m [DEBUG] > \u001b[0m\n",
      " |>  to_array: msg.time > max_t; t, n\n",
      " |>  2.991666666666667\n",
      " |>  150\n",
      "\u001b[91m [DEBUG] > \u001b[0m\n",
      " |>  to_array: msg.time > max_t; t, n\n",
      " |>  2.9927083333333324\n",
      " |>  150\n",
      "\u001b[91m [DEBUG] > \u001b[0m\n",
      " |>  to_array: msg.time > max_t; t, n\n",
      " |>  2.9958333333333376\n",
      " |>  150\n",
      "\u001b[91m [DEBUG] > \u001b[0m\n",
      " |>  to_array: msg.time > max_t; t, n\n",
      " |>  2.9958333333333402\n",
      " |>  150\n",
      "\u001b[91m [DEBUG] > \u001b[0m\n",
      " |>  to_array: msg.time > max_t; t, n\n",
      " |>  3.007291666666665\n",
      " |>  150\n",
      "\u001b[91m [DEBUG] > \u001b[0m\n",
      " |>  to_array: msg.time > max_t; t, n\n",
      " |>  3.0166666666666675\n",
      " |>  150\n",
      "\u001b[91m [DEBUG] > \u001b[0m\n",
      " |>  to_array: msg.time > max_t; t, n\n",
      " |>  2.9927083333333324\n",
      " |>  150\n",
      "\u001b[91m [DEBUG] > \u001b[0m\n",
      " |>  to_array: msg.time > max_t; t, n\n",
      " |>  2.9906250000000028\n",
      " |>  150\n",
      "\u001b[91m [DEBUG] > \u001b[0m\n",
      " |>  to_array: msg.time > max_t; t, n\n",
      " |>  3.0052083333333317\n",
      " |>  150\n",
      "\u001b[91m [DEBUG] > \u001b[0m\n",
      " |>  to_array: msg.time > max_t; t, n\n",
      " |>  2.9906249999999996\n",
      " |>  150\n",
      "\u001b[91m [DEBUG] > \u001b[0m\n",
      " |>  to_array: msg.time > max_t; t, n\n",
      " |>  3.004166666666669\n",
      " |>  150\n",
      "\u001b[91m [DEBUG] > \u001b[0m\n",
      " |>  to_array: msg.time > max_t; t, n\n",
      " |>  3.0072916666666685\n",
      " |>  150\n",
      "\u001b[91m [DEBUG] > \u001b[0m\n",
      " |>  to_array: msg.time > max_t; t, n\n",
      " |>  3.0062500000000028\n",
      " |>  150\n",
      "\u001b[91m [DEBUG] > \u001b[0m\n",
      " |>  to_array: msg.time > max_t; t, n\n",
      " |>  2.9927083333333355\n",
      " |>  150\n",
      "\u001b[91m [DEBUG] > \u001b[0m\n",
      " |>  to_array: msg.time > max_t; t, n\n",
      " |>  3.0\n",
      " |>  150\n",
      "\u001b[91m [DEBUG] > \u001b[0m\n",
      " |>  to_array: msg.time > max_t; t, n\n",
      " |>  2.9958333333333336\n",
      " |>  150\n",
      "\u001b[91m [DEBUG] > \u001b[0m\n",
      " |>  to_array: msg.time > max_t; t, n\n",
      " |>  3.0072916666666702\n",
      " |>  150\n",
      "\u001b[91m [DEBUG] > \u001b[0m\n",
      " |>  to_array: msg.time > max_t; t, n\n",
      " |>  2.9927083333333377\n",
      " |>  150\n",
      "\u001b[91m [DEBUG] > \u001b[0m\n",
      " |>  to_array: msg.time > max_t; t, n\n",
      " |>  2.994791666666668\n",
      " |>  150\n",
      "\u001b[91m [DEBUG] > \u001b[0m\n",
      " |>  to_array: msg.time > max_t; t, n\n",
      " |>  2.990625\n",
      " |>  150\n",
      "\u001b[91m [DEBUG] > \u001b[0m\n",
      " |>  to_array: msg.time > max_t; t, n\n",
      " |>  2.9947916666666674\n",
      " |>  150\n",
      "\u001b[91m [DEBUG] > \u001b[0m\n",
      " |>  to_array: msg.time > max_t; t, n\n",
      " |>  3.005208333333335\n",
      " |>  150\n",
      "\u001b[91m [DEBUG] > \u001b[0m\n",
      " |>  to_array: msg.time > max_t; t, n\n",
      " |>  3.001041666666669\n",
      " |>  150\n",
      "\u001b[91m [DEBUG] > \u001b[0m\n",
      " |>  to_array: msg.time > max_t; t, n\n",
      " |>  3.021875000000001\n",
      " |>  150\n",
      "\u001b[91m [DEBUG] > \u001b[0m\n",
      " |>  to_array: msg.time > max_t; t, n\n",
      " |>  2.9906250000000014\n",
      " |>  150\n",
      "\u001b[91m [DEBUG] > \u001b[0m\n",
      " |>  to_array: msg.time > max_t; t, n\n",
      " |>  3.005208333333335\n",
      " |>  150\n",
      "\u001b[91m [DEBUG] > \u001b[0m\n",
      " |>  to_array: msg.time > max_t; t, n\n",
      " |>  3.001041666666671\n",
      " |>  150\n",
      "\u001b[91m [DEBUG] > \u001b[0m\n",
      " |>  to_array: msg.time > max_t; t, n\n",
      " |>  3.02291666666667\n",
      " |>  150\n",
      "\u001b[91m [DEBUG] > \u001b[0m\n",
      " |>  to_array: msg.time > max_t; t, n\n",
      " |>  3.006249999999999\n",
      " |>  150\n",
      "\u001b[91m [DEBUG] > \u001b[0m\n",
      " |>  to_array: msg.time > max_t; t, n\n",
      " |>  2.9906249999999974\n",
      " |>  150\n",
      "\u001b[91m [DEBUG] > \u001b[0m\n",
      " |>  to_array: msg.time > max_t; t, n\n",
      " |>  3.001041666666669\n",
      " |>  150\n",
      "\u001b[91m [DEBUG] > \u001b[0m\n",
      " |>  to_array: msg.time > max_t; t, n\n",
      " |>  2.9916666666666694\n",
      " |>  150\n",
      "\u001b[91m [DEBUG] > \u001b[0m\n",
      " |>  to_array: msg.time > max_t; t, n\n",
      " |>  2.9947916666666674\n",
      " |>  150\n",
      "\u001b[91m [DEBUG] > \u001b[0m\n",
      " |>  to_array: msg.time > max_t; t, n\n",
      " |>  2.9979166666666686\n",
      " |>  150\n",
      "\u001b[91m [DEBUG] > \u001b[0m\n",
      " |>  to_array: msg.time > max_t; t, n\n",
      " |>  3.001041666666666\n",
      " |>  150\n",
      "\u001b[91m [DEBUG] > \u001b[0m\n",
      " |>  to_array: msg.time > max_t; t, n\n",
      " |>  2.995833333333334\n",
      " |>  150\n",
      "\u001b[91m [DEBUG] > \u001b[0m\n",
      " |>  to_array: msg.time > max_t; t, n\n",
      " |>  2.9947916666666674\n",
      " |>  150\n",
      "\u001b[91m [DEBUG] > \u001b[0m\n",
      " |>  to_array: msg.time > max_t; t, n\n",
      " |>  2.9916666666666667\n",
      " |>  150\n",
      "\u001b[91m [DEBUG] > \u001b[0m\n",
      " |>  to_array: msg.time > max_t; t, n\n",
      " |>  2.998958333333334\n",
      " |>  150\n",
      "\u001b[91m [DEBUG] > \u001b[0m\n",
      " |>  to_array: msg.time > max_t; t, n\n",
      " |>  3.005208333333332\n",
      " |>  150\n",
      "\u001b[91m [DEBUG] > \u001b[0m\n",
      " |>  to_array: msg.time > max_t; t, n\n",
      " |>  2.9958333333333345\n",
      " |>  150\n",
      "\u001b[91m [DEBUG] > \u001b[0m\n",
      " |>  to_array: msg.time > max_t; t, n\n",
      " |>  2.996875000000002\n",
      " |>  150\n",
      "\u001b[91m [DEBUG] > \u001b[0m\n",
      " |>  to_array: msg.time > max_t; t, n\n",
      " |>  3.0041666666666678\n",
      " |>  150\n",
      "\u001b[91m [DEBUG] > \u001b[0m\n",
      " |>  to_array: msg.time > max_t; t, n\n",
      " |>  3.0041666666666695\n",
      " |>  150\n",
      "\u001b[91m [DEBUG] > \u001b[0m\n",
      " |>  to_array: msg.time > max_t; t, n\n",
      " |>  2.9906250000000028\n",
      " |>  150\n",
      "\u001b[91m [DEBUG] > \u001b[0m\n",
      " |>  to_array: msg.time > max_t; t, n\n",
      " |>  3.0156250000000018\n",
      " |>  150\n",
      "\u001b[91m [DEBUG] > \u001b[0m\n",
      " |>  to_array: msg.time > max_t; t, n\n",
      " |>  3.0083333333333386\n",
      " |>  150\n",
      "\u001b[91m [DEBUG] > \u001b[0m\n",
      " |>  to_array: msg.time > max_t; t, n\n",
      " |>  3.0010416666666675\n",
      " |>  150\n",
      "\u001b[91m [DEBUG] > \u001b[0m\n",
      " |>  to_array: msg.time > max_t; t, n\n",
      " |>  3.0114583333333336\n",
      " |>  150\n",
      "\u001b[91m [DEBUG] > \u001b[0m\n",
      " |>  to_array: msg.time > max_t; t, n\n",
      " |>  3.002083333333336\n",
      " |>  150\n",
      "\u001b[91m [DEBUG] > \u001b[0m\n",
      " |>  to_array: msg.time > max_t; t, n\n",
      " |>  3.0072916666666627\n",
      " |>  150\n",
      "\u001b[91m [DEBUG] > \u001b[0m\n",
      " |>  to_array: msg.time > max_t; t, n\n",
      " |>  2.991666666666665\n",
      " |>  150\n",
      "\u001b[91m [DEBUG] > \u001b[0m\n",
      " |>  to_array: msg.time > max_t; t, n\n",
      " |>  2.9968749999999997\n",
      " |>  150\n",
      "\u001b[91m [DEBUG] > \u001b[0m\n",
      " |>  to_array: msg.time > max_t; t, n\n",
      " |>  2.997916666666669\n",
      " |>  150\n",
      "\u001b[91m [DEBUG] > \u001b[0m\n",
      " |>  to_array: msg.time > max_t; t, n\n",
      " |>  2.995833333333335\n",
      " |>  150\n",
      "\u001b[91m [DEBUG] > \u001b[0m\n",
      " |>  to_array: msg.time > max_t; t, n\n",
      " |>  2.99166666666667\n",
      " |>  150\n",
      "\u001b[91m [DEBUG] > \u001b[0m\n",
      " |>  to_array: msg.time > max_t; t, n\n",
      " |>  2.9947916666666674\n",
      " |>  150\n",
      "\u001b[91m [DEBUG] > \u001b[0m\n",
      " |>  to_array: msg.time > max_t; t, n\n",
      " |>  2.994791666666667\n",
      " |>  150\n",
      "\u001b[91m [DEBUG] > \u001b[0m\n",
      " |>  to_array: msg.time > max_t; t, n\n",
      " |>  2.9979166666666677\n",
      " |>  150\n",
      "\u001b[91m [DEBUG] > \u001b[0m\n",
      " |>  to_array: msg.time > max_t; t, n\n",
      " |>  2.9989583333333343\n",
      " |>  150\n",
      "\u001b[91m [DEBUG] > \u001b[0m\n",
      " |>  to_array: msg.time > max_t; t, n\n",
      " |>  3.0197916666666687\n",
      " |>  150\n",
      "\u001b[91m [DEBUG] > \u001b[0m\n",
      " |>  to_array: msg.time > max_t; t, n\n",
      " |>  2.992708333333335\n",
      " |>  150\n",
      "\u001b[91m [DEBUG] > \u001b[0m\n",
      " |>  to_array: msg.time > max_t; t, n\n",
      " |>  2.9937500000000012\n",
      " |>  150\n",
      "\u001b[91m [DEBUG] > \u001b[0m\n",
      " |>  to_array: msg.time > max_t; t, n\n",
      " |>  2.9916666666666676\n",
      " |>  150\n"
     ]
    },
    {
     "name": "stdout",
     "output_type": "stream",
     "text": [
      "\u001b[91m [DEBUG] > \u001b[0m\n",
      " |>  to_array: msg.time > max_t; t, n\n",
      " |>  3.0010416666666693\n",
      " |>  150\n",
      "\u001b[91m [DEBUG] > \u001b[0m\n",
      " |>  to_array: msg.time > max_t; t, n\n",
      " |>  3.0000000000000013\n",
      " |>  150\n",
      "\u001b[91m [DEBUG] > \u001b[0m\n",
      " |>  to_array: msg.time > max_t; t, n\n",
      " |>  2.9916666666666676\n",
      " |>  150\n",
      "\u001b[91m [DEBUG] > \u001b[0m\n",
      " |>  to_array: msg.time > max_t; t, n\n",
      " |>  3.01979166666667\n",
      " |>  150\n",
      "\u001b[91m [DEBUG] > \u001b[0m\n",
      " |>  to_array: msg.time > max_t; t, n\n",
      " |>  2.99375\n",
      " |>  150\n"
     ]
    }
   ],
   "source": [
    "n = 100\n",
    "min_f = 3\n",
    "max_f = 20\n",
    "# x_train = g.gen_data(context, n, max_f=max_f, min_f=min_f)\n",
    "x_train = g.gen_data_complex(context, n, max_f=max_f, min_f=min_f, multiTrack=multiTrack)\n",
    "y_train = x_train"
   ]
  },
  {
   "cell_type": "code",
   "execution_count": null,
   "metadata": {},
   "outputs": [],
   "source": []
  },
  {
   "cell_type": "code",
   "execution_count": 6,
   "metadata": {},
   "outputs": [
    {
     "data": {
      "text/plain": [
       "(283, 150, 1)"
      ]
     },
     "execution_count": 6,
     "metadata": {},
     "output_type": "execute_result"
    }
   ],
   "source": [
    "x_train.shape"
   ]
  },
  {
   "cell_type": "code",
   "execution_count": 7,
   "metadata": {},
   "outputs": [
    {
     "data": {
      "text/plain": [
       "[<matplotlib.lines.Line2D at 0x1198e3668>]"
      ]
     },
     "execution_count": 7,
     "metadata": {},
     "output_type": "execute_result"
    },
    {
     "data": {
      "image/png": "[encoded data removed]",
      "text/plain": [
       "<matplotlib.figure.Figure at 0x1179524e0>"
      ]
     },
     "metadata": {},
     "output_type": "display_data"
    }
   ],
   "source": [
    "plt.plot(x_train[0,:100])"
   ]
  },
  {
   "cell_type": "code",
   "execution_count": 8,
   "metadata": {},
   "outputs": [
    {
     "data": {
      "text/plain": [
       "(283, 150, 1)"
      ]
     },
     "execution_count": 8,
     "metadata": {},
     "output_type": "execute_result"
    }
   ],
   "source": [
    "x_train.shape"
   ]
  },
  {
   "cell_type": "code",
   "execution_count": 9,
   "metadata": {},
   "outputs": [
    {
     "data": {
      "text/plain": [
       "(150, 1)"
      ]
     },
     "execution_count": 9,
     "metadata": {},
     "output_type": "execute_result"
    }
   ],
   "source": [
    "n_samples = x_train[0]\n",
    "input_shape = x_train.shape[1:] # shape of a single sample\n",
    "output_shape = y_train.shape[1:] # shape of a single sample\n",
    "# output_length = y_train.shape[1:][0]\n",
    "hidden_layer_length = 150\n",
    "input_shape"
   ]
  },
  {
   "cell_type": "code",
   "execution_count": 10,
   "metadata": {},
   "outputs": [
    {
     "data": {
      "text/plain": [
       "(150, 1)"
      ]
     },
     "execution_count": 10,
     "metadata": {},
     "output_type": "execute_result"
    }
   ],
   "source": [
    "output_shape"
   ]
  },
  {
   "cell_type": "code",
   "execution_count": 11,
   "metadata": {},
   "outputs": [],
   "source": [
    "num_encoder_tokens = x_train.shape[-1]\n",
    "num_decoder_tokens = y_train.shape[-1]\n",
    "# latent_dim = 1"
   ]
  },
  {
   "cell_type": "code",
   "execution_count": 12,
   "metadata": {
    "scrolled": true
   },
   "outputs": [],
   "source": [
    "k_reg = regularizers.l2(0.01) # 10e-5\n",
    "# b_reg = regularizers.l1(0.01)\n",
    "a_reg = regularizers.l1(0.01) # 10e-5"
   ]
  },
  {
   "cell_type": "code",
   "execution_count": 13,
   "metadata": {},
   "outputs": [
    {
     "data": {
      "text/plain": [
       "(150, 1)"
      ]
     },
     "execution_count": 13,
     "metadata": {},
     "output_type": "execute_result"
    }
   ],
   "source": [
    "input_shape\n",
    "# input_shape = (150,)\n",
    "input_shape"
   ]
  },
  {
   "cell_type": "code",
   "execution_count": 14,
   "metadata": {},
   "outputs": [],
   "source": [
    "batch_size = 16\n",
    "original_dim = 150\n",
    "latent_dim = 2\n",
    "intermediate_dim = 150\n",
    "epsilon_std = 1.0"
   ]
  },
  {
   "cell_type": "code",
   "execution_count": 118,
   "metadata": {},
   "outputs": [],
   "source": [
    "def sampling(args, latent_dim, epsilon_std):\n",
    "    z_mean, z_log_var = args\n",
    "    # epsilon = K.random_normal(shape=(batch_size, latent_dim), mean=0., stddev=epsilon_std)\n",
    "    epsilon = K.random_normal(shape=(K.shape(z_mean)[0], latent_dim), mean=0., stddev=epsilon_std)\n",
    "    return z_mean + K.exp(z_log_var / 2) * epsilon"
   ]
  },
  {
   "cell_type": "code",
   "execution_count": 158,
   "metadata": {},
   "outputs": [],
   "source": [
    "def encoder(latent_dim, input_shape, intermediate_dim = 150):\n",
    "    encoder_input = Input(shape=input_shape, name='encoder_input-')\n",
    "    y = encoder_input\n",
    "    y = Reshape(input_shape[:1])(y) # Flatten() nees 3 dims\n",
    "    h = Dense(intermediate_dim, activation='relu', name='encoder_h-')(y)\n",
    "    z_mean = Dense(latent_dim, name='z_mean')(h) # , activation='relu'\n",
    "    z_log_var = Dense(latent_dim, name='z_log_var')(h) # , activation='relu'\n",
    "\n",
    "    encoder_output = [z_mean, z_log_var]\n",
    "    encoder_model = Model(encoder_input, encoder_output, name='encoder_model-')\n",
    "    return encoder_model, z_mean, z_log_var, encoder_input\n",
    "\n",
    "def z_(latent_dim, epsilon_std):\n",
    "    # sample z from a distribution defined by [input_mean, input_log_var]\n",
    "    # input :: [z_mean, z_log_var]\n",
    "    z_input = [Input(shape=(latent_dim,)), Input(shape=(latent_dim,))]\n",
    "    sampling_ = lambda args: sampling(args, latent_dim, epsilon_std)\n",
    "    z_output = Lambda(sampling_, name='z_sampler-')(z_input)\n",
    "    # z_output = Lambda(sampling_, output_shape=(latent_dim,), name='z_sampler-')(z_input)\n",
    "    z_model = Model(z_input, z_output, name='z_model-')\n",
    "    return z_model\n",
    "\n",
    "def decoder(latent_dim, input_shape, intermediate_dim = 150):\n",
    "    z = Input(shape=(latent_dim,), name='decoder_input-')\n",
    "    decoder_h = Dense(intermediate_dim, activation='relu', name='decoder_h-')\n",
    "    h = decoder_h(z)\n",
    "    decoder_mean = Dense(original_dim, activation='sigmoid', name='decoder_mean-')\n",
    "    x_decoded_mean = decoder_mean(h)\n",
    "    h = Reshape(input_shape)(x_decoded_mean)\n",
    "    decoder_output = h\n",
    "    model = Model(inputs=z, outputs=decoder_output, name='decoder_model-')\n",
    "    return model"
   ]
  },
  {
   "cell_type": "code",
   "execution_count": 182,
   "metadata": {},
   "outputs": [
    {
     "name": "stdout",
     "output_type": "stream",
     "text": [
      "__________________________________________________________________________________________________\n",
      "Layer (type)                    Output Shape         Param #     Connected to                     \n",
      "==================================================================================================\n",
      "encoder_input- (InputLayer)     (None, 150, 1)       0                                            \n",
      "__________________________________________________________________________________________________\n",
      "reshape_29 (Reshape)            (None, 150)          0           encoder_input-[0][0]             \n",
      "__________________________________________________________________________________________________\n",
      "encoder_h- (Dense)              (None, 150)          22650       reshape_29[0][0]                 \n",
      "__________________________________________________________________________________________________\n",
      "z_mean (Dense)                  (None, 2)            302         encoder_h-[0][0]                 \n",
      "__________________________________________________________________________________________________\n",
      "z_log_var (Dense)               (None, 2)            302         encoder_h-[0][0]                 \n",
      "==================================================================================================\n",
      "Total params: 23,254\n",
      "Trainable params: 23,254\n",
      "Non-trainable params: 0\n",
      "__________________________________________________________________________________________________\n",
      "__________________________________________________________________________________________________\n",
      "Layer (type)                    Output Shape         Param #     Connected to                     \n",
      "==================================================================================================\n",
      "input_43 (InputLayer)           (None, 2)            0                                            \n",
      "__________________________________________________________________________________________________\n",
      "input_44 (InputLayer)           (None, 2)            0                                            \n",
      "__________________________________________________________________________________________________\n",
      "z_sampler- (Lambda)             (None, 2)            0           input_43[0][0]                   \n",
      "                                                                 input_44[0][0]                   \n",
      "==================================================================================================\n",
      "Total params: 0\n",
      "Trainable params: 0\n",
      "Non-trainable params: 0\n",
      "__________________________________________________________________________________________________\n",
      "_________________________________________________________________\n",
      "Layer (type)                 Output Shape              Param #   \n",
      "=================================================================\n",
      "decoder_input- (InputLayer)  (None, 2)                 0         \n",
      "_________________________________________________________________\n",
      "decoder_h- (Dense)           (None, 150)               450       \n",
      "_________________________________________________________________\n",
      "decoder_mean- (Dense)        (None, 150)               22650     \n",
      "_________________________________________________________________\n",
      "reshape_30 (Reshape)         (None, 150, 1)            0         \n",
      "=================================================================\n",
      "Total params: 23,100\n",
      "Trainable params: 23,100\n",
      "Non-trainable params: 0\n",
      "_________________________________________________________________\n",
      "__________________________________________________________________________________________________\n",
      "Layer (type)                    Output Shape         Param #     Connected to                     \n",
      "==================================================================================================\n",
      "encoder_input- (InputLayer)     (None, 150, 1)       0                                            \n",
      "__________________________________________________________________________________________________\n",
      "encoder_model- (Model)          [(None, 2), (None, 2 23254       encoder_input-[0][0]             \n",
      "__________________________________________________________________________________________________\n",
      "z_model- (Model)                (None, 2)            0           encoder_model-[1][0]             \n",
      "                                                                 encoder_model-[1][1]             \n",
      "__________________________________________________________________________________________________\n",
      "decoder_model- (Model)          (None, 150, 1)       23100       z_model-[1][0]                   \n",
      "==================================================================================================\n",
      "Total params: 46,354\n",
      "Trainable params: 46,354\n",
      "Non-trainable params: 0\n",
      "__________________________________________________________________________________________________\n"
     ]
    }
   ],
   "source": [
    "encoder_model, z_mean, z_log_var, encoder_input = encoder(latent_dim, input_shape)\n",
    "z_model = z_(latent_dim, epsilon_std)\n",
    "decoder_model = decoder(latent_dim, input_shape)\n",
    "\n",
    "vae_input = Input(shape=input_shape)\n",
    "# vae_input = Input(shape=(150,1))\n",
    "vae_input = encoder_input # WHY ?\n",
    "vae_output = decoder_model(z_model(encoder_model(vae_input)))\n",
    "# vae_output = decoder_model(z)\n",
    "vae = Model(vae_input, vae_output)\n",
    "# vae = Model(encoder_input, decoder_model(z))\n",
    "# vae = Model(encoder_input, decoder_output)\n",
    "encoder_model.summary()\n",
    "z_model.summary()\n",
    "decoder_model.summary()\n",
    "vae.summary()"
   ]
  },
  {
   "cell_type": "code",
   "execution_count": 183,
   "metadata": {},
   "outputs": [
    {
     "name": "stderr",
     "output_type": "stream",
     "text": [
      "/Library/Frameworks/Python.framework/Versions/3.6/lib/python3.6/site-packages/ipykernel_launcher.py:17: UserWarning: Output \"decoder_model-\" missing from loss dictionary. We assume this was done on purpose, and we will not be expecting any data to be passed to \"decoder_model-\" during training.\n"
     ]
    }
   ],
   "source": [
    "# xent_loss = original_dim * keras.metrics.binary_crossentropy(vae_input, vae_output)\n",
    "# xent_loss = keras.metrics.binary_crossentropy(vae_input, vae_output)\n",
    "xent_loss = np.prod(input_shape) * keras.metrics.binary_crossentropy(vae_input, vae_output)\n",
    "# kl_loss = - 0.5 * K.sum(1 + z_log_var - K.square(z_mean) - K.exp(z_log_var), axis=-1)\n",
    "kl_loss = - 0.5 * K.sum(1 + K.flatten(z_log_var) - K.square(K.flatten(z_mean)) - K.exp(K.flatten(z_log_var)), axis=-1)\n",
    "\n",
    "# kl_loss = - 0.5 * K.sum(1 + 0 - K.square(z_mean) - K.exp(z_log_var), axis=-1)\n",
    "# kl_loss = K.sum(K.mean(z_mean) + K.exp(z_log_var), axis=-1)\n",
    "# kl_loss = K.max([K.max(z_mean), K.max(z_log_var)])\n",
    "# kl_loss = K.square(K.flatten(z_mean))\n",
    "# kl_loss = K.square(z_mean) - K.exp(z_log_var)\n",
    "\n",
    "# vae_loss = K.mean(xent_loss)\n",
    "vae_loss = K.mean(xent_loss + kl_loss)\n",
    "\n",
    "vae.add_loss(vae_loss)\n",
    "vae.compile(optimizer='rmsprop')"
   ]
  },
  {
   "cell_type": "code",
   "execution_count": 184,
   "metadata": {},
   "outputs": [
    {
     "data": {
      "text/plain": [
       "(43, 150, 1)"
      ]
     },
     "execution_count": 184,
     "metadata": {},
     "output_type": "execute_result"
    }
   ],
   "source": [
    "# z_train = x_train\n",
    "# x_train = x_train.reshape(x_train.shape[0],np.prod(x_train.shape[1:]))\n",
    "x_train.shape"
   ]
  },
  {
   "cell_type": "code",
   "execution_count": 185,
   "metadata": {},
   "outputs": [],
   "source": [
    "x_test = x_train[-10:]\n",
    "x_train = x_train[:-10]"
   ]
  },
  {
   "cell_type": "code",
   "execution_count": 186,
   "metadata": {
    "scrolled": true
   },
   "outputs": [
    {
     "name": "stdout",
     "output_type": "stream",
     "text": [
      "Train on 33 samples, validate on 10 samples\n",
      "Epoch 1/100\n",
      "33/33 [==============================] - 1s 45ms/step - loss: 107.5042 - val_loss: 104.1697\n",
      "Epoch 2/100\n",
      "33/33 [==============================] - 0s 291us/step - loss: 104.0982 - val_loss: 103.9519\n",
      "Epoch 3/100\n",
      "33/33 [==============================] - 0s 297us/step - loss: 103.2529 - val_loss: 101.9634\n",
      "Epoch 4/100\n",
      "33/33 [==============================] - 0s 342us/step - loss: 101.8761 - val_loss: 101.0323\n",
      "Epoch 5/100\n",
      "33/33 [==============================] - 0s 417us/step - loss: 101.0799 - val_loss: 101.3793\n",
      "Epoch 6/100\n",
      "33/33 [==============================] - 0s 862us/step - loss: 100.3195 - val_loss: 101.5475\n",
      "Epoch 7/100\n",
      "33/33 [==============================] - 0s 761us/step - loss: 100.4130 - val_loss: 101.7777\n",
      "Epoch 8/100\n",
      "33/33 [==============================] - 0s 519us/step - loss: 99.4224 - val_loss: 99.7260\n",
      "Epoch 9/100\n",
      "33/33 [==============================] - 0s 668us/step - loss: 99.8167 - val_loss: 99.1521\n",
      "Epoch 10/100\n",
      "33/33 [==============================] - 0s 277us/step - loss: 98.2711 - val_loss: 100.4403\n",
      "Epoch 11/100\n",
      "33/33 [==============================] - 0s 424us/step - loss: 97.5445 - val_loss: 97.2738\n",
      "Epoch 12/100\n",
      "33/33 [==============================] - 0s 522us/step - loss: 97.6498 - val_loss: 98.0703\n",
      "Epoch 13/100\n",
      "33/33 [==============================] - 0s 686us/step - loss: 97.3974 - val_loss: 97.8603\n",
      "Epoch 14/100\n",
      "33/33 [==============================] - 0s 639us/step - loss: 96.4139 - val_loss: 97.5750\n",
      "Epoch 15/100\n",
      "33/33 [==============================] - 0s 480us/step - loss: 96.3537 - val_loss: 96.0112\n",
      "Epoch 16/100\n",
      "33/33 [==============================] - 0s 331us/step - loss: 95.7769 - val_loss: 96.7984\n",
      "Epoch 17/100\n",
      "33/33 [==============================] - 0s 389us/step - loss: 93.9990 - val_loss: 97.0640\n",
      "Epoch 18/100\n",
      "33/33 [==============================] - 0s 506us/step - loss: 95.5766 - val_loss: 95.1751\n",
      "Epoch 19/100\n",
      "33/33 [==============================] - 0s 713us/step - loss: 95.7419 - val_loss: 95.8478\n",
      "Epoch 20/100\n",
      "33/33 [==============================] - 0s 576us/step - loss: 94.5742 - val_loss: 96.6899\n",
      "Epoch 21/100\n",
      "33/33 [==============================] - 0s 500us/step - loss: 94.1822 - val_loss: 96.7614\n",
      "Epoch 22/100\n",
      "33/33 [==============================] - 0s 456us/step - loss: 94.6299 - val_loss: 93.4907\n",
      "Epoch 23/100\n",
      "33/33 [==============================] - 0s 475us/step - loss: 93.3602 - val_loss: 91.3750\n",
      "Epoch 24/100\n",
      "33/33 [==============================] - 0s 436us/step - loss: 93.8242 - val_loss: 96.4480\n",
      "Epoch 25/100\n",
      "33/33 [==============================] - 0s 674us/step - loss: 90.7460 - val_loss: 91.9893\n",
      "Epoch 26/100\n",
      "33/33 [==============================] - 0s 653us/step - loss: 91.7983 - val_loss: 92.1134\n",
      "Epoch 27/100\n",
      "33/33 [==============================] - 0s 568us/step - loss: 92.9929 - val_loss: 92.2330\n",
      "Epoch 28/100\n",
      "33/33 [==============================] - 0s 604us/step - loss: 93.0234 - val_loss: 87.6284\n",
      "Epoch 29/100\n",
      "33/33 [==============================] - 0s 401us/step - loss: 93.8415 - val_loss: 95.0044\n",
      "Epoch 30/100\n",
      "33/33 [==============================] - 0s 328us/step - loss: 92.5016 - val_loss: 92.4395\n",
      "Epoch 31/100\n",
      "33/33 [==============================] - 0s 383us/step - loss: 92.4640 - val_loss: 88.2139\n",
      "Epoch 32/100\n",
      "33/33 [==============================] - 0s 393us/step - loss: 91.8576 - val_loss: 97.0798\n",
      "Epoch 33/100\n",
      "33/33 [==============================] - 0s 409us/step - loss: 92.8734 - val_loss: 92.2404\n",
      "Epoch 34/100\n",
      "33/33 [==============================] - 0s 365us/step - loss: 91.8802 - val_loss: 89.0789\n",
      "Epoch 35/100\n",
      "33/33 [==============================] - 0s 378us/step - loss: 91.3182 - val_loss: 90.5083\n",
      "Epoch 36/100\n",
      "33/33 [==============================] - 0s 392us/step - loss: 92.4977 - val_loss: 87.0770\n",
      "Epoch 37/100\n",
      "33/33 [==============================] - 0s 352us/step - loss: 90.5463 - val_loss: 88.2752\n",
      "Epoch 38/100\n",
      "33/33 [==============================] - 0s 412us/step - loss: 92.7192 - val_loss: 95.6204\n",
      "Epoch 39/100\n",
      "33/33 [==============================] - 0s 494us/step - loss: 92.4789 - val_loss: 94.8931\n",
      "Epoch 40/100\n",
      "33/33 [==============================] - 0s 544us/step - loss: 90.3361 - val_loss: 92.9428\n",
      "Epoch 41/100\n",
      "33/33 [==============================] - 0s 448us/step - loss: 92.4408 - val_loss: 91.3614\n",
      "Epoch 42/100\n",
      "33/33 [==============================] - 0s 324us/step - loss: 89.6064 - val_loss: 90.4623\n",
      "Epoch 43/100\n",
      "33/33 [==============================] - 0s 412us/step - loss: 92.7325 - val_loss: 92.2697\n",
      "Epoch 44/100\n",
      "33/33 [==============================] - 0s 401us/step - loss: 90.7314 - val_loss: 87.2120\n",
      "Epoch 45/100\n",
      "33/33 [==============================] - 0s 421us/step - loss: 92.1624 - val_loss: 89.5693\n",
      "Epoch 46/100\n",
      "33/33 [==============================] - 0s 465us/step - loss: 92.3823 - val_loss: 91.4693\n",
      "Epoch 47/100\n",
      "33/33 [==============================] - 0s 410us/step - loss: 91.8552 - val_loss: 90.9168\n",
      "Epoch 48/100\n",
      "33/33 [==============================] - 0s 456us/step - loss: 92.2803 - val_loss: 89.4468\n",
      "Epoch 49/100\n",
      "33/33 [==============================] - 0s 546us/step - loss: 90.6765 - val_loss: 93.2062\n",
      "Epoch 50/100\n",
      "33/33 [==============================] - 0s 672us/step - loss: 90.5758 - val_loss: 90.6322\n",
      "Epoch 51/100\n",
      "33/33 [==============================] - 0s 582us/step - loss: 92.0093 - val_loss: 89.0169\n",
      "Epoch 52/100\n",
      "33/33 [==============================] - 0s 552us/step - loss: 92.3056 - val_loss: 86.4326\n",
      "Epoch 53/100\n",
      "33/33 [==============================] - 0s 513us/step - loss: 89.7443 - val_loss: 87.8548\n",
      "Epoch 54/100\n",
      "33/33 [==============================] - 0s 608us/step - loss: 89.4591 - val_loss: 93.3150\n",
      "Epoch 55/100\n",
      "33/33 [==============================] - 0s 525us/step - loss: 93.7061 - val_loss: 94.4112\n",
      "Epoch 56/100\n",
      "33/33 [==============================] - 0s 529us/step - loss: 91.4086 - val_loss: 91.9617\n",
      "Epoch 57/100\n",
      "33/33 [==============================] - 0s 533us/step - loss: 92.5665 - val_loss: 91.8366\n",
      "Epoch 58/100\n",
      "33/33 [==============================] - 0s 665us/step - loss: 89.9867 - val_loss: 91.3489\n",
      "Epoch 59/100\n",
      "33/33 [==============================] - 0s 623us/step - loss: 89.9607 - val_loss: 95.5522\n",
      "Epoch 60/100\n",
      "33/33 [==============================] - 0s 591us/step - loss: 91.0560 - val_loss: 94.6798\n",
      "Epoch 61/100\n",
      "33/33 [==============================] - 0s 669us/step - loss: 90.2875 - val_loss: 90.7328\n",
      "Epoch 62/100\n",
      "33/33 [==============================] - 0s 651us/step - loss: 94.0783 - val_loss: 93.1523\n",
      "Epoch 63/100\n",
      "33/33 [==============================] - 0s 506us/step - loss: 93.1182 - val_loss: 84.7002\n",
      "Epoch 64/100\n",
      "33/33 [==============================] - 0s 433us/step - loss: 90.1683 - val_loss: 93.6867\n",
      "Epoch 65/100\n",
      "33/33 [==============================] - 0s 318us/step - loss: 92.9186 - val_loss: 88.2069\n",
      "Epoch 66/100\n",
      "33/33 [==============================] - 0s 510us/step - loss: 89.9476 - val_loss: 85.7345\n",
      "Epoch 67/100\n",
      "33/33 [==============================] - 0s 652us/step - loss: 92.1553 - val_loss: 91.4946\n",
      "Epoch 68/100\n",
      "33/33 [==============================] - 0s 556us/step - loss: 88.6393 - val_loss: 86.6936\n",
      "Epoch 69/100\n",
      "33/33 [==============================] - 0s 706us/step - loss: 90.6784 - val_loss: 93.1951\n",
      "Epoch 70/100\n",
      "33/33 [==============================] - 0s 548us/step - loss: 90.8831 - val_loss: 89.4792\n",
      "Epoch 71/100\n",
      "33/33 [==============================] - 0s 612us/step - loss: 89.7626 - val_loss: 96.9886\n",
      "Epoch 72/100\n",
      "33/33 [==============================] - 0s 635us/step - loss: 91.9187 - val_loss: 91.9441\n",
      "Epoch 73/100\n",
      "33/33 [==============================] - 0s 553us/step - loss: 90.7958 - val_loss: 88.1445\n",
      "Epoch 74/100\n",
      "33/33 [==============================] - 0s 666us/step - loss: 91.3374 - val_loss: 85.8124\n",
      "Epoch 75/100\n",
      "33/33 [==============================] - 0s 609us/step - loss: 90.6976 - val_loss: 100.3357\n",
      "Epoch 76/100\n",
      "33/33 [==============================] - 0s 460us/step - loss: 88.5876 - val_loss: 96.1700\n",
      "Epoch 77/100\n",
      "33/33 [==============================] - 0s 528us/step - loss: 87.9721 - val_loss: 93.1845\n",
      "Epoch 78/100\n",
      "33/33 [==============================] - 0s 531us/step - loss: 91.5364 - val_loss: 89.2608\n",
      "Epoch 79/100\n"
     ]
    },
    {
     "name": "stdout",
     "output_type": "stream",
     "text": [
      "33/33 [==============================] - 0s 532us/step - loss: 94.3300 - val_loss: 88.1051\n",
      "Epoch 80/100\n",
      "33/33 [==============================] - 0s 584us/step - loss: 88.6795 - val_loss: 93.5291\n",
      "Epoch 81/100\n",
      "33/33 [==============================] - 0s 577us/step - loss: 92.1645 - val_loss: 88.6105\n",
      "Epoch 82/100\n",
      "33/33 [==============================] - 0s 412us/step - loss: 91.4696 - val_loss: 91.3294\n",
      "Epoch 83/100\n",
      "33/33 [==============================] - 0s 453us/step - loss: 94.3581 - val_loss: 88.4837\n",
      "Epoch 84/100\n",
      "33/33 [==============================] - 0s 444us/step - loss: 89.8418 - val_loss: 93.6090\n",
      "Epoch 85/100\n",
      "33/33 [==============================] - 0s 444us/step - loss: 89.7025 - val_loss: 92.8660\n",
      "Epoch 86/100\n",
      "33/33 [==============================] - 0s 435us/step - loss: 90.9556 - val_loss: 92.3391\n",
      "Epoch 87/100\n",
      "33/33 [==============================] - 0s 373us/step - loss: 91.2943 - val_loss: 87.8883\n",
      "Epoch 88/100\n",
      "33/33 [==============================] - 0s 415us/step - loss: 91.7946 - val_loss: 88.2062\n",
      "Epoch 89/100\n",
      "33/33 [==============================] - 0s 440us/step - loss: 89.0600 - val_loss: 90.8605\n",
      "Epoch 90/100\n",
      "33/33 [==============================] - 0s 397us/step - loss: 94.4098 - val_loss: 91.7151\n",
      "Epoch 91/100\n",
      "33/33 [==============================] - 0s 380us/step - loss: 89.7975 - val_loss: 90.5867\n",
      "Epoch 92/100\n",
      "33/33 [==============================] - 0s 432us/step - loss: 89.3365 - val_loss: 88.7936\n",
      "Epoch 93/100\n",
      "33/33 [==============================] - 0s 426us/step - loss: 88.6210 - val_loss: 93.6563\n",
      "Epoch 94/100\n",
      "33/33 [==============================] - 0s 401us/step - loss: 88.9055 - val_loss: 87.6789\n",
      "Epoch 95/100\n",
      "33/33 [==============================] - 0s 429us/step - loss: 90.9277 - val_loss: 92.7164\n",
      "Epoch 96/100\n",
      "33/33 [==============================] - 0s 440us/step - loss: 90.1915 - val_loss: 95.9126\n",
      "Epoch 97/100\n",
      "33/33 [==============================] - 0s 426us/step - loss: 89.5906 - val_loss: 87.0145\n",
      "Epoch 98/100\n",
      "33/33 [==============================] - 0s 408us/step - loss: 88.5255 - val_loss: 102.5538\n",
      "Epoch 99/100\n",
      "33/33 [==============================] - 0s 423us/step - loss: 88.8377 - val_loss: 86.6300\n",
      "Epoch 100/100\n",
      "33/33 [==============================] - 0s 358us/step - loss: 90.9497 - val_loss: 87.5009\n"
     ]
    }
   ],
   "source": [
    "epochs = 100\n",
    "m = 50\n",
    "# , validation_data=(x_test, None)\n",
    "history = vae.fit(x_train[:m], shuffle=False, epochs=epochs, batch_size=batch_size, validation_data=(x_test, None))"
   ]
  },
  {
   "cell_type": "code",
   "execution_count": 187,
   "metadata": {},
   "outputs": [
    {
     "data": {
      "text/plain": [
       "[<matplotlib.lines.Line2D at 0x131ef9588>]"
      ]
     },
     "execution_count": 187,
     "metadata": {},
     "output_type": "execute_result"
    },
    {
     "data": {
      "image/png": "[encoded data removed]",
      "text/plain": [
       "<matplotlib.figure.Figure at 0x131ef95c0>"
      ]
     },
     "metadata": {},
     "output_type": "display_data"
    }
   ],
   "source": [
    "plt.plot(history.history['loss'])\n",
    "plt.plot(history.history['val_loss'])"
   ]
  },
  {
   "cell_type": "code",
   "execution_count": 188,
   "metadata": {},
   "outputs": [
    {
     "data": {
      "text/plain": [
       "dict_keys(['val_loss', 'loss'])"
      ]
     },
     "execution_count": 188,
     "metadata": {},
     "output_type": "execute_result"
    }
   ],
   "source": [
    "history.history.keys()"
   ]
  },
  {
   "cell_type": "code",
   "execution_count": 189,
   "metadata": {
    "scrolled": true
   },
   "outputs": [],
   "source": [
    "# plot_model(vae, to_file='model.png')"
   ]
  },
  {
   "cell_type": "code",
   "execution_count": 190,
   "metadata": {},
   "outputs": [
    {
     "name": "stdout",
     "output_type": "stream",
     "text": [
      "_________________________________________________________________\n",
      "Layer (type)                 Output Shape              Param #   \n",
      "=================================================================\n",
      "decoder_input- (InputLayer)  (None, 2)                 0         \n",
      "_________________________________________________________________\n",
      "decoder_h- (Dense)           (None, 150)               450       \n",
      "_________________________________________________________________\n",
      "decoder_mean- (Dense)        (None, 150)               22650     \n",
      "_________________________________________________________________\n",
      "reshape_30 (Reshape)         (None, 150, 1)            0         \n",
      "=================================================================\n",
      "Total params: 23,100\n",
      "Trainable params: 23,100\n",
      "Non-trainable params: 0\n",
      "_________________________________________________________________\n"
     ]
    }
   ],
   "source": [
    "generator = decoder_model # decoder_model(z)\n",
    "generator.summary()"
   ]
  },
  {
   "cell_type": "code",
   "execution_count": null,
   "metadata": {},
   "outputs": [],
   "source": []
  },
  {
   "cell_type": "code",
   "execution_count": null,
   "metadata": {},
   "outputs": [],
   "source": []
  },
  {
   "cell_type": "code",
   "execution_count": null,
   "metadata": {},
   "outputs": [],
   "source": []
  },
  {
   "cell_type": "code",
   "execution_count": null,
   "metadata": {},
   "outputs": [],
   "source": []
  },
  {
   "cell_type": "code",
   "execution_count": null,
   "metadata": {},
   "outputs": [],
   "source": []
  },
  {
   "cell_type": "code",
   "execution_count": null,
   "metadata": {},
   "outputs": [],
   "source": []
  },
  {
   "cell_type": "code",
   "execution_count": null,
   "metadata": {},
   "outputs": [],
   "source": []
  },
  {
   "cell_type": "code",
   "execution_count": null,
   "metadata": {},
   "outputs": [],
   "source": []
  },
  {
   "cell_type": "code",
   "execution_count": null,
   "metadata": {},
   "outputs": [],
   "source": []
  },
  {
   "cell_type": "code",
   "execution_count": null,
   "metadata": {},
   "outputs": [],
   "source": []
  },
  {
   "cell_type": "code",
   "execution_count": null,
   "metadata": {},
   "outputs": [],
   "source": [
    "plt.plot(history.history['loss'])\n",
    "plt.plot(history.history['val_loss'])"
   ]
  },
  {
   "cell_type": "code",
   "execution_count": null,
   "metadata": {},
   "outputs": [],
   "source": [
    "plt.plot(history.history['acc'])\n",
    "plt.plot(history.history['val_acc'])"
   ]
  },
  {
   "cell_type": "code",
   "execution_count": null,
   "metadata": {},
   "outputs": [],
   "source": []
  },
  {
   "cell_type": "code",
   "execution_count": null,
   "metadata": {},
   "outputs": [],
   "source": [
    "plt.plot(x_train[0,:100,:])"
   ]
  },
  {
   "cell_type": "code",
   "execution_count": null,
   "metadata": {},
   "outputs": [],
   "source": [
    "result.shape"
   ]
  },
  {
   "cell_type": "code",
   "execution_count": null,
   "metadata": {},
   "outputs": [],
   "source": [
    "n1 = 30\n",
    "i = 0\n",
    "plt.subplot(211)\n",
    "plt.plot(np.arange(n1), results[i][:n1])\n",
    "plt.plot([0.5] * n1) # midi.MIDI_NOISE_FLOOR\n",
    "plt.ylim(ymin=0, ymax=1)\n",
    "plt.subplot(212)\n",
    "\n",
    "plt.plot(np.arange(n1), x_train[i, :n1])\n",
    "plt.plot([0.5] * n1) # midi.MIDI_NOISE_FLOOR\n",
    "plt.ylim(ymin=0, ymax=1)"
   ]
  },
  {
   "cell_type": "code",
   "execution_count": null,
   "metadata": {},
   "outputs": [],
   "source": []
  },
  {
   "cell_type": "code",
   "execution_count": null,
   "metadata": {},
   "outputs": [],
   "source": []
  },
  {
   "cell_type": "code",
   "execution_count": null,
   "metadata": {},
   "outputs": [],
   "source": []
  },
  {
   "cell_type": "code",
   "execution_count": null,
   "metadata": {},
   "outputs": [],
   "source": [
    "mid = midi.decode_track(context, result)\n",
    "dn = config.dataset_dir\n",
    "# io.export_midifile(mid, dn + 'song_seq-seq.mid')"
   ]
  },
  {
   "cell_type": "code",
   "execution_count": null,
   "metadata": {},
   "outputs": [],
   "source": [
    "results = []\n",
    "latent_samples = []\n",
    "for seq in x_test[-2:]:\n",
    "    encoded = encode_sequence(np.stack([seq]))\n",
    "    latent_samples.append(encoded)\n",
    "    result = decode_sequence(encoded, encoder_model, decoder_model)\n",
    "    results.append(result)\n",
    "results[0].shape"
   ]
  },
  {
   "cell_type": "code",
   "execution_count": null,
   "metadata": {},
   "outputs": [],
   "source": [
    "len(encoded)"
   ]
  },
  {
   "cell_type": "code",
   "execution_count": null,
   "metadata": {},
   "outputs": [],
   "source": [
    "encoded[0].shape"
   ]
  },
  {
   "cell_type": "code",
   "execution_count": null,
   "metadata": {},
   "outputs": [],
   "source": [
    "plt.plot(encoded[0][0,:10])\n",
    "plt.plot(encoded[1][0,:10])"
   ]
  },
  {
   "cell_type": "code",
   "execution_count": null,
   "metadata": {},
   "outputs": [],
   "source": [
    "e = np.array(latent_samples)\n",
    "e.shape"
   ]
  },
  {
   "cell_type": "code",
   "execution_count": null,
   "metadata": {},
   "outputs": [],
   "source": [
    "# reduce dimensionality\n",
    "# e = e.reshape(e.shape[0],2,e.shape[-1])\n",
    "e.shape"
   ]
  },
  {
   "cell_type": "code",
   "execution_count": null,
   "metadata": {},
   "outputs": [],
   "source": [
    "e1.mean(axis=0).shape"
   ]
  },
  {
   "cell_type": "code",
   "execution_count": null,
   "metadata": {},
   "outputs": [],
   "source": [
    "# new = e.transpose().mean(axis=1).transpose()\n",
    "e1 = e[:,0] # state h\n",
    "e2 = e[:,1] # state c\n",
    "new = [e1.mean(axis=0), e2.mean(axis=0)]\n",
    "# new = [[e[:,i].mean(axis=0)] for i in [0,1]]\n",
    "plt.plot(new[0][0][:10])\n",
    "len(new)"
   ]
  },
  {
   "cell_type": "code",
   "execution_count": null,
   "metadata": {},
   "outputs": [],
   "source": [
    "e1.mean(axis=0).shape"
   ]
  },
  {
   "cell_type": "code",
   "execution_count": null,
   "metadata": {},
   "outputs": [],
   "source": [
    "l[0].shape"
   ]
  },
  {
   "cell_type": "code",
   "execution_count": null,
   "metadata": {},
   "outputs": [],
   "source": [
    "l = latent_samples[0]\n",
    "len(l) # latent_sample :: (x,1,64)"
   ]
  },
  {
   "cell_type": "code",
   "execution_count": null,
   "metadata": {},
   "outputs": [],
   "source": [
    "# new_ = decode_sequence(latent_samples[0], encoder_model, decoder_model)\n",
    "new_ = decode_sequence(new, encoder_model, decoder_model)"
   ]
  },
  {
   "cell_type": "code",
   "execution_count": null,
   "metadata": {},
   "outputs": [],
   "source": [
    "new_.shape"
   ]
  },
  {
   "cell_type": "code",
   "execution_count": null,
   "metadata": {},
   "outputs": [],
   "source": [
    "plt.plot(new_[:100])"
   ]
  },
  {
   "cell_type": "code",
   "execution_count": null,
   "metadata": {},
   "outputs": [],
   "source": [
    "plt.plot(results[0][:100])"
   ]
  },
  {
   "cell_type": "code",
   "execution_count": null,
   "metadata": {},
   "outputs": [],
   "source": [
    "# results[0]"
   ]
  },
  {
   "cell_type": "code",
   "execution_count": null,
   "metadata": {},
   "outputs": [],
   "source": [
    "mid_new = midi.decode_track(context, results[0])\n",
    "io.export_midifile(mid_new, config.export_dir + 'real_mid_new_lstm.mid')"
   ]
  },
  {
   "cell_type": "code",
   "execution_count": null,
   "metadata": {},
   "outputs": [],
   "source": []
  },
  {
   "cell_type": "code",
   "execution_count": null,
   "metadata": {},
   "outputs": [],
   "source": []
  },
  {
   "cell_type": "code",
   "execution_count": null,
   "metadata": {},
   "outputs": [],
   "source": []
  },
  {
   "cell_type": "code",
   "execution_count": null,
   "metadata": {},
   "outputs": [],
   "source": []
  },
  {
   "cell_type": "code",
   "execution_count": null,
   "metadata": {},
   "outputs": [],
   "source": []
  },
  {
   "cell_type": "code",
   "execution_count": null,
   "metadata": {},
   "outputs": [],
   "source": []
  },
  {
   "cell_type": "code",
   "execution_count": null,
   "metadata": {},
   "outputs": [],
   "source": []
  },
  {
   "cell_type": "code",
   "execution_count": null,
   "metadata": {},
   "outputs": [],
   "source": []
  },
  {
   "cell_type": "code",
   "execution_count": null,
   "metadata": {},
   "outputs": [],
   "source": []
  },
  {
   "cell_type": "code",
   "execution_count": null,
   "metadata": {},
   "outputs": [],
   "source": []
  },
  {
   "cell_type": "code",
   "execution_count": null,
   "metadata": {},
   "outputs": [],
   "source": []
  },
  {
   "cell_type": "code",
   "execution_count": null,
   "metadata": {},
   "outputs": [],
   "source": []
  },
  {
   "cell_type": "code",
   "execution_count": null,
   "metadata": {},
   "outputs": [],
   "source": [
    "x_test.shape"
   ]
  },
  {
   "cell_type": "code",
   "execution_count": null,
   "metadata": {},
   "outputs": [],
   "source": [
    "# x_test, y_test = gen_xy_sin_to_f(3, f=2)"
   ]
  },
  {
   "cell_type": "code",
   "execution_count": null,
   "metadata": {
    "scrolled": true
   },
   "outputs": [],
   "source": [
    "results = model.predict([x_test,x_test])\n",
    "results.shape"
   ]
  },
  {
   "cell_type": "code",
   "execution_count": null,
   "metadata": {},
   "outputs": [],
   "source": [
    "# the 'true' results\n",
    "i = 0\n",
    "selection = int(x_test.shape[1] * 1)\n",
    "full = np.concatenate([x_test[i,-selection:],y_test[i]])\n",
    "n3 = full.shape[0]\n",
    "plt.plot(np.arange(n3) / n3 * dt, full)"
   ]
  },
  {
   "cell_type": "code",
   "execution_count": null,
   "metadata": {},
   "outputs": [],
   "source": [
    "# predicted results\n",
    "i = 0\n",
    "full = np.concatenate([x_test[i,-selection:],results[i]])\n",
    "n3 = full.shape[0]\n",
    "plt.plot(np.arange(n3) / n3 * dt, full)"
   ]
  },
  {
   "cell_type": "code",
   "execution_count": null,
   "metadata": {},
   "outputs": [],
   "source": [
    "i = 2\n",
    "selection = int(x_test.shape[1] * 1)\n",
    "full = np.concatenate([x_test[i,-selection:],results[i]])\n",
    "n3 = full.shape[0]\n",
    "plt.plot(np.arange(n3) / n3 * dt, full)"
   ]
  },
  {
   "cell_type": "code",
   "execution_count": null,
   "metadata": {},
   "outputs": [],
   "source": [
    "i = 0\n",
    "selection = 1\n",
    "full = np.concatenate([x_test[i,-selection:],results[i]])\n",
    "n3 = full.shape[0]\n",
    "plt.plot(np.arange(n3) / n3 * dt, full)"
   ]
  },
  {
   "cell_type": "code",
   "execution_count": null,
   "metadata": {},
   "outputs": [],
   "source": []
  },
  {
   "cell_type": "code",
   "execution_count": null,
   "metadata": {},
   "outputs": [],
   "source": []
  },
  {
   "cell_type": "code",
   "execution_count": null,
   "metadata": {},
   "outputs": [],
   "source": []
  },
  {
   "cell_type": "code",
   "execution_count": null,
   "metadata": {},
   "outputs": [],
   "source": []
  },
  {
   "cell_type": "code",
   "execution_count": null,
   "metadata": {},
   "outputs": [],
   "source": []
  },
  {
   "cell_type": "code",
   "execution_count": null,
   "metadata": {},
   "outputs": [],
   "source": []
  }
 ],
 "metadata": {
  "kernelspec": {
   "display_name": "Python 3",
   "language": "python",
   "name": "python3"
  },
  "language_info": {
   "codemirror_mode": {
    "name": "ipython",
    "version": 3
   },
   "file_extension": ".py",
   "mimetype": "text/x-python",
   "name": "python",
   "nbconvert_exporter": "python",
   "pygments_lexer": "ipython3",
   "version": "3.6.4"
  }
 },
 "nbformat": 4,
 "nbformat_minor": 2
}
