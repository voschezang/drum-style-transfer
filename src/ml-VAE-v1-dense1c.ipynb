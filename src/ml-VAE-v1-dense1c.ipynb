{
 "cells": [
  {
   "cell_type": "code",
   "execution_count": 1,
   "metadata": {},
   "outputs": [],
   "source": [
    "import config\n",
    "import os, numpy as np, pandas, sklearn, scipy.signal as signal\n",
    "import mido\n",
    "import matplotlib.pyplot as plt\n",
    "%matplotlib inline"
   ]
  },
  {
   "cell_type": "code",
   "execution_count": 2,
   "metadata": {},
   "outputs": [
    {
     "name": "stderr",
     "output_type": "stream",
     "text": [
      "/Library/Frameworks/Python.framework/Versions/3.6/lib/python3.6/site-packages/h5py/__init__.py:36: FutureWarning: Conversion of the second argument of issubdtype from `float` to `np.floating` is deprecated. In future, it will be treated as `np.float64 == np.dtype(float).type`.\n",
      "  from ._conv import register_converters as _register_converters\n",
      "Using TensorFlow backend.\n"
     ]
    }
   ],
   "source": [
    "## NN libs\n",
    "from sklearn.decomposition import PCA\n",
    "from sklearn import preprocessing\n",
    "from sklearn.preprocessing import RobustScaler\n",
    "import keras\n",
    "from keras import regularizers\n",
    "from keras import backend as K, metrics\n",
    "from keras.utils import to_categorical, plot_model\n",
    "from keras.layers import Input, Dense, Activation, Conv1D, Conv2D, Dropout, Flatten, Lambda\n",
    "from keras.layers import Conv2DTranspose, Reshape, MaxPooling2D, UpSampling2D, UpSampling1D, MaxPooling1D\n",
    "from keras.layers import LocallyConnected1D, LocallyConnected2D\n",
    "from keras.layers import Input, LSTM, RepeatVector\n",
    "from keras.models import Model\n",
    "from keras.callbacks import TensorBoard"
   ]
  },
  {
   "cell_type": "code",
   "execution_count": 3,
   "metadata": {},
   "outputs": [
    {
     "name": "stdout",
     "output_type": "stream",
     "text": [
      " Context :: namedtuple(\n",
      "[ max_t = float\n",
      ", dt = float\n",
      ", n_instances = int\n",
      ", note_length = int\n",
      ", bpm = float\n",
      ", tempo = float\n",
      ", ticks_per_beat = int\n",
      "]\n",
      "\n"
     ]
    }
   ],
   "source": [
    "# local libs\n",
    "import config, models, functions\n",
    "from data import data, midi, midi_generators as g\n",
    "from utils import io, models_io, utils"
   ]
  },
  {
   "cell_type": "code",
   "execution_count": 4,
   "metadata": {
    "scrolled": true
   },
   "outputs": [
    {
     "name": "stdout",
     "output_type": "stream",
     "text": [
      "Setting up params\n",
      "\n",
      "max min f 25.0 0.3333333333333333\n",
      " >> Context(max_t=3.0, dt=0.02, n_instances=150, note_length=0.03, bpm=120.0, tempo=500000, ticks_per_beat=480)\n",
      "Setting up params\n",
      "\n",
      "max min f 25.0 0.3333333333333333\n",
      " >> Context(max_t=3.0, dt=0.02, n_instances=150, note_length=0.03, bpm=120.0, tempo=500000, ticks_per_beat=480)\n",
      "Importing midi-data\n",
      "\n",
      "\u001b[92m [INFO] : \u001b[0m\n",
      " |  reading file: ../datasets/examples/01 16th Snare.mid\n",
      "\u001b[92m [INFO] : \u001b[0m\n",
      " |  reading file: ../datasets/examples/01 8th Cym.mid\n",
      "\n",
      "Encoding midi-data\n",
      " [<midi file '../datasets/examples/01 16th Snare.mid' type 0, 1 tracks, 182 messages>, <midi file '../datasets/examples/01 8th Cym.mid' type 0, 1 tracks, 68 messages>]\n",
      "> -> multi-track = False\n",
      "\u001b[91m [DEBUG] > \u001b[0m\n",
      " |>  to_array: msg.time > max_t; t, n\n",
      " |>  2.994791666666667\n",
      " |>  150\n",
      "\u001b[91m [DEBUG] > \u001b[0m\n",
      " |>  to_array: msg.time > max_t; t, n\n",
      " |>  2.9947916666666665\n",
      " |>  150\n"
     ]
    }
   ],
   "source": [
    "context = data.init()\n",
    "n = 2\n",
    "multiTrack = False\n",
    "context, x_train, labels = data.import_data(data.init(), n, multiTrack=multiTrack)"
   ]
  },
  {
   "cell_type": "code",
   "execution_count": 21,
   "metadata": {},
   "outputs": [
    {
     "name": "stdout",
     "output_type": "stream",
     "text": [
      "\u001b[91m [DEBUG] > \u001b[0m\n",
      " |>  to_array: msg.time > max_t; t, n\n",
      " |>  2.991666666666667\n",
      " |>  150\n",
      "\u001b[91m [DEBUG] > \u001b[0m\n",
      " |>  to_array: msg.time > max_t; t, n\n",
      " |>  3.0197916666666695\n",
      " |>  150\n",
      "\u001b[91m [DEBUG] > \u001b[0m\n",
      " |>  to_array: msg.time > max_t; t, n\n",
      " |>  2.999999999999999\n",
      " |>  150\n",
      "\u001b[91m [DEBUG] > \u001b[0m\n",
      " |>  to_array: msg.time > max_t; t, n\n",
      " |>  2.998958333333336\n",
      " |>  150\n",
      "\u001b[91m [DEBUG] > \u001b[0m\n",
      " |>  to_array: msg.time > max_t; t, n\n",
      " |>  3.0031250000000016\n",
      " |>  150\n",
      "\u001b[91m [DEBUG] > \u001b[0m\n",
      " |>  to_array: msg.time > max_t; t, n\n",
      " |>  2.996875000000003\n",
      " |>  150\n",
      "\u001b[91m [DEBUG] > \u001b[0m\n",
      " |>  to_array: msg.time > max_t; t, n\n",
      " |>  3.0250000000000044\n",
      " |>  150\n",
      "\u001b[91m [DEBUG] > \u001b[0m\n",
      " |>  to_array: msg.time > max_t; t, n\n",
      " |>  2.9906250000000014\n",
      " |>  150\n",
      "\u001b[91m [DEBUG] > \u001b[0m\n",
      " |>  to_array: msg.time > max_t; t, n\n",
      " |>  2.993750000000001\n",
      " |>  150\n",
      "\u001b[91m [DEBUG] > \u001b[0m\n",
      " |>  to_array: msg.time > max_t; t, n\n",
      " |>  3.004166666666668\n",
      " |>  150\n",
      "\u001b[91m [DEBUG] > \u001b[0m\n",
      " |>  to_array: msg.time > max_t; t, n\n",
      " |>  3.0124999999999997\n",
      " |>  150\n",
      "\u001b[91m [DEBUG] > \u001b[0m\n",
      " |>  to_array: msg.time > max_t; t, n\n",
      " |>  3.002083333333336\n",
      " |>  150\n",
      "\u001b[91m [DEBUG] > \u001b[0m\n",
      " |>  to_array: msg.time > max_t; t, n\n",
      " |>  2.998958333333336\n",
      " |>  150\n",
      "\u001b[91m [DEBUG] > \u001b[0m\n",
      " |>  to_array: msg.time > max_t; t, n\n",
      " |>  2.991666666666667\n",
      " |>  150\n",
      "\u001b[91m [DEBUG] > \u001b[0m\n",
      " |>  to_array: msg.time > max_t; t, n\n",
      " |>  3.003125000000001\n",
      " |>  150\n",
      "\u001b[91m [DEBUG] > \u001b[0m\n",
      " |>  to_array: msg.time > max_t; t, n\n",
      " |>  2.9916666666666685\n",
      " |>  150\n",
      "\u001b[91m [DEBUG] > \u001b[0m\n",
      " |>  to_array: msg.time > max_t; t, n\n",
      " |>  2.997916666666668\n",
      " |>  150\n",
      "\u001b[91m [DEBUG] > \u001b[0m\n",
      " |>  to_array: msg.time > max_t; t, n\n",
      " |>  3.002083333333336\n",
      " |>  150\n",
      "\u001b[91m [DEBUG] > \u001b[0m\n",
      " |>  to_array: msg.time > max_t; t, n\n",
      " |>  2.991666666666664\n",
      " |>  150\n",
      "\u001b[91m [DEBUG] > \u001b[0m\n",
      " |>  to_array: msg.time > max_t; t, n\n",
      " |>  3.0083333333333355\n",
      " |>  150\n",
      "\u001b[91m [DEBUG] > \u001b[0m\n",
      " |>  to_array: msg.time > max_t; t, n\n",
      " |>  2.9979166666666694\n",
      " |>  150\n",
      "\u001b[91m [DEBUG] > \u001b[0m\n",
      " |>  to_array: msg.time > max_t; t, n\n",
      " |>  2.9968750000000037\n",
      " |>  150\n",
      "\u001b[91m [DEBUG] > \u001b[0m\n",
      " |>  to_array: msg.time > max_t; t, n\n",
      " |>  2.9927083333333364\n",
      " |>  150\n",
      "\u001b[91m [DEBUG] > \u001b[0m\n",
      " |>  to_array: msg.time > max_t; t, n\n",
      " |>  2.996875\n",
      " |>  150\n",
      "\u001b[91m [DEBUG] > \u001b[0m\n",
      " |>  to_array: msg.time > max_t; t, n\n",
      " |>  2.9989583333333334\n",
      " |>  150\n",
      "\u001b[91m [DEBUG] > \u001b[0m\n",
      " |>  to_array: msg.time > max_t; t, n\n",
      " |>  3.014583333333333\n",
      " |>  150\n",
      "\u001b[91m [DEBUG] > \u001b[0m\n",
      " |>  to_array: msg.time > max_t; t, n\n",
      " |>  3.007291666666668\n",
      " |>  150\n",
      "\u001b[91m [DEBUG] > \u001b[0m\n",
      " |>  to_array: msg.time > max_t; t, n\n",
      " |>  2.993750000000003\n",
      " |>  150\n",
      "\u001b[91m [DEBUG] > \u001b[0m\n",
      " |>  to_array: msg.time > max_t; t, n\n",
      " |>  2.9958333333333362\n",
      " |>  150\n",
      "\u001b[91m [DEBUG] > \u001b[0m\n",
      " |>  to_array: msg.time > max_t; t, n\n",
      " |>  2.9989583333333347\n",
      " |>  150\n",
      "\u001b[91m [DEBUG] > \u001b[0m\n",
      " |>  to_array: msg.time > max_t; t, n\n",
      " |>  2.9916666666666694\n",
      " |>  150\n",
      "\u001b[91m [DEBUG] > \u001b[0m\n",
      " |>  to_array: msg.time > max_t; t, n\n",
      " |>  2.990625000000001\n",
      " |>  150\n",
      "\u001b[91m [DEBUG] > \u001b[0m\n",
      " |>  to_array: msg.time > max_t; t, n\n",
      " |>  3.0052083333333335\n",
      " |>  150\n",
      "\u001b[91m [DEBUG] > \u001b[0m\n",
      " |>  to_array: msg.time > max_t; t, n\n",
      " |>  2.993750000000002\n",
      " |>  150\n",
      "\u001b[91m [DEBUG] > \u001b[0m\n",
      " |>  to_array: msg.time > max_t; t, n\n",
      " |>  3.0083333333333337\n",
      " |>  150\n",
      "\u001b[91m [DEBUG] > \u001b[0m\n",
      " |>  to_array: msg.time > max_t; t, n\n",
      " |>  3.0031250000000047\n",
      " |>  150\n",
      "\u001b[91m [DEBUG] > \u001b[0m\n",
      " |>  to_array: msg.time > max_t; t, n\n",
      " |>  2.996874999999997\n",
      " |>  150\n",
      "\u001b[91m [DEBUG] > \u001b[0m\n",
      " |>  to_array: msg.time > max_t; t, n\n",
      " |>  3.000000000000002\n",
      " |>  150\n",
      "\u001b[91m [DEBUG] > \u001b[0m\n",
      " |>  to_array: msg.time > max_t; t, n\n",
      " |>  3.013541666666668\n",
      " |>  150\n",
      "\u001b[91m [DEBUG] > \u001b[0m\n",
      " |>  to_array: msg.time > max_t; t, n\n",
      " |>  3.0000000000000044\n",
      " |>  150\n",
      "\u001b[91m [DEBUG] > \u001b[0m\n",
      " |>  to_array: msg.time > max_t; t, n\n",
      " |>  2.9927083333333306\n",
      " |>  150\n",
      "\u001b[91m [DEBUG] > \u001b[0m\n",
      " |>  to_array: msg.time > max_t; t, n\n",
      " |>  2.9958333333333367\n",
      " |>  150\n",
      "\u001b[91m [DEBUG] > \u001b[0m\n",
      " |>  to_array: msg.time > max_t; t, n\n",
      " |>  2.9927083333333324\n",
      " |>  150\n",
      "\u001b[91m [DEBUG] > \u001b[0m\n",
      " |>  to_array: msg.time > max_t; t, n\n",
      " |>  2.99791666666667\n",
      " |>  150\n",
      "\u001b[91m [DEBUG] > \u001b[0m\n",
      " |>  to_array: msg.time > max_t; t, n\n",
      " |>  2.993750000000001\n",
      " |>  150\n",
      "\u001b[91m [DEBUG] > \u001b[0m\n",
      " |>  to_array: msg.time > max_t; t, n\n",
      " |>  3.011458333333333\n",
      " |>  150\n",
      "\u001b[91m [DEBUG] > \u001b[0m\n",
      " |>  to_array: msg.time > max_t; t, n\n",
      " |>  2.991666666666668\n",
      " |>  150\n",
      "\u001b[91m [DEBUG] > \u001b[0m\n",
      " |>  to_array: msg.time > max_t; t, n\n",
      " |>  2.9947916666666665\n",
      " |>  150\n",
      "\u001b[91m [DEBUG] > \u001b[0m\n",
      " |>  to_array: msg.time > max_t; t, n\n",
      " |>  3.0031250000000007\n",
      " |>  150\n",
      "\u001b[91m [DEBUG] > \u001b[0m\n",
      " |>  to_array: msg.time > max_t; t, n\n",
      " |>  3.0072916666666694\n",
      " |>  150\n",
      "\u001b[91m [DEBUG] > \u001b[0m\n",
      " |>  to_array: msg.time > max_t; t, n\n",
      " |>  3.0031250000000025\n",
      " |>  150\n",
      "\u001b[91m [DEBUG] > \u001b[0m\n",
      " |>  to_array: msg.time > max_t; t, n\n",
      " |>  2.9906250000000005\n",
      " |>  150\n",
      "\u001b[91m [DEBUG] > \u001b[0m\n",
      " |>  to_array: msg.time > max_t; t, n\n",
      " |>  2.997916666666668\n",
      " |>  150\n",
      "\u001b[91m [DEBUG] > \u001b[0m\n",
      " |>  to_array: msg.time > max_t; t, n\n",
      " |>  2.9906250000000023\n",
      " |>  150\n",
      "\u001b[91m [DEBUG] > \u001b[0m\n",
      " |>  to_array: msg.time > max_t; t, n\n",
      " |>  3.004166666666668\n",
      " |>  150\n",
      "\u001b[91m [DEBUG] > \u001b[0m\n",
      " |>  to_array: msg.time > max_t; t, n\n",
      " |>  3.0031249999999976\n",
      " |>  150\n",
      "\u001b[91m [DEBUG] > \u001b[0m\n",
      " |>  to_array: msg.time > max_t; t, n\n",
      " |>  2.9906250000000036\n",
      " |>  150\n",
      "\u001b[91m [DEBUG] > \u001b[0m\n",
      " |>  to_array: msg.time > max_t; t, n\n",
      " |>  2.9947916666666674\n",
      " |>  150\n",
      "\u001b[91m [DEBUG] > \u001b[0m\n",
      " |>  to_array: msg.time > max_t; t, n\n",
      " |>  3.000000000000005\n",
      " |>  150\n",
      "\u001b[91m [DEBUG] > \u001b[0m\n",
      " |>  to_array: msg.time > max_t; t, n\n",
      " |>  2.998958333333334\n",
      " |>  150\n",
      "\u001b[91m [DEBUG] > \u001b[0m\n",
      " |>  to_array: msg.time > max_t; t, n\n",
      " |>  2.990625000000001\n",
      " |>  150\n",
      "\u001b[91m [DEBUG] > \u001b[0m\n",
      " |>  to_array: msg.time > max_t; t, n\n",
      " |>  2.9927083333333337\n",
      " |>  150\n",
      "\u001b[91m [DEBUG] > \u001b[0m\n",
      " |>  to_array: msg.time > max_t; t, n\n",
      " |>  3.002083333333335\n",
      " |>  150\n",
      "\u001b[91m [DEBUG] > \u001b[0m\n",
      " |>  to_array: msg.time > max_t; t, n\n",
      " |>  3.000000000000002\n",
      " |>  150\n",
      "\u001b[91m [DEBUG] > \u001b[0m\n",
      " |>  to_array: msg.time > max_t; t, n\n",
      " |>  2.9958333333333362\n",
      " |>  150\n",
      "\u001b[91m [DEBUG] > \u001b[0m\n",
      " |>  to_array: msg.time > max_t; t, n\n",
      " |>  3.0010416666666693\n",
      " |>  150\n",
      "\u001b[91m [DEBUG] > \u001b[0m\n",
      " |>  to_array: msg.time > max_t; t, n\n",
      " |>  2.994791666666666\n",
      " |>  150\n",
      "\u001b[91m [DEBUG] > \u001b[0m\n",
      " |>  to_array: msg.time > max_t; t, n\n",
      " |>  3.001041666666667\n",
      " |>  150\n",
      "\u001b[91m [DEBUG] > \u001b[0m\n",
      " |>  to_array: msg.time > max_t; t, n\n",
      " |>  2.9927083333333324\n",
      " |>  150\n",
      "\u001b[91m [DEBUG] > \u001b[0m\n",
      " |>  to_array: msg.time > max_t; t, n\n",
      " |>  3.0020833333333323\n",
      " |>  150\n",
      "\u001b[91m [DEBUG] > \u001b[0m\n",
      " |>  to_array: msg.time > max_t; t, n\n",
      " |>  3.003125000000003\n",
      " |>  150\n",
      "\u001b[91m [DEBUG] > \u001b[0m\n",
      " |>  to_array: msg.time > max_t; t, n\n",
      " |>  3.0093749999999977\n",
      " |>  150\n",
      "\u001b[91m [DEBUG] > \u001b[0m\n",
      " |>  to_array: msg.time > max_t; t, n\n",
      " |>  2.997916666666669\n",
      " |>  150\n",
      "\u001b[91m [DEBUG] > \u001b[0m\n",
      " |>  to_array: msg.time > max_t; t, n\n",
      " |>  2.991666666666665\n",
      " |>  150\n",
      "\u001b[91m [DEBUG] > \u001b[0m\n",
      " |>  to_array: msg.time > max_t; t, n\n",
      " |>  2.9947916666666687\n",
      " |>  150\n",
      "\u001b[91m [DEBUG] > \u001b[0m\n",
      " |>  to_array: msg.time > max_t; t, n\n",
      " |>  2.9947916666666665\n",
      " |>  150\n",
      "\u001b[91m [DEBUG] > \u001b[0m\n",
      " |>  to_array: msg.time > max_t; t, n\n",
      " |>  3.0104166666666674\n",
      " |>  150\n",
      "\u001b[91m [DEBUG] > \u001b[0m\n",
      " |>  to_array: msg.time > max_t; t, n\n",
      " |>  2.990625000000001\n",
      " |>  150\n",
      "\u001b[91m [DEBUG] > \u001b[0m\n",
      " |>  to_array: msg.time > max_t; t, n\n",
      " |>  2.9927083333333373\n",
      " |>  150\n",
      "\u001b[91m [DEBUG] > \u001b[0m\n",
      " |>  to_array: msg.time > max_t; t, n\n",
      " |>  2.9989583333333347\n",
      " |>  150\n",
      "\u001b[91m [DEBUG] > \u001b[0m\n",
      " |>  to_array: msg.time > max_t; t, n\n",
      " |>  3.0031250000000034\n",
      " |>  150\n",
      "\u001b[91m [DEBUG] > \u001b[0m\n",
      " |>  to_array: msg.time > max_t; t, n\n",
      " |>  2.991666666666665\n",
      " |>  150\n",
      "\u001b[91m [DEBUG] > \u001b[0m\n",
      " |>  to_array: msg.time > max_t; t, n\n",
      " |>  3.0062500000000023\n",
      " |>  150\n",
      "\u001b[91m [DEBUG] > \u001b[0m\n",
      " |>  to_array: msg.time > max_t; t, n\n",
      " |>  2.9979166666666646\n",
      " |>  150\n",
      "\u001b[91m [DEBUG] > \u001b[0m\n",
      " |>  to_array: msg.time > max_t; t, n\n",
      " |>  3.0010416666666675\n",
      " |>  150\n",
      "\u001b[91m [DEBUG] > \u001b[0m\n",
      " |>  to_array: msg.time > max_t; t, n\n",
      " |>  3.000000000000001\n",
      " |>  150\n",
      "\u001b[91m [DEBUG] > \u001b[0m\n",
      " |>  to_array: msg.time > max_t; t, n\n",
      " |>  2.991666666666669\n",
      " |>  150\n",
      "\u001b[91m [DEBUG] > \u001b[0m\n",
      " |>  to_array: msg.time > max_t; t, n\n",
      " |>  2.9927083333333377\n",
      " |>  150\n",
      "\u001b[91m [DEBUG] > \u001b[0m\n",
      " |>  to_array: msg.time > max_t; t, n\n",
      " |>  3.013541666666667\n",
      " |>  150\n",
      "\u001b[91m [DEBUG] > \u001b[0m\n",
      " |>  to_array: msg.time > max_t; t, n\n",
      " |>  3.009375\n",
      " |>  150\n",
      "\u001b[91m [DEBUG] > \u001b[0m\n",
      " |>  to_array: msg.time > max_t; t, n\n",
      " |>  3.0020833333333354\n",
      " |>  150\n"
     ]
    },
    {
     "name": "stdout",
     "output_type": "stream",
     "text": [
      "\u001b[91m [DEBUG] > \u001b[0m\n",
      " |>  to_array: msg.time > max_t; t, n\n",
      " |>  2.993749999999998\n",
      " |>  150\n",
      "\u001b[91m [DEBUG] > \u001b[0m\n",
      " |>  to_array: msg.time > max_t; t, n\n",
      " |>  2.9989583333333334\n",
      " |>  150\n",
      "\u001b[91m [DEBUG] > \u001b[0m\n",
      " |>  to_array: msg.time > max_t; t, n\n",
      " |>  2.992708333333336\n",
      " |>  150\n",
      "\u001b[91m [DEBUG] > \u001b[0m\n",
      " |>  to_array: msg.time > max_t; t, n\n",
      " |>  3.0041666666666687\n",
      " |>  150\n",
      "\u001b[91m [DEBUG] > \u001b[0m\n",
      " |>  to_array: msg.time > max_t; t, n\n",
      " |>  3.025000000000002\n",
      " |>  150\n",
      "\u001b[91m [DEBUG] > \u001b[0m\n",
      " |>  to_array: msg.time > max_t; t, n\n",
      " |>  2.992708333333336\n",
      " |>  150\n",
      "\u001b[91m [DEBUG] > \u001b[0m\n",
      " |>  to_array: msg.time > max_t; t, n\n",
      " |>  3.0000000000000018\n",
      " |>  150\n",
      "\u001b[91m [DEBUG] > \u001b[0m\n",
      " |>  to_array: msg.time > max_t; t, n\n",
      " |>  2.993750000000003\n",
      " |>  150\n",
      "\u001b[91m [DEBUG] > \u001b[0m\n",
      " |>  to_array: msg.time > max_t; t, n\n",
      " |>  2.9916666666666676\n",
      " |>  150\n"
     ]
    }
   ],
   "source": [
    "n = 100\n",
    "min_f = 3\n",
    "max_f = 20\n",
    "# x_train = g.gen_data(context, n, max_f=max_f, min_f=min_f)\n",
    "x_train = g.gen_data_complex(context, n, max_f=max_f, min_f=min_f, multiTrack=multiTrack)\n",
    "y_train = x_train\n",
    "x_test = x_train[-10:]\n",
    "x_train = x_train[:-10]"
   ]
  },
  {
   "cell_type": "code",
   "execution_count": 22,
   "metadata": {},
   "outputs": [
    {
     "data": {
      "text/plain": [
       "(260, 150, 1)"
      ]
     },
     "execution_count": 22,
     "metadata": {},
     "output_type": "execute_result"
    }
   ],
   "source": [
    "x_train.shape"
   ]
  },
  {
   "cell_type": "code",
   "execution_count": 23,
   "metadata": {},
   "outputs": [
    {
     "data": {
      "text/plain": [
       "[<matplotlib.lines.Line2D at 0x117bf6cc0>]"
      ]
     },
     "execution_count": 23,
     "metadata": {},
     "output_type": "execute_result"
    },
    {
     "data": {
      "image/png": "[encoded data removed]",
      "text/plain": [
       "<matplotlib.figure.Figure at 0x117bdbba8>"
      ]
     },
     "metadata": {},
     "output_type": "display_data"
    }
   ],
   "source": [
    "plt.plot(x_train[0,:100])"
   ]
  },
  {
   "cell_type": "code",
   "execution_count": 24,
   "metadata": {},
   "outputs": [
    {
     "data": {
      "text/plain": [
       "(260, 150, 1)"
      ]
     },
     "execution_count": 24,
     "metadata": {},
     "output_type": "execute_result"
    }
   ],
   "source": [
    "x_train.shape"
   ]
  },
  {
   "cell_type": "code",
   "execution_count": 25,
   "metadata": {},
   "outputs": [
    {
     "data": {
      "text/plain": [
       "(150, 1)"
      ]
     },
     "execution_count": 25,
     "metadata": {},
     "output_type": "execute_result"
    }
   ],
   "source": [
    "n_samples = x_train[0]\n",
    "input_shape = x_train.shape[1:] # shape of a single sample\n",
    "output_shape = y_train.shape[1:] # shape of a single sample\n",
    "# output_length = y_train.shape[1:][0]\n",
    "hidden_layer_length = 150\n",
    "input_shape"
   ]
  },
  {
   "cell_type": "code",
   "execution_count": 26,
   "metadata": {},
   "outputs": [
    {
     "data": {
      "text/plain": [
       "(150, 1)"
      ]
     },
     "execution_count": 26,
     "metadata": {},
     "output_type": "execute_result"
    }
   ],
   "source": [
    "output_shape"
   ]
  },
  {
   "cell_type": "code",
   "execution_count": 27,
   "metadata": {},
   "outputs": [],
   "source": [
    "num_encoder_tokens = x_train.shape[-1]\n",
    "num_decoder_tokens = y_train.shape[-1]\n",
    "# latent_dim = 1"
   ]
  },
  {
   "cell_type": "code",
   "execution_count": 28,
   "metadata": {
    "scrolled": true
   },
   "outputs": [],
   "source": [
    "k_reg = regularizers.l2(0.01) # 10e-5\n",
    "# b_reg = regularizers.l1(0.01)\n",
    "a_reg = regularizers.l1(0.01) # 10e-5"
   ]
  },
  {
   "cell_type": "code",
   "execution_count": 29,
   "metadata": {},
   "outputs": [
    {
     "data": {
      "text/plain": [
       "(150, 1)"
      ]
     },
     "execution_count": 29,
     "metadata": {},
     "output_type": "execute_result"
    }
   ],
   "source": [
    "input_shape\n",
    "# input_shape = (150,)\n",
    "input_shape"
   ]
  },
  {
   "cell_type": "code",
   "execution_count": 30,
   "metadata": {},
   "outputs": [],
   "source": [
    "batch_size = 16\n",
    "original_dim = 150\n",
    "latent_dim = 2\n",
    "intermediate_dim = 150\n",
    "epsilon_std = 1.0"
   ]
  },
  {
   "cell_type": "code",
   "execution_count": 31,
   "metadata": {},
   "outputs": [],
   "source": [
    "def sampling(args, latent_dim, epsilon_std):\n",
    "    z_mean, z_log_var = args\n",
    "    # epsilon = K.random_normal(shape=(batch_size, latent_dim), mean=0., stddev=epsilon_std)\n",
    "    epsilon = K.random_normal(shape=(K.shape(z_mean)[0], latent_dim), mean=0., stddev=epsilon_std)\n",
    "    return z_mean + K.exp(z_log_var / 2) * epsilon"
   ]
  },
  {
   "cell_type": "code",
   "execution_count": 32,
   "metadata": {},
   "outputs": [],
   "source": [
    "def encoder(latent_dim, input_shape, intermediate_dim = 150):\n",
    "    encoder_input = Input(shape=input_shape, name='encoder_input-')\n",
    "    y = encoder_input\n",
    "    y = Reshape(input_shape[:1])(y) # Flatten() nees 3 dims\n",
    "    h = Dense(intermediate_dim, activation='relu', name='encoder_h-')(y)\n",
    "    z_mean = Dense(latent_dim, name='z_mean')(h) # , activation='relu'\n",
    "    z_log_var = Dense(latent_dim, name='z_log_var')(h) # , activation='relu'\n",
    "\n",
    "    encoder_output = [z_mean, z_log_var]\n",
    "    encoder_model = Model(encoder_input, encoder_output, name='encoder_model-')\n",
    "    return encoder_model, z_mean, z_log_var, encoder_input\n",
    "\n",
    "def z_(latent_dim, epsilon_std):\n",
    "    # sample z from a distribution defined by [input_mean, input_log_var]\n",
    "    # input :: [z_mean, z_log_var]\n",
    "    z_input = [Input(shape=(latent_dim,)), Input(shape=(latent_dim,))]\n",
    "    sampling_ = lambda args: sampling(args, latent_dim, epsilon_std)\n",
    "    z_output = Lambda(sampling_, name='z_sampler-')(z_input)\n",
    "    # z_output = Lambda(sampling_, output_shape=(latent_dim,), name='z_sampler-')(z_input)\n",
    "    z_model = Model(z_input, z_output, name='z_model-')\n",
    "    return z_model\n",
    "\n",
    "def decoder(latent_dim, input_shape, intermediate_dim = 150):\n",
    "    z = Input(shape=(latent_dim,), name='decoder_input-')\n",
    "    decoder_h = Dense(intermediate_dim, activation='relu', name='decoder_h-')\n",
    "    h = decoder_h(z)\n",
    "    decoder_mean = Dense(original_dim, activation='sigmoid', name='decoder_mean-')\n",
    "    x_decoded_mean = decoder_mean(h)\n",
    "    h = Reshape(input_shape)(x_decoded_mean)\n",
    "    decoder_output = h\n",
    "    model = Model(inputs=z, outputs=decoder_output, name='decoder_model-')\n",
    "    return model"
   ]
  },
  {
   "cell_type": "code",
   "execution_count": 87,
   "metadata": {},
   "outputs": [
    {
     "name": "stdout",
     "output_type": "stream",
     "text": [
      "__________________________________________________________________________________________________\n",
      "Layer (type)                    Output Shape         Param #     Connected to                     \n",
      "==================================================================================================\n",
      "encoder_input- (InputLayer)     (None, 150, 1)       0                                            \n",
      "__________________________________________________________________________________________________\n",
      "reshape_13 (Reshape)            (None, 150)          0           encoder_input-[0][0]             \n",
      "__________________________________________________________________________________________________\n",
      "encoder_h- (Dense)              (None, 150)          22650       reshape_13[0][0]                 \n",
      "__________________________________________________________________________________________________\n",
      "z_mean (Dense)                  (None, 2)            302         encoder_h-[0][0]                 \n",
      "__________________________________________________________________________________________________\n",
      "z_log_var (Dense)               (None, 2)            302         encoder_h-[0][0]                 \n",
      "==================================================================================================\n",
      "Total params: 23,254\n",
      "Trainable params: 23,254\n",
      "Non-trainable params: 0\n",
      "__________________________________________________________________________________________________\n",
      "__________________________________________________________________________________________________\n",
      "Layer (type)                    Output Shape         Param #     Connected to                     \n",
      "==================================================================================================\n",
      "input_19 (InputLayer)           (None, 2)            0                                            \n",
      "__________________________________________________________________________________________________\n",
      "input_20 (InputLayer)           (None, 2)            0                                            \n",
      "__________________________________________________________________________________________________\n",
      "z_sampler- (Lambda)             (None, 2)            0           input_19[0][0]                   \n",
      "                                                                 input_20[0][0]                   \n",
      "==================================================================================================\n",
      "Total params: 0\n",
      "Trainable params: 0\n",
      "Non-trainable params: 0\n",
      "__________________________________________________________________________________________________\n",
      "_________________________________________________________________\n",
      "Layer (type)                 Output Shape              Param #   \n",
      "=================================================================\n",
      "decoder_input- (InputLayer)  (None, 2)                 0         \n",
      "_________________________________________________________________\n",
      "decoder_h- (Dense)           (None, 150)               450       \n",
      "_________________________________________________________________\n",
      "decoder_mean- (Dense)        (None, 150)               22650     \n",
      "_________________________________________________________________\n",
      "reshape_14 (Reshape)         (None, 150, 1)            0         \n",
      "=================================================================\n",
      "Total params: 23,100\n",
      "Trainable params: 23,100\n",
      "Non-trainable params: 0\n",
      "_________________________________________________________________\n",
      "__________________________________________________________________________________________________\n",
      "Layer (type)                    Output Shape         Param #     Connected to                     \n",
      "==================================================================================================\n",
      "encoder_input- (InputLayer)     (None, 150, 1)       0                                            \n",
      "__________________________________________________________________________________________________\n",
      "encoder_model- (Model)          [(None, 2), (None, 2 23254       encoder_input-[0][0]             \n",
      "__________________________________________________________________________________________________\n",
      "z_model- (Model)                (None, 2)            0           encoder_model-[1][0]             \n",
      "                                                                 encoder_model-[1][1]             \n",
      "__________________________________________________________________________________________________\n",
      "decoder_model- (Model)          (None, 150, 1)       23100       z_model-[1][0]                   \n",
      "==================================================================================================\n",
      "Total params: 46,354\n",
      "Trainable params: 46,354\n",
      "Non-trainable params: 0\n",
      "__________________________________________________________________________________________________\n"
     ]
    }
   ],
   "source": [
    "encoder_model, z_mean, z_log_var, encoder_input = encoder(latent_dim, input_shape)\n",
    "z_model = z_(latent_dim, epsilon_std)\n",
    "decoder_model = decoder(latent_dim, input_shape)\n",
    "\n",
    "vae_input = Input(shape=input_shape)\n",
    "# vae_input = Input(shape=(150,1))\n",
    "vae_input = encoder_input # WHY ?\n",
    "vae_output = decoder_model(z_model(encoder_model(vae_input)))\n",
    "# vae_output = decoder_model(z)\n",
    "vae = Model(vae_input, vae_output)\n",
    "# vae = Model(encoder_input, decoder_model(z))\n",
    "# vae = Model(encoder_input, decoder_output)\n",
    "encoder_model.summary()\n",
    "z_model.summary()\n",
    "decoder_model.summary()\n",
    "vae.summary()"
   ]
  },
  {
   "cell_type": "code",
   "execution_count": 88,
   "metadata": {},
   "outputs": [],
   "source": [
    "def vae_loss(y_true, y_pred, z_mean, z_log_var):\n",
    "    xent_loss = K.binary_crossentropy(y_true, y_pred)\n",
    "    kl_loss = - 0.5 * K.mean(1 + z_log_var - K.square(z_mean) - K.exp(z_log_var), axis=-1)\n",
    "    # kl_loss = - 0.5 * K.sum(1 + K.flatten(z_log_var) - K.square(K.flatten(z_mean)) - K.exp(K.flatten(z_log_var)), axis=-1)\n",
    "    return xent_loss + kl_loss"
   ]
  },
  {
   "cell_type": "code",
   "execution_count": 103,
   "metadata": {},
   "outputs": [],
   "source": [
    "metrics = ['accuracy','mse','mae']\n",
    "# loss = 'binary_crossentropy'#  sparse_categorical_crossentropy\n",
    "loss = lambda y_true, y_pred: vae_loss(y_true, y_pred, z_mean, z_log_var)\n",
    "optimizer = 'rmsprop' # adam adadelta rmsprop nadam\n",
    "# keras.optimizers.RMSprop(lr=0.001, rho=0.9, epsilon=None, decay=0.0)\n",
    "vae.compile(optimizer=optimizer, loss=loss, metrics=metrics)"
   ]
  },
  {
   "cell_type": "code",
   "execution_count": 104,
   "metadata": {},
   "outputs": [],
   "source": [
    "# # xent_loss = original_dim * keras.metrics.binary_crossentropy(vae_input, vae_output)\n",
    "# # xent_loss = keras.metrics.binary_crossentropy(vae_input, vae_output)\n",
    "# xent_loss = np.prod(input_shape) * keras.metrics.binary_crossentropy(vae_input, vae_output)\n",
    "# # kl_loss = - 0.5 * K.sum(1 + z_log_var - K.square(z_mean) - K.exp(z_log_var), axis=-1)\n",
    "# kl_loss = - 0.5 * K.sum(1 + K.flatten(z_log_var) - K.square(K.flatten(z_mean)) - K.exp(K.flatten(z_log_var)), axis=-1)\n",
    "\n",
    "# vae_loss = K.mean(xent_loss + kl_loss)\n",
    "\n",
    "# vae.add_loss(vae_loss)\n",
    "# vae.compile(optimizer='rmsprop', metrics=['binary_accuracy','mae'])"
   ]
  },
  {
   "cell_type": "code",
   "execution_count": 105,
   "metadata": {},
   "outputs": [
    {
     "data": {
      "text/plain": [
       "(260, 150, 1)"
      ]
     },
     "execution_count": 105,
     "metadata": {},
     "output_type": "execute_result"
    }
   ],
   "source": [
    "# z_train = x_train\n",
    "# x_train = x_train.reshape(x_train.shape[0],np.prod(x_train.shape[1:]))\n",
    "x_train.shape"
   ]
  },
  {
   "cell_type": "code",
   "execution_count": 106,
   "metadata": {},
   "outputs": [
    {
     "name": "stdout",
     "output_type": "stream",
     "text": [
      "Train on 41 samples, validate on 9 samples\n",
      "Epoch 1/100\n",
      "41/41 [==============================] - 0s 6ms/step - loss: 0.8351 - acc: 0.5268 - mean_squared_error: 0.2492 - mean_absolute_error: 0.4982 - val_loss: 0.7823 - val_acc: 0.5659 - val_mean_squared_error: 0.2455 - val_mean_absolute_error: 0.4942\n",
      "Epoch 2/100\n",
      "41/41 [==============================] - 0s 298us/step - loss: 0.7559 - acc: 0.5990 - mean_squared_error: 0.2444 - mean_absolute_error: 0.4932 - val_loss: 0.7795 - val_acc: 0.6133 - val_mean_squared_error: 0.2452 - val_mean_absolute_error: 0.4945\n",
      "Epoch 3/100\n",
      "41/41 [==============================] - 0s 303us/step - loss: 0.6944 - acc: 0.6421 - mean_squared_error: 0.2407 - mean_absolute_error: 0.4888 - val_loss: 0.7628 - val_acc: 0.6578 - val_mean_squared_error: 0.2396 - val_mean_absolute_error: 0.4876\n",
      "Epoch 4/100\n",
      "41/41 [==============================] - 0s 310us/step - loss: 0.6805 - acc: 0.6698 - mean_squared_error: 0.2383 - mean_absolute_error: 0.4862 - val_loss: 0.7547 - val_acc: 0.6622 - val_mean_squared_error: 0.2349 - val_mean_absolute_error: 0.4814\n",
      "Epoch 5/100\n",
      "41/41 [==============================] - 0s 596us/step - loss: 0.6687 - acc: 0.6846 - mean_squared_error: 0.2348 - mean_absolute_error: 0.4821 - val_loss: 0.7404 - val_acc: 0.6733 - val_mean_squared_error: 0.2338 - val_mean_absolute_error: 0.4800\n",
      "Epoch 6/100\n",
      "41/41 [==============================] - 0s 374us/step - loss: 0.6630 - acc: 0.6948 - mean_squared_error: 0.2324 - mean_absolute_error: 0.4784 - val_loss: 0.7152 - val_acc: 0.6815 - val_mean_squared_error: 0.2270 - val_mean_absolute_error: 0.4707\n",
      "Epoch 7/100\n",
      "41/41 [==============================] - 0s 434us/step - loss: 0.6604 - acc: 0.7000 - mean_squared_error: 0.2321 - mean_absolute_error: 0.4777 - val_loss: 0.7600 - val_acc: 0.6993 - val_mean_squared_error: 0.2358 - val_mean_absolute_error: 0.4829\n",
      "Epoch 8/100\n",
      "41/41 [==============================] - 0s 438us/step - loss: 0.6563 - acc: 0.7044 - mean_squared_error: 0.2288 - mean_absolute_error: 0.4745 - val_loss: 0.7363 - val_acc: 0.6956 - val_mean_squared_error: 0.2369 - val_mean_absolute_error: 0.4807\n",
      "Epoch 9/100\n",
      "41/41 [==============================] - 0s 465us/step - loss: 0.6463 - acc: 0.7060 - mean_squared_error: 0.2244 - mean_absolute_error: 0.4680 - val_loss: 0.7224 - val_acc: 0.7030 - val_mean_squared_error: 0.2309 - val_mean_absolute_error: 0.4765\n",
      "Epoch 10/100\n",
      "41/41 [==============================] - 0s 405us/step - loss: 0.6500 - acc: 0.7080 - mean_squared_error: 0.2244 - mean_absolute_error: 0.4676 - val_loss: 0.7237 - val_acc: 0.7000 - val_mean_squared_error: 0.2237 - val_mean_absolute_error: 0.4650\n",
      "Epoch 11/100\n",
      "41/41 [==============================] - 0s 430us/step - loss: 0.6472 - acc: 0.7102 - mean_squared_error: 0.2238 - mean_absolute_error: 0.4658 - val_loss: 0.6964 - val_acc: 0.7015 - val_mean_squared_error: 0.2189 - val_mean_absolute_error: 0.4591\n",
      "Epoch 12/100\n",
      "41/41 [==============================] - 0s 530us/step - loss: 0.6396 - acc: 0.7096 - mean_squared_error: 0.2211 - mean_absolute_error: 0.4615 - val_loss: 0.7645 - val_acc: 0.7044 - val_mean_squared_error: 0.2286 - val_mean_absolute_error: 0.4681\n",
      "Epoch 13/100\n",
      "41/41 [==============================] - 0s 517us/step - loss: 0.6440 - acc: 0.7089 - mean_squared_error: 0.2201 - mean_absolute_error: 0.4582 - val_loss: 0.7005 - val_acc: 0.7030 - val_mean_squared_error: 0.2231 - val_mean_absolute_error: 0.4633\n",
      "Epoch 14/100\n",
      "41/41 [==============================] - 0s 423us/step - loss: 0.6412 - acc: 0.7101 - mean_squared_error: 0.2183 - mean_absolute_error: 0.4565 - val_loss: 0.7589 - val_acc: 0.7030 - val_mean_squared_error: 0.2218 - val_mean_absolute_error: 0.4586\n",
      "Epoch 15/100\n",
      "41/41 [==============================] - 0s 442us/step - loss: 0.6418 - acc: 0.7104 - mean_squared_error: 0.2171 - mean_absolute_error: 0.4536 - val_loss: 0.7106 - val_acc: 0.7015 - val_mean_squared_error: 0.2193 - val_mean_absolute_error: 0.4531\n",
      "Epoch 16/100\n",
      "41/41 [==============================] - 0s 494us/step - loss: 0.6251 - acc: 0.7101 - mean_squared_error: 0.2131 - mean_absolute_error: 0.4467 - val_loss: 0.7016 - val_acc: 0.7037 - val_mean_squared_error: 0.2176 - val_mean_absolute_error: 0.4558\n",
      "Epoch 17/100\n",
      "41/41 [==============================] - 0s 408us/step - loss: 0.6265 - acc: 0.7101 - mean_squared_error: 0.2156 - mean_absolute_error: 0.4471 - val_loss: 0.7258 - val_acc: 0.7044 - val_mean_squared_error: 0.2184 - val_mean_absolute_error: 0.4472\n",
      "Epoch 18/100\n",
      "41/41 [==============================] - 0s 531us/step - loss: 0.6242 - acc: 0.7089 - mean_squared_error: 0.2105 - mean_absolute_error: 0.4409 - val_loss: 0.6940 - val_acc: 0.7044 - val_mean_squared_error: 0.2129 - val_mean_absolute_error: 0.4387\n",
      "Epoch 19/100\n",
      "41/41 [==============================] - 0s 614us/step - loss: 0.6097 - acc: 0.7106 - mean_squared_error: 0.2073 - mean_absolute_error: 0.4339 - val_loss: 0.6933 - val_acc: 0.7022 - val_mean_squared_error: 0.2100 - val_mean_absolute_error: 0.4380\n",
      "Epoch 20/100\n",
      "41/41 [==============================] - 0s 690us/step - loss: 0.6205 - acc: 0.7102 - mean_squared_error: 0.2115 - mean_absolute_error: 0.4387 - val_loss: 0.6966 - val_acc: 0.7044 - val_mean_squared_error: 0.2118 - val_mean_absolute_error: 0.4397\n",
      "Epoch 21/100\n",
      "41/41 [==============================] - 0s 737us/step - loss: 0.6203 - acc: 0.7101 - mean_squared_error: 0.2117 - mean_absolute_error: 0.4375 - val_loss: 0.6913 - val_acc: 0.7022 - val_mean_squared_error: 0.2173 - val_mean_absolute_error: 0.4410\n",
      "Epoch 22/100\n",
      "41/41 [==============================] - 0s 560us/step - loss: 0.6271 - acc: 0.7104 - mean_squared_error: 0.2110 - mean_absolute_error: 0.4373 - val_loss: 0.7217 - val_acc: 0.7030 - val_mean_squared_error: 0.2179 - val_mean_absolute_error: 0.4334\n",
      "Epoch 23/100\n",
      "41/41 [==============================] - 0s 493us/step - loss: 0.6145 - acc: 0.7109 - mean_squared_error: 0.2074 - mean_absolute_error: 0.4308 - val_loss: 0.6711 - val_acc: 0.7044 - val_mean_squared_error: 0.2103 - val_mean_absolute_error: 0.4301\n",
      "Epoch 24/100\n",
      "41/41 [==============================] - 0s 624us/step - loss: 0.6093 - acc: 0.7104 - mean_squared_error: 0.2060 - mean_absolute_error: 0.4282 - val_loss: 0.6859 - val_acc: 0.7030 - val_mean_squared_error: 0.2124 - val_mean_absolute_error: 0.4219\n",
      "Epoch 25/100\n",
      "41/41 [==============================] - 0s 618us/step - loss: 0.5996 - acc: 0.7101 - mean_squared_error: 0.2034 - mean_absolute_error: 0.4219 - val_loss: 0.6834 - val_acc: 0.7044 - val_mean_squared_error: 0.2101 - val_mean_absolute_error: 0.4258\n",
      "Epoch 26/100\n",
      "41/41 [==============================] - 0s 446us/step - loss: 0.5976 - acc: 0.7104 - mean_squared_error: 0.2033 - mean_absolute_error: 0.4179 - val_loss: 0.7083 - val_acc: 0.7044 - val_mean_squared_error: 0.2124 - val_mean_absolute_error: 0.4278\n",
      "Epoch 27/100\n",
      "41/41 [==============================] - 0s 367us/step - loss: 0.6031 - acc: 0.7099 - mean_squared_error: 0.2034 - mean_absolute_error: 0.4168 - val_loss: 0.7023 - val_acc: 0.7044 - val_mean_squared_error: 0.2142 - val_mean_absolute_error: 0.4346\n",
      "Epoch 28/100\n",
      "41/41 [==============================] - 0s 310us/step - loss: 0.6074 - acc: 0.7096 - mean_squared_error: 0.2052 - mean_absolute_error: 0.4130 - val_loss: 0.6939 - val_acc: 0.7052 - val_mean_squared_error: 0.2169 - val_mean_absolute_error: 0.4210\n",
      "Epoch 29/100\n",
      "41/41 [==============================] - 0s 515us/step - loss: 0.6251 - acc: 0.7104 - mean_squared_error: 0.2056 - mean_absolute_error: 0.4184 - val_loss: 0.6743 - val_acc: 0.7052 - val_mean_squared_error: 0.2060 - val_mean_absolute_error: 0.4199\n",
      "Epoch 30/100\n",
      "41/41 [==============================] - 0s 477us/step - loss: 0.6081 - acc: 0.7106 - mean_squared_error: 0.2064 - mean_absolute_error: 0.4192 - val_loss: 0.6867 - val_acc: 0.7044 - val_mean_squared_error: 0.2110 - val_mean_absolute_error: 0.4206\n",
      "Epoch 31/100\n",
      "41/41 [==============================] - 0s 543us/step - loss: 0.5997 - acc: 0.7094 - mean_squared_error: 0.2033 - mean_absolute_error: 0.4160 - val_loss: 0.6678 - val_acc: 0.7052 - val_mean_squared_error: 0.2076 - val_mean_absolute_error: 0.4174\n",
      "Epoch 32/100\n"
     ]
    },
    {
     "name": "stdout",
     "output_type": "stream",
     "text": [
      "41/41 [==============================] - 0s 562us/step - loss: 0.6066 - acc: 0.7102 - mean_squared_error: 0.2041 - mean_absolute_error: 0.4101 - val_loss: 0.7062 - val_acc: 0.7044 - val_mean_squared_error: 0.2107 - val_mean_absolute_error: 0.4334\n",
      "Epoch 33/100\n",
      "41/41 [==============================] - 0s 324us/step - loss: 0.6107 - acc: 0.7102 - mean_squared_error: 0.2048 - mean_absolute_error: 0.4130 - val_loss: 0.7469 - val_acc: 0.7044 - val_mean_squared_error: 0.2167 - val_mean_absolute_error: 0.4331\n",
      "Epoch 34/100\n",
      "41/41 [==============================] - 0s 601us/step - loss: 0.6095 - acc: 0.7099 - mean_squared_error: 0.2037 - mean_absolute_error: 0.4146 - val_loss: 0.6816 - val_acc: 0.7044 - val_mean_squared_error: 0.2137 - val_mean_absolute_error: 0.4192\n",
      "Epoch 35/100\n",
      "41/41 [==============================] - 0s 450us/step - loss: 0.6069 - acc: 0.7104 - mean_squared_error: 0.2049 - mean_absolute_error: 0.4187 - val_loss: 0.7017 - val_acc: 0.7044 - val_mean_squared_error: 0.2153 - val_mean_absolute_error: 0.4296\n",
      "Epoch 36/100\n",
      "41/41 [==============================] - 0s 546us/step - loss: 0.6127 - acc: 0.7107 - mean_squared_error: 0.2082 - mean_absolute_error: 0.4203 - val_loss: 0.7067 - val_acc: 0.7052 - val_mean_squared_error: 0.2219 - val_mean_absolute_error: 0.4186\n",
      "Epoch 37/100\n",
      "41/41 [==============================] - 0s 493us/step - loss: 0.6006 - acc: 0.7102 - mean_squared_error: 0.2035 - mean_absolute_error: 0.4098 - val_loss: 0.7246 - val_acc: 0.7044 - val_mean_squared_error: 0.2135 - val_mean_absolute_error: 0.4145\n",
      "Epoch 38/100\n",
      "41/41 [==============================] - 0s 475us/step - loss: 0.6187 - acc: 0.7104 - mean_squared_error: 0.2050 - mean_absolute_error: 0.4116 - val_loss: 0.6666 - val_acc: 0.7044 - val_mean_squared_error: 0.2072 - val_mean_absolute_error: 0.4143\n",
      "Epoch 39/100\n",
      "41/41 [==============================] - 0s 491us/step - loss: 0.6073 - acc: 0.7101 - mean_squared_error: 0.2045 - mean_absolute_error: 0.4119 - val_loss: 0.6800 - val_acc: 0.7052 - val_mean_squared_error: 0.2095 - val_mean_absolute_error: 0.4108\n",
      "Epoch 40/100\n",
      "41/41 [==============================] - 0s 333us/step - loss: 0.6060 - acc: 0.7104 - mean_squared_error: 0.2056 - mean_absolute_error: 0.4125 - val_loss: 0.6765 - val_acc: 0.7044 - val_mean_squared_error: 0.2100 - val_mean_absolute_error: 0.4074\n",
      "Epoch 41/100\n",
      "41/41 [==============================] - 0s 427us/step - loss: 0.6081 - acc: 0.7101 - mean_squared_error: 0.2047 - mean_absolute_error: 0.4095 - val_loss: 0.6969 - val_acc: 0.7044 - val_mean_squared_error: 0.2115 - val_mean_absolute_error: 0.4201\n",
      "Epoch 42/100\n",
      "41/41 [==============================] - 0s 512us/step - loss: 0.6054 - acc: 0.7104 - mean_squared_error: 0.2046 - mean_absolute_error: 0.4140 - val_loss: 0.7070 - val_acc: 0.7044 - val_mean_squared_error: 0.2189 - val_mean_absolute_error: 0.4248\n",
      "Epoch 43/100\n",
      "41/41 [==============================] - 0s 571us/step - loss: 0.6025 - acc: 0.7104 - mean_squared_error: 0.2030 - mean_absolute_error: 0.4057 - val_loss: 0.7299 - val_acc: 0.7044 - val_mean_squared_error: 0.2207 - val_mean_absolute_error: 0.4231\n",
      "Epoch 44/100\n",
      "41/41 [==============================] - 0s 583us/step - loss: 0.6115 - acc: 0.7104 - mean_squared_error: 0.2066 - mean_absolute_error: 0.4131 - val_loss: 0.7010 - val_acc: 0.7052 - val_mean_squared_error: 0.2223 - val_mean_absolute_error: 0.4140\n",
      "Epoch 45/100\n",
      "41/41 [==============================] - 0s 618us/step - loss: 0.6075 - acc: 0.7098 - mean_squared_error: 0.2047 - mean_absolute_error: 0.4082 - val_loss: 0.6817 - val_acc: 0.7044 - val_mean_squared_error: 0.2124 - val_mean_absolute_error: 0.4175\n",
      "Epoch 46/100\n",
      "41/41 [==============================] - 0s 344us/step - loss: 0.6007 - acc: 0.7104 - mean_squared_error: 0.2013 - mean_absolute_error: 0.4023 - val_loss: 0.7203 - val_acc: 0.7044 - val_mean_squared_error: 0.2248 - val_mean_absolute_error: 0.4196\n",
      "Epoch 47/100\n",
      "41/41 [==============================] - 0s 485us/step - loss: 0.5988 - acc: 0.7104 - mean_squared_error: 0.2022 - mean_absolute_error: 0.4047 - val_loss: 0.6805 - val_acc: 0.7044 - val_mean_squared_error: 0.2117 - val_mean_absolute_error: 0.4242\n",
      "Epoch 48/100\n",
      "41/41 [==============================] - 0s 557us/step - loss: 0.6032 - acc: 0.7106 - mean_squared_error: 0.2037 - mean_absolute_error: 0.4079 - val_loss: 0.6853 - val_acc: 0.7044 - val_mean_squared_error: 0.2133 - val_mean_absolute_error: 0.4175\n",
      "Epoch 49/100\n",
      "41/41 [==============================] - 0s 432us/step - loss: 0.6016 - acc: 0.7104 - mean_squared_error: 0.2025 - mean_absolute_error: 0.4037 - val_loss: 0.6818 - val_acc: 0.7044 - val_mean_squared_error: 0.2161 - val_mean_absolute_error: 0.4180\n",
      "Epoch 50/100\n",
      "41/41 [==============================] - 0s 402us/step - loss: 0.6049 - acc: 0.7104 - mean_squared_error: 0.2032 - mean_absolute_error: 0.4002 - val_loss: 0.7421 - val_acc: 0.7044 - val_mean_squared_error: 0.2194 - val_mean_absolute_error: 0.4185\n",
      "Epoch 51/100\n",
      "41/41 [==============================] - 0s 359us/step - loss: 0.6041 - acc: 0.7104 - mean_squared_error: 0.2029 - mean_absolute_error: 0.4054 - val_loss: 0.6955 - val_acc: 0.7059 - val_mean_squared_error: 0.2134 - val_mean_absolute_error: 0.4157\n",
      "Epoch 52/100\n",
      "41/41 [==============================] - 0s 308us/step - loss: 0.6052 - acc: 0.7102 - mean_squared_error: 0.2035 - mean_absolute_error: 0.4082 - val_loss: 0.7019 - val_acc: 0.7044 - val_mean_squared_error: 0.2170 - val_mean_absolute_error: 0.4064\n",
      "Epoch 53/100\n",
      "41/41 [==============================] - 0s 443us/step - loss: 0.6005 - acc: 0.7099 - mean_squared_error: 0.2032 - mean_absolute_error: 0.4064 - val_loss: 0.6906 - val_acc: 0.7052 - val_mean_squared_error: 0.2137 - val_mean_absolute_error: 0.4209\n",
      "Epoch 54/100\n",
      "41/41 [==============================] - 0s 453us/step - loss: 0.5954 - acc: 0.7104 - mean_squared_error: 0.2009 - mean_absolute_error: 0.4010 - val_loss: 0.7169 - val_acc: 0.7037 - val_mean_squared_error: 0.2162 - val_mean_absolute_error: 0.4136\n",
      "Epoch 55/100\n",
      "41/41 [==============================] - 0s 393us/step - loss: 0.6008 - acc: 0.7101 - mean_squared_error: 0.2012 - mean_absolute_error: 0.4012 - val_loss: 0.6823 - val_acc: 0.7044 - val_mean_squared_error: 0.2120 - val_mean_absolute_error: 0.4213\n",
      "Epoch 56/100\n",
      "41/41 [==============================] - 0s 463us/step - loss: 0.5978 - acc: 0.7104 - mean_squared_error: 0.2018 - mean_absolute_error: 0.4047 - val_loss: 0.7017 - val_acc: 0.7044 - val_mean_squared_error: 0.2180 - val_mean_absolute_error: 0.4156\n",
      "Epoch 57/100\n",
      "41/41 [==============================] - 0s 420us/step - loss: 0.6018 - acc: 0.7104 - mean_squared_error: 0.2039 - mean_absolute_error: 0.4043 - val_loss: 0.6772 - val_acc: 0.7044 - val_mean_squared_error: 0.2129 - val_mean_absolute_error: 0.4093\n",
      "Epoch 58/100\n",
      "41/41 [==============================] - 0s 365us/step - loss: 0.6043 - acc: 0.7102 - mean_squared_error: 0.2037 - mean_absolute_error: 0.4085 - val_loss: 0.6924 - val_acc: 0.7044 - val_mean_squared_error: 0.2171 - val_mean_absolute_error: 0.4184\n",
      "Epoch 59/100\n",
      "41/41 [==============================] - 0s 346us/step - loss: 0.5984 - acc: 0.7106 - mean_squared_error: 0.2025 - mean_absolute_error: 0.4050 - val_loss: 0.6983 - val_acc: 0.7037 - val_mean_squared_error: 0.2190 - val_mean_absolute_error: 0.4009\n",
      "Epoch 60/100\n",
      "41/41 [==============================] - 0s 391us/step - loss: 0.5999 - acc: 0.7102 - mean_squared_error: 0.2031 - mean_absolute_error: 0.4032 - val_loss: 0.7083 - val_acc: 0.7044 - val_mean_squared_error: 0.2137 - val_mean_absolute_error: 0.4158\n",
      "Epoch 61/100\n",
      "41/41 [==============================] - 0s 432us/step - loss: 0.6038 - acc: 0.7102 - mean_squared_error: 0.2018 - mean_absolute_error: 0.4017 - val_loss: 0.6738 - val_acc: 0.7044 - val_mean_squared_error: 0.2149 - val_mean_absolute_error: 0.4243\n",
      "Epoch 62/100\n",
      "41/41 [==============================] - 0s 325us/step - loss: 0.6013 - acc: 0.7102 - mean_squared_error: 0.2012 - mean_absolute_error: 0.4001 - val_loss: 0.6901 - val_acc: 0.7044 - val_mean_squared_error: 0.2108 - val_mean_absolute_error: 0.4182\n",
      "Epoch 63/100\n"
     ]
    },
    {
     "name": "stdout",
     "output_type": "stream",
     "text": [
      "41/41 [==============================] - 0s 409us/step - loss: 0.5917 - acc: 0.7104 - mean_squared_error: 0.1998 - mean_absolute_error: 0.4043 - val_loss: 0.6610 - val_acc: 0.7044 - val_mean_squared_error: 0.2101 - val_mean_absolute_error: 0.4127\n",
      "Epoch 64/100\n",
      "41/41 [==============================] - 0s 490us/step - loss: 0.5962 - acc: 0.7104 - mean_squared_error: 0.1999 - mean_absolute_error: 0.4045 - val_loss: 0.6714 - val_acc: 0.7044 - val_mean_squared_error: 0.2099 - val_mean_absolute_error: 0.4067\n",
      "Epoch 65/100\n",
      "41/41 [==============================] - 0s 402us/step - loss: 0.5963 - acc: 0.7104 - mean_squared_error: 0.2020 - mean_absolute_error: 0.4065 - val_loss: 0.6727 - val_acc: 0.7044 - val_mean_squared_error: 0.2117 - val_mean_absolute_error: 0.4144\n",
      "Epoch 66/100\n",
      "41/41 [==============================] - 0s 564us/step - loss: 0.6007 - acc: 0.7104 - mean_squared_error: 0.2038 - mean_absolute_error: 0.4014 - val_loss: 0.7186 - val_acc: 0.7044 - val_mean_squared_error: 0.2140 - val_mean_absolute_error: 0.4191\n",
      "Epoch 67/100\n",
      "41/41 [==============================] - 0s 476us/step - loss: 0.6067 - acc: 0.7104 - mean_squared_error: 0.2025 - mean_absolute_error: 0.4055 - val_loss: 0.6696 - val_acc: 0.7044 - val_mean_squared_error: 0.2085 - val_mean_absolute_error: 0.4038\n",
      "Epoch 68/100\n",
      "41/41 [==============================] - 0s 314us/step - loss: 0.5976 - acc: 0.7104 - mean_squared_error: 0.2022 - mean_absolute_error: 0.4031 - val_loss: 0.6740 - val_acc: 0.7052 - val_mean_squared_error: 0.2118 - val_mean_absolute_error: 0.4140\n",
      "Epoch 69/100\n",
      "41/41 [==============================] - 0s 254us/step - loss: 0.5977 - acc: 0.7099 - mean_squared_error: 0.2018 - mean_absolute_error: 0.3992 - val_loss: 0.6984 - val_acc: 0.7030 - val_mean_squared_error: 0.2125 - val_mean_absolute_error: 0.4164\n",
      "Epoch 70/100\n",
      "41/41 [==============================] - 0s 236us/step - loss: 0.6021 - acc: 0.7098 - mean_squared_error: 0.2022 - mean_absolute_error: 0.4028 - val_loss: 0.6874 - val_acc: 0.7044 - val_mean_squared_error: 0.2161 - val_mean_absolute_error: 0.4175\n",
      "Epoch 71/100\n",
      "41/41 [==============================] - 0s 278us/step - loss: 0.5959 - acc: 0.7104 - mean_squared_error: 0.2019 - mean_absolute_error: 0.4006 - val_loss: 0.7072 - val_acc: 0.7037 - val_mean_squared_error: 0.2175 - val_mean_absolute_error: 0.4129\n",
      "Epoch 72/100\n",
      "41/41 [==============================] - 0s 272us/step - loss: 0.5951 - acc: 0.7106 - mean_squared_error: 0.2012 - mean_absolute_error: 0.4058 - val_loss: 0.6994 - val_acc: 0.7044 - val_mean_squared_error: 0.2168 - val_mean_absolute_error: 0.4081\n",
      "Epoch 73/100\n",
      "41/41 [==============================] - 0s 256us/step - loss: 0.5970 - acc: 0.7104 - mean_squared_error: 0.2023 - mean_absolute_error: 0.4060 - val_loss: 0.6838 - val_acc: 0.7044 - val_mean_squared_error: 0.2168 - val_mean_absolute_error: 0.4187\n",
      "Epoch 74/100\n",
      "41/41 [==============================] - 0s 242us/step - loss: 0.5994 - acc: 0.7104 - mean_squared_error: 0.2030 - mean_absolute_error: 0.4042 - val_loss: 0.6845 - val_acc: 0.7044 - val_mean_squared_error: 0.2134 - val_mean_absolute_error: 0.4111\n",
      "Epoch 75/100\n",
      "41/41 [==============================] - 0s 320us/step - loss: 0.6035 - acc: 0.7104 - mean_squared_error: 0.2031 - mean_absolute_error: 0.4044 - val_loss: 0.7123 - val_acc: 0.7044 - val_mean_squared_error: 0.2139 - val_mean_absolute_error: 0.4059\n",
      "Epoch 76/100\n",
      "41/41 [==============================] - 0s 351us/step - loss: 0.6075 - acc: 0.7102 - mean_squared_error: 0.2039 - mean_absolute_error: 0.4041 - val_loss: 0.6793 - val_acc: 0.7044 - val_mean_squared_error: 0.2165 - val_mean_absolute_error: 0.4186\n",
      "Epoch 77/100\n",
      "41/41 [==============================] - 0s 525us/step - loss: 0.5975 - acc: 0.7104 - mean_squared_error: 0.2008 - mean_absolute_error: 0.3990 - val_loss: 0.7088 - val_acc: 0.7044 - val_mean_squared_error: 0.2201 - val_mean_absolute_error: 0.4151\n",
      "Epoch 78/100\n",
      "41/41 [==============================] - 0s 545us/step - loss: 0.5902 - acc: 0.7104 - mean_squared_error: 0.1996 - mean_absolute_error: 0.4029 - val_loss: 0.7054 - val_acc: 0.7044 - val_mean_squared_error: 0.2218 - val_mean_absolute_error: 0.4206\n",
      "Epoch 79/100\n",
      "41/41 [==============================] - 0s 539us/step - loss: 0.6022 - acc: 0.7104 - mean_squared_error: 0.2043 - mean_absolute_error: 0.4021 - val_loss: 0.6932 - val_acc: 0.7044 - val_mean_squared_error: 0.2155 - val_mean_absolute_error: 0.4119\n",
      "Epoch 80/100\n",
      "41/41 [==============================] - 0s 494us/step - loss: 0.5957 - acc: 0.7104 - mean_squared_error: 0.2009 - mean_absolute_error: 0.4046 - val_loss: 0.6844 - val_acc: 0.7044 - val_mean_squared_error: 0.2161 - val_mean_absolute_error: 0.4172\n",
      "Epoch 81/100\n",
      "41/41 [==============================] - 0s 497us/step - loss: 0.5904 - acc: 0.7104 - mean_squared_error: 0.2000 - mean_absolute_error: 0.3994 - val_loss: 0.7033 - val_acc: 0.7044 - val_mean_squared_error: 0.2186 - val_mean_absolute_error: 0.4225\n",
      "Epoch 82/100\n",
      "41/41 [==============================] - 0s 467us/step - loss: 0.5937 - acc: 0.7104 - mean_squared_error: 0.2012 - mean_absolute_error: 0.4001 - val_loss: 0.6802 - val_acc: 0.7044 - val_mean_squared_error: 0.2097 - val_mean_absolute_error: 0.4149\n",
      "Epoch 83/100\n",
      "41/41 [==============================] - 0s 459us/step - loss: 0.5953 - acc: 0.7104 - mean_squared_error: 0.2008 - mean_absolute_error: 0.4006 - val_loss: 0.6635 - val_acc: 0.7044 - val_mean_squared_error: 0.2092 - val_mean_absolute_error: 0.4098\n",
      "Epoch 84/100\n",
      "41/41 [==============================] - 0s 576us/step - loss: 0.5983 - acc: 0.7104 - mean_squared_error: 0.2026 - mean_absolute_error: 0.4025 - val_loss: 0.6839 - val_acc: 0.7044 - val_mean_squared_error: 0.2127 - val_mean_absolute_error: 0.4145\n",
      "Epoch 85/100\n",
      "41/41 [==============================] - 0s 452us/step - loss: 0.5982 - acc: 0.7104 - mean_squared_error: 0.2020 - mean_absolute_error: 0.4012 - val_loss: 0.6880 - val_acc: 0.7044 - val_mean_squared_error: 0.2172 - val_mean_absolute_error: 0.4157\n",
      "Epoch 86/100\n",
      "41/41 [==============================] - 0s 489us/step - loss: 0.5944 - acc: 0.7104 - mean_squared_error: 0.2003 - mean_absolute_error: 0.3983 - val_loss: 0.6673 - val_acc: 0.7044 - val_mean_squared_error: 0.2114 - val_mean_absolute_error: 0.4164\n",
      "Epoch 87/100\n",
      "41/41 [==============================] - 0s 438us/step - loss: 0.5993 - acc: 0.7104 - mean_squared_error: 0.2028 - mean_absolute_error: 0.4031 - val_loss: 0.7056 - val_acc: 0.7044 - val_mean_squared_error: 0.2149 - val_mean_absolute_error: 0.4222\n",
      "Epoch 88/100\n",
      "41/41 [==============================] - 0s 474us/step - loss: 0.6028 - acc: 0.7104 - mean_squared_error: 0.2030 - mean_absolute_error: 0.4070 - val_loss: 0.6747 - val_acc: 0.7044 - val_mean_squared_error: 0.2145 - val_mean_absolute_error: 0.4113\n",
      "Epoch 89/100\n",
      "41/41 [==============================] - 0s 304us/step - loss: 0.6013 - acc: 0.7104 - mean_squared_error: 0.2019 - mean_absolute_error: 0.4023 - val_loss: 0.6944 - val_acc: 0.7044 - val_mean_squared_error: 0.2154 - val_mean_absolute_error: 0.4227\n",
      "Epoch 90/100\n",
      "41/41 [==============================] - 0s 404us/step - loss: 0.6035 - acc: 0.7104 - mean_squared_error: 0.2027 - mean_absolute_error: 0.4004 - val_loss: 0.6939 - val_acc: 0.7044 - val_mean_squared_error: 0.2213 - val_mean_absolute_error: 0.4147\n",
      "Epoch 91/100\n",
      "41/41 [==============================] - 0s 369us/step - loss: 0.5999 - acc: 0.7104 - mean_squared_error: 0.2035 - mean_absolute_error: 0.4071 - val_loss: 0.6782 - val_acc: 0.7044 - val_mean_squared_error: 0.2105 - val_mean_absolute_error: 0.4113\n",
      "Epoch 92/100\n",
      "41/41 [==============================] - 0s 401us/step - loss: 0.5972 - acc: 0.7104 - mean_squared_error: 0.2025 - mean_absolute_error: 0.4072 - val_loss: 0.6652 - val_acc: 0.7044 - val_mean_squared_error: 0.2118 - val_mean_absolute_error: 0.4159\n",
      "Epoch 93/100\n",
      "41/41 [==============================] - 0s 440us/step - loss: 0.5977 - acc: 0.7104 - mean_squared_error: 0.2029 - mean_absolute_error: 0.4052 - val_loss: 0.6857 - val_acc: 0.7044 - val_mean_squared_error: 0.2112 - val_mean_absolute_error: 0.4061\n",
      "Epoch 94/100\n"
     ]
    },
    {
     "name": "stdout",
     "output_type": "stream",
     "text": [
      "41/41 [==============================] - 0s 353us/step - loss: 0.5997 - acc: 0.7106 - mean_squared_error: 0.2022 - mean_absolute_error: 0.4047 - val_loss: 0.6828 - val_acc: 0.7044 - val_mean_squared_error: 0.2177 - val_mean_absolute_error: 0.4028\n",
      "Epoch 95/100\n",
      "41/41 [==============================] - 0s 389us/step - loss: 0.6011 - acc: 0.7104 - mean_squared_error: 0.2027 - mean_absolute_error: 0.4033 - val_loss: 0.6831 - val_acc: 0.7044 - val_mean_squared_error: 0.2145 - val_mean_absolute_error: 0.4161\n",
      "Epoch 96/100\n",
      "41/41 [==============================] - 0s 377us/step - loss: 0.5996 - acc: 0.7104 - mean_squared_error: 0.2025 - mean_absolute_error: 0.4028 - val_loss: 0.6793 - val_acc: 0.7044 - val_mean_squared_error: 0.2153 - val_mean_absolute_error: 0.4164\n",
      "Epoch 97/100\n",
      "41/41 [==============================] - 0s 351us/step - loss: 0.5961 - acc: 0.7104 - mean_squared_error: 0.2016 - mean_absolute_error: 0.4024 - val_loss: 0.7078 - val_acc: 0.7044 - val_mean_squared_error: 0.2226 - val_mean_absolute_error: 0.4120\n",
      "Epoch 98/100\n",
      "41/41 [==============================] - 0s 377us/step - loss: 0.5955 - acc: 0.7104 - mean_squared_error: 0.2016 - mean_absolute_error: 0.4050 - val_loss: 0.6765 - val_acc: 0.7044 - val_mean_squared_error: 0.2165 - val_mean_absolute_error: 0.4121\n",
      "Epoch 99/100\n",
      "41/41 [==============================] - 0s 369us/step - loss: 0.5973 - acc: 0.7104 - mean_squared_error: 0.2027 - mean_absolute_error: 0.4004 - val_loss: 0.6845 - val_acc: 0.7044 - val_mean_squared_error: 0.2128 - val_mean_absolute_error: 0.4141\n",
      "Epoch 100/100\n",
      "41/41 [==============================] - 0s 401us/step - loss: 0.6005 - acc: 0.7104 - mean_squared_error: 0.2010 - mean_absolute_error: 0.4022 - val_loss: 0.6768 - val_acc: 0.7044 - val_mean_squared_error: 0.2149 - val_mean_absolute_error: 0.4132\n"
     ]
    }
   ],
   "source": [
    "epochs = 100\n",
    "m = 50\n",
    "vs = 1/6\n",
    "shuffle = True\n",
    "callbacks = []\n",
    "callbacks = [TensorBoard(log_dir=config.tmp_log_dir)]\n",
    "# model.fit(x_train, y_train, epochs=epochs, batch_size=batch_size, callbacks=[TensorBoard(log_dir=config.tmp_log_dir)])\n",
    "history = vae.fit(x_train[:m], x_train[:m], epochs=epochs, batch_size=batch_size,\n",
    "          validation_split=vs, callbacks=callbacks, shuffle=shuffle)\n",
    "# history = vae.fit(x_train[:m], shuffle=False, epochs=epochs, batch_size=batch_size, validation_data=(x_test, None))"
   ]
  },
  {
   "cell_type": "code",
   "execution_count": 107,
   "metadata": {},
   "outputs": [
    {
     "data": {
      "text/plain": [
       "[<matplotlib.lines.Line2D at 0x130d9c5f8>]"
      ]
     },
     "execution_count": 107,
     "metadata": {},
     "output_type": "execute_result"
    },
    {
     "data": {
      "image/png": "[encoded data removed]",
      "text/plain": [
       "<matplotlib.figure.Figure at 0x130d9c630>"
      ]
     },
     "metadata": {},
     "output_type": "display_data"
    }
   ],
   "source": [
    "plt.plot(history.history['loss'])\n",
    "plt.plot(history.history['val_loss'])"
   ]
  },
  {
   "cell_type": "code",
   "execution_count": 109,
   "metadata": {},
   "outputs": [
    {
     "data": {
      "text/plain": [
       "[<matplotlib.lines.Line2D at 0x123e2cd30>]"
      ]
     },
     "execution_count": 109,
     "metadata": {},
     "output_type": "execute_result"
    },
    {
     "data": {
      "image/png": "[encoded data removed]",
      "text/plain": [
       "<matplotlib.figure.Figure at 0x123e2c400>"
      ]
     },
     "metadata": {},
     "output_type": "display_data"
    }
   ],
   "source": [
    "plt.plot(history.history['acc'])\n",
    "plt.plot(history.history['val_acc'])"
   ]
  },
  {
   "cell_type": "code",
   "execution_count": 110,
   "metadata": {},
   "outputs": [
    {
     "data": {
      "text/plain": [
       "[<matplotlib.lines.Line2D at 0x130daa9e8>]"
      ]
     },
     "execution_count": 110,
     "metadata": {},
     "output_type": "execute_result"
    },
    {
     "data": {
      "image/png": "[encoded data removed]",
      "text/plain": [
       "<matplotlib.figure.Figure at 0x130daaa90>"
      ]
     },
     "metadata": {},
     "output_type": "display_data"
    }
   ],
   "source": [
    "plt.plot(history.history['mean_absolute_error'])\n",
    "plt.plot(history.history['val_mean_absolute_error'])"
   ]
  },
  {
   "cell_type": "code",
   "execution_count": 108,
   "metadata": {},
   "outputs": [
    {
     "data": {
      "text/plain": [
       "dict_keys(['val_loss', 'val_acc', 'val_mean_squared_error', 'val_mean_absolute_error', 'loss', 'acc', 'mean_squared_error', 'mean_absolute_error'])"
      ]
     },
     "execution_count": 108,
     "metadata": {},
     "output_type": "execute_result"
    }
   ],
   "source": [
    "history.history.keys()"
   ]
  },
  {
   "cell_type": "code",
   "execution_count": 95,
   "metadata": {
    "scrolled": true
   },
   "outputs": [],
   "source": [
    "# plot_model(vae, to_file='model.png')"
   ]
  },
  {
   "cell_type": "code",
   "execution_count": 96,
   "metadata": {},
   "outputs": [
    {
     "name": "stdout",
     "output_type": "stream",
     "text": [
      "_________________________________________________________________\n",
      "Layer (type)                 Output Shape              Param #   \n",
      "=================================================================\n",
      "decoder_input- (InputLayer)  (None, 2)                 0         \n",
      "_________________________________________________________________\n",
      "decoder_h- (Dense)           (None, 150)               450       \n",
      "_________________________________________________________________\n",
      "decoder_mean- (Dense)        (None, 150)               22650     \n",
      "_________________________________________________________________\n",
      "reshape_14 (Reshape)         (None, 150, 1)            0         \n",
      "=================================================================\n",
      "Total params: 23,100\n",
      "Trainable params: 23,100\n",
      "Non-trainable params: 0\n",
      "_________________________________________________________________\n"
     ]
    }
   ],
   "source": [
    "generator = decoder_model # decoder_model(z)\n",
    "generator.summary()"
   ]
  },
  {
   "cell_type": "code",
   "execution_count": null,
   "metadata": {},
   "outputs": [],
   "source": []
  },
  {
   "cell_type": "code",
   "execution_count": null,
   "metadata": {},
   "outputs": [],
   "source": []
  },
  {
   "cell_type": "code",
   "execution_count": null,
   "metadata": {},
   "outputs": [],
   "source": []
  },
  {
   "cell_type": "code",
   "execution_count": null,
   "metadata": {},
   "outputs": [],
   "source": []
  },
  {
   "cell_type": "code",
   "execution_count": null,
   "metadata": {},
   "outputs": [],
   "source": []
  },
  {
   "cell_type": "code",
   "execution_count": null,
   "metadata": {},
   "outputs": [],
   "source": []
  },
  {
   "cell_type": "code",
   "execution_count": null,
   "metadata": {},
   "outputs": [],
   "source": [
    "plt.plot(history.history['loss'])\n",
    "plt.plot(history.history['val_loss'])"
   ]
  },
  {
   "cell_type": "code",
   "execution_count": null,
   "metadata": {},
   "outputs": [],
   "source": [
    "plt.plot(history.history['acc'])\n",
    "plt.plot(history.history['val_acc'])"
   ]
  },
  {
   "cell_type": "code",
   "execution_count": null,
   "metadata": {},
   "outputs": [],
   "source": []
  },
  {
   "cell_type": "code",
   "execution_count": null,
   "metadata": {},
   "outputs": [],
   "source": [
    "plt.plot(x_train[0,:100,:])"
   ]
  },
  {
   "cell_type": "code",
   "execution_count": null,
   "metadata": {},
   "outputs": [],
   "source": [
    "result.shape"
   ]
  },
  {
   "cell_type": "code",
   "execution_count": null,
   "metadata": {},
   "outputs": [],
   "source": [
    "n1 = 30\n",
    "i = 0\n",
    "plt.subplot(211)\n",
    "plt.plot(np.arange(n1), results[i][:n1])\n",
    "plt.plot([0.5] * n1) # midi.MIDI_NOISE_FLOOR\n",
    "plt.ylim(ymin=0, ymax=1)\n",
    "plt.subplot(212)\n",
    "\n",
    "plt.plot(np.arange(n1), x_train[i, :n1])\n",
    "plt.plot([0.5] * n1) # midi.MIDI_NOISE_FLOOR\n",
    "plt.ylim(ymin=0, ymax=1)"
   ]
  },
  {
   "cell_type": "code",
   "execution_count": null,
   "metadata": {},
   "outputs": [],
   "source": []
  },
  {
   "cell_type": "code",
   "execution_count": null,
   "metadata": {},
   "outputs": [],
   "source": []
  },
  {
   "cell_type": "code",
   "execution_count": null,
   "metadata": {},
   "outputs": [],
   "source": []
  },
  {
   "cell_type": "code",
   "execution_count": null,
   "metadata": {},
   "outputs": [],
   "source": [
    "mid = midi.decode_track(context, result)\n",
    "dn = config.dataset_dir\n",
    "# io.export_midifile(mid, dn + 'song_seq-seq.mid')"
   ]
  },
  {
   "cell_type": "code",
   "execution_count": null,
   "metadata": {},
   "outputs": [],
   "source": [
    "results = []\n",
    "latent_samples = []\n",
    "for seq in x_test[-2:]:\n",
    "    encoded = encode_sequence(np.stack([seq]))\n",
    "    latent_samples.append(encoded)\n",
    "    result = decode_sequence(encoded, encoder_model, decoder_model)\n",
    "    results.append(result)\n",
    "results[0].shape"
   ]
  },
  {
   "cell_type": "code",
   "execution_count": null,
   "metadata": {},
   "outputs": [],
   "source": [
    "len(encoded)"
   ]
  },
  {
   "cell_type": "code",
   "execution_count": null,
   "metadata": {},
   "outputs": [],
   "source": [
    "encoded[0].shape"
   ]
  },
  {
   "cell_type": "code",
   "execution_count": null,
   "metadata": {},
   "outputs": [],
   "source": [
    "plt.plot(encoded[0][0,:10])\n",
    "plt.plot(encoded[1][0,:10])"
   ]
  },
  {
   "cell_type": "code",
   "execution_count": null,
   "metadata": {},
   "outputs": [],
   "source": [
    "e = np.array(latent_samples)\n",
    "e.shape"
   ]
  },
  {
   "cell_type": "code",
   "execution_count": null,
   "metadata": {},
   "outputs": [],
   "source": [
    "# reduce dimensionality\n",
    "# e = e.reshape(e.shape[0],2,e.shape[-1])\n",
    "e.shape"
   ]
  },
  {
   "cell_type": "code",
   "execution_count": null,
   "metadata": {},
   "outputs": [],
   "source": [
    "e1.mean(axis=0).shape"
   ]
  },
  {
   "cell_type": "code",
   "execution_count": null,
   "metadata": {},
   "outputs": [],
   "source": [
    "# new = e.transpose().mean(axis=1).transpose()\n",
    "e1 = e[:,0] # state h\n",
    "e2 = e[:,1] # state c\n",
    "new = [e1.mean(axis=0), e2.mean(axis=0)]\n",
    "# new = [[e[:,i].mean(axis=0)] for i in [0,1]]\n",
    "plt.plot(new[0][0][:10])\n",
    "len(new)"
   ]
  },
  {
   "cell_type": "code",
   "execution_count": null,
   "metadata": {},
   "outputs": [],
   "source": [
    "e1.mean(axis=0).shape"
   ]
  },
  {
   "cell_type": "code",
   "execution_count": null,
   "metadata": {},
   "outputs": [],
   "source": [
    "l[0].shape"
   ]
  },
  {
   "cell_type": "code",
   "execution_count": null,
   "metadata": {},
   "outputs": [],
   "source": [
    "l = latent_samples[0]\n",
    "len(l) # latent_sample :: (x,1,64)"
   ]
  },
  {
   "cell_type": "code",
   "execution_count": null,
   "metadata": {},
   "outputs": [],
   "source": [
    "# new_ = decode_sequence(latent_samples[0], encoder_model, decoder_model)\n",
    "new_ = decode_sequence(new, encoder_model, decoder_model)"
   ]
  },
  {
   "cell_type": "code",
   "execution_count": null,
   "metadata": {},
   "outputs": [],
   "source": [
    "new_.shape"
   ]
  },
  {
   "cell_type": "code",
   "execution_count": null,
   "metadata": {},
   "outputs": [],
   "source": [
    "plt.plot(new_[:100])"
   ]
  },
  {
   "cell_type": "code",
   "execution_count": null,
   "metadata": {},
   "outputs": [],
   "source": [
    "plt.plot(results[0][:100])"
   ]
  },
  {
   "cell_type": "code",
   "execution_count": null,
   "metadata": {},
   "outputs": [],
   "source": [
    "# results[0]"
   ]
  },
  {
   "cell_type": "code",
   "execution_count": null,
   "metadata": {},
   "outputs": [],
   "source": [
    "mid_new = midi.decode_track(context, results[0])\n",
    "io.export_midifile(mid_new, config.export_dir + 'real_mid_new_lstm.mid')"
   ]
  },
  {
   "cell_type": "code",
   "execution_count": null,
   "metadata": {},
   "outputs": [],
   "source": []
  },
  {
   "cell_type": "code",
   "execution_count": null,
   "metadata": {},
   "outputs": [],
   "source": []
  },
  {
   "cell_type": "code",
   "execution_count": null,
   "metadata": {},
   "outputs": [],
   "source": []
  },
  {
   "cell_type": "code",
   "execution_count": null,
   "metadata": {},
   "outputs": [],
   "source": []
  },
  {
   "cell_type": "code",
   "execution_count": null,
   "metadata": {},
   "outputs": [],
   "source": []
  },
  {
   "cell_type": "code",
   "execution_count": null,
   "metadata": {},
   "outputs": [],
   "source": []
  },
  {
   "cell_type": "code",
   "execution_count": null,
   "metadata": {},
   "outputs": [],
   "source": []
  },
  {
   "cell_type": "code",
   "execution_count": null,
   "metadata": {},
   "outputs": [],
   "source": []
  },
  {
   "cell_type": "code",
   "execution_count": null,
   "metadata": {},
   "outputs": [],
   "source": []
  },
  {
   "cell_type": "code",
   "execution_count": null,
   "metadata": {},
   "outputs": [],
   "source": []
  },
  {
   "cell_type": "code",
   "execution_count": null,
   "metadata": {},
   "outputs": [],
   "source": []
  },
  {
   "cell_type": "code",
   "execution_count": null,
   "metadata": {},
   "outputs": [],
   "source": []
  },
  {
   "cell_type": "code",
   "execution_count": null,
   "metadata": {},
   "outputs": [],
   "source": [
    "x_test.shape"
   ]
  },
  {
   "cell_type": "code",
   "execution_count": null,
   "metadata": {},
   "outputs": [],
   "source": [
    "# x_test, y_test = gen_xy_sin_to_f(3, f=2)"
   ]
  },
  {
   "cell_type": "code",
   "execution_count": null,
   "metadata": {
    "scrolled": true
   },
   "outputs": [],
   "source": [
    "results = model.predict([x_test,x_test])\n",
    "results.shape"
   ]
  },
  {
   "cell_type": "code",
   "execution_count": null,
   "metadata": {},
   "outputs": [],
   "source": [
    "# the 'true' results\n",
    "i = 0\n",
    "selection = int(x_test.shape[1] * 1)\n",
    "full = np.concatenate([x_test[i,-selection:],y_test[i]])\n",
    "n3 = full.shape[0]\n",
    "plt.plot(np.arange(n3) / n3 * dt, full)"
   ]
  },
  {
   "cell_type": "code",
   "execution_count": null,
   "metadata": {},
   "outputs": [],
   "source": [
    "# predicted results\n",
    "i = 0\n",
    "full = np.concatenate([x_test[i,-selection:],results[i]])\n",
    "n3 = full.shape[0]\n",
    "plt.plot(np.arange(n3) / n3 * dt, full)"
   ]
  },
  {
   "cell_type": "code",
   "execution_count": null,
   "metadata": {},
   "outputs": [],
   "source": [
    "i = 2\n",
    "selection = int(x_test.shape[1] * 1)\n",
    "full = np.concatenate([x_test[i,-selection:],results[i]])\n",
    "n3 = full.shape[0]\n",
    "plt.plot(np.arange(n3) / n3 * dt, full)"
   ]
  },
  {
   "cell_type": "code",
   "execution_count": null,
   "metadata": {},
   "outputs": [],
   "source": [
    "i = 0\n",
    "selection = 1\n",
    "full = np.concatenate([x_test[i,-selection:],results[i]])\n",
    "n3 = full.shape[0]\n",
    "plt.plot(np.arange(n3) / n3 * dt, full)"
   ]
  },
  {
   "cell_type": "code",
   "execution_count": null,
   "metadata": {},
   "outputs": [],
   "source": []
  },
  {
   "cell_type": "code",
   "execution_count": null,
   "metadata": {},
   "outputs": [],
   "source": []
  },
  {
   "cell_type": "code",
   "execution_count": null,
   "metadata": {},
   "outputs": [],
   "source": []
  },
  {
   "cell_type": "code",
   "execution_count": null,
   "metadata": {},
   "outputs": [],
   "source": []
  },
  {
   "cell_type": "code",
   "execution_count": null,
   "metadata": {},
   "outputs": [],
   "source": []
  },
  {
   "cell_type": "code",
   "execution_count": null,
   "metadata": {},
   "outputs": [],
   "source": []
  }
 ],
 "metadata": {
  "kernelspec": {
   "display_name": "Python 3",
   "language": "python",
   "name": "python3"
  },
  "language_info": {
   "codemirror_mode": {
    "name": "ipython",
    "version": 3
   },
   "file_extension": ".py",
   "mimetype": "text/x-python",
   "name": "python",
   "nbconvert_exporter": "python",
   "pygments_lexer": "ipython3",
   "version": "3.6.4"
  }
 },
 "nbformat": 4,
 "nbformat_minor": 2
}
