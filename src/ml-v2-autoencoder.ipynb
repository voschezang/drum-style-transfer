{
 "cells": [
  {
   "cell_type": "code",
   "execution_count": 1,
   "metadata": {},
   "outputs": [],
   "source": [
    "import os, numpy as np, pandas, sklearn\n",
    "import mido, rtmidi, rtmidi_\n",
    "np.random.seed(333)\n",
    "import matplotlib.pyplot as plt\n",
    "%matplotlib inline"
   ]
  },
  {
   "cell_type": "code",
   "execution_count": 2,
   "metadata": {},
   "outputs": [
    {
     "name": "stderr",
     "output_type": "stream",
     "text": [
      "/Library/Frameworks/Python.framework/Versions/3.6/lib/python3.6/site-packages/h5py/__init__.py:36: FutureWarning: Conversion of the second argument of issubdtype from `float` to `np.floating` is deprecated. In future, it will be treated as `np.float64 == np.dtype(float).type`.\n",
      "  from ._conv import register_converters as _register_converters\n",
      "Using TensorFlow backend.\n"
     ]
    }
   ],
   "source": [
    "## NN libs\n",
    "from sklearn.decomposition import PCA\n",
    "import keras\n",
    "from keras import regularizers\n",
    "from keras.utils import to_categorical\n",
    "from keras.models import Sequential\n",
    "from keras.optimizers import SGD, Adam\n",
    "from keras.layers import Input, Dense, Activation, Conv1D, Conv2D, Dropout, Flatten\n",
    "from keras.layers import Conv2DTranspose, Reshape, MaxPooling2D, UpSampling2D, UpSampling1D, MaxPooling1D\n",
    "from keras.layers import LocallyConnected1D, LocallyConnected2D\n",
    "from keras.models import Model\n",
    "from keras.callbacks import TensorBoard"
   ]
  },
  {
   "cell_type": "code",
   "execution_count": 3,
   "metadata": {},
   "outputs": [
    {
     "name": "stdout",
     "output_type": "stream",
     "text": [
      " Context :: namedtuple(\n",
      "[ max_t = float\n",
      ", dt = float\n",
      ", n_instances = int\n",
      ", note_length = int\n",
      ", bpm = float\n",
      ", tempo = float\n",
      ", ticks_per_beat = int\n",
      "]\n",
      "\n"
     ]
    }
   ],
   "source": [
    "# local libs\n",
    "import config\n",
    "from data import data, midi\n",
    "from utils import io, models_io"
   ]
  },
  {
   "cell_type": "code",
   "execution_count": 4,
   "metadata": {
    "scrolled": true
   },
   "outputs": [
    {
     "name": "stdout",
     "output_type": "stream",
     "text": [
      "Setting up params\n",
      "\n",
      " >> Context(max_t=10.0, dt=0.01, n_instances=1000, note_length=0.03, bpm=120.0, tempo=500000, ticks_per_beat=480)\n",
      "Importing midi-data\n",
      "\n",
      "[INFO] :\n",
      " |  reading file: ../datasets/examples/01 16th Snare.mid\n",
      "[INFO] :\n",
      " |  reading file: ../datasets/examples/01 8th Cym.mid\n",
      "[INFO] :\n",
      " |  reading file: ../datasets/examples/01 8th Hat.mid\n",
      "[INFO] :\n",
      " |  reading file: ../datasets/examples/02 8th Cym.mid\n",
      "[INFO] :\n",
      " |  reading file: ../datasets/examples/114_LetsDance_DavidBowie1.mid\n",
      "[INFO] :\n",
      " |  reading file: ../datasets/examples/127_SweetChildOMine_GunsAndRoses1.mid\n",
      "[INFO] :\n",
      " |  reading file: ../datasets/examples/92_GiveItAway_TheRedHotChiliPeppers.mid\n",
      "[INFO] :\n",
      " |  reading file: ../datasets/examples/94_Creep_Radiohead2.mid\n",
      "[INFO] :\n",
      " |  reading file: ../datasets/examples/bossa 1.mid\n",
      "[INFO] :\n",
      " |  reading file: ../datasets/examples/bossa 2.mid\n",
      "[INFO] :\n",
      " |  reading file: ../datasets/examples/bossa 3.mid\n",
      "[INFO] :\n",
      " |  reading file: ../datasets/examples/bossa 4.mid\n",
      "[INFO] :\n",
      " |  reading file: ../datasets/examples/G3.mid\n",
      "[INFO] :\n",
      " |  reading file: ../datasets/examples/G4.mid\n",
      "[INFO] :\n",
      " |  reading file: ../datasets/examples/G5.mid\n",
      "[INFO] :\n",
      " |  reading file: ../datasets/examples/G6.mid\n",
      "\n",
      "Encoding midi-data\n",
      " [<midi file '../datasets/examples/01 16th Snare.mid' type 0, 1 tracks, 182 messages>, <midi file '../datasets/examples/01 8th Cym.mid' type 0, 1 tracks, 68 messages>, <midi file '../datasets/examples/01 8th Hat.mid' type 0, 1 tracks, 60 messages>, <midi file '../datasets/examples/02 8th Cym.mid' type 0, 1 tracks, 72 messages>, <midi file '../datasets/examples/114_LetsDance_DavidBowie1.mid' type 0, 1 tracks, 76 messages>, <midi file '../datasets/examples/127_SweetChildOMine_GunsAndRoses1.mid' type 0, 1 tracks, 226 messages>, <midi file '../datasets/examples/92_GiveItAway_TheRedHotChiliPeppers.mid' type 0, 1 tracks, 132 messages>, <midi file '../datasets/examples/94_Creep_Radiohead2.mid' type 0, 1 tracks, 126 messages>, <midi file '../datasets/examples/bossa 1.mid' type 0, 1 tracks, 40 messages>, <midi file '../datasets/examples/bossa 2.mid' type 0, 1 tracks, 38 messages>, <midi file '../datasets/examples/bossa 3.mid' type 0, 1 tracks, 34 messages>, <midi file '../datasets/examples/bossa 4.mid' type 0, 1 tracks, 42 messages>, <midi file '../datasets/examples/G3.mid' type 0, 1 tracks, 58 messages>, <midi file '../datasets/examples/G4.mid' type 0, 1 tracks, 111 messages>, <midi file '../datasets/examples/G5.mid' type 0, 1 tracks, 85 messages>, <midi file '../datasets/examples/G6.mid' type 0, 1 tracks, 107 messages>]\n",
      "[DEBUG] >\n",
      " |>  to_array: msg.time > max_t\n",
      " |>  10.000000000000005\n",
      " |>  1000\n",
      "(16, 1000, 127)\n"
     ]
    }
   ],
   "source": [
    "n: int = 16\n",
    "context, x_train, labels = data.init(n)\n",
    "print(x_train.shape)"
   ]
  },
  {
   "cell_type": "code",
   "execution_count": null,
   "metadata": {},
   "outputs": [],
   "source": []
  },
  {
   "cell_type": "markdown",
   "metadata": {},
   "source": [
    "# Autoencoder\n",
    "Input -> hidden layer -> output (=input)\n",
    "Hidden layer has few dimension. Latent space of this layer should produce automatic categorization."
   ]
  },
  {
   "cell_type": "code",
   "execution_count": 5,
   "metadata": {},
   "outputs": [
    {
     "data": {
      "text/plain": [
       "(16, 1000, 127)"
      ]
     },
     "execution_count": 5,
     "metadata": {},
     "output_type": "execute_result"
    }
   ],
   "source": [
    "y_train = x_train\n",
    "n_samples = x_train[0]\n",
    "input_shape = x_train.shape[1:] # shape of a single sample\n",
    "output_shape = y_train.shape[1:]\n",
    "# output_length = y_train.shape[1]\n",
    "# output_length = (y_train[0]).shape[0] # = length of an individual label\n",
    "hidden_layer_length = 100\n",
    "x_train.shape"
   ]
  },
  {
   "cell_type": "code",
   "execution_count": 6,
   "metadata": {},
   "outputs": [
    {
     "data": {
      "text/plain": [
       "(16, 1000, 127)"
      ]
     },
     "execution_count": 6,
     "metadata": {},
     "output_type": "execute_result"
    }
   ],
   "source": [
    "y_train.shape"
   ]
  },
  {
   "cell_type": "code",
   "execution_count": 7,
   "metadata": {},
   "outputs": [
    {
     "data": {
      "text/plain": [
       "(1000, 127)"
      ]
     },
     "execution_count": 7,
     "metadata": {},
     "output_type": "execute_result"
    }
   ],
   "source": [
    "output_shape"
   ]
  },
  {
   "cell_type": "code",
   "execution_count": 8,
   "metadata": {
    "scrolled": true
   },
   "outputs": [
    {
     "name": "stdout",
     "output_type": "stream",
     "text": [
      "_________________________________________________________________\n",
      "Layer (type)                 Output Shape              Param #   \n",
      "=================================================================\n",
      "input_1 (InputLayer)         (None, 1000, 127)         0         \n",
      "_________________________________________________________________\n",
      "flatten_1 (Flatten)          (None, 127000)            0         \n",
      "_________________________________________________________________\n",
      "dense_1 (Dense)              (None, 200)               25400200  \n",
      "_________________________________________________________________\n",
      "dense_2 (Dense)              (None, 200)               40200     \n",
      "_________________________________________________________________\n",
      "dense_3 (Dense)              (None, 100)               20100     \n",
      "=================================================================\n",
      "Total params: 25,460,500\n",
      "Trainable params: 25,460,500\n",
      "Non-trainable params: 0\n",
      "_________________________________________________________________\n",
      "_________________________________________________________________\n",
      "Layer (type)                 Output Shape              Param #   \n",
      "=================================================================\n",
      "input_2 (InputLayer)         (None, 100)               0         \n",
      "_________________________________________________________________\n",
      "dense_4 (Dense)              (None, 1000)              101000    \n",
      "_________________________________________________________________\n",
      "reshape_1 (Reshape)          (None, 10, 100)           0         \n",
      "_________________________________________________________________\n",
      "up_sampling1d_1 (UpSampling1 (None, 100, 100)          0         \n",
      "_________________________________________________________________\n",
      "conv1d_1 (Conv1D)            (None, 50, 100)           20100     \n",
      "_________________________________________________________________\n",
      "up_sampling1d_2 (UpSampling1 (None, 1000, 100)         0         \n",
      "_________________________________________________________________\n",
      "dense_5 (Dense)              (None, 1000, 127)         12827     \n",
      "_________________________________________________________________\n",
      "dense_6 (Dense)              (None, 1000, 127)         16256     \n",
      "_________________________________________________________________\n",
      "dense_7 (Dense)              (None, 1000, 127)         16256     \n",
      "=================================================================\n",
      "Total params: 166,439\n",
      "Trainable params: 166,439\n",
      "Non-trainable params: 0\n",
      "_________________________________________________________________\n"
     ]
    }
   ],
   "source": [
    "from keras import regularizers\n",
    "# functional syntax: lambda x: lambda y: z\n",
    "def encoder(input_shape, output_length, dropout=0.10):\n",
    "    input_layer = Input(shape=input_shape)\n",
    "    x = input_layer\n",
    "    x = Flatten()(x)\n",
    "    x = Dense(output_length * 2, activation='relu')(x)\n",
    "    x = Dense(output_length * 2, activation='relu')(x)\n",
    "    #     x = Dense(output_length, activation='sigmoid')(x)\n",
    "    x = Dense(output_length, activation='relu', activity_regularizer=regularizers.l1(10e-5))(x)\n",
    "    \n",
    "    model = Model(inputs=input_layer, outputs=x)\n",
    "    #     model.add(Dropout(dropout))\n",
    "    return model, model.summary\n",
    "\n",
    "\n",
    "def decoder(input_length, output_shape, dropout=0.10):\n",
    "    input_layer = Input(shape=(input_length,))\n",
    "    x = input_layer\n",
    "    shape = (10,100) # 1 additional dimension\n",
    "    x = Dense(np.prod(shape), activation='relu')(x) # 4*4*8 = 128\n",
    "    x = Reshape(shape)(x)\n",
    "    x = UpSampling1D(10)(x)\n",
    "    x = Conv1D(100, 2, strides=2, activation='relu')(x) # 50,100\n",
    "    x = UpSampling1D(output_shape[0] / 50)(x)\n",
    "    x = Dense(output_shape[1], activation='relu')(x)\n",
    "    x = Dense(output_shape[1], activation='relu')(x)\n",
    "    x = Dense(output_shape[1], activation='relu')(x)\n",
    "    #     x = LocallyConnected1D(output_shape[1], kernel_size=1, activation='relu')(x)\n",
    "    # x = Dense(output_length, activation='softmax')(x)\n",
    "    model = Model(inputs=input_layer, outputs=x)\n",
    "    #     model.add(Dropout(dropout))\n",
    "    return model, model.summary\n",
    "\n",
    "\n",
    "def autoencoder(input_shape, output_shape, hidden_layer_length=10, dropout=0.10, verbose=False):\n",
    "    encode, summary = encoder(input_shape, hidden_layer_length, dropout)\n",
    "    if verbose:\n",
    "        summary()\n",
    "    decode, summary = decoder(hidden_layer_length, output_shape, dropout)\n",
    "    if verbose:\n",
    "        summary()\n",
    "    input_ = Input(shape=input_shape)\n",
    "    model = Model(input_, decode(encode(input_)))\n",
    "    return encode, decode, model, model.summary\n",
    "\n",
    "\n",
    "dropout = 0.\n",
    "encode, decode, model, summary = autoencoder(input_shape, output_shape, hidden_layer_length, dropout, True)\n",
    "# summary()"
   ]
  },
  {
   "cell_type": "code",
   "execution_count": 9,
   "metadata": {},
   "outputs": [],
   "source": [
    "metrics = ['accuracy','mse','categorical_crossentropy']\n",
    "loss = 'binary_crossentropy'# binary_crossentropy categorical_crossentropy\n",
    "optimizer = 'adadelta'\n",
    "# learning_rate = 0.001\n",
    "# optimizer = optimizer = Adam(lr=learning_rate)\n",
    "# sgd = Keras.optimizers.SGD(lr=0.01, clipnorm=1.)\n",
    "model.compile(optimizer=optimizer, loss=loss, metrics=metrics)\n",
    "# autoencoder.compile(optimizer='adadelta', loss='binary_crossentropy')"
   ]
  },
  {
   "cell_type": "code",
   "execution_count": 10,
   "metadata": {},
   "outputs": [],
   "source": [
    "batch_size = 4\n",
    "# n epochs = n iterations over all the training data\n",
    "epochs = 40"
   ]
  },
  {
   "cell_type": "code",
   "execution_count": 11,
   "metadata": {
    "scrolled": true
   },
   "outputs": [
    {
     "name": "stdout",
     "output_type": "stream",
     "text": [
      "Epoch 1/50\n",
      "16/16 [==============================] - 3s 216ms/step - loss: 0.0034 - acc: 0.9997 - mean_squared_error: 2.8804e-04 - binary_crossentropy: 0.0032\n",
      "Epoch 2/50\n",
      "16/16 [==============================] - 3s 175ms/step - loss: 0.0030 - acc: 0.9997 - mean_squared_error: 2.8777e-04 - binary_crossentropy: 0.0029\n",
      "Epoch 3/50\n",
      "16/16 [==============================] - 3s 174ms/step - loss: 0.0028 - acc: 0.9997 - mean_squared_error: 2.8853e-04 - binary_crossentropy: 0.0027\n",
      "Epoch 4/50\n",
      "16/16 [==============================] - 3s 175ms/step - loss: 0.0027 - acc: 0.9997 - mean_squared_error: 2.8787e-04 - binary_crossentropy: 0.0026\n",
      "Epoch 5/50\n",
      "16/16 [==============================] - 3s 176ms/step - loss: 0.0027 - acc: 0.9997 - mean_squared_error: 2.8768e-04 - binary_crossentropy: 0.0026\n",
      "Epoch 6/50\n",
      "16/16 [==============================] - 3s 175ms/step - loss: 0.0026 - acc: 0.9997 - mean_squared_error: 2.8755e-04 - binary_crossentropy: 0.0026\n",
      "Epoch 7/50\n",
      "16/16 [==============================] - 3s 174ms/step - loss: 0.0026 - acc: 0.9997 - mean_squared_error: 2.8742e-04 - binary_crossentropy: 0.0026\n",
      "Epoch 8/50\n",
      "16/16 [==============================] - 3s 176ms/step - loss: 0.0026 - acc: 0.9997 - mean_squared_error: 2.8748e-04 - binary_crossentropy: 0.0026\n",
      "Epoch 9/50\n",
      "16/16 [==============================] - 3s 174ms/step - loss: 0.0026 - acc: 0.9997 - mean_squared_error: 2.8741e-04 - binary_crossentropy: 0.0026\n",
      "Epoch 10/50\n",
      "16/16 [==============================] - 3s 174ms/step - loss: 0.0026 - acc: 0.9997 - mean_squared_error: 2.8734e-04 - binary_crossentropy: 0.0025\n",
      "Epoch 11/50\n",
      "16/16 [==============================] - 3s 176ms/step - loss: 0.0026 - acc: 0.9997 - mean_squared_error: 2.8731e-04 - binary_crossentropy: 0.0025\n",
      "Epoch 12/50\n",
      "16/16 [==============================] - 3s 175ms/step - loss: 0.0026 - acc: 0.9997 - mean_squared_error: 2.8730e-04 - binary_crossentropy: 0.0025\n",
      "Epoch 13/50\n",
      "16/16 [==============================] - 3s 174ms/step - loss: 0.0026 - acc: 0.9997 - mean_squared_error: 2.8728e-04 - binary_crossentropy: 0.0025\n",
      "Epoch 14/50\n",
      "16/16 [==============================] - 3s 173ms/step - loss: 0.0026 - acc: 0.9997 - mean_squared_error: 2.8737e-04 - binary_crossentropy: 0.0025\n",
      "Epoch 15/50\n",
      "16/16 [==============================] - 3s 171ms/step - loss: 0.0026 - acc: 0.9997 - mean_squared_error: 2.8725e-04 - binary_crossentropy: 0.0025\n",
      "Epoch 16/50\n",
      "16/16 [==============================] - 3s 174ms/step - loss: 0.0025 - acc: 0.9997 - mean_squared_error: 2.8714e-04 - binary_crossentropy: 0.0025\n",
      "Epoch 17/50\n",
      "16/16 [==============================] - 3s 176ms/step - loss: 0.0025 - acc: 0.9997 - mean_squared_error: 2.8725e-04 - binary_crossentropy: 0.0025\n",
      "Epoch 18/50\n",
      "16/16 [==============================] - 3s 175ms/step - loss: 0.0025 - acc: 0.9997 - mean_squared_error: 2.8711e-04 - binary_crossentropy: 0.0025\n",
      "Epoch 19/50\n",
      "16/16 [==============================] - 3s 176ms/step - loss: 0.0025 - acc: 0.9997 - mean_squared_error: 2.8729e-04 - binary_crossentropy: 0.0025\n",
      "Epoch 20/50\n",
      "16/16 [==============================] - 3s 174ms/step - loss: 0.0025 - acc: 0.9997 - mean_squared_error: 2.8722e-04 - binary_crossentropy: 0.0025\n",
      "Epoch 21/50\n",
      "16/16 [==============================] - 3s 173ms/step - loss: 0.0025 - acc: 0.9997 - mean_squared_error: 2.8710e-04 - binary_crossentropy: 0.0025\n",
      "Epoch 22/50\n",
      "16/16 [==============================] - 3s 174ms/step - loss: 0.0025 - acc: 0.9997 - mean_squared_error: 2.8719e-04 - binary_crossentropy: 0.0025\n",
      "Epoch 23/50\n",
      "16/16 [==============================] - 3s 174ms/step - loss: 0.0025 - acc: 0.9997 - mean_squared_error: 2.8718e-04 - binary_crossentropy: 0.0025\n",
      "Epoch 24/50\n",
      "16/16 [==============================] - 3s 173ms/step - loss: 0.0025 - acc: 0.9997 - mean_squared_error: 2.8713e-04 - binary_crossentropy: 0.0025\n",
      "Epoch 25/50\n",
      "16/16 [==============================] - 3s 174ms/step - loss: 0.0025 - acc: 0.9997 - mean_squared_error: 2.8721e-04 - binary_crossentropy: 0.0025\n",
      "Epoch 26/50\n",
      "16/16 [==============================] - 3s 173ms/step - loss: 0.0025 - acc: 0.9997 - mean_squared_error: 2.8721e-04 - binary_crossentropy: 0.0025\n",
      "Epoch 27/50\n",
      "16/16 [==============================] - 3s 173ms/step - loss: 0.0025 - acc: 0.9997 - mean_squared_error: 2.8735e-04 - binary_crossentropy: 0.0025\n",
      "Epoch 28/50\n",
      "16/16 [==============================] - 3s 173ms/step - loss: 0.0025 - acc: 0.9997 - mean_squared_error: 2.8723e-04 - binary_crossentropy: 0.0025\n",
      "Epoch 29/50\n",
      "16/16 [==============================] - 3s 176ms/step - loss: 0.0025 - acc: 0.9997 - mean_squared_error: 2.8709e-04 - binary_crossentropy: 0.0025\n",
      "Epoch 30/50\n",
      "16/16 [==============================] - 3s 174ms/step - loss: 0.0025 - acc: 0.9997 - mean_squared_error: 2.8736e-04 - binary_crossentropy: 0.0025\n",
      "Epoch 31/50\n",
      "16/16 [==============================] - 3s 172ms/step - loss: 0.0025 - acc: 0.9997 - mean_squared_error: 2.8726e-04 - binary_crossentropy: 0.0025\n",
      "Epoch 32/50\n",
      "16/16 [==============================] - 3s 173ms/step - loss: 0.0025 - acc: 0.9997 - mean_squared_error: 2.8703e-04 - binary_crossentropy: 0.0025\n",
      "Epoch 33/50\n",
      "16/16 [==============================] - 3s 175ms/step - loss: 0.0025 - acc: 0.9997 - mean_squared_error: 2.8720e-04 - binary_crossentropy: 0.0025\n",
      "Epoch 34/50\n",
      "16/16 [==============================] - 3s 173ms/step - loss: 0.0025 - acc: 0.9997 - mean_squared_error: 2.8723e-04 - binary_crossentropy: 0.0025\n",
      "Epoch 35/50\n",
      "16/16 [==============================] - 3s 174ms/step - loss: 0.0025 - acc: 0.9997 - mean_squared_error: 2.8716e-04 - binary_crossentropy: 0.0025\n",
      "Epoch 36/50\n",
      "16/16 [==============================] - 3s 174ms/step - loss: 0.0025 - acc: 0.9997 - mean_squared_error: 2.8703e-04 - binary_crossentropy: 0.0025\n",
      "Epoch 37/50\n",
      "16/16 [==============================] - 3s 173ms/step - loss: 0.0025 - acc: 0.9997 - mean_squared_error: 2.8740e-04 - binary_crossentropy: 0.0025\n",
      "Epoch 38/50\n",
      "16/16 [==============================] - 3s 173ms/step - loss: 0.0025 - acc: 0.9997 - mean_squared_error: 2.8701e-04 - binary_crossentropy: 0.0025\n",
      "Epoch 39/50\n",
      "16/16 [==============================] - 3s 173ms/step - loss: 0.0025 - acc: 0.9997 - mean_squared_error: 2.8689e-04 - binary_crossentropy: 0.0025\n",
      "Epoch 40/50\n",
      "16/16 [==============================] - 3s 176ms/step - loss: 0.0025 - acc: 0.9997 - mean_squared_error: 2.8734e-04 - binary_crossentropy: 0.0025\n",
      "Epoch 41/50\n",
      "16/16 [==============================] - 3s 173ms/step - loss: 0.0025 - acc: 0.9997 - mean_squared_error: 2.8713e-04 - binary_crossentropy: 0.0025\n",
      "Epoch 42/50\n",
      "16/16 [==============================] - 3s 172ms/step - loss: 0.0025 - acc: 0.9997 - mean_squared_error: 2.8692e-04 - binary_crossentropy: 0.0025\n",
      "Epoch 43/50\n",
      "16/16 [==============================] - 3s 176ms/step - loss: 0.0025 - acc: 0.9997 - mean_squared_error: 2.8694e-04 - binary_crossentropy: 0.0025\n",
      "Epoch 44/50\n",
      "16/16 [==============================] - 3s 173ms/step - loss: 0.0025 - acc: 0.9997 - mean_squared_error: 2.8722e-04 - binary_crossentropy: 0.0025\n",
      "Epoch 45/50\n",
      "16/16 [==============================] - 3s 173ms/step - loss: 0.0025 - acc: 0.9997 - mean_squared_error: 2.8707e-04 - binary_crossentropy: 0.0025\n",
      "Epoch 46/50\n",
      "16/16 [==============================] - 3s 175ms/step - loss: 0.0025 - acc: 0.9997 - mean_squared_error: 2.8728e-04 - binary_crossentropy: 0.0025\n",
      "Epoch 47/50\n",
      "16/16 [==============================] - 3s 173ms/step - loss: 0.0027 - acc: 0.9997 - mean_squared_error: 2.8827e-04 - binary_crossentropy: 0.0027\n",
      "Epoch 48/50\n",
      "16/16 [==============================] - 3s 175ms/step - loss: 0.0026 - acc: 0.9997 - mean_squared_error: 2.8758e-04 - binary_crossentropy: 0.0026\n",
      "Epoch 49/50\n",
      "16/16 [==============================] - 3s 174ms/step - loss: 0.0026 - acc: 0.9997 - mean_squared_error: 2.8757e-04 - binary_crossentropy: 0.0026\n",
      "Epoch 50/50\n",
      "16/16 [==============================] - 3s 174ms/step - loss: 0.0025 - acc: 0.9997 - mean_squared_error: 2.8709e-04 - binary_crossentropy: 0.0025\n"
     ]
    },
    {
     "data": {
      "text/plain": [
       "<keras.callbacks.History at 0x116de9be0>"
      ]
     },
     "execution_count": 11,
     "metadata": {},
     "output_type": "execute_result"
    }
   ],
   "source": [
    "model.fit(x_train, y_train, epochs=epochs, batch_size=batch_size, callbacks=[TensorBoard(log_dir=config.tmp_log_dir)])\n",
    "# model.fit(x_train, y_train, epochs=epochs, batch_size=batch_size,\n",
    "#           validation_split=1/6, callbacks=[TensorBoard(log_dir=config.tmp_model_dir)])"
   ]
  },
  {
   "cell_type": "code",
   "execution_count": 12,
   "metadata": {},
   "outputs": [
    {
     "data": {
      "text/plain": [
       "(16, 100)"
      ]
     },
     "execution_count": 12,
     "metadata": {},
     "output_type": "execute_result"
    }
   ],
   "source": [
    "result = encode.predict(x_train)\n",
    "n = result.shape[0]\n",
    "result.shape"
   ]
  },
  {
   "cell_type": "code",
   "execution_count": 13,
   "metadata": {},
   "outputs": [],
   "source": [
    "from sklearn import preprocessing\n",
    "from sklearn.preprocessing import RobustScaler"
   ]
  },
  {
   "cell_type": "code",
   "execution_count": 14,
   "metadata": {},
   "outputs": [
    {
     "name": "stderr",
     "output_type": "stream",
     "text": [
      "/Library/Frameworks/Python.framework/Versions/3.6/lib/python3.6/site-packages/sklearn/utils/validation.py:475: DataConversionWarning: Data with input dtype int64 was converted to float64.\n",
      "  warnings.warn(msg, DataConversionWarning)\n"
     ]
    },
    {
     "data": {
      "text/plain": [
       "array([[0. , 0. , 0. ],\n",
       "       [0.5, 0.5, 0.5],\n",
       "       [1. , 1. , 1. ]])"
      ]
     },
     "execution_count": 14,
     "metadata": {},
     "output_type": "execute_result"
    }
   ],
   "source": [
    "# scale/normalize data, based on features\n",
    "# axis determines whether the data is scaled based on the 'global' features\n",
    "# axis = 0: max per feature (between instances)\n",
    "# axis = 1: max per instance (ignore features)\n",
    "# e.g. np.arange(9).reshape(3,3).max(axis=0)\n",
    "\n",
    "a = preprocessing.minmax_scale(np.arange(9).reshape(3,3), axis=0)\n",
    "a"
   ]
  },
  {
   "cell_type": "code",
   "execution_count": 15,
   "metadata": {},
   "outputs": [
    {
     "data": {
      "text/plain": [
       "0.5"
      ]
     },
     "execution_count": 15,
     "metadata": {},
     "output_type": "execute_result"
    }
   ],
   "source": [
    "a[:,1].mean()"
   ]
  },
  {
   "cell_type": "code",
   "execution_count": 16,
   "metadata": {},
   "outputs": [
    {
     "data": {
      "text/plain": [
       "[<matplotlib.lines.Line2D at 0x107c7b518>]"
      ]
     },
     "execution_count": 16,
     "metadata": {},
     "output_type": "execute_result"
    },
    {
     "data": {
      "image/png": "[encoded data removed]",
      "text/plain": [
       "<matplotlib.figure.Figure at 0x116de9b00>"
      ]
     },
     "metadata": {},
     "output_type": "display_data"
    }
   ],
   "source": [
    "plt.plot(result[:,0])"
   ]
  },
  {
   "cell_type": "code",
   "execution_count": 17,
   "metadata": {},
   "outputs": [
    {
     "data": {
      "text/plain": [
       "array([0., 0., 0., 0., 0., 0., 1., 0., 0., 0., 0., 0., 0., 0., 0., 0.],\n",
       "      dtype=float32)"
      ]
     },
     "execution_count": 17,
     "metadata": {},
     "output_type": "execute_result"
    }
   ],
   "source": [
    "normalized = preprocessing.normalize(result, axis=0)\n",
    "# normalized = preprocessing.minmax_scale(result, axis=0)\n",
    "# normalized = preprocessing.robust_scale(result, axis=0, quantile_range=(25, 75))\n",
    "normalized[:,2]"
   ]
  },
  {
   "cell_type": "code",
   "execution_count": 18,
   "metadata": {},
   "outputs": [
    {
     "data": {
      "text/plain": [
       "0.00024818323"
      ]
     },
     "execution_count": 18,
     "metadata": {},
     "output_type": "execute_result"
    }
   ],
   "source": [
    "result[:,2].mean()"
   ]
  },
  {
   "cell_type": "code",
   "execution_count": 19,
   "metadata": {},
   "outputs": [
    {
     "data": {
      "text/plain": [
       "0.0890417"
      ]
     },
     "execution_count": 19,
     "metadata": {},
     "output_type": "execute_result"
    }
   ],
   "source": [
    "normalized[0,:].mean()"
   ]
  },
  {
   "cell_type": "code",
   "execution_count": 20,
   "metadata": {},
   "outputs": [
    {
     "data": {
      "text/plain": [
       "(16, 100)"
      ]
     },
     "execution_count": 20,
     "metadata": {},
     "output_type": "execute_result"
    }
   ],
   "source": [
    "data = normalized\n",
    "data.shape"
   ]
  },
  {
   "cell_type": "code",
   "execution_count": 21,
   "metadata": {},
   "outputs": [
    {
     "data": {
      "text/plain": [
       "array([0., 0., 0., 0., 0., 0., 1., 0., 0., 0., 0., 0., 0., 0., 0., 0.],\n",
       "      dtype=float32)"
      ]
     },
     "execution_count": 21,
     "metadata": {},
     "output_type": "execute_result"
    }
   ],
   "source": [
    "data[:,2]"
   ]
  },
  {
   "cell_type": "code",
   "execution_count": 22,
   "metadata": {},
   "outputs": [
    {
     "data": {
      "text/plain": [
       "array([0., 0.], dtype=float32)"
      ]
     },
     "execution_count": 22,
     "metadata": {},
     "output_type": "execute_result"
    }
   ],
   "source": [
    "data[:2, 0]"
   ]
  },
  {
   "cell_type": "code",
   "execution_count": 23,
   "metadata": {},
   "outputs": [
    {
     "data": {
      "text/plain": [
       "<matplotlib.collections.PathCollection at 0x107c26160>"
      ]
     },
     "execution_count": 23,
     "metadata": {},
     "output_type": "execute_result"
    },
    {
     "data": {
      "image/png": "[encoded data removed]",
      "text/plain": [
       "<matplotlib.figure.Figure at 0x107c91198>"
      ]
     },
     "metadata": {},
     "output_type": "display_data"
    }
   ],
   "source": [
    "# plt.scatter(latent[:,0], latent[:,1], c=y_test[:num], alpha=0.1)\n",
    "# plt.scatter(result[:,0],result[:,1])\n",
    "plt.scatter(data[:3, 0], data[:3, 1], data='o', c=[0.4]*3)\n",
    "plt.scatter(data[4:, 0], data[4:, 1], data='^', c=[0.5]*3)"
   ]
  },
  {
   "cell_type": "code",
   "execution_count": 24,
   "metadata": {},
   "outputs": [
    {
     "data": {
      "image/png": "[encoded data removed]",
      "text/plain": [
       "<matplotlib.figure.Figure at 0x103f67dd8>"
      ]
     },
     "metadata": {},
     "output_type": "display_data"
    }
   ],
   "source": [
    "x_dim = 0\n",
    "y_dim = 1\n",
    "c_dim = 2\n",
    "plt.subplots_adjust(bottom = 0.1)\n",
    "plt.scatter(\n",
    "    data[:, x_dim], data[:, y_dim], marker='o', c=data[:, c_dim], alpha=0.9, s=[50 for _ in range(n)],\n",
    "    cmap=plt.get_cmap('Spectral'))\n",
    "\n",
    "for label, x, y in zip(labels, data[:, x_dim], data[:, y_dim]):\n",
    "    plt.annotate(\n",
    "        label,\n",
    "        xy=(x, y), xytext=(-20, 20),\n",
    "        textcoords='offset points', ha='right', va='bottom',\n",
    "        bbox=dict(boxstyle='round,pad=0.5', fc='yellow', alpha=0.5),\n",
    "        arrowprops=dict(arrowstyle = '->', connectionstyle='arc3,rad=0'))\n",
    "\n",
    "plt.show()"
   ]
  },
  {
   "cell_type": "code",
   "execution_count": 25,
   "metadata": {},
   "outputs": [
    {
     "data": {
      "image/png": "[encoded data removed]",
      "text/plain": [
       "<matplotlib.figure.Figure at 0x103fc3208>"
      ]
     },
     "metadata": {},
     "output_type": "display_data"
    }
   ],
   "source": [
    "N = 10\n",
    "np.random.seed(300)\n",
    "data = np.random.random((N, 4))\n",
    "labels2 = ['point{0}'.format(i) for i in range(N)]\n",
    "\n",
    "plt.subplots_adjust(bottom = 0.1)\n",
    "plt.scatter(\n",
    "    data[:, 0], data[:, 1], marker='o', c=data[:, 2], s=data[:, 3] * 1500,\n",
    "    cmap=plt.get_cmap('Spectral'))\n",
    "\n",
    "for label, x, y in zip(labels2, data[:, 0], data[:, 1]):\n",
    "    plt.annotate(\n",
    "        label,\n",
    "        xy=(x, y), xytext=(-20, 20),\n",
    "        textcoords='offset points', ha='right', va='bottom',\n",
    "        bbox=dict(boxstyle='round,pad=0.5', fc='yellow', alpha=0.5),\n",
    "        arrowprops=dict(arrowstyle = '->', connectionstyle='arc3,rad=0'))\n",
    "\n",
    "plt.show()"
   ]
  },
  {
   "cell_type": "code",
   "execution_count": null,
   "metadata": {},
   "outputs": [],
   "source": []
  },
  {
   "cell_type": "code",
   "execution_count": 26,
   "metadata": {},
   "outputs": [],
   "source": [
    "originals = result[0:2,]\n",
    "new = np.stack([originals.mean(axis=0), originals[0]])"
   ]
  },
  {
   "cell_type": "code",
   "execution_count": 27,
   "metadata": {},
   "outputs": [
    {
     "data": {
      "text/plain": [
       "(2, 1000, 127)"
      ]
     },
     "execution_count": 27,
     "metadata": {},
     "output_type": "execute_result"
    }
   ],
   "source": [
    "arr = decode.predict(new)\n",
    "arr.shape"
   ]
  },
  {
   "cell_type": "code",
   "execution_count": 28,
   "metadata": {
    "scrolled": true
   },
   "outputs": [
    {
     "name": "stdout",
     "output_type": "stream",
     "text": [
      "[INFO] :\n",
      " |  len\n",
      " |  10.437499999999952\n",
      " |  10.0\n",
      "[INFO] :\n",
      " |  len\n",
      " |  10.437499999999952\n",
      " |  10.0\n"
     ]
    }
   ],
   "source": [
    "midis = [midi.decode_track(context, track) for track in arr]"
   ]
  },
  {
   "cell_type": "code",
   "execution_count": 29,
   "metadata": {},
   "outputs": [
    {
     "data": {
      "text/plain": [
       "<midi track '' 13800 messages>"
      ]
     },
     "execution_count": 29,
     "metadata": {},
     "output_type": "execute_result"
    }
   ],
   "source": [
    "midis[0].tracks[0]"
   ]
  },
  {
   "cell_type": "code",
   "execution_count": 30,
   "metadata": {},
   "outputs": [],
   "source": [
    "for i, mid in enumerate(midis):\n",
    "    io.export_midifile(mid, '../midis/midi_%i.mid' % i)"
   ]
  },
  {
   "cell_type": "code",
   "execution_count": 31,
   "metadata": {},
   "outputs": [
    {
     "data": {
      "text/plain": [
       "['01 16th Snare.mid',\n",
       " '01 8th Cym.mid',\n",
       " '01 8th Hat.mid',\n",
       " '02 8th Cym.mid',\n",
       " '114_LetsDance_DavidBowie1.mid',\n",
       " '127_SweetChildOMine_GunsAndRoses1.mid',\n",
       " '92_GiveItAway_TheRedHotChiliPeppers.mid',\n",
       " '94_Creep_Radiohead2.mid',\n",
       " 'bossa 1.mid',\n",
       " 'bossa 2.mid',\n",
       " 'bossa 3.mid',\n",
       " 'bossa 4.mid',\n",
       " 'G3.mid',\n",
       " 'G4.mid',\n",
       " 'G5.mid',\n",
       " 'G6.mid']"
      ]
     },
     "execution_count": 31,
     "metadata": {},
     "output_type": "execute_result"
    }
   ],
   "source": [
    "labels"
   ]
  },
  {
   "cell_type": "code",
   "execution_count": null,
   "metadata": {},
   "outputs": [],
   "source": []
  },
  {
   "cell_type": "code",
   "execution_count": 32,
   "metadata": {},
   "outputs": [],
   "source": [
    "save = True\n",
    "save = False\n",
    "dn = config.dataset_dir + 'models/'\n",
    "if save:\n",
    "    models_io.save_model(model, dn + 'model')\n",
    "    models_io.save_model(encode, dn + 'encoder')\n",
    "    models_io.save_model(decode, dn + 'decoder')"
   ]
  },
  {
   "cell_type": "code",
   "execution_count": null,
   "metadata": {},
   "outputs": [],
   "source": []
  }
 ],
 "metadata": {
  "kernelspec": {
   "display_name": "Python 3",
   "language": "python",
   "name": "python3"
  },
  "language_info": {
   "codemirror_mode": {
    "name": "ipython",
    "version": 3
   },
   "file_extension": ".py",
   "mimetype": "text/x-python",
   "name": "python",
   "nbconvert_exporter": "python",
   "pygments_lexer": "ipython3",
   "version": "3.6.4"
  }
 },
 "nbformat": 4,
 "nbformat_minor": 2
}
