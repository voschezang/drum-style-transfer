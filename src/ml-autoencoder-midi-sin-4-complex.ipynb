{
 "cells": [
  {
   "cell_type": "code",
   "execution_count": 1,
   "metadata": {},
   "outputs": [],
   "source": [
    "import config\n",
    "import os, numpy as np, pandas, sklearn\n",
    "import mido\n",
    "import matplotlib.pyplot as plt\n",
    "%matplotlib inline"
   ]
  },
  {
   "cell_type": "code",
   "execution_count": 2,
   "metadata": {},
   "outputs": [
    {
     "name": "stderr",
     "output_type": "stream",
     "text": [
      "/Library/Frameworks/Python.framework/Versions/3.6/lib/python3.6/site-packages/h5py/__init__.py:36: FutureWarning: Conversion of the second argument of issubdtype from `float` to `np.floating` is deprecated. In future, it will be treated as `np.float64 == np.dtype(float).type`.\n",
      "  from ._conv import register_converters as _register_converters\n",
      "Using TensorFlow backend.\n"
     ]
    }
   ],
   "source": [
    "## NN libs\n",
    "from sklearn.decomposition import PCA\n",
    "from sklearn import preprocessing\n",
    "from sklearn.preprocessing import RobustScaler\n",
    "import keras\n",
    "from keras import regularizers\n",
    "from keras.utils import to_categorical\n",
    "from keras.models import Sequential\n",
    "from keras.optimizers import SGD, Adam\n",
    "from keras.layers import Input, Dense, Activation, Conv1D, Conv2D, Dropout, Flatten\n",
    "from keras.layers import Conv2DTranspose, Reshape, MaxPooling2D, UpSampling2D, UpSampling1D, MaxPooling1D\n",
    "from keras.layers import LocallyConnected1D, LocallyConnected2D\n",
    "from keras.layers import Input, LSTM, RepeatVector\n",
    "from keras.models import Model\n",
    "from keras.callbacks import TensorBoard"
   ]
  },
  {
   "cell_type": "code",
   "execution_count": 3,
   "metadata": {},
   "outputs": [
    {
     "name": "stdout",
     "output_type": "stream",
     "text": [
      " Context :: namedtuple(\n",
      "[ max_t = float\n",
      ", dt = float\n",
      ", n_instances = int\n",
      ", note_length = int\n",
      ", bpm = float\n",
      ", tempo = float\n",
      ", ticks_per_beat = int\n",
      "]\n",
      "\n"
     ]
    }
   ],
   "source": [
    "# local libs\n",
    "import config, models, functions\n",
    "from data import data, midi, midi_generators as g\n",
    "from utils import io, models_io"
   ]
  },
  {
   "cell_type": "code",
   "execution_count": 4,
   "metadata": {
    "scrolled": true
   },
   "outputs": [
    {
     "name": "stdout",
     "output_type": "stream",
     "text": [
      "Setting up params\n",
      "\n",
      "max min f 25.0 0.1\n",
      " >> Context(max_t=10.0, dt=0.02, n_instances=500, note_length=0.03, bpm=120.0, tempo=500000, ticks_per_beat=480)\n"
     ]
    }
   ],
   "source": [
    "context = data.init()"
   ]
  },
  {
   "cell_type": "code",
   "execution_count": 6,
   "metadata": {
    "scrolled": true
   },
   "outputs": [
    {
     "name": "stdout",
     "output_type": "stream",
     "text": [
      "WARNING type not == 0\n",
      "\u001b[91m [DEBUG] > \u001b[0m\n",
      " |>  to_array: msg.time > max_t; t, n\n",
      " |>  10.007291666666669\n",
      " |>  500\n",
      "WARNING type not == 0\n",
      "\u001b[91m [DEBUG] > \u001b[0m\n",
      " |>  to_array: msg.time > max_t; t, n\n",
      " |>  9.991666666666651\n",
      " |>  500\n",
      "WARNING type not == 0\n",
      "WARNING type not == 0\n",
      "\u001b[91m [DEBUG] > \u001b[0m\n",
      " |>  to_array: msg.time > max_t; t, n\n",
      " |>  10.002083333333315\n",
      " |>  500\n",
      "WARNING type not == 0\n",
      "WARNING type not == 0\n",
      "WARNING type not == 0\n",
      "WARNING type not == 0\n",
      "\u001b[91m [DEBUG] > \u001b[0m\n",
      " |>  to_array: msg.time > max_t; t, n\n",
      " |>  10.005208333333323\n",
      " |>  500\n",
      "WARNING type not == 0\n",
      "WARNING type not == 0\n",
      "\u001b[91m [DEBUG] > \u001b[0m\n",
      " |>  to_array: msg.time > max_t; t, n\n",
      " |>  9.991666666666669\n",
      " |>  500\n",
      "WARNING type not == 0\n",
      "\u001b[91m [DEBUG] > \u001b[0m\n",
      " |>  to_array: msg.time > max_t; t, n\n",
      " |>  9.99166666666666\n",
      " |>  500\n",
      "WARNING type not == 0\n",
      "\u001b[91m [DEBUG] > \u001b[0m\n",
      " |>  to_array: msg.time > max_t; t, n\n",
      " |>  9.997916666666653\n",
      " |>  500\n",
      "WARNING type not == 0\n",
      "WARNING type not == 0\n",
      "WARNING type not == 0\n",
      "WARNING type not == 0\n",
      "WARNING type not == 0\n",
      "WARNING type not == 0\n",
      "WARNING type not == 0\n",
      "WARNING type not == 0\n",
      "\u001b[91m [DEBUG] > \u001b[0m\n",
      " |>  to_array: msg.time > max_t; t, n\n",
      " |>  9.995833333333321\n",
      " |>  500\n",
      "WARNING type not == 0\n",
      "WARNING type not == 0\n",
      "WARNING type not == 0\n",
      "\u001b[91m [DEBUG] > \u001b[0m\n",
      " |>  to_array: msg.time > max_t; t, n\n",
      " |>  9.990624999999996\n",
      " |>  500\n",
      "WARNING type not == 0\n",
      "\u001b[91m [DEBUG] > \u001b[0m\n",
      " |>  to_array: msg.time > max_t; t, n\n",
      " |>  10.00416666666666\n",
      " |>  500\n",
      "WARNING type not == 0\n",
      "WARNING type not == 0\n",
      "\u001b[91m [DEBUG] > \u001b[0m\n",
      " |>  to_array: msg.time > max_t; t, n\n",
      " |>  9.994791666666657\n",
      " |>  500\n",
      "WARNING type not == 0\n",
      "WARNING type not == 0\n",
      "WARNING type not == 0\n",
      "\u001b[91m [DEBUG] > \u001b[0m\n",
      " |>  to_array: msg.time > max_t; t, n\n",
      " |>  9.996875000000008\n",
      " |>  500\n",
      "WARNING type not == 0\n",
      "WARNING type not == 0\n",
      "WARNING type not == 0\n",
      "WARNING type not == 0\n",
      "\u001b[91m [DEBUG] > \u001b[0m\n",
      " |>  to_array: msg.time > max_t; t, n\n",
      " |>  10.002083333333331\n",
      " |>  500\n",
      "WARNING type not == 0\n",
      "WARNING type not == 0\n",
      "WARNING type not == 0\n",
      "\u001b[91m [DEBUG] > \u001b[0m\n",
      " |>  to_array: msg.time > max_t; t, n\n",
      " |>  9.992708333333328\n",
      " |>  500\n",
      "WARNING type not == 0\n",
      "\u001b[91m [DEBUG] > \u001b[0m\n",
      " |>  to_array: msg.time > max_t; t, n\n",
      " |>  9.995833333333344\n",
      " |>  500\n",
      "WARNING type not == 0\n",
      "\u001b[91m [DEBUG] > \u001b[0m\n",
      " |>  to_array: msg.time > max_t; t, n\n",
      " |>  10.002083333333326\n",
      " |>  500\n",
      "WARNING type not == 0\n",
      "WARNING type not == 0\n",
      "\u001b[91m [DEBUG] > \u001b[0m\n",
      " |>  to_array: msg.time > max_t; t, n\n",
      " |>  9.99166666666666\n",
      " |>  500\n",
      "WARNING type not == 0\n",
      "\u001b[91m [DEBUG] > \u001b[0m\n",
      " |>  to_array: msg.time > max_t; t, n\n",
      " |>  9.99791666666665\n",
      " |>  500\n",
      "WARNING type not == 0\n",
      "WARNING type not == 0\n",
      "\u001b[91m [DEBUG] > \u001b[0m\n",
      " |>  to_array: msg.time > max_t; t, n\n",
      " |>  9.995833333333326\n",
      " |>  500\n",
      "WARNING type not == 0\n",
      "WARNING type not == 0\n",
      "\u001b[91m [DEBUG] > \u001b[0m\n",
      " |>  to_array: msg.time > max_t; t, n\n",
      " |>  9.992708333333317\n",
      " |>  500\n",
      "WARNING type not == 0\n",
      "\u001b[91m [DEBUG] > \u001b[0m\n",
      " |>  to_array: msg.time > max_t; t, n\n",
      " |>  9.990625000000003\n",
      " |>  500\n",
      "WARNING type not == 0\n",
      "WARNING type not == 0\n",
      "WARNING type not == 0\n",
      "WARNING type not == 0\n",
      "\u001b[91m [DEBUG] > \u001b[0m\n",
      " |>  to_array: msg.time > max_t; t, n\n",
      " |>  9.995833333333298\n",
      " |>  500\n",
      "WARNING type not == 0\n",
      "\u001b[91m [DEBUG] > \u001b[0m\n",
      " |>  to_array: msg.time > max_t; t, n\n",
      " |>  9.992708333333319\n",
      " |>  500\n",
      "WARNING type not == 0\n",
      "WARNING type not == 0\n",
      "WARNING type not == 0\n",
      "\u001b[91m [DEBUG] > \u001b[0m\n",
      " |>  to_array: msg.time > max_t; t, n\n",
      " |>  9.990624999999998\n",
      " |>  500\n",
      "WARNING type not == 0\n",
      "\u001b[91m [DEBUG] > \u001b[0m\n",
      " |>  to_array: msg.time > max_t; t, n\n",
      " |>  10.003124999999997\n",
      " |>  500\n",
      "WARNING type not == 0\n",
      "WARNING type not == 0\n",
      "WARNING type not == 0\n",
      "\u001b[91m [DEBUG] > \u001b[0m\n",
      " |>  to_array: msg.time > max_t; t, n\n",
      " |>  10.004166666666663\n",
      " |>  500\n",
      "WARNING type not == 0\n",
      "WARNING type not == 0\n",
      "\u001b[91m [DEBUG] > \u001b[0m\n",
      " |>  to_array: msg.time > max_t; t, n\n",
      " |>  9.995833333333314\n",
      " |>  500\n",
      "WARNING type not == 0\n",
      "WARNING type not == 0\n",
      "WARNING type not == 0\n",
      "\u001b[91m [DEBUG] > \u001b[0m\n",
      " |>  to_array: msg.time > max_t; t, n\n",
      " |>  9.990624999999996\n",
      " |>  500\n",
      "WARNING type not == 0\n",
      "\u001b[91m [DEBUG] > \u001b[0m\n",
      " |>  to_array: msg.time > max_t; t, n\n",
      " |>  9.992708333333322\n",
      " |>  500\n",
      "WARNING type not == 0\n",
      "\u001b[91m [DEBUG] > \u001b[0m\n",
      " |>  to_array: msg.time > max_t; t, n\n",
      " |>  10.001041666666655\n",
      " |>  500\n",
      "WARNING type not == 0\n",
      "WARNING type not == 0\n",
      "WARNING type not == 0\n",
      "WARNING type not == 0\n",
      "WARNING type not == 0\n",
      "\u001b[91m [DEBUG] > \u001b[0m\n",
      " |>  to_array: msg.time > max_t; t, n\n",
      " |>  9.994791666666663\n",
      " |>  500\n",
      "WARNING type not == 0\n",
      "\u001b[91m [DEBUG] > \u001b[0m\n",
      " |>  to_array: msg.time > max_t; t, n\n",
      " |>  9.993749999999997\n",
      " |>  500\n",
      "WARNING type not == 0\n",
      "WARNING type not == 0\n",
      "WARNING type not == 0\n",
      "WARNING type not == 0\n",
      "WARNING type not == 0\n",
      "WARNING type not == 0\n",
      "WARNING type not == 0\n",
      "WARNING type not == 0\n",
      "WARNING type not == 0\n",
      "WARNING type not == 0\n",
      "\u001b[91m [DEBUG] > \u001b[0m\n",
      " |>  to_array: msg.time > max_t; t, n\n",
      " |>  9.992708333333328\n",
      " |>  500\n",
      "WARNING type not == 0\n",
      "\u001b[91m [DEBUG] > \u001b[0m\n",
      " |>  to_array: msg.time > max_t; t, n\n",
      " |>  9.999999999999988\n",
      " |>  500\n",
      "WARNING type not == 0\n",
      "WARNING type not == 0\n",
      "\u001b[91m [DEBUG] > \u001b[0m\n",
      " |>  to_array: msg.time > max_t; t, n\n",
      " |>  9.993749999999995\n",
      " |>  500\n",
      "WARNING type not == 0\n",
      "WARNING type not == 0\n",
      "WARNING type not == 0\n",
      "WARNING type not == 0\n",
      "\u001b[91m [DEBUG] > \u001b[0m\n",
      " |>  to_array: msg.time > max_t; t, n\n",
      " |>  10.004166666666658\n",
      " |>  500\n",
      "WARNING type not == 0\n",
      "\u001b[91m [DEBUG] > \u001b[0m\n",
      " |>  to_array: msg.time > max_t; t, n\n",
      " |>  9.991666666666665\n",
      " |>  500\n",
      "WARNING type not == 0\n",
      "\u001b[91m [DEBUG] > \u001b[0m\n",
      " |>  to_array: msg.time > max_t; t, n\n",
      " |>  9.99479166666666\n",
      " |>  500\n",
      "WARNING type not == 0\n",
      "\u001b[91m [DEBUG] > \u001b[0m\n",
      " |>  to_array: msg.time > max_t; t, n\n",
      " |>  10.004166666666668\n",
      " |>  500\n",
      "WARNING type not == 0\n",
      "\u001b[91m [DEBUG] > \u001b[0m\n",
      " |>  to_array: msg.time > max_t; t, n\n",
      " |>  9.999999999999995\n",
      " |>  500\n",
      "WARNING type not == 0\n",
      "\u001b[91m [DEBUG] > \u001b[0m\n",
      " |>  to_array: msg.time > max_t; t, n\n",
      " |>  9.994791666666666\n",
      " |>  500\n",
      "WARNING type not == 0\n",
      "\u001b[91m [DEBUG] > \u001b[0m\n",
      " |>  to_array: msg.time > max_t; t, n\n",
      " |>  10.004166666666643\n",
      " |>  500\n",
      "WARNING type not == 0\n",
      "\u001b[91m [DEBUG] > \u001b[0m\n",
      " |>  to_array: msg.time > max_t; t, n\n",
      " |>  9.995833333333312\n",
      " |>  500\n",
      "WARNING type not == 0\n",
      "WARNING type not == 0\n",
      "\u001b[91m [DEBUG] > \u001b[0m\n",
      " |>  to_array: msg.time > max_t; t, n\n",
      " |>  9.995833333333326\n",
      " |>  500\n",
      "WARNING type not == 0\n",
      "WARNING type not == 0\n",
      "WARNING type not == 0\n",
      "\u001b[91m [DEBUG] > \u001b[0m\n",
      " |>  to_array: msg.time > max_t; t, n\n",
      " |>  9.99479166666669\n",
      " |>  500\n"
     ]
    }
   ],
   "source": [
    "n = 100\n",
    "min_f = 3\n",
    "max_f = 20\n",
    "# x_train = g.gen_data(context, n, max_f=max_f, min_f=min_f)\n",
    "x_train = g.gen_data_complex(context, n, max_f=max_f, min_f=min_f)\n",
    "\n",
    "# x_train = np.zeros([10,100,127])\n",
    "y_train = x_train"
   ]
  },
  {
   "cell_type": "code",
   "execution_count": 20,
   "metadata": {},
   "outputs": [
    {
     "data": {
      "text/plain": [
       "[<matplotlib.lines.Line2D at 0x1182c87b8>,\n",
       " <matplotlib.lines.Line2D at 0x1182c8908>]"
      ]
     },
     "execution_count": 20,
     "metadata": {},
     "output_type": "execute_result"
    },
    {
     "data": {
      "image/png": "[encoded data removed]",
      "text/plain": [
       "<matplotlib.figure.Figure at 0x1181ea7b8>"
      ]
     },
     "metadata": {},
     "output_type": "display_data"
    }
   ],
   "source": [
    "n6 = 30\n",
    "plt.plot(x_train[0,:n6,0:])\n",
    "# plt.plot(x_train[1,:n6,0:2])"
   ]
  },
  {
   "cell_type": "code",
   "execution_count": 21,
   "metadata": {},
   "outputs": [
    {
     "data": {
      "text/plain": [
       "(100, 500, 2)"
      ]
     },
     "execution_count": 21,
     "metadata": {},
     "output_type": "execute_result"
    }
   ],
   "source": [
    "# [sum(x) for x in x_train]\n",
    "x_train.shape"
   ]
  },
  {
   "cell_type": "code",
   "execution_count": 22,
   "metadata": {},
   "outputs": [
    {
     "data": {
      "text/plain": [
       "(100, 500, 2)"
      ]
     },
     "execution_count": 22,
     "metadata": {},
     "output_type": "execute_result"
    }
   ],
   "source": [
    "y_train = x_train\n",
    "n_samples = x_train[0]\n",
    "input_shape = x_train.shape[1:] # shape of a single sample\n",
    "output_shape = y_train.shape[1:]\n",
    "# output_length = y_train.shape[1]\n",
    "# output_length = (y_train[0]).shape[0] # = length of an individual label\n",
    "hidden_layer_length = 10\n",
    "x_train.shape"
   ]
  },
  {
   "cell_type": "code",
   "execution_count": 23,
   "metadata": {
    "scrolled": false
   },
   "outputs": [
    {
     "name": "stdout",
     "output_type": "stream",
     "text": [
      "_________________________________________________________________\n",
      "Layer (type)                 Output Shape              Param #   \n",
      "=================================================================\n",
      "input_2 (InputLayer)         (None, 500, 2)            0         \n",
      "_________________________________________________________________\n",
      "flatten_1 (Flatten)          (None, 1000)              0         \n",
      "_________________________________________________________________\n",
      "dense_1 (Dense)              (None, 10)                10010     \n",
      "_________________________________________________________________\n",
      "dropout_1 (Dropout)          (None, 10)                0         \n",
      "_________________________________________________________________\n",
      "dense_2 (Dense)              (None, 10)                110       \n",
      "=================================================================\n",
      "Total params: 10,120\n",
      "Trainable params: 10,120\n",
      "Non-trainable params: 0\n",
      "_________________________________________________________________\n",
      "_________________________________________________________________\n",
      "Layer (type)                 Output Shape              Param #   \n",
      "=================================================================\n",
      "input_3 (InputLayer)         (None, 10)                0         \n",
      "_________________________________________________________________\n",
      "dense_3 (Dense)              (None, 1000)              11000     \n",
      "_________________________________________________________________\n",
      "dropout_2 (Dropout)          (None, 1000)              0         \n",
      "_________________________________________________________________\n",
      "dense_4 (Dense)              (None, 1000)              1001000   \n",
      "_________________________________________________________________\n",
      "reshape_1 (Reshape)          (None, 500, 2)            0         \n",
      "=================================================================\n",
      "Total params: 1,012,000\n",
      "Trainable params: 1,012,000\n",
      "Non-trainable params: 0\n",
      "_________________________________________________________________\n"
     ]
    }
   ],
   "source": [
    "# functional syntax: lambda x: lambda y: z\n",
    "def encoder(input_shape, output_length, dropout=0.10):\n",
    "    input_layer = Input(shape=input_shape)\n",
    "    x = input_layer\n",
    "    x = Flatten()(x)\n",
    "#     x = Dense(output_length * 2, activation='relu')(x)    \n",
    "#     x = Dropout(dropout)(x)\n",
    "#     x = Dense(output_length, activation='relu')(x)\n",
    "    x = Dense(output_length, activation='relu')(x)\n",
    "    x = Dropout(dropout)(x)\n",
    "    x = Dense(output_length, activation='relu')(x)\n",
    "#     x = Dense(output_length, activation='sigmoid')(x)\n",
    "#     x = Dropout(dropout)(x)\n",
    "#     x = Dense(output_length, activation='relu', activity_regularizer=regularizers.l1(10e-5))(x)\n",
    "    #     model.add(Dropout(dropout))    \n",
    "    model = Model(inputs=input_layer, outputs=x)\n",
    "    return model\n",
    "\n",
    "\n",
    "def decoder(input_length, output_shape, dropout=0.10):\n",
    "    input_layer = Input(shape=(input_length,))\n",
    "    x = input_layer\n",
    "    shape = output_shape\n",
    "    # shape = (10,100) # increase n dimensions\n",
    "    \n",
    "    x = Dense(np.prod(shape), activation='relu')(x)\n",
    "#     x = Dense(np.prod(shape), activation='relu')(x)\n",
    "#     x = Dropout(dropout)(x)\n",
    "    x = Dropout(dropout)(x)\n",
    "    x = Dense(np.prod(shape), activation='sigmoid')(x)\n",
    "#     x = Dense(np.prod(shape), activation='sigmoid')(x) # 4*4*8 = 128\n",
    "    x = Reshape(shape)(x)\n",
    "#     x = UpSampling1D(10)(x)\n",
    "    # make sure the conv layer increases the amount of dimensions\n",
    "#     dims = keras.backend.int_shape(x)[1:]\n",
    "#     n_steps = output_shape[0]\n",
    "#     n_output_timesteps = output_shape[1]\n",
    "#     filters = n_output_timesteps\n",
    "#     conv_amt = 2\n",
    "#     print('__+++==', n_output_timesteps)\n",
    "#     x = Conv1D(filters, kernel_size=4, strides=2, activation='relu')(x) # 50,100\n",
    "\n",
    "    dims = keras.backend.int_shape(x)[1:]\n",
    "#     x = UpSampling1D(dims[0] * 2)(x)\n",
    "#     x = Dense(output_shape[1], activation='relu')(x)\n",
    "    #     x = LocallyConnected1D(output_shape[1], kernel_size=1, activation='relu')(x)\n",
    "    # x = Dense(output_length, activation='softmax')(x)\n",
    "    model = Model(inputs=input_layer, outputs=x)\n",
    "    #     model.add(Dropout(dropout))\n",
    "    return model\n",
    "\n",
    "\n",
    "def autoencoder(input_shape, output_shape, hidden_layer_length=10, dropout=0.10, verbose=False):\n",
    "    input_ = Input(shape=input_shape)\n",
    "    encode = encoder(input_shape, hidden_layer_length, dropout)\n",
    "    if verbose:\n",
    "        encode.summary()\n",
    "    decode = decoder(hidden_layer_length, output_shape, dropout)\n",
    "    if verbose:\n",
    "        decode.summary()\n",
    "    model = Model(input_, decode(encode(input_)))\n",
    "    return encode, decode, model\n",
    "\n",
    "dropout = 0.1\n",
    "encoder, decoder, auto = autoencoder(input_shape, output_shape, hidden_layer_length, dropout, True)"
   ]
  },
  {
   "cell_type": "code",
   "execution_count": 24,
   "metadata": {},
   "outputs": [],
   "source": [
    "metrics = ['accuracy','mse','mae']\n",
    "loss = 'binary_crossentropy'# binary_crossentropy categorical_crossentropy\n",
    "optimizer = 'adam'\n",
    "auto.compile(optimizer=optimizer, loss=loss, metrics=metrics)"
   ]
  },
  {
   "cell_type": "code",
   "execution_count": 25,
   "metadata": {},
   "outputs": [],
   "source": [
    "batch_size = 15\n",
    "# n epochs = n iterations over all the training data\n",
    "epochs = 150"
   ]
  },
  {
   "cell_type": "code",
   "execution_count": 26,
   "metadata": {
    "scrolled": true
   },
   "outputs": [
    {
     "name": "stdout",
     "output_type": "stream",
     "text": [
      "Train on 25 samples, validate on 5 samples\n",
      "Epoch 1/150\n",
      "25/25 [==============================] - 0s 9ms/step - loss: 0.6933 - acc: 0.5078 - mean_squared_error: 0.2501 - mean_absolute_error: 0.4999 - val_loss: 0.6913 - val_acc: 0.5424 - val_mean_squared_error: 0.2491 - val_mean_absolute_error: 0.4990\n",
      "Epoch 2/150\n",
      "25/25 [==============================] - 0s 3ms/step - loss: 0.6886 - acc: 0.5922 - mean_squared_error: 0.2477 - mean_absolute_error: 0.4976 - val_loss: 0.6879 - val_acc: 0.5660 - val_mean_squared_error: 0.2474 - val_mean_absolute_error: 0.4970\n",
      "Epoch 3/150\n",
      "25/25 [==============================] - 0s 4ms/step - loss: 0.6813 - acc: 0.6216 - mean_squared_error: 0.2441 - mean_absolute_error: 0.4935 - val_loss: 0.6829 - val_acc: 0.5792 - val_mean_squared_error: 0.2449 - val_mean_absolute_error: 0.4934\n",
      "Epoch 4/150\n",
      "25/25 [==============================] - 0s 4ms/step - loss: 0.6703 - acc: 0.6384 - mean_squared_error: 0.2386 - mean_absolute_error: 0.4867 - val_loss: 0.6779 - val_acc: 0.5808 - val_mean_squared_error: 0.2424 - val_mean_absolute_error: 0.4881\n",
      "Epoch 5/150\n",
      "25/25 [==============================] - 0s 4ms/step - loss: 0.6514 - acc: 0.6447 - mean_squared_error: 0.2295 - mean_absolute_error: 0.4733 - val_loss: 0.6756 - val_acc: 0.5822 - val_mean_squared_error: 0.2413 - val_mean_absolute_error: 0.4801\n",
      "Epoch 6/150\n",
      "25/25 [==============================] - 0s 3ms/step - loss: 0.6401 - acc: 0.6550 - mean_squared_error: 0.2243 - mean_absolute_error: 0.4606 - val_loss: 0.6793 - val_acc: 0.5854 - val_mean_squared_error: 0.2427 - val_mean_absolute_error: 0.4703\n",
      "Epoch 7/150\n",
      "25/25 [==============================] - 0s 3ms/step - loss: 0.6264 - acc: 0.6564 - mean_squared_error: 0.2181 - mean_absolute_error: 0.4426 - val_loss: 0.6809 - val_acc: 0.5936 - val_mean_squared_error: 0.2430 - val_mean_absolute_error: 0.4617\n",
      "Epoch 8/150\n",
      "25/25 [==============================] - 0s 3ms/step - loss: 0.6091 - acc: 0.6688 - mean_squared_error: 0.2107 - mean_absolute_error: 0.4227 - val_loss: 0.6760 - val_acc: 0.6014 - val_mean_squared_error: 0.2407 - val_mean_absolute_error: 0.4554\n",
      "Epoch 9/150\n",
      "25/25 [==============================] - 0s 3ms/step - loss: 0.5984 - acc: 0.6769 - mean_squared_error: 0.2061 - mean_absolute_error: 0.4143 - val_loss: 0.6668 - val_acc: 0.6070 - val_mean_squared_error: 0.2367 - val_mean_absolute_error: 0.4497\n",
      "Epoch 10/150\n",
      "25/25 [==============================] - 0s 3ms/step - loss: 0.5872 - acc: 0.6856 - mean_squared_error: 0.2015 - mean_absolute_error: 0.4070 - val_loss: 0.6556 - val_acc: 0.6142 - val_mean_squared_error: 0.2321 - val_mean_absolute_error: 0.4424\n",
      "Epoch 11/150\n",
      "25/25 [==============================] - 0s 3ms/step - loss: 0.5649 - acc: 0.7023 - mean_squared_error: 0.1923 - mean_absolute_error: 0.3912 - val_loss: 0.6448 - val_acc: 0.6170 - val_mean_squared_error: 0.2278 - val_mean_absolute_error: 0.4359\n",
      "Epoch 12/150\n",
      "25/25 [==============================] - 0s 4ms/step - loss: 0.5532 - acc: 0.7104 - mean_squared_error: 0.1877 - mean_absolute_error: 0.3829 - val_loss: 0.6372 - val_acc: 0.6158 - val_mean_squared_error: 0.2248 - val_mean_absolute_error: 0.4302\n",
      "Epoch 13/150\n",
      "25/25 [==============================] - 0s 3ms/step - loss: 0.5462 - acc: 0.7124 - mean_squared_error: 0.1851 - mean_absolute_error: 0.3780 - val_loss: 0.6347 - val_acc: 0.6230 - val_mean_squared_error: 0.2238 - val_mean_absolute_error: 0.4242\n",
      "Epoch 14/150\n",
      "25/25 [==============================] - 0s 3ms/step - loss: 0.5419 - acc: 0.7156 - mean_squared_error: 0.1837 - mean_absolute_error: 0.3712 - val_loss: 0.6323 - val_acc: 0.6246 - val_mean_squared_error: 0.2229 - val_mean_absolute_error: 0.4212\n",
      "Epoch 15/150\n",
      "25/25 [==============================] - 0s 3ms/step - loss: 0.5380 - acc: 0.7229 - mean_squared_error: 0.1825 - mean_absolute_error: 0.3694 - val_loss: 0.6316 - val_acc: 0.6194 - val_mean_squared_error: 0.2228 - val_mean_absolute_error: 0.4199\n",
      "Epoch 16/150\n",
      "25/25 [==============================] - 0s 3ms/step - loss: 0.5236 - acc: 0.7280 - mean_squared_error: 0.1772 - mean_absolute_error: 0.3563 - val_loss: 0.6325 - val_acc: 0.6178 - val_mean_squared_error: 0.2231 - val_mean_absolute_error: 0.4202\n",
      "Epoch 17/150\n",
      "25/25 [==============================] - 0s 3ms/step - loss: 0.5261 - acc: 0.7232 - mean_squared_error: 0.1782 - mean_absolute_error: 0.3635 - val_loss: 0.6339 - val_acc: 0.6174 - val_mean_squared_error: 0.2236 - val_mean_absolute_error: 0.4209\n",
      "Epoch 18/150\n",
      "25/25 [==============================] - 0s 3ms/step - loss: 0.5186 - acc: 0.7332 - mean_squared_error: 0.1743 - mean_absolute_error: 0.3595 - val_loss: 0.6358 - val_acc: 0.6166 - val_mean_squared_error: 0.2244 - val_mean_absolute_error: 0.4210\n",
      "Epoch 19/150\n",
      "25/25 [==============================] - 0s 3ms/step - loss: 0.5306 - acc: 0.7202 - mean_squared_error: 0.1798 - mean_absolute_error: 0.3712 - val_loss: 0.6393 - val_acc: 0.6164 - val_mean_squared_error: 0.2254 - val_mean_absolute_error: 0.4184\n",
      "Epoch 20/150\n",
      "25/25 [==============================] - 0s 3ms/step - loss: 0.5117 - acc: 0.7308 - mean_squared_error: 0.1733 - mean_absolute_error: 0.3483 - val_loss: 0.6440 - val_acc: 0.6148 - val_mean_squared_error: 0.2268 - val_mean_absolute_error: 0.4162\n",
      "Epoch 21/150\n",
      "25/25 [==============================] - 0s 3ms/step - loss: 0.5050 - acc: 0.7348 - mean_squared_error: 0.1705 - mean_absolute_error: 0.3480 - val_loss: 0.6525 - val_acc: 0.6150 - val_mean_squared_error: 0.2293 - val_mean_absolute_error: 0.4150\n",
      "Epoch 22/150\n",
      "25/25 [==============================] - 0s 3ms/step - loss: 0.4935 - acc: 0.7404 - mean_squared_error: 0.1665 - mean_absolute_error: 0.3381 - val_loss: 0.6549 - val_acc: 0.6130 - val_mean_squared_error: 0.2300 - val_mean_absolute_error: 0.4155\n",
      "Epoch 23/150\n",
      "25/25 [==============================] - 0s 3ms/step - loss: 0.4933 - acc: 0.7393 - mean_squared_error: 0.1669 - mean_absolute_error: 0.3358 - val_loss: 0.6485 - val_acc: 0.6150 - val_mean_squared_error: 0.2281 - val_mean_absolute_error: 0.4170\n",
      "Epoch 24/150\n",
      "25/25 [==============================] - 0s 3ms/step - loss: 0.4731 - acc: 0.7557 - mean_squared_error: 0.1584 - mean_absolute_error: 0.3269 - val_loss: 0.6463 - val_acc: 0.6176 - val_mean_squared_error: 0.2276 - val_mean_absolute_error: 0.4177\n",
      "Epoch 25/150\n",
      "25/25 [==============================] - 0s 3ms/step - loss: 0.4963 - acc: 0.7349 - mean_squared_error: 0.1681 - mean_absolute_error: 0.3415 - val_loss: 0.6490 - val_acc: 0.6164 - val_mean_squared_error: 0.2281 - val_mean_absolute_error: 0.4169\n",
      "Epoch 26/150\n",
      "25/25 [==============================] - 0s 3ms/step - loss: 0.4715 - acc: 0.7537 - mean_squared_error: 0.1581 - mean_absolute_error: 0.3260 - val_loss: 0.6505 - val_acc: 0.6180 - val_mean_squared_error: 0.2283 - val_mean_absolute_error: 0.4157\n",
      "Epoch 27/150\n",
      "25/25 [==============================] - 0s 3ms/step - loss: 0.4947 - acc: 0.7347 - mean_squared_error: 0.1680 - mean_absolute_error: 0.3358 - val_loss: 0.6486 - val_acc: 0.6174 - val_mean_squared_error: 0.2280 - val_mean_absolute_error: 0.4158\n",
      "Epoch 28/150\n",
      "25/25 [==============================] - 0s 3ms/step - loss: 0.4783 - acc: 0.7476 - mean_squared_error: 0.1613 - mean_absolute_error: 0.3317 - val_loss: 0.6498 - val_acc: 0.6160 - val_mean_squared_error: 0.2284 - val_mean_absolute_error: 0.4160\n",
      "Epoch 29/150\n",
      "25/25 [==============================] - 0s 3ms/step - loss: 0.4688 - acc: 0.7602 - mean_squared_error: 0.1569 - mean_absolute_error: 0.3272 - val_loss: 0.6546 - val_acc: 0.6156 - val_mean_squared_error: 0.2296 - val_mean_absolute_error: 0.4157\n",
      "Epoch 30/150\n",
      "25/25 [==============================] - 0s 3ms/step - loss: 0.4700 - acc: 0.7600 - mean_squared_error: 0.1569 - mean_absolute_error: 0.3285 - val_loss: 0.6604 - val_acc: 0.6138 - val_mean_squared_error: 0.2311 - val_mean_absolute_error: 0.4141\n",
      "Epoch 31/150\n",
      "25/25 [==============================] - 0s 3ms/step - loss: 0.4555 - acc: 0.7636 - mean_squared_error: 0.1531 - mean_absolute_error: 0.3131 - val_loss: 0.6566 - val_acc: 0.6156 - val_mean_squared_error: 0.2301 - val_mean_absolute_error: 0.4137\n",
      "Epoch 32/150\n",
      "25/25 [==============================] - 0s 3ms/step - loss: 0.4678 - acc: 0.7601 - mean_squared_error: 0.1568 - mean_absolute_error: 0.3282 - val_loss: 0.6539 - val_acc: 0.6154 - val_mean_squared_error: 0.2293 - val_mean_absolute_error: 0.4144\n"
     ]
    },
    {
     "name": "stdout",
     "output_type": "stream",
     "text": [
      "Epoch 33/150\n",
      "25/25 [==============================] - 0s 3ms/step - loss: 0.4530 - acc: 0.7676 - mean_squared_error: 0.1514 - mean_absolute_error: 0.3160 - val_loss: 0.6563 - val_acc: 0.6122 - val_mean_squared_error: 0.2301 - val_mean_absolute_error: 0.4153\n",
      "Epoch 34/150\n",
      "25/25 [==============================] - 0s 3ms/step - loss: 0.4378 - acc: 0.7753 - mean_squared_error: 0.1461 - mean_absolute_error: 0.3026 - val_loss: 0.6579 - val_acc: 0.6100 - val_mean_squared_error: 0.2309 - val_mean_absolute_error: 0.4158\n",
      "Epoch 35/150\n",
      "25/25 [==============================] - 0s 3ms/step - loss: 0.4398 - acc: 0.7752 - mean_squared_error: 0.1467 - mean_absolute_error: 0.3016 - val_loss: 0.6583 - val_acc: 0.6098 - val_mean_squared_error: 0.2309 - val_mean_absolute_error: 0.4145\n",
      "Epoch 36/150\n",
      "25/25 [==============================] - 0s 3ms/step - loss: 0.4454 - acc: 0.7772 - mean_squared_error: 0.1488 - mean_absolute_error: 0.3079 - val_loss: 0.6643 - val_acc: 0.6156 - val_mean_squared_error: 0.2319 - val_mean_absolute_error: 0.4114\n",
      "Epoch 37/150\n",
      "25/25 [==============================] - 0s 3ms/step - loss: 0.4274 - acc: 0.7832 - mean_squared_error: 0.1422 - mean_absolute_error: 0.2960 - val_loss: 0.6755 - val_acc: 0.6190 - val_mean_squared_error: 0.2343 - val_mean_absolute_error: 0.4086\n",
      "Epoch 38/150\n",
      "25/25 [==============================] - 0s 3ms/step - loss: 0.4525 - acc: 0.7636 - mean_squared_error: 0.1519 - mean_absolute_error: 0.3111 - val_loss: 0.6815 - val_acc: 0.6202 - val_mean_squared_error: 0.2356 - val_mean_absolute_error: 0.4077\n",
      "Epoch 39/150\n",
      "25/25 [==============================] - 0s 3ms/step - loss: 0.4362 - acc: 0.7789 - mean_squared_error: 0.1456 - mean_absolute_error: 0.2973 - val_loss: 0.6809 - val_acc: 0.6200 - val_mean_squared_error: 0.2353 - val_mean_absolute_error: 0.4075\n",
      "Epoch 40/150\n",
      "25/25 [==============================] - 0s 3ms/step - loss: 0.4148 - acc: 0.7949 - mean_squared_error: 0.1372 - mean_absolute_error: 0.2835 - val_loss: 0.6723 - val_acc: 0.6200 - val_mean_squared_error: 0.2330 - val_mean_absolute_error: 0.4088\n",
      "Epoch 41/150\n",
      "25/25 [==============================] - 0s 3ms/step - loss: 0.4186 - acc: 0.7855 - mean_squared_error: 0.1395 - mean_absolute_error: 0.2875 - val_loss: 0.6665 - val_acc: 0.6114 - val_mean_squared_error: 0.2320 - val_mean_absolute_error: 0.4118\n",
      "Epoch 42/150\n",
      "25/25 [==============================] - 0s 3ms/step - loss: 0.4259 - acc: 0.7851 - mean_squared_error: 0.1412 - mean_absolute_error: 0.2973 - val_loss: 0.6669 - val_acc: 0.6094 - val_mean_squared_error: 0.2330 - val_mean_absolute_error: 0.4147\n",
      "Epoch 43/150\n",
      "25/25 [==============================] - 0s 3ms/step - loss: 0.4271 - acc: 0.7876 - mean_squared_error: 0.1414 - mean_absolute_error: 0.2990 - val_loss: 0.6697 - val_acc: 0.6092 - val_mean_squared_error: 0.2344 - val_mean_absolute_error: 0.4162\n",
      "Epoch 44/150\n",
      "25/25 [==============================] - 0s 3ms/step - loss: 0.3897 - acc: 0.8042 - mean_squared_error: 0.1284 - mean_absolute_error: 0.2731 - val_loss: 0.6717 - val_acc: 0.6138 - val_mean_squared_error: 0.2346 - val_mean_absolute_error: 0.4155\n",
      "Epoch 45/150\n",
      "25/25 [==============================] - 0s 3ms/step - loss: 0.4107 - acc: 0.7897 - mean_squared_error: 0.1370 - mean_absolute_error: 0.2846 - val_loss: 0.6757 - val_acc: 0.6166 - val_mean_squared_error: 0.2351 - val_mean_absolute_error: 0.4134\n",
      "Epoch 46/150\n",
      "25/25 [==============================] - 0s 3ms/step - loss: 0.4146 - acc: 0.7939 - mean_squared_error: 0.1371 - mean_absolute_error: 0.2847 - val_loss: 0.6799 - val_acc: 0.6172 - val_mean_squared_error: 0.2359 - val_mean_absolute_error: 0.4120\n",
      "Epoch 47/150\n",
      "25/25 [==============================] - 0s 3ms/step - loss: 0.3991 - acc: 0.7999 - mean_squared_error: 0.1321 - mean_absolute_error: 0.2771 - val_loss: 0.6812 - val_acc: 0.6196 - val_mean_squared_error: 0.2360 - val_mean_absolute_error: 0.4112\n",
      "Epoch 48/150\n",
      "25/25 [==============================] - 0s 3ms/step - loss: 0.3894 - acc: 0.8075 - mean_squared_error: 0.1281 - mean_absolute_error: 0.2724 - val_loss: 0.6815 - val_acc: 0.6148 - val_mean_squared_error: 0.2360 - val_mean_absolute_error: 0.4115\n",
      "Epoch 49/150\n",
      "25/25 [==============================] - 0s 3ms/step - loss: 0.3705 - acc: 0.8200 - mean_squared_error: 0.1209 - mean_absolute_error: 0.2597 - val_loss: 0.6825 - val_acc: 0.6148 - val_mean_squared_error: 0.2365 - val_mean_absolute_error: 0.4124\n",
      "Epoch 50/150\n",
      "25/25 [==============================] - 0s 3ms/step - loss: 0.3804 - acc: 0.8120 - mean_squared_error: 0.1246 - mean_absolute_error: 0.2645 - val_loss: 0.6811 - val_acc: 0.6138 - val_mean_squared_error: 0.2363 - val_mean_absolute_error: 0.4126\n",
      "Epoch 51/150\n",
      "25/25 [==============================] - 0s 3ms/step - loss: 0.4061 - acc: 0.7963 - mean_squared_error: 0.1350 - mean_absolute_error: 0.2809 - val_loss: 0.6825 - val_acc: 0.6124 - val_mean_squared_error: 0.2372 - val_mean_absolute_error: 0.4136\n",
      "Epoch 52/150\n",
      "25/25 [==============================] - 0s 3ms/step - loss: 0.3870 - acc: 0.8095 - mean_squared_error: 0.1272 - mean_absolute_error: 0.2686 - val_loss: 0.6867 - val_acc: 0.6114 - val_mean_squared_error: 0.2381 - val_mean_absolute_error: 0.4131\n",
      "Epoch 53/150\n",
      "25/25 [==============================] - 0s 3ms/step - loss: 0.3879 - acc: 0.8044 - mean_squared_error: 0.1282 - mean_absolute_error: 0.2675 - val_loss: 0.6917 - val_acc: 0.6118 - val_mean_squared_error: 0.2394 - val_mean_absolute_error: 0.4129\n",
      "Epoch 54/150\n",
      "25/25 [==============================] - 0s 3ms/step - loss: 0.3972 - acc: 0.8020 - mean_squared_error: 0.1306 - mean_absolute_error: 0.2734 - val_loss: 0.6933 - val_acc: 0.6106 - val_mean_squared_error: 0.2402 - val_mean_absolute_error: 0.4140\n",
      "Epoch 55/150\n",
      "25/25 [==============================] - 0s 3ms/step - loss: 0.4152 - acc: 0.7900 - mean_squared_error: 0.1385 - mean_absolute_error: 0.2800 - val_loss: 0.6923 - val_acc: 0.6110 - val_mean_squared_error: 0.2398 - val_mean_absolute_error: 0.4134\n",
      "Epoch 56/150\n",
      "25/25 [==============================] - 0s 3ms/step - loss: 0.3690 - acc: 0.8224 - mean_squared_error: 0.1206 - mean_absolute_error: 0.2570 - val_loss: 0.6895 - val_acc: 0.6082 - val_mean_squared_error: 0.2394 - val_mean_absolute_error: 0.4137\n",
      "Epoch 57/150\n",
      "25/25 [==============================] - 0s 3ms/step - loss: 0.3622 - acc: 0.8305 - mean_squared_error: 0.1167 - mean_absolute_error: 0.2590 - val_loss: 0.6895 - val_acc: 0.6058 - val_mean_squared_error: 0.2396 - val_mean_absolute_error: 0.4140\n",
      "Epoch 58/150\n",
      "25/25 [==============================] - 0s 3ms/step - loss: 0.4172 - acc: 0.7879 - mean_squared_error: 0.1384 - mean_absolute_error: 0.2790 - val_loss: 0.6939 - val_acc: 0.6070 - val_mean_squared_error: 0.2413 - val_mean_absolute_error: 0.4154\n",
      "Epoch 59/150\n",
      "25/25 [==============================] - 0s 3ms/step - loss: 0.3390 - acc: 0.8372 - mean_squared_error: 0.1089 - mean_absolute_error: 0.2425 - val_loss: 0.7008 - val_acc: 0.6070 - val_mean_squared_error: 0.2434 - val_mean_absolute_error: 0.4160\n",
      "Epoch 60/150\n",
      "25/25 [==============================] - 0s 3ms/step - loss: 0.3543 - acc: 0.8354 - mean_squared_error: 0.1141 - mean_absolute_error: 0.2476 - val_loss: 0.7140 - val_acc: 0.6014 - val_mean_squared_error: 0.2470 - val_mean_absolute_error: 0.4168\n",
      "Epoch 61/150\n",
      "25/25 [==============================] - 0s 3ms/step - loss: 0.3554 - acc: 0.8305 - mean_squared_error: 0.1155 - mean_absolute_error: 0.2461 - val_loss: 0.7222 - val_acc: 0.6050 - val_mean_squared_error: 0.2487 - val_mean_absolute_error: 0.4166\n",
      "Epoch 62/150\n",
      "25/25 [==============================] - 0s 3ms/step - loss: 0.3293 - acc: 0.8493 - mean_squared_error: 0.1050 - mean_absolute_error: 0.2341 - val_loss: 0.7227 - val_acc: 0.6064 - val_mean_squared_error: 0.2478 - val_mean_absolute_error: 0.4143\n",
      "Epoch 63/150\n",
      "25/25 [==============================] - 0s 2ms/step - loss: 0.3596 - acc: 0.8268 - mean_squared_error: 0.1170 - mean_absolute_error: 0.2492 - val_loss: 0.7252 - val_acc: 0.6078 - val_mean_squared_error: 0.2472 - val_mean_absolute_error: 0.4118\n",
      "Epoch 64/150\n",
      "25/25 [==============================] - 0s 3ms/step - loss: 0.3578 - acc: 0.8189 - mean_squared_error: 0.1177 - mean_absolute_error: 0.2460 - val_loss: 0.7210 - val_acc: 0.6136 - val_mean_squared_error: 0.2459 - val_mean_absolute_error: 0.4103\n"
     ]
    },
    {
     "name": "stdout",
     "output_type": "stream",
     "text": [
      "Epoch 65/150\n",
      "25/25 [==============================] - 0s 4ms/step - loss: 0.3475 - acc: 0.8276 - mean_squared_error: 0.1135 - mean_absolute_error: 0.2412 - val_loss: 0.7162 - val_acc: 0.6134 - val_mean_squared_error: 0.2449 - val_mean_absolute_error: 0.4101\n",
      "Epoch 66/150\n",
      "25/25 [==============================] - 0s 5ms/step - loss: 0.3002 - acc: 0.8605 - mean_squared_error: 0.0957 - mean_absolute_error: 0.2136 - val_loss: 0.7162 - val_acc: 0.6122 - val_mean_squared_error: 0.2452 - val_mean_absolute_error: 0.4105\n",
      "Epoch 67/150\n",
      "25/25 [==============================] - 0s 4ms/step - loss: 0.3180 - acc: 0.8481 - mean_squared_error: 0.1023 - mean_absolute_error: 0.2231 - val_loss: 0.7213 - val_acc: 0.6104 - val_mean_squared_error: 0.2469 - val_mean_absolute_error: 0.4113\n",
      "Epoch 68/150\n",
      "25/25 [==============================] - 0s 5ms/step - loss: 0.3452 - acc: 0.8371 - mean_squared_error: 0.1111 - mean_absolute_error: 0.2406 - val_loss: 0.7260 - val_acc: 0.6116 - val_mean_squared_error: 0.2486 - val_mean_absolute_error: 0.4127\n",
      "Epoch 69/150\n",
      "25/25 [==============================] - 0s 3ms/step - loss: 0.3368 - acc: 0.8390 - mean_squared_error: 0.1091 - mean_absolute_error: 0.2341 - val_loss: 0.7245 - val_acc: 0.6090 - val_mean_squared_error: 0.2483 - val_mean_absolute_error: 0.4128\n",
      "Epoch 70/150\n",
      "25/25 [==============================] - 0s 3ms/step - loss: 0.3006 - acc: 0.8584 - mean_squared_error: 0.0960 - mean_absolute_error: 0.2134 - val_loss: 0.7243 - val_acc: 0.6116 - val_mean_squared_error: 0.2479 - val_mean_absolute_error: 0.4118\n",
      "Epoch 71/150\n",
      "25/25 [==============================] - 0s 3ms/step - loss: 0.3094 - acc: 0.8556 - mean_squared_error: 0.0989 - mean_absolute_error: 0.2167 - val_loss: 0.7311 - val_acc: 0.6088 - val_mean_squared_error: 0.2492 - val_mean_absolute_error: 0.4114\n",
      "Epoch 72/150\n",
      "25/25 [==============================] - 0s 4ms/step - loss: 0.3388 - acc: 0.8296 - mean_squared_error: 0.1112 - mean_absolute_error: 0.2291 - val_loss: 0.7403 - val_acc: 0.6108 - val_mean_squared_error: 0.2511 - val_mean_absolute_error: 0.4111\n",
      "Epoch 73/150\n",
      "25/25 [==============================] - 0s 3ms/step - loss: 0.2941 - acc: 0.8642 - mean_squared_error: 0.0935 - mean_absolute_error: 0.2074 - val_loss: 0.7507 - val_acc: 0.6086 - val_mean_squared_error: 0.2534 - val_mean_absolute_error: 0.4114\n",
      "Epoch 74/150\n",
      "25/25 [==============================] - 0s 4ms/step - loss: 0.2864 - acc: 0.8720 - mean_squared_error: 0.0900 - mean_absolute_error: 0.2063 - val_loss: 0.7567 - val_acc: 0.6078 - val_mean_squared_error: 0.2546 - val_mean_absolute_error: 0.4114\n",
      "Epoch 75/150\n",
      "25/25 [==============================] - 0s 4ms/step - loss: 0.2809 - acc: 0.8726 - mean_squared_error: 0.0884 - mean_absolute_error: 0.2015 - val_loss: 0.7557 - val_acc: 0.6090 - val_mean_squared_error: 0.2539 - val_mean_absolute_error: 0.4106\n",
      "Epoch 76/150\n",
      "25/25 [==============================] - 0s 3ms/step - loss: 0.3020 - acc: 0.8576 - mean_squared_error: 0.0969 - mean_absolute_error: 0.2116 - val_loss: 0.7535 - val_acc: 0.6076 - val_mean_squared_error: 0.2528 - val_mean_absolute_error: 0.4096\n",
      "Epoch 77/150\n",
      "25/25 [==============================] - 0s 4ms/step - loss: 0.2933 - acc: 0.8666 - mean_squared_error: 0.0932 - mean_absolute_error: 0.2074 - val_loss: 0.7538 - val_acc: 0.6110 - val_mean_squared_error: 0.2525 - val_mean_absolute_error: 0.4085\n",
      "Epoch 78/150\n",
      "25/25 [==============================] - 0s 4ms/step - loss: 0.3016 - acc: 0.8638 - mean_squared_error: 0.0951 - mean_absolute_error: 0.2115 - val_loss: 0.7572 - val_acc: 0.6106 - val_mean_squared_error: 0.2531 - val_mean_absolute_error: 0.4084\n",
      "Epoch 79/150\n",
      "25/25 [==============================] - 0s 4ms/step - loss: 0.2771 - acc: 0.8791 - mean_squared_error: 0.0868 - mean_absolute_error: 0.1936 - val_loss: 0.7658 - val_acc: 0.6074 - val_mean_squared_error: 0.2551 - val_mean_absolute_error: 0.4088\n",
      "Epoch 80/150\n",
      "25/25 [==============================] - 0s 4ms/step - loss: 0.2720 - acc: 0.8822 - mean_squared_error: 0.0857 - mean_absolute_error: 0.1918 - val_loss: 0.7753 - val_acc: 0.6068 - val_mean_squared_error: 0.2569 - val_mean_absolute_error: 0.4084\n",
      "Epoch 81/150\n",
      "25/25 [==============================] - 0s 6ms/step - loss: 0.3007 - acc: 0.8611 - mean_squared_error: 0.0958 - mean_absolute_error: 0.2018 - val_loss: 0.7826 - val_acc: 0.6054 - val_mean_squared_error: 0.2589 - val_mean_absolute_error: 0.4093\n",
      "Epoch 82/150\n",
      "25/25 [==============================] - 0s 3ms/step - loss: 0.2737 - acc: 0.8762 - mean_squared_error: 0.0862 - mean_absolute_error: 0.1920 - val_loss: 0.7893 - val_acc: 0.6062 - val_mean_squared_error: 0.2608 - val_mean_absolute_error: 0.4103\n",
      "Epoch 83/150\n",
      "25/25 [==============================] - 0s 3ms/step - loss: 0.2557 - acc: 0.8896 - mean_squared_error: 0.0791 - mean_absolute_error: 0.1824 - val_loss: 0.7878 - val_acc: 0.6046 - val_mean_squared_error: 0.2608 - val_mean_absolute_error: 0.4110\n",
      "Epoch 84/150\n",
      "25/25 [==============================] - 0s 5ms/step - loss: 0.3100 - acc: 0.8555 - mean_squared_error: 0.0996 - mean_absolute_error: 0.2082 - val_loss: 0.7789 - val_acc: 0.6084 - val_mean_squared_error: 0.2583 - val_mean_absolute_error: 0.4097\n",
      "Epoch 85/150\n",
      "25/25 [==============================] - 0s 4ms/step - loss: 0.2979 - acc: 0.8703 - mean_squared_error: 0.0931 - mean_absolute_error: 0.2036 - val_loss: 0.7851 - val_acc: 0.6110 - val_mean_squared_error: 0.2587 - val_mean_absolute_error: 0.4086\n",
      "Epoch 86/150\n",
      "25/25 [==============================] - 0s 3ms/step - loss: 0.2825 - acc: 0.8737 - mean_squared_error: 0.0891 - mean_absolute_error: 0.1982 - val_loss: 0.7984 - val_acc: 0.6090 - val_mean_squared_error: 0.2609 - val_mean_absolute_error: 0.4084\n",
      "Epoch 87/150\n",
      "25/25 [==============================] - 0s 3ms/step - loss: 0.2566 - acc: 0.8838 - mean_squared_error: 0.0808 - mean_absolute_error: 0.1811 - val_loss: 0.8057 - val_acc: 0.6066 - val_mean_squared_error: 0.2628 - val_mean_absolute_error: 0.4098\n",
      "Epoch 88/150\n",
      "25/25 [==============================] - 0s 3ms/step - loss: 0.2627 - acc: 0.8858 - mean_squared_error: 0.0825 - mean_absolute_error: 0.1829 - val_loss: 0.8078 - val_acc: 0.6024 - val_mean_squared_error: 0.2645 - val_mean_absolute_error: 0.4125\n",
      "Epoch 89/150\n",
      "25/25 [==============================] - 0s 4ms/step - loss: 0.2670 - acc: 0.8835 - mean_squared_error: 0.0829 - mean_absolute_error: 0.1813 - val_loss: 0.8124 - val_acc: 0.5992 - val_mean_squared_error: 0.2669 - val_mean_absolute_error: 0.4154\n",
      "Epoch 90/150\n",
      "25/25 [==============================] - 0s 3ms/step - loss: 0.2679 - acc: 0.8832 - mean_squared_error: 0.0836 - mean_absolute_error: 0.1905 - val_loss: 0.8018 - val_acc: 0.6028 - val_mean_squared_error: 0.2651 - val_mean_absolute_error: 0.4155\n",
      "Epoch 91/150\n",
      "25/25 [==============================] - 0s 3ms/step - loss: 0.2373 - acc: 0.9000 - mean_squared_error: 0.0726 - mean_absolute_error: 0.1731 - val_loss: 0.7854 - val_acc: 0.6078 - val_mean_squared_error: 0.2613 - val_mean_absolute_error: 0.4139\n",
      "Epoch 92/150\n",
      "25/25 [==============================] - 0s 4ms/step - loss: 0.2509 - acc: 0.8896 - mean_squared_error: 0.0781 - mean_absolute_error: 0.1814 - val_loss: 0.7776 - val_acc: 0.6078 - val_mean_squared_error: 0.2586 - val_mean_absolute_error: 0.4111\n",
      "Epoch 93/150\n",
      "25/25 [==============================] - 0s 4ms/step - loss: 0.2891 - acc: 0.8718 - mean_squared_error: 0.0901 - mean_absolute_error: 0.1949 - val_loss: 0.7824 - val_acc: 0.6066 - val_mean_squared_error: 0.2590 - val_mean_absolute_error: 0.4091\n",
      "Epoch 94/150\n",
      "25/25 [==============================] - 0s 3ms/step - loss: 0.2190 - acc: 0.9084 - mean_squared_error: 0.0668 - mean_absolute_error: 0.1591 - val_loss: 0.8020 - val_acc: 0.6084 - val_mean_squared_error: 0.2630 - val_mean_absolute_error: 0.4095\n",
      "Epoch 95/150\n",
      "25/25 [==============================] - 0s 3ms/step - loss: 0.2488 - acc: 0.8883 - mean_squared_error: 0.0778 - mean_absolute_error: 0.1702 - val_loss: 0.8346 - val_acc: 0.6042 - val_mean_squared_error: 0.2693 - val_mean_absolute_error: 0.4109\n",
      "Epoch 96/150\n",
      "25/25 [==============================] - 0s 3ms/step - loss: 0.2971 - acc: 0.8675 - mean_squared_error: 0.0938 - mean_absolute_error: 0.1955 - val_loss: 0.8580 - val_acc: 0.6002 - val_mean_squared_error: 0.2740 - val_mean_absolute_error: 0.4130\n"
     ]
    },
    {
     "name": "stdout",
     "output_type": "stream",
     "text": [
      "Epoch 97/150\n",
      "25/25 [==============================] - 0s 3ms/step - loss: 0.3071 - acc: 0.8546 - mean_squared_error: 0.0994 - mean_absolute_error: 0.2010 - val_loss: 0.8548 - val_acc: 0.5974 - val_mean_squared_error: 0.2749 - val_mean_absolute_error: 0.4152\n",
      "Epoch 98/150\n",
      "25/25 [==============================] - 0s 3ms/step - loss: 0.2356 - acc: 0.9002 - mean_squared_error: 0.0720 - mean_absolute_error: 0.1710 - val_loss: 0.8354 - val_acc: 0.5968 - val_mean_squared_error: 0.2722 - val_mean_absolute_error: 0.4155\n",
      "Epoch 99/150\n",
      "25/25 [==============================] - 0s 3ms/step - loss: 0.2544 - acc: 0.8908 - mean_squared_error: 0.0790 - mean_absolute_error: 0.1750 - val_loss: 0.8121 - val_acc: 0.6010 - val_mean_squared_error: 0.2676 - val_mean_absolute_error: 0.4137\n",
      "Epoch 100/150\n",
      "25/25 [==============================] - 0s 2ms/step - loss: 0.2279 - acc: 0.9067 - mean_squared_error: 0.0692 - mean_absolute_error: 0.1653 - val_loss: 0.7983 - val_acc: 0.6044 - val_mean_squared_error: 0.2641 - val_mean_absolute_error: 0.4117\n",
      "Epoch 101/150\n",
      "25/25 [==============================] - 0s 3ms/step - loss: 0.2517 - acc: 0.8914 - mean_squared_error: 0.0785 - mean_absolute_error: 0.1801 - val_loss: 0.7981 - val_acc: 0.6050 - val_mean_squared_error: 0.2631 - val_mean_absolute_error: 0.4099\n",
      "Epoch 102/150\n",
      "25/25 [==============================] - 0s 3ms/step - loss: 0.2053 - acc: 0.9220 - mean_squared_error: 0.0607 - mean_absolute_error: 0.1515 - val_loss: 0.8105 - val_acc: 0.6066 - val_mean_squared_error: 0.2649 - val_mean_absolute_error: 0.4089\n",
      "Epoch 103/150\n",
      "25/25 [==============================] - 0s 3ms/step - loss: 0.2421 - acc: 0.8942 - mean_squared_error: 0.0750 - mean_absolute_error: 0.1708 - val_loss: 0.8238 - val_acc: 0.6070 - val_mean_squared_error: 0.2670 - val_mean_absolute_error: 0.4085\n",
      "Epoch 104/150\n",
      "25/25 [==============================] - 0s 3ms/step - loss: 0.2248 - acc: 0.9072 - mean_squared_error: 0.0677 - mean_absolute_error: 0.1635 - val_loss: 0.8383 - val_acc: 0.6036 - val_mean_squared_error: 0.2697 - val_mean_absolute_error: 0.4090\n",
      "Epoch 105/150\n",
      "25/25 [==============================] - 0s 3ms/step - loss: 0.2764 - acc: 0.8775 - mean_squared_error: 0.0860 - mean_absolute_error: 0.1826 - val_loss: 0.8593 - val_acc: 0.6002 - val_mean_squared_error: 0.2733 - val_mean_absolute_error: 0.4097\n",
      "Epoch 106/150\n",
      "25/25 [==============================] - 0s 3ms/step - loss: 0.2236 - acc: 0.9104 - mean_squared_error: 0.0674 - mean_absolute_error: 0.1573 - val_loss: 0.8782 - val_acc: 0.6012 - val_mean_squared_error: 0.2767 - val_mean_absolute_error: 0.4105\n",
      "Epoch 107/150\n",
      "25/25 [==============================] - 0s 3ms/step - loss: 0.2696 - acc: 0.8787 - mean_squared_error: 0.0847 - mean_absolute_error: 0.1805 - val_loss: 0.8905 - val_acc: 0.6026 - val_mean_squared_error: 0.2794 - val_mean_absolute_error: 0.4121\n",
      "Epoch 108/150\n",
      "25/25 [==============================] - 0s 5ms/step - loss: 0.2550 - acc: 0.8891 - mean_squared_error: 0.0789 - mean_absolute_error: 0.1738 - val_loss: 0.8846 - val_acc: 0.6014 - val_mean_squared_error: 0.2786 - val_mean_absolute_error: 0.4120\n",
      "Epoch 109/150\n",
      "25/25 [==============================] - 0s 4ms/step - loss: 0.2749 - acc: 0.8878 - mean_squared_error: 0.0829 - mean_absolute_error: 0.1743 - val_loss: 0.8657 - val_acc: 0.6072 - val_mean_squared_error: 0.2754 - val_mean_absolute_error: 0.4108\n",
      "Epoch 110/150\n",
      "25/25 [==============================] - 0s 5ms/step - loss: 0.1709 - acc: 0.9349 - mean_squared_error: 0.0494 - mean_absolute_error: 0.1278 - val_loss: 0.8543 - val_acc: 0.6030 - val_mean_squared_error: 0.2726 - val_mean_absolute_error: 0.4090\n",
      "Epoch 111/150\n",
      "25/25 [==============================] - 0s 3ms/step - loss: 0.2043 - acc: 0.9135 - mean_squared_error: 0.0622 - mean_absolute_error: 0.1432 - val_loss: 0.8465 - val_acc: 0.6010 - val_mean_squared_error: 0.2704 - val_mean_absolute_error: 0.4074\n",
      "Epoch 112/150\n",
      "25/25 [==============================] - 0s 4ms/step - loss: 0.2538 - acc: 0.8975 - mean_squared_error: 0.0764 - mean_absolute_error: 0.1574 - val_loss: 0.8455 - val_acc: 0.6034 - val_mean_squared_error: 0.2702 - val_mean_absolute_error: 0.4072\n",
      "Epoch 113/150\n",
      "25/25 [==============================] - 0s 3ms/step - loss: 0.2444 - acc: 0.8968 - mean_squared_error: 0.0749 - mean_absolute_error: 0.1663 - val_loss: 0.8488 - val_acc: 0.6060 - val_mean_squared_error: 0.2714 - val_mean_absolute_error: 0.4082\n",
      "Epoch 114/150\n",
      "25/25 [==============================] - 0s 3ms/step - loss: 0.1980 - acc: 0.9254 - mean_squared_error: 0.0580 - mean_absolute_error: 0.1379 - val_loss: 0.8609 - val_acc: 0.6006 - val_mean_squared_error: 0.2746 - val_mean_absolute_error: 0.4106\n",
      "Epoch 115/150\n",
      "25/25 [==============================] - 0s 4ms/step - loss: 0.2563 - acc: 0.8926 - mean_squared_error: 0.0773 - mean_absolute_error: 0.1655 - val_loss: 0.8791 - val_acc: 0.5982 - val_mean_squared_error: 0.2785 - val_mean_absolute_error: 0.4136\n",
      "Epoch 116/150\n",
      "25/25 [==============================] - 0s 3ms/step - loss: 0.1975 - acc: 0.9180 - mean_squared_error: 0.0592 - mean_absolute_error: 0.1400 - val_loss: 0.8977 - val_acc: 0.5924 - val_mean_squared_error: 0.2825 - val_mean_absolute_error: 0.4165\n",
      "Epoch 117/150\n",
      "25/25 [==============================] - 0s 3ms/step - loss: 0.2331 - acc: 0.8979 - mean_squared_error: 0.0724 - mean_absolute_error: 0.1605 - val_loss: 0.9013 - val_acc: 0.5950 - val_mean_squared_error: 0.2830 - val_mean_absolute_error: 0.4171\n",
      "Epoch 118/150\n",
      "25/25 [==============================] - 0s 4ms/step - loss: 0.2036 - acc: 0.9186 - mean_squared_error: 0.0611 - mean_absolute_error: 0.1464 - val_loss: 0.8903 - val_acc: 0.5952 - val_mean_squared_error: 0.2810 - val_mean_absolute_error: 0.4164\n",
      "Epoch 119/150\n",
      "25/25 [==============================] - 0s 3ms/step - loss: 0.1592 - acc: 0.9460 - mean_squared_error: 0.0447 - mean_absolute_error: 0.1198 - val_loss: 0.8705 - val_acc: 0.5966 - val_mean_squared_error: 0.2773 - val_mean_absolute_error: 0.4146\n",
      "Epoch 120/150\n",
      "25/25 [==============================] - 0s 3ms/step - loss: 0.1782 - acc: 0.9353 - mean_squared_error: 0.0509 - mean_absolute_error: 0.1301 - val_loss: 0.8580 - val_acc: 0.6008 - val_mean_squared_error: 0.2748 - val_mean_absolute_error: 0.4129\n",
      "Epoch 121/150\n",
      "25/25 [==============================] - 0s 2ms/step - loss: 0.2091 - acc: 0.9138 - mean_squared_error: 0.0637 - mean_absolute_error: 0.1438 - val_loss: 0.8560 - val_acc: 0.6036 - val_mean_squared_error: 0.2737 - val_mean_absolute_error: 0.4108\n",
      "Epoch 122/150\n",
      "25/25 [==============================] - 0s 2ms/step - loss: 0.1850 - acc: 0.9249 - mean_squared_error: 0.0551 - mean_absolute_error: 0.1339 - val_loss: 0.8663 - val_acc: 0.6056 - val_mean_squared_error: 0.2743 - val_mean_absolute_error: 0.4088\n",
      "Epoch 123/150\n",
      "25/25 [==============================] - 0s 2ms/step - loss: 0.1915 - acc: 0.9268 - mean_squared_error: 0.0563 - mean_absolute_error: 0.1369 - val_loss: 0.8869 - val_acc: 0.6046 - val_mean_squared_error: 0.2767 - val_mean_absolute_error: 0.4077\n",
      "Epoch 124/150\n",
      "25/25 [==============================] - 0s 3ms/step - loss: 0.2161 - acc: 0.9106 - mean_squared_error: 0.0657 - mean_absolute_error: 0.1471 - val_loss: 0.9013 - val_acc: 0.6078 - val_mean_squared_error: 0.2786 - val_mean_absolute_error: 0.4070\n",
      "Epoch 125/150\n",
      "25/25 [==============================] - 0s 4ms/step - loss: 0.2074 - acc: 0.9197 - mean_squared_error: 0.0611 - mean_absolute_error: 0.1345 - val_loss: 0.9128 - val_acc: 0.6076 - val_mean_squared_error: 0.2808 - val_mean_absolute_error: 0.4074\n",
      "Epoch 126/150\n",
      "25/25 [==============================] - 0s 5ms/step - loss: 0.1688 - acc: 0.9354 - mean_squared_error: 0.0492 - mean_absolute_error: 0.1199 - val_loss: 0.9176 - val_acc: 0.6056 - val_mean_squared_error: 0.2822 - val_mean_absolute_error: 0.4082\n",
      "Epoch 127/150\n",
      "25/25 [==============================] - 0s 3ms/step - loss: 0.1768 - acc: 0.9266 - mean_squared_error: 0.0535 - mean_absolute_error: 0.1209 - val_loss: 0.9233 - val_acc: 0.6006 - val_mean_squared_error: 0.2838 - val_mean_absolute_error: 0.4098\n",
      "Epoch 128/150\n",
      "25/25 [==============================] - 0s 3ms/step - loss: 0.2456 - acc: 0.8988 - mean_squared_error: 0.0757 - mean_absolute_error: 0.1524 - val_loss: 0.9219 - val_acc: 0.6004 - val_mean_squared_error: 0.2844 - val_mean_absolute_error: 0.4114\n"
     ]
    },
    {
     "name": "stdout",
     "output_type": "stream",
     "text": [
      "Epoch 129/150\n",
      "25/25 [==============================] - 0s 3ms/step - loss: 0.1623 - acc: 0.9448 - mean_squared_error: 0.0449 - mean_absolute_error: 0.1095 - val_loss: 0.9136 - val_acc: 0.5996 - val_mean_squared_error: 0.2835 - val_mean_absolute_error: 0.4120\n",
      "Epoch 130/150\n",
      "25/25 [==============================] - 0s 3ms/step - loss: 0.2250 - acc: 0.9009 - mean_squared_error: 0.0697 - mean_absolute_error: 0.1492 - val_loss: 0.9152 - val_acc: 0.5986 - val_mean_squared_error: 0.2832 - val_mean_absolute_error: 0.4115\n",
      "Epoch 131/150\n",
      "25/25 [==============================] - 0s 3ms/step - loss: 0.1848 - acc: 0.9260 - mean_squared_error: 0.0549 - mean_absolute_error: 0.1267 - val_loss: 0.9145 - val_acc: 0.6002 - val_mean_squared_error: 0.2824 - val_mean_absolute_error: 0.4106\n",
      "Epoch 132/150\n",
      "25/25 [==============================] - 0s 2ms/step - loss: 0.1828 - acc: 0.9227 - mean_squared_error: 0.0543 - mean_absolute_error: 0.1290 - val_loss: 0.9162 - val_acc: 0.6094 - val_mean_squared_error: 0.2816 - val_mean_absolute_error: 0.4092\n",
      "Epoch 133/150\n",
      "25/25 [==============================] - 0s 2ms/step - loss: 0.1540 - acc: 0.9454 - mean_squared_error: 0.0439 - mean_absolute_error: 0.1084 - val_loss: 0.9203 - val_acc: 0.6074 - val_mean_squared_error: 0.2817 - val_mean_absolute_error: 0.4086\n",
      "Epoch 134/150\n",
      "25/25 [==============================] - 0s 2ms/step - loss: 0.1791 - acc: 0.9239 - mean_squared_error: 0.0538 - mean_absolute_error: 0.1237 - val_loss: 0.9331 - val_acc: 0.6064 - val_mean_squared_error: 0.2832 - val_mean_absolute_error: 0.4087\n",
      "Epoch 135/150\n",
      "25/25 [==============================] - 0s 2ms/step - loss: 0.1332 - acc: 0.9532 - mean_squared_error: 0.0368 - mean_absolute_error: 0.1008 - val_loss: 0.9452 - val_acc: 0.6070 - val_mean_squared_error: 0.2846 - val_mean_absolute_error: 0.4090\n",
      "Epoch 136/150\n",
      "25/25 [==============================] - 0s 2ms/step - loss: 0.2138 - acc: 0.9024 - mean_squared_error: 0.0672 - mean_absolute_error: 0.1429 - val_loss: 0.9492 - val_acc: 0.6026 - val_mean_squared_error: 0.2859 - val_mean_absolute_error: 0.4101\n",
      "Epoch 137/150\n",
      "25/25 [==============================] - 0s 2ms/step - loss: 0.1812 - acc: 0.9272 - mean_squared_error: 0.0533 - mean_absolute_error: 0.1223 - val_loss: 0.9407 - val_acc: 0.6030 - val_mean_squared_error: 0.2857 - val_mean_absolute_error: 0.4106\n",
      "Epoch 138/150\n",
      "25/25 [==============================] - 0s 2ms/step - loss: 0.1834 - acc: 0.9250 - mean_squared_error: 0.0548 - mean_absolute_error: 0.1187 - val_loss: 0.9389 - val_acc: 0.6026 - val_mean_squared_error: 0.2863 - val_mean_absolute_error: 0.4111\n",
      "Epoch 139/150\n",
      "25/25 [==============================] - 0s 2ms/step - loss: 0.1731 - acc: 0.9319 - mean_squared_error: 0.0511 - mean_absolute_error: 0.1164 - val_loss: 0.9394 - val_acc: 0.6026 - val_mean_squared_error: 0.2867 - val_mean_absolute_error: 0.4114\n",
      "Epoch 140/150\n",
      "25/25 [==============================] - 0s 2ms/step - loss: 0.1490 - acc: 0.9408 - mean_squared_error: 0.0433 - mean_absolute_error: 0.1067 - val_loss: 0.9425 - val_acc: 0.6024 - val_mean_squared_error: 0.2872 - val_mean_absolute_error: 0.4113\n",
      "Epoch 141/150\n",
      "25/25 [==============================] - 0s 2ms/step - loss: 0.1670 - acc: 0.9334 - mean_squared_error: 0.0492 - mean_absolute_error: 0.1220 - val_loss: 0.9449 - val_acc: 0.6008 - val_mean_squared_error: 0.2875 - val_mean_absolute_error: 0.4111\n",
      "Epoch 142/150\n",
      "25/25 [==============================] - 0s 2ms/step - loss: 0.1306 - acc: 0.9543 - mean_squared_error: 0.0358 - mean_absolute_error: 0.0978 - val_loss: 0.9460 - val_acc: 0.6018 - val_mean_squared_error: 0.2875 - val_mean_absolute_error: 0.4108\n",
      "Epoch 143/150\n",
      "25/25 [==============================] - 0s 2ms/step - loss: 0.1350 - acc: 0.9546 - mean_squared_error: 0.0371 - mean_absolute_error: 0.0986 - val_loss: 0.9461 - val_acc: 0.6042 - val_mean_squared_error: 0.2871 - val_mean_absolute_error: 0.4102\n",
      "Epoch 144/150\n",
      "25/25 [==============================] - 0s 2ms/step - loss: 0.2323 - acc: 0.9184 - mean_squared_error: 0.0648 - mean_absolute_error: 0.1348 - val_loss: 0.9552 - val_acc: 0.6044 - val_mean_squared_error: 0.2884 - val_mean_absolute_error: 0.4114\n",
      "Epoch 145/150\n",
      "25/25 [==============================] - 0s 3ms/step - loss: 0.1559 - acc: 0.9414 - mean_squared_error: 0.0449 - mean_absolute_error: 0.1065 - val_loss: 0.9637 - val_acc: 0.5952 - val_mean_squared_error: 0.2902 - val_mean_absolute_error: 0.4129\n",
      "Epoch 146/150\n",
      "25/25 [==============================] - 0s 2ms/step - loss: 0.2206 - acc: 0.9108 - mean_squared_error: 0.0657 - mean_absolute_error: 0.1357 - val_loss: 0.9789 - val_acc: 0.5990 - val_mean_squared_error: 0.2924 - val_mean_absolute_error: 0.4136\n",
      "Epoch 147/150\n",
      "25/25 [==============================] - 0s 2ms/step - loss: 0.1816 - acc: 0.9246 - mean_squared_error: 0.0541 - mean_absolute_error: 0.1274 - val_loss: 0.9827 - val_acc: 0.5982 - val_mean_squared_error: 0.2928 - val_mean_absolute_error: 0.4134\n",
      "Epoch 148/150\n",
      "25/25 [==============================] - 0s 2ms/step - loss: 0.1476 - acc: 0.9474 - mean_squared_error: 0.0419 - mean_absolute_error: 0.1048 - val_loss: 0.9820 - val_acc: 0.6014 - val_mean_squared_error: 0.2921 - val_mean_absolute_error: 0.4121\n",
      "Epoch 149/150\n",
      "25/25 [==============================] - 0s 2ms/step - loss: 0.1911 - acc: 0.9172 - mean_squared_error: 0.0586 - mean_absolute_error: 0.1297 - val_loss: 0.9814 - val_acc: 0.6040 - val_mean_squared_error: 0.2912 - val_mean_absolute_error: 0.4101\n",
      "Epoch 150/150\n",
      "25/25 [==============================] - 0s 2ms/step - loss: 0.1695 - acc: 0.9306 - mean_squared_error: 0.0505 - mean_absolute_error: 0.1113 - val_loss: 0.9766 - val_acc: 0.6056 - val_mean_squared_error: 0.2897 - val_mean_absolute_error: 0.4078\n"
     ]
    }
   ],
   "source": [
    "m = 30\n",
    "# xx = np.stack([x_train[0] for _ in range(m)])\n",
    "# yy = xx\n",
    "# history = auto.fit(x_train, y_train, epochs=epochs, batch_size=batch_size, callbacks=[TensorBoard(log_dir=config.tmp_log_dir)])\n",
    "history = auto.fit(x_train[:m], y_train[:m], epochs=epochs, batch_size=batch_size,\n",
    "          validation_split=1/6, callbacks=[TensorBoard(log_dir=config.tmp_log_dir)])"
   ]
  },
  {
   "cell_type": "code",
   "execution_count": 27,
   "metadata": {},
   "outputs": [
    {
     "data": {
      "text/plain": [
       "(0, 1.025344226360321)"
      ]
     },
     "execution_count": 27,
     "metadata": {},
     "output_type": "execute_result"
    },
    {
     "data": {
      "image/png": "[encoded data removed]",
      "text/plain": [
       "<matplotlib.figure.Figure at 0x1181d70f0>"
      ]
     },
     "metadata": {},
     "output_type": "display_data"
    }
   ],
   "source": [
    "plt.plot(history.history['loss'])\n",
    "plt.plot(history.history['val_loss'])\n",
    "plt.ylim(ymin=0)"
   ]
  },
  {
   "cell_type": "code",
   "execution_count": 28,
   "metadata": {},
   "outputs": [
    {
     "data": {
      "text/plain": [
       "(0, 1)"
      ]
     },
     "execution_count": 28,
     "metadata": {},
     "output_type": "execute_result"
    },
    {
     "data": {
      "image/png": "[encoded data removed]",
      "text/plain": [
       "<matplotlib.figure.Figure at 0x11bb092e8>"
      ]
     },
     "metadata": {},
     "output_type": "display_data"
    }
   ],
   "source": [
    "plt.plot(history.history['acc'])\n",
    "plt.plot(history.history['val_acc'])\n",
    "plt.ylim(ymin=0, ymax=1)"
   ]
  },
  {
   "cell_type": "code",
   "execution_count": null,
   "metadata": {},
   "outputs": [],
   "source": []
  },
  {
   "cell_type": "code",
   "execution_count": 29,
   "metadata": {},
   "outputs": [
    {
     "name": "stdout",
     "output_type": "stream",
     "text": [
      "WARNING type not == 0\n",
      "WARNING type not == 0\n"
     ]
    }
   ],
   "source": [
    "mid1 = g.render_midi(context, f=2)\n",
    "mid2 = g.render_midi(context, f=3)\n",
    "x_test = np.stack([midi.encode(context, m) for m in [mid1,mid2]])"
   ]
  },
  {
   "cell_type": "code",
   "execution_count": 30,
   "metadata": {},
   "outputs": [],
   "source": [
    "# maxx = np.maximum(latent[0],latent[1])\n",
    "# maxx.shape"
   ]
  },
  {
   "cell_type": "code",
   "execution_count": 31,
   "metadata": {},
   "outputs": [
    {
     "data": {
      "text/plain": [
       "(10, 500, 2)"
      ]
     },
     "execution_count": 31,
     "metadata": {},
     "output_type": "execute_result"
    }
   ],
   "source": [
    "# arrays = decoder.predict(np.stack([latent[1]]))\n",
    "results = auto.predict(x_train[:10])\n",
    "results.shape"
   ]
  },
  {
   "cell_type": "code",
   "execution_count": 32,
   "metadata": {},
   "outputs": [
    {
     "data": {
      "text/plain": [
       "(0, 1)"
      ]
     },
     "execution_count": 32,
     "metadata": {},
     "output_type": "execute_result"
    },
    {
     "data": {
      "image/png": "[encoded data removed]",
      "text/plain": [
       "<matplotlib.figure.Figure at 0x11bb94400>"
      ]
     },
     "metadata": {},
     "output_type": "display_data"
    }
   ],
   "source": [
    "n1 = 15\n",
    "i = 0\n",
    "plt.subplot(211)\n",
    "plt.plot(np.arange(n1), results[i, :n1, 0:])\n",
    "plt.plot([0.5] * n1) # midi.MIDI_NOISE_FLOOR\n",
    "plt.ylim(ymin=0, ymax=1)\n",
    "\n",
    "plt.subplot(212)\n",
    "plt.plot(np.arange(n1), x_train[i, :n1, 0:])\n",
    "plt.plot([0.5] * n1) # midi.MIDI_NOISE_FLOOR\n",
    "plt.ylim(ymin=0, ymax=1)"
   ]
  },
  {
   "cell_type": "code",
   "execution_count": 33,
   "metadata": {},
   "outputs": [
    {
     "data": {
      "text/plain": [
       "(0, 1)"
      ]
     },
     "execution_count": 33,
     "metadata": {},
     "output_type": "execute_result"
    },
    {
     "data": {
      "image/png": "[encoded data removed]",
      "text/plain": [
       "<matplotlib.figure.Figure at 0x11bc74588>"
      ]
     },
     "metadata": {},
     "output_type": "display_data"
    }
   ],
   "source": [
    "n1 = 30\n",
    "i = 1\n",
    "plt.subplot(211)\n",
    "plt.plot(np.arange(n1), results[i, :n1, 0:])\n",
    "plt.plot([0.5] * n1) # midi.MIDI_NOISE_FLOOR\n",
    "plt.ylim(ymin=0, ymax=1)\n",
    "plt.subplot(212)\n",
    "\n",
    "plt.plot(np.arange(n1), x_train[i, :n1, 0:])\n",
    "plt.plot([0.5] * n1) # midi.MIDI_NOISE_FLOOR\n",
    "plt.ylim(ymin=0, ymax=1)"
   ]
  },
  {
   "cell_type": "code",
   "execution_count": 35,
   "metadata": {},
   "outputs": [
    {
     "name": "stdout",
     "output_type": "stream",
     "text": [
      "\u001b[92m [INFO] : \u001b[0m\n",
      " |  len, max_t\n",
      " |  10.188541666666623\n",
      " |  10.0\n",
      "\u001b[92m [INFO] : \u001b[0m\n",
      " |  len, max_t\n",
      " |  10.188541666666623\n",
      " |  10.0\n"
     ]
    }
   ],
   "source": [
    "mid_true = midi.decode_track(context, x_train[0])\n",
    "mid_pred = midi.decode_track(context, results[0])"
   ]
  },
  {
   "cell_type": "code",
   "execution_count": 39,
   "metadata": {},
   "outputs": [],
   "source": [
    "dn = config.export_dir\n",
    "io.export_midifile(mid_true, dn + 'mid_true.mid')\n",
    "io.export_midifile(mid_pred, dn + 'mid_pred.mid')"
   ]
  },
  {
   "cell_type": "code",
   "execution_count": 40,
   "metadata": {},
   "outputs": [
    {
     "data": {
      "text/plain": [
       "<midi file None type 1, 1 tracks, 922 messages>"
      ]
     },
     "execution_count": 40,
     "metadata": {},
     "output_type": "execute_result"
    }
   ],
   "source": [
    "mid_pred"
   ]
  },
  {
   "cell_type": "code",
   "execution_count": 41,
   "metadata": {},
   "outputs": [
    {
     "data": {
      "text/plain": [
       "<midi file None type 1, 1 tracks, 922 messages>"
      ]
     },
     "execution_count": 41,
     "metadata": {},
     "output_type": "execute_result"
    }
   ],
   "source": [
    "mid_true"
   ]
  },
  {
   "cell_type": "code",
   "execution_count": null,
   "metadata": {},
   "outputs": [],
   "source": []
  },
  {
   "cell_type": "code",
   "execution_count": null,
   "metadata": {},
   "outputs": [],
   "source": []
  },
  {
   "cell_type": "code",
   "execution_count": null,
   "metadata": {},
   "outputs": [],
   "source": []
  },
  {
   "cell_type": "code",
   "execution_count": null,
   "metadata": {},
   "outputs": [],
   "source": []
  }
 ],
 "metadata": {
  "kernelspec": {
   "display_name": "Python 3",
   "language": "python",
   "name": "python3"
  },
  "language_info": {
   "codemirror_mode": {
    "name": "ipython",
    "version": 3
   },
   "file_extension": ".py",
   "mimetype": "text/x-python",
   "name": "python",
   "nbconvert_exporter": "python",
   "pygments_lexer": "ipython3",
   "version": "3.6.4"
  }
 },
 "nbformat": 4,
 "nbformat_minor": 2
}
