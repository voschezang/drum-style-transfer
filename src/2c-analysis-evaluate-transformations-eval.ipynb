{
 "cells": [
  {
   "cell_type": "code",
   "execution_count": 1,
   "metadata": {},
   "outputs": [
    {
     "name": "stderr",
     "output_type": "stream",
     "text": [
      "/usr/local/lib/python3.6/site-packages/h5py/__init__.py:36: FutureWarning: Conversion of the second argument of issubdtype from `float` to `np.floating` is deprecated. In future, it will be treated as `np.float64 == np.dtype(float).type`.\n",
      "  from ._conv import register_converters as _register_converters\n",
      "Using Theano backend.\n"
     ]
    }
   ],
   "source": [
    "from __future__ import division\n",
    "\n",
    "import collections\n",
    "import numpy as np\n",
    "import matplotlib.pyplot as plt\n",
    "from scipy.stats import norm\n",
    "from sklearn.decomposition import PCA\n",
    "\n",
    "## NN libs\n",
    "import keras\n",
    "from keras import backend as K\n",
    "from keras import regularizers\n",
    "from keras.utils import to_categorical\n",
    "from keras.optimizers import SGD, Adam\n",
    "from keras.layers import *\n",
    "from keras.preprocessing.image import ImageDataGenerator\n",
    "from keras.models import Model\n",
    "from keras.callbacks import TensorBoard"
   ]
  },
  {
   "cell_type": "code",
   "execution_count": 2,
   "metadata": {},
   "outputs": [],
   "source": [
    "import config\n",
    "import os, numpy as np, pandas, sklearn, scipy.signal as signal\n",
    "import mido\n",
    "import matplotlib.pyplot as plt\n",
    "%matplotlib inline"
   ]
  },
  {
   "cell_type": "code",
   "execution_count": 3,
   "metadata": {},
   "outputs": [],
   "source": [
    "# local libs\n",
    "import config, models, setup, compression, ncd_evaluation\n",
    "import midi\n",
    "import midi.decode\n",
    "from midi import generators as g\n",
    "from utils import io, models_io, utils, plot, string\n",
    "from capsule.layers import Capsule, Length\n",
    "from capsule.capsulefunctions import squash, softmax, margin_loss"
   ]
  },
  {
   "cell_type": "code",
   "execution_count": 4,
   "metadata": {},
   "outputs": [
    {
     "name": "stdout",
     "output_type": "stream",
     "text": [
      " Context :: namedtuple(\n",
      "[ max_t = float\n",
      ", dt = float\n",
      ", n_timestesp = int\n",
      ", note_length = int\n",
      ", bpm = float\n",
      ", tempo = float\n",
      ", ticks_per_beat = int\n",
      "]\n",
      "\n",
      "Setting up params\n",
      "\n",
      "max min f 20.0 0.25\n",
      " >> Context(max_t=4.0, dt=0.025, n_timesteps=160, note_length=0.03, bpm=120.0, tempo=500000, ticks_per_beat=480)\n",
      " sample length:  160.000000\n",
      " max_f: 20.000000, min_f: 0.250000\n"
     ]
    }
   ],
   "source": [
    "context = setup.init(max_bars=4)"
   ]
  },
  {
   "cell_type": "code",
   "execution_count": 5,
   "metadata": {
    "scrolled": true
   },
   "outputs": [
    {
     "name": "stdout",
     "output_type": "stream",
     "text": [
      "\n",
      "Importing midi-data\n",
      "walk_and_search(../datasets/drum_midi/)\n",
      "path ../datasets/drum_midi/\n",
      "path ../datasets/drum_midi/50´s Drummer MIDI Files\n",
      "path ../datasets/drum_midi/50´s Drummer MIDI Files/01 Rock'n'Roll\n",
      "path ../datasets/drum_midi/50´s Drummer MIDI Files/01 Rock'n'Roll/01 Dancin Rick 166BPM\n",
      "  01 8th Hat.mid\n",
      "  02 8th Ride.mid\n",
      "  03 16th Snare.mid\n",
      "  04 8th Ride.mid\n",
      "  05 16th Ride.mid\n",
      "  06 16th Ride.mid\n",
      "  07 16th Ride.mid\n",
      "path ../datasets/drum_midi/50´s Drummer MIDI Files/01 Rock'n'Roll/02 Gogo 191BPM\n",
      "  01 8th Hat.mid\n",
      "  02 8th Snare.mid\n",
      "  03 4th Snare .mid\n",
      "  04 8th Ride.mid\n",
      "  05 8th Snare.mid\n",
      "  06 8th Toms.mid\n",
      "  07 8th Toms.mid\n",
      "path ../datasets/drum_midi/50´s Drummer MIDI Files/01 Rock'n'Roll/03 Lips n Hips 152BPM\n",
      "  01 8th Perc.mid\n",
      "  02 8th Ride.mid\n",
      "  03 8th Ride .mid\n",
      "  04 8th Snare.mid\n",
      "  05 8th Snare.mid\n",
      "  06 8th Hat.mid\n",
      "  07 8th Snare.mid\n",
      "path ../datasets/drum_midi/50´s Drummer MIDI Files/01 Rock'n'Roll/04 Maybelline 233BPM\n",
      "  01 8th Snare.mid\n",
      "  02 8th Cym.mid\n",
      "  03 8th Ride.mid\n",
      "  04 16th Snare.mid\n",
      "  05 16th Hat.mid\n",
      "  06 16th Toms.mid\n",
      "  07 16th Ride.mid\n",
      "path ../datasets/drum_midi/50´s Drummer MIDI Files/01 Rock'n'Roll/05 Straight Line 136BPM\n",
      "  01 8th Hat.mid\n",
      "  02 8th Ride.mid\n",
      "  03 8th Ride.mid\n",
      "  04 8th Perc.mid\n",
      "  05 8th Ride.mid\n",
      "  06 8th hat.mid\n",
      "  07 8th Toms.mid\n",
      "path ../datasets/drum_midi/50´s Drummer MIDI Files/01 Rock'n'Roll/06 Moonglow 140BPM\n",
      "  01 8th Hat.mid\n",
      "  02 8th Hat.mid\n",
      "  03 8th Ride.mid\n",
      "  04 8th Perc.mid\n",
      "  05 8th Hat.mid\n",
      "  06 8th Perc.mid\n",
      "  07 8th Perc.mid\n",
      "path ../datasets/drum_midi/50´s Drummer MIDI Files/01 Rock'n'Roll/07 Thwag 170BPM\n",
      "  01 8th Ride.mid\n",
      "  02 8th Hat.mid\n",
      "  03 8th Hat.mid\n",
      "  04 8th Ride.mid\n",
      "  05 8th Cym.mid\n",
      "  06 8th Cym.mid\n",
      "  07 8th Cym.mid\n",
      "path ../datasets/drum_midi/50´s Drummer MIDI Files/01 Rock'n'Roll/08 Doowoop 140bpm\n",
      "  01 16th Snare.mid\n",
      "  02 16th Snare.mid\n",
      "  03 16th Snare.mid\n",
      "  04 16th Snare.mid\n",
      "  05 16th Snare.mid\n",
      "  06 16th Perc.mid\n",
      "  07 16th Perc.mid\n",
      "path ../datasets/drum_midi/50´s Drummer MIDI Files/01 Rock'n'Roll/09 Diddeley 185bpm\n",
      "  01 4th Ride.mid\n",
      "  02 4th Ride.mid\n",
      "  03 4th Ride.mid\n",
      "  04 4th Hat.mid\n",
      "  05 8th Multi.mid\n",
      "  06 8th Multi.mid\n",
      "  07 8th Multi.mid\n",
      "path ../datasets/drum_midi/50´s Drummer MIDI Files/01 Rock'n'Roll/10 Ottis 172bpm\n",
      "  01 8th Hat.mid\n",
      "  02 8th Ride.mid\n",
      "  03 8th Cym.mid\n",
      "  04 8th Toms.mid\n",
      "  05 8th Toms.mid\n",
      "  06 8th Multi.mid\n",
      "  07 8th Multi.mid\n",
      "path ../datasets/drum_midi/50´s Drummer MIDI Files/02 Blues\n",
      "path ../datasets/drum_midi/50´s Drummer MIDI Files/02 Blues/01 Booze 92BPM\n",
      "  01 8th Hat.mid\n",
      "  02 8th Snare.mid\n",
      "  03 8th Perc.mid\n",
      "  04 8th Ride.mid\n",
      "  05 8th Hat.mid\n",
      "  06 8th Toms.mid\n",
      "  07 8th Hat.mid\n",
      "path ../datasets/drum_midi/50´s Drummer MIDI Files/02 Blues/02 Nappy Brown 160BPM\n",
      "  01 8th Hat.mid\n",
      "  02 8th Ride.mid\n",
      "  03 8th Perc.mid\n",
      "  04 8th Perc.mid\n",
      "  05 8th Cym.mid\n",
      "  06 8th Perc.mid\n",
      "  07 8th Hat.mid\n",
      "path ../datasets/drum_midi/50´s Drummer MIDI Files/02 Blues/03 Noton Bull 192BPM 12-8 Brushes\n",
      "  01 4th Multi.mid\n",
      "  02 4th Multi.mid\n",
      "  03 4th Snare.mid\n",
      "  04 4th Perc.mid\n",
      "  04 4th Snare.mid\n",
      "  06 4th Multi.mid\n",
      "  07 4th Mulit.mid\n",
      "path ../datasets/drum_midi/50´s Drummer MIDI Files/02 Blues/04 Mickeys 212BPM 12-8\n",
      "  01 8th Hat.mid\n",
      "  02 8th Hat.mid\n",
      "  03 8th Cym.mid\n",
      "  04 8th Toms.mid\n",
      "  05 8th Ride.mid\n",
      "  06 8th Multi.mid\n",
      "  07 8th perc.mid\n",
      "path ../datasets/drum_midi/50´s Drummer MIDI Files/02 Blues/05 Cadillac 128BPM\n",
      "  01 8th Hat.mid\n",
      "  02 8th Hat.mid\n",
      "  03 8th Ride.mid\n",
      "  04 8th Perc.mid\n",
      "  05 8th Perc.mid\n",
      "  06 8th Perc.mid\n",
      "  07 8th Perc.mid\n",
      "path ../datasets/drum_midi/50´s Drummer MIDI Files/02 Blues/06 Vidar Vega 70BPM\n",
      "  01 8th Hat.mid\n",
      "  02 8th Hat.mid\n",
      "  03 8th Hat.mid\n",
      "  04 8th Hat.mid\n",
      "  05 8th Toms.mid\n",
      "  06 8th Toms.mid\n",
      "  07 8th Ride.mid\n",
      "path ../datasets/drum_midi/50´s Drummer MIDI Files/02 Blues/07 Straight 88BPM\n",
      "  01 8th Hat.mid\n",
      "  02 8th Ride.mid\n",
      "  03 16th Hat.mid\n",
      "  04 16th Perc.mid\n",
      "  05 8th Hat.mid\n",
      "  06 16th Hat.mid\n",
      "  07 16th Ride.mid\n",
      "path ../datasets/drum_midi/50´s Drummer MIDI Files/02 Blues/08 Sams 127BPM\n",
      "  01 8th Hat.mid\n",
      "  02 8th Hat.mid\n",
      "  03 8th Ride.mid\n",
      "  04 8th Hat.mid\n",
      "  05 8th Perc.mid\n",
      "  06 8th Perc.mid\n",
      "  07 8th Perc.mid\n",
      "path ../datasets/drum_midi/50´s Drummer MIDI Files/02 Blues/09 Leroyes 130BPM\n",
      "  01 8th Hat.mid\n",
      "  02 8th Hat.mid\n",
      "  03 8th Ride.mid\n",
      "  04 8th Ride.mid\n",
      "  05 8th Perc.mid\n",
      "  06 8th Perc.mid\n",
      "  07 8th Ride.mid\n",
      "path ../datasets/drum_midi/50´s Drummer MIDI Files/02 Blues/10 Bogeart 122BPM\n",
      "  01 4th Hat.mid\n",
      "  02 8th Hat.mid\n",
      "  03 8th Ride.mid\n",
      "  04 8th Cym.mid\n",
      "  05 8th Perc.mid\n",
      "  06 8th Perc.mid\n",
      "  07 8th Toms.mid\n",
      "path ../datasets/drum_midi/50´s Drummer MIDI Files/03 Traditional Pop\n",
      "path ../datasets/drum_midi/50´s Drummer MIDI Files/03 Traditional Pop/01 Fly High 115BPM\n",
      "  01 8th Hat.mid\n",
      "  02 8th Hat.mid\n",
      "  03 8th Hat.mid\n",
      "  04 8th Hat.mid\n",
      "  05 8th Ride.mid\n",
      "  06 8th Ride.mid\n",
      "  07 8th Multi.mid\n",
      "path ../datasets/drum_midi/50´s Drummer MIDI Files/03 Traditional Pop/02 Frankies Girl 116BPM\n",
      "  01 8th Perc.mid\n",
      "  02 8th Hat.mid\n",
      "  03 8th Hat.mid\n",
      "  04 8th Ride.mid\n",
      "  05 8th Ride.mid\n",
      "  06 8th Ride.mid\n",
      "  07 8th Multi.mid\n",
      "path ../datasets/drum_midi/50´s Drummer MIDI Files/03 Traditional Pop/03 King Quiza 102BPM\n",
      "  01 8th Perc.mid\n",
      "  02 8th Hat.mid\n",
      "  03 8th Ride.mid\n",
      "  04 16th Ride.mid\n",
      "  05 16th Snare.mid\n",
      "  06 16th Toms.mid\n",
      "  07 16th Multi.mid\n",
      "path ../datasets/drum_midi/50´s Drummer MIDI Files/03 Traditional Pop/04 Love 155BPM\n",
      "  01 8th Hat.mid\n",
      "  02 8th Hat.mid\n",
      "  03 8th Ride.mid\n",
      "  04 8th Ride.mid\n",
      "  05 8th Ride.mid\n",
      "  06 8th Hat.mid\n",
      "  07 8th Perc.mid\n",
      "path ../datasets/drum_midi/50´s Drummer MIDI Files/03 Traditional Pop/05 Your Eyes 80BPM\n",
      "  01 8th Ride.mid\n",
      "  02 8th Ride.mid\n",
      "  03 16th Ride.mid\n",
      "  04 16th Toms.mid\n",
      "  05 16th Hat.mid\n",
      "  06 8th Snare.mid\n",
      "  07 8th hat.mid\n",
      "path ../datasets/drum_midi/50´s Drummer MIDI Files/03 Traditional Pop/06 Bopop 130MPM\n",
      "  01 8th Hat.mid\n",
      "  02 8th Ride.mid\n",
      "  03 8th Ride.mid\n",
      "  04 8th Toms.mid\n",
      "  05 8th Hat.mid\n",
      "  06 8th Hat.mid\n",
      "  07 8th Hat.mid\n",
      "path ../datasets/drum_midi/50´s Drummer MIDI Files/03 Traditional Pop/07 Lester Lee 133BPM\n",
      "  01 8th Hat.mid\n",
      "  02 8th Ride.mid\n",
      "  03 8th Hat.mid\n",
      "  04 8th Perc.mid\n",
      "  05 8th Perc.mid\n",
      "  06 8th Toms.mid\n",
      "  07 8th Ride.mid\n",
      "path ../datasets/drum_midi/50´s Drummer MIDI Files/03 Traditional Pop/08 Cecil Cee 101BPM\n",
      "  01 8th Ride.mid\n",
      "  02 8th Ride.mid\n",
      "  03 16th Hat.mid\n",
      "  04 16th Hat.mid\n",
      "  05 16th Hat.mid\n",
      "  06 16th Perc.mid\n",
      "  07 16th Toms.mid\n",
      "path ../datasets/drum_midi/50´s Drummer MIDI Files/03 Traditional Pop/09 Distel 155BPM\n",
      "  01 8th Ride.mid\n",
      "  02 8th Ride.mid\n",
      "  03 8th Hat.mid\n",
      "  04 8th Tom.mid\n",
      "  05 8th Tom.mid\n",
      "  06 8th Perc.mid\n",
      "  07 8th Perc.mid\n",
      "path ../datasets/drum_midi/50´s Drummer MIDI Files/03 Traditional Pop/10 Frewild 152BPM\n",
      "  01 4th Hat.mid\n",
      "  03 16th Hat.mid\n",
      "  03 4th Hat.mid\n",
      "  04 16th Ride.mid\n",
      "  05 16th Toms.mid\n",
      "  06 16th Perc.mid\n",
      "  07 16th Multi.mid\n",
      "path ../datasets/drum_midi/50´s Drummer MIDI Files/04 Country\n",
      "path ../datasets/drum_midi/50´s Drummer MIDI Files/04 Country/01 Calvin 148BPM\n",
      "  01 8th Snare.mid\n",
      "  02 8th Snare.mid\n",
      "  03 8th Snare.mid\n",
      "  04 8th Hat.mid\n",
      "  05 8th Hat.mid\n",
      "  06 8th Toms.mid\n",
      "  07 8th Multi.mid\n",
      "path ../datasets/drum_midi/50´s Drummer MIDI Files/04 Country/02 Marching 94BPM\n",
      "  01 8th Snare.mid\n",
      "  02 8th Snare.mid\n",
      "  03 8th Perc.mid\n",
      "  04 8th Toms.mid\n",
      "  05 8th Snare.mid\n",
      "  06 8th Multi.mid\n",
      "  07 8th Multi.mid\n",
      "path ../datasets/drum_midi/50´s Drummer MIDI Files/04 Country/03 Straight 72BPM Brushes\n",
      "  01 8th Snare.mid\n",
      "  02 8th Hat.mid\n",
      "  03 8th Snare.mid\n",
      "  04 8th Snare.mid\n",
      "  05 8th Multi.mid\n",
      "  06 8th Multi.mid\n",
      "  07 8th Snare.mid\n",
      "path ../datasets/drum_midi/50´s Drummer MIDI Files/04 Country/04 Snarey 208BPM 3-4\n",
      "  01 8th Snare.mid\n",
      "  02 8th Snare.mid\n",
      "  03 8th Snare.mid\n",
      "  04 8th Snare.mid\n",
      "  05 8th Snare.mid\n",
      "  06 8th Snare.mid\n",
      "  07 8th Perc.mid\n",
      "path ../datasets/drum_midi/50´s Drummer MIDI Files/04 Country/05 Brewer 160BPM\n",
      "  01 8th Perc.mid\n",
      "  02 8th Hat.mid\n",
      "  03 8th Ride.mid\n",
      "  04 8th Snare.mid\n",
      "  05 8th Toms.mid\n",
      "  06 8th Perc.mid\n",
      "  07 8th Perc.mid\n",
      "path ../datasets/drum_midi/50´s Drummer MIDI Files/04 Country/06 Booker 170BPM\n",
      "  01 8th Hat.mid\n",
      "  02 8th Hat.mid\n",
      "  03 8th Hat.mid\n",
      "  04 8th Ride.mid\n",
      "  05 8th Perc.mid\n",
      "  06 8th Hat.mid\n",
      "  07 8th Hat.mid\n",
      "path ../datasets/drum_midi/50´s Drummer MIDI Files/04 Country/07 Trainy 100BPM\n",
      "  01 16th Snare.mid\n",
      "  02 16th Snare.mid\n",
      "  03 16th Toms.mid\n",
      "  04 16th Toms.mid\n",
      "  05 16th Perc.mid\n",
      "  06 16th Perc.mid\n",
      "  07 16th Perc.mid\n",
      "path ../datasets/drum_midi/50´s Drummer MIDI Files/04 Country/08 Eddie Ed 111BPM\n",
      "  01 8th Hat.mid\n",
      "  02 8th Hat.mid\n",
      "  03 8th Hat.mid\n",
      "  04 4th Cym.mid\n",
      "  05 8th Tom.mid\n",
      "  06 8th Perc.mid\n",
      "  07 8th Perc.mid\n",
      "path ../datasets/drum_midi/50´s Drummer MIDI Files/04 Country/09 Broonze 122BPM\n",
      "  01 8th Hat.mid\n",
      "  02 8th Hat.mid\n",
      "  03 8th Ride.mid\n",
      "  04 8th Hat.mid\n",
      "  05 8th Cym.mid\n",
      "  06 8th Perc.mid\n",
      "  07 8th Tom.mid\n",
      "path ../datasets/drum_midi/50´s Drummer MIDI Files/04 Country/10 Rough Rider 183BPM\n",
      "  01 8th Perc.mid\n",
      "  02 8th Perc.mid\n",
      "  03 8th Hat.mid\n",
      "  04 8th Ride.mid\n",
      "  05 8th Toms.mid\n",
      "  06 8th Multi.mid\n",
      "  07 8th Hat.mid\n",
      "path ../datasets/drum_midi/50´s Drummer MIDI Files/05 Jazz\n",
      "path ../datasets/drum_midi/50´s Drummer MIDI Files/05 Jazz/01 Amel 85BPM Brushes\n",
      "  01 8th Snare.mid\n",
      "  02 8th Snare.mid\n",
      "  03 8th HiHat.mid\n",
      "  04 8th Snare.mid\n",
      "  05 8th Ride.mid\n",
      "  06 8th Hat.mid\n",
      "  07 16th Ride.mid\n",
      "path ../datasets/drum_midi/50´s Drummer MIDI Files/05 Jazz/02 Another You 170BPM\n",
      "  01 8th Ride.mid\n",
      "  02 8th Ride.mid\n",
      "  03 8th Ride.mid\n",
      "  04 8th Snare.mid\n",
      "  05 8th Multi.mid\n",
      "  06 8th Multi.mid\n",
      "  07 8th Multi.mid\n",
      "path ../datasets/drum_midi/50´s Drummer MIDI Files/05 Jazz/03 Cool 137BPM Brushes\n",
      "  01 8th Toms.mid\n",
      "  02 8th Snare.mid\n",
      "  03 8th Multi.mid\n",
      "  04 8th Toms.mid\n",
      "  05 16th Snare.mid\n",
      "  06 16th Toms.mid\n",
      "  07 16th Ride.mid\n",
      "path ../datasets/drum_midi/50´s Drummer MIDI Files/05 Jazz/04 Silent Tear 234BPM\n",
      "  01 8th Snare.mid\n",
      "  02 8th Ride.mid\n",
      "  03 8th Ride.mid\n",
      "  04 8th Snare.mid\n",
      "  05 8th Multi.mid\n",
      "  06 8th Multi.mid\n",
      "  07 8th ride.mid\n",
      "path ../datasets/drum_midi/50´s Drummer MIDI Files/05 Jazz/05 TNT 116BPM\n",
      "  01 8th Ride.mid\n",
      "  02 8th Snare.mid\n",
      "  03 8th HiHat.mid\n",
      "  04 8th Ride.mid\n",
      "  05 8th Ride.mid\n",
      "  06 8th Ride.mid\n",
      "  07 8th Toms.mid\n",
      "path ../datasets/drum_midi/50´s Drummer MIDI Files/05 Jazz/06 Nucleus 172BPM Brushes\n",
      "  01 8th Snare.mid\n",
      "  02 8th Toms.mid\n",
      "  03 8th Snare.mid\n",
      "  04 8th Hat.mid\n",
      "  05 8th Hat.mid\n",
      "  06 8th Multi.mid\n",
      "  07 8th Multi.mid\n",
      "path ../datasets/drum_midi/50´s Drummer MIDI Files/05 Jazz/07 Kooper 234BPM\n",
      "  01 4th Multi.mid\n",
      "  02 4th Multi.mid\n",
      "  03 8th Hat.mid\n",
      "  04 8th Perc.mid\n",
      "  05 16th Toms.mid\n",
      "  06 16th Toms.mid\n",
      "  07 16th Toms.mid\n",
      "path ../datasets/drum_midi/50´s Drummer MIDI Files/05 Jazz/08 Neodop 226BPM 3-4\n",
      "  01 16th Ride.mid\n",
      "  02 16th Ride.mid\n",
      "  03 8th Hat.mid\n",
      "  04 8th Ride.mid\n",
      "  05 8th Multi.mid\n",
      "  06 8th Multi.mid\n",
      "  07 8th Multi.mid\n",
      "path ../datasets/drum_midi/50´s Drummer MIDI Files/05 Jazz/09 West Coast 152BPM Brushes\n",
      "  01 8th Snare.mid\n",
      "  02 8th Snare.mid\n",
      "  03 8th Snare.mid\n",
      "  04 8th Hat.mid\n",
      "  05 8th Multi.mid\n",
      "  06 8th Multi.mid\n",
      "  07 8th Multi.mid\n",
      "path ../datasets/drum_midi/50´s Drummer MIDI Files/05 Jazz/10 Scalis 190BPM 3-4\n",
      "  01 8th Snare.mid\n",
      "  02 8th hat.mid\n",
      "  03 8th Toms.mid\n",
      "  04 8th Toms.mid\n",
      "  05 8th Multi.mid\n",
      "  06 8th Snare.mid\n",
      "  07 8th Snare.mid\n",
      "path ../datasets/drum_midi/50´s Drummer MIDI Files/06 Soul - Funk\n",
      "path ../datasets/drum_midi/50´s Drummer MIDI Files/06 Soul - Funk/01 Soul Groove 107BPM\n",
      "  01 16th Hat.mid\n",
      "  02 16th Hat.mid\n",
      "  03 8th Hat.mid\n",
      "  04 16th Hat.mid\n",
      "  05 16th Hat.mid\n",
      "  06 8th Hat.mid\n",
      "  07 16th Hat.mid\n",
      "path ../datasets/drum_midi/50´s Drummer MIDI Files/06 Soul - Funk/02 Boogaloo 120BPM\n",
      "  01 16th Multi.mid\n",
      "  02 4th Multi.mid\n",
      "  03 16th Hat.mid\n",
      "  04 4th Multi.mid\n",
      "  05 8th Multi.mid\n",
      "  06 16th Hat.mid\n",
      "  07 8th Hat.mid\n",
      "path ../datasets/drum_midi/50´s Drummer MIDI Files/06 Soul - Funk/03 Cadence Soul 105BPM\n",
      "  01 4th Hat.mid\n",
      "  02 4th Hat.mid\n",
      "  03 8th Hat.mid\n",
      "  04 4th Hat.mid\n",
      "  05 4th Hat.mid\n",
      "  06 8th Cym.mid\n",
      "  07 8th Hat.mid\n",
      "path ../datasets/drum_midi/50´s Drummer MIDI Files/06 Soul - Funk/04 GoGo Soul 100BPM\n",
      "  01 16th Toms.mid\n",
      "  02 16th Toms.mid\n",
      "  03 8th Hat.mid\n",
      "  04 8th Hat.mid\n",
      "  05 8th Hat.mid\n",
      "  06 8th Hat.mid\n",
      "  07 8th Hat.mid\n",
      "path ../datasets/drum_midi/50´s Drummer MIDI Files/06 Soul - Funk/05 Hip Hop 95BPM\n",
      "  01 16th Hat.mid\n",
      "  02 16th Hat.mid\n",
      "  03 16th Hat.mid\n",
      "  04 8th Hat.mid\n",
      "  05 16th Hat.mid\n",
      "  06 16th Hat.mid\n",
      "  07 16th Hat.mid\n",
      "path ../datasets/drum_midi/50´s Drummer MIDI Files/06 Soul - Funk/06 JB Groove 115BPM\n",
      "  01 4th Hat.mid\n",
      "  02 16th Hat.mid\n",
      "  03 4th Hat.mid\n",
      "  04 4th Hat.mid\n",
      "  05 4th Hat.mid\n",
      "  06 8th Cym.mid\n",
      "  07 8th Cym.mid\n",
      "path ../datasets/drum_midi/50´s Drummer MIDI Files/06 Soul - Funk/07 Ride Swing 95Bpm\n",
      "  01 8th Cym.mid\n",
      "  02 8th Cym.mid\n",
      "  03 8th Cym.mid\n",
      "  04 8th Cym.mid\n",
      "  05 8th Hat.mid\n",
      "  06 8th Hat.mid\n",
      "  07 8th Hat.mid\n",
      "path ../datasets/drum_midi/50´s Drummer MIDI Files/06 Soul - Funk/08 Rim Soul 90BPM\n",
      "  01 4th Hat.mid\n",
      "  02 4th Hat.mid\n",
      "  03 4th Hat.mid\n",
      "  04 16th Hat.mid\n",
      "  05 16th Hat.mid\n",
      "  06 16th Hat.mid\n",
      "  07 16th Hat.mid\n",
      "path ../datasets/drum_midi/50´s Drummer MIDI Files/06 Soul - Funk/09 Smooth Soul 81BPM\n",
      "  01 16th Hat.mid\n",
      "  02 16th Hat.mid\n",
      "  03 16th Hat.mid\n",
      "  04 16th Hat.mid\n",
      "  05 16th Hat.mid\n",
      "  06 16th Hat.mid\n",
      "  07 16th Hat.mid\n",
      "path ../datasets/drum_midi/50´s Drummer MIDI Files/06 Soul - Funk/10 Syncopated Ride 128BPM\n",
      "  01 16th Cym.mid\n",
      "  02 16th Cym.mid\n",
      "  03 16th Cym.mid\n",
      "  04 16th Hat.mid\n",
      "  05 16th Hat.mid\n",
      "  06 16th Cym.mid\n",
      "  07 16th Hat.mid\n",
      "path ../datasets/drum_midi/50´s Drummer MIDI Files/07 Indie\n",
      "path ../datasets/drum_midi/50´s Drummer MIDI Files/07 Indie/01 Rock Shuffle 130BPM\n",
      "  01 8th Toms.mid\n",
      "  02 8th Hat.mid\n",
      "  03 8th Cym.mid\n",
      "  04 4th Cym.mid\n",
      "  05 12th Hat.mid\n",
      "  06 4th Hat.mid\n",
      "  07 12th Toms.mid\n",
      "path ../datasets/drum_midi/50´s Drummer MIDI Files/07 Indie/02 Rock Tribal 125BPM\n",
      "  01 4th Toms.mid\n",
      "  02 16th Hat.mid\n",
      "  03 4th Toms.mid\n",
      "  04 8th Cym.mid\n",
      "  05 2th Toms.mid\n",
      "  06 16th Hat.mid\n",
      "  07 16th Cym.mid\n",
      "path ../datasets/drum_midi/50´s Drummer MIDI Files/07 Indie/03 Moon 137BPM\n",
      "  01 8th Cym.mid\n",
      "  02 8th Hat.mid\n",
      "  03 8th Cym.mid\n",
      "  04 2th Toms.mid\n",
      "  05 4th Cym.mid\n",
      "  06 16th Hat.mid\n",
      "  07 8th Toms.mid\n",
      "path ../datasets/drum_midi/50´s Drummer MIDI Files/07 Indie/04 Titanic 97BPM\n",
      "  01 8th Hat.mid\n",
      "  02 16th Hat.mid\n",
      "  03 4th Cym.mid\n",
      "  04 8th Cym.mid\n",
      "  05 8th Hat.mid\n",
      "  06 8th Toms.mid\n",
      "  07 16th Cym.mid\n",
      "path ../datasets/drum_midi/50´s Drummer MIDI Files/07 Indie/05 Halftime 71BPM\n",
      "  01 16th Hat.mid\n",
      "  02 16th Cym.mid\n",
      "  03 16th Perc.mid\n",
      "  04 16th Cym.mid\n",
      "  05 16th Toms.mid\n",
      "  06 16th Ride.mid\n",
      "  07 8th Toms.mid\n",
      "path ../datasets/drum_midi/50´s Drummer MIDI Files/07 Indie/06 Swing Funk 102BPM\n",
      "  01 8th Hat.mid\n",
      "  02 8th Cym.mid\n",
      "  03 8th Hat.mid\n",
      "  04 8th Cym.mid\n",
      "  05 8th Hat.mid\n",
      "  06 8th Cym.mid\n",
      "  07 8th Cym.mid\n",
      "path ../datasets/drum_midi/50´s Drummer MIDI Files/07 Indie/07 Rock Keeler 133BPM\n",
      "  01 8th Hat.mid\n",
      "  02 4th Hat.mid\n",
      "  03 8th Toms.mid\n",
      "  04 8th Perc.mid\n",
      "  05 8th Hat.mid\n",
      "  06 8th Cym.mid\n",
      "  07 4th Cym.mid\n",
      "path ../datasets/drum_midi/50´s Drummer MIDI Files/07 Indie/08 Bouncer 162BPM\n",
      "  01 8th Cym.mid\n",
      "  02 8th Hat.mid\n",
      "  03 4th Hat.mid\n",
      "  04 8th Cym.mid\n",
      "  05 8th Hat.mid\n",
      "  06 8th Hat.mid\n",
      "  07 8th Cym.mid\n",
      "path ../datasets/drum_midi/50´s Drummer MIDI Files/07 Indie/09 Slow Shuffle 80BPM\n",
      "  01 4th Toms.mid\n",
      "  02 16th Hat.mid\n",
      "  03 16th Hat.mid\n",
      "  04 16th Cym.mid\n",
      "  05 8th Toms.mid\n",
      "  06 8th Toms.mid\n",
      "  07 16th Cym.mid\n",
      "path ../datasets/drum_midi/50´s Drummer MIDI Files/07 Indie/10 Chilled 120BPM\n",
      "  01 8th Cym.mid\n",
      "  02 8th Hat.mid\n",
      "  03 8th Cym.mid\n",
      "  04 8th Hat.mid\n",
      "  05 16th Hat.mid\n",
      "  06 8th Toms.mid\n",
      "  07 8th Toms.mid\n",
      "path ../datasets/drum_midi/50´s Drummer MIDI Files/07 Indie/11 Disco Dancer 135BPM\n",
      "  01 4th Hat .mid\n",
      "  02 8th Hat.mid\n",
      "  03 8th Hat.mid\n",
      "  04 16th Hat.mid\n",
      "  05 8th Cym.mid\n",
      "  06 4th Cym.mid\n",
      "  07 4th Perc.mid\n",
      "path ../datasets/drum_midi/50´s Drummer MIDI Files/07 Indie/12 Sticks Up 155BPM\n",
      "  01 8th Perc.mid\n",
      "  02 8th Hat.mid\n",
      "  03 16th Hat.mid\n",
      "  04 8th Cym.mid\n",
      "  05 8th Perc.mid\n",
      "  06 8th Perc.mid\n",
      "  07 8th Cym.mid\n"
     ]
    },
    {
     "name": "stdout",
     "output_type": "stream",
     "text": [
      "\n",
      "Encoding midi-data\n",
      " 500\n",
      "> -> multi-track = True none\n",
      "\u001b[92m [INFO] : \u001b[0m\n",
      " |  True\n"
     ]
    }
   ],
   "source": [
    "n = 500 * 1\n",
    "dim4 = True\n",
    "multiTrack = True\n",
    "reduce_dims = midi.ReduceDimsOptions.NONE # GLOBAL\n",
    "dn = 'drum_midi/'\n",
    "v = None # float | None\n",
    "x_train, labels = setup.import_data(context, n, dim4=dim4, reduce_dims=reduce_dims, \n",
    "    dirname=dn, multiTrack=multiTrack, velocity=v, r=True)"
   ]
  },
  {
   "cell_type": "code",
   "execution_count": 6,
   "metadata": {},
   "outputs": [],
   "source": [
    "genres = [string.extract_labels_from_filename(k) for k in labels]\n",
    "# genre_dict = setup.build_label_dict(genres)"
   ]
  },
  {
   "cell_type": "code",
   "execution_count": 7,
   "metadata": {},
   "outputs": [
    {
     "data": {
      "text/plain": [
       "[(0,\n",
       "  \"../datasets/drum_midi/50´s Drummer MIDI Files/01 Rock'n'Roll/01 Dancin Rick 166BPM/01 8th Hat.mid\"),\n",
       " (1,\n",
       "  \"../datasets/drum_midi/50´s Drummer MIDI Files/01 Rock'n'Roll/01 Dancin Rick 166BPM/02 8th Ride.mid\"),\n",
       " (2,\n",
       "  \"../datasets/drum_midi/50´s Drummer MIDI Files/01 Rock'n'Roll/01 Dancin Rick 166BPM/03 16th Snare.mid\"),\n",
       " (3,\n",
       "  \"../datasets/drum_midi/50´s Drummer MIDI Files/01 Rock'n'Roll/01 Dancin Rick 166BPM/04 8th Ride.mid\"),\n",
       " (4,\n",
       "  \"../datasets/drum_midi/50´s Drummer MIDI Files/01 Rock'n'Roll/01 Dancin Rick 166BPM/05 16th Ride.mid\"),\n",
       " (5,\n",
       "  \"../datasets/drum_midi/50´s Drummer MIDI Files/01 Rock'n'Roll/01 Dancin Rick 166BPM/06 16th Ride.mid\"),\n",
       " (6,\n",
       "  \"../datasets/drum_midi/50´s Drummer MIDI Files/01 Rock'n'Roll/01 Dancin Rick 166BPM/07 16th Ride.mid\"),\n",
       " (7,\n",
       "  \"../datasets/drum_midi/50´s Drummer MIDI Files/01 Rock'n'Roll/02 Gogo 191BPM/01 8th Hat.mid\"),\n",
       " (8,\n",
       "  \"../datasets/drum_midi/50´s Drummer MIDI Files/01 Rock'n'Roll/02 Gogo 191BPM/02 8th Snare.mid\"),\n",
       " (9,\n",
       "  \"../datasets/drum_midi/50´s Drummer MIDI Files/01 Rock'n'Roll/02 Gogo 191BPM/03 4th Snare .mid\"),\n",
       " (10,\n",
       "  \"../datasets/drum_midi/50´s Drummer MIDI Files/01 Rock'n'Roll/02 Gogo 191BPM/04 8th Ride.mid\"),\n",
       " (11,\n",
       "  \"../datasets/drum_midi/50´s Drummer MIDI Files/01 Rock'n'Roll/02 Gogo 191BPM/05 8th Snare.mid\"),\n",
       " (12,\n",
       "  \"../datasets/drum_midi/50´s Drummer MIDI Files/01 Rock'n'Roll/02 Gogo 191BPM/06 8th Toms.mid\"),\n",
       " (13,\n",
       "  \"../datasets/drum_midi/50´s Drummer MIDI Files/01 Rock'n'Roll/02 Gogo 191BPM/07 8th Toms.mid\"),\n",
       " (14,\n",
       "  \"../datasets/drum_midi/50´s Drummer MIDI Files/01 Rock'n'Roll/03 Lips n Hips 152BPM/01 8th Perc.mid\"),\n",
       " (15,\n",
       "  \"../datasets/drum_midi/50´s Drummer MIDI Files/01 Rock'n'Roll/03 Lips n Hips 152BPM/02 8th Ride.mid\"),\n",
       " (16,\n",
       "  \"../datasets/drum_midi/50´s Drummer MIDI Files/01 Rock'n'Roll/03 Lips n Hips 152BPM/03 8th Ride .mid\"),\n",
       " (17,\n",
       "  \"../datasets/drum_midi/50´s Drummer MIDI Files/01 Rock'n'Roll/03 Lips n Hips 152BPM/04 8th Snare.mid\"),\n",
       " (18,\n",
       "  \"../datasets/drum_midi/50´s Drummer MIDI Files/01 Rock'n'Roll/03 Lips n Hips 152BPM/05 8th Snare.mid\"),\n",
       " (19,\n",
       "  \"../datasets/drum_midi/50´s Drummer MIDI Files/01 Rock'n'Roll/03 Lips n Hips 152BPM/06 8th Hat.mid\"),\n",
       " (20,\n",
       "  \"../datasets/drum_midi/50´s Drummer MIDI Files/01 Rock'n'Roll/03 Lips n Hips 152BPM/07 8th Snare.mid\"),\n",
       " (21,\n",
       "  \"../datasets/drum_midi/50´s Drummer MIDI Files/01 Rock'n'Roll/04 Maybelline 233BPM/01 8th Snare.mid\"),\n",
       " (22,\n",
       "  \"../datasets/drum_midi/50´s Drummer MIDI Files/01 Rock'n'Roll/04 Maybelline 233BPM/02 8th Cym.mid\"),\n",
       " (23,\n",
       "  \"../datasets/drum_midi/50´s Drummer MIDI Files/01 Rock'n'Roll/04 Maybelline 233BPM/03 8th Ride.mid\"),\n",
       " (24,\n",
       "  \"../datasets/drum_midi/50´s Drummer MIDI Files/01 Rock'n'Roll/04 Maybelline 233BPM/04 16th Snare.mid\"),\n",
       " (25,\n",
       "  \"../datasets/drum_midi/50´s Drummer MIDI Files/01 Rock'n'Roll/04 Maybelline 233BPM/05 16th Hat.mid\"),\n",
       " (26,\n",
       "  \"../datasets/drum_midi/50´s Drummer MIDI Files/01 Rock'n'Roll/04 Maybelline 233BPM/06 16th Toms.mid\"),\n",
       " (27,\n",
       "  \"../datasets/drum_midi/50´s Drummer MIDI Files/01 Rock'n'Roll/04 Maybelline 233BPM/07 16th Ride.mid\"),\n",
       " (28,\n",
       "  \"../datasets/drum_midi/50´s Drummer MIDI Files/01 Rock'n'Roll/05 Straight Line 136BPM/01 8th Hat.mid\"),\n",
       " (29,\n",
       "  \"../datasets/drum_midi/50´s Drummer MIDI Files/01 Rock'n'Roll/05 Straight Line 136BPM/02 8th Ride.mid\"),\n",
       " (30,\n",
       "  \"../datasets/drum_midi/50´s Drummer MIDI Files/01 Rock'n'Roll/05 Straight Line 136BPM/03 8th Ride.mid\"),\n",
       " (31,\n",
       "  \"../datasets/drum_midi/50´s Drummer MIDI Files/01 Rock'n'Roll/05 Straight Line 136BPM/04 8th Perc.mid\"),\n",
       " (32,\n",
       "  \"../datasets/drum_midi/50´s Drummer MIDI Files/01 Rock'n'Roll/05 Straight Line 136BPM/05 8th Ride.mid\"),\n",
       " (33,\n",
       "  \"../datasets/drum_midi/50´s Drummer MIDI Files/01 Rock'n'Roll/05 Straight Line 136BPM/06 8th hat.mid\"),\n",
       " (34,\n",
       "  \"../datasets/drum_midi/50´s Drummer MIDI Files/01 Rock'n'Roll/05 Straight Line 136BPM/07 8th Toms.mid\"),\n",
       " (35,\n",
       "  \"../datasets/drum_midi/50´s Drummer MIDI Files/01 Rock'n'Roll/06 Moonglow 140BPM/01 8th Hat.mid\"),\n",
       " (36,\n",
       "  \"../datasets/drum_midi/50´s Drummer MIDI Files/01 Rock'n'Roll/06 Moonglow 140BPM/02 8th Hat.mid\"),\n",
       " (37,\n",
       "  \"../datasets/drum_midi/50´s Drummer MIDI Files/01 Rock'n'Roll/06 Moonglow 140BPM/03 8th Ride.mid\"),\n",
       " (38,\n",
       "  \"../datasets/drum_midi/50´s Drummer MIDI Files/01 Rock'n'Roll/06 Moonglow 140BPM/04 8th Perc.mid\"),\n",
       " (39,\n",
       "  \"../datasets/drum_midi/50´s Drummer MIDI Files/01 Rock'n'Roll/06 Moonglow 140BPM/05 8th Hat.mid\"),\n",
       " (40,\n",
       "  \"../datasets/drum_midi/50´s Drummer MIDI Files/01 Rock'n'Roll/06 Moonglow 140BPM/06 8th Perc.mid\"),\n",
       " (41,\n",
       "  \"../datasets/drum_midi/50´s Drummer MIDI Files/01 Rock'n'Roll/06 Moonglow 140BPM/07 8th Perc.mid\"),\n",
       " (42,\n",
       "  \"../datasets/drum_midi/50´s Drummer MIDI Files/01 Rock'n'Roll/07 Thwag 170BPM/01 8th Ride.mid\"),\n",
       " (43,\n",
       "  \"../datasets/drum_midi/50´s Drummer MIDI Files/01 Rock'n'Roll/07 Thwag 170BPM/02 8th Hat.mid\"),\n",
       " (44,\n",
       "  \"../datasets/drum_midi/50´s Drummer MIDI Files/01 Rock'n'Roll/07 Thwag 170BPM/03 8th Hat.mid\"),\n",
       " (45,\n",
       "  \"../datasets/drum_midi/50´s Drummer MIDI Files/01 Rock'n'Roll/07 Thwag 170BPM/04 8th Ride.mid\"),\n",
       " (46,\n",
       "  \"../datasets/drum_midi/50´s Drummer MIDI Files/01 Rock'n'Roll/07 Thwag 170BPM/05 8th Cym.mid\"),\n",
       " (47,\n",
       "  \"../datasets/drum_midi/50´s Drummer MIDI Files/01 Rock'n'Roll/07 Thwag 170BPM/06 8th Cym.mid\"),\n",
       " (48,\n",
       "  \"../datasets/drum_midi/50´s Drummer MIDI Files/01 Rock'n'Roll/07 Thwag 170BPM/07 8th Cym.mid\"),\n",
       " (49,\n",
       "  \"../datasets/drum_midi/50´s Drummer MIDI Files/01 Rock'n'Roll/08 Doowoop 140bpm/01 16th Snare.mid\"),\n",
       " (50,\n",
       "  \"../datasets/drum_midi/50´s Drummer MIDI Files/01 Rock'n'Roll/08 Doowoop 140bpm/02 16th Snare.mid\"),\n",
       " (51,\n",
       "  \"../datasets/drum_midi/50´s Drummer MIDI Files/01 Rock'n'Roll/08 Doowoop 140bpm/03 16th Snare.mid\"),\n",
       " (52,\n",
       "  \"../datasets/drum_midi/50´s Drummer MIDI Files/01 Rock'n'Roll/08 Doowoop 140bpm/04 16th Snare.mid\"),\n",
       " (53,\n",
       "  \"../datasets/drum_midi/50´s Drummer MIDI Files/01 Rock'n'Roll/08 Doowoop 140bpm/05 16th Snare.mid\"),\n",
       " (54,\n",
       "  \"../datasets/drum_midi/50´s Drummer MIDI Files/01 Rock'n'Roll/08 Doowoop 140bpm/06 16th Perc.mid\"),\n",
       " (55,\n",
       "  \"../datasets/drum_midi/50´s Drummer MIDI Files/01 Rock'n'Roll/08 Doowoop 140bpm/07 16th Perc.mid\"),\n",
       " (56,\n",
       "  \"../datasets/drum_midi/50´s Drummer MIDI Files/01 Rock'n'Roll/09 Diddeley 185bpm/01 4th Ride.mid\"),\n",
       " (57,\n",
       "  \"../datasets/drum_midi/50´s Drummer MIDI Files/01 Rock'n'Roll/09 Diddeley 185bpm/02 4th Ride.mid\"),\n",
       " (58,\n",
       "  \"../datasets/drum_midi/50´s Drummer MIDI Files/01 Rock'n'Roll/09 Diddeley 185bpm/03 4th Ride.mid\"),\n",
       " (59,\n",
       "  \"../datasets/drum_midi/50´s Drummer MIDI Files/01 Rock'n'Roll/09 Diddeley 185bpm/04 4th Hat.mid\"),\n",
       " (60,\n",
       "  \"../datasets/drum_midi/50´s Drummer MIDI Files/01 Rock'n'Roll/09 Diddeley 185bpm/05 8th Multi.mid\"),\n",
       " (61,\n",
       "  \"../datasets/drum_midi/50´s Drummer MIDI Files/01 Rock'n'Roll/09 Diddeley 185bpm/06 8th Multi.mid\"),\n",
       " (62,\n",
       "  \"../datasets/drum_midi/50´s Drummer MIDI Files/01 Rock'n'Roll/09 Diddeley 185bpm/07 8th Multi.mid\"),\n",
       " (63,\n",
       "  \"../datasets/drum_midi/50´s Drummer MIDI Files/01 Rock'n'Roll/10 Ottis 172bpm/01 8th Hat.mid\"),\n",
       " (64,\n",
       "  \"../datasets/drum_midi/50´s Drummer MIDI Files/01 Rock'n'Roll/10 Ottis 172bpm/02 8th Ride.mid\"),\n",
       " (65,\n",
       "  \"../datasets/drum_midi/50´s Drummer MIDI Files/01 Rock'n'Roll/10 Ottis 172bpm/03 8th Cym.mid\"),\n",
       " (66,\n",
       "  \"../datasets/drum_midi/50´s Drummer MIDI Files/01 Rock'n'Roll/10 Ottis 172bpm/04 8th Toms.mid\"),\n",
       " (67,\n",
       "  \"../datasets/drum_midi/50´s Drummer MIDI Files/01 Rock'n'Roll/10 Ottis 172bpm/05 8th Toms.mid\"),\n",
       " (68,\n",
       "  \"../datasets/drum_midi/50´s Drummer MIDI Files/01 Rock'n'Roll/10 Ottis 172bpm/06 8th Multi.mid\"),\n",
       " (69,\n",
       "  \"../datasets/drum_midi/50´s Drummer MIDI Files/01 Rock'n'Roll/10 Ottis 172bpm/07 8th Multi.mid\"),\n",
       " (70,\n",
       "  '../datasets/drum_midi/50´s Drummer MIDI Files/02 Blues/01 Booze 92BPM/01 8th Hat.mid'),\n",
       " (71,\n",
       "  '../datasets/drum_midi/50´s Drummer MIDI Files/02 Blues/01 Booze 92BPM/02 8th Snare.mid'),\n",
       " (72,\n",
       "  '../datasets/drum_midi/50´s Drummer MIDI Files/02 Blues/01 Booze 92BPM/03 8th Perc.mid'),\n",
       " (73,\n",
       "  '../datasets/drum_midi/50´s Drummer MIDI Files/02 Blues/01 Booze 92BPM/04 8th Ride.mid'),\n",
       " (74,\n",
       "  '../datasets/drum_midi/50´s Drummer MIDI Files/02 Blues/01 Booze 92BPM/05 8th Hat.mid'),\n",
       " (75,\n",
       "  '../datasets/drum_midi/50´s Drummer MIDI Files/02 Blues/01 Booze 92BPM/06 8th Toms.mid'),\n",
       " (76,\n",
       "  '../datasets/drum_midi/50´s Drummer MIDI Files/02 Blues/01 Booze 92BPM/07 8th Hat.mid'),\n",
       " (77,\n",
       "  '../datasets/drum_midi/50´s Drummer MIDI Files/02 Blues/02 Nappy Brown 160BPM/01 8th Hat.mid'),\n",
       " (78,\n",
       "  '../datasets/drum_midi/50´s Drummer MIDI Files/02 Blues/02 Nappy Brown 160BPM/02 8th Ride.mid'),\n",
       " (79,\n",
       "  '../datasets/drum_midi/50´s Drummer MIDI Files/02 Blues/02 Nappy Brown 160BPM/03 8th Perc.mid'),\n",
       " (80,\n",
       "  '../datasets/drum_midi/50´s Drummer MIDI Files/02 Blues/02 Nappy Brown 160BPM/04 8th Perc.mid'),\n",
       " (81,\n",
       "  '../datasets/drum_midi/50´s Drummer MIDI Files/02 Blues/02 Nappy Brown 160BPM/05 8th Cym.mid'),\n",
       " (82,\n",
       "  '../datasets/drum_midi/50´s Drummer MIDI Files/02 Blues/02 Nappy Brown 160BPM/06 8th Perc.mid'),\n",
       " (83,\n",
       "  '../datasets/drum_midi/50´s Drummer MIDI Files/02 Blues/02 Nappy Brown 160BPM/07 8th Hat.mid'),\n",
       " (84,\n",
       "  '../datasets/drum_midi/50´s Drummer MIDI Files/02 Blues/03 Noton Bull 192BPM 12-8 Brushes/01 4th Multi.mid'),\n",
       " (85,\n",
       "  '../datasets/drum_midi/50´s Drummer MIDI Files/02 Blues/03 Noton Bull 192BPM 12-8 Brushes/02 4th Multi.mid'),\n",
       " (86,\n",
       "  '../datasets/drum_midi/50´s Drummer MIDI Files/02 Blues/03 Noton Bull 192BPM 12-8 Brushes/03 4th Snare.mid'),\n",
       " (87,\n",
       "  '../datasets/drum_midi/50´s Drummer MIDI Files/02 Blues/03 Noton Bull 192BPM 12-8 Brushes/04 4th Perc.mid'),\n",
       " (88,\n",
       "  '../datasets/drum_midi/50´s Drummer MIDI Files/02 Blues/03 Noton Bull 192BPM 12-8 Brushes/04 4th Snare.mid'),\n",
       " (89,\n",
       "  '../datasets/drum_midi/50´s Drummer MIDI Files/02 Blues/03 Noton Bull 192BPM 12-8 Brushes/06 4th Multi.mid'),\n",
       " (90,\n",
       "  '../datasets/drum_midi/50´s Drummer MIDI Files/02 Blues/03 Noton Bull 192BPM 12-8 Brushes/07 4th Mulit.mid'),\n",
       " (91,\n",
       "  '../datasets/drum_midi/50´s Drummer MIDI Files/02 Blues/04 Mickeys 212BPM 12-8/01 8th Hat.mid'),\n",
       " (92,\n",
       "  '../datasets/drum_midi/50´s Drummer MIDI Files/02 Blues/04 Mickeys 212BPM 12-8/02 8th Hat.mid'),\n",
       " (93,\n",
       "  '../datasets/drum_midi/50´s Drummer MIDI Files/02 Blues/04 Mickeys 212BPM 12-8/03 8th Cym.mid'),\n",
       " (94,\n",
       "  '../datasets/drum_midi/50´s Drummer MIDI Files/02 Blues/04 Mickeys 212BPM 12-8/04 8th Toms.mid'),\n",
       " (95,\n",
       "  '../datasets/drum_midi/50´s Drummer MIDI Files/02 Blues/04 Mickeys 212BPM 12-8/05 8th Ride.mid'),\n",
       " (96,\n",
       "  '../datasets/drum_midi/50´s Drummer MIDI Files/02 Blues/04 Mickeys 212BPM 12-8/06 8th Multi.mid'),\n",
       " (97,\n",
       "  '../datasets/drum_midi/50´s Drummer MIDI Files/02 Blues/04 Mickeys 212BPM 12-8/07 8th perc.mid'),\n",
       " (98,\n",
       "  '../datasets/drum_midi/50´s Drummer MIDI Files/02 Blues/05 Cadillac 128BPM/01 8th Hat.mid'),\n",
       " (99,\n",
       "  '../datasets/drum_midi/50´s Drummer MIDI Files/02 Blues/05 Cadillac 128BPM/02 8th Hat.mid'),\n",
       " (100,\n",
       "  '../datasets/drum_midi/50´s Drummer MIDI Files/02 Blues/05 Cadillac 128BPM/03 8th Ride.mid'),\n",
       " (101,\n",
       "  '../datasets/drum_midi/50´s Drummer MIDI Files/02 Blues/05 Cadillac 128BPM/04 8th Perc.mid'),\n",
       " (102,\n",
       "  '../datasets/drum_midi/50´s Drummer MIDI Files/02 Blues/05 Cadillac 128BPM/05 8th Perc.mid'),\n",
       " (103,\n",
       "  '../datasets/drum_midi/50´s Drummer MIDI Files/02 Blues/05 Cadillac 128BPM/06 8th Perc.mid'),\n",
       " (104,\n",
       "  '../datasets/drum_midi/50´s Drummer MIDI Files/02 Blues/05 Cadillac 128BPM/07 8th Perc.mid'),\n",
       " (105,\n",
       "  '../datasets/drum_midi/50´s Drummer MIDI Files/02 Blues/06 Vidar Vega 70BPM/01 8th Hat.mid'),\n",
       " (106,\n",
       "  '../datasets/drum_midi/50´s Drummer MIDI Files/02 Blues/06 Vidar Vega 70BPM/02 8th Hat.mid'),\n",
       " (107,\n",
       "  '../datasets/drum_midi/50´s Drummer MIDI Files/02 Blues/06 Vidar Vega 70BPM/03 8th Hat.mid'),\n",
       " (108,\n",
       "  '../datasets/drum_midi/50´s Drummer MIDI Files/02 Blues/06 Vidar Vega 70BPM/04 8th Hat.mid'),\n",
       " (109,\n",
       "  '../datasets/drum_midi/50´s Drummer MIDI Files/02 Blues/06 Vidar Vega 70BPM/05 8th Toms.mid'),\n",
       " (110,\n",
       "  '../datasets/drum_midi/50´s Drummer MIDI Files/02 Blues/06 Vidar Vega 70BPM/06 8th Toms.mid'),\n",
       " (111,\n",
       "  '../datasets/drum_midi/50´s Drummer MIDI Files/02 Blues/06 Vidar Vega 70BPM/07 8th Ride.mid'),\n",
       " (112,\n",
       "  '../datasets/drum_midi/50´s Drummer MIDI Files/02 Blues/07 Straight 88BPM/01 8th Hat.mid'),\n",
       " (113,\n",
       "  '../datasets/drum_midi/50´s Drummer MIDI Files/02 Blues/07 Straight 88BPM/02 8th Ride.mid'),\n",
       " (114,\n",
       "  '../datasets/drum_midi/50´s Drummer MIDI Files/02 Blues/07 Straight 88BPM/03 16th Hat.mid'),\n",
       " (115,\n",
       "  '../datasets/drum_midi/50´s Drummer MIDI Files/02 Blues/07 Straight 88BPM/04 16th Perc.mid'),\n",
       " (116,\n",
       "  '../datasets/drum_midi/50´s Drummer MIDI Files/02 Blues/07 Straight 88BPM/05 8th Hat.mid'),\n",
       " (117,\n",
       "  '../datasets/drum_midi/50´s Drummer MIDI Files/02 Blues/07 Straight 88BPM/06 16th Hat.mid'),\n",
       " (118,\n",
       "  '../datasets/drum_midi/50´s Drummer MIDI Files/02 Blues/07 Straight 88BPM/07 16th Ride.mid'),\n",
       " (119,\n",
       "  '../datasets/drum_midi/50´s Drummer MIDI Files/02 Blues/08 Sams 127BPM/01 8th Hat.mid'),\n",
       " (120,\n",
       "  '../datasets/drum_midi/50´s Drummer MIDI Files/02 Blues/08 Sams 127BPM/02 8th Hat.mid'),\n",
       " (121,\n",
       "  '../datasets/drum_midi/50´s Drummer MIDI Files/02 Blues/08 Sams 127BPM/03 8th Ride.mid'),\n",
       " (122,\n",
       "  '../datasets/drum_midi/50´s Drummer MIDI Files/02 Blues/08 Sams 127BPM/04 8th Hat.mid'),\n",
       " (123,\n",
       "  '../datasets/drum_midi/50´s Drummer MIDI Files/02 Blues/08 Sams 127BPM/05 8th Perc.mid'),\n",
       " (124,\n",
       "  '../datasets/drum_midi/50´s Drummer MIDI Files/02 Blues/08 Sams 127BPM/06 8th Perc.mid'),\n",
       " (125,\n",
       "  '../datasets/drum_midi/50´s Drummer MIDI Files/02 Blues/08 Sams 127BPM/07 8th Perc.mid'),\n",
       " (126,\n",
       "  '../datasets/drum_midi/50´s Drummer MIDI Files/02 Blues/09 Leroyes 130BPM/01 8th Hat.mid'),\n",
       " (127,\n",
       "  '../datasets/drum_midi/50´s Drummer MIDI Files/02 Blues/09 Leroyes 130BPM/02 8th Hat.mid'),\n",
       " (128,\n",
       "  '../datasets/drum_midi/50´s Drummer MIDI Files/02 Blues/09 Leroyes 130BPM/03 8th Ride.mid'),\n",
       " (129,\n",
       "  '../datasets/drum_midi/50´s Drummer MIDI Files/02 Blues/09 Leroyes 130BPM/04 8th Ride.mid'),\n",
       " (130,\n",
       "  '../datasets/drum_midi/50´s Drummer MIDI Files/02 Blues/09 Leroyes 130BPM/05 8th Perc.mid'),\n",
       " (131,\n",
       "  '../datasets/drum_midi/50´s Drummer MIDI Files/02 Blues/09 Leroyes 130BPM/06 8th Perc.mid'),\n",
       " (132,\n",
       "  '../datasets/drum_midi/50´s Drummer MIDI Files/02 Blues/09 Leroyes 130BPM/07 8th Ride.mid'),\n",
       " (133,\n",
       "  '../datasets/drum_midi/50´s Drummer MIDI Files/02 Blues/10 Bogeart 122BPM/01 4th Hat.mid'),\n",
       " (134,\n",
       "  '../datasets/drum_midi/50´s Drummer MIDI Files/02 Blues/10 Bogeart 122BPM/02 8th Hat.mid'),\n",
       " (135,\n",
       "  '../datasets/drum_midi/50´s Drummer MIDI Files/02 Blues/10 Bogeart 122BPM/03 8th Ride.mid'),\n",
       " (136,\n",
       "  '../datasets/drum_midi/50´s Drummer MIDI Files/02 Blues/10 Bogeart 122BPM/04 8th Cym.mid'),\n",
       " (137,\n",
       "  '../datasets/drum_midi/50´s Drummer MIDI Files/02 Blues/10 Bogeart 122BPM/05 8th Perc.mid'),\n",
       " (138,\n",
       "  '../datasets/drum_midi/50´s Drummer MIDI Files/02 Blues/10 Bogeart 122BPM/06 8th Perc.mid'),\n",
       " (139,\n",
       "  '../datasets/drum_midi/50´s Drummer MIDI Files/02 Blues/10 Bogeart 122BPM/07 8th Toms.mid'),\n",
       " (140,\n",
       "  '../datasets/drum_midi/50´s Drummer MIDI Files/03 Traditional Pop/01 Fly High 115BPM/01 8th Hat.mid'),\n",
       " (141,\n",
       "  '../datasets/drum_midi/50´s Drummer MIDI Files/03 Traditional Pop/01 Fly High 115BPM/02 8th Hat.mid'),\n",
       " (142,\n",
       "  '../datasets/drum_midi/50´s Drummer MIDI Files/03 Traditional Pop/01 Fly High 115BPM/03 8th Hat.mid'),\n",
       " (143,\n",
       "  '../datasets/drum_midi/50´s Drummer MIDI Files/03 Traditional Pop/01 Fly High 115BPM/04 8th Hat.mid'),\n",
       " (144,\n",
       "  '../datasets/drum_midi/50´s Drummer MIDI Files/03 Traditional Pop/01 Fly High 115BPM/05 8th Ride.mid'),\n",
       " (145,\n",
       "  '../datasets/drum_midi/50´s Drummer MIDI Files/03 Traditional Pop/01 Fly High 115BPM/06 8th Ride.mid'),\n",
       " (146,\n",
       "  '../datasets/drum_midi/50´s Drummer MIDI Files/03 Traditional Pop/01 Fly High 115BPM/07 8th Multi.mid'),\n",
       " (147,\n",
       "  '../datasets/drum_midi/50´s Drummer MIDI Files/03 Traditional Pop/02 Frankies Girl 116BPM/01 8th Perc.mid'),\n",
       " (148,\n",
       "  '../datasets/drum_midi/50´s Drummer MIDI Files/03 Traditional Pop/02 Frankies Girl 116BPM/02 8th Hat.mid'),\n",
       " (149,\n",
       "  '../datasets/drum_midi/50´s Drummer MIDI Files/03 Traditional Pop/02 Frankies Girl 116BPM/03 8th Hat.mid'),\n",
       " (150,\n",
       "  '../datasets/drum_midi/50´s Drummer MIDI Files/03 Traditional Pop/02 Frankies Girl 116BPM/04 8th Ride.mid'),\n",
       " (151,\n",
       "  '../datasets/drum_midi/50´s Drummer MIDI Files/03 Traditional Pop/02 Frankies Girl 116BPM/05 8th Ride.mid'),\n",
       " (152,\n",
       "  '../datasets/drum_midi/50´s Drummer MIDI Files/03 Traditional Pop/02 Frankies Girl 116BPM/06 8th Ride.mid'),\n",
       " (153,\n",
       "  '../datasets/drum_midi/50´s Drummer MIDI Files/03 Traditional Pop/02 Frankies Girl 116BPM/07 8th Multi.mid'),\n",
       " (154,\n",
       "  '../datasets/drum_midi/50´s Drummer MIDI Files/03 Traditional Pop/03 King Quiza 102BPM/01 8th Perc.mid'),\n",
       " (155,\n",
       "  '../datasets/drum_midi/50´s Drummer MIDI Files/03 Traditional Pop/03 King Quiza 102BPM/02 8th Hat.mid'),\n",
       " (156,\n",
       "  '../datasets/drum_midi/50´s Drummer MIDI Files/03 Traditional Pop/03 King Quiza 102BPM/03 8th Ride.mid'),\n",
       " (157,\n",
       "  '../datasets/drum_midi/50´s Drummer MIDI Files/03 Traditional Pop/03 King Quiza 102BPM/04 16th Ride.mid'),\n",
       " (158,\n",
       "  '../datasets/drum_midi/50´s Drummer MIDI Files/03 Traditional Pop/03 King Quiza 102BPM/05 16th Snare.mid'),\n",
       " (159,\n",
       "  '../datasets/drum_midi/50´s Drummer MIDI Files/03 Traditional Pop/03 King Quiza 102BPM/06 16th Toms.mid'),\n",
       " (160,\n",
       "  '../datasets/drum_midi/50´s Drummer MIDI Files/03 Traditional Pop/03 King Quiza 102BPM/07 16th Multi.mid'),\n",
       " (161,\n",
       "  '../datasets/drum_midi/50´s Drummer MIDI Files/03 Traditional Pop/04 Love 155BPM/01 8th Hat.mid'),\n",
       " (162,\n",
       "  '../datasets/drum_midi/50´s Drummer MIDI Files/03 Traditional Pop/04 Love 155BPM/02 8th Hat.mid'),\n",
       " (163,\n",
       "  '../datasets/drum_midi/50´s Drummer MIDI Files/03 Traditional Pop/04 Love 155BPM/03 8th Ride.mid'),\n",
       " (164,\n",
       "  '../datasets/drum_midi/50´s Drummer MIDI Files/03 Traditional Pop/04 Love 155BPM/04 8th Ride.mid'),\n",
       " (165,\n",
       "  '../datasets/drum_midi/50´s Drummer MIDI Files/03 Traditional Pop/04 Love 155BPM/05 8th Ride.mid'),\n",
       " (166,\n",
       "  '../datasets/drum_midi/50´s Drummer MIDI Files/03 Traditional Pop/04 Love 155BPM/06 8th Hat.mid'),\n",
       " (167,\n",
       "  '../datasets/drum_midi/50´s Drummer MIDI Files/03 Traditional Pop/04 Love 155BPM/07 8th Perc.mid'),\n",
       " (168,\n",
       "  '../datasets/drum_midi/50´s Drummer MIDI Files/03 Traditional Pop/05 Your Eyes 80BPM/01 8th Ride.mid'),\n",
       " (169,\n",
       "  '../datasets/drum_midi/50´s Drummer MIDI Files/03 Traditional Pop/05 Your Eyes 80BPM/02 8th Ride.mid'),\n",
       " (170,\n",
       "  '../datasets/drum_midi/50´s Drummer MIDI Files/03 Traditional Pop/05 Your Eyes 80BPM/03 16th Ride.mid'),\n",
       " (171,\n",
       "  '../datasets/drum_midi/50´s Drummer MIDI Files/03 Traditional Pop/05 Your Eyes 80BPM/04 16th Toms.mid'),\n",
       " (172,\n",
       "  '../datasets/drum_midi/50´s Drummer MIDI Files/03 Traditional Pop/05 Your Eyes 80BPM/05 16th Hat.mid'),\n",
       " (173,\n",
       "  '../datasets/drum_midi/50´s Drummer MIDI Files/03 Traditional Pop/05 Your Eyes 80BPM/06 8th Snare.mid'),\n",
       " (174,\n",
       "  '../datasets/drum_midi/50´s Drummer MIDI Files/03 Traditional Pop/05 Your Eyes 80BPM/07 8th hat.mid'),\n",
       " (175,\n",
       "  '../datasets/drum_midi/50´s Drummer MIDI Files/03 Traditional Pop/06 Bopop 130MPM/01 8th Hat.mid'),\n",
       " (176,\n",
       "  '../datasets/drum_midi/50´s Drummer MIDI Files/03 Traditional Pop/06 Bopop 130MPM/02 8th Ride.mid'),\n",
       " (177,\n",
       "  '../datasets/drum_midi/50´s Drummer MIDI Files/03 Traditional Pop/06 Bopop 130MPM/03 8th Ride.mid'),\n",
       " (178,\n",
       "  '../datasets/drum_midi/50´s Drummer MIDI Files/03 Traditional Pop/06 Bopop 130MPM/04 8th Toms.mid'),\n",
       " (179,\n",
       "  '../datasets/drum_midi/50´s Drummer MIDI Files/03 Traditional Pop/06 Bopop 130MPM/05 8th Hat.mid'),\n",
       " (180,\n",
       "  '../datasets/drum_midi/50´s Drummer MIDI Files/03 Traditional Pop/06 Bopop 130MPM/06 8th Hat.mid'),\n",
       " (181,\n",
       "  '../datasets/drum_midi/50´s Drummer MIDI Files/03 Traditional Pop/06 Bopop 130MPM/07 8th Hat.mid'),\n",
       " (182,\n",
       "  '../datasets/drum_midi/50´s Drummer MIDI Files/03 Traditional Pop/07 Lester Lee 133BPM/01 8th Hat.mid'),\n",
       " (183,\n",
       "  '../datasets/drum_midi/50´s Drummer MIDI Files/03 Traditional Pop/07 Lester Lee 133BPM/02 8th Ride.mid'),\n",
       " (184,\n",
       "  '../datasets/drum_midi/50´s Drummer MIDI Files/03 Traditional Pop/07 Lester Lee 133BPM/03 8th Hat.mid'),\n",
       " (185,\n",
       "  '../datasets/drum_midi/50´s Drummer MIDI Files/03 Traditional Pop/07 Lester Lee 133BPM/04 8th Perc.mid'),\n",
       " (186,\n",
       "  '../datasets/drum_midi/50´s Drummer MIDI Files/03 Traditional Pop/07 Lester Lee 133BPM/05 8th Perc.mid'),\n",
       " (187,\n",
       "  '../datasets/drum_midi/50´s Drummer MIDI Files/03 Traditional Pop/07 Lester Lee 133BPM/06 8th Toms.mid'),\n",
       " (188,\n",
       "  '../datasets/drum_midi/50´s Drummer MIDI Files/03 Traditional Pop/07 Lester Lee 133BPM/07 8th Ride.mid'),\n",
       " (189,\n",
       "  '../datasets/drum_midi/50´s Drummer MIDI Files/03 Traditional Pop/08 Cecil Cee 101BPM/01 8th Ride.mid'),\n",
       " (190,\n",
       "  '../datasets/drum_midi/50´s Drummer MIDI Files/03 Traditional Pop/08 Cecil Cee 101BPM/02 8th Ride.mid'),\n",
       " (191,\n",
       "  '../datasets/drum_midi/50´s Drummer MIDI Files/03 Traditional Pop/08 Cecil Cee 101BPM/03 16th Hat.mid'),\n",
       " (192,\n",
       "  '../datasets/drum_midi/50´s Drummer MIDI Files/03 Traditional Pop/08 Cecil Cee 101BPM/04 16th Hat.mid'),\n",
       " (193,\n",
       "  '../datasets/drum_midi/50´s Drummer MIDI Files/03 Traditional Pop/08 Cecil Cee 101BPM/05 16th Hat.mid'),\n",
       " (194,\n",
       "  '../datasets/drum_midi/50´s Drummer MIDI Files/03 Traditional Pop/08 Cecil Cee 101BPM/06 16th Perc.mid'),\n",
       " (195,\n",
       "  '../datasets/drum_midi/50´s Drummer MIDI Files/03 Traditional Pop/08 Cecil Cee 101BPM/07 16th Toms.mid'),\n",
       " (196,\n",
       "  '../datasets/drum_midi/50´s Drummer MIDI Files/03 Traditional Pop/09 Distel 155BPM/01 8th Ride.mid'),\n",
       " (197,\n",
       "  '../datasets/drum_midi/50´s Drummer MIDI Files/03 Traditional Pop/09 Distel 155BPM/02 8th Ride.mid'),\n",
       " (198,\n",
       "  '../datasets/drum_midi/50´s Drummer MIDI Files/03 Traditional Pop/09 Distel 155BPM/03 8th Hat.mid'),\n",
       " (199,\n",
       "  '../datasets/drum_midi/50´s Drummer MIDI Files/03 Traditional Pop/09 Distel 155BPM/04 8th Tom.mid'),\n",
       " (200,\n",
       "  '../datasets/drum_midi/50´s Drummer MIDI Files/03 Traditional Pop/09 Distel 155BPM/05 8th Tom.mid'),\n",
       " (201,\n",
       "  '../datasets/drum_midi/50´s Drummer MIDI Files/03 Traditional Pop/09 Distel 155BPM/06 8th Perc.mid'),\n",
       " (202,\n",
       "  '../datasets/drum_midi/50´s Drummer MIDI Files/03 Traditional Pop/09 Distel 155BPM/07 8th Perc.mid'),\n",
       " (203,\n",
       "  '../datasets/drum_midi/50´s Drummer MIDI Files/03 Traditional Pop/10 Frewild 152BPM/01 4th Hat.mid'),\n",
       " (204,\n",
       "  '../datasets/drum_midi/50´s Drummer MIDI Files/03 Traditional Pop/10 Frewild 152BPM/03 16th Hat.mid'),\n",
       " (205,\n",
       "  '../datasets/drum_midi/50´s Drummer MIDI Files/03 Traditional Pop/10 Frewild 152BPM/03 4th Hat.mid'),\n",
       " (206,\n",
       "  '../datasets/drum_midi/50´s Drummer MIDI Files/03 Traditional Pop/10 Frewild 152BPM/04 16th Ride.mid'),\n",
       " (207,\n",
       "  '../datasets/drum_midi/50´s Drummer MIDI Files/03 Traditional Pop/10 Frewild 152BPM/05 16th Toms.mid'),\n",
       " (208,\n",
       "  '../datasets/drum_midi/50´s Drummer MIDI Files/03 Traditional Pop/10 Frewild 152BPM/06 16th Perc.mid'),\n",
       " (209,\n",
       "  '../datasets/drum_midi/50´s Drummer MIDI Files/03 Traditional Pop/10 Frewild 152BPM/07 16th Multi.mid'),\n",
       " (210,\n",
       "  '../datasets/drum_midi/50´s Drummer MIDI Files/04 Country/01 Calvin 148BPM/01 8th Snare.mid'),\n",
       " (211,\n",
       "  '../datasets/drum_midi/50´s Drummer MIDI Files/04 Country/01 Calvin 148BPM/02 8th Snare.mid'),\n",
       " (212,\n",
       "  '../datasets/drum_midi/50´s Drummer MIDI Files/04 Country/01 Calvin 148BPM/03 8th Snare.mid'),\n",
       " (213,\n",
       "  '../datasets/drum_midi/50´s Drummer MIDI Files/04 Country/01 Calvin 148BPM/04 8th Hat.mid'),\n",
       " (214,\n",
       "  '../datasets/drum_midi/50´s Drummer MIDI Files/04 Country/01 Calvin 148BPM/05 8th Hat.mid'),\n",
       " (215,\n",
       "  '../datasets/drum_midi/50´s Drummer MIDI Files/04 Country/01 Calvin 148BPM/06 8th Toms.mid'),\n",
       " (216,\n",
       "  '../datasets/drum_midi/50´s Drummer MIDI Files/04 Country/01 Calvin 148BPM/07 8th Multi.mid'),\n",
       " (217,\n",
       "  '../datasets/drum_midi/50´s Drummer MIDI Files/04 Country/02 Marching 94BPM/01 8th Snare.mid'),\n",
       " (218,\n",
       "  '../datasets/drum_midi/50´s Drummer MIDI Files/04 Country/02 Marching 94BPM/02 8th Snare.mid'),\n",
       " (219,\n",
       "  '../datasets/drum_midi/50´s Drummer MIDI Files/04 Country/02 Marching 94BPM/03 8th Perc.mid'),\n",
       " (220,\n",
       "  '../datasets/drum_midi/50´s Drummer MIDI Files/04 Country/02 Marching 94BPM/04 8th Toms.mid'),\n",
       " (221,\n",
       "  '../datasets/drum_midi/50´s Drummer MIDI Files/04 Country/02 Marching 94BPM/05 8th Snare.mid'),\n",
       " (222,\n",
       "  '../datasets/drum_midi/50´s Drummer MIDI Files/04 Country/02 Marching 94BPM/06 8th Multi.mid'),\n",
       " (223,\n",
       "  '../datasets/drum_midi/50´s Drummer MIDI Files/04 Country/02 Marching 94BPM/07 8th Multi.mid'),\n",
       " (224,\n",
       "  '../datasets/drum_midi/50´s Drummer MIDI Files/04 Country/03 Straight 72BPM Brushes/01 8th Snare.mid'),\n",
       " (225,\n",
       "  '../datasets/drum_midi/50´s Drummer MIDI Files/04 Country/03 Straight 72BPM Brushes/02 8th Hat.mid'),\n",
       " (226,\n",
       "  '../datasets/drum_midi/50´s Drummer MIDI Files/04 Country/03 Straight 72BPM Brushes/03 8th Snare.mid'),\n",
       " (227,\n",
       "  '../datasets/drum_midi/50´s Drummer MIDI Files/04 Country/03 Straight 72BPM Brushes/04 8th Snare.mid'),\n",
       " (228,\n",
       "  '../datasets/drum_midi/50´s Drummer MIDI Files/04 Country/03 Straight 72BPM Brushes/05 8th Multi.mid'),\n",
       " (229,\n",
       "  '../datasets/drum_midi/50´s Drummer MIDI Files/04 Country/03 Straight 72BPM Brushes/06 8th Multi.mid'),\n",
       " (230,\n",
       "  '../datasets/drum_midi/50´s Drummer MIDI Files/04 Country/03 Straight 72BPM Brushes/07 8th Snare.mid'),\n",
       " (231,\n",
       "  '../datasets/drum_midi/50´s Drummer MIDI Files/04 Country/04 Snarey 208BPM 3-4/01 8th Snare.mid'),\n",
       " (232,\n",
       "  '../datasets/drum_midi/50´s Drummer MIDI Files/04 Country/04 Snarey 208BPM 3-4/02 8th Snare.mid'),\n",
       " (233,\n",
       "  '../datasets/drum_midi/50´s Drummer MIDI Files/04 Country/04 Snarey 208BPM 3-4/03 8th Snare.mid'),\n",
       " (234,\n",
       "  '../datasets/drum_midi/50´s Drummer MIDI Files/04 Country/04 Snarey 208BPM 3-4/04 8th Snare.mid'),\n",
       " (235,\n",
       "  '../datasets/drum_midi/50´s Drummer MIDI Files/04 Country/04 Snarey 208BPM 3-4/05 8th Snare.mid'),\n",
       " (236,\n",
       "  '../datasets/drum_midi/50´s Drummer MIDI Files/04 Country/04 Snarey 208BPM 3-4/06 8th Snare.mid'),\n",
       " (237,\n",
       "  '../datasets/drum_midi/50´s Drummer MIDI Files/04 Country/04 Snarey 208BPM 3-4/07 8th Perc.mid'),\n",
       " (238,\n",
       "  '../datasets/drum_midi/50´s Drummer MIDI Files/04 Country/05 Brewer 160BPM/01 8th Perc.mid'),\n",
       " (239,\n",
       "  '../datasets/drum_midi/50´s Drummer MIDI Files/04 Country/05 Brewer 160BPM/02 8th Hat.mid'),\n",
       " (240,\n",
       "  '../datasets/drum_midi/50´s Drummer MIDI Files/04 Country/05 Brewer 160BPM/03 8th Ride.mid'),\n",
       " (241,\n",
       "  '../datasets/drum_midi/50´s Drummer MIDI Files/04 Country/05 Brewer 160BPM/04 8th Snare.mid'),\n",
       " (242,\n",
       "  '../datasets/drum_midi/50´s Drummer MIDI Files/04 Country/05 Brewer 160BPM/05 8th Toms.mid'),\n",
       " (243,\n",
       "  '../datasets/drum_midi/50´s Drummer MIDI Files/04 Country/05 Brewer 160BPM/06 8th Perc.mid'),\n",
       " (244,\n",
       "  '../datasets/drum_midi/50´s Drummer MIDI Files/04 Country/05 Brewer 160BPM/07 8th Perc.mid'),\n",
       " (245,\n",
       "  '../datasets/drum_midi/50´s Drummer MIDI Files/04 Country/06 Booker 170BPM/01 8th Hat.mid'),\n",
       " (246,\n",
       "  '../datasets/drum_midi/50´s Drummer MIDI Files/04 Country/06 Booker 170BPM/02 8th Hat.mid'),\n",
       " (247,\n",
       "  '../datasets/drum_midi/50´s Drummer MIDI Files/04 Country/06 Booker 170BPM/03 8th Hat.mid'),\n",
       " (248,\n",
       "  '../datasets/drum_midi/50´s Drummer MIDI Files/04 Country/06 Booker 170BPM/04 8th Ride.mid'),\n",
       " (249,\n",
       "  '../datasets/drum_midi/50´s Drummer MIDI Files/04 Country/06 Booker 170BPM/05 8th Perc.mid'),\n",
       " (250,\n",
       "  '../datasets/drum_midi/50´s Drummer MIDI Files/04 Country/06 Booker 170BPM/06 8th Hat.mid'),\n",
       " (251,\n",
       "  '../datasets/drum_midi/50´s Drummer MIDI Files/04 Country/06 Booker 170BPM/07 8th Hat.mid'),\n",
       " (252,\n",
       "  '../datasets/drum_midi/50´s Drummer MIDI Files/04 Country/07 Trainy 100BPM/01 16th Snare.mid'),\n",
       " (253,\n",
       "  '../datasets/drum_midi/50´s Drummer MIDI Files/04 Country/07 Trainy 100BPM/02 16th Snare.mid'),\n",
       " (254,\n",
       "  '../datasets/drum_midi/50´s Drummer MIDI Files/04 Country/07 Trainy 100BPM/03 16th Toms.mid'),\n",
       " (255,\n",
       "  '../datasets/drum_midi/50´s Drummer MIDI Files/04 Country/07 Trainy 100BPM/04 16th Toms.mid'),\n",
       " (256,\n",
       "  '../datasets/drum_midi/50´s Drummer MIDI Files/04 Country/07 Trainy 100BPM/05 16th Perc.mid'),\n",
       " (257,\n",
       "  '../datasets/drum_midi/50´s Drummer MIDI Files/04 Country/07 Trainy 100BPM/06 16th Perc.mid'),\n",
       " (258,\n",
       "  '../datasets/drum_midi/50´s Drummer MIDI Files/04 Country/07 Trainy 100BPM/07 16th Perc.mid'),\n",
       " (259,\n",
       "  '../datasets/drum_midi/50´s Drummer MIDI Files/04 Country/08 Eddie Ed 111BPM/01 8th Hat.mid'),\n",
       " (260,\n",
       "  '../datasets/drum_midi/50´s Drummer MIDI Files/04 Country/08 Eddie Ed 111BPM/02 8th Hat.mid'),\n",
       " (261,\n",
       "  '../datasets/drum_midi/50´s Drummer MIDI Files/04 Country/08 Eddie Ed 111BPM/03 8th Hat.mid'),\n",
       " (262,\n",
       "  '../datasets/drum_midi/50´s Drummer MIDI Files/04 Country/08 Eddie Ed 111BPM/04 4th Cym.mid'),\n",
       " (263,\n",
       "  '../datasets/drum_midi/50´s Drummer MIDI Files/04 Country/08 Eddie Ed 111BPM/05 8th Tom.mid'),\n",
       " (264,\n",
       "  '../datasets/drum_midi/50´s Drummer MIDI Files/04 Country/08 Eddie Ed 111BPM/06 8th Perc.mid'),\n",
       " (265,\n",
       "  '../datasets/drum_midi/50´s Drummer MIDI Files/04 Country/08 Eddie Ed 111BPM/07 8th Perc.mid'),\n",
       " (266,\n",
       "  '../datasets/drum_midi/50´s Drummer MIDI Files/04 Country/09 Broonze 122BPM/01 8th Hat.mid'),\n",
       " (267,\n",
       "  '../datasets/drum_midi/50´s Drummer MIDI Files/04 Country/09 Broonze 122BPM/02 8th Hat.mid'),\n",
       " (268,\n",
       "  '../datasets/drum_midi/50´s Drummer MIDI Files/04 Country/09 Broonze 122BPM/03 8th Ride.mid'),\n",
       " (269,\n",
       "  '../datasets/drum_midi/50´s Drummer MIDI Files/04 Country/09 Broonze 122BPM/04 8th Hat.mid'),\n",
       " (270,\n",
       "  '../datasets/drum_midi/50´s Drummer MIDI Files/04 Country/09 Broonze 122BPM/05 8th Cym.mid'),\n",
       " (271,\n",
       "  '../datasets/drum_midi/50´s Drummer MIDI Files/04 Country/09 Broonze 122BPM/06 8th Perc.mid'),\n",
       " (272,\n",
       "  '../datasets/drum_midi/50´s Drummer MIDI Files/04 Country/09 Broonze 122BPM/07 8th Tom.mid'),\n",
       " (273,\n",
       "  '../datasets/drum_midi/50´s Drummer MIDI Files/04 Country/10 Rough Rider 183BPM/01 8th Perc.mid'),\n",
       " (274,\n",
       "  '../datasets/drum_midi/50´s Drummer MIDI Files/04 Country/10 Rough Rider 183BPM/02 8th Perc.mid'),\n",
       " (275,\n",
       "  '../datasets/drum_midi/50´s Drummer MIDI Files/04 Country/10 Rough Rider 183BPM/03 8th Hat.mid'),\n",
       " (276,\n",
       "  '../datasets/drum_midi/50´s Drummer MIDI Files/04 Country/10 Rough Rider 183BPM/04 8th Ride.mid'),\n",
       " (277,\n",
       "  '../datasets/drum_midi/50´s Drummer MIDI Files/04 Country/10 Rough Rider 183BPM/05 8th Toms.mid'),\n",
       " (278,\n",
       "  '../datasets/drum_midi/50´s Drummer MIDI Files/04 Country/10 Rough Rider 183BPM/06 8th Multi.mid'),\n",
       " (279,\n",
       "  '../datasets/drum_midi/50´s Drummer MIDI Files/04 Country/10 Rough Rider 183BPM/07 8th Hat.mid'),\n",
       " (280,\n",
       "  '../datasets/drum_midi/50´s Drummer MIDI Files/05 Jazz/01 Amel 85BPM Brushes/01 8th Snare.mid'),\n",
       " (281,\n",
       "  '../datasets/drum_midi/50´s Drummer MIDI Files/05 Jazz/01 Amel 85BPM Brushes/02 8th Snare.mid'),\n",
       " (282,\n",
       "  '../datasets/drum_midi/50´s Drummer MIDI Files/05 Jazz/01 Amel 85BPM Brushes/03 8th HiHat.mid'),\n",
       " (283,\n",
       "  '../datasets/drum_midi/50´s Drummer MIDI Files/05 Jazz/01 Amel 85BPM Brushes/04 8th Snare.mid'),\n",
       " (284,\n",
       "  '../datasets/drum_midi/50´s Drummer MIDI Files/05 Jazz/01 Amel 85BPM Brushes/05 8th Ride.mid'),\n",
       " (285,\n",
       "  '../datasets/drum_midi/50´s Drummer MIDI Files/05 Jazz/01 Amel 85BPM Brushes/06 8th Hat.mid'),\n",
       " (286,\n",
       "  '../datasets/drum_midi/50´s Drummer MIDI Files/05 Jazz/01 Amel 85BPM Brushes/07 16th Ride.mid'),\n",
       " (287,\n",
       "  '../datasets/drum_midi/50´s Drummer MIDI Files/05 Jazz/02 Another You 170BPM/01 8th Ride.mid'),\n",
       " (288,\n",
       "  '../datasets/drum_midi/50´s Drummer MIDI Files/05 Jazz/02 Another You 170BPM/02 8th Ride.mid'),\n",
       " (289,\n",
       "  '../datasets/drum_midi/50´s Drummer MIDI Files/05 Jazz/02 Another You 170BPM/03 8th Ride.mid'),\n",
       " (290,\n",
       "  '../datasets/drum_midi/50´s Drummer MIDI Files/05 Jazz/02 Another You 170BPM/04 8th Snare.mid'),\n",
       " (291,\n",
       "  '../datasets/drum_midi/50´s Drummer MIDI Files/05 Jazz/02 Another You 170BPM/05 8th Multi.mid'),\n",
       " (292,\n",
       "  '../datasets/drum_midi/50´s Drummer MIDI Files/05 Jazz/02 Another You 170BPM/06 8th Multi.mid'),\n",
       " (293,\n",
       "  '../datasets/drum_midi/50´s Drummer MIDI Files/05 Jazz/02 Another You 170BPM/07 8th Multi.mid'),\n",
       " (294,\n",
       "  '../datasets/drum_midi/50´s Drummer MIDI Files/05 Jazz/03 Cool 137BPM Brushes/01 8th Toms.mid'),\n",
       " (295,\n",
       "  '../datasets/drum_midi/50´s Drummer MIDI Files/05 Jazz/03 Cool 137BPM Brushes/02 8th Snare.mid'),\n",
       " (296,\n",
       "  '../datasets/drum_midi/50´s Drummer MIDI Files/05 Jazz/03 Cool 137BPM Brushes/03 8th Multi.mid'),\n",
       " (297,\n",
       "  '../datasets/drum_midi/50´s Drummer MIDI Files/05 Jazz/03 Cool 137BPM Brushes/04 8th Toms.mid'),\n",
       " (298,\n",
       "  '../datasets/drum_midi/50´s Drummer MIDI Files/05 Jazz/03 Cool 137BPM Brushes/05 16th Snare.mid'),\n",
       " (299,\n",
       "  '../datasets/drum_midi/50´s Drummer MIDI Files/05 Jazz/03 Cool 137BPM Brushes/06 16th Toms.mid'),\n",
       " (300,\n",
       "  '../datasets/drum_midi/50´s Drummer MIDI Files/05 Jazz/03 Cool 137BPM Brushes/07 16th Ride.mid'),\n",
       " (301,\n",
       "  '../datasets/drum_midi/50´s Drummer MIDI Files/05 Jazz/04 Silent Tear 234BPM/01 8th Snare.mid'),\n",
       " (302,\n",
       "  '../datasets/drum_midi/50´s Drummer MIDI Files/05 Jazz/04 Silent Tear 234BPM/02 8th Ride.mid'),\n",
       " (303,\n",
       "  '../datasets/drum_midi/50´s Drummer MIDI Files/05 Jazz/04 Silent Tear 234BPM/03 8th Ride.mid'),\n",
       " (304,\n",
       "  '../datasets/drum_midi/50´s Drummer MIDI Files/05 Jazz/04 Silent Tear 234BPM/04 8th Snare.mid'),\n",
       " (305,\n",
       "  '../datasets/drum_midi/50´s Drummer MIDI Files/05 Jazz/04 Silent Tear 234BPM/05 8th Multi.mid'),\n",
       " (306,\n",
       "  '../datasets/drum_midi/50´s Drummer MIDI Files/05 Jazz/04 Silent Tear 234BPM/06 8th Multi.mid'),\n",
       " (307,\n",
       "  '../datasets/drum_midi/50´s Drummer MIDI Files/05 Jazz/04 Silent Tear 234BPM/07 8th ride.mid'),\n",
       " (308,\n",
       "  '../datasets/drum_midi/50´s Drummer MIDI Files/05 Jazz/05 TNT 116BPM/01 8th Ride.mid'),\n",
       " (309,\n",
       "  '../datasets/drum_midi/50´s Drummer MIDI Files/05 Jazz/05 TNT 116BPM/02 8th Snare.mid'),\n",
       " (310,\n",
       "  '../datasets/drum_midi/50´s Drummer MIDI Files/05 Jazz/05 TNT 116BPM/03 8th HiHat.mid'),\n",
       " (311,\n",
       "  '../datasets/drum_midi/50´s Drummer MIDI Files/05 Jazz/05 TNT 116BPM/04 8th Ride.mid'),\n",
       " (312,\n",
       "  '../datasets/drum_midi/50´s Drummer MIDI Files/05 Jazz/05 TNT 116BPM/05 8th Ride.mid'),\n",
       " (313,\n",
       "  '../datasets/drum_midi/50´s Drummer MIDI Files/05 Jazz/05 TNT 116BPM/06 8th Ride.mid'),\n",
       " (314,\n",
       "  '../datasets/drum_midi/50´s Drummer MIDI Files/05 Jazz/05 TNT 116BPM/07 8th Toms.mid'),\n",
       " (315,\n",
       "  '../datasets/drum_midi/50´s Drummer MIDI Files/05 Jazz/06 Nucleus 172BPM Brushes/01 8th Snare.mid'),\n",
       " (316,\n",
       "  '../datasets/drum_midi/50´s Drummer MIDI Files/05 Jazz/06 Nucleus 172BPM Brushes/02 8th Toms.mid'),\n",
       " (317,\n",
       "  '../datasets/drum_midi/50´s Drummer MIDI Files/05 Jazz/06 Nucleus 172BPM Brushes/03 8th Snare.mid'),\n",
       " (318,\n",
       "  '../datasets/drum_midi/50´s Drummer MIDI Files/05 Jazz/06 Nucleus 172BPM Brushes/04 8th Hat.mid'),\n",
       " (319,\n",
       "  '../datasets/drum_midi/50´s Drummer MIDI Files/05 Jazz/06 Nucleus 172BPM Brushes/05 8th Hat.mid'),\n",
       " (320,\n",
       "  '../datasets/drum_midi/50´s Drummer MIDI Files/05 Jazz/06 Nucleus 172BPM Brushes/06 8th Multi.mid'),\n",
       " (321,\n",
       "  '../datasets/drum_midi/50´s Drummer MIDI Files/05 Jazz/06 Nucleus 172BPM Brushes/07 8th Multi.mid'),\n",
       " (322,\n",
       "  '../datasets/drum_midi/50´s Drummer MIDI Files/05 Jazz/07 Kooper 234BPM/01 4th Multi.mid'),\n",
       " (323,\n",
       "  '../datasets/drum_midi/50´s Drummer MIDI Files/05 Jazz/07 Kooper 234BPM/02 4th Multi.mid'),\n",
       " (324,\n",
       "  '../datasets/drum_midi/50´s Drummer MIDI Files/05 Jazz/07 Kooper 234BPM/03 8th Hat.mid'),\n",
       " (325,\n",
       "  '../datasets/drum_midi/50´s Drummer MIDI Files/05 Jazz/07 Kooper 234BPM/04 8th Perc.mid'),\n",
       " (326,\n",
       "  '../datasets/drum_midi/50´s Drummer MIDI Files/05 Jazz/07 Kooper 234BPM/05 16th Toms.mid'),\n",
       " (327,\n",
       "  '../datasets/drum_midi/50´s Drummer MIDI Files/05 Jazz/07 Kooper 234BPM/06 16th Toms.mid'),\n",
       " (328,\n",
       "  '../datasets/drum_midi/50´s Drummer MIDI Files/05 Jazz/07 Kooper 234BPM/07 16th Toms.mid'),\n",
       " (329,\n",
       "  '../datasets/drum_midi/50´s Drummer MIDI Files/05 Jazz/08 Neodop 226BPM 3-4/01 16th Ride.mid'),\n",
       " (330,\n",
       "  '../datasets/drum_midi/50´s Drummer MIDI Files/05 Jazz/08 Neodop 226BPM 3-4/02 16th Ride.mid'),\n",
       " (331,\n",
       "  '../datasets/drum_midi/50´s Drummer MIDI Files/05 Jazz/08 Neodop 226BPM 3-4/03 8th Hat.mid'),\n",
       " (332,\n",
       "  '../datasets/drum_midi/50´s Drummer MIDI Files/05 Jazz/08 Neodop 226BPM 3-4/04 8th Ride.mid'),\n",
       " (333,\n",
       "  '../datasets/drum_midi/50´s Drummer MIDI Files/05 Jazz/08 Neodop 226BPM 3-4/05 8th Multi.mid'),\n",
       " (334,\n",
       "  '../datasets/drum_midi/50´s Drummer MIDI Files/05 Jazz/08 Neodop 226BPM 3-4/06 8th Multi.mid'),\n",
       " (335,\n",
       "  '../datasets/drum_midi/50´s Drummer MIDI Files/05 Jazz/08 Neodop 226BPM 3-4/07 8th Multi.mid'),\n",
       " (336,\n",
       "  '../datasets/drum_midi/50´s Drummer MIDI Files/05 Jazz/09 West Coast 152BPM Brushes/01 8th Snare.mid'),\n",
       " (337,\n",
       "  '../datasets/drum_midi/50´s Drummer MIDI Files/05 Jazz/09 West Coast 152BPM Brushes/02 8th Snare.mid'),\n",
       " (338,\n",
       "  '../datasets/drum_midi/50´s Drummer MIDI Files/05 Jazz/09 West Coast 152BPM Brushes/03 8th Snare.mid'),\n",
       " (339,\n",
       "  '../datasets/drum_midi/50´s Drummer MIDI Files/05 Jazz/09 West Coast 152BPM Brushes/04 8th Hat.mid'),\n",
       " (340,\n",
       "  '../datasets/drum_midi/50´s Drummer MIDI Files/05 Jazz/09 West Coast 152BPM Brushes/05 8th Multi.mid'),\n",
       " (341,\n",
       "  '../datasets/drum_midi/50´s Drummer MIDI Files/05 Jazz/09 West Coast 152BPM Brushes/06 8th Multi.mid'),\n",
       " (342,\n",
       "  '../datasets/drum_midi/50´s Drummer MIDI Files/05 Jazz/09 West Coast 152BPM Brushes/07 8th Multi.mid'),\n",
       " (343,\n",
       "  '../datasets/drum_midi/50´s Drummer MIDI Files/05 Jazz/10 Scalis 190BPM 3-4/01 8th Snare.mid'),\n",
       " (344,\n",
       "  '../datasets/drum_midi/50´s Drummer MIDI Files/05 Jazz/10 Scalis 190BPM 3-4/02 8th hat.mid'),\n",
       " (345,\n",
       "  '../datasets/drum_midi/50´s Drummer MIDI Files/05 Jazz/10 Scalis 190BPM 3-4/03 8th Toms.mid'),\n",
       " (346,\n",
       "  '../datasets/drum_midi/50´s Drummer MIDI Files/05 Jazz/10 Scalis 190BPM 3-4/04 8th Toms.mid'),\n",
       " (347,\n",
       "  '../datasets/drum_midi/50´s Drummer MIDI Files/05 Jazz/10 Scalis 190BPM 3-4/05 8th Multi.mid'),\n",
       " (348,\n",
       "  '../datasets/drum_midi/50´s Drummer MIDI Files/05 Jazz/10 Scalis 190BPM 3-4/06 8th Snare.mid'),\n",
       " (349,\n",
       "  '../datasets/drum_midi/50´s Drummer MIDI Files/05 Jazz/10 Scalis 190BPM 3-4/07 8th Snare.mid'),\n",
       " (350,\n",
       "  '../datasets/drum_midi/50´s Drummer MIDI Files/06 Soul - Funk/01 Soul Groove 107BPM/01 16th Hat.mid'),\n",
       " (351,\n",
       "  '../datasets/drum_midi/50´s Drummer MIDI Files/06 Soul - Funk/01 Soul Groove 107BPM/02 16th Hat.mid'),\n",
       " (352,\n",
       "  '../datasets/drum_midi/50´s Drummer MIDI Files/06 Soul - Funk/01 Soul Groove 107BPM/03 8th Hat.mid'),\n",
       " (353,\n",
       "  '../datasets/drum_midi/50´s Drummer MIDI Files/06 Soul - Funk/01 Soul Groove 107BPM/04 16th Hat.mid'),\n",
       " (354,\n",
       "  '../datasets/drum_midi/50´s Drummer MIDI Files/06 Soul - Funk/01 Soul Groove 107BPM/05 16th Hat.mid'),\n",
       " (355,\n",
       "  '../datasets/drum_midi/50´s Drummer MIDI Files/06 Soul - Funk/01 Soul Groove 107BPM/06 8th Hat.mid'),\n",
       " (356,\n",
       "  '../datasets/drum_midi/50´s Drummer MIDI Files/06 Soul - Funk/01 Soul Groove 107BPM/07 16th Hat.mid'),\n",
       " (357,\n",
       "  '../datasets/drum_midi/50´s Drummer MIDI Files/06 Soul - Funk/02 Boogaloo 120BPM/01 16th Multi.mid'),\n",
       " (358,\n",
       "  '../datasets/drum_midi/50´s Drummer MIDI Files/06 Soul - Funk/02 Boogaloo 120BPM/02 4th Multi.mid'),\n",
       " (359,\n",
       "  '../datasets/drum_midi/50´s Drummer MIDI Files/06 Soul - Funk/02 Boogaloo 120BPM/03 16th Hat.mid'),\n",
       " (360,\n",
       "  '../datasets/drum_midi/50´s Drummer MIDI Files/06 Soul - Funk/02 Boogaloo 120BPM/04 4th Multi.mid'),\n",
       " (361,\n",
       "  '../datasets/drum_midi/50´s Drummer MIDI Files/06 Soul - Funk/02 Boogaloo 120BPM/05 8th Multi.mid'),\n",
       " (362,\n",
       "  '../datasets/drum_midi/50´s Drummer MIDI Files/06 Soul - Funk/02 Boogaloo 120BPM/06 16th Hat.mid'),\n",
       " (363,\n",
       "  '../datasets/drum_midi/50´s Drummer MIDI Files/06 Soul - Funk/02 Boogaloo 120BPM/07 8th Hat.mid'),\n",
       " (364,\n",
       "  '../datasets/drum_midi/50´s Drummer MIDI Files/06 Soul - Funk/03 Cadence Soul 105BPM/01 4th Hat.mid'),\n",
       " (365,\n",
       "  '../datasets/drum_midi/50´s Drummer MIDI Files/06 Soul - Funk/03 Cadence Soul 105BPM/02 4th Hat.mid'),\n",
       " (366,\n",
       "  '../datasets/drum_midi/50´s Drummer MIDI Files/06 Soul - Funk/03 Cadence Soul 105BPM/03 8th Hat.mid'),\n",
       " (367,\n",
       "  '../datasets/drum_midi/50´s Drummer MIDI Files/06 Soul - Funk/03 Cadence Soul 105BPM/04 4th Hat.mid'),\n",
       " (368,\n",
       "  '../datasets/drum_midi/50´s Drummer MIDI Files/06 Soul - Funk/03 Cadence Soul 105BPM/05 4th Hat.mid'),\n",
       " (369,\n",
       "  '../datasets/drum_midi/50´s Drummer MIDI Files/06 Soul - Funk/03 Cadence Soul 105BPM/06 8th Cym.mid'),\n",
       " (370,\n",
       "  '../datasets/drum_midi/50´s Drummer MIDI Files/06 Soul - Funk/03 Cadence Soul 105BPM/07 8th Hat.mid'),\n",
       " (371,\n",
       "  '../datasets/drum_midi/50´s Drummer MIDI Files/06 Soul - Funk/04 GoGo Soul 100BPM/01 16th Toms.mid'),\n",
       " (372,\n",
       "  '../datasets/drum_midi/50´s Drummer MIDI Files/06 Soul - Funk/04 GoGo Soul 100BPM/02 16th Toms.mid'),\n",
       " (373,\n",
       "  '../datasets/drum_midi/50´s Drummer MIDI Files/06 Soul - Funk/04 GoGo Soul 100BPM/03 8th Hat.mid'),\n",
       " (374,\n",
       "  '../datasets/drum_midi/50´s Drummer MIDI Files/06 Soul - Funk/04 GoGo Soul 100BPM/04 8th Hat.mid'),\n",
       " (375,\n",
       "  '../datasets/drum_midi/50´s Drummer MIDI Files/06 Soul - Funk/04 GoGo Soul 100BPM/05 8th Hat.mid'),\n",
       " (376,\n",
       "  '../datasets/drum_midi/50´s Drummer MIDI Files/06 Soul - Funk/04 GoGo Soul 100BPM/06 8th Hat.mid'),\n",
       " (377,\n",
       "  '../datasets/drum_midi/50´s Drummer MIDI Files/06 Soul - Funk/04 GoGo Soul 100BPM/07 8th Hat.mid'),\n",
       " (378,\n",
       "  '../datasets/drum_midi/50´s Drummer MIDI Files/06 Soul - Funk/05 Hip Hop 95BPM/01 16th Hat.mid'),\n",
       " (379,\n",
       "  '../datasets/drum_midi/50´s Drummer MIDI Files/06 Soul - Funk/05 Hip Hop 95BPM/02 16th Hat.mid'),\n",
       " (380,\n",
       "  '../datasets/drum_midi/50´s Drummer MIDI Files/06 Soul - Funk/05 Hip Hop 95BPM/03 16th Hat.mid'),\n",
       " (381,\n",
       "  '../datasets/drum_midi/50´s Drummer MIDI Files/06 Soul - Funk/05 Hip Hop 95BPM/04 8th Hat.mid'),\n",
       " (382,\n",
       "  '../datasets/drum_midi/50´s Drummer MIDI Files/06 Soul - Funk/05 Hip Hop 95BPM/05 16th Hat.mid'),\n",
       " (383,\n",
       "  '../datasets/drum_midi/50´s Drummer MIDI Files/06 Soul - Funk/05 Hip Hop 95BPM/06 16th Hat.mid'),\n",
       " (384,\n",
       "  '../datasets/drum_midi/50´s Drummer MIDI Files/06 Soul - Funk/05 Hip Hop 95BPM/07 16th Hat.mid'),\n",
       " (385,\n",
       "  '../datasets/drum_midi/50´s Drummer MIDI Files/06 Soul - Funk/06 JB Groove 115BPM/01 4th Hat.mid'),\n",
       " (386,\n",
       "  '../datasets/drum_midi/50´s Drummer MIDI Files/06 Soul - Funk/06 JB Groove 115BPM/02 16th Hat.mid'),\n",
       " (387,\n",
       "  '../datasets/drum_midi/50´s Drummer MIDI Files/06 Soul - Funk/06 JB Groove 115BPM/03 4th Hat.mid'),\n",
       " (388,\n",
       "  '../datasets/drum_midi/50´s Drummer MIDI Files/06 Soul - Funk/06 JB Groove 115BPM/04 4th Hat.mid'),\n",
       " (389,\n",
       "  '../datasets/drum_midi/50´s Drummer MIDI Files/06 Soul - Funk/06 JB Groove 115BPM/05 4th Hat.mid'),\n",
       " (390,\n",
       "  '../datasets/drum_midi/50´s Drummer MIDI Files/06 Soul - Funk/06 JB Groove 115BPM/06 8th Cym.mid'),\n",
       " (391,\n",
       "  '../datasets/drum_midi/50´s Drummer MIDI Files/06 Soul - Funk/06 JB Groove 115BPM/07 8th Cym.mid'),\n",
       " (392,\n",
       "  '../datasets/drum_midi/50´s Drummer MIDI Files/06 Soul - Funk/07 Ride Swing 95Bpm/01 8th Cym.mid'),\n",
       " (393,\n",
       "  '../datasets/drum_midi/50´s Drummer MIDI Files/06 Soul - Funk/07 Ride Swing 95Bpm/02 8th Cym.mid'),\n",
       " (394,\n",
       "  '../datasets/drum_midi/50´s Drummer MIDI Files/06 Soul - Funk/07 Ride Swing 95Bpm/03 8th Cym.mid'),\n",
       " (395,\n",
       "  '../datasets/drum_midi/50´s Drummer MIDI Files/06 Soul - Funk/07 Ride Swing 95Bpm/04 8th Cym.mid'),\n",
       " (396,\n",
       "  '../datasets/drum_midi/50´s Drummer MIDI Files/06 Soul - Funk/07 Ride Swing 95Bpm/05 8th Hat.mid'),\n",
       " (397,\n",
       "  '../datasets/drum_midi/50´s Drummer MIDI Files/06 Soul - Funk/07 Ride Swing 95Bpm/06 8th Hat.mid'),\n",
       " (398,\n",
       "  '../datasets/drum_midi/50´s Drummer MIDI Files/06 Soul - Funk/07 Ride Swing 95Bpm/07 8th Hat.mid'),\n",
       " (399,\n",
       "  '../datasets/drum_midi/50´s Drummer MIDI Files/06 Soul - Funk/08 Rim Soul 90BPM/01 4th Hat.mid'),\n",
       " (400,\n",
       "  '../datasets/drum_midi/50´s Drummer MIDI Files/06 Soul - Funk/08 Rim Soul 90BPM/02 4th Hat.mid'),\n",
       " (401,\n",
       "  '../datasets/drum_midi/50´s Drummer MIDI Files/06 Soul - Funk/08 Rim Soul 90BPM/03 4th Hat.mid'),\n",
       " (402,\n",
       "  '../datasets/drum_midi/50´s Drummer MIDI Files/06 Soul - Funk/08 Rim Soul 90BPM/04 16th Hat.mid'),\n",
       " (403,\n",
       "  '../datasets/drum_midi/50´s Drummer MIDI Files/06 Soul - Funk/08 Rim Soul 90BPM/05 16th Hat.mid'),\n",
       " (404,\n",
       "  '../datasets/drum_midi/50´s Drummer MIDI Files/06 Soul - Funk/08 Rim Soul 90BPM/06 16th Hat.mid'),\n",
       " (405,\n",
       "  '../datasets/drum_midi/50´s Drummer MIDI Files/06 Soul - Funk/08 Rim Soul 90BPM/07 16th Hat.mid'),\n",
       " (406,\n",
       "  '../datasets/drum_midi/50´s Drummer MIDI Files/06 Soul - Funk/09 Smooth Soul 81BPM/01 16th Hat.mid'),\n",
       " (407,\n",
       "  '../datasets/drum_midi/50´s Drummer MIDI Files/06 Soul - Funk/09 Smooth Soul 81BPM/02 16th Hat.mid'),\n",
       " (408,\n",
       "  '../datasets/drum_midi/50´s Drummer MIDI Files/06 Soul - Funk/09 Smooth Soul 81BPM/03 16th Hat.mid'),\n",
       " (409,\n",
       "  '../datasets/drum_midi/50´s Drummer MIDI Files/06 Soul - Funk/09 Smooth Soul 81BPM/04 16th Hat.mid'),\n",
       " (410,\n",
       "  '../datasets/drum_midi/50´s Drummer MIDI Files/06 Soul - Funk/09 Smooth Soul 81BPM/05 16th Hat.mid'),\n",
       " (411,\n",
       "  '../datasets/drum_midi/50´s Drummer MIDI Files/06 Soul - Funk/09 Smooth Soul 81BPM/06 16th Hat.mid'),\n",
       " (412,\n",
       "  '../datasets/drum_midi/50´s Drummer MIDI Files/06 Soul - Funk/09 Smooth Soul 81BPM/07 16th Hat.mid'),\n",
       " (413,\n",
       "  '../datasets/drum_midi/50´s Drummer MIDI Files/06 Soul - Funk/10 Syncopated Ride 128BPM/01 16th Cym.mid'),\n",
       " (414,\n",
       "  '../datasets/drum_midi/50´s Drummer MIDI Files/06 Soul - Funk/10 Syncopated Ride 128BPM/02 16th Cym.mid'),\n",
       " (415,\n",
       "  '../datasets/drum_midi/50´s Drummer MIDI Files/06 Soul - Funk/10 Syncopated Ride 128BPM/03 16th Cym.mid'),\n",
       " (416,\n",
       "  '../datasets/drum_midi/50´s Drummer MIDI Files/06 Soul - Funk/10 Syncopated Ride 128BPM/04 16th Hat.mid'),\n",
       " (417,\n",
       "  '../datasets/drum_midi/50´s Drummer MIDI Files/06 Soul - Funk/10 Syncopated Ride 128BPM/05 16th Hat.mid'),\n",
       " (418,\n",
       "  '../datasets/drum_midi/50´s Drummer MIDI Files/06 Soul - Funk/10 Syncopated Ride 128BPM/06 16th Cym.mid'),\n",
       " (419,\n",
       "  '../datasets/drum_midi/50´s Drummer MIDI Files/06 Soul - Funk/10 Syncopated Ride 128BPM/07 16th Hat.mid'),\n",
       " (420,\n",
       "  '../datasets/drum_midi/50´s Drummer MIDI Files/07 Indie/01 Rock Shuffle 130BPM/01 8th Toms.mid'),\n",
       " (421,\n",
       "  '../datasets/drum_midi/50´s Drummer MIDI Files/07 Indie/01 Rock Shuffle 130BPM/02 8th Hat.mid'),\n",
       " (422,\n",
       "  '../datasets/drum_midi/50´s Drummer MIDI Files/07 Indie/01 Rock Shuffle 130BPM/03 8th Cym.mid'),\n",
       " (423,\n",
       "  '../datasets/drum_midi/50´s Drummer MIDI Files/07 Indie/01 Rock Shuffle 130BPM/04 4th Cym.mid'),\n",
       " (424,\n",
       "  '../datasets/drum_midi/50´s Drummer MIDI Files/07 Indie/01 Rock Shuffle 130BPM/05 12th Hat.mid'),\n",
       " (425,\n",
       "  '../datasets/drum_midi/50´s Drummer MIDI Files/07 Indie/01 Rock Shuffle 130BPM/06 4th Hat.mid'),\n",
       " (426,\n",
       "  '../datasets/drum_midi/50´s Drummer MIDI Files/07 Indie/01 Rock Shuffle 130BPM/07 12th Toms.mid'),\n",
       " (427,\n",
       "  '../datasets/drum_midi/50´s Drummer MIDI Files/07 Indie/02 Rock Tribal 125BPM/01 4th Toms.mid'),\n",
       " (428,\n",
       "  '../datasets/drum_midi/50´s Drummer MIDI Files/07 Indie/02 Rock Tribal 125BPM/02 16th Hat.mid'),\n",
       " (429,\n",
       "  '../datasets/drum_midi/50´s Drummer MIDI Files/07 Indie/02 Rock Tribal 125BPM/03 4th Toms.mid'),\n",
       " (430,\n",
       "  '../datasets/drum_midi/50´s Drummer MIDI Files/07 Indie/02 Rock Tribal 125BPM/04 8th Cym.mid'),\n",
       " (431,\n",
       "  '../datasets/drum_midi/50´s Drummer MIDI Files/07 Indie/02 Rock Tribal 125BPM/05 2th Toms.mid'),\n",
       " (432,\n",
       "  '../datasets/drum_midi/50´s Drummer MIDI Files/07 Indie/02 Rock Tribal 125BPM/06 16th Hat.mid'),\n",
       " (433,\n",
       "  '../datasets/drum_midi/50´s Drummer MIDI Files/07 Indie/02 Rock Tribal 125BPM/07 16th Cym.mid'),\n",
       " (434,\n",
       "  '../datasets/drum_midi/50´s Drummer MIDI Files/07 Indie/03 Moon 137BPM/01 8th Cym.mid'),\n",
       " (435,\n",
       "  '../datasets/drum_midi/50´s Drummer MIDI Files/07 Indie/03 Moon 137BPM/02 8th Hat.mid'),\n",
       " (436,\n",
       "  '../datasets/drum_midi/50´s Drummer MIDI Files/07 Indie/03 Moon 137BPM/03 8th Cym.mid'),\n",
       " (437,\n",
       "  '../datasets/drum_midi/50´s Drummer MIDI Files/07 Indie/03 Moon 137BPM/04 2th Toms.mid'),\n",
       " (438,\n",
       "  '../datasets/drum_midi/50´s Drummer MIDI Files/07 Indie/03 Moon 137BPM/05 4th Cym.mid'),\n",
       " (439,\n",
       "  '../datasets/drum_midi/50´s Drummer MIDI Files/07 Indie/03 Moon 137BPM/06 16th Hat.mid'),\n",
       " (440,\n",
       "  '../datasets/drum_midi/50´s Drummer MIDI Files/07 Indie/03 Moon 137BPM/07 8th Toms.mid'),\n",
       " (441,\n",
       "  '../datasets/drum_midi/50´s Drummer MIDI Files/07 Indie/04 Titanic 97BPM/01 8th Hat.mid'),\n",
       " (442,\n",
       "  '../datasets/drum_midi/50´s Drummer MIDI Files/07 Indie/04 Titanic 97BPM/02 16th Hat.mid'),\n",
       " (443,\n",
       "  '../datasets/drum_midi/50´s Drummer MIDI Files/07 Indie/04 Titanic 97BPM/03 4th Cym.mid'),\n",
       " (444,\n",
       "  '../datasets/drum_midi/50´s Drummer MIDI Files/07 Indie/04 Titanic 97BPM/04 8th Cym.mid'),\n",
       " (445,\n",
       "  '../datasets/drum_midi/50´s Drummer MIDI Files/07 Indie/04 Titanic 97BPM/05 8th Hat.mid'),\n",
       " (446,\n",
       "  '../datasets/drum_midi/50´s Drummer MIDI Files/07 Indie/04 Titanic 97BPM/06 8th Toms.mid'),\n",
       " (447,\n",
       "  '../datasets/drum_midi/50´s Drummer MIDI Files/07 Indie/04 Titanic 97BPM/07 16th Cym.mid'),\n",
       " (448,\n",
       "  '../datasets/drum_midi/50´s Drummer MIDI Files/07 Indie/05 Halftime 71BPM/01 16th Hat.mid'),\n",
       " (449,\n",
       "  '../datasets/drum_midi/50´s Drummer MIDI Files/07 Indie/05 Halftime 71BPM/02 16th Cym.mid'),\n",
       " (450,\n",
       "  '../datasets/drum_midi/50´s Drummer MIDI Files/07 Indie/05 Halftime 71BPM/03 16th Perc.mid'),\n",
       " (451,\n",
       "  '../datasets/drum_midi/50´s Drummer MIDI Files/07 Indie/05 Halftime 71BPM/04 16th Cym.mid'),\n",
       " (452,\n",
       "  '../datasets/drum_midi/50´s Drummer MIDI Files/07 Indie/05 Halftime 71BPM/05 16th Toms.mid'),\n",
       " (453,\n",
       "  '../datasets/drum_midi/50´s Drummer MIDI Files/07 Indie/05 Halftime 71BPM/06 16th Ride.mid'),\n",
       " (454,\n",
       "  '../datasets/drum_midi/50´s Drummer MIDI Files/07 Indie/05 Halftime 71BPM/07 8th Toms.mid'),\n",
       " (455,\n",
       "  '../datasets/drum_midi/50´s Drummer MIDI Files/07 Indie/06 Swing Funk 102BPM/01 8th Hat.mid'),\n",
       " (456,\n",
       "  '../datasets/drum_midi/50´s Drummer MIDI Files/07 Indie/06 Swing Funk 102BPM/02 8th Cym.mid'),\n",
       " (457,\n",
       "  '../datasets/drum_midi/50´s Drummer MIDI Files/07 Indie/06 Swing Funk 102BPM/03 8th Hat.mid'),\n",
       " (458,\n",
       "  '../datasets/drum_midi/50´s Drummer MIDI Files/07 Indie/06 Swing Funk 102BPM/04 8th Cym.mid'),\n",
       " (459,\n",
       "  '../datasets/drum_midi/50´s Drummer MIDI Files/07 Indie/06 Swing Funk 102BPM/05 8th Hat.mid'),\n",
       " (460,\n",
       "  '../datasets/drum_midi/50´s Drummer MIDI Files/07 Indie/06 Swing Funk 102BPM/06 8th Cym.mid'),\n",
       " (461,\n",
       "  '../datasets/drum_midi/50´s Drummer MIDI Files/07 Indie/06 Swing Funk 102BPM/07 8th Cym.mid'),\n",
       " (462,\n",
       "  '../datasets/drum_midi/50´s Drummer MIDI Files/07 Indie/07 Rock Keeler 133BPM/01 8th Hat.mid'),\n",
       " (463,\n",
       "  '../datasets/drum_midi/50´s Drummer MIDI Files/07 Indie/07 Rock Keeler 133BPM/02 4th Hat.mid'),\n",
       " (464,\n",
       "  '../datasets/drum_midi/50´s Drummer MIDI Files/07 Indie/07 Rock Keeler 133BPM/03 8th Toms.mid'),\n",
       " (465,\n",
       "  '../datasets/drum_midi/50´s Drummer MIDI Files/07 Indie/07 Rock Keeler 133BPM/04 8th Perc.mid'),\n",
       " (466,\n",
       "  '../datasets/drum_midi/50´s Drummer MIDI Files/07 Indie/07 Rock Keeler 133BPM/05 8th Hat.mid'),\n",
       " (467,\n",
       "  '../datasets/drum_midi/50´s Drummer MIDI Files/07 Indie/07 Rock Keeler 133BPM/06 8th Cym.mid'),\n",
       " (468,\n",
       "  '../datasets/drum_midi/50´s Drummer MIDI Files/07 Indie/07 Rock Keeler 133BPM/07 4th Cym.mid'),\n",
       " (469,\n",
       "  '../datasets/drum_midi/50´s Drummer MIDI Files/07 Indie/08 Bouncer 162BPM/01 8th Cym.mid'),\n",
       " (470,\n",
       "  '../datasets/drum_midi/50´s Drummer MIDI Files/07 Indie/08 Bouncer 162BPM/02 8th Hat.mid'),\n",
       " (471,\n",
       "  '../datasets/drum_midi/50´s Drummer MIDI Files/07 Indie/08 Bouncer 162BPM/03 4th Hat.mid'),\n",
       " (472,\n",
       "  '../datasets/drum_midi/50´s Drummer MIDI Files/07 Indie/08 Bouncer 162BPM/04 8th Cym.mid'),\n",
       " (473,\n",
       "  '../datasets/drum_midi/50´s Drummer MIDI Files/07 Indie/08 Bouncer 162BPM/05 8th Hat.mid'),\n",
       " (474,\n",
       "  '../datasets/drum_midi/50´s Drummer MIDI Files/07 Indie/08 Bouncer 162BPM/06 8th Hat.mid'),\n",
       " (475,\n",
       "  '../datasets/drum_midi/50´s Drummer MIDI Files/07 Indie/08 Bouncer 162BPM/07 8th Cym.mid'),\n",
       " (476,\n",
       "  '../datasets/drum_midi/50´s Drummer MIDI Files/07 Indie/09 Slow Shuffle 80BPM/01 4th Toms.mid'),\n",
       " (477,\n",
       "  '../datasets/drum_midi/50´s Drummer MIDI Files/07 Indie/09 Slow Shuffle 80BPM/02 16th Hat.mid'),\n",
       " (478,\n",
       "  '../datasets/drum_midi/50´s Drummer MIDI Files/07 Indie/09 Slow Shuffle 80BPM/03 16th Hat.mid'),\n",
       " (479,\n",
       "  '../datasets/drum_midi/50´s Drummer MIDI Files/07 Indie/09 Slow Shuffle 80BPM/04 16th Cym.mid'),\n",
       " (480,\n",
       "  '../datasets/drum_midi/50´s Drummer MIDI Files/07 Indie/09 Slow Shuffle 80BPM/05 8th Toms.mid'),\n",
       " (481,\n",
       "  '../datasets/drum_midi/50´s Drummer MIDI Files/07 Indie/09 Slow Shuffle 80BPM/06 8th Toms.mid'),\n",
       " (482,\n",
       "  '../datasets/drum_midi/50´s Drummer MIDI Files/07 Indie/09 Slow Shuffle 80BPM/07 16th Cym.mid'),\n",
       " (483,\n",
       "  '../datasets/drum_midi/50´s Drummer MIDI Files/07 Indie/10 Chilled 120BPM/01 8th Cym.mid'),\n",
       " (484,\n",
       "  '../datasets/drum_midi/50´s Drummer MIDI Files/07 Indie/10 Chilled 120BPM/02 8th Hat.mid'),\n",
       " (485,\n",
       "  '../datasets/drum_midi/50´s Drummer MIDI Files/07 Indie/10 Chilled 120BPM/03 8th Cym.mid'),\n",
       " (486,\n",
       "  '../datasets/drum_midi/50´s Drummer MIDI Files/07 Indie/10 Chilled 120BPM/04 8th Hat.mid'),\n",
       " (487,\n",
       "  '../datasets/drum_midi/50´s Drummer MIDI Files/07 Indie/10 Chilled 120BPM/05 16th Hat.mid'),\n",
       " (488,\n",
       "  '../datasets/drum_midi/50´s Drummer MIDI Files/07 Indie/10 Chilled 120BPM/06 8th Toms.mid'),\n",
       " (489,\n",
       "  '../datasets/drum_midi/50´s Drummer MIDI Files/07 Indie/10 Chilled 120BPM/07 8th Toms.mid'),\n",
       " (490,\n",
       "  '../datasets/drum_midi/50´s Drummer MIDI Files/07 Indie/11 Disco Dancer 135BPM/01 4th Hat .mid'),\n",
       " (491,\n",
       "  '../datasets/drum_midi/50´s Drummer MIDI Files/07 Indie/11 Disco Dancer 135BPM/02 8th Hat.mid'),\n",
       " (492,\n",
       "  '../datasets/drum_midi/50´s Drummer MIDI Files/07 Indie/11 Disco Dancer 135BPM/03 8th Hat.mid'),\n",
       " (493,\n",
       "  '../datasets/drum_midi/50´s Drummer MIDI Files/07 Indie/11 Disco Dancer 135BPM/04 16th Hat.mid'),\n",
       " (494,\n",
       "  '../datasets/drum_midi/50´s Drummer MIDI Files/07 Indie/11 Disco Dancer 135BPM/05 8th Cym.mid'),\n",
       " (495,\n",
       "  '../datasets/drum_midi/50´s Drummer MIDI Files/07 Indie/11 Disco Dancer 135BPM/06 4th Cym.mid'),\n",
       " (496,\n",
       "  '../datasets/drum_midi/50´s Drummer MIDI Files/07 Indie/11 Disco Dancer 135BPM/07 4th Perc.mid'),\n",
       " (497,\n",
       "  '../datasets/drum_midi/50´s Drummer MIDI Files/07 Indie/12 Sticks Up 155BPM/01 8th Perc.mid'),\n",
       " (498,\n",
       "  '../datasets/drum_midi/50´s Drummer MIDI Files/07 Indie/12 Sticks Up 155BPM/02 8th Hat.mid'),\n",
       " (499,\n",
       "  '../datasets/drum_midi/50´s Drummer MIDI Files/07 Indie/12 Sticks Up 155BPM/03 16th Hat.mid')]"
      ]
     },
     "execution_count": 7,
     "metadata": {},
     "output_type": "execute_result"
    }
   ],
   "source": [
    "[(i,k) for i,k in enumerate(labels)]"
   ]
  },
  {
   "cell_type": "code",
   "execution_count": 8,
   "metadata": {},
   "outputs": [
    {
     "data": {
      "text/plain": [
       "[\"01 Rock'n'Roll\", '01 Dancin Rick 166BPM']"
      ]
     },
     "execution_count": 8,
     "metadata": {},
     "output_type": "execute_result"
    }
   ],
   "source": [
    "genres[0][-2:]"
   ]
  },
  {
   "cell_type": "code",
   "execution_count": 9,
   "metadata": {},
   "outputs": [
    {
     "data": {
      "text/plain": [
       "72"
      ]
     },
     "execution_count": 9,
     "metadata": {},
     "output_type": "execute_result"
    }
   ],
   "source": [
    "unique_genres = set(genre[-1] for genre in genres)\n",
    "len(unique_genres)"
   ]
  },
  {
   "cell_type": "code",
   "execution_count": 10,
   "metadata": {},
   "outputs": [
    {
     "data": {
      "text/plain": [
       "(500, 160, 10, 1)"
      ]
     },
     "execution_count": 10,
     "metadata": {},
     "output_type": "execute_result"
    }
   ],
   "source": [
    "x_train.shape"
   ]
  },
  {
   "cell_type": "code",
   "execution_count": 11,
   "metadata": {},
   "outputs": [
    {
     "data": {
      "text/plain": [
       "((500, 160, 10, 1), 450)"
      ]
     },
     "execution_count": 11,
     "metadata": {},
     "output_type": "execute_result"
    }
   ],
   "source": [
    "m = int(x_train.shape[0] * 0.9)\n",
    "x_train.shape, m"
   ]
  },
  {
   "cell_type": "code",
   "execution_count": 12,
   "metadata": {},
   "outputs": [],
   "source": [
    "x_test = x_train[m:]\n",
    "x_train = x_train[:m]"
   ]
  },
  {
   "cell_type": "code",
   "execution_count": 13,
   "metadata": {},
   "outputs": [],
   "source": [
    "# genres = [string.extract_labels_from_filename(k) for k in labels]\n",
    "genre_dict = setup.build_label_dict(genres[:m])"
   ]
  },
  {
   "cell_type": "code",
   "execution_count": 14,
   "metadata": {},
   "outputs": [
    {
     "data": {
      "text/plain": [
       "(160, 10, 1)"
      ]
     },
     "execution_count": 14,
     "metadata": {},
     "output_type": "execute_result"
    }
   ],
   "source": [
    "input_shape = x_train[0].shape\n",
    "timesteps = input_shape[0]\n",
    "notes = input_shape[1]\n",
    "input_shape"
   ]
  },
  {
   "cell_type": "code",
   "execution_count": 15,
   "metadata": {},
   "outputs": [],
   "source": [
    "latent_dim = 10\n",
    "epsilon_std = 1.0"
   ]
  },
  {
   "cell_type": "code",
   "execution_count": 16,
   "metadata": {},
   "outputs": [
    {
     "name": "stderr",
     "output_type": "stream",
     "text": [
      "/usr/local/lib/python3.6/site-packages/keras/layers/core.py:642: UserWarning: `output_shape` argument not specified for layer lambda_2 and cannot be automatically inferred with the Theano backend. Defaulting to output shape `[(None, 10), (None, 10)]` (same as input shape). If the expected output shape is different, specify it via the `output_shape` argument.\n",
      "  .format(self.name, input_shape))\n",
      "/Users/mark/src/pattern-recognition/src/models.py:147: UserWarning: Output \"decoder_model-\" missing from loss dictionary. We assume this was done on purpose, and we will not be expecting any data to be passed to \"decoder_model-\" during training.\n",
      "  vae.compile(optimizer='adam')\n"
     ]
    }
   ],
   "source": [
    "vae, encoder, generator = models.build(input_shape, latent_dim)"
   ]
  },
  {
   "cell_type": "code",
   "execution_count": 17,
   "metadata": {},
   "outputs": [],
   "source": [
    "batch_size = 128\n",
    "epochs = 500"
   ]
  },
  {
   "cell_type": "code",
   "execution_count": 18,
   "metadata": {},
   "outputs": [],
   "source": [
    "# phase_mod = 0.01\n",
    "# whitening = False"
   ]
  },
  {
   "cell_type": "code",
   "execution_count": 19,
   "metadata": {
    "scrolled": true
   },
   "outputs": [],
   "source": [
    "# m = 1000\n",
    "# useDataGenerator = False\n",
    "# # useDataGenerator = True\n",
    "# callbacks = [TensorBoard(log_dir=config.tmp_log_dir)]\n",
    "\n",
    "# x = x_train[:m]\n",
    "# # x = x_train\n",
    "# # i = [0,1, 7,8, 14,15, 399,400]\n",
    "# # x = x_train[i]\n",
    "# # x = np.concatenate([x for _ in range(10)])\n",
    "# print('x:', x.shape)\n",
    "\n",
    "# print('batch_size: %i' % batch_size)\n",
    "# print('update-iterations:', round(epochs * x.shape[0] / batch_size))\n",
    "# if useDataGenerator:\n",
    "#     datagen = models.ImageDataGenerator(x_train, batch_size, phase_mod, whitening)\n",
    "#     history = collections.defaultdict(list)\n",
    "#     n_batches = datagen.__len__()\n",
    "#     for e in range(epochs):\n",
    "#         print('\\n[Epoch %i/%i] >>>>>>>>>' % (e, epochs))\n",
    "#         for batch_i, (x_batch, y_batch) in enumerate(datagen.flow(x, x, batch_size)):\n",
    "#             print(' Batch %i/%i' % (batch_i,n_batches))\n",
    "#             x_ = x_batch\n",
    "#             # x_ = datagen.shuffle_3rd_dim(x_)\n",
    "#             # x_ = datagen.shuffle_3rd_dim_soft(x_, rate=0.5, scale=0.1, verbose=0)\n",
    "#             h = vae.fit(x_, validation_data=(x_test, None), verbose=0)\n",
    "#             for k,v in h.history.items(): \n",
    "#                 print(' \\\\_%s' % k, [round(v_,) for v_ in v])\n",
    "#                 history[k].append(v)\n",
    "#             if batch_i >= n_batches:\n",
    "#                 break\n",
    "# else:\n",
    "#     h = vae.fit(x, epochs=epochs, validation_data=(x_test, None), callbacks=callbacks)\n",
    "#     history = h.history"
   ]
  },
  {
   "cell_type": "code",
   "execution_count": 20,
   "metadata": {},
   "outputs": [],
   "source": [
    "name = 'non-functional_model.h5'\n",
    "fn = config.model_dir + name"
   ]
  },
  {
   "cell_type": "code",
   "execution_count": 21,
   "metadata": {},
   "outputs": [],
   "source": [
    "# io.save_dict('../logs/','train_loss', history)"
   ]
  },
  {
   "cell_type": "code",
   "execution_count": 22,
   "metadata": {},
   "outputs": [],
   "source": [
    "# # for suffix, model in [('vae',vae), ('encoder',encoder), ('gen',generator)]:\n",
    "# #     model.save_weights(dn + prefix + suffix + '.h5', \"w\")\n",
    "# vae.save_weights(fn, \"w\")"
   ]
  },
  {
   "cell_type": "code",
   "execution_count": 23,
   "metadata": {},
   "outputs": [],
   "source": [
    "vae.load_weights(fn)"
   ]
  },
  {
   "cell_type": "code",
   "execution_count": 24,
   "metadata": {},
   "outputs": [],
   "source": [
    "# plt.plot(history['loss'])\n",
    "# plt.plot(history['val_loss'])\n",
    "# plt.ylim(0,150)"
   ]
  },
  {
   "cell_type": "code",
   "execution_count": 25,
   "metadata": {},
   "outputs": [
    {
     "data": {
      "image/png": "[encoded data removed]",
      "text/plain": [
       "<matplotlib.figure.Figure at 0x10c673128>"
      ]
     },
     "metadata": {},
     "output_type": "display_data"
    },
    {
     "data": {
      "image/png": "[encoded data removed]",
      "text/plain": [
       "<matplotlib.figure.Figure at 0x1010e6fd0>"
      ]
     },
     "metadata": {},
     "output_type": "display_data"
    },
    {
     "data": {
      "image/png": "[encoded data removed]",
      "text/plain": [
       "<matplotlib.figure.Figure at 0x10d2df828>"
      ]
     },
     "metadata": {},
     "output_type": "display_data"
    },
    {
     "data": {
      "image/png": "[encoded data removed]",
      "text/plain": [
       "<matplotlib.figure.Figure at 0x10dcea588>"
      ]
     },
     "metadata": {},
     "output_type": "display_data"
    },
    {
     "data": {
      "text/plain": [
       "<module 'matplotlib.pyplot' from '/usr/local/lib/python3.6/site-packages/matplotlib/pyplot.py'>"
      ]
     },
     "execution_count": 25,
     "metadata": {},
     "output_type": "execute_result"
    }
   ],
   "source": [
    "i,j = 0, 10\n",
    "m = 50\n",
    "y = vae.predict(x_train[:500])\n",
    "plot.single(x_train[i,:m])\n",
    "plot.single(y[i,:m])\n",
    "plot.single(x_train[j,:m])\n",
    "plot.single(y[j,:m])"
   ]
  },
  {
   "cell_type": "code",
   "execution_count": 26,
   "metadata": {},
   "outputs": [],
   "source": [
    "# x = datagen.shuffle_3rd_dim_soft(x_train[:10], rate=1, intensity=2, scale=1, verbose=1)\n",
    "# i = 0\n",
    "# plot.single(x_train[i,:,:,0])\n",
    "# plot.single(x[i,:,:,0])\n",
    "# x_ = vae.predict(x)\n",
    "# plot.single(x_[i,:,:,0])"
   ]
  },
  {
   "cell_type": "code",
   "execution_count": 27,
   "metadata": {},
   "outputs": [],
   "source": [
    "# # min: these pixels are 'always' active\n",
    "# m = x.min(axis=0)\n",
    "# plot.multi(m[:30,:,0])"
   ]
  },
  {
   "cell_type": "code",
   "execution_count": 28,
   "metadata": {},
   "outputs": [],
   "source": [
    "# # mean\n",
    "# m = x.mean(axis=0)\n",
    "# plot.single(m[:30,:,0])"
   ]
  },
  {
   "cell_type": "markdown",
   "metadata": {},
   "source": [
    "## Style transfer"
   ]
  },
  {
   "cell_type": "code",
   "execution_count": 29,
   "metadata": {},
   "outputs": [
    {
     "data": {
      "text/plain": [
       "(450, 10)"
      ]
     },
     "execution_count": 29,
     "metadata": {},
     "output_type": "execute_result"
    }
   ],
   "source": [
    "m = 1000\n",
    "x_train_encoded = encoder.predict(x_train[:m], batch_size=batch_size)\n",
    "x_train_encoded.shape"
   ]
  },
  {
   "cell_type": "code",
   "execution_count": 30,
   "metadata": {},
   "outputs": [],
   "source": [
    "# dn = config.plots_dir + 'transformations.pkl'\n",
    "# io.save(transformations, fn)\n",
    "# # transformation_extraction.save_to_disk(transformations, dn, v=1)\n",
    "\n",
    "# fn = config.plots_dir + 'min_transformations.pkl'\n",
    "# io.save(min_transformations, fn)\n",
    "# # transformation_extraction.save_to_disk(min_transformations, dn)"
   ]
  },
  {
   "cell_type": "code",
   "execution_count": 31,
   "metadata": {},
   "outputs": [],
   "source": [
    "fn = config.plots_dir + 'transformations-best_dims.pkl'\n",
    "best_dims = io.load(fn)\n",
    "fn = config.plots_dir + 'transformations.pkl'\n",
    "transformations = io.load(fn)\n",
    "fn = config.plots_dir + 'min_transformations.pkl'\n",
    "min_transformations = io.load(fn)"
   ]
  },
  {
   "cell_type": "code",
   "execution_count": 32,
   "metadata": {},
   "outputs": [
    {
     "data": {
      "text/plain": [
       "(array([317.,  80.,  69.,  21.,  51.,  67., 102.,  46.,  46., 188.]),\n",
       " array([0. , 0.9, 1.8, 2.7, 3.6, 4.5, 5.4, 6.3, 7.2, 8.1, 9. ]),\n",
       " <a list of 10 Patch objects>)"
      ]
     },
     "execution_count": 32,
     "metadata": {},
     "output_type": "execute_result"
    },
    {
     "data": {
      "image/png": "[encoded data removed]",
      "text/plain": [
       "<matplotlib.figure.Figure at 0x10e767630>"
      ]
     },
     "metadata": {},
     "output_type": "display_data"
    }
   ],
   "source": [
    "plt.hist(best_dims)"
   ]
  },
  {
   "cell_type": "code",
   "execution_count": 33,
   "metadata": {},
   "outputs": [],
   "source": [
    "# transformations = io.read_categorical_dict_dir(config.plots_dir + 'transformations/')\n",
    "# min_transformations = io.read_categorical_dict_dir(config.plots_dir + 'min_transformations/') "
   ]
  },
  {
   "cell_type": "code",
   "execution_count": 34,
   "metadata": {},
   "outputs": [
    {
     "data": {
      "text/plain": [
       "['02 Blues/02 Nappy Brown 160BPM',\n",
       " '03 Traditional Pop/04 Love 155BPM',\n",
       " '04 Country/07 Trainy 100BPM']"
      ]
     },
     "execution_count": 34,
     "metadata": {},
     "output_type": "execute_result"
    }
   ],
   "source": [
    "list(transformations.keys())[:3]"
   ]
  },
  {
   "cell_type": "code",
   "execution_count": 35,
   "metadata": {},
   "outputs": [
    {
     "data": {
      "text/plain": [
       "65"
      ]
     },
     "execution_count": 35,
     "metadata": {},
     "output_type": "execute_result"
    }
   ],
   "source": [
    "len(transformations.keys())"
   ]
  },
  {
   "cell_type": "code",
   "execution_count": 36,
   "metadata": {},
   "outputs": [],
   "source": [
    "# io.save(result, config.plots_dir + 'ncd_evaluation_results.pkl')\n",
    "labelled_result = io.load(config.plots_dir + 'ncd_evaluation_AB.pkl')\n",
    "labelled_result_min = io.load(config.plots_dir + 'ncd_evaluation_AB_min.pkl')"
   ]
  },
  {
   "cell_type": "code",
   "execution_count": 37,
   "metadata": {},
   "outputs": [],
   "source": [
    "def sample_dict(d, i=0):\n",
    "    k = list(d.keys())[i]\n",
    "    return k, d[k]"
   ]
  },
  {
   "cell_type": "code",
   "execution_count": 38,
   "metadata": {},
   "outputs": [],
   "source": [
    "# utils.reload(utils)\n",
    "labelled_result = utils.clean_dict(labelled_result, r=2, verbose=1)"
   ]
  },
  {
   "cell_type": "code",
   "execution_count": 39,
   "metadata": {},
   "outputs": [
    {
     "data": {
      "text/plain": [
       "\"01 Rock'n'Roll/07 Thwag 170BPM\""
      ]
     },
     "execution_count": 39,
     "metadata": {},
     "output_type": "execute_result"
    }
   ],
   "source": [
    "# utils.reload(utils)\n",
    "sample = utils.get(labelled_result, i=10)[0]\n",
    "sample"
   ]
  },
  {
   "cell_type": "code",
   "execution_count": 40,
   "metadata": {},
   "outputs": [],
   "source": [
    "# labelled_result[sample]"
   ]
  },
  {
   "cell_type": "code",
   "execution_count": 41,
   "metadata": {},
   "outputs": [
    {
     "data": {
      "text/plain": [
       "(\"01 Rock'n'Roll/07 Thwag 170BPM\", '03 Traditional Pop/04 Love 155BPM')"
      ]
     },
     "execution_count": 41,
     "metadata": {},
     "output_type": "execute_result"
    }
   ],
   "source": [
    "genre_a = utils.get(labelled_result[sample])[0]\n",
    "genre_b,_, scores = utils.get(labelled_result[sample][genre_a])\n",
    "scores_min = utils.get(labelled_result[sample][genre_a])[2]\n",
    "xlabels = np.round(list(scores.keys()), 2)\n",
    "genre_a, genre_b"
   ]
  },
  {
   "cell_type": "code",
   "execution_count": 42,
   "metadata": {
    "scrolled": true
   },
   "outputs": [
    {
     "name": "stdout",
     "output_type": "stream",
     "text": [
      "[0.   0.05 0.1  0.15 0.2  0.25 0.3  0.35 0.4  0.45 0.5  0.55 0.6  0.65\n",
      " 0.7  0.75 0.8  0.85 0.9  0.95 1.  ]\n"
     ]
    },
    {
     "data": {
      "image/png": "[encoded data removed]",
      "text/plain": [
       "<matplotlib.figure.Figure at 0x10f1bbfd0>"
      ]
     },
     "metadata": {},
     "output_type": "display_data"
    }
   ],
   "source": [
    "# for k,v in scores.items():\n",
    "#     print('%s: \\t%f' % (k,v))\n",
    "print(xlabels)\n",
    "plot.custom({sample: list(scores.values())}, options={'x_labels': xlabels},\n",
    "            type_='bar', y_scale_margin=0.01, show=True)"
   ]
  },
  {
   "cell_type": "code",
   "execution_count": 43,
   "metadata": {},
   "outputs": [
    {
     "data": {
      "image/png": "[encoded data removed]",
      "text/plain": [
       "<matplotlib.figure.Figure at 0x10f291358>"
      ]
     },
     "metadata": {},
     "output_type": "display_data"
    }
   ],
   "source": [
    "plot.custom({sample: list(scores_min.values())}, options={'x_labels': xlabels},\n",
    "            type_='bar', y_scale_margin=0.01, show=True)"
   ]
  },
  {
   "cell_type": "code",
   "execution_count": 44,
   "metadata": {},
   "outputs": [
    {
     "data": {
      "text/plain": [
       "([42, 43, 44, 45, 46, 47, 48], \"01 Rock'n'Roll/07 Thwag 170BPM\")"
      ]
     },
     "execution_count": 44,
     "metadata": {},
     "output_type": "execute_result"
    }
   ],
   "source": [
    "genre_dict[sample], sample"
   ]
  },
  {
   "cell_type": "code",
   "execution_count": 45,
   "metadata": {},
   "outputs": [
    {
     "name": "stdout",
     "output_type": "stream",
     "text": [
      "Original\n"
     ]
    },
    {
     "data": {
      "image/png": "[encoded data removed]",
      "text/plain": [
       "<matplotlib.figure.Figure at 0x10f38a198>"
      ]
     },
     "metadata": {},
     "output_type": "display_data"
    },
    {
     "name": "stdout",
     "output_type": "stream",
     "text": [
      "Identity (transformation)\n"
     ]
    },
    {
     "data": {
      "image/png": "[encoded data removed]",
      "text/plain": [
       "<matplotlib.figure.Figure at 0x10f525630>"
      ]
     },
     "metadata": {},
     "output_type": "display_data"
    }
   ],
   "source": [
    "utils.reload(plot, midi.pitches)\n",
    "z_sample = x_train_encoded[genre_dict[genre_a][0]]\n",
    "print('Original')\n",
    "plot.single(x_train[genre_dict[sample][0]][:40])\n",
    "print('Identity (transformation)')\n",
    "plot.single(generator.predict(np.array([z_sample]))[0,:40]);"
   ]
  },
  {
   "cell_type": "code",
   "execution_count": 46,
   "metadata": {},
   "outputs": [],
   "source": [
    "transformation = transformations[genre_a][genre_b]\n",
    "min_transformation = min_transformations[genre_a][genre_b]\n",
    "z_transformed = []\n",
    "z_transformed_min = []\n",
    "d = {}\n",
    "for a in [0, 0.125, 0.2, 0.21, 0.22, 0.24]:\n",
    "    z_ = models.apply_transformation(z_sample, transformation, a)\n",
    "    z_transformed.append(z_)\n",
    "    z_ = models.apply_transformation(z_sample, min_transformation, a)\n",
    "    z_transformed_min.append(z_)\n",
    "\n",
    "x_generated = generator.predict(np.array(z_transformed))\n",
    "x_generated_min = generator.predict(np.array(z_transformed_min))"
   ]
  },
  {
   "cell_type": "code",
   "execution_count": 47,
   "metadata": {},
   "outputs": [
    {
     "name": "stdout",
     "output_type": "stream",
     "text": [
      "01 Rock'n'Roll/07 Thwag 170BPM \n",
      "  01 Rock'n'Roll/07 Thwag 170BPM \t-> 03 Traditional Pop/04 Love 155BPM \n"
     ]
    },
    {
     "data": {
      "image/png": "[encoded data removed]",
      "text/plain": [
       "<matplotlib.figure.Figure at 0x10fdedac8>"
      ]
     },
     "metadata": {},
     "output_type": "display_data"
    }
   ],
   "source": [
    "print('%s \\n  %s \\t-> %s '%(sample, genre_a, genre_b))\n",
    "# latent_space = models.gen_latent(generator, latent_dim=latent_dim, n=3, m=2, plot_result=True)\n",
    "plot.multi(x_generated, crop_size=100)"
   ]
  },
  {
   "cell_type": "code",
   "execution_count": 48,
   "metadata": {},
   "outputs": [
    {
     "data": {
      "image/png": "[encoded data removed]",
      "text/plain": [
       "<matplotlib.figure.Figure at 0x10fded438>"
      ]
     },
     "metadata": {},
     "output_type": "display_data"
    }
   ],
   "source": [
    "plot.multi(x_generated_min, crop_size=100)"
   ]
  },
  {
   "cell_type": "code",
   "execution_count": null,
   "metadata": {},
   "outputs": [],
   "source": []
  },
  {
   "cell_type": "code",
   "execution_count": 49,
   "metadata": {
    "scrolled": true
   },
   "outputs": [
    {
     "name": "stdout",
     "output_type": "stream",
     "text": [
      "\u001b[92m [INFO] : \u001b[0m\n",
      " |  len, max_t\n",
      " |  3.780208333333333\n",
      " |  4.0\n",
      "\u001b[92m [INFO] : \u001b[0m\n",
      " |  len, max_t\n",
      " |  3.780208333333333\n",
      " |  4.0\n",
      "\u001b[92m [INFO] : \u001b[0m\n",
      " |  len, max_t\n",
      " |  3.530208333333333\n",
      " |  4.0\n",
      "\u001b[92m [INFO] : \u001b[0m\n",
      " |  len, max_t\n",
      " |  3.780208333333333\n",
      " |  4.0\n",
      "\u001b[92m [INFO] : \u001b[0m\n",
      " |  len, max_t\n",
      " |  3.5302083333333334\n",
      " |  4.0\n",
      "\u001b[92m [INFO] : \u001b[0m\n",
      " |  len, max_t\n",
      " |  3.780208333333333\n",
      " |  4.0\n",
      "\u001b[92m [INFO] : \u001b[0m\n",
      " |  len, max_t\n",
      " |  3.5302083333333334\n",
      " |  4.0\n",
      "\u001b[92m [INFO] : \u001b[0m\n",
      " |  len, max_t\n",
      " |  3.780208333333333\n",
      " |  4.0\n",
      "\u001b[92m [INFO] : \u001b[0m\n",
      " |  len, max_t\n",
      " |  3.5302083333333334\n",
      " |  4.0\n",
      "\u001b[92m [INFO] : \u001b[0m\n",
      " |  len, max_t\n",
      " |  3.780208333333333\n",
      " |  4.0\n",
      "\u001b[92m [INFO] : \u001b[0m\n",
      " |  len, max_t\n",
      " |  3.7802083333333334\n",
      " |  4.0\n",
      "\u001b[92m [INFO] : \u001b[0m\n",
      " |  len, max_t\n",
      " |  3.780208333333333\n",
      " |  4.0\n"
     ]
    }
   ],
   "source": [
    "# utils.reload(midi, midi.decode)\n",
    "for i in range(x_generated.shape[0]):\n",
    "    x_ = x_generated[i]\n",
    "    mid = midi.decode.track(context, x_)\n",
    "    io.export_midifile(mid, config.export_dir + ('x-generated-%i'%i))\n",
    "    x_ = x_generated_min[i]\n",
    "    mid = midi.decode.track(context, x_)    \n",
    "    io.export_midifile(mid, config.export_dir + ('x-generated_min-%i'%i))    "
   ]
  },
  {
   "cell_type": "code",
   "execution_count": 50,
   "metadata": {},
   "outputs": [],
   "source": [
    "def summarize(data):\n",
    "    \"\"\"data :: {samples: {genre a: {genre b: grid}}}\n",
    "    grid = {parameter: outcome}\n",
    "    \n",
    "    return :: {parameter: [value] }\n",
    "    \"\"\"\n",
    "    summary = collections.defaultdict(list)\n",
    "    for original in data.keys():\n",
    "        for genre_a in data[original].keys():\n",
    "            for genre_b, grid in data[original][genre_a].items():\n",
    "                for k,v in grid.items():\n",
    "                    summary[k].append(v)\n",
    "    return summary\n",
    "\n",
    "def evaluate(data, verbose=0):\n",
    "    \"\"\"\n",
    "    data :: {parameter: [value] }\n",
    "    return :: {statistic: {parameter: value}}\n",
    "    \"\"\"\n",
    "    result = utils.summary_multi(data, mode=list)\n",
    "    std = []\n",
    "    for k,v in data.items():\n",
    "        std.append(np.std(v))\n",
    "    \n",
    "    result['std'] = std\n",
    "    if verbose: \n",
    "        print(result['mean'])\n",
    "    return result"
   ]
  },
  {
   "cell_type": "code",
   "execution_count": 51,
   "metadata": {
    "scrolled": true
   },
   "outputs": [],
   "source": [
    "result = summarize(labelled_result)\n",
    "result_min = summarize(labelled_result_min)\n",
    "xlabels = np.round(list(result.keys()), 3)\n",
    "summary = evaluate(result)\n",
    "summary_min = evaluate(result_min)\n",
    "summary_ = summary.copy() # {'Mean': summary['mean'], 'Median': summary['median']}\n",
    "summary_min_ = summary_min.copy()\n",
    "summary_.pop('std')\n",
    "summary_min_.pop('std');"
   ]
  },
  {
   "cell_type": "code",
   "execution_count": 52,
   "metadata": {},
   "outputs": [
    {
     "data": {
      "text/plain": [
       "'../results/ncd_result_min-summary.csv'"
      ]
     },
     "execution_count": 52,
     "metadata": {},
     "output_type": "execute_result"
    }
   ],
   "source": [
    "io.save_dict(config.results_dir, 'ncd_result-summary', summary)\n",
    "io.save_dict(config.results_dir, 'ncd_result_min-summary', summary_min)"
   ]
  },
  {
   "cell_type": "code",
   "execution_count": 53,
   "metadata": {},
   "outputs": [
    {
     "data": {
      "text/plain": [
       "array([0.  , 0.05, 0.1 , 0.15, 0.2 , 0.25, 0.3 , 0.35, 0.4 , 0.45, 0.5 ,\n",
       "       0.55, 0.6 , 0.65, 0.7 , 0.75, 0.8 , 0.85, 0.9 , 0.95, 1.  ])"
      ]
     },
     "execution_count": 53,
     "metadata": {},
     "output_type": "execute_result"
    }
   ],
   "source": [
    "xlabels"
   ]
  },
  {
   "cell_type": "code",
   "execution_count": 54,
   "metadata": {},
   "outputs": [
    {
     "data": {
      "image/png": "[encoded data removed]",
      "text/plain": [
       "<matplotlib.figure.Figure at 0x10095d550>"
      ]
     },
     "metadata": {},
     "output_type": "display_data"
    }
   ],
   "source": [
    "options = {'x_labels': xlabels, 'x_label':'Transformation intensity', 'y_label': 'ncd', 'legend':True}\n",
    "plot.custom(summary_, 'NCD', options,\n",
    "            type_='line', min_y_scale=None, max_y_scale=None, y_scale_margin=0.0001, show=True)"
   ]
  },
  {
   "cell_type": "code",
   "execution_count": 55,
   "metadata": {},
   "outputs": [
    {
     "data": {
      "image/png": "[encoded data removed]",
      "text/plain": [
       "<matplotlib.figure.Figure at 0x10e0b3fd0>"
      ]
     },
     "metadata": {},
     "output_type": "display_data"
    }
   ],
   "source": [
    "plot.custom(summary_, 'NCD', options,\n",
    "            type_='line', min_y_scale=None, max_y_scale=None, y_scale_margin=0.0001, show=True)"
   ]
  },
  {
   "cell_type": "code",
   "execution_count": 56,
   "metadata": {},
   "outputs": [
    {
     "data": {
      "image/png": "[encoded data removed]",
      "text/plain": [
       "<matplotlib.figure.Figure at 0x10e1b3080>"
      ]
     },
     "metadata": {},
     "output_type": "display_data"
    }
   ],
   "source": [
    "# utils.reload(plot)\n",
    "options = {'x_labels': xlabels}\n",
    "# custom(summary, 'NCD', options, relative=True, show=True)\n",
    "plot.custom({'Mean':summary['mean']}, 'NCD', options, type_='bar', min_y_scale=None, max_y_scale=None, y_scale_margin=0.001, show=True)"
   ]
  },
  {
   "cell_type": "code",
   "execution_count": 57,
   "metadata": {},
   "outputs": [
    {
     "data": {
      "image/png": "[encoded data removed]",
      "text/plain": [
       "<matplotlib.figure.Figure at 0x10e2d6b38>"
      ]
     },
     "metadata": {},
     "output_type": "display_data"
    }
   ],
   "source": [
    "plot.custom({'Mean':summary_min['mean']}, 'NCD min', options, type_='bar', min_y_scale=None, max_y_scale=None, y_scale_margin=0.001, show=True)"
   ]
  },
  {
   "cell_type": "code",
   "execution_count": 58,
   "metadata": {},
   "outputs": [
    {
     "data": {
      "image/png": "[encoded data removed]",
      "text/plain": [
       "<matplotlib.figure.Figure at 0x10ece39e8>"
      ]
     },
     "metadata": {},
     "output_type": "display_data"
    }
   ],
   "source": [
    "# utils.reload(plot)\n",
    "options = {'x_labels': xlabels,}\n",
    "# custom(summary, 'NCD', options, relative=True, show=True)\n",
    "std = {'Mean': summary['std'], 'Median': summary['std']}\n",
    "plot.custom({'Mean':summary['mean']}, 'NCD', options, type_='bar',std=std, min_y_scale=None, max_y_scale=None, y_scale_margin=0.03, show=True)"
   ]
  },
  {
   "cell_type": "code",
   "execution_count": 59,
   "metadata": {},
   "outputs": [
    {
     "data": {
      "image/png": "[encoded data removed]",
      "text/plain": [
       "<matplotlib.figure.Figure at 0x10ed2a630>"
      ]
     },
     "metadata": {},
     "output_type": "display_data"
    }
   ],
   "source": [
    "std_min = {'Mean': summary_min['std'], 'Median': summary_min['std']}\n",
    "plot.custom({'Mean':summary_min['mean']}, 'NCD min', options, type_='bar',std=std_min, min_y_scale=None, max_y_scale=None, y_scale_margin=0.03, show=True)"
   ]
  },
  {
   "cell_type": "code",
   "execution_count": 60,
   "metadata": {},
   "outputs": [
    {
     "data": {
      "image/png": "[encoded data removed]",
      "text/plain": [
       "<matplotlib.figure.Figure at 0x10ef0c780>"
      ]
     },
     "metadata": {},
     "output_type": "display_data"
    }
   ],
   "source": [
    "plot.custom({'Median':summary['median']}, 'NCD', options, type_='bar', std=std, show=True)"
   ]
  },
  {
   "cell_type": "code",
   "execution_count": 61,
   "metadata": {},
   "outputs": [
    {
     "data": {
      "image/png": "[encoded data removed]",
      "text/plain": [
       "<matplotlib.figure.Figure at 0x10f016668>"
      ]
     },
     "metadata": {},
     "output_type": "display_data"
    }
   ],
   "source": [
    "plot.custom({'Median':summary_min['median']}, 'NCD min', options, type_='bar', std=std_min, show=True)"
   ]
  },
  {
   "cell_type": "code",
   "execution_count": 62,
   "metadata": {},
   "outputs": [
    {
     "data": {
      "text/plain": [
       "dict_keys([0.0, 0.05, 0.1, 0.15000000000000002, 0.2, 0.25, 0.30000000000000004, 0.35000000000000003, 0.4, 0.45, 0.5, 0.55, 0.6000000000000001, 0.65, 0.7000000000000001, 0.75, 0.8, 0.8500000000000001, 0.9, 0.9500000000000001, 1.0])"
      ]
     },
     "execution_count": 62,
     "metadata": {},
     "output_type": "execute_result"
    }
   ],
   "source": [
    "result.keys()"
   ]
  },
  {
   "cell_type": "code",
   "execution_count": 63,
   "metadata": {},
   "outputs": [],
   "source": [
    "import scipy.stats"
   ]
  },
  {
   "cell_type": "code",
   "execution_count": 64,
   "metadata": {},
   "outputs": [],
   "source": [
    "# assume all distributions are related, do not shuffle\n",
    "# i.e. param1[0] is related to param2[0]\n",
    "def evaluate(data, base_k=0, f=scipy.stats.ttest_rel, p=0.05,win_c=lambda x,y: x>y):\n",
    "    result = {}\n",
    "    base_v = data[base_k]\n",
    "    for k,v in data.items():\n",
    "        if len(v) < 1:\n",
    "            raise(ValueError('Warning: len(v) == %i for k: %s'%(len(v), str(k))))\n",
    "        if not k == base_k:\n",
    "            score = scipy.stats.ttest_rel(base_v, v)\n",
    "            won = win_c(np.mean(base_v), np.mean(v))\n",
    "            significant = score.pvalue < p\n",
    "            result['%s/%s' % (base_k,k)] = (won, significant)\n",
    "            print('%s vs %s: \\t' % (base_k, k), won, significant, round(score.pvalue,4))"
   ]
  },
  {
   "cell_type": "code",
   "execution_count": 65,
   "metadata": {
    "scrolled": true
   },
   "outputs": [
    {
     "name": "stdout",
     "output_type": "stream",
     "text": [
      "0 vs 0.05: \t True False 0.0863\n",
      "0 vs 0.1: \t True False 0.0682\n",
      "0 vs 0.15000000000000002: \t True True 0.0472\n",
      "0 vs 0.2: \t True True 0.0015\n",
      "0 vs 0.25: \t True True 0.0012\n",
      "0 vs 0.30000000000000004: \t True True 0.0175\n",
      "0 vs 0.35000000000000003: \t True True 0.0151\n",
      "0 vs 0.4: \t True True 0.0247\n",
      "0 vs 0.45: \t True True 0.0305\n",
      "0 vs 0.5: \t True True 0.0082\n",
      "0 vs 0.55: \t True True 0.002\n",
      "0 vs 0.6000000000000001: \t True True 0.0002\n",
      "0 vs 0.65: \t True True 0.0004\n",
      "0 vs 0.7000000000000001: \t True True 0.0007\n",
      "0 vs 0.75: \t True True 0.0014\n",
      "0 vs 0.8: \t True True 0.0029\n",
      "0 vs 0.8500000000000001: \t True True 0.0058\n",
      "0 vs 0.9: \t True True 0.0154\n",
      "0 vs 0.9500000000000001: \t True True 0.0057\n",
      "0 vs 1.0: \t True True 0.0087\n"
     ]
    }
   ],
   "source": [
    "evaluate(result)"
   ]
  },
  {
   "cell_type": "code",
   "execution_count": 66,
   "metadata": {},
   "outputs": [
    {
     "name": "stdout",
     "output_type": "stream",
     "text": [
      "0 vs 0.05: \t True True 0.0355\n",
      "0 vs 0.1: \t True False 0.1379\n",
      "0 vs 0.15000000000000002: \t True True 0.0227\n",
      "0 vs 0.2: \t True True 0.0064\n",
      "0 vs 0.25: \t True True 0.001\n",
      "0 vs 0.30000000000000004: \t True True 0.0002\n",
      "0 vs 0.35000000000000003: \t True True 0.0009\n",
      "0 vs 0.4: \t True True 0.0014\n",
      "0 vs 0.45: \t True True 0.0054\n",
      "0 vs 0.5: \t True True 0.0011\n",
      "0 vs 0.55: \t True True 0.0007\n",
      "0 vs 0.6000000000000001: \t True True 0.001\n",
      "0 vs 0.65: \t True True 0.0002\n",
      "0 vs 0.7000000000000001: \t True True 0.0002\n",
      "0 vs 0.75: \t True True 0.0003\n",
      "0 vs 0.8: \t True True 0.001\n",
      "0 vs 0.8500000000000001: \t True True 0.0007\n",
      "0 vs 0.9: \t True True 0.0004\n",
      "0 vs 0.9500000000000001: \t True True 0.0002\n",
      "0 vs 1.0: \t True True 0.0001\n"
     ]
    }
   ],
   "source": [
    "evaluate(result_min)"
   ]
  },
  {
   "cell_type": "code",
   "execution_count": 67,
   "metadata": {
    "scrolled": true
   },
   "outputs": [
    {
     "name": "stdout",
     "output_type": "stream",
     "text": [
      "0 vs 0.05: \t True True 0.0355\n",
      "0 vs 0.1: \t True False 0.1379\n",
      "0 vs 0.15000000000000002: \t True True 0.0227\n",
      "0 vs 0.2: \t True True 0.0064\n",
      "0 vs 0.25: \t True True 0.001\n",
      "0 vs 0.30000000000000004: \t True True 0.0002\n",
      "0 vs 0.35000000000000003: \t True True 0.0009\n",
      "0 vs 0.4: \t True True 0.0014\n",
      "0 vs 0.45: \t True True 0.0054\n",
      "0 vs 0.5: \t True True 0.0011\n",
      "0 vs 0.55: \t True True 0.0007\n",
      "0 vs 0.6000000000000001: \t True True 0.001\n",
      "0 vs 0.65: \t True True 0.0002\n",
      "0 vs 0.7000000000000001: \t True True 0.0002\n",
      "0 vs 0.75: \t True True 0.0003\n",
      "0 vs 0.8: \t True True 0.001\n",
      "0 vs 0.8500000000000001: \t True True 0.0007\n",
      "0 vs 0.9: \t True True 0.0004\n",
      "0 vs 0.9500000000000001: \t True True 0.0002\n",
      "0 vs 1.0: \t True True 0.0001\n"
     ]
    }
   ],
   "source": [
    "evaluate(result_min, base_k=0, f=scipy.stats.ttest_ind)"
   ]
  },
  {
   "cell_type": "code",
   "execution_count": null,
   "metadata": {},
   "outputs": [],
   "source": []
  },
  {
   "cell_type": "code",
   "execution_count": null,
   "metadata": {},
   "outputs": [],
   "source": []
  },
  {
   "cell_type": "code",
   "execution_count": null,
   "metadata": {},
   "outputs": [],
   "source": []
  },
  {
   "cell_type": "code",
   "execution_count": null,
   "metadata": {},
   "outputs": [],
   "source": []
  },
  {
   "cell_type": "code",
   "execution_count": null,
   "metadata": {},
   "outputs": [],
   "source": []
  },
  {
   "cell_type": "code",
   "execution_count": null,
   "metadata": {},
   "outputs": [],
   "source": []
  },
  {
   "cell_type": "code",
   "execution_count": null,
   "metadata": {},
   "outputs": [],
   "source": []
  }
 ],
 "metadata": {
  "kernelspec": {
   "display_name": "Python 3",
   "language": "python",
   "name": "python3"
  },
  "language_info": {
   "codemirror_mode": {
    "name": "ipython",
    "version": 3
   },
   "file_extension": ".py",
   "mimetype": "text/x-python",
   "name": "python",
   "nbconvert_exporter": "python",
   "pygments_lexer": "ipython3",
   "version": "3.6.5"
  }
 },
 "nbformat": 4,
 "nbformat_minor": 2
}
