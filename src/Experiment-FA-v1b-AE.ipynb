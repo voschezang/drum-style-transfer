{
 "cells": [
  {
   "cell_type": "markdown",
   "metadata": {},
   "source": [
    "## Frequency Analysis\n",
    "\n",
    "Generating a complex pattern (distribution) from a single value can be done with dense layers, conv layer and recurrent layers. Autoencoders and Variational Autoencoders can easily be trained to decode a small latent-space vector into a complex image or waveform.\n",
    "\n",
    "This document investigates what kinds of networks are best suited to extract the required information needed to re-generate an input waveform.\n",
    "\n",
    "Ideally, we want a network that performs a component analysis of an input sample, and outputs the frequencies of the sinewaves that it consists of."
   ]
  },
  {
   "cell_type": "code",
   "execution_count": 1,
   "metadata": {},
   "outputs": [
    {
     "name": "stderr",
     "output_type": "stream",
     "text": [
      "/usr/local/lib/python3.6/site-packages/h5py/__init__.py:36: FutureWarning: Conversion of the second argument of issubdtype from `float` to `np.floating` is deprecated. In future, it will be treated as `np.float64 == np.dtype(float).type`.\n",
      "  from ._conv import register_converters as _register_converters\n",
      "Using TensorFlow backend.\n"
     ]
    }
   ],
   "source": [
    "from __future__ import division\n",
    "\n",
    "import keras\n",
    "from keras import backend as K\n",
    "from keras.layers import Layer\n",
    "from keras import activations\n",
    "from keras import utils\n",
    "from keras.datasets import cifar10\n",
    "from keras.models import Model\n",
    "from keras.layers import *\n",
    "from keras.preprocessing.image import ImageDataGenerator\n",
    "from keras.callbacks import TensorBoard"
   ]
  },
  {
   "cell_type": "code",
   "execution_count": 2,
   "metadata": {},
   "outputs": [
    {
     "name": "stdout",
     "output_type": "stream",
     "text": [
      " Context :: namedtuple(\n",
      "[ max_t = float\n",
      ", dt = float\n",
      ", n_instances = int\n",
      ", note_length = int\n",
      ", bpm = float\n",
      ", tempo = float\n",
      ", ticks_per_beat = int\n",
      "]\n",
      "\n"
     ]
    }
   ],
   "source": [
    "import matplotlib.pyplot as plt\n",
    "%matplotlib inline\n",
    "# local libs\n",
    "import config, models, functions\n",
    "from data import data, midi, midi_generators as g\n",
    "from utils import io, models_io, utils, plot\n",
    "from capsule.layers import Capsule, Length\n",
    "from capsule.capsulefunctions import squash, softmax, margin_loss"
   ]
  },
  {
   "cell_type": "code",
   "execution_count": 3,
   "metadata": {
    "scrolled": true
   },
   "outputs": [
    {
     "name": "stdout",
     "output_type": "stream",
     "text": [
      "Setting up params\n",
      "\n",
      "max min f 25.0 0.5\n",
      " >> Context(max_t=2.0, dt=0.02, n_instances=100, note_length=0.03, bpm=120.0, tempo=500000, ticks_per_beat=480)\n",
      "Setting up params\n",
      "\n",
      "max min f 25.0 0.5\n",
      " >> Context(max_t=2.0, dt=0.02, n_instances=100, note_length=0.03, bpm=120.0, tempo=500000, ticks_per_beat=480)\n",
      "Importing midi-data\n",
      "\n",
      "\u001b[92m [INFO] : \u001b[0m\n",
      " |  reading file: ../datasets/examples/simple-straight-120.mid\n",
      "\u001b[92m [INFO] : \u001b[0m\n",
      " |  reading file: ../datasets/examples/simple-shuffle-120.mid\n",
      "\n",
      "Encoding midi-data\n",
      " [<midi file '../datasets/examples/simple-straight-120.mid' type 0, 1 tracks, 68 messages>, <midi file '../datasets/examples/simple-shuffle-120.mid' type 0, 1 tracks, 68 messages>]\n",
      "> -> multi-track = True\n",
      "\u001b[92m [INFO] : \u001b[0m\n",
      " |  reduced dims:\n",
      " |  (2, 100, 1)\n"
     ]
    }
   ],
   "source": [
    "context = data.init()\n",
    "n = 2\n",
    "dim4 = True\n",
    "multiTrack = True\n",
    "context, x_train, labels = data.import_data(data.init(), n, dim4=dim4, multiTrack=multiTrack)"
   ]
  },
  {
   "cell_type": "code",
   "execution_count": 4,
   "metadata": {
    "scrolled": true
   },
   "outputs": [
    {
     "name": "stdout",
     "output_type": "stream",
     "text": [
      "\u001b[92m [INFO] : \u001b[0m\n",
      " |  reduced dims:\n",
      " |  (1000, 100, 1)\n"
     ]
    }
   ],
   "source": [
    "n = 1000\n",
    "min_f = 0.001\n",
    "max_f = 4\n",
    "x_train, params = g.gen_data_complex(context, n, max_f=max_f, min_f=min_f,\n",
    "    n_polyrythms=1,\n",
    "    n_channels=1,\n",
    "    d_phase=False,\n",
    "    return_params=True,\n",
    "    dim4=dim4,\n",
    "    multiTrack=multiTrack)"
   ]
  },
  {
   "cell_type": "code",
   "execution_count": 5,
   "metadata": {},
   "outputs": [
    {
     "data": {
      "text/plain": [
       "(1000, 1, 1)"
      ]
     },
     "execution_count": 5,
     "metadata": {},
     "output_type": "execute_result"
    }
   ],
   "source": [
    "params.shape # n, n_channels, n_polyrythms"
   ]
  },
  {
   "cell_type": "code",
   "execution_count": 6,
   "metadata": {},
   "outputs": [
    {
     "data": {
      "text/plain": [
       "(1000, 100, 1, 1)"
      ]
     },
     "execution_count": 6,
     "metadata": {},
     "output_type": "execute_result"
    }
   ],
   "source": [
    "x_train.shape"
   ]
  },
  {
   "cell_type": "code",
   "execution_count": 7,
   "metadata": {},
   "outputs": [
    {
     "data": {
      "text/plain": [
       "(array([ 67.,  92.,  72.,  91., 118.,  84.,  85.,  96.,  95., 100.]),\n",
       " array([2.36176029e-03, 4.01767438e-01, 8.01173115e-01, 1.20057879e+00,\n",
       "        1.59998447e+00, 1.99939015e+00, 2.39879582e+00, 2.79820150e+00,\n",
       "        3.19760718e+00, 3.59701286e+00, 3.99641853e+00]),\n",
       " <a list of 10 Patch objects>)"
      ]
     },
     "execution_count": 7,
     "metadata": {},
     "output_type": "execute_result"
    },
    {
     "data": {
      "image/png": "[encoded data removed]",
      "text/plain": [
       "<matplotlib.figure.Figure at 0x11e308e10>"
      ]
     },
     "metadata": {},
     "output_type": "display_data"
    }
   ],
   "source": [
    "m = int(x_train.shape[0] * 0.9)\n",
    "# m = 10\n",
    "plt.hist(params[:m,0,0])"
   ]
  },
  {
   "cell_type": "code",
   "execution_count": 8,
   "metadata": {},
   "outputs": [
    {
     "data": {
      "text/plain": [
       "[<matplotlib.lines.Line2D at 0x11e5f3080>]"
      ]
     },
     "execution_count": 8,
     "metadata": {},
     "output_type": "execute_result"
    },
    {
     "data": {
      "image/png": "[encoded data removed]",
      "text/plain": [
       "<matplotlib.figure.Figure at 0x11f0fa2e8>"
      ]
     },
     "metadata": {},
     "output_type": "display_data"
    }
   ],
   "source": [
    "plt.plot(params[:m,0,0])"
   ]
  },
  {
   "cell_type": "code",
   "execution_count": 9,
   "metadata": {},
   "outputs": [
    {
     "data": {
      "text/plain": [
       "(1000,)"
      ]
     },
     "execution_count": 9,
     "metadata": {},
     "output_type": "execute_result"
    }
   ],
   "source": [
    "# range_ = (max_f - min_f)\n",
    "range_ = max_f + 1 # extra margin = 1\n",
    "y_train = params[:,0,0] / range_\n",
    "y_train.shape"
   ]
  },
  {
   "cell_type": "code",
   "execution_count": 10,
   "metadata": {},
   "outputs": [
    {
     "data": {
      "text/plain": [
       "(1000, 100, 1, 1)"
      ]
     },
     "execution_count": 10,
     "metadata": {},
     "output_type": "execute_result"
    }
   ],
   "source": [
    "x_train.shape"
   ]
  },
  {
   "cell_type": "code",
   "execution_count": 11,
   "metadata": {},
   "outputs": [],
   "source": [
    "x_test = x_train[m:]\n",
    "x_train = x_train[:m]\n",
    "y_test = y_train[m:]\n",
    "y_train = y_train[:m]"
   ]
  },
  {
   "cell_type": "code",
   "execution_count": 12,
   "metadata": {},
   "outputs": [
    {
     "data": {
      "text/plain": [
       "[<matplotlib.lines.Line2D at 0x11ed9add8>]"
      ]
     },
     "execution_count": 12,
     "metadata": {},
     "output_type": "execute_result"
    },
    {
     "data": {
      "image/png": "[encoded data removed]",
      "text/plain": [
       "<matplotlib.figure.Figure at 0x11e3208d0>"
      ]
     },
     "metadata": {},
     "output_type": "display_data"
    }
   ],
   "source": [
    "plt.plot(y_train)"
   ]
  },
  {
   "cell_type": "code",
   "execution_count": 13,
   "metadata": {},
   "outputs": [
    {
     "name": "stdout",
     "output_type": "stream",
     "text": [
      "m (30, 1)\n"
     ]
    },
    {
     "data": {
      "image/png": "[encoded data removed]",
      "text/plain": [
       "<matplotlib.figure.Figure at 0x11eda6320>"
      ]
     },
     "metadata": {},
     "output_type": "display_data"
    },
    {
     "name": "stdout",
     "output_type": "stream",
     "text": [
      "m (30, 1)\n"
     ]
    },
    {
     "data": {
      "image/png": "[encoded data removed]",
      "text/plain": [
       "<matplotlib.figure.Figure at 0x11e5fb0b8>"
      ]
     },
     "metadata": {},
     "output_type": "display_data"
    },
    {
     "name": "stdout",
     "output_type": "stream",
     "text": [
      "[0.7444838  0.73133816]\n"
     ]
    }
   ],
   "source": [
    "i = 0\n",
    "plot.single(x_train[i,:30,0])\n",
    "plot.single(x_train[i+1,:30,0])\n",
    "print(y_train[i:i+2])"
   ]
  },
  {
   "cell_type": "markdown",
   "metadata": {},
   "source": [
    "Make sure all frequencies fall inside the window"
   ]
  },
  {
   "cell_type": "code",
   "execution_count": 14,
   "metadata": {},
   "outputs": [
    {
     "name": "stdout",
     "output_type": "stream",
     "text": [
      "m (30, 1)\n"
     ]
    },
    {
     "data": {
      "image/png": "[encoded data removed]",
      "text/plain": [
       "<matplotlib.figure.Figure at 0x11e8874a8>"
      ]
     },
     "metadata": {},
     "output_type": "display_data"
    },
    {
     "name": "stdout",
     "output_type": "stream",
     "text": [
      "m (30, 1)\n"
     ]
    },
    {
     "data": {
      "image/png": "[encoded data removed]",
      "text/plain": [
       "<matplotlib.figure.Figure at 0x11e506668>"
      ]
     },
     "metadata": {},
     "output_type": "display_data"
    },
    {
     "name": "stdout",
     "output_type": "stream",
     "text": [
      "0.7992837066789173 0.00047235205807517053\n"
     ]
    }
   ],
   "source": [
    "i = y_train.argmax()\n",
    "j = y_train.argmin()\n",
    "plot.single(x_train[i,:30,0])\n",
    "plot.single(x_train[j,:30,0])\n",
    "print(y_train[i], y_train[j])"
   ]
  },
  {
   "cell_type": "code",
   "execution_count": 15,
   "metadata": {},
   "outputs": [
    {
     "data": {
      "text/plain": [
       "(100, 1, 1)"
      ]
     },
     "execution_count": 15,
     "metadata": {},
     "output_type": "execute_result"
    }
   ],
   "source": [
    "input_shape = x_train[0].shape\n",
    "input_shape"
   ]
  },
  {
   "cell_type": "code",
   "execution_count": 16,
   "metadata": {},
   "outputs": [
    {
     "name": "stdout",
     "output_type": "stream",
     "text": [
      "_________________________________________________________________\n",
      "Layer (type)                 Output Shape              Param #   \n",
      "=================================================================\n",
      "input_1 (InputLayer)         (None, 100, 1, 1)         0         \n",
      "_________________________________________________________________\n",
      "reshape_1 (Reshape)          (None, 100, 1)            0         \n",
      "_________________________________________________________________\n",
      "simple_rnn_1 (SimpleRNN)     (None, 1)                 3         \n",
      "_________________________________________________________________\n",
      "dense_1 (Dense)              (None, 1)                 2         \n",
      "=================================================================\n",
      "Total params: 5\n",
      "Trainable params: 5\n",
      "Non-trainable params: 0\n",
      "_________________________________________________________________\n"
     ]
    }
   ],
   "source": [
    "timesteps, notes, channels = input_shape\n",
    "\n",
    "encoder_input = Input(shape=(timesteps, notes, channels))\n",
    "x = encoder_input\n",
    "\n",
    "x = Reshape((timesteps, notes))(x)\n",
    "x = SimpleRNN(1)(x)\n",
    "x = Dense(1, activation='sigmoid')(x)\n",
    "\n",
    "encoder_output = x\n",
    "\n",
    "encoder_model = Model(encoder_input, encoder_output, name='encoder-')\n",
    "encoder_model.summary()"
   ]
  },
  {
   "cell_type": "code",
   "execution_count": 17,
   "metadata": {},
   "outputs": [],
   "source": [
    "loss = 'mse' # mse mae binary_crossentropy rmsprop adadelta\n",
    "encoder_model.compile(loss=loss, optimizer='rmsprop', metrics=['accuracy','mae','binary_crossentropy'])"
   ]
  },
  {
   "cell_type": "code",
   "execution_count": 18,
   "metadata": {},
   "outputs": [],
   "source": [
    "phase_mod = 0.1\n",
    "whitening = False\n",
    "\n",
    "datagen = ImageDataGenerator(\n",
    "        featurewise_center=False,  # set input mean to 0 over the dataset\n",
    "        samplewise_center=False,  # set each sample mean to 0\n",
    "        featurewise_std_normalization=False,  # divide inputs by dataset std\n",
    "        samplewise_std_normalization=False,  # divide each input by its std\n",
    "#         zca_epsilon=10,\n",
    "        zca_whitening=whitening,\n",
    "        rotation_range=0,  # randomly rotate images in 0 to 180 degrees\n",
    "        width_shift_range=0.,  # note-channel mod, but not shuffled\n",
    "        height_shift_range=phase_mod,  # start_t, phase\n",
    "        horizontal_flip=False,  # reverse\n",
    "        vertical_flip=False)\n",
    "\n",
    "datagen.fit(x_train)"
   ]
  },
  {
   "cell_type": "code",
   "execution_count": 19,
   "metadata": {},
   "outputs": [],
   "source": [
    "batch_size = 100\n",
    "epochs = 50"
   ]
  },
  {
   "cell_type": "code",
   "execution_count": 20,
   "metadata": {
    "scrolled": true
   },
   "outputs": [
    {
     "name": "stdout",
     "output_type": "stream",
     "text": [
      "Not using data augmentation.\n",
      "Train on 900 samples, validate on 100 samples\n",
      "Epoch 1/50\n",
      "900/900 [==============================] - 0s 380us/step - loss: 0.0584 - acc: 0.0000e+00 - mean_absolute_error: 0.2044 - binary_crossentropy: 0.6935 - val_loss: 0.0686 - val_acc: 0.0000e+00 - val_mean_absolute_error: 0.2219 - val_binary_crossentropy: 0.6926\n",
      "Epoch 2/50\n",
      "900/900 [==============================] - 0s 157us/step - loss: 0.0576 - acc: 0.0000e+00 - mean_absolute_error: 0.2035 - binary_crossentropy: 0.6920 - val_loss: 0.0679 - val_acc: 0.0000e+00 - val_mean_absolute_error: 0.2214 - val_binary_crossentropy: 0.6912\n",
      "Epoch 3/50\n",
      "900/900 [==============================] - 0s 172us/step - loss: 0.0572 - acc: 0.0000e+00 - mean_absolute_error: 0.2028 - binary_crossentropy: 0.6911 - val_loss: 0.0673 - val_acc: 0.0000e+00 - val_mean_absolute_error: 0.2210 - val_binary_crossentropy: 0.6901\n",
      "Epoch 4/50\n",
      "900/900 [==============================] - 0s 172us/step - loss: 0.0568 - acc: 0.0000e+00 - mean_absolute_error: 0.2023 - binary_crossentropy: 0.6903 - val_loss: 0.0669 - val_acc: 0.0000e+00 - val_mean_absolute_error: 0.2207 - val_binary_crossentropy: 0.6892\n",
      "Epoch 5/50\n",
      "900/900 [==============================] - 0s 167us/step - loss: 0.0564 - acc: 0.0000e+00 - mean_absolute_error: 0.2019 - binary_crossentropy: 0.6895 - val_loss: 0.0664 - val_acc: 0.0000e+00 - val_mean_absolute_error: 0.2204 - val_binary_crossentropy: 0.6883\n",
      "Epoch 6/50\n",
      "900/900 [==============================] - 0s 167us/step - loss: 0.0561 - acc: 0.0000e+00 - mean_absolute_error: 0.2014 - binary_crossentropy: 0.6889 - val_loss: 0.0660 - val_acc: 0.0000e+00 - val_mean_absolute_error: 0.2200 - val_binary_crossentropy: 0.6875\n",
      "Epoch 7/50\n",
      "900/900 [==============================] - 0s 154us/step - loss: 0.0557 - acc: 0.0000e+00 - mean_absolute_error: 0.2010 - binary_crossentropy: 0.6882 - val_loss: 0.0656 - val_acc: 0.0000e+00 - val_mean_absolute_error: 0.2198 - val_binary_crossentropy: 0.6867\n",
      "Epoch 8/50\n",
      "900/900 [==============================] - 0s 194us/step - loss: 0.0554 - acc: 0.0000e+00 - mean_absolute_error: 0.2006 - binary_crossentropy: 0.6876 - val_loss: 0.0652 - val_acc: 0.0000e+00 - val_mean_absolute_error: 0.2195 - val_binary_crossentropy: 0.6859\n",
      "Epoch 9/50\n",
      "900/900 [==============================] - 0s 194us/step - loss: 0.0551 - acc: 0.0000e+00 - mean_absolute_error: 0.2002 - binary_crossentropy: 0.6870 - val_loss: 0.0649 - val_acc: 0.0000e+00 - val_mean_absolute_error: 0.2192 - val_binary_crossentropy: 0.6852\n",
      "Epoch 10/50\n",
      "900/900 [==============================] - 0s 163us/step - loss: 0.0549 - acc: 0.0000e+00 - mean_absolute_error: 0.1999 - binary_crossentropy: 0.6865 - val_loss: 0.0645 - val_acc: 0.0000e+00 - val_mean_absolute_error: 0.2189 - val_binary_crossentropy: 0.6845\n",
      "Epoch 11/50\n",
      "900/900 [==============================] - 0s 176us/step - loss: 0.0546 - acc: 0.0000e+00 - mean_absolute_error: 0.1995 - binary_crossentropy: 0.6860 - val_loss: 0.0642 - val_acc: 0.0000e+00 - val_mean_absolute_error: 0.2187 - val_binary_crossentropy: 0.6839\n",
      "Epoch 12/50\n",
      "900/900 [==============================] - 0s 179us/step - loss: 0.0544 - acc: 0.0000e+00 - mean_absolute_error: 0.1992 - binary_crossentropy: 0.6855 - val_loss: 0.0639 - val_acc: 0.0000e+00 - val_mean_absolute_error: 0.2184 - val_binary_crossentropy: 0.6832\n",
      "Epoch 13/50\n",
      "900/900 [==============================] - 0s 181us/step - loss: 0.0541 - acc: 0.0000e+00 - mean_absolute_error: 0.1988 - binary_crossentropy: 0.6850 - val_loss: 0.0636 - val_acc: 0.0000e+00 - val_mean_absolute_error: 0.2182 - val_binary_crossentropy: 0.6826\n",
      "Epoch 14/50\n",
      "900/900 [==============================] - 0s 182us/step - loss: 0.0539 - acc: 0.0000e+00 - mean_absolute_error: 0.1985 - binary_crossentropy: 0.6845 - val_loss: 0.0633 - val_acc: 0.0000e+00 - val_mean_absolute_error: 0.2180 - val_binary_crossentropy: 0.6820\n",
      "Epoch 15/50\n",
      "900/900 [==============================] - 0s 175us/step - loss: 0.0537 - acc: 0.0000e+00 - mean_absolute_error: 0.1982 - binary_crossentropy: 0.6841 - val_loss: 0.0630 - val_acc: 0.0000e+00 - val_mean_absolute_error: 0.2178 - val_binary_crossentropy: 0.6815\n",
      "Epoch 16/50\n",
      "900/900 [==============================] - 0s 190us/step - loss: 0.0535 - acc: 0.0000e+00 - mean_absolute_error: 0.1979 - binary_crossentropy: 0.6837 - val_loss: 0.0627 - val_acc: 0.0000e+00 - val_mean_absolute_error: 0.2176 - val_binary_crossentropy: 0.6809\n",
      "Epoch 17/50\n",
      "900/900 [==============================] - 0s 166us/step - loss: 0.0533 - acc: 0.0000e+00 - mean_absolute_error: 0.1976 - binary_crossentropy: 0.6833 - val_loss: 0.0625 - val_acc: 0.0000e+00 - val_mean_absolute_error: 0.2173 - val_binary_crossentropy: 0.6804\n",
      "Epoch 18/50\n",
      "900/900 [==============================] - 0s 170us/step - loss: 0.0531 - acc: 0.0000e+00 - mean_absolute_error: 0.1974 - binary_crossentropy: 0.6830 - val_loss: 0.0622 - val_acc: 0.0000e+00 - val_mean_absolute_error: 0.2172 - val_binary_crossentropy: 0.6799\n",
      "Epoch 19/50\n",
      "900/900 [==============================] - 0s 170us/step - loss: 0.0529 - acc: 0.0000e+00 - mean_absolute_error: 0.1971 - binary_crossentropy: 0.6826 - val_loss: 0.0620 - val_acc: 0.0000e+00 - val_mean_absolute_error: 0.2170 - val_binary_crossentropy: 0.6794\n",
      "Epoch 20/50\n",
      "900/900 [==============================] - 0s 166us/step - loss: 0.0528 - acc: 0.0000e+00 - mean_absolute_error: 0.1969 - binary_crossentropy: 0.6823 - val_loss: 0.0618 - val_acc: 0.0000e+00 - val_mean_absolute_error: 0.2169 - val_binary_crossentropy: 0.6790\n",
      "Epoch 21/50\n",
      "900/900 [==============================] - 0s 163us/step - loss: 0.0526 - acc: 0.0000e+00 - mean_absolute_error: 0.1966 - binary_crossentropy: 0.6820 - val_loss: 0.0616 - val_acc: 0.0000e+00 - val_mean_absolute_error: 0.2168 - val_binary_crossentropy: 0.6785\n",
      "Epoch 22/50\n",
      "900/900 [==============================] - 0s 188us/step - loss: 0.0525 - acc: 0.0000e+00 - mean_absolute_error: 0.1964 - binary_crossentropy: 0.6817 - val_loss: 0.0614 - val_acc: 0.0000e+00 - val_mean_absolute_error: 0.2166 - val_binary_crossentropy: 0.6781\n",
      "Epoch 23/50\n",
      "900/900 [==============================] - 0s 182us/step - loss: 0.0524 - acc: 0.0000e+00 - mean_absolute_error: 0.1961 - binary_crossentropy: 0.6814 - val_loss: 0.0612 - val_acc: 0.0000e+00 - val_mean_absolute_error: 0.2165 - val_binary_crossentropy: 0.6778\n",
      "Epoch 24/50\n",
      "900/900 [==============================] - 0s 162us/step - loss: 0.0522 - acc: 0.0000e+00 - mean_absolute_error: 0.1960 - binary_crossentropy: 0.6812 - val_loss: 0.0610 - val_acc: 0.0000e+00 - val_mean_absolute_error: 0.2164 - val_binary_crossentropy: 0.6774\n",
      "Epoch 25/50\n",
      "900/900 [==============================] - 0s 163us/step - loss: 0.0521 - acc: 0.0000e+00 - mean_absolute_error: 0.1958 - binary_crossentropy: 0.6810 - val_loss: 0.0608 - val_acc: 0.0000e+00 - val_mean_absolute_error: 0.2163 - val_binary_crossentropy: 0.6770\n",
      "Epoch 26/50\n",
      "900/900 [==============================] - 0s 164us/step - loss: 0.0520 - acc: 0.0000e+00 - mean_absolute_error: 0.1956 - binary_crossentropy: 0.6808 - val_loss: 0.0607 - val_acc: 0.0000e+00 - val_mean_absolute_error: 0.2162 - val_binary_crossentropy: 0.6768\n",
      "Epoch 27/50\n",
      "900/900 [==============================] - 0s 179us/step - loss: 0.0519 - acc: 0.0000e+00 - mean_absolute_error: 0.1954 - binary_crossentropy: 0.6806 - val_loss: 0.0605 - val_acc: 0.0000e+00 - val_mean_absolute_error: 0.2161 - val_binary_crossentropy: 0.6765\n",
      "Epoch 28/50\n",
      "900/900 [==============================] - 0s 181us/step - loss: 0.0519 - acc: 0.0000e+00 - mean_absolute_error: 0.1953 - binary_crossentropy: 0.6804 - val_loss: 0.0604 - val_acc: 0.0000e+00 - val_mean_absolute_error: 0.2160 - val_binary_crossentropy: 0.6762\n",
      "Epoch 29/50\n",
      "900/900 [==============================] - 0s 182us/step - loss: 0.0518 - acc: 0.0000e+00 - mean_absolute_error: 0.1951 - binary_crossentropy: 0.6803 - val_loss: 0.0603 - val_acc: 0.0000e+00 - val_mean_absolute_error: 0.2159 - val_binary_crossentropy: 0.6759\n",
      "Epoch 30/50\n",
      "900/900 [==============================] - 0s 161us/step - loss: 0.0517 - acc: 0.0000e+00 - mean_absolute_error: 0.1950 - binary_crossentropy: 0.6802 - val_loss: 0.0602 - val_acc: 0.0000e+00 - val_mean_absolute_error: 0.2158 - val_binary_crossentropy: 0.6757\n"
     ]
    },
    {
     "name": "stdout",
     "output_type": "stream",
     "text": [
      "Epoch 31/50\n",
      "900/900 [==============================] - 0s 164us/step - loss: 0.0517 - acc: 0.0000e+00 - mean_absolute_error: 0.1949 - binary_crossentropy: 0.6801 - val_loss: 0.0601 - val_acc: 0.0000e+00 - val_mean_absolute_error: 0.2157 - val_binary_crossentropy: 0.6755\n",
      "Epoch 32/50\n",
      "900/900 [==============================] - 0s 170us/step - loss: 0.0516 - acc: 0.0000e+00 - mean_absolute_error: 0.1948 - binary_crossentropy: 0.6800 - val_loss: 0.0600 - val_acc: 0.0000e+00 - val_mean_absolute_error: 0.2156 - val_binary_crossentropy: 0.6753\n",
      "Epoch 33/50\n",
      "900/900 [==============================] - 0s 194us/step - loss: 0.0516 - acc: 0.0000e+00 - mean_absolute_error: 0.1947 - binary_crossentropy: 0.6799 - val_loss: 0.0599 - val_acc: 0.0000e+00 - val_mean_absolute_error: 0.2155 - val_binary_crossentropy: 0.6752\n",
      "Epoch 34/50\n",
      "900/900 [==============================] - 0s 180us/step - loss: 0.0515 - acc: 0.0000e+00 - mean_absolute_error: 0.1946 - binary_crossentropy: 0.6798 - val_loss: 0.0598 - val_acc: 0.0000e+00 - val_mean_absolute_error: 0.2154 - val_binary_crossentropy: 0.6751\n",
      "Epoch 35/50\n",
      "900/900 [==============================] - 0s 167us/step - loss: 0.0515 - acc: 0.0000e+00 - mean_absolute_error: 0.1946 - binary_crossentropy: 0.6797 - val_loss: 0.0598 - val_acc: 0.0000e+00 - val_mean_absolute_error: 0.2154 - val_binary_crossentropy: 0.6749\n",
      "Epoch 36/50\n",
      "900/900 [==============================] - 0s 153us/step - loss: 0.0515 - acc: 0.0000e+00 - mean_absolute_error: 0.1946 - binary_crossentropy: 0.6797 - val_loss: 0.0597 - val_acc: 0.0000e+00 - val_mean_absolute_error: 0.2153 - val_binary_crossentropy: 0.6748\n",
      "Epoch 37/50\n",
      "900/900 [==============================] - 0s 138us/step - loss: 0.0515 - acc: 0.0000e+00 - mean_absolute_error: 0.1945 - binary_crossentropy: 0.6796 - val_loss: 0.0597 - val_acc: 0.0000e+00 - val_mean_absolute_error: 0.2153 - val_binary_crossentropy: 0.6747\n",
      "Epoch 38/50\n",
      "900/900 [==============================] - 0s 141us/step - loss: 0.0514 - acc: 0.0000e+00 - mean_absolute_error: 0.1945 - binary_crossentropy: 0.6796 - val_loss: 0.0596 - val_acc: 0.0000e+00 - val_mean_absolute_error: 0.2152 - val_binary_crossentropy: 0.6746\n",
      "Epoch 39/50\n",
      "900/900 [==============================] - 0s 121us/step - loss: 0.0514 - acc: 0.0000e+00 - mean_absolute_error: 0.1945 - binary_crossentropy: 0.6795 - val_loss: 0.0596 - val_acc: 0.0000e+00 - val_mean_absolute_error: 0.2152 - val_binary_crossentropy: 0.6745\n",
      "Epoch 40/50\n",
      "900/900 [==============================] - 0s 117us/step - loss: 0.0514 - acc: 0.0000e+00 - mean_absolute_error: 0.1945 - binary_crossentropy: 0.6795 - val_loss: 0.0595 - val_acc: 0.0000e+00 - val_mean_absolute_error: 0.2152 - val_binary_crossentropy: 0.6744\n",
      "Epoch 41/50\n",
      "900/900 [==============================] - 0s 141us/step - loss: 0.0514 - acc: 0.0000e+00 - mean_absolute_error: 0.1944 - binary_crossentropy: 0.6795 - val_loss: 0.0595 - val_acc: 0.0000e+00 - val_mean_absolute_error: 0.2152 - val_binary_crossentropy: 0.6743\n",
      "Epoch 42/50\n",
      "900/900 [==============================] - 0s 178us/step - loss: 0.0514 - acc: 0.0000e+00 - mean_absolute_error: 0.1944 - binary_crossentropy: 0.6794 - val_loss: 0.0595 - val_acc: 0.0000e+00 - val_mean_absolute_error: 0.2151 - val_binary_crossentropy: 0.6743\n",
      "Epoch 43/50\n",
      "900/900 [==============================] - 0s 156us/step - loss: 0.0514 - acc: 0.0000e+00 - mean_absolute_error: 0.1944 - binary_crossentropy: 0.6794 - val_loss: 0.0594 - val_acc: 0.0000e+00 - val_mean_absolute_error: 0.2151 - val_binary_crossentropy: 0.6742\n",
      "Epoch 44/50\n",
      "900/900 [==============================] - 0s 128us/step - loss: 0.0513 - acc: 0.0000e+00 - mean_absolute_error: 0.1944 - binary_crossentropy: 0.6794 - val_loss: 0.0594 - val_acc: 0.0000e+00 - val_mean_absolute_error: 0.2151 - val_binary_crossentropy: 0.6742\n",
      "Epoch 45/50\n",
      "900/900 [==============================] - 0s 117us/step - loss: 0.0513 - acc: 0.0000e+00 - mean_absolute_error: 0.1944 - binary_crossentropy: 0.6794 - val_loss: 0.0594 - val_acc: 0.0000e+00 - val_mean_absolute_error: 0.2151 - val_binary_crossentropy: 0.6741\n",
      "Epoch 46/50\n",
      "900/900 [==============================] - 0s 156us/step - loss: 0.0513 - acc: 0.0000e+00 - mean_absolute_error: 0.1943 - binary_crossentropy: 0.6794 - val_loss: 0.0594 - val_acc: 0.0000e+00 - val_mean_absolute_error: 0.2151 - val_binary_crossentropy: 0.6741\n",
      "Epoch 47/50\n",
      "900/900 [==============================] - 0s 150us/step - loss: 0.0513 - acc: 0.0000e+00 - mean_absolute_error: 0.1943 - binary_crossentropy: 0.6794 - val_loss: 0.0594 - val_acc: 0.0000e+00 - val_mean_absolute_error: 0.2151 - val_binary_crossentropy: 0.6741\n",
      "Epoch 48/50\n",
      "900/900 [==============================] - 0s 136us/step - loss: 0.0513 - acc: 0.0000e+00 - mean_absolute_error: 0.1943 - binary_crossentropy: 0.6793 - val_loss: 0.0594 - val_acc: 0.0000e+00 - val_mean_absolute_error: 0.2150 - val_binary_crossentropy: 0.6740\n",
      "Epoch 49/50\n",
      "900/900 [==============================] - 0s 143us/step - loss: 0.0513 - acc: 0.0000e+00 - mean_absolute_error: 0.1943 - binary_crossentropy: 0.6793 - val_loss: 0.0593 - val_acc: 0.0000e+00 - val_mean_absolute_error: 0.2150 - val_binary_crossentropy: 0.6740\n",
      "Epoch 50/50\n",
      "900/900 [==============================] - 0s 171us/step - loss: 0.0513 - acc: 0.0000e+00 - mean_absolute_error: 0.1943 - binary_crossentropy: 0.6793 - val_loss: 0.0593 - val_acc: 0.0000e+00 - val_mean_absolute_error: 0.2150 - val_binary_crossentropy: 0.6740\n"
     ]
    }
   ],
   "source": [
    "data_augmentation = False\n",
    "# data_augmentation = True\n",
    "\n",
    "callbacks = []\n",
    "# callbacks = [TensorBoard(log_dir=config.tmp_log_dir)]\n",
    "\n",
    "if not data_augmentation:\n",
    "    print('Not using data augmentation.')\n",
    "#     history = ae.fit(x_train, epochs=epochs, validation_data=(x_test, None))\n",
    "    history = encoder_model.fit(\n",
    "        x_train,\n",
    "        y_train,\n",
    "        batch_size=batch_size,\n",
    "        epochs=epochs,\n",
    "        validation_data=(x_test, y_test),\n",
    "        callbacks=callbacks,\n",
    "        shuffle=True)\n",
    "else:\n",
    "    print('Using real-time data augmentation.')    \n",
    "    history = encoder_model.fit_generator(\n",
    "        datagen.flow(x_train, y_train, batch_size=batch_size),\n",
    "        epochs=epochs,\n",
    "        validation_data=(x_test, y_test),\n",
    "        callbacks=callbacks,\n",
    "        workers=4)"
   ]
  },
  {
   "cell_type": "code",
   "execution_count": 21,
   "metadata": {},
   "outputs": [
    {
     "data": {
      "text/plain": [
       "[<matplotlib.lines.Line2D at 0x11e901e48>]"
      ]
     },
     "execution_count": 21,
     "metadata": {},
     "output_type": "execute_result"
    },
    {
     "data": {
      "image/png": "[encoded data removed]",
      "text/plain": [
       "<matplotlib.figure.Figure at 0x11e901cf8>"
      ]
     },
     "metadata": {},
     "output_type": "display_data"
    }
   ],
   "source": [
    "plt.plot(history.history['loss'])\n",
    "plt.plot(history.history['val_loss'])"
   ]
  },
  {
   "cell_type": "code",
   "execution_count": 22,
   "metadata": {},
   "outputs": [
    {
     "data": {
      "text/plain": [
       "[<matplotlib.lines.Line2D at 0x11eff02e8>]"
      ]
     },
     "execution_count": 22,
     "metadata": {},
     "output_type": "execute_result"
    },
    {
     "data": {
      "image/png": "[encoded data removed]",
      "text/plain": [
       "<matplotlib.figure.Figure at 0x11eff0208>"
      ]
     },
     "metadata": {},
     "output_type": "display_data"
    }
   ],
   "source": [
    "plt.plot(history.history['acc'])\n",
    "plt.plot(history.history['val_acc'])"
   ]
  },
  {
   "cell_type": "code",
   "execution_count": 23,
   "metadata": {},
   "outputs": [
    {
     "data": {
      "text/plain": [
       "[<matplotlib.lines.Line2D at 0x11e57ae80>]"
      ]
     },
     "execution_count": 23,
     "metadata": {},
     "output_type": "execute_result"
    },
    {
     "data": {
      "image/png": "[encoded data removed]",
      "text/plain": [
       "<matplotlib.figure.Figure at 0x11e57ae10>"
      ]
     },
     "metadata": {},
     "output_type": "display_data"
    }
   ],
   "source": [
    "plt.plot(history.history['mean_absolute_error'])\n",
    "plt.plot(history.history['val_mean_absolute_error'])"
   ]
  },
  {
   "cell_type": "code",
   "execution_count": 24,
   "metadata": {},
   "outputs": [
    {
     "data": {
      "text/plain": [
       "array([0.4272855], dtype=float32)"
      ]
     },
     "execution_count": 24,
     "metadata": {},
     "output_type": "execute_result"
    }
   ],
   "source": [
    "i = 1\n",
    "encoder_model.predict(x_train)[i]"
   ]
  },
  {
   "cell_type": "code",
   "execution_count": 25,
   "metadata": {},
   "outputs": [
    {
     "data": {
      "text/plain": [
       "0.7313381585401277"
      ]
     },
     "execution_count": 25,
     "metadata": {},
     "output_type": "execute_result"
    }
   ],
   "source": [
    "y_train[i]"
   ]
  },
  {
   "cell_type": "code",
   "execution_count": 26,
   "metadata": {},
   "outputs": [
    {
     "data": {
      "text/plain": [
       "array(0., dtype=float32)"
      ]
     },
     "execution_count": 26,
     "metadata": {},
     "output_type": "execute_result"
    }
   ],
   "source": [
    "keras.backend.cast_to_floatx(0)"
   ]
  },
  {
   "cell_type": "code",
   "execution_count": 27,
   "metadata": {},
   "outputs": [],
   "source": [
    "from keras.utils.generic_utils import get_custom_objects"
   ]
  },
  {
   "cell_type": "code",
   "execution_count": 28,
   "metadata": {},
   "outputs": [],
   "source": [
    "# saw = Lambda(lambda x: x % 1) # No gradient defined for operation 'mod' (op type: FloorMod)\n",
    "def saw(x):\n",
    "     # No gradient defined for operation 'mod' (op type: FloorMod)\n",
    "    # return x % 1\n",
    "    \n",
    "#     return K.tf.where(x < 1, x, K.zeros_like(x))\n",
    "    return K.tf.where(x < 1, x, x - 1)\n",
    "\n",
    "def sawDescending(x):\n",
    "     # No gradient defined for operation 'mod' (op type: FloorMod)\n",
    "    # return x % 1\n",
    "#     return K.tf.where(x > 0, x, K.ones_like(x))\n",
    "    return K.tf.where(x > 0, x, x + 1)\n",
    "\n",
    "get_custom_objects().update({'saw': Activation(saw), 'sawDescending': Activation(sawDescending)})\n",
    "\n",
    "# make sure to import this function when loading this model in another module"
   ]
  },
  {
   "cell_type": "code",
   "execution_count": 29,
   "metadata": {},
   "outputs": [],
   "source": [
    "# # saw = Lambda(lambda x: x % 1) # No gradient defined for operation 'mod' (op type: FloorMod)\n",
    "# def saw(x):\n",
    "#      # No gradient defined for operation 'mod' (op type: FloorMod)\n",
    "#     # return x % 1\n",
    "#     return K.tf.where(x < 1, x, x - 1)\n",
    "\n",
    "# def sawDescending(x):\n",
    "#      # No gradient defined for operation 'mod' (op type: FloorMod)\n",
    "#     # return x % 1\n",
    "#     return K.tf.where(x < 0, K.ones_like(x), x)\n",
    "\n",
    "# get_custom_objects().update({'saw': Activation(saw), 'sawDescending': Activation(sawDescending)})\n",
    "\n",
    "# # make sure to import this function when loading this model in another module"
   ]
  },
  {
   "cell_type": "code",
   "execution_count": 54,
   "metadata": {},
   "outputs": [
    {
     "name": "stdout",
     "output_type": "stream",
     "text": [
      "__________________________________________________________________________________________________\n",
      "Layer (type)                    Output Shape         Param #     Connected to                     \n",
      "==================================================================================================\n",
      "input_4 (InputLayer)            (None, 1)            0                                            \n",
      "__________________________________________________________________________________________________\n",
      "dense_9 (Dense)                 (None, 1)            2           input_4[0][0]                    \n",
      "__________________________________________________________________________________________________\n",
      "dense_8 (Dense)                 (None, 1)            2           input_4[0][0]                    \n",
      "__________________________________________________________________________________________________\n",
      "dense_10 (Dense)                (None, 1)            2           dense_9[0][0]                    \n",
      "__________________________________________________________________________________________________\n",
      "repeat_vector_5 (RepeatVector)  (None, 1, 1)         0           dense_8[0][0]                    \n",
      "__________________________________________________________________________________________________\n",
      "repeat_vector_6 (RepeatVector)  (None, 100, 1)       0           dense_10[0][0]                   \n",
      "__________________________________________________________________________________________________\n",
      "simple_rnn_6 (SimpleRNN)        [(None, 1), (None, 1 3           repeat_vector_5[0][0]            \n",
      "__________________________________________________________________________________________________\n",
      "simple_rnn_7 (SimpleRNN)        (None, 100, 1)       3           repeat_vector_6[0][0]            \n",
      "                                                                 simple_rnn_6[0][1]               \n",
      "__________________________________________________________________________________________________\n",
      "activation_5 (Activation)       (None, 100, 1)       0           simple_rnn_7[0][0]               \n",
      "__________________________________________________________________________________________________\n",
      "reshape_4 (Reshape)             (None, 100, 1, 1)    0           activation_5[0][0]               \n",
      "==================================================================================================\n",
      "Total params: 12\n",
      "Trainable params: 12\n",
      "Non-trainable params: 0\n",
      "__________________________________________________________________________________________________\n"
     ]
    }
   ],
   "source": [
    "decoder_input = Input(shape=(notes,))\n",
    "x = decoder_input\n",
    "\n",
    "unroll = True\n",
    "\n",
    "ratio = 0.1\n",
    "sub_t = int(timesteps * ratio)\n",
    "super_t = int(timesteps/ sub_t)\n",
    "\n",
    "# a = ELU(alpha=0.5)\n",
    "# ThresholdedReLU\n",
    "# PReLU\n",
    "# ELU\n",
    "# LeakyRelu\n",
    "\n",
    "# x1 = starting value\n",
    "# x2 :: [decay1, decay2, decay3]\n",
    "# end of sequence = decay3 * (decay2 * (decay1 * x1))\n",
    "# full sequence = [decay1 * x1, decay2(decay1 * x1), etc... ]\n",
    "\n",
    "# x1 might have abias of zero\n",
    "# TODO x1 ** 0.5\n",
    "# x2 might disregard its input\n",
    "# TODO check if x2 can have an offset bias\n",
    "\n",
    "# decay is non-linear?\n",
    "# decay = 1/f\n",
    "\n",
    "x1 = x\n",
    "x1 = Dense(notes, activation='relu')(x1) # phase (linear)\n",
    "x1 = RepeatVector(1)(x1)\n",
    "\n",
    "x2 = x\n",
    "x2 = Dense(notes, activation='relu')(x2) # e.g decay: 0.5 * decay, 0.5 * decay * decay\n",
    "# x2 = Dense(notes)(x2)\n",
    "# x2 = Lambda(lambda z: 1./z)(x2) # if descending\n",
    "# # x2 = Lambda(lambda x: -1 * x)(x2) # if descending\n",
    "\n",
    "# x2 = Dense(notes, activation='tanh')(x2)\n",
    "x2 = Dense(notes, activation='relu')(x2)\n",
    "x2 = RepeatVector(timesteps)(x2)\n",
    "\n",
    "\n",
    "# SimpleRNN returns 2 states, LSTM returns 3 states\n",
    "_, state = SimpleRNN(notes, return_state=True)(x1)\n",
    "rnn = SimpleRNN(notes, activation='sawDescending', return_sequences=True, unroll=unroll)\n",
    "# rnn = SimpleRNN(notes, return_sequences=True)\n",
    "# x = rnn(x2, initial_state=x1) # shape error\n",
    "x = rnn(x2, initial_state=state)\n",
    "\n",
    "# x = Dense(1)(x)\n",
    "# x = ThresholdedReLU(theta=0.5)(x)\n",
    "\n",
    "# # Final layer\n",
    "# x = Dense(notes, activation='sigmoid')(x)\n",
    "x = Activation('sigmoid')(x)\n",
    "x = Reshape(input_shape)(x)\n",
    "\n",
    "decoder_output = x\n",
    "\n",
    "decoder_model = Model(decoder_input, decoder_output, name='decoder-')\n",
    "decoder_model.summary()"
   ]
  },
  {
   "cell_type": "code",
   "execution_count": 55,
   "metadata": {},
   "outputs": [
    {
     "name": "stdout",
     "output_type": "stream",
     "text": [
      "_________________________________________________________________\n",
      "Layer (type)                 Output Shape              Param #   \n",
      "=================================================================\n",
      "input_4 (InputLayer)         (None, 1)                 0         \n",
      "_________________________________________________________________\n",
      "decoder- (Model)             (None, 100, 1, 1)         12        \n",
      "_________________________________________________________________\n",
      "encoder- (Model)             (None, 1)                 5         \n",
      "=================================================================\n",
      "Total params: 17\n",
      "Trainable params: 12\n",
      "Non-trainable params: 5\n",
      "_________________________________________________________________\n"
     ]
    }
   ],
   "source": [
    "ae = Model(decoder_input, encoder_model(decoder_model(decoder_input)))\n",
    "ae.summary()"
   ]
  },
  {
   "cell_type": "code",
   "execution_count": 56,
   "metadata": {},
   "outputs": [],
   "source": [
    "encoder_model.trainable = False"
   ]
  },
  {
   "cell_type": "code",
   "execution_count": 57,
   "metadata": {},
   "outputs": [],
   "source": [
    "loss = 'mse' # mse mae binary_crossentropy rmsprop adadelta hinge\n",
    "ae.compile(loss=loss, optimizer='rmsprop', metrics=['accuracy','mae','mse'])"
   ]
  },
  {
   "cell_type": "code",
   "execution_count": 58,
   "metadata": {},
   "outputs": [],
   "source": [
    "batch_size = 100\n",
    "epochs = 50"
   ]
  },
  {
   "cell_type": "code",
   "execution_count": 59,
   "metadata": {
    "scrolled": true
   },
   "outputs": [
    {
     "name": "stdout",
     "output_type": "stream",
     "text": [
      "Train on 899 samples, validate on 100 samples\n",
      "Epoch 1/50\n",
      "899/899 [==============================] - 3s 3ms/step - loss: 0.0512 - acc: 0.0000e+00 - mean_absolute_error: 0.1939 - mean_squared_error: 0.0512 - val_loss: 0.0590 - val_acc: 0.0000e+00 - val_mean_absolute_error: 0.2145 - val_mean_squared_error: 0.0590\n",
      "Epoch 2/50\n",
      "899/899 [==============================] - 0s 240us/step - loss: 0.0511 - acc: 0.0000e+00 - mean_absolute_error: 0.1938 - mean_squared_error: 0.0511 - val_loss: 0.0591 - val_acc: 0.0000e+00 - val_mean_absolute_error: 0.2147 - val_mean_squared_error: 0.0591\n",
      "Epoch 3/50\n",
      "899/899 [==============================] - 0s 235us/step - loss: 0.0512 - acc: 0.0000e+00 - mean_absolute_error: 0.1939 - mean_squared_error: 0.0512 - val_loss: 0.0591 - val_acc: 0.0000e+00 - val_mean_absolute_error: 0.2148 - val_mean_squared_error: 0.0591\n",
      "Epoch 4/50\n",
      "899/899 [==============================] - 0s 230us/step - loss: 0.0512 - acc: 0.0000e+00 - mean_absolute_error: 0.1939 - mean_squared_error: 0.0512 - val_loss: 0.0591 - val_acc: 0.0000e+00 - val_mean_absolute_error: 0.2147 - val_mean_squared_error: 0.0591\n",
      "Epoch 5/50\n",
      "899/899 [==============================] - 0s 224us/step - loss: 0.0512 - acc: 0.0000e+00 - mean_absolute_error: 0.1939 - mean_squared_error: 0.0512 - val_loss: 0.0592 - val_acc: 0.0000e+00 - val_mean_absolute_error: 0.2147 - val_mean_squared_error: 0.0592\n",
      "Epoch 6/50\n",
      "899/899 [==============================] - 0s 234us/step - loss: 0.0512 - acc: 0.0000e+00 - mean_absolute_error: 0.1939 - mean_squared_error: 0.0512 - val_loss: 0.0591 - val_acc: 0.0000e+00 - val_mean_absolute_error: 0.2147 - val_mean_squared_error: 0.0591\n",
      "Epoch 7/50\n",
      "899/899 [==============================] - 0s 233us/step - loss: 0.0512 - acc: 0.0000e+00 - mean_absolute_error: 0.1939 - mean_squared_error: 0.0512 - val_loss: 0.0591 - val_acc: 0.0000e+00 - val_mean_absolute_error: 0.2147 - val_mean_squared_error: 0.0591\n",
      "Epoch 8/50\n",
      "899/899 [==============================] - 0s 270us/step - loss: 0.0512 - acc: 0.0000e+00 - mean_absolute_error: 0.1939 - mean_squared_error: 0.0512 - val_loss: 0.0591 - val_acc: 0.0000e+00 - val_mean_absolute_error: 0.2147 - val_mean_squared_error: 0.0591\n",
      "Epoch 9/50\n",
      "899/899 [==============================] - 0s 240us/step - loss: 0.0512 - acc: 0.0000e+00 - mean_absolute_error: 0.1939 - mean_squared_error: 0.0512 - val_loss: 0.0591 - val_acc: 0.0000e+00 - val_mean_absolute_error: 0.2147 - val_mean_squared_error: 0.0591\n",
      "Epoch 10/50\n",
      "899/899 [==============================] - 0s 235us/step - loss: 0.0512 - acc: 0.0000e+00 - mean_absolute_error: 0.1939 - mean_squared_error: 0.0512 - val_loss: 0.0591 - val_acc: 0.0000e+00 - val_mean_absolute_error: 0.2148 - val_mean_squared_error: 0.0591\n",
      "Epoch 11/50\n",
      "899/899 [==============================] - 0s 231us/step - loss: 0.0512 - acc: 0.0000e+00 - mean_absolute_error: 0.1939 - mean_squared_error: 0.0512 - val_loss: 0.0591 - val_acc: 0.0000e+00 - val_mean_absolute_error: 0.2147 - val_mean_squared_error: 0.0591\n",
      "Epoch 12/50\n",
      "899/899 [==============================] - 0s 234us/step - loss: 0.0512 - acc: 0.0000e+00 - mean_absolute_error: 0.1939 - mean_squared_error: 0.0512 - val_loss: 0.0591 - val_acc: 0.0000e+00 - val_mean_absolute_error: 0.2147 - val_mean_squared_error: 0.0591\n",
      "Epoch 13/50\n",
      "899/899 [==============================] - 0s 225us/step - loss: 0.0512 - acc: 0.0000e+00 - mean_absolute_error: 0.1939 - mean_squared_error: 0.0512 - val_loss: 0.0591 - val_acc: 0.0000e+00 - val_mean_absolute_error: 0.2147 - val_mean_squared_error: 0.0591\n",
      "Epoch 14/50\n",
      "899/899 [==============================] - 0s 231us/step - loss: 0.0512 - acc: 0.0000e+00 - mean_absolute_error: 0.1939 - mean_squared_error: 0.0512 - val_loss: 0.0592 - val_acc: 0.0000e+00 - val_mean_absolute_error: 0.2147 - val_mean_squared_error: 0.0592\n",
      "Epoch 15/50\n",
      "899/899 [==============================] - 0s 228us/step - loss: 0.0512 - acc: 0.0000e+00 - mean_absolute_error: 0.1939 - mean_squared_error: 0.0512 - val_loss: 0.0591 - val_acc: 0.0000e+00 - val_mean_absolute_error: 0.2148 - val_mean_squared_error: 0.0591\n",
      "Epoch 16/50\n",
      "899/899 [==============================] - 0s 220us/step - loss: 0.0512 - acc: 0.0000e+00 - mean_absolute_error: 0.1939 - mean_squared_error: 0.0512 - val_loss: 0.0591 - val_acc: 0.0000e+00 - val_mean_absolute_error: 0.2147 - val_mean_squared_error: 0.0591\n",
      "Epoch 17/50\n",
      "899/899 [==============================] - 0s 228us/step - loss: 0.0512 - acc: 0.0000e+00 - mean_absolute_error: 0.1939 - mean_squared_error: 0.0512 - val_loss: 0.0591 - val_acc: 0.0000e+00 - val_mean_absolute_error: 0.2147 - val_mean_squared_error: 0.0591\n",
      "Epoch 18/50\n",
      "899/899 [==============================] - 0s 247us/step - loss: 0.0512 - acc: 0.0000e+00 - mean_absolute_error: 0.1939 - mean_squared_error: 0.0512 - val_loss: 0.0591 - val_acc: 0.0000e+00 - val_mean_absolute_error: 0.2147 - val_mean_squared_error: 0.0591\n",
      "Epoch 19/50\n",
      "899/899 [==============================] - 0s 235us/step - loss: 0.0511 - acc: 0.0000e+00 - mean_absolute_error: 0.1938 - mean_squared_error: 0.0511 - val_loss: 0.0591 - val_acc: 0.0000e+00 - val_mean_absolute_error: 0.2148 - val_mean_squared_error: 0.0591\n",
      "Epoch 20/50\n",
      "899/899 [==============================] - 0s 220us/step - loss: 0.0512 - acc: 0.0000e+00 - mean_absolute_error: 0.1938 - mean_squared_error: 0.0512 - val_loss: 0.0591 - val_acc: 0.0000e+00 - val_mean_absolute_error: 0.2147 - val_mean_squared_error: 0.0591\n",
      "Epoch 21/50\n",
      "899/899 [==============================] - 0s 227us/step - loss: 0.0512 - acc: 0.0000e+00 - mean_absolute_error: 0.1939 - mean_squared_error: 0.0512 - val_loss: 0.0591 - val_acc: 0.0000e+00 - val_mean_absolute_error: 0.2147 - val_mean_squared_error: 0.0591\n",
      "Epoch 22/50\n",
      "899/899 [==============================] - 0s 241us/step - loss: 0.0512 - acc: 0.0000e+00 - mean_absolute_error: 0.1939 - mean_squared_error: 0.0512 - val_loss: 0.0591 - val_acc: 0.0000e+00 - val_mean_absolute_error: 0.2147 - val_mean_squared_error: 0.0591\n",
      "Epoch 23/50\n",
      "899/899 [==============================] - 0s 240us/step - loss: 0.0512 - acc: 0.0000e+00 - mean_absolute_error: 0.1939 - mean_squared_error: 0.0512 - val_loss: 0.0592 - val_acc: 0.0000e+00 - val_mean_absolute_error: 0.2147 - val_mean_squared_error: 0.0592\n",
      "Epoch 24/50\n",
      "899/899 [==============================] - 0s 236us/step - loss: 0.0512 - acc: 0.0000e+00 - mean_absolute_error: 0.1938 - mean_squared_error: 0.0512 - val_loss: 0.0591 - val_acc: 0.0000e+00 - val_mean_absolute_error: 0.2148 - val_mean_squared_error: 0.0591\n",
      "Epoch 25/50\n",
      "899/899 [==============================] - 0s 260us/step - loss: 0.0512 - acc: 0.0000e+00 - mean_absolute_error: 0.1939 - mean_squared_error: 0.0512 - val_loss: 0.0591 - val_acc: 0.0000e+00 - val_mean_absolute_error: 0.2147 - val_mean_squared_error: 0.0591\n",
      "Epoch 26/50\n",
      "899/899 [==============================] - 0s 258us/step - loss: 0.0512 - acc: 0.0000e+00 - mean_absolute_error: 0.1939 - mean_squared_error: 0.0512 - val_loss: 0.0591 - val_acc: 0.0000e+00 - val_mean_absolute_error: 0.2147 - val_mean_squared_error: 0.0591\n",
      "Epoch 27/50\n",
      "899/899 [==============================] - 0s 237us/step - loss: 0.0512 - acc: 0.0000e+00 - mean_absolute_error: 0.1939 - mean_squared_error: 0.0512 - val_loss: 0.0591 - val_acc: 0.0000e+00 - val_mean_absolute_error: 0.2147 - val_mean_squared_error: 0.0591\n",
      "Epoch 28/50\n",
      "899/899 [==============================] - 0s 231us/step - loss: 0.0512 - acc: 0.0000e+00 - mean_absolute_error: 0.1939 - mean_squared_error: 0.0512 - val_loss: 0.0592 - val_acc: 0.0000e+00 - val_mean_absolute_error: 0.2147 - val_mean_squared_error: 0.0592\n",
      "Epoch 29/50\n",
      "899/899 [==============================] - 0s 242us/step - loss: 0.0511 - acc: 0.0000e+00 - mean_absolute_error: 0.1938 - mean_squared_error: 0.0511 - val_loss: 0.0591 - val_acc: 0.0000e+00 - val_mean_absolute_error: 0.2147 - val_mean_squared_error: 0.0591\n",
      "Epoch 30/50\n",
      "899/899 [==============================] - 0s 242us/step - loss: 0.0512 - acc: 0.0000e+00 - mean_absolute_error: 0.1938 - mean_squared_error: 0.0512 - val_loss: 0.0591 - val_acc: 0.0000e+00 - val_mean_absolute_error: 0.2148 - val_mean_squared_error: 0.0591\n",
      "Epoch 31/50\n",
      "899/899 [==============================] - 0s 237us/step - loss: 0.0512 - acc: 0.0000e+00 - mean_absolute_error: 0.1939 - mean_squared_error: 0.0512 - val_loss: 0.0591 - val_acc: 0.0000e+00 - val_mean_absolute_error: 0.2147 - val_mean_squared_error: 0.0591\n",
      "Epoch 32/50\n",
      "899/899 [==============================] - 0s 223us/step - loss: 0.0512 - acc: 0.0000e+00 - mean_absolute_error: 0.1939 - mean_squared_error: 0.0512 - val_loss: 0.0592 - val_acc: 0.0000e+00 - val_mean_absolute_error: 0.2147 - val_mean_squared_error: 0.0592\n",
      "Epoch 33/50\n",
      "899/899 [==============================] - 0s 230us/step - loss: 0.0512 - acc: 0.0000e+00 - mean_absolute_error: 0.1938 - mean_squared_error: 0.0512 - val_loss: 0.0591 - val_acc: 0.0000e+00 - val_mean_absolute_error: 0.2148 - val_mean_squared_error: 0.0591\n",
      "Epoch 34/50\n",
      "899/899 [==============================] - 0s 250us/step - loss: 0.0512 - acc: 0.0000e+00 - mean_absolute_error: 0.1938 - mean_squared_error: 0.0512 - val_loss: 0.0591 - val_acc: 0.0000e+00 - val_mean_absolute_error: 0.2148 - val_mean_squared_error: 0.0591\n",
      "Epoch 35/50\n",
      "899/899 [==============================] - 0s 222us/step - loss: 0.0512 - acc: 0.0000e+00 - mean_absolute_error: 0.1939 - mean_squared_error: 0.0512 - val_loss: 0.0592 - val_acc: 0.0000e+00 - val_mean_absolute_error: 0.2147 - val_mean_squared_error: 0.0592\n",
      "Epoch 36/50\n",
      "899/899 [==============================] - 0s 224us/step - loss: 0.0512 - acc: 0.0000e+00 - mean_absolute_error: 0.1939 - mean_squared_error: 0.0512 - val_loss: 0.0592 - val_acc: 0.0000e+00 - val_mean_absolute_error: 0.2147 - val_mean_squared_error: 0.0592\n",
      "Epoch 37/50\n",
      "899/899 [==============================] - 0s 223us/step - loss: 0.0512 - acc: 0.0000e+00 - mean_absolute_error: 0.1939 - mean_squared_error: 0.0512 - val_loss: 0.0592 - val_acc: 0.0000e+00 - val_mean_absolute_error: 0.2147 - val_mean_squared_error: 0.0592\n",
      "Epoch 38/50\n",
      "899/899 [==============================] - 0s 222us/step - loss: 0.0512 - acc: 0.0000e+00 - mean_absolute_error: 0.1938 - mean_squared_error: 0.0512 - val_loss: 0.0591 - val_acc: 0.0000e+00 - val_mean_absolute_error: 0.2148 - val_mean_squared_error: 0.0591\n",
      "Epoch 39/50\n",
      "899/899 [==============================] - 0s 221us/step - loss: 0.0511 - acc: 0.0000e+00 - mean_absolute_error: 0.1938 - mean_squared_error: 0.0511 - val_loss: 0.0591 - val_acc: 0.0000e+00 - val_mean_absolute_error: 0.2147 - val_mean_squared_error: 0.0591\n",
      "Epoch 40/50\n",
      "899/899 [==============================] - 0s 223us/step - loss: 0.0512 - acc: 0.0000e+00 - mean_absolute_error: 0.1939 - mean_squared_error: 0.0512 - val_loss: 0.0591 - val_acc: 0.0000e+00 - val_mean_absolute_error: 0.2147 - val_mean_squared_error: 0.0591\n",
      "Epoch 41/50\n",
      "899/899 [==============================] - 0s 221us/step - loss: 0.0512 - acc: 0.0000e+00 - mean_absolute_error: 0.1938 - mean_squared_error: 0.0512 - val_loss: 0.0591 - val_acc: 0.0000e+00 - val_mean_absolute_error: 0.2147 - val_mean_squared_error: 0.0591\n",
      "Epoch 42/50\n",
      "899/899 [==============================] - 0s 223us/step - loss: 0.0512 - acc: 0.0000e+00 - mean_absolute_error: 0.1939 - mean_squared_error: 0.0512 - val_loss: 0.0591 - val_acc: 0.0000e+00 - val_mean_absolute_error: 0.2147 - val_mean_squared_error: 0.0591\n",
      "Epoch 43/50\n",
      "899/899 [==============================] - 0s 228us/step - loss: 0.0512 - acc: 0.0000e+00 - mean_absolute_error: 0.1939 - mean_squared_error: 0.0512 - val_loss: 0.0591 - val_acc: 0.0000e+00 - val_mean_absolute_error: 0.2147 - val_mean_squared_error: 0.0591\n",
      "Epoch 44/50\n",
      "899/899 [==============================] - 0s 223us/step - loss: 0.0512 - acc: 0.0000e+00 - mean_absolute_error: 0.1939 - mean_squared_error: 0.0512 - val_loss: 0.0591 - val_acc: 0.0000e+00 - val_mean_absolute_error: 0.2147 - val_mean_squared_error: 0.0591\n",
      "Epoch 45/50\n",
      "899/899 [==============================] - 0s 222us/step - loss: 0.0512 - acc: 0.0000e+00 - mean_absolute_error: 0.1938 - mean_squared_error: 0.0512 - val_loss: 0.0591 - val_acc: 0.0000e+00 - val_mean_absolute_error: 0.2147 - val_mean_squared_error: 0.0591\n",
      "Epoch 46/50\n",
      "899/899 [==============================] - 0s 218us/step - loss: 0.0512 - acc: 0.0000e+00 - mean_absolute_error: 0.1938 - mean_squared_error: 0.0512 - val_loss: 0.0590 - val_acc: 0.0000e+00 - val_mean_absolute_error: 0.2148 - val_mean_squared_error: 0.0590\n",
      "Epoch 47/50\n",
      "899/899 [==============================] - 0s 220us/step - loss: 0.0512 - acc: 0.0000e+00 - mean_absolute_error: 0.1938 - mean_squared_error: 0.0512 - val_loss: 0.0591 - val_acc: 0.0000e+00 - val_mean_absolute_error: 0.2147 - val_mean_squared_error: 0.0591\n",
      "Epoch 48/50\n",
      "899/899 [==============================] - 0s 226us/step - loss: 0.0512 - acc: 0.0000e+00 - mean_absolute_error: 0.1938 - mean_squared_error: 0.0512 - val_loss: 0.0591 - val_acc: 0.0000e+00 - val_mean_absolute_error: 0.2147 - val_mean_squared_error: 0.0591\n",
      "Epoch 49/50\n",
      "899/899 [==============================] - 0s 223us/step - loss: 0.0512 - acc: 0.0000e+00 - mean_absolute_error: 0.1939 - mean_squared_error: 0.0512 - val_loss: 0.0591 - val_acc: 0.0000e+00 - val_mean_absolute_error: 0.2147 - val_mean_squared_error: 0.0591\n",
      "Epoch 50/50\n",
      "899/899 [==============================] - 0s 222us/step - loss: 0.0512 - acc: 0.0000e+00 - mean_absolute_error: 0.1939 - mean_squared_error: 0.0512 - val_loss: 0.0591 - val_acc: 0.0000e+00 - val_mean_absolute_error: 0.2147 - val_mean_squared_error: 0.0591\n"
     ]
    }
   ],
   "source": [
    "j = -1\n",
    "history = ae.fit(y_train[:j], y_train[:j], \n",
    "    epochs=epochs, batch_size=batch_size, \n",
    "    validation_data=(y_test, y_test))"
   ]
  },
  {
   "cell_type": "code",
   "execution_count": 60,
   "metadata": {
    "scrolled": true
   },
   "outputs": [],
   "source": [
    "# y_train[:j]"
   ]
  },
  {
   "cell_type": "code",
   "execution_count": 61,
   "metadata": {},
   "outputs": [
    {
     "data": {
      "text/plain": [
       "[<matplotlib.lines.Line2D at 0x122e16748>]"
      ]
     },
     "execution_count": 61,
     "metadata": {},
     "output_type": "execute_result"
    },
    {
     "data": {
      "image/png": "[encoded data removed]",
      "text/plain": [
       "<matplotlib.figure.Figure at 0x12677b6a0>"
      ]
     },
     "metadata": {},
     "output_type": "display_data"
    }
   ],
   "source": [
    "plt.plot(history.history['loss'])\n",
    "plt.plot(history.history['val_loss'])"
   ]
  },
  {
   "cell_type": "code",
   "execution_count": 62,
   "metadata": {},
   "outputs": [
    {
     "data": {
      "text/plain": [
       "[<matplotlib.lines.Line2D at 0x126738b38>]"
      ]
     },
     "execution_count": 62,
     "metadata": {},
     "output_type": "execute_result"
    },
    {
     "data": {
      "image/png": "[encoded data removed]",
      "text/plain": [
       "<matplotlib.figure.Figure at 0x1267389e8>"
      ]
     },
     "metadata": {},
     "output_type": "display_data"
    }
   ],
   "source": [
    "plt.plot(history.history['acc'])\n",
    "plt.plot(history.history['val_acc'])"
   ]
  },
  {
   "cell_type": "code",
   "execution_count": 63,
   "metadata": {},
   "outputs": [
    {
     "data": {
      "text/plain": [
       "[<matplotlib.lines.Line2D at 0x12a0d59b0>]"
      ]
     },
     "execution_count": 63,
     "metadata": {},
     "output_type": "execute_result"
    },
    {
     "data": {
      "image/png": "[encoded data removed]",
      "text/plain": [
       "<matplotlib.figure.Figure at 0x12a0adc88>"
      ]
     },
     "metadata": {},
     "output_type": "display_data"
    }
   ],
   "source": [
    "plt.plot(history.history['mean_absolute_error'])\n",
    "plt.plot(history.history['val_mean_absolute_error'])"
   ]
  },
  {
   "cell_type": "code",
   "execution_count": 64,
   "metadata": {},
   "outputs": [
    {
     "data": {
      "text/plain": [
       "array([0.7444838 , 0.73133816, 0.49867375, 0.22841064, 0.6903638 ,\n",
       "       0.1788503 , 0.6591156 , 0.22500947, 0.60857797, 0.73256912])"
      ]
     },
     "execution_count": 64,
     "metadata": {},
     "output_type": "execute_result"
    }
   ],
   "source": [
    "y_train[:10]"
   ]
  },
  {
   "cell_type": "code",
   "execution_count": 65,
   "metadata": {},
   "outputs": [
    {
     "data": {
      "text/plain": [
       "array([[0.41256344],\n",
       "       [0.41256344],\n",
       "       [0.41256344],\n",
       "       [0.4125634 ]], dtype=float32)"
      ]
     },
     "execution_count": 65,
     "metadata": {},
     "output_type": "execute_result"
    }
   ],
   "source": [
    "f = [0.1, 0.429, 0.856, 1.4]\n",
    "y = ae.predict(f)\n",
    "y"
   ]
  },
  {
   "cell_type": "code",
   "execution_count": 66,
   "metadata": {},
   "outputs": [
    {
     "data": {
      "text/plain": [
       "0.7992837066789173"
      ]
     },
     "execution_count": 66,
     "metadata": {},
     "output_type": "execute_result"
    }
   ],
   "source": [
    "y_train[y_train.argmax()]"
   ]
  },
  {
   "cell_type": "code",
   "execution_count": 67,
   "metadata": {},
   "outputs": [
    {
     "data": {
      "text/plain": [
       "0.00047235205807517053"
      ]
     },
     "execution_count": 67,
     "metadata": {},
     "output_type": "execute_result"
    }
   ],
   "source": [
    "y_train[y_train.argmin()]"
   ]
  },
  {
   "cell_type": "code",
   "execution_count": 68,
   "metadata": {},
   "outputs": [
    {
     "name": "stdout",
     "output_type": "stream",
     "text": [
      "m (50, 1)\n"
     ]
    },
    {
     "data": {
      "image/png": "[encoded data removed]",
      "text/plain": [
       "<matplotlib.figure.Figure at 0x12a3f0278>"
      ]
     },
     "metadata": {},
     "output_type": "display_data"
    },
    {
     "name": "stdout",
     "output_type": "stream",
     "text": [
      "m (50, 1)\n"
     ]
    },
    {
     "data": {
      "image/png": "[encoded data removed]",
      "text/plain": [
       "<matplotlib.figure.Figure at 0x12a4277b8>"
      ]
     },
     "metadata": {},
     "output_type": "display_data"
    },
    {
     "data": {
      "text/plain": [
       "array([0.7444838 , 0.73133816])"
      ]
     },
     "execution_count": 68,
     "metadata": {},
     "output_type": "execute_result"
    }
   ],
   "source": [
    "f = y_train[:10]\n",
    "y = decoder_model.predict(f)\n",
    "plot.single(y[0,:50,0])\n",
    "plot.single(x_train[0,:50,0])\n",
    "# plot.single(x_train[1,:50,0])\n",
    "f[:2]"
   ]
  },
  {
   "cell_type": "code",
   "execution_count": 71,
   "metadata": {},
   "outputs": [
    {
     "name": "stdout",
     "output_type": "stream",
     "text": [
      "m (50, 1)\n"
     ]
    },
    {
     "data": {
      "image/png": "[encoded data removed]",
      "text/plain": [
       "<matplotlib.figure.Figure at 0x12a7854a8>"
      ]
     },
     "metadata": {},
     "output_type": "display_data"
    },
    {
     "name": "stdout",
     "output_type": "stream",
     "text": [
      "m (50, 1)\n"
     ]
    },
    {
     "data": {
      "image/png": "[encoded data removed]",
      "text/plain": [
       "<matplotlib.figure.Figure at 0x12a7d4b70>"
      ]
     },
     "metadata": {},
     "output_type": "display_data"
    },
    {
     "name": "stdout",
     "output_type": "stream",
     "text": [
      "m (50, 1)\n"
     ]
    },
    {
     "data": {
      "image/png": "[encoded data removed]",
      "text/plain": [
       "<matplotlib.figure.Figure at 0x12a8216d8>"
      ]
     },
     "metadata": {},
     "output_type": "display_data"
    },
    {
     "name": "stdout",
     "output_type": "stream",
     "text": [
      "m (50, 1)\n"
     ]
    },
    {
     "data": {
      "image/png": "[encoded data removed]",
      "text/plain": [
       "<matplotlib.figure.Figure at 0x12a874470>"
      ]
     },
     "metadata": {},
     "output_type": "display_data"
    }
   ],
   "source": [
    "f = [0.01, 0.5, 0.8, 1.4]\n",
    "y = decoder_model.predict(f)\n",
    "plot.single(y[0,:50,0])\n",
    "plot.single(y[1,:50,0])\n",
    "plot.single(y[2,:50,0])\n",
    "plot.single(y[3,:50,0])"
   ]
  },
  {
   "cell_type": "code",
   "execution_count": null,
   "metadata": {},
   "outputs": [],
   "source": []
  },
  {
   "cell_type": "code",
   "execution_count": null,
   "metadata": {},
   "outputs": [],
   "source": []
  },
  {
   "cell_type": "code",
   "execution_count": 46,
   "metadata": {},
   "outputs": [
    {
     "name": "stdout",
     "output_type": "stream",
     "text": [
      "m (50, 1)\n"
     ]
    },
    {
     "data": {
      "image/png": "[encoded data removed]",
      "text/plain": [
       "<matplotlib.figure.Figure at 0x123338da0>"
      ]
     },
     "metadata": {},
     "output_type": "display_data"
    },
    {
     "name": "stdout",
     "output_type": "stream",
     "text": [
      "m (50, 1)\n"
     ]
    },
    {
     "data": {
      "image/png": "[encoded data removed]",
      "text/plain": [
       "<matplotlib.figure.Figure at 0x1234d3710>"
      ]
     },
     "metadata": {},
     "output_type": "display_data"
    },
    {
     "name": "stdout",
     "output_type": "stream",
     "text": [
      "m (90, 1)\n"
     ]
    },
    {
     "data": {
      "image/png": "[encoded data removed]",
      "text/plain": [
       "<matplotlib.figure.Figure at 0x123524978>"
      ]
     },
     "metadata": {},
     "output_type": "display_data"
    },
    {
     "name": "stdout",
     "output_type": "stream",
     "text": [
      "m (90, 1)\n"
     ]
    },
    {
     "data": {
      "image/png": "[encoded data removed]",
      "text/plain": [
       "<matplotlib.figure.Figure at 0x1234ad7f0>"
      ]
     },
     "metadata": {},
     "output_type": "display_data"
    }
   ],
   "source": [
    "# goal examples\n",
    "plot.single(x_train[0,:50,0])\n",
    "plot.single(x_train[1,:50,0])\n",
    "plot.single(x_train[2,:90,0])\n",
    "plot.single(x_train[3,:90,0])"
   ]
  },
  {
   "cell_type": "code",
   "execution_count": 47,
   "metadata": {},
   "outputs": [
    {
     "data": {
      "text/plain": [
       "array([0.7444838 , 0.73133816, 0.49867375, 0.22841064, 0.6903638 ])"
      ]
     },
     "execution_count": 47,
     "metadata": {},
     "output_type": "execute_result"
    }
   ],
   "source": [
    "y_train[:5]"
   ]
  },
  {
   "cell_type": "code",
   "execution_count": null,
   "metadata": {},
   "outputs": [],
   "source": []
  },
  {
   "cell_type": "code",
   "execution_count": null,
   "metadata": {},
   "outputs": [],
   "source": []
  },
  {
   "cell_type": "code",
   "execution_count": null,
   "metadata": {},
   "outputs": [],
   "source": []
  },
  {
   "cell_type": "code",
   "execution_count": null,
   "metadata": {},
   "outputs": [],
   "source": []
  }
 ],
 "metadata": {
  "kernelspec": {
   "display_name": "Python 3",
   "language": "python",
   "name": "python3"
  },
  "language_info": {
   "codemirror_mode": {
    "name": "ipython",
    "version": 3
   },
   "file_extension": ".py",
   "mimetype": "text/x-python",
   "name": "python",
   "nbconvert_exporter": "python",
   "pygments_lexer": "ipython3",
   "version": "3.6.5"
  }
 },
 "nbformat": 4,
 "nbformat_minor": 2
}
