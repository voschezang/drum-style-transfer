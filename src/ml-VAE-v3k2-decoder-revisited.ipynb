{
 "cells": [
  {
   "cell_type": "code",
   "execution_count": 1,
   "metadata": {},
   "outputs": [
    {
     "name": "stderr",
     "output_type": "stream",
     "text": [
      "/usr/local/lib/python3.6/site-packages/h5py/__init__.py:36: FutureWarning: Conversion of the second argument of issubdtype from `float` to `np.floating` is deprecated. In future, it will be treated as `np.float64 == np.dtype(float).type`.\n",
      "  from ._conv import register_converters as _register_converters\n",
      "Using TensorFlow backend.\n"
     ]
    }
   ],
   "source": [
    "from __future__ import division\n",
    "\n",
    "import collections\n",
    "import numpy as np\n",
    "import matplotlib.pyplot as plt\n",
    "from scipy.stats import norm\n",
    "\n",
    "## NN libs\n",
    "import keras\n",
    "from keras import backend as K\n",
    "from keras import regularizers\n",
    "from keras.utils import to_categorical\n",
    "from keras.optimizers import SGD, Adam\n",
    "from keras.layers import *\n",
    "from keras.preprocessing.image import ImageDataGenerator\n",
    "from keras.models import Model\n",
    "from keras.callbacks import TensorBoard"
   ]
  },
  {
   "cell_type": "code",
   "execution_count": 2,
   "metadata": {},
   "outputs": [],
   "source": [
    "import config\n",
    "import os, numpy as np, pandas, sklearn, scipy.signal as signal\n",
    "import mido\n",
    "import matplotlib.pyplot as plt\n",
    "%matplotlib inline"
   ]
  },
  {
   "cell_type": "code",
   "execution_count": 3,
   "metadata": {},
   "outputs": [],
   "source": [
    "# local libs\n",
    "import config, models, setup\n",
    "import midi\n",
    "from midi import generators as g\n",
    "from utils import io, models_io, utils, plot\n",
    "from capsule.layers import Capsule, Length\n",
    "from capsule.capsulefunctions import squash, softmax, margin_loss"
   ]
  },
  {
   "cell_type": "code",
   "execution_count": 4,
   "metadata": {},
   "outputs": [
    {
     "name": "stdout",
     "output_type": "stream",
     "text": [
      " Context :: namedtuple(\n",
      "[ max_t = float\n",
      ", dt = float\n",
      ", n_timestesp = int\n",
      ", note_length = int\n",
      ", bpm = float\n",
      ", tempo = float\n",
      ", ticks_per_beat = int\n",
      "]\n",
      "\n",
      "Setting up params\n",
      "\n",
      "max min f 10.0 0.5\n",
      " >> Context(max_t=2.0, dt=0.05, n_timesteps=40, note_length=0.03, bpm=120.0, tempo=500000, ticks_per_beat=480)\n",
      " sample length:  40.000000\n",
      " max_f: 10.000000, min_f: 0.500000\n"
     ]
    }
   ],
   "source": [
    "context = setup.init()"
   ]
  },
  {
   "cell_type": "code",
   "execution_count": 5,
   "metadata": {
    "scrolled": true
   },
   "outputs": [
    {
     "name": "stdout",
     "output_type": "stream",
     "text": [
      "\n",
      "Importing midi-data\n",
      "\n",
      "Encoding midi-data\n",
      " 500\n",
      "> -> multi-track = True MidiFile\n",
      "\u001b[92m [INFO] : \u001b[0m\n",
      " |  True\n"
     ]
    }
   ],
   "source": [
    "n = 500 * 1\n",
    "dim4 = True\n",
    "multiTrack = True\n",
    "reduce_dims = midi.ReduceDimsOptions.MIDIFILE # GLOBAL\n",
    "dn = 'drum_midi/'\n",
    "x_train, labels = setup.import_data(context, n, dim4=dim4, reduce_dims=reduce_dims, dirname=dn, multiTrack=multiTrack, r=True)"
   ]
  },
  {
   "cell_type": "code",
   "execution_count": 6,
   "metadata": {},
   "outputs": [],
   "source": [
    "# n = 1000\n",
    "# min_f = 0\n",
    "# max_f = 3\n",
    "# x_train, params = g.gen_data_complex(context, n, max_f=max_f, min_f=min_f,\n",
    "#     n_polyrythms=1,\n",
    "#     n_channels=3,\n",
    "#     d_phase=True,\n",
    "#     return_params=True,\n",
    "#     dim4=dim4,\n",
    "#     multiTrack=multiTrack)"
   ]
  },
  {
   "cell_type": "code",
   "execution_count": 7,
   "metadata": {},
   "outputs": [
    {
     "data": {
      "text/plain": [
       "(500, 40, 9, 1)"
      ]
     },
     "execution_count": 7,
     "metadata": {},
     "output_type": "execute_result"
    }
   ],
   "source": [
    "x_train.shape"
   ]
  },
  {
   "cell_type": "code",
   "execution_count": 8,
   "metadata": {},
   "outputs": [
    {
     "data": {
      "text/plain": [
       "((500, 40, 9, 1), 450)"
      ]
     },
     "execution_count": 8,
     "metadata": {},
     "output_type": "execute_result"
    }
   ],
   "source": [
    "m = int(x_train.shape[0] * 0.9)\n",
    "x_train.shape, m"
   ]
  },
  {
   "cell_type": "code",
   "execution_count": 9,
   "metadata": {},
   "outputs": [],
   "source": [
    "x_test = x_train[m:]\n",
    "x_train = x_train[:m]"
   ]
  },
  {
   "cell_type": "code",
   "execution_count": 10,
   "metadata": {},
   "outputs": [
    {
     "name": "stdout",
     "output_type": "stream",
     "text": [
      "m (40, 9)\n"
     ]
    },
    {
     "data": {
      "image/png": "[encoded data removed]",
      "text/plain": [
       "<matplotlib.figure.Figure at 0x12036fa58>"
      ]
     },
     "metadata": {},
     "output_type": "display_data"
    },
    {
     "name": "stdout",
     "output_type": "stream",
     "text": [
      "m (40, 9)\n"
     ]
    },
    {
     "data": {
      "image/png": "[encoded data removed]",
      "text/plain": [
       "<matplotlib.figure.Figure at 0x11f141e48>"
      ]
     },
     "metadata": {},
     "output_type": "display_data"
    },
    {
     "data": {
      "text/plain": [
       "['../datasets/drum_midi//Cha cha/cha cha 1.mid',\n",
       " '../datasets/drum_midi//Cha cha/cha cha 2.mid',\n",
       " '../datasets/drum_midi//Cha cha/cha cha 3.mid',\n",
       " \"../datasets/drum_midi//50´s Drummer MIDI Files/01 Rock'n'Roll/06 Moonglow 140BPM/05 8th Hat.mid\"]"
      ]
     },
     "execution_count": 10,
     "metadata": {},
     "output_type": "execute_result"
    }
   ],
   "source": [
    "plot.single(x_train[0, :50,:,0])\n",
    "plot.single(x_train[1, :50,:,0])\n",
    "# plot.single(x_train[2, :50,:,0])\n",
    "labels[0:4]"
   ]
  },
  {
   "cell_type": "code",
   "execution_count": 11,
   "metadata": {},
   "outputs": [
    {
     "data": {
      "text/plain": [
       "(40, 9, 1)"
      ]
     },
     "execution_count": 11,
     "metadata": {},
     "output_type": "execute_result"
    }
   ],
   "source": [
    "input_shape = x_train[0].shape\n",
    "timesteps = input_shape[0]\n",
    "notes = input_shape[1]\n",
    "input_shape"
   ]
  },
  {
   "cell_type": "code",
   "execution_count": 12,
   "metadata": {},
   "outputs": [],
   "source": [
    "latent_dim = 2\n",
    "intermediate_dim = 128\n",
    "epsilon_std = 1.0"
   ]
  },
  {
   "cell_type": "code",
   "execution_count": 29,
   "metadata": {},
   "outputs": [],
   "source": [
    "def encoder(input_shape, dropout=0.1):\n",
    "    encoder_input = Input(shape=input_shape)\n",
    "    nodes = np.prod(input_shape)\n",
    "    timesteps, notes, channels = input_shape\n",
    "    \n",
    "    # Convolution\n",
    "    h = encoder_input\n",
    "    k = (2,1)\n",
    "    s = (2,1)\n",
    "    \n",
    "    h = Conv2D(32, kernel_size=k, strides=1, activation='relu', padding='valid')(h)\n",
    "    h = Conv2D(64, kernel_size=k, strides=s, activation='relu', padding='valid')(h)\n",
    "    h = Conv2D(128, kernel_size=k, strides=s, activation='relu', padding='valid')(h)\n",
    "    \n",
    "    # input per note\n",
    "    note_list = Permute([2,1,3], name='input_per_note')(h)\n",
    "    \n",
    "    rnn = SimpleRNN(128, name='rnn_per_note')\n",
    "    reshape = Reshape((128,1))\n",
    "\n",
    "    n_capsules = 10\n",
    "    capsule_dim = 6\n",
    "    n_routings=3\n",
    "    share_weights=True\n",
    "    capsule = Capsule(n_capsules, capsule_dim, n_routings, share_weights)\n",
    "\n",
    "    x = Lambda(lambda layer: capsule(reshape(rnn(layer))) )\n",
    "    h_per_note = TimeDistributed(x, name='TimeDistributed_per_note')(note_list)\n",
    "    shape = K.int_shape(h_per_note)[1:]\n",
    "    h_per_note = Reshape( [notes, np.prod(shape[1:3])] )(h_per_note)\n",
    "    h_per_note = Flatten()(h_per_note)\n",
    "\n",
    "    # 'global' input\n",
    "    h = encoder_input\n",
    "    h = Reshape(input_shape[:-1])(h)\n",
    "    h = Conv1D(32, kernel_size=2, strides=1, activation='relu', padding='valid')(h)\n",
    "    h = Conv1D(64, kernel_size=2, strides=2, activation='relu', padding='valid')(h)\n",
    "    h = Conv1D(128, kernel_size=2, strides=1, activation='relu', padding='valid')(h)\n",
    "    # old layers\n",
    "#     h = Conv2D(1, kernel_size=k, strides=1, activation='relu', padding='valid')(h)\n",
    "#     shape = K.int_shape(h)[1:]\n",
    "#     h = Reshape(shape[0:2])(h) # (reduced_timesteps, notes)\n",
    "#     h = Conv1D(32, kernel_size=2, strides=1, activation='relu', padding='valid')(h)\n",
    "    h = SimpleRNN(128)(h)\n",
    "#     h = LSTM(256)(h)\n",
    "#     h = Bidirectional(LSTM(256)(h))\n",
    "    h_global = h\n",
    "    \n",
    "    h = Reshape((-1,1))(h_global) # h_global h_per_note\n",
    "#     h = Concatenate(axis=1)([h_global, h_per_note])\n",
    "\n",
    "#     h = Reshape((-1,1))(h)\n",
    "    \n",
    "    n_capsules = 10\n",
    "    capsule_dim = 6\n",
    "    n_routings=3\n",
    "    share_weights=True\n",
    "    h = Capsule(n_capsules, capsule_dim, n_routings, share_weights)(h)   \n",
    "    h = Flatten()(h)\n",
    "    \n",
    "    # Z Mean, Variance\n",
    "    z_mean = Dense(latent_dim, name='z_mean')(h) # , activation='relu'\n",
    "    z_log_var = Dense(latent_dim, name='z_log_var')(h) # , activation='relu'\n",
    "        \n",
    "    encoder_output = [z_mean, z_log_var]\n",
    "    encoder_model = Model(encoder_input, encoder_output, name='encoder_model-')\n",
    "    print('Extra params:', [k.count_params() for k in [rnn, reshape, capsule]])\n",
    "\n",
    "    return encoder_model, encoder_input, z_mean, z_log_var"
   ]
  },
  {
   "cell_type": "code",
   "execution_count": 30,
   "metadata": {
    "scrolled": false
   },
   "outputs": [
    {
     "name": "stdout",
     "output_type": "stream",
     "text": [
      "shared weights, shape = (1, 1, 60) 60\n",
      "shared weights, shape = (1, 1, 60) 60\n",
      "Extra params: [32896, 0, 60]\n",
      "__________________________________________________________________________________________________\n",
      "Layer (type)                    Output Shape         Param #     Connected to                     \n",
      "==================================================================================================\n",
      "input_2 (InputLayer)            (None, 40, 9, 1)     0                                            \n",
      "__________________________________________________________________________________________________\n",
      "reshape_11 (Reshape)            (None, 40, 9)        0           input_2[0][0]                    \n",
      "__________________________________________________________________________________________________\n",
      "conv1d_4 (Conv1D)               (None, 39, 32)       608         reshape_11[0][0]                 \n",
      "__________________________________________________________________________________________________\n",
      "conv1d_5 (Conv1D)               (None, 19, 64)       4160        conv1d_4[0][0]                   \n",
      "__________________________________________________________________________________________________\n",
      "conv1d_6 (Conv1D)               (None, 18, 128)      16512       conv1d_5[0][0]                   \n",
      "__________________________________________________________________________________________________\n",
      "simple_rnn_2 (SimpleRNN)        (None, 128)          32896       conv1d_6[0][0]                   \n",
      "__________________________________________________________________________________________________\n",
      "reshape_12 (Reshape)            (None, 128, 1)       0           simple_rnn_2[0][0]               \n",
      "__________________________________________________________________________________________________\n",
      "capsule_4 (Capsule)             (None, 10, 6)        60          reshape_12[0][0]                 \n",
      "__________________________________________________________________________________________________\n",
      "flatten_4 (Flatten)             (None, 60)           0           capsule_4[0][0]                  \n",
      "__________________________________________________________________________________________________\n",
      "z_mean (Dense)                  (None, 2)            122         flatten_4[0][0]                  \n",
      "__________________________________________________________________________________________________\n",
      "z_log_var (Dense)               (None, 2)            122         flatten_4[0][0]                  \n",
      "==================================================================================================\n",
      "Total params: 54,480\n",
      "Trainable params: 54,480\n",
      "Non-trainable params: 0\n",
      "__________________________________________________________________________________________________\n"
     ]
    }
   ],
   "source": [
    "encoder_model, encoder_input, z_mean, z_log_var = encoder(input_shape)\n",
    "encoder_model.summary()"
   ]
  },
  {
   "cell_type": "code",
   "execution_count": 31,
   "metadata": {},
   "outputs": [],
   "source": [
    "sample_ = lambda args: models.sample(args, z_mean, z_log_var, latent_dim, epsilon_std)"
   ]
  },
  {
   "cell_type": "code",
   "execution_count": 32,
   "metadata": {},
   "outputs": [],
   "source": [
    "# z = Lambda(sampling)([z_mean, z_log_var])\n",
    "z_input = encoder_model(encoder_input)\n",
    "z_output = Lambda(sample_)(z_input)\n",
    "# z_output = Lambda(sampl_, output_shape=(latent_dim,))(encoder_input)"
   ]
  },
  {
   "cell_type": "code",
   "execution_count": 33,
   "metadata": {},
   "outputs": [],
   "source": [
    "def list_decoders(output_shape):\n",
    "    # decoder_input = z_output\n",
    "    # h = decoder_input\n",
    "    # :output_shape = (timesteps, channels, channels) || (batches, filters, timesteps, channels)\n",
    "    # keras offers just Conv2DTranspose and not Conv1DTranspose\n",
    "    # - use 2D images during upsampling :: (timesteps, notes, channels) => (timesteps, notes, filters)\n",
    "    # - use 1D images to optimize reconstruction :: (timesteps, filters) => (timesteps, notes)\n",
    "    \n",
    "    # image_data_format = 'channels_last'\n",
    "    # goal shape: (timesteps, notes, channels)\n",
    "    # start with the 'reverse': lots of small imgs => few large img\n",
    "    \n",
    "    timesteps, notes, channels = output_shape\n",
    "    filters = 64\n",
    "    output_shape = (14, 14, filters)\n",
    "    output_shape = (timesteps, notes, 1)\n",
    "    \n",
    "    # keras.examples.variational_autoencoder_deconv.py\n",
    "    decoders = []\n",
    "    decoders += [ Dense(256) ]\n",
    "    decoders += [ LeakyReLU(alpha=0.3) ]\n",
    "    \n",
    "    # add a bypass layer\n",
    "    w = 512\n",
    "    decoders += [ Dense(w, activation='relu') ]\n",
    "    extra_decoders = []\n",
    "    for _ in range(3):\n",
    "        extra_decoders += [ Dense(w, activation='elu', bias_initializer='zeros') ]\n",
    "\n",
    "    extra_ = Lambda(lambda layer: utils.composition(extra_decoders, layer))\n",
    "    decoders += [ Lambda(lambda layer: Add()([layer, extra_(layer)])) ]\n",
    "    \n",
    "    decoders += [ BatchNormalization(momentum=0.5) ]\n",
    "\n",
    "    # Shared Layers (Conductor)\n",
    "    dim1, dim2, filters = 4, int(timesteps/4), notes*4\n",
    "    print('dim1: %i dim2: %i filters: %i' % (dim1, dim2, filters))\n",
    "    decoders += [ Dense(dim1*dim2, activation='elu') ]\n",
    "    #  decoders += [ BatchNormalization(momentum=0.3) ]\n",
    "    decoders += [ Reshape((dim1, dim2, 1)) ]\n",
    "    lstm = LSTM(filters, return_sequences=True)\n",
    "    #     lstm = Bidirectional(lstm)\n",
    "    decoders += [ TimeDistributed(lstm) ]\n",
    "    \n",
    "    # Shared Decoders\n",
    "#     decoders += [ Reshape((dim1, dim2, filters)) ]\n",
    "    decoders += [ Reshape((dim1, dim2*filters)) ]\n",
    "        \n",
    "\n",
    "    # TODO let embedding_decoder-i have input embeddings[i-1:i]\n",
    "\n",
    "    # n_embeddings = dim1 (4)\n",
    "    # len(embedding) = dim2 (10)\n",
    "    embedding_decoder = []\n",
    "    w = 100 # filters\n",
    "    embedding_decoder += [ Dense(w, activation='elu') ] # 100 | dim2*filters\n",
    "    shape2 = int(w / dim2)\n",
    "    embedding_decoder += [ Reshape((dim2, shape2)) ] # (10, 10)\n",
    "    embedding_decoder += [ LSTM(128, return_sequences=True) ]\n",
    "    embedding_decoder += [ LSTM(128, return_sequences=True) ]\n",
    "    # shape = 4x (100,100)\n",
    "#     embedding_decoder += [ Reshape((10,100)) ]\n",
    "\n",
    "    # TODO this final layer does not have to be shared\n",
    "    embedding_decoder += [ TimeDistributed(Dense(notes, activation='sigmoid')) ]\n",
    "    e_ = Lambda(lambda layer: utils.composition(embedding_decoder, layer))\n",
    "    decoders += [ TimeDistributed(e_) ]\n",
    "    # TODO check if dimensions are not shuffled\n",
    "#     decoders += [ Permute((2,1,3)) ]\n",
    "    decoders += [ Reshape((dim1*dim2,notes,1))]\n",
    "    \n",
    "#     n_embeddings = dim1\n",
    "#     embeddings = []\n",
    "#     for i in range(n_embeddings):\n",
    "#         j = (n_embeddings - 1) - i\n",
    "#         x = Cropping2D(((0,0), (i,j)))(h)\n",
    "#         # shape = (dim2*filters)\n",
    "#         embeddings.append(x)\n",
    "#     h = Concatenate(axis=1)(embeddings)\n",
    "#     decoders += []\n",
    "    \n",
    "#     decoders += [ Conv2DTranspose(filters, kernel_size=(2,1), strides=(2,1), activation='elu', padding='valid') ]  \n",
    "\n",
    "    \n",
    "# #     decoders += [ LSTM(dim2*filters, return_sequences=True) ]\n",
    "#     # shape = (dim1, dim2*filters) = (16, 256)\n",
    "    \n",
    "#     decoders += [ Reshape((dim1, dim2, filters))]\n",
    "#     decoders += [ Conv2DTranspose(filters, kernel_size=(2,1), strides=(2,1), activation='elu', padding='valid') ]  \n",
    "    \n",
    "#     filters = 1\n",
    "#     decoders += [ Conv2D(filters, kernel_size=(2,1), strides=(1,2), padding='same') ]\n",
    "# #     decoders += [ LeakyReLU(alpha=0.3) ]\n",
    "# #     decoders += [ Activation('sigmoid') ]\n",
    "\n",
    "    \n",
    "    return decoders"
   ]
  },
  {
   "cell_type": "code",
   "execution_count": 34,
   "metadata": {},
   "outputs": [
    {
     "name": "stdout",
     "output_type": "stream",
     "text": [
      "dim1: 4 dim2: 10 filters: 36\n"
     ]
    }
   ],
   "source": [
    "decoders = list_decoders(input_shape)"
   ]
  },
  {
   "cell_type": "code",
   "execution_count": 35,
   "metadata": {},
   "outputs": [],
   "source": [
    "decoded = utils.composition(decoders, z_output, verbose=False)"
   ]
  },
  {
   "cell_type": "code",
   "execution_count": 36,
   "metadata": {},
   "outputs": [
    {
     "name": "stdout",
     "output_type": "stream",
     "text": [
      "__________________________________________________________________________________________________\n",
      "Layer (type)                    Output Shape         Param #     Connected to                     \n",
      "==================================================================================================\n",
      "input_2 (InputLayer)            (None, 40, 9, 1)     0                                            \n",
      "__________________________________________________________________________________________________\n",
      "encoder_model- (Model)          [(None, 2), (None, 2 54480       input_2[0][0]                    \n",
      "__________________________________________________________________________________________________\n",
      "lambda_8 (Lambda)               (None, 2)            0           encoder_model-[1][0]             \n",
      "                                                                 encoder_model-[1][1]             \n",
      "__________________________________________________________________________________________________\n",
      "dense_9 (Dense)                 (None, 256)          768         lambda_8[0][0]                   \n",
      "__________________________________________________________________________________________________\n",
      "leaky_re_lu_2 (LeakyReLU)       (None, 256)          0           dense_9[0][0]                    \n",
      "__________________________________________________________________________________________________\n",
      "dense_10 (Dense)                (None, 512)          131584      leaky_re_lu_2[0][0]              \n",
      "__________________________________________________________________________________________________\n",
      "lambda_10 (Lambda)              (None, 512)          0           dense_10[0][0]                   \n",
      "__________________________________________________________________________________________________\n",
      "batch_normalization_2 (BatchNor (None, 512)          2048        lambda_10[0][0]                  \n",
      "__________________________________________________________________________________________________\n",
      "dense_14 (Dense)                (None, 40)           20520       batch_normalization_2[0][0]      \n",
      "__________________________________________________________________________________________________\n",
      "reshape_13 (Reshape)            (None, 4, 10, 1)     0           dense_14[0][0]                   \n",
      "__________________________________________________________________________________________________\n",
      "time_distributed_4 (TimeDistrib (None, 4, 10, 36)    5472        reshape_13[0][0]                 \n",
      "__________________________________________________________________________________________________\n",
      "reshape_14 (Reshape)            (None, 4, 360)       0           time_distributed_4[0][0]         \n",
      "__________________________________________________________________________________________________\n",
      "time_distributed_6 (TimeDistrib (None, 4, 10, 9)     0           reshape_14[0][0]                 \n",
      "__________________________________________________________________________________________________\n",
      "reshape_16 (Reshape)            (None, 40, 9, 1)     0           time_distributed_6[0][0]         \n",
      "==================================================================================================\n",
      "Total params: 214,872\n",
      "Trainable params: 213,848\n",
      "Non-trainable params: 1,024\n",
      "__________________________________________________________________________________________________\n"
     ]
    }
   ],
   "source": [
    "# instantiate VAE model\n",
    "vae_input = encoder_input\n",
    "vae_output = decoded\n",
    "vae = Model(vae_input, vae_output)\n",
    "vae.summary()"
   ]
  },
  {
   "cell_type": "code",
   "execution_count": 37,
   "metadata": {
    "scrolled": true
   },
   "outputs": [
    {
     "name": "stderr",
     "output_type": "stream",
     "text": [
      "/usr/local/lib/python3.6/site-packages/ipykernel_launcher.py:14: UserWarning: Output \"reshape_16\" missing from loss dictionary. We assume this was done on purpose, and we will not be expecting any data to be passed to \"reshape_16\" during training.\n",
      "  \n"
     ]
    }
   ],
   "source": [
    "# Compute VAE loss\n",
    "def vae_loss(beta=1.):\n",
    "#     beta = ((1.0 - tf.pow(hparams.beta_rate, tf.to_float(self.global_step)))\n",
    "#             * hparams.max_beta)\n",
    "#     self.loss = tf.reduce_mean(r_loss) + beta * tf.reduce_mean(kl_cost)\n",
    "    # y_true, y_pred, z_mean, z_log_var, timesteps=150, notes=3, beta=1.\n",
    "    xent_loss = timesteps * notes * keras.metrics.binary_crossentropy(K.flatten(vae_input), K.flatten(vae_output))\n",
    "    kl_loss = - 0.5 * K.sum(1 + z_log_var - K.square(z_mean) - K.exp(z_log_var), axis=-1)\n",
    "    vae_loss = K.mean(xent_loss + beta * kl_loss)\n",
    "    return vae_loss\n",
    "\n",
    "vae_loss = vae_loss(beta=0.5)\n",
    "vae.add_loss(vae_loss)\n",
    "vae.compile(optimizer='adam')\n",
    "# vae.compile(optimizer=optimizer, loss=loss, metrics=metrics)"
   ]
  },
  {
   "cell_type": "code",
   "execution_count": 38,
   "metadata": {},
   "outputs": [],
   "source": [
    "batch_size = 100\n",
    "epochs = 100\n",
    "params = {'batch_size': batch_size, 'return_y': False}"
   ]
  },
  {
   "cell_type": "code",
   "execution_count": 39,
   "metadata": {},
   "outputs": [],
   "source": [
    "phase_mod = 0.01\n",
    "whitening = False"
   ]
  },
  {
   "cell_type": "code",
   "execution_count": 40,
   "metadata": {
    "scrolled": true
   },
   "outputs": [
    {
     "name": "stdout",
     "output_type": "stream",
     "text": [
      "x: (2500, 40, 9, 1)\n",
      "batch_size = 100\n",
      "\n",
      "[Epoch 0/100] >>>>>>>>>\n",
      " Batch 0/4\n",
      " \\_val_loss [249.0]\n",
      " \\_loss [249.0]\n",
      " Batch 1/4\n",
      " \\_val_loss [249.0]\n",
      " \\_loss [249.0]\n",
      " Batch 2/4\n",
      " \\_val_loss [249.0]\n",
      " \\_loss [249.0]\n",
      " Batch 3/4\n",
      " \\_val_loss [249.0]\n",
      " \\_loss [249.0]\n",
      " Batch 4/4\n",
      " \\_val_loss [248.0]\n",
      " \\_loss [249.0]\n",
      "\n",
      "[Epoch 1/100] >>>>>>>>>\n",
      " Batch 0/4\n",
      " \\_val_loss [248.0]\n",
      " \\_loss [248.0]\n",
      " Batch 1/4\n",
      " \\_val_loss [248.0]\n",
      " \\_loss [248.0]\n",
      " Batch 2/4\n",
      " \\_val_loss [247.0]\n",
      " \\_loss [248.0]\n",
      " Batch 3/4\n",
      " \\_val_loss [247.0]\n",
      " \\_loss [247.0]\n",
      " Batch 4/4\n",
      " \\_val_loss [246.0]\n",
      " \\_loss [247.0]\n",
      "\n",
      "[Epoch 2/100] >>>>>>>>>\n",
      " Batch 0/4\n",
      " \\_val_loss [246.0]\n",
      " \\_loss [246.0]\n",
      " Batch 1/4\n",
      " \\_val_loss [245.0]\n",
      " \\_loss [246.0]\n",
      " Batch 2/4\n",
      " \\_val_loss [245.0]\n",
      " \\_loss [245.0]\n",
      " Batch 3/4\n",
      " \\_val_loss [245.0]\n",
      " \\_loss [245.0]\n",
      " Batch 4/4\n",
      " \\_val_loss [244.0]\n",
      " \\_loss [244.0]\n",
      "\n",
      "[Epoch 3/100] >>>>>>>>>\n",
      " Batch 0/4\n",
      " \\_val_loss [244.0]\n",
      " \\_loss [244.0]\n",
      " Batch 1/4\n",
      " \\_val_loss [243.0]\n",
      " \\_loss [244.0]\n",
      " Batch 2/4\n",
      " \\_val_loss [243.0]\n",
      " \\_loss [243.0]\n",
      " Batch 3/4\n",
      " \\_val_loss [243.0]\n",
      " \\_loss [243.0]\n",
      " Batch 4/4\n",
      " \\_val_loss [242.0]\n",
      " \\_loss [243.0]\n",
      "\n",
      "[Epoch 4/100] >>>>>>>>>\n",
      " Batch 0/4\n",
      " \\_val_loss [242.0]\n",
      " \\_loss [242.0]\n",
      " Batch 1/4\n",
      " \\_val_loss [242.0]\n",
      " \\_loss [242.0]\n",
      " Batch 2/4\n",
      " \\_val_loss [242.0]\n",
      " \\_loss [242.0]\n",
      " Batch 3/4\n",
      " \\_val_loss [242.0]\n",
      " \\_loss [241.0]\n",
      " Batch 4/4\n",
      " \\_val_loss [241.0]\n",
      " \\_loss [241.0]\n",
      "\n",
      "[Epoch 5/100] >>>>>>>>>\n",
      " Batch 0/4\n",
      " \\_val_loss [241.0]\n",
      " \\_loss [241.0]\n",
      " Batch 1/4\n",
      " \\_val_loss [241.0]\n",
      " \\_loss [241.0]\n",
      " Batch 2/4\n",
      " \\_val_loss [241.0]\n",
      " \\_loss [241.0]\n",
      " Batch 3/4\n",
      " \\_val_loss [241.0]\n",
      " \\_loss [241.0]\n",
      " Batch 4/4\n",
      " \\_val_loss [241.0]\n",
      " \\_loss [241.0]\n",
      "\n",
      "[Epoch 6/100] >>>>>>>>>\n",
      " Batch 0/4\n",
      " \\_val_loss [241.0]\n",
      " \\_loss [241.0]\n",
      " Batch 1/4\n",
      " \\_val_loss [241.0]\n",
      " \\_loss [241.0]\n",
      " Batch 2/4\n",
      " \\_val_loss [241.0]\n",
      " \\_loss [241.0]\n",
      " Batch 3/4\n",
      " \\_val_loss [241.0]\n",
      " \\_loss [240.0]\n",
      " Batch 4/4\n",
      " \\_val_loss [241.0]\n",
      " \\_loss [240.0]\n",
      "\n",
      "[Epoch 7/100] >>>>>>>>>\n",
      " Batch 0/4\n",
      " \\_val_loss [240.0]\n",
      " \\_loss [240.0]\n",
      " Batch 1/4\n",
      " \\_val_loss [240.0]\n",
      " \\_loss [240.0]\n",
      " Batch 2/4\n",
      " \\_val_loss [240.0]\n",
      " \\_loss [240.0]\n",
      " Batch 3/4\n",
      " \\_val_loss [240.0]\n",
      " \\_loss [240.0]\n",
      " Batch 4/4\n",
      " \\_val_loss [240.0]\n",
      " \\_loss [240.0]\n",
      "\n",
      "[Epoch 8/100] >>>>>>>>>\n",
      " Batch 0/4\n",
      " \\_val_loss [240.0]\n",
      " \\_loss [240.0]\n",
      " Batch 1/4\n",
      " \\_val_loss [240.0]\n",
      " \\_loss [240.0]\n",
      " Batch 2/4\n",
      " \\_val_loss [240.0]\n",
      " \\_loss [240.0]\n",
      " Batch 3/4\n",
      " \\_val_loss [240.0]\n",
      " \\_loss [240.0]\n",
      " Batch 4/4\n",
      " \\_val_loss [240.0]\n",
      " \\_loss [239.0]\n",
      "\n",
      "[Epoch 9/100] >>>>>>>>>\n",
      " Batch 0/4\n",
      " \\_val_loss [240.0]\n",
      " \\_loss [239.0]\n",
      " Batch 1/4\n",
      " \\_val_loss [239.0]\n",
      " \\_loss [239.0]\n",
      " Batch 2/4\n",
      " \\_val_loss [239.0]\n",
      " \\_loss [239.0]\n",
      " Batch 3/4\n",
      " \\_val_loss [239.0]\n",
      " \\_loss [239.0]\n",
      " Batch 4/4\n",
      " \\_val_loss [239.0]\n",
      " \\_loss [239.0]\n",
      "\n",
      "[Epoch 10/100] >>>>>>>>>\n",
      " Batch 0/4\n",
      " \\_val_loss [239.0]\n",
      " \\_loss [239.0]\n",
      " Batch 1/4\n",
      " \\_val_loss [239.0]\n",
      " \\_loss [239.0]\n",
      " Batch 2/4\n",
      " \\_val_loss [239.0]\n",
      " \\_loss [239.0]\n",
      " Batch 3/4\n",
      " \\_val_loss [239.0]\n",
      " \\_loss [239.0]\n",
      " Batch 4/4\n",
      " \\_val_loss [239.0]\n",
      " \\_loss [239.0]\n",
      "\n",
      "[Epoch 11/100] >>>>>>>>>\n",
      " Batch 0/4\n",
      " \\_val_loss [239.0]\n",
      " \\_loss [239.0]\n",
      " Batch 1/4\n",
      " \\_val_loss [239.0]\n",
      " \\_loss [238.0]\n",
      " Batch 2/4\n",
      " \\_val_loss [238.0]\n",
      " \\_loss [238.0]\n",
      " Batch 3/4\n",
      " \\_val_loss [238.0]\n",
      " \\_loss [238.0]\n",
      " Batch 4/4\n",
      " \\_val_loss [238.0]\n",
      " \\_loss [238.0]\n",
      "\n",
      "[Epoch 12/100] >>>>>>>>>\n",
      " Batch 0/4\n",
      " \\_val_loss [238.0]\n",
      " \\_loss [238.0]\n",
      " Batch 1/4\n",
      " \\_val_loss [238.0]\n",
      " \\_loss [238.0]\n",
      " Batch 2/4\n",
      " \\_val_loss [238.0]\n",
      " \\_loss [238.0]\n",
      " Batch 3/4\n",
      " \\_val_loss [238.0]\n",
      " \\_loss [238.0]\n",
      " Batch 4/4\n",
      " \\_val_loss [238.0]\n",
      " \\_loss [238.0]\n",
      "\n",
      "[Epoch 13/100] >>>>>>>>>\n",
      " Batch 0/4\n",
      " \\_val_loss [238.0]\n",
      " \\_loss [238.0]\n",
      " Batch 1/4\n",
      " \\_val_loss [238.0]\n",
      " \\_loss [238.0]\n",
      " Batch 2/4\n",
      " \\_val_loss [238.0]\n",
      " \\_loss [238.0]\n",
      " Batch 3/4\n",
      " \\_val_loss [238.0]\n",
      " \\_loss [238.0]\n",
      " Batch 4/4\n",
      " \\_val_loss [238.0]\n",
      " \\_loss [238.0]\n",
      "\n",
      "[Epoch 14/100] >>>>>>>>>\n",
      " Batch 0/4\n",
      " \\_val_loss [238.0]\n",
      " \\_loss [238.0]\n",
      " Batch 1/4\n",
      " \\_val_loss [238.0]\n",
      " \\_loss [238.0]\n",
      " Batch 2/4\n",
      " \\_val_loss [238.0]\n",
      " \\_loss [238.0]\n",
      " Batch 3/4\n",
      " \\_val_loss [238.0]\n",
      " \\_loss [237.0]\n",
      " Batch 4/4\n",
      " \\_val_loss [238.0]\n",
      " \\_loss [238.0]\n",
      "\n",
      "[Epoch 15/100] >>>>>>>>>\n",
      " Batch 0/4\n",
      " \\_val_loss [237.0]\n",
      " \\_loss [237.0]\n",
      " Batch 1/4\n",
      " \\_val_loss [237.0]\n",
      " \\_loss [237.0]\n",
      " Batch 2/4\n",
      " \\_val_loss [237.0]\n",
      " \\_loss [237.0]\n",
      " Batch 3/4\n",
      " \\_val_loss [237.0]\n",
      " \\_loss [237.0]\n",
      " Batch 4/4\n",
      " \\_val_loss [237.0]\n",
      " \\_loss [237.0]\n",
      "\n",
      "[Epoch 16/100] >>>>>>>>>\n",
      " Batch 0/4\n",
      " \\_val_loss [237.0]\n",
      " \\_loss [237.0]\n",
      " Batch 1/4\n",
      " \\_val_loss [237.0]\n",
      " \\_loss [237.0]\n",
      " Batch 2/4\n",
      " \\_val_loss [237.0]\n",
      " \\_loss [237.0]\n",
      " Batch 3/4\n",
      " \\_val_loss [237.0]\n",
      " \\_loss [237.0]\n",
      " Batch 4/4\n",
      " \\_val_loss [237.0]\n",
      " \\_loss [237.0]\n",
      "\n",
      "[Epoch 17/100] >>>>>>>>>\n",
      " Batch 0/4\n",
      " \\_val_loss [237.0]\n",
      " \\_loss [237.0]\n",
      " Batch 1/4\n",
      " \\_val_loss [237.0]\n",
      " \\_loss [237.0]\n",
      " Batch 2/4\n",
      " \\_val_loss [237.0]\n",
      " \\_loss [237.0]\n",
      " Batch 3/4\n",
      " \\_val_loss [237.0]\n",
      " \\_loss [237.0]\n",
      " Batch 4/4\n",
      " \\_val_loss [237.0]\n",
      " \\_loss [237.0]\n",
      "\n",
      "[Epoch 18/100] >>>>>>>>>\n",
      " Batch 0/4\n",
      " \\_val_loss [237.0]\n",
      " \\_loss [237.0]\n",
      " Batch 1/4\n",
      " \\_val_loss [237.0]\n",
      " \\_loss [237.0]\n",
      " Batch 2/4\n",
      " \\_val_loss [237.0]\n",
      " \\_loss [237.0]\n",
      " Batch 3/4\n",
      " \\_val_loss [237.0]\n",
      " \\_loss [237.0]\n",
      " Batch 4/4\n",
      " \\_val_loss [237.0]\n",
      " \\_loss [237.0]\n",
      "\n",
      "[Epoch 19/100] >>>>>>>>>\n",
      " Batch 0/4\n",
      " \\_val_loss [237.0]\n",
      " \\_loss [237.0]\n",
      " Batch 1/4\n",
      " \\_val_loss [237.0]\n",
      " \\_loss [237.0]\n",
      " Batch 2/4\n",
      " \\_val_loss [237.0]\n",
      " \\_loss [237.0]\n",
      " Batch 3/4\n",
      " \\_val_loss [237.0]\n",
      " \\_loss [237.0]\n",
      " Batch 4/4\n",
      " \\_val_loss [237.0]\n",
      " \\_loss [236.0]\n",
      "\n",
      "[Epoch 20/100] >>>>>>>>>\n",
      " Batch 0/4\n",
      " \\_val_loss [237.0]\n",
      " \\_loss [237.0]\n",
      " Batch 1/4\n",
      " \\_val_loss [236.0]\n",
      " \\_loss [236.0]\n",
      " Batch 2/4\n",
      " \\_val_loss [237.0]\n",
      " \\_loss [236.0]\n",
      " Batch 3/4\n",
      " \\_val_loss [236.0]\n",
      " \\_loss [236.0]\n",
      " Batch 4/4\n",
      " \\_val_loss [236.0]\n",
      " \\_loss [236.0]\n",
      "\n",
      "[Epoch 21/100] >>>>>>>>>\n",
      " Batch 0/4\n",
      " \\_val_loss [236.0]\n",
      " \\_loss [236.0]\n",
      " Batch 1/4\n",
      " \\_val_loss [236.0]\n",
      " \\_loss [236.0]\n",
      " Batch 2/4\n",
      " \\_val_loss [236.0]\n",
      " \\_loss [236.0]\n",
      " Batch 3/4\n",
      " \\_val_loss [236.0]\n",
      " \\_loss [236.0]\n",
      " Batch 4/4\n",
      " \\_val_loss [236.0]\n",
      " \\_loss [236.0]\n",
      "\n",
      "[Epoch 22/100] >>>>>>>>>\n",
      " Batch 0/4\n",
      " \\_val_loss [236.0]\n",
      " \\_loss [236.0]\n",
      " Batch 1/4\n",
      " \\_val_loss [236.0]\n",
      " \\_loss [236.0]\n",
      " Batch 2/4\n",
      " \\_val_loss [236.0]\n",
      " \\_loss [236.0]\n",
      " Batch 3/4\n",
      " \\_val_loss [236.0]\n",
      " \\_loss [236.0]\n",
      " Batch 4/4\n",
      " \\_val_loss [236.0]\n",
      " \\_loss [236.0]\n",
      "\n",
      "[Epoch 23/100] >>>>>>>>>\n",
      " Batch 0/4\n",
      " \\_val_loss [236.0]\n",
      " \\_loss [236.0]\n",
      " Batch 1/4\n",
      " \\_val_loss [236.0]\n",
      " \\_loss [236.0]\n",
      " Batch 2/4\n",
      " \\_val_loss [236.0]\n",
      " \\_loss [236.0]\n",
      " Batch 3/4\n",
      " \\_val_loss [236.0]\n",
      " \\_loss [236.0]\n",
      " Batch 4/4\n",
      " \\_val_loss [236.0]\n",
      " \\_loss [236.0]\n",
      "\n",
      "[Epoch 24/100] >>>>>>>>>\n",
      " Batch 0/4\n",
      " \\_val_loss [236.0]\n",
      " \\_loss [236.0]\n",
      " Batch 1/4\n",
      " \\_val_loss [236.0]\n",
      " \\_loss [236.0]\n",
      " Batch 2/4\n",
      " \\_val_loss [236.0]\n",
      " \\_loss [236.0]\n",
      " Batch 3/4\n",
      " \\_val_loss [236.0]\n",
      " \\_loss [236.0]\n",
      " Batch 4/4\n",
      " \\_val_loss [236.0]\n",
      " \\_loss [236.0]\n",
      "\n",
      "[Epoch 25/100] >>>>>>>>>\n",
      " Batch 0/4\n",
      " \\_val_loss [236.0]\n",
      " \\_loss [236.0]\n",
      " Batch 1/4\n",
      " \\_val_loss [236.0]\n",
      " \\_loss [236.0]\n",
      " Batch 2/4\n",
      " \\_val_loss [236.0]\n",
      " \\_loss [236.0]\n",
      " Batch 3/4\n",
      " \\_val_loss [236.0]\n",
      " \\_loss [236.0]\n",
      " Batch 4/4\n",
      " \\_val_loss [236.0]\n",
      " \\_loss [236.0]\n",
      "\n",
      "[Epoch 26/100] >>>>>>>>>\n",
      " Batch 0/4\n",
      " \\_val_loss [236.0]\n",
      " \\_loss [235.0]\n",
      " Batch 1/4\n",
      " \\_val_loss [236.0]\n",
      " \\_loss [236.0]\n",
      " Batch 2/4\n",
      " \\_val_loss [236.0]\n",
      " \\_loss [236.0]\n",
      " Batch 3/4\n",
      " \\_val_loss [235.0]\n",
      " \\_loss [236.0]\n",
      " Batch 4/4\n",
      " \\_val_loss [235.0]\n",
      " \\_loss [236.0]\n",
      "\n",
      "[Epoch 27/100] >>>>>>>>>\n",
      " Batch 0/4\n",
      " \\_val_loss [235.0]\n",
      " \\_loss [235.0]\n",
      " Batch 1/4\n",
      " \\_val_loss [235.0]\n",
      " \\_loss [235.0]\n",
      " Batch 2/4\n",
      " \\_val_loss [235.0]\n",
      " \\_loss [235.0]\n",
      " Batch 3/4\n",
      " \\_val_loss [235.0]\n",
      " \\_loss [235.0]\n",
      " Batch 4/4\n",
      " \\_val_loss [235.0]\n",
      " \\_loss [235.0]\n",
      "\n",
      "[Epoch 28/100] >>>>>>>>>\n",
      " Batch 0/4\n",
      " \\_val_loss [235.0]\n",
      " \\_loss [235.0]\n",
      " Batch 1/4\n",
      " \\_val_loss [235.0]\n",
      " \\_loss [235.0]\n",
      " Batch 2/4\n",
      " \\_val_loss [235.0]\n",
      " \\_loss [235.0]\n",
      " Batch 3/4\n",
      " \\_val_loss [235.0]\n",
      " \\_loss [235.0]\n",
      " Batch 4/4\n",
      " \\_val_loss [235.0]\n",
      " \\_loss [235.0]\n",
      "\n",
      "[Epoch 29/100] >>>>>>>>>\n",
      " Batch 0/4\n",
      " \\_val_loss [235.0]\n",
      " \\_loss [235.0]\n",
      " Batch 1/4\n",
      " \\_val_loss [235.0]\n",
      " \\_loss [235.0]\n",
      " Batch 2/4\n",
      " \\_val_loss [235.0]\n",
      " \\_loss [235.0]\n",
      " Batch 3/4\n",
      " \\_val_loss [235.0]\n",
      " \\_loss [235.0]\n",
      " Batch 4/4\n",
      " \\_val_loss [235.0]\n",
      " \\_loss [235.0]\n",
      "\n",
      "[Epoch 30/100] >>>>>>>>>\n",
      " Batch 0/4\n",
      " \\_val_loss [235.0]\n",
      " \\_loss [235.0]\n",
      " Batch 1/4\n",
      " \\_val_loss [235.0]\n",
      " \\_loss [235.0]\n",
      " Batch 2/4\n",
      " \\_val_loss [235.0]\n",
      " \\_loss [235.0]\n",
      " Batch 3/4\n"
     ]
    },
    {
     "ename": "KeyboardInterrupt",
     "evalue": "",
     "output_type": "error",
     "traceback": [
      "\u001b[0;31m---------------------------------------------------------------------------\u001b[0m",
      "\u001b[0;31mKeyboardInterrupt\u001b[0m                         Traceback (most recent call last)",
      "\u001b[0;32m<ipython-input-40-91fc00baee4d>\u001b[0m in \u001b[0;36m<module>\u001b[0;34m()\u001b[0m\n\u001b[1;32m     19\u001b[0m             \u001b[0;31m# x_ = datagen.shuffle_3rd_dim(x_)\u001b[0m\u001b[0;34m\u001b[0m\u001b[0;34m\u001b[0m\u001b[0m\n\u001b[1;32m     20\u001b[0m             \u001b[0mx_\u001b[0m \u001b[0;34m=\u001b[0m \u001b[0mdatagen\u001b[0m\u001b[0;34m.\u001b[0m\u001b[0mshuffle_3rd_dim_soft\u001b[0m\u001b[0;34m(\u001b[0m\u001b[0mx_\u001b[0m\u001b[0;34m,\u001b[0m \u001b[0mrate\u001b[0m\u001b[0;34m=\u001b[0m\u001b[0;36m0.5\u001b[0m\u001b[0;34m,\u001b[0m \u001b[0mscale\u001b[0m\u001b[0;34m=\u001b[0m\u001b[0;36m0.1\u001b[0m\u001b[0;34m,\u001b[0m \u001b[0mverbose\u001b[0m\u001b[0;34m=\u001b[0m\u001b[0;36m0\u001b[0m\u001b[0;34m)\u001b[0m\u001b[0;34m\u001b[0m\u001b[0m\n\u001b[0;32m---> 21\u001b[0;31m             \u001b[0mh\u001b[0m \u001b[0;34m=\u001b[0m \u001b[0mvae\u001b[0m\u001b[0;34m.\u001b[0m\u001b[0mfit\u001b[0m\u001b[0;34m(\u001b[0m\u001b[0mx_\u001b[0m\u001b[0;34m,\u001b[0m \u001b[0mvalidation_data\u001b[0m\u001b[0;34m=\u001b[0m\u001b[0;34m(\u001b[0m\u001b[0mx_test\u001b[0m\u001b[0;34m,\u001b[0m \u001b[0;32mNone\u001b[0m\u001b[0;34m)\u001b[0m\u001b[0;34m,\u001b[0m \u001b[0mverbose\u001b[0m\u001b[0;34m=\u001b[0m\u001b[0;36m0\u001b[0m\u001b[0;34m)\u001b[0m\u001b[0;34m\u001b[0m\u001b[0m\n\u001b[0m\u001b[1;32m     22\u001b[0m             \u001b[0;32mfor\u001b[0m \u001b[0mk\u001b[0m\u001b[0;34m,\u001b[0m\u001b[0mv\u001b[0m \u001b[0;32min\u001b[0m \u001b[0mh\u001b[0m\u001b[0;34m.\u001b[0m\u001b[0mhistory\u001b[0m\u001b[0;34m.\u001b[0m\u001b[0mitems\u001b[0m\u001b[0;34m(\u001b[0m\u001b[0;34m)\u001b[0m\u001b[0;34m:\u001b[0m\u001b[0;34m\u001b[0m\u001b[0m\n\u001b[1;32m     23\u001b[0m                 \u001b[0mprint\u001b[0m\u001b[0;34m(\u001b[0m\u001b[0;34m' \\\\_%s'\u001b[0m \u001b[0;34m%\u001b[0m \u001b[0mk\u001b[0m\u001b[0;34m,\u001b[0m \u001b[0;34m[\u001b[0m\u001b[0mround\u001b[0m\u001b[0;34m(\u001b[0m\u001b[0mv_\u001b[0m\u001b[0;34m,\u001b[0m\u001b[0;34m)\u001b[0m \u001b[0;32mfor\u001b[0m \u001b[0mv_\u001b[0m \u001b[0;32min\u001b[0m \u001b[0mv\u001b[0m\u001b[0;34m]\u001b[0m\u001b[0;34m)\u001b[0m\u001b[0;34m\u001b[0m\u001b[0m\n",
      "\u001b[0;32m/usr/local/lib/python3.6/site-packages/keras/engine/training.py\u001b[0m in \u001b[0;36mfit\u001b[0;34m(self, x, y, batch_size, epochs, verbose, callbacks, validation_split, validation_data, shuffle, class_weight, sample_weight, initial_epoch, steps_per_epoch, validation_steps, **kwargs)\u001b[0m\n\u001b[1;32m   1703\u001b[0m                               \u001b[0minitial_epoch\u001b[0m\u001b[0;34m=\u001b[0m\u001b[0minitial_epoch\u001b[0m\u001b[0;34m,\u001b[0m\u001b[0;34m\u001b[0m\u001b[0m\n\u001b[1;32m   1704\u001b[0m                               \u001b[0msteps_per_epoch\u001b[0m\u001b[0;34m=\u001b[0m\u001b[0msteps_per_epoch\u001b[0m\u001b[0;34m,\u001b[0m\u001b[0;34m\u001b[0m\u001b[0m\n\u001b[0;32m-> 1705\u001b[0;31m                               validation_steps=validation_steps)\n\u001b[0m\u001b[1;32m   1706\u001b[0m \u001b[0;34m\u001b[0m\u001b[0m\n\u001b[1;32m   1707\u001b[0m     def evaluate(self, x=None, y=None,\n",
      "\u001b[0;32m/usr/local/lib/python3.6/site-packages/keras/engine/training.py\u001b[0m in \u001b[0;36m_fit_loop\u001b[0;34m(self, f, ins, out_labels, batch_size, epochs, verbose, callbacks, val_f, val_ins, shuffle, callback_metrics, initial_epoch, steps_per_epoch, validation_steps)\u001b[0m\n\u001b[1;32m   1233\u001b[0m                         \u001b[0mins_batch\u001b[0m\u001b[0;34m[\u001b[0m\u001b[0mi\u001b[0m\u001b[0;34m]\u001b[0m \u001b[0;34m=\u001b[0m \u001b[0mins_batch\u001b[0m\u001b[0;34m[\u001b[0m\u001b[0mi\u001b[0m\u001b[0;34m]\u001b[0m\u001b[0;34m.\u001b[0m\u001b[0mtoarray\u001b[0m\u001b[0;34m(\u001b[0m\u001b[0;34m)\u001b[0m\u001b[0;34m\u001b[0m\u001b[0m\n\u001b[1;32m   1234\u001b[0m \u001b[0;34m\u001b[0m\u001b[0m\n\u001b[0;32m-> 1235\u001b[0;31m                     \u001b[0mouts\u001b[0m \u001b[0;34m=\u001b[0m \u001b[0mf\u001b[0m\u001b[0;34m(\u001b[0m\u001b[0mins_batch\u001b[0m\u001b[0;34m)\u001b[0m\u001b[0;34m\u001b[0m\u001b[0m\n\u001b[0m\u001b[1;32m   1236\u001b[0m                     \u001b[0;32mif\u001b[0m \u001b[0;32mnot\u001b[0m \u001b[0misinstance\u001b[0m\u001b[0;34m(\u001b[0m\u001b[0mouts\u001b[0m\u001b[0;34m,\u001b[0m \u001b[0mlist\u001b[0m\u001b[0;34m)\u001b[0m\u001b[0;34m:\u001b[0m\u001b[0;34m\u001b[0m\u001b[0m\n\u001b[1;32m   1237\u001b[0m                         \u001b[0mouts\u001b[0m \u001b[0;34m=\u001b[0m \u001b[0;34m[\u001b[0m\u001b[0mouts\u001b[0m\u001b[0;34m]\u001b[0m\u001b[0;34m\u001b[0m\u001b[0m\n",
      "\u001b[0;32m/usr/local/lib/python3.6/site-packages/keras/backend/tensorflow_backend.py\u001b[0m in \u001b[0;36m__call__\u001b[0;34m(self, inputs)\u001b[0m\n\u001b[1;32m   2476\u001b[0m         \u001b[0msession\u001b[0m \u001b[0;34m=\u001b[0m \u001b[0mget_session\u001b[0m\u001b[0;34m(\u001b[0m\u001b[0;34m)\u001b[0m\u001b[0;34m\u001b[0m\u001b[0m\n\u001b[1;32m   2477\u001b[0m         updated = session.run(fetches=fetches, feed_dict=feed_dict,\n\u001b[0;32m-> 2478\u001b[0;31m                               **self.session_kwargs)\n\u001b[0m\u001b[1;32m   2479\u001b[0m         \u001b[0;32mreturn\u001b[0m \u001b[0mupdated\u001b[0m\u001b[0;34m[\u001b[0m\u001b[0;34m:\u001b[0m\u001b[0mlen\u001b[0m\u001b[0;34m(\u001b[0m\u001b[0mself\u001b[0m\u001b[0;34m.\u001b[0m\u001b[0moutputs\u001b[0m\u001b[0;34m)\u001b[0m\u001b[0;34m]\u001b[0m\u001b[0;34m\u001b[0m\u001b[0m\n\u001b[1;32m   2480\u001b[0m \u001b[0;34m\u001b[0m\u001b[0m\n",
      "\u001b[0;32m/usr/local/lib/python3.6/site-packages/tensorflow/python/client/session.py\u001b[0m in \u001b[0;36mrun\u001b[0;34m(self, fetches, feed_dict, options, run_metadata)\u001b[0m\n\u001b[1;32m    893\u001b[0m     \u001b[0;32mtry\u001b[0m\u001b[0;34m:\u001b[0m\u001b[0;34m\u001b[0m\u001b[0m\n\u001b[1;32m    894\u001b[0m       result = self._run(None, fetches, feed_dict, options_ptr,\n\u001b[0;32m--> 895\u001b[0;31m                          run_metadata_ptr)\n\u001b[0m\u001b[1;32m    896\u001b[0m       \u001b[0;32mif\u001b[0m \u001b[0mrun_metadata\u001b[0m\u001b[0;34m:\u001b[0m\u001b[0;34m\u001b[0m\u001b[0m\n\u001b[1;32m    897\u001b[0m         \u001b[0mproto_data\u001b[0m \u001b[0;34m=\u001b[0m \u001b[0mtf_session\u001b[0m\u001b[0;34m.\u001b[0m\u001b[0mTF_GetBuffer\u001b[0m\u001b[0;34m(\u001b[0m\u001b[0mrun_metadata_ptr\u001b[0m\u001b[0;34m)\u001b[0m\u001b[0;34m\u001b[0m\u001b[0m\n",
      "\u001b[0;32m/usr/local/lib/python3.6/site-packages/tensorflow/python/client/session.py\u001b[0m in \u001b[0;36m_run\u001b[0;34m(self, handle, fetches, feed_dict, options, run_metadata)\u001b[0m\n\u001b[1;32m   1126\u001b[0m     \u001b[0;32mif\u001b[0m \u001b[0mfinal_fetches\u001b[0m \u001b[0;32mor\u001b[0m \u001b[0mfinal_targets\u001b[0m \u001b[0;32mor\u001b[0m \u001b[0;34m(\u001b[0m\u001b[0mhandle\u001b[0m \u001b[0;32mand\u001b[0m \u001b[0mfeed_dict_tensor\u001b[0m\u001b[0;34m)\u001b[0m\u001b[0;34m:\u001b[0m\u001b[0;34m\u001b[0m\u001b[0m\n\u001b[1;32m   1127\u001b[0m       results = self._do_run(handle, final_targets, final_fetches,\n\u001b[0;32m-> 1128\u001b[0;31m                              feed_dict_tensor, options, run_metadata)\n\u001b[0m\u001b[1;32m   1129\u001b[0m     \u001b[0;32melse\u001b[0m\u001b[0;34m:\u001b[0m\u001b[0;34m\u001b[0m\u001b[0m\n\u001b[1;32m   1130\u001b[0m       \u001b[0mresults\u001b[0m \u001b[0;34m=\u001b[0m \u001b[0;34m[\u001b[0m\u001b[0;34m]\u001b[0m\u001b[0;34m\u001b[0m\u001b[0m\n",
      "\u001b[0;32m/usr/local/lib/python3.6/site-packages/tensorflow/python/client/session.py\u001b[0m in \u001b[0;36m_do_run\u001b[0;34m(self, handle, target_list, fetch_list, feed_dict, options, run_metadata)\u001b[0m\n\u001b[1;32m   1342\u001b[0m     \u001b[0;32mif\u001b[0m \u001b[0mhandle\u001b[0m \u001b[0;32mis\u001b[0m \u001b[0;32mNone\u001b[0m\u001b[0;34m:\u001b[0m\u001b[0;34m\u001b[0m\u001b[0m\n\u001b[1;32m   1343\u001b[0m       return self._do_call(_run_fn, self._session, feeds, fetches, targets,\n\u001b[0;32m-> 1344\u001b[0;31m                            options, run_metadata)\n\u001b[0m\u001b[1;32m   1345\u001b[0m     \u001b[0;32melse\u001b[0m\u001b[0;34m:\u001b[0m\u001b[0;34m\u001b[0m\u001b[0m\n\u001b[1;32m   1346\u001b[0m       \u001b[0;32mreturn\u001b[0m \u001b[0mself\u001b[0m\u001b[0;34m.\u001b[0m\u001b[0m_do_call\u001b[0m\u001b[0;34m(\u001b[0m\u001b[0m_prun_fn\u001b[0m\u001b[0;34m,\u001b[0m \u001b[0mself\u001b[0m\u001b[0;34m.\u001b[0m\u001b[0m_session\u001b[0m\u001b[0;34m,\u001b[0m \u001b[0mhandle\u001b[0m\u001b[0;34m,\u001b[0m \u001b[0mfeeds\u001b[0m\u001b[0;34m,\u001b[0m \u001b[0mfetches\u001b[0m\u001b[0;34m)\u001b[0m\u001b[0;34m\u001b[0m\u001b[0m\n",
      "\u001b[0;32m/usr/local/lib/python3.6/site-packages/tensorflow/python/client/session.py\u001b[0m in \u001b[0;36m_do_call\u001b[0;34m(self, fn, *args)\u001b[0m\n\u001b[1;32m   1348\u001b[0m   \u001b[0;32mdef\u001b[0m \u001b[0m_do_call\u001b[0m\u001b[0;34m(\u001b[0m\u001b[0mself\u001b[0m\u001b[0;34m,\u001b[0m \u001b[0mfn\u001b[0m\u001b[0;34m,\u001b[0m \u001b[0;34m*\u001b[0m\u001b[0margs\u001b[0m\u001b[0;34m)\u001b[0m\u001b[0;34m:\u001b[0m\u001b[0;34m\u001b[0m\u001b[0m\n\u001b[1;32m   1349\u001b[0m     \u001b[0;32mtry\u001b[0m\u001b[0;34m:\u001b[0m\u001b[0;34m\u001b[0m\u001b[0m\n\u001b[0;32m-> 1350\u001b[0;31m       \u001b[0;32mreturn\u001b[0m \u001b[0mfn\u001b[0m\u001b[0;34m(\u001b[0m\u001b[0;34m*\u001b[0m\u001b[0margs\u001b[0m\u001b[0;34m)\u001b[0m\u001b[0;34m\u001b[0m\u001b[0m\n\u001b[0m\u001b[1;32m   1351\u001b[0m     \u001b[0;32mexcept\u001b[0m \u001b[0merrors\u001b[0m\u001b[0;34m.\u001b[0m\u001b[0mOpError\u001b[0m \u001b[0;32mas\u001b[0m \u001b[0me\u001b[0m\u001b[0;34m:\u001b[0m\u001b[0;34m\u001b[0m\u001b[0m\n\u001b[1;32m   1352\u001b[0m       \u001b[0mmessage\u001b[0m \u001b[0;34m=\u001b[0m \u001b[0mcompat\u001b[0m\u001b[0;34m.\u001b[0m\u001b[0mas_text\u001b[0m\u001b[0;34m(\u001b[0m\u001b[0me\u001b[0m\u001b[0;34m.\u001b[0m\u001b[0mmessage\u001b[0m\u001b[0;34m)\u001b[0m\u001b[0;34m\u001b[0m\u001b[0m\n",
      "\u001b[0;32m/usr/local/lib/python3.6/site-packages/tensorflow/python/client/session.py\u001b[0m in \u001b[0;36m_run_fn\u001b[0;34m(session, feed_dict, fetch_list, target_list, options, run_metadata)\u001b[0m\n\u001b[1;32m   1327\u001b[0m           return tf_session.TF_Run(session, options,\n\u001b[1;32m   1328\u001b[0m                                    \u001b[0mfeed_dict\u001b[0m\u001b[0;34m,\u001b[0m \u001b[0mfetch_list\u001b[0m\u001b[0;34m,\u001b[0m \u001b[0mtarget_list\u001b[0m\u001b[0;34m,\u001b[0m\u001b[0;34m\u001b[0m\u001b[0m\n\u001b[0;32m-> 1329\u001b[0;31m                                    status, run_metadata)\n\u001b[0m\u001b[1;32m   1330\u001b[0m \u001b[0;34m\u001b[0m\u001b[0m\n\u001b[1;32m   1331\u001b[0m     \u001b[0;32mdef\u001b[0m \u001b[0m_prun_fn\u001b[0m\u001b[0;34m(\u001b[0m\u001b[0msession\u001b[0m\u001b[0;34m,\u001b[0m \u001b[0mhandle\u001b[0m\u001b[0;34m,\u001b[0m \u001b[0mfeed_dict\u001b[0m\u001b[0;34m,\u001b[0m \u001b[0mfetch_list\u001b[0m\u001b[0;34m)\u001b[0m\u001b[0;34m:\u001b[0m\u001b[0;34m\u001b[0m\u001b[0m\n",
      "\u001b[0;31mKeyboardInterrupt\u001b[0m: "
     ]
    }
   ],
   "source": [
    "m = 25\n",
    "useDataGenerator = False\n",
    "useDataGenerator = True\n",
    "\n",
    "x = x_train\n",
    "x = np.concatenate([x_train[:m] for _ in range(100)])\n",
    "print('x:', x.shape)\n",
    "\n",
    "print('batch_size =', batch_size)\n",
    "if useDataGenerator:\n",
    "    datagen = models.ImageDataGenerator(x_train, batch_size, phase_mod, whitening)\n",
    "    history = collections.defaultdict(list)\n",
    "    n_batches = datagen.__len__()\n",
    "    for e in range(epochs):\n",
    "        print('\\n[Epoch %i/%i] >>>>>>>>>' % (e, epochs))\n",
    "        for batch_i, (x_batch, y_batch) in enumerate(datagen.flow(x, x, batch_size)):\n",
    "            print(' Batch %i/%i' % (batch_i,n_batches))\n",
    "            x_ = x_batch\n",
    "            # x_ = datagen.shuffle_3rd_dim(x_)\n",
    "            x_ = datagen.shuffle_3rd_dim_soft(x_, rate=0.5, scale=0.1, verbose=0)\n",
    "            h = vae.fit(x_, validation_data=(x_test, None), verbose=0)\n",
    "            for k,v in h.history.items(): \n",
    "                print(' \\\\_%s' % k, [round(v_,) for v_ in v])\n",
    "                history[k].append(v)\n",
    "            if batch_i >= n_batches:\n",
    "                break\n",
    "else:\n",
    "    h = vae.fit(x, epochs=epochs, validation_data=(x_test, None))\n",
    "    history = h.history"
   ]
  },
  {
   "cell_type": "code",
   "execution_count": 41,
   "metadata": {},
   "outputs": [
    {
     "data": {
      "text/plain": [
       "[<matplotlib.lines.Line2D at 0x12bb93be0>]"
      ]
     },
     "execution_count": 41,
     "metadata": {},
     "output_type": "execute_result"
    },
    {
     "data": {
      "image/png": "[encoded data removed]",
      "text/plain": [
       "<matplotlib.figure.Figure at 0x12bb93c18>"
      ]
     },
     "metadata": {},
     "output_type": "display_data"
    }
   ],
   "source": [
    "plt.plot(history['loss'])\n",
    "plt.plot(history['val_loss'])"
   ]
  },
  {
   "cell_type": "code",
   "execution_count": 42,
   "metadata": {},
   "outputs": [
    {
     "data": {
      "text/plain": [
       "(2500, 40, 9, 1)"
      ]
     },
     "execution_count": 42,
     "metadata": {},
     "output_type": "execute_result"
    }
   ],
   "source": [
    "x.shape"
   ]
  },
  {
   "cell_type": "code",
   "execution_count": 58,
   "metadata": {},
   "outputs": [
    {
     "name": "stdout",
     "output_type": "stream",
     "text": [
      "m (40, 9)\n"
     ]
    },
    {
     "data": {
      "image/png": "[encoded data removed]",
      "text/plain": [
       "<matplotlib.figure.Figure at 0x1219abe80>"
      ]
     },
     "metadata": {},
     "output_type": "display_data"
    },
    {
     "name": "stdout",
     "output_type": "stream",
     "text": [
      "m (40, 9)\n"
     ]
    },
    {
     "data": {
      "image/png": "[encoded data removed]",
      "text/plain": [
       "<matplotlib.figure.Figure at 0x1289700b8>"
      ]
     },
     "metadata": {},
     "output_type": "display_data"
    },
    {
     "name": "stdout",
     "output_type": "stream",
     "text": [
      "m (40, 9)\n"
     ]
    },
    {
     "data": {
      "image/png": "[encoded data removed]",
      "text/plain": [
       "<matplotlib.figure.Figure at 0x128afa668>"
      ]
     },
     "metadata": {},
     "output_type": "display_data"
    },
    {
     "name": "stdout",
     "output_type": "stream",
     "text": [
      "m (40, 9)\n"
     ]
    },
    {
     "data": {
      "image/png": "[encoded data removed]",
      "text/plain": [
       "<matplotlib.figure.Figure at 0x128b2d2b0>"
      ]
     },
     "metadata": {},
     "output_type": "display_data"
    },
    {
     "name": "stdout",
     "output_type": "stream",
     "text": [
      "m (40, 9)\n"
     ]
    },
    {
     "data": {
      "image/png": "[encoded data removed]",
      "text/plain": [
       "<matplotlib.figure.Figure at 0x12bcd07b8>"
      ]
     },
     "metadata": {},
     "output_type": "display_data"
    },
    {
     "name": "stdout",
     "output_type": "stream",
     "text": [
      "m (40, 9)\n"
     ]
    },
    {
     "data": {
      "image/png": "[encoded data removed]",
      "text/plain": [
       "<matplotlib.figure.Figure at 0x1219ab1d0>"
      ]
     },
     "metadata": {},
     "output_type": "display_data"
    }
   ],
   "source": [
    "i = 0\n",
    "j = 1\n",
    "k = -1\n",
    "x = vae.predict(x_train[:100])\n",
    "plot.single(x_train[i, :50, :, 0])\n",
    "plot.single(x[i, :50, :, 0])\n",
    "plot.single(x_train[j, :50, :, 0])\n",
    "plot.single(x[j, :50, :, 0])\n",
    "plot.single(x_train[k, :50, :, 0])\n",
    "plot.single(x[k, :50, :, 0])"
   ]
  },
  {
   "cell_type": "code",
   "execution_count": 59,
   "metadata": {},
   "outputs": [
    {
     "name": "stdout",
     "output_type": "stream",
     "text": [
      "m (40, 9)\n"
     ]
    },
    {
     "data": {
      "image/png": "[encoded data removed]",
      "text/plain": [
       "<matplotlib.figure.Figure at 0x1219abe48>"
      ]
     },
     "metadata": {},
     "output_type": "display_data"
    },
    {
     "name": "stdout",
     "output_type": "stream",
     "text": [
      "m (40, 9)\n"
     ]
    },
    {
     "data": {
      "image/png": "[encoded data removed]",
      "text/plain": [
       "<matplotlib.figure.Figure at 0x12d24df98>"
      ]
     },
     "metadata": {},
     "output_type": "display_data"
    },
    {
     "name": "stdout",
     "output_type": "stream",
     "text": [
      "m (40, 9)\n"
     ]
    },
    {
     "data": {
      "image/png": "[encoded data removed]",
      "text/plain": [
       "<matplotlib.figure.Figure at 0x12bcd6ef0>"
      ]
     },
     "metadata": {},
     "output_type": "display_data"
    }
   ],
   "source": [
    "x = datagen.shuffle_3rd_dim_soft(x_train[:10], rate=1, intensity=2, scale=1, verbose=1)\n",
    "i = 0\n",
    "plot.single(x_train[i,:,:,0])\n",
    "plot.single(x[i,:,:,0])\n",
    "x_ = vae.predict(x)\n",
    "plot.single(x_[i,:,:,0])"
   ]
  },
  {
   "cell_type": "code",
   "execution_count": 60,
   "metadata": {},
   "outputs": [
    {
     "data": {
      "text/plain": [
       "(10, 40, 9, 1)"
      ]
     },
     "execution_count": 60,
     "metadata": {},
     "output_type": "execute_result"
    }
   ],
   "source": [
    "x.shape"
   ]
  },
  {
   "cell_type": "code",
   "execution_count": 61,
   "metadata": {},
   "outputs": [
    {
     "name": "stdout",
     "output_type": "stream",
     "text": [
      "m (30, 9)\n"
     ]
    },
    {
     "data": {
      "image/png": "[encoded data removed]",
      "text/plain": [
       "<matplotlib.figure.Figure at 0x10eb95978>"
      ]
     },
     "metadata": {},
     "output_type": "display_data"
    }
   ],
   "source": [
    "# min: these pixels are 'always' active\n",
    "m = x.min(axis=0)\n",
    "plot.multi(m[:30,:,0])"
   ]
  },
  {
   "cell_type": "code",
   "execution_count": 62,
   "metadata": {},
   "outputs": [
    {
     "name": "stdout",
     "output_type": "stream",
     "text": [
      "m (30, 9)\n"
     ]
    },
    {
     "data": {
      "image/png": "[encoded data removed]",
      "text/plain": [
       "<matplotlib.figure.Figure at 0x12e93f588>"
      ]
     },
     "metadata": {},
     "output_type": "display_data"
    }
   ],
   "source": [
    "# mean\n",
    "m = x.mean(axis=0)\n",
    "plot.single(m[:30,:,0])"
   ]
  },
  {
   "cell_type": "markdown",
   "metadata": {},
   "source": [
    "## Encoder + Generator\n",
    "A model to project inputs on the latent space"
   ]
  },
  {
   "cell_type": "code",
   "execution_count": 63,
   "metadata": {},
   "outputs": [],
   "source": [
    "# build a model to project inputs on the latent space\n",
    "encoder = Model(encoder_input, z_mean)"
   ]
  },
  {
   "cell_type": "code",
   "execution_count": 64,
   "metadata": {},
   "outputs": [
    {
     "data": {
      "text/plain": [
       "(50, 40, 9, 1)"
      ]
     },
     "execution_count": 64,
     "metadata": {},
     "output_type": "execute_result"
    }
   ],
   "source": [
    "x_test.shape"
   ]
  },
  {
   "cell_type": "code",
   "execution_count": 65,
   "metadata": {},
   "outputs": [
    {
     "data": {
      "text/plain": [
       "(100, 2)"
      ]
     },
     "execution_count": 65,
     "metadata": {},
     "output_type": "execute_result"
    }
   ],
   "source": [
    "m = 100\n",
    "x_train_encoded = encoder.predict(x_train[:m], batch_size=batch_size)\n",
    "x_train_encoded.shape"
   ]
  },
  {
   "cell_type": "code",
   "execution_count": 66,
   "metadata": {},
   "outputs": [
    {
     "data": {
      "text/plain": [
       "<matplotlib.collections.PathCollection at 0x12c4d7da0>"
      ]
     },
     "execution_count": 66,
     "metadata": {},
     "output_type": "execute_result"
    },
    {
     "data": {
      "image/png": "[encoded data removed]",
      "text/plain": [
       "<matplotlib.figure.Figure at 0x12e21d550>"
      ]
     },
     "metadata": {},
     "output_type": "display_data"
    }
   ],
   "source": [
    "# y_test = range(x_train_encoded.shape[0])\n",
    "y_test = np.concatenate([list(range(n)) for _ in range(int(m/n)+1)])[:m] / n\n",
    "plt.figure(figsize=(6, 6))\n",
    "plt.scatter(x_train_encoded[:, 0], x_train_encoded[:, 1], alpha=0.8, s=30) # c=y_test, "
   ]
  },
  {
   "cell_type": "code",
   "execution_count": 67,
   "metadata": {},
   "outputs": [
    {
     "data": {
      "text/plain": [
       "<matplotlib.collections.PathCollection at 0x12c9a3f98>"
      ]
     },
     "execution_count": 67,
     "metadata": {},
     "output_type": "execute_result"
    },
    {
     "data": {
      "image/png": "[encoded data removed]",
      "text/plain": [
       "<matplotlib.figure.Figure at 0x12e96e588>"
      ]
     },
     "metadata": {},
     "output_type": "display_data"
    }
   ],
   "source": [
    "# display a 2D plot of the digit classes in the latent space\n",
    "x_test_encoded = encoder.predict(x_test, batch_size=batch_size)\n",
    "plt.figure(figsize=(6, 6))\n",
    "plt.scatter(x_test_encoded[:, 0], x_test_encoded[:, 1], alpha=0.6, s=30) # , c=y_test\n",
    "# plt.colorbar()"
   ]
  },
  {
   "cell_type": "code",
   "execution_count": 68,
   "metadata": {},
   "outputs": [],
   "source": [
    "# build a digit generator that can sample from the learned distribution\n",
    "decoder_input = Input(shape=(latent_dim,))\n",
    "_decoded = utils.composition(decoders, decoder_input, verbose=False)\n",
    "generator = Model(decoder_input, _decoded)"
   ]
  },
  {
   "cell_type": "code",
   "execution_count": 69,
   "metadata": {},
   "outputs": [],
   "source": [
    "# x_decoded[0].reshape(150,3)"
   ]
  },
  {
   "cell_type": "code",
   "execution_count": 70,
   "metadata": {},
   "outputs": [
    {
     "data": {
      "text/plain": [
       "(450, 40, 9, 1)"
      ]
     },
     "execution_count": 70,
     "metadata": {},
     "output_type": "execute_result"
    }
   ],
   "source": [
    "x_train.shape"
   ]
  },
  {
   "cell_type": "code",
   "execution_count": 71,
   "metadata": {},
   "outputs": [
    {
     "name": "stdout",
     "output_type": "stream",
     "text": [
      "(2,) [0. 0.]\n"
     ]
    },
    {
     "data": {
      "image/png": "[encoded data removed]",
      "text/plain": [
       "<matplotlib.figure.Figure at 0x12fb06c88>"
      ]
     },
     "metadata": {},
     "output_type": "display_data"
    }
   ],
   "source": [
    "min_y = 0.01\n",
    "max_y = 0.5\n",
    "plot.latent(generator, batch_size, latent_dim,\n",
    "       n=8,\n",
    "       m=3,\n",
    "       crop_size=30,\n",
    "       margin_top=1,\n",
    "       margin_left=1,\n",
    "       min_x=0.05,\n",
    "       max_x=0.95,\n",
    "       min_y=min_y,\n",
    "       max_y=max_y)"
   ]
  },
  {
   "cell_type": "code",
   "execution_count": 72,
   "metadata": {},
   "outputs": [
    {
     "name": "stdout",
     "output_type": "stream",
     "text": [
      "(2,) [0. 0.]\n"
     ]
    },
    {
     "data": {
      "image/png": "[encoded data removed]",
      "text/plain": [
       "<matplotlib.figure.Figure at 0x126495a20>"
      ]
     },
     "metadata": {},
     "output_type": "display_data"
    }
   ],
   "source": [
    "min_y2 = max_y\n",
    "plot.latent(generator, batch_size, latent_dim,\n",
    "       n=8,\n",
    "       m=3,\n",
    "       crop_size=30,\n",
    "       margin_top=1,\n",
    "       margin_left=1,\n",
    "       min_x=0.05,\n",
    "       max_x=0.95,\n",
    "       min_y=min_y2,\n",
    "       max_y=0.95)"
   ]
  },
  {
   "cell_type": "code",
   "execution_count": null,
   "metadata": {},
   "outputs": [],
   "source": []
  },
  {
   "cell_type": "code",
   "execution_count": null,
   "metadata": {},
   "outputs": [],
   "source": []
  },
  {
   "cell_type": "code",
   "execution_count": null,
   "metadata": {},
   "outputs": [],
   "source": []
  },
  {
   "cell_type": "code",
   "execution_count": null,
   "metadata": {},
   "outputs": [],
   "source": []
  },
  {
   "cell_type": "code",
   "execution_count": null,
   "metadata": {},
   "outputs": [],
   "source": []
  },
  {
   "cell_type": "code",
   "execution_count": null,
   "metadata": {},
   "outputs": [],
   "source": []
  },
  {
   "cell_type": "code",
   "execution_count": null,
   "metadata": {},
   "outputs": [],
   "source": []
  },
  {
   "cell_type": "code",
   "execution_count": null,
   "metadata": {},
   "outputs": [],
   "source": []
  }
 ],
 "metadata": {
  "kernelspec": {
   "display_name": "Python 3",
   "language": "python",
   "name": "python3"
  },
  "language_info": {
   "codemirror_mode": {
    "name": "ipython",
    "version": 3
   },
   "file_extension": ".py",
   "mimetype": "text/x-python",
   "name": "python",
   "nbconvert_exporter": "python",
   "pygments_lexer": "ipython3",
   "version": "3.6.5"
  }
 },
 "nbformat": 4,
 "nbformat_minor": 2
}
