{
 "cells": [
  {
   "cell_type": "code",
   "execution_count": 1,
   "metadata": {},
   "outputs": [],
   "source": [
    "import config\n",
    "import os, numpy as np, pandas, sklearn, scipy.signal as signal\n",
    "import mido\n",
    "import matplotlib.pyplot as plt\n",
    "%matplotlib inline"
   ]
  },
  {
   "cell_type": "code",
   "execution_count": 2,
   "metadata": {},
   "outputs": [
    {
     "name": "stderr",
     "output_type": "stream",
     "text": [
      "/Library/Frameworks/Python.framework/Versions/3.6/lib/python3.6/site-packages/h5py/__init__.py:36: FutureWarning: Conversion of the second argument of issubdtype from `float` to `np.floating` is deprecated. In future, it will be treated as `np.float64 == np.dtype(float).type`.\n",
      "  from ._conv import register_converters as _register_converters\n",
      "Using TensorFlow backend.\n"
     ]
    }
   ],
   "source": [
    "## NN libs\n",
    "from sklearn.decomposition import PCA\n",
    "from sklearn import preprocessing\n",
    "from sklearn.preprocessing import RobustScaler\n",
    "import keras\n",
    "from keras import backend as K, metrics\n",
    "from keras.utils import to_categorical, plot_model\n",
    "from keras.layers import Input, Dense, Activation, Conv1D, Conv2D, Dropout, Flatten, Lambda\n",
    "from keras.layers import Conv2DTranspose, Reshape, MaxPooling2D, UpSampling2D, UpSampling1D, MaxPooling1D\n",
    "from keras.layers import LocallyConnected1D, LocallyConnected2D\n",
    "from keras.layers import Input, LSTM, RepeatVector\n",
    "from keras.models import Model\n",
    "from keras.callbacks import TensorBoard"
   ]
  },
  {
   "cell_type": "code",
   "execution_count": 3,
   "metadata": {},
   "outputs": [
    {
     "name": "stdout",
     "output_type": "stream",
     "text": [
      " Context :: namedtuple(\n",
      "[ max_t = float\n",
      ", dt = float\n",
      ", n_instances = int\n",
      ", note_length = int\n",
      ", bpm = float\n",
      ", tempo = float\n",
      ", ticks_per_beat = int\n",
      "]\n",
      "\n"
     ]
    }
   ],
   "source": [
    "# local libs\n",
    "import config, models, functions\n",
    "from data import data, midi, midi_generators as g\n",
    "from utils import io, models_io, utils"
   ]
  },
  {
   "cell_type": "code",
   "execution_count": 4,
   "metadata": {
    "scrolled": true
   },
   "outputs": [
    {
     "name": "stdout",
     "output_type": "stream",
     "text": [
      "Setting up params\n",
      "\n",
      "max min f 25.0 0.3333333333333333\n",
      " >> Context(max_t=3.0, dt=0.02, n_instances=150, note_length=0.03, bpm=120.0, tempo=500000, ticks_per_beat=480)\n",
      "Setting up params\n",
      "\n",
      "max min f 25.0 0.3333333333333333\n",
      " >> Context(max_t=3.0, dt=0.02, n_instances=150, note_length=0.03, bpm=120.0, tempo=500000, ticks_per_beat=480)\n",
      "Importing midi-data\n",
      "\n",
      "\u001b[92m [INFO] : \u001b[0m\n",
      " |  reading file: ../datasets/examples/01 16th Snare.mid\n",
      "\u001b[92m [INFO] : \u001b[0m\n",
      " |  reading file: ../datasets/examples/01 8th Cym.mid\n",
      "\n",
      "Encoding midi-data\n",
      " [<midi file '../datasets/examples/01 16th Snare.mid' type 0, 1 tracks, 182 messages>, <midi file '../datasets/examples/01 8th Cym.mid' type 0, 1 tracks, 68 messages>]\n",
      "> -> multi-track = False\n",
      "\u001b[91m [DEBUG] > \u001b[0m\n",
      " |>  to_array: msg.time > max_t; t, n\n",
      " |>  2.994791666666667\n",
      " |>  150\n",
      "\u001b[91m [DEBUG] > \u001b[0m\n",
      " |>  to_array: msg.time > max_t; t, n\n",
      " |>  2.9947916666666665\n",
      " |>  150\n"
     ]
    }
   ],
   "source": [
    "context = data.init()\n",
    "n = 2\n",
    "multiTrack = False\n",
    "context, x_train, labels = data.import_data(data.init(), n, multiTrack=multiTrack)"
   ]
  },
  {
   "cell_type": "code",
   "execution_count": 5,
   "metadata": {},
   "outputs": [
    {
     "name": "stdout",
     "output_type": "stream",
     "text": [
      "\u001b[91m [DEBUG] > \u001b[0m\n",
      " |>  to_array: msg.time > max_t; t, n\n",
      " |>  2.9947916666666696\n",
      " |>  150\n",
      "\u001b[91m [DEBUG] > \u001b[0m\n",
      " |>  to_array: msg.time > max_t; t, n\n",
      " |>  3.0083333333333337\n",
      " |>  150\n",
      "\u001b[91m [DEBUG] > \u001b[0m\n",
      " |>  to_array: msg.time > max_t; t, n\n",
      " |>  3.0166666666666697\n",
      " |>  150\n",
      "\u001b[91m [DEBUG] > \u001b[0m\n",
      " |>  to_array: msg.time > max_t; t, n\n",
      " |>  2.9979166666666686\n",
      " |>  150\n",
      "\u001b[91m [DEBUG] > \u001b[0m\n",
      " |>  to_array: msg.time > max_t; t, n\n",
      " |>  2.991666666666668\n",
      " |>  150\n",
      "\u001b[91m [DEBUG] > \u001b[0m\n",
      " |>  to_array: msg.time > max_t; t, n\n",
      " |>  2.99479166666667\n",
      " |>  150\n",
      "\u001b[91m [DEBUG] > \u001b[0m\n",
      " |>  to_array: msg.time > max_t; t, n\n",
      " |>  3.005208333333334\n",
      " |>  150\n",
      "\u001b[91m [DEBUG] > \u001b[0m\n",
      " |>  to_array: msg.time > max_t; t, n\n",
      " |>  2.9916666666666702\n",
      " |>  150\n",
      "\u001b[91m [DEBUG] > \u001b[0m\n",
      " |>  to_array: msg.time > max_t; t, n\n",
      " |>  3.003125000000001\n",
      " |>  150\n",
      "\u001b[91m [DEBUG] > \u001b[0m\n",
      " |>  to_array: msg.time > max_t; t, n\n",
      " |>  2.9927083333333337\n",
      " |>  150\n",
      "\u001b[91m [DEBUG] > \u001b[0m\n",
      " |>  to_array: msg.time > max_t; t, n\n",
      " |>  2.995833333333335\n",
      " |>  150\n",
      "\u001b[91m [DEBUG] > \u001b[0m\n",
      " |>  to_array: msg.time > max_t; t, n\n",
      " |>  3.0000000000000027\n",
      " |>  150\n",
      "\u001b[91m [DEBUG] > \u001b[0m\n",
      " |>  to_array: msg.time > max_t; t, n\n",
      " |>  3.002083333333337\n",
      " |>  150\n",
      "\u001b[91m [DEBUG] > \u001b[0m\n",
      " |>  to_array: msg.time > max_t; t, n\n",
      " |>  2.996875\n",
      " |>  150\n",
      "\u001b[91m [DEBUG] > \u001b[0m\n",
      " |>  to_array: msg.time > max_t; t, n\n",
      " |>  2.9916666666666663\n",
      " |>  150\n",
      "\u001b[91m [DEBUG] > \u001b[0m\n",
      " |>  to_array: msg.time > max_t; t, n\n",
      " |>  3.0114583333333362\n",
      " |>  150\n",
      "\u001b[91m [DEBUG] > \u001b[0m\n",
      " |>  to_array: msg.time > max_t; t, n\n",
      " |>  3.001041666666667\n",
      " |>  150\n",
      "\u001b[91m [DEBUG] > \u001b[0m\n",
      " |>  to_array: msg.time > max_t; t, n\n",
      " |>  3.008333333333334\n",
      " |>  150\n",
      "\u001b[91m [DEBUG] > \u001b[0m\n",
      " |>  to_array: msg.time > max_t; t, n\n",
      " |>  3.005208333333336\n",
      " |>  150\n",
      "\u001b[91m [DEBUG] > \u001b[0m\n",
      " |>  to_array: msg.time > max_t; t, n\n",
      " |>  2.993750000000001\n",
      " |>  150\n",
      "\u001b[91m [DEBUG] > \u001b[0m\n",
      " |>  to_array: msg.time > max_t; t, n\n",
      " |>  3.0041666666666687\n",
      " |>  150\n",
      "\u001b[91m [DEBUG] > \u001b[0m\n",
      " |>  to_array: msg.time > max_t; t, n\n",
      " |>  3.0041666666666673\n",
      " |>  150\n",
      "\u001b[91m [DEBUG] > \u001b[0m\n",
      " |>  to_array: msg.time > max_t; t, n\n",
      " |>  2.991666666666664\n",
      " |>  150\n",
      "\u001b[91m [DEBUG] > \u001b[0m\n",
      " |>  to_array: msg.time > max_t; t, n\n",
      " |>  3.0281249999999997\n",
      " |>  150\n",
      "\u001b[91m [DEBUG] > \u001b[0m\n",
      " |>  to_array: msg.time > max_t; t, n\n",
      " |>  2.9927083333333337\n",
      " |>  150\n",
      "\u001b[91m [DEBUG] > \u001b[0m\n",
      " |>  to_array: msg.time > max_t; t, n\n",
      " |>  3.0083333333333333\n",
      " |>  150\n",
      "\u001b[91m [DEBUG] > \u001b[0m\n",
      " |>  to_array: msg.time > max_t; t, n\n",
      " |>  3.001041666666668\n",
      " |>  150\n",
      "\u001b[91m [DEBUG] > \u001b[0m\n",
      " |>  to_array: msg.time > max_t; t, n\n",
      " |>  2.9906250000000028\n",
      " |>  150\n",
      "\u001b[91m [DEBUG] > \u001b[0m\n",
      " |>  to_array: msg.time > max_t; t, n\n",
      " |>  2.990625\n",
      " |>  150\n",
      "\u001b[91m [DEBUG] > \u001b[0m\n",
      " |>  to_array: msg.time > max_t; t, n\n",
      " |>  2.9989583333333343\n",
      " |>  150\n",
      "\u001b[91m [DEBUG] > \u001b[0m\n",
      " |>  to_array: msg.time > max_t; t, n\n",
      " |>  3.019791666666668\n",
      " |>  150\n",
      "\u001b[91m [DEBUG] > \u001b[0m\n",
      " |>  to_array: msg.time > max_t; t, n\n",
      " |>  2.9958333333333327\n",
      " |>  150\n",
      "\u001b[91m [DEBUG] > \u001b[0m\n",
      " |>  to_array: msg.time > max_t; t, n\n",
      " |>  2.9916666666666667\n",
      " |>  150\n",
      "\u001b[91m [DEBUG] > \u001b[0m\n",
      " |>  to_array: msg.time > max_t; t, n\n",
      " |>  2.992708333333334\n",
      " |>  150\n",
      "\u001b[91m [DEBUG] > \u001b[0m\n",
      " |>  to_array: msg.time > max_t; t, n\n",
      " |>  3.007291666666668\n",
      " |>  150\n",
      "\u001b[91m [DEBUG] > \u001b[0m\n",
      " |>  to_array: msg.time > max_t; t, n\n",
      " |>  3.0114583333333376\n",
      " |>  150\n",
      "\u001b[91m [DEBUG] > \u001b[0m\n",
      " |>  to_array: msg.time > max_t; t, n\n",
      " |>  2.9906250000000028\n",
      " |>  150\n",
      "\u001b[91m [DEBUG] > \u001b[0m\n",
      " |>  to_array: msg.time > max_t; t, n\n",
      " |>  2.9989583333333334\n",
      " |>  150\n",
      "\u001b[91m [DEBUG] > \u001b[0m\n",
      " |>  to_array: msg.time > max_t; t, n\n",
      " |>  3.0041666666666678\n",
      " |>  150\n",
      "\u001b[91m [DEBUG] > \u001b[0m\n",
      " |>  to_array: msg.time > max_t; t, n\n",
      " |>  2.9937500000000017\n",
      " |>  150\n",
      "\u001b[91m [DEBUG] > \u001b[0m\n",
      " |>  to_array: msg.time > max_t; t, n\n",
      " |>  3.0010416666666693\n",
      " |>  150\n",
      "\u001b[91m [DEBUG] > \u001b[0m\n",
      " |>  to_array: msg.time > max_t; t, n\n",
      " |>  3.0125000000000024\n",
      " |>  150\n",
      "\u001b[91m [DEBUG] > \u001b[0m\n",
      " |>  to_array: msg.time > max_t; t, n\n",
      " |>  3.0458333333333347\n",
      " |>  150\n",
      "\u001b[91m [DEBUG] > \u001b[0m\n",
      " |>  to_array: msg.time > max_t; t, n\n",
      " |>  3.0166666666666697\n",
      " |>  150\n",
      "\u001b[91m [DEBUG] > \u001b[0m\n",
      " |>  to_array: msg.time > max_t; t, n\n",
      " |>  3.0093749999999995\n",
      " |>  150\n",
      "\u001b[91m [DEBUG] > \u001b[0m\n",
      " |>  to_array: msg.time > max_t; t, n\n",
      " |>  3.001041666666669\n",
      " |>  150\n",
      "\u001b[91m [DEBUG] > \u001b[0m\n",
      " |>  to_array: msg.time > max_t; t, n\n",
      " |>  3.0020833333333354\n",
      " |>  150\n",
      "\u001b[91m [DEBUG] > \u001b[0m\n",
      " |>  to_array: msg.time > max_t; t, n\n",
      " |>  2.99479166666667\n",
      " |>  150\n",
      "\u001b[91m [DEBUG] > \u001b[0m\n",
      " |>  to_array: msg.time > max_t; t, n\n",
      " |>  2.990625\n",
      " |>  150\n",
      "\u001b[91m [DEBUG] > \u001b[0m\n",
      " |>  to_array: msg.time > max_t; t, n\n",
      " |>  2.992708333333334\n",
      " |>  150\n",
      "\u001b[91m [DEBUG] > \u001b[0m\n",
      " |>  to_array: msg.time > max_t; t, n\n",
      " |>  2.9947916666666656\n",
      " |>  150\n",
      "\u001b[91m [DEBUG] > \u001b[0m\n",
      " |>  to_array: msg.time > max_t; t, n\n",
      " |>  3.006249999999999\n",
      " |>  150\n",
      "\u001b[91m [DEBUG] > \u001b[0m\n",
      " |>  to_array: msg.time > max_t; t, n\n",
      " |>  3.0260416666666674\n",
      " |>  150\n",
      "\u001b[91m [DEBUG] > \u001b[0m\n",
      " |>  to_array: msg.time > max_t; t, n\n",
      " |>  3.023958333333334\n",
      " |>  150\n",
      "\u001b[91m [DEBUG] > \u001b[0m\n",
      " |>  to_array: msg.time > max_t; t, n\n",
      " |>  3.0447916666666694\n",
      " |>  150\n",
      "\u001b[91m [DEBUG] > \u001b[0m\n",
      " |>  to_array: msg.time > max_t; t, n\n",
      " |>  3.005208333333335\n",
      " |>  150\n",
      "\u001b[91m [DEBUG] > \u001b[0m\n",
      " |>  to_array: msg.time > max_t; t, n\n",
      " |>  3.0416666666666696\n",
      " |>  150\n",
      "\u001b[91m [DEBUG] > \u001b[0m\n",
      " |>  to_array: msg.time > max_t; t, n\n",
      " |>  3.0145833333333365\n",
      " |>  150\n",
      "\u001b[91m [DEBUG] > \u001b[0m\n",
      " |>  to_array: msg.time > max_t; t, n\n",
      " |>  3.0135416666666663\n",
      " |>  150\n",
      "\u001b[91m [DEBUG] > \u001b[0m\n",
      " |>  to_array: msg.time > max_t; t, n\n",
      " |>  3.0031250000000007\n",
      " |>  150\n",
      "\u001b[91m [DEBUG] > \u001b[0m\n",
      " |>  to_array: msg.time > max_t; t, n\n",
      " |>  2.9916666666666676\n",
      " |>  150\n",
      "\u001b[91m [DEBUG] > \u001b[0m\n",
      " |>  to_array: msg.time > max_t; t, n\n",
      " |>  3.006250000000004\n",
      " |>  150\n",
      "\u001b[91m [DEBUG] > \u001b[0m\n",
      " |>  to_array: msg.time > max_t; t, n\n",
      " |>  3.009375000000003\n",
      " |>  150\n",
      "\u001b[91m [DEBUG] > \u001b[0m\n",
      " |>  to_array: msg.time > max_t; t, n\n",
      " |>  3.0125000000000033\n",
      " |>  150\n",
      "\u001b[91m [DEBUG] > \u001b[0m\n",
      " |>  to_array: msg.time > max_t; t, n\n",
      " |>  2.993750000000002\n",
      " |>  150\n",
      "\u001b[91m [DEBUG] > \u001b[0m\n",
      " |>  to_array: msg.time > max_t; t, n\n",
      " |>  3.011458333333338\n",
      " |>  150\n",
      "\u001b[91m [DEBUG] > \u001b[0m\n",
      " |>  to_array: msg.time > max_t; t, n\n",
      " |>  2.99479166666667\n",
      " |>  150\n",
      "\u001b[91m [DEBUG] > \u001b[0m\n",
      " |>  to_array: msg.time > max_t; t, n\n",
      " |>  3.002083333333336\n",
      " |>  150\n",
      "\u001b[91m [DEBUG] > \u001b[0m\n",
      " |>  to_array: msg.time > max_t; t, n\n",
      " |>  3.000000000000002\n",
      " |>  150\n",
      "\u001b[91m [DEBUG] > \u001b[0m\n",
      " |>  to_array: msg.time > max_t; t, n\n",
      " |>  3.000000000000001\n",
      " |>  150\n",
      "\u001b[91m [DEBUG] > \u001b[0m\n",
      " |>  to_array: msg.time > max_t; t, n\n",
      " |>  3.003125000000002\n",
      " |>  150\n",
      "\u001b[91m [DEBUG] > \u001b[0m\n",
      " |>  to_array: msg.time > max_t; t, n\n",
      " |>  2.9989583333333383\n",
      " |>  150\n",
      "\u001b[91m [DEBUG] > \u001b[0m\n",
      " |>  to_array: msg.time > max_t; t, n\n",
      " |>  3.031250000000002\n",
      " |>  150\n",
      "\u001b[91m [DEBUG] > \u001b[0m\n",
      " |>  to_array: msg.time > max_t; t, n\n",
      " |>  2.9927083333333377\n",
      " |>  150\n",
      "\u001b[91m [DEBUG] > \u001b[0m\n",
      " |>  to_array: msg.time > max_t; t, n\n",
      " |>  3.0000000000000004\n",
      " |>  150\n",
      "\u001b[91m [DEBUG] > \u001b[0m\n",
      " |>  to_array: msg.time > max_t; t, n\n",
      " |>  3.029166666666669\n",
      " |>  150\n",
      "\u001b[91m [DEBUG] > \u001b[0m\n",
      " |>  to_array: msg.time > max_t; t, n\n",
      " |>  2.9979166666666677\n",
      " |>  150\n",
      "\u001b[91m [DEBUG] > \u001b[0m\n",
      " |>  to_array: msg.time > max_t; t, n\n",
      " |>  2.99479166666667\n",
      " |>  150\n",
      "\u001b[91m [DEBUG] > \u001b[0m\n",
      " |>  to_array: msg.time > max_t; t, n\n",
      " |>  2.9937500000000012\n",
      " |>  150\n",
      "\u001b[91m [DEBUG] > \u001b[0m\n",
      " |>  to_array: msg.time > max_t; t, n\n",
      " |>  3.0020833333333345\n",
      " |>  150\n",
      "\u001b[91m [DEBUG] > \u001b[0m\n",
      " |>  to_array: msg.time > max_t; t, n\n",
      " |>  3.037500000000003\n",
      " |>  150\n",
      "\u001b[91m [DEBUG] > \u001b[0m\n",
      " |>  to_array: msg.time > max_t; t, n\n",
      " |>  2.998958333333337\n",
      " |>  150\n",
      "\u001b[91m [DEBUG] > \u001b[0m\n",
      " |>  to_array: msg.time > max_t; t, n\n",
      " |>  2.9999999999999996\n",
      " |>  150\n",
      "\u001b[91m [DEBUG] > \u001b[0m\n",
      " |>  to_array: msg.time > max_t; t, n\n",
      " |>  3.0125\n",
      " |>  150\n",
      "\u001b[91m [DEBUG] > \u001b[0m\n",
      " |>  to_array: msg.time > max_t; t, n\n",
      " |>  2.99791666666667\n",
      " |>  150\n",
      "\u001b[91m [DEBUG] > \u001b[0m\n",
      " |>  to_array: msg.time > max_t; t, n\n",
      " |>  3.010416666666667\n",
      " |>  150\n",
      "\u001b[91m [DEBUG] > \u001b[0m\n",
      " |>  to_array: msg.time > max_t; t, n\n",
      " |>  2.998958333333337\n",
      " |>  150\n",
      "\u001b[91m [DEBUG] > \u001b[0m\n",
      " |>  to_array: msg.time > max_t; t, n\n",
      " |>  3.079166666666669\n",
      " |>  150\n",
      "\u001b[91m [DEBUG] > \u001b[0m\n",
      " |>  to_array: msg.time > max_t; t, n\n",
      " |>  3.000000000000003\n",
      " |>  150\n",
      "\u001b[91m [DEBUG] > \u001b[0m\n",
      " |>  to_array: msg.time > max_t; t, n\n",
      " |>  2.9979166666666677\n",
      " |>  150\n",
      "\u001b[91m [DEBUG] > \u001b[0m\n",
      " |>  to_array: msg.time > max_t; t, n\n",
      " |>  2.9968749999999997\n",
      " |>  150\n",
      "\u001b[91m [DEBUG] > \u001b[0m\n",
      " |>  to_array: msg.time > max_t; t, n\n",
      " |>  2.993750000000004\n",
      " |>  150\n",
      "\u001b[91m [DEBUG] > \u001b[0m\n",
      " |>  to_array: msg.time > max_t; t, n\n",
      " |>  2.990625000000002\n",
      " |>  150\n",
      "\u001b[91m [DEBUG] > \u001b[0m\n",
      " |>  to_array: msg.time > max_t; t, n\n",
      " |>  2.9906249999999974\n",
      " |>  150\n"
     ]
    },
    {
     "name": "stdout",
     "output_type": "stream",
     "text": [
      "\u001b[91m [DEBUG] > \u001b[0m\n",
      " |>  to_array: msg.time > max_t; t, n\n",
      " |>  3.002083333333334\n",
      " |>  150\n",
      "\u001b[91m [DEBUG] > \u001b[0m\n",
      " |>  to_array: msg.time > max_t; t, n\n",
      " |>  3.0052083333333384\n",
      " |>  150\n",
      "\u001b[91m [DEBUG] > \u001b[0m\n",
      " |>  to_array: msg.time > max_t; t, n\n",
      " |>  3.0072916666666694\n",
      " |>  150\n",
      "\u001b[91m [DEBUG] > \u001b[0m\n",
      " |>  to_array: msg.time > max_t; t, n\n",
      " |>  2.990625000000002\n",
      " |>  150\n",
      "\u001b[91m [DEBUG] > \u001b[0m\n",
      " |>  to_array: msg.time > max_t; t, n\n",
      " |>  2.991666666666669\n",
      " |>  150\n",
      "\u001b[91m [DEBUG] > \u001b[0m\n",
      " |>  to_array: msg.time > max_t; t, n\n",
      " |>  2.9958333333333353\n",
      " |>  150\n"
     ]
    }
   ],
   "source": [
    "n = 100\n",
    "min_f = 3\n",
    "max_f = 15\n",
    "# x_train = g.gen_data(context, n, max_f=max_f, min_f=min_f)\n",
    "x_train = g.gen_data_complex(context, n, max_f=max_f, min_f=min_f, multiTrack=multiTrack)\n",
    "y_train = x_train\n",
    "x_test = x_train[-10:]\n",
    "x_train = x_train[:-10]"
   ]
  },
  {
   "cell_type": "code",
   "execution_count": 6,
   "metadata": {},
   "outputs": [
    {
     "data": {
      "text/plain": [
       "(272, 150, 1)"
      ]
     },
     "execution_count": 6,
     "metadata": {},
     "output_type": "execute_result"
    }
   ],
   "source": [
    "x_train.shape"
   ]
  },
  {
   "cell_type": "code",
   "execution_count": 7,
   "metadata": {},
   "outputs": [
    {
     "data": {
      "text/plain": [
       "[<matplotlib.lines.Line2D at 0x1190b8eb8>]"
      ]
     },
     "execution_count": 7,
     "metadata": {},
     "output_type": "execute_result"
    },
    {
     "data": {
      "image/png": "[encoded data removed]",
      "text/plain": [
       "<matplotlib.figure.Figure at 0x117a81470>"
      ]
     },
     "metadata": {},
     "output_type": "display_data"
    }
   ],
   "source": [
    "plt.plot(x_train[0,:60])\n",
    "plt.plot(x_train[1,:60])"
   ]
  },
  {
   "cell_type": "code",
   "execution_count": 8,
   "metadata": {},
   "outputs": [
    {
     "data": {
      "text/plain": [
       "[<matplotlib.lines.Line2D at 0x117a8eeb8>]"
      ]
     },
     "execution_count": 8,
     "metadata": {},
     "output_type": "execute_result"
    },
    {
     "data": {
      "image/png": "[encoded data removed]",
      "text/plain": [
       "<matplotlib.figure.Figure at 0x1190cc400>"
      ]
     },
     "metadata": {},
     "output_type": "display_data"
    }
   ],
   "source": [
    "plt.plot(x_train[2,:60])\n",
    "plt.plot(x_train[3,:60])"
   ]
  },
  {
   "cell_type": "code",
   "execution_count": 9,
   "metadata": {},
   "outputs": [
    {
     "data": {
      "text/plain": [
       "(272, 150, 1)"
      ]
     },
     "execution_count": 9,
     "metadata": {},
     "output_type": "execute_result"
    }
   ],
   "source": [
    "x_train.shape"
   ]
  },
  {
   "cell_type": "code",
   "execution_count": 10,
   "metadata": {},
   "outputs": [
    {
     "data": {
      "text/plain": [
       "(150, 1)"
      ]
     },
     "execution_count": 10,
     "metadata": {},
     "output_type": "execute_result"
    }
   ],
   "source": [
    "n_samples = x_train[0]\n",
    "input_shape = x_train.shape[1:] # shape of a single sample\n",
    "output_shape = y_train.shape[1:] # shape of a single sample\n",
    "# output_length = y_train.shape[1:][0]\n",
    "input_shape"
   ]
  },
  {
   "cell_type": "code",
   "execution_count": 11,
   "metadata": {},
   "outputs": [
    {
     "data": {
      "text/plain": [
       "(150, 1)"
      ]
     },
     "execution_count": 11,
     "metadata": {},
     "output_type": "execute_result"
    }
   ],
   "source": [
    "output_shape"
   ]
  },
  {
   "cell_type": "code",
   "execution_count": 12,
   "metadata": {},
   "outputs": [],
   "source": [
    "num_encoder_tokens = x_train.shape[-1]\n",
    "num_decoder_tokens = y_train.shape[-1]\n",
    "# latent_dim = 1"
   ]
  },
  {
   "cell_type": "code",
   "execution_count": 14,
   "metadata": {},
   "outputs": [
    {
     "data": {
      "text/plain": [
       "(150, 1)"
      ]
     },
     "execution_count": 14,
     "metadata": {},
     "output_type": "execute_result"
    }
   ],
   "source": [
    "input_shape\n",
    "# input_shape = (150,)\n",
    "input_shape"
   ]
  },
  {
   "cell_type": "code",
   "execution_count": 17,
   "metadata": {},
   "outputs": [],
   "source": [
    "batch_size = 32\n",
    "original_dim = 150\n",
    "latent_dim = 50\n",
    "intermediate_dim = 150\n",
    "epsilon_std = 1.0"
   ]
  },
  {
   "cell_type": "code",
   "execution_count": 18,
   "metadata": {},
   "outputs": [],
   "source": [
    "# TODO Batch Normalization"
   ]
  },
  {
   "cell_type": "code",
   "execution_count": 35,
   "metadata": {},
   "outputs": [],
   "source": [
    "def sampling(args, latent_dim, epsilon_std):\n",
    "    z_mean, z_log_var = args\n",
    "    # epsilon = K.random_normal(shape=(batch_size, latent_dim), mean=0., stddev=epsilon_std)\n",
    "    epsilon = K.random_normal(shape=(K.shape(z_mean)[0], latent_dim), mean=0., stddev=epsilon_std)\n",
    "    return z_mean + K.exp(z_log_var / 2) * epsilon"
   ]
  },
  {
   "cell_type": "code",
   "execution_count": 36,
   "metadata": {},
   "outputs": [],
   "source": [
    "k_reg = keras.regularizers.l2(1e-5)\n",
    "# b_reg = keras.regularizers.l1(0.01)\n",
    "a_reg = keras.regularizers.l1(1e-5)\n",
    "\n",
    "def encoder(latent_dim, input_shape, intermediate_dim = 150):\n",
    "    encoder_input = Input(shape=input_shape, name='encoder_input-')\n",
    "    h = encoder_input\n",
    "    # image_data_format = 'channels_last'   -   e.g. (28,28,3)\n",
    "    # naive assumption:\n",
    "    #   for drumkits no correlation between note_indices and occurrence at an timestep is assumed\n",
    "    #   (that is, p(E|C) is not significantly different from p(D|C))\n",
    "    #   - note that this _is_ the case for e.g. HH vs. OH\n",
    "    #     these often occur in the same register (between different drumkits)\n",
    "    #   - even with melodic/harmonic data, this assumption could help by reducing\n",
    "    #    (1) unwanted repetition (stuttering) of notes\n",
    "    #    (2) unwanted dissonance (caused by playing notes with an interval of a half step)\n",
    "    \n",
    "    timesteps = input_shape[-2]\n",
    "    notes = input_shape[-1]\n",
    "    \n",
    "    # Convolve & Pool\n",
    "#     h = Conv1D(16, kernel_size=2, strides=1, activation='relu', padding='same')(h)\n",
    "#     h = Conv1D(16, kernel_size=2, strides=1, activation='relu', padding='same')(h)\n",
    "#     h = MaxPooling1D(pool_size=2, strides=2, padding='same')(h)\n",
    "\n",
    "    h = Conv1D(32, kernel_size=2, strides=2, activation='relu', padding='same')(h)\n",
    "#     h = Conv1D(32, kernel_size=2, strides=1, activation='relu', padding='same')(h)\n",
    "    h = Conv1D(64, kernel_size=2, strides=1, activation='relu', padding='same')(h)\n",
    "    h = MaxPooling1D(pool_size=2, strides=2, padding='same')(h)\n",
    "    \n",
    "#     h = Conv1D(64, kernel_size=2, strides=2, activation='relu', padding='same')(h)\n",
    "#     h = Conv1D(64, kernel_size=2, strides=1, activation='relu', padding='same')(h)\n",
    "#     h = MaxPooling1D(pool_size=2, strides=2, padding='same')(h)\n",
    "#     # 128 512\n",
    "\n",
    "    # Dense layers\n",
    "    h = Flatten()(h)\n",
    "    h = Dense(intermediate_dim, activation='relu')(h)\n",
    "#     h = Dense(intermediate_dim, activation='relu')(h)\n",
    "#     h = Dense(intermediate_dim, activation='relu')(h)    \n",
    "#     h = Dropout(0.1)(h) # uncomment when using larger batches\n",
    "#     h = Dense(intermediate_dim, activation='relu')(h)\n",
    "    # h = Dense(intermediate_dim, activation='relu', kernel_regularizer=k_reg, activity_regularizer=a_reg)(h)\n",
    "\n",
    "    # Z Mean, Variance\n",
    "    z_mean = Dense(latent_dim, name='z_mean')(h) # , activation='relu'\n",
    "    z_log_var = Dense(latent_dim, name='z_log_var')(h) # , activation='relu'\n",
    "    \n",
    "    encoder_output = [z_mean, z_log_var]\n",
    "    encoder_model = Model(encoder_input, encoder_output, name='encoder_model-')\n",
    "    return encoder_model, z_mean, z_log_var, encoder_input\n",
    "\n",
    "def z_(latent_dim, epsilon_std):\n",
    "    # sample z from a distribution defined by [input_mean, input_log_var]\n",
    "    # input :: [z_mean, z_log_var]\n",
    "    z_input = [Input(shape=(latent_dim,)), Input(shape=(latent_dim,))]\n",
    "    sampling_ = lambda args: sampling(args, latent_dim, epsilon_std)\n",
    "    z_output = Lambda(sampling_, name='z_sampler-')(z_input)\n",
    "    # z_output = Lambda(sampling_, output_shape=(latent_dim,), name='z_sampler-')(z_input)\n",
    "    z_model = Model(z_input, z_output, name='z_model-')\n",
    "    return z_model\n",
    "\n",
    "def decoder(latent_dim, output_shape, filters = 32):\n",
    "    z_input = Input(shape=(latent_dim,), name='decoder_input-')\n",
    "    h = z_input\n",
    "    # :output_shape = (timesteps, channels, channels) || (batches, filters, timesteps, channels)\n",
    "    # keras offers just Conv2DTranspose and not Conv1DTranspose\n",
    "    # - use 2D images during upsampling :: (timesteps, notes, channels) => (timesteps, notes, filters)\n",
    "    # - use 1D images to optimize reconstruction :: (timesteps, filters) => (timesteps, notes)\n",
    "    \n",
    "    # at the start of upsampling, the image-structure does not yet have to correspond to the goal structure \n",
    "    # ?TODO use y*y*y starting dims, may conv, and only then correct the structure (?)\n",
    "    \n",
    "    timesteps = output_shape[-2] # cols\n",
    "    notes = output_shape[-1] # rows\n",
    "    channels = 1 # rgb\n",
    "\n",
    "    # image_data_format = 'channels_last'\n",
    "    # goal shape: (timesteps, notes, channels)\n",
    "    # start with the 'reverse': lots of small imgs => few large img\n",
    "    m = 4 # multiplier for dims\n",
    "    output_shape = (channels, notes * m, timesteps)\n",
    "    p = 'valid'\n",
    "\n",
    "    # upsampling\n",
    "    h = Dense(np.prod(output_shape[-3:]), activation='relu')(h)\n",
    "    h = Reshape(output_shape[-3:])(h)\n",
    "    \n",
    "    # Convolve & Pool\n",
    "    # Note that the kernel windows do not yet correspond to 'temporal' features, but rather to just spatial features\n",
    "    k = (3,2) # (2,1) :: (timesteps, notes)\n",
    "    s = (1,3)\n",
    "    # TODO\n",
    "    s1 = (3,1)\n",
    "    s2 = (1,3)\n",
    "    s3 = 2\n",
    "    timesteps_ = int(timesteps / 2)\n",
    "    h = Conv2DTranspose(timesteps_, kernel_size=k, strides=3, activation='relu', padding=p)(h)\n",
    "    h = Conv2DTranspose(32, kernel_size=k, strides=3, activation='relu', padding=p)(h)\n",
    "#     h = Conv2DTranspose(32, kernel_size=k, strides=3, activation='relu', padding=p)(h)\n",
    "    h = Conv2DTranspose(16, kernel_size=k, strides=(3,1), activation='relu', padding=p)(h)\n",
    "    h = MaxPooling2D(pool_size=2, strides=2, padding='same')(h)\n",
    "\n",
    "#     h = Conv2DTranspose(32, kernel_size=k, strides=3, activation='relu', padding=p)(h)\n",
    "    h = Conv2DTranspose(16, kernel_size=k, strides=3, activation='relu', padding=p)(h)\n",
    "    # 'end' of upsampling\n",
    "    h = Conv2D(1, kernel_size=(1,2), strides=1, activation='relu', padding=p)(h)\n",
    "    dims = keras.backend.int_shape(h)[1:]\n",
    "    print('dims', dims)\n",
    "    h = Reshape(dims[0:2])(h)\n",
    "#     h = Conv1D(16, kernel_size=2, strides=1, activation='relu', padding=p)(h)\n",
    "    h = Conv1D(notes * m, kernel_size=2, strides=2, activation='relu', padding=p)(h)\n",
    "\n",
    "    \n",
    "    # Mean (output)\n",
    "#     h = Conv2D(1, kernel_size=1, strides=s, activation='sigmoid', padding='same')(h)\n",
    "    output_shape = (timesteps, notes)\n",
    "    h = Flatten()(h)\n",
    "    h = Dense(np.prod(output_shape), activation='sigmoid')(h)\n",
    "    output_shape = (timesteps, notes)\n",
    "    h = Reshape(output_shape)(h)\n",
    "    decoder_output = h\n",
    "    model = Model(inputs=z_input, outputs=decoder_output, name='decoder_model-')\n",
    "    return model"
   ]
  },
  {
   "cell_type": "code",
   "execution_count": 37,
   "metadata": {},
   "outputs": [
    {
     "name": "stdout",
     "output_type": "stream",
     "text": [
      "dims (42, 56, 1)\n",
      "__________________________________________________________________________________________________\n",
      "Layer (type)                    Output Shape         Param #     Connected to                     \n",
      "==================================================================================================\n",
      "encoder_input- (InputLayer)     (None, 150, 1)       0                                            \n",
      "__________________________________________________________________________________________________\n",
      "conv1d_7 (Conv1D)               (None, 75, 32)       96          encoder_input-[0][0]             \n",
      "__________________________________________________________________________________________________\n",
      "conv1d_8 (Conv1D)               (None, 75, 64)       4160        conv1d_7[0][0]                   \n",
      "__________________________________________________________________________________________________\n",
      "max_pooling1d_3 (MaxPooling1D)  (None, 38, 64)       0           conv1d_8[0][0]                   \n",
      "__________________________________________________________________________________________________\n",
      "flatten_5 (Flatten)             (None, 2432)         0           max_pooling1d_3[0][0]            \n",
      "__________________________________________________________________________________________________\n",
      "dense_9 (Dense)                 (None, 150)          364950      flatten_5[0][0]                  \n",
      "__________________________________________________________________________________________________\n",
      "z_mean (Dense)                  (None, 50)           7550        dense_9[0][0]                    \n",
      "__________________________________________________________________________________________________\n",
      "z_log_var (Dense)               (None, 50)           7550        dense_9[0][0]                    \n",
      "==================================================================================================\n",
      "Total params: 384,306\n",
      "Trainable params: 384,306\n",
      "Non-trainable params: 0\n",
      "__________________________________________________________________________________________________\n",
      "__________________________________________________________________________________________________\n",
      "Layer (type)                    Output Shape         Param #     Connected to                     \n",
      "==================================================================================================\n",
      "input_7 (InputLayer)            (None, 50)           0                                            \n",
      "__________________________________________________________________________________________________\n",
      "input_8 (InputLayer)            (None, 50)           0                                            \n",
      "__________________________________________________________________________________________________\n",
      "z_sampler- (Lambda)             (None, 50)           0           input_7[0][0]                    \n",
      "                                                                 input_8[0][0]                    \n",
      "==================================================================================================\n",
      "Total params: 0\n",
      "Trainable params: 0\n",
      "Non-trainable params: 0\n",
      "__________________________________________________________________________________________________\n",
      "_________________________________________________________________\n",
      "Layer (type)                 Output Shape              Param #   \n",
      "=================================================================\n",
      "decoder_input- (InputLayer)  (None, 50)                0         \n",
      "_________________________________________________________________\n",
      "dense_10 (Dense)             (None, 600)               30600     \n",
      "_________________________________________________________________\n",
      "reshape_7 (Reshape)          (None, 1, 4, 150)         0         \n",
      "_________________________________________________________________\n",
      "conv2d_transpose_9 (Conv2DTr (None, 3, 12, 75)         67575     \n",
      "_________________________________________________________________\n",
      "conv2d_transpose_10 (Conv2DT (None, 9, 36, 32)         14432     \n",
      "_________________________________________________________________\n",
      "conv2d_transpose_11 (Conv2DT (None, 27, 37, 16)        3088      \n",
      "_________________________________________________________________\n",
      "max_pooling2d_3 (MaxPooling2 (None, 14, 19, 16)        0         \n",
      "_________________________________________________________________\n",
      "conv2d_transpose_12 (Conv2DT (None, 42, 57, 16)        1552      \n",
      "_________________________________________________________________\n",
      "conv2d_3 (Conv2D)            (None, 42, 56, 1)         33        \n",
      "_________________________________________________________________\n",
      "reshape_8 (Reshape)          (None, 42, 56)            0         \n",
      "_________________________________________________________________\n",
      "conv1d_9 (Conv1D)            (None, 21, 4)             452       \n",
      "_________________________________________________________________\n",
      "flatten_6 (Flatten)          (None, 84)                0         \n",
      "_________________________________________________________________\n",
      "dense_11 (Dense)             (None, 150)               12750     \n",
      "_________________________________________________________________\n",
      "reshape_9 (Reshape)          (None, 150, 1)            0         \n",
      "=================================================================\n",
      "Total params: 130,482\n",
      "Trainable params: 130,482\n",
      "Non-trainable params: 0\n",
      "_________________________________________________________________\n"
     ]
    }
   ],
   "source": [
    "encoder_model, z_mean, z_log_var, encoder_input = encoder(latent_dim, input_shape)\n",
    "z_model = z_(latent_dim, epsilon_std)\n",
    "decoder_model = decoder(latent_dim, output_shape)\n",
    "\n",
    "\n",
    "encoder_model.summary()\n",
    "z_model.summary()\n",
    "decoder_model.summary()"
   ]
  },
  {
   "cell_type": "code",
   "execution_count": 38,
   "metadata": {},
   "outputs": [
    {
     "name": "stdout",
     "output_type": "stream",
     "text": [
      "__________________________________________________________________________________________________\n",
      "Layer (type)                    Output Shape         Param #     Connected to                     \n",
      "==================================================================================================\n",
      "encoder_input- (InputLayer)     (None, 150, 1)       0                                            \n",
      "__________________________________________________________________________________________________\n",
      "encoder_model- (Model)          [(None, 50), (None,  384306      encoder_input-[0][0]             \n",
      "__________________________________________________________________________________________________\n",
      "z_model- (Model)                (None, 50)           0           encoder_model-[1][0]             \n",
      "                                                                 encoder_model-[1][1]             \n",
      "__________________________________________________________________________________________________\n",
      "decoder_model- (Model)          (None, 150, 1)       130482      z_model-[1][0]                   \n",
      "==================================================================================================\n",
      "Total params: 514,788\n",
      "Trainable params: 514,788\n",
      "Non-trainable params: 0\n",
      "__________________________________________________________________________________________________\n"
     ]
    }
   ],
   "source": [
    "vae_input = Input(shape=input_shape)\n",
    "# vae_input = Input(shape=(150,1))\n",
    "vae_input = encoder_input # WHY ?\n",
    "vae_output = decoder_model(z_model(encoder_model(vae_input)))\n",
    "# vae_output = decoder_model(z)\n",
    "vae = Model(vae_input, vae_output)\n",
    "vae.summary()"
   ]
  },
  {
   "cell_type": "code",
   "execution_count": 39,
   "metadata": {},
   "outputs": [],
   "source": [
    "def vae_loss(y_true, y_pred, z_mean, z_log_var):\n",
    "    # img_rows * img_cols\n",
    "    # xent_loss = K.binary_crossentropy(K.flatten(y_true), K.flatten(y_pred))\n",
    "    xent_loss = K.binary_crossentropy(y_true, y_pred)\n",
    "    kl_loss = - 0.5 * K.mean(1 + z_log_var - K.square(z_mean) - K.exp(z_log_var), axis=-1)\n",
    "    # kl_loss = - 0.5 * K.sum(1 + K.flatten(z_log_var) - K.square(K.flatten(z_mean)) - K.exp(K.flatten(z_log_var)), axis=-1)\n",
    "    return xent_loss + kl_loss"
   ]
  },
  {
   "cell_type": "code",
   "execution_count": 40,
   "metadata": {},
   "outputs": [],
   "source": [
    "metrics = ['acc','mse','mae','binary_crossentropy']\n",
    "loss = lambda y_true, y_pred: vae_loss(y_true, y_pred, z_mean, z_log_var)\n",
    "optimizer = 'rmsprop' # adam adadelta rmsprop nadam\n",
    "# keras.optimizers.RMSprop(lr=0.001, rho=0.9, epsilon=None, decay=0.0)\n",
    "vae.compile(optimizer=optimizer, loss=loss, metrics=metrics)"
   ]
  },
  {
   "cell_type": "code",
   "execution_count": 41,
   "metadata": {},
   "outputs": [],
   "source": [
    "# vae.add_loss(vae_loss)\n",
    "# vae.compile(optimizer='rmsprop', metrics=['binary_accuracy','mae'])"
   ]
  },
  {
   "cell_type": "code",
   "execution_count": 29,
   "metadata": {},
   "outputs": [
    {
     "data": {
      "text/plain": [
       "(272, 150, 1)"
      ]
     },
     "execution_count": 29,
     "metadata": {},
     "output_type": "execute_result"
    }
   ],
   "source": [
    "# z_train = x_train\n",
    "# x_train = x_train.reshape(x_train.shape[0],np.prod(x_train.shape[1:]))\n",
    "x_train.shape"
   ]
  },
  {
   "cell_type": "code",
   "execution_count": 44,
   "metadata": {},
   "outputs": [
    {
     "data": {
      "text/plain": [
       "(2000, 150, 1)"
      ]
     },
     "execution_count": 44,
     "metadata": {},
     "output_type": "execute_result"
    }
   ],
   "source": [
    "# z_train = x_train\n",
    "# x = np.concatenate([x_train[0:2] for _ in range(1000)])\n",
    "x.shape\n",
    "# x_train = x"
   ]
  },
  {
   "cell_type": "code",
   "execution_count": 45,
   "metadata": {
    "scrolled": true
   },
   "outputs": [
    {
     "name": "stdout",
     "output_type": "stream",
     "text": [
      "Train on 124 samples, validate on 25 samples\n",
      "Epoch 1/250\n",
      "124/124 [==============================] - 1s 5ms/step - loss: 0.6975 - acc: 0.6868 - mean_squared_error: 0.2491 - mean_absolute_error: 0.4991 - binary_crossentropy: 0.6913 - val_loss: 0.6866 - val_acc: 0.7629 - val_mean_squared_error: 0.2464 - val_mean_absolute_error: 0.4964 - val_binary_crossentropy: 0.6860\n",
      "Epoch 2/250\n",
      "124/124 [==============================] - 0s 3ms/step - loss: 0.6702 - acc: 0.7743 - mean_squared_error: 0.2385 - mean_absolute_error: 0.4879 - binary_crossentropy: 0.6701 - val_loss: 0.6043 - val_acc: 0.7771 - val_mean_squared_error: 0.2063 - val_mean_absolute_error: 0.4501 - val_binary_crossentropy: 0.6042\n",
      "Epoch 3/250\n",
      "124/124 [==============================] - 0s 3ms/step - loss: 0.5127 - acc: 0.7823 - mean_squared_error: 0.1681 - mean_absolute_error: 0.3851 - binary_crossentropy: 0.5126 - val_loss: 0.3569 - val_acc: 0.7979 - val_mean_squared_error: 0.1152 - val_mean_absolute_error: 0.2622 - val_binary_crossentropy: 0.3566\n",
      "Epoch 4/250\n",
      "124/124 [==============================] - 0s 3ms/step - loss: 0.3265 - acc: 0.7918 - mean_squared_error: 0.1093 - mean_absolute_error: 0.2360 - binary_crossentropy: 0.3263 - val_loss: 0.2908 - val_acc: 0.8088 - val_mean_squared_error: 0.1011 - val_mean_absolute_error: 0.2091 - val_binary_crossentropy: 0.2907\n",
      "Epoch 5/250\n",
      "124/124 [==============================] - 0s 3ms/step - loss: 0.2938 - acc: 0.7991 - mean_squared_error: 0.1039 - mean_absolute_error: 0.2090 - binary_crossentropy: 0.2937 - val_loss: 0.2809 - val_acc: 0.7963 - val_mean_squared_error: 0.0996 - val_mean_absolute_error: 0.2029 - val_binary_crossentropy: 0.2808\n",
      "Epoch 6/250\n",
      "124/124 [==============================] - 0s 3ms/step - loss: 0.2776 - acc: 0.8048 - mean_squared_error: 0.0990 - mean_absolute_error: 0.2004 - binary_crossentropy: 0.2775 - val_loss: 0.2807 - val_acc: 0.7968 - val_mean_squared_error: 0.1011 - val_mean_absolute_error: 0.2005 - val_binary_crossentropy: 0.2807\n",
      "Epoch 7/250\n",
      "124/124 [==============================] - 0s 2ms/step - loss: 0.2770 - acc: 0.8033 - mean_squared_error: 0.0996 - mean_absolute_error: 0.1980 - binary_crossentropy: 0.2770 - val_loss: 0.2739 - val_acc: 0.8147 - val_mean_squared_error: 0.0983 - val_mean_absolute_error: 0.1976 - val_binary_crossentropy: 0.2738\n",
      "Epoch 8/250\n",
      "124/124 [==============================] - 0s 3ms/step - loss: 0.2759 - acc: 0.8009 - mean_squared_error: 0.0993 - mean_absolute_error: 0.1982 - binary_crossentropy: 0.2758 - val_loss: 0.2729 - val_acc: 0.8067 - val_mean_squared_error: 0.0979 - val_mean_absolute_error: 0.1966 - val_binary_crossentropy: 0.2729\n",
      "Epoch 9/250\n",
      "124/124 [==============================] - 0s 3ms/step - loss: 0.2842 - acc: 0.7752 - mean_squared_error: 0.1035 - mean_absolute_error: 0.2015 - binary_crossentropy: 0.2841 - val_loss: 0.2761 - val_acc: 0.7963 - val_mean_squared_error: 0.0992 - val_mean_absolute_error: 0.1985 - val_binary_crossentropy: 0.2761\n",
      "Epoch 10/250\n",
      "124/124 [==============================] - 0s 3ms/step - loss: 0.2774 - acc: 0.7884 - mean_squared_error: 0.0999 - mean_absolute_error: 0.1992 - binary_crossentropy: 0.2773 - val_loss: 0.2741 - val_acc: 0.8056 - val_mean_squared_error: 0.0985 - val_mean_absolute_error: 0.1977 - val_binary_crossentropy: 0.2740\n",
      "Epoch 11/250\n",
      "124/124 [==============================] - 0s 3ms/step - loss: 0.2737 - acc: 0.8078 - mean_squared_error: 0.0985 - mean_absolute_error: 0.1975 - binary_crossentropy: 0.2737 - val_loss: 0.2750 - val_acc: 0.7936 - val_mean_squared_error: 0.0993 - val_mean_absolute_error: 0.1978 - val_binary_crossentropy: 0.2750\n",
      "Epoch 12/250\n",
      "124/124 [==============================] - 0s 3ms/step - loss: 0.2776 - acc: 0.8080 - mean_squared_error: 0.1005 - mean_absolute_error: 0.1978 - binary_crossentropy: 0.2776 - val_loss: 0.2729 - val_acc: 0.8192 - val_mean_squared_error: 0.0980 - val_mean_absolute_error: 0.1970 - val_binary_crossentropy: 0.2729\n",
      "Epoch 13/250\n",
      "124/124 [==============================] - 0s 3ms/step - loss: 0.2748 - acc: 0.7981 - mean_squared_error: 0.0991 - mean_absolute_error: 0.1977 - binary_crossentropy: 0.2748 - val_loss: 0.2733 - val_acc: 0.8035 - val_mean_squared_error: 0.0985 - val_mean_absolute_error: 0.1971 - val_binary_crossentropy: 0.2733\n",
      "Epoch 14/250\n",
      "124/124 [==============================] - 0s 3ms/step - loss: 0.2755 - acc: 0.8014 - mean_squared_error: 0.0996 - mean_absolute_error: 0.1977 - binary_crossentropy: 0.2755 - val_loss: 0.2749 - val_acc: 0.7965 - val_mean_squared_error: 0.0993 - val_mean_absolute_error: 0.1973 - val_binary_crossentropy: 0.2749\n",
      "Epoch 15/250\n",
      "124/124 [==============================] - 0s 3ms/step - loss: 0.2853 - acc: 0.7641 - mean_squared_error: 0.1043 - mean_absolute_error: 0.2020 - binary_crossentropy: 0.2853 - val_loss: 0.2746 - val_acc: 0.8147 - val_mean_squared_error: 0.0983 - val_mean_absolute_error: 0.1983 - val_binary_crossentropy: 0.2746\n",
      "Epoch 16/250\n",
      "124/124 [==============================] - 0s 3ms/step - loss: 0.2750 - acc: 0.8013 - mean_squared_error: 0.0990 - mean_absolute_error: 0.1979 - binary_crossentropy: 0.2750 - val_loss: 0.2763 - val_acc: 0.7984 - val_mean_squared_error: 0.0998 - val_mean_absolute_error: 0.1981 - val_binary_crossentropy: 0.2763\n",
      "Epoch 17/250\n",
      "124/124 [==============================] - 0s 3ms/step - loss: 0.2748 - acc: 0.7975 - mean_squared_error: 0.0991 - mean_absolute_error: 0.1978 - binary_crossentropy: 0.2748 - val_loss: 0.2754 - val_acc: 0.7995 - val_mean_squared_error: 0.0996 - val_mean_absolute_error: 0.1978 - val_binary_crossentropy: 0.2754\n",
      "Epoch 18/250\n",
      "124/124 [==============================] - 0s 3ms/step - loss: 0.2732 - acc: 0.8146 - mean_squared_error: 0.0985 - mean_absolute_error: 0.1962 - binary_crossentropy: 0.2732 - val_loss: 0.2731 - val_acc: 0.8115 - val_mean_squared_error: 0.0985 - val_mean_absolute_error: 0.1957 - val_binary_crossentropy: 0.2731\n",
      "Epoch 19/250\n",
      "124/124 [==============================] - 0s 3ms/step - loss: 0.2757 - acc: 0.7895 - mean_squared_error: 0.0997 - mean_absolute_error: 0.1978 - binary_crossentropy: 0.2757 - val_loss: 0.2734 - val_acc: 0.8112 - val_mean_squared_error: 0.0986 - val_mean_absolute_error: 0.1967 - val_binary_crossentropy: 0.2734\n",
      "Epoch 20/250\n",
      "124/124 [==============================] - 0s 3ms/step - loss: 0.2753 - acc: 0.8046 - mean_squared_error: 0.0995 - mean_absolute_error: 0.1974 - binary_crossentropy: 0.2753 - val_loss: 0.2761 - val_acc: 0.7952 - val_mean_squared_error: 0.0999 - val_mean_absolute_error: 0.1974 - val_binary_crossentropy: 0.2761\n",
      "Epoch 21/250\n",
      "124/124 [==============================] - 0s 3ms/step - loss: 0.2738 - acc: 0.8039 - mean_squared_error: 0.0987 - mean_absolute_error: 0.1968 - binary_crossentropy: 0.2738 - val_loss: 0.2731 - val_acc: 0.8101 - val_mean_squared_error: 0.0984 - val_mean_absolute_error: 0.1965 - val_binary_crossentropy: 0.2731\n",
      "Epoch 22/250\n",
      "124/124 [==============================] - 0s 3ms/step - loss: 0.2741 - acc: 0.8024 - mean_squared_error: 0.0990 - mean_absolute_error: 0.1971 - binary_crossentropy: 0.2741 - val_loss: 0.2745 - val_acc: 0.7976 - val_mean_squared_error: 0.0991 - val_mean_absolute_error: 0.1972 - val_binary_crossentropy: 0.2745\n",
      "Epoch 23/250\n",
      "124/124 [==============================] - 0s 3ms/step - loss: 0.2756 - acc: 0.8059 - mean_squared_error: 0.0996 - mean_absolute_error: 0.1968 - binary_crossentropy: 0.2756 - val_loss: 0.2729 - val_acc: 0.8117 - val_mean_squared_error: 0.0983 - val_mean_absolute_error: 0.1965 - val_binary_crossentropy: 0.2729\n",
      "Epoch 24/250\n",
      "124/124 [==============================] - 0s 3ms/step - loss: 0.2781 - acc: 0.8032 - mean_squared_error: 0.1009 - mean_absolute_error: 0.1983 - binary_crossentropy: 0.2781 - val_loss: 0.2739 - val_acc: 0.8003 - val_mean_squared_error: 0.0988 - val_mean_absolute_error: 0.1974 - val_binary_crossentropy: 0.2739\n",
      "Epoch 25/250\n",
      "124/124 [==============================] - 0s 3ms/step - loss: 0.2735 - acc: 0.8034 - mean_squared_error: 0.0986 - mean_absolute_error: 0.1969 - binary_crossentropy: 0.2735 - val_loss: 0.2734 - val_acc: 0.8117 - val_mean_squared_error: 0.0986 - val_mean_absolute_error: 0.1967 - val_binary_crossentropy: 0.2734\n",
      "Epoch 26/250\n"
     ]
    },
    {
     "name": "stdout",
     "output_type": "stream",
     "text": [
      "124/124 [==============================] - 0s 3ms/step - loss: 0.2758 - acc: 0.7798 - mean_squared_error: 0.0997 - mean_absolute_error: 0.1981 - binary_crossentropy: 0.2758 - val_loss: 0.2742 - val_acc: 0.8085 - val_mean_squared_error: 0.0989 - val_mean_absolute_error: 0.1974 - val_binary_crossentropy: 0.2742\n",
      "Epoch 27/250\n",
      "124/124 [==============================] - 0s 2ms/step - loss: 0.2737 - acc: 0.8089 - mean_squared_error: 0.0987 - mean_absolute_error: 0.1970 - binary_crossentropy: 0.2736 - val_loss: 0.2743 - val_acc: 0.7947 - val_mean_squared_error: 0.0990 - val_mean_absolute_error: 0.1973 - val_binary_crossentropy: 0.2743\n",
      "Epoch 28/250\n",
      "124/124 [==============================] - 0s 3ms/step - loss: 0.2756 - acc: 0.7817 - mean_squared_error: 0.0997 - mean_absolute_error: 0.1979 - binary_crossentropy: 0.2756 - val_loss: 0.2735 - val_acc: 0.7968 - val_mean_squared_error: 0.0986 - val_mean_absolute_error: 0.1969 - val_binary_crossentropy: 0.2735\n",
      "Epoch 29/250\n",
      "124/124 [==============================] - 0s 3ms/step - loss: 0.2734 - acc: 0.8062 - mean_squared_error: 0.0986 - mean_absolute_error: 0.1968 - binary_crossentropy: 0.2734 - val_loss: 0.2728 - val_acc: 0.8112 - val_mean_squared_error: 0.0983 - val_mean_absolute_error: 0.1967 - val_binary_crossentropy: 0.2728\n",
      "Epoch 30/250\n",
      "124/124 [==============================] - 0s 3ms/step - loss: 0.2761 - acc: 0.7873 - mean_squared_error: 0.1000 - mean_absolute_error: 0.1981 - binary_crossentropy: 0.2760 - val_loss: 0.2764 - val_acc: 0.7976 - val_mean_squared_error: 0.1000 - val_mean_absolute_error: 0.1982 - val_binary_crossentropy: 0.2764\n",
      "Epoch 31/250\n",
      "124/124 [==============================] - 0s 3ms/step - loss: 0.2739 - acc: 0.8059 - mean_squared_error: 0.0988 - mean_absolute_error: 0.1972 - binary_crossentropy: 0.2739 - val_loss: 0.2721 - val_acc: 0.8155 - val_mean_squared_error: 0.0980 - val_mean_absolute_error: 0.1964 - val_binary_crossentropy: 0.2721\n",
      "Epoch 32/250\n",
      "124/124 [==============================] - 0s 3ms/step - loss: 0.2736 - acc: 0.7947 - mean_squared_error: 0.0988 - mean_absolute_error: 0.1971 - binary_crossentropy: 0.2736 - val_loss: 0.2729 - val_acc: 0.8016 - val_mean_squared_error: 0.0984 - val_mean_absolute_error: 0.1968 - val_binary_crossentropy: 0.2729\n",
      "Epoch 33/250\n",
      "124/124 [==============================] - 0s 3ms/step - loss: 0.2730 - acc: 0.8095 - mean_squared_error: 0.0984 - mean_absolute_error: 0.1968 - binary_crossentropy: 0.2730 - val_loss: 0.2730 - val_acc: 0.8147 - val_mean_squared_error: 0.0985 - val_mean_absolute_error: 0.1967 - val_binary_crossentropy: 0.2730\n",
      "Epoch 34/250\n",
      "124/124 [==============================] - 0s 3ms/step - loss: 0.2769 - acc: 0.7978 - mean_squared_error: 0.1004 - mean_absolute_error: 0.1981 - binary_crossentropy: 0.2769 - val_loss: 0.2745 - val_acc: 0.7976 - val_mean_squared_error: 0.0990 - val_mean_absolute_error: 0.1976 - val_binary_crossentropy: 0.2745\n",
      "Epoch 35/250\n",
      "124/124 [==============================] - 0s 3ms/step - loss: 0.2737 - acc: 0.7965 - mean_squared_error: 0.0987 - mean_absolute_error: 0.1972 - binary_crossentropy: 0.2737 - val_loss: 0.2727 - val_acc: 0.7952 - val_mean_squared_error: 0.0983 - val_mean_absolute_error: 0.1965 - val_binary_crossentropy: 0.2727\n",
      "Epoch 36/250\n",
      "124/124 [==============================] - 0s 3ms/step - loss: 0.2766 - acc: 0.7922 - mean_squared_error: 0.1002 - mean_absolute_error: 0.1983 - binary_crossentropy: 0.2766 - val_loss: 0.2734 - val_acc: 0.8011 - val_mean_squared_error: 0.0986 - val_mean_absolute_error: 0.1971 - val_binary_crossentropy: 0.2734\n",
      "Epoch 37/250\n",
      "124/124 [==============================] - 0s 3ms/step - loss: 0.2731 - acc: 0.8000 - mean_squared_error: 0.0985 - mean_absolute_error: 0.1969 - binary_crossentropy: 0.2731 - val_loss: 0.2723 - val_acc: 0.8109 - val_mean_squared_error: 0.0981 - val_mean_absolute_error: 0.1964 - val_binary_crossentropy: 0.2723\n",
      "Epoch 38/250\n",
      "124/124 [==============================] - 0s 3ms/step - loss: 0.2733 - acc: 0.7924 - mean_squared_error: 0.0986 - mean_absolute_error: 0.1969 - binary_crossentropy: 0.2733 - val_loss: 0.2728 - val_acc: 0.8029 - val_mean_squared_error: 0.0984 - val_mean_absolute_error: 0.1967 - val_binary_crossentropy: 0.2728\n",
      "Epoch 39/250\n",
      "124/124 [==============================] - 0s 3ms/step - loss: 0.2733 - acc: 0.7992 - mean_squared_error: 0.0986 - mean_absolute_error: 0.1970 - binary_crossentropy: 0.2733 - val_loss: 0.2726 - val_acc: 0.8099 - val_mean_squared_error: 0.0983 - val_mean_absolute_error: 0.1965 - val_binary_crossentropy: 0.2726\n",
      "Epoch 40/250\n",
      "124/124 [==============================] - 0s 3ms/step - loss: 0.2746 - acc: 0.7894 - mean_squared_error: 0.0993 - mean_absolute_error: 0.1974 - binary_crossentropy: 0.2746 - val_loss: 0.2727 - val_acc: 0.8080 - val_mean_squared_error: 0.0982 - val_mean_absolute_error: 0.1963 - val_binary_crossentropy: 0.2727\n",
      "Epoch 41/250\n",
      "124/124 [==============================] - 0s 3ms/step - loss: 0.2757 - acc: 0.7922 - mean_squared_error: 0.0997 - mean_absolute_error: 0.1982 - binary_crossentropy: 0.2757 - val_loss: 0.2731 - val_acc: 0.8112 - val_mean_squared_error: 0.0986 - val_mean_absolute_error: 0.1966 - val_binary_crossentropy: 0.2731\n",
      "Epoch 42/250\n",
      "124/124 [==============================] - 0s 3ms/step - loss: 0.2737 - acc: 0.8038 - mean_squared_error: 0.0988 - mean_absolute_error: 0.1970 - binary_crossentropy: 0.2737 - val_loss: 0.2731 - val_acc: 0.7909 - val_mean_squared_error: 0.0985 - val_mean_absolute_error: 0.1969 - val_binary_crossentropy: 0.2731\n",
      "Epoch 43/250\n",
      "124/124 [==============================] - 0s 2ms/step - loss: 0.2743 - acc: 0.7868 - mean_squared_error: 0.0991 - mean_absolute_error: 0.1974 - binary_crossentropy: 0.2743 - val_loss: 0.2743 - val_acc: 0.8003 - val_mean_squared_error: 0.0991 - val_mean_absolute_error: 0.1975 - val_binary_crossentropy: 0.2743\n",
      "Epoch 44/250\n",
      "124/124 [==============================] - 0s 3ms/step - loss: 0.2735 - acc: 0.7951 - mean_squared_error: 0.0987 - mean_absolute_error: 0.1971 - binary_crossentropy: 0.2735 - val_loss: 0.2726 - val_acc: 0.7981 - val_mean_squared_error: 0.0982 - val_mean_absolute_error: 0.1967 - val_binary_crossentropy: 0.2726\n",
      "Epoch 45/250\n",
      "124/124 [==============================] - 0s 3ms/step - loss: 0.2735 - acc: 0.7951 - mean_squared_error: 0.0987 - mean_absolute_error: 0.1971 - binary_crossentropy: 0.2735 - val_loss: 0.2725 - val_acc: 0.8096 - val_mean_squared_error: 0.0982 - val_mean_absolute_error: 0.1966 - val_binary_crossentropy: 0.2725\n",
      "Epoch 46/250\n",
      "124/124 [==============================] - 0s 3ms/step - loss: 0.2741 - acc: 0.7952 - mean_squared_error: 0.0990 - mean_absolute_error: 0.1972 - binary_crossentropy: 0.2741 - val_loss: 0.2730 - val_acc: 0.8107 - val_mean_squared_error: 0.0984 - val_mean_absolute_error: 0.1968 - val_binary_crossentropy: 0.2730\n",
      "Epoch 47/250\n",
      "124/124 [==============================] - 0s 4ms/step - loss: 0.2741 - acc: 0.7941 - mean_squared_error: 0.0990 - mean_absolute_error: 0.1973 - binary_crossentropy: 0.2741 - val_loss: 0.2725 - val_acc: 0.8085 - val_mean_squared_error: 0.0982 - val_mean_absolute_error: 0.1966 - val_binary_crossentropy: 0.2725\n",
      "Epoch 48/250\n",
      "124/124 [==============================] - 0s 3ms/step - loss: 0.2732 - acc: 0.7972 - mean_squared_error: 0.0986 - mean_absolute_error: 0.1969 - binary_crossentropy: 0.2732 - val_loss: 0.2728 - val_acc: 0.7995 - val_mean_squared_error: 0.0984 - val_mean_absolute_error: 0.1968 - val_binary_crossentropy: 0.2728\n",
      "Epoch 49/250\n",
      "124/124 [==============================] - 0s 3ms/step - loss: 0.2728 - acc: 0.8040 - mean_squared_error: 0.0984 - mean_absolute_error: 0.1967 - binary_crossentropy: 0.2728 - val_loss: 0.2731 - val_acc: 0.7981 - val_mean_squared_error: 0.0985 - val_mean_absolute_error: 0.1968 - val_binary_crossentropy: 0.2731\n",
      "Epoch 50/250\n",
      "124/124 [==============================] - 0s 3ms/step - loss: 0.2728 - acc: 0.8060 - mean_squared_error: 0.0984 - mean_absolute_error: 0.1966 - binary_crossentropy: 0.2728 - val_loss: 0.2729 - val_acc: 0.7981 - val_mean_squared_error: 0.0984 - val_mean_absolute_error: 0.1968 - val_binary_crossentropy: 0.2729\n",
      "Epoch 51/250\n"
     ]
    },
    {
     "name": "stdout",
     "output_type": "stream",
     "text": [
      "124/124 [==============================] - 0s 3ms/step - loss: 0.2749 - acc: 0.7973 - mean_squared_error: 0.0994 - mean_absolute_error: 0.1974 - binary_crossentropy: 0.2749 - val_loss: 0.2729 - val_acc: 0.7883 - val_mean_squared_error: 0.0984 - val_mean_absolute_error: 0.1969 - val_binary_crossentropy: 0.2729\n",
      "Epoch 52/250\n",
      "124/124 [==============================] - 0s 2ms/step - loss: 0.2731 - acc: 0.7992 - mean_squared_error: 0.0985 - mean_absolute_error: 0.1969 - binary_crossentropy: 0.2731 - val_loss: 0.2742 - val_acc: 0.7875 - val_mean_squared_error: 0.0991 - val_mean_absolute_error: 0.1974 - val_binary_crossentropy: 0.2742\n",
      "Epoch 53/250\n",
      "124/124 [==============================] - 0s 3ms/step - loss: 0.2739 - acc: 0.7927 - mean_squared_error: 0.0989 - mean_absolute_error: 0.1971 - binary_crossentropy: 0.2739 - val_loss: 0.2733 - val_acc: 0.8043 - val_mean_squared_error: 0.0986 - val_mean_absolute_error: 0.1970 - val_binary_crossentropy: 0.2733\n",
      "Epoch 54/250\n",
      "124/124 [==============================] - 0s 3ms/step - loss: 0.2734 - acc: 0.7891 - mean_squared_error: 0.0987 - mean_absolute_error: 0.1971 - binary_crossentropy: 0.2734 - val_loss: 0.2726 - val_acc: 0.8037 - val_mean_squared_error: 0.0983 - val_mean_absolute_error: 0.1967 - val_binary_crossentropy: 0.2726\n",
      "Epoch 55/250\n",
      "124/124 [==============================] - 0s 3ms/step - loss: 0.2724 - acc: 0.8106 - mean_squared_error: 0.0982 - mean_absolute_error: 0.1965 - binary_crossentropy: 0.2724 - val_loss: 0.2734 - val_acc: 0.7984 - val_mean_squared_error: 0.0987 - val_mean_absolute_error: 0.1969 - val_binary_crossentropy: 0.2734\n",
      "Epoch 56/250\n",
      "124/124 [==============================] - 0s 3ms/step - loss: 0.2757 - acc: 0.7991 - mean_squared_error: 0.0998 - mean_absolute_error: 0.1978 - binary_crossentropy: 0.2757 - val_loss: 0.2732 - val_acc: 0.7917 - val_mean_squared_error: 0.0985 - val_mean_absolute_error: 0.1970 - val_binary_crossentropy: 0.2732\n",
      "Epoch 57/250\n",
      "124/124 [==============================] - 0s 3ms/step - loss: 0.2728 - acc: 0.8032 - mean_squared_error: 0.0984 - mean_absolute_error: 0.1967 - binary_crossentropy: 0.2728 - val_loss: 0.2730 - val_acc: 0.7920 - val_mean_squared_error: 0.0985 - val_mean_absolute_error: 0.1969 - val_binary_crossentropy: 0.2730\n",
      "Epoch 58/250\n",
      "124/124 [==============================] - 0s 3ms/step - loss: 0.2724 - acc: 0.8022 - mean_squared_error: 0.0982 - mean_absolute_error: 0.1965 - binary_crossentropy: 0.2724 - val_loss: 0.2729 - val_acc: 0.8019 - val_mean_squared_error: 0.0984 - val_mean_absolute_error: 0.1967 - val_binary_crossentropy: 0.2729\n",
      "Epoch 59/250\n",
      "124/124 [==============================] - 0s 3ms/step - loss: 0.2733 - acc: 0.7961 - mean_squared_error: 0.0986 - mean_absolute_error: 0.1969 - binary_crossentropy: 0.2733 - val_loss: 0.2742 - val_acc: 0.7917 - val_mean_squared_error: 0.0991 - val_mean_absolute_error: 0.1973 - val_binary_crossentropy: 0.2742\n",
      "Epoch 60/250\n",
      "124/124 [==============================] - 0s 3ms/step - loss: 0.2764 - acc: 0.8020 - mean_squared_error: 0.1001 - mean_absolute_error: 0.1982 - binary_crossentropy: 0.2764 - val_loss: 0.2731 - val_acc: 0.7848 - val_mean_squared_error: 0.0985 - val_mean_absolute_error: 0.1970 - val_binary_crossentropy: 0.2731\n",
      "Epoch 61/250\n",
      "124/124 [==============================] - 0s 3ms/step - loss: 0.2733 - acc: 0.7990 - mean_squared_error: 0.0986 - mean_absolute_error: 0.1970 - binary_crossentropy: 0.2733 - val_loss: 0.2722 - val_acc: 0.8213 - val_mean_squared_error: 0.0981 - val_mean_absolute_error: 0.1964 - val_binary_crossentropy: 0.2722\n",
      "Epoch 62/250\n",
      "124/124 [==============================] - 0s 3ms/step - loss: 0.2731 - acc: 0.7960 - mean_squared_error: 0.0985 - mean_absolute_error: 0.1969 - binary_crossentropy: 0.2731 - val_loss: 0.2722 - val_acc: 0.8109 - val_mean_squared_error: 0.0981 - val_mean_absolute_error: 0.1964 - val_binary_crossentropy: 0.2722\n",
      "Epoch 63/250\n",
      "124/124 [==============================] - 0s 3ms/step - loss: 0.2728 - acc: 0.7965 - mean_squared_error: 0.0984 - mean_absolute_error: 0.1967 - binary_crossentropy: 0.2728 - val_loss: 0.2718 - val_acc: 0.8269 - val_mean_squared_error: 0.0979 - val_mean_absolute_error: 0.1962 - val_binary_crossentropy: 0.2718\n",
      "Epoch 64/250\n",
      "124/124 [==============================] - 0s 3ms/step - loss: 0.2737 - acc: 0.7922 - mean_squared_error: 0.0988 - mean_absolute_error: 0.1971 - binary_crossentropy: 0.2737 - val_loss: 0.2721 - val_acc: 0.8104 - val_mean_squared_error: 0.0980 - val_mean_absolute_error: 0.1962 - val_binary_crossentropy: 0.2721\n",
      "Epoch 65/250\n",
      "124/124 [==============================] - 0s 3ms/step - loss: 0.2735 - acc: 0.8048 - mean_squared_error: 0.0987 - mean_absolute_error: 0.1969 - binary_crossentropy: 0.2735 - val_loss: 0.2722 - val_acc: 0.8107 - val_mean_squared_error: 0.0981 - val_mean_absolute_error: 0.1964 - val_binary_crossentropy: 0.2722\n",
      "Epoch 66/250\n",
      "124/124 [==============================] - 0s 3ms/step - loss: 0.2734 - acc: 0.7993 - mean_squared_error: 0.0987 - mean_absolute_error: 0.1970 - binary_crossentropy: 0.2734 - val_loss: 0.2735 - val_acc: 0.7896 - val_mean_squared_error: 0.0988 - val_mean_absolute_error: 0.1971 - val_binary_crossentropy: 0.2735\n",
      "Epoch 67/250\n",
      "124/124 [==============================] - 0s 3ms/step - loss: 0.2730 - acc: 0.8032 - mean_squared_error: 0.0985 - mean_absolute_error: 0.1968 - binary_crossentropy: 0.2730 - val_loss: 0.2719 - val_acc: 0.8227 - val_mean_squared_error: 0.0979 - val_mean_absolute_error: 0.1963 - val_binary_crossentropy: 0.2719\n",
      "Epoch 68/250\n",
      "124/124 [==============================] - 0s 3ms/step - loss: 0.2804 - acc: 0.7980 - mean_squared_error: 0.1021 - mean_absolute_error: 0.1996 - binary_crossentropy: 0.2804 - val_loss: 0.2725 - val_acc: 0.8088 - val_mean_squared_error: 0.0982 - val_mean_absolute_error: 0.1966 - val_binary_crossentropy: 0.2725\n",
      "Epoch 69/250\n",
      "124/124 [==============================] - 0s 3ms/step - loss: 0.2738 - acc: 0.7972 - mean_squared_error: 0.0989 - mean_absolute_error: 0.1972 - binary_crossentropy: 0.2738 - val_loss: 0.2723 - val_acc: 0.8243 - val_mean_squared_error: 0.0981 - val_mean_absolute_error: 0.1965 - val_binary_crossentropy: 0.2723\n",
      "Epoch 70/250\n",
      "124/124 [==============================] - 0s 3ms/step - loss: 0.2731 - acc: 0.7989 - mean_squared_error: 0.0985 - mean_absolute_error: 0.1969 - binary_crossentropy: 0.2731 - val_loss: 0.2731 - val_acc: 0.7925 - val_mean_squared_error: 0.0985 - val_mean_absolute_error: 0.1969 - val_binary_crossentropy: 0.2731\n",
      "Epoch 71/250\n",
      "124/124 [==============================] - 0s 3ms/step - loss: 0.2727 - acc: 0.8122 - mean_squared_error: 0.0983 - mean_absolute_error: 0.1967 - binary_crossentropy: 0.2727 - val_loss: 0.2726 - val_acc: 0.8059 - val_mean_squared_error: 0.0983 - val_mean_absolute_error: 0.1967 - val_binary_crossentropy: 0.2726\n",
      "Epoch 72/250\n",
      "124/124 [==============================] - 0s 3ms/step - loss: 0.2734 - acc: 0.8028 - mean_squared_error: 0.0987 - mean_absolute_error: 0.1970 - binary_crossentropy: 0.2734 - val_loss: 0.2735 - val_acc: 0.7888 - val_mean_squared_error: 0.0987 - val_mean_absolute_error: 0.1971 - val_binary_crossentropy: 0.2735\n",
      "Epoch 73/250\n",
      "124/124 [==============================] - 0s 4ms/step - loss: 0.2729 - acc: 0.8025 - mean_squared_error: 0.0984 - mean_absolute_error: 0.1968 - binary_crossentropy: 0.2729 - val_loss: 0.2730 - val_acc: 0.7960 - val_mean_squared_error: 0.0985 - val_mean_absolute_error: 0.1968 - val_binary_crossentropy: 0.2730\n",
      "Epoch 74/250\n",
      "124/124 [==============================] - 0s 3ms/step - loss: 0.2729 - acc: 0.7965 - mean_squared_error: 0.0984 - mean_absolute_error: 0.1968 - binary_crossentropy: 0.2729 - val_loss: 0.2723 - val_acc: 0.8219 - val_mean_squared_error: 0.0982 - val_mean_absolute_error: 0.1965 - val_binary_crossentropy: 0.2723\n",
      "Epoch 75/250\n",
      "124/124 [==============================] - 0s 3ms/step - loss: 0.2726 - acc: 0.8095 - mean_squared_error: 0.0983 - mean_absolute_error: 0.1966 - binary_crossentropy: 0.2726 - val_loss: 0.2728 - val_acc: 0.8005 - val_mean_squared_error: 0.0984 - val_mean_absolute_error: 0.1967 - val_binary_crossentropy: 0.2728\n",
      "Epoch 76/250\n"
     ]
    },
    {
     "name": "stdout",
     "output_type": "stream",
     "text": [
      "124/124 [==============================] - 0s 3ms/step - loss: 0.2739 - acc: 0.7927 - mean_squared_error: 0.0989 - mean_absolute_error: 0.1972 - binary_crossentropy: 0.2739 - val_loss: 0.2723 - val_acc: 0.8107 - val_mean_squared_error: 0.0981 - val_mean_absolute_error: 0.1965 - val_binary_crossentropy: 0.2723\n",
      "Epoch 77/250\n",
      "124/124 [==============================] - 0s 3ms/step - loss: 0.2728 - acc: 0.7994 - mean_squared_error: 0.0984 - mean_absolute_error: 0.1968 - binary_crossentropy: 0.2728 - val_loss: 0.2729 - val_acc: 0.8035 - val_mean_squared_error: 0.0985 - val_mean_absolute_error: 0.1968 - val_binary_crossentropy: 0.2729\n",
      "Epoch 78/250\n",
      "124/124 [==============================] - 0s 3ms/step - loss: 0.2732 - acc: 0.7912 - mean_squared_error: 0.0986 - mean_absolute_error: 0.1969 - binary_crossentropy: 0.2732 - val_loss: 0.2724 - val_acc: 0.8112 - val_mean_squared_error: 0.0982 - val_mean_absolute_error: 0.1965 - val_binary_crossentropy: 0.2724\n",
      "Epoch 79/250\n",
      "124/124 [==============================] - 0s 3ms/step - loss: 0.2754 - acc: 0.7638 - mean_squared_error: 0.0996 - mean_absolute_error: 0.1981 - binary_crossentropy: 0.2754 - val_loss: 0.2728 - val_acc: 0.8163 - val_mean_squared_error: 0.0983 - val_mean_absolute_error: 0.1968 - val_binary_crossentropy: 0.2728\n",
      "Epoch 80/250\n",
      "124/124 [==============================] - 0s 3ms/step - loss: 0.2728 - acc: 0.7973 - mean_squared_error: 0.0984 - mean_absolute_error: 0.1968 - binary_crossentropy: 0.2728 - val_loss: 0.2724 - val_acc: 0.8093 - val_mean_squared_error: 0.0982 - val_mean_absolute_error: 0.1966 - val_binary_crossentropy: 0.2724\n",
      "Epoch 81/250\n",
      "124/124 [==============================] - 0s 3ms/step - loss: 0.2728 - acc: 0.7989 - mean_squared_error: 0.0984 - mean_absolute_error: 0.1967 - binary_crossentropy: 0.2728 - val_loss: 0.2728 - val_acc: 0.8149 - val_mean_squared_error: 0.0984 - val_mean_absolute_error: 0.1968 - val_binary_crossentropy: 0.2728\n",
      "Epoch 82/250\n",
      "124/124 [==============================] - 0s 3ms/step - loss: 0.2732 - acc: 0.8034 - mean_squared_error: 0.0986 - mean_absolute_error: 0.1969 - binary_crossentropy: 0.2732 - val_loss: 0.2728 - val_acc: 0.7997 - val_mean_squared_error: 0.0984 - val_mean_absolute_error: 0.1968 - val_binary_crossentropy: 0.2728\n",
      "Epoch 83/250\n",
      "124/124 [==============================] - 0s 3ms/step - loss: 0.2733 - acc: 0.7885 - mean_squared_error: 0.0987 - mean_absolute_error: 0.1970 - binary_crossentropy: 0.2733 - val_loss: 0.2729 - val_acc: 0.7971 - val_mean_squared_error: 0.0984 - val_mean_absolute_error: 0.1969 - val_binary_crossentropy: 0.2729\n",
      "Epoch 84/250\n",
      "124/124 [==============================] - 0s 3ms/step - loss: 0.2735 - acc: 0.7875 - mean_squared_error: 0.0987 - mean_absolute_error: 0.1971 - binary_crossentropy: 0.2735 - val_loss: 0.2727 - val_acc: 0.8056 - val_mean_squared_error: 0.0983 - val_mean_absolute_error: 0.1967 - val_binary_crossentropy: 0.2727\n",
      "Epoch 85/250\n",
      "124/124 [==============================] - 0s 3ms/step - loss: 0.2737 - acc: 0.7981 - mean_squared_error: 0.0988 - mean_absolute_error: 0.1971 - binary_crossentropy: 0.2737 - val_loss: 0.2730 - val_acc: 0.8024 - val_mean_squared_error: 0.0984 - val_mean_absolute_error: 0.1969 - val_binary_crossentropy: 0.2730\n",
      "Epoch 86/250\n",
      "124/124 [==============================] - 0s 3ms/step - loss: 0.2729 - acc: 0.7996 - mean_squared_error: 0.0984 - mean_absolute_error: 0.1968 - binary_crossentropy: 0.2729 - val_loss: 0.2734 - val_acc: 0.7949 - val_mean_squared_error: 0.0987 - val_mean_absolute_error: 0.1970 - val_binary_crossentropy: 0.2734\n",
      "Epoch 87/250\n",
      "124/124 [==============================] - 0s 3ms/step - loss: 0.2745 - acc: 0.7708 - mean_squared_error: 0.0992 - mean_absolute_error: 0.1976 - binary_crossentropy: 0.2745 - val_loss: 0.2730 - val_acc: 0.7971 - val_mean_squared_error: 0.0985 - val_mean_absolute_error: 0.1968 - val_binary_crossentropy: 0.2730\n",
      "Epoch 88/250\n",
      "124/124 [==============================] - 0s 3ms/step - loss: 0.2741 - acc: 0.7990 - mean_squared_error: 0.0990 - mean_absolute_error: 0.1974 - binary_crossentropy: 0.2741 - val_loss: 0.2727 - val_acc: 0.8152 - val_mean_squared_error: 0.0983 - val_mean_absolute_error: 0.1967 - val_binary_crossentropy: 0.2727\n",
      "Epoch 89/250\n",
      "124/124 [==============================] - 0s 3ms/step - loss: 0.2728 - acc: 0.8009 - mean_squared_error: 0.0984 - mean_absolute_error: 0.1968 - binary_crossentropy: 0.2728 - val_loss: 0.2724 - val_acc: 0.8077 - val_mean_squared_error: 0.0982 - val_mean_absolute_error: 0.1966 - val_binary_crossentropy: 0.2724\n",
      "Epoch 90/250\n",
      "124/124 [==============================] - 0s 3ms/step - loss: 0.2730 - acc: 0.7898 - mean_squared_error: 0.0985 - mean_absolute_error: 0.1969 - binary_crossentropy: 0.2730 - val_loss: 0.2727 - val_acc: 0.7989 - val_mean_squared_error: 0.0984 - val_mean_absolute_error: 0.1967 - val_binary_crossentropy: 0.2727\n",
      "Epoch 91/250\n",
      "124/124 [==============================] - 0s 3ms/step - loss: 0.2738 - acc: 0.7741 - mean_squared_error: 0.0989 - mean_absolute_error: 0.1972 - binary_crossentropy: 0.2738 - val_loss: 0.2727 - val_acc: 0.8013 - val_mean_squared_error: 0.0983 - val_mean_absolute_error: 0.1967 - val_binary_crossentropy: 0.2727\n",
      "Epoch 92/250\n",
      "124/124 [==============================] - 0s 3ms/step - loss: 0.2731 - acc: 0.7914 - mean_squared_error: 0.0985 - mean_absolute_error: 0.1969 - binary_crossentropy: 0.2731 - val_loss: 0.2725 - val_acc: 0.8133 - val_mean_squared_error: 0.0982 - val_mean_absolute_error: 0.1966 - val_binary_crossentropy: 0.2725\n",
      "Epoch 93/250\n",
      "124/124 [==============================] - 0s 3ms/step - loss: 0.2728 - acc: 0.7991 - mean_squared_error: 0.0984 - mean_absolute_error: 0.1968 - binary_crossentropy: 0.2728 - val_loss: 0.2728 - val_acc: 0.8072 - val_mean_squared_error: 0.0984 - val_mean_absolute_error: 0.1968 - val_binary_crossentropy: 0.2728\n",
      "Epoch 94/250\n",
      "124/124 [==============================] - 0s 3ms/step - loss: 0.2752 - acc: 0.7625 - mean_squared_error: 0.0995 - mean_absolute_error: 0.1980 - binary_crossentropy: 0.2752 - val_loss: 0.2728 - val_acc: 0.8035 - val_mean_squared_error: 0.0984 - val_mean_absolute_error: 0.1968 - val_binary_crossentropy: 0.2728\n",
      "Epoch 95/250\n",
      "124/124 [==============================] - 0s 3ms/step - loss: 0.2729 - acc: 0.8002 - mean_squared_error: 0.0984 - mean_absolute_error: 0.1968 - binary_crossentropy: 0.2729 - val_loss: 0.2728 - val_acc: 0.7981 - val_mean_squared_error: 0.0984 - val_mean_absolute_error: 0.1968 - val_binary_crossentropy: 0.2728\n",
      "Epoch 96/250\n",
      "124/124 [==============================] - 0s 3ms/step - loss: 0.2733 - acc: 0.7899 - mean_squared_error: 0.0986 - mean_absolute_error: 0.1970 - binary_crossentropy: 0.2733 - val_loss: 0.2727 - val_acc: 0.8061 - val_mean_squared_error: 0.0983 - val_mean_absolute_error: 0.1967 - val_binary_crossentropy: 0.2727\n",
      "Epoch 97/250\n",
      "124/124 [==============================] - 0s 3ms/step - loss: 0.2731 - acc: 0.7887 - mean_squared_error: 0.0985 - mean_absolute_error: 0.1969 - binary_crossentropy: 0.2731 - val_loss: 0.2725 - val_acc: 0.8104 - val_mean_squared_error: 0.0982 - val_mean_absolute_error: 0.1966 - val_binary_crossentropy: 0.2725\n",
      "Epoch 98/250\n",
      "124/124 [==============================] - 0s 3ms/step - loss: 0.2733 - acc: 0.7851 - mean_squared_error: 0.0986 - mean_absolute_error: 0.1970 - binary_crossentropy: 0.2733 - val_loss: 0.2724 - val_acc: 0.8123 - val_mean_squared_error: 0.0982 - val_mean_absolute_error: 0.1966 - val_binary_crossentropy: 0.2724\n",
      "Epoch 99/250\n",
      "124/124 [==============================] - 0s 3ms/step - loss: 0.2733 - acc: 0.7855 - mean_squared_error: 0.0986 - mean_absolute_error: 0.1970 - binary_crossentropy: 0.2733 - val_loss: 0.2726 - val_acc: 0.8125 - val_mean_squared_error: 0.0983 - val_mean_absolute_error: 0.1966 - val_binary_crossentropy: 0.2726\n",
      "Epoch 100/250\n",
      "124/124 [==============================] - 0s 4ms/step - loss: 0.2732 - acc: 0.7844 - mean_squared_error: 0.0986 - mean_absolute_error: 0.1970 - binary_crossentropy: 0.2732 - val_loss: 0.2723 - val_acc: 0.8112 - val_mean_squared_error: 0.0982 - val_mean_absolute_error: 0.1965 - val_binary_crossentropy: 0.2723\n",
      "Epoch 101/250\n"
     ]
    },
    {
     "name": "stdout",
     "output_type": "stream",
     "text": [
      "124/124 [==============================] - 0s 3ms/step - loss: 0.2732 - acc: 0.7858 - mean_squared_error: 0.0986 - mean_absolute_error: 0.1969 - binary_crossentropy: 0.2732 - val_loss: 0.2726 - val_acc: 0.8083 - val_mean_squared_error: 0.0983 - val_mean_absolute_error: 0.1966 - val_binary_crossentropy: 0.2726\n",
      "Epoch 102/250\n",
      "124/124 [==============================] - 0s 3ms/step - loss: 0.2736 - acc: 0.7762 - mean_squared_error: 0.0988 - mean_absolute_error: 0.1972 - binary_crossentropy: 0.2736 - val_loss: 0.2724 - val_acc: 0.8091 - val_mean_squared_error: 0.0982 - val_mean_absolute_error: 0.1965 - val_binary_crossentropy: 0.2724\n",
      "Epoch 103/250\n",
      "124/124 [==============================] - 0s 3ms/step - loss: 0.2737 - acc: 0.7997 - mean_squared_error: 0.0989 - mean_absolute_error: 0.1971 - binary_crossentropy: 0.2737 - val_loss: 0.2727 - val_acc: 0.8000 - val_mean_squared_error: 0.0983 - val_mean_absolute_error: 0.1967 - val_binary_crossentropy: 0.2727\n",
      "Epoch 104/250\n",
      "124/124 [==============================] - 0s 3ms/step - loss: 0.2733 - acc: 0.7884 - mean_squared_error: 0.0986 - mean_absolute_error: 0.1970 - binary_crossentropy: 0.2733 - val_loss: 0.2727 - val_acc: 0.8040 - val_mean_squared_error: 0.0983 - val_mean_absolute_error: 0.1967 - val_binary_crossentropy: 0.2727\n",
      "Epoch 105/250\n",
      "124/124 [==============================] - 0s 3ms/step - loss: 0.2741 - acc: 0.7928 - mean_squared_error: 0.0991 - mean_absolute_error: 0.1974 - binary_crossentropy: 0.2741 - val_loss: 0.2727 - val_acc: 0.8109 - val_mean_squared_error: 0.0983 - val_mean_absolute_error: 0.1968 - val_binary_crossentropy: 0.2727\n",
      "Epoch 106/250\n",
      "124/124 [==============================] - 0s 3ms/step - loss: 0.2731 - acc: 0.7990 - mean_squared_error: 0.0985 - mean_absolute_error: 0.1969 - binary_crossentropy: 0.2731 - val_loss: 0.2726 - val_acc: 0.8168 - val_mean_squared_error: 0.0982 - val_mean_absolute_error: 0.1967 - val_binary_crossentropy: 0.2726\n",
      "Epoch 107/250\n",
      "124/124 [==============================] - 0s 3ms/step - loss: 0.2731 - acc: 0.7917 - mean_squared_error: 0.0985 - mean_absolute_error: 0.1969 - binary_crossentropy: 0.2731 - val_loss: 0.2726 - val_acc: 0.8064 - val_mean_squared_error: 0.0983 - val_mean_absolute_error: 0.1967 - val_binary_crossentropy: 0.2726\n",
      "Epoch 108/250\n",
      "124/124 [==============================] - 0s 3ms/step - loss: 0.2728 - acc: 0.8001 - mean_squared_error: 0.0984 - mean_absolute_error: 0.1968 - binary_crossentropy: 0.2728 - val_loss: 0.2726 - val_acc: 0.8152 - val_mean_squared_error: 0.0983 - val_mean_absolute_error: 0.1966 - val_binary_crossentropy: 0.2726\n",
      "Epoch 109/250\n",
      "124/124 [==============================] - 0s 3ms/step - loss: 0.2728 - acc: 0.7988 - mean_squared_error: 0.0984 - mean_absolute_error: 0.1967 - binary_crossentropy: 0.2728 - val_loss: 0.2728 - val_acc: 0.8083 - val_mean_squared_error: 0.0984 - val_mean_absolute_error: 0.1967 - val_binary_crossentropy: 0.2728\n",
      "Epoch 110/250\n",
      "124/124 [==============================] - 0s 3ms/step - loss: 0.2729 - acc: 0.8016 - mean_squared_error: 0.0985 - mean_absolute_error: 0.1968 - binary_crossentropy: 0.2729 - val_loss: 0.2725 - val_acc: 0.8109 - val_mean_squared_error: 0.0982 - val_mean_absolute_error: 0.1966 - val_binary_crossentropy: 0.2725\n",
      "Epoch 111/250\n",
      "124/124 [==============================] - 0s 3ms/step - loss: 0.2727 - acc: 0.8045 - mean_squared_error: 0.0983 - mean_absolute_error: 0.1967 - binary_crossentropy: 0.2727 - val_loss: 0.2725 - val_acc: 0.8131 - val_mean_squared_error: 0.0983 - val_mean_absolute_error: 0.1966 - val_binary_crossentropy: 0.2725\n",
      "Epoch 112/250\n",
      "124/124 [==============================] - 0s 3ms/step - loss: 0.2731 - acc: 0.7936 - mean_squared_error: 0.0986 - mean_absolute_error: 0.1969 - binary_crossentropy: 0.2731 - val_loss: 0.2729 - val_acc: 0.7912 - val_mean_squared_error: 0.0984 - val_mean_absolute_error: 0.1968 - val_binary_crossentropy: 0.2729\n",
      "Epoch 113/250\n",
      "124/124 [==============================] - 0s 3ms/step - loss: 0.2733 - acc: 0.7911 - mean_squared_error: 0.0987 - mean_absolute_error: 0.1970 - binary_crossentropy: 0.2733 - val_loss: 0.2731 - val_acc: 0.7952 - val_mean_squared_error: 0.0985 - val_mean_absolute_error: 0.1969 - val_binary_crossentropy: 0.2731\n",
      "Epoch 114/250\n",
      "124/124 [==============================] - 0s 3ms/step - loss: 0.2737 - acc: 0.7925 - mean_squared_error: 0.0988 - mean_absolute_error: 0.1972 - binary_crossentropy: 0.2737 - val_loss: 0.2731 - val_acc: 0.7965 - val_mean_squared_error: 0.0986 - val_mean_absolute_error: 0.1969 - val_binary_crossentropy: 0.2731\n",
      "Epoch 115/250\n",
      "124/124 [==============================] - 0s 3ms/step - loss: 0.2729 - acc: 0.7947 - mean_squared_error: 0.0985 - mean_absolute_error: 0.1968 - binary_crossentropy: 0.2729 - val_loss: 0.2726 - val_acc: 0.7952 - val_mean_squared_error: 0.0983 - val_mean_absolute_error: 0.1967 - val_binary_crossentropy: 0.2726\n",
      "Epoch 116/250\n",
      "124/124 [==============================] - 0s 3ms/step - loss: 0.2727 - acc: 0.8030 - mean_squared_error: 0.0984 - mean_absolute_error: 0.1967 - binary_crossentropy: 0.2727 - val_loss: 0.2731 - val_acc: 0.7949 - val_mean_squared_error: 0.0985 - val_mean_absolute_error: 0.1969 - val_binary_crossentropy: 0.2731\n",
      "Epoch 117/250\n",
      "124/124 [==============================] - 0s 3ms/step - loss: 0.2733 - acc: 0.7967 - mean_squared_error: 0.0987 - mean_absolute_error: 0.1970 - binary_crossentropy: 0.2733 - val_loss: 0.2730 - val_acc: 0.7891 - val_mean_squared_error: 0.0985 - val_mean_absolute_error: 0.1969 - val_binary_crossentropy: 0.2730\n",
      "Epoch 118/250\n",
      "124/124 [==============================] - 0s 3ms/step - loss: 0.2743 - acc: 0.7686 - mean_squared_error: 0.0991 - mean_absolute_error: 0.1975 - binary_crossentropy: 0.2743 - val_loss: 0.2730 - val_acc: 0.7987 - val_mean_squared_error: 0.0984 - val_mean_absolute_error: 0.1969 - val_binary_crossentropy: 0.2730\n",
      "Epoch 119/250\n",
      "124/124 [==============================] - 0s 3ms/step - loss: 0.2729 - acc: 0.8013 - mean_squared_error: 0.0984 - mean_absolute_error: 0.1968 - binary_crossentropy: 0.2729 - val_loss: 0.2727 - val_acc: 0.7917 - val_mean_squared_error: 0.0984 - val_mean_absolute_error: 0.1967 - val_binary_crossentropy: 0.2727\n",
      "Epoch 120/250\n",
      "124/124 [==============================] - 0s 3ms/step - loss: 0.2728 - acc: 0.8028 - mean_squared_error: 0.0984 - mean_absolute_error: 0.1967 - binary_crossentropy: 0.2728 - val_loss: 0.2728 - val_acc: 0.8013 - val_mean_squared_error: 0.0984 - val_mean_absolute_error: 0.1967 - val_binary_crossentropy: 0.2728\n",
      "Epoch 121/250\n",
      "124/124 [==============================] - 0s 3ms/step - loss: 0.2733 - acc: 0.7962 - mean_squared_error: 0.0986 - mean_absolute_error: 0.1969 - binary_crossentropy: 0.2733 - val_loss: 0.2727 - val_acc: 0.8024 - val_mean_squared_error: 0.0984 - val_mean_absolute_error: 0.1967 - val_binary_crossentropy: 0.2727\n",
      "Epoch 122/250\n",
      "124/124 [==============================] - 0s 3ms/step - loss: 0.2729 - acc: 0.7909 - mean_squared_error: 0.0984 - mean_absolute_error: 0.1968 - binary_crossentropy: 0.2729 - val_loss: 0.2726 - val_acc: 0.7987 - val_mean_squared_error: 0.0983 - val_mean_absolute_error: 0.1967 - val_binary_crossentropy: 0.2726\n",
      "Epoch 123/250\n",
      "124/124 [==============================] - 0s 3ms/step - loss: 0.2734 - acc: 0.7998 - mean_squared_error: 0.0987 - mean_absolute_error: 0.1970 - binary_crossentropy: 0.2734 - val_loss: 0.2729 - val_acc: 0.8048 - val_mean_squared_error: 0.0984 - val_mean_absolute_error: 0.1968 - val_binary_crossentropy: 0.2729\n",
      "Epoch 124/250\n",
      "124/124 [==============================] - 0s 3ms/step - loss: 0.2735 - acc: 0.7775 - mean_squared_error: 0.0988 - mean_absolute_error: 0.1971 - binary_crossentropy: 0.2735 - val_loss: 0.2724 - val_acc: 0.8168 - val_mean_squared_error: 0.0982 - val_mean_absolute_error: 0.1966 - val_binary_crossentropy: 0.2724\n",
      "Epoch 125/250\n",
      "124/124 [==============================] - 0s 4ms/step - loss: 0.2740 - acc: 0.7618 - mean_squared_error: 0.0989 - mean_absolute_error: 0.1974 - binary_crossentropy: 0.2740 - val_loss: 0.2725 - val_acc: 0.8117 - val_mean_squared_error: 0.0982 - val_mean_absolute_error: 0.1966 - val_binary_crossentropy: 0.2725\n",
      "Epoch 126/250\n"
     ]
    },
    {
     "name": "stdout",
     "output_type": "stream",
     "text": [
      "124/124 [==============================] - 0s 3ms/step - loss: 0.2734 - acc: 0.8032 - mean_squared_error: 0.0987 - mean_absolute_error: 0.1970 - binary_crossentropy: 0.2734 - val_loss: 0.2724 - val_acc: 0.8133 - val_mean_squared_error: 0.0982 - val_mean_absolute_error: 0.1966 - val_binary_crossentropy: 0.2724\n",
      "Epoch 127/250\n",
      "124/124 [==============================] - 0s 3ms/step - loss: 0.2729 - acc: 0.8046 - mean_squared_error: 0.0985 - mean_absolute_error: 0.1968 - binary_crossentropy: 0.2729 - val_loss: 0.2729 - val_acc: 0.7896 - val_mean_squared_error: 0.0984 - val_mean_absolute_error: 0.1968 - val_binary_crossentropy: 0.2729\n",
      "Epoch 128/250\n",
      "124/124 [==============================] - 0s 3ms/step - loss: 0.2728 - acc: 0.7967 - mean_squared_error: 0.0984 - mean_absolute_error: 0.1968 - binary_crossentropy: 0.2728 - val_loss: 0.2727 - val_acc: 0.7995 - val_mean_squared_error: 0.0983 - val_mean_absolute_error: 0.1967 - val_binary_crossentropy: 0.2727\n",
      "Epoch 129/250\n",
      "124/124 [==============================] - 0s 3ms/step - loss: 0.2728 - acc: 0.7975 - mean_squared_error: 0.0984 - mean_absolute_error: 0.1967 - binary_crossentropy: 0.2728 - val_loss: 0.2727 - val_acc: 0.8021 - val_mean_squared_error: 0.0983 - val_mean_absolute_error: 0.1967 - val_binary_crossentropy: 0.2727\n",
      "Epoch 130/250\n",
      "124/124 [==============================] - 0s 3ms/step - loss: 0.2737 - acc: 0.7744 - mean_squared_error: 0.0988 - mean_absolute_error: 0.1972 - binary_crossentropy: 0.2737 - val_loss: 0.2726 - val_acc: 0.8077 - val_mean_squared_error: 0.0983 - val_mean_absolute_error: 0.1967 - val_binary_crossentropy: 0.2726\n",
      "Epoch 131/250\n",
      "124/124 [==============================] - 0s 3ms/step - loss: 0.2731 - acc: 0.7799 - mean_squared_error: 0.0985 - mean_absolute_error: 0.1969 - binary_crossentropy: 0.2731 - val_loss: 0.2728 - val_acc: 0.7968 - val_mean_squared_error: 0.0984 - val_mean_absolute_error: 0.1968 - val_binary_crossentropy: 0.2728\n",
      "Epoch 132/250\n",
      "124/124 [==============================] - 0s 2ms/step - loss: 0.2732 - acc: 0.7831 - mean_squared_error: 0.0986 - mean_absolute_error: 0.1969 - binary_crossentropy: 0.2732 - val_loss: 0.2726 - val_acc: 0.8107 - val_mean_squared_error: 0.0982 - val_mean_absolute_error: 0.1967 - val_binary_crossentropy: 0.2726\n",
      "Epoch 133/250\n",
      "124/124 [==============================] - 0s 3ms/step - loss: 0.2731 - acc: 0.8043 - mean_squared_error: 0.0985 - mean_absolute_error: 0.1969 - binary_crossentropy: 0.2731 - val_loss: 0.2727 - val_acc: 0.8061 - val_mean_squared_error: 0.0983 - val_mean_absolute_error: 0.1968 - val_binary_crossentropy: 0.2727\n",
      "Epoch 134/250\n",
      "124/124 [==============================] - 0s 3ms/step - loss: 0.2734 - acc: 0.7800 - mean_squared_error: 0.0987 - mean_absolute_error: 0.1971 - binary_crossentropy: 0.2734 - val_loss: 0.2726 - val_acc: 0.8115 - val_mean_squared_error: 0.0983 - val_mean_absolute_error: 0.1967 - val_binary_crossentropy: 0.2726\n",
      "Epoch 135/250\n",
      "124/124 [==============================] - 0s 3ms/step - loss: 0.2730 - acc: 0.7885 - mean_squared_error: 0.0985 - mean_absolute_error: 0.1969 - binary_crossentropy: 0.2730 - val_loss: 0.2728 - val_acc: 0.7973 - val_mean_squared_error: 0.0984 - val_mean_absolute_error: 0.1968 - val_binary_crossentropy: 0.2728\n",
      "Epoch 136/250\n",
      "124/124 [==============================] - 0s 3ms/step - loss: 0.2733 - acc: 0.7883 - mean_squared_error: 0.0986 - mean_absolute_error: 0.1970 - binary_crossentropy: 0.2733 - val_loss: 0.2730 - val_acc: 0.7744 - val_mean_squared_error: 0.0985 - val_mean_absolute_error: 0.1968 - val_binary_crossentropy: 0.2730\n",
      "Epoch 137/250\n",
      "124/124 [==============================] - 0s 3ms/step - loss: 0.2732 - acc: 0.7880 - mean_squared_error: 0.0986 - mean_absolute_error: 0.1970 - binary_crossentropy: 0.2732 - val_loss: 0.2728 - val_acc: 0.7923 - val_mean_squared_error: 0.0984 - val_mean_absolute_error: 0.1968 - val_binary_crossentropy: 0.2728\n",
      "Epoch 138/250\n",
      "124/124 [==============================] - 0s 3ms/step - loss: 0.2729 - acc: 0.8026 - mean_squared_error: 0.0984 - mean_absolute_error: 0.1968 - binary_crossentropy: 0.2729 - val_loss: 0.2725 - val_acc: 0.8123 - val_mean_squared_error: 0.0983 - val_mean_absolute_error: 0.1966 - val_binary_crossentropy: 0.2725\n",
      "Epoch 139/250\n",
      "124/124 [==============================] - 0s 3ms/step - loss: 0.2727 - acc: 0.8051 - mean_squared_error: 0.0983 - mean_absolute_error: 0.1967 - binary_crossentropy: 0.2727 - val_loss: 0.2724 - val_acc: 0.8120 - val_mean_squared_error: 0.0982 - val_mean_absolute_error: 0.1965 - val_binary_crossentropy: 0.2724\n",
      "Epoch 140/250\n",
      "124/124 [==============================] - 0s 3ms/step - loss: 0.2727 - acc: 0.8013 - mean_squared_error: 0.0984 - mean_absolute_error: 0.1967 - binary_crossentropy: 0.2727 - val_loss: 0.2726 - val_acc: 0.8133 - val_mean_squared_error: 0.0983 - val_mean_absolute_error: 0.1966 - val_binary_crossentropy: 0.2726\n",
      "Epoch 141/250\n",
      "124/124 [==============================] - 0s 3ms/step - loss: 0.2733 - acc: 0.7898 - mean_squared_error: 0.0986 - mean_absolute_error: 0.1970 - binary_crossentropy: 0.2733 - val_loss: 0.2728 - val_acc: 0.8011 - val_mean_squared_error: 0.0984 - val_mean_absolute_error: 0.1967 - val_binary_crossentropy: 0.2728\n",
      "Epoch 142/250\n",
      "124/124 [==============================] - 0s 3ms/step - loss: 0.2734 - acc: 0.7778 - mean_squared_error: 0.0987 - mean_absolute_error: 0.1970 - binary_crossentropy: 0.2734 - val_loss: 0.2724 - val_acc: 0.8091 - val_mean_squared_error: 0.0981 - val_mean_absolute_error: 0.1966 - val_binary_crossentropy: 0.2724\n",
      "Epoch 143/250\n",
      "124/124 [==============================] - 0s 3ms/step - loss: 0.2737 - acc: 0.8026 - mean_squared_error: 0.0988 - mean_absolute_error: 0.1971 - binary_crossentropy: 0.2737 - val_loss: 0.2727 - val_acc: 0.8056 - val_mean_squared_error: 0.0983 - val_mean_absolute_error: 0.1968 - val_binary_crossentropy: 0.2727\n",
      "Epoch 144/250\n",
      "124/124 [==============================] - 0s 4ms/step - loss: 0.2731 - acc: 0.7838 - mean_squared_error: 0.0985 - mean_absolute_error: 0.1969 - binary_crossentropy: 0.2731 - val_loss: 0.2726 - val_acc: 0.8069 - val_mean_squared_error: 0.0983 - val_mean_absolute_error: 0.1967 - val_binary_crossentropy: 0.2726\n",
      "Epoch 145/250\n",
      "124/124 [==============================] - 0s 3ms/step - loss: 0.2731 - acc: 0.7907 - mean_squared_error: 0.0985 - mean_absolute_error: 0.1969 - binary_crossentropy: 0.2731 - val_loss: 0.2728 - val_acc: 0.8019 - val_mean_squared_error: 0.0984 - val_mean_absolute_error: 0.1968 - val_binary_crossentropy: 0.2728\n",
      "Epoch 146/250\n",
      "124/124 [==============================] - 0s 3ms/step - loss: 0.2735 - acc: 0.7752 - mean_squared_error: 0.0987 - mean_absolute_error: 0.1971 - binary_crossentropy: 0.2735 - val_loss: 0.2728 - val_acc: 0.8067 - val_mean_squared_error: 0.0983 - val_mean_absolute_error: 0.1968 - val_binary_crossentropy: 0.2728\n",
      "Epoch 147/250\n",
      "124/124 [==============================] - 0s 3ms/step - loss: 0.2735 - acc: 0.7889 - mean_squared_error: 0.0987 - mean_absolute_error: 0.1971 - binary_crossentropy: 0.2735 - val_loss: 0.2726 - val_acc: 0.8099 - val_mean_squared_error: 0.0982 - val_mean_absolute_error: 0.1967 - val_binary_crossentropy: 0.2726\n",
      "Epoch 148/250\n",
      "124/124 [==============================] - 0s 3ms/step - loss: 0.2729 - acc: 0.7918 - mean_squared_error: 0.0984 - mean_absolute_error: 0.1968 - binary_crossentropy: 0.2729 - val_loss: 0.2725 - val_acc: 0.8099 - val_mean_squared_error: 0.0983 - val_mean_absolute_error: 0.1966 - val_binary_crossentropy: 0.2725\n",
      "Epoch 149/250\n",
      "124/124 [==============================] - 0s 2ms/step - loss: 0.2736 - acc: 0.8010 - mean_squared_error: 0.0988 - mean_absolute_error: 0.1971 - binary_crossentropy: 0.2736 - val_loss: 0.2725 - val_acc: 0.8125 - val_mean_squared_error: 0.0982 - val_mean_absolute_error: 0.1966 - val_binary_crossentropy: 0.2725\n",
      "Epoch 150/250\n",
      "124/124 [==============================] - 0s 2ms/step - loss: 0.2728 - acc: 0.8034 - mean_squared_error: 0.0984 - mean_absolute_error: 0.1967 - binary_crossentropy: 0.2728 - val_loss: 0.2727 - val_acc: 0.8051 - val_mean_squared_error: 0.0984 - val_mean_absolute_error: 0.1967 - val_binary_crossentropy: 0.2727\n",
      "Epoch 151/250\n"
     ]
    },
    {
     "name": "stdout",
     "output_type": "stream",
     "text": [
      "124/124 [==============================] - 0s 2ms/step - loss: 0.2727 - acc: 0.7970 - mean_squared_error: 0.0984 - mean_absolute_error: 0.1967 - binary_crossentropy: 0.2727 - val_loss: 0.2726 - val_acc: 0.8120 - val_mean_squared_error: 0.0983 - val_mean_absolute_error: 0.1966 - val_binary_crossentropy: 0.2726\n",
      "Epoch 152/250\n",
      "124/124 [==============================] - 0s 3ms/step - loss: 0.2729 - acc: 0.7939 - mean_squared_error: 0.0985 - mean_absolute_error: 0.1968 - binary_crossentropy: 0.2729 - val_loss: 0.2727 - val_acc: 0.8040 - val_mean_squared_error: 0.0984 - val_mean_absolute_error: 0.1967 - val_binary_crossentropy: 0.2727\n",
      "Epoch 153/250\n",
      "124/124 [==============================] - 0s 3ms/step - loss: 0.2732 - acc: 0.8033 - mean_squared_error: 0.0986 - mean_absolute_error: 0.1969 - binary_crossentropy: 0.2732 - val_loss: 0.2727 - val_acc: 0.7925 - val_mean_squared_error: 0.0984 - val_mean_absolute_error: 0.1967 - val_binary_crossentropy: 0.2727\n",
      "Epoch 154/250\n",
      "124/124 [==============================] - 0s 2ms/step - loss: 0.2733 - acc: 0.7938 - mean_squared_error: 0.0986 - mean_absolute_error: 0.1970 - binary_crossentropy: 0.2733 - val_loss: 0.2727 - val_acc: 0.8051 - val_mean_squared_error: 0.0983 - val_mean_absolute_error: 0.1968 - val_binary_crossentropy: 0.2727\n",
      "Epoch 155/250\n",
      "124/124 [==============================] - 0s 3ms/step - loss: 0.2734 - acc: 0.7794 - mean_squared_error: 0.0987 - mean_absolute_error: 0.1971 - binary_crossentropy: 0.2734 - val_loss: 0.2727 - val_acc: 0.8059 - val_mean_squared_error: 0.0983 - val_mean_absolute_error: 0.1967 - val_binary_crossentropy: 0.2727\n",
      "Epoch 156/250\n",
      "124/124 [==============================] - 0s 3ms/step - loss: 0.2729 - acc: 0.7962 - mean_squared_error: 0.0984 - mean_absolute_error: 0.1968 - binary_crossentropy: 0.2729 - val_loss: 0.2726 - val_acc: 0.8136 - val_mean_squared_error: 0.0983 - val_mean_absolute_error: 0.1967 - val_binary_crossentropy: 0.2726\n",
      "Epoch 157/250\n",
      "124/124 [==============================] - 0s 2ms/step - loss: 0.2727 - acc: 0.7989 - mean_squared_error: 0.0983 - mean_absolute_error: 0.1967 - binary_crossentropy: 0.2727 - val_loss: 0.2727 - val_acc: 0.8013 - val_mean_squared_error: 0.0984 - val_mean_absolute_error: 0.1967 - val_binary_crossentropy: 0.2727\n",
      "Epoch 158/250\n",
      "124/124 [==============================] - 0s 3ms/step - loss: 0.2731 - acc: 0.7794 - mean_squared_error: 0.0985 - mean_absolute_error: 0.1969 - binary_crossentropy: 0.2731 - val_loss: 0.2727 - val_acc: 0.8064 - val_mean_squared_error: 0.0984 - val_mean_absolute_error: 0.1967 - val_binary_crossentropy: 0.2727\n",
      "Epoch 159/250\n",
      "124/124 [==============================] - 0s 3ms/step - loss: 0.2727 - acc: 0.8030 - mean_squared_error: 0.0983 - mean_absolute_error: 0.1967 - binary_crossentropy: 0.2727 - val_loss: 0.2727 - val_acc: 0.7995 - val_mean_squared_error: 0.0984 - val_mean_absolute_error: 0.1967 - val_binary_crossentropy: 0.2727\n",
      "Epoch 160/250\n",
      "124/124 [==============================] - 0s 3ms/step - loss: 0.2729 - acc: 0.7892 - mean_squared_error: 0.0985 - mean_absolute_error: 0.1968 - binary_crossentropy: 0.2729 - val_loss: 0.2727 - val_acc: 0.8067 - val_mean_squared_error: 0.0983 - val_mean_absolute_error: 0.1967 - val_binary_crossentropy: 0.2727\n",
      "Epoch 161/250\n",
      "124/124 [==============================] - 0s 3ms/step - loss: 0.2736 - acc: 0.7868 - mean_squared_error: 0.0988 - mean_absolute_error: 0.1971 - binary_crossentropy: 0.2736 - val_loss: 0.2725 - val_acc: 0.8171 - val_mean_squared_error: 0.0983 - val_mean_absolute_error: 0.1966 - val_binary_crossentropy: 0.2725\n",
      "Epoch 162/250\n",
      "124/124 [==============================] - 0s 3ms/step - loss: 0.2732 - acc: 0.7988 - mean_squared_error: 0.0986 - mean_absolute_error: 0.1970 - binary_crossentropy: 0.2732 - val_loss: 0.2727 - val_acc: 0.8069 - val_mean_squared_error: 0.0983 - val_mean_absolute_error: 0.1967 - val_binary_crossentropy: 0.2727\n",
      "Epoch 163/250\n",
      "124/124 [==============================] - 0s 2ms/step - loss: 0.2727 - acc: 0.8014 - mean_squared_error: 0.0983 - mean_absolute_error: 0.1967 - binary_crossentropy: 0.2727 - val_loss: 0.2728 - val_acc: 0.7907 - val_mean_squared_error: 0.0984 - val_mean_absolute_error: 0.1967 - val_binary_crossentropy: 0.2728\n",
      "Epoch 164/250\n",
      "124/124 [==============================] - 0s 2ms/step - loss: 0.2728 - acc: 0.7994 - mean_squared_error: 0.0984 - mean_absolute_error: 0.1967 - binary_crossentropy: 0.2728 - val_loss: 0.2726 - val_acc: 0.8075 - val_mean_squared_error: 0.0983 - val_mean_absolute_error: 0.1967 - val_binary_crossentropy: 0.2726\n",
      "Epoch 165/250\n",
      "124/124 [==============================] - 0s 3ms/step - loss: 0.2726 - acc: 0.8006 - mean_squared_error: 0.0983 - mean_absolute_error: 0.1967 - binary_crossentropy: 0.2726 - val_loss: 0.2728 - val_acc: 0.8051 - val_mean_squared_error: 0.0984 - val_mean_absolute_error: 0.1967 - val_binary_crossentropy: 0.2728\n",
      "Epoch 166/250\n",
      "124/124 [==============================] - 0s 3ms/step - loss: 0.2737 - acc: 0.8010 - mean_squared_error: 0.0989 - mean_absolute_error: 0.1971 - binary_crossentropy: 0.2737 - val_loss: 0.2728 - val_acc: 0.7984 - val_mean_squared_error: 0.0984 - val_mean_absolute_error: 0.1968 - val_binary_crossentropy: 0.2728\n",
      "Epoch 167/250\n",
      "124/124 [==============================] - 0s 3ms/step - loss: 0.2736 - acc: 0.8031 - mean_squared_error: 0.0988 - mean_absolute_error: 0.1971 - binary_crossentropy: 0.2736 - val_loss: 0.2728 - val_acc: 0.8085 - val_mean_squared_error: 0.0983 - val_mean_absolute_error: 0.1968 - val_binary_crossentropy: 0.2728\n",
      "Epoch 168/250\n",
      "124/124 [==============================] - 0s 2ms/step - loss: 0.2728 - acc: 0.7999 - mean_squared_error: 0.0984 - mean_absolute_error: 0.1968 - binary_crossentropy: 0.2728 - val_loss: 0.2729 - val_acc: 0.7912 - val_mean_squared_error: 0.0984 - val_mean_absolute_error: 0.1968 - val_binary_crossentropy: 0.2729\n",
      "Epoch 169/250\n",
      "124/124 [==============================] - 0s 2ms/step - loss: 0.2727 - acc: 0.8037 - mean_squared_error: 0.0983 - mean_absolute_error: 0.1967 - binary_crossentropy: 0.2727 - val_loss: 0.2725 - val_acc: 0.8163 - val_mean_squared_error: 0.0983 - val_mean_absolute_error: 0.1966 - val_binary_crossentropy: 0.2725\n",
      "Epoch 170/250\n",
      "124/124 [==============================] - 0s 2ms/step - loss: 0.2736 - acc: 0.7791 - mean_squared_error: 0.0988 - mean_absolute_error: 0.1972 - binary_crossentropy: 0.2736 - val_loss: 0.2727 - val_acc: 0.8069 - val_mean_squared_error: 0.0983 - val_mean_absolute_error: 0.1967 - val_binary_crossentropy: 0.2727\n",
      "Epoch 171/250\n",
      "124/124 [==============================] - 0s 3ms/step - loss: 0.2734 - acc: 0.7781 - mean_squared_error: 0.0987 - mean_absolute_error: 0.1970 - binary_crossentropy: 0.2734 - val_loss: 0.2724 - val_acc: 0.8285 - val_mean_squared_error: 0.0981 - val_mean_absolute_error: 0.1966 - val_binary_crossentropy: 0.2724\n",
      "Epoch 172/250\n",
      "124/124 [==============================] - 0s 2ms/step - loss: 0.2727 - acc: 0.8017 - mean_squared_error: 0.0984 - mean_absolute_error: 0.1967 - binary_crossentropy: 0.2727 - val_loss: 0.2724 - val_acc: 0.8232 - val_mean_squared_error: 0.0982 - val_mean_absolute_error: 0.1966 - val_binary_crossentropy: 0.2724\n",
      "Epoch 173/250\n",
      "124/124 [==============================] - 0s 2ms/step - loss: 0.2733 - acc: 0.7917 - mean_squared_error: 0.0987 - mean_absolute_error: 0.1970 - binary_crossentropy: 0.2733 - val_loss: 0.2727 - val_acc: 0.8013 - val_mean_squared_error: 0.0984 - val_mean_absolute_error: 0.1967 - val_binary_crossentropy: 0.2727\n",
      "Epoch 174/250\n",
      "124/124 [==============================] - 0s 2ms/step - loss: 0.2729 - acc: 0.7784 - mean_squared_error: 0.0985 - mean_absolute_error: 0.1968 - binary_crossentropy: 0.2729 - val_loss: 0.2727 - val_acc: 0.7955 - val_mean_squared_error: 0.0984 - val_mean_absolute_error: 0.1967 - val_binary_crossentropy: 0.2727\n",
      "Epoch 175/250\n",
      "124/124 [==============================] - 0s 2ms/step - loss: 0.2730 - acc: 0.7933 - mean_squared_error: 0.0985 - mean_absolute_error: 0.1969 - binary_crossentropy: 0.2730 - val_loss: 0.2727 - val_acc: 0.7957 - val_mean_squared_error: 0.0984 - val_mean_absolute_error: 0.1967 - val_binary_crossentropy: 0.2727\n",
      "Epoch 176/250\n"
     ]
    },
    {
     "name": "stdout",
     "output_type": "stream",
     "text": [
      "124/124 [==============================] - 0s 2ms/step - loss: 0.2730 - acc: 0.7856 - mean_squared_error: 0.0985 - mean_absolute_error: 0.1969 - binary_crossentropy: 0.2730 - val_loss: 0.2727 - val_acc: 0.8088 - val_mean_squared_error: 0.0984 - val_mean_absolute_error: 0.1967 - val_binary_crossentropy: 0.2727\n",
      "Epoch 177/250\n",
      "124/124 [==============================] - 0s 2ms/step - loss: 0.2728 - acc: 0.8015 - mean_squared_error: 0.0984 - mean_absolute_error: 0.1968 - binary_crossentropy: 0.2728 - val_loss: 0.2726 - val_acc: 0.8053 - val_mean_squared_error: 0.0983 - val_mean_absolute_error: 0.1967 - val_binary_crossentropy: 0.2726\n",
      "Epoch 178/250\n",
      "124/124 [==============================] - 0s 2ms/step - loss: 0.2728 - acc: 0.7976 - mean_squared_error: 0.0984 - mean_absolute_error: 0.1968 - binary_crossentropy: 0.2728 - val_loss: 0.2726 - val_acc: 0.8080 - val_mean_squared_error: 0.0983 - val_mean_absolute_error: 0.1967 - val_binary_crossentropy: 0.2726\n",
      "Epoch 179/250\n",
      "124/124 [==============================] - 0s 2ms/step - loss: 0.2730 - acc: 0.7879 - mean_squared_error: 0.0985 - mean_absolute_error: 0.1969 - binary_crossentropy: 0.2730 - val_loss: 0.2727 - val_acc: 0.7981 - val_mean_squared_error: 0.0983 - val_mean_absolute_error: 0.1967 - val_binary_crossentropy: 0.2727\n",
      "Epoch 180/250\n",
      "124/124 [==============================] - 0s 2ms/step - loss: 0.2728 - acc: 0.8007 - mean_squared_error: 0.0984 - mean_absolute_error: 0.1968 - binary_crossentropy: 0.2728 - val_loss: 0.2727 - val_acc: 0.7965 - val_mean_squared_error: 0.0984 - val_mean_absolute_error: 0.1967 - val_binary_crossentropy: 0.2727\n",
      "Epoch 181/250\n",
      "124/124 [==============================] - 0s 2ms/step - loss: 0.2730 - acc: 0.8024 - mean_squared_error: 0.0985 - mean_absolute_error: 0.1968 - binary_crossentropy: 0.2730 - val_loss: 0.2726 - val_acc: 0.8152 - val_mean_squared_error: 0.0983 - val_mean_absolute_error: 0.1967 - val_binary_crossentropy: 0.2726\n",
      "Epoch 182/250\n",
      "124/124 [==============================] - 0s 2ms/step - loss: 0.2737 - acc: 0.7729 - mean_squared_error: 0.0988 - mean_absolute_error: 0.1972 - binary_crossentropy: 0.2737 - val_loss: 0.2727 - val_acc: 0.7944 - val_mean_squared_error: 0.0983 - val_mean_absolute_error: 0.1967 - val_binary_crossentropy: 0.2727\n",
      "Epoch 183/250\n",
      "124/124 [==============================] - 0s 2ms/step - loss: 0.2731 - acc: 0.7766 - mean_squared_error: 0.0985 - mean_absolute_error: 0.1969 - binary_crossentropy: 0.2731 - val_loss: 0.2727 - val_acc: 0.8035 - val_mean_squared_error: 0.0983 - val_mean_absolute_error: 0.1967 - val_binary_crossentropy: 0.2727\n",
      "Epoch 184/250\n",
      "124/124 [==============================] - 0s 2ms/step - loss: 0.2728 - acc: 0.7925 - mean_squared_error: 0.0984 - mean_absolute_error: 0.1968 - binary_crossentropy: 0.2728 - val_loss: 0.2726 - val_acc: 0.8048 - val_mean_squared_error: 0.0983 - val_mean_absolute_error: 0.1967 - val_binary_crossentropy: 0.2726\n",
      "Epoch 185/250\n",
      "124/124 [==============================] - 0s 2ms/step - loss: 0.2730 - acc: 0.7904 - mean_squared_error: 0.0985 - mean_absolute_error: 0.1968 - binary_crossentropy: 0.2730 - val_loss: 0.2725 - val_acc: 0.8107 - val_mean_squared_error: 0.0983 - val_mean_absolute_error: 0.1966 - val_binary_crossentropy: 0.2725\n",
      "Epoch 186/250\n",
      "124/124 [==============================] - 0s 2ms/step - loss: 0.2728 - acc: 0.7975 - mean_squared_error: 0.0984 - mean_absolute_error: 0.1967 - binary_crossentropy: 0.2728 - val_loss: 0.2724 - val_acc: 0.8125 - val_mean_squared_error: 0.0982 - val_mean_absolute_error: 0.1965 - val_binary_crossentropy: 0.2724\n",
      "Epoch 187/250\n",
      "124/124 [==============================] - 0s 2ms/step - loss: 0.2730 - acc: 0.7909 - mean_squared_error: 0.0985 - mean_absolute_error: 0.1968 - binary_crossentropy: 0.2730 - val_loss: 0.2726 - val_acc: 0.8016 - val_mean_squared_error: 0.0983 - val_mean_absolute_error: 0.1967 - val_binary_crossentropy: 0.2726\n",
      "Epoch 188/250\n",
      "124/124 [==============================] - 0s 2ms/step - loss: 0.2736 - acc: 0.7805 - mean_squared_error: 0.0988 - mean_absolute_error: 0.1971 - binary_crossentropy: 0.2736 - val_loss: 0.2728 - val_acc: 0.8051 - val_mean_squared_error: 0.0983 - val_mean_absolute_error: 0.1968 - val_binary_crossentropy: 0.2728\n",
      "Epoch 189/250\n",
      "124/124 [==============================] - 0s 2ms/step - loss: 0.2734 - acc: 0.7772 - mean_squared_error: 0.0986 - mean_absolute_error: 0.1971 - binary_crossentropy: 0.2734 - val_loss: 0.2727 - val_acc: 0.8051 - val_mean_squared_error: 0.0983 - val_mean_absolute_error: 0.1967 - val_binary_crossentropy: 0.2727\n",
      "Epoch 190/250\n",
      "124/124 [==============================] - 0s 2ms/step - loss: 0.2729 - acc: 0.7904 - mean_squared_error: 0.0984 - mean_absolute_error: 0.1968 - binary_crossentropy: 0.2729 - val_loss: 0.2727 - val_acc: 0.8032 - val_mean_squared_error: 0.0983 - val_mean_absolute_error: 0.1967 - val_binary_crossentropy: 0.2727\n",
      "Epoch 191/250\n",
      "124/124 [==============================] - 0s 2ms/step - loss: 0.2730 - acc: 0.7961 - mean_squared_error: 0.0985 - mean_absolute_error: 0.1969 - binary_crossentropy: 0.2730 - val_loss: 0.2726 - val_acc: 0.8125 - val_mean_squared_error: 0.0983 - val_mean_absolute_error: 0.1967 - val_binary_crossentropy: 0.2726\n",
      "Epoch 192/250\n",
      "124/124 [==============================] - 0s 3ms/step - loss: 0.2728 - acc: 0.8008 - mean_squared_error: 0.0984 - mean_absolute_error: 0.1968 - binary_crossentropy: 0.2728 - val_loss: 0.2727 - val_acc: 0.7941 - val_mean_squared_error: 0.0983 - val_mean_absolute_error: 0.1967 - val_binary_crossentropy: 0.2727\n",
      "Epoch 193/250\n",
      "124/124 [==============================] - 0s 2ms/step - loss: 0.2729 - acc: 0.7998 - mean_squared_error: 0.0984 - mean_absolute_error: 0.1968 - binary_crossentropy: 0.2729 - val_loss: 0.2727 - val_acc: 0.7941 - val_mean_squared_error: 0.0984 - val_mean_absolute_error: 0.1967 - val_binary_crossentropy: 0.2727\n",
      "Epoch 194/250\n",
      "124/124 [==============================] - 0s 2ms/step - loss: 0.2728 - acc: 0.7928 - mean_squared_error: 0.0984 - mean_absolute_error: 0.1967 - binary_crossentropy: 0.2728 - val_loss: 0.2726 - val_acc: 0.8021 - val_mean_squared_error: 0.0983 - val_mean_absolute_error: 0.1967 - val_binary_crossentropy: 0.2726\n",
      "Epoch 195/250\n",
      "124/124 [==============================] - 0s 2ms/step - loss: 0.2730 - acc: 0.7899 - mean_squared_error: 0.0985 - mean_absolute_error: 0.1968 - binary_crossentropy: 0.2730 - val_loss: 0.2726 - val_acc: 0.8019 - val_mean_squared_error: 0.0983 - val_mean_absolute_error: 0.1967 - val_binary_crossentropy: 0.2726\n",
      "Epoch 196/250\n",
      "124/124 [==============================] - 0s 2ms/step - loss: 0.2729 - acc: 0.7944 - mean_squared_error: 0.0985 - mean_absolute_error: 0.1968 - binary_crossentropy: 0.2729 - val_loss: 0.2726 - val_acc: 0.8139 - val_mean_squared_error: 0.0983 - val_mean_absolute_error: 0.1966 - val_binary_crossentropy: 0.2726\n",
      "Epoch 197/250\n",
      "124/124 [==============================] - 0s 2ms/step - loss: 0.2730 - acc: 0.7853 - mean_squared_error: 0.0985 - mean_absolute_error: 0.1969 - binary_crossentropy: 0.2730 - val_loss: 0.2726 - val_acc: 0.8053 - val_mean_squared_error: 0.0983 - val_mean_absolute_error: 0.1967 - val_binary_crossentropy: 0.2726\n",
      "Epoch 198/250\n",
      "124/124 [==============================] - 0s 2ms/step - loss: 0.2731 - acc: 0.7915 - mean_squared_error: 0.0986 - mean_absolute_error: 0.1969 - binary_crossentropy: 0.2731 - val_loss: 0.2726 - val_acc: 0.8091 - val_mean_squared_error: 0.0983 - val_mean_absolute_error: 0.1966 - val_binary_crossentropy: 0.2726\n",
      "Epoch 199/250\n",
      "124/124 [==============================] - 0s 2ms/step - loss: 0.2728 - acc: 0.7912 - mean_squared_error: 0.0984 - mean_absolute_error: 0.1968 - binary_crossentropy: 0.2728 - val_loss: 0.2727 - val_acc: 0.8069 - val_mean_squared_error: 0.0983 - val_mean_absolute_error: 0.1967 - val_binary_crossentropy: 0.2727\n",
      "Epoch 200/250\n",
      "124/124 [==============================] - 0s 2ms/step - loss: 0.2734 - acc: 0.7917 - mean_squared_error: 0.0987 - mean_absolute_error: 0.1970 - binary_crossentropy: 0.2734 - val_loss: 0.2726 - val_acc: 0.8109 - val_mean_squared_error: 0.0983 - val_mean_absolute_error: 0.1967 - val_binary_crossentropy: 0.2726\n",
      "Epoch 201/250\n"
     ]
    },
    {
     "name": "stdout",
     "output_type": "stream",
     "text": [
      "124/124 [==============================] - 0s 2ms/step - loss: 0.2731 - acc: 0.7930 - mean_squared_error: 0.0985 - mean_absolute_error: 0.1969 - binary_crossentropy: 0.2731 - val_loss: 0.2726 - val_acc: 0.8112 - val_mean_squared_error: 0.0983 - val_mean_absolute_error: 0.1966 - val_binary_crossentropy: 0.2726\n",
      "Epoch 202/250\n",
      "124/124 [==============================] - 0s 2ms/step - loss: 0.2727 - acc: 0.8026 - mean_squared_error: 0.0984 - mean_absolute_error: 0.1967 - binary_crossentropy: 0.2727 - val_loss: 0.2728 - val_acc: 0.7947 - val_mean_squared_error: 0.0984 - val_mean_absolute_error: 0.1967 - val_binary_crossentropy: 0.2728\n",
      "Epoch 203/250\n",
      "124/124 [==============================] - 0s 2ms/step - loss: 0.2730 - acc: 0.7809 - mean_squared_error: 0.0985 - mean_absolute_error: 0.1968 - binary_crossentropy: 0.2730 - val_loss: 0.2727 - val_acc: 0.8027 - val_mean_squared_error: 0.0983 - val_mean_absolute_error: 0.1967 - val_binary_crossentropy: 0.2727\n",
      "Epoch 204/250\n",
      "124/124 [==============================] - 0s 3ms/step - loss: 0.2730 - acc: 0.7969 - mean_squared_error: 0.0985 - mean_absolute_error: 0.1968 - binary_crossentropy: 0.2730 - val_loss: 0.2726 - val_acc: 0.8125 - val_mean_squared_error: 0.0983 - val_mean_absolute_error: 0.1966 - val_binary_crossentropy: 0.2726\n",
      "Epoch 205/250\n",
      "124/124 [==============================] - 0s 2ms/step - loss: 0.2732 - acc: 0.7734 - mean_squared_error: 0.0986 - mean_absolute_error: 0.1969 - binary_crossentropy: 0.2732 - val_loss: 0.2728 - val_acc: 0.8000 - val_mean_squared_error: 0.0983 - val_mean_absolute_error: 0.1968 - val_binary_crossentropy: 0.2728\n",
      "Epoch 206/250\n",
      "124/124 [==============================] - 0s 2ms/step - loss: 0.2730 - acc: 0.7912 - mean_squared_error: 0.0985 - mean_absolute_error: 0.1968 - binary_crossentropy: 0.2730 - val_loss: 0.2725 - val_acc: 0.8085 - val_mean_squared_error: 0.0982 - val_mean_absolute_error: 0.1966 - val_binary_crossentropy: 0.2725\n",
      "Epoch 207/250\n",
      "124/124 [==============================] - 0s 2ms/step - loss: 0.2735 - acc: 0.7626 - mean_squared_error: 0.0987 - mean_absolute_error: 0.1971 - binary_crossentropy: 0.2735 - val_loss: 0.2727 - val_acc: 0.8043 - val_mean_squared_error: 0.0983 - val_mean_absolute_error: 0.1968 - val_binary_crossentropy: 0.2727\n",
      "Epoch 208/250\n",
      "124/124 [==============================] - 0s 2ms/step - loss: 0.2729 - acc: 0.7904 - mean_squared_error: 0.0984 - mean_absolute_error: 0.1968 - binary_crossentropy: 0.2729 - val_loss: 0.2726 - val_acc: 0.8075 - val_mean_squared_error: 0.0983 - val_mean_absolute_error: 0.1967 - val_binary_crossentropy: 0.2726\n",
      "Epoch 209/250\n",
      "124/124 [==============================] - 0s 2ms/step - loss: 0.2728 - acc: 0.7903 - mean_squared_error: 0.0984 - mean_absolute_error: 0.1968 - binary_crossentropy: 0.2728 - val_loss: 0.2725 - val_acc: 0.8123 - val_mean_squared_error: 0.0983 - val_mean_absolute_error: 0.1966 - val_binary_crossentropy: 0.2725\n",
      "Epoch 210/250\n",
      "124/124 [==============================] - 0s 2ms/step - loss: 0.2729 - acc: 0.7924 - mean_squared_error: 0.0985 - mean_absolute_error: 0.1968 - binary_crossentropy: 0.2729 - val_loss: 0.2727 - val_acc: 0.8008 - val_mean_squared_error: 0.0983 - val_mean_absolute_error: 0.1967 - val_binary_crossentropy: 0.2727\n",
      "Epoch 211/250\n",
      "124/124 [==============================] - 0s 3ms/step - loss: 0.2729 - acc: 0.7990 - mean_squared_error: 0.0984 - mean_absolute_error: 0.1968 - binary_crossentropy: 0.2729 - val_loss: 0.2727 - val_acc: 0.7968 - val_mean_squared_error: 0.0984 - val_mean_absolute_error: 0.1967 - val_binary_crossentropy: 0.2727\n",
      "Epoch 212/250\n",
      "124/124 [==============================] - 0s 2ms/step - loss: 0.2734 - acc: 0.7991 - mean_squared_error: 0.0987 - mean_absolute_error: 0.1970 - binary_crossentropy: 0.2734 - val_loss: 0.2726 - val_acc: 0.8176 - val_mean_squared_error: 0.0983 - val_mean_absolute_error: 0.1966 - val_binary_crossentropy: 0.2726\n",
      "Epoch 213/250\n",
      "124/124 [==============================] - 0s 2ms/step - loss: 0.2727 - acc: 0.7962 - mean_squared_error: 0.0984 - mean_absolute_error: 0.1967 - binary_crossentropy: 0.2727 - val_loss: 0.2726 - val_acc: 0.8080 - val_mean_squared_error: 0.0983 - val_mean_absolute_error: 0.1967 - val_binary_crossentropy: 0.2726\n",
      "Epoch 214/250\n",
      "124/124 [==============================] - 0s 2ms/step - loss: 0.2728 - acc: 0.7996 - mean_squared_error: 0.0984 - mean_absolute_error: 0.1968 - binary_crossentropy: 0.2728 - val_loss: 0.2726 - val_acc: 0.8115 - val_mean_squared_error: 0.0983 - val_mean_absolute_error: 0.1967 - val_binary_crossentropy: 0.2726\n",
      "Epoch 215/250\n",
      "124/124 [==============================] - 0s 2ms/step - loss: 0.2731 - acc: 0.7753 - mean_squared_error: 0.0986 - mean_absolute_error: 0.1969 - binary_crossentropy: 0.2731 - val_loss: 0.2727 - val_acc: 0.7963 - val_mean_squared_error: 0.0984 - val_mean_absolute_error: 0.1967 - val_binary_crossentropy: 0.2727\n",
      "Epoch 216/250\n",
      "124/124 [==============================] - 0s 2ms/step - loss: 0.2729 - acc: 0.7937 - mean_squared_error: 0.0984 - mean_absolute_error: 0.1968 - binary_crossentropy: 0.2729 - val_loss: 0.2727 - val_acc: 0.7960 - val_mean_squared_error: 0.0984 - val_mean_absolute_error: 0.1967 - val_binary_crossentropy: 0.2727\n",
      "Epoch 217/250\n",
      "124/124 [==============================] - 0s 2ms/step - loss: 0.2727 - acc: 0.7976 - mean_squared_error: 0.0984 - mean_absolute_error: 0.1967 - binary_crossentropy: 0.2727 - val_loss: 0.2727 - val_acc: 0.7971 - val_mean_squared_error: 0.0984 - val_mean_absolute_error: 0.1967 - val_binary_crossentropy: 0.2727\n",
      "Epoch 218/250\n",
      "124/124 [==============================] - 0s 2ms/step - loss: 0.2730 - acc: 0.7875 - mean_squared_error: 0.0985 - mean_absolute_error: 0.1968 - binary_crossentropy: 0.2730 - val_loss: 0.2726 - val_acc: 0.8112 - val_mean_squared_error: 0.0983 - val_mean_absolute_error: 0.1967 - val_binary_crossentropy: 0.2726\n",
      "Epoch 219/250\n",
      "124/124 [==============================] - 0s 2ms/step - loss: 0.2729 - acc: 0.7972 - mean_squared_error: 0.0985 - mean_absolute_error: 0.1968 - binary_crossentropy: 0.2729 - val_loss: 0.2725 - val_acc: 0.8072 - val_mean_squared_error: 0.0983 - val_mean_absolute_error: 0.1966 - val_binary_crossentropy: 0.2725\n",
      "Epoch 220/250\n",
      "124/124 [==============================] - 0s 2ms/step - loss: 0.2733 - acc: 0.7658 - mean_squared_error: 0.0986 - mean_absolute_error: 0.1970 - binary_crossentropy: 0.2733 - val_loss: 0.2727 - val_acc: 0.7949 - val_mean_squared_error: 0.0984 - val_mean_absolute_error: 0.1967 - val_binary_crossentropy: 0.2727\n",
      "Epoch 221/250\n",
      "124/124 [==============================] - 0s 2ms/step - loss: 0.2730 - acc: 0.8003 - mean_squared_error: 0.0985 - mean_absolute_error: 0.1968 - binary_crossentropy: 0.2730 - val_loss: 0.2727 - val_acc: 0.8000 - val_mean_squared_error: 0.0984 - val_mean_absolute_error: 0.1967 - val_binary_crossentropy: 0.2727\n",
      "Epoch 222/250\n",
      "124/124 [==============================] - 0s 2ms/step - loss: 0.2729 - acc: 0.7920 - mean_squared_error: 0.0984 - mean_absolute_error: 0.1968 - binary_crossentropy: 0.2729 - val_loss: 0.2727 - val_acc: 0.7973 - val_mean_squared_error: 0.0983 - val_mean_absolute_error: 0.1967 - val_binary_crossentropy: 0.2727\n",
      "Epoch 223/250\n",
      "124/124 [==============================] - 0s 2ms/step - loss: 0.2728 - acc: 0.7906 - mean_squared_error: 0.0984 - mean_absolute_error: 0.1968 - binary_crossentropy: 0.2728 - val_loss: 0.2726 - val_acc: 0.8056 - val_mean_squared_error: 0.0983 - val_mean_absolute_error: 0.1967 - val_binary_crossentropy: 0.2726\n",
      "Epoch 224/250\n",
      "124/124 [==============================] - 0s 2ms/step - loss: 0.2735 - acc: 0.7903 - mean_squared_error: 0.0988 - mean_absolute_error: 0.1971 - binary_crossentropy: 0.2735 - val_loss: 0.2728 - val_acc: 0.7883 - val_mean_squared_error: 0.0984 - val_mean_absolute_error: 0.1968 - val_binary_crossentropy: 0.2728\n",
      "Epoch 225/250\n",
      "124/124 [==============================] - 0s 2ms/step - loss: 0.2730 - acc: 0.7922 - mean_squared_error: 0.0985 - mean_absolute_error: 0.1968 - binary_crossentropy: 0.2730 - val_loss: 0.2727 - val_acc: 0.7931 - val_mean_squared_error: 0.0984 - val_mean_absolute_error: 0.1967 - val_binary_crossentropy: 0.2727\n",
      "Epoch 226/250\n"
     ]
    },
    {
     "name": "stdout",
     "output_type": "stream",
     "text": [
      "124/124 [==============================] - 0s 2ms/step - loss: 0.2728 - acc: 0.7891 - mean_squared_error: 0.0984 - mean_absolute_error: 0.1967 - binary_crossentropy: 0.2728 - val_loss: 0.2727 - val_acc: 0.8075 - val_mean_squared_error: 0.0983 - val_mean_absolute_error: 0.1967 - val_binary_crossentropy: 0.2727\n",
      "Epoch 227/250\n",
      "124/124 [==============================] - 0s 2ms/step - loss: 0.2729 - acc: 0.7892 - mean_squared_error: 0.0984 - mean_absolute_error: 0.1968 - binary_crossentropy: 0.2729 - val_loss: 0.2726 - val_acc: 0.8040 - val_mean_squared_error: 0.0983 - val_mean_absolute_error: 0.1967 - val_binary_crossentropy: 0.2726\n",
      "Epoch 228/250\n",
      "124/124 [==============================] - 0s 2ms/step - loss: 0.2731 - acc: 0.8025 - mean_squared_error: 0.0985 - mean_absolute_error: 0.1969 - binary_crossentropy: 0.2731 - val_loss: 0.2726 - val_acc: 0.8152 - val_mean_squared_error: 0.0983 - val_mean_absolute_error: 0.1967 - val_binary_crossentropy: 0.2726\n",
      "Epoch 229/250\n",
      "124/124 [==============================] - 0s 2ms/step - loss: 0.2727 - acc: 0.7989 - mean_squared_error: 0.0984 - mean_absolute_error: 0.1967 - binary_crossentropy: 0.2727 - val_loss: 0.2726 - val_acc: 0.8043 - val_mean_squared_error: 0.0983 - val_mean_absolute_error: 0.1966 - val_binary_crossentropy: 0.2726\n",
      "Epoch 230/250\n",
      "124/124 [==============================] - 0s 2ms/step - loss: 0.2729 - acc: 0.7914 - mean_squared_error: 0.0985 - mean_absolute_error: 0.1968 - binary_crossentropy: 0.2729 - val_loss: 0.2725 - val_acc: 0.8115 - val_mean_squared_error: 0.0983 - val_mean_absolute_error: 0.1966 - val_binary_crossentropy: 0.2725\n",
      "Epoch 231/250\n",
      "124/124 [==============================] - 0s 2ms/step - loss: 0.2727 - acc: 0.8030 - mean_squared_error: 0.0984 - mean_absolute_error: 0.1967 - binary_crossentropy: 0.2727 - val_loss: 0.2727 - val_acc: 0.8125 - val_mean_squared_error: 0.0984 - val_mean_absolute_error: 0.1967 - val_binary_crossentropy: 0.2727\n",
      "Epoch 232/250\n",
      "124/124 [==============================] - 0s 2ms/step - loss: 0.2732 - acc: 0.8025 - mean_squared_error: 0.0986 - mean_absolute_error: 0.1970 - binary_crossentropy: 0.2732 - val_loss: 0.2727 - val_acc: 0.8091 - val_mean_squared_error: 0.0983 - val_mean_absolute_error: 0.1967 - val_binary_crossentropy: 0.2727\n",
      "Epoch 233/250\n",
      "124/124 [==============================] - 0s 2ms/step - loss: 0.2729 - acc: 0.8037 - mean_squared_error: 0.0985 - mean_absolute_error: 0.1968 - binary_crossentropy: 0.2729 - val_loss: 0.2726 - val_acc: 0.8117 - val_mean_squared_error: 0.0983 - val_mean_absolute_error: 0.1967 - val_binary_crossentropy: 0.2726\n",
      "Epoch 234/250\n",
      "124/124 [==============================] - 0s 2ms/step - loss: 0.2727 - acc: 0.7963 - mean_squared_error: 0.0984 - mean_absolute_error: 0.1967 - binary_crossentropy: 0.2727 - val_loss: 0.2727 - val_acc: 0.7963 - val_mean_squared_error: 0.0984 - val_mean_absolute_error: 0.1967 - val_binary_crossentropy: 0.2727\n",
      "Epoch 235/250\n",
      "124/124 [==============================] - 0s 2ms/step - loss: 0.2730 - acc: 0.7870 - mean_squared_error: 0.0985 - mean_absolute_error: 0.1969 - binary_crossentropy: 0.2730 - val_loss: 0.2728 - val_acc: 0.7981 - val_mean_squared_error: 0.0984 - val_mean_absolute_error: 0.1968 - val_binary_crossentropy: 0.2728\n",
      "Epoch 236/250\n",
      "124/124 [==============================] - 0s 2ms/step - loss: 0.2732 - acc: 0.7810 - mean_squared_error: 0.0986 - mean_absolute_error: 0.1969 - binary_crossentropy: 0.2732 - val_loss: 0.2728 - val_acc: 0.7944 - val_mean_squared_error: 0.0984 - val_mean_absolute_error: 0.1968 - val_binary_crossentropy: 0.2728\n",
      "Epoch 237/250\n",
      "124/124 [==============================] - 0s 2ms/step - loss: 0.2729 - acc: 0.8036 - mean_squared_error: 0.0984 - mean_absolute_error: 0.1968 - binary_crossentropy: 0.2729 - val_loss: 0.2726 - val_acc: 0.8301 - val_mean_squared_error: 0.0983 - val_mean_absolute_error: 0.1966 - val_binary_crossentropy: 0.2726\n",
      "Epoch 238/250\n",
      "124/124 [==============================] - 0s 2ms/step - loss: 0.2728 - acc: 0.7907 - mean_squared_error: 0.0984 - mean_absolute_error: 0.1968 - binary_crossentropy: 0.2728 - val_loss: 0.2726 - val_acc: 0.8141 - val_mean_squared_error: 0.0983 - val_mean_absolute_error: 0.1967 - val_binary_crossentropy: 0.2726\n",
      "Epoch 239/250\n",
      "124/124 [==============================] - 0s 2ms/step - loss: 0.2732 - acc: 0.7727 - mean_squared_error: 0.0986 - mean_absolute_error: 0.1969 - binary_crossentropy: 0.2732 - val_loss: 0.2728 - val_acc: 0.7971 - val_mean_squared_error: 0.0984 - val_mean_absolute_error: 0.1968 - val_binary_crossentropy: 0.2728\n",
      "Epoch 240/250\n",
      "124/124 [==============================] - 0s 2ms/step - loss: 0.2731 - acc: 0.7752 - mean_squared_error: 0.0985 - mean_absolute_error: 0.1969 - binary_crossentropy: 0.2731 - val_loss: 0.2727 - val_acc: 0.8011 - val_mean_squared_error: 0.0983 - val_mean_absolute_error: 0.1967 - val_binary_crossentropy: 0.2727\n",
      "Epoch 241/250\n",
      "124/124 [==============================] - 0s 2ms/step - loss: 0.2730 - acc: 0.8010 - mean_squared_error: 0.0985 - mean_absolute_error: 0.1968 - binary_crossentropy: 0.2730 - val_loss: 0.2726 - val_acc: 0.8123 - val_mean_squared_error: 0.0983 - val_mean_absolute_error: 0.1967 - val_binary_crossentropy: 0.2726\n",
      "Epoch 242/250\n",
      "124/124 [==============================] - 0s 2ms/step - loss: 0.2727 - acc: 0.8028 - mean_squared_error: 0.0983 - mean_absolute_error: 0.1967 - binary_crossentropy: 0.2727 - val_loss: 0.2726 - val_acc: 0.8117 - val_mean_squared_error: 0.0983 - val_mean_absolute_error: 0.1967 - val_binary_crossentropy: 0.2726\n",
      "Epoch 243/250\n",
      "124/124 [==============================] - 0s 2ms/step - loss: 0.2727 - acc: 0.7996 - mean_squared_error: 0.0984 - mean_absolute_error: 0.1967 - binary_crossentropy: 0.2727 - val_loss: 0.2726 - val_acc: 0.8059 - val_mean_squared_error: 0.0983 - val_mean_absolute_error: 0.1966 - val_binary_crossentropy: 0.2726\n",
      "Epoch 244/250\n",
      "124/124 [==============================] - 0s 2ms/step - loss: 0.2731 - acc: 0.7980 - mean_squared_error: 0.0985 - mean_absolute_error: 0.1969 - binary_crossentropy: 0.2731 - val_loss: 0.2727 - val_acc: 0.8051 - val_mean_squared_error: 0.0983 - val_mean_absolute_error: 0.1967 - val_binary_crossentropy: 0.2727\n",
      "Epoch 245/250\n",
      "124/124 [==============================] - 0s 2ms/step - loss: 0.2729 - acc: 0.8023 - mean_squared_error: 0.0984 - mean_absolute_error: 0.1968 - binary_crossentropy: 0.2729 - val_loss: 0.2727 - val_acc: 0.7957 - val_mean_squared_error: 0.0984 - val_mean_absolute_error: 0.1967 - val_binary_crossentropy: 0.2727\n",
      "Epoch 246/250\n",
      "124/124 [==============================] - 0s 2ms/step - loss: 0.2730 - acc: 0.7982 - mean_squared_error: 0.0985 - mean_absolute_error: 0.1968 - binary_crossentropy: 0.2730 - val_loss: 0.2727 - val_acc: 0.8091 - val_mean_squared_error: 0.0983 - val_mean_absolute_error: 0.1967 - val_binary_crossentropy: 0.2727\n",
      "Epoch 247/250\n",
      "124/124 [==============================] - 0s 2ms/step - loss: 0.2728 - acc: 0.7859 - mean_squared_error: 0.0984 - mean_absolute_error: 0.1968 - binary_crossentropy: 0.2728 - val_loss: 0.2726 - val_acc: 0.8115 - val_mean_squared_error: 0.0983 - val_mean_absolute_error: 0.1967 - val_binary_crossentropy: 0.2726\n",
      "Epoch 248/250\n",
      "124/124 [==============================] - 0s 2ms/step - loss: 0.2727 - acc: 0.8033 - mean_squared_error: 0.0984 - mean_absolute_error: 0.1967 - binary_crossentropy: 0.2727 - val_loss: 0.2726 - val_acc: 0.8077 - val_mean_squared_error: 0.0983 - val_mean_absolute_error: 0.1967 - val_binary_crossentropy: 0.2726\n",
      "Epoch 249/250\n",
      "124/124 [==============================] - 0s 2ms/step - loss: 0.2732 - acc: 0.7844 - mean_squared_error: 0.0986 - mean_absolute_error: 0.1970 - binary_crossentropy: 0.2732 - val_loss: 0.2728 - val_acc: 0.7955 - val_mean_squared_error: 0.0984 - val_mean_absolute_error: 0.1968 - val_binary_crossentropy: 0.2728\n",
      "Epoch 250/250\n",
      "124/124 [==============================] - 0s 2ms/step - loss: 0.2731 - acc: 0.8012 - mean_squared_error: 0.0985 - mean_absolute_error: 0.1969 - binary_crossentropy: 0.2731 - val_loss: 0.2727 - val_acc: 0.8067 - val_mean_squared_error: 0.0984 - val_mean_absolute_error: 0.1967 - val_binary_crossentropy: 0.2727\n"
     ]
    }
   ],
   "source": [
    "epochs = 250\n",
    "m = int(64*2 * 7/6)\n",
    "vs = 1/6\n",
    "shuffle = True\n",
    "callbacks = []\n",
    "callbacks = [TensorBoard(log_dir=config.tmp_log_dir)]\n",
    "# model.fit(x_train, y_train, epochs=epochs, batch_size=batch_size, callbacks=[TensorBoard(log_dir=config.tmp_log_dir)])\n",
    "history = vae.fit(x_train[:m], x_train[:m], epochs=epochs, batch_size=batch_size,\n",
    "          validation_split=vs, callbacks=callbacks, shuffle=shuffle)\n",
    "# history = vae.fit(x_train[:m], shuffle=False, epochs=epochs, batch_size=batch_size, validation_data=(x_test, None))"
   ]
  },
  {
   "cell_type": "code",
   "execution_count": 46,
   "metadata": {},
   "outputs": [
    {
     "data": {
      "text/plain": [
       "[<matplotlib.lines.Line2D at 0x11c390ba8>]"
      ]
     },
     "execution_count": 46,
     "metadata": {},
     "output_type": "execute_result"
    },
    {
     "data": {
      "image/png": "[encoded data removed]",
      "text/plain": [
       "<matplotlib.figure.Figure at 0x11ca85a90>"
      ]
     },
     "metadata": {},
     "output_type": "display_data"
    }
   ],
   "source": [
    "plt.plot(history.history['loss'])\n",
    "plt.plot(history.history['val_loss'])"
   ]
  },
  {
   "cell_type": "code",
   "execution_count": 47,
   "metadata": {},
   "outputs": [
    {
     "data": {
      "text/plain": [
       "[<matplotlib.lines.Line2D at 0x12009a0b8>]"
      ]
     },
     "execution_count": 47,
     "metadata": {},
     "output_type": "execute_result"
    },
    {
     "data": {
      "image/png": "[encoded data removed]",
      "text/plain": [
       "<matplotlib.figure.Figure at 0x12009a2e8>"
      ]
     },
     "metadata": {},
     "output_type": "display_data"
    }
   ],
   "source": [
    "plt.plot(history.history['acc'])\n",
    "plt.plot(history.history['val_acc'])"
   ]
  },
  {
   "cell_type": "code",
   "execution_count": 48,
   "metadata": {},
   "outputs": [
    {
     "data": {
      "text/plain": [
       "[<matplotlib.lines.Line2D at 0x120018a58>]"
      ]
     },
     "execution_count": 48,
     "metadata": {},
     "output_type": "execute_result"
    },
    {
     "data": {
      "image/png": "[encoded data removed]",
      "text/plain": [
       "<matplotlib.figure.Figure at 0x11ff56e10>"
      ]
     },
     "metadata": {},
     "output_type": "display_data"
    }
   ],
   "source": [
    "plt.plot(history.history['mean_absolute_error'])\n",
    "plt.plot(history.history['val_mean_absolute_error'])"
   ]
  },
  {
   "cell_type": "code",
   "execution_count": 34,
   "metadata": {
    "scrolled": true
   },
   "outputs": [],
   "source": [
    "# plot_model(vae, to_file='model.png')"
   ]
  },
  {
   "cell_type": "code",
   "execution_count": null,
   "metadata": {},
   "outputs": [],
   "source": []
  },
  {
   "cell_type": "code",
   "execution_count": null,
   "metadata": {},
   "outputs": [],
   "source": []
  },
  {
   "cell_type": "code",
   "execution_count": null,
   "metadata": {},
   "outputs": [],
   "source": []
  },
  {
   "cell_type": "code",
   "execution_count": null,
   "metadata": {},
   "outputs": [],
   "source": []
  },
  {
   "cell_type": "code",
   "execution_count": null,
   "metadata": {},
   "outputs": [],
   "source": []
  },
  {
   "cell_type": "code",
   "execution_count": null,
   "metadata": {},
   "outputs": [],
   "source": []
  },
  {
   "cell_type": "code",
   "execution_count": null,
   "metadata": {},
   "outputs": [],
   "source": []
  },
  {
   "cell_type": "code",
   "execution_count": null,
   "metadata": {},
   "outputs": [],
   "source": [
    "plt.plot(x_train[0,:100,:])"
   ]
  },
  {
   "cell_type": "code",
   "execution_count": null,
   "metadata": {},
   "outputs": [],
   "source": [
    "result.shape"
   ]
  },
  {
   "cell_type": "code",
   "execution_count": null,
   "metadata": {},
   "outputs": [],
   "source": [
    "n1 = 30\n",
    "i = 0\n",
    "plt.subplot(211)\n",
    "plt.plot(np.arange(n1), results[i][:n1])\n",
    "plt.plot([0.5] * n1) # midi.MIDI_NOISE_FLOOR\n",
    "plt.ylim(ymin=0, ymax=1)\n",
    "plt.subplot(212)\n",
    "\n",
    "plt.plot(np.arange(n1), x_train[i, :n1])\n",
    "plt.plot([0.5] * n1) # midi.MIDI_NOISE_FLOOR\n",
    "plt.ylim(ymin=0, ymax=1)"
   ]
  },
  {
   "cell_type": "code",
   "execution_count": null,
   "metadata": {},
   "outputs": [],
   "source": []
  },
  {
   "cell_type": "code",
   "execution_count": null,
   "metadata": {},
   "outputs": [],
   "source": []
  },
  {
   "cell_type": "code",
   "execution_count": null,
   "metadata": {},
   "outputs": [],
   "source": []
  },
  {
   "cell_type": "code",
   "execution_count": null,
   "metadata": {},
   "outputs": [],
   "source": [
    "mid = midi.decode_track(context, result)\n",
    "dn = config.dataset_dir\n",
    "# io.export_midifile(mid, dn + 'song_seq-seq.mid')"
   ]
  },
  {
   "cell_type": "code",
   "execution_count": null,
   "metadata": {},
   "outputs": [],
   "source": [
    "results = []\n",
    "latent_samples = []\n",
    "for seq in x_test[-2:]:\n",
    "    encoded = encode_sequence(np.stack([seq]))\n",
    "    latent_samples.append(encoded)\n",
    "    result = decode_sequence(encoded, encoder_model, decoder_model)\n",
    "    results.append(result)\n",
    "results[0].shape"
   ]
  },
  {
   "cell_type": "code",
   "execution_count": null,
   "metadata": {},
   "outputs": [],
   "source": [
    "len(encoded)"
   ]
  },
  {
   "cell_type": "code",
   "execution_count": null,
   "metadata": {},
   "outputs": [],
   "source": [
    "encoded[0].shape"
   ]
  },
  {
   "cell_type": "code",
   "execution_count": null,
   "metadata": {},
   "outputs": [],
   "source": [
    "plt.plot(encoded[0][0,:10])\n",
    "plt.plot(encoded[1][0,:10])"
   ]
  },
  {
   "cell_type": "code",
   "execution_count": null,
   "metadata": {},
   "outputs": [],
   "source": [
    "e = np.array(latent_samples)\n",
    "e.shape"
   ]
  },
  {
   "cell_type": "code",
   "execution_count": null,
   "metadata": {},
   "outputs": [],
   "source": [
    "# reduce dimensionality\n",
    "# e = e.reshape(e.shape[0],2,e.shape[-1])\n",
    "e.shape"
   ]
  },
  {
   "cell_type": "code",
   "execution_count": null,
   "metadata": {},
   "outputs": [],
   "source": [
    "e1.mean(axis=0).shape"
   ]
  },
  {
   "cell_type": "code",
   "execution_count": null,
   "metadata": {},
   "outputs": [],
   "source": [
    "# new = e.transpose().mean(axis=1).transpose()\n",
    "e1 = e[:,0] # state h\n",
    "e2 = e[:,1] # state c\n",
    "new = [e1.mean(axis=0), e2.mean(axis=0)]\n",
    "# new = [[e[:,i].mean(axis=0)] for i in [0,1]]\n",
    "plt.plot(new[0][0][:10])\n",
    "len(new)"
   ]
  },
  {
   "cell_type": "code",
   "execution_count": null,
   "metadata": {},
   "outputs": [],
   "source": [
    "e1.mean(axis=0).shape"
   ]
  },
  {
   "cell_type": "code",
   "execution_count": null,
   "metadata": {},
   "outputs": [],
   "source": [
    "l[0].shape"
   ]
  },
  {
   "cell_type": "code",
   "execution_count": null,
   "metadata": {},
   "outputs": [],
   "source": [
    "l = latent_samples[0]\n",
    "len(l) # latent_sample :: (x,1,64)"
   ]
  },
  {
   "cell_type": "code",
   "execution_count": null,
   "metadata": {},
   "outputs": [],
   "source": [
    "# new_ = decode_sequence(latent_samples[0], encoder_model, decoder_model)\n",
    "new_ = decode_sequence(new, encoder_model, decoder_model)"
   ]
  },
  {
   "cell_type": "code",
   "execution_count": null,
   "metadata": {},
   "outputs": [],
   "source": [
    "new_.shape"
   ]
  },
  {
   "cell_type": "code",
   "execution_count": null,
   "metadata": {},
   "outputs": [],
   "source": [
    "plt.plot(new_[:100])"
   ]
  },
  {
   "cell_type": "code",
   "execution_count": null,
   "metadata": {},
   "outputs": [],
   "source": [
    "plt.plot(results[0][:100])"
   ]
  },
  {
   "cell_type": "code",
   "execution_count": null,
   "metadata": {},
   "outputs": [],
   "source": [
    "# results[0]"
   ]
  },
  {
   "cell_type": "code",
   "execution_count": null,
   "metadata": {},
   "outputs": [],
   "source": [
    "mid_new = midi.decode_track(context, results[0])\n",
    "io.export_midifile(mid_new, config.export_dir + 'real_mid_new_lstm.mid')"
   ]
  },
  {
   "cell_type": "code",
   "execution_count": null,
   "metadata": {},
   "outputs": [],
   "source": []
  },
  {
   "cell_type": "code",
   "execution_count": null,
   "metadata": {},
   "outputs": [],
   "source": []
  },
  {
   "cell_type": "code",
   "execution_count": null,
   "metadata": {},
   "outputs": [],
   "source": []
  },
  {
   "cell_type": "code",
   "execution_count": null,
   "metadata": {},
   "outputs": [],
   "source": []
  },
  {
   "cell_type": "code",
   "execution_count": null,
   "metadata": {},
   "outputs": [],
   "source": []
  },
  {
   "cell_type": "code",
   "execution_count": null,
   "metadata": {},
   "outputs": [],
   "source": []
  },
  {
   "cell_type": "code",
   "execution_count": null,
   "metadata": {},
   "outputs": [],
   "source": []
  },
  {
   "cell_type": "code",
   "execution_count": null,
   "metadata": {},
   "outputs": [],
   "source": []
  },
  {
   "cell_type": "code",
   "execution_count": null,
   "metadata": {},
   "outputs": [],
   "source": []
  },
  {
   "cell_type": "code",
   "execution_count": null,
   "metadata": {},
   "outputs": [],
   "source": []
  },
  {
   "cell_type": "code",
   "execution_count": null,
   "metadata": {},
   "outputs": [],
   "source": []
  },
  {
   "cell_type": "code",
   "execution_count": null,
   "metadata": {},
   "outputs": [],
   "source": []
  },
  {
   "cell_type": "code",
   "execution_count": null,
   "metadata": {},
   "outputs": [],
   "source": [
    "x_test.shape"
   ]
  },
  {
   "cell_type": "code",
   "execution_count": null,
   "metadata": {},
   "outputs": [],
   "source": [
    "# x_test, y_test = gen_xy_sin_to_f(3, f=2)"
   ]
  },
  {
   "cell_type": "code",
   "execution_count": null,
   "metadata": {
    "scrolled": true
   },
   "outputs": [],
   "source": [
    "results = model.predict([x_test,x_test])\n",
    "results.shape"
   ]
  },
  {
   "cell_type": "code",
   "execution_count": null,
   "metadata": {},
   "outputs": [],
   "source": [
    "# the 'true' results\n",
    "i = 0\n",
    "selection = int(x_test.shape[1] * 1)\n",
    "full = np.concatenate([x_test[i,-selection:],y_test[i]])\n",
    "n3 = full.shape[0]\n",
    "plt.plot(np.arange(n3) / n3 * dt, full)"
   ]
  },
  {
   "cell_type": "code",
   "execution_count": null,
   "metadata": {},
   "outputs": [],
   "source": [
    "# predicted results\n",
    "i = 0\n",
    "full = np.concatenate([x_test[i,-selection:],results[i]])\n",
    "n3 = full.shape[0]\n",
    "plt.plot(np.arange(n3) / n3 * dt, full)"
   ]
  },
  {
   "cell_type": "code",
   "execution_count": null,
   "metadata": {},
   "outputs": [],
   "source": [
    "i = 2\n",
    "selection = int(x_test.shape[1] * 1)\n",
    "full = np.concatenate([x_test[i,-selection:],results[i]])\n",
    "n3 = full.shape[0]\n",
    "plt.plot(np.arange(n3) / n3 * dt, full)"
   ]
  },
  {
   "cell_type": "code",
   "execution_count": null,
   "metadata": {},
   "outputs": [],
   "source": [
    "i = 0\n",
    "selection = 1\n",
    "full = np.concatenate([x_test[i,-selection:],results[i]])\n",
    "n3 = full.shape[0]\n",
    "plt.plot(np.arange(n3) / n3 * dt, full)"
   ]
  },
  {
   "cell_type": "code",
   "execution_count": null,
   "metadata": {},
   "outputs": [],
   "source": []
  },
  {
   "cell_type": "code",
   "execution_count": null,
   "metadata": {},
   "outputs": [],
   "source": []
  },
  {
   "cell_type": "code",
   "execution_count": null,
   "metadata": {},
   "outputs": [],
   "source": []
  },
  {
   "cell_type": "code",
   "execution_count": null,
   "metadata": {},
   "outputs": [],
   "source": []
  },
  {
   "cell_type": "code",
   "execution_count": null,
   "metadata": {},
   "outputs": [],
   "source": []
  },
  {
   "cell_type": "code",
   "execution_count": null,
   "metadata": {},
   "outputs": [],
   "source": []
  }
 ],
 "metadata": {
  "kernelspec": {
   "display_name": "Python 3",
   "language": "python",
   "name": "python3"
  },
  "language_info": {
   "codemirror_mode": {
    "name": "ipython",
    "version": 3
   },
   "file_extension": ".py",
   "mimetype": "text/x-python",
   "name": "python",
   "nbconvert_exporter": "python",
   "pygments_lexer": "ipython3",
   "version": "3.6.4"
  }
 },
 "nbformat": 4,
 "nbformat_minor": 2
}
