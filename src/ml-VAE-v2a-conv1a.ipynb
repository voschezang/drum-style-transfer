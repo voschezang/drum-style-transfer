{
 "cells": [
  {
   "cell_type": "code",
   "execution_count": 1,
   "metadata": {},
   "outputs": [],
   "source": [
    "import config\n",
    "import os, numpy as np, pandas, sklearn, scipy.signal as signal\n",
    "import mido\n",
    "import matplotlib.pyplot as plt\n",
    "%matplotlib inline"
   ]
  },
  {
   "cell_type": "code",
   "execution_count": 2,
   "metadata": {},
   "outputs": [
    {
     "name": "stderr",
     "output_type": "stream",
     "text": [
      "/Library/Frameworks/Python.framework/Versions/3.6/lib/python3.6/site-packages/h5py/__init__.py:36: FutureWarning: Conversion of the second argument of issubdtype from `float` to `np.floating` is deprecated. In future, it will be treated as `np.float64 == np.dtype(float).type`.\n",
      "  from ._conv import register_converters as _register_converters\n",
      "Using TensorFlow backend.\n"
     ]
    }
   ],
   "source": [
    "## NN libs\n",
    "from sklearn.decomposition import PCA\n",
    "from sklearn import preprocessing\n",
    "from sklearn.preprocessing import RobustScaler\n",
    "import keras\n",
    "from keras import backend as K, metrics\n",
    "from keras.utils import to_categorical, plot_model\n",
    "from keras.layers import Input, Dense, Activation, Conv1D, Conv2D, Dropout, Flatten, Lambda\n",
    "from keras.layers import Conv2DTranspose, Reshape, MaxPooling2D, UpSampling2D, UpSampling1D, MaxPooling1D\n",
    "from keras.layers import LocallyConnected1D, LocallyConnected2D\n",
    "from keras.layers import Input, LSTM, RepeatVector\n",
    "from keras.models import Model\n",
    "from keras.callbacks import TensorBoard"
   ]
  },
  {
   "cell_type": "code",
   "execution_count": 3,
   "metadata": {},
   "outputs": [
    {
     "name": "stdout",
     "output_type": "stream",
     "text": [
      " Context :: namedtuple(\n",
      "[ max_t = float\n",
      ", dt = float\n",
      ", n_instances = int\n",
      ", note_length = int\n",
      ", bpm = float\n",
      ", tempo = float\n",
      ", ticks_per_beat = int\n",
      "]\n",
      "\n"
     ]
    }
   ],
   "source": [
    "# local libs\n",
    "import config, models, functions\n",
    "from data import data, midi, midi_generators as g\n",
    "from utils import io, models_io, utils"
   ]
  },
  {
   "cell_type": "code",
   "execution_count": 4,
   "metadata": {
    "scrolled": true
   },
   "outputs": [
    {
     "name": "stdout",
     "output_type": "stream",
     "text": [
      "Setting up params\n",
      "\n",
      "max min f 25.0 0.3333333333333333\n",
      " >> Context(max_t=3.0, dt=0.02, n_instances=150, note_length=0.03, bpm=120.0, tempo=500000, ticks_per_beat=480)\n",
      "Setting up params\n",
      "\n",
      "max min f 25.0 0.3333333333333333\n",
      " >> Context(max_t=3.0, dt=0.02, n_instances=150, note_length=0.03, bpm=120.0, tempo=500000, ticks_per_beat=480)\n",
      "Importing midi-data\n",
      "\n",
      "\u001b[92m [INFO] : \u001b[0m\n",
      " |  reading file: ../datasets/examples/01 16th Snare.mid\n",
      "\u001b[92m [INFO] : \u001b[0m\n",
      " |  reading file: ../datasets/examples/01 8th Cym.mid\n",
      "\n",
      "Encoding midi-data\n",
      " [<midi file '../datasets/examples/01 16th Snare.mid' type 0, 1 tracks, 182 messages>, <midi file '../datasets/examples/01 8th Cym.mid' type 0, 1 tracks, 68 messages>]\n",
      "> -> multi-track = False\n",
      "\u001b[91m [DEBUG] > \u001b[0m\n",
      " |>  to_array: msg.time > max_t; t, n\n",
      " |>  2.9531250000000004\n",
      " |>  150\n",
      "\u001b[91m [DEBUG] > \u001b[0m\n",
      " |>  to_array: msg.time > max_t; t, n\n",
      " |>  2.989583333333333\n",
      " |>  150\n"
     ]
    }
   ],
   "source": [
    "context = data.init()\n",
    "n = 2\n",
    "multiTrack = False\n",
    "context, x_train, labels = data.import_data(data.init(), n, multiTrack=multiTrack)"
   ]
  },
  {
   "cell_type": "code",
   "execution_count": 5,
   "metadata": {},
   "outputs": [
    {
     "name": "stdout",
     "output_type": "stream",
     "text": [
      "\u001b[91m [DEBUG] > \u001b[0m\n",
      " |>  to_array: msg.time > max_t; t, n\n",
      " |>  2.9531250000000027\n",
      " |>  150\n",
      "\u001b[91m [DEBUG] > \u001b[0m\n",
      " |>  to_array: msg.time > max_t; t, n\n",
      " |>  2.9625\n",
      " |>  150\n",
      "\u001b[91m [DEBUG] > \u001b[0m\n",
      " |>  to_array: msg.time > max_t; t, n\n",
      " |>  2.964583333333335\n",
      " |>  150\n",
      "\u001b[91m [DEBUG] > \u001b[0m\n",
      " |>  to_array: msg.time > max_t; t, n\n",
      " |>  2.9645833333333345\n",
      " |>  150\n",
      "\u001b[91m [DEBUG] > \u001b[0m\n",
      " |>  to_array: msg.time > max_t; t, n\n",
      " |>  2.957291666666666\n",
      " |>  150\n",
      "\u001b[91m [DEBUG] > \u001b[0m\n",
      " |>  to_array: msg.time > max_t; t, n\n",
      " |>  2.967708333333335\n",
      " |>  150\n",
      "\u001b[91m [DEBUG] > \u001b[0m\n",
      " |>  to_array: msg.time > max_t; t, n\n",
      " |>  2.9520833333333347\n",
      " |>  150\n",
      "\u001b[91m [DEBUG] > \u001b[0m\n",
      " |>  to_array: msg.time > max_t; t, n\n",
      " |>  2.955208333333333\n",
      " |>  150\n",
      "\u001b[91m [DEBUG] > \u001b[0m\n",
      " |>  to_array: msg.time > max_t; t, n\n",
      " |>  3.0104166666666696\n",
      " |>  150\n",
      "\u001b[91m [DEBUG] > \u001b[0m\n",
      " |>  to_array: msg.time > max_t; t, n\n",
      " |>  2.958333333333334\n",
      " |>  150\n",
      "\u001b[91m [DEBUG] > \u001b[0m\n",
      " |>  to_array: msg.time > max_t; t, n\n",
      " |>  2.957291666666669\n",
      " |>  150\n",
      "\u001b[91m [DEBUG] > \u001b[0m\n",
      " |>  to_array: msg.time > max_t; t, n\n",
      " |>  2.959375000000003\n",
      " |>  150\n",
      "\u001b[91m [DEBUG] > \u001b[0m\n",
      " |>  to_array: msg.time > max_t; t, n\n",
      " |>  2.9583333333333357\n",
      " |>  150\n",
      "\u001b[91m [DEBUG] > \u001b[0m\n",
      " |>  to_array: msg.time > max_t; t, n\n",
      " |>  2.950000000000001\n",
      " |>  150\n",
      "\u001b[91m [DEBUG] > \u001b[0m\n",
      " |>  to_array: msg.time > max_t; t, n\n",
      " |>  2.950000000000002\n",
      " |>  150\n",
      "\u001b[91m [DEBUG] > \u001b[0m\n",
      " |>  to_array: msg.time > max_t; t, n\n",
      " |>  2.9593750000000054\n",
      " |>  150\n",
      "\u001b[91m [DEBUG] > \u001b[0m\n",
      " |>  to_array: msg.time > max_t; t, n\n",
      " |>  2.9656250000000006\n",
      " |>  150\n",
      "\u001b[91m [DEBUG] > \u001b[0m\n",
      " |>  to_array: msg.time > max_t; t, n\n",
      " |>  2.9552083333333368\n",
      " |>  150\n",
      "\u001b[91m [DEBUG] > \u001b[0m\n",
      " |>  to_array: msg.time > max_t; t, n\n",
      " |>  2.957291666666667\n",
      " |>  150\n",
      "\u001b[91m [DEBUG] > \u001b[0m\n",
      " |>  to_array: msg.time > max_t; t, n\n",
      " |>  2.957291666666666\n",
      " |>  150\n",
      "\u001b[91m [DEBUG] > \u001b[0m\n",
      " |>  to_array: msg.time > max_t; t, n\n",
      " |>  2.9635416666666687\n",
      " |>  150\n",
      "\u001b[91m [DEBUG] > \u001b[0m\n",
      " |>  to_array: msg.time > max_t; t, n\n",
      " |>  2.958333333333335\n",
      " |>  150\n",
      "\u001b[91m [DEBUG] > \u001b[0m\n",
      " |>  to_array: msg.time > max_t; t, n\n",
      " |>  2.978125000000002\n",
      " |>  150\n",
      "\u001b[91m [DEBUG] > \u001b[0m\n",
      " |>  to_array: msg.time > max_t; t, n\n",
      " |>  2.9572916666666704\n",
      " |>  150\n",
      "\u001b[91m [DEBUG] > \u001b[0m\n",
      " |>  to_array: msg.time > max_t; t, n\n",
      " |>  2.95\n",
      " |>  150\n",
      "\u001b[91m [DEBUG] > \u001b[0m\n",
      " |>  to_array: msg.time > max_t; t, n\n",
      " |>  2.9531250000000018\n",
      " |>  150\n",
      "\u001b[91m [DEBUG] > \u001b[0m\n",
      " |>  to_array: msg.time > max_t; t, n\n",
      " |>  2.9510416666666686\n",
      " |>  150\n",
      "\u001b[91m [DEBUG] > \u001b[0m\n",
      " |>  to_array: msg.time > max_t; t, n\n",
      " |>  2.9645833333333336\n",
      " |>  150\n",
      "\u001b[91m [DEBUG] > \u001b[0m\n",
      " |>  to_array: msg.time > max_t; t, n\n",
      " |>  2.968750000000003\n",
      " |>  150\n",
      "\u001b[91m [DEBUG] > \u001b[0m\n",
      " |>  to_array: msg.time > max_t; t, n\n",
      " |>  2.951041666666668\n",
      " |>  150\n",
      "\u001b[91m [DEBUG] > \u001b[0m\n",
      " |>  to_array: msg.time > max_t; t, n\n",
      " |>  2.9562499999999985\n",
      " |>  150\n",
      "\u001b[91m [DEBUG] > \u001b[0m\n",
      " |>  to_array: msg.time > max_t; t, n\n",
      " |>  2.9510416666666686\n",
      " |>  150\n",
      "\u001b[91m [DEBUG] > \u001b[0m\n",
      " |>  to_array: msg.time > max_t; t, n\n",
      " |>  2.955208333333338\n",
      " |>  150\n",
      "\u001b[91m [DEBUG] > \u001b[0m\n",
      " |>  to_array: msg.time > max_t; t, n\n",
      " |>  2.953125000000001\n",
      " |>  150\n",
      "\u001b[91m [DEBUG] > \u001b[0m\n",
      " |>  to_array: msg.time > max_t; t, n\n",
      " |>  2.9531250000000036\n",
      " |>  150\n",
      "\u001b[91m [DEBUG] > \u001b[0m\n",
      " |>  to_array: msg.time > max_t; t, n\n",
      " |>  2.9604166666666694\n",
      " |>  150\n",
      "\u001b[91m [DEBUG] > \u001b[0m\n",
      " |>  to_array: msg.time > max_t; t, n\n",
      " |>  2.9708333333333368\n",
      " |>  150\n",
      "\u001b[91m [DEBUG] > \u001b[0m\n",
      " |>  to_array: msg.time > max_t; t, n\n",
      " |>  2.9510416666666694\n",
      " |>  150\n",
      "\u001b[91m [DEBUG] > \u001b[0m\n",
      " |>  to_array: msg.time > max_t; t, n\n",
      " |>  2.9520833333333334\n",
      " |>  150\n",
      "\u001b[91m [DEBUG] > \u001b[0m\n",
      " |>  to_array: msg.time > max_t; t, n\n",
      " |>  2.9635416666666674\n",
      " |>  150\n",
      "\u001b[91m [DEBUG] > \u001b[0m\n",
      " |>  to_array: msg.time > max_t; t, n\n",
      " |>  2.9541666666666693\n",
      " |>  150\n",
      "\u001b[91m [DEBUG] > \u001b[0m\n",
      " |>  to_array: msg.time > max_t; t, n\n",
      " |>  2.957291666666666\n",
      " |>  150\n",
      "\u001b[91m [DEBUG] > \u001b[0m\n",
      " |>  to_array: msg.time > max_t; t, n\n",
      " |>  2.977083333333334\n",
      " |>  150\n",
      "\u001b[91m [DEBUG] > \u001b[0m\n",
      " |>  to_array: msg.time > max_t; t, n\n",
      " |>  2.955208333333335\n",
      " |>  150\n",
      "\u001b[91m [DEBUG] > \u001b[0m\n",
      " |>  to_array: msg.time > max_t; t, n\n",
      " |>  2.985416666666667\n",
      " |>  150\n",
      "\u001b[91m [DEBUG] > \u001b[0m\n",
      " |>  to_array: msg.time > max_t; t, n\n",
      " |>  2.9500000000000015\n",
      " |>  150\n",
      "\u001b[91m [DEBUG] > \u001b[0m\n",
      " |>  to_array: msg.time > max_t; t, n\n",
      " |>  2.9677083333333343\n",
      " |>  150\n",
      "\u001b[91m [DEBUG] > \u001b[0m\n",
      " |>  to_array: msg.time > max_t; t, n\n",
      " |>  2.950000000000002\n",
      " |>  150\n",
      "\u001b[91m [DEBUG] > \u001b[0m\n",
      " |>  to_array: msg.time > max_t; t, n\n",
      " |>  2.9552083333333377\n",
      " |>  150\n",
      "\u001b[91m [DEBUG] > \u001b[0m\n",
      " |>  to_array: msg.time > max_t; t, n\n",
      " |>  2.971875000000003\n",
      " |>  150\n",
      "\u001b[91m [DEBUG] > \u001b[0m\n",
      " |>  to_array: msg.time > max_t; t, n\n",
      " |>  2.9802083333333353\n",
      " |>  150\n",
      "\u001b[91m [DEBUG] > \u001b[0m\n",
      " |>  to_array: msg.time > max_t; t, n\n",
      " |>  2.9677083333333325\n",
      " |>  150\n",
      "\u001b[91m [DEBUG] > \u001b[0m\n",
      " |>  to_array: msg.time > max_t; t, n\n",
      " |>  2.9739583333333344\n",
      " |>  150\n",
      "\u001b[91m [DEBUG] > \u001b[0m\n",
      " |>  to_array: msg.time > max_t; t, n\n",
      " |>  2.9552083333333337\n",
      " |>  150\n",
      "\u001b[91m [DEBUG] > \u001b[0m\n",
      " |>  to_array: msg.time > max_t; t, n\n",
      " |>  2.973958333333334\n",
      " |>  150\n",
      "\u001b[91m [DEBUG] > \u001b[0m\n",
      " |>  to_array: msg.time > max_t; t, n\n",
      " |>  2.954166666666669\n",
      " |>  150\n",
      "\u001b[91m [DEBUG] > \u001b[0m\n",
      " |>  to_array: msg.time > max_t; t, n\n",
      " |>  2.9593750000000005\n",
      " |>  150\n",
      "\u001b[91m [DEBUG] > \u001b[0m\n",
      " |>  to_array: msg.time > max_t; t, n\n",
      " |>  2.960416666666668\n",
      " |>  150\n",
      "\u001b[91m [DEBUG] > \u001b[0m\n",
      " |>  to_array: msg.time > max_t; t, n\n",
      " |>  2.9531250000000036\n",
      " |>  150\n",
      "\u001b[91m [DEBUG] > \u001b[0m\n",
      " |>  to_array: msg.time > max_t; t, n\n",
      " |>  2.9895833333333344\n",
      " |>  150\n",
      "\u001b[91m [DEBUG] > \u001b[0m\n",
      " |>  to_array: msg.time > max_t; t, n\n",
      " |>  2.961458333333337\n",
      " |>  150\n",
      "\u001b[91m [DEBUG] > \u001b[0m\n",
      " |>  to_array: msg.time > max_t; t, n\n",
      " |>  2.95625\n",
      " |>  150\n",
      "\u001b[91m [DEBUG] > \u001b[0m\n",
      " |>  to_array: msg.time > max_t; t, n\n",
      " |>  2.9562499999999994\n",
      " |>  150\n",
      "\u001b[91m [DEBUG] > \u001b[0m\n",
      " |>  to_array: msg.time > max_t; t, n\n",
      " |>  2.957291666666672\n",
      " |>  150\n",
      "\u001b[91m [DEBUG] > \u001b[0m\n",
      " |>  to_array: msg.time > max_t; t, n\n",
      " |>  2.951041666666668\n",
      " |>  150\n",
      "\u001b[91m [DEBUG] > \u001b[0m\n",
      " |>  to_array: msg.time > max_t; t, n\n",
      " |>  2.95625\n",
      " |>  150\n",
      "\u001b[91m [DEBUG] > \u001b[0m\n",
      " |>  to_array: msg.time > max_t; t, n\n",
      " |>  2.9614583333333337\n",
      " |>  150\n",
      "\u001b[91m [DEBUG] > \u001b[0m\n",
      " |>  to_array: msg.time > max_t; t, n\n",
      " |>  2.956250000000004\n",
      " |>  150\n",
      "\u001b[91m [DEBUG] > \u001b[0m\n",
      " |>  to_array: msg.time > max_t; t, n\n",
      " |>  2.958333333333336\n",
      " |>  150\n",
      "\u001b[91m [DEBUG] > \u001b[0m\n",
      " |>  to_array: msg.time > max_t; t, n\n",
      " |>  2.9510416666666655\n",
      " |>  150\n",
      "\u001b[91m [DEBUG] > \u001b[0m\n",
      " |>  to_array: msg.time > max_t; t, n\n",
      " |>  2.953125000000001\n",
      " |>  150\n",
      "\u001b[91m [DEBUG] > \u001b[0m\n",
      " |>  to_array: msg.time > max_t; t, n\n",
      " |>  2.9625000000000012\n",
      " |>  150\n",
      "\u001b[91m [DEBUG] > \u001b[0m\n",
      " |>  to_array: msg.time > max_t; t, n\n",
      " |>  2.997916666666669\n",
      " |>  150\n",
      "\u001b[91m [DEBUG] > \u001b[0m\n",
      " |>  to_array: msg.time > max_t; t, n\n",
      " |>  2.9864583333333354\n",
      " |>  150\n",
      "\u001b[91m [DEBUG] > \u001b[0m\n",
      " |>  to_array: msg.time > max_t; t, n\n",
      " |>  2.962500000000002\n",
      " |>  150\n",
      "\u001b[91m [DEBUG] > \u001b[0m\n",
      " |>  to_array: msg.time > max_t; t, n\n",
      " |>  2.9510416666666686\n",
      " |>  150\n",
      "\u001b[91m [DEBUG] > \u001b[0m\n",
      " |>  to_array: msg.time > max_t; t, n\n",
      " |>  2.954166666666667\n",
      " |>  150\n",
      "\u001b[91m [DEBUG] > \u001b[0m\n",
      " |>  to_array: msg.time > max_t; t, n\n",
      " |>  2.965625000000003\n",
      " |>  150\n",
      "\u001b[91m [DEBUG] > \u001b[0m\n",
      " |>  to_array: msg.time > max_t; t, n\n",
      " |>  2.953125000000003\n",
      " |>  150\n",
      "\u001b[91m [DEBUG] > \u001b[0m\n",
      " |>  to_array: msg.time > max_t; t, n\n",
      " |>  2.9531249999999996\n",
      " |>  150\n",
      "\u001b[91m [DEBUG] > \u001b[0m\n",
      " |>  to_array: msg.time > max_t; t, n\n",
      " |>  2.9531249999999996\n",
      " |>  150\n",
      "\u001b[91m [DEBUG] > \u001b[0m\n",
      " |>  to_array: msg.time > max_t; t, n\n",
      " |>  2.9552083333333328\n",
      " |>  150\n",
      "\u001b[91m [DEBUG] > \u001b[0m\n",
      " |>  to_array: msg.time > max_t; t, n\n",
      " |>  2.9770833333333346\n",
      " |>  150\n",
      "\u001b[91m [DEBUG] > \u001b[0m\n",
      " |>  to_array: msg.time > max_t; t, n\n",
      " |>  2.9531250000000013\n",
      " |>  150\n",
      "\u001b[91m [DEBUG] > \u001b[0m\n",
      " |>  to_array: msg.time > max_t; t, n\n",
      " |>  2.9614583333333346\n",
      " |>  150\n",
      "\u001b[91m [DEBUG] > \u001b[0m\n",
      " |>  to_array: msg.time > max_t; t, n\n",
      " |>  2.961458333333335\n",
      " |>  150\n",
      "\u001b[91m [DEBUG] > \u001b[0m\n",
      " |>  to_array: msg.time > max_t; t, n\n",
      " |>  2.9989583333333347\n",
      " |>  150\n",
      "\u001b[91m [DEBUG] > \u001b[0m\n",
      " |>  to_array: msg.time > max_t; t, n\n",
      " |>  2.964583333333336\n",
      " |>  150\n",
      "\u001b[91m [DEBUG] > \u001b[0m\n",
      " |>  to_array: msg.time > max_t; t, n\n",
      " |>  2.986458333333333\n",
      " |>  150\n",
      "\u001b[91m [DEBUG] > \u001b[0m\n",
      " |>  to_array: msg.time > max_t; t, n\n",
      " |>  2.9562500000000003\n",
      " |>  150\n",
      "\u001b[91m [DEBUG] > \u001b[0m\n",
      " |>  to_array: msg.time > max_t; t, n\n",
      " |>  2.9552083333333345\n",
      " |>  150\n",
      "\u001b[91m [DEBUG] > \u001b[0m\n",
      " |>  to_array: msg.time > max_t; t, n\n",
      " |>  2.9812500000000037\n",
      " |>  150\n"
     ]
    },
    {
     "name": "stdout",
     "output_type": "stream",
     "text": [
      "\u001b[91m [DEBUG] > \u001b[0m\n",
      " |>  to_array: msg.time > max_t; t, n\n",
      " |>  2.9614583333333346\n",
      " |>  150\n",
      "\u001b[91m [DEBUG] > \u001b[0m\n",
      " |>  to_array: msg.time > max_t; t, n\n",
      " |>  2.9760416666666694\n",
      " |>  150\n",
      "\u001b[91m [DEBUG] > \u001b[0m\n",
      " |>  to_array: msg.time > max_t; t, n\n",
      " |>  2.956250000000003\n",
      " |>  150\n",
      "\u001b[91m [DEBUG] > \u001b[0m\n",
      " |>  to_array: msg.time > max_t; t, n\n",
      " |>  2.9645833333333362\n",
      " |>  150\n",
      "\u001b[91m [DEBUG] > \u001b[0m\n",
      " |>  to_array: msg.time > max_t; t, n\n",
      " |>  2.983333333333335\n",
      " |>  150\n",
      "\u001b[91m [DEBUG] > \u001b[0m\n",
      " |>  to_array: msg.time > max_t; t, n\n",
      " |>  2.963541666666668\n",
      " |>  150\n",
      "\u001b[91m [DEBUG] > \u001b[0m\n",
      " |>  to_array: msg.time > max_t; t, n\n",
      " |>  2.9500000000000006\n",
      " |>  150\n",
      "\u001b[91m [DEBUG] > \u001b[0m\n",
      " |>  to_array: msg.time > max_t; t, n\n",
      " |>  2.953125000000002\n",
      " |>  150\n"
     ]
    }
   ],
   "source": [
    "n = 100\n",
    "min_f = 3\n",
    "max_f = 15\n",
    "# x_train = g.gen_data(context, n, max_f=max_f, min_f=min_f)\n",
    "x_train = g.gen_data_complex(context, n, max_f=max_f, min_f=min_f, multiTrack=multiTrack)\n",
    "y_train = x_train\n",
    "x_test = x_train[-10:]\n",
    "x_train = x_train[:-10]"
   ]
  },
  {
   "cell_type": "code",
   "execution_count": 6,
   "metadata": {},
   "outputs": [
    {
     "data": {
      "text/plain": [
       "(260, 150, 1)"
      ]
     },
     "execution_count": 6,
     "metadata": {},
     "output_type": "execute_result"
    }
   ],
   "source": [
    "x_train.shape"
   ]
  },
  {
   "cell_type": "code",
   "execution_count": 7,
   "metadata": {},
   "outputs": [
    {
     "data": {
      "text/plain": [
       "[<matplotlib.lines.Line2D at 0x11908bf98>]"
      ]
     },
     "execution_count": 7,
     "metadata": {},
     "output_type": "execute_result"
    },
    {
     "data": {
      "image/png": "[encoded data removed]",
      "text/plain": [
       "<matplotlib.figure.Figure at 0x1179548d0>"
      ]
     },
     "metadata": {},
     "output_type": "display_data"
    }
   ],
   "source": [
    "plt.plot(x_train[0,:60])\n",
    "plt.plot(x_train[1,:60])"
   ]
  },
  {
   "cell_type": "code",
   "execution_count": 52,
   "metadata": {},
   "outputs": [
    {
     "data": {
      "text/plain": [
       "[<matplotlib.lines.Line2D at 0x11bbceeb8>]"
      ]
     },
     "execution_count": 52,
     "metadata": {},
     "output_type": "execute_result"
    },
    {
     "data": {
      "image/png": "[encoded data removed]",
      "text/plain": [
       "<matplotlib.figure.Figure at 0x11ba13668>"
      ]
     },
     "metadata": {},
     "output_type": "display_data"
    }
   ],
   "source": [
    "# plt.plot(x_train[2,:60])\n",
    "plt.plot(x_train[3,:60])\n",
    "# plt.plot(x_train[4,:60])"
   ]
  },
  {
   "cell_type": "code",
   "execution_count": 43,
   "metadata": {},
   "outputs": [
    {
     "data": {
      "text/plain": [
       "(20, 1)"
      ]
     },
     "execution_count": 43,
     "metadata": {},
     "output_type": "execute_result"
    }
   ],
   "source": [
    "data = x_train[0,:20]\n",
    "data.shape"
   ]
  },
  {
   "cell_type": "code",
   "execution_count": 48,
   "metadata": {},
   "outputs": [
    {
     "data": {
      "text/plain": [
       "array([[0., 1., 1., 1., 1., 1., 1., 1., 1., 1., 1., 1., 1., 1., 1., 1.,\n",
       "        1., 1., 1., 1.]], dtype=float32)"
      ]
     },
     "execution_count": 48,
     "metadata": {},
     "output_type": "execute_result"
    }
   ],
   "source": [
    "data"
   ]
  },
  {
   "cell_type": "code",
   "execution_count": 47,
   "metadata": {},
   "outputs": [
    {
     "data": {
      "text/plain": [
       "<matplotlib.image.AxesImage at 0x11b849c50>"
      ]
     },
     "execution_count": 47,
     "metadata": {},
     "output_type": "execute_result"
    },
    {
     "data": {
      "image/png": "[encoded data removed]",
      "text/plain": [
       "<matplotlib.figure.Figure at 0x11bd0e550>"
      ]
     },
     "metadata": {},
     "output_type": "display_data"
    }
   ],
   "source": [
    "data = data.reshape((data.shape[1],data.shape[0]))\n",
    "# fig, ax = plt.subplots()\n",
    "plt.imshow(data, interpolation='nearest')\n",
    "plt.imshow(data, interpolation='nearest')\n",
    "# fig.canvas.set_window_title(name + '...')\n",
    "# fig.set_title(name)\n",
    "# fig.set_xlabel('Time [iterations]')\n",
    "# fig.set_ylabel('Score')"
   ]
  },
  {
   "cell_type": "code",
   "execution_count": 9,
   "metadata": {},
   "outputs": [
    {
     "data": {
      "text/plain": [
       "(260, 150, 1)"
      ]
     },
     "execution_count": 9,
     "metadata": {},
     "output_type": "execute_result"
    }
   ],
   "source": [
    "x_train.shape"
   ]
  },
  {
   "cell_type": "code",
   "execution_count": 10,
   "metadata": {},
   "outputs": [
    {
     "data": {
      "text/plain": [
       "(150, 1)"
      ]
     },
     "execution_count": 10,
     "metadata": {},
     "output_type": "execute_result"
    }
   ],
   "source": [
    "n_samples = x_train[0]\n",
    "input_shape = x_train.shape[1:] # shape of a single sample\n",
    "output_shape = y_train.shape[1:] # shape of a single sample\n",
    "# output_length = y_train.shape[1:][0]\n",
    "input_shape"
   ]
  },
  {
   "cell_type": "code",
   "execution_count": 11,
   "metadata": {},
   "outputs": [
    {
     "data": {
      "text/plain": [
       "(150, 1)"
      ]
     },
     "execution_count": 11,
     "metadata": {},
     "output_type": "execute_result"
    }
   ],
   "source": [
    "output_shape"
   ]
  },
  {
   "cell_type": "code",
   "execution_count": 12,
   "metadata": {},
   "outputs": [],
   "source": [
    "num_encoder_tokens = x_train.shape[-1]\n",
    "num_decoder_tokens = y_train.shape[-1]\n",
    "# latent_dim = 1"
   ]
  },
  {
   "cell_type": "code",
   "execution_count": 13,
   "metadata": {},
   "outputs": [
    {
     "data": {
      "text/plain": [
       "(150, 1)"
      ]
     },
     "execution_count": 13,
     "metadata": {},
     "output_type": "execute_result"
    }
   ],
   "source": [
    "input_shape\n",
    "# input_shape = (150,)\n",
    "input_shape"
   ]
  },
  {
   "cell_type": "code",
   "execution_count": 14,
   "metadata": {},
   "outputs": [],
   "source": [
    "batch_size = 32\n",
    "original_dim = 150\n",
    "latent_dim = 50\n",
    "intermediate_dim = 150\n",
    "epsilon_std = 1.0"
   ]
  },
  {
   "cell_type": "code",
   "execution_count": 15,
   "metadata": {},
   "outputs": [],
   "source": [
    "# TODO Batch Normalization"
   ]
  },
  {
   "cell_type": "code",
   "execution_count": 16,
   "metadata": {},
   "outputs": [],
   "source": [
    "def sampling(args, latent_dim, epsilon_std):\n",
    "    z_mean, z_log_var = args\n",
    "    # epsilon = K.random_normal(shape=(batch_size, latent_dim), mean=0., stddev=epsilon_std)\n",
    "    epsilon = K.random_normal(shape=(K.shape(z_mean)[0], latent_dim), mean=0., stddev=epsilon_std)\n",
    "    return z_mean + K.exp(z_log_var / 2) * epsilon"
   ]
  },
  {
   "cell_type": "code",
   "execution_count": 18,
   "metadata": {},
   "outputs": [],
   "source": [
    "k_reg = keras.regularizers.l2(1e-5)\n",
    "# b_reg = keras.regularizers.l1(0.01)\n",
    "a_reg = keras.regularizers.l1(1e-5)\n",
    "\n",
    "def encoder(latent_dim, input_shape, intermediate_dim = 150):\n",
    "    encoder_input = Input(shape=input_shape, name='encoder_input-')\n",
    "    h = encoder_input\n",
    "    # image_data_format = 'channels_last'   -   e.g. (28,28,3)\n",
    "    # naive assumption:\n",
    "    #   for drumkits no correlation between note_indices and occurrence at an timestep is assumed\n",
    "    #   (that is, p(E|C) is not significantly different from p(D|C))\n",
    "    #   - note that this _is_ the case for e.g. HH vs. OH\n",
    "    #     these often occur in the same register (between different drumkits)\n",
    "    #   - even with melodic/harmonic data, this assumption could help by reducing\n",
    "    #    (1) unwanted repetition (stuttering) of notes\n",
    "    #    (2) unwanted dissonance (caused by playing notes with an interval of a half step)\n",
    "    \n",
    "    timesteps = input_shape[-2]\n",
    "    notes = input_shape[-1]\n",
    "    \n",
    "    # Convolve & Pool\n",
    "#     h = Conv1D(16, kernel_size=2, strides=1, activation='relu', padding='same')(h)\n",
    "#     h = Conv1D(16, kernel_size=2, strides=1, activation='relu', padding='same')(h)\n",
    "#     h = MaxPooling1D(pool_size=2, strides=2, padding='same')(h)\n",
    "\n",
    "    h = Conv1D(32, kernel_size=2, strides=2, activation='relu', padding='same')(h)\n",
    "#     h = Conv1D(32, kernel_size=2, strides=1, activation='relu', padding='same')(h)\n",
    "    h = Conv1D(64, kernel_size=2, strides=1, activation='relu', padding='same')(h)\n",
    "#     h = MaxPooling1D(pool_size=2, strides=2, padding='same')(h)\n",
    "    \n",
    "#     h = Conv1D(64, kernel_size=2, strides=2, activation='relu', padding='same')(h)\n",
    "#     h = Conv1D(64, kernel_size=2, strides=1, activation='relu', padding='same')(h)\n",
    "#     h = MaxPooling1D(pool_size=2, strides=2, padding='same')(h)\n",
    "#     # 128 512\n",
    "\n",
    "    # Dense layers\n",
    "    h = Flatten()(h)\n",
    "    h = Dense(intermediate_dim, activation='relu')(h)\n",
    "#     h = Dense(intermediate_dim, activation='relu')(h)\n",
    "#     h = Dense(intermediate_dim, activation='relu')(h)    \n",
    "#     h = Dropout(0.1)(h) # uncomment when using larger batches\n",
    "#     h = Dense(intermediate_dim, activation='relu')(h)\n",
    "    # h = Dense(intermediate_dim, activation='relu', kernel_regularizer=k_reg, activity_regularizer=a_reg)(h)\n",
    "\n",
    "    # Z Mean, Variance\n",
    "    z_mean = Dense(latent_dim, name='z_mean')(h) # , activation='relu'\n",
    "    z_log_var = Dense(latent_dim, name='z_log_var')(h) # , activation='relu'\n",
    "    \n",
    "    encoder_output = [z_mean, z_log_var]\n",
    "    encoder_model = Model(encoder_input, encoder_output, name='encoder_model-')\n",
    "    return encoder_model, z_mean, z_log_var, encoder_input\n",
    "\n",
    "def z_(latent_dim, epsilon_std):\n",
    "    # sample z from a distribution defined by [input_mean, input_log_var]\n",
    "    # input :: [z_mean, z_log_var]\n",
    "    z_input = [Input(shape=(latent_dim,)), Input(shape=(latent_dim,))]\n",
    "    sampling_ = lambda args: sampling(args, latent_dim, epsilon_std)\n",
    "    z_output = Lambda(sampling_, name='z_sampler-')(z_input)\n",
    "    # z_output = Lambda(sampling_, output_shape=(latent_dim,), name='z_sampler-')(z_input)\n",
    "    z_model = Model(z_input, z_output, name='z_model-')\n",
    "    return z_model\n",
    "\n",
    "def decoder(latent_dim, output_shape, filters = 32):\n",
    "    z_input = Input(shape=(latent_dim,), name='decoder_input-')\n",
    "    h = z_input\n",
    "    # :output_shape = (timesteps, channels, channels) || (batches, filters, timesteps, channels)\n",
    "    # keras offers just Conv2DTranspose and not Conv1DTranspose\n",
    "    # - use 2D images during upsampling :: (timesteps, notes, channels) => (timesteps, notes, filters)\n",
    "    # - use 1D images to optimize reconstruction :: (timesteps, filters) => (timesteps, notes)\n",
    "    \n",
    "    # at the start of upsampling, the image-structure does not yet have to correspond to the goal structure \n",
    "    # ?TODO use y*y*y starting dims, may conv, and only then correct the structure (?)\n",
    "    \n",
    "    timesteps = output_shape[-2] # cols\n",
    "    notes = output_shape[-1] # rows\n",
    "    channels = 1 # rgb\n",
    "\n",
    "    # image_data_format = 'channels_last'\n",
    "    # goal shape: (timesteps, notes, channels)\n",
    "    # start with the 'reverse': lots of small imgs => few large img\n",
    "    m = 4 # multiplier for dims\n",
    "    output_shape = (channels, notes * m, timesteps)\n",
    "    p = 'valid'\n",
    "\n",
    "    # upsampling\n",
    "    h = Dense(np.prod(output_shape[-3:]), activation='relu')(h)\n",
    "    h = Reshape(output_shape[-3:])(h)\n",
    "    \n",
    "    # Convolve & Pool\n",
    "    # Note that the kernel windows do not yet correspond to 'temporal' features, but rather to just spatial features\n",
    "    k = (3,2) # (2,1) :: (timesteps, notes)\n",
    "    s = (1,3)\n",
    "    # TODO\n",
    "    s1 = (3,1)\n",
    "    s2 = (1,3)\n",
    "    s3 = 2\n",
    "    timesteps_ = int(timesteps / 2)\n",
    "    h = Conv2DTranspose(timesteps_, kernel_size=k, strides=3, activation='relu', padding=p)(h)\n",
    "    h = Conv2DTranspose(32, kernel_size=k, strides=3, activation='relu', padding=p)(h)\n",
    "#     h = Conv2DTranspose(32, kernel_size=k, strides=3, activation='relu', padding=p)(h)\n",
    "    h = Conv2DTranspose(16, kernel_size=k, strides=(3,1), activation='relu', padding=p)(h)\n",
    "    h = MaxPooling2D(pool_size=2, strides=2, padding='same')(h)\n",
    "\n",
    "#     h = Conv2DTranspose(32, kernel_size=k, strides=3, activation='relu', padding=p)(h)\n",
    "    h = Conv2DTranspose(16, kernel_size=k, strides=3, activation='relu', padding=p)(h)\n",
    "    # 'end' of upsampling\n",
    "    h = Conv2D(1, kernel_size=(1,2), strides=1, activation='relu', padding=p)(h)\n",
    "    dims = keras.backend.int_shape(h)[1:]\n",
    "    print('dims', dims)\n",
    "    h = Reshape(dims[0:2])(h)\n",
    "#     h = Conv1D(16, kernel_size=2, strides=1, activation='relu', padding=p)(h)\n",
    "    h = Conv1D(notes * m, kernel_size=2, strides=2, activation='relu', padding=p)(h)\n",
    "\n",
    "    \n",
    "    # Mean (output)\n",
    "#     h = Conv2D(1, kernel_size=1, strides=s, activation='sigmoid', padding='same')(h)\n",
    "    output_shape = (timesteps, notes)\n",
    "    h = Flatten()(h)\n",
    "    h = Dense(np.prod(output_shape), activation='sigmoid')(h)\n",
    "    output_shape = (timesteps, notes)\n",
    "    h = Reshape(output_shape)(h)\n",
    "    decoder_output = h\n",
    "    model = Model(inputs=z_input, outputs=decoder_output, name='decoder_model-')\n",
    "    return model"
   ]
  },
  {
   "cell_type": "code",
   "execution_count": 19,
   "metadata": {},
   "outputs": [
    {
     "name": "stdout",
     "output_type": "stream",
     "text": [
      "dims (42, 56, 1)\n",
      "__________________________________________________________________________________________________\n",
      "Layer (type)                    Output Shape         Param #     Connected to                     \n",
      "==================================================================================================\n",
      "encoder_input- (InputLayer)     (None, 150, 1)       0                                            \n",
      "__________________________________________________________________________________________________\n",
      "conv1d_1 (Conv1D)               (None, 75, 32)       96          encoder_input-[0][0]             \n",
      "__________________________________________________________________________________________________\n",
      "conv1d_2 (Conv1D)               (None, 75, 64)       4160        conv1d_1[0][0]                   \n",
      "__________________________________________________________________________________________________\n",
      "flatten_1 (Flatten)             (None, 4800)         0           conv1d_2[0][0]                   \n",
      "__________________________________________________________________________________________________\n",
      "dense_1 (Dense)                 (None, 150)          720150      flatten_1[0][0]                  \n",
      "__________________________________________________________________________________________________\n",
      "z_mean (Dense)                  (None, 50)           7550        dense_1[0][0]                    \n",
      "__________________________________________________________________________________________________\n",
      "z_log_var (Dense)               (None, 50)           7550        dense_1[0][0]                    \n",
      "==================================================================================================\n",
      "Total params: 739,506\n",
      "Trainable params: 739,506\n",
      "Non-trainable params: 0\n",
      "__________________________________________________________________________________________________\n",
      "__________________________________________________________________________________________________\n",
      "Layer (type)                    Output Shape         Param #     Connected to                     \n",
      "==================================================================================================\n",
      "input_1 (InputLayer)            (None, 50)           0                                            \n",
      "__________________________________________________________________________________________________\n",
      "input_2 (InputLayer)            (None, 50)           0                                            \n",
      "__________________________________________________________________________________________________\n",
      "z_sampler- (Lambda)             (None, 50)           0           input_1[0][0]                    \n",
      "                                                                 input_2[0][0]                    \n",
      "==================================================================================================\n",
      "Total params: 0\n",
      "Trainable params: 0\n",
      "Non-trainable params: 0\n",
      "__________________________________________________________________________________________________\n",
      "_________________________________________________________________\n",
      "Layer (type)                 Output Shape              Param #   \n",
      "=================================================================\n",
      "decoder_input- (InputLayer)  (None, 50)                0         \n",
      "_________________________________________________________________\n",
      "dense_2 (Dense)              (None, 600)               30600     \n",
      "_________________________________________________________________\n",
      "reshape_1 (Reshape)          (None, 1, 4, 150)         0         \n",
      "_________________________________________________________________\n",
      "conv2d_transpose_1 (Conv2DTr (None, 3, 12, 75)         67575     \n",
      "_________________________________________________________________\n",
      "conv2d_transpose_2 (Conv2DTr (None, 9, 36, 32)         14432     \n",
      "_________________________________________________________________\n",
      "conv2d_transpose_3 (Conv2DTr (None, 27, 37, 16)        3088      \n",
      "_________________________________________________________________\n",
      "max_pooling2d_1 (MaxPooling2 (None, 14, 19, 16)        0         \n",
      "_________________________________________________________________\n",
      "conv2d_transpose_4 (Conv2DTr (None, 42, 57, 16)        1552      \n",
      "_________________________________________________________________\n",
      "conv2d_1 (Conv2D)            (None, 42, 56, 1)         33        \n",
      "_________________________________________________________________\n",
      "reshape_2 (Reshape)          (None, 42, 56)            0         \n",
      "_________________________________________________________________\n",
      "conv1d_3 (Conv1D)            (None, 21, 4)             452       \n",
      "_________________________________________________________________\n",
      "flatten_2 (Flatten)          (None, 84)                0         \n",
      "_________________________________________________________________\n",
      "dense_3 (Dense)              (None, 150)               12750     \n",
      "_________________________________________________________________\n",
      "reshape_3 (Reshape)          (None, 150, 1)            0         \n",
      "=================================================================\n",
      "Total params: 130,482\n",
      "Trainable params: 130,482\n",
      "Non-trainable params: 0\n",
      "_________________________________________________________________\n"
     ]
    }
   ],
   "source": [
    "encoder_model, z_mean, z_log_var, encoder_input = encoder(latent_dim, input_shape)\n",
    "z_model = z_(latent_dim, epsilon_std)\n",
    "decoder_model = decoder(latent_dim, output_shape)\n",
    "\n",
    "\n",
    "encoder_model.summary()\n",
    "z_model.summary()\n",
    "decoder_model.summary()"
   ]
  },
  {
   "cell_type": "code",
   "execution_count": 20,
   "metadata": {},
   "outputs": [
    {
     "name": "stdout",
     "output_type": "stream",
     "text": [
      "__________________________________________________________________________________________________\n",
      "Layer (type)                    Output Shape         Param #     Connected to                     \n",
      "==================================================================================================\n",
      "encoder_input- (InputLayer)     (None, 150, 1)       0                                            \n",
      "__________________________________________________________________________________________________\n",
      "encoder_model- (Model)          [(None, 50), (None,  739506      encoder_input-[0][0]             \n",
      "__________________________________________________________________________________________________\n",
      "z_model- (Model)                (None, 50)           0           encoder_model-[1][0]             \n",
      "                                                                 encoder_model-[1][1]             \n",
      "__________________________________________________________________________________________________\n",
      "decoder_model- (Model)          (None, 150, 1)       130482      z_model-[1][0]                   \n",
      "==================================================================================================\n",
      "Total params: 869,988\n",
      "Trainable params: 869,988\n",
      "Non-trainable params: 0\n",
      "__________________________________________________________________________________________________\n"
     ]
    }
   ],
   "source": [
    "vae_input = Input(shape=input_shape)\n",
    "# vae_input = Input(shape=(150,1))\n",
    "vae_input = encoder_input # WHY ?\n",
    "vae_output = decoder_model(z_model(encoder_model(vae_input)))\n",
    "# vae_output = decoder_model(z)\n",
    "vae = Model(vae_input, vae_output)\n",
    "vae.summary()"
   ]
  },
  {
   "cell_type": "code",
   "execution_count": 21,
   "metadata": {},
   "outputs": [],
   "source": [
    "def vae_loss(y_true, y_pred, z_mean, z_log_var):\n",
    "    # img_rows * img_cols\n",
    "    # xent_loss = K.binary_crossentropy(K.flatten(y_true), K.flatten(y_pred))\n",
    "    xent_loss = K.binary_crossentropy(y_true, y_pred)\n",
    "    kl_loss = - 0.5 * K.mean(1 + z_log_var - K.square(z_mean) - K.exp(z_log_var), axis=-1)\n",
    "    # kl_loss = - 0.5 * K.sum(1 + K.flatten(z_log_var) - K.square(K.flatten(z_mean)) - K.exp(K.flatten(z_log_var)), axis=-1)\n",
    "    return xent_loss + kl_loss"
   ]
  },
  {
   "cell_type": "code",
   "execution_count": 22,
   "metadata": {},
   "outputs": [],
   "source": [
    "metrics = ['acc','mse','mae','binary_crossentropy']\n",
    "loss = lambda y_true, y_pred: vae_loss(y_true, y_pred, z_mean, z_log_var)\n",
    "optimizer = 'rmsprop' # adam adadelta rmsprop nadam\n",
    "# keras.optimizers.RMSprop(lr=0.001, rho=0.9, epsilon=None, decay=0.0)\n",
    "vae.compile(optimizer=optimizer, loss=loss, metrics=metrics)"
   ]
  },
  {
   "cell_type": "code",
   "execution_count": 23,
   "metadata": {},
   "outputs": [],
   "source": [
    "# vae.add_loss(vae_loss)\n",
    "# vae.compile(optimizer='rmsprop', metrics=['binary_accuracy','mae'])"
   ]
  },
  {
   "cell_type": "code",
   "execution_count": 24,
   "metadata": {},
   "outputs": [
    {
     "data": {
      "text/plain": [
       "(260, 150, 1)"
      ]
     },
     "execution_count": 24,
     "metadata": {},
     "output_type": "execute_result"
    }
   ],
   "source": [
    "# z_train = x_train\n",
    "# x_train = x_train.reshape(x_train.shape[0],np.prod(x_train.shape[1:]))\n",
    "x_train.shape"
   ]
  },
  {
   "cell_type": "code",
   "execution_count": 27,
   "metadata": {},
   "outputs": [],
   "source": [
    "# z_train = x_train\n",
    "# x = np.concatenate([x_train[0:2] for _ in range(1000)])\n",
    "# x.shape\n",
    "# x_train = x"
   ]
  },
  {
   "cell_type": "code",
   "execution_count": 28,
   "metadata": {
    "scrolled": true
   },
   "outputs": [
    {
     "name": "stdout",
     "output_type": "stream",
     "text": [
      "Train on 124 samples, validate on 25 samples\n",
      "Epoch 1/250\n",
      "124/124 [==============================] - 1s 5ms/step - loss: 0.7303 - acc: 0.5603 - mean_squared_error: 0.2492 - mean_absolute_error: 0.4991 - binary_crossentropy: 0.6915 - val_loss: 0.6945 - val_acc: 0.4992 - val_mean_squared_error: 0.2505 - val_mean_absolute_error: 0.5000 - val_binary_crossentropy: 0.6941\n",
      "Epoch 2/250\n",
      "124/124 [==============================] - 0s 3ms/step - loss: 0.6755 - acc: 0.6152 - mean_squared_error: 0.2411 - mean_absolute_error: 0.4885 - binary_crossentropy: 0.6752 - val_loss: 0.7147 - val_acc: 0.5091 - val_mean_squared_error: 0.2602 - val_mean_absolute_error: 0.4983 - val_binary_crossentropy: 0.7145\n",
      "Epoch 3/250\n",
      "124/124 [==============================] - 0s 3ms/step - loss: 0.6586 - acc: 0.6395 - mean_squared_error: 0.2329 - mean_absolute_error: 0.4728 - binary_crossentropy: 0.6585 - val_loss: 0.7592 - val_acc: 0.5168 - val_mean_squared_error: 0.2792 - val_mean_absolute_error: 0.4949 - val_binary_crossentropy: 0.7591\n",
      "Epoch 4/250\n",
      "124/124 [==============================] - 0s 4ms/step - loss: 0.6533 - acc: 0.6460 - mean_squared_error: 0.2300 - mean_absolute_error: 0.4544 - binary_crossentropy: 0.6532 - val_loss: 0.7176 - val_acc: 0.5189 - val_mean_squared_error: 0.2615 - val_mean_absolute_error: 0.4957 - val_binary_crossentropy: 0.7175\n",
      "Epoch 5/250\n",
      "124/124 [==============================] - 1s 5ms/step - loss: 0.6513 - acc: 0.6485 - mean_squared_error: 0.2292 - mean_absolute_error: 0.4564 - binary_crossentropy: 0.6512 - val_loss: 0.7111 - val_acc: 0.5189 - val_mean_squared_error: 0.2585 - val_mean_absolute_error: 0.4946 - val_binary_crossentropy: 0.7110\n",
      "Epoch 6/250\n",
      "124/124 [==============================] - 0s 2ms/step - loss: 0.6484 - acc: 0.6492 - mean_squared_error: 0.2279 - mean_absolute_error: 0.4602 - binary_crossentropy: 0.6482 - val_loss: 0.7257 - val_acc: 0.5219 - val_mean_squared_error: 0.2652 - val_mean_absolute_error: 0.4927 - val_binary_crossentropy: 0.7255\n",
      "Epoch 7/250\n",
      "124/124 [==============================] - 1s 4ms/step - loss: 0.6548 - acc: 0.6502 - mean_squared_error: 0.2304 - mean_absolute_error: 0.4521 - binary_crossentropy: 0.6545 - val_loss: 0.7172 - val_acc: 0.5219 - val_mean_squared_error: 0.2613 - val_mean_absolute_error: 0.4937 - val_binary_crossentropy: 0.7171\n",
      "Epoch 8/250\n",
      "124/124 [==============================] - 1s 5ms/step - loss: 0.6451 - acc: 0.6502 - mean_squared_error: 0.2263 - mean_absolute_error: 0.4573 - binary_crossentropy: 0.6448 - val_loss: 0.7308 - val_acc: 0.5219 - val_mean_squared_error: 0.2674 - val_mean_absolute_error: 0.4935 - val_binary_crossentropy: 0.7306\n",
      "Epoch 9/250\n",
      "124/124 [==============================] - 1s 5ms/step - loss: 0.6466 - acc: 0.6502 - mean_squared_error: 0.2268 - mean_absolute_error: 0.4508 - binary_crossentropy: 0.6461 - val_loss: 0.7270 - val_acc: 0.5219 - val_mean_squared_error: 0.2657 - val_mean_absolute_error: 0.4932 - val_binary_crossentropy: 0.7266\n",
      "Epoch 10/250\n",
      "124/124 [==============================] - 1s 5ms/step - loss: 0.6443 - acc: 0.6502 - mean_squared_error: 0.2258 - mean_absolute_error: 0.4532 - binary_crossentropy: 0.6438 - val_loss: 0.7360 - val_acc: 0.5219 - val_mean_squared_error: 0.2694 - val_mean_absolute_error: 0.4936 - val_binary_crossentropy: 0.7352\n",
      "Epoch 11/250\n",
      "124/124 [==============================] - 1s 5ms/step - loss: 0.6441 - acc: 0.6502 - mean_squared_error: 0.2256 - mean_absolute_error: 0.4501 - binary_crossentropy: 0.6432 - val_loss: 0.7242 - val_acc: 0.5219 - val_mean_squared_error: 0.2636 - val_mean_absolute_error: 0.4901 - val_binary_crossentropy: 0.7220\n",
      "Epoch 12/250\n",
      "124/124 [==============================] - 0s 4ms/step - loss: 0.6447 - acc: 0.6501 - mean_squared_error: 0.2256 - mean_absolute_error: 0.4473 - binary_crossentropy: 0.6433 - val_loss: 0.7182 - val_acc: 0.5219 - val_mean_squared_error: 0.2614 - val_mean_absolute_error: 0.4946 - val_binary_crossentropy: 0.7171\n",
      "Epoch 13/250\n",
      "124/124 [==============================] - 0s 3ms/step - loss: 0.6438 - acc: 0.6502 - mean_squared_error: 0.2253 - mean_absolute_error: 0.4528 - binary_crossentropy: 0.6425 - val_loss: 0.7226 - val_acc: 0.5219 - val_mean_squared_error: 0.2629 - val_mean_absolute_error: 0.4928 - val_binary_crossentropy: 0.7205\n",
      "Epoch 14/250\n",
      "124/124 [==============================] - 0s 4ms/step - loss: 0.6447 - acc: 0.6499 - mean_squared_error: 0.2255 - mean_absolute_error: 0.4521 - binary_crossentropy: 0.6428 - val_loss: 0.7293 - val_acc: 0.5219 - val_mean_squared_error: 0.2659 - val_mean_absolute_error: 0.4934 - val_binary_crossentropy: 0.7271\n",
      "Epoch 15/250\n",
      "124/124 [==============================] - 0s 3ms/step - loss: 0.6456 - acc: 0.6502 - mean_squared_error: 0.2255 - mean_absolute_error: 0.4502 - binary_crossentropy: 0.6429 - val_loss: 0.7290 - val_acc: 0.5219 - val_mean_squared_error: 0.2660 - val_mean_absolute_error: 0.4886 - val_binary_crossentropy: 0.7274\n",
      "Epoch 16/250\n",
      "124/124 [==============================] - 0s 3ms/step - loss: 0.6423 - acc: 0.6501 - mean_squared_error: 0.2240 - mean_absolute_error: 0.4470 - binary_crossentropy: 0.6396 - val_loss: 0.7306 - val_acc: 0.5219 - val_mean_squared_error: 0.2655 - val_mean_absolute_error: 0.4915 - val_binary_crossentropy: 0.7263\n",
      "Epoch 17/250\n",
      "124/124 [==============================] - 0s 3ms/step - loss: 0.6461 - acc: 0.6502 - mean_squared_error: 0.2247 - mean_absolute_error: 0.4478 - binary_crossentropy: 0.6413 - val_loss: 0.7315 - val_acc: 0.5219 - val_mean_squared_error: 0.2656 - val_mean_absolute_error: 0.4870 - val_binary_crossentropy: 0.7268\n",
      "Epoch 18/250\n",
      "124/124 [==============================] - 0s 3ms/step - loss: 0.6395 - acc: 0.6498 - mean_squared_error: 0.2218 - mean_absolute_error: 0.4425 - binary_crossentropy: 0.6342 - val_loss: 0.7266 - val_acc: 0.5219 - val_mean_squared_error: 0.2617 - val_mean_absolute_error: 0.4882 - val_binary_crossentropy: 0.7179\n",
      "Epoch 19/250\n",
      "124/124 [==============================] - 0s 3ms/step - loss: 0.6424 - acc: 0.6498 - mean_squared_error: 0.2215 - mean_absolute_error: 0.4360 - binary_crossentropy: 0.6338 - val_loss: 0.7256 - val_acc: 0.5219 - val_mean_squared_error: 0.2526 - val_mean_absolute_error: 0.4897 - val_binary_crossentropy: 0.6984\n",
      "Epoch 20/250\n",
      "124/124 [==============================] - 0s 3ms/step - loss: 0.6388 - acc: 0.6502 - mean_squared_error: 0.2183 - mean_absolute_error: 0.4425 - binary_crossentropy: 0.6266 - val_loss: 0.7210 - val_acc: 0.5216 - val_mean_squared_error: 0.2570 - val_mean_absolute_error: 0.4763 - val_binary_crossentropy: 0.7074\n",
      "Epoch 21/250\n",
      "124/124 [==============================] - 0s 3ms/step - loss: 0.6247 - acc: 0.6500 - mean_squared_error: 0.2115 - mean_absolute_error: 0.4232 - binary_crossentropy: 0.6098 - val_loss: 0.7224 - val_acc: 0.5192 - val_mean_squared_error: 0.2556 - val_mean_absolute_error: 0.4670 - val_binary_crossentropy: 0.7035\n",
      "Epoch 22/250\n",
      "124/124 [==============================] - 0s 3ms/step - loss: 0.6212 - acc: 0.6499 - mean_squared_error: 0.2079 - mean_absolute_error: 0.4107 - binary_crossentropy: 0.5999 - val_loss: 0.7113 - val_acc: 0.5192 - val_mean_squared_error: 0.2429 - val_mean_absolute_error: 0.4691 - val_binary_crossentropy: 0.6766\n",
      "Epoch 23/250\n",
      "124/124 [==============================] - 0s 4ms/step - loss: 0.6123 - acc: 0.6500 - mean_squared_error: 0.2026 - mean_absolute_error: 0.4058 - binary_crossentropy: 0.5894 - val_loss: 0.6919 - val_acc: 0.5195 - val_mean_squared_error: 0.2384 - val_mean_absolute_error: 0.4620 - val_binary_crossentropy: 0.6670\n",
      "Epoch 24/250\n",
      "124/124 [==============================] - 0s 4ms/step - loss: 0.6049 - acc: 0.6500 - mean_squared_error: 0.1993 - mean_absolute_error: 0.3986 - binary_crossentropy: 0.5815 - val_loss: 0.6720 - val_acc: 0.5203 - val_mean_squared_error: 0.2298 - val_mean_absolute_error: 0.4580 - val_binary_crossentropy: 0.6490\n",
      "Epoch 25/250\n",
      "124/124 [==============================] - 0s 3ms/step - loss: 0.6008 - acc: 0.6503 - mean_squared_error: 0.1988 - mean_absolute_error: 0.4001 - binary_crossentropy: 0.5794 - val_loss: 0.6687 - val_acc: 0.5200 - val_mean_squared_error: 0.2240 - val_mean_absolute_error: 0.4431 - val_binary_crossentropy: 0.6359\n",
      "Epoch 26/250\n"
     ]
    },
    {
     "name": "stdout",
     "output_type": "stream",
     "text": [
      "124/124 [==============================] - 0s 3ms/step - loss: 0.6128 - acc: 0.6501 - mean_squared_error: 0.2020 - mean_absolute_error: 0.4051 - binary_crossentropy: 0.5879 - val_loss: 0.6733 - val_acc: 0.5203 - val_mean_squared_error: 0.2238 - val_mean_absolute_error: 0.4377 - val_binary_crossentropy: 0.6390\n",
      "Epoch 27/250\n",
      "124/124 [==============================] - 0s 3ms/step - loss: 0.5958 - acc: 0.6513 - mean_squared_error: 0.1941 - mean_absolute_error: 0.3872 - binary_crossentropy: 0.5694 - val_loss: 0.6865 - val_acc: 0.5221 - val_mean_squared_error: 0.2344 - val_mean_absolute_error: 0.4520 - val_binary_crossentropy: 0.6605\n",
      "Epoch 28/250\n",
      "124/124 [==============================] - 0s 3ms/step - loss: 0.5989 - acc: 0.6547 - mean_squared_error: 0.1965 - mean_absolute_error: 0.3957 - binary_crossentropy: 0.5746 - val_loss: 0.7030 - val_acc: 0.5216 - val_mean_squared_error: 0.2360 - val_mean_absolute_error: 0.4374 - val_binary_crossentropy: 0.6728\n",
      "Epoch 29/250\n",
      "124/124 [==============================] - 0s 3ms/step - loss: 0.5958 - acc: 0.6599 - mean_squared_error: 0.1946 - mean_absolute_error: 0.3869 - binary_crossentropy: 0.5727 - val_loss: 0.6810 - val_acc: 0.5293 - val_mean_squared_error: 0.2320 - val_mean_absolute_error: 0.4590 - val_binary_crossentropy: 0.6537\n",
      "Epoch 30/250\n",
      "124/124 [==============================] - 0s 4ms/step - loss: 0.5933 - acc: 0.6655 - mean_squared_error: 0.1950 - mean_absolute_error: 0.3925 - binary_crossentropy: 0.5700 - val_loss: 0.6583 - val_acc: 0.5584 - val_mean_squared_error: 0.2229 - val_mean_absolute_error: 0.4337 - val_binary_crossentropy: 0.6331\n",
      "Epoch 31/250\n",
      "124/124 [==============================] - 1s 4ms/step - loss: 0.5914 - acc: 0.6721 - mean_squared_error: 0.1934 - mean_absolute_error: 0.3862 - binary_crossentropy: 0.5671 - val_loss: 0.6621 - val_acc: 0.5952 - val_mean_squared_error: 0.2219 - val_mean_absolute_error: 0.4487 - val_binary_crossentropy: 0.6319\n",
      "Epoch 32/250\n",
      "124/124 [==============================] - 0s 3ms/step - loss: 0.5925 - acc: 0.6803 - mean_squared_error: 0.1945 - mean_absolute_error: 0.3946 - binary_crossentropy: 0.5711 - val_loss: 0.6648 - val_acc: 0.5701 - val_mean_squared_error: 0.2258 - val_mean_absolute_error: 0.4418 - val_binary_crossentropy: 0.6400\n",
      "Epoch 33/250\n",
      "124/124 [==============================] - 0s 2ms/step - loss: 0.5945 - acc: 0.6880 - mean_squared_error: 0.1941 - mean_absolute_error: 0.3880 - binary_crossentropy: 0.5693 - val_loss: 0.6795 - val_acc: 0.5963 - val_mean_squared_error: 0.2271 - val_mean_absolute_error: 0.4280 - val_binary_crossentropy: 0.6517\n",
      "Epoch 34/250\n",
      "124/124 [==============================] - 0s 2ms/step - loss: 0.6019 - acc: 0.6918 - mean_squared_error: 0.1964 - mean_absolute_error: 0.3923 - binary_crossentropy: 0.5772 - val_loss: 0.6645 - val_acc: 0.5763 - val_mean_squared_error: 0.2248 - val_mean_absolute_error: 0.4357 - val_binary_crossentropy: 0.6402\n",
      "Epoch 35/250\n",
      "124/124 [==============================] - 0s 2ms/step - loss: 0.5933 - acc: 0.6868 - mean_squared_error: 0.1942 - mean_absolute_error: 0.3910 - binary_crossentropy: 0.5701 - val_loss: 0.6600 - val_acc: 0.5656 - val_mean_squared_error: 0.2231 - val_mean_absolute_error: 0.4430 - val_binary_crossentropy: 0.6362\n",
      "Epoch 36/250\n",
      "124/124 [==============================] - 0s 2ms/step - loss: 0.5852 - acc: 0.6903 - mean_squared_error: 0.1917 - mean_absolute_error: 0.3843 - binary_crossentropy: 0.5632 - val_loss: 0.6594 - val_acc: 0.6240 - val_mean_squared_error: 0.2232 - val_mean_absolute_error: 0.4458 - val_binary_crossentropy: 0.6356\n",
      "Epoch 37/250\n",
      "124/124 [==============================] - 0s 2ms/step - loss: 0.5944 - acc: 0.6975 - mean_squared_error: 0.1936 - mean_absolute_error: 0.3919 - binary_crossentropy: 0.5722 - val_loss: 0.6663 - val_acc: 0.5904 - val_mean_squared_error: 0.2292 - val_mean_absolute_error: 0.4323 - val_binary_crossentropy: 0.6487\n",
      "Epoch 38/250\n",
      "124/124 [==============================] - 0s 3ms/step - loss: 0.5891 - acc: 0.6851 - mean_squared_error: 0.1930 - mean_absolute_error: 0.3855 - binary_crossentropy: 0.5674 - val_loss: 0.6559 - val_acc: 0.6280 - val_mean_squared_error: 0.2230 - val_mean_absolute_error: 0.4339 - val_binary_crossentropy: 0.6347\n",
      "Epoch 39/250\n",
      "124/124 [==============================] - 0s 3ms/step - loss: 0.5991 - acc: 0.6866 - mean_squared_error: 0.1958 - mean_absolute_error: 0.3895 - binary_crossentropy: 0.5745 - val_loss: 0.6646 - val_acc: 0.6285 - val_mean_squared_error: 0.2217 - val_mean_absolute_error: 0.4474 - val_binary_crossentropy: 0.6319\n",
      "Epoch 40/250\n",
      "124/124 [==============================] - 0s 3ms/step - loss: 0.5813 - acc: 0.7102 - mean_squared_error: 0.1900 - mean_absolute_error: 0.3883 - binary_crossentropy: 0.5579 - val_loss: 0.6784 - val_acc: 0.5819 - val_mean_squared_error: 0.2332 - val_mean_absolute_error: 0.4411 - val_binary_crossentropy: 0.6583\n",
      "Epoch 41/250\n",
      "124/124 [==============================] - 0s 3ms/step - loss: 0.5911 - acc: 0.7064 - mean_squared_error: 0.1940 - mean_absolute_error: 0.3851 - binary_crossentropy: 0.5708 - val_loss: 0.6546 - val_acc: 0.6571 - val_mean_squared_error: 0.2205 - val_mean_absolute_error: 0.4434 - val_binary_crossentropy: 0.6310\n",
      "Epoch 42/250\n",
      "124/124 [==============================] - 0s 3ms/step - loss: 0.5925 - acc: 0.7031 - mean_squared_error: 0.1943 - mean_absolute_error: 0.3917 - binary_crossentropy: 0.5697 - val_loss: 0.6545 - val_acc: 0.6344 - val_mean_squared_error: 0.2215 - val_mean_absolute_error: 0.4358 - val_binary_crossentropy: 0.6303\n",
      "Epoch 43/250\n",
      "124/124 [==============================] - 0s 2ms/step - loss: 0.5856 - acc: 0.7057 - mean_squared_error: 0.1914 - mean_absolute_error: 0.3874 - binary_crossentropy: 0.5621 - val_loss: 0.6604 - val_acc: 0.6443 - val_mean_squared_error: 0.2239 - val_mean_absolute_error: 0.4280 - val_binary_crossentropy: 0.6386\n",
      "Epoch 44/250\n",
      "124/124 [==============================] - 0s 2ms/step - loss: 0.5892 - acc: 0.7070 - mean_squared_error: 0.1920 - mean_absolute_error: 0.3856 - binary_crossentropy: 0.5649 - val_loss: 0.6612 - val_acc: 0.5971 - val_mean_squared_error: 0.2246 - val_mean_absolute_error: 0.4317 - val_binary_crossentropy: 0.6406\n",
      "Epoch 45/250\n",
      "124/124 [==============================] - 0s 2ms/step - loss: 0.5876 - acc: 0.7077 - mean_squared_error: 0.1922 - mean_absolute_error: 0.3887 - binary_crossentropy: 0.5647 - val_loss: 0.7051 - val_acc: 0.6032 - val_mean_squared_error: 0.2415 - val_mean_absolute_error: 0.4334 - val_binary_crossentropy: 0.6830\n",
      "Epoch 46/250\n",
      "124/124 [==============================] - 0s 2ms/step - loss: 0.5946 - acc: 0.6887 - mean_squared_error: 0.1948 - mean_absolute_error: 0.3883 - binary_crossentropy: 0.5712 - val_loss: 0.6668 - val_acc: 0.6387 - val_mean_squared_error: 0.2271 - val_mean_absolute_error: 0.4495 - val_binary_crossentropy: 0.6462\n",
      "Epoch 47/250\n",
      "124/124 [==============================] - 0s 2ms/step - loss: 0.5881 - acc: 0.7054 - mean_squared_error: 0.1917 - mean_absolute_error: 0.3853 - binary_crossentropy: 0.5645 - val_loss: 0.6564 - val_acc: 0.6675 - val_mean_squared_error: 0.2196 - val_mean_absolute_error: 0.4446 - val_binary_crossentropy: 0.6289\n",
      "Epoch 48/250\n",
      "124/124 [==============================] - 0s 2ms/step - loss: 0.5859 - acc: 0.7035 - mean_squared_error: 0.1916 - mean_absolute_error: 0.3869 - binary_crossentropy: 0.5630 - val_loss: 0.6638 - val_acc: 0.6611 - val_mean_squared_error: 0.2223 - val_mean_absolute_error: 0.4317 - val_binary_crossentropy: 0.6377\n",
      "Epoch 49/250\n",
      "124/124 [==============================] - 0s 2ms/step - loss: 0.5849 - acc: 0.7041 - mean_squared_error: 0.1908 - mean_absolute_error: 0.3847 - binary_crossentropy: 0.5601 - val_loss: 0.6546 - val_acc: 0.6093 - val_mean_squared_error: 0.2215 - val_mean_absolute_error: 0.4373 - val_binary_crossentropy: 0.6327\n",
      "Epoch 50/250\n",
      "124/124 [==============================] - 0s 2ms/step - loss: 0.5971 - acc: 0.7182 - mean_squared_error: 0.1927 - mean_absolute_error: 0.3861 - binary_crossentropy: 0.5709 - val_loss: 0.6500 - val_acc: 0.6712 - val_mean_squared_error: 0.2179 - val_mean_absolute_error: 0.4283 - val_binary_crossentropy: 0.6318\n",
      "Epoch 51/250\n"
     ]
    },
    {
     "name": "stdout",
     "output_type": "stream",
     "text": [
      "124/124 [==============================] - 0s 3ms/step - loss: 0.5874 - acc: 0.7085 - mean_squared_error: 0.1914 - mean_absolute_error: 0.3872 - binary_crossentropy: 0.5628 - val_loss: 0.6467 - val_acc: 0.6637 - val_mean_squared_error: 0.2167 - val_mean_absolute_error: 0.4251 - val_binary_crossentropy: 0.6240\n",
      "Epoch 52/250\n",
      "124/124 [==============================] - 0s 2ms/step - loss: 0.5960 - acc: 0.6938 - mean_squared_error: 0.1938 - mean_absolute_error: 0.3886 - binary_crossentropy: 0.5705 - val_loss: 0.6487 - val_acc: 0.6771 - val_mean_squared_error: 0.2164 - val_mean_absolute_error: 0.4295 - val_binary_crossentropy: 0.6255\n",
      "Epoch 53/250\n",
      "124/124 [==============================] - 0s 4ms/step - loss: 0.5907 - acc: 0.7025 - mean_squared_error: 0.1913 - mean_absolute_error: 0.3862 - binary_crossentropy: 0.5662 - val_loss: 0.6556 - val_acc: 0.6237 - val_mean_squared_error: 0.2226 - val_mean_absolute_error: 0.4480 - val_binary_crossentropy: 0.6334\n",
      "Epoch 54/250\n",
      "124/124 [==============================] - 0s 2ms/step - loss: 0.5890 - acc: 0.7136 - mean_squared_error: 0.1922 - mean_absolute_error: 0.3869 - binary_crossentropy: 0.5648 - val_loss: 0.6807 - val_acc: 0.6269 - val_mean_squared_error: 0.2270 - val_mean_absolute_error: 0.4359 - val_binary_crossentropy: 0.6520\n",
      "Epoch 55/250\n",
      "124/124 [==============================] - 0s 2ms/step - loss: 0.5833 - acc: 0.7118 - mean_squared_error: 0.1895 - mean_absolute_error: 0.3809 - binary_crossentropy: 0.5568 - val_loss: 0.6483 - val_acc: 0.6464 - val_mean_squared_error: 0.2164 - val_mean_absolute_error: 0.4279 - val_binary_crossentropy: 0.6237\n",
      "Epoch 56/250\n",
      "124/124 [==============================] - 0s 2ms/step - loss: 0.5789 - acc: 0.7143 - mean_squared_error: 0.1888 - mean_absolute_error: 0.3805 - binary_crossentropy: 0.5580 - val_loss: 0.6703 - val_acc: 0.6125 - val_mean_squared_error: 0.2280 - val_mean_absolute_error: 0.4364 - val_binary_crossentropy: 0.6470\n",
      "Epoch 57/250\n",
      "124/124 [==============================] - 0s 2ms/step - loss: 0.5875 - acc: 0.7019 - mean_squared_error: 0.1922 - mean_absolute_error: 0.3849 - binary_crossentropy: 0.5638 - val_loss: 0.6491 - val_acc: 0.6477 - val_mean_squared_error: 0.2154 - val_mean_absolute_error: 0.4225 - val_binary_crossentropy: 0.6207\n",
      "Epoch 58/250\n",
      "124/124 [==============================] - 0s 3ms/step - loss: 0.5937 - acc: 0.7076 - mean_squared_error: 0.1917 - mean_absolute_error: 0.3875 - binary_crossentropy: 0.5664 - val_loss: 0.6639 - val_acc: 0.6229 - val_mean_squared_error: 0.2248 - val_mean_absolute_error: 0.4327 - val_binary_crossentropy: 0.6373\n",
      "Epoch 59/250\n",
      "124/124 [==============================] - 0s 2ms/step - loss: 0.5783 - acc: 0.7151 - mean_squared_error: 0.1874 - mean_absolute_error: 0.3784 - binary_crossentropy: 0.5522 - val_loss: 0.6445 - val_acc: 0.6643 - val_mean_squared_error: 0.2152 - val_mean_absolute_error: 0.4124 - val_binary_crossentropy: 0.6202\n",
      "Epoch 60/250\n",
      "124/124 [==============================] - 0s 3ms/step - loss: 0.5732 - acc: 0.7241 - mean_squared_error: 0.1865 - mean_absolute_error: 0.3726 - binary_crossentropy: 0.5530 - val_loss: 0.6325 - val_acc: 0.6800 - val_mean_squared_error: 0.2094 - val_mean_absolute_error: 0.4251 - val_binary_crossentropy: 0.6065\n",
      "Epoch 61/250\n",
      "124/124 [==============================] - 0s 3ms/step - loss: 0.5894 - acc: 0.7033 - mean_squared_error: 0.1914 - mean_absolute_error: 0.3877 - binary_crossentropy: 0.5653 - val_loss: 0.6471 - val_acc: 0.6659 - val_mean_squared_error: 0.2160 - val_mean_absolute_error: 0.4373 - val_binary_crossentropy: 0.6222\n",
      "Epoch 62/250\n",
      "124/124 [==============================] - 0s 2ms/step - loss: 0.5854 - acc: 0.7126 - mean_squared_error: 0.1898 - mean_absolute_error: 0.3844 - binary_crossentropy: 0.5618 - val_loss: 0.6731 - val_acc: 0.6584 - val_mean_squared_error: 0.2217 - val_mean_absolute_error: 0.4250 - val_binary_crossentropy: 0.6455\n",
      "Epoch 63/250\n",
      "124/124 [==============================] - 0s 2ms/step - loss: 0.5776 - acc: 0.7133 - mean_squared_error: 0.1865 - mean_absolute_error: 0.3768 - binary_crossentropy: 0.5525 - val_loss: 0.6521 - val_acc: 0.6277 - val_mean_squared_error: 0.2189 - val_mean_absolute_error: 0.4291 - val_binary_crossentropy: 0.6291\n",
      "Epoch 64/250\n",
      "124/124 [==============================] - 0s 2ms/step - loss: 0.5798 - acc: 0.7169 - mean_squared_error: 0.1874 - mean_absolute_error: 0.3744 - binary_crossentropy: 0.5558 - val_loss: 0.6352 - val_acc: 0.6859 - val_mean_squared_error: 0.2093 - val_mean_absolute_error: 0.4233 - val_binary_crossentropy: 0.6071\n",
      "Epoch 65/250\n",
      "124/124 [==============================] - 0s 3ms/step - loss: 0.5881 - acc: 0.6951 - mean_squared_error: 0.1921 - mean_absolute_error: 0.3850 - binary_crossentropy: 0.5640 - val_loss: 0.6421 - val_acc: 0.6829 - val_mean_squared_error: 0.2086 - val_mean_absolute_error: 0.4193 - val_binary_crossentropy: 0.6088\n",
      "Epoch 66/250\n",
      "124/124 [==============================] - 0s 3ms/step - loss: 0.5824 - acc: 0.7031 - mean_squared_error: 0.1871 - mean_absolute_error: 0.3767 - binary_crossentropy: 0.5514 - val_loss: 0.6610 - val_acc: 0.6837 - val_mean_squared_error: 0.2122 - val_mean_absolute_error: 0.3981 - val_binary_crossentropy: 0.6280\n",
      "Epoch 67/250\n",
      "124/124 [==============================] - 1s 6ms/step - loss: 0.5827 - acc: 0.7255 - mean_squared_error: 0.1870 - mean_absolute_error: 0.3697 - binary_crossentropy: 0.5553 - val_loss: 0.6415 - val_acc: 0.6901 - val_mean_squared_error: 0.2126 - val_mean_absolute_error: 0.4365 - val_binary_crossentropy: 0.6151\n",
      "Epoch 68/250\n",
      "124/124 [==============================] - 1s 6ms/step - loss: 0.5927 - acc: 0.7169 - mean_squared_error: 0.1902 - mean_absolute_error: 0.3809 - binary_crossentropy: 0.5662 - val_loss: 0.6477 - val_acc: 0.6837 - val_mean_squared_error: 0.2129 - val_mean_absolute_error: 0.4368 - val_binary_crossentropy: 0.6154\n",
      "Epoch 69/250\n",
      "124/124 [==============================] - 1s 4ms/step - loss: 0.5785 - acc: 0.7222 - mean_squared_error: 0.1869 - mean_absolute_error: 0.3848 - binary_crossentropy: 0.5536 - val_loss: 0.6364 - val_acc: 0.6608 - val_mean_squared_error: 0.2105 - val_mean_absolute_error: 0.4120 - val_binary_crossentropy: 0.6106\n",
      "Epoch 70/250\n",
      "124/124 [==============================] - 1s 4ms/step - loss: 0.5773 - acc: 0.7156 - mean_squared_error: 0.1859 - mean_absolute_error: 0.3722 - binary_crossentropy: 0.5529 - val_loss: 0.6477 - val_acc: 0.6560 - val_mean_squared_error: 0.2181 - val_mean_absolute_error: 0.4299 - val_binary_crossentropy: 0.6256\n",
      "Epoch 71/250\n",
      "124/124 [==============================] - 0s 4ms/step - loss: 0.5829 - acc: 0.7172 - mean_squared_error: 0.1884 - mean_absolute_error: 0.3740 - binary_crossentropy: 0.5590 - val_loss: 0.6462 - val_acc: 0.6600 - val_mean_squared_error: 0.2141 - val_mean_absolute_error: 0.4214 - val_binary_crossentropy: 0.6170\n",
      "Epoch 72/250\n",
      "124/124 [==============================] - 0s 3ms/step - loss: 0.5801 - acc: 0.7235 - mean_squared_error: 0.1859 - mean_absolute_error: 0.3765 - binary_crossentropy: 0.5536 - val_loss: 0.6425 - val_acc: 0.6755 - val_mean_squared_error: 0.2121 - val_mean_absolute_error: 0.4170 - val_binary_crossentropy: 0.6135\n",
      "Epoch 73/250\n",
      "124/124 [==============================] - 0s 2ms/step - loss: 0.5753 - acc: 0.7226 - mean_squared_error: 0.1847 - mean_absolute_error: 0.3712 - binary_crossentropy: 0.5498 - val_loss: 0.6546 - val_acc: 0.6701 - val_mean_squared_error: 0.2162 - val_mean_absolute_error: 0.4229 - val_binary_crossentropy: 0.6246\n",
      "Epoch 74/250\n",
      "124/124 [==============================] - 0s 2ms/step - loss: 0.5791 - acc: 0.7195 - mean_squared_error: 0.1860 - mean_absolute_error: 0.3741 - binary_crossentropy: 0.5514 - val_loss: 0.6471 - val_acc: 0.6675 - val_mean_squared_error: 0.2159 - val_mean_absolute_error: 0.4289 - val_binary_crossentropy: 0.6225\n",
      "Epoch 75/250\n",
      "124/124 [==============================] - 0s 2ms/step - loss: 0.5849 - acc: 0.7073 - mean_squared_error: 0.1889 - mean_absolute_error: 0.3740 - binary_crossentropy: 0.5578 - val_loss: 0.6582 - val_acc: 0.6539 - val_mean_squared_error: 0.2168 - val_mean_absolute_error: 0.4367 - val_binary_crossentropy: 0.6231\n",
      "Epoch 76/250\n"
     ]
    },
    {
     "name": "stdout",
     "output_type": "stream",
     "text": [
      "124/124 [==============================] - 0s 2ms/step - loss: 0.5897 - acc: 0.7183 - mean_squared_error: 0.1905 - mean_absolute_error: 0.3811 - binary_crossentropy: 0.5625 - val_loss: 0.6304 - val_acc: 0.7053 - val_mean_squared_error: 0.2020 - val_mean_absolute_error: 0.4150 - val_binary_crossentropy: 0.5921\n",
      "Epoch 77/250\n",
      "124/124 [==============================] - 0s 2ms/step - loss: 0.5843 - acc: 0.7137 - mean_squared_error: 0.1868 - mean_absolute_error: 0.3796 - binary_crossentropy: 0.5548 - val_loss: 0.6386 - val_acc: 0.6808 - val_mean_squared_error: 0.2058 - val_mean_absolute_error: 0.3997 - val_binary_crossentropy: 0.6006\n",
      "Epoch 78/250\n",
      "124/124 [==============================] - 0s 2ms/step - loss: 0.5756 - acc: 0.7173 - mean_squared_error: 0.1843 - mean_absolute_error: 0.3670 - binary_crossentropy: 0.5471 - val_loss: 0.6512 - val_acc: 0.6811 - val_mean_squared_error: 0.2097 - val_mean_absolute_error: 0.4189 - val_binary_crossentropy: 0.6107\n",
      "Epoch 79/250\n",
      "124/124 [==============================] - 0s 2ms/step - loss: 0.5816 - acc: 0.7230 - mean_squared_error: 0.1867 - mean_absolute_error: 0.3737 - binary_crossentropy: 0.5544 - val_loss: 0.6293 - val_acc: 0.7013 - val_mean_squared_error: 0.2030 - val_mean_absolute_error: 0.4134 - val_binary_crossentropy: 0.5944\n",
      "Epoch 80/250\n",
      "124/124 [==============================] - 0s 2ms/step - loss: 0.5722 - acc: 0.7243 - mean_squared_error: 0.1835 - mean_absolute_error: 0.3685 - binary_crossentropy: 0.5461 - val_loss: 0.6276 - val_acc: 0.7019 - val_mean_squared_error: 0.2043 - val_mean_absolute_error: 0.3978 - val_binary_crossentropy: 0.5996\n",
      "Epoch 81/250\n",
      "124/124 [==============================] - 0s 2ms/step - loss: 0.5827 - acc: 0.7141 - mean_squared_error: 0.1882 - mean_absolute_error: 0.3746 - binary_crossentropy: 0.5571 - val_loss: 0.6434 - val_acc: 0.6656 - val_mean_squared_error: 0.2099 - val_mean_absolute_error: 0.4220 - val_binary_crossentropy: 0.6072\n",
      "Epoch 82/250\n",
      "124/124 [==============================] - 0s 2ms/step - loss: 0.5685 - acc: 0.7359 - mean_squared_error: 0.1812 - mean_absolute_error: 0.3647 - binary_crossentropy: 0.5415 - val_loss: 0.6404 - val_acc: 0.6637 - val_mean_squared_error: 0.2116 - val_mean_absolute_error: 0.4178 - val_binary_crossentropy: 0.6116\n",
      "Epoch 83/250\n",
      "124/124 [==============================] - 0s 3ms/step - loss: 0.5798 - acc: 0.7216 - mean_squared_error: 0.1863 - mean_absolute_error: 0.3698 - binary_crossentropy: 0.5542 - val_loss: 0.6356 - val_acc: 0.6979 - val_mean_squared_error: 0.2058 - val_mean_absolute_error: 0.4224 - val_binary_crossentropy: 0.5996\n",
      "Epoch 84/250\n",
      "124/124 [==============================] - 0s 2ms/step - loss: 0.5816 - acc: 0.7224 - mean_squared_error: 0.1874 - mean_absolute_error: 0.3799 - binary_crossentropy: 0.5546 - val_loss: 0.6243 - val_acc: 0.7027 - val_mean_squared_error: 0.2052 - val_mean_absolute_error: 0.4089 - val_binary_crossentropy: 0.5991\n",
      "Epoch 85/250\n",
      "124/124 [==============================] - 0s 3ms/step - loss: 0.5828 - acc: 0.7140 - mean_squared_error: 0.1881 - mean_absolute_error: 0.3772 - binary_crossentropy: 0.5582 - val_loss: 0.6519 - val_acc: 0.6603 - val_mean_squared_error: 0.2154 - val_mean_absolute_error: 0.4220 - val_binary_crossentropy: 0.6190\n",
      "Epoch 86/250\n",
      "124/124 [==============================] - 0s 2ms/step - loss: 0.5796 - acc: 0.7223 - mean_squared_error: 0.1850 - mean_absolute_error: 0.3741 - binary_crossentropy: 0.5502 - val_loss: 0.6360 - val_acc: 0.7011 - val_mean_squared_error: 0.2029 - val_mean_absolute_error: 0.3915 - val_binary_crossentropy: 0.5956\n",
      "Epoch 87/250\n",
      "124/124 [==============================] - 0s 2ms/step - loss: 0.5789 - acc: 0.7225 - mean_squared_error: 0.1843 - mean_absolute_error: 0.3690 - binary_crossentropy: 0.5473 - val_loss: 0.6210 - val_acc: 0.7091 - val_mean_squared_error: 0.2010 - val_mean_absolute_error: 0.4002 - val_binary_crossentropy: 0.5888\n",
      "Epoch 88/250\n",
      "124/124 [==============================] - 0s 2ms/step - loss: 0.5752 - acc: 0.7267 - mean_squared_error: 0.1837 - mean_absolute_error: 0.3641 - binary_crossentropy: 0.5486 - val_loss: 0.6265 - val_acc: 0.6928 - val_mean_squared_error: 0.2051 - val_mean_absolute_error: 0.4109 - val_binary_crossentropy: 0.5968\n",
      "Epoch 89/250\n",
      "124/124 [==============================] - 0s 3ms/step - loss: 0.5702 - acc: 0.7233 - mean_squared_error: 0.1826 - mean_absolute_error: 0.3680 - binary_crossentropy: 0.5458 - val_loss: 0.6403 - val_acc: 0.6619 - val_mean_squared_error: 0.2135 - val_mean_absolute_error: 0.4160 - val_binary_crossentropy: 0.6154\n",
      "Epoch 90/250\n",
      "124/124 [==============================] - 0s 2ms/step - loss: 0.5760 - acc: 0.7176 - mean_squared_error: 0.1864 - mean_absolute_error: 0.3739 - binary_crossentropy: 0.5515 - val_loss: 0.6323 - val_acc: 0.6837 - val_mean_squared_error: 0.2050 - val_mean_absolute_error: 0.4134 - val_binary_crossentropy: 0.5966\n",
      "Epoch 91/250\n",
      "124/124 [==============================] - 0s 3ms/step - loss: 0.5801 - acc: 0.7263 - mean_squared_error: 0.1845 - mean_absolute_error: 0.3679 - binary_crossentropy: 0.5506 - val_loss: 0.6272 - val_acc: 0.6997 - val_mean_squared_error: 0.2024 - val_mean_absolute_error: 0.4174 - val_binary_crossentropy: 0.5920\n",
      "Epoch 92/250\n",
      "124/124 [==============================] - 0s 3ms/step - loss: 0.5822 - acc: 0.7202 - mean_squared_error: 0.1859 - mean_absolute_error: 0.3719 - binary_crossentropy: 0.5528 - val_loss: 0.6571 - val_acc: 0.6568 - val_mean_squared_error: 0.2182 - val_mean_absolute_error: 0.4259 - val_binary_crossentropy: 0.6262\n",
      "Epoch 93/250\n",
      "124/124 [==============================] - 0s 3ms/step - loss: 0.5676 - acc: 0.7330 - mean_squared_error: 0.1816 - mean_absolute_error: 0.3675 - binary_crossentropy: 0.5408 - val_loss: 0.6325 - val_acc: 0.6717 - val_mean_squared_error: 0.2080 - val_mean_absolute_error: 0.4071 - val_binary_crossentropy: 0.6038\n",
      "Epoch 94/250\n",
      "124/124 [==============================] - 0s 3ms/step - loss: 0.5826 - acc: 0.7197 - mean_squared_error: 0.1880 - mean_absolute_error: 0.3671 - binary_crossentropy: 0.5582 - val_loss: 0.6492 - val_acc: 0.6675 - val_mean_squared_error: 0.2132 - val_mean_absolute_error: 0.4278 - val_binary_crossentropy: 0.6150\n",
      "Epoch 95/250\n",
      "124/124 [==============================] - 0s 3ms/step - loss: 0.5696 - acc: 0.7240 - mean_squared_error: 0.1834 - mean_absolute_error: 0.3745 - binary_crossentropy: 0.5458 - val_loss: 0.6242 - val_acc: 0.6981 - val_mean_squared_error: 0.2039 - val_mean_absolute_error: 0.4058 - val_binary_crossentropy: 0.5948\n",
      "Epoch 96/250\n",
      "124/124 [==============================] - 0s 3ms/step - loss: 0.5917 - acc: 0.7137 - mean_squared_error: 0.1900 - mean_absolute_error: 0.3765 - binary_crossentropy: 0.5636 - val_loss: 0.6215 - val_acc: 0.7184 - val_mean_squared_error: 0.1993 - val_mean_absolute_error: 0.4031 - val_binary_crossentropy: 0.5853\n",
      "Epoch 97/250\n",
      "124/124 [==============================] - 0s 3ms/step - loss: 0.5744 - acc: 0.7252 - mean_squared_error: 0.1832 - mean_absolute_error: 0.3705 - binary_crossentropy: 0.5456 - val_loss: 0.6550 - val_acc: 0.6544 - val_mean_squared_error: 0.2181 - val_mean_absolute_error: 0.4263 - val_binary_crossentropy: 0.6264\n",
      "Epoch 98/250\n",
      "124/124 [==============================] - 1s 4ms/step - loss: 0.5740 - acc: 0.7192 - mean_squared_error: 0.1840 - mean_absolute_error: 0.3680 - binary_crossentropy: 0.5463 - val_loss: 0.6222 - val_acc: 0.7144 - val_mean_squared_error: 0.2007 - val_mean_absolute_error: 0.4071 - val_binary_crossentropy: 0.5886\n",
      "Epoch 99/250\n",
      "124/124 [==============================] - 0s 4ms/step - loss: 0.5766 - acc: 0.7328 - mean_squared_error: 0.1849 - mean_absolute_error: 0.3671 - binary_crossentropy: 0.5514 - val_loss: 0.6501 - val_acc: 0.6243 - val_mean_squared_error: 0.2167 - val_mean_absolute_error: 0.4295 - val_binary_crossentropy: 0.6194\n",
      "Epoch 100/250\n",
      "124/124 [==============================] - 1s 5ms/step - loss: 0.5800 - acc: 0.7170 - mean_squared_error: 0.1866 - mean_absolute_error: 0.3747 - binary_crossentropy: 0.5529 - val_loss: 0.6494 - val_acc: 0.6747 - val_mean_squared_error: 0.2119 - val_mean_absolute_error: 0.3991 - val_binary_crossentropy: 0.6177\n",
      "Epoch 101/250\n"
     ]
    },
    {
     "name": "stdout",
     "output_type": "stream",
     "text": [
      "124/124 [==============================] - 0s 4ms/step - loss: 0.5849 - acc: 0.7237 - mean_squared_error: 0.1868 - mean_absolute_error: 0.3742 - binary_crossentropy: 0.5544 - val_loss: 0.6592 - val_acc: 0.6293 - val_mean_squared_error: 0.2177 - val_mean_absolute_error: 0.4109 - val_binary_crossentropy: 0.6279\n",
      "Epoch 102/250\n",
      "124/124 [==============================] - 0s 3ms/step - loss: 0.5770 - acc: 0.7244 - mean_squared_error: 0.1854 - mean_absolute_error: 0.3688 - binary_crossentropy: 0.5505 - val_loss: 0.6688 - val_acc: 0.6555 - val_mean_squared_error: 0.2199 - val_mean_absolute_error: 0.4253 - val_binary_crossentropy: 0.6324\n",
      "Epoch 103/250\n",
      "124/124 [==============================] - 0s 3ms/step - loss: 0.5806 - acc: 0.7235 - mean_squared_error: 0.1863 - mean_absolute_error: 0.3715 - binary_crossentropy: 0.5520 - val_loss: 0.6371 - val_acc: 0.6861 - val_mean_squared_error: 0.2098 - val_mean_absolute_error: 0.4080 - val_binary_crossentropy: 0.6084\n",
      "Epoch 104/250\n",
      "124/124 [==============================] - 0s 3ms/step - loss: 0.5788 - acc: 0.7156 - mean_squared_error: 0.1856 - mean_absolute_error: 0.3735 - binary_crossentropy: 0.5514 - val_loss: 0.6416 - val_acc: 0.6925 - val_mean_squared_error: 0.2069 - val_mean_absolute_error: 0.3917 - val_binary_crossentropy: 0.6039\n",
      "Epoch 105/250\n",
      "124/124 [==============================] - 0s 3ms/step - loss: 0.5769 - acc: 0.7253 - mean_squared_error: 0.1844 - mean_absolute_error: 0.3663 - binary_crossentropy: 0.5483 - val_loss: 0.6335 - val_acc: 0.7064 - val_mean_squared_error: 0.2022 - val_mean_absolute_error: 0.4048 - val_binary_crossentropy: 0.5934\n",
      "Epoch 106/250\n",
      "124/124 [==============================] - 0s 3ms/step - loss: 0.5808 - acc: 0.7180 - mean_squared_error: 0.1860 - mean_absolute_error: 0.3697 - binary_crossentropy: 0.5518 - val_loss: 0.6329 - val_acc: 0.6888 - val_mean_squared_error: 0.2055 - val_mean_absolute_error: 0.4084 - val_binary_crossentropy: 0.5980\n",
      "Epoch 107/250\n",
      "124/124 [==============================] - 0s 2ms/step - loss: 0.5819 - acc: 0.7182 - mean_squared_error: 0.1858 - mean_absolute_error: 0.3695 - binary_crossentropy: 0.5515 - val_loss: 0.6380 - val_acc: 0.6957 - val_mean_squared_error: 0.2048 - val_mean_absolute_error: 0.4211 - val_binary_crossentropy: 0.5970\n",
      "Epoch 108/250\n",
      "124/124 [==============================] - 0s 3ms/step - loss: 0.5759 - acc: 0.7213 - mean_squared_error: 0.1835 - mean_absolute_error: 0.3718 - binary_crossentropy: 0.5460 - val_loss: 0.6546 - val_acc: 0.6629 - val_mean_squared_error: 0.2179 - val_mean_absolute_error: 0.4125 - val_binary_crossentropy: 0.6255\n",
      "Epoch 109/250\n",
      "124/124 [==============================] - 0s 3ms/step - loss: 0.5745 - acc: 0.7273 - mean_squared_error: 0.1843 - mean_absolute_error: 0.3713 - binary_crossentropy: 0.5493 - val_loss: 0.6530 - val_acc: 0.6533 - val_mean_squared_error: 0.2170 - val_mean_absolute_error: 0.4222 - val_binary_crossentropy: 0.6240\n",
      "Epoch 110/250\n",
      "124/124 [==============================] - 0s 3ms/step - loss: 0.5802 - acc: 0.7209 - mean_squared_error: 0.1870 - mean_absolute_error: 0.3731 - binary_crossentropy: 0.5545 - val_loss: 0.6476 - val_acc: 0.6733 - val_mean_squared_error: 0.2118 - val_mean_absolute_error: 0.4034 - val_binary_crossentropy: 0.6156\n",
      "Epoch 111/250\n",
      "124/124 [==============================] - 0s 3ms/step - loss: 0.5805 - acc: 0.7205 - mean_squared_error: 0.1859 - mean_absolute_error: 0.3720 - binary_crossentropy: 0.5519 - val_loss: 0.6302 - val_acc: 0.6864 - val_mean_squared_error: 0.2054 - val_mean_absolute_error: 0.3971 - val_binary_crossentropy: 0.6006\n",
      "Epoch 112/250\n",
      "124/124 [==============================] - 0s 3ms/step - loss: 0.5755 - acc: 0.7147 - mean_squared_error: 0.1842 - mean_absolute_error: 0.3667 - binary_crossentropy: 0.5470 - val_loss: 0.6232 - val_acc: 0.7107 - val_mean_squared_error: 0.1997 - val_mean_absolute_error: 0.3978 - val_binary_crossentropy: 0.5860\n",
      "Epoch 113/250\n",
      "124/124 [==============================] - 0s 3ms/step - loss: 0.5736 - acc: 0.7277 - mean_squared_error: 0.1828 - mean_absolute_error: 0.3649 - binary_crossentropy: 0.5453 - val_loss: 0.6605 - val_acc: 0.6640 - val_mean_squared_error: 0.2184 - val_mean_absolute_error: 0.4277 - val_binary_crossentropy: 0.6281\n",
      "Epoch 114/250\n",
      "124/124 [==============================] - 0s 3ms/step - loss: 0.5799 - acc: 0.7171 - mean_squared_error: 0.1861 - mean_absolute_error: 0.3727 - binary_crossentropy: 0.5505 - val_loss: 0.6245 - val_acc: 0.6995 - val_mean_squared_error: 0.2034 - val_mean_absolute_error: 0.4013 - val_binary_crossentropy: 0.5945\n",
      "Epoch 115/250\n",
      "124/124 [==============================] - 0s 3ms/step - loss: 0.5759 - acc: 0.7222 - mean_squared_error: 0.1839 - mean_absolute_error: 0.3674 - binary_crossentropy: 0.5480 - val_loss: 0.6492 - val_acc: 0.6773 - val_mean_squared_error: 0.2150 - val_mean_absolute_error: 0.4216 - val_binary_crossentropy: 0.6211\n",
      "Epoch 116/250\n",
      "124/124 [==============================] - 0s 3ms/step - loss: 0.5831 - acc: 0.7151 - mean_squared_error: 0.1875 - mean_absolute_error: 0.3714 - binary_crossentropy: 0.5549 - val_loss: 0.6223 - val_acc: 0.7083 - val_mean_squared_error: 0.2012 - val_mean_absolute_error: 0.4097 - val_binary_crossentropy: 0.5887\n",
      "Epoch 117/250\n",
      "124/124 [==============================] - 0s 3ms/step - loss: 0.5736 - acc: 0.7217 - mean_squared_error: 0.1831 - mean_absolute_error: 0.3694 - binary_crossentropy: 0.5446 - val_loss: 0.6338 - val_acc: 0.7037 - val_mean_squared_error: 0.2062 - val_mean_absolute_error: 0.4022 - val_binary_crossentropy: 0.6019\n",
      "Epoch 118/250\n",
      "124/124 [==============================] - 0s 3ms/step - loss: 0.5726 - acc: 0.7186 - mean_squared_error: 0.1842 - mean_absolute_error: 0.3680 - binary_crossentropy: 0.5460 - val_loss: 0.6633 - val_acc: 0.6437 - val_mean_squared_error: 0.2203 - val_mean_absolute_error: 0.4096 - val_binary_crossentropy: 0.6343\n",
      "Epoch 119/250\n",
      "124/124 [==============================] - 0s 4ms/step - loss: 0.5752 - acc: 0.7239 - mean_squared_error: 0.1850 - mean_absolute_error: 0.3688 - binary_crossentropy: 0.5495 - val_loss: 0.6185 - val_acc: 0.7155 - val_mean_squared_error: 0.2002 - val_mean_absolute_error: 0.3934 - val_binary_crossentropy: 0.5886\n",
      "Epoch 120/250\n",
      "124/124 [==============================] - 0s 3ms/step - loss: 0.5763 - acc: 0.7271 - mean_squared_error: 0.1843 - mean_absolute_error: 0.3693 - binary_crossentropy: 0.5491 - val_loss: 0.6339 - val_acc: 0.6901 - val_mean_squared_error: 0.2044 - val_mean_absolute_error: 0.4082 - val_binary_crossentropy: 0.5961\n",
      "Epoch 121/250\n",
      "124/124 [==============================] - 0s 3ms/step - loss: 0.5860 - acc: 0.7154 - mean_squared_error: 0.1863 - mean_absolute_error: 0.3682 - binary_crossentropy: 0.5541 - val_loss: 0.6459 - val_acc: 0.6848 - val_mean_squared_error: 0.2079 - val_mean_absolute_error: 0.4089 - val_binary_crossentropy: 0.6036\n",
      "Epoch 122/250\n",
      "124/124 [==============================] - 0s 3ms/step - loss: 0.5741 - acc: 0.7220 - mean_squared_error: 0.1831 - mean_absolute_error: 0.3694 - binary_crossentropy: 0.5448 - val_loss: 0.6289 - val_acc: 0.6904 - val_mean_squared_error: 0.2042 - val_mean_absolute_error: 0.4019 - val_binary_crossentropy: 0.5943\n",
      "Epoch 123/250\n",
      "124/124 [==============================] - 0s 3ms/step - loss: 0.5685 - acc: 0.7273 - mean_squared_error: 0.1814 - mean_absolute_error: 0.3674 - binary_crossentropy: 0.5399 - val_loss: 0.6576 - val_acc: 0.6675 - val_mean_squared_error: 0.2181 - val_mean_absolute_error: 0.4247 - val_binary_crossentropy: 0.6283\n",
      "Epoch 124/250\n",
      "124/124 [==============================] - 0s 4ms/step - loss: 0.5663 - acc: 0.7167 - mean_squared_error: 0.1821 - mean_absolute_error: 0.3642 - binary_crossentropy: 0.5400 - val_loss: 0.6626 - val_acc: 0.6776 - val_mean_squared_error: 0.2165 - val_mean_absolute_error: 0.4068 - val_binary_crossentropy: 0.6272\n",
      "Epoch 125/250\n",
      "124/124 [==============================] - 0s 4ms/step - loss: 0.5705 - acc: 0.7220 - mean_squared_error: 0.1836 - mean_absolute_error: 0.3616 - binary_crossentropy: 0.5444 - val_loss: 0.6346 - val_acc: 0.6520 - val_mean_squared_error: 0.2113 - val_mean_absolute_error: 0.4230 - val_binary_crossentropy: 0.6091\n",
      "Epoch 126/250\n"
     ]
    },
    {
     "name": "stdout",
     "output_type": "stream",
     "text": [
      "124/124 [==============================] - 0s 3ms/step - loss: 0.5762 - acc: 0.7111 - mean_squared_error: 0.1854 - mean_absolute_error: 0.3685 - binary_crossentropy: 0.5497 - val_loss: 0.6449 - val_acc: 0.6981 - val_mean_squared_error: 0.2091 - val_mean_absolute_error: 0.4204 - val_binary_crossentropy: 0.6072\n",
      "Epoch 127/250\n",
      "124/124 [==============================] - 0s 3ms/step - loss: 0.5804 - acc: 0.7208 - mean_squared_error: 0.1858 - mean_absolute_error: 0.3781 - binary_crossentropy: 0.5525 - val_loss: 0.6682 - val_acc: 0.6451 - val_mean_squared_error: 0.2212 - val_mean_absolute_error: 0.4146 - val_binary_crossentropy: 0.6355\n",
      "Epoch 128/250\n",
      "124/124 [==============================] - 0s 3ms/step - loss: 0.5887 - acc: 0.7196 - mean_squared_error: 0.1876 - mean_absolute_error: 0.3715 - binary_crossentropy: 0.5594 - val_loss: 0.6317 - val_acc: 0.7032 - val_mean_squared_error: 0.2020 - val_mean_absolute_error: 0.3951 - val_binary_crossentropy: 0.5945\n",
      "Epoch 129/250\n",
      "124/124 [==============================] - 0s 3ms/step - loss: 0.5832 - acc: 0.7250 - mean_squared_error: 0.1853 - mean_absolute_error: 0.3681 - binary_crossentropy: 0.5510 - val_loss: 0.6361 - val_acc: 0.6901 - val_mean_squared_error: 0.2060 - val_mean_absolute_error: 0.4133 - val_binary_crossentropy: 0.5996\n",
      "Epoch 130/250\n",
      "124/124 [==============================] - 0s 3ms/step - loss: 0.5709 - acc: 0.7266 - mean_squared_error: 0.1819 - mean_absolute_error: 0.3663 - binary_crossentropy: 0.5420 - val_loss: 0.6286 - val_acc: 0.6899 - val_mean_squared_error: 0.2063 - val_mean_absolute_error: 0.4123 - val_binary_crossentropy: 0.5986\n",
      "Epoch 131/250\n",
      "124/124 [==============================] - 0s 3ms/step - loss: 0.5665 - acc: 0.7245 - mean_squared_error: 0.1815 - mean_absolute_error: 0.3637 - binary_crossentropy: 0.5412 - val_loss: 0.6440 - val_acc: 0.6440 - val_mean_squared_error: 0.2143 - val_mean_absolute_error: 0.4205 - val_binary_crossentropy: 0.6166\n",
      "Epoch 132/250\n",
      "124/124 [==============================] - 0s 3ms/step - loss: 0.5678 - acc: 0.7229 - mean_squared_error: 0.1830 - mean_absolute_error: 0.3653 - binary_crossentropy: 0.5432 - val_loss: 0.6362 - val_acc: 0.6651 - val_mean_squared_error: 0.2079 - val_mean_absolute_error: 0.4172 - val_binary_crossentropy: 0.6033\n",
      "Epoch 133/250\n",
      "124/124 [==============================] - 0s 3ms/step - loss: 0.5748 - acc: 0.7273 - mean_squared_error: 0.1841 - mean_absolute_error: 0.3673 - binary_crossentropy: 0.5484 - val_loss: 0.6397 - val_acc: 0.6691 - val_mean_squared_error: 0.2088 - val_mean_absolute_error: 0.4117 - val_binary_crossentropy: 0.6056\n",
      "Epoch 134/250\n",
      "124/124 [==============================] - 0s 3ms/step - loss: 0.5711 - acc: 0.7245 - mean_squared_error: 0.1826 - mean_absolute_error: 0.3640 - binary_crossentropy: 0.5443 - val_loss: 0.6394 - val_acc: 0.6704 - val_mean_squared_error: 0.2104 - val_mean_absolute_error: 0.4178 - val_binary_crossentropy: 0.6091\n",
      "Epoch 135/250\n",
      "124/124 [==============================] - 0s 3ms/step - loss: 0.5755 - acc: 0.7330 - mean_squared_error: 0.1839 - mean_absolute_error: 0.3724 - binary_crossentropy: 0.5486 - val_loss: 0.6388 - val_acc: 0.6923 - val_mean_squared_error: 0.2083 - val_mean_absolute_error: 0.4006 - val_binary_crossentropy: 0.6068\n",
      "Epoch 136/250\n",
      "124/124 [==============================] - 0s 3ms/step - loss: 0.5713 - acc: 0.7248 - mean_squared_error: 0.1818 - mean_absolute_error: 0.3627 - binary_crossentropy: 0.5412 - val_loss: 0.6419 - val_acc: 0.6475 - val_mean_squared_error: 0.2128 - val_mean_absolute_error: 0.4118 - val_binary_crossentropy: 0.6119\n",
      "Epoch 137/250\n",
      "124/124 [==============================] - 0s 3ms/step - loss: 0.5768 - acc: 0.7101 - mean_squared_error: 0.1855 - mean_absolute_error: 0.3692 - binary_crossentropy: 0.5497 - val_loss: 0.6438 - val_acc: 0.6805 - val_mean_squared_error: 0.2109 - val_mean_absolute_error: 0.4186 - val_binary_crossentropy: 0.6103\n",
      "Epoch 138/250\n",
      "124/124 [==============================] - 0s 4ms/step - loss: 0.5664 - acc: 0.7335 - mean_squared_error: 0.1817 - mean_absolute_error: 0.3685 - binary_crossentropy: 0.5419 - val_loss: 0.6482 - val_acc: 0.6712 - val_mean_squared_error: 0.2138 - val_mean_absolute_error: 0.4261 - val_binary_crossentropy: 0.6162\n",
      "Epoch 139/250\n",
      "124/124 [==============================] - 0s 4ms/step - loss: 0.5788 - acc: 0.7216 - mean_squared_error: 0.1859 - mean_absolute_error: 0.3690 - binary_crossentropy: 0.5524 - val_loss: 0.6330 - val_acc: 0.6723 - val_mean_squared_error: 0.2077 - val_mean_absolute_error: 0.4158 - val_binary_crossentropy: 0.6019\n",
      "Epoch 140/250\n",
      "124/124 [==============================] - 0s 4ms/step - loss: 0.5769 - acc: 0.7158 - mean_squared_error: 0.1852 - mean_absolute_error: 0.3659 - binary_crossentropy: 0.5490 - val_loss: 0.6569 - val_acc: 0.6565 - val_mean_squared_error: 0.2151 - val_mean_absolute_error: 0.4287 - val_binary_crossentropy: 0.6185\n",
      "Epoch 141/250\n",
      "124/124 [==============================] - 1s 4ms/step - loss: 0.5765 - acc: 0.7230 - mean_squared_error: 0.1848 - mean_absolute_error: 0.3720 - binary_crossentropy: 0.5472 - val_loss: 0.6518 - val_acc: 0.6453 - val_mean_squared_error: 0.2147 - val_mean_absolute_error: 0.4212 - val_binary_crossentropy: 0.6189\n",
      "Epoch 142/250\n",
      "124/124 [==============================] - 0s 4ms/step - loss: 0.5668 - acc: 0.7248 - mean_squared_error: 0.1818 - mean_absolute_error: 0.3665 - binary_crossentropy: 0.5424 - val_loss: 0.6648 - val_acc: 0.6712 - val_mean_squared_error: 0.2141 - val_mean_absolute_error: 0.3996 - val_binary_crossentropy: 0.6257\n",
      "Epoch 143/250\n",
      "124/124 [==============================] - 0s 4ms/step - loss: 0.5669 - acc: 0.7305 - mean_squared_error: 0.1802 - mean_absolute_error: 0.3601 - binary_crossentropy: 0.5380 - val_loss: 0.6200 - val_acc: 0.6968 - val_mean_squared_error: 0.2022 - val_mean_absolute_error: 0.4019 - val_binary_crossentropy: 0.5903\n",
      "Epoch 144/250\n",
      "124/124 [==============================] - 0s 3ms/step - loss: 0.5769 - acc: 0.7255 - mean_squared_error: 0.1855 - mean_absolute_error: 0.3679 - binary_crossentropy: 0.5514 - val_loss: 0.6255 - val_acc: 0.7045 - val_mean_squared_error: 0.2029 - val_mean_absolute_error: 0.4039 - val_binary_crossentropy: 0.5922\n",
      "Epoch 145/250\n",
      "124/124 [==============================] - 0s 4ms/step - loss: 0.5716 - acc: 0.7245 - mean_squared_error: 0.1829 - mean_absolute_error: 0.3678 - binary_crossentropy: 0.5452 - val_loss: 0.6319 - val_acc: 0.6688 - val_mean_squared_error: 0.2084 - val_mean_absolute_error: 0.4188 - val_binary_crossentropy: 0.6039\n",
      "Epoch 146/250\n",
      "124/124 [==============================] - 0s 3ms/step - loss: 0.5723 - acc: 0.7273 - mean_squared_error: 0.1841 - mean_absolute_error: 0.3635 - binary_crossentropy: 0.5467 - val_loss: 0.6321 - val_acc: 0.6947 - val_mean_squared_error: 0.2069 - val_mean_absolute_error: 0.4151 - val_binary_crossentropy: 0.6013\n",
      "Epoch 147/250\n",
      "124/124 [==============================] - 0s 3ms/step - loss: 0.5717 - acc: 0.7242 - mean_squared_error: 0.1831 - mean_absolute_error: 0.3741 - binary_crossentropy: 0.5455 - val_loss: 0.6260 - val_acc: 0.6899 - val_mean_squared_error: 0.2043 - val_mean_absolute_error: 0.3952 - val_binary_crossentropy: 0.5956\n",
      "Epoch 148/250\n",
      "124/124 [==============================] - 0s 4ms/step - loss: 0.5680 - acc: 0.7239 - mean_squared_error: 0.1819 - mean_absolute_error: 0.3636 - binary_crossentropy: 0.5415 - val_loss: 0.6360 - val_acc: 0.6848 - val_mean_squared_error: 0.2070 - val_mean_absolute_error: 0.4064 - val_binary_crossentropy: 0.6033\n",
      "Epoch 149/250\n",
      "124/124 [==============================] - 1s 5ms/step - loss: 0.5795 - acc: 0.7231 - mean_squared_error: 0.1848 - mean_absolute_error: 0.3619 - binary_crossentropy: 0.5498 - val_loss: 0.6419 - val_acc: 0.6667 - val_mean_squared_error: 0.2113 - val_mean_absolute_error: 0.4220 - val_binary_crossentropy: 0.6101\n",
      "Epoch 150/250\n",
      "124/124 [==============================] - 1s 6ms/step - loss: 0.5747 - acc: 0.7218 - mean_squared_error: 0.1845 - mean_absolute_error: 0.3702 - binary_crossentropy: 0.5470 - val_loss: 0.6360 - val_acc: 0.6973 - val_mean_squared_error: 0.2071 - val_mean_absolute_error: 0.4214 - val_binary_crossentropy: 0.6033\n",
      "Epoch 151/250\n"
     ]
    },
    {
     "name": "stdout",
     "output_type": "stream",
     "text": [
      "124/124 [==============================] - 1s 5ms/step - loss: 0.5807 - acc: 0.7208 - mean_squared_error: 0.1855 - mean_absolute_error: 0.3708 - binary_crossentropy: 0.5517 - val_loss: 0.6343 - val_acc: 0.7120 - val_mean_squared_error: 0.2061 - val_mean_absolute_error: 0.4282 - val_binary_crossentropy: 0.6014\n",
      "Epoch 152/250\n",
      "124/124 [==============================] - 1s 5ms/step - loss: 0.5729 - acc: 0.7247 - mean_squared_error: 0.1836 - mean_absolute_error: 0.3708 - binary_crossentropy: 0.5473 - val_loss: 0.6249 - val_acc: 0.7128 - val_mean_squared_error: 0.2010 - val_mean_absolute_error: 0.4068 - val_binary_crossentropy: 0.5892\n",
      "Epoch 153/250\n",
      "124/124 [==============================] - 1s 4ms/step - loss: 0.5660 - acc: 0.7285 - mean_squared_error: 0.1810 - mean_absolute_error: 0.3629 - binary_crossentropy: 0.5399 - val_loss: 0.6351 - val_acc: 0.6669 - val_mean_squared_error: 0.2105 - val_mean_absolute_error: 0.4143 - val_binary_crossentropy: 0.6084\n",
      "Epoch 154/250\n",
      "124/124 [==============================] - 1s 5ms/step - loss: 0.5644 - acc: 0.7265 - mean_squared_error: 0.1816 - mean_absolute_error: 0.3599 - binary_crossentropy: 0.5406 - val_loss: 0.6405 - val_acc: 0.6763 - val_mean_squared_error: 0.2121 - val_mean_absolute_error: 0.4244 - val_binary_crossentropy: 0.6120\n",
      "Epoch 155/250\n",
      "124/124 [==============================] - 0s 4ms/step - loss: 0.5681 - acc: 0.7194 - mean_squared_error: 0.1833 - mean_absolute_error: 0.3709 - binary_crossentropy: 0.5444 - val_loss: 0.6188 - val_acc: 0.7117 - val_mean_squared_error: 0.1991 - val_mean_absolute_error: 0.3925 - val_binary_crossentropy: 0.5841\n",
      "Epoch 156/250\n",
      "124/124 [==============================] - 1s 4ms/step - loss: 0.5702 - acc: 0.7314 - mean_squared_error: 0.1830 - mean_absolute_error: 0.3678 - binary_crossentropy: 0.5457 - val_loss: 0.6344 - val_acc: 0.6981 - val_mean_squared_error: 0.2051 - val_mean_absolute_error: 0.3832 - val_binary_crossentropy: 0.6020\n",
      "Epoch 157/250\n",
      "124/124 [==============================] - 0s 4ms/step - loss: 0.5780 - acc: 0.7210 - mean_squared_error: 0.1847 - mean_absolute_error: 0.3655 - binary_crossentropy: 0.5501 - val_loss: 0.6462 - val_acc: 0.6728 - val_mean_squared_error: 0.2103 - val_mean_absolute_error: 0.4032 - val_binary_crossentropy: 0.6125\n",
      "Epoch 158/250\n",
      "124/124 [==============================] - 1s 4ms/step - loss: 0.5739 - acc: 0.7166 - mean_squared_error: 0.1838 - mean_absolute_error: 0.3705 - binary_crossentropy: 0.5466 - val_loss: 0.6385 - val_acc: 0.6837 - val_mean_squared_error: 0.2083 - val_mean_absolute_error: 0.4026 - val_binary_crossentropy: 0.6050\n",
      "Epoch 159/250\n",
      "124/124 [==============================] - 1s 4ms/step - loss: 0.5755 - acc: 0.7256 - mean_squared_error: 0.1840 - mean_absolute_error: 0.3632 - binary_crossentropy: 0.5479 - val_loss: 0.6397 - val_acc: 0.6683 - val_mean_squared_error: 0.2114 - val_mean_absolute_error: 0.4213 - val_binary_crossentropy: 0.6117\n",
      "Epoch 160/250\n",
      "124/124 [==============================] - 1s 4ms/step - loss: 0.5846 - acc: 0.7209 - mean_squared_error: 0.1876 - mean_absolute_error: 0.3756 - binary_crossentropy: 0.5577 - val_loss: 0.6452 - val_acc: 0.6968 - val_mean_squared_error: 0.2077 - val_mean_absolute_error: 0.3955 - val_binary_crossentropy: 0.6042\n",
      "Epoch 161/250\n",
      "124/124 [==============================] - 1s 6ms/step - loss: 0.5744 - acc: 0.7322 - mean_squared_error: 0.1815 - mean_absolute_error: 0.3609 - binary_crossentropy: 0.5425 - val_loss: 0.6409 - val_acc: 0.6803 - val_mean_squared_error: 0.2091 - val_mean_absolute_error: 0.4293 - val_binary_crossentropy: 0.6072\n",
      "Epoch 162/250\n",
      "124/124 [==============================] - 0s 4ms/step - loss: 0.5819 - acc: 0.7172 - mean_squared_error: 0.1864 - mean_absolute_error: 0.3742 - binary_crossentropy: 0.5514 - val_loss: 0.6253 - val_acc: 0.7029 - val_mean_squared_error: 0.2023 - val_mean_absolute_error: 0.4045 - val_binary_crossentropy: 0.5914\n",
      "Epoch 163/250\n",
      "124/124 [==============================] - 0s 4ms/step - loss: 0.5829 - acc: 0.7144 - mean_squared_error: 0.1859 - mean_absolute_error: 0.3705 - binary_crossentropy: 0.5511 - val_loss: 0.6331 - val_acc: 0.6925 - val_mean_squared_error: 0.2050 - val_mean_absolute_error: 0.4142 - val_binary_crossentropy: 0.5968\n",
      "Epoch 164/250\n",
      "124/124 [==============================] - 0s 4ms/step - loss: 0.5659 - acc: 0.7291 - mean_squared_error: 0.1803 - mean_absolute_error: 0.3618 - binary_crossentropy: 0.5378 - val_loss: 0.6243 - val_acc: 0.7008 - val_mean_squared_error: 0.2029 - val_mean_absolute_error: 0.4030 - val_binary_crossentropy: 0.5931\n",
      "Epoch 165/250\n",
      "124/124 [==============================] - 1s 4ms/step - loss: 0.5778 - acc: 0.7283 - mean_squared_error: 0.1853 - mean_absolute_error: 0.3714 - binary_crossentropy: 0.5512 - val_loss: 0.6441 - val_acc: 0.6843 - val_mean_squared_error: 0.2076 - val_mean_absolute_error: 0.4002 - val_binary_crossentropy: 0.6038\n",
      "Epoch 166/250\n",
      "124/124 [==============================] - 1s 7ms/step - loss: 0.5756 - acc: 0.7195 - mean_squared_error: 0.1832 - mean_absolute_error: 0.3661 - binary_crossentropy: 0.5469 - val_loss: 0.6354 - val_acc: 0.6955 - val_mean_squared_error: 0.2068 - val_mean_absolute_error: 0.4082 - val_binary_crossentropy: 0.6055\n",
      "Epoch 167/250\n",
      "124/124 [==============================] - 1s 5ms/step - loss: 0.5729 - acc: 0.7271 - mean_squared_error: 0.1833 - mean_absolute_error: 0.3718 - binary_crossentropy: 0.5462 - val_loss: 0.6357 - val_acc: 0.6787 - val_mean_squared_error: 0.2074 - val_mean_absolute_error: 0.4062 - val_binary_crossentropy: 0.6019\n",
      "Epoch 168/250\n",
      "124/124 [==============================] - 0s 4ms/step - loss: 0.5636 - acc: 0.7327 - mean_squared_error: 0.1796 - mean_absolute_error: 0.3593 - binary_crossentropy: 0.5362 - val_loss: 0.6579 - val_acc: 0.6432 - val_mean_squared_error: 0.2190 - val_mean_absolute_error: 0.4253 - val_binary_crossentropy: 0.6278\n",
      "Epoch 169/250\n",
      "124/124 [==============================] - 0s 3ms/step - loss: 0.5710 - acc: 0.7248 - mean_squared_error: 0.1834 - mean_absolute_error: 0.3647 - binary_crossentropy: 0.5459 - val_loss: 0.6339 - val_acc: 0.6824 - val_mean_squared_error: 0.2078 - val_mean_absolute_error: 0.4163 - val_binary_crossentropy: 0.6039\n",
      "Epoch 170/250\n",
      "124/124 [==============================] - 1s 4ms/step - loss: 0.5699 - acc: 0.7270 - mean_squared_error: 0.1829 - mean_absolute_error: 0.3652 - binary_crossentropy: 0.5437 - val_loss: 0.6320 - val_acc: 0.7067 - val_mean_squared_error: 0.2036 - val_mean_absolute_error: 0.4098 - val_binary_crossentropy: 0.5957\n",
      "Epoch 171/250\n",
      "124/124 [==============================] - 1s 4ms/step - loss: 0.5821 - acc: 0.7188 - mean_squared_error: 0.1857 - mean_absolute_error: 0.3738 - binary_crossentropy: 0.5508 - val_loss: 0.6513 - val_acc: 0.6568 - val_mean_squared_error: 0.2153 - val_mean_absolute_error: 0.4087 - val_binary_crossentropy: 0.6206\n",
      "Epoch 172/250\n",
      "124/124 [==============================] - 0s 4ms/step - loss: 0.5754 - acc: 0.7253 - mean_squared_error: 0.1838 - mean_absolute_error: 0.3659 - binary_crossentropy: 0.5487 - val_loss: 0.6450 - val_acc: 0.6675 - val_mean_squared_error: 0.2118 - val_mean_absolute_error: 0.4167 - val_binary_crossentropy: 0.6119\n",
      "Epoch 173/250\n",
      "124/124 [==============================] - 0s 4ms/step - loss: 0.5694 - acc: 0.7234 - mean_squared_error: 0.1826 - mean_absolute_error: 0.3612 - binary_crossentropy: 0.5431 - val_loss: 0.6480 - val_acc: 0.7016 - val_mean_squared_error: 0.2112 - val_mean_absolute_error: 0.4352 - val_binary_crossentropy: 0.6126\n",
      "Epoch 174/250\n",
      "124/124 [==============================] - 0s 3ms/step - loss: 0.5743 - acc: 0.7283 - mean_squared_error: 0.1830 - mean_absolute_error: 0.3719 - binary_crossentropy: 0.5449 - val_loss: 0.6276 - val_acc: 0.6949 - val_mean_squared_error: 0.2031 - val_mean_absolute_error: 0.4128 - val_binary_crossentropy: 0.5929\n",
      "Epoch 175/250\n",
      "124/124 [==============================] - 0s 4ms/step - loss: 0.5649 - acc: 0.7290 - mean_squared_error: 0.1803 - mean_absolute_error: 0.3621 - binary_crossentropy: 0.5386 - val_loss: 0.6514 - val_acc: 0.6021 - val_mean_squared_error: 0.2217 - val_mean_absolute_error: 0.4293 - val_binary_crossentropy: 0.6296\n",
      "Epoch 176/250\n"
     ]
    },
    {
     "name": "stdout",
     "output_type": "stream",
     "text": [
      "124/124 [==============================] - 1s 4ms/step - loss: 0.5764 - acc: 0.7238 - mean_squared_error: 0.1852 - mean_absolute_error: 0.3701 - binary_crossentropy: 0.5514 - val_loss: 0.6307 - val_acc: 0.6893 - val_mean_squared_error: 0.2054 - val_mean_absolute_error: 0.3995 - val_binary_crossentropy: 0.5984\n",
      "Epoch 177/250\n",
      "124/124 [==============================] - 0s 3ms/step - loss: 0.5785 - acc: 0.7203 - mean_squared_error: 0.1854 - mean_absolute_error: 0.3674 - binary_crossentropy: 0.5513 - val_loss: 0.6316 - val_acc: 0.6760 - val_mean_squared_error: 0.2061 - val_mean_absolute_error: 0.4119 - val_binary_crossentropy: 0.5985\n",
      "Epoch 178/250\n",
      "124/124 [==============================] - 0s 3ms/step - loss: 0.5742 - acc: 0.7238 - mean_squared_error: 0.1827 - mean_absolute_error: 0.3655 - binary_crossentropy: 0.5425 - val_loss: 0.6246 - val_acc: 0.7091 - val_mean_squared_error: 0.2011 - val_mean_absolute_error: 0.4057 - val_binary_crossentropy: 0.5889\n",
      "Epoch 179/250\n",
      "124/124 [==============================] - 0s 3ms/step - loss: 0.5704 - acc: 0.7234 - mean_squared_error: 0.1822 - mean_absolute_error: 0.3678 - binary_crossentropy: 0.5438 - val_loss: 0.6337 - val_acc: 0.6824 - val_mean_squared_error: 0.2080 - val_mean_absolute_error: 0.4215 - val_binary_crossentropy: 0.6034\n",
      "Epoch 180/250\n",
      "124/124 [==============================] - 0s 4ms/step - loss: 0.5744 - acc: 0.7207 - mean_squared_error: 0.1834 - mean_absolute_error: 0.3663 - binary_crossentropy: 0.5451 - val_loss: 0.6625 - val_acc: 0.6269 - val_mean_squared_error: 0.2215 - val_mean_absolute_error: 0.4240 - val_binary_crossentropy: 0.6330\n",
      "Epoch 181/250\n",
      "124/124 [==============================] - 0s 3ms/step - loss: 0.5691 - acc: 0.7284 - mean_squared_error: 0.1829 - mean_absolute_error: 0.3667 - binary_crossentropy: 0.5448 - val_loss: 0.6428 - val_acc: 0.6752 - val_mean_squared_error: 0.2120 - val_mean_absolute_error: 0.4099 - val_binary_crossentropy: 0.6133\n",
      "Epoch 182/250\n",
      "124/124 [==============================] - 0s 3ms/step - loss: 0.5757 - acc: 0.7180 - mean_squared_error: 0.1851 - mean_absolute_error: 0.3669 - binary_crossentropy: 0.5479 - val_loss: 0.6426 - val_acc: 0.7187 - val_mean_squared_error: 0.2030 - val_mean_absolute_error: 0.4095 - val_binary_crossentropy: 0.5948\n",
      "Epoch 183/250\n",
      "124/124 [==============================] - 0s 3ms/step - loss: 0.5758 - acc: 0.7282 - mean_squared_error: 0.1825 - mean_absolute_error: 0.3692 - binary_crossentropy: 0.5434 - val_loss: 0.6280 - val_acc: 0.7045 - val_mean_squared_error: 0.2029 - val_mean_absolute_error: 0.4072 - val_binary_crossentropy: 0.5930\n",
      "Epoch 184/250\n",
      "124/124 [==============================] - 0s 3ms/step - loss: 0.5672 - acc: 0.7322 - mean_squared_error: 0.1801 - mean_absolute_error: 0.3622 - binary_crossentropy: 0.5369 - val_loss: 0.6356 - val_acc: 0.6763 - val_mean_squared_error: 0.2092 - val_mean_absolute_error: 0.4122 - val_binary_crossentropy: 0.6050\n",
      "Epoch 185/250\n",
      "124/124 [==============================] - 0s 3ms/step - loss: 0.5706 - acc: 0.7319 - mean_squared_error: 0.1821 - mean_absolute_error: 0.3590 - binary_crossentropy: 0.5429 - val_loss: 0.6131 - val_acc: 0.7035 - val_mean_squared_error: 0.1996 - val_mean_absolute_error: 0.4040 - val_binary_crossentropy: 0.5845\n",
      "Epoch 186/250\n",
      "124/124 [==============================] - 0s 3ms/step - loss: 0.5702 - acc: 0.7293 - mean_squared_error: 0.1832 - mean_absolute_error: 0.3685 - binary_crossentropy: 0.5447 - val_loss: 0.6489 - val_acc: 0.6853 - val_mean_squared_error: 0.2124 - val_mean_absolute_error: 0.4095 - val_binary_crossentropy: 0.6195\n",
      "Epoch 187/250\n",
      "124/124 [==============================] - 1s 4ms/step - loss: 0.5780 - acc: 0.7254 - mean_squared_error: 0.1837 - mean_absolute_error: 0.3666 - binary_crossentropy: 0.5475 - val_loss: 0.6468 - val_acc: 0.6429 - val_mean_squared_error: 0.2156 - val_mean_absolute_error: 0.4235 - val_binary_crossentropy: 0.6188\n",
      "Epoch 188/250\n",
      "124/124 [==============================] - 0s 3ms/step - loss: 0.5721 - acc: 0.7253 - mean_squared_error: 0.1834 - mean_absolute_error: 0.3688 - binary_crossentropy: 0.5455 - val_loss: 0.6353 - val_acc: 0.6715 - val_mean_squared_error: 0.2090 - val_mean_absolute_error: 0.4075 - val_binary_crossentropy: 0.6054\n",
      "Epoch 189/250\n",
      "124/124 [==============================] - 1s 4ms/step - loss: 0.5754 - acc: 0.7239 - mean_squared_error: 0.1826 - mean_absolute_error: 0.3643 - binary_crossentropy: 0.5437 - val_loss: 0.6226 - val_acc: 0.6984 - val_mean_squared_error: 0.2026 - val_mean_absolute_error: 0.4038 - val_binary_crossentropy: 0.5917\n",
      "Epoch 190/250\n",
      "124/124 [==============================] - 0s 4ms/step - loss: 0.5630 - acc: 0.7269 - mean_squared_error: 0.1809 - mean_absolute_error: 0.3605 - binary_crossentropy: 0.5384 - val_loss: 0.6341 - val_acc: 0.6635 - val_mean_squared_error: 0.2093 - val_mean_absolute_error: 0.4040 - val_binary_crossentropy: 0.6069\n",
      "Epoch 191/250\n",
      "124/124 [==============================] - 0s 4ms/step - loss: 0.5747 - acc: 0.7254 - mean_squared_error: 0.1842 - mean_absolute_error: 0.3709 - binary_crossentropy: 0.5485 - val_loss: 0.6723 - val_acc: 0.6432 - val_mean_squared_error: 0.2223 - val_mean_absolute_error: 0.4055 - val_binary_crossentropy: 0.6403\n",
      "Epoch 192/250\n",
      "124/124 [==============================] - 0s 4ms/step - loss: 0.5661 - acc: 0.7218 - mean_squared_error: 0.1810 - mean_absolute_error: 0.3609 - binary_crossentropy: 0.5380 - val_loss: 0.6313 - val_acc: 0.6717 - val_mean_squared_error: 0.2074 - val_mean_absolute_error: 0.4092 - val_binary_crossentropy: 0.6008\n",
      "Epoch 193/250\n",
      "124/124 [==============================] - 0s 3ms/step - loss: 0.5764 - acc: 0.7212 - mean_squared_error: 0.1842 - mean_absolute_error: 0.3646 - binary_crossentropy: 0.5488 - val_loss: 0.6265 - val_acc: 0.6859 - val_mean_squared_error: 0.2043 - val_mean_absolute_error: 0.4067 - val_binary_crossentropy: 0.5938\n",
      "Epoch 194/250\n",
      "124/124 [==============================] - 0s 4ms/step - loss: 0.5713 - acc: 0.7256 - mean_squared_error: 0.1820 - mean_absolute_error: 0.3675 - binary_crossentropy: 0.5424 - val_loss: 0.6233 - val_acc: 0.7101 - val_mean_squared_error: 0.2014 - val_mean_absolute_error: 0.3894 - val_binary_crossentropy: 0.5928\n",
      "Epoch 195/250\n",
      "124/124 [==============================] - 1s 5ms/step - loss: 0.5716 - acc: 0.7263 - mean_squared_error: 0.1825 - mean_absolute_error: 0.3651 - binary_crossentropy: 0.5448 - val_loss: 0.6553 - val_acc: 0.6592 - val_mean_squared_error: 0.2166 - val_mean_absolute_error: 0.4115 - val_binary_crossentropy: 0.6238\n",
      "Epoch 196/250\n",
      "124/124 [==============================] - 0s 3ms/step - loss: 0.5630 - acc: 0.7326 - mean_squared_error: 0.1807 - mean_absolute_error: 0.3607 - binary_crossentropy: 0.5388 - val_loss: 0.6389 - val_acc: 0.6717 - val_mean_squared_error: 0.2099 - val_mean_absolute_error: 0.4085 - val_binary_crossentropy: 0.6088\n",
      "Epoch 197/250\n",
      "124/124 [==============================] - 0s 4ms/step - loss: 0.5778 - acc: 0.7180 - mean_squared_error: 0.1853 - mean_absolute_error: 0.3710 - binary_crossentropy: 0.5481 - val_loss: 0.6199 - val_acc: 0.7003 - val_mean_squared_error: 0.1997 - val_mean_absolute_error: 0.3971 - val_binary_crossentropy: 0.5860\n",
      "Epoch 198/250\n",
      "124/124 [==============================] - 0s 3ms/step - loss: 0.5666 - acc: 0.7330 - mean_squared_error: 0.1809 - mean_absolute_error: 0.3569 - binary_crossentropy: 0.5382 - val_loss: 0.6280 - val_acc: 0.6688 - val_mean_squared_error: 0.2077 - val_mean_absolute_error: 0.4211 - val_binary_crossentropy: 0.6013\n",
      "Epoch 199/250\n",
      "124/124 [==============================] - 0s 3ms/step - loss: 0.5659 - acc: 0.7311 - mean_squared_error: 0.1814 - mean_absolute_error: 0.3677 - binary_crossentropy: 0.5411 - val_loss: 0.6508 - val_acc: 0.6787 - val_mean_squared_error: 0.2142 - val_mean_absolute_error: 0.3985 - val_binary_crossentropy: 0.6235\n",
      "Epoch 200/250\n",
      "124/124 [==============================] - 0s 3ms/step - loss: 0.5720 - acc: 0.7299 - mean_squared_error: 0.1832 - mean_absolute_error: 0.3637 - binary_crossentropy: 0.5462 - val_loss: 0.6481 - val_acc: 0.6619 - val_mean_squared_error: 0.2129 - val_mean_absolute_error: 0.4218 - val_binary_crossentropy: 0.6173\n",
      "Epoch 201/250\n"
     ]
    },
    {
     "name": "stdout",
     "output_type": "stream",
     "text": [
      "124/124 [==============================] - 0s 4ms/step - loss: 0.5718 - acc: 0.7215 - mean_squared_error: 0.1826 - mean_absolute_error: 0.3679 - binary_crossentropy: 0.5435 - val_loss: 0.6507 - val_acc: 0.6893 - val_mean_squared_error: 0.2108 - val_mean_absolute_error: 0.3979 - val_binary_crossentropy: 0.6168\n",
      "Epoch 202/250\n",
      "124/124 [==============================] - 0s 3ms/step - loss: 0.5701 - acc: 0.7279 - mean_squared_error: 0.1818 - mean_absolute_error: 0.3613 - binary_crossentropy: 0.5419 - val_loss: 0.6315 - val_acc: 0.6693 - val_mean_squared_error: 0.2069 - val_mean_absolute_error: 0.3981 - val_binary_crossentropy: 0.6017\n",
      "Epoch 203/250\n",
      "124/124 [==============================] - 0s 3ms/step - loss: 0.5795 - acc: 0.7317 - mean_squared_error: 0.1851 - mean_absolute_error: 0.3658 - binary_crossentropy: 0.5529 - val_loss: 0.6387 - val_acc: 0.6811 - val_mean_squared_error: 0.2099 - val_mean_absolute_error: 0.4126 - val_binary_crossentropy: 0.6084\n",
      "Epoch 204/250\n",
      "124/124 [==============================] - 0s 3ms/step - loss: 0.5758 - acc: 0.7292 - mean_squared_error: 0.1838 - mean_absolute_error: 0.3723 - binary_crossentropy: 0.5454 - val_loss: 0.6298 - val_acc: 0.6653 - val_mean_squared_error: 0.2069 - val_mean_absolute_error: 0.4136 - val_binary_crossentropy: 0.5995\n",
      "Epoch 205/250\n",
      "124/124 [==============================] - 0s 3ms/step - loss: 0.5703 - acc: 0.7229 - mean_squared_error: 0.1830 - mean_absolute_error: 0.3634 - binary_crossentropy: 0.5426 - val_loss: 0.6511 - val_acc: 0.6648 - val_mean_squared_error: 0.2152 - val_mean_absolute_error: 0.4190 - val_binary_crossentropy: 0.6207\n",
      "Epoch 206/250\n",
      "124/124 [==============================] - 0s 3ms/step - loss: 0.5790 - acc: 0.7334 - mean_squared_error: 0.1835 - mean_absolute_error: 0.3714 - binary_crossentropy: 0.5491 - val_loss: 0.6170 - val_acc: 0.7051 - val_mean_squared_error: 0.2007 - val_mean_absolute_error: 0.3975 - val_binary_crossentropy: 0.5878\n",
      "Epoch 207/250\n",
      "124/124 [==============================] - 0s 3ms/step - loss: 0.5715 - acc: 0.7310 - mean_squared_error: 0.1817 - mean_absolute_error: 0.3587 - binary_crossentropy: 0.5434 - val_loss: 0.6335 - val_acc: 0.7048 - val_mean_squared_error: 0.2070 - val_mean_absolute_error: 0.4199 - val_binary_crossentropy: 0.6022\n",
      "Epoch 208/250\n",
      "124/124 [==============================] - 0s 4ms/step - loss: 0.5689 - acc: 0.7281 - mean_squared_error: 0.1818 - mean_absolute_error: 0.3706 - binary_crossentropy: 0.5427 - val_loss: 0.6304 - val_acc: 0.6923 - val_mean_squared_error: 0.2057 - val_mean_absolute_error: 0.4007 - val_binary_crossentropy: 0.5987\n",
      "Epoch 209/250\n",
      "124/124 [==============================] - 0s 3ms/step - loss: 0.5714 - acc: 0.7202 - mean_squared_error: 0.1841 - mean_absolute_error: 0.3642 - binary_crossentropy: 0.5453 - val_loss: 0.6287 - val_acc: 0.6917 - val_mean_squared_error: 0.2048 - val_mean_absolute_error: 0.4133 - val_binary_crossentropy: 0.5961\n",
      "Epoch 210/250\n",
      "124/124 [==============================] - 0s 3ms/step - loss: 0.5664 - acc: 0.7238 - mean_squared_error: 0.1814 - mean_absolute_error: 0.3656 - binary_crossentropy: 0.5394 - val_loss: 0.6269 - val_acc: 0.7064 - val_mean_squared_error: 0.2001 - val_mean_absolute_error: 0.3905 - val_binary_crossentropy: 0.5897\n",
      "Epoch 211/250\n",
      "124/124 [==============================] - 0s 3ms/step - loss: 0.5787 - acc: 0.7266 - mean_squared_error: 0.1853 - mean_absolute_error: 0.3664 - binary_crossentropy: 0.5508 - val_loss: 0.6260 - val_acc: 0.6896 - val_mean_squared_error: 0.2041 - val_mean_absolute_error: 0.4089 - val_binary_crossentropy: 0.5950\n",
      "Epoch 212/250\n",
      "124/124 [==============================] - 0s 3ms/step - loss: 0.5829 - acc: 0.7223 - mean_squared_error: 0.1864 - mean_absolute_error: 0.3758 - binary_crossentropy: 0.5527 - val_loss: 0.6620 - val_acc: 0.6784 - val_mean_squared_error: 0.2145 - val_mean_absolute_error: 0.3933 - val_binary_crossentropy: 0.6280\n",
      "Epoch 213/250\n",
      "124/124 [==============================] - 0s 3ms/step - loss: 0.5782 - acc: 0.7297 - mean_squared_error: 0.1832 - mean_absolute_error: 0.3688 - binary_crossentropy: 0.5475 - val_loss: 0.6374 - val_acc: 0.6805 - val_mean_squared_error: 0.2075 - val_mean_absolute_error: 0.4072 - val_binary_crossentropy: 0.6024\n",
      "Epoch 214/250\n",
      "124/124 [==============================] - 0s 3ms/step - loss: 0.5732 - acc: 0.7202 - mean_squared_error: 0.1816 - mean_absolute_error: 0.3612 - binary_crossentropy: 0.5407 - val_loss: 0.6287 - val_acc: 0.6920 - val_mean_squared_error: 0.2053 - val_mean_absolute_error: 0.3892 - val_binary_crossentropy: 0.5985\n",
      "Epoch 215/250\n",
      "124/124 [==============================] - 0s 3ms/step - loss: 0.5760 - acc: 0.7177 - mean_squared_error: 0.1841 - mean_absolute_error: 0.3661 - binary_crossentropy: 0.5469 - val_loss: 0.6533 - val_acc: 0.6637 - val_mean_squared_error: 0.2133 - val_mean_absolute_error: 0.4190 - val_binary_crossentropy: 0.6148\n",
      "Epoch 216/250\n",
      "124/124 [==============================] - 0s 3ms/step - loss: 0.5764 - acc: 0.7198 - mean_squared_error: 0.1838 - mean_absolute_error: 0.3693 - binary_crossentropy: 0.5459 - val_loss: 0.6567 - val_acc: 0.6325 - val_mean_squared_error: 0.2165 - val_mean_absolute_error: 0.4282 - val_binary_crossentropy: 0.6204\n",
      "Epoch 217/250\n",
      "124/124 [==============================] - 0s 3ms/step - loss: 0.5700 - acc: 0.7285 - mean_squared_error: 0.1822 - mean_absolute_error: 0.3654 - binary_crossentropy: 0.5425 - val_loss: 0.6754 - val_acc: 0.6475 - val_mean_squared_error: 0.2256 - val_mean_absolute_error: 0.4262 - val_binary_crossentropy: 0.6440\n",
      "Epoch 218/250\n",
      "124/124 [==============================] - 1s 4ms/step - loss: 0.5834 - acc: 0.7198 - mean_squared_error: 0.1864 - mean_absolute_error: 0.3737 - binary_crossentropy: 0.5542 - val_loss: 0.6474 - val_acc: 0.6619 - val_mean_squared_error: 0.2106 - val_mean_absolute_error: 0.4050 - val_binary_crossentropy: 0.6104\n",
      "Epoch 219/250\n",
      "124/124 [==============================] - 1s 5ms/step - loss: 0.5777 - acc: 0.7249 - mean_squared_error: 0.1824 - mean_absolute_error: 0.3644 - binary_crossentropy: 0.5444 - val_loss: 0.6367 - val_acc: 0.6864 - val_mean_squared_error: 0.2074 - val_mean_absolute_error: 0.4099 - val_binary_crossentropy: 0.6008\n",
      "Epoch 220/250\n",
      "124/124 [==============================] - 0s 3ms/step - loss: 0.5743 - acc: 0.7293 - mean_squared_error: 0.1831 - mean_absolute_error: 0.3637 - binary_crossentropy: 0.5453 - val_loss: 0.6473 - val_acc: 0.6765 - val_mean_squared_error: 0.2130 - val_mean_absolute_error: 0.4144 - val_binary_crossentropy: 0.6149\n",
      "Epoch 221/250\n",
      "124/124 [==============================] - 0s 3ms/step - loss: 0.5601 - acc: 0.7310 - mean_squared_error: 0.1791 - mean_absolute_error: 0.3601 - binary_crossentropy: 0.5336 - val_loss: 0.6406 - val_acc: 0.6723 - val_mean_squared_error: 0.2098 - val_mean_absolute_error: 0.4088 - val_binary_crossentropy: 0.6077\n",
      "Epoch 222/250\n",
      "124/124 [==============================] - 0s 3ms/step - loss: 0.5706 - acc: 0.7281 - mean_squared_error: 0.1823 - mean_absolute_error: 0.3666 - binary_crossentropy: 0.5436 - val_loss: 0.6303 - val_acc: 0.7064 - val_mean_squared_error: 0.2030 - val_mean_absolute_error: 0.4049 - val_binary_crossentropy: 0.5959\n",
      "Epoch 223/250\n",
      "124/124 [==============================] - 0s 3ms/step - loss: 0.5739 - acc: 0.7224 - mean_squared_error: 0.1841 - mean_absolute_error: 0.3635 - binary_crossentropy: 0.5464 - val_loss: 0.6390 - val_acc: 0.6709 - val_mean_squared_error: 0.2100 - val_mean_absolute_error: 0.4256 - val_binary_crossentropy: 0.6081\n",
      "Epoch 224/250\n",
      "124/124 [==============================] - 0s 3ms/step - loss: 0.5707 - acc: 0.7304 - mean_squared_error: 0.1825 - mean_absolute_error: 0.3664 - binary_crossentropy: 0.5439 - val_loss: 0.6318 - val_acc: 0.6888 - val_mean_squared_error: 0.2058 - val_mean_absolute_error: 0.4122 - val_binary_crossentropy: 0.5984\n",
      "Epoch 225/250\n",
      "124/124 [==============================] - 0s 3ms/step - loss: 0.5683 - acc: 0.7327 - mean_squared_error: 0.1807 - mean_absolute_error: 0.3652 - binary_crossentropy: 0.5402 - val_loss: 0.6544 - val_acc: 0.6435 - val_mean_squared_error: 0.2187 - val_mean_absolute_error: 0.4260 - val_binary_crossentropy: 0.6270\n",
      "Epoch 226/250\n"
     ]
    },
    {
     "name": "stdout",
     "output_type": "stream",
     "text": [
      "124/124 [==============================] - 0s 3ms/step - loss: 0.5707 - acc: 0.7248 - mean_squared_error: 0.1840 - mean_absolute_error: 0.3671 - binary_crossentropy: 0.5462 - val_loss: 0.6363 - val_acc: 0.6851 - val_mean_squared_error: 0.2079 - val_mean_absolute_error: 0.4005 - val_binary_crossentropy: 0.6032\n",
      "Epoch 227/250\n",
      "124/124 [==============================] - 0s 3ms/step - loss: 0.5726 - acc: 0.7280 - mean_squared_error: 0.1824 - mean_absolute_error: 0.3628 - binary_crossentropy: 0.5428 - val_loss: 0.6220 - val_acc: 0.7109 - val_mean_squared_error: 0.2003 - val_mean_absolute_error: 0.4010 - val_binary_crossentropy: 0.5859\n",
      "Epoch 228/250\n",
      "124/124 [==============================] - 0s 3ms/step - loss: 0.5730 - acc: 0.7275 - mean_squared_error: 0.1823 - mean_absolute_error: 0.3652 - binary_crossentropy: 0.5450 - val_loss: 0.6411 - val_acc: 0.6933 - val_mean_squared_error: 0.2110 - val_mean_absolute_error: 0.3988 - val_binary_crossentropy: 0.6144\n",
      "Epoch 229/250\n",
      "124/124 [==============================] - 0s 3ms/step - loss: 0.5700 - acc: 0.7262 - mean_squared_error: 0.1828 - mean_absolute_error: 0.3658 - binary_crossentropy: 0.5428 - val_loss: 0.6348 - val_acc: 0.6816 - val_mean_squared_error: 0.2076 - val_mean_absolute_error: 0.4125 - val_binary_crossentropy: 0.6025\n",
      "Epoch 230/250\n",
      "124/124 [==============================] - 0s 3ms/step - loss: 0.5662 - acc: 0.7267 - mean_squared_error: 0.1811 - mean_absolute_error: 0.3624 - binary_crossentropy: 0.5399 - val_loss: 0.6262 - val_acc: 0.6995 - val_mean_squared_error: 0.2031 - val_mean_absolute_error: 0.4086 - val_binary_crossentropy: 0.5937\n",
      "Epoch 231/250\n",
      "124/124 [==============================] - 1s 4ms/step - loss: 0.5798 - acc: 0.7215 - mean_squared_error: 0.1839 - mean_absolute_error: 0.3696 - binary_crossentropy: 0.5470 - val_loss: 0.6427 - val_acc: 0.6904 - val_mean_squared_error: 0.2083 - val_mean_absolute_error: 0.3953 - val_binary_crossentropy: 0.6070\n",
      "Epoch 232/250\n",
      "124/124 [==============================] - 1s 5ms/step - loss: 0.5678 - acc: 0.7304 - mean_squared_error: 0.1801 - mean_absolute_error: 0.3594 - binary_crossentropy: 0.5382 - val_loss: 0.6244 - val_acc: 0.7013 - val_mean_squared_error: 0.2021 - val_mean_absolute_error: 0.3980 - val_binary_crossentropy: 0.5912\n",
      "Epoch 233/250\n",
      "124/124 [==============================] - 0s 4ms/step - loss: 0.5669 - acc: 0.7262 - mean_squared_error: 0.1809 - mean_absolute_error: 0.3618 - binary_crossentropy: 0.5388 - val_loss: 0.6286 - val_acc: 0.7029 - val_mean_squared_error: 0.2043 - val_mean_absolute_error: 0.3971 - val_binary_crossentropy: 0.5963\n",
      "Epoch 234/250\n",
      "124/124 [==============================] - 0s 3ms/step - loss: 0.5769 - acc: 0.7270 - mean_squared_error: 0.1845 - mean_absolute_error: 0.3698 - binary_crossentropy: 0.5486 - val_loss: 0.6402 - val_acc: 0.6744 - val_mean_squared_error: 0.2094 - val_mean_absolute_error: 0.4050 - val_binary_crossentropy: 0.6080\n",
      "Epoch 235/250\n",
      "124/124 [==============================] - 0s 3ms/step - loss: 0.5693 - acc: 0.7338 - mean_squared_error: 0.1803 - mean_absolute_error: 0.3572 - binary_crossentropy: 0.5406 - val_loss: 0.6712 - val_acc: 0.6373 - val_mean_squared_error: 0.2283 - val_mean_absolute_error: 0.4245 - val_binary_crossentropy: 0.6476\n",
      "Epoch 236/250\n",
      "124/124 [==============================] - 0s 4ms/step - loss: 0.5704 - acc: 0.7267 - mean_squared_error: 0.1832 - mean_absolute_error: 0.3697 - binary_crossentropy: 0.5457 - val_loss: 0.6348 - val_acc: 0.6877 - val_mean_squared_error: 0.2073 - val_mean_absolute_error: 0.4053 - val_binary_crossentropy: 0.6054\n",
      "Epoch 237/250\n",
      "124/124 [==============================] - 1s 4ms/step - loss: 0.5734 - acc: 0.7159 - mean_squared_error: 0.1842 - mean_absolute_error: 0.3660 - binary_crossentropy: 0.5447 - val_loss: 0.6312 - val_acc: 0.7104 - val_mean_squared_error: 0.2028 - val_mean_absolute_error: 0.4015 - val_binary_crossentropy: 0.5939\n",
      "Epoch 238/250\n",
      "124/124 [==============================] - 0s 3ms/step - loss: 0.5648 - acc: 0.7377 - mean_squared_error: 0.1788 - mean_absolute_error: 0.3575 - binary_crossentropy: 0.5353 - val_loss: 0.6387 - val_acc: 0.6464 - val_mean_squared_error: 0.2125 - val_mean_absolute_error: 0.4178 - val_binary_crossentropy: 0.6113\n",
      "Epoch 239/250\n",
      "124/124 [==============================] - 0s 3ms/step - loss: 0.5694 - acc: 0.7340 - mean_squared_error: 0.1820 - mean_absolute_error: 0.3680 - binary_crossentropy: 0.5436 - val_loss: 0.6390 - val_acc: 0.6781 - val_mean_squared_error: 0.2094 - val_mean_absolute_error: 0.3993 - val_binary_crossentropy: 0.6088\n",
      "Epoch 240/250\n",
      "124/124 [==============================] - 1s 5ms/step - loss: 0.5721 - acc: 0.7245 - mean_squared_error: 0.1822 - mean_absolute_error: 0.3622 - binary_crossentropy: 0.5438 - val_loss: 0.6270 - val_acc: 0.6765 - val_mean_squared_error: 0.2052 - val_mean_absolute_error: 0.4049 - val_binary_crossentropy: 0.5965\n",
      "Epoch 241/250\n",
      "124/124 [==============================] - 0s 4ms/step - loss: 0.5709 - acc: 0.7171 - mean_squared_error: 0.1828 - mean_absolute_error: 0.3685 - binary_crossentropy: 0.5440 - val_loss: 0.6452 - val_acc: 0.6723 - val_mean_squared_error: 0.2109 - val_mean_absolute_error: 0.4074 - val_binary_crossentropy: 0.6120\n",
      "Epoch 242/250\n",
      "124/124 [==============================] - 1s 5ms/step - loss: 0.5677 - acc: 0.7309 - mean_squared_error: 0.1815 - mean_absolute_error: 0.3602 - binary_crossentropy: 0.5408 - val_loss: 0.6376 - val_acc: 0.6568 - val_mean_squared_error: 0.2119 - val_mean_absolute_error: 0.4095 - val_binary_crossentropy: 0.6118\n",
      "Epoch 243/250\n",
      "124/124 [==============================] - 0s 3ms/step - loss: 0.5757 - acc: 0.7174 - mean_squared_error: 0.1854 - mean_absolute_error: 0.3688 - binary_crossentropy: 0.5493 - val_loss: 0.6444 - val_acc: 0.6621 - val_mean_squared_error: 0.2122 - val_mean_absolute_error: 0.4086 - val_binary_crossentropy: 0.6126\n",
      "Epoch 244/250\n",
      "124/124 [==============================] - 0s 2ms/step - loss: 0.5691 - acc: 0.7320 - mean_squared_error: 0.1812 - mean_absolute_error: 0.3633 - binary_crossentropy: 0.5404 - val_loss: 0.6420 - val_acc: 0.7085 - val_mean_squared_error: 0.2070 - val_mean_absolute_error: 0.4075 - val_binary_crossentropy: 0.6040\n",
      "Epoch 245/250\n",
      "124/124 [==============================] - 0s 3ms/step - loss: 0.5661 - acc: 0.7247 - mean_squared_error: 0.1803 - mean_absolute_error: 0.3621 - binary_crossentropy: 0.5372 - val_loss: 0.6256 - val_acc: 0.6875 - val_mean_squared_error: 0.2044 - val_mean_absolute_error: 0.3919 - val_binary_crossentropy: 0.5965\n",
      "Epoch 246/250\n",
      "124/124 [==============================] - 0s 3ms/step - loss: 0.5746 - acc: 0.7274 - mean_squared_error: 0.1831 - mean_absolute_error: 0.3603 - binary_crossentropy: 0.5472 - val_loss: 0.6341 - val_acc: 0.6819 - val_mean_squared_error: 0.2080 - val_mean_absolute_error: 0.4195 - val_binary_crossentropy: 0.6037\n",
      "Epoch 247/250\n",
      "124/124 [==============================] - 0s 3ms/step - loss: 0.5743 - acc: 0.7144 - mean_squared_error: 0.1847 - mean_absolute_error: 0.3703 - binary_crossentropy: 0.5471 - val_loss: 0.6404 - val_acc: 0.6808 - val_mean_squared_error: 0.2079 - val_mean_absolute_error: 0.4155 - val_binary_crossentropy: 0.6023\n",
      "Epoch 248/250\n",
      "124/124 [==============================] - 0s 3ms/step - loss: 0.5619 - acc: 0.7341 - mean_squared_error: 0.1776 - mean_absolute_error: 0.3599 - binary_crossentropy: 0.5320 - val_loss: 0.6562 - val_acc: 0.6683 - val_mean_squared_error: 0.2163 - val_mean_absolute_error: 0.4304 - val_binary_crossentropy: 0.6240\n",
      "Epoch 249/250\n",
      "124/124 [==============================] - 0s 2ms/step - loss: 0.5792 - acc: 0.7194 - mean_squared_error: 0.1854 - mean_absolute_error: 0.3712 - binary_crossentropy: 0.5495 - val_loss: 0.6242 - val_acc: 0.7115 - val_mean_squared_error: 0.2011 - val_mean_absolute_error: 0.3899 - val_binary_crossentropy: 0.5906\n",
      "Epoch 250/250\n",
      "124/124 [==============================] - 0s 2ms/step - loss: 0.5712 - acc: 0.7276 - mean_squared_error: 0.1822 - mean_absolute_error: 0.3638 - binary_crossentropy: 0.5425 - val_loss: 0.6428 - val_acc: 0.6811 - val_mean_squared_error: 0.2086 - val_mean_absolute_error: 0.4049 - val_binary_crossentropy: 0.6048\n"
     ]
    }
   ],
   "source": [
    "epochs = 250\n",
    "m = int(64*2 * 7/6)\n",
    "vs = 1/6\n",
    "shuffle = True\n",
    "callbacks = []\n",
    "callbacks = [TensorBoard(log_dir=config.tmp_log_dir)]\n",
    "# model.fit(x_train, y_train, epochs=epochs, batch_size=batch_size, callbacks=[TensorBoard(log_dir=config.tmp_log_dir)])\n",
    "history = vae.fit(x_train[:m], x_train[:m], epochs=epochs, batch_size=batch_size,\n",
    "          validation_split=vs, callbacks=callbacks, shuffle=shuffle)\n",
    "# history = vae.fit(x_train[:m], shuffle=False, epochs=epochs, batch_size=batch_size, validation_data=(x_test, None))"
   ]
  },
  {
   "cell_type": "code",
   "execution_count": 29,
   "metadata": {},
   "outputs": [
    {
     "data": {
      "text/plain": [
       "[<matplotlib.lines.Line2D at 0x118476ac8>]"
      ]
     },
     "execution_count": 29,
     "metadata": {},
     "output_type": "execute_result"
    },
    {
     "data": {
      "image/png": "[encoded data removed]",
      "text/plain": [
       "<matplotlib.figure.Figure at 0x118476dd8>"
      ]
     },
     "metadata": {},
     "output_type": "display_data"
    }
   ],
   "source": [
    "plt.plot(history.history['loss'])\n",
    "plt.plot(history.history['val_loss'])"
   ]
  },
  {
   "cell_type": "code",
   "execution_count": 30,
   "metadata": {},
   "outputs": [
    {
     "data": {
      "text/plain": [
       "[<matplotlib.lines.Line2D at 0x118476b38>]"
      ]
     },
     "execution_count": 30,
     "metadata": {},
     "output_type": "execute_result"
    },
    {
     "data": {
      "image/png": "[encoded data removed]",
      "text/plain": [
       "<matplotlib.figure.Figure at 0x118476588>"
      ]
     },
     "metadata": {},
     "output_type": "display_data"
    }
   ],
   "source": [
    "plt.plot(history.history['acc'])\n",
    "plt.plot(history.history['val_acc'])"
   ]
  },
  {
   "cell_type": "code",
   "execution_count": 31,
   "metadata": {},
   "outputs": [
    {
     "data": {
      "text/plain": [
       "[<matplotlib.lines.Line2D at 0x11b481d68>]"
      ]
     },
     "execution_count": 31,
     "metadata": {},
     "output_type": "execute_result"
    },
    {
     "data": {
      "image/png": "[encoded data removed]",
      "text/plain": [
       "<matplotlib.figure.Figure at 0x11b9679e8>"
      ]
     },
     "metadata": {},
     "output_type": "display_data"
    }
   ],
   "source": [
    "plt.plot(history.history['mean_absolute_error'])\n",
    "plt.plot(history.history['val_mean_absolute_error'])"
   ]
  },
  {
   "cell_type": "code",
   "execution_count": 32,
   "metadata": {
    "scrolled": true
   },
   "outputs": [],
   "source": [
    "# plot_model(vae, to_file='model.png')"
   ]
  },
  {
   "cell_type": "code",
   "execution_count": null,
   "metadata": {},
   "outputs": [],
   "source": []
  },
  {
   "cell_type": "code",
   "execution_count": null,
   "metadata": {},
   "outputs": [],
   "source": []
  },
  {
   "cell_type": "code",
   "execution_count": null,
   "metadata": {},
   "outputs": [],
   "source": []
  },
  {
   "cell_type": "code",
   "execution_count": null,
   "metadata": {},
   "outputs": [],
   "source": []
  },
  {
   "cell_type": "code",
   "execution_count": null,
   "metadata": {},
   "outputs": [],
   "source": []
  },
  {
   "cell_type": "code",
   "execution_count": null,
   "metadata": {},
   "outputs": [],
   "source": []
  },
  {
   "cell_type": "code",
   "execution_count": null,
   "metadata": {},
   "outputs": [],
   "source": []
  },
  {
   "cell_type": "code",
   "execution_count": null,
   "metadata": {},
   "outputs": [],
   "source": [
    "plt.plot(x_train[0,:100,:])"
   ]
  },
  {
   "cell_type": "code",
   "execution_count": null,
   "metadata": {},
   "outputs": [],
   "source": [
    "result.shape"
   ]
  },
  {
   "cell_type": "code",
   "execution_count": null,
   "metadata": {},
   "outputs": [],
   "source": [
    "n1 = 30\n",
    "i = 0\n",
    "plt.subplot(211)\n",
    "plt.plot(np.arange(n1), results[i][:n1])\n",
    "plt.plot([0.5] * n1) # midi.MIDI_NOISE_FLOOR\n",
    "plt.ylim(ymin=0, ymax=1)\n",
    "plt.subplot(212)\n",
    "\n",
    "plt.plot(np.arange(n1), x_train[i, :n1])\n",
    "plt.plot([0.5] * n1) # midi.MIDI_NOISE_FLOOR\n",
    "plt.ylim(ymin=0, ymax=1)"
   ]
  },
  {
   "cell_type": "code",
   "execution_count": null,
   "metadata": {},
   "outputs": [],
   "source": []
  },
  {
   "cell_type": "code",
   "execution_count": null,
   "metadata": {},
   "outputs": [],
   "source": []
  },
  {
   "cell_type": "code",
   "execution_count": null,
   "metadata": {},
   "outputs": [],
   "source": []
  },
  {
   "cell_type": "code",
   "execution_count": null,
   "metadata": {},
   "outputs": [],
   "source": [
    "mid = midi.decode_track(context, result)\n",
    "dn = config.dataset_dir\n",
    "# io.export_midifile(mid, dn + 'song_seq-seq.mid')"
   ]
  },
  {
   "cell_type": "code",
   "execution_count": null,
   "metadata": {},
   "outputs": [],
   "source": [
    "results = []\n",
    "latent_samples = []\n",
    "for seq in x_test[-2:]:\n",
    "    encoded = encode_sequence(np.stack([seq]))\n",
    "    latent_samples.append(encoded)\n",
    "    result = decode_sequence(encoded, encoder_model, decoder_model)\n",
    "    results.append(result)\n",
    "results[0].shape"
   ]
  },
  {
   "cell_type": "code",
   "execution_count": null,
   "metadata": {},
   "outputs": [],
   "source": [
    "len(encoded)"
   ]
  },
  {
   "cell_type": "code",
   "execution_count": null,
   "metadata": {},
   "outputs": [],
   "source": [
    "encoded[0].shape"
   ]
  },
  {
   "cell_type": "code",
   "execution_count": null,
   "metadata": {},
   "outputs": [],
   "source": [
    "plt.plot(encoded[0][0,:10])\n",
    "plt.plot(encoded[1][0,:10])"
   ]
  },
  {
   "cell_type": "code",
   "execution_count": null,
   "metadata": {},
   "outputs": [],
   "source": [
    "e = np.array(latent_samples)\n",
    "e.shape"
   ]
  },
  {
   "cell_type": "code",
   "execution_count": null,
   "metadata": {},
   "outputs": [],
   "source": [
    "# reduce dimensionality\n",
    "# e = e.reshape(e.shape[0],2,e.shape[-1])\n",
    "e.shape"
   ]
  },
  {
   "cell_type": "code",
   "execution_count": null,
   "metadata": {},
   "outputs": [],
   "source": [
    "e1.mean(axis=0).shape"
   ]
  },
  {
   "cell_type": "code",
   "execution_count": null,
   "metadata": {},
   "outputs": [],
   "source": [
    "# new = e.transpose().mean(axis=1).transpose()\n",
    "e1 = e[:,0] # state h\n",
    "e2 = e[:,1] # state c\n",
    "new = [e1.mean(axis=0), e2.mean(axis=0)]\n",
    "# new = [[e[:,i].mean(axis=0)] for i in [0,1]]\n",
    "plt.plot(new[0][0][:10])\n",
    "len(new)"
   ]
  },
  {
   "cell_type": "code",
   "execution_count": null,
   "metadata": {},
   "outputs": [],
   "source": [
    "e1.mean(axis=0).shape"
   ]
  },
  {
   "cell_type": "code",
   "execution_count": null,
   "metadata": {},
   "outputs": [],
   "source": [
    "l[0].shape"
   ]
  },
  {
   "cell_type": "code",
   "execution_count": null,
   "metadata": {},
   "outputs": [],
   "source": [
    "l = latent_samples[0]\n",
    "len(l) # latent_sample :: (x,1,64)"
   ]
  },
  {
   "cell_type": "code",
   "execution_count": null,
   "metadata": {},
   "outputs": [],
   "source": [
    "# new_ = decode_sequence(latent_samples[0], encoder_model, decoder_model)\n",
    "new_ = decode_sequence(new, encoder_model, decoder_model)"
   ]
  },
  {
   "cell_type": "code",
   "execution_count": null,
   "metadata": {},
   "outputs": [],
   "source": [
    "new_.shape"
   ]
  },
  {
   "cell_type": "code",
   "execution_count": null,
   "metadata": {},
   "outputs": [],
   "source": [
    "plt.plot(new_[:100])"
   ]
  },
  {
   "cell_type": "code",
   "execution_count": null,
   "metadata": {},
   "outputs": [],
   "source": [
    "plt.plot(results[0][:100])"
   ]
  },
  {
   "cell_type": "code",
   "execution_count": null,
   "metadata": {},
   "outputs": [],
   "source": [
    "# results[0]"
   ]
  },
  {
   "cell_type": "code",
   "execution_count": null,
   "metadata": {},
   "outputs": [],
   "source": [
    "mid_new = midi.decode_track(context, results[0])\n",
    "io.export_midifile(mid_new, config.export_dir + 'real_mid_new_lstm.mid')"
   ]
  },
  {
   "cell_type": "code",
   "execution_count": null,
   "metadata": {},
   "outputs": [],
   "source": []
  },
  {
   "cell_type": "code",
   "execution_count": null,
   "metadata": {},
   "outputs": [],
   "source": []
  },
  {
   "cell_type": "code",
   "execution_count": null,
   "metadata": {},
   "outputs": [],
   "source": []
  },
  {
   "cell_type": "code",
   "execution_count": null,
   "metadata": {},
   "outputs": [],
   "source": []
  },
  {
   "cell_type": "code",
   "execution_count": null,
   "metadata": {},
   "outputs": [],
   "source": []
  },
  {
   "cell_type": "code",
   "execution_count": null,
   "metadata": {},
   "outputs": [],
   "source": []
  },
  {
   "cell_type": "code",
   "execution_count": null,
   "metadata": {},
   "outputs": [],
   "source": []
  },
  {
   "cell_type": "code",
   "execution_count": null,
   "metadata": {},
   "outputs": [],
   "source": []
  },
  {
   "cell_type": "code",
   "execution_count": null,
   "metadata": {},
   "outputs": [],
   "source": []
  },
  {
   "cell_type": "code",
   "execution_count": null,
   "metadata": {},
   "outputs": [],
   "source": []
  },
  {
   "cell_type": "code",
   "execution_count": null,
   "metadata": {},
   "outputs": [],
   "source": []
  },
  {
   "cell_type": "code",
   "execution_count": null,
   "metadata": {},
   "outputs": [],
   "source": []
  },
  {
   "cell_type": "code",
   "execution_count": null,
   "metadata": {},
   "outputs": [],
   "source": [
    "x_test.shape"
   ]
  },
  {
   "cell_type": "code",
   "execution_count": null,
   "metadata": {},
   "outputs": [],
   "source": [
    "# x_test, y_test = gen_xy_sin_to_f(3, f=2)"
   ]
  },
  {
   "cell_type": "code",
   "execution_count": null,
   "metadata": {
    "scrolled": true
   },
   "outputs": [],
   "source": [
    "results = model.predict([x_test,x_test])\n",
    "results.shape"
   ]
  },
  {
   "cell_type": "code",
   "execution_count": null,
   "metadata": {},
   "outputs": [],
   "source": [
    "# the 'true' results\n",
    "i = 0\n",
    "selection = int(x_test.shape[1] * 1)\n",
    "full = np.concatenate([x_test[i,-selection:],y_test[i]])\n",
    "n3 = full.shape[0]\n",
    "plt.plot(np.arange(n3) / n3 * dt, full)"
   ]
  },
  {
   "cell_type": "code",
   "execution_count": null,
   "metadata": {},
   "outputs": [],
   "source": [
    "# predicted results\n",
    "i = 0\n",
    "full = np.concatenate([x_test[i,-selection:],results[i]])\n",
    "n3 = full.shape[0]\n",
    "plt.plot(np.arange(n3) / n3 * dt, full)"
   ]
  },
  {
   "cell_type": "code",
   "execution_count": null,
   "metadata": {},
   "outputs": [],
   "source": [
    "i = 2\n",
    "selection = int(x_test.shape[1] * 1)\n",
    "full = np.concatenate([x_test[i,-selection:],results[i]])\n",
    "n3 = full.shape[0]\n",
    "plt.plot(np.arange(n3) / n3 * dt, full)"
   ]
  },
  {
   "cell_type": "code",
   "execution_count": null,
   "metadata": {},
   "outputs": [],
   "source": [
    "i = 0\n",
    "selection = 1\n",
    "full = np.concatenate([x_test[i,-selection:],results[i]])\n",
    "n3 = full.shape[0]\n",
    "plt.plot(np.arange(n3) / n3 * dt, full)"
   ]
  },
  {
   "cell_type": "code",
   "execution_count": null,
   "metadata": {},
   "outputs": [],
   "source": []
  },
  {
   "cell_type": "code",
   "execution_count": null,
   "metadata": {},
   "outputs": [],
   "source": []
  },
  {
   "cell_type": "code",
   "execution_count": null,
   "metadata": {},
   "outputs": [],
   "source": []
  },
  {
   "cell_type": "code",
   "execution_count": null,
   "metadata": {},
   "outputs": [],
   "source": []
  },
  {
   "cell_type": "code",
   "execution_count": null,
   "metadata": {},
   "outputs": [],
   "source": []
  },
  {
   "cell_type": "code",
   "execution_count": null,
   "metadata": {},
   "outputs": [],
   "source": []
  }
 ],
 "metadata": {
  "kernelspec": {
   "display_name": "Python 3",
   "language": "python",
   "name": "python3"
  },
  "language_info": {
   "codemirror_mode": {
    "name": "ipython",
    "version": 3
   },
   "file_extension": ".py",
   "mimetype": "text/x-python",
   "name": "python",
   "nbconvert_exporter": "python",
   "pygments_lexer": "ipython3",
   "version": "3.6.4"
  }
 },
 "nbformat": 4,
 "nbformat_minor": 2
}
