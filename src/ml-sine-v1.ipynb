{
 "cells": [
  {
   "cell_type": "code",
   "execution_count": 2,
   "metadata": {},
   "outputs": [],
   "source": [
    "import config\n",
    "import os, numpy as np, pandas, sklearn\n",
    "import mido\n",
    "import matplotlib.pyplot as plt\n",
    "%matplotlib inline"
   ]
  },
  {
   "cell_type": "code",
   "execution_count": 3,
   "metadata": {},
   "outputs": [
    {
     "name": "stderr",
     "output_type": "stream",
     "text": [
      "/Library/Frameworks/Python.framework/Versions/3.6/lib/python3.6/site-packages/h5py/__init__.py:36: FutureWarning: Conversion of the second argument of issubdtype from `float` to `np.floating` is deprecated. In future, it will be treated as `np.float64 == np.dtype(float).type`.\n",
      "  from ._conv import register_converters as _register_converters\n",
      "Using TensorFlow backend.\n"
     ]
    }
   ],
   "source": [
    "## NN libs\n",
    "from sklearn.decomposition import PCA\n",
    "from sklearn import preprocessing\n",
    "from sklearn.preprocessing import RobustScaler\n",
    "import keras\n",
    "from keras import regularizers\n",
    "from keras.utils import to_categorical\n",
    "from keras.models import Sequential\n",
    "from keras.optimizers import SGD, Adam\n",
    "from keras.layers import Input, Dense, Activation, Conv1D, Conv2D, Dropout, Flatten\n",
    "from keras.layers import Conv2DTranspose, Reshape, MaxPooling2D, UpSampling2D, UpSampling1D, MaxPooling1D\n",
    "from keras.layers import LocallyConnected1D, LocallyConnected2D\n",
    "from keras.layers import Input, LSTM, RepeatVector\n",
    "from keras.models import Model\n",
    "from keras.callbacks import TensorBoard"
   ]
  },
  {
   "cell_type": "code",
   "execution_count": 4,
   "metadata": {},
   "outputs": [
    {
     "name": "stdout",
     "output_type": "stream",
     "text": [
      " Context :: namedtuple(\n",
      "[ max_t = float\n",
      ", dt = float\n",
      ", n_instances = int\n",
      ", note_length = int\n",
      ", bpm = float\n",
      ", tempo = float\n",
      ", ticks_per_beat = int\n",
      "]\n",
      "\n"
     ]
    }
   ],
   "source": [
    "# local libs\n",
    "import config, models, functions\n",
    "from data import data, midi, midi_generators as g\n",
    "from utils import io, models_io"
   ]
  },
  {
   "cell_type": "code",
   "execution_count": 5,
   "metadata": {
    "scrolled": true
   },
   "outputs": [
    {
     "name": "stdout",
     "output_type": "stream",
     "text": [
      "Setting up params\n",
      "\n",
      " >> Context(max_t=10.0, dt=0.1, n_instances=100, note_length=0.03, bpm=120.0, tempo=500000, ticks_per_beat=480)\n"
     ]
    }
   ],
   "source": [
    "context = data.init()"
   ]
  },
  {
   "cell_type": "code",
   "execution_count": 6,
   "metadata": {},
   "outputs": [],
   "source": [
    "# fn = (config.dataset_dir + '4-floor-120bpm.mid')\n",
    "# mid = io.import_midifile(fn)"
   ]
  },
  {
   "cell_type": "markdown",
   "metadata": {},
   "source": [
    "## Setup a generator\n",
    "\n",
    "1. What is the least amount of 'hidden' nodes needed to learn a straight rythm (e.g. 8th notes with different frequencies)\n",
    "2. Can we create a model of a generic function sin(2 pi f t + phase)\n",
    "    - using x: t -> y: sin(2p t)\n",
    "    - using x: [f, t, phase] -> y: sin(2p f t + phase)\n",
    "    - using x: sin([t1, t2, t3) -> y: [f, t, phase]\n",
    "        - such a model should be able to learn complex patterns, such as sin(f1+p1) + sin(f2+p2) + sin(f3+p3)"
   ]
  },
  {
   "cell_type": "code",
   "execution_count": 53,
   "metadata": {},
   "outputs": [],
   "source": [
    "def gen_xy(n=100):\n",
    "    x = np.random.random([n,2]) # e.g. sin(y) + cos(x)\n",
    "    return x, np.sin(x * np.pi * 2)"
   ]
  },
  {
   "cell_type": "code",
   "execution_count": 76,
   "metadata": {},
   "outputs": [],
   "source": [
    "n = 1000\n",
    "# x_train = g.gen_data(context, n)\n",
    "x_train, y_train = gen_xy(n)"
   ]
  },
  {
   "cell_type": "code",
   "execution_count": 77,
   "metadata": {},
   "outputs": [
    {
     "data": {
      "text/plain": [
       "(1000, 2)"
      ]
     },
     "execution_count": 77,
     "metadata": {},
     "output_type": "execute_result"
    }
   ],
   "source": [
    "n_samples = x_train[0]\n",
    "input_shape = x_train.shape[1:] # shape of a single sample\n",
    "output_shape = y_train.shape[1:]\n",
    "hidden_layer_length = 10\n",
    "x_train.shape"
   ]
  },
  {
   "cell_type": "code",
   "execution_count": 109,
   "metadata": {
    "scrolled": true
   },
   "outputs": [
    {
     "name": "stdout",
     "output_type": "stream",
     "text": [
      "_________________________________________________________________\n",
      "Layer (type)                 Output Shape              Param #   \n",
      "=================================================================\n",
      "input_9 (InputLayer)         (None, 2)                 0         \n",
      "_________________________________________________________________\n",
      "dense_8 (Dense)              (None, 2)                 6         \n",
      "=================================================================\n",
      "Total params: 6\n",
      "Trainable params: 6\n",
      "Non-trainable params: 0\n",
      "_________________________________________________________________\n"
     ]
    }
   ],
   "source": [
    "def decoder(input_length, output_length):\n",
    "    input_layer = Input(shape=(input_length,))\n",
    "    x = input_layer\n",
    "    shape = output_shape\n",
    "\n",
    "    x = Dense(output_length, activation='softmax')(x)\n",
    "    model = Model(inputs=input_layer, outputs=x)\n",
    "    return model\n",
    "\n",
    "def decoder(input_length, output_length):\n",
    "    input_layer = Input(shape=(input_length,))\n",
    "    x = input_layer\n",
    "    shape = output_shape\n",
    "    x = Dense(10, activation='relu')(x)\n",
    "    x = Dense(100, activation='relu')(x)\n",
    "    x = Dense(100, activation='relu')(x)\n",
    "    x = Dense(100, activation='relu')(x)\n",
    "    x = Dense(10, activation='relu')(x)\n",
    "    x = Dense(output_length, activation='softmax')(x)\n",
    "    model = Model(inputs=input_layer, outputs=x)\n",
    "    return model\n",
    "\n",
    "decoder = decoder(input_shape[0], output_shape[0])\n",
    "decoder.summary()"
   ]
  },
  {
   "cell_type": "code",
   "execution_count": 110,
   "metadata": {},
   "outputs": [],
   "source": [
    "metrics = ['accuracy','mse','binary_crossentropy']\n",
    "loss = 'categorical_crossentropy'# binary_crossentropy categorical_crossentropy\n",
    "optimizer = 'adadelta'\n",
    "decoder.compile(optimizer=optimizer, loss=loss, metrics=metrics)"
   ]
  },
  {
   "cell_type": "code",
   "execution_count": 111,
   "metadata": {},
   "outputs": [],
   "source": [
    "batch_size = 16\n",
    "# n epochs = n iterations over all the training data\n",
    "epochs = 15"
   ]
  },
  {
   "cell_type": "code",
   "execution_count": 116,
   "metadata": {
    "scrolled": true
   },
   "outputs": [
    {
     "name": "stdout",
     "output_type": "stream",
     "text": [
      "Train on 833 samples, validate on 167 samples\n",
      "Epoch 1/15\n",
      "833/833 [==============================] - 0s 205us/step - loss: -0.0634 - acc: 0.5042 - mean_squared_error: 0.7875 - binary_crossentropy: 0.7524 - val_loss: -0.0275 - val_acc: 0.4910 - val_mean_squared_error: 0.7769 - val_binary_crossentropy: 0.7754\n",
      "Epoch 2/15\n",
      "833/833 [==============================] - 0s 128us/step - loss: -0.0764 - acc: 0.5042 - mean_squared_error: 0.7844 - binary_crossentropy: 0.7456 - val_loss: -0.0383 - val_acc: 0.4910 - val_mean_squared_error: 0.7777 - val_binary_crossentropy: 0.7778\n",
      "Epoch 3/15\n",
      "833/833 [==============================] - 0s 110us/step - loss: -0.0903 - acc: 0.5042 - mean_squared_error: 0.7834 - binary_crossentropy: 0.7433 - val_loss: -0.0502 - val_acc: 0.4910 - val_mean_squared_error: 0.7779 - val_binary_crossentropy: 0.7793\n",
      "Epoch 4/15\n",
      "833/833 [==============================] - 0s 121us/step - loss: -0.1053 - acc: 0.5042 - mean_squared_error: 0.7826 - binary_crossentropy: 0.7415 - val_loss: -0.0629 - val_acc: 0.4910 - val_mean_squared_error: 0.7802 - val_binary_crossentropy: 0.7856\n",
      "Epoch 5/15\n",
      "833/833 [==============================] - 0s 142us/step - loss: -0.1211 - acc: 0.5042 - mean_squared_error: 0.7842 - binary_crossentropy: 0.7452 - val_loss: -0.0757 - val_acc: 0.4910 - val_mean_squared_error: 0.7816 - val_binary_crossentropy: 0.7899\n",
      "Epoch 6/15\n",
      "833/833 [==============================] - 0s 123us/step - loss: -0.1370 - acc: 0.5042 - mean_squared_error: 0.7846 - binary_crossentropy: 0.7463 - val_loss: -0.0902 - val_acc: 0.4910 - val_mean_squared_error: 0.7856 - val_binary_crossentropy: 0.8011\n",
      "Epoch 7/15\n",
      "833/833 [==============================] - 0s 103us/step - loss: -0.1546 - acc: 0.5042 - mean_squared_error: 0.7881 - binary_crossentropy: 0.7544 - val_loss: -0.1048 - val_acc: 0.4910 - val_mean_squared_error: 0.7888 - val_binary_crossentropy: 0.8108\n",
      "Epoch 8/15\n",
      "833/833 [==============================] - 0s 115us/step - loss: -0.1728 - acc: 0.5042 - mean_squared_error: 0.7902 - binary_crossentropy: 0.7600 - val_loss: -0.1207 - val_acc: 0.4910 - val_mean_squared_error: 0.7932 - val_binary_crossentropy: 0.8240\n",
      "Epoch 9/15\n",
      "833/833 [==============================] - 0s 107us/step - loss: -0.1921 - acc: 0.5042 - mean_squared_error: 0.7926 - binary_crossentropy: 0.7660 - val_loss: -0.1371 - val_acc: 0.4910 - val_mean_squared_error: 0.7973 - val_binary_crossentropy: 0.8371\n",
      "Epoch 10/15\n",
      "833/833 [==============================] - 0s 120us/step - loss: -0.2118 - acc: 0.5042 - mean_squared_error: 0.7962 - binary_crossentropy: 0.7750 - val_loss: -0.1557 - val_acc: 0.4910 - val_mean_squared_error: 0.8042 - val_binary_crossentropy: 0.8589\n",
      "Epoch 11/15\n",
      "833/833 [==============================] - 0s 107us/step - loss: -0.2336 - acc: 0.5042 - mean_squared_error: 0.8035 - binary_crossentropy: 0.7945 - val_loss: -0.1728 - val_acc: 0.4910 - val_mean_squared_error: 0.8088 - val_binary_crossentropy: 0.8749\n",
      "Epoch 12/15\n",
      "833/833 [==============================] - 0s 105us/step - loss: -0.2536 - acc: 0.5042 - mean_squared_error: 0.8078 - binary_crossentropy: 0.8068 - val_loss: -0.1901 - val_acc: 0.4910 - val_mean_squared_error: 0.8138 - val_binary_crossentropy: 0.8925\n",
      "Epoch 13/15\n",
      "833/833 [==============================] - 0s 124us/step - loss: -0.2740 - acc: 0.5042 - mean_squared_error: 0.8109 - binary_crossentropy: 0.8165 - val_loss: -0.2080 - val_acc: 0.4910 - val_mean_squared_error: 0.8191 - val_binary_crossentropy: 0.9123\n",
      "Epoch 14/15\n",
      "833/833 [==============================] - 0s 138us/step - loss: -0.2950 - acc: 0.5042 - mean_squared_error: 0.8164 - binary_crossentropy: 0.8338 - val_loss: -0.2272 - val_acc: 0.4910 - val_mean_squared_error: 0.8252 - val_binary_crossentropy: 0.9359\n",
      "Epoch 15/15\n",
      "833/833 [==============================] - 0s 151us/step - loss: -0.3172 - acc: 0.5042 - mean_squared_error: 0.8230 - binary_crossentropy: 0.8542 - val_loss: -0.2481 - val_acc: 0.4910 - val_mean_squared_error: 0.8325 - val_binary_crossentropy: 0.9650\n"
     ]
    },
    {
     "data": {
      "text/plain": [
       "<keras.callbacks.History at 0x11c36ecf8>"
      ]
     },
     "execution_count": 116,
     "metadata": {},
     "output_type": "execute_result"
    }
   ],
   "source": [
    "# decoder.fit(x_train, y_train, epochs=epochs, batch_size=batch_size, callbacks=[TensorBoard(log_dir=config.tmp_log_dir)])\n",
    "decoder.fit(x_train, y_train, epochs=epochs, batch_size=batch_size,\n",
    "          validation_split=1/6, callbacks=[TensorBoard(log_dir=config.tmp_log_dir)])"
   ]
  },
  {
   "cell_type": "code",
   "execution_count": 132,
   "metadata": {},
   "outputs": [
    {
     "data": {
      "text/plain": [
       "(2, 2)"
      ]
     },
     "execution_count": 132,
     "metadata": {},
     "output_type": "execute_result"
    }
   ],
   "source": [
    "x_test, y_test = gen_xy(2)\n",
    "x_test.shape"
   ]
  },
  {
   "cell_type": "code",
   "execution_count": null,
   "metadata": {},
   "outputs": [],
   "source": [
    "decoder.predict(x_test)[0]"
   ]
  },
  {
   "cell_type": "code",
   "execution_count": 113,
   "metadata": {},
   "outputs": [
    {
     "data": {
      "text/plain": [
       "array([ 0.99965564, -0.19724398])"
      ]
     },
     "execution_count": 113,
     "metadata": {},
     "output_type": "execute_result"
    }
   ],
   "source": [
    "y_test[0]"
   ]
  },
  {
   "cell_type": "code",
   "execution_count": 136,
   "metadata": {},
   "outputs": [],
   "source": [
    "x_test = np.stack([[x / 100, x] for x in np.arange(100)])\n",
    "x_test.shape\n",
    "result = decoder.predict(x_test)"
   ]
  },
  {
   "cell_type": "code",
   "execution_count": 137,
   "metadata": {},
   "outputs": [
    {
     "data": {
      "text/plain": [
       "(100, 2)"
      ]
     },
     "execution_count": 137,
     "metadata": {},
     "output_type": "execute_result"
    }
   ],
   "source": [
    "result.shape"
   ]
  },
  {
   "cell_type": "code",
   "execution_count": 138,
   "metadata": {},
   "outputs": [
    {
     "data": {
      "text/plain": [
       "[<matplotlib.lines.Line2D at 0x120b4f080>]"
      ]
     },
     "execution_count": 138,
     "metadata": {},
     "output_type": "execute_result"
    },
    {
     "data": {
      "image/png": "[encoded data removed]",
      "text/plain": [
       "<matplotlib.figure.Figure at 0x11e053780>"
      ]
     },
     "metadata": {},
     "output_type": "display_data"
    }
   ],
   "source": [
    "plt.plot(result[:,0])"
   ]
  },
  {
   "cell_type": "code",
   "execution_count": null,
   "metadata": {},
   "outputs": [],
   "source": []
  },
  {
   "cell_type": "code",
   "execution_count": null,
   "metadata": {},
   "outputs": [],
   "source": []
  },
  {
   "cell_type": "code",
   "execution_count": null,
   "metadata": {},
   "outputs": [],
   "source": []
  },
  {
   "cell_type": "code",
   "execution_count": null,
   "metadata": {},
   "outputs": [],
   "source": []
  },
  {
   "cell_type": "code",
   "execution_count": null,
   "metadata": {},
   "outputs": [],
   "source": []
  },
  {
   "cell_type": "code",
   "execution_count": null,
   "metadata": {},
   "outputs": [],
   "source": []
  }
 ],
 "metadata": {
  "kernelspec": {
   "display_name": "Python 3",
   "language": "python",
   "name": "python3"
  },
  "language_info": {
   "codemirror_mode": {
    "name": "ipython",
    "version": 3
   },
   "file_extension": ".py",
   "mimetype": "text/x-python",
   "name": "python",
   "nbconvert_exporter": "python",
   "pygments_lexer": "ipython3",
   "version": "3.6.4"
  }
 },
 "nbformat": 4,
 "nbformat_minor": 2
}
