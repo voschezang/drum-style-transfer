{
 "cells": [
  {
   "cell_type": "code",
   "execution_count": 1,
   "metadata": {},
   "outputs": [],
   "source": [
    "import config\n",
    "import os, numpy as np, pandas, sklearn, scipy.signal as signal\n",
    "import mido\n",
    "import matplotlib.pyplot as plt\n",
    "%matplotlib inline"
   ]
  },
  {
   "cell_type": "code",
   "execution_count": 2,
   "metadata": {},
   "outputs": [
    {
     "name": "stderr",
     "output_type": "stream",
     "text": [
      "/Library/Frameworks/Python.framework/Versions/3.6/lib/python3.6/site-packages/h5py/__init__.py:36: FutureWarning: Conversion of the second argument of issubdtype from `float` to `np.floating` is deprecated. In future, it will be treated as `np.float64 == np.dtype(float).type`.\n",
      "  from ._conv import register_converters as _register_converters\n",
      "Using TensorFlow backend.\n"
     ]
    }
   ],
   "source": [
    "## NN libs\n",
    "from sklearn.decomposition import PCA\n",
    "from sklearn import preprocessing\n",
    "from sklearn.preprocessing import RobustScaler\n",
    "import keras\n",
    "from keras import regularizers\n",
    "from keras import backend as K, metrics\n",
    "from keras.utils import to_categorical, plot_model\n",
    "from keras.layers import Input, Dense, Activation, Conv1D, Conv2D, Dropout, Flatten, Lambda\n",
    "from keras.layers import Conv2DTranspose, Reshape, MaxPooling2D, UpSampling2D, UpSampling1D, MaxPooling1D\n",
    "from keras.layers import LocallyConnected1D, LocallyConnected2D\n",
    "from keras.layers import Input, LSTM, RepeatVector\n",
    "from keras.models import Model\n",
    "from keras.callbacks import TensorBoard"
   ]
  },
  {
   "cell_type": "code",
   "execution_count": 3,
   "metadata": {},
   "outputs": [
    {
     "name": "stdout",
     "output_type": "stream",
     "text": [
      " Context :: namedtuple(\n",
      "[ max_t = float\n",
      ", dt = float\n",
      ", n_instances = int\n",
      ", note_length = int\n",
      ", bpm = float\n",
      ", tempo = float\n",
      ", ticks_per_beat = int\n",
      "]\n",
      "\n"
     ]
    }
   ],
   "source": [
    "# local libs\n",
    "import config, models, functions\n",
    "from data import data, midi, midi_generators as g\n",
    "from utils import io, models_io, utils"
   ]
  },
  {
   "cell_type": "code",
   "execution_count": 4,
   "metadata": {
    "scrolled": true
   },
   "outputs": [
    {
     "name": "stdout",
     "output_type": "stream",
     "text": [
      "Setting up params\n",
      "\n",
      "max min f 25.0 0.3333333333333333\n",
      " >> Context(max_t=3.0, dt=0.02, n_instances=150, note_length=0.03, bpm=120.0, tempo=500000, ticks_per_beat=480)\n",
      "Setting up params\n",
      "\n",
      "max min f 25.0 0.3333333333333333\n",
      " >> Context(max_t=3.0, dt=0.02, n_instances=150, note_length=0.03, bpm=120.0, tempo=500000, ticks_per_beat=480)\n",
      "Importing midi-data\n",
      "\n",
      "\u001b[92m [INFO] : \u001b[0m\n",
      " |  reading file: ../datasets/examples/01 16th Snare.mid\n",
      "\u001b[92m [INFO] : \u001b[0m\n",
      " |  reading file: ../datasets/examples/01 8th Cym.mid\n",
      "\n",
      "Encoding midi-data\n",
      " [<midi file '../datasets/examples/01 16th Snare.mid' type 0, 1 tracks, 182 messages>, <midi file '../datasets/examples/01 8th Cym.mid' type 0, 1 tracks, 68 messages>]\n",
      "> -> multi-track = False\n",
      "\u001b[91m [DEBUG] > \u001b[0m\n",
      " |>  to_array: msg.time > max_t; t, n\n",
      " |>  2.994791666666667\n",
      " |>  150\n",
      "\u001b[91m [DEBUG] > \u001b[0m\n",
      " |>  to_array: msg.time > max_t; t, n\n",
      " |>  2.9947916666666665\n",
      " |>  150\n"
     ]
    }
   ],
   "source": [
    "context = data.init()\n",
    "n = 2\n",
    "multiTrack = False\n",
    "context, x_train, labels = data.import_data(data.init(), n, multiTrack=multiTrack)"
   ]
  },
  {
   "cell_type": "code",
   "execution_count": 5,
   "metadata": {},
   "outputs": [
    {
     "name": "stdout",
     "output_type": "stream",
     "text": [
      "\u001b[91m [DEBUG] > \u001b[0m\n",
      " |>  to_array: msg.time > max_t; t, n\n",
      " |>  2.9947916666666634\n",
      " |>  150\n",
      "\u001b[91m [DEBUG] > \u001b[0m\n",
      " |>  to_array: msg.time > max_t; t, n\n",
      " |>  3.000000000000002\n",
      " |>  150\n",
      "\u001b[91m [DEBUG] > \u001b[0m\n",
      " |>  to_array: msg.time > max_t; t, n\n",
      " |>  2.9958333333333362\n",
      " |>  150\n",
      "\u001b[91m [DEBUG] > \u001b[0m\n",
      " |>  to_array: msg.time > max_t; t, n\n",
      " |>  3.018750000000002\n",
      " |>  150\n",
      "\u001b[91m [DEBUG] > \u001b[0m\n",
      " |>  to_array: msg.time > max_t; t, n\n",
      " |>  2.990625000000001\n",
      " |>  150\n",
      "\u001b[91m [DEBUG] > \u001b[0m\n",
      " |>  to_array: msg.time > max_t; t, n\n",
      " |>  3.0062500000000023\n",
      " |>  150\n",
      "\u001b[91m [DEBUG] > \u001b[0m\n",
      " |>  to_array: msg.time > max_t; t, n\n",
      " |>  2.998958333333334\n",
      " |>  150\n",
      "\u001b[91m [DEBUG] > \u001b[0m\n",
      " |>  to_array: msg.time > max_t; t, n\n",
      " |>  2.9937499999999995\n",
      " |>  150\n",
      "\u001b[91m [DEBUG] > \u001b[0m\n",
      " |>  to_array: msg.time > max_t; t, n\n",
      " |>  3.0072916666666676\n",
      " |>  150\n",
      "\u001b[91m [DEBUG] > \u001b[0m\n",
      " |>  to_array: msg.time > max_t; t, n\n",
      " |>  3.004166666666668\n",
      " |>  150\n",
      "\u001b[91m [DEBUG] > \u001b[0m\n",
      " |>  to_array: msg.time > max_t; t, n\n",
      " |>  2.991666666666668\n",
      " |>  150\n",
      "\u001b[91m [DEBUG] > \u001b[0m\n",
      " |>  to_array: msg.time > max_t; t, n\n",
      " |>  2.99166666666667\n",
      " |>  150\n",
      "\u001b[91m [DEBUG] > \u001b[0m\n",
      " |>  to_array: msg.time > max_t; t, n\n",
      " |>  3.026041666666665\n",
      " |>  150\n",
      "\u001b[91m [DEBUG] > \u001b[0m\n",
      " |>  to_array: msg.time > max_t; t, n\n",
      " |>  2.996875000000001\n",
      " |>  150\n",
      "\u001b[91m [DEBUG] > \u001b[0m\n",
      " |>  to_array: msg.time > max_t; t, n\n",
      " |>  3.015625000000003\n",
      " |>  150\n",
      "\u001b[91m [DEBUG] > \u001b[0m\n",
      " |>  to_array: msg.time > max_t; t, n\n",
      " |>  2.9937500000000026\n",
      " |>  150\n",
      "\u001b[91m [DEBUG] > \u001b[0m\n",
      " |>  to_array: msg.time > max_t; t, n\n",
      " |>  2.995833333333336\n",
      " |>  150\n",
      "\u001b[91m [DEBUG] > \u001b[0m\n",
      " |>  to_array: msg.time > max_t; t, n\n",
      " |>  3.008333333333337\n",
      " |>  150\n",
      "\u001b[91m [DEBUG] > \u001b[0m\n",
      " |>  to_array: msg.time > max_t; t, n\n",
      " |>  3.0104166666666683\n",
      " |>  150\n",
      "\u001b[91m [DEBUG] > \u001b[0m\n",
      " |>  to_array: msg.time > max_t; t, n\n",
      " |>  2.991666666666668\n",
      " |>  150\n",
      "\u001b[91m [DEBUG] > \u001b[0m\n",
      " |>  to_array: msg.time > max_t; t, n\n",
      " |>  3.002083333333336\n",
      " |>  150\n",
      "\u001b[91m [DEBUG] > \u001b[0m\n",
      " |>  to_array: msg.time > max_t; t, n\n",
      " |>  3.0031250000000034\n",
      " |>  150\n",
      "\u001b[91m [DEBUG] > \u001b[0m\n",
      " |>  to_array: msg.time > max_t; t, n\n",
      " |>  3.0260416666666687\n",
      " |>  150\n",
      "\u001b[91m [DEBUG] > \u001b[0m\n",
      " |>  to_array: msg.time > max_t; t, n\n",
      " |>  2.9947916666666705\n",
      " |>  150\n",
      "\u001b[91m [DEBUG] > \u001b[0m\n",
      " |>  to_array: msg.time > max_t; t, n\n",
      " |>  3.034374999999999\n",
      " |>  150\n",
      "\u001b[91m [DEBUG] > \u001b[0m\n",
      " |>  to_array: msg.time > max_t; t, n\n",
      " |>  2.9927083333333355\n",
      " |>  150\n",
      "\u001b[91m [DEBUG] > \u001b[0m\n",
      " |>  to_array: msg.time > max_t; t, n\n",
      " |>  2.9958333333333345\n",
      " |>  150\n",
      "\u001b[91m [DEBUG] > \u001b[0m\n",
      " |>  to_array: msg.time > max_t; t, n\n",
      " |>  2.990625000000001\n",
      " |>  150\n",
      "\u001b[91m [DEBUG] > \u001b[0m\n",
      " |>  to_array: msg.time > max_t; t, n\n",
      " |>  2.993750000000001\n",
      " |>  150\n",
      "\u001b[91m [DEBUG] > \u001b[0m\n",
      " |>  to_array: msg.time > max_t; t, n\n",
      " |>  3.002083333333335\n",
      " |>  150\n",
      "\u001b[91m [DEBUG] > \u001b[0m\n",
      " |>  to_array: msg.time > max_t; t, n\n",
      " |>  3.0052083333333353\n",
      " |>  150\n",
      "\u001b[91m [DEBUG] > \u001b[0m\n",
      " |>  to_array: msg.time > max_t; t, n\n",
      " |>  2.9916666666666676\n",
      " |>  150\n",
      "\u001b[91m [DEBUG] > \u001b[0m\n",
      " |>  to_array: msg.time > max_t; t, n\n",
      " |>  2.9989583333333343\n",
      " |>  150\n",
      "\u001b[91m [DEBUG] > \u001b[0m\n",
      " |>  to_array: msg.time > max_t; t, n\n",
      " |>  2.9947916666666656\n",
      " |>  150\n",
      "\u001b[91m [DEBUG] > \u001b[0m\n",
      " |>  to_array: msg.time > max_t; t, n\n",
      " |>  3.001041666666665\n",
      " |>  150\n",
      "\u001b[91m [DEBUG] > \u001b[0m\n",
      " |>  to_array: msg.time > max_t; t, n\n",
      " |>  3.0052083333333353\n",
      " |>  150\n",
      "\u001b[91m [DEBUG] > \u001b[0m\n",
      " |>  to_array: msg.time > max_t; t, n\n",
      " |>  2.9989583333333347\n",
      " |>  150\n",
      "\u001b[91m [DEBUG] > \u001b[0m\n",
      " |>  to_array: msg.time > max_t; t, n\n",
      " |>  2.9958333333333353\n",
      " |>  150\n",
      "\u001b[91m [DEBUG] > \u001b[0m\n",
      " |>  to_array: msg.time > max_t; t, n\n",
      " |>  2.9968750000000024\n",
      " |>  150\n",
      "\u001b[91m [DEBUG] > \u001b[0m\n",
      " |>  to_array: msg.time > max_t; t, n\n",
      " |>  3.0104166666666687\n",
      " |>  150\n",
      "\u001b[91m [DEBUG] > \u001b[0m\n",
      " |>  to_array: msg.time > max_t; t, n\n",
      " |>  2.992708333333332\n",
      " |>  150\n",
      "\u001b[91m [DEBUG] > \u001b[0m\n",
      " |>  to_array: msg.time > max_t; t, n\n",
      " |>  3.001041666666668\n",
      " |>  150\n",
      "\u001b[91m [DEBUG] > \u001b[0m\n",
      " |>  to_array: msg.time > max_t; t, n\n",
      " |>  2.9937500000000052\n",
      " |>  150\n",
      "\u001b[91m [DEBUG] > \u001b[0m\n",
      " |>  to_array: msg.time > max_t; t, n\n",
      " |>  2.9999999999999982\n",
      " |>  150\n",
      "\u001b[91m [DEBUG] > \u001b[0m\n",
      " |>  to_array: msg.time > max_t; t, n\n",
      " |>  2.9927083333333337\n",
      " |>  150\n",
      "\u001b[91m [DEBUG] > \u001b[0m\n",
      " |>  to_array: msg.time > max_t; t, n\n",
      " |>  3.002083333333337\n",
      " |>  150\n",
      "\u001b[91m [DEBUG] > \u001b[0m\n",
      " |>  to_array: msg.time > max_t; t, n\n",
      " |>  2.997916666666667\n",
      " |>  150\n",
      "\u001b[91m [DEBUG] > \u001b[0m\n",
      " |>  to_array: msg.time > max_t; t, n\n",
      " |>  3.0052083333333353\n",
      " |>  150\n",
      "\u001b[91m [DEBUG] > \u001b[0m\n",
      " |>  to_array: msg.time > max_t; t, n\n",
      " |>  2.998958333333335\n",
      " |>  150\n",
      "\u001b[91m [DEBUG] > \u001b[0m\n",
      " |>  to_array: msg.time > max_t; t, n\n",
      " |>  2.9906249999999988\n",
      " |>  150\n",
      "\u001b[91m [DEBUG] > \u001b[0m\n",
      " |>  to_array: msg.time > max_t; t, n\n",
      " |>  3.0031250000000034\n",
      " |>  150\n",
      "\u001b[91m [DEBUG] > \u001b[0m\n",
      " |>  to_array: msg.time > max_t; t, n\n",
      " |>  3.0062500000000014\n",
      " |>  150\n",
      "\u001b[91m [DEBUG] > \u001b[0m\n",
      " |>  to_array: msg.time > max_t; t, n\n",
      " |>  2.991666666666667\n",
      " |>  150\n",
      "\u001b[91m [DEBUG] > \u001b[0m\n",
      " |>  to_array: msg.time > max_t; t, n\n",
      " |>  3.007291666666669\n",
      " |>  150\n",
      "\u001b[91m [DEBUG] > \u001b[0m\n",
      " |>  to_array: msg.time > max_t; t, n\n",
      " |>  2.9916666666666663\n",
      " |>  150\n",
      "\u001b[91m [DEBUG] > \u001b[0m\n",
      " |>  to_array: msg.time > max_t; t, n\n",
      " |>  3.003124999999999\n",
      " |>  150\n",
      "\u001b[91m [DEBUG] > \u001b[0m\n",
      " |>  to_array: msg.time > max_t; t, n\n",
      " |>  3.0052083333333353\n",
      " |>  150\n",
      "\u001b[91m [DEBUG] > \u001b[0m\n",
      " |>  to_array: msg.time > max_t; t, n\n",
      " |>  3.000000000000001\n",
      " |>  150\n",
      "\u001b[91m [DEBUG] > \u001b[0m\n",
      " |>  to_array: msg.time > max_t; t, n\n",
      " |>  3.032291666666669\n",
      " |>  150\n",
      "\u001b[91m [DEBUG] > \u001b[0m\n",
      " |>  to_array: msg.time > max_t; t, n\n",
      " |>  3.0000000000000027\n",
      " |>  150\n",
      "\u001b[91m [DEBUG] > \u001b[0m\n",
      " |>  to_array: msg.time > max_t; t, n\n",
      " |>  2.9906250000000014\n",
      " |>  150\n",
      "\u001b[91m [DEBUG] > \u001b[0m\n",
      " |>  to_array: msg.time > max_t; t, n\n",
      " |>  3.0052083333333357\n",
      " |>  150\n",
      "\u001b[91m [DEBUG] > \u001b[0m\n",
      " |>  to_array: msg.time > max_t; t, n\n",
      " |>  2.9947916666666687\n",
      " |>  150\n",
      "\u001b[91m [DEBUG] > \u001b[0m\n",
      " |>  to_array: msg.time > max_t; t, n\n",
      " |>  2.9927083333333346\n",
      " |>  150\n",
      "\u001b[91m [DEBUG] > \u001b[0m\n",
      " |>  to_array: msg.time > max_t; t, n\n",
      " |>  2.9989583333333387\n",
      " |>  150\n",
      "\u001b[91m [DEBUG] > \u001b[0m\n",
      " |>  to_array: msg.time > max_t; t, n\n",
      " |>  2.992708333333336\n",
      " |>  150\n",
      "\u001b[91m [DEBUG] > \u001b[0m\n",
      " |>  to_array: msg.time > max_t; t, n\n",
      " |>  2.996875000000001\n",
      " |>  150\n",
      "\u001b[91m [DEBUG] > \u001b[0m\n",
      " |>  to_array: msg.time > max_t; t, n\n",
      " |>  3.0020833333333354\n",
      " |>  150\n",
      "\u001b[91m [DEBUG] > \u001b[0m\n",
      " |>  to_array: msg.time > max_t; t, n\n",
      " |>  3.002083333333335\n",
      " |>  150\n",
      "\u001b[91m [DEBUG] > \u001b[0m\n",
      " |>  to_array: msg.time > max_t; t, n\n",
      " |>  3.0041666666666678\n",
      " |>  150\n",
      "\u001b[91m [DEBUG] > \u001b[0m\n",
      " |>  to_array: msg.time > max_t; t, n\n",
      " |>  3.0281249999999975\n",
      " |>  150\n",
      "\u001b[91m [DEBUG] > \u001b[0m\n",
      " |>  to_array: msg.time > max_t; t, n\n",
      " |>  3.0260416666666687\n",
      " |>  150\n",
      "\u001b[91m [DEBUG] > \u001b[0m\n",
      " |>  to_array: msg.time > max_t; t, n\n",
      " |>  3.0031250000000025\n",
      " |>  150\n",
      "\u001b[91m [DEBUG] > \u001b[0m\n",
      " |>  to_array: msg.time > max_t; t, n\n",
      " |>  3.003125000000003\n",
      " |>  150\n",
      "\u001b[91m [DEBUG] > \u001b[0m\n",
      " |>  to_array: msg.time > max_t; t, n\n",
      " |>  3.007291666666668\n",
      " |>  150\n",
      "\u001b[91m [DEBUG] > \u001b[0m\n",
      " |>  to_array: msg.time > max_t; t, n\n",
      " |>  2.9937500000000004\n",
      " |>  150\n",
      "\u001b[91m [DEBUG] > \u001b[0m\n",
      " |>  to_array: msg.time > max_t; t, n\n",
      " |>  3.0031250000000003\n",
      " |>  150\n",
      "\u001b[91m [DEBUG] > \u001b[0m\n",
      " |>  to_array: msg.time > max_t; t, n\n",
      " |>  2.9916666666666694\n",
      " |>  150\n",
      "\u001b[91m [DEBUG] > \u001b[0m\n",
      " |>  to_array: msg.time > max_t; t, n\n",
      " |>  2.99375\n",
      " |>  150\n",
      "\u001b[91m [DEBUG] > \u001b[0m\n",
      " |>  to_array: msg.time > max_t; t, n\n",
      " |>  2.9947916666666683\n",
      " |>  150\n",
      "\u001b[91m [DEBUG] > \u001b[0m\n",
      " |>  to_array: msg.time > max_t; t, n\n",
      " |>  3.004166666666668\n",
      " |>  150\n",
      "\u001b[91m [DEBUG] > \u001b[0m\n",
      " |>  to_array: msg.time > max_t; t, n\n",
      " |>  2.996875\n",
      " |>  150\n",
      "\u001b[91m [DEBUG] > \u001b[0m\n",
      " |>  to_array: msg.time > max_t; t, n\n",
      " |>  3.007291666666666\n",
      " |>  150\n",
      "\u001b[91m [DEBUG] > \u001b[0m\n",
      " |>  to_array: msg.time > max_t; t, n\n",
      " |>  3.0250000000000017\n",
      " |>  150\n",
      "\u001b[91m [DEBUG] > \u001b[0m\n",
      " |>  to_array: msg.time > max_t; t, n\n",
      " |>  3.007291666666666\n",
      " |>  150\n",
      "\u001b[91m [DEBUG] > \u001b[0m\n",
      " |>  to_array: msg.time > max_t; t, n\n",
      " |>  2.997916666666663\n",
      " |>  150\n",
      "\u001b[91m [DEBUG] > \u001b[0m\n",
      " |>  to_array: msg.time > max_t; t, n\n",
      " |>  2.998958333333334\n",
      " |>  150\n",
      "\u001b[91m [DEBUG] > \u001b[0m\n",
      " |>  to_array: msg.time > max_t; t, n\n",
      " |>  3.026041666666666\n",
      " |>  150\n",
      "\u001b[91m [DEBUG] > \u001b[0m\n",
      " |>  to_array: msg.time > max_t; t, n\n",
      " |>  3.0062500000000005\n",
      " |>  150\n",
      "\u001b[91m [DEBUG] > \u001b[0m\n",
      " |>  to_array: msg.time > max_t; t, n\n",
      " |>  2.994791666666666\n",
      " |>  150\n",
      "\u001b[91m [DEBUG] > \u001b[0m\n",
      " |>  to_array: msg.time > max_t; t, n\n",
      " |>  2.9916666666666685\n",
      " |>  150\n",
      "\u001b[91m [DEBUG] > \u001b[0m\n",
      " |>  to_array: msg.time > max_t; t, n\n",
      " |>  2.9958333333333305\n",
      " |>  150\n"
     ]
    },
    {
     "name": "stdout",
     "output_type": "stream",
     "text": [
      "\u001b[91m [DEBUG] > \u001b[0m\n",
      " |>  to_array: msg.time > max_t; t, n\n",
      " |>  2.993750000000003\n",
      " |>  150\n",
      "\u001b[91m [DEBUG] > \u001b[0m\n",
      " |>  to_array: msg.time > max_t; t, n\n",
      " |>  3.002083333333334\n",
      " |>  150\n",
      "\u001b[91m [DEBUG] > \u001b[0m\n",
      " |>  to_array: msg.time > max_t; t, n\n",
      " |>  2.9906249999999996\n",
      " |>  150\n",
      "\u001b[91m [DEBUG] > \u001b[0m\n",
      " |>  to_array: msg.time > max_t; t, n\n",
      " |>  3.008333333333335\n",
      " |>  150\n",
      "\u001b[91m [DEBUG] > \u001b[0m\n",
      " |>  to_array: msg.time > max_t; t, n\n",
      " |>  2.99479166666667\n",
      " |>  150\n",
      "\u001b[91m [DEBUG] > \u001b[0m\n",
      " |>  to_array: msg.time > max_t; t, n\n",
      " |>  2.992708333333335\n",
      " |>  150\n",
      "\u001b[91m [DEBUG] > \u001b[0m\n",
      " |>  to_array: msg.time > max_t; t, n\n",
      " |>  2.998958333333334\n",
      " |>  150\n",
      "\u001b[91m [DEBUG] > \u001b[0m\n",
      " |>  to_array: msg.time > max_t; t, n\n",
      " |>  2.9947916666666687\n",
      " |>  150\n"
     ]
    }
   ],
   "source": [
    "n = 100\n",
    "min_f = 3\n",
    "max_f = 15\n",
    "# x_train = g.gen_data(context, n, max_f=max_f, min_f=min_f)\n",
    "x_train = g.gen_data_complex(context, n, max_f=max_f, min_f=min_f, multiTrack=multiTrack)\n",
    "y_train = x_train\n",
    "x_test = x_train[-10:]\n",
    "x_train = x_train[:-10]"
   ]
  },
  {
   "cell_type": "code",
   "execution_count": 6,
   "metadata": {},
   "outputs": [
    {
     "data": {
      "text/plain": [
       "(252, 150, 1)"
      ]
     },
     "execution_count": 6,
     "metadata": {},
     "output_type": "execute_result"
    }
   ],
   "source": [
    "x_train.shape"
   ]
  },
  {
   "cell_type": "code",
   "execution_count": 7,
   "metadata": {},
   "outputs": [
    {
     "data": {
      "text/plain": [
       "[<matplotlib.lines.Line2D at 0x11928db00>]"
      ]
     },
     "execution_count": 7,
     "metadata": {},
     "output_type": "execute_result"
    },
    {
     "data": {
      "image/png": "[encoded data removed]",
      "text/plain": [
       "<matplotlib.figure.Figure at 0x1179b7400>"
      ]
     },
     "metadata": {},
     "output_type": "display_data"
    }
   ],
   "source": [
    "plt.plot(x_train[0,:60])\n",
    "plt.plot(x_train[1,:60])"
   ]
  },
  {
   "cell_type": "code",
   "execution_count": 8,
   "metadata": {},
   "outputs": [
    {
     "data": {
      "text/plain": [
       "[<matplotlib.lines.Line2D at 0x117a72358>]"
      ]
     },
     "execution_count": 8,
     "metadata": {},
     "output_type": "execute_result"
    },
    {
     "data": {
      "image/png": "[encoded data removed]",
      "text/plain": [
       "<matplotlib.figure.Figure at 0x1179b70b8>"
      ]
     },
     "metadata": {},
     "output_type": "display_data"
    }
   ],
   "source": [
    "plt.plot(x_train[2,:60])\n",
    "plt.plot(x_train[3,:60])"
   ]
  },
  {
   "cell_type": "code",
   "execution_count": 13,
   "metadata": {},
   "outputs": [
    {
     "data": {
      "text/plain": [
       "(252, 150, 1)"
      ]
     },
     "execution_count": 13,
     "metadata": {},
     "output_type": "execute_result"
    }
   ],
   "source": [
    "x_train.shape"
   ]
  },
  {
   "cell_type": "code",
   "execution_count": 14,
   "metadata": {},
   "outputs": [
    {
     "data": {
      "text/plain": [
       "(150, 1)"
      ]
     },
     "execution_count": 14,
     "metadata": {},
     "output_type": "execute_result"
    }
   ],
   "source": [
    "n_samples = x_train[0]\n",
    "input_shape = x_train.shape[1:] # shape of a single sample\n",
    "output_shape = y_train.shape[1:] # shape of a single sample\n",
    "# output_length = y_train.shape[1:][0]\n",
    "input_shape"
   ]
  },
  {
   "cell_type": "code",
   "execution_count": 15,
   "metadata": {},
   "outputs": [
    {
     "data": {
      "text/plain": [
       "(150, 1)"
      ]
     },
     "execution_count": 15,
     "metadata": {},
     "output_type": "execute_result"
    }
   ],
   "source": [
    "output_shape"
   ]
  },
  {
   "cell_type": "code",
   "execution_count": 16,
   "metadata": {},
   "outputs": [],
   "source": [
    "num_encoder_tokens = x_train.shape[-1]\n",
    "num_decoder_tokens = y_train.shape[-1]\n",
    "# latent_dim = 1"
   ]
  },
  {
   "cell_type": "code",
   "execution_count": 17,
   "metadata": {
    "scrolled": true
   },
   "outputs": [],
   "source": [
    "k_reg = regularizers.l2(0.01) # 10e-5\n",
    "# b_reg = regularizers.l1(0.01)\n",
    "a_reg = regularizers.l1(0.01) # 10e-5"
   ]
  },
  {
   "cell_type": "code",
   "execution_count": 18,
   "metadata": {},
   "outputs": [
    {
     "data": {
      "text/plain": [
       "(150, 1)"
      ]
     },
     "execution_count": 18,
     "metadata": {},
     "output_type": "execute_result"
    }
   ],
   "source": [
    "input_shape\n",
    "# input_shape = (150,)\n",
    "input_shape"
   ]
  },
  {
   "cell_type": "code",
   "execution_count": 19,
   "metadata": {},
   "outputs": [],
   "source": [
    "batch_size = 32\n",
    "original_dim = 150\n",
    "latent_dim = 3\n",
    "intermediate_dim = 150\n",
    "epsilon_std = 1.0"
   ]
  },
  {
   "cell_type": "code",
   "execution_count": 20,
   "metadata": {},
   "outputs": [],
   "source": [
    "# TODO Batch Normalization"
   ]
  },
  {
   "cell_type": "code",
   "execution_count": 21,
   "metadata": {},
   "outputs": [],
   "source": [
    "def sampling(args, latent_dim, epsilon_std):\n",
    "    z_mean, z_log_var = args\n",
    "    # epsilon = K.random_normal(shape=(batch_size, latent_dim), mean=0., stddev=epsilon_std)\n",
    "    epsilon = K.random_normal(shape=(K.shape(z_mean)[0], latent_dim), mean=0., stddev=epsilon_std)\n",
    "    return z_mean + K.exp(z_log_var / 2) * epsilon"
   ]
  },
  {
   "cell_type": "code",
   "execution_count": 116,
   "metadata": {},
   "outputs": [],
   "source": [
    "k_reg = regularizers.l2(1e-5)\n",
    "# b_reg = regularizers.l1(0.01)\n",
    "a_reg = regularizers.l1(1e-5)\n",
    "\n",
    "def encoder(latent_dim, input_shape, intermediate_dim = 150):\n",
    "    encoder_input = Input(shape=input_shape, name='encoder_input-')\n",
    "    h = encoder_input\n",
    "    # image_data_format = 'channels_last'   -   e.g. (28,28,3)\n",
    "    # naive assumption:\n",
    "    #   for drumkits no correlation between note_indices and occurrence at an timestep is assumed\n",
    "    #   (that is, p(E|C) is not significantly different from p(D|C))\n",
    "    #   - note that this _is_ the case for e.g. HH vs. OH\n",
    "    #     these often occur in the same register (between different drumkits)\n",
    "    #   - even with melodic/harmonic data, this assumption could help by reducing\n",
    "    #    (1) unwanted repetition (stuttering) of notes\n",
    "    #    (2) unwanted dissonance (caused by playing notes with an interval of a half step)\n",
    "    \n",
    "    timesteps = input_shape[-2]\n",
    "    notes = input_shape[-1]\n",
    "    \n",
    "    # Convolve & Pool\n",
    "#     h = Conv1D(16, kernel_size=2, strides=1, activation='relu', padding='same')(h)\n",
    "#     h = Conv1D(16, kernel_size=2, strides=1, activation='relu', padding='same')(h)\n",
    "#     h = MaxPooling1D(pool_size=2, strides=2, padding='same')(h)\n",
    "\n",
    "    h = Conv1D(32, kernel_size=2, strides=2, activation='relu', padding='same')(h)\n",
    "    h = Conv1D(32, kernel_size=2, strides=1, activation='relu', padding='same')(h)\n",
    "    h = Conv1D(64, kernel_size=2, strides=1, activation='relu', padding='same')(h)\n",
    "    h = MaxPooling1D(pool_size=2, strides=2, padding='same')(h)\n",
    "    \n",
    "#     h = Conv1D(64, kernel_size=2, strides=2, activation='relu', padding='same')(h)\n",
    "#     h = Conv1D(64, kernel_size=2, strides=1, activation='relu', padding='same')(h)\n",
    "#     h = MaxPooling1D(pool_size=2, strides=2, padding='same')(h)\n",
    "#     # 128 512\n",
    "\n",
    "    # Dense layers\n",
    "    h = Flatten()(h)\n",
    "    h = Dense(intermediate_dim, activation='relu')(h)\n",
    "#     h = Dropout(0.1)(h) # uncomment when using larger batches\n",
    "    h = Dense(intermediate_dim, activation='relu')(h)\n",
    "    # h = Dense(intermediate_dim, activation='relu', kernel_regularizer=k_reg, activity_regularizer=a_reg)(h)\n",
    "\n",
    "    # Z Mean, Variance\n",
    "    z_mean = Dense(latent_dim, name='z_mean')(h) # , activation='relu'\n",
    "    z_log_var = Dense(latent_dim, name='z_log_var')(h) # , activation='relu'\n",
    "    \n",
    "    encoder_output = [z_mean, z_log_var]\n",
    "    encoder_model = Model(encoder_input, encoder_output, name='encoder_model-')\n",
    "    return encoder_model, z_mean, z_log_var, encoder_input\n",
    "\n",
    "def z_(latent_dim, epsilon_std):\n",
    "    # sample z from a distribution defined by [input_mean, input_log_var]\n",
    "    # input :: [z_mean, z_log_var]\n",
    "    z_input = [Input(shape=(latent_dim,)), Input(shape=(latent_dim,))]\n",
    "    sampling_ = lambda args: sampling(args, latent_dim, epsilon_std)\n",
    "    z_output = Lambda(sampling_, name='z_sampler-')(z_input)\n",
    "    # z_output = Lambda(sampling_, output_shape=(latent_dim,), name='z_sampler-')(z_input)\n",
    "    z_model = Model(z_input, z_output, name='z_model-')\n",
    "    return z_model\n",
    "\n",
    "def decoder(latent_dim, output_shape, filters = 32):\n",
    "    z_input = Input(shape=(latent_dim,), name='decoder_input-')\n",
    "    h = z_input\n",
    "    # :output_shape = (timesteps, channels, channels) || (batches, filters, timesteps, channels)\n",
    "    # keras offers just Conv2DTranspose and not Conv1DTranspose\n",
    "    # - use 2D images during upsampling :: (timesteps, notes, channels) => (timesteps, notes, filters)\n",
    "    # - use 1D images to optimize reconstruction :: (timesteps, filters) => (timesteps, notes)\n",
    "    \n",
    "    # at the start of upsampling, the image-structure does not yet have to correspond to the goal structure \n",
    "    # ?TODO use y*y*y starting dims, may conv, and only then correct the structure (?)\n",
    "    \n",
    "    timesteps = output_shape[-2] # cols\n",
    "    notes = output_shape[-1] # rows\n",
    "    channels = 1 # rgb\n",
    "\n",
    "    # image_data_format = 'channels_last'\n",
    "    # goal shape: (timesteps, notes, channels)\n",
    "    # start with the 'reverse': lots of small imgs => few large img\n",
    "    m = 4 # multiplier for dims\n",
    "    output_shape = (channels, notes * m, timesteps)\n",
    "    p = 'valid'\n",
    "\n",
    "    # upsampling\n",
    "    h = Dense(np.prod(output_shape[-3:]), activation='relu')(h)\n",
    "    h = Reshape(output_shape[-3:])(h)\n",
    "    \n",
    "    # Convolve & Pool\n",
    "    # Note that the kernel windows do not yet correspond to 'temporal' features, but rather to just spatial features\n",
    "    k = (3,2) # (2,1) :: (timesteps, notes)\n",
    "    s = (1,3)\n",
    "    timesteps_ = int(timesteps / 2)\n",
    "    h = Conv2DTranspose(timesteps_, kernel_size=k, strides=3, activation='relu', padding=p)(h)\n",
    "    h = Conv2DTranspose(64, kernel_size=k, strides=3, activation='relu', padding=p)(h)\n",
    "    h = Conv2DTranspose(32, kernel_size=k, strides=3, activation='relu', padding=p)(h)\n",
    "    h = Conv2DTranspose(32, kernel_size=k, strides=3, activation='relu', padding=p)(h)\n",
    "    h = MaxPooling2D(pool_size=2, strides=2, padding='same')(h)\n",
    "\n",
    "    h = Conv2DTranspose(32, kernel_size=k, strides=3, activation='relu', padding=p)(h)\n",
    "    h = Conv2DTranspose(32, kernel_size=k, strides=3, activation='relu', padding=p)(h)\n",
    "    # 'end' of upsampling\n",
    "    h = Conv2D(1, kernel_size=(1,2), strides=1, activation='relu', padding=p)(h)\n",
    "    dims = keras.backend.int_shape(h)[1:]\n",
    "    print('dims', dims)\n",
    "    h = Reshape(dims[0:2])(h)\n",
    "    h = Conv1D(16, kernel_size=2, strides=1, activation='relu', padding=p)(h)\n",
    "    # h = Conv1D(16, kernel_size=2, strides=1, activation='relu', padding=p)(h)\n",
    "    h = Conv1D(notes * m, kernel_size=2, strides=2, activation='relu', padding=p)(h)\n",
    "\n",
    "    \n",
    "    # Mean (output)\n",
    "#     h = Conv2D(1, kernel_size=1, strides=s, activation='sigmoid', padding='same')(h)\n",
    "    output_shape = (timesteps, notes)\n",
    "    h = Flatten()(h)\n",
    "    h = Dense(np.prod(output_shape), activation='sigmoid')(h)\n",
    "    output_shape = (timesteps, notes)\n",
    "    h = Reshape(output_shape)(h)\n",
    "    decoder_output = h\n",
    "    model = Model(inputs=z_input, outputs=decoder_output, name='decoder_model-')\n",
    "    return model"
   ]
  },
  {
   "cell_type": "code",
   "execution_count": 117,
   "metadata": {},
   "outputs": [
    {
     "name": "stdout",
     "output_type": "stream",
     "text": [
      "dims (369, 1457, 1)\n",
      "__________________________________________________________________________________________________\n",
      "Layer (type)                    Output Shape         Param #     Connected to                     \n",
      "==================================================================================================\n",
      "encoder_input- (InputLayer)     (None, 150, 1)       0                                            \n",
      "__________________________________________________________________________________________________\n",
      "conv1d_141 (Conv1D)             (None, 75, 32)       96          encoder_input-[0][0]             \n",
      "__________________________________________________________________________________________________\n",
      "conv1d_142 (Conv1D)             (None, 75, 32)       2080        conv1d_141[0][0]                 \n",
      "__________________________________________________________________________________________________\n",
      "conv1d_143 (Conv1D)             (None, 75, 64)       4160        conv1d_142[0][0]                 \n",
      "__________________________________________________________________________________________________\n",
      "max_pooling1d_40 (MaxPooling1D) (None, 38, 64)       0           conv1d_143[0][0]                 \n",
      "__________________________________________________________________________________________________\n",
      "flatten_73 (Flatten)            (None, 2432)         0           max_pooling1d_40[0][0]           \n",
      "__________________________________________________________________________________________________\n",
      "dense_150 (Dense)               (None, 150)          364950      flatten_73[0][0]                 \n",
      "__________________________________________________________________________________________________\n",
      "dense_151 (Dense)               (None, 150)          22650       dense_150[0][0]                  \n",
      "__________________________________________________________________________________________________\n",
      "z_mean (Dense)                  (None, 3)            453         dense_151[0][0]                  \n",
      "__________________________________________________________________________________________________\n",
      "z_log_var (Dense)               (None, 3)            453         dense_151[0][0]                  \n",
      "==================================================================================================\n",
      "Total params: 394,842\n",
      "Trainable params: 394,842\n",
      "Non-trainable params: 0\n",
      "__________________________________________________________________________________________________\n",
      "__________________________________________________________________________________________________\n",
      "Layer (type)                    Output Shape         Param #     Connected to                     \n",
      "==================================================================================================\n",
      "input_94 (InputLayer)           (None, 3)            0                                            \n",
      "__________________________________________________________________________________________________\n",
      "input_95 (InputLayer)           (None, 3)            0                                            \n",
      "__________________________________________________________________________________________________\n",
      "z_sampler- (Lambda)             (None, 3)            0           input_94[0][0]                   \n",
      "                                                                 input_95[0][0]                   \n",
      "==================================================================================================\n",
      "Total params: 0\n",
      "Trainable params: 0\n",
      "Non-trainable params: 0\n",
      "__________________________________________________________________________________________________\n",
      "_________________________________________________________________\n",
      "Layer (type)                 Output Shape              Param #   \n",
      "=================================================================\n",
      "decoder_input- (InputLayer)  (None, 3)                 0         \n",
      "_________________________________________________________________\n",
      "dense_152 (Dense)            (None, 600)               2400      \n",
      "_________________________________________________________________\n",
      "reshape_87 (Reshape)         (None, 1, 4, 150)         0         \n",
      "_________________________________________________________________\n",
      "conv2d_transpose_182 (Conv2D (None, 3, 12, 75)         67575     \n",
      "_________________________________________________________________\n",
      "conv2d_transpose_183 (Conv2D (None, 9, 36, 64)         28864     \n",
      "_________________________________________________________________\n",
      "conv2d_transpose_184 (Conv2D (None, 27, 108, 32)       12320     \n",
      "_________________________________________________________________\n",
      "conv2d_transpose_185 (Conv2D (None, 81, 324, 32)       6176      \n",
      "_________________________________________________________________\n",
      "max_pooling2d_26 (MaxPooling (None, 41, 162, 32)       0         \n",
      "_________________________________________________________________\n",
      "conv2d_transpose_186 (Conv2D (None, 123, 486, 32)      6176      \n",
      "_________________________________________________________________\n",
      "conv2d_transpose_187 (Conv2D (None, 369, 1458, 32)     6176      \n",
      "_________________________________________________________________\n",
      "conv2d_17 (Conv2D)           (None, 369, 1457, 1)      65        \n",
      "_________________________________________________________________\n",
      "reshape_88 (Reshape)         (None, 369, 1457)         0         \n",
      "_________________________________________________________________\n",
      "conv1d_144 (Conv1D)          (None, 368, 16)           46640     \n",
      "_________________________________________________________________\n",
      "conv1d_145 (Conv1D)          (None, 184, 4)            132       \n",
      "_________________________________________________________________\n",
      "flatten_74 (Flatten)         (None, 736)               0         \n",
      "_________________________________________________________________\n",
      "dense_153 (Dense)            (None, 150)               110550    \n",
      "_________________________________________________________________\n",
      "reshape_89 (Reshape)         (None, 150, 1)            0         \n",
      "=================================================================\n",
      "Total params: 287,074\n",
      "Trainable params: 287,074\n",
      "Non-trainable params: 0\n",
      "_________________________________________________________________\n"
     ]
    }
   ],
   "source": [
    "encoder_model, z_mean, z_log_var, encoder_input = encoder(latent_dim, input_shape)\n",
    "z_model = z_(latent_dim, epsilon_std)\n",
    "decoder_model = decoder(latent_dim, output_shape)\n",
    "\n",
    "\n",
    "encoder_model.summary()\n",
    "z_model.summary()\n",
    "decoder_model.summary()"
   ]
  },
  {
   "cell_type": "code",
   "execution_count": 118,
   "metadata": {},
   "outputs": [
    {
     "name": "stdout",
     "output_type": "stream",
     "text": [
      "__________________________________________________________________________________________________\n",
      "Layer (type)                    Output Shape         Param #     Connected to                     \n",
      "==================================================================================================\n",
      "encoder_input- (InputLayer)     (None, 150, 1)       0                                            \n",
      "__________________________________________________________________________________________________\n",
      "encoder_model- (Model)          [(None, 3), (None, 3 394842      encoder_input-[0][0]             \n",
      "__________________________________________________________________________________________________\n",
      "z_model- (Model)                (None, 3)            0           encoder_model-[1][0]             \n",
      "                                                                 encoder_model-[1][1]             \n",
      "__________________________________________________________________________________________________\n",
      "decoder_model- (Model)          (None, 150, 1)       287074      z_model-[1][0]                   \n",
      "==================================================================================================\n",
      "Total params: 681,916\n",
      "Trainable params: 681,916\n",
      "Non-trainable params: 0\n",
      "__________________________________________________________________________________________________\n"
     ]
    }
   ],
   "source": [
    "vae_input = Input(shape=input_shape)\n",
    "# vae_input = Input(shape=(150,1))\n",
    "vae_input = encoder_input # WHY ?\n",
    "vae_output = decoder_model(z_model(encoder_model(vae_input)))\n",
    "# vae_output = decoder_model(z)\n",
    "vae = Model(vae_input, vae_output)\n",
    "vae.summary()"
   ]
  },
  {
   "cell_type": "code",
   "execution_count": 119,
   "metadata": {},
   "outputs": [],
   "source": [
    "def vae_loss(y_true, y_pred, z_mean, z_log_var):\n",
    "    # img_rows * img_cols\n",
    "    # xent_loss = K.binary_crossentropy(K.flatten(y_true), K.flatten(y_pred))\n",
    "    xent_loss = K.binary_crossentropy(y_true, y_pred)\n",
    "    kl_loss = - 0.5 * K.mean(1 + z_log_var - K.square(z_mean) - K.exp(z_log_var), axis=-1)\n",
    "    # kl_loss = - 0.5 * K.sum(1 + K.flatten(z_log_var) - K.square(K.flatten(z_mean)) - K.exp(K.flatten(z_log_var)), axis=-1)\n",
    "    return xent_loss + kl_loss"
   ]
  },
  {
   "cell_type": "code",
   "execution_count": 120,
   "metadata": {},
   "outputs": [],
   "source": [
    "metrics = ['acc','mse','mae']\n",
    "# loss = 'binary_crossentropy'#  sparse_categorical_crossentropy\n",
    "loss = lambda y_true, y_pred: vae_loss(y_true, y_pred, z_mean, z_log_var)\n",
    "optimizer = 'rmsprop' # adam adadelta rmsprop nadam\n",
    "# keras.optimizers.RMSprop(lr=0.001, rho=0.9, epsilon=None, decay=0.0)\n",
    "vae.compile(optimizer=optimizer, loss=loss, metrics=metrics)"
   ]
  },
  {
   "cell_type": "code",
   "execution_count": 121,
   "metadata": {},
   "outputs": [],
   "source": [
    "# vae.add_loss(vae_loss)\n",
    "# vae.compile(optimizer='rmsprop', metrics=['binary_accuracy','mae'])"
   ]
  },
  {
   "cell_type": "code",
   "execution_count": 122,
   "metadata": {},
   "outputs": [
    {
     "data": {
      "text/plain": [
       "(252, 150, 1)"
      ]
     },
     "execution_count": 122,
     "metadata": {},
     "output_type": "execute_result"
    }
   ],
   "source": [
    "# z_train = x_train\n",
    "# x_train = x_train.reshape(x_train.shape[0],np.prod(x_train.shape[1:]))\n",
    "x_train.shape"
   ]
  },
  {
   "cell_type": "code",
   "execution_count": null,
   "metadata": {
    "scrolled": true
   },
   "outputs": [
    {
     "name": "stdout",
     "output_type": "stream",
     "text": [
      "Train on 124 samples, validate on 25 samples\n"
     ]
    }
   ],
   "source": [
    "epochs = 300\n",
    "m = int(64*2 * 7/6)\n",
    "vs = 1/6\n",
    "shuffle = True\n",
    "callbacks = []\n",
    "callbacks = [TensorBoard(log_dir=config.tmp_log_dir)]\n",
    "# model.fit(x_train, y_train, epochs=epochs, batch_size=batch_size, callbacks=[TensorBoard(log_dir=config.tmp_log_dir)])\n",
    "history = vae.fit(x_train[:m], x_train[:m], epochs=epochs, batch_size=batch_size,\n",
    "          validation_split=vs, callbacks=callbacks, shuffle=shuffle)\n",
    "# history = vae.fit(x_train[:m], shuffle=False, epochs=epochs, batch_size=batch_size, validation_data=(x_test, None))"
   ]
  },
  {
   "cell_type": "code",
   "execution_count": null,
   "metadata": {},
   "outputs": [],
   "source": [
    "plt.plot(history.history['loss'])\n",
    "plt.plot(history.history['val_loss'])"
   ]
  },
  {
   "cell_type": "code",
   "execution_count": null,
   "metadata": {},
   "outputs": [],
   "source": [
    "plt.plot(history.history['acc'])\n",
    "plt.plot(history.history['val_acc'])"
   ]
  },
  {
   "cell_type": "code",
   "execution_count": null,
   "metadata": {},
   "outputs": [],
   "source": [
    "plt.plot(history.history['mean_absolute_error'])\n",
    "plt.plot(history.history['val_mean_absolute_error'])"
   ]
  },
  {
   "cell_type": "code",
   "execution_count": null,
   "metadata": {
    "scrolled": true
   },
   "outputs": [],
   "source": [
    "# plot_model(vae, to_file='model.png')"
   ]
  },
  {
   "cell_type": "code",
   "execution_count": null,
   "metadata": {},
   "outputs": [],
   "source": []
  },
  {
   "cell_type": "code",
   "execution_count": null,
   "metadata": {},
   "outputs": [],
   "source": []
  },
  {
   "cell_type": "code",
   "execution_count": null,
   "metadata": {},
   "outputs": [],
   "source": []
  },
  {
   "cell_type": "code",
   "execution_count": null,
   "metadata": {},
   "outputs": [],
   "source": []
  },
  {
   "cell_type": "code",
   "execution_count": null,
   "metadata": {},
   "outputs": [],
   "source": []
  },
  {
   "cell_type": "code",
   "execution_count": null,
   "metadata": {},
   "outputs": [],
   "source": []
  },
  {
   "cell_type": "code",
   "execution_count": null,
   "metadata": {},
   "outputs": [],
   "source": []
  },
  {
   "cell_type": "code",
   "execution_count": 29,
   "metadata": {},
   "outputs": [
    {
     "data": {
      "text/plain": [
       "[<matplotlib.lines.Line2D at 0x11be4b400>]"
      ]
     },
     "execution_count": 29,
     "metadata": {},
     "output_type": "execute_result"
    },
    {
     "data": {
      "image/png": "[encoded data removed]",
      "text/plain": [
       "<matplotlib.figure.Figure at 0x11b59a4e0>"
      ]
     },
     "metadata": {},
     "output_type": "display_data"
    }
   ],
   "source": [
    "plt.plot(x_train[0,:100,:])"
   ]
  },
  {
   "cell_type": "code",
   "execution_count": 30,
   "metadata": {},
   "outputs": [
    {
     "ename": "NameError",
     "evalue": "name 'result' is not defined",
     "output_type": "error",
     "traceback": [
      "\u001b[0;31m---------------------------------------------------------------------------\u001b[0m",
      "\u001b[0;31mNameError\u001b[0m                                 Traceback (most recent call last)",
      "\u001b[0;32m<ipython-input-30-4a99d8abe300>\u001b[0m in \u001b[0;36m<module>\u001b[0;34m()\u001b[0m\n\u001b[0;32m----> 1\u001b[0;31m \u001b[0mresult\u001b[0m\u001b[0;34m.\u001b[0m\u001b[0mshape\u001b[0m\u001b[0;34m\u001b[0m\u001b[0m\n\u001b[0m",
      "\u001b[0;31mNameError\u001b[0m: name 'result' is not defined"
     ]
    }
   ],
   "source": [
    "result.shape"
   ]
  },
  {
   "cell_type": "code",
   "execution_count": null,
   "metadata": {},
   "outputs": [],
   "source": [
    "n1 = 30\n",
    "i = 0\n",
    "plt.subplot(211)\n",
    "plt.plot(np.arange(n1), results[i][:n1])\n",
    "plt.plot([0.5] * n1) # midi.MIDI_NOISE_FLOOR\n",
    "plt.ylim(ymin=0, ymax=1)\n",
    "plt.subplot(212)\n",
    "\n",
    "plt.plot(np.arange(n1), x_train[i, :n1])\n",
    "plt.plot([0.5] * n1) # midi.MIDI_NOISE_FLOOR\n",
    "plt.ylim(ymin=0, ymax=1)"
   ]
  },
  {
   "cell_type": "code",
   "execution_count": null,
   "metadata": {},
   "outputs": [],
   "source": []
  },
  {
   "cell_type": "code",
   "execution_count": null,
   "metadata": {},
   "outputs": [],
   "source": []
  },
  {
   "cell_type": "code",
   "execution_count": null,
   "metadata": {},
   "outputs": [],
   "source": []
  },
  {
   "cell_type": "code",
   "execution_count": null,
   "metadata": {},
   "outputs": [],
   "source": [
    "mid = midi.decode_track(context, result)\n",
    "dn = config.dataset_dir\n",
    "# io.export_midifile(mid, dn + 'song_seq-seq.mid')"
   ]
  },
  {
   "cell_type": "code",
   "execution_count": null,
   "metadata": {},
   "outputs": [],
   "source": [
    "results = []\n",
    "latent_samples = []\n",
    "for seq in x_test[-2:]:\n",
    "    encoded = encode_sequence(np.stack([seq]))\n",
    "    latent_samples.append(encoded)\n",
    "    result = decode_sequence(encoded, encoder_model, decoder_model)\n",
    "    results.append(result)\n",
    "results[0].shape"
   ]
  },
  {
   "cell_type": "code",
   "execution_count": null,
   "metadata": {},
   "outputs": [],
   "source": [
    "len(encoded)"
   ]
  },
  {
   "cell_type": "code",
   "execution_count": null,
   "metadata": {},
   "outputs": [],
   "source": [
    "encoded[0].shape"
   ]
  },
  {
   "cell_type": "code",
   "execution_count": null,
   "metadata": {},
   "outputs": [],
   "source": [
    "plt.plot(encoded[0][0,:10])\n",
    "plt.plot(encoded[1][0,:10])"
   ]
  },
  {
   "cell_type": "code",
   "execution_count": null,
   "metadata": {},
   "outputs": [],
   "source": [
    "e = np.array(latent_samples)\n",
    "e.shape"
   ]
  },
  {
   "cell_type": "code",
   "execution_count": null,
   "metadata": {},
   "outputs": [],
   "source": [
    "# reduce dimensionality\n",
    "# e = e.reshape(e.shape[0],2,e.shape[-1])\n",
    "e.shape"
   ]
  },
  {
   "cell_type": "code",
   "execution_count": null,
   "metadata": {},
   "outputs": [],
   "source": [
    "e1.mean(axis=0).shape"
   ]
  },
  {
   "cell_type": "code",
   "execution_count": null,
   "metadata": {},
   "outputs": [],
   "source": [
    "# new = e.transpose().mean(axis=1).transpose()\n",
    "e1 = e[:,0] # state h\n",
    "e2 = e[:,1] # state c\n",
    "new = [e1.mean(axis=0), e2.mean(axis=0)]\n",
    "# new = [[e[:,i].mean(axis=0)] for i in [0,1]]\n",
    "plt.plot(new[0][0][:10])\n",
    "len(new)"
   ]
  },
  {
   "cell_type": "code",
   "execution_count": null,
   "metadata": {},
   "outputs": [],
   "source": [
    "e1.mean(axis=0).shape"
   ]
  },
  {
   "cell_type": "code",
   "execution_count": null,
   "metadata": {},
   "outputs": [],
   "source": [
    "l[0].shape"
   ]
  },
  {
   "cell_type": "code",
   "execution_count": null,
   "metadata": {},
   "outputs": [],
   "source": [
    "l = latent_samples[0]\n",
    "len(l) # latent_sample :: (x,1,64)"
   ]
  },
  {
   "cell_type": "code",
   "execution_count": null,
   "metadata": {},
   "outputs": [],
   "source": [
    "# new_ = decode_sequence(latent_samples[0], encoder_model, decoder_model)\n",
    "new_ = decode_sequence(new, encoder_model, decoder_model)"
   ]
  },
  {
   "cell_type": "code",
   "execution_count": null,
   "metadata": {},
   "outputs": [],
   "source": [
    "new_.shape"
   ]
  },
  {
   "cell_type": "code",
   "execution_count": null,
   "metadata": {},
   "outputs": [],
   "source": [
    "plt.plot(new_[:100])"
   ]
  },
  {
   "cell_type": "code",
   "execution_count": null,
   "metadata": {},
   "outputs": [],
   "source": [
    "plt.plot(results[0][:100])"
   ]
  },
  {
   "cell_type": "code",
   "execution_count": null,
   "metadata": {},
   "outputs": [],
   "source": [
    "# results[0]"
   ]
  },
  {
   "cell_type": "code",
   "execution_count": null,
   "metadata": {},
   "outputs": [],
   "source": [
    "mid_new = midi.decode_track(context, results[0])\n",
    "io.export_midifile(mid_new, config.export_dir + 'real_mid_new_lstm.mid')"
   ]
  },
  {
   "cell_type": "code",
   "execution_count": null,
   "metadata": {},
   "outputs": [],
   "source": []
  },
  {
   "cell_type": "code",
   "execution_count": null,
   "metadata": {},
   "outputs": [],
   "source": []
  },
  {
   "cell_type": "code",
   "execution_count": null,
   "metadata": {},
   "outputs": [],
   "source": []
  },
  {
   "cell_type": "code",
   "execution_count": null,
   "metadata": {},
   "outputs": [],
   "source": []
  },
  {
   "cell_type": "code",
   "execution_count": null,
   "metadata": {},
   "outputs": [],
   "source": []
  },
  {
   "cell_type": "code",
   "execution_count": null,
   "metadata": {},
   "outputs": [],
   "source": []
  },
  {
   "cell_type": "code",
   "execution_count": null,
   "metadata": {},
   "outputs": [],
   "source": []
  },
  {
   "cell_type": "code",
   "execution_count": null,
   "metadata": {},
   "outputs": [],
   "source": []
  },
  {
   "cell_type": "code",
   "execution_count": null,
   "metadata": {},
   "outputs": [],
   "source": []
  },
  {
   "cell_type": "code",
   "execution_count": null,
   "metadata": {},
   "outputs": [],
   "source": []
  },
  {
   "cell_type": "code",
   "execution_count": null,
   "metadata": {},
   "outputs": [],
   "source": []
  },
  {
   "cell_type": "code",
   "execution_count": null,
   "metadata": {},
   "outputs": [],
   "source": []
  },
  {
   "cell_type": "code",
   "execution_count": null,
   "metadata": {},
   "outputs": [],
   "source": [
    "x_test.shape"
   ]
  },
  {
   "cell_type": "code",
   "execution_count": null,
   "metadata": {},
   "outputs": [],
   "source": [
    "# x_test, y_test = gen_xy_sin_to_f(3, f=2)"
   ]
  },
  {
   "cell_type": "code",
   "execution_count": null,
   "metadata": {
    "scrolled": true
   },
   "outputs": [],
   "source": [
    "results = model.predict([x_test,x_test])\n",
    "results.shape"
   ]
  },
  {
   "cell_type": "code",
   "execution_count": null,
   "metadata": {},
   "outputs": [],
   "source": [
    "# the 'true' results\n",
    "i = 0\n",
    "selection = int(x_test.shape[1] * 1)\n",
    "full = np.concatenate([x_test[i,-selection:],y_test[i]])\n",
    "n3 = full.shape[0]\n",
    "plt.plot(np.arange(n3) / n3 * dt, full)"
   ]
  },
  {
   "cell_type": "code",
   "execution_count": null,
   "metadata": {},
   "outputs": [],
   "source": [
    "# predicted results\n",
    "i = 0\n",
    "full = np.concatenate([x_test[i,-selection:],results[i]])\n",
    "n3 = full.shape[0]\n",
    "plt.plot(np.arange(n3) / n3 * dt, full)"
   ]
  },
  {
   "cell_type": "code",
   "execution_count": null,
   "metadata": {},
   "outputs": [],
   "source": [
    "i = 2\n",
    "selection = int(x_test.shape[1] * 1)\n",
    "full = np.concatenate([x_test[i,-selection:],results[i]])\n",
    "n3 = full.shape[0]\n",
    "plt.plot(np.arange(n3) / n3 * dt, full)"
   ]
  },
  {
   "cell_type": "code",
   "execution_count": null,
   "metadata": {},
   "outputs": [],
   "source": [
    "i = 0\n",
    "selection = 1\n",
    "full = np.concatenate([x_test[i,-selection:],results[i]])\n",
    "n3 = full.shape[0]\n",
    "plt.plot(np.arange(n3) / n3 * dt, full)"
   ]
  },
  {
   "cell_type": "code",
   "execution_count": null,
   "metadata": {},
   "outputs": [],
   "source": []
  },
  {
   "cell_type": "code",
   "execution_count": null,
   "metadata": {},
   "outputs": [],
   "source": []
  },
  {
   "cell_type": "code",
   "execution_count": null,
   "metadata": {},
   "outputs": [],
   "source": []
  },
  {
   "cell_type": "code",
   "execution_count": null,
   "metadata": {},
   "outputs": [],
   "source": []
  },
  {
   "cell_type": "code",
   "execution_count": null,
   "metadata": {},
   "outputs": [],
   "source": []
  },
  {
   "cell_type": "code",
   "execution_count": null,
   "metadata": {},
   "outputs": [],
   "source": []
  }
 ],
 "metadata": {
  "kernelspec": {
   "display_name": "Python 3",
   "language": "python",
   "name": "python3"
  },
  "language_info": {
   "codemirror_mode": {
    "name": "ipython",
    "version": 3
   },
   "file_extension": ".py",
   "mimetype": "text/x-python",
   "name": "python",
   "nbconvert_exporter": "python",
   "pygments_lexer": "ipython3",
   "version": "3.6.4"
  }
 },
 "nbformat": 4,
 "nbformat_minor": 2
}
