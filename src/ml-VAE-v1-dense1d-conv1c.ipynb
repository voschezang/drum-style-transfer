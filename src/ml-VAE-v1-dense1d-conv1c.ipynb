{
 "cells": [
  {
   "cell_type": "code",
   "execution_count": 1,
   "metadata": {},
   "outputs": [],
   "source": [
    "import config\n",
    "import os, numpy as np, pandas, sklearn, scipy.signal as signal\n",
    "import mido\n",
    "import matplotlib.pyplot as plt\n",
    "%matplotlib inline"
   ]
  },
  {
   "cell_type": "code",
   "execution_count": 2,
   "metadata": {},
   "outputs": [
    {
     "name": "stderr",
     "output_type": "stream",
     "text": [
      "/Library/Frameworks/Python.framework/Versions/3.6/lib/python3.6/site-packages/h5py/__init__.py:36: FutureWarning: Conversion of the second argument of issubdtype from `float` to `np.floating` is deprecated. In future, it will be treated as `np.float64 == np.dtype(float).type`.\n",
      "  from ._conv import register_converters as _register_converters\n",
      "Using TensorFlow backend.\n"
     ]
    }
   ],
   "source": [
    "## NN libs\n",
    "from sklearn.decomposition import PCA\n",
    "from sklearn import preprocessing\n",
    "from sklearn.preprocessing import RobustScaler\n",
    "import keras\n",
    "from keras import regularizers\n",
    "from keras import backend as K, metrics\n",
    "from keras.utils import to_categorical, plot_model\n",
    "from keras.layers import Input, Dense, Activation, Conv1D, Conv2D, Dropout, Flatten, Lambda\n",
    "from keras.layers import Conv2DTranspose, Reshape, MaxPooling2D, UpSampling2D, UpSampling1D, MaxPooling1D\n",
    "from keras.layers import LocallyConnected1D, LocallyConnected2D\n",
    "from keras.layers import Input, LSTM, RepeatVector\n",
    "from keras.models import Model\n",
    "from keras.callbacks import TensorBoard"
   ]
  },
  {
   "cell_type": "code",
   "execution_count": 3,
   "metadata": {},
   "outputs": [
    {
     "name": "stdout",
     "output_type": "stream",
     "text": [
      " Context :: namedtuple(\n",
      "[ max_t = float\n",
      ", dt = float\n",
      ", n_instances = int\n",
      ", note_length = int\n",
      ", bpm = float\n",
      ", tempo = float\n",
      ", ticks_per_beat = int\n",
      "]\n",
      "\n"
     ]
    }
   ],
   "source": [
    "# local libs\n",
    "import config, models, functions\n",
    "from data import data, midi, midi_generators as g\n",
    "from utils import io, models_io, utils"
   ]
  },
  {
   "cell_type": "code",
   "execution_count": 4,
   "metadata": {
    "scrolled": true
   },
   "outputs": [
    {
     "name": "stdout",
     "output_type": "stream",
     "text": [
      "Setting up params\n",
      "\n",
      "max min f 25.0 0.3333333333333333\n",
      " >> Context(max_t=3.0, dt=0.02, n_instances=150, note_length=0.03, bpm=120.0, tempo=500000, ticks_per_beat=480)\n",
      "Setting up params\n",
      "\n",
      "max min f 25.0 0.3333333333333333\n",
      " >> Context(max_t=3.0, dt=0.02, n_instances=150, note_length=0.03, bpm=120.0, tempo=500000, ticks_per_beat=480)\n",
      "Importing midi-data\n",
      "\n",
      "\u001b[92m [INFO] : \u001b[0m\n",
      " |  reading file: ../datasets/examples/01 16th Snare.mid\n",
      "\u001b[92m [INFO] : \u001b[0m\n",
      " |  reading file: ../datasets/examples/01 8th Cym.mid\n",
      "\n",
      "Encoding midi-data\n",
      " [<midi file '../datasets/examples/01 16th Snare.mid' type 0, 1 tracks, 182 messages>, <midi file '../datasets/examples/01 8th Cym.mid' type 0, 1 tracks, 68 messages>]\n",
      "> -> multi-track = False\n",
      "\u001b[91m [DEBUG] > \u001b[0m\n",
      " |>  to_array: msg.time > max_t; t, n\n",
      " |>  2.994791666666667\n",
      " |>  150\n",
      "\u001b[91m [DEBUG] > \u001b[0m\n",
      " |>  to_array: msg.time > max_t; t, n\n",
      " |>  2.9947916666666665\n",
      " |>  150\n"
     ]
    }
   ],
   "source": [
    "context = data.init()\n",
    "n = 2\n",
    "multiTrack = False\n",
    "context, x_train, labels = data.import_data(data.init(), n, multiTrack=multiTrack)"
   ]
  },
  {
   "cell_type": "code",
   "execution_count": 5,
   "metadata": {},
   "outputs": [
    {
     "name": "stdout",
     "output_type": "stream",
     "text": [
      "\u001b[91m [DEBUG] > \u001b[0m\n",
      " |>  to_array: msg.time > max_t; t, n\n",
      " |>  2.991666666666668\n",
      " |>  150\n",
      "\u001b[91m [DEBUG] > \u001b[0m\n",
      " |>  to_array: msg.time > max_t; t, n\n",
      " |>  3.0135416666666646\n",
      " |>  150\n",
      "\u001b[91m [DEBUG] > \u001b[0m\n",
      " |>  to_array: msg.time > max_t; t, n\n",
      " |>  3.0364583333333344\n",
      " |>  150\n",
      "\u001b[91m [DEBUG] > \u001b[0m\n",
      " |>  to_array: msg.time > max_t; t, n\n",
      " |>  3.000000000000002\n",
      " |>  150\n",
      "\u001b[91m [DEBUG] > \u001b[0m\n",
      " |>  to_array: msg.time > max_t; t, n\n",
      " |>  2.994791666666668\n",
      " |>  150\n",
      "\u001b[91m [DEBUG] > \u001b[0m\n",
      " |>  to_array: msg.time > max_t; t, n\n",
      " |>  2.9989583333333343\n",
      " |>  150\n",
      "\u001b[91m [DEBUG] > \u001b[0m\n",
      " |>  to_array: msg.time > max_t; t, n\n",
      " |>  2.993750000000001\n",
      " |>  150\n",
      "\u001b[91m [DEBUG] > \u001b[0m\n",
      " |>  to_array: msg.time > max_t; t, n\n",
      " |>  3.0093750000000012\n",
      " |>  150\n",
      "\u001b[91m [DEBUG] > \u001b[0m\n",
      " |>  to_array: msg.time > max_t; t, n\n",
      " |>  3.0000000000000004\n",
      " |>  150\n",
      "\u001b[91m [DEBUG] > \u001b[0m\n",
      " |>  to_array: msg.time > max_t; t, n\n",
      " |>  3.007291666666668\n",
      " |>  150\n",
      "\u001b[91m [DEBUG] > \u001b[0m\n",
      " |>  to_array: msg.time > max_t; t, n\n",
      " |>  2.99166666666667\n",
      " |>  150\n",
      "\u001b[91m [DEBUG] > \u001b[0m\n",
      " |>  to_array: msg.time > max_t; t, n\n",
      " |>  3.0677083333333357\n",
      " |>  150\n",
      "\u001b[91m [DEBUG] > \u001b[0m\n",
      " |>  to_array: msg.time > max_t; t, n\n",
      " |>  2.993750000000001\n",
      " |>  150\n",
      "\u001b[91m [DEBUG] > \u001b[0m\n",
      " |>  to_array: msg.time > max_t; t, n\n",
      " |>  3.006250000000003\n",
      " |>  150\n",
      "\u001b[91m [DEBUG] > \u001b[0m\n",
      " |>  to_array: msg.time > max_t; t, n\n",
      " |>  3.0031250000000047\n",
      " |>  150\n",
      "\u001b[91m [DEBUG] > \u001b[0m\n",
      " |>  to_array: msg.time > max_t; t, n\n",
      " |>  2.9906249999999996\n",
      " |>  150\n",
      "\u001b[91m [DEBUG] > \u001b[0m\n",
      " |>  to_array: msg.time > max_t; t, n\n",
      " |>  2.993750000000002\n",
      " |>  150\n",
      "\u001b[91m [DEBUG] > \u001b[0m\n",
      " |>  to_array: msg.time > max_t; t, n\n",
      " |>  2.994791666666667\n",
      " |>  150\n",
      "\u001b[91m [DEBUG] > \u001b[0m\n",
      " |>  to_array: msg.time > max_t; t, n\n",
      " |>  2.997916666666669\n",
      " |>  150\n",
      "\u001b[91m [DEBUG] > \u001b[0m\n",
      " |>  to_array: msg.time > max_t; t, n\n",
      " |>  2.996875000000005\n",
      " |>  150\n",
      "\u001b[91m [DEBUG] > \u001b[0m\n",
      " |>  to_array: msg.time > max_t; t, n\n",
      " |>  2.995833333333333\n",
      " |>  150\n",
      "\u001b[91m [DEBUG] > \u001b[0m\n",
      " |>  to_array: msg.time > max_t; t, n\n",
      " |>  3.004166666666668\n",
      " |>  150\n",
      "\u001b[91m [DEBUG] > \u001b[0m\n",
      " |>  to_array: msg.time > max_t; t, n\n",
      " |>  3.0083333333333337\n",
      " |>  150\n",
      "\u001b[91m [DEBUG] > \u001b[0m\n",
      " |>  to_array: msg.time > max_t; t, n\n",
      " |>  3.0052083333333344\n",
      " |>  150\n",
      "\u001b[91m [DEBUG] > \u001b[0m\n",
      " |>  to_array: msg.time > max_t; t, n\n",
      " |>  2.9927083333333355\n",
      " |>  150\n",
      "\u001b[91m [DEBUG] > \u001b[0m\n",
      " |>  to_array: msg.time > max_t; t, n\n",
      " |>  3.0406250000000026\n",
      " |>  150\n",
      "\u001b[91m [DEBUG] > \u001b[0m\n",
      " |>  to_array: msg.time > max_t; t, n\n",
      " |>  2.9947916666666674\n",
      " |>  150\n",
      "\u001b[91m [DEBUG] > \u001b[0m\n",
      " |>  to_array: msg.time > max_t; t, n\n",
      " |>  2.991666666666668\n",
      " |>  150\n",
      "\u001b[91m [DEBUG] > \u001b[0m\n",
      " |>  to_array: msg.time > max_t; t, n\n",
      " |>  3.005208333333335\n",
      " |>  150\n",
      "\u001b[91m [DEBUG] > \u001b[0m\n",
      " |>  to_array: msg.time > max_t; t, n\n",
      " |>  3.001041666666668\n",
      " |>  150\n",
      "\u001b[91m [DEBUG] > \u001b[0m\n",
      " |>  to_array: msg.time > max_t; t, n\n",
      " |>  3.007291666666667\n",
      " |>  150\n",
      "\u001b[91m [DEBUG] > \u001b[0m\n",
      " |>  to_array: msg.time > max_t; t, n\n",
      " |>  3.0000000000000004\n",
      " |>  150\n",
      "\u001b[91m [DEBUG] > \u001b[0m\n",
      " |>  to_array: msg.time > max_t; t, n\n",
      " |>  2.99479166666667\n",
      " |>  150\n",
      "\u001b[91m [DEBUG] > \u001b[0m\n",
      " |>  to_array: msg.time > max_t; t, n\n",
      " |>  2.990624999999999\n",
      " |>  150\n",
      "\u001b[91m [DEBUG] > \u001b[0m\n",
      " |>  to_array: msg.time > max_t; t, n\n",
      " |>  2.9916666666666676\n",
      " |>  150\n",
      "\u001b[91m [DEBUG] > \u001b[0m\n",
      " |>  to_array: msg.time > max_t; t, n\n",
      " |>  3.0135416666666694\n",
      " |>  150\n",
      "\u001b[91m [DEBUG] > \u001b[0m\n",
      " |>  to_array: msg.time > max_t; t, n\n",
      " |>  3.003125000000003\n",
      " |>  150\n",
      "\u001b[91m [DEBUG] > \u001b[0m\n",
      " |>  to_array: msg.time > max_t; t, n\n",
      " |>  2.992708333333334\n",
      " |>  150\n",
      "\u001b[91m [DEBUG] > \u001b[0m\n",
      " |>  to_array: msg.time > max_t; t, n\n",
      " |>  3.004166666666667\n",
      " |>  150\n",
      "\u001b[91m [DEBUG] > \u001b[0m\n",
      " |>  to_array: msg.time > max_t; t, n\n",
      " |>  3.028125000000001\n",
      " |>  150\n",
      "\u001b[91m [DEBUG] > \u001b[0m\n",
      " |>  to_array: msg.time > max_t; t, n\n",
      " |>  2.991666666666668\n",
      " |>  150\n",
      "\u001b[91m [DEBUG] > \u001b[0m\n",
      " |>  to_array: msg.time > max_t; t, n\n",
      " |>  2.992708333333336\n",
      " |>  150\n",
      "\u001b[91m [DEBUG] > \u001b[0m\n",
      " |>  to_array: msg.time > max_t; t, n\n",
      " |>  3.0177083333333337\n",
      " |>  150\n",
      "\u001b[91m [DEBUG] > \u001b[0m\n",
      " |>  to_array: msg.time > max_t; t, n\n",
      " |>  3.0072916666666694\n",
      " |>  150\n",
      "\u001b[91m [DEBUG] > \u001b[0m\n",
      " |>  to_array: msg.time > max_t; t, n\n",
      " |>  3.001041666666668\n",
      " |>  150\n",
      "\u001b[91m [DEBUG] > \u001b[0m\n",
      " |>  to_array: msg.time > max_t; t, n\n",
      " |>  2.9927083333333364\n",
      " |>  150\n",
      "\u001b[91m [DEBUG] > \u001b[0m\n",
      " |>  to_array: msg.time > max_t; t, n\n",
      " |>  3.0020833333333328\n",
      " |>  150\n",
      "\u001b[91m [DEBUG] > \u001b[0m\n",
      " |>  to_array: msg.time > max_t; t, n\n",
      " |>  2.993750000000001\n",
      " |>  150\n",
      "\u001b[91m [DEBUG] > \u001b[0m\n",
      " |>  to_array: msg.time > max_t; t, n\n",
      " |>  3.0072916666666694\n",
      " |>  150\n",
      "\u001b[91m [DEBUG] > \u001b[0m\n",
      " |>  to_array: msg.time > max_t; t, n\n",
      " |>  2.9906249999999983\n",
      " |>  150\n",
      "\u001b[91m [DEBUG] > \u001b[0m\n",
      " |>  to_array: msg.time > max_t; t, n\n",
      " |>  2.9979166666666672\n",
      " |>  150\n",
      "\u001b[91m [DEBUG] > \u001b[0m\n",
      " |>  to_array: msg.time > max_t; t, n\n",
      " |>  3.0020833333333337\n",
      " |>  150\n",
      "\u001b[91m [DEBUG] > \u001b[0m\n",
      " |>  to_array: msg.time > max_t; t, n\n",
      " |>  2.9947916666666683\n",
      " |>  150\n",
      "\u001b[91m [DEBUG] > \u001b[0m\n",
      " |>  to_array: msg.time > max_t; t, n\n",
      " |>  2.999999999999999\n",
      " |>  150\n",
      "\u001b[91m [DEBUG] > \u001b[0m\n",
      " |>  to_array: msg.time > max_t; t, n\n",
      " |>  2.9947916666666674\n",
      " |>  150\n",
      "\u001b[91m [DEBUG] > \u001b[0m\n",
      " |>  to_array: msg.time > max_t; t, n\n",
      " |>  3.0031249999999994\n",
      " |>  150\n",
      "\u001b[91m [DEBUG] > \u001b[0m\n",
      " |>  to_array: msg.time > max_t; t, n\n",
      " |>  3.0093750000000026\n",
      " |>  150\n",
      "\u001b[91m [DEBUG] > \u001b[0m\n",
      " |>  to_array: msg.time > max_t; t, n\n",
      " |>  3.0281250000000037\n",
      " |>  150\n",
      "\u001b[91m [DEBUG] > \u001b[0m\n",
      " |>  to_array: msg.time > max_t; t, n\n",
      " |>  3.0020833333333345\n",
      " |>  150\n",
      "\u001b[91m [DEBUG] > \u001b[0m\n",
      " |>  to_array: msg.time > max_t; t, n\n",
      " |>  3.022916666666668\n",
      " |>  150\n",
      "\u001b[91m [DEBUG] > \u001b[0m\n",
      " |>  to_array: msg.time > max_t; t, n\n",
      " |>  3.0197916666666687\n",
      " |>  150\n",
      "\u001b[91m [DEBUG] > \u001b[0m\n",
      " |>  to_array: msg.time > max_t; t, n\n",
      " |>  2.998958333333334\n",
      " |>  150\n",
      "\u001b[91m [DEBUG] > \u001b[0m\n",
      " |>  to_array: msg.time > max_t; t, n\n",
      " |>  3.0010416666666693\n",
      " |>  150\n",
      "\u001b[91m [DEBUG] > \u001b[0m\n",
      " |>  to_array: msg.time > max_t; t, n\n",
      " |>  3.000000000000002\n",
      " |>  150\n",
      "\u001b[91m [DEBUG] > \u001b[0m\n",
      " |>  to_array: msg.time > max_t; t, n\n",
      " |>  3.000000000000004\n",
      " |>  150\n",
      "\u001b[91m [DEBUG] > \u001b[0m\n",
      " |>  to_array: msg.time > max_t; t, n\n",
      " |>  2.9906250000000028\n",
      " |>  150\n",
      "\u001b[91m [DEBUG] > \u001b[0m\n",
      " |>  to_array: msg.time > max_t; t, n\n",
      " |>  2.991666666666669\n",
      " |>  150\n",
      "\u001b[91m [DEBUG] > \u001b[0m\n",
      " |>  to_array: msg.time > max_t; t, n\n",
      " |>  3.0135416666666663\n",
      " |>  150\n",
      "\u001b[91m [DEBUG] > \u001b[0m\n",
      " |>  to_array: msg.time > max_t; t, n\n",
      " |>  2.997916666666668\n",
      " |>  150\n",
      "\u001b[91m [DEBUG] > \u001b[0m\n",
      " |>  to_array: msg.time > max_t; t, n\n",
      " |>  2.99479166666667\n",
      " |>  150\n",
      "\u001b[91m [DEBUG] > \u001b[0m\n",
      " |>  to_array: msg.time > max_t; t, n\n",
      " |>  3.0229166666666685\n",
      " |>  150\n",
      "\u001b[91m [DEBUG] > \u001b[0m\n",
      " |>  to_array: msg.time > max_t; t, n\n",
      " |>  2.9958333333333367\n",
      " |>  150\n",
      "\u001b[91m [DEBUG] > \u001b[0m\n",
      " |>  to_array: msg.time > max_t; t, n\n",
      " |>  2.9906249999999988\n",
      " |>  150\n",
      "\u001b[91m [DEBUG] > \u001b[0m\n",
      " |>  to_array: msg.time > max_t; t, n\n",
      " |>  3.0000000000000027\n",
      " |>  150\n",
      "\u001b[91m [DEBUG] > \u001b[0m\n",
      " |>  to_array: msg.time > max_t; t, n\n",
      " |>  3.0312500000000027\n",
      " |>  150\n",
      "\u001b[91m [DEBUG] > \u001b[0m\n",
      " |>  to_array: msg.time > max_t; t, n\n",
      " |>  2.991666666666668\n",
      " |>  150\n",
      "\u001b[91m [DEBUG] > \u001b[0m\n",
      " |>  to_array: msg.time > max_t; t, n\n",
      " |>  3.00416666666667\n",
      " |>  150\n",
      "\u001b[91m [DEBUG] > \u001b[0m\n",
      " |>  to_array: msg.time > max_t; t, n\n",
      " |>  3.017708333333336\n",
      " |>  150\n",
      "\u001b[91m [DEBUG] > \u001b[0m\n",
      " |>  to_array: msg.time > max_t; t, n\n",
      " |>  2.9958333333333336\n",
      " |>  150\n",
      "\u001b[91m [DEBUG] > \u001b[0m\n",
      " |>  to_array: msg.time > max_t; t, n\n",
      " |>  2.992708333333336\n",
      " |>  150\n",
      "\u001b[91m [DEBUG] > \u001b[0m\n",
      " |>  to_array: msg.time > max_t; t, n\n",
      " |>  2.9927083333333355\n",
      " |>  150\n",
      "\u001b[91m [DEBUG] > \u001b[0m\n",
      " |>  to_array: msg.time > max_t; t, n\n",
      " |>  3.0333333333333363\n",
      " |>  150\n",
      "\u001b[91m [DEBUG] > \u001b[0m\n",
      " |>  to_array: msg.time > max_t; t, n\n",
      " |>  2.997916666666666\n",
      " |>  150\n",
      "\u001b[91m [DEBUG] > \u001b[0m\n",
      " |>  to_array: msg.time > max_t; t, n\n",
      " |>  3.0072916666666685\n",
      " |>  150\n",
      "\u001b[91m [DEBUG] > \u001b[0m\n",
      " |>  to_array: msg.time > max_t; t, n\n",
      " |>  3.0322916666666675\n",
      " |>  150\n",
      "\u001b[91m [DEBUG] > \u001b[0m\n",
      " |>  to_array: msg.time > max_t; t, n\n",
      " |>  2.992708333333335\n",
      " |>  150\n",
      "\u001b[91m [DEBUG] > \u001b[0m\n",
      " |>  to_array: msg.time > max_t; t, n\n",
      " |>  3.0114583333333353\n",
      " |>  150\n",
      "\u001b[91m [DEBUG] > \u001b[0m\n",
      " |>  to_array: msg.time > max_t; t, n\n",
      " |>  2.9947916666666683\n",
      " |>  150\n",
      "\u001b[91m [DEBUG] > \u001b[0m\n",
      " |>  to_array: msg.time > max_t; t, n\n",
      " |>  3.001041666666669\n",
      " |>  150\n",
      "\u001b[91m [DEBUG] > \u001b[0m\n",
      " |>  to_array: msg.time > max_t; t, n\n",
      " |>  2.9958333333333327\n",
      " |>  150\n",
      "\u001b[91m [DEBUG] > \u001b[0m\n",
      " |>  to_array: msg.time > max_t; t, n\n",
      " |>  2.998958333333338\n",
      " |>  150\n",
      "\u001b[91m [DEBUG] > \u001b[0m\n",
      " |>  to_array: msg.time > max_t; t, n\n",
      " |>  3.0187500000000034\n",
      " |>  150\n"
     ]
    },
    {
     "name": "stdout",
     "output_type": "stream",
     "text": [
      "\u001b[91m [DEBUG] > \u001b[0m\n",
      " |>  to_array: msg.time > max_t; t, n\n",
      " |>  2.99791666666667\n",
      " |>  150\n",
      "\u001b[91m [DEBUG] > \u001b[0m\n",
      " |>  to_array: msg.time > max_t; t, n\n",
      " |>  3.0447916666666655\n",
      " |>  150\n",
      "\u001b[91m [DEBUG] > \u001b[0m\n",
      " |>  to_array: msg.time > max_t; t, n\n",
      " |>  2.992708333333334\n",
      " |>  150\n",
      "\u001b[91m [DEBUG] > \u001b[0m\n",
      " |>  to_array: msg.time > max_t; t, n\n",
      " |>  3.006250000000003\n",
      " |>  150\n",
      "\u001b[91m [DEBUG] > \u001b[0m\n",
      " |>  to_array: msg.time > max_t; t, n\n",
      " |>  3.0020833333333345\n",
      " |>  150\n",
      "\u001b[91m [DEBUG] > \u001b[0m\n",
      " |>  to_array: msg.time > max_t; t, n\n",
      " |>  3.0260416666666665\n",
      " |>  150\n",
      "\u001b[91m [DEBUG] > \u001b[0m\n",
      " |>  to_array: msg.time > max_t; t, n\n",
      " |>  2.9906250000000028\n",
      " |>  150\n",
      "\u001b[91m [DEBUG] > \u001b[0m\n",
      " |>  to_array: msg.time > max_t; t, n\n",
      " |>  3.019791666666667\n",
      " |>  150\n"
     ]
    }
   ],
   "source": [
    "n = 100\n",
    "min_f = 3\n",
    "max_f = 15\n",
    "# x_train = g.gen_data(context, n, max_f=max_f, min_f=min_f)\n",
    "x_train = g.gen_data_complex(context, n, max_f=max_f, min_f=min_f, multiTrack=multiTrack)\n",
    "y_train = x_train\n",
    "x_test = x_train[-10:]\n",
    "x_train = x_train[:-10]"
   ]
  },
  {
   "cell_type": "code",
   "execution_count": 6,
   "metadata": {},
   "outputs": [
    {
     "data": {
      "text/plain": [
       "(264, 150, 1)"
      ]
     },
     "execution_count": 6,
     "metadata": {},
     "output_type": "execute_result"
    }
   ],
   "source": [
    "x_train.shape"
   ]
  },
  {
   "cell_type": "code",
   "execution_count": 7,
   "metadata": {},
   "outputs": [
    {
     "data": {
      "text/plain": [
       "[<matplotlib.lines.Line2D at 0x118a32e80>]"
      ]
     },
     "execution_count": 7,
     "metadata": {},
     "output_type": "execute_result"
    },
    {
     "data": {
      "image/png": "[encoded data removed]",
      "text/plain": [
       "<matplotlib.figure.Figure at 0x11897b160>"
      ]
     },
     "metadata": {},
     "output_type": "display_data"
    }
   ],
   "source": [
    "plt.plot(x_train[0,:60])\n",
    "plt.plot(x_train[1,:60])"
   ]
  },
  {
   "cell_type": "code",
   "execution_count": 8,
   "metadata": {},
   "outputs": [
    {
     "data": {
      "text/plain": [
       "[<matplotlib.lines.Line2D at 0x11734c438>]"
      ]
     },
     "execution_count": 8,
     "metadata": {},
     "output_type": "execute_result"
    },
    {
     "data": {
      "image/png": "[encoded data removed]",
      "text/plain": [
       "<matplotlib.figure.Figure at 0x118a61da0>"
      ]
     },
     "metadata": {},
     "output_type": "display_data"
    }
   ],
   "source": [
    "plt.plot(x_train[2,:60])\n",
    "plt.plot(x_train[3,:60])"
   ]
  },
  {
   "cell_type": "code",
   "execution_count": 9,
   "metadata": {},
   "outputs": [
    {
     "data": {
      "text/plain": [
       "(264, 150, 1)"
      ]
     },
     "execution_count": 9,
     "metadata": {},
     "output_type": "execute_result"
    }
   ],
   "source": [
    "x_train.shape"
   ]
  },
  {
   "cell_type": "code",
   "execution_count": 10,
   "metadata": {},
   "outputs": [
    {
     "data": {
      "text/plain": [
       "(150, 1)"
      ]
     },
     "execution_count": 10,
     "metadata": {},
     "output_type": "execute_result"
    }
   ],
   "source": [
    "n_samples = x_train[0]\n",
    "input_shape = x_train.shape[1:] # shape of a single sample\n",
    "output_shape = y_train.shape[1:] # shape of a single sample\n",
    "# output_length = y_train.shape[1:][0]\n",
    "input_shape"
   ]
  },
  {
   "cell_type": "code",
   "execution_count": 11,
   "metadata": {},
   "outputs": [
    {
     "data": {
      "text/plain": [
       "(150, 1)"
      ]
     },
     "execution_count": 11,
     "metadata": {},
     "output_type": "execute_result"
    }
   ],
   "source": [
    "output_shape"
   ]
  },
  {
   "cell_type": "code",
   "execution_count": 12,
   "metadata": {},
   "outputs": [],
   "source": [
    "num_encoder_tokens = x_train.shape[-1]\n",
    "num_decoder_tokens = y_train.shape[-1]\n",
    "# latent_dim = 1"
   ]
  },
  {
   "cell_type": "code",
   "execution_count": 13,
   "metadata": {
    "scrolled": true
   },
   "outputs": [],
   "source": [
    "k_reg = regularizers.l2(0.01) # 10e-5\n",
    "# b_reg = regularizers.l1(0.01)\n",
    "a_reg = regularizers.l1(0.01) # 10e-5"
   ]
  },
  {
   "cell_type": "code",
   "execution_count": 14,
   "metadata": {},
   "outputs": [
    {
     "data": {
      "text/plain": [
       "(150, 1)"
      ]
     },
     "execution_count": 14,
     "metadata": {},
     "output_type": "execute_result"
    }
   ],
   "source": [
    "input_shape\n",
    "# input_shape = (150,)\n",
    "input_shape"
   ]
  },
  {
   "cell_type": "code",
   "execution_count": 15,
   "metadata": {},
   "outputs": [],
   "source": [
    "batch_size = 32\n",
    "original_dim = 150\n",
    "latent_dim = 3\n",
    "intermediate_dim = 150\n",
    "epsilon_std = 1.0"
   ]
  },
  {
   "cell_type": "code",
   "execution_count": 16,
   "metadata": {},
   "outputs": [],
   "source": [
    "# TODO Batch Normalization"
   ]
  },
  {
   "cell_type": "code",
   "execution_count": 17,
   "metadata": {},
   "outputs": [],
   "source": [
    "def sampling(args, latent_dim, epsilon_std):\n",
    "    z_mean, z_log_var = args\n",
    "    # epsilon = K.random_normal(shape=(batch_size, latent_dim), mean=0., stddev=epsilon_std)\n",
    "    epsilon = K.random_normal(shape=(K.shape(z_mean)[0], latent_dim), mean=0., stddev=epsilon_std)\n",
    "    return z_mean + K.exp(z_log_var / 2) * epsilon"
   ]
  },
  {
   "cell_type": "code",
   "execution_count": 38,
   "metadata": {},
   "outputs": [],
   "source": [
    "k_reg = regularizers.l2(1e-5)\n",
    "# b_reg = regularizers.l1(0.01)\n",
    "a_reg = regularizers.l1(1e-5)\n",
    "\n",
    "def encoder(latent_dim, input_shape, intermediate_dim = 150):\n",
    "    encoder_input = Input(shape=input_shape, name='encoder_input-')\n",
    "    h = encoder_input\n",
    "    # image_data_format = 'channels_last'   -   e.g. (28,28,3)\n",
    "    # naive assumption:\n",
    "    #   for drumkits no correlation between note_indices and occurrence at an timestep is assumed\n",
    "    #   (that is, p(E|C) is not significantly different from p(D|C))\n",
    "    #   - note that this _is_ the case for e.g. HH vs. OH\n",
    "    #     these often occur in the same register (between different drumkits)\n",
    "    #   - even with melodic/harmonic data, this assumption could help by reducing\n",
    "    #    (1) unwanted repetition (stuttering) of notes\n",
    "    #    (2) unwanted dissonance (caused by playing notes with an interval of a half step)\n",
    "    \n",
    "    timesteps = input_shape[-2]\n",
    "    notes = input_shape[-1]\n",
    "    \n",
    "    # Convolve & Pool\n",
    "#     h = Conv1D(16, kernel_size=2, strides=1, activation='relu', padding='same')(h)\n",
    "#     h = Conv1D(16, kernel_size=2, strides=1, activation='relu', padding='same')(h)\n",
    "#     h = MaxPooling1D(pool_size=2, strides=2, padding='same')(h)\n",
    "\n",
    "    h = Conv1D(32, kernel_size=2, strides=2, activation='relu', padding='same')(h)\n",
    "#     h = Conv1D(32, kernel_size=2, strides=1, activation='relu', padding='same')(h)\n",
    "    h = Conv1D(64, kernel_size=2, strides=1, activation='relu', padding='same')(h)\n",
    "    h = MaxPooling1D(pool_size=2, strides=2, padding='same')(h)\n",
    "    \n",
    "#     h = Conv1D(64, kernel_size=2, strides=2, activation='relu', padding='same')(h)\n",
    "#     h = Conv1D(64, kernel_size=2, strides=1, activation='relu', padding='same')(h)\n",
    "#     h = MaxPooling1D(pool_size=2, strides=2, padding='same')(h)\n",
    "#     # 128 512\n",
    "\n",
    "    # Dense layers\n",
    "    h = Flatten()(h)\n",
    "    h = Dense(intermediate_dim, activation='relu')(h)\n",
    "#     h = Dropout(0.1)(h) # uncomment when using larger batches\n",
    "#     h = Dense(intermediate_dim, activation='relu')(h)\n",
    "    # h = Dense(intermediate_dim, activation='relu', kernel_regularizer=k_reg, activity_regularizer=a_reg)(h)\n",
    "\n",
    "    # Z Mean, Variance\n",
    "    z_mean = Dense(latent_dim, name='z_mean')(h) # , activation='relu'\n",
    "    z_log_var = Dense(latent_dim, name='z_log_var')(h) # , activation='relu'\n",
    "    \n",
    "    encoder_output = [z_mean, z_log_var]\n",
    "    encoder_model = Model(encoder_input, encoder_output, name='encoder_model-')\n",
    "    return encoder_model, z_mean, z_log_var, encoder_input\n",
    "\n",
    "def z_(latent_dim, epsilon_std):\n",
    "    # sample z from a distribution defined by [input_mean, input_log_var]\n",
    "    # input :: [z_mean, z_log_var]\n",
    "    z_input = [Input(shape=(latent_dim,)), Input(shape=(latent_dim,))]\n",
    "    sampling_ = lambda args: sampling(args, latent_dim, epsilon_std)\n",
    "    z_output = Lambda(sampling_, name='z_sampler-')(z_input)\n",
    "    # z_output = Lambda(sampling_, output_shape=(latent_dim,), name='z_sampler-')(z_input)\n",
    "    z_model = Model(z_input, z_output, name='z_model-')\n",
    "    return z_model\n",
    "\n",
    "def decoder(latent_dim, output_shape, filters = 32):\n",
    "    z_input = Input(shape=(latent_dim,), name='decoder_input-')\n",
    "    h = z_input\n",
    "    # :output_shape = (timesteps, channels, channels) || (batches, filters, timesteps, channels)\n",
    "    # keras offers just Conv2DTranspose and not Conv1DTranspose\n",
    "    # - use 2D images during upsampling :: (timesteps, notes, channels) => (timesteps, notes, filters)\n",
    "    # - use 1D images to optimize reconstruction :: (timesteps, filters) => (timesteps, notes)\n",
    "    \n",
    "    # at the start of upsampling, the image-structure does not yet have to correspond to the goal structure \n",
    "    # ?TODO use y*y*y starting dims, may conv, and only then correct the structure (?)\n",
    "    \n",
    "    timesteps = output_shape[-2] # cols\n",
    "    notes = output_shape[-1] # rows\n",
    "    channels = 1 # rgb\n",
    "\n",
    "    # image_data_format = 'channels_last'\n",
    "    # goal shape: (timesteps, notes, channels)\n",
    "    # start with the 'reverse': lots of small imgs => few large img\n",
    "    m = 4 # multiplier for dims\n",
    "    output_shape = (channels, notes * m, timesteps)\n",
    "    p = 'valid'\n",
    "\n",
    "    # upsampling\n",
    "    h = Dense(np.prod(output_shape[-3:]), activation='relu')(h)\n",
    "    h = Reshape(output_shape[-3:])(h)\n",
    "    \n",
    "    # Convolve & Pool\n",
    "    # Note that the kernel windows do not yet correspond to 'temporal' features, but rather to just spatial features\n",
    "    k = (3,2) # (2,1) :: (timesteps, notes)\n",
    "    s = (1,3)\n",
    "    # TODO\n",
    "    s1 = (3,1)\n",
    "    s2 = (1,3)\n",
    "    s3 = 2\n",
    "    timesteps_ = int(timesteps / 2)\n",
    "    h = Conv2DTranspose(timesteps_, kernel_size=k, strides=3, activation='relu', padding=p)(h)\n",
    "    h = Conv2DTranspose(32, kernel_size=k, strides=3, activation='relu', padding=p)(h)\n",
    "#     h = Conv2DTranspose(32, kernel_size=k, strides=3, activation='relu', padding=p)(h)\n",
    "    h = Conv2DTranspose(16, kernel_size=k, strides=(3,1), activation='relu', padding=p)(h)\n",
    "    h = MaxPooling2D(pool_size=2, strides=2, padding='same')(h)\n",
    "\n",
    "#     h = Conv2DTranspose(32, kernel_size=k, strides=3, activation='relu', padding=p)(h)\n",
    "    h = Conv2DTranspose(16, kernel_size=k, strides=3, activation='relu', padding=p)(h)\n",
    "    # 'end' of upsampling\n",
    "    h = Conv2D(1, kernel_size=(1,2), strides=1, activation='relu', padding=p)(h)\n",
    "    dims = keras.backend.int_shape(h)[1:]\n",
    "    print('dims', dims)\n",
    "    h = Reshape(dims[0:2])(h)\n",
    "#     h = Conv1D(16, kernel_size=2, strides=1, activation='relu', padding=p)(h)\n",
    "    h = Conv1D(notes * m, kernel_size=2, strides=2, activation='relu', padding=p)(h)\n",
    "\n",
    "    \n",
    "    # Mean (output)\n",
    "#     h = Conv2D(1, kernel_size=1, strides=s, activation='sigmoid', padding='same')(h)\n",
    "    output_shape = (timesteps, notes)\n",
    "    h = Flatten()(h)\n",
    "    h = Dense(np.prod(output_shape), activation='sigmoid')(h)\n",
    "    output_shape = (timesteps, notes)\n",
    "    h = Reshape(output_shape)(h)\n",
    "    decoder_output = h\n",
    "    model = Model(inputs=z_input, outputs=decoder_output, name='decoder_model-')\n",
    "    return model"
   ]
  },
  {
   "cell_type": "code",
   "execution_count": 41,
   "metadata": {},
   "outputs": [
    {
     "name": "stdout",
     "output_type": "stream",
     "text": [
      "dims (42, 56, 1)\n",
      "__________________________________________________________________________________________________\n",
      "Layer (type)                    Output Shape         Param #     Connected to                     \n",
      "==================================================================================================\n",
      "encoder_input- (InputLayer)     (None, 150, 1)       0                                            \n",
      "__________________________________________________________________________________________________\n",
      "conv1d_24 (Conv1D)              (None, 75, 32)       96          encoder_input-[0][0]             \n",
      "__________________________________________________________________________________________________\n",
      "conv1d_25 (Conv1D)              (None, 75, 64)       4160        conv1d_24[0][0]                  \n",
      "__________________________________________________________________________________________________\n",
      "max_pooling1d_8 (MaxPooling1D)  (None, 38, 64)       0           conv1d_25[0][0]                  \n",
      "__________________________________________________________________________________________________\n",
      "flatten_15 (Flatten)            (None, 2432)         0           max_pooling1d_8[0][0]            \n",
      "__________________________________________________________________________________________________\n",
      "dense_23 (Dense)                (None, 150)          364950      flatten_15[0][0]                 \n",
      "__________________________________________________________________________________________________\n",
      "z_mean (Dense)                  (None, 3)            453         dense_23[0][0]                   \n",
      "__________________________________________________________________________________________________\n",
      "z_log_var (Dense)               (None, 3)            453         dense_23[0][0]                   \n",
      "==================================================================================================\n",
      "Total params: 370,112\n",
      "Trainable params: 370,112\n",
      "Non-trainable params: 0\n",
      "__________________________________________________________________________________________________\n",
      "__________________________________________________________________________________________________\n",
      "Layer (type)                    Output Shape         Param #     Connected to                     \n",
      "==================================================================================================\n",
      "input_19 (InputLayer)           (None, 3)            0                                            \n",
      "__________________________________________________________________________________________________\n",
      "input_20 (InputLayer)           (None, 3)            0                                            \n",
      "__________________________________________________________________________________________________\n",
      "z_sampler- (Lambda)             (None, 3)            0           input_19[0][0]                   \n",
      "                                                                 input_20[0][0]                   \n",
      "==================================================================================================\n",
      "Total params: 0\n",
      "Trainable params: 0\n",
      "Non-trainable params: 0\n",
      "__________________________________________________________________________________________________\n",
      "_________________________________________________________________\n",
      "Layer (type)                 Output Shape              Param #   \n",
      "=================================================================\n",
      "decoder_input- (InputLayer)  (None, 3)                 0         \n",
      "_________________________________________________________________\n",
      "dense_24 (Dense)             (None, 600)               2400      \n",
      "_________________________________________________________________\n",
      "reshape_22 (Reshape)         (None, 1, 4, 150)         0         \n",
      "_________________________________________________________________\n",
      "conv2d_transpose_33 (Conv2DT (None, 3, 12, 75)         67575     \n",
      "_________________________________________________________________\n",
      "conv2d_transpose_34 (Conv2DT (None, 9, 36, 32)         14432     \n",
      "_________________________________________________________________\n",
      "conv2d_transpose_35 (Conv2DT (None, 27, 37, 16)        3088      \n",
      "_________________________________________________________________\n",
      "max_pooling2d_8 (MaxPooling2 (None, 14, 19, 16)        0         \n",
      "_________________________________________________________________\n",
      "conv2d_transpose_36 (Conv2DT (None, 42, 57, 16)        1552      \n",
      "_________________________________________________________________\n",
      "conv2d_8 (Conv2D)            (None, 42, 56, 1)         33        \n",
      "_________________________________________________________________\n",
      "reshape_23 (Reshape)         (None, 42, 56)            0         \n",
      "_________________________________________________________________\n",
      "conv1d_26 (Conv1D)           (None, 21, 4)             452       \n",
      "_________________________________________________________________\n",
      "flatten_16 (Flatten)         (None, 84)                0         \n",
      "_________________________________________________________________\n",
      "dense_25 (Dense)             (None, 150)               12750     \n",
      "_________________________________________________________________\n",
      "reshape_24 (Reshape)         (None, 150, 1)            0         \n",
      "=================================================================\n",
      "Total params: 102,282\n",
      "Trainable params: 102,282\n",
      "Non-trainable params: 0\n",
      "_________________________________________________________________\n"
     ]
    }
   ],
   "source": [
    "encoder_model, z_mean, z_log_var, encoder_input = encoder(latent_dim, input_shape)\n",
    "z_model = z_(latent_dim, epsilon_std)\n",
    "decoder_model = decoder(latent_dim, output_shape)\n",
    "\n",
    "\n",
    "encoder_model.summary()\n",
    "z_model.summary()\n",
    "decoder_model.summary()"
   ]
  },
  {
   "cell_type": "code",
   "execution_count": 42,
   "metadata": {},
   "outputs": [
    {
     "name": "stdout",
     "output_type": "stream",
     "text": [
      "__________________________________________________________________________________________________\n",
      "Layer (type)                    Output Shape         Param #     Connected to                     \n",
      "==================================================================================================\n",
      "encoder_input- (InputLayer)     (None, 150, 1)       0                                            \n",
      "__________________________________________________________________________________________________\n",
      "encoder_model- (Model)          [(None, 3), (None, 3 370112      encoder_input-[0][0]             \n",
      "__________________________________________________________________________________________________\n",
      "z_model- (Model)                (None, 3)            0           encoder_model-[1][0]             \n",
      "                                                                 encoder_model-[1][1]             \n",
      "__________________________________________________________________________________________________\n",
      "decoder_model- (Model)          (None, 150, 1)       102282      z_model-[1][0]                   \n",
      "==================================================================================================\n",
      "Total params: 472,394\n",
      "Trainable params: 472,394\n",
      "Non-trainable params: 0\n",
      "__________________________________________________________________________________________________\n"
     ]
    }
   ],
   "source": [
    "vae_input = Input(shape=input_shape)\n",
    "# vae_input = Input(shape=(150,1))\n",
    "vae_input = encoder_input # WHY ?\n",
    "vae_output = decoder_model(z_model(encoder_model(vae_input)))\n",
    "# vae_output = decoder_model(z)\n",
    "vae = Model(vae_input, vae_output)\n",
    "vae.summary()"
   ]
  },
  {
   "cell_type": "code",
   "execution_count": 43,
   "metadata": {},
   "outputs": [],
   "source": [
    "def vae_loss(y_true, y_pred, z_mean, z_log_var):\n",
    "    # img_rows * img_cols\n",
    "    # xent_loss = K.binary_crossentropy(K.flatten(y_true), K.flatten(y_pred))\n",
    "    xent_loss = K.binary_crossentropy(y_true, y_pred)\n",
    "    kl_loss = - 0.5 * K.mean(1 + z_log_var - K.square(z_mean) - K.exp(z_log_var), axis=-1)\n",
    "    # kl_loss = - 0.5 * K.sum(1 + K.flatten(z_log_var) - K.square(K.flatten(z_mean)) - K.exp(K.flatten(z_log_var)), axis=-1)\n",
    "    return xent_loss + kl_loss"
   ]
  },
  {
   "cell_type": "code",
   "execution_count": 44,
   "metadata": {},
   "outputs": [],
   "source": [
    "metrics = ['acc','mse','mae']\n",
    "# loss = 'binary_crossentropy'#  sparse_categorical_crossentropy\n",
    "loss = lambda y_true, y_pred: vae_loss(y_true, y_pred, z_mean, z_log_var)\n",
    "optimizer = 'rmsprop' # adam adadelta rmsprop nadam\n",
    "# keras.optimizers.RMSprop(lr=0.001, rho=0.9, epsilon=None, decay=0.0)\n",
    "vae.compile(optimizer=optimizer, loss=loss, metrics=metrics)"
   ]
  },
  {
   "cell_type": "code",
   "execution_count": 45,
   "metadata": {},
   "outputs": [],
   "source": [
    "# vae.add_loss(vae_loss)\n",
    "# vae.compile(optimizer='rmsprop', metrics=['binary_accuracy','mae'])"
   ]
  },
  {
   "cell_type": "code",
   "execution_count": 46,
   "metadata": {},
   "outputs": [
    {
     "data": {
      "text/plain": [
       "(264, 150, 1)"
      ]
     },
     "execution_count": 46,
     "metadata": {},
     "output_type": "execute_result"
    }
   ],
   "source": [
    "# z_train = x_train\n",
    "# x_train = x_train.reshape(x_train.shape[0],np.prod(x_train.shape[1:]))\n",
    "x_train.shape"
   ]
  },
  {
   "cell_type": "code",
   "execution_count": 47,
   "metadata": {
    "scrolled": true
   },
   "outputs": [
    {
     "name": "stdout",
     "output_type": "stream",
     "text": [
      "Train on 124 samples, validate on 25 samples\n",
      "Epoch 1/300\n",
      "124/124 [==============================] - 1s 5ms/step - loss: 0.7799 - acc: 0.5914 - mean_squared_error: 0.2487 - mean_absolute_error: 0.4987 - val_loss: 0.6838 - val_acc: 0.6509 - val_mean_squared_error: 0.2443 - val_mean_absolute_error: 0.4939\n",
      "Epoch 2/300\n",
      "124/124 [==============================] - 0s 2ms/step - loss: 0.6662 - acc: 0.6785 - mean_squared_error: 0.2360 - mean_absolute_error: 0.4841 - val_loss: 0.6322 - val_acc: 0.6979 - val_mean_squared_error: 0.2199 - val_mean_absolute_error: 0.4588\n",
      "Epoch 3/300\n",
      "124/124 [==============================] - 0s 2ms/step - loss: 0.6091 - acc: 0.7219 - mean_squared_error: 0.2086 - mean_absolute_error: 0.4319 - val_loss: 0.5979 - val_acc: 0.7243 - val_mean_squared_error: 0.2036 - val_mean_absolute_error: 0.4170\n",
      "Epoch 4/300\n",
      "124/124 [==============================] - 0s 2ms/step - loss: 0.5836 - acc: 0.7419 - mean_squared_error: 0.1965 - mean_absolute_error: 0.3996 - val_loss: 0.5915 - val_acc: 0.7352 - val_mean_squared_error: 0.1999 - val_mean_absolute_error: 0.3993\n",
      "Epoch 5/300\n",
      "124/124 [==============================] - 0s 2ms/step - loss: 0.5742 - acc: 0.7506 - mean_squared_error: 0.1923 - mean_absolute_error: 0.3889 - val_loss: 0.5844 - val_acc: 0.7376 - val_mean_squared_error: 0.1966 - val_mean_absolute_error: 0.3827\n",
      "Epoch 6/300\n",
      "124/124 [==============================] - 0s 2ms/step - loss: 0.5691 - acc: 0.7516 - mean_squared_error: 0.1898 - mean_absolute_error: 0.3796 - val_loss: 0.5805 - val_acc: 0.7376 - val_mean_squared_error: 0.1952 - val_mean_absolute_error: 0.3832\n",
      "Epoch 7/300\n",
      "124/124 [==============================] - 0s 2ms/step - loss: 0.5642 - acc: 0.7516 - mean_squared_error: 0.1881 - mean_absolute_error: 0.3811 - val_loss: 0.5875 - val_acc: 0.7376 - val_mean_squared_error: 0.1971 - val_mean_absolute_error: 0.3641\n",
      "Epoch 8/300\n",
      "124/124 [==============================] - 0s 2ms/step - loss: 0.5611 - acc: 0.7516 - mean_squared_error: 0.1867 - mean_absolute_error: 0.3678 - val_loss: 0.5770 - val_acc: 0.7376 - val_mean_squared_error: 0.1939 - val_mean_absolute_error: 0.3869\n",
      "Epoch 9/300\n",
      "124/124 [==============================] - 0s 2ms/step - loss: 0.5624 - acc: 0.7516 - mean_squared_error: 0.1873 - mean_absolute_error: 0.3805 - val_loss: 0.5941 - val_acc: 0.7376 - val_mean_squared_error: 0.1994 - val_mean_absolute_error: 0.3726\n",
      "Epoch 10/300\n",
      "124/124 [==============================] - 0s 2ms/step - loss: 0.5630 - acc: 0.7516 - mean_squared_error: 0.1873 - mean_absolute_error: 0.3688 - val_loss: 0.5802 - val_acc: 0.7376 - val_mean_squared_error: 0.1953 - val_mean_absolute_error: 0.3980\n",
      "Epoch 11/300\n",
      "124/124 [==============================] - 0s 3ms/step - loss: 0.5602 - acc: 0.7516 - mean_squared_error: 0.1865 - mean_absolute_error: 0.3757 - val_loss: 0.5752 - val_acc: 0.7376 - val_mean_squared_error: 0.1933 - val_mean_absolute_error: 0.3861\n",
      "Epoch 12/300\n",
      "124/124 [==============================] - 0s 3ms/step - loss: 0.5622 - acc: 0.7516 - mean_squared_error: 0.1872 - mean_absolute_error: 0.3724 - val_loss: 0.5795 - val_acc: 0.7376 - val_mean_squared_error: 0.1948 - val_mean_absolute_error: 0.3946\n",
      "Epoch 13/300\n",
      "124/124 [==============================] - 1s 5ms/step - loss: 0.5623 - acc: 0.7516 - mean_squared_error: 0.1871 - mean_absolute_error: 0.3806 - val_loss: 0.5825 - val_acc: 0.7376 - val_mean_squared_error: 0.1959 - val_mean_absolute_error: 0.3767\n",
      "Epoch 14/300\n",
      "124/124 [==============================] - 1s 4ms/step - loss: 0.5602 - acc: 0.7516 - mean_squared_error: 0.1865 - mean_absolute_error: 0.3737 - val_loss: 0.5792 - val_acc: 0.7376 - val_mean_squared_error: 0.1946 - val_mean_absolute_error: 0.3776\n",
      "Epoch 15/300\n",
      "124/124 [==============================] - 1s 5ms/step - loss: 0.5584 - acc: 0.7516 - mean_squared_error: 0.1858 - mean_absolute_error: 0.3709 - val_loss: 0.5789 - val_acc: 0.7376 - val_mean_squared_error: 0.1946 - val_mean_absolute_error: 0.3791\n",
      "Epoch 16/300\n",
      "124/124 [==============================] - 0s 4ms/step - loss: 0.5585 - acc: 0.7516 - mean_squared_error: 0.1857 - mean_absolute_error: 0.3673 - val_loss: 0.5767 - val_acc: 0.7376 - val_mean_squared_error: 0.1939 - val_mean_absolute_error: 0.3895\n",
      "Epoch 17/300\n",
      "124/124 [==============================] - 1s 5ms/step - loss: 0.5589 - acc: 0.7516 - mean_squared_error: 0.1860 - mean_absolute_error: 0.3732 - val_loss: 0.5764 - val_acc: 0.7376 - val_mean_squared_error: 0.1938 - val_mean_absolute_error: 0.3888\n",
      "Epoch 18/300\n",
      "124/124 [==============================] - 1s 5ms/step - loss: 0.5616 - acc: 0.7516 - mean_squared_error: 0.1870 - mean_absolute_error: 0.3797 - val_loss: 0.5770 - val_acc: 0.7376 - val_mean_squared_error: 0.1938 - val_mean_absolute_error: 0.3725\n",
      "Epoch 19/300\n",
      "124/124 [==============================] - 0s 3ms/step - loss: 0.5609 - acc: 0.7516 - mean_squared_error: 0.1866 - mean_absolute_error: 0.3713 - val_loss: 0.5789 - val_acc: 0.7376 - val_mean_squared_error: 0.1946 - val_mean_absolute_error: 0.3817\n",
      "Epoch 20/300\n",
      "124/124 [==============================] - 0s 3ms/step - loss: 0.5601 - acc: 0.7516 - mean_squared_error: 0.1864 - mean_absolute_error: 0.3698 - val_loss: 0.5784 - val_acc: 0.7376 - val_mean_squared_error: 0.1947 - val_mean_absolute_error: 0.3945\n",
      "Epoch 21/300\n",
      "124/124 [==============================] - 0s 3ms/step - loss: 0.5594 - acc: 0.7516 - mean_squared_error: 0.1862 - mean_absolute_error: 0.3771 - val_loss: 0.5788 - val_acc: 0.7376 - val_mean_squared_error: 0.1947 - val_mean_absolute_error: 0.3841\n",
      "Epoch 22/300\n",
      "124/124 [==============================] - 0s 2ms/step - loss: 0.5593 - acc: 0.7516 - mean_squared_error: 0.1861 - mean_absolute_error: 0.3735 - val_loss: 0.5802 - val_acc: 0.7376 - val_mean_squared_error: 0.1950 - val_mean_absolute_error: 0.3784\n",
      "Epoch 23/300\n",
      "124/124 [==============================] - 0s 2ms/step - loss: 0.5609 - acc: 0.7516 - mean_squared_error: 0.1867 - mean_absolute_error: 0.3744 - val_loss: 0.5829 - val_acc: 0.7376 - val_mean_squared_error: 0.1959 - val_mean_absolute_error: 0.3726\n",
      "Epoch 24/300\n",
      "124/124 [==============================] - 0s 2ms/step - loss: 0.5600 - acc: 0.7516 - mean_squared_error: 0.1864 - mean_absolute_error: 0.3702 - val_loss: 0.5740 - val_acc: 0.7376 - val_mean_squared_error: 0.1928 - val_mean_absolute_error: 0.3806\n",
      "Epoch 25/300\n",
      "124/124 [==============================] - 0s 3ms/step - loss: 0.5578 - acc: 0.7516 - mean_squared_error: 0.1856 - mean_absolute_error: 0.3711 - val_loss: 0.5763 - val_acc: 0.7376 - val_mean_squared_error: 0.1937 - val_mean_absolute_error: 0.3817\n",
      "Epoch 26/300\n",
      "124/124 [==============================] - 0s 3ms/step - loss: 0.5605 - acc: 0.7516 - mean_squared_error: 0.1866 - mean_absolute_error: 0.3748 - val_loss: 0.5804 - val_acc: 0.7376 - val_mean_squared_error: 0.1952 - val_mean_absolute_error: 0.3788\n",
      "Epoch 27/300\n",
      "124/124 [==============================] - 0s 3ms/step - loss: 0.5587 - acc: 0.7516 - mean_squared_error: 0.1860 - mean_absolute_error: 0.3709 - val_loss: 0.5806 - val_acc: 0.7376 - val_mean_squared_error: 0.1953 - val_mean_absolute_error: 0.3824\n",
      "Epoch 28/300\n",
      "124/124 [==============================] - 0s 3ms/step - loss: 0.5584 - acc: 0.7516 - mean_squared_error: 0.1858 - mean_absolute_error: 0.3724 - val_loss: 0.5771 - val_acc: 0.7376 - val_mean_squared_error: 0.1940 - val_mean_absolute_error: 0.3769\n",
      "Epoch 29/300\n",
      "124/124 [==============================] - 0s 3ms/step - loss: 0.5595 - acc: 0.7516 - mean_squared_error: 0.1862 - mean_absolute_error: 0.3666 - val_loss: 0.5780 - val_acc: 0.7376 - val_mean_squared_error: 0.1945 - val_mean_absolute_error: 0.3897\n",
      "Epoch 30/300\n",
      "124/124 [==============================] - 0s 2ms/step - loss: 0.5600 - acc: 0.7516 - mean_squared_error: 0.1864 - mean_absolute_error: 0.3723 - val_loss: 0.5782 - val_acc: 0.7376 - val_mean_squared_error: 0.1945 - val_mean_absolute_error: 0.3931\n",
      "Epoch 31/300\n",
      "124/124 [==============================] - 0s 2ms/step - loss: 0.5592 - acc: 0.7516 - mean_squared_error: 0.1862 - mean_absolute_error: 0.3769 - val_loss: 0.5800 - val_acc: 0.7376 - val_mean_squared_error: 0.1951 - val_mean_absolute_error: 0.3804\n",
      "Epoch 32/300\n"
     ]
    },
    {
     "name": "stdout",
     "output_type": "stream",
     "text": [
      "124/124 [==============================] - 0s 2ms/step - loss: 0.5592 - acc: 0.7516 - mean_squared_error: 0.1861 - mean_absolute_error: 0.3707 - val_loss: 0.5770 - val_acc: 0.7376 - val_mean_squared_error: 0.1941 - val_mean_absolute_error: 0.3856\n",
      "Epoch 33/300\n",
      "124/124 [==============================] - 0s 2ms/step - loss: 0.5579 - acc: 0.7516 - mean_squared_error: 0.1857 - mean_absolute_error: 0.3749 - val_loss: 0.5839 - val_acc: 0.7376 - val_mean_squared_error: 0.1963 - val_mean_absolute_error: 0.3733\n",
      "Epoch 34/300\n",
      "124/124 [==============================] - 0s 2ms/step - loss: 0.5605 - acc: 0.7516 - mean_squared_error: 0.1866 - mean_absolute_error: 0.3687 - val_loss: 0.5771 - val_acc: 0.7376 - val_mean_squared_error: 0.1941 - val_mean_absolute_error: 0.3907\n",
      "Epoch 35/300\n",
      "124/124 [==============================] - 0s 2ms/step - loss: 0.5614 - acc: 0.7516 - mean_squared_error: 0.1870 - mean_absolute_error: 0.3780 - val_loss: 0.5784 - val_acc: 0.7376 - val_mean_squared_error: 0.1945 - val_mean_absolute_error: 0.3799\n",
      "Epoch 36/300\n",
      "124/124 [==============================] - 0s 2ms/step - loss: 0.5593 - acc: 0.7516 - mean_squared_error: 0.1862 - mean_absolute_error: 0.3743 - val_loss: 0.5785 - val_acc: 0.7376 - val_mean_squared_error: 0.1945 - val_mean_absolute_error: 0.3742\n",
      "Epoch 37/300\n",
      "124/124 [==============================] - 0s 3ms/step - loss: 0.5589 - acc: 0.7516 - mean_squared_error: 0.1860 - mean_absolute_error: 0.3647 - val_loss: 0.5783 - val_acc: 0.7376 - val_mean_squared_error: 0.1946 - val_mean_absolute_error: 0.3932\n",
      "Epoch 38/300\n",
      "124/124 [==============================] - 0s 3ms/step - loss: 0.5584 - acc: 0.7516 - mean_squared_error: 0.1859 - mean_absolute_error: 0.3791 - val_loss: 0.5827 - val_acc: 0.7376 - val_mean_squared_error: 0.1959 - val_mean_absolute_error: 0.3715\n",
      "Epoch 39/300\n",
      "124/124 [==============================] - 0s 2ms/step - loss: 0.5583 - acc: 0.7516 - mean_squared_error: 0.1858 - mean_absolute_error: 0.3683 - val_loss: 0.5793 - val_acc: 0.7376 - val_mean_squared_error: 0.1949 - val_mean_absolute_error: 0.3820\n",
      "Epoch 40/300\n",
      "124/124 [==============================] - 0s 2ms/step - loss: 0.5599 - acc: 0.7516 - mean_squared_error: 0.1864 - mean_absolute_error: 0.3735 - val_loss: 0.5779 - val_acc: 0.7376 - val_mean_squared_error: 0.1944 - val_mean_absolute_error: 0.3808\n",
      "Epoch 41/300\n",
      "124/124 [==============================] - 0s 2ms/step - loss: 0.5589 - acc: 0.7516 - mean_squared_error: 0.1860 - mean_absolute_error: 0.3766 - val_loss: 0.5837 - val_acc: 0.7376 - val_mean_squared_error: 0.1962 - val_mean_absolute_error: 0.3648\n",
      "Epoch 42/300\n",
      "124/124 [==============================] - 0s 2ms/step - loss: 0.5587 - acc: 0.7516 - mean_squared_error: 0.1860 - mean_absolute_error: 0.3684 - val_loss: 0.5809 - val_acc: 0.7376 - val_mean_squared_error: 0.1953 - val_mean_absolute_error: 0.3737\n",
      "Epoch 43/300\n",
      "124/124 [==============================] - 0s 2ms/step - loss: 0.5584 - acc: 0.7516 - mean_squared_error: 0.1858 - mean_absolute_error: 0.3691 - val_loss: 0.5781 - val_acc: 0.7376 - val_mean_squared_error: 0.1944 - val_mean_absolute_error: 0.3829\n",
      "Epoch 44/300\n",
      "124/124 [==============================] - 0s 2ms/step - loss: 0.5588 - acc: 0.7516 - mean_squared_error: 0.1860 - mean_absolute_error: 0.3690 - val_loss: 0.5778 - val_acc: 0.7376 - val_mean_squared_error: 0.1944 - val_mean_absolute_error: 0.3928\n",
      "Epoch 45/300\n",
      "124/124 [==============================] - 0s 2ms/step - loss: 0.5609 - acc: 0.7516 - mean_squared_error: 0.1868 - mean_absolute_error: 0.3794 - val_loss: 0.5794 - val_acc: 0.7376 - val_mean_squared_error: 0.1948 - val_mean_absolute_error: 0.3750\n",
      "Epoch 46/300\n",
      "124/124 [==============================] - 0s 2ms/step - loss: 0.5587 - acc: 0.7516 - mean_squared_error: 0.1860 - mean_absolute_error: 0.3702 - val_loss: 0.5780 - val_acc: 0.7376 - val_mean_squared_error: 0.1944 - val_mean_absolute_error: 0.3808\n",
      "Epoch 47/300\n",
      "124/124 [==============================] - 0s 2ms/step - loss: 0.5595 - acc: 0.7516 - mean_squared_error: 0.1863 - mean_absolute_error: 0.3751 - val_loss: 0.5811 - val_acc: 0.7376 - val_mean_squared_error: 0.1954 - val_mean_absolute_error: 0.3730\n",
      "Epoch 48/300\n",
      "124/124 [==============================] - 0s 2ms/step - loss: 0.5593 - acc: 0.7516 - mean_squared_error: 0.1862 - mean_absolute_error: 0.3714 - val_loss: 0.5794 - val_acc: 0.7376 - val_mean_squared_error: 0.1948 - val_mean_absolute_error: 0.3758\n",
      "Epoch 49/300\n",
      "124/124 [==============================] - 0s 2ms/step - loss: 0.5595 - acc: 0.7516 - mean_squared_error: 0.1863 - mean_absolute_error: 0.3720 - val_loss: 0.5791 - val_acc: 0.7376 - val_mean_squared_error: 0.1947 - val_mean_absolute_error: 0.3769\n",
      "Epoch 50/300\n",
      "124/124 [==============================] - 0s 2ms/step - loss: 0.5591 - acc: 0.7516 - mean_squared_error: 0.1861 - mean_absolute_error: 0.3709 - val_loss: 0.5788 - val_acc: 0.7376 - val_mean_squared_error: 0.1947 - val_mean_absolute_error: 0.3802\n",
      "Epoch 51/300\n",
      "124/124 [==============================] - 0s 2ms/step - loss: 0.5588 - acc: 0.7516 - mean_squared_error: 0.1860 - mean_absolute_error: 0.3708 - val_loss: 0.5777 - val_acc: 0.7376 - val_mean_squared_error: 0.1943 - val_mean_absolute_error: 0.3820\n",
      "Epoch 52/300\n",
      "124/124 [==============================] - 0s 2ms/step - loss: 0.5589 - acc: 0.7516 - mean_squared_error: 0.1861 - mean_absolute_error: 0.3764 - val_loss: 0.5822 - val_acc: 0.7376 - val_mean_squared_error: 0.1957 - val_mean_absolute_error: 0.3707\n",
      "Epoch 53/300\n",
      "124/124 [==============================] - 0s 2ms/step - loss: 0.5588 - acc: 0.7516 - mean_squared_error: 0.1860 - mean_absolute_error: 0.3701 - val_loss: 0.5799 - val_acc: 0.7376 - val_mean_squared_error: 0.1950 - val_mean_absolute_error: 0.3765\n",
      "Epoch 54/300\n",
      "124/124 [==============================] - 0s 2ms/step - loss: 0.5588 - acc: 0.7516 - mean_squared_error: 0.1860 - mean_absolute_error: 0.3716 - val_loss: 0.5803 - val_acc: 0.7376 - val_mean_squared_error: 0.1952 - val_mean_absolute_error: 0.3792\n",
      "Epoch 55/300\n",
      "124/124 [==============================] - 0s 2ms/step - loss: 0.5585 - acc: 0.7516 - mean_squared_error: 0.1859 - mean_absolute_error: 0.3709 - val_loss: 0.5783 - val_acc: 0.7376 - val_mean_squared_error: 0.1945 - val_mean_absolute_error: 0.3792\n",
      "Epoch 56/300\n",
      "124/124 [==============================] - 0s 2ms/step - loss: 0.5592 - acc: 0.7516 - mean_squared_error: 0.1862 - mean_absolute_error: 0.3735 - val_loss: 0.5776 - val_acc: 0.7376 - val_mean_squared_error: 0.1942 - val_mean_absolute_error: 0.3779\n",
      "Epoch 57/300\n",
      "124/124 [==============================] - 0s 3ms/step - loss: 0.5596 - acc: 0.7516 - mean_squared_error: 0.1863 - mean_absolute_error: 0.3726 - val_loss: 0.5779 - val_acc: 0.7376 - val_mean_squared_error: 0.1944 - val_mean_absolute_error: 0.3798\n",
      "Epoch 58/300\n",
      "124/124 [==============================] - 0s 3ms/step - loss: 0.5585 - acc: 0.7516 - mean_squared_error: 0.1859 - mean_absolute_error: 0.3727 - val_loss: 0.5786 - val_acc: 0.7376 - val_mean_squared_error: 0.1945 - val_mean_absolute_error: 0.3776\n",
      "Epoch 59/300\n",
      "124/124 [==============================] - 0s 4ms/step - loss: 0.5584 - acc: 0.7516 - mean_squared_error: 0.1859 - mean_absolute_error: 0.3722 - val_loss: 0.5796 - val_acc: 0.7376 - val_mean_squared_error: 0.1949 - val_mean_absolute_error: 0.3742\n",
      "Epoch 60/300\n",
      "124/124 [==============================] - 0s 3ms/step - loss: 0.5603 - acc: 0.7516 - mean_squared_error: 0.1866 - mean_absolute_error: 0.3732 - val_loss: 0.5790 - val_acc: 0.7376 - val_mean_squared_error: 0.1947 - val_mean_absolute_error: 0.3771\n",
      "Epoch 61/300\n",
      "124/124 [==============================] - 0s 3ms/step - loss: 0.5586 - acc: 0.7516 - mean_squared_error: 0.1860 - mean_absolute_error: 0.3720 - val_loss: 0.5793 - val_acc: 0.7376 - val_mean_squared_error: 0.1948 - val_mean_absolute_error: 0.3765\n",
      "Epoch 62/300\n",
      "124/124 [==============================] - 0s 3ms/step - loss: 0.5600 - acc: 0.7516 - mean_squared_error: 0.1865 - mean_absolute_error: 0.3746 - val_loss: 0.5809 - val_acc: 0.7376 - val_mean_squared_error: 0.1953 - val_mean_absolute_error: 0.3724\n",
      "Epoch 63/300\n"
     ]
    },
    {
     "name": "stdout",
     "output_type": "stream",
     "text": [
      "124/124 [==============================] - 0s 3ms/step - loss: 0.5592 - acc: 0.7516 - mean_squared_error: 0.1862 - mean_absolute_error: 0.3701 - val_loss: 0.5798 - val_acc: 0.7376 - val_mean_squared_error: 0.1950 - val_mean_absolute_error: 0.3763\n",
      "Epoch 64/300\n",
      "124/124 [==============================] - 0s 3ms/step - loss: 0.5589 - acc: 0.7516 - mean_squared_error: 0.1861 - mean_absolute_error: 0.3735 - val_loss: 0.5820 - val_acc: 0.7376 - val_mean_squared_error: 0.1957 - val_mean_absolute_error: 0.3722\n",
      "Epoch 65/300\n",
      "124/124 [==============================] - 0s 4ms/step - loss: 0.5603 - acc: 0.7516 - mean_squared_error: 0.1866 - mean_absolute_error: 0.3680 - val_loss: 0.5786 - val_acc: 0.7376 - val_mean_squared_error: 0.1946 - val_mean_absolute_error: 0.3813\n",
      "Epoch 66/300\n",
      "124/124 [==============================] - 0s 3ms/step - loss: 0.5587 - acc: 0.7516 - mean_squared_error: 0.1860 - mean_absolute_error: 0.3716 - val_loss: 0.5786 - val_acc: 0.7376 - val_mean_squared_error: 0.1946 - val_mean_absolute_error: 0.3824\n",
      "Epoch 67/300\n",
      "124/124 [==============================] - 0s 3ms/step - loss: 0.5584 - acc: 0.7516 - mean_squared_error: 0.1859 - mean_absolute_error: 0.3731 - val_loss: 0.5781 - val_acc: 0.7376 - val_mean_squared_error: 0.1944 - val_mean_absolute_error: 0.3790\n",
      "Epoch 68/300\n",
      "124/124 [==============================] - 0s 3ms/step - loss: 0.5610 - acc: 0.7516 - mean_squared_error: 0.1868 - mean_absolute_error: 0.3693 - val_loss: 0.5781 - val_acc: 0.7376 - val_mean_squared_error: 0.1944 - val_mean_absolute_error: 0.3818\n",
      "Epoch 69/300\n",
      "124/124 [==============================] - 0s 3ms/step - loss: 0.5583 - acc: 0.7516 - mean_squared_error: 0.1858 - mean_absolute_error: 0.3731 - val_loss: 0.5789 - val_acc: 0.7376 - val_mean_squared_error: 0.1947 - val_mean_absolute_error: 0.3791\n",
      "Epoch 70/300\n",
      "124/124 [==============================] - 0s 4ms/step - loss: 0.5592 - acc: 0.7516 - mean_squared_error: 0.1862 - mean_absolute_error: 0.3719 - val_loss: 0.5783 - val_acc: 0.7376 - val_mean_squared_error: 0.1945 - val_mean_absolute_error: 0.3811\n",
      "Epoch 71/300\n",
      "124/124 [==============================] - 0s 3ms/step - loss: 0.5589 - acc: 0.7516 - mean_squared_error: 0.1861 - mean_absolute_error: 0.3700 - val_loss: 0.5777 - val_acc: 0.7376 - val_mean_squared_error: 0.1943 - val_mean_absolute_error: 0.3854\n",
      "Epoch 72/300\n",
      "124/124 [==============================] - 0s 3ms/step - loss: 0.5585 - acc: 0.7516 - mean_squared_error: 0.1859 - mean_absolute_error: 0.3729 - val_loss: 0.5776 - val_acc: 0.7376 - val_mean_squared_error: 0.1943 - val_mean_absolute_error: 0.3831\n",
      "Epoch 73/300\n",
      "124/124 [==============================] - 0s 3ms/step - loss: 0.5583 - acc: 0.7516 - mean_squared_error: 0.1858 - mean_absolute_error: 0.3712 - val_loss: 0.5774 - val_acc: 0.7376 - val_mean_squared_error: 0.1942 - val_mean_absolute_error: 0.3849\n",
      "Epoch 74/300\n",
      "124/124 [==============================] - 0s 3ms/step - loss: 0.5588 - acc: 0.7516 - mean_squared_error: 0.1860 - mean_absolute_error: 0.3757 - val_loss: 0.5801 - val_acc: 0.7376 - val_mean_squared_error: 0.1951 - val_mean_absolute_error: 0.3745\n",
      "Epoch 75/300\n",
      "124/124 [==============================] - 0s 3ms/step - loss: 0.5586 - acc: 0.7516 - mean_squared_error: 0.1859 - mean_absolute_error: 0.3677 - val_loss: 0.5784 - val_acc: 0.7376 - val_mean_squared_error: 0.1946 - val_mean_absolute_error: 0.3876\n",
      "Epoch 76/300\n",
      "124/124 [==============================] - 0s 3ms/step - loss: 0.5582 - acc: 0.7516 - mean_squared_error: 0.1858 - mean_absolute_error: 0.3760 - val_loss: 0.5796 - val_acc: 0.7376 - val_mean_squared_error: 0.1949 - val_mean_absolute_error: 0.3730\n",
      "Epoch 77/300\n",
      "124/124 [==============================] - 0s 3ms/step - loss: 0.5587 - acc: 0.7516 - mean_squared_error: 0.1860 - mean_absolute_error: 0.3686 - val_loss: 0.5780 - val_acc: 0.7376 - val_mean_squared_error: 0.1944 - val_mean_absolute_error: 0.3839\n",
      "Epoch 78/300\n",
      "124/124 [==============================] - 0s 3ms/step - loss: 0.5588 - acc: 0.7516 - mean_squared_error: 0.1860 - mean_absolute_error: 0.3721 - val_loss: 0.5783 - val_acc: 0.7376 - val_mean_squared_error: 0.1946 - val_mean_absolute_error: 0.3859\n",
      "Epoch 79/300\n",
      "124/124 [==============================] - 0s 3ms/step - loss: 0.5586 - acc: 0.7516 - mean_squared_error: 0.1859 - mean_absolute_error: 0.3715 - val_loss: 0.5776 - val_acc: 0.7376 - val_mean_squared_error: 0.1943 - val_mean_absolute_error: 0.3885\n",
      "Epoch 80/300\n",
      "124/124 [==============================] - 0s 3ms/step - loss: 0.5602 - acc: 0.7516 - mean_squared_error: 0.1865 - mean_absolute_error: 0.3760 - val_loss: 0.5774 - val_acc: 0.7376 - val_mean_squared_error: 0.1942 - val_mean_absolute_error: 0.3848\n",
      "Epoch 81/300\n",
      "124/124 [==============================] - 0s 3ms/step - loss: 0.5585 - acc: 0.7516 - mean_squared_error: 0.1859 - mean_absolute_error: 0.3772 - val_loss: 0.5806 - val_acc: 0.7376 - val_mean_squared_error: 0.1952 - val_mean_absolute_error: 0.3723\n",
      "Epoch 82/300\n",
      "124/124 [==============================] - 0s 3ms/step - loss: 0.5583 - acc: 0.7516 - mean_squared_error: 0.1858 - mean_absolute_error: 0.3656 - val_loss: 0.5776 - val_acc: 0.7376 - val_mean_squared_error: 0.1943 - val_mean_absolute_error: 0.3877\n",
      "Epoch 83/300\n",
      "124/124 [==============================] - 0s 3ms/step - loss: 0.5588 - acc: 0.7516 - mean_squared_error: 0.1860 - mean_absolute_error: 0.3732 - val_loss: 0.5776 - val_acc: 0.7376 - val_mean_squared_error: 0.1943 - val_mean_absolute_error: 0.3852\n",
      "Epoch 84/300\n",
      "124/124 [==============================] - 0s 3ms/step - loss: 0.5582 - acc: 0.7516 - mean_squared_error: 0.1858 - mean_absolute_error: 0.3779 - val_loss: 0.5831 - val_acc: 0.7376 - val_mean_squared_error: 0.1960 - val_mean_absolute_error: 0.3688\n",
      "Epoch 85/300\n",
      "124/124 [==============================] - 0s 3ms/step - loss: 0.5594 - acc: 0.7516 - mean_squared_error: 0.1862 - mean_absolute_error: 0.3651 - val_loss: 0.5779 - val_acc: 0.7376 - val_mean_squared_error: 0.1944 - val_mean_absolute_error: 0.3866\n",
      "Epoch 86/300\n",
      "124/124 [==============================] - 0s 4ms/step - loss: 0.5587 - acc: 0.7516 - mean_squared_error: 0.1860 - mean_absolute_error: 0.3769 - val_loss: 0.5801 - val_acc: 0.7376 - val_mean_squared_error: 0.1950 - val_mean_absolute_error: 0.3742\n",
      "Epoch 87/300\n",
      "124/124 [==============================] - 0s 3ms/step - loss: 0.5611 - acc: 0.7516 - mean_squared_error: 0.1869 - mean_absolute_error: 0.3736 - val_loss: 0.5793 - val_acc: 0.7376 - val_mean_squared_error: 0.1948 - val_mean_absolute_error: 0.3780\n",
      "Epoch 88/300\n",
      "124/124 [==============================] - 0s 4ms/step - loss: 0.5583 - acc: 0.7516 - mean_squared_error: 0.1858 - mean_absolute_error: 0.3707 - val_loss: 0.5786 - val_acc: 0.7376 - val_mean_squared_error: 0.1946 - val_mean_absolute_error: 0.3797\n",
      "Epoch 89/300\n",
      "124/124 [==============================] - 1s 4ms/step - loss: 0.5583 - acc: 0.7516 - mean_squared_error: 0.1859 - mean_absolute_error: 0.3727 - val_loss: 0.5796 - val_acc: 0.7376 - val_mean_squared_error: 0.1949 - val_mean_absolute_error: 0.3771\n",
      "Epoch 90/300\n",
      "124/124 [==============================] - 0s 4ms/step - loss: 0.5589 - acc: 0.7516 - mean_squared_error: 0.1860 - mean_absolute_error: 0.3678 - val_loss: 0.5780 - val_acc: 0.7376 - val_mean_squared_error: 0.1944 - val_mean_absolute_error: 0.3846\n",
      "Epoch 91/300\n",
      "124/124 [==============================] - 0s 3ms/step - loss: 0.5589 - acc: 0.7516 - mean_squared_error: 0.1861 - mean_absolute_error: 0.3741 - val_loss: 0.5787 - val_acc: 0.7376 - val_mean_squared_error: 0.1946 - val_mean_absolute_error: 0.3807\n",
      "Epoch 92/300\n",
      "124/124 [==============================] - 0s 3ms/step - loss: 0.5584 - acc: 0.7516 - mean_squared_error: 0.1859 - mean_absolute_error: 0.3710 - val_loss: 0.5782 - val_acc: 0.7376 - val_mean_squared_error: 0.1945 - val_mean_absolute_error: 0.3832\n",
      "Epoch 93/300\n",
      "124/124 [==============================] - 0s 3ms/step - loss: 0.5585 - acc: 0.7516 - mean_squared_error: 0.1859 - mean_absolute_error: 0.3707 - val_loss: 0.5780 - val_acc: 0.7376 - val_mean_squared_error: 0.1944 - val_mean_absolute_error: 0.3864\n",
      "Epoch 94/300\n"
     ]
    },
    {
     "name": "stdout",
     "output_type": "stream",
     "text": [
      "124/124 [==============================] - 0s 2ms/step - loss: 0.5588 - acc: 0.7516 - mean_squared_error: 0.1860 - mean_absolute_error: 0.3753 - val_loss: 0.5788 - val_acc: 0.7376 - val_mean_squared_error: 0.1946 - val_mean_absolute_error: 0.3773\n",
      "Epoch 95/300\n",
      "124/124 [==============================] - 0s 2ms/step - loss: 0.5584 - acc: 0.7516 - mean_squared_error: 0.1859 - mean_absolute_error: 0.3726 - val_loss: 0.5804 - val_acc: 0.7376 - val_mean_squared_error: 0.1951 - val_mean_absolute_error: 0.3732\n",
      "Epoch 96/300\n",
      "124/124 [==============================] - 0s 2ms/step - loss: 0.5582 - acc: 0.7516 - mean_squared_error: 0.1858 - mean_absolute_error: 0.3689 - val_loss: 0.5782 - val_acc: 0.7376 - val_mean_squared_error: 0.1945 - val_mean_absolute_error: 0.3814\n",
      "Epoch 97/300\n",
      "124/124 [==============================] - 0s 2ms/step - loss: 0.5597 - acc: 0.7516 - mean_squared_error: 0.1863 - mean_absolute_error: 0.3675 - val_loss: 0.5775 - val_acc: 0.7376 - val_mean_squared_error: 0.1943 - val_mean_absolute_error: 0.3902\n",
      "Epoch 98/300\n",
      "124/124 [==============================] - 0s 3ms/step - loss: 0.5585 - acc: 0.7516 - mean_squared_error: 0.1859 - mean_absolute_error: 0.3794 - val_loss: 0.5806 - val_acc: 0.7376 - val_mean_squared_error: 0.1952 - val_mean_absolute_error: 0.3725\n",
      "Epoch 99/300\n",
      "124/124 [==============================] - 0s 2ms/step - loss: 0.5584 - acc: 0.7516 - mean_squared_error: 0.1859 - mean_absolute_error: 0.3682 - val_loss: 0.5785 - val_acc: 0.7376 - val_mean_squared_error: 0.1946 - val_mean_absolute_error: 0.3811\n",
      "Epoch 100/300\n",
      "124/124 [==============================] - 0s 2ms/step - loss: 0.5588 - acc: 0.7516 - mean_squared_error: 0.1860 - mean_absolute_error: 0.3728 - val_loss: 0.5784 - val_acc: 0.7376 - val_mean_squared_error: 0.1945 - val_mean_absolute_error: 0.3784\n",
      "Epoch 101/300\n",
      "124/124 [==============================] - 0s 4ms/step - loss: 0.5587 - acc: 0.7516 - mean_squared_error: 0.1860 - mean_absolute_error: 0.3683 - val_loss: 0.5776 - val_acc: 0.7376 - val_mean_squared_error: 0.1943 - val_mean_absolute_error: 0.3847\n",
      "Epoch 102/300\n",
      "124/124 [==============================] - 0s 3ms/step - loss: 0.5585 - acc: 0.7516 - mean_squared_error: 0.1859 - mean_absolute_error: 0.3708 - val_loss: 0.5773 - val_acc: 0.7376 - val_mean_squared_error: 0.1942 - val_mean_absolute_error: 0.3883\n",
      "Epoch 103/300\n",
      "124/124 [==============================] - 0s 2ms/step - loss: 0.5586 - acc: 0.7516 - mean_squared_error: 0.1860 - mean_absolute_error: 0.3759 - val_loss: 0.5786 - val_acc: 0.7376 - val_mean_squared_error: 0.1946 - val_mean_absolute_error: 0.3797\n",
      "Epoch 104/300\n",
      "124/124 [==============================] - 0s 2ms/step - loss: 0.5594 - acc: 0.7516 - mean_squared_error: 0.1862 - mean_absolute_error: 0.3692 - val_loss: 0.5781 - val_acc: 0.7376 - val_mean_squared_error: 0.1945 - val_mean_absolute_error: 0.3834\n",
      "Epoch 105/300\n",
      "124/124 [==============================] - 0s 3ms/step - loss: 0.5594 - acc: 0.7516 - mean_squared_error: 0.1863 - mean_absolute_error: 0.3758 - val_loss: 0.5787 - val_acc: 0.7376 - val_mean_squared_error: 0.1946 - val_mean_absolute_error: 0.3785\n",
      "Epoch 106/300\n",
      "124/124 [==============================] - 0s 2ms/step - loss: 0.5593 - acc: 0.7516 - mean_squared_error: 0.1862 - mean_absolute_error: 0.3719 - val_loss: 0.5784 - val_acc: 0.7376 - val_mean_squared_error: 0.1945 - val_mean_absolute_error: 0.3795\n",
      "Epoch 107/300\n",
      "124/124 [==============================] - 0s 3ms/step - loss: 0.5584 - acc: 0.7516 - mean_squared_error: 0.1859 - mean_absolute_error: 0.3702 - val_loss: 0.5779 - val_acc: 0.7376 - val_mean_squared_error: 0.1944 - val_mean_absolute_error: 0.3825\n",
      "Epoch 108/300\n",
      "124/124 [==============================] - 0s 3ms/step - loss: 0.5584 - acc: 0.7516 - mean_squared_error: 0.1859 - mean_absolute_error: 0.3736 - val_loss: 0.5793 - val_acc: 0.7376 - val_mean_squared_error: 0.1948 - val_mean_absolute_error: 0.3775\n",
      "Epoch 109/300\n",
      "124/124 [==============================] - 0s 4ms/step - loss: 0.5582 - acc: 0.7516 - mean_squared_error: 0.1858 - mean_absolute_error: 0.3694 - val_loss: 0.5776 - val_acc: 0.7376 - val_mean_squared_error: 0.1943 - val_mean_absolute_error: 0.3830\n",
      "Epoch 110/300\n",
      "124/124 [==============================] - 0s 2ms/step - loss: 0.5590 - acc: 0.7516 - mean_squared_error: 0.1861 - mean_absolute_error: 0.3730 - val_loss: 0.5785 - val_acc: 0.7376 - val_mean_squared_error: 0.1946 - val_mean_absolute_error: 0.3797\n",
      "Epoch 111/300\n",
      "124/124 [==============================] - 0s 2ms/step - loss: 0.5582 - acc: 0.7516 - mean_squared_error: 0.1858 - mean_absolute_error: 0.3684 - val_loss: 0.5775 - val_acc: 0.7376 - val_mean_squared_error: 0.1943 - val_mean_absolute_error: 0.3881\n",
      "Epoch 112/300\n",
      "124/124 [==============================] - 0s 3ms/step - loss: 0.5595 - acc: 0.7516 - mean_squared_error: 0.1863 - mean_absolute_error: 0.3761 - val_loss: 0.5787 - val_acc: 0.7376 - val_mean_squared_error: 0.1946 - val_mean_absolute_error: 0.3792\n",
      "Epoch 113/300\n",
      "124/124 [==============================] - 0s 3ms/step - loss: 0.5589 - acc: 0.7516 - mean_squared_error: 0.1861 - mean_absolute_error: 0.3711 - val_loss: 0.5783 - val_acc: 0.7376 - val_mean_squared_error: 0.1945 - val_mean_absolute_error: 0.3813\n",
      "Epoch 114/300\n",
      "124/124 [==============================] - 0s 2ms/step - loss: 0.5585 - acc: 0.7516 - mean_squared_error: 0.1859 - mean_absolute_error: 0.3720 - val_loss: 0.5778 - val_acc: 0.7376 - val_mean_squared_error: 0.1943 - val_mean_absolute_error: 0.3812\n",
      "Epoch 115/300\n",
      "124/124 [==============================] - 1s 6ms/step - loss: 0.5596 - acc: 0.7516 - mean_squared_error: 0.1863 - mean_absolute_error: 0.3709 - val_loss: 0.5782 - val_acc: 0.7376 - val_mean_squared_error: 0.1945 - val_mean_absolute_error: 0.3818\n",
      "Epoch 116/300\n",
      "124/124 [==============================] - 1s 4ms/step - loss: 0.5580 - acc: 0.7516 - mean_squared_error: 0.1857 - mean_absolute_error: 0.3731 - val_loss: 0.5792 - val_acc: 0.7376 - val_mean_squared_error: 0.1948 - val_mean_absolute_error: 0.3779\n",
      "Epoch 117/300\n",
      "124/124 [==============================] - 1s 4ms/step - loss: 0.5599 - acc: 0.7516 - mean_squared_error: 0.1865 - mean_absolute_error: 0.3729 - val_loss: 0.5794 - val_acc: 0.7376 - val_mean_squared_error: 0.1949 - val_mean_absolute_error: 0.3789\n",
      "Epoch 118/300\n",
      "124/124 [==============================] - 0s 4ms/step - loss: 0.5582 - acc: 0.7516 - mean_squared_error: 0.1858 - mean_absolute_error: 0.3716 - val_loss: 0.5792 - val_acc: 0.7376 - val_mean_squared_error: 0.1948 - val_mean_absolute_error: 0.3783\n",
      "Epoch 119/300\n",
      "124/124 [==============================] - 1s 4ms/step - loss: 0.5581 - acc: 0.7516 - mean_squared_error: 0.1858 - mean_absolute_error: 0.3698 - val_loss: 0.5778 - val_acc: 0.7376 - val_mean_squared_error: 0.1944 - val_mean_absolute_error: 0.3832\n",
      "Epoch 120/300\n",
      "124/124 [==============================] - 0s 4ms/step - loss: 0.5583 - acc: 0.7516 - mean_squared_error: 0.1858 - mean_absolute_error: 0.3698 - val_loss: 0.5776 - val_acc: 0.7376 - val_mean_squared_error: 0.1943 - val_mean_absolute_error: 0.3893\n",
      "Epoch 121/300\n",
      "124/124 [==============================] - 0s 3ms/step - loss: 0.5591 - acc: 0.7516 - mean_squared_error: 0.1861 - mean_absolute_error: 0.3778 - val_loss: 0.5804 - val_acc: 0.7376 - val_mean_squared_error: 0.1952 - val_mean_absolute_error: 0.3744\n",
      "Epoch 122/300\n",
      "124/124 [==============================] - 0s 3ms/step - loss: 0.5585 - acc: 0.7516 - mean_squared_error: 0.1859 - mean_absolute_error: 0.3697 - val_loss: 0.5789 - val_acc: 0.7376 - val_mean_squared_error: 0.1947 - val_mean_absolute_error: 0.3795\n",
      "Epoch 123/300\n",
      "124/124 [==============================] - 0s 3ms/step - loss: 0.5586 - acc: 0.7516 - mean_squared_error: 0.1860 - mean_absolute_error: 0.3717 - val_loss: 0.5783 - val_acc: 0.7376 - val_mean_squared_error: 0.1945 - val_mean_absolute_error: 0.3804\n",
      "Epoch 124/300\n",
      "124/124 [==============================] - 0s 2ms/step - loss: 0.5585 - acc: 0.7516 - mean_squared_error: 0.1859 - mean_absolute_error: 0.3737 - val_loss: 0.5797 - val_acc: 0.7376 - val_mean_squared_error: 0.1949 - val_mean_absolute_error: 0.3747\n",
      "Epoch 125/300\n"
     ]
    },
    {
     "name": "stdout",
     "output_type": "stream",
     "text": [
      "124/124 [==============================] - 0s 3ms/step - loss: 0.5580 - acc: 0.7516 - mean_squared_error: 0.1857 - mean_absolute_error: 0.3679 - val_loss: 0.5775 - val_acc: 0.7376 - val_mean_squared_error: 0.1943 - val_mean_absolute_error: 0.3860\n",
      "Epoch 126/300\n",
      "124/124 [==============================] - 0s 2ms/step - loss: 0.5588 - acc: 0.7516 - mean_squared_error: 0.1860 - mean_absolute_error: 0.3734 - val_loss: 0.5781 - val_acc: 0.7376 - val_mean_squared_error: 0.1944 - val_mean_absolute_error: 0.3811\n",
      "Epoch 127/300\n",
      "124/124 [==============================] - 0s 3ms/step - loss: 0.5596 - acc: 0.7516 - mean_squared_error: 0.1863 - mean_absolute_error: 0.3702 - val_loss: 0.5779 - val_acc: 0.7376 - val_mean_squared_error: 0.1944 - val_mean_absolute_error: 0.3846\n",
      "Epoch 128/300\n",
      "124/124 [==============================] - 0s 2ms/step - loss: 0.5579 - acc: 0.7516 - mean_squared_error: 0.1857 - mean_absolute_error: 0.3739 - val_loss: 0.5789 - val_acc: 0.7376 - val_mean_squared_error: 0.1947 - val_mean_absolute_error: 0.3780\n",
      "Epoch 129/300\n",
      "124/124 [==============================] - 0s 3ms/step - loss: 0.5599 - acc: 0.7516 - mean_squared_error: 0.1864 - mean_absolute_error: 0.3711 - val_loss: 0.5778 - val_acc: 0.7376 - val_mean_squared_error: 0.1943 - val_mean_absolute_error: 0.3833\n",
      "Epoch 130/300\n",
      "124/124 [==============================] - 0s 3ms/step - loss: 0.5584 - acc: 0.7516 - mean_squared_error: 0.1859 - mean_absolute_error: 0.3740 - val_loss: 0.5788 - val_acc: 0.7376 - val_mean_squared_error: 0.1946 - val_mean_absolute_error: 0.3791\n",
      "Epoch 131/300\n",
      "124/124 [==============================] - 0s 2ms/step - loss: 0.5585 - acc: 0.7516 - mean_squared_error: 0.1859 - mean_absolute_error: 0.3674 - val_loss: 0.5776 - val_acc: 0.7376 - val_mean_squared_error: 0.1943 - val_mean_absolute_error: 0.3877\n",
      "Epoch 132/300\n",
      "124/124 [==============================] - 0s 2ms/step - loss: 0.5588 - acc: 0.7516 - mean_squared_error: 0.1860 - mean_absolute_error: 0.3718 - val_loss: 0.5779 - val_acc: 0.7376 - val_mean_squared_error: 0.1944 - val_mean_absolute_error: 0.3890\n",
      "Epoch 133/300\n",
      "124/124 [==============================] - 0s 2ms/step - loss: 0.5587 - acc: 0.7516 - mean_squared_error: 0.1860 - mean_absolute_error: 0.3748 - val_loss: 0.5780 - val_acc: 0.7376 - val_mean_squared_error: 0.1944 - val_mean_absolute_error: 0.3844\n",
      "Epoch 134/300\n",
      "124/124 [==============================] - 0s 2ms/step - loss: 0.5586 - acc: 0.7516 - mean_squared_error: 0.1859 - mean_absolute_error: 0.3707 - val_loss: 0.5778 - val_acc: 0.7376 - val_mean_squared_error: 0.1944 - val_mean_absolute_error: 0.3873\n",
      "Epoch 135/300\n",
      "124/124 [==============================] - 0s 2ms/step - loss: 0.5580 - acc: 0.7516 - mean_squared_error: 0.1857 - mean_absolute_error: 0.3779 - val_loss: 0.5808 - val_acc: 0.7376 - val_mean_squared_error: 0.1953 - val_mean_absolute_error: 0.3721\n",
      "Epoch 136/300\n",
      "124/124 [==============================] - 0s 2ms/step - loss: 0.5594 - acc: 0.7516 - mean_squared_error: 0.1862 - mean_absolute_error: 0.3678 - val_loss: 0.5783 - val_acc: 0.7376 - val_mean_squared_error: 0.1945 - val_mean_absolute_error: 0.3814\n",
      "Epoch 137/300\n",
      "124/124 [==============================] - 0s 2ms/step - loss: 0.5584 - acc: 0.7516 - mean_squared_error: 0.1859 - mean_absolute_error: 0.3713 - val_loss: 0.5781 - val_acc: 0.7376 - val_mean_squared_error: 0.1945 - val_mean_absolute_error: 0.3819\n",
      "Epoch 138/300\n",
      "124/124 [==============================] - 0s 2ms/step - loss: 0.5585 - acc: 0.7516 - mean_squared_error: 0.1859 - mean_absolute_error: 0.3774 - val_loss: 0.5823 - val_acc: 0.7376 - val_mean_squared_error: 0.1957 - val_mean_absolute_error: 0.3695\n",
      "Epoch 139/300\n",
      "124/124 [==============================] - 0s 2ms/step - loss: 0.5587 - acc: 0.7516 - mean_squared_error: 0.1860 - mean_absolute_error: 0.3671 - val_loss: 0.5789 - val_acc: 0.7376 - val_mean_squared_error: 0.1947 - val_mean_absolute_error: 0.3783\n",
      "Epoch 140/300\n",
      "124/124 [==============================] - 0s 3ms/step - loss: 0.5583 - acc: 0.7516 - mean_squared_error: 0.1858 - mean_absolute_error: 0.3682 - val_loss: 0.5777 - val_acc: 0.7376 - val_mean_squared_error: 0.1943 - val_mean_absolute_error: 0.3867\n",
      "Epoch 141/300\n",
      "124/124 [==============================] - 0s 2ms/step - loss: 0.5589 - acc: 0.7516 - mean_squared_error: 0.1861 - mean_absolute_error: 0.3731 - val_loss: 0.5778 - val_acc: 0.7376 - val_mean_squared_error: 0.1944 - val_mean_absolute_error: 0.3853\n",
      "Epoch 142/300\n",
      "124/124 [==============================] - 0s 3ms/step - loss: 0.5587 - acc: 0.7516 - mean_squared_error: 0.1860 - mean_absolute_error: 0.3754 - val_loss: 0.5788 - val_acc: 0.7376 - val_mean_squared_error: 0.1946 - val_mean_absolute_error: 0.3787\n",
      "Epoch 143/300\n",
      "124/124 [==============================] - 1s 4ms/step - loss: 0.5588 - acc: 0.7516 - mean_squared_error: 0.1860 - mean_absolute_error: 0.3682 - val_loss: 0.5778 - val_acc: 0.7376 - val_mean_squared_error: 0.1944 - val_mean_absolute_error: 0.3850\n",
      "Epoch 144/300\n",
      "124/124 [==============================] - 0s 3ms/step - loss: 0.5582 - acc: 0.7516 - mean_squared_error: 0.1858 - mean_absolute_error: 0.3738 - val_loss: 0.5786 - val_acc: 0.7376 - val_mean_squared_error: 0.1946 - val_mean_absolute_error: 0.3805\n",
      "Epoch 145/300\n",
      "124/124 [==============================] - 0s 2ms/step - loss: 0.5587 - acc: 0.7516 - mean_squared_error: 0.1860 - mean_absolute_error: 0.3730 - val_loss: 0.5795 - val_acc: 0.7376 - val_mean_squared_error: 0.1949 - val_mean_absolute_error: 0.3769\n",
      "Epoch 146/300\n",
      "124/124 [==============================] - 0s 4ms/step - loss: 0.5582 - acc: 0.7516 - mean_squared_error: 0.1858 - mean_absolute_error: 0.3699 - val_loss: 0.5782 - val_acc: 0.7376 - val_mean_squared_error: 0.1945 - val_mean_absolute_error: 0.3817\n",
      "Epoch 147/300\n",
      "124/124 [==============================] - 0s 3ms/step - loss: 0.5581 - acc: 0.7516 - mean_squared_error: 0.1858 - mean_absolute_error: 0.3726 - val_loss: 0.5788 - val_acc: 0.7376 - val_mean_squared_error: 0.1947 - val_mean_absolute_error: 0.3784\n",
      "Epoch 148/300\n",
      "124/124 [==============================] - 0s 3ms/step - loss: 0.5582 - acc: 0.7516 - mean_squared_error: 0.1858 - mean_absolute_error: 0.3685 - val_loss: 0.5776 - val_acc: 0.7376 - val_mean_squared_error: 0.1943 - val_mean_absolute_error: 0.3884\n",
      "Epoch 149/300\n",
      "124/124 [==============================] - 0s 3ms/step - loss: 0.5601 - acc: 0.7516 - mean_squared_error: 0.1865 - mean_absolute_error: 0.3738 - val_loss: 0.5777 - val_acc: 0.7376 - val_mean_squared_error: 0.1943 - val_mean_absolute_error: 0.3874\n",
      "Epoch 150/300\n",
      "124/124 [==============================] - 0s 4ms/step - loss: 0.5584 - acc: 0.7516 - mean_squared_error: 0.1859 - mean_absolute_error: 0.3753 - val_loss: 0.5786 - val_acc: 0.7376 - val_mean_squared_error: 0.1946 - val_mean_absolute_error: 0.3801\n",
      "Epoch 151/300\n",
      "124/124 [==============================] - 0s 4ms/step - loss: 0.5586 - acc: 0.7516 - mean_squared_error: 0.1860 - mean_absolute_error: 0.3714 - val_loss: 0.5781 - val_acc: 0.7376 - val_mean_squared_error: 0.1944 - val_mean_absolute_error: 0.3822\n",
      "Epoch 152/300\n",
      "124/124 [==============================] - 0s 3ms/step - loss: 0.5585 - acc: 0.7516 - mean_squared_error: 0.1859 - mean_absolute_error: 0.3743 - val_loss: 0.5796 - val_acc: 0.7376 - val_mean_squared_error: 0.1949 - val_mean_absolute_error: 0.3760\n",
      "Epoch 153/300\n",
      "124/124 [==============================] - 0s 4ms/step - loss: 0.5583 - acc: 0.7516 - mean_squared_error: 0.1859 - mean_absolute_error: 0.3712 - val_loss: 0.5795 - val_acc: 0.7376 - val_mean_squared_error: 0.1949 - val_mean_absolute_error: 0.3762\n",
      "Epoch 154/300\n",
      "124/124 [==============================] - 0s 3ms/step - loss: 0.5585 - acc: 0.7516 - mean_squared_error: 0.1859 - mean_absolute_error: 0.3651 - val_loss: 0.5776 - val_acc: 0.7376 - val_mean_squared_error: 0.1943 - val_mean_absolute_error: 0.3906\n",
      "Epoch 155/300\n",
      "124/124 [==============================] - 0s 3ms/step - loss: 0.5590 - acc: 0.7516 - mean_squared_error: 0.1861 - mean_absolute_error: 0.3740 - val_loss: 0.5776 - val_acc: 0.7376 - val_mean_squared_error: 0.1943 - val_mean_absolute_error: 0.3882\n",
      "Epoch 156/300\n"
     ]
    },
    {
     "name": "stdout",
     "output_type": "stream",
     "text": [
      "124/124 [==============================] - 0s 3ms/step - loss: 0.5592 - acc: 0.7516 - mean_squared_error: 0.1862 - mean_absolute_error: 0.3760 - val_loss: 0.5779 - val_acc: 0.7376 - val_mean_squared_error: 0.1944 - val_mean_absolute_error: 0.3831\n",
      "Epoch 157/300\n",
      "124/124 [==============================] - 0s 3ms/step - loss: 0.5584 - acc: 0.7516 - mean_squared_error: 0.1859 - mean_absolute_error: 0.3720 - val_loss: 0.5781 - val_acc: 0.7376 - val_mean_squared_error: 0.1944 - val_mean_absolute_error: 0.3821\n",
      "Epoch 158/300\n",
      "124/124 [==============================] - 0s 3ms/step - loss: 0.5595 - acc: 0.7516 - mean_squared_error: 0.1863 - mean_absolute_error: 0.3697 - val_loss: 0.5779 - val_acc: 0.7376 - val_mean_squared_error: 0.1944 - val_mean_absolute_error: 0.3842\n",
      "Epoch 159/300\n",
      "124/124 [==============================] - 0s 3ms/step - loss: 0.5584 - acc: 0.7516 - mean_squared_error: 0.1859 - mean_absolute_error: 0.3750 - val_loss: 0.5789 - val_acc: 0.7376 - val_mean_squared_error: 0.1947 - val_mean_absolute_error: 0.3787\n",
      "Epoch 160/300\n",
      "124/124 [==============================] - 0s 3ms/step - loss: 0.5591 - acc: 0.7516 - mean_squared_error: 0.1862 - mean_absolute_error: 0.3750 - val_loss: 0.5803 - val_acc: 0.7376 - val_mean_squared_error: 0.1951 - val_mean_absolute_error: 0.3741\n",
      "Epoch 161/300\n",
      "124/124 [==============================] - 0s 4ms/step - loss: 0.5588 - acc: 0.7516 - mean_squared_error: 0.1860 - mean_absolute_error: 0.3703 - val_loss: 0.5793 - val_acc: 0.7376 - val_mean_squared_error: 0.1948 - val_mean_absolute_error: 0.3772\n",
      "Epoch 162/300\n",
      "124/124 [==============================] - 0s 3ms/step - loss: 0.5581 - acc: 0.7516 - mean_squared_error: 0.1858 - mean_absolute_error: 0.3685 - val_loss: 0.5780 - val_acc: 0.7376 - val_mean_squared_error: 0.1944 - val_mean_absolute_error: 0.3838\n",
      "Epoch 163/300\n",
      "124/124 [==============================] - 0s 3ms/step - loss: 0.5580 - acc: 0.7516 - mean_squared_error: 0.1857 - mean_absolute_error: 0.3734 - val_loss: 0.5788 - val_acc: 0.7376 - val_mean_squared_error: 0.1947 - val_mean_absolute_error: 0.3795\n",
      "Epoch 164/300\n",
      "124/124 [==============================] - 0s 3ms/step - loss: 0.5581 - acc: 0.7516 - mean_squared_error: 0.1858 - mean_absolute_error: 0.3684 - val_loss: 0.5776 - val_acc: 0.7376 - val_mean_squared_error: 0.1943 - val_mean_absolute_error: 0.3878\n",
      "Epoch 165/300\n",
      "124/124 [==============================] - 0s 3ms/step - loss: 0.5591 - acc: 0.7516 - mean_squared_error: 0.1862 - mean_absolute_error: 0.3775 - val_loss: 0.5801 - val_acc: 0.7376 - val_mean_squared_error: 0.1951 - val_mean_absolute_error: 0.3745\n",
      "Epoch 166/300\n",
      "124/124 [==============================] - 0s 3ms/step - loss: 0.5584 - acc: 0.7516 - mean_squared_error: 0.1859 - mean_absolute_error: 0.3703 - val_loss: 0.5795 - val_acc: 0.7376 - val_mean_squared_error: 0.1949 - val_mean_absolute_error: 0.3766\n",
      "Epoch 167/300\n",
      "124/124 [==============================] - 0s 3ms/step - loss: 0.5592 - acc: 0.7516 - mean_squared_error: 0.1862 - mean_absolute_error: 0.3750 - val_loss: 0.5813 - val_acc: 0.7376 - val_mean_squared_error: 0.1955 - val_mean_absolute_error: 0.3719\n",
      "Epoch 168/300\n",
      "124/124 [==============================] - 0s 3ms/step - loss: 0.5583 - acc: 0.7516 - mean_squared_error: 0.1858 - mean_absolute_error: 0.3677 - val_loss: 0.5789 - val_acc: 0.7376 - val_mean_squared_error: 0.1947 - val_mean_absolute_error: 0.3788\n",
      "Epoch 169/300\n",
      "124/124 [==============================] - 0s 3ms/step - loss: 0.5587 - acc: 0.7516 - mean_squared_error: 0.1860 - mean_absolute_error: 0.3745 - val_loss: 0.5807 - val_acc: 0.7376 - val_mean_squared_error: 0.1953 - val_mean_absolute_error: 0.3732\n",
      "Epoch 170/300\n",
      "124/124 [==============================] - 0s 2ms/step - loss: 0.5588 - acc: 0.7516 - mean_squared_error: 0.1860 - mean_absolute_error: 0.3693 - val_loss: 0.5790 - val_acc: 0.7376 - val_mean_squared_error: 0.1947 - val_mean_absolute_error: 0.3782\n",
      "Epoch 171/300\n",
      "124/124 [==============================] - 0s 2ms/step - loss: 0.5598 - acc: 0.7516 - mean_squared_error: 0.1864 - mean_absolute_error: 0.3710 - val_loss: 0.5789 - val_acc: 0.7376 - val_mean_squared_error: 0.1947 - val_mean_absolute_error: 0.3780\n",
      "Epoch 172/300\n",
      "124/124 [==============================] - 0s 2ms/step - loss: 0.5581 - acc: 0.7516 - mean_squared_error: 0.1858 - mean_absolute_error: 0.3714 - val_loss: 0.5789 - val_acc: 0.7376 - val_mean_squared_error: 0.1947 - val_mean_absolute_error: 0.3777\n",
      "Epoch 173/300\n",
      "124/124 [==============================] - 0s 2ms/step - loss: 0.5582 - acc: 0.7516 - mean_squared_error: 0.1858 - mean_absolute_error: 0.3716 - val_loss: 0.5790 - val_acc: 0.7376 - val_mean_squared_error: 0.1947 - val_mean_absolute_error: 0.3773\n",
      "Epoch 174/300\n",
      "124/124 [==============================] - 0s 3ms/step - loss: 0.5586 - acc: 0.7516 - mean_squared_error: 0.1860 - mean_absolute_error: 0.3695 - val_loss: 0.5783 - val_acc: 0.7376 - val_mean_squared_error: 0.1945 - val_mean_absolute_error: 0.3812\n",
      "Epoch 175/300\n",
      "124/124 [==============================] - 0s 4ms/step - loss: 0.5580 - acc: 0.7516 - mean_squared_error: 0.1857 - mean_absolute_error: 0.3717 - val_loss: 0.5784 - val_acc: 0.7376 - val_mean_squared_error: 0.1945 - val_mean_absolute_error: 0.3806\n",
      "Epoch 176/300\n",
      "124/124 [==============================] - 0s 3ms/step - loss: 0.5583 - acc: 0.7516 - mean_squared_error: 0.1858 - mean_absolute_error: 0.3717 - val_loss: 0.5783 - val_acc: 0.7376 - val_mean_squared_error: 0.1945 - val_mean_absolute_error: 0.3809\n",
      "Epoch 177/300\n",
      "124/124 [==============================] - 0s 3ms/step - loss: 0.5588 - acc: 0.7516 - mean_squared_error: 0.1860 - mean_absolute_error: 0.3729 - val_loss: 0.5790 - val_acc: 0.7376 - val_mean_squared_error: 0.1947 - val_mean_absolute_error: 0.3777\n",
      "Epoch 178/300\n",
      "124/124 [==============================] - 0s 3ms/step - loss: 0.5581 - acc: 0.7516 - mean_squared_error: 0.1858 - mean_absolute_error: 0.3716 - val_loss: 0.5793 - val_acc: 0.7376 - val_mean_squared_error: 0.1948 - val_mean_absolute_error: 0.3764\n",
      "Epoch 179/300\n",
      "124/124 [==============================] - 0s 4ms/step - loss: 0.5582 - acc: 0.7516 - mean_squared_error: 0.1858 - mean_absolute_error: 0.3695 - val_loss: 0.5780 - val_acc: 0.7376 - val_mean_squared_error: 0.1944 - val_mean_absolute_error: 0.3820\n",
      "Epoch 180/300\n",
      "124/124 [==============================] - 0s 4ms/step - loss: 0.5583 - acc: 0.7516 - mean_squared_error: 0.1859 - mean_absolute_error: 0.3695 - val_loss: 0.5775 - val_acc: 0.7376 - val_mean_squared_error: 0.1943 - val_mean_absolute_error: 0.3885\n",
      "Epoch 181/300\n",
      "124/124 [==============================] - 0s 3ms/step - loss: 0.5584 - acc: 0.7516 - mean_squared_error: 0.1859 - mean_absolute_error: 0.3748 - val_loss: 0.5784 - val_acc: 0.7376 - val_mean_squared_error: 0.1945 - val_mean_absolute_error: 0.3807\n",
      "Epoch 182/300\n",
      "124/124 [==============================] - 0s 3ms/step - loss: 0.5585 - acc: 0.7516 - mean_squared_error: 0.1859 - mean_absolute_error: 0.3733 - val_loss: 0.5791 - val_acc: 0.7376 - val_mean_squared_error: 0.1947 - val_mean_absolute_error: 0.3770\n",
      "Epoch 183/300\n",
      "124/124 [==============================] - 0s 3ms/step - loss: 0.5581 - acc: 0.7516 - mean_squared_error: 0.1858 - mean_absolute_error: 0.3709 - val_loss: 0.5787 - val_acc: 0.7376 - val_mean_squared_error: 0.1946 - val_mean_absolute_error: 0.3786\n",
      "Epoch 184/300\n",
      "124/124 [==============================] - 0s 4ms/step - loss: 0.5591 - acc: 0.7516 - mean_squared_error: 0.1861 - mean_absolute_error: 0.3689 - val_loss: 0.5778 - val_acc: 0.7376 - val_mean_squared_error: 0.1943 - val_mean_absolute_error: 0.3826\n",
      "Epoch 185/300\n",
      "124/124 [==============================] - 0s 3ms/step - loss: 0.5583 - acc: 0.7516 - mean_squared_error: 0.1858 - mean_absolute_error: 0.3753 - val_loss: 0.5804 - val_acc: 0.7376 - val_mean_squared_error: 0.1951 - val_mean_absolute_error: 0.3734\n",
      "Epoch 186/300\n",
      "124/124 [==============================] - 0s 4ms/step - loss: 0.5584 - acc: 0.7516 - mean_squared_error: 0.1859 - mean_absolute_error: 0.3693 - val_loss: 0.5790 - val_acc: 0.7376 - val_mean_squared_error: 0.1947 - val_mean_absolute_error: 0.3788\n",
      "Epoch 187/300\n"
     ]
    },
    {
     "name": "stdout",
     "output_type": "stream",
     "text": [
      "124/124 [==============================] - 0s 3ms/step - loss: 0.5587 - acc: 0.7516 - mean_squared_error: 0.1860 - mean_absolute_error: 0.3686 - val_loss: 0.5778 - val_acc: 0.7376 - val_mean_squared_error: 0.1943 - val_mean_absolute_error: 0.3846\n",
      "Epoch 188/300\n",
      "124/124 [==============================] - 0s 3ms/step - loss: 0.5584 - acc: 0.7516 - mean_squared_error: 0.1859 - mean_absolute_error: 0.3717 - val_loss: 0.5777 - val_acc: 0.7376 - val_mean_squared_error: 0.1943 - val_mean_absolute_error: 0.3854\n",
      "Epoch 189/300\n",
      "124/124 [==============================] - 0s 3ms/step - loss: 0.5581 - acc: 0.7516 - mean_squared_error: 0.1858 - mean_absolute_error: 0.3737 - val_loss: 0.5783 - val_acc: 0.7376 - val_mean_squared_error: 0.1945 - val_mean_absolute_error: 0.3804\n",
      "Epoch 190/300\n",
      "124/124 [==============================] - 0s 3ms/step - loss: 0.5582 - acc: 0.7516 - mean_squared_error: 0.1858 - mean_absolute_error: 0.3700 - val_loss: 0.5776 - val_acc: 0.7376 - val_mean_squared_error: 0.1943 - val_mean_absolute_error: 0.3860\n",
      "Epoch 191/300\n",
      "124/124 [==============================] - 0s 3ms/step - loss: 0.5583 - acc: 0.7516 - mean_squared_error: 0.1858 - mean_absolute_error: 0.3737 - val_loss: 0.5784 - val_acc: 0.7376 - val_mean_squared_error: 0.1945 - val_mean_absolute_error: 0.3799\n",
      "Epoch 192/300\n",
      "124/124 [==============================] - 0s 3ms/step - loss: 0.5584 - acc: 0.7516 - mean_squared_error: 0.1859 - mean_absolute_error: 0.3721 - val_loss: 0.5788 - val_acc: 0.7376 - val_mean_squared_error: 0.1947 - val_mean_absolute_error: 0.3787\n",
      "Epoch 193/300\n",
      "124/124 [==============================] - 0s 2ms/step - loss: 0.5597 - acc: 0.7516 - mean_squared_error: 0.1863 - mean_absolute_error: 0.3716 - val_loss: 0.5780 - val_acc: 0.7376 - val_mean_squared_error: 0.1944 - val_mean_absolute_error: 0.3831\n",
      "Epoch 194/300\n",
      "124/124 [==============================] - 0s 2ms/step - loss: 0.5585 - acc: 0.7516 - mean_squared_error: 0.1859 - mean_absolute_error: 0.3725 - val_loss: 0.5781 - val_acc: 0.7376 - val_mean_squared_error: 0.1944 - val_mean_absolute_error: 0.3822\n",
      "Epoch 195/300\n",
      "124/124 [==============================] - 0s 2ms/step - loss: 0.5581 - acc: 0.7516 - mean_squared_error: 0.1858 - mean_absolute_error: 0.3735 - val_loss: 0.5791 - val_acc: 0.7376 - val_mean_squared_error: 0.1948 - val_mean_absolute_error: 0.3769\n",
      "Epoch 196/300\n",
      "124/124 [==============================] - 0s 3ms/step - loss: 0.5586 - acc: 0.7516 - mean_squared_error: 0.1859 - mean_absolute_error: 0.3746 - val_loss: 0.5814 - val_acc: 0.7376 - val_mean_squared_error: 0.1955 - val_mean_absolute_error: 0.3710\n",
      "Epoch 197/300\n",
      "124/124 [==============================] - 0s 2ms/step - loss: 0.5591 - acc: 0.7516 - mean_squared_error: 0.1861 - mean_absolute_error: 0.3667 - val_loss: 0.5784 - val_acc: 0.7376 - val_mean_squared_error: 0.1945 - val_mean_absolute_error: 0.3805\n",
      "Epoch 198/300\n",
      "124/124 [==============================] - 0s 3ms/step - loss: 0.5588 - acc: 0.7516 - mean_squared_error: 0.1860 - mean_absolute_error: 0.3690 - val_loss: 0.5777 - val_acc: 0.7376 - val_mean_squared_error: 0.1943 - val_mean_absolute_error: 0.3857\n",
      "Epoch 199/300\n",
      "124/124 [==============================] - 0s 3ms/step - loss: 0.5582 - acc: 0.7516 - mean_squared_error: 0.1858 - mean_absolute_error: 0.3747 - val_loss: 0.5786 - val_acc: 0.7376 - val_mean_squared_error: 0.1946 - val_mean_absolute_error: 0.3801\n",
      "Epoch 200/300\n",
      "124/124 [==============================] - 0s 2ms/step - loss: 0.5600 - acc: 0.7516 - mean_squared_error: 0.1865 - mean_absolute_error: 0.3714 - val_loss: 0.5780 - val_acc: 0.7376 - val_mean_squared_error: 0.1944 - val_mean_absolute_error: 0.3824\n",
      "Epoch 201/300\n",
      "124/124 [==============================] - 0s 2ms/step - loss: 0.5585 - acc: 0.7516 - mean_squared_error: 0.1859 - mean_absolute_error: 0.3744 - val_loss: 0.5787 - val_acc: 0.7376 - val_mean_squared_error: 0.1946 - val_mean_absolute_error: 0.3784\n",
      "Epoch 202/300\n",
      "124/124 [==============================] - 0s 3ms/step - loss: 0.5582 - acc: 0.7516 - mean_squared_error: 0.1858 - mean_absolute_error: 0.3696 - val_loss: 0.5779 - val_acc: 0.7376 - val_mean_squared_error: 0.1944 - val_mean_absolute_error: 0.3826\n",
      "Epoch 203/300\n",
      "124/124 [==============================] - 0s 3ms/step - loss: 0.5588 - acc: 0.7516 - mean_squared_error: 0.1860 - mean_absolute_error: 0.3726 - val_loss: 0.5781 - val_acc: 0.7376 - val_mean_squared_error: 0.1945 - val_mean_absolute_error: 0.3823\n",
      "Epoch 204/300\n",
      "124/124 [==============================] - 0s 2ms/step - loss: 0.5586 - acc: 0.7516 - mean_squared_error: 0.1860 - mean_absolute_error: 0.3746 - val_loss: 0.5789 - val_acc: 0.7376 - val_mean_squared_error: 0.1947 - val_mean_absolute_error: 0.3781\n",
      "Epoch 205/300\n",
      "124/124 [==============================] - 0s 3ms/step - loss: 0.5579 - acc: 0.7516 - mean_squared_error: 0.1857 - mean_absolute_error: 0.3707 - val_loss: 0.5785 - val_acc: 0.7376 - val_mean_squared_error: 0.1946 - val_mean_absolute_error: 0.3792\n",
      "Epoch 206/300\n",
      "124/124 [==============================] - 0s 2ms/step - loss: 0.5587 - acc: 0.7516 - mean_squared_error: 0.1860 - mean_absolute_error: 0.3719 - val_loss: 0.5785 - val_acc: 0.7376 - val_mean_squared_error: 0.1945 - val_mean_absolute_error: 0.3788\n",
      "Epoch 207/300\n",
      "124/124 [==============================] - 0s 3ms/step - loss: 0.5589 - acc: 0.7516 - mean_squared_error: 0.1860 - mean_absolute_error: 0.3704 - val_loss: 0.5782 - val_acc: 0.7376 - val_mean_squared_error: 0.1944 - val_mean_absolute_error: 0.3806\n",
      "Epoch 208/300\n",
      "124/124 [==============================] - 0s 3ms/step - loss: 0.5582 - acc: 0.7516 - mean_squared_error: 0.1858 - mean_absolute_error: 0.3737 - val_loss: 0.5800 - val_acc: 0.7376 - val_mean_squared_error: 0.1950 - val_mean_absolute_error: 0.3750\n",
      "Epoch 209/300\n",
      "124/124 [==============================] - 0s 3ms/step - loss: 0.5590 - acc: 0.7516 - mean_squared_error: 0.1861 - mean_absolute_error: 0.3679 - val_loss: 0.5779 - val_acc: 0.7376 - val_mean_squared_error: 0.1944 - val_mean_absolute_error: 0.3837\n",
      "Epoch 210/300\n",
      "124/124 [==============================] - 0s 3ms/step - loss: 0.5581 - acc: 0.7516 - mean_squared_error: 0.1858 - mean_absolute_error: 0.3750 - val_loss: 0.5795 - val_acc: 0.7376 - val_mean_squared_error: 0.1949 - val_mean_absolute_error: 0.3758\n",
      "Epoch 211/300\n",
      "124/124 [==============================] - 0s 3ms/step - loss: 0.5583 - acc: 0.7516 - mean_squared_error: 0.1858 - mean_absolute_error: 0.3708 - val_loss: 0.5791 - val_acc: 0.7376 - val_mean_squared_error: 0.1947 - val_mean_absolute_error: 0.3772\n",
      "Epoch 212/300\n",
      "124/124 [==============================] - 0s 2ms/step - loss: 0.5590 - acc: 0.7516 - mean_squared_error: 0.1861 - mean_absolute_error: 0.3701 - val_loss: 0.5783 - val_acc: 0.7376 - val_mean_squared_error: 0.1945 - val_mean_absolute_error: 0.3814\n",
      "Epoch 213/300\n",
      "124/124 [==============================] - 0s 2ms/step - loss: 0.5584 - acc: 0.7516 - mean_squared_error: 0.1859 - mean_absolute_error: 0.3761 - val_loss: 0.5812 - val_acc: 0.7376 - val_mean_squared_error: 0.1954 - val_mean_absolute_error: 0.3721\n",
      "Epoch 214/300\n",
      "124/124 [==============================] - 0s 2ms/step - loss: 0.5583 - acc: 0.7516 - mean_squared_error: 0.1858 - mean_absolute_error: 0.3661 - val_loss: 0.5778 - val_acc: 0.7376 - val_mean_squared_error: 0.1944 - val_mean_absolute_error: 0.3834\n",
      "Epoch 215/300\n",
      "124/124 [==============================] - 0s 2ms/step - loss: 0.5593 - acc: 0.7516 - mean_squared_error: 0.1862 - mean_absolute_error: 0.3687 - val_loss: 0.5777 - val_acc: 0.7376 - val_mean_squared_error: 0.1944 - val_mean_absolute_error: 0.3897\n",
      "Epoch 216/300\n",
      "124/124 [==============================] - 0s 2ms/step - loss: 0.5588 - acc: 0.7516 - mean_squared_error: 0.1860 - mean_absolute_error: 0.3784 - val_loss: 0.5788 - val_acc: 0.7376 - val_mean_squared_error: 0.1947 - val_mean_absolute_error: 0.3786\n",
      "Epoch 217/300\n",
      "124/124 [==============================] - 0s 2ms/step - loss: 0.5581 - acc: 0.7516 - mean_squared_error: 0.1858 - mean_absolute_error: 0.3701 - val_loss: 0.5780 - val_acc: 0.7376 - val_mean_squared_error: 0.1944 - val_mean_absolute_error: 0.3817\n",
      "Epoch 218/300\n"
     ]
    },
    {
     "name": "stdout",
     "output_type": "stream",
     "text": [
      "124/124 [==============================] - 0s 2ms/step - loss: 0.5591 - acc: 0.7516 - mean_squared_error: 0.1861 - mean_absolute_error: 0.3715 - val_loss: 0.5781 - val_acc: 0.7376 - val_mean_squared_error: 0.1944 - val_mean_absolute_error: 0.3816\n",
      "Epoch 219/300\n",
      "124/124 [==============================] - 0s 2ms/step - loss: 0.5583 - acc: 0.7516 - mean_squared_error: 0.1858 - mean_absolute_error: 0.3729 - val_loss: 0.5788 - val_acc: 0.7376 - val_mean_squared_error: 0.1946 - val_mean_absolute_error: 0.3785\n",
      "Epoch 220/300\n",
      "124/124 [==============================] - 0s 2ms/step - loss: 0.5587 - acc: 0.7516 - mean_squared_error: 0.1860 - mean_absolute_error: 0.3718 - val_loss: 0.5786 - val_acc: 0.7376 - val_mean_squared_error: 0.1946 - val_mean_absolute_error: 0.3791\n",
      "Epoch 221/300\n",
      "124/124 [==============================] - 0s 2ms/step - loss: 0.5591 - acc: 0.7516 - mean_squared_error: 0.1861 - mean_absolute_error: 0.3736 - val_loss: 0.5791 - val_acc: 0.7376 - val_mean_squared_error: 0.1948 - val_mean_absolute_error: 0.3766\n",
      "Epoch 222/300\n",
      "124/124 [==============================] - 0s 2ms/step - loss: 0.5581 - acc: 0.7516 - mean_squared_error: 0.1858 - mean_absolute_error: 0.3706 - val_loss: 0.5789 - val_acc: 0.7376 - val_mean_squared_error: 0.1947 - val_mean_absolute_error: 0.3783\n",
      "Epoch 223/300\n",
      "124/124 [==============================] - 0s 2ms/step - loss: 0.5593 - acc: 0.7516 - mean_squared_error: 0.1862 - mean_absolute_error: 0.3747 - val_loss: 0.5802 - val_acc: 0.7376 - val_mean_squared_error: 0.1951 - val_mean_absolute_error: 0.3736\n",
      "Epoch 224/300\n",
      "124/124 [==============================] - 0s 2ms/step - loss: 0.5585 - acc: 0.7516 - mean_squared_error: 0.1859 - mean_absolute_error: 0.3674 - val_loss: 0.5780 - val_acc: 0.7376 - val_mean_squared_error: 0.1944 - val_mean_absolute_error: 0.3815\n",
      "Epoch 225/300\n",
      "124/124 [==============================] - 0s 2ms/step - loss: 0.5590 - acc: 0.7516 - mean_squared_error: 0.1861 - mean_absolute_error: 0.3695 - val_loss: 0.5778 - val_acc: 0.7376 - val_mean_squared_error: 0.1944 - val_mean_absolute_error: 0.3866\n",
      "Epoch 226/300\n",
      "124/124 [==============================] - 0s 2ms/step - loss: 0.5580 - acc: 0.7516 - mean_squared_error: 0.1857 - mean_absolute_error: 0.3760 - val_loss: 0.5792 - val_acc: 0.7376 - val_mean_squared_error: 0.1948 - val_mean_absolute_error: 0.3773\n",
      "Epoch 227/300\n",
      "124/124 [==============================] - 0s 2ms/step - loss: 0.5586 - acc: 0.7516 - mean_squared_error: 0.1859 - mean_absolute_error: 0.3715 - val_loss: 0.5788 - val_acc: 0.7376 - val_mean_squared_error: 0.1947 - val_mean_absolute_error: 0.3781\n",
      "Epoch 228/300\n",
      "124/124 [==============================] - 0s 2ms/step - loss: 0.5582 - acc: 0.7516 - mean_squared_error: 0.1858 - mean_absolute_error: 0.3701 - val_loss: 0.5781 - val_acc: 0.7376 - val_mean_squared_error: 0.1944 - val_mean_absolute_error: 0.3824\n",
      "Epoch 229/300\n",
      "124/124 [==============================] - 0s 2ms/step - loss: 0.5583 - acc: 0.7516 - mean_squared_error: 0.1859 - mean_absolute_error: 0.3756 - val_loss: 0.5805 - val_acc: 0.7376 - val_mean_squared_error: 0.1952 - val_mean_absolute_error: 0.3731\n",
      "Epoch 230/300\n",
      "124/124 [==============================] - 0s 2ms/step - loss: 0.5583 - acc: 0.7516 - mean_squared_error: 0.1858 - mean_absolute_error: 0.3673 - val_loss: 0.5781 - val_acc: 0.7376 - val_mean_squared_error: 0.1944 - val_mean_absolute_error: 0.3820\n",
      "Epoch 231/300\n",
      "124/124 [==============================] - 0s 2ms/step - loss: 0.5596 - acc: 0.7516 - mean_squared_error: 0.1863 - mean_absolute_error: 0.3690 - val_loss: 0.5779 - val_acc: 0.7376 - val_mean_squared_error: 0.1944 - val_mean_absolute_error: 0.3850\n",
      "Epoch 232/300\n",
      "124/124 [==============================] - 0s 2ms/step - loss: 0.5584 - acc: 0.7516 - mean_squared_error: 0.1859 - mean_absolute_error: 0.3749 - val_loss: 0.5789 - val_acc: 0.7376 - val_mean_squared_error: 0.1947 - val_mean_absolute_error: 0.3785\n",
      "Epoch 233/300\n",
      "124/124 [==============================] - 0s 2ms/step - loss: 0.5587 - acc: 0.7516 - mean_squared_error: 0.1860 - mean_absolute_error: 0.3696 - val_loss: 0.5779 - val_acc: 0.7376 - val_mean_squared_error: 0.1944 - val_mean_absolute_error: 0.3842\n",
      "Epoch 234/300\n",
      "124/124 [==============================] - 0s 2ms/step - loss: 0.5582 - acc: 0.7516 - mean_squared_error: 0.1858 - mean_absolute_error: 0.3720 - val_loss: 0.5779 - val_acc: 0.7376 - val_mean_squared_error: 0.1944 - val_mean_absolute_error: 0.3842\n",
      "Epoch 235/300\n",
      "124/124 [==============================] - 0s 2ms/step - loss: 0.5580 - acc: 0.7516 - mean_squared_error: 0.1857 - mean_absolute_error: 0.3742 - val_loss: 0.5792 - val_acc: 0.7376 - val_mean_squared_error: 0.1948 - val_mean_absolute_error: 0.3775\n",
      "Epoch 236/300\n",
      "124/124 [==============================] - 0s 2ms/step - loss: 0.5589 - acc: 0.7516 - mean_squared_error: 0.1861 - mean_absolute_error: 0.3703 - val_loss: 0.5787 - val_acc: 0.7376 - val_mean_squared_error: 0.1946 - val_mean_absolute_error: 0.3794\n",
      "Epoch 237/300\n",
      "124/124 [==============================] - 0s 2ms/step - loss: 0.5580 - acc: 0.7516 - mean_squared_error: 0.1857 - mean_absolute_error: 0.3710 - val_loss: 0.5783 - val_acc: 0.7376 - val_mean_squared_error: 0.1945 - val_mean_absolute_error: 0.3804\n",
      "Epoch 238/300\n",
      "124/124 [==============================] - 0s 2ms/step - loss: 0.5584 - acc: 0.7516 - mean_squared_error: 0.1859 - mean_absolute_error: 0.3729 - val_loss: 0.5794 - val_acc: 0.7376 - val_mean_squared_error: 0.1948 - val_mean_absolute_error: 0.3766\n",
      "Epoch 239/300\n",
      "124/124 [==============================] - 0s 2ms/step - loss: 0.5581 - acc: 0.7516 - mean_squared_error: 0.1858 - mean_absolute_error: 0.3712 - val_loss: 0.5792 - val_acc: 0.7376 - val_mean_squared_error: 0.1948 - val_mean_absolute_error: 0.3766\n",
      "Epoch 240/300\n",
      "124/124 [==============================] - 0s 2ms/step - loss: 0.5580 - acc: 0.7516 - mean_squared_error: 0.1857 - mean_absolute_error: 0.3681 - val_loss: 0.5775 - val_acc: 0.7376 - val_mean_squared_error: 0.1943 - val_mean_absolute_error: 0.3882\n",
      "Epoch 241/300\n",
      "124/124 [==============================] - 0s 2ms/step - loss: 0.5582 - acc: 0.7516 - mean_squared_error: 0.1858 - mean_absolute_error: 0.3759 - val_loss: 0.5794 - val_acc: 0.7376 - val_mean_squared_error: 0.1948 - val_mean_absolute_error: 0.3762\n",
      "Epoch 242/300\n",
      "124/124 [==============================] - 0s 2ms/step - loss: 0.5581 - acc: 0.7516 - mean_squared_error: 0.1858 - mean_absolute_error: 0.3709 - val_loss: 0.5792 - val_acc: 0.7376 - val_mean_squared_error: 0.1948 - val_mean_absolute_error: 0.3773\n",
      "Epoch 243/300\n",
      "124/124 [==============================] - 0s 2ms/step - loss: 0.5593 - acc: 0.7516 - mean_squared_error: 0.1862 - mean_absolute_error: 0.3723 - val_loss: 0.5788 - val_acc: 0.7376 - val_mean_squared_error: 0.1947 - val_mean_absolute_error: 0.3784\n",
      "Epoch 244/300\n",
      "124/124 [==============================] - 0s 2ms/step - loss: 0.5584 - acc: 0.7516 - mean_squared_error: 0.1859 - mean_absolute_error: 0.3701 - val_loss: 0.5782 - val_acc: 0.7376 - val_mean_squared_error: 0.1945 - val_mean_absolute_error: 0.3809\n",
      "Epoch 245/300\n",
      "124/124 [==============================] - 0s 2ms/step - loss: 0.5580 - acc: 0.7516 - mean_squared_error: 0.1857 - mean_absolute_error: 0.3725 - val_loss: 0.5789 - val_acc: 0.7376 - val_mean_squared_error: 0.1947 - val_mean_absolute_error: 0.3777\n",
      "Epoch 246/300\n",
      "124/124 [==============================] - 0s 2ms/step - loss: 0.5591 - acc: 0.7516 - mean_squared_error: 0.1861 - mean_absolute_error: 0.3692 - val_loss: 0.5776 - val_acc: 0.7376 - val_mean_squared_error: 0.1943 - val_mean_absolute_error: 0.3845\n",
      "Epoch 247/300\n",
      "124/124 [==============================] - 0s 3ms/step - loss: 0.5583 - acc: 0.7516 - mean_squared_error: 0.1859 - mean_absolute_error: 0.3776 - val_loss: 0.5810 - val_acc: 0.7376 - val_mean_squared_error: 0.1954 - val_mean_absolute_error: 0.3719\n",
      "Epoch 248/300\n",
      "124/124 [==============================] - 0s 3ms/step - loss: 0.5581 - acc: 0.7516 - mean_squared_error: 0.1858 - mean_absolute_error: 0.3661 - val_loss: 0.5778 - val_acc: 0.7376 - val_mean_squared_error: 0.1943 - val_mean_absolute_error: 0.3832\n",
      "Epoch 249/300\n"
     ]
    },
    {
     "name": "stdout",
     "output_type": "stream",
     "text": [
      "124/124 [==============================] - 0s 3ms/step - loss: 0.5585 - acc: 0.7516 - mean_squared_error: 0.1859 - mean_absolute_error: 0.3730 - val_loss: 0.5785 - val_acc: 0.7376 - val_mean_squared_error: 0.1946 - val_mean_absolute_error: 0.3797\n",
      "Epoch 250/300\n",
      "124/124 [==============================] - 0s 3ms/step - loss: 0.5600 - acc: 0.7516 - mean_squared_error: 0.1865 - mean_absolute_error: 0.3741 - val_loss: 0.5786 - val_acc: 0.7376 - val_mean_squared_error: 0.1946 - val_mean_absolute_error: 0.3797\n",
      "Epoch 251/300\n",
      "124/124 [==============================] - 0s 2ms/step - loss: 0.5580 - acc: 0.7516 - mean_squared_error: 0.1857 - mean_absolute_error: 0.3710 - val_loss: 0.5784 - val_acc: 0.7376 - val_mean_squared_error: 0.1945 - val_mean_absolute_error: 0.3803\n",
      "Epoch 252/300\n",
      "124/124 [==============================] - 0s 2ms/step - loss: 0.5580 - acc: 0.7516 - mean_squared_error: 0.1857 - mean_absolute_error: 0.3714 - val_loss: 0.5784 - val_acc: 0.7376 - val_mean_squared_error: 0.1945 - val_mean_absolute_error: 0.3806\n",
      "Epoch 253/300\n",
      "124/124 [==============================] - 0s 2ms/step - loss: 0.5580 - acc: 0.7516 - mean_squared_error: 0.1857 - mean_absolute_error: 0.3720 - val_loss: 0.5786 - val_acc: 0.7376 - val_mean_squared_error: 0.1946 - val_mean_absolute_error: 0.3790\n",
      "Epoch 254/300\n",
      "124/124 [==============================] - 0s 2ms/step - loss: 0.5581 - acc: 0.7516 - mean_squared_error: 0.1858 - mean_absolute_error: 0.3726 - val_loss: 0.5800 - val_acc: 0.7376 - val_mean_squared_error: 0.1950 - val_mean_absolute_error: 0.3747\n",
      "Epoch 255/300\n",
      "124/124 [==============================] - 0s 2ms/step - loss: 0.5585 - acc: 0.7516 - mean_squared_error: 0.1859 - mean_absolute_error: 0.3708 - val_loss: 0.5793 - val_acc: 0.7376 - val_mean_squared_error: 0.1948 - val_mean_absolute_error: 0.3770\n",
      "Epoch 256/300\n",
      "124/124 [==============================] - 0s 2ms/step - loss: 0.5583 - acc: 0.7516 - mean_squared_error: 0.1859 - mean_absolute_error: 0.3729 - val_loss: 0.5806 - val_acc: 0.7376 - val_mean_squared_error: 0.1952 - val_mean_absolute_error: 0.3733\n",
      "Epoch 257/300\n",
      "124/124 [==============================] - 0s 2ms/step - loss: 0.5595 - acc: 0.7516 - mean_squared_error: 0.1863 - mean_absolute_error: 0.3697 - val_loss: 0.5795 - val_acc: 0.7376 - val_mean_squared_error: 0.1949 - val_mean_absolute_error: 0.3764\n",
      "Epoch 258/300\n",
      "124/124 [==============================] - 0s 2ms/step - loss: 0.5584 - acc: 0.7516 - mean_squared_error: 0.1859 - mean_absolute_error: 0.3698 - val_loss: 0.5787 - val_acc: 0.7376 - val_mean_squared_error: 0.1946 - val_mean_absolute_error: 0.3789\n",
      "Epoch 259/300\n",
      "124/124 [==============================] - 0s 2ms/step - loss: 0.5590 - acc: 0.7516 - mean_squared_error: 0.1861 - mean_absolute_error: 0.3718 - val_loss: 0.5788 - val_acc: 0.7376 - val_mean_squared_error: 0.1946 - val_mean_absolute_error: 0.3794\n",
      "Epoch 260/300\n",
      "124/124 [==============================] - 0s 2ms/step - loss: 0.5581 - acc: 0.7516 - mean_squared_error: 0.1858 - mean_absolute_error: 0.3713 - val_loss: 0.5788 - val_acc: 0.7376 - val_mean_squared_error: 0.1946 - val_mean_absolute_error: 0.3793\n",
      "Epoch 261/300\n",
      "124/124 [==============================] - 0s 2ms/step - loss: 0.5582 - acc: 0.7516 - mean_squared_error: 0.1858 - mean_absolute_error: 0.3700 - val_loss: 0.5780 - val_acc: 0.7376 - val_mean_squared_error: 0.1944 - val_mean_absolute_error: 0.3837\n",
      "Epoch 262/300\n",
      "124/124 [==============================] - 0s 2ms/step - loss: 0.5583 - acc: 0.7516 - mean_squared_error: 0.1858 - mean_absolute_error: 0.3729 - val_loss: 0.5783 - val_acc: 0.7376 - val_mean_squared_error: 0.1945 - val_mean_absolute_error: 0.3816\n",
      "Epoch 263/300\n",
      "124/124 [==============================] - 0s 2ms/step - loss: 0.5579 - acc: 0.7516 - mean_squared_error: 0.1857 - mean_absolute_error: 0.3726 - val_loss: 0.5790 - val_acc: 0.7376 - val_mean_squared_error: 0.1947 - val_mean_absolute_error: 0.3781\n",
      "Epoch 264/300\n",
      "124/124 [==============================] - 0s 2ms/step - loss: 0.5584 - acc: 0.7516 - mean_squared_error: 0.1859 - mean_absolute_error: 0.3708 - val_loss: 0.5781 - val_acc: 0.7376 - val_mean_squared_error: 0.1944 - val_mean_absolute_error: 0.3814\n",
      "Epoch 265/300\n",
      "124/124 [==============================] - 0s 2ms/step - loss: 0.5588 - acc: 0.7516 - mean_squared_error: 0.1860 - mean_absolute_error: 0.3757 - val_loss: 0.5807 - val_acc: 0.7376 - val_mean_squared_error: 0.1952 - val_mean_absolute_error: 0.3727\n",
      "Epoch 266/300\n",
      "124/124 [==============================] - 0s 2ms/step - loss: 0.5591 - acc: 0.7516 - mean_squared_error: 0.1861 - mean_absolute_error: 0.3678 - val_loss: 0.5782 - val_acc: 0.7376 - val_mean_squared_error: 0.1945 - val_mean_absolute_error: 0.3818\n",
      "Epoch 267/300\n",
      "124/124 [==============================] - 0s 2ms/step - loss: 0.5585 - acc: 0.7516 - mean_squared_error: 0.1859 - mean_absolute_error: 0.3700 - val_loss: 0.5776 - val_acc: 0.7376 - val_mean_squared_error: 0.1943 - val_mean_absolute_error: 0.3856\n",
      "Epoch 268/300\n",
      "124/124 [==============================] - 0s 2ms/step - loss: 0.5587 - acc: 0.7516 - mean_squared_error: 0.1860 - mean_absolute_error: 0.3740 - val_loss: 0.5784 - val_acc: 0.7376 - val_mean_squared_error: 0.1945 - val_mean_absolute_error: 0.3804\n",
      "Epoch 269/300\n",
      "124/124 [==============================] - 0s 2ms/step - loss: 0.5585 - acc: 0.7516 - mean_squared_error: 0.1859 - mean_absolute_error: 0.3735 - val_loss: 0.5793 - val_acc: 0.7376 - val_mean_squared_error: 0.1948 - val_mean_absolute_error: 0.3766\n",
      "Epoch 270/300\n",
      "124/124 [==============================] - 0s 2ms/step - loss: 0.5583 - acc: 0.7516 - mean_squared_error: 0.1858 - mean_absolute_error: 0.3673 - val_loss: 0.5777 - val_acc: 0.7376 - val_mean_squared_error: 0.1943 - val_mean_absolute_error: 0.3861\n",
      "Epoch 271/300\n",
      "124/124 [==============================] - 0s 2ms/step - loss: 0.5581 - acc: 0.7516 - mean_squared_error: 0.1858 - mean_absolute_error: 0.3745 - val_loss: 0.5787 - val_acc: 0.7376 - val_mean_squared_error: 0.1946 - val_mean_absolute_error: 0.3792\n",
      "Epoch 272/300\n",
      "124/124 [==============================] - 0s 2ms/step - loss: 0.5593 - acc: 0.7516 - mean_squared_error: 0.1862 - mean_absolute_error: 0.3747 - val_loss: 0.5799 - val_acc: 0.7376 - val_mean_squared_error: 0.1950 - val_mean_absolute_error: 0.3752\n",
      "Epoch 273/300\n",
      "124/124 [==============================] - 0s 3ms/step - loss: 0.5586 - acc: 0.7516 - mean_squared_error: 0.1860 - mean_absolute_error: 0.3700 - val_loss: 0.5790 - val_acc: 0.7376 - val_mean_squared_error: 0.1947 - val_mean_absolute_error: 0.3780\n",
      "Epoch 274/300\n",
      "124/124 [==============================] - 0s 2ms/step - loss: 0.5581 - acc: 0.7516 - mean_squared_error: 0.1858 - mean_absolute_error: 0.3719 - val_loss: 0.5797 - val_acc: 0.7376 - val_mean_squared_error: 0.1949 - val_mean_absolute_error: 0.3760\n",
      "Epoch 275/300\n",
      "124/124 [==============================] - 0s 3ms/step - loss: 0.5587 - acc: 0.7516 - mean_squared_error: 0.1860 - mean_absolute_error: 0.3720 - val_loss: 0.5800 - val_acc: 0.7376 - val_mean_squared_error: 0.1950 - val_mean_absolute_error: 0.3747\n",
      "Epoch 276/300\n",
      "124/124 [==============================] - 0s 3ms/step - loss: 0.5583 - acc: 0.7516 - mean_squared_error: 0.1858 - mean_absolute_error: 0.3688 - val_loss: 0.5782 - val_acc: 0.7376 - val_mean_squared_error: 0.1945 - val_mean_absolute_error: 0.3812\n",
      "Epoch 277/300\n",
      "124/124 [==============================] - 0s 2ms/step - loss: 0.5579 - acc: 0.7516 - mean_squared_error: 0.1857 - mean_absolute_error: 0.3710 - val_loss: 0.5780 - val_acc: 0.7376 - val_mean_squared_error: 0.1944 - val_mean_absolute_error: 0.3830\n",
      "Epoch 278/300\n",
      "124/124 [==============================] - 0s 2ms/step - loss: 0.5587 - acc: 0.7516 - mean_squared_error: 0.1860 - mean_absolute_error: 0.3741 - val_loss: 0.5786 - val_acc: 0.7376 - val_mean_squared_error: 0.1946 - val_mean_absolute_error: 0.3797\n",
      "Epoch 279/300\n",
      "124/124 [==============================] - 0s 3ms/step - loss: 0.5584 - acc: 0.7516 - mean_squared_error: 0.1859 - mean_absolute_error: 0.3700 - val_loss: 0.5780 - val_acc: 0.7376 - val_mean_squared_error: 0.1944 - val_mean_absolute_error: 0.3828\n",
      "Epoch 280/300\n"
     ]
    },
    {
     "name": "stdout",
     "output_type": "stream",
     "text": [
      "124/124 [==============================] - 0s 3ms/step - loss: 0.5587 - acc: 0.7516 - mean_squared_error: 0.1860 - mean_absolute_error: 0.3711 - val_loss: 0.5777 - val_acc: 0.7376 - val_mean_squared_error: 0.1943 - val_mean_absolute_error: 0.3839\n",
      "Epoch 281/300\n",
      "124/124 [==============================] - 0s 3ms/step - loss: 0.5584 - acc: 0.7516 - mean_squared_error: 0.1859 - mean_absolute_error: 0.3740 - val_loss: 0.5789 - val_acc: 0.7376 - val_mean_squared_error: 0.1947 - val_mean_absolute_error: 0.3779\n",
      "Epoch 282/300\n",
      "124/124 [==============================] - 0s 3ms/step - loss: 0.5590 - acc: 0.7516 - mean_squared_error: 0.1861 - mean_absolute_error: 0.3662 - val_loss: 0.5775 - val_acc: 0.7376 - val_mean_squared_error: 0.1943 - val_mean_absolute_error: 0.3872\n",
      "Epoch 283/300\n",
      "124/124 [==============================] - 0s 3ms/step - loss: 0.5585 - acc: 0.7516 - mean_squared_error: 0.1859 - mean_absolute_error: 0.3757 - val_loss: 0.5787 - val_acc: 0.7376 - val_mean_squared_error: 0.1946 - val_mean_absolute_error: 0.3792\n",
      "Epoch 284/300\n",
      "124/124 [==============================] - 0s 3ms/step - loss: 0.5587 - acc: 0.7516 - mean_squared_error: 0.1860 - mean_absolute_error: 0.3705 - val_loss: 0.5781 - val_acc: 0.7376 - val_mean_squared_error: 0.1944 - val_mean_absolute_error: 0.3820\n",
      "Epoch 285/300\n",
      "124/124 [==============================] - 0s 4ms/step - loss: 0.5584 - acc: 0.7516 - mean_squared_error: 0.1859 - mean_absolute_error: 0.3727 - val_loss: 0.5786 - val_acc: 0.7376 - val_mean_squared_error: 0.1946 - val_mean_absolute_error: 0.3792\n",
      "Epoch 286/300\n",
      "124/124 [==============================] - 0s 4ms/step - loss: 0.5583 - acc: 0.7516 - mean_squared_error: 0.1858 - mean_absolute_error: 0.3672 - val_loss: 0.5775 - val_acc: 0.7376 - val_mean_squared_error: 0.1943 - val_mean_absolute_error: 0.3878\n",
      "Epoch 287/300\n",
      "124/124 [==============================] - 0s 4ms/step - loss: 0.5589 - acc: 0.7516 - mean_squared_error: 0.1861 - mean_absolute_error: 0.3723 - val_loss: 0.5776 - val_acc: 0.7376 - val_mean_squared_error: 0.1943 - val_mean_absolute_error: 0.3885\n",
      "Epoch 288/300\n",
      "124/124 [==============================] - 0s 3ms/step - loss: 0.5581 - acc: 0.7516 - mean_squared_error: 0.1858 - mean_absolute_error: 0.3759 - val_loss: 0.5784 - val_acc: 0.7376 - val_mean_squared_error: 0.1945 - val_mean_absolute_error: 0.3807\n",
      "Epoch 289/300\n",
      "124/124 [==============================] - 0s 2ms/step - loss: 0.5581 - acc: 0.7516 - mean_squared_error: 0.1858 - mean_absolute_error: 0.3737 - val_loss: 0.5799 - val_acc: 0.7376 - val_mean_squared_error: 0.1950 - val_mean_absolute_error: 0.3750\n",
      "Epoch 290/300\n",
      "124/124 [==============================] - 0s 2ms/step - loss: 0.5583 - acc: 0.7516 - mean_squared_error: 0.1858 - mean_absolute_error: 0.3700 - val_loss: 0.5790 - val_acc: 0.7376 - val_mean_squared_error: 0.1947 - val_mean_absolute_error: 0.3777\n",
      "Epoch 291/300\n",
      "124/124 [==============================] - 0s 2ms/step - loss: 0.5581 - acc: 0.7516 - mean_squared_error: 0.1857 - mean_absolute_error: 0.3671 - val_loss: 0.5774 - val_acc: 0.7376 - val_mean_squared_error: 0.1943 - val_mean_absolute_error: 0.3884\n",
      "Epoch 292/300\n",
      "124/124 [==============================] - 0s 2ms/step - loss: 0.5581 - acc: 0.7516 - mean_squared_error: 0.1858 - mean_absolute_error: 0.3774 - val_loss: 0.5802 - val_acc: 0.7376 - val_mean_squared_error: 0.1951 - val_mean_absolute_error: 0.3738\n",
      "Epoch 293/300\n",
      "124/124 [==============================] - 0s 2ms/step - loss: 0.5589 - acc: 0.7516 - mean_squared_error: 0.1861 - mean_absolute_error: 0.3725 - val_loss: 0.5813 - val_acc: 0.7376 - val_mean_squared_error: 0.1954 - val_mean_absolute_error: 0.3711\n",
      "Epoch 294/300\n",
      "124/124 [==============================] - 0s 2ms/step - loss: 0.5590 - acc: 0.7516 - mean_squared_error: 0.1861 - mean_absolute_error: 0.3699 - val_loss: 0.5802 - val_acc: 0.7376 - val_mean_squared_error: 0.1951 - val_mean_absolute_error: 0.3741\n",
      "Epoch 295/300\n",
      "124/124 [==============================] - 0s 2ms/step - loss: 0.5588 - acc: 0.7516 - mean_squared_error: 0.1860 - mean_absolute_error: 0.3631 - val_loss: 0.5775 - val_acc: 0.7376 - val_mean_squared_error: 0.1943 - val_mean_absolute_error: 0.3867\n",
      "Epoch 296/300\n",
      "124/124 [==============================] - 0s 2ms/step - loss: 0.5586 - acc: 0.7516 - mean_squared_error: 0.1859 - mean_absolute_error: 0.3732 - val_loss: 0.5776 - val_acc: 0.7376 - val_mean_squared_error: 0.1943 - val_mean_absolute_error: 0.3851\n",
      "Epoch 297/300\n",
      "124/124 [==============================] - 0s 2ms/step - loss: 0.5586 - acc: 0.7516 - mean_squared_error: 0.1859 - mean_absolute_error: 0.3733 - val_loss: 0.5778 - val_acc: 0.7376 - val_mean_squared_error: 0.1944 - val_mean_absolute_error: 0.3831\n",
      "Epoch 298/300\n",
      "124/124 [==============================] - 0s 3ms/step - loss: 0.5587 - acc: 0.7516 - mean_squared_error: 0.1860 - mean_absolute_error: 0.3744 - val_loss: 0.5792 - val_acc: 0.7376 - val_mean_squared_error: 0.1948 - val_mean_absolute_error: 0.3778\n",
      "Epoch 299/300\n",
      "124/124 [==============================] - 0s 2ms/step - loss: 0.5592 - acc: 0.7516 - mean_squared_error: 0.1862 - mean_absolute_error: 0.3681 - val_loss: 0.5781 - val_acc: 0.7376 - val_mean_squared_error: 0.1944 - val_mean_absolute_error: 0.3825\n",
      "Epoch 300/300\n",
      "124/124 [==============================] - 0s 2ms/step - loss: 0.5587 - acc: 0.7516 - mean_squared_error: 0.1860 - mean_absolute_error: 0.3722 - val_loss: 0.5780 - val_acc: 0.7376 - val_mean_squared_error: 0.1944 - val_mean_absolute_error: 0.3825\n"
     ]
    }
   ],
   "source": [
    "epochs = 250\n",
    "m = int(64*2 * 7/6)\n",
    "vs = 1/6\n",
    "shuffle = True\n",
    "callbacks = []\n",
    "callbacks = [TensorBoard(log_dir=config.tmp_log_dir)]\n",
    "# model.fit(x_train, y_train, epochs=epochs, batch_size=batch_size, callbacks=[TensorBoard(log_dir=config.tmp_log_dir)])\n",
    "history = vae.fit(x_train[:m], x_train[:m], epochs=epochs, batch_size=batch_size,\n",
    "          validation_split=vs, callbacks=callbacks, shuffle=shuffle)\n",
    "# history = vae.fit(x_train[:m], shuffle=False, epochs=epochs, batch_size=batch_size, validation_data=(x_test, None))"
   ]
  },
  {
   "cell_type": "code",
   "execution_count": 48,
   "metadata": {},
   "outputs": [
    {
     "data": {
      "text/plain": [
       "[<matplotlib.lines.Line2D at 0x123355080>]"
      ]
     },
     "execution_count": 48,
     "metadata": {},
     "output_type": "execute_result"
    },
    {
     "data": {
      "image/png": "[encoded data removed]",
      "text/plain": [
       "<matplotlib.figure.Figure at 0x123355048>"
      ]
     },
     "metadata": {},
     "output_type": "display_data"
    }
   ],
   "source": [
    "plt.plot(history.history['loss'])\n",
    "plt.plot(history.history['val_loss'])"
   ]
  },
  {
   "cell_type": "code",
   "execution_count": 49,
   "metadata": {},
   "outputs": [
    {
     "data": {
      "text/plain": [
       "[<matplotlib.lines.Line2D at 0x1246aea90>]"
      ]
     },
     "execution_count": 49,
     "metadata": {},
     "output_type": "execute_result"
    },
    {
     "data": {
      "image/png": "[encoded data removed]",
      "text/plain": [
       "<matplotlib.figure.Figure at 0x1246aea58>"
      ]
     },
     "metadata": {},
     "output_type": "display_data"
    }
   ],
   "source": [
    "plt.plot(history.history['acc'])\n",
    "plt.plot(history.history['val_acc'])"
   ]
  },
  {
   "cell_type": "code",
   "execution_count": 50,
   "metadata": {},
   "outputs": [
    {
     "data": {
      "text/plain": [
       "[<matplotlib.lines.Line2D at 0x1246b9198>]"
      ]
     },
     "execution_count": 50,
     "metadata": {},
     "output_type": "execute_result"
    },
    {
     "data": {
      "image/png": "[encoded data removed]",
      "text/plain": [
       "<matplotlib.figure.Figure at 0x1246b9400>"
      ]
     },
     "metadata": {},
     "output_type": "display_data"
    }
   ],
   "source": [
    "plt.plot(history.history['mean_absolute_error'])\n",
    "plt.plot(history.history['val_mean_absolute_error'])"
   ]
  },
  {
   "cell_type": "code",
   "execution_count": 51,
   "metadata": {
    "scrolled": true
   },
   "outputs": [],
   "source": [
    "# plot_model(vae, to_file='model.png')"
   ]
  },
  {
   "cell_type": "code",
   "execution_count": null,
   "metadata": {},
   "outputs": [],
   "source": []
  },
  {
   "cell_type": "code",
   "execution_count": null,
   "metadata": {},
   "outputs": [],
   "source": []
  },
  {
   "cell_type": "code",
   "execution_count": null,
   "metadata": {},
   "outputs": [],
   "source": []
  },
  {
   "cell_type": "code",
   "execution_count": null,
   "metadata": {},
   "outputs": [],
   "source": []
  },
  {
   "cell_type": "code",
   "execution_count": null,
   "metadata": {},
   "outputs": [],
   "source": []
  },
  {
   "cell_type": "code",
   "execution_count": null,
   "metadata": {},
   "outputs": [],
   "source": []
  },
  {
   "cell_type": "code",
   "execution_count": null,
   "metadata": {},
   "outputs": [],
   "source": []
  },
  {
   "cell_type": "code",
   "execution_count": null,
   "metadata": {},
   "outputs": [],
   "source": [
    "plt.plot(x_train[0,:100,:])"
   ]
  },
  {
   "cell_type": "code",
   "execution_count": null,
   "metadata": {},
   "outputs": [],
   "source": [
    "result.shape"
   ]
  },
  {
   "cell_type": "code",
   "execution_count": null,
   "metadata": {},
   "outputs": [],
   "source": [
    "n1 = 30\n",
    "i = 0\n",
    "plt.subplot(211)\n",
    "plt.plot(np.arange(n1), results[i][:n1])\n",
    "plt.plot([0.5] * n1) # midi.MIDI_NOISE_FLOOR\n",
    "plt.ylim(ymin=0, ymax=1)\n",
    "plt.subplot(212)\n",
    "\n",
    "plt.plot(np.arange(n1), x_train[i, :n1])\n",
    "plt.plot([0.5] * n1) # midi.MIDI_NOISE_FLOOR\n",
    "plt.ylim(ymin=0, ymax=1)"
   ]
  },
  {
   "cell_type": "code",
   "execution_count": null,
   "metadata": {},
   "outputs": [],
   "source": []
  },
  {
   "cell_type": "code",
   "execution_count": null,
   "metadata": {},
   "outputs": [],
   "source": []
  },
  {
   "cell_type": "code",
   "execution_count": null,
   "metadata": {},
   "outputs": [],
   "source": []
  },
  {
   "cell_type": "code",
   "execution_count": null,
   "metadata": {},
   "outputs": [],
   "source": [
    "mid = midi.decode_track(context, result)\n",
    "dn = config.dataset_dir\n",
    "# io.export_midifile(mid, dn + 'song_seq-seq.mid')"
   ]
  },
  {
   "cell_type": "code",
   "execution_count": null,
   "metadata": {},
   "outputs": [],
   "source": [
    "results = []\n",
    "latent_samples = []\n",
    "for seq in x_test[-2:]:\n",
    "    encoded = encode_sequence(np.stack([seq]))\n",
    "    latent_samples.append(encoded)\n",
    "    result = decode_sequence(encoded, encoder_model, decoder_model)\n",
    "    results.append(result)\n",
    "results[0].shape"
   ]
  },
  {
   "cell_type": "code",
   "execution_count": null,
   "metadata": {},
   "outputs": [],
   "source": [
    "len(encoded)"
   ]
  },
  {
   "cell_type": "code",
   "execution_count": null,
   "metadata": {},
   "outputs": [],
   "source": [
    "encoded[0].shape"
   ]
  },
  {
   "cell_type": "code",
   "execution_count": null,
   "metadata": {},
   "outputs": [],
   "source": [
    "plt.plot(encoded[0][0,:10])\n",
    "plt.plot(encoded[1][0,:10])"
   ]
  },
  {
   "cell_type": "code",
   "execution_count": null,
   "metadata": {},
   "outputs": [],
   "source": [
    "e = np.array(latent_samples)\n",
    "e.shape"
   ]
  },
  {
   "cell_type": "code",
   "execution_count": null,
   "metadata": {},
   "outputs": [],
   "source": [
    "# reduce dimensionality\n",
    "# e = e.reshape(e.shape[0],2,e.shape[-1])\n",
    "e.shape"
   ]
  },
  {
   "cell_type": "code",
   "execution_count": null,
   "metadata": {},
   "outputs": [],
   "source": [
    "e1.mean(axis=0).shape"
   ]
  },
  {
   "cell_type": "code",
   "execution_count": null,
   "metadata": {},
   "outputs": [],
   "source": [
    "# new = e.transpose().mean(axis=1).transpose()\n",
    "e1 = e[:,0] # state h\n",
    "e2 = e[:,1] # state c\n",
    "new = [e1.mean(axis=0), e2.mean(axis=0)]\n",
    "# new = [[e[:,i].mean(axis=0)] for i in [0,1]]\n",
    "plt.plot(new[0][0][:10])\n",
    "len(new)"
   ]
  },
  {
   "cell_type": "code",
   "execution_count": null,
   "metadata": {},
   "outputs": [],
   "source": [
    "e1.mean(axis=0).shape"
   ]
  },
  {
   "cell_type": "code",
   "execution_count": null,
   "metadata": {},
   "outputs": [],
   "source": [
    "l[0].shape"
   ]
  },
  {
   "cell_type": "code",
   "execution_count": null,
   "metadata": {},
   "outputs": [],
   "source": [
    "l = latent_samples[0]\n",
    "len(l) # latent_sample :: (x,1,64)"
   ]
  },
  {
   "cell_type": "code",
   "execution_count": null,
   "metadata": {},
   "outputs": [],
   "source": [
    "# new_ = decode_sequence(latent_samples[0], encoder_model, decoder_model)\n",
    "new_ = decode_sequence(new, encoder_model, decoder_model)"
   ]
  },
  {
   "cell_type": "code",
   "execution_count": null,
   "metadata": {},
   "outputs": [],
   "source": [
    "new_.shape"
   ]
  },
  {
   "cell_type": "code",
   "execution_count": null,
   "metadata": {},
   "outputs": [],
   "source": [
    "plt.plot(new_[:100])"
   ]
  },
  {
   "cell_type": "code",
   "execution_count": null,
   "metadata": {},
   "outputs": [],
   "source": [
    "plt.plot(results[0][:100])"
   ]
  },
  {
   "cell_type": "code",
   "execution_count": null,
   "metadata": {},
   "outputs": [],
   "source": [
    "# results[0]"
   ]
  },
  {
   "cell_type": "code",
   "execution_count": null,
   "metadata": {},
   "outputs": [],
   "source": [
    "mid_new = midi.decode_track(context, results[0])\n",
    "io.export_midifile(mid_new, config.export_dir + 'real_mid_new_lstm.mid')"
   ]
  },
  {
   "cell_type": "code",
   "execution_count": null,
   "metadata": {},
   "outputs": [],
   "source": []
  },
  {
   "cell_type": "code",
   "execution_count": null,
   "metadata": {},
   "outputs": [],
   "source": []
  },
  {
   "cell_type": "code",
   "execution_count": null,
   "metadata": {},
   "outputs": [],
   "source": []
  },
  {
   "cell_type": "code",
   "execution_count": null,
   "metadata": {},
   "outputs": [],
   "source": []
  },
  {
   "cell_type": "code",
   "execution_count": null,
   "metadata": {},
   "outputs": [],
   "source": []
  },
  {
   "cell_type": "code",
   "execution_count": null,
   "metadata": {},
   "outputs": [],
   "source": []
  },
  {
   "cell_type": "code",
   "execution_count": null,
   "metadata": {},
   "outputs": [],
   "source": []
  },
  {
   "cell_type": "code",
   "execution_count": null,
   "metadata": {},
   "outputs": [],
   "source": []
  },
  {
   "cell_type": "code",
   "execution_count": null,
   "metadata": {},
   "outputs": [],
   "source": []
  },
  {
   "cell_type": "code",
   "execution_count": null,
   "metadata": {},
   "outputs": [],
   "source": []
  },
  {
   "cell_type": "code",
   "execution_count": null,
   "metadata": {},
   "outputs": [],
   "source": []
  },
  {
   "cell_type": "code",
   "execution_count": null,
   "metadata": {},
   "outputs": [],
   "source": []
  },
  {
   "cell_type": "code",
   "execution_count": null,
   "metadata": {},
   "outputs": [],
   "source": [
    "x_test.shape"
   ]
  },
  {
   "cell_type": "code",
   "execution_count": null,
   "metadata": {},
   "outputs": [],
   "source": [
    "# x_test, y_test = gen_xy_sin_to_f(3, f=2)"
   ]
  },
  {
   "cell_type": "code",
   "execution_count": null,
   "metadata": {
    "scrolled": true
   },
   "outputs": [],
   "source": [
    "results = model.predict([x_test,x_test])\n",
    "results.shape"
   ]
  },
  {
   "cell_type": "code",
   "execution_count": null,
   "metadata": {},
   "outputs": [],
   "source": [
    "# the 'true' results\n",
    "i = 0\n",
    "selection = int(x_test.shape[1] * 1)\n",
    "full = np.concatenate([x_test[i,-selection:],y_test[i]])\n",
    "n3 = full.shape[0]\n",
    "plt.plot(np.arange(n3) / n3 * dt, full)"
   ]
  },
  {
   "cell_type": "code",
   "execution_count": null,
   "metadata": {},
   "outputs": [],
   "source": [
    "# predicted results\n",
    "i = 0\n",
    "full = np.concatenate([x_test[i,-selection:],results[i]])\n",
    "n3 = full.shape[0]\n",
    "plt.plot(np.arange(n3) / n3 * dt, full)"
   ]
  },
  {
   "cell_type": "code",
   "execution_count": null,
   "metadata": {},
   "outputs": [],
   "source": [
    "i = 2\n",
    "selection = int(x_test.shape[1] * 1)\n",
    "full = np.concatenate([x_test[i,-selection:],results[i]])\n",
    "n3 = full.shape[0]\n",
    "plt.plot(np.arange(n3) / n3 * dt, full)"
   ]
  },
  {
   "cell_type": "code",
   "execution_count": null,
   "metadata": {},
   "outputs": [],
   "source": [
    "i = 0\n",
    "selection = 1\n",
    "full = np.concatenate([x_test[i,-selection:],results[i]])\n",
    "n3 = full.shape[0]\n",
    "plt.plot(np.arange(n3) / n3 * dt, full)"
   ]
  },
  {
   "cell_type": "code",
   "execution_count": null,
   "metadata": {},
   "outputs": [],
   "source": []
  },
  {
   "cell_type": "code",
   "execution_count": null,
   "metadata": {},
   "outputs": [],
   "source": []
  },
  {
   "cell_type": "code",
   "execution_count": null,
   "metadata": {},
   "outputs": [],
   "source": []
  },
  {
   "cell_type": "code",
   "execution_count": null,
   "metadata": {},
   "outputs": [],
   "source": []
  },
  {
   "cell_type": "code",
   "execution_count": null,
   "metadata": {},
   "outputs": [],
   "source": []
  },
  {
   "cell_type": "code",
   "execution_count": null,
   "metadata": {},
   "outputs": [],
   "source": []
  }
 ],
 "metadata": {
  "kernelspec": {
   "display_name": "Python 3",
   "language": "python",
   "name": "python3"
  },
  "language_info": {
   "codemirror_mode": {
    "name": "ipython",
    "version": 3
   },
   "file_extension": ".py",
   "mimetype": "text/x-python",
   "name": "python",
   "nbconvert_exporter": "python",
   "pygments_lexer": "ipython3",
   "version": "3.6.4"
  }
 },
 "nbformat": 4,
 "nbformat_minor": 2
}
