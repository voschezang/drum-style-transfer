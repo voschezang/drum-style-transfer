{
 "cells": [
  {
   "cell_type": "code",
   "execution_count": 1,
   "metadata": {},
   "outputs": [],
   "source": [
    "import config\n",
    "import os, numpy as np, pandas, sklearn, scipy.signal as signal\n",
    "import mido\n",
    "import matplotlib.pyplot as plt\n",
    "%matplotlib inline"
   ]
  },
  {
   "cell_type": "code",
   "execution_count": 22,
   "metadata": {},
   "outputs": [],
   "source": [
    "## NN libs\n",
    "from sklearn.decomposition import PCA\n",
    "from sklearn import preprocessing\n",
    "from sklearn.preprocessing import RobustScaler\n",
    "import keras\n",
    "from keras import regularizers\n",
    "from keras import backend as K, metrics\n",
    "from keras.utils import to_categorical\n",
    "from keras.layers import Input, Dense, Activation, Conv1D, Conv2D, Dropout, Flatten, Lambda\n",
    "from keras.layers import Conv2DTranspose, Reshape, MaxPooling2D, UpSampling2D, UpSampling1D, MaxPooling1D\n",
    "from keras.layers import LocallyConnected1D, LocallyConnected2D\n",
    "from keras.layers import Input, LSTM, RepeatVector\n",
    "from keras.models import Model\n",
    "from keras.callbacks import TensorBoard"
   ]
  },
  {
   "cell_type": "code",
   "execution_count": 3,
   "metadata": {},
   "outputs": [
    {
     "name": "stdout",
     "output_type": "stream",
     "text": [
      " Context :: namedtuple(\n",
      "[ max_t = float\n",
      ", dt = float\n",
      ", n_instances = int\n",
      ", note_length = int\n",
      ", bpm = float\n",
      ", tempo = float\n",
      ", ticks_per_beat = int\n",
      "]\n",
      "\n"
     ]
    }
   ],
   "source": [
    "# local libs\n",
    "import config, models, functions\n",
    "from data import data, midi, midi_generators as g\n",
    "from utils import io, models_io, utils"
   ]
  },
  {
   "cell_type": "code",
   "execution_count": 4,
   "metadata": {
    "scrolled": true
   },
   "outputs": [
    {
     "name": "stdout",
     "output_type": "stream",
     "text": [
      "Setting up params\n",
      "\n",
      "max min f 25.0 0.3333333333333333\n",
      " >> Context(max_t=3.0, dt=0.02, n_instances=150, note_length=0.03, bpm=120.0, tempo=500000, ticks_per_beat=480)\n",
      "Setting up params\n",
      "\n",
      "max min f 25.0 0.3333333333333333\n",
      " >> Context(max_t=3.0, dt=0.02, n_instances=150, note_length=0.03, bpm=120.0, tempo=500000, ticks_per_beat=480)\n",
      "Importing midi-data\n",
      "\n",
      "\u001b[92m [INFO] : \u001b[0m\n",
      " |  reading file: ../datasets/examples/01 16th Snare.mid\n",
      "\u001b[92m [INFO] : \u001b[0m\n",
      " |  reading file: ../datasets/examples/01 8th Cym.mid\n",
      "\n",
      "Encoding midi-data\n",
      " [<midi file '../datasets/examples/01 16th Snare.mid' type 0, 1 tracks, 182 messages>, <midi file '../datasets/examples/01 8th Cym.mid' type 0, 1 tracks, 68 messages>]\n",
      "> -> multi-track = False\n",
      "\u001b[91m [DEBUG] > \u001b[0m\n",
      " |>  to_array: msg.time > max_t; t, n\n",
      " |>  2.994791666666667\n",
      " |>  150\n",
      "\u001b[91m [DEBUG] > \u001b[0m\n",
      " |>  to_array: msg.time > max_t; t, n\n",
      " |>  2.9947916666666665\n",
      " |>  150\n"
     ]
    }
   ],
   "source": [
    "context = data.init()\n",
    "n = 2\n",
    "multiTrack = False\n",
    "context, x_train, labels = data.import_data(data.init(), n, multiTrack=multiTrack)"
   ]
  },
  {
   "cell_type": "code",
   "execution_count": 5,
   "metadata": {},
   "outputs": [
    {
     "name": "stdout",
     "output_type": "stream",
     "text": [
      "\u001b[91m [DEBUG] > \u001b[0m\n",
      " |>  to_array: msg.time > max_t; t, n\n",
      " |>  2.998958333333335\n",
      " |>  150\n",
      "\u001b[91m [DEBUG] > \u001b[0m\n",
      " |>  to_array: msg.time > max_t; t, n\n",
      " |>  2.9906250000000014\n",
      " |>  150\n",
      "\u001b[91m [DEBUG] > \u001b[0m\n",
      " |>  to_array: msg.time > max_t; t, n\n",
      " |>  3.0052083333333344\n",
      " |>  150\n",
      "\u001b[91m [DEBUG] > \u001b[0m\n",
      " |>  to_array: msg.time > max_t; t, n\n",
      " |>  2.998958333333336\n",
      " |>  150\n",
      "\u001b[91m [DEBUG] > \u001b[0m\n",
      " |>  to_array: msg.time > max_t; t, n\n",
      " |>  2.9979166666666686\n",
      " |>  150\n",
      "\u001b[91m [DEBUG] > \u001b[0m\n",
      " |>  to_array: msg.time > max_t; t, n\n",
      " |>  2.9927083333333324\n",
      " |>  150\n",
      "\u001b[91m [DEBUG] > \u001b[0m\n",
      " |>  to_array: msg.time > max_t; t, n\n",
      " |>  3.001041666666664\n",
      " |>  150\n",
      "\u001b[91m [DEBUG] > \u001b[0m\n",
      " |>  to_array: msg.time > max_t; t, n\n",
      " |>  2.9916666666666676\n",
      " |>  150\n",
      "\u001b[91m [DEBUG] > \u001b[0m\n",
      " |>  to_array: msg.time > max_t; t, n\n",
      " |>  2.994791666666669\n",
      " |>  150\n",
      "\u001b[91m [DEBUG] > \u001b[0m\n",
      " |>  to_array: msg.time > max_t; t, n\n",
      " |>  2.9937500000000012\n",
      " |>  150\n",
      "\u001b[91m [DEBUG] > \u001b[0m\n",
      " |>  to_array: msg.time > max_t; t, n\n",
      " |>  2.9937499999999972\n",
      " |>  150\n",
      "\u001b[91m [DEBUG] > \u001b[0m\n",
      " |>  to_array: msg.time > max_t; t, n\n",
      " |>  3.029166666666669\n",
      " |>  150\n",
      "\u001b[91m [DEBUG] > \u001b[0m\n",
      " |>  to_array: msg.time > max_t; t, n\n",
      " |>  3.0114583333333367\n",
      " |>  150\n",
      "\u001b[91m [DEBUG] > \u001b[0m\n",
      " |>  to_array: msg.time > max_t; t, n\n",
      " |>  3.0041666666666713\n",
      " |>  150\n",
      "\u001b[91m [DEBUG] > \u001b[0m\n",
      " |>  to_array: msg.time > max_t; t, n\n",
      " |>  3.0052083333333335\n",
      " |>  150\n",
      "\u001b[91m [DEBUG] > \u001b[0m\n",
      " |>  to_array: msg.time > max_t; t, n\n",
      " |>  2.9906250000000014\n",
      " |>  150\n",
      "\u001b[91m [DEBUG] > \u001b[0m\n",
      " |>  to_array: msg.time > max_t; t, n\n",
      " |>  2.9989583333333356\n",
      " |>  150\n",
      "\u001b[91m [DEBUG] > \u001b[0m\n",
      " |>  to_array: msg.time > max_t; t, n\n",
      " |>  2.991666666666669\n",
      " |>  150\n",
      "\u001b[91m [DEBUG] > \u001b[0m\n",
      " |>  to_array: msg.time > max_t; t, n\n",
      " |>  2.996875000000002\n",
      " |>  150\n",
      "\u001b[91m [DEBUG] > \u001b[0m\n",
      " |>  to_array: msg.time > max_t; t, n\n",
      " |>  3.003125\n",
      " |>  150\n",
      "\u001b[91m [DEBUG] > \u001b[0m\n",
      " |>  to_array: msg.time > max_t; t, n\n",
      " |>  2.9968750000000033\n",
      " |>  150\n",
      "\u001b[91m [DEBUG] > \u001b[0m\n",
      " |>  to_array: msg.time > max_t; t, n\n",
      " |>  2.992708333333337\n",
      " |>  150\n",
      "\u001b[91m [DEBUG] > \u001b[0m\n",
      " |>  to_array: msg.time > max_t; t, n\n",
      " |>  2.996875\n",
      " |>  150\n",
      "\u001b[91m [DEBUG] > \u001b[0m\n",
      " |>  to_array: msg.time > max_t; t, n\n",
      " |>  2.995833333333334\n",
      " |>  150\n",
      "\u001b[91m [DEBUG] > \u001b[0m\n",
      " |>  to_array: msg.time > max_t; t, n\n",
      " |>  2.9979166666666637\n",
      " |>  150\n",
      "\u001b[91m [DEBUG] > \u001b[0m\n",
      " |>  to_array: msg.time > max_t; t, n\n",
      " |>  2.9947916666666696\n",
      " |>  150\n",
      "\u001b[91m [DEBUG] > \u001b[0m\n",
      " |>  to_array: msg.time > max_t; t, n\n",
      " |>  2.9958333333333305\n",
      " |>  150\n",
      "\u001b[91m [DEBUG] > \u001b[0m\n",
      " |>  to_array: msg.time > max_t; t, n\n",
      " |>  3.014583333333336\n",
      " |>  150\n",
      "\u001b[91m [DEBUG] > \u001b[0m\n",
      " |>  to_array: msg.time > max_t; t, n\n",
      " |>  2.992708333333333\n",
      " |>  150\n",
      "\u001b[91m [DEBUG] > \u001b[0m\n",
      " |>  to_array: msg.time > max_t; t, n\n",
      " |>  3.0052083333333326\n",
      " |>  150\n",
      "\u001b[91m [DEBUG] > \u001b[0m\n",
      " |>  to_array: msg.time > max_t; t, n\n",
      " |>  2.995833333333335\n",
      " |>  150\n",
      "\u001b[91m [DEBUG] > \u001b[0m\n",
      " |>  to_array: msg.time > max_t; t, n\n",
      " |>  2.9916666666666663\n",
      " |>  150\n",
      "\u001b[91m [DEBUG] > \u001b[0m\n",
      " |>  to_array: msg.time > max_t; t, n\n",
      " |>  2.995833333333336\n",
      " |>  150\n",
      "\u001b[91m [DEBUG] > \u001b[0m\n",
      " |>  to_array: msg.time > max_t; t, n\n",
      " |>  2.991666666666667\n",
      " |>  150\n",
      "\u001b[91m [DEBUG] > \u001b[0m\n",
      " |>  to_array: msg.time > max_t; t, n\n",
      " |>  2.99375\n",
      " |>  150\n",
      "\u001b[91m [DEBUG] > \u001b[0m\n",
      " |>  to_array: msg.time > max_t; t, n\n",
      " |>  3.0031249999999994\n",
      " |>  150\n",
      "\u001b[91m [DEBUG] > \u001b[0m\n",
      " |>  to_array: msg.time > max_t; t, n\n",
      " |>  2.996875000000002\n",
      " |>  150\n",
      "\u001b[91m [DEBUG] > \u001b[0m\n",
      " |>  to_array: msg.time > max_t; t, n\n",
      " |>  3.002083333333334\n",
      " |>  150\n",
      "\u001b[91m [DEBUG] > \u001b[0m\n",
      " |>  to_array: msg.time > max_t; t, n\n",
      " |>  2.993750000000002\n",
      " |>  150\n",
      "\u001b[91m [DEBUG] > \u001b[0m\n",
      " |>  to_array: msg.time > max_t; t, n\n",
      " |>  2.9916666666666676\n",
      " |>  150\n",
      "\u001b[91m [DEBUG] > \u001b[0m\n",
      " |>  to_array: msg.time > max_t; t, n\n",
      " |>  2.9947916666666674\n",
      " |>  150\n",
      "\u001b[91m [DEBUG] > \u001b[0m\n",
      " |>  to_array: msg.time > max_t; t, n\n",
      " |>  3.0062500000000014\n",
      " |>  150\n",
      "\u001b[91m [DEBUG] > \u001b[0m\n",
      " |>  to_array: msg.time > max_t; t, n\n",
      " |>  3.012500000000002\n",
      " |>  150\n",
      "\u001b[91m [DEBUG] > \u001b[0m\n",
      " |>  to_array: msg.time > max_t; t, n\n",
      " |>  2.9937500000000012\n",
      " |>  150\n",
      "\u001b[91m [DEBUG] > \u001b[0m\n",
      " |>  to_array: msg.time > max_t; t, n\n",
      " |>  3.0000000000000004\n",
      " |>  150\n",
      "\u001b[91m [DEBUG] > \u001b[0m\n",
      " |>  to_array: msg.time > max_t; t, n\n",
      " |>  2.996875000000002\n",
      " |>  150\n",
      "\u001b[91m [DEBUG] > \u001b[0m\n",
      " |>  to_array: msg.time > max_t; t, n\n",
      " |>  2.996875\n",
      " |>  150\n",
      "\u001b[91m [DEBUG] > \u001b[0m\n",
      " |>  to_array: msg.time > max_t; t, n\n",
      " |>  2.9968750000000006\n",
      " |>  150\n",
      "\u001b[91m [DEBUG] > \u001b[0m\n",
      " |>  to_array: msg.time > max_t; t, n\n",
      " |>  2.995833333333331\n",
      " |>  150\n",
      "\u001b[91m [DEBUG] > \u001b[0m\n",
      " |>  to_array: msg.time > max_t; t, n\n",
      " |>  2.992708333333335\n",
      " |>  150\n",
      "\u001b[91m [DEBUG] > \u001b[0m\n",
      " |>  to_array: msg.time > max_t; t, n\n",
      " |>  3.002083333333333\n",
      " |>  150\n",
      "\u001b[91m [DEBUG] > \u001b[0m\n",
      " |>  to_array: msg.time > max_t; t, n\n",
      " |>  3.0000000000000044\n",
      " |>  150\n",
      "\u001b[91m [DEBUG] > \u001b[0m\n",
      " |>  to_array: msg.time > max_t; t, n\n",
      " |>  2.9968750000000015\n",
      " |>  150\n",
      "\u001b[91m [DEBUG] > \u001b[0m\n",
      " |>  to_array: msg.time > max_t; t, n\n",
      " |>  2.9968750000000006\n",
      " |>  150\n",
      "\u001b[91m [DEBUG] > \u001b[0m\n",
      " |>  to_array: msg.time > max_t; t, n\n",
      " |>  3.0020833333333328\n",
      " |>  150\n",
      "\u001b[91m [DEBUG] > \u001b[0m\n",
      " |>  to_array: msg.time > max_t; t, n\n",
      " |>  2.9947916666666687\n",
      " |>  150\n",
      "\u001b[91m [DEBUG] > \u001b[0m\n",
      " |>  to_array: msg.time > max_t; t, n\n",
      " |>  2.9916666666666667\n",
      " |>  150\n",
      "\u001b[91m [DEBUG] > \u001b[0m\n",
      " |>  to_array: msg.time > max_t; t, n\n",
      " |>  3.0052083333333357\n",
      " |>  150\n",
      "\u001b[91m [DEBUG] > \u001b[0m\n",
      " |>  to_array: msg.time > max_t; t, n\n",
      " |>  3.005208333333333\n",
      " |>  150\n",
      "\u001b[91m [DEBUG] > \u001b[0m\n",
      " |>  to_array: msg.time > max_t; t, n\n",
      " |>  3.0041666666666673\n",
      " |>  150\n",
      "\u001b[91m [DEBUG] > \u001b[0m\n",
      " |>  to_array: msg.time > max_t; t, n\n",
      " |>  2.998958333333336\n",
      " |>  150\n",
      "\u001b[91m [DEBUG] > \u001b[0m\n",
      " |>  to_array: msg.time > max_t; t, n\n",
      " |>  3.0072916666666676\n",
      " |>  150\n",
      "\u001b[91m [DEBUG] > \u001b[0m\n",
      " |>  to_array: msg.time > max_t; t, n\n",
      " |>  3.0031250000000034\n",
      " |>  150\n",
      "\u001b[91m [DEBUG] > \u001b[0m\n",
      " |>  to_array: msg.time > max_t; t, n\n",
      " |>  3.0062500000000045\n",
      " |>  150\n",
      "\u001b[91m [DEBUG] > \u001b[0m\n",
      " |>  to_array: msg.time > max_t; t, n\n",
      " |>  2.9947916666666696\n",
      " |>  150\n",
      "\u001b[91m [DEBUG] > \u001b[0m\n",
      " |>  to_array: msg.time > max_t; t, n\n",
      " |>  3.000000000000004\n",
      " |>  150\n",
      "\u001b[91m [DEBUG] > \u001b[0m\n",
      " |>  to_array: msg.time > max_t; t, n\n",
      " |>  2.994791666666664\n",
      " |>  150\n",
      "\u001b[91m [DEBUG] > \u001b[0m\n",
      " |>  to_array: msg.time > max_t; t, n\n",
      " |>  2.9947916666666696\n",
      " |>  150\n",
      "\u001b[91m [DEBUG] > \u001b[0m\n",
      " |>  to_array: msg.time > max_t; t, n\n",
      " |>  3.0052083333333366\n",
      " |>  150\n",
      "\u001b[91m [DEBUG] > \u001b[0m\n",
      " |>  to_array: msg.time > max_t; t, n\n",
      " |>  2.9927083333333346\n",
      " |>  150\n",
      "\u001b[91m [DEBUG] > \u001b[0m\n",
      " |>  to_array: msg.time > max_t; t, n\n",
      " |>  2.993750000000003\n",
      " |>  150\n",
      "\u001b[91m [DEBUG] > \u001b[0m\n",
      " |>  to_array: msg.time > max_t; t, n\n",
      " |>  2.9937500000000035\n",
      " |>  150\n",
      "\u001b[91m [DEBUG] > \u001b[0m\n",
      " |>  to_array: msg.time > max_t; t, n\n",
      " |>  2.9916666666666663\n",
      " |>  150\n",
      "\u001b[91m [DEBUG] > \u001b[0m\n",
      " |>  to_array: msg.time > max_t; t, n\n",
      " |>  2.990625\n",
      " |>  150\n",
      "\u001b[91m [DEBUG] > \u001b[0m\n",
      " |>  to_array: msg.time > max_t; t, n\n",
      " |>  2.9937500000000012\n",
      " |>  150\n",
      "\u001b[91m [DEBUG] > \u001b[0m\n",
      " |>  to_array: msg.time > max_t; t, n\n",
      " |>  2.9937500000000026\n",
      " |>  150\n",
      "\u001b[91m [DEBUG] > \u001b[0m\n",
      " |>  to_array: msg.time > max_t; t, n\n",
      " |>  2.9979166666666672\n",
      " |>  150\n",
      "\u001b[91m [DEBUG] > \u001b[0m\n",
      " |>  to_array: msg.time > max_t; t, n\n",
      " |>  3.01979166666667\n",
      " |>  150\n",
      "\u001b[91m [DEBUG] > \u001b[0m\n",
      " |>  to_array: msg.time > max_t; t, n\n",
      " |>  2.99479166666667\n",
      " |>  150\n",
      "\u001b[91m [DEBUG] > \u001b[0m\n",
      " |>  to_array: msg.time > max_t; t, n\n",
      " |>  2.99479166666667\n",
      " |>  150\n",
      "\u001b[91m [DEBUG] > \u001b[0m\n",
      " |>  to_array: msg.time > max_t; t, n\n",
      " |>  3.0031250000000016\n",
      " |>  150\n",
      "\u001b[91m [DEBUG] > \u001b[0m\n",
      " |>  to_array: msg.time > max_t; t, n\n",
      " |>  2.995833333333334\n",
      " |>  150\n",
      "\u001b[91m [DEBUG] > \u001b[0m\n",
      " |>  to_array: msg.time > max_t; t, n\n",
      " |>  2.9979166666666646\n",
      " |>  150\n",
      "\u001b[91m [DEBUG] > \u001b[0m\n",
      " |>  to_array: msg.time > max_t; t, n\n",
      " |>  3.0000000000000027\n",
      " |>  150\n",
      "\u001b[91m [DEBUG] > \u001b[0m\n",
      " |>  to_array: msg.time > max_t; t, n\n",
      " |>  3.0072916666666702\n",
      " |>  150\n",
      "\u001b[91m [DEBUG] > \u001b[0m\n",
      " |>  to_array: msg.time > max_t; t, n\n",
      " |>  2.9916666666666667\n",
      " |>  150\n",
      "\u001b[91m [DEBUG] > \u001b[0m\n",
      " |>  to_array: msg.time > max_t; t, n\n",
      " |>  2.9916666666666685\n",
      " |>  150\n",
      "\u001b[91m [DEBUG] > \u001b[0m\n",
      " |>  to_array: msg.time > max_t; t, n\n",
      " |>  2.993749999999999\n",
      " |>  150\n",
      "\u001b[91m [DEBUG] > \u001b[0m\n",
      " |>  to_array: msg.time > max_t; t, n\n",
      " |>  2.9968750000000015\n",
      " |>  150\n",
      "\u001b[91m [DEBUG] > \u001b[0m\n",
      " |>  to_array: msg.time > max_t; t, n\n",
      " |>  2.993750000000001\n",
      " |>  150\n"
     ]
    },
    {
     "name": "stdout",
     "output_type": "stream",
     "text": [
      "\u001b[91m [DEBUG] > \u001b[0m\n",
      " |>  to_array: msg.time > max_t; t, n\n",
      " |>  2.9958333333333336\n",
      " |>  150\n",
      "\u001b[91m [DEBUG] > \u001b[0m\n",
      " |>  to_array: msg.time > max_t; t, n\n",
      " |>  2.9927083333333306\n",
      " |>  150\n",
      "\u001b[91m [DEBUG] > \u001b[0m\n",
      " |>  to_array: msg.time > max_t; t, n\n",
      " |>  3.0052083333333344\n",
      " |>  150\n",
      "\u001b[91m [DEBUG] > \u001b[0m\n",
      " |>  to_array: msg.time > max_t; t, n\n",
      " |>  3.002083333333336\n",
      " |>  150\n",
      "\u001b[91m [DEBUG] > \u001b[0m\n",
      " |>  to_array: msg.time > max_t; t, n\n",
      " |>  2.996874999999996\n",
      " |>  150\n",
      "\u001b[91m [DEBUG] > \u001b[0m\n",
      " |>  to_array: msg.time > max_t; t, n\n",
      " |>  2.995833333333334\n",
      " |>  150\n",
      "\u001b[91m [DEBUG] > \u001b[0m\n",
      " |>  to_array: msg.time > max_t; t, n\n",
      " |>  2.9906249999999996\n",
      " |>  150\n",
      "\u001b[91m [DEBUG] > \u001b[0m\n",
      " |>  to_array: msg.time > max_t; t, n\n",
      " |>  3.0156250000000036\n",
      " |>  150\n",
      "\u001b[91m [DEBUG] > \u001b[0m\n",
      " |>  to_array: msg.time > max_t; t, n\n",
      " |>  2.994791666666667\n",
      " |>  150\n",
      "\u001b[91m [DEBUG] > \u001b[0m\n",
      " |>  to_array: msg.time > max_t; t, n\n",
      " |>  2.9927083333333315\n",
      " |>  150\n"
     ]
    }
   ],
   "source": [
    "n = 100\n",
    "min_f = 3\n",
    "max_f = 20\n",
    "# x_train = g.gen_data(context, n, max_f=max_f, min_f=min_f)\n",
    "x_train = g.gen_data_complex(context, n, max_f=max_f, min_f=min_f, multiTrack=multiTrack)\n",
    "y_train = x_train"
   ]
  },
  {
   "cell_type": "code",
   "execution_count": null,
   "metadata": {},
   "outputs": [],
   "source": []
  },
  {
   "cell_type": "code",
   "execution_count": 6,
   "metadata": {},
   "outputs": [
    {
     "data": {
      "text/plain": [
       "(272, 150, 1)"
      ]
     },
     "execution_count": 6,
     "metadata": {},
     "output_type": "execute_result"
    }
   ],
   "source": [
    "x_train.shape"
   ]
  },
  {
   "cell_type": "code",
   "execution_count": 7,
   "metadata": {},
   "outputs": [
    {
     "data": {
      "text/plain": [
       "[<matplotlib.lines.Line2D at 0x119860c88>]"
      ]
     },
     "execution_count": 7,
     "metadata": {},
     "output_type": "execute_result"
    },
    {
     "data": {
      "image/png": "[encoded data removed]",
      "text/plain": [
       "<matplotlib.figure.Figure at 0x119791240>"
      ]
     },
     "metadata": {},
     "output_type": "display_data"
    }
   ],
   "source": [
    "plt.plot(x_train[0,:100])"
   ]
  },
  {
   "cell_type": "code",
   "execution_count": 8,
   "metadata": {},
   "outputs": [
    {
     "data": {
      "text/plain": [
       "(272, 150, 1)"
      ]
     },
     "execution_count": 8,
     "metadata": {},
     "output_type": "execute_result"
    }
   ],
   "source": [
    "x_train.shape"
   ]
  },
  {
   "cell_type": "code",
   "execution_count": 9,
   "metadata": {},
   "outputs": [
    {
     "data": {
      "text/plain": [
       "(150, 1)"
      ]
     },
     "execution_count": 9,
     "metadata": {},
     "output_type": "execute_result"
    }
   ],
   "source": [
    "n_samples = x_train[0]\n",
    "input_shape = x_train.shape[1:] # shape of a single sample\n",
    "output_shape = y_train.shape[1:] # shape of a single sample\n",
    "# output_length = y_train.shape[1:][0]\n",
    "hidden_layer_length = 150\n",
    "input_shape"
   ]
  },
  {
   "cell_type": "code",
   "execution_count": 10,
   "metadata": {},
   "outputs": [
    {
     "data": {
      "text/plain": [
       "(150, 1)"
      ]
     },
     "execution_count": 10,
     "metadata": {},
     "output_type": "execute_result"
    }
   ],
   "source": [
    "output_shape"
   ]
  },
  {
   "cell_type": "code",
   "execution_count": 11,
   "metadata": {},
   "outputs": [],
   "source": [
    "num_encoder_tokens = x_train.shape[-1]\n",
    "num_decoder_tokens = y_train.shape[-1]\n",
    "# latent_dim = 1"
   ]
  },
  {
   "cell_type": "code",
   "execution_count": 17,
   "metadata": {},
   "outputs": [],
   "source": [
    "# https://blog.keras.io/building-autoencoders-in-keras.html\n",
    "def sampling(args, batch_size, latent_dim):\n",
    "    # :args = 2 keras layers\n",
    "    z_mean, z_log_sigma = args\n",
    "    epsilon = K.random_normal(shape=(batch_size, latent_dim),\n",
    "                              mean=0., std=epsilon_std)\n",
    "    return z_mean + K.exp(z_log_sigma) * epsilon"
   ]
  },
  {
   "cell_type": "code",
   "execution_count": 12,
   "metadata": {},
   "outputs": [
    {
     "name": "stdout",
     "output_type": "stream",
     "text": [
      "w1 300 w2 600\n",
      "_________________________________________________________________\n",
      "Layer (type)                 Output Shape              Param #   \n",
      "=================================================================\n",
      "input_2 (InputLayer)         (None, 150, 1)            0         \n",
      "_________________________________________________________________\n",
      "flatten_1 (Flatten)          (None, 150)               0         \n",
      "_________________________________________________________________\n",
      "dense_1 (Dense)              (None, 150)               22650     \n",
      "_________________________________________________________________\n",
      "dense_2 (Dense)              (None, 150)               22650     \n",
      "=================================================================\n",
      "Total params: 45,300\n",
      "Trainable params: 45,300\n",
      "Non-trainable params: 0\n",
      "_________________________________________________________________\n",
      "_________________________________________________________________\n",
      "Layer (type)                 Output Shape              Param #   \n",
      "=================================================================\n",
      "input_3 (InputLayer)         (None, 150)               0         \n",
      "_________________________________________________________________\n",
      "dense_3 (Dense)              (None, 150)               22650     \n",
      "_________________________________________________________________\n",
      "dense_4 (Dense)              (None, 150)               22650     \n",
      "_________________________________________________________________\n",
      "reshape_1 (Reshape)          (None, 150, 1)            0         \n",
      "=================================================================\n",
      "Total params: 45,300\n",
      "Trainable params: 45,300\n",
      "Non-trainable params: 0\n",
      "_________________________________________________________________\n"
     ]
    }
   ],
   "source": [
    "k_reg = regularizers.l2(0.01)\n",
    "# b_reg = regularizers.l1(0.01)\n",
    "a_reg = regularizers.l1(0.01)\n",
    "\n",
    "def encoder(input_shape, output_length, dropout=0.10):\n",
    "    input_layer = Input(shape=input_shape)\n",
    "    x = input_layer\n",
    "    x = Flatten()(x)\n",
    "#     x = Dense(150, activation='relu')(x)\n",
    "    \n",
    "    intermediate_dim = 100\n",
    "    latent_dim = 100\n",
    "    \n",
    "    h = Dense(intermediate_dim, activation='relu')(x)\n",
    "    z_mean = Dense(latent_dim)(h)\n",
    "    z_log_sigma = Dense(latent_dim)(h)\n",
    "    \n",
    "    # note that \"output_shape\" isn't necessary with the TensorFlow backend\n",
    "    # so you could write `Lambda(sampling)([z_mean, z_log_sigma])`\n",
    "    z = Lambda(sampling)([z_mean, z_log_sigma])\n",
    "    \n",
    "    x = Dense(output_length, activation='relu')(x)\n",
    "#     x = Dense(output_length, activation='relu', activity_regularizer=regularizers.l1(10e-5))(x)\n",
    "    model = Model(inputs=input_layer, outputs=x)\n",
    "    return model\n",
    "\n",
    "\n",
    "def decoder(input_length, output_shape, dropout=0.10):\n",
    "    input_layer = Input(shape=(input_length,))\n",
    "    x = input_layer\n",
    "    shape = output_shape\n",
    "    # shape = (10,100) # increase n dimensions\n",
    "    \n",
    "    intermediate_dim = 100\n",
    "    latent_dim = 100\n",
    "    \n",
    "    decoder_h = Dense(intermediate_dim, activation='relu')\n",
    "    decoder_mean = Dense(original_dim, activation='sigmoid')\n",
    "    h_decoded = decoder_h(z)\n",
    "    x_decoded_mean = decoder_mean(h_decoded)\n",
    "    \n",
    "    \n",
    "    x = Dense(150, activation='relu')(x)\n",
    "#     x = Dense(150, activation='relu')(x)    \n",
    "\n",
    "    x = Dense(np.prod(shape), activation='sigmoid')(x)\n",
    "    x = Reshape(shape)(x)\n",
    "    model = Model(inputs=input_layer, outputs=x)\n",
    "    return model\n",
    "\n",
    "\n",
    "def autoencoder(input_shape, output_shape, hidden_layer_length=10, dropout=0.10, verbose=False):\n",
    "    input_ = Input(shape=input_shape)\n",
    "    encode = encoder(input_shape, hidden_layer_length, dropout)\n",
    "    if verbose:\n",
    "        encode.summary()\n",
    "    decode = decoder(hidden_layer_length, output_shape, dropout)\n",
    "    if verbose:\n",
    "        decode.summary()\n",
    "    model = Model(input_, decode(encode(input_)))\n",
    "    return encode, decode, model\n",
    "\n",
    "dropout = 0.2\n",
    "encoder, decoder, model = autoencoder(input_shape, output_shape, hidden_layer_length, dropout, True)"
   ]
  },
  {
   "cell_type": "code",
   "execution_count": 18,
   "metadata": {},
   "outputs": [
    {
     "data": {
      "text/plain": [
       "(150, 1)"
      ]
     },
     "execution_count": 18,
     "metadata": {},
     "output_type": "execute_result"
    }
   ],
   "source": [
    "input_shape"
   ]
  },
  {
   "cell_type": "code",
   "execution_count": 82,
   "metadata": {},
   "outputs": [],
   "source": [
    "batch_size = 16\n",
    "original_dim = 150\n",
    "latent_dim = 50\n",
    "intermediate_dim = 150\n",
    "epochs = 50\n",
    "epsilon_std = 1.0"
   ]
  },
  {
   "cell_type": "code",
   "execution_count": 83,
   "metadata": {},
   "outputs": [
    {
     "name": "stdout",
     "output_type": "stream",
     "text": [
      "__________________________________________________________________________________________________\n",
      "Layer (type)                    Output Shape         Param #     Connected to                     \n",
      "==================================================================================================\n",
      "input_33 (InputLayer)           (None, 150)          0                                            \n",
      "__________________________________________________________________________________________________\n",
      "dense_100 (Dense)               (None, 150)          22650       input_33[0][0]                   \n",
      "__________________________________________________________________________________________________\n",
      "dense_101 (Dense)               (None, 50)           7550        dense_100[0][0]                  \n",
      "__________________________________________________________________________________________________\n",
      "dense_102 (Dense)               (None, 50)           7550        dense_100[0][0]                  \n",
      "__________________________________________________________________________________________________\n",
      "lambda_20 (Lambda)              (None, 50)           0           dense_101[0][0]                  \n",
      "                                                                 dense_102[0][0]                  \n",
      "__________________________________________________________________________________________________\n",
      "dense_103 (Dense)               (None, 150)          7650        lambda_20[0][0]                  \n",
      "__________________________________________________________________________________________________\n",
      "dense_104 (Dense)               (None, 150)          22650       dense_103[0][0]                  \n",
      "==================================================================================================\n",
      "Total params: 68,050\n",
      "Trainable params: 68,050\n",
      "Non-trainable params: 0\n",
      "__________________________________________________________________________________________________\n"
     ]
    }
   ],
   "source": [
    "encoder_input = Input(shape=(150,))\n",
    "# x = Input(shape=(input_shape[0],))\n",
    "# encoder_input = Input(shape=input_shape)\n",
    "x = encoder_input\n",
    "\n",
    "# x = Reshape((input_shape[0],))(x)\n",
    "h = Dense(intermediate_dim, activation='relu')(x)\n",
    "z_mean = Dense(latent_dim)(h)\n",
    "z_log_var = Dense(latent_dim)(h)\n",
    "\n",
    "def sampling(args):\n",
    "    z_mean, z_log_var = args\n",
    "    epsilon = K.random_normal(shape=(K.shape(z_mean)[0], latent_dim), mean=0.,\n",
    "                              stddev=epsilon_std)\n",
    "    return z_mean + K.exp(z_log_var / 2) * epsilon\n",
    "\n",
    "# note that \"output_shape\" isn't necessary with the TensorFlow backend\n",
    "z = Lambda(sampling, output_shape=(latent_dim,))([z_mean, z_log_var])\n",
    "\n",
    "# we instantiate these layers separately so as to reuse them later\n",
    "decoder_h = Dense(intermediate_dim, activation='relu')\n",
    "decoder_mean = Dense(original_dim, activation='sigmoid')\n",
    "h_decoded = decoder_h(z)\n",
    "x_decoded_mean = decoder_mean(h_decoded)\n",
    "# x_decoded_mean = Reshape(input_shape)(x_decoded_mean)\n",
    "\n",
    "vae = Model(encoder_input, x_decoded_mean)\n",
    "vae.summary()"
   ]
  },
  {
   "cell_type": "code",
   "execution_count": 84,
   "metadata": {},
   "outputs": [
    {
     "name": "stderr",
     "output_type": "stream",
     "text": [
      "/Library/Frameworks/Python.framework/Versions/3.6/lib/python3.6/site-packages/ipykernel_launcher.py:7: UserWarning: Output \"dense_104\" missing from loss dictionary. We assume this was done on purpose, and we will not be expecting any data to be passed to \"dense_104\" during training.\n",
      "  import sys\n"
     ]
    }
   ],
   "source": [
    "# Compute VAE loss\n",
    "xent_loss = original_dim * metrics.binary_crossentropy(encoder_input, x_decoded_mean)\n",
    "kl_loss = - 0.5 * K.sum(1 + z_log_var - K.square(z_mean) - K.exp(z_log_var), axis=-1)\n",
    "vae_loss = K.mean(xent_loss + kl_loss)\n",
    "\n",
    "vae.add_loss(vae_loss)\n",
    "vae.compile(optimizer='rmsprop')"
   ]
  },
  {
   "cell_type": "code",
   "execution_count": 85,
   "metadata": {},
   "outputs": [
    {
     "data": {
      "text/plain": [
       "(242, 150)"
      ]
     },
     "execution_count": 85,
     "metadata": {},
     "output_type": "execute_result"
    }
   ],
   "source": [
    "# z_train = x_train\n",
    "x_train = x_train.reshape(x_train.shape[0],np.prod(x_train.shape[1:]))\n",
    "x_train.shape"
   ]
  },
  {
   "cell_type": "code",
   "execution_count": 86,
   "metadata": {},
   "outputs": [],
   "source": [
    "x_test = x_train[-10:].astype('float32')\n",
    "x_train = x_train[:-10].astype('float32')"
   ]
  },
  {
   "cell_type": "code",
   "execution_count": 87,
   "metadata": {
    "scrolled": true
   },
   "outputs": [
    {
     "name": "stdout",
     "output_type": "stream",
     "text": [
      "Train on 232 samples, validate on 10 samples\n",
      "Epoch 1/50\n",
      "232/232 [==============================] - 1s 3ms/step - loss: 103.8794 - val_loss: 93.7028\n",
      "Epoch 2/50\n",
      "232/232 [==============================] - 0s 172us/step - loss: 97.0716 - val_loss: 92.7686\n",
      "Epoch 3/50\n",
      "232/232 [==============================] - 0s 195us/step - loss: 95.0384 - val_loss: 92.6100\n",
      "Epoch 4/50\n",
      "232/232 [==============================] - 0s 185us/step - loss: 93.5969 - val_loss: 89.8824\n",
      "Epoch 5/50\n",
      "232/232 [==============================] - 0s 181us/step - loss: 92.6800 - val_loss: 88.8854\n",
      "Epoch 6/50\n",
      "232/232 [==============================] - 0s 192us/step - loss: 91.8105 - val_loss: 89.2199\n",
      "Epoch 7/50\n",
      "232/232 [==============================] - 0s 188us/step - loss: 91.3586 - val_loss: 89.8837\n",
      "Epoch 8/50\n",
      "232/232 [==============================] - 0s 183us/step - loss: 90.2961 - val_loss: 86.4807\n",
      "Epoch 9/50\n",
      "232/232 [==============================] - 0s 187us/step - loss: 89.9638 - val_loss: 90.1510\n",
      "Epoch 10/50\n",
      "232/232 [==============================] - 0s 176us/step - loss: 89.3301 - val_loss: 86.5128\n",
      "Epoch 11/50\n",
      "232/232 [==============================] - 0s 226us/step - loss: 89.1822 - val_loss: 89.1367\n",
      "Epoch 12/50\n",
      "232/232 [==============================] - 0s 203us/step - loss: 89.0810 - val_loss: 86.8035\n",
      "Epoch 13/50\n",
      "232/232 [==============================] - 0s 195us/step - loss: 89.0169 - val_loss: 87.6652\n",
      "Epoch 14/50\n",
      "232/232 [==============================] - 0s 200us/step - loss: 88.7207 - val_loss: 86.9097\n",
      "Epoch 15/50\n",
      "232/232 [==============================] - 0s 178us/step - loss: 88.7784 - val_loss: 88.1502\n",
      "Epoch 16/50\n",
      "232/232 [==============================] - 0s 184us/step - loss: 88.7995 - val_loss: 86.3052\n",
      "Epoch 17/50\n",
      "232/232 [==============================] - 0s 214us/step - loss: 88.3245 - val_loss: 86.5482\n",
      "Epoch 18/50\n",
      "232/232 [==============================] - 0s 205us/step - loss: 88.4354 - val_loss: 87.8191\n",
      "Epoch 19/50\n",
      "232/232 [==============================] - 0s 225us/step - loss: 88.0516 - val_loss: 86.4270\n",
      "Epoch 20/50\n",
      "232/232 [==============================] - 0s 238us/step - loss: 88.2079 - val_loss: 86.3533\n",
      "Epoch 21/50\n",
      "232/232 [==============================] - 0s 198us/step - loss: 88.3024 - val_loss: 87.2964\n",
      "Epoch 22/50\n",
      "232/232 [==============================] - 0s 200us/step - loss: 88.4947 - val_loss: 87.5124\n",
      "Epoch 23/50\n",
      "232/232 [==============================] - 0s 151us/step - loss: 88.0821 - val_loss: 87.0357\n",
      "Epoch 24/50\n",
      "232/232 [==============================] - 0s 168us/step - loss: 88.4432 - val_loss: 87.2288\n",
      "Epoch 25/50\n",
      "232/232 [==============================] - 0s 195us/step - loss: 88.0887 - val_loss: 88.7304\n",
      "Epoch 26/50\n",
      "232/232 [==============================] - 0s 178us/step - loss: 87.7963 - val_loss: 85.5776\n",
      "Epoch 27/50\n",
      "232/232 [==============================] - 0s 141us/step - loss: 88.0189 - val_loss: 86.6459\n",
      "Epoch 28/50\n",
      "232/232 [==============================] - 0s 181us/step - loss: 87.5899 - val_loss: 88.0982\n",
      "Epoch 29/50\n",
      "232/232 [==============================] - 0s 171us/step - loss: 87.8135 - val_loss: 89.6895\n",
      "Epoch 30/50\n",
      "232/232 [==============================] - 0s 147us/step - loss: 87.8655 - val_loss: 85.8504\n",
      "Epoch 31/50\n",
      "232/232 [==============================] - 0s 175us/step - loss: 87.6529 - val_loss: 86.2820\n",
      "Epoch 32/50\n",
      "232/232 [==============================] - 0s 170us/step - loss: 87.4319 - val_loss: 86.3017\n",
      "Epoch 33/50\n",
      "232/232 [==============================] - 0s 143us/step - loss: 87.8623 - val_loss: 86.9124\n",
      "Epoch 34/50\n",
      "232/232 [==============================] - 0s 171us/step - loss: 87.2602 - val_loss: 87.0827\n",
      "Epoch 35/50\n",
      "232/232 [==============================] - 0s 171us/step - loss: 87.0412 - val_loss: 86.7852\n",
      "Epoch 36/50\n",
      "232/232 [==============================] - 0s 148us/step - loss: 87.4733 - val_loss: 87.3674\n",
      "Epoch 37/50\n",
      "232/232 [==============================] - 0s 171us/step - loss: 87.6229 - val_loss: 87.8354\n",
      "Epoch 38/50\n",
      "232/232 [==============================] - 0s 179us/step - loss: 87.2107 - val_loss: 90.3490\n",
      "Epoch 39/50\n",
      "232/232 [==============================] - 0s 155us/step - loss: 87.4908 - val_loss: 88.6496\n",
      "Epoch 40/50\n",
      "232/232 [==============================] - 0s 179us/step - loss: 87.2359 - val_loss: 88.7241\n",
      "Epoch 41/50\n",
      "232/232 [==============================] - 0s 193us/step - loss: 87.5663 - val_loss: 89.8753\n",
      "Epoch 42/50\n",
      "232/232 [==============================] - 0s 199us/step - loss: 87.0577 - val_loss: 87.1127\n",
      "Epoch 43/50\n",
      "232/232 [==============================] - 0s 173us/step - loss: 87.1522 - val_loss: 87.8521\n",
      "Epoch 44/50\n",
      "232/232 [==============================] - 0s 145us/step - loss: 87.0828 - val_loss: 88.8565\n",
      "Epoch 45/50\n",
      "232/232 [==============================] - 0s 175us/step - loss: 86.6554 - val_loss: 89.8118\n",
      "Epoch 46/50\n",
      "232/232 [==============================] - 0s 173us/step - loss: 86.5798 - val_loss: 86.1919\n",
      "Epoch 47/50\n",
      "232/232 [==============================] - 0s 144us/step - loss: 86.9857 - val_loss: 87.5982\n",
      "Epoch 48/50\n",
      "232/232 [==============================] - 0s 171us/step - loss: 86.5054 - val_loss: 87.9818\n",
      "Epoch 49/50\n",
      "232/232 [==============================] - 0s 170us/step - loss: 86.5322 - val_loss: 85.4182\n",
      "Epoch 50/50\n",
      "232/232 [==============================] - 0s 141us/step - loss: 86.6568 - val_loss: 90.4492\n"
     ]
    },
    {
     "data": {
      "text/plain": [
       "<keras.callbacks.History at 0x11bc91860>"
      ]
     },
     "execution_count": 87,
     "metadata": {},
     "output_type": "execute_result"
    }
   ],
   "source": [
    "vae.fit(x_train, shuffle=True, epochs=epochs, batch_size=batch_size, validation_data=(x_test, None))"
   ]
  },
  {
   "cell_type": "code",
   "execution_count": 88,
   "metadata": {},
   "outputs": [
    {
     "name": "stdout",
     "output_type": "stream",
     "text": [
      "_________________________________________________________________\n",
      "Layer (type)                 Output Shape              Param #   \n",
      "=================================================================\n",
      "input_33 (InputLayer)        (None, 150)               0         \n",
      "_________________________________________________________________\n",
      "dense_100 (Dense)            (None, 150)               22650     \n",
      "_________________________________________________________________\n",
      "dense_101 (Dense)            (None, 50)                7550      \n",
      "=================================================================\n",
      "Total params: 30,200\n",
      "Trainable params: 30,200\n",
      "Non-trainable params: 0\n",
      "_________________________________________________________________\n"
     ]
    }
   ],
   "source": [
    "# build a model to project inputs on the latent space\n",
    "encoder = Model(encoder_input, z_mean)\n",
    "encoder.summary()"
   ]
  },
  {
   "cell_type": "code",
   "execution_count": 90,
   "metadata": {},
   "outputs": [
    {
     "name": "stdout",
     "output_type": "stream",
     "text": [
      "_________________________________________________________________\n",
      "Layer (type)                 Output Shape              Param #   \n",
      "=================================================================\n",
      "input_35 (InputLayer)        (None, 50)                0         \n",
      "_________________________________________________________________\n",
      "dense_103 (Dense)            (None, 150)               7650      \n",
      "_________________________________________________________________\n",
      "dense_104 (Dense)            (None, 150)               22650     \n",
      "=================================================================\n",
      "Total params: 30,300\n",
      "Trainable params: 30,300\n",
      "Non-trainable params: 0\n",
      "_________________________________________________________________\n"
     ]
    }
   ],
   "source": [
    "# build a digit generator that can sample from the learned distribution\n",
    "decoder_input = Input(shape=(latent_dim,))\n",
    "_h_decoded = decoder_h(decoder_input)\n",
    "_x_decoded_mean = decoder_mean(_h_decoded)\n",
    "generator = Model(decoder_input, _x_decoded_mean)\n",
    "generator.summary()"
   ]
  },
  {
   "cell_type": "code",
   "execution_count": null,
   "metadata": {},
   "outputs": [],
   "source": []
  },
  {
   "cell_type": "code",
   "execution_count": null,
   "metadata": {},
   "outputs": [],
   "source": []
  },
  {
   "cell_type": "code",
   "execution_count": null,
   "metadata": {},
   "outputs": [],
   "source": []
  },
  {
   "cell_type": "code",
   "execution_count": null,
   "metadata": {},
   "outputs": [],
   "source": []
  },
  {
   "cell_type": "code",
   "execution_count": null,
   "metadata": {},
   "outputs": [],
   "source": []
  },
  {
   "cell_type": "code",
   "execution_count": null,
   "metadata": {},
   "outputs": [],
   "source": []
  },
  {
   "cell_type": "code",
   "execution_count": null,
   "metadata": {},
   "outputs": [],
   "source": []
  },
  {
   "cell_type": "code",
   "execution_count": null,
   "metadata": {},
   "outputs": [],
   "source": []
  },
  {
   "cell_type": "code",
   "execution_count": null,
   "metadata": {},
   "outputs": [],
   "source": []
  },
  {
   "cell_type": "code",
   "execution_count": null,
   "metadata": {},
   "outputs": [],
   "source": []
  },
  {
   "cell_type": "code",
   "execution_count": null,
   "metadata": {},
   "outputs": [],
   "source": []
  },
  {
   "cell_type": "code",
   "execution_count": null,
   "metadata": {},
   "outputs": [],
   "source": []
  },
  {
   "cell_type": "code",
   "execution_count": null,
   "metadata": {},
   "outputs": [],
   "source": []
  },
  {
   "cell_type": "code",
   "execution_count": null,
   "metadata": {},
   "outputs": [],
   "source": []
  },
  {
   "cell_type": "code",
   "execution_count": null,
   "metadata": {},
   "outputs": [],
   "source": []
  },
  {
   "cell_type": "code",
   "execution_count": null,
   "metadata": {},
   "outputs": [],
   "source": []
  },
  {
   "cell_type": "code",
   "execution_count": null,
   "metadata": {},
   "outputs": [],
   "source": []
  },
  {
   "cell_type": "code",
   "execution_count": 13,
   "metadata": {},
   "outputs": [],
   "source": [
    "metrics = ['accuracy','mse','binary_crossentropy'] # sparse_categorical_accuracy\n",
    "loss = 'binary_crossentropy'# binary_crossentropy categorical_crossentropy sparse_categorical_crossentropy\n",
    "optimizer = 'adam' # adam adadelta rmsprop nadam\n",
    "# keras.optimizers.RMSprop(lr=0.001, rho=0.9, epsilon=None, decay=0.0)\n",
    "model.compile(optimizer=optimizer, loss=loss, metrics=['mse', 'mae', 'accuracy'])#, metrics=metrics)"
   ]
  },
  {
   "cell_type": "code",
   "execution_count": 14,
   "metadata": {},
   "outputs": [],
   "source": [
    "batch_size = 16\n",
    "# n epochs = n iterations over all the training data\n",
    "epochs = 50"
   ]
  },
  {
   "cell_type": "code",
   "execution_count": 100,
   "metadata": {
    "scrolled": true
   },
   "outputs": [
    {
     "name": "stdout",
     "output_type": "stream",
     "text": [
      "Train on 83 samples, validate on 17 samples\n",
      "Epoch 1/50\n",
      "83/83 [==============================] - 0s 3ms/step - loss: 0.6915 - mean_squared_error: 0.2492 - mean_absolute_error: 0.4974 - acc: 0.5315 - val_loss: 0.6808 - val_mean_squared_error: 0.2438 - val_mean_absolute_error: 0.4919 - val_acc: 0.5933\n",
      "Epoch 2/50\n",
      "83/83 [==============================] - 0s 301us/step - loss: 0.6714 - mean_squared_error: 0.2392 - mean_absolute_error: 0.4863 - acc: 0.6282 - val_loss: 0.6683 - val_mean_squared_error: 0.2376 - val_mean_absolute_error: 0.4827 - val_acc: 0.6396\n",
      "Epoch 3/50\n",
      "83/83 [==============================] - 0s 253us/step - loss: 0.6506 - mean_squared_error: 0.2290 - mean_absolute_error: 0.4711 - acc: 0.6668 - val_loss: 0.6544 - val_mean_squared_error: 0.2306 - val_mean_absolute_error: 0.4669 - val_acc: 0.6569\n",
      "Epoch 4/50\n",
      "83/83 [==============================] - 0s 291us/step - loss: 0.6257 - mean_squared_error: 0.2172 - mean_absolute_error: 0.4472 - acc: 0.6823 - val_loss: 0.6466 - val_mean_squared_error: 0.2265 - val_mean_absolute_error: 0.4502 - val_acc: 0.6647\n",
      "Epoch 5/50\n",
      "83/83 [==============================] - 0s 297us/step - loss: 0.6046 - mean_squared_error: 0.2079 - mean_absolute_error: 0.4240 - acc: 0.6851 - val_loss: 0.6353 - val_mean_squared_error: 0.2215 - val_mean_absolute_error: 0.4443 - val_acc: 0.6733\n",
      "Epoch 6/50\n",
      "83/83 [==============================] - 0s 269us/step - loss: 0.5802 - mean_squared_error: 0.1971 - mean_absolute_error: 0.4126 - acc: 0.6974 - val_loss: 0.6267 - val_mean_squared_error: 0.2178 - val_mean_absolute_error: 0.4447 - val_acc: 0.6757\n",
      "Epoch 7/50\n",
      "83/83 [==============================] - 0s 294us/step - loss: 0.5598 - mean_squared_error: 0.1886 - mean_absolute_error: 0.3992 - acc: 0.7068 - val_loss: 0.6184 - val_mean_squared_error: 0.2141 - val_mean_absolute_error: 0.4359 - val_acc: 0.6820\n",
      "Epoch 8/50\n",
      "83/83 [==============================] - 0s 294us/step - loss: 0.5411 - mean_squared_error: 0.1816 - mean_absolute_error: 0.3791 - acc: 0.7145 - val_loss: 0.6130 - val_mean_squared_error: 0.2117 - val_mean_absolute_error: 0.4286 - val_acc: 0.6835\n",
      "Epoch 9/50\n",
      "83/83 [==============================] - 0s 276us/step - loss: 0.5263 - mean_squared_error: 0.1762 - mean_absolute_error: 0.3630 - acc: 0.7274 - val_loss: 0.6088 - val_mean_squared_error: 0.2099 - val_mean_absolute_error: 0.4273 - val_acc: 0.6898\n",
      "Epoch 10/50\n",
      "83/83 [==============================] - 0s 285us/step - loss: 0.5111 - mean_squared_error: 0.1699 - mean_absolute_error: 0.3557 - acc: 0.7447 - val_loss: 0.6043 - val_mean_squared_error: 0.2080 - val_mean_absolute_error: 0.4233 - val_acc: 0.6882\n",
      "Epoch 11/50\n",
      "83/83 [==============================] - 0s 272us/step - loss: 0.4952 - mean_squared_error: 0.1640 - mean_absolute_error: 0.3424 - acc: 0.7568 - val_loss: 0.6005 - val_mean_squared_error: 0.2063 - val_mean_absolute_error: 0.4188 - val_acc: 0.6878\n",
      "Epoch 12/50\n",
      "83/83 [==============================] - 0s 280us/step - loss: 0.4761 - mean_squared_error: 0.1560 - mean_absolute_error: 0.3329 - acc: 0.7727 - val_loss: 0.5964 - val_mean_squared_error: 0.2043 - val_mean_absolute_error: 0.4152 - val_acc: 0.6929\n",
      "Epoch 13/50\n",
      "83/83 [==============================] - 0s 313us/step - loss: 0.4546 - mean_squared_error: 0.1476 - mean_absolute_error: 0.3190 - acc: 0.7837 - val_loss: 0.5912 - val_mean_squared_error: 0.2021 - val_mean_absolute_error: 0.4118 - val_acc: 0.6925\n",
      "Epoch 14/50\n",
      "83/83 [==============================] - 0s 272us/step - loss: 0.4329 - mean_squared_error: 0.1391 - mean_absolute_error: 0.3052 - acc: 0.7961 - val_loss: 0.5815 - val_mean_squared_error: 0.1979 - val_mean_absolute_error: 0.4007 - val_acc: 0.7027\n",
      "Epoch 15/50\n",
      "83/83 [==============================] - 0s 319us/step - loss: 0.4102 - mean_squared_error: 0.1301 - mean_absolute_error: 0.2913 - acc: 0.8153 - val_loss: 0.5754 - val_mean_squared_error: 0.1950 - val_mean_absolute_error: 0.3956 - val_acc: 0.7102\n",
      "Epoch 16/50\n",
      "83/83 [==============================] - 0s 313us/step - loss: 0.3889 - mean_squared_error: 0.1222 - mean_absolute_error: 0.2763 - acc: 0.8254 - val_loss: 0.5733 - val_mean_squared_error: 0.1949 - val_mean_absolute_error: 0.3952 - val_acc: 0.7012\n",
      "Epoch 17/50\n",
      "83/83 [==============================] - 0s 320us/step - loss: 0.3687 - mean_squared_error: 0.1149 - mean_absolute_error: 0.2610 - acc: 0.8397 - val_loss: 0.5667 - val_mean_squared_error: 0.1918 - val_mean_absolute_error: 0.3865 - val_acc: 0.7047\n",
      "Epoch 18/50\n",
      "83/83 [==============================] - ETA: 0s - loss: 0.3610 - mean_squared_error: 0.1115 - mean_absolute_error: 0.2523 - acc: 0.84 - 0s 307us/step - loss: 0.3504 - mean_squared_error: 0.1083 - mean_absolute_error: 0.2484 - acc: 0.8492 - val_loss: 0.5622 - val_mean_squared_error: 0.1884 - val_mean_absolute_error: 0.3685 - val_acc: 0.7180\n",
      "Epoch 19/50\n",
      "83/83 [==============================] - 0s 339us/step - loss: 0.3336 - mean_squared_error: 0.1025 - mean_absolute_error: 0.2357 - acc: 0.8600 - val_loss: 0.5551 - val_mean_squared_error: 0.1861 - val_mean_absolute_error: 0.3706 - val_acc: 0.7216\n",
      "Epoch 20/50\n",
      "83/83 [==============================] - 0s 338us/step - loss: 0.3149 - mean_squared_error: 0.0960 - mean_absolute_error: 0.2228 - acc: 0.8706 - val_loss: 0.5561 - val_mean_squared_error: 0.1865 - val_mean_absolute_error: 0.3705 - val_acc: 0.7184\n",
      "Epoch 21/50\n",
      "83/83 [==============================] - 0s 303us/step - loss: 0.2975 - mean_squared_error: 0.0896 - mean_absolute_error: 0.2114 - acc: 0.8826 - val_loss: 0.5540 - val_mean_squared_error: 0.1857 - val_mean_absolute_error: 0.3618 - val_acc: 0.7247\n",
      "Epoch 22/50\n",
      "83/83 [==============================] - 0s 268us/step - loss: 0.2833 - mean_squared_error: 0.0849 - mean_absolute_error: 0.2015 - acc: 0.8850 - val_loss: 0.5467 - val_mean_squared_error: 0.1814 - val_mean_absolute_error: 0.3541 - val_acc: 0.7373\n",
      "Epoch 23/50\n",
      "83/83 [==============================] - 0s 369us/step - loss: 0.2689 - mean_squared_error: 0.0799 - mean_absolute_error: 0.1922 - acc: 0.8937 - val_loss: 0.5474 - val_mean_squared_error: 0.1811 - val_mean_absolute_error: 0.3417 - val_acc: 0.7396\n",
      "Epoch 24/50\n",
      "83/83 [==============================] - 0s 294us/step - loss: 0.2562 - mean_squared_error: 0.0752 - mean_absolute_error: 0.1848 - acc: 0.9022 - val_loss: 0.5469 - val_mean_squared_error: 0.1796 - val_mean_absolute_error: 0.3371 - val_acc: 0.7412\n",
      "Epoch 25/50\n",
      "83/83 [==============================] - 0s 292us/step - loss: 0.2435 - mean_squared_error: 0.0712 - mean_absolute_error: 0.1755 - acc: 0.9071 - val_loss: 0.5441 - val_mean_squared_error: 0.1802 - val_mean_absolute_error: 0.3462 - val_acc: 0.7349\n",
      "Epoch 26/50\n",
      "83/83 [==============================] - 0s 302us/step - loss: 0.2306 - mean_squared_error: 0.0674 - mean_absolute_error: 0.1661 - acc: 0.9124 - val_loss: 0.5494 - val_mean_squared_error: 0.1822 - val_mean_absolute_error: 0.3473 - val_acc: 0.7298\n",
      "Epoch 27/50\n",
      "83/83 [==============================] - 0s 300us/step - loss: 0.2212 - mean_squared_error: 0.0641 - mean_absolute_error: 0.1603 - acc: 0.9186 - val_loss: 0.5449 - val_mean_squared_error: 0.1807 - val_mean_absolute_error: 0.3435 - val_acc: 0.7392\n",
      "Epoch 28/50\n",
      "83/83 [==============================] - 0s 312us/step - loss: 0.2122 - mean_squared_error: 0.0604 - mean_absolute_error: 0.1555 - acc: 0.9231 - val_loss: 0.5394 - val_mean_squared_error: 0.1765 - val_mean_absolute_error: 0.3313 - val_acc: 0.7510\n",
      "Epoch 29/50\n",
      "83/83 [==============================] - 0s 326us/step - loss: 0.1992 - mean_squared_error: 0.0562 - mean_absolute_error: 0.1470 - acc: 0.9294 - val_loss: 0.5435 - val_mean_squared_error: 0.1754 - val_mean_absolute_error: 0.3192 - val_acc: 0.7514\n",
      "Epoch 30/50\n",
      "83/83 [==============================] - 0s 256us/step - loss: 0.1894 - mean_squared_error: 0.0533 - mean_absolute_error: 0.1397 - acc: 0.9338 - val_loss: 0.5394 - val_mean_squared_error: 0.1765 - val_mean_absolute_error: 0.3271 - val_acc: 0.7443\n",
      "Epoch 31/50\n",
      "83/83 [==============================] - 0s 316us/step - loss: 0.1799 - mean_squared_error: 0.0499 - mean_absolute_error: 0.1337 - acc: 0.9390 - val_loss: 0.5498 - val_mean_squared_error: 0.1799 - val_mean_absolute_error: 0.3269 - val_acc: 0.7420\n",
      "Epoch 32/50\n",
      "83/83 [==============================] - 0s 290us/step - loss: 0.1707 - mean_squared_error: 0.0468 - mean_absolute_error: 0.1277 - acc: 0.9438 - val_loss: 0.5418 - val_mean_squared_error: 0.1748 - val_mean_absolute_error: 0.3141 - val_acc: 0.7443\n",
      "Epoch 33/50\n",
      "83/83 [==============================] - 0s 322us/step - loss: 0.1612 - mean_squared_error: 0.0435 - mean_absolute_error: 0.1225 - acc: 0.9500 - val_loss: 0.5412 - val_mean_squared_error: 0.1738 - val_mean_absolute_error: 0.3086 - val_acc: 0.7537\n",
      "Epoch 34/50\n",
      "83/83 [==============================] - 0s 298us/step - loss: 0.1531 - mean_squared_error: 0.0411 - mean_absolute_error: 0.1159 - acc: 0.9531 - val_loss: 0.5434 - val_mean_squared_error: 0.1753 - val_mean_absolute_error: 0.3135 - val_acc: 0.7522\n",
      "Epoch 35/50\n",
      "83/83 [==============================] - 0s 323us/step - loss: 0.1452 - mean_squared_error: 0.0385 - mean_absolute_error: 0.1111 - acc: 0.9562 - val_loss: 0.5451 - val_mean_squared_error: 0.1755 - val_mean_absolute_error: 0.3107 - val_acc: 0.7533\n",
      "Epoch 36/50\n",
      "83/83 [==============================] - 0s 328us/step - loss: 0.1390 - mean_squared_error: 0.0366 - mean_absolute_error: 0.1071 - acc: 0.9579 - val_loss: 0.5448 - val_mean_squared_error: 0.1763 - val_mean_absolute_error: 0.3103 - val_acc: 0.7424\n",
      "Epoch 37/50\n",
      "83/83 [==============================] - 0s 292us/step - loss: 0.1312 - mean_squared_error: 0.0340 - mean_absolute_error: 0.1019 - acc: 0.9641 - val_loss: 0.5522 - val_mean_squared_error: 0.1757 - val_mean_absolute_error: 0.3044 - val_acc: 0.7490\n",
      "Epoch 38/50\n",
      "83/83 [==============================] - 0s 283us/step - loss: 0.1230 - mean_squared_error: 0.0309 - mean_absolute_error: 0.0968 - acc: 0.9680 - val_loss: 0.5452 - val_mean_squared_error: 0.1725 - val_mean_absolute_error: 0.2975 - val_acc: 0.7584\n",
      "Epoch 39/50\n",
      "83/83 [==============================] - 0s 291us/step - loss: 0.1154 - mean_squared_error: 0.0285 - mean_absolute_error: 0.0917 - acc: 0.9718 - val_loss: 0.5620 - val_mean_squared_error: 0.1776 - val_mean_absolute_error: 0.3028 - val_acc: 0.7455\n",
      "Epoch 40/50\n",
      "83/83 [==============================] - 0s 277us/step - loss: 0.1091 - mean_squared_error: 0.0266 - mean_absolute_error: 0.0869 - acc: 0.9740 - val_loss: 0.5600 - val_mean_squared_error: 0.1782 - val_mean_absolute_error: 0.3008 - val_acc: 0.7494\n",
      "Epoch 41/50\n",
      "83/83 [==============================] - 0s 253us/step - loss: 0.1023 - mean_squared_error: 0.0243 - mean_absolute_error: 0.0829 - acc: 0.9780 - val_loss: 0.5475 - val_mean_squared_error: 0.1711 - val_mean_absolute_error: 0.2895 - val_acc: 0.7569\n",
      "Epoch 42/50\n",
      "83/83 [==============================] - 0s 286us/step - loss: 0.0972 - mean_squared_error: 0.0226 - mean_absolute_error: 0.0793 - acc: 0.9810 - val_loss: 0.5663 - val_mean_squared_error: 0.1767 - val_mean_absolute_error: 0.2922 - val_acc: 0.7522\n",
      "Epoch 43/50\n",
      "83/83 [==============================] - 0s 297us/step - loss: 0.0914 - mean_squared_error: 0.0209 - mean_absolute_error: 0.0749 - acc: 0.9818 - val_loss: 0.5652 - val_mean_squared_error: 0.1757 - val_mean_absolute_error: 0.2910 - val_acc: 0.7576\n",
      "Epoch 44/50\n",
      "83/83 [==============================] - 0s 290us/step - loss: 0.0861 - mean_squared_error: 0.0192 - mean_absolute_error: 0.0713 - acc: 0.9842 - val_loss: 0.5710 - val_mean_squared_error: 0.1750 - val_mean_absolute_error: 0.2856 - val_acc: 0.7576\n",
      "Epoch 45/50\n",
      "83/83 [==============================] - 0s 280us/step - loss: 0.0809 - mean_squared_error: 0.0175 - mean_absolute_error: 0.0676 - acc: 0.9855 - val_loss: 0.5766 - val_mean_squared_error: 0.1757 - val_mean_absolute_error: 0.2837 - val_acc: 0.7569\n",
      "Epoch 46/50\n",
      "83/83 [==============================] - 0s 294us/step - loss: 0.0764 - mean_squared_error: 0.0163 - mean_absolute_error: 0.0644 - acc: 0.9867 - val_loss: 0.5713 - val_mean_squared_error: 0.1750 - val_mean_absolute_error: 0.2836 - val_acc: 0.7616\n",
      "Epoch 47/50\n",
      "83/83 [==============================] - 0s 309us/step - loss: 0.0722 - mean_squared_error: 0.0151 - mean_absolute_error: 0.0610 - acc: 0.9892 - val_loss: 0.5825 - val_mean_squared_error: 0.1753 - val_mean_absolute_error: 0.2812 - val_acc: 0.7624\n",
      "Epoch 48/50\n",
      "83/83 [==============================] - 0s 256us/step - loss: 0.0670 - mean_squared_error: 0.0132 - mean_absolute_error: 0.0574 - acc: 0.9917 - val_loss: 0.5932 - val_mean_squared_error: 0.1756 - val_mean_absolute_error: 0.2778 - val_acc: 0.7624\n",
      "Epoch 49/50\n",
      "83/83 [==============================] - 0s 277us/step - loss: 0.0653 - mean_squared_error: 0.0130 - mean_absolute_error: 0.0559 - acc: 0.9916 - val_loss: 0.5915 - val_mean_squared_error: 0.1760 - val_mean_absolute_error: 0.2779 - val_acc: 0.7647\n",
      "Epoch 50/50\n",
      "83/83 [==============================] - 0s 266us/step - loss: 0.0618 - mean_squared_error: 0.0120 - mean_absolute_error: 0.0533 - acc: 0.9919 - val_loss: 0.5969 - val_mean_squared_error: 0.1742 - val_mean_absolute_error: 0.2729 - val_acc: 0.7694\n"
     ]
    }
   ],
   "source": [
    "callbacks = []\n",
    "callbacks = [TensorBoard(log_dir=config.tmp_log_dir)]\n",
    "vs = 1/6\n",
    "m = 100\n",
    "# model.fit(x_train, y_train, epochs=epochs, batch_size=batch_size, callbacks=[TensorBoard(log_dir=config.tmp_log_dir)])\n",
    "history = model.fit(x_train[:m],x_train[:m], epochs=epochs, batch_size=batch_size,\n",
    "          validation_split=vs, callbacks=callbacks)"
   ]
  },
  {
   "cell_type": "code",
   "execution_count": 101,
   "metadata": {},
   "outputs": [
    {
     "data": {
      "text/plain": [
       "[<matplotlib.lines.Line2D at 0x13bc35da0>]"
      ]
     },
     "execution_count": 101,
     "metadata": {},
     "output_type": "execute_result"
    },
    {
     "data": {
      "image/png": "[encoded data removed]",
      "text/plain": [
       "<matplotlib.figure.Figure at 0x13bc352b0>"
      ]
     },
     "metadata": {},
     "output_type": "display_data"
    }
   ],
   "source": [
    "plt.plot(history.history['loss'])\n",
    "plt.plot(history.history['val_loss'])"
   ]
  },
  {
   "cell_type": "code",
   "execution_count": 102,
   "metadata": {},
   "outputs": [
    {
     "data": {
      "text/plain": [
       "[<matplotlib.lines.Line2D at 0x13bc35320>]"
      ]
     },
     "execution_count": 102,
     "metadata": {},
     "output_type": "execute_result"
    },
    {
     "data": {
      "image/png": "[encoded data removed]",
      "text/plain": [
       "<matplotlib.figure.Figure at 0x13bc35240>"
      ]
     },
     "metadata": {},
     "output_type": "display_data"
    }
   ],
   "source": [
    "plt.plot(history.history['acc'])\n",
    "plt.plot(history.history['val_acc'])"
   ]
  },
  {
   "cell_type": "code",
   "execution_count": null,
   "metadata": {},
   "outputs": [],
   "source": []
  },
  {
   "cell_type": "code",
   "execution_count": 35,
   "metadata": {},
   "outputs": [
    {
     "data": {
      "text/plain": [
       "[<matplotlib.lines.Line2D at 0x1264e7940>]"
      ]
     },
     "execution_count": 35,
     "metadata": {},
     "output_type": "execute_result"
    },
    {
     "data": {
      "image/png": "[encoded data removed]",
      "text/plain": [
       "<matplotlib.figure.Figure at 0x1265b2470>"
      ]
     },
     "metadata": {},
     "output_type": "display_data"
    }
   ],
   "source": [
    "plt.plot(x_train[0,:100,:])"
   ]
  },
  {
   "cell_type": "code",
   "execution_count": 19,
   "metadata": {},
   "outputs": [
    {
     "ename": "NameError",
     "evalue": "name 'result' is not defined",
     "output_type": "error",
     "traceback": [
      "\u001b[0;31m---------------------------------------------------------------------------\u001b[0m",
      "\u001b[0;31mNameError\u001b[0m                                 Traceback (most recent call last)",
      "\u001b[0;32m<ipython-input-19-4a99d8abe300>\u001b[0m in \u001b[0;36m<module>\u001b[0;34m()\u001b[0m\n\u001b[0;32m----> 1\u001b[0;31m \u001b[0mresult\u001b[0m\u001b[0;34m.\u001b[0m\u001b[0mshape\u001b[0m\u001b[0;34m\u001b[0m\u001b[0m\n\u001b[0m",
      "\u001b[0;31mNameError\u001b[0m: name 'result' is not defined"
     ]
    }
   ],
   "source": [
    "result.shape"
   ]
  },
  {
   "cell_type": "code",
   "execution_count": null,
   "metadata": {},
   "outputs": [],
   "source": [
    "n1 = 30\n",
    "i = 0\n",
    "plt.subplot(211)\n",
    "plt.plot(np.arange(n1), results[i][:n1])\n",
    "plt.plot([0.5] * n1) # midi.MIDI_NOISE_FLOOR\n",
    "plt.ylim(ymin=0, ymax=1)\n",
    "plt.subplot(212)\n",
    "\n",
    "plt.plot(np.arange(n1), x_train[i, :n1])\n",
    "plt.plot([0.5] * n1) # midi.MIDI_NOISE_FLOOR\n",
    "plt.ylim(ymin=0, ymax=1)"
   ]
  },
  {
   "cell_type": "code",
   "execution_count": null,
   "metadata": {},
   "outputs": [],
   "source": []
  },
  {
   "cell_type": "code",
   "execution_count": null,
   "metadata": {},
   "outputs": [],
   "source": []
  },
  {
   "cell_type": "code",
   "execution_count": null,
   "metadata": {},
   "outputs": [],
   "source": []
  },
  {
   "cell_type": "code",
   "execution_count": null,
   "metadata": {},
   "outputs": [],
   "source": [
    "mid = midi.decode_track(context, result)\n",
    "dn = config.dataset_dir\n",
    "# io.export_midifile(mid, dn + 'song_seq-seq.mid')"
   ]
  },
  {
   "cell_type": "code",
   "execution_count": null,
   "metadata": {},
   "outputs": [],
   "source": [
    "results = []\n",
    "latent_samples = []\n",
    "for seq in x_test[-2:]:\n",
    "    encoded = encode_sequence(np.stack([seq]))\n",
    "    latent_samples.append(encoded)\n",
    "    result = decode_sequence(encoded, encoder_model, decoder_model)\n",
    "    results.append(result)\n",
    "results[0].shape"
   ]
  },
  {
   "cell_type": "code",
   "execution_count": null,
   "metadata": {},
   "outputs": [],
   "source": [
    "len(encoded)"
   ]
  },
  {
   "cell_type": "code",
   "execution_count": null,
   "metadata": {},
   "outputs": [],
   "source": [
    "encoded[0].shape"
   ]
  },
  {
   "cell_type": "code",
   "execution_count": null,
   "metadata": {},
   "outputs": [],
   "source": [
    "plt.plot(encoded[0][0,:10])\n",
    "plt.plot(encoded[1][0,:10])"
   ]
  },
  {
   "cell_type": "code",
   "execution_count": null,
   "metadata": {},
   "outputs": [],
   "source": [
    "e = np.array(latent_samples)\n",
    "e.shape"
   ]
  },
  {
   "cell_type": "code",
   "execution_count": null,
   "metadata": {},
   "outputs": [],
   "source": [
    "# reduce dimensionality\n",
    "# e = e.reshape(e.shape[0],2,e.shape[-1])\n",
    "e.shape"
   ]
  },
  {
   "cell_type": "code",
   "execution_count": null,
   "metadata": {},
   "outputs": [],
   "source": [
    "e1.mean(axis=0).shape"
   ]
  },
  {
   "cell_type": "code",
   "execution_count": null,
   "metadata": {},
   "outputs": [],
   "source": [
    "# new = e.transpose().mean(axis=1).transpose()\n",
    "e1 = e[:,0] # state h\n",
    "e2 = e[:,1] # state c\n",
    "new = [e1.mean(axis=0), e2.mean(axis=0)]\n",
    "# new = [[e[:,i].mean(axis=0)] for i in [0,1]]\n",
    "plt.plot(new[0][0][:10])\n",
    "len(new)"
   ]
  },
  {
   "cell_type": "code",
   "execution_count": null,
   "metadata": {},
   "outputs": [],
   "source": [
    "e1.mean(axis=0).shape"
   ]
  },
  {
   "cell_type": "code",
   "execution_count": null,
   "metadata": {},
   "outputs": [],
   "source": [
    "l[0].shape"
   ]
  },
  {
   "cell_type": "code",
   "execution_count": null,
   "metadata": {},
   "outputs": [],
   "source": [
    "l = latent_samples[0]\n",
    "len(l) # latent_sample :: (x,1,64)"
   ]
  },
  {
   "cell_type": "code",
   "execution_count": null,
   "metadata": {},
   "outputs": [],
   "source": [
    "# new_ = decode_sequence(latent_samples[0], encoder_model, decoder_model)\n",
    "new_ = decode_sequence(new, encoder_model, decoder_model)"
   ]
  },
  {
   "cell_type": "code",
   "execution_count": null,
   "metadata": {},
   "outputs": [],
   "source": [
    "new_.shape"
   ]
  },
  {
   "cell_type": "code",
   "execution_count": null,
   "metadata": {},
   "outputs": [],
   "source": [
    "plt.plot(new_[:100])"
   ]
  },
  {
   "cell_type": "code",
   "execution_count": null,
   "metadata": {},
   "outputs": [],
   "source": [
    "plt.plot(results[0][:100])"
   ]
  },
  {
   "cell_type": "code",
   "execution_count": null,
   "metadata": {},
   "outputs": [],
   "source": [
    "# results[0]"
   ]
  },
  {
   "cell_type": "code",
   "execution_count": null,
   "metadata": {},
   "outputs": [],
   "source": [
    "mid_new = midi.decode_track(context, results[0])\n",
    "io.export_midifile(mid_new, config.export_dir + 'real_mid_new_lstm.mid')"
   ]
  },
  {
   "cell_type": "code",
   "execution_count": null,
   "metadata": {},
   "outputs": [],
   "source": []
  },
  {
   "cell_type": "code",
   "execution_count": null,
   "metadata": {},
   "outputs": [],
   "source": []
  },
  {
   "cell_type": "code",
   "execution_count": null,
   "metadata": {},
   "outputs": [],
   "source": []
  },
  {
   "cell_type": "code",
   "execution_count": null,
   "metadata": {},
   "outputs": [],
   "source": []
  },
  {
   "cell_type": "code",
   "execution_count": null,
   "metadata": {},
   "outputs": [],
   "source": []
  },
  {
   "cell_type": "code",
   "execution_count": null,
   "metadata": {},
   "outputs": [],
   "source": []
  },
  {
   "cell_type": "code",
   "execution_count": null,
   "metadata": {},
   "outputs": [],
   "source": []
  },
  {
   "cell_type": "code",
   "execution_count": null,
   "metadata": {},
   "outputs": [],
   "source": []
  },
  {
   "cell_type": "code",
   "execution_count": null,
   "metadata": {},
   "outputs": [],
   "source": []
  },
  {
   "cell_type": "code",
   "execution_count": null,
   "metadata": {},
   "outputs": [],
   "source": []
  },
  {
   "cell_type": "code",
   "execution_count": null,
   "metadata": {},
   "outputs": [],
   "source": []
  },
  {
   "cell_type": "code",
   "execution_count": null,
   "metadata": {},
   "outputs": [],
   "source": []
  },
  {
   "cell_type": "code",
   "execution_count": null,
   "metadata": {},
   "outputs": [],
   "source": [
    "x_test.shape"
   ]
  },
  {
   "cell_type": "code",
   "execution_count": null,
   "metadata": {},
   "outputs": [],
   "source": [
    "# x_test, y_test = gen_xy_sin_to_f(3, f=2)"
   ]
  },
  {
   "cell_type": "code",
   "execution_count": null,
   "metadata": {
    "scrolled": true
   },
   "outputs": [],
   "source": [
    "results = model.predict([x_test,x_test])\n",
    "results.shape"
   ]
  },
  {
   "cell_type": "code",
   "execution_count": null,
   "metadata": {},
   "outputs": [],
   "source": [
    "# the 'true' results\n",
    "i = 0\n",
    "selection = int(x_test.shape[1] * 1)\n",
    "full = np.concatenate([x_test[i,-selection:],y_test[i]])\n",
    "n3 = full.shape[0]\n",
    "plt.plot(np.arange(n3) / n3 * dt, full)"
   ]
  },
  {
   "cell_type": "code",
   "execution_count": null,
   "metadata": {},
   "outputs": [],
   "source": [
    "# predicted results\n",
    "i = 0\n",
    "full = np.concatenate([x_test[i,-selection:],results[i]])\n",
    "n3 = full.shape[0]\n",
    "plt.plot(np.arange(n3) / n3 * dt, full)"
   ]
  },
  {
   "cell_type": "code",
   "execution_count": null,
   "metadata": {},
   "outputs": [],
   "source": [
    "i = 2\n",
    "selection = int(x_test.shape[1] * 1)\n",
    "full = np.concatenate([x_test[i,-selection:],results[i]])\n",
    "n3 = full.shape[0]\n",
    "plt.plot(np.arange(n3) / n3 * dt, full)"
   ]
  },
  {
   "cell_type": "code",
   "execution_count": null,
   "metadata": {},
   "outputs": [],
   "source": [
    "i = 0\n",
    "selection = 1\n",
    "full = np.concatenate([x_test[i,-selection:],results[i]])\n",
    "n3 = full.shape[0]\n",
    "plt.plot(np.arange(n3) / n3 * dt, full)"
   ]
  },
  {
   "cell_type": "code",
   "execution_count": null,
   "metadata": {},
   "outputs": [],
   "source": []
  },
  {
   "cell_type": "code",
   "execution_count": null,
   "metadata": {},
   "outputs": [],
   "source": []
  },
  {
   "cell_type": "code",
   "execution_count": null,
   "metadata": {},
   "outputs": [],
   "source": []
  },
  {
   "cell_type": "code",
   "execution_count": null,
   "metadata": {},
   "outputs": [],
   "source": []
  },
  {
   "cell_type": "code",
   "execution_count": null,
   "metadata": {},
   "outputs": [],
   "source": []
  },
  {
   "cell_type": "code",
   "execution_count": null,
   "metadata": {},
   "outputs": [],
   "source": []
  }
 ],
 "metadata": {
  "kernelspec": {
   "display_name": "Python 3",
   "language": "python",
   "name": "python3"
  },
  "language_info": {
   "codemirror_mode": {
    "name": "ipython",
    "version": 3
   },
   "file_extension": ".py",
   "mimetype": "text/x-python",
   "name": "python",
   "nbconvert_exporter": "python",
   "pygments_lexer": "ipython3",
   "version": "3.6.4"
  }
 },
 "nbformat": 4,
 "nbformat_minor": 2
}
