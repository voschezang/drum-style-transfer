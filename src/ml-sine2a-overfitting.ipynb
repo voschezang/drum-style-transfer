{
 "cells": [
  {
   "cell_type": "code",
   "execution_count": 1,
   "metadata": {},
   "outputs": [],
   "source": [
    "import config\n",
    "import os, numpy as np, pandas, sklearn\n",
    "import mido\n",
    "import matplotlib.pyplot as plt\n",
    "%matplotlib inline"
   ]
  },
  {
   "cell_type": "code",
   "execution_count": 2,
   "metadata": {},
   "outputs": [
    {
     "name": "stderr",
     "output_type": "stream",
     "text": [
      "/Library/Frameworks/Python.framework/Versions/3.6/lib/python3.6/site-packages/h5py/__init__.py:36: FutureWarning: Conversion of the second argument of issubdtype from `float` to `np.floating` is deprecated. In future, it will be treated as `np.float64 == np.dtype(float).type`.\n",
      "  from ._conv import register_converters as _register_converters\n",
      "Using TensorFlow backend.\n"
     ]
    }
   ],
   "source": [
    "## NN libs\n",
    "from sklearn.decomposition import PCA\n",
    "from sklearn import preprocessing\n",
    "from sklearn.preprocessing import RobustScaler\n",
    "import keras\n",
    "from keras import regularizers\n",
    "from keras.utils import to_categorical\n",
    "from keras.models import Sequential\n",
    "from keras.optimizers import SGD, Adam\n",
    "from keras.layers import Input, Dense, Activation, Conv1D, Conv2D, Dropout, Flatten\n",
    "from keras.layers import Conv2DTranspose, Reshape, MaxPooling2D, UpSampling2D, UpSampling1D, MaxPooling1D\n",
    "from keras.layers import LocallyConnected1D, LocallyConnected2D\n",
    "from keras.layers import Input, LSTM, RepeatVector\n",
    "from keras.models import Model\n",
    "from keras.callbacks import TensorBoard"
   ]
  },
  {
   "cell_type": "code",
   "execution_count": 3,
   "metadata": {},
   "outputs": [
    {
     "name": "stdout",
     "output_type": "stream",
     "text": [
      " Context :: namedtuple(\n",
      "[ max_t = float\n",
      ", dt = float\n",
      ", n_instances = int\n",
      ", note_length = int\n",
      ", bpm = float\n",
      ", tempo = float\n",
      ", ticks_per_beat = int\n",
      "]\n",
      "\n"
     ]
    }
   ],
   "source": [
    "# local libs\n",
    "import config, models, functions\n",
    "from data import data, midi, midi_generators as g\n",
    "from utils import io, models_io"
   ]
  },
  {
   "cell_type": "code",
   "execution_count": 4,
   "metadata": {
    "scrolled": true
   },
   "outputs": [
    {
     "name": "stdout",
     "output_type": "stream",
     "text": [
      "Setting up params\n",
      "\n",
      " >> Context(max_t=3.0, dt=0.1, n_instances=30, note_length=0.03, bpm=120.0, tempo=500000, ticks_per_beat=480)\n"
     ]
    }
   ],
   "source": [
    "context = data.init()"
   ]
  },
  {
   "cell_type": "code",
   "execution_count": 5,
   "metadata": {},
   "outputs": [],
   "source": [
    "# fn = (config.dataset_dir + '4-floor-120bpm.mid')\n",
    "# mid = io.import_midifile(fn)"
   ]
  },
  {
   "cell_type": "markdown",
   "metadata": {},
   "source": [
    "## Setup a generator\n",
    "\n",
    "1. What is the least amount of 'hidden' nodes needed to learn a straight rythm (e.g. 8th notes with different frequencies)\n",
    "2. Can we create a model of a generic function sin(2 pi f t + phase)\n",
    "    - using x: t -> y: sin(2p t)\n",
    "    - using x: [f, t, phase] -> y: sin(2p f t + phase)\n",
    "    - using x: sin([t1, t2, t3) -> y: [f, t, phase]\n",
    "        - such a model should be able to learn complex patterns, such as sin(f1+p1) + sin(f2+p2) + sin(f3+p3)"
   ]
  },
  {
   "cell_type": "markdown",
   "metadata": {},
   "source": [
    "Here - decoder: x -> sin(x)"
   ]
  },
  {
   "cell_type": "code",
   "execution_count": 6,
   "metadata": {},
   "outputs": [],
   "source": [
    "def gen_xy(n=100):\n",
    "    x = np.random.random([n,1,1]) # e.g. sin(y) + cos(x)\n",
    "    return x, np.sin(x * np.pi * 2)\n",
    "\n",
    "def gen_xy2(n=10):\n",
    "    x_train = np.random.random((n,1))\n",
    "    y = x_train > 0.5\n",
    "    y_train = []\n",
    "    for yy in y:\n",
    "        if yy:\n",
    "            y_train.append([1,0])\n",
    "        else:\n",
    "            y_train.append([0,1])\n",
    "    return x_train, np.stack(y_train)\n",
    "    \n",
    "def gen_xy3(n=100):\n",
    "    # x -> sin(x)\n",
    "    x_train = np.random.random((n,1))\n",
    "    #     y_train = x_train ** 2\n",
    "    range_ = 1 # 0.5\n",
    "    y_train = np.sin(x_train * range_ * np.pi)\n",
    "    y_train.reshape((n,1))\n",
    "    return x_train, y_train\n",
    "\n",
    "def gen_xy_sin_to_f(n=100):\n",
    "    # x_train = array (unique_samples, xs_over_t, sin_x_over_t)\n",
    "    f = 0.5 # random\n",
    "    phases = np.random.random(n)\n",
    "    x_train = []\n",
    "    y_train = []\n",
    "    for phase in phases:\n",
    "        x_train.append(sin_(100, f, phase))\n",
    "        y = [phase]\n",
    "        y_train.append(y)\n",
    "    return np.stack(x_train), np.stack(y_train)\n",
    "    \n",
    "def sin_(n, f, phase=0, dt=0.1):\n",
    "    ts = np.arange(n) * dt\n",
    "    return np.random.random() * ts\n",
    "#     return np.sin(2*np.pi * f * ts + phase)\n",
    "\n",
    "def sin_2(n, f, phase=0, dt=0.1):\n",
    "    ts = np.arange(n) * dt\n",
    "    results =  []\n",
    "    for t in ts:\n",
    "        t = np.sin(2*np.pi * f * t + phase)\n",
    "        results.append([t])\n",
    "    return np.stack(results)"
   ]
  },
  {
   "cell_type": "code",
   "execution_count": 7,
   "metadata": {},
   "outputs": [
    {
     "name": "stdout",
     "output_type": "stream",
     "text": [
      "(100, 1) (100, 1)\n"
     ]
    }
   ],
   "source": [
    "n = 100\n",
    "# x_train = np.stack([[f(p)] for p in np.random.random(n)])\n",
    "# y_train = x_train\n",
    "x_train, y_train = gen_xy3(n)\n",
    "# x_train, y_train = gen_xy3(n)\n",
    "\n",
    "x_test, y_test = gen_xy3(10)\n",
    "print(x_train.shape, y_train.shape)"
   ]
  },
  {
   "cell_type": "code",
   "execution_count": 8,
   "metadata": {},
   "outputs": [],
   "source": [
    "# x_train = np.random.random((10,3))\n",
    "# y_train = np.random.random((10,1))"
   ]
  },
  {
   "cell_type": "code",
   "execution_count": 9,
   "metadata": {},
   "outputs": [
    {
     "data": {
      "text/plain": [
       "(1,)"
      ]
     },
     "execution_count": 9,
     "metadata": {},
     "output_type": "execute_result"
    }
   ],
   "source": [
    "n_samples = x_train[0]\n",
    "input_shape = x_train.shape[1:] # shape of a single sample\n",
    "output_length = y_train.shape[1:][0]\n",
    "hidden_layer_length = 10\n",
    "input_shape"
   ]
  },
  {
   "cell_type": "code",
   "execution_count": 10,
   "metadata": {},
   "outputs": [
    {
     "data": {
      "text/plain": [
       "1"
      ]
     },
     "execution_count": 10,
     "metadata": {},
     "output_type": "execute_result"
    }
   ],
   "source": [
    "output_length"
   ]
  },
  {
   "cell_type": "code",
   "execution_count": 11,
   "metadata": {
    "scrolled": true
   },
   "outputs": [
    {
     "name": "stdout",
     "output_type": "stream",
     "text": [
      "_________________________________________________________________\n",
      "Layer (type)                 Output Shape              Param #   \n",
      "=================================================================\n",
      "input_1 (InputLayer)         (None, 1)                 0         \n",
      "_________________________________________________________________\n",
      "dense_1 (Dense)              (None, 1000)              2000      \n",
      "_________________________________________________________________\n",
      "dense_2 (Dense)              (None, 1000)              1001000   \n",
      "_________________________________________________________________\n",
      "dense_3 (Dense)              (None, 100)               100100    \n",
      "_________________________________________________________________\n",
      "dense_4 (Dense)              (None, 100)               10100     \n",
      "_________________________________________________________________\n",
      "dense_5 (Dense)              (None, 1)                 101       \n",
      "=================================================================\n",
      "Total params: 1,113,301\n",
      "Trainable params: 1,113,301\n",
      "Non-trainable params: 0\n",
      "_________________________________________________________________\n"
     ]
    }
   ],
   "source": [
    "def encoder(input_shape, output_length):\n",
    "    input_layer = Input(shape=input_shape)\n",
    "    x = input_layer\n",
    "    # increase dims to fit LSTM input\n",
    "#     dims = list(input_shape) + [1]\n",
    "#     x = Reshape(dims)(x)\n",
    "    \n",
    "#     hidden_size = 100\n",
    "#     xs = LSTM(hidden_size, return_state=True)(x)\n",
    "#     x = xs[0]\n",
    "#     print('dims x =', keras.backend.int_shape(x))\n",
    "    # x = Flatten()(x)\n",
    "    x = Dense(1000, activation='relu')(x)\n",
    "    x = Dense(1000, activation='sigmoid')(x)\n",
    "    x = Dense(100, activation='relu')(x)\n",
    "    x = Dense(100, activation='tanh')(x)\n",
    "\n",
    "    x = Dense(output_length, activation='sigmoid')(x)\n",
    "    model = Model(inputs=input_layer, outputs=x)\n",
    "    return model\n",
    "\n",
    "def decoder(input_shape, output_length):\n",
    "    input_layer = Input(shape=(1,1))\n",
    "#     input_layer = Input(shape=input_shape)\n",
    "    x = input_layer\n",
    "    hidden_size = 128\n",
    "    xs = LSTM(hidden_size, return_state=True)(x)\n",
    "    x = xs[0]\n",
    "    a, b = xs[1:]\n",
    "    dims = keras.backend.int_shape(x)\n",
    "    print('len xs =', len(xs))\n",
    "    print('dims x =', dims)\n",
    "#     x = RepeatVector(1)(x)\n",
    "#     x = LSTM(hidden_size, return_state=True)(x)\n",
    "# #     x = keras.layers.SimpleRNN(1, return_sequences = True)(x)\n",
    "# #     x = keras.layers.SimpleRNN(1)(x)\n",
    "#     x = Dense(1)(x)\n",
    "#     x = Dense(output_length, activation='sigmoid')(x)\n",
    "    model = Model(inputs=input_layer, outputs=x)\n",
    "    return model\n",
    "\n",
    "encoder = encoder(input_shape, output_length)\n",
    "encoder.summary()"
   ]
  },
  {
   "cell_type": "code",
   "execution_count": 12,
   "metadata": {},
   "outputs": [],
   "source": [
    "metrics = ['accuracy','mse','binary_crossentropy'] # sparse_categorical_accuracy\n",
    "loss = 'mae'# binary_crossentropy categorical_crossentropy sparse_categorical_crossentropy\n",
    "optimizer = 'adam'\n",
    "encoder.compile(optimizer=optimizer, loss=loss, metrics=['mse'])#, metrics=metrics)"
   ]
  },
  {
   "cell_type": "code",
   "execution_count": 13,
   "metadata": {},
   "outputs": [],
   "source": [
    "batch_size = 16\n",
    "# n epochs = n iterations over all the training data\n",
    "epochs = 90"
   ]
  },
  {
   "cell_type": "code",
   "execution_count": 14,
   "metadata": {
    "scrolled": true
   },
   "outputs": [
    {
     "name": "stdout",
     "output_type": "stream",
     "text": [
      "Train on 83 samples, validate on 17 samples\n",
      "Epoch 1/90\n",
      "83/83 [==============================] - 0s 3ms/step - loss: 0.3799 - mean_squared_error: 0.2115 - val_loss: 0.2295 - val_mean_squared_error: 0.0975\n",
      "Epoch 2/90\n",
      "83/83 [==============================] - 0s 2ms/step - loss: 0.3055 - mean_squared_error: 0.1429 - val_loss: 0.2388 - val_mean_squared_error: 0.0831\n",
      "Epoch 3/90\n",
      "83/83 [==============================] - 0s 2ms/step - loss: 0.2857 - mean_squared_error: 0.1159 - val_loss: 0.2369 - val_mean_squared_error: 0.0822\n",
      "Epoch 4/90\n",
      "83/83 [==============================] - 0s 2ms/step - loss: 0.2896 - mean_squared_error: 0.1123 - val_loss: 0.3008 - val_mean_squared_error: 0.1210\n",
      "Epoch 5/90\n",
      "83/83 [==============================] - 0s 2ms/step - loss: 0.2906 - mean_squared_error: 0.1093 - val_loss: 0.2425 - val_mean_squared_error: 0.0854\n",
      "Epoch 6/90\n",
      "83/83 [==============================] - 0s 2ms/step - loss: 0.2865 - mean_squared_error: 0.1196 - val_loss: 0.2289 - val_mean_squared_error: 0.0822\n",
      "Epoch 7/90\n",
      "83/83 [==============================] - 0s 2ms/step - loss: 0.2814 - mean_squared_error: 0.1145 - val_loss: 0.2528 - val_mean_squared_error: 0.0911\n",
      "Epoch 8/90\n",
      "83/83 [==============================] - 0s 2ms/step - loss: 0.2785 - mean_squared_error: 0.1027 - val_loss: 0.2575 - val_mean_squared_error: 0.0946\n",
      "Epoch 9/90\n",
      "83/83 [==============================] - 0s 2ms/step - loss: 0.2811 - mean_squared_error: 0.1032 - val_loss: 0.2664 - val_mean_squared_error: 0.1002\n",
      "Epoch 10/90\n",
      "83/83 [==============================] - 0s 2ms/step - loss: 0.2837 - mean_squared_error: 0.1073 - val_loss: 0.2297 - val_mean_squared_error: 0.0805\n",
      "Epoch 11/90\n",
      "83/83 [==============================] - 0s 2ms/step - loss: 0.2862 - mean_squared_error: 0.1189 - val_loss: 0.2320 - val_mean_squared_error: 0.0805\n",
      "Epoch 12/90\n",
      "83/83 [==============================] - 0s 2ms/step - loss: 0.2784 - mean_squared_error: 0.1076 - val_loss: 0.2496 - val_mean_squared_error: 0.0888\n",
      "Epoch 13/90\n",
      "83/83 [==============================] - 0s 2ms/step - loss: 0.2818 - mean_squared_error: 0.1027 - val_loss: 0.2725 - val_mean_squared_error: 0.1044\n",
      "Epoch 14/90\n",
      "83/83 [==============================] - 0s 2ms/step - loss: 0.2837 - mean_squared_error: 0.1045 - val_loss: 0.2601 - val_mean_squared_error: 0.0958\n",
      "Epoch 15/90\n",
      "83/83 [==============================] - 0s 2ms/step - loss: 0.2823 - mean_squared_error: 0.1029 - val_loss: 0.2597 - val_mean_squared_error: 0.0955\n",
      "Epoch 16/90\n",
      "83/83 [==============================] - 0s 2ms/step - loss: 0.2752 - mean_squared_error: 0.1016 - val_loss: 0.2333 - val_mean_squared_error: 0.0803\n",
      "Epoch 17/90\n",
      "83/83 [==============================] - 0s 3ms/step - loss: 0.2870 - mean_squared_error: 0.1218 - val_loss: 0.2257 - val_mean_squared_error: 0.0805\n",
      "Epoch 18/90\n",
      "83/83 [==============================] - 0s 3ms/step - loss: 0.2838 - mean_squared_error: 0.1178 - val_loss: 0.2358 - val_mean_squared_error: 0.0811\n",
      "Epoch 19/90\n",
      "83/83 [==============================] - 0s 2ms/step - loss: 0.2769 - mean_squared_error: 0.1046 - val_loss: 0.2495 - val_mean_squared_error: 0.0885\n",
      "Epoch 20/90\n",
      "83/83 [==============================] - 0s 2ms/step - loss: 0.2757 - mean_squared_error: 0.1022 - val_loss: 0.2395 - val_mean_squared_error: 0.0827\n",
      "Epoch 21/90\n",
      "83/83 [==============================] - 0s 2ms/step - loss: 0.2801 - mean_squared_error: 0.1122 - val_loss: 0.2294 - val_mean_squared_error: 0.0780\n",
      "Epoch 22/90\n",
      "83/83 [==============================] - 0s 2ms/step - loss: 0.2777 - mean_squared_error: 0.1050 - val_loss: 0.2451 - val_mean_squared_error: 0.0853\n",
      "Epoch 23/90\n",
      "83/83 [==============================] - 0s 2ms/step - loss: 0.2736 - mean_squared_error: 0.1034 - val_loss: 0.2276 - val_mean_squared_error: 0.0762\n",
      "Epoch 24/90\n",
      "83/83 [==============================] - 0s 2ms/step - loss: 0.2782 - mean_squared_error: 0.1116 - val_loss: 0.2263 - val_mean_squared_error: 0.0751\n",
      "Epoch 25/90\n",
      "83/83 [==============================] - 0s 2ms/step - loss: 0.2778 - mean_squared_error: 0.1067 - val_loss: 0.2572 - val_mean_squared_error: 0.0915\n",
      "Epoch 26/90\n",
      "83/83 [==============================] - 0s 2ms/step - loss: 0.2750 - mean_squared_error: 0.0994 - val_loss: 0.2503 - val_mean_squared_error: 0.0869\n",
      "Epoch 27/90\n",
      "83/83 [==============================] - 0s 2ms/step - loss: 0.2701 - mean_squared_error: 0.0984 - val_loss: 0.2262 - val_mean_squared_error: 0.0727\n",
      "Epoch 28/90\n",
      "83/83 [==============================] - 0s 2ms/step - loss: 0.2635 - mean_squared_error: 0.0997 - val_loss: 0.2166 - val_mean_squared_error: 0.0666\n",
      "Epoch 29/90\n",
      "83/83 [==============================] - 0s 2ms/step - loss: 0.2694 - mean_squared_error: 0.0984 - val_loss: 0.2313 - val_mean_squared_error: 0.0716\n",
      "Epoch 30/90\n",
      "83/83 [==============================] - 0s 2ms/step - loss: 0.2571 - mean_squared_error: 0.0981 - val_loss: 0.1893 - val_mean_squared_error: 0.0542\n",
      "Epoch 31/90\n",
      "83/83 [==============================] - 0s 2ms/step - loss: 0.2519 - mean_squared_error: 0.0933 - val_loss: 0.2513 - val_mean_squared_error: 0.0739\n",
      "Epoch 32/90\n",
      "83/83 [==============================] - 0s 2ms/step - loss: 0.2589 - mean_squared_error: 0.0882 - val_loss: 0.1855 - val_mean_squared_error: 0.0498\n",
      "Epoch 33/90\n",
      "83/83 [==============================] - 0s 2ms/step - loss: 0.2597 - mean_squared_error: 0.1055 - val_loss: 0.1897 - val_mean_squared_error: 0.0571\n",
      "Epoch 34/90\n",
      "83/83 [==============================] - 0s 2ms/step - loss: 0.2495 - mean_squared_error: 0.0967 - val_loss: 0.2306 - val_mean_squared_error: 0.0610\n",
      "Epoch 35/90\n",
      "83/83 [==============================] - 0s 2ms/step - loss: 0.2420 - mean_squared_error: 0.0814 - val_loss: 0.1682 - val_mean_squared_error: 0.0396\n",
      "Epoch 36/90\n",
      "83/83 [==============================] - 0s 2ms/step - loss: 0.2555 - mean_squared_error: 0.1060 - val_loss: 0.1511 - val_mean_squared_error: 0.0351\n",
      "Epoch 37/90\n",
      "83/83 [==============================] - 0s 2ms/step - loss: 0.2216 - mean_squared_error: 0.0777 - val_loss: 0.2419 - val_mean_squared_error: 0.0633\n",
      "Epoch 38/90\n",
      "83/83 [==============================] - 0s 2ms/step - loss: 0.2268 - mean_squared_error: 0.0854 - val_loss: 0.1275 - val_mean_squared_error: 0.0269\n",
      "Epoch 39/90\n",
      "83/83 [==============================] - 0s 2ms/step - loss: 0.2226 - mean_squared_error: 0.0831 - val_loss: 0.1657 - val_mean_squared_error: 0.0304\n",
      "Epoch 40/90\n",
      "83/83 [==============================] - 0s 2ms/step - loss: 0.2096 - mean_squared_error: 0.0818 - val_loss: 0.1033 - val_mean_squared_error: 0.0186\n",
      "Epoch 41/90\n",
      "83/83 [==============================] - 0s 2ms/step - loss: 0.2076 - mean_squared_error: 0.0846 - val_loss: 0.1395 - val_mean_squared_error: 0.0221\n",
      "Epoch 42/90\n",
      "83/83 [==============================] - 0s 2ms/step - loss: 0.1902 - mean_squared_error: 0.0715 - val_loss: 0.1310 - val_mean_squared_error: 0.0214\n",
      "Epoch 43/90\n",
      "83/83 [==============================] - 0s 2ms/step - loss: 0.1757 - mean_squared_error: 0.0581 - val_loss: 0.1447 - val_mean_squared_error: 0.0262\n",
      "Epoch 44/90\n",
      "83/83 [==============================] - 0s 2ms/step - loss: 0.1738 - mean_squared_error: 0.0514 - val_loss: 0.1380 - val_mean_squared_error: 0.0220\n",
      "Epoch 45/90\n",
      "83/83 [==============================] - 0s 2ms/step - loss: 0.1865 - mean_squared_error: 0.0493 - val_loss: 0.1098 - val_mean_squared_error: 0.0141\n",
      "Epoch 46/90\n",
      "83/83 [==============================] - 0s 2ms/step - loss: 0.2031 - mean_squared_error: 0.0711 - val_loss: 0.1767 - val_mean_squared_error: 0.0365\n",
      "Epoch 47/90\n",
      "83/83 [==============================] - 0s 2ms/step - loss: 0.2383 - mean_squared_error: 0.0720 - val_loss: 0.1386 - val_mean_squared_error: 0.0238\n",
      "Epoch 48/90\n",
      "83/83 [==============================] - 0s 2ms/step - loss: 0.1665 - mean_squared_error: 0.0598 - val_loss: 0.0719 - val_mean_squared_error: 0.0093\n",
      "Epoch 49/90\n",
      "83/83 [==============================] - 0s 2ms/step - loss: 0.1520 - mean_squared_error: 0.0419 - val_loss: 0.0819 - val_mean_squared_error: 0.0091\n",
      "Epoch 50/90\n",
      "83/83 [==============================] - 0s 2ms/step - loss: 0.1053 - mean_squared_error: 0.0198 - val_loss: 0.0837 - val_mean_squared_error: 0.0082\n",
      "Epoch 51/90\n",
      "83/83 [==============================] - 0s 2ms/step - loss: 0.1108 - mean_squared_error: 0.0206 - val_loss: 0.1103 - val_mean_squared_error: 0.0158\n"
     ]
    },
    {
     "name": "stdout",
     "output_type": "stream",
     "text": [
      "Epoch 52/90\n",
      "83/83 [==============================] - 0s 2ms/step - loss: 0.0943 - mean_squared_error: 0.0152 - val_loss: 0.0908 - val_mean_squared_error: 0.0115\n",
      "Epoch 53/90\n",
      "83/83 [==============================] - 0s 2ms/step - loss: 0.1004 - mean_squared_error: 0.0131 - val_loss: 0.0672 - val_mean_squared_error: 0.0063\n",
      "Epoch 54/90\n",
      "83/83 [==============================] - 0s 2ms/step - loss: 0.1087 - mean_squared_error: 0.0190 - val_loss: 0.1150 - val_mean_squared_error: 0.0196\n",
      "Epoch 55/90\n",
      "83/83 [==============================] - 0s 2ms/step - loss: 0.1775 - mean_squared_error: 0.0514 - val_loss: 0.0901 - val_mean_squared_error: 0.0154\n",
      "Epoch 56/90\n",
      "83/83 [==============================] - 0s 2ms/step - loss: 0.0927 - mean_squared_error: 0.0148 - val_loss: 0.1174 - val_mean_squared_error: 0.0204\n",
      "Epoch 57/90\n",
      "83/83 [==============================] - 0s 2ms/step - loss: 0.1529 - mean_squared_error: 0.0351 - val_loss: 0.0758 - val_mean_squared_error: 0.0088\n",
      "Epoch 58/90\n",
      "83/83 [==============================] - 0s 2ms/step - loss: 0.0832 - mean_squared_error: 0.0105 - val_loss: 0.1029 - val_mean_squared_error: 0.0156\n",
      "Epoch 59/90\n",
      "83/83 [==============================] - 0s 2ms/step - loss: 0.0791 - mean_squared_error: 0.0107 - val_loss: 0.1671 - val_mean_squared_error: 0.0423\n",
      "Epoch 60/90\n",
      "83/83 [==============================] - 0s 2ms/step - loss: 0.1015 - mean_squared_error: 0.0187 - val_loss: 0.0968 - val_mean_squared_error: 0.0139\n",
      "Epoch 61/90\n",
      "83/83 [==============================] - 0s 2ms/step - loss: 0.0708 - mean_squared_error: 0.0074 - val_loss: 0.0749 - val_mean_squared_error: 0.0069\n",
      "Epoch 62/90\n",
      "83/83 [==============================] - 0s 2ms/step - loss: 0.0664 - mean_squared_error: 0.0066 - val_loss: 0.0378 - val_mean_squared_error: 0.0025\n",
      "Epoch 63/90\n",
      "83/83 [==============================] - 0s 2ms/step - loss: 0.0504 - mean_squared_error: 0.0045 - val_loss: 0.0724 - val_mean_squared_error: 0.0087\n",
      "Epoch 64/90\n",
      "83/83 [==============================] - 0s 2ms/step - loss: 0.0479 - mean_squared_error: 0.0039 - val_loss: 0.0633 - val_mean_squared_error: 0.0058\n",
      "Epoch 65/90\n",
      "83/83 [==============================] - 0s 2ms/step - loss: 0.0436 - mean_squared_error: 0.0030 - val_loss: 0.0388 - val_mean_squared_error: 0.0023\n",
      "Epoch 66/90\n",
      "83/83 [==============================] - 0s 2ms/step - loss: 0.0421 - mean_squared_error: 0.0030 - val_loss: 0.0353 - val_mean_squared_error: 0.0019\n",
      "Epoch 67/90\n",
      "83/83 [==============================] - 0s 2ms/step - loss: 0.0376 - mean_squared_error: 0.0022 - val_loss: 0.0330 - val_mean_squared_error: 0.0017\n",
      "Epoch 68/90\n",
      "83/83 [==============================] - 0s 2ms/step - loss: 0.0358 - mean_squared_error: 0.0020 - val_loss: 0.0643 - val_mean_squared_error: 0.0056\n",
      "Epoch 69/90\n",
      "83/83 [==============================] - 0s 2ms/step - loss: 0.0471 - mean_squared_error: 0.0032 - val_loss: 0.0630 - val_mean_squared_error: 0.0057\n",
      "Epoch 70/90\n",
      "83/83 [==============================] - 0s 2ms/step - loss: 0.0441 - mean_squared_error: 0.0034 - val_loss: 0.0367 - val_mean_squared_error: 0.0025\n",
      "Epoch 71/90\n",
      "83/83 [==============================] - 0s 2ms/step - loss: 0.0387 - mean_squared_error: 0.0023 - val_loss: 0.0683 - val_mean_squared_error: 0.0071\n",
      "Epoch 72/90\n",
      "83/83 [==============================] - 0s 2ms/step - loss: 0.0621 - mean_squared_error: 0.0063 - val_loss: 0.1274 - val_mean_squared_error: 0.0245\n",
      "Epoch 73/90\n",
      "83/83 [==============================] - 0s 2ms/step - loss: 0.0839 - mean_squared_error: 0.0116 - val_loss: 0.1202 - val_mean_squared_error: 0.0198\n",
      "Epoch 74/90\n",
      "83/83 [==============================] - 0s 2ms/step - loss: 0.0665 - mean_squared_error: 0.0075 - val_loss: 0.0617 - val_mean_squared_error: 0.0052\n",
      "Epoch 75/90\n",
      "83/83 [==============================] - 0s 2ms/step - loss: 0.0499 - mean_squared_error: 0.0041 - val_loss: 0.0304 - val_mean_squared_error: 0.0017\n",
      "Epoch 76/90\n",
      "83/83 [==============================] - 0s 2ms/step - loss: 0.0462 - mean_squared_error: 0.0030 - val_loss: 0.0335 - val_mean_squared_error: 0.0019\n",
      "Epoch 77/90\n",
      "83/83 [==============================] - 0s 2ms/step - loss: 0.0327 - mean_squared_error: 0.0017 - val_loss: 0.0424 - val_mean_squared_error: 0.0033\n",
      "Epoch 78/90\n",
      "83/83 [==============================] - 0s 2ms/step - loss: 0.0391 - mean_squared_error: 0.0026 - val_loss: 0.0646 - val_mean_squared_error: 0.0070\n",
      "Epoch 79/90\n",
      "83/83 [==============================] - 0s 2ms/step - loss: 0.0446 - mean_squared_error: 0.0034 - val_loss: 0.0270 - val_mean_squared_error: 0.0013\n",
      "Epoch 80/90\n",
      "83/83 [==============================] - 0s 2ms/step - loss: 0.0253 - mean_squared_error: 0.0012 - val_loss: 0.0250 - val_mean_squared_error: 0.0012\n",
      "Epoch 81/90\n",
      "83/83 [==============================] - 0s 2ms/step - loss: 0.0244 - mean_squared_error: 9.2549e-04 - val_loss: 0.0312 - val_mean_squared_error: 0.0016\n",
      "Epoch 82/90\n",
      "83/83 [==============================] - 0s 2ms/step - loss: 0.0283 - mean_squared_error: 0.0014 - val_loss: 0.0433 - val_mean_squared_error: 0.0026\n",
      "Epoch 83/90\n",
      "83/83 [==============================] - 0s 2ms/step - loss: 0.0407 - mean_squared_error: 0.0025 - val_loss: 0.0268 - val_mean_squared_error: 0.0013\n",
      "Epoch 84/90\n",
      "83/83 [==============================] - 0s 2ms/step - loss: 0.0236 - mean_squared_error: 8.4618e-04 - val_loss: 0.0432 - val_mean_squared_error: 0.0028\n",
      "Epoch 85/90\n",
      "83/83 [==============================] - 0s 2ms/step - loss: 0.0371 - mean_squared_error: 0.0019 - val_loss: 0.0381 - val_mean_squared_error: 0.0021\n",
      "Epoch 86/90\n",
      "83/83 [==============================] - 0s 2ms/step - loss: 0.0289 - mean_squared_error: 0.0014 - val_loss: 0.0246 - val_mean_squared_error: 9.6406e-04\n",
      "Epoch 87/90\n",
      "83/83 [==============================] - 0s 2ms/step - loss: 0.0232 - mean_squared_error: 8.9793e-04 - val_loss: 0.0258 - val_mean_squared_error: 0.0013\n",
      "Epoch 88/90\n",
      "83/83 [==============================] - 0s 2ms/step - loss: 0.0251 - mean_squared_error: 9.6237e-04 - val_loss: 0.0259 - val_mean_squared_error: 0.0011\n",
      "Epoch 89/90\n",
      "83/83 [==============================] - 0s 2ms/step - loss: 0.0285 - mean_squared_error: 0.0013 - val_loss: 0.0553 - val_mean_squared_error: 0.0044\n",
      "Epoch 90/90\n",
      "83/83 [==============================] - 0s 2ms/step - loss: 0.0447 - mean_squared_error: 0.0031 - val_loss: 0.0353 - val_mean_squared_error: 0.0019\n"
     ]
    },
    {
     "data": {
      "text/plain": [
       "<keras.callbacks.History at 0x117b52f98>"
      ]
     },
     "execution_count": 14,
     "metadata": {},
     "output_type": "execute_result"
    }
   ],
   "source": [
    "# decoder.fit(x_train, y_train, epochs=epochs, batch_size=batch_size, callbacks=[TensorBoard(log_dir=config.tmp_log_dir)])\n",
    "encoder.fit(x_train, y_train, epochs=epochs, batch_size=batch_size,\n",
    "          validation_split=1/6, callbacks=[TensorBoard(log_dir=config.tmp_log_dir)])"
   ]
  },
  {
   "cell_type": "code",
   "execution_count": 15,
   "metadata": {},
   "outputs": [
    {
     "data": {
      "text/plain": [
       "(10, 1)"
      ]
     },
     "execution_count": 15,
     "metadata": {},
     "output_type": "execute_result"
    }
   ],
   "source": [
    "x_test.shape"
   ]
  },
  {
   "cell_type": "code",
   "execution_count": 16,
   "metadata": {},
   "outputs": [
    {
     "data": {
      "text/plain": [
       "array([0.93307394], dtype=float32)"
      ]
     },
     "execution_count": 16,
     "metadata": {},
     "output_type": "execute_result"
    }
   ],
   "source": [
    "results = encoder.predict(x_test)\n",
    "results[0]"
   ]
  },
  {
   "cell_type": "code",
   "execution_count": 17,
   "metadata": {},
   "outputs": [
    {
     "data": {
      "text/plain": [
       "(10, 1)"
      ]
     },
     "execution_count": 17,
     "metadata": {},
     "output_type": "execute_result"
    }
   ],
   "source": [
    "results.shape"
   ]
  },
  {
   "cell_type": "code",
   "execution_count": 18,
   "metadata": {},
   "outputs": [
    {
     "data": {
      "text/plain": [
       "array([[0.93307394],\n",
       "       [0.1584001 ],\n",
       "       [0.90249926]], dtype=float32)"
      ]
     },
     "execution_count": 18,
     "metadata": {},
     "output_type": "execute_result"
    }
   ],
   "source": [
    "results[:3]"
   ]
  },
  {
   "cell_type": "code",
   "execution_count": 19,
   "metadata": {},
   "outputs": [
    {
     "data": {
      "text/plain": [
       "array([[0.91922204],\n",
       "       [0.06769889],\n",
       "       [0.89421984]])"
      ]
     },
     "execution_count": 19,
     "metadata": {},
     "output_type": "execute_result"
    }
   ],
   "source": [
    "y_test[:3]"
   ]
  },
  {
   "cell_type": "code",
   "execution_count": 35,
   "metadata": {},
   "outputs": [],
   "source": [
    "n2 = 100\n",
    "f = 1\n",
    "xs = np.arange(n2)/100.0\n",
    "y_true = np.sin(xs * 1*np.pi * f)\n",
    "y_pred = encoder.predict(xs.reshape(n2,1)).reshape(n2)"
   ]
  },
  {
   "cell_type": "code",
   "execution_count": 41,
   "metadata": {},
   "outputs": [
    {
     "data": {
      "text/plain": [
       "[<matplotlib.lines.Line2D at 0x11da97ef0>]"
      ]
     },
     "execution_count": 41,
     "metadata": {},
     "output_type": "execute_result"
    },
    {
     "data": {
      "image/png": "[encoded data removed]",
      "text/plain": [
       "<matplotlib.figure.Figure at 0x11c36d470>"
      ]
     },
     "metadata": {},
     "output_type": "display_data"
    }
   ],
   "source": [
    "plt.plot(xs,y_true)"
   ]
  },
  {
   "cell_type": "code",
   "execution_count": 40,
   "metadata": {},
   "outputs": [
    {
     "data": {
      "text/plain": [
       "[<matplotlib.lines.Line2D at 0x11d92ce80>]"
      ]
     },
     "execution_count": 40,
     "metadata": {},
     "output_type": "execute_result"
    },
    {
     "data": {
      "image/png": "[encoded data removed]",
      "text/plain": [
       "<matplotlib.figure.Figure at 0x11c442e48>"
      ]
     },
     "metadata": {},
     "output_type": "display_data"
    }
   ],
   "source": [
    "plt.plot(xs,y_pred)"
   ]
  },
  {
   "cell_type": "code",
   "execution_count": 55,
   "metadata": {},
   "outputs": [],
   "source": [
    "n2 = 100\n",
    "xs = np.arange(n2)/100.0 * 4\n",
    "y_true = np.sin(xs * 1*np.pi * f)\n",
    "y_pred = encoder.predict(xs.reshape(n2,1)).reshape(n2)"
   ]
  },
  {
   "cell_type": "code",
   "execution_count": 56,
   "metadata": {},
   "outputs": [
    {
     "data": {
      "text/plain": [
       "[<matplotlib.lines.Line2D at 0x11e324f60>]"
      ]
     },
     "execution_count": 56,
     "metadata": {},
     "output_type": "execute_result"
    },
    {
     "data": {
      "image/png": "[encoded data removed]",
      "text/plain": [
       "<matplotlib.figure.Figure at 0x11e20c390>"
      ]
     },
     "metadata": {},
     "output_type": "display_data"
    }
   ],
   "source": [
    "plt.plot(xs,y_true)"
   ]
  },
  {
   "cell_type": "code",
   "execution_count": 57,
   "metadata": {},
   "outputs": [
    {
     "data": {
      "text/plain": [
       "[<matplotlib.lines.Line2D at 0x11e29f400>]"
      ]
     },
     "execution_count": 57,
     "metadata": {},
     "output_type": "execute_result"
    },
    {
     "data": {
      "image/png": "[encoded data removed]",
      "text/plain": [
       "<matplotlib.figure.Figure at 0x11e3a78d0>"
      ]
     },
     "metadata": {},
     "output_type": "display_data"
    }
   ],
   "source": [
    "plt.plot(xs,y_pred)"
   ]
  },
  {
   "cell_type": "code",
   "execution_count": null,
   "metadata": {},
   "outputs": [],
   "source": []
  },
  {
   "cell_type": "code",
   "execution_count": null,
   "metadata": {},
   "outputs": [],
   "source": []
  }
 ],
 "metadata": {
  "kernelspec": {
   "display_name": "Python 3",
   "language": "python",
   "name": "python3"
  },
  "language_info": {
   "codemirror_mode": {
    "name": "ipython",
    "version": 3
   },
   "file_extension": ".py",
   "mimetype": "text/x-python",
   "name": "python",
   "nbconvert_exporter": "python",
   "pygments_lexer": "ipython3",
   "version": "3.6.4"
  }
 },
 "nbformat": 4,
 "nbformat_minor": 2
}
