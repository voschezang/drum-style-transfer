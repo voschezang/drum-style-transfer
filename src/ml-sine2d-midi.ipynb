{
 "cells": [
  {
   "cell_type": "code",
   "execution_count": 1,
   "metadata": {},
   "outputs": [],
   "source": [
    "import config\n",
    "import os, numpy as np, pandas, sklearn, scipy.signal as signal\n",
    "import mido\n",
    "import matplotlib.pyplot as plt\n",
    "%matplotlib inline"
   ]
  },
  {
   "cell_type": "code",
   "execution_count": 2,
   "metadata": {},
   "outputs": [
    {
     "name": "stderr",
     "output_type": "stream",
     "text": [
      "/Library/Frameworks/Python.framework/Versions/3.6/lib/python3.6/site-packages/h5py/__init__.py:36: FutureWarning: Conversion of the second argument of issubdtype from `float` to `np.floating` is deprecated. In future, it will be treated as `np.float64 == np.dtype(float).type`.\n",
      "  from ._conv import register_converters as _register_converters\n",
      "Using TensorFlow backend.\n"
     ]
    }
   ],
   "source": [
    "## NN libs\n",
    "from sklearn.decomposition import PCA\n",
    "from sklearn import preprocessing\n",
    "from sklearn.preprocessing import RobustScaler\n",
    "import keras\n",
    "from keras import regularizers\n",
    "from keras.utils import to_categorical\n",
    "from keras.models import Sequential\n",
    "from keras.optimizers import SGD, Adam\n",
    "from keras.layers import Input, Dense, Activation, Conv1D, Conv2D, Dropout, Flatten\n",
    "from keras.layers import Conv2DTranspose, Reshape, MaxPooling2D, UpSampling2D, UpSampling1D, MaxPooling1D\n",
    "from keras.layers import LocallyConnected1D, LocallyConnected2D\n",
    "from keras.layers import Input, LSTM, RepeatVector\n",
    "from keras.models import Model\n",
    "from keras.callbacks import TensorBoard"
   ]
  },
  {
   "cell_type": "code",
   "execution_count": 3,
   "metadata": {},
   "outputs": [
    {
     "name": "stdout",
     "output_type": "stream",
     "text": [
      " Context :: namedtuple(\n",
      "[ max_t = float\n",
      ", dt = float\n",
      ", n_instances = int\n",
      ", note_length = int\n",
      ", bpm = float\n",
      ", tempo = float\n",
      ", ticks_per_beat = int\n",
      "]\n",
      "\n"
     ]
    }
   ],
   "source": [
    "# local libs\n",
    "import config, models, functions\n",
    "from data import data, midi, midi_generators as g\n",
    "from utils import io, models_io, utils"
   ]
  },
  {
   "cell_type": "code",
   "execution_count": 4,
   "metadata": {
    "scrolled": true
   },
   "outputs": [
    {
     "name": "stdout",
     "output_type": "stream",
     "text": [
      "Setting up params\n",
      "\n",
      "max min f 25.0 0.1\n",
      " >> Context(max_t=10.0, dt=0.02, n_instances=500, note_length=0.03, bpm=120.0, tempo=500000, ticks_per_beat=480)\n"
     ]
    }
   ],
   "source": [
    "context = data.init()"
   ]
  },
  {
   "cell_type": "markdown",
   "metadata": {},
   "source": [
    "## Setup a generator\n",
    "\n",
    "1. What is the least amount of 'hidden' nodes needed to learn a straight rythm (e.g. 8th notes with different frequencies)\n",
    "2. Can we create a model of a generic function sin(2 pi f t + phase)\n",
    "    - using x: t -> y: sin(2p t)\n",
    "    - using x: [f, t, phase] -> y: sin(2p f t + phase)\n",
    "    - using x: sin([t1, t2, t3) -> y: [f, t, phase]\n",
    "        - such a model should be able to learn complex patterns, such as sin(f1+p1) + sin(f2+p2) + sin(f3+p3)"
   ]
  },
  {
   "cell_type": "code",
   "execution_count": 5,
   "metadata": {},
   "outputs": [
    {
     "name": "stdout",
     "output_type": "stream",
     "text": [
      "\u001b[91m [DEBUG] > \u001b[0m\n",
      " |>  min_f < max_f\n",
      "\u001b[91m [DEBUG] > \u001b[0m\n",
      " |>  WARNING\n",
      " |>  type not == 0\n",
      "\u001b[91m [DEBUG] > \u001b[0m\n",
      " |>  WARNING\n",
      " |>  type not == 0\n",
      "\u001b[91m [DEBUG] > \u001b[0m\n",
      " |>  WARNING\n",
      " |>  type not == 0\n",
      "\u001b[91m [DEBUG] > \u001b[0m\n",
      " |>  WARNING\n",
      " |>  type not == 0\n",
      "\u001b[91m [DEBUG] > \u001b[0m\n",
      " |>  WARNING\n",
      " |>  type not == 0\n",
      "\u001b[91m [DEBUG] > \u001b[0m\n",
      " |>  WARNING\n",
      " |>  type not == 0\n",
      "\u001b[91m [DEBUG] > \u001b[0m\n",
      " |>  WARNING\n",
      " |>  type not == 0\n",
      "\u001b[91m [DEBUG] > \u001b[0m\n",
      " |>  WARNING\n",
      " |>  type not == 0\n",
      "\u001b[91m [DEBUG] > \u001b[0m\n",
      " |>  WARNING\n",
      " |>  type not == 0\n",
      "\u001b[91m [DEBUG] > \u001b[0m\n",
      " |>  WARNING\n",
      " |>  type not == 0\n",
      "\u001b[91m [DEBUG] > \u001b[0m\n",
      " |>  to_array: msg.time > max_t; t, n\n",
      " |>  10.004166666666666\n",
      " |>  500\n",
      "\u001b[91m [DEBUG] > \u001b[0m\n",
      " |>  WARNING\n",
      " |>  type not == 0\n",
      "\u001b[91m [DEBUG] > \u001b[0m\n",
      " |>  WARNING\n",
      " |>  type not == 0\n",
      "\u001b[91m [DEBUG] > \u001b[0m\n",
      " |>  WARNING\n",
      " |>  type not == 0\n",
      "\u001b[91m [DEBUG] > \u001b[0m\n",
      " |>  WARNING\n",
      " |>  type not == 0\n",
      "\u001b[91m [DEBUG] > \u001b[0m\n",
      " |>  WARNING\n",
      " |>  type not == 0\n",
      "\u001b[91m [DEBUG] > \u001b[0m\n",
      " |>  WARNING\n",
      " |>  type not == 0\n",
      "\u001b[91m [DEBUG] > \u001b[0m\n",
      " |>  WARNING\n",
      " |>  type not == 0\n",
      "\u001b[91m [DEBUG] > \u001b[0m\n",
      " |>  WARNING\n",
      " |>  type not == 0\n",
      "\u001b[91m [DEBUG] > \u001b[0m\n",
      " |>  WARNING\n",
      " |>  type not == 0\n",
      "\u001b[91m [DEBUG] > \u001b[0m\n",
      " |>  WARNING\n",
      " |>  type not == 0\n",
      "\u001b[91m [DEBUG] > \u001b[0m\n",
      " |>  WARNING\n",
      " |>  type not == 0\n",
      "\u001b[91m [DEBUG] > \u001b[0m\n",
      " |>  WARNING\n",
      " |>  type not == 0\n",
      "\u001b[91m [DEBUG] > \u001b[0m\n",
      " |>  WARNING\n",
      " |>  type not == 0\n",
      "\u001b[91m [DEBUG] > \u001b[0m\n",
      " |>  WARNING\n",
      " |>  type not == 0\n",
      "\u001b[91m [DEBUG] > \u001b[0m\n",
      " |>  WARNING\n",
      " |>  type not == 0\n",
      "\u001b[91m [DEBUG] > \u001b[0m\n",
      " |>  WARNING\n",
      " |>  type not == 0\n",
      "\u001b[91m [DEBUG] > \u001b[0m\n",
      " |>  WARNING\n",
      " |>  type not == 0\n",
      "\u001b[91m [DEBUG] > \u001b[0m\n",
      " |>  WARNING\n",
      " |>  type not == 0\n",
      "\u001b[91m [DEBUG] > \u001b[0m\n",
      " |>  WARNING\n",
      " |>  type not == 0\n",
      "\u001b[91m [DEBUG] > \u001b[0m\n",
      " |>  WARNING\n",
      " |>  type not == 0\n",
      "\u001b[91m [DEBUG] > \u001b[0m\n",
      " |>  WARNING\n",
      " |>  type not == 0\n",
      "\u001b[91m [DEBUG] > \u001b[0m\n",
      " |>  WARNING\n",
      " |>  type not == 0\n",
      "\u001b[91m [DEBUG] > \u001b[0m\n",
      " |>  WARNING\n",
      " |>  type not == 0\n",
      "\u001b[91m [DEBUG] > \u001b[0m\n",
      " |>  WARNING\n",
      " |>  type not == 0\n",
      "\u001b[91m [DEBUG] > \u001b[0m\n",
      " |>  WARNING\n",
      " |>  type not == 0\n",
      "\u001b[91m [DEBUG] > \u001b[0m\n",
      " |>  WARNING\n",
      " |>  type not == 0\n",
      "\u001b[91m [DEBUG] > \u001b[0m\n",
      " |>  WARNING\n",
      " |>  type not == 0\n",
      "\u001b[91m [DEBUG] > \u001b[0m\n",
      " |>  WARNING\n",
      " |>  type not == 0\n",
      "\u001b[91m [DEBUG] > \u001b[0m\n",
      " |>  WARNING\n",
      " |>  type not == 0\n",
      "\u001b[91m [DEBUG] > \u001b[0m\n",
      " |>  WARNING\n",
      " |>  type not == 0\n",
      "\u001b[91m [DEBUG] > \u001b[0m\n",
      " |>  WARNING\n",
      " |>  type not == 0\n",
      "\u001b[91m [DEBUG] > \u001b[0m\n",
      " |>  WARNING\n",
      " |>  type not == 0\n",
      "\u001b[91m [DEBUG] > \u001b[0m\n",
      " |>  WARNING\n",
      " |>  type not == 0\n",
      "\u001b[91m [DEBUG] > \u001b[0m\n",
      " |>  WARNING\n",
      " |>  type not == 0\n",
      "\u001b[91m [DEBUG] > \u001b[0m\n",
      " |>  WARNING\n",
      " |>  type not == 0\n",
      "\u001b[91m [DEBUG] > \u001b[0m\n",
      " |>  WARNING\n",
      " |>  type not == 0\n",
      "\u001b[91m [DEBUG] > \u001b[0m\n",
      " |>  to_array: msg.time > max_t; t, n\n",
      " |>  9.998958333333333\n",
      " |>  500\n",
      "\u001b[91m [DEBUG] > \u001b[0m\n",
      " |>  WARNING\n",
      " |>  type not == 0\n",
      "\u001b[91m [DEBUG] > \u001b[0m\n",
      " |>  WARNING\n",
      " |>  type not == 0\n",
      "\u001b[91m [DEBUG] > \u001b[0m\n",
      " |>  WARNING\n",
      " |>  type not == 0\n",
      "\u001b[91m [DEBUG] > \u001b[0m\n",
      " |>  WARNING\n",
      " |>  type not == 0\n",
      "\u001b[91m [DEBUG] > \u001b[0m\n",
      " |>  WARNING\n",
      " |>  type not == 0\n",
      "\u001b[91m [DEBUG] > \u001b[0m\n",
      " |>  WARNING\n",
      " |>  type not == 0\n",
      "\u001b[91m [DEBUG] > \u001b[0m\n",
      " |>  WARNING\n",
      " |>  type not == 0\n",
      "\u001b[91m [DEBUG] > \u001b[0m\n",
      " |>  WARNING\n",
      " |>  type not == 0\n",
      "\u001b[91m [DEBUG] > \u001b[0m\n",
      " |>  WARNING\n",
      " |>  type not == 0\n",
      "\u001b[91m [DEBUG] > \u001b[0m\n",
      " |>  WARNING\n",
      " |>  type not == 0\n",
      "\u001b[91m [DEBUG] > \u001b[0m\n",
      " |>  WARNING\n",
      " |>  type not == 0\n",
      "\u001b[91m [DEBUG] > \u001b[0m\n",
      " |>  WARNING\n",
      " |>  type not == 0\n",
      "\u001b[91m [DEBUG] > \u001b[0m\n",
      " |>  WARNING\n",
      " |>  type not == 0\n",
      "\u001b[91m [DEBUG] > \u001b[0m\n",
      " |>  WARNING\n",
      " |>  type not == 0\n",
      "\u001b[91m [DEBUG] > \u001b[0m\n",
      " |>  WARNING\n",
      " |>  type not == 0\n",
      "\u001b[91m [DEBUG] > \u001b[0m\n",
      " |>  WARNING\n",
      " |>  type not == 0\n",
      "\u001b[91m [DEBUG] > \u001b[0m\n",
      " |>  WARNING\n",
      " |>  type not == 0\n",
      "\u001b[91m [DEBUG] > \u001b[0m\n",
      " |>  WARNING\n",
      " |>  type not == 0\n",
      "\u001b[91m [DEBUG] > \u001b[0m\n",
      " |>  WARNING\n",
      " |>  type not == 0\n",
      "\u001b[91m [DEBUG] > \u001b[0m\n",
      " |>  WARNING\n",
      " |>  type not == 0\n",
      "\u001b[91m [DEBUG] > \u001b[0m\n",
      " |>  WARNING\n",
      " |>  type not == 0\n",
      "\u001b[91m [DEBUG] > \u001b[0m\n",
      " |>  WARNING\n",
      " |>  type not == 0\n",
      "\u001b[91m [DEBUG] > \u001b[0m\n",
      " |>  WARNING\n",
      " |>  type not == 0\n",
      "\u001b[91m [DEBUG] > \u001b[0m\n",
      " |>  WARNING\n",
      " |>  type not == 0\n",
      "\u001b[91m [DEBUG] > \u001b[0m\n",
      " |>  WARNING\n",
      " |>  type not == 0\n",
      "\u001b[91m [DEBUG] > \u001b[0m\n",
      " |>  WARNING\n",
      " |>  type not == 0\n",
      "\u001b[91m [DEBUG] > \u001b[0m\n",
      " |>  WARNING\n",
      " |>  type not == 0\n",
      "\u001b[91m [DEBUG] > \u001b[0m\n",
      " |>  WARNING\n",
      " |>  type not == 0\n",
      "\u001b[91m [DEBUG] > \u001b[0m\n",
      " |>  WARNING\n",
      " |>  type not == 0\n",
      "\u001b[91m [DEBUG] > \u001b[0m\n",
      " |>  WARNING\n",
      " |>  type not == 0\n",
      "\u001b[91m [DEBUG] > \u001b[0m\n",
      " |>  WARNING\n",
      " |>  type not == 0\n",
      "\u001b[91m [DEBUG] > \u001b[0m\n",
      " |>  WARNING\n",
      " |>  type not == 0\n",
      "\u001b[91m [DEBUG] > \u001b[0m\n",
      " |>  WARNING\n",
      " |>  type not == 0\n",
      "\u001b[91m [DEBUG] > \u001b[0m\n",
      " |>  WARNING\n",
      " |>  type not == 0\n",
      "\u001b[91m [DEBUG] > \u001b[0m\n",
      " |>  WARNING\n",
      " |>  type not == 0\n",
      "\u001b[91m [DEBUG] > \u001b[0m\n",
      " |>  WARNING\n",
      " |>  type not == 0\n",
      "\u001b[91m [DEBUG] > \u001b[0m\n",
      " |>  WARNING\n",
      " |>  type not == 0\n",
      "\u001b[91m [DEBUG] > \u001b[0m\n",
      " |>  WARNING\n",
      " |>  type not == 0\n",
      "\u001b[91m [DEBUG] > \u001b[0m\n",
      " |>  WARNING\n",
      " |>  type not == 0\n",
      "\u001b[91m [DEBUG] > \u001b[0m\n",
      " |>  WARNING\n",
      " |>  type not == 0\n",
      "\u001b[91m [DEBUG] > \u001b[0m\n",
      " |>  WARNING\n",
      " |>  type not == 0\n",
      "\u001b[91m [DEBUG] > \u001b[0m\n",
      " |>  WARNING\n",
      " |>  type not == 0\n",
      "\u001b[91m [DEBUG] > \u001b[0m\n",
      " |>  WARNING\n",
      " |>  type not == 0\n",
      "\u001b[91m [DEBUG] > \u001b[0m\n",
      " |>  WARNING\n",
      " |>  type not == 0\n",
      "\u001b[91m [DEBUG] > \u001b[0m\n",
      " |>  WARNING\n",
      " |>  type not == 0\n",
      "\u001b[91m [DEBUG] > \u001b[0m\n",
      " |>  WARNING\n",
      " |>  type not == 0\n",
      "\u001b[91m [DEBUG] > \u001b[0m\n",
      " |>  WARNING\n",
      " |>  type not == 0\n",
      "\u001b[91m [DEBUG] > \u001b[0m\n",
      " |>  WARNING\n",
      " |>  type not == 0\n",
      "\u001b[91m [DEBUG] > \u001b[0m\n",
      " |>  WARNING\n",
      " |>  type not == 0\n",
      "\u001b[91m [DEBUG] > \u001b[0m\n",
      " |>  WARNING\n",
      " |>  type not == 0\n",
      "\u001b[91m [DEBUG] > \u001b[0m\n",
      " |>  WARNING\n",
      " |>  type not == 0\n",
      "\u001b[91m [DEBUG] > \u001b[0m\n",
      " |>  WARNING\n",
      " |>  type not == 0\n",
      "\u001b[91m [DEBUG] > \u001b[0m\n",
      " |>  WARNING\n",
      " |>  type not == 0\n",
      "\u001b[91m [DEBUG] > \u001b[0m\n",
      " |>  WARNING\n",
      " |>  type not == 0\n"
     ]
    }
   ],
   "source": [
    "n = 100\n",
    "fs = np.repeat(1, n)\n",
    "fs = None\n",
    "x_train = g.gen_data(context, n, fs=fs)\n",
    "# x_train = np.zeros([10,100,127])\n",
    "y_train = x_train[:,-1]\n",
    "x_train = x_train[:,:-1]"
   ]
  },
  {
   "cell_type": "code",
   "execution_count": 6,
   "metadata": {},
   "outputs": [
    {
     "data": {
      "text/plain": [
       "(100, 499, 4)"
      ]
     },
     "execution_count": 6,
     "metadata": {},
     "output_type": "execute_result"
    }
   ],
   "source": [
    "x_train.shape"
   ]
  },
  {
   "cell_type": "code",
   "execution_count": 7,
   "metadata": {
    "scrolled": true
   },
   "outputs": [
    {
     "data": {
      "text/plain": [
       "[<matplotlib.lines.Line2D at 0x117cd9d68>,\n",
       " <matplotlib.lines.Line2D at 0x117cd9f60>,\n",
       " <matplotlib.lines.Line2D at 0x117ce80f0>,\n",
       " <matplotlib.lines.Line2D at 0x117ce8240>]"
      ]
     },
     "execution_count": 7,
     "metadata": {},
     "output_type": "execute_result"
    },
    {
     "data": {
      "image/png": "[encoded data removed]",
      "text/plain": [
       "<matplotlib.figure.Figure at 0x117a26518>"
      ]
     },
     "metadata": {},
     "output_type": "display_data"
    }
   ],
   "source": [
    "plt.plot(x_train[0,:,:10])"
   ]
  },
  {
   "cell_type": "code",
   "execution_count": 8,
   "metadata": {},
   "outputs": [
    {
     "data": {
      "text/plain": [
       "(499, 4)"
      ]
     },
     "execution_count": 8,
     "metadata": {},
     "output_type": "execute_result"
    }
   ],
   "source": [
    "n_samples = x_train[0]\n",
    "input_shape = x_train.shape[1:] # shape of a single sample\n",
    "output_shape = y_train[0].shape # shape of a single sample\n",
    "# output_length = y_train.shape[1:][0]\n",
    "hidden_layer_length = 10\n",
    "input_shape"
   ]
  },
  {
   "cell_type": "code",
   "execution_count": 9,
   "metadata": {},
   "outputs": [
    {
     "data": {
      "text/plain": [
       "(4,)"
      ]
     },
     "execution_count": 9,
     "metadata": {},
     "output_type": "execute_result"
    }
   ],
   "source": [
    "output_shape"
   ]
  },
  {
   "cell_type": "code",
   "execution_count": 10,
   "metadata": {},
   "outputs": [
    {
     "name": "stdout",
     "output_type": "stream",
     "text": [
      "n_categories = 4\n",
      "w = 4\n",
      "_________________________________________________________________\n",
      "Layer (type)                 Output Shape              Param #   \n",
      "=================================================================\n",
      "input_1 (InputLayer)         (None, None, 4)           0         \n",
      "_________________________________________________________________\n",
      "lstm_1 (LSTM)                (None, None, 128)         68096     \n",
      "_________________________________________________________________\n",
      "dropout_1 (Dropout)          (None, None, 128)         0         \n",
      "_________________________________________________________________\n",
      "lstm_2 (LSTM)                (None, 128)               131584    \n",
      "_________________________________________________________________\n",
      "dropout_2 (Dropout)          (None, 128)               0         \n",
      "_________________________________________________________________\n",
      "dense_1 (Dense)              (None, 4)                 516       \n",
      "=================================================================\n",
      "Total params: 200,196\n",
      "Trainable params: 200,196\n",
      "Non-trainable params: 0\n",
      "_________________________________________________________________\n"
     ]
    }
   ],
   "source": [
    "def model(input_shape, output_shape):\n",
    "    n_categories = input_shape[-1]\n",
    "    print('n_categories =', n_categories)\n",
    "#     input_layer = Input(shape=input_shape)\n",
    "    # input shape = (None, None, 1)\n",
    "    # thus: unfixed n samples, unfixed n timesteps, 1 float value\n",
    "    input_layer = Input(shape=(None, n_categories))\n",
    "    x = input_layer\n",
    "    \n",
    "    hidden_size = 128\n",
    "    x = LSTM(128, return_sequences=True)(x)\n",
    "    x = Dropout(0.2)(x)\n",
    "    x = LSTM(hidden_size, return_state=False, return_sequences=False)(x)\n",
    "    x = Dropout(0.2)(x)\n",
    "    \n",
    "    w = np.prod(output_shape)\n",
    "    print('w =',w)\n",
    "    w = 100\n",
    "#     x = Dense(w, activation='relu')(x)\n",
    "\n",
    "    x = Dense(np.prod(output_shape), activation='sigmoid')(x)\n",
    "#     x = Reshape(output_shape)(x)\n",
    "    model = Model(inputs=input_layer, outputs=x)\n",
    "    return model\n",
    "\n",
    "model = model(input_shape, output_shape)\n",
    "model.summary()"
   ]
  },
  {
   "cell_type": "code",
   "execution_count": 20,
   "metadata": {},
   "outputs": [],
   "source": [
    "metrics = ['accuracy','mse','binary_crossentropy'] # sparse_categorical_accuracy\n",
    "loss = 'categorical_crossentropy'# binary_crossentropy categorical_crossentropy sparse_categorical_crossentropy\n",
    "optimizer = 'adadelta'\n",
    "model.compile(optimizer=optimizer, loss=loss, metrics=['mse', 'mae'])#, metrics=metrics)"
   ]
  },
  {
   "cell_type": "code",
   "execution_count": 21,
   "metadata": {},
   "outputs": [],
   "source": [
    "batch_size = 12\n",
    "# n epochs = n iterations over all the training data\n",
    "epochs = 6"
   ]
  },
  {
   "cell_type": "code",
   "execution_count": 22,
   "metadata": {
    "scrolled": true
   },
   "outputs": [
    {
     "name": "stdout",
     "output_type": "stream",
     "text": [
      "Train on 83 samples, validate on 17 samples\n",
      "Epoch 1/6\n",
      "83/83 [==============================] - 6s 68ms/step - loss: 0.0333 - mean_squared_error: 0.2497 - mean_absolute_error: 0.4997 - val_loss: 0.0000e+00 - val_mean_squared_error: 0.2494 - val_mean_absolute_error: 0.4994\n",
      "Epoch 2/6\n",
      "83/83 [==============================] - 5s 64ms/step - loss: 0.0329 - mean_squared_error: 0.2491 - mean_absolute_error: 0.4990 - val_loss: 0.0000e+00 - val_mean_squared_error: 0.2487 - val_mean_absolute_error: 0.4986\n",
      "Epoch 3/6\n",
      "83/83 [==============================] - 5s 65ms/step - loss: 0.0324 - mean_squared_error: 0.2484 - mean_absolute_error: 0.4982 - val_loss: 0.0000e+00 - val_mean_squared_error: 0.2481 - val_mean_absolute_error: 0.4978\n",
      "Epoch 4/6\n",
      "83/83 [==============================] - 6s 76ms/step - loss: 0.0320 - mean_squared_error: 0.2474 - mean_absolute_error: 0.4970 - val_loss: 0.0000e+00 - val_mean_squared_error: 0.2479 - val_mean_absolute_error: 0.4974\n",
      "Epoch 5/6\n",
      "83/83 [==============================] - 6s 77ms/step - loss: 0.0316 - mean_squared_error: 0.2473 - mean_absolute_error: 0.4968 - val_loss: 0.0000e+00 - val_mean_squared_error: 0.2469 - val_mean_absolute_error: 0.4961\n",
      "Epoch 6/6\n",
      "83/83 [==============================] - 6s 76ms/step - loss: 0.0311 - mean_squared_error: 0.2464 - mean_absolute_error: 0.4955 - val_loss: 0.0000e+00 - val_mean_squared_error: 0.2466 - val_mean_absolute_error: 0.4954\n"
     ]
    },
    {
     "data": {
      "text/plain": [
       "<keras.callbacks.History at 0x11d200240>"
      ]
     },
     "execution_count": 22,
     "metadata": {},
     "output_type": "execute_result"
    }
   ],
   "source": [
    "# decoder.fit(x_train, y_train, epochs=epochs, batch_size=batch_size, callbacks=[TensorBoard(log_dir=config.tmp_log_dir)])\n",
    "model.fit(x_train, y_train, epochs=epochs, batch_size=batch_size,\n",
    "          validation_split=1/6, callbacks=[TensorBoard(log_dir=config.tmp_log_dir)])"
   ]
  },
  {
   "cell_type": "code",
   "execution_count": 23,
   "metadata": {},
   "outputs": [
    {
     "data": {
      "text/plain": [
       "[<matplotlib.lines.Line2D at 0x1213d2ac8>]"
      ]
     },
     "execution_count": 23,
     "metadata": {},
     "output_type": "execute_result"
    },
    {
     "data": {
      "image/png": "[encoded data removed]",
      "text/plain": [
       "<matplotlib.figure.Figure at 0x11d216320>"
      ]
     },
     "metadata": {},
     "output_type": "display_data"
    }
   ],
   "source": [
    "i = 0\n",
    "# full = np.concatenate([x_test[i,-selection:],results[i]])\n",
    "# n3 = full.shape[0]\n",
    "plt.plot(x_train[0,:,3])"
   ]
  },
  {
   "cell_type": "code",
   "execution_count": 24,
   "metadata": {
    "scrolled": true
   },
   "outputs": [],
   "source": [
    "x = x_train[0,:250]\n",
    "for _ in range(250):\n",
    "    results = model.predict(np.stack([x[:]]))\n",
    "    last_value = results[0]\n",
    "    x = np.concatenate([x, [last_value]])"
   ]
  },
  {
   "cell_type": "code",
   "execution_count": 25,
   "metadata": {},
   "outputs": [
    {
     "data": {
      "text/plain": [
       "(100, 499, 4)"
      ]
     },
     "execution_count": 25,
     "metadata": {},
     "output_type": "execute_result"
    }
   ],
   "source": [
    "x_train.shape"
   ]
  },
  {
   "cell_type": "code",
   "execution_count": 26,
   "metadata": {},
   "outputs": [
    {
     "data": {
      "text/plain": [
       "[<matplotlib.lines.Line2D at 0x12ab779b0>,\n",
       " <matplotlib.lines.Line2D at 0x12ab778d0>,\n",
       " <matplotlib.lines.Line2D at 0x12ab77c18>,\n",
       " <matplotlib.lines.Line2D at 0x12ab77cf8>]"
      ]
     },
     "execution_count": 26,
     "metadata": {},
     "output_type": "execute_result"
    },
    {
     "data": {
      "image/png": "[encoded data removed]",
      "text/plain": [
       "<matplotlib.figure.Figure at 0x12135e278>"
      ]
     },
     "metadata": {},
     "output_type": "display_data"
    }
   ],
   "source": [
    "plt.plot(x)"
   ]
  },
  {
   "cell_type": "code",
   "execution_count": null,
   "metadata": {},
   "outputs": [],
   "source": []
  },
  {
   "cell_type": "code",
   "execution_count": null,
   "metadata": {},
   "outputs": [],
   "source": []
  },
  {
   "cell_type": "code",
   "execution_count": null,
   "metadata": {},
   "outputs": [],
   "source": []
  },
  {
   "cell_type": "code",
   "execution_count": null,
   "metadata": {},
   "outputs": [],
   "source": [
    "i = 2\n",
    "selection = int(x_test.shape[1] * 1)\n",
    "full = np.concatenate([x_test[i,-selection:],results[i]])\n",
    "n3 = full.shape[0]\n",
    "plt.plot(np.arange(n3) / n3 * dt, full)"
   ]
  },
  {
   "cell_type": "code",
   "execution_count": null,
   "metadata": {},
   "outputs": [],
   "source": [
    "results = predict_point_by_point(encoder, x_train)\n",
    "plt.plot(results[0])"
   ]
  },
  {
   "cell_type": "code",
   "execution_count": null,
   "metadata": {},
   "outputs": [],
   "source": []
  },
  {
   "cell_type": "code",
   "execution_count": null,
   "metadata": {},
   "outputs": [],
   "source": []
  },
  {
   "cell_type": "code",
   "execution_count": null,
   "metadata": {},
   "outputs": [],
   "source": []
  },
  {
   "cell_type": "code",
   "execution_count": null,
   "metadata": {},
   "outputs": [],
   "source": []
  },
  {
   "cell_type": "code",
   "execution_count": null,
   "metadata": {},
   "outputs": [],
   "source": [
    "\n"
   ]
  }
 ],
 "metadata": {
  "kernelspec": {
   "display_name": "Python 3",
   "language": "python",
   "name": "python3"
  },
  "language_info": {
   "codemirror_mode": {
    "name": "ipython",
    "version": 3
   },
   "file_extension": ".py",
   "mimetype": "text/x-python",
   "name": "python",
   "nbconvert_exporter": "python",
   "pygments_lexer": "ipython3",
   "version": "3.6.4"
  }
 },
 "nbformat": 4,
 "nbformat_minor": 2
}
